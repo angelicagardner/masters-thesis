{
 "cells": [
  {
   "cell_type": "markdown",
   "metadata": {},
   "source": [
    "# Baseline Results for Multiclass Classification (pain area in body)"
   ]
  },
  {
   "cell_type": "code",
   "execution_count": 1,
   "metadata": {},
   "outputs": [],
   "source": [
    "import os\n",
    "os.environ['TF_CPP_MIN_LOG_LEVEL'] = '3'\n",
    "import warnings\n",
    "warnings.filterwarnings(\"ignore\")\n",
    "\n",
    "import numpy as np\n",
    "import pandas as pd\n",
    "import matplotlib.pyplot as plt\n",
    "import tensorflow as tf\n",
    "import tensorflow_addons as tfa\n",
    "\n",
    "from sklearn.utils import compute_class_weight\n",
    "from sklearn.metrics import balanced_accuracy_score\n",
    "from sklearn.model_selection import KFold\n",
    "from tensorflow.keras.layers import Input, LSTM, Dense, Concatenate\n",
    "from tensorflow.keras import Model\n",
    "\n",
    "import sys\n",
    "module_path = os.path.abspath(os.getcwd() + '\\\\..')\n",
    "if module_path not in sys.path:\n",
    "    sys.path.append(module_path)\n",
    "from src.data.load_dataset import load_dataset, get_class_names, load_fusioned_dataset\n",
    "from src.lib.DeepStack.deepstack.base import KerasMember\n",
    "from src.lib.DeepStack.deepstack.ensemble import DirichletEnsemble"
   ]
  },
  {
   "cell_type": "code",
   "execution_count": 2,
   "metadata": {},
   "outputs": [],
   "source": [
    "epochs, batch_size = 50, 32\n",
    "kf = KFold(n_splits=3, shuffle=True, random_state=42)\n",
    "\n",
    "results = []\n",
    "\n",
    "early_stopping = tf.keras.callbacks.EarlyStopping(\n",
    "        monitor=\"val_loss\",\n",
    "        patience=10,\n",
    "        restore_best_weights=True,\n",
    "    )"
   ]
  },
  {
   "cell_type": "code",
   "execution_count": 3,
   "metadata": {},
   "outputs": [],
   "source": [
    "class Baseline():\n",
    "    def __init__(self, n_features, n_length, n_outputs):\n",
    "        input = Input(shape=(n_length, n_features))\n",
    "        lstm = LSTM(50)(input)\n",
    "        dense = Dense(50)(lstm)\n",
    "        output = Dense(units=n_outputs, activation='softmax')(dense)\n",
    "        model = Model(inputs=input, outputs=output)\n",
    "        model.compile(loss='categorical_crossentropy', optimizer=tf.keras.optimizers.Adam(learning_rate=0.0001), metrics=['accuracy', tf.keras.metrics.AUC(), tf.keras.metrics.Precision(), tf.keras.metrics.Recall(), tfa.metrics.F1Score(num_classes=n_outputs, average='macro')])\n",
    "        self.model = model\n",
    "\n",
    "    def train(self, X_train, y_train, X_val, y_val, epochs, batch_size, class_weight):\n",
    "        history = self.model.fit(X_train, y_train, validation_data=(X_val, y_val), epochs=epochs, batch_size=batch_size, class_weight=class_weight, verbose=2)\n",
    "        return history\n",
    "\n",
    "    def evaluate(self, X_test, y_test):\n",
    "        results = self.model.evaluate(X_test, y_test, verbose=0)\n",
    "        return results\n",
    "\n",
    "    def predict(self, X_test):\n",
    "        predictions = self.model.predict(X_test)\n",
    "        return predictions\n",
    "\n",
    "    def summary(self):\n",
    "        self.model.summary()"
   ]
  },
  {
   "cell_type": "markdown",
   "metadata": {},
   "source": [
    "## 1. Unimodal Body Modality (Skeleton)"
   ]
  },
  {
   "cell_type": "markdown",
   "metadata": {},
   "source": [
    "### Dataset"
   ]
  },
  {
   "cell_type": "code",
   "execution_count": 4,
   "metadata": {},
   "outputs": [
    {
     "name": "stdout",
     "output_type": "stream",
     "text": [
      "(380, 350, 35) (380, 4)\n",
      "(235, 350, 35) (235, 4)\n"
     ]
    }
   ],
   "source": [
    "X_train, X_test, y_train, y_test = load_dataset('skeleton', nopain=False)\n",
    "X_train = X_train.reshape(X_train.shape[0], X_train.shape[2], X_train.shape[3])\n",
    "X_test = X_test.reshape(X_test.shape[0], X_test.shape[2], X_test.shape[3])\n",
    "X = X_train.copy()\n",
    "y = y_train.copy()\n",
    "\n",
    "print(X_train.shape, y_train.shape)\n",
    "print(X_test.shape, y_test.shape)\n",
    "\n",
    "n_length, n_features, n_outputs = X_train.shape[1], X_train.shape[-1], y_train.shape[1]"
   ]
  },
  {
   "cell_type": "code",
   "execution_count": 5,
   "metadata": {},
   "outputs": [
    {
     "data": {
      "text/plain": [
       "Lower Body       245\n",
       "Back Region       73\n",
       "Upper Body        57\n",
       "Head and Neck      5\n",
       "dtype: int64"
      ]
     },
     "execution_count": 5,
     "metadata": {},
     "output_type": "execute_result"
    }
   ],
   "source": [
    "classes = get_class_names('skeleton', nopain=False)\n",
    "tmp = pd.DataFrame(classes)\n",
    "classes = tmp.value_counts()\n",
    "classes"
   ]
  },
  {
   "cell_type": "code",
   "execution_count": 6,
   "metadata": {},
   "outputs": [
    {
     "data": {
      "text/plain": [
       "{0: 1.3013698630136987, 1: 19.0, 2: 0.3877551020408163, 3: 1.6666666666666667}"
      ]
     },
     "execution_count": 6,
     "metadata": {},
     "output_type": "execute_result"
    }
   ],
   "source": [
    "y_integers = np.argmax(y_train, axis=1)\n",
    "class_weights = compute_class_weight(class_weight='balanced', classes=np.unique(y_integers), y=y_integers)\n",
    "d_class_weights = dict(enumerate(class_weights))\n",
    "d_class_weights"
   ]
  },
  {
   "cell_type": "code",
   "execution_count": 7,
   "metadata": {},
   "outputs": [
    {
     "name": "stdout",
     "output_type": "stream",
     "text": [
      "Model: \"model\"\n",
      "_________________________________________________________________\n",
      " Layer (type)                Output Shape              Param #   \n",
      "=================================================================\n",
      " input_1 (InputLayer)        [(None, 350, 35)]         0         \n",
      "                                                                 \n",
      " lstm (LSTM)                 (None, 50)                17200     \n",
      "                                                                 \n",
      " dense (Dense)               (None, 50)                2550      \n",
      "                                                                 \n",
      " dense_1 (Dense)             (None, 4)                 204       \n",
      "                                                                 \n",
      "=================================================================\n",
      "Total params: 19,954\n",
      "Trainable params: 19,954\n",
      "Non-trainable params: 0\n",
      "_________________________________________________________________\n"
     ]
    }
   ],
   "source": [
    "model = Baseline(n_features, n_length, n_outputs)\n",
    "model.summary()"
   ]
  },
  {
   "cell_type": "markdown",
   "metadata": {},
   "source": [
    "### Baseline Model"
   ]
  },
  {
   "cell_type": "code",
   "execution_count": 8,
   "metadata": {},
   "outputs": [
    {
     "name": "stdout",
     "output_type": "stream",
     "text": [
      "Epoch 1/50\n",
      "8/8 - 4s - loss: 1.9159 - accuracy: 0.3676 - auc_1: 0.6869 - precision_1: 0.2812 - recall_1: 0.1423 - f1_score: 0.1936 - val_loss: 1.2452 - val_accuracy: 0.3622 - val_auc_1: 0.7020 - val_precision_1: 0.3333 - val_recall_1: 0.1575 - val_f1_score: 0.1678 - 4s/epoch - 439ms/step\n",
      "Epoch 2/50\n",
      "8/8 - 1s - loss: 1.8423 - accuracy: 0.3636 - auc_1: 0.6994 - precision_1: 0.3214 - recall_1: 0.1423 - f1_score: 0.1905 - val_loss: 1.2325 - val_accuracy: 0.3465 - val_auc_1: 0.7111 - val_precision_1: 0.3333 - val_recall_1: 0.1417 - val_f1_score: 0.1667 - 886ms/epoch - 111ms/step\n",
      "Epoch 3/50\n",
      "8/8 - 1s - loss: 1.7656 - accuracy: 0.3676 - auc_1: 0.7044 - precision_1: 0.3696 - recall_1: 0.1344 - f1_score: 0.1921 - val_loss: 1.2337 - val_accuracy: 0.3780 - val_auc_1: 0.7110 - val_precision_1: 0.3469 - val_recall_1: 0.1339 - val_f1_score: 0.1817 - 722ms/epoch - 90ms/step\n",
      "Epoch 4/50\n",
      "8/8 - 1s - loss: 1.7328 - accuracy: 0.3794 - auc_1: 0.7117 - precision_1: 0.4177 - recall_1: 0.1304 - f1_score: 0.1972 - val_loss: 1.2285 - val_accuracy: 0.3858 - val_auc_1: 0.7139 - val_precision_1: 0.3902 - val_recall_1: 0.1260 - val_f1_score: 0.1847 - 728ms/epoch - 91ms/step\n",
      "Epoch 5/50\n",
      "8/8 - 1s - loss: 1.6931 - accuracy: 0.3913 - auc_1: 0.7151 - precision_1: 0.4265 - recall_1: 0.1146 - f1_score: 0.2048 - val_loss: 1.2311 - val_accuracy: 0.3937 - val_auc_1: 0.7111 - val_precision_1: 0.3243 - val_recall_1: 0.0945 - val_f1_score: 0.1916 - 684ms/epoch - 86ms/step\n",
      "Epoch 6/50\n",
      "8/8 - 1s - loss: 1.6719 - accuracy: 0.3992 - auc_1: 0.7133 - precision_1: 0.4000 - recall_1: 0.0949 - f1_score: 0.2107 - val_loss: 1.2299 - val_accuracy: 0.4016 - val_auc_1: 0.7119 - val_precision_1: 0.3636 - val_recall_1: 0.0945 - val_f1_score: 0.1950 - 687ms/epoch - 86ms/step\n",
      "Epoch 7/50\n",
      "8/8 - 1s - loss: 1.6514 - accuracy: 0.3953 - auc_1: 0.7118 - precision_1: 0.4423 - recall_1: 0.0909 - f1_score: 0.2077 - val_loss: 1.2256 - val_accuracy: 0.3937 - val_auc_1: 0.7151 - val_precision_1: 0.4286 - val_recall_1: 0.0945 - val_f1_score: 0.1920 - 715ms/epoch - 89ms/step\n",
      "Epoch 8/50\n",
      "8/8 - 1s - loss: 1.6293 - accuracy: 0.3913 - auc_1: 0.7146 - precision_1: 0.4898 - recall_1: 0.0949 - f1_score: 0.2036 - val_loss: 1.2148 - val_accuracy: 0.4094 - val_auc_1: 0.7217 - val_precision_1: 0.4615 - val_recall_1: 0.0945 - val_f1_score: 0.1973 - 693ms/epoch - 87ms/step\n",
      "Epoch 9/50\n",
      "8/8 - 1s - loss: 1.6099 - accuracy: 0.4071 - auc_1: 0.7197 - precision_1: 0.5128 - recall_1: 0.0791 - f1_score: 0.2177 - val_loss: 1.2134 - val_accuracy: 0.4016 - val_auc_1: 0.7212 - val_precision_1: 0.5217 - val_recall_1: 0.0945 - val_f1_score: 0.1943 - 701ms/epoch - 88ms/step\n",
      "Epoch 10/50\n",
      "8/8 - 1s - loss: 1.5888 - accuracy: 0.4150 - auc_1: 0.7247 - precision_1: 0.6176 - recall_1: 0.0830 - f1_score: 0.2196 - val_loss: 1.2146 - val_accuracy: 0.4016 - val_auc_1: 0.7216 - val_precision_1: 0.8000 - val_recall_1: 0.0945 - val_f1_score: 0.1940 - 729ms/epoch - 91ms/step\n",
      "Epoch 11/50\n",
      "8/8 - 1s - loss: 1.5736 - accuracy: 0.4190 - auc_1: 0.7255 - precision_1: 0.7692 - recall_1: 0.0791 - f1_score: 0.2213 - val_loss: 1.2164 - val_accuracy: 0.4016 - val_auc_1: 0.7212 - val_precision_1: 0.7857 - val_recall_1: 0.0866 - val_f1_score: 0.1940 - 744ms/epoch - 93ms/step\n",
      "Epoch 12/50\n",
      "8/8 - 1s - loss: 1.5528 - accuracy: 0.4269 - auc_1: 0.7240 - precision_1: 0.8571 - recall_1: 0.0711 - f1_score: 0.2260 - val_loss: 1.2159 - val_accuracy: 0.3937 - val_auc_1: 0.7198 - val_precision_1: 0.7273 - val_recall_1: 0.0630 - val_f1_score: 0.1913 - 788ms/epoch - 99ms/step\n",
      "Epoch 13/50\n",
      "8/8 - 1s - loss: 1.5357 - accuracy: 0.4229 - auc_1: 0.7220 - precision_1: 0.9000 - recall_1: 0.0711 - f1_score: 0.2247 - val_loss: 1.2205 - val_accuracy: 0.3858 - val_auc_1: 0.7165 - val_precision_1: 0.7273 - val_recall_1: 0.0630 - val_f1_score: 0.1890 - 733ms/epoch - 92ms/step\n",
      "Epoch 14/50\n",
      "8/8 - 1s - loss: 1.5201 - accuracy: 0.4190 - auc_1: 0.7201 - precision_1: 0.8571 - recall_1: 0.0711 - f1_score: 0.2230 - val_loss: 1.2246 - val_accuracy: 0.3858 - val_auc_1: 0.7143 - val_precision_1: 0.7273 - val_recall_1: 0.0630 - val_f1_score: 0.1886 - 876ms/epoch - 110ms/step\n",
      "Epoch 15/50\n",
      "8/8 - 1s - loss: 1.5028 - accuracy: 0.4229 - auc_1: 0.7201 - precision_1: 0.8947 - recall_1: 0.0672 - f1_score: 0.2261 - val_loss: 1.2280 - val_accuracy: 0.3937 - val_auc_1: 0.7137 - val_precision_1: 0.8000 - val_recall_1: 0.0630 - val_f1_score: 0.1953 - 994ms/epoch - 124ms/step\n",
      "Epoch 16/50\n",
      "8/8 - 1s - loss: 1.4940 - accuracy: 0.4229 - auc_1: 0.7183 - precision_1: 0.9444 - recall_1: 0.0672 - f1_score: 0.2275 - val_loss: 1.2326 - val_accuracy: 0.3937 - val_auc_1: 0.7110 - val_precision_1: 0.8000 - val_recall_1: 0.0630 - val_f1_score: 0.1956 - 1000ms/epoch - 125ms/step\n",
      "Epoch 17/50\n",
      "8/8 - 1s - loss: 1.4818 - accuracy: 0.4269 - auc_1: 0.7129 - precision_1: 0.9444 - recall_1: 0.0672 - f1_score: 0.2374 - val_loss: 1.2420 - val_accuracy: 0.3937 - val_auc_1: 0.7004 - val_precision_1: 0.8000 - val_recall_1: 0.0630 - val_f1_score: 0.1959 - 817ms/epoch - 102ms/step\n",
      "Epoch 18/50\n",
      "8/8 - 1s - loss: 1.4648 - accuracy: 0.4308 - auc_1: 0.7068 - precision_1: 0.9333 - recall_1: 0.0553 - f1_score: 0.2404 - val_loss: 1.2461 - val_accuracy: 0.3858 - val_auc_1: 0.6968 - val_precision_1: 0.8000 - val_recall_1: 0.0630 - val_f1_score: 0.1928 - 688ms/epoch - 86ms/step\n",
      "Epoch 19/50\n",
      "8/8 - 1s - loss: 1.4552 - accuracy: 0.4308 - auc_1: 0.7064 - precision_1: 0.9231 - recall_1: 0.0474 - f1_score: 0.2419 - val_loss: 1.2492 - val_accuracy: 0.3858 - val_auc_1: 0.6933 - val_precision_1: 0.8889 - val_recall_1: 0.0630 - val_f1_score: 0.2095 - 773ms/epoch - 97ms/step\n",
      "Epoch 20/50\n",
      "8/8 - 1s - loss: 1.4435 - accuracy: 0.4308 - auc_1: 0.7059 - precision_1: 0.9333 - recall_1: 0.0553 - f1_score: 0.2424 - val_loss: 1.2519 - val_accuracy: 0.3858 - val_auc_1: 0.6893 - val_precision_1: 0.8889 - val_recall_1: 0.0630 - val_f1_score: 0.2099 - 779ms/epoch - 97ms/step\n",
      "Epoch 21/50\n",
      "8/8 - 1s - loss: 1.4330 - accuracy: 0.4269 - auc_1: 0.7072 - precision_1: 0.9231 - recall_1: 0.0474 - f1_score: 0.2455 - val_loss: 1.2543 - val_accuracy: 0.3858 - val_auc_1: 0.6872 - val_precision_1: 1.0000 - val_recall_1: 0.0630 - val_f1_score: 0.2098 - 696ms/epoch - 87ms/step\n",
      "Epoch 22/50\n",
      "8/8 - 1s - loss: 1.4216 - accuracy: 0.4308 - auc_1: 0.7017 - precision_1: 0.8889 - recall_1: 0.0316 - f1_score: 0.2472 - val_loss: 1.2587 - val_accuracy: 0.3780 - val_auc_1: 0.6800 - val_precision_1: 1.0000 - val_recall_1: 0.0394 - val_f1_score: 0.2065 - 696ms/epoch - 87ms/step\n",
      "Epoch 23/50\n",
      "8/8 - 1s - loss: 1.4103 - accuracy: 0.4111 - auc_1: 0.6977 - precision_1: 0.8750 - recall_1: 0.0277 - f1_score: 0.2391 - val_loss: 1.2635 - val_accuracy: 0.3858 - val_auc_1: 0.6769 - val_precision_1: 1.0000 - val_recall_1: 0.0315 - val_f1_score: 0.2128 - 683ms/epoch - 85ms/step\n",
      "Epoch 24/50\n",
      "8/8 - 1s - loss: 1.4020 - accuracy: 0.4111 - auc_1: 0.6960 - precision_1: 0.8750 - recall_1: 0.0277 - f1_score: 0.2461 - val_loss: 1.2707 - val_accuracy: 0.3858 - val_auc_1: 0.6693 - val_precision_1: 1.0000 - val_recall_1: 0.0315 - val_f1_score: 0.2128 - 658ms/epoch - 82ms/step\n",
      "Epoch 25/50\n",
      "8/8 - 1s - loss: 1.3931 - accuracy: 0.4150 - auc_1: 0.6923 - precision_1: 0.8750 - recall_1: 0.0277 - f1_score: 0.2479 - val_loss: 1.2697 - val_accuracy: 0.3937 - val_auc_1: 0.6682 - val_precision_1: 1.0000 - val_recall_1: 0.0315 - val_f1_score: 0.2268 - 656ms/epoch - 82ms/step\n",
      "Epoch 26/50\n",
      "8/8 - 1s - loss: 1.3838 - accuracy: 0.4150 - auc_1: 0.6908 - precision_1: 0.8750 - recall_1: 0.0277 - f1_score: 0.2934 - val_loss: 1.2728 - val_accuracy: 0.3858 - val_auc_1: 0.6641 - val_precision_1: 1.0000 - val_recall_1: 0.0315 - val_f1_score: 0.2197 - 665ms/epoch - 83ms/step\n",
      "Epoch 27/50\n",
      "8/8 - 1s - loss: 1.3813 - accuracy: 0.4150 - auc_1: 0.6839 - precision_1: 0.8333 - recall_1: 0.0198 - f1_score: 0.2822 - val_loss: 1.2806 - val_accuracy: 0.3937 - val_auc_1: 0.6521 - val_precision_1: 1.0000 - val_recall_1: 0.0315 - val_f1_score: 0.2341 - 661ms/epoch - 83ms/step\n",
      "Epoch 28/50\n",
      "8/8 - 1s - loss: 1.3726 - accuracy: 0.4071 - auc_1: 0.6804 - precision_1: 0.8571 - recall_1: 0.0237 - f1_score: 0.2773 - val_loss: 1.2843 - val_accuracy: 0.4016 - val_auc_1: 0.6489 - val_precision_1: 1.0000 - val_recall_1: 0.0236 - val_f1_score: 0.2481 - 663ms/epoch - 83ms/step\n",
      "Epoch 29/50\n",
      "8/8 - 1s - loss: 1.3659 - accuracy: 0.3992 - auc_1: 0.6762 - precision_1: 0.8571 - recall_1: 0.0237 - f1_score: 0.2688 - val_loss: 1.2888 - val_accuracy: 0.4016 - val_auc_1: 0.6429 - val_precision_1: 1.0000 - val_recall_1: 0.0315 - val_f1_score: 0.2481 - 670ms/epoch - 84ms/step\n",
      "Epoch 30/50\n",
      "8/8 - 1s - loss: 1.3589 - accuracy: 0.4071 - auc_1: 0.6726 - precision_1: 0.8571 - recall_1: 0.0237 - f1_score: 0.2927 - val_loss: 1.2910 - val_accuracy: 0.4094 - val_auc_1: 0.6405 - val_precision_1: 1.0000 - val_recall_1: 0.0315 - val_f1_score: 0.2526 - 663ms/epoch - 83ms/step\n",
      "Epoch 31/50\n",
      "8/8 - 1s - loss: 1.3520 - accuracy: 0.4032 - auc_1: 0.6757 - precision_1: 0.8571 - recall_1: 0.0237 - f1_score: 0.2875 - val_loss: 1.2929 - val_accuracy: 0.3858 - val_auc_1: 0.6414 - val_precision_1: 1.0000 - val_recall_1: 0.0236 - val_f1_score: 0.2439 - 668ms/epoch - 83ms/step\n",
      "Epoch 32/50\n",
      "8/8 - 1s - loss: 1.3459 - accuracy: 0.3953 - auc_1: 0.6712 - precision_1: 0.8571 - recall_1: 0.0237 - f1_score: 0.2784 - val_loss: 1.2973 - val_accuracy: 0.3780 - val_auc_1: 0.6368 - val_precision_1: 1.0000 - val_recall_1: 0.0236 - val_f1_score: 0.2384 - 811ms/epoch - 101ms/step\n",
      "Epoch 33/50\n",
      "8/8 - 1s - loss: 1.3396 - accuracy: 0.3874 - auc_1: 0.6647 - precision_1: 0.8571 - recall_1: 0.0237 - f1_score: 0.2677 - val_loss: 1.3030 - val_accuracy: 0.3780 - val_auc_1: 0.6282 - val_precision_1: 1.0000 - val_recall_1: 0.0236 - val_f1_score: 0.2391 - 915ms/epoch - 114ms/step\n",
      "Epoch 34/50\n",
      "8/8 - 1s - loss: 1.3340 - accuracy: 0.3755 - auc_1: 0.6588 - precision_1: 0.8571 - recall_1: 0.0237 - f1_score: 0.2734 - val_loss: 1.3034 - val_accuracy: 0.3543 - val_auc_1: 0.6262 - val_precision_1: 1.0000 - val_recall_1: 0.0157 - val_f1_score: 0.2321 - 934ms/epoch - 117ms/step\n",
      "Epoch 35/50\n",
      "8/8 - 1s - loss: 1.3291 - accuracy: 0.3715 - auc_1: 0.6569 - precision_1: 1.0000 - recall_1: 0.0237 - f1_score: 0.2700 - val_loss: 1.3071 - val_accuracy: 0.3386 - val_auc_1: 0.6229 - val_precision_1: 1.0000 - val_recall_1: 0.0157 - val_f1_score: 0.2261 - 682ms/epoch - 85ms/step\n",
      "Epoch 36/50\n",
      "8/8 - 1s - loss: 1.3222 - accuracy: 0.3518 - auc_1: 0.6548 - precision_1: 1.0000 - recall_1: 0.0198 - f1_score: 0.2610 - val_loss: 1.3102 - val_accuracy: 0.3386 - val_auc_1: 0.6159 - val_precision_1: 1.0000 - val_recall_1: 0.0157 - val_f1_score: 0.2261 - 678ms/epoch - 85ms/step\n",
      "Epoch 37/50\n",
      "8/8 - 1s - loss: 1.3168 - accuracy: 0.3478 - auc_1: 0.6509 - precision_1: 1.0000 - recall_1: 0.0198 - f1_score: 0.2610 - val_loss: 1.3104 - val_accuracy: 0.3150 - val_auc_1: 0.6158 - val_precision_1: 1.0000 - val_recall_1: 0.0157 - val_f1_score: 0.2173 - 684ms/epoch - 86ms/step\n",
      "Epoch 38/50\n",
      "8/8 - 1s - loss: 1.3113 - accuracy: 0.3399 - auc_1: 0.6494 - precision_1: 1.0000 - recall_1: 0.0198 - f1_score: 0.2587 - val_loss: 1.3150 - val_accuracy: 0.3150 - val_auc_1: 0.6111 - val_precision_1: 1.0000 - val_recall_1: 0.0157 - val_f1_score: 0.2173 - 677ms/epoch - 85ms/step\n",
      "Epoch 39/50\n",
      "8/8 - 1s - loss: 1.3100 - accuracy: 0.3478 - auc_1: 0.6437 - precision_1: 1.0000 - recall_1: 0.0198 - f1_score: 0.2680 - val_loss: 1.3185 - val_accuracy: 0.3071 - val_auc_1: 0.6088 - val_precision_1: 1.0000 - val_recall_1: 0.0157 - val_f1_score: 0.2133 - 677ms/epoch - 85ms/step\n",
      "Epoch 40/50\n",
      "8/8 - 1s - loss: 1.3023 - accuracy: 0.3320 - auc_1: 0.6469 - precision_1: 1.0000 - recall_1: 0.0198 - f1_score: 0.2604 - val_loss: 1.3139 - val_accuracy: 0.2992 - val_auc_1: 0.6154 - val_precision_1: 1.0000 - val_recall_1: 0.0157 - val_f1_score: 0.2105 - 684ms/epoch - 85ms/step\n",
      "Epoch 41/50\n",
      "8/8 - 1s - loss: 1.3015 - accuracy: 0.3281 - auc_1: 0.6387 - precision_1: 1.0000 - recall_1: 0.0158 - f1_score: 0.2567 - val_loss: 1.3259 - val_accuracy: 0.2992 - val_auc_1: 0.6014 - val_precision_1: 1.0000 - val_recall_1: 0.0157 - val_f1_score: 0.2116 - 677ms/epoch - 85ms/step\n",
      "Epoch 42/50\n",
      "8/8 - 1s - loss: 1.2937 - accuracy: 0.3241 - auc_1: 0.6329 - precision_1: 1.0000 - recall_1: 0.0158 - f1_score: 0.2559 - val_loss: 1.3256 - val_accuracy: 0.2913 - val_auc_1: 0.6035 - val_precision_1: 0.6667 - val_recall_1: 0.0157 - val_f1_score: 0.2027 - 682ms/epoch - 85ms/step\n",
      "Epoch 43/50\n",
      "8/8 - 1s - loss: 1.2872 - accuracy: 0.3241 - auc_1: 0.6299 - precision_1: 1.0000 - recall_1: 0.0198 - f1_score: 0.2597 - val_loss: 1.3325 - val_accuracy: 0.2913 - val_auc_1: 0.5867 - val_precision_1: 0.6667 - val_recall_1: 0.0157 - val_f1_score: 0.2225 - 679ms/epoch - 85ms/step\n",
      "Epoch 44/50\n",
      "8/8 - 1s - loss: 1.2860 - accuracy: 0.3162 - auc_1: 0.6066 - precision_1: 1.0000 - recall_1: 0.0198 - f1_score: 0.2632 - val_loss: 1.3436 - val_accuracy: 0.2913 - val_auc_1: 0.5743 - val_precision_1: 0.5000 - val_recall_1: 0.0079 - val_f1_score: 0.2259 - 679ms/epoch - 85ms/step\n",
      "Epoch 45/50\n",
      "8/8 - 1s - loss: 1.2799 - accuracy: 0.3241 - auc_1: 0.6034 - precision_1: 1.0000 - recall_1: 0.0158 - f1_score: 0.2772 - val_loss: 1.3432 - val_accuracy: 0.2835 - val_auc_1: 0.5746 - val_precision_1: 0.5000 - val_recall_1: 0.0079 - val_f1_score: 0.2214 - 689ms/epoch - 86ms/step\n",
      "Epoch 46/50\n",
      "8/8 - 1s - loss: 1.2764 - accuracy: 0.3162 - auc_1: 0.6019 - precision_1: 1.0000 - recall_1: 0.0158 - f1_score: 0.2728 - val_loss: 1.3367 - val_accuracy: 0.2756 - val_auc_1: 0.5811 - val_precision_1: 0.6667 - val_recall_1: 0.0157 - val_f1_score: 0.2144 - 674ms/epoch - 84ms/step\n",
      "Epoch 47/50\n",
      "8/8 - 1s - loss: 1.2723 - accuracy: 0.3202 - auc_1: 0.6022 - precision_1: 1.0000 - recall_1: 0.0158 - f1_score: 0.2773 - val_loss: 1.3400 - val_accuracy: 0.2756 - val_auc_1: 0.5776 - val_precision_1: 0.6667 - val_recall_1: 0.0157 - val_f1_score: 0.2207 - 677ms/epoch - 85ms/step\n",
      "Epoch 48/50\n",
      "8/8 - 1s - loss: 1.2672 - accuracy: 0.3202 - auc_1: 0.6016 - precision_1: 1.0000 - recall_1: 0.0158 - f1_score: 0.2802 - val_loss: 1.3418 - val_accuracy: 0.2677 - val_auc_1: 0.5765 - val_precision_1: 0.6667 - val_recall_1: 0.0157 - val_f1_score: 0.2109 - 679ms/epoch - 85ms/step\n",
      "Epoch 49/50\n",
      "8/8 - 1s - loss: 1.2660 - accuracy: 0.3202 - auc_1: 0.5972 - precision_1: 1.0000 - recall_1: 0.0158 - f1_score: 0.2810 - val_loss: 1.3475 - val_accuracy: 0.2756 - val_auc_1: 0.5710 - val_precision_1: 0.6667 - val_recall_1: 0.0157 - val_f1_score: 0.2287 - 715ms/epoch - 89ms/step\n",
      "Epoch 50/50\n",
      "8/8 - 1s - loss: 1.2614 - accuracy: 0.3004 - auc_1: 0.5989 - precision_1: 1.0000 - recall_1: 0.0158 - f1_score: 0.2681 - val_loss: 1.3418 - val_accuracy: 0.2835 - val_auc_1: 0.5773 - val_precision_1: 0.8000 - val_recall_1: 0.0315 - val_f1_score: 0.2387 - 717ms/epoch - 90ms/step\n"
     ]
    },
    {
     "data": {
      "image/png": "[encoded data removed]",
      "text/plain": [
       "<Figure size 432x288 with 1 Axes>"
      ]
     },
     "metadata": {
      "needs_background": "light"
     },
     "output_type": "display_data"
    },
    {
     "name": "stdout",
     "output_type": "stream",
     "text": [
      "Epoch 1/50\n",
      "8/8 - 3s - loss: 1.6064 - accuracy: 0.0277 - auc_2: 0.1793 - precision_2: 0.0333 - recall_2: 0.0040 - f1_score: 0.0355 - val_loss: 1.9812 - val_accuracy: 0.0472 - val_auc_2: 0.2305 - val_precision_2: 0.1250 - val_recall_2: 0.0079 - val_f1_score: 0.0666 - 3s/epoch - 346ms/step\n",
      "Epoch 2/50\n",
      "8/8 - 1s - loss: 1.5340 - accuracy: 0.0316 - auc_2: 0.1855 - precision_2: 0.0667 - recall_2: 0.0040 - f1_score: 0.0393 - val_loss: 1.8814 - val_accuracy: 0.0630 - val_auc_2: 0.2343 - val_precision_2: 0.0000e+00 - val_recall_2: 0.0000e+00 - val_f1_score: 0.0939 - 713ms/epoch - 89ms/step\n",
      "Epoch 3/50\n",
      "8/8 - 1s - loss: 1.4872 - accuracy: 0.0553 - auc_2: 0.1952 - precision_2: 0.0909 - recall_2: 0.0040 - f1_score: 0.0796 - val_loss: 1.8239 - val_accuracy: 0.0787 - val_auc_2: 0.2376 - val_precision_2: 0.0000e+00 - val_recall_2: 0.0000e+00 - val_f1_score: 0.1112 - 671ms/epoch - 84ms/step\n",
      "Epoch 4/50\n",
      "8/8 - 1s - loss: 1.4619 - accuracy: 0.0711 - auc_2: 0.2071 - precision_2: 0.1250 - recall_2: 0.0040 - f1_score: 0.1045 - val_loss: 1.7837 - val_accuracy: 0.0945 - val_auc_2: 0.2394 - val_precision_2: 0.0000e+00 - val_recall_2: 0.0000e+00 - val_f1_score: 0.1194 - 678ms/epoch - 85ms/step\n",
      "Epoch 5/50\n",
      "8/8 - 1s - loss: 1.4193 - accuracy: 0.1028 - auc_2: 0.2184 - precision_2: 0.1429 - recall_2: 0.0040 - f1_score: 0.1382 - val_loss: 1.7323 - val_accuracy: 0.0945 - val_auc_2: 0.2468 - val_precision_2: 0.0000e+00 - val_recall_2: 0.0000e+00 - val_f1_score: 0.1116 - 675ms/epoch - 84ms/step\n",
      "Epoch 6/50\n",
      "8/8 - 1s - loss: 1.3990 - accuracy: 0.0988 - auc_2: 0.2202 - precision_2: 0.3333 - recall_2: 0.0040 - f1_score: 0.1270 - val_loss: 1.6913 - val_accuracy: 0.1024 - val_auc_2: 0.2579 - val_precision_2: 0.0000e+00 - val_recall_2: 0.0000e+00 - val_f1_score: 0.1179 - 675ms/epoch - 84ms/step\n",
      "Epoch 7/50\n",
      "8/8 - 1s - loss: 1.3837 - accuracy: 0.1304 - auc_2: 0.2326 - precision_2: 0.3333 - recall_2: 0.0040 - f1_score: 0.1526 - val_loss: 1.6473 - val_accuracy: 0.1496 - val_auc_2: 0.2758 - val_precision_2: 0.0000e+00 - val_recall_2: 0.0000e+00 - val_f1_score: 0.1523 - 678ms/epoch - 85ms/step\n",
      "Epoch 8/50\n",
      "8/8 - 1s - loss: 1.3679 - accuracy: 0.1383 - auc_2: 0.2450 - precision_2: 0.3333 - recall_2: 0.0040 - f1_score: 0.1457 - val_loss: 1.6219 - val_accuracy: 0.1575 - val_auc_2: 0.2832 - val_precision_2: 0.0000e+00 - val_recall_2: 0.0000e+00 - val_f1_score: 0.1516 - 679ms/epoch - 85ms/step\n",
      "Epoch 9/50\n",
      "8/8 - 1s - loss: 1.3572 - accuracy: 0.1423 - auc_2: 0.2585 - precision_2: 0.5000 - recall_2: 0.0040 - f1_score: 0.1418 - val_loss: 1.5924 - val_accuracy: 0.1732 - val_auc_2: 0.2942 - val_precision_2: 0.0000e+00 - val_recall_2: 0.0000e+00 - val_f1_score: 0.1611 - 676ms/epoch - 84ms/step\n",
      "Epoch 10/50\n",
      "8/8 - 1s - loss: 1.3483 - accuracy: 0.1423 - auc_2: 0.2761 - precision_2: 0.5000 - recall_2: 0.0040 - f1_score: 0.1404 - val_loss: 1.5674 - val_accuracy: 0.1811 - val_auc_2: 0.3121 - val_precision_2: 0.0000e+00 - val_recall_2: 0.0000e+00 - val_f1_score: 0.1680 - 681ms/epoch - 85ms/step\n",
      "Epoch 11/50\n",
      "8/8 - 1s - loss: 1.3418 - accuracy: 0.1542 - auc_2: 0.2983 - precision_2: 0.5000 - recall_2: 0.0040 - f1_score: 0.1485 - val_loss: 1.5367 - val_accuracy: 0.1732 - val_auc_2: 0.3411 - val_precision_2: 0.0000e+00 - val_recall_2: 0.0000e+00 - val_f1_score: 0.1648 - 678ms/epoch - 85ms/step\n",
      "Epoch 12/50\n",
      "8/8 - 1s - loss: 1.3286 - accuracy: 0.1660 - auc_2: 0.3322 - precision_2: 0.5000 - recall_2: 0.0040 - f1_score: 0.1643 - val_loss: 1.5168 - val_accuracy: 0.1890 - val_auc_2: 0.3615 - val_precision_2: 0.0000e+00 - val_recall_2: 0.0000e+00 - val_f1_score: 0.1824 - 678ms/epoch - 85ms/step\n",
      "Epoch 13/50\n",
      "8/8 - 1s - loss: 1.3240 - accuracy: 0.1581 - auc_2: 0.3522 - precision_2: 0.5000 - recall_2: 0.0040 - f1_score: 0.1595 - val_loss: 1.4998 - val_accuracy: 0.1890 - val_auc_2: 0.3794 - val_precision_2: 0.0000e+00 - val_recall_2: 0.0000e+00 - val_f1_score: 0.1824 - 677ms/epoch - 85ms/step\n",
      "Epoch 14/50\n",
      "8/8 - 1s - loss: 1.3188 - accuracy: 0.1700 - auc_2: 0.3766 - precision_2: 0.5000 - recall_2: 0.0040 - f1_score: 0.1690 - val_loss: 1.4822 - val_accuracy: 0.1732 - val_auc_2: 0.3994 - val_precision_2: 0.0000e+00 - val_recall_2: 0.0000e+00 - val_f1_score: 0.1654 - 678ms/epoch - 85ms/step\n",
      "Epoch 15/50\n",
      "8/8 - 1s - loss: 1.3151 - accuracy: 0.1818 - auc_2: 0.4041 - precision_2: 0.5000 - recall_2: 0.0040 - f1_score: 0.1819 - val_loss: 1.4672 - val_accuracy: 0.1732 - val_auc_2: 0.4202 - val_precision_2: 0.0000e+00 - val_recall_2: 0.0000e+00 - val_f1_score: 0.1694 - 680ms/epoch - 85ms/step\n",
      "Epoch 16/50\n",
      "8/8 - 1s - loss: 1.3106 - accuracy: 0.1897 - auc_2: 0.4341 - precision_2: 0.5000 - recall_2: 0.0040 - f1_score: 0.1892 - val_loss: 1.4488 - val_accuracy: 0.2047 - val_auc_2: 0.4489 - val_precision_2: 0.0000e+00 - val_recall_2: 0.0000e+00 - val_f1_score: 0.1973 - 680ms/epoch - 85ms/step\n",
      "Epoch 17/50\n",
      "8/8 - 1s - loss: 1.3071 - accuracy: 0.2095 - auc_2: 0.4546 - precision_2: 0.5000 - recall_2: 0.0040 - f1_score: 0.2033 - val_loss: 1.4448 - val_accuracy: 0.1890 - val_auc_2: 0.4560 - val_precision_2: 0.0000e+00 - val_recall_2: 0.0000e+00 - val_f1_score: 0.1819 - 670ms/epoch - 84ms/step\n",
      "Epoch 18/50\n",
      "8/8 - 1s - loss: 1.3032 - accuracy: 0.2174 - auc_2: 0.4692 - precision_2: 0.5000 - recall_2: 0.0040 - f1_score: 0.2090 - val_loss: 1.4391 - val_accuracy: 0.1732 - val_auc_2: 0.4632 - val_precision_2: 0.0000e+00 - val_recall_2: 0.0000e+00 - val_f1_score: 0.1693 - 685ms/epoch - 86ms/step\n",
      "Epoch 19/50\n",
      "8/8 - 1s - loss: 1.3012 - accuracy: 0.2174 - auc_2: 0.4844 - precision_2: 0.5000 - recall_2: 0.0040 - f1_score: 0.2067 - val_loss: 1.4306 - val_accuracy: 0.1811 - val_auc_2: 0.4781 - val_precision_2: 0.0000e+00 - val_recall_2: 0.0000e+00 - val_f1_score: 0.1767 - 676ms/epoch - 84ms/step\n",
      "Epoch 20/50\n",
      "8/8 - 1s - loss: 1.2980 - accuracy: 0.2134 - auc_2: 0.5038 - precision_2: 0.5000 - recall_2: 0.0040 - f1_score: 0.1999 - val_loss: 1.4247 - val_accuracy: 0.1811 - val_auc_2: 0.4923 - val_precision_2: 0.0000e+00 - val_recall_2: 0.0000e+00 - val_f1_score: 0.1751 - 676ms/epoch - 85ms/step\n",
      "Epoch 21/50\n",
      "8/8 - 1s - loss: 1.2966 - accuracy: 0.2174 - auc_2: 0.5190 - precision_2: 0.5000 - recall_2: 0.0040 - f1_score: 0.1994 - val_loss: 1.4224 - val_accuracy: 0.1732 - val_auc_2: 0.4956 - val_precision_2: 0.0000e+00 - val_recall_2: 0.0000e+00 - val_f1_score: 0.1674 - 680ms/epoch - 85ms/step\n",
      "Epoch 22/50\n",
      "8/8 - 1s - loss: 1.2942 - accuracy: 0.2174 - auc_2: 0.5240 - precision_2: 0.5000 - recall_2: 0.0040 - f1_score: 0.2000 - val_loss: 1.4182 - val_accuracy: 0.1890 - val_auc_2: 0.5047 - val_precision_2: 0.0000e+00 - val_recall_2: 0.0000e+00 - val_f1_score: 0.1872 - 677ms/epoch - 85ms/step\n",
      "Epoch 23/50\n",
      "8/8 - 1s - loss: 1.2916 - accuracy: 0.2213 - auc_2: 0.5391 - precision_2: 0.5000 - recall_2: 0.0040 - f1_score: 0.2069 - val_loss: 1.4084 - val_accuracy: 0.1811 - val_auc_2: 0.5197 - val_precision_2: 0.0000e+00 - val_recall_2: 0.0000e+00 - val_f1_score: 0.1748 - 672ms/epoch - 84ms/step\n",
      "Epoch 24/50\n",
      "8/8 - 1s - loss: 1.2898 - accuracy: 0.2372 - auc_2: 0.5601 - precision_2: 0.5000 - recall_2: 0.0040 - f1_score: 0.2144 - val_loss: 1.4040 - val_accuracy: 0.1890 - val_auc_2: 0.5297 - val_precision_2: 0.0000e+00 - val_recall_2: 0.0000e+00 - val_f1_score: 0.1805 - 673ms/epoch - 84ms/step\n",
      "Epoch 25/50\n",
      "8/8 - 1s - loss: 1.2876 - accuracy: 0.2332 - auc_2: 0.5613 - precision_2: 0.5000 - recall_2: 0.0040 - f1_score: 0.2148 - val_loss: 1.4087 - val_accuracy: 0.1811 - val_auc_2: 0.5226 - val_precision_2: 0.0000e+00 - val_recall_2: 0.0000e+00 - val_f1_score: 0.1753 - 671ms/epoch - 84ms/step\n",
      "Epoch 26/50\n",
      "8/8 - 1s - loss: 1.2842 - accuracy: 0.2332 - auc_2: 0.5610 - precision_2: 0.5000 - recall_2: 0.0040 - f1_score: 0.2151 - val_loss: 1.4029 - val_accuracy: 0.1969 - val_auc_2: 0.5329 - val_precision_2: 0.0000e+00 - val_recall_2: 0.0000e+00 - val_f1_score: 0.1876 - 667ms/epoch - 83ms/step\n",
      "Epoch 27/50\n",
      "8/8 - 1s - loss: 1.2819 - accuracy: 0.2411 - auc_2: 0.5737 - precision_2: 0.5000 - recall_2: 0.0040 - f1_score: 0.2210 - val_loss: 1.3973 - val_accuracy: 0.1969 - val_auc_2: 0.5440 - val_precision_2: 0.0000e+00 - val_recall_2: 0.0000e+00 - val_f1_score: 0.1867 - 674ms/epoch - 84ms/step\n",
      "Epoch 28/50\n",
      "8/8 - 1s - loss: 1.2785 - accuracy: 0.2372 - auc_2: 0.5832 - precision_2: 0.5000 - recall_2: 0.0040 - f1_score: 0.2143 - val_loss: 1.3959 - val_accuracy: 0.1890 - val_auc_2: 0.5446 - val_precision_2: 0.0000e+00 - val_recall_2: 0.0000e+00 - val_f1_score: 0.1840 - 671ms/epoch - 84ms/step\n",
      "Epoch 29/50\n",
      "8/8 - 1s - loss: 1.2766 - accuracy: 0.2372 - auc_2: 0.5871 - precision_2: 0.5000 - recall_2: 0.0040 - f1_score: 0.2143 - val_loss: 1.3962 - val_accuracy: 0.1890 - val_auc_2: 0.5448 - val_precision_2: 0.0000e+00 - val_recall_2: 0.0000e+00 - val_f1_score: 0.1853 - 670ms/epoch - 84ms/step\n",
      "Epoch 30/50\n",
      "8/8 - 1s - loss: 1.2741 - accuracy: 0.2372 - auc_2: 0.5886 - precision_2: 0.5000 - recall_2: 0.0040 - f1_score: 0.2102 - val_loss: 1.3952 - val_accuracy: 0.1890 - val_auc_2: 0.5472 - val_precision_2: 0.0000e+00 - val_recall_2: 0.0000e+00 - val_f1_score: 0.1830 - 678ms/epoch - 85ms/step\n",
      "Epoch 31/50\n",
      "8/8 - 1s - loss: 1.2726 - accuracy: 0.2332 - auc_2: 0.5879 - precision_2: 0.5000 - recall_2: 0.0040 - f1_score: 0.2122 - val_loss: 1.3944 - val_accuracy: 0.1890 - val_auc_2: 0.5506 - val_precision_2: 0.0000e+00 - val_recall_2: 0.0000e+00 - val_f1_score: 0.1830 - 672ms/epoch - 84ms/step\n",
      "Epoch 32/50\n",
      "8/8 - 1s - loss: 1.2702 - accuracy: 0.2372 - auc_2: 0.5969 - precision_2: 0.5000 - recall_2: 0.0040 - f1_score: 0.2147 - val_loss: 1.3906 - val_accuracy: 0.1969 - val_auc_2: 0.5570 - val_precision_2: 0.0000e+00 - val_recall_2: 0.0000e+00 - val_f1_score: 0.1896 - 669ms/epoch - 84ms/step\n",
      "Epoch 33/50\n",
      "8/8 - 1s - loss: 1.2689 - accuracy: 0.2490 - auc_2: 0.5982 - precision_2: 0.5000 - recall_2: 0.0040 - f1_score: 0.2267 - val_loss: 1.3926 - val_accuracy: 0.1890 - val_auc_2: 0.5540 - val_precision_2: 0.0000e+00 - val_recall_2: 0.0000e+00 - val_f1_score: 0.1819 - 660ms/epoch - 82ms/step\n",
      "Epoch 34/50\n",
      "8/8 - 1s - loss: 1.2664 - accuracy: 0.2372 - auc_2: 0.5984 - precision_2: 0.5000 - recall_2: 0.0040 - f1_score: 0.2144 - val_loss: 1.3896 - val_accuracy: 0.1890 - val_auc_2: 0.5589 - val_precision_2: 0.0000e+00 - val_recall_2: 0.0000e+00 - val_f1_score: 0.1819 - 665ms/epoch - 83ms/step\n",
      "Epoch 35/50\n",
      "8/8 - 1s - loss: 1.2642 - accuracy: 0.2490 - auc_2: 0.6110 - precision_2: 0.5000 - recall_2: 0.0040 - f1_score: 0.2221 - val_loss: 1.3836 - val_accuracy: 0.2126 - val_auc_2: 0.5685 - val_precision_2: 0.0000e+00 - val_recall_2: 0.0000e+00 - val_f1_score: 0.2008 - 659ms/epoch - 82ms/step\n",
      "Epoch 36/50\n",
      "8/8 - 1s - loss: 1.2643 - accuracy: 0.2569 - auc_2: 0.6158 - precision_2: 0.5000 - recall_2: 0.0040 - f1_score: 0.2283 - val_loss: 1.3824 - val_accuracy: 0.1969 - val_auc_2: 0.5703 - val_precision_2: 0.0000e+00 - val_recall_2: 0.0000e+00 - val_f1_score: 0.1908 - 662ms/epoch - 83ms/step\n",
      "Epoch 37/50\n",
      "8/8 - 1s - loss: 1.2635 - accuracy: 0.2806 - auc_2: 0.6261 - precision_2: 0.5000 - recall_2: 0.0040 - f1_score: 0.2444 - val_loss: 1.3686 - val_accuracy: 0.2362 - val_auc_2: 0.5916 - val_precision_2: 0.0000e+00 - val_recall_2: 0.0000e+00 - val_f1_score: 0.2161 - 663ms/epoch - 83ms/step\n",
      "Epoch 38/50\n",
      "8/8 - 1s - loss: 1.2597 - accuracy: 0.2767 - auc_2: 0.6296 - precision_2: 0.5000 - recall_2: 0.0040 - f1_score: 0.2449 - val_loss: 1.3770 - val_accuracy: 0.2362 - val_auc_2: 0.5789 - val_precision_2: 0.0000e+00 - val_recall_2: 0.0000e+00 - val_f1_score: 0.2153 - 657ms/epoch - 82ms/step\n",
      "Epoch 39/50\n",
      "8/8 - 1s - loss: 1.2568 - accuracy: 0.2688 - auc_2: 0.6261 - precision_2: 0.5000 - recall_2: 0.0040 - f1_score: 0.2400 - val_loss: 1.3765 - val_accuracy: 0.2205 - val_auc_2: 0.5801 - val_precision_2: 0.0000e+00 - val_recall_2: 0.0000e+00 - val_f1_score: 0.2071 - 665ms/epoch - 83ms/step\n",
      "Epoch 40/50\n",
      "8/8 - 1s - loss: 1.2538 - accuracy: 0.2885 - auc_2: 0.6350 - precision_2: 0.5000 - recall_2: 0.0040 - f1_score: 0.2535 - val_loss: 1.3746 - val_accuracy: 0.2362 - val_auc_2: 0.5835 - val_precision_2: 0.0000e+00 - val_recall_2: 0.0000e+00 - val_f1_score: 0.2164 - 664ms/epoch - 83ms/step\n",
      "Epoch 41/50\n",
      "8/8 - 1s - loss: 1.2518 - accuracy: 0.2925 - auc_2: 0.6396 - precision_2: 0.5000 - recall_2: 0.0040 - f1_score: 0.2562 - val_loss: 1.3711 - val_accuracy: 0.2362 - val_auc_2: 0.5909 - val_precision_2: 0.0000e+00 - val_recall_2: 0.0000e+00 - val_f1_score: 0.2155 - 665ms/epoch - 83ms/step\n",
      "Epoch 42/50\n",
      "8/8 - 1s - loss: 1.2504 - accuracy: 0.2925 - auc_2: 0.6444 - precision_2: 0.5000 - recall_2: 0.0040 - f1_score: 0.2515 - val_loss: 1.3700 - val_accuracy: 0.2362 - val_auc_2: 0.5937 - val_precision_2: 0.0000e+00 - val_recall_2: 0.0000e+00 - val_f1_score: 0.2153 - 664ms/epoch - 83ms/step\n",
      "Epoch 43/50\n",
      "8/8 - 1s - loss: 1.2478 - accuracy: 0.2885 - auc_2: 0.6401 - precision_2: 0.5000 - recall_2: 0.0040 - f1_score: 0.2531 - val_loss: 1.3762 - val_accuracy: 0.2283 - val_auc_2: 0.5820 - val_precision_2: 0.0000e+00 - val_recall_2: 0.0000e+00 - val_f1_score: 0.2082 - 667ms/epoch - 83ms/step\n",
      "Epoch 44/50\n",
      "8/8 - 1s - loss: 1.2438 - accuracy: 0.2727 - auc_2: 0.6332 - precision_2: 0.5000 - recall_2: 0.0040 - f1_score: 0.2430 - val_loss: 1.3764 - val_accuracy: 0.2362 - val_auc_2: 0.5834 - val_precision_2: 0.0000e+00 - val_recall_2: 0.0000e+00 - val_f1_score: 0.2164 - 659ms/epoch - 82ms/step\n",
      "Epoch 45/50\n",
      "8/8 - 1s - loss: 1.2431 - accuracy: 0.2925 - auc_2: 0.6443 - precision_2: 0.5000 - recall_2: 0.0040 - f1_score: 0.2529 - val_loss: 1.3709 - val_accuracy: 0.2283 - val_auc_2: 0.5919 - val_precision_2: 0.0000e+00 - val_recall_2: 0.0000e+00 - val_f1_score: 0.2055 - 663ms/epoch - 83ms/step\n",
      "Epoch 46/50\n",
      "8/8 - 1s - loss: 1.2405 - accuracy: 0.2885 - auc_2: 0.6515 - precision_2: 0.5000 - recall_2: 0.0040 - f1_score: 0.2495 - val_loss: 1.3699 - val_accuracy: 0.2441 - val_auc_2: 0.5922 - val_precision_2: 0.0000e+00 - val_recall_2: 0.0000e+00 - val_f1_score: 0.2213 - 663ms/epoch - 83ms/step\n",
      "Epoch 47/50\n",
      "8/8 - 1s - loss: 1.2389 - accuracy: 0.2846 - auc_2: 0.6450 - precision_2: 0.5000 - recall_2: 0.0040 - f1_score: 0.2508 - val_loss: 1.3727 - val_accuracy: 0.2362 - val_auc_2: 0.5894 - val_precision_2: 0.0000e+00 - val_recall_2: 0.0000e+00 - val_f1_score: 0.2153 - 659ms/epoch - 82ms/step\n",
      "Epoch 48/50\n",
      "8/8 - 1s - loss: 1.2354 - accuracy: 0.2964 - auc_2: 0.6445 - precision_2: 0.5000 - recall_2: 0.0040 - f1_score: 0.2625 - val_loss: 1.3744 - val_accuracy: 0.2362 - val_auc_2: 0.5863 - val_precision_2: 0.0000e+00 - val_recall_2: 0.0000e+00 - val_f1_score: 0.2155 - 662ms/epoch - 83ms/step\n",
      "Epoch 49/50\n",
      "8/8 - 1s - loss: 1.2328 - accuracy: 0.3162 - auc_2: 0.6457 - precision_2: 0.5000 - recall_2: 0.0040 - f1_score: 0.2800 - val_loss: 1.3739 - val_accuracy: 0.2362 - val_auc_2: 0.5893 - val_precision_2: 0.0000e+00 - val_recall_2: 0.0000e+00 - val_f1_score: 0.2163 - 663ms/epoch - 83ms/step\n",
      "Epoch 50/50\n",
      "8/8 - 1s - loss: 1.2318 - accuracy: 0.3043 - auc_2: 0.6496 - precision_2: 0.5000 - recall_2: 0.0040 - f1_score: 0.2719 - val_loss: 1.3674 - val_accuracy: 0.2441 - val_auc_2: 0.5953 - val_precision_2: 0.0000e+00 - val_recall_2: 0.0000e+00 - val_f1_score: 0.2212 - 657ms/epoch - 82ms/step\n"
     ]
    },
    {
     "data": {
      "image/png": "[encoded data removed]",
      "text/plain": [
       "<Figure size 432x288 with 1 Axes>"
      ]
     },
     "metadata": {
      "needs_background": "light"
     },
     "output_type": "display_data"
    },
    {
     "name": "stdout",
     "output_type": "stream",
     "text": [
      "Epoch 1/50\n",
      "8/8 - 3s - loss: 1.2927 - accuracy: 0.1732 - auc_3: 0.5172 - precision_3: 0.0000e+00 - recall_3: 0.0000e+00 - f1_score: 0.1279 - val_loss: 1.3839 - val_accuracy: 0.1667 - val_auc_3: 0.5538 - val_precision_3: 0.0000e+00 - val_recall_3: 0.0000e+00 - val_f1_score: 0.1477 - 3s/epoch - 369ms/step\n",
      "Epoch 2/50\n",
      "8/8 - 1s - loss: 1.2621 - accuracy: 0.1890 - auc_3: 0.5616 - precision_3: 1.0000 - recall_3: 0.0039 - f1_score: 0.1382 - val_loss: 1.3657 - val_accuracy: 0.2063 - val_auc_3: 0.5861 - val_precision_3: 0.0000e+00 - val_recall_3: 0.0000e+00 - val_f1_score: 0.1943 - 647ms/epoch - 81ms/step\n",
      "Epoch 3/50\n",
      "8/8 - 1s - loss: 1.2443 - accuracy: 0.2008 - auc_3: 0.5835 - precision_3: 1.0000 - recall_3: 0.0079 - f1_score: 0.1447 - val_loss: 1.3535 - val_accuracy: 0.2143 - val_auc_3: 0.6036 - val_precision_3: 0.0000e+00 - val_recall_3: 0.0000e+00 - val_f1_score: 0.2004 - 642ms/epoch - 80ms/step\n",
      "Epoch 4/50\n",
      "8/8 - 1s - loss: 1.2327 - accuracy: 0.2244 - auc_3: 0.5914 - precision_3: 1.0000 - recall_3: 0.0079 - f1_score: 0.1999 - val_loss: 1.3443 - val_accuracy: 0.2381 - val_auc_3: 0.6114 - val_precision_3: 0.0000e+00 - val_recall_3: 0.0000e+00 - val_f1_score: 0.2271 - 646ms/epoch - 81ms/step\n",
      "Epoch 5/50\n",
      "8/8 - 1s - loss: 1.2117 - accuracy: 0.2283 - auc_3: 0.5975 - precision_3: 1.0000 - recall_3: 0.0039 - f1_score: 0.2030 - val_loss: 1.3391 - val_accuracy: 0.2381 - val_auc_3: 0.6141 - val_precision_3: 0.0000e+00 - val_recall_3: 0.0000e+00 - val_f1_score: 0.2331 - 641ms/epoch - 80ms/step\n",
      "Epoch 6/50\n",
      "8/8 - 1s - loss: 1.1931 - accuracy: 0.2402 - auc_3: 0.6075 - precision_3: 1.0000 - recall_3: 0.0039 - f1_score: 0.2153 - val_loss: 1.3376 - val_accuracy: 0.2460 - val_auc_3: 0.6140 - val_precision_3: 0.0000e+00 - val_recall_3: 0.0000e+00 - val_f1_score: 0.2391 - 646ms/epoch - 81ms/step\n",
      "Epoch 7/50\n",
      "8/8 - 1s - loss: 1.1870 - accuracy: 0.2362 - auc_3: 0.6086 - precision_3: 1.0000 - recall_3: 0.0079 - f1_score: 0.2155 - val_loss: 1.3356 - val_accuracy: 0.2460 - val_auc_3: 0.6102 - val_precision_3: 0.0000e+00 - val_recall_3: 0.0000e+00 - val_f1_score: 0.2417 - 637ms/epoch - 80ms/step\n",
      "Epoch 8/50\n",
      "8/8 - 1s - loss: 1.1828 - accuracy: 0.2559 - auc_3: 0.6109 - precision_3: 1.0000 - recall_3: 0.0079 - f1_score: 0.2342 - val_loss: 1.3298 - val_accuracy: 0.2619 - val_auc_3: 0.6145 - val_precision_3: 0.0000e+00 - val_recall_3: 0.0000e+00 - val_f1_score: 0.2563 - 643ms/epoch - 80ms/step\n",
      "Epoch 9/50\n",
      "8/8 - 1s - loss: 1.1799 - accuracy: 0.2441 - auc_3: 0.6141 - precision_3: 1.0000 - recall_3: 0.0039 - f1_score: 0.2232 - val_loss: 1.3282 - val_accuracy: 0.2619 - val_auc_3: 0.6132 - val_precision_3: 0.0000e+00 - val_recall_3: 0.0000e+00 - val_f1_score: 0.2563 - 645ms/epoch - 81ms/step\n",
      "Epoch 10/50\n",
      "8/8 - 1s - loss: 1.1769 - accuracy: 0.2559 - auc_3: 0.6140 - precision_3: 1.0000 - recall_3: 0.0079 - f1_score: 0.2336 - val_loss: 1.3256 - val_accuracy: 0.2778 - val_auc_3: 0.6101 - val_precision_3: 0.0000e+00 - val_recall_3: 0.0000e+00 - val_f1_score: 0.2760 - 649ms/epoch - 81ms/step\n",
      "Epoch 11/50\n",
      "8/8 - 1s - loss: 1.1752 - accuracy: 0.2677 - auc_3: 0.6147 - precision_3: 1.0000 - recall_3: 0.0039 - f1_score: 0.2473 - val_loss: 1.3229 - val_accuracy: 0.2778 - val_auc_3: 0.6125 - val_precision_3: 0.0000e+00 - val_recall_3: 0.0000e+00 - val_f1_score: 0.2245 - 643ms/epoch - 80ms/step\n",
      "Epoch 12/50\n",
      "8/8 - 1s - loss: 1.1726 - accuracy: 0.2677 - auc_3: 0.6203 - precision_3: 0.0000e+00 - recall_3: 0.0000e+00 - f1_score: 0.2478 - val_loss: 1.3164 - val_accuracy: 0.2937 - val_auc_3: 0.6210 - val_precision_3: 0.0000e+00 - val_recall_3: 0.0000e+00 - val_f1_score: 0.2349 - 644ms/epoch - 80ms/step\n",
      "Epoch 13/50\n",
      "8/8 - 1s - loss: 1.1707 - accuracy: 0.2638 - auc_3: 0.6211 - precision_3: 0.0000e+00 - recall_3: 0.0000e+00 - f1_score: 0.2452 - val_loss: 1.3179 - val_accuracy: 0.2937 - val_auc_3: 0.6153 - val_precision_3: 0.0000e+00 - val_recall_3: 0.0000e+00 - val_f1_score: 0.2349 - 648ms/epoch - 81ms/step\n",
      "Epoch 14/50\n",
      "8/8 - 1s - loss: 1.1690 - accuracy: 0.2598 - auc_3: 0.6163 - precision_3: 0.0000e+00 - recall_3: 0.0000e+00 - f1_score: 0.2359 - val_loss: 1.3178 - val_accuracy: 0.3016 - val_auc_3: 0.6167 - val_precision_3: 0.0000e+00 - val_recall_3: 0.0000e+00 - val_f1_score: 0.2400 - 642ms/epoch - 80ms/step\n",
      "Epoch 15/50\n",
      "8/8 - 1s - loss: 1.1668 - accuracy: 0.2677 - auc_3: 0.6199 - precision_3: 0.0000e+00 - recall_3: 0.0000e+00 - f1_score: 0.2408 - val_loss: 1.3141 - val_accuracy: 0.3175 - val_auc_3: 0.6190 - val_precision_3: 0.0000e+00 - val_recall_3: 0.0000e+00 - val_f1_score: 0.2499 - 643ms/epoch - 80ms/step\n",
      "Epoch 16/50\n",
      "8/8 - 1s - loss: 1.1669 - accuracy: 0.3031 - auc_3: 0.6242 - precision_3: 0.0000e+00 - recall_3: 0.0000e+00 - f1_score: 0.2706 - val_loss: 1.3039 - val_accuracy: 0.3333 - val_auc_3: 0.6277 - val_precision_3: 0.0000e+00 - val_recall_3: 0.0000e+00 - val_f1_score: 0.2605 - 639ms/epoch - 80ms/step\n",
      "Epoch 17/50\n",
      "8/8 - 1s - loss: 1.1638 - accuracy: 0.3110 - auc_3: 0.6316 - precision_3: 0.0000e+00 - recall_3: 0.0000e+00 - f1_score: 0.2746 - val_loss: 1.3017 - val_accuracy: 0.3175 - val_auc_3: 0.6310 - val_precision_3: 0.0000e+00 - val_recall_3: 0.0000e+00 - val_f1_score: 0.2509 - 640ms/epoch - 80ms/step\n",
      "Epoch 18/50\n",
      "8/8 - 1s - loss: 1.1621 - accuracy: 0.3150 - auc_3: 0.6338 - precision_3: 0.0000e+00 - recall_3: 0.0000e+00 - f1_score: 0.2768 - val_loss: 1.2989 - val_accuracy: 0.3413 - val_auc_3: 0.6328 - val_precision_3: 0.0000e+00 - val_recall_3: 0.0000e+00 - val_f1_score: 0.2652 - 639ms/epoch - 80ms/step\n",
      "Epoch 19/50\n",
      "8/8 - 1s - loss: 1.1609 - accuracy: 0.3228 - auc_3: 0.6451 - precision_3: 0.0000e+00 - recall_3: 0.0000e+00 - f1_score: 0.2802 - val_loss: 1.2902 - val_accuracy: 0.3571 - val_auc_3: 0.6479 - val_precision_3: 0.0000e+00 - val_recall_3: 0.0000e+00 - val_f1_score: 0.2754 - 631ms/epoch - 79ms/step\n",
      "Epoch 20/50\n",
      "8/8 - 1s - loss: 1.1601 - accuracy: 0.3346 - auc_3: 0.6527 - precision_3: 0.0000e+00 - recall_3: 0.0000e+00 - f1_score: 0.2834 - val_loss: 1.2898 - val_accuracy: 0.3651 - val_auc_3: 0.6452 - val_precision_3: 0.0000e+00 - val_recall_3: 0.0000e+00 - val_f1_score: 0.2800 - 638ms/epoch - 80ms/step\n",
      "Epoch 21/50\n",
      "8/8 - 1s - loss: 1.1568 - accuracy: 0.3346 - auc_3: 0.6464 - precision_3: 0.0000e+00 - recall_3: 0.0000e+00 - f1_score: 0.2877 - val_loss: 1.2912 - val_accuracy: 0.3333 - val_auc_3: 0.6409 - val_precision_3: 0.0000e+00 - val_recall_3: 0.0000e+00 - val_f1_score: 0.2602 - 630ms/epoch - 79ms/step\n",
      "Epoch 22/50\n",
      "8/8 - 1s - loss: 1.1547 - accuracy: 0.3268 - auc_3: 0.6462 - precision_3: 0.0000e+00 - recall_3: 0.0000e+00 - f1_score: 0.2876 - val_loss: 1.2883 - val_accuracy: 0.3413 - val_auc_3: 0.6425 - val_precision_3: 0.0000e+00 - val_recall_3: 0.0000e+00 - val_f1_score: 0.2648 - 630ms/epoch - 79ms/step\n",
      "Epoch 23/50\n",
      "8/8 - 1s - loss: 1.1522 - accuracy: 0.3150 - auc_3: 0.6450 - precision_3: 0.0000e+00 - recall_3: 0.0000e+00 - f1_score: 0.2919 - val_loss: 1.2857 - val_accuracy: 0.3492 - val_auc_3: 0.6453 - val_precision_3: 0.0000e+00 - val_recall_3: 0.0000e+00 - val_f1_score: 0.2658 - 688ms/epoch - 86ms/step\n",
      "Epoch 24/50\n",
      "8/8 - 1s - loss: 1.1470 - accuracy: 0.3228 - auc_3: 0.6501 - precision_3: 0.0000e+00 - recall_3: 0.0000e+00 - f1_score: 0.3574 - val_loss: 1.2835 - val_accuracy: 0.3571 - val_auc_3: 0.6483 - val_precision_3: 0.0000e+00 - val_recall_3: 0.0000e+00 - val_f1_score: 0.2718 - 640ms/epoch - 80ms/step\n",
      "Epoch 25/50\n",
      "8/8 - 1s - loss: 1.1420 - accuracy: 0.3228 - auc_3: 0.6533 - precision_3: 0.0000e+00 - recall_3: 0.0000e+00 - f1_score: 0.3576 - val_loss: 1.2772 - val_accuracy: 0.3492 - val_auc_3: 0.6503 - val_precision_3: 0.0000e+00 - val_recall_3: 0.0000e+00 - val_f1_score: 0.2673 - 631ms/epoch - 79ms/step\n",
      "Epoch 26/50\n",
      "8/8 - 1s - loss: 1.1388 - accuracy: 0.3189 - auc_3: 0.6565 - precision_3: 0.0000e+00 - recall_3: 0.0000e+00 - f1_score: 0.3549 - val_loss: 1.2742 - val_accuracy: 0.3571 - val_auc_3: 0.6524 - val_precision_3: 0.0000e+00 - val_recall_3: 0.0000e+00 - val_f1_score: 0.2709 - 648ms/epoch - 81ms/step\n",
      "Epoch 27/50\n",
      "8/8 - 1s - loss: 1.1398 - accuracy: 0.3189 - auc_3: 0.6583 - precision_3: 0.0000e+00 - recall_3: 0.0000e+00 - f1_score: 0.3546 - val_loss: 1.2726 - val_accuracy: 0.3492 - val_auc_3: 0.6534 - val_precision_3: 0.0000e+00 - val_recall_3: 0.0000e+00 - val_f1_score: 0.2699 - 630ms/epoch - 79ms/step\n",
      "Epoch 28/50\n",
      "8/8 - 1s - loss: 1.1348 - accuracy: 0.3268 - auc_3: 0.6629 - precision_3: 0.0000e+00 - recall_3: 0.0000e+00 - f1_score: 0.3350 - val_loss: 1.2715 - val_accuracy: 0.3571 - val_auc_3: 0.6561 - val_precision_3: 0.0000e+00 - val_recall_3: 0.0000e+00 - val_f1_score: 0.2718 - 633ms/epoch - 79ms/step\n",
      "Epoch 29/50\n",
      "8/8 - 1s - loss: 1.1330 - accuracy: 0.3386 - auc_3: 0.6696 - precision_3: 0.0000e+00 - recall_3: 0.0000e+00 - f1_score: 0.3666 - val_loss: 1.2696 - val_accuracy: 0.3651 - val_auc_3: 0.6571 - val_precision_3: 0.0000e+00 - val_recall_3: 0.0000e+00 - val_f1_score: 0.2763 - 628ms/epoch - 79ms/step\n",
      "Epoch 30/50\n",
      "8/8 - 1s - loss: 1.1310 - accuracy: 0.3425 - auc_3: 0.6714 - precision_3: 0.0000e+00 - recall_3: 0.0000e+00 - f1_score: 0.3687 - val_loss: 1.2671 - val_accuracy: 0.3651 - val_auc_3: 0.6617 - val_precision_3: 0.0000e+00 - val_recall_3: 0.0000e+00 - val_f1_score: 0.2755 - 630ms/epoch - 79ms/step\n",
      "Epoch 31/50\n",
      "8/8 - 1s - loss: 1.1304 - accuracy: 0.3425 - auc_3: 0.6786 - precision_3: 1.0000 - recall_3: 0.0039 - f1_score: 0.3673 - val_loss: 1.2632 - val_accuracy: 0.3571 - val_auc_3: 0.6653 - val_precision_3: 0.0000e+00 - val_recall_3: 0.0000e+00 - val_f1_score: 0.2694 - 627ms/epoch - 78ms/step\n",
      "Epoch 32/50\n",
      "8/8 - 1s - loss: 1.1293 - accuracy: 0.3307 - auc_3: 0.6750 - precision_3: 1.0000 - recall_3: 0.0039 - f1_score: 0.3360 - val_loss: 1.2646 - val_accuracy: 0.3730 - val_auc_3: 0.6629 - val_precision_3: 0.0000e+00 - val_recall_3: 0.0000e+00 - val_f1_score: 0.2822 - 625ms/epoch - 78ms/step\n",
      "Epoch 33/50\n",
      "8/8 - 1s - loss: 1.1265 - accuracy: 0.3346 - auc_3: 0.6775 - precision_3: 1.0000 - recall_3: 0.0039 - f1_score: 0.3386 - val_loss: 1.2630 - val_accuracy: 0.3651 - val_auc_3: 0.6664 - val_precision_3: 0.0000e+00 - val_recall_3: 0.0000e+00 - val_f1_score: 0.2747 - 630ms/epoch - 79ms/step\n",
      "Epoch 34/50\n",
      "8/8 - 1s - loss: 1.1248 - accuracy: 0.3307 - auc_3: 0.6790 - precision_3: 1.0000 - recall_3: 0.0039 - f1_score: 0.3367 - val_loss: 1.2615 - val_accuracy: 0.3651 - val_auc_3: 0.6666 - val_precision_3: 0.0000e+00 - val_recall_3: 0.0000e+00 - val_f1_score: 0.3537 - 624ms/epoch - 78ms/step\n",
      "Epoch 35/50\n",
      "8/8 - 1s - loss: 1.1227 - accuracy: 0.3307 - auc_3: 0.6835 - precision_3: 1.0000 - recall_3: 0.0039 - f1_score: 0.3363 - val_loss: 1.2596 - val_accuracy: 0.3730 - val_auc_3: 0.6688 - val_precision_3: 0.0000e+00 - val_recall_3: 0.0000e+00 - val_f1_score: 0.2822 - 627ms/epoch - 78ms/step\n",
      "Epoch 36/50\n",
      "8/8 - 1s - loss: 1.1211 - accuracy: 0.3465 - auc_3: 0.6858 - precision_3: 1.0000 - recall_3: 0.0039 - f1_score: 0.3692 - val_loss: 1.2568 - val_accuracy: 0.3810 - val_auc_3: 0.6728 - val_precision_3: 0.0000e+00 - val_recall_3: 0.0000e+00 - val_f1_score: 0.2866 - 628ms/epoch - 78ms/step\n",
      "Epoch 37/50\n",
      "8/8 - 1s - loss: 1.1188 - accuracy: 0.3504 - auc_3: 0.6897 - precision_3: 1.0000 - recall_3: 0.0039 - f1_score: 0.3713 - val_loss: 1.2569 - val_accuracy: 0.3730 - val_auc_3: 0.6713 - val_precision_3: 0.0000e+00 - val_recall_3: 0.0000e+00 - val_f1_score: 0.3472 - 634ms/epoch - 79ms/step\n",
      "Epoch 38/50\n",
      "8/8 - 1s - loss: 1.1137 - accuracy: 0.3386 - auc_3: 0.6866 - precision_3: 1.0000 - recall_3: 0.0079 - f1_score: 0.3408 - val_loss: 1.2522 - val_accuracy: 0.3651 - val_auc_3: 0.6668 - val_precision_3: 0.0000e+00 - val_recall_3: 0.0000e+00 - val_f1_score: 0.3436 - 638ms/epoch - 80ms/step\n",
      "Epoch 39/50\n",
      "8/8 - 1s - loss: 1.1047 - accuracy: 0.3386 - auc_3: 0.6873 - precision_3: 1.0000 - recall_3: 0.0079 - f1_score: 0.3420 - val_loss: 1.2399 - val_accuracy: 0.3730 - val_auc_3: 0.6715 - val_precision_3: 0.0000e+00 - val_recall_3: 0.0000e+00 - val_f1_score: 0.3630 - 627ms/epoch - 78ms/step\n",
      "Epoch 40/50\n",
      "8/8 - 1s - loss: 1.1330 - accuracy: 0.3465 - auc_3: 0.6909 - precision_3: 1.0000 - recall_3: 0.0039 - f1_score: 0.3414 - val_loss: 1.2439 - val_accuracy: 0.3730 - val_auc_3: 0.6744 - val_precision_3: 0.0000e+00 - val_recall_3: 0.0000e+00 - val_f1_score: 0.3439 - 628ms/epoch - 79ms/step\n",
      "Epoch 41/50\n",
      "8/8 - 1s - loss: 1.1077 - accuracy: 0.3504 - auc_3: 0.6933 - precision_3: 1.0000 - recall_3: 0.0039 - f1_score: 0.3327 - val_loss: 1.2498 - val_accuracy: 0.3571 - val_auc_3: 0.6697 - val_precision_3: 0.0000e+00 - val_recall_3: 0.0000e+00 - val_f1_score: 0.3301 - 640ms/epoch - 80ms/step\n",
      "Epoch 42/50\n",
      "8/8 - 1s - loss: 1.1114 - accuracy: 0.3504 - auc_3: 0.6872 - precision_3: 1.0000 - recall_3: 0.0039 - f1_score: 0.3205 - val_loss: 1.2502 - val_accuracy: 0.3651 - val_auc_3: 0.6726 - val_precision_3: 0.0000e+00 - val_recall_3: 0.0000e+00 - val_f1_score: 0.3295 - 638ms/epoch - 80ms/step\n",
      "Epoch 43/50\n",
      "8/8 - 1s - loss: 1.1097 - accuracy: 0.3386 - auc_3: 0.6847 - precision_3: 1.0000 - recall_3: 0.0039 - f1_score: 0.3139 - val_loss: 1.2515 - val_accuracy: 0.3492 - val_auc_3: 0.6674 - val_precision_3: 0.0000e+00 - val_recall_3: 0.0000e+00 - val_f1_score: 0.3231 - 633ms/epoch - 79ms/step\n",
      "Epoch 44/50\n",
      "8/8 - 1s - loss: 1.1059 - accuracy: 0.3425 - auc_3: 0.6911 - precision_3: 1.0000 - recall_3: 0.0039 - f1_score: 0.3164 - val_loss: 1.2434 - val_accuracy: 0.3571 - val_auc_3: 0.6773 - val_precision_3: 0.0000e+00 - val_recall_3: 0.0000e+00 - val_f1_score: 0.3259 - 632ms/epoch - 79ms/step\n",
      "Epoch 45/50\n",
      "8/8 - 1s - loss: 1.1043 - accuracy: 0.3465 - auc_3: 0.6982 - precision_3: 1.0000 - recall_3: 0.0079 - f1_score: 0.3180 - val_loss: 1.2317 - val_accuracy: 0.3730 - val_auc_3: 0.6864 - val_precision_3: 0.0000e+00 - val_recall_3: 0.0000e+00 - val_f1_score: 0.3389 - 627ms/epoch - 78ms/step\n",
      "Epoch 46/50\n",
      "8/8 - 1s - loss: 1.0998 - accuracy: 0.3504 - auc_3: 0.7063 - precision_3: 1.0000 - recall_3: 0.0079 - f1_score: 0.3435 - val_loss: 1.2365 - val_accuracy: 0.3571 - val_auc_3: 0.6793 - val_precision_3: 0.0000e+00 - val_recall_3: 0.0000e+00 - val_f1_score: 0.3230 - 632ms/epoch - 79ms/step\n",
      "Epoch 47/50\n",
      "8/8 - 1s - loss: 1.0962 - accuracy: 0.3583 - auc_3: 0.7075 - precision_3: 0.5000 - recall_3: 0.0079 - f1_score: 0.3502 - val_loss: 1.2355 - val_accuracy: 0.3492 - val_auc_3: 0.6788 - val_precision_3: 0.0000e+00 - val_recall_3: 0.0000e+00 - val_f1_score: 0.3232 - 629ms/epoch - 79ms/step\n",
      "Epoch 48/50\n",
      "8/8 - 1s - loss: 1.0892 - accuracy: 0.3740 - auc_3: 0.7120 - precision_3: 0.6667 - recall_3: 0.0079 - f1_score: 0.3650 - val_loss: 1.2289 - val_accuracy: 0.3492 - val_auc_3: 0.6860 - val_precision_3: 0.0000e+00 - val_recall_3: 0.0000e+00 - val_f1_score: 0.3241 - 640ms/epoch - 80ms/step\n",
      "Epoch 49/50\n",
      "8/8 - 1s - loss: 1.0881 - accuracy: 0.3819 - auc_3: 0.7174 - precision_3: 0.6667 - recall_3: 0.0079 - f1_score: 0.3581 - val_loss: 1.2275 - val_accuracy: 0.4127 - val_auc_3: 0.6890 - val_precision_3: 0.0000e+00 - val_recall_3: 0.0000e+00 - val_f1_score: 0.3710 - 628ms/epoch - 79ms/step\n",
      "Epoch 50/50\n",
      "8/8 - 1s - loss: 1.0868 - accuracy: 0.3701 - auc_3: 0.7156 - precision_3: 0.5000 - recall_3: 0.0079 - f1_score: 0.3542 - val_loss: 1.2259 - val_accuracy: 0.4206 - val_auc_3: 0.6919 - val_precision_3: 0.0000e+00 - val_recall_3: 0.0000e+00 - val_f1_score: 0.3833 - 633ms/epoch - 79ms/step\n"
     ]
    },
    {
     "data": {
      "image/png": "[encoded data removed]",
      "text/plain": [
       "<Figure size 432x288 with 1 Axes>"
      ]
     },
     "metadata": {
      "needs_background": "light"
     },
     "output_type": "display_data"
    }
   ],
   "source": [
    "for train_index, val_index in kf.split(X):\n",
    "    X_train, X_val = X[train_index], X[val_index]\n",
    "    y_train, y_val = y[train_index], y[val_index]\n",
    "    baseline_body_model = Baseline(n_features, n_length, n_outputs)\n",
    "    history = baseline_body_model.train(X_train, y_train, X_val, y_val, epochs, batch_size, d_class_weights)\n",
    "    plt.plot(history.history['loss'])\n",
    "    plt.show()"
   ]
  },
  {
   "cell_type": "markdown",
   "metadata": {},
   "source": [
    "#### Prediction on holdout set"
   ]
  },
  {
   "cell_type": "code",
   "execution_count": 9,
   "metadata": {},
   "outputs": [
    {
     "name": "stdout",
     "output_type": "stream",
     "text": [
      "Accuracy: 40.00% \n",
      "Balanced Accuracy: 28.55% \n",
      "ROC/AUC: 0.70 \n",
      "Precision: 0.00 \n",
      "Recall: 0.00 \n",
      "F1 score: 0.28\n"
     ]
    }
   ],
   "source": [
    "y_pred = baseline_body_model.predict(X_test)\n",
    "_, acc, auc, precision, recall, f1 = baseline_body_model.evaluate(X_test, y_test)\n",
    "results.append(round(auc, 2))\n",
    "bal_acc = balanced_accuracy_score(y_test.argmax(axis=1), y_pred.argmax(axis=1)) \n",
    "print('Accuracy: {:.2f}% \\nBalanced Accuracy: {:.2f}% \\nROC/AUC: {:.2f} \\nPrecision: {:.2f} \\nRecall: {:.2f} \\nF1 score: {:.2f}'.format(acc * 100, bal_acc * 100, auc, precision, recall, f1))"
   ]
  },
  {
   "cell_type": "markdown",
   "metadata": {},
   "source": [
    "## 2. Unimodal Face Modality (Action Units + Head Pose)"
   ]
  },
  {
   "cell_type": "markdown",
   "metadata": {},
   "source": [
    "### Dataset"
   ]
  },
  {
   "cell_type": "code",
   "execution_count": 10,
   "metadata": {},
   "outputs": [
    {
     "name": "stdout",
     "output_type": "stream",
     "text": [
      "(366, 350, 25) (366, 4)\n",
      "(231, 350, 25) (231, 4)\n"
     ]
    }
   ],
   "source": [
    "X_train, X_test, y_train, y_test = load_dataset('AUs', nopain=False)\n",
    "X_train = X_train.reshape(X_train.shape[0], X_train.shape[2], X_train.shape[3])\n",
    "X_test = X_test.reshape(X_test.shape[0], X_test.shape[2], X_test.shape[3])\n",
    "X = X_train.copy()\n",
    "y = y_train.copy()\n",
    "\n",
    "print(X_train.shape, y_train.shape)\n",
    "print(X_test.shape, y_test.shape)\n",
    "\n",
    "n_length, n_features, n_outputs = X_train.shape[1], X_train.shape[-1], y_train.shape[1]"
   ]
  },
  {
   "cell_type": "code",
   "execution_count": 11,
   "metadata": {},
   "outputs": [
    {
     "data": {
      "text/plain": [
       "Lower Body       236\n",
       "Back Region       69\n",
       "Upper Body        57\n",
       "Head and Neck      4\n",
       "dtype: int64"
      ]
     },
     "execution_count": 11,
     "metadata": {},
     "output_type": "execute_result"
    }
   ],
   "source": [
    "classes = get_class_names('AUs', nopain=False)\n",
    "tmp = pd.DataFrame(classes)\n",
    "classes = tmp.value_counts()\n",
    "classes"
   ]
  },
  {
   "cell_type": "code",
   "execution_count": 12,
   "metadata": {},
   "outputs": [
    {
     "data": {
      "text/plain": [
       "{0: 1.326086956521739, 1: 22.875, 2: 0.3877118644067797, 3: 1.605263157894737}"
      ]
     },
     "execution_count": 12,
     "metadata": {},
     "output_type": "execute_result"
    }
   ],
   "source": [
    "y_integers = np.argmax(y_train, axis=1)\n",
    "class_weights = compute_class_weight(class_weight='balanced', classes=np.unique(y_integers), y=y_integers)\n",
    "d_class_weights = dict(enumerate(class_weights))\n",
    "d_class_weights"
   ]
  },
  {
   "cell_type": "code",
   "execution_count": 13,
   "metadata": {},
   "outputs": [
    {
     "name": "stdout",
     "output_type": "stream",
     "text": [
      "Model: \"model_4\"\n",
      "_________________________________________________________________\n",
      " Layer (type)                Output Shape              Param #   \n",
      "=================================================================\n",
      " input_5 (InputLayer)        [(None, 350, 25)]         0         \n",
      "                                                                 \n",
      " lstm_4 (LSTM)               (None, 50)                15200     \n",
      "                                                                 \n",
      " dense_8 (Dense)             (None, 50)                2550      \n",
      "                                                                 \n",
      " dense_9 (Dense)             (None, 4)                 204       \n",
      "                                                                 \n",
      "=================================================================\n",
      "Total params: 17,954\n",
      "Trainable params: 17,954\n",
      "Non-trainable params: 0\n",
      "_________________________________________________________________\n"
     ]
    }
   ],
   "source": [
    "model = Baseline(n_features, n_length, n_outputs)\n",
    "model.summary()"
   ]
  },
  {
   "cell_type": "markdown",
   "metadata": {},
   "source": [
    "### Baseline Model"
   ]
  },
  {
   "cell_type": "code",
   "execution_count": 14,
   "metadata": {},
   "outputs": [
    {
     "name": "stdout",
     "output_type": "stream",
     "text": [
      "Epoch 1/50\n",
      "8/8 - 3s - loss: 1.4492 - accuracy: 0.1598 - auc_5: 0.3633 - precision_5: 0.0000e+00 - recall_5: 0.0000e+00 - f1_score: 0.1500 - val_loss: 1.4707 - val_accuracy: 0.2213 - val_auc_5: 0.4195 - val_precision_5: 0.0000e+00 - val_recall_5: 0.0000e+00 - val_f1_score: 0.1905 - 3s/epoch - 335ms/step\n",
      "Epoch 2/50\n",
      "8/8 - 1s - loss: 1.4347 - accuracy: 0.1803 - auc_5: 0.3887 - precision_5: 0.0000e+00 - recall_5: 0.0000e+00 - f1_score: 0.1659 - val_loss: 1.4625 - val_accuracy: 0.2213 - val_auc_5: 0.4288 - val_precision_5: 0.0000e+00 - val_recall_5: 0.0000e+00 - val_f1_score: 0.1995 - 647ms/epoch - 81ms/step\n",
      "Epoch 3/50\n",
      "8/8 - 1s - loss: 1.4276 - accuracy: 0.2049 - auc_5: 0.4048 - precision_5: 0.0000e+00 - recall_5: 0.0000e+00 - f1_score: 0.1780 - val_loss: 1.4578 - val_accuracy: 0.2377 - val_auc_5: 0.4377 - val_precision_5: 0.0000e+00 - val_recall_5: 0.0000e+00 - val_f1_score: 0.1938 - 646ms/epoch - 81ms/step\n",
      "Epoch 4/50\n",
      "8/8 - 1s - loss: 1.4217 - accuracy: 0.2295 - auc_5: 0.4209 - precision_5: 0.0000e+00 - recall_5: 0.0000e+00 - f1_score: 0.2007 - val_loss: 1.4491 - val_accuracy: 0.2295 - val_auc_5: 0.4473 - val_precision_5: 0.0000e+00 - val_recall_5: 0.0000e+00 - val_f1_score: 0.1888 - 649ms/epoch - 81ms/step\n",
      "Epoch 5/50\n",
      "8/8 - 1s - loss: 1.4165 - accuracy: 0.2336 - auc_5: 0.4321 - precision_5: 0.0000e+00 - recall_5: 0.0000e+00 - f1_score: 0.2059 - val_loss: 1.4412 - val_accuracy: 0.2295 - val_auc_5: 0.4594 - val_precision_5: 0.0000e+00 - val_recall_5: 0.0000e+00 - val_f1_score: 0.1888 - 653ms/epoch - 82ms/step\n",
      "Epoch 6/50\n",
      "8/8 - 1s - loss: 1.4125 - accuracy: 0.2295 - auc_5: 0.4446 - precision_5: 0.0000e+00 - recall_5: 0.0000e+00 - f1_score: 0.2005 - val_loss: 1.4362 - val_accuracy: 0.2295 - val_auc_5: 0.4702 - val_precision_5: 0.0000e+00 - val_recall_5: 0.0000e+00 - val_f1_score: 0.1778 - 654ms/epoch - 82ms/step\n",
      "Epoch 7/50\n",
      "8/8 - 1s - loss: 1.4086 - accuracy: 0.2254 - auc_5: 0.4568 - precision_5: 0.0000e+00 - recall_5: 0.0000e+00 - f1_score: 0.1936 - val_loss: 1.4280 - val_accuracy: 0.2213 - val_auc_5: 0.4822 - val_precision_5: 0.0000e+00 - val_recall_5: 0.0000e+00 - val_f1_score: 0.1612 - 652ms/epoch - 82ms/step\n",
      "Epoch 8/50\n",
      "8/8 - 1s - loss: 1.4048 - accuracy: 0.2541 - auc_5: 0.4709 - precision_5: 0.0000e+00 - recall_5: 0.0000e+00 - f1_score: 0.2126 - val_loss: 1.4243 - val_accuracy: 0.2295 - val_auc_5: 0.4918 - val_precision_5: 0.0000e+00 - val_recall_5: 0.0000e+00 - val_f1_score: 0.1659 - 647ms/epoch - 81ms/step\n",
      "Epoch 9/50\n",
      "8/8 - 1s - loss: 1.4022 - accuracy: 0.2377 - auc_5: 0.4794 - precision_5: 0.0000e+00 - recall_5: 0.0000e+00 - f1_score: 0.2029 - val_loss: 1.4198 - val_accuracy: 0.2295 - val_auc_5: 0.4956 - val_precision_5: 0.0000e+00 - val_recall_5: 0.0000e+00 - val_f1_score: 0.1660 - 655ms/epoch - 82ms/step\n",
      "Epoch 10/50\n",
      "8/8 - 1s - loss: 1.3990 - accuracy: 0.2500 - auc_5: 0.4900 - precision_5: 0.0000e+00 - recall_5: 0.0000e+00 - f1_score: 0.2111 - val_loss: 1.4146 - val_accuracy: 0.2541 - val_auc_5: 0.5057 - val_precision_5: 0.0000e+00 - val_recall_5: 0.0000e+00 - val_f1_score: 0.1809 - 646ms/epoch - 81ms/step\n",
      "Epoch 11/50\n",
      "8/8 - 1s - loss: 1.3956 - accuracy: 0.2582 - auc_5: 0.5029 - precision_5: 0.0000e+00 - recall_5: 0.0000e+00 - f1_score: 0.2121 - val_loss: 1.4086 - val_accuracy: 0.2623 - val_auc_5: 0.5121 - val_precision_5: 0.0000e+00 - val_recall_5: 0.0000e+00 - val_f1_score: 0.1852 - 652ms/epoch - 81ms/step\n",
      "Epoch 12/50\n",
      "8/8 - 1s - loss: 1.3920 - accuracy: 0.2664 - auc_5: 0.5197 - precision_5: 0.0000e+00 - recall_5: 0.0000e+00 - f1_score: 0.2166 - val_loss: 1.4032 - val_accuracy: 0.2623 - val_auc_5: 0.5266 - val_precision_5: 0.0000e+00 - val_recall_5: 0.0000e+00 - val_f1_score: 0.1841 - 650ms/epoch - 81ms/step\n",
      "Epoch 13/50\n",
      "8/8 - 1s - loss: 1.3898 - accuracy: 0.2746 - auc_5: 0.5312 - precision_5: 0.0000e+00 - recall_5: 0.0000e+00 - f1_score: 0.2218 - val_loss: 1.3952 - val_accuracy: 0.2705 - val_auc_5: 0.5376 - val_precision_5: 0.0000e+00 - val_recall_5: 0.0000e+00 - val_f1_score: 0.1883 - 654ms/epoch - 82ms/step\n",
      "Epoch 14/50\n",
      "8/8 - 1s - loss: 1.3861 - accuracy: 0.2746 - auc_5: 0.5458 - precision_5: 0.0000e+00 - recall_5: 0.0000e+00 - f1_score: 0.2139 - val_loss: 1.3873 - val_accuracy: 0.2705 - val_auc_5: 0.5514 - val_precision_5: 0.0000e+00 - val_recall_5: 0.0000e+00 - val_f1_score: 0.1873 - 652ms/epoch - 81ms/step\n",
      "Epoch 15/50\n",
      "8/8 - 1s - loss: 1.3837 - accuracy: 0.2787 - auc_5: 0.5531 - precision_5: 0.0000e+00 - recall_5: 0.0000e+00 - f1_score: 0.2158 - val_loss: 1.3837 - val_accuracy: 0.2705 - val_auc_5: 0.5568 - val_precision_5: 0.0000e+00 - val_recall_5: 0.0000e+00 - val_f1_score: 0.1870 - 657ms/epoch - 82ms/step\n",
      "Epoch 16/50\n",
      "8/8 - 1s - loss: 1.3816 - accuracy: 0.2869 - auc_5: 0.5601 - precision_5: 0.0000e+00 - recall_5: 0.0000e+00 - f1_score: 0.2205 - val_loss: 1.3805 - val_accuracy: 0.2705 - val_auc_5: 0.5625 - val_precision_5: 0.0000e+00 - val_recall_5: 0.0000e+00 - val_f1_score: 0.1870 - 648ms/epoch - 81ms/step\n",
      "Epoch 17/50\n",
      "8/8 - 1s - loss: 1.3797 - accuracy: 0.2910 - auc_5: 0.5685 - precision_5: 0.0000e+00 - recall_5: 0.0000e+00 - f1_score: 0.2226 - val_loss: 1.3763 - val_accuracy: 0.3197 - val_auc_5: 0.5719 - val_precision_5: 0.0000e+00 - val_recall_5: 0.0000e+00 - val_f1_score: 0.2118 - 667ms/epoch - 83ms/step\n",
      "Epoch 18/50\n",
      "8/8 - 1s - loss: 1.3780 - accuracy: 0.3115 - auc_5: 0.5768 - precision_5: 0.0000e+00 - recall_5: 0.0000e+00 - f1_score: 0.2331 - val_loss: 1.3733 - val_accuracy: 0.3197 - val_auc_5: 0.5769 - val_precision_5: 0.0000e+00 - val_recall_5: 0.0000e+00 - val_f1_score: 0.2118 - 663ms/epoch - 83ms/step\n",
      "Epoch 19/50\n",
      "8/8 - 1s - loss: 1.3767 - accuracy: 0.3115 - auc_5: 0.5812 - precision_5: 0.0000e+00 - recall_5: 0.0000e+00 - f1_score: 0.2331 - val_loss: 1.3740 - val_accuracy: 0.3197 - val_auc_5: 0.5759 - val_precision_5: 0.0000e+00 - val_recall_5: 0.0000e+00 - val_f1_score: 0.2111 - 650ms/epoch - 81ms/step\n",
      "Epoch 20/50\n",
      "8/8 - 1s - loss: 1.3737 - accuracy: 0.3074 - auc_5: 0.5838 - precision_5: 0.0000e+00 - recall_5: 0.0000e+00 - f1_score: 0.2308 - val_loss: 1.3731 - val_accuracy: 0.3197 - val_auc_5: 0.5766 - val_precision_5: 0.0000e+00 - val_recall_5: 0.0000e+00 - val_f1_score: 0.2111 - 652ms/epoch - 81ms/step\n",
      "Epoch 21/50\n",
      "8/8 - 1s - loss: 1.3707 - accuracy: 0.3156 - auc_5: 0.5858 - precision_5: 0.0000e+00 - recall_5: 0.0000e+00 - f1_score: 0.2353 - val_loss: 1.3744 - val_accuracy: 0.3361 - val_auc_5: 0.5750 - val_precision_5: 0.0000e+00 - val_recall_5: 0.0000e+00 - val_f1_score: 0.2209 - 651ms/epoch - 81ms/step\n",
      "Epoch 22/50\n",
      "8/8 - 1s - loss: 1.3679 - accuracy: 0.3238 - auc_5: 0.5849 - precision_5: 0.0000e+00 - recall_5: 0.0000e+00 - f1_score: 0.2388 - val_loss: 1.3762 - val_accuracy: 0.3361 - val_auc_5: 0.5745 - val_precision_5: 0.0000e+00 - val_recall_5: 0.0000e+00 - val_f1_score: 0.2203 - 652ms/epoch - 81ms/step\n",
      "Epoch 23/50\n",
      "8/8 - 1s - loss: 1.3668 - accuracy: 0.3156 - auc_5: 0.5868 - precision_5: 0.0000e+00 - recall_5: 0.0000e+00 - f1_score: 0.2341 - val_loss: 1.3751 - val_accuracy: 0.3197 - val_auc_5: 0.5781 - val_precision_5: 0.0000e+00 - val_recall_5: 0.0000e+00 - val_f1_score: 0.2103 - 653ms/epoch - 82ms/step\n",
      "Epoch 24/50\n",
      "8/8 - 1s - loss: 1.3644 - accuracy: 0.3156 - auc_5: 0.5934 - precision_5: 0.0000e+00 - recall_5: 0.0000e+00 - f1_score: 0.2341 - val_loss: 1.3729 - val_accuracy: 0.3197 - val_auc_5: 0.5846 - val_precision_5: 0.0000e+00 - val_recall_5: 0.0000e+00 - val_f1_score: 0.2103 - 653ms/epoch - 82ms/step\n",
      "Epoch 25/50\n",
      "8/8 - 1s - loss: 1.3633 - accuracy: 0.3156 - auc_5: 0.5940 - precision_5: 0.0000e+00 - recall_5: 0.0000e+00 - f1_score: 0.2350 - val_loss: 1.3754 - val_accuracy: 0.3197 - val_auc_5: 0.5791 - val_precision_5: 0.0000e+00 - val_recall_5: 0.0000e+00 - val_f1_score: 0.2119 - 651ms/epoch - 81ms/step\n",
      "Epoch 26/50\n",
      "8/8 - 1s - loss: 1.3608 - accuracy: 0.3238 - auc_5: 0.5926 - precision_5: 0.0000e+00 - recall_5: 0.0000e+00 - f1_score: 0.2461 - val_loss: 1.3740 - val_accuracy: 0.3197 - val_auc_5: 0.5823 - val_precision_5: 0.0000e+00 - val_recall_5: 0.0000e+00 - val_f1_score: 0.2119 - 654ms/epoch - 82ms/step\n",
      "Epoch 27/50\n",
      "8/8 - 1s - loss: 1.3597 - accuracy: 0.3320 - auc_5: 0.5971 - precision_5: 0.0000e+00 - recall_5: 0.0000e+00 - f1_score: 0.2507 - val_loss: 1.3733 - val_accuracy: 0.3279 - val_auc_5: 0.5815 - val_precision_5: 0.0000e+00 - val_recall_5: 0.0000e+00 - val_f1_score: 0.2167 - 655ms/epoch - 82ms/step\n",
      "Epoch 28/50\n",
      "8/8 - 1s - loss: 1.3580 - accuracy: 0.3361 - auc_5: 0.6010 - precision_5: 0.0000e+00 - recall_5: 0.0000e+00 - f1_score: 0.2530 - val_loss: 1.3724 - val_accuracy: 0.3197 - val_auc_5: 0.5853 - val_precision_5: 0.0000e+00 - val_recall_5: 0.0000e+00 - val_f1_score: 0.2119 - 646ms/epoch - 81ms/step\n",
      "Epoch 29/50\n",
      "8/8 - 1s - loss: 1.3566 - accuracy: 0.3361 - auc_5: 0.6019 - precision_5: 0.0000e+00 - recall_5: 0.0000e+00 - f1_score: 0.2530 - val_loss: 1.3710 - val_accuracy: 0.3361 - val_auc_5: 0.5914 - val_precision_5: 0.0000e+00 - val_recall_5: 0.0000e+00 - val_f1_score: 0.2208 - 653ms/epoch - 82ms/step\n",
      "Epoch 30/50\n",
      "8/8 - 1s - loss: 1.3557 - accuracy: 0.3443 - auc_5: 0.6074 - precision_5: 0.0000e+00 - recall_5: 0.0000e+00 - f1_score: 0.2561 - val_loss: 1.3681 - val_accuracy: 0.3361 - val_auc_5: 0.5960 - val_precision_5: 0.0000e+00 - val_recall_5: 0.0000e+00 - val_f1_score: 0.2202 - 697ms/epoch - 87ms/step\n",
      "Epoch 31/50\n",
      "8/8 - 1s - loss: 1.3545 - accuracy: 0.3402 - auc_5: 0.6086 - precision_5: 0.0000e+00 - recall_5: 0.0000e+00 - f1_score: 0.2539 - val_loss: 1.3701 - val_accuracy: 0.3197 - val_auc_5: 0.5910 - val_precision_5: 0.0000e+00 - val_recall_5: 0.0000e+00 - val_f1_score: 0.2113 - 673ms/epoch - 84ms/step\n",
      "Epoch 32/50\n",
      "8/8 - 1s - loss: 1.3537 - accuracy: 0.3361 - auc_5: 0.6050 - precision_5: 0.0000e+00 - recall_5: 0.0000e+00 - f1_score: 0.2517 - val_loss: 1.3707 - val_accuracy: 0.3197 - val_auc_5: 0.5881 - val_precision_5: 0.0000e+00 - val_recall_5: 0.0000e+00 - val_f1_score: 0.2113 - 659ms/epoch - 82ms/step\n",
      "Epoch 33/50\n",
      "8/8 - 1s - loss: 1.3523 - accuracy: 0.3361 - auc_5: 0.6070 - precision_5: 0.0000e+00 - recall_5: 0.0000e+00 - f1_score: 0.2517 - val_loss: 1.3674 - val_accuracy: 0.3361 - val_auc_5: 0.5926 - val_precision_5: 0.0000e+00 - val_recall_5: 0.0000e+00 - val_f1_score: 0.2215 - 651ms/epoch - 81ms/step\n",
      "Epoch 34/50\n",
      "8/8 - 1s - loss: 1.3534 - accuracy: 0.3279 - auc_5: 0.6062 - precision_5: 0.0000e+00 - recall_5: 0.0000e+00 - f1_score: 0.2498 - val_loss: 1.3701 - val_accuracy: 0.3197 - val_auc_5: 0.5854 - val_precision_5: 0.0000e+00 - val_recall_5: 0.0000e+00 - val_f1_score: 0.2156 - 654ms/epoch - 82ms/step\n",
      "Epoch 35/50\n",
      "8/8 - 1s - loss: 1.3500 - accuracy: 0.3443 - auc_5: 0.6091 - precision_5: 0.0000e+00 - recall_5: 0.0000e+00 - f1_score: 0.2590 - val_loss: 1.3673 - val_accuracy: 0.3361 - val_auc_5: 0.5897 - val_precision_5: 0.0000e+00 - val_recall_5: 0.0000e+00 - val_f1_score: 0.2218 - 653ms/epoch - 82ms/step\n",
      "Epoch 36/50\n",
      "8/8 - 1s - loss: 1.3494 - accuracy: 0.3402 - auc_5: 0.6078 - precision_5: 0.0000e+00 - recall_5: 0.0000e+00 - f1_score: 0.2545 - val_loss: 1.3689 - val_accuracy: 0.3033 - val_auc_5: 0.5894 - val_precision_5: 0.0000e+00 - val_recall_5: 0.0000e+00 - val_f1_score: 0.2046 - 650ms/epoch - 81ms/step\n",
      "Epoch 37/50\n",
      "8/8 - 1s - loss: 1.3478 - accuracy: 0.3402 - auc_5: 0.6098 - precision_5: 0.0000e+00 - recall_5: 0.0000e+00 - f1_score: 0.2552 - val_loss: 1.3664 - val_accuracy: 0.3361 - val_auc_5: 0.5936 - val_precision_5: 0.0000e+00 - val_recall_5: 0.0000e+00 - val_f1_score: 0.2218 - 657ms/epoch - 82ms/step\n",
      "Epoch 38/50\n",
      "8/8 - 1s - loss: 1.3463 - accuracy: 0.3443 - auc_5: 0.6143 - precision_5: 0.0000e+00 - recall_5: 0.0000e+00 - f1_score: 0.2588 - val_loss: 1.3670 - val_accuracy: 0.3197 - val_auc_5: 0.5909 - val_precision_5: 0.0000e+00 - val_recall_5: 0.0000e+00 - val_f1_score: 0.2192 - 655ms/epoch - 82ms/step\n",
      "Epoch 39/50\n",
      "8/8 - 1s - loss: 1.3456 - accuracy: 0.3197 - auc_5: 0.6132 - precision_5: 0.0000e+00 - recall_5: 0.0000e+00 - f1_score: 0.2358 - val_loss: 1.3667 - val_accuracy: 0.3115 - val_auc_5: 0.5921 - val_precision_5: 0.0000e+00 - val_recall_5: 0.0000e+00 - val_f1_score: 0.2179 - 648ms/epoch - 81ms/step\n",
      "Epoch 40/50\n",
      "8/8 - 1s - loss: 1.3444 - accuracy: 0.3156 - auc_5: 0.6134 - precision_5: 0.0000e+00 - recall_5: 0.0000e+00 - f1_score: 0.2421 - val_loss: 1.3664 - val_accuracy: 0.3115 - val_auc_5: 0.5897 - val_precision_5: 0.0000e+00 - val_recall_5: 0.0000e+00 - val_f1_score: 0.2189 - 648ms/epoch - 81ms/step\n",
      "Epoch 41/50\n",
      "8/8 - 1s - loss: 1.3434 - accuracy: 0.3156 - auc_5: 0.6129 - precision_5: 0.0000e+00 - recall_5: 0.0000e+00 - f1_score: 0.2403 - val_loss: 1.3642 - val_accuracy: 0.3115 - val_auc_5: 0.5960 - val_precision_5: 0.0000e+00 - val_recall_5: 0.0000e+00 - val_f1_score: 0.2168 - 648ms/epoch - 81ms/step\n",
      "Epoch 42/50\n",
      "8/8 - 1s - loss: 1.3426 - accuracy: 0.3074 - auc_5: 0.6171 - precision_5: 0.0000e+00 - recall_5: 0.0000e+00 - f1_score: 0.2294 - val_loss: 1.3653 - val_accuracy: 0.3033 - val_auc_5: 0.5937 - val_precision_5: 0.0000e+00 - val_recall_5: 0.0000e+00 - val_f1_score: 0.2137 - 650ms/epoch - 81ms/step\n",
      "Epoch 43/50\n",
      "8/8 - 1s - loss: 1.3412 - accuracy: 0.3238 - auc_5: 0.6159 - precision_5: 0.0000e+00 - recall_5: 0.0000e+00 - f1_score: 0.2379 - val_loss: 1.3656 - val_accuracy: 0.2951 - val_auc_5: 0.5927 - val_precision_5: 0.0000e+00 - val_recall_5: 0.0000e+00 - val_f1_score: 0.2097 - 650ms/epoch - 81ms/step\n",
      "Epoch 44/50\n",
      "8/8 - 1s - loss: 1.3402 - accuracy: 0.3197 - auc_5: 0.6153 - precision_5: 0.0000e+00 - recall_5: 0.0000e+00 - f1_score: 0.2510 - val_loss: 1.3665 - val_accuracy: 0.2951 - val_auc_5: 0.5899 - val_precision_5: 0.0000e+00 - val_recall_5: 0.0000e+00 - val_f1_score: 0.2097 - 646ms/epoch - 81ms/step\n",
      "Epoch 45/50\n",
      "8/8 - 1s - loss: 1.3392 - accuracy: 0.3156 - auc_5: 0.6148 - precision_5: 0.0000e+00 - recall_5: 0.0000e+00 - f1_score: 0.2403 - val_loss: 1.3651 - val_accuracy: 0.2951 - val_auc_5: 0.5920 - val_precision_5: 0.0000e+00 - val_recall_5: 0.0000e+00 - val_f1_score: 0.2097 - 648ms/epoch - 81ms/step\n",
      "Epoch 46/50\n",
      "8/8 - 1s - loss: 1.3383 - accuracy: 0.3115 - auc_5: 0.6150 - precision_5: 0.0000e+00 - recall_5: 0.0000e+00 - f1_score: 0.2372 - val_loss: 1.3645 - val_accuracy: 0.2951 - val_auc_5: 0.5937 - val_precision_5: 0.0000e+00 - val_recall_5: 0.0000e+00 - val_f1_score: 0.2097 - 654ms/epoch - 82ms/step\n",
      "Epoch 47/50\n",
      "8/8 - 1s - loss: 1.3372 - accuracy: 0.3115 - auc_5: 0.6226 - precision_5: 0.0000e+00 - recall_5: 0.0000e+00 - f1_score: 0.2328 - val_loss: 1.3606 - val_accuracy: 0.3115 - val_auc_5: 0.6047 - val_precision_5: 0.0000e+00 - val_recall_5: 0.0000e+00 - val_f1_score: 0.2177 - 649ms/epoch - 81ms/step\n",
      "Epoch 48/50\n",
      "8/8 - 1s - loss: 1.3363 - accuracy: 0.3238 - auc_5: 0.6245 - precision_5: 0.0000e+00 - recall_5: 0.0000e+00 - f1_score: 0.2391 - val_loss: 1.3614 - val_accuracy: 0.2951 - val_auc_5: 0.5992 - val_precision_5: 0.0000e+00 - val_recall_5: 0.0000e+00 - val_f1_score: 0.2077 - 649ms/epoch - 81ms/step\n",
      "Epoch 49/50\n",
      "8/8 - 1s - loss: 1.3353 - accuracy: 0.3197 - auc_5: 0.6234 - precision_5: 0.0000e+00 - recall_5: 0.0000e+00 - f1_score: 0.2370 - val_loss: 1.3609 - val_accuracy: 0.2951 - val_auc_5: 0.5995 - val_precision_5: 0.0000e+00 - val_recall_5: 0.0000e+00 - val_f1_score: 0.2077 - 647ms/epoch - 81ms/step\n",
      "Epoch 50/50\n",
      "8/8 - 1s - loss: 1.3348 - accuracy: 0.3238 - auc_5: 0.6276 - precision_5: 0.0000e+00 - recall_5: 0.0000e+00 - f1_score: 0.2377 - val_loss: 1.3588 - val_accuracy: 0.3279 - val_auc_5: 0.6018 - val_precision_5: 0.0000e+00 - val_recall_5: 0.0000e+00 - val_f1_score: 0.2247 - 646ms/epoch - 81ms/step\n"
     ]
    },
    {
     "data": {
      "image/png": "[encoded data removed]",
      "text/plain": [
       "<Figure size 432x288 with 1 Axes>"
      ]
     },
     "metadata": {
      "needs_background": "light"
     },
     "output_type": "display_data"
    },
    {
     "name": "stdout",
     "output_type": "stream",
     "text": [
      "Epoch 1/50\n",
      "8/8 - 3s - loss: 1.6608 - accuracy: 0.1926 - auc_6: 0.4315 - precision_6: 0.1429 - recall_6: 0.0123 - f1_score: 0.0855 - val_loss: 2.0699 - val_accuracy: 0.1230 - val_auc_6: 0.3717 - val_precision_6: 0.1429 - val_recall_6: 0.0082 - val_f1_score: 0.0568 - 3s/epoch - 339ms/step\n",
      "Epoch 2/50\n",
      "8/8 - 1s - loss: 1.6127 - accuracy: 0.1926 - auc_6: 0.4355 - precision_6: 0.1000 - recall_6: 0.0082 - f1_score: 0.0870 - val_loss: 1.9846 - val_accuracy: 0.1230 - val_auc_6: 0.3735 - val_precision_6: 0.1429 - val_recall_6: 0.0082 - val_f1_score: 0.0564 - 651ms/epoch - 81ms/step\n",
      "Epoch 3/50\n",
      "8/8 - 1s - loss: 1.5675 - accuracy: 0.1926 - auc_6: 0.4385 - precision_6: 0.1111 - recall_6: 0.0082 - f1_score: 0.0874 - val_loss: 1.9030 - val_accuracy: 0.1230 - val_auc_6: 0.3761 - val_precision_6: 0.0000e+00 - val_recall_6: 0.0000e+00 - val_f1_score: 0.0560 - 654ms/epoch - 82ms/step\n",
      "Epoch 4/50\n",
      "8/8 - 1s - loss: 1.5276 - accuracy: 0.1926 - auc_6: 0.4380 - precision_6: 0.2000 - recall_6: 0.0082 - f1_score: 0.0855 - val_loss: 1.8264 - val_accuracy: 0.1230 - val_auc_6: 0.3776 - val_precision_6: 0.0000e+00 - val_recall_6: 0.0000e+00 - val_f1_score: 0.0551 - 652ms/epoch - 82ms/step\n",
      "Epoch 5/50\n",
      "8/8 - 1s - loss: 1.4928 - accuracy: 0.2049 - auc_6: 0.4388 - precision_6: 0.2000 - recall_6: 0.0082 - f1_score: 0.0880 - val_loss: 1.7573 - val_accuracy: 0.1230 - val_auc_6: 0.3789 - val_precision_6: 0.0000e+00 - val_recall_6: 0.0000e+00 - val_f1_score: 0.0551 - 659ms/epoch - 82ms/step\n",
      "Epoch 6/50\n",
      "8/8 - 1s - loss: 1.4606 - accuracy: 0.2049 - auc_6: 0.4407 - precision_6: 0.2000 - recall_6: 0.0082 - f1_score: 0.0880 - val_loss: 1.6934 - val_accuracy: 0.1230 - val_auc_6: 0.3839 - val_precision_6: 0.0000e+00 - val_recall_6: 0.0000e+00 - val_f1_score: 0.0547 - 656ms/epoch - 82ms/step\n",
      "Epoch 7/50\n",
      "8/8 - 1s - loss: 1.4330 - accuracy: 0.2049 - auc_6: 0.4446 - precision_6: 0.1429 - recall_6: 0.0041 - f1_score: 0.1153 - val_loss: 1.6407 - val_accuracy: 0.1230 - val_auc_6: 0.3887 - val_precision_6: 0.0000e+00 - val_recall_6: 0.0000e+00 - val_f1_score: 0.0547 - 657ms/epoch - 82ms/step\n",
      "Epoch 8/50\n",
      "8/8 - 1s - loss: 1.4057 - accuracy: 0.2049 - auc_6: 0.4536 - precision_6: 0.0000e+00 - recall_6: 0.0000e+00 - f1_score: 0.1131 - val_loss: 1.5970 - val_accuracy: 0.1230 - val_auc_6: 0.3946 - val_precision_6: 0.0000e+00 - val_recall_6: 0.0000e+00 - val_f1_score: 0.0547 - 655ms/epoch - 82ms/step\n",
      "Epoch 9/50\n",
      "8/8 - 1s - loss: 1.3813 - accuracy: 0.2049 - auc_6: 0.4680 - precision_6: 0.0000e+00 - recall_6: 0.0000e+00 - f1_score: 0.1131 - val_loss: 1.5561 - val_accuracy: 0.1311 - val_auc_6: 0.4171 - val_precision_6: 0.0000e+00 - val_recall_6: 0.0000e+00 - val_f1_score: 0.0580 - 654ms/epoch - 82ms/step\n",
      "Epoch 10/50\n",
      "8/8 - 1s - loss: 1.3598 - accuracy: 0.2049 - auc_6: 0.4850 - precision_6: 0.0000e+00 - recall_6: 0.0000e+00 - f1_score: 0.1199 - val_loss: 1.5196 - val_accuracy: 0.1311 - val_auc_6: 0.4252 - val_precision_6: 0.0000e+00 - val_recall_6: 0.0000e+00 - val_f1_score: 0.0593 - 651ms/epoch - 81ms/step\n",
      "Epoch 11/50\n",
      "8/8 - 1s - loss: 1.3405 - accuracy: 0.2049 - auc_6: 0.4977 - precision_6: 0.0000e+00 - recall_6: 0.0000e+00 - f1_score: 0.1220 - val_loss: 1.4848 - val_accuracy: 0.1311 - val_auc_6: 0.4372 - val_precision_6: 0.0000e+00 - val_recall_6: 0.0000e+00 - val_f1_score: 0.0593 - 652ms/epoch - 82ms/step\n",
      "Epoch 12/50\n",
      "8/8 - 1s - loss: 1.3248 - accuracy: 0.2090 - auc_6: 0.5157 - precision_6: 0.0000e+00 - recall_6: 0.0000e+00 - f1_score: 0.1234 - val_loss: 1.4622 - val_accuracy: 0.1311 - val_auc_6: 0.4531 - val_precision_6: 0.0000e+00 - val_recall_6: 0.0000e+00 - val_f1_score: 0.0593 - 652ms/epoch - 82ms/step\n",
      "Epoch 13/50\n",
      "8/8 - 1s - loss: 1.3133 - accuracy: 0.2213 - auc_6: 0.5384 - precision_6: 0.0000e+00 - recall_6: 0.0000e+00 - f1_score: 0.1336 - val_loss: 1.4380 - val_accuracy: 0.1639 - val_auc_6: 0.4783 - val_precision_6: 0.0000e+00 - val_recall_6: 0.0000e+00 - val_f1_score: 0.0853 - 650ms/epoch - 81ms/step\n",
      "Epoch 14/50\n",
      "8/8 - 1s - loss: 1.3011 - accuracy: 0.2746 - auc_6: 0.5609 - precision_6: 0.0000e+00 - recall_6: 0.0000e+00 - f1_score: 0.1777 - val_loss: 1.4185 - val_accuracy: 0.2131 - val_auc_6: 0.4959 - val_precision_6: 0.0000e+00 - val_recall_6: 0.0000e+00 - val_f1_score: 0.1212 - 656ms/epoch - 82ms/step\n",
      "Epoch 15/50\n",
      "8/8 - 1s - loss: 1.2907 - accuracy: 0.3115 - auc_6: 0.5802 - precision_6: 0.0000e+00 - recall_6: 0.0000e+00 - f1_score: 0.2035 - val_loss: 1.4036 - val_accuracy: 0.2295 - val_auc_6: 0.5192 - val_precision_6: 0.0000e+00 - val_recall_6: 0.0000e+00 - val_f1_score: 0.1311 - 652ms/epoch - 81ms/step\n",
      "Epoch 16/50\n",
      "8/8 - 1s - loss: 1.2812 - accuracy: 0.3115 - auc_6: 0.5924 - precision_6: 0.0000e+00 - recall_6: 0.0000e+00 - f1_score: 0.2038 - val_loss: 1.3892 - val_accuracy: 0.2787 - val_auc_6: 0.5323 - val_precision_6: 0.0000e+00 - val_recall_6: 0.0000e+00 - val_f1_score: 0.1583 - 660ms/epoch - 82ms/step\n",
      "Epoch 17/50\n",
      "8/8 - 1s - loss: 1.2744 - accuracy: 0.3320 - auc_6: 0.6103 - precision_6: 0.0000e+00 - recall_6: 0.0000e+00 - f1_score: 0.2161 - val_loss: 1.3735 - val_accuracy: 0.3033 - val_auc_6: 0.5525 - val_precision_6: 0.0000e+00 - val_recall_6: 0.0000e+00 - val_f1_score: 0.1710 - 651ms/epoch - 81ms/step\n",
      "Epoch 18/50\n",
      "8/8 - 1s - loss: 1.2663 - accuracy: 0.3361 - auc_6: 0.6250 - precision_6: 0.0000e+00 - recall_6: 0.0000e+00 - f1_score: 0.2184 - val_loss: 1.3629 - val_accuracy: 0.3115 - val_auc_6: 0.5659 - val_precision_6: 0.0000e+00 - val_recall_6: 0.0000e+00 - val_f1_score: 0.1751 - 653ms/epoch - 82ms/step\n",
      "Epoch 19/50\n",
      "8/8 - 1s - loss: 1.2598 - accuracy: 0.3402 - auc_6: 0.6398 - precision_6: 0.0000e+00 - recall_6: 0.0000e+00 - f1_score: 0.2207 - val_loss: 1.3555 - val_accuracy: 0.3033 - val_auc_6: 0.5785 - val_precision_6: 0.0000e+00 - val_recall_6: 0.0000e+00 - val_f1_score: 0.1706 - 653ms/epoch - 82ms/step\n",
      "Epoch 20/50\n",
      "8/8 - 1s - loss: 1.2542 - accuracy: 0.3402 - auc_6: 0.6514 - precision_6: 0.0000e+00 - recall_6: 0.0000e+00 - f1_score: 0.2206 - val_loss: 1.3495 - val_accuracy: 0.3115 - val_auc_6: 0.5843 - val_precision_6: 0.0000e+00 - val_recall_6: 0.0000e+00 - val_f1_score: 0.1747 - 656ms/epoch - 82ms/step\n",
      "Epoch 21/50\n",
      "8/8 - 1s - loss: 1.2497 - accuracy: 0.3402 - auc_6: 0.6697 - precision_6: 0.0000e+00 - recall_6: 0.0000e+00 - f1_score: 0.2206 - val_loss: 1.3404 - val_accuracy: 0.3197 - val_auc_6: 0.6047 - val_precision_6: 0.0000e+00 - val_recall_6: 0.0000e+00 - val_f1_score: 0.1788 - 657ms/epoch - 82ms/step\n",
      "Epoch 22/50\n",
      "8/8 - 1s - loss: 1.2445 - accuracy: 0.3443 - auc_6: 0.6856 - precision_6: 0.0000e+00 - recall_6: 0.0000e+00 - f1_score: 0.2247 - val_loss: 1.3326 - val_accuracy: 0.3279 - val_auc_6: 0.6337 - val_precision_6: 0.0000e+00 - val_recall_6: 0.0000e+00 - val_f1_score: 0.1828 - 654ms/epoch - 82ms/step\n",
      "Epoch 23/50\n",
      "8/8 - 1s - loss: 1.2411 - accuracy: 0.3443 - auc_6: 0.6957 - precision_6: 0.0000e+00 - recall_6: 0.0000e+00 - f1_score: 0.2274 - val_loss: 1.3293 - val_accuracy: 0.3279 - val_auc_6: 0.6350 - val_precision_6: 0.0000e+00 - val_recall_6: 0.0000e+00 - val_f1_score: 0.1828 - 650ms/epoch - 81ms/step\n",
      "Epoch 24/50\n",
      "8/8 - 1s - loss: 1.2370 - accuracy: 0.3566 - auc_6: 0.6967 - precision_6: 0.0000e+00 - recall_6: 0.0000e+00 - f1_score: 0.2342 - val_loss: 1.3263 - val_accuracy: 0.3279 - val_auc_6: 0.6409 - val_precision_6: 0.0000e+00 - val_recall_6: 0.0000e+00 - val_f1_score: 0.1834 - 651ms/epoch - 81ms/step\n",
      "Epoch 25/50\n",
      "8/8 - 1s - loss: 1.2349 - accuracy: 0.3484 - auc_6: 0.7034 - precision_6: 0.0000e+00 - recall_6: 0.0000e+00 - f1_score: 0.2302 - val_loss: 1.3204 - val_accuracy: 0.3279 - val_auc_6: 0.6506 - val_precision_6: 0.0000e+00 - val_recall_6: 0.0000e+00 - val_f1_score: 0.1999 - 660ms/epoch - 83ms/step\n",
      "Epoch 26/50\n",
      "8/8 - 1s - loss: 1.2320 - accuracy: 0.3525 - auc_6: 0.7075 - precision_6: 0.0000e+00 - recall_6: 0.0000e+00 - f1_score: 0.2435 - val_loss: 1.3195 - val_accuracy: 0.3607 - val_auc_6: 0.6572 - val_precision_6: 0.0000e+00 - val_recall_6: 0.0000e+00 - val_f1_score: 0.2437 - 651ms/epoch - 81ms/step\n",
      "Epoch 27/50\n",
      "8/8 - 1s - loss: 1.2293 - accuracy: 0.3770 - auc_6: 0.7052 - precision_6: 0.0000e+00 - recall_6: 0.0000e+00 - f1_score: 0.2906 - val_loss: 1.3213 - val_accuracy: 0.3607 - val_auc_6: 0.6477 - val_precision_6: 0.0000e+00 - val_recall_6: 0.0000e+00 - val_f1_score: 0.2423 - 654ms/epoch - 82ms/step\n",
      "Epoch 28/50\n",
      "8/8 - 1s - loss: 1.2261 - accuracy: 0.3770 - auc_6: 0.7044 - precision_6: 0.0000e+00 - recall_6: 0.0000e+00 - f1_score: 0.2884 - val_loss: 1.3168 - val_accuracy: 0.3607 - val_auc_6: 0.6619 - val_precision_6: 0.0000e+00 - val_recall_6: 0.0000e+00 - val_f1_score: 0.2420 - 655ms/epoch - 82ms/step\n",
      "Epoch 29/50\n",
      "8/8 - 1s - loss: 1.2244 - accuracy: 0.4057 - auc_6: 0.7142 - precision_6: 0.0000e+00 - recall_6: 0.0000e+00 - f1_score: 0.3059 - val_loss: 1.3093 - val_accuracy: 0.3607 - val_auc_6: 0.6684 - val_precision_6: 0.0000e+00 - val_recall_6: 0.0000e+00 - val_f1_score: 0.2420 - 652ms/epoch - 82ms/step\n",
      "Epoch 30/50\n",
      "8/8 - 1s - loss: 1.2220 - accuracy: 0.4098 - auc_6: 0.7181 - precision_6: 0.0000e+00 - recall_6: 0.0000e+00 - f1_score: 0.3065 - val_loss: 1.3046 - val_accuracy: 0.3689 - val_auc_6: 0.6753 - val_precision_6: 0.0000e+00 - val_recall_6: 0.0000e+00 - val_f1_score: 0.2460 - 654ms/epoch - 82ms/step\n",
      "Epoch 31/50\n",
      "8/8 - 1s - loss: 1.2205 - accuracy: 0.4057 - auc_6: 0.7168 - precision_6: 0.0000e+00 - recall_6: 0.0000e+00 - f1_score: 0.3029 - val_loss: 1.3063 - val_accuracy: 0.3607 - val_auc_6: 0.6664 - val_precision_6: 0.0000e+00 - val_recall_6: 0.0000e+00 - val_f1_score: 0.2402 - 639ms/epoch - 80ms/step\n",
      "Epoch 32/50\n",
      "8/8 - 1s - loss: 1.2186 - accuracy: 0.4098 - auc_6: 0.7174 - precision_6: 0.0000e+00 - recall_6: 0.0000e+00 - f1_score: 0.3048 - val_loss: 1.3029 - val_accuracy: 0.3770 - val_auc_6: 0.6725 - val_precision_6: 0.0000e+00 - val_recall_6: 0.0000e+00 - val_f1_score: 0.2480 - 654ms/epoch - 82ms/step\n",
      "Epoch 33/50\n",
      "8/8 - 1s - loss: 1.2171 - accuracy: 0.4139 - auc_6: 0.7154 - precision_6: 0.0000e+00 - recall_6: 0.0000e+00 - f1_score: 0.3075 - val_loss: 1.3042 - val_accuracy: 0.3770 - val_auc_6: 0.6658 - val_precision_6: 0.0000e+00 - val_recall_6: 0.0000e+00 - val_f1_score: 0.2480 - 647ms/epoch - 81ms/step\n",
      "Epoch 34/50\n",
      "8/8 - 1s - loss: 1.2155 - accuracy: 0.4098 - auc_6: 0.7116 - precision_6: 0.0000e+00 - recall_6: 0.0000e+00 - f1_score: 0.3049 - val_loss: 1.3049 - val_accuracy: 0.3689 - val_auc_6: 0.6652 - val_precision_6: 0.0000e+00 - val_recall_6: 0.0000e+00 - val_f1_score: 0.2432 - 651ms/epoch - 81ms/step\n",
      "Epoch 35/50\n",
      "8/8 - 1s - loss: 1.2142 - accuracy: 0.4098 - auc_6: 0.7104 - precision_6: 0.0000e+00 - recall_6: 0.0000e+00 - f1_score: 0.3119 - val_loss: 1.3033 - val_accuracy: 0.3689 - val_auc_6: 0.6660 - val_precision_6: 0.0000e+00 - val_recall_6: 0.0000e+00 - val_f1_score: 0.2432 - 652ms/epoch - 82ms/step\n",
      "Epoch 36/50\n",
      "8/8 - 1s - loss: 1.2139 - accuracy: 0.4139 - auc_6: 0.7112 - precision_6: 0.0000e+00 - recall_6: 0.0000e+00 - f1_score: 0.3179 - val_loss: 1.2985 - val_accuracy: 0.3770 - val_auc_6: 0.6720 - val_precision_6: 0.0000e+00 - val_recall_6: 0.0000e+00 - val_f1_score: 0.2460 - 659ms/epoch - 82ms/step\n",
      "Epoch 37/50\n",
      "8/8 - 1s - loss: 1.2130 - accuracy: 0.4303 - auc_6: 0.7134 - precision_6: 0.0000e+00 - recall_6: 0.0000e+00 - f1_score: 0.3256 - val_loss: 1.2987 - val_accuracy: 0.3852 - val_auc_6: 0.6805 - val_precision_6: 0.0000e+00 - val_recall_6: 0.0000e+00 - val_f1_score: 0.2499 - 649ms/epoch - 81ms/step\n",
      "Epoch 38/50\n",
      "8/8 - 1s - loss: 1.2127 - accuracy: 0.4385 - auc_6: 0.7206 - precision_6: 0.0000e+00 - recall_6: 0.0000e+00 - f1_score: 0.3287 - val_loss: 1.2919 - val_accuracy: 0.4098 - val_auc_6: 0.6795 - val_precision_6: 0.0000e+00 - val_recall_6: 0.0000e+00 - val_f1_score: 0.2614 - 657ms/epoch - 82ms/step\n",
      "Epoch 39/50\n",
      "8/8 - 1s - loss: 1.2085 - accuracy: 0.4385 - auc_6: 0.7198 - precision_6: 0.0000e+00 - recall_6: 0.0000e+00 - f1_score: 0.3287 - val_loss: 1.2949 - val_accuracy: 0.4180 - val_auc_6: 0.6809 - val_precision_6: 0.0000e+00 - val_recall_6: 0.0000e+00 - val_f1_score: 0.2651 - 653ms/epoch - 82ms/step\n",
      "Epoch 40/50\n",
      "8/8 - 1s - loss: 1.2074 - accuracy: 0.4262 - auc_6: 0.7192 - precision_6: 0.0000e+00 - recall_6: 0.0000e+00 - f1_score: 0.3117 - val_loss: 1.2972 - val_accuracy: 0.4180 - val_auc_6: 0.6798 - val_precision_6: 0.0000e+00 - val_recall_6: 0.0000e+00 - val_f1_score: 0.2651 - 653ms/epoch - 82ms/step\n",
      "Epoch 41/50\n",
      "8/8 - 1s - loss: 1.2067 - accuracy: 0.4467 - auc_6: 0.7256 - precision_6: 0.0000e+00 - recall_6: 0.0000e+00 - f1_score: 0.3215 - val_loss: 1.2906 - val_accuracy: 0.4426 - val_auc_6: 0.6878 - val_precision_6: 0.0000e+00 - val_recall_6: 0.0000e+00 - val_f1_score: 0.2763 - 652ms/epoch - 82ms/step\n",
      "Epoch 42/50\n",
      "8/8 - 1s - loss: 1.2043 - accuracy: 0.4631 - auc_6: 0.7310 - precision_6: 0.0000e+00 - recall_6: 0.0000e+00 - f1_score: 0.3293 - val_loss: 1.2904 - val_accuracy: 0.4508 - val_auc_6: 0.6918 - val_precision_6: 0.0000e+00 - val_recall_6: 0.0000e+00 - val_f1_score: 0.3020 - 649ms/epoch - 81ms/step\n",
      "Epoch 43/50\n",
      "8/8 - 1s - loss: 1.2030 - accuracy: 0.4590 - auc_6: 0.7345 - precision_6: 0.0000e+00 - recall_6: 0.0000e+00 - f1_score: 0.3362 - val_loss: 1.2903 - val_accuracy: 0.4426 - val_auc_6: 0.6917 - val_precision_6: 0.0000e+00 - val_recall_6: 0.0000e+00 - val_f1_score: 0.2941 - 650ms/epoch - 81ms/step\n",
      "Epoch 44/50\n",
      "8/8 - 1s - loss: 1.2027 - accuracy: 0.4590 - auc_6: 0.7374 - precision_6: 0.0000e+00 - recall_6: 0.0000e+00 - f1_score: 0.3380 - val_loss: 1.2876 - val_accuracy: 0.4426 - val_auc_6: 0.6933 - val_precision_6: 0.0000e+00 - val_recall_6: 0.0000e+00 - val_f1_score: 0.2941 - 655ms/epoch - 82ms/step\n",
      "Epoch 45/50\n",
      "8/8 - 1s - loss: 1.2034 - accuracy: 0.4590 - auc_6: 0.7336 - precision_6: 0.0000e+00 - recall_6: 0.0000e+00 - f1_score: 0.3362 - val_loss: 1.2938 - val_accuracy: 0.4508 - val_auc_6: 0.6866 - val_precision_6: 0.0000e+00 - val_recall_6: 0.0000e+00 - val_f1_score: 0.3020 - 650ms/epoch - 81ms/step\n",
      "Epoch 46/50\n",
      "8/8 - 1s - loss: 1.2014 - accuracy: 0.4590 - auc_6: 0.7335 - precision_6: 0.0000e+00 - recall_6: 0.0000e+00 - f1_score: 0.3336 - val_loss: 1.2892 - val_accuracy: 0.4344 - val_auc_6: 0.6892 - val_precision_6: 0.0000e+00 - val_recall_6: 0.0000e+00 - val_f1_score: 0.2726 - 648ms/epoch - 81ms/step\n",
      "Epoch 47/50\n",
      "8/8 - 1s - loss: 1.2014 - accuracy: 0.4508 - auc_6: 0.7302 - precision_6: 0.0000e+00 - recall_6: 0.0000e+00 - f1_score: 0.3251 - val_loss: 1.2959 - val_accuracy: 0.4180 - val_auc_6: 0.6805 - val_precision_6: 0.0000e+00 - val_recall_6: 0.0000e+00 - val_f1_score: 0.2651 - 652ms/epoch - 81ms/step\n",
      "Epoch 48/50\n",
      "8/8 - 1s - loss: 1.1990 - accuracy: 0.4508 - auc_6: 0.7322 - precision_6: 0.0000e+00 - recall_6: 0.0000e+00 - f1_score: 0.3222 - val_loss: 1.2932 - val_accuracy: 0.4344 - val_auc_6: 0.6849 - val_precision_6: 0.0000e+00 - val_recall_6: 0.0000e+00 - val_f1_score: 0.2904 - 649ms/epoch - 81ms/step\n",
      "Epoch 49/50\n",
      "8/8 - 1s - loss: 1.1983 - accuracy: 0.4508 - auc_6: 0.7323 - precision_6: 0.0000e+00 - recall_6: 0.0000e+00 - f1_score: 0.3261 - val_loss: 1.2930 - val_accuracy: 0.4344 - val_auc_6: 0.6848 - val_precision_6: 0.0000e+00 - val_recall_6: 0.0000e+00 - val_f1_score: 0.2944 - 649ms/epoch - 81ms/step\n",
      "Epoch 50/50\n",
      "8/8 - 1s - loss: 1.1978 - accuracy: 0.4426 - auc_6: 0.7311 - precision_6: 0.0000e+00 - recall_6: 0.0000e+00 - f1_score: 0.3234 - val_loss: 1.2903 - val_accuracy: 0.4262 - val_auc_6: 0.6872 - val_precision_6: 0.0000e+00 - val_recall_6: 0.0000e+00 - val_f1_score: 0.2867 - 655ms/epoch - 82ms/step\n"
     ]
    },
    {
     "data": {
      "image/png": "[encoded data removed]",
      "text/plain": [
       "<Figure size 432x288 with 1 Axes>"
      ]
     },
     "metadata": {
      "needs_background": "light"
     },
     "output_type": "display_data"
    },
    {
     "name": "stdout",
     "output_type": "stream",
     "text": [
      "Epoch 1/50\n",
      "8/8 - 3s - loss: 1.8441 - accuracy: 0.1516 - auc_7: 0.4925 - precision_7: 0.1429 - recall_7: 0.0574 - f1_score: 0.1070 - val_loss: 1.5206 - val_accuracy: 0.2131 - val_auc_7: 0.5084 - val_precision_7: 0.1463 - val_recall_7: 0.0492 - val_f1_score: 0.1311 - 3s/epoch - 347ms/step\n",
      "Epoch 2/50\n",
      "8/8 - 1s - loss: 1.8112 - accuracy: 0.1516 - auc_7: 0.4922 - precision_7: 0.1837 - recall_7: 0.0369 - f1_score: 0.1061 - val_loss: 1.4884 - val_accuracy: 0.2049 - val_auc_7: 0.5090 - val_precision_7: 0.1739 - val_recall_7: 0.0328 - val_f1_score: 0.1258 - 665ms/epoch - 83ms/step\n",
      "Epoch 3/50\n",
      "8/8 - 1s - loss: 1.7858 - accuracy: 0.1475 - auc_7: 0.4946 - precision_7: 0.2143 - recall_7: 0.0246 - f1_score: 0.1079 - val_loss: 1.4599 - val_accuracy: 0.2049 - val_auc_7: 0.5089 - val_precision_7: 0.0000e+00 - val_recall_7: 0.0000e+00 - val_f1_score: 0.1325 - 706ms/epoch - 88ms/step\n",
      "Epoch 4/50\n",
      "8/8 - 1s - loss: 1.7597 - accuracy: 0.1434 - auc_7: 0.4954 - precision_7: 0.0000e+00 - recall_7: 0.0000e+00 - f1_score: 0.1051 - val_loss: 1.4316 - val_accuracy: 0.2213 - val_auc_7: 0.5098 - val_precision_7: 0.0000e+00 - val_recall_7: 0.0000e+00 - val_f1_score: 0.1463 - 665ms/epoch - 83ms/step\n",
      "Epoch 5/50\n",
      "8/8 - 1s - loss: 1.7398 - accuracy: 0.1475 - auc_7: 0.4981 - precision_7: 0.0000e+00 - recall_7: 0.0000e+00 - f1_score: 0.1087 - val_loss: 1.4090 - val_accuracy: 0.2213 - val_auc_7: 0.5111 - val_precision_7: 0.0000e+00 - val_recall_7: 0.0000e+00 - val_f1_score: 0.1463 - 669ms/epoch - 84ms/step\n",
      "Epoch 6/50\n",
      "8/8 - 1s - loss: 1.7162 - accuracy: 0.1475 - auc_7: 0.5028 - precision_7: 0.0000e+00 - recall_7: 0.0000e+00 - f1_score: 0.1087 - val_loss: 1.3903 - val_accuracy: 0.2131 - val_auc_7: 0.5123 - val_precision_7: 0.0000e+00 - val_recall_7: 0.0000e+00 - val_f1_score: 0.1418 - 668ms/epoch - 83ms/step\n",
      "Epoch 7/50\n",
      "8/8 - 1s - loss: 1.6950 - accuracy: 0.1475 - auc_7: 0.5028 - precision_7: 0.0000e+00 - recall_7: 0.0000e+00 - f1_score: 0.1087 - val_loss: 1.3711 - val_accuracy: 0.2131 - val_auc_7: 0.5149 - val_precision_7: 0.0000e+00 - val_recall_7: 0.0000e+00 - val_f1_score: 0.1418 - 666ms/epoch - 83ms/step\n",
      "Epoch 8/50\n",
      "8/8 - 1s - loss: 1.6732 - accuracy: 0.1475 - auc_7: 0.5074 - precision_7: 0.0000e+00 - recall_7: 0.0000e+00 - f1_score: 0.1087 - val_loss: 1.3590 - val_accuracy: 0.1967 - val_auc_7: 0.5143 - val_precision_7: 0.0000e+00 - val_recall_7: 0.0000e+00 - val_f1_score: 0.1281 - 667ms/epoch - 83ms/step\n",
      "Epoch 9/50\n",
      "8/8 - 1s - loss: 1.6502 - accuracy: 0.1475 - auc_7: 0.5103 - precision_7: 0.0000e+00 - recall_7: 0.0000e+00 - f1_score: 0.1087 - val_loss: 1.3498 - val_accuracy: 0.1967 - val_auc_7: 0.5125 - val_precision_7: 0.0000e+00 - val_recall_7: 0.0000e+00 - val_f1_score: 0.1281 - 670ms/epoch - 84ms/step\n",
      "Epoch 10/50\n",
      "8/8 - 1s - loss: 1.6262 - accuracy: 0.1475 - auc_7: 0.5131 - precision_7: 0.0000e+00 - recall_7: 0.0000e+00 - f1_score: 0.1087 - val_loss: 1.3400 - val_accuracy: 0.1967 - val_auc_7: 0.5124 - val_precision_7: 0.0000e+00 - val_recall_7: 0.0000e+00 - val_f1_score: 0.1281 - 669ms/epoch - 84ms/step\n",
      "Epoch 11/50\n",
      "8/8 - 1s - loss: 1.6055 - accuracy: 0.1475 - auc_7: 0.5164 - precision_7: 0.0000e+00 - recall_7: 0.0000e+00 - f1_score: 0.1087 - val_loss: 1.3298 - val_accuracy: 0.1967 - val_auc_7: 0.5141 - val_precision_7: 0.0000e+00 - val_recall_7: 0.0000e+00 - val_f1_score: 0.1283 - 672ms/epoch - 84ms/step\n",
      "Epoch 12/50\n",
      "8/8 - 1s - loss: 1.5930 - accuracy: 0.1557 - auc_7: 0.5258 - precision_7: 0.0000e+00 - recall_7: 0.0000e+00 - f1_score: 0.1157 - val_loss: 1.3236 - val_accuracy: 0.1967 - val_auc_7: 0.5130 - val_precision_7: 0.0000e+00 - val_recall_7: 0.0000e+00 - val_f1_score: 0.1285 - 660ms/epoch - 83ms/step\n",
      "Epoch 13/50\n",
      "8/8 - 1s - loss: 1.5819 - accuracy: 0.1598 - auc_7: 0.5338 - precision_7: 0.0000e+00 - recall_7: 0.0000e+00 - f1_score: 0.1196 - val_loss: 1.3194 - val_accuracy: 0.1721 - val_auc_7: 0.5162 - val_precision_7: 0.0000e+00 - val_recall_7: 0.0000e+00 - val_f1_score: 0.1151 - 668ms/epoch - 84ms/step\n",
      "Epoch 14/50\n",
      "8/8 - 1s - loss: 1.5676 - accuracy: 0.1598 - auc_7: 0.5401 - precision_7: 0.0000e+00 - recall_7: 0.0000e+00 - f1_score: 0.1203 - val_loss: 1.3150 - val_accuracy: 0.1475 - val_auc_7: 0.5203 - val_precision_7: 0.0000e+00 - val_recall_7: 0.0000e+00 - val_f1_score: 0.1034 - 664ms/epoch - 83ms/step\n",
      "Epoch 15/50\n",
      "8/8 - 1s - loss: 1.5593 - accuracy: 0.1803 - auc_7: 0.5466 - precision_7: 0.0000e+00 - recall_7: 0.0000e+00 - f1_score: 0.1360 - val_loss: 1.3133 - val_accuracy: 0.1475 - val_auc_7: 0.5202 - val_precision_7: 0.0000e+00 - val_recall_7: 0.0000e+00 - val_f1_score: 0.1043 - 663ms/epoch - 83ms/step\n",
      "Epoch 16/50\n",
      "8/8 - 1s - loss: 1.5468 - accuracy: 0.1926 - auc_7: 0.5533 - precision_7: 0.0000e+00 - recall_7: 0.0000e+00 - f1_score: 0.1453 - val_loss: 1.3121 - val_accuracy: 0.1475 - val_auc_7: 0.5187 - val_precision_7: 0.0000e+00 - val_recall_7: 0.0000e+00 - val_f1_score: 0.1104 - 671ms/epoch - 84ms/step\n",
      "Epoch 17/50\n",
      "8/8 - 1s - loss: 1.5395 - accuracy: 0.2008 - auc_7: 0.5604 - precision_7: 0.0000e+00 - recall_7: 0.0000e+00 - f1_score: 0.1520 - val_loss: 1.3093 - val_accuracy: 0.1475 - val_auc_7: 0.5192 - val_precision_7: 0.0000e+00 - val_recall_7: 0.0000e+00 - val_f1_score: 0.1121 - 665ms/epoch - 83ms/step\n",
      "Epoch 18/50\n",
      "8/8 - 1s - loss: 1.5308 - accuracy: 0.2049 - auc_7: 0.5644 - precision_7: 0.0000e+00 - recall_7: 0.0000e+00 - f1_score: 0.1556 - val_loss: 1.3081 - val_accuracy: 0.1311 - val_auc_7: 0.5198 - val_precision_7: 0.0000e+00 - val_recall_7: 0.0000e+00 - val_f1_score: 0.1060 - 663ms/epoch - 83ms/step\n",
      "Epoch 19/50\n",
      "8/8 - 1s - loss: 1.5198 - accuracy: 0.2008 - auc_7: 0.5693 - precision_7: 0.0000e+00 - recall_7: 0.0000e+00 - f1_score: 0.1519 - val_loss: 1.3085 - val_accuracy: 0.1230 - val_auc_7: 0.5206 - val_precision_7: 0.0000e+00 - val_recall_7: 0.0000e+00 - val_f1_score: 0.1021 - 660ms/epoch - 83ms/step\n",
      "Epoch 20/50\n",
      "8/8 - 1s - loss: 1.5129 - accuracy: 0.2090 - auc_7: 0.5721 - precision_7: 0.0000e+00 - recall_7: 0.0000e+00 - f1_score: 0.1581 - val_loss: 1.3094 - val_accuracy: 0.1230 - val_auc_7: 0.5206 - val_precision_7: 0.0000e+00 - val_recall_7: 0.0000e+00 - val_f1_score: 0.1021 - 663ms/epoch - 83ms/step\n",
      "Epoch 21/50\n",
      "8/8 - 1s - loss: 1.5018 - accuracy: 0.2008 - auc_7: 0.5773 - precision_7: 0.0000e+00 - recall_7: 0.0000e+00 - f1_score: 0.1523 - val_loss: 1.3070 - val_accuracy: 0.1311 - val_auc_7: 0.5234 - val_precision_7: 0.0000e+00 - val_recall_7: 0.0000e+00 - val_f1_score: 0.1120 - 659ms/epoch - 82ms/step\n",
      "Epoch 22/50\n",
      "8/8 - 1s - loss: 1.4976 - accuracy: 0.2377 - auc_7: 0.5838 - precision_7: 0.0000e+00 - recall_7: 0.0000e+00 - f1_score: 0.1876 - val_loss: 1.3074 - val_accuracy: 0.1311 - val_auc_7: 0.5293 - val_precision_7: 0.0000e+00 - val_recall_7: 0.0000e+00 - val_f1_score: 0.1116 - 660ms/epoch - 82ms/step\n",
      "Epoch 23/50\n",
      "8/8 - 1s - loss: 1.4874 - accuracy: 0.2541 - auc_7: 0.5878 - precision_7: 0.0000e+00 - recall_7: 0.0000e+00 - f1_score: 0.2027 - val_loss: 1.3081 - val_accuracy: 0.1393 - val_auc_7: 0.5303 - val_precision_7: 0.0000e+00 - val_recall_7: 0.0000e+00 - val_f1_score: 0.1174 - 664ms/epoch - 83ms/step\n",
      "Epoch 24/50\n",
      "8/8 - 1s - loss: 1.4807 - accuracy: 0.2623 - auc_7: 0.5916 - precision_7: 0.0000e+00 - recall_7: 0.0000e+00 - f1_score: 0.2085 - val_loss: 1.3091 - val_accuracy: 0.1230 - val_auc_7: 0.5343 - val_precision_7: 0.0000e+00 - val_recall_7: 0.0000e+00 - val_f1_score: 0.1017 - 658ms/epoch - 82ms/step\n",
      "Epoch 25/50\n",
      "8/8 - 1s - loss: 1.4759 - accuracy: 0.2623 - auc_7: 0.5975 - precision_7: 0.0000e+00 - recall_7: 0.0000e+00 - f1_score: 0.2085 - val_loss: 1.3105 - val_accuracy: 0.1311 - val_auc_7: 0.5353 - val_precision_7: 0.0000e+00 - val_recall_7: 0.0000e+00 - val_f1_score: 0.1096 - 662ms/epoch - 83ms/step\n",
      "Epoch 26/50\n",
      "8/8 - 1s - loss: 1.4673 - accuracy: 0.2664 - auc_7: 0.6024 - precision_7: 0.0000e+00 - recall_7: 0.0000e+00 - f1_score: 0.2136 - val_loss: 1.3110 - val_accuracy: 0.1475 - val_auc_7: 0.5418 - val_precision_7: 0.0000e+00 - val_recall_7: 0.0000e+00 - val_f1_score: 0.1225 - 659ms/epoch - 82ms/step\n",
      "Epoch 27/50\n",
      "8/8 - 1s - loss: 1.4605 - accuracy: 0.2623 - auc_7: 0.6074 - precision_7: 0.0000e+00 - recall_7: 0.0000e+00 - f1_score: 0.2052 - val_loss: 1.3107 - val_accuracy: 0.1475 - val_auc_7: 0.5451 - val_precision_7: 0.0000e+00 - val_recall_7: 0.0000e+00 - val_f1_score: 0.1242 - 663ms/epoch - 83ms/step\n",
      "Epoch 28/50\n",
      "8/8 - 1s - loss: 1.4558 - accuracy: 0.2623 - auc_7: 0.6134 - precision_7: 0.0000e+00 - recall_7: 0.0000e+00 - f1_score: 0.2052 - val_loss: 1.3103 - val_accuracy: 0.1393 - val_auc_7: 0.5513 - val_precision_7: 0.0000e+00 - val_recall_7: 0.0000e+00 - val_f1_score: 0.1157 - 662ms/epoch - 83ms/step\n",
      "Epoch 29/50\n",
      "8/8 - 1s - loss: 1.4503 - accuracy: 0.2664 - auc_7: 0.6201 - precision_7: 0.0000e+00 - recall_7: 0.0000e+00 - f1_score: 0.2079 - val_loss: 1.3140 - val_accuracy: 0.1393 - val_auc_7: 0.5519 - val_precision_7: 0.0000e+00 - val_recall_7: 0.0000e+00 - val_f1_score: 0.1157 - 660ms/epoch - 82ms/step\n",
      "Epoch 30/50\n",
      "8/8 - 1s - loss: 1.4468 - accuracy: 0.2664 - auc_7: 0.6242 - precision_7: 0.0000e+00 - recall_7: 0.0000e+00 - f1_score: 0.2084 - val_loss: 1.3156 - val_accuracy: 0.1393 - val_auc_7: 0.5578 - val_precision_7: 0.0000e+00 - val_recall_7: 0.0000e+00 - val_f1_score: 0.1157 - 661ms/epoch - 83ms/step\n",
      "Epoch 31/50\n",
      "8/8 - 1s - loss: 1.4396 - accuracy: 0.2664 - auc_7: 0.6304 - precision_7: 0.0000e+00 - recall_7: 0.0000e+00 - f1_score: 0.2091 - val_loss: 1.3174 - val_accuracy: 0.1393 - val_auc_7: 0.5601 - val_precision_7: 0.0000e+00 - val_recall_7: 0.0000e+00 - val_f1_score: 0.1157 - 661ms/epoch - 83ms/step\n",
      "Epoch 32/50\n",
      "8/8 - 1s - loss: 1.4340 - accuracy: 0.2664 - auc_7: 0.6355 - precision_7: 0.0000e+00 - recall_7: 0.0000e+00 - f1_score: 0.2099 - val_loss: 1.3186 - val_accuracy: 0.1230 - val_auc_7: 0.5621 - val_precision_7: 0.0000e+00 - val_recall_7: 0.0000e+00 - val_f1_score: 0.0978 - 662ms/epoch - 83ms/step\n",
      "Epoch 33/50\n",
      "8/8 - 1s - loss: 1.4317 - accuracy: 0.2664 - auc_7: 0.6392 - precision_7: 0.0000e+00 - recall_7: 0.0000e+00 - f1_score: 0.2065 - val_loss: 1.3207 - val_accuracy: 0.1230 - val_auc_7: 0.5691 - val_precision_7: 0.0000e+00 - val_recall_7: 0.0000e+00 - val_f1_score: 0.0978 - 662ms/epoch - 83ms/step\n",
      "Epoch 34/50\n",
      "8/8 - 1s - loss: 1.4244 - accuracy: 0.2664 - auc_7: 0.6453 - precision_7: 0.0000e+00 - recall_7: 0.0000e+00 - f1_score: 0.2069 - val_loss: 1.3219 - val_accuracy: 0.1311 - val_auc_7: 0.5714 - val_precision_7: 0.0000e+00 - val_recall_7: 0.0000e+00 - val_f1_score: 0.1069 - 660ms/epoch - 83ms/step\n",
      "Epoch 35/50\n",
      "8/8 - 1s - loss: 1.4209 - accuracy: 0.2705 - auc_7: 0.6490 - precision_7: 0.0000e+00 - recall_7: 0.0000e+00 - f1_score: 0.2126 - val_loss: 1.3256 - val_accuracy: 0.1393 - val_auc_7: 0.5724 - val_precision_7: 0.0000e+00 - val_recall_7: 0.0000e+00 - val_f1_score: 0.1157 - 662ms/epoch - 83ms/step\n",
      "Epoch 36/50\n",
      "8/8 - 1s - loss: 1.4170 - accuracy: 0.2664 - auc_7: 0.6532 - precision_7: 0.0000e+00 - recall_7: 0.0000e+00 - f1_score: 0.2036 - val_loss: 1.3306 - val_accuracy: 0.1393 - val_auc_7: 0.5742 - val_precision_7: 0.0000e+00 - val_recall_7: 0.0000e+00 - val_f1_score: 0.1050 - 662ms/epoch - 83ms/step\n",
      "Epoch 37/50\n",
      "8/8 - 1s - loss: 1.4072 - accuracy: 0.2746 - auc_7: 0.6636 - precision_7: 0.0000e+00 - recall_7: 0.0000e+00 - f1_score: 0.2099 - val_loss: 1.3322 - val_accuracy: 0.1557 - val_auc_7: 0.5766 - val_precision_7: 0.0000e+00 - val_recall_7: 0.0000e+00 - val_f1_score: 0.1091 - 661ms/epoch - 83ms/step\n",
      "Epoch 38/50\n",
      "8/8 - 1s - loss: 1.3982 - accuracy: 0.2787 - auc_7: 0.6690 - precision_7: 0.0000e+00 - recall_7: 0.0000e+00 - f1_score: 0.2078 - val_loss: 1.3326 - val_accuracy: 0.1557 - val_auc_7: 0.5855 - val_precision_7: 0.0000e+00 - val_recall_7: 0.0000e+00 - val_f1_score: 0.1091 - 666ms/epoch - 83ms/step\n",
      "Epoch 39/50\n",
      "8/8 - 1s - loss: 1.3922 - accuracy: 0.2787 - auc_7: 0.6712 - precision_7: 0.0000e+00 - recall_7: 0.0000e+00 - f1_score: 0.2074 - val_loss: 1.3340 - val_accuracy: 0.1557 - val_auc_7: 0.5882 - val_precision_7: 0.0000e+00 - val_recall_7: 0.0000e+00 - val_f1_score: 0.1088 - 662ms/epoch - 83ms/step\n",
      "Epoch 40/50\n",
      "8/8 - 1s - loss: 1.3863 - accuracy: 0.2787 - auc_7: 0.6748 - precision_7: 0.0000e+00 - recall_7: 0.0000e+00 - f1_score: 0.2067 - val_loss: 1.3337 - val_accuracy: 0.1557 - val_auc_7: 0.5922 - val_precision_7: 0.0000e+00 - val_recall_7: 0.0000e+00 - val_f1_score: 0.1088 - 661ms/epoch - 83ms/step\n",
      "Epoch 41/50\n",
      "8/8 - 1s - loss: 1.3827 - accuracy: 0.2787 - auc_7: 0.6796 - precision_7: 0.0000e+00 - recall_7: 0.0000e+00 - f1_score: 0.2074 - val_loss: 1.3330 - val_accuracy: 0.1557 - val_auc_7: 0.5938 - val_precision_7: 0.0000e+00 - val_recall_7: 0.0000e+00 - val_f1_score: 0.1090 - 661ms/epoch - 83ms/step\n",
      "Epoch 42/50\n",
      "8/8 - 1s - loss: 1.3796 - accuracy: 0.2828 - auc_7: 0.6839 - precision_7: 0.0000e+00 - recall_7: 0.0000e+00 - f1_score: 0.2103 - val_loss: 1.3347 - val_accuracy: 0.1639 - val_auc_7: 0.5974 - val_precision_7: 0.0000e+00 - val_recall_7: 0.0000e+00 - val_f1_score: 0.1150 - 665ms/epoch - 83ms/step\n",
      "Epoch 43/50\n",
      "8/8 - 1s - loss: 1.3782 - accuracy: 0.2828 - auc_7: 0.6826 - precision_7: 0.0000e+00 - recall_7: 0.0000e+00 - f1_score: 0.2098 - val_loss: 1.3391 - val_accuracy: 0.1967 - val_auc_7: 0.5904 - val_precision_7: 0.0000e+00 - val_recall_7: 0.0000e+00 - val_f1_score: 0.1365 - 669ms/epoch - 84ms/step\n",
      "Epoch 44/50\n",
      "8/8 - 1s - loss: 1.3768 - accuracy: 0.2828 - auc_7: 0.6794 - precision_7: 0.0000e+00 - recall_7: 0.0000e+00 - f1_score: 0.2098 - val_loss: 1.3433 - val_accuracy: 0.1803 - val_auc_7: 0.5895 - val_precision_7: 0.0000e+00 - val_recall_7: 0.0000e+00 - val_f1_score: 0.1284 - 661ms/epoch - 83ms/step\n",
      "Epoch 45/50\n",
      "8/8 - 1s - loss: 1.3715 - accuracy: 0.2951 - auc_7: 0.6799 - precision_7: 0.0000e+00 - recall_7: 0.0000e+00 - f1_score: 0.2176 - val_loss: 1.3447 - val_accuracy: 0.1803 - val_auc_7: 0.5866 - val_precision_7: 0.0000e+00 - val_recall_7: 0.0000e+00 - val_f1_score: 0.1279 - 662ms/epoch - 83ms/step\n",
      "Epoch 46/50\n",
      "8/8 - 1s - loss: 1.3696 - accuracy: 0.2869 - auc_7: 0.6811 - precision_7: 0.0000e+00 - recall_7: 0.0000e+00 - f1_score: 0.2128 - val_loss: 1.3434 - val_accuracy: 0.1885 - val_auc_7: 0.5908 - val_precision_7: 0.0000e+00 - val_recall_7: 0.0000e+00 - val_f1_score: 0.1322 - 663ms/epoch - 83ms/step\n",
      "Epoch 47/50\n",
      "8/8 - 1s - loss: 1.3674 - accuracy: 0.2992 - auc_7: 0.6858 - precision_7: 0.0000e+00 - recall_7: 0.0000e+00 - f1_score: 0.2199 - val_loss: 1.3417 - val_accuracy: 0.1967 - val_auc_7: 0.5935 - val_precision_7: 0.0000e+00 - val_recall_7: 0.0000e+00 - val_f1_score: 0.1370 - 664ms/epoch - 83ms/step\n",
      "Epoch 48/50\n",
      "8/8 - 1s - loss: 1.3651 - accuracy: 0.2992 - auc_7: 0.6917 - precision_7: 0.0000e+00 - recall_7: 0.0000e+00 - f1_score: 0.2199 - val_loss: 1.3450 - val_accuracy: 0.2049 - val_auc_7: 0.5912 - val_precision_7: 0.0000e+00 - val_recall_7: 0.0000e+00 - val_f1_score: 0.1441 - 661ms/epoch - 83ms/step\n",
      "Epoch 49/50\n",
      "8/8 - 1s - loss: 1.3625 - accuracy: 0.2951 - auc_7: 0.6918 - precision_7: 0.0000e+00 - recall_7: 0.0000e+00 - f1_score: 0.2126 - val_loss: 1.3459 - val_accuracy: 0.2131 - val_auc_7: 0.5958 - val_precision_7: 0.0000e+00 - val_recall_7: 0.0000e+00 - val_f1_score: 0.1507 - 664ms/epoch - 83ms/step\n",
      "Epoch 50/50\n",
      "8/8 - 1s - loss: 1.3604 - accuracy: 0.2951 - auc_7: 0.6911 - precision_7: 0.0000e+00 - recall_7: 0.0000e+00 - f1_score: 0.2131 - val_loss: 1.3499 - val_accuracy: 0.2131 - val_auc_7: 0.5878 - val_precision_7: 0.0000e+00 - val_recall_7: 0.0000e+00 - val_f1_score: 0.1507 - 664ms/epoch - 83ms/step\n"
     ]
    },
    {
     "data": {
      "image/png": "[encoded data removed]",
      "text/plain": [
       "<Figure size 432x288 with 1 Axes>"
      ]
     },
     "metadata": {
      "needs_background": "light"
     },
     "output_type": "display_data"
    }
   ],
   "source": [
    "for train_index, val_index in kf.split(X):\n",
    "    X_train, X_val = X[train_index], X[val_index]\n",
    "    y_train, y_val = y[train_index], y[val_index]\n",
    "    baseline_face_model = Baseline(n_features, n_length, n_outputs)\n",
    "    history = baseline_face_model.train(X_train, y_train, X_val, y_val, epochs, batch_size, d_class_weights)\n",
    "    plt.plot(history.history['loss'])\n",
    "    plt.show()"
   ]
  },
  {
   "cell_type": "markdown",
   "metadata": {},
   "source": [
    "#### Prediction on the holdout set"
   ]
  },
  {
   "cell_type": "code",
   "execution_count": 15,
   "metadata": {},
   "outputs": [
    {
     "name": "stdout",
     "output_type": "stream",
     "text": [
      "Accuracy: 31.60% \n",
      "Balanced Accuracy: 24.39% \n",
      "ROC/AUC: 0.62 \n",
      "Precision: 0.00 \n",
      "Recall: 0.00 \n",
      "F1 score: 0.19\n"
     ]
    }
   ],
   "source": [
    "y_pred = baseline_face_model.predict(X_test)\n",
    "_, acc, auc, precision, recall, f1 = baseline_face_model.evaluate(X_test, y_test)\n",
    "results.append(round(acc, 2))\n",
    "bal_acc = balanced_accuracy_score(y_test.argmax(axis=1), y_pred.argmax(axis=1)) \n",
    "print('Accuracy: {:.2f}% \\nBalanced Accuracy: {:.2f}% \\nROC/AUC: {:.2f} \\nPrecision: {:.2f} \\nRecall: {:.2f} \\nF1 score: {:.2f}'.format(acc * 100, bal_acc * 100, auc, precision, recall, f1))"
   ]
  },
  {
   "cell_type": "markdown",
   "metadata": {},
   "source": [
    "## 3. Multimodal Early Fusion"
   ]
  },
  {
   "cell_type": "markdown",
   "metadata": {},
   "source": [
    "### Dataset"
   ]
  },
  {
   "cell_type": "code",
   "execution_count": 16,
   "metadata": {},
   "outputs": [
    {
     "name": "stdout",
     "output_type": "stream",
     "text": [
      "(366, 350, 60) (366, 4)\n",
      "(231, 350, 60) (231, 4)\n"
     ]
    }
   ],
   "source": [
    "X_train, X_test, y_train, y_test = load_fusioned_dataset(nopain=False)\n",
    "X_train = X_train.reshape(X_train.shape[0], X_train.shape[2], X_train.shape[3])\n",
    "X_test = X_test.reshape(X_test.shape[0], X_test.shape[2], X_test.shape[3])\n",
    "X = X_train.copy()\n",
    "y = y_train.copy()\n",
    "\n",
    "print(X_train.shape, y_train.shape)\n",
    "print(X_test.shape, y_test.shape)\n",
    "\n",
    "n_length, n_features, n_outputs = X_train.shape[1], X_train.shape[-1], y_train.shape[1]"
   ]
  },
  {
   "cell_type": "code",
   "execution_count": 17,
   "metadata": {},
   "outputs": [
    {
     "name": "stdout",
     "output_type": "stream",
     "text": [
      "Model: \"model_8\"\n",
      "_________________________________________________________________\n",
      " Layer (type)                Output Shape              Param #   \n",
      "=================================================================\n",
      " input_9 (InputLayer)        [(None, 350, 60)]         0         \n",
      "                                                                 \n",
      " lstm_8 (LSTM)               (None, 50)                22200     \n",
      "                                                                 \n",
      " dense_16 (Dense)            (None, 50)                2550      \n",
      "                                                                 \n",
      " dense_17 (Dense)            (None, 4)                 204       \n",
      "                                                                 \n",
      "=================================================================\n",
      "Total params: 24,954\n",
      "Trainable params: 24,954\n",
      "Non-trainable params: 0\n",
      "_________________________________________________________________\n"
     ]
    }
   ],
   "source": [
    "model = Baseline(n_features, n_length, n_outputs)\n",
    "model.summary()"
   ]
  },
  {
   "cell_type": "markdown",
   "metadata": {},
   "source": [
    "### Baseline Model"
   ]
  },
  {
   "cell_type": "code",
   "execution_count": 18,
   "metadata": {},
   "outputs": [
    {
     "name": "stdout",
     "output_type": "stream",
     "text": [
      "Epoch 1/50\n",
      "8/8 - 3s - loss: 1.5584 - accuracy: 0.1516 - auc_9: 0.3970 - precision_9: 0.5000 - recall_9: 0.0164 - f1_score: 0.0665 - val_loss: 1.6387 - val_accuracy: 0.1639 - val_auc_9: 0.3869 - val_precision_9: 0.7500 - val_recall_9: 0.0246 - val_f1_score: 0.0709 - 3s/epoch - 339ms/step\n",
      "Epoch 2/50\n",
      "8/8 - 1s - loss: 1.5360 - accuracy: 0.1598 - auc_9: 0.4057 - precision_9: 0.6667 - recall_9: 0.0164 - f1_score: 0.0728 - val_loss: 1.6135 - val_accuracy: 0.1639 - val_auc_9: 0.3951 - val_precision_9: 0.7500 - val_recall_9: 0.0246 - val_f1_score: 0.0709 - 651ms/epoch - 81ms/step\n",
      "Epoch 3/50\n",
      "8/8 - 1s - loss: 1.5208 - accuracy: 0.1598 - auc_9: 0.4145 - precision_9: 0.6667 - recall_9: 0.0164 - f1_score: 0.0725 - val_loss: 1.5978 - val_accuracy: 0.1639 - val_auc_9: 0.4002 - val_precision_9: 0.7500 - val_recall_9: 0.0246 - val_f1_score: 0.0704 - 652ms/epoch - 81ms/step\n",
      "Epoch 4/50\n",
      "8/8 - 1s - loss: 1.5063 - accuracy: 0.1516 - auc_9: 0.4241 - precision_9: 0.6667 - recall_9: 0.0164 - f1_score: 0.0658 - val_loss: 1.5854 - val_accuracy: 0.1557 - val_auc_9: 0.4090 - val_precision_9: 0.7500 - val_recall_9: 0.0246 - val_f1_score: 0.0674 - 656ms/epoch - 82ms/step\n",
      "Epoch 5/50\n",
      "8/8 - 1s - loss: 1.4932 - accuracy: 0.1639 - auc_9: 0.4312 - precision_9: 0.8000 - recall_9: 0.0164 - f1_score: 0.0758 - val_loss: 1.5695 - val_accuracy: 0.1557 - val_auc_9: 0.4119 - val_precision_9: 0.7500 - val_recall_9: 0.0246 - val_f1_score: 0.0674 - 657ms/epoch - 82ms/step\n",
      "Epoch 6/50\n",
      "8/8 - 1s - loss: 1.4902 - accuracy: 0.1639 - auc_9: 0.4376 - precision_9: 0.8000 - recall_9: 0.0164 - f1_score: 0.0758 - val_loss: 1.5563 - val_accuracy: 0.1557 - val_auc_9: 0.4167 - val_precision_9: 0.7500 - val_recall_9: 0.0246 - val_f1_score: 0.0674 - 661ms/epoch - 83ms/step\n",
      "Epoch 7/50\n",
      "8/8 - 1s - loss: 1.4842 - accuracy: 0.1721 - auc_9: 0.4408 - precision_9: 0.8000 - recall_9: 0.0164 - f1_score: 0.0823 - val_loss: 1.5537 - val_accuracy: 0.1557 - val_auc_9: 0.4170 - val_precision_9: 0.7500 - val_recall_9: 0.0246 - val_f1_score: 0.0674 - 655ms/epoch - 82ms/step\n",
      "Epoch 8/50\n",
      "8/8 - 1s - loss: 1.4775 - accuracy: 0.1885 - auc_9: 0.4444 - precision_9: 0.8000 - recall_9: 0.0164 - f1_score: 0.0949 - val_loss: 1.5474 - val_accuracy: 0.1639 - val_auc_9: 0.4169 - val_precision_9: 0.7500 - val_recall_9: 0.0246 - val_f1_score: 0.0742 - 651ms/epoch - 81ms/step\n",
      "Epoch 9/50\n",
      "8/8 - 1s - loss: 1.4731 - accuracy: 0.2131 - auc_9: 0.4464 - precision_9: 0.8000 - recall_9: 0.0164 - f1_score: 0.1128 - val_loss: 1.5421 - val_accuracy: 0.2131 - val_auc_9: 0.4181 - val_precision_9: 0.7500 - val_recall_9: 0.0246 - val_f1_score: 0.1142 - 656ms/epoch - 82ms/step\n",
      "Epoch 10/50\n",
      "8/8 - 1s - loss: 1.4684 - accuracy: 0.2377 - auc_9: 0.4481 - precision_9: 0.8000 - recall_9: 0.0164 - f1_score: 0.1308 - val_loss: 1.5349 - val_accuracy: 0.2131 - val_auc_9: 0.4188 - val_precision_9: 0.7500 - val_recall_9: 0.0246 - val_f1_score: 0.1142 - 655ms/epoch - 82ms/step\n",
      "Epoch 11/50\n",
      "8/8 - 1s - loss: 1.4637 - accuracy: 0.2500 - auc_9: 0.4502 - precision_9: 0.8000 - recall_9: 0.0164 - f1_score: 0.1384 - val_loss: 1.5280 - val_accuracy: 0.2131 - val_auc_9: 0.4240 - val_precision_9: 0.7500 - val_recall_9: 0.0246 - val_f1_score: 0.1142 - 658ms/epoch - 82ms/step\n",
      "Epoch 12/50\n",
      "8/8 - 1s - loss: 1.4601 - accuracy: 0.2500 - auc_9: 0.4565 - precision_9: 0.8000 - recall_9: 0.0164 - f1_score: 0.1384 - val_loss: 1.5213 - val_accuracy: 0.2213 - val_auc_9: 0.4253 - val_precision_9: 0.7500 - val_recall_9: 0.0246 - val_f1_score: 0.1198 - 659ms/epoch - 82ms/step\n",
      "Epoch 13/50\n",
      "8/8 - 1s - loss: 1.4559 - accuracy: 0.2500 - auc_9: 0.4561 - precision_9: 0.8000 - recall_9: 0.0164 - f1_score: 0.1384 - val_loss: 1.5154 - val_accuracy: 0.2295 - val_auc_9: 0.4270 - val_precision_9: 0.7500 - val_recall_9: 0.0246 - val_f1_score: 0.1254 - 657ms/epoch - 82ms/step\n",
      "Epoch 14/50\n",
      "8/8 - 1s - loss: 1.4523 - accuracy: 0.2459 - auc_9: 0.4606 - precision_9: 0.8000 - recall_9: 0.0164 - f1_score: 0.1363 - val_loss: 1.5107 - val_accuracy: 0.2295 - val_auc_9: 0.4297 - val_precision_9: 0.7500 - val_recall_9: 0.0246 - val_f1_score: 0.1253 - 657ms/epoch - 82ms/step\n",
      "Epoch 15/50\n",
      "8/8 - 1s - loss: 1.4485 - accuracy: 0.2459 - auc_9: 0.4682 - precision_9: 0.8000 - recall_9: 0.0164 - f1_score: 0.1363 - val_loss: 1.5062 - val_accuracy: 0.2295 - val_auc_9: 0.4321 - val_precision_9: 0.7500 - val_recall_9: 0.0246 - val_f1_score: 0.1253 - 655ms/epoch - 82ms/step\n",
      "Epoch 16/50\n",
      "8/8 - 1s - loss: 1.4438 - accuracy: 0.2541 - auc_9: 0.4763 - precision_9: 0.8000 - recall_9: 0.0164 - f1_score: 0.1425 - val_loss: 1.4807 - val_accuracy: 0.2213 - val_auc_9: 0.4593 - val_precision_9: 0.7500 - val_recall_9: 0.0246 - val_f1_score: 0.1264 - 658ms/epoch - 82ms/step\n",
      "Epoch 17/50\n",
      "8/8 - 1s - loss: 1.4366 - accuracy: 0.2664 - auc_9: 0.4925 - precision_9: 0.8000 - recall_9: 0.0164 - f1_score: 0.1507 - val_loss: 1.4770 - val_accuracy: 0.2131 - val_auc_9: 0.4589 - val_precision_9: 0.7500 - val_recall_9: 0.0246 - val_f1_score: 0.1211 - 660ms/epoch - 83ms/step\n",
      "Epoch 18/50\n",
      "8/8 - 1s - loss: 1.4330 - accuracy: 0.2541 - auc_9: 0.4943 - precision_9: 0.8000 - recall_9: 0.0164 - f1_score: 0.1438 - val_loss: 1.4704 - val_accuracy: 0.2213 - val_auc_9: 0.4651 - val_precision_9: 0.0000e+00 - val_recall_9: 0.0000e+00 - val_f1_score: 0.1264 - 654ms/epoch - 82ms/step\n",
      "Epoch 19/50\n",
      "8/8 - 1s - loss: 1.4276 - accuracy: 0.2623 - auc_9: 0.5069 - precision_9: 0.0000e+00 - recall_9: 0.0000e+00 - f1_score: 0.1486 - val_loss: 1.4665 - val_accuracy: 0.2213 - val_auc_9: 0.4664 - val_precision_9: 0.0000e+00 - val_recall_9: 0.0000e+00 - val_f1_score: 0.1264 - 656ms/epoch - 82ms/step\n",
      "Epoch 20/50\n",
      "8/8 - 1s - loss: 1.4263 - accuracy: 0.2623 - auc_9: 0.5072 - precision_9: 0.0000e+00 - recall_9: 0.0000e+00 - f1_score: 0.1486 - val_loss: 1.4622 - val_accuracy: 0.2213 - val_auc_9: 0.4653 - val_precision_9: 0.0000e+00 - val_recall_9: 0.0000e+00 - val_f1_score: 0.1264 - 658ms/epoch - 82ms/step\n",
      "Epoch 21/50\n",
      "8/8 - 1s - loss: 1.4229 - accuracy: 0.2623 - auc_9: 0.5078 - precision_9: 0.0000e+00 - recall_9: 0.0000e+00 - f1_score: 0.1486 - val_loss: 1.4573 - val_accuracy: 0.2213 - val_auc_9: 0.4690 - val_precision_9: 0.0000e+00 - val_recall_9: 0.0000e+00 - val_f1_score: 0.1264 - 661ms/epoch - 83ms/step\n",
      "Epoch 22/50\n",
      "8/8 - 1s - loss: 1.4203 - accuracy: 0.2623 - auc_9: 0.5090 - precision_9: 0.0000e+00 - recall_9: 0.0000e+00 - f1_score: 0.1490 - val_loss: 1.4535 - val_accuracy: 0.2213 - val_auc_9: 0.4705 - val_precision_9: 0.0000e+00 - val_recall_9: 0.0000e+00 - val_f1_score: 0.1254 - 654ms/epoch - 82ms/step\n",
      "Epoch 23/50\n",
      "8/8 - 1s - loss: 1.4173 - accuracy: 0.2623 - auc_9: 0.5165 - precision_9: 0.0000e+00 - recall_9: 0.0000e+00 - f1_score: 0.1508 - val_loss: 1.4499 - val_accuracy: 0.2295 - val_auc_9: 0.4738 - val_precision_9: 0.0000e+00 - val_recall_9: 0.0000e+00 - val_f1_score: 0.1348 - 662ms/epoch - 83ms/step\n",
      "Epoch 24/50\n",
      "8/8 - 1s - loss: 1.4139 - accuracy: 0.2664 - auc_9: 0.5182 - precision_9: 0.0000e+00 - recall_9: 0.0000e+00 - f1_score: 0.1545 - val_loss: 1.4444 - val_accuracy: 0.2377 - val_auc_9: 0.4811 - val_precision_9: 0.0000e+00 - val_recall_9: 0.0000e+00 - val_f1_score: 0.1401 - 654ms/epoch - 82ms/step\n",
      "Epoch 25/50\n",
      "8/8 - 1s - loss: 1.4119 - accuracy: 0.2664 - auc_9: 0.5206 - precision_9: 0.0000e+00 - recall_9: 0.0000e+00 - f1_score: 0.1558 - val_loss: 1.4413 - val_accuracy: 0.2787 - val_auc_9: 0.4829 - val_precision_9: 0.0000e+00 - val_recall_9: 0.0000e+00 - val_f1_score: 0.1673 - 657ms/epoch - 82ms/step\n",
      "Epoch 26/50\n",
      "8/8 - 1s - loss: 1.4093 - accuracy: 0.2746 - auc_9: 0.5207 - precision_9: 0.0000e+00 - recall_9: 0.0000e+00 - f1_score: 0.1615 - val_loss: 1.4345 - val_accuracy: 0.2623 - val_auc_9: 0.4899 - val_precision_9: 0.0000e+00 - val_recall_9: 0.0000e+00 - val_f1_score: 0.1623 - 668ms/epoch - 83ms/step\n",
      "Epoch 27/50\n",
      "8/8 - 1s - loss: 1.4078 - accuracy: 0.2664 - auc_9: 0.5211 - precision_9: 0.0000e+00 - recall_9: 0.0000e+00 - f1_score: 0.1609 - val_loss: 1.4312 - val_accuracy: 0.2705 - val_auc_9: 0.4970 - val_precision_9: 0.0000e+00 - val_recall_9: 0.0000e+00 - val_f1_score: 0.1840 - 655ms/epoch - 82ms/step\n",
      "Epoch 28/50\n",
      "8/8 - 1s - loss: 1.4052 - accuracy: 0.2705 - auc_9: 0.5251 - precision_9: 0.0000e+00 - recall_9: 0.0000e+00 - f1_score: 0.1729 - val_loss: 1.4284 - val_accuracy: 0.2705 - val_auc_9: 0.4998 - val_precision_9: 0.0000e+00 - val_recall_9: 0.0000e+00 - val_f1_score: 0.1842 - 663ms/epoch - 83ms/step\n",
      "Epoch 29/50\n",
      "8/8 - 1s - loss: 1.4033 - accuracy: 0.2746 - auc_9: 0.5273 - precision_9: 0.0000e+00 - recall_9: 0.0000e+00 - f1_score: 0.1751 - val_loss: 1.4259 - val_accuracy: 0.2787 - val_auc_9: 0.5020 - val_precision_9: 0.0000e+00 - val_recall_9: 0.0000e+00 - val_f1_score: 0.1892 - 661ms/epoch - 83ms/step\n",
      "Epoch 30/50\n",
      "8/8 - 1s - loss: 1.4014 - accuracy: 0.2746 - auc_9: 0.5288 - precision_9: 0.0000e+00 - recall_9: 0.0000e+00 - f1_score: 0.1754 - val_loss: 1.4236 - val_accuracy: 0.2787 - val_auc_9: 0.5021 - val_precision_9: 0.0000e+00 - val_recall_9: 0.0000e+00 - val_f1_score: 0.1894 - 710ms/epoch - 89ms/step\n",
      "Epoch 31/50\n",
      "8/8 - 1s - loss: 1.3999 - accuracy: 0.2746 - auc_9: 0.5286 - precision_9: 0.0000e+00 - recall_9: 0.0000e+00 - f1_score: 0.1755 - val_loss: 1.4225 - val_accuracy: 0.2787 - val_auc_9: 0.5063 - val_precision_9: 0.0000e+00 - val_recall_9: 0.0000e+00 - val_f1_score: 0.1894 - 658ms/epoch - 82ms/step\n",
      "Epoch 32/50\n",
      "8/8 - 1s - loss: 1.3981 - accuracy: 0.2746 - auc_9: 0.5331 - precision_9: 0.0000e+00 - recall_9: 0.0000e+00 - f1_score: 0.1759 - val_loss: 1.4215 - val_accuracy: 0.2787 - val_auc_9: 0.5071 - val_precision_9: 0.0000e+00 - val_recall_9: 0.0000e+00 - val_f1_score: 0.1898 - 655ms/epoch - 82ms/step\n",
      "Epoch 33/50\n",
      "8/8 - 1s - loss: 1.3966 - accuracy: 0.2746 - auc_9: 0.5362 - precision_9: 0.0000e+00 - recall_9: 0.0000e+00 - f1_score: 0.1761 - val_loss: 1.4179 - val_accuracy: 0.3115 - val_auc_9: 0.5099 - val_precision_9: 0.0000e+00 - val_recall_9: 0.0000e+00 - val_f1_score: 0.2108 - 656ms/epoch - 82ms/step\n",
      "Epoch 34/50\n",
      "8/8 - 1s - loss: 1.3950 - accuracy: 0.3033 - auc_9: 0.5359 - precision_9: 0.0000e+00 - recall_9: 0.0000e+00 - f1_score: 0.1924 - val_loss: 1.4198 - val_accuracy: 0.3115 - val_auc_9: 0.5051 - val_precision_9: 0.0000e+00 - val_recall_9: 0.0000e+00 - val_f1_score: 0.2063 - 655ms/epoch - 82ms/step\n",
      "Epoch 35/50\n",
      "8/8 - 1s - loss: 1.3926 - accuracy: 0.3443 - auc_9: 0.5373 - precision_9: 0.0000e+00 - recall_9: 0.0000e+00 - f1_score: 0.2139 - val_loss: 1.4185 - val_accuracy: 0.3115 - val_auc_9: 0.5068 - val_precision_9: 0.0000e+00 - val_recall_9: 0.0000e+00 - val_f1_score: 0.2046 - 653ms/epoch - 82ms/step\n",
      "Epoch 36/50\n",
      "8/8 - 1s - loss: 1.3907 - accuracy: 0.3484 - auc_9: 0.5385 - precision_9: 0.0000e+00 - recall_9: 0.0000e+00 - f1_score: 0.2153 - val_loss: 1.4188 - val_accuracy: 0.3115 - val_auc_9: 0.5079 - val_precision_9: 0.0000e+00 - val_recall_9: 0.0000e+00 - val_f1_score: 0.2050 - 673ms/epoch - 84ms/step\n",
      "Epoch 37/50\n",
      "8/8 - 1s - loss: 1.3880 - accuracy: 0.3648 - auc_9: 0.5420 - precision_9: 0.0000e+00 - recall_9: 0.0000e+00 - f1_score: 0.2474 - val_loss: 1.4166 - val_accuracy: 0.3361 - val_auc_9: 0.5098 - val_precision_9: 0.0000e+00 - val_recall_9: 0.0000e+00 - val_f1_score: 0.2450 - 668ms/epoch - 83ms/step\n",
      "Epoch 38/50\n",
      "8/8 - 1s - loss: 1.3866 - accuracy: 0.3730 - auc_9: 0.5436 - precision_9: 0.0000e+00 - recall_9: 0.0000e+00 - f1_score: 0.2637 - val_loss: 1.4154 - val_accuracy: 0.3361 - val_auc_9: 0.5137 - val_precision_9: 0.0000e+00 - val_recall_9: 0.0000e+00 - val_f1_score: 0.2450 - 671ms/epoch - 84ms/step\n",
      "Epoch 39/50\n",
      "8/8 - 1s - loss: 1.3853 - accuracy: 0.3730 - auc_9: 0.5450 - precision_9: 0.0000e+00 - recall_9: 0.0000e+00 - f1_score: 0.2637 - val_loss: 1.4134 - val_accuracy: 0.3361 - val_auc_9: 0.5129 - val_precision_9: 0.0000e+00 - val_recall_9: 0.0000e+00 - val_f1_score: 0.2450 - 684ms/epoch - 85ms/step\n",
      "Epoch 40/50\n",
      "8/8 - 1s - loss: 1.3839 - accuracy: 0.3730 - auc_9: 0.5511 - precision_9: 0.0000e+00 - recall_9: 0.0000e+00 - f1_score: 0.2637 - val_loss: 1.4122 - val_accuracy: 0.3361 - val_auc_9: 0.5161 - val_precision_9: 0.0000e+00 - val_recall_9: 0.0000e+00 - val_f1_score: 0.2451 - 672ms/epoch - 84ms/step\n",
      "Epoch 41/50\n",
      "8/8 - 1s - loss: 1.3830 - accuracy: 0.3730 - auc_9: 0.5470 - precision_9: 0.0000e+00 - recall_9: 0.0000e+00 - f1_score: 0.2637 - val_loss: 1.4180 - val_accuracy: 0.3279 - val_auc_9: 0.5035 - val_precision_9: 0.0000e+00 - val_recall_9: 0.0000e+00 - val_f1_score: 0.2409 - 674ms/epoch - 84ms/step\n",
      "Epoch 42/50\n",
      "8/8 - 1s - loss: 1.3821 - accuracy: 0.3689 - auc_9: 0.5452 - precision_9: 0.0000e+00 - recall_9: 0.0000e+00 - f1_score: 0.2618 - val_loss: 1.4169 - val_accuracy: 0.3361 - val_auc_9: 0.5034 - val_precision_9: 0.0000e+00 - val_recall_9: 0.0000e+00 - val_f1_score: 0.2451 - 667ms/epoch - 83ms/step\n",
      "Epoch 43/50\n",
      "8/8 - 1s - loss: 1.3801 - accuracy: 0.3689 - auc_9: 0.5464 - precision_9: 0.0000e+00 - recall_9: 0.0000e+00 - f1_score: 0.2605 - val_loss: 1.4157 - val_accuracy: 0.3361 - val_auc_9: 0.5049 - val_precision_9: 0.0000e+00 - val_recall_9: 0.0000e+00 - val_f1_score: 0.2451 - 672ms/epoch - 84ms/step\n",
      "Epoch 44/50\n",
      "8/8 - 1s - loss: 1.3791 - accuracy: 0.3689 - auc_9: 0.5475 - precision_9: 0.0000e+00 - recall_9: 0.0000e+00 - f1_score: 0.2605 - val_loss: 1.4155 - val_accuracy: 0.3361 - val_auc_9: 0.5037 - val_precision_9: 0.0000e+00 - val_recall_9: 0.0000e+00 - val_f1_score: 0.2451 - 678ms/epoch - 85ms/step\n",
      "Epoch 45/50\n",
      "8/8 - 1s - loss: 1.3774 - accuracy: 0.3689 - auc_9: 0.5434 - precision_9: 0.0000e+00 - recall_9: 0.0000e+00 - f1_score: 0.2605 - val_loss: 1.4138 - val_accuracy: 0.3361 - val_auc_9: 0.5026 - val_precision_9: 0.0000e+00 - val_recall_9: 0.0000e+00 - val_f1_score: 0.2451 - 675ms/epoch - 84ms/step\n",
      "Epoch 46/50\n",
      "8/8 - 1s - loss: 1.3754 - accuracy: 0.3689 - auc_9: 0.5430 - precision_9: 0.0000e+00 - recall_9: 0.0000e+00 - f1_score: 0.2602 - val_loss: 1.4095 - val_accuracy: 0.3361 - val_auc_9: 0.5076 - val_precision_9: 0.0000e+00 - val_recall_9: 0.0000e+00 - val_f1_score: 0.2451 - 666ms/epoch - 83ms/step\n",
      "Epoch 47/50\n",
      "8/8 - 1s - loss: 1.3743 - accuracy: 0.3689 - auc_9: 0.5442 - precision_9: 0.0000e+00 - recall_9: 0.0000e+00 - f1_score: 0.2602 - val_loss: 1.4080 - val_accuracy: 0.3361 - val_auc_9: 0.5073 - val_precision_9: 0.0000e+00 - val_recall_9: 0.0000e+00 - val_f1_score: 0.2451 - 672ms/epoch - 84ms/step\n",
      "Epoch 48/50\n",
      "8/8 - 1s - loss: 1.3729 - accuracy: 0.3689 - auc_9: 0.5468 - precision_9: 0.0000e+00 - recall_9: 0.0000e+00 - f1_score: 0.2602 - val_loss: 1.4081 - val_accuracy: 0.3361 - val_auc_9: 0.5062 - val_precision_9: 0.0000e+00 - val_recall_9: 0.0000e+00 - val_f1_score: 0.2451 - 672ms/epoch - 84ms/step\n",
      "Epoch 49/50\n",
      "8/8 - 1s - loss: 1.3718 - accuracy: 0.3648 - auc_9: 0.5464 - precision_9: 0.0000e+00 - recall_9: 0.0000e+00 - f1_score: 0.2568 - val_loss: 1.4070 - val_accuracy: 0.3361 - val_auc_9: 0.5068 - val_precision_9: 0.0000e+00 - val_recall_9: 0.0000e+00 - val_f1_score: 0.2451 - 674ms/epoch - 84ms/step\n",
      "Epoch 50/50\n",
      "8/8 - 1s - loss: 1.3707 - accuracy: 0.3648 - auc_9: 0.5464 - precision_9: 0.0000e+00 - recall_9: 0.0000e+00 - f1_score: 0.2568 - val_loss: 1.4065 - val_accuracy: 0.3361 - val_auc_9: 0.5067 - val_precision_9: 0.0000e+00 - val_recall_9: 0.0000e+00 - val_f1_score: 0.2451 - 678ms/epoch - 85ms/step\n"
     ]
    },
    {
     "data": {
      "image/png": "[encoded data removed]",
      "text/plain": [
       "<Figure size 432x288 with 1 Axes>"
      ]
     },
     "metadata": {
      "needs_background": "light"
     },
     "output_type": "display_data"
    },
    {
     "name": "stdout",
     "output_type": "stream",
     "text": [
      "Epoch 1/50\n",
      "8/8 - 3s - loss: 1.5073 - accuracy: 0.4467 - auc_10: 0.7435 - precision_10: 0.3855 - recall_10: 0.1311 - f1_score: 0.2065 - val_loss: 1.1981 - val_accuracy: 0.5246 - val_auc_10: 0.7323 - val_precision_10: 0.5000 - val_recall_10: 0.1475 - val_f1_score: 0.4168 - 3s/epoch - 392ms/step\n",
      "Epoch 2/50\n",
      "8/8 - 1s - loss: 1.4561 - accuracy: 0.4672 - auc_10: 0.7482 - precision_10: 0.4110 - recall_10: 0.1230 - f1_score: 0.2257 - val_loss: 1.2046 - val_accuracy: 0.5164 - val_auc_10: 0.7256 - val_precision_10: 0.4865 - val_recall_10: 0.1475 - val_f1_score: 0.4135 - 653ms/epoch - 82ms/step\n",
      "Epoch 3/50\n",
      "8/8 - 1s - loss: 1.4385 - accuracy: 0.4631 - auc_10: 0.7493 - precision_10: 0.3944 - recall_10: 0.1148 - f1_score: 0.2243 - val_loss: 1.1892 - val_accuracy: 0.5164 - val_auc_10: 0.7346 - val_precision_10: 0.5556 - val_recall_10: 0.1230 - val_f1_score: 0.4135 - 652ms/epoch - 81ms/step\n",
      "Epoch 4/50\n",
      "8/8 - 1s - loss: 1.4354 - accuracy: 0.4590 - auc_10: 0.7571 - precision_10: 0.3846 - recall_10: 0.0820 - f1_score: 0.2248 - val_loss: 1.1932 - val_accuracy: 0.4836 - val_auc_10: 0.7312 - val_precision_10: 0.4211 - val_recall_10: 0.0656 - val_f1_score: 0.3927 - 663ms/epoch - 83ms/step\n",
      "Epoch 5/50\n",
      "8/8 - 1s - loss: 1.3724 - accuracy: 0.4631 - auc_10: 0.7582 - precision_10: 0.3250 - recall_10: 0.0533 - f1_score: 0.2287 - val_loss: 1.1813 - val_accuracy: 0.5164 - val_auc_10: 0.7448 - val_precision_10: 0.4375 - val_recall_10: 0.0574 - val_f1_score: 0.4045 - 657ms/epoch - 82ms/step\n",
      "Epoch 6/50\n",
      "8/8 - 1s - loss: 1.3546 - accuracy: 0.4754 - auc_10: 0.7666 - precision_10: 0.3611 - recall_10: 0.0533 - f1_score: 0.2335 - val_loss: 1.1813 - val_accuracy: 0.5246 - val_auc_10: 0.7465 - val_precision_10: 0.3077 - val_recall_10: 0.0328 - val_f1_score: 0.4124 - 655ms/epoch - 82ms/step\n",
      "Epoch 7/50\n",
      "8/8 - 1s - loss: 1.3415 - accuracy: 0.5000 - auc_10: 0.7745 - precision_10: 0.4000 - recall_10: 0.0574 - f1_score: 0.2466 - val_loss: 1.1864 - val_accuracy: 0.5000 - val_auc_10: 0.7427 - val_precision_10: 0.3077 - val_recall_10: 0.0328 - val_f1_score: 0.2384 - 657ms/epoch - 82ms/step\n",
      "Epoch 8/50\n",
      "8/8 - 1s - loss: 1.3349 - accuracy: 0.4918 - auc_10: 0.7715 - precision_10: 0.3438 - recall_10: 0.0451 - f1_score: 0.2433 - val_loss: 1.1923 - val_accuracy: 0.4672 - val_auc_10: 0.7393 - val_precision_10: 0.3333 - val_recall_10: 0.0328 - val_f1_score: 0.2260 - 656ms/epoch - 82ms/step\n",
      "Epoch 9/50\n",
      "8/8 - 1s - loss: 1.3258 - accuracy: 0.4918 - auc_10: 0.7709 - precision_10: 0.3448 - recall_10: 0.0410 - f1_score: 0.2448 - val_loss: 1.1939 - val_accuracy: 0.4836 - val_auc_10: 0.7399 - val_precision_10: 0.3333 - val_recall_10: 0.0246 - val_f1_score: 0.2326 - 654ms/epoch - 82ms/step\n",
      "Epoch 10/50\n",
      "8/8 - 1s - loss: 1.3156 - accuracy: 0.4631 - auc_10: 0.7653 - precision_10: 0.3929 - recall_10: 0.0451 - f1_score: 0.2328 - val_loss: 1.1929 - val_accuracy: 0.4836 - val_auc_10: 0.7430 - val_precision_10: 0.3333 - val_recall_10: 0.0246 - val_f1_score: 0.2326 - 656ms/epoch - 82ms/step\n",
      "Epoch 11/50\n",
      "8/8 - 1s - loss: 1.3041 - accuracy: 0.5123 - auc_10: 0.7791 - precision_10: 0.3929 - recall_10: 0.0451 - f1_score: 0.2547 - val_loss: 1.1964 - val_accuracy: 0.4918 - val_auc_10: 0.7426 - val_precision_10: 0.3750 - val_recall_10: 0.0246 - val_f1_score: 0.2354 - 672ms/epoch - 84ms/step\n",
      "Epoch 12/50\n",
      "8/8 - 1s - loss: 1.2978 - accuracy: 0.5287 - auc_10: 0.7833 - precision_10: 0.4000 - recall_10: 0.0410 - f1_score: 0.2631 - val_loss: 1.2016 - val_accuracy: 0.4836 - val_auc_10: 0.7381 - val_precision_10: 0.3750 - val_recall_10: 0.0246 - val_f1_score: 0.2323 - 670ms/epoch - 84ms/step\n",
      "Epoch 13/50\n",
      "8/8 - 1s - loss: 1.2895 - accuracy: 0.5369 - auc_10: 0.7862 - precision_10: 0.4348 - recall_10: 0.0410 - f1_score: 0.2695 - val_loss: 1.2067 - val_accuracy: 0.4836 - val_auc_10: 0.7349 - val_precision_10: 0.4286 - val_recall_10: 0.0246 - val_f1_score: 0.2365 - 675ms/epoch - 84ms/step\n",
      "Epoch 14/50\n",
      "8/8 - 1s - loss: 1.2772 - accuracy: 0.5492 - auc_10: 0.7895 - precision_10: 0.5000 - recall_10: 0.0410 - f1_score: 0.2775 - val_loss: 1.2103 - val_accuracy: 0.4918 - val_auc_10: 0.7338 - val_precision_10: 0.4286 - val_recall_10: 0.0246 - val_f1_score: 0.2435 - 671ms/epoch - 84ms/step\n",
      "Epoch 15/50\n",
      "8/8 - 1s - loss: 1.2716 - accuracy: 0.5492 - auc_10: 0.7884 - precision_10: 0.5238 - recall_10: 0.0451 - f1_score: 0.2786 - val_loss: 1.2192 - val_accuracy: 0.4590 - val_auc_10: 0.7259 - val_precision_10: 0.4286 - val_recall_10: 0.0246 - val_f1_score: 0.2342 - 675ms/epoch - 84ms/step\n",
      "Epoch 16/50\n",
      "8/8 - 1s - loss: 1.2680 - accuracy: 0.5492 - auc_10: 0.7853 - precision_10: 0.5500 - recall_10: 0.0451 - f1_score: 0.2799 - val_loss: 1.2222 - val_accuracy: 0.4590 - val_auc_10: 0.7251 - val_precision_10: 0.4286 - val_recall_10: 0.0246 - val_f1_score: 0.2342 - 675ms/epoch - 84ms/step\n",
      "Epoch 17/50\n",
      "8/8 - 1s - loss: 1.2606 - accuracy: 0.5492 - auc_10: 0.7857 - precision_10: 0.5238 - recall_10: 0.0451 - f1_score: 0.2798 - val_loss: 1.2239 - val_accuracy: 0.4426 - val_auc_10: 0.7253 - val_precision_10: 0.4286 - val_recall_10: 0.0246 - val_f1_score: 0.2274 - 670ms/epoch - 84ms/step\n",
      "Epoch 18/50\n",
      "8/8 - 1s - loss: 1.2564 - accuracy: 0.5328 - auc_10: 0.7846 - precision_10: 0.4783 - recall_10: 0.0451 - f1_score: 0.2748 - val_loss: 1.2243 - val_accuracy: 0.4754 - val_auc_10: 0.7278 - val_precision_10: 0.4286 - val_recall_10: 0.0246 - val_f1_score: 0.2475 - 672ms/epoch - 84ms/step\n",
      "Epoch 19/50\n",
      "8/8 - 1s - loss: 1.2508 - accuracy: 0.5492 - auc_10: 0.7869 - precision_10: 0.4000 - recall_10: 0.0328 - f1_score: 0.2842 - val_loss: 1.2234 - val_accuracy: 0.4754 - val_auc_10: 0.7304 - val_precision_10: 0.5000 - val_recall_10: 0.0246 - val_f1_score: 0.2443 - 672ms/epoch - 84ms/step\n",
      "Epoch 20/50\n",
      "8/8 - 1s - loss: 1.2473 - accuracy: 0.5328 - auc_10: 0.7858 - precision_10: 0.4444 - recall_10: 0.0328 - f1_score: 0.2768 - val_loss: 1.2285 - val_accuracy: 0.4426 - val_auc_10: 0.7261 - val_precision_10: 0.5000 - val_recall_10: 0.0246 - val_f1_score: 0.2994 - 670ms/epoch - 84ms/step\n",
      "Epoch 21/50\n",
      "8/8 - 1s - loss: 1.2410 - accuracy: 0.5246 - auc_10: 0.7822 - precision_10: 0.4444 - recall_10: 0.0328 - f1_score: 0.2852 - val_loss: 1.2319 - val_accuracy: 0.4508 - val_auc_10: 0.7231 - val_precision_10: 0.5000 - val_recall_10: 0.0246 - val_f1_score: 0.3058 - 670ms/epoch - 84ms/step\n",
      "Epoch 22/50\n",
      "8/8 - 1s - loss: 1.2379 - accuracy: 0.5246 - auc_10: 0.7797 - precision_10: 0.4444 - recall_10: 0.0328 - f1_score: 0.2873 - val_loss: 1.2346 - val_accuracy: 0.4672 - val_auc_10: 0.7220 - val_precision_10: 0.5000 - val_recall_10: 0.0246 - val_f1_score: 0.3395 - 671ms/epoch - 84ms/step\n",
      "Epoch 23/50\n",
      "8/8 - 1s - loss: 1.2351 - accuracy: 0.5164 - auc_10: 0.7766 - precision_10: 0.4118 - recall_10: 0.0287 - f1_score: 0.2829 - val_loss: 1.2373 - val_accuracy: 0.4508 - val_auc_10: 0.7217 - val_precision_10: 0.4286 - val_recall_10: 0.0246 - val_f1_score: 0.3334 - 675ms/epoch - 84ms/step\n",
      "Epoch 24/50\n",
      "8/8 - 1s - loss: 1.2300 - accuracy: 0.5164 - auc_10: 0.7769 - precision_10: 0.3684 - recall_10: 0.0287 - f1_score: 0.2843 - val_loss: 1.2378 - val_accuracy: 0.4590 - val_auc_10: 0.7223 - val_precision_10: 0.4286 - val_recall_10: 0.0246 - val_f1_score: 0.3370 - 672ms/epoch - 84ms/step\n",
      "Epoch 25/50\n",
      "8/8 - 1s - loss: 1.2266 - accuracy: 0.5164 - auc_10: 0.7778 - precision_10: 0.3684 - recall_10: 0.0287 - f1_score: 0.2855 - val_loss: 1.2406 - val_accuracy: 0.4672 - val_auc_10: 0.7205 - val_precision_10: 0.4286 - val_recall_10: 0.0246 - val_f1_score: 0.3405 - 669ms/epoch - 84ms/step\n",
      "Epoch 26/50\n",
      "8/8 - 1s - loss: 1.2352 - accuracy: 0.5082 - auc_10: 0.7757 - precision_10: 0.3684 - recall_10: 0.0287 - f1_score: 0.2830 - val_loss: 1.2438 - val_accuracy: 0.4672 - val_auc_10: 0.7199 - val_precision_10: 0.4286 - val_recall_10: 0.0246 - val_f1_score: 0.3404 - 671ms/epoch - 84ms/step\n",
      "Epoch 27/50\n",
      "8/8 - 1s - loss: 1.2209 - accuracy: 0.5000 - auc_10: 0.7740 - precision_10: 0.3684 - recall_10: 0.0287 - f1_score: 0.2784 - val_loss: 1.2459 - val_accuracy: 0.4508 - val_auc_10: 0.7178 - val_precision_10: 0.4286 - val_recall_10: 0.0246 - val_f1_score: 0.3334 - 678ms/epoch - 85ms/step\n",
      "Epoch 28/50\n",
      "8/8 - 1s - loss: 1.2190 - accuracy: 0.5000 - auc_10: 0.7731 - precision_10: 0.3684 - recall_10: 0.0287 - f1_score: 0.2784 - val_loss: 1.2474 - val_accuracy: 0.4426 - val_auc_10: 0.7176 - val_precision_10: 0.5000 - val_recall_10: 0.0246 - val_f1_score: 0.3298 - 676ms/epoch - 84ms/step\n",
      "Epoch 29/50\n",
      "8/8 - 1s - loss: 1.2159 - accuracy: 0.4918 - auc_10: 0.7729 - precision_10: 0.3333 - recall_10: 0.0205 - f1_score: 0.2745 - val_loss: 1.2496 - val_accuracy: 0.4426 - val_auc_10: 0.7152 - val_precision_10: 0.5000 - val_recall_10: 0.0246 - val_f1_score: 0.3298 - 670ms/epoch - 84ms/step\n",
      "Epoch 30/50\n",
      "8/8 - 1s - loss: 1.2120 - accuracy: 0.4795 - auc_10: 0.7713 - precision_10: 0.4375 - recall_10: 0.0287 - f1_score: 0.2694 - val_loss: 1.2502 - val_accuracy: 0.4426 - val_auc_10: 0.7172 - val_precision_10: 0.5000 - val_recall_10: 0.0246 - val_f1_score: 0.3296 - 680ms/epoch - 85ms/step\n",
      "Epoch 31/50\n",
      "8/8 - 1s - loss: 1.2097 - accuracy: 0.4836 - auc_10: 0.7716 - precision_10: 0.5000 - recall_10: 0.0287 - f1_score: 0.2706 - val_loss: 1.2515 - val_accuracy: 0.4262 - val_auc_10: 0.7139 - val_precision_10: 0.6000 - val_recall_10: 0.0246 - val_f1_score: 0.3235 - 679ms/epoch - 85ms/step\n",
      "Epoch 32/50\n",
      "8/8 - 1s - loss: 1.2129 - accuracy: 0.5164 - auc_10: 0.7782 - precision_10: 0.3846 - recall_10: 0.0205 - f1_score: 0.2861 - val_loss: 1.2404 - val_accuracy: 0.4590 - val_auc_10: 0.7229 - val_precision_10: 0.5000 - val_recall_10: 0.0164 - val_f1_score: 0.3318 - 679ms/epoch - 85ms/step\n",
      "Epoch 33/50\n",
      "8/8 - 1s - loss: 1.2079 - accuracy: 0.5369 - auc_10: 0.7836 - precision_10: 0.4000 - recall_10: 0.0246 - f1_score: 0.2947 - val_loss: 1.2363 - val_accuracy: 0.4836 - val_auc_10: 0.7282 - val_precision_10: 0.5000 - val_recall_10: 0.0164 - val_f1_score: 0.4053 - 670ms/epoch - 84ms/step\n",
      "Epoch 34/50\n",
      "8/8 - 1s - loss: 1.2034 - accuracy: 0.5410 - auc_10: 0.7837 - precision_10: 0.4167 - recall_10: 0.0205 - f1_score: 0.2966 - val_loss: 1.2384 - val_accuracy: 0.4836 - val_auc_10: 0.7269 - val_precision_10: 1.0000 - val_recall_10: 0.0164 - val_f1_score: 0.3444 - 671ms/epoch - 84ms/step\n",
      "Epoch 35/50\n",
      "8/8 - 1s - loss: 1.1995 - accuracy: 0.5369 - auc_10: 0.7829 - precision_10: 0.4000 - recall_10: 0.0164 - f1_score: 0.2944 - val_loss: 1.2406 - val_accuracy: 0.4836 - val_auc_10: 0.7246 - val_precision_10: 1.0000 - val_recall_10: 0.0164 - val_f1_score: 0.3476 - 675ms/epoch - 84ms/step\n",
      "Epoch 36/50\n",
      "8/8 - 1s - loss: 1.1953 - accuracy: 0.5328 - auc_10: 0.7823 - precision_10: 0.4000 - recall_10: 0.0164 - f1_score: 0.2922 - val_loss: 1.2401 - val_accuracy: 0.4836 - val_auc_10: 0.7238 - val_precision_10: 1.0000 - val_recall_10: 0.0164 - val_f1_score: 0.3477 - 672ms/epoch - 84ms/step\n",
      "Epoch 37/50\n",
      "8/8 - 1s - loss: 1.1901 - accuracy: 0.5246 - auc_10: 0.7822 - precision_10: 0.4000 - recall_10: 0.0164 - f1_score: 0.2885 - val_loss: 1.2449 - val_accuracy: 0.4672 - val_auc_10: 0.7195 - val_precision_10: 1.0000 - val_recall_10: 0.0164 - val_f1_score: 0.3387 - 673ms/epoch - 84ms/step\n",
      "Epoch 38/50\n",
      "8/8 - 1s - loss: 1.1887 - accuracy: 0.5287 - auc_10: 0.7804 - precision_10: 0.4000 - recall_10: 0.0164 - f1_score: 0.2903 - val_loss: 1.2489 - val_accuracy: 0.4754 - val_auc_10: 0.7162 - val_precision_10: 1.0000 - val_recall_10: 0.0164 - val_f1_score: 0.3769 - 673ms/epoch - 84ms/step\n",
      "Epoch 39/50\n",
      "8/8 - 1s - loss: 1.1857 - accuracy: 0.5451 - auc_10: 0.7789 - precision_10: 0.4000 - recall_10: 0.0164 - f1_score: 0.3470 - val_loss: 1.2541 - val_accuracy: 0.4590 - val_auc_10: 0.7115 - val_precision_10: 1.0000 - val_recall_10: 0.0164 - val_f1_score: 0.3636 - 671ms/epoch - 84ms/step\n",
      "Epoch 40/50\n",
      "8/8 - 1s - loss: 1.1820 - accuracy: 0.5451 - auc_10: 0.7795 - precision_10: 0.4000 - recall_10: 0.0164 - f1_score: 0.3470 - val_loss: 1.2551 - val_accuracy: 0.4590 - val_auc_10: 0.7119 - val_precision_10: 1.0000 - val_recall_10: 0.0164 - val_f1_score: 0.3636 - 670ms/epoch - 84ms/step\n",
      "Epoch 41/50\n",
      "8/8 - 1s - loss: 1.1789 - accuracy: 0.5492 - auc_10: 0.7789 - precision_10: 0.3333 - recall_10: 0.0123 - f1_score: 0.3500 - val_loss: 1.2608 - val_accuracy: 0.4590 - val_auc_10: 0.7049 - val_precision_10: 1.0000 - val_recall_10: 0.0164 - val_f1_score: 0.3641 - 670ms/epoch - 84ms/step\n",
      "Epoch 42/50\n",
      "8/8 - 1s - loss: 1.1782 - accuracy: 0.5287 - auc_10: 0.7728 - precision_10: 0.4000 - recall_10: 0.0164 - f1_score: 0.3415 - val_loss: 1.2644 - val_accuracy: 0.4590 - val_auc_10: 0.7016 - val_precision_10: 1.0000 - val_recall_10: 0.0164 - val_f1_score: 0.3700 - 673ms/epoch - 84ms/step\n",
      "Epoch 43/50\n",
      "8/8 - 1s - loss: 1.1752 - accuracy: 0.5410 - auc_10: 0.7729 - precision_10: 0.3333 - recall_10: 0.0123 - f1_score: 0.3474 - val_loss: 1.2632 - val_accuracy: 0.4344 - val_auc_10: 0.7039 - val_precision_10: 1.0000 - val_recall_10: 0.0164 - val_f1_score: 0.3236 - 671ms/epoch - 84ms/step\n",
      "Epoch 44/50\n",
      "8/8 - 1s - loss: 1.1725 - accuracy: 0.5492 - auc_10: 0.7765 - precision_10: 0.3750 - recall_10: 0.0123 - f1_score: 0.3507 - val_loss: 1.2593 - val_accuracy: 0.4590 - val_auc_10: 0.7065 - val_precision_10: 1.0000 - val_recall_10: 0.0164 - val_f1_score: 0.3602 - 674ms/epoch - 84ms/step\n",
      "Epoch 45/50\n",
      "8/8 - 1s - loss: 1.1714 - accuracy: 0.5369 - auc_10: 0.7747 - precision_10: 0.3750 - recall_10: 0.0123 - f1_score: 0.3443 - val_loss: 1.2623 - val_accuracy: 0.4508 - val_auc_10: 0.7047 - val_precision_10: 1.0000 - val_recall_10: 0.0164 - val_f1_score: 0.3571 - 669ms/epoch - 84ms/step\n",
      "Epoch 46/50\n",
      "8/8 - 1s - loss: 1.1690 - accuracy: 0.5410 - auc_10: 0.7760 - precision_10: 0.3333 - recall_10: 0.0123 - f1_score: 0.3458 - val_loss: 1.2636 - val_accuracy: 0.4672 - val_auc_10: 0.7048 - val_precision_10: 1.0000 - val_recall_10: 0.0164 - val_f1_score: 0.4288 - 669ms/epoch - 84ms/step\n",
      "Epoch 47/50\n",
      "8/8 - 1s - loss: 1.1680 - accuracy: 0.5328 - auc_10: 0.7732 - precision_10: 0.3750 - recall_10: 0.0123 - f1_score: 0.3418 - val_loss: 1.2679 - val_accuracy: 0.4754 - val_auc_10: 0.7003 - val_precision_10: 1.0000 - val_recall_10: 0.0164 - val_f1_score: 0.4456 - 673ms/epoch - 84ms/step\n",
      "Epoch 48/50\n",
      "8/8 - 1s - loss: 1.1644 - accuracy: 0.5410 - auc_10: 0.7741 - precision_10: 0.3750 - recall_10: 0.0123 - f1_score: 0.3458 - val_loss: 1.2650 - val_accuracy: 0.4836 - val_auc_10: 0.7037 - val_precision_10: 1.0000 - val_recall_10: 0.0164 - val_f1_score: 0.4488 - 673ms/epoch - 84ms/step\n",
      "Epoch 49/50\n",
      "8/8 - 1s - loss: 1.1625 - accuracy: 0.5369 - auc_10: 0.7728 - precision_10: 0.3750 - recall_10: 0.0123 - f1_score: 0.3438 - val_loss: 1.2649 - val_accuracy: 0.4590 - val_auc_10: 0.7007 - val_precision_10: 1.0000 - val_recall_10: 0.0164 - val_f1_score: 0.4364 - 672ms/epoch - 84ms/step\n",
      "Epoch 50/50\n",
      "8/8 - 1s - loss: 1.1605 - accuracy: 0.5369 - auc_10: 0.7727 - precision_10: 0.3750 - recall_10: 0.0123 - f1_score: 0.3438 - val_loss: 1.2670 - val_accuracy: 0.4590 - val_auc_10: 0.7003 - val_precision_10: 1.0000 - val_recall_10: 0.0164 - val_f1_score: 0.4359 - 669ms/epoch - 84ms/step\n"
     ]
    },
    {
     "data": {
      "image/png": "[encoded data removed]",
      "text/plain": [
       "<Figure size 432x288 with 1 Axes>"
      ]
     },
     "metadata": {
      "needs_background": "light"
     },
     "output_type": "display_data"
    },
    {
     "name": "stdout",
     "output_type": "stream",
     "text": [
      "Epoch 1/50\n",
      "8/8 - 3s - loss: 1.5212 - accuracy: 0.2418 - auc_11: 0.4725 - precision_11: 0.1765 - recall_11: 0.0123 - f1_score: 0.1560 - val_loss: 1.5163 - val_accuracy: 0.2213 - val_auc_11: 0.4307 - val_precision_11: 0.1429 - val_recall_11: 0.0082 - val_f1_score: 0.1433 - 3s/epoch - 351ms/step\n",
      "Epoch 2/50\n",
      "8/8 - 1s - loss: 1.4973 - accuracy: 0.2377 - auc_11: 0.5043 - precision_11: 0.1538 - recall_11: 0.0082 - f1_score: 0.1541 - val_loss: 1.4917 - val_accuracy: 0.2295 - val_auc_11: 0.4413 - val_precision_11: 0.0000e+00 - val_recall_11: 0.0000e+00 - val_f1_score: 0.1481 - 668ms/epoch - 84ms/step\n",
      "Epoch 3/50\n",
      "8/8 - 1s - loss: 1.4590 - accuracy: 0.2418 - auc_11: 0.5227 - precision_11: 0.1429 - recall_11: 0.0082 - f1_score: 0.1637 - val_loss: 1.4787 - val_accuracy: 0.2377 - val_auc_11: 0.4533 - val_precision_11: 0.0000e+00 - val_recall_11: 0.0000e+00 - val_f1_score: 0.1634 - 662ms/epoch - 83ms/step\n",
      "Epoch 4/50\n",
      "8/8 - 1s - loss: 1.4380 - accuracy: 0.2500 - auc_11: 0.5377 - precision_11: 0.0833 - recall_11: 0.0041 - f1_score: 0.1864 - val_loss: 1.4678 - val_accuracy: 0.2377 - val_auc_11: 0.4612 - val_precision_11: 0.1667 - val_recall_11: 0.0082 - val_f1_score: 0.1622 - 667ms/epoch - 83ms/step\n",
      "Epoch 5/50\n",
      "8/8 - 1s - loss: 1.4284 - accuracy: 0.2500 - auc_11: 0.5416 - precision_11: 0.0833 - recall_11: 0.0041 - f1_score: 0.1840 - val_loss: 1.4474 - val_accuracy: 0.2295 - val_auc_11: 0.4794 - val_precision_11: 0.0000e+00 - val_recall_11: 0.0000e+00 - val_f1_score: 0.1643 - 665ms/epoch - 83ms/step\n",
      "Epoch 6/50\n",
      "8/8 - 1s - loss: 1.4153 - accuracy: 0.2541 - auc_11: 0.5594 - precision_11: 0.0000e+00 - recall_11: 0.0000e+00 - f1_score: 0.1866 - val_loss: 1.4230 - val_accuracy: 0.2377 - val_auc_11: 0.5054 - val_precision_11: 0.0000e+00 - val_recall_11: 0.0000e+00 - val_f1_score: 0.1743 - 658ms/epoch - 82ms/step\n",
      "Epoch 7/50\n",
      "8/8 - 1s - loss: 1.3926 - accuracy: 0.2500 - auc_11: 0.5734 - precision_11: 0.2222 - recall_11: 0.0082 - f1_score: 0.1870 - val_loss: 1.4155 - val_accuracy: 0.2295 - val_auc_11: 0.5193 - val_precision_11: 0.0000e+00 - val_recall_11: 0.0000e+00 - val_f1_score: 0.1640 - 656ms/epoch - 82ms/step\n",
      "Epoch 8/50\n",
      "8/8 - 1s - loss: 1.3831 - accuracy: 0.2541 - auc_11: 0.5817 - precision_11: 0.1250 - recall_11: 0.0041 - f1_score: 0.1933 - val_loss: 1.4082 - val_accuracy: 0.2213 - val_auc_11: 0.5264 - val_precision_11: 0.0000e+00 - val_recall_11: 0.0000e+00 - val_f1_score: 0.1595 - 659ms/epoch - 82ms/step\n",
      "Epoch 9/50\n",
      "8/8 - 1s - loss: 1.3743 - accuracy: 0.2500 - auc_11: 0.5911 - precision_11: 0.1250 - recall_11: 0.0041 - f1_score: 0.1874 - val_loss: 1.3981 - val_accuracy: 0.2213 - val_auc_11: 0.5393 - val_precision_11: 0.0000e+00 - val_recall_11: 0.0000e+00 - val_f1_score: 0.1586 - 665ms/epoch - 83ms/step\n",
      "Epoch 10/50\n",
      "8/8 - 1s - loss: 1.3612 - accuracy: 0.2459 - auc_11: 0.6031 - precision_11: 0.1250 - recall_11: 0.0041 - f1_score: 0.1848 - val_loss: 1.3930 - val_accuracy: 0.2459 - val_auc_11: 0.5485 - val_precision_11: 0.0000e+00 - val_recall_11: 0.0000e+00 - val_f1_score: 0.1733 - 662ms/epoch - 83ms/step\n",
      "Epoch 11/50\n",
      "8/8 - 1s - loss: 1.3483 - accuracy: 0.2623 - auc_11: 0.6136 - precision_11: 0.2222 - recall_11: 0.0082 - f1_score: 0.1998 - val_loss: 1.3893 - val_accuracy: 0.2377 - val_auc_11: 0.5525 - val_precision_11: 0.0000e+00 - val_recall_11: 0.0000e+00 - val_f1_score: 0.1619 - 678ms/epoch - 85ms/step\n",
      "Epoch 12/50\n",
      "8/8 - 1s - loss: 1.3401 - accuracy: 0.2582 - auc_11: 0.6102 - precision_11: 0.3333 - recall_11: 0.0164 - f1_score: 0.1974 - val_loss: 1.3875 - val_accuracy: 0.2459 - val_auc_11: 0.5528 - val_precision_11: 0.0000e+00 - val_recall_11: 0.0000e+00 - val_f1_score: 0.1733 - 681ms/epoch - 85ms/step\n",
      "Epoch 13/50\n",
      "8/8 - 1s - loss: 1.3293 - accuracy: 0.2582 - auc_11: 0.6133 - precision_11: 0.2500 - recall_11: 0.0082 - f1_score: 0.1993 - val_loss: 1.3824 - val_accuracy: 0.2541 - val_auc_11: 0.5577 - val_precision_11: 0.0000e+00 - val_recall_11: 0.0000e+00 - val_f1_score: 0.1778 - 684ms/epoch - 86ms/step\n",
      "Epoch 14/50\n",
      "8/8 - 1s - loss: 1.3219 - accuracy: 0.2664 - auc_11: 0.6194 - precision_11: 0.3636 - recall_11: 0.0164 - f1_score: 0.2052 - val_loss: 1.3767 - val_accuracy: 0.2623 - val_auc_11: 0.5644 - val_precision_11: 0.0000e+00 - val_recall_11: 0.0000e+00 - val_f1_score: 0.1816 - 681ms/epoch - 85ms/step\n",
      "Epoch 15/50\n",
      "8/8 - 1s - loss: 1.3184 - accuracy: 0.2787 - auc_11: 0.6273 - precision_11: 0.3636 - recall_11: 0.0164 - f1_score: 0.2305 - val_loss: 1.3764 - val_accuracy: 0.2705 - val_auc_11: 0.5666 - val_precision_11: 0.0000e+00 - val_recall_11: 0.0000e+00 - val_f1_score: 0.1884 - 674ms/epoch - 84ms/step\n",
      "Epoch 16/50\n",
      "8/8 - 1s - loss: 1.3005 - accuracy: 0.2951 - auc_11: 0.6313 - precision_11: 0.4286 - recall_11: 0.0246 - f1_score: 0.2402 - val_loss: 1.3798 - val_accuracy: 0.2869 - val_auc_11: 0.5615 - val_precision_11: 0.0000e+00 - val_recall_11: 0.0000e+00 - val_f1_score: 0.1983 - 682ms/epoch - 85ms/step\n",
      "Epoch 17/50\n",
      "8/8 - 1s - loss: 1.2891 - accuracy: 0.3033 - auc_11: 0.6337 - precision_11: 0.4286 - recall_11: 0.0246 - f1_score: 0.2577 - val_loss: 1.3708 - val_accuracy: 0.3115 - val_auc_11: 0.5722 - val_precision_11: 0.0000e+00 - val_recall_11: 0.0000e+00 - val_f1_score: 0.2120 - 685ms/epoch - 86ms/step\n",
      "Epoch 18/50\n",
      "8/8 - 1s - loss: 1.2783 - accuracy: 0.3115 - auc_11: 0.6489 - precision_11: 0.4286 - recall_11: 0.0246 - f1_score: 0.2640 - val_loss: 1.3568 - val_accuracy: 0.3115 - val_auc_11: 0.5853 - val_precision_11: 0.0000e+00 - val_recall_11: 0.0000e+00 - val_f1_score: 0.2112 - 682ms/epoch - 85ms/step\n",
      "Epoch 19/50\n",
      "8/8 - 1s - loss: 1.2699 - accuracy: 0.3238 - auc_11: 0.6567 - precision_11: 0.4286 - recall_11: 0.0246 - f1_score: 0.2745 - val_loss: 1.3515 - val_accuracy: 0.3115 - val_auc_11: 0.5902 - val_precision_11: 0.0000e+00 - val_recall_11: 0.0000e+00 - val_f1_score: 0.2076 - 678ms/epoch - 85ms/step\n",
      "Epoch 20/50\n",
      "8/8 - 1s - loss: 1.2705 - accuracy: 0.3443 - auc_11: 0.6693 - precision_11: 0.4286 - recall_11: 0.0246 - f1_score: 0.2885 - val_loss: 1.3502 - val_accuracy: 0.3197 - val_auc_11: 0.5931 - val_precision_11: 0.0000e+00 - val_recall_11: 0.0000e+00 - val_f1_score: 0.2200 - 679ms/epoch - 85ms/step\n",
      "Epoch 21/50\n",
      "8/8 - 1s - loss: 1.2534 - accuracy: 0.3402 - auc_11: 0.6682 - precision_11: 0.4286 - recall_11: 0.0246 - f1_score: 0.2977 - val_loss: 1.3534 - val_accuracy: 0.3115 - val_auc_11: 0.5904 - val_precision_11: 0.0000e+00 - val_recall_11: 0.0000e+00 - val_f1_score: 0.2166 - 678ms/epoch - 85ms/step\n",
      "Epoch 22/50\n",
      "8/8 - 1s - loss: 1.2472 - accuracy: 0.3197 - auc_11: 0.6681 - precision_11: 0.4286 - recall_11: 0.0246 - f1_score: 0.2816 - val_loss: 1.3552 - val_accuracy: 0.3033 - val_auc_11: 0.5882 - val_precision_11: 0.0000e+00 - val_recall_11: 0.0000e+00 - val_f1_score: 0.2124 - 677ms/epoch - 85ms/step\n",
      "Epoch 23/50\n",
      "8/8 - 1s - loss: 1.2434 - accuracy: 0.3033 - auc_11: 0.6660 - precision_11: 0.4000 - recall_11: 0.0246 - f1_score: 0.2629 - val_loss: 1.3548 - val_accuracy: 0.2951 - val_auc_11: 0.5887 - val_precision_11: 0.0000e+00 - val_recall_11: 0.0000e+00 - val_f1_score: 0.2012 - 681ms/epoch - 85ms/step\n",
      "Epoch 24/50\n",
      "8/8 - 1s - loss: 1.2361 - accuracy: 0.3197 - auc_11: 0.6691 - precision_11: 0.4000 - recall_11: 0.0246 - f1_score: 0.2825 - val_loss: 1.3539 - val_accuracy: 0.2951 - val_auc_11: 0.5892 - val_precision_11: 0.0000e+00 - val_recall_11: 0.0000e+00 - val_f1_score: 0.2012 - 682ms/epoch - 85ms/step\n",
      "Epoch 25/50\n",
      "8/8 - 1s - loss: 1.2306 - accuracy: 0.3238 - auc_11: 0.6708 - precision_11: 0.4000 - recall_11: 0.0246 - f1_score: 0.2854 - val_loss: 1.3543 - val_accuracy: 0.2951 - val_auc_11: 0.5879 - val_precision_11: 0.0000e+00 - val_recall_11: 0.0000e+00 - val_f1_score: 0.2005 - 680ms/epoch - 85ms/step\n",
      "Epoch 26/50\n",
      "8/8 - 1s - loss: 1.2278 - accuracy: 0.3115 - auc_11: 0.6699 - precision_11: 0.4286 - recall_11: 0.0246 - f1_score: 0.2680 - val_loss: 1.3523 - val_accuracy: 0.2787 - val_auc_11: 0.5909 - val_precision_11: 0.0000e+00 - val_recall_11: 0.0000e+00 - val_f1_score: 0.1940 - 679ms/epoch - 85ms/step\n",
      "Epoch 27/50\n",
      "8/8 - 1s - loss: 1.2210 - accuracy: 0.3320 - auc_11: 0.6727 - precision_11: 0.4286 - recall_11: 0.0246 - f1_score: 0.2899 - val_loss: 1.3508 - val_accuracy: 0.2787 - val_auc_11: 0.5916 - val_precision_11: 0.0000e+00 - val_recall_11: 0.0000e+00 - val_f1_score: 0.1940 - 678ms/epoch - 85ms/step\n",
      "Epoch 28/50\n",
      "8/8 - 1s - loss: 1.2149 - accuracy: 0.3238 - auc_11: 0.6735 - precision_11: 0.4000 - recall_11: 0.0246 - f1_score: 0.2808 - val_loss: 1.3527 - val_accuracy: 0.2787 - val_auc_11: 0.5914 - val_precision_11: 0.0000e+00 - val_recall_11: 0.0000e+00 - val_f1_score: 0.1940 - 685ms/epoch - 86ms/step\n",
      "Epoch 29/50\n",
      "8/8 - 1s - loss: 1.2086 - accuracy: 0.3238 - auc_11: 0.6735 - precision_11: 0.4000 - recall_11: 0.0246 - f1_score: 0.2696 - val_loss: 1.3524 - val_accuracy: 0.2787 - val_auc_11: 0.5903 - val_precision_11: 0.0000e+00 - val_recall_11: 0.0000e+00 - val_f1_score: 0.1933 - 678ms/epoch - 85ms/step\n",
      "Epoch 30/50\n",
      "8/8 - 1s - loss: 1.2053 - accuracy: 0.3197 - auc_11: 0.6715 - precision_11: 0.4000 - recall_11: 0.0246 - f1_score: 0.2662 - val_loss: 1.3555 - val_accuracy: 0.2869 - val_auc_11: 0.5875 - val_precision_11: 0.0000e+00 - val_recall_11: 0.0000e+00 - val_f1_score: 0.1974 - 685ms/epoch - 86ms/step\n",
      "Epoch 31/50\n",
      "8/8 - 1s - loss: 1.1995 - accuracy: 0.3320 - auc_11: 0.6735 - precision_11: 0.4000 - recall_11: 0.0246 - f1_score: 0.2739 - val_loss: 1.3536 - val_accuracy: 0.2869 - val_auc_11: 0.5895 - val_precision_11: 0.0000e+00 - val_recall_11: 0.0000e+00 - val_f1_score: 0.1974 - 676ms/epoch - 85ms/step\n",
      "Epoch 32/50\n",
      "8/8 - 1s - loss: 1.1945 - accuracy: 0.3156 - auc_11: 0.6754 - precision_11: 0.4000 - recall_11: 0.0246 - f1_score: 0.2640 - val_loss: 1.3523 - val_accuracy: 0.2869 - val_auc_11: 0.5905 - val_precision_11: 0.0000e+00 - val_recall_11: 0.0000e+00 - val_f1_score: 0.1980 - 683ms/epoch - 85ms/step\n",
      "Epoch 33/50\n",
      "8/8 - 1s - loss: 1.1894 - accuracy: 0.3197 - auc_11: 0.6767 - precision_11: 0.3750 - recall_11: 0.0246 - f1_score: 0.2664 - val_loss: 1.3523 - val_accuracy: 0.3033 - val_auc_11: 0.5905 - val_precision_11: 0.0000e+00 - val_recall_11: 0.0000e+00 - val_f1_score: 0.2064 - 678ms/epoch - 85ms/step\n",
      "Epoch 34/50\n",
      "8/8 - 1s - loss: 1.1861 - accuracy: 0.3156 - auc_11: 0.6753 - precision_11: 0.3750 - recall_11: 0.0246 - f1_score: 0.2630 - val_loss: 1.3549 - val_accuracy: 0.2951 - val_auc_11: 0.5873 - val_precision_11: 0.3333 - val_recall_11: 0.0164 - val_f1_score: 0.2040 - 683ms/epoch - 85ms/step\n",
      "Epoch 35/50\n",
      "8/8 - 1s - loss: 1.1800 - accuracy: 0.3115 - auc_11: 0.6755 - precision_11: 0.5000 - recall_11: 0.0451 - f1_score: 0.2603 - val_loss: 1.3501 - val_accuracy: 0.2951 - val_auc_11: 0.5899 - val_precision_11: 0.3333 - val_recall_11: 0.0164 - val_f1_score: 0.2037 - 688ms/epoch - 86ms/step\n",
      "Epoch 36/50\n",
      "8/8 - 1s - loss: 1.1759 - accuracy: 0.3156 - auc_11: 0.6781 - precision_11: 0.5238 - recall_11: 0.0451 - f1_score: 0.2630 - val_loss: 1.3489 - val_accuracy: 0.2951 - val_auc_11: 0.5921 - val_precision_11: 0.3333 - val_recall_11: 0.0164 - val_f1_score: 0.2037 - 683ms/epoch - 85ms/step\n",
      "Epoch 37/50\n",
      "8/8 - 1s - loss: 1.1709 - accuracy: 0.3115 - auc_11: 0.6796 - precision_11: 0.5238 - recall_11: 0.0451 - f1_score: 0.2601 - val_loss: 1.3458 - val_accuracy: 0.3197 - val_auc_11: 0.5964 - val_precision_11: 0.2857 - val_recall_11: 0.0164 - val_f1_score: 0.2163 - 682ms/epoch - 85ms/step\n",
      "Epoch 38/50\n",
      "8/8 - 1s - loss: 1.1663 - accuracy: 0.3033 - auc_11: 0.6814 - precision_11: 0.5238 - recall_11: 0.0451 - f1_score: 0.2552 - val_loss: 1.3443 - val_accuracy: 0.3197 - val_auc_11: 0.5976 - val_precision_11: 0.3333 - val_recall_11: 0.0164 - val_f1_score: 0.2152 - 680ms/epoch - 85ms/step\n",
      "Epoch 39/50\n",
      "8/8 - 1s - loss: 1.1632 - accuracy: 0.3115 - auc_11: 0.6792 - precision_11: 0.5238 - recall_11: 0.0451 - f1_score: 0.2603 - val_loss: 1.3449 - val_accuracy: 0.3197 - val_auc_11: 0.5975 - val_precision_11: 0.3333 - val_recall_11: 0.0164 - val_f1_score: 0.2227 - 679ms/epoch - 85ms/step\n",
      "Epoch 40/50\n",
      "8/8 - 1s - loss: 1.1575 - accuracy: 0.3033 - auc_11: 0.6821 - precision_11: 0.5238 - recall_11: 0.0451 - f1_score: 0.2550 - val_loss: 1.3428 - val_accuracy: 0.2951 - val_auc_11: 0.5992 - val_precision_11: 0.3333 - val_recall_11: 0.0164 - val_f1_score: 0.2143 - 683ms/epoch - 85ms/step\n",
      "Epoch 41/50\n",
      "8/8 - 1s - loss: 1.1555 - accuracy: 0.2910 - auc_11: 0.6840 - precision_11: 0.5238 - recall_11: 0.0451 - f1_score: 0.2493 - val_loss: 1.3407 - val_accuracy: 0.2623 - val_auc_11: 0.6012 - val_precision_11: 0.3333 - val_recall_11: 0.0164 - val_f1_score: 0.1997 - 675ms/epoch - 84ms/step\n",
      "Epoch 42/50\n",
      "8/8 - 1s - loss: 1.1507 - accuracy: 0.2787 - auc_11: 0.6852 - precision_11: 0.5238 - recall_11: 0.0451 - f1_score: 0.2374 - val_loss: 1.3423 - val_accuracy: 0.2623 - val_auc_11: 0.5988 - val_precision_11: 0.3333 - val_recall_11: 0.0164 - val_f1_score: 0.1997 - 678ms/epoch - 85ms/step\n",
      "Epoch 43/50\n",
      "8/8 - 1s - loss: 1.1460 - accuracy: 0.2869 - auc_11: 0.6853 - precision_11: 0.5238 - recall_11: 0.0451 - f1_score: 0.2430 - val_loss: 1.3414 - val_accuracy: 0.2623 - val_auc_11: 0.6005 - val_precision_11: 0.3333 - val_recall_11: 0.0164 - val_f1_score: 0.1997 - 683ms/epoch - 85ms/step\n",
      "Epoch 44/50\n",
      "8/8 - 1s - loss: 1.1420 - accuracy: 0.2951 - auc_11: 0.6868 - precision_11: 0.5238 - recall_11: 0.0451 - f1_score: 0.2524 - val_loss: 1.3420 - val_accuracy: 0.2623 - val_auc_11: 0.5991 - val_precision_11: 0.3333 - val_recall_11: 0.0164 - val_f1_score: 0.1997 - 678ms/epoch - 85ms/step\n",
      "Epoch 45/50\n",
      "8/8 - 1s - loss: 1.1380 - accuracy: 0.2951 - auc_11: 0.6884 - precision_11: 0.5238 - recall_11: 0.0451 - f1_score: 0.2521 - val_loss: 1.3418 - val_accuracy: 0.2623 - val_auc_11: 0.5992 - val_precision_11: 0.3333 - val_recall_11: 0.0164 - val_f1_score: 0.1997 - 775ms/epoch - 97ms/step\n",
      "Epoch 46/50\n",
      "8/8 - 1s - loss: 1.1338 - accuracy: 0.3115 - auc_11: 0.6904 - precision_11: 0.5238 - recall_11: 0.0451 - f1_score: 0.2745 - val_loss: 1.3438 - val_accuracy: 0.2623 - val_auc_11: 0.5961 - val_precision_11: 0.3333 - val_recall_11: 0.0164 - val_f1_score: 0.1988 - 683ms/epoch - 85ms/step\n",
      "Epoch 47/50\n",
      "8/8 - 1s - loss: 1.1289 - accuracy: 0.3197 - auc_11: 0.6924 - precision_11: 0.5238 - recall_11: 0.0451 - f1_score: 0.2795 - val_loss: 1.3454 - val_accuracy: 0.2623 - val_auc_11: 0.5948 - val_precision_11: 0.3333 - val_recall_11: 0.0164 - val_f1_score: 0.1975 - 682ms/epoch - 85ms/step\n",
      "Epoch 48/50\n",
      "8/8 - 1s - loss: 1.1241 - accuracy: 0.3279 - auc_11: 0.6957 - precision_11: 0.5238 - recall_11: 0.0451 - f1_score: 0.2882 - val_loss: 1.3387 - val_accuracy: 0.2705 - val_auc_11: 0.5997 - val_precision_11: 0.3333 - val_recall_11: 0.0164 - val_f1_score: 0.2023 - 677ms/epoch - 85ms/step\n",
      "Epoch 49/50\n",
      "8/8 - 1s - loss: 1.1203 - accuracy: 0.3320 - auc_11: 0.6992 - precision_11: 0.5238 - recall_11: 0.0451 - f1_score: 0.2915 - val_loss: 1.3358 - val_accuracy: 0.2623 - val_auc_11: 0.6018 - val_precision_11: 0.3333 - val_recall_11: 0.0164 - val_f1_score: 0.1936 - 677ms/epoch - 85ms/step\n",
      "Epoch 50/50\n",
      "8/8 - 1s - loss: 1.1175 - accuracy: 0.3361 - auc_11: 0.6991 - precision_11: 0.5238 - recall_11: 0.0451 - f1_score: 0.2914 - val_loss: 1.3362 - val_accuracy: 0.2705 - val_auc_11: 0.6015 - val_precision_11: 0.3333 - val_recall_11: 0.0164 - val_f1_score: 0.1991 - 676ms/epoch - 85ms/step\n"
     ]
    },
    {
     "data": {
      "image/png": "[encoded data removed]",
      "text/plain": [
       "<Figure size 432x288 with 1 Axes>"
      ]
     },
     "metadata": {
      "needs_background": "light"
     },
     "output_type": "display_data"
    }
   ],
   "source": [
    "for train_index, val_index in kf.split(X):\n",
    "    X_train, X_val = X[train_index], X[val_index]\n",
    "    y_train, y_val = y[train_index], y[val_index]\n",
    "    model = Baseline(n_features, n_length, n_outputs)\n",
    "    history = model.train(X_train, y_train, X_val, y_val, epochs, batch_size, d_class_weights)\n",
    "    plt.plot(history.history['loss'])\n",
    "    plt.show()"
   ]
  },
  {
   "cell_type": "markdown",
   "metadata": {},
   "source": [
    "##### Prediction on the holdout set"
   ]
  },
  {
   "cell_type": "code",
   "execution_count": 19,
   "metadata": {},
   "outputs": [
    {
     "name": "stdout",
     "output_type": "stream",
     "text": [
      "Accuracy: 24.68% \n",
      "Balanced Accuracy: 26.42% \n",
      "ROC/AUC: 0.58 \n",
      "Precision: 0.29 \n",
      "Recall: 0.02 \n",
      "F1 score: 0.20\n"
     ]
    }
   ],
   "source": [
    "y_pred = model.predict(X_test)\n",
    "_, acc, auc, precision, recall, f1 = model.evaluate(X_test, y_test)\n",
    "results.append(round(acc, 2))\n",
    "bal_acc = balanced_accuracy_score(y_test.argmax(axis=1), y_pred.argmax(axis=1)) \n",
    "print('Accuracy: {:.2f}% \\nBalanced Accuracy: {:.2f}% \\nROC/AUC: {:.2f} \\nPrecision: {:.2f} \\nRecall: {:.2f} \\nF1 score: {:.2f}'.format(acc * 100, bal_acc * 100, auc, precision, recall, f1))"
   ]
  },
  {
   "cell_type": "markdown",
   "metadata": {},
   "source": [
    "## 4. Multimodal Late Fusion"
   ]
  },
  {
   "cell_type": "markdown",
   "metadata": {},
   "source": [
    "### Dataset"
   ]
  },
  {
   "cell_type": "code",
   "execution_count": 20,
   "metadata": {},
   "outputs": [
    {
     "name": "stdout",
     "output_type": "stream",
     "text": [
      "(366, 350, 35) (366, 4)\n",
      "(231, 350, 35) (231, 4)\n"
     ]
    }
   ],
   "source": [
    "body_X_train, body_X_test, body_y_train, body_y_test = load_dataset('skeleton', fusion=True, nopain=False)\n",
    "body_X_train = body_X_train.reshape(body_X_train.shape[0], body_X_train.shape[2], body_X_train.shape[3])\n",
    "body_X_test = body_X_test.reshape(body_X_test.shape[0], body_X_test.shape[2], body_X_test.shape[3])\n",
    "body_X = body_X_train.copy()\n",
    "body_y = body_y_train.copy()\n",
    "\n",
    "print(body_X_train.shape, body_y_train.shape)\n",
    "print(body_X_test.shape, body_y_test.shape)"
   ]
  },
  {
   "cell_type": "code",
   "execution_count": 21,
   "metadata": {},
   "outputs": [
    {
     "name": "stdout",
     "output_type": "stream",
     "text": [
      "(366, 350, 25) (366, 4)\n",
      "(231, 350, 25) (231, 4)\n"
     ]
    }
   ],
   "source": [
    "face_X_train, face_X_test, face_y_train, face_y_test = load_dataset('AUs', nopain=False)\n",
    "face_X_train = face_X_train.reshape(face_X_train.shape[0], face_X_train.shape[2], face_X_train.shape[3])\n",
    "face_X_test = face_X_test.reshape(face_X_test.shape[0], face_X_test.shape[2], face_X_test.shape[3])\n",
    "face_X = face_X_train.copy()\n",
    "face_y = face_y_train.copy()\n",
    "\n",
    "print(face_X_train.shape, face_y_train.shape)\n",
    "print(face_X_test.shape, face_y_test.shape)"
   ]
  },
  {
   "cell_type": "code",
   "execution_count": 22,
   "metadata": {},
   "outputs": [],
   "source": [
    "n_length, body_features, face_features, n_outputs = face_X_train.shape[1], body_X_train.shape[-1], face_X_train.shape[-1], body_y_train.shape[1]"
   ]
  },
  {
   "cell_type": "markdown",
   "metadata": {},
   "source": [
    "### Baseline Model"
   ]
  },
  {
   "cell_type": "code",
   "execution_count": 23,
   "metadata": {},
   "outputs": [],
   "source": [
    "class fusioned_Baseline():\n",
    "    def __init__(self, body_features, face_features, n_length, n_outputs):\n",
    "        input_1 = Input(shape=(n_length, body_features))\n",
    "        lstm_1 = LSTM(50)(input_1)\n",
    "        dense_1 = Dense(50)(lstm_1)\n",
    "\n",
    "        input_2 = Input(shape=(n_length, face_features))\n",
    "        lstm_2 = LSTM(50)(input_2)\n",
    "        dense_2 = Dense(50)(lstm_2)\n",
    "\n",
    "        concat = Concatenate()([dense_1, dense_2])\n",
    "        output = Dense(units=n_outputs, activation='softmax')(concat)\n",
    "        model = Model(inputs=[input_1, input_2], outputs=[output])\n",
    "        model.compile(loss='categorical_crossentropy', optimizer=tf.keras.optimizers.Adam(learning_rate=0.0001), metrics=['accuracy', tf.keras.metrics.AUC(), tf.keras.metrics.Precision(), tf.keras.metrics.Recall(), tfa.metrics.F1Score(num_classes=n_outputs, average='macro')])\n",
    "        self.model = model\n",
    "\n",
    "    def train(self, body_X_train, face_X_train, y_train, body_X_val, face_X_val, y_val, epochs, batch_size, class_weight):\n",
    "        history = self.model.fit([body_X_train, face_X_train], y_train, validation_data=([body_X_val, face_X_val], y_val), \n",
    "                            epochs=epochs, batch_size=batch_size, class_weight=class_weight, verbose=2)\n",
    "        return history\n",
    "\n",
    "    def evaluate(self, body_X_test, face_X_test, y_test):\n",
    "        results = self.model.evaluate([body_X_test, face_X_test], y_test, verbose=0)\n",
    "        return results\n",
    "\n",
    "    def predict(self, body_X_test, face_X_test):\n",
    "        predictions = self.model.predict([body_X_test, face_X_test])\n",
    "        return predictions\n",
    "\n",
    "    def summary(self):\n",
    "        self.model.summary()"
   ]
  },
  {
   "cell_type": "code",
   "execution_count": 24,
   "metadata": {},
   "outputs": [
    {
     "name": "stdout",
     "output_type": "stream",
     "text": [
      "Model: \"model_12\"\n",
      "__________________________________________________________________________________________________\n",
      " Layer (type)                   Output Shape         Param #     Connected to                     \n",
      "==================================================================================================\n",
      " input_13 (InputLayer)          [(None, 350, 35)]    0           []                               \n",
      "                                                                                                  \n",
      " input_14 (InputLayer)          [(None, 350, 25)]    0           []                               \n",
      "                                                                                                  \n",
      " lstm_12 (LSTM)                 (None, 50)           17200       ['input_13[0][0]']               \n",
      "                                                                                                  \n",
      " lstm_13 (LSTM)                 (None, 50)           15200       ['input_14[0][0]']               \n",
      "                                                                                                  \n",
      " dense_24 (Dense)               (None, 50)           2550        ['lstm_12[0][0]']                \n",
      "                                                                                                  \n",
      " dense_25 (Dense)               (None, 50)           2550        ['lstm_13[0][0]']                \n",
      "                                                                                                  \n",
      " concatenate (Concatenate)      (None, 100)          0           ['dense_24[0][0]',               \n",
      "                                                                  'dense_25[0][0]']               \n",
      "                                                                                                  \n",
      " dense_26 (Dense)               (None, 4)            404         ['concatenate[0][0]']            \n",
      "                                                                                                  \n",
      "==================================================================================================\n",
      "Total params: 37,904\n",
      "Trainable params: 37,904\n",
      "Non-trainable params: 0\n",
      "__________________________________________________________________________________________________\n"
     ]
    }
   ],
   "source": [
    "model = fusioned_Baseline(body_features, face_features, n_length, n_outputs)\n",
    "model.summary()"
   ]
  },
  {
   "cell_type": "markdown",
   "metadata": {},
   "source": [
    "### Baseline Model"
   ]
  },
  {
   "cell_type": "code",
   "execution_count": 25,
   "metadata": {},
   "outputs": [
    {
     "name": "stdout",
     "output_type": "stream",
     "text": [
      "Epoch 1/50\n",
      "8/8 - 4s - loss: 1.5559 - accuracy: 0.6434 - auc_13: 0.8075 - precision_13: 0.7324 - recall_13: 0.2131 - f1_score: 0.1962 - val_loss: 1.0982 - val_accuracy: 0.6066 - val_auc_13: 0.8089 - val_precision_13: 0.6111 - val_recall_13: 0.0902 - val_f1_score: 0.2067 - 4s/epoch - 537ms/step\n",
      "Epoch 2/50\n",
      "8/8 - 1s - loss: 1.5110 - accuracy: 0.6270 - auc_13: 0.8189 - precision_13: 0.7500 - recall_13: 0.1107 - f1_score: 0.2036 - val_loss: 1.1231 - val_accuracy: 0.6148 - val_auc_13: 0.8059 - val_precision_13: 0.6154 - val_recall_13: 0.0656 - val_f1_score: 0.2620 - 821ms/epoch - 103ms/step\n",
      "Epoch 3/50\n",
      "8/8 - 1s - loss: 1.4916 - accuracy: 0.6230 - auc_13: 0.8238 - precision_13: 0.8095 - recall_13: 0.0697 - f1_score: 0.2294 - val_loss: 1.1351 - val_accuracy: 0.6475 - val_auc_13: 0.8078 - val_precision_13: 1.0000 - val_recall_13: 0.0082 - val_f1_score: 0.2994 - 810ms/epoch - 101ms/step\n",
      "Epoch 4/50\n",
      "8/8 - 1s - loss: 1.4576 - accuracy: 0.6270 - auc_13: 0.8218 - precision_13: 0.7857 - recall_13: 0.0451 - f1_score: 0.2379 - val_loss: 1.1547 - val_accuracy: 0.6311 - val_auc_13: 0.8043 - val_precision_13: 1.0000 - val_recall_13: 0.0082 - val_f1_score: 0.2929 - 804ms/epoch - 101ms/step\n",
      "Epoch 5/50\n",
      "8/8 - 1s - loss: 1.4396 - accuracy: 0.6148 - auc_13: 0.8174 - precision_13: 0.8750 - recall_13: 0.0287 - f1_score: 0.2349 - val_loss: 1.1756 - val_accuracy: 0.6230 - val_auc_13: 0.7989 - val_precision_13: 0.0000e+00 - val_recall_13: 0.0000e+00 - val_f1_score: 0.3134 - 794ms/epoch - 99ms/step\n",
      "Epoch 6/50\n",
      "8/8 - 1s - loss: 1.4125 - accuracy: 0.5943 - auc_13: 0.8135 - precision_13: 1.0000 - recall_13: 0.0246 - f1_score: 0.2300 - val_loss: 1.1930 - val_accuracy: 0.5656 - val_auc_13: 0.7921 - val_precision_13: 0.0000e+00 - val_recall_13: 0.0000e+00 - val_f1_score: 0.2899 - 833ms/epoch - 104ms/step\n",
      "Epoch 7/50\n",
      "8/8 - 1s - loss: 1.3903 - accuracy: 0.5656 - auc_13: 0.8094 - precision_13: 1.0000 - recall_13: 0.0164 - f1_score: 0.2427 - val_loss: 1.2052 - val_accuracy: 0.5574 - val_auc_13: 0.7861 - val_precision_13: 0.0000e+00 - val_recall_13: 0.0000e+00 - val_f1_score: 0.3068 - 801ms/epoch - 100ms/step\n",
      "Epoch 8/50\n",
      "8/8 - 1s - loss: 1.3693 - accuracy: 0.5328 - auc_13: 0.8043 - precision_13: 1.0000 - recall_13: 0.0123 - f1_score: 0.2577 - val_loss: 1.2173 - val_accuracy: 0.5164 - val_auc_13: 0.7792 - val_precision_13: 0.0000e+00 - val_recall_13: 0.0000e+00 - val_f1_score: 0.2978 - 809ms/epoch - 101ms/step\n",
      "Epoch 9/50\n",
      "8/8 - 1s - loss: 1.3577 - accuracy: 0.5123 - auc_13: 0.7969 - precision_13: 1.0000 - recall_13: 0.0123 - f1_score: 0.2610 - val_loss: 1.2289 - val_accuracy: 0.4918 - val_auc_13: 0.7693 - val_precision_13: 0.0000e+00 - val_recall_13: 0.0000e+00 - val_f1_score: 0.2939 - 783ms/epoch - 98ms/step\n",
      "Epoch 10/50\n",
      "8/8 - 1s - loss: 1.3485 - accuracy: 0.4836 - auc_13: 0.7882 - precision_13: 1.0000 - recall_13: 0.0123 - f1_score: 0.2576 - val_loss: 1.2409 - val_accuracy: 0.4344 - val_auc_13: 0.7573 - val_precision_13: 0.0000e+00 - val_recall_13: 0.0000e+00 - val_f1_score: 0.2657 - 789ms/epoch - 99ms/step\n",
      "Epoch 11/50\n",
      "8/8 - 1s - loss: 1.3416 - accuracy: 0.4590 - auc_13: 0.7758 - precision_13: 1.0000 - recall_13: 0.0041 - f1_score: 0.2632 - val_loss: 1.2542 - val_accuracy: 0.4016 - val_auc_13: 0.7422 - val_precision_13: 0.0000e+00 - val_recall_13: 0.0000e+00 - val_f1_score: 0.2569 - 811ms/epoch - 101ms/step\n",
      "Epoch 12/50\n",
      "8/8 - 1s - loss: 1.3356 - accuracy: 0.4508 - auc_13: 0.7641 - precision_13: 1.0000 - recall_13: 0.0041 - f1_score: 0.2596 - val_loss: 1.2686 - val_accuracy: 0.3934 - val_auc_13: 0.7280 - val_precision_13: 0.0000e+00 - val_recall_13: 0.0000e+00 - val_f1_score: 0.2577 - 841ms/epoch - 105ms/step\n",
      "Epoch 13/50\n",
      "8/8 - 1s - loss: 1.3267 - accuracy: 0.4385 - auc_13: 0.7520 - precision_13: 1.0000 - recall_13: 0.0041 - f1_score: 0.2729 - val_loss: 1.2778 - val_accuracy: 0.4016 - val_auc_13: 0.7154 - val_precision_13: 0.0000e+00 - val_recall_13: 0.0000e+00 - val_f1_score: 0.2700 - 839ms/epoch - 105ms/step\n",
      "Epoch 14/50\n",
      "8/8 - 1s - loss: 1.3201 - accuracy: 0.4344 - auc_13: 0.7425 - precision_13: 1.0000 - recall_13: 0.0041 - f1_score: 0.2736 - val_loss: 1.2815 - val_accuracy: 0.3934 - val_auc_13: 0.7070 - val_precision_13: 0.0000e+00 - val_recall_13: 0.0000e+00 - val_f1_score: 0.2706 - 837ms/epoch - 105ms/step\n",
      "Epoch 15/50\n",
      "8/8 - 1s - loss: 1.3191 - accuracy: 0.4303 - auc_13: 0.7291 - precision_13: 1.0000 - recall_13: 0.0041 - f1_score: 0.2758 - val_loss: 1.2939 - val_accuracy: 0.3934 - val_auc_13: 0.6921 - val_precision_13: 0.0000e+00 - val_recall_13: 0.0000e+00 - val_f1_score: 0.2735 - 847ms/epoch - 106ms/step\n",
      "Epoch 16/50\n",
      "8/8 - 1s - loss: 1.3101 - accuracy: 0.4098 - auc_13: 0.7181 - precision_13: 1.0000 - recall_13: 0.0041 - f1_score: 0.2694 - val_loss: 1.3007 - val_accuracy: 0.4262 - val_auc_13: 0.6795 - val_precision_13: 0.0000e+00 - val_recall_13: 0.0000e+00 - val_f1_score: 0.3081 - 837ms/epoch - 105ms/step\n",
      "Epoch 17/50\n",
      "8/8 - 1s - loss: 1.3069 - accuracy: 0.4016 - auc_13: 0.7071 - precision_13: 1.0000 - recall_13: 0.0041 - f1_score: 0.2688 - val_loss: 1.3080 - val_accuracy: 0.4098 - val_auc_13: 0.6674 - val_precision_13: 0.0000e+00 - val_recall_13: 0.0000e+00 - val_f1_score: 0.3777 - 850ms/epoch - 106ms/step\n",
      "Epoch 18/50\n",
      "8/8 - 1s - loss: 1.3011 - accuracy: 0.3934 - auc_13: 0.7015 - precision_13: 1.0000 - recall_13: 0.0041 - f1_score: 0.2687 - val_loss: 1.3121 - val_accuracy: 0.4016 - val_auc_13: 0.6615 - val_precision_13: 0.0000e+00 - val_recall_13: 0.0000e+00 - val_f1_score: 0.3553 - 854ms/epoch - 107ms/step\n",
      "Epoch 19/50\n",
      "8/8 - 1s - loss: 1.2983 - accuracy: 0.3934 - auc_13: 0.6978 - precision_13: 1.0000 - recall_13: 0.0041 - f1_score: 0.2971 - val_loss: 1.3162 - val_accuracy: 0.3525 - val_auc_13: 0.6584 - val_precision_13: 0.0000e+00 - val_recall_13: 0.0000e+00 - val_f1_score: 0.2928 - 838ms/epoch - 105ms/step\n",
      "Epoch 20/50\n",
      "8/8 - 1s - loss: 1.2936 - accuracy: 0.3934 - auc_13: 0.6953 - precision_13: 1.0000 - recall_13: 0.0041 - f1_score: 0.2945 - val_loss: 1.3169 - val_accuracy: 0.3525 - val_auc_13: 0.6594 - val_precision_13: 0.0000e+00 - val_recall_13: 0.0000e+00 - val_f1_score: 0.2922 - 856ms/epoch - 107ms/step\n",
      "Epoch 21/50\n",
      "8/8 - 1s - loss: 1.2897 - accuracy: 0.3934 - auc_13: 0.6964 - precision_13: 1.0000 - recall_13: 0.0041 - f1_score: 0.2978 - val_loss: 1.3162 - val_accuracy: 0.3443 - val_auc_13: 0.6581 - val_precision_13: 0.0000e+00 - val_recall_13: 0.0000e+00 - val_f1_score: 0.2877 - 851ms/epoch - 106ms/step\n",
      "Epoch 22/50\n",
      "8/8 - 1s - loss: 1.2861 - accuracy: 0.3975 - auc_13: 0.6914 - precision_13: 1.0000 - recall_13: 0.0041 - f1_score: 0.3030 - val_loss: 1.3203 - val_accuracy: 0.3361 - val_auc_13: 0.6518 - val_precision_13: 0.0000e+00 - val_recall_13: 0.0000e+00 - val_f1_score: 0.2866 - 834ms/epoch - 104ms/step\n",
      "Epoch 23/50\n",
      "8/8 - 1s - loss: 1.2824 - accuracy: 0.3975 - auc_13: 0.6895 - precision_13: 1.0000 - recall_13: 0.0041 - f1_score: 0.3056 - val_loss: 1.3214 - val_accuracy: 0.3361 - val_auc_13: 0.6519 - val_precision_13: 0.0000e+00 - val_recall_13: 0.0000e+00 - val_f1_score: 0.2866 - 846ms/epoch - 106ms/step\n",
      "Epoch 24/50\n",
      "8/8 - 1s - loss: 1.2802 - accuracy: 0.3852 - auc_13: 0.6852 - precision_13: 1.0000 - recall_13: 0.0041 - f1_score: 0.2976 - val_loss: 1.3284 - val_accuracy: 0.3361 - val_auc_13: 0.6419 - val_precision_13: 0.0000e+00 - val_recall_13: 0.0000e+00 - val_f1_score: 0.2880 - 844ms/epoch - 106ms/step\n",
      "Epoch 25/50\n",
      "8/8 - 1s - loss: 1.2757 - accuracy: 0.3730 - auc_13: 0.6755 - precision_13: 1.0000 - recall_13: 0.0041 - f1_score: 0.3003 - val_loss: 1.3324 - val_accuracy: 0.3361 - val_auc_13: 0.6348 - val_precision_13: 0.0000e+00 - val_recall_13: 0.0000e+00 - val_f1_score: 0.2887 - 849ms/epoch - 106ms/step\n",
      "Epoch 26/50\n",
      "8/8 - 1s - loss: 1.2733 - accuracy: 0.3689 - auc_13: 0.6681 - precision_13: 1.0000 - recall_13: 0.0041 - f1_score: 0.2997 - val_loss: 1.3315 - val_accuracy: 0.3361 - val_auc_13: 0.6334 - val_precision_13: 0.0000e+00 - val_recall_13: 0.0000e+00 - val_f1_score: 0.2888 - 855ms/epoch - 107ms/step\n",
      "Epoch 27/50\n",
      "8/8 - 1s - loss: 1.2694 - accuracy: 0.3648 - auc_13: 0.6717 - precision_13: 1.0000 - recall_13: 0.0041 - f1_score: 0.2958 - val_loss: 1.3314 - val_accuracy: 0.3361 - val_auc_13: 0.6357 - val_precision_13: 0.0000e+00 - val_recall_13: 0.0000e+00 - val_f1_score: 0.2888 - 844ms/epoch - 105ms/step\n",
      "Epoch 28/50\n",
      "8/8 - 1s - loss: 1.2657 - accuracy: 0.3770 - auc_13: 0.6727 - precision_13: 1.0000 - recall_13: 0.0041 - f1_score: 0.3023 - val_loss: 1.3333 - val_accuracy: 0.3361 - val_auc_13: 0.6338 - val_precision_13: 0.0000e+00 - val_recall_13: 0.0000e+00 - val_f1_score: 0.2880 - 838ms/epoch - 105ms/step\n",
      "Epoch 29/50\n",
      "8/8 - 1s - loss: 1.2609 - accuracy: 0.3730 - auc_13: 0.6704 - precision_13: 1.0000 - recall_13: 0.0041 - f1_score: 0.3090 - val_loss: 1.3364 - val_accuracy: 0.3361 - val_auc_13: 0.6277 - val_precision_13: 0.0000e+00 - val_recall_13: 0.0000e+00 - val_f1_score: 0.2947 - 844ms/epoch - 106ms/step\n",
      "Epoch 30/50\n",
      "8/8 - 1s - loss: 1.2584 - accuracy: 0.3689 - auc_13: 0.6663 - precision_13: 1.0000 - recall_13: 0.0041 - f1_score: 0.3063 - val_loss: 1.3354 - val_accuracy: 0.3279 - val_auc_13: 0.6283 - val_precision_13: 0.0000e+00 - val_recall_13: 0.0000e+00 - val_f1_score: 0.2841 - 849ms/epoch - 106ms/step\n",
      "Epoch 31/50\n",
      "8/8 - 1s - loss: 1.2546 - accuracy: 0.3770 - auc_13: 0.6665 - precision_13: 1.0000 - recall_13: 0.0041 - f1_score: 0.3142 - val_loss: 1.3389 - val_accuracy: 0.3279 - val_auc_13: 0.6238 - val_precision_13: 0.0000e+00 - val_recall_13: 0.0000e+00 - val_f1_score: 0.2896 - 842ms/epoch - 105ms/step\n",
      "Epoch 32/50\n",
      "8/8 - 1s - loss: 1.2516 - accuracy: 0.3852 - auc_13: 0.6689 - precision_13: 1.0000 - recall_13: 0.0041 - f1_score: 0.3196 - val_loss: 1.3354 - val_accuracy: 0.3279 - val_auc_13: 0.6282 - val_precision_13: 0.0000e+00 - val_recall_13: 0.0000e+00 - val_f1_score: 0.2879 - 851ms/epoch - 106ms/step\n",
      "Epoch 33/50\n",
      "8/8 - 1s - loss: 1.2480 - accuracy: 0.3770 - auc_13: 0.6668 - precision_13: 1.0000 - recall_13: 0.0041 - f1_score: 0.3094 - val_loss: 1.3395 - val_accuracy: 0.3279 - val_auc_13: 0.6245 - val_precision_13: 0.0000e+00 - val_recall_13: 0.0000e+00 - val_f1_score: 0.2913 - 862ms/epoch - 108ms/step\n",
      "Epoch 34/50\n",
      "8/8 - 1s - loss: 1.2444 - accuracy: 0.3770 - auc_13: 0.6662 - precision_13: 0.0000e+00 - recall_13: 0.0000e+00 - f1_score: 0.3088 - val_loss: 1.3388 - val_accuracy: 0.3279 - val_auc_13: 0.6267 - val_precision_13: 0.0000e+00 - val_recall_13: 0.0000e+00 - val_f1_score: 0.2913 - 862ms/epoch - 108ms/step\n",
      "Epoch 35/50\n",
      "8/8 - 1s - loss: 1.2424 - accuracy: 0.3811 - auc_13: 0.6650 - precision_13: 0.0000e+00 - recall_13: 0.0000e+00 - f1_score: 0.3137 - val_loss: 1.3389 - val_accuracy: 0.3197 - val_auc_13: 0.6271 - val_precision_13: 0.0000e+00 - val_recall_13: 0.0000e+00 - val_f1_score: 0.2805 - 868ms/epoch - 108ms/step\n",
      "Epoch 36/50\n",
      "8/8 - 1s - loss: 1.2378 - accuracy: 0.3852 - auc_13: 0.6686 - precision_13: 0.0000e+00 - recall_13: 0.0000e+00 - f1_score: 0.3195 - val_loss: 1.3340 - val_accuracy: 0.3361 - val_auc_13: 0.6324 - val_precision_13: 0.0000e+00 - val_recall_13: 0.0000e+00 - val_f1_score: 0.2939 - 876ms/epoch - 110ms/step\n",
      "Epoch 37/50\n",
      "8/8 - 1s - loss: 1.2367 - accuracy: 0.3852 - auc_13: 0.6749 - precision_13: 0.0000e+00 - recall_13: 0.0000e+00 - f1_score: 0.3187 - val_loss: 1.3291 - val_accuracy: 0.3361 - val_auc_13: 0.6409 - val_precision_13: 0.0000e+00 - val_recall_13: 0.0000e+00 - val_f1_score: 0.2939 - 881ms/epoch - 110ms/step\n",
      "Epoch 38/50\n",
      "8/8 - 1s - loss: 1.2333 - accuracy: 0.3975 - auc_13: 0.6807 - precision_13: 0.0000e+00 - recall_13: 0.0000e+00 - f1_score: 0.3339 - val_loss: 1.3284 - val_accuracy: 0.3279 - val_auc_13: 0.6418 - val_precision_13: 0.0000e+00 - val_recall_13: 0.0000e+00 - val_f1_score: 0.2829 - 900ms/epoch - 113ms/step\n",
      "Epoch 39/50\n",
      "8/8 - 1s - loss: 1.2461 - accuracy: 0.4098 - auc_13: 0.6801 - precision_13: 0.0000e+00 - recall_13: 0.0000e+00 - f1_score: 0.3443 - val_loss: 1.3304 - val_accuracy: 0.3279 - val_auc_13: 0.6357 - val_precision_13: 0.0000e+00 - val_recall_13: 0.0000e+00 - val_f1_score: 0.2815 - 928ms/epoch - 116ms/step\n",
      "Epoch 40/50\n",
      "8/8 - 1s - loss: 1.2261 - accuracy: 0.3975 - auc_13: 0.6784 - precision_13: 0.0000e+00 - recall_13: 0.0000e+00 - f1_score: 0.3296 - val_loss: 1.3308 - val_accuracy: 0.3361 - val_auc_13: 0.6345 - val_precision_13: 0.0000e+00 - val_recall_13: 0.0000e+00 - val_f1_score: 0.2898 - 940ms/epoch - 118ms/step\n",
      "Epoch 41/50\n",
      "8/8 - 1s - loss: 1.2245 - accuracy: 0.3852 - auc_13: 0.6759 - precision_13: 0.0000e+00 - recall_13: 0.0000e+00 - f1_score: 0.3161 - val_loss: 1.3326 - val_accuracy: 0.3279 - val_auc_13: 0.6303 - val_precision_13: 0.0000e+00 - val_recall_13: 0.0000e+00 - val_f1_score: 0.2837 - 988ms/epoch - 123ms/step\n",
      "Epoch 42/50\n",
      "8/8 - 1s - loss: 1.2251 - accuracy: 0.3893 - auc_13: 0.6759 - precision_13: 0.0000e+00 - recall_13: 0.0000e+00 - f1_score: 0.3212 - val_loss: 1.3276 - val_accuracy: 0.3279 - val_auc_13: 0.6377 - val_precision_13: 0.0000e+00 - val_recall_13: 0.0000e+00 - val_f1_score: 0.2825 - 939ms/epoch - 117ms/step\n",
      "Epoch 43/50\n",
      "8/8 - 1s - loss: 1.2187 - accuracy: 0.4016 - auc_13: 0.6801 - precision_13: 0.0000e+00 - recall_13: 0.0000e+00 - f1_score: 0.3343 - val_loss: 1.3291 - val_accuracy: 0.3197 - val_auc_13: 0.6376 - val_precision_13: 0.0000e+00 - val_recall_13: 0.0000e+00 - val_f1_score: 0.2745 - 932ms/epoch - 117ms/step\n",
      "Epoch 44/50\n",
      "8/8 - 1s - loss: 1.2172 - accuracy: 0.3934 - auc_13: 0.6810 - precision_13: 0.0000e+00 - recall_13: 0.0000e+00 - f1_score: 0.3241 - val_loss: 1.3335 - val_accuracy: 0.3115 - val_auc_13: 0.6322 - val_precision_13: 0.0000e+00 - val_recall_13: 0.0000e+00 - val_f1_score: 0.2662 - 948ms/epoch - 119ms/step\n",
      "Epoch 45/50\n",
      "8/8 - 1s - loss: 1.2134 - accuracy: 0.3934 - auc_13: 0.6820 - precision_13: 0.0000e+00 - recall_13: 0.0000e+00 - f1_score: 0.3262 - val_loss: 1.3296 - val_accuracy: 0.2951 - val_auc_13: 0.6369 - val_precision_13: 0.0000e+00 - val_recall_13: 0.0000e+00 - val_f1_score: 0.2546 - 978ms/epoch - 122ms/step\n",
      "Epoch 46/50\n",
      "8/8 - 1s - loss: 1.2088 - accuracy: 0.4016 - auc_13: 0.6841 - precision_13: 0.0000e+00 - recall_13: 0.0000e+00 - f1_score: 0.3349 - val_loss: 1.3312 - val_accuracy: 0.2869 - val_auc_13: 0.6356 - val_precision_13: 0.0000e+00 - val_recall_13: 0.0000e+00 - val_f1_score: 0.2502 - 973ms/epoch - 122ms/step\n",
      "Epoch 47/50\n",
      "8/8 - 1s - loss: 1.2063 - accuracy: 0.3934 - auc_13: 0.6780 - precision_13: 0.0000e+00 - recall_13: 0.0000e+00 - f1_score: 0.3313 - val_loss: 1.3309 - val_accuracy: 0.2951 - val_auc_13: 0.6360 - val_precision_13: 0.0000e+00 - val_recall_13: 0.0000e+00 - val_f1_score: 0.2594 - 970ms/epoch - 121ms/step\n",
      "Epoch 48/50\n",
      "8/8 - 1s - loss: 1.2030 - accuracy: 0.3893 - auc_13: 0.6825 - precision_13: 0.0000e+00 - recall_13: 0.0000e+00 - f1_score: 0.3258 - val_loss: 1.3262 - val_accuracy: 0.3033 - val_auc_13: 0.6413 - val_precision_13: 0.0000e+00 - val_recall_13: 0.0000e+00 - val_f1_score: 0.2595 - 963ms/epoch - 120ms/step\n",
      "Epoch 49/50\n",
      "8/8 - 1s - loss: 1.2006 - accuracy: 0.3893 - auc_13: 0.6862 - precision_13: 0.0000e+00 - recall_13: 0.0000e+00 - f1_score: 0.3254 - val_loss: 1.3241 - val_accuracy: 0.2869 - val_auc_13: 0.6440 - val_precision_13: 0.0000e+00 - val_recall_13: 0.0000e+00 - val_f1_score: 0.2450 - 959ms/epoch - 120ms/step\n",
      "Epoch 50/50\n",
      "8/8 - 1s - loss: 1.1980 - accuracy: 0.3893 - auc_13: 0.6890 - precision_13: 0.0000e+00 - recall_13: 0.0000e+00 - f1_score: 0.3255 - val_loss: 1.3219 - val_accuracy: 0.2951 - val_auc_13: 0.6494 - val_precision_13: 0.0000e+00 - val_recall_13: 0.0000e+00 - val_f1_score: 0.2509 - 971ms/epoch - 121ms/step\n"
     ]
    },
    {
     "data": {
      "image/png": "[encoded data removed]",
      "text/plain": [
       "<Figure size 432x288 with 1 Axes>"
      ]
     },
     "metadata": {
      "needs_background": "light"
     },
     "output_type": "display_data"
    },
    {
     "name": "stdout",
     "output_type": "stream",
     "text": [
      "Epoch 1/50\n",
      "8/8 - 5s - loss: 1.4223 - accuracy: 0.1639 - auc_14: 0.3399 - precision_14: 0.0667 - recall_14: 0.0041 - f1_score: 0.1015 - val_loss: 1.8316 - val_accuracy: 0.0984 - val_auc_14: 0.3030 - val_precision_14: 0.5000 - val_recall_14: 0.0164 - val_f1_score: 0.0742 - 5s/epoch - 627ms/step\n",
      "Epoch 2/50\n",
      "8/8 - 1s - loss: 1.3495 - accuracy: 0.1844 - auc_14: 0.3494 - precision_14: 0.1111 - recall_14: 0.0041 - f1_score: 0.1100 - val_loss: 1.7080 - val_accuracy: 0.1148 - val_auc_14: 0.3115 - val_precision_14: 0.0000e+00 - val_recall_14: 0.0000e+00 - val_f1_score: 0.0962 - 890ms/epoch - 111ms/step\n",
      "Epoch 3/50\n",
      "8/8 - 1s - loss: 1.3052 - accuracy: 0.1885 - auc_14: 0.3601 - precision_14: 0.0000e+00 - recall_14: 0.0000e+00 - f1_score: 0.1249 - val_loss: 1.6112 - val_accuracy: 0.1311 - val_auc_14: 0.3391 - val_precision_14: 0.0000e+00 - val_recall_14: 0.0000e+00 - val_f1_score: 0.1117 - 881ms/epoch - 110ms/step\n",
      "Epoch 4/50\n",
      "8/8 - 1s - loss: 1.2639 - accuracy: 0.2090 - auc_14: 0.3852 - precision_14: 0.0000e+00 - recall_14: 0.0000e+00 - f1_score: 0.1645 - val_loss: 1.5403 - val_accuracy: 0.1475 - val_auc_14: 0.3773 - val_precision_14: 0.0000e+00 - val_recall_14: 0.0000e+00 - val_f1_score: 0.1424 - 872ms/epoch - 109ms/step\n",
      "Epoch 5/50\n",
      "8/8 - 1s - loss: 1.2353 - accuracy: 0.2336 - auc_14: 0.4286 - precision_14: 0.0000e+00 - recall_14: 0.0000e+00 - f1_score: 0.1975 - val_loss: 1.4943 - val_accuracy: 0.1557 - val_auc_14: 0.4162 - val_precision_14: 1.0000 - val_recall_14: 0.0082 - val_f1_score: 0.1478 - 883ms/epoch - 110ms/step\n",
      "Epoch 6/50\n",
      "8/8 - 1s - loss: 1.2186 - accuracy: 0.2377 - auc_14: 0.4547 - precision_14: 0.0000e+00 - recall_14: 0.0000e+00 - f1_score: 0.2000 - val_loss: 1.4713 - val_accuracy: 0.1475 - val_auc_14: 0.4343 - val_precision_14: 1.0000 - val_recall_14: 0.0082 - val_f1_score: 0.1350 - 873ms/epoch - 109ms/step\n",
      "Epoch 7/50\n",
      "8/8 - 1s - loss: 1.2034 - accuracy: 0.2500 - auc_14: 0.4800 - precision_14: 0.0000e+00 - recall_14: 0.0000e+00 - f1_score: 0.2106 - val_loss: 1.4423 - val_accuracy: 0.1885 - val_auc_14: 0.4689 - val_precision_14: 1.0000 - val_recall_14: 0.0082 - val_f1_score: 0.1712 - 883ms/epoch - 110ms/step\n",
      "Epoch 8/50\n",
      "8/8 - 1s - loss: 1.1915 - accuracy: 0.2541 - auc_14: 0.5137 - precision_14: 0.0000e+00 - recall_14: 0.0000e+00 - f1_score: 0.2126 - val_loss: 1.4176 - val_accuracy: 0.1885 - val_auc_14: 0.5011 - val_precision_14: 1.0000 - val_recall_14: 0.0082 - val_f1_score: 0.1705 - 884ms/epoch - 111ms/step\n",
      "Epoch 9/50\n",
      "8/8 - 1s - loss: 1.1823 - accuracy: 0.2746 - auc_14: 0.5443 - precision_14: 0.0000e+00 - recall_14: 0.0000e+00 - f1_score: 0.2347 - val_loss: 1.3973 - val_accuracy: 0.2049 - val_auc_14: 0.5277 - val_precision_14: 1.0000 - val_recall_14: 0.0164 - val_f1_score: 0.1575 - 903ms/epoch - 113ms/step\n",
      "Epoch 10/50\n",
      "8/8 - 1s - loss: 1.1740 - accuracy: 0.2787 - auc_14: 0.5707 - precision_14: 0.0000e+00 - recall_14: 0.0000e+00 - f1_score: 0.2492 - val_loss: 1.3821 - val_accuracy: 0.2213 - val_auc_14: 0.5447 - val_precision_14: 1.0000 - val_recall_14: 0.0082 - val_f1_score: 0.1655 - 914ms/epoch - 114ms/step\n",
      "Epoch 11/50\n",
      "8/8 - 1s - loss: 1.1641 - accuracy: 0.2992 - auc_14: 0.5875 - precision_14: 0.0000e+00 - recall_14: 0.0000e+00 - f1_score: 0.2716 - val_loss: 1.3837 - val_accuracy: 0.2049 - val_auc_14: 0.5449 - val_precision_14: 0.3333 - val_recall_14: 0.0082 - val_f1_score: 0.1893 - 918ms/epoch - 115ms/step\n",
      "Epoch 12/50\n",
      "8/8 - 1s - loss: 1.1814 - accuracy: 0.3115 - auc_14: 0.5916 - precision_14: 0.0000e+00 - recall_14: 0.0000e+00 - f1_score: 0.2608 - val_loss: 1.3769 - val_accuracy: 0.2213 - val_auc_14: 0.5523 - val_precision_14: 0.3333 - val_recall_14: 0.0082 - val_f1_score: 0.2005 - 936ms/epoch - 117ms/step\n",
      "Epoch 13/50\n",
      "8/8 - 1s - loss: 1.1610 - accuracy: 0.3197 - auc_14: 0.6041 - precision_14: 0.0000e+00 - recall_14: 0.0000e+00 - f1_score: 0.2818 - val_loss: 1.3616 - val_accuracy: 0.2377 - val_auc_14: 0.5701 - val_precision_14: 1.0000 - val_recall_14: 0.0082 - val_f1_score: 0.2097 - 949ms/epoch - 119ms/step\n",
      "Epoch 14/50\n",
      "8/8 - 1s - loss: 1.1605 - accuracy: 0.3402 - auc_14: 0.6178 - precision_14: 0.0000e+00 - recall_14: 0.0000e+00 - f1_score: 0.2934 - val_loss: 1.3483 - val_accuracy: 0.2541 - val_auc_14: 0.5885 - val_precision_14: 1.0000 - val_recall_14: 0.0082 - val_f1_score: 0.1894 - 952ms/epoch - 119ms/step\n",
      "Epoch 15/50\n",
      "8/8 - 1s - loss: 1.1550 - accuracy: 0.3484 - auc_14: 0.6293 - precision_14: 0.0000e+00 - recall_14: 0.0000e+00 - f1_score: 0.2986 - val_loss: 1.3475 - val_accuracy: 0.2623 - val_auc_14: 0.5899 - val_precision_14: 1.0000 - val_recall_14: 0.0082 - val_f1_score: 0.2258 - 935ms/epoch - 117ms/step\n",
      "Epoch 16/50\n",
      "8/8 - 1s - loss: 1.1527 - accuracy: 0.3566 - auc_14: 0.6356 - precision_14: 0.0000e+00 - recall_14: 0.0000e+00 - f1_score: 0.3071 - val_loss: 1.3420 - val_accuracy: 0.2541 - val_auc_14: 0.5980 - val_precision_14: 1.0000 - val_recall_14: 0.0082 - val_f1_score: 0.2204 - 931ms/epoch - 116ms/step\n",
      "Epoch 17/50\n",
      "8/8 - 1s - loss: 1.1504 - accuracy: 0.3525 - auc_14: 0.6407 - precision_14: 0.0000e+00 - recall_14: 0.0000e+00 - f1_score: 0.3048 - val_loss: 1.3407 - val_accuracy: 0.2459 - val_auc_14: 0.6006 - val_precision_14: 1.0000 - val_recall_14: 0.0082 - val_f1_score: 0.2133 - 930ms/epoch - 116ms/step\n",
      "Epoch 18/50\n",
      "8/8 - 1s - loss: 1.1473 - accuracy: 0.3566 - auc_14: 0.6473 - precision_14: 0.0000e+00 - recall_14: 0.0000e+00 - f1_score: 0.3071 - val_loss: 1.3314 - val_accuracy: 0.2787 - val_auc_14: 0.6138 - val_precision_14: 1.0000 - val_recall_14: 0.0082 - val_f1_score: 0.2027 - 927ms/epoch - 116ms/step\n",
      "Epoch 19/50\n",
      "8/8 - 1s - loss: 1.1456 - accuracy: 0.3484 - auc_14: 0.6502 - precision_14: 0.0000e+00 - recall_14: 0.0000e+00 - f1_score: 0.3016 - val_loss: 1.3343 - val_accuracy: 0.2869 - val_auc_14: 0.6079 - val_precision_14: 0.0000e+00 - val_recall_14: 0.0000e+00 - val_f1_score: 0.2433 - 945ms/epoch - 118ms/step\n",
      "Epoch 20/50\n",
      "8/8 - 1s - loss: 1.1422 - accuracy: 0.3484 - auc_14: 0.6594 - precision_14: 0.0000e+00 - recall_14: 0.0000e+00 - f1_score: 0.3020 - val_loss: 1.3224 - val_accuracy: 0.2705 - val_auc_14: 0.6235 - val_precision_14: 1.0000 - val_recall_14: 0.0082 - val_f1_score: 0.1995 - 937ms/epoch - 117ms/step\n",
      "Epoch 21/50\n",
      "8/8 - 1s - loss: 1.1399 - accuracy: 0.3525 - auc_14: 0.6628 - precision_14: 0.0000e+00 - recall_14: 0.0000e+00 - f1_score: 0.3039 - val_loss: 1.3268 - val_accuracy: 0.2705 - val_auc_14: 0.6189 - val_precision_14: 0.0000e+00 - val_recall_14: 0.0000e+00 - val_f1_score: 0.2267 - 943ms/epoch - 118ms/step\n",
      "Epoch 22/50\n",
      "8/8 - 1s - loss: 1.1354 - accuracy: 0.3566 - auc_14: 0.6645 - precision_14: 0.0000e+00 - recall_14: 0.0000e+00 - f1_score: 0.3066 - val_loss: 1.3171 - val_accuracy: 0.2787 - val_auc_14: 0.6294 - val_precision_14: 1.0000 - val_recall_14: 0.0082 - val_f1_score: 0.2033 - 953ms/epoch - 119ms/step\n",
      "Epoch 23/50\n",
      "8/8 - 1s - loss: 1.1321 - accuracy: 0.3566 - auc_14: 0.6714 - precision_14: 0.0000e+00 - recall_14: 0.0000e+00 - f1_score: 0.3082 - val_loss: 1.3164 - val_accuracy: 0.2787 - val_auc_14: 0.6269 - val_precision_14: 1.0000 - val_recall_14: 0.0082 - val_f1_score: 0.2037 - 976ms/epoch - 122ms/step\n",
      "Epoch 24/50\n",
      "8/8 - 1s - loss: 1.1265 - accuracy: 0.3525 - auc_14: 0.6773 - precision_14: 0.0000e+00 - recall_14: 0.0000e+00 - f1_score: 0.3056 - val_loss: 1.3142 - val_accuracy: 0.2705 - val_auc_14: 0.6274 - val_precision_14: 1.0000 - val_recall_14: 0.0082 - val_f1_score: 0.1975 - 967ms/epoch - 121ms/step\n",
      "Epoch 25/50\n",
      "8/8 - 1s - loss: 1.1245 - accuracy: 0.3648 - auc_14: 0.6822 - precision_14: 0.0000e+00 - recall_14: 0.0000e+00 - f1_score: 0.3149 - val_loss: 1.3094 - val_accuracy: 0.2705 - val_auc_14: 0.6309 - val_precision_14: 1.0000 - val_recall_14: 0.0082 - val_f1_score: 0.1966 - 970ms/epoch - 121ms/step\n",
      "Epoch 26/50\n",
      "8/8 - 1s - loss: 1.1213 - accuracy: 0.3607 - auc_14: 0.6918 - precision_14: 0.0000e+00 - recall_14: 0.0000e+00 - f1_score: 0.3123 - val_loss: 1.3019 - val_accuracy: 0.2787 - val_auc_14: 0.6399 - val_precision_14: 1.0000 - val_recall_14: 0.0082 - val_f1_score: 0.2022 - 972ms/epoch - 122ms/step\n",
      "Epoch 27/50\n",
      "8/8 - 1s - loss: 1.1177 - accuracy: 0.3607 - auc_14: 0.6986 - precision_14: 0.0000e+00 - recall_14: 0.0000e+00 - f1_score: 0.3118 - val_loss: 1.3000 - val_accuracy: 0.2705 - val_auc_14: 0.6406 - val_precision_14: 1.0000 - val_recall_14: 0.0082 - val_f1_score: 0.1974 - 979ms/epoch - 122ms/step\n",
      "Epoch 28/50\n",
      "8/8 - 1s - loss: 1.1162 - accuracy: 0.3525 - auc_14: 0.6959 - precision_14: 0.0000e+00 - recall_14: 0.0000e+00 - f1_score: 0.3058 - val_loss: 1.3040 - val_accuracy: 0.2377 - val_auc_14: 0.6350 - val_precision_14: 1.0000 - val_recall_14: 0.0082 - val_f1_score: 0.1784 - 976ms/epoch - 122ms/step\n",
      "Epoch 29/50\n",
      "8/8 - 1s - loss: 1.1135 - accuracy: 0.3689 - auc_14: 0.6926 - precision_14: 0.0000e+00 - recall_14: 0.0000e+00 - f1_score: 0.3164 - val_loss: 1.3039 - val_accuracy: 0.2705 - val_auc_14: 0.6347 - val_precision_14: 1.0000 - val_recall_14: 0.0082 - val_f1_score: 0.1977 - 980ms/epoch - 123ms/step\n",
      "Epoch 30/50\n",
      "8/8 - 1s - loss: 1.1105 - accuracy: 0.3648 - auc_14: 0.6985 - precision_14: 0.0000e+00 - recall_14: 0.0000e+00 - f1_score: 0.3175 - val_loss: 1.2941 - val_accuracy: 0.2869 - val_auc_14: 0.6460 - val_precision_14: 1.0000 - val_recall_14: 0.0082 - val_f1_score: 0.2059 - 972ms/epoch - 122ms/step\n",
      "Epoch 31/50\n",
      "8/8 - 1s - loss: 1.1080 - accuracy: 0.3811 - auc_14: 0.7058 - precision_14: 0.0000e+00 - recall_14: 0.0000e+00 - f1_score: 0.3300 - val_loss: 1.2925 - val_accuracy: 0.2787 - val_auc_14: 0.6481 - val_precision_14: 1.0000 - val_recall_14: 0.0082 - val_f1_score: 0.2013 - 981ms/epoch - 123ms/step\n",
      "Epoch 32/50\n",
      "8/8 - 1s - loss: 1.1057 - accuracy: 0.3770 - auc_14: 0.7062 - precision_14: 0.0000e+00 - recall_14: 0.0000e+00 - f1_score: 0.3258 - val_loss: 1.2923 - val_accuracy: 0.2787 - val_auc_14: 0.6483 - val_precision_14: 1.0000 - val_recall_14: 0.0082 - val_f1_score: 0.2021 - 981ms/epoch - 123ms/step\n",
      "Epoch 33/50\n",
      "8/8 - 1s - loss: 1.1062 - accuracy: 0.3770 - auc_14: 0.7104 - precision_14: 0.0000e+00 - recall_14: 0.0000e+00 - f1_score: 0.3280 - val_loss: 1.2857 - val_accuracy: 0.2787 - val_auc_14: 0.6521 - val_precision_14: 1.0000 - val_recall_14: 0.0082 - val_f1_score: 0.2024 - 979ms/epoch - 122ms/step\n",
      "Epoch 34/50\n",
      "8/8 - 1s - loss: 1.1029 - accuracy: 0.3770 - auc_14: 0.7072 - precision_14: 0.0000e+00 - recall_14: 0.0000e+00 - f1_score: 0.3241 - val_loss: 1.2973 - val_accuracy: 0.2623 - val_auc_14: 0.6419 - val_precision_14: 1.0000 - val_recall_14: 0.0082 - val_f1_score: 0.1913 - 976ms/epoch - 122ms/step\n",
      "Epoch 35/50\n",
      "8/8 - 1s - loss: 1.1017 - accuracy: 0.3730 - auc_14: 0.7041 - precision_14: 0.0000e+00 - recall_14: 0.0000e+00 - f1_score: 0.3189 - val_loss: 1.2952 - val_accuracy: 0.2869 - val_auc_14: 0.6446 - val_precision_14: 0.0000e+00 - val_recall_14: 0.0000e+00 - val_f1_score: 0.2349 - 973ms/epoch - 122ms/step\n",
      "Epoch 36/50\n",
      "8/8 - 1s - loss: 1.0990 - accuracy: 0.3770 - auc_14: 0.7077 - precision_14: 0.0000e+00 - recall_14: 0.0000e+00 - f1_score: 0.3219 - val_loss: 1.2927 - val_accuracy: 0.2705 - val_auc_14: 0.6468 - val_precision_14: 0.0000e+00 - val_recall_14: 0.0000e+00 - val_f1_score: 0.1959 - 966ms/epoch - 121ms/step\n",
      "Epoch 37/50\n",
      "8/8 - 1s - loss: 1.0955 - accuracy: 0.3770 - auc_14: 0.7128 - precision_14: 0.0000e+00 - recall_14: 0.0000e+00 - f1_score: 0.3236 - val_loss: 1.2893 - val_accuracy: 0.2869 - val_auc_14: 0.6493 - val_precision_14: 0.0000e+00 - val_recall_14: 0.0000e+00 - val_f1_score: 0.2071 - 988ms/epoch - 123ms/step\n",
      "Epoch 38/50\n",
      "8/8 - 1s - loss: 1.0955 - accuracy: 0.3811 - auc_14: 0.7205 - precision_14: 0.0000e+00 - recall_14: 0.0000e+00 - f1_score: 0.3320 - val_loss: 1.2804 - val_accuracy: 0.2951 - val_auc_14: 0.6591 - val_precision_14: 0.0000e+00 - val_recall_14: 0.0000e+00 - val_f1_score: 0.2111 - 967ms/epoch - 121ms/step\n",
      "Epoch 39/50\n",
      "8/8 - 1s - loss: 1.0928 - accuracy: 0.3811 - auc_14: 0.7182 - precision_14: 0.0000e+00 - recall_14: 0.0000e+00 - f1_score: 0.3322 - val_loss: 1.2857 - val_accuracy: 0.2787 - val_auc_14: 0.6535 - val_precision_14: 1.0000 - val_recall_14: 0.0082 - val_f1_score: 0.2006 - 1s/epoch - 132ms/step\n",
      "Epoch 40/50\n",
      "8/8 - 1s - loss: 1.0910 - accuracy: 0.3811 - auc_14: 0.7148 - precision_14: 0.0000e+00 - recall_14: 0.0000e+00 - f1_score: 0.3280 - val_loss: 1.2808 - val_accuracy: 0.2787 - val_auc_14: 0.6581 - val_precision_14: 1.0000 - val_recall_14: 0.0082 - val_f1_score: 0.2013 - 997ms/epoch - 125ms/step\n",
      "Epoch 41/50\n",
      "8/8 - 1s - loss: 1.0886 - accuracy: 0.3852 - auc_14: 0.7235 - precision_14: 0.0000e+00 - recall_14: 0.0000e+00 - f1_score: 0.3319 - val_loss: 1.2735 - val_accuracy: 0.2869 - val_auc_14: 0.6637 - val_precision_14: 1.0000 - val_recall_14: 0.0082 - val_f1_score: 0.2068 - 993ms/epoch - 124ms/step\n",
      "Epoch 42/50\n",
      "8/8 - 1s - loss: 1.0860 - accuracy: 0.3852 - auc_14: 0.7285 - precision_14: 0.0000e+00 - recall_14: 0.0000e+00 - f1_score: 0.3344 - val_loss: 1.2710 - val_accuracy: 0.2951 - val_auc_14: 0.6645 - val_precision_14: 1.0000 - val_recall_14: 0.0082 - val_f1_score: 0.2119 - 982ms/epoch - 123ms/step\n",
      "Epoch 43/50\n",
      "8/8 - 1s - loss: 1.0808 - accuracy: 0.3852 - auc_14: 0.7343 - precision_14: 0.0000e+00 - recall_14: 0.0000e+00 - f1_score: 0.3305 - val_loss: 1.2607 - val_accuracy: 0.2951 - val_auc_14: 0.6727 - val_precision_14: 1.0000 - val_recall_14: 0.0082 - val_f1_score: 0.2119 - 970ms/epoch - 121ms/step\n",
      "Epoch 44/50\n",
      "8/8 - 1s - loss: 1.0814 - accuracy: 0.3770 - auc_14: 0.7360 - precision_14: 0.0000e+00 - recall_14: 0.0000e+00 - f1_score: 0.3265 - val_loss: 1.2661 - val_accuracy: 0.2869 - val_auc_14: 0.6657 - val_precision_14: 1.0000 - val_recall_14: 0.0082 - val_f1_score: 0.2070 - 973ms/epoch - 122ms/step\n",
      "Epoch 45/50\n",
      "8/8 - 1s - loss: 1.0802 - accuracy: 0.3852 - auc_14: 0.7337 - precision_14: 0.0000e+00 - recall_14: 0.0000e+00 - f1_score: 0.3323 - val_loss: 1.2609 - val_accuracy: 0.3033 - val_auc_14: 0.6709 - val_precision_14: 1.0000 - val_recall_14: 0.0082 - val_f1_score: 0.2228 - 989ms/epoch - 124ms/step\n",
      "Epoch 46/50\n",
      "8/8 - 1s - loss: 1.0764 - accuracy: 0.3893 - auc_14: 0.7352 - precision_14: 1.0000 - recall_14: 0.0082 - f1_score: 0.3342 - val_loss: 1.2654 - val_accuracy: 0.2951 - val_auc_14: 0.6650 - val_precision_14: 1.0000 - val_recall_14: 0.0082 - val_f1_score: 0.2178 - 983ms/epoch - 123ms/step\n",
      "Epoch 47/50\n",
      "8/8 - 1s - loss: 1.0751 - accuracy: 0.3811 - auc_14: 0.7302 - precision_14: 1.0000 - recall_14: 0.0082 - f1_score: 0.3303 - val_loss: 1.2696 - val_accuracy: 0.2869 - val_auc_14: 0.6600 - val_precision_14: 1.0000 - val_recall_14: 0.0082 - val_f1_score: 0.2141 - 983ms/epoch - 123ms/step\n",
      "Epoch 48/50\n",
      "8/8 - 1s - loss: 1.0731 - accuracy: 0.3852 - auc_14: 0.7294 - precision_14: 0.6667 - recall_14: 0.0082 - f1_score: 0.3321 - val_loss: 1.2674 - val_accuracy: 0.2951 - val_auc_14: 0.6624 - val_precision_14: 1.0000 - val_recall_14: 0.0082 - val_f1_score: 0.2178 - 978ms/epoch - 122ms/step\n",
      "Epoch 49/50\n",
      "8/8 - 1s - loss: 1.0710 - accuracy: 0.3811 - auc_14: 0.7313 - precision_14: 0.6667 - recall_14: 0.0082 - f1_score: 0.3299 - val_loss: 1.2658 - val_accuracy: 0.2951 - val_auc_14: 0.6643 - val_precision_14: 1.0000 - val_recall_14: 0.0082 - val_f1_score: 0.2182 - 975ms/epoch - 122ms/step\n",
      "Epoch 50/50\n",
      "8/8 - 1s - loss: 1.0694 - accuracy: 0.3770 - auc_14: 0.7271 - precision_14: 1.0000 - recall_14: 0.0082 - f1_score: 0.3269 - val_loss: 1.2733 - val_accuracy: 0.2787 - val_auc_14: 0.6557 - val_precision_14: 1.0000 - val_recall_14: 0.0082 - val_f1_score: 0.2089 - 978ms/epoch - 122ms/step\n"
     ]
    },
    {
     "data": {
      "image/png": "[encoded data removed]",
      "text/plain": [
       "<Figure size 432x288 with 1 Axes>"
      ]
     },
     "metadata": {
      "needs_background": "light"
     },
     "output_type": "display_data"
    },
    {
     "name": "stdout",
     "output_type": "stream",
     "text": [
      "Epoch 1/50\n",
      "8/8 - 5s - loss: 1.6620 - accuracy: 0.0164 - auc_15: 0.1751 - precision_15: 0.0187 - recall_15: 0.0082 - f1_score: 0.0208 - val_loss: 2.0859 - val_accuracy: 0.0000e+00 - val_auc_15: 0.1873 - val_precision_15: 0.0000e+00 - val_recall_15: 0.0000e+00 - val_f1_score: 0.0000e+00 - 5s/epoch - 621ms/step\n",
      "Epoch 2/50\n",
      "8/8 - 1s - loss: 1.5919 - accuracy: 0.0328 - auc_15: 0.1832 - precision_15: 0.0263 - recall_15: 0.0041 - f1_score: 0.0512 - val_loss: 1.9759 - val_accuracy: 0.0000e+00 - val_auc_15: 0.1880 - val_precision_15: 0.0000e+00 - val_recall_15: 0.0000e+00 - val_f1_score: 0.0000e+00 - 839ms/epoch - 105ms/step\n",
      "Epoch 3/50\n",
      "8/8 - 1s - loss: 1.5405 - accuracy: 0.0369 - auc_15: 0.1922 - precision_15: 0.0000e+00 - recall_15: 0.0000e+00 - f1_score: 0.0556 - val_loss: 1.9050 - val_accuracy: 0.0000e+00 - val_auc_15: 0.1869 - val_precision_15: 0.0000e+00 - val_recall_15: 0.0000e+00 - val_f1_score: 0.0000e+00 - 840ms/epoch - 105ms/step\n",
      "Epoch 4/50\n",
      "8/8 - 1s - loss: 1.5133 - accuracy: 0.0369 - auc_15: 0.2005 - precision_15: 0.0000e+00 - recall_15: 0.0000e+00 - f1_score: 0.0516 - val_loss: 1.8382 - val_accuracy: 0.0082 - val_auc_15: 0.1856 - val_precision_15: 0.0000e+00 - val_recall_15: 0.0000e+00 - val_f1_score: 0.0263 - 837ms/epoch - 105ms/step\n",
      "Epoch 5/50\n",
      "8/8 - 1s - loss: 1.4791 - accuracy: 0.0410 - auc_15: 0.2125 - precision_15: 0.0000e+00 - recall_15: 0.0000e+00 - f1_score: 0.0544 - val_loss: 1.7860 - val_accuracy: 0.0164 - val_auc_15: 0.1907 - val_precision_15: 0.0000e+00 - val_recall_15: 0.0000e+00 - val_f1_score: 0.0354 - 885ms/epoch - 111ms/step\n",
      "Epoch 6/50\n",
      "8/8 - 1s - loss: 1.4530 - accuracy: 0.0492 - auc_15: 0.2270 - precision_15: 0.0000e+00 - recall_15: 0.0000e+00 - f1_score: 0.0638 - val_loss: 1.7386 - val_accuracy: 0.0246 - val_auc_15: 0.1971 - val_precision_15: 0.0000e+00 - val_recall_15: 0.0000e+00 - val_f1_score: 0.0489 - 854ms/epoch - 107ms/step\n",
      "Epoch 7/50\n",
      "8/8 - 1s - loss: 1.4333 - accuracy: 0.0615 - auc_15: 0.2480 - precision_15: 0.0000e+00 - recall_15: 0.0000e+00 - f1_score: 0.0797 - val_loss: 1.6976 - val_accuracy: 0.0328 - val_auc_15: 0.2049 - val_precision_15: 0.0000e+00 - val_recall_15: 0.0000e+00 - val_f1_score: 0.0556 - 836ms/epoch - 104ms/step\n",
      "Epoch 8/50\n",
      "8/8 - 1s - loss: 1.4166 - accuracy: 0.1025 - auc_15: 0.2655 - precision_15: 0.0000e+00 - recall_15: 0.0000e+00 - f1_score: 0.1234 - val_loss: 1.6528 - val_accuracy: 0.0656 - val_auc_15: 0.2185 - val_precision_15: 0.0000e+00 - val_recall_15: 0.0000e+00 - val_f1_score: 0.0919 - 852ms/epoch - 106ms/step\n",
      "Epoch 9/50\n",
      "8/8 - 1s - loss: 1.4020 - accuracy: 0.1189 - auc_15: 0.2955 - precision_15: 0.0000e+00 - recall_15: 0.0000e+00 - f1_score: 0.1320 - val_loss: 1.6100 - val_accuracy: 0.0902 - val_auc_15: 0.2351 - val_precision_15: 0.0000e+00 - val_recall_15: 0.0000e+00 - val_f1_score: 0.1017 - 855ms/epoch - 107ms/step\n",
      "Epoch 10/50\n",
      "8/8 - 1s - loss: 1.3873 - accuracy: 0.1475 - auc_15: 0.3238 - precision_15: 0.0000e+00 - recall_15: 0.0000e+00 - f1_score: 0.1522 - val_loss: 1.5856 - val_accuracy: 0.0902 - val_auc_15: 0.2456 - val_precision_15: 0.0000e+00 - val_recall_15: 0.0000e+00 - val_f1_score: 0.0967 - 863ms/epoch - 108ms/step\n",
      "Epoch 11/50\n",
      "8/8 - 1s - loss: 1.3796 - accuracy: 0.1598 - auc_15: 0.3461 - precision_15: 0.0000e+00 - recall_15: 0.0000e+00 - f1_score: 0.1626 - val_loss: 1.5635 - val_accuracy: 0.0902 - val_auc_15: 0.2576 - val_precision_15: 0.0000e+00 - val_recall_15: 0.0000e+00 - val_f1_score: 0.0967 - 873ms/epoch - 109ms/step\n",
      "Epoch 12/50\n",
      "8/8 - 1s - loss: 1.3675 - accuracy: 0.1639 - auc_15: 0.3697 - precision_15: 0.0000e+00 - recall_15: 0.0000e+00 - f1_score: 0.1640 - val_loss: 1.5497 - val_accuracy: 0.0902 - val_auc_15: 0.2733 - val_precision_15: 0.0000e+00 - val_recall_15: 0.0000e+00 - val_f1_score: 0.0924 - 875ms/epoch - 109ms/step\n",
      "Epoch 13/50\n",
      "8/8 - 1s - loss: 1.3556 - accuracy: 0.1680 - auc_15: 0.3967 - precision_15: 0.0000e+00 - recall_15: 0.0000e+00 - f1_score: 0.1666 - val_loss: 1.5334 - val_accuracy: 0.0984 - val_auc_15: 0.2901 - val_precision_15: 0.0000e+00 - val_recall_15: 0.0000e+00 - val_f1_score: 0.0978 - 867ms/epoch - 108ms/step\n",
      "Epoch 14/50\n",
      "8/8 - 1s - loss: 1.3535 - accuracy: 0.1680 - auc_15: 0.4135 - precision_15: 0.0000e+00 - recall_15: 0.0000e+00 - f1_score: 0.1666 - val_loss: 1.5205 - val_accuracy: 0.0902 - val_auc_15: 0.3048 - val_precision_15: 0.0000e+00 - val_recall_15: 0.0000e+00 - val_f1_score: 0.0891 - 890ms/epoch - 111ms/step\n",
      "Epoch 15/50\n",
      "8/8 - 1s - loss: 1.3396 - accuracy: 0.1762 - auc_15: 0.4479 - precision_15: 0.0000e+00 - recall_15: 0.0000e+00 - f1_score: 0.1728 - val_loss: 1.4957 - val_accuracy: 0.0984 - val_auc_15: 0.3473 - val_precision_15: 0.0000e+00 - val_recall_15: 0.0000e+00 - val_f1_score: 0.0955 - 896ms/epoch - 112ms/step\n",
      "Epoch 16/50\n",
      "8/8 - 1s - loss: 1.3317 - accuracy: 0.1844 - auc_15: 0.4744 - precision_15: 0.0000e+00 - recall_15: 0.0000e+00 - f1_score: 0.1804 - val_loss: 1.4912 - val_accuracy: 0.0984 - val_auc_15: 0.3520 - val_precision_15: 0.0000e+00 - val_recall_15: 0.0000e+00 - val_f1_score: 0.0959 - 896ms/epoch - 112ms/step\n",
      "Epoch 17/50\n",
      "8/8 - 1s - loss: 1.3273 - accuracy: 0.1803 - auc_15: 0.4814 - precision_15: 0.0000e+00 - recall_15: 0.0000e+00 - f1_score: 0.1768 - val_loss: 1.4905 - val_accuracy: 0.0902 - val_auc_15: 0.3585 - val_precision_15: 0.0000e+00 - val_recall_15: 0.0000e+00 - val_f1_score: 0.0883 - 928ms/epoch - 116ms/step\n",
      "Epoch 18/50\n",
      "8/8 - 1s - loss: 1.3196 - accuracy: 0.1885 - auc_15: 0.5032 - precision_15: 0.0000e+00 - recall_15: 0.0000e+00 - f1_score: 0.1840 - val_loss: 1.4756 - val_accuracy: 0.1230 - val_auc_15: 0.3925 - val_precision_15: 0.0000e+00 - val_recall_15: 0.0000e+00 - val_f1_score: 0.1108 - 922ms/epoch - 115ms/step\n",
      "Epoch 19/50\n",
      "8/8 - 1s - loss: 1.3104 - accuracy: 0.2049 - auc_15: 0.5320 - precision_15: 0.0000e+00 - recall_15: 0.0000e+00 - f1_score: 0.1953 - val_loss: 1.4609 - val_accuracy: 0.1148 - val_auc_15: 0.4239 - val_precision_15: 0.0000e+00 - val_recall_15: 0.0000e+00 - val_f1_score: 0.1033 - 945ms/epoch - 118ms/step\n",
      "Epoch 20/50\n",
      "8/8 - 1s - loss: 1.3053 - accuracy: 0.2090 - auc_15: 0.5615 - precision_15: 0.0000e+00 - recall_15: 0.0000e+00 - f1_score: 0.1997 - val_loss: 1.4441 - val_accuracy: 0.1475 - val_auc_15: 0.4607 - val_precision_15: 0.0000e+00 - val_recall_15: 0.0000e+00 - val_f1_score: 0.1260 - 936ms/epoch - 117ms/step\n",
      "Epoch 21/50\n",
      "8/8 - 1s - loss: 1.2999 - accuracy: 0.2213 - auc_15: 0.5725 - precision_15: 0.5000 - recall_15: 0.0041 - f1_score: 0.2068 - val_loss: 1.4448 - val_accuracy: 0.1639 - val_auc_15: 0.4586 - val_precision_15: 0.0000e+00 - val_recall_15: 0.0000e+00 - val_f1_score: 0.1408 - 929ms/epoch - 116ms/step\n",
      "Epoch 22/50\n",
      "8/8 - 1s - loss: 1.2940 - accuracy: 0.2172 - auc_15: 0.5870 - precision_15: 0.5000 - recall_15: 0.0041 - f1_score: 0.2038 - val_loss: 1.4283 - val_accuracy: 0.1721 - val_auc_15: 0.4888 - val_precision_15: 0.0000e+00 - val_recall_15: 0.0000e+00 - val_f1_score: 0.1429 - 939ms/epoch - 117ms/step\n",
      "Epoch 23/50\n",
      "8/8 - 1s - loss: 1.2836 - accuracy: 0.2541 - auc_15: 0.6207 - precision_15: 0.0000e+00 - recall_15: 0.0000e+00 - f1_score: 0.2345 - val_loss: 1.4131 - val_accuracy: 0.2049 - val_auc_15: 0.5161 - val_precision_15: 0.0000e+00 - val_recall_15: 0.0000e+00 - val_f1_score: 0.1639 - 931ms/epoch - 116ms/step\n",
      "Epoch 24/50\n",
      "8/8 - 1s - loss: 1.2710 - accuracy: 0.2869 - auc_15: 0.6413 - precision_15: 0.0000e+00 - recall_15: 0.0000e+00 - f1_score: 0.2631 - val_loss: 1.3989 - val_accuracy: 0.2295 - val_auc_15: 0.5410 - val_precision_15: 0.0000e+00 - val_recall_15: 0.0000e+00 - val_f1_score: 0.1737 - 925ms/epoch - 116ms/step\n",
      "Epoch 25/50\n",
      "8/8 - 1s - loss: 1.2990 - accuracy: 0.2787 - auc_15: 0.6575 - precision_15: 0.0000e+00 - recall_15: 0.0000e+00 - f1_score: 0.2483 - val_loss: 1.3881 - val_accuracy: 0.2295 - val_auc_15: 0.5562 - val_precision_15: 0.0000e+00 - val_recall_15: 0.0000e+00 - val_f1_score: 0.1740 - 941ms/epoch - 118ms/step\n",
      "Epoch 26/50\n",
      "8/8 - 1s - loss: 1.2924 - accuracy: 0.2910 - auc_15: 0.6581 - precision_15: 1.0000 - recall_15: 0.0041 - f1_score: 0.2599 - val_loss: 1.3909 - val_accuracy: 0.2131 - val_auc_15: 0.5517 - val_precision_15: 0.0000e+00 - val_recall_15: 0.0000e+00 - val_f1_score: 0.1656 - 918ms/epoch - 115ms/step\n",
      "Epoch 27/50\n",
      "8/8 - 1s - loss: 1.2820 - accuracy: 0.2869 - auc_15: 0.6589 - precision_15: 0.0000e+00 - recall_15: 0.0000e+00 - f1_score: 0.2549 - val_loss: 1.3883 - val_accuracy: 0.1967 - val_auc_15: 0.5574 - val_precision_15: 0.0000e+00 - val_recall_15: 0.0000e+00 - val_f1_score: 0.1482 - 939ms/epoch - 117ms/step\n",
      "Epoch 28/50\n",
      "8/8 - 1s - loss: 1.2864 - accuracy: 0.2869 - auc_15: 0.6648 - precision_15: 0.0000e+00 - recall_15: 0.0000e+00 - f1_score: 0.2501 - val_loss: 1.4055 - val_accuracy: 0.1721 - val_auc_15: 0.5277 - val_precision_15: 0.0000e+00 - val_recall_15: 0.0000e+00 - val_f1_score: 0.1369 - 964ms/epoch - 120ms/step\n",
      "Epoch 29/50\n",
      "8/8 - 1s - loss: 1.2773 - accuracy: 0.2664 - auc_15: 0.6468 - precision_15: 0.0000e+00 - recall_15: 0.0000e+00 - f1_score: 0.2365 - val_loss: 1.4077 - val_accuracy: 0.1803 - val_auc_15: 0.5267 - val_precision_15: 0.0000e+00 - val_recall_15: 0.0000e+00 - val_f1_score: 0.1509 - 979ms/epoch - 122ms/step\n",
      "Epoch 30/50\n",
      "8/8 - 1s - loss: 1.2766 - accuracy: 0.2582 - auc_15: 0.6442 - precision_15: 0.0000e+00 - recall_15: 0.0000e+00 - f1_score: 0.2313 - val_loss: 1.4086 - val_accuracy: 0.1885 - val_auc_15: 0.5260 - val_precision_15: 0.0000e+00 - val_recall_15: 0.0000e+00 - val_f1_score: 0.1522 - 984ms/epoch - 123ms/step\n",
      "Epoch 31/50\n",
      "8/8 - 1s - loss: 1.2737 - accuracy: 0.2664 - auc_15: 0.6473 - precision_15: 0.0000e+00 - recall_15: 0.0000e+00 - f1_score: 0.2395 - val_loss: 1.4021 - val_accuracy: 0.1885 - val_auc_15: 0.5330 - val_precision_15: 0.0000e+00 - val_recall_15: 0.0000e+00 - val_f1_score: 0.1535 - 972ms/epoch - 122ms/step\n",
      "Epoch 32/50\n",
      "8/8 - 1s - loss: 1.2674 - accuracy: 0.2787 - auc_15: 0.6497 - precision_15: 0.0000e+00 - recall_15: 0.0000e+00 - f1_score: 0.2489 - val_loss: 1.4024 - val_accuracy: 0.1885 - val_auc_15: 0.5348 - val_precision_15: 0.0000e+00 - val_recall_15: 0.0000e+00 - val_f1_score: 0.1550 - 976ms/epoch - 122ms/step\n",
      "Epoch 33/50\n",
      "8/8 - 1s - loss: 1.2634 - accuracy: 0.2664 - auc_15: 0.6484 - precision_15: 0.0000e+00 - recall_15: 0.0000e+00 - f1_score: 0.2395 - val_loss: 1.4078 - val_accuracy: 0.1885 - val_auc_15: 0.5313 - val_precision_15: 0.0000e+00 - val_recall_15: 0.0000e+00 - val_f1_score: 0.1574 - 969ms/epoch - 121ms/step\n",
      "Epoch 34/50\n",
      "8/8 - 1s - loss: 1.2595 - accuracy: 0.2664 - auc_15: 0.6517 - precision_15: 0.0000e+00 - recall_15: 0.0000e+00 - f1_score: 0.2408 - val_loss: 1.4019 - val_accuracy: 0.2049 - val_auc_15: 0.5397 - val_precision_15: 0.0000e+00 - val_recall_15: 0.0000e+00 - val_f1_score: 0.1678 - 962ms/epoch - 120ms/step\n",
      "Epoch 35/50\n",
      "8/8 - 1s - loss: 1.2550 - accuracy: 0.2787 - auc_15: 0.6573 - precision_15: 0.0000e+00 - recall_15: 0.0000e+00 - f1_score: 0.2515 - val_loss: 1.3986 - val_accuracy: 0.2131 - val_auc_15: 0.5441 - val_precision_15: 0.0000e+00 - val_recall_15: 0.0000e+00 - val_f1_score: 0.1693 - 970ms/epoch - 121ms/step\n",
      "Epoch 36/50\n",
      "8/8 - 1s - loss: 1.2483 - accuracy: 0.2992 - auc_15: 0.6702 - precision_15: 0.0000e+00 - recall_15: 0.0000e+00 - f1_score: 0.2688 - val_loss: 1.3872 - val_accuracy: 0.1967 - val_auc_15: 0.5604 - val_precision_15: 0.0000e+00 - val_recall_15: 0.0000e+00 - val_f1_score: 0.1546 - 984ms/epoch - 123ms/step\n",
      "Epoch 37/50\n",
      "8/8 - 1s - loss: 1.2424 - accuracy: 0.2910 - auc_15: 0.6831 - precision_15: 1.0000 - recall_15: 0.0041 - f1_score: 0.2618 - val_loss: 1.3868 - val_accuracy: 0.2213 - val_auc_15: 0.5646 - val_precision_15: 0.0000e+00 - val_recall_15: 0.0000e+00 - val_f1_score: 0.1735 - 972ms/epoch - 122ms/step\n",
      "Epoch 38/50\n",
      "8/8 - 1s - loss: 1.2420 - accuracy: 0.2869 - auc_15: 0.6854 - precision_15: 1.0000 - recall_15: 0.0041 - f1_score: 0.2580 - val_loss: 1.3865 - val_accuracy: 0.2049 - val_auc_15: 0.5618 - val_precision_15: 0.0000e+00 - val_recall_15: 0.0000e+00 - val_f1_score: 0.1636 - 975ms/epoch - 122ms/step\n",
      "Epoch 39/50\n",
      "8/8 - 1s - loss: 1.2384 - accuracy: 0.2828 - auc_15: 0.6780 - precision_15: 1.0000 - recall_15: 0.0041 - f1_score: 0.2653 - val_loss: 1.3901 - val_accuracy: 0.2049 - val_auc_15: 0.5554 - val_precision_15: 0.0000e+00 - val_recall_15: 0.0000e+00 - val_f1_score: 0.1683 - 971ms/epoch - 121ms/step\n",
      "Epoch 40/50\n",
      "8/8 - 1s - loss: 1.2345 - accuracy: 0.2787 - auc_15: 0.6752 - precision_15: 1.0000 - recall_15: 0.0041 - f1_score: 0.2621 - val_loss: 1.3896 - val_accuracy: 0.1885 - val_auc_15: 0.5577 - val_precision_15: 0.0000e+00 - val_recall_15: 0.0000e+00 - val_f1_score: 0.1543 - 969ms/epoch - 121ms/step\n",
      "Epoch 41/50\n",
      "8/8 - 1s - loss: 1.2256 - accuracy: 0.2582 - auc_15: 0.6821 - precision_15: 0.6667 - recall_15: 0.0082 - f1_score: 0.2453 - val_loss: 1.3857 - val_accuracy: 0.1967 - val_auc_15: 0.5650 - val_precision_15: 0.0000e+00 - val_recall_15: 0.0000e+00 - val_f1_score: 0.1609 - 970ms/epoch - 121ms/step\n",
      "Epoch 42/50\n",
      "8/8 - 1s - loss: 1.2166 - accuracy: 0.2664 - auc_15: 0.6819 - precision_15: 1.0000 - recall_15: 0.0082 - f1_score: 0.2546 - val_loss: 1.3831 - val_accuracy: 0.2131 - val_auc_15: 0.5668 - val_precision_15: 0.0000e+00 - val_recall_15: 0.0000e+00 - val_f1_score: 0.1730 - 973ms/epoch - 122ms/step\n",
      "Epoch 43/50\n",
      "8/8 - 1s - loss: 1.2060 - accuracy: 0.2828 - auc_15: 0.6890 - precision_15: 1.0000 - recall_15: 0.0041 - f1_score: 0.2695 - val_loss: 1.3673 - val_accuracy: 0.2131 - val_auc_15: 0.5862 - val_precision_15: 0.0000e+00 - val_recall_15: 0.0000e+00 - val_f1_score: 0.1672 - 972ms/epoch - 122ms/step\n",
      "Epoch 44/50\n",
      "8/8 - 1s - loss: 1.1970 - accuracy: 0.2992 - auc_15: 0.7048 - precision_15: 0.5000 - recall_15: 0.0041 - f1_score: 0.2841 - val_loss: 1.3617 - val_accuracy: 0.2213 - val_auc_15: 0.5932 - val_precision_15: 0.0000e+00 - val_recall_15: 0.0000e+00 - val_f1_score: 0.1727 - 980ms/epoch - 122ms/step\n",
      "Epoch 45/50\n",
      "8/8 - 1s - loss: 1.1929 - accuracy: 0.2910 - auc_15: 0.7030 - precision_15: 0.5000 - recall_15: 0.0082 - f1_score: 0.2748 - val_loss: 1.3629 - val_accuracy: 0.2377 - val_auc_15: 0.5947 - val_precision_15: 0.0000e+00 - val_recall_15: 0.0000e+00 - val_f1_score: 0.1861 - 968ms/epoch - 121ms/step\n",
      "Epoch 46/50\n",
      "8/8 - 1s - loss: 1.1842 - accuracy: 0.2992 - auc_15: 0.7118 - precision_15: 0.5000 - recall_15: 0.0082 - f1_score: 0.2807 - val_loss: 1.3642 - val_accuracy: 0.2213 - val_auc_15: 0.5895 - val_precision_15: 0.0000e+00 - val_recall_15: 0.0000e+00 - val_f1_score: 0.1751 - 977ms/epoch - 122ms/step\n",
      "Epoch 47/50\n",
      "8/8 - 1s - loss: 1.1804 - accuracy: 0.2828 - auc_15: 0.7065 - precision_15: 0.5000 - recall_15: 0.0082 - f1_score: 0.2708 - val_loss: 1.3607 - val_accuracy: 0.2049 - val_auc_15: 0.5930 - val_precision_15: 0.0000e+00 - val_recall_15: 0.0000e+00 - val_f1_score: 0.1623 - 966ms/epoch - 121ms/step\n",
      "Epoch 48/50\n",
      "8/8 - 1s - loss: 1.1763 - accuracy: 0.2951 - auc_15: 0.7153 - precision_15: 0.5000 - recall_15: 0.0082 - f1_score: 0.2811 - val_loss: 1.3487 - val_accuracy: 0.2213 - val_auc_15: 0.6068 - val_precision_15: 0.0000e+00 - val_recall_15: 0.0000e+00 - val_f1_score: 0.1726 - 964ms/epoch - 121ms/step\n",
      "Epoch 49/50\n",
      "8/8 - 1s - loss: 1.1692 - accuracy: 0.3033 - auc_15: 0.7146 - precision_15: 0.5000 - recall_15: 0.0082 - f1_score: 0.2877 - val_loss: 1.3595 - val_accuracy: 0.2213 - val_auc_15: 0.5950 - val_precision_15: 0.5000 - val_recall_15: 0.0082 - val_f1_score: 0.1748 - 956ms/epoch - 119ms/step\n",
      "Epoch 50/50\n",
      "8/8 - 1s - loss: 1.1658 - accuracy: 0.2992 - auc_15: 0.7154 - precision_15: 0.5000 - recall_15: 0.0082 - f1_score: 0.2843 - val_loss: 1.3524 - val_accuracy: 0.2213 - val_auc_15: 0.6019 - val_precision_15: 0.5000 - val_recall_15: 0.0082 - val_f1_score: 0.1734 - 972ms/epoch - 121ms/step\n"
     ]
    },
    {
     "data": {
      "image/png": "[encoded data removed]",
      "text/plain": [
       "<Figure size 432x288 with 1 Axes>"
      ]
     },
     "metadata": {
      "needs_background": "light"
     },
     "output_type": "display_data"
    }
   ],
   "source": [
    "for train_index, val_index in kf.split(body_X):\n",
    "    body_X_train, body_X_val = body_X[train_index], body_X[val_index]\n",
    "    body_y_train, body_y_val = body_y[train_index], body_y[val_index]\n",
    "    face_X_train, face_X_val = face_X[train_index], face_X[val_index]\n",
    "    face_y_train, face_y_val = face_y[train_index], face_y[val_index]\n",
    "    model = fusioned_Baseline(body_features, face_features, n_length, n_outputs)\n",
    "    history = model.train(body_X_train, face_X_train, body_y_train, body_X_val, face_X_val, face_y_val, epochs, batch_size, class_weight=d_class_weights)\n",
    "    plt.plot(history.history['loss'])\n",
    "    plt.show()"
   ]
  },
  {
   "cell_type": "markdown",
   "metadata": {},
   "source": [
    "#### Prediction on the holdout set"
   ]
  },
  {
   "cell_type": "code",
   "execution_count": 26,
   "metadata": {},
   "outputs": [
    {
     "name": "stdout",
     "output_type": "stream",
     "text": [
      "Accuracy: 25.54% \n",
      "Balanced Accuracy: 25.26% \n",
      "ROC/AUC: 0.60 \n",
      "Precision: 0.00 \n",
      "Recall: 0.00 \n",
      "F1 score: 0.20\n"
     ]
    }
   ],
   "source": [
    "y_pred = model.predict(body_X_test, face_X_test)\n",
    "_, acc, auc, precision, recall, f1 = model.evaluate(body_X_test, face_X_test, body_y_test)\n",
    "results.append(round(auc, 2))\n",
    "bal_acc = balanced_accuracy_score(body_y_test.argmax(axis=1), y_pred.argmax(axis=1)) \n",
    "print('Accuracy: {:.2f}% \\nBalanced Accuracy: {:.2f}% \\nROC/AUC: {:.2f} \\nPrecision: {:.2f} \\nRecall: {:.2f} \\nF1 score: {:.2f}'.format(acc * 100, bal_acc * 100, auc, precision, recall, f1))"
   ]
  },
  {
   "cell_type": "markdown",
   "metadata": {},
   "source": [
    "### Ensemble"
   ]
  },
  {
   "cell_type": "code",
   "execution_count": 27,
   "metadata": {},
   "outputs": [],
   "source": [
    "baseline_body_member = KerasMember(name=\"Body Model\", keras_model=baseline_body_model, train_batches=(body_X_train, y_train), val_batches=(body_X_test, body_y_test))\n",
    "baseline_face_member = KerasMember(name=\"Face Model\", keras_model=baseline_face_model, train_batches=(face_X_train, face_y_train), val_batches=(face_X_test, face_y_test))"
   ]
  },
  {
   "cell_type": "code",
   "execution_count": 28,
   "metadata": {},
   "outputs": [],
   "source": [
    "dirichletEnsemble = DirichletEnsemble()\n",
    "dirichletEnsemble.add_member(baseline_body_member)\n",
    "dirichletEnsemble.add_member(baseline_face_member)\n",
    "dirichletEnsemble.fit()"
   ]
  },
  {
   "cell_type": "code",
   "execution_count": 29,
   "metadata": {},
   "outputs": [
    {
     "name": "stdout",
     "output_type": "stream",
     "text": [
      "Body Model (weight: 0.9973)\n",
      "Face Model (weight: 0.0027)\n",
      "Accuracy: 41.13% - ROC/AUC: 0.49 - Precision: 0.31 - Recall: 0.29 - F1 score: 0.29\n"
     ]
    }
   ],
   "source": [
    "e = dirichletEnsemble.describe()\n",
    "results.append(round(e, 2))"
   ]
  },
  {
   "cell_type": "markdown",
   "metadata": {},
   "source": [
    "## Results"
   ]
  },
  {
   "cell_type": "code",
   "execution_count": 30,
   "metadata": {},
   "outputs": [
    {
     "data": {
      "image/png": "[encoded data removed]",
      "text/plain": [
       "<Figure size 1008x720 with 1 Axes>"
      ]
     },
     "metadata": {
      "needs_background": "light"
     },
     "output_type": "display_data"
    }
   ],
   "source": [
    "data = {'Unimodal (Body)':results[0], 'Unimodal (Face)':results[1], 'Early Fusion':results[2],\n",
    "        'Late Fusion':results[3], 'Ensemble':results[4]}\n",
    "models = list(data.keys())\n",
    "performance = list(data.values())\n",
    "  \n",
    "fig = plt.figure(figsize = (14, 10))\n",
    " \n",
    "plt.bar(models, performance, color ='maroon',\n",
    "        width = 0.4)\n",
    " \n",
    "plt.title(\"Baseline AUC (Pain Area Classification)\")\n",
    "plt.show()"
   ]
  }
 ],
 "metadata": {
  "interpreter": {
   "hash": "225abd0b4b41c85229fb7285a24282bb8b7c5c494a1c5011beaea88d2c1fa3cf"
  },
  "kernelspec": {
   "display_name": "Python 3.9.12 ('masters-thesis-dSEc-4wZ')",
   "language": "python",
   "name": "python3"
  },
  "language_info": {
   "codemirror_mode": {
    "name": "ipython",
    "version": 3
   },
   "file_extension": ".py",
   "mimetype": "text/x-python",
   "name": "python",
   "nbconvert_exporter": "python",
   "pygments_lexer": "ipython3",
   "version": "3.9.12"
  },
  "orig_nbformat": 4
 },
 "nbformat": 4,
 "nbformat_minor": 2
}
