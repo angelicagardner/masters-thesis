{
 "cells": [
  {
   "cell_type": "markdown",
   "metadata": {},
   "source": [
    "# Baseline Results for Multiclass Classification (pain area in body)"
   ]
  },
  {
   "cell_type": "code",
   "execution_count": 1,
   "metadata": {},
   "outputs": [],
   "source": [
    "import os\n",
    "os.environ['TF_CPP_MIN_LOG_LEVEL'] = '3'\n",
    "import warnings\n",
    "warnings.filterwarnings(\"ignore\")\n",
    "\n",
    "import numpy as np\n",
    "import pandas as pd\n",
    "import matplotlib.pyplot as plt\n",
    "import tensorflow as tf\n",
    "import tensorflow_addons as tfa\n",
    "\n",
    "from sklearn.utils import compute_class_weight\n",
    "from sklearn.metrics import balanced_accuracy_score\n",
    "from sklearn.model_selection import KFold\n",
    "from tensorflow.keras.layers import Input, LSTM, Dense, Concatenate\n",
    "from tensorflow.keras import Model\n",
    "\n",
    "import sys\n",
    "module_path = os.path.abspath(os.getcwd() + '\\\\..')\n",
    "if module_path not in sys.path:\n",
    "    sys.path.append(module_path)\n",
    "from src.data.load_dataset import load_dataset, get_class_names, load_fusioned_dataset\n",
    "from src.lib.DeepStack.deepstack.base import KerasMember\n",
    "from src.lib.DeepStack.deepstack.ensemble import DirichletEnsemble"
   ]
  },
  {
   "cell_type": "code",
   "execution_count": 2,
   "metadata": {},
   "outputs": [],
   "source": [
    "epochs, batch_size = 50, 32\n",
    "kf = KFold(n_splits=3, shuffle=True, random_state=42)\n",
    "\n",
    "results = []\n",
    "\n",
    "early_stopping = tf.keras.callbacks.EarlyStopping(\n",
    "        monitor=\"val_loss\",\n",
    "        patience=10,\n",
    "        restore_best_weights=True,\n",
    "    )"
   ]
  },
  {
   "cell_type": "code",
   "execution_count": 3,
   "metadata": {},
   "outputs": [],
   "source": [
    "class Baseline():\n",
    "    def __init__(self, n_features, n_length, n_outputs):\n",
    "        input = Input(shape=(n_length, n_features))\n",
    "        lstm = LSTM(50)(input)\n",
    "        dense = Dense(50)(lstm)\n",
    "        output = Dense(units=n_outputs, activation='softmax')(dense)\n",
    "        model = Model(inputs=input, outputs=output)\n",
    "        model.compile(loss='categorical_crossentropy', optimizer=tf.keras.optimizers.Adam(learning_rate=0.0001), metrics=['accuracy', tf.keras.metrics.AUC(), tf.keras.metrics.Precision(), tf.keras.metrics.Recall(), tfa.metrics.F1Score(num_classes=n_outputs, average='macro')])\n",
    "        self.model = model\n",
    "\n",
    "    def train(self, X_train, y_train, X_val, y_val, epochs, batch_size, class_weight):\n",
    "        history = self.model.fit(X_train, y_train, validation_data=(X_val, y_val), epochs=epochs, batch_size=batch_size, class_weight=class_weight, verbose=2)\n",
    "        return history\n",
    "\n",
    "    def evaluate(self, X_test, y_test):\n",
    "        results = self.model.evaluate(X_test, y_test, verbose=0)\n",
    "        return results\n",
    "\n",
    "    def predict(self, X_test):\n",
    "        predictions = self.model.predict(X_test)\n",
    "        return predictions\n",
    "\n",
    "    def summary(self):\n",
    "        self.model.summary()"
   ]
  },
  {
   "cell_type": "markdown",
   "metadata": {},
   "source": [
    "## 1. Unimodal Body Modality (Skeleton)"
   ]
  },
  {
   "cell_type": "markdown",
   "metadata": {},
   "source": [
    "### Dataset"
   ]
  },
  {
   "cell_type": "code",
   "execution_count": 4,
   "metadata": {},
   "outputs": [
    {
     "name": "stdout",
     "output_type": "stream",
     "text": [
      "(380, 350, 35) (380, 4)\n",
      "(235, 350, 35) (235, 4)\n"
     ]
    }
   ],
   "source": [
    "X_train, X_test, y_train, y_test = load_dataset('skeleton', nopain=False)\n",
    "X_train = X_train.reshape(X_train.shape[0], X_train.shape[2], X_train.shape[3])\n",
    "X_test = X_test.reshape(X_test.shape[0], X_test.shape[2], X_test.shape[3])\n",
    "X = X_train.copy()\n",
    "y = y_train.copy()\n",
    "\n",
    "print(X_train.shape, y_train.shape)\n",
    "print(X_test.shape, y_test.shape)\n",
    "\n",
    "n_length, n_features, n_outputs = X_train.shape[1], X_train.shape[-1], y_train.shape[1]"
   ]
  },
  {
   "cell_type": "code",
   "execution_count": 5,
   "metadata": {},
   "outputs": [
    {
     "data": {
      "text/plain": [
       "Lower Body       245\n",
       "Back Region       73\n",
       "Upper Body        57\n",
       "Head and Neck      5\n",
       "dtype: int64"
      ]
     },
     "execution_count": 5,
     "metadata": {},
     "output_type": "execute_result"
    }
   ],
   "source": [
    "classes = get_class_names('skeleton', nopain=False)\n",
    "tmp = pd.DataFrame(classes)\n",
    "classes = tmp.value_counts()\n",
    "classes"
   ]
  },
  {
   "cell_type": "code",
   "execution_count": 6,
   "metadata": {},
   "outputs": [
    {
     "data": {
      "text/plain": [
       "{0: 1.3013698630136987, 1: 19.0, 2: 0.3877551020408163, 3: 1.6666666666666667}"
      ]
     },
     "execution_count": 6,
     "metadata": {},
     "output_type": "execute_result"
    }
   ],
   "source": [
    "y_integers = np.argmax(y_train, axis=1)\n",
    "class_weights = compute_class_weight(class_weight='balanced', classes=np.unique(y_integers), y=y_integers)\n",
    "d_class_weights = dict(enumerate(class_weights))\n",
    "d_class_weights"
   ]
  },
  {
   "cell_type": "code",
   "execution_count": 7,
   "metadata": {},
   "outputs": [
    {
     "name": "stdout",
     "output_type": "stream",
     "text": [
      "Model: \"model\"\n",
      "_________________________________________________________________\n",
      " Layer (type)                Output Shape              Param #   \n",
      "=================================================================\n",
      " input_1 (InputLayer)        [(None, 350, 35)]         0         \n",
      "                                                                 \n",
      " lstm (LSTM)                 (None, 50)                17200     \n",
      "                                                                 \n",
      " dense (Dense)               (None, 50)                2550      \n",
      "                                                                 \n",
      " dense_1 (Dense)             (None, 4)                 204       \n",
      "                                                                 \n",
      "=================================================================\n",
      "Total params: 19,954\n",
      "Trainable params: 19,954\n",
      "Non-trainable params: 0\n",
      "_________________________________________________________________\n"
     ]
    }
   ],
   "source": [
    "model = Baseline(n_features, n_length, n_outputs)\n",
    "model.summary()"
   ]
  },
  {
   "cell_type": "markdown",
   "metadata": {},
   "source": [
    "### Baseline Model"
   ]
  },
  {
   "cell_type": "code",
   "execution_count": 8,
   "metadata": {},
   "outputs": [
    {
     "name": "stdout",
     "output_type": "stream",
     "text": [
      "Epoch 1/50\n",
      "8/8 - 4s - loss: 1.5934 - accuracy: 0.4545 - auc_1: 0.7070 - precision_1: 0.0000e+00 - recall_1: 0.0000e+00 - f1_score: 0.2028 - val_loss: 1.2177 - val_accuracy: 0.5039 - val_auc_1: 0.7301 - val_precision_1: 0.0000e+00 - val_recall_1: 0.0000e+00 - val_f1_score: 0.2467 - 4s/epoch - 454ms/step\n",
      "Epoch 2/50\n",
      "8/8 - 1s - loss: 1.5678 - accuracy: 0.4348 - auc_1: 0.7006 - precision_1: 0.0000e+00 - recall_1: 0.0000e+00 - f1_score: 0.2187 - val_loss: 1.2246 - val_accuracy: 0.4567 - val_auc_1: 0.7199 - val_precision_1: 0.0000e+00 - val_recall_1: 0.0000e+00 - val_f1_score: 0.2342 - 679ms/epoch - 85ms/step\n",
      "Epoch 3/50\n",
      "8/8 - 1s - loss: 1.5524 - accuracy: 0.3755 - auc_1: 0.6879 - precision_1: 0.0000e+00 - recall_1: 0.0000e+00 - f1_score: 0.1981 - val_loss: 1.2333 - val_accuracy: 0.4252 - val_auc_1: 0.7123 - val_precision_1: 0.0000e+00 - val_recall_1: 0.0000e+00 - val_f1_score: 0.2221 - 686ms/epoch - 86ms/step\n",
      "Epoch 4/50\n",
      "8/8 - 1s - loss: 1.5368 - accuracy: 0.3715 - auc_1: 0.6839 - precision_1: 0.0000e+00 - recall_1: 0.0000e+00 - f1_score: 0.1983 - val_loss: 1.2397 - val_accuracy: 0.4173 - val_auc_1: 0.7091 - val_precision_1: 0.0000e+00 - val_recall_1: 0.0000e+00 - val_f1_score: 0.2197 - 797ms/epoch - 100ms/step\n",
      "Epoch 5/50\n",
      "8/8 - 1s - loss: 1.5230 - accuracy: 0.3518 - auc_1: 0.6821 - precision_1: 0.0000e+00 - recall_1: 0.0000e+00 - f1_score: 0.1891 - val_loss: 1.2465 - val_accuracy: 0.4094 - val_auc_1: 0.7113 - val_precision_1: 0.0000e+00 - val_recall_1: 0.0000e+00 - val_f1_score: 0.2181 - 706ms/epoch - 88ms/step\n",
      "Epoch 6/50\n",
      "8/8 - 1s - loss: 1.5128 - accuracy: 0.3360 - auc_1: 0.6792 - precision_1: 0.0000e+00 - recall_1: 0.0000e+00 - f1_score: 0.1843 - val_loss: 1.2623 - val_accuracy: 0.3858 - val_auc_1: 0.7010 - val_precision_1: 0.0000e+00 - val_recall_1: 0.0000e+00 - val_f1_score: 0.2072 - 702ms/epoch - 88ms/step\n",
      "Epoch 7/50\n",
      "8/8 - 1s - loss: 1.4955 - accuracy: 0.3241 - auc_1: 0.6837 - precision_1: 0.0000e+00 - recall_1: 0.0000e+00 - f1_score: 0.1797 - val_loss: 1.2763 - val_accuracy: 0.3386 - val_auc_1: 0.6890 - val_precision_1: 0.0000e+00 - val_recall_1: 0.0000e+00 - val_f1_score: 0.1845 - 711ms/epoch - 89ms/step\n",
      "Epoch 8/50\n",
      "8/8 - 1s - loss: 1.4703 - accuracy: 0.3162 - auc_1: 0.6913 - precision_1: 0.0000e+00 - recall_1: 0.0000e+00 - f1_score: 0.2124 - val_loss: 1.2863 - val_accuracy: 0.3228 - val_auc_1: 0.6679 - val_precision_1: 0.0000e+00 - val_recall_1: 0.0000e+00 - val_f1_score: 0.1973 - 694ms/epoch - 87ms/step\n",
      "Epoch 9/50\n",
      "8/8 - 1s - loss: 1.4522 - accuracy: 0.3202 - auc_1: 0.6805 - precision_1: 0.0000e+00 - recall_1: 0.0000e+00 - f1_score: 0.2413 - val_loss: 1.2948 - val_accuracy: 0.2756 - val_auc_1: 0.6538 - val_precision_1: 0.0000e+00 - val_recall_1: 0.0000e+00 - val_f1_score: 0.1942 - 765ms/epoch - 96ms/step\n",
      "Epoch 10/50\n",
      "8/8 - 1s - loss: 1.4399 - accuracy: 0.3043 - auc_1: 0.6514 - precision_1: 0.0000e+00 - recall_1: 0.0000e+00 - f1_score: 0.2366 - val_loss: 1.3054 - val_accuracy: 0.2913 - val_auc_1: 0.6375 - val_precision_1: 0.0000e+00 - val_recall_1: 0.0000e+00 - val_f1_score: 0.2200 - 673ms/epoch - 84ms/step\n",
      "Epoch 11/50\n",
      "8/8 - 1s - loss: 1.4377 - accuracy: 0.3043 - auc_1: 0.6345 - precision_1: 0.0000e+00 - recall_1: 0.0000e+00 - f1_score: 0.2350 - val_loss: 1.3084 - val_accuracy: 0.3150 - val_auc_1: 0.6376 - val_precision_1: 0.0000e+00 - val_recall_1: 0.0000e+00 - val_f1_score: 0.2381 - 788ms/epoch - 98ms/step\n",
      "Epoch 12/50\n",
      "8/8 - 1s - loss: 1.4298 - accuracy: 0.3083 - auc_1: 0.6274 - precision_1: 0.0000e+00 - recall_1: 0.0000e+00 - f1_score: 0.2302 - val_loss: 1.3183 - val_accuracy: 0.3150 - val_auc_1: 0.6197 - val_precision_1: 0.0000e+00 - val_recall_1: 0.0000e+00 - val_f1_score: 0.2359 - 697ms/epoch - 87ms/step\n",
      "Epoch 13/50\n",
      "8/8 - 1s - loss: 1.4248 - accuracy: 0.3083 - auc_1: 0.6164 - precision_1: 0.0000e+00 - recall_1: 0.0000e+00 - f1_score: 0.2284 - val_loss: 1.3249 - val_accuracy: 0.2677 - val_auc_1: 0.6071 - val_precision_1: 0.0000e+00 - val_recall_1: 0.0000e+00 - val_f1_score: 0.1971 - 671ms/epoch - 84ms/step\n",
      "Epoch 14/50\n",
      "8/8 - 1s - loss: 1.4152 - accuracy: 0.3083 - auc_1: 0.6188 - precision_1: 0.0000e+00 - recall_1: 0.0000e+00 - f1_score: 0.2232 - val_loss: 1.3254 - val_accuracy: 0.2677 - val_auc_1: 0.6049 - val_precision_1: 1.0000 - val_recall_1: 0.0079 - val_f1_score: 0.1964 - 696ms/epoch - 87ms/step\n",
      "Epoch 15/50\n",
      "8/8 - 1s - loss: 1.4092 - accuracy: 0.3004 - auc_1: 0.6215 - precision_1: 0.0000e+00 - recall_1: 0.0000e+00 - f1_score: 0.2173 - val_loss: 1.3293 - val_accuracy: 0.2756 - val_auc_1: 0.5993 - val_precision_1: 1.0000 - val_recall_1: 0.0079 - val_f1_score: 0.2024 - 663ms/epoch - 83ms/step\n",
      "Epoch 16/50\n",
      "8/8 - 1s - loss: 1.4058 - accuracy: 0.2964 - auc_1: 0.6158 - precision_1: 0.0000e+00 - recall_1: 0.0000e+00 - f1_score: 0.2162 - val_loss: 1.3407 - val_accuracy: 0.2598 - val_auc_1: 0.5849 - val_precision_1: 0.0000e+00 - val_recall_1: 0.0000e+00 - val_f1_score: 0.1896 - 656ms/epoch - 82ms/step\n",
      "Epoch 17/50\n",
      "8/8 - 1s - loss: 1.4007 - accuracy: 0.2885 - auc_1: 0.6072 - precision_1: 0.0000e+00 - recall_1: 0.0000e+00 - f1_score: 0.2084 - val_loss: 1.3466 - val_accuracy: 0.2520 - val_auc_1: 0.5739 - val_precision_1: 0.0000e+00 - val_recall_1: 0.0000e+00 - val_f1_score: 0.1812 - 661ms/epoch - 83ms/step\n",
      "Epoch 18/50\n",
      "8/8 - 1s - loss: 1.3974 - accuracy: 0.2964 - auc_1: 0.6053 - precision_1: 0.0000e+00 - recall_1: 0.0000e+00 - f1_score: 0.2135 - val_loss: 1.3471 - val_accuracy: 0.2677 - val_auc_1: 0.5771 - val_precision_1: 0.0000e+00 - val_recall_1: 0.0000e+00 - val_f1_score: 0.1976 - 651ms/epoch - 81ms/step\n",
      "Epoch 19/50\n",
      "8/8 - 1s - loss: 1.3930 - accuracy: 0.2925 - auc_1: 0.6068 - precision_1: 0.0000e+00 - recall_1: 0.0000e+00 - f1_score: 0.2812 - val_loss: 1.3489 - val_accuracy: 0.2441 - val_auc_1: 0.5732 - val_precision_1: 0.0000e+00 - val_recall_1: 0.0000e+00 - val_f1_score: 0.1819 - 654ms/epoch - 82ms/step\n",
      "Epoch 20/50\n",
      "8/8 - 1s - loss: 1.3883 - accuracy: 0.2964 - auc_1: 0.6071 - precision_1: 1.0000 - recall_1: 0.0040 - f1_score: 0.3108 - val_loss: 1.3484 - val_accuracy: 0.2520 - val_auc_1: 0.5766 - val_precision_1: 0.0000e+00 - val_recall_1: 0.0000e+00 - val_f1_score: 0.1896 - 655ms/epoch - 82ms/step\n",
      "Epoch 21/50\n",
      "8/8 - 1s - loss: 1.3844 - accuracy: 0.3004 - auc_1: 0.6070 - precision_1: 1.0000 - recall_1: 0.0040 - f1_score: 0.2856 - val_loss: 1.3502 - val_accuracy: 0.2677 - val_auc_1: 0.5734 - val_precision_1: 0.0000e+00 - val_recall_1: 0.0000e+00 - val_f1_score: 0.2037 - 669ms/epoch - 84ms/step\n",
      "Epoch 22/50\n",
      "8/8 - 1s - loss: 1.3817 - accuracy: 0.2925 - auc_1: 0.5980 - precision_1: 1.0000 - recall_1: 0.0040 - f1_score: 0.2668 - val_loss: 1.3558 - val_accuracy: 0.2441 - val_auc_1: 0.5642 - val_precision_1: 0.0000e+00 - val_recall_1: 0.0000e+00 - val_f1_score: 0.1852 - 652ms/epoch - 82ms/step\n",
      "Epoch 23/50\n",
      "8/8 - 1s - loss: 1.3773 - accuracy: 0.2885 - auc_1: 0.5970 - precision_1: 1.0000 - recall_1: 0.0040 - f1_score: 0.2700 - val_loss: 1.3545 - val_accuracy: 0.2520 - val_auc_1: 0.5708 - val_precision_1: 0.0000e+00 - val_recall_1: 0.0000e+00 - val_f1_score: 0.1941 - 719ms/epoch - 90ms/step\n",
      "Epoch 24/50\n",
      "8/8 - 1s - loss: 1.3730 - accuracy: 0.2964 - auc_1: 0.6037 - precision_1: 1.0000 - recall_1: 0.0040 - f1_score: 0.2736 - val_loss: 1.3525 - val_accuracy: 0.2677 - val_auc_1: 0.5758 - val_precision_1: 0.0000e+00 - val_recall_1: 0.0000e+00 - val_f1_score: 0.2010 - 820ms/epoch - 103ms/step\n",
      "Epoch 25/50\n",
      "8/8 - 1s - loss: 1.3695 - accuracy: 0.2846 - auc_1: 0.5980 - precision_1: 1.0000 - recall_1: 0.0040 - f1_score: 0.2587 - val_loss: 1.3618 - val_accuracy: 0.2362 - val_auc_1: 0.5552 - val_precision_1: 0.0000e+00 - val_recall_1: 0.0000e+00 - val_f1_score: 0.1809 - 689ms/epoch - 86ms/step\n",
      "Epoch 26/50\n",
      "8/8 - 1s - loss: 1.3654 - accuracy: 0.2964 - auc_1: 0.5928 - precision_1: 1.0000 - recall_1: 0.0040 - f1_score: 0.2644 - val_loss: 1.3632 - val_accuracy: 0.2598 - val_auc_1: 0.5558 - val_precision_1: 0.0000e+00 - val_recall_1: 0.0000e+00 - val_f1_score: 0.1960 - 639ms/epoch - 80ms/step\n",
      "Epoch 27/50\n",
      "8/8 - 1s - loss: 1.3627 - accuracy: 0.3123 - auc_1: 0.5951 - precision_1: 1.0000 - recall_1: 0.0040 - f1_score: 0.2740 - val_loss: 1.3599 - val_accuracy: 0.2835 - val_auc_1: 0.5646 - val_precision_1: 0.0000e+00 - val_recall_1: 0.0000e+00 - val_f1_score: 0.2083 - 632ms/epoch - 79ms/step\n",
      "Epoch 28/50\n",
      "8/8 - 1s - loss: 1.3591 - accuracy: 0.3043 - auc_1: 0.5980 - precision_1: 1.0000 - recall_1: 0.0040 - f1_score: 0.2643 - val_loss: 1.3598 - val_accuracy: 0.2677 - val_auc_1: 0.5644 - val_precision_1: 0.0000e+00 - val_recall_1: 0.0000e+00 - val_f1_score: 0.1999 - 642ms/epoch - 80ms/step\n",
      "Epoch 29/50\n",
      "8/8 - 1s - loss: 1.3549 - accuracy: 0.3004 - auc_1: 0.5975 - precision_1: 1.0000 - recall_1: 0.0040 - f1_score: 0.2619 - val_loss: 1.3597 - val_accuracy: 0.2520 - val_auc_1: 0.5640 - val_precision_1: 0.0000e+00 - val_recall_1: 0.0000e+00 - val_f1_score: 0.1979 - 646ms/epoch - 81ms/step\n",
      "Epoch 30/50\n",
      "8/8 - 1s - loss: 1.3519 - accuracy: 0.3004 - auc_1: 0.5996 - precision_1: 1.0000 - recall_1: 0.0040 - f1_score: 0.2589 - val_loss: 1.3601 - val_accuracy: 0.2835 - val_auc_1: 0.5639 - val_precision_1: 0.0000e+00 - val_recall_1: 0.0000e+00 - val_f1_score: 0.2209 - 653ms/epoch - 82ms/step\n",
      "Epoch 31/50\n",
      "8/8 - 1s - loss: 1.3492 - accuracy: 0.2964 - auc_1: 0.5989 - precision_1: 1.0000 - recall_1: 0.0040 - f1_score: 0.2547 - val_loss: 1.3646 - val_accuracy: 0.2677 - val_auc_1: 0.5578 - val_precision_1: 0.0000e+00 - val_recall_1: 0.0000e+00 - val_f1_score: 0.2063 - 685ms/epoch - 86ms/step\n",
      "Epoch 32/50\n",
      "8/8 - 1s - loss: 1.3462 - accuracy: 0.2964 - auc_1: 0.5988 - precision_1: 1.0000 - recall_1: 0.0040 - f1_score: 0.2545 - val_loss: 1.3609 - val_accuracy: 0.2598 - val_auc_1: 0.5602 - val_precision_1: 0.0000e+00 - val_recall_1: 0.0000e+00 - val_f1_score: 0.2022 - 680ms/epoch - 85ms/step\n",
      "Epoch 33/50\n",
      "8/8 - 1s - loss: 1.3422 - accuracy: 0.2885 - auc_1: 0.5941 - precision_1: 1.0000 - recall_1: 0.0040 - f1_score: 0.2492 - val_loss: 1.3659 - val_accuracy: 0.2598 - val_auc_1: 0.5532 - val_precision_1: 0.0000e+00 - val_recall_1: 0.0000e+00 - val_f1_score: 0.2034 - 665ms/epoch - 83ms/step\n",
      "Epoch 34/50\n",
      "8/8 - 1s - loss: 1.3404 - accuracy: 0.2964 - auc_1: 0.5895 - precision_1: 1.0000 - recall_1: 0.0040 - f1_score: 0.2554 - val_loss: 1.3691 - val_accuracy: 0.2441 - val_auc_1: 0.5513 - val_precision_1: 0.0000e+00 - val_recall_1: 0.0000e+00 - val_f1_score: 0.1934 - 660ms/epoch - 83ms/step\n",
      "Epoch 35/50\n",
      "8/8 - 1s - loss: 1.3356 - accuracy: 0.2925 - auc_1: 0.5883 - precision_1: 1.0000 - recall_1: 0.0040 - f1_score: 0.2577 - val_loss: 1.3706 - val_accuracy: 0.2520 - val_auc_1: 0.5447 - val_precision_1: 0.0000e+00 - val_recall_1: 0.0000e+00 - val_f1_score: 0.1972 - 676ms/epoch - 85ms/step\n",
      "Epoch 36/50\n",
      "8/8 - 1s - loss: 1.3328 - accuracy: 0.2925 - auc_1: 0.5900 - precision_1: 1.0000 - recall_1: 0.0079 - f1_score: 0.2577 - val_loss: 1.3731 - val_accuracy: 0.2520 - val_auc_1: 0.5431 - val_precision_1: 0.0000e+00 - val_recall_1: 0.0000e+00 - val_f1_score: 0.1973 - 664ms/epoch - 83ms/step\n",
      "Epoch 37/50\n",
      "8/8 - 1s - loss: 1.3300 - accuracy: 0.2806 - auc_1: 0.5899 - precision_1: 1.0000 - recall_1: 0.0079 - f1_score: 0.2488 - val_loss: 1.3651 - val_accuracy: 0.2520 - val_auc_1: 0.5535 - val_precision_1: 0.0000e+00 - val_recall_1: 0.0000e+00 - val_f1_score: 0.1994 - 670ms/epoch - 84ms/step\n",
      "Epoch 38/50\n",
      "8/8 - 1s - loss: 1.3271 - accuracy: 0.2925 - auc_1: 0.6004 - precision_1: 1.0000 - recall_1: 0.0079 - f1_score: 0.2570 - val_loss: 1.3641 - val_accuracy: 0.2598 - val_auc_1: 0.5565 - val_precision_1: 0.0000e+00 - val_recall_1: 0.0000e+00 - val_f1_score: 0.2038 - 691ms/epoch - 86ms/step\n",
      "Epoch 39/50\n",
      "8/8 - 1s - loss: 1.3237 - accuracy: 0.2964 - auc_1: 0.5975 - precision_1: 1.0000 - recall_1: 0.0040 - f1_score: 0.2568 - val_loss: 1.3730 - val_accuracy: 0.2520 - val_auc_1: 0.5485 - val_precision_1: 0.0000e+00 - val_recall_1: 0.0000e+00 - val_f1_score: 0.1994 - 663ms/epoch - 83ms/step\n",
      "Epoch 40/50\n",
      "8/8 - 1s - loss: 1.3199 - accuracy: 0.2846 - auc_1: 0.5917 - precision_1: 1.0000 - recall_1: 0.0040 - f1_score: 0.2454 - val_loss: 1.3730 - val_accuracy: 0.2520 - val_auc_1: 0.5477 - val_precision_1: 0.0000e+00 - val_recall_1: 0.0000e+00 - val_f1_score: 0.1992 - 803ms/epoch - 100ms/step\n",
      "Epoch 41/50\n",
      "8/8 - 1s - loss: 1.3170 - accuracy: 0.2767 - auc_1: 0.5906 - precision_1: 1.0000 - recall_1: 0.0040 - f1_score: 0.2436 - val_loss: 1.3779 - val_accuracy: 0.2520 - val_auc_1: 0.5397 - val_precision_1: 0.0000e+00 - val_recall_1: 0.0000e+00 - val_f1_score: 0.1994 - 863ms/epoch - 108ms/step\n",
      "Epoch 42/50\n",
      "8/8 - 1s - loss: 1.3131 - accuracy: 0.2846 - auc_1: 0.5947 - precision_1: 1.0000 - recall_1: 0.0040 - f1_score: 0.2514 - val_loss: 1.3730 - val_accuracy: 0.2520 - val_auc_1: 0.5461 - val_precision_1: 0.0000e+00 - val_recall_1: 0.0000e+00 - val_f1_score: 0.1994 - 657ms/epoch - 82ms/step\n",
      "Epoch 43/50\n",
      "8/8 - 1s - loss: 1.3098 - accuracy: 0.2885 - auc_1: 0.6024 - precision_1: 1.0000 - recall_1: 0.0040 - f1_score: 0.2539 - val_loss: 1.3662 - val_accuracy: 0.2520 - val_auc_1: 0.5566 - val_precision_1: 0.0000e+00 - val_recall_1: 0.0000e+00 - val_f1_score: 0.1994 - 650ms/epoch - 81ms/step\n",
      "Epoch 44/50\n",
      "8/8 - 1s - loss: 1.3080 - accuracy: 0.2925 - auc_1: 0.6028 - precision_1: 1.0000 - recall_1: 0.0040 - f1_score: 0.2594 - val_loss: 1.3694 - val_accuracy: 0.2520 - val_auc_1: 0.5537 - val_precision_1: 0.0000e+00 - val_recall_1: 0.0000e+00 - val_f1_score: 0.1994 - 651ms/epoch - 81ms/step\n",
      "Epoch 45/50\n",
      "8/8 - 1s - loss: 1.3044 - accuracy: 0.2925 - auc_1: 0.6012 - precision_1: 1.0000 - recall_1: 0.0040 - f1_score: 0.2598 - val_loss: 1.3718 - val_accuracy: 0.2598 - val_auc_1: 0.5525 - val_precision_1: 0.0000e+00 - val_recall_1: 0.0000e+00 - val_f1_score: 0.2039 - 646ms/epoch - 81ms/step\n",
      "Epoch 46/50\n",
      "8/8 - 1s - loss: 1.3016 - accuracy: 0.3004 - auc_1: 0.6008 - precision_1: 1.0000 - recall_1: 0.0040 - f1_score: 0.2653 - val_loss: 1.3715 - val_accuracy: 0.2520 - val_auc_1: 0.5525 - val_precision_1: 0.0000e+00 - val_recall_1: 0.0000e+00 - val_f1_score: 0.1994 - 652ms/epoch - 82ms/step\n",
      "Epoch 47/50\n",
      "8/8 - 1s - loss: 1.2992 - accuracy: 0.2964 - auc_1: 0.6055 - precision_1: 1.0000 - recall_1: 0.0040 - f1_score: 0.2615 - val_loss: 1.3670 - val_accuracy: 0.2598 - val_auc_1: 0.5592 - val_precision_1: 0.0000e+00 - val_recall_1: 0.0000e+00 - val_f1_score: 0.2044 - 653ms/epoch - 82ms/step\n",
      "Epoch 48/50\n",
      "8/8 - 1s - loss: 1.2965 - accuracy: 0.2925 - auc_1: 0.6059 - precision_1: 1.0000 - recall_1: 0.0040 - f1_score: 0.2591 - val_loss: 1.3701 - val_accuracy: 0.2520 - val_auc_1: 0.5526 - val_precision_1: 0.0000e+00 - val_recall_1: 0.0000e+00 - val_f1_score: 0.1981 - 648ms/epoch - 81ms/step\n",
      "Epoch 49/50\n",
      "8/8 - 1s - loss: 1.2928 - accuracy: 0.2885 - auc_1: 0.6025 - precision_1: 1.0000 - recall_1: 0.0040 - f1_score: 0.2567 - val_loss: 1.3755 - val_accuracy: 0.2520 - val_auc_1: 0.5477 - val_precision_1: 0.0000e+00 - val_recall_1: 0.0000e+00 - val_f1_score: 0.1999 - 657ms/epoch - 82ms/step\n",
      "Epoch 50/50\n",
      "8/8 - 1s - loss: 1.2935 - accuracy: 0.2925 - auc_1: 0.6015 - precision_1: 1.0000 - recall_1: 0.0040 - f1_score: 0.2599 - val_loss: 1.3701 - val_accuracy: 0.2598 - val_auc_1: 0.5568 - val_precision_1: 0.0000e+00 - val_recall_1: 0.0000e+00 - val_f1_score: 0.2044 - 660ms/epoch - 83ms/step\n"
     ]
    },
    {
     "data": {
      "image/png": "[encoded data removed]",
      "text/plain": [
       "<Figure size 432x288 with 1 Axes>"
      ]
     },
     "metadata": {
      "needs_background": "light"
     },
     "output_type": "display_data"
    },
    {
     "name": "stdout",
     "output_type": "stream",
     "text": [
      "Epoch 1/50\n",
      "8/8 - 3s - loss: 1.6388 - accuracy: 0.5178 - auc_2: 0.7000 - precision_2: 0.6000 - recall_2: 0.0356 - f1_score: 0.2376 - val_loss: 1.2220 - val_accuracy: 0.5433 - val_auc_2: 0.7247 - val_precision_2: 0.2500 - val_recall_2: 0.0079 - val_f1_score: 0.2830 - 3s/epoch - 332ms/step\n",
      "Epoch 2/50\n",
      "8/8 - 1s - loss: 1.6091 - accuracy: 0.5099 - auc_2: 0.7103 - precision_2: 0.5000 - recall_2: 0.0237 - f1_score: 0.2261 - val_loss: 1.2236 - val_accuracy: 0.5197 - val_auc_2: 0.7318 - val_precision_2: 0.0000e+00 - val_recall_2: 0.0000e+00 - val_f1_score: 0.2691 - 654ms/epoch - 82ms/step\n",
      "Epoch 3/50\n",
      "8/8 - 1s - loss: 1.5734 - accuracy: 0.5257 - auc_2: 0.7301 - precision_2: 0.5000 - recall_2: 0.0158 - f1_score: 0.2340 - val_loss: 1.2320 - val_accuracy: 0.4882 - val_auc_2: 0.7312 - val_precision_2: 0.0000e+00 - val_recall_2: 0.0000e+00 - val_f1_score: 0.2381 - 678ms/epoch - 85ms/step\n",
      "Epoch 4/50\n",
      "8/8 - 1s - loss: 1.5544 - accuracy: 0.5178 - auc_2: 0.7445 - precision_2: 0.3333 - recall_2: 0.0079 - f1_score: 0.2210 - val_loss: 1.2437 - val_accuracy: 0.4646 - val_auc_2: 0.7288 - val_precision_2: 0.0000e+00 - val_recall_2: 0.0000e+00 - val_f1_score: 0.2183 - 645ms/epoch - 81ms/step\n",
      "Epoch 5/50\n",
      "8/8 - 1s - loss: 1.5388 - accuracy: 0.5336 - auc_2: 0.7549 - precision_2: 0.3333 - recall_2: 0.0079 - f1_score: 0.2205 - val_loss: 1.2510 - val_accuracy: 0.4803 - val_auc_2: 0.7262 - val_precision_2: 0.0000e+00 - val_recall_2: 0.0000e+00 - val_f1_score: 0.2297 - 650ms/epoch - 81ms/step\n",
      "Epoch 6/50\n",
      "8/8 - 1s - loss: 1.5245 - accuracy: 0.5375 - auc_2: 0.7629 - precision_2: 0.4000 - recall_2: 0.0079 - f1_score: 0.2353 - val_loss: 1.2595 - val_accuracy: 0.4646 - val_auc_2: 0.7228 - val_precision_2: 0.0000e+00 - val_recall_2: 0.0000e+00 - val_f1_score: 0.2254 - 659ms/epoch - 82ms/step\n",
      "Epoch 7/50\n",
      "8/8 - 1s - loss: 1.5098 - accuracy: 0.5375 - auc_2: 0.7689 - precision_2: 0.0000e+00 - recall_2: 0.0000e+00 - f1_score: 0.2402 - val_loss: 1.2585 - val_accuracy: 0.4803 - val_auc_2: 0.7257 - val_precision_2: 0.0000e+00 - val_recall_2: 0.0000e+00 - val_f1_score: 0.2577 - 647ms/epoch - 81ms/step\n",
      "Epoch 8/50\n",
      "8/8 - 1s - loss: 1.4997 - accuracy: 0.5415 - auc_2: 0.7714 - precision_2: 0.0000e+00 - recall_2: 0.0000e+00 - f1_score: 0.2487 - val_loss: 1.2629 - val_accuracy: 0.4567 - val_auc_2: 0.7246 - val_precision_2: 0.0000e+00 - val_recall_2: 0.0000e+00 - val_f1_score: 0.2429 - 662ms/epoch - 83ms/step\n",
      "Epoch 9/50\n",
      "8/8 - 1s - loss: 1.4877 - accuracy: 0.5217 - auc_2: 0.7731 - precision_2: 0.5000 - recall_2: 0.0040 - f1_score: 0.2374 - val_loss: 1.2712 - val_accuracy: 0.4567 - val_auc_2: 0.7192 - val_precision_2: 0.0000e+00 - val_recall_2: 0.0000e+00 - val_f1_score: 0.2566 - 653ms/epoch - 82ms/step\n",
      "Epoch 10/50\n",
      "8/8 - 1s - loss: 1.4791 - accuracy: 0.5138 - auc_2: 0.7741 - precision_2: 0.5000 - recall_2: 0.0040 - f1_score: 0.2408 - val_loss: 1.2769 - val_accuracy: 0.4567 - val_auc_2: 0.7171 - val_precision_2: 0.0000e+00 - val_recall_2: 0.0000e+00 - val_f1_score: 0.2579 - 657ms/epoch - 82ms/step\n",
      "Epoch 11/50\n",
      "8/8 - 1s - loss: 1.4668 - accuracy: 0.5138 - auc_2: 0.7733 - precision_2: 0.5000 - recall_2: 0.0040 - f1_score: 0.2404 - val_loss: 1.2809 - val_accuracy: 0.4646 - val_auc_2: 0.7112 - val_precision_2: 0.0000e+00 - val_recall_2: 0.0000e+00 - val_f1_score: 0.2646 - 660ms/epoch - 83ms/step\n",
      "Epoch 12/50\n",
      "8/8 - 1s - loss: 1.4553 - accuracy: 0.5138 - auc_2: 0.7713 - precision_2: 1.0000 - recall_2: 0.0040 - f1_score: 0.2464 - val_loss: 1.2864 - val_accuracy: 0.4646 - val_auc_2: 0.7051 - val_precision_2: 0.0000e+00 - val_recall_2: 0.0000e+00 - val_f1_score: 0.2649 - 656ms/epoch - 82ms/step\n",
      "Epoch 13/50\n",
      "8/8 - 1s - loss: 1.4457 - accuracy: 0.5138 - auc_2: 0.7686 - precision_2: 1.0000 - recall_2: 0.0040 - f1_score: 0.2464 - val_loss: 1.2913 - val_accuracy: 0.4646 - val_auc_2: 0.7010 - val_precision_2: 0.0000e+00 - val_recall_2: 0.0000e+00 - val_f1_score: 0.2649 - 651ms/epoch - 81ms/step\n",
      "Epoch 14/50\n",
      "8/8 - 1s - loss: 1.4393 - accuracy: 0.5099 - auc_2: 0.7647 - precision_2: 1.0000 - recall_2: 0.0040 - f1_score: 0.2448 - val_loss: 1.2949 - val_accuracy: 0.4646 - val_auc_2: 0.6966 - val_precision_2: 0.0000e+00 - val_recall_2: 0.0000e+00 - val_f1_score: 0.2649 - 659ms/epoch - 82ms/step\n",
      "Epoch 15/50\n",
      "8/8 - 1s - loss: 1.4330 - accuracy: 0.5099 - auc_2: 0.7612 - precision_2: 1.0000 - recall_2: 0.0040 - f1_score: 0.2446 - val_loss: 1.3049 - val_accuracy: 0.4567 - val_auc_2: 0.6846 - val_precision_2: 0.0000e+00 - val_recall_2: 0.0000e+00 - val_f1_score: 0.2612 - 654ms/epoch - 82ms/step\n",
      "Epoch 16/50\n",
      "8/8 - 1s - loss: 1.4264 - accuracy: 0.5059 - auc_2: 0.7601 - precision_2: 1.0000 - recall_2: 0.0040 - f1_score: 0.2434 - val_loss: 1.3094 - val_accuracy: 0.4488 - val_auc_2: 0.6800 - val_precision_2: 0.0000e+00 - val_recall_2: 0.0000e+00 - val_f1_score: 0.2538 - 652ms/epoch - 81ms/step\n",
      "Epoch 17/50\n",
      "8/8 - 1s - loss: 1.4197 - accuracy: 0.5138 - auc_2: 0.7589 - precision_2: 1.0000 - recall_2: 0.0040 - f1_score: 0.2561 - val_loss: 1.3106 - val_accuracy: 0.4488 - val_auc_2: 0.6795 - val_precision_2: 0.0000e+00 - val_recall_2: 0.0000e+00 - val_f1_score: 0.2542 - 651ms/epoch - 81ms/step\n",
      "Epoch 18/50\n",
      "8/8 - 1s - loss: 1.4149 - accuracy: 0.5217 - auc_2: 0.7565 - precision_2: 1.0000 - recall_2: 0.0040 - f1_score: 0.2649 - val_loss: 1.3141 - val_accuracy: 0.4567 - val_auc_2: 0.6743 - val_precision_2: 0.0000e+00 - val_recall_2: 0.0000e+00 - val_f1_score: 0.2696 - 654ms/epoch - 82ms/step\n",
      "Epoch 19/50\n",
      "8/8 - 1s - loss: 1.3896 - accuracy: 0.5178 - auc_2: 0.7539 - precision_2: 1.0000 - recall_2: 0.0040 - f1_score: 0.2632 - val_loss: 1.3190 - val_accuracy: 0.4567 - val_auc_2: 0.6692 - val_precision_2: 0.0000e+00 - val_recall_2: 0.0000e+00 - val_f1_score: 0.2694 - 653ms/epoch - 82ms/step\n",
      "Epoch 20/50\n",
      "8/8 - 1s - loss: 1.3857 - accuracy: 0.5178 - auc_2: 0.7501 - precision_2: 1.0000 - recall_2: 0.0040 - f1_score: 0.2675 - val_loss: 1.3237 - val_accuracy: 0.4409 - val_auc_2: 0.6650 - val_precision_2: 0.0000e+00 - val_recall_2: 0.0000e+00 - val_f1_score: 0.2576 - 654ms/epoch - 82ms/step\n",
      "Epoch 21/50\n",
      "8/8 - 1s - loss: 1.3811 - accuracy: 0.5099 - auc_2: 0.7463 - precision_2: 1.0000 - recall_2: 0.0040 - f1_score: 0.2673 - val_loss: 1.3304 - val_accuracy: 0.4173 - val_auc_2: 0.6525 - val_precision_2: 0.0000e+00 - val_recall_2: 0.0000e+00 - val_f1_score: 0.2513 - 655ms/epoch - 82ms/step\n",
      "Epoch 22/50\n",
      "8/8 - 1s - loss: 1.3749 - accuracy: 0.4901 - auc_2: 0.7408 - precision_2: 1.0000 - recall_2: 0.0040 - f1_score: 0.2724 - val_loss: 1.3331 - val_accuracy: 0.4094 - val_auc_2: 0.6485 - val_precision_2: 0.0000e+00 - val_recall_2: 0.0000e+00 - val_f1_score: 0.2637 - 652ms/epoch - 81ms/step\n",
      "Epoch 23/50\n",
      "8/8 - 1s - loss: 1.3708 - accuracy: 0.4743 - auc_2: 0.7408 - precision_2: 1.0000 - recall_2: 0.0040 - f1_score: 0.2746 - val_loss: 1.3351 - val_accuracy: 0.4094 - val_auc_2: 0.6440 - val_precision_2: 0.0000e+00 - val_recall_2: 0.0000e+00 - val_f1_score: 0.2756 - 655ms/epoch - 82ms/step\n",
      "Epoch 24/50\n",
      "8/8 - 1s - loss: 1.3667 - accuracy: 0.4743 - auc_2: 0.7365 - precision_2: 1.0000 - recall_2: 0.0040 - f1_score: 0.2851 - val_loss: 1.3375 - val_accuracy: 0.4094 - val_auc_2: 0.6378 - val_precision_2: 0.0000e+00 - val_recall_2: 0.0000e+00 - val_f1_score: 0.2853 - 655ms/epoch - 82ms/step\n",
      "Epoch 25/50\n",
      "8/8 - 1s - loss: 1.3633 - accuracy: 0.4704 - auc_2: 0.7308 - precision_2: 1.0000 - recall_2: 0.0040 - f1_score: 0.2872 - val_loss: 1.3439 - val_accuracy: 0.3780 - val_auc_2: 0.6316 - val_precision_2: 0.0000e+00 - val_recall_2: 0.0000e+00 - val_f1_score: 0.2552 - 649ms/epoch - 81ms/step\n",
      "Epoch 26/50\n",
      "8/8 - 1s - loss: 1.3585 - accuracy: 0.4743 - auc_2: 0.7270 - precision_2: 1.0000 - recall_2: 0.0040 - f1_score: 0.2955 - val_loss: 1.3456 - val_accuracy: 0.3780 - val_auc_2: 0.6299 - val_precision_2: 0.0000e+00 - val_recall_2: 0.0000e+00 - val_f1_score: 0.2615 - 651ms/epoch - 81ms/step\n",
      "Epoch 27/50\n",
      "8/8 - 1s - loss: 1.3555 - accuracy: 0.4466 - auc_2: 0.7199 - precision_2: 1.0000 - recall_2: 0.0040 - f1_score: 0.2927 - val_loss: 1.3450 - val_accuracy: 0.3465 - val_auc_2: 0.6291 - val_precision_2: 0.0000e+00 - val_recall_2: 0.0000e+00 - val_f1_score: 0.2470 - 654ms/epoch - 82ms/step\n",
      "Epoch 28/50\n",
      "8/8 - 1s - loss: 1.3526 - accuracy: 0.4308 - auc_2: 0.7208 - precision_2: 1.0000 - recall_2: 0.0040 - f1_score: 0.3049 - val_loss: 1.3490 - val_accuracy: 0.3465 - val_auc_2: 0.6257 - val_precision_2: 0.0000e+00 - val_recall_2: 0.0000e+00 - val_f1_score: 0.2480 - 648ms/epoch - 81ms/step\n",
      "Epoch 29/50\n",
      "8/8 - 1s - loss: 1.3471 - accuracy: 0.4387 - auc_2: 0.7176 - precision_2: 1.0000 - recall_2: 0.0040 - f1_score: 0.3088 - val_loss: 1.3527 - val_accuracy: 0.3307 - val_auc_2: 0.6174 - val_precision_2: 0.0000e+00 - val_recall_2: 0.0000e+00 - val_f1_score: 0.2374 - 649ms/epoch - 81ms/step\n",
      "Epoch 30/50\n",
      "8/8 - 1s - loss: 1.3477 - accuracy: 0.4190 - auc_2: 0.7142 - precision_2: 1.0000 - recall_2: 0.0040 - f1_score: 0.3133 - val_loss: 1.3540 - val_accuracy: 0.3228 - val_auc_2: 0.6133 - val_precision_2: 0.0000e+00 - val_recall_2: 0.0000e+00 - val_f1_score: 0.2424 - 642ms/epoch - 80ms/step\n",
      "Epoch 31/50\n",
      "8/8 - 1s - loss: 1.3420 - accuracy: 0.3874 - auc_2: 0.7056 - precision_2: 1.0000 - recall_2: 0.0040 - f1_score: 0.3029 - val_loss: 1.3606 - val_accuracy: 0.2835 - val_auc_2: 0.6068 - val_precision_2: 0.0000e+00 - val_recall_2: 0.0000e+00 - val_f1_score: 0.2226 - 642ms/epoch - 80ms/step\n",
      "Epoch 32/50\n",
      "8/8 - 1s - loss: 1.3400 - accuracy: 0.3953 - auc_2: 0.7005 - precision_2: 1.0000 - recall_2: 0.0040 - f1_score: 0.3099 - val_loss: 1.3588 - val_accuracy: 0.2913 - val_auc_2: 0.6084 - val_precision_2: 0.0000e+00 - val_recall_2: 0.0000e+00 - val_f1_score: 0.2299 - 645ms/epoch - 81ms/step\n",
      "Epoch 33/50\n",
      "8/8 - 1s - loss: 1.3367 - accuracy: 0.3992 - auc_2: 0.6960 - precision_2: 1.0000 - recall_2: 0.0040 - f1_score: 0.3211 - val_loss: 1.3594 - val_accuracy: 0.3071 - val_auc_2: 0.6062 - val_precision_2: 0.0000e+00 - val_recall_2: 0.0000e+00 - val_f1_score: 0.2395 - 643ms/epoch - 80ms/step\n",
      "Epoch 34/50\n",
      "8/8 - 1s - loss: 1.3316 - accuracy: 0.3834 - auc_2: 0.6937 - precision_2: 1.0000 - recall_2: 0.0040 - f1_score: 0.3138 - val_loss: 1.3631 - val_accuracy: 0.2992 - val_auc_2: 0.5984 - val_precision_2: 0.0000e+00 - val_recall_2: 0.0000e+00 - val_f1_score: 0.2343 - 635ms/epoch - 79ms/step\n",
      "Epoch 35/50\n",
      "8/8 - 1s - loss: 1.3296 - accuracy: 0.3755 - auc_2: 0.6950 - precision_2: 1.0000 - recall_2: 0.0040 - f1_score: 0.3076 - val_loss: 1.3593 - val_accuracy: 0.3071 - val_auc_2: 0.6041 - val_precision_2: 0.0000e+00 - val_recall_2: 0.0000e+00 - val_f1_score: 0.2375 - 637ms/epoch - 80ms/step\n",
      "Epoch 36/50\n",
      "8/8 - 1s - loss: 1.3254 - accuracy: 0.3715 - auc_2: 0.6907 - precision_2: 1.0000 - recall_2: 0.0040 - f1_score: 0.3045 - val_loss: 1.3685 - val_accuracy: 0.2992 - val_auc_2: 0.5876 - val_precision_2: 0.0000e+00 - val_recall_2: 0.0000e+00 - val_f1_score: 0.2362 - 640ms/epoch - 80ms/step\n",
      "Epoch 37/50\n",
      "8/8 - 1s - loss: 1.3485 - accuracy: 0.3834 - auc_2: 0.6818 - precision_2: 1.0000 - recall_2: 0.0040 - f1_score: 0.3023 - val_loss: 1.3712 - val_accuracy: 0.2913 - val_auc_2: 0.5849 - val_precision_2: 0.0000e+00 - val_recall_2: 0.0000e+00 - val_f1_score: 0.2283 - 664ms/epoch - 83ms/step\n",
      "Epoch 38/50\n",
      "8/8 - 1s - loss: 1.3482 - accuracy: 0.3636 - auc_2: 0.6803 - precision_2: 1.0000 - recall_2: 0.0040 - f1_score: 0.2921 - val_loss: 1.3691 - val_accuracy: 0.3071 - val_auc_2: 0.5847 - val_precision_2: 0.0000e+00 - val_recall_2: 0.0000e+00 - val_f1_score: 0.2392 - 635ms/epoch - 79ms/step\n",
      "Epoch 39/50\n",
      "8/8 - 1s - loss: 1.3419 - accuracy: 0.3636 - auc_2: 0.6813 - precision_2: 1.0000 - recall_2: 0.0040 - f1_score: 0.2913 - val_loss: 1.3762 - val_accuracy: 0.2913 - val_auc_2: 0.5784 - val_precision_2: 0.0000e+00 - val_recall_2: 0.0000e+00 - val_f1_score: 0.2289 - 638ms/epoch - 80ms/step\n",
      "Epoch 40/50\n",
      "8/8 - 1s - loss: 1.3398 - accuracy: 0.3676 - auc_2: 0.6760 - precision_2: 1.0000 - recall_2: 0.0040 - f1_score: 0.3037 - val_loss: 1.3796 - val_accuracy: 0.2913 - val_auc_2: 0.5735 - val_precision_2: 0.0000e+00 - val_recall_2: 0.0000e+00 - val_f1_score: 0.2297 - 634ms/epoch - 79ms/step\n",
      "Epoch 41/50\n",
      "8/8 - 1s - loss: 1.3379 - accuracy: 0.3597 - auc_2: 0.6702 - precision_2: 1.0000 - recall_2: 0.0040 - f1_score: 0.3015 - val_loss: 1.3802 - val_accuracy: 0.2835 - val_auc_2: 0.5720 - val_precision_2: 0.0000e+00 - val_recall_2: 0.0000e+00 - val_f1_score: 0.2211 - 632ms/epoch - 79ms/step\n",
      "Epoch 42/50\n",
      "8/8 - 1s - loss: 1.3358 - accuracy: 0.3715 - auc_2: 0.6681 - precision_2: 1.0000 - recall_2: 0.0040 - f1_score: 0.3080 - val_loss: 1.3802 - val_accuracy: 0.2756 - val_auc_2: 0.5748 - val_precision_2: 0.0000e+00 - val_recall_2: 0.0000e+00 - val_f1_score: 0.2143 - 635ms/epoch - 79ms/step\n",
      "Epoch 43/50\n",
      "8/8 - 1s - loss: 1.3313 - accuracy: 0.3636 - auc_2: 0.6684 - precision_2: 1.0000 - recall_2: 0.0040 - f1_score: 0.3043 - val_loss: 1.3822 - val_accuracy: 0.2598 - val_auc_2: 0.5703 - val_precision_2: 0.0000e+00 - val_recall_2: 0.0000e+00 - val_f1_score: 0.1995 - 635ms/epoch - 79ms/step\n",
      "Epoch 44/50\n",
      "8/8 - 1s - loss: 1.3405 - accuracy: 0.3636 - auc_2: 0.6687 - precision_2: 1.0000 - recall_2: 0.0040 - f1_score: 0.3060 - val_loss: 1.3809 - val_accuracy: 0.2520 - val_auc_2: 0.5714 - val_precision_2: 0.0000e+00 - val_recall_2: 0.0000e+00 - val_f1_score: 0.1942 - 633ms/epoch - 79ms/step\n",
      "Epoch 45/50\n",
      "8/8 - 1s - loss: 1.3309 - accuracy: 0.3518 - auc_2: 0.6581 - precision_2: 1.0000 - recall_2: 0.0040 - f1_score: 0.2928 - val_loss: 1.3936 - val_accuracy: 0.2756 - val_auc_2: 0.5533 - val_precision_2: 0.0000e+00 - val_recall_2: 0.0000e+00 - val_f1_score: 0.2213 - 639ms/epoch - 80ms/step\n",
      "Epoch 46/50\n",
      "8/8 - 1s - loss: 1.3337 - accuracy: 0.3241 - auc_2: 0.6470 - precision_2: 1.0000 - recall_2: 0.0040 - f1_score: 0.2713 - val_loss: 1.3954 - val_accuracy: 0.2598 - val_auc_2: 0.5500 - val_precision_2: 0.0000e+00 - val_recall_2: 0.0000e+00 - val_f1_score: 0.2117 - 636ms/epoch - 80ms/step\n",
      "Epoch 47/50\n",
      "8/8 - 1s - loss: 1.3311 - accuracy: 0.3202 - auc_2: 0.6437 - precision_2: 1.0000 - recall_2: 0.0040 - f1_score: 0.2687 - val_loss: 1.3979 - val_accuracy: 0.2598 - val_auc_2: 0.5451 - val_precision_2: 0.0000e+00 - val_recall_2: 0.0000e+00 - val_f1_score: 0.2092 - 631ms/epoch - 79ms/step\n",
      "Epoch 48/50\n",
      "8/8 - 1s - loss: 1.3282 - accuracy: 0.3241 - auc_2: 0.6400 - precision_2: 1.0000 - recall_2: 0.0040 - f1_score: 0.2797 - val_loss: 1.3987 - val_accuracy: 0.2520 - val_auc_2: 0.5453 - val_precision_2: 0.0000e+00 - val_recall_2: 0.0000e+00 - val_f1_score: 0.2009 - 635ms/epoch - 79ms/step\n",
      "Epoch 49/50\n",
      "8/8 - 1s - loss: 1.3234 - accuracy: 0.3202 - auc_2: 0.6381 - precision_2: 1.0000 - recall_2: 0.0040 - f1_score: 0.2816 - val_loss: 1.3979 - val_accuracy: 0.2520 - val_auc_2: 0.5474 - val_precision_2: 0.0000e+00 - val_recall_2: 0.0000e+00 - val_f1_score: 0.1990 - 642ms/epoch - 80ms/step\n",
      "Epoch 50/50\n",
      "8/8 - 1s - loss: 1.3165 - accuracy: 0.3123 - auc_2: 0.6400 - precision_2: 1.0000 - recall_2: 0.0040 - f1_score: 0.2819 - val_loss: 1.3973 - val_accuracy: 0.2362 - val_auc_2: 0.5485 - val_precision_2: 0.0000e+00 - val_recall_2: 0.0000e+00 - val_f1_score: 0.1877 - 631ms/epoch - 79ms/step\n"
     ]
    },
    {
     "data": {
      "image/png": "[encoded data removed]",
      "text/plain": [
       "<Figure size 432x288 with 1 Axes>"
      ]
     },
     "metadata": {
      "needs_background": "light"
     },
     "output_type": "display_data"
    },
    {
     "name": "stdout",
     "output_type": "stream",
     "text": [
      "Epoch 1/50\n",
      "8/8 - 3s - loss: 1.4193 - accuracy: 0.1457 - auc_3: 0.3946 - precision_3: 0.0000e+00 - recall_3: 0.0000e+00 - f1_score: 0.1047 - val_loss: 1.4754 - val_accuracy: 0.2302 - val_auc_3: 0.4680 - val_precision_3: 0.0000e+00 - val_recall_3: 0.0000e+00 - val_f1_score: 0.1553 - 3s/epoch - 366ms/step\n",
      "Epoch 2/50\n",
      "8/8 - 1s - loss: 1.3596 - accuracy: 0.2205 - auc_3: 0.4506 - precision_3: 0.0000e+00 - recall_3: 0.0000e+00 - f1_score: 0.1484 - val_loss: 1.4152 - val_accuracy: 0.2857 - val_auc_3: 0.5331 - val_precision_3: 0.0000e+00 - val_recall_3: 0.0000e+00 - val_f1_score: 0.1876 - 654ms/epoch - 82ms/step\n",
      "Epoch 3/50\n",
      "8/8 - 1s - loss: 1.3091 - accuracy: 0.3031 - auc_3: 0.5520 - precision_3: 0.0000e+00 - recall_3: 0.0000e+00 - f1_score: 0.1975 - val_loss: 1.3762 - val_accuracy: 0.3095 - val_auc_3: 0.5888 - val_precision_3: 0.0000e+00 - val_recall_3: 0.0000e+00 - val_f1_score: 0.1954 - 645ms/epoch - 81ms/step\n",
      "Epoch 4/50\n",
      "8/8 - 1s - loss: 1.2802 - accuracy: 0.3268 - auc_3: 0.6102 - precision_3: 0.0000e+00 - recall_3: 0.0000e+00 - f1_score: 0.2080 - val_loss: 1.3614 - val_accuracy: 0.3175 - val_auc_3: 0.6122 - val_precision_3: 0.0000e+00 - val_recall_3: 0.0000e+00 - val_f1_score: 0.2018 - 647ms/epoch - 81ms/step\n",
      "Epoch 5/50\n",
      "8/8 - 1s - loss: 1.2696 - accuracy: 0.3622 - auc_3: 0.6312 - precision_3: 0.0000e+00 - recall_3: 0.0000e+00 - f1_score: 0.2294 - val_loss: 1.3366 - val_accuracy: 0.3413 - val_auc_3: 0.6469 - val_precision_3: 0.0000e+00 - val_recall_3: 0.0000e+00 - val_f1_score: 0.2166 - 641ms/epoch - 80ms/step\n",
      "Epoch 6/50\n",
      "8/8 - 1s - loss: 1.2511 - accuracy: 0.3976 - auc_3: 0.6644 - precision_3: 0.0000e+00 - recall_3: 0.0000e+00 - f1_score: 0.2482 - val_loss: 1.3197 - val_accuracy: 0.3492 - val_auc_3: 0.6732 - val_precision_3: 0.5000 - val_recall_3: 0.0079 - val_f1_score: 0.2174 - 640ms/epoch - 80ms/step\n",
      "Epoch 7/50\n",
      "8/8 - 1s - loss: 1.2348 - accuracy: 0.4173 - auc_3: 0.6944 - precision_3: 0.0000e+00 - recall_3: 0.0000e+00 - f1_score: 0.2571 - val_loss: 1.3088 - val_accuracy: 0.3810 - val_auc_3: 0.6876 - val_precision_3: 1.0000 - val_recall_3: 0.0079 - val_f1_score: 0.2313 - 652ms/epoch - 82ms/step\n",
      "Epoch 8/50\n",
      "8/8 - 1s - loss: 1.2243 - accuracy: 0.4252 - auc_3: 0.7055 - precision_3: 1.0000 - recall_3: 0.0039 - f1_score: 0.2614 - val_loss: 1.2988 - val_accuracy: 0.3651 - val_auc_3: 0.6949 - val_precision_3: 1.0000 - val_recall_3: 0.0079 - val_f1_score: 0.2233 - 637ms/epoch - 80ms/step\n",
      "Epoch 9/50\n",
      "8/8 - 1s - loss: 1.2100 - accuracy: 0.4213 - auc_3: 0.7187 - precision_3: 1.0000 - recall_3: 0.0039 - f1_score: 0.2601 - val_loss: 1.2848 - val_accuracy: 0.3889 - val_auc_3: 0.7110 - val_precision_3: 1.0000 - val_recall_3: 0.0079 - val_f1_score: 0.2415 - 635ms/epoch - 79ms/step\n",
      "Epoch 10/50\n",
      "8/8 - 1s - loss: 1.2055 - accuracy: 0.4331 - auc_3: 0.7265 - precision_3: 1.0000 - recall_3: 0.0039 - f1_score: 0.2671 - val_loss: 1.2830 - val_accuracy: 0.3968 - val_auc_3: 0.7116 - val_precision_3: 0.0000e+00 - val_recall_3: 0.0000e+00 - val_f1_score: 0.2566 - 645ms/epoch - 81ms/step\n",
      "Epoch 11/50\n",
      "8/8 - 1s - loss: 1.1957 - accuracy: 0.4606 - auc_3: 0.7334 - precision_3: 1.0000 - recall_3: 0.0039 - f1_score: 0.2872 - val_loss: 1.2805 - val_accuracy: 0.4048 - val_auc_3: 0.7152 - val_precision_3: 0.0000e+00 - val_recall_3: 0.0000e+00 - val_f1_score: 0.2661 - 642ms/epoch - 80ms/step\n",
      "Epoch 12/50\n",
      "8/8 - 1s - loss: 1.1850 - accuracy: 0.4488 - auc_3: 0.7349 - precision_3: 0.0000e+00 - recall_3: 0.0000e+00 - f1_score: 0.2813 - val_loss: 1.2740 - val_accuracy: 0.4365 - val_auc_3: 0.7171 - val_precision_3: 0.0000e+00 - val_recall_3: 0.0000e+00 - val_f1_score: 0.2870 - 641ms/epoch - 80ms/step\n",
      "Epoch 13/50\n",
      "8/8 - 1s - loss: 1.1824 - accuracy: 0.4646 - auc_3: 0.7335 - precision_3: 0.0000e+00 - recall_3: 0.0000e+00 - f1_score: 0.2939 - val_loss: 1.2699 - val_accuracy: 0.4444 - val_auc_3: 0.7177 - val_precision_3: 0.0000e+00 - val_recall_3: 0.0000e+00 - val_f1_score: 0.3013 - 644ms/epoch - 80ms/step\n",
      "Epoch 14/50\n",
      "8/8 - 1s - loss: 1.1759 - accuracy: 0.4724 - auc_3: 0.7312 - precision_3: 0.0000e+00 - recall_3: 0.0000e+00 - f1_score: 0.3211 - val_loss: 1.2805 - val_accuracy: 0.4206 - val_auc_3: 0.7053 - val_precision_3: 0.0000e+00 - val_recall_3: 0.0000e+00 - val_f1_score: 0.2806 - 640ms/epoch - 80ms/step\n",
      "Epoch 15/50\n",
      "8/8 - 1s - loss: 1.1723 - accuracy: 0.4528 - auc_3: 0.7235 - precision_3: 0.0000e+00 - recall_3: 0.0000e+00 - f1_score: 0.3048 - val_loss: 1.2869 - val_accuracy: 0.4365 - val_auc_3: 0.6962 - val_precision_3: 0.0000e+00 - val_recall_3: 0.0000e+00 - val_f1_score: 0.3019 - 640ms/epoch - 80ms/step\n",
      "Epoch 16/50\n",
      "8/8 - 1s - loss: 1.1673 - accuracy: 0.4409 - auc_3: 0.7190 - precision_3: 0.0000e+00 - recall_3: 0.0000e+00 - f1_score: 0.3450 - val_loss: 1.2897 - val_accuracy: 0.4127 - val_auc_3: 0.6871 - val_precision_3: 0.0000e+00 - val_recall_3: 0.0000e+00 - val_f1_score: 0.2300 - 646ms/epoch - 81ms/step\n",
      "Epoch 17/50\n",
      "8/8 - 1s - loss: 1.1769 - accuracy: 0.4646 - auc_3: 0.7233 - precision_3: 0.0000e+00 - recall_3: 0.0000e+00 - f1_score: 0.2633 - val_loss: 1.2716 - val_accuracy: 0.4048 - val_auc_3: 0.7044 - val_precision_3: 0.0000e+00 - val_recall_3: 0.0000e+00 - val_f1_score: 0.2322 - 643ms/epoch - 80ms/step\n",
      "Epoch 18/50\n",
      "8/8 - 1s - loss: 1.1561 - accuracy: 0.4843 - auc_3: 0.7360 - precision_3: 0.0000e+00 - recall_3: 0.0000e+00 - f1_score: 0.3710 - val_loss: 1.2673 - val_accuracy: 0.4286 - val_auc_3: 0.7042 - val_precision_3: 0.0000e+00 - val_recall_3: 0.0000e+00 - val_f1_score: 0.2468 - 632ms/epoch - 79ms/step\n",
      "Epoch 19/50\n",
      "8/8 - 1s - loss: 1.1488 - accuracy: 0.4567 - auc_3: 0.7337 - precision_3: 0.5000 - recall_3: 0.0039 - f1_score: 0.4003 - val_loss: 1.2523 - val_accuracy: 0.4286 - val_auc_3: 0.7201 - val_precision_3: 0.0000e+00 - val_recall_3: 0.0000e+00 - val_f1_score: 0.3575 - 639ms/epoch - 80ms/step\n",
      "Epoch 20/50\n",
      "8/8 - 1s - loss: 1.1403 - accuracy: 0.4488 - auc_3: 0.7424 - precision_3: 0.5000 - recall_3: 0.0039 - f1_score: 0.4518 - val_loss: 1.2382 - val_accuracy: 0.4206 - val_auc_3: 0.7267 - val_precision_3: 0.0000e+00 - val_recall_3: 0.0000e+00 - val_f1_score: 0.2622 - 648ms/epoch - 81ms/step\n",
      "Epoch 21/50\n",
      "8/8 - 1s - loss: 1.1358 - accuracy: 0.4567 - auc_3: 0.7444 - precision_3: 0.3333 - recall_3: 0.0039 - f1_score: 0.4526 - val_loss: 1.2421 - val_accuracy: 0.4286 - val_auc_3: 0.7176 - val_precision_3: 0.0000e+00 - val_recall_3: 0.0000e+00 - val_f1_score: 0.2711 - 635ms/epoch - 79ms/step\n",
      "Epoch 22/50\n",
      "8/8 - 1s - loss: 1.1307 - accuracy: 0.4921 - auc_3: 0.7472 - precision_3: 0.3333 - recall_3: 0.0039 - f1_score: 0.4748 - val_loss: 1.2477 - val_accuracy: 0.4127 - val_auc_3: 0.7024 - val_precision_3: 0.0000e+00 - val_recall_3: 0.0000e+00 - val_f1_score: 0.2522 - 638ms/epoch - 80ms/step\n",
      "Epoch 23/50\n",
      "8/8 - 1s - loss: 1.1439 - accuracy: 0.4882 - auc_3: 0.7454 - precision_3: 0.3333 - recall_3: 0.0039 - f1_score: 0.3122 - val_loss: 1.2573 - val_accuracy: 0.3810 - val_auc_3: 0.7014 - val_precision_3: 0.0000e+00 - val_recall_3: 0.0000e+00 - val_f1_score: 0.2487 - 640ms/epoch - 80ms/step\n",
      "Epoch 24/50\n",
      "8/8 - 1s - loss: 1.1297 - accuracy: 0.4449 - auc_3: 0.7261 - precision_3: 0.3333 - recall_3: 0.0039 - f1_score: 0.4220 - val_loss: 1.2712 - val_accuracy: 0.3413 - val_auc_3: 0.6878 - val_precision_3: 0.0000e+00 - val_recall_3: 0.0000e+00 - val_f1_score: 0.3338 - 633ms/epoch - 79ms/step\n",
      "Epoch 25/50\n",
      "8/8 - 1s - loss: 1.1276 - accuracy: 0.4409 - auc_3: 0.7197 - precision_3: 0.3333 - recall_3: 0.0039 - f1_score: 0.4264 - val_loss: 1.2819 - val_accuracy: 0.3254 - val_auc_3: 0.6726 - val_precision_3: 0.0000e+00 - val_recall_3: 0.0000e+00 - val_f1_score: 0.3252 - 638ms/epoch - 80ms/step\n",
      "Epoch 26/50\n",
      "8/8 - 1s - loss: 1.1287 - accuracy: 0.4331 - auc_3: 0.7139 - precision_3: 0.3333 - recall_3: 0.0039 - f1_score: 0.4219 - val_loss: 1.2829 - val_accuracy: 0.3175 - val_auc_3: 0.6701 - val_precision_3: 0.0000e+00 - val_recall_3: 0.0000e+00 - val_f1_score: 0.3209 - 642ms/epoch - 80ms/step\n",
      "Epoch 27/50\n",
      "8/8 - 1s - loss: 1.1262 - accuracy: 0.4291 - auc_3: 0.7182 - precision_3: 0.3333 - recall_3: 0.0039 - f1_score: 0.4199 - val_loss: 1.2766 - val_accuracy: 0.3254 - val_auc_3: 0.6772 - val_precision_3: 0.0000e+00 - val_recall_3: 0.0000e+00 - val_f1_score: 0.3287 - 641ms/epoch - 80ms/step\n",
      "Epoch 28/50\n",
      "8/8 - 1s - loss: 1.1231 - accuracy: 0.4213 - auc_3: 0.7212 - precision_3: 0.3333 - recall_3: 0.0039 - f1_score: 0.4137 - val_loss: 1.2779 - val_accuracy: 0.3254 - val_auc_3: 0.6760 - val_precision_3: 0.0000e+00 - val_recall_3: 0.0000e+00 - val_f1_score: 0.3252 - 640ms/epoch - 80ms/step\n",
      "Epoch 29/50\n",
      "8/8 - 1s - loss: 1.1219 - accuracy: 0.4094 - auc_3: 0.7234 - precision_3: 0.3333 - recall_3: 0.0039 - f1_score: 0.4034 - val_loss: 1.2679 - val_accuracy: 0.3333 - val_auc_3: 0.6876 - val_precision_3: 0.0000e+00 - val_recall_3: 0.0000e+00 - val_f1_score: 0.3297 - 641ms/epoch - 80ms/step\n",
      "Epoch 30/50\n",
      "8/8 - 1s - loss: 1.1187 - accuracy: 0.4094 - auc_3: 0.7226 - precision_3: 0.3333 - recall_3: 0.0039 - f1_score: 0.4052 - val_loss: 1.2718 - val_accuracy: 0.3254 - val_auc_3: 0.6830 - val_precision_3: 0.0000e+00 - val_recall_3: 0.0000e+00 - val_f1_score: 0.3259 - 640ms/epoch - 80ms/step\n",
      "Epoch 31/50\n",
      "8/8 - 1s - loss: 1.1175 - accuracy: 0.4173 - auc_3: 0.7221 - precision_3: 0.3333 - recall_3: 0.0039 - f1_score: 0.3867 - val_loss: 1.2679 - val_accuracy: 0.3254 - val_auc_3: 0.6855 - val_precision_3: 0.0000e+00 - val_recall_3: 0.0000e+00 - val_f1_score: 0.3262 - 637ms/epoch - 80ms/step\n",
      "Epoch 32/50\n",
      "8/8 - 1s - loss: 1.1154 - accuracy: 0.4252 - auc_3: 0.7267 - precision_3: 0.3333 - recall_3: 0.0039 - f1_score: 0.3888 - val_loss: 1.2668 - val_accuracy: 0.3175 - val_auc_3: 0.6865 - val_precision_3: 0.0000e+00 - val_recall_3: 0.0000e+00 - val_f1_score: 0.2245 - 638ms/epoch - 80ms/step\n",
      "Epoch 33/50\n",
      "8/8 - 1s - loss: 1.1140 - accuracy: 0.4252 - auc_3: 0.7276 - precision_3: 0.3333 - recall_3: 0.0039 - f1_score: 0.4152 - val_loss: 1.2641 - val_accuracy: 0.3254 - val_auc_3: 0.6869 - val_precision_3: 0.0000e+00 - val_recall_3: 0.0000e+00 - val_f1_score: 0.2289 - 638ms/epoch - 80ms/step\n",
      "Epoch 34/50\n",
      "8/8 - 1s - loss: 1.1120 - accuracy: 0.4291 - auc_3: 0.7267 - precision_3: 0.3333 - recall_3: 0.0039 - f1_score: 0.4193 - val_loss: 1.2665 - val_accuracy: 0.3333 - val_auc_3: 0.6840 - val_precision_3: 0.0000e+00 - val_recall_3: 0.0000e+00 - val_f1_score: 0.2330 - 669ms/epoch - 84ms/step\n",
      "Epoch 35/50\n",
      "8/8 - 1s - loss: 1.1112 - accuracy: 0.4213 - auc_3: 0.7252 - precision_3: 0.3333 - recall_3: 0.0039 - f1_score: 0.4132 - val_loss: 1.2632 - val_accuracy: 0.3413 - val_auc_3: 0.6881 - val_precision_3: 0.0000e+00 - val_recall_3: 0.0000e+00 - val_f1_score: 0.2374 - 645ms/epoch - 81ms/step\n",
      "Epoch 36/50\n",
      "8/8 - 1s - loss: 1.1086 - accuracy: 0.4173 - auc_3: 0.7303 - precision_3: 0.3333 - recall_3: 0.0039 - f1_score: 0.3847 - val_loss: 1.2620 - val_accuracy: 0.3333 - val_auc_3: 0.6869 - val_precision_3: 0.0000e+00 - val_recall_3: 0.0000e+00 - val_f1_score: 0.2338 - 644ms/epoch - 81ms/step\n",
      "Epoch 37/50\n",
      "8/8 - 1s - loss: 1.1059 - accuracy: 0.4173 - auc_3: 0.7296 - precision_3: 0.3333 - recall_3: 0.0039 - f1_score: 0.3847 - val_loss: 1.2652 - val_accuracy: 0.3333 - val_auc_3: 0.6837 - val_precision_3: 0.0000e+00 - val_recall_3: 0.0000e+00 - val_f1_score: 0.2301 - 641ms/epoch - 80ms/step\n",
      "Epoch 38/50\n",
      "8/8 - 1s - loss: 1.1063 - accuracy: 0.4173 - auc_3: 0.7298 - precision_3: 0.3333 - recall_3: 0.0039 - f1_score: 0.3847 - val_loss: 1.2607 - val_accuracy: 0.3333 - val_auc_3: 0.6850 - val_precision_3: 0.0000e+00 - val_recall_3: 0.0000e+00 - val_f1_score: 0.2301 - 641ms/epoch - 80ms/step\n",
      "Epoch 39/50\n",
      "8/8 - 1s - loss: 1.1029 - accuracy: 0.4213 - auc_3: 0.7314 - precision_3: 0.3333 - recall_3: 0.0039 - f1_score: 0.3868 - val_loss: 1.2633 - val_accuracy: 0.3333 - val_auc_3: 0.6811 - val_precision_3: 0.0000e+00 - val_recall_3: 0.0000e+00 - val_f1_score: 0.2301 - 647ms/epoch - 81ms/step\n",
      "Epoch 40/50\n",
      "8/8 - 1s - loss: 1.0998 - accuracy: 0.4370 - auc_3: 0.7344 - precision_3: 0.3333 - recall_3: 0.0039 - f1_score: 0.3952 - val_loss: 1.2575 - val_accuracy: 0.3413 - val_auc_3: 0.6845 - val_precision_3: 0.0000e+00 - val_recall_3: 0.0000e+00 - val_f1_score: 0.2353 - 636ms/epoch - 80ms/step\n",
      "Epoch 41/50\n",
      "8/8 - 1s - loss: 1.0955 - accuracy: 0.4449 - auc_3: 0.7418 - precision_3: 0.3333 - recall_3: 0.0039 - f1_score: 0.4643 - val_loss: 1.2530 - val_accuracy: 0.3333 - val_auc_3: 0.6893 - val_precision_3: 0.0000e+00 - val_recall_3: 0.0000e+00 - val_f1_score: 0.2265 - 637ms/epoch - 80ms/step\n",
      "Epoch 42/50\n",
      "8/8 - 1s - loss: 1.0949 - accuracy: 0.4449 - auc_3: 0.7442 - precision_3: 0.3333 - recall_3: 0.0039 - f1_score: 0.4643 - val_loss: 1.2561 - val_accuracy: 0.3333 - val_auc_3: 0.6839 - val_precision_3: 0.0000e+00 - val_recall_3: 0.0000e+00 - val_f1_score: 0.2265 - 639ms/epoch - 80ms/step\n",
      "Epoch 43/50\n",
      "8/8 - 1s - loss: 1.0925 - accuracy: 0.4449 - auc_3: 0.7398 - precision_3: 0.3333 - recall_3: 0.0039 - f1_score: 0.4259 - val_loss: 1.2574 - val_accuracy: 0.3413 - val_auc_3: 0.6861 - val_precision_3: 0.0000e+00 - val_recall_3: 0.0000e+00 - val_f1_score: 0.2353 - 636ms/epoch - 80ms/step\n",
      "Epoch 44/50\n",
      "8/8 - 1s - loss: 1.0922 - accuracy: 0.4449 - auc_3: 0.7364 - precision_3: 0.2500 - recall_3: 0.0039 - f1_score: 0.4257 - val_loss: 1.2606 - val_accuracy: 0.3571 - val_auc_3: 0.6831 - val_precision_3: 0.0000e+00 - val_recall_3: 0.0000e+00 - val_f1_score: 0.2429 - 635ms/epoch - 79ms/step\n",
      "Epoch 45/50\n",
      "8/8 - 1s - loss: 1.0890 - accuracy: 0.4488 - auc_3: 0.7371 - precision_3: 0.2000 - recall_3: 0.0039 - f1_score: 0.4294 - val_loss: 1.2597 - val_accuracy: 0.3333 - val_auc_3: 0.6801 - val_precision_3: 0.0000e+00 - val_recall_3: 0.0000e+00 - val_f1_score: 0.2265 - 638ms/epoch - 80ms/step\n",
      "Epoch 46/50\n",
      "8/8 - 1s - loss: 1.0877 - accuracy: 0.4449 - auc_3: 0.7396 - precision_3: 0.2500 - recall_3: 0.0039 - f1_score: 0.4259 - val_loss: 1.2588 - val_accuracy: 0.3333 - val_auc_3: 0.6805 - val_precision_3: 0.0000e+00 - val_recall_3: 0.0000e+00 - val_f1_score: 0.2262 - 632ms/epoch - 79ms/step\n",
      "Epoch 47/50\n",
      "8/8 - 1s - loss: 1.0871 - accuracy: 0.4488 - auc_3: 0.7412 - precision_3: 0.2500 - recall_3: 0.0039 - f1_score: 0.4279 - val_loss: 1.2559 - val_accuracy: 0.3333 - val_auc_3: 0.6808 - val_precision_3: 0.0000e+00 - val_recall_3: 0.0000e+00 - val_f1_score: 0.2262 - 636ms/epoch - 79ms/step\n",
      "Epoch 48/50\n",
      "8/8 - 1s - loss: 1.0850 - accuracy: 0.4606 - auc_3: 0.7416 - precision_3: 0.2500 - recall_3: 0.0039 - f1_score: 0.4338 - val_loss: 1.2566 - val_accuracy: 0.3492 - val_auc_3: 0.6825 - val_precision_3: 0.0000e+00 - val_recall_3: 0.0000e+00 - val_f1_score: 0.2391 - 640ms/epoch - 80ms/step\n",
      "Epoch 49/50\n",
      "8/8 - 1s - loss: 1.0839 - accuracy: 0.4567 - auc_3: 0.7371 - precision_3: 0.2500 - recall_3: 0.0039 - f1_score: 0.4318 - val_loss: 1.2579 - val_accuracy: 0.3333 - val_auc_3: 0.6778 - val_precision_3: 0.0000e+00 - val_recall_3: 0.0000e+00 - val_f1_score: 0.2262 - 642ms/epoch - 80ms/step\n",
      "Epoch 50/50\n",
      "8/8 - 1s - loss: 1.0817 - accuracy: 0.4488 - auc_3: 0.7406 - precision_3: 0.2500 - recall_3: 0.0039 - f1_score: 0.4279 - val_loss: 1.2565 - val_accuracy: 0.3333 - val_auc_3: 0.6778 - val_precision_3: 0.0000e+00 - val_recall_3: 0.0000e+00 - val_f1_score: 0.2265 - 640ms/epoch - 80ms/step\n"
     ]
    },
    {
     "data": {
      "image/png": "[encoded data removed]",
      "text/plain": [
       "<Figure size 432x288 with 1 Axes>"
      ]
     },
     "metadata": {
      "needs_background": "light"
     },
     "output_type": "display_data"
    }
   ],
   "source": [
    "for train_index, val_index in kf.split(X):\n",
    "    X_train, X_val = X[train_index], X[val_index]\n",
    "    y_train, y_val = y[train_index], y[val_index]\n",
    "    baseline_body_model = Baseline(n_features, n_length, n_outputs)\n",
    "    history = baseline_body_model.train(X_train, y_train, X_val, y_val, epochs, batch_size, d_class_weights)\n",
    "    plt.plot(history.history['loss'])\n",
    "    plt.show()"
   ]
  },
  {
   "cell_type": "markdown",
   "metadata": {},
   "source": [
    "#### Prediction on holdout set"
   ]
  },
  {
   "cell_type": "code",
   "execution_count": 9,
   "metadata": {},
   "outputs": [
    {
     "name": "stdout",
     "output_type": "stream",
     "text": [
      "Accuracy: 37.02% \n",
      "Balanced Accuracy: 23.70% \n",
      "ROC/AUC: 0.64 \n",
      "Precision: 0.33 \n",
      "Recall: 0.01 \n",
      "F1 score: 0.24\n"
     ]
    }
   ],
   "source": [
    "y_pred = baseline_body_model.predict(X_test)\n",
    "_, acc, auc, precision, recall, f1 = baseline_body_model.evaluate(X_test, y_test)\n",
    "results.append(round(auc, 2))\n",
    "bal_acc = balanced_accuracy_score(y_test.argmax(axis=1), y_pred.argmax(axis=1)) \n",
    "print('Accuracy: {:.2f}% \\nBalanced Accuracy: {:.2f}% \\nROC/AUC: {:.2f} \\nPrecision: {:.2f} \\nRecall: {:.2f} \\nF1 score: {:.2f}'.format(acc * 100, bal_acc * 100, auc, precision, recall, f1))"
   ]
  },
  {
   "cell_type": "markdown",
   "metadata": {},
   "source": [
    "## 2. Unimodal Face Modality (Action Units + Head Pose)"
   ]
  },
  {
   "cell_type": "markdown",
   "metadata": {},
   "source": [
    "### Dataset"
   ]
  },
  {
   "cell_type": "code",
   "execution_count": 10,
   "metadata": {},
   "outputs": [
    {
     "name": "stdout",
     "output_type": "stream",
     "text": [
      "(366, 350, 25) (366, 4)\n",
      "(231, 350, 25) (231, 4)\n"
     ]
    }
   ],
   "source": [
    "X_train, X_test, y_train, y_test = load_dataset('AUs', nopain=False)\n",
    "X_train = X_train.reshape(X_train.shape[0], X_train.shape[2], X_train.shape[3])\n",
    "X_test = X_test.reshape(X_test.shape[0], X_test.shape[2], X_test.shape[3])\n",
    "X = X_train.copy()\n",
    "y = y_train.copy()\n",
    "\n",
    "print(X_train.shape, y_train.shape)\n",
    "print(X_test.shape, y_test.shape)\n",
    "\n",
    "n_length, n_features, n_outputs = X_train.shape[1], X_train.shape[-1], y_train.shape[1]"
   ]
  },
  {
   "cell_type": "code",
   "execution_count": 11,
   "metadata": {},
   "outputs": [
    {
     "data": {
      "text/plain": [
       "Lower Body       236\n",
       "Back Region       69\n",
       "Upper Body        57\n",
       "Head and Neck      4\n",
       "dtype: int64"
      ]
     },
     "execution_count": 11,
     "metadata": {},
     "output_type": "execute_result"
    }
   ],
   "source": [
    "classes = get_class_names('AUs', nopain=False)\n",
    "tmp = pd.DataFrame(classes)\n",
    "classes = tmp.value_counts()\n",
    "classes"
   ]
  },
  {
   "cell_type": "code",
   "execution_count": 12,
   "metadata": {},
   "outputs": [
    {
     "data": {
      "text/plain": [
       "{0: 1.326086956521739, 1: 22.875, 2: 0.3877118644067797, 3: 1.605263157894737}"
      ]
     },
     "execution_count": 12,
     "metadata": {},
     "output_type": "execute_result"
    }
   ],
   "source": [
    "y_integers = np.argmax(y_train, axis=1)\n",
    "class_weights = compute_class_weight(class_weight='balanced', classes=np.unique(y_integers), y=y_integers)\n",
    "d_class_weights = dict(enumerate(class_weights))\n",
    "d_class_weights"
   ]
  },
  {
   "cell_type": "code",
   "execution_count": 13,
   "metadata": {},
   "outputs": [
    {
     "name": "stdout",
     "output_type": "stream",
     "text": [
      "Model: \"model_4\"\n",
      "_________________________________________________________________\n",
      " Layer (type)                Output Shape              Param #   \n",
      "=================================================================\n",
      " input_5 (InputLayer)        [(None, 350, 25)]         0         \n",
      "                                                                 \n",
      " lstm_4 (LSTM)               (None, 50)                15200     \n",
      "                                                                 \n",
      " dense_8 (Dense)             (None, 50)                2550      \n",
      "                                                                 \n",
      " dense_9 (Dense)             (None, 4)                 204       \n",
      "                                                                 \n",
      "=================================================================\n",
      "Total params: 17,954\n",
      "Trainable params: 17,954\n",
      "Non-trainable params: 0\n",
      "_________________________________________________________________\n"
     ]
    }
   ],
   "source": [
    "model = Baseline(n_features, n_length, n_outputs)\n",
    "model.summary()"
   ]
  },
  {
   "cell_type": "markdown",
   "metadata": {},
   "source": [
    "### Baseline Model"
   ]
  },
  {
   "cell_type": "code",
   "execution_count": 14,
   "metadata": {},
   "outputs": [
    {
     "name": "stdout",
     "output_type": "stream",
     "text": [
      "Epoch 1/50\n",
      "8/8 - 3s - loss: 1.5114 - accuracy: 0.3033 - auc_5: 0.4343 - precision_5: 0.1304 - recall_5: 0.0123 - f1_score: 0.1666 - val_loss: 1.5197 - val_accuracy: 0.3607 - val_auc_5: 0.4573 - val_precision_5: 0.3000 - val_recall_5: 0.0246 - val_f1_score: 0.1904 - 3s/epoch - 326ms/step\n",
      "Epoch 2/50\n",
      "8/8 - 1s - loss: 1.4888 - accuracy: 0.3607 - auc_5: 0.4520 - precision_5: 0.1765 - recall_5: 0.0123 - f1_score: 0.1911 - val_loss: 1.4865 - val_accuracy: 0.3770 - val_auc_5: 0.4814 - val_precision_5: 0.1667 - val_recall_5: 0.0082 - val_f1_score: 0.1973 - 675ms/epoch - 84ms/step\n",
      "Epoch 3/50\n",
      "8/8 - 1s - loss: 1.4778 - accuracy: 0.3648 - auc_5: 0.4660 - precision_5: 0.1667 - recall_5: 0.0082 - f1_score: 0.1930 - val_loss: 1.4673 - val_accuracy: 0.3852 - val_auc_5: 0.4967 - val_precision_5: 0.0000e+00 - val_recall_5: 0.0000e+00 - val_f1_score: 0.2024 - 643ms/epoch - 80ms/step\n",
      "Epoch 4/50\n",
      "8/8 - 1s - loss: 1.4638 - accuracy: 0.3730 - auc_5: 0.4774 - precision_5: 0.1667 - recall_5: 0.0041 - f1_score: 0.2049 - val_loss: 1.4467 - val_accuracy: 0.3852 - val_auc_5: 0.5098 - val_precision_5: 0.0000e+00 - val_recall_5: 0.0000e+00 - val_f1_score: 0.2022 - 641ms/epoch - 80ms/step\n",
      "Epoch 5/50\n",
      "8/8 - 1s - loss: 1.4559 - accuracy: 0.3730 - auc_5: 0.4813 - precision_5: 0.0000e+00 - recall_5: 0.0000e+00 - f1_score: 0.2051 - val_loss: 1.4479 - val_accuracy: 0.3607 - val_auc_5: 0.5044 - val_precision_5: 0.0000e+00 - val_recall_5: 0.0000e+00 - val_f1_score: 0.1905 - 633ms/epoch - 79ms/step\n",
      "Epoch 6/50\n",
      "8/8 - 1s - loss: 1.4434 - accuracy: 0.3689 - auc_5: 0.4960 - precision_5: 0.0000e+00 - recall_5: 0.0000e+00 - f1_score: 0.2039 - val_loss: 1.4367 - val_accuracy: 0.3607 - val_auc_5: 0.5140 - val_precision_5: 0.0000e+00 - val_recall_5: 0.0000e+00 - val_f1_score: 0.1905 - 641ms/epoch - 80ms/step\n",
      "Epoch 7/50\n",
      "8/8 - 1s - loss: 1.4334 - accuracy: 0.3689 - auc_5: 0.5053 - precision_5: 0.0000e+00 - recall_5: 0.0000e+00 - f1_score: 0.2039 - val_loss: 1.4245 - val_accuracy: 0.3607 - val_auc_5: 0.5219 - val_precision_5: 0.0000e+00 - val_recall_5: 0.0000e+00 - val_f1_score: 0.1905 - 644ms/epoch - 81ms/step\n",
      "Epoch 8/50\n",
      "8/8 - 1s - loss: 1.4248 - accuracy: 0.3811 - auc_5: 0.5202 - precision_5: 0.0000e+00 - recall_5: 0.0000e+00 - f1_score: 0.2096 - val_loss: 1.4141 - val_accuracy: 0.3689 - val_auc_5: 0.5317 - val_precision_5: 0.0000e+00 - val_recall_5: 0.0000e+00 - val_f1_score: 0.1941 - 639ms/epoch - 80ms/step\n",
      "Epoch 9/50\n",
      "8/8 - 1s - loss: 1.4206 - accuracy: 0.3730 - auc_5: 0.5229 - precision_5: 0.0000e+00 - recall_5: 0.0000e+00 - f1_score: 0.2031 - val_loss: 1.4065 - val_accuracy: 0.3689 - val_auc_5: 0.5371 - val_precision_5: 0.0000e+00 - val_recall_5: 0.0000e+00 - val_f1_score: 0.1949 - 635ms/epoch - 79ms/step\n",
      "Epoch 10/50\n",
      "8/8 - 1s - loss: 1.4157 - accuracy: 0.3648 - auc_5: 0.5265 - precision_5: 0.0000e+00 - recall_5: 0.0000e+00 - f1_score: 0.1998 - val_loss: 1.3994 - val_accuracy: 0.3770 - val_auc_5: 0.5433 - val_precision_5: 0.0000e+00 - val_recall_5: 0.0000e+00 - val_f1_score: 0.2152 - 634ms/epoch - 79ms/step\n",
      "Epoch 11/50\n",
      "8/8 - 1s - loss: 1.4149 - accuracy: 0.3607 - auc_5: 0.5225 - precision_5: 0.0000e+00 - recall_5: 0.0000e+00 - f1_score: 0.1981 - val_loss: 1.3976 - val_accuracy: 0.3852 - val_auc_5: 0.5457 - val_precision_5: 0.0000e+00 - val_recall_5: 0.0000e+00 - val_f1_score: 0.2207 - 640ms/epoch - 80ms/step\n",
      "Epoch 12/50\n",
      "8/8 - 1s - loss: 1.4088 - accuracy: 0.3689 - auc_5: 0.5261 - precision_5: 0.0000e+00 - recall_5: 0.0000e+00 - f1_score: 0.2006 - val_loss: 1.3945 - val_accuracy: 0.3770 - val_auc_5: 0.5538 - val_precision_5: 0.0000e+00 - val_recall_5: 0.0000e+00 - val_f1_score: 0.2028 - 650ms/epoch - 81ms/step\n",
      "Epoch 13/50\n",
      "8/8 - 1s - loss: 1.4058 - accuracy: 0.3689 - auc_5: 0.5332 - precision_5: 0.0000e+00 - recall_5: 0.0000e+00 - f1_score: 0.2013 - val_loss: 1.3848 - val_accuracy: 0.3689 - val_auc_5: 0.5620 - val_precision_5: 0.0000e+00 - val_recall_5: 0.0000e+00 - val_f1_score: 0.1977 - 644ms/epoch - 81ms/step\n",
      "Epoch 14/50\n",
      "8/8 - 1s - loss: 1.4025 - accuracy: 0.3648 - auc_5: 0.5416 - precision_5: 0.0000e+00 - recall_5: 0.0000e+00 - f1_score: 0.1984 - val_loss: 1.3780 - val_accuracy: 0.3689 - val_auc_5: 0.5712 - val_precision_5: 0.0000e+00 - val_recall_5: 0.0000e+00 - val_f1_score: 0.1986 - 639ms/epoch - 80ms/step\n",
      "Epoch 15/50\n",
      "8/8 - 1s - loss: 1.4025 - accuracy: 0.3811 - auc_5: 0.5429 - precision_5: 0.0000e+00 - recall_5: 0.0000e+00 - f1_score: 0.2365 - val_loss: 1.3836 - val_accuracy: 0.3770 - val_auc_5: 0.5624 - val_precision_5: 0.0000e+00 - val_recall_5: 0.0000e+00 - val_f1_score: 0.2439 - 644ms/epoch - 81ms/step\n",
      "Epoch 16/50\n",
      "8/8 - 1s - loss: 1.3971 - accuracy: 0.3852 - auc_5: 0.5380 - precision_5: 0.0000e+00 - recall_5: 0.0000e+00 - f1_score: 0.2475 - val_loss: 1.3809 - val_accuracy: 0.3770 - val_auc_5: 0.5633 - val_precision_5: 0.0000e+00 - val_recall_5: 0.0000e+00 - val_f1_score: 0.2457 - 645ms/epoch - 81ms/step\n",
      "Epoch 17/50\n",
      "8/8 - 1s - loss: 1.3951 - accuracy: 0.3811 - auc_5: 0.5382 - precision_5: 0.0000e+00 - recall_5: 0.0000e+00 - f1_score: 0.2420 - val_loss: 1.3849 - val_accuracy: 0.3770 - val_auc_5: 0.5577 - val_precision_5: 0.0000e+00 - val_recall_5: 0.0000e+00 - val_f1_score: 0.2496 - 646ms/epoch - 81ms/step\n",
      "Epoch 18/50\n",
      "8/8 - 1s - loss: 1.3926 - accuracy: 0.3811 - auc_5: 0.5346 - precision_5: 0.0000e+00 - recall_5: 0.0000e+00 - f1_score: 0.2470 - val_loss: 1.3833 - val_accuracy: 0.3770 - val_auc_5: 0.5578 - val_precision_5: 0.0000e+00 - val_recall_5: 0.0000e+00 - val_f1_score: 0.2540 - 642ms/epoch - 80ms/step\n",
      "Epoch 19/50\n",
      "8/8 - 1s - loss: 1.3923 - accuracy: 0.3770 - auc_5: 0.5343 - precision_5: 0.0000e+00 - recall_5: 0.0000e+00 - f1_score: 0.2515 - val_loss: 1.3828 - val_accuracy: 0.3770 - val_auc_5: 0.5630 - val_precision_5: 0.0000e+00 - val_recall_5: 0.0000e+00 - val_f1_score: 0.2540 - 650ms/epoch - 81ms/step\n",
      "Epoch 20/50\n",
      "8/8 - 1s - loss: 1.3902 - accuracy: 0.3770 - auc_5: 0.5407 - precision_5: 0.0000e+00 - recall_5: 0.0000e+00 - f1_score: 0.2515 - val_loss: 1.3752 - val_accuracy: 0.3770 - val_auc_5: 0.5662 - val_precision_5: 0.0000e+00 - val_recall_5: 0.0000e+00 - val_f1_score: 0.2540 - 636ms/epoch - 79ms/step\n",
      "Epoch 21/50\n",
      "8/8 - 1s - loss: 1.3889 - accuracy: 0.3770 - auc_5: 0.5383 - precision_5: 0.0000e+00 - recall_5: 0.0000e+00 - f1_score: 0.2515 - val_loss: 1.3757 - val_accuracy: 0.3770 - val_auc_5: 0.5700 - val_precision_5: 0.0000e+00 - val_recall_5: 0.0000e+00 - val_f1_score: 0.2558 - 652ms/epoch - 81ms/step\n",
      "Epoch 22/50\n",
      "8/8 - 1s - loss: 1.3863 - accuracy: 0.3770 - auc_5: 0.5468 - precision_5: 0.0000e+00 - recall_5: 0.0000e+00 - f1_score: 0.2520 - val_loss: 1.3721 - val_accuracy: 0.3770 - val_auc_5: 0.5729 - val_precision_5: 0.0000e+00 - val_recall_5: 0.0000e+00 - val_f1_score: 0.2558 - 653ms/epoch - 82ms/step\n",
      "Epoch 23/50\n",
      "8/8 - 1s - loss: 1.3851 - accuracy: 0.3770 - auc_5: 0.5420 - precision_5: 0.0000e+00 - recall_5: 0.0000e+00 - f1_score: 0.2520 - val_loss: 1.3763 - val_accuracy: 0.3770 - val_auc_5: 0.5660 - val_precision_5: 0.0000e+00 - val_recall_5: 0.0000e+00 - val_f1_score: 0.2558 - 639ms/epoch - 80ms/step\n",
      "Epoch 24/50\n",
      "8/8 - 1s - loss: 1.3837 - accuracy: 0.3770 - auc_5: 0.5385 - precision_5: 0.0000e+00 - recall_5: 0.0000e+00 - f1_score: 0.2520 - val_loss: 1.3768 - val_accuracy: 0.3770 - val_auc_5: 0.5635 - val_precision_5: 0.0000e+00 - val_recall_5: 0.0000e+00 - val_f1_score: 0.2558 - 647ms/epoch - 81ms/step\n",
      "Epoch 25/50\n",
      "8/8 - 1s - loss: 1.3813 - accuracy: 0.3770 - auc_5: 0.5390 - precision_5: 0.0000e+00 - recall_5: 0.0000e+00 - f1_score: 0.2520 - val_loss: 1.3759 - val_accuracy: 0.3689 - val_auc_5: 0.5640 - val_precision_5: 0.0000e+00 - val_recall_5: 0.0000e+00 - val_f1_score: 0.2482 - 649ms/epoch - 81ms/step\n",
      "Epoch 26/50\n",
      "8/8 - 1s - loss: 1.3804 - accuracy: 0.3811 - auc_5: 0.5450 - precision_5: 0.0000e+00 - recall_5: 0.0000e+00 - f1_score: 0.2590 - val_loss: 1.3726 - val_accuracy: 0.3607 - val_auc_5: 0.5698 - val_precision_5: 0.0000e+00 - val_recall_5: 0.0000e+00 - val_f1_score: 0.2361 - 642ms/epoch - 80ms/step\n",
      "Epoch 27/50\n",
      "8/8 - 1s - loss: 1.3767 - accuracy: 0.3893 - auc_5: 0.5518 - precision_5: 0.0000e+00 - recall_5: 0.0000e+00 - f1_score: 0.2768 - val_loss: 1.3706 - val_accuracy: 0.3607 - val_auc_5: 0.5702 - val_precision_5: 0.0000e+00 - val_recall_5: 0.0000e+00 - val_f1_score: 0.2361 - 650ms/epoch - 81ms/step\n",
      "Epoch 28/50\n",
      "8/8 - 1s - loss: 1.3740 - accuracy: 0.3811 - auc_5: 0.5513 - precision_5: 0.0000e+00 - recall_5: 0.0000e+00 - f1_score: 0.2618 - val_loss: 1.3713 - val_accuracy: 0.3607 - val_auc_5: 0.5677 - val_precision_5: 0.0000e+00 - val_recall_5: 0.0000e+00 - val_f1_score: 0.2361 - 651ms/epoch - 81ms/step\n",
      "Epoch 29/50\n",
      "8/8 - 1s - loss: 1.3727 - accuracy: 0.3852 - auc_5: 0.5496 - precision_5: 0.0000e+00 - recall_5: 0.0000e+00 - f1_score: 0.2709 - val_loss: 1.3705 - val_accuracy: 0.3607 - val_auc_5: 0.5700 - val_precision_5: 0.0000e+00 - val_recall_5: 0.0000e+00 - val_f1_score: 0.2361 - 641ms/epoch - 80ms/step\n",
      "Epoch 30/50\n",
      "8/8 - 1s - loss: 1.3712 - accuracy: 0.3934 - auc_5: 0.5602 - precision_5: 0.0000e+00 - recall_5: 0.0000e+00 - f1_score: 0.2838 - val_loss: 1.3716 - val_accuracy: 0.3607 - val_auc_5: 0.5817 - val_precision_5: 0.0000e+00 - val_recall_5: 0.0000e+00 - val_f1_score: 0.2361 - 646ms/epoch - 81ms/step\n",
      "Epoch 31/50\n",
      "8/8 - 1s - loss: 1.3697 - accuracy: 0.3852 - auc_5: 0.5609 - precision_5: 0.0000e+00 - recall_5: 0.0000e+00 - f1_score: 0.2685 - val_loss: 1.3716 - val_accuracy: 0.3607 - val_auc_5: 0.5850 - val_precision_5: 0.0000e+00 - val_recall_5: 0.0000e+00 - val_f1_score: 0.2361 - 650ms/epoch - 81ms/step\n",
      "Epoch 32/50\n",
      "8/8 - 1s - loss: 1.3686 - accuracy: 0.3811 - auc_5: 0.5629 - precision_5: 0.0000e+00 - recall_5: 0.0000e+00 - f1_score: 0.2664 - val_loss: 1.3702 - val_accuracy: 0.3607 - val_auc_5: 0.5869 - val_precision_5: 0.0000e+00 - val_recall_5: 0.0000e+00 - val_f1_score: 0.2361 - 647ms/epoch - 81ms/step\n",
      "Epoch 33/50\n",
      "8/8 - 1s - loss: 1.3683 - accuracy: 0.3811 - auc_5: 0.5596 - precision_5: 0.0000e+00 - recall_5: 0.0000e+00 - f1_score: 0.2664 - val_loss: 1.3767 - val_accuracy: 0.3607 - val_auc_5: 0.5778 - val_precision_5: 0.0000e+00 - val_recall_5: 0.0000e+00 - val_f1_score: 0.2361 - 648ms/epoch - 81ms/step\n",
      "Epoch 34/50\n",
      "8/8 - 1s - loss: 1.3648 - accuracy: 0.3852 - auc_5: 0.5629 - precision_5: 0.0000e+00 - recall_5: 0.0000e+00 - f1_score: 0.2688 - val_loss: 1.3733 - val_accuracy: 0.3607 - val_auc_5: 0.5813 - val_precision_5: 0.0000e+00 - val_recall_5: 0.0000e+00 - val_f1_score: 0.2361 - 678ms/epoch - 85ms/step\n",
      "Epoch 35/50\n",
      "8/8 - 1s - loss: 1.3649 - accuracy: 0.3852 - auc_5: 0.5654 - precision_5: 0.0000e+00 - recall_5: 0.0000e+00 - f1_score: 0.2685 - val_loss: 1.3718 - val_accuracy: 0.3607 - val_auc_5: 0.5862 - val_precision_5: 0.0000e+00 - val_recall_5: 0.0000e+00 - val_f1_score: 0.2384 - 647ms/epoch - 81ms/step\n",
      "Epoch 36/50\n",
      "8/8 - 1s - loss: 1.3635 - accuracy: 0.3934 - auc_5: 0.5728 - precision_5: 0.0000e+00 - recall_5: 0.0000e+00 - f1_score: 0.2720 - val_loss: 1.3659 - val_accuracy: 0.3607 - val_auc_5: 0.5932 - val_precision_5: 0.0000e+00 - val_recall_5: 0.0000e+00 - val_f1_score: 0.2361 - 647ms/epoch - 81ms/step\n",
      "Epoch 37/50\n",
      "8/8 - 1s - loss: 1.3612 - accuracy: 0.3934 - auc_5: 0.5739 - precision_5: 0.0000e+00 - recall_5: 0.0000e+00 - f1_score: 0.2721 - val_loss: 1.3690 - val_accuracy: 0.3607 - val_auc_5: 0.5897 - val_precision_5: 0.0000e+00 - val_recall_5: 0.0000e+00 - val_f1_score: 0.2361 - 652ms/epoch - 81ms/step\n",
      "Epoch 38/50\n",
      "8/8 - 1s - loss: 1.3603 - accuracy: 0.3934 - auc_5: 0.5705 - precision_5: 0.0000e+00 - recall_5: 0.0000e+00 - f1_score: 0.2720 - val_loss: 1.3708 - val_accuracy: 0.3607 - val_auc_5: 0.5855 - val_precision_5: 0.0000e+00 - val_recall_5: 0.0000e+00 - val_f1_score: 0.2361 - 651ms/epoch - 81ms/step\n",
      "Epoch 39/50\n",
      "8/8 - 1s - loss: 1.3598 - accuracy: 0.3893 - auc_5: 0.5700 - precision_5: 0.0000e+00 - recall_5: 0.0000e+00 - f1_score: 0.2703 - val_loss: 1.3704 - val_accuracy: 0.3607 - val_auc_5: 0.5867 - val_precision_5: 0.0000e+00 - val_recall_5: 0.0000e+00 - val_f1_score: 0.2384 - 652ms/epoch - 82ms/step\n",
      "Epoch 40/50\n",
      "8/8 - 1s - loss: 1.3576 - accuracy: 0.3975 - auc_5: 0.5720 - precision_5: 0.0000e+00 - recall_5: 0.0000e+00 - f1_score: 0.2737 - val_loss: 1.3690 - val_accuracy: 0.3607 - val_auc_5: 0.5883 - val_precision_5: 0.0000e+00 - val_recall_5: 0.0000e+00 - val_f1_score: 0.2384 - 650ms/epoch - 81ms/step\n",
      "Epoch 41/50\n",
      "8/8 - 1s - loss: 1.3564 - accuracy: 0.3934 - auc_5: 0.5729 - precision_5: 0.0000e+00 - recall_5: 0.0000e+00 - f1_score: 0.2719 - val_loss: 1.3658 - val_accuracy: 0.3607 - val_auc_5: 0.5905 - val_precision_5: 0.0000e+00 - val_recall_5: 0.0000e+00 - val_f1_score: 0.2384 - 654ms/epoch - 82ms/step\n",
      "Epoch 42/50\n",
      "8/8 - 1s - loss: 1.3552 - accuracy: 0.4016 - auc_5: 0.5719 - precision_5: 0.0000e+00 - recall_5: 0.0000e+00 - f1_score: 0.2790 - val_loss: 1.3686 - val_accuracy: 0.3607 - val_auc_5: 0.5859 - val_precision_5: 0.0000e+00 - val_recall_5: 0.0000e+00 - val_f1_score: 0.2384 - 649ms/epoch - 81ms/step\n",
      "Epoch 43/50\n",
      "8/8 - 1s - loss: 1.3534 - accuracy: 0.4016 - auc_5: 0.5748 - precision_5: 0.0000e+00 - recall_5: 0.0000e+00 - f1_score: 0.2790 - val_loss: 1.3656 - val_accuracy: 0.3689 - val_auc_5: 0.5899 - val_precision_5: 0.0000e+00 - val_recall_5: 0.0000e+00 - val_f1_score: 0.2489 - 648ms/epoch - 81ms/step\n",
      "Epoch 44/50\n",
      "8/8 - 1s - loss: 1.3521 - accuracy: 0.4016 - auc_5: 0.5787 - precision_5: 0.0000e+00 - recall_5: 0.0000e+00 - f1_score: 0.2790 - val_loss: 1.3569 - val_accuracy: 0.3852 - val_auc_5: 0.6036 - val_precision_5: 0.0000e+00 - val_recall_5: 0.0000e+00 - val_f1_score: 0.2525 - 650ms/epoch - 81ms/step\n",
      "Epoch 45/50\n",
      "8/8 - 1s - loss: 1.3475 - accuracy: 0.4221 - auc_5: 0.5951 - precision_5: 0.0000e+00 - recall_5: 0.0000e+00 - f1_score: 0.2879 - val_loss: 1.3415 - val_accuracy: 0.4180 - val_auc_5: 0.6278 - val_precision_5: 0.0000e+00 - val_recall_5: 0.0000e+00 - val_f1_score: 0.2677 - 643ms/epoch - 80ms/step\n",
      "Epoch 46/50\n",
      "8/8 - 1s - loss: 1.3439 - accuracy: 0.4303 - auc_5: 0.6078 - precision_5: 0.0000e+00 - recall_5: 0.0000e+00 - f1_score: 0.2884 - val_loss: 1.3389 - val_accuracy: 0.4180 - val_auc_5: 0.6310 - val_precision_5: 0.0000e+00 - val_recall_5: 0.0000e+00 - val_f1_score: 0.2653 - 653ms/epoch - 82ms/step\n",
      "Epoch 47/50\n",
      "8/8 - 1s - loss: 1.3425 - accuracy: 0.4303 - auc_5: 0.6108 - precision_5: 0.0000e+00 - recall_5: 0.0000e+00 - f1_score: 0.2884 - val_loss: 1.3385 - val_accuracy: 0.4098 - val_auc_5: 0.6320 - val_precision_5: 0.0000e+00 - val_recall_5: 0.0000e+00 - val_f1_score: 0.2604 - 652ms/epoch - 81ms/step\n",
      "Epoch 48/50\n",
      "8/8 - 1s - loss: 1.3422 - accuracy: 0.4303 - auc_5: 0.6116 - precision_5: 0.0000e+00 - recall_5: 0.0000e+00 - f1_score: 0.2884 - val_loss: 1.3402 - val_accuracy: 0.4098 - val_auc_5: 0.6318 - val_precision_5: 0.0000e+00 - val_recall_5: 0.0000e+00 - val_f1_score: 0.2627 - 645ms/epoch - 81ms/step\n",
      "Epoch 49/50\n",
      "8/8 - 1s - loss: 1.3398 - accuracy: 0.4221 - auc_5: 0.6169 - precision_5: 0.0000e+00 - recall_5: 0.0000e+00 - f1_score: 0.2780 - val_loss: 1.3395 - val_accuracy: 0.4016 - val_auc_5: 0.6344 - val_precision_5: 0.0000e+00 - val_recall_5: 0.0000e+00 - val_f1_score: 0.2602 - 649ms/epoch - 81ms/step\n",
      "Epoch 50/50\n",
      "8/8 - 1s - loss: 1.3377 - accuracy: 0.4139 - auc_5: 0.6174 - precision_5: 0.0000e+00 - recall_5: 0.0000e+00 - f1_score: 0.2745 - val_loss: 1.3421 - val_accuracy: 0.3525 - val_auc_5: 0.6291 - val_precision_5: 0.0000e+00 - val_recall_5: 0.0000e+00 - val_f1_score: 0.2416 - 650ms/epoch - 81ms/step\n"
     ]
    },
    {
     "data": {
      "image/png": "[encoded data removed]",
      "text/plain": [
       "<Figure size 432x288 with 1 Axes>"
      ]
     },
     "metadata": {
      "needs_background": "light"
     },
     "output_type": "display_data"
    },
    {
     "name": "stdout",
     "output_type": "stream",
     "text": [
      "Epoch 1/50\n",
      "8/8 - 3s - loss: 1.4671 - accuracy: 0.6393 - auc_6: 0.7384 - precision_6: 0.6615 - recall_6: 0.1762 - f1_score: 0.1950 - val_loss: 1.1094 - val_accuracy: 0.6557 - val_auc_6: 0.7854 - val_precision_6: 0.6786 - val_recall_6: 0.1557 - val_f1_score: 0.1980 - 3s/epoch - 330ms/step\n",
      "Epoch 2/50\n",
      "8/8 - 1s - loss: 1.4445 - accuracy: 0.6393 - auc_6: 0.7428 - precision_6: 0.7292 - recall_6: 0.1434 - f1_score: 0.1950 - val_loss: 1.1123 - val_accuracy: 0.6557 - val_auc_6: 0.8002 - val_precision_6: 0.7200 - val_recall_6: 0.1475 - val_f1_score: 0.1980 - 678ms/epoch - 85ms/step\n",
      "Epoch 3/50\n",
      "8/8 - 1s - loss: 1.4114 - accuracy: 0.6393 - auc_6: 0.7584 - precision_6: 0.7333 - recall_6: 0.1352 - f1_score: 0.1950 - val_loss: 1.1210 - val_accuracy: 0.6557 - val_auc_6: 0.7998 - val_precision_6: 0.6667 - val_recall_6: 0.1148 - val_f1_score: 0.1980 - 645ms/epoch - 81ms/step\n",
      "Epoch 4/50\n",
      "8/8 - 1s - loss: 1.3949 - accuracy: 0.6393 - auc_6: 0.7633 - precision_6: 0.7576 - recall_6: 0.1025 - f1_score: 0.1950 - val_loss: 1.1337 - val_accuracy: 0.6475 - val_auc_6: 0.8030 - val_precision_6: 0.6500 - val_recall_6: 0.1066 - val_f1_score: 0.1965 - 643ms/epoch - 80ms/step\n",
      "Epoch 5/50\n",
      "8/8 - 1s - loss: 1.3787 - accuracy: 0.6230 - auc_6: 0.7707 - precision_6: 0.7778 - recall_6: 0.0861 - f1_score: 0.1919 - val_loss: 1.1471 - val_accuracy: 0.6148 - val_auc_6: 0.8008 - val_precision_6: 0.6875 - val_recall_6: 0.0902 - val_f1_score: 0.1904 - 653ms/epoch - 82ms/step\n",
      "Epoch 6/50\n",
      "8/8 - 1s - loss: 1.3614 - accuracy: 0.5779 - auc_6: 0.7660 - precision_6: 0.7273 - recall_6: 0.0328 - f1_score: 0.2164 - val_loss: 1.1623 - val_accuracy: 0.5656 - val_auc_6: 0.7892 - val_precision_6: 0.6364 - val_recall_6: 0.0574 - val_f1_score: 0.2329 - 643ms/epoch - 80ms/step\n",
      "Epoch 7/50\n",
      "8/8 - 1s - loss: 1.3469 - accuracy: 0.5246 - auc_6: 0.7609 - precision_6: 1.0000 - recall_6: 0.0246 - f1_score: 0.2351 - val_loss: 1.1748 - val_accuracy: 0.5410 - val_auc_6: 0.7861 - val_precision_6: 0.6250 - val_recall_6: 0.0410 - val_f1_score: 0.2310 - 646ms/epoch - 81ms/step\n",
      "Epoch 8/50\n",
      "8/8 - 1s - loss: 1.3344 - accuracy: 0.5164 - auc_6: 0.7616 - precision_6: 1.0000 - recall_6: 0.0205 - f1_score: 0.2439 - val_loss: 1.1838 - val_accuracy: 0.5246 - val_auc_6: 0.7854 - val_precision_6: 0.4000 - val_recall_6: 0.0164 - val_f1_score: 0.2506 - 652ms/epoch - 82ms/step\n",
      "Epoch 9/50\n",
      "8/8 - 1s - loss: 1.3221 - accuracy: 0.5000 - auc_6: 0.7659 - precision_6: 0.0000e+00 - recall_6: 0.0000e+00 - f1_score: 0.2526 - val_loss: 1.1879 - val_accuracy: 0.4590 - val_auc_6: 0.7830 - val_precision_6: 0.2500 - val_recall_6: 0.0082 - val_f1_score: 0.2787 - 652ms/epoch - 81ms/step\n",
      "Epoch 10/50\n",
      "8/8 - 1s - loss: 1.3126 - accuracy: 0.4467 - auc_6: 0.7688 - precision_6: 0.0000e+00 - recall_6: 0.0000e+00 - f1_score: 0.2620 - val_loss: 1.1945 - val_accuracy: 0.4508 - val_auc_6: 0.7852 - val_precision_6: 0.5000 - val_recall_6: 0.0082 - val_f1_score: 0.2758 - 650ms/epoch - 81ms/step\n",
      "Epoch 11/50\n",
      "8/8 - 1s - loss: 1.3042 - accuracy: 0.4467 - auc_6: 0.7735 - precision_6: 0.0000e+00 - recall_6: 0.0000e+00 - f1_score: 0.2623 - val_loss: 1.2016 - val_accuracy: 0.4590 - val_auc_6: 0.7807 - val_precision_6: 0.5000 - val_recall_6: 0.0082 - val_f1_score: 0.2805 - 649ms/epoch - 81ms/step\n",
      "Epoch 12/50\n",
      "8/8 - 1s - loss: 1.2954 - accuracy: 0.4467 - auc_6: 0.7740 - precision_6: 0.0000e+00 - recall_6: 0.0000e+00 - f1_score: 0.2623 - val_loss: 1.2083 - val_accuracy: 0.4590 - val_auc_6: 0.7804 - val_precision_6: 0.0000e+00 - val_recall_6: 0.0000e+00 - val_f1_score: 0.2790 - 643ms/epoch - 80ms/step\n",
      "Epoch 13/50\n",
      "8/8 - 1s - loss: 1.2880 - accuracy: 0.4467 - auc_6: 0.7756 - precision_6: 0.0000e+00 - recall_6: 0.0000e+00 - f1_score: 0.2623 - val_loss: 1.2161 - val_accuracy: 0.4590 - val_auc_6: 0.7750 - val_precision_6: 0.0000e+00 - val_recall_6: 0.0000e+00 - val_f1_score: 0.2768 - 649ms/epoch - 81ms/step\n",
      "Epoch 14/50\n",
      "8/8 - 1s - loss: 1.2771 - accuracy: 0.4508 - auc_6: 0.7845 - precision_6: 0.0000e+00 - recall_6: 0.0000e+00 - f1_score: 0.2672 - val_loss: 1.2207 - val_accuracy: 0.4590 - val_auc_6: 0.7744 - val_precision_6: 0.0000e+00 - val_recall_6: 0.0000e+00 - val_f1_score: 0.2768 - 648ms/epoch - 81ms/step\n",
      "Epoch 15/50\n",
      "8/8 - 1s - loss: 1.2713 - accuracy: 0.4508 - auc_6: 0.7860 - precision_6: 0.0000e+00 - recall_6: 0.0000e+00 - f1_score: 0.2670 - val_loss: 1.2236 - val_accuracy: 0.4098 - val_auc_6: 0.7709 - val_precision_6: 0.0000e+00 - val_recall_6: 0.0000e+00 - val_f1_score: 0.2508 - 652ms/epoch - 82ms/step\n",
      "Epoch 16/50\n",
      "8/8 - 1s - loss: 1.2659 - accuracy: 0.4508 - auc_6: 0.7864 - precision_6: 0.0000e+00 - recall_6: 0.0000e+00 - f1_score: 0.2947 - val_loss: 1.2312 - val_accuracy: 0.3852 - val_auc_6: 0.7578 - val_precision_6: 0.0000e+00 - val_recall_6: 0.0000e+00 - val_f1_score: 0.2462 - 647ms/epoch - 81ms/step\n",
      "Epoch 17/50\n",
      "8/8 - 1s - loss: 1.2624 - accuracy: 0.4344 - auc_6: 0.7792 - precision_6: 0.0000e+00 - recall_6: 0.0000e+00 - f1_score: 0.2859 - val_loss: 1.2366 - val_accuracy: 0.3934 - val_auc_6: 0.7549 - val_precision_6: 0.0000e+00 - val_recall_6: 0.0000e+00 - val_f1_score: 0.2559 - 645ms/epoch - 81ms/step\n",
      "Epoch 18/50\n",
      "8/8 - 1s - loss: 1.2589 - accuracy: 0.4221 - auc_6: 0.7740 - precision_6: 0.0000e+00 - recall_6: 0.0000e+00 - f1_score: 0.2788 - val_loss: 1.2413 - val_accuracy: 0.3770 - val_auc_6: 0.7490 - val_precision_6: 0.0000e+00 - val_recall_6: 0.0000e+00 - val_f1_score: 0.2474 - 654ms/epoch - 82ms/step\n",
      "Epoch 19/50\n",
      "8/8 - 1s - loss: 1.2553 - accuracy: 0.4262 - auc_6: 0.7746 - precision_6: 0.0000e+00 - recall_6: 0.0000e+00 - f1_score: 0.2861 - val_loss: 1.2432 - val_accuracy: 0.3770 - val_auc_6: 0.7453 - val_precision_6: 0.0000e+00 - val_recall_6: 0.0000e+00 - val_f1_score: 0.2527 - 641ms/epoch - 80ms/step\n",
      "Epoch 20/50\n",
      "8/8 - 1s - loss: 1.2527 - accuracy: 0.4221 - auc_6: 0.7752 - precision_6: 0.0000e+00 - recall_6: 0.0000e+00 - f1_score: 0.2858 - val_loss: 1.2437 - val_accuracy: 0.3770 - val_auc_6: 0.7433 - val_precision_6: 0.0000e+00 - val_recall_6: 0.0000e+00 - val_f1_score: 0.2527 - 647ms/epoch - 81ms/step\n",
      "Epoch 21/50\n",
      "8/8 - 1s - loss: 1.2506 - accuracy: 0.4180 - auc_6: 0.7751 - precision_6: 0.0000e+00 - recall_6: 0.0000e+00 - f1_score: 0.2836 - val_loss: 1.2491 - val_accuracy: 0.3689 - val_auc_6: 0.7381 - val_precision_6: 0.0000e+00 - val_recall_6: 0.0000e+00 - val_f1_score: 0.2484 - 652ms/epoch - 81ms/step\n",
      "Epoch 22/50\n",
      "8/8 - 1s - loss: 1.2472 - accuracy: 0.4098 - auc_6: 0.7752 - precision_6: 0.0000e+00 - recall_6: 0.0000e+00 - f1_score: 0.2791 - val_loss: 1.2530 - val_accuracy: 0.3607 - val_auc_6: 0.7351 - val_precision_6: 0.0000e+00 - val_recall_6: 0.0000e+00 - val_f1_score: 0.2441 - 654ms/epoch - 82ms/step\n",
      "Epoch 23/50\n",
      "8/8 - 1s - loss: 1.2439 - accuracy: 0.4016 - auc_6: 0.7740 - precision_6: 0.0000e+00 - recall_6: 0.0000e+00 - f1_score: 0.2747 - val_loss: 1.2534 - val_accuracy: 0.3607 - val_auc_6: 0.7293 - val_precision_6: 0.0000e+00 - val_recall_6: 0.0000e+00 - val_f1_score: 0.2441 - 650ms/epoch - 81ms/step\n",
      "Epoch 24/50\n",
      "8/8 - 1s - loss: 1.2409 - accuracy: 0.4016 - auc_6: 0.7693 - precision_6: 0.0000e+00 - recall_6: 0.0000e+00 - f1_score: 0.2743 - val_loss: 1.2561 - val_accuracy: 0.3689 - val_auc_6: 0.7235 - val_precision_6: 0.0000e+00 - val_recall_6: 0.0000e+00 - val_f1_score: 0.2484 - 651ms/epoch - 81ms/step\n",
      "Epoch 25/50\n",
      "8/8 - 1s - loss: 1.2383 - accuracy: 0.4057 - auc_6: 0.7648 - precision_6: 0.0000e+00 - recall_6: 0.0000e+00 - f1_score: 0.2765 - val_loss: 1.2559 - val_accuracy: 0.3689 - val_auc_6: 0.7154 - val_precision_6: 0.0000e+00 - val_recall_6: 0.0000e+00 - val_f1_score: 0.2484 - 647ms/epoch - 81ms/step\n",
      "Epoch 26/50\n",
      "8/8 - 1s - loss: 1.2354 - accuracy: 0.4057 - auc_6: 0.7624 - precision_6: 0.0000e+00 - recall_6: 0.0000e+00 - f1_score: 0.2765 - val_loss: 1.2575 - val_accuracy: 0.3689 - val_auc_6: 0.7169 - val_precision_6: 0.0000e+00 - val_recall_6: 0.0000e+00 - val_f1_score: 0.2484 - 652ms/epoch - 82ms/step\n",
      "Epoch 27/50\n",
      "8/8 - 1s - loss: 1.2336 - accuracy: 0.4057 - auc_6: 0.7603 - precision_6: 0.0000e+00 - recall_6: 0.0000e+00 - f1_score: 0.2765 - val_loss: 1.2581 - val_accuracy: 0.3689 - val_auc_6: 0.7108 - val_precision_6: 0.0000e+00 - val_recall_6: 0.0000e+00 - val_f1_score: 0.2484 - 648ms/epoch - 81ms/step\n",
      "Epoch 28/50\n",
      "8/8 - 1s - loss: 1.2308 - accuracy: 0.4057 - auc_6: 0.7570 - precision_6: 0.0000e+00 - recall_6: 0.0000e+00 - f1_score: 0.2764 - val_loss: 1.2611 - val_accuracy: 0.3689 - val_auc_6: 0.7072 - val_precision_6: 0.0000e+00 - val_recall_6: 0.0000e+00 - val_f1_score: 0.2481 - 642ms/epoch - 80ms/step\n",
      "Epoch 29/50\n",
      "8/8 - 1s - loss: 1.2286 - accuracy: 0.4057 - auc_6: 0.7517 - precision_6: 0.0000e+00 - recall_6: 0.0000e+00 - f1_score: 0.2764 - val_loss: 1.2633 - val_accuracy: 0.3689 - val_auc_6: 0.7046 - val_precision_6: 0.0000e+00 - val_recall_6: 0.0000e+00 - val_f1_score: 0.2481 - 646ms/epoch - 81ms/step\n",
      "Epoch 30/50\n",
      "8/8 - 1s - loss: 1.2265 - accuracy: 0.4098 - auc_6: 0.7515 - precision_6: 0.0000e+00 - recall_6: 0.0000e+00 - f1_score: 0.2801 - val_loss: 1.2644 - val_accuracy: 0.3689 - val_auc_6: 0.7029 - val_precision_6: 0.0000e+00 - val_recall_6: 0.0000e+00 - val_f1_score: 0.2481 - 649ms/epoch - 81ms/step\n",
      "Epoch 31/50\n",
      "8/8 - 1s - loss: 1.2246 - accuracy: 0.4098 - auc_6: 0.7527 - precision_6: 0.0000e+00 - recall_6: 0.0000e+00 - f1_score: 0.2801 - val_loss: 1.2653 - val_accuracy: 0.3689 - val_auc_6: 0.7024 - val_precision_6: 0.0000e+00 - val_recall_6: 0.0000e+00 - val_f1_score: 0.2481 - 644ms/epoch - 80ms/step\n",
      "Epoch 32/50\n",
      "8/8 - 1s - loss: 1.2241 - accuracy: 0.4098 - auc_6: 0.7509 - precision_6: 1.0000 - recall_6: 0.0041 - f1_score: 0.2799 - val_loss: 1.2671 - val_accuracy: 0.3689 - val_auc_6: 0.6989 - val_precision_6: 0.0000e+00 - val_recall_6: 0.0000e+00 - val_f1_score: 0.2481 - 649ms/epoch - 81ms/step\n",
      "Epoch 33/50\n",
      "8/8 - 1s - loss: 1.2213 - accuracy: 0.4098 - auc_6: 0.7501 - precision_6: 1.0000 - recall_6: 0.0041 - f1_score: 0.2799 - val_loss: 1.2719 - val_accuracy: 0.3689 - val_auc_6: 0.6961 - val_precision_6: 0.0000e+00 - val_recall_6: 0.0000e+00 - val_f1_score: 0.2481 - 648ms/epoch - 81ms/step\n",
      "Epoch 34/50\n",
      "8/8 - 1s - loss: 1.2191 - accuracy: 0.4016 - auc_6: 0.7482 - precision_6: 1.0000 - recall_6: 0.0041 - f1_score: 0.2754 - val_loss: 1.2755 - val_accuracy: 0.3689 - val_auc_6: 0.6916 - val_precision_6: 0.0000e+00 - val_recall_6: 0.0000e+00 - val_f1_score: 0.2481 - 675ms/epoch - 84ms/step\n",
      "Epoch 35/50\n",
      "8/8 - 1s - loss: 1.2173 - accuracy: 0.4016 - auc_6: 0.7484 - precision_6: 1.0000 - recall_6: 0.0041 - f1_score: 0.2754 - val_loss: 1.2758 - val_accuracy: 0.3689 - val_auc_6: 0.6913 - val_precision_6: 0.0000e+00 - val_recall_6: 0.0000e+00 - val_f1_score: 0.2481 - 648ms/epoch - 81ms/step\n",
      "Epoch 36/50\n",
      "8/8 - 1s - loss: 1.2156 - accuracy: 0.4016 - auc_6: 0.7486 - precision_6: 1.0000 - recall_6: 0.0041 - f1_score: 0.2754 - val_loss: 1.2762 - val_accuracy: 0.3689 - val_auc_6: 0.6909 - val_precision_6: 0.0000e+00 - val_recall_6: 0.0000e+00 - val_f1_score: 0.2481 - 652ms/epoch - 81ms/step\n",
      "Epoch 37/50\n",
      "8/8 - 1s - loss: 1.2144 - accuracy: 0.4057 - auc_6: 0.7482 - precision_6: 1.0000 - recall_6: 0.0041 - f1_score: 0.2777 - val_loss: 1.2760 - val_accuracy: 0.3689 - val_auc_6: 0.6892 - val_precision_6: 0.0000e+00 - val_recall_6: 0.0000e+00 - val_f1_score: 0.2481 - 647ms/epoch - 81ms/step\n",
      "Epoch 38/50\n",
      "8/8 - 1s - loss: 1.2126 - accuracy: 0.4057 - auc_6: 0.7491 - precision_6: 1.0000 - recall_6: 0.0041 - f1_score: 0.2777 - val_loss: 1.2757 - val_accuracy: 0.3689 - val_auc_6: 0.6904 - val_precision_6: 0.0000e+00 - val_recall_6: 0.0000e+00 - val_f1_score: 0.2481 - 649ms/epoch - 81ms/step\n",
      "Epoch 39/50\n",
      "8/8 - 1s - loss: 1.2111 - accuracy: 0.4098 - auc_6: 0.7491 - precision_6: 1.0000 - recall_6: 0.0041 - f1_score: 0.2797 - val_loss: 1.2743 - val_accuracy: 0.3934 - val_auc_6: 0.6897 - val_precision_6: 0.0000e+00 - val_recall_6: 0.0000e+00 - val_f1_score: 0.2601 - 654ms/epoch - 82ms/step\n",
      "Epoch 40/50\n",
      "8/8 - 1s - loss: 1.2096 - accuracy: 0.4344 - auc_6: 0.7504 - precision_6: 1.0000 - recall_6: 0.0041 - f1_score: 0.2922 - val_loss: 1.2762 - val_accuracy: 0.3934 - val_auc_6: 0.6865 - val_precision_6: 0.0000e+00 - val_recall_6: 0.0000e+00 - val_f1_score: 0.2557 - 646ms/epoch - 81ms/step\n",
      "Epoch 41/50\n",
      "8/8 - 1s - loss: 1.2087 - accuracy: 0.4385 - auc_6: 0.7508 - precision_6: 1.0000 - recall_6: 0.0041 - f1_score: 0.2969 - val_loss: 1.2741 - val_accuracy: 0.4098 - val_auc_6: 0.6882 - val_precision_6: 0.0000e+00 - val_recall_6: 0.0000e+00 - val_f1_score: 0.2729 - 647ms/epoch - 81ms/step\n",
      "Epoch 42/50\n",
      "8/8 - 1s - loss: 1.2064 - accuracy: 0.4508 - auc_6: 0.7520 - precision_6: 1.0000 - recall_6: 0.0041 - f1_score: 0.3111 - val_loss: 1.2744 - val_accuracy: 0.4098 - val_auc_6: 0.6885 - val_precision_6: 0.0000e+00 - val_recall_6: 0.0000e+00 - val_f1_score: 0.2729 - 783ms/epoch - 98ms/step\n",
      "Epoch 43/50\n",
      "8/8 - 1s - loss: 1.2053 - accuracy: 0.4385 - auc_6: 0.7484 - precision_6: 1.0000 - recall_6: 0.0041 - f1_score: 0.3024 - val_loss: 1.2801 - val_accuracy: 0.4016 - val_auc_6: 0.6811 - val_precision_6: 0.0000e+00 - val_recall_6: 0.0000e+00 - val_f1_score: 0.2690 - 721ms/epoch - 90ms/step\n",
      "Epoch 44/50\n",
      "8/8 - 1s - loss: 1.2034 - accuracy: 0.4344 - auc_6: 0.7473 - precision_6: 1.0000 - recall_6: 0.0041 - f1_score: 0.2981 - val_loss: 1.2811 - val_accuracy: 0.4016 - val_auc_6: 0.6770 - val_precision_6: 0.0000e+00 - val_recall_6: 0.0000e+00 - val_f1_score: 0.2688 - 780ms/epoch - 98ms/step\n",
      "Epoch 45/50\n",
      "8/8 - 1s - loss: 1.2020 - accuracy: 0.4344 - auc_6: 0.7462 - precision_6: 1.0000 - recall_6: 0.0041 - f1_score: 0.2981 - val_loss: 1.2803 - val_accuracy: 0.4016 - val_auc_6: 0.6769 - val_precision_6: 0.0000e+00 - val_recall_6: 0.0000e+00 - val_f1_score: 0.2688 - 704ms/epoch - 88ms/step\n",
      "Epoch 46/50\n",
      "8/8 - 1s - loss: 1.2007 - accuracy: 0.4385 - auc_6: 0.7458 - precision_6: 1.0000 - recall_6: 0.0041 - f1_score: 0.3026 - val_loss: 1.2816 - val_accuracy: 0.4016 - val_auc_6: 0.6769 - val_precision_6: 0.0000e+00 - val_recall_6: 0.0000e+00 - val_f1_score: 0.2688 - 700ms/epoch - 87ms/step\n",
      "Epoch 47/50\n",
      "8/8 - 1s - loss: 1.1991 - accuracy: 0.4385 - auc_6: 0.7450 - precision_6: 1.0000 - recall_6: 0.0041 - f1_score: 0.3026 - val_loss: 1.2822 - val_accuracy: 0.3852 - val_auc_6: 0.6760 - val_precision_6: 0.0000e+00 - val_recall_6: 0.0000e+00 - val_f1_score: 0.2605 - 663ms/epoch - 83ms/step\n",
      "Epoch 48/50\n",
      "8/8 - 1s - loss: 1.1983 - accuracy: 0.4426 - auc_6: 0.7445 - precision_6: 1.0000 - recall_6: 0.0041 - f1_score: 0.3093 - val_loss: 1.2796 - val_accuracy: 0.4180 - val_auc_6: 0.6779 - val_precision_6: 0.0000e+00 - val_recall_6: 0.0000e+00 - val_f1_score: 0.2971 - 743ms/epoch - 93ms/step\n",
      "Epoch 49/50\n",
      "8/8 - 1s - loss: 1.1959 - accuracy: 0.4549 - auc_6: 0.7464 - precision_6: 1.0000 - recall_6: 0.0041 - f1_score: 0.3245 - val_loss: 1.2826 - val_accuracy: 0.4180 - val_auc_6: 0.6714 - val_precision_6: 0.0000e+00 - val_recall_6: 0.0000e+00 - val_f1_score: 0.2971 - 666ms/epoch - 83ms/step\n",
      "Epoch 50/50\n",
      "8/8 - 1s - loss: 1.1952 - accuracy: 0.4590 - auc_6: 0.7432 - precision_6: 1.0000 - recall_6: 0.0041 - f1_score: 0.3297 - val_loss: 1.2842 - val_accuracy: 0.4180 - val_auc_6: 0.6718 - val_precision_6: 0.0000e+00 - val_recall_6: 0.0000e+00 - val_f1_score: 0.2971 - 696ms/epoch - 87ms/step\n"
     ]
    },
    {
     "data": {
      "image/png": "[encoded data removed]",
      "text/plain": [
       "<Figure size 432x288 with 1 Axes>"
      ]
     },
     "metadata": {
      "needs_background": "light"
     },
     "output_type": "display_data"
    },
    {
     "name": "stdout",
     "output_type": "stream",
     "text": [
      "Epoch 1/50\n",
      "8/8 - 3s - loss: 1.4890 - accuracy: 0.4713 - auc_7: 0.7270 - precision_7: 1.0000 - recall_7: 0.0123 - f1_score: 0.1928 - val_loss: 1.3043 - val_accuracy: 0.4836 - val_auc_7: 0.6716 - val_precision_7: 0.0000e+00 - val_recall_7: 0.0000e+00 - val_f1_score: 0.1715 - 3s/epoch - 382ms/step\n",
      "Epoch 2/50\n",
      "8/8 - 1s - loss: 1.4819 - accuracy: 0.4959 - auc_7: 0.7315 - precision_7: 1.0000 - recall_7: 0.0123 - f1_score: 0.2337 - val_loss: 1.3024 - val_accuracy: 0.5164 - val_auc_7: 0.6694 - val_precision_7: 0.0000e+00 - val_recall_7: 0.0000e+00 - val_f1_score: 0.2173 - 768ms/epoch - 96ms/step\n",
      "Epoch 3/50\n",
      "8/8 - 1s - loss: 1.4685 - accuracy: 0.4877 - auc_7: 0.7387 - precision_7: 1.0000 - recall_7: 0.0123 - f1_score: 0.2327 - val_loss: 1.2987 - val_accuracy: 0.4672 - val_auc_7: 0.6742 - val_precision_7: 0.0000e+00 - val_recall_7: 0.0000e+00 - val_f1_score: 0.2077 - 669ms/epoch - 84ms/step\n",
      "Epoch 4/50\n",
      "8/8 - 1s - loss: 1.4625 - accuracy: 0.4795 - auc_7: 0.7410 - precision_7: 1.0000 - recall_7: 0.0123 - f1_score: 0.2306 - val_loss: 1.3001 - val_accuracy: 0.4672 - val_auc_7: 0.6733 - val_precision_7: 0.0000e+00 - val_recall_7: 0.0000e+00 - val_f1_score: 0.2047 - 736ms/epoch - 92ms/step\n",
      "Epoch 5/50\n",
      "8/8 - 1s - loss: 1.4576 - accuracy: 0.4672 - auc_7: 0.7407 - precision_7: 1.0000 - recall_7: 0.0123 - f1_score: 0.2233 - val_loss: 1.3003 - val_accuracy: 0.4672 - val_auc_7: 0.6711 - val_precision_7: 0.0000e+00 - val_recall_7: 0.0000e+00 - val_f1_score: 0.2034 - 676ms/epoch - 84ms/step\n",
      "Epoch 6/50\n",
      "8/8 - 1s - loss: 1.4532 - accuracy: 0.4631 - auc_7: 0.7418 - precision_7: 1.0000 - recall_7: 0.0123 - f1_score: 0.2203 - val_loss: 1.3015 - val_accuracy: 0.4262 - val_auc_7: 0.6718 - val_precision_7: 0.0000e+00 - val_recall_7: 0.0000e+00 - val_f1_score: 0.1883 - 743ms/epoch - 93ms/step\n",
      "Epoch 7/50\n",
      "8/8 - 1s - loss: 1.4510 - accuracy: 0.4631 - auc_7: 0.7356 - precision_7: 1.0000 - recall_7: 0.0164 - f1_score: 0.2322 - val_loss: 1.3063 - val_accuracy: 0.4344 - val_auc_7: 0.6596 - val_precision_7: 0.0000e+00 - val_recall_7: 0.0000e+00 - val_f1_score: 0.1912 - 670ms/epoch - 84ms/step\n",
      "Epoch 8/50\n",
      "8/8 - 1s - loss: 1.4479 - accuracy: 0.4713 - auc_7: 0.7349 - precision_7: 1.0000 - recall_7: 0.0164 - f1_score: 0.2353 - val_loss: 1.3098 - val_accuracy: 0.4344 - val_auc_7: 0.6543 - val_precision_7: 0.0000e+00 - val_recall_7: 0.0000e+00 - val_f1_score: 0.1912 - 657ms/epoch - 82ms/step\n",
      "Epoch 9/50\n",
      "8/8 - 1s - loss: 1.4450 - accuracy: 0.4754 - auc_7: 0.7320 - precision_7: 1.0000 - recall_7: 0.0164 - f1_score: 0.2364 - val_loss: 1.3112 - val_accuracy: 0.4508 - val_auc_7: 0.6527 - val_precision_7: 0.0000e+00 - val_recall_7: 0.0000e+00 - val_f1_score: 0.1955 - 652ms/epoch - 82ms/step\n",
      "Epoch 10/50\n",
      "8/8 - 1s - loss: 1.4411 - accuracy: 0.4877 - auc_7: 0.7303 - precision_7: 1.0000 - recall_7: 0.0164 - f1_score: 0.2915 - val_loss: 1.3122 - val_accuracy: 0.4180 - val_auc_7: 0.6529 - val_precision_7: 0.0000e+00 - val_recall_7: 0.0000e+00 - val_f1_score: 0.2285 - 701ms/epoch - 88ms/step\n",
      "Epoch 11/50\n",
      "8/8 - 1s - loss: 1.4375 - accuracy: 0.5000 - auc_7: 0.7319 - precision_7: 1.0000 - recall_7: 0.0164 - f1_score: 0.3286 - val_loss: 1.3121 - val_accuracy: 0.4262 - val_auc_7: 0.6586 - val_precision_7: 0.0000e+00 - val_recall_7: 0.0000e+00 - val_f1_score: 0.2308 - 681ms/epoch - 85ms/step\n",
      "Epoch 12/50\n",
      "8/8 - 1s - loss: 1.4305 - accuracy: 0.5082 - auc_7: 0.7356 - precision_7: 1.0000 - recall_7: 0.0164 - f1_score: 0.3301 - val_loss: 1.3118 - val_accuracy: 0.4016 - val_auc_7: 0.6566 - val_precision_7: 0.0000e+00 - val_recall_7: 0.0000e+00 - val_f1_score: 0.2187 - 709ms/epoch - 89ms/step\n",
      "Epoch 13/50\n",
      "8/8 - 1s - loss: 1.4247 - accuracy: 0.4959 - auc_7: 0.7419 - precision_7: 1.0000 - recall_7: 0.0164 - f1_score: 0.3207 - val_loss: 1.3087 - val_accuracy: 0.3934 - val_auc_7: 0.6637 - val_precision_7: 0.0000e+00 - val_recall_7: 0.0000e+00 - val_f1_score: 0.2184 - 663ms/epoch - 83ms/step\n",
      "Epoch 14/50\n",
      "8/8 - 1s - loss: 1.4137 - accuracy: 0.4795 - auc_7: 0.7449 - precision_7: 1.0000 - recall_7: 0.0164 - f1_score: 0.3104 - val_loss: 1.3038 - val_accuracy: 0.3852 - val_auc_7: 0.6738 - val_precision_7: 0.0000e+00 - val_recall_7: 0.0000e+00 - val_f1_score: 0.2256 - 652ms/epoch - 81ms/step\n",
      "Epoch 15/50\n",
      "8/8 - 1s - loss: 1.4024 - accuracy: 0.4262 - auc_7: 0.7491 - precision_7: 1.0000 - recall_7: 0.0164 - f1_score: 0.2968 - val_loss: 1.3022 - val_accuracy: 0.3689 - val_auc_7: 0.6764 - val_precision_7: 0.0000e+00 - val_recall_7: 0.0000e+00 - val_f1_score: 0.2287 - 688ms/epoch - 86ms/step\n",
      "Epoch 16/50\n",
      "8/8 - 1s - loss: 1.3933 - accuracy: 0.4262 - auc_7: 0.7521 - precision_7: 1.0000 - recall_7: 0.0164 - f1_score: 0.2983 - val_loss: 1.2999 - val_accuracy: 0.3770 - val_auc_7: 0.6791 - val_precision_7: 0.0000e+00 - val_recall_7: 0.0000e+00 - val_f1_score: 0.2314 - 696ms/epoch - 87ms/step\n",
      "Epoch 17/50\n",
      "8/8 - 1s - loss: 1.3867 - accuracy: 0.4262 - auc_7: 0.7496 - precision_7: 1.0000 - recall_7: 0.0164 - f1_score: 0.2978 - val_loss: 1.2959 - val_accuracy: 0.3770 - val_auc_7: 0.6813 - val_precision_7: 0.0000e+00 - val_recall_7: 0.0000e+00 - val_f1_score: 0.2314 - 806ms/epoch - 101ms/step\n",
      "Epoch 18/50\n",
      "8/8 - 1s - loss: 1.3834 - accuracy: 0.4262 - auc_7: 0.7480 - precision_7: 1.0000 - recall_7: 0.0164 - f1_score: 0.2972 - val_loss: 1.2953 - val_accuracy: 0.3689 - val_auc_7: 0.6810 - val_precision_7: 0.0000e+00 - val_recall_7: 0.0000e+00 - val_f1_score: 0.2276 - 665ms/epoch - 83ms/step\n",
      "Epoch 19/50\n",
      "8/8 - 1s - loss: 1.3785 - accuracy: 0.4344 - auc_7: 0.7456 - precision_7: 1.0000 - recall_7: 0.0164 - f1_score: 0.3029 - val_loss: 1.2959 - val_accuracy: 0.3525 - val_auc_7: 0.6774 - val_precision_7: 0.0000e+00 - val_recall_7: 0.0000e+00 - val_f1_score: 0.2219 - 667ms/epoch - 83ms/step\n",
      "Epoch 20/50\n",
      "8/8 - 1s - loss: 1.3761 - accuracy: 0.4303 - auc_7: 0.7427 - precision_7: 1.0000 - recall_7: 0.0164 - f1_score: 0.3019 - val_loss: 1.2971 - val_accuracy: 0.3607 - val_auc_7: 0.6758 - val_precision_7: 0.0000e+00 - val_recall_7: 0.0000e+00 - val_f1_score: 0.2306 - 677ms/epoch - 85ms/step\n",
      "Epoch 21/50\n",
      "8/8 - 1s - loss: 1.3740 - accuracy: 0.4221 - auc_7: 0.7386 - precision_7: 1.0000 - recall_7: 0.0164 - f1_score: 0.2956 - val_loss: 1.2990 - val_accuracy: 0.3607 - val_auc_7: 0.6709 - val_precision_7: 0.0000e+00 - val_recall_7: 0.0000e+00 - val_f1_score: 0.2305 - 725ms/epoch - 91ms/step\n",
      "Epoch 22/50\n",
      "8/8 - 1s - loss: 1.3713 - accuracy: 0.4221 - auc_7: 0.7370 - precision_7: 1.0000 - recall_7: 0.0164 - f1_score: 0.2956 - val_loss: 1.3018 - val_accuracy: 0.3607 - val_auc_7: 0.6686 - val_precision_7: 0.0000e+00 - val_recall_7: 0.0000e+00 - val_f1_score: 0.2305 - 670ms/epoch - 84ms/step\n",
      "Epoch 23/50\n",
      "8/8 - 1s - loss: 1.3689 - accuracy: 0.4221 - auc_7: 0.7349 - precision_7: 1.0000 - recall_7: 0.0164 - f1_score: 0.2956 - val_loss: 1.3046 - val_accuracy: 0.3525 - val_auc_7: 0.6625 - val_precision_7: 0.0000e+00 - val_recall_7: 0.0000e+00 - val_f1_score: 0.2205 - 660ms/epoch - 83ms/step\n",
      "Epoch 24/50\n",
      "8/8 - 1s - loss: 1.3667 - accuracy: 0.4139 - auc_7: 0.7293 - precision_7: 1.0000 - recall_7: 0.0205 - f1_score: 0.2872 - val_loss: 1.3088 - val_accuracy: 0.3525 - val_auc_7: 0.6550 - val_precision_7: 0.0000e+00 - val_recall_7: 0.0000e+00 - val_f1_score: 0.2205 - 687ms/epoch - 86ms/step\n",
      "Epoch 25/50\n",
      "8/8 - 1s - loss: 1.3651 - accuracy: 0.4057 - auc_7: 0.7251 - precision_7: 1.0000 - recall_7: 0.0205 - f1_score: 0.2828 - val_loss: 1.3105 - val_accuracy: 0.3525 - val_auc_7: 0.6542 - val_precision_7: 0.0000e+00 - val_recall_7: 0.0000e+00 - val_f1_score: 0.2205 - 676ms/epoch - 85ms/step\n",
      "Epoch 26/50\n",
      "8/8 - 1s - loss: 1.3643 - accuracy: 0.4057 - auc_7: 0.7206 - precision_7: 1.0000 - recall_7: 0.0205 - f1_score: 0.2828 - val_loss: 1.3126 - val_accuracy: 0.3525 - val_auc_7: 0.6489 - val_precision_7: 0.0000e+00 - val_recall_7: 0.0000e+00 - val_f1_score: 0.2203 - 686ms/epoch - 86ms/step\n",
      "Epoch 27/50\n",
      "8/8 - 1s - loss: 1.3628 - accuracy: 0.4057 - auc_7: 0.7140 - precision_7: 1.0000 - recall_7: 0.0205 - f1_score: 0.2828 - val_loss: 1.3151 - val_accuracy: 0.3443 - val_auc_7: 0.6451 - val_precision_7: 0.0000e+00 - val_recall_7: 0.0000e+00 - val_f1_score: 0.2099 - 710ms/epoch - 89ms/step\n",
      "Epoch 28/50\n",
      "8/8 - 1s - loss: 1.3602 - accuracy: 0.4139 - auc_7: 0.7118 - precision_7: 1.0000 - recall_7: 0.0205 - f1_score: 0.2914 - val_loss: 1.3170 - val_accuracy: 0.3525 - val_auc_7: 0.6427 - val_precision_7: 0.0000e+00 - val_recall_7: 0.0000e+00 - val_f1_score: 0.2170 - 717ms/epoch - 90ms/step\n",
      "Epoch 29/50\n",
      "8/8 - 1s - loss: 1.3570 - accuracy: 0.4180 - auc_7: 0.7112 - precision_7: 1.0000 - recall_7: 0.0205 - f1_score: 0.2957 - val_loss: 1.3197 - val_accuracy: 0.3443 - val_auc_7: 0.6398 - val_precision_7: 0.0000e+00 - val_recall_7: 0.0000e+00 - val_f1_score: 0.2094 - 725ms/epoch - 91ms/step\n",
      "Epoch 30/50\n",
      "8/8 - 1s - loss: 1.3546 - accuracy: 0.4180 - auc_7: 0.7095 - precision_7: 1.0000 - recall_7: 0.0205 - f1_score: 0.2957 - val_loss: 1.3220 - val_accuracy: 0.3443 - val_auc_7: 0.6375 - val_precision_7: 0.0000e+00 - val_recall_7: 0.0000e+00 - val_f1_score: 0.2094 - 713ms/epoch - 89ms/step\n",
      "Epoch 31/50\n",
      "8/8 - 1s - loss: 1.3525 - accuracy: 0.4180 - auc_7: 0.7074 - precision_7: 1.0000 - recall_7: 0.0205 - f1_score: 0.2957 - val_loss: 1.3233 - val_accuracy: 0.3443 - val_auc_7: 0.6299 - val_precision_7: 0.0000e+00 - val_recall_7: 0.0000e+00 - val_f1_score: 0.2094 - 700ms/epoch - 88ms/step\n",
      "Epoch 32/50\n",
      "8/8 - 1s - loss: 1.3516 - accuracy: 0.4180 - auc_7: 0.7041 - precision_7: 1.0000 - recall_7: 0.0205 - f1_score: 0.2957 - val_loss: 1.3251 - val_accuracy: 0.3525 - val_auc_7: 0.6293 - val_precision_7: 0.0000e+00 - val_recall_7: 0.0000e+00 - val_f1_score: 0.2168 - 818ms/epoch - 102ms/step\n",
      "Epoch 33/50\n",
      "8/8 - 1s - loss: 1.3498 - accuracy: 0.4180 - auc_7: 0.6998 - precision_7: 1.0000 - recall_7: 0.0205 - f1_score: 0.2964 - val_loss: 1.3282 - val_accuracy: 0.3197 - val_auc_7: 0.6240 - val_precision_7: 0.0000e+00 - val_recall_7: 0.0000e+00 - val_f1_score: 0.1935 - 828ms/epoch - 103ms/step\n",
      "Epoch 34/50\n",
      "8/8 - 1s - loss: 1.3481 - accuracy: 0.3770 - auc_7: 0.6957 - precision_7: 1.0000 - recall_7: 0.0205 - f1_score: 0.2834 - val_loss: 1.3299 - val_accuracy: 0.3033 - val_auc_7: 0.6221 - val_precision_7: 0.0000e+00 - val_recall_7: 0.0000e+00 - val_f1_score: 0.1841 - 688ms/epoch - 86ms/step\n",
      "Epoch 35/50\n",
      "8/8 - 1s - loss: 1.3466 - accuracy: 0.3770 - auc_7: 0.6866 - precision_7: 1.0000 - recall_7: 0.0205 - f1_score: 0.2836 - val_loss: 1.3325 - val_accuracy: 0.3033 - val_auc_7: 0.6150 - val_precision_7: 0.0000e+00 - val_recall_7: 0.0000e+00 - val_f1_score: 0.1841 - 684ms/epoch - 86ms/step\n",
      "Epoch 36/50\n",
      "8/8 - 1s - loss: 1.3434 - accuracy: 0.3730 - auc_7: 0.6870 - precision_7: 1.0000 - recall_7: 0.0205 - f1_score: 0.2772 - val_loss: 1.3337 - val_accuracy: 0.3033 - val_auc_7: 0.6151 - val_precision_7: 0.0000e+00 - val_recall_7: 0.0000e+00 - val_f1_score: 0.1842 - 719ms/epoch - 90ms/step\n",
      "Epoch 37/50\n",
      "8/8 - 1s - loss: 1.3410 - accuracy: 0.3730 - auc_7: 0.6843 - precision_7: 1.0000 - recall_7: 0.0205 - f1_score: 0.2773 - val_loss: 1.3349 - val_accuracy: 0.3115 - val_auc_7: 0.6091 - val_precision_7: 0.0000e+00 - val_recall_7: 0.0000e+00 - val_f1_score: 0.1950 - 798ms/epoch - 100ms/step\n",
      "Epoch 38/50\n",
      "8/8 - 1s - loss: 1.3380 - accuracy: 0.3730 - auc_7: 0.6810 - precision_7: 1.0000 - recall_7: 0.0205 - f1_score: 0.2773 - val_loss: 1.3362 - val_accuracy: 0.3033 - val_auc_7: 0.6097 - val_precision_7: 0.0000e+00 - val_recall_7: 0.0000e+00 - val_f1_score: 0.1855 - 778ms/epoch - 97ms/step\n",
      "Epoch 39/50\n",
      "8/8 - 1s - loss: 1.3364 - accuracy: 0.3730 - auc_7: 0.6809 - precision_7: 1.0000 - recall_7: 0.0205 - f1_score: 0.2775 - val_loss: 1.3370 - val_accuracy: 0.3033 - val_auc_7: 0.6083 - val_precision_7: 0.0000e+00 - val_recall_7: 0.0000e+00 - val_f1_score: 0.1855 - 787ms/epoch - 98ms/step\n",
      "Epoch 40/50\n",
      "8/8 - 1s - loss: 1.3344 - accuracy: 0.3730 - auc_7: 0.6808 - precision_7: 1.0000 - recall_7: 0.0246 - f1_score: 0.2775 - val_loss: 1.3369 - val_accuracy: 0.3033 - val_auc_7: 0.6075 - val_precision_7: 0.0000e+00 - val_recall_7: 0.0000e+00 - val_f1_score: 0.1854 - 730ms/epoch - 91ms/step\n",
      "Epoch 41/50\n",
      "8/8 - 1s - loss: 1.3323 - accuracy: 0.3730 - auc_7: 0.6786 - precision_7: 1.0000 - recall_7: 0.0246 - f1_score: 0.2773 - val_loss: 1.3401 - val_accuracy: 0.3033 - val_auc_7: 0.6005 - val_precision_7: 0.0000e+00 - val_recall_7: 0.0000e+00 - val_f1_score: 0.1854 - 657ms/epoch - 82ms/step\n",
      "Epoch 42/50\n",
      "8/8 - 1s - loss: 1.3311 - accuracy: 0.3730 - auc_7: 0.6724 - precision_7: 1.0000 - recall_7: 0.0246 - f1_score: 0.2775 - val_loss: 1.3427 - val_accuracy: 0.3033 - val_auc_7: 0.5966 - val_precision_7: 0.0000e+00 - val_recall_7: 0.0000e+00 - val_f1_score: 0.1855 - 650ms/epoch - 81ms/step\n",
      "Epoch 43/50\n",
      "8/8 - 1s - loss: 1.3292 - accuracy: 0.3730 - auc_7: 0.6711 - precision_7: 1.0000 - recall_7: 0.0246 - f1_score: 0.2775 - val_loss: 1.3442 - val_accuracy: 0.3033 - val_auc_7: 0.5957 - val_precision_7: 0.0000e+00 - val_recall_7: 0.0000e+00 - val_f1_score: 0.1855 - 674ms/epoch - 84ms/step\n",
      "Epoch 44/50\n",
      "8/8 - 1s - loss: 1.3277 - accuracy: 0.3730 - auc_7: 0.6708 - precision_7: 1.0000 - recall_7: 0.0246 - f1_score: 0.2775 - val_loss: 1.3459 - val_accuracy: 0.3033 - val_auc_7: 0.5929 - val_precision_7: 0.0000e+00 - val_recall_7: 0.0000e+00 - val_f1_score: 0.1854 - 734ms/epoch - 92ms/step\n",
      "Epoch 45/50\n",
      "8/8 - 1s - loss: 1.3257 - accuracy: 0.3730 - auc_7: 0.6706 - precision_7: 1.0000 - recall_7: 0.0246 - f1_score: 0.2773 - val_loss: 1.3456 - val_accuracy: 0.3033 - val_auc_7: 0.5934 - val_precision_7: 0.0000e+00 - val_recall_7: 0.0000e+00 - val_f1_score: 0.1854 - 716ms/epoch - 90ms/step\n",
      "Epoch 46/50\n",
      "8/8 - 1s - loss: 1.3251 - accuracy: 0.3730 - auc_7: 0.6708 - precision_7: 1.0000 - recall_7: 0.0246 - f1_score: 0.2773 - val_loss: 1.3462 - val_accuracy: 0.3033 - val_auc_7: 0.5921 - val_precision_7: 0.0000e+00 - val_recall_7: 0.0000e+00 - val_f1_score: 0.1855 - 738ms/epoch - 92ms/step\n",
      "Epoch 47/50\n",
      "8/8 - 1s - loss: 1.3225 - accuracy: 0.3730 - auc_7: 0.6687 - precision_7: 1.0000 - recall_7: 0.0246 - f1_score: 0.2775 - val_loss: 1.3480 - val_accuracy: 0.3033 - val_auc_7: 0.5879 - val_precision_7: 0.0000e+00 - val_recall_7: 0.0000e+00 - val_f1_score: 0.1855 - 747ms/epoch - 93ms/step\n",
      "Epoch 48/50\n",
      "8/8 - 1s - loss: 1.3210 - accuracy: 0.3730 - auc_7: 0.6669 - precision_7: 1.0000 - recall_7: 0.0246 - f1_score: 0.2775 - val_loss: 1.3492 - val_accuracy: 0.3033 - val_auc_7: 0.5870 - val_precision_7: 0.0000e+00 - val_recall_7: 0.0000e+00 - val_f1_score: 0.1855 - 833ms/epoch - 104ms/step\n",
      "Epoch 49/50\n",
      "8/8 - 1s - loss: 1.3195 - accuracy: 0.3730 - auc_7: 0.6629 - precision_7: 1.0000 - recall_7: 0.0205 - f1_score: 0.2775 - val_loss: 1.3502 - val_accuracy: 0.3033 - val_auc_7: 0.5845 - val_precision_7: 0.0000e+00 - val_recall_7: 0.0000e+00 - val_f1_score: 0.1855 - 672ms/epoch - 84ms/step\n",
      "Epoch 50/50\n",
      "8/8 - 1s - loss: 1.3173 - accuracy: 0.3730 - auc_7: 0.6612 - precision_7: 1.0000 - recall_7: 0.0205 - f1_score: 0.2775 - val_loss: 1.3520 - val_accuracy: 0.3033 - val_auc_7: 0.5775 - val_precision_7: 0.0000e+00 - val_recall_7: 0.0000e+00 - val_f1_score: 0.1855 - 711ms/epoch - 89ms/step\n"
     ]
    },
    {
     "data": {
      "image/png": "[encoded data removed]",
      "text/plain": [
       "<Figure size 432x288 with 1 Axes>"
      ]
     },
     "metadata": {
      "needs_background": "light"
     },
     "output_type": "display_data"
    }
   ],
   "source": [
    "for train_index, val_index in kf.split(X):\n",
    "    X_train, X_val = X[train_index], X[val_index]\n",
    "    y_train, y_val = y[train_index], y[val_index]\n",
    "    baseline_face_model = Baseline(n_features, n_length, n_outputs)\n",
    "    history = baseline_face_model.train(X_train, y_train, X_val, y_val, epochs, batch_size, d_class_weights)\n",
    "    plt.plot(history.history['loss'])\n",
    "    plt.show()"
   ]
  },
  {
   "cell_type": "markdown",
   "metadata": {},
   "source": [
    "#### Prediction on the holdout set"
   ]
  },
  {
   "cell_type": "code",
   "execution_count": 15,
   "metadata": {},
   "outputs": [
    {
     "name": "stdout",
     "output_type": "stream",
     "text": [
      "Accuracy: 27.27% \n",
      "Balanced Accuracy: 28.54% \n",
      "ROC/AUC: 0.58 \n",
      "Precision: 0.50 \n",
      "Recall: 0.00 \n",
      "F1 score: 0.23\n"
     ]
    }
   ],
   "source": [
    "y_pred = baseline_face_model.predict(X_test)\n",
    "_, acc, auc, precision, recall, f1 = baseline_face_model.evaluate(X_test, y_test)\n",
    "results.append(round(acc, 2))\n",
    "bal_acc = balanced_accuracy_score(y_test.argmax(axis=1), y_pred.argmax(axis=1)) \n",
    "print('Accuracy: {:.2f}% \\nBalanced Accuracy: {:.2f}% \\nROC/AUC: {:.2f} \\nPrecision: {:.2f} \\nRecall: {:.2f} \\nF1 score: {:.2f}'.format(acc * 100, bal_acc * 100, auc, precision, recall, f1))"
   ]
  },
  {
   "cell_type": "markdown",
   "metadata": {},
   "source": [
    "## 3. Multimodal Early Fusion"
   ]
  },
  {
   "cell_type": "markdown",
   "metadata": {},
   "source": [
    "### Dataset"
   ]
  },
  {
   "cell_type": "code",
   "execution_count": 16,
   "metadata": {},
   "outputs": [
    {
     "name": "stdout",
     "output_type": "stream",
     "text": [
      "(366, 350, 60) (366, 4)\n",
      "(231, 350, 60) (231, 4)\n"
     ]
    }
   ],
   "source": [
    "X_train, X_test, y_train, y_test = load_fusioned_dataset(nopain=False)\n",
    "X_train = X_train.reshape(X_train.shape[0], X_train.shape[2], X_train.shape[3])\n",
    "X_test = X_test.reshape(X_test.shape[0], X_test.shape[2], X_test.shape[3])\n",
    "X = X_train.copy()\n",
    "y = y_train.copy()\n",
    "\n",
    "print(X_train.shape, y_train.shape)\n",
    "print(X_test.shape, y_test.shape)\n",
    "\n",
    "n_length, n_features, n_outputs = X_train.shape[1], X_train.shape[-1], y_train.shape[1]"
   ]
  },
  {
   "cell_type": "code",
   "execution_count": 17,
   "metadata": {},
   "outputs": [
    {
     "name": "stdout",
     "output_type": "stream",
     "text": [
      "Model: \"model_8\"\n",
      "_________________________________________________________________\n",
      " Layer (type)                Output Shape              Param #   \n",
      "=================================================================\n",
      " input_9 (InputLayer)        [(None, 350, 60)]         0         \n",
      "                                                                 \n",
      " lstm_8 (LSTM)               (None, 50)                22200     \n",
      "                                                                 \n",
      " dense_16 (Dense)            (None, 50)                2550      \n",
      "                                                                 \n",
      " dense_17 (Dense)            (None, 4)                 204       \n",
      "                                                                 \n",
      "=================================================================\n",
      "Total params: 24,954\n",
      "Trainable params: 24,954\n",
      "Non-trainable params: 0\n",
      "_________________________________________________________________\n"
     ]
    }
   ],
   "source": [
    "model = Baseline(n_features, n_length, n_outputs)\n",
    "model.summary()"
   ]
  },
  {
   "cell_type": "markdown",
   "metadata": {},
   "source": [
    "### Baseline Model"
   ]
  },
  {
   "cell_type": "code",
   "execution_count": 18,
   "metadata": {},
   "outputs": [
    {
     "name": "stdout",
     "output_type": "stream",
     "text": [
      "Epoch 1/50\n",
      "8/8 - 3s - loss: 1.6524 - accuracy: 0.1885 - auc_9: 0.4435 - precision_9: 0.2500 - recall_9: 0.0451 - f1_score: 0.0913 - val_loss: 1.5244 - val_accuracy: 0.1967 - val_auc_9: 0.4491 - val_precision_9: 0.1765 - val_recall_9: 0.0246 - val_f1_score: 0.1016 - 3s/epoch - 333ms/step\n",
      "Epoch 2/50\n",
      "8/8 - 1s - loss: 1.6142 - accuracy: 0.1844 - auc_9: 0.4554 - precision_9: 0.2857 - recall_9: 0.0492 - f1_score: 0.0895 - val_loss: 1.4966 - val_accuracy: 0.1967 - val_auc_9: 0.4666 - val_precision_9: 0.1429 - val_recall_9: 0.0164 - val_f1_score: 0.1022 - 636ms/epoch - 79ms/step\n",
      "Epoch 3/50\n",
      "8/8 - 1s - loss: 1.5903 - accuracy: 0.1926 - auc_9: 0.4677 - precision_9: 0.2895 - recall_9: 0.0451 - f1_score: 0.1028 - val_loss: 1.4641 - val_accuracy: 0.1967 - val_auc_9: 0.4885 - val_precision_9: 0.0769 - val_recall_9: 0.0082 - val_f1_score: 0.1022 - 640ms/epoch - 80ms/step\n",
      "Epoch 4/50\n",
      "8/8 - 1s - loss: 1.5660 - accuracy: 0.1926 - auc_9: 0.4853 - precision_9: 0.3125 - recall_9: 0.0410 - f1_score: 0.1026 - val_loss: 1.4474 - val_accuracy: 0.1967 - val_auc_9: 0.4984 - val_precision_9: 0.0909 - val_recall_9: 0.0082 - val_f1_score: 0.1016 - 642ms/epoch - 80ms/step\n",
      "Epoch 5/50\n",
      "8/8 - 1s - loss: 1.5453 - accuracy: 0.1926 - auc_9: 0.4973 - precision_9: 0.3750 - recall_9: 0.0369 - f1_score: 0.1026 - val_loss: 1.4355 - val_accuracy: 0.1967 - val_auc_9: 0.5089 - val_precision_9: 0.0833 - val_recall_9: 0.0082 - val_f1_score: 0.1014 - 638ms/epoch - 80ms/step\n",
      "Epoch 6/50\n",
      "8/8 - 1s - loss: 1.5297 - accuracy: 0.1926 - auc_9: 0.5098 - precision_9: 0.3182 - recall_9: 0.0287 - f1_score: 0.1040 - val_loss: 1.4230 - val_accuracy: 0.1967 - val_auc_9: 0.5152 - val_precision_9: 0.0833 - val_recall_9: 0.0082 - val_f1_score: 0.1016 - 636ms/epoch - 79ms/step\n",
      "Epoch 7/50\n",
      "8/8 - 1s - loss: 1.5145 - accuracy: 0.2008 - auc_9: 0.5213 - precision_9: 0.3000 - recall_9: 0.0246 - f1_score: 0.1101 - val_loss: 1.4157 - val_accuracy: 0.1967 - val_auc_9: 0.5233 - val_precision_9: 0.0909 - val_recall_9: 0.0082 - val_f1_score: 0.1016 - 644ms/epoch - 80ms/step\n",
      "Epoch 8/50\n",
      "8/8 - 1s - loss: 1.5020 - accuracy: 0.2090 - auc_9: 0.5267 - precision_9: 0.3000 - recall_9: 0.0246 - f1_score: 0.1303 - val_loss: 1.4093 - val_accuracy: 0.1967 - val_auc_9: 0.5298 - val_precision_9: 0.1111 - val_recall_9: 0.0082 - val_f1_score: 0.1088 - 632ms/epoch - 79ms/step\n",
      "Epoch 9/50\n",
      "8/8 - 1s - loss: 1.4901 - accuracy: 0.2418 - auc_9: 0.5357 - precision_9: 0.3750 - recall_9: 0.0246 - f1_score: 0.1648 - val_loss: 1.4008 - val_accuracy: 0.2049 - val_auc_9: 0.5375 - val_precision_9: 0.1429 - val_recall_9: 0.0082 - val_f1_score: 0.1233 - 645ms/epoch - 81ms/step\n",
      "Epoch 10/50\n",
      "8/8 - 1s - loss: 1.4807 - accuracy: 0.2500 - auc_9: 0.5397 - precision_9: 0.3846 - recall_9: 0.0205 - f1_score: 0.1723 - val_loss: 1.3931 - val_accuracy: 0.2295 - val_auc_9: 0.5466 - val_precision_9: 0.0000e+00 - val_recall_9: 0.0000e+00 - val_f1_score: 0.1425 - 639ms/epoch - 80ms/step\n",
      "Epoch 11/50\n",
      "8/8 - 1s - loss: 1.4676 - accuracy: 0.2623 - auc_9: 0.5528 - precision_9: 0.5000 - recall_9: 0.0123 - f1_score: 0.1818 - val_loss: 1.3823 - val_accuracy: 0.2787 - val_auc_9: 0.5595 - val_precision_9: 0.0000e+00 - val_recall_9: 0.0000e+00 - val_f1_score: 0.1711 - 634ms/epoch - 79ms/step\n",
      "Epoch 12/50\n",
      "8/8 - 1s - loss: 1.4546 - accuracy: 0.2828 - auc_9: 0.5679 - precision_9: 0.5000 - recall_9: 0.0123 - f1_score: 0.1966 - val_loss: 1.3825 - val_accuracy: 0.2869 - val_auc_9: 0.5642 - val_precision_9: 0.0000e+00 - val_recall_9: 0.0000e+00 - val_f1_score: 0.1755 - 643ms/epoch - 80ms/step\n",
      "Epoch 13/50\n",
      "8/8 - 1s - loss: 1.4502 - accuracy: 0.2828 - auc_9: 0.5715 - precision_9: 0.7500 - recall_9: 0.0123 - f1_score: 0.2076 - val_loss: 1.3784 - val_accuracy: 0.2787 - val_auc_9: 0.5662 - val_precision_9: 0.0000e+00 - val_recall_9: 0.0000e+00 - val_f1_score: 0.1711 - 643ms/epoch - 80ms/step\n",
      "Epoch 14/50\n",
      "8/8 - 1s - loss: 1.4385 - accuracy: 0.2787 - auc_9: 0.5737 - precision_9: 0.7500 - recall_9: 0.0123 - f1_score: 0.2042 - val_loss: 1.3685 - val_accuracy: 0.2869 - val_auc_9: 0.5800 - val_precision_9: 0.0000e+00 - val_recall_9: 0.0000e+00 - val_f1_score: 0.1748 - 634ms/epoch - 79ms/step\n",
      "Epoch 15/50\n",
      "8/8 - 1s - loss: 1.4292 - accuracy: 0.2951 - auc_9: 0.5905 - precision_9: 0.7500 - recall_9: 0.0123 - f1_score: 0.2103 - val_loss: 1.3629 - val_accuracy: 0.3033 - val_auc_9: 0.5878 - val_precision_9: 0.0000e+00 - val_recall_9: 0.0000e+00 - val_f1_score: 0.1831 - 634ms/epoch - 79ms/step\n",
      "Epoch 16/50\n",
      "8/8 - 1s - loss: 1.4203 - accuracy: 0.2910 - auc_9: 0.6016 - precision_9: 0.0000e+00 - recall_9: 0.0000e+00 - f1_score: 0.2087 - val_loss: 1.3617 - val_accuracy: 0.3115 - val_auc_9: 0.5897 - val_precision_9: 0.0000e+00 - val_recall_9: 0.0000e+00 - val_f1_score: 0.2096 - 663ms/epoch - 83ms/step\n",
      "Epoch 17/50\n",
      "8/8 - 1s - loss: 1.4120 - accuracy: 0.2869 - auc_9: 0.6093 - precision_9: 0.0000e+00 - recall_9: 0.0000e+00 - f1_score: 0.2149 - val_loss: 1.3590 - val_accuracy: 0.3115 - val_auc_9: 0.5926 - val_precision_9: 0.0000e+00 - val_recall_9: 0.0000e+00 - val_f1_score: 0.2096 - 636ms/epoch - 80ms/step\n",
      "Epoch 18/50\n",
      "8/8 - 1s - loss: 1.4047 - accuracy: 0.2951 - auc_9: 0.6149 - precision_9: 0.0000e+00 - recall_9: 0.0000e+00 - f1_score: 0.2191 - val_loss: 1.3546 - val_accuracy: 0.3197 - val_auc_9: 0.5962 - val_precision_9: 0.0000e+00 - val_recall_9: 0.0000e+00 - val_f1_score: 0.2144 - 642ms/epoch - 80ms/step\n",
      "Epoch 19/50\n",
      "8/8 - 1s - loss: 1.3988 - accuracy: 0.2951 - auc_9: 0.6147 - precision_9: 0.0000e+00 - recall_9: 0.0000e+00 - f1_score: 0.2185 - val_loss: 1.3557 - val_accuracy: 0.3115 - val_auc_9: 0.5891 - val_precision_9: 0.0000e+00 - val_recall_9: 0.0000e+00 - val_f1_score: 0.2102 - 628ms/epoch - 79ms/step\n",
      "Epoch 20/50\n",
      "8/8 - 1s - loss: 1.3908 - accuracy: 0.3033 - auc_9: 0.6178 - precision_9: 0.0000e+00 - recall_9: 0.0000e+00 - f1_score: 0.2569 - val_loss: 1.3566 - val_accuracy: 0.3033 - val_auc_9: 0.5908 - val_precision_9: 0.0000e+00 - val_recall_9: 0.0000e+00 - val_f1_score: 0.2052 - 634ms/epoch - 79ms/step\n",
      "Epoch 21/50\n",
      "8/8 - 1s - loss: 1.3867 - accuracy: 0.3115 - auc_9: 0.6239 - precision_9: 0.0000e+00 - recall_9: 0.0000e+00 - f1_score: 0.2612 - val_loss: 1.3559 - val_accuracy: 0.3033 - val_auc_9: 0.5960 - val_precision_9: 0.0000e+00 - val_recall_9: 0.0000e+00 - val_f1_score: 0.2045 - 631ms/epoch - 79ms/step\n",
      "Epoch 22/50\n",
      "8/8 - 1s - loss: 1.3775 - accuracy: 0.3074 - auc_9: 0.6303 - precision_9: 0.0000e+00 - recall_9: 0.0000e+00 - f1_score: 0.2535 - val_loss: 1.3535 - val_accuracy: 0.2787 - val_auc_9: 0.5960 - val_precision_9: 0.0000e+00 - val_recall_9: 0.0000e+00 - val_f1_score: 0.1851 - 642ms/epoch - 80ms/step\n",
      "Epoch 23/50\n",
      "8/8 - 1s - loss: 1.3703 - accuracy: 0.3156 - auc_9: 0.6367 - precision_9: 0.0000e+00 - recall_9: 0.0000e+00 - f1_score: 0.2516 - val_loss: 1.3495 - val_accuracy: 0.2787 - val_auc_9: 0.6035 - val_precision_9: 0.0000e+00 - val_recall_9: 0.0000e+00 - val_f1_score: 0.1829 - 642ms/epoch - 80ms/step\n",
      "Epoch 24/50\n",
      "8/8 - 1s - loss: 1.3619 - accuracy: 0.3115 - auc_9: 0.6459 - precision_9: 0.0000e+00 - recall_9: 0.0000e+00 - f1_score: 0.2460 - val_loss: 1.3491 - val_accuracy: 0.2705 - val_auc_9: 0.6000 - val_precision_9: 0.0000e+00 - val_recall_9: 0.0000e+00 - val_f1_score: 0.1805 - 633ms/epoch - 79ms/step\n",
      "Epoch 25/50\n",
      "8/8 - 1s - loss: 1.3556 - accuracy: 0.3074 - auc_9: 0.6478 - precision_9: 0.0000e+00 - recall_9: 0.0000e+00 - f1_score: 0.2431 - val_loss: 1.3462 - val_accuracy: 0.2541 - val_auc_9: 0.6028 - val_precision_9: 0.0000e+00 - val_recall_9: 0.0000e+00 - val_f1_score: 0.1721 - 639ms/epoch - 80ms/step\n",
      "Epoch 26/50\n",
      "8/8 - 1s - loss: 1.3466 - accuracy: 0.3197 - auc_9: 0.6559 - precision_9: 1.0000 - recall_9: 0.0082 - f1_score: 0.2540 - val_loss: 1.3424 - val_accuracy: 0.2623 - val_auc_9: 0.6095 - val_precision_9: 0.0000e+00 - val_recall_9: 0.0000e+00 - val_f1_score: 0.1789 - 638ms/epoch - 80ms/step\n",
      "Epoch 27/50\n",
      "8/8 - 1s - loss: 1.3423 - accuracy: 0.3484 - auc_9: 0.6639 - precision_9: 1.0000 - recall_9: 0.0123 - f1_score: 0.2711 - val_loss: 1.3412 - val_accuracy: 0.2869 - val_auc_9: 0.6115 - val_precision_9: 0.0000e+00 - val_recall_9: 0.0000e+00 - val_f1_score: 0.1935 - 634ms/epoch - 79ms/step\n",
      "Epoch 28/50\n",
      "8/8 - 1s - loss: 1.3330 - accuracy: 0.3320 - auc_9: 0.6706 - precision_9: 1.0000 - recall_9: 0.0123 - f1_score: 0.2555 - val_loss: 1.3388 - val_accuracy: 0.2705 - val_auc_9: 0.6148 - val_precision_9: 0.0000e+00 - val_recall_9: 0.0000e+00 - val_f1_score: 0.1802 - 636ms/epoch - 80ms/step\n",
      "Epoch 29/50\n",
      "8/8 - 1s - loss: 1.3319 - accuracy: 0.3156 - auc_9: 0.6727 - precision_9: 1.0000 - recall_9: 0.0123 - f1_score: 0.2509 - val_loss: 1.3400 - val_accuracy: 0.2541 - val_auc_9: 0.6100 - val_precision_9: 0.0000e+00 - val_recall_9: 0.0000e+00 - val_f1_score: 0.1716 - 644ms/epoch - 81ms/step\n",
      "Epoch 30/50\n",
      "8/8 - 1s - loss: 1.3239 - accuracy: 0.3320 - auc_9: 0.6788 - precision_9: 0.0000e+00 - recall_9: 0.0000e+00 - f1_score: 0.2601 - val_loss: 1.3406 - val_accuracy: 0.2623 - val_auc_9: 0.6117 - val_precision_9: 0.0000e+00 - val_recall_9: 0.0000e+00 - val_f1_score: 0.1759 - 634ms/epoch - 79ms/step\n",
      "Epoch 31/50\n",
      "8/8 - 1s - loss: 1.3184 - accuracy: 0.3279 - auc_9: 0.6861 - precision_9: 0.0000e+00 - recall_9: 0.0000e+00 - f1_score: 0.2583 - val_loss: 1.3380 - val_accuracy: 0.2787 - val_auc_9: 0.6165 - val_precision_9: 0.0000e+00 - val_recall_9: 0.0000e+00 - val_f1_score: 0.1840 - 688ms/epoch - 86ms/step\n",
      "Epoch 32/50\n",
      "8/8 - 1s - loss: 1.3130 - accuracy: 0.3361 - auc_9: 0.6905 - precision_9: 0.0000e+00 - recall_9: 0.0000e+00 - f1_score: 0.2632 - val_loss: 1.3377 - val_accuracy: 0.2869 - val_auc_9: 0.6155 - val_precision_9: 0.0000e+00 - val_recall_9: 0.0000e+00 - val_f1_score: 0.1872 - 757ms/epoch - 95ms/step\n",
      "Epoch 33/50\n",
      "8/8 - 1s - loss: 1.3080 - accuracy: 0.3279 - auc_9: 0.6941 - precision_9: 0.0000e+00 - recall_9: 0.0000e+00 - f1_score: 0.2565 - val_loss: 1.3383 - val_accuracy: 0.2951 - val_auc_9: 0.6155 - val_precision_9: 0.0000e+00 - val_recall_9: 0.0000e+00 - val_f1_score: 0.1914 - 677ms/epoch - 85ms/step\n",
      "Epoch 34/50\n",
      "8/8 - 1s - loss: 1.3025 - accuracy: 0.3402 - auc_9: 0.6981 - precision_9: 0.0000e+00 - recall_9: 0.0000e+00 - f1_score: 0.2646 - val_loss: 1.3381 - val_accuracy: 0.2869 - val_auc_9: 0.6200 - val_precision_9: 0.0000e+00 - val_recall_9: 0.0000e+00 - val_f1_score: 0.1872 - 649ms/epoch - 81ms/step\n",
      "Epoch 35/50\n",
      "8/8 - 1s - loss: 1.2982 - accuracy: 0.3361 - auc_9: 0.6969 - precision_9: 0.0000e+00 - recall_9: 0.0000e+00 - f1_score: 0.2612 - val_loss: 1.3418 - val_accuracy: 0.2869 - val_auc_9: 0.6157 - val_precision_9: 0.0000e+00 - val_recall_9: 0.0000e+00 - val_f1_score: 0.1883 - 661ms/epoch - 83ms/step\n",
      "Epoch 36/50\n",
      "8/8 - 1s - loss: 1.2920 - accuracy: 0.3361 - auc_9: 0.6972 - precision_9: 0.0000e+00 - recall_9: 0.0000e+00 - f1_score: 0.2683 - val_loss: 1.3418 - val_accuracy: 0.2951 - val_auc_9: 0.6165 - val_precision_9: 0.0000e+00 - val_recall_9: 0.0000e+00 - val_f1_score: 0.1925 - 740ms/epoch - 93ms/step\n",
      "Epoch 37/50\n",
      "8/8 - 1s - loss: 1.2858 - accuracy: 0.3443 - auc_9: 0.7022 - precision_9: 0.0000e+00 - recall_9: 0.0000e+00 - f1_score: 0.2727 - val_loss: 1.3397 - val_accuracy: 0.2869 - val_auc_9: 0.6190 - val_precision_9: 0.0000e+00 - val_recall_9: 0.0000e+00 - val_f1_score: 0.1835 - 660ms/epoch - 82ms/step\n",
      "Epoch 38/50\n",
      "8/8 - 1s - loss: 1.2827 - accuracy: 0.3484 - auc_9: 0.7051 - precision_9: 0.0000e+00 - recall_9: 0.0000e+00 - f1_score: 0.2786 - val_loss: 1.3398 - val_accuracy: 0.2787 - val_auc_9: 0.6182 - val_precision_9: 0.0000e+00 - val_recall_9: 0.0000e+00 - val_f1_score: 0.1800 - 736ms/epoch - 92ms/step\n",
      "Epoch 39/50\n",
      "8/8 - 1s - loss: 1.2770 - accuracy: 0.3689 - auc_9: 0.7125 - precision_9: 0.0000e+00 - recall_9: 0.0000e+00 - f1_score: 0.2942 - val_loss: 1.3387 - val_accuracy: 0.2787 - val_auc_9: 0.6243 - val_precision_9: 0.0000e+00 - val_recall_9: 0.0000e+00 - val_f1_score: 0.1741 - 697ms/epoch - 87ms/step\n",
      "Epoch 40/50\n",
      "8/8 - 1s - loss: 1.2738 - accuracy: 0.3648 - auc_9: 0.7117 - precision_9: 0.0000e+00 - recall_9: 0.0000e+00 - f1_score: 0.2884 - val_loss: 1.3411 - val_accuracy: 0.2951 - val_auc_9: 0.6178 - val_precision_9: 0.0000e+00 - val_recall_9: 0.0000e+00 - val_f1_score: 0.1931 - 650ms/epoch - 81ms/step\n",
      "Epoch 41/50\n",
      "8/8 - 1s - loss: 1.2689 - accuracy: 0.3730 - auc_9: 0.7097 - precision_9: 0.0000e+00 - recall_9: 0.0000e+00 - f1_score: 0.2925 - val_loss: 1.3390 - val_accuracy: 0.2951 - val_auc_9: 0.6196 - val_precision_9: 0.0000e+00 - val_recall_9: 0.0000e+00 - val_f1_score: 0.1926 - 717ms/epoch - 90ms/step\n",
      "Epoch 42/50\n",
      "8/8 - 1s - loss: 1.2643 - accuracy: 0.3770 - auc_9: 0.7097 - precision_9: 0.0000e+00 - recall_9: 0.0000e+00 - f1_score: 0.2988 - val_loss: 1.3421 - val_accuracy: 0.2705 - val_auc_9: 0.6133 - val_precision_9: 0.0000e+00 - val_recall_9: 0.0000e+00 - val_f1_score: 0.1809 - 725ms/epoch - 91ms/step\n",
      "Epoch 43/50\n",
      "8/8 - 1s - loss: 1.2612 - accuracy: 0.3730 - auc_9: 0.7091 - precision_9: 0.0000e+00 - recall_9: 0.0000e+00 - f1_score: 0.2940 - val_loss: 1.3439 - val_accuracy: 0.2951 - val_auc_9: 0.6121 - val_precision_9: 0.0000e+00 - val_recall_9: 0.0000e+00 - val_f1_score: 0.1926 - 650ms/epoch - 81ms/step\n",
      "Epoch 44/50\n",
      "8/8 - 1s - loss: 1.2556 - accuracy: 0.3770 - auc_9: 0.7117 - precision_9: 0.0000e+00 - recall_9: 0.0000e+00 - f1_score: 0.2947 - val_loss: 1.3413 - val_accuracy: 0.2869 - val_auc_9: 0.6156 - val_precision_9: 0.0000e+00 - val_recall_9: 0.0000e+00 - val_f1_score: 0.1895 - 644ms/epoch - 80ms/step\n",
      "Epoch 45/50\n",
      "8/8 - 1s - loss: 1.2521 - accuracy: 0.3689 - auc_9: 0.7095 - precision_9: 0.0000e+00 - recall_9: 0.0000e+00 - f1_score: 0.2923 - val_loss: 1.3450 - val_accuracy: 0.2869 - val_auc_9: 0.6091 - val_precision_9: 0.0000e+00 - val_recall_9: 0.0000e+00 - val_f1_score: 0.1823 - 641ms/epoch - 80ms/step\n",
      "Epoch 46/50\n",
      "8/8 - 1s - loss: 1.2477 - accuracy: 0.3730 - auc_9: 0.7107 - precision_9: 0.0000e+00 - recall_9: 0.0000e+00 - f1_score: 0.2974 - val_loss: 1.3425 - val_accuracy: 0.2787 - val_auc_9: 0.6140 - val_precision_9: 0.0000e+00 - val_recall_9: 0.0000e+00 - val_f1_score: 0.1853 - 651ms/epoch - 81ms/step\n",
      "Epoch 47/50\n",
      "8/8 - 1s - loss: 1.2436 - accuracy: 0.3770 - auc_9: 0.7135 - precision_9: 0.0000e+00 - recall_9: 0.0000e+00 - f1_score: 0.2943 - val_loss: 1.3419 - val_accuracy: 0.2951 - val_auc_9: 0.6131 - val_precision_9: 0.0000e+00 - val_recall_9: 0.0000e+00 - val_f1_score: 0.1921 - 647ms/epoch - 81ms/step\n",
      "Epoch 48/50\n",
      "8/8 - 1s - loss: 1.2402 - accuracy: 0.3730 - auc_9: 0.7132 - precision_9: 0.0000e+00 - recall_9: 0.0000e+00 - f1_score: 0.2939 - val_loss: 1.3452 - val_accuracy: 0.2787 - val_auc_9: 0.6093 - val_precision_9: 0.0000e+00 - val_recall_9: 0.0000e+00 - val_f1_score: 0.1874 - 714ms/epoch - 89ms/step\n",
      "Epoch 49/50\n",
      "8/8 - 1s - loss: 1.2363 - accuracy: 0.3648 - auc_9: 0.7092 - precision_9: 0.0000e+00 - recall_9: 0.0000e+00 - f1_score: 0.2983 - val_loss: 1.3452 - val_accuracy: 0.2869 - val_auc_9: 0.6098 - val_precision_9: 0.0000e+00 - val_recall_9: 0.0000e+00 - val_f1_score: 0.1956 - 714ms/epoch - 89ms/step\n",
      "Epoch 50/50\n",
      "8/8 - 1s - loss: 1.2324 - accuracy: 0.3852 - auc_9: 0.7156 - precision_9: 0.0000e+00 - recall_9: 0.0000e+00 - f1_score: 0.3095 - val_loss: 1.3440 - val_accuracy: 0.2787 - val_auc_9: 0.6113 - val_precision_9: 0.0000e+00 - val_recall_9: 0.0000e+00 - val_f1_score: 0.1853 - 699ms/epoch - 87ms/step\n"
     ]
    },
    {
     "data": {
      "image/png": "[encoded data removed]",
      "text/plain": [
       "<Figure size 432x288 with 1 Axes>"
      ]
     },
     "metadata": {
      "needs_background": "light"
     },
     "output_type": "display_data"
    },
    {
     "name": "stdout",
     "output_type": "stream",
     "text": [
      "Epoch 1/50\n",
      "8/8 - 3s - loss: 1.3857 - accuracy: 0.0328 - auc_10: 0.3147 - precision_10: 0.0000e+00 - recall_10: 0.0000e+00 - f1_score: 0.0394 - val_loss: 1.6386 - val_accuracy: 0.0246 - val_auc_10: 0.3169 - val_precision_10: 0.0000e+00 - val_recall_10: 0.0000e+00 - val_f1_score: 0.0159 - 3s/epoch - 391ms/step\n",
      "Epoch 2/50\n",
      "8/8 - 1s - loss: 1.3628 - accuracy: 0.0410 - auc_10: 0.3341 - precision_10: 0.0000e+00 - recall_10: 0.0000e+00 - f1_score: 0.0455 - val_loss: 1.5973 - val_accuracy: 0.0410 - val_auc_10: 0.3333 - val_precision_10: 0.0000e+00 - val_recall_10: 0.0000e+00 - val_f1_score: 0.0271 - 675ms/epoch - 84ms/step\n",
      "Epoch 3/50\n",
      "8/8 - 1s - loss: 1.3492 - accuracy: 0.0451 - auc_10: 0.3441 - precision_10: 0.0000e+00 - recall_10: 0.0000e+00 - f1_score: 0.0478 - val_loss: 1.5685 - val_accuracy: 0.0492 - val_auc_10: 0.3368 - val_precision_10: 0.0000e+00 - val_recall_10: 0.0000e+00 - val_f1_score: 0.0332 - 700ms/epoch - 88ms/step\n",
      "Epoch 4/50\n",
      "8/8 - 1s - loss: 1.3371 - accuracy: 0.0615 - auc_10: 0.3502 - precision_10: 0.0000e+00 - recall_10: 0.0000e+00 - f1_score: 0.0640 - val_loss: 1.5445 - val_accuracy: 0.0738 - val_auc_10: 0.3456 - val_precision_10: 0.0000e+00 - val_recall_10: 0.0000e+00 - val_f1_score: 0.0648 - 704ms/epoch - 88ms/step\n",
      "Epoch 5/50\n",
      "8/8 - 1s - loss: 1.3260 - accuracy: 0.0697 - auc_10: 0.3595 - precision_10: 0.0000e+00 - recall_10: 0.0000e+00 - f1_score: 0.0738 - val_loss: 1.5215 - val_accuracy: 0.0984 - val_auc_10: 0.3576 - val_precision_10: 0.0000e+00 - val_recall_10: 0.0000e+00 - val_f1_score: 0.0914 - 722ms/epoch - 90ms/step\n",
      "Epoch 6/50\n",
      "8/8 - 1s - loss: 1.3108 - accuracy: 0.0861 - auc_10: 0.3780 - precision_10: 0.0000e+00 - recall_10: 0.0000e+00 - f1_score: 0.0965 - val_loss: 1.4973 - val_accuracy: 0.1230 - val_auc_10: 0.3720 - val_precision_10: 0.0000e+00 - val_recall_10: 0.0000e+00 - val_f1_score: 0.1260 - 689ms/epoch - 86ms/step\n",
      "Epoch 7/50\n",
      "8/8 - 1s - loss: 1.3025 - accuracy: 0.1066 - auc_10: 0.3918 - precision_10: 0.0000e+00 - recall_10: 0.0000e+00 - f1_score: 0.1251 - val_loss: 1.4746 - val_accuracy: 0.1311 - val_auc_10: 0.3959 - val_precision_10: 0.0000e+00 - val_recall_10: 0.0000e+00 - val_f1_score: 0.1240 - 665ms/epoch - 83ms/step\n",
      "Epoch 8/50\n",
      "8/8 - 1s - loss: 1.2947 - accuracy: 0.1434 - auc_10: 0.4124 - precision_10: 0.0000e+00 - recall_10: 0.0000e+00 - f1_score: 0.1523 - val_loss: 1.4629 - val_accuracy: 0.1639 - val_auc_10: 0.4068 - val_precision_10: 0.5000 - val_recall_10: 0.0082 - val_f1_score: 0.1264 - 663ms/epoch - 83ms/step\n",
      "Epoch 9/50\n",
      "8/8 - 1s - loss: 1.2860 - accuracy: 0.1680 - auc_10: 0.4297 - precision_10: 0.0000e+00 - recall_10: 0.0000e+00 - f1_score: 0.1669 - val_loss: 1.4476 - val_accuracy: 0.1967 - val_auc_10: 0.4317 - val_precision_10: 0.5000 - val_recall_10: 0.0082 - val_f1_score: 0.1678 - 699ms/epoch - 87ms/step\n",
      "Epoch 10/50\n",
      "8/8 - 1s - loss: 1.2801 - accuracy: 0.2131 - auc_10: 0.4485 - precision_10: 0.0000e+00 - recall_10: 0.0000e+00 - f1_score: 0.1964 - val_loss: 1.4323 - val_accuracy: 0.2213 - val_auc_10: 0.4518 - val_precision_10: 0.5000 - val_recall_10: 0.0082 - val_f1_score: 0.1766 - 708ms/epoch - 89ms/step\n",
      "Epoch 11/50\n",
      "8/8 - 1s - loss: 1.2750 - accuracy: 0.2500 - auc_10: 0.4679 - precision_10: 0.0000e+00 - recall_10: 0.0000e+00 - f1_score: 0.2172 - val_loss: 1.4232 - val_accuracy: 0.2213 - val_auc_10: 0.4644 - val_precision_10: 0.5000 - val_recall_10: 0.0082 - val_f1_score: 0.1667 - 687ms/epoch - 86ms/step\n",
      "Epoch 12/50\n",
      "8/8 - 1s - loss: 1.2714 - accuracy: 0.2582 - auc_10: 0.4859 - precision_10: 0.0000e+00 - recall_10: 0.0000e+00 - f1_score: 0.2110 - val_loss: 1.4119 - val_accuracy: 0.2377 - val_auc_10: 0.4819 - val_precision_10: 0.5000 - val_recall_10: 0.0082 - val_f1_score: 0.1709 - 671ms/epoch - 84ms/step\n",
      "Epoch 13/50\n",
      "8/8 - 1s - loss: 1.2625 - accuracy: 0.2910 - auc_10: 0.5138 - precision_10: 0.0000e+00 - recall_10: 0.0000e+00 - f1_score: 0.2356 - val_loss: 1.3992 - val_accuracy: 0.2459 - val_auc_10: 0.4999 - val_precision_10: 0.5000 - val_recall_10: 0.0082 - val_f1_score: 0.1727 - 671ms/epoch - 84ms/step\n",
      "Epoch 14/50\n",
      "8/8 - 1s - loss: 1.2570 - accuracy: 0.2992 - auc_10: 0.5288 - precision_10: 1.0000 - recall_10: 0.0041 - f1_score: 0.2414 - val_loss: 1.3928 - val_accuracy: 0.2623 - val_auc_10: 0.5154 - val_precision_10: 0.5000 - val_recall_10: 0.0082 - val_f1_score: 0.1827 - 659ms/epoch - 82ms/step\n",
      "Epoch 15/50\n",
      "8/8 - 1s - loss: 1.2538 - accuracy: 0.3074 - auc_10: 0.5410 - precision_10: 1.0000 - recall_10: 0.0041 - f1_score: 0.2282 - val_loss: 1.3856 - val_accuracy: 0.2705 - val_auc_10: 0.5288 - val_precision_10: 0.5000 - val_recall_10: 0.0082 - val_f1_score: 0.1864 - 675ms/epoch - 84ms/step\n",
      "Epoch 16/50\n",
      "8/8 - 1s - loss: 1.2491 - accuracy: 0.3361 - auc_10: 0.5498 - precision_10: 0.0000e+00 - recall_10: 0.0000e+00 - f1_score: 0.2375 - val_loss: 1.3801 - val_accuracy: 0.2787 - val_auc_10: 0.5397 - val_precision_10: 0.5000 - val_recall_10: 0.0082 - val_f1_score: 0.1974 - 676ms/epoch - 84ms/step\n",
      "Epoch 17/50\n",
      "8/8 - 1s - loss: 1.2436 - accuracy: 0.3443 - auc_10: 0.5706 - precision_10: 1.0000 - recall_10: 0.0205 - f1_score: 0.2382 - val_loss: 1.3708 - val_accuracy: 0.2869 - val_auc_10: 0.5559 - val_precision_10: 0.5000 - val_recall_10: 0.0082 - val_f1_score: 0.1975 - 730ms/epoch - 91ms/step\n",
      "Epoch 18/50\n",
      "8/8 - 1s - loss: 1.2415 - accuracy: 0.3607 - auc_10: 0.5845 - precision_10: 1.0000 - recall_10: 0.0205 - f1_score: 0.2542 - val_loss: 1.3608 - val_accuracy: 0.2951 - val_auc_10: 0.5695 - val_precision_10: 0.5000 - val_recall_10: 0.0082 - val_f1_score: 0.1989 - 707ms/epoch - 88ms/step\n",
      "Epoch 19/50\n",
      "8/8 - 1s - loss: 1.2363 - accuracy: 0.3607 - auc_10: 0.5940 - precision_10: 1.0000 - recall_10: 0.0205 - f1_score: 0.2440 - val_loss: 1.3589 - val_accuracy: 0.2869 - val_auc_10: 0.5751 - val_precision_10: 0.5000 - val_recall_10: 0.0082 - val_f1_score: 0.1918 - 669ms/epoch - 84ms/step\n",
      "Epoch 20/50\n",
      "8/8 - 1s - loss: 1.2311 - accuracy: 0.3811 - auc_10: 0.5994 - precision_10: 1.0000 - recall_10: 0.0205 - f1_score: 0.2551 - val_loss: 1.3608 - val_accuracy: 0.2869 - val_auc_10: 0.5723 - val_precision_10: 0.5000 - val_recall_10: 0.0082 - val_f1_score: 0.1911 - 703ms/epoch - 88ms/step\n",
      "Epoch 21/50\n",
      "8/8 - 1s - loss: 1.2265 - accuracy: 0.3934 - auc_10: 0.6152 - precision_10: 1.0000 - recall_10: 0.0205 - f1_score: 0.2628 - val_loss: 1.3538 - val_accuracy: 0.3033 - val_auc_10: 0.5849 - val_precision_10: 0.5000 - val_recall_10: 0.0082 - val_f1_score: 0.1966 - 674ms/epoch - 84ms/step\n",
      "Epoch 22/50\n",
      "8/8 - 1s - loss: 1.2238 - accuracy: 0.3975 - auc_10: 0.6294 - precision_10: 1.0000 - recall_10: 0.0205 - f1_score: 0.2650 - val_loss: 1.3474 - val_accuracy: 0.3115 - val_auc_10: 0.5961 - val_precision_10: 0.5000 - val_recall_10: 0.0082 - val_f1_score: 0.2003 - 732ms/epoch - 91ms/step\n",
      "Epoch 23/50\n",
      "8/8 - 1s - loss: 1.2213 - accuracy: 0.3975 - auc_10: 0.6416 - precision_10: 1.0000 - recall_10: 0.0205 - f1_score: 0.2650 - val_loss: 1.3441 - val_accuracy: 0.3115 - val_auc_10: 0.6045 - val_precision_10: 0.5000 - val_recall_10: 0.0082 - val_f1_score: 0.2003 - 700ms/epoch - 88ms/step\n",
      "Epoch 24/50\n",
      "8/8 - 1s - loss: 1.2222 - accuracy: 0.3975 - auc_10: 0.6436 - precision_10: 1.0000 - recall_10: 0.0205 - f1_score: 0.2653 - val_loss: 1.3405 - val_accuracy: 0.3033 - val_auc_10: 0.6084 - val_precision_10: 0.5000 - val_recall_10: 0.0082 - val_f1_score: 0.1966 - 680ms/epoch - 85ms/step\n",
      "Epoch 25/50\n",
      "8/8 - 1s - loss: 1.2185 - accuracy: 0.3934 - auc_10: 0.6528 - precision_10: 1.0000 - recall_10: 0.0205 - f1_score: 0.2543 - val_loss: 1.3401 - val_accuracy: 0.3033 - val_auc_10: 0.6115 - val_precision_10: 0.5000 - val_recall_10: 0.0082 - val_f1_score: 0.1959 - 666ms/epoch - 83ms/step\n",
      "Epoch 26/50\n",
      "8/8 - 1s - loss: 1.2170 - accuracy: 0.4016 - auc_10: 0.6579 - precision_10: 1.0000 - recall_10: 0.0205 - f1_score: 0.2586 - val_loss: 1.3379 - val_accuracy: 0.3033 - val_auc_10: 0.6148 - val_precision_10: 0.5000 - val_recall_10: 0.0082 - val_f1_score: 0.1966 - 659ms/epoch - 82ms/step\n",
      "Epoch 27/50\n",
      "8/8 - 1s - loss: 1.2153 - accuracy: 0.3934 - auc_10: 0.6640 - precision_10: 1.0000 - recall_10: 0.0205 - f1_score: 0.2538 - val_loss: 1.3263 - val_accuracy: 0.3115 - val_auc_10: 0.6274 - val_precision_10: 0.6667 - val_recall_10: 0.0164 - val_f1_score: 0.2128 - 682ms/epoch - 85ms/step\n",
      "Epoch 28/50\n",
      "8/8 - 1s - loss: 1.2153 - accuracy: 0.3893 - auc_10: 0.6682 - precision_10: 1.0000 - recall_10: 0.0205 - f1_score: 0.2519 - val_loss: 1.3284 - val_accuracy: 0.3115 - val_auc_10: 0.6289 - val_precision_10: 0.6667 - val_recall_10: 0.0164 - val_f1_score: 0.2114 - 701ms/epoch - 88ms/step\n",
      "Epoch 29/50\n",
      "8/8 - 1s - loss: 1.2080 - accuracy: 0.4098 - auc_10: 0.6680 - precision_10: 1.0000 - recall_10: 0.0205 - f1_score: 0.2827 - val_loss: 1.3438 - val_accuracy: 0.3115 - val_auc_10: 0.6166 - val_precision_10: 0.6667 - val_recall_10: 0.0164 - val_f1_score: 0.2088 - 678ms/epoch - 85ms/step\n",
      "Epoch 30/50\n",
      "8/8 - 1s - loss: 1.2106 - accuracy: 0.3975 - auc_10: 0.6616 - precision_10: 1.0000 - recall_10: 0.0082 - f1_score: 0.2759 - val_loss: 1.3364 - val_accuracy: 0.3115 - val_auc_10: 0.6291 - val_precision_10: 0.6667 - val_recall_10: 0.0164 - val_f1_score: 0.2173 - 666ms/epoch - 83ms/step\n",
      "Epoch 31/50\n",
      "8/8 - 1s - loss: 1.2096 - accuracy: 0.4180 - auc_10: 0.6687 - precision_10: 1.0000 - recall_10: 0.0041 - f1_score: 0.3225 - val_loss: 1.3376 - val_accuracy: 0.3197 - val_auc_10: 0.6259 - val_precision_10: 0.6667 - val_recall_10: 0.0164 - val_f1_score: 0.2221 - 710ms/epoch - 89ms/step\n",
      "Epoch 32/50\n",
      "8/8 - 1s - loss: 1.2062 - accuracy: 0.4180 - auc_10: 0.6734 - precision_10: 1.0000 - recall_10: 0.0041 - f1_score: 0.3225 - val_loss: 1.3364 - val_accuracy: 0.3197 - val_auc_10: 0.6281 - val_precision_10: 0.6667 - val_recall_10: 0.0164 - val_f1_score: 0.2221 - 692ms/epoch - 87ms/step\n",
      "Epoch 33/50\n",
      "8/8 - 1s - loss: 1.2044 - accuracy: 0.4098 - auc_10: 0.6759 - precision_10: 1.0000 - recall_10: 0.0041 - f1_score: 0.3176 - val_loss: 1.3338 - val_accuracy: 0.3197 - val_auc_10: 0.6314 - val_precision_10: 0.6667 - val_recall_10: 0.0164 - val_f1_score: 0.2241 - 673ms/epoch - 84ms/step\n",
      "Epoch 34/50\n",
      "8/8 - 1s - loss: 1.2032 - accuracy: 0.4098 - auc_10: 0.6824 - precision_10: 1.0000 - recall_10: 0.0041 - f1_score: 0.3176 - val_loss: 1.3282 - val_accuracy: 0.3279 - val_auc_10: 0.6416 - val_precision_10: 0.6667 - val_recall_10: 0.0164 - val_f1_score: 0.2292 - 699ms/epoch - 87ms/step\n",
      "Epoch 35/50\n",
      "8/8 - 1s - loss: 1.2008 - accuracy: 0.4139 - auc_10: 0.6841 - precision_10: 1.0000 - recall_10: 0.0041 - f1_score: 0.3208 - val_loss: 1.3294 - val_accuracy: 0.3197 - val_auc_10: 0.6400 - val_precision_10: 0.6667 - val_recall_10: 0.0164 - val_f1_score: 0.2252 - 676ms/epoch - 84ms/step\n",
      "Epoch 36/50\n",
      "8/8 - 1s - loss: 1.1990 - accuracy: 0.4139 - auc_10: 0.6868 - precision_10: 1.0000 - recall_10: 0.0041 - f1_score: 0.3208 - val_loss: 1.3265 - val_accuracy: 0.3197 - val_auc_10: 0.6418 - val_precision_10: 0.6667 - val_recall_10: 0.0164 - val_f1_score: 0.2252 - 674ms/epoch - 84ms/step\n",
      "Epoch 37/50\n",
      "8/8 - 1s - loss: 1.1987 - accuracy: 0.4139 - auc_10: 0.6872 - precision_10: 1.0000 - recall_10: 0.0041 - f1_score: 0.3202 - val_loss: 1.3286 - val_accuracy: 0.3115 - val_auc_10: 0.6399 - val_precision_10: 0.6667 - val_recall_10: 0.0164 - val_f1_score: 0.2211 - 674ms/epoch - 84ms/step\n",
      "Epoch 38/50\n",
      "8/8 - 1s - loss: 1.1950 - accuracy: 0.4139 - auc_10: 0.6864 - precision_10: 1.0000 - recall_10: 0.0041 - f1_score: 0.3208 - val_loss: 1.3257 - val_accuracy: 0.3279 - val_auc_10: 0.6433 - val_precision_10: 0.6667 - val_recall_10: 0.0164 - val_f1_score: 0.2292 - 700ms/epoch - 88ms/step\n",
      "Epoch 39/50\n",
      "8/8 - 1s - loss: 1.1941 - accuracy: 0.4180 - auc_10: 0.6937 - precision_10: 1.0000 - recall_10: 0.0041 - f1_score: 0.3229 - val_loss: 1.3221 - val_accuracy: 0.3197 - val_auc_10: 0.6512 - val_precision_10: 0.6667 - val_recall_10: 0.0164 - val_f1_score: 0.2252 - 733ms/epoch - 92ms/step\n",
      "Epoch 40/50\n",
      "8/8 - 1s - loss: 1.1914 - accuracy: 0.4139 - auc_10: 0.6976 - precision_10: 1.0000 - recall_10: 0.0082 - f1_score: 0.3208 - val_loss: 1.3208 - val_accuracy: 0.3197 - val_auc_10: 0.6524 - val_precision_10: 0.6667 - val_recall_10: 0.0164 - val_f1_score: 0.2252 - 679ms/epoch - 85ms/step\n",
      "Epoch 41/50\n",
      "8/8 - 1s - loss: 1.1907 - accuracy: 0.4180 - auc_10: 0.6996 - precision_10: 1.0000 - recall_10: 0.0082 - f1_score: 0.3240 - val_loss: 1.3209 - val_accuracy: 0.3197 - val_auc_10: 0.6497 - val_precision_10: 0.6667 - val_recall_10: 0.0164 - val_f1_score: 0.2252 - 674ms/epoch - 84ms/step\n",
      "Epoch 42/50\n",
      "8/8 - 1s - loss: 1.1852 - accuracy: 0.4303 - auc_10: 0.7083 - precision_10: 1.0000 - recall_10: 0.0246 - f1_score: 0.3257 - val_loss: 1.2994 - val_accuracy: 0.3197 - val_auc_10: 0.6695 - val_precision_10: 0.6667 - val_recall_10: 0.0164 - val_f1_score: 0.2294 - 675ms/epoch - 84ms/step\n",
      "Epoch 43/50\n",
      "8/8 - 1s - loss: 1.1859 - accuracy: 0.4221 - auc_10: 0.7078 - precision_10: 1.0000 - recall_10: 0.0246 - f1_score: 0.3161 - val_loss: 1.2997 - val_accuracy: 0.3197 - val_auc_10: 0.6691 - val_precision_10: 0.6667 - val_recall_10: 0.0164 - val_f1_score: 0.2294 - 672ms/epoch - 84ms/step\n",
      "Epoch 44/50\n",
      "8/8 - 1s - loss: 1.1816 - accuracy: 0.4344 - auc_10: 0.7156 - precision_10: 1.0000 - recall_10: 0.0246 - f1_score: 0.3247 - val_loss: 1.2983 - val_accuracy: 0.3197 - val_auc_10: 0.6721 - val_precision_10: 0.6667 - val_recall_10: 0.0164 - val_f1_score: 0.2294 - 685ms/epoch - 86ms/step\n",
      "Epoch 45/50\n",
      "8/8 - 1s - loss: 1.1808 - accuracy: 0.4303 - auc_10: 0.7128 - precision_10: 1.0000 - recall_10: 0.0205 - f1_score: 0.3197 - val_loss: 1.3021 - val_accuracy: 0.3197 - val_auc_10: 0.6650 - val_precision_10: 0.6667 - val_recall_10: 0.0164 - val_f1_score: 0.2294 - 684ms/epoch - 86ms/step\n",
      "Epoch 46/50\n",
      "8/8 - 1s - loss: 1.1790 - accuracy: 0.4303 - auc_10: 0.7163 - precision_10: 1.0000 - recall_10: 0.0246 - f1_score: 0.3206 - val_loss: 1.2966 - val_accuracy: 0.3197 - val_auc_10: 0.6722 - val_precision_10: 0.6667 - val_recall_10: 0.0164 - val_f1_score: 0.2294 - 774ms/epoch - 97ms/step\n",
      "Epoch 47/50\n",
      "8/8 - 1s - loss: 1.1771 - accuracy: 0.4467 - auc_10: 0.7188 - precision_10: 1.0000 - recall_10: 0.0246 - f1_score: 0.3308 - val_loss: 1.2980 - val_accuracy: 0.3197 - val_auc_10: 0.6700 - val_precision_10: 0.6667 - val_recall_10: 0.0164 - val_f1_score: 0.2294 - 923ms/epoch - 115ms/step\n",
      "Epoch 48/50\n",
      "8/8 - 1s - loss: 1.1767 - accuracy: 0.4303 - auc_10: 0.7125 - precision_10: 1.0000 - recall_10: 0.0246 - f1_score: 0.3197 - val_loss: 1.3021 - val_accuracy: 0.3197 - val_auc_10: 0.6654 - val_precision_10: 0.6667 - val_recall_10: 0.0164 - val_f1_score: 0.2264 - 656ms/epoch - 82ms/step\n",
      "Epoch 49/50\n",
      "8/8 - 1s - loss: 1.1732 - accuracy: 0.4344 - auc_10: 0.7154 - precision_10: 1.0000 - recall_10: 0.0205 - f1_score: 0.3233 - val_loss: 1.2973 - val_accuracy: 0.3197 - val_auc_10: 0.6713 - val_precision_10: 0.6667 - val_recall_10: 0.0164 - val_f1_score: 0.2294 - 657ms/epoch - 82ms/step\n",
      "Epoch 50/50\n",
      "8/8 - 1s - loss: 1.1726 - accuracy: 0.4344 - auc_10: 0.7200 - precision_10: 1.0000 - recall_10: 0.0246 - f1_score: 0.3230 - val_loss: 1.2913 - val_accuracy: 0.3443 - val_auc_10: 0.6801 - val_precision_10: 0.6667 - val_recall_10: 0.0164 - val_f1_score: 0.2411 - 678ms/epoch - 85ms/step\n"
     ]
    },
    {
     "data": {
      "image/png": "[encoded data removed]",
      "text/plain": [
       "<Figure size 432x288 with 1 Axes>"
      ]
     },
     "metadata": {
      "needs_background": "light"
     },
     "output_type": "display_data"
    },
    {
     "name": "stdout",
     "output_type": "stream",
     "text": [
      "Epoch 1/50\n",
      "8/8 - 3s - loss: 1.4061 - accuracy: 0.1557 - auc_11: 0.3693 - precision_11: 0.0000e+00 - recall_11: 0.0000e+00 - f1_score: 0.1291 - val_loss: 1.6587 - val_accuracy: 0.1066 - val_auc_11: 0.3150 - val_precision_11: 0.0000e+00 - val_recall_11: 0.0000e+00 - val_f1_score: 0.0912 - 3s/epoch - 330ms/step\n",
      "Epoch 2/50\n",
      "8/8 - 1s - loss: 1.3742 - accuracy: 0.1721 - auc_11: 0.4069 - precision_11: 0.0000e+00 - recall_11: 0.0000e+00 - f1_score: 0.1404 - val_loss: 1.6050 - val_accuracy: 0.1393 - val_auc_11: 0.3461 - val_precision_11: 0.0000e+00 - val_recall_11: 0.0000e+00 - val_f1_score: 0.1121 - 673ms/epoch - 84ms/step\n",
      "Epoch 3/50\n",
      "8/8 - 1s - loss: 1.3508 - accuracy: 0.2049 - auc_11: 0.4503 - precision_11: 0.0000e+00 - recall_11: 0.0000e+00 - f1_score: 0.1675 - val_loss: 1.5500 - val_accuracy: 0.1721 - val_auc_11: 0.3901 - val_precision_11: 0.0000e+00 - val_recall_11: 0.0000e+00 - val_f1_score: 0.1387 - 648ms/epoch - 81ms/step\n",
      "Epoch 4/50\n",
      "8/8 - 1s - loss: 1.3346 - accuracy: 0.2254 - auc_11: 0.4856 - precision_11: 0.0000e+00 - recall_11: 0.0000e+00 - f1_score: 0.1811 - val_loss: 1.5088 - val_accuracy: 0.1803 - val_auc_11: 0.4254 - val_precision_11: 0.0000e+00 - val_recall_11: 0.0000e+00 - val_f1_score: 0.1444 - 728ms/epoch - 91ms/step\n",
      "Epoch 5/50\n",
      "8/8 - 1s - loss: 1.3214 - accuracy: 0.2500 - auc_11: 0.5097 - precision_11: 0.0000e+00 - recall_11: 0.0000e+00 - f1_score: 0.2060 - val_loss: 1.4813 - val_accuracy: 0.1967 - val_auc_11: 0.4536 - val_precision_11: 0.0000e+00 - val_recall_11: 0.0000e+00 - val_f1_score: 0.1546 - 728ms/epoch - 91ms/step\n",
      "Epoch 6/50\n",
      "8/8 - 1s - loss: 1.3033 - accuracy: 0.2582 - auc_11: 0.5322 - precision_11: 0.3333 - recall_11: 0.0041 - f1_score: 0.2118 - val_loss: 1.4509 - val_accuracy: 0.2131 - val_auc_11: 0.4823 - val_precision_11: 0.0000e+00 - val_recall_11: 0.0000e+00 - val_f1_score: 0.1728 - 682ms/epoch - 85ms/step\n",
      "Epoch 7/50\n",
      "8/8 - 1s - loss: 1.2933 - accuracy: 0.2828 - auc_11: 0.5620 - precision_11: 0.3333 - recall_11: 0.0041 - f1_score: 0.2334 - val_loss: 1.4256 - val_accuracy: 0.2131 - val_auc_11: 0.5123 - val_precision_11: 0.0000e+00 - val_recall_11: 0.0000e+00 - val_f1_score: 0.1680 - 663ms/epoch - 83ms/step\n",
      "Epoch 8/50\n",
      "8/8 - 1s - loss: 1.2858 - accuracy: 0.3033 - auc_11: 0.5864 - precision_11: 0.0000e+00 - recall_11: 0.0000e+00 - f1_score: 0.2466 - val_loss: 1.4087 - val_accuracy: 0.2131 - val_auc_11: 0.5322 - val_precision_11: 0.0000e+00 - val_recall_11: 0.0000e+00 - val_f1_score: 0.1654 - 681ms/epoch - 85ms/step\n",
      "Epoch 9/50\n",
      "8/8 - 1s - loss: 1.2799 - accuracy: 0.3074 - auc_11: 0.6010 - precision_11: 0.0000e+00 - recall_11: 0.0000e+00 - f1_score: 0.2522 - val_loss: 1.4025 - val_accuracy: 0.2623 - val_auc_11: 0.5376 - val_precision_11: 0.0000e+00 - val_recall_11: 0.0000e+00 - val_f1_score: 0.2008 - 665ms/epoch - 83ms/step\n",
      "Epoch 10/50\n",
      "8/8 - 1s - loss: 1.2734 - accuracy: 0.3320 - auc_11: 0.6090 - precision_11: 0.3333 - recall_11: 0.0041 - f1_score: 0.2658 - val_loss: 1.3985 - val_accuracy: 0.2705 - val_auc_11: 0.5406 - val_precision_11: 0.0000e+00 - val_recall_11: 0.0000e+00 - val_f1_score: 0.2059 - 690ms/epoch - 86ms/step\n",
      "Epoch 11/50\n",
      "8/8 - 1s - loss: 1.2649 - accuracy: 0.3484 - auc_11: 0.6221 - precision_11: 0.3333 - recall_11: 0.0041 - f1_score: 0.2728 - val_loss: 1.3790 - val_accuracy: 0.2705 - val_auc_11: 0.5600 - val_precision_11: 0.0000e+00 - val_recall_11: 0.0000e+00 - val_f1_score: 0.2029 - 690ms/epoch - 86ms/step\n",
      "Epoch 12/50\n",
      "8/8 - 1s - loss: 1.2513 - accuracy: 0.3648 - auc_11: 0.6451 - precision_11: 0.3333 - recall_11: 0.0041 - f1_score: 0.2841 - val_loss: 1.3539 - val_accuracy: 0.2787 - val_auc_11: 0.5859 - val_precision_11: 0.0000e+00 - val_recall_11: 0.0000e+00 - val_f1_score: 0.2087 - 654ms/epoch - 82ms/step\n",
      "Epoch 13/50\n",
      "8/8 - 1s - loss: 1.2493 - accuracy: 0.3689 - auc_11: 0.6610 - precision_11: 0.3333 - recall_11: 0.0041 - f1_score: 0.2881 - val_loss: 1.3523 - val_accuracy: 0.2705 - val_auc_11: 0.5867 - val_precision_11: 0.0000e+00 - val_recall_11: 0.0000e+00 - val_f1_score: 0.2014 - 681ms/epoch - 85ms/step\n",
      "Epoch 14/50\n",
      "8/8 - 1s - loss: 1.2366 - accuracy: 0.3811 - auc_11: 0.6692 - precision_11: 0.3333 - recall_11: 0.0041 - f1_score: 0.2963 - val_loss: 1.3450 - val_accuracy: 0.2705 - val_auc_11: 0.5936 - val_precision_11: 0.0000e+00 - val_recall_11: 0.0000e+00 - val_f1_score: 0.2001 - 679ms/epoch - 85ms/step\n",
      "Epoch 15/50\n",
      "8/8 - 1s - loss: 1.2287 - accuracy: 0.3770 - auc_11: 0.6747 - precision_11: 0.3333 - recall_11: 0.0041 - f1_score: 0.3007 - val_loss: 1.3439 - val_accuracy: 0.2951 - val_auc_11: 0.5934 - val_precision_11: 0.0000e+00 - val_recall_11: 0.0000e+00 - val_f1_score: 0.2143 - 687ms/epoch - 86ms/step\n",
      "Epoch 16/50\n",
      "8/8 - 1s - loss: 1.2215 - accuracy: 0.4057 - auc_11: 0.6812 - precision_11: 0.3333 - recall_11: 0.0041 - f1_score: 0.3214 - val_loss: 1.3353 - val_accuracy: 0.3115 - val_auc_11: 0.6040 - val_precision_11: 0.0000e+00 - val_recall_11: 0.0000e+00 - val_f1_score: 0.2232 - 684ms/epoch - 85ms/step\n",
      "Epoch 17/50\n",
      "8/8 - 1s - loss: 1.2280 - accuracy: 0.4385 - auc_11: 0.6936 - precision_11: 0.3333 - recall_11: 0.0041 - f1_score: 0.3325 - val_loss: 1.3307 - val_accuracy: 0.3115 - val_auc_11: 0.6118 - val_precision_11: 0.0000e+00 - val_recall_11: 0.0000e+00 - val_f1_score: 0.2240 - 696ms/epoch - 87ms/step\n",
      "Epoch 18/50\n",
      "8/8 - 1s - loss: 1.2139 - accuracy: 0.4549 - auc_11: 0.6970 - precision_11: 0.3333 - recall_11: 0.0041 - f1_score: 0.3460 - val_loss: 1.3332 - val_accuracy: 0.3197 - val_auc_11: 0.6090 - val_precision_11: 0.0000e+00 - val_recall_11: 0.0000e+00 - val_f1_score: 0.2282 - 704ms/epoch - 88ms/step\n",
      "Epoch 19/50\n",
      "8/8 - 1s - loss: 1.2083 - accuracy: 0.4508 - auc_11: 0.6987 - precision_11: 0.3333 - recall_11: 0.0041 - f1_score: 0.3427 - val_loss: 1.3293 - val_accuracy: 0.3443 - val_auc_11: 0.6128 - val_precision_11: 0.0000e+00 - val_recall_11: 0.0000e+00 - val_f1_score: 0.2461 - 658ms/epoch - 82ms/step\n",
      "Epoch 20/50\n",
      "8/8 - 1s - loss: 1.2077 - accuracy: 0.4508 - auc_11: 0.7067 - precision_11: 0.3333 - recall_11: 0.0041 - f1_score: 0.3434 - val_loss: 1.3164 - val_accuracy: 0.3525 - val_auc_11: 0.6287 - val_precision_11: 0.0000e+00 - val_recall_11: 0.0000e+00 - val_f1_score: 0.2492 - 697ms/epoch - 87ms/step\n",
      "Epoch 21/50\n",
      "8/8 - 1s - loss: 1.2002 - accuracy: 0.4508 - auc_11: 0.7141 - precision_11: 0.6000 - recall_11: 0.0123 - f1_score: 0.3414 - val_loss: 1.3193 - val_accuracy: 0.3361 - val_auc_11: 0.6249 - val_precision_11: 0.0000e+00 - val_recall_11: 0.0000e+00 - val_f1_score: 0.2309 - 652ms/epoch - 81ms/step\n",
      "Epoch 22/50\n",
      "8/8 - 1s - loss: 1.1977 - accuracy: 0.4508 - auc_11: 0.7126 - precision_11: 0.6000 - recall_11: 0.0123 - f1_score: 0.3391 - val_loss: 1.3213 - val_accuracy: 0.3279 - val_auc_11: 0.6195 - val_precision_11: 0.0000e+00 - val_recall_11: 0.0000e+00 - val_f1_score: 0.2272 - 646ms/epoch - 81ms/step\n",
      "Epoch 23/50\n",
      "8/8 - 1s - loss: 1.1923 - accuracy: 0.4549 - auc_11: 0.7182 - precision_11: 0.6000 - recall_11: 0.0123 - f1_score: 0.3435 - val_loss: 1.3112 - val_accuracy: 0.3443 - val_auc_11: 0.6322 - val_precision_11: 0.0000e+00 - val_recall_11: 0.0000e+00 - val_f1_score: 0.2327 - 646ms/epoch - 81ms/step\n",
      "Epoch 24/50\n",
      "8/8 - 1s - loss: 1.1882 - accuracy: 0.4631 - auc_11: 0.7267 - precision_11: 0.6000 - recall_11: 0.0123 - f1_score: 0.3466 - val_loss: 1.3052 - val_accuracy: 0.3525 - val_auc_11: 0.6389 - val_precision_11: 0.0000e+00 - val_recall_11: 0.0000e+00 - val_f1_score: 0.2370 - 661ms/epoch - 83ms/step\n",
      "Epoch 25/50\n",
      "8/8 - 1s - loss: 1.1832 - accuracy: 0.4795 - auc_11: 0.7336 - precision_11: 0.6000 - recall_11: 0.0123 - f1_score: 0.3558 - val_loss: 1.2923 - val_accuracy: 0.3770 - val_auc_11: 0.6553 - val_precision_11: 0.0000e+00 - val_recall_11: 0.0000e+00 - val_f1_score: 0.2559 - 647ms/epoch - 81ms/step\n",
      "Epoch 26/50\n",
      "8/8 - 1s - loss: 1.1790 - accuracy: 0.4754 - auc_11: 0.7403 - precision_11: 0.6000 - recall_11: 0.0123 - f1_score: 0.3555 - val_loss: 1.2892 - val_accuracy: 0.3607 - val_auc_11: 0.6576 - val_precision_11: 0.0000e+00 - val_recall_11: 0.0000e+00 - val_f1_score: 0.2475 - 662ms/epoch - 83ms/step\n",
      "Epoch 27/50\n",
      "8/8 - 1s - loss: 1.1759 - accuracy: 0.4590 - auc_11: 0.7407 - precision_11: 0.6000 - recall_11: 0.0123 - f1_score: 0.3452 - val_loss: 1.2922 - val_accuracy: 0.3689 - val_auc_11: 0.6540 - val_precision_11: 0.0000e+00 - val_recall_11: 0.0000e+00 - val_f1_score: 0.2513 - 660ms/epoch - 83ms/step\n",
      "Epoch 28/50\n",
      "8/8 - 1s - loss: 1.1711 - accuracy: 0.4795 - auc_11: 0.7426 - precision_11: 0.6000 - recall_11: 0.0123 - f1_score: 0.3553 - val_loss: 1.2861 - val_accuracy: 0.3689 - val_auc_11: 0.6612 - val_precision_11: 0.0000e+00 - val_recall_11: 0.0000e+00 - val_f1_score: 0.2521 - 650ms/epoch - 81ms/step\n",
      "Epoch 29/50\n",
      "8/8 - 1s - loss: 1.1675 - accuracy: 0.4795 - auc_11: 0.7487 - precision_11: 0.6000 - recall_11: 0.0123 - f1_score: 0.3544 - val_loss: 1.2847 - val_accuracy: 0.3689 - val_auc_11: 0.6611 - val_precision_11: 0.0000e+00 - val_recall_11: 0.0000e+00 - val_f1_score: 0.2513 - 657ms/epoch - 82ms/step\n",
      "Epoch 30/50\n",
      "8/8 - 1s - loss: 1.1647 - accuracy: 0.4795 - auc_11: 0.7504 - precision_11: 0.6000 - recall_11: 0.0123 - f1_score: 0.3599 - val_loss: 1.2805 - val_accuracy: 0.3689 - val_auc_11: 0.6629 - val_precision_11: 0.0000e+00 - val_recall_11: 0.0000e+00 - val_f1_score: 0.2513 - 659ms/epoch - 82ms/step\n",
      "Epoch 31/50\n",
      "8/8 - 1s - loss: 1.1593 - accuracy: 0.4918 - auc_11: 0.7506 - precision_11: 0.6000 - recall_11: 0.0123 - f1_score: 0.3702 - val_loss: 1.2813 - val_accuracy: 0.3689 - val_auc_11: 0.6626 - val_precision_11: 0.0000e+00 - val_recall_11: 0.0000e+00 - val_f1_score: 0.2521 - 674ms/epoch - 84ms/step\n",
      "Epoch 32/50\n",
      "8/8 - 1s - loss: 1.1568 - accuracy: 0.4836 - auc_11: 0.7527 - precision_11: 0.6000 - recall_11: 0.0123 - f1_score: 0.3679 - val_loss: 1.2701 - val_accuracy: 0.3934 - val_auc_11: 0.6766 - val_precision_11: 0.0000e+00 - val_recall_11: 0.0000e+00 - val_f1_score: 0.2715 - 650ms/epoch - 81ms/step\n",
      "Epoch 33/50\n",
      "8/8 - 1s - loss: 1.1531 - accuracy: 0.4877 - auc_11: 0.7602 - precision_11: 0.6000 - recall_11: 0.0123 - f1_score: 0.3703 - val_loss: 1.2637 - val_accuracy: 0.4098 - val_auc_11: 0.6787 - val_precision_11: 0.0000e+00 - val_recall_11: 0.0000e+00 - val_f1_score: 0.2763 - 645ms/epoch - 81ms/step\n",
      "Epoch 34/50\n",
      "8/8 - 1s - loss: 1.1505 - accuracy: 0.4836 - auc_11: 0.7637 - precision_11: 0.6000 - recall_11: 0.0123 - f1_score: 0.3682 - val_loss: 1.2648 - val_accuracy: 0.4016 - val_auc_11: 0.6752 - val_precision_11: 0.0000e+00 - val_recall_11: 0.0000e+00 - val_f1_score: 0.2639 - 647ms/epoch - 81ms/step\n",
      "Epoch 35/50\n",
      "8/8 - 1s - loss: 1.1463 - accuracy: 0.4877 - auc_11: 0.7645 - precision_11: 0.6000 - recall_11: 0.0123 - f1_score: 0.3650 - val_loss: 1.2642 - val_accuracy: 0.3852 - val_auc_11: 0.6778 - val_precision_11: 0.0000e+00 - val_recall_11: 0.0000e+00 - val_f1_score: 0.2495 - 645ms/epoch - 81ms/step\n",
      "Epoch 36/50\n",
      "8/8 - 1s - loss: 1.1446 - accuracy: 0.5000 - auc_11: 0.7609 - precision_11: 0.6000 - recall_11: 0.0123 - f1_score: 0.3762 - val_loss: 1.2701 - val_accuracy: 0.3852 - val_auc_11: 0.6694 - val_precision_11: 0.0000e+00 - val_recall_11: 0.0000e+00 - val_f1_score: 0.2534 - 645ms/epoch - 81ms/step\n",
      "Epoch 37/50\n",
      "8/8 - 1s - loss: 1.1411 - accuracy: 0.5000 - auc_11: 0.7598 - precision_11: 0.6000 - recall_11: 0.0123 - f1_score: 0.3758 - val_loss: 1.2689 - val_accuracy: 0.3770 - val_auc_11: 0.6706 - val_precision_11: 0.0000e+00 - val_recall_11: 0.0000e+00 - val_f1_score: 0.2472 - 645ms/epoch - 81ms/step\n",
      "Epoch 38/50\n",
      "8/8 - 1s - loss: 1.1367 - accuracy: 0.5123 - auc_11: 0.7663 - precision_11: 0.6000 - recall_11: 0.0123 - f1_score: 0.3792 - val_loss: 1.2612 - val_accuracy: 0.3852 - val_auc_11: 0.6790 - val_precision_11: 0.0000e+00 - val_recall_11: 0.0000e+00 - val_f1_score: 0.2423 - 647ms/epoch - 81ms/step\n",
      "Epoch 39/50\n",
      "8/8 - 1s - loss: 1.1314 - accuracy: 0.5205 - auc_11: 0.7724 - precision_11: 0.6000 - recall_11: 0.0123 - f1_score: 0.3947 - val_loss: 1.2568 - val_accuracy: 0.4016 - val_auc_11: 0.6818 - val_precision_11: 0.0000e+00 - val_recall_11: 0.0000e+00 - val_f1_score: 0.2579 - 646ms/epoch - 81ms/step\n",
      "Epoch 40/50\n",
      "8/8 - 1s - loss: 1.1250 - accuracy: 0.5123 - auc_11: 0.7705 - precision_11: 0.6000 - recall_11: 0.0123 - f1_score: 0.3935 - val_loss: 1.2583 - val_accuracy: 0.3770 - val_auc_11: 0.6775 - val_precision_11: 0.0000e+00 - val_recall_11: 0.0000e+00 - val_f1_score: 0.2458 - 711ms/epoch - 89ms/step\n",
      "Epoch 41/50\n",
      "8/8 - 1s - loss: 1.1171 - accuracy: 0.5246 - auc_11: 0.7765 - precision_11: 0.6000 - recall_11: 0.0123 - f1_score: 0.4084 - val_loss: 1.2472 - val_accuracy: 0.3934 - val_auc_11: 0.6866 - val_precision_11: 0.0000e+00 - val_recall_11: 0.0000e+00 - val_f1_score: 0.2536 - 675ms/epoch - 84ms/step\n",
      "Epoch 42/50\n",
      "8/8 - 1s - loss: 1.1500 - accuracy: 0.5205 - auc_11: 0.7789 - precision_11: 0.6000 - recall_11: 0.0123 - f1_score: 0.3978 - val_loss: 1.2418 - val_accuracy: 0.4016 - val_auc_11: 0.6916 - val_precision_11: 0.0000e+00 - val_recall_11: 0.0000e+00 - val_f1_score: 0.2617 - 680ms/epoch - 85ms/step\n",
      "Epoch 43/50\n",
      "8/8 - 1s - loss: 1.1376 - accuracy: 0.5123 - auc_11: 0.7806 - precision_11: 0.6000 - recall_11: 0.0123 - f1_score: 0.3909 - val_loss: 1.2447 - val_accuracy: 0.3852 - val_auc_11: 0.6876 - val_precision_11: 0.0000e+00 - val_recall_11: 0.0000e+00 - val_f1_score: 0.2410 - 654ms/epoch - 82ms/step\n",
      "Epoch 44/50\n",
      "8/8 - 1s - loss: 1.1050 - accuracy: 0.5328 - auc_11: 0.7828 - precision_11: 0.6000 - recall_11: 0.0123 - f1_score: 0.4109 - val_loss: 1.2425 - val_accuracy: 0.3934 - val_auc_11: 0.6910 - val_precision_11: 0.0000e+00 - val_recall_11: 0.0000e+00 - val_f1_score: 0.2477 - 679ms/epoch - 85ms/step\n",
      "Epoch 45/50\n",
      "8/8 - 1s - loss: 1.1019 - accuracy: 0.5451 - auc_11: 0.7856 - precision_11: 0.6000 - recall_11: 0.0123 - f1_score: 0.4154 - val_loss: 1.2390 - val_accuracy: 0.3934 - val_auc_11: 0.6934 - val_precision_11: 1.0000 - val_recall_11: 0.0082 - val_f1_score: 0.2464 - 682ms/epoch - 85ms/step\n",
      "Epoch 46/50\n",
      "8/8 - 1s - loss: 1.1008 - accuracy: 0.5451 - auc_11: 0.7879 - precision_11: 0.6000 - recall_11: 0.0123 - f1_score: 0.4185 - val_loss: 1.2364 - val_accuracy: 0.3852 - val_auc_11: 0.6945 - val_precision_11: 1.0000 - val_recall_11: 0.0082 - val_f1_score: 0.2427 - 686ms/epoch - 86ms/step\n",
      "Epoch 47/50\n",
      "8/8 - 1s - loss: 1.1029 - accuracy: 0.5492 - auc_11: 0.7823 - precision_11: 0.6000 - recall_11: 0.0123 - f1_score: 0.4191 - val_loss: 1.2473 - val_accuracy: 0.3607 - val_auc_11: 0.6809 - val_precision_11: 1.0000 - val_recall_11: 0.0082 - val_f1_score: 0.2263 - 663ms/epoch - 83ms/step\n",
      "Epoch 48/50\n",
      "8/8 - 1s - loss: 1.0958 - accuracy: 0.5410 - auc_11: 0.7799 - precision_11: 0.6667 - recall_11: 0.0164 - f1_score: 0.4089 - val_loss: 1.2564 - val_accuracy: 0.3770 - val_auc_11: 0.6774 - val_precision_11: 1.0000 - val_recall_11: 0.0082 - val_f1_score: 0.2430 - 671ms/epoch - 84ms/step\n",
      "Epoch 49/50\n",
      "8/8 - 1s - loss: 1.0978 - accuracy: 0.5287 - auc_11: 0.7741 - precision_11: 0.6000 - recall_11: 0.0123 - f1_score: 0.3965 - val_loss: 1.2554 - val_accuracy: 0.3770 - val_auc_11: 0.6783 - val_precision_11: 1.0000 - val_recall_11: 0.0082 - val_f1_score: 0.2430 - 649ms/epoch - 81ms/step\n",
      "Epoch 50/50\n",
      "8/8 - 1s - loss: 1.0893 - accuracy: 0.5574 - auc_11: 0.7826 - precision_11: 0.6000 - recall_11: 0.0123 - f1_score: 0.4189 - val_loss: 1.2494 - val_accuracy: 0.3934 - val_auc_11: 0.6843 - val_precision_11: 1.0000 - val_recall_11: 0.0082 - val_f1_score: 0.2418 - 666ms/epoch - 83ms/step\n"
     ]
    },
    {
     "data": {
      "image/png": "[encoded data removed]",
      "text/plain": [
       "<Figure size 432x288 with 1 Axes>"
      ]
     },
     "metadata": {
      "needs_background": "light"
     },
     "output_type": "display_data"
    }
   ],
   "source": [
    "for train_index, val_index in kf.split(X):\n",
    "    X_train, X_val = X[train_index], X[val_index]\n",
    "    y_train, y_val = y[train_index], y[val_index]\n",
    "    model = Baseline(n_features, n_length, n_outputs)\n",
    "    history = model.train(X_train, y_train, X_val, y_val, epochs, batch_size, d_class_weights)\n",
    "    plt.plot(history.history['loss'])\n",
    "    plt.show()"
   ]
  },
  {
   "cell_type": "markdown",
   "metadata": {},
   "source": [
    "##### Prediction on the holdout set"
   ]
  },
  {
   "cell_type": "code",
   "execution_count": 19,
   "metadata": {},
   "outputs": [
    {
     "name": "stdout",
     "output_type": "stream",
     "text": [
      "Accuracy: 38.53% \n",
      "Balanced Accuracy: 29.96% \n",
      "ROC/AUC: 0.67 \n",
      "Precision: 0.00 \n",
      "Recall: 0.00 \n",
      "F1 score: 0.24\n"
     ]
    }
   ],
   "source": [
    "y_pred = model.predict(X_test)\n",
    "_, acc, auc, precision, recall, f1 = model.evaluate(X_test, y_test)\n",
    "results.append(round(acc, 2))\n",
    "bal_acc = balanced_accuracy_score(y_test.argmax(axis=1), y_pred.argmax(axis=1)) \n",
    "print('Accuracy: {:.2f}% \\nBalanced Accuracy: {:.2f}% \\nROC/AUC: {:.2f} \\nPrecision: {:.2f} \\nRecall: {:.2f} \\nF1 score: {:.2f}'.format(acc * 100, bal_acc * 100, auc, precision, recall, f1))"
   ]
  },
  {
   "cell_type": "markdown",
   "metadata": {},
   "source": [
    "## 4. Multimodal Late Fusion"
   ]
  },
  {
   "cell_type": "markdown",
   "metadata": {},
   "source": [
    "### Dataset"
   ]
  },
  {
   "cell_type": "code",
   "execution_count": 20,
   "metadata": {},
   "outputs": [
    {
     "name": "stdout",
     "output_type": "stream",
     "text": [
      "(366, 350, 35) (366, 4)\n",
      "(231, 350, 35) (231, 4)\n"
     ]
    }
   ],
   "source": [
    "body_X_train, body_X_test, body_y_train, body_y_test = load_dataset('skeleton', fusion=True, nopain=False)\n",
    "body_X_train = body_X_train.reshape(body_X_train.shape[0], body_X_train.shape[2], body_X_train.shape[3])\n",
    "body_X_test = body_X_test.reshape(body_X_test.shape[0], body_X_test.shape[2], body_X_test.shape[3])\n",
    "body_X = body_X_train.copy()\n",
    "body_y = body_y_train.copy()\n",
    "\n",
    "print(body_X_train.shape, body_y_train.shape)\n",
    "print(body_X_test.shape, body_y_test.shape)"
   ]
  },
  {
   "cell_type": "code",
   "execution_count": 21,
   "metadata": {},
   "outputs": [
    {
     "name": "stdout",
     "output_type": "stream",
     "text": [
      "(366, 350, 25) (366, 4)\n",
      "(231, 350, 25) (231, 4)\n"
     ]
    }
   ],
   "source": [
    "face_X_train, face_X_test, face_y_train, face_y_test = load_dataset('AUs', nopain=False)\n",
    "face_X_train = face_X_train.reshape(face_X_train.shape[0], face_X_train.shape[2], face_X_train.shape[3])\n",
    "face_X_test = face_X_test.reshape(face_X_test.shape[0], face_X_test.shape[2], face_X_test.shape[3])\n",
    "face_X = face_X_train.copy()\n",
    "face_y = face_y_train.copy()\n",
    "\n",
    "print(face_X_train.shape, face_y_train.shape)\n",
    "print(face_X_test.shape, face_y_test.shape)"
   ]
  },
  {
   "cell_type": "code",
   "execution_count": 22,
   "metadata": {},
   "outputs": [],
   "source": [
    "n_length, body_features, face_features, n_outputs = face_X_train.shape[1], body_X_train.shape[-1], face_X_train.shape[-1], body_y_train.shape[1]"
   ]
  },
  {
   "cell_type": "markdown",
   "metadata": {},
   "source": [
    "### Baseline Model"
   ]
  },
  {
   "cell_type": "code",
   "execution_count": 23,
   "metadata": {},
   "outputs": [],
   "source": [
    "class fusioned_Baseline():\n",
    "    def __init__(self, body_features, face_features, n_length, n_outputs):\n",
    "        input_1 = Input(shape=(n_length, body_features))\n",
    "        lstm_1 = LSTM(50)(input_1)\n",
    "        dense_1 = Dense(50)(lstm_1)\n",
    "\n",
    "        input_2 = Input(shape=(n_length, face_features))\n",
    "        lstm_2 = LSTM(50)(input_2)\n",
    "        dense_2 = Dense(50)(lstm_2)\n",
    "\n",
    "        concat = Concatenate()([dense_1, dense_2])\n",
    "        output = Dense(units=n_outputs, activation='softmax')(concat)\n",
    "        model = Model(inputs=[input_1, input_2], outputs=[output])\n",
    "        model.compile(loss='categorical_crossentropy', optimizer=tf.keras.optimizers.Adam(learning_rate=0.0001), metrics=['accuracy', tf.keras.metrics.AUC(), tf.keras.metrics.Precision(), tf.keras.metrics.Recall(), tfa.metrics.F1Score(num_classes=n_outputs, average='macro')])\n",
    "        self.model = model\n",
    "\n",
    "    def train(self, body_X_train, face_X_train, y_train, body_X_val, face_X_val, y_val, epochs, batch_size, class_weight):\n",
    "        history = self.model.fit([body_X_train, face_X_train], y_train, validation_data=([body_X_val, face_X_val], y_val), \n",
    "                            epochs=epochs, batch_size=batch_size, class_weight=class_weight, verbose=2)\n",
    "        return history\n",
    "\n",
    "    def evaluate(self, body_X_test, face_X_test, y_test):\n",
    "        results = self.model.evaluate([body_X_test, face_X_test], y_test, verbose=0)\n",
    "        return results\n",
    "\n",
    "    def predict(self, body_X_test, face_X_test):\n",
    "        predictions = self.model.predict([body_X_test, face_X_test])\n",
    "        return predictions\n",
    "\n",
    "    def summary(self):\n",
    "        self.model.summary()"
   ]
  },
  {
   "cell_type": "code",
   "execution_count": 24,
   "metadata": {},
   "outputs": [
    {
     "name": "stdout",
     "output_type": "stream",
     "text": [
      "Model: \"model_12\"\n",
      "__________________________________________________________________________________________________\n",
      " Layer (type)                   Output Shape         Param #     Connected to                     \n",
      "==================================================================================================\n",
      " input_13 (InputLayer)          [(None, 350, 35)]    0           []                               \n",
      "                                                                                                  \n",
      " input_14 (InputLayer)          [(None, 350, 25)]    0           []                               \n",
      "                                                                                                  \n",
      " lstm_12 (LSTM)                 (None, 50)           17200       ['input_13[0][0]']               \n",
      "                                                                                                  \n",
      " lstm_13 (LSTM)                 (None, 50)           15200       ['input_14[0][0]']               \n",
      "                                                                                                  \n",
      " dense_24 (Dense)               (None, 50)           2550        ['lstm_12[0][0]']                \n",
      "                                                                                                  \n",
      " dense_25 (Dense)               (None, 50)           2550        ['lstm_13[0][0]']                \n",
      "                                                                                                  \n",
      " concatenate (Concatenate)      (None, 100)          0           ['dense_24[0][0]',               \n",
      "                                                                  'dense_25[0][0]']               \n",
      "                                                                                                  \n",
      " dense_26 (Dense)               (None, 4)            404         ['concatenate[0][0]']            \n",
      "                                                                                                  \n",
      "==================================================================================================\n",
      "Total params: 37,904\n",
      "Trainable params: 37,904\n",
      "Non-trainable params: 0\n",
      "__________________________________________________________________________________________________\n"
     ]
    }
   ],
   "source": [
    "model = fusioned_Baseline(body_features, face_features, n_length, n_outputs)\n",
    "model.summary()"
   ]
  },
  {
   "cell_type": "markdown",
   "metadata": {},
   "source": [
    "### Baseline Model"
   ]
  },
  {
   "cell_type": "code",
   "execution_count": 25,
   "metadata": {},
   "outputs": [
    {
     "name": "stdout",
     "output_type": "stream",
     "text": [
      "Epoch 1/50\n",
      "8/8 - 5s - loss: 1.5652 - accuracy: 0.3320 - auc_13: 0.6359 - precision_13: 0.2857 - recall_13: 0.0082 - f1_score: 0.1573 - val_loss: 1.3595 - val_accuracy: 0.2787 - val_auc_13: 0.6014 - val_precision_13: 0.0000e+00 - val_recall_13: 0.0000e+00 - val_f1_score: 0.1259 - 5s/epoch - 574ms/step\n",
      "Epoch 2/50\n",
      "8/8 - 1s - loss: 1.4946 - accuracy: 0.3443 - auc_13: 0.6475 - precision_13: 0.0000e+00 - recall_13: 0.0000e+00 - f1_score: 0.1719 - val_loss: 1.3672 - val_accuracy: 0.2787 - val_auc_13: 0.5859 - val_precision_13: 0.0000e+00 - val_recall_13: 0.0000e+00 - val_f1_score: 0.1342 - 803ms/epoch - 100ms/step\n",
      "Epoch 3/50\n",
      "8/8 - 1s - loss: 1.4395 - accuracy: 0.3320 - auc_13: 0.6498 - precision_13: 0.0000e+00 - recall_13: 0.0000e+00 - f1_score: 0.1810 - val_loss: 1.3663 - val_accuracy: 0.2541 - val_auc_13: 0.5842 - val_precision_13: 0.0000e+00 - val_recall_13: 0.0000e+00 - val_f1_score: 0.1439 - 834ms/epoch - 104ms/step\n",
      "Epoch 4/50\n",
      "8/8 - 1s - loss: 1.3866 - accuracy: 0.3443 - auc_13: 0.6632 - precision_13: 0.0000e+00 - recall_13: 0.0000e+00 - f1_score: 0.1669 - val_loss: 1.3691 - val_accuracy: 0.2787 - val_auc_13: 0.5849 - val_precision_13: 0.0000e+00 - val_recall_13: 0.0000e+00 - val_f1_score: 0.1686 - 825ms/epoch - 103ms/step\n",
      "Epoch 5/50\n",
      "8/8 - 1s - loss: 1.3557 - accuracy: 0.3607 - auc_13: 0.6683 - precision_13: 0.0000e+00 - recall_13: 0.0000e+00 - f1_score: 0.1901 - val_loss: 1.3673 - val_accuracy: 0.3197 - val_auc_13: 0.5878 - val_precision_13: 0.0000e+00 - val_recall_13: 0.0000e+00 - val_f1_score: 0.1795 - 863ms/epoch - 108ms/step\n",
      "Epoch 6/50\n",
      "8/8 - 1s - loss: 1.3367 - accuracy: 0.3852 - auc_13: 0.6734 - precision_13: 0.0000e+00 - recall_13: 0.0000e+00 - f1_score: 0.2338 - val_loss: 1.3603 - val_accuracy: 0.3279 - val_auc_13: 0.5928 - val_precision_13: 0.0000e+00 - val_recall_13: 0.0000e+00 - val_f1_score: 0.2170 - 838ms/epoch - 105ms/step\n",
      "Epoch 7/50\n",
      "8/8 - 1s - loss: 1.3251 - accuracy: 0.4139 - auc_13: 0.6750 - precision_13: 0.0000e+00 - recall_13: 0.0000e+00 - f1_score: 0.2946 - val_loss: 1.3680 - val_accuracy: 0.3033 - val_auc_13: 0.5735 - val_precision_13: 0.0000e+00 - val_recall_13: 0.0000e+00 - val_f1_score: 0.2228 - 811ms/epoch - 101ms/step\n",
      "Epoch 8/50\n",
      "8/8 - 1s - loss: 1.3151 - accuracy: 0.4057 - auc_13: 0.6645 - precision_13: 0.0000e+00 - recall_13: 0.0000e+00 - f1_score: 0.3003 - val_loss: 1.3757 - val_accuracy: 0.2869 - val_auc_13: 0.5588 - val_precision_13: 0.0000e+00 - val_recall_13: 0.0000e+00 - val_f1_score: 0.2378 - 833ms/epoch - 104ms/step\n",
      "Epoch 9/50\n",
      "8/8 - 1s - loss: 1.3083 - accuracy: 0.3852 - auc_13: 0.6487 - precision_13: 0.0000e+00 - recall_13: 0.0000e+00 - f1_score: 0.2962 - val_loss: 1.3855 - val_accuracy: 0.2541 - val_auc_13: 0.5376 - val_precision_13: 0.0000e+00 - val_recall_13: 0.0000e+00 - val_f1_score: 0.2115 - 826ms/epoch - 103ms/step\n",
      "Epoch 10/50\n",
      "8/8 - 1s - loss: 1.3013 - accuracy: 0.3975 - auc_13: 0.6523 - precision_13: 0.0000e+00 - recall_13: 0.0000e+00 - f1_score: 0.3131 - val_loss: 1.3825 - val_accuracy: 0.2623 - val_auc_13: 0.5434 - val_precision_13: 0.0000e+00 - val_recall_13: 0.0000e+00 - val_f1_score: 0.2224 - 813ms/epoch - 102ms/step\n",
      "Epoch 11/50\n",
      "8/8 - 1s - loss: 1.2962 - accuracy: 0.4221 - auc_13: 0.6573 - precision_13: 0.0000e+00 - recall_13: 0.0000e+00 - f1_score: 0.3295 - val_loss: 1.3813 - val_accuracy: 0.2705 - val_auc_13: 0.5500 - val_precision_13: 0.0000e+00 - val_recall_13: 0.0000e+00 - val_f1_score: 0.2180 - 834ms/epoch - 104ms/step\n",
      "Epoch 12/50\n",
      "8/8 - 1s - loss: 1.2898 - accuracy: 0.4385 - auc_13: 0.6624 - precision_13: 0.0000e+00 - recall_13: 0.0000e+00 - f1_score: 0.3347 - val_loss: 1.3796 - val_accuracy: 0.2705 - val_auc_13: 0.5540 - val_precision_13: 0.0000e+00 - val_recall_13: 0.0000e+00 - val_f1_score: 0.2236 - 835ms/epoch - 104ms/step\n",
      "Epoch 13/50\n",
      "8/8 - 1s - loss: 1.2860 - accuracy: 0.4262 - auc_13: 0.6671 - precision_13: 0.0000e+00 - recall_13: 0.0000e+00 - f1_score: 0.3222 - val_loss: 1.3797 - val_accuracy: 0.2623 - val_auc_13: 0.5567 - val_precision_13: 0.0000e+00 - val_recall_13: 0.0000e+00 - val_f1_score: 0.2182 - 882ms/epoch - 110ms/step\n",
      "Epoch 14/50\n",
      "8/8 - 1s - loss: 1.2834 - accuracy: 0.4180 - auc_13: 0.6610 - precision_13: 0.0000e+00 - recall_13: 0.0000e+00 - f1_score: 0.3279 - val_loss: 1.3818 - val_accuracy: 0.2541 - val_auc_13: 0.5537 - val_precision_13: 0.0000e+00 - val_recall_13: 0.0000e+00 - val_f1_score: 0.2070 - 866ms/epoch - 108ms/step\n",
      "Epoch 15/50\n",
      "8/8 - 1s - loss: 1.2795 - accuracy: 0.4139 - auc_13: 0.6644 - precision_13: 0.0000e+00 - recall_13: 0.0000e+00 - f1_score: 0.3276 - val_loss: 1.3785 - val_accuracy: 0.2459 - val_auc_13: 0.5601 - val_precision_13: 0.0000e+00 - val_recall_13: 0.0000e+00 - val_f1_score: 0.2020 - 804ms/epoch - 100ms/step\n",
      "Epoch 16/50\n",
      "8/8 - 1s - loss: 1.2758 - accuracy: 0.4262 - auc_13: 0.6769 - precision_13: 0.0000e+00 - recall_13: 0.0000e+00 - f1_score: 0.3352 - val_loss: 1.3711 - val_accuracy: 0.2459 - val_auc_13: 0.5784 - val_precision_13: 0.0000e+00 - val_recall_13: 0.0000e+00 - val_f1_score: 0.1945 - 896ms/epoch - 112ms/step\n",
      "Epoch 17/50\n",
      "8/8 - 1s - loss: 1.2722 - accuracy: 0.4467 - auc_13: 0.6926 - precision_13: 0.0000e+00 - recall_13: 0.0000e+00 - f1_score: 0.3538 - val_loss: 1.3632 - val_accuracy: 0.2377 - val_auc_13: 0.5911 - val_precision_13: 0.0000e+00 - val_recall_13: 0.0000e+00 - val_f1_score: 0.1855 - 860ms/epoch - 108ms/step\n",
      "Epoch 18/50\n",
      "8/8 - 1s - loss: 1.2661 - accuracy: 0.4508 - auc_13: 0.7000 - precision_13: 0.0000e+00 - recall_13: 0.0000e+00 - f1_score: 0.3586 - val_loss: 1.3624 - val_accuracy: 0.2459 - val_auc_13: 0.5948 - val_precision_13: 0.0000e+00 - val_recall_13: 0.0000e+00 - val_f1_score: 0.1957 - 978ms/epoch - 122ms/step\n",
      "Epoch 19/50\n",
      "8/8 - 1s - loss: 1.2590 - accuracy: 0.4549 - auc_13: 0.7040 - precision_13: 0.0000e+00 - recall_13: 0.0000e+00 - f1_score: 0.3614 - val_loss: 1.3633 - val_accuracy: 0.2459 - val_auc_13: 0.5905 - val_precision_13: 0.0000e+00 - val_recall_13: 0.0000e+00 - val_f1_score: 0.1957 - 824ms/epoch - 103ms/step\n",
      "Epoch 20/50\n",
      "8/8 - 1s - loss: 1.2599 - accuracy: 0.4590 - auc_13: 0.7082 - precision_13: 0.0000e+00 - recall_13: 0.0000e+00 - f1_score: 0.3596 - val_loss: 1.3598 - val_accuracy: 0.2459 - val_auc_13: 0.5967 - val_precision_13: 0.0000e+00 - val_recall_13: 0.0000e+00 - val_f1_score: 0.1941 - 893ms/epoch - 112ms/step\n",
      "Epoch 21/50\n",
      "8/8 - 1s - loss: 1.2509 - accuracy: 0.4508 - auc_13: 0.7058 - precision_13: 0.0000e+00 - recall_13: 0.0000e+00 - f1_score: 0.3545 - val_loss: 1.3606 - val_accuracy: 0.2377 - val_auc_13: 0.5947 - val_precision_13: 0.0000e+00 - val_recall_13: 0.0000e+00 - val_f1_score: 0.1831 - 816ms/epoch - 102ms/step\n",
      "Epoch 22/50\n",
      "8/8 - 1s - loss: 1.2501 - accuracy: 0.4426 - auc_13: 0.7101 - precision_13: 0.0000e+00 - recall_13: 0.0000e+00 - f1_score: 0.3457 - val_loss: 1.3579 - val_accuracy: 0.2295 - val_auc_13: 0.5997 - val_precision_13: 0.0000e+00 - val_recall_13: 0.0000e+00 - val_f1_score: 0.1709 - 858ms/epoch - 107ms/step\n",
      "Epoch 23/50\n",
      "8/8 - 1s - loss: 1.2472 - accuracy: 0.4385 - auc_13: 0.7033 - precision_13: 0.0000e+00 - recall_13: 0.0000e+00 - f1_score: 0.3430 - val_loss: 1.3701 - val_accuracy: 0.2705 - val_auc_13: 0.5826 - val_precision_13: 0.0000e+00 - val_recall_13: 0.0000e+00 - val_f1_score: 0.2242 - 896ms/epoch - 112ms/step\n",
      "Epoch 24/50\n",
      "8/8 - 1s - loss: 1.2440 - accuracy: 0.4221 - auc_13: 0.6836 - precision_13: 0.0000e+00 - recall_13: 0.0000e+00 - f1_score: 0.3424 - val_loss: 1.3750 - val_accuracy: 0.2705 - val_auc_13: 0.5693 - val_precision_13: 0.0000e+00 - val_recall_13: 0.0000e+00 - val_f1_score: 0.2251 - 828ms/epoch - 103ms/step\n",
      "Epoch 25/50\n",
      "8/8 - 1s - loss: 1.2410 - accuracy: 0.4262 - auc_13: 0.6836 - precision_13: 0.0000e+00 - recall_13: 0.0000e+00 - f1_score: 0.3501 - val_loss: 1.3739 - val_accuracy: 0.2787 - val_auc_13: 0.5740 - val_precision_13: 0.0000e+00 - val_recall_13: 0.0000e+00 - val_f1_score: 0.2344 - 851ms/epoch - 106ms/step\n",
      "Epoch 26/50\n",
      "8/8 - 1s - loss: 1.2368 - accuracy: 0.4221 - auc_13: 0.6904 - precision_13: 0.0000e+00 - recall_13: 0.0000e+00 - f1_score: 0.3441 - val_loss: 1.3709 - val_accuracy: 0.2623 - val_auc_13: 0.5772 - val_precision_13: 0.0000e+00 - val_recall_13: 0.0000e+00 - val_f1_score: 0.2171 - 823ms/epoch - 103ms/step\n",
      "Epoch 27/50\n",
      "8/8 - 1s - loss: 1.2342 - accuracy: 0.4303 - auc_13: 0.6983 - precision_13: 0.0000e+00 - recall_13: 0.0000e+00 - f1_score: 0.3481 - val_loss: 1.3646 - val_accuracy: 0.2705 - val_auc_13: 0.5882 - val_precision_13: 0.0000e+00 - val_recall_13: 0.0000e+00 - val_f1_score: 0.2247 - 820ms/epoch - 102ms/step\n",
      "Epoch 28/50\n",
      "8/8 - 1s - loss: 1.2314 - accuracy: 0.4385 - auc_13: 0.7022 - precision_13: 0.0000e+00 - recall_13: 0.0000e+00 - f1_score: 0.3552 - val_loss: 1.3660 - val_accuracy: 0.2623 - val_auc_13: 0.5851 - val_precision_13: 0.0000e+00 - val_recall_13: 0.0000e+00 - val_f1_score: 0.2143 - 888ms/epoch - 111ms/step\n",
      "Epoch 29/50\n",
      "8/8 - 1s - loss: 1.2283 - accuracy: 0.4508 - auc_13: 0.7022 - precision_13: 0.0000e+00 - recall_13: 0.0000e+00 - f1_score: 0.3681 - val_loss: 1.3651 - val_accuracy: 0.2787 - val_auc_13: 0.5851 - val_precision_13: 0.0000e+00 - val_recall_13: 0.0000e+00 - val_f1_score: 0.2341 - 912ms/epoch - 114ms/step\n",
      "Epoch 30/50\n",
      "8/8 - 1s - loss: 1.2259 - accuracy: 0.4590 - auc_13: 0.7068 - precision_13: 0.0000e+00 - recall_13: 0.0000e+00 - f1_score: 0.3650 - val_loss: 1.3615 - val_accuracy: 0.2869 - val_auc_13: 0.5897 - val_precision_13: 0.0000e+00 - val_recall_13: 0.0000e+00 - val_f1_score: 0.2387 - 841ms/epoch - 105ms/step\n",
      "Epoch 31/50\n",
      "8/8 - 1s - loss: 1.2229 - accuracy: 0.4672 - auc_13: 0.7087 - precision_13: 0.0000e+00 - recall_13: 0.0000e+00 - f1_score: 0.3797 - val_loss: 1.3607 - val_accuracy: 0.2787 - val_auc_13: 0.5920 - val_precision_13: 0.0000e+00 - val_recall_13: 0.0000e+00 - val_f1_score: 0.2299 - 848ms/epoch - 106ms/step\n",
      "Epoch 32/50\n",
      "8/8 - 1s - loss: 1.2197 - accuracy: 0.4672 - auc_13: 0.7067 - precision_13: 0.0000e+00 - recall_13: 0.0000e+00 - f1_score: 0.3793 - val_loss: 1.3593 - val_accuracy: 0.2705 - val_auc_13: 0.5926 - val_precision_13: 0.0000e+00 - val_recall_13: 0.0000e+00 - val_f1_score: 0.2233 - 846ms/epoch - 106ms/step\n",
      "Epoch 33/50\n",
      "8/8 - 1s - loss: 1.2178 - accuracy: 0.4713 - auc_13: 0.7094 - precision_13: 0.0000e+00 - recall_13: 0.0000e+00 - f1_score: 0.3841 - val_loss: 1.3578 - val_accuracy: 0.2705 - val_auc_13: 0.5958 - val_precision_13: 0.0000e+00 - val_recall_13: 0.0000e+00 - val_f1_score: 0.2232 - 897ms/epoch - 112ms/step\n",
      "Epoch 34/50\n",
      "8/8 - 1s - loss: 1.2148 - accuracy: 0.4672 - auc_13: 0.7075 - precision_13: 0.0000e+00 - recall_13: 0.0000e+00 - f1_score: 0.3791 - val_loss: 1.3582 - val_accuracy: 0.2705 - val_auc_13: 0.5928 - val_precision_13: 0.0000e+00 - val_recall_13: 0.0000e+00 - val_f1_score: 0.2232 - 873ms/epoch - 109ms/step\n",
      "Epoch 35/50\n",
      "8/8 - 1s - loss: 1.2133 - accuracy: 0.4672 - auc_13: 0.7099 - precision_13: 0.0000e+00 - recall_13: 0.0000e+00 - f1_score: 0.3787 - val_loss: 1.3562 - val_accuracy: 0.2787 - val_auc_13: 0.5943 - val_precision_13: 0.0000e+00 - val_recall_13: 0.0000e+00 - val_f1_score: 0.2269 - 867ms/epoch - 108ms/step\n",
      "Epoch 36/50\n",
      "8/8 - 1s - loss: 1.2101 - accuracy: 0.4672 - auc_13: 0.7190 - precision_13: 0.0000e+00 - recall_13: 0.0000e+00 - f1_score: 0.3704 - val_loss: 1.3502 - val_accuracy: 0.2787 - val_auc_13: 0.6039 - val_precision_13: 0.0000e+00 - val_recall_13: 0.0000e+00 - val_f1_score: 0.2290 - 849ms/epoch - 106ms/step\n",
      "Epoch 37/50\n",
      "8/8 - 1s - loss: 1.2078 - accuracy: 0.4754 - auc_13: 0.7221 - precision_13: 0.0000e+00 - recall_13: 0.0000e+00 - f1_score: 0.3802 - val_loss: 1.3488 - val_accuracy: 0.2869 - val_auc_13: 0.6060 - val_precision_13: 0.0000e+00 - val_recall_13: 0.0000e+00 - val_f1_score: 0.2391 - 872ms/epoch - 109ms/step\n",
      "Epoch 38/50\n",
      "8/8 - 1s - loss: 1.2054 - accuracy: 0.4754 - auc_13: 0.7235 - precision_13: 0.0000e+00 - recall_13: 0.0000e+00 - f1_score: 0.3860 - val_loss: 1.3445 - val_accuracy: 0.2787 - val_auc_13: 0.6112 - val_precision_13: 0.0000e+00 - val_recall_13: 0.0000e+00 - val_f1_score: 0.2283 - 849ms/epoch - 106ms/step\n",
      "Epoch 39/50\n",
      "8/8 - 1s - loss: 1.2027 - accuracy: 0.4713 - auc_13: 0.7311 - precision_13: 0.0000e+00 - recall_13: 0.0000e+00 - f1_score: 0.3750 - val_loss: 1.3414 - val_accuracy: 0.2951 - val_auc_13: 0.6155 - val_precision_13: 0.0000e+00 - val_recall_13: 0.0000e+00 - val_f1_score: 0.2377 - 855ms/epoch - 107ms/step\n",
      "Epoch 40/50\n",
      "8/8 - 1s - loss: 1.1998 - accuracy: 0.4795 - auc_13: 0.7311 - precision_13: 0.0000e+00 - recall_13: 0.0000e+00 - f1_score: 0.3823 - val_loss: 1.3384 - val_accuracy: 0.2869 - val_auc_13: 0.6206 - val_precision_13: 0.0000e+00 - val_recall_13: 0.0000e+00 - val_f1_score: 0.2326 - 858ms/epoch - 107ms/step\n",
      "Epoch 41/50\n",
      "8/8 - 1s - loss: 1.1974 - accuracy: 0.4795 - auc_13: 0.7246 - precision_13: 0.0000e+00 - recall_13: 0.0000e+00 - f1_score: 0.3909 - val_loss: 1.3450 - val_accuracy: 0.2951 - val_auc_13: 0.6117 - val_precision_13: 0.0000e+00 - val_recall_13: 0.0000e+00 - val_f1_score: 0.2377 - 972ms/epoch - 122ms/step\n",
      "Epoch 42/50\n",
      "8/8 - 1s - loss: 1.1952 - accuracy: 0.4795 - auc_13: 0.7278 - precision_13: 0.0000e+00 - recall_13: 0.0000e+00 - f1_score: 0.3911 - val_loss: 1.3383 - val_accuracy: 0.2951 - val_auc_13: 0.6190 - val_precision_13: 0.0000e+00 - val_recall_13: 0.0000e+00 - val_f1_score: 0.2377 - 895ms/epoch - 112ms/step\n",
      "Epoch 43/50\n",
      "8/8 - 1s - loss: 1.1907 - accuracy: 0.4795 - auc_13: 0.7332 - precision_13: 0.0000e+00 - recall_13: 0.0000e+00 - f1_score: 0.3911 - val_loss: 1.3388 - val_accuracy: 0.2869 - val_auc_13: 0.6191 - val_precision_13: 0.0000e+00 - val_recall_13: 0.0000e+00 - val_f1_score: 0.2343 - 831ms/epoch - 104ms/step\n",
      "Epoch 44/50\n",
      "8/8 - 1s - loss: 1.1890 - accuracy: 0.4795 - auc_13: 0.7404 - precision_13: 0.0000e+00 - recall_13: 0.0000e+00 - f1_score: 0.3883 - val_loss: 1.3310 - val_accuracy: 0.2951 - val_auc_13: 0.6294 - val_precision_13: 0.0000e+00 - val_recall_13: 0.0000e+00 - val_f1_score: 0.2377 - 819ms/epoch - 102ms/step\n",
      "Epoch 45/50\n",
      "8/8 - 1s - loss: 1.1869 - accuracy: 0.4795 - auc_13: 0.7449 - precision_13: 1.0000 - recall_13: 0.0041 - f1_score: 0.3883 - val_loss: 1.3302 - val_accuracy: 0.2951 - val_auc_13: 0.6335 - val_precision_13: 0.0000e+00 - val_recall_13: 0.0000e+00 - val_f1_score: 0.2384 - 857ms/epoch - 107ms/step\n",
      "Epoch 46/50\n",
      "8/8 - 1s - loss: 1.1833 - accuracy: 0.4795 - auc_13: 0.7429 - precision_13: 1.0000 - recall_13: 0.0041 - f1_score: 0.3912 - val_loss: 1.3317 - val_accuracy: 0.3033 - val_auc_13: 0.6280 - val_precision_13: 0.0000e+00 - val_recall_13: 0.0000e+00 - val_f1_score: 0.2414 - 824ms/epoch - 103ms/step\n",
      "Epoch 47/50\n",
      "8/8 - 1s - loss: 1.1812 - accuracy: 0.4713 - auc_13: 0.7339 - precision_13: 1.0000 - recall_13: 0.0041 - f1_score: 0.3813 - val_loss: 1.3410 - val_accuracy: 0.2869 - val_auc_13: 0.6147 - val_precision_13: 0.0000e+00 - val_recall_13: 0.0000e+00 - val_f1_score: 0.2327 - 877ms/epoch - 110ms/step\n",
      "Epoch 48/50\n",
      "8/8 - 1s - loss: 1.1786 - accuracy: 0.4754 - auc_13: 0.7334 - precision_13: 1.0000 - recall_13: 0.0041 - f1_score: 0.3926 - val_loss: 1.3377 - val_accuracy: 0.2869 - val_auc_13: 0.6172 - val_precision_13: 0.0000e+00 - val_recall_13: 0.0000e+00 - val_f1_score: 0.2322 - 865ms/epoch - 108ms/step\n",
      "Epoch 49/50\n",
      "8/8 - 1s - loss: 1.1736 - accuracy: 0.4672 - auc_13: 0.7371 - precision_13: 1.0000 - recall_13: 0.0041 - f1_score: 0.3873 - val_loss: 1.3355 - val_accuracy: 0.2787 - val_auc_13: 0.6230 - val_precision_13: 0.0000e+00 - val_recall_13: 0.0000e+00 - val_f1_score: 0.2297 - 829ms/epoch - 104ms/step\n",
      "Epoch 50/50\n",
      "8/8 - 1s - loss: 1.1735 - accuracy: 0.4590 - auc_13: 0.7349 - precision_13: 0.6667 - recall_13: 0.0082 - f1_score: 0.3818 - val_loss: 1.3360 - val_accuracy: 0.2705 - val_auc_13: 0.6224 - val_precision_13: 0.0000e+00 - val_recall_13: 0.0000e+00 - val_f1_score: 0.2184 - 897ms/epoch - 112ms/step\n"
     ]
    },
    {
     "data": {
      "image/png": "[encoded data removed]",
      "text/plain": [
       "<Figure size 432x288 with 1 Axes>"
      ]
     },
     "metadata": {
      "needs_background": "light"
     },
     "output_type": "display_data"
    },
    {
     "name": "stdout",
     "output_type": "stream",
     "text": [
      "Epoch 1/50\n",
      "8/8 - 4s - loss: 1.3930 - accuracy: 0.1516 - auc_14: 0.4361 - precision_14: 0.0769 - recall_14: 0.0082 - f1_score: 0.0908 - val_loss: 1.4613 - val_accuracy: 0.1557 - val_auc_14: 0.5280 - val_precision_14: 0.3636 - val_recall_14: 0.0328 - val_f1_score: 0.0802 - 4s/epoch - 506ms/step\n",
      "Epoch 2/50\n",
      "8/8 - 1s - loss: 1.3279 - accuracy: 0.1598 - auc_14: 0.5017 - precision_14: 0.0000e+00 - recall_14: 0.0000e+00 - f1_score: 0.0959 - val_loss: 1.4302 - val_accuracy: 0.1557 - val_auc_14: 0.5421 - val_precision_14: 0.6000 - val_recall_14: 0.0246 - val_f1_score: 0.0821 - 856ms/epoch - 107ms/step\n",
      "Epoch 3/50\n",
      "8/8 - 1s - loss: 1.2818 - accuracy: 0.1680 - auc_14: 0.5423 - precision_14: 0.0000e+00 - recall_14: 0.0000e+00 - f1_score: 0.1023 - val_loss: 1.3987 - val_accuracy: 0.1803 - val_auc_14: 0.5616 - val_precision_14: 0.5000 - val_recall_14: 0.0082 - val_f1_score: 0.1034 - 799ms/epoch - 100ms/step\n",
      "Epoch 4/50\n",
      "8/8 - 1s - loss: 1.2493 - accuracy: 0.2049 - auc_14: 0.5775 - precision_14: 0.0000e+00 - recall_14: 0.0000e+00 - f1_score: 0.1380 - val_loss: 1.3568 - val_accuracy: 0.2213 - val_auc_14: 0.6033 - val_precision_14: 0.5000 - val_recall_14: 0.0082 - val_f1_score: 0.1301 - 845ms/epoch - 106ms/step\n",
      "Epoch 5/50\n",
      "8/8 - 1s - loss: 1.2283 - accuracy: 0.2213 - auc_14: 0.6046 - precision_14: 1.0000 - recall_14: 0.0041 - f1_score: 0.1490 - val_loss: 1.3549 - val_accuracy: 0.2623 - val_auc_14: 0.5998 - val_precision_14: 0.5000 - val_recall_14: 0.0082 - val_f1_score: 0.1722 - 860ms/epoch - 108ms/step\n",
      "Epoch 6/50\n",
      "8/8 - 1s - loss: 1.2064 - accuracy: 0.2746 - auc_14: 0.6258 - precision_14: 1.0000 - recall_14: 0.0164 - f1_score: 0.1983 - val_loss: 1.3368 - val_accuracy: 0.2705 - val_auc_14: 0.6134 - val_precision_14: 0.5000 - val_recall_14: 0.0082 - val_f1_score: 0.1902 - 941ms/epoch - 118ms/step\n",
      "Epoch 7/50\n",
      "8/8 - 1s - loss: 1.1864 - accuracy: 0.3115 - auc_14: 0.6542 - precision_14: 1.0000 - recall_14: 0.0164 - f1_score: 0.2254 - val_loss: 1.3131 - val_accuracy: 0.3033 - val_auc_14: 0.6358 - val_precision_14: 0.5000 - val_recall_14: 0.0082 - val_f1_score: 0.2306 - 858ms/epoch - 107ms/step\n",
      "Epoch 8/50\n",
      "8/8 - 1s - loss: 1.1707 - accuracy: 0.3484 - auc_14: 0.6726 - precision_14: 1.0000 - recall_14: 0.0205 - f1_score: 0.2634 - val_loss: 1.3015 - val_accuracy: 0.3361 - val_auc_14: 0.6489 - val_precision_14: 0.5000 - val_recall_14: 0.0082 - val_f1_score: 0.2508 - 893ms/epoch - 112ms/step\n",
      "Epoch 9/50\n",
      "8/8 - 1s - loss: 1.1612 - accuracy: 0.3525 - auc_14: 0.6835 - precision_14: 1.0000 - recall_14: 0.0205 - f1_score: 0.2648 - val_loss: 1.2952 - val_accuracy: 0.3607 - val_auc_14: 0.6578 - val_precision_14: 0.5000 - val_recall_14: 0.0082 - val_f1_score: 0.2586 - 840ms/epoch - 105ms/step\n",
      "Epoch 10/50\n",
      "8/8 - 1s - loss: 1.1515 - accuracy: 0.3607 - auc_14: 0.6921 - precision_14: 1.0000 - recall_14: 0.0205 - f1_score: 0.2692 - val_loss: 1.2976 - val_accuracy: 0.3443 - val_auc_14: 0.6513 - val_precision_14: 0.5000 - val_recall_14: 0.0082 - val_f1_score: 0.2447 - 906ms/epoch - 113ms/step\n",
      "Epoch 11/50\n",
      "8/8 - 1s - loss: 1.1426 - accuracy: 0.3893 - auc_14: 0.7054 - precision_14: 1.0000 - recall_14: 0.0205 - f1_score: 0.2995 - val_loss: 1.2884 - val_accuracy: 0.3689 - val_auc_14: 0.6631 - val_precision_14: 0.5000 - val_recall_14: 0.0082 - val_f1_score: 0.2593 - 875ms/epoch - 109ms/step\n",
      "Epoch 12/50\n",
      "8/8 - 1s - loss: 1.1344 - accuracy: 0.4180 - auc_14: 0.7166 - precision_14: 1.0000 - recall_14: 0.0287 - f1_score: 0.3232 - val_loss: 1.2819 - val_accuracy: 0.4098 - val_auc_14: 0.6668 - val_precision_14: 0.6667 - val_recall_14: 0.0164 - val_f1_score: 0.2842 - 828ms/epoch - 104ms/step\n",
      "Epoch 13/50\n",
      "8/8 - 1s - loss: 1.1263 - accuracy: 0.4303 - auc_14: 0.7244 - precision_14: 1.0000 - recall_14: 0.0369 - f1_score: 0.3310 - val_loss: 1.2780 - val_accuracy: 0.4180 - val_auc_14: 0.6688 - val_precision_14: 0.6667 - val_recall_14: 0.0164 - val_f1_score: 0.3277 - 882ms/epoch - 110ms/step\n",
      "Epoch 14/50\n",
      "8/8 - 1s - loss: 1.1152 - accuracy: 0.4385 - auc_14: 0.7296 - precision_14: 1.0000 - recall_14: 0.0369 - f1_score: 0.3362 - val_loss: 1.2722 - val_accuracy: 0.4262 - val_auc_14: 0.6747 - val_precision_14: 0.6667 - val_recall_14: 0.0164 - val_f1_score: 0.3286 - 972ms/epoch - 121ms/step\n",
      "Epoch 15/50\n",
      "8/8 - 1s - loss: 1.1064 - accuracy: 0.4426 - auc_14: 0.7374 - precision_14: 1.0000 - recall_14: 0.0410 - f1_score: 0.3406 - val_loss: 1.2515 - val_accuracy: 0.4344 - val_auc_14: 0.6963 - val_precision_14: 0.6667 - val_recall_14: 0.0164 - val_f1_score: 0.2846 - 855ms/epoch - 107ms/step\n",
      "Epoch 16/50\n",
      "8/8 - 1s - loss: 1.1335 - accuracy: 0.4303 - auc_14: 0.7379 - precision_14: 1.0000 - recall_14: 0.0451 - f1_score: 0.3097 - val_loss: 1.2460 - val_accuracy: 0.4590 - val_auc_14: 0.7027 - val_precision_14: 0.6667 - val_recall_14: 0.0164 - val_f1_score: 0.2939 - 888ms/epoch - 111ms/step\n",
      "Epoch 17/50\n",
      "8/8 - 1s - loss: 1.1298 - accuracy: 0.4344 - auc_14: 0.7394 - precision_14: 1.0000 - recall_14: 0.0451 - f1_score: 0.3049 - val_loss: 1.2442 - val_accuracy: 0.4590 - val_auc_14: 0.7056 - val_precision_14: 0.6667 - val_recall_14: 0.0164 - val_f1_score: 0.2938 - 933ms/epoch - 117ms/step\n",
      "Epoch 18/50\n",
      "8/8 - 1s - loss: 1.1298 - accuracy: 0.4262 - auc_14: 0.7358 - precision_14: 1.0000 - recall_14: 0.0410 - f1_score: 0.3180 - val_loss: 1.2462 - val_accuracy: 0.4508 - val_auc_14: 0.7057 - val_precision_14: 0.6667 - val_recall_14: 0.0164 - val_f1_score: 0.2915 - 872ms/epoch - 109ms/step\n",
      "Epoch 19/50\n",
      "8/8 - 1s - loss: 1.1243 - accuracy: 0.4016 - auc_14: 0.7318 - precision_14: 1.0000 - recall_14: 0.0369 - f1_score: 0.3079 - val_loss: 1.2548 - val_accuracy: 0.4016 - val_auc_14: 0.6920 - val_precision_14: 0.6667 - val_recall_14: 0.0164 - val_f1_score: 0.2686 - 890ms/epoch - 111ms/step\n",
      "Epoch 20/50\n",
      "8/8 - 1s - loss: 1.1212 - accuracy: 0.4098 - auc_14: 0.7325 - precision_14: 1.0000 - recall_14: 0.0369 - f1_score: 0.3160 - val_loss: 1.2493 - val_accuracy: 0.4098 - val_auc_14: 0.7000 - val_precision_14: 0.6667 - val_recall_14: 0.0164 - val_f1_score: 0.2809 - 877ms/epoch - 110ms/step\n",
      "Epoch 21/50\n",
      "8/8 - 1s - loss: 1.1182 - accuracy: 0.4426 - auc_14: 0.7396 - precision_14: 1.0000 - recall_14: 0.0410 - f1_score: 0.3361 - val_loss: 1.2434 - val_accuracy: 0.4180 - val_auc_14: 0.7055 - val_precision_14: 0.6667 - val_recall_14: 0.0164 - val_f1_score: 0.2862 - 1s/epoch - 126ms/step\n",
      "Epoch 22/50\n",
      "8/8 - 1s - loss: 1.1161 - accuracy: 0.4467 - auc_14: 0.7452 - precision_14: 1.0000 - recall_14: 0.0369 - f1_score: 0.3399 - val_loss: 1.2371 - val_accuracy: 0.4590 - val_auc_14: 0.7106 - val_precision_14: 0.5000 - val_recall_14: 0.0082 - val_f1_score: 0.2939 - 857ms/epoch - 107ms/step\n",
      "Epoch 23/50\n",
      "8/8 - 1s - loss: 1.1120 - accuracy: 0.4385 - auc_14: 0.7449 - precision_14: 1.0000 - recall_14: 0.0369 - f1_score: 0.3364 - val_loss: 1.2477 - val_accuracy: 0.4098 - val_auc_14: 0.6990 - val_precision_14: 0.5000 - val_recall_14: 0.0082 - val_f1_score: 0.2728 - 859ms/epoch - 107ms/step\n",
      "Epoch 24/50\n",
      "8/8 - 1s - loss: 1.1109 - accuracy: 0.4303 - auc_14: 0.7398 - precision_14: 1.0000 - recall_14: 0.0369 - f1_score: 0.3258 - val_loss: 1.2526 - val_accuracy: 0.4016 - val_auc_14: 0.6925 - val_precision_14: 0.5000 - val_recall_14: 0.0082 - val_f1_score: 0.2803 - 906ms/epoch - 113ms/step\n",
      "Epoch 25/50\n",
      "8/8 - 1s - loss: 1.1104 - accuracy: 0.4344 - auc_14: 0.7403 - precision_14: 1.0000 - recall_14: 0.0410 - f1_score: 0.3354 - val_loss: 1.2571 - val_accuracy: 0.3934 - val_auc_14: 0.6901 - val_precision_14: 0.5000 - val_recall_14: 0.0082 - val_f1_score: 0.2687 - 836ms/epoch - 105ms/step\n",
      "Epoch 26/50\n",
      "8/8 - 1s - loss: 1.1058 - accuracy: 0.4385 - auc_14: 0.7375 - precision_14: 1.0000 - recall_14: 0.0410 - f1_score: 0.3376 - val_loss: 1.2598 - val_accuracy: 0.3852 - val_auc_14: 0.6873 - val_precision_14: 0.5000 - val_recall_14: 0.0082 - val_f1_score: 0.2649 - 894ms/epoch - 112ms/step\n",
      "Epoch 27/50\n",
      "8/8 - 1s - loss: 1.1039 - accuracy: 0.4303 - auc_14: 0.7379 - precision_14: 1.0000 - recall_14: 0.0410 - f1_score: 0.3327 - val_loss: 1.2550 - val_accuracy: 0.3934 - val_auc_14: 0.6929 - val_precision_14: 0.5000 - val_recall_14: 0.0082 - val_f1_score: 0.2687 - 850ms/epoch - 106ms/step\n",
      "Epoch 28/50\n",
      "8/8 - 1s - loss: 1.1014 - accuracy: 0.4467 - auc_14: 0.7407 - precision_14: 0.9091 - recall_14: 0.0410 - f1_score: 0.3450 - val_loss: 1.2567 - val_accuracy: 0.3852 - val_auc_14: 0.6893 - val_precision_14: 0.5000 - val_recall_14: 0.0082 - val_f1_score: 0.2649 - 842ms/epoch - 105ms/step\n",
      "Epoch 29/50\n",
      "8/8 - 1s - loss: 1.0997 - accuracy: 0.4344 - auc_14: 0.7424 - precision_14: 1.0000 - recall_14: 0.0410 - f1_score: 0.3312 - val_loss: 1.2543 - val_accuracy: 0.3852 - val_auc_14: 0.6915 - val_precision_14: 0.5000 - val_recall_14: 0.0082 - val_f1_score: 0.2649 - 847ms/epoch - 106ms/step\n",
      "Epoch 30/50\n",
      "8/8 - 1s - loss: 1.0975 - accuracy: 0.4385 - auc_14: 0.7411 - precision_14: 0.9091 - recall_14: 0.0410 - f1_score: 0.3418 - val_loss: 1.2537 - val_accuracy: 0.3934 - val_auc_14: 0.6916 - val_precision_14: 0.6667 - val_recall_14: 0.0164 - val_f1_score: 0.2687 - 846ms/epoch - 106ms/step\n",
      "Epoch 31/50\n",
      "8/8 - 1s - loss: 1.0960 - accuracy: 0.4385 - auc_14: 0.7409 - precision_14: 0.9091 - recall_14: 0.0410 - f1_score: 0.3418 - val_loss: 1.2530 - val_accuracy: 0.3934 - val_auc_14: 0.6928 - val_precision_14: 0.6667 - val_recall_14: 0.0164 - val_f1_score: 0.2687 - 852ms/epoch - 107ms/step\n",
      "Epoch 32/50\n",
      "8/8 - 1s - loss: 1.0931 - accuracy: 0.4426 - auc_14: 0.7476 - precision_14: 0.9167 - recall_14: 0.0451 - f1_score: 0.3449 - val_loss: 1.2466 - val_accuracy: 0.3852 - val_auc_14: 0.6979 - val_precision_14: 0.6667 - val_recall_14: 0.0164 - val_f1_score: 0.2522 - 868ms/epoch - 109ms/step\n",
      "Epoch 33/50\n",
      "8/8 - 1s - loss: 1.0916 - accuracy: 0.4467 - auc_14: 0.7541 - precision_14: 0.9167 - recall_14: 0.0451 - f1_score: 0.3392 - val_loss: 1.2419 - val_accuracy: 0.3852 - val_auc_14: 0.7029 - val_precision_14: 0.6667 - val_recall_14: 0.0164 - val_f1_score: 0.2649 - 861ms/epoch - 108ms/step\n",
      "Epoch 34/50\n",
      "8/8 - 1s - loss: 1.0897 - accuracy: 0.4508 - auc_14: 0.7551 - precision_14: 0.9167 - recall_14: 0.0451 - f1_score: 0.3412 - val_loss: 1.2412 - val_accuracy: 0.3852 - val_auc_14: 0.7039 - val_precision_14: 0.6667 - val_recall_14: 0.0164 - val_f1_score: 0.2522 - 879ms/epoch - 110ms/step\n",
      "Epoch 35/50\n",
      "8/8 - 1s - loss: 1.0870 - accuracy: 0.4467 - auc_14: 0.7538 - precision_14: 0.9167 - recall_14: 0.0451 - f1_score: 0.3384 - val_loss: 1.2471 - val_accuracy: 0.3934 - val_auc_14: 0.6983 - val_precision_14: 0.6667 - val_recall_14: 0.0164 - val_f1_score: 0.2687 - 903ms/epoch - 113ms/step\n",
      "Epoch 36/50\n",
      "8/8 - 1s - loss: 1.0841 - accuracy: 0.4590 - auc_14: 0.7533 - precision_14: 0.9167 - recall_14: 0.0451 - f1_score: 0.3453 - val_loss: 1.2460 - val_accuracy: 0.4016 - val_auc_14: 0.7002 - val_precision_14: 0.6667 - val_recall_14: 0.0164 - val_f1_score: 0.2724 - 877ms/epoch - 110ms/step\n",
      "Epoch 37/50\n",
      "8/8 - 1s - loss: 1.0811 - accuracy: 0.4549 - auc_14: 0.7514 - precision_14: 0.9231 - recall_14: 0.0492 - f1_score: 0.3433 - val_loss: 1.2469 - val_accuracy: 0.4016 - val_auc_14: 0.6978 - val_precision_14: 0.6667 - val_recall_14: 0.0164 - val_f1_score: 0.2724 - 867ms/epoch - 108ms/step\n",
      "Epoch 38/50\n",
      "8/8 - 1s - loss: 1.0836 - accuracy: 0.4549 - auc_14: 0.7559 - precision_14: 0.9231 - recall_14: 0.0492 - f1_score: 0.3445 - val_loss: 1.2470 - val_accuracy: 0.3934 - val_auc_14: 0.6981 - val_precision_14: 0.6667 - val_recall_14: 0.0164 - val_f1_score: 0.2687 - 901ms/epoch - 113ms/step\n",
      "Epoch 39/50\n",
      "8/8 - 1s - loss: 1.0772 - accuracy: 0.4549 - auc_14: 0.7531 - precision_14: 0.9231 - recall_14: 0.0492 - f1_score: 0.3433 - val_loss: 1.2465 - val_accuracy: 0.3934 - val_auc_14: 0.6978 - val_precision_14: 0.6667 - val_recall_14: 0.0164 - val_f1_score: 0.2687 - 896ms/epoch - 112ms/step\n",
      "Epoch 40/50\n",
      "8/8 - 1s - loss: 1.0786 - accuracy: 0.4631 - auc_14: 0.7534 - precision_14: 0.9231 - recall_14: 0.0492 - f1_score: 0.3445 - val_loss: 1.2408 - val_accuracy: 0.3934 - val_auc_14: 0.7036 - val_precision_14: 0.6667 - val_recall_14: 0.0164 - val_f1_score: 0.2695 - 871ms/epoch - 109ms/step\n",
      "Epoch 41/50\n",
      "8/8 - 1s - loss: 1.0757 - accuracy: 0.4467 - auc_14: 0.7542 - precision_14: 0.9231 - recall_14: 0.0492 - f1_score: 0.3355 - val_loss: 1.2409 - val_accuracy: 0.3934 - val_auc_14: 0.7022 - val_precision_14: 0.6667 - val_recall_14: 0.0164 - val_f1_score: 0.2695 - 872ms/epoch - 109ms/step\n",
      "Epoch 42/50\n",
      "8/8 - 1s - loss: 1.0731 - accuracy: 0.4508 - auc_14: 0.7548 - precision_14: 0.9231 - recall_14: 0.0492 - f1_score: 0.3392 - val_loss: 1.2383 - val_accuracy: 0.3934 - val_auc_14: 0.7032 - val_precision_14: 0.6667 - val_recall_14: 0.0164 - val_f1_score: 0.2687 - 839ms/epoch - 105ms/step\n",
      "Epoch 43/50\n",
      "8/8 - 1s - loss: 1.0731 - accuracy: 0.4508 - auc_14: 0.7546 - precision_14: 0.9286 - recall_14: 0.0533 - f1_score: 0.3401 - val_loss: 1.2381 - val_accuracy: 0.3852 - val_auc_14: 0.7021 - val_precision_14: 0.6667 - val_recall_14: 0.0164 - val_f1_score: 0.2649 - 887ms/epoch - 111ms/step\n",
      "Epoch 44/50\n",
      "8/8 - 1s - loss: 1.0709 - accuracy: 0.4508 - auc_14: 0.7540 - precision_14: 0.9286 - recall_14: 0.0533 - f1_score: 0.3401 - val_loss: 1.2464 - val_accuracy: 0.3852 - val_auc_14: 0.6955 - val_precision_14: 0.6667 - val_recall_14: 0.0164 - val_f1_score: 0.2649 - 914ms/epoch - 114ms/step\n",
      "Epoch 45/50\n",
      "8/8 - 1s - loss: 1.0706 - accuracy: 0.4549 - auc_14: 0.7483 - precision_14: 1.0000 - recall_14: 0.0492 - f1_score: 0.3411 - val_loss: 1.2480 - val_accuracy: 0.3689 - val_auc_14: 0.6938 - val_precision_14: 0.6667 - val_recall_14: 0.0164 - val_f1_score: 0.2448 - 842ms/epoch - 105ms/step\n",
      "Epoch 46/50\n",
      "8/8 - 1s - loss: 1.0657 - accuracy: 0.4508 - auc_14: 0.7517 - precision_14: 0.9231 - recall_14: 0.0492 - f1_score: 0.3398 - val_loss: 1.2440 - val_accuracy: 0.3770 - val_auc_14: 0.6973 - val_precision_14: 0.6667 - val_recall_14: 0.0164 - val_f1_score: 0.2486 - 873ms/epoch - 109ms/step\n",
      "Epoch 47/50\n",
      "8/8 - 1s - loss: 1.0620 - accuracy: 0.4590 - auc_14: 0.7539 - precision_14: 0.9286 - recall_14: 0.0533 - f1_score: 0.3569 - val_loss: 1.2412 - val_accuracy: 0.3770 - val_auc_14: 0.6985 - val_precision_14: 0.6667 - val_recall_14: 0.0164 - val_f1_score: 0.2486 - 883ms/epoch - 110ms/step\n",
      "Epoch 48/50\n",
      "8/8 - 1s - loss: 1.0602 - accuracy: 0.4549 - auc_14: 0.7569 - precision_14: 0.9286 - recall_14: 0.0533 - f1_score: 0.3364 - val_loss: 1.2357 - val_accuracy: 0.3770 - val_auc_14: 0.7034 - val_precision_14: 0.6667 - val_recall_14: 0.0164 - val_f1_score: 0.2486 - 993ms/epoch - 124ms/step\n",
      "Epoch 49/50\n",
      "8/8 - 1s - loss: 1.0588 - accuracy: 0.4672 - auc_14: 0.7607 - precision_14: 0.9286 - recall_14: 0.0533 - f1_score: 0.3604 - val_loss: 1.2261 - val_accuracy: 0.4180 - val_auc_14: 0.7127 - val_precision_14: 0.6667 - val_recall_14: 0.0164 - val_f1_score: 0.2916 - 878ms/epoch - 110ms/step\n",
      "Epoch 50/50\n",
      "8/8 - 1s - loss: 1.0571 - accuracy: 0.4713 - auc_14: 0.7676 - precision_14: 0.9286 - recall_14: 0.0533 - f1_score: 0.3601 - val_loss: 1.2263 - val_accuracy: 0.3934 - val_auc_14: 0.7131 - val_precision_14: 0.6667 - val_recall_14: 0.0164 - val_f1_score: 0.2562 - 840ms/epoch - 105ms/step\n"
     ]
    },
    {
     "data": {
      "image/png": "[encoded data removed]",
      "text/plain": [
       "<Figure size 432x288 with 1 Axes>"
      ]
     },
     "metadata": {
      "needs_background": "light"
     },
     "output_type": "display_data"
    },
    {
     "name": "stdout",
     "output_type": "stream",
     "text": [
      "Epoch 1/50\n",
      "8/8 - 4s - loss: 1.4924 - accuracy: 0.3361 - auc_15: 0.6987 - precision_15: 0.0000e+00 - recall_15: 0.0000e+00 - f1_score: 0.1868 - val_loss: 1.2942 - val_accuracy: 0.3443 - val_auc_15: 0.6922 - val_precision_15: 0.0000e+00 - val_recall_15: 0.0000e+00 - val_f1_score: 0.1802 - 4s/epoch - 555ms/step\n",
      "Epoch 2/50\n",
      "8/8 - 1s - loss: 1.4712 - accuracy: 0.3443 - auc_15: 0.7182 - precision_15: 0.0000e+00 - recall_15: 0.0000e+00 - f1_score: 0.2141 - val_loss: 1.2958 - val_accuracy: 0.3197 - val_auc_15: 0.6938 - val_precision_15: 0.0000e+00 - val_recall_15: 0.0000e+00 - val_f1_score: 0.1583 - 821ms/epoch - 103ms/step\n",
      "Epoch 3/50\n",
      "8/8 - 1s - loss: 1.4439 - accuracy: 0.3730 - auc_15: 0.7353 - precision_15: 0.0000e+00 - recall_15: 0.0000e+00 - f1_score: 0.2347 - val_loss: 1.3008 - val_accuracy: 0.3361 - val_auc_15: 0.6860 - val_precision_15: 0.0000e+00 - val_recall_15: 0.0000e+00 - val_f1_score: 0.1848 - 823ms/epoch - 103ms/step\n",
      "Epoch 4/50\n",
      "8/8 - 1s - loss: 1.4321 - accuracy: 0.3893 - auc_15: 0.7354 - precision_15: 0.0000e+00 - recall_15: 0.0000e+00 - f1_score: 0.2491 - val_loss: 1.3089 - val_accuracy: 0.3279 - val_auc_15: 0.6735 - val_precision_15: 0.0000e+00 - val_recall_15: 0.0000e+00 - val_f1_score: 0.1886 - 848ms/epoch - 106ms/step\n",
      "Epoch 5/50\n",
      "8/8 - 1s - loss: 1.4192 - accuracy: 0.3811 - auc_15: 0.7301 - precision_15: 0.0000e+00 - recall_15: 0.0000e+00 - f1_score: 0.2484 - val_loss: 1.3179 - val_accuracy: 0.3361 - val_auc_15: 0.6643 - val_precision_15: 0.0000e+00 - val_recall_15: 0.0000e+00 - val_f1_score: 0.1978 - 874ms/epoch - 109ms/step\n",
      "Epoch 6/50\n",
      "8/8 - 1s - loss: 1.4096 - accuracy: 0.4098 - auc_15: 0.7292 - precision_15: 0.0000e+00 - recall_15: 0.0000e+00 - f1_score: 0.2773 - val_loss: 1.3260 - val_accuracy: 0.3525 - val_auc_15: 0.6522 - val_precision_15: 0.0000e+00 - val_recall_15: 0.0000e+00 - val_f1_score: 0.2098 - 804ms/epoch - 101ms/step\n",
      "Epoch 7/50\n",
      "8/8 - 1s - loss: 1.3980 - accuracy: 0.4139 - auc_15: 0.7288 - precision_15: 0.0000e+00 - recall_15: 0.0000e+00 - f1_score: 0.2730 - val_loss: 1.3303 - val_accuracy: 0.3607 - val_auc_15: 0.6393 - val_precision_15: 0.0000e+00 - val_recall_15: 0.0000e+00 - val_f1_score: 0.2129 - 869ms/epoch - 109ms/step\n",
      "Epoch 8/50\n",
      "8/8 - 1s - loss: 1.3902 - accuracy: 0.4221 - auc_15: 0.7206 - precision_15: 0.0000e+00 - recall_15: 0.0000e+00 - f1_score: 0.2748 - val_loss: 1.3390 - val_accuracy: 0.3279 - val_auc_15: 0.6250 - val_precision_15: 0.0000e+00 - val_recall_15: 0.0000e+00 - val_f1_score: 0.1982 - 855ms/epoch - 107ms/step\n",
      "Epoch 9/50\n",
      "8/8 - 1s - loss: 1.3811 - accuracy: 0.4098 - auc_15: 0.7125 - precision_15: 1.0000 - recall_15: 0.0041 - f1_score: 0.2703 - val_loss: 1.3427 - val_accuracy: 0.2787 - val_auc_15: 0.6173 - val_precision_15: 0.0000e+00 - val_recall_15: 0.0000e+00 - val_f1_score: 0.1776 - 845ms/epoch - 106ms/step\n",
      "Epoch 10/50\n",
      "8/8 - 1s - loss: 1.3747 - accuracy: 0.4098 - auc_15: 0.7021 - precision_15: 1.0000 - recall_15: 0.0041 - f1_score: 0.2768 - val_loss: 1.3502 - val_accuracy: 0.2705 - val_auc_15: 0.5992 - val_precision_15: 1.0000 - val_recall_15: 0.0082 - val_f1_score: 0.1743 - 827ms/epoch - 103ms/step\n",
      "Epoch 11/50\n",
      "8/8 - 1s - loss: 1.3659 - accuracy: 0.4057 - auc_15: 0.6946 - precision_15: 0.5000 - recall_15: 0.0082 - f1_score: 0.3471 - val_loss: 1.3558 - val_accuracy: 0.2623 - val_auc_15: 0.5902 - val_precision_15: 1.0000 - val_recall_15: 0.0082 - val_f1_score: 0.1777 - 888ms/epoch - 111ms/step\n",
      "Epoch 12/50\n",
      "8/8 - 1s - loss: 1.3463 - accuracy: 0.3648 - auc_15: 0.6998 - precision_15: 0.6667 - recall_15: 0.0164 - f1_score: 0.2784 - val_loss: 1.3581 - val_accuracy: 0.2623 - val_auc_15: 0.5856 - val_precision_15: 1.0000 - val_recall_15: 0.0082 - val_f1_score: 0.1804 - 950ms/epoch - 119ms/step\n",
      "Epoch 13/50\n",
      "8/8 - 1s - loss: 1.3393 - accuracy: 0.3811 - auc_15: 0.6971 - precision_15: 0.6667 - recall_15: 0.0164 - f1_score: 0.3133 - val_loss: 1.3634 - val_accuracy: 0.2131 - val_auc_15: 0.5808 - val_precision_15: 1.0000 - val_recall_15: 0.0082 - val_f1_score: 0.1464 - 878ms/epoch - 110ms/step\n",
      "Epoch 14/50\n",
      "8/8 - 1s - loss: 1.3355 - accuracy: 0.3811 - auc_15: 0.6915 - precision_15: 0.6000 - recall_15: 0.0123 - f1_score: 0.3209 - val_loss: 1.3691 - val_accuracy: 0.2049 - val_auc_15: 0.5745 - val_precision_15: 1.0000 - val_recall_15: 0.0082 - val_f1_score: 0.1413 - 902ms/epoch - 113ms/step\n",
      "Epoch 15/50\n",
      "8/8 - 1s - loss: 1.3358 - accuracy: 0.3525 - auc_15: 0.6846 - precision_15: 0.6000 - recall_15: 0.0123 - f1_score: 0.2981 - val_loss: 1.3705 - val_accuracy: 0.2049 - val_auc_15: 0.5706 - val_precision_15: 0.5000 - val_recall_15: 0.0082 - val_f1_score: 0.1410 - 865ms/epoch - 108ms/step\n",
      "Epoch 16/50\n",
      "8/8 - 1s - loss: 1.3256 - accuracy: 0.3607 - auc_15: 0.6860 - precision_15: 0.6667 - recall_15: 0.0164 - f1_score: 0.3089 - val_loss: 1.3726 - val_accuracy: 0.2049 - val_auc_15: 0.5632 - val_precision_15: 0.5000 - val_recall_15: 0.0082 - val_f1_score: 0.1417 - 936ms/epoch - 117ms/step\n",
      "Epoch 17/50\n",
      "8/8 - 1s - loss: 1.3181 - accuracy: 0.3607 - auc_15: 0.6850 - precision_15: 0.6667 - recall_15: 0.0164 - f1_score: 0.3088 - val_loss: 1.3699 - val_accuracy: 0.2131 - val_auc_15: 0.5636 - val_precision_15: 0.5000 - val_recall_15: 0.0082 - val_f1_score: 0.1464 - 863ms/epoch - 108ms/step\n",
      "Epoch 18/50\n",
      "8/8 - 1s - loss: 1.3134 - accuracy: 0.3607 - auc_15: 0.6858 - precision_15: 0.6667 - recall_15: 0.0164 - f1_score: 0.3063 - val_loss: 1.3715 - val_accuracy: 0.2131 - val_auc_15: 0.5629 - val_precision_15: 0.5000 - val_recall_15: 0.0082 - val_f1_score: 0.1416 - 896ms/epoch - 112ms/step\n",
      "Epoch 19/50\n",
      "8/8 - 1s - loss: 1.3043 - accuracy: 0.3607 - auc_15: 0.6826 - precision_15: 0.6667 - recall_15: 0.0164 - f1_score: 0.3068 - val_loss: 1.3692 - val_accuracy: 0.2213 - val_auc_15: 0.5673 - val_precision_15: 0.5000 - val_recall_15: 0.0082 - val_f1_score: 0.1518 - 890ms/epoch - 111ms/step\n",
      "Epoch 20/50\n",
      "8/8 - 1s - loss: 1.2963 - accuracy: 0.3566 - auc_15: 0.6846 - precision_15: 0.6667 - recall_15: 0.0164 - f1_score: 0.3010 - val_loss: 1.3679 - val_accuracy: 0.2295 - val_auc_15: 0.5687 - val_precision_15: 0.5000 - val_recall_15: 0.0082 - val_f1_score: 0.1553 - 897ms/epoch - 112ms/step\n",
      "Epoch 21/50\n",
      "8/8 - 1s - loss: 1.2869 - accuracy: 0.3566 - auc_15: 0.6895 - precision_15: 0.6667 - recall_15: 0.0164 - f1_score: 0.3059 - val_loss: 1.3660 - val_accuracy: 0.2295 - val_auc_15: 0.5723 - val_precision_15: 0.6667 - val_recall_15: 0.0164 - val_f1_score: 0.1572 - 856ms/epoch - 107ms/step\n",
      "Epoch 22/50\n",
      "8/8 - 1s - loss: 1.3132 - accuracy: 0.3443 - auc_15: 0.6833 - precision_15: 0.6667 - recall_15: 0.0164 - f1_score: 0.2658 - val_loss: 1.3604 - val_accuracy: 0.2213 - val_auc_15: 0.5856 - val_precision_15: 0.5000 - val_recall_15: 0.0082 - val_f1_score: 0.1519 - 941ms/epoch - 118ms/step\n",
      "Epoch 23/50\n",
      "8/8 - 1s - loss: 1.3021 - accuracy: 0.3566 - auc_15: 0.6909 - precision_15: 1.0000 - recall_15: 0.0164 - f1_score: 0.2734 - val_loss: 1.3571 - val_accuracy: 0.2213 - val_auc_15: 0.5864 - val_precision_15: 0.5000 - val_recall_15: 0.0082 - val_f1_score: 0.1518 - 888ms/epoch - 111ms/step\n",
      "Epoch 24/50\n",
      "8/8 - 1s - loss: 1.2968 - accuracy: 0.3566 - auc_15: 0.6962 - precision_15: 1.0000 - recall_15: 0.0164 - f1_score: 0.2735 - val_loss: 1.3542 - val_accuracy: 0.2131 - val_auc_15: 0.5865 - val_precision_15: 0.5000 - val_recall_15: 0.0082 - val_f1_score: 0.1472 - 909ms/epoch - 114ms/step\n",
      "Epoch 25/50\n",
      "8/8 - 1s - loss: 1.2934 - accuracy: 0.3607 - auc_15: 0.6975 - precision_15: 1.0000 - recall_15: 0.0123 - f1_score: 0.2748 - val_loss: 1.3511 - val_accuracy: 0.2377 - val_auc_15: 0.5926 - val_precision_15: 0.5000 - val_recall_15: 0.0082 - val_f1_score: 0.1672 - 912ms/epoch - 114ms/step\n",
      "Epoch 26/50\n",
      "8/8 - 1s - loss: 1.2862 - accuracy: 0.3566 - auc_15: 0.6985 - precision_15: 1.0000 - recall_15: 0.0205 - f1_score: 0.2730 - val_loss: 1.3544 - val_accuracy: 0.2541 - val_auc_15: 0.5838 - val_precision_15: 0.5000 - val_recall_15: 0.0082 - val_f1_score: 0.1818 - 939ms/epoch - 117ms/step\n",
      "Epoch 27/50\n",
      "8/8 - 1s - loss: 1.2796 - accuracy: 0.3607 - auc_15: 0.6974 - precision_15: 1.0000 - recall_15: 0.0287 - f1_score: 0.2754 - val_loss: 1.3584 - val_accuracy: 0.2623 - val_auc_15: 0.5797 - val_precision_15: 0.5000 - val_recall_15: 0.0082 - val_f1_score: 0.1861 - 841ms/epoch - 105ms/step\n",
      "Epoch 28/50\n",
      "8/8 - 1s - loss: 1.2735 - accuracy: 0.3566 - auc_15: 0.6970 - precision_15: 1.0000 - recall_15: 0.0287 - f1_score: 0.2753 - val_loss: 1.3592 - val_accuracy: 0.2459 - val_auc_15: 0.5788 - val_precision_15: 0.5000 - val_recall_15: 0.0082 - val_f1_score: 0.1766 - 818ms/epoch - 102ms/step\n",
      "Epoch 29/50\n",
      "8/8 - 1s - loss: 1.2687 - accuracy: 0.3566 - auc_15: 0.6943 - precision_15: 1.0000 - recall_15: 0.0328 - f1_score: 0.2758 - val_loss: 1.3617 - val_accuracy: 0.2377 - val_auc_15: 0.5721 - val_precision_15: 0.5000 - val_recall_15: 0.0082 - val_f1_score: 0.1732 - 827ms/epoch - 103ms/step\n",
      "Epoch 30/50\n",
      "8/8 - 1s - loss: 1.2635 - accuracy: 0.3607 - auc_15: 0.6952 - precision_15: 1.0000 - recall_15: 0.0287 - f1_score: 0.2751 - val_loss: 1.3608 - val_accuracy: 0.2459 - val_auc_15: 0.5733 - val_precision_15: 0.5000 - val_recall_15: 0.0082 - val_f1_score: 0.1785 - 816ms/epoch - 102ms/step\n",
      "Epoch 31/50\n",
      "8/8 - 1s - loss: 1.2598 - accuracy: 0.3648 - auc_15: 0.6957 - precision_15: 1.0000 - recall_15: 0.0369 - f1_score: 0.2773 - val_loss: 1.3641 - val_accuracy: 0.2377 - val_auc_15: 0.5689 - val_precision_15: 0.5000 - val_recall_15: 0.0082 - val_f1_score: 0.1732 - 816ms/epoch - 102ms/step\n",
      "Epoch 32/50\n",
      "8/8 - 1s - loss: 1.2563 - accuracy: 0.3525 - auc_15: 0.6946 - precision_15: 1.0000 - recall_15: 0.0369 - f1_score: 0.2701 - val_loss: 1.3630 - val_accuracy: 0.2623 - val_auc_15: 0.5708 - val_precision_15: 0.5000 - val_recall_15: 0.0082 - val_f1_score: 0.1875 - 857ms/epoch - 107ms/step\n",
      "Epoch 33/50\n",
      "8/8 - 1s - loss: 1.2513 - accuracy: 0.3648 - auc_15: 0.6953 - precision_15: 1.0000 - recall_15: 0.0369 - f1_score: 0.2813 - val_loss: 1.3615 - val_accuracy: 0.2623 - val_auc_15: 0.5709 - val_precision_15: 0.5000 - val_recall_15: 0.0082 - val_f1_score: 0.1875 - 835ms/epoch - 104ms/step\n",
      "Epoch 34/50\n",
      "8/8 - 1s - loss: 1.2473 - accuracy: 0.3607 - auc_15: 0.6983 - precision_15: 1.0000 - recall_15: 0.0328 - f1_score: 0.2786 - val_loss: 1.3586 - val_accuracy: 0.2541 - val_auc_15: 0.5763 - val_precision_15: 0.5000 - val_recall_15: 0.0082 - val_f1_score: 0.1830 - 832ms/epoch - 104ms/step\n",
      "Epoch 35/50\n",
      "8/8 - 1s - loss: 1.2445 - accuracy: 0.3443 - auc_15: 0.6999 - precision_15: 1.0000 - recall_15: 0.0410 - f1_score: 0.2609 - val_loss: 1.3585 - val_accuracy: 0.2623 - val_auc_15: 0.5761 - val_precision_15: 0.5000 - val_recall_15: 0.0082 - val_f1_score: 0.1872 - 838ms/epoch - 105ms/step\n",
      "Epoch 36/50\n",
      "8/8 - 1s - loss: 1.2409 - accuracy: 0.3648 - auc_15: 0.7023 - precision_15: 1.0000 - recall_15: 0.0410 - f1_score: 0.2771 - val_loss: 1.3589 - val_accuracy: 0.2623 - val_auc_15: 0.5759 - val_precision_15: 0.5000 - val_recall_15: 0.0082 - val_f1_score: 0.1872 - 864ms/epoch - 108ms/step\n",
      "Epoch 37/50\n",
      "8/8 - 1s - loss: 1.2361 - accuracy: 0.3607 - auc_15: 0.7018 - precision_15: 1.0000 - recall_15: 0.0451 - f1_score: 0.2706 - val_loss: 1.3583 - val_accuracy: 0.2705 - val_auc_15: 0.5734 - val_precision_15: 0.5000 - val_recall_15: 0.0082 - val_f1_score: 0.1925 - 870ms/epoch - 109ms/step\n",
      "Epoch 38/50\n",
      "8/8 - 1s - loss: 1.2361 - accuracy: 0.3566 - auc_15: 0.6983 - precision_15: 1.0000 - recall_15: 0.0451 - f1_score: 0.2766 - val_loss: 1.3578 - val_accuracy: 0.2705 - val_auc_15: 0.5732 - val_precision_15: 0.5000 - val_recall_15: 0.0082 - val_f1_score: 0.1932 - 847ms/epoch - 106ms/step\n",
      "Epoch 39/50\n",
      "8/8 - 1s - loss: 1.2304 - accuracy: 0.3566 - auc_15: 0.6952 - precision_15: 1.0000 - recall_15: 0.0492 - f1_score: 0.2869 - val_loss: 1.3585 - val_accuracy: 0.2623 - val_auc_15: 0.5721 - val_precision_15: 0.5000 - val_recall_15: 0.0082 - val_f1_score: 0.1880 - 855ms/epoch - 107ms/step\n",
      "Epoch 40/50\n",
      "8/8 - 1s - loss: 1.2296 - accuracy: 0.3730 - auc_15: 0.6995 - precision_15: 1.0000 - recall_15: 0.0492 - f1_score: 0.2950 - val_loss: 1.3507 - val_accuracy: 0.2623 - val_auc_15: 0.5787 - val_precision_15: 0.6667 - val_recall_15: 0.0164 - val_f1_score: 0.1809 - 827ms/epoch - 103ms/step\n",
      "Epoch 41/50\n",
      "8/8 - 1s - loss: 1.2239 - accuracy: 0.3811 - auc_15: 0.7031 - precision_15: 1.0000 - recall_15: 0.0533 - f1_score: 0.2970 - val_loss: 1.3547 - val_accuracy: 0.2705 - val_auc_15: 0.5756 - val_precision_15: 0.5000 - val_recall_15: 0.0164 - val_f1_score: 0.1865 - 833ms/epoch - 104ms/step\n",
      "Epoch 42/50\n",
      "8/8 - 1s - loss: 1.2204 - accuracy: 0.3893 - auc_15: 0.6949 - precision_15: 1.0000 - recall_15: 0.0574 - f1_score: 0.3001 - val_loss: 1.3615 - val_accuracy: 0.2623 - val_auc_15: 0.5678 - val_precision_15: 0.5000 - val_recall_15: 0.0164 - val_f1_score: 0.1902 - 837ms/epoch - 105ms/step\n",
      "Epoch 43/50\n",
      "8/8 - 1s - loss: 1.2167 - accuracy: 0.3852 - auc_15: 0.6978 - precision_15: 1.0000 - recall_15: 0.0574 - f1_score: 0.2925 - val_loss: 1.3556 - val_accuracy: 0.2623 - val_auc_15: 0.5745 - val_precision_15: 0.5000 - val_recall_15: 0.0164 - val_f1_score: 0.1821 - 904ms/epoch - 113ms/step\n",
      "Epoch 44/50\n",
      "8/8 - 1s - loss: 1.2131 - accuracy: 0.3893 - auc_15: 0.7010 - precision_15: 1.0000 - recall_15: 0.0533 - f1_score: 0.3008 - val_loss: 1.3545 - val_accuracy: 0.2541 - val_auc_15: 0.5761 - val_precision_15: 0.6667 - val_recall_15: 0.0164 - val_f1_score: 0.1777 - 837ms/epoch - 105ms/step\n",
      "Epoch 45/50\n",
      "8/8 - 1s - loss: 1.2097 - accuracy: 0.3975 - auc_15: 0.6995 - precision_15: 1.0000 - recall_15: 0.0574 - f1_score: 0.3107 - val_loss: 1.3550 - val_accuracy: 0.2541 - val_auc_15: 0.5732 - val_precision_15: 0.6667 - val_recall_15: 0.0164 - val_f1_score: 0.1752 - 844ms/epoch - 105ms/step\n",
      "Epoch 46/50\n",
      "8/8 - 1s - loss: 1.2064 - accuracy: 0.3975 - auc_15: 0.7064 - precision_15: 1.0000 - recall_15: 0.0533 - f1_score: 0.3050 - val_loss: 1.3466 - val_accuracy: 0.2705 - val_auc_15: 0.5845 - val_precision_15: 0.5000 - val_recall_15: 0.0164 - val_f1_score: 0.1837 - 916ms/epoch - 114ms/step\n",
      "Epoch 47/50\n",
      "8/8 - 1s - loss: 1.2009 - accuracy: 0.3934 - auc_15: 0.7149 - precision_15: 1.0000 - recall_15: 0.0615 - f1_score: 0.3027 - val_loss: 1.3417 - val_accuracy: 0.2705 - val_auc_15: 0.5931 - val_precision_15: 0.5000 - val_recall_15: 0.0164 - val_f1_score: 0.1823 - 909ms/epoch - 114ms/step\n",
      "Epoch 48/50\n",
      "8/8 - 1s - loss: 1.1961 - accuracy: 0.3975 - auc_15: 0.7263 - precision_15: 1.0000 - recall_15: 0.0697 - f1_score: 0.3167 - val_loss: 1.3297 - val_accuracy: 0.2787 - val_auc_15: 0.6063 - val_precision_15: 0.5000 - val_recall_15: 0.0164 - val_f1_score: 0.1864 - 927ms/epoch - 116ms/step\n",
      "Epoch 49/50\n",
      "8/8 - 1s - loss: 1.1897 - accuracy: 0.3934 - auc_15: 0.7293 - precision_15: 1.0000 - recall_15: 0.0697 - f1_score: 0.3124 - val_loss: 1.3364 - val_accuracy: 0.2705 - val_auc_15: 0.5982 - val_precision_15: 0.5000 - val_recall_15: 0.0164 - val_f1_score: 0.1826 - 1s/epoch - 141ms/step\n",
      "Epoch 50/50\n",
      "8/8 - 1s - loss: 1.1876 - accuracy: 0.3934 - auc_15: 0.7176 - precision_15: 1.0000 - recall_15: 0.0738 - f1_score: 0.3155 - val_loss: 1.3422 - val_accuracy: 0.2459 - val_auc_15: 0.5915 - val_precision_15: 0.5000 - val_recall_15: 0.0164 - val_f1_score: 0.1648 - 1s/epoch - 133ms/step\n"
     ]
    },
    {
     "data": {
      "image/png": "[encoded data removed]",
      "text/plain": [
       "<Figure size 432x288 with 1 Axes>"
      ]
     },
     "metadata": {
      "needs_background": "light"
     },
     "output_type": "display_data"
    }
   ],
   "source": [
    "for train_index, val_index in kf.split(body_X):\n",
    "    body_X_train, body_X_val = body_X[train_index], body_X[val_index]\n",
    "    body_y_train, body_y_val = body_y[train_index], body_y[val_index]\n",
    "    face_X_train, face_X_val = face_X[train_index], face_X[val_index]\n",
    "    face_y_train, face_y_val = face_y[train_index], face_y[val_index]\n",
    "    model = fusioned_Baseline(body_features, face_features, n_length, n_outputs)\n",
    "    history = model.train(body_X_train, face_X_train, body_y_train, body_X_val, face_X_val, face_y_val, epochs, batch_size, class_weight=d_class_weights)\n",
    "    plt.plot(history.history['loss'])\n",
    "    plt.show()"
   ]
  },
  {
   "cell_type": "markdown",
   "metadata": {},
   "source": [
    "#### Prediction on the holdout set"
   ]
  },
  {
   "cell_type": "code",
   "execution_count": 26,
   "metadata": {},
   "outputs": [
    {
     "name": "stdout",
     "output_type": "stream",
     "text": [
      "Accuracy: 32.03% \n",
      "Balanced Accuracy: 25.97% \n",
      "ROC/AUC: 0.65 \n",
      "Precision: 0.60 \n",
      "Recall: 0.03 \n",
      "F1 score: 0.24\n"
     ]
    }
   ],
   "source": [
    "y_pred = model.predict(body_X_test, face_X_test)\n",
    "_, acc, auc, precision, recall, f1 = model.evaluate(body_X_test, face_X_test, body_y_test)\n",
    "results.append(round(auc, 2))\n",
    "bal_acc = balanced_accuracy_score(body_y_test.argmax(axis=1), y_pred.argmax(axis=1)) \n",
    "print('Accuracy: {:.2f}% \\nBalanced Accuracy: {:.2f}% \\nROC/AUC: {:.2f} \\nPrecision: {:.2f} \\nRecall: {:.2f} \\nF1 score: {:.2f}'.format(acc * 100, bal_acc * 100, auc, precision, recall, f1))"
   ]
  },
  {
   "cell_type": "markdown",
   "metadata": {},
   "source": [
    "### Ensemble"
   ]
  },
  {
   "cell_type": "code",
   "execution_count": 27,
   "metadata": {},
   "outputs": [],
   "source": [
    "baseline_body_member = KerasMember(name=\"Body Model\", keras_model=baseline_body_model, train_batches=(body_X_train, y_train), val_batches=(body_X_test, body_y_test))\n",
    "baseline_face_member = KerasMember(name=\"Face Model\", keras_model=baseline_face_model, train_batches=(face_X_train, face_y_train), val_batches=(face_X_test, face_y_test))"
   ]
  },
  {
   "cell_type": "code",
   "execution_count": 28,
   "metadata": {},
   "outputs": [],
   "source": [
    "dirichletEnsemble = DirichletEnsemble()\n",
    "dirichletEnsemble.add_member(baseline_body_member)\n",
    "dirichletEnsemble.add_member(baseline_face_member)\n",
    "dirichletEnsemble.fit()"
   ]
  },
  {
   "cell_type": "code",
   "execution_count": 29,
   "metadata": {},
   "outputs": [
    {
     "name": "stdout",
     "output_type": "stream",
     "text": [
      "Body Model (weight: 0.9522)\n",
      "Face Model (weight: 0.0478)\n",
      "Accuracy: 37.66% - ROC/AUC: 0.50 - Precision: 0.26 - Recall: 0.29 - F1 score: 0.24\n"
     ]
    }
   ],
   "source": [
    "e = dirichletEnsemble.describe()\n",
    "results.append(round(e, 2))"
   ]
  },
  {
   "cell_type": "markdown",
   "metadata": {},
   "source": [
    "## Results"
   ]
  },
  {
   "cell_type": "code",
   "execution_count": 30,
   "metadata": {},
   "outputs": [
    {
     "data": {
      "image/png": "[encoded data removed]",
      "text/plain": [
       "<Figure size 1008x720 with 1 Axes>"
      ]
     },
     "metadata": {
      "needs_background": "light"
     },
     "output_type": "display_data"
    }
   ],
   "source": [
    "data = {'Unimodal (Body)':results[0], 'Unimodal (Face)':results[1], 'Early Fusion':results[2],\n",
    "        'Late Fusion':results[3], 'Ensemble':results[4]}\n",
    "models = list(data.keys())\n",
    "performance = list(data.values())\n",
    "  \n",
    "fig = plt.figure(figsize = (14, 10))\n",
    " \n",
    "plt.bar(models, performance, color ='maroon',\n",
    "        width = 0.4)\n",
    "\n",
    "plt.text(0, performance[0] + 0.01, performance[0], ha='center', fontsize=12)\n",
    "plt.text(1, performance[1] + 0.01, performance[1], ha='center', fontsize=12)\n",
    "plt.text(2, performance[2] + 0.01, performance[2], ha='center', fontsize=12)\n",
    "plt.text(3, performance[3] + 0.01, performance[3], ha='center', fontsize=12)\n",
    "plt.text(4, performance[4] + 0.01, performance[4], ha='center', fontsize=12)\n",
    " \n",
    "plt.title(\"Baseline AUC (Pain Area Classification)\")\n",
    "plt.show()"
   ]
  }
 ],
 "metadata": {
  "interpreter": {
   "hash": "225abd0b4b41c85229fb7285a24282bb8b7c5c494a1c5011beaea88d2c1fa3cf"
  },
  "kernelspec": {
   "display_name": "Python 3.9.12 ('masters-thesis-dSEc-4wZ')",
   "language": "python",
   "name": "python3"
  },
  "language_info": {
   "codemirror_mode": {
    "name": "ipython",
    "version": 3
   },
   "file_extension": ".py",
   "mimetype": "text/x-python",
   "name": "python",
   "nbconvert_exporter": "python",
   "pygments_lexer": "ipython3",
   "version": "3.9.12"
  },
  "orig_nbformat": 4
 },
 "nbformat": 4,
 "nbformat_minor": 2
}
