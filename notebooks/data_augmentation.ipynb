{
 "cells": [
  {
   "cell_type": "markdown",
   "metadata": {},
   "source": [
    "# Data Augmentation"
   ]
  },
  {
   "cell_type": "code",
   "execution_count": 1,
   "metadata": {},
   "outputs": [],
   "source": [
    "import os\n",
    "os.environ['TF_CPP_MIN_LOG_LEVEL'] = '3'\n",
    "import warnings\n",
    "warnings.filterwarnings(\"ignore\")\n",
    "\n",
    "import numpy as np\n",
    "import pandas as pd\n",
    "import matplotlib.pyplot as plt\n",
    "import tensorflow as tf \n",
    "import tensorflow_addons as tfa\n",
    "\n",
    "from pathlib import Path\n",
    "from sklearn.preprocessing import LabelBinarizer\n",
    "from sklearn.model_selection import KFold\n",
    "from sklearn.metrics import precision_recall_fscore_support, roc_auc_score, accuracy_score\n",
    "from tensorflow.keras.layers import Input, LSTM, Dense, Flatten, TimeDistributed, Conv1D, BatchNormalization, MaxPooling1D, ConvLSTM1D, Bidirectional, Concatenate\n",
    "from tensorflow.keras import Model\n",
    "from tensorflow.keras.initializers import Constant\n",
    "from keras.layers.advanced_activations import PReLU"
   ]
  },
  {
   "cell_type": "markdown",
   "metadata": {},
   "source": [
    "## Methods for loading datasets and creating model architectures"
   ]
  },
  {
   "cell_type": "markdown",
   "metadata": {},
   "source": [
    "### Data"
   ]
  },
  {
   "cell_type": "code",
   "execution_count": 2,
   "metadata": {},
   "outputs": [],
   "source": [
    "def load_file(file):\n",
    "    df = pd.read_csv(file, header=0)\n",
    "    labels = df['pain']\n",
    "    df = df.drop(columns=['pain'])\n",
    "    df.drop(df.columns[-1], axis=1, inplace=True)\n",
    "    return df, labels\n",
    "\n",
    "def load_dataset(input_filepath, modality):\n",
    "    feature_names = []\n",
    "    classes = []\n",
    "    root_dir = Path(os.path.abspath('')).parent\n",
    "    data_dir = root_dir / 'data'\n",
    "    train_filepath = data_dir / input_filepath / 'train' / modality\n",
    "    test_filepath = data_dir / input_filepath / 'test' / modality\n",
    "    # 1. Load train data\n",
    "    X = list()\n",
    "    y = list()\n",
    "    for file in train_filepath.iterdir():\n",
    "        if file.is_file() and file.name.endswith('.csv'):\n",
    "            x, labels = load_file(file)\n",
    "            if feature_names == []:\n",
    "                feature_names = x.columns.values.tolist()\n",
    "            if labels[0] not in classes:\n",
    "                classes.append(labels[0])\n",
    "            x = x.to_numpy()\n",
    "            X.append(x)\n",
    "            y.append(labels[0])\n",
    "    n_length = X[0].shape[0]\n",
    "    n_features = X[0].shape[1]\n",
    "    X = np.array(X)\n",
    "    X_train = X.reshape((len(X), 1, n_length, n_features))\n",
    "    lb = LabelBinarizer()\n",
    "    y_train = lb.fit_transform(y)\n",
    "    # 2. Load test data\n",
    "    X = list()\n",
    "    y = list()\n",
    "    for file in test_filepath.iterdir():\n",
    "        if file.is_file() and file.name.endswith('.csv'):\n",
    "            x, labels = load_file(file)\n",
    "            x = x.to_numpy()\n",
    "            X.append(x)\n",
    "            y.append(labels[0])\n",
    "    n_length = X[0].shape[0]\n",
    "    n_features = X[0].shape[1]\n",
    "    X = np.array(X)\n",
    "    X_test = X.reshape((len(X), 1, n_length, n_features))\n",
    "    y_test = lb.transform(y)\n",
    "    return X_train, X_test, y_train, y_test, feature_names, classes\n",
    "\n",
    "def load_earlyfusion_dataset(input_filepath):\n",
    "    root_dir = Path(os.path.abspath('')).parent\n",
    "    data_dir = root_dir / 'data'\n",
    "    body_train_filepath = data_dir / input_filepath / 'train' / 'skeleton'\n",
    "    body_test_filepath = data_dir / input_filepath / 'test' / 'skeleton'\n",
    "    face_train_filepath = data_dir / input_filepath / 'train' / 'AUs'\n",
    "    face_test_filepath = data_dir / input_filepath / 'test' / 'AUs'\n",
    "    # 1. Load train data\n",
    "    X = list()\n",
    "    y = list()\n",
    "    for file in body_train_filepath.iterdir():\n",
    "        if file.is_file() and file.name.endswith('.csv'):\n",
    "            body_x, body_labels = load_file(file)\n",
    "            has_equivalent_face_file = False\n",
    "            for second_file in face_train_filepath.iterdir():\n",
    "                if second_file.is_file() and second_file.name.endswith('.csv') and second_file.name == file.name:\n",
    "                    # Concatenate features\n",
    "                    face_x, face_labels = load_file(second_file)\n",
    "                    full_X = np.concatenate((body_x, face_x), axis=1)\n",
    "                    body_x = body_x.to_numpy()\n",
    "                    face_x = face_x.to_numpy()\n",
    "                    X.append(full_X)\n",
    "                    y.append(body_labels[0])\n",
    "                    has_equivalent_face_file = True\n",
    "                    break\n",
    "            if not has_equivalent_face_file:\n",
    "                continue\n",
    "    n_length = X[0].shape[0]\n",
    "    n_features = X[0].shape[1]\n",
    "    X = np.array(X)\n",
    "    X_train = X.reshape((len(X), 1, n_length, n_features))\n",
    "    lb = LabelBinarizer()\n",
    "    y_train = lb.fit_transform(y)\n",
    "    # 2. Load test data\n",
    "    X = list()\n",
    "    y = list()\n",
    "    for file in body_test_filepath.iterdir():\n",
    "        if file.is_file() and file.name.endswith('.csv'):\n",
    "            body_x, body_labels = load_file(file)\n",
    "            body_x = body_x.to_numpy()\n",
    "            has_equivalent_face_file = False\n",
    "            for second_file in face_test_filepath.iterdir():\n",
    "                if second_file.is_file() and second_file.name.endswith('.csv') and second_file.name == file.name:\n",
    "                    # Concatenate features\n",
    "                    face_x, face_labels = load_file(second_file)\n",
    "                    face_x = face_x.to_numpy()\n",
    "                    full_X = np.concatenate((body_x, face_x), axis=1)\n",
    "                    X.append(full_X)\n",
    "                    y.append(body_labels[0])\n",
    "                    has_equivalent_face_file = True\n",
    "                    break\n",
    "            if not has_equivalent_face_file:\n",
    "                continue\n",
    "    n_length = X[0].shape[0]\n",
    "    n_features = X[0].shape[1]\n",
    "    X = np.array(X)\n",
    "    X_test = X.reshape((len(X), 1, n_length, n_features))\n",
    "    y_test = lb.transform(y)\n",
    "    return X_train, X_test, y_train, y_test\n",
    "\n",
    "def load_latefusion_dataset(input_filepath, modality):\n",
    "    root_dir = Path(os.path.abspath('')).parent\n",
    "    data_dir = root_dir / 'data'\n",
    "    train_filepath = data_dir / input_filepath / 'train' / modality\n",
    "    test_filepath = data_dir / input_filepath / 'test' / modality\n",
    "    # 1. Load train data\n",
    "    X = list()\n",
    "    y = list()\n",
    "    for file in train_filepath.iterdir():\n",
    "        if file.is_file() and file.name.endswith('.csv'):\n",
    "            x, labels = load_file(file)\n",
    "            if modality == 'skeleton':\n",
    "                has_equivalent_face_file = False \n",
    "                for second_file in (data_dir / input_filepath / 'train' / 'AUs').iterdir():\n",
    "                    if second_file.is_file() and second_file.name.endswith('.csv') and second_file.name == file.name:\n",
    "                        has_equivalent_face_file = True\n",
    "                        break\n",
    "                if not has_equivalent_face_file:\n",
    "                    continue\n",
    "                else: \n",
    "                    x = x.to_numpy()\n",
    "                    X.append(x)\n",
    "                    y.append(labels[0])\n",
    "            else:\n",
    "                x = x.to_numpy()\n",
    "                X.append(x)\n",
    "                y.append(labels[0])\n",
    "    n_length = X[0].shape[0]\n",
    "    n_features = X[0].shape[1]\n",
    "    X = np.array(X)\n",
    "    X_train = X.reshape((len(X), 1, n_length, n_features))\n",
    "    lb = LabelBinarizer()\n",
    "    y_train = lb.fit_transform(y)\n",
    "    # 2. Load test data\n",
    "    X = list()\n",
    "    y = list()\n",
    "    for file in test_filepath.iterdir():\n",
    "        if file.is_file() and file.name.endswith('.csv'):\n",
    "            x, labels = load_file(file)\n",
    "            if modality == 'skeleton':\n",
    "                has_equivalent_face_file = False \n",
    "                for second_file in (data_dir / input_filepath / 'test' / 'AUs').iterdir():\n",
    "                    if second_file.is_file() and second_file.name.endswith('.csv') and second_file.name == file.name:\n",
    "                        has_equivalent_face_file = True\n",
    "                        break\n",
    "                if not has_equivalent_face_file:\n",
    "                    continue\n",
    "                else: \n",
    "                    x = x.to_numpy()\n",
    "                    X.append(x)\n",
    "                    y.append(labels[0])\n",
    "            else:\n",
    "                x = x.to_numpy()\n",
    "                X.append(x)\n",
    "                y.append(labels[0])\n",
    "    n_length = X[0].shape[0]\n",
    "    n_features = X[0].shape[1]\n",
    "    X = np.array(X)\n",
    "    X_test = X.reshape((len(X), 1, n_length, n_features))\n",
    "    y_test = lb.transform(y)\n",
    "    return X_train, X_test, y_train, y_test"
   ]
  },
  {
   "cell_type": "code",
   "execution_count": 3,
   "metadata": {},
   "outputs": [],
   "source": [
    "def jitter(x, sigma=0.03):\n",
    "    return x + np.random.normal(loc=0., scale=sigma, size=x.shape)"
   ]
  },
  {
   "cell_type": "code",
   "execution_count": 4,
   "metadata": {},
   "outputs": [],
   "source": [
    "def rotation(x):\n",
    "    flip = np.random.choice([-1, 1], size=(x.shape[0],x.shape[2]))\n",
    "    rotate_axis = np.arange(x.shape[2])\n",
    "    np.random.shuffle(rotate_axis)    \n",
    "    return flip[:,np.newaxis,:] * x[:,:,rotate_axis]"
   ]
  },
  {
   "cell_type": "markdown",
   "metadata": {},
   "source": [
    "### Models"
   ]
  },
  {
   "cell_type": "code",
   "execution_count": 5,
   "metadata": {},
   "outputs": [],
   "source": [
    "def train(model, X_train, y_train, X_val, y_val, epochs, batch_size, class_weight):\n",
    "    early_stopping = tf.keras.callbacks.EarlyStopping(\n",
    "        monitor='val_loss', patience=10)\n",
    "    history = model.fit(X_train, y_train, validation_data=(X_val, y_val), epochs=epochs, callbacks=[early_stopping],\n",
    "        batch_size=batch_size, class_weight=class_weight, verbose=2)\n",
    "    return history\n",
    "\n",
    "def train_fusioned(model, body_X_train, face_X_train, y_train, body_X_val, face_X_val, y_val, epochs, batch_size, class_weight):\n",
    "    early_stopping = tf.keras.callbacks.EarlyStopping(\n",
    "        monitor='val_loss', patience=10)\n",
    "    history = model.fit([body_X_train, face_X_train], y_train, validation_data=([body_X_val, face_X_val], y_val), \n",
    "                        epochs=epochs, batch_size=batch_size, callbacks=[early_stopping], class_weight=class_weight, verbose=2)\n",
    "    return history"
   ]
  },
  {
   "cell_type": "markdown",
   "metadata": {},
   "source": [
    "### Dirichlet Markov Ensemble with soft voting\n",
    "\n",
    "The Dirichlet ensemble weights the ensemble members based on validation set performance. The weight optimization search is performed with randomized search based on the dirichlet distribution. \n",
    "    \n",
    "Soft voting involves summing the predicted probability scores for each class label and predicting the class label with the largest probability."
   ]
  },
  {
   "cell_type": "code",
   "execution_count": 6,
   "metadata": {},
   "outputs": [],
   "source": [
    "class KerasMember():\n",
    "    def __init__(self, name=None, keras_model=None, train_batches=None,\n",
    "                 val_batches=None, submission_probs=None, keras_modelpath=None,\n",
    "                 keras_kwargs={}):\n",
    "        assert(name is not None)\n",
    "        self.name = name\n",
    "        self.model = keras_model\n",
    "        self.submission_probs = submission_probs\n",
    "        # Initialize Params\n",
    "        self.val_probs = None\n",
    "        self.train_probs = None\n",
    "        self.val_classes = None\n",
    "        self.train_classes = None\n",
    "        if (keras_model is None) and (keras_modelpath is not None):\n",
    "            self.load_kerasmodel(self.keras_modelpath, self.keras_kwargs)\n",
    "        if train_batches is not None:\n",
    "            self._calculate_train_predictions(train_batches)\n",
    "        if val_batches is not None:\n",
    "            self._calculate_val_predictions(val_batches)\n",
    "\n",
    "    def _test_datatuple(self, datatuple):\n",
    "        assert(len(datatuple) == 2)\n",
    "        assert(datatuple[0].shape[0] == datatuple[1].shape[0])\n",
    "\n",
    "    def _calculate_predictions(self, batches):\n",
    "        if hasattr(batches, 'shuffle'):\n",
    "            batches.reset()\n",
    "            batches.shuffle = False\n",
    "        if type(batches) is tuple:\n",
    "            self._test_datatuple(batches)\n",
    "            return self.model.predict(batches[0])\n",
    "        return self.model.predict_generator(\n",
    "            batches, steps=(batches.n // batches.batch_size) + 1, verbose=1)\n",
    "\n",
    "    def _calculate_val_predictions(self, val_batches):\n",
    "        if type(val_batches) is tuple:\n",
    "            self.val_classes = val_batches[1]\n",
    "        elif hasattr(val_batches, 'classes'):\n",
    "            self.val_classes = np.array(val_batches.classes)\n",
    "        elif hasattr(val_batches, 'y'):\n",
    "            self.val_classes = np.array(val_batches.y)\n",
    "        else:\n",
    "            raise ValueError(\"No known class in data batch\")\n",
    "        self.val_probs = self._calculate_predictions(val_batches)\n",
    "        return self.val_probs\n",
    "\n",
    "    def _calculate_train_predictions(self, train_batches):\n",
    "        if type(train_batches) is tuple:\n",
    "            self.train_classes = train_batches[1]\n",
    "        elif hasattr(train_batches, 'classes'):\n",
    "            self.train_classes = np.array(train_batches.classes)\n",
    "        elif hasattr(train_batches, 'y'):\n",
    "            self.train_classes = np.array(train_batches.y)\n",
    "        else:\n",
    "            raise ValueError(\"No known class in data batch\")\n",
    "        self.train_probs = self._calculate_predictions(train_batches)\n",
    "        return self.train_probs\n"
   ]
  },
  {
   "cell_type": "code",
   "execution_count": 7,
   "metadata": {},
   "outputs": [],
   "source": [
    "class DirichletEnsemble():\n",
    "    def __init__(self, N=10000, metric=None, maximize=True):\n",
    "        self.n = N\n",
    "        self.metric = metric\n",
    "        if metric is None:\n",
    "            self.metric = roc_auc_score\n",
    "        self.maximize = maximize\n",
    "        # Initialize Parameters:\n",
    "        self.members = []\n",
    "        self.bestweights = []\n",
    "        self.probabilities = None\n",
    "        self._nmembers = 0\n",
    "        self.bestscore = float(\"-inf\") if maximize else float(\"inf\")\n",
    "        self.accuracy = None\n",
    "        self.precision = None\n",
    "        self.recall = None\n",
    "        self.f1 = None\n",
    "        self.fitted = False\n",
    "\n",
    "    def add_members(self, members):\n",
    "        for member in members:\n",
    "            self.add_member(member)\n",
    "\n",
    "    def add_member(self, member):\n",
    "        self.members.append(member)\n",
    "        self._nmembers += 1\n",
    "\n",
    "    def fit(self, verbose=False):\n",
    "        assert(len(self.members) > 1)\n",
    "        val_classes = self.members[0].val_classes\n",
    "        best_ensemble_score = float(\"-inf\") if self.maximize else float(\"inf\")\n",
    "        best_ensemble_accuracy = 0\n",
    "        best_ensemble_p = 0\n",
    "        best_ensemble_r = 0\n",
    "        best_ensemble_f1 = 0\n",
    "        rsbest = None\n",
    "        for i in range(self.n):\n",
    "            rs = np.random.dirichlet(np.ones(self._nmembers), size=1)[0]\n",
    "            preds = np.sum(np.array([self.members[i].val_probs * rs[i]\n",
    "                                     for i in range(self._nmembers)]), axis=0)\n",
    "            ensemble_score = _calculate_metric(val_classes, preds)\n",
    "            ensemble_accuracy = _calculate_metric(val_classes, preds, accuracy_score)\n",
    "            ensemble_prf1 = _calculate_metric(val_classes, preds, precision_recall_fscore_support)\n",
    "            ensemble_p = ensemble_prf1[0]\n",
    "            ensemble_r = ensemble_prf1[1]\n",
    "            ensemble_f1 = ensemble_prf1[2]\n",
    "            max_flag = self.maximize and ensemble_score > best_ensemble_score\n",
    "            min_flag = not(\n",
    "                self.maximize) and ensemble_score < best_ensemble_score\n",
    "            if max_flag or min_flag:\n",
    "                if verbose:\n",
    "                    print(ensemble_score, i, rs) \n",
    "                best_ensemble_score = ensemble_score\n",
    "                rsbest = rs\n",
    "            if ensemble_accuracy > best_ensemble_accuracy:\n",
    "                if verbose:\n",
    "                    print(ensemble_accuracy, i, rs) \n",
    "                best_ensemble_accuracy = ensemble_accuracy\n",
    "            if ensemble_p > best_ensemble_p:\n",
    "                if verbose:\n",
    "                    print(ensemble_p, i, rs) \n",
    "                best_ensemble_p = ensemble_p\n",
    "            if ensemble_r > best_ensemble_r:\n",
    "                if verbose:\n",
    "                    print(ensemble_r, i, rs) \n",
    "                best_ensemble_r = ensemble_r\n",
    "            if ensemble_f1 > best_ensemble_f1:\n",
    "                if verbose:\n",
    "                    print(ensemble_f1, i, rs) \n",
    "                best_ensemble_f1 = ensemble_f1\n",
    "        self.bestweights = rsbest\n",
    "        self.bestscore = best_ensemble_score\n",
    "        self.accuracy = best_ensemble_accuracy\n",
    "        self.precision = best_ensemble_p\n",
    "        self.recall = best_ensemble_r\n",
    "        self.f1 = best_ensemble_f1\n",
    "\n",
    "    def predict(self):\n",
    "        self.probabilities = np.sum(np.array([self.bestweights[i] *\n",
    "                                              self.members[i].submission_probs\n",
    "                                              for i in range(self._nmembers)]),\n",
    "                                    axis=0)\n",
    "        return self.probabilities\n",
    "        \n",
    "    def describe(self):\n",
    "        for i in range(self._nmembers):\n",
    "            member = self.members[i]\n",
    "            text = member.name + \" (weight: {:1.4f})\".format(self.bestweights[i])\n",
    "            print(text)\n",
    "        print(\"Accuracy: {:1.2f}% - ROC/AUC: {:1.2f} - Precision: {:1.2f} - Recall: {:1.2f} - F1 score: {:1.2f}\".format(\n",
    "            self.accuracy * 100, self.bestscore, self.precision, self.recall, self.f1))\n",
    "        return\n",
    "\n",
    "def _calculate_metric(y_true, y_pred, metric=None):\n",
    "    if metric is None:\n",
    "        metric = roc_auc_score\n",
    "    y_t = y_true\n",
    "    y_p = y_pred\n",
    "    if metric == roc_auc_score:\n",
    "        return metric(y_t, y_p, multi_class='ovo')\n",
    "    if y_true.ndim > 1:\n",
    "        y_t = np.argmax(y_true, axis=1)\n",
    "    if y_pred.ndim > 1:\n",
    "        y_p = np.argmax(y_pred, axis=1)\n",
    "    if metric is precision_recall_fscore_support:\n",
    "        return precision_recall_fscore_support(y_t, y_p, average='macro')\n",
    "    return metric(y_t, y_p)"
   ]
  },
  {
   "cell_type": "markdown",
   "metadata": {},
   "source": [
    "### KFold CV"
   ]
  },
  {
   "cell_type": "code",
   "execution_count": 8,
   "metadata": {},
   "outputs": [],
   "source": [
    "kf = KFold(n_splits=5, shuffle=True, random_state=42)\n",
    "epochs = 50"
   ]
  },
  {
   "cell_type": "markdown",
   "metadata": {},
   "source": [
    "## 1. Uni-modal approaches\n",
    "\n",
    "Training the different model architectures on single modalities (skeleton vs action units). "
   ]
  },
  {
   "cell_type": "markdown",
   "metadata": {},
   "source": [
    "### 1.1 Body modality (skeleton) models"
   ]
  },
  {
   "cell_type": "markdown",
   "metadata": {},
   "source": [
    "#### Apply Data Augmentation"
   ]
  },
  {
   "cell_type": "code",
   "execution_count": 9,
   "metadata": {},
   "outputs": [
    {
     "name": "stdout",
     "output_type": "stream",
     "text": [
      "(510, 1, 350, 38) (510, 4)\n",
      "(105, 1, 350, 38) (105, 4)\n"
     ]
    }
   ],
   "source": [
    "full_body_X_train, full_body_X_test, full_body_y_train, full_body_y_test, body_feature_names, classes = load_dataset('processed', 'skeleton')\n",
    "full_body_X = full_body_X_train.copy()\n",
    "full_body_y = full_body_y_train.copy()\n",
    "\n",
    "print(full_body_X_train.shape, full_body_y_train.shape)\n",
    "print(full_body_X_test.shape, full_body_y_test.shape)\n",
    "\n",
    "n_length, body_features, body_outputs = full_body_X_train.shape[2], full_body_X_train.shape[-1], full_body_y_test.shape[1]"
   ]
  },
  {
   "cell_type": "code",
   "execution_count": 10,
   "metadata": {},
   "outputs": [],
   "source": [
    "jitter_X = jitter(full_body_X, sigma=0.03)"
   ]
  },
  {
   "cell_type": "code",
   "execution_count": 11,
   "metadata": {},
   "outputs": [],
   "source": [
    "reshaped_X = full_body_X.reshape((full_body_X.shape[0], full_body_X.shape[2], full_body_X.shape[-1]))\n",
    "rotated_X = rotation(reshaped_X)\n",
    "rotated_X = rotated_X.reshape((rotated_X.shape[0], 1, rotated_X.shape[1], rotated_X.shape[-1]))"
   ]
  },
  {
   "cell_type": "code",
   "execution_count": 12,
   "metadata": {},
   "outputs": [
    {
     "data": {
      "text/plain": [
       "(510, 1, 350, 38)"
      ]
     },
     "execution_count": 12,
     "metadata": {},
     "output_type": "execute_result"
    }
   ],
   "source": [
    "augmented_X = np.concatenate((rotated_X[0:250], jitter_X[0:250]), axis=0)\n",
    "add_y = np.concatenate((full_body_y[0:250], full_body_y[0:250]), axis=0)\n",
    "full_X = np.concatenate((augmented_X, full_body_X), axis=0)\n",
    "full_y = np.concatenate((add_y, full_body_y), axis=0)\n",
    "full_X.shape"
   ]
  },
  {
   "cell_type": "markdown",
   "metadata": {},
   "source": [
    "The train dataset is imbalanced"
   ]
  },
  {
   "cell_type": "code",
   "execution_count": 13,
   "metadata": {},
   "outputs": [
    {
     "name": "stdout",
     "output_type": "stream",
     "text": [
      "UpperBody Mild : 257 (50.4% of total)\n",
      "UpperBody Moderate : 160 (31.4% of total)\n",
      "LowerBody Moderate : 60 (11.8% of total)\n",
      "LowerBody Mild : 33 (6.5% of total)\n"
     ]
    }
   ],
   "source": [
    "umild, lmoderate, lmild, umoderate = np.sum(full_y, axis=0)\n",
    "total = umild + lmoderate + lmild + umoderate\n",
    "\n",
    "print(classes[0], ':', umild, '({:.1f}% of total)'.format(umild / total * 100))\n",
    "print(classes[2], ':', lmild, '({:.1f}% of total)'.format(lmild / total * 100))\n",
    "print(classes[1], ':', lmoderate, '({:.1f}% of total)'.format(lmoderate / total * 100))\n",
    "print(classes[3], ':', umoderate, '({:.1f}% of total)'.format(umoderate / total * 100))"
   ]
  },
  {
   "cell_type": "code",
   "execution_count": 14,
   "metadata": {},
   "outputs": [
    {
     "name": "stdout",
     "output_type": "stream",
     "text": [
      "Weight for Upper Body Pain Mild Level: 0.99\n",
      "Weight for Upper Body Pain Moderate Level: 7.73\n",
      "Weight for Lower Body Pain Mild Level: 1.59\n",
      "Weight for Lower Body Pain Moderate Level: 4.25\n"
     ]
    }
   ],
   "source": [
    "weight_for_0 = (1 / umild) * (total / 2.0)\n",
    "weight_for_1 = (1 / lmoderate) * (total / 2.0)\n",
    "weight_for_2 = (1 / lmild) * (total / 2.0)\n",
    "weight_for_3 = (1 / umoderate) * (total / 2.0)\n",
    "\n",
    "class_weight = {0: weight_for_0, 1: weight_for_1, 2: weight_for_2, 3: weight_for_3}\n",
    "\n",
    "print('Weight for Upper Body Pain Mild Level: {:.2f}'.format(weight_for_0))\n",
    "print('Weight for Upper Body Pain Moderate Level: {:.2f}'.format(weight_for_3))\n",
    "print('Weight for Lower Body Pain Mild Level: {:.2f}'.format(weight_for_2))\n",
    "print('Weight for Lower Body Pain Moderate Level: {:.2f}'.format(weight_for_1))"
   ]
  },
  {
   "cell_type": "code",
   "execution_count": 18,
   "metadata": {},
   "outputs": [],
   "source": [
    "for train_index, val_index in kf.split(full_X):\n",
    "    continue"
   ]
  },
  {
   "cell_type": "markdown",
   "metadata": {},
   "source": [
    "#### Train BiLSTM"
   ]
  },
  {
   "cell_type": "code",
   "execution_count": 16,
   "metadata": {},
   "outputs": [],
   "source": [
    "def body_biLSTM(n_features, n_length, n_outputs):\n",
    "    input = Input(shape=(1, n_length, n_features))\n",
    "    bilstm_1 = Bidirectional(ConvLSTM1D(filters=100, kernel_size=(3), activation='relu', return_sequences=True, kernel_initializer='glorot_normal'))(input)\n",
    "    bilstm_2 = Bidirectional(ConvLSTM1D(filters=100, kernel_size=(3), activation='relu', return_sequences=True, kernel_initializer='glorot_normal'))(bilstm_1)\n",
    "    bilstm_3 = Bidirectional(ConvLSTM1D(filters=100, kernel_size=(3), activation='relu', kernel_initializer='glorot_normal'))(bilstm_2)\n",
    "    flatten = Flatten()(bilstm_3)\n",
    "    dense = Dense(100, activation='relu')(flatten)\n",
    "    dense = Dense(100, activation='relu')(flatten)\n",
    "    output = Dense(units=n_outputs, activation='softmax')(dense)\n",
    "    model = Model(inputs=input, outputs=output)\n",
    "    model.compile(loss='categorical_crossentropy', optimizer=tf.keras.optimizers.RMSprop(learning_rate=0.0001), metrics=['accuracy', tf.keras.metrics.AUC(), tf.keras.metrics.Precision(), tf.keras.metrics.Recall(), tfa.metrics.F1Score(num_classes=n_outputs, average='macro')])\n",
    "    return model"
   ]
  },
  {
   "cell_type": "code",
   "execution_count": 19,
   "metadata": {},
   "outputs": [
    {
     "name": "stdout",
     "output_type": "stream",
     "text": [
      "Epoch 1/50\n",
      "13/13 - 30s - loss: 6.9388 - accuracy: 0.3284 - auc: 0.5988 - precision: 0.3317 - recall: 0.1691 - f1_score: 0.2712 - val_loss: 1.4113 - val_accuracy: 0.2843 - val_auc: 0.6064 - val_precision: 0.2593 - val_recall: 0.0686 - val_f1_score: 0.2364 - 30s/epoch - 2s/step\n",
      "Epoch 2/50\n",
      "13/13 - 13s - loss: 2.6856 - accuracy: 0.3799 - auc: 0.6699 - precision: 0.4298 - recall: 0.1201 - f1_score: 0.3353 - val_loss: 1.5062 - val_accuracy: 0.2549 - val_auc: 0.5940 - val_precision: 0.2800 - val_recall: 0.1373 - val_f1_score: 0.2098 - 13s/epoch - 1s/step\n",
      "Epoch 3/50\n",
      "13/13 - 14s - loss: 2.5443 - accuracy: 0.3750 - auc: 0.6929 - precision: 0.5141 - recall: 0.1789 - f1_score: 0.3437 - val_loss: 1.5353 - val_accuracy: 0.3529 - val_auc: 0.5928 - val_precision: 0.2927 - val_recall: 0.1176 - val_f1_score: 0.2621 - 14s/epoch - 1s/step\n",
      "Epoch 4/50\n",
      "13/13 - 11s - loss: 2.2915 - accuracy: 0.4583 - auc: 0.7437 - precision: 0.5482 - recall: 0.2230 - f1_score: 0.4192 - val_loss: 1.6331 - val_accuracy: 0.2745 - val_auc: 0.5488 - val_precision: 0.2308 - val_recall: 0.0882 - val_f1_score: 0.2491 - 11s/epoch - 881ms/step\n",
      "Epoch 5/50\n",
      "13/13 - 11s - loss: 2.4727 - accuracy: 0.4853 - auc: 0.7744 - precision: 0.5961 - recall: 0.2966 - f1_score: 0.4284 - val_loss: 1.5719 - val_accuracy: 0.2745 - val_auc: 0.5265 - val_precision: 0.2414 - val_recall: 0.0686 - val_f1_score: 0.2320 - 11s/epoch - 874ms/step\n",
      "Epoch 6/50\n",
      "13/13 - 11s - loss: 2.3097 - accuracy: 0.4632 - auc: 0.7590 - precision: 0.5684 - recall: 0.2647 - f1_score: 0.4082 - val_loss: 1.6758 - val_accuracy: 0.3235 - val_auc: 0.6197 - val_precision: 0.2245 - val_recall: 0.1078 - val_f1_score: 0.2937 - 11s/epoch - 874ms/step\n",
      "Epoch 7/50\n",
      "13/13 - 11s - loss: 2.5655 - accuracy: 0.5049 - auc: 0.7763 - precision: 0.5830 - recall: 0.3186 - f1_score: 0.4424 - val_loss: 1.5836 - val_accuracy: 0.4314 - val_auc: 0.6416 - val_precision: 0.3966 - val_recall: 0.2255 - val_f1_score: 0.2967 - 11s/epoch - 872ms/step\n",
      "Epoch 8/50\n",
      "13/13 - 11s - loss: 2.0453 - accuracy: 0.5417 - auc: 0.8046 - precision: 0.6197 - recall: 0.3554 - f1_score: 0.4949 - val_loss: 1.8267 - val_accuracy: 0.2941 - val_auc: 0.6076 - val_precision: 0.2727 - val_recall: 0.1765 - val_f1_score: 0.2364 - 11s/epoch - 874ms/step\n",
      "Epoch 9/50\n",
      "13/13 - 11s - loss: 2.1270 - accuracy: 0.5515 - auc: 0.8107 - precision: 0.6145 - recall: 0.3946 - f1_score: 0.4994 - val_loss: 1.5763 - val_accuracy: 0.4608 - val_auc: 0.6956 - val_precision: 0.4151 - val_recall: 0.2157 - val_f1_score: 0.3706 - 11s/epoch - 874ms/step\n",
      "Epoch 10/50\n",
      "13/13 - 11s - loss: 1.7859 - accuracy: 0.6275 - auc: 0.8608 - precision: 0.7192 - recall: 0.4583 - f1_score: 0.5646 - val_loss: 1.9236 - val_accuracy: 0.3235 - val_auc: 0.6204 - val_precision: 0.3939 - val_recall: 0.2549 - val_f1_score: 0.2743 - 11s/epoch - 877ms/step\n",
      "Epoch 11/50\n",
      "13/13 - 12s - loss: 1.7883 - accuracy: 0.5760 - auc: 0.8464 - precision: 0.6572 - recall: 0.4559 - f1_score: 0.5273 - val_loss: 1.8998 - val_accuracy: 0.3333 - val_auc: 0.6395 - val_precision: 0.3529 - val_recall: 0.2353 - val_f1_score: 0.2633 - 12s/epoch - 909ms/step\n"
     ]
    }
   ],
   "source": [
    "X_train, X_val = full_X[train_index], full_X[val_index]\n",
    "y_train, y_val = full_y[train_index], full_y[val_index]\n",
    "body_biLSTM = body_biLSTM(body_features, n_length, body_outputs)\n",
    "history = train(body_biLSTM, X_train, y_train, X_val, y_val, epochs=epochs, batch_size=32, class_weight=class_weight)"
   ]
  },
  {
   "cell_type": "markdown",
   "metadata": {},
   "source": [
    "#### Train CNN+LSTM"
   ]
  },
  {
   "cell_type": "code",
   "execution_count": 20,
   "metadata": {},
   "outputs": [],
   "source": [
    "def body_CNN(n_features, n_length, n_outputs):\n",
    "    input = Input(shape=(1, n_length, n_features))\n",
    "    conv1d_1 = TimeDistributed(Conv1D(filters=100, kernel_size=3, activation='tanh', kernel_initializer='he_uniform'))(input)\n",
    "    conv1d_2 = TimeDistributed(Conv1D(filters=100, kernel_size=3, activation='tanh', kernel_initializer='he_uniform'))(conv1d_1)\n",
    "    maxpool_1 = TimeDistributed(MaxPooling1D(pool_size=2, data_format='channels_first'))(conv1d_2)\n",
    "    conv1d_3 = TimeDistributed(Conv1D(filters=100, kernel_size=3, activation='tanh', kernel_initializer='he_uniform'))(maxpool_1)\n",
    "    conv1d_4 = TimeDistributed(Conv1D(filters=100, kernel_size=3, activation='tanh', kernel_initializer='he_uniform'))(conv1d_3)\n",
    "    maxpool_2 = TimeDistributed(MaxPooling1D(pool_size=2, data_format='channels_first'))(conv1d_4)\n",
    "    flatten = TimeDistributed(Flatten())(maxpool_2)\n",
    "    lstm_1 = LSTM(100, return_sequences=True)(flatten)\n",
    "    lstm_2 = LSTM(100)(lstm_1)\n",
    "    dense_1 = Dense(100, activation='tanh')(lstm_2)\n",
    "    dense_2 = Dense(100, activation='tanh')(dense_1)\n",
    "    output = Dense(units=n_outputs, activation='softmax')(dense_2)\n",
    "    model = Model(inputs=input, outputs=output)\n",
    "    model.compile(loss='categorical_crossentropy', optimizer=tf.keras.optimizers.Adam(learning_rate=0.001), metrics=['accuracy', tf.keras.metrics.AUC(), tf.keras.metrics.Precision(), tf.keras.metrics.Recall(), tfa.metrics.F1Score(num_classes=n_outputs, average='macro')])\n",
    "    return model"
   ]
  },
  {
   "cell_type": "code",
   "execution_count": 21,
   "metadata": {},
   "outputs": [
    {
     "name": "stdout",
     "output_type": "stream",
     "text": [
      "Epoch 1/50\n",
      "4/4 - 5s - loss: 2.7984 - accuracy: 0.1495 - auc_1: 0.4171 - precision_1: 0.0000e+00 - recall_1: 0.0000e+00 - f1_score: 0.1002 - val_loss: 1.4057 - val_accuracy: 0.0588 - val_auc_1: 0.4466 - val_precision_1: 0.0000e+00 - val_recall_1: 0.0000e+00 - val_f1_score: 0.0278 - 5s/epoch - 1s/step\n",
      "Epoch 2/50\n",
      "4/4 - 2s - loss: 2.7191 - accuracy: 0.2696 - auc_1: 0.5268 - precision_1: 0.0000e+00 - recall_1: 0.0000e+00 - f1_score: 0.2122 - val_loss: 1.3583 - val_accuracy: 0.1667 - val_auc_1: 0.5373 - val_precision_1: 0.0000e+00 - val_recall_1: 0.0000e+00 - val_f1_score: 0.0917 - 2s/epoch - 391ms/step\n",
      "Epoch 3/50\n",
      "4/4 - 1s - loss: 2.7575 - accuracy: 0.1152 - auc_1: 0.5572 - precision_1: 0.0000e+00 - recall_1: 0.0000e+00 - f1_score: 0.0637 - val_loss: 1.3460 - val_accuracy: 0.1569 - val_auc_1: 0.5588 - val_precision_1: 0.0000e+00 - val_recall_1: 0.0000e+00 - val_f1_score: 0.0678 - 1s/epoch - 287ms/step\n",
      "Epoch 4/50\n",
      "4/4 - 1s - loss: 2.7566 - accuracy: 0.1078 - auc_1: 0.5572 - precision_1: 0.0000e+00 - recall_1: 0.0000e+00 - f1_score: 0.0487 - val_loss: 1.3802 - val_accuracy: 0.1569 - val_auc_1: 0.5588 - val_precision_1: 0.0000e+00 - val_recall_1: 0.0000e+00 - val_f1_score: 0.0678 - 978ms/epoch - 244ms/step\n",
      "Epoch 5/50\n",
      "4/4 - 1s - loss: 2.7453 - accuracy: 0.2598 - auc_1: 0.5125 - precision_1: 0.0000e+00 - recall_1: 0.0000e+00 - f1_score: 0.1532 - val_loss: 1.3944 - val_accuracy: 0.4216 - val_auc_1: 0.5131 - val_precision_1: 0.0000e+00 - val_recall_1: 0.0000e+00 - val_f1_score: 0.1483 - 876ms/epoch - 219ms/step\n",
      "Epoch 6/50\n",
      "4/4 - 1s - loss: 2.7346 - accuracy: 0.3603 - auc_1: 0.5522 - precision_1: 0.0000e+00 - recall_1: 0.0000e+00 - f1_score: 0.1754 - val_loss: 1.3900 - val_accuracy: 0.0588 - val_auc_1: 0.4608 - val_precision_1: 0.0000e+00 - val_recall_1: 0.0000e+00 - val_f1_score: 0.0278 - 865ms/epoch - 216ms/step\n",
      "Epoch 7/50\n",
      "4/4 - 1s - loss: 2.7332 - accuracy: 0.0662 - auc_1: 0.5146 - precision_1: 0.0000e+00 - recall_1: 0.0000e+00 - f1_score: 0.0310 - val_loss: 1.3885 - val_accuracy: 0.0588 - val_auc_1: 0.4608 - val_precision_1: 0.0000e+00 - val_recall_1: 0.0000e+00 - val_f1_score: 0.0278 - 933ms/epoch - 233ms/step\n",
      "Epoch 8/50\n",
      "4/4 - 1s - loss: 2.7332 - accuracy: 0.0907 - auc_1: 0.5223 - precision_1: 0.0000e+00 - recall_1: 0.0000e+00 - f1_score: 0.0547 - val_loss: 1.3740 - val_accuracy: 0.4216 - val_auc_1: 0.5817 - val_precision_1: 0.0000e+00 - val_recall_1: 0.0000e+00 - val_f1_score: 0.1483 - 971ms/epoch - 243ms/step\n",
      "Epoch 9/50\n",
      "4/4 - 1s - loss: 2.7328 - accuracy: 0.5245 - auc_1: 0.6692 - precision_1: 0.0000e+00 - recall_1: 0.0000e+00 - f1_score: 0.1720 - val_loss: 1.3633 - val_accuracy: 0.4216 - val_auc_1: 0.6830 - val_precision_1: 0.0000e+00 - val_recall_1: 0.0000e+00 - val_f1_score: 0.1483 - 1s/epoch - 254ms/step\n",
      "Epoch 10/50\n",
      "4/4 - 1s - loss: 2.7316 - accuracy: 0.5245 - auc_1: 0.7498 - precision_1: 0.0000e+00 - recall_1: 0.0000e+00 - f1_score: 0.1720 - val_loss: 1.3588 - val_accuracy: 0.4216 - val_auc_1: 0.6732 - val_precision_1: 0.0000e+00 - val_recall_1: 0.0000e+00 - val_f1_score: 0.1483 - 984ms/epoch - 246ms/step\n",
      "Epoch 11/50\n",
      "4/4 - 1s - loss: 2.7323 - accuracy: 0.5245 - auc_1: 0.7272 - precision_1: 0.0000e+00 - recall_1: 0.0000e+00 - f1_score: 0.1720 - val_loss: 1.3629 - val_accuracy: 0.4216 - val_auc_1: 0.6830 - val_precision_1: 0.0000e+00 - val_recall_1: 0.0000e+00 - val_f1_score: 0.1483 - 1s/epoch - 256ms/step\n",
      "Epoch 12/50\n",
      "4/4 - 1s - loss: 2.7320 - accuracy: 0.5245 - auc_1: 0.7452 - precision_1: 0.0000e+00 - recall_1: 0.0000e+00 - f1_score: 0.1720 - val_loss: 1.3559 - val_accuracy: 0.4216 - val_auc_1: 0.6830 - val_precision_1: 0.0000e+00 - val_recall_1: 0.0000e+00 - val_f1_score: 0.1483 - 951ms/epoch - 238ms/step\n",
      "Epoch 13/50\n",
      "4/4 - 1s - loss: 2.7326 - accuracy: 0.5245 - auc_1: 0.7444 - precision_1: 0.0000e+00 - recall_1: 0.0000e+00 - f1_score: 0.1720 - val_loss: 1.3626 - val_accuracy: 0.4216 - val_auc_1: 0.5817 - val_precision_1: 0.0000e+00 - val_recall_1: 0.0000e+00 - val_f1_score: 0.1483 - 905ms/epoch - 226ms/step\n"
     ]
    }
   ],
   "source": [
    "X_train, X_val = full_X[train_index], full_X[val_index]\n",
    "y_train, y_val = full_y[train_index], full_y[val_index]\n",
    "body_cnn = body_CNN(body_features, n_length, body_outputs)\n",
    "history = train(body_cnn, X_train, y_train, X_val, y_val, epochs=epochs, batch_size=128, class_weight=class_weight)"
   ]
  },
  {
   "cell_type": "markdown",
   "metadata": {},
   "source": [
    "#### Train ConvLSTM"
   ]
  },
  {
   "cell_type": "code",
   "execution_count": 22,
   "metadata": {},
   "outputs": [],
   "source": [
    "def body_convLSTM(n_features, n_length, n_outputs):\n",
    "    input = Input(shape=(1, n_length, n_features))\n",
    "    convlstm_1 = ConvLSTM1D(filters=250, kernel_size=(5), activation='relu', return_sequences=True, kernel_initializer='glorot_uniform')(input)\n",
    "    convlstm_2 = ConvLSTM1D(filters=250, kernel_size=(5), activation='relu', kernel_initializer='glorot_uniform')(convlstm_1)\n",
    "    flatten = Flatten()(convlstm_2)\n",
    "    dense_1 = Dense(250, activation='relu')(flatten)\n",
    "    dense_2 = Dense(250, activation='relu')(dense_1)\n",
    "    output = Dense(units=n_outputs, activation='softmax')(dense_2)\n",
    "    model = Model(inputs=input, outputs=output)\n",
    "    model.compile(loss='categorical_crossentropy', optimizer=tf.keras.optimizers.RMSprop(learning_rate=0.001), metrics=['accuracy', tf.keras.metrics.AUC(), tf.keras.metrics.Precision(), tf.keras.metrics.Recall(), tfa.metrics.F1Score(num_classes=n_outputs, average='macro')])\n",
    "    return model"
   ]
  },
  {
   "cell_type": "code",
   "execution_count": 23,
   "metadata": {},
   "outputs": [
    {
     "name": "stdout",
     "output_type": "stream",
     "text": [
      "Epoch 1/50\n",
      "7/7 - 23s - loss: 986.7445 - accuracy: 0.2868 - auc_2: 0.5379 - precision_2: 0.2875 - recall_2: 0.2770 - f1_score: 0.2148 - val_loss: 114.7470 - val_accuracy: 0.0588 - val_auc_2: 0.3725 - val_precision_2: 0.0588 - val_recall_2: 0.0588 - val_f1_score: 0.0278 - 23s/epoch - 3s/step\n",
      "Epoch 2/50\n",
      "7/7 - 18s - loss: 93.9923 - accuracy: 0.2279 - auc_2: 0.4733 - precision_2: 0.2279 - recall_2: 0.2279 - f1_score: 0.2151 - val_loss: 20.6950 - val_accuracy: 0.4216 - val_auc_2: 0.6144 - val_precision_2: 0.4216 - val_recall_2: 0.4216 - val_f1_score: 0.1483 - 18s/epoch - 3s/step\n",
      "Epoch 3/50\n",
      "7/7 - 14s - loss: 18.1522 - accuracy: 0.2353 - auc_2: 0.5546 - precision_2: 0.3682 - recall_2: 0.1985 - f1_score: 0.1880 - val_loss: 1.3886 - val_accuracy: 0.0686 - val_auc_2: 0.3791 - val_precision_2: 0.0000e+00 - val_recall_2: 0.0000e+00 - val_f1_score: 0.0394 - 14s/epoch - 2s/step\n",
      "Epoch 4/50\n",
      "7/7 - 14s - loss: 4.2504 - accuracy: 0.1348 - auc_2: 0.4813 - precision_2: 0.2239 - recall_2: 0.0368 - f1_score: 0.1535 - val_loss: 1.3850 - val_accuracy: 0.0784 - val_auc_2: 0.4608 - val_precision_2: 0.0000e+00 - val_recall_2: 0.0000e+00 - val_f1_score: 0.0504 - 14s/epoch - 2s/step\n",
      "Epoch 5/50\n",
      "7/7 - 14s - loss: 6.8546 - accuracy: 0.1936 - auc_2: 0.4788 - precision_2: 0.2981 - recall_2: 0.1176 - f1_score: 0.1722 - val_loss: 1.3883 - val_accuracy: 0.0588 - val_auc_2: 0.5212 - val_precision_2: 0.0000e+00 - val_recall_2: 0.0000e+00 - val_f1_score: 0.0278 - 14s/epoch - 2s/step\n",
      "Epoch 6/50\n",
      "7/7 - 14s - loss: 2.7268 - accuracy: 0.0809 - auc_2: 0.6055 - precision_2: 1.0000 - recall_2: 0.0025 - f1_score: 0.0550 - val_loss: 121.1019 - val_accuracy: 0.0588 - val_auc_2: 0.3725 - val_precision_2: 0.0588 - val_recall_2: 0.0588 - val_f1_score: 0.0278 - 14s/epoch - 2s/step\n",
      "Epoch 7/50\n",
      "7/7 - 14s - loss: 67.4099 - accuracy: 0.2966 - auc_2: 0.5087 - precision_2: 0.2846 - recall_2: 0.2721 - f1_score: 0.2508 - val_loss: 6.9345 - val_accuracy: 0.0588 - val_auc_2: 0.4139 - val_precision_2: 0.0588 - val_recall_2: 0.0588 - val_f1_score: 0.0278 - 14s/epoch - 2s/step\n",
      "Epoch 8/50\n",
      "7/7 - 14s - loss: 83.7974 - accuracy: 0.2598 - auc_2: 0.5442 - precision_2: 0.2598 - recall_2: 0.2598 - f1_score: 0.2418 - val_loss: 10.6785 - val_accuracy: 0.4216 - val_auc_2: 0.6260 - val_precision_2: 0.4216 - val_recall_2: 0.4216 - val_f1_score: 0.1483 - 14s/epoch - 2s/step\n",
      "Epoch 9/50\n",
      "7/7 - 14s - loss: 42.6838 - accuracy: 0.2941 - auc_2: 0.5400 - precision_2: 0.2941 - recall_2: 0.2941 - f1_score: 0.2458 - val_loss: 6.3897 - val_accuracy: 0.3922 - val_auc_2: 0.5422 - val_precision_2: 0.3922 - val_recall_2: 0.3922 - val_f1_score: 0.1460 - 14s/epoch - 2s/step\n",
      "Epoch 10/50\n",
      "7/7 - 14s - loss: 26.5527 - accuracy: 0.2941 - auc_2: 0.4978 - precision_2: 0.2808 - recall_2: 0.2623 - f1_score: 0.2308 - val_loss: 1.7857 - val_accuracy: 0.3725 - val_auc_2: 0.5881 - val_precision_2: 0.3571 - val_recall_2: 0.1961 - val_f1_score: 0.1454 - 14s/epoch - 2s/step\n",
      "Epoch 11/50\n",
      "7/7 - 14s - loss: 2.8267 - accuracy: 0.3505 - auc_2: 0.6155 - precision_2: 0.4048 - recall_2: 0.0417 - f1_score: 0.2228 - val_loss: 1.3053 - val_accuracy: 0.4216 - val_auc_2: 0.6118 - val_precision_2: 0.8333 - val_recall_2: 0.0980 - val_f1_score: 0.1483 - 14s/epoch - 2s/step\n",
      "Epoch 12/50\n",
      "7/7 - 14s - loss: 2.9349 - accuracy: 0.4902 - auc_2: 0.7043 - precision_2: 0.5806 - recall_2: 0.0441 - f1_score: 0.2163 - val_loss: 1.6412 - val_accuracy: 0.3529 - val_auc_2: 0.6153 - val_precision_2: 0.3934 - val_recall_2: 0.2353 - val_f1_score: 0.1398 - 14s/epoch - 2s/step\n",
      "Epoch 13/50\n",
      "7/7 - 14s - loss: 2.9002 - accuracy: 0.2794 - auc_2: 0.5793 - precision_2: 0.3220 - recall_2: 0.0466 - f1_score: 0.2128 - val_loss: 1.2916 - val_accuracy: 0.4118 - val_auc_2: 0.5877 - val_precision_2: 0.8000 - val_recall_2: 0.0784 - val_f1_score: 0.1458 - 14s/epoch - 2s/step\n",
      "Epoch 14/50\n",
      "7/7 - 14s - loss: 4.1997 - accuracy: 0.2696 - auc_2: 0.5633 - precision_2: 0.3750 - recall_2: 0.0735 - f1_score: 0.1933 - val_loss: 1.3960 - val_accuracy: 0.3725 - val_auc_2: 0.4384 - val_precision_2: 0.0000e+00 - val_recall_2: 0.0000e+00 - val_f1_score: 0.1377 - 14s/epoch - 2s/step\n",
      "Epoch 15/50\n",
      "7/7 - 14s - loss: 2.6851 - accuracy: 0.5319 - auc_2: 0.5726 - precision_2: 0.7500 - recall_2: 0.0221 - f1_score: 0.2120 - val_loss: 1.3264 - val_accuracy: 0.4216 - val_auc_2: 0.5345 - val_precision_2: 0.7273 - val_recall_2: 0.0784 - val_f1_score: 0.1788 - 14s/epoch - 2s/step\n",
      "Epoch 16/50\n",
      "7/7 - 14s - loss: 2.7142 - accuracy: 0.3946 - auc_2: 0.5508 - precision_2: 0.3684 - recall_2: 0.0172 - f1_score: 0.2062 - val_loss: 1.3305 - val_accuracy: 0.4216 - val_auc_2: 0.5223 - val_precision_2: 1.0000 - val_recall_2: 0.0392 - val_f1_score: 0.1483 - 14s/epoch - 2s/step\n",
      "Epoch 17/50\n",
      "7/7 - 14s - loss: 2.6706 - accuracy: 0.4069 - auc_2: 0.5982 - precision_2: 0.4839 - recall_2: 0.0368 - f1_score: 0.2346 - val_loss: 1.3303 - val_accuracy: 0.4216 - val_auc_2: 0.5662 - val_precision_2: 1.0000 - val_recall_2: 0.0392 - val_f1_score: 0.1483 - 14s/epoch - 2s/step\n",
      "Epoch 18/50\n",
      "7/7 - 14s - loss: 2.7088 - accuracy: 0.5319 - auc_2: 0.5721 - precision_2: 0.7500 - recall_2: 0.0147 - f1_score: 0.2055 - val_loss: 1.3569 - val_accuracy: 0.4216 - val_auc_2: 0.4789 - val_precision_2: 1.0000 - val_recall_2: 0.0294 - val_f1_score: 0.1597 - 14s/epoch - 2s/step\n",
      "Epoch 19/50\n",
      "7/7 - 14s - loss: 53.3589 - accuracy: 0.4485 - auc_2: 0.5590 - precision_2: 0.3360 - recall_2: 0.1029 - f1_score: 0.2536 - val_loss: 1.3384 - val_accuracy: 0.4216 - val_auc_2: 0.6842 - val_precision_2: 0.4727 - val_recall_2: 0.2549 - val_f1_score: 0.1483 - 14s/epoch - 2s/step\n",
      "Epoch 20/50\n",
      "7/7 - 14s - loss: 3.0497 - accuracy: 0.3848 - auc_2: 0.5227 - precision_2: 0.4138 - recall_2: 0.0294 - f1_score: 0.1991 - val_loss: 1.3982 - val_accuracy: 0.3824 - val_auc_2: 0.3939 - val_precision_2: 0.0000e+00 - val_recall_2: 0.0000e+00 - val_f1_score: 0.1393 - 14s/epoch - 2s/step\n",
      "Epoch 21/50\n",
      "7/7 - 14s - loss: 2.7103 - accuracy: 0.5147 - auc_2: 0.5535 - precision_2: 1.0000 - recall_2: 0.0025 - f1_score: 0.1900 - val_loss: 1.3876 - val_accuracy: 0.4216 - val_auc_2: 0.5379 - val_precision_2: 0.0000e+00 - val_recall_2: 0.0000e+00 - val_f1_score: 0.1483 - 14s/epoch - 2s/step\n",
      "Epoch 22/50\n",
      "7/7 - 14s - loss: 2.7056 - accuracy: 0.5221 - auc_2: 0.5272 - precision_2: 1.0000 - recall_2: 0.0025 - f1_score: 0.1916 - val_loss: 1.3812 - val_accuracy: 0.4216 - val_auc_2: 0.5274 - val_precision_2: 0.0000e+00 - val_recall_2: 0.0000e+00 - val_f1_score: 0.1483 - 14s/epoch - 2s/step\n",
      "Epoch 23/50\n",
      "7/7 - 14s - loss: 2.6987 - accuracy: 0.5270 - auc_2: 0.6151 - precision_2: 1.0000 - recall_2: 0.0049 - f1_score: 0.1936 - val_loss: 1.3708 - val_accuracy: 0.4216 - val_auc_2: 0.5281 - val_precision_2: 0.0000e+00 - val_recall_2: 0.0000e+00 - val_f1_score: 0.1597 - 14s/epoch - 2s/step\n"
     ]
    }
   ],
   "source": [
    "X_train, X_val = full_X[train_index], full_X[val_index]\n",
    "y_train, y_val = full_y[train_index], full_y[val_index]\n",
    "body_convlstm = body_convLSTM(body_features, n_length, body_outputs)\n",
    "history = train(body_convlstm, X_train, y_train, X_val, y_val, epochs=epochs, batch_size=64, class_weight=class_weight)"
   ]
  },
  {
   "cell_type": "markdown",
   "metadata": {},
   "source": [
    "#### Train RCNN"
   ]
  },
  {
   "cell_type": "code",
   "execution_count": 24,
   "metadata": {},
   "outputs": [],
   "source": [
    "def body_RCNN(n_features, n_length, n_outputs):\n",
    "   input = Input(shape=(1, n_length, n_features))\n",
    "   conv1d_1 = TimeDistributed(Conv1D(filters=250, kernel_size=5, activation=PReLU(alpha_initializer=Constant(value=0.25)), kernel_initializer='glorot_normal'))(input)\n",
    "   bn_1 = TimeDistributed(BatchNormalization())(conv1d_1)\n",
    "   maxpool_1 = TimeDistributed(MaxPooling1D(pool_size=2, data_format='channels_first'))(bn_1)\n",
    "   conv1d_2 = TimeDistributed(Conv1D(filters=250, kernel_size=5, activation=PReLU(alpha_initializer=Constant(value=0.25)), kernel_initializer='glorot_normal'))(maxpool_1)\n",
    "   bn_2 = TimeDistributed(BatchNormalization())(conv1d_2)\n",
    "   maxpool_2 = TimeDistributed(MaxPooling1D(pool_size=2, data_format='channels_first'))(bn_2)\n",
    "   flatten = Flatten()(maxpool_2)\n",
    "   dense_1 = Dense(256, activation='relu')(flatten)\n",
    "   dense_2 = Dense(256, activation='relu')(dense_1)\n",
    "   output = Dense(units=n_outputs, activation='softmax')(dense_2)\n",
    "   model = Model(inputs=input, outputs=output)\n",
    "   model.compile(loss='categorical_crossentropy', optimizer=tf.keras.optimizers.RMSprop(learning_rate=0.001), metrics=['accuracy', tf.keras.metrics.AUC(), tf.keras.metrics.Precision(), tf.keras.metrics.Recall(), tfa.metrics.F1Score(num_classes=n_outputs, average='macro')])\n",
    "   return model"
   ]
  },
  {
   "cell_type": "code",
   "execution_count": 25,
   "metadata": {},
   "outputs": [
    {
     "name": "stdout",
     "output_type": "stream",
     "text": [
      "Epoch 1/50\n",
      "7/7 - 5s - loss: 80.9236 - accuracy: 0.3137 - auc_3: 0.5408 - precision_3: 0.3081 - recall_3: 0.2794 - f1_score: 0.2542 - val_loss: 215.7792 - val_accuracy: 0.4216 - val_auc_3: 0.6144 - val_precision_3: 0.4216 - val_recall_3: 0.4216 - val_f1_score: 0.1483 - 5s/epoch - 761ms/step\n",
      "Epoch 2/50\n",
      "7/7 - 3s - loss: 21.1887 - accuracy: 0.2745 - auc_3: 0.5376 - precision_3: 0.2730 - recall_3: 0.2696 - f1_score: 0.2457 - val_loss: 171.1971 - val_accuracy: 0.0588 - val_auc_3: 0.3725 - val_precision_3: 0.0588 - val_recall_3: 0.0588 - val_f1_score: 0.0278 - 3s/epoch - 482ms/step\n",
      "Epoch 3/50\n",
      "7/7 - 3s - loss: 9.3186 - accuracy: 0.3260 - auc_3: 0.5737 - precision_3: 0.3263 - recall_3: 0.3015 - f1_score: 0.2950 - val_loss: 28.4222 - val_accuracy: 0.4216 - val_auc_3: 0.6144 - val_precision_3: 0.4216 - val_recall_3: 0.4216 - val_f1_score: 0.1483 - 3s/epoch - 476ms/step\n",
      "Epoch 4/50\n",
      "7/7 - 3s - loss: 8.2074 - accuracy: 0.3284 - auc_3: 0.5954 - precision_3: 0.3342 - recall_3: 0.3064 - f1_score: 0.2772 - val_loss: 53.8746 - val_accuracy: 0.2451 - val_auc_3: 0.5096 - val_precision_3: 0.2451 - val_recall_3: 0.2451 - val_f1_score: 0.1607 - 3s/epoch - 477ms/step\n",
      "Epoch 5/50\n",
      "7/7 - 3s - loss: 5.8000 - accuracy: 0.4191 - auc_3: 0.6580 - precision_3: 0.4290 - recall_3: 0.3775 - f1_score: 0.3660 - val_loss: 37.4891 - val_accuracy: 0.0588 - val_auc_3: 0.3725 - val_precision_3: 0.0588 - val_recall_3: 0.0588 - val_f1_score: 0.0278 - 3s/epoch - 478ms/step\n",
      "Epoch 6/50\n",
      "7/7 - 3s - loss: 4.7988 - accuracy: 0.3652 - auc_3: 0.6275 - precision_3: 0.3814 - recall_3: 0.3309 - f1_score: 0.3305 - val_loss: 12.8267 - val_accuracy: 0.2157 - val_auc_3: 0.4887 - val_precision_3: 0.2200 - val_recall_3: 0.2157 - val_f1_score: 0.1238 - 3s/epoch - 478ms/step\n",
      "Epoch 7/50\n",
      "7/7 - 3s - loss: 6.3266 - accuracy: 0.3529 - auc_3: 0.6045 - precision_3: 0.3608 - recall_3: 0.3113 - f1_score: 0.3079 - val_loss: 13.1411 - val_accuracy: 0.4314 - val_auc_3: 0.6210 - val_precision_3: 0.4314 - val_recall_3: 0.4314 - val_f1_score: 0.2277 - 3s/epoch - 479ms/step\n",
      "Epoch 8/50\n",
      "7/7 - 3s - loss: 4.1870 - accuracy: 0.2941 - auc_3: 0.5599 - precision_3: 0.2740 - recall_3: 0.1887 - f1_score: 0.2731 - val_loss: 3.8606 - val_accuracy: 0.4216 - val_auc_3: 0.6716 - val_precision_3: 0.4242 - val_recall_3: 0.4118 - val_f1_score: 0.2770 - 3s/epoch - 480ms/step\n",
      "Epoch 9/50\n",
      "7/7 - 3s - loss: 3.1214 - accuracy: 0.2941 - auc_3: 0.5936 - precision_3: 0.2961 - recall_3: 0.1103 - f1_score: 0.2695 - val_loss: 19.5664 - val_accuracy: 0.0980 - val_auc_3: 0.4080 - val_precision_3: 0.0980 - val_recall_3: 0.0980 - val_f1_score: 0.0738 - 3s/epoch - 482ms/step\n",
      "Epoch 10/50\n",
      "7/7 - 3s - loss: 2.9179 - accuracy: 0.3333 - auc_3: 0.6190 - precision_3: 0.3627 - recall_3: 0.1716 - f1_score: 0.3179 - val_loss: 6.7515 - val_accuracy: 0.0784 - val_auc_3: 0.3750 - val_precision_3: 0.0814 - val_recall_3: 0.0686 - val_f1_score: 0.0578 - 3s/epoch - 477ms/step\n",
      "Epoch 11/50\n",
      "7/7 - 3s - loss: 2.5596 - accuracy: 0.3554 - auc_3: 0.6387 - precision_3: 0.4273 - recall_3: 0.1152 - f1_score: 0.3338 - val_loss: 3.7603 - val_accuracy: 0.3627 - val_auc_3: 0.6115 - val_precision_3: 0.3627 - val_recall_3: 0.3627 - val_f1_score: 0.1331 - 3s/epoch - 480ms/step\n",
      "Epoch 12/50\n",
      "7/7 - 3s - loss: 2.8379 - accuracy: 0.3824 - auc_3: 0.6311 - precision_3: 0.3827 - recall_3: 0.1520 - f1_score: 0.3398 - val_loss: 1.2818 - val_accuracy: 0.3235 - val_auc_3: 0.6312 - val_precision_3: 0.5556 - val_recall_3: 0.0490 - val_f1_score: 0.1895 - 3s/epoch - 476ms/step\n",
      "Epoch 13/50\n",
      "7/7 - 3s - loss: 3.4216 - accuracy: 0.3431 - auc_3: 0.6125 - precision_3: 0.3548 - recall_3: 0.1887 - f1_score: 0.2959 - val_loss: 1.5964 - val_accuracy: 0.4216 - val_auc_3: 0.6500 - val_precision_3: 0.4216 - val_recall_3: 0.4216 - val_f1_score: 0.1483 - 3s/epoch - 473ms/step\n",
      "Epoch 14/50\n",
      "7/7 - 3s - loss: 2.5608 - accuracy: 0.4314 - auc_3: 0.6786 - precision_3: 0.5519 - recall_3: 0.2083 - f1_score: 0.3711 - val_loss: 5.6019 - val_accuracy: 0.3824 - val_auc_3: 0.6262 - val_precision_3: 0.3824 - val_recall_3: 0.3824 - val_f1_score: 0.1594 - 3s/epoch - 479ms/step\n",
      "Epoch 15/50\n",
      "7/7 - 3s - loss: 2.7355 - accuracy: 0.3897 - auc_3: 0.6716 - precision_3: 0.4508 - recall_3: 0.1348 - f1_score: 0.3534 - val_loss: 6.5543 - val_accuracy: 0.3627 - val_auc_3: 0.6828 - val_precision_3: 0.3627 - val_recall_3: 0.3627 - val_f1_score: 0.1331 - 3s/epoch - 474ms/step\n",
      "Epoch 16/50\n",
      "7/7 - 3s - loss: 2.7983 - accuracy: 0.3309 - auc_3: 0.6653 - precision_3: 0.4154 - recall_3: 0.1324 - f1_score: 0.3156 - val_loss: 1.3932 - val_accuracy: 0.4118 - val_auc_3: 0.6945 - val_precision_3: 0.5000 - val_recall_3: 0.3333 - val_f1_score: 0.2673 - 3s/epoch - 484ms/step\n",
      "Epoch 17/50\n",
      "7/7 - 3s - loss: 2.5437 - accuracy: 0.3775 - auc_3: 0.6938 - precision_3: 0.5436 - recall_3: 0.1985 - f1_score: 0.3507 - val_loss: 13.6488 - val_accuracy: 0.4216 - val_auc_3: 0.6139 - val_precision_3: 0.4216 - val_recall_3: 0.4216 - val_f1_score: 0.1483 - 3s/epoch - 479ms/step\n",
      "Epoch 18/50\n",
      "7/7 - 3s - loss: 2.4316 - accuracy: 0.3848 - auc_3: 0.7012 - precision_3: 0.4647 - recall_3: 0.1936 - f1_score: 0.3767 - val_loss: 1.5468 - val_accuracy: 0.3824 - val_auc_3: 0.7017 - val_precision_3: 0.4043 - val_recall_3: 0.1863 - val_f1_score: 0.1792 - 3s/epoch - 479ms/step\n",
      "Epoch 19/50\n",
      "7/7 - 3s - loss: 2.7743 - accuracy: 0.3333 - auc_3: 0.6487 - precision_3: 0.4203 - recall_3: 0.1422 - f1_score: 0.3132 - val_loss: 1.8671 - val_accuracy: 0.3725 - val_auc_3: 0.6671 - val_precision_3: 0.3579 - val_recall_3: 0.3333 - val_f1_score: 0.1546 - 3s/epoch - 482ms/step\n",
      "Epoch 20/50\n",
      "7/7 - 3s - loss: 2.3283 - accuracy: 0.3578 - auc_3: 0.6969 - precision_3: 0.5170 - recall_3: 0.1863 - f1_score: 0.3560 - val_loss: 8.9290 - val_accuracy: 0.4216 - val_auc_3: 0.6158 - val_precision_3: 0.4216 - val_recall_3: 0.4216 - val_f1_score: 0.1483 - 3s/epoch - 475ms/step\n",
      "Epoch 21/50\n",
      "7/7 - 3s - loss: 2.4520 - accuracy: 0.4020 - auc_3: 0.7368 - precision_3: 0.5508 - recall_3: 0.2525 - f1_score: 0.3886 - val_loss: 3.3524 - val_accuracy: 0.3235 - val_auc_3: 0.5194 - val_precision_3: 0.3053 - val_recall_3: 0.2843 - val_f1_score: 0.2234 - 3s/epoch - 491ms/step\n",
      "Epoch 22/50\n",
      "7/7 - 3s - loss: 2.4876 - accuracy: 0.3113 - auc_3: 0.6744 - precision_3: 0.4419 - recall_3: 0.1863 - f1_score: 0.3274 - val_loss: 1.3628 - val_accuracy: 0.2255 - val_auc_3: 0.6122 - val_precision_3: 0.5714 - val_recall_3: 0.0784 - val_f1_score: 0.1657 - 3s/epoch - 481ms/step\n"
     ]
    }
   ],
   "source": [
    "X_train, X_val = full_X[train_index], full_X[val_index]\n",
    "y_train, y_val = full_y[train_index], full_y[val_index]\n",
    "body_rcnn = body_RCNN(body_features, n_length, body_outputs)\n",
    "history = train(body_rcnn, X_train, y_train, X_val, y_val, epochs=epochs, batch_size=64, class_weight=class_weight)"
   ]
  },
  {
   "cell_type": "markdown",
   "metadata": {},
   "source": [
    "### 1.2 Face modality (Action units)"
   ]
  },
  {
   "cell_type": "markdown",
   "metadata": {},
   "source": [
    "#### Apply Data Augmentation"
   ]
  },
  {
   "cell_type": "code",
   "execution_count": 26,
   "metadata": {},
   "outputs": [
    {
     "name": "stdout",
     "output_type": "stream",
     "text": [
      "(495, 1, 350, 10) (495, 4)\n",
      "(102, 1, 350, 10) (102, 4)\n"
     ]
    }
   ],
   "source": [
    "face_X_train, face_X_test, face_y_train, face_y_test, face_feature_names, c = load_dataset('processed', 'AUs')\n",
    "face_X = face_X_train.copy()\n",
    "face_y = face_y_train.copy()\n",
    "\n",
    "print(face_X_train.shape, face_y_train.shape)\n",
    "print(face_X_test.shape, face_y_test.shape)\n",
    "\n",
    "n_length, face_features, face_outputs = face_X_train.shape[2], face_X_train.shape[-1], face_y_train.shape[1]"
   ]
  },
  {
   "cell_type": "code",
   "execution_count": 27,
   "metadata": {},
   "outputs": [],
   "source": [
    "jitter_X = jitter(face_X, sigma=0.03)"
   ]
  },
  {
   "cell_type": "code",
   "execution_count": 28,
   "metadata": {},
   "outputs": [],
   "source": [
    "reshaped_X = face_X.reshape((face_X.shape[0], face_X.shape[2], face_X.shape[-1]))\n",
    "rotated_X = rotation(reshaped_X)\n",
    "rotated_X = rotated_X.reshape((rotated_X.shape[0], 1, rotated_X.shape[1], rotated_X.shape[-1]))"
   ]
  },
  {
   "cell_type": "code",
   "execution_count": 29,
   "metadata": {},
   "outputs": [
    {
     "data": {
      "text/plain": [
       "(495, 1, 350, 10)"
      ]
     },
     "execution_count": 29,
     "metadata": {},
     "output_type": "execute_result"
    }
   ],
   "source": [
    "augmented_X = np.concatenate((rotated_X[0:250], jitter_X[0:250]), axis=0)\n",
    "add_y = np.concatenate((face_y[0:250], face_y[0:250]), axis=0)\n",
    "full_X = np.concatenate((augmented_X, face_X), axis=0)\n",
    "full_y = np.concatenate((add_y, face_y), axis=0)\n",
    "full_X.shape"
   ]
  },
  {
   "cell_type": "code",
   "execution_count": 30,
   "metadata": {},
   "outputs": [
    {
     "name": "stdout",
     "output_type": "stream",
     "text": [
      "Weight for Upper Body Pain Mild Level: 0.99\n",
      "Weight for Upper Body Pain Moderate Level: 7.73\n",
      "Weight for Lower Body Pain Mild Level: 1.60\n",
      "Weight for Lower Body Pain Moderate Level: 4.19\n"
     ]
    }
   ],
   "source": [
    "umild, lmoderate, lmild, umoderate = np.sum(full_y, axis=0)\n",
    "total = umild + lmoderate + lmild + umoderate\n",
    "\n",
    "weight_for_0 = (1 / umild) * (total / 2.0)\n",
    "weight_for_1 = (1 / lmoderate) * (total / 2.0)\n",
    "weight_for_2 = (1 / lmild) * (total / 2.0)\n",
    "weight_for_3 = (1 / umoderate) * (total / 2.0)\n",
    "\n",
    "class_weight = {0: weight_for_0, 1: weight_for_1, 2: weight_for_2, 3: weight_for_3}\n",
    "\n",
    "print('Weight for Upper Body Pain Mild Level: {:.2f}'.format(weight_for_0))\n",
    "print('Weight for Upper Body Pain Moderate Level: {:.2f}'.format(weight_for_3))\n",
    "print('Weight for Lower Body Pain Mild Level: {:.2f}'.format(weight_for_2))\n",
    "print('Weight for Lower Body Pain Moderate Level: {:.2f}'.format(weight_for_1))"
   ]
  },
  {
   "cell_type": "code",
   "execution_count": 31,
   "metadata": {},
   "outputs": [],
   "source": [
    "for train_index, val_index in kf.split(full_X):\n",
    "    continue"
   ]
  },
  {
   "cell_type": "markdown",
   "metadata": {},
   "source": [
    "#### Train BiLSTM"
   ]
  },
  {
   "cell_type": "code",
   "execution_count": 32,
   "metadata": {},
   "outputs": [],
   "source": [
    "def face_biLSTM(n_features, n_length, n_outputs):\n",
    "    input = Input(shape=(1, n_length, n_features))\n",
    "    bilstm_1 = Bidirectional(ConvLSTM1D(filters=100, kernel_size=(3), activation='tanh', return_sequences=True, kernel_initializer='he_normal'))(input)\n",
    "    bilstm_2 = Bidirectional(ConvLSTM1D(filters=100, kernel_size=(3), activation='tanh', return_sequences=True, kernel_initializer='he_normal'))(bilstm_1)\n",
    "    bilstm_3 = Bidirectional(ConvLSTM1D(filters=100, kernel_size=(3), activation='tanh', kernel_initializer='he_normal'))(bilstm_2)\n",
    "    flatten = Flatten()(bilstm_3)\n",
    "    dense = Dense(100, activation='tanh')(flatten)\n",
    "    dense = Dense(100, activation='tanh')(flatten)\n",
    "    output = Dense(units=n_outputs, activation='softmax')(dense)\n",
    "    model = Model(inputs=input, outputs=output)\n",
    "    model.compile(loss='categorical_crossentropy', optimizer=tf.keras.optimizers.Adam(learning_rate=0.001), metrics=['accuracy', tf.keras.metrics.AUC(), tf.keras.metrics.Precision(), tf.keras.metrics.Recall(), tfa.metrics.F1Score(num_classes=n_outputs, average='macro')])\n",
    "    return model"
   ]
  },
  {
   "cell_type": "code",
   "execution_count": 33,
   "metadata": {},
   "outputs": [
    {
     "name": "stdout",
     "output_type": "stream",
     "text": [
      "Epoch 1/50\n",
      "13/13 - 24s - loss: 3.7930 - accuracy: 0.2702 - auc_4: 0.5162 - precision_4: 0.2576 - recall_4: 0.0859 - f1_score: 0.2432 - val_loss: 1.4804 - val_accuracy: 0.3232 - val_auc_4: 0.5805 - val_precision_4: 0.4359 - val_recall_4: 0.1717 - val_f1_score: 0.2352 - 24s/epoch - 2s/step\n",
      "Epoch 2/50\n",
      "13/13 - 11s - loss: 2.9361 - accuracy: 0.3207 - auc_4: 0.6084 - precision_4: 0.4127 - recall_4: 0.1313 - f1_score: 0.2707 - val_loss: 1.6289 - val_accuracy: 0.2525 - val_auc_4: 0.5557 - val_precision_4: 0.1667 - val_recall_4: 0.0505 - val_f1_score: 0.2237 - 11s/epoch - 869ms/step\n",
      "Epoch 3/50\n",
      "13/13 - 11s - loss: 2.7028 - accuracy: 0.2449 - auc_4: 0.5830 - precision_4: 0.3772 - recall_4: 0.1086 - f1_score: 0.2472 - val_loss: 1.4301 - val_accuracy: 0.2323 - val_auc_4: 0.5843 - val_precision_4: 0.3429 - val_recall_4: 0.1212 - val_f1_score: 0.2128 - 11s/epoch - 855ms/step\n",
      "Epoch 4/50\n",
      "13/13 - 11s - loss: 2.2874 - accuracy: 0.4268 - auc_4: 0.7311 - precision_4: 0.6396 - recall_4: 0.1793 - f1_score: 0.3743 - val_loss: 1.2237 - val_accuracy: 0.3737 - val_auc_4: 0.7269 - val_precision_4: 0.5405 - val_recall_4: 0.2020 - val_f1_score: 0.3221 - 11s/epoch - 855ms/step\n",
      "Epoch 5/50\n",
      "13/13 - 11s - loss: 2.1153 - accuracy: 0.4975 - auc_4: 0.7352 - precision_4: 0.7656 - recall_4: 0.2475 - f1_score: 0.4743 - val_loss: 1.3292 - val_accuracy: 0.3535 - val_auc_4: 0.6510 - val_precision_4: 0.4651 - val_recall_4: 0.2020 - val_f1_score: 0.3089 - 11s/epoch - 853ms/step\n",
      "Epoch 6/50\n",
      "13/13 - 11s - loss: 1.9824 - accuracy: 0.4874 - auc_4: 0.7647 - precision_4: 0.8000 - recall_4: 0.3030 - f1_score: 0.4575 - val_loss: 1.4815 - val_accuracy: 0.3030 - val_auc_4: 0.6463 - val_precision_4: 0.4894 - val_recall_4: 0.2323 - val_f1_score: 0.2739 - 11s/epoch - 855ms/step\n",
      "Epoch 7/50\n",
      "13/13 - 11s - loss: 1.8958 - accuracy: 0.4646 - auc_4: 0.7903 - precision_4: 0.7861 - recall_4: 0.3434 - f1_score: 0.4282 - val_loss: 1.3645 - val_accuracy: 0.4242 - val_auc_4: 0.7269 - val_precision_4: 0.5686 - val_recall_4: 0.2929 - val_f1_score: 0.3717 - 11s/epoch - 852ms/step\n",
      "Epoch 8/50\n",
      "13/13 - 11s - loss: 1.8581 - accuracy: 0.5657 - auc_4: 0.8301 - precision_4: 0.8066 - recall_4: 0.3687 - f1_score: 0.5487 - val_loss: 1.5364 - val_accuracy: 0.3535 - val_auc_4: 0.6387 - val_precision_4: 0.4894 - val_recall_4: 0.2323 - val_f1_score: 0.3118 - 11s/epoch - 853ms/step\n",
      "Epoch 9/50\n",
      "13/13 - 11s - loss: 1.7618 - accuracy: 0.5556 - auc_4: 0.8134 - precision_4: 0.8333 - recall_4: 0.3788 - f1_score: 0.5123 - val_loss: 1.5229 - val_accuracy: 0.4242 - val_auc_4: 0.6792 - val_precision_4: 0.5714 - val_recall_4: 0.2828 - val_f1_score: 0.3715 - 11s/epoch - 853ms/step\n",
      "Epoch 10/50\n",
      "13/13 - 11s - loss: 1.7929 - accuracy: 0.5076 - auc_4: 0.7938 - precision_4: 0.8424 - recall_4: 0.3914 - f1_score: 0.5009 - val_loss: 1.5276 - val_accuracy: 0.3535 - val_auc_4: 0.6884 - val_precision_4: 0.4737 - val_recall_4: 0.2727 - val_f1_score: 0.2762 - 11s/epoch - 854ms/step\n",
      "Epoch 11/50\n",
      "13/13 - 11s - loss: 1.7620 - accuracy: 0.5025 - auc_4: 0.8152 - precision_4: 0.8051 - recall_4: 0.3965 - f1_score: 0.5003 - val_loss: 1.5693 - val_accuracy: 0.4141 - val_auc_4: 0.6858 - val_precision_4: 0.5385 - val_recall_4: 0.2828 - val_f1_score: 0.3396 - 11s/epoch - 848ms/step\n",
      "Epoch 12/50\n",
      "13/13 - 11s - loss: 1.7408 - accuracy: 0.6136 - auc_4: 0.8618 - precision_4: 0.8454 - recall_4: 0.4141 - f1_score: 0.5674 - val_loss: 1.5705 - val_accuracy: 0.4343 - val_auc_4: 0.7212 - val_precision_4: 0.5818 - val_recall_4: 0.3232 - val_f1_score: 0.3107 - 11s/epoch - 852ms/step\n",
      "Epoch 13/50\n",
      "13/13 - 11s - loss: 1.7534 - accuracy: 0.5783 - auc_4: 0.8369 - precision_4: 0.8410 - recall_4: 0.4141 - f1_score: 0.5400 - val_loss: 1.6070 - val_accuracy: 0.3535 - val_auc_4: 0.6598 - val_precision_4: 0.5686 - val_recall_4: 0.2929 - val_f1_score: 0.3425 - 11s/epoch - 846ms/step\n",
      "Epoch 14/50\n",
      "13/13 - 11s - loss: 1.7340 - accuracy: 0.5783 - auc_4: 0.8419 - precision_4: 0.8492 - recall_4: 0.4268 - f1_score: 0.5365 - val_loss: 1.7415 - val_accuracy: 0.3838 - val_auc_4: 0.6799 - val_precision_4: 0.4912 - val_recall_4: 0.2828 - val_f1_score: 0.3396 - 11s/epoch - 849ms/step\n"
     ]
    }
   ],
   "source": [
    "X_train, X_val = full_X[train_index], full_X[val_index]\n",
    "y_train, y_val = full_y[train_index], full_y[val_index]\n",
    "face_biLSTM = face_biLSTM(face_features, n_length, face_outputs)\n",
    "history = train(face_biLSTM, X_train, y_train, X_val, y_val, epochs=epochs, batch_size=32, class_weight=class_weight)"
   ]
  },
  {
   "cell_type": "markdown",
   "metadata": {},
   "source": [
    "#### Train CNN+LSTM"
   ]
  },
  {
   "cell_type": "code",
   "execution_count": 34,
   "metadata": {},
   "outputs": [],
   "source": [
    "def face_CNN(n_features, n_length, n_outputs):\n",
    "    input = Input(shape=(1, n_length, n_features))\n",
    "    conv1d_1 = TimeDistributed(Conv1D(filters=250, kernel_size=5, activation='relu', kernel_initializer='glorot_normal'))(input)\n",
    "    conv1d_2 = TimeDistributed(Conv1D(filters=250, kernel_size=5, activation='relu', kernel_initializer='glorot_normal'))(conv1d_1)\n",
    "    maxpool_1 = TimeDistributed(MaxPooling1D(pool_size=2, data_format='channels_first'))(conv1d_2)\n",
    "    conv1d_3 = TimeDistributed(Conv1D(filters=250, kernel_size=5, activation='relu', kernel_initializer='glorot_normal'))(maxpool_1)\n",
    "    conv1d_4 = TimeDistributed(Conv1D(filters=250, kernel_size=5, activation='relu', kernel_initializer='glorot_normal'))(conv1d_3)\n",
    "    maxpool_2 = TimeDistributed(MaxPooling1D(pool_size=2, data_format='channels_first'))(conv1d_4)\n",
    "    flatten = TimeDistributed(Flatten())(maxpool_2)\n",
    "    lstm_1 = LSTM(250, return_sequences=True)(flatten)\n",
    "    lstm_2 = LSTM(250)(lstm_1)\n",
    "    dense_1 = Dense(250, activation='relu')(lstm_2)\n",
    "    dense_2 = Dense(250, activation='relu')(dense_1)\n",
    "    output = Dense(units=n_outputs, activation='softmax')(dense_2)\n",
    "    model = Model(inputs=input, outputs=output)\n",
    "    model.compile(loss='categorical_crossentropy', optimizer=tf.keras.optimizers.Adam(learning_rate=0.001), metrics=['accuracy', tf.keras.metrics.AUC(), tf.keras.metrics.Precision(), tf.keras.metrics.Recall(), tfa.metrics.F1Score(num_classes=n_outputs, average='macro')])\n",
    "    return model"
   ]
  },
  {
   "cell_type": "code",
   "execution_count": 35,
   "metadata": {},
   "outputs": [
    {
     "name": "stdout",
     "output_type": "stream",
     "text": [
      "Epoch 1/50\n",
      "4/4 - 8s - loss: 2.7594 - accuracy: 0.3384 - auc_5: 0.5600 - precision_5: 0.0000e+00 - recall_5: 0.0000e+00 - f1_score: 0.2445 - val_loss: 1.3813 - val_accuracy: 0.2929 - val_auc_5: 0.5795 - val_precision_5: 0.0000e+00 - val_recall_5: 0.0000e+00 - val_f1_score: 0.1550 - 8s/epoch - 2s/step\n",
      "Epoch 2/50\n",
      "4/4 - 4s - loss: 2.7557 - accuracy: 0.1540 - auc_5: 0.5025 - precision_5: 0.0000e+00 - recall_5: 0.0000e+00 - f1_score: 0.1033 - val_loss: 1.3477 - val_accuracy: 0.3737 - val_auc_5: 0.5907 - val_precision_5: 0.0000e+00 - val_recall_5: 0.0000e+00 - val_f1_score: 0.1827 - 4s/epoch - 938ms/step\n",
      "Epoch 3/50\n",
      "4/4 - 4s - loss: 2.7543 - accuracy: 0.3157 - auc_5: 0.5742 - precision_5: 0.0000e+00 - recall_5: 0.0000e+00 - f1_score: 0.1910 - val_loss: 1.3275 - val_accuracy: 0.4242 - val_auc_5: 0.6585 - val_precision_5: 0.0000e+00 - val_recall_5: 0.0000e+00 - val_f1_score: 0.2238 - 4s/epoch - 942ms/step\n",
      "Epoch 4/50\n",
      "4/4 - 4s - loss: 2.7605 - accuracy: 0.3561 - auc_5: 0.6639 - precision_5: 0.0000e+00 - recall_5: 0.0000e+00 - f1_score: 0.1970 - val_loss: 1.3004 - val_accuracy: 0.5253 - val_auc_5: 0.7367 - val_precision_5: 0.0000e+00 - val_recall_5: 0.0000e+00 - val_f1_score: 0.1722 - 4s/epoch - 944ms/step\n",
      "Epoch 5/50\n",
      "4/4 - 4s - loss: 2.7339 - accuracy: 0.5000 - auc_5: 0.7329 - precision_5: 0.0000e+00 - recall_5: 0.0000e+00 - f1_score: 0.1840 - val_loss: 1.3128 - val_accuracy: 0.3333 - val_auc_5: 0.6937 - val_precision_5: 0.0000e+00 - val_recall_5: 0.0000e+00 - val_f1_score: 0.2328 - 4s/epoch - 944ms/step\n",
      "Epoch 6/50\n",
      "4/4 - 4s - loss: 2.7619 - accuracy: 0.3308 - auc_5: 0.6553 - precision_5: 0.0000e+00 - recall_5: 0.0000e+00 - f1_score: 0.2263 - val_loss: 1.3785 - val_accuracy: 0.1414 - val_auc_5: 0.4954 - val_precision_5: 0.0000e+00 - val_recall_5: 0.0000e+00 - val_f1_score: 0.0958 - 4s/epoch - 943ms/step\n",
      "Epoch 7/50\n",
      "4/4 - 4s - loss: 2.6989 - accuracy: 0.1263 - auc_5: 0.5342 - precision_5: 0.0000e+00 - recall_5: 0.0000e+00 - f1_score: 0.0940 - val_loss: 1.3820 - val_accuracy: 0.1414 - val_auc_5: 0.5265 - val_precision_5: 0.0000e+00 - val_recall_5: 0.0000e+00 - val_f1_score: 0.0901 - 4s/epoch - 963ms/step\n",
      "Epoch 8/50\n",
      "4/4 - 4s - loss: 2.6525 - accuracy: 0.1389 - auc_5: 0.5656 - precision_5: 0.2500 - recall_5: 0.0025 - f1_score: 0.1170 - val_loss: 1.3470 - val_accuracy: 0.2727 - val_auc_5: 0.5781 - val_precision_5: 0.0000e+00 - val_recall_5: 0.0000e+00 - val_f1_score: 0.1947 - 4s/epoch - 948ms/step\n",
      "Epoch 9/50\n",
      "4/4 - 4s - loss: 2.5771 - accuracy: 0.2677 - auc_5: 0.6130 - precision_5: 0.4545 - recall_5: 0.0126 - f1_score: 0.2426 - val_loss: 1.3530 - val_accuracy: 0.2323 - val_auc_5: 0.5426 - val_precision_5: 0.0000e+00 - val_recall_5: 0.0000e+00 - val_f1_score: 0.2078 - 4s/epoch - 946ms/step\n",
      "Epoch 10/50\n",
      "4/4 - 4s - loss: 2.5128 - accuracy: 0.2475 - auc_5: 0.5858 - precision_5: 0.6667 - recall_5: 0.0152 - f1_score: 0.2604 - val_loss: 1.3433 - val_accuracy: 0.2222 - val_auc_5: 0.5735 - val_precision_5: 0.0000e+00 - val_recall_5: 0.0000e+00 - val_f1_score: 0.1968 - 4s/epoch - 941ms/step\n",
      "Epoch 11/50\n",
      "4/4 - 4s - loss: 2.4168 - accuracy: 0.3510 - auc_5: 0.6771 - precision_5: 0.7059 - recall_5: 0.0303 - f1_score: 0.3375 - val_loss: 1.3018 - val_accuracy: 0.3333 - val_auc_5: 0.6539 - val_precision_5: 0.6316 - val_recall_5: 0.1212 - val_f1_score: 0.2351 - 4s/epoch - 941ms/step\n",
      "Epoch 12/50\n",
      "4/4 - 4s - loss: 2.3611 - accuracy: 0.4318 - auc_5: 0.7539 - precision_5: 0.6543 - recall_5: 0.1338 - f1_score: 0.3732 - val_loss: 1.3290 - val_accuracy: 0.3131 - val_auc_5: 0.6454 - val_precision_5: 0.3333 - val_recall_5: 0.0606 - val_f1_score: 0.2662 - 4s/epoch - 942ms/step\n",
      "Epoch 13/50\n",
      "4/4 - 4s - loss: 2.2786 - accuracy: 0.4091 - auc_5: 0.7193 - precision_5: 0.4773 - recall_5: 0.1061 - f1_score: 0.3766 - val_loss: 1.3810 - val_accuracy: 0.3131 - val_auc_5: 0.6631 - val_precision_5: 0.2973 - val_recall_5: 0.1111 - val_f1_score: 0.2521 - 4s/epoch - 944ms/step\n",
      "Epoch 14/50\n",
      "4/4 - 4s - loss: 2.3696 - accuracy: 0.4419 - auc_5: 0.7485 - precision_5: 0.5195 - recall_5: 0.2020 - f1_score: 0.3921 - val_loss: 1.4460 - val_accuracy: 0.3232 - val_auc_5: 0.6300 - val_precision_5: 0.3846 - val_recall_5: 0.2020 - val_f1_score: 0.2549 - 4s/epoch - 943ms/step\n"
     ]
    }
   ],
   "source": [
    "X_train, X_val = full_X[train_index], full_X[val_index]\n",
    "y_train, y_val = full_y[train_index], full_y[val_index]\n",
    "face_cnn = face_CNN(face_features, n_length, face_outputs)\n",
    "history = train(face_cnn, X_train, y_train, X_val, y_val, epochs=epochs, batch_size=128, class_weight=class_weight)"
   ]
  },
  {
   "cell_type": "markdown",
   "metadata": {},
   "source": [
    "#### Train ConvLSTM"
   ]
  },
  {
   "cell_type": "code",
   "execution_count": 36,
   "metadata": {},
   "outputs": [],
   "source": [
    "def face_convLSTM(n_features, n_length, n_outputs):\n",
    "    input = Input(shape=(1, n_length, n_features))\n",
    "    convlstm_1 = ConvLSTM1D(filters=250, kernel_size=(5), activation='relu', return_sequences=True, kernel_initializer='he_uniform')(input)\n",
    "    convlstm_2 = ConvLSTM1D(filters=250, kernel_size=(5), activation='relu', kernel_initializer='he_uniform')(convlstm_1)\n",
    "    flatten = Flatten()(convlstm_2)\n",
    "    dense_1 = Dense(250, activation='relu')(flatten)\n",
    "    dense_2 = Dense(250, activation='relu')(dense_1)\n",
    "    output = Dense(units=n_outputs, activation='softmax')(dense_2)\n",
    "    model = Model(inputs=input, outputs=output)\n",
    "    model.compile(loss='categorical_crossentropy', optimizer=tf.keras.optimizers.RMSprop(learning_rate=0.0001), metrics=['accuracy', tf.keras.metrics.AUC(), tf.keras.metrics.Precision(), tf.keras.metrics.Recall(), tfa.metrics.F1Score(num_classes=n_outputs, average='macro')])\n",
    "    return model"
   ]
  },
  {
   "cell_type": "code",
   "execution_count": 37,
   "metadata": {},
   "outputs": [
    {
     "name": "stdout",
     "output_type": "stream",
     "text": [
      "Epoch 1/50\n",
      "7/7 - 18s - loss: 2.8416 - accuracy: 0.2929 - auc_6: 0.5818 - precision_6: 0.5000 - recall_6: 0.0076 - f1_score: 0.2281 - val_loss: 1.3104 - val_accuracy: 0.3030 - val_auc_6: 0.6792 - val_precision_6: 0.2000 - val_recall_6: 0.0101 - val_f1_score: 0.1521 - 18s/epoch - 3s/step\n",
      "Epoch 2/50\n",
      "7/7 - 14s - loss: 2.7070 - accuracy: 0.3485 - auc_6: 0.6753 - precision_6: 0.5000 - recall_6: 0.0101 - f1_score: 0.2503 - val_loss: 1.3337 - val_accuracy: 0.2424 - val_auc_6: 0.6433 - val_precision_6: 0.3333 - val_recall_6: 0.0303 - val_f1_score: 0.1297 - 14s/epoch - 2s/step\n",
      "Epoch 3/50\n",
      "7/7 - 14s - loss: 2.6173 - accuracy: 0.3384 - auc_6: 0.6831 - precision_6: 0.6154 - recall_6: 0.0202 - f1_score: 0.2937 - val_loss: 1.3845 - val_accuracy: 0.2424 - val_auc_6: 0.5620 - val_precision_6: 0.2667 - val_recall_6: 0.0404 - val_f1_score: 0.1809 - 14s/epoch - 2s/step\n",
      "Epoch 4/50\n",
      "7/7 - 14s - loss: 2.4998 - accuracy: 0.3687 - auc_6: 0.6834 - precision_6: 0.7273 - recall_6: 0.0606 - f1_score: 0.3104 - val_loss: 1.3213 - val_accuracy: 0.3131 - val_auc_6: 0.6403 - val_precision_6: 0.4444 - val_recall_6: 0.1616 - val_f1_score: 0.2263 - 14s/epoch - 2s/step\n",
      "Epoch 5/50\n",
      "7/7 - 14s - loss: 2.4292 - accuracy: 0.4470 - auc_6: 0.7286 - precision_6: 0.6154 - recall_6: 0.1010 - f1_score: 0.3927 - val_loss: 1.2442 - val_accuracy: 0.3939 - val_auc_6: 0.6875 - val_precision_6: 0.4783 - val_recall_6: 0.1111 - val_f1_score: 0.2718 - 14s/epoch - 2s/step\n",
      "Epoch 6/50\n",
      "7/7 - 14s - loss: 2.3442 - accuracy: 0.4798 - auc_6: 0.7526 - precision_6: 0.7013 - recall_6: 0.1364 - f1_score: 0.4084 - val_loss: 1.4487 - val_accuracy: 0.3131 - val_auc_6: 0.6093 - val_precision_6: 0.4211 - val_recall_6: 0.1616 - val_f1_score: 0.2146 - 14s/epoch - 2s/step\n",
      "Epoch 7/50\n",
      "7/7 - 14s - loss: 2.3028 - accuracy: 0.4773 - auc_6: 0.7456 - precision_6: 0.6200 - recall_6: 0.1566 - f1_score: 0.4206 - val_loss: 1.3168 - val_accuracy: 0.3232 - val_auc_6: 0.6614 - val_precision_6: 0.5135 - val_recall_6: 0.1919 - val_f1_score: 0.2484 - 14s/epoch - 2s/step\n",
      "Epoch 8/50\n",
      "7/7 - 14s - loss: 2.2236 - accuracy: 0.4924 - auc_6: 0.7665 - precision_6: 0.7414 - recall_6: 0.2172 - f1_score: 0.4357 - val_loss: 1.3228 - val_accuracy: 0.3232 - val_auc_6: 0.6534 - val_precision_6: 0.4857 - val_recall_6: 0.1717 - val_f1_score: 0.2493 - 14s/epoch - 2s/step\n",
      "Epoch 9/50\n",
      "7/7 - 14s - loss: 2.1120 - accuracy: 0.5177 - auc_6: 0.8045 - precision_6: 0.7869 - recall_6: 0.2424 - f1_score: 0.4754 - val_loss: 1.8629 - val_accuracy: 0.2222 - val_auc_6: 0.4865 - val_precision_6: 0.2766 - val_recall_6: 0.1313 - val_f1_score: 0.2087 - 14s/epoch - 2s/step\n",
      "Epoch 10/50\n",
      "7/7 - 14s - loss: 2.1765 - accuracy: 0.4596 - auc_6: 0.7705 - precision_6: 0.6565 - recall_6: 0.2172 - f1_score: 0.4079 - val_loss: 1.4016 - val_accuracy: 0.3131 - val_auc_6: 0.6245 - val_precision_6: 0.4688 - val_recall_6: 0.1515 - val_f1_score: 0.2696 - 14s/epoch - 2s/step\n",
      "Epoch 11/50\n",
      "7/7 - 14s - loss: 2.0489 - accuracy: 0.5530 - auc_6: 0.7973 - precision_6: 0.7591 - recall_6: 0.2626 - f1_score: 0.5120 - val_loss: 1.3530 - val_accuracy: 0.4040 - val_auc_6: 0.6978 - val_precision_6: 0.6000 - val_recall_6: 0.2121 - val_f1_score: 0.3304 - 14s/epoch - 2s/step\n",
      "Epoch 12/50\n",
      "7/7 - 14s - loss: 1.9543 - accuracy: 0.5909 - auc_6: 0.8326 - precision_6: 0.8378 - recall_6: 0.3131 - f1_score: 0.5581 - val_loss: 1.5368 - val_accuracy: 0.3232 - val_auc_6: 0.6188 - val_precision_6: 0.4444 - val_recall_6: 0.2020 - val_f1_score: 0.2566 - 14s/epoch - 2s/step\n",
      "Epoch 13/50\n",
      "7/7 - 14s - loss: 1.9688 - accuracy: 0.5556 - auc_6: 0.8157 - precision_6: 0.7580 - recall_6: 0.3005 - f1_score: 0.5250 - val_loss: 1.3522 - val_accuracy: 0.4040 - val_auc_6: 0.7075 - val_precision_6: 0.5349 - val_recall_6: 0.2323 - val_f1_score: 0.3419 - 14s/epoch - 2s/step\n",
      "Epoch 14/50\n",
      "7/7 - 14s - loss: 1.8919 - accuracy: 0.5934 - auc_6: 0.8197 - precision_6: 0.8000 - recall_6: 0.3232 - f1_score: 0.5587 - val_loss: 1.7082 - val_accuracy: 0.3232 - val_auc_6: 0.6480 - val_precision_6: 0.3966 - val_recall_6: 0.2323 - val_f1_score: 0.2136 - 14s/epoch - 2s/step\n",
      "Epoch 15/50\n",
      "7/7 - 14s - loss: 2.0446 - accuracy: 0.5556 - auc_6: 0.7898 - precision_6: 0.7341 - recall_6: 0.3207 - f1_score: 0.4808 - val_loss: 1.3139 - val_accuracy: 0.4545 - val_auc_6: 0.7311 - val_precision_6: 0.5600 - val_recall_6: 0.2828 - val_f1_score: 0.2796 - 14s/epoch - 2s/step\n"
     ]
    }
   ],
   "source": [
    "X_train, X_val = full_X[train_index], full_X[val_index]\n",
    "y_train, y_val = full_y[train_index], full_y[val_index]\n",
    "face_convlstm = face_convLSTM(face_features, n_length, face_outputs)\n",
    "history = train(face_convlstm, X_train, y_train, X_val, y_val, epochs=epochs, batch_size=64, class_weight=class_weight)"
   ]
  },
  {
   "cell_type": "markdown",
   "metadata": {},
   "source": [
    "#### Train RCNN"
   ]
  },
  {
   "cell_type": "code",
   "execution_count": 38,
   "metadata": {},
   "outputs": [],
   "source": [
    "def face_RCNN(n_features, n_length, n_outputs):\n",
    "   input = Input(shape=(1, n_length, n_features))\n",
    "   conv1d_1 = TimeDistributed(Conv1D(filters=250, kernel_size=5, activation=PReLU(alpha_initializer=Constant(value=0.25)), kernel_initializer='he_normal'))(input)\n",
    "   bn_1 = TimeDistributed(BatchNormalization())(conv1d_1)\n",
    "   maxpool_1 = TimeDistributed(MaxPooling1D(pool_size=2, data_format='channels_first'))(bn_1)\n",
    "   conv1d_2 = TimeDistributed(Conv1D(filters=250, kernel_size=5, activation=PReLU(alpha_initializer=Constant(value=0.25)), kernel_initializer='he_normal'))(maxpool_1)\n",
    "   bn_2 = TimeDistributed(BatchNormalization())(conv1d_2)\n",
    "   maxpool_2 = TimeDistributed(MaxPooling1D(pool_size=2, data_format='channels_first'))(bn_2)\n",
    "   flatten = Flatten()(maxpool_2)\n",
    "   dense_1 = Dense(256, activation='tanh')(flatten)\n",
    "   dense_2 = Dense(256, activation='tanh')(dense_1)\n",
    "   output = Dense(units=n_outputs, activation='softmax')(dense_2)\n",
    "   model = Model(inputs=input, outputs=output)\n",
    "   model.compile(loss='categorical_crossentropy', optimizer=tf.keras.optimizers.RMSprop(learning_rate=0.0001), metrics=['accuracy', tf.keras.metrics.AUC(), tf.keras.metrics.Precision(), tf.keras.metrics.Recall(), tfa.metrics.F1Score(num_classes=n_outputs, average='macro')])\n",
    "   return model"
   ]
  },
  {
   "cell_type": "code",
   "execution_count": 39,
   "metadata": {},
   "outputs": [
    {
     "name": "stdout",
     "output_type": "stream",
     "text": [
      "Epoch 1/50\n",
      "2/2 - 5s - loss: 5.1975 - accuracy: 0.2702 - auc_7: 0.4829 - precision_7: 0.2438 - recall_7: 0.1237 - f1_score: 0.2027 - val_loss: 1.5436 - val_accuracy: 0.4141 - val_auc_7: 0.6426 - val_precision_7: 0.5000 - val_recall_7: 0.2626 - val_f1_score: 0.2409 - 5s/epoch - 2s/step\n",
      "Epoch 2/50\n",
      "2/2 - 3s - loss: 5.7187 - accuracy: 0.2500 - auc_7: 0.4762 - precision_7: 0.2349 - recall_7: 0.1970 - f1_score: 0.2311 - val_loss: 1.3333 - val_accuracy: 0.3131 - val_auc_7: 0.6675 - val_precision_7: 0.2727 - val_recall_7: 0.0303 - val_f1_score: 0.2411 - 3s/epoch - 1s/step\n",
      "Epoch 3/50\n",
      "2/2 - 3s - loss: 3.9639 - accuracy: 0.4040 - auc_7: 0.5642 - precision_7: 0.4028 - recall_7: 0.2146 - f1_score: 0.3143 - val_loss: 1.3573 - val_accuracy: 0.4141 - val_auc_7: 0.6160 - val_precision_7: 0.5882 - val_recall_7: 0.1010 - val_f1_score: 0.2375 - 3s/epoch - 1s/step\n",
      "Epoch 4/50\n",
      "2/2 - 3s - loss: 3.1503 - accuracy: 0.4520 - auc_7: 0.5807 - precision_7: 0.5743 - recall_7: 0.1465 - f1_score: 0.3946 - val_loss: 1.3866 - val_accuracy: 0.4141 - val_auc_7: 0.6103 - val_precision_7: 0.2857 - val_recall_7: 0.0202 - val_f1_score: 0.2207 - 3s/epoch - 1s/step\n",
      "Epoch 5/50\n",
      "2/2 - 3s - loss: 2.6901 - accuracy: 0.3510 - auc_7: 0.5634 - precision_7: 0.5769 - recall_7: 0.1515 - f1_score: 0.3475 - val_loss: 1.4133 - val_accuracy: 0.3838 - val_auc_7: 0.5987 - val_precision_7: 0.5000 - val_recall_7: 0.0303 - val_f1_score: 0.2688 - 3s/epoch - 1s/step\n",
      "Epoch 6/50\n",
      "2/2 - 3s - loss: 2.2976 - accuracy: 0.3611 - auc_7: 0.6216 - precision_7: 0.7349 - recall_7: 0.1540 - f1_score: 0.3677 - val_loss: 1.3800 - val_accuracy: 0.4141 - val_auc_7: 0.6430 - val_precision_7: 0.4906 - val_recall_7: 0.2626 - val_f1_score: 0.2207 - 3s/epoch - 1s/step\n",
      "Epoch 7/50\n",
      "2/2 - 3s - loss: 2.1326 - accuracy: 0.4318 - auc_7: 0.7446 - precision_7: 0.8000 - recall_7: 0.2323 - f1_score: 0.4263 - val_loss: 1.3845 - val_accuracy: 0.4040 - val_auc_7: 0.6589 - val_precision_7: 0.5345 - val_recall_7: 0.3131 - val_f1_score: 0.2162 - 3s/epoch - 1s/step\n",
      "Epoch 8/50\n",
      "2/2 - 3s - loss: 2.0769 - accuracy: 0.4571 - auc_7: 0.7701 - precision_7: 0.8560 - recall_7: 0.2702 - f1_score: 0.4195 - val_loss: 1.4048 - val_accuracy: 0.3737 - val_auc_7: 0.6572 - val_precision_7: 0.5238 - val_recall_7: 0.2222 - val_f1_score: 0.2066 - 3s/epoch - 1s/step\n",
      "Epoch 9/50\n",
      "2/2 - 3s - loss: 1.9958 - accuracy: 0.5051 - auc_7: 0.8136 - precision_7: 0.8531 - recall_7: 0.3081 - f1_score: 0.4825 - val_loss: 1.4247 - val_accuracy: 0.3636 - val_auc_7: 0.6441 - val_precision_7: 0.5000 - val_recall_7: 0.1414 - val_f1_score: 0.2440 - 3s/epoch - 2s/step\n",
      "Epoch 10/50\n",
      "2/2 - 3s - loss: 1.9272 - accuracy: 0.4697 - auc_7: 0.8133 - precision_7: 0.8526 - recall_7: 0.3359 - f1_score: 0.4822 - val_loss: 1.4512 - val_accuracy: 0.3434 - val_auc_7: 0.6363 - val_precision_7: 0.4194 - val_recall_7: 0.1313 - val_f1_score: 0.2500 - 3s/epoch - 2s/step\n",
      "Epoch 11/50\n",
      "2/2 - 3s - loss: 1.9058 - accuracy: 0.5177 - auc_7: 0.8310 - precision_7: 0.8365 - recall_7: 0.3359 - f1_score: 0.4874 - val_loss: 1.4742 - val_accuracy: 0.3737 - val_auc_7: 0.6532 - val_precision_7: 0.5217 - val_recall_7: 0.2424 - val_f1_score: 0.2317 - 3s/epoch - 1s/step\n",
      "Epoch 12/50\n",
      "2/2 - 3s - loss: 1.8706 - accuracy: 0.4646 - auc_7: 0.8113 - precision_7: 0.8841 - recall_7: 0.3662 - f1_score: 0.4742 - val_loss: 1.4978 - val_accuracy: 0.4242 - val_auc_7: 0.6373 - val_precision_7: 0.5854 - val_recall_7: 0.2424 - val_f1_score: 0.2831 - 3s/epoch - 2s/step\n"
     ]
    }
   ],
   "source": [
    "X_train, X_val = full_X[train_index], full_X[val_index]\n",
    "y_train, y_val = full_y[train_index], full_y[val_index]\n",
    "face_rcnn = face_RCNN(face_features, n_length, face_outputs)\n",
    "history = train(face_rcnn, X_train, y_train, X_val, y_val, epochs=epochs, batch_size=256, class_weight=class_weight)"
   ]
  },
  {
   "cell_type": "markdown",
   "metadata": {},
   "source": [
    "## 2. Early Fusion - Fusion is performed at feature level\n",
    "\n",
    "Early fusion concatenates features at the input level, then all the work is on the classifier. \n",
    "\n",
    "My initial assumption is that perhaps early fusion is not the best idea because the face modality is missing about half the times (OpenFace could not capture facial action units from the videos), which makes the dataset smaller. \n",
    "I did not replace the missing facial values because I thought null values will bring no benefit (I assume?) and adding for example zero would mean the absence of action units which I'm afraid might actually \"trick\" the model in the case where a person has pain and the facial modality was not available because of technical issues, not because of an actual lack of pain."
   ]
  },
  {
   "cell_type": "markdown",
   "metadata": {},
   "source": [
    "### About the data"
   ]
  },
  {
   "cell_type": "code",
   "execution_count": 40,
   "metadata": {},
   "outputs": [
    {
     "name": "stdout",
     "output_type": "stream",
     "text": [
      "(495, 1, 350, 48) (495, 4)\n",
      "(102, 1, 350, 48) (102, 4)\n"
     ]
    }
   ],
   "source": [
    "early_X_train, early_X_test, early_y_train, early_y_test = load_earlyfusion_dataset('processed')\n",
    "early_X = early_X_train.copy()\n",
    "early_y = early_y_train.copy()\n",
    "\n",
    "print(early_X_train.shape, early_y_train.shape)\n",
    "print(early_X_test.shape, early_y_test.shape)\n",
    "\n",
    "n_length, early_features, early_outputs = early_X_train.shape[2], early_X_train.shape[-1], early_y_train.shape[1]"
   ]
  },
  {
   "cell_type": "code",
   "execution_count": 41,
   "metadata": {},
   "outputs": [],
   "source": [
    "jitter_X = jitter(early_X, sigma=0.03)"
   ]
  },
  {
   "cell_type": "code",
   "execution_count": 42,
   "metadata": {},
   "outputs": [],
   "source": [
    "reshaped_X = early_X.reshape((early_X.shape[0], early_X.shape[2], early_X.shape[-1]))\n",
    "rotated_X = rotation(reshaped_X)\n",
    "rotated_X = rotated_X.reshape((rotated_X.shape[0], 1, rotated_X.shape[1], rotated_X.shape[-1]))"
   ]
  },
  {
   "cell_type": "code",
   "execution_count": 43,
   "metadata": {},
   "outputs": [
    {
     "data": {
      "text/plain": [
       "(495, 1, 350, 48)"
      ]
     },
     "execution_count": 43,
     "metadata": {},
     "output_type": "execute_result"
    }
   ],
   "source": [
    "augmented_X = np.concatenate((rotated_X[0:250], jitter_X[0:250]), axis=0)\n",
    "add_y = np.concatenate((early_y[0:250], early_y[0:250]), axis=0)\n",
    "full_X = np.concatenate((augmented_X, early_X), axis=0)\n",
    "full_y = np.concatenate((add_y, early_y), axis=0)\n",
    "full_X.shape"
   ]
  },
  {
   "cell_type": "code",
   "execution_count": 44,
   "metadata": {},
   "outputs": [
    {
     "name": "stdout",
     "output_type": "stream",
     "text": [
      "Weight for Upper Body Pain Mild Level: 0.99\n",
      "Weight for Upper Body Pain Moderate Level: 7.73\n",
      "Weight for Lower Body Pain Mild Level: 1.60\n",
      "Weight for Lower Body Pain Moderate Level: 4.19\n"
     ]
    }
   ],
   "source": [
    "umild, lmoderate, lmild, umoderate = np.sum(early_y, axis=0)\n",
    "total = umild + lmoderate + lmild + umoderate\n",
    "\n",
    "weight_for_0 = (1 / umild) * (total / 2.0)\n",
    "weight_for_1 = (1 / lmoderate) * (total / 2.0)\n",
    "weight_for_2 = (1 / lmild) * (total / 2.0)\n",
    "weight_for_3 = (1 / umoderate) * (total / 2.0)\n",
    "\n",
    "class_weight = {0: weight_for_0, 1: weight_for_1, 2: weight_for_2, 3: weight_for_3}\n",
    "\n",
    "print('Weight for Upper Body Pain Mild Level: {:.2f}'.format(weight_for_0))\n",
    "print('Weight for Upper Body Pain Moderate Level: {:.2f}'.format(weight_for_3))\n",
    "print('Weight for Lower Body Pain Mild Level: {:.2f}'.format(weight_for_2))\n",
    "print('Weight for Lower Body Pain Moderate Level: {:.2f}'.format(weight_for_1))"
   ]
  },
  {
   "cell_type": "code",
   "execution_count": 45,
   "metadata": {},
   "outputs": [],
   "source": [
    "for train_index, val_index in kf.split(full_X):\n",
    "    continue"
   ]
  },
  {
   "cell_type": "markdown",
   "metadata": {},
   "source": [
    "### Train BiLSTM (with early fusion)"
   ]
  },
  {
   "cell_type": "code",
   "execution_count": 46,
   "metadata": {},
   "outputs": [],
   "source": [
    "def early_biLSTM(n_features, n_length, n_outputs):\n",
    "    input = Input(shape=(1, n_length, n_features))\n",
    "    bilstm_1 = Bidirectional(ConvLSTM1D(filters=100, kernel_size=(3), activation='relu', return_sequences=True, kernel_initializer='glorot_normal'))(input)\n",
    "    bilstm_2 = Bidirectional(ConvLSTM1D(filters=100, kernel_size=(3), activation='relu', return_sequences=True, kernel_initializer='glorot_normal'))(bilstm_1)\n",
    "    bilstm_3 = Bidirectional(ConvLSTM1D(filters=100, kernel_size=(3), activation='relu', kernel_initializer='glorot_normal'))(bilstm_2)\n",
    "    flatten = Flatten()(bilstm_3)\n",
    "    dense = Dense(100, activation='relu')(flatten)\n",
    "    dense = Dense(100, activation='relu')(flatten)\n",
    "    output = Dense(units=n_outputs, activation='softmax')(dense)\n",
    "    model = Model(inputs=input, outputs=output)\n",
    "    model.compile(loss='categorical_crossentropy', optimizer=tf.keras.optimizers.RMSprop(learning_rate=0.0001), metrics=['accuracy', tf.keras.metrics.AUC(), tf.keras.metrics.Precision(), tf.keras.metrics.Recall(), tfa.metrics.F1Score(num_classes=n_outputs, average='macro')])\n",
    "    return model"
   ]
  },
  {
   "cell_type": "code",
   "execution_count": 47,
   "metadata": {},
   "outputs": [
    {
     "name": "stdout",
     "output_type": "stream",
     "text": [
      "Epoch 1/50\n",
      "7/7 - 25s - loss: 22.7472 - accuracy: 0.2753 - auc_8: 0.5077 - precision_8: 0.2595 - recall_8: 0.2424 - f1_score: 0.2454 - val_loss: 2.3256 - val_accuracy: 0.2121 - val_auc_8: 0.6297 - val_precision_8: 0.2088 - val_recall_8: 0.1919 - val_f1_score: 0.1656 - 25s/epoch - 4s/step\n",
      "Epoch 2/50\n",
      "7/7 - 11s - loss: 4.8231 - accuracy: 0.3359 - auc_8: 0.6149 - precision_8: 0.3260 - recall_8: 0.2626 - f1_score: 0.3091 - val_loss: 1.9159 - val_accuracy: 0.2424 - val_auc_8: 0.6134 - val_precision_8: 0.2703 - val_recall_8: 0.2020 - val_f1_score: 0.1729 - 11s/epoch - 2s/step\n",
      "Epoch 3/50\n",
      "7/7 - 11s - loss: 2.8630 - accuracy: 0.4040 - auc_8: 0.7000 - precision_8: 0.4106 - recall_8: 0.2551 - f1_score: 0.3696 - val_loss: 1.5425 - val_accuracy: 0.3535 - val_auc_8: 0.6032 - val_precision_8: 0.3208 - val_recall_8: 0.1717 - val_f1_score: 0.2786 - 11s/epoch - 2s/step\n",
      "Epoch 4/50\n",
      "7/7 - 11s - loss: 2.5951 - accuracy: 0.4091 - auc_8: 0.7067 - precision_8: 0.4349 - recall_8: 0.2955 - f1_score: 0.3775 - val_loss: 1.6648 - val_accuracy: 0.4545 - val_auc_8: 0.7198 - val_precision_8: 0.4762 - val_recall_8: 0.4040 - val_f1_score: 0.2535 - 11s/epoch - 2s/step\n",
      "Epoch 5/50\n",
      "7/7 - 11s - loss: 3.1098 - accuracy: 0.4040 - auc_8: 0.6921 - precision_8: 0.4126 - recall_8: 0.2803 - f1_score: 0.3618 - val_loss: 1.7190 - val_accuracy: 0.3838 - val_auc_8: 0.6377 - val_precision_8: 0.2698 - val_recall_8: 0.1717 - val_f1_score: 0.3062 - 11s/epoch - 2s/step\n",
      "Epoch 6/50\n",
      "7/7 - 11s - loss: 2.4664 - accuracy: 0.4672 - auc_8: 0.7394 - precision_8: 0.4664 - recall_8: 0.2803 - f1_score: 0.4300 - val_loss: 1.6774 - val_accuracy: 0.3232 - val_auc_8: 0.6484 - val_precision_8: 0.3026 - val_recall_8: 0.2323 - val_f1_score: 0.2427 - 11s/epoch - 2s/step\n",
      "Epoch 7/50\n",
      "7/7 - 11s - loss: 2.0148 - accuracy: 0.4899 - auc_8: 0.7981 - precision_8: 0.5318 - recall_8: 0.3586 - f1_score: 0.4748 - val_loss: 1.6552 - val_accuracy: 0.3535 - val_auc_8: 0.6859 - val_precision_8: 0.3766 - val_recall_8: 0.2929 - val_f1_score: 0.2548 - 11s/epoch - 2s/step\n",
      "Epoch 8/50\n",
      "7/7 - 11s - loss: 2.1998 - accuracy: 0.5480 - auc_8: 0.8034 - precision_8: 0.6102 - recall_8: 0.3914 - f1_score: 0.5031 - val_loss: 2.0913 - val_accuracy: 0.3131 - val_auc_8: 0.5653 - val_precision_8: 0.2468 - val_recall_8: 0.1919 - val_f1_score: 0.2783 - 11s/epoch - 2s/step\n",
      "Epoch 9/50\n",
      "7/7 - 11s - loss: 1.9981 - accuracy: 0.5354 - auc_8: 0.7955 - precision_8: 0.5860 - recall_8: 0.4217 - f1_score: 0.5025 - val_loss: 1.6861 - val_accuracy: 0.3535 - val_auc_8: 0.6557 - val_precision_8: 0.3226 - val_recall_8: 0.2020 - val_f1_score: 0.2752 - 11s/epoch - 2s/step\n",
      "Epoch 10/50\n",
      "7/7 - 11s - loss: 1.6480 - accuracy: 0.5581 - auc_8: 0.8313 - precision_8: 0.6190 - recall_8: 0.4596 - f1_score: 0.5411 - val_loss: 1.6052 - val_accuracy: 0.4040 - val_auc_8: 0.6802 - val_precision_8: 0.3867 - val_recall_8: 0.2929 - val_f1_score: 0.3347 - 11s/epoch - 2s/step\n",
      "Epoch 11/50\n",
      "7/7 - 11s - loss: 1.6933 - accuracy: 0.6162 - auc_8: 0.8598 - precision_8: 0.6500 - recall_8: 0.5253 - f1_score: 0.5906 - val_loss: 2.4035 - val_accuracy: 0.2424 - val_auc_8: 0.5278 - val_precision_8: 0.2289 - val_recall_8: 0.1919 - val_f1_score: 0.2465 - 11s/epoch - 2s/step\n",
      "Epoch 12/50\n",
      "7/7 - 11s - loss: 2.3379 - accuracy: 0.5076 - auc_8: 0.7669 - precision_8: 0.5361 - recall_8: 0.4318 - f1_score: 0.4950 - val_loss: 1.7609 - val_accuracy: 0.3434 - val_auc_8: 0.6335 - val_precision_8: 0.3553 - val_recall_8: 0.2727 - val_f1_score: 0.3126 - 11s/epoch - 2s/step\n",
      "Epoch 13/50\n",
      "7/7 - 11s - loss: 1.7701 - accuracy: 0.6263 - auc_8: 0.8483 - precision_8: 0.6743 - recall_8: 0.5227 - f1_score: 0.5887 - val_loss: 1.5903 - val_accuracy: 0.4040 - val_auc_8: 0.7067 - val_precision_8: 0.3855 - val_recall_8: 0.3232 - val_f1_score: 0.3096 - 11s/epoch - 2s/step\n"
     ]
    }
   ],
   "source": [
    "X_train, X_val = full_X[train_index], full_X[val_index]\n",
    "y_train, y_val = full_y[train_index], full_y[val_index]\n",
    "early_bilstm = early_biLSTM(early_features, n_length, early_outputs)\n",
    "history = train(early_bilstm, X_train, y_train, X_val, y_val, epochs=epochs, batch_size=64, class_weight=class_weight)"
   ]
  },
  {
   "cell_type": "markdown",
   "metadata": {},
   "source": [
    "### Train CNN+LSTM (with early fusion)"
   ]
  },
  {
   "cell_type": "code",
   "execution_count": 48,
   "metadata": {},
   "outputs": [],
   "source": [
    "def early_CNN(n_features, n_length, n_outputs):\n",
    "    input = Input(shape=(1, n_length, n_features))\n",
    "    conv1d_1 = TimeDistributed(Conv1D(filters=250, kernel_size=3, activation='tanh', kernel_initializer='glorot_normal'))(input)\n",
    "    conv1d_2 = TimeDistributed(Conv1D(filters=250, kernel_size=3, activation='tanh', kernel_initializer='glorot_normal'))(conv1d_1)\n",
    "    maxpool_1 = TimeDistributed(MaxPooling1D(pool_size=2, data_format='channels_first'))(conv1d_2)\n",
    "    conv1d_3 = TimeDistributed(Conv1D(filters=250, kernel_size=3, activation='tanh', kernel_initializer='glorot_normal'))(maxpool_1)\n",
    "    conv1d_4 = TimeDistributed(Conv1D(filters=250, kernel_size=3, activation='tanh', kernel_initializer='glorot_normal'))(conv1d_3)\n",
    "    maxpool_2 = TimeDistributed(MaxPooling1D(pool_size=2, data_format='channels_first'))(conv1d_4)\n",
    "    flatten = TimeDistributed(Flatten())(maxpool_2)\n",
    "    lstm_1 = LSTM(250, return_sequences=True)(flatten)\n",
    "    lstm_2 = LSTM(250)(lstm_1)\n",
    "    dense_1 = Dense(250, activation='tanh')(lstm_2)\n",
    "    dense_2 = Dense(250, activation='tanh')(dense_1)\n",
    "    output = Dense(units=n_outputs, activation='softmax')(dense_2)\n",
    "    model = Model(inputs=input, outputs=output)\n",
    "    model.compile(loss='categorical_crossentropy', optimizer=tf.keras.optimizers.RMSprop(learning_rate=0.0001), metrics=['accuracy', tf.keras.metrics.AUC(), tf.keras.metrics.Precision(), tf.keras.metrics.Recall(), tfa.metrics.F1Score(num_classes=n_outputs, average='macro')])\n",
    "    return model"
   ]
  },
  {
   "cell_type": "code",
   "execution_count": 49,
   "metadata": {},
   "outputs": [
    {
     "name": "stdout",
     "output_type": "stream",
     "text": [
      "Epoch 1/50\n",
      "13/13 - 11s - loss: 2.8380 - accuracy: 0.2601 - auc_9: 0.5120 - precision_9: 0.0000e+00 - recall_9: 0.0000e+00 - f1_score: 0.1974 - val_loss: 1.3616 - val_accuracy: 0.2727 - val_auc_9: 0.6455 - val_precision_9: 0.0000e+00 - val_recall_9: 0.0000e+00 - val_f1_score: 0.1071 - 11s/epoch - 846ms/step\n",
      "Epoch 2/50\n",
      "13/13 - 7s - loss: 2.7634 - accuracy: 0.2955 - auc_9: 0.6125 - precision_9: 0.0000e+00 - recall_9: 0.0000e+00 - f1_score: 0.1652 - val_loss: 1.3595 - val_accuracy: 0.3636 - val_auc_9: 0.6819 - val_precision_9: 0.0000e+00 - val_recall_9: 0.0000e+00 - val_f1_score: 0.1932 - 7s/epoch - 529ms/step\n",
      "Epoch 3/50\n",
      "13/13 - 7s - loss: 2.7662 - accuracy: 0.2904 - auc_9: 0.5854 - precision_9: 0.0000e+00 - recall_9: 0.0000e+00 - f1_score: 0.2019 - val_loss: 1.3522 - val_accuracy: 0.2727 - val_auc_9: 0.6357 - val_precision_9: 0.0000e+00 - val_recall_9: 0.0000e+00 - val_f1_score: 0.1071 - 7s/epoch - 534ms/step\n",
      "Epoch 4/50\n",
      "13/13 - 7s - loss: 2.7668 - accuracy: 0.3535 - auc_9: 0.6790 - precision_9: 0.0000e+00 - recall_9: 0.0000e+00 - f1_score: 0.2029 - val_loss: 1.3608 - val_accuracy: 0.2727 - val_auc_9: 0.6912 - val_precision_9: 0.0000e+00 - val_recall_9: 0.0000e+00 - val_f1_score: 0.1071 - 7s/epoch - 532ms/step\n",
      "Epoch 5/50\n",
      "13/13 - 7s - loss: 2.7719 - accuracy: 0.2399 - auc_9: 0.5629 - precision_9: 0.0000e+00 - recall_9: 0.0000e+00 - f1_score: 0.1566 - val_loss: 1.4013 - val_accuracy: 0.1717 - val_auc_9: 0.4453 - val_precision_9: 0.0000e+00 - val_recall_9: 0.0000e+00 - val_f1_score: 0.1174 - 7s/epoch - 530ms/step\n",
      "Epoch 6/50\n",
      "13/13 - 7s - loss: 2.7318 - accuracy: 0.2803 - auc_9: 0.6027 - precision_9: 0.0000e+00 - recall_9: 0.0000e+00 - f1_score: 0.2192 - val_loss: 1.3783 - val_accuracy: 0.3434 - val_auc_9: 0.5408 - val_precision_9: 0.0000e+00 - val_recall_9: 0.0000e+00 - val_f1_score: 0.2741 - 7s/epoch - 528ms/step\n",
      "Epoch 7/50\n",
      "13/13 - 7s - loss: 2.7398 - accuracy: 0.2096 - auc_9: 0.5290 - precision_9: 0.1053 - recall_9: 0.0051 - f1_score: 0.2086 - val_loss: 1.3486 - val_accuracy: 0.2828 - val_auc_9: 0.6386 - val_precision_9: 0.0000e+00 - val_recall_9: 0.0000e+00 - val_f1_score: 0.2044 - 7s/epoch - 527ms/step\n",
      "Epoch 8/50\n",
      "13/13 - 7s - loss: 2.6805 - accuracy: 0.3157 - auc_9: 0.6398 - precision_9: 0.3333 - recall_9: 0.0025 - f1_score: 0.2854 - val_loss: 1.4270 - val_accuracy: 0.2525 - val_auc_9: 0.5123 - val_precision_9: 0.0000e+00 - val_recall_9: 0.0000e+00 - val_f1_score: 0.2459 - 7s/epoch - 529ms/step\n",
      "Epoch 9/50\n",
      "13/13 - 7s - loss: 2.6249 - accuracy: 0.3207 - auc_9: 0.6064 - precision_9: 0.2143 - recall_9: 0.0076 - f1_score: 0.2957 - val_loss: 1.3238 - val_accuracy: 0.3030 - val_auc_9: 0.6462 - val_precision_9: 0.4545 - val_recall_9: 0.0505 - val_f1_score: 0.1608 - 7s/epoch - 526ms/step\n",
      "Epoch 10/50\n",
      "13/13 - 7s - loss: 2.6088 - accuracy: 0.3586 - auc_9: 0.6479 - precision_9: 0.5455 - recall_9: 0.0152 - f1_score: 0.3299 - val_loss: 1.3078 - val_accuracy: 0.3232 - val_auc_9: 0.6537 - val_precision_9: 0.2857 - val_recall_9: 0.0202 - val_f1_score: 0.1846 - 7s/epoch - 526ms/step\n",
      "Epoch 11/50\n",
      "13/13 - 7s - loss: 2.4788 - accuracy: 0.3662 - auc_9: 0.6878 - precision_9: 0.3462 - recall_9: 0.0227 - f1_score: 0.3368 - val_loss: 1.3376 - val_accuracy: 0.2727 - val_auc_9: 0.6133 - val_precision_9: 1.0000 - val_recall_9: 0.0101 - val_f1_score: 0.1714 - 7s/epoch - 526ms/step\n",
      "Epoch 12/50\n",
      "13/13 - 7s - loss: 2.4239 - accuracy: 0.4116 - auc_9: 0.7142 - precision_9: 0.4857 - recall_9: 0.0429 - f1_score: 0.3692 - val_loss: 1.3271 - val_accuracy: 0.3232 - val_auc_9: 0.6367 - val_precision_9: 0.2941 - val_recall_9: 0.0505 - val_f1_score: 0.2848 - 7s/epoch - 527ms/step\n",
      "Epoch 13/50\n",
      "13/13 - 7s - loss: 2.4006 - accuracy: 0.3965 - auc_9: 0.7076 - precision_9: 0.5000 - recall_9: 0.0606 - f1_score: 0.3629 - val_loss: 1.2818 - val_accuracy: 0.3333 - val_auc_9: 0.6738 - val_precision_9: 0.2727 - val_recall_9: 0.0606 - val_f1_score: 0.2867 - 7s/epoch - 527ms/step\n",
      "Epoch 14/50\n",
      "13/13 - 7s - loss: 2.2579 - accuracy: 0.4293 - auc_9: 0.7394 - precision_9: 0.5227 - recall_9: 0.1162 - f1_score: 0.3977 - val_loss: 1.2710 - val_accuracy: 0.3535 - val_auc_9: 0.6912 - val_precision_9: 0.3824 - val_recall_9: 0.1313 - val_f1_score: 0.2698 - 7s/epoch - 524ms/step\n",
      "Epoch 15/50\n",
      "13/13 - 7s - loss: 2.1471 - accuracy: 0.4899 - auc_9: 0.7827 - precision_9: 0.5752 - recall_9: 0.2222 - f1_score: 0.4611 - val_loss: 1.3346 - val_accuracy: 0.3434 - val_auc_9: 0.6438 - val_precision_9: 0.2581 - val_recall_9: 0.0808 - val_f1_score: 0.3179 - 7s/epoch - 529ms/step\n",
      "Epoch 16/50\n",
      "13/13 - 7s - loss: 2.0188 - accuracy: 0.4924 - auc_9: 0.7919 - precision_9: 0.5890 - recall_9: 0.2424 - f1_score: 0.4560 - val_loss: 1.3002 - val_accuracy: 0.3838 - val_auc_9: 0.6858 - val_precision_9: 0.4222 - val_recall_9: 0.1919 - val_f1_score: 0.2962 - 7s/epoch - 526ms/step\n",
      "Epoch 17/50\n",
      "13/13 - 7s - loss: 1.8465 - accuracy: 0.5783 - auc_9: 0.8306 - precision_9: 0.6546 - recall_9: 0.3207 - f1_score: 0.5462 - val_loss: 1.2744 - val_accuracy: 0.3535 - val_auc_9: 0.6909 - val_precision_9: 0.4250 - val_recall_9: 0.1717 - val_f1_score: 0.2713 - 7s/epoch - 526ms/step\n",
      "Epoch 18/50\n",
      "13/13 - 7s - loss: 1.8003 - accuracy: 0.5631 - auc_9: 0.8343 - precision_9: 0.6368 - recall_9: 0.3409 - f1_score: 0.5403 - val_loss: 1.3581 - val_accuracy: 0.3737 - val_auc_9: 0.6802 - val_precision_9: 0.4314 - val_recall_9: 0.2222 - val_f1_score: 0.3082 - 7s/epoch - 526ms/step\n",
      "Epoch 19/50\n",
      "13/13 - 7s - loss: 1.5875 - accuracy: 0.6515 - auc_9: 0.8717 - precision_9: 0.7087 - recall_9: 0.4545 - f1_score: 0.6123 - val_loss: 1.3981 - val_accuracy: 0.3636 - val_auc_9: 0.6849 - val_precision_9: 0.3333 - val_recall_9: 0.2323 - val_f1_score: 0.3147 - 7s/epoch - 527ms/step\n",
      "Epoch 20/50\n",
      "13/13 - 7s - loss: 1.5081 - accuracy: 0.6566 - auc_9: 0.8803 - precision_9: 0.7319 - recall_9: 0.5101 - f1_score: 0.6216 - val_loss: 1.3354 - val_accuracy: 0.4242 - val_auc_9: 0.7301 - val_precision_9: 0.4789 - val_recall_9: 0.3434 - val_f1_score: 0.3104 - 7s/epoch - 533ms/step\n",
      "Epoch 21/50\n",
      "13/13 - 7s - loss: 1.3951 - accuracy: 0.6566 - auc_9: 0.8881 - precision_9: 0.7241 - recall_9: 0.5833 - f1_score: 0.6404 - val_loss: 1.3657 - val_accuracy: 0.3939 - val_auc_9: 0.7014 - val_precision_9: 0.4030 - val_recall_9: 0.2727 - val_f1_score: 0.3031 - 7s/epoch - 534ms/step\n",
      "Epoch 22/50\n",
      "13/13 - 7s - loss: 1.3189 - accuracy: 0.6944 - auc_9: 0.9000 - precision_9: 0.7508 - recall_9: 0.5934 - f1_score: 0.6646 - val_loss: 1.6764 - val_accuracy: 0.3535 - val_auc_9: 0.6419 - val_precision_9: 0.3506 - val_recall_9: 0.2727 - val_f1_score: 0.3084 - 7s/epoch - 527ms/step\n",
      "Epoch 23/50\n",
      "13/13 - 7s - loss: 1.2920 - accuracy: 0.6894 - auc_9: 0.9010 - precision_9: 0.7253 - recall_9: 0.5934 - f1_score: 0.6555 - val_loss: 1.6044 - val_accuracy: 0.3535 - val_auc_9: 0.6846 - val_precision_9: 0.3735 - val_recall_9: 0.3131 - val_f1_score: 0.3047 - 7s/epoch - 526ms/step\n",
      "Epoch 24/50\n",
      "13/13 - 7s - loss: 1.0253 - accuracy: 0.7449 - auc_9: 0.9282 - precision_9: 0.7686 - recall_9: 0.6793 - f1_score: 0.7339 - val_loss: 1.3854 - val_accuracy: 0.4848 - val_auc_9: 0.7490 - val_precision_9: 0.5309 - val_recall_9: 0.4343 - val_f1_score: 0.3677 - 7s/epoch - 529ms/step\n"
     ]
    }
   ],
   "source": [
    "X_train, X_val = full_X[train_index], full_X[val_index]\n",
    "y_train, y_val = full_y[train_index], full_y[val_index]\n",
    "early_cnn = early_CNN(early_features, n_length, early_outputs)\n",
    "history = train(early_cnn, X_train, y_train, X_val, y_val, epochs=epochs, batch_size=32, class_weight=class_weight)"
   ]
  },
  {
   "cell_type": "markdown",
   "metadata": {},
   "source": [
    "### Train ConvLSTM (with early fusion)"
   ]
  },
  {
   "cell_type": "code",
   "execution_count": 50,
   "metadata": {},
   "outputs": [],
   "source": [
    "def early_convLSTM(n_features, n_length, n_outputs):\n",
    "    input = Input(shape=(1, n_length, n_features))\n",
    "    convlstm_1 = ConvLSTM1D(filters=250, kernel_size=(5), activation='relu', return_sequences=True, kernel_initializer='glorot_uniform')(input)\n",
    "    convlstm_2 = ConvLSTM1D(filters=250, kernel_size=(5), activation='relu', kernel_initializer='glorot_uniform')(convlstm_1)\n",
    "    flatten = Flatten()(convlstm_2)\n",
    "    dense_1 = Dense(250, activation='relu')(flatten)\n",
    "    dense_2 = Dense(250, activation='relu')(dense_1)\n",
    "    output = Dense(units=n_outputs, activation='softmax')(dense_2)\n",
    "    model = Model(inputs=input, outputs=output)\n",
    "    model.compile(loss='categorical_crossentropy', optimizer=tf.keras.optimizers.Adam(learning_rate=0.0001), metrics=['accuracy', tf.keras.metrics.AUC(), tf.keras.metrics.Precision(), tf.keras.metrics.Recall(), tfa.metrics.F1Score(num_classes=n_outputs, average='macro')])\n",
    "    return model"
   ]
  },
  {
   "cell_type": "code",
   "execution_count": 51,
   "metadata": {},
   "outputs": [
    {
     "name": "stdout",
     "output_type": "stream",
     "text": [
      "Epoch 1/50\n",
      "7/7 - 19s - loss: 20.1145 - accuracy: 0.3056 - auc_10: 0.5820 - precision_10: 0.3071 - recall_10: 0.3056 - f1_score: 0.2278 - val_loss: 2.5398 - val_accuracy: 0.1616 - val_auc_10: 0.4670 - val_precision_10: 0.1429 - val_recall_10: 0.1313 - val_f1_score: 0.0892 - 19s/epoch - 3s/step\n",
      "Epoch 2/50\n",
      "7/7 - 13s - loss: 3.2289 - accuracy: 0.1338 - auc_10: 0.4657 - precision_10: 0.1508 - recall_10: 0.0682 - f1_score: 0.1254 - val_loss: 1.2205 - val_accuracy: 0.4242 - val_auc_10: 0.7144 - val_precision_10: 0.4286 - val_recall_10: 0.0909 - val_f1_score: 0.3078 - 13s/epoch - 2s/step\n",
      "Epoch 3/50\n",
      "7/7 - 13s - loss: 2.7084 - accuracy: 0.3636 - auc_10: 0.6858 - precision_10: 0.5472 - recall_10: 0.0732 - f1_score: 0.2670 - val_loss: 1.3969 - val_accuracy: 0.2323 - val_auc_10: 0.5137 - val_precision_10: 0.7500 - val_recall_10: 0.0303 - val_f1_score: 0.1879 - 13s/epoch - 2s/step\n",
      "Epoch 4/50\n",
      "7/7 - 13s - loss: 2.6001 - accuracy: 0.1818 - auc_10: 0.5121 - precision_10: 0.4571 - recall_10: 0.0404 - f1_score: 0.1754 - val_loss: 1.2760 - val_accuracy: 0.3030 - val_auc_10: 0.6371 - val_precision_10: 0.8750 - val_recall_10: 0.0707 - val_f1_score: 0.2632 - 13s/epoch - 2s/step\n",
      "Epoch 5/50\n",
      "7/7 - 13s - loss: 2.5234 - accuracy: 0.3485 - auc_10: 0.6867 - precision_10: 0.5484 - recall_10: 0.0859 - f1_score: 0.2971 - val_loss: 1.3588 - val_accuracy: 0.2929 - val_auc_10: 0.5715 - val_precision_10: 0.4545 - val_recall_10: 0.0505 - val_f1_score: 0.2486 - 13s/epoch - 2s/step\n",
      "Epoch 6/50\n",
      "7/7 - 13s - loss: 2.3615 - accuracy: 0.3813 - auc_10: 0.6878 - precision_10: 0.5970 - recall_10: 0.1010 - f1_score: 0.3552 - val_loss: 1.4050 - val_accuracy: 0.2727 - val_auc_10: 0.5962 - val_precision_10: 0.3243 - val_recall_10: 0.1212 - val_f1_score: 0.2353 - 13s/epoch - 2s/step\n",
      "Epoch 7/50\n",
      "7/7 - 13s - loss: 2.3430 - accuracy: 0.3535 - auc_10: 0.6615 - precision_10: 0.5145 - recall_10: 0.1793 - f1_score: 0.3369 - val_loss: 1.2978 - val_accuracy: 0.3939 - val_auc_10: 0.6442 - val_precision_10: 0.5000 - val_recall_10: 0.0909 - val_f1_score: 0.3323 - 13s/epoch - 2s/step\n",
      "Epoch 8/50\n",
      "7/7 - 13s - loss: 2.1754 - accuracy: 0.4697 - auc_10: 0.7702 - precision_10: 0.6517 - recall_10: 0.1465 - f1_score: 0.4354 - val_loss: 1.4262 - val_accuracy: 0.3030 - val_auc_10: 0.6036 - val_precision_10: 0.3611 - val_recall_10: 0.1313 - val_f1_score: 0.2712 - 13s/epoch - 2s/step\n",
      "Epoch 9/50\n",
      "7/7 - 13s - loss: 2.1441 - accuracy: 0.4646 - auc_10: 0.7485 - precision_10: 0.5652 - recall_10: 0.2298 - f1_score: 0.4302 - val_loss: 1.4576 - val_accuracy: 0.2929 - val_auc_10: 0.6068 - val_precision_10: 0.3409 - val_recall_10: 0.1515 - val_f1_score: 0.2731 - 13s/epoch - 2s/step\n",
      "Epoch 10/50\n",
      "7/7 - 13s - loss: 1.9790 - accuracy: 0.4697 - auc_10: 0.7713 - precision_10: 0.6281 - recall_10: 0.3157 - f1_score: 0.4362 - val_loss: 1.5348 - val_accuracy: 0.3030 - val_auc_10: 0.6014 - val_precision_10: 0.3415 - val_recall_10: 0.1414 - val_f1_score: 0.2252 - 13s/epoch - 2s/step\n",
      "Epoch 11/50\n",
      "7/7 - 13s - loss: 2.3532 - accuracy: 0.4091 - auc_10: 0.7211 - precision_10: 0.4895 - recall_10: 0.2348 - f1_score: 0.3758 - val_loss: 1.3731 - val_accuracy: 0.3131 - val_auc_10: 0.6359 - val_precision_10: 0.3111 - val_recall_10: 0.1414 - val_f1_score: 0.2264 - 13s/epoch - 2s/step\n",
      "Epoch 12/50\n",
      "7/7 - 13s - loss: 2.2975 - accuracy: 0.4747 - auc_10: 0.7738 - precision_10: 0.6463 - recall_10: 0.2399 - f1_score: 0.4270 - val_loss: 1.3742 - val_accuracy: 0.3838 - val_auc_10: 0.6073 - val_precision_10: 0.4138 - val_recall_10: 0.1212 - val_f1_score: 0.3299 - 13s/epoch - 2s/step\n"
     ]
    }
   ],
   "source": [
    "X_train, X_val = full_X[train_index], full_X[val_index]\n",
    "y_train, y_val = full_y[train_index], full_y[val_index]\n",
    "early_convlstm = early_convLSTM(early_features, n_length, early_outputs)\n",
    "history = train(early_convlstm, X_train, y_train, X_val, y_val, epochs=epochs, batch_size=64, class_weight=class_weight)"
   ]
  },
  {
   "cell_type": "markdown",
   "metadata": {},
   "source": [
    "### Train RCNN (with early fusion)"
   ]
  },
  {
   "cell_type": "code",
   "execution_count": 52,
   "metadata": {},
   "outputs": [],
   "source": [
    "def early_RCNN(n_features, n_length, n_outputs):\n",
    "   input = Input(shape=(1, n_length, n_features))\n",
    "   conv1d_1 = TimeDistributed(Conv1D(filters=100, kernel_size=5, activation=PReLU(alpha_initializer=Constant(value=0.25)), kernel_initializer='he_uniform'))(input)\n",
    "   bn_1 = TimeDistributed(BatchNormalization())(conv1d_1)\n",
    "   maxpool_1 = TimeDistributed(MaxPooling1D(pool_size=2, data_format='channels_first'))(bn_1)\n",
    "   conv1d_2 = TimeDistributed(Conv1D(filters=100, kernel_size=5, activation=PReLU(alpha_initializer=Constant(value=0.25)), kernel_initializer='he_uniform'))(maxpool_1)\n",
    "   bn_2 = TimeDistributed(BatchNormalization())(conv1d_2)\n",
    "   maxpool_2 = TimeDistributed(MaxPooling1D(pool_size=2, data_format='channels_first'))(bn_2)\n",
    "   flatten = Flatten()(maxpool_2)\n",
    "   dense_1 = Dense(256, activation='relu')(flatten)\n",
    "   dense_2 = Dense(256, activation='relu')(dense_1)\n",
    "   output = Dense(units=n_outputs, activation='softmax')(dense_2)\n",
    "   model = Model(inputs=input, outputs=output)\n",
    "   model.compile(loss='categorical_crossentropy', optimizer=tf.keras.optimizers.Adam(learning_rate=0.001), metrics=['accuracy', tf.keras.metrics.AUC(), tf.keras.metrics.Precision(), tf.keras.metrics.Recall(), tfa.metrics.F1Score(num_classes=n_outputs, average='macro')])\n",
    "   return model"
   ]
  },
  {
   "cell_type": "code",
   "execution_count": 53,
   "metadata": {},
   "outputs": [
    {
     "name": "stdout",
     "output_type": "stream",
     "text": [
      "Epoch 1/50\n",
      "2/2 - 3s - loss: 15.7989 - accuracy: 0.3232 - auc_11: 0.5508 - precision_11: 0.3714 - recall_11: 0.1970 - f1_score: 0.2820 - val_loss: 104.7394 - val_accuracy: 0.2828 - val_auc_11: 0.5172 - val_precision_11: 0.2828 - val_recall_11: 0.2828 - val_f1_score: 0.1798 - 3s/epoch - 1s/step\n",
      "Epoch 2/50\n",
      "2/2 - 1s - loss: 7.3623 - accuracy: 0.2576 - auc_11: 0.5297 - precision_11: 0.2622 - recall_11: 0.2449 - f1_score: 0.2325 - val_loss: 100.8942 - val_accuracy: 0.1414 - val_auc_11: 0.4312 - val_precision_11: 0.1414 - val_recall_11: 0.1414 - val_f1_score: 0.0684 - 1s/epoch - 547ms/step\n",
      "Epoch 3/50\n",
      "2/2 - 1s - loss: 4.7721 - accuracy: 0.3813 - auc_11: 0.6531 - precision_11: 0.3844 - recall_11: 0.3359 - f1_score: 0.3422 - val_loss: 83.9243 - val_accuracy: 0.5253 - val_auc_11: 0.6835 - val_precision_11: 0.5253 - val_recall_11: 0.5253 - val_f1_score: 0.1722 - 1s/epoch - 543ms/step\n",
      "Epoch 4/50\n",
      "2/2 - 1s - loss: 4.2352 - accuracy: 0.4091 - auc_11: 0.6911 - precision_11: 0.4185 - recall_11: 0.3889 - f1_score: 0.3840 - val_loss: 22.0136 - val_accuracy: 0.2727 - val_auc_11: 0.5194 - val_precision_11: 0.2727 - val_recall_11: 0.2727 - val_f1_score: 0.1071 - 1s/epoch - 548ms/step\n",
      "Epoch 5/50\n",
      "2/2 - 1s - loss: 2.7598 - accuracy: 0.3864 - auc_11: 0.7115 - precision_11: 0.4140 - recall_11: 0.3586 - f1_score: 0.3759 - val_loss: 25.2396 - val_accuracy: 0.3636 - val_auc_11: 0.5714 - val_precision_11: 0.3571 - val_recall_11: 0.3535 - val_f1_score: 0.2218 - 1s/epoch - 587ms/step\n",
      "Epoch 6/50\n",
      "2/2 - 1s - loss: 2.7010 - accuracy: 0.5379 - auc_11: 0.7956 - precision_11: 0.5406 - recall_11: 0.4874 - f1_score: 0.5141 - val_loss: 11.8943 - val_accuracy: 0.2828 - val_auc_11: 0.6050 - val_precision_11: 0.2828 - val_recall_11: 0.2828 - val_f1_score: 0.1565 - 1s/epoch - 541ms/step\n",
      "Epoch 7/50\n",
      "2/2 - 1s - loss: 1.7075 - accuracy: 0.5909 - auc_11: 0.8282 - precision_11: 0.6235 - recall_11: 0.5227 - f1_score: 0.5717 - val_loss: 16.4511 - val_accuracy: 0.1414 - val_auc_11: 0.4288 - val_precision_11: 0.1414 - val_recall_11: 0.1414 - val_f1_score: 0.0963 - 1s/epoch - 564ms/step\n",
      "Epoch 8/50\n",
      "2/2 - 1s - loss: 1.6326 - accuracy: 0.6111 - auc_11: 0.8387 - precision_11: 0.6268 - recall_11: 0.5429 - f1_score: 0.5907 - val_loss: 26.7034 - val_accuracy: 0.5253 - val_auc_11: 0.6835 - val_precision_11: 0.5253 - val_recall_11: 0.5253 - val_f1_score: 0.1722 - 1s/epoch - 544ms/step\n",
      "Epoch 9/50\n",
      "2/2 - 1s - loss: 1.4535 - accuracy: 0.7045 - auc_11: 0.9128 - precision_11: 0.7244 - recall_11: 0.6439 - f1_score: 0.6928 - val_loss: 26.4690 - val_accuracy: 0.5152 - val_auc_11: 0.6819 - val_precision_11: 0.5152 - val_recall_11: 0.5152 - val_f1_score: 0.1700 - 1s/epoch - 552ms/step\n",
      "Epoch 10/50\n",
      "2/2 - 1s - loss: 1.1361 - accuracy: 0.7096 - auc_11: 0.9113 - precision_11: 0.7391 - recall_11: 0.6439 - f1_score: 0.7139 - val_loss: 22.0420 - val_accuracy: 0.4646 - val_auc_11: 0.6472 - val_precision_11: 0.4646 - val_recall_11: 0.4646 - val_f1_score: 0.1608 - 1s/epoch - 549ms/step\n",
      "Epoch 11/50\n",
      "2/2 - 1s - loss: 1.1702 - accuracy: 0.6869 - auc_11: 0.9003 - precision_11: 0.7185 - recall_11: 0.6187 - f1_score: 0.6505 - val_loss: 24.6627 - val_accuracy: 0.4545 - val_auc_11: 0.6650 - val_precision_11: 0.4545 - val_recall_11: 0.4545 - val_f1_score: 0.1703 - 1s/epoch - 558ms/step\n",
      "Epoch 12/50\n",
      "2/2 - 1s - loss: 0.9338 - accuracy: 0.7677 - auc_11: 0.9330 - precision_11: 0.8000 - recall_11: 0.7071 - f1_score: 0.7617 - val_loss: 20.6785 - val_accuracy: 0.4848 - val_auc_11: 0.6635 - val_precision_11: 0.4848 - val_recall_11: 0.4848 - val_f1_score: 0.1786 - 1s/epoch - 552ms/step\n",
      "Epoch 13/50\n",
      "2/2 - 1s - loss: 0.7703 - accuracy: 0.7929 - auc_11: 0.9507 - precision_11: 0.8147 - recall_11: 0.7551 - f1_score: 0.8056 - val_loss: 20.9213 - val_accuracy: 0.5253 - val_auc_11: 0.6835 - val_precision_11: 0.5253 - val_recall_11: 0.5253 - val_f1_score: 0.1722 - 1s/epoch - 560ms/step\n",
      "Epoch 14/50\n",
      "2/2 - 1s - loss: 0.7724 - accuracy: 0.8131 - auc_11: 0.9613 - precision_11: 0.8333 - recall_11: 0.7828 - f1_score: 0.8071 - val_loss: 10.2861 - val_accuracy: 0.5152 - val_auc_11: 0.6833 - val_precision_11: 0.5152 - val_recall_11: 0.5152 - val_f1_score: 0.1700 - 1s/epoch - 566ms/step\n",
      "Epoch 15/50\n",
      "2/2 - 1s - loss: 0.7231 - accuracy: 0.8232 - auc_11: 0.9573 - precision_11: 0.8373 - recall_11: 0.8056 - f1_score: 0.8124 - val_loss: 15.2000 - val_accuracy: 0.2727 - val_auc_11: 0.5188 - val_precision_11: 0.2727 - val_recall_11: 0.2727 - val_f1_score: 0.1071 - 1s/epoch - 573ms/step\n",
      "Epoch 16/50\n",
      "2/2 - 1s - loss: 0.6599 - accuracy: 0.8535 - auc_11: 0.9612 - precision_11: 0.8590 - recall_11: 0.8308 - f1_score: 0.8487 - val_loss: 13.8756 - val_accuracy: 0.4545 - val_auc_11: 0.6853 - val_precision_11: 0.4545 - val_recall_11: 0.4545 - val_f1_score: 0.1711 - 1s/epoch - 572ms/step\n",
      "Epoch 17/50\n",
      "2/2 - 1s - loss: 0.5681 - accuracy: 0.8586 - auc_11: 0.9744 - precision_11: 0.8612 - recall_11: 0.8460 - f1_score: 0.8476 - val_loss: 17.3222 - val_accuracy: 0.4646 - val_auc_11: 0.6531 - val_precision_11: 0.4646 - val_recall_11: 0.4646 - val_f1_score: 0.2036 - 1s/epoch - 563ms/step\n",
      "Epoch 18/50\n",
      "2/2 - 1s - loss: 0.5283 - accuracy: 0.8712 - auc_11: 0.9783 - precision_11: 0.8769 - recall_11: 0.8636 - f1_score: 0.8676 - val_loss: 22.6789 - val_accuracy: 0.2727 - val_auc_11: 0.5213 - val_precision_11: 0.2727 - val_recall_11: 0.2727 - val_f1_score: 0.1071 - 1s/epoch - 544ms/step\n",
      "Epoch 19/50\n",
      "2/2 - 1s - loss: 0.4878 - accuracy: 0.8636 - auc_11: 0.9774 - precision_11: 0.8715 - recall_11: 0.8561 - f1_score: 0.8622 - val_loss: 17.5147 - val_accuracy: 0.2525 - val_auc_11: 0.6026 - val_precision_11: 0.2525 - val_recall_11: 0.2525 - val_f1_score: 0.1073 - 1s/epoch - 556ms/step\n",
      "Epoch 20/50\n",
      "2/2 - 1s - loss: 0.4755 - accuracy: 0.8965 - auc_11: 0.9840 - precision_11: 0.8997 - recall_11: 0.8838 - f1_score: 0.8893 - val_loss: 17.2292 - val_accuracy: 0.2626 - val_auc_11: 0.6027 - val_precision_11: 0.2626 - val_recall_11: 0.2626 - val_f1_score: 0.1107 - 1s/epoch - 545ms/step\n",
      "Epoch 21/50\n",
      "2/2 - 1s - loss: 0.4338 - accuracy: 0.8990 - auc_11: 0.9862 - precision_11: 0.9072 - recall_11: 0.8889 - f1_score: 0.8970 - val_loss: 17.0738 - val_accuracy: 0.2727 - val_auc_11: 0.5822 - val_precision_11: 0.2727 - val_recall_11: 0.2727 - val_f1_score: 0.1071 - 1s/epoch - 581ms/step\n",
      "Epoch 22/50\n",
      "2/2 - 1s - loss: 0.4394 - accuracy: 0.9015 - auc_11: 0.9837 - precision_11: 0.9126 - recall_11: 0.8965 - f1_score: 0.8944 - val_loss: 12.9538 - val_accuracy: 0.4343 - val_auc_11: 0.6812 - val_precision_11: 0.4343 - val_recall_11: 0.4343 - val_f1_score: 0.1841 - 1s/epoch - 558ms/step\n",
      "Epoch 23/50\n",
      "2/2 - 1s - loss: 0.4343 - accuracy: 0.9040 - auc_11: 0.9836 - precision_11: 0.9107 - recall_11: 0.9015 - f1_score: 0.8918 - val_loss: 11.6023 - val_accuracy: 0.3838 - val_auc_11: 0.6613 - val_precision_11: 0.3838 - val_recall_11: 0.3838 - val_f1_score: 0.1867 - 1s/epoch - 556ms/step\n",
      "Epoch 24/50\n",
      "2/2 - 1s - loss: 0.4631 - accuracy: 0.8788 - auc_11: 0.9830 - precision_11: 0.8807 - recall_11: 0.8763 - f1_score: 0.8733 - val_loss: 14.2209 - val_accuracy: 0.2929 - val_auc_11: 0.5701 - val_precision_11: 0.2929 - val_recall_11: 0.2929 - val_f1_score: 0.1274 - 1s/epoch - 596ms/step\n"
     ]
    }
   ],
   "source": [
    "X_train, X_val = full_X[train_index], full_X[val_index]\n",
    "y_train, y_val = full_y[train_index], full_y[val_index]\n",
    "early_rcnn = early_RCNN(early_features, n_length, early_outputs)\n",
    "history = train(early_rcnn, X_train, y_train, X_val, y_val, epochs=epochs, batch_size=256, class_weight=class_weight)"
   ]
  },
  {
   "cell_type": "markdown",
   "metadata": {},
   "source": [
    "## 3. Late Fusion - Fusion is performed at decision level\n",
    "\n",
    "In late fusion, I test two approaches, in both uni-modal classifiers are trained individually, and then either: \n",
    "\n",
    "- Their final dense (decision) layer is concatenated to produce the final prediction; or \n",
    "\n",
    "- Ensemble the uni-modal classifiers.\n",
    "\n",
    "Just as with early fusion, we have the issue that the face modality is missing about half of the times and therefore, I can only use late fusion if both modalities are present."
   ]
  },
  {
   "cell_type": "markdown",
   "metadata": {},
   "source": [
    "### Apply Data Augmentation"
   ]
  },
  {
   "cell_type": "code",
   "execution_count": 54,
   "metadata": {},
   "outputs": [
    {
     "name": "stdout",
     "output_type": "stream",
     "text": [
      "(495, 1, 350, 38) (495, 4)\n",
      "(102, 1, 350, 38) (102, 4)\n"
     ]
    }
   ],
   "source": [
    "body_X_train, body_X_test, y_train, y_test = load_latefusion_dataset('processed', 'skeleton')\n",
    "body_X = body_X_train.copy()\n",
    "y = y_train.copy()\n",
    "\n",
    "print(body_X_train.shape, y_train.shape)\n",
    "print(body_X_test.shape, y_test.shape)\n",
    "\n",
    "n_length, body_features, body_outputs = body_X_train.shape[2], body_X_train.shape[-1], y_train.shape[1]"
   ]
  },
  {
   "cell_type": "code",
   "execution_count": 55,
   "metadata": {},
   "outputs": [],
   "source": [
    "jitter_X = jitter(body_X, sigma=0.03)"
   ]
  },
  {
   "cell_type": "code",
   "execution_count": 56,
   "metadata": {},
   "outputs": [],
   "source": [
    "reshaped_X = body_X.reshape((body_X.shape[0], body_X.shape[2], body_X.shape[-1]))\n",
    "rotated_X = rotation(reshaped_X)\n",
    "rotated_X = rotated_X.reshape((rotated_X.shape[0], 1, rotated_X.shape[1], rotated_X.shape[-1]))"
   ]
  },
  {
   "cell_type": "code",
   "execution_count": 57,
   "metadata": {},
   "outputs": [
    {
     "data": {
      "text/plain": [
       "(495, 1, 350, 38)"
      ]
     },
     "execution_count": 57,
     "metadata": {},
     "output_type": "execute_result"
    }
   ],
   "source": [
    "augmented_X = np.concatenate((rotated_X[0:250], jitter_X[0:250]), axis=0)\n",
    "add_y = np.concatenate((y[0:250], y[0:250]), axis=0)\n",
    "body_X = np.concatenate((augmented_X, body_X), axis=0)\n",
    "y = np.concatenate((add_y, y), axis=0) \n",
    "body_X.shape"
   ]
  },
  {
   "cell_type": "code",
   "execution_count": 58,
   "metadata": {},
   "outputs": [],
   "source": [
    "jitter_X = jitter(face_X, sigma=0.03)"
   ]
  },
  {
   "cell_type": "code",
   "execution_count": 59,
   "metadata": {},
   "outputs": [],
   "source": [
    "reshaped_X = face_X.reshape((face_X.shape[0], face_X.shape[2], face_X.shape[-1]))\n",
    "rotated_X = rotation(reshaped_X)\n",
    "rotated_X = rotated_X.reshape((rotated_X.shape[0], 1, rotated_X.shape[1], rotated_X.shape[-1]))"
   ]
  },
  {
   "cell_type": "code",
   "execution_count": 60,
   "metadata": {},
   "outputs": [
    {
     "data": {
      "text/plain": [
       "(495, 1, 350, 10)"
      ]
     },
     "execution_count": 60,
     "metadata": {},
     "output_type": "execute_result"
    }
   ],
   "source": [
    "augmented_X = np.concatenate((rotated_X[0:250], jitter_X[0:250]), axis=0)\n",
    "face_X = np.concatenate((augmented_X, face_X), axis=0)\n",
    "face_X.shape"
   ]
  },
  {
   "cell_type": "code",
   "execution_count": 61,
   "metadata": {},
   "outputs": [
    {
     "name": "stdout",
     "output_type": "stream",
     "text": [
      "Weight for Upper Body Pain Mild Level: 0.99\n",
      "Weight for Upper Body Pain Moderate Level: 7.73\n",
      "Weight for Lower Body Pain Mild Level: 1.60\n",
      "Weight for Lower Body Pain Moderate Level: 4.19\n"
     ]
    }
   ],
   "source": [
    "umild, lmoderate, lmild, umoderate = np.sum(y, axis=0)\n",
    "total = umild + lmoderate + lmild + umoderate\n",
    "\n",
    "weight_for_0 = (1 / umild) * (total / 2.0)\n",
    "weight_for_1 = (1 / lmoderate) * (total / 2.0)\n",
    "weight_for_2 = (1 / lmild) * (total / 2.0)\n",
    "weight_for_3 = (1 / umoderate) * (total / 2.0)\n",
    "\n",
    "class_weight = {0: weight_for_0, 1: weight_for_1, 2: weight_for_2, 3: weight_for_3}\n",
    "\n",
    "print('Weight for Upper Body Pain Mild Level: {:.2f}'.format(weight_for_0))\n",
    "print('Weight for Upper Body Pain Moderate Level: {:.2f}'.format(weight_for_3))\n",
    "print('Weight for Lower Body Pain Mild Level: {:.2f}'.format(weight_for_2))\n",
    "print('Weight for Lower Body Pain Moderate Level: {:.2f}'.format(weight_for_1))"
   ]
  },
  {
   "cell_type": "code",
   "execution_count": 62,
   "metadata": {},
   "outputs": [],
   "source": [
    "for train_index, val_index in kf.split(body_X):\n",
    "    continue"
   ]
  },
  {
   "cell_type": "markdown",
   "metadata": {},
   "source": [
    "### BiLSTM (concatenate decision layer)"
   ]
  },
  {
   "cell_type": "code",
   "execution_count": 63,
   "metadata": {},
   "outputs": [],
   "source": [
    "def build_fusioned_biLSTM(body_features, face_features, n_length, n_outputs):\n",
    "    input_1 = Input(shape=(1, n_length, body_features))\n",
    "    bilstm_1 = Bidirectional(ConvLSTM1D(filters=100, kernel_size=(3), activation='relu', return_sequences=True, kernel_initializer='glorot_normal'))(input_1)\n",
    "    bilstm_11 = Bidirectional(ConvLSTM1D(filters=100, kernel_size=(3), activation='relu', return_sequences=True, kernel_initializer='glorot_normal'))(bilstm_1)\n",
    "    bilstm_111 = Bidirectional(ConvLSTM1D(filters=100, kernel_size=(3), activation='relu'))(bilstm_11)\n",
    "    flatten_1 = Flatten()(bilstm_111)\n",
    "    dense_1 = Dense(100, activation='relu')(flatten_1)\n",
    "    dense_11 = Dense(100, activation='relu')(dense_1)\n",
    "\n",
    "    input_2 = Input(shape=(1, n_length, face_features))\n",
    "    bilstm_2 = Bidirectional(ConvLSTM1D(filters=100, kernel_size=(3), activation='tanh', return_sequences=True, kernel_initializer='he_normal'))(input_2)\n",
    "    bilstm_22 = Bidirectional(ConvLSTM1D(filters=100, kernel_size=(3), activation='tanh', return_sequences=True, kernel_initializer='he_normal'))(bilstm_2)\n",
    "    bilstm_222 = Bidirectional(ConvLSTM1D(filters=100, kernel_size=(3), activation='tanh'))(bilstm_22)\n",
    "    flatten_2 = Flatten()(bilstm_222)\n",
    "    dense_2 = Dense(100, activation='tanh')(flatten_2)\n",
    "    dense_22 = Dense(100, activation='tanh')(dense_2)\n",
    "\n",
    "    concat = Concatenate()([dense_11, dense_22])\n",
    "    output = Dense(units=n_outputs, activation='softmax')(concat)\n",
    "    model = Model(inputs=[input_1, input_2], outputs=[output])\n",
    "    model.compile(loss='categorical_crossentropy', optimizer=tf.keras.optimizers.Adam(learning_rate=0.0001), metrics=['accuracy', tf.keras.metrics.AUC(), tf.keras.metrics.Precision(), tf.keras.metrics.Recall(), tfa.metrics.F1Score(num_classes=n_outputs, average='macro')])\n",
    "    return model"
   ]
  },
  {
   "cell_type": "code",
   "execution_count": 64,
   "metadata": {},
   "outputs": [
    {
     "name": "stdout",
     "output_type": "stream",
     "text": [
      "Epoch 1/50\n",
      "13/13 - 49s - loss: 4.1068 - accuracy: 0.2626 - auc_12: 0.5278 - precision_12: 0.2799 - recall_12: 0.1894 - f1_score: 0.2363 - val_loss: 1.3854 - val_accuracy: 0.3131 - val_auc_12: 0.5868 - val_precision_12: 0.4000 - val_recall_12: 0.0404 - val_f1_score: 0.2865 - 49s/epoch - 4s/step\n",
      "Epoch 2/50\n",
      "13/13 - 21s - loss: 2.6522 - accuracy: 0.3838 - auc_12: 0.6715 - precision_12: 0.5106 - recall_12: 0.1212 - f1_score: 0.3249 - val_loss: 1.5114 - val_accuracy: 0.2323 - val_auc_12: 0.5560 - val_precision_12: 0.2750 - val_recall_12: 0.1111 - val_f1_score: 0.1928 - 21s/epoch - 2s/step\n",
      "Epoch 3/50\n",
      "13/13 - 21s - loss: 2.3135 - accuracy: 0.4470 - auc_12: 0.7152 - precision_12: 0.5308 - recall_12: 0.1742 - f1_score: 0.4185 - val_loss: 1.3937 - val_accuracy: 0.3434 - val_auc_12: 0.5996 - val_precision_12: 0.3939 - val_recall_12: 0.1313 - val_f1_score: 0.3102 - 21s/epoch - 2s/step\n",
      "Epoch 4/50\n",
      "13/13 - 21s - loss: 2.0944 - accuracy: 0.4646 - auc_12: 0.7571 - precision_12: 0.6047 - recall_12: 0.2626 - f1_score: 0.4370 - val_loss: 1.3223 - val_accuracy: 0.3333 - val_auc_12: 0.6859 - val_precision_12: 0.4419 - val_recall_12: 0.1919 - val_f1_score: 0.2932 - 21s/epoch - 2s/step\n",
      "Epoch 5/50\n",
      "13/13 - 21s - loss: 1.9067 - accuracy: 0.5429 - auc_12: 0.8078 - precision_12: 0.6630 - recall_12: 0.3081 - f1_score: 0.5125 - val_loss: 1.4075 - val_accuracy: 0.3737 - val_auc_12: 0.6681 - val_precision_12: 0.4918 - val_recall_12: 0.3030 - val_f1_score: 0.3069 - 21s/epoch - 2s/step\n",
      "Epoch 6/50\n",
      "13/13 - 21s - loss: 1.8013 - accuracy: 0.5606 - auc_12: 0.8404 - precision_12: 0.6986 - recall_12: 0.3864 - f1_score: 0.5202 - val_loss: 1.5800 - val_accuracy: 0.2929 - val_auc_12: 0.5964 - val_precision_12: 0.2963 - val_recall_12: 0.1616 - val_f1_score: 0.2479 - 21s/epoch - 2s/step\n",
      "Epoch 7/50\n",
      "13/13 - 21s - loss: 1.6700 - accuracy: 0.6061 - auc_12: 0.8471 - precision_12: 0.6908 - recall_12: 0.4343 - f1_score: 0.5659 - val_loss: 1.2722 - val_accuracy: 0.4343 - val_auc_12: 0.7372 - val_precision_12: 0.4756 - val_recall_12: 0.3939 - val_f1_score: 0.3508 - 21s/epoch - 2s/step\n",
      "Epoch 8/50\n",
      "13/13 - 21s - loss: 1.6598 - accuracy: 0.6540 - auc_12: 0.8650 - precision_12: 0.7079 - recall_12: 0.4773 - f1_score: 0.6015 - val_loss: 1.5161 - val_accuracy: 0.3838 - val_auc_12: 0.6486 - val_precision_12: 0.4058 - val_recall_12: 0.2828 - val_f1_score: 0.3272 - 21s/epoch - 2s/step\n",
      "Epoch 9/50\n",
      "13/13 - 21s - loss: 1.5411 - accuracy: 0.6414 - auc_12: 0.8729 - precision_12: 0.7173 - recall_12: 0.5126 - f1_score: 0.6079 - val_loss: 1.7340 - val_accuracy: 0.3333 - val_auc_12: 0.5987 - val_precision_12: 0.3188 - val_recall_12: 0.2222 - val_f1_score: 0.2941 - 21s/epoch - 2s/step\n",
      "Epoch 10/50\n",
      "13/13 - 21s - loss: 1.4728 - accuracy: 0.6540 - auc_12: 0.8824 - precision_12: 0.7304 - recall_12: 0.5404 - f1_score: 0.6139 - val_loss: 1.6432 - val_accuracy: 0.3737 - val_auc_12: 0.6508 - val_precision_12: 0.3944 - val_recall_12: 0.2828 - val_f1_score: 0.3168 - 21s/epoch - 2s/step\n",
      "Epoch 11/50\n",
      "13/13 - 21s - loss: 1.4077 - accuracy: 0.6742 - auc_12: 0.8884 - precision_12: 0.7344 - recall_12: 0.5657 - f1_score: 0.6458 - val_loss: 1.5460 - val_accuracy: 0.3939 - val_auc_12: 0.6835 - val_precision_12: 0.4638 - val_recall_12: 0.3232 - val_f1_score: 0.3308 - 21s/epoch - 2s/step\n",
      "Epoch 12/50\n",
      "13/13 - 21s - loss: 1.5903 - accuracy: 0.6136 - auc_12: 0.8710 - precision_12: 0.6851 - recall_12: 0.5328 - f1_score: 0.5670 - val_loss: 1.4341 - val_accuracy: 0.4141 - val_auc_12: 0.6873 - val_precision_12: 0.4627 - val_recall_12: 0.3131 - val_f1_score: 0.3530 - 21s/epoch - 2s/step\n",
      "Epoch 13/50\n",
      "13/13 - 21s - loss: 1.4239 - accuracy: 0.6566 - auc_12: 0.8925 - precision_12: 0.7551 - recall_12: 0.5606 - f1_score: 0.6082 - val_loss: 1.3077 - val_accuracy: 0.4848 - val_auc_12: 0.7420 - val_precision_12: 0.6061 - val_recall_12: 0.4040 - val_f1_score: 0.3936 - 21s/epoch - 2s/step\n",
      "Epoch 14/50\n",
      "13/13 - 21s - loss: 1.4054 - accuracy: 0.6768 - auc_12: 0.9037 - precision_12: 0.7641 - recall_12: 0.5808 - f1_score: 0.6380 - val_loss: 1.5433 - val_accuracy: 0.3636 - val_auc_12: 0.6524 - val_precision_12: 0.4032 - val_recall_12: 0.2525 - val_f1_score: 0.3168 - 21s/epoch - 2s/step\n",
      "Epoch 15/50\n",
      "13/13 - 21s - loss: 1.2004 - accuracy: 0.6995 - auc_12: 0.9136 - precision_12: 0.7833 - recall_12: 0.5934 - f1_score: 0.6656 - val_loss: 1.4117 - val_accuracy: 0.4545 - val_auc_12: 0.7389 - val_precision_12: 0.4937 - val_recall_12: 0.3939 - val_f1_score: 0.3582 - 21s/epoch - 2s/step\n",
      "Epoch 16/50\n",
      "13/13 - 21s - loss: 1.2247 - accuracy: 0.6869 - auc_12: 0.9102 - precision_12: 0.7448 - recall_12: 0.6338 - f1_score: 0.6562 - val_loss: 1.4879 - val_accuracy: 0.5051 - val_auc_12: 0.7358 - val_precision_12: 0.4943 - val_recall_12: 0.4343 - val_f1_score: 0.4241 - 21s/epoch - 2s/step\n",
      "Epoch 17/50\n",
      "13/13 - 21s - loss: 1.1525 - accuracy: 0.7197 - auc_12: 0.9236 - precision_12: 0.7690 - recall_12: 0.6641 - f1_score: 0.7026 - val_loss: 1.4441 - val_accuracy: 0.4545 - val_auc_12: 0.7376 - val_precision_12: 0.4699 - val_recall_12: 0.3939 - val_f1_score: 0.3639 - 21s/epoch - 2s/step\n"
     ]
    }
   ],
   "source": [
    "body_X_train, body_X_val = body_X[train_index], body_X[val_index]\n",
    "face_X_train, face_X_val = face_X[train_index], face_X[val_index]\n",
    "y_train, y_val = y[train_index], y[val_index]\n",
    "late_biLSTM = build_fusioned_biLSTM(body_features, face_features, n_length, body_outputs)\n",
    "history = train_fusioned(late_biLSTM, body_X_train, face_X_train, y_train, body_X_val, face_X_val, y_val, epochs=epochs, batch_size=32, class_weight=class_weight)"
   ]
  },
  {
   "cell_type": "markdown",
   "metadata": {},
   "source": [
    "### CNN+LSTM (concatenate decision layer)"
   ]
  },
  {
   "cell_type": "code",
   "execution_count": 65,
   "metadata": {},
   "outputs": [],
   "source": [
    "def build_fusioned_CNN(body_features, face_features, n_length, n_outputs):\n",
    "    input_1 = Input(shape=(1, n_length, body_features))\n",
    "    conv1d_1 = TimeDistributed(Conv1D(filters=64, kernel_size=3, activation='tanh', kernel_initializer='he_uniform'))(input_1)\n",
    "    conv1d_11 = TimeDistributed(Conv1D(filters=64, kernel_size=3, activation='tanh', kernel_initializer='he_uniform'))(conv1d_1)\n",
    "    maxpool_1 = TimeDistributed(MaxPooling1D(pool_size=2, data_format='channels_first'))(conv1d_11)\n",
    "    conv1d_111 = TimeDistributed(Conv1D(filters=64, kernel_size=3, activation='tanh', kernel_initializer='he_uniform'))(maxpool_1)\n",
    "    conv1d_1111 = TimeDistributed(Conv1D(filters=64, kernel_size=3, activation='tanh', kernel_initializer='he_uniform'))(conv1d_111)\n",
    "    maxpool_11 = TimeDistributed(MaxPooling1D(pool_size=2, data_format='channels_first'))(conv1d_1111)\n",
    "    flatten_1 = TimeDistributed(Flatten())(maxpool_11)\n",
    "    lstm_1 = LSTM(100, return_sequences=True)(flatten_1)\n",
    "    lstm_11 = LSTM(100)(lstm_1)\n",
    "    dense_1 = Dense(100, activation='tanh')(lstm_11)\n",
    "    dense_11 = Dense(100, activation='tanh')(dense_1)\n",
    "\n",
    "    input_2 = Input(shape=(1, n_length, face_features))\n",
    "    conv1d_2 = TimeDistributed(Conv1D(filters=250, kernel_size=5, activation='relu', kernel_initializer='glorot_normal'))(input_2)\n",
    "    conv1d_22 = TimeDistributed(Conv1D(filters=250, kernel_size=5, activation='relu', kernel_initializer='glorot_normal'))(conv1d_2)\n",
    "    maxpool_2 = TimeDistributed(MaxPooling1D(pool_size=2, data_format='channels_first'))(conv1d_22)\n",
    "    conv1d_222 = TimeDistributed(Conv1D(filters=250, kernel_size=5, activation='relu', kernel_initializer='glorot_normal'))(maxpool_2)\n",
    "    conv1d_2222 = TimeDistributed(Conv1D(filters=250, kernel_size=5, activation='relu', kernel_initializer='glorot_normal'))(conv1d_222)\n",
    "    maxpool_22 = TimeDistributed(MaxPooling1D(pool_size=2, data_format='channels_first'))(conv1d_2222)\n",
    "    flatten_2 = TimeDistributed(Flatten())(maxpool_22)\n",
    "    lstm_2 = LSTM(250, return_sequences=True)(flatten_2)\n",
    "    lstm_22 = LSTM(250)(lstm_2)\n",
    "    dense_2 = Dense(250, activation='relu')(lstm_22)\n",
    "    dense_22 = Dense(250, activation='relu')(dense_2)\n",
    "\n",
    "    concat = Concatenate()([dense_11, dense_22])\n",
    "    output = Dense(units=n_outputs, activation='softmax')(concat)\n",
    "    model = Model(inputs=[input_1, input_2], outputs=[output])\n",
    "    model.compile(loss='categorical_crossentropy', optimizer=tf.keras.optimizers.RMSprop(learning_rate=0.0001), metrics=['accuracy', tf.keras.metrics.AUC(), tf.keras.metrics.Precision(), tf.keras.metrics.Recall(), tfa.metrics.F1Score(num_classes=n_outputs, average='macro')])\n",
    "    return model"
   ]
  },
  {
   "cell_type": "code",
   "execution_count": 66,
   "metadata": {},
   "outputs": [
    {
     "name": "stdout",
     "output_type": "stream",
     "text": [
      "Epoch 1/50\n",
      "4/4 - 12s - loss: 2.7644 - accuracy: 0.3712 - auc_13: 0.6045 - precision_13: 0.0000e+00 - recall_13: 0.0000e+00 - f1_score: 0.2209 - val_loss: 1.3572 - val_accuracy: 0.4343 - val_auc_13: 0.6675 - val_precision_13: 0.0000e+00 - val_recall_13: 0.0000e+00 - val_f1_score: 0.2381 - 12s/epoch - 3s/step\n",
      "Epoch 2/50\n",
      "4/4 - 5s - loss: 2.7499 - accuracy: 0.3712 - auc_13: 0.6571 - precision_13: 0.0000e+00 - recall_13: 0.0000e+00 - f1_score: 0.1993 - val_loss: 1.3652 - val_accuracy: 0.3232 - val_auc_13: 0.6134 - val_precision_13: 0.0000e+00 - val_recall_13: 0.0000e+00 - val_f1_score: 0.1929 - 5s/epoch - 1s/step\n",
      "Epoch 3/50\n",
      "4/4 - 5s - loss: 2.7304 - accuracy: 0.2854 - auc_13: 0.6188 - precision_13: 0.0000e+00 - recall_13: 0.0000e+00 - f1_score: 0.2437 - val_loss: 1.3335 - val_accuracy: 0.3838 - val_auc_13: 0.6578 - val_precision_13: 0.0000e+00 - val_recall_13: 0.0000e+00 - val_f1_score: 0.2237 - 5s/epoch - 1s/step\n",
      "Epoch 4/50\n",
      "4/4 - 5s - loss: 2.7044 - accuracy: 0.2778 - auc_13: 0.6059 - precision_13: 0.0000e+00 - recall_13: 0.0000e+00 - f1_score: 0.2361 - val_loss: 1.3323 - val_accuracy: 0.2727 - val_auc_13: 0.6168 - val_precision_13: 0.0000e+00 - val_recall_13: 0.0000e+00 - val_f1_score: 0.2493 - 5s/epoch - 1s/step\n",
      "Epoch 5/50\n",
      "4/4 - 5s - loss: 2.6395 - accuracy: 0.3106 - auc_13: 0.6284 - precision_13: 0.0000e+00 - recall_13: 0.0000e+00 - f1_score: 0.2951 - val_loss: 1.3982 - val_accuracy: 0.1313 - val_auc_13: 0.5724 - val_precision_13: 0.0000e+00 - val_recall_13: 0.0000e+00 - val_f1_score: 0.0586 - 5s/epoch - 1s/step\n",
      "Epoch 6/50\n",
      "4/4 - 5s - loss: 2.6198 - accuracy: 0.2247 - auc_13: 0.5810 - precision_13: 0.0000e+00 - recall_13: 0.0000e+00 - f1_score: 0.2326 - val_loss: 1.2823 - val_accuracy: 0.3838 - val_auc_13: 0.6643 - val_precision_13: 0.0000e+00 - val_recall_13: 0.0000e+00 - val_f1_score: 0.2460 - 5s/epoch - 1s/step\n",
      "Epoch 7/50\n",
      "4/4 - 5s - loss: 2.6145 - accuracy: 0.3359 - auc_13: 0.6560 - precision_13: 0.0000e+00 - recall_13: 0.0000e+00 - f1_score: 0.3105 - val_loss: 1.2165 - val_accuracy: 0.4545 - val_auc_13: 0.7526 - val_precision_13: 1.0000 - val_recall_13: 0.0101 - val_f1_score: 0.3641 - 5s/epoch - 1s/step\n",
      "Epoch 8/50\n",
      "4/4 - 5s - loss: 2.5471 - accuracy: 0.3687 - auc_13: 0.7143 - precision_13: 1.0000 - recall_13: 0.0025 - f1_score: 0.3253 - val_loss: 1.2340 - val_accuracy: 0.4444 - val_auc_13: 0.7184 - val_precision_13: 0.7000 - val_recall_13: 0.0707 - val_f1_score: 0.3499 - 5s/epoch - 1s/step\n",
      "Epoch 9/50\n",
      "4/4 - 5s - loss: 2.4739 - accuracy: 0.3889 - auc_13: 0.7340 - precision_13: 0.6250 - recall_13: 0.0126 - f1_score: 0.3685 - val_loss: 1.1997 - val_accuracy: 0.4242 - val_auc_13: 0.7414 - val_precision_13: 0.6923 - val_recall_13: 0.0909 - val_f1_score: 0.2930 - 5s/epoch - 1s/step\n",
      "Epoch 10/50\n",
      "4/4 - 5s - loss: 2.4368 - accuracy: 0.3965 - auc_13: 0.7425 - precision_13: 0.8182 - recall_13: 0.0455 - f1_score: 0.3707 - val_loss: 1.3594 - val_accuracy: 0.2626 - val_auc_13: 0.5750 - val_precision_13: 0.3333 - val_recall_13: 0.0101 - val_f1_score: 0.2189 - 5s/epoch - 1s/step\n",
      "Epoch 11/50\n",
      "4/4 - 5s - loss: 2.4090 - accuracy: 0.3889 - auc_13: 0.6957 - precision_13: 0.6875 - recall_13: 0.0278 - f1_score: 0.3616 - val_loss: 1.3422 - val_accuracy: 0.2626 - val_auc_13: 0.6214 - val_precision_13: 0.0714 - val_recall_13: 0.0101 - val_f1_score: 0.2435 - 5s/epoch - 1s/step\n",
      "Epoch 12/50\n",
      "4/4 - 5s - loss: 2.4208 - accuracy: 0.3737 - auc_13: 0.6907 - precision_13: 0.5143 - recall_13: 0.0455 - f1_score: 0.3627 - val_loss: 1.1731 - val_accuracy: 0.4545 - val_auc_13: 0.7517 - val_precision_13: 0.7895 - val_recall_13: 0.1515 - val_f1_score: 0.3443 - 5s/epoch - 1s/step\n",
      "Epoch 13/50\n",
      "4/4 - 5s - loss: 2.3243 - accuracy: 0.4874 - auc_13: 0.7854 - precision_13: 0.8125 - recall_13: 0.0657 - f1_score: 0.4483 - val_loss: 1.1984 - val_accuracy: 0.3939 - val_auc_13: 0.7277 - val_precision_13: 0.7619 - val_recall_13: 0.1616 - val_f1_score: 0.3183 - 5s/epoch - 1s/step\n",
      "Epoch 14/50\n",
      "4/4 - 5s - loss: 2.2705 - accuracy: 0.4571 - auc_13: 0.7647 - precision_13: 0.6964 - recall_13: 0.0985 - f1_score: 0.4302 - val_loss: 1.2947 - val_accuracy: 0.3434 - val_auc_13: 0.6660 - val_precision_13: 0.4231 - val_recall_13: 0.1111 - val_f1_score: 0.3066 - 5s/epoch - 1s/step\n",
      "Epoch 15/50\n",
      "4/4 - 5s - loss: 2.2271 - accuracy: 0.4495 - auc_13: 0.7527 - precision_13: 0.7042 - recall_13: 0.1263 - f1_score: 0.4250 - val_loss: 1.2430 - val_accuracy: 0.4141 - val_auc_13: 0.6949 - val_precision_13: 0.4545 - val_recall_13: 0.0505 - val_f1_score: 0.3856 - 5s/epoch - 1s/step\n",
      "Epoch 16/50\n",
      "4/4 - 5s - loss: 2.1624 - accuracy: 0.5000 - auc_13: 0.7693 - precision_13: 0.7541 - recall_13: 0.1162 - f1_score: 0.4759 - val_loss: 1.1950 - val_accuracy: 0.4343 - val_auc_13: 0.7144 - val_precision_13: 0.6800 - val_recall_13: 0.1717 - val_f1_score: 0.3464 - 5s/epoch - 1s/step\n",
      "Epoch 17/50\n",
      "4/4 - 5s - loss: 2.1338 - accuracy: 0.4899 - auc_13: 0.7965 - precision_13: 0.7568 - recall_13: 0.1414 - f1_score: 0.4688 - val_loss: 1.3059 - val_accuracy: 0.3232 - val_auc_13: 0.6448 - val_precision_13: 0.3846 - val_recall_13: 0.0505 - val_f1_score: 0.2504 - 5s/epoch - 1s/step\n",
      "Epoch 18/50\n",
      "4/4 - 5s - loss: 2.0669 - accuracy: 0.5227 - auc_13: 0.7987 - precision_13: 0.7079 - recall_13: 0.1591 - f1_score: 0.5188 - val_loss: 1.2230 - val_accuracy: 0.3434 - val_auc_13: 0.7083 - val_precision_13: 0.6154 - val_recall_13: 0.1616 - val_f1_score: 0.2853 - 5s/epoch - 1s/step\n",
      "Epoch 19/50\n",
      "4/4 - 5s - loss: 1.9741 - accuracy: 0.5606 - auc_13: 0.8145 - precision_13: 0.7477 - recall_13: 0.2020 - f1_score: 0.5252 - val_loss: 1.1643 - val_accuracy: 0.4141 - val_auc_13: 0.7397 - val_precision_13: 0.6774 - val_recall_13: 0.2121 - val_f1_score: 0.3112 - 5s/epoch - 1s/step\n",
      "Epoch 20/50\n",
      "4/4 - 5s - loss: 1.9037 - accuracy: 0.5833 - auc_13: 0.8408 - precision_13: 0.7698 - recall_13: 0.2449 - f1_score: 0.5547 - val_loss: 1.1584 - val_accuracy: 0.4545 - val_auc_13: 0.7424 - val_precision_13: 0.6500 - val_recall_13: 0.2626 - val_f1_score: 0.3331 - 5s/epoch - 1s/step\n",
      "Epoch 21/50\n",
      "4/4 - 5s - loss: 2.0891 - accuracy: 0.5253 - auc_13: 0.8049 - precision_13: 0.7040 - recall_13: 0.2222 - f1_score: 0.4964 - val_loss: 1.1941 - val_accuracy: 0.3939 - val_auc_13: 0.7281 - val_precision_13: 0.5745 - val_recall_13: 0.2727 - val_f1_score: 0.2934 - 5s/epoch - 1s/step\n",
      "Epoch 22/50\n",
      "4/4 - 5s - loss: 1.8946 - accuracy: 0.5707 - auc_13: 0.8281 - precision_13: 0.6759 - recall_13: 0.2475 - f1_score: 0.5444 - val_loss: 1.1598 - val_accuracy: 0.4040 - val_auc_13: 0.7491 - val_precision_13: 0.6170 - val_recall_13: 0.2929 - val_f1_score: 0.3166 - 5s/epoch - 1s/step\n",
      "Epoch 23/50\n",
      "4/4 - 5s - loss: 1.8594 - accuracy: 0.5505 - auc_13: 0.8270 - precision_13: 0.6781 - recall_13: 0.2500 - f1_score: 0.5385 - val_loss: 1.1617 - val_accuracy: 0.4444 - val_auc_13: 0.7500 - val_precision_13: 0.6250 - val_recall_13: 0.2020 - val_f1_score: 0.3448 - 5s/epoch - 1s/step\n",
      "Epoch 24/50\n",
      "4/4 - 5s - loss: 1.7853 - accuracy: 0.6086 - auc_13: 0.8540 - precision_13: 0.7342 - recall_13: 0.2929 - f1_score: 0.5911 - val_loss: 1.1964 - val_accuracy: 0.3737 - val_auc_13: 0.7341 - val_precision_13: 0.3971 - val_recall_13: 0.2727 - val_f1_score: 0.2640 - 5s/epoch - 1s/step\n",
      "Epoch 25/50\n",
      "4/4 - 5s - loss: 1.9386 - accuracy: 0.5707 - auc_13: 0.8445 - precision_13: 0.6631 - recall_13: 0.3131 - f1_score: 0.5438 - val_loss: 1.2060 - val_accuracy: 0.4343 - val_auc_13: 0.7325 - val_precision_13: 0.4902 - val_recall_13: 0.2525 - val_f1_score: 0.3374 - 5s/epoch - 1s/step\n",
      "Epoch 26/50\n",
      "4/4 - 5s - loss: 1.7070 - accuracy: 0.6187 - auc_13: 0.8622 - precision_13: 0.7627 - recall_13: 0.3409 - f1_score: 0.6075 - val_loss: 1.2525 - val_accuracy: 0.3636 - val_auc_13: 0.7000 - val_precision_13: 0.4762 - val_recall_13: 0.2020 - val_f1_score: 0.3014 - 5s/epoch - 1s/step\n",
      "Epoch 27/50\n",
      "4/4 - 5s - loss: 1.6019 - accuracy: 0.6566 - auc_13: 0.8823 - precision_13: 0.7701 - recall_13: 0.3384 - f1_score: 0.6501 - val_loss: 1.2358 - val_accuracy: 0.3434 - val_auc_13: 0.7180 - val_precision_13: 0.3793 - val_recall_13: 0.2222 - val_f1_score: 0.3012 - 5s/epoch - 1s/step\n",
      "Epoch 28/50\n",
      "4/4 - 5s - loss: 1.5910 - accuracy: 0.6540 - auc_13: 0.8792 - precision_13: 0.7512 - recall_13: 0.3965 - f1_score: 0.6751 - val_loss: 1.2509 - val_accuracy: 0.4040 - val_auc_13: 0.7021 - val_precision_13: 0.5366 - val_recall_13: 0.2222 - val_f1_score: 0.3479 - 5s/epoch - 1s/step\n",
      "Epoch 29/50\n",
      "4/4 - 5s - loss: 1.5862 - accuracy: 0.6288 - auc_13: 0.8749 - precision_13: 0.7079 - recall_13: 0.3611 - f1_score: 0.6332 - val_loss: 1.2350 - val_accuracy: 0.4141 - val_auc_13: 0.7267 - val_precision_13: 0.4576 - val_recall_13: 0.2727 - val_f1_score: 0.3403 - 5s/epoch - 1s/step\n",
      "Epoch 30/50\n",
      "4/4 - 5s - loss: 1.5511 - accuracy: 0.6540 - auc_13: 0.8868 - precision_13: 0.7178 - recall_13: 0.4369 - f1_score: 0.6687 - val_loss: 1.1925 - val_accuracy: 0.3939 - val_auc_13: 0.7360 - val_precision_13: 0.5319 - val_recall_13: 0.2525 - val_f1_score: 0.3125 - 5s/epoch - 1s/step\n"
     ]
    }
   ],
   "source": [
    "body_X_train, body_X_val = body_X[train_index], body_X[val_index]\n",
    "face_X_train, face_X_val = face_X[train_index], face_X[val_index]\n",
    "y_train, y_val = y[train_index], y[val_index]\n",
    "late_cnn = build_fusioned_CNN(body_features, face_features, n_length, body_outputs)\n",
    "history = train_fusioned(late_cnn, body_X_train, face_X_train, y_train, body_X_val, face_X_val, y_val, epochs=epochs, batch_size=128, class_weight=class_weight)"
   ]
  },
  {
   "cell_type": "markdown",
   "metadata": {},
   "source": [
    "### ConvLSTM (concatenate decision layer)"
   ]
  },
  {
   "cell_type": "code",
   "execution_count": 67,
   "metadata": {},
   "outputs": [],
   "source": [
    "def build_fusioned_convLSTM(body_features, face_features, n_length, n_outputs):\n",
    "    input_1 = Input(shape=(1, n_length, body_features))\n",
    "    convlstm_1 = ConvLSTM1D(filters=250, kernel_size=(5), activation='relu', return_sequences=True, kernel_initializer='glorot_uniform')(input_1)\n",
    "    convlstm_11 = ConvLSTM1D(filters=250, kernel_size=(5), activation='relu', kernel_initializer='glorot_uniform')(convlstm_1)\n",
    "    flatten_1 = Flatten()(convlstm_11)\n",
    "    dense_1 = Dense(250, activation='relu')(flatten_1)\n",
    "    dense_11 = Dense(250, activation='relu')(dense_1)\n",
    "\n",
    "    input_2 = Input(shape=(1, n_length, face_features))\n",
    "    convlstm_2 = ConvLSTM1D(filters=250, kernel_size=(5), activation='relu', return_sequences=True, kernel_initializer='he_uniform')(input_2)\n",
    "    convlstm_22 = ConvLSTM1D(filters=250, kernel_size=(5), activation='relu', kernel_initializer='he_uniform')(convlstm_2)\n",
    "    flatten_2 = Flatten()(convlstm_22)\n",
    "    dense_2 = Dense(250, activation='relu')(flatten_2)\n",
    "    dense_22 = Dense(250, activation='relu')(dense_2)\n",
    "\n",
    "    concat = Concatenate()([dense_11, dense_22])\n",
    "    output = Dense(units=n_outputs, activation='softmax')(concat)\n",
    "    model = Model(inputs=[input_1, input_2], outputs=[output])\n",
    "    model.compile(loss='categorical_crossentropy', optimizer=tf.keras.optimizers.Adam(learning_rate=0.0001), metrics=['accuracy', tf.keras.metrics.AUC(), tf.keras.metrics.Precision(), tf.keras.metrics.Recall(), tfa.metrics.F1Score(num_classes=n_outputs, average='macro')])\n",
    "    return model"
   ]
  },
  {
   "cell_type": "code",
   "execution_count": 68,
   "metadata": {},
   "outputs": [
    {
     "name": "stdout",
     "output_type": "stream",
     "text": [
      "Epoch 1/50\n",
      "7/7 - 34s - loss: 9.9612 - accuracy: 0.2273 - auc_14: 0.4884 - precision_14: 0.2197 - recall_14: 0.1970 - f1_score: 0.1964 - val_loss: 1.5695 - val_accuracy: 0.3838 - val_auc_14: 0.6706 - val_precision_14: 0.4474 - val_recall_14: 0.1717 - val_f1_score: 0.2513 - 34s/epoch - 5s/step\n",
      "Epoch 2/50\n",
      "7/7 - 25s - loss: 3.4643 - accuracy: 0.3460 - auc_14: 0.6294 - precision_14: 0.3981 - recall_14: 0.1086 - f1_score: 0.2674 - val_loss: 1.4628 - val_accuracy: 0.2626 - val_auc_14: 0.5056 - val_precision_14: 0.3158 - val_recall_14: 0.0606 - val_f1_score: 0.2282 - 25s/epoch - 4s/step\n",
      "Epoch 3/50\n",
      "7/7 - 25s - loss: 2.6177 - accuracy: 0.2727 - auc_14: 0.5516 - precision_14: 0.4242 - recall_14: 0.0707 - f1_score: 0.2628 - val_loss: 1.3807 - val_accuracy: 0.2828 - val_auc_14: 0.5713 - val_precision_14: 0.2353 - val_recall_14: 0.0404 - val_f1_score: 0.2230 - 25s/epoch - 4s/step\n",
      "Epoch 4/50\n",
      "7/7 - 25s - loss: 2.3382 - accuracy: 0.4444 - auc_14: 0.7065 - precision_14: 0.6824 - recall_14: 0.1465 - f1_score: 0.3970 - val_loss: 1.1787 - val_accuracy: 0.4545 - val_auc_14: 0.7274 - val_precision_14: 0.6452 - val_recall_14: 0.2020 - val_f1_score: 0.3090 - 25s/epoch - 4s/step\n",
      "Epoch 5/50\n",
      "7/7 - 25s - loss: 2.1137 - accuracy: 0.5530 - auc_14: 0.8177 - precision_14: 0.8000 - recall_14: 0.2626 - f1_score: 0.4888 - val_loss: 1.5239 - val_accuracy: 0.2727 - val_auc_14: 0.5443 - val_precision_14: 0.3056 - val_recall_14: 0.1111 - val_f1_score: 0.2623 - 25s/epoch - 4s/step\n",
      "Epoch 6/50\n",
      "7/7 - 25s - loss: 2.0139 - accuracy: 0.4672 - auc_14: 0.7283 - precision_14: 0.6477 - recall_14: 0.3157 - f1_score: 0.4470 - val_loss: 1.2200 - val_accuracy: 0.4646 - val_auc_14: 0.7357 - val_precision_14: 0.5600 - val_recall_14: 0.2828 - val_f1_score: 0.3452 - 25s/epoch - 4s/step\n",
      "Epoch 7/50\n",
      "7/7 - 25s - loss: 1.9119 - accuracy: 0.5606 - auc_14: 0.8429 - precision_14: 0.6913 - recall_14: 0.4015 - f1_score: 0.5089 - val_loss: 1.3903 - val_accuracy: 0.3939 - val_auc_14: 0.6444 - val_precision_14: 0.5000 - val_recall_14: 0.1818 - val_f1_score: 0.3135 - 25s/epoch - 4s/step\n",
      "Epoch 8/50\n",
      "7/7 - 25s - loss: 1.8170 - accuracy: 0.5404 - auc_14: 0.8117 - precision_14: 0.6712 - recall_14: 0.3763 - f1_score: 0.5044 - val_loss: 1.3321 - val_accuracy: 0.4242 - val_auc_14: 0.7103 - val_precision_14: 0.4918 - val_recall_14: 0.3030 - val_f1_score: 0.3471 - 25s/epoch - 4s/step\n",
      "Epoch 9/50\n",
      "7/7 - 25s - loss: 1.6641 - accuracy: 0.6566 - auc_14: 0.8635 - precision_14: 0.7809 - recall_14: 0.4949 - f1_score: 0.6255 - val_loss: 1.4152 - val_accuracy: 0.3434 - val_auc_14: 0.6547 - val_precision_14: 0.4902 - val_recall_14: 0.2525 - val_f1_score: 0.2988 - 25s/epoch - 4s/step\n",
      "Epoch 10/50\n",
      "7/7 - 25s - loss: 1.7793 - accuracy: 0.5758 - auc_14: 0.8069 - precision_14: 0.7143 - recall_14: 0.3914 - f1_score: 0.5439 - val_loss: 1.3296 - val_accuracy: 0.4747 - val_auc_14: 0.7041 - val_precision_14: 0.4717 - val_recall_14: 0.2525 - val_f1_score: 0.3918 - 25s/epoch - 4s/step\n",
      "Epoch 11/50\n",
      "7/7 - 25s - loss: 1.8576 - accuracy: 0.5960 - auc_14: 0.8461 - precision_14: 0.7342 - recall_14: 0.4116 - f1_score: 0.5544 - val_loss: 1.4832 - val_accuracy: 0.3434 - val_auc_14: 0.6559 - val_precision_14: 0.3654 - val_recall_14: 0.1919 - val_f1_score: 0.2974 - 25s/epoch - 4s/step\n",
      "Epoch 12/50\n",
      "7/7 - 25s - loss: 1.7062 - accuracy: 0.5076 - auc_14: 0.8279 - precision_14: 0.6568 - recall_14: 0.3914 - f1_score: 0.4902 - val_loss: 1.4167 - val_accuracy: 0.4343 - val_auc_14: 0.7006 - val_precision_14: 0.5079 - val_recall_14: 0.3232 - val_f1_score: 0.3604 - 25s/epoch - 4s/step\n",
      "Epoch 13/50\n",
      "7/7 - 25s - loss: 1.6434 - accuracy: 0.6338 - auc_14: 0.8706 - precision_14: 0.7429 - recall_14: 0.4596 - f1_score: 0.5885 - val_loss: 1.7191 - val_accuracy: 0.4040 - val_auc_14: 0.6385 - val_precision_14: 0.4603 - val_recall_14: 0.2929 - val_f1_score: 0.3464 - 25s/epoch - 4s/step\n",
      "Epoch 14/50\n",
      "7/7 - 25s - loss: 1.6332 - accuracy: 0.6010 - auc_14: 0.8578 - precision_14: 0.6923 - recall_14: 0.5000 - f1_score: 0.5518 - val_loss: 1.6042 - val_accuracy: 0.3939 - val_auc_14: 0.6716 - val_precision_14: 0.4308 - val_recall_14: 0.2828 - val_f1_score: 0.3134 - 25s/epoch - 4s/step\n"
     ]
    }
   ],
   "source": [
    "body_X_train, body_X_val = body_X[train_index], body_X[val_index]\n",
    "face_X_train, face_X_val = face_X[train_index], face_X[val_index]\n",
    "y_train, y_val = y[train_index], y[val_index]\n",
    "late_convLSTM = build_fusioned_convLSTM(body_features, face_features, n_length, body_outputs)\n",
    "history = train_fusioned(late_convLSTM, body_X_train, face_X_train, y_train, body_X_val, face_X_val, y_val, epochs=epochs, batch_size=64, class_weight=class_weight)"
   ]
  },
  {
   "cell_type": "markdown",
   "metadata": {},
   "source": [
    "### RCNN (concatenate decision layer)"
   ]
  },
  {
   "cell_type": "code",
   "execution_count": 69,
   "metadata": {},
   "outputs": [],
   "source": [
    "def build_fusioned_RCNN(body_features, face_features, n_length, n_outputs):\n",
    "   input_1 = Input(shape=(1, n_length, body_features))\n",
    "   conv1d_1 = TimeDistributed(Conv1D(filters=250, kernel_size=5, activation=PReLU(alpha_initializer=Constant(value=0.25)), kernel_initializer='glorot_normal'))(input_1)\n",
    "   bn_1 = TimeDistributed(BatchNormalization())(conv1d_1)\n",
    "   maxpool_1 = TimeDistributed(MaxPooling1D(pool_size=2, data_format='channels_first'))(bn_1)\n",
    "   conv1d_11 = TimeDistributed(Conv1D(filters=250, kernel_size=5, activation=PReLU(alpha_initializer=Constant(value=0.25)), kernel_initializer='glorot_normal'))(maxpool_1)\n",
    "   bn_11 = TimeDistributed(BatchNormalization())(conv1d_11)\n",
    "   maxpool_11 = TimeDistributed(MaxPooling1D(pool_size=2, data_format='channels_first'))(bn_11)\n",
    "   flatten_1 = Flatten()(maxpool_11)\n",
    "   dense_1 = Dense(256, activation='relu')(flatten_1)\n",
    "   dense_11 = Dense(256, activation='relu')(dense_1)\n",
    "\n",
    "   input_2 = Input(shape=(1, n_length, face_features))\n",
    "   conv1d_2 = TimeDistributed(Conv1D(filters=250, kernel_size=5, activation=PReLU(alpha_initializer=Constant(value=0.25)), kernel_initializer='glorot_normal'))(input_2)\n",
    "   bn_2 = TimeDistributed(BatchNormalization())(conv1d_2)\n",
    "   maxpool_2 = TimeDistributed(MaxPooling1D(pool_size=2, data_format='channels_first'))(bn_2)\n",
    "   conv1d_22 = TimeDistributed(Conv1D(filters=250, kernel_size=5, activation=PReLU(alpha_initializer=Constant(value=0.25)), kernel_initializer='glorot_normal'))(maxpool_2)\n",
    "   bn_22 = TimeDistributed(BatchNormalization())(conv1d_22)\n",
    "   maxpool_22 = TimeDistributed(MaxPooling1D(pool_size=2, data_format='channels_first'))(bn_22)\n",
    "   flatten_2 = Flatten()(maxpool_22)\n",
    "   dense_2 = Dense(256, activation='tanh')(flatten_2)\n",
    "   dense_22 = Dense(256, activation='tanh')(dense_2)\n",
    "\n",
    "   concat = Concatenate()([dense_11, dense_22])\n",
    "   output = Dense(units=n_outputs, activation='softmax')(concat)\n",
    "   model = Model(inputs=[input_1, input_2], outputs=[output])\n",
    "   model.compile(loss='categorical_crossentropy', optimizer=tf.keras.optimizers.RMSprop(learning_rate=0.001), metrics=['accuracy', tf.keras.metrics.AUC(), tf.keras.metrics.Precision(), tf.keras.metrics.Recall(), tfa.metrics.F1Score(num_classes=n_outputs, average='macro')])\n",
    "   return model"
   ]
  },
  {
   "cell_type": "code",
   "execution_count": 70,
   "metadata": {},
   "outputs": [
    {
     "name": "stdout",
     "output_type": "stream",
     "text": [
      "Epoch 1/50\n",
      "4/4 - 10s - loss: 81.9631 - accuracy: 0.2803 - auc_15: 0.5345 - precision_15: 0.3000 - recall_15: 0.2348 - f1_score: 0.2335 - val_loss: 197.8969 - val_accuracy: 0.5253 - val_auc_15: 0.6835 - val_precision_15: 0.5253 - val_recall_15: 0.5253 - val_f1_score: 0.1722 - 10s/epoch - 3s/step\n",
      "Epoch 2/50\n",
      "4/4 - 5s - loss: 31.5954 - accuracy: 0.2803 - auc_15: 0.5308 - precision_15: 0.2803 - recall_15: 0.2803 - f1_score: 0.2415 - val_loss: 122.8204 - val_accuracy: 0.1515 - val_auc_15: 0.4370 - val_precision_15: 0.1515 - val_recall_15: 0.1515 - val_f1_score: 0.1094 - 5s/epoch - 1s/step\n",
      "Epoch 3/50\n",
      "4/4 - 5s - loss: 18.2768 - accuracy: 0.2626 - auc_15: 0.5228 - precision_15: 0.2621 - recall_15: 0.2601 - f1_score: 0.2285 - val_loss: 318.3914 - val_accuracy: 0.0707 - val_auc_15: 0.3805 - val_precision_15: 0.0707 - val_recall_15: 0.0707 - val_f1_score: 0.0333 - 5s/epoch - 1s/step\n",
      "Epoch 4/50\n",
      "4/4 - 5s - loss: 13.0919 - accuracy: 0.3005 - auc_15: 0.5499 - precision_15: 0.2961 - recall_15: 0.2879 - f1_score: 0.2797 - val_loss: 56.4418 - val_accuracy: 0.3939 - val_auc_15: 0.6142 - val_precision_15: 0.3939 - val_recall_15: 0.3939 - val_f1_score: 0.1455 - 5s/epoch - 1s/step\n",
      "Epoch 5/50\n",
      "4/4 - 5s - loss: 9.1273 - accuracy: 0.3788 - auc_15: 0.6223 - precision_15: 0.3890 - recall_15: 0.3763 - f1_score: 0.3228 - val_loss: 221.8421 - val_accuracy: 0.0707 - val_auc_15: 0.3805 - val_precision_15: 0.0707 - val_recall_15: 0.0707 - val_f1_score: 0.0330 - 5s/epoch - 1s/step\n",
      "Epoch 6/50\n",
      "4/4 - 5s - loss: 5.4249 - accuracy: 0.4091 - auc_15: 0.6604 - precision_15: 0.4176 - recall_15: 0.3965 - f1_score: 0.3903 - val_loss: 30.1669 - val_accuracy: 0.5152 - val_auc_15: 0.6819 - val_precision_15: 0.5152 - val_recall_15: 0.5152 - val_f1_score: 0.1700 - 5s/epoch - 1s/step\n",
      "Epoch 7/50\n",
      "4/4 - 5s - loss: 5.8536 - accuracy: 0.4318 - auc_15: 0.6768 - precision_15: 0.4415 - recall_15: 0.4192 - f1_score: 0.3793 - val_loss: 16.4946 - val_accuracy: 0.5152 - val_auc_15: 0.6819 - val_precision_15: 0.5152 - val_recall_15: 0.5152 - val_f1_score: 0.1700 - 5s/epoch - 1s/step\n",
      "Epoch 8/50\n",
      "4/4 - 5s - loss: 5.2584 - accuracy: 0.4444 - auc_15: 0.6881 - precision_15: 0.4562 - recall_15: 0.4343 - f1_score: 0.3979 - val_loss: 56.0802 - val_accuracy: 0.5253 - val_auc_15: 0.6835 - val_precision_15: 0.5253 - val_recall_15: 0.5253 - val_f1_score: 0.1722 - 5s/epoch - 1s/step\n",
      "Epoch 9/50\n",
      "4/4 - 5s - loss: 4.4475 - accuracy: 0.4747 - auc_15: 0.7379 - precision_15: 0.4834 - recall_15: 0.4419 - f1_score: 0.4284 - val_loss: 70.4085 - val_accuracy: 0.1313 - val_auc_15: 0.4209 - val_precision_15: 0.1313 - val_recall_15: 0.1313 - val_f1_score: 0.0580 - 5s/epoch - 1s/step\n",
      "Epoch 10/50\n",
      "4/4 - 5s - loss: 3.6983 - accuracy: 0.4747 - auc_15: 0.7245 - precision_15: 0.4888 - recall_15: 0.4419 - f1_score: 0.4365 - val_loss: 22.4320 - val_accuracy: 0.2525 - val_auc_15: 0.5390 - val_precision_15: 0.2525 - val_recall_15: 0.2525 - val_f1_score: 0.1392 - 5s/epoch - 1s/step\n",
      "Epoch 11/50\n",
      "4/4 - 5s - loss: 3.6540 - accuracy: 0.4975 - auc_15: 0.7588 - precision_15: 0.5164 - recall_15: 0.4773 - f1_score: 0.4671 - val_loss: 66.8404 - val_accuracy: 0.1313 - val_auc_15: 0.4209 - val_precision_15: 0.1313 - val_recall_15: 0.1313 - val_f1_score: 0.0580 - 5s/epoch - 1s/step\n",
      "Epoch 12/50\n",
      "4/4 - 5s - loss: 6.5058 - accuracy: 0.4444 - auc_15: 0.6628 - precision_15: 0.4613 - recall_15: 0.4217 - f1_score: 0.4148 - val_loss: 26.0339 - val_accuracy: 0.5253 - val_auc_15: 0.6835 - val_precision_15: 0.5253 - val_recall_15: 0.5253 - val_f1_score: 0.1722 - 5s/epoch - 1s/step\n",
      "Epoch 13/50\n",
      "4/4 - 5s - loss: 5.1740 - accuracy: 0.4217 - auc_15: 0.6696 - precision_15: 0.4286 - recall_15: 0.4015 - f1_score: 0.4010 - val_loss: 20.2454 - val_accuracy: 0.2727 - val_auc_15: 0.5152 - val_precision_15: 0.2727 - val_recall_15: 0.2727 - val_f1_score: 0.1071 - 5s/epoch - 1s/step\n",
      "Epoch 14/50\n",
      "4/4 - 5s - loss: 3.2564 - accuracy: 0.5328 - auc_15: 0.7738 - precision_15: 0.5552 - recall_15: 0.5076 - f1_score: 0.4802 - val_loss: 30.8542 - val_accuracy: 0.5253 - val_auc_15: 0.6835 - val_precision_15: 0.5253 - val_recall_15: 0.5253 - val_f1_score: 0.1722 - 5s/epoch - 1s/step\n",
      "Epoch 15/50\n",
      "4/4 - 5s - loss: 6.3044 - accuracy: 0.4520 - auc_15: 0.6663 - precision_15: 0.4665 - recall_15: 0.4217 - f1_score: 0.4147 - val_loss: 18.1710 - val_accuracy: 0.5253 - val_auc_15: 0.6819 - val_precision_15: 0.5253 - val_recall_15: 0.5253 - val_f1_score: 0.1722 - 5s/epoch - 1s/step\n",
      "Epoch 16/50\n",
      "4/4 - 5s - loss: 4.4767 - accuracy: 0.4167 - auc_15: 0.6861 - precision_15: 0.4298 - recall_15: 0.3864 - f1_score: 0.3649 - val_loss: 12.8463 - val_accuracy: 0.1616 - val_auc_15: 0.4858 - val_precision_15: 0.1633 - val_recall_15: 0.1616 - val_f1_score: 0.1231 - 5s/epoch - 1s/step\n",
      "Epoch 17/50\n",
      "4/4 - 5s - loss: 2.6291 - accuracy: 0.5227 - auc_15: 0.7697 - precision_15: 0.5460 - recall_15: 0.4798 - f1_score: 0.4923 - val_loss: 7.3226 - val_accuracy: 0.5051 - val_auc_15: 0.6598 - val_precision_15: 0.5051 - val_recall_15: 0.5051 - val_f1_score: 0.1678 - 5s/epoch - 1s/step\n",
      "Epoch 18/50\n",
      "4/4 - 5s - loss: 2.3174 - accuracy: 0.5631 - auc_15: 0.7981 - precision_15: 0.5977 - recall_15: 0.5177 - f1_score: 0.5516 - val_loss: 5.0004 - val_accuracy: 0.3636 - val_auc_15: 0.6208 - val_precision_15: 0.3636 - val_recall_15: 0.3636 - val_f1_score: 0.1976 - 5s/epoch - 1s/step\n",
      "Epoch 19/50\n",
      "4/4 - 5s - loss: 3.1185 - accuracy: 0.4949 - auc_15: 0.7595 - precision_15: 0.5257 - recall_15: 0.4646 - f1_score: 0.4484 - val_loss: 10.0197 - val_accuracy: 0.2626 - val_auc_15: 0.5057 - val_precision_15: 0.2626 - val_recall_15: 0.2626 - val_f1_score: 0.1057 - 5s/epoch - 1s/step\n",
      "Epoch 20/50\n",
      "4/4 - 5s - loss: 3.5611 - accuracy: 0.4672 - auc_15: 0.7432 - precision_15: 0.4741 - recall_15: 0.4394 - f1_score: 0.4378 - val_loss: 5.0769 - val_accuracy: 0.4242 - val_auc_15: 0.6950 - val_precision_15: 0.4286 - val_recall_15: 0.4242 - val_f1_score: 0.1944 - 5s/epoch - 1s/step\n",
      "Epoch 21/50\n",
      "4/4 - 5s - loss: 2.7359 - accuracy: 0.4697 - auc_15: 0.7397 - precision_15: 0.4928 - recall_15: 0.4293 - f1_score: 0.4651 - val_loss: 4.4901 - val_accuracy: 0.3434 - val_auc_15: 0.6161 - val_precision_15: 0.3368 - val_recall_15: 0.3232 - val_f1_score: 0.2207 - 5s/epoch - 1s/step\n",
      "Epoch 22/50\n",
      "4/4 - 5s - loss: 1.9261 - accuracy: 0.5960 - auc_15: 0.8390 - precision_15: 0.6472 - recall_15: 0.5606 - f1_score: 0.5683 - val_loss: 4.9249 - val_accuracy: 0.2525 - val_auc_15: 0.5396 - val_precision_15: 0.2577 - val_recall_15: 0.2525 - val_f1_score: 0.1448 - 5s/epoch - 1s/step\n",
      "Epoch 23/50\n",
      "4/4 - 5s - loss: 1.9806 - accuracy: 0.5884 - auc_15: 0.8205 - precision_15: 0.6167 - recall_15: 0.5404 - f1_score: 0.5863 - val_loss: 3.4282 - val_accuracy: 0.4444 - val_auc_15: 0.7091 - val_precision_15: 0.4490 - val_recall_15: 0.4444 - val_f1_score: 0.2461 - 5s/epoch - 1s/step\n",
      "Epoch 24/50\n",
      "4/4 - 5s - loss: 2.8027 - accuracy: 0.5051 - auc_15: 0.7821 - precision_15: 0.5173 - recall_15: 0.4520 - f1_score: 0.4805 - val_loss: 4.9526 - val_accuracy: 0.4444 - val_auc_15: 0.6644 - val_precision_15: 0.4490 - val_recall_15: 0.4444 - val_f1_score: 0.2001 - 5s/epoch - 1s/step\n",
      "Epoch 25/50\n",
      "4/4 - 5s - loss: 2.1132 - accuracy: 0.5455 - auc_15: 0.8003 - precision_15: 0.5480 - recall_15: 0.4899 - f1_score: 0.5217 - val_loss: 17.6704 - val_accuracy: 0.2727 - val_auc_15: 0.4936 - val_precision_15: 0.2727 - val_recall_15: 0.2727 - val_f1_score: 0.1557 - 5s/epoch - 1s/step\n",
      "Epoch 26/50\n",
      "4/4 - 5s - loss: 3.4107 - accuracy: 0.5581 - auc_15: 0.7834 - precision_15: 0.5714 - recall_15: 0.5354 - f1_score: 0.5304 - val_loss: 4.3694 - val_accuracy: 0.3333 - val_auc_15: 0.6084 - val_precision_15: 0.3402 - val_recall_15: 0.3333 - val_f1_score: 0.1934 - 5s/epoch - 1s/step\n",
      "Epoch 27/50\n",
      "4/4 - 5s - loss: 2.8999 - accuracy: 0.5455 - auc_15: 0.7861 - precision_15: 0.5657 - recall_15: 0.5000 - f1_score: 0.5158 - val_loss: 3.9570 - val_accuracy: 0.4343 - val_auc_15: 0.6682 - val_precision_15: 0.4388 - val_recall_15: 0.4343 - val_f1_score: 0.2056 - 5s/epoch - 1s/step\n",
      "Epoch 28/50\n",
      "4/4 - 5s - loss: 2.8651 - accuracy: 0.5152 - auc_15: 0.7837 - precision_15: 0.5250 - recall_15: 0.4773 - f1_score: 0.5021 - val_loss: 14.2346 - val_accuracy: 0.2727 - val_auc_15: 0.5313 - val_precision_15: 0.2727 - val_recall_15: 0.2727 - val_f1_score: 0.1071 - 5s/epoch - 1s/step\n",
      "Epoch 29/50\n",
      "4/4 - 5s - loss: 2.9526 - accuracy: 0.4924 - auc_15: 0.7545 - precision_15: 0.5319 - recall_15: 0.4419 - f1_score: 0.4973 - val_loss: 27.3739 - val_accuracy: 0.0707 - val_auc_15: 0.3905 - val_precision_15: 0.0707 - val_recall_15: 0.0707 - val_f1_score: 0.0330 - 5s/epoch - 1s/step\n",
      "Epoch 30/50\n",
      "4/4 - 5s - loss: 3.3589 - accuracy: 0.4470 - auc_15: 0.7231 - precision_15: 0.4667 - recall_15: 0.4242 - f1_score: 0.4223 - val_loss: 9.7599 - val_accuracy: 0.2929 - val_auc_15: 0.5462 - val_precision_15: 0.2929 - val_recall_15: 0.2929 - val_f1_score: 0.1614 - 5s/epoch - 1s/step\n",
      "Epoch 31/50\n",
      "4/4 - 5s - loss: 2.8691 - accuracy: 0.5379 - auc_15: 0.8126 - precision_15: 0.5475 - recall_15: 0.4949 - f1_score: 0.5116 - val_loss: 9.8453 - val_accuracy: 0.3232 - val_auc_15: 0.5277 - val_precision_15: 0.3263 - val_recall_15: 0.3131 - val_f1_score: 0.1978 - 5s/epoch - 1s/step\n",
      "Epoch 32/50\n",
      "4/4 - 5s - loss: 2.9298 - accuracy: 0.5253 - auc_15: 0.7850 - precision_15: 0.5613 - recall_15: 0.4975 - f1_score: 0.4845 - val_loss: 2.3436 - val_accuracy: 0.3030 - val_auc_15: 0.5562 - val_precision_15: 0.2432 - val_recall_15: 0.1818 - val_f1_score: 0.2843 - 5s/epoch - 1s/step\n",
      "Epoch 33/50\n",
      "4/4 - 5s - loss: 1.8867 - accuracy: 0.5808 - auc_15: 0.8265 - precision_15: 0.6032 - recall_15: 0.5682 - f1_score: 0.5970 - val_loss: 6.7941 - val_accuracy: 0.4747 - val_auc_15: 0.6606 - val_precision_15: 0.4792 - val_recall_15: 0.4646 - val_f1_score: 0.1621 - 5s/epoch - 1s/step\n",
      "Epoch 34/50\n",
      "4/4 - 5s - loss: 1.9620 - accuracy: 0.5960 - auc_15: 0.8374 - precision_15: 0.6222 - recall_15: 0.5530 - f1_score: 0.5870 - val_loss: 10.1456 - val_accuracy: 0.3131 - val_auc_15: 0.6230 - val_precision_15: 0.3131 - val_recall_15: 0.3131 - val_f1_score: 0.1636 - 5s/epoch - 1s/step\n",
      "Epoch 35/50\n",
      "4/4 - 5s - loss: 2.4027 - accuracy: 0.5707 - auc_15: 0.8406 - precision_15: 0.5873 - recall_15: 0.5354 - f1_score: 0.5252 - val_loss: 2.6429 - val_accuracy: 0.4242 - val_auc_15: 0.7072 - val_precision_15: 0.4286 - val_recall_15: 0.3939 - val_f1_score: 0.1919 - 5s/epoch - 1s/step\n",
      "Epoch 36/50\n",
      "4/4 - 5s - loss: 1.8001 - accuracy: 0.5859 - auc_15: 0.8432 - precision_15: 0.6132 - recall_15: 0.5404 - f1_score: 0.5697 - val_loss: 4.0567 - val_accuracy: 0.4242 - val_auc_15: 0.6913 - val_precision_15: 0.4242 - val_recall_15: 0.4242 - val_f1_score: 0.1947 - 5s/epoch - 1s/step\n",
      "Epoch 37/50\n",
      "4/4 - 5s - loss: 1.3190 - accuracy: 0.6465 - auc_15: 0.8807 - precision_15: 0.6912 - recall_15: 0.5934 - f1_score: 0.6304 - val_loss: 10.5990 - val_accuracy: 0.5253 - val_auc_15: 0.6835 - val_precision_15: 0.5253 - val_recall_15: 0.5253 - val_f1_score: 0.1722 - 5s/epoch - 1s/step\n",
      "Epoch 38/50\n",
      "4/4 - 5s - loss: 1.6738 - accuracy: 0.6288 - auc_15: 0.8665 - precision_15: 0.6550 - recall_15: 0.5657 - f1_score: 0.6197 - val_loss: 4.0483 - val_accuracy: 0.2929 - val_auc_15: 0.6502 - val_precision_15: 0.2929 - val_recall_15: 0.2929 - val_f1_score: 0.1621 - 5s/epoch - 1s/step\n",
      "Epoch 39/50\n",
      "4/4 - 5s - loss: 1.5122 - accuracy: 0.6591 - auc_15: 0.8746 - precision_15: 0.6774 - recall_15: 0.6364 - f1_score: 0.6626 - val_loss: 3.7181 - val_accuracy: 0.3232 - val_auc_15: 0.6748 - val_precision_15: 0.3232 - val_recall_15: 0.3232 - val_f1_score: 0.1774 - 5s/epoch - 1s/step\n",
      "Epoch 40/50\n",
      "4/4 - 5s - loss: 2.1124 - accuracy: 0.6136 - auc_15: 0.8578 - precision_15: 0.6298 - recall_15: 0.5758 - f1_score: 0.5730 - val_loss: 3.0719 - val_accuracy: 0.2828 - val_auc_15: 0.5142 - val_precision_15: 0.2697 - val_recall_15: 0.2424 - val_f1_score: 0.2462 - 5s/epoch - 1s/step\n",
      "Epoch 41/50\n",
      "4/4 - 6s - loss: 2.1694 - accuracy: 0.6414 - auc_15: 0.8696 - precision_15: 0.6639 - recall_15: 0.6086 - f1_score: 0.6078 - val_loss: 2.6117 - val_accuracy: 0.4141 - val_auc_15: 0.7173 - val_precision_15: 0.4362 - val_recall_15: 0.4141 - val_f1_score: 0.2756 - 6s/epoch - 1s/step\n",
      "Epoch 42/50\n",
      "4/4 - 5s - loss: 1.6181 - accuracy: 0.6515 - auc_15: 0.8881 - precision_15: 0.6658 - recall_15: 0.6187 - f1_score: 0.6669 - val_loss: 7.1301 - val_accuracy: 0.1818 - val_auc_15: 0.4808 - val_precision_15: 0.1895 - val_recall_15: 0.1818 - val_f1_score: 0.1346 - 5s/epoch - 1s/step\n"
     ]
    }
   ],
   "source": [
    "body_X_train, body_X_val = body_X[train_index], body_X[val_index]\n",
    "face_X_train, face_X_val = face_X[train_index], face_X[val_index]\n",
    "y_train, y_val = y[train_index], y[val_index]\n",
    "late_RCNN = build_fusioned_RCNN(body_features, face_features, n_length, body_outputs)\n",
    "history = train_fusioned(late_RCNN, body_X_train, face_X_train, y_train, body_X_val, face_X_val, y_val, epochs=epochs, batch_size=128, class_weight=class_weight)"
   ]
  },
  {
   "cell_type": "markdown",
   "metadata": {},
   "source": [
    "### Convert Uni-modal Approaches to Ensemble Members"
   ]
  },
  {
   "cell_type": "code",
   "execution_count": 71,
   "metadata": {},
   "outputs": [],
   "source": [
    "biLSTM_body_member = KerasMember(name=\"Body Model\", keras_model=body_biLSTM, train_batches=(body_X_train, y_train), val_batches=(body_X_test, y_test))\n",
    "biLSTM_face_member = KerasMember(name=\"Face Model\", keras_model=face_biLSTM, train_batches=(face_X_train, y_train), val_batches=(face_X_test, y_test))"
   ]
  },
  {
   "cell_type": "code",
   "execution_count": 72,
   "metadata": {},
   "outputs": [],
   "source": [
    "cnn_body_member = KerasMember(name=\"Body Model\", keras_model=body_cnn, train_batches=(body_X_train, y_train), val_batches=(body_X_test, y_test))\n",
    "cnn_face_member = KerasMember(name=\"Face Model\", keras_model=face_cnn, train_batches=(face_X_train, y_train), val_batches=(face_X_test, y_test))"
   ]
  },
  {
   "cell_type": "code",
   "execution_count": 73,
   "metadata": {},
   "outputs": [],
   "source": [
    "convLSTM_body_member = KerasMember(name=\"Body Model\", keras_model=body_convlstm, train_batches=(body_X_train, y_train), val_batches=(body_X_test, y_test))\n",
    "convLSTM_face_member = KerasMember(name=\"Face Model\", keras_model=face_convlstm, train_batches=(face_X_train, y_train), val_batches=(face_X_test, y_test))"
   ]
  },
  {
   "cell_type": "code",
   "execution_count": 74,
   "metadata": {},
   "outputs": [],
   "source": [
    "rcnn_body_member = KerasMember(name=\"Body Model\", keras_model=body_rcnn, train_batches=(body_X_train, y_train), val_batches=(body_X_test, y_test))\n",
    "rcnn_face_member = KerasMember(name=\"Face Model\", keras_model=face_rcnn, train_batches=(face_X_train, y_train), val_batches=(face_X_test, y_test))"
   ]
  },
  {
   "cell_type": "markdown",
   "metadata": {},
   "source": [
    "### Dirichlet Markov Ensemble with weighted soft voting"
   ]
  },
  {
   "cell_type": "code",
   "execution_count": 75,
   "metadata": {},
   "outputs": [],
   "source": [
    "biLSTM_dirichletEnsemble = DirichletEnsemble()\n",
    "biLSTM_dirichletEnsemble.add_member(biLSTM_body_member)\n",
    "biLSTM_dirichletEnsemble.add_member(biLSTM_face_member)\n",
    "biLSTM_dirichletEnsemble.fit()"
   ]
  },
  {
   "cell_type": "code",
   "execution_count": 76,
   "metadata": {},
   "outputs": [],
   "source": [
    "cnn_dirichletEnsemble = DirichletEnsemble()\n",
    "cnn_dirichletEnsemble.add_member(cnn_body_member)\n",
    "cnn_dirichletEnsemble.add_member(cnn_face_member)\n",
    "cnn_dirichletEnsemble.fit()"
   ]
  },
  {
   "cell_type": "code",
   "execution_count": 77,
   "metadata": {},
   "outputs": [],
   "source": [
    "convLSTM_dirichletEnsemble = DirichletEnsemble()\n",
    "convLSTM_dirichletEnsemble.add_member(convLSTM_body_member)\n",
    "convLSTM_dirichletEnsemble.add_member(convLSTM_face_member)\n",
    "convLSTM_dirichletEnsemble.fit()"
   ]
  },
  {
   "cell_type": "code",
   "execution_count": 78,
   "metadata": {},
   "outputs": [],
   "source": [
    "rcnn_dirichletEnsemble = DirichletEnsemble()\n",
    "rcnn_dirichletEnsemble.add_member(rcnn_body_member)\n",
    "rcnn_dirichletEnsemble.add_member(rcnn_face_member)\n",
    "rcnn_dirichletEnsemble.fit()"
   ]
  },
  {
   "cell_type": "markdown",
   "metadata": {},
   "source": [
    "## Performance Evaluation on Test set"
   ]
  },
  {
   "cell_type": "markdown",
   "metadata": {},
   "source": [
    "### Uni-Modal (only Body/Skeleton data)"
   ]
  },
  {
   "cell_type": "code",
   "execution_count": 79,
   "metadata": {},
   "outputs": [
    {
     "name": "stdout",
     "output_type": "stream",
     "text": [
      "Bidirectional LSTM:\n",
      "Accuracy: 24.76% - ROC/AUC: 0.55 - Precision: 0.26 - Recall: 0.14, F1 score: 0.16\n"
     ]
    }
   ],
   "source": [
    "_, acc, auc, precision, recall, f1 = body_biLSTM.evaluate(full_body_X_test, full_body_y_test, verbose=0)\n",
    "print('Bidirectional LSTM:')\n",
    "print('Accuracy: {:.2f}% - ROC/AUC: {:.2f} - Precision: {:.2f} - Recall: {:.2f}, F1 score: {:.2f}'.format(acc * 100, auc, precision, recall, f1))"
   ]
  },
  {
   "cell_type": "code",
   "execution_count": 80,
   "metadata": {},
   "outputs": [
    {
     "name": "stdout",
     "output_type": "stream",
     "text": [
      "CNN+LSTM:\n",
      "Accuracy: 46.67% - ROC/AUC: 0.64 - Precision: 0.00 - Recall: 0.00, F1 score: 0.16\n"
     ]
    }
   ],
   "source": [
    "_, acc, auc, precision, recall, f1 = body_cnn.evaluate(full_body_X_test, full_body_y_test, verbose=0)\n",
    "print('CNN+LSTM:')\n",
    "print('Accuracy: {:.2f}% - ROC/AUC: {:.2f} - Precision: {:.2f} - Recall: {:.2f}, F1 score: {:.2f}'.format(acc * 100, auc, precision, recall, f1))"
   ]
  },
  {
   "cell_type": "code",
   "execution_count": 81,
   "metadata": {},
   "outputs": [
    {
     "name": "stdout",
     "output_type": "stream",
     "text": [
      "Convolutional LSTM:\n",
      "Accuracy: 45.71% - ROC/AUC: 0.49 - Precision: 0.00 - Recall: 0.00, F1 score: 0.16\n"
     ]
    }
   ],
   "source": [
    "_, acc, auc, precision, recall, f1 = body_convlstm.evaluate(full_body_X_test, full_body_y_test, verbose=0)\n",
    "print('Convolutional LSTM:')\n",
    "print('Accuracy: {:.2f}% - ROC/AUC: {:.2f} - Precision: {:.2f} - Recall: {:.2f}, F1 score: {:.2f}'.format(acc * 100, auc, precision, recall, f1))"
   ]
  },
  {
   "cell_type": "code",
   "execution_count": 82,
   "metadata": {},
   "outputs": [
    {
     "name": "stdout",
     "output_type": "stream",
     "text": [
      "RCNN:\n",
      "Accuracy: 21.90% - ROC/AUC: 0.63 - Precision: 0.43 - Recall: 0.03, F1 score: 0.13\n"
     ]
    }
   ],
   "source": [
    "_, acc, auc, precision, recall, f1 = body_rcnn.evaluate(full_body_X_test, full_body_y_test, verbose=0)\n",
    "print('RCNN:')\n",
    "print('Accuracy: {:.2f}% - ROC/AUC: {:.2f} - Precision: {:.2f} - Recall: {:.2f}, F1 score: {:.2f}'.format(acc * 100, auc, precision, recall, f1))"
   ]
  },
  {
   "cell_type": "markdown",
   "metadata": {},
   "source": [
    "### Uni-Modal (only Facial Expression/Action Units)"
   ]
  },
  {
   "cell_type": "code",
   "execution_count": 83,
   "metadata": {},
   "outputs": [
    {
     "name": "stdout",
     "output_type": "stream",
     "text": [
      "Bidirectional LSTM:\n",
      "Accuracy: 32.35% - ROC/AUC: 0.62 - Precision: 0.44 - Recall: 0.24, F1 score: 0.23\n"
     ]
    }
   ],
   "source": [
    "_, acc, auc, precision, recall, f1 = face_biLSTM.evaluate(face_X_test, face_y_test, verbose=0)\n",
    "print('Bidirectional LSTM:')\n",
    "print('Accuracy: {:.2f}% - ROC/AUC: {:.2f} - Precision: {:.2f} - Recall: {:.2f}, F1 score: {:.2f}'.format(acc * 100, auc, precision, recall, f1))"
   ]
  },
  {
   "cell_type": "code",
   "execution_count": 84,
   "metadata": {},
   "outputs": [
    {
     "name": "stdout",
     "output_type": "stream",
     "text": [
      "CNN+LSTM:\n",
      "Accuracy: 38.24% - ROC/AUC: 0.62 - Precision: 0.26 - Recall: 0.12, F1 score: 0.23\n"
     ]
    }
   ],
   "source": [
    "_, acc, auc, precision, recall, f1 = face_cnn.evaluate(face_X_test, face_y_test, verbose=0)\n",
    "print('CNN+LSTM:')\n",
    "print('Accuracy: {:.2f}% - ROC/AUC: {:.2f} - Precision: {:.2f} - Recall: {:.2f}, F1 score: {:.2f}'.format(acc * 100, auc, precision, recall, f1))"
   ]
  },
  {
   "cell_type": "code",
   "execution_count": 85,
   "metadata": {},
   "outputs": [
    {
     "name": "stdout",
     "output_type": "stream",
     "text": [
      "Convolutional LSTM:\n",
      "Accuracy: 49.02% - ROC/AUC: 0.74 - Precision: 0.50 - Recall: 0.23, F1 score: 0.26\n"
     ]
    }
   ],
   "source": [
    "_, acc, auc, precision, recall, f1 = face_convlstm.evaluate(face_X_test, face_y_test, verbose=0)\n",
    "print('Convolutional LSTM:')\n",
    "print('Accuracy: {:.2f}% - ROC/AUC: {:.2f} - Precision: {:.2f} - Recall: {:.2f}, F1 score: {:.2f}'.format(acc * 100, auc, precision, recall, f1))"
   ]
  },
  {
   "cell_type": "code",
   "execution_count": 86,
   "metadata": {},
   "outputs": [
    {
     "name": "stdout",
     "output_type": "stream",
     "text": [
      "RCNN:\n",
      "Accuracy: 29.41% - ROC/AUC: 0.60 - Precision: 0.44 - Recall: 0.15, F1 score: 0.15\n"
     ]
    }
   ],
   "source": [
    "_, acc, auc, precision, recall, f1 = face_rcnn.evaluate(face_X_test, face_y_test, verbose=0)\n",
    "print('RCNN:')\n",
    "print('Accuracy: {:.2f}% - ROC/AUC: {:.2f} - Precision: {:.2f} - Recall: {:.2f}, F1 score: {:.2f}'.format(acc * 100, auc, precision, recall, f1))"
   ]
  },
  {
   "cell_type": "markdown",
   "metadata": {},
   "source": [
    "### Early Fusion (Feature Level)"
   ]
  },
  {
   "cell_type": "code",
   "execution_count": 87,
   "metadata": {},
   "outputs": [
    {
     "name": "stdout",
     "output_type": "stream",
     "text": [
      "Bidirectional LSTM:\n",
      "Accuracy: 32.35% - ROC/AUC: 0.66 - Precision: 0.30 - Recall: 0.24, F1 score: 0.22\n"
     ]
    }
   ],
   "source": [
    "_, acc, auc, precision, recall, f1 = early_bilstm.evaluate(early_X_test, early_y_test, verbose=0)\n",
    "print('Bidirectional LSTM:')\n",
    "print('Accuracy: {:.2f}% - ROC/AUC: {:.2f} - Precision: {:.2f} - Recall: {:.2f}, F1 score: {:.2f}'.format(acc * 100, auc, precision, recall, f1))"
   ]
  },
  {
   "cell_type": "code",
   "execution_count": 88,
   "metadata": {},
   "outputs": [
    {
     "name": "stdout",
     "output_type": "stream",
     "text": [
      "CNN+LSTM:\n",
      "Accuracy: 39.22% - ROC/AUC: 0.67 - Precision: 0.39 - Recall: 0.28, F1 score: 0.25\n"
     ]
    }
   ],
   "source": [
    "_, acc, auc, precision, recall, f1 = early_cnn.evaluate(early_X_test, early_y_test, verbose=0)\n",
    "print('CNN+LSTM:')\n",
    "print('Accuracy: {:.2f}% - ROC/AUC: {:.2f} - Precision: {:.2f} - Recall: {:.2f}, F1 score: {:.2f}'.format(acc * 100, auc, precision, recall, f1))"
   ]
  },
  {
   "cell_type": "code",
   "execution_count": 89,
   "metadata": {},
   "outputs": [
    {
     "name": "stdout",
     "output_type": "stream",
     "text": [
      "Convolutional LSTM:\n",
      "Accuracy: 18.63% - ROC/AUC: 0.43 - Precision: 0.29 - Recall: 0.06, F1 score: 0.15\n"
     ]
    }
   ],
   "source": [
    "_, acc, auc, precision, recall, f1 = early_convlstm.evaluate(early_X_test, early_y_test, verbose=0)\n",
    "print('Convolutional LSTM:')\n",
    "print('Accuracy: {:.2f}% - ROC/AUC: {:.2f} - Precision: {:.2f} - Recall: {:.2f}, F1 score: {:.2f}'.format(acc * 100, auc, precision, recall, f1))"
   ]
  },
  {
   "cell_type": "code",
   "execution_count": 90,
   "metadata": {},
   "outputs": [
    {
     "name": "stdout",
     "output_type": "stream",
     "text": [
      "RCNN:\n",
      "Accuracy: 48.04% - ROC/AUC: 0.75 - Precision: 0.48 - Recall: 0.48, F1 score: 0.16\n"
     ]
    }
   ],
   "source": [
    "_, acc, auc, precision, recall, f1 = early_rcnn.evaluate(early_X_test, early_y_test, verbose=0)\n",
    "print('RCNN:')\n",
    "print('Accuracy: {:.2f}% - ROC/AUC: {:.2f} - Precision: {:.2f} - Recall: {:.2f}, F1 score: {:.2f}'.format(acc * 100, auc, precision, recall, f1))"
   ]
  },
  {
   "cell_type": "markdown",
   "metadata": {},
   "source": [
    "### Late Fusion (Decision Level)"
   ]
  },
  {
   "cell_type": "code",
   "execution_count": 91,
   "metadata": {},
   "outputs": [
    {
     "name": "stdout",
     "output_type": "stream",
     "text": [
      "Bidirectional LSTM:\n",
      "Accuracy: 34.31% - ROC/AUC: 0.61 - Precision: 0.36 - Recall: 0.32, F1 score: 0.21\n"
     ]
    }
   ],
   "source": [
    "_, acc, auc, precision, recall, f1 = late_biLSTM.evaluate([body_X_test, face_X_test], y_test, verbose=0)\n",
    "print('Bidirectional LSTM:')\n",
    "print('Accuracy: {:.2f}% - ROC/AUC: {:.2f} - Precision: {:.2f} - Recall: {:.2f}, F1 score: {:.2f}'.format(acc * 100, auc, precision, recall, f1))"
   ]
  },
  {
   "cell_type": "code",
   "execution_count": 92,
   "metadata": {},
   "outputs": [
    {
     "name": "stdout",
     "output_type": "stream",
     "text": [
      "CNN+LSTM:\n",
      "Accuracy: 29.41% - ROC/AUC: 0.63 - Precision: 0.37 - Recall: 0.16, F1 score: 0.18\n"
     ]
    }
   ],
   "source": [
    "_, acc, auc, precision, recall, f1 = late_cnn.evaluate([body_X_test, face_X_test], y_test, verbose=0)\n",
    "print('CNN+LSTM:')\n",
    "print('Accuracy: {:.2f}% - ROC/AUC: {:.2f} - Precision: {:.2f} - Recall: {:.2f}, F1 score: {:.2f}'.format(acc * 100, auc, precision, recall, f1))"
   ]
  },
  {
   "cell_type": "code",
   "execution_count": 93,
   "metadata": {},
   "outputs": [
    {
     "name": "stdout",
     "output_type": "stream",
     "text": [
      "Convolutional LSTM:\n",
      "Accuracy: 37.25% - ROC/AUC: 0.64 - Precision: 0.51 - Recall: 0.31, F1 score: 0.27\n"
     ]
    }
   ],
   "source": [
    "_, acc, auc, precision, recall, f1 = late_convLSTM.evaluate([body_X_test, face_X_test], y_test, verbose=0)\n",
    "print('Convolutional LSTM:')\n",
    "print('Accuracy: {:.2f}% - ROC/AUC: {:.2f} - Precision: {:.2f} - Recall: {:.2f}, F1 score: {:.2f}'.format(acc * 100, auc, precision, recall, f1))"
   ]
  },
  {
   "cell_type": "code",
   "execution_count": 94,
   "metadata": {},
   "outputs": [
    {
     "name": "stdout",
     "output_type": "stream",
     "text": [
      "RCNN:\n",
      "Accuracy: 8.82% - ROC/AUC: 0.37 - Precision: 0.08 - Recall: 0.08, F1 score: 0.07\n"
     ]
    }
   ],
   "source": [
    "_, acc, auc, precision, recall, f1 = late_RCNN.evaluate([body_X_test, face_X_test], y_test, verbose=0)\n",
    "print('RCNN:')\n",
    "print('Accuracy: {:.2f}% - ROC/AUC: {:.2f} - Precision: {:.2f} - Recall: {:.2f}, F1 score: {:.2f}'.format(acc * 100, auc, precision, recall, f1))"
   ]
  },
  {
   "cell_type": "code",
   "execution_count": 95,
   "metadata": {},
   "outputs": [
    {
     "name": "stdout",
     "output_type": "stream",
     "text": [
      "BiLSTM Dirichlet Markov Ensemble:\n",
      "Body Model (weight: 0.0008)\n",
      "Face Model (weight: 0.9992)\n",
      "Accuracy: 32.35% - ROC/AUC: 0.60 - Precision: 0.33 - Recall: 0.29 - F1 score: 0.23\n"
     ]
    }
   ],
   "source": [
    "print('BiLSTM Dirichlet Markov Ensemble:')\n",
    "d = biLSTM_dirichletEnsemble.describe()"
   ]
  },
  {
   "cell_type": "code",
   "execution_count": 96,
   "metadata": {},
   "outputs": [
    {
     "name": "stdout",
     "output_type": "stream",
     "text": [
      "CNN+LSTM Dirichlet Markov Ensemble:\n",
      "Body Model (weight: 0.9944)\n",
      "Face Model (weight: 0.0056)\n",
      "Accuracy: 46.08% - ROC/AUC: 0.61 - Precision: 0.28 - Recall: 0.25 - F1 score: 0.23\n"
     ]
    }
   ],
   "source": [
    "print('CNN+LSTM Dirichlet Markov Ensemble:')\n",
    "d = cnn_dirichletEnsemble.describe()"
   ]
  },
  {
   "cell_type": "code",
   "execution_count": 97,
   "metadata": {},
   "outputs": [
    {
     "name": "stdout",
     "output_type": "stream",
     "text": [
      "ConvLSTM Dirichlet Markov Ensemble:\n",
      "Body Model (weight: 0.2806)\n",
      "Face Model (weight: 0.7194)\n",
      "Accuracy: 49.02% - ROC/AUC: 0.63 - Precision: 0.26 - Recall: 0.26 - F1 score: 0.26\n"
     ]
    }
   ],
   "source": [
    "print('ConvLSTM Dirichlet Markov Ensemble:')\n",
    "d = convLSTM_dirichletEnsemble.describe()"
   ]
  },
  {
   "cell_type": "code",
   "execution_count": 98,
   "metadata": {},
   "outputs": [
    {
     "name": "stdout",
     "output_type": "stream",
     "text": [
      "RCNN Dirichlet Markov Ensemble:\n",
      "Body Model (weight: 0.0000)\n",
      "Face Model (weight: 1.0000)\n",
      "Accuracy: 36.27% - ROC/AUC: 0.57 - Precision: 0.26 - Recall: 0.25 - F1 score: 0.23\n"
     ]
    }
   ],
   "source": [
    "print('RCNN Dirichlet Markov Ensemble:')\n",
    "d = rcnn_dirichletEnsemble.describe()"
   ]
  }
 ],
 "metadata": {
  "interpreter": {
   "hash": "225abd0b4b41c85229fb7285a24282bb8b7c5c494a1c5011beaea88d2c1fa3cf"
  },
  "kernelspec": {
   "display_name": "Python 3.9.10 ('masters-thesis-dSEc-4wZ')",
   "language": "python",
   "name": "python3"
  },
  "language_info": {
   "codemirror_mode": {
    "name": "ipython",
    "version": 3
   },
   "file_extension": ".py",
   "mimetype": "text/x-python",
   "name": "python",
   "nbconvert_exporter": "python",
   "pygments_lexer": "ipython3",
   "version": "3.9.10"
  },
  "orig_nbformat": 4
 },
 "nbformat": 4,
 "nbformat_minor": 2
}
