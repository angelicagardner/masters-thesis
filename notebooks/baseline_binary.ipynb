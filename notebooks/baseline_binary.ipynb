{
 "cells": [
  {
   "cell_type": "markdown",
   "metadata": {},
   "source": [
    "# Baseline Results for Binary Classification (pain vs. no pain)"
   ]
  },
  {
   "cell_type": "code",
   "execution_count": 1,
   "metadata": {},
   "outputs": [],
   "source": [
    "import os\n",
    "os.environ['TF_CPP_MIN_LOG_LEVEL'] = '3'\n",
    "import warnings\n",
    "warnings.filterwarnings(\"ignore\")\n",
    "\n",
    "import matplotlib.pyplot as plt\n",
    "import tensorflow as tf\n",
    "import tensorflow_addons as tfa\n",
    "\n",
    "from sklearn.model_selection import KFold\n",
    "from tensorflow.keras.layers import Input, LSTM, Dense, Concatenate\n",
    "from tensorflow.keras import Model\n",
    "\n",
    "import sys\n",
    "module_path = os.path.abspath(os.getcwd() + '\\\\..')\n",
    "if module_path not in sys.path:\n",
    "    sys.path.append(module_path)\n",
    "from src.data.load_dataset import load_dataset, load_fusioned_dataset\n",
    "from src.lib.DeepStack.deepstack.base import KerasMember\n",
    "from src.lib.DeepStack.deepstack.ensemble import DirichletEnsemble"
   ]
  },
  {
   "cell_type": "code",
   "execution_count": 2,
   "metadata": {},
   "outputs": [],
   "source": [
    "epochs, batch_size = 50, 32\n",
    "kf = KFold(n_splits=3, shuffle=True, random_state=48)\n",
    "\n",
    "results = []\n",
    "\n",
    "early_stopping = tf.keras.callbacks.EarlyStopping(\n",
    "        monitor=\"val_loss\",\n",
    "        patience=10,\n",
    "        restore_best_weights=True,\n",
    "    )"
   ]
  },
  {
   "cell_type": "code",
   "execution_count": 3,
   "metadata": {},
   "outputs": [],
   "source": [
    "class Baseline():\n",
    "    def __init__(self, n_features, n_length, n_outputs):\n",
    "        input = Input(shape=(n_length, n_features))\n",
    "        lstm = LSTM(50)(input)\n",
    "        dense = Dense(50)(lstm)\n",
    "        output = Dense(units=n_outputs, activation='sigmoid')(dense)\n",
    "        model = Model(inputs=input, outputs=output)\n",
    "        model.compile(loss='binary_crossentropy', optimizer=tf.keras.optimizers.Adam(learning_rate=0.0001), metrics=['accuracy', tf.keras.metrics.AUC(), tf.keras.metrics.Precision(), tf.keras.metrics.Recall(), tfa.metrics.F1Score(num_classes=n_outputs, average='macro')])\n",
    "        self.model = model\n",
    "\n",
    "    def train(self, X_train, y_train, X_val, y_val, epochs, batch_size):\n",
    "        history = self.model.fit(X_train, y_train, validation_data=(X_val, y_val), epochs=epochs, batch_size=batch_size, verbose=2)\n",
    "        return history\n",
    "\n",
    "    def evaluate(self, X_test, y_test):\n",
    "        results = self.model.evaluate(X_test, y_test, verbose=0)\n",
    "        return results\n",
    "\n",
    "    def predict(self, X_test):\n",
    "        predictions = self.model.predict(X_test)\n",
    "        return predictions\n",
    "\n",
    "    def summary(self):\n",
    "        self.model.summary()"
   ]
  },
  {
   "cell_type": "markdown",
   "metadata": {},
   "source": [
    "## 1. Unimodal Body Modality (Skeleton)"
   ]
  },
  {
   "cell_type": "markdown",
   "metadata": {},
   "source": [
    "### Dataset"
   ]
  },
  {
   "cell_type": "code",
   "execution_count": 4,
   "metadata": {},
   "outputs": [
    {
     "name": "stdout",
     "output_type": "stream",
     "text": [
      "(783, 350, 35) (783, 1)\n",
      "(274, 350, 35) (274, 1)\n"
     ]
    }
   ],
   "source": [
    "X_train, X_test, y_train, y_test = load_dataset('skeleton', binary=True)\n",
    "X_train = X_train.reshape(X_train.shape[0], X_train.shape[2], X_train.shape[3])\n",
    "X_test = X_test.reshape(X_test.shape[0], X_test.shape[2], X_test.shape[3])\n",
    "X = X_train.copy()\n",
    "y = y_train.copy()\n",
    "\n",
    "print(X_train.shape, y_train.shape)\n",
    "print(X_test.shape, y_test.shape)\n",
    "\n",
    "n_length, n_features, n_outputs = X_train.shape[1], X_train.shape[-1], y_train.shape[1]"
   ]
  },
  {
   "cell_type": "code",
   "execution_count": 5,
   "metadata": {},
   "outputs": [
    {
     "name": "stdout",
     "output_type": "stream",
     "text": [
      "Model: \"model\"\n",
      "_________________________________________________________________\n",
      " Layer (type)                Output Shape              Param #   \n",
      "=================================================================\n",
      " input_1 (InputLayer)        [(None, 350, 35)]         0         \n",
      "                                                                 \n",
      " lstm (LSTM)                 (None, 50)                17200     \n",
      "                                                                 \n",
      " dense (Dense)               (None, 50)                2550      \n",
      "                                                                 \n",
      " dense_1 (Dense)             (None, 1)                 51        \n",
      "                                                                 \n",
      "=================================================================\n",
      "Total params: 19,801\n",
      "Trainable params: 19,801\n",
      "Non-trainable params: 0\n",
      "_________________________________________________________________\n"
     ]
    }
   ],
   "source": [
    "model = Baseline(n_features, n_length, n_outputs)\n",
    "model.summary()"
   ]
  },
  {
   "cell_type": "markdown",
   "metadata": {},
   "source": [
    "### Baseline LSTM model"
   ]
  },
  {
   "cell_type": "code",
   "execution_count": 6,
   "metadata": {},
   "outputs": [
    {
     "name": "stdout",
     "output_type": "stream",
     "text": [
      "Epoch 1/50\n",
      "17/17 - 4s - loss: 0.7019 - accuracy: 0.4655 - auc_1: 0.4811 - precision_1: 0.4402 - recall_1: 0.3622 - f1_score: 0.6546 - val_loss: 0.7036 - val_accuracy: 0.4828 - val_auc_1: 0.4891 - val_precision_1: 0.4554 - val_recall_1: 0.3651 - val_f1_score: 0.6512 - 4s/epoch - 237ms/step\n",
      "Epoch 2/50\n",
      "17/17 - 1s - loss: 0.6917 - accuracy: 0.5057 - auc_1: 0.5339 - precision_1: 0.4859 - recall_1: 0.2717 - f1_score: 0.6546 - val_loss: 0.6953 - val_accuracy: 0.4751 - val_auc_1: 0.5097 - val_precision_1: 0.4321 - val_recall_1: 0.2778 - val_f1_score: 0.6512 - 1s/epoch - 79ms/step\n",
      "Epoch 3/50\n",
      "17/17 - 1s - loss: 0.6876 - accuracy: 0.5326 - auc_1: 0.5628 - precision_1: 0.5309 - recall_1: 0.3386 - f1_score: 0.6546 - val_loss: 0.6937 - val_accuracy: 0.4981 - val_auc_1: 0.5160 - val_precision_1: 0.4742 - val_recall_1: 0.3651 - val_f1_score: 0.6512 - 1s/epoch - 81ms/step\n",
      "Epoch 4/50\n",
      "17/17 - 1s - loss: 0.6860 - accuracy: 0.5307 - auc_1: 0.5803 - precision_1: 0.5333 - recall_1: 0.2835 - f1_score: 0.6546 - val_loss: 0.6915 - val_accuracy: 0.4904 - val_auc_1: 0.5307 - val_precision_1: 0.4557 - val_recall_1: 0.2857 - val_f1_score: 0.6512 - 1s/epoch - 80ms/step\n",
      "Epoch 5/50\n",
      "17/17 - 1s - loss: 0.6833 - accuracy: 0.5517 - auc_1: 0.5898 - precision_1: 0.5602 - recall_1: 0.3661 - f1_score: 0.6546 - val_loss: 0.6908 - val_accuracy: 0.5249 - val_auc_1: 0.5357 - val_precision_1: 0.5094 - val_recall_1: 0.4286 - val_f1_score: 0.6512 - 1s/epoch - 80ms/step\n",
      "Epoch 6/50\n",
      "17/17 - 1s - loss: 0.6818 - accuracy: 0.5728 - auc_1: 0.5947 - precision_1: 0.5795 - recall_1: 0.4449 - f1_score: 0.6546 - val_loss: 0.6868 - val_accuracy: 0.5479 - val_auc_1: 0.5660 - val_precision_1: 0.5400 - val_recall_1: 0.4286 - val_f1_score: 0.6512 - 1s/epoch - 80ms/step\n",
      "Epoch 7/50\n",
      "17/17 - 1s - loss: 0.6807 - accuracy: 0.5402 - auc_1: 0.5921 - precision_1: 0.5486 - recall_1: 0.3110 - f1_score: 0.6546 - val_loss: 0.6834 - val_accuracy: 0.5441 - val_auc_1: 0.5908 - val_precision_1: 0.5507 - val_recall_1: 0.3016 - val_f1_score: 0.6512 - 1s/epoch - 80ms/step\n",
      "Epoch 8/50\n",
      "17/17 - 1s - loss: 0.6806 - accuracy: 0.5651 - auc_1: 0.5915 - precision_1: 0.5707 - recall_1: 0.4291 - f1_score: 0.6546 - val_loss: 0.6852 - val_accuracy: 0.5632 - val_auc_1: 0.5721 - val_precision_1: 0.5577 - val_recall_1: 0.4603 - val_f1_score: 0.6512 - 1s/epoch - 78ms/step\n",
      "Epoch 9/50\n",
      "17/17 - 1s - loss: 0.6783 - accuracy: 0.5613 - auc_1: 0.6061 - precision_1: 0.5676 - recall_1: 0.4134 - f1_score: 0.6546 - val_loss: 0.6846 - val_accuracy: 0.5632 - val_auc_1: 0.5757 - val_precision_1: 0.5588 - val_recall_1: 0.4524 - val_f1_score: 0.6512 - 1s/epoch - 78ms/step\n",
      "Epoch 10/50\n",
      "17/17 - 1s - loss: 0.6776 - accuracy: 0.5747 - auc_1: 0.6099 - precision_1: 0.5851 - recall_1: 0.4331 - f1_score: 0.6546 - val_loss: 0.6836 - val_accuracy: 0.5747 - val_auc_1: 0.5810 - val_precision_1: 0.5676 - val_recall_1: 0.5000 - val_f1_score: 0.6512 - 1s/epoch - 79ms/step\n",
      "Epoch 11/50\n",
      "17/17 - 1s - loss: 0.6760 - accuracy: 0.5862 - auc_1: 0.6194 - precision_1: 0.5864 - recall_1: 0.5079 - f1_score: 0.6546 - val_loss: 0.6832 - val_accuracy: 0.5594 - val_auc_1: 0.5805 - val_precision_1: 0.5495 - val_recall_1: 0.4841 - val_f1_score: 0.6512 - 1s/epoch - 78ms/step\n",
      "Epoch 12/50\n",
      "17/17 - 1s - loss: 0.6762 - accuracy: 0.5881 - auc_1: 0.6164 - precision_1: 0.5915 - recall_1: 0.4961 - f1_score: 0.6546 - val_loss: 0.6821 - val_accuracy: 0.5709 - val_auc_1: 0.5845 - val_precision_1: 0.5603 - val_recall_1: 0.5159 - val_f1_score: 0.6512 - 1s/epoch - 78ms/step\n",
      "Epoch 13/50\n",
      "17/17 - 1s - loss: 0.6742 - accuracy: 0.5900 - auc_1: 0.6262 - precision_1: 0.5847 - recall_1: 0.5433 - f1_score: 0.6546 - val_loss: 0.6812 - val_accuracy: 0.5747 - val_auc_1: 0.5939 - val_precision_1: 0.5676 - val_recall_1: 0.5000 - val_f1_score: 0.6512 - 1s/epoch - 79ms/step\n",
      "Epoch 14/50\n",
      "17/17 - 1s - loss: 0.6743 - accuracy: 0.5958 - auc_1: 0.6211 - precision_1: 0.6070 - recall_1: 0.4803 - f1_score: 0.6546 - val_loss: 0.6773 - val_accuracy: 0.5939 - val_auc_1: 0.6176 - val_precision_1: 0.6020 - val_recall_1: 0.4683 - val_f1_score: 0.6512 - 1s/epoch - 78ms/step\n",
      "Epoch 15/50\n",
      "17/17 - 1s - loss: 0.6736 - accuracy: 0.5805 - auc_1: 0.6221 - precision_1: 0.5778 - recall_1: 0.5118 - f1_score: 0.6546 - val_loss: 0.6776 - val_accuracy: 0.5977 - val_auc_1: 0.6125 - val_precision_1: 0.5913 - val_recall_1: 0.5397 - val_f1_score: 0.6512 - 1s/epoch - 79ms/step\n",
      "Epoch 16/50\n",
      "17/17 - 1s - loss: 0.6713 - accuracy: 0.5939 - auc_1: 0.6326 - precision_1: 0.5929 - recall_1: 0.5276 - f1_score: 0.6546 - val_loss: 0.6751 - val_accuracy: 0.6169 - val_auc_1: 0.6191 - val_precision_1: 0.6121 - val_recall_1: 0.5635 - val_f1_score: 0.6512 - 1s/epoch - 79ms/step\n",
      "Epoch 17/50\n",
      "17/17 - 1s - loss: 0.6708 - accuracy: 0.5862 - auc_1: 0.6295 - precision_1: 0.5785 - recall_1: 0.5512 - f1_score: 0.6546 - val_loss: 0.6719 - val_accuracy: 0.6130 - val_auc_1: 0.6272 - val_precision_1: 0.6000 - val_recall_1: 0.5952 - val_f1_score: 0.6512 - 1s/epoch - 79ms/step\n",
      "Epoch 18/50\n",
      "17/17 - 1s - loss: 0.6693 - accuracy: 0.5920 - auc_1: 0.6325 - precision_1: 0.5895 - recall_1: 0.5315 - f1_score: 0.6546 - val_loss: 0.6712 - val_accuracy: 0.6207 - val_auc_1: 0.6403 - val_precision_1: 0.6216 - val_recall_1: 0.5476 - val_f1_score: 0.6512 - 1s/epoch - 79ms/step\n",
      "Epoch 19/50\n",
      "17/17 - 1s - loss: 0.6676 - accuracy: 0.5958 - auc_1: 0.6421 - precision_1: 0.6039 - recall_1: 0.4921 - f1_score: 0.6546 - val_loss: 0.6722 - val_accuracy: 0.6207 - val_auc_1: 0.6373 - val_precision_1: 0.6216 - val_recall_1: 0.5476 - val_f1_score: 0.6512 - 1s/epoch - 79ms/step\n",
      "Epoch 20/50\n",
      "17/17 - 1s - loss: 0.6679 - accuracy: 0.5900 - auc_1: 0.6430 - precision_1: 0.5781 - recall_1: 0.5827 - f1_score: 0.6546 - val_loss: 0.6753 - val_accuracy: 0.6015 - val_auc_1: 0.6213 - val_precision_1: 0.5887 - val_recall_1: 0.5794 - val_f1_score: 0.6512 - 1s/epoch - 79ms/step\n",
      "Epoch 21/50\n",
      "17/17 - 1s - loss: 0.6648 - accuracy: 0.5958 - auc_1: 0.6480 - precision_1: 0.5892 - recall_1: 0.5591 - f1_score: 0.6546 - val_loss: 0.6733 - val_accuracy: 0.6015 - val_auc_1: 0.6212 - val_precision_1: 0.5887 - val_recall_1: 0.5794 - val_f1_score: 0.6512 - 1s/epoch - 80ms/step\n",
      "Epoch 22/50\n",
      "17/17 - 1s - loss: 0.6634 - accuracy: 0.5900 - auc_1: 0.6572 - precision_1: 0.5833 - recall_1: 0.5512 - f1_score: 0.6546 - val_loss: 0.6729 - val_accuracy: 0.6169 - val_auc_1: 0.6185 - val_precision_1: 0.6083 - val_recall_1: 0.5794 - val_f1_score: 0.6512 - 1s/epoch - 80ms/step\n",
      "Epoch 23/50\n",
      "17/17 - 1s - loss: 0.6623 - accuracy: 0.6034 - auc_1: 0.6560 - precision_1: 0.6054 - recall_1: 0.5315 - f1_score: 0.6546 - val_loss: 0.6707 - val_accuracy: 0.6207 - val_auc_1: 0.6287 - val_precision_1: 0.6116 - val_recall_1: 0.5873 - val_f1_score: 0.6512 - 1s/epoch - 79ms/step\n",
      "Epoch 24/50\n",
      "17/17 - 1s - loss: 0.6621 - accuracy: 0.6015 - auc_1: 0.6543 - precision_1: 0.5891 - recall_1: 0.5984 - f1_score: 0.6546 - val_loss: 0.6738 - val_accuracy: 0.6169 - val_auc_1: 0.6237 - val_precision_1: 0.6016 - val_recall_1: 0.6111 - val_f1_score: 0.6512 - 1s/epoch - 79ms/step\n",
      "Epoch 25/50\n",
      "17/17 - 1s - loss: 0.6601 - accuracy: 0.6169 - auc_1: 0.6676 - precision_1: 0.6125 - recall_1: 0.5787 - f1_score: 0.6546 - val_loss: 0.6680 - val_accuracy: 0.6245 - val_auc_1: 0.6353 - val_precision_1: 0.6228 - val_recall_1: 0.5635 - val_f1_score: 0.6512 - 1s/epoch - 79ms/step\n",
      "Epoch 26/50\n",
      "17/17 - 1s - loss: 0.6602 - accuracy: 0.6092 - auc_1: 0.6584 - precision_1: 0.6087 - recall_1: 0.5512 - f1_score: 0.6546 - val_loss: 0.6685 - val_accuracy: 0.6169 - val_auc_1: 0.6314 - val_precision_1: 0.6066 - val_recall_1: 0.5873 - val_f1_score: 0.6512 - 1s/epoch - 79ms/step\n",
      "Epoch 27/50\n",
      "17/17 - 1s - loss: 0.6604 - accuracy: 0.6015 - auc_1: 0.6601 - precision_1: 0.5799 - recall_1: 0.6575 - f1_score: 0.6546 - val_loss: 0.6706 - val_accuracy: 0.6169 - val_auc_1: 0.6281 - val_precision_1: 0.6032 - val_recall_1: 0.6032 - val_f1_score: 0.6512 - 1s/epoch - 80ms/step\n",
      "Epoch 28/50\n",
      "17/17 - 1s - loss: 0.6586 - accuracy: 0.6092 - auc_1: 0.6649 - precision_1: 0.6116 - recall_1: 0.5394 - f1_score: 0.6546 - val_loss: 0.6695 - val_accuracy: 0.6169 - val_auc_1: 0.6348 - val_precision_1: 0.6182 - val_recall_1: 0.5397 - val_f1_score: 0.6512 - 1s/epoch - 80ms/step\n",
      "Epoch 29/50\n",
      "17/17 - 1s - loss: 0.6572 - accuracy: 0.6015 - auc_1: 0.6699 - precision_1: 0.5958 - recall_1: 0.5630 - f1_score: 0.6546 - val_loss: 0.6715 - val_accuracy: 0.6245 - val_auc_1: 0.6271 - val_precision_1: 0.6148 - val_recall_1: 0.5952 - val_f1_score: 0.6512 - 1s/epoch - 82ms/step\n",
      "Epoch 30/50\n",
      "17/17 - 1s - loss: 0.6547 - accuracy: 0.6226 - auc_1: 0.6782 - precision_1: 0.6203 - recall_1: 0.5787 - f1_score: 0.6546 - val_loss: 0.6679 - val_accuracy: 0.6169 - val_auc_1: 0.6399 - val_precision_1: 0.6048 - val_recall_1: 0.5952 - val_f1_score: 0.6512 - 1s/epoch - 80ms/step\n",
      "Epoch 31/50\n",
      "17/17 - 1s - loss: 0.6557 - accuracy: 0.6169 - auc_1: 0.6658 - precision_1: 0.6107 - recall_1: 0.5866 - f1_score: 0.6546 - val_loss: 0.6686 - val_accuracy: 0.6284 - val_auc_1: 0.6391 - val_precision_1: 0.6218 - val_recall_1: 0.5873 - val_f1_score: 0.6512 - 1s/epoch - 80ms/step\n",
      "Epoch 32/50\n",
      "17/17 - 1s - loss: 0.6549 - accuracy: 0.6207 - auc_1: 0.6711 - precision_1: 0.6228 - recall_1: 0.5591 - f1_score: 0.6546 - val_loss: 0.6687 - val_accuracy: 0.6284 - val_auc_1: 0.6353 - val_precision_1: 0.6239 - val_recall_1: 0.5794 - val_f1_score: 0.6512 - 1s/epoch - 80ms/step\n",
      "Epoch 33/50\n",
      "17/17 - 1s - loss: 0.6527 - accuracy: 0.6264 - auc_1: 0.6799 - precision_1: 0.6194 - recall_1: 0.6024 - f1_score: 0.6546 - val_loss: 0.6698 - val_accuracy: 0.6207 - val_auc_1: 0.6302 - val_precision_1: 0.6047 - val_recall_1: 0.6190 - val_f1_score: 0.6512 - 1s/epoch - 79ms/step\n",
      "Epoch 34/50\n",
      "17/17 - 1s - loss: 0.6532 - accuracy: 0.6245 - auc_1: 0.6826 - precision_1: 0.6058 - recall_1: 0.6535 - f1_score: 0.6546 - val_loss: 0.6693 - val_accuracy: 0.6284 - val_auc_1: 0.6361 - val_precision_1: 0.6107 - val_recall_1: 0.6349 - val_f1_score: 0.6512 - 1s/epoch - 79ms/step\n",
      "Epoch 35/50\n",
      "17/17 - 1s - loss: 0.6529 - accuracy: 0.6207 - auc_1: 0.6746 - precision_1: 0.6197 - recall_1: 0.5709 - f1_score: 0.6546 - val_loss: 0.6685 - val_accuracy: 0.6284 - val_auc_1: 0.6359 - val_precision_1: 0.6179 - val_recall_1: 0.6032 - val_f1_score: 0.6512 - 1s/epoch - 80ms/step\n",
      "Epoch 36/50\n",
      "17/17 - 1s - loss: 0.6509 - accuracy: 0.6264 - auc_1: 0.6824 - precision_1: 0.6175 - recall_1: 0.6102 - f1_score: 0.6546 - val_loss: 0.6701 - val_accuracy: 0.6322 - val_auc_1: 0.6317 - val_precision_1: 0.6136 - val_recall_1: 0.6429 - val_f1_score: 0.6512 - 1s/epoch - 80ms/step\n",
      "Epoch 37/50\n",
      "17/17 - 1s - loss: 0.6502 - accuracy: 0.6303 - auc_1: 0.6868 - precision_1: 0.6063 - recall_1: 0.6850 - f1_score: 0.6546 - val_loss: 0.6672 - val_accuracy: 0.6360 - val_auc_1: 0.6389 - val_precision_1: 0.6183 - val_recall_1: 0.6429 - val_f1_score: 0.6512 - 1s/epoch - 79ms/step\n",
      "Epoch 38/50\n",
      "17/17 - 1s - loss: 0.6493 - accuracy: 0.6245 - auc_1: 0.6793 - precision_1: 0.6160 - recall_1: 0.6063 - f1_score: 0.6546 - val_loss: 0.6678 - val_accuracy: 0.6169 - val_auc_1: 0.6394 - val_precision_1: 0.6066 - val_recall_1: 0.5873 - val_f1_score: 0.6512 - 1s/epoch - 80ms/step\n",
      "Epoch 39/50\n",
      "17/17 - 1s - loss: 0.6484 - accuracy: 0.6245 - auc_1: 0.6843 - precision_1: 0.6160 - recall_1: 0.6063 - f1_score: 0.6546 - val_loss: 0.6674 - val_accuracy: 0.6398 - val_auc_1: 0.6375 - val_precision_1: 0.6231 - val_recall_1: 0.6429 - val_f1_score: 0.6512 - 1s/epoch - 79ms/step\n",
      "Epoch 40/50\n",
      "17/17 - 1s - loss: 0.6490 - accuracy: 0.6284 - auc_1: 0.6877 - precision_1: 0.6119 - recall_1: 0.6457 - f1_score: 0.6546 - val_loss: 0.6675 - val_accuracy: 0.6360 - val_auc_1: 0.6429 - val_precision_1: 0.6183 - val_recall_1: 0.6429 - val_f1_score: 0.6512 - 1s/epoch - 79ms/step\n",
      "Epoch 41/50\n",
      "17/17 - 1s - loss: 0.6469 - accuracy: 0.6322 - auc_1: 0.6906 - precision_1: 0.6099 - recall_1: 0.6772 - f1_score: 0.6546 - val_loss: 0.6670 - val_accuracy: 0.6322 - val_auc_1: 0.6370 - val_precision_1: 0.6136 - val_recall_1: 0.6429 - val_f1_score: 0.6512 - 1s/epoch - 79ms/step\n",
      "Epoch 42/50\n",
      "17/17 - 1s - loss: 0.6488 - accuracy: 0.6379 - auc_1: 0.6796 - precision_1: 0.6316 - recall_1: 0.6142 - f1_score: 0.6546 - val_loss: 0.6662 - val_accuracy: 0.6245 - val_auc_1: 0.6381 - val_precision_1: 0.6167 - val_recall_1: 0.5873 - val_f1_score: 0.6512 - 1s/epoch - 79ms/step\n",
      "Epoch 43/50\n",
      "17/17 - 1s - loss: 0.6475 - accuracy: 0.6207 - auc_1: 0.6891 - precision_1: 0.6029 - recall_1: 0.6457 - f1_score: 0.6546 - val_loss: 0.6723 - val_accuracy: 0.6245 - val_auc_1: 0.6265 - val_precision_1: 0.6045 - val_recall_1: 0.6429 - val_f1_score: 0.6512 - 1s/epoch - 78ms/step\n",
      "Epoch 44/50\n",
      "17/17 - 1s - loss: 0.6467 - accuracy: 0.6207 - auc_1: 0.6854 - precision_1: 0.6045 - recall_1: 0.6378 - f1_score: 0.6546 - val_loss: 0.6650 - val_accuracy: 0.6322 - val_auc_1: 0.6439 - val_precision_1: 0.6172 - val_recall_1: 0.6270 - val_f1_score: 0.6512 - 1s/epoch - 78ms/step\n",
      "Epoch 45/50\n",
      "17/17 - 1s - loss: 0.6466 - accuracy: 0.6207 - auc_1: 0.6829 - precision_1: 0.6157 - recall_1: 0.5866 - f1_score: 0.6546 - val_loss: 0.6658 - val_accuracy: 0.6437 - val_auc_1: 0.6465 - val_precision_1: 0.6460 - val_recall_1: 0.5794 - val_f1_score: 0.6512 - 1s/epoch - 78ms/step\n",
      "Epoch 46/50\n",
      "17/17 - 1s - loss: 0.6450 - accuracy: 0.6379 - auc_1: 0.6922 - precision_1: 0.6498 - recall_1: 0.5551 - f1_score: 0.6546 - val_loss: 0.6709 - val_accuracy: 0.6245 - val_auc_1: 0.6308 - val_precision_1: 0.6228 - val_recall_1: 0.5635 - val_f1_score: 0.6512 - 1s/epoch - 78ms/step\n",
      "Epoch 47/50\n",
      "17/17 - 1s - loss: 0.6448 - accuracy: 0.6303 - auc_1: 0.6883 - precision_1: 0.6215 - recall_1: 0.6142 - f1_score: 0.6546 - val_loss: 0.6682 - val_accuracy: 0.6322 - val_auc_1: 0.6382 - val_precision_1: 0.6190 - val_recall_1: 0.6190 - val_f1_score: 0.6512 - 1s/epoch - 78ms/step\n",
      "Epoch 48/50\n",
      "17/17 - 1s - loss: 0.6458 - accuracy: 0.6360 - auc_1: 0.6877 - precision_1: 0.6176 - recall_1: 0.6614 - f1_score: 0.6546 - val_loss: 0.6690 - val_accuracy: 0.6207 - val_auc_1: 0.6270 - val_precision_1: 0.6015 - val_recall_1: 0.6349 - val_f1_score: 0.6512 - 1s/epoch - 78ms/step\n",
      "Epoch 49/50\n",
      "17/17 - 1s - loss: 0.6452 - accuracy: 0.6341 - auc_1: 0.6872 - precision_1: 0.6121 - recall_1: 0.6772 - f1_score: 0.6546 - val_loss: 0.6695 - val_accuracy: 0.6437 - val_auc_1: 0.6340 - val_precision_1: 0.6222 - val_recall_1: 0.6667 - val_f1_score: 0.6512 - 1s/epoch - 78ms/step\n",
      "Epoch 50/50\n",
      "17/17 - 1s - loss: 0.6436 - accuracy: 0.6398 - auc_1: 0.6925 - precision_1: 0.6222 - recall_1: 0.6614 - f1_score: 0.6546 - val_loss: 0.6679 - val_accuracy: 0.6513 - val_auc_1: 0.6375 - val_precision_1: 0.6296 - val_recall_1: 0.6746 - val_f1_score: 0.6512 - 1s/epoch - 78ms/step\n"
     ]
    },
    {
     "data": {
      "image/png": "[encoded data removed]",
      "text/plain": [
       "<Figure size 432x288 with 1 Axes>"
      ]
     },
     "metadata": {
      "needs_background": "light"
     },
     "output_type": "display_data"
    },
    {
     "name": "stdout",
     "output_type": "stream",
     "text": [
      "Epoch 1/50\n",
      "17/17 - 4s - loss: 0.7458 - accuracy: 0.4655 - auc_2: 0.4369 - precision_2: 0.4570 - recall_2: 0.8382 - f1_score: 0.6317 - val_loss: 0.7129 - val_accuracy: 0.4559 - val_auc_2: 0.4514 - val_precision_2: 0.4907 - val_recall_2: 0.5683 - val_f1_score: 0.6950 - 4s/epoch - 214ms/step\n",
      "Epoch 2/50\n",
      "17/17 - 1s - loss: 0.7127 - accuracy: 0.4483 - auc_2: 0.4775 - precision_2: 0.4254 - recall_2: 0.5560 - f1_score: 0.6317 - val_loss: 0.7072 - val_accuracy: 0.4636 - val_auc_2: 0.4827 - val_precision_2: 0.4961 - val_recall_2: 0.4532 - val_f1_score: 0.6950 - 1s/epoch - 79ms/step\n",
      "Epoch 3/50\n",
      "17/17 - 1s - loss: 0.7027 - accuracy: 0.4885 - auc_2: 0.4780 - precision_2: 0.4387 - recall_2: 0.3859 - f1_score: 0.6317 - val_loss: 0.7127 - val_accuracy: 0.5134 - val_auc_2: 0.4784 - val_precision_2: 0.5714 - val_recall_2: 0.3453 - val_f1_score: 0.6950 - 1s/epoch - 79ms/step\n",
      "Epoch 4/50\n",
      "17/17 - 1s - loss: 0.6952 - accuracy: 0.5096 - auc_2: 0.5069 - precision_2: 0.4634 - recall_2: 0.3942 - f1_score: 0.6317 - val_loss: 0.7094 - val_accuracy: 0.5019 - val_auc_2: 0.4824 - val_precision_2: 0.5437 - val_recall_2: 0.4029 - val_f1_score: 0.6950 - 1s/epoch - 80ms/step\n",
      "Epoch 5/50\n",
      "17/17 - 1s - loss: 0.6918 - accuracy: 0.5172 - auc_2: 0.5172 - precision_2: 0.4709 - recall_2: 0.3693 - f1_score: 0.6317 - val_loss: 0.7108 - val_accuracy: 0.4981 - val_auc_2: 0.4807 - val_precision_2: 0.5513 - val_recall_2: 0.3094 - val_f1_score: 0.6950 - 1s/epoch - 79ms/step\n",
      "Epoch 6/50\n",
      "17/17 - 1s - loss: 0.6893 - accuracy: 0.5517 - auc_2: 0.5289 - precision_2: 0.5285 - recall_2: 0.2697 - f1_score: 0.6317 - val_loss: 0.7095 - val_accuracy: 0.4981 - val_auc_2: 0.4938 - val_precision_2: 0.5741 - val_recall_2: 0.2230 - val_f1_score: 0.6950 - 1s/epoch - 80ms/step\n",
      "Epoch 7/50\n",
      "17/17 - 1s - loss: 0.6818 - accuracy: 0.5460 - auc_2: 0.5651 - precision_2: 0.5130 - recall_2: 0.3278 - f1_score: 0.6317 - val_loss: 0.6958 - val_accuracy: 0.5326 - val_auc_2: 0.5473 - val_precision_2: 0.6049 - val_recall_2: 0.3525 - val_f1_score: 0.6950 - 1s/epoch - 79ms/step\n",
      "Epoch 8/50\n",
      "17/17 - 1s - loss: 0.6748 - accuracy: 0.5862 - auc_2: 0.6068 - precision_2: 0.5566 - recall_2: 0.5104 - f1_score: 0.6317 - val_loss: 0.6929 - val_accuracy: 0.5517 - val_auc_2: 0.5457 - val_precision_2: 0.6058 - val_recall_2: 0.4532 - val_f1_score: 0.6950 - 1s/epoch - 79ms/step\n",
      "Epoch 9/50\n",
      "17/17 - 1s - loss: 0.6687 - accuracy: 0.5900 - auc_2: 0.6244 - precision_2: 0.5652 - recall_2: 0.4855 - f1_score: 0.6317 - val_loss: 0.6917 - val_accuracy: 0.5287 - val_auc_2: 0.5587 - val_precision_2: 0.5930 - val_recall_2: 0.3669 - val_f1_score: 0.6950 - 1s/epoch - 79ms/step\n",
      "Epoch 10/50\n",
      "17/17 - 1s - loss: 0.6646 - accuracy: 0.6034 - auc_2: 0.6321 - precision_2: 0.6133 - recall_2: 0.3817 - f1_score: 0.6317 - val_loss: 0.6999 - val_accuracy: 0.5057 - val_auc_2: 0.5477 - val_precision_2: 0.5862 - val_recall_2: 0.2446 - val_f1_score: 0.6950 - 1s/epoch - 79ms/step\n",
      "Epoch 11/50\n",
      "17/17 - 1s - loss: 0.6597 - accuracy: 0.6207 - auc_2: 0.6497 - precision_2: 0.6667 - recall_2: 0.3568 - f1_score: 0.6317 - val_loss: 0.7013 - val_accuracy: 0.4943 - val_auc_2: 0.5378 - val_precision_2: 0.5507 - val_recall_2: 0.2734 - val_f1_score: 0.6950 - 1s/epoch - 80ms/step\n",
      "Epoch 12/50\n",
      "17/17 - 1s - loss: 0.6589 - accuracy: 0.6169 - auc_2: 0.6505 - precision_2: 0.6519 - recall_2: 0.3651 - f1_score: 0.6317 - val_loss: 0.7008 - val_accuracy: 0.4904 - val_auc_2: 0.5367 - val_precision_2: 0.5441 - val_recall_2: 0.2662 - val_f1_score: 0.6950 - 1s/epoch - 80ms/step\n",
      "Epoch 13/50\n",
      "17/17 - 1s - loss: 0.6567 - accuracy: 0.6092 - auc_2: 0.6607 - precision_2: 0.6178 - recall_2: 0.4025 - f1_score: 0.6317 - val_loss: 0.7012 - val_accuracy: 0.4904 - val_auc_2: 0.5335 - val_precision_2: 0.5385 - val_recall_2: 0.3022 - val_f1_score: 0.6950 - 1s/epoch - 80ms/step\n",
      "Epoch 14/50\n",
      "17/17 - 1s - loss: 0.6571 - accuracy: 0.6226 - auc_2: 0.6608 - precision_2: 0.6358 - recall_2: 0.4274 - f1_score: 0.6317 - val_loss: 0.6975 - val_accuracy: 0.5287 - val_auc_2: 0.5451 - val_precision_2: 0.5851 - val_recall_2: 0.3957 - val_f1_score: 0.6950 - 1s/epoch - 79ms/step\n",
      "Epoch 15/50\n",
      "17/17 - 1s - loss: 0.6569 - accuracy: 0.6169 - auc_2: 0.6558 - precision_2: 0.6323 - recall_2: 0.4066 - f1_score: 0.6317 - val_loss: 0.6996 - val_accuracy: 0.5096 - val_auc_2: 0.5463 - val_precision_2: 0.5733 - val_recall_2: 0.3094 - val_f1_score: 0.6950 - 1s/epoch - 79ms/step\n",
      "Epoch 16/50\n",
      "17/17 - 1s - loss: 0.6551 - accuracy: 0.6341 - auc_2: 0.6643 - precision_2: 0.6359 - recall_2: 0.4855 - f1_score: 0.6317 - val_loss: 0.6896 - val_accuracy: 0.5402 - val_auc_2: 0.5683 - val_precision_2: 0.5941 - val_recall_2: 0.4317 - val_f1_score: 0.6950 - 1s/epoch - 79ms/step\n",
      "Epoch 17/50\n",
      "17/17 - 1s - loss: 0.6570 - accuracy: 0.6303 - auc_2: 0.6597 - precision_2: 0.6277 - recall_2: 0.4896 - f1_score: 0.6317 - val_loss: 0.6967 - val_accuracy: 0.5172 - val_auc_2: 0.5530 - val_precision_2: 0.5730 - val_recall_2: 0.3669 - val_f1_score: 0.6950 - 1s/epoch - 79ms/step\n",
      "Epoch 18/50\n",
      "17/17 - 1s - loss: 0.6552 - accuracy: 0.6207 - auc_2: 0.6584 - precision_2: 0.6201 - recall_2: 0.4606 - f1_score: 0.6317 - val_loss: 0.6995 - val_accuracy: 0.5057 - val_auc_2: 0.5510 - val_precision_2: 0.5595 - val_recall_2: 0.3381 - val_f1_score: 0.6950 - 1s/epoch - 79ms/step\n",
      "Epoch 19/50\n",
      "17/17 - 1s - loss: 0.6552 - accuracy: 0.6169 - auc_2: 0.6630 - precision_2: 0.6289 - recall_2: 0.4149 - f1_score: 0.6317 - val_loss: 0.6967 - val_accuracy: 0.5172 - val_auc_2: 0.5604 - val_precision_2: 0.5714 - val_recall_2: 0.3741 - val_f1_score: 0.6950 - 1s/epoch - 79ms/step\n",
      "Epoch 20/50\n",
      "17/17 - 1s - loss: 0.6539 - accuracy: 0.6360 - auc_2: 0.6658 - precision_2: 0.6624 - recall_2: 0.4315 - f1_score: 0.6317 - val_loss: 0.6982 - val_accuracy: 0.5287 - val_auc_2: 0.5513 - val_precision_2: 0.5909 - val_recall_2: 0.3741 - val_f1_score: 0.6950 - 1s/epoch - 78ms/step\n",
      "Epoch 21/50\n",
      "17/17 - 1s - loss: 0.6547 - accuracy: 0.6188 - auc_2: 0.6650 - precision_2: 0.6346 - recall_2: 0.4108 - f1_score: 0.6317 - val_loss: 0.6998 - val_accuracy: 0.5096 - val_auc_2: 0.5565 - val_precision_2: 0.5753 - val_recall_2: 0.3022 - val_f1_score: 0.6950 - 1s/epoch - 79ms/step\n",
      "Epoch 22/50\n",
      "17/17 - 1s - loss: 0.6525 - accuracy: 0.6303 - auc_2: 0.6742 - precision_2: 0.6463 - recall_2: 0.4398 - f1_score: 0.6317 - val_loss: 0.6928 - val_accuracy: 0.5364 - val_auc_2: 0.5703 - val_precision_2: 0.5900 - val_recall_2: 0.4245 - val_f1_score: 0.6950 - 1s/epoch - 79ms/step\n",
      "Epoch 23/50\n",
      "17/17 - 1s - loss: 0.6536 - accuracy: 0.6284 - auc_2: 0.6664 - precision_2: 0.6146 - recall_2: 0.5228 - f1_score: 0.6317 - val_loss: 0.6913 - val_accuracy: 0.5441 - val_auc_2: 0.5743 - val_precision_2: 0.5943 - val_recall_2: 0.4532 - val_f1_score: 0.6950 - 1s/epoch - 80ms/step\n",
      "Epoch 24/50\n",
      "17/17 - 1s - loss: 0.6516 - accuracy: 0.6360 - auc_2: 0.6690 - precision_2: 0.6335 - recall_2: 0.5021 - f1_score: 0.6317 - val_loss: 0.6981 - val_accuracy: 0.5134 - val_auc_2: 0.5612 - val_precision_2: 0.5667 - val_recall_2: 0.3669 - val_f1_score: 0.6950 - 1s/epoch - 79ms/step\n",
      "Epoch 25/50\n",
      "17/17 - 1s - loss: 0.6520 - accuracy: 0.6303 - auc_2: 0.6693 - precision_2: 0.6412 - recall_2: 0.4523 - f1_score: 0.6317 - val_loss: 0.6971 - val_accuracy: 0.5249 - val_auc_2: 0.5657 - val_precision_2: 0.5843 - val_recall_2: 0.3741 - val_f1_score: 0.6950 - 1s/epoch - 80ms/step\n",
      "Epoch 26/50\n",
      "17/17 - 1s - loss: 0.6502 - accuracy: 0.6322 - auc_2: 0.6724 - precision_2: 0.6384 - recall_2: 0.4689 - f1_score: 0.6317 - val_loss: 0.6917 - val_accuracy: 0.5402 - val_auc_2: 0.5815 - val_precision_2: 0.6000 - val_recall_2: 0.4101 - val_f1_score: 0.6950 - 1s/epoch - 79ms/step\n",
      "Epoch 27/50\n",
      "17/17 - 1s - loss: 0.6508 - accuracy: 0.6303 - auc_2: 0.6666 - precision_2: 0.6395 - recall_2: 0.4564 - f1_score: 0.6317 - val_loss: 0.7002 - val_accuracy: 0.5287 - val_auc_2: 0.5678 - val_precision_2: 0.5909 - val_recall_2: 0.3741 - val_f1_score: 0.6950 - 1s/epoch - 79ms/step\n",
      "Epoch 28/50\n",
      "17/17 - 1s - loss: 0.6486 - accuracy: 0.6264 - auc_2: 0.6752 - precision_2: 0.6237 - recall_2: 0.4813 - f1_score: 0.6317 - val_loss: 0.6883 - val_accuracy: 0.5326 - val_auc_2: 0.5886 - val_precision_2: 0.5876 - val_recall_2: 0.4101 - val_f1_score: 0.6950 - 1s/epoch - 79ms/step\n",
      "Epoch 29/50\n",
      "17/17 - 1s - loss: 0.6471 - accuracy: 0.6360 - auc_2: 0.6786 - precision_2: 0.6269 - recall_2: 0.5228 - f1_score: 0.6317 - val_loss: 0.6948 - val_accuracy: 0.5211 - val_auc_2: 0.5708 - val_precision_2: 0.5729 - val_recall_2: 0.3957 - val_f1_score: 0.6950 - 1s/epoch - 79ms/step\n",
      "Epoch 30/50\n",
      "17/17 - 1s - loss: 0.6490 - accuracy: 0.6341 - auc_2: 0.6691 - precision_2: 0.6289 - recall_2: 0.5062 - f1_score: 0.6317 - val_loss: 0.6960 - val_accuracy: 0.5096 - val_auc_2: 0.5691 - val_precision_2: 0.5567 - val_recall_2: 0.3885 - val_f1_score: 0.6950 - 1s/epoch - 79ms/step\n",
      "Epoch 31/50\n",
      "17/17 - 1s - loss: 0.6505 - accuracy: 0.6264 - auc_2: 0.6678 - precision_2: 0.6075 - recall_2: 0.5394 - f1_score: 0.6317 - val_loss: 0.6841 - val_accuracy: 0.5441 - val_auc_2: 0.5944 - val_precision_2: 0.5862 - val_recall_2: 0.4892 - val_f1_score: 0.6950 - 1s/epoch - 79ms/step\n",
      "Epoch 32/50\n",
      "17/17 - 1s - loss: 0.6498 - accuracy: 0.6284 - auc_2: 0.6717 - precision_2: 0.6103 - recall_2: 0.5394 - f1_score: 0.6317 - val_loss: 0.6990 - val_accuracy: 0.5441 - val_auc_2: 0.5571 - val_precision_2: 0.5893 - val_recall_2: 0.4748 - val_f1_score: 0.6950 - 1s/epoch - 79ms/step\n",
      "Epoch 33/50\n",
      "17/17 - 1s - loss: 0.6498 - accuracy: 0.6207 - auc_2: 0.6693 - precision_2: 0.6019 - recall_2: 0.5270 - f1_score: 0.6317 - val_loss: 0.6976 - val_accuracy: 0.5556 - val_auc_2: 0.5687 - val_precision_2: 0.6162 - val_recall_2: 0.4388 - val_f1_score: 0.6950 - 1s/epoch - 80ms/step\n",
      "Epoch 34/50\n",
      "17/17 - 1s - loss: 0.6473 - accuracy: 0.6379 - auc_2: 0.6750 - precision_2: 0.6368 - recall_2: 0.5021 - f1_score: 0.6317 - val_loss: 0.6923 - val_accuracy: 0.5441 - val_auc_2: 0.5865 - val_precision_2: 0.5980 - val_recall_2: 0.4388 - val_f1_score: 0.6950 - 1s/epoch - 81ms/step\n",
      "Epoch 35/50\n",
      "17/17 - 1s - loss: 0.6482 - accuracy: 0.6341 - auc_2: 0.6737 - precision_2: 0.6302 - recall_2: 0.5021 - f1_score: 0.6317 - val_loss: 0.6886 - val_accuracy: 0.5287 - val_auc_2: 0.5914 - val_precision_2: 0.5784 - val_recall_2: 0.4245 - val_f1_score: 0.6950 - 1s/epoch - 79ms/step\n",
      "Epoch 36/50\n",
      "17/17 - 1s - loss: 0.6463 - accuracy: 0.6284 - auc_2: 0.6806 - precision_2: 0.6158 - recall_2: 0.5187 - f1_score: 0.6317 - val_loss: 0.6889 - val_accuracy: 0.5594 - val_auc_2: 0.5905 - val_precision_2: 0.6111 - val_recall_2: 0.4748 - val_f1_score: 0.6950 - 1s/epoch - 80ms/step\n",
      "Epoch 37/50\n",
      "17/17 - 1s - loss: 0.6456 - accuracy: 0.6303 - auc_2: 0.6836 - precision_2: 0.6043 - recall_2: 0.5768 - f1_score: 0.6317 - val_loss: 0.6896 - val_accuracy: 0.5287 - val_auc_2: 0.5837 - val_precision_2: 0.5678 - val_recall_2: 0.4820 - val_f1_score: 0.6950 - 1s/epoch - 82ms/step\n",
      "Epoch 38/50\n",
      "17/17 - 1s - loss: 0.6451 - accuracy: 0.6303 - auc_2: 0.6826 - precision_2: 0.6091 - recall_2: 0.5560 - f1_score: 0.6317 - val_loss: 0.6870 - val_accuracy: 0.5441 - val_auc_2: 0.5927 - val_precision_2: 0.5893 - val_recall_2: 0.4748 - val_f1_score: 0.6950 - 1s/epoch - 81ms/step\n",
      "Epoch 39/50\n",
      "17/17 - 1s - loss: 0.6443 - accuracy: 0.6264 - auc_2: 0.6830 - precision_2: 0.6085 - recall_2: 0.5353 - f1_score: 0.6317 - val_loss: 0.6883 - val_accuracy: 0.5556 - val_auc_2: 0.5906 - val_precision_2: 0.6055 - val_recall_2: 0.4748 - val_f1_score: 0.6950 - 1s/epoch - 80ms/step\n",
      "Epoch 40/50\n",
      "17/17 - 1s - loss: 0.6451 - accuracy: 0.6245 - auc_2: 0.6824 - precision_2: 0.5966 - recall_2: 0.5768 - f1_score: 0.6317 - val_loss: 0.6859 - val_accuracy: 0.5517 - val_auc_2: 0.5907 - val_precision_2: 0.5965 - val_recall_2: 0.4892 - val_f1_score: 0.6950 - 1s/epoch - 79ms/step\n",
      "Epoch 41/50\n",
      "17/17 - 1s - loss: 0.6449 - accuracy: 0.6245 - auc_2: 0.6818 - precision_2: 0.6047 - recall_2: 0.5394 - f1_score: 0.6317 - val_loss: 0.6912 - val_accuracy: 0.5364 - val_auc_2: 0.5885 - val_precision_2: 0.5865 - val_recall_2: 0.4388 - val_f1_score: 0.6950 - 1s/epoch - 80ms/step\n",
      "Epoch 42/50\n",
      "17/17 - 1s - loss: 0.6450 - accuracy: 0.6360 - auc_2: 0.6797 - precision_2: 0.6256 - recall_2: 0.5270 - f1_score: 0.6317 - val_loss: 0.6856 - val_accuracy: 0.5556 - val_auc_2: 0.5958 - val_precision_2: 0.6018 - val_recall_2: 0.4892 - val_f1_score: 0.6950 - 1s/epoch - 82ms/step\n",
      "Epoch 43/50\n",
      "17/17 - 1s - loss: 0.6435 - accuracy: 0.6245 - auc_2: 0.6818 - precision_2: 0.6018 - recall_2: 0.5519 - f1_score: 0.6317 - val_loss: 0.6936 - val_accuracy: 0.5402 - val_auc_2: 0.5864 - val_precision_2: 0.5888 - val_recall_2: 0.4532 - val_f1_score: 0.6950 - 1s/epoch - 79ms/step\n",
      "Epoch 44/50\n",
      "17/17 - 1s - loss: 0.6431 - accuracy: 0.6379 - auc_2: 0.6853 - precision_2: 0.6383 - recall_2: 0.4979 - f1_score: 0.6317 - val_loss: 0.6911 - val_accuracy: 0.5326 - val_auc_2: 0.5945 - val_precision_2: 0.5842 - val_recall_2: 0.4245 - val_f1_score: 0.6950 - 1s/epoch - 79ms/step\n",
      "Epoch 45/50\n",
      "17/17 - 1s - loss: 0.6428 - accuracy: 0.6437 - auc_2: 0.6836 - precision_2: 0.6503 - recall_2: 0.4938 - f1_score: 0.6317 - val_loss: 0.6994 - val_accuracy: 0.5517 - val_auc_2: 0.5826 - val_precision_2: 0.6058 - val_recall_2: 0.4532 - val_f1_score: 0.6950 - 1s/epoch - 81ms/step\n",
      "Epoch 46/50\n",
      "17/17 - 1s - loss: 0.6449 - accuracy: 0.6494 - auc_2: 0.6776 - precision_2: 0.6543 - recall_2: 0.5104 - f1_score: 0.6317 - val_loss: 0.6928 - val_accuracy: 0.5517 - val_auc_2: 0.5910 - val_precision_2: 0.6019 - val_recall_2: 0.4676 - val_f1_score: 0.6950 - 1s/epoch - 80ms/step\n",
      "Epoch 47/50\n",
      "17/17 - 1s - loss: 0.6449 - accuracy: 0.6245 - auc_2: 0.6808 - precision_2: 0.6047 - recall_2: 0.5394 - f1_score: 0.6317 - val_loss: 0.6873 - val_accuracy: 0.5364 - val_auc_2: 0.5928 - val_precision_2: 0.5804 - val_recall_2: 0.4676 - val_f1_score: 0.6950 - 1s/epoch - 79ms/step\n",
      "Epoch 48/50\n",
      "17/17 - 1s - loss: 0.6449 - accuracy: 0.6284 - auc_2: 0.6799 - precision_2: 0.6146 - recall_2: 0.5228 - f1_score: 0.6317 - val_loss: 0.6911 - val_accuracy: 0.5364 - val_auc_2: 0.5877 - val_precision_2: 0.5882 - val_recall_2: 0.4317 - val_f1_score: 0.6950 - 1s/epoch - 80ms/step\n",
      "Epoch 49/50\n",
      "17/17 - 1s - loss: 0.6408 - accuracy: 0.6398 - auc_2: 0.6864 - precision_2: 0.6387 - recall_2: 0.5062 - f1_score: 0.6317 - val_loss: 0.6921 - val_accuracy: 0.5479 - val_auc_2: 0.5936 - val_precision_2: 0.6105 - val_recall_2: 0.4173 - val_f1_score: 0.6950 - 1s/epoch - 80ms/step\n",
      "Epoch 50/50\n",
      "17/17 - 1s - loss: 0.6435 - accuracy: 0.6303 - auc_2: 0.6808 - precision_2: 0.6200 - recall_2: 0.5145 - f1_score: 0.6317 - val_loss: 0.6946 - val_accuracy: 0.5479 - val_auc_2: 0.5819 - val_precision_2: 0.6082 - val_recall_2: 0.4245 - val_f1_score: 0.6950 - 1s/epoch - 81ms/step\n"
     ]
    },
    {
     "data": {
      "image/png": "[encoded data removed]",
      "text/plain": [
       "<Figure size 432x288 with 1 Axes>"
      ]
     },
     "metadata": {
      "needs_background": "light"
     },
     "output_type": "display_data"
    },
    {
     "name": "stdout",
     "output_type": "stream",
     "text": [
      "Epoch 1/50\n",
      "17/17 - 3s - loss: 0.7158 - accuracy: 0.4732 - auc_3: 0.4790 - precision_3: 0.4561 - recall_3: 0.1962 - f1_score: 0.6734 - val_loss: 0.6952 - val_accuracy: 0.5211 - val_auc_3: 0.5259 - val_precision_3: 0.4479 - val_recall_3: 0.3739 - val_f1_score: 0.6117 - 3s/epoch - 203ms/step\n",
      "Epoch 2/50\n",
      "17/17 - 1s - loss: 0.6992 - accuracy: 0.5019 - auc_3: 0.5047 - precision_3: 0.5114 - recall_3: 0.4226 - f1_score: 0.6734 - val_loss: 0.6976 - val_accuracy: 0.5556 - val_auc_3: 0.5334 - val_precision_3: 0.4962 - val_recall_3: 0.5652 - val_f1_score: 0.6117 - 1s/epoch - 80ms/step\n",
      "Epoch 3/50\n",
      "17/17 - 1s - loss: 0.6962 - accuracy: 0.5000 - auc_3: 0.5125 - precision_3: 0.5068 - recall_3: 0.5585 - f1_score: 0.6734 - val_loss: 0.7016 - val_accuracy: 0.5211 - val_auc_3: 0.5272 - val_precision_3: 0.4688 - val_recall_3: 0.6522 - val_f1_score: 0.6117 - 1s/epoch - 80ms/step\n",
      "Epoch 4/50\n",
      "17/17 - 1s - loss: 0.6928 - accuracy: 0.5153 - auc_3: 0.5290 - precision_3: 0.5188 - recall_3: 0.6264 - f1_score: 0.6734 - val_loss: 0.6999 - val_accuracy: 0.5211 - val_auc_3: 0.5303 - val_precision_3: 0.4684 - val_recall_3: 0.6435 - val_f1_score: 0.6117 - 1s/epoch - 79ms/step\n",
      "Epoch 5/50\n",
      "17/17 - 1s - loss: 0.6905 - accuracy: 0.5172 - auc_3: 0.5380 - precision_3: 0.5202 - recall_3: 0.6302 - f1_score: 0.6734 - val_loss: 0.6967 - val_accuracy: 0.5326 - val_auc_3: 0.5506 - val_precision_3: 0.4788 - val_recall_3: 0.6870 - val_f1_score: 0.6117 - 1s/epoch - 79ms/step\n",
      "Epoch 6/50\n",
      "17/17 - 1s - loss: 0.6863 - accuracy: 0.5268 - auc_3: 0.5557 - precision_3: 0.5278 - recall_3: 0.6453 - f1_score: 0.6734 - val_loss: 0.6954 - val_accuracy: 0.5172 - val_auc_3: 0.5514 - val_precision_3: 0.4658 - val_recall_3: 0.6522 - val_f1_score: 0.6117 - 1s/epoch - 78ms/step\n",
      "Epoch 7/50\n",
      "17/17 - 1s - loss: 0.6835 - accuracy: 0.5192 - auc_3: 0.5703 - precision_3: 0.5212 - recall_3: 0.6491 - f1_score: 0.6734 - val_loss: 0.6979 - val_accuracy: 0.5134 - val_auc_3: 0.5624 - val_precision_3: 0.4659 - val_recall_3: 0.7130 - val_f1_score: 0.6117 - 1s/epoch - 80ms/step\n",
      "Epoch 8/50\n",
      "17/17 - 1s - loss: 0.6827 - accuracy: 0.5383 - auc_3: 0.5720 - precision_3: 0.5347 - recall_3: 0.6981 - f1_score: 0.6734 - val_loss: 0.6961 - val_accuracy: 0.5172 - val_auc_3: 0.5669 - val_precision_3: 0.4671 - val_recall_3: 0.6783 - val_f1_score: 0.6117 - 1s/epoch - 81ms/step\n",
      "Epoch 9/50\n",
      "17/17 - 1s - loss: 0.6820 - accuracy: 0.5307 - auc_3: 0.5799 - precision_3: 0.5303 - recall_3: 0.6604 - f1_score: 0.6734 - val_loss: 0.6965 - val_accuracy: 0.5096 - val_auc_3: 0.5664 - val_precision_3: 0.4620 - val_recall_3: 0.6870 - val_f1_score: 0.6117 - 1s/epoch - 79ms/step\n",
      "Epoch 10/50\n",
      "17/17 - 1s - loss: 0.6796 - accuracy: 0.5441 - auc_3: 0.5797 - precision_3: 0.5413 - recall_3: 0.6679 - f1_score: 0.6734 - val_loss: 0.6906 - val_accuracy: 0.5556 - val_auc_3: 0.5907 - val_precision_3: 0.4969 - val_recall_3: 0.6870 - val_f1_score: 0.6117 - 1s/epoch - 79ms/step\n",
      "Epoch 11/50\n",
      "17/17 - 1s - loss: 0.6806 - accuracy: 0.5575 - auc_3: 0.5954 - precision_3: 0.5654 - recall_3: 0.5547 - f1_score: 0.6734 - val_loss: 0.6887 - val_accuracy: 0.5632 - val_auc_3: 0.5622 - val_precision_3: 0.5041 - val_recall_3: 0.5391 - val_f1_score: 0.6117 - 1s/epoch - 80ms/step\n",
      "Epoch 12/50\n",
      "17/17 - 1s - loss: 0.6827 - accuracy: 0.5441 - auc_3: 0.5838 - precision_3: 0.5611 - recall_3: 0.4679 - f1_score: 0.6734 - val_loss: 0.6908 - val_accuracy: 0.5556 - val_auc_3: 0.5595 - val_precision_3: 0.4964 - val_recall_3: 0.5913 - val_f1_score: 0.6117 - 1s/epoch - 80ms/step\n",
      "Epoch 13/50\n",
      "17/17 - 1s - loss: 0.6788 - accuracy: 0.5498 - auc_3: 0.6015 - precision_3: 0.5573 - recall_3: 0.5509 - f1_score: 0.6734 - val_loss: 0.6940 - val_accuracy: 0.5402 - val_auc_3: 0.5474 - val_precision_3: 0.4825 - val_recall_3: 0.6000 - val_f1_score: 0.6117 - 1s/epoch - 79ms/step\n",
      "Epoch 14/50\n",
      "17/17 - 1s - loss: 0.6782 - accuracy: 0.5670 - auc_3: 0.6006 - precision_3: 0.5714 - recall_3: 0.5887 - f1_score: 0.6734 - val_loss: 0.6918 - val_accuracy: 0.5670 - val_auc_3: 0.5574 - val_precision_3: 0.5072 - val_recall_3: 0.6087 - val_f1_score: 0.6117 - 1s/epoch - 80ms/step\n",
      "Epoch 15/50\n",
      "17/17 - 1s - loss: 0.6773 - accuracy: 0.5709 - auc_3: 0.6026 - precision_3: 0.5695 - recall_3: 0.6340 - f1_score: 0.6734 - val_loss: 0.6953 - val_accuracy: 0.5747 - val_auc_3: 0.5591 - val_precision_3: 0.5141 - val_recall_3: 0.6348 - val_f1_score: 0.6117 - 1s/epoch - 80ms/step\n",
      "Epoch 16/50\n",
      "17/17 - 1s - loss: 0.6774 - accuracy: 0.5690 - auc_3: 0.6060 - precision_3: 0.5654 - recall_3: 0.6528 - f1_score: 0.6734 - val_loss: 0.6966 - val_accuracy: 0.5747 - val_auc_3: 0.5560 - val_precision_3: 0.5132 - val_recall_3: 0.6783 - val_f1_score: 0.6117 - 1s/epoch - 85ms/step\n",
      "Epoch 17/50\n",
      "17/17 - 1s - loss: 0.6771 - accuracy: 0.5728 - auc_3: 0.6074 - precision_3: 0.5686 - recall_3: 0.6566 - f1_score: 0.6734 - val_loss: 0.6930 - val_accuracy: 0.5556 - val_auc_3: 0.5585 - val_precision_3: 0.4966 - val_recall_3: 0.6261 - val_f1_score: 0.6117 - 1s/epoch - 79ms/step\n",
      "Epoch 18/50\n",
      "17/17 - 1s - loss: 0.6757 - accuracy: 0.5824 - auc_3: 0.6095 - precision_3: 0.5786 - recall_3: 0.6528 - f1_score: 0.6734 - val_loss: 0.6928 - val_accuracy: 0.5632 - val_auc_3: 0.5583 - val_precision_3: 0.5031 - val_recall_3: 0.6957 - val_f1_score: 0.6117 - 1s/epoch - 79ms/step\n",
      "Epoch 19/50\n",
      "17/17 - 1s - loss: 0.6749 - accuracy: 0.5881 - auc_3: 0.6130 - precision_3: 0.5839 - recall_3: 0.6566 - f1_score: 0.6734 - val_loss: 0.6925 - val_accuracy: 0.5479 - val_auc_3: 0.5587 - val_precision_3: 0.4906 - val_recall_3: 0.6783 - val_f1_score: 0.6117 - 1s/epoch - 80ms/step\n",
      "Epoch 20/50\n",
      "17/17 - 1s - loss: 0.6735 - accuracy: 0.5843 - auc_3: 0.6164 - precision_3: 0.5774 - recall_3: 0.6755 - f1_score: 0.6734 - val_loss: 0.6915 - val_accuracy: 0.5747 - val_auc_3: 0.5728 - val_precision_3: 0.5122 - val_recall_3: 0.7304 - val_f1_score: 0.6117 - 1s/epoch - 81ms/step\n",
      "Epoch 21/50\n",
      "17/17 - 1s - loss: 0.6729 - accuracy: 0.6111 - auc_3: 0.6367 - precision_3: 0.6013 - recall_3: 0.6943 - f1_score: 0.6734 - val_loss: 0.6931 - val_accuracy: 0.5709 - val_auc_3: 0.5599 - val_precision_3: 0.5096 - val_recall_3: 0.6957 - val_f1_score: 0.6117 - 1s/epoch - 78ms/step\n",
      "Epoch 22/50\n",
      "17/17 - 1s - loss: 0.6721 - accuracy: 0.6188 - auc_3: 0.6392 - precision_3: 0.6179 - recall_3: 0.6528 - f1_score: 0.6734 - val_loss: 0.6906 - val_accuracy: 0.5632 - val_auc_3: 0.5651 - val_precision_3: 0.5034 - val_recall_3: 0.6522 - val_f1_score: 0.6117 - 1s/epoch - 79ms/step\n",
      "Epoch 23/50\n",
      "17/17 - 1s - loss: 0.6721 - accuracy: 0.6092 - auc_3: 0.6425 - precision_3: 0.6013 - recall_3: 0.6830 - f1_score: 0.6734 - val_loss: 0.6928 - val_accuracy: 0.5517 - val_auc_3: 0.5631 - val_precision_3: 0.4939 - val_recall_3: 0.7043 - val_f1_score: 0.6117 - 1s/epoch - 81ms/step\n",
      "Epoch 24/50\n",
      "17/17 - 1s - loss: 0.6717 - accuracy: 0.6207 - auc_3: 0.6412 - precision_3: 0.6218 - recall_3: 0.6453 - f1_score: 0.6734 - val_loss: 0.6895 - val_accuracy: 0.5632 - val_auc_3: 0.5611 - val_precision_3: 0.5035 - val_recall_3: 0.6174 - val_f1_score: 0.6117 - 1s/epoch - 80ms/step\n",
      "Epoch 25/50\n",
      "17/17 - 1s - loss: 0.6713 - accuracy: 0.6111 - auc_3: 0.6419 - precision_3: 0.6054 - recall_3: 0.6717 - f1_score: 0.6734 - val_loss: 0.6920 - val_accuracy: 0.5556 - val_auc_3: 0.5678 - val_precision_3: 0.4968 - val_recall_3: 0.6783 - val_f1_score: 0.6117 - 1s/epoch - 79ms/step\n",
      "Epoch 26/50\n",
      "17/17 - 1s - loss: 0.6697 - accuracy: 0.5996 - auc_3: 0.6458 - precision_3: 0.5870 - recall_3: 0.7132 - f1_score: 0.6734 - val_loss: 0.6955 - val_accuracy: 0.5364 - val_auc_3: 0.5555 - val_precision_3: 0.4824 - val_recall_3: 0.7130 - val_f1_score: 0.6117 - 1s/epoch - 78ms/step\n",
      "Epoch 27/50\n",
      "17/17 - 1s - loss: 0.6693 - accuracy: 0.6092 - auc_3: 0.6464 - precision_3: 0.5933 - recall_3: 0.7321 - f1_score: 0.6734 - val_loss: 0.6958 - val_accuracy: 0.5019 - val_auc_3: 0.5523 - val_precision_3: 0.4556 - val_recall_3: 0.6696 - val_f1_score: 0.6117 - 1s/epoch - 81ms/step\n",
      "Epoch 28/50\n",
      "17/17 - 1s - loss: 0.6683 - accuracy: 0.6149 - auc_3: 0.6396 - precision_3: 0.5964 - recall_3: 0.7472 - f1_score: 0.6734 - val_loss: 0.6908 - val_accuracy: 0.5364 - val_auc_3: 0.5767 - val_precision_3: 0.4819 - val_recall_3: 0.6957 - val_f1_score: 0.6117 - 1s/epoch - 79ms/step\n",
      "Epoch 29/50\n",
      "17/17 - 1s - loss: 0.6705 - accuracy: 0.6054 - auc_3: 0.6231 - precision_3: 0.5902 - recall_3: 0.7283 - f1_score: 0.6734 - val_loss: 0.6883 - val_accuracy: 0.5441 - val_auc_3: 0.5844 - val_precision_3: 0.4872 - val_recall_3: 0.6609 - val_f1_score: 0.6117 - 1s/epoch - 79ms/step\n",
      "Epoch 30/50\n",
      "17/17 - 1s - loss: 0.6693 - accuracy: 0.6073 - auc_3: 0.6283 - precision_3: 0.6027 - recall_3: 0.6642 - f1_score: 0.6734 - val_loss: 0.6863 - val_accuracy: 0.5402 - val_auc_3: 0.5777 - val_precision_3: 0.4820 - val_recall_3: 0.5826 - val_f1_score: 0.6117 - 1s/epoch - 80ms/step\n",
      "Epoch 31/50\n",
      "17/17 - 1s - loss: 0.6687 - accuracy: 0.5977 - auc_3: 0.6318 - precision_3: 0.6007 - recall_3: 0.6189 - f1_score: 0.6734 - val_loss: 0.6881 - val_accuracy: 0.5287 - val_auc_3: 0.5747 - val_precision_3: 0.4718 - val_recall_3: 0.5826 - val_f1_score: 0.6117 - 1s/epoch - 80ms/step\n",
      "Epoch 32/50\n",
      "17/17 - 1s - loss: 0.6684 - accuracy: 0.6015 - auc_3: 0.6291 - precision_3: 0.5993 - recall_3: 0.6491 - f1_score: 0.6734 - val_loss: 0.6903 - val_accuracy: 0.5249 - val_auc_3: 0.5760 - val_precision_3: 0.4694 - val_recall_3: 0.6000 - val_f1_score: 0.6117 - 1s/epoch - 78ms/step\n",
      "Epoch 33/50\n",
      "17/17 - 1s - loss: 0.6698 - accuracy: 0.6034 - auc_3: 0.6341 - precision_3: 0.6239 - recall_3: 0.5509 - f1_score: 0.6734 - val_loss: 0.6881 - val_accuracy: 0.5441 - val_auc_3: 0.5556 - val_precision_3: 0.4831 - val_recall_3: 0.4957 - val_f1_score: 0.6117 - 1s/epoch - 79ms/step\n",
      "Epoch 34/50\n",
      "17/17 - 1s - loss: 0.6687 - accuracy: 0.6034 - auc_3: 0.6421 - precision_3: 0.6142 - recall_3: 0.5887 - f1_score: 0.6734 - val_loss: 0.6885 - val_accuracy: 0.5479 - val_auc_3: 0.5615 - val_precision_3: 0.4894 - val_recall_3: 0.6000 - val_f1_score: 0.6117 - 1s/epoch - 80ms/step\n",
      "Epoch 35/50\n",
      "17/17 - 1s - loss: 0.6659 - accuracy: 0.6092 - auc_3: 0.6496 - precision_3: 0.6093 - recall_3: 0.6415 - f1_score: 0.6734 - val_loss: 0.6891 - val_accuracy: 0.5287 - val_auc_3: 0.5570 - val_precision_3: 0.4722 - val_recall_3: 0.5913 - val_f1_score: 0.6117 - 1s/epoch - 79ms/step\n",
      "Epoch 36/50\n",
      "17/17 - 1s - loss: 0.6664 - accuracy: 0.6054 - auc_3: 0.6463 - precision_3: 0.5865 - recall_3: 0.7547 - f1_score: 0.6734 - val_loss: 0.6922 - val_accuracy: 0.4943 - val_auc_3: 0.5805 - val_precision_3: 0.4525 - val_recall_3: 0.7043 - val_f1_score: 0.6117 - 1s/epoch - 78ms/step\n",
      "Epoch 37/50\n",
      "17/17 - 1s - loss: 0.6642 - accuracy: 0.6111 - auc_3: 0.6542 - precision_3: 0.5842 - recall_3: 0.8113 - f1_score: 0.6734 - val_loss: 0.6900 - val_accuracy: 0.5134 - val_auc_3: 0.5848 - val_precision_3: 0.4663 - val_recall_3: 0.7217 - val_f1_score: 0.6117 - 1s/epoch - 78ms/step\n",
      "Epoch 38/50\n",
      "17/17 - 1s - loss: 0.6635 - accuracy: 0.6264 - auc_3: 0.6517 - precision_3: 0.6061 - recall_3: 0.7547 - f1_score: 0.6734 - val_loss: 0.6866 - val_accuracy: 0.5287 - val_auc_3: 0.5865 - val_precision_3: 0.4759 - val_recall_3: 0.6870 - val_f1_score: 0.6117 - 1s/epoch - 80ms/step\n",
      "Epoch 39/50\n",
      "17/17 - 1s - loss: 0.6625 - accuracy: 0.6341 - auc_3: 0.6567 - precision_3: 0.6164 - recall_3: 0.7396 - f1_score: 0.6734 - val_loss: 0.6870 - val_accuracy: 0.5364 - val_auc_3: 0.5844 - val_precision_3: 0.4817 - val_recall_3: 0.6870 - val_f1_score: 0.6117 - 1s/epoch - 79ms/step\n",
      "Epoch 40/50\n",
      "17/17 - 1s - loss: 0.6618 - accuracy: 0.6303 - auc_3: 0.6576 - precision_3: 0.6139 - recall_3: 0.7321 - f1_score: 0.6734 - val_loss: 0.6854 - val_accuracy: 0.5441 - val_auc_3: 0.5913 - val_precision_3: 0.4875 - val_recall_3: 0.6783 - val_f1_score: 0.6117 - 1s/epoch - 79ms/step\n",
      "Epoch 41/50\n",
      "17/17 - 1s - loss: 0.6617 - accuracy: 0.6169 - auc_3: 0.6572 - precision_3: 0.6140 - recall_3: 0.6604 - f1_score: 0.6734 - val_loss: 0.6905 - val_accuracy: 0.5134 - val_auc_3: 0.5577 - val_precision_3: 0.4565 - val_recall_3: 0.5478 - val_f1_score: 0.6117 - 1s/epoch - 79ms/step\n",
      "Epoch 42/50\n",
      "17/17 - 1s - loss: 0.6632 - accuracy: 0.6130 - auc_3: 0.6509 - precision_3: 0.6121 - recall_3: 0.6491 - f1_score: 0.6734 - val_loss: 0.6911 - val_accuracy: 0.5211 - val_auc_3: 0.5680 - val_precision_3: 0.4643 - val_recall_3: 0.5652 - val_f1_score: 0.6117 - 1s/epoch - 83ms/step\n",
      "Epoch 43/50\n",
      "17/17 - 1s - loss: 0.6629 - accuracy: 0.6130 - auc_3: 0.6483 - precision_3: 0.6105 - recall_3: 0.6566 - f1_score: 0.6734 - val_loss: 0.6906 - val_accuracy: 0.5172 - val_auc_3: 0.5631 - val_precision_3: 0.4615 - val_recall_3: 0.5739 - val_f1_score: 0.6117 - 1s/epoch - 79ms/step\n",
      "Epoch 44/50\n",
      "17/17 - 1s - loss: 0.6625 - accuracy: 0.6130 - auc_3: 0.6497 - precision_3: 0.6054 - recall_3: 0.6830 - f1_score: 0.6734 - val_loss: 0.6922 - val_accuracy: 0.5172 - val_auc_3: 0.5621 - val_precision_3: 0.4631 - val_recall_3: 0.6000 - val_f1_score: 0.6117 - 1s/epoch - 78ms/step\n",
      "Epoch 45/50\n",
      "17/17 - 1s - loss: 0.6639 - accuracy: 0.6073 - auc_3: 0.6455 - precision_3: 0.5909 - recall_3: 0.7358 - f1_score: 0.6734 - val_loss: 0.6973 - val_accuracy: 0.5211 - val_auc_3: 0.5560 - val_precision_3: 0.4699 - val_recall_3: 0.6783 - val_f1_score: 0.6117 - 1s/epoch - 80ms/step\n",
      "Epoch 46/50\n",
      "17/17 - 1s - loss: 0.6642 - accuracy: 0.5977 - auc_3: 0.6407 - precision_3: 0.5851 - recall_3: 0.7132 - f1_score: 0.6734 - val_loss: 0.6934 - val_accuracy: 0.5326 - val_auc_3: 0.5676 - val_precision_3: 0.4762 - val_recall_3: 0.6087 - val_f1_score: 0.6117 - 1s/epoch - 82ms/step\n",
      "Epoch 47/50\n",
      "17/17 - 1s - loss: 0.6608 - accuracy: 0.6149 - auc_3: 0.6511 - precision_3: 0.6194 - recall_3: 0.6264 - f1_score: 0.6734 - val_loss: 0.6911 - val_accuracy: 0.5479 - val_auc_3: 0.5711 - val_precision_3: 0.4892 - val_recall_3: 0.5913 - val_f1_score: 0.6117 - 1s/epoch - 78ms/step\n",
      "Epoch 48/50\n",
      "17/17 - 1s - loss: 0.6613 - accuracy: 0.6226 - auc_3: 0.6496 - precision_3: 0.6232 - recall_3: 0.6491 - f1_score: 0.6734 - val_loss: 0.6919 - val_accuracy: 0.5249 - val_auc_3: 0.5740 - val_precision_3: 0.4710 - val_recall_3: 0.6348 - val_f1_score: 0.6117 - 1s/epoch - 80ms/step\n",
      "Epoch 49/50\n",
      "17/17 - 1s - loss: 0.6622 - accuracy: 0.6188 - auc_3: 0.6503 - precision_3: 0.6051 - recall_3: 0.7170 - f1_score: 0.6734 - val_loss: 0.6932 - val_accuracy: 0.5211 - val_auc_3: 0.5711 - val_precision_3: 0.4675 - val_recall_3: 0.6261 - val_f1_score: 0.6117 - 1s/epoch - 81ms/step\n",
      "Epoch 50/50\n",
      "17/17 - 1s - loss: 0.6605 - accuracy: 0.6245 - auc_3: 0.6557 - precision_3: 0.6154 - recall_3: 0.6943 - f1_score: 0.6734 - val_loss: 0.6904 - val_accuracy: 0.5249 - val_auc_3: 0.5701 - val_precision_3: 0.4676 - val_recall_3: 0.5652 - val_f1_score: 0.6117 - 1s/epoch - 79ms/step\n"
     ]
    },
    {
     "data": {
      "image/png": "[encoded data removed]",
      "text/plain": [
       "<Figure size 432x288 with 1 Axes>"
      ]
     },
     "metadata": {
      "needs_background": "light"
     },
     "output_type": "display_data"
    }
   ],
   "source": [
    "for train_index, val_index in kf.split(X):\n",
    "    X_train, X_val = X[train_index], X[val_index]\n",
    "    y_train, y_val = y[train_index], y[val_index]\n",
    "    baseline_body_model = Baseline(n_features, n_length, n_outputs)\n",
    "    history = baseline_body_model.train(X_train, y_train, X_val, y_val, epochs, batch_size)\n",
    "    plt.plot(history.history['loss'])\n",
    "    plt.show()"
   ]
  },
  {
   "cell_type": "markdown",
   "metadata": {},
   "source": [
    "#### Predictions on the holdout set"
   ]
  },
  {
   "cell_type": "code",
   "execution_count": 7,
   "metadata": {},
   "outputs": [
    {
     "name": "stdout",
     "output_type": "stream",
     "text": [
      "Accuracy: 58.39% \n",
      "ROC/AUC: 0.64 \n",
      "Precision: 0.90 \n",
      "Recall: 0.58 \n",
      "F1 score: 0.92\n"
     ]
    }
   ],
   "source": [
    "y_pred = baseline_body_model.predict(X_test)\n",
    "_, acc, auc, precision, recall, f1 = baseline_body_model.evaluate(X_test, y_test)\n",
    "results.append(round(auc, 2))\n",
    "print('Accuracy: {:.2f}% \\nROC/AUC: {:.2f} \\nPrecision: {:.2f} \\nRecall: {:.2f} \\nF1 score: {:.2f}'.format(acc * 100, auc, precision, recall, f1))"
   ]
  },
  {
   "cell_type": "markdown",
   "metadata": {},
   "source": [
    "## 2. Unimodal Face Modality (Action Units + Head Pose)"
   ]
  },
  {
   "cell_type": "markdown",
   "metadata": {},
   "source": [
    "### Dataset"
   ]
  },
  {
   "cell_type": "code",
   "execution_count": 8,
   "metadata": {},
   "outputs": [
    {
     "name": "stdout",
     "output_type": "stream",
     "text": [
      "(752, 350, 25) (752, 1)\n",
      "(268, 350, 25) (268, 1)\n"
     ]
    }
   ],
   "source": [
    "X_train, X_test, y_train, y_test = load_dataset('AUs', binary=True)\n",
    "X_train = X_train.reshape(X_train.shape[0], X_train.shape[2], X_train.shape[3])\n",
    "X_test = X_test.reshape(X_test.shape[0], X_test.shape[2], X_test.shape[3])\n",
    "X = X_train.copy()\n",
    "y = y_train.copy()\n",
    "\n",
    "print(X_train.shape, y_train.shape)\n",
    "print(X_test.shape, y_test.shape)\n",
    "\n",
    "n_length, n_features, n_outputs = X_train.shape[1], X_train.shape[-1], y_train.shape[1]"
   ]
  },
  {
   "cell_type": "code",
   "execution_count": 9,
   "metadata": {},
   "outputs": [
    {
     "name": "stdout",
     "output_type": "stream",
     "text": [
      "Model: \"model_4\"\n",
      "_________________________________________________________________\n",
      " Layer (type)                Output Shape              Param #   \n",
      "=================================================================\n",
      " input_5 (InputLayer)        [(None, 350, 25)]         0         \n",
      "                                                                 \n",
      " lstm_4 (LSTM)               (None, 50)                15200     \n",
      "                                                                 \n",
      " dense_8 (Dense)             (None, 50)                2550      \n",
      "                                                                 \n",
      " dense_9 (Dense)             (None, 1)                 51        \n",
      "                                                                 \n",
      "=================================================================\n",
      "Total params: 17,801\n",
      "Trainable params: 17,801\n",
      "Non-trainable params: 0\n",
      "_________________________________________________________________\n"
     ]
    }
   ],
   "source": [
    "model = Baseline(n_features, n_length, n_outputs)\n",
    "model.summary()"
   ]
  },
  {
   "cell_type": "markdown",
   "metadata": {},
   "source": [
    "### Baseline LSTM model"
   ]
  },
  {
   "cell_type": "code",
   "execution_count": 10,
   "metadata": {},
   "outputs": [
    {
     "name": "stdout",
     "output_type": "stream",
     "text": [
      "Epoch 1/50\n",
      "16/16 - 4s - loss: 0.6912 - accuracy: 0.5230 - auc_5: 0.5499 - precision_5: 0.5385 - recall_5: 0.0868 - f1_score: 0.6514 - val_loss: 0.6992 - val_accuracy: 0.4861 - val_auc_5: 0.4986 - val_precision_5: 0.4390 - val_recall_5: 0.1452 - val_f1_score: 0.6613 - 4s/epoch - 228ms/step\n",
      "Epoch 2/50\n",
      "16/16 - 1s - loss: 0.6859 - accuracy: 0.4910 - auc_5: 0.5743 - precision_5: 0.4085 - recall_5: 0.1198 - f1_score: 0.6514 - val_loss: 0.6953 - val_accuracy: 0.5299 - val_auc_5: 0.5265 - val_precision_5: 0.5300 - val_recall_5: 0.4274 - val_f1_score: 0.6613 - 1s/epoch - 78ms/step\n",
      "Epoch 3/50\n",
      "16/16 - 1s - loss: 0.6818 - accuracy: 0.5729 - auc_5: 0.5870 - precision_5: 0.5769 - recall_5: 0.4339 - f1_score: 0.6514 - val_loss: 0.6917 - val_accuracy: 0.5299 - val_auc_5: 0.5444 - val_precision_5: 0.5278 - val_recall_5: 0.4597 - val_f1_score: 0.6613 - 1s/epoch - 79ms/step\n",
      "Epoch 4/50\n",
      "16/16 - 1s - loss: 0.6777 - accuracy: 0.5868 - auc_5: 0.6035 - precision_5: 0.5916 - recall_5: 0.4669 - f1_score: 0.6514 - val_loss: 0.6896 - val_accuracy: 0.5418 - val_auc_5: 0.5614 - val_precision_5: 0.5405 - val_recall_5: 0.4839 - val_f1_score: 0.6613 - 1s/epoch - 78ms/step\n",
      "Epoch 5/50\n",
      "16/16 - 1s - loss: 0.6734 - accuracy: 0.5988 - auc_5: 0.6280 - precision_5: 0.5990 - recall_5: 0.5124 - f1_score: 0.6514 - val_loss: 0.6887 - val_accuracy: 0.5498 - val_auc_5: 0.5725 - val_precision_5: 0.5505 - val_recall_5: 0.4839 - val_f1_score: 0.6613 - 1s/epoch - 79ms/step\n",
      "Epoch 6/50\n",
      "16/16 - 1s - loss: 0.6707 - accuracy: 0.6108 - auc_5: 0.6349 - precision_5: 0.6135 - recall_5: 0.5248 - f1_score: 0.6514 - val_loss: 0.6879 - val_accuracy: 0.5578 - val_auc_5: 0.5772 - val_precision_5: 0.5586 - val_recall_5: 0.5000 - val_f1_score: 0.6613 - 1s/epoch - 79ms/step\n",
      "Epoch 7/50\n",
      "16/16 - 1s - loss: 0.6677 - accuracy: 0.6108 - auc_5: 0.6399 - precision_5: 0.6103 - recall_5: 0.5372 - f1_score: 0.6514 - val_loss: 0.6867 - val_accuracy: 0.5618 - val_auc_5: 0.5828 - val_precision_5: 0.5614 - val_recall_5: 0.5161 - val_f1_score: 0.6613 - 1s/epoch - 79ms/step\n",
      "Epoch 8/50\n",
      "16/16 - 1s - loss: 0.6658 - accuracy: 0.6148 - auc_5: 0.6438 - precision_5: 0.6129 - recall_5: 0.5496 - f1_score: 0.6514 - val_loss: 0.6857 - val_accuracy: 0.5618 - val_auc_5: 0.5846 - val_precision_5: 0.5614 - val_recall_5: 0.5161 - val_f1_score: 0.6613 - 1s/epoch - 78ms/step\n",
      "Epoch 9/50\n",
      "16/16 - 1s - loss: 0.6637 - accuracy: 0.6287 - auc_5: 0.6520 - precision_5: 0.6250 - recall_5: 0.5785 - f1_score: 0.6514 - val_loss: 0.6852 - val_accuracy: 0.5657 - val_auc_5: 0.5867 - val_precision_5: 0.5641 - val_recall_5: 0.5323 - val_f1_score: 0.6613 - 1s/epoch - 79ms/step\n",
      "Epoch 10/50\n",
      "16/16 - 1s - loss: 0.6629 - accuracy: 0.6248 - auc_5: 0.6547 - precision_5: 0.6205 - recall_5: 0.5744 - f1_score: 0.6514 - val_loss: 0.6849 - val_accuracy: 0.5657 - val_auc_5: 0.5918 - val_precision_5: 0.5641 - val_recall_5: 0.5323 - val_f1_score: 0.6613 - 1s/epoch - 79ms/step\n",
      "Epoch 11/50\n",
      "16/16 - 1s - loss: 0.6626 - accuracy: 0.6248 - auc_5: 0.6515 - precision_5: 0.6154 - recall_5: 0.5950 - f1_score: 0.6514 - val_loss: 0.6835 - val_accuracy: 0.5737 - val_auc_5: 0.5887 - val_precision_5: 0.5691 - val_recall_5: 0.5645 - val_f1_score: 0.6613 - 1s/epoch - 79ms/step\n",
      "Epoch 12/50\n",
      "16/16 - 1s - loss: 0.6609 - accuracy: 0.6248 - auc_5: 0.6543 - precision_5: 0.6164 - recall_5: 0.5909 - f1_score: 0.6514 - val_loss: 0.6835 - val_accuracy: 0.5737 - val_auc_5: 0.5885 - val_precision_5: 0.5691 - val_recall_5: 0.5645 - val_f1_score: 0.6613 - 1s/epoch - 80ms/step\n",
      "Epoch 13/50\n",
      "16/16 - 1s - loss: 0.6596 - accuracy: 0.6327 - auc_5: 0.6570 - precision_5: 0.6239 - recall_5: 0.6033 - f1_score: 0.6514 - val_loss: 0.6844 - val_accuracy: 0.5697 - val_auc_5: 0.5870 - val_precision_5: 0.5645 - val_recall_5: 0.5645 - val_f1_score: 0.6613 - 1s/epoch - 79ms/step\n",
      "Epoch 14/50\n",
      "16/16 - 1s - loss: 0.6592 - accuracy: 0.6287 - auc_5: 0.6574 - precision_5: 0.6197 - recall_5: 0.5992 - f1_score: 0.6514 - val_loss: 0.6836 - val_accuracy: 0.5697 - val_auc_5: 0.5904 - val_precision_5: 0.5635 - val_recall_5: 0.5726 - val_f1_score: 0.6613 - 1s/epoch - 79ms/step\n",
      "Epoch 15/50\n",
      "16/16 - 1s - loss: 0.6582 - accuracy: 0.6248 - auc_5: 0.6576 - precision_5: 0.6184 - recall_5: 0.5826 - f1_score: 0.6514 - val_loss: 0.6841 - val_accuracy: 0.5657 - val_auc_5: 0.5922 - val_precision_5: 0.5630 - val_recall_5: 0.5403 - val_f1_score: 0.6613 - 1s/epoch - 79ms/step\n",
      "Epoch 16/50\n",
      "16/16 - 1s - loss: 0.6579 - accuracy: 0.6128 - auc_5: 0.6579 - precision_5: 0.6043 - recall_5: 0.5744 - f1_score: 0.6514 - val_loss: 0.6844 - val_accuracy: 0.5618 - val_auc_5: 0.5902 - val_precision_5: 0.5583 - val_recall_5: 0.5403 - val_f1_score: 0.6613 - 1s/epoch - 79ms/step\n",
      "Epoch 17/50\n",
      "16/16 - 1s - loss: 0.6568 - accuracy: 0.6228 - auc_5: 0.6575 - precision_5: 0.6167 - recall_5: 0.5785 - f1_score: 0.6514 - val_loss: 0.6831 - val_accuracy: 0.5618 - val_auc_5: 0.5926 - val_precision_5: 0.5574 - val_recall_5: 0.5484 - val_f1_score: 0.6613 - 1s/epoch - 79ms/step\n",
      "Epoch 18/50\n",
      "16/16 - 1s - loss: 0.6565 - accuracy: 0.6228 - auc_5: 0.6577 - precision_5: 0.6188 - recall_5: 0.5702 - f1_score: 0.6514 - val_loss: 0.6834 - val_accuracy: 0.5618 - val_auc_5: 0.5924 - val_precision_5: 0.5583 - val_recall_5: 0.5403 - val_f1_score: 0.6613 - 1s/epoch - 79ms/step\n",
      "Epoch 19/50\n",
      "16/16 - 1s - loss: 0.6562 - accuracy: 0.6208 - auc_5: 0.6551 - precision_5: 0.6130 - recall_5: 0.5826 - f1_score: 0.6514 - val_loss: 0.6826 - val_accuracy: 0.5737 - val_auc_5: 0.5946 - val_precision_5: 0.5680 - val_recall_5: 0.5726 - val_f1_score: 0.6613 - 1s/epoch - 79ms/step\n",
      "Epoch 20/50\n",
      "16/16 - 1s - loss: 0.6548 - accuracy: 0.6148 - auc_5: 0.6610 - precision_5: 0.6109 - recall_5: 0.5579 - f1_score: 0.6514 - val_loss: 0.6841 - val_accuracy: 0.5578 - val_auc_5: 0.5933 - val_precision_5: 0.5546 - val_recall_5: 0.5323 - val_f1_score: 0.6613 - 1s/epoch - 78ms/step\n",
      "Epoch 21/50\n",
      "16/16 - 1s - loss: 0.6546 - accuracy: 0.6168 - auc_5: 0.6597 - precision_5: 0.6126 - recall_5: 0.5620 - f1_score: 0.6514 - val_loss: 0.6835 - val_accuracy: 0.5578 - val_auc_5: 0.5945 - val_precision_5: 0.5546 - val_recall_5: 0.5323 - val_f1_score: 0.6613 - 1s/epoch - 78ms/step\n",
      "Epoch 22/50\n",
      "16/16 - 1s - loss: 0.6540 - accuracy: 0.6188 - auc_5: 0.6611 - precision_5: 0.6143 - recall_5: 0.5661 - f1_score: 0.6514 - val_loss: 0.6833 - val_accuracy: 0.5578 - val_auc_5: 0.5949 - val_precision_5: 0.5546 - val_recall_5: 0.5323 - val_f1_score: 0.6613 - 1s/epoch - 78ms/step\n",
      "Epoch 23/50\n",
      "16/16 - 1s - loss: 0.6541 - accuracy: 0.6208 - auc_5: 0.6579 - precision_5: 0.6193 - recall_5: 0.5579 - f1_score: 0.6514 - val_loss: 0.6836 - val_accuracy: 0.5498 - val_auc_5: 0.5961 - val_precision_5: 0.5487 - val_recall_5: 0.5000 - val_f1_score: 0.6613 - 1s/epoch - 77ms/step\n",
      "Epoch 24/50\n",
      "16/16 - 1s - loss: 0.6533 - accuracy: 0.6188 - auc_5: 0.6627 - precision_5: 0.6154 - recall_5: 0.5620 - f1_score: 0.6514 - val_loss: 0.6829 - val_accuracy: 0.5618 - val_auc_5: 0.5986 - val_precision_5: 0.5583 - val_recall_5: 0.5403 - val_f1_score: 0.6613 - 1s/epoch - 78ms/step\n",
      "Epoch 25/50\n",
      "16/16 - 1s - loss: 0.6528 - accuracy: 0.6188 - auc_5: 0.6621 - precision_5: 0.6123 - recall_5: 0.5744 - f1_score: 0.6514 - val_loss: 0.6831 - val_accuracy: 0.5538 - val_auc_5: 0.5967 - val_precision_5: 0.5517 - val_recall_5: 0.5161 - val_f1_score: 0.6613 - 1s/epoch - 78ms/step\n",
      "Epoch 26/50\n",
      "16/16 - 1s - loss: 0.6523 - accuracy: 0.6208 - auc_5: 0.6644 - precision_5: 0.6182 - recall_5: 0.5620 - f1_score: 0.6514 - val_loss: 0.6837 - val_accuracy: 0.5458 - val_auc_5: 0.5936 - val_precision_5: 0.5439 - val_recall_5: 0.5000 - val_f1_score: 0.6613 - 1s/epoch - 78ms/step\n",
      "Epoch 27/50\n",
      "16/16 - 1s - loss: 0.6515 - accuracy: 0.6208 - auc_5: 0.6646 - precision_5: 0.6215 - recall_5: 0.5496 - f1_score: 0.6514 - val_loss: 0.6830 - val_accuracy: 0.5458 - val_auc_5: 0.5964 - val_precision_5: 0.5439 - val_recall_5: 0.5000 - val_f1_score: 0.6613 - 1s/epoch - 77ms/step\n",
      "Epoch 28/50\n",
      "16/16 - 1s - loss: 0.6509 - accuracy: 0.6168 - auc_5: 0.6654 - precision_5: 0.6157 - recall_5: 0.5496 - f1_score: 0.6514 - val_loss: 0.6835 - val_accuracy: 0.5498 - val_auc_5: 0.5962 - val_precision_5: 0.5487 - val_recall_5: 0.5000 - val_f1_score: 0.6613 - 1s/epoch - 77ms/step\n",
      "Epoch 29/50\n",
      "16/16 - 1s - loss: 0.6508 - accuracy: 0.6188 - auc_5: 0.6627 - precision_5: 0.6186 - recall_5: 0.5496 - f1_score: 0.6514 - val_loss: 0.6839 - val_accuracy: 0.5538 - val_auc_5: 0.5979 - val_precision_5: 0.5536 - val_recall_5: 0.5000 - val_f1_score: 0.6613 - 1s/epoch - 77ms/step\n",
      "Epoch 30/50\n",
      "16/16 - 1s - loss: 0.6505 - accuracy: 0.6208 - auc_5: 0.6669 - precision_5: 0.6215 - recall_5: 0.5496 - f1_score: 0.6514 - val_loss: 0.6822 - val_accuracy: 0.5578 - val_auc_5: 0.5999 - val_precision_5: 0.5556 - val_recall_5: 0.5242 - val_f1_score: 0.6613 - 1s/epoch - 77ms/step\n",
      "Epoch 31/50\n",
      "16/16 - 1s - loss: 0.6503 - accuracy: 0.6208 - auc_5: 0.6648 - precision_5: 0.6215 - recall_5: 0.5496 - f1_score: 0.6514 - val_loss: 0.6843 - val_accuracy: 0.5498 - val_auc_5: 0.5982 - val_precision_5: 0.5505 - val_recall_5: 0.4839 - val_f1_score: 0.6613 - 1s/epoch - 77ms/step\n",
      "Epoch 32/50\n",
      "16/16 - 1s - loss: 0.6500 - accuracy: 0.6228 - auc_5: 0.6605 - precision_5: 0.6233 - recall_5: 0.5537 - f1_score: 0.6514 - val_loss: 0.6827 - val_accuracy: 0.5538 - val_auc_5: 0.6003 - val_precision_5: 0.5526 - val_recall_5: 0.5081 - val_f1_score: 0.6613 - 1s/epoch - 80ms/step\n",
      "Epoch 33/50\n",
      "16/16 - 1s - loss: 0.6498 - accuracy: 0.6168 - auc_5: 0.6665 - precision_5: 0.6179 - recall_5: 0.5413 - f1_score: 0.6514 - val_loss: 0.6834 - val_accuracy: 0.5538 - val_auc_5: 0.5991 - val_precision_5: 0.5556 - val_recall_5: 0.4839 - val_f1_score: 0.6613 - 1s/epoch - 77ms/step\n",
      "Epoch 34/50\n",
      "16/16 - 1s - loss: 0.6488 - accuracy: 0.6208 - auc_5: 0.6695 - precision_5: 0.6226 - recall_5: 0.5455 - f1_score: 0.6514 - val_loss: 0.6835 - val_accuracy: 0.5538 - val_auc_5: 0.5993 - val_precision_5: 0.5556 - val_recall_5: 0.4839 - val_f1_score: 0.6613 - 1s/epoch - 77ms/step\n",
      "Epoch 35/50\n",
      "16/16 - 1s - loss: 0.6484 - accuracy: 0.6188 - auc_5: 0.6682 - precision_5: 0.6209 - recall_5: 0.5413 - f1_score: 0.6514 - val_loss: 0.6842 - val_accuracy: 0.5498 - val_auc_5: 0.5990 - val_precision_5: 0.5487 - val_recall_5: 0.5000 - val_f1_score: 0.6613 - 1s/epoch - 78ms/step\n",
      "Epoch 36/50\n",
      "16/16 - 1s - loss: 0.6483 - accuracy: 0.6307 - auc_5: 0.6674 - precision_5: 0.6390 - recall_5: 0.5413 - f1_score: 0.6514 - val_loss: 0.6845 - val_accuracy: 0.5817 - val_auc_5: 0.6020 - val_precision_5: 0.5979 - val_recall_5: 0.4677 - val_f1_score: 0.6613 - 1s/epoch - 78ms/step\n",
      "Epoch 37/50\n",
      "16/16 - 1s - loss: 0.6483 - accuracy: 0.6347 - auc_5: 0.6689 - precision_5: 0.6482 - recall_5: 0.5331 - f1_score: 0.6514 - val_loss: 0.6837 - val_accuracy: 0.5737 - val_auc_5: 0.6031 - val_precision_5: 0.5859 - val_recall_5: 0.4677 - val_f1_score: 0.6613 - 1s/epoch - 77ms/step\n",
      "Epoch 38/50\n",
      "16/16 - 1s - loss: 0.6472 - accuracy: 0.6367 - auc_5: 0.6663 - precision_5: 0.6515 - recall_5: 0.5331 - f1_score: 0.6514 - val_loss: 0.6835 - val_accuracy: 0.5817 - val_auc_5: 0.6065 - val_precision_5: 0.5979 - val_recall_5: 0.4677 - val_f1_score: 0.6613 - 1s/epoch - 77ms/step\n",
      "Epoch 39/50\n",
      "16/16 - 1s - loss: 0.6470 - accuracy: 0.6387 - auc_5: 0.6699 - precision_5: 0.6548 - recall_5: 0.5331 - f1_score: 0.6514 - val_loss: 0.6839 - val_accuracy: 0.5737 - val_auc_5: 0.6013 - val_precision_5: 0.5859 - val_recall_5: 0.4677 - val_f1_score: 0.6613 - 1s/epoch - 77ms/step\n",
      "Epoch 40/50\n",
      "16/16 - 1s - loss: 0.6464 - accuracy: 0.6387 - auc_5: 0.6729 - precision_5: 0.6533 - recall_5: 0.5372 - f1_score: 0.6514 - val_loss: 0.6843 - val_accuracy: 0.5777 - val_auc_5: 0.6012 - val_precision_5: 0.5918 - val_recall_5: 0.4677 - val_f1_score: 0.6613 - 1s/epoch - 77ms/step\n",
      "Epoch 41/50\n",
      "16/16 - 1s - loss: 0.6461 - accuracy: 0.6427 - auc_5: 0.6716 - precision_5: 0.6583 - recall_5: 0.5413 - f1_score: 0.6514 - val_loss: 0.6843 - val_accuracy: 0.5777 - val_auc_5: 0.6008 - val_precision_5: 0.5918 - val_recall_5: 0.4677 - val_f1_score: 0.6613 - 1s/epoch - 79ms/step\n",
      "Epoch 42/50\n",
      "16/16 - 1s - loss: 0.6453 - accuracy: 0.6427 - auc_5: 0.6703 - precision_5: 0.6583 - recall_5: 0.5413 - f1_score: 0.6514 - val_loss: 0.6847 - val_accuracy: 0.5777 - val_auc_5: 0.5963 - val_precision_5: 0.5918 - val_recall_5: 0.4677 - val_f1_score: 0.6613 - 1s/epoch - 77ms/step\n",
      "Epoch 43/50\n",
      "16/16 - 1s - loss: 0.6448 - accuracy: 0.6427 - auc_5: 0.6738 - precision_5: 0.6583 - recall_5: 0.5413 - f1_score: 0.6514 - val_loss: 0.6850 - val_accuracy: 0.5817 - val_auc_5: 0.5980 - val_precision_5: 0.5979 - val_recall_5: 0.4677 - val_f1_score: 0.6613 - 1s/epoch - 77ms/step\n",
      "Epoch 44/50\n",
      "16/16 - 1s - loss: 0.6440 - accuracy: 0.6407 - auc_5: 0.6680 - precision_5: 0.6550 - recall_5: 0.5413 - f1_score: 0.6514 - val_loss: 0.6861 - val_accuracy: 0.5777 - val_auc_5: 0.5993 - val_precision_5: 0.5918 - val_recall_5: 0.4677 - val_f1_score: 0.6613 - 1s/epoch - 78ms/step\n",
      "Epoch 45/50\n",
      "16/16 - 1s - loss: 0.6438 - accuracy: 0.6427 - auc_5: 0.6728 - precision_5: 0.6567 - recall_5: 0.5455 - f1_score: 0.6514 - val_loss: 0.6858 - val_accuracy: 0.5857 - val_auc_5: 0.6000 - val_precision_5: 0.6042 - val_recall_5: 0.4677 - val_f1_score: 0.6613 - 1s/epoch - 77ms/step\n",
      "Epoch 46/50\n",
      "16/16 - 1s - loss: 0.6437 - accuracy: 0.6487 - auc_5: 0.6759 - precision_5: 0.6701 - recall_5: 0.5372 - f1_score: 0.6514 - val_loss: 0.6860 - val_accuracy: 0.5697 - val_auc_5: 0.6006 - val_precision_5: 0.5851 - val_recall_5: 0.4435 - val_f1_score: 0.6613 - 1s/epoch - 77ms/step\n",
      "Epoch 47/50\n",
      "16/16 - 1s - loss: 0.6429 - accuracy: 0.6407 - auc_5: 0.6742 - precision_5: 0.6649 - recall_5: 0.5165 - f1_score: 0.6514 - val_loss: 0.6855 - val_accuracy: 0.5697 - val_auc_5: 0.5993 - val_precision_5: 0.5851 - val_recall_5: 0.4435 - val_f1_score: 0.6613 - 1s/epoch - 77ms/step\n",
      "Epoch 48/50\n",
      "16/16 - 1s - loss: 0.6423 - accuracy: 0.6447 - auc_5: 0.6743 - precision_5: 0.6684 - recall_5: 0.5248 - f1_score: 0.6514 - val_loss: 0.6863 - val_accuracy: 0.5737 - val_auc_5: 0.5980 - val_precision_5: 0.5914 - val_recall_5: 0.4435 - val_f1_score: 0.6613 - 1s/epoch - 77ms/step\n",
      "Epoch 49/50\n",
      "16/16 - 1s - loss: 0.6422 - accuracy: 0.6407 - auc_5: 0.6733 - precision_5: 0.6582 - recall_5: 0.5331 - f1_score: 0.6514 - val_loss: 0.6863 - val_accuracy: 0.5817 - val_auc_5: 0.6006 - val_precision_5: 0.5979 - val_recall_5: 0.4677 - val_f1_score: 0.6613 - 1s/epoch - 77ms/step\n",
      "Epoch 50/50\n",
      "16/16 - 1s - loss: 0.6422 - accuracy: 0.6467 - auc_5: 0.6745 - precision_5: 0.6650 - recall_5: 0.5413 - f1_score: 0.6514 - val_loss: 0.6864 - val_accuracy: 0.5697 - val_auc_5: 0.6016 - val_precision_5: 0.5851 - val_recall_5: 0.4435 - val_f1_score: 0.6613 - 1s/epoch - 77ms/step\n"
     ]
    },
    {
     "data": {
      "image/png": "[encoded data removed]",
      "text/plain": [
       "<Figure size 432x288 with 1 Axes>"
      ]
     },
     "metadata": {
      "needs_background": "light"
     },
     "output_type": "display_data"
    },
    {
     "name": "stdout",
     "output_type": "stream",
     "text": [
      "Epoch 1/50\n",
      "16/16 - 3s - loss: 0.7025 - accuracy: 0.5230 - auc_6: 0.5188 - precision_6: 0.5833 - recall_6: 0.0576 - f1_score: 0.6532 - val_loss: 0.6985 - val_accuracy: 0.5378 - val_auc_6: 0.5488 - val_precision_6: 0.7059 - val_recall_6: 0.0976 - val_f1_score: 0.6578 - 3s/epoch - 207ms/step\n",
      "Epoch 2/50\n",
      "16/16 - 1s - loss: 0.6922 - accuracy: 0.5509 - auc_6: 0.5525 - precision_6: 0.6500 - recall_6: 0.1605 - f1_score: 0.6532 - val_loss: 0.6901 - val_accuracy: 0.5538 - val_auc_6: 0.5817 - val_precision_6: 0.6571 - val_recall_6: 0.1870 - val_f1_score: 0.6578 - 1s/epoch - 79ms/step\n",
      "Epoch 3/50\n",
      "16/16 - 1s - loss: 0.6899 - accuracy: 0.5489 - auc_6: 0.5473 - precision_6: 0.6000 - recall_6: 0.2099 - f1_score: 0.6532 - val_loss: 0.6879 - val_accuracy: 0.5657 - val_auc_6: 0.5720 - val_precision_6: 0.6591 - val_recall_6: 0.2358 - val_f1_score: 0.6578 - 1s/epoch - 79ms/step\n",
      "Epoch 4/50\n",
      "16/16 - 1s - loss: 0.6861 - accuracy: 0.5729 - auc_6: 0.5627 - precision_6: 0.6495 - recall_6: 0.2593 - f1_score: 0.6532 - val_loss: 0.6852 - val_accuracy: 0.5737 - val_auc_6: 0.5904 - val_precision_6: 0.6739 - val_recall_6: 0.2520 - val_f1_score: 0.6578 - 1s/epoch - 79ms/step\n",
      "Epoch 5/50\n",
      "16/16 - 1s - loss: 0.6837 - accuracy: 0.5669 - auc_6: 0.5841 - precision_6: 0.6300 - recall_6: 0.2593 - f1_score: 0.6532 - val_loss: 0.6833 - val_accuracy: 0.5737 - val_auc_6: 0.6013 - val_precision_6: 0.6739 - val_recall_6: 0.2520 - val_f1_score: 0.6578 - 1s/epoch - 79ms/step\n",
      "Epoch 6/50\n",
      "16/16 - 1s - loss: 0.6794 - accuracy: 0.5649 - auc_6: 0.6056 - precision_6: 0.6214 - recall_6: 0.2634 - f1_score: 0.6532 - val_loss: 0.6818 - val_accuracy: 0.5777 - val_auc_6: 0.6058 - val_precision_6: 0.6735 - val_recall_6: 0.2683 - val_f1_score: 0.6578 - 1s/epoch - 79ms/step\n",
      "Epoch 7/50\n",
      "16/16 - 1s - loss: 0.6761 - accuracy: 0.5749 - auc_6: 0.6146 - precision_6: 0.6389 - recall_6: 0.2840 - f1_score: 0.6532 - val_loss: 0.6801 - val_accuracy: 0.5737 - val_auc_6: 0.6104 - val_precision_6: 0.6600 - val_recall_6: 0.2683 - val_f1_score: 0.6578 - 1s/epoch - 77ms/step\n",
      "Epoch 8/50\n",
      "16/16 - 1s - loss: 0.6745 - accuracy: 0.5709 - auc_6: 0.6235 - precision_6: 0.6273 - recall_6: 0.2840 - f1_score: 0.6532 - val_loss: 0.6789 - val_accuracy: 0.5777 - val_auc_6: 0.6156 - val_precision_6: 0.6604 - val_recall_6: 0.2846 - val_f1_score: 0.6578 - 1s/epoch - 79ms/step\n",
      "Epoch 9/50\n",
      "16/16 - 1s - loss: 0.6728 - accuracy: 0.5669 - auc_6: 0.6229 - precision_6: 0.5915 - recall_6: 0.3457 - f1_score: 0.6532 - val_loss: 0.6769 - val_accuracy: 0.5936 - val_auc_6: 0.6253 - val_precision_6: 0.6479 - val_recall_6: 0.3740 - val_f1_score: 0.6578 - 1s/epoch - 79ms/step\n",
      "Epoch 10/50\n",
      "16/16 - 1s - loss: 0.6712 - accuracy: 0.5689 - auc_6: 0.6388 - precision_6: 0.6047 - recall_6: 0.3210 - f1_score: 0.6532 - val_loss: 0.6752 - val_accuracy: 0.5857 - val_auc_6: 0.6271 - val_precision_6: 0.6727 - val_recall_6: 0.3008 - val_f1_score: 0.6578 - 1s/epoch - 78ms/step\n",
      "Epoch 11/50\n",
      "16/16 - 1s - loss: 0.6700 - accuracy: 0.5808 - auc_6: 0.6434 - precision_6: 0.6154 - recall_6: 0.3621 - f1_score: 0.6532 - val_loss: 0.6747 - val_accuracy: 0.5896 - val_auc_6: 0.6294 - val_precision_6: 0.6724 - val_recall_6: 0.3171 - val_f1_score: 0.6578 - 1s/epoch - 79ms/step\n",
      "Epoch 12/50\n",
      "16/16 - 1s - loss: 0.6690 - accuracy: 0.5749 - auc_6: 0.6441 - precision_6: 0.6172 - recall_6: 0.3251 - f1_score: 0.6532 - val_loss: 0.6743 - val_accuracy: 0.5857 - val_auc_6: 0.6322 - val_precision_6: 0.6727 - val_recall_6: 0.3008 - val_f1_score: 0.6578 - 1s/epoch - 79ms/step\n",
      "Epoch 13/50\n",
      "16/16 - 1s - loss: 0.6683 - accuracy: 0.5808 - auc_6: 0.6455 - precision_6: 0.6093 - recall_6: 0.3786 - f1_score: 0.6532 - val_loss: 0.6736 - val_accuracy: 0.6135 - val_auc_6: 0.6328 - val_precision_6: 0.6667 - val_recall_6: 0.4228 - val_f1_score: 0.6578 - 1s/epoch - 79ms/step\n",
      "Epoch 14/50\n",
      "16/16 - 1s - loss: 0.6672 - accuracy: 0.5948 - auc_6: 0.6431 - precision_6: 0.6205 - recall_6: 0.4239 - f1_score: 0.6532 - val_loss: 0.6723 - val_accuracy: 0.6135 - val_auc_6: 0.6338 - val_precision_6: 0.6667 - val_recall_6: 0.4228 - val_f1_score: 0.6578 - 1s/epoch - 77ms/step\n",
      "Epoch 15/50\n",
      "16/16 - 1s - loss: 0.6680 - accuracy: 0.5788 - auc_6: 0.6408 - precision_6: 0.6067 - recall_6: 0.3745 - f1_score: 0.6532 - val_loss: 0.6728 - val_accuracy: 0.6096 - val_auc_6: 0.6327 - val_precision_6: 0.6667 - val_recall_6: 0.4065 - val_f1_score: 0.6578 - 1s/epoch - 76ms/step\n",
      "Epoch 16/50\n",
      "16/16 - 1s - loss: 0.6663 - accuracy: 0.6048 - auc_6: 0.6414 - precision_6: 0.6286 - recall_6: 0.4527 - f1_score: 0.6532 - val_loss: 0.6717 - val_accuracy: 0.6016 - val_auc_6: 0.6361 - val_precision_6: 0.6264 - val_recall_6: 0.4634 - val_f1_score: 0.6578 - 1s/epoch - 80ms/step\n",
      "Epoch 17/50\n",
      "16/16 - 1s - loss: 0.6657 - accuracy: 0.6068 - auc_6: 0.6454 - precision_6: 0.6264 - recall_6: 0.4691 - f1_score: 0.6532 - val_loss: 0.6712 - val_accuracy: 0.6016 - val_auc_6: 0.6361 - val_precision_6: 0.6353 - val_recall_6: 0.4390 - val_f1_score: 0.6578 - 1s/epoch - 80ms/step\n",
      "Epoch 18/50\n",
      "16/16 - 1s - loss: 0.6659 - accuracy: 0.5968 - auc_6: 0.6383 - precision_6: 0.6030 - recall_6: 0.4938 - f1_score: 0.6532 - val_loss: 0.6708 - val_accuracy: 0.5976 - val_auc_6: 0.6357 - val_precision_6: 0.6146 - val_recall_6: 0.4797 - val_f1_score: 0.6578 - 1s/epoch - 79ms/step\n",
      "Epoch 19/50\n",
      "16/16 - 1s - loss: 0.6643 - accuracy: 0.6088 - auc_6: 0.6470 - precision_6: 0.6343 - recall_6: 0.4568 - f1_score: 0.6532 - val_loss: 0.6700 - val_accuracy: 0.6135 - val_auc_6: 0.6386 - val_precision_6: 0.6548 - val_recall_6: 0.4472 - val_f1_score: 0.6578 - 1s/epoch - 79ms/step\n",
      "Epoch 20/50\n",
      "16/16 - 1s - loss: 0.6647 - accuracy: 0.5988 - auc_6: 0.6445 - precision_6: 0.6313 - recall_6: 0.4156 - f1_score: 0.6532 - val_loss: 0.6714 - val_accuracy: 0.6215 - val_auc_6: 0.6288 - val_precision_6: 0.6750 - val_recall_6: 0.4390 - val_f1_score: 0.6578 - 1s/epoch - 78ms/step\n",
      "Epoch 21/50\n",
      "16/16 - 1s - loss: 0.6656 - accuracy: 0.6068 - auc_6: 0.6428 - precision_6: 0.6386 - recall_6: 0.4362 - f1_score: 0.6532 - val_loss: 0.6708 - val_accuracy: 0.6056 - val_auc_6: 0.6376 - val_precision_6: 0.6304 - val_recall_6: 0.4715 - val_f1_score: 0.6578 - 1s/epoch - 80ms/step\n",
      "Epoch 22/50\n",
      "16/16 - 1s - loss: 0.6644 - accuracy: 0.6088 - auc_6: 0.6462 - precision_6: 0.6298 - recall_6: 0.4691 - f1_score: 0.6532 - val_loss: 0.6703 - val_accuracy: 0.5896 - val_auc_6: 0.6328 - val_precision_6: 0.6020 - val_recall_6: 0.4797 - val_f1_score: 0.6578 - 1s/epoch - 80ms/step\n",
      "Epoch 23/50\n",
      "16/16 - 1s - loss: 0.6638 - accuracy: 0.6128 - auc_6: 0.6435 - precision_6: 0.6310 - recall_6: 0.4856 - f1_score: 0.6532 - val_loss: 0.6699 - val_accuracy: 0.5936 - val_auc_6: 0.6323 - val_precision_6: 0.6082 - val_recall_6: 0.4797 - val_f1_score: 0.6578 - 1s/epoch - 79ms/step\n",
      "Epoch 24/50\n",
      "16/16 - 1s - loss: 0.6632 - accuracy: 0.5928 - auc_6: 0.6473 - precision_6: 0.5961 - recall_6: 0.4979 - f1_score: 0.6532 - val_loss: 0.6689 - val_accuracy: 0.5737 - val_auc_6: 0.6388 - val_precision_6: 0.5755 - val_recall_6: 0.4959 - val_f1_score: 0.6578 - 1s/epoch - 80ms/step\n",
      "Epoch 25/50\n",
      "16/16 - 1s - loss: 0.6646 - accuracy: 0.5988 - auc_6: 0.6418 - precision_6: 0.6071 - recall_6: 0.4897 - f1_score: 0.6532 - val_loss: 0.6704 - val_accuracy: 0.5697 - val_auc_6: 0.6330 - val_precision_6: 0.5641 - val_recall_6: 0.5366 - val_f1_score: 0.6578 - 1s/epoch - 79ms/step\n",
      "Epoch 26/50\n",
      "16/16 - 1s - loss: 0.6637 - accuracy: 0.6068 - auc_6: 0.6457 - precision_6: 0.5966 - recall_6: 0.5844 - f1_score: 0.6532 - val_loss: 0.6683 - val_accuracy: 0.6056 - val_auc_6: 0.6329 - val_precision_6: 0.5968 - val_recall_6: 0.6016 - val_f1_score: 0.6578 - 1s/epoch - 79ms/step\n",
      "Epoch 27/50\n",
      "16/16 - 1s - loss: 0.6617 - accuracy: 0.6168 - auc_6: 0.6503 - precision_6: 0.6076 - recall_6: 0.5926 - f1_score: 0.6532 - val_loss: 0.6685 - val_accuracy: 0.6016 - val_auc_6: 0.6388 - val_precision_6: 0.5920 - val_recall_6: 0.6016 - val_f1_score: 0.6578 - 1s/epoch - 80ms/step\n",
      "Epoch 28/50\n",
      "16/16 - 1s - loss: 0.6635 - accuracy: 0.6028 - auc_6: 0.6458 - precision_6: 0.5973 - recall_6: 0.5556 - f1_score: 0.6532 - val_loss: 0.6691 - val_accuracy: 0.5976 - val_auc_6: 0.6343 - val_precision_6: 0.5902 - val_recall_6: 0.5854 - val_f1_score: 0.6578 - 1s/epoch - 81ms/step\n",
      "Epoch 29/50\n",
      "16/16 - 1s - loss: 0.6629 - accuracy: 0.6068 - auc_6: 0.6436 - precision_6: 0.5975 - recall_6: 0.5802 - f1_score: 0.6532 - val_loss: 0.6694 - val_accuracy: 0.5936 - val_auc_6: 0.6298 - val_precision_6: 0.5840 - val_recall_6: 0.5935 - val_f1_score: 0.6578 - 1s/epoch - 80ms/step\n",
      "Epoch 30/50\n",
      "16/16 - 1s - loss: 0.6624 - accuracy: 0.6028 - auc_6: 0.6449 - precision_6: 0.5924 - recall_6: 0.5802 - f1_score: 0.6532 - val_loss: 0.6693 - val_accuracy: 0.5936 - val_auc_6: 0.6291 - val_precision_6: 0.5854 - val_recall_6: 0.5854 - val_f1_score: 0.6578 - 1s/epoch - 80ms/step\n",
      "Epoch 31/50\n",
      "16/16 - 1s - loss: 0.6625 - accuracy: 0.6048 - auc_6: 0.6435 - precision_6: 0.5991 - recall_6: 0.5597 - f1_score: 0.6532 - val_loss: 0.6689 - val_accuracy: 0.5976 - val_auc_6: 0.6338 - val_precision_6: 0.5902 - val_recall_6: 0.5854 - val_f1_score: 0.6578 - 1s/epoch - 79ms/step\n",
      "Epoch 32/50\n",
      "16/16 - 1s - loss: 0.6616 - accuracy: 0.6148 - auc_6: 0.6500 - precision_6: 0.6033 - recall_6: 0.6008 - f1_score: 0.6532 - val_loss: 0.6692 - val_accuracy: 0.6016 - val_auc_6: 0.6296 - val_precision_6: 0.5906 - val_recall_6: 0.6098 - val_f1_score: 0.6578 - 1s/epoch - 79ms/step\n",
      "Epoch 33/50\n",
      "16/16 - 1s - loss: 0.6611 - accuracy: 0.6168 - auc_6: 0.6475 - precision_6: 0.6032 - recall_6: 0.6132 - f1_score: 0.6532 - val_loss: 0.6687 - val_accuracy: 0.6016 - val_auc_6: 0.6324 - val_precision_6: 0.5906 - val_recall_6: 0.6098 - val_f1_score: 0.6578 - 1s/epoch - 79ms/step\n",
      "Epoch 34/50\n",
      "16/16 - 1s - loss: 0.6607 - accuracy: 0.6188 - auc_6: 0.6465 - precision_6: 0.6074 - recall_6: 0.6049 - f1_score: 0.6532 - val_loss: 0.6679 - val_accuracy: 0.6056 - val_auc_6: 0.6352 - val_precision_6: 0.5968 - val_recall_6: 0.6016 - val_f1_score: 0.6578 - 1s/epoch - 80ms/step\n",
      "Epoch 35/50\n",
      "16/16 - 1s - loss: 0.6604 - accuracy: 0.6168 - auc_6: 0.6490 - precision_6: 0.6094 - recall_6: 0.5844 - f1_score: 0.6532 - val_loss: 0.6672 - val_accuracy: 0.6135 - val_auc_6: 0.6344 - val_precision_6: 0.6066 - val_recall_6: 0.6016 - val_f1_score: 0.6578 - 1s/epoch - 80ms/step\n",
      "Epoch 36/50\n",
      "16/16 - 1s - loss: 0.6596 - accuracy: 0.6248 - auc_6: 0.6537 - precision_6: 0.6087 - recall_6: 0.6337 - f1_score: 0.6532 - val_loss: 0.6673 - val_accuracy: 0.6056 - val_auc_6: 0.6350 - val_precision_6: 0.5952 - val_recall_6: 0.6098 - val_f1_score: 0.6578 - 1s/epoch - 79ms/step\n",
      "Epoch 37/50\n",
      "16/16 - 1s - loss: 0.6593 - accuracy: 0.6248 - auc_6: 0.6541 - precision_6: 0.6104 - recall_6: 0.6255 - f1_score: 0.6532 - val_loss: 0.6665 - val_accuracy: 0.6096 - val_auc_6: 0.6384 - val_precision_6: 0.6016 - val_recall_6: 0.6016 - val_f1_score: 0.6578 - 1s/epoch - 80ms/step\n",
      "Epoch 38/50\n",
      "16/16 - 1s - loss: 0.6590 - accuracy: 0.6267 - auc_6: 0.6534 - precision_6: 0.6186 - recall_6: 0.6008 - f1_score: 0.6532 - val_loss: 0.6666 - val_accuracy: 0.6135 - val_auc_6: 0.6346 - val_precision_6: 0.6066 - val_recall_6: 0.6016 - val_f1_score: 0.6578 - 1s/epoch - 79ms/step\n",
      "Epoch 39/50\n",
      "16/16 - 1s - loss: 0.6582 - accuracy: 0.6208 - auc_6: 0.6559 - precision_6: 0.6091 - recall_6: 0.6091 - f1_score: 0.6532 - val_loss: 0.6665 - val_accuracy: 0.6056 - val_auc_6: 0.6387 - val_precision_6: 0.5968 - val_recall_6: 0.6016 - val_f1_score: 0.6578 - 1s/epoch - 79ms/step\n",
      "Epoch 40/50\n",
      "16/16 - 1s - loss: 0.6588 - accuracy: 0.6228 - auc_6: 0.6510 - precision_6: 0.6125 - recall_6: 0.6049 - f1_score: 0.6532 - val_loss: 0.6669 - val_accuracy: 0.6175 - val_auc_6: 0.6342 - val_precision_6: 0.6116 - val_recall_6: 0.6016 - val_f1_score: 0.6578 - 1s/epoch - 80ms/step\n",
      "Epoch 41/50\n",
      "16/16 - 1s - loss: 0.6558 - accuracy: 0.6208 - auc_6: 0.6611 - precision_6: 0.6109 - recall_6: 0.6008 - f1_score: 0.6532 - val_loss: 0.6653 - val_accuracy: 0.6096 - val_auc_6: 0.6394 - val_precision_6: 0.6016 - val_recall_6: 0.6016 - val_f1_score: 0.6578 - 1s/epoch - 79ms/step\n",
      "Epoch 42/50\n",
      "16/16 - 1s - loss: 0.6569 - accuracy: 0.6267 - auc_6: 0.6572 - precision_6: 0.6111 - recall_6: 0.6337 - f1_score: 0.6532 - val_loss: 0.6660 - val_accuracy: 0.6056 - val_auc_6: 0.6387 - val_precision_6: 0.5952 - val_recall_6: 0.6098 - val_f1_score: 0.6578 - 1s/epoch - 79ms/step\n",
      "Epoch 43/50\n",
      "16/16 - 1s - loss: 0.6574 - accuracy: 0.6228 - auc_6: 0.6549 - precision_6: 0.6080 - recall_6: 0.6255 - f1_score: 0.6532 - val_loss: 0.6653 - val_accuracy: 0.6135 - val_auc_6: 0.6425 - val_precision_6: 0.6066 - val_recall_6: 0.6016 - val_f1_score: 0.6578 - 1s/epoch - 79ms/step\n",
      "Epoch 44/50\n",
      "16/16 - 1s - loss: 0.6569 - accuracy: 0.6287 - auc_6: 0.6563 - precision_6: 0.6183 - recall_6: 0.6132 - f1_score: 0.6532 - val_loss: 0.6651 - val_accuracy: 0.6056 - val_auc_6: 0.6426 - val_precision_6: 0.5968 - val_recall_6: 0.6016 - val_f1_score: 0.6578 - 1s/epoch - 82ms/step\n",
      "Epoch 45/50\n",
      "16/16 - 1s - loss: 0.6555 - accuracy: 0.6228 - auc_6: 0.6574 - precision_6: 0.6063 - recall_6: 0.6337 - f1_score: 0.6532 - val_loss: 0.6650 - val_accuracy: 0.6096 - val_auc_6: 0.6383 - val_precision_6: 0.5984 - val_recall_6: 0.6179 - val_f1_score: 0.6578 - 1s/epoch - 79ms/step\n",
      "Epoch 46/50\n",
      "16/16 - 1s - loss: 0.6556 - accuracy: 0.6208 - auc_6: 0.6574 - precision_6: 0.6039 - recall_6: 0.6337 - f1_score: 0.6532 - val_loss: 0.6652 - val_accuracy: 0.6016 - val_auc_6: 0.6351 - val_precision_6: 0.5920 - val_recall_6: 0.6016 - val_f1_score: 0.6578 - 1s/epoch - 79ms/step\n",
      "Epoch 47/50\n",
      "16/16 - 1s - loss: 0.6559 - accuracy: 0.6267 - auc_6: 0.6554 - precision_6: 0.6102 - recall_6: 0.6379 - f1_score: 0.6532 - val_loss: 0.6650 - val_accuracy: 0.6056 - val_auc_6: 0.6390 - val_precision_6: 0.5968 - val_recall_6: 0.6016 - val_f1_score: 0.6578 - 1s/epoch - 79ms/step\n",
      "Epoch 48/50\n",
      "16/16 - 1s - loss: 0.6555 - accuracy: 0.6327 - auc_6: 0.6563 - precision_6: 0.6214 - recall_6: 0.6214 - f1_score: 0.6532 - val_loss: 0.6648 - val_accuracy: 0.6096 - val_auc_6: 0.6429 - val_precision_6: 0.6016 - val_recall_6: 0.6016 - val_f1_score: 0.6578 - 1s/epoch - 82ms/step\n",
      "Epoch 49/50\n",
      "16/16 - 1s - loss: 0.6554 - accuracy: 0.6208 - auc_6: 0.6598 - precision_6: 0.6031 - recall_6: 0.6379 - f1_score: 0.6532 - val_loss: 0.6649 - val_accuracy: 0.6056 - val_auc_6: 0.6362 - val_precision_6: 0.5952 - val_recall_6: 0.6098 - val_f1_score: 0.6578 - 1s/epoch - 80ms/step\n",
      "Epoch 50/50\n",
      "16/16 - 1s - loss: 0.6556 - accuracy: 0.6267 - auc_6: 0.6577 - precision_6: 0.6094 - recall_6: 0.6420 - f1_score: 0.6532 - val_loss: 0.6646 - val_accuracy: 0.6056 - val_auc_6: 0.6386 - val_precision_6: 0.5952 - val_recall_6: 0.6098 - val_f1_score: 0.6578 - 1s/epoch - 79ms/step\n"
     ]
    },
    {
     "data": {
      "image/png": "[encoded data removed]",
      "text/plain": [
       "<Figure size 432x288 with 1 Axes>"
      ]
     },
     "metadata": {
      "needs_background": "light"
     },
     "output_type": "display_data"
    },
    {
     "name": "stdout",
     "output_type": "stream",
     "text": [
      "Epoch 1/50\n",
      "16/16 - 3s - loss: 0.7334 - accuracy: 0.4920 - auc_7: 0.3877 - precision_7: 0.4920 - recall_7: 1.0000 - f1_score: 0.6595 - val_loss: 0.7264 - val_accuracy: 0.4760 - val_auc_7: 0.3938 - val_precision_7: 0.4760 - val_recall_7: 1.0000 - val_f1_score: 0.6450 - 3s/epoch - 209ms/step\n",
      "Epoch 2/50\n",
      "16/16 - 1s - loss: 0.7191 - accuracy: 0.4920 - auc_7: 0.3753 - precision_7: 0.4920 - recall_7: 1.0000 - f1_score: 0.6595 - val_loss: 0.7132 - val_accuracy: 0.4760 - val_auc_7: 0.3950 - val_precision_7: 0.4760 - val_recall_7: 1.0000 - val_f1_score: 0.6450 - 1s/epoch - 79ms/step\n",
      "Epoch 3/50\n",
      "16/16 - 1s - loss: 0.7098 - accuracy: 0.4880 - auc_7: 0.4206 - precision_7: 0.4898 - recall_7: 0.9757 - f1_score: 0.6595 - val_loss: 0.7064 - val_accuracy: 0.4560 - val_auc_7: 0.4080 - val_precision_7: 0.4641 - val_recall_7: 0.9244 - val_f1_score: 0.6450 - 1s/epoch - 78ms/step\n",
      "Epoch 4/50\n",
      "16/16 - 1s - loss: 0.7059 - accuracy: 0.4402 - auc_7: 0.4019 - precision_7: 0.4517 - recall_7: 0.6437 - f1_score: 0.6595 - val_loss: 0.7017 - val_accuracy: 0.4520 - val_auc_7: 0.4092 - val_precision_7: 0.3875 - val_recall_7: 0.2605 - val_f1_score: 0.6450 - 1s/epoch - 79ms/step\n",
      "Epoch 5/50\n",
      "16/16 - 1s - loss: 0.7030 - accuracy: 0.4442 - auc_7: 0.4284 - precision_7: 0.3947 - recall_7: 0.2429 - f1_score: 0.6595 - val_loss: 0.6995 - val_accuracy: 0.4680 - val_auc_7: 0.4653 - val_precision_7: 0.4054 - val_recall_7: 0.2521 - val_f1_score: 0.6450 - 1s/epoch - 79ms/step\n",
      "Epoch 6/50\n",
      "16/16 - 1s - loss: 0.7008 - accuracy: 0.4542 - auc_7: 0.4499 - precision_7: 0.4015 - recall_7: 0.2227 - f1_score: 0.6595 - val_loss: 0.6983 - val_accuracy: 0.4720 - val_auc_7: 0.4750 - val_precision_7: 0.4133 - val_recall_7: 0.2605 - val_f1_score: 0.6450 - 1s/epoch - 79ms/step\n",
      "Epoch 7/50\n",
      "16/16 - 1s - loss: 0.7002 - accuracy: 0.4482 - auc_7: 0.4560 - precision_7: 0.3770 - recall_7: 0.1862 - f1_score: 0.6595 - val_loss: 0.6967 - val_accuracy: 0.4760 - val_auc_7: 0.4920 - val_precision_7: 0.4189 - val_recall_7: 0.2605 - val_f1_score: 0.6450 - 1s/epoch - 79ms/step\n",
      "Epoch 8/50\n",
      "16/16 - 1s - loss: 0.6980 - accuracy: 0.4522 - auc_7: 0.4972 - precision_7: 0.3889 - recall_7: 0.1984 - f1_score: 0.6595 - val_loss: 0.6950 - val_accuracy: 0.4760 - val_auc_7: 0.5035 - val_precision_7: 0.4189 - val_recall_7: 0.2605 - val_f1_score: 0.6450 - 1s/epoch - 79ms/step\n",
      "Epoch 9/50\n",
      "16/16 - 1s - loss: 0.6956 - accuracy: 0.4701 - auc_7: 0.5120 - precision_7: 0.4286 - recall_7: 0.2308 - f1_score: 0.6595 - val_loss: 0.6935 - val_accuracy: 0.4720 - val_auc_7: 0.5150 - val_precision_7: 0.4110 - val_recall_7: 0.2521 - val_f1_score: 0.6450 - 1s/epoch - 79ms/step\n",
      "Epoch 10/50\n",
      "16/16 - 1s - loss: 0.6940 - accuracy: 0.4721 - auc_7: 0.5189 - precision_7: 0.4366 - recall_7: 0.2510 - f1_score: 0.6595 - val_loss: 0.6923 - val_accuracy: 0.4920 - val_auc_7: 0.5177 - val_precision_7: 0.4565 - val_recall_7: 0.3529 - val_f1_score: 0.6450 - 1s/epoch - 79ms/step\n",
      "Epoch 11/50\n",
      "16/16 - 1s - loss: 0.6923 - accuracy: 0.4960 - auc_7: 0.5346 - precision_7: 0.4828 - recall_7: 0.3401 - f1_score: 0.6595 - val_loss: 0.6912 - val_accuracy: 0.5080 - val_auc_7: 0.5288 - val_precision_7: 0.4792 - val_recall_7: 0.3866 - val_f1_score: 0.6450 - 1s/epoch - 80ms/step\n",
      "Epoch 12/50\n",
      "16/16 - 1s - loss: 0.6909 - accuracy: 0.4960 - auc_7: 0.5437 - precision_7: 0.4835 - recall_7: 0.3563 - f1_score: 0.6595 - val_loss: 0.6903 - val_accuracy: 0.5120 - val_auc_7: 0.5386 - val_precision_7: 0.4854 - val_recall_7: 0.4202 - val_f1_score: 0.6450 - 1s/epoch - 79ms/step\n",
      "Epoch 13/50\n",
      "16/16 - 1s - loss: 0.6893 - accuracy: 0.5398 - auc_7: 0.5548 - precision_7: 0.5494 - recall_7: 0.3603 - f1_score: 0.6595 - val_loss: 0.6893 - val_accuracy: 0.5680 - val_auc_7: 0.5483 - val_precision_7: 0.5821 - val_recall_7: 0.3277 - val_f1_score: 0.6450 - 1s/epoch - 78ms/step\n",
      "Epoch 14/50\n",
      "16/16 - 1s - loss: 0.6882 - accuracy: 0.5558 - auc_7: 0.5658 - precision_7: 0.5845 - recall_7: 0.3360 - f1_score: 0.6595 - val_loss: 0.6886 - val_accuracy: 0.5840 - val_auc_7: 0.5547 - val_precision_7: 0.6230 - val_recall_7: 0.3193 - val_f1_score: 0.6450 - 1s/epoch - 79ms/step\n",
      "Epoch 15/50\n",
      "16/16 - 1s - loss: 0.6868 - accuracy: 0.5578 - auc_7: 0.5858 - precision_7: 0.5926 - recall_7: 0.3239 - f1_score: 0.6595 - val_loss: 0.6874 - val_accuracy: 0.5880 - val_auc_7: 0.5880 - val_precision_7: 0.6333 - val_recall_7: 0.3193 - val_f1_score: 0.6450 - 1s/epoch - 79ms/step\n",
      "Epoch 16/50\n",
      "16/16 - 1s - loss: 0.6856 - accuracy: 0.5578 - auc_7: 0.5939 - precision_7: 0.5954 - recall_7: 0.3158 - f1_score: 0.6595 - val_loss: 0.6865 - val_accuracy: 0.5880 - val_auc_7: 0.5879 - val_precision_7: 0.6333 - val_recall_7: 0.3193 - val_f1_score: 0.6450 - 1s/epoch - 79ms/step\n",
      "Epoch 17/50\n",
      "16/16 - 1s - loss: 0.6843 - accuracy: 0.5598 - auc_7: 0.6014 - precision_7: 0.5970 - recall_7: 0.3239 - f1_score: 0.6595 - val_loss: 0.6856 - val_accuracy: 0.5840 - val_auc_7: 0.5871 - val_precision_7: 0.6230 - val_recall_7: 0.3193 - val_f1_score: 0.6450 - 1s/epoch - 79ms/step\n",
      "Epoch 18/50\n",
      "16/16 - 1s - loss: 0.6834 - accuracy: 0.5598 - auc_7: 0.6015 - precision_7: 0.5956 - recall_7: 0.3279 - f1_score: 0.6595 - val_loss: 0.6842 - val_accuracy: 0.5840 - val_auc_7: 0.5904 - val_precision_7: 0.6230 - val_recall_7: 0.3193 - val_f1_score: 0.6450 - 1s/epoch - 79ms/step\n",
      "Epoch 19/50\n",
      "16/16 - 1s - loss: 0.6824 - accuracy: 0.5637 - auc_7: 0.6011 - precision_7: 0.6045 - recall_7: 0.3279 - f1_score: 0.6595 - val_loss: 0.6841 - val_accuracy: 0.5840 - val_auc_7: 0.5885 - val_precision_7: 0.6190 - val_recall_7: 0.3277 - val_f1_score: 0.6450 - 1s/epoch - 79ms/step\n",
      "Epoch 20/50\n",
      "16/16 - 1s - loss: 0.6815 - accuracy: 0.5618 - auc_7: 0.6018 - precision_7: 0.5906 - recall_7: 0.3563 - f1_score: 0.6595 - val_loss: 0.6836 - val_accuracy: 0.6080 - val_auc_7: 0.5914 - val_precision_7: 0.6438 - val_recall_7: 0.3950 - val_f1_score: 0.6450 - 1s/epoch - 79ms/step\n",
      "Epoch 21/50\n",
      "16/16 - 1s - loss: 0.6808 - accuracy: 0.5558 - auc_7: 0.6049 - precision_7: 0.5845 - recall_7: 0.3360 - f1_score: 0.6595 - val_loss: 0.6824 - val_accuracy: 0.5920 - val_auc_7: 0.5943 - val_precision_7: 0.6308 - val_recall_7: 0.3445 - val_f1_score: 0.6450 - 1s/epoch - 79ms/step\n",
      "Epoch 22/50\n",
      "16/16 - 1s - loss: 0.6794 - accuracy: 0.5737 - auc_7: 0.6035 - precision_7: 0.6051 - recall_7: 0.3846 - f1_score: 0.6595 - val_loss: 0.6823 - val_accuracy: 0.6040 - val_auc_7: 0.5873 - val_precision_7: 0.6351 - val_recall_7: 0.3950 - val_f1_score: 0.6450 - 1s/epoch - 79ms/step\n",
      "Epoch 23/50\n",
      "16/16 - 1s - loss: 0.6785 - accuracy: 0.5697 - auc_7: 0.6169 - precision_7: 0.6040 - recall_7: 0.3644 - f1_score: 0.6595 - val_loss: 0.6813 - val_accuracy: 0.5880 - val_auc_7: 0.6013 - val_precision_7: 0.6250 - val_recall_7: 0.3361 - val_f1_score: 0.6450 - 1s/epoch - 78ms/step\n",
      "Epoch 24/50\n",
      "16/16 - 1s - loss: 0.6770 - accuracy: 0.5916 - auc_7: 0.6171 - precision_7: 0.6250 - recall_7: 0.4251 - f1_score: 0.6595 - val_loss: 0.6803 - val_accuracy: 0.6200 - val_auc_7: 0.6108 - val_precision_7: 0.6364 - val_recall_7: 0.4706 - val_f1_score: 0.6450 - 1s/epoch - 79ms/step\n",
      "Epoch 25/50\n",
      "16/16 - 1s - loss: 0.6758 - accuracy: 0.6016 - auc_7: 0.6248 - precision_7: 0.6313 - recall_7: 0.4575 - f1_score: 0.6595 - val_loss: 0.6798 - val_accuracy: 0.6120 - val_auc_7: 0.6012 - val_precision_7: 0.6222 - val_recall_7: 0.4706 - val_f1_score: 0.6450 - 1s/epoch - 78ms/step\n",
      "Epoch 26/50\n",
      "16/16 - 1s - loss: 0.6748 - accuracy: 0.5996 - auc_7: 0.6267 - precision_7: 0.6307 - recall_7: 0.4494 - f1_score: 0.6595 - val_loss: 0.6785 - val_accuracy: 0.6160 - val_auc_7: 0.6086 - val_precision_7: 0.6292 - val_recall_7: 0.4706 - val_f1_score: 0.6450 - 1s/epoch - 79ms/step\n",
      "Epoch 27/50\n",
      "16/16 - 1s - loss: 0.6742 - accuracy: 0.5996 - auc_7: 0.6267 - precision_7: 0.6322 - recall_7: 0.4453 - f1_score: 0.6595 - val_loss: 0.6785 - val_accuracy: 0.6160 - val_auc_7: 0.6067 - val_precision_7: 0.6292 - val_recall_7: 0.4706 - val_f1_score: 0.6450 - 1s/epoch - 80ms/step\n",
      "Epoch 28/50\n",
      "16/16 - 1s - loss: 0.6734 - accuracy: 0.5996 - auc_7: 0.6243 - precision_7: 0.6292 - recall_7: 0.4534 - f1_score: 0.6595 - val_loss: 0.6783 - val_accuracy: 0.6120 - val_auc_7: 0.6031 - val_precision_7: 0.6222 - val_recall_7: 0.4706 - val_f1_score: 0.6450 - 1s/epoch - 78ms/step\n",
      "Epoch 29/50\n",
      "16/16 - 1s - loss: 0.6728 - accuracy: 0.5936 - auc_7: 0.6265 - precision_7: 0.6215 - recall_7: 0.4453 - f1_score: 0.6595 - val_loss: 0.6778 - val_accuracy: 0.6120 - val_auc_7: 0.6047 - val_precision_7: 0.6222 - val_recall_7: 0.4706 - val_f1_score: 0.6450 - 1s/epoch - 81ms/step\n",
      "Epoch 30/50\n",
      "16/16 - 1s - loss: 0.6720 - accuracy: 0.6096 - auc_7: 0.6269 - precision_7: 0.6308 - recall_7: 0.4980 - f1_score: 0.6595 - val_loss: 0.6773 - val_accuracy: 0.6240 - val_auc_7: 0.6059 - val_precision_7: 0.6214 - val_recall_7: 0.5378 - val_f1_score: 0.6450 - 1s/epoch - 79ms/step\n",
      "Epoch 31/50\n",
      "16/16 - 1s - loss: 0.6712 - accuracy: 0.6135 - auc_7: 0.6331 - precision_7: 0.6280 - recall_7: 0.5263 - f1_score: 0.6595 - val_loss: 0.6769 - val_accuracy: 0.6200 - val_auc_7: 0.6073 - val_precision_7: 0.6176 - val_recall_7: 0.5294 - val_f1_score: 0.6450 - 1s/epoch - 79ms/step\n",
      "Epoch 32/50\n",
      "16/16 - 1s - loss: 0.6704 - accuracy: 0.6036 - auc_7: 0.6340 - precision_7: 0.6263 - recall_7: 0.4818 - f1_score: 0.6595 - val_loss: 0.6763 - val_accuracy: 0.6240 - val_auc_7: 0.6067 - val_precision_7: 0.6344 - val_recall_7: 0.4958 - val_f1_score: 0.6450 - 1s/epoch - 79ms/step\n",
      "Epoch 33/50\n",
      "16/16 - 1s - loss: 0.6702 - accuracy: 0.5996 - auc_7: 0.6325 - precision_7: 0.6292 - recall_7: 0.4534 - f1_score: 0.6595 - val_loss: 0.6759 - val_accuracy: 0.6200 - val_auc_7: 0.6073 - val_precision_7: 0.6304 - val_recall_7: 0.4874 - val_f1_score: 0.6450 - 1s/epoch - 80ms/step\n",
      "Epoch 34/50\n",
      "16/16 - 1s - loss: 0.6693 - accuracy: 0.5996 - auc_7: 0.6399 - precision_7: 0.6307 - recall_7: 0.4494 - f1_score: 0.6595 - val_loss: 0.6759 - val_accuracy: 0.6200 - val_auc_7: 0.6069 - val_precision_7: 0.6304 - val_recall_7: 0.4874 - val_f1_score: 0.6450 - 1s/epoch - 79ms/step\n",
      "Epoch 35/50\n",
      "16/16 - 1s - loss: 0.6687 - accuracy: 0.6135 - auc_7: 0.6428 - precision_7: 0.6305 - recall_7: 0.5182 - f1_score: 0.6595 - val_loss: 0.6752 - val_accuracy: 0.6120 - val_auc_7: 0.6132 - val_precision_7: 0.6058 - val_recall_7: 0.5294 - val_f1_score: 0.6450 - 1s/epoch - 79ms/step\n",
      "Epoch 36/50\n",
      "16/16 - 1s - loss: 0.6682 - accuracy: 0.6175 - auc_7: 0.6408 - precision_7: 0.6291 - recall_7: 0.5425 - f1_score: 0.6595 - val_loss: 0.6751 - val_accuracy: 0.6160 - val_auc_7: 0.6166 - val_precision_7: 0.6117 - val_recall_7: 0.5294 - val_f1_score: 0.6450 - 1s/epoch - 79ms/step\n",
      "Epoch 37/50\n",
      "16/16 - 1s - loss: 0.6675 - accuracy: 0.6175 - auc_7: 0.6431 - precision_7: 0.6291 - recall_7: 0.5425 - f1_score: 0.6595 - val_loss: 0.6748 - val_accuracy: 0.6120 - val_auc_7: 0.6159 - val_precision_7: 0.6058 - val_recall_7: 0.5294 - val_f1_score: 0.6450 - 1s/epoch - 79ms/step\n",
      "Epoch 38/50\n",
      "16/16 - 1s - loss: 0.6671 - accuracy: 0.6195 - auc_7: 0.6403 - precision_7: 0.6308 - recall_7: 0.5466 - f1_score: 0.6595 - val_loss: 0.6749 - val_accuracy: 0.6160 - val_auc_7: 0.6133 - val_precision_7: 0.6139 - val_recall_7: 0.5210 - val_f1_score: 0.6450 - 1s/epoch - 79ms/step\n",
      "Epoch 39/50\n",
      "16/16 - 1s - loss: 0.6666 - accuracy: 0.6195 - auc_7: 0.6431 - precision_7: 0.6321 - recall_7: 0.5425 - f1_score: 0.6595 - val_loss: 0.6743 - val_accuracy: 0.6160 - val_auc_7: 0.6139 - val_precision_7: 0.6117 - val_recall_7: 0.5294 - val_f1_score: 0.6450 - 1s/epoch - 79ms/step\n",
      "Epoch 40/50\n",
      "16/16 - 1s - loss: 0.6660 - accuracy: 0.6215 - auc_7: 0.6441 - precision_7: 0.6338 - recall_7: 0.5466 - f1_score: 0.6595 - val_loss: 0.6747 - val_accuracy: 0.6080 - val_auc_7: 0.6109 - val_precision_7: 0.6000 - val_recall_7: 0.5294 - val_f1_score: 0.6450 - 1s/epoch - 79ms/step\n",
      "Epoch 41/50\n",
      "16/16 - 1s - loss: 0.6657 - accuracy: 0.6235 - auc_7: 0.6398 - precision_7: 0.6355 - recall_7: 0.5506 - f1_score: 0.6595 - val_loss: 0.6743 - val_accuracy: 0.6080 - val_auc_7: 0.6149 - val_precision_7: 0.6019 - val_recall_7: 0.5210 - val_f1_score: 0.6450 - 1s/epoch - 79ms/step\n",
      "Epoch 42/50\n",
      "16/16 - 1s - loss: 0.6651 - accuracy: 0.6215 - auc_7: 0.6453 - precision_7: 0.6326 - recall_7: 0.5506 - f1_score: 0.6595 - val_loss: 0.6744 - val_accuracy: 0.6120 - val_auc_7: 0.6098 - val_precision_7: 0.6038 - val_recall_7: 0.5378 - val_f1_score: 0.6450 - 1s/epoch - 79ms/step\n",
      "Epoch 43/50\n",
      "16/16 - 1s - loss: 0.6645 - accuracy: 0.6255 - auc_7: 0.6416 - precision_7: 0.6398 - recall_7: 0.5466 - f1_score: 0.6595 - val_loss: 0.6739 - val_accuracy: 0.6120 - val_auc_7: 0.6128 - val_precision_7: 0.6078 - val_recall_7: 0.5210 - val_f1_score: 0.6450 - 1s/epoch - 79ms/step\n",
      "Epoch 44/50\n",
      "16/16 - 1s - loss: 0.6643 - accuracy: 0.6235 - auc_7: 0.6440 - precision_7: 0.6381 - recall_7: 0.5425 - f1_score: 0.6595 - val_loss: 0.6733 - val_accuracy: 0.6160 - val_auc_7: 0.6120 - val_precision_7: 0.6095 - val_recall_7: 0.5378 - val_f1_score: 0.6450 - 1s/epoch - 79ms/step\n",
      "Epoch 45/50\n",
      "16/16 - 1s - loss: 0.6637 - accuracy: 0.6235 - auc_7: 0.6497 - precision_7: 0.6381 - recall_7: 0.5425 - f1_score: 0.6595 - val_loss: 0.6731 - val_accuracy: 0.6120 - val_auc_7: 0.6139 - val_precision_7: 0.6078 - val_recall_7: 0.5210 - val_f1_score: 0.6450 - 1s/epoch - 79ms/step\n",
      "Epoch 46/50\n",
      "16/16 - 1s - loss: 0.6633 - accuracy: 0.6255 - auc_7: 0.6468 - precision_7: 0.6398 - recall_7: 0.5466 - f1_score: 0.6595 - val_loss: 0.6729 - val_accuracy: 0.6160 - val_auc_7: 0.6135 - val_precision_7: 0.6095 - val_recall_7: 0.5378 - val_f1_score: 0.6450 - 1s/epoch - 82ms/step\n",
      "Epoch 47/50\n",
      "16/16 - 1s - loss: 0.6628 - accuracy: 0.6235 - auc_7: 0.6463 - precision_7: 0.6381 - recall_7: 0.5425 - f1_score: 0.6595 - val_loss: 0.6727 - val_accuracy: 0.6120 - val_auc_7: 0.6128 - val_precision_7: 0.6078 - val_recall_7: 0.5210 - val_f1_score: 0.6450 - 1s/epoch - 79ms/step\n",
      "Epoch 48/50\n",
      "16/16 - 1s - loss: 0.6623 - accuracy: 0.6255 - auc_7: 0.6476 - precision_7: 0.6398 - recall_7: 0.5466 - f1_score: 0.6595 - val_loss: 0.6729 - val_accuracy: 0.6120 - val_auc_7: 0.6122 - val_precision_7: 0.6038 - val_recall_7: 0.5378 - val_f1_score: 0.6450 - 1s/epoch - 79ms/step\n",
      "Epoch 49/50\n",
      "16/16 - 1s - loss: 0.6616 - accuracy: 0.6255 - auc_7: 0.6480 - precision_7: 0.6398 - recall_7: 0.5466 - f1_score: 0.6595 - val_loss: 0.6728 - val_accuracy: 0.6160 - val_auc_7: 0.6118 - val_precision_7: 0.6095 - val_recall_7: 0.5378 - val_f1_score: 0.6450 - 1s/epoch - 82ms/step\n",
      "Epoch 50/50\n",
      "16/16 - 1s - loss: 0.6614 - accuracy: 0.6255 - auc_7: 0.6418 - precision_7: 0.6398 - recall_7: 0.5466 - f1_score: 0.6595 - val_loss: 0.6726 - val_accuracy: 0.6160 - val_auc_7: 0.6147 - val_precision_7: 0.6095 - val_recall_7: 0.5378 - val_f1_score: 0.6450 - 1s/epoch - 79ms/step\n"
     ]
    },
    {
     "data": {
      "image/png": "[encoded data removed]",
      "text/plain": [
       "<Figure size 432x288 with 1 Axes>"
      ]
     },
     "metadata": {
      "needs_background": "light"
     },
     "output_type": "display_data"
    }
   ],
   "source": [
    "for train_index, val_index in kf.split(X):\n",
    "    X_train, X_val = X[train_index], X[val_index]\n",
    "    y_train, y_val = y[train_index], y[val_index]\n",
    "    baseline_face_model = Baseline(n_features, n_length, n_outputs)\n",
    "    history = baseline_face_model.train(X_train, y_train, X_val, y_val, epochs=epochs, batch_size=batch_size)\n",
    "    plt.plot(history.history['loss'])\n",
    "    plt.show()"
   ]
  },
  {
   "cell_type": "markdown",
   "metadata": {},
   "source": [
    "#### Prediction on the holdout set"
   ]
  },
  {
   "cell_type": "code",
   "execution_count": 11,
   "metadata": {},
   "outputs": [
    {
     "name": "stdout",
     "output_type": "stream",
     "text": [
      "Accuracy: 57.46% \n",
      "ROC/AUC: 0.64 \n",
      "Precision: 0.92 \n",
      "Recall: 0.55 \n",
      "F1 score: 0.93\n"
     ]
    }
   ],
   "source": [
    "y_pred = baseline_face_model.predict(X_test)\n",
    "_, acc, auc, precision, recall, f1 = baseline_face_model.evaluate(X_test, y_test)\n",
    "results.append(round(auc, 2))\n",
    "print('Accuracy: {:.2f}% \\nROC/AUC: {:.2f} \\nPrecision: {:.2f} \\nRecall: {:.2f} \\nF1 score: {:.2f}'.format(acc * 100, auc, precision, recall, f1))"
   ]
  },
  {
   "cell_type": "markdown",
   "metadata": {},
   "source": [
    "## 3. Multimodal Early Fusion"
   ]
  },
  {
   "cell_type": "markdown",
   "metadata": {},
   "source": [
    "### Dataset"
   ]
  },
  {
   "cell_type": "code",
   "execution_count": 12,
   "metadata": {},
   "outputs": [
    {
     "name": "stdout",
     "output_type": "stream",
     "text": [
      "(752, 350, 60) (752, 1)\n",
      "(268, 350, 60) (268, 1)\n"
     ]
    }
   ],
   "source": [
    "X_train, X_test, y_train, y_test = load_fusioned_dataset(binary=True)\n",
    "X_train = X_train.reshape(X_train.shape[0], X_train.shape[2], X_train.shape[3])\n",
    "X_test = X_test.reshape(X_test.shape[0], X_test.shape[2], X_test.shape[3])\n",
    "X = X_train.copy()\n",
    "y = y_train.copy()\n",
    "\n",
    "print(X_train.shape, y_train.shape)\n",
    "print(X_test.shape, y_test.shape)\n",
    "\n",
    "n_length, n_features, n_outputs = X_train.shape[1], X_train.shape[-1], y_train.shape[1]"
   ]
  },
  {
   "cell_type": "code",
   "execution_count": 13,
   "metadata": {},
   "outputs": [
    {
     "name": "stdout",
     "output_type": "stream",
     "text": [
      "Model: \"model_8\"\n",
      "_________________________________________________________________\n",
      " Layer (type)                Output Shape              Param #   \n",
      "=================================================================\n",
      " input_9 (InputLayer)        [(None, 350, 60)]         0         \n",
      "                                                                 \n",
      " lstm_8 (LSTM)               (None, 50)                22200     \n",
      "                                                                 \n",
      " dense_16 (Dense)            (None, 50)                2550      \n",
      "                                                                 \n",
      " dense_17 (Dense)            (None, 1)                 51        \n",
      "                                                                 \n",
      "=================================================================\n",
      "Total params: 24,801\n",
      "Trainable params: 24,801\n",
      "Non-trainable params: 0\n",
      "_________________________________________________________________\n"
     ]
    }
   ],
   "source": [
    "model = Baseline(n_features, n_length, n_outputs)\n",
    "model.summary()"
   ]
  },
  {
   "cell_type": "markdown",
   "metadata": {},
   "source": [
    "### CNN + Bidirectional LSTM"
   ]
  },
  {
   "cell_type": "code",
   "execution_count": 14,
   "metadata": {},
   "outputs": [
    {
     "name": "stdout",
     "output_type": "stream",
     "text": [
      "Epoch 1/50\n",
      "16/16 - 4s - loss: 0.7148 - accuracy: 0.4910 - auc_9: 0.5757 - precision_9: 0.4868 - recall_9: 0.9917 - f1_score: 0.6514 - val_loss: 0.6933 - val_accuracy: 0.4900 - val_auc_9: 0.6376 - val_precision_9: 0.4919 - val_recall_9: 0.9758 - val_f1_score: 0.6613 - 4s/epoch - 233ms/step\n",
      "Epoch 2/50\n",
      "16/16 - 1s - loss: 0.6944 - accuracy: 0.4890 - auc_9: 0.6015 - precision_9: 0.4854 - recall_9: 0.9628 - f1_score: 0.6514 - val_loss: 0.6807 - val_accuracy: 0.4940 - val_auc_9: 0.6523 - val_precision_9: 0.4937 - val_recall_9: 0.9435 - val_f1_score: 0.6613 - 1s/epoch - 81ms/step\n",
      "Epoch 3/50\n",
      "16/16 - 1s - loss: 0.6839 - accuracy: 0.4810 - auc_9: 0.6054 - precision_9: 0.4802 - recall_9: 0.9008 - f1_score: 0.6514 - val_loss: 0.6725 - val_accuracy: 0.5339 - val_auc_9: 0.6643 - val_precision_9: 0.5163 - val_recall_9: 0.8952 - val_f1_score: 0.6613 - 1s/epoch - 81ms/step\n",
      "Epoch 4/50\n",
      "16/16 - 1s - loss: 0.6762 - accuracy: 0.5589 - auc_9: 0.6292 - precision_9: 0.5329 - recall_9: 0.7025 - f1_score: 0.6514 - val_loss: 0.6699 - val_accuracy: 0.6255 - val_auc_9: 0.6778 - val_precision_9: 0.6154 - val_recall_9: 0.6452 - val_f1_score: 0.6613 - 1s/epoch - 82ms/step\n",
      "Epoch 5/50\n",
      "16/16 - 1s - loss: 0.6740 - accuracy: 0.6028 - auc_9: 0.6277 - precision_9: 0.5885 - recall_9: 0.5909 - f1_score: 0.6514 - val_loss: 0.6681 - val_accuracy: 0.6255 - val_auc_9: 0.6637 - val_precision_9: 0.6293 - val_recall_9: 0.5887 - val_f1_score: 0.6613 - 1s/epoch - 81ms/step\n",
      "Epoch 6/50\n",
      "16/16 - 1s - loss: 0.6703 - accuracy: 0.6208 - auc_9: 0.6425 - precision_9: 0.6204 - recall_9: 0.5537 - f1_score: 0.6514 - val_loss: 0.6662 - val_accuracy: 0.6215 - val_auc_9: 0.6687 - val_precision_9: 0.6408 - val_recall_9: 0.5323 - val_f1_score: 0.6613 - 1s/epoch - 82ms/step\n",
      "Epoch 7/50\n",
      "16/16 - 1s - loss: 0.6679 - accuracy: 0.6168 - auc_9: 0.6514 - precision_9: 0.6344 - recall_9: 0.4876 - f1_score: 0.6514 - val_loss: 0.6650 - val_accuracy: 0.6255 - val_auc_9: 0.6694 - val_precision_9: 0.6562 - val_recall_9: 0.5081 - val_f1_score: 0.6613 - 1s/epoch - 81ms/step\n",
      "Epoch 8/50\n",
      "16/16 - 1s - loss: 0.6668 - accuracy: 0.6327 - auc_9: 0.6511 - precision_9: 0.6593 - recall_9: 0.4959 - f1_score: 0.6514 - val_loss: 0.6628 - val_accuracy: 0.6335 - val_auc_9: 0.6721 - val_precision_9: 0.6633 - val_recall_9: 0.5242 - val_f1_score: 0.6613 - 1s/epoch - 81ms/step\n",
      "Epoch 9/50\n",
      "16/16 - 1s - loss: 0.6638 - accuracy: 0.6427 - auc_9: 0.6596 - precision_9: 0.6667 - recall_9: 0.5207 - f1_score: 0.6514 - val_loss: 0.6617 - val_accuracy: 0.6295 - val_auc_9: 0.6695 - val_precision_9: 0.6566 - val_recall_9: 0.5242 - val_f1_score: 0.6613 - 1s/epoch - 82ms/step\n",
      "Epoch 10/50\n",
      "16/16 - 1s - loss: 0.6617 - accuracy: 0.6427 - auc_9: 0.6675 - precision_9: 0.6684 - recall_9: 0.5165 - f1_score: 0.6514 - val_loss: 0.6601 - val_accuracy: 0.6375 - val_auc_9: 0.6752 - val_precision_9: 0.6667 - val_recall_9: 0.5323 - val_f1_score: 0.6613 - 1s/epoch - 82ms/step\n",
      "Epoch 11/50\n",
      "16/16 - 1s - loss: 0.6602 - accuracy: 0.6407 - auc_9: 0.6724 - precision_9: 0.6649 - recall_9: 0.5165 - f1_score: 0.6514 - val_loss: 0.6591 - val_accuracy: 0.6335 - val_auc_9: 0.6692 - val_precision_9: 0.6600 - val_recall_9: 0.5323 - val_f1_score: 0.6613 - 1s/epoch - 81ms/step\n",
      "Epoch 12/50\n",
      "16/16 - 1s - loss: 0.6584 - accuracy: 0.6467 - auc_9: 0.6751 - precision_9: 0.6757 - recall_9: 0.5165 - f1_score: 0.6514 - val_loss: 0.6583 - val_accuracy: 0.6414 - val_auc_9: 0.6681 - val_precision_9: 0.6735 - val_recall_9: 0.5323 - val_f1_score: 0.6613 - 1s/epoch - 81ms/step\n",
      "Epoch 13/50\n",
      "16/16 - 1s - loss: 0.6563 - accuracy: 0.6467 - auc_9: 0.6760 - precision_9: 0.6776 - recall_9: 0.5124 - f1_score: 0.6514 - val_loss: 0.6570 - val_accuracy: 0.6375 - val_auc_9: 0.6726 - val_precision_9: 0.6667 - val_recall_9: 0.5323 - val_f1_score: 0.6613 - 1s/epoch - 81ms/step\n",
      "Epoch 14/50\n",
      "16/16 - 1s - loss: 0.6549 - accuracy: 0.6467 - auc_9: 0.6800 - precision_9: 0.6776 - recall_9: 0.5124 - f1_score: 0.6514 - val_loss: 0.6558 - val_accuracy: 0.6335 - val_auc_9: 0.6750 - val_precision_9: 0.6600 - val_recall_9: 0.5323 - val_f1_score: 0.6613 - 1s/epoch - 81ms/step\n",
      "Epoch 15/50\n",
      "16/16 - 1s - loss: 0.6530 - accuracy: 0.6487 - auc_9: 0.6839 - precision_9: 0.6813 - recall_9: 0.5124 - f1_score: 0.6514 - val_loss: 0.6551 - val_accuracy: 0.6414 - val_auc_9: 0.6752 - val_precision_9: 0.6735 - val_recall_9: 0.5323 - val_f1_score: 0.6613 - 1s/epoch - 82ms/step\n",
      "Epoch 16/50\n",
      "16/16 - 1s - loss: 0.6521 - accuracy: 0.6407 - auc_9: 0.6855 - precision_9: 0.6649 - recall_9: 0.5165 - f1_score: 0.6514 - val_loss: 0.6524 - val_accuracy: 0.6414 - val_auc_9: 0.6761 - val_precision_9: 0.6667 - val_recall_9: 0.5484 - val_f1_score: 0.6613 - 1s/epoch - 80ms/step\n",
      "Epoch 17/50\n",
      "16/16 - 1s - loss: 0.6502 - accuracy: 0.6527 - auc_9: 0.6894 - precision_9: 0.6848 - recall_9: 0.5207 - f1_score: 0.6514 - val_loss: 0.6522 - val_accuracy: 0.6375 - val_auc_9: 0.6783 - val_precision_9: 0.6634 - val_recall_9: 0.5403 - val_f1_score: 0.6613 - 1s/epoch - 80ms/step\n",
      "Epoch 18/50\n",
      "16/16 - 1s - loss: 0.6504 - accuracy: 0.6447 - auc_9: 0.6840 - precision_9: 0.6649 - recall_9: 0.5331 - f1_score: 0.6514 - val_loss: 0.6511 - val_accuracy: 0.6335 - val_auc_9: 0.6790 - val_precision_9: 0.6455 - val_recall_9: 0.5726 - val_f1_score: 0.6613 - 1s/epoch - 80ms/step\n",
      "Epoch 19/50\n",
      "16/16 - 1s - loss: 0.6483 - accuracy: 0.6467 - auc_9: 0.6905 - precision_9: 0.6738 - recall_9: 0.5207 - f1_score: 0.6514 - val_loss: 0.6498 - val_accuracy: 0.6335 - val_auc_9: 0.6768 - val_precision_9: 0.6569 - val_recall_9: 0.5403 - val_f1_score: 0.6613 - 1s/epoch - 82ms/step\n",
      "Epoch 20/50\n",
      "16/16 - 1s - loss: 0.6474 - accuracy: 0.6487 - auc_9: 0.6896 - precision_9: 0.6774 - recall_9: 0.5207 - f1_score: 0.6514 - val_loss: 0.6499 - val_accuracy: 0.6295 - val_auc_9: 0.6769 - val_precision_9: 0.6505 - val_recall_9: 0.5403 - val_f1_score: 0.6613 - 1s/epoch - 80ms/step\n",
      "Epoch 21/50\n",
      "16/16 - 1s - loss: 0.6458 - accuracy: 0.6467 - auc_9: 0.6956 - precision_9: 0.6720 - recall_9: 0.5248 - f1_score: 0.6514 - val_loss: 0.6494 - val_accuracy: 0.6335 - val_auc_9: 0.6765 - val_precision_9: 0.6569 - val_recall_9: 0.5403 - val_f1_score: 0.6613 - 1s/epoch - 80ms/step\n",
      "Epoch 22/50\n",
      "16/16 - 1s - loss: 0.6442 - accuracy: 0.6507 - auc_9: 0.6978 - precision_9: 0.6754 - recall_9: 0.5331 - f1_score: 0.6514 - val_loss: 0.6474 - val_accuracy: 0.6335 - val_auc_9: 0.6784 - val_precision_9: 0.6569 - val_recall_9: 0.5403 - val_f1_score: 0.6613 - 1s/epoch - 80ms/step\n",
      "Epoch 23/50\n",
      "16/16 - 1s - loss: 0.6429 - accuracy: 0.6507 - auc_9: 0.6990 - precision_9: 0.6754 - recall_9: 0.5331 - f1_score: 0.6514 - val_loss: 0.6476 - val_accuracy: 0.6215 - val_auc_9: 0.6749 - val_precision_9: 0.6381 - val_recall_9: 0.5403 - val_f1_score: 0.6613 - 1s/epoch - 80ms/step\n",
      "Epoch 24/50\n",
      "16/16 - 1s - loss: 0.6424 - accuracy: 0.6427 - auc_9: 0.7030 - precision_9: 0.6615 - recall_9: 0.5331 - f1_score: 0.6514 - val_loss: 0.6465 - val_accuracy: 0.6335 - val_auc_9: 0.6755 - val_precision_9: 0.6538 - val_recall_9: 0.5484 - val_f1_score: 0.6613 - 1s/epoch - 80ms/step\n",
      "Epoch 25/50\n",
      "16/16 - 1s - loss: 0.6411 - accuracy: 0.6447 - auc_9: 0.7028 - precision_9: 0.6702 - recall_9: 0.5207 - f1_score: 0.6514 - val_loss: 0.6445 - val_accuracy: 0.6375 - val_auc_9: 0.6802 - val_precision_9: 0.6602 - val_recall_9: 0.5484 - val_f1_score: 0.6613 - 1s/epoch - 80ms/step\n",
      "Epoch 26/50\n",
      "16/16 - 1s - loss: 0.6386 - accuracy: 0.6427 - auc_9: 0.7037 - precision_9: 0.6649 - recall_9: 0.5248 - f1_score: 0.6514 - val_loss: 0.6436 - val_accuracy: 0.6375 - val_auc_9: 0.6800 - val_precision_9: 0.6571 - val_recall_9: 0.5565 - val_f1_score: 0.6613 - 1s/epoch - 80ms/step\n",
      "Epoch 27/50\n",
      "16/16 - 1s - loss: 0.6375 - accuracy: 0.6507 - auc_9: 0.7056 - precision_9: 0.6772 - recall_9: 0.5289 - f1_score: 0.6514 - val_loss: 0.6436 - val_accuracy: 0.6335 - val_auc_9: 0.6809 - val_precision_9: 0.6481 - val_recall_9: 0.5645 - val_f1_score: 0.6613 - 1s/epoch - 85ms/step\n",
      "Epoch 28/50\n",
      "16/16 - 1s - loss: 0.6351 - accuracy: 0.6467 - auc_9: 0.7096 - precision_9: 0.6720 - recall_9: 0.5248 - f1_score: 0.6514 - val_loss: 0.6439 - val_accuracy: 0.6414 - val_auc_9: 0.6822 - val_precision_9: 0.6604 - val_recall_9: 0.5645 - val_f1_score: 0.6613 - 1s/epoch - 83ms/step\n",
      "Epoch 29/50\n",
      "16/16 - 1s - loss: 0.6349 - accuracy: 0.6547 - auc_9: 0.7067 - precision_9: 0.6806 - recall_9: 0.5372 - f1_score: 0.6514 - val_loss: 0.6403 - val_accuracy: 0.6375 - val_auc_9: 0.6850 - val_precision_9: 0.6460 - val_recall_9: 0.5887 - val_f1_score: 0.6613 - 1s/epoch - 80ms/step\n",
      "Epoch 30/50\n",
      "16/16 - 1s - loss: 0.6333 - accuracy: 0.6567 - auc_9: 0.7107 - precision_9: 0.6768 - recall_9: 0.5537 - f1_score: 0.6514 - val_loss: 0.6403 - val_accuracy: 0.6335 - val_auc_9: 0.6871 - val_precision_9: 0.6429 - val_recall_9: 0.5806 - val_f1_score: 0.6613 - 1s/epoch - 79ms/step\n",
      "Epoch 31/50\n",
      "16/16 - 1s - loss: 0.6330 - accuracy: 0.6547 - auc_9: 0.7100 - precision_9: 0.6788 - recall_9: 0.5413 - f1_score: 0.6514 - val_loss: 0.6404 - val_accuracy: 0.6335 - val_auc_9: 0.6849 - val_precision_9: 0.6455 - val_recall_9: 0.5726 - val_f1_score: 0.6613 - 1s/epoch - 79ms/step\n",
      "Epoch 32/50\n",
      "16/16 - 1s - loss: 0.6322 - accuracy: 0.6487 - auc_9: 0.7096 - precision_9: 0.6587 - recall_9: 0.5661 - f1_score: 0.6514 - val_loss: 0.6394 - val_accuracy: 0.6414 - val_auc_9: 0.6875 - val_precision_9: 0.6441 - val_recall_9: 0.6129 - val_f1_score: 0.6613 - 1s/epoch - 79ms/step\n",
      "Epoch 33/50\n",
      "16/16 - 1s - loss: 0.6306 - accuracy: 0.6627 - auc_9: 0.7121 - precision_9: 0.6798 - recall_9: 0.5702 - f1_score: 0.6514 - val_loss: 0.6394 - val_accuracy: 0.6335 - val_auc_9: 0.6874 - val_precision_9: 0.6404 - val_recall_9: 0.5887 - val_f1_score: 0.6613 - 1s/epoch - 84ms/step\n",
      "Epoch 34/50\n",
      "16/16 - 1s - loss: 0.6292 - accuracy: 0.6627 - auc_9: 0.7156 - precision_9: 0.6834 - recall_9: 0.5620 - f1_score: 0.6514 - val_loss: 0.6399 - val_accuracy: 0.6295 - val_auc_9: 0.6885 - val_precision_9: 0.6348 - val_recall_9: 0.5887 - val_f1_score: 0.6613 - 1s/epoch - 83ms/step\n",
      "Epoch 35/50\n",
      "16/16 - 1s - loss: 0.6297 - accuracy: 0.6587 - auc_9: 0.7131 - precision_9: 0.6749 - recall_9: 0.5661 - f1_score: 0.6514 - val_loss: 0.6395 - val_accuracy: 0.6335 - val_auc_9: 0.6865 - val_precision_9: 0.6404 - val_recall_9: 0.5887 - val_f1_score: 0.6613 - 1s/epoch - 81ms/step\n",
      "Epoch 36/50\n",
      "16/16 - 1s - loss: 0.6290 - accuracy: 0.6647 - auc_9: 0.7131 - precision_9: 0.6762 - recall_9: 0.5868 - f1_score: 0.6514 - val_loss: 0.6388 - val_accuracy: 0.6375 - val_auc_9: 0.6882 - val_precision_9: 0.6387 - val_recall_9: 0.6129 - val_f1_score: 0.6613 - 1s/epoch - 80ms/step\n",
      "Epoch 37/50\n",
      "16/16 - 1s - loss: 0.6282 - accuracy: 0.6747 - auc_9: 0.7135 - precision_9: 0.6854 - recall_9: 0.6033 - f1_score: 0.6514 - val_loss: 0.6370 - val_accuracy: 0.6454 - val_auc_9: 0.6918 - val_precision_9: 0.6496 - val_recall_9: 0.6129 - val_f1_score: 0.6613 - 1s/epoch - 83ms/step\n",
      "Epoch 38/50\n",
      "16/16 - 1s - loss: 0.6274 - accuracy: 0.6567 - auc_9: 0.7146 - precision_9: 0.6562 - recall_9: 0.6074 - f1_score: 0.6514 - val_loss: 0.6387 - val_accuracy: 0.6414 - val_auc_9: 0.6874 - val_precision_9: 0.6417 - val_recall_9: 0.6210 - val_f1_score: 0.6613 - 1s/epoch - 82ms/step\n",
      "Epoch 39/50\n",
      "16/16 - 1s - loss: 0.6261 - accuracy: 0.6627 - auc_9: 0.7160 - precision_9: 0.6667 - recall_9: 0.6033 - f1_score: 0.6514 - val_loss: 0.6356 - val_accuracy: 0.6375 - val_auc_9: 0.6952 - val_precision_9: 0.6387 - val_recall_9: 0.6129 - val_f1_score: 0.6613 - 1s/epoch - 80ms/step\n",
      "Epoch 40/50\n",
      "16/16 - 1s - loss: 0.6245 - accuracy: 0.6667 - auc_9: 0.7165 - precision_9: 0.6697 - recall_9: 0.6116 - f1_score: 0.6514 - val_loss: 0.6363 - val_accuracy: 0.6375 - val_auc_9: 0.6924 - val_precision_9: 0.6387 - val_recall_9: 0.6129 - val_f1_score: 0.6613 - 1s/epoch - 82ms/step\n",
      "Epoch 41/50\n",
      "16/16 - 1s - loss: 0.6234 - accuracy: 0.6687 - auc_9: 0.7205 - precision_9: 0.6776 - recall_9: 0.5992 - f1_score: 0.6514 - val_loss: 0.6344 - val_accuracy: 0.6375 - val_auc_9: 0.6969 - val_precision_9: 0.6387 - val_recall_9: 0.6129 - val_f1_score: 0.6613 - 1s/epoch - 86ms/step\n",
      "Epoch 42/50\n",
      "16/16 - 1s - loss: 0.6228 - accuracy: 0.6707 - auc_9: 0.7200 - precision_9: 0.6758 - recall_9: 0.6116 - f1_score: 0.6514 - val_loss: 0.6353 - val_accuracy: 0.6414 - val_auc_9: 0.6958 - val_precision_9: 0.6417 - val_recall_9: 0.6210 - val_f1_score: 0.6613 - 1s/epoch - 82ms/step\n",
      "Epoch 43/50\n",
      "16/16 - 1s - loss: 0.6228 - accuracy: 0.6647 - auc_9: 0.7192 - precision_9: 0.6667 - recall_9: 0.6116 - f1_score: 0.6514 - val_loss: 0.6350 - val_accuracy: 0.6375 - val_auc_9: 0.6945 - val_precision_9: 0.6387 - val_recall_9: 0.6129 - val_f1_score: 0.6613 - 1s/epoch - 80ms/step\n",
      "Epoch 44/50\n",
      "16/16 - 1s - loss: 0.6217 - accuracy: 0.6627 - auc_9: 0.7197 - precision_9: 0.6682 - recall_9: 0.5992 - f1_score: 0.6514 - val_loss: 0.6354 - val_accuracy: 0.6375 - val_auc_9: 0.6954 - val_precision_9: 0.6387 - val_recall_9: 0.6129 - val_f1_score: 0.6613 - 1s/epoch - 82ms/step\n",
      "Epoch 45/50\n",
      "16/16 - 1s - loss: 0.6215 - accuracy: 0.6627 - auc_9: 0.7196 - precision_9: 0.6652 - recall_9: 0.6074 - f1_score: 0.6514 - val_loss: 0.6353 - val_accuracy: 0.6375 - val_auc_9: 0.6954 - val_precision_9: 0.6387 - val_recall_9: 0.6129 - val_f1_score: 0.6613 - 1s/epoch - 83ms/step\n",
      "Epoch 46/50\n",
      "16/16 - 1s - loss: 0.6204 - accuracy: 0.6707 - auc_9: 0.7217 - precision_9: 0.6758 - recall_9: 0.6116 - f1_score: 0.6514 - val_loss: 0.6350 - val_accuracy: 0.6454 - val_auc_9: 0.6969 - val_precision_9: 0.6446 - val_recall_9: 0.6290 - val_f1_score: 0.6613 - 1s/epoch - 81ms/step\n",
      "Epoch 47/50\n",
      "16/16 - 1s - loss: 0.6194 - accuracy: 0.6667 - auc_9: 0.7221 - precision_9: 0.6697 - recall_9: 0.6116 - f1_score: 0.6514 - val_loss: 0.6346 - val_accuracy: 0.6375 - val_auc_9: 0.6941 - val_precision_9: 0.6387 - val_recall_9: 0.6129 - val_f1_score: 0.6613 - 1s/epoch - 81ms/step\n",
      "Epoch 48/50\n",
      "16/16 - 1s - loss: 0.6198 - accuracy: 0.6627 - auc_9: 0.7214 - precision_9: 0.6682 - recall_9: 0.5992 - f1_score: 0.6514 - val_loss: 0.6354 - val_accuracy: 0.6335 - val_auc_9: 0.6954 - val_precision_9: 0.6379 - val_recall_9: 0.5968 - val_f1_score: 0.6613 - 1s/epoch - 83ms/step\n",
      "Epoch 49/50\n",
      "16/16 - 1s - loss: 0.6192 - accuracy: 0.6727 - auc_9: 0.7198 - precision_9: 0.6789 - recall_9: 0.6116 - f1_score: 0.6514 - val_loss: 0.6353 - val_accuracy: 0.6295 - val_auc_9: 0.6965 - val_precision_9: 0.6348 - val_recall_9: 0.5887 - val_f1_score: 0.6613 - 1s/epoch - 83ms/step\n",
      "Epoch 50/50\n",
      "16/16 - 1s - loss: 0.6177 - accuracy: 0.6687 - auc_9: 0.7244 - precision_9: 0.6792 - recall_9: 0.5950 - f1_score: 0.6514 - val_loss: 0.6343 - val_accuracy: 0.6255 - val_auc_9: 0.7001 - val_precision_9: 0.6316 - val_recall_9: 0.5806 - val_f1_score: 0.6613 - 1s/epoch - 80ms/step\n"
     ]
    },
    {
     "data": {
      "image/png": "[encoded data removed]",
      "text/plain": [
       "<Figure size 432x288 with 1 Axes>"
      ]
     },
     "metadata": {
      "needs_background": "light"
     },
     "output_type": "display_data"
    },
    {
     "name": "stdout",
     "output_type": "stream",
     "text": [
      "Epoch 1/50\n",
      "16/16 - 3s - loss: 0.7344 - accuracy: 0.5130 - auc_10: 0.4707 - precision_10: 0.4949 - recall_10: 0.2016 - f1_score: 0.6532 - val_loss: 0.6982 - val_accuracy: 0.4980 - val_auc_10: 0.5027 - val_precision_10: 0.4754 - val_recall_10: 0.2358 - val_f1_score: 0.6578 - 3s/epoch - 210ms/step\n",
      "Epoch 2/50\n",
      "16/16 - 1s - loss: 0.7108 - accuracy: 0.5409 - auc_10: 0.5225 - precision_10: 0.5619 - recall_10: 0.2428 - f1_score: 0.6532 - val_loss: 0.6954 - val_accuracy: 0.5020 - val_auc_10: 0.4890 - val_precision_10: 0.4833 - val_recall_10: 0.2358 - val_f1_score: 0.6578 - 1s/epoch - 80ms/step\n",
      "Epoch 3/50\n",
      "16/16 - 1s - loss: 0.7019 - accuracy: 0.5549 - auc_10: 0.5333 - precision_10: 0.5877 - recall_10: 0.2757 - f1_score: 0.6532 - val_loss: 0.6947 - val_accuracy: 0.5219 - val_auc_10: 0.5041 - val_precision_10: 0.5246 - val_recall_10: 0.2602 - val_f1_score: 0.6578 - 1s/epoch - 80ms/step\n",
      "Epoch 4/50\n",
      "16/16 - 1s - loss: 0.6957 - accuracy: 0.5549 - auc_10: 0.5418 - precision_10: 0.5847 - recall_10: 0.2840 - f1_score: 0.6532 - val_loss: 0.6946 - val_accuracy: 0.5139 - val_auc_10: 0.5051 - val_precision_10: 0.5079 - val_recall_10: 0.2602 - val_f1_score: 0.6578 - 1s/epoch - 82ms/step\n",
      "Epoch 5/50\n",
      "16/16 - 1s - loss: 0.6901 - accuracy: 0.5629 - auc_10: 0.5608 - precision_10: 0.5938 - recall_10: 0.3128 - f1_score: 0.6532 - val_loss: 0.6928 - val_accuracy: 0.5139 - val_auc_10: 0.5097 - val_precision_10: 0.5072 - val_recall_10: 0.2846 - val_f1_score: 0.6578 - 1s/epoch - 82ms/step\n",
      "Epoch 6/50\n",
      "16/16 - 1s - loss: 0.6835 - accuracy: 0.5749 - auc_10: 0.5830 - precision_10: 0.6154 - recall_10: 0.3292 - f1_score: 0.6532 - val_loss: 0.6910 - val_accuracy: 0.5139 - val_auc_10: 0.5267 - val_precision_10: 0.5075 - val_recall_10: 0.2764 - val_f1_score: 0.6578 - 1s/epoch - 82ms/step\n",
      "Epoch 7/50\n",
      "16/16 - 1s - loss: 0.6800 - accuracy: 0.5749 - auc_10: 0.5997 - precision_10: 0.6154 - recall_10: 0.3292 - f1_score: 0.6532 - val_loss: 0.6900 - val_accuracy: 0.5179 - val_auc_10: 0.5392 - val_precision_10: 0.5147 - val_recall_10: 0.2846 - val_f1_score: 0.6578 - 1s/epoch - 83ms/step\n",
      "Epoch 8/50\n",
      "16/16 - 1s - loss: 0.6759 - accuracy: 0.5868 - auc_10: 0.6189 - precision_10: 0.6385 - recall_10: 0.3416 - f1_score: 0.6532 - val_loss: 0.6898 - val_accuracy: 0.5259 - val_auc_10: 0.5436 - val_precision_10: 0.5312 - val_recall_10: 0.2764 - val_f1_score: 0.6578 - 1s/epoch - 83ms/step\n",
      "Epoch 9/50\n",
      "16/16 - 1s - loss: 0.6732 - accuracy: 0.6068 - auc_10: 0.6310 - precision_10: 0.6643 - recall_10: 0.3827 - f1_score: 0.6532 - val_loss: 0.6895 - val_accuracy: 0.5259 - val_auc_10: 0.5469 - val_precision_10: 0.5294 - val_recall_10: 0.2927 - val_f1_score: 0.6578 - 1s/epoch - 82ms/step\n",
      "Epoch 10/50\n",
      "16/16 - 1s - loss: 0.6700 - accuracy: 0.6108 - auc_10: 0.6459 - precision_10: 0.6690 - recall_10: 0.3909 - f1_score: 0.6532 - val_loss: 0.6894 - val_accuracy: 0.5339 - val_auc_10: 0.5525 - val_precision_10: 0.5441 - val_recall_10: 0.3008 - val_f1_score: 0.6578 - 1s/epoch - 83ms/step\n",
      "Epoch 11/50\n",
      "16/16 - 1s - loss: 0.6670 - accuracy: 0.6148 - auc_10: 0.6565 - precision_10: 0.6667 - recall_10: 0.4115 - f1_score: 0.6532 - val_loss: 0.6888 - val_accuracy: 0.5219 - val_auc_10: 0.5581 - val_precision_10: 0.5217 - val_recall_10: 0.2927 - val_f1_score: 0.6578 - 1s/epoch - 83ms/step\n",
      "Epoch 12/50\n",
      "16/16 - 1s - loss: 0.6644 - accuracy: 0.6228 - auc_10: 0.6662 - precision_10: 0.6800 - recall_10: 0.4198 - f1_score: 0.6532 - val_loss: 0.6880 - val_accuracy: 0.5339 - val_auc_10: 0.5629 - val_precision_10: 0.5405 - val_recall_10: 0.3252 - val_f1_score: 0.6578 - 1s/epoch - 83ms/step\n",
      "Epoch 13/50\n",
      "16/16 - 1s - loss: 0.6608 - accuracy: 0.6248 - auc_10: 0.6738 - precision_10: 0.6554 - recall_10: 0.4774 - f1_score: 0.6532 - val_loss: 0.6878 - val_accuracy: 0.5538 - val_auc_10: 0.5607 - val_precision_10: 0.5591 - val_recall_10: 0.4228 - val_f1_score: 0.6578 - 1s/epoch - 81ms/step\n",
      "Epoch 14/50\n",
      "16/16 - 1s - loss: 0.6577 - accuracy: 0.6427 - auc_10: 0.6804 - precision_10: 0.6684 - recall_10: 0.5226 - f1_score: 0.6532 - val_loss: 0.6891 - val_accuracy: 0.5378 - val_auc_10: 0.5557 - val_precision_10: 0.5479 - val_recall_10: 0.3252 - val_f1_score: 0.6578 - 1s/epoch - 83ms/step\n",
      "Epoch 15/50\n",
      "16/16 - 1s - loss: 0.6563 - accuracy: 0.6467 - auc_10: 0.6810 - precision_10: 0.6667 - recall_10: 0.5432 - f1_score: 0.6532 - val_loss: 0.6885 - val_accuracy: 0.5498 - val_auc_10: 0.5537 - val_precision_10: 0.5521 - val_recall_10: 0.4309 - val_f1_score: 0.6578 - 1s/epoch - 83ms/step\n",
      "Epoch 16/50\n",
      "16/16 - 1s - loss: 0.6552 - accuracy: 0.6467 - auc_10: 0.6828 - precision_10: 0.6634 - recall_10: 0.5514 - f1_score: 0.6532 - val_loss: 0.6858 - val_accuracy: 0.5578 - val_auc_10: 0.5645 - val_precision_10: 0.5612 - val_recall_10: 0.4472 - val_f1_score: 0.6578 - 1s/epoch - 83ms/step\n",
      "Epoch 17/50\n",
      "16/16 - 1s - loss: 0.6522 - accuracy: 0.6567 - auc_10: 0.6885 - precision_10: 0.6651 - recall_10: 0.5885 - f1_score: 0.6532 - val_loss: 0.6851 - val_accuracy: 0.5538 - val_auc_10: 0.5698 - val_precision_10: 0.5534 - val_recall_10: 0.4634 - val_f1_score: 0.6578 - 1s/epoch - 85ms/step\n",
      "Epoch 18/50\n",
      "16/16 - 1s - loss: 0.6493 - accuracy: 0.6707 - auc_10: 0.6928 - precision_10: 0.6822 - recall_10: 0.6008 - f1_score: 0.6532 - val_loss: 0.6852 - val_accuracy: 0.5657 - val_auc_10: 0.5740 - val_precision_10: 0.5700 - val_recall_10: 0.4634 - val_f1_score: 0.6578 - 1s/epoch - 80ms/step\n",
      "Epoch 19/50\n",
      "16/16 - 1s - loss: 0.6478 - accuracy: 0.6687 - auc_10: 0.6947 - precision_10: 0.6842 - recall_10: 0.5885 - f1_score: 0.6532 - val_loss: 0.6839 - val_accuracy: 0.5578 - val_auc_10: 0.5736 - val_precision_10: 0.5600 - val_recall_10: 0.4553 - val_f1_score: 0.6578 - 1s/epoch - 82ms/step\n",
      "Epoch 20/50\n",
      "16/16 - 1s - loss: 0.6453 - accuracy: 0.6747 - auc_10: 0.6980 - precision_10: 0.6835 - recall_10: 0.6132 - f1_score: 0.6532 - val_loss: 0.6841 - val_accuracy: 0.5578 - val_auc_10: 0.5752 - val_precision_10: 0.5588 - val_recall_10: 0.4634 - val_f1_score: 0.6578 - 1s/epoch - 85ms/step\n",
      "Epoch 21/50\n",
      "16/16 - 1s - loss: 0.6441 - accuracy: 0.6786 - auc_10: 0.6984 - precision_10: 0.6916 - recall_10: 0.6091 - f1_score: 0.6532 - val_loss: 0.6841 - val_accuracy: 0.5657 - val_auc_10: 0.5772 - val_precision_10: 0.5714 - val_recall_10: 0.4553 - val_f1_score: 0.6578 - 1s/epoch - 83ms/step\n",
      "Epoch 22/50\n",
      "16/16 - 1s - loss: 0.6434 - accuracy: 0.6747 - auc_10: 0.6966 - precision_10: 0.6869 - recall_10: 0.6049 - f1_score: 0.6532 - val_loss: 0.6848 - val_accuracy: 0.5618 - val_auc_10: 0.5735 - val_precision_10: 0.5631 - val_recall_10: 0.4715 - val_f1_score: 0.6578 - 1s/epoch - 79ms/step\n",
      "Epoch 23/50\n",
      "16/16 - 1s - loss: 0.6416 - accuracy: 0.6687 - auc_10: 0.6990 - precision_10: 0.6758 - recall_10: 0.6091 - f1_score: 0.6532 - val_loss: 0.6839 - val_accuracy: 0.5657 - val_auc_10: 0.5762 - val_precision_10: 0.5648 - val_recall_10: 0.4959 - val_f1_score: 0.6578 - 1s/epoch - 82ms/step\n",
      "Epoch 24/50\n",
      "16/16 - 1s - loss: 0.6409 - accuracy: 0.6647 - auc_10: 0.7007 - precision_10: 0.6667 - recall_10: 0.6173 - f1_score: 0.6532 - val_loss: 0.6831 - val_accuracy: 0.5538 - val_auc_10: 0.5792 - val_precision_10: 0.5495 - val_recall_10: 0.4959 - val_f1_score: 0.6578 - 1s/epoch - 85ms/step\n",
      "Epoch 25/50\n",
      "16/16 - 1s - loss: 0.6395 - accuracy: 0.6607 - auc_10: 0.6993 - precision_10: 0.6652 - recall_10: 0.6049 - f1_score: 0.6532 - val_loss: 0.6833 - val_accuracy: 0.5697 - val_auc_10: 0.5797 - val_precision_10: 0.5714 - val_recall_10: 0.4878 - val_f1_score: 0.6578 - 1s/epoch - 81ms/step\n",
      "Epoch 26/50\n",
      "16/16 - 1s - loss: 0.6407 - accuracy: 0.6587 - auc_10: 0.6926 - precision_10: 0.6593 - recall_10: 0.6132 - f1_score: 0.6532 - val_loss: 0.6847 - val_accuracy: 0.5737 - val_auc_10: 0.5701 - val_precision_10: 0.5755 - val_recall_10: 0.4959 - val_f1_score: 0.6578 - 1s/epoch - 80ms/step\n",
      "Epoch 27/50\n",
      "16/16 - 1s - loss: 0.6380 - accuracy: 0.6607 - auc_10: 0.7006 - precision_10: 0.6652 - recall_10: 0.6049 - f1_score: 0.6532 - val_loss: 0.6843 - val_accuracy: 0.5737 - val_auc_10: 0.5787 - val_precision_10: 0.5727 - val_recall_10: 0.5122 - val_f1_score: 0.6578 - 1s/epoch - 86ms/step\n",
      "Epoch 28/50\n",
      "16/16 - 1s - loss: 0.6363 - accuracy: 0.6627 - auc_10: 0.7022 - precision_10: 0.6652 - recall_10: 0.6132 - f1_score: 0.6532 - val_loss: 0.6843 - val_accuracy: 0.5697 - val_auc_10: 0.5769 - val_precision_10: 0.5688 - val_recall_10: 0.5041 - val_f1_score: 0.6578 - 1s/epoch - 83ms/step\n",
      "Epoch 29/50\n",
      "16/16 - 1s - loss: 0.6361 - accuracy: 0.6627 - auc_10: 0.7015 - precision_10: 0.6637 - recall_10: 0.6173 - f1_score: 0.6532 - val_loss: 0.6851 - val_accuracy: 0.5737 - val_auc_10: 0.5736 - val_precision_10: 0.5755 - val_recall_10: 0.4959 - val_f1_score: 0.6578 - 1s/epoch - 80ms/step\n",
      "Epoch 30/50\n",
      "16/16 - 1s - loss: 0.6359 - accuracy: 0.6647 - auc_10: 0.7014 - precision_10: 0.6712 - recall_10: 0.6049 - f1_score: 0.6532 - val_loss: 0.6833 - val_accuracy: 0.5737 - val_auc_10: 0.5799 - val_precision_10: 0.5769 - val_recall_10: 0.4878 - val_f1_score: 0.6578 - 1s/epoch - 84ms/step\n",
      "Epoch 31/50\n",
      "16/16 - 1s - loss: 0.6335 - accuracy: 0.6667 - auc_10: 0.7044 - precision_10: 0.6712 - recall_10: 0.6132 - f1_score: 0.6532 - val_loss: 0.6831 - val_accuracy: 0.5737 - val_auc_10: 0.5835 - val_precision_10: 0.5741 - val_recall_10: 0.5041 - val_f1_score: 0.6578 - 1s/epoch - 84ms/step\n",
      "Epoch 32/50\n",
      "16/16 - 1s - loss: 0.6327 - accuracy: 0.6667 - auc_10: 0.7055 - precision_10: 0.6712 - recall_10: 0.6132 - f1_score: 0.6532 - val_loss: 0.6831 - val_accuracy: 0.5618 - val_auc_10: 0.5834 - val_precision_10: 0.5586 - val_recall_10: 0.5041 - val_f1_score: 0.6578 - 1s/epoch - 81ms/step\n",
      "Epoch 33/50\n",
      "16/16 - 1s - loss: 0.6309 - accuracy: 0.6707 - auc_10: 0.7104 - precision_10: 0.6757 - recall_10: 0.6173 - f1_score: 0.6532 - val_loss: 0.6836 - val_accuracy: 0.5777 - val_auc_10: 0.5824 - val_precision_10: 0.5794 - val_recall_10: 0.5041 - val_f1_score: 0.6578 - 1s/epoch - 81ms/step\n",
      "Epoch 34/50\n",
      "16/16 - 1s - loss: 0.6304 - accuracy: 0.6687 - auc_10: 0.7083 - precision_10: 0.6726 - recall_10: 0.6173 - f1_score: 0.6532 - val_loss: 0.6830 - val_accuracy: 0.5737 - val_auc_10: 0.5892 - val_precision_10: 0.5741 - val_recall_10: 0.5041 - val_f1_score: 0.6578 - 1s/epoch - 85ms/step\n",
      "Epoch 35/50\n",
      "16/16 - 1s - loss: 0.6295 - accuracy: 0.6647 - auc_10: 0.7060 - precision_10: 0.6667 - recall_10: 0.6173 - f1_score: 0.6532 - val_loss: 0.6815 - val_accuracy: 0.5737 - val_auc_10: 0.5875 - val_precision_10: 0.5741 - val_recall_10: 0.5041 - val_f1_score: 0.6578 - 1s/epoch - 82ms/step\n",
      "Epoch 36/50\n",
      "16/16 - 1s - loss: 0.6292 - accuracy: 0.6687 - auc_10: 0.7074 - precision_10: 0.6742 - recall_10: 0.6132 - f1_score: 0.6532 - val_loss: 0.6814 - val_accuracy: 0.5737 - val_auc_10: 0.5934 - val_precision_10: 0.5741 - val_recall_10: 0.5041 - val_f1_score: 0.6578 - 1s/epoch - 79ms/step\n",
      "Epoch 37/50\n",
      "16/16 - 1s - loss: 0.6297 - accuracy: 0.6667 - auc_10: 0.7060 - precision_10: 0.6743 - recall_10: 0.6049 - f1_score: 0.6532 - val_loss: 0.6831 - val_accuracy: 0.5697 - val_auc_10: 0.5867 - val_precision_10: 0.5701 - val_recall_10: 0.4959 - val_f1_score: 0.6578 - 1s/epoch - 84ms/step\n",
      "Epoch 38/50\n",
      "16/16 - 1s - loss: 0.6287 - accuracy: 0.6627 - auc_10: 0.7079 - precision_10: 0.6652 - recall_10: 0.6132 - f1_score: 0.6532 - val_loss: 0.6842 - val_accuracy: 0.5777 - val_auc_10: 0.5850 - val_precision_10: 0.5794 - val_recall_10: 0.5041 - val_f1_score: 0.6578 - 1s/epoch - 83ms/step\n",
      "Epoch 39/50\n",
      "16/16 - 1s - loss: 0.6257 - accuracy: 0.6647 - auc_10: 0.7128 - precision_10: 0.6667 - recall_10: 0.6173 - f1_score: 0.6532 - val_loss: 0.6830 - val_accuracy: 0.5657 - val_auc_10: 0.5923 - val_precision_10: 0.5648 - val_recall_10: 0.4959 - val_f1_score: 0.6578 - 1s/epoch - 82ms/step\n",
      "Epoch 40/50\n",
      "16/16 - 1s - loss: 0.6269 - accuracy: 0.6727 - auc_10: 0.7066 - precision_10: 0.6804 - recall_10: 0.6132 - f1_score: 0.6532 - val_loss: 0.6826 - val_accuracy: 0.5737 - val_auc_10: 0.5870 - val_precision_10: 0.5769 - val_recall_10: 0.4878 - val_f1_score: 0.6578 - 1s/epoch - 82ms/step\n",
      "Epoch 41/50\n",
      "16/16 - 1s - loss: 0.6273 - accuracy: 0.6747 - auc_10: 0.7077 - precision_10: 0.6852 - recall_10: 0.6091 - f1_score: 0.6532 - val_loss: 0.6816 - val_accuracy: 0.5777 - val_auc_10: 0.5956 - val_precision_10: 0.5810 - val_recall_10: 0.4959 - val_f1_score: 0.6578 - 1s/epoch - 82ms/step\n",
      "Epoch 42/50\n",
      "16/16 - 1s - loss: 0.6267 - accuracy: 0.6727 - auc_10: 0.7039 - precision_10: 0.6820 - recall_10: 0.6091 - f1_score: 0.6532 - val_loss: 0.6821 - val_accuracy: 0.5657 - val_auc_10: 0.5948 - val_precision_10: 0.5673 - val_recall_10: 0.4797 - val_f1_score: 0.6578 - 1s/epoch - 83ms/step\n",
      "Epoch 43/50\n",
      "16/16 - 1s - loss: 0.6265 - accuracy: 0.6747 - auc_10: 0.7040 - precision_10: 0.6852 - recall_10: 0.6091 - f1_score: 0.6532 - val_loss: 0.6838 - val_accuracy: 0.5657 - val_auc_10: 0.5887 - val_precision_10: 0.5660 - val_recall_10: 0.4878 - val_f1_score: 0.6578 - 1s/epoch - 81ms/step\n",
      "Epoch 44/50\n",
      "16/16 - 1s - loss: 0.6247 - accuracy: 0.6747 - auc_10: 0.7094 - precision_10: 0.6835 - recall_10: 0.6132 - f1_score: 0.6532 - val_loss: 0.6842 - val_accuracy: 0.5697 - val_auc_10: 0.5901 - val_precision_10: 0.5714 - val_recall_10: 0.4878 - val_f1_score: 0.6578 - 1s/epoch - 83ms/step\n",
      "Epoch 45/50\n",
      "16/16 - 1s - loss: 0.6255 - accuracy: 0.6667 - auc_10: 0.7087 - precision_10: 0.6727 - recall_10: 0.6091 - f1_score: 0.6532 - val_loss: 0.6835 - val_accuracy: 0.5817 - val_auc_10: 0.5938 - val_precision_10: 0.5833 - val_recall_10: 0.5122 - val_f1_score: 0.6578 - 1s/epoch - 82ms/step\n",
      "Epoch 46/50\n",
      "16/16 - 1s - loss: 0.6265 - accuracy: 0.6547 - auc_10: 0.7002 - precision_10: 0.6522 - recall_10: 0.6173 - f1_score: 0.6532 - val_loss: 0.6853 - val_accuracy: 0.5777 - val_auc_10: 0.5881 - val_precision_10: 0.5810 - val_recall_10: 0.4959 - val_f1_score: 0.6578 - 1s/epoch - 84ms/step\n",
      "Epoch 47/50\n",
      "16/16 - 1s - loss: 0.6256 - accuracy: 0.6607 - auc_10: 0.6992 - precision_10: 0.6622 - recall_10: 0.6132 - f1_score: 0.6532 - val_loss: 0.6812 - val_accuracy: 0.5817 - val_auc_10: 0.6011 - val_precision_10: 0.5849 - val_recall_10: 0.5041 - val_f1_score: 0.6578 - 1s/epoch - 83ms/step\n",
      "Epoch 48/50\n",
      "16/16 - 1s - loss: 0.6249 - accuracy: 0.6587 - auc_10: 0.7055 - precision_10: 0.6538 - recall_10: 0.6296 - f1_score: 0.6532 - val_loss: 0.6802 - val_accuracy: 0.5817 - val_auc_10: 0.6053 - val_precision_10: 0.5849 - val_recall_10: 0.5041 - val_f1_score: 0.6578 - 1s/epoch - 80ms/step\n",
      "Epoch 49/50\n",
      "16/16 - 1s - loss: 0.6236 - accuracy: 0.6587 - auc_10: 0.7111 - precision_10: 0.6552 - recall_10: 0.6255 - f1_score: 0.6532 - val_loss: 0.6850 - val_accuracy: 0.5777 - val_auc_10: 0.5942 - val_precision_10: 0.5794 - val_recall_10: 0.5041 - val_f1_score: 0.6578 - 1s/epoch - 83ms/step\n",
      "Epoch 50/50\n",
      "16/16 - 1s - loss: 0.6230 - accuracy: 0.6627 - auc_10: 0.7071 - precision_10: 0.6623 - recall_10: 0.6214 - f1_score: 0.6532 - val_loss: 0.6864 - val_accuracy: 0.5857 - val_auc_10: 0.5890 - val_precision_10: 0.5905 - val_recall_10: 0.5041 - val_f1_score: 0.6578 - 1s/epoch - 85ms/step\n"
     ]
    },
    {
     "data": {
      "image/png": "[encoded data removed]",
      "text/plain": [
       "<Figure size 432x288 with 1 Axes>"
      ]
     },
     "metadata": {
      "needs_background": "light"
     },
     "output_type": "display_data"
    },
    {
     "name": "stdout",
     "output_type": "stream",
     "text": [
      "Epoch 1/50\n",
      "16/16 - 3s - loss: 0.6847 - accuracy: 0.5359 - auc_11: 0.5854 - precision_11: 0.5368 - recall_11: 0.4130 - f1_score: 0.6595 - val_loss: 0.6870 - val_accuracy: 0.5640 - val_auc_11: 0.5842 - val_precision_11: 0.5610 - val_recall_11: 0.3866 - val_f1_score: 0.6450 - 3s/epoch - 212ms/step\n",
      "Epoch 2/50\n",
      "16/16 - 1s - loss: 0.6804 - accuracy: 0.5598 - auc_11: 0.6148 - precision_11: 0.5739 - recall_11: 0.4089 - f1_score: 0.6595 - val_loss: 0.6862 - val_accuracy: 0.5880 - val_auc_11: 0.5958 - val_precision_11: 0.6081 - val_recall_11: 0.3782 - val_f1_score: 0.6450 - 1s/epoch - 80ms/step\n",
      "Epoch 3/50\n",
      "16/16 - 1s - loss: 0.6775 - accuracy: 0.5876 - auc_11: 0.6302 - precision_11: 0.6190 - recall_11: 0.4211 - f1_score: 0.6595 - val_loss: 0.6809 - val_accuracy: 0.5760 - val_auc_11: 0.6142 - val_precision_11: 0.5844 - val_recall_11: 0.3782 - val_f1_score: 0.6450 - 1s/epoch - 82ms/step\n",
      "Epoch 4/50\n",
      "16/16 - 1s - loss: 0.6756 - accuracy: 0.6016 - auc_11: 0.6391 - precision_11: 0.6328 - recall_11: 0.4534 - f1_score: 0.6595 - val_loss: 0.6806 - val_accuracy: 0.5880 - val_auc_11: 0.6203 - val_precision_11: 0.6053 - val_recall_11: 0.3866 - val_f1_score: 0.6450 - 1s/epoch - 79ms/step\n",
      "Epoch 5/50\n",
      "16/16 - 1s - loss: 0.6745 - accuracy: 0.6036 - auc_11: 0.6454 - precision_11: 0.6290 - recall_11: 0.4737 - f1_score: 0.6595 - val_loss: 0.6809 - val_accuracy: 0.5880 - val_auc_11: 0.6116 - val_precision_11: 0.6000 - val_recall_11: 0.4034 - val_f1_score: 0.6450 - 1s/epoch - 80ms/step\n",
      "Epoch 6/50\n",
      "16/16 - 1s - loss: 0.6729 - accuracy: 0.6036 - auc_11: 0.6469 - precision_11: 0.6263 - recall_11: 0.4818 - f1_score: 0.6595 - val_loss: 0.6785 - val_accuracy: 0.5920 - val_auc_11: 0.6223 - val_precision_11: 0.6049 - val_recall_11: 0.4118 - val_f1_score: 0.6450 - 1s/epoch - 82ms/step\n",
      "Epoch 7/50\n",
      "16/16 - 1s - loss: 0.6713 - accuracy: 0.6116 - auc_11: 0.6521 - precision_11: 0.6327 - recall_11: 0.5020 - f1_score: 0.6595 - val_loss: 0.6800 - val_accuracy: 0.5880 - val_auc_11: 0.6152 - val_precision_11: 0.6026 - val_recall_11: 0.3950 - val_f1_score: 0.6450 - 1s/epoch - 85ms/step\n",
      "Epoch 8/50\n",
      "16/16 - 1s - loss: 0.6696 - accuracy: 0.6215 - auc_11: 0.6566 - precision_11: 0.6418 - recall_11: 0.5223 - f1_score: 0.6595 - val_loss: 0.6778 - val_accuracy: 0.5760 - val_auc_11: 0.6250 - val_precision_11: 0.5783 - val_recall_11: 0.4034 - val_f1_score: 0.6450 - 1s/epoch - 79ms/step\n",
      "Epoch 9/50\n",
      "16/16 - 1s - loss: 0.6661 - accuracy: 0.6155 - auc_11: 0.6631 - precision_11: 0.6364 - recall_11: 0.5101 - f1_score: 0.6595 - val_loss: 0.6744 - val_accuracy: 0.6000 - val_auc_11: 0.6416 - val_precision_11: 0.6118 - val_recall_11: 0.4370 - val_f1_score: 0.6450 - 1s/epoch - 81ms/step\n",
      "Epoch 10/50\n",
      "16/16 - 1s - loss: 0.6627 - accuracy: 0.6275 - auc_11: 0.6756 - precision_11: 0.6456 - recall_11: 0.5385 - f1_score: 0.6595 - val_loss: 0.6726 - val_accuracy: 0.6360 - val_auc_11: 0.6495 - val_precision_11: 0.6522 - val_recall_11: 0.5042 - val_f1_score: 0.6450 - 1s/epoch - 85ms/step\n",
      "Epoch 11/50\n",
      "16/16 - 1s - loss: 0.6609 - accuracy: 0.6335 - auc_11: 0.6790 - precision_11: 0.6465 - recall_11: 0.5628 - f1_score: 0.6595 - val_loss: 0.6700 - val_accuracy: 0.6320 - val_auc_11: 0.6549 - val_precision_11: 0.6421 - val_recall_11: 0.5126 - val_f1_score: 0.6450 - 1s/epoch - 81ms/step\n",
      "Epoch 12/50\n",
      "16/16 - 1s - loss: 0.6595 - accuracy: 0.6275 - auc_11: 0.6765 - precision_11: 0.6389 - recall_11: 0.5587 - f1_score: 0.6595 - val_loss: 0.6714 - val_accuracy: 0.6280 - val_auc_11: 0.6469 - val_precision_11: 0.6413 - val_recall_11: 0.4958 - val_f1_score: 0.6450 - 1s/epoch - 79ms/step\n",
      "Epoch 13/50\n",
      "16/16 - 2s - loss: 0.6571 - accuracy: 0.6454 - auc_11: 0.6852 - precision_11: 0.6667 - recall_11: 0.5587 - f1_score: 0.6595 - val_loss: 0.6701 - val_accuracy: 0.6200 - val_auc_11: 0.6486 - val_precision_11: 0.6364 - val_recall_11: 0.4706 - val_f1_score: 0.6450 - 2s/epoch - 97ms/step\n",
      "Epoch 14/50\n",
      "16/16 - 2s - loss: 0.6561 - accuracy: 0.6355 - auc_11: 0.6862 - precision_11: 0.6455 - recall_11: 0.5749 - f1_score: 0.6595 - val_loss: 0.6694 - val_accuracy: 0.6040 - val_auc_11: 0.6491 - val_precision_11: 0.6042 - val_recall_11: 0.4874 - val_f1_score: 0.6450 - 2s/epoch - 105ms/step\n",
      "Epoch 15/50\n",
      "16/16 - 1s - loss: 0.6550 - accuracy: 0.6255 - auc_11: 0.6790 - precision_11: 0.6175 - recall_11: 0.6275 - f1_score: 0.6595 - val_loss: 0.6708 - val_accuracy: 0.5880 - val_auc_11: 0.6368 - val_precision_11: 0.5678 - val_recall_11: 0.5630 - val_f1_score: 0.6450 - 1s/epoch - 90ms/step\n",
      "Epoch 16/50\n",
      "16/16 - 2s - loss: 0.6521 - accuracy: 0.6315 - auc_11: 0.6877 - precision_11: 0.6202 - recall_11: 0.6478 - f1_score: 0.6595 - val_loss: 0.6661 - val_accuracy: 0.6080 - val_auc_11: 0.6530 - val_precision_11: 0.6019 - val_recall_11: 0.5210 - val_f1_score: 0.6450 - 2s/epoch - 102ms/step\n",
      "Epoch 17/50\n",
      "16/16 - 2s - loss: 0.6525 - accuracy: 0.6275 - auc_11: 0.6830 - precision_11: 0.6240 - recall_11: 0.6113 - f1_score: 0.6595 - val_loss: 0.6612 - val_accuracy: 0.6160 - val_auc_11: 0.6764 - val_precision_11: 0.6162 - val_recall_11: 0.5126 - val_f1_score: 0.6450 - 2s/epoch - 99ms/step\n",
      "Epoch 18/50\n",
      "16/16 - 2s - loss: 0.6512 - accuracy: 0.6295 - auc_11: 0.6897 - precision_11: 0.6309 - recall_11: 0.5951 - f1_score: 0.6595 - val_loss: 0.6622 - val_accuracy: 0.5960 - val_auc_11: 0.6653 - val_precision_11: 0.5978 - val_recall_11: 0.4622 - val_f1_score: 0.6450 - 2s/epoch - 103ms/step\n",
      "Epoch 19/50\n",
      "16/16 - 2s - loss: 0.6519 - accuracy: 0.6355 - auc_11: 0.6873 - precision_11: 0.6404 - recall_11: 0.5911 - f1_score: 0.6595 - val_loss: 0.6633 - val_accuracy: 0.5880 - val_auc_11: 0.6507 - val_precision_11: 0.5833 - val_recall_11: 0.4706 - val_f1_score: 0.6450 - 2s/epoch - 103ms/step\n",
      "Epoch 20/50\n",
      "16/16 - 2s - loss: 0.6495 - accuracy: 0.6394 - auc_11: 0.6914 - precision_11: 0.6364 - recall_11: 0.6235 - f1_score: 0.6595 - val_loss: 0.6633 - val_accuracy: 0.5760 - val_auc_11: 0.6556 - val_precision_11: 0.5684 - val_recall_11: 0.4538 - val_f1_score: 0.6450 - 2s/epoch - 110ms/step\n",
      "Epoch 21/50\n",
      "16/16 - 2s - loss: 0.6472 - accuracy: 0.6394 - auc_11: 0.6981 - precision_11: 0.6341 - recall_11: 0.6316 - f1_score: 0.6595 - val_loss: 0.6621 - val_accuracy: 0.5960 - val_auc_11: 0.6566 - val_precision_11: 0.5882 - val_recall_11: 0.5042 - val_f1_score: 0.6450 - 2s/epoch - 108ms/step\n",
      "Epoch 22/50\n",
      "16/16 - 2s - loss: 0.6469 - accuracy: 0.6275 - auc_11: 0.6937 - precision_11: 0.6172 - recall_11: 0.6397 - f1_score: 0.6595 - val_loss: 0.6600 - val_accuracy: 0.6280 - val_auc_11: 0.6643 - val_precision_11: 0.6121 - val_recall_11: 0.5966 - val_f1_score: 0.6450 - 2s/epoch - 101ms/step\n",
      "Epoch 23/50\n",
      "16/16 - 1s - loss: 0.6440 - accuracy: 0.6474 - auc_11: 0.7027 - precision_11: 0.6378 - recall_11: 0.6559 - f1_score: 0.6595 - val_loss: 0.6583 - val_accuracy: 0.6280 - val_auc_11: 0.6660 - val_precision_11: 0.6204 - val_recall_11: 0.5630 - val_f1_score: 0.6450 - 1s/epoch - 91ms/step\n",
      "Epoch 24/50\n",
      "16/16 - 1s - loss: 0.6422 - accuracy: 0.6414 - auc_11: 0.7029 - precision_11: 0.6293 - recall_11: 0.6599 - f1_score: 0.6595 - val_loss: 0.6556 - val_accuracy: 0.6240 - val_auc_11: 0.6731 - val_precision_11: 0.6106 - val_recall_11: 0.5798 - val_f1_score: 0.6450 - 1s/epoch - 84ms/step\n",
      "Epoch 25/50\n",
      "16/16 - 1s - loss: 0.6406 - accuracy: 0.6474 - auc_11: 0.7059 - precision_11: 0.6306 - recall_11: 0.6842 - f1_score: 0.6595 - val_loss: 0.6560 - val_accuracy: 0.6320 - val_auc_11: 0.6718 - val_precision_11: 0.6195 - val_recall_11: 0.5882 - val_f1_score: 0.6450 - 1s/epoch - 86ms/step\n",
      "Epoch 26/50\n",
      "16/16 - 1s - loss: 0.6405 - accuracy: 0.6454 - auc_11: 0.7052 - precision_11: 0.6386 - recall_11: 0.6437 - f1_score: 0.6595 - val_loss: 0.6568 - val_accuracy: 0.6280 - val_auc_11: 0.6667 - val_precision_11: 0.6204 - val_recall_11: 0.5630 - val_f1_score: 0.6450 - 1s/epoch - 91ms/step\n",
      "Epoch 27/50\n",
      "16/16 - 2s - loss: 0.6391 - accuracy: 0.6355 - auc_11: 0.7053 - precision_11: 0.6194 - recall_11: 0.6721 - f1_score: 0.6595 - val_loss: 0.6564 - val_accuracy: 0.6320 - val_auc_11: 0.6644 - val_precision_11: 0.6116 - val_recall_11: 0.6218 - val_f1_score: 0.6450 - 2s/epoch - 95ms/step\n",
      "Epoch 28/50\n",
      "16/16 - 1s - loss: 0.6373 - accuracy: 0.6474 - auc_11: 0.7115 - precision_11: 0.6296 - recall_11: 0.6883 - f1_score: 0.6595 - val_loss: 0.6549 - val_accuracy: 0.6240 - val_auc_11: 0.6704 - val_precision_11: 0.6050 - val_recall_11: 0.6050 - val_f1_score: 0.6450 - 1s/epoch - 85ms/step\n",
      "Epoch 29/50\n",
      "16/16 - 1s - loss: 0.6365 - accuracy: 0.6454 - auc_11: 0.7096 - precision_11: 0.6312 - recall_11: 0.6721 - f1_score: 0.6595 - val_loss: 0.6536 - val_accuracy: 0.6280 - val_auc_11: 0.6720 - val_precision_11: 0.6102 - val_recall_11: 0.6050 - val_f1_score: 0.6450 - 1s/epoch - 87ms/step\n",
      "Epoch 30/50\n",
      "16/16 - 1s - loss: 0.6354 - accuracy: 0.6454 - auc_11: 0.7102 - precision_11: 0.6332 - recall_11: 0.6640 - f1_score: 0.6595 - val_loss: 0.6541 - val_accuracy: 0.6280 - val_auc_11: 0.6687 - val_precision_11: 0.6140 - val_recall_11: 0.5882 - val_f1_score: 0.6450 - 1s/epoch - 91ms/step\n",
      "Epoch 31/50\n",
      "16/16 - 2s - loss: 0.6344 - accuracy: 0.6574 - auc_11: 0.7135 - precision_11: 0.6404 - recall_11: 0.6923 - f1_score: 0.6595 - val_loss: 0.6533 - val_accuracy: 0.6280 - val_auc_11: 0.6722 - val_precision_11: 0.6066 - val_recall_11: 0.6218 - val_f1_score: 0.6450 - 2s/epoch - 105ms/step\n",
      "Epoch 32/50\n",
      "16/16 - 2s - loss: 0.6326 - accuracy: 0.6534 - auc_11: 0.7157 - precision_11: 0.6357 - recall_11: 0.6923 - f1_score: 0.6595 - val_loss: 0.6511 - val_accuracy: 0.6280 - val_auc_11: 0.6770 - val_precision_11: 0.6182 - val_recall_11: 0.5714 - val_f1_score: 0.6450 - 2s/epoch - 107ms/step\n",
      "Epoch 33/50\n",
      "16/16 - 1s - loss: 0.6306 - accuracy: 0.6494 - auc_11: 0.7193 - precision_11: 0.6449 - recall_11: 0.6397 - f1_score: 0.6595 - val_loss: 0.6504 - val_accuracy: 0.6400 - val_auc_11: 0.6773 - val_precision_11: 0.6239 - val_recall_11: 0.6134 - val_f1_score: 0.6450 - 1s/epoch - 91ms/step\n",
      "Epoch 34/50\n",
      "16/16 - 1s - loss: 0.6309 - accuracy: 0.6614 - auc_11: 0.7178 - precision_11: 0.6421 - recall_11: 0.7045 - f1_score: 0.6595 - val_loss: 0.6517 - val_accuracy: 0.6320 - val_auc_11: 0.6721 - val_precision_11: 0.6134 - val_recall_11: 0.6134 - val_f1_score: 0.6450 - 1s/epoch - 81ms/step\n",
      "Epoch 35/50\n",
      "16/16 - 1s - loss: 0.6295 - accuracy: 0.6574 - auc_11: 0.7183 - precision_11: 0.6426 - recall_11: 0.6842 - f1_score: 0.6595 - val_loss: 0.6499 - val_accuracy: 0.6520 - val_auc_11: 0.6765 - val_precision_11: 0.6379 - val_recall_11: 0.6218 - val_f1_score: 0.6450 - 1s/epoch - 83ms/step\n",
      "Epoch 36/50\n",
      "16/16 - 1s - loss: 0.6285 - accuracy: 0.6355 - auc_11: 0.7214 - precision_11: 0.6260 - recall_11: 0.6437 - f1_score: 0.6595 - val_loss: 0.6529 - val_accuracy: 0.6320 - val_auc_11: 0.6661 - val_precision_11: 0.6154 - val_recall_11: 0.6050 - val_f1_score: 0.6450 - 1s/epoch - 80ms/step\n",
      "Epoch 37/50\n",
      "16/16 - 1s - loss: 0.6283 - accuracy: 0.6514 - auc_11: 0.7203 - precision_11: 0.6364 - recall_11: 0.6802 - f1_score: 0.6595 - val_loss: 0.6498 - val_accuracy: 0.6360 - val_auc_11: 0.6735 - val_precision_11: 0.6186 - val_recall_11: 0.6134 - val_f1_score: 0.6450 - 1s/epoch - 80ms/step\n",
      "Epoch 38/50\n",
      "16/16 - 1s - loss: 0.6264 - accuracy: 0.6474 - auc_11: 0.7231 - precision_11: 0.6367 - recall_11: 0.6599 - f1_score: 0.6595 - val_loss: 0.6497 - val_accuracy: 0.6400 - val_auc_11: 0.6757 - val_precision_11: 0.6218 - val_recall_11: 0.6218 - val_f1_score: 0.6450 - 1s/epoch - 83ms/step\n",
      "Epoch 39/50\n",
      "16/16 - 1s - loss: 0.6261 - accuracy: 0.6633 - auc_11: 0.7223 - precision_11: 0.6413 - recall_11: 0.7166 - f1_score: 0.6595 - val_loss: 0.6517 - val_accuracy: 0.6320 - val_auc_11: 0.6663 - val_precision_11: 0.6116 - val_recall_11: 0.6218 - val_f1_score: 0.6450 - 1s/epoch - 81ms/step\n",
      "Epoch 40/50\n",
      "16/16 - 1s - loss: 0.6253 - accuracy: 0.6514 - auc_11: 0.7244 - precision_11: 0.6385 - recall_11: 0.6721 - f1_score: 0.6595 - val_loss: 0.6487 - val_accuracy: 0.6400 - val_auc_11: 0.6751 - val_precision_11: 0.6239 - val_recall_11: 0.6134 - val_f1_score: 0.6450 - 1s/epoch - 83ms/step\n",
      "Epoch 41/50\n",
      "16/16 - 1s - loss: 0.6247 - accuracy: 0.6554 - auc_11: 0.7243 - precision_11: 0.6412 - recall_11: 0.6802 - f1_score: 0.6595 - val_loss: 0.6496 - val_accuracy: 0.6240 - val_auc_11: 0.6711 - val_precision_11: 0.6050 - val_recall_11: 0.6050 - val_f1_score: 0.6450 - 1s/epoch - 80ms/step\n",
      "Epoch 42/50\n",
      "16/16 - 1s - loss: 0.6229 - accuracy: 0.6554 - auc_11: 0.7271 - precision_11: 0.6391 - recall_11: 0.6883 - f1_score: 0.6595 - val_loss: 0.6496 - val_accuracy: 0.6320 - val_auc_11: 0.6721 - val_precision_11: 0.6116 - val_recall_11: 0.6218 - val_f1_score: 0.6450 - 1s/epoch - 80ms/step\n",
      "Epoch 43/50\n",
      "16/16 - 1s - loss: 0.6232 - accuracy: 0.6614 - auc_11: 0.7245 - precision_11: 0.6464 - recall_11: 0.6883 - f1_score: 0.6595 - val_loss: 0.6480 - val_accuracy: 0.6440 - val_auc_11: 0.6752 - val_precision_11: 0.6250 - val_recall_11: 0.6303 - val_f1_score: 0.6450 - 1s/epoch - 83ms/step\n",
      "Epoch 44/50\n",
      "16/16 - 1s - loss: 0.6227 - accuracy: 0.6554 - auc_11: 0.7243 - precision_11: 0.6412 - recall_11: 0.6802 - f1_score: 0.6595 - val_loss: 0.6490 - val_accuracy: 0.6400 - val_auc_11: 0.6692 - val_precision_11: 0.6218 - val_recall_11: 0.6218 - val_f1_score: 0.6450 - 1s/epoch - 84ms/step\n",
      "Epoch 45/50\n",
      "16/16 - 1s - loss: 0.6222 - accuracy: 0.6514 - auc_11: 0.7251 - precision_11: 0.6395 - recall_11: 0.6680 - f1_score: 0.6595 - val_loss: 0.6506 - val_accuracy: 0.6440 - val_auc_11: 0.6651 - val_precision_11: 0.6271 - val_recall_11: 0.6218 - val_f1_score: 0.6450 - 1s/epoch - 84ms/step\n",
      "Epoch 46/50\n",
      "16/16 - 1s - loss: 0.6216 - accuracy: 0.6594 - auc_11: 0.7244 - precision_11: 0.6462 - recall_11: 0.6802 - f1_score: 0.6595 - val_loss: 0.6502 - val_accuracy: 0.6400 - val_auc_11: 0.6668 - val_precision_11: 0.6160 - val_recall_11: 0.6471 - val_f1_score: 0.6450 - 1s/epoch - 86ms/step\n",
      "Epoch 47/50\n",
      "16/16 - 1s - loss: 0.6228 - accuracy: 0.6434 - auc_11: 0.7204 - precision_11: 0.6393 - recall_11: 0.6316 - f1_score: 0.6595 - val_loss: 0.6496 - val_accuracy: 0.6400 - val_auc_11: 0.6699 - val_precision_11: 0.6355 - val_recall_11: 0.5714 - val_f1_score: 0.6450 - 1s/epoch - 84ms/step\n",
      "Epoch 48/50\n",
      "16/16 - 1s - loss: 0.6208 - accuracy: 0.6514 - auc_11: 0.7247 - precision_11: 0.6417 - recall_11: 0.6599 - f1_score: 0.6595 - val_loss: 0.6500 - val_accuracy: 0.6360 - val_auc_11: 0.6657 - val_precision_11: 0.6129 - val_recall_11: 0.6387 - val_f1_score: 0.6450 - 1s/epoch - 84ms/step\n",
      "Epoch 49/50\n",
      "16/16 - 1s - loss: 0.6195 - accuracy: 0.6554 - auc_11: 0.7255 - precision_11: 0.6434 - recall_11: 0.6721 - f1_score: 0.6595 - val_loss: 0.6502 - val_accuracy: 0.6320 - val_auc_11: 0.6658 - val_precision_11: 0.6195 - val_recall_11: 0.5882 - val_f1_score: 0.6450 - 1s/epoch - 83ms/step\n",
      "Epoch 50/50\n",
      "16/16 - 1s - loss: 0.6183 - accuracy: 0.6554 - auc_11: 0.7293 - precision_11: 0.6457 - recall_11: 0.6640 - f1_score: 0.6595 - val_loss: 0.6483 - val_accuracy: 0.6360 - val_auc_11: 0.6692 - val_precision_11: 0.6207 - val_recall_11: 0.6050 - val_f1_score: 0.6450 - 1s/epoch - 81ms/step\n"
     ]
    },
    {
     "data": {
      "image/png": "[encoded data removed]",
      "text/plain": [
       "<Figure size 432x288 with 1 Axes>"
      ]
     },
     "metadata": {
      "needs_background": "light"
     },
     "output_type": "display_data"
    }
   ],
   "source": [
    "for train_index, val_index in kf.split(X):\n",
    "    X_train, X_val = X[train_index], X[val_index]\n",
    "    y_train, y_val = y[train_index], y[val_index]\n",
    "    baseline_early_model = Baseline(n_features, n_length, n_outputs)\n",
    "    history = baseline_early_model.train(X_train, y_train, X_val, y_val, epochs, batch_size)\n",
    "    plt.plot(history.history['loss'])\n",
    "    plt.show()"
   ]
  },
  {
   "cell_type": "markdown",
   "metadata": {},
   "source": [
    "#### Prediction on the holdout set"
   ]
  },
  {
   "cell_type": "code",
   "execution_count": 15,
   "metadata": {},
   "outputs": [
    {
     "name": "stdout",
     "output_type": "stream",
     "text": [
      "Accuracy: 63.06% \n",
      "ROC/AUC: 0.70 \n",
      "Precision: 0.93 \n",
      "Recall: 0.61 \n",
      "F1 score: 0.93\n"
     ]
    }
   ],
   "source": [
    "y_pred = baseline_early_model.predict(X_test)\n",
    "_, acc, auc, precision, recall, f1 = baseline_early_model.evaluate(X_test, y_test)\n",
    "results.append(round(auc, 2))\n",
    "print('Accuracy: {:.2f}% \\nROC/AUC: {:.2f} \\nPrecision: {:.2f} \\nRecall: {:.2f} \\nF1 score: {:.2f}'.format(acc * 100, auc, precision, recall, f1))"
   ]
  },
  {
   "cell_type": "markdown",
   "metadata": {},
   "source": [
    "## 4. Multimodal Late Fusion"
   ]
  },
  {
   "cell_type": "markdown",
   "metadata": {},
   "source": [
    "### Dataset"
   ]
  },
  {
   "cell_type": "code",
   "execution_count": 16,
   "metadata": {},
   "outputs": [
    {
     "name": "stdout",
     "output_type": "stream",
     "text": [
      "(752, 350, 35) (752, 1)\n",
      "(268, 350, 35) (268, 1)\n"
     ]
    }
   ],
   "source": [
    "body_X_train, body_X_test, body_y_train, body_y_test = load_dataset('skeleton', binary=True, fusion=True)\n",
    "body_X_train = body_X_train.reshape(body_X_train.shape[0], body_X_train.shape[2], body_X_train.shape[3])\n",
    "body_X_test = body_X_test.reshape(body_X_test.shape[0], body_X_test.shape[2], body_X_test.shape[3])\n",
    "body_X = body_X_train.copy()\n",
    "body_y = body_y_train.copy()\n",
    "\n",
    "print(body_X_train.shape, body_y_train.shape)\n",
    "print(body_X_test.shape, body_y_test.shape)"
   ]
  },
  {
   "cell_type": "code",
   "execution_count": 17,
   "metadata": {},
   "outputs": [
    {
     "name": "stdout",
     "output_type": "stream",
     "text": [
      "(752, 350, 25) (752, 1)\n",
      "(268, 350, 25) (268, 1)\n"
     ]
    }
   ],
   "source": [
    "face_X_train, face_X_test, face_y_train, face_y_test = load_dataset('AUs', binary=True)\n",
    "face_X_train = face_X_train.reshape(face_X_train.shape[0], face_X_train.shape[2], face_X_train.shape[3])\n",
    "face_X_test = face_X_test.reshape(face_X_test.shape[0], face_X_test.shape[2], face_X_test.shape[3])\n",
    "face_X = face_X_train.copy()\n",
    "face_y = face_y_train.copy()\n",
    "\n",
    "print(face_X_train.shape, face_y_train.shape)\n",
    "print(face_X_test.shape, face_y_test.shape)"
   ]
  },
  {
   "cell_type": "code",
   "execution_count": 18,
   "metadata": {},
   "outputs": [],
   "source": [
    "n_length, body_features, face_features, n_outputs = face_X_train.shape[1], body_X_train.shape[-1], face_X_train.shape[-1], body_y_train.shape[1]"
   ]
  },
  {
   "cell_type": "markdown",
   "metadata": {},
   "source": [
    "### Baseline Model"
   ]
  },
  {
   "cell_type": "code",
   "execution_count": 42,
   "metadata": {},
   "outputs": [],
   "source": [
    "class fusioned_Baseline():\n",
    "    def __init__(self, body_features, face_features, n_length, n_outputs):\n",
    "        input_1 = Input(shape=(n_length, body_features))\n",
    "        lstm_1 = LSTM(50)(input_1)\n",
    "        dense_1 = Dense(50)(lstm_1)\n",
    "\n",
    "        input_2 = Input(shape=(n_length, face_features))\n",
    "        lstm_2 = LSTM(50)(input_2)\n",
    "        dense_2 = Dense(50)(lstm_2)\n",
    "\n",
    "        concat = Concatenate()([dense_1, dense_2])\n",
    "        output = Dense(units=n_outputs, activation='sigmoid')(concat)\n",
    "        model = Model(inputs=[input_1, input_2], outputs=[output])\n",
    "        model.compile(loss='binary_crossentropy', optimizer=tf.keras.optimizers.Adam(learning_rate=0.0001), metrics=['accuracy', tf.keras.metrics.AUC(), tf.keras.metrics.Precision(), tf.keras.metrics.Recall(), tfa.metrics.F1Score(num_classes=n_outputs, average='macro')])\n",
    "        self.model = model\n",
    "\n",
    "    def train(self, body_X_train, face_X_train, y_train, body_X_val, face_X_val, y_val, epochs, batch_size):\n",
    "        history = self.model.fit([body_X_train, face_X_train], y_train, validation_data=([body_X_val, face_X_val], y_val), \n",
    "                            epochs=epochs, batch_size=batch_size, verbose=2)\n",
    "        return history\n",
    "\n",
    "    def evaluate(self, body_X_test, face_X_test, y_test):\n",
    "        results = self.model.evaluate([body_X_test, face_X_test], y_test, verbose=0)\n",
    "        return results\n",
    "\n",
    "    def predict(self, body_X_test, face_X_test):\n",
    "        predictions = self.model.predict([body_X_test, face_X_test])\n",
    "        return predictions\n",
    "\n",
    "    def summary(self):\n",
    "        self.model.summary()"
   ]
  },
  {
   "cell_type": "code",
   "execution_count": 43,
   "metadata": {},
   "outputs": [
    {
     "name": "stdout",
     "output_type": "stream",
     "text": [
      "Model: \"model_17\"\n",
      "__________________________________________________________________________________________________\n",
      " Layer (type)                   Output Shape         Param #     Connected to                     \n",
      "==================================================================================================\n",
      " input_22 (InputLayer)          [(None, 350, 35)]    0           []                               \n",
      "                                                                                                  \n",
      " input_23 (InputLayer)          [(None, 350, 25)]    0           []                               \n",
      "                                                                                                  \n",
      " lstm_21 (LSTM)                 (None, 50)           17200       ['input_22[0][0]']               \n",
      "                                                                                                  \n",
      " lstm_22 (LSTM)                 (None, 50)           15200       ['input_23[0][0]']               \n",
      "                                                                                                  \n",
      " dense_38 (Dense)               (None, 50)           2550        ['lstm_21[0][0]']                \n",
      "                                                                                                  \n",
      " dense_39 (Dense)               (None, 50)           2550        ['lstm_22[0][0]']                \n",
      "                                                                                                  \n",
      " concatenate_4 (Concatenate)    (None, 100)          0           ['dense_38[0][0]',               \n",
      "                                                                  'dense_39[0][0]']               \n",
      "                                                                                                  \n",
      " dense_40 (Dense)               (None, 1)            101         ['concatenate_4[0][0]']          \n",
      "                                                                                                  \n",
      "==================================================================================================\n",
      "Total params: 37,601\n",
      "Trainable params: 37,601\n",
      "Non-trainable params: 0\n",
      "__________________________________________________________________________________________________\n"
     ]
    }
   ],
   "source": [
    "model = fusioned_Baseline(body_features, face_features, n_length, n_outputs)\n",
    "model.summary()"
   ]
  },
  {
   "cell_type": "markdown",
   "metadata": {},
   "source": [
    "### Baseline Model"
   ]
  },
  {
   "cell_type": "code",
   "execution_count": 20,
   "metadata": {},
   "outputs": [
    {
     "name": "stdout",
     "output_type": "stream",
     "text": [
      "Epoch 1/50\n",
      "16/16 - 5s - loss: 0.7120 - accuracy: 0.4591 - auc_12: 0.4187 - precision_12: 0.4052 - recall_12: 0.2562 - f1_score: 0.6514 - val_loss: 0.6989 - val_accuracy: 0.5100 - val_auc_12: 0.4909 - val_precision_12: 0.5077 - val_recall_12: 0.2661 - val_f1_score: 0.6613 - 5s/epoch - 290ms/step\n",
      "Epoch 2/50\n",
      "16/16 - 2s - loss: 0.7036 - accuracy: 0.4870 - auc_12: 0.4735 - precision_12: 0.4370 - recall_12: 0.2149 - f1_score: 0.6514 - val_loss: 0.6980 - val_accuracy: 0.5179 - val_auc_12: 0.5079 - val_precision_12: 0.5231 - val_recall_12: 0.2742 - val_f1_score: 0.6613 - 2s/epoch - 99ms/step\n",
      "Epoch 3/50\n",
      "16/16 - 2s - loss: 0.6966 - accuracy: 0.5170 - auc_12: 0.5139 - precision_12: 0.5000 - recall_12: 0.2231 - f1_score: 0.6514 - val_loss: 0.6920 - val_accuracy: 0.5060 - val_auc_12: 0.5545 - val_precision_12: 0.5000 - val_recall_12: 0.2258 - val_f1_score: 0.6613 - 2s/epoch - 99ms/step\n",
      "Epoch 4/50\n",
      "16/16 - 2s - loss: 0.6895 - accuracy: 0.5489 - auc_12: 0.5558 - precision_12: 0.5769 - recall_12: 0.2479 - f1_score: 0.6514 - val_loss: 0.6912 - val_accuracy: 0.5060 - val_auc_12: 0.5555 - val_precision_12: 0.5000 - val_recall_12: 0.2016 - val_f1_score: 0.6613 - 2s/epoch - 101ms/step\n",
      "Epoch 5/50\n",
      "16/16 - 2s - loss: 0.6865 - accuracy: 0.5489 - auc_12: 0.5638 - precision_12: 0.5667 - recall_12: 0.2810 - f1_score: 0.6514 - val_loss: 0.6905 - val_accuracy: 0.5259 - val_auc_12: 0.5609 - val_precision_12: 0.5373 - val_recall_12: 0.2903 - val_f1_score: 0.6613 - 2s/epoch - 104ms/step\n",
      "Epoch 6/50\n",
      "16/16 - 2s - loss: 0.6831 - accuracy: 0.5489 - auc_12: 0.5803 - precision_12: 0.5833 - recall_12: 0.2314 - f1_score: 0.6514 - val_loss: 0.6885 - val_accuracy: 0.5458 - val_auc_12: 0.5794 - val_precision_12: 0.5926 - val_recall_12: 0.2581 - val_f1_score: 0.6613 - 2s/epoch - 104ms/step\n",
      "Epoch 7/50\n",
      "16/16 - 2s - loss: 0.6778 - accuracy: 0.5689 - auc_12: 0.6143 - precision_12: 0.6066 - recall_12: 0.3058 - f1_score: 0.6514 - val_loss: 0.6880 - val_accuracy: 0.5339 - val_auc_12: 0.5726 - val_precision_12: 0.5493 - val_recall_12: 0.3145 - val_f1_score: 0.6613 - 2s/epoch - 104ms/step\n",
      "Epoch 8/50\n",
      "16/16 - 2s - loss: 0.6767 - accuracy: 0.5788 - auc_12: 0.6155 - precision_12: 0.5975 - recall_12: 0.3926 - f1_score: 0.6514 - val_loss: 0.6880 - val_accuracy: 0.5498 - val_auc_12: 0.5643 - val_precision_12: 0.5647 - val_recall_12: 0.3871 - val_f1_score: 0.6613 - 2s/epoch - 104ms/step\n",
      "Epoch 9/50\n",
      "16/16 - 2s - loss: 0.6724 - accuracy: 0.5928 - auc_12: 0.6419 - precision_12: 0.6284 - recall_12: 0.3843 - f1_score: 0.6514 - val_loss: 0.6838 - val_accuracy: 0.5538 - val_auc_12: 0.5963 - val_precision_12: 0.5857 - val_recall_12: 0.3306 - val_f1_score: 0.6613 - 2s/epoch - 104ms/step\n",
      "Epoch 10/50\n",
      "16/16 - 2s - loss: 0.6709 - accuracy: 0.5749 - auc_12: 0.6478 - precision_12: 0.5901 - recall_12: 0.3926 - f1_score: 0.6514 - val_loss: 0.6825 - val_accuracy: 0.5657 - val_auc_12: 0.5972 - val_precision_12: 0.5926 - val_recall_12: 0.3871 - val_f1_score: 0.6613 - 2s/epoch - 107ms/step\n",
      "Epoch 11/50\n",
      "16/16 - 2s - loss: 0.6681 - accuracy: 0.5928 - auc_12: 0.6598 - precision_12: 0.6203 - recall_12: 0.4050 - f1_score: 0.6514 - val_loss: 0.6810 - val_accuracy: 0.5418 - val_auc_12: 0.6001 - val_precision_12: 0.5584 - val_recall_12: 0.3468 - val_f1_score: 0.6613 - 2s/epoch - 107ms/step\n",
      "Epoch 12/50\n",
      "16/16 - 2s - loss: 0.6664 - accuracy: 0.6128 - auc_12: 0.6645 - precision_12: 0.6429 - recall_12: 0.4463 - f1_score: 0.6514 - val_loss: 0.6811 - val_accuracy: 0.5498 - val_auc_12: 0.5944 - val_precision_12: 0.5696 - val_recall_12: 0.3629 - val_f1_score: 0.6613 - 2s/epoch - 108ms/step\n",
      "Epoch 13/50\n",
      "16/16 - 2s - loss: 0.6660 - accuracy: 0.6188 - auc_12: 0.6693 - precision_12: 0.6735 - recall_12: 0.4091 - f1_score: 0.6514 - val_loss: 0.6812 - val_accuracy: 0.5339 - val_auc_12: 0.5992 - val_precision_12: 0.5538 - val_recall_12: 0.2903 - val_f1_score: 0.6613 - 2s/epoch - 108ms/step\n",
      "Epoch 14/50\n",
      "16/16 - 2s - loss: 0.6632 - accuracy: 0.6307 - auc_12: 0.6745 - precision_12: 0.6792 - recall_12: 0.4463 - f1_score: 0.6514 - val_loss: 0.6782 - val_accuracy: 0.5657 - val_auc_12: 0.6072 - val_precision_12: 0.5904 - val_recall_12: 0.3952 - val_f1_score: 0.6613 - 2s/epoch - 107ms/step\n",
      "Epoch 15/50\n",
      "16/16 - 2s - loss: 0.6622 - accuracy: 0.6387 - auc_12: 0.6735 - precision_12: 0.6763 - recall_12: 0.4835 - f1_score: 0.6514 - val_loss: 0.6782 - val_accuracy: 0.5697 - val_auc_12: 0.6063 - val_precision_12: 0.5976 - val_recall_12: 0.3952 - val_f1_score: 0.6613 - 2s/epoch - 108ms/step\n",
      "Epoch 16/50\n",
      "16/16 - 2s - loss: 0.6597 - accuracy: 0.6387 - auc_12: 0.6867 - precision_12: 0.6784 - recall_12: 0.4793 - f1_score: 0.6514 - val_loss: 0.6774 - val_accuracy: 0.5697 - val_auc_12: 0.6059 - val_precision_12: 0.5909 - val_recall_12: 0.4194 - val_f1_score: 0.6613 - 2s/epoch - 110ms/step\n",
      "Epoch 17/50\n",
      "16/16 - 2s - loss: 0.6581 - accuracy: 0.6407 - auc_12: 0.6886 - precision_12: 0.6802 - recall_12: 0.4835 - f1_score: 0.6514 - val_loss: 0.6775 - val_accuracy: 0.5618 - val_auc_12: 0.6058 - val_precision_12: 0.5833 - val_recall_12: 0.3952 - val_f1_score: 0.6613 - 2s/epoch - 105ms/step\n",
      "Epoch 18/50\n",
      "16/16 - 2s - loss: 0.6568 - accuracy: 0.6387 - auc_12: 0.6903 - precision_12: 0.6723 - recall_12: 0.4917 - f1_score: 0.6514 - val_loss: 0.6778 - val_accuracy: 0.5697 - val_auc_12: 0.6015 - val_precision_12: 0.5909 - val_recall_12: 0.4194 - val_f1_score: 0.6613 - 2s/epoch - 105ms/step\n",
      "Epoch 19/50\n",
      "16/16 - 2s - loss: 0.6558 - accuracy: 0.6327 - auc_12: 0.6886 - precision_12: 0.6629 - recall_12: 0.4876 - f1_score: 0.6514 - val_loss: 0.6776 - val_accuracy: 0.5578 - val_auc_12: 0.6047 - val_precision_12: 0.5730 - val_recall_12: 0.4113 - val_f1_score: 0.6613 - 2s/epoch - 106ms/step\n",
      "Epoch 20/50\n",
      "16/16 - 2s - loss: 0.6544 - accuracy: 0.6447 - auc_12: 0.6909 - precision_12: 0.6905 - recall_12: 0.4793 - f1_score: 0.6514 - val_loss: 0.6775 - val_accuracy: 0.5657 - val_auc_12: 0.6093 - val_precision_12: 0.5882 - val_recall_12: 0.4032 - val_f1_score: 0.6613 - 2s/epoch - 106ms/step\n",
      "Epoch 21/50\n",
      "16/16 - 2s - loss: 0.6529 - accuracy: 0.6407 - auc_12: 0.6915 - precision_12: 0.6761 - recall_12: 0.4917 - f1_score: 0.6514 - val_loss: 0.6773 - val_accuracy: 0.5657 - val_auc_12: 0.5991 - val_precision_12: 0.5824 - val_recall_12: 0.4274 - val_f1_score: 0.6613 - 2s/epoch - 114ms/step\n",
      "Epoch 22/50\n",
      "16/16 - 2s - loss: 0.6510 - accuracy: 0.6507 - auc_12: 0.6962 - precision_12: 0.6831 - recall_12: 0.5165 - f1_score: 0.6514 - val_loss: 0.6782 - val_accuracy: 0.5936 - val_auc_12: 0.5920 - val_precision_12: 0.6078 - val_recall_12: 0.5000 - val_f1_score: 0.6613 - 2s/epoch - 106ms/step\n",
      "Epoch 23/50\n",
      "16/16 - 2s - loss: 0.6497 - accuracy: 0.6507 - auc_12: 0.6988 - precision_12: 0.6736 - recall_12: 0.5372 - f1_score: 0.6514 - val_loss: 0.6782 - val_accuracy: 0.5737 - val_auc_12: 0.5970 - val_precision_12: 0.5934 - val_recall_12: 0.4355 - val_f1_score: 0.6613 - 2s/epoch - 107ms/step\n",
      "Epoch 24/50\n",
      "16/16 - 2s - loss: 0.6485 - accuracy: 0.6467 - auc_12: 0.7025 - precision_12: 0.6776 - recall_12: 0.5124 - f1_score: 0.6514 - val_loss: 0.6781 - val_accuracy: 0.5697 - val_auc_12: 0.5953 - val_precision_12: 0.5851 - val_recall_12: 0.4435 - val_f1_score: 0.6613 - 2s/epoch - 107ms/step\n",
      "Epoch 25/50\n",
      "16/16 - 2s - loss: 0.6473 - accuracy: 0.6347 - auc_12: 0.7076 - precision_12: 0.6705 - recall_12: 0.4793 - f1_score: 0.6514 - val_loss: 0.6781 - val_accuracy: 0.5737 - val_auc_12: 0.5979 - val_precision_12: 0.5934 - val_recall_12: 0.4355 - val_f1_score: 0.6613 - 2s/epoch - 109ms/step\n",
      "Epoch 26/50\n",
      "16/16 - 2s - loss: 0.6466 - accuracy: 0.6427 - auc_12: 0.7061 - precision_12: 0.6780 - recall_12: 0.4959 - f1_score: 0.6514 - val_loss: 0.6775 - val_accuracy: 0.5737 - val_auc_12: 0.6019 - val_precision_12: 0.5977 - val_recall_12: 0.4194 - val_f1_score: 0.6613 - 2s/epoch - 107ms/step\n",
      "Epoch 27/50\n",
      "16/16 - 2s - loss: 0.6446 - accuracy: 0.6467 - auc_12: 0.7111 - precision_12: 0.6796 - recall_12: 0.5083 - f1_score: 0.6514 - val_loss: 0.6769 - val_accuracy: 0.5737 - val_auc_12: 0.6016 - val_precision_12: 0.5895 - val_recall_12: 0.4516 - val_f1_score: 0.6613 - 2s/epoch - 107ms/step\n",
      "Epoch 28/50\n",
      "16/16 - 2s - loss: 0.6437 - accuracy: 0.6507 - auc_12: 0.7122 - precision_12: 0.6791 - recall_12: 0.5248 - f1_score: 0.6514 - val_loss: 0.6775 - val_accuracy: 0.5657 - val_auc_12: 0.5964 - val_precision_12: 0.5824 - val_recall_12: 0.4274 - val_f1_score: 0.6613 - 2s/epoch - 106ms/step\n",
      "Epoch 29/50\n",
      "16/16 - 2s - loss: 0.6428 - accuracy: 0.6427 - auc_12: 0.7140 - precision_12: 0.6721 - recall_12: 0.5083 - f1_score: 0.6514 - val_loss: 0.6783 - val_accuracy: 0.5857 - val_auc_12: 0.5963 - val_precision_12: 0.6087 - val_recall_12: 0.4516 - val_f1_score: 0.6613 - 2s/epoch - 106ms/step\n",
      "Epoch 30/50\n",
      "16/16 - 2s - loss: 0.6416 - accuracy: 0.6407 - auc_12: 0.7159 - precision_12: 0.6722 - recall_12: 0.5000 - f1_score: 0.6514 - val_loss: 0.6776 - val_accuracy: 0.5777 - val_auc_12: 0.5957 - val_precision_12: 0.5978 - val_recall_12: 0.4435 - val_f1_score: 0.6613 - 2s/epoch - 105ms/step\n",
      "Epoch 31/50\n",
      "16/16 - 2s - loss: 0.6415 - accuracy: 0.6527 - auc_12: 0.7114 - precision_12: 0.6789 - recall_12: 0.5331 - f1_score: 0.6514 - val_loss: 0.6780 - val_accuracy: 0.5817 - val_auc_12: 0.5919 - val_precision_12: 0.6000 - val_recall_12: 0.4597 - val_f1_score: 0.6613 - 2s/epoch - 105ms/step\n",
      "Epoch 32/50\n",
      "16/16 - 2s - loss: 0.6412 - accuracy: 0.6467 - auc_12: 0.7100 - precision_12: 0.6796 - recall_12: 0.5083 - f1_score: 0.6514 - val_loss: 0.6789 - val_accuracy: 0.5777 - val_auc_12: 0.5907 - val_precision_12: 0.6000 - val_recall_12: 0.4355 - val_f1_score: 0.6613 - 2s/epoch - 106ms/step\n",
      "Epoch 33/50\n",
      "16/16 - 2s - loss: 0.6401 - accuracy: 0.6487 - auc_12: 0.7091 - precision_12: 0.6813 - recall_12: 0.5124 - f1_score: 0.6514 - val_loss: 0.6792 - val_accuracy: 0.5737 - val_auc_12: 0.5930 - val_precision_12: 0.5914 - val_recall_12: 0.4435 - val_f1_score: 0.6613 - 2s/epoch - 107ms/step\n",
      "Epoch 34/50\n",
      "16/16 - 2s - loss: 0.6391 - accuracy: 0.6447 - auc_12: 0.7108 - precision_12: 0.6649 - recall_12: 0.5331 - f1_score: 0.6514 - val_loss: 0.6798 - val_accuracy: 0.5737 - val_auc_12: 0.5879 - val_precision_12: 0.5876 - val_recall_12: 0.4597 - val_f1_score: 0.6613 - 2s/epoch - 107ms/step\n",
      "Epoch 35/50\n",
      "16/16 - 2s - loss: 0.6381 - accuracy: 0.6427 - auc_12: 0.7149 - precision_12: 0.6667 - recall_12: 0.5207 - f1_score: 0.6514 - val_loss: 0.6798 - val_accuracy: 0.5697 - val_auc_12: 0.5892 - val_precision_12: 0.5870 - val_recall_12: 0.4355 - val_f1_score: 0.6613 - 2s/epoch - 109ms/step\n",
      "Epoch 36/50\n",
      "16/16 - 2s - loss: 0.6385 - accuracy: 0.6427 - auc_12: 0.7121 - precision_12: 0.6740 - recall_12: 0.5041 - f1_score: 0.6514 - val_loss: 0.6810 - val_accuracy: 0.5578 - val_auc_12: 0.5833 - val_precision_12: 0.5699 - val_recall_12: 0.4274 - val_f1_score: 0.6613 - 2s/epoch - 108ms/step\n",
      "Epoch 37/50\n",
      "16/16 - 2s - loss: 0.6354 - accuracy: 0.6507 - auc_12: 0.7169 - precision_12: 0.6736 - recall_12: 0.5372 - f1_score: 0.6514 - val_loss: 0.6783 - val_accuracy: 0.5657 - val_auc_12: 0.5901 - val_precision_12: 0.5789 - val_recall_12: 0.4435 - val_f1_score: 0.6613 - 2s/epoch - 110ms/step\n",
      "Epoch 38/50\n",
      "16/16 - 2s - loss: 0.6371 - accuracy: 0.6467 - auc_12: 0.7097 - precision_12: 0.6633 - recall_12: 0.5455 - f1_score: 0.6514 - val_loss: 0.6797 - val_accuracy: 0.5737 - val_auc_12: 0.5870 - val_precision_12: 0.5876 - val_recall_12: 0.4597 - val_f1_score: 0.6613 - 2s/epoch - 114ms/step\n",
      "Epoch 39/50\n",
      "16/16 - 2s - loss: 0.6349 - accuracy: 0.6527 - auc_12: 0.7169 - precision_12: 0.6735 - recall_12: 0.5455 - f1_score: 0.6514 - val_loss: 0.6776 - val_accuracy: 0.5857 - val_auc_12: 0.5940 - val_precision_12: 0.6020 - val_recall_12: 0.4758 - val_f1_score: 0.6613 - 2s/epoch - 115ms/step\n",
      "Epoch 40/50\n",
      "16/16 - 2s - loss: 0.6339 - accuracy: 0.6487 - auc_12: 0.7194 - precision_12: 0.6701 - recall_12: 0.5372 - f1_score: 0.6514 - val_loss: 0.6768 - val_accuracy: 0.5697 - val_auc_12: 0.5996 - val_precision_12: 0.5816 - val_recall_12: 0.4597 - val_f1_score: 0.6613 - 2s/epoch - 114ms/step\n",
      "Epoch 41/50\n",
      "16/16 - 2s - loss: 0.6332 - accuracy: 0.6447 - auc_12: 0.7181 - precision_12: 0.6667 - recall_12: 0.5289 - f1_score: 0.6514 - val_loss: 0.6774 - val_accuracy: 0.5697 - val_auc_12: 0.5995 - val_precision_12: 0.5816 - val_recall_12: 0.4597 - val_f1_score: 0.6613 - 2s/epoch - 115ms/step\n",
      "Epoch 42/50\n",
      "16/16 - 2s - loss: 0.6325 - accuracy: 0.6527 - auc_12: 0.7201 - precision_12: 0.6789 - recall_12: 0.5331 - f1_score: 0.6514 - val_loss: 0.6772 - val_accuracy: 0.5857 - val_auc_12: 0.5989 - val_precision_12: 0.5980 - val_recall_12: 0.4919 - val_f1_score: 0.6613 - 2s/epoch - 114ms/step\n",
      "Epoch 43/50\n",
      "16/16 - 2s - loss: 0.6331 - accuracy: 0.6507 - auc_12: 0.7144 - precision_12: 0.6667 - recall_12: 0.5537 - f1_score: 0.6514 - val_loss: 0.6776 - val_accuracy: 0.5777 - val_auc_12: 0.5976 - val_precision_12: 0.5882 - val_recall_12: 0.4839 - val_f1_score: 0.6613 - 2s/epoch - 115ms/step\n",
      "Epoch 44/50\n",
      "16/16 - 2s - loss: 0.6325 - accuracy: 0.6487 - auc_12: 0.7166 - precision_12: 0.6719 - recall_12: 0.5331 - f1_score: 0.6514 - val_loss: 0.6772 - val_accuracy: 0.5777 - val_auc_12: 0.6002 - val_precision_12: 0.5865 - val_recall_12: 0.4919 - val_f1_score: 0.6613 - 2s/epoch - 114ms/step\n",
      "Epoch 45/50\n",
      "16/16 - 2s - loss: 0.6317 - accuracy: 0.6527 - auc_12: 0.7146 - precision_12: 0.6683 - recall_12: 0.5579 - f1_score: 0.6514 - val_loss: 0.6775 - val_accuracy: 0.5817 - val_auc_12: 0.6012 - val_precision_12: 0.5856 - val_recall_12: 0.5242 - val_f1_score: 0.6613 - 2s/epoch - 117ms/step\n",
      "Epoch 46/50\n",
      "16/16 - 2s - loss: 0.6322 - accuracy: 0.6567 - auc_12: 0.7133 - precision_12: 0.6577 - recall_12: 0.6033 - f1_score: 0.6514 - val_loss: 0.6812 - val_accuracy: 0.5896 - val_auc_12: 0.5914 - val_precision_12: 0.5814 - val_recall_12: 0.6048 - val_f1_score: 0.6613 - 2s/epoch - 119ms/step\n",
      "Epoch 47/50\n",
      "16/16 - 2s - loss: 0.6407 - accuracy: 0.6287 - auc_12: 0.6975 - precision_12: 0.5972 - recall_12: 0.7107 - f1_score: 0.6514 - val_loss: 0.6882 - val_accuracy: 0.5259 - val_auc_12: 0.5818 - val_precision_12: 0.5170 - val_recall_12: 0.6129 - val_f1_score: 0.6613 - 2s/epoch - 122ms/step\n",
      "Epoch 48/50\n",
      "16/16 - 2s - loss: 0.6354 - accuracy: 0.6547 - auc_12: 0.7059 - precision_12: 0.6420 - recall_12: 0.6446 - f1_score: 0.6514 - val_loss: 0.6833 - val_accuracy: 0.5896 - val_auc_12: 0.5873 - val_precision_12: 0.6019 - val_recall_12: 0.5000 - val_f1_score: 0.6613 - 2s/epoch - 119ms/step\n",
      "Epoch 49/50\n",
      "16/16 - 2s - loss: 0.6324 - accuracy: 0.6707 - auc_12: 0.7112 - precision_12: 0.6808 - recall_12: 0.5992 - f1_score: 0.6514 - val_loss: 0.6891 - val_accuracy: 0.5896 - val_auc_12: 0.5797 - val_precision_12: 0.5963 - val_recall_12: 0.5242 - val_f1_score: 0.6613 - 2s/epoch - 120ms/step\n",
      "Epoch 50/50\n",
      "16/16 - 2s - loss: 0.6297 - accuracy: 0.6667 - auc_12: 0.7163 - precision_12: 0.6712 - recall_12: 0.6074 - f1_score: 0.6514 - val_loss: 0.6885 - val_accuracy: 0.5857 - val_auc_12: 0.5739 - val_precision_12: 0.5909 - val_recall_12: 0.5242 - val_f1_score: 0.6613 - 2s/epoch - 119ms/step\n"
     ]
    },
    {
     "data": {
      "image/png": "[encoded data removed]",
      "text/plain": [
       "<Figure size 432x288 with 1 Axes>"
      ]
     },
     "metadata": {
      "needs_background": "light"
     },
     "output_type": "display_data"
    },
    {
     "name": "stdout",
     "output_type": "stream",
     "text": [
      "Epoch 1/50\n",
      "16/16 - 6s - loss: 0.7051 - accuracy: 0.5090 - auc_13: 0.5644 - precision_13: 0.4964 - recall_13: 0.8519 - f1_score: 0.6532 - val_loss: 0.7014 - val_accuracy: 0.5219 - val_auc_13: 0.5363 - val_precision_13: 0.5089 - val_recall_13: 0.6992 - val_f1_score: 0.6578 - 6s/epoch - 363ms/step\n",
      "Epoch 2/50\n",
      "16/16 - 2s - loss: 0.6855 - accuracy: 0.5788 - auc_13: 0.5969 - precision_13: 0.5500 - recall_13: 0.7243 - f1_score: 0.6532 - val_loss: 0.6905 - val_accuracy: 0.5857 - val_auc_13: 0.5806 - val_precision_13: 0.5772 - val_recall_13: 0.5772 - val_f1_score: 0.6578 - 2s/epoch - 105ms/step\n",
      "Epoch 3/50\n",
      "16/16 - 2s - loss: 0.6754 - accuracy: 0.6208 - auc_13: 0.6309 - precision_13: 0.6073 - recall_13: 0.6173 - f1_score: 0.6532 - val_loss: 0.6886 - val_accuracy: 0.5737 - val_auc_13: 0.5924 - val_precision_13: 0.5769 - val_recall_13: 0.4878 - val_f1_score: 0.6578 - 2s/epoch - 103ms/step\n",
      "Epoch 4/50\n",
      "16/16 - 2s - loss: 0.6731 - accuracy: 0.6028 - auc_13: 0.6294 - precision_13: 0.5909 - recall_13: 0.5885 - f1_score: 0.6532 - val_loss: 0.6839 - val_accuracy: 0.5777 - val_auc_13: 0.6044 - val_precision_13: 0.5780 - val_recall_13: 0.5122 - val_f1_score: 0.6578 - 2s/epoch - 104ms/step\n",
      "Epoch 5/50\n",
      "16/16 - 2s - loss: 0.6674 - accuracy: 0.6088 - auc_13: 0.6452 - precision_13: 0.6035 - recall_13: 0.5638 - f1_score: 0.6532 - val_loss: 0.6799 - val_accuracy: 0.5896 - val_auc_13: 0.6159 - val_precision_13: 0.6020 - val_recall_13: 0.4797 - val_f1_score: 0.6578 - 2s/epoch - 106ms/step\n",
      "Epoch 6/50\n",
      "16/16 - 2s - loss: 0.6601 - accuracy: 0.6228 - auc_13: 0.6587 - precision_13: 0.6286 - recall_13: 0.5432 - f1_score: 0.6532 - val_loss: 0.6777 - val_accuracy: 0.5976 - val_auc_13: 0.6245 - val_precision_13: 0.6122 - val_recall_13: 0.4878 - val_f1_score: 0.6578 - 2s/epoch - 106ms/step\n",
      "Epoch 7/50\n",
      "16/16 - 2s - loss: 0.6571 - accuracy: 0.6208 - auc_13: 0.6629 - precision_13: 0.6280 - recall_13: 0.5350 - f1_score: 0.6532 - val_loss: 0.6741 - val_accuracy: 0.6135 - val_auc_13: 0.6309 - val_precision_13: 0.6300 - val_recall_13: 0.5122 - val_f1_score: 0.6578 - 2s/epoch - 108ms/step\n",
      "Epoch 8/50\n",
      "16/16 - 2s - loss: 0.6550 - accuracy: 0.6248 - auc_13: 0.6647 - precision_13: 0.6316 - recall_13: 0.5432 - f1_score: 0.6532 - val_loss: 0.6706 - val_accuracy: 0.6135 - val_auc_13: 0.6366 - val_precision_13: 0.6300 - val_recall_13: 0.5122 - val_f1_score: 0.6578 - 2s/epoch - 108ms/step\n",
      "Epoch 9/50\n",
      "16/16 - 2s - loss: 0.6537 - accuracy: 0.6208 - auc_13: 0.6660 - precision_13: 0.6332 - recall_13: 0.5185 - f1_score: 0.6532 - val_loss: 0.6695 - val_accuracy: 0.6215 - val_auc_13: 0.6400 - val_precision_13: 0.6373 - val_recall_13: 0.5285 - val_f1_score: 0.6578 - 2s/epoch - 111ms/step\n",
      "Epoch 10/50\n",
      "16/16 - 2s - loss: 0.6534 - accuracy: 0.6228 - auc_13: 0.6665 - precision_13: 0.6421 - recall_13: 0.5021 - f1_score: 0.6532 - val_loss: 0.6705 - val_accuracy: 0.6096 - val_auc_13: 0.6364 - val_precision_13: 0.6289 - val_recall_13: 0.4959 - val_f1_score: 0.6578 - 2s/epoch - 112ms/step\n",
      "Epoch 11/50\n",
      "16/16 - 2s - loss: 0.6522 - accuracy: 0.6188 - auc_13: 0.6686 - precision_13: 0.6383 - recall_13: 0.4938 - f1_score: 0.6532 - val_loss: 0.6694 - val_accuracy: 0.6096 - val_auc_13: 0.6398 - val_precision_13: 0.6263 - val_recall_13: 0.5041 - val_f1_score: 0.6578 - 2s/epoch - 115ms/step\n",
      "Epoch 12/50\n",
      "16/16 - 2s - loss: 0.6516 - accuracy: 0.6168 - auc_13: 0.6700 - precision_13: 0.6308 - recall_13: 0.5062 - f1_score: 0.6532 - val_loss: 0.6686 - val_accuracy: 0.6056 - val_auc_13: 0.6411 - val_precision_13: 0.6200 - val_recall_13: 0.5041 - val_f1_score: 0.6578 - 2s/epoch - 114ms/step\n",
      "Epoch 13/50\n",
      "16/16 - 2s - loss: 0.6492 - accuracy: 0.6208 - auc_13: 0.6723 - precision_13: 0.6373 - recall_13: 0.5062 - f1_score: 0.6532 - val_loss: 0.6693 - val_accuracy: 0.6175 - val_auc_13: 0.6411 - val_precision_13: 0.6311 - val_recall_13: 0.5285 - val_f1_score: 0.6578 - 2s/epoch - 115ms/step\n",
      "Epoch 14/50\n",
      "16/16 - 2s - loss: 0.6494 - accuracy: 0.6248 - auc_13: 0.6724 - precision_13: 0.6355 - recall_13: 0.5309 - f1_score: 0.6532 - val_loss: 0.6680 - val_accuracy: 0.6016 - val_auc_13: 0.6418 - val_precision_13: 0.6139 - val_recall_13: 0.5041 - val_f1_score: 0.6578 - 2s/epoch - 115ms/step\n",
      "Epoch 15/50\n",
      "16/16 - 2s - loss: 0.6493 - accuracy: 0.6287 - auc_13: 0.6709 - precision_13: 0.6390 - recall_13: 0.5391 - f1_score: 0.6532 - val_loss: 0.6669 - val_accuracy: 0.6135 - val_auc_13: 0.6437 - val_precision_13: 0.6250 - val_recall_13: 0.5285 - val_f1_score: 0.6578 - 2s/epoch - 115ms/step\n",
      "Epoch 16/50\n",
      "16/16 - 2s - loss: 0.6488 - accuracy: 0.6188 - auc_13: 0.6733 - precision_13: 0.6313 - recall_13: 0.5144 - f1_score: 0.6532 - val_loss: 0.6671 - val_accuracy: 0.6056 - val_auc_13: 0.6415 - val_precision_13: 0.6200 - val_recall_13: 0.5041 - val_f1_score: 0.6578 - 2s/epoch - 116ms/step\n",
      "Epoch 17/50\n",
      "16/16 - 2s - loss: 0.6481 - accuracy: 0.6248 - auc_13: 0.6740 - precision_13: 0.6355 - recall_13: 0.5309 - f1_score: 0.6532 - val_loss: 0.6656 - val_accuracy: 0.6135 - val_auc_13: 0.6446 - val_precision_13: 0.6250 - val_recall_13: 0.5285 - val_f1_score: 0.6578 - 2s/epoch - 116ms/step\n",
      "Epoch 18/50\n",
      "16/16 - 2s - loss: 0.6464 - accuracy: 0.6307 - auc_13: 0.6775 - precision_13: 0.6422 - recall_13: 0.5391 - f1_score: 0.6532 - val_loss: 0.6646 - val_accuracy: 0.6215 - val_auc_13: 0.6465 - val_precision_13: 0.6321 - val_recall_13: 0.5447 - val_f1_score: 0.6578 - 2s/epoch - 116ms/step\n",
      "Epoch 19/50\n",
      "16/16 - 2s - loss: 0.6452 - accuracy: 0.6387 - auc_13: 0.6792 - precision_13: 0.6505 - recall_13: 0.5514 - f1_score: 0.6532 - val_loss: 0.6669 - val_accuracy: 0.6215 - val_auc_13: 0.6413 - val_precision_13: 0.6346 - val_recall_13: 0.5366 - val_f1_score: 0.6578 - 2s/epoch - 114ms/step\n",
      "Epoch 20/50\n",
      "16/16 - 2s - loss: 0.6449 - accuracy: 0.6287 - auc_13: 0.6803 - precision_13: 0.6404 - recall_13: 0.5350 - f1_score: 0.6532 - val_loss: 0.6652 - val_accuracy: 0.6096 - val_auc_13: 0.6435 - val_precision_13: 0.6238 - val_recall_13: 0.5122 - val_f1_score: 0.6578 - 2s/epoch - 114ms/step\n",
      "Epoch 21/50\n",
      "16/16 - 2s - loss: 0.6440 - accuracy: 0.6307 - auc_13: 0.6818 - precision_13: 0.6422 - recall_13: 0.5391 - f1_score: 0.6532 - val_loss: 0.6633 - val_accuracy: 0.6255 - val_auc_13: 0.6480 - val_precision_13: 0.6355 - val_recall_13: 0.5528 - val_f1_score: 0.6578 - 2s/epoch - 114ms/step\n",
      "Epoch 22/50\n",
      "16/16 - 2s - loss: 0.6434 - accuracy: 0.6387 - auc_13: 0.6821 - precision_13: 0.6535 - recall_13: 0.5432 - f1_score: 0.6532 - val_loss: 0.6635 - val_accuracy: 0.6175 - val_auc_13: 0.6502 - val_precision_13: 0.6311 - val_recall_13: 0.5285 - val_f1_score: 0.6578 - 2s/epoch - 114ms/step\n",
      "Epoch 23/50\n",
      "16/16 - 2s - loss: 0.6428 - accuracy: 0.6367 - auc_13: 0.6828 - precision_13: 0.6533 - recall_13: 0.5350 - f1_score: 0.6532 - val_loss: 0.6639 - val_accuracy: 0.6175 - val_auc_13: 0.6468 - val_precision_13: 0.6311 - val_recall_13: 0.5285 - val_f1_score: 0.6578 - 2s/epoch - 115ms/step\n",
      "Epoch 24/50\n",
      "16/16 - 2s - loss: 0.6425 - accuracy: 0.6347 - auc_13: 0.6822 - precision_13: 0.6415 - recall_13: 0.5597 - f1_score: 0.6532 - val_loss: 0.6623 - val_accuracy: 0.6135 - val_auc_13: 0.6493 - val_precision_13: 0.6226 - val_recall_13: 0.5366 - val_f1_score: 0.6578 - 2s/epoch - 117ms/step\n",
      "Epoch 25/50\n",
      "16/16 - 2s - loss: 0.6425 - accuracy: 0.6367 - auc_13: 0.6818 - precision_13: 0.6488 - recall_13: 0.5473 - f1_score: 0.6532 - val_loss: 0.6623 - val_accuracy: 0.6175 - val_auc_13: 0.6478 - val_precision_13: 0.6286 - val_recall_13: 0.5366 - val_f1_score: 0.6578 - 2s/epoch - 114ms/step\n",
      "Epoch 26/50\n",
      "16/16 - 2s - loss: 0.6416 - accuracy: 0.6387 - auc_13: 0.6834 - precision_13: 0.6490 - recall_13: 0.5556 - f1_score: 0.6532 - val_loss: 0.6616 - val_accuracy: 0.6295 - val_auc_13: 0.6507 - val_precision_13: 0.6389 - val_recall_13: 0.5610 - val_f1_score: 0.6578 - 2s/epoch - 115ms/step\n",
      "Epoch 27/50\n",
      "16/16 - 2s - loss: 0.6406 - accuracy: 0.6427 - auc_13: 0.6863 - precision_13: 0.6524 - recall_13: 0.5638 - f1_score: 0.6532 - val_loss: 0.6627 - val_accuracy: 0.6255 - val_auc_13: 0.6475 - val_precision_13: 0.6381 - val_recall_13: 0.5447 - val_f1_score: 0.6578 - 2s/epoch - 114ms/step\n",
      "Epoch 28/50\n",
      "16/16 - 2s - loss: 0.6399 - accuracy: 0.6407 - auc_13: 0.6843 - precision_13: 0.6507 - recall_13: 0.5597 - f1_score: 0.6532 - val_loss: 0.6612 - val_accuracy: 0.6255 - val_auc_13: 0.6483 - val_precision_13: 0.6355 - val_recall_13: 0.5528 - val_f1_score: 0.6578 - 2s/epoch - 115ms/step\n",
      "Epoch 29/50\n",
      "16/16 - 2s - loss: 0.6440 - accuracy: 0.6387 - auc_13: 0.6730 - precision_13: 0.6505 - recall_13: 0.5514 - f1_score: 0.6532 - val_loss: 0.6615 - val_accuracy: 0.6175 - val_auc_13: 0.6487 - val_precision_13: 0.6286 - val_recall_13: 0.5366 - val_f1_score: 0.6578 - 2s/epoch - 116ms/step\n",
      "Epoch 30/50\n",
      "16/16 - 2s - loss: 0.6414 - accuracy: 0.6507 - auc_13: 0.6790 - precision_13: 0.6560 - recall_13: 0.5885 - f1_score: 0.6532 - val_loss: 0.6600 - val_accuracy: 0.6255 - val_auc_13: 0.6521 - val_precision_13: 0.6330 - val_recall_13: 0.5610 - val_f1_score: 0.6578 - 2s/epoch - 114ms/step\n",
      "Epoch 31/50\n",
      "16/16 - 2s - loss: 0.6389 - accuracy: 0.6427 - auc_13: 0.6902 - precision_13: 0.6481 - recall_13: 0.5761 - f1_score: 0.6532 - val_loss: 0.6629 - val_accuracy: 0.6215 - val_auc_13: 0.6453 - val_precision_13: 0.6296 - val_recall_13: 0.5528 - val_f1_score: 0.6578 - 2s/epoch - 115ms/step\n",
      "Epoch 32/50\n",
      "16/16 - 2s - loss: 0.6384 - accuracy: 0.6487 - auc_13: 0.6904 - precision_13: 0.6588 - recall_13: 0.5720 - f1_score: 0.6532 - val_loss: 0.6591 - val_accuracy: 0.6175 - val_auc_13: 0.6546 - val_precision_13: 0.6239 - val_recall_13: 0.5528 - val_f1_score: 0.6578 - 2s/epoch - 115ms/step\n",
      "Epoch 33/50\n",
      "16/16 - 2s - loss: 0.6392 - accuracy: 0.6447 - auc_13: 0.6884 - precision_13: 0.6555 - recall_13: 0.5638 - f1_score: 0.6532 - val_loss: 0.6626 - val_accuracy: 0.6255 - val_auc_13: 0.6484 - val_precision_13: 0.6355 - val_recall_13: 0.5528 - val_f1_score: 0.6578 - 2s/epoch - 114ms/step\n",
      "Epoch 34/50\n",
      "16/16 - 2s - loss: 0.6408 - accuracy: 0.6507 - auc_13: 0.6839 - precision_13: 0.6683 - recall_13: 0.5556 - f1_score: 0.6532 - val_loss: 0.6615 - val_accuracy: 0.6215 - val_auc_13: 0.6525 - val_precision_13: 0.6373 - val_recall_13: 0.5285 - val_f1_score: 0.6578 - 2s/epoch - 114ms/step\n",
      "Epoch 35/50\n",
      "16/16 - 2s - loss: 0.6385 - accuracy: 0.6427 - auc_13: 0.6865 - precision_13: 0.6584 - recall_13: 0.5473 - f1_score: 0.6532 - val_loss: 0.6612 - val_accuracy: 0.6215 - val_auc_13: 0.6503 - val_precision_13: 0.6346 - val_recall_13: 0.5366 - val_f1_score: 0.6578 - 2s/epoch - 115ms/step\n",
      "Epoch 36/50\n",
      "16/16 - 2s - loss: 0.6394 - accuracy: 0.6467 - auc_13: 0.6832 - precision_13: 0.6557 - recall_13: 0.5720 - f1_score: 0.6532 - val_loss: 0.6610 - val_accuracy: 0.6414 - val_auc_13: 0.6483 - val_precision_13: 0.6486 - val_recall_13: 0.5854 - val_f1_score: 0.6578 - 2s/epoch - 114ms/step\n",
      "Epoch 37/50\n",
      "16/16 - 2s - loss: 0.6412 - accuracy: 0.6487 - auc_13: 0.6784 - precision_13: 0.6588 - recall_13: 0.5720 - f1_score: 0.6532 - val_loss: 0.6627 - val_accuracy: 0.6335 - val_auc_13: 0.6459 - val_precision_13: 0.6422 - val_recall_13: 0.5691 - val_f1_score: 0.6578 - 2s/epoch - 114ms/step\n",
      "Epoch 38/50\n",
      "16/16 - 2s - loss: 0.6420 - accuracy: 0.6467 - auc_13: 0.6765 - precision_13: 0.6500 - recall_13: 0.5885 - f1_score: 0.6532 - val_loss: 0.6632 - val_accuracy: 0.6056 - val_auc_13: 0.6403 - val_precision_13: 0.6053 - val_recall_13: 0.5610 - val_f1_score: 0.6578 - 2s/epoch - 114ms/step\n",
      "Epoch 39/50\n",
      "16/16 - 2s - loss: 0.6405 - accuracy: 0.6447 - auc_13: 0.6806 - precision_13: 0.6432 - recall_13: 0.6008 - f1_score: 0.6532 - val_loss: 0.6612 - val_accuracy: 0.6175 - val_auc_13: 0.6473 - val_precision_13: 0.6134 - val_recall_13: 0.5935 - val_f1_score: 0.6578 - 2s/epoch - 115ms/step\n",
      "Epoch 40/50\n",
      "16/16 - 2s - loss: 0.6391 - accuracy: 0.6547 - auc_13: 0.6843 - precision_13: 0.6549 - recall_13: 0.6091 - f1_score: 0.6532 - val_loss: 0.6643 - val_accuracy: 0.6096 - val_auc_13: 0.6401 - val_precision_13: 0.6087 - val_recall_13: 0.5691 - val_f1_score: 0.6578 - 2s/epoch - 114ms/step\n",
      "Epoch 41/50\n",
      "16/16 - 2s - loss: 0.6394 - accuracy: 0.6487 - auc_13: 0.6860 - precision_13: 0.6516 - recall_13: 0.5926 - f1_score: 0.6532 - val_loss: 0.6652 - val_accuracy: 0.6215 - val_auc_13: 0.6390 - val_precision_13: 0.6228 - val_recall_13: 0.5772 - val_f1_score: 0.6578 - 2s/epoch - 115ms/step\n",
      "Epoch 42/50\n",
      "16/16 - 2s - loss: 0.6372 - accuracy: 0.6567 - auc_13: 0.6918 - precision_13: 0.6621 - recall_13: 0.5967 - f1_score: 0.6532 - val_loss: 0.6641 - val_accuracy: 0.6215 - val_auc_13: 0.6438 - val_precision_13: 0.6207 - val_recall_13: 0.5854 - val_f1_score: 0.6578 - 2s/epoch - 114ms/step\n",
      "Epoch 43/50\n",
      "16/16 - 2s - loss: 0.6372 - accuracy: 0.6547 - auc_13: 0.6910 - precision_13: 0.6577 - recall_13: 0.6008 - f1_score: 0.6532 - val_loss: 0.6636 - val_accuracy: 0.6135 - val_auc_13: 0.6440 - val_precision_13: 0.6121 - val_recall_13: 0.5772 - val_f1_score: 0.6578 - 2s/epoch - 114ms/step\n",
      "Epoch 44/50\n",
      "16/16 - 2s - loss: 0.6366 - accuracy: 0.6607 - auc_13: 0.6925 - precision_13: 0.6622 - recall_13: 0.6132 - f1_score: 0.6532 - val_loss: 0.6630 - val_accuracy: 0.6255 - val_auc_13: 0.6446 - val_precision_13: 0.6218 - val_recall_13: 0.6016 - val_f1_score: 0.6578 - 2s/epoch - 115ms/step\n",
      "Epoch 45/50\n",
      "16/16 - 2s - loss: 0.6361 - accuracy: 0.6607 - auc_13: 0.6920 - precision_13: 0.6608 - recall_13: 0.6173 - f1_score: 0.6532 - val_loss: 0.6633 - val_accuracy: 0.6135 - val_auc_13: 0.6448 - val_precision_13: 0.6140 - val_recall_13: 0.5691 - val_f1_score: 0.6578 - 2s/epoch - 116ms/step\n",
      "Epoch 46/50\n",
      "16/16 - 2s - loss: 0.6363 - accuracy: 0.6567 - auc_13: 0.6931 - precision_13: 0.6564 - recall_13: 0.6132 - f1_score: 0.6532 - val_loss: 0.6624 - val_accuracy: 0.6295 - val_auc_13: 0.6475 - val_precision_13: 0.6250 - val_recall_13: 0.6098 - val_f1_score: 0.6578 - 2s/epoch - 120ms/step\n",
      "Epoch 47/50\n",
      "16/16 - 2s - loss: 0.6362 - accuracy: 0.6607 - auc_13: 0.6937 - precision_13: 0.6682 - recall_13: 0.5967 - f1_score: 0.6532 - val_loss: 0.6637 - val_accuracy: 0.6135 - val_auc_13: 0.6437 - val_precision_13: 0.6204 - val_recall_13: 0.5447 - val_f1_score: 0.6578 - 2s/epoch - 115ms/step\n",
      "Epoch 48/50\n",
      "16/16 - 2s - loss: 0.6338 - accuracy: 0.6627 - auc_13: 0.6952 - precision_13: 0.6667 - recall_13: 0.6091 - f1_score: 0.6532 - val_loss: 0.6601 - val_accuracy: 0.6255 - val_auc_13: 0.6503 - val_precision_13: 0.6239 - val_recall_13: 0.5935 - val_f1_score: 0.6578 - 2s/epoch - 114ms/step\n",
      "Epoch 49/50\n",
      "16/16 - 2s - loss: 0.6329 - accuracy: 0.6547 - auc_13: 0.6965 - precision_13: 0.6591 - recall_13: 0.5967 - f1_score: 0.6532 - val_loss: 0.6610 - val_accuracy: 0.6056 - val_auc_13: 0.6495 - val_precision_13: 0.6071 - val_recall_13: 0.5528 - val_f1_score: 0.6578 - 2s/epoch - 114ms/step\n",
      "Epoch 50/50\n",
      "16/16 - 2s - loss: 0.6329 - accuracy: 0.6527 - auc_13: 0.6971 - precision_13: 0.6547 - recall_13: 0.6008 - f1_score: 0.6532 - val_loss: 0.6589 - val_accuracy: 0.6215 - val_auc_13: 0.6533 - val_precision_13: 0.6207 - val_recall_13: 0.5854 - val_f1_score: 0.6578 - 2s/epoch - 115ms/step\n"
     ]
    },
    {
     "data": {
      "image/png": "[encoded data removed]",
      "text/plain": [
       "<Figure size 432x288 with 1 Axes>"
      ]
     },
     "metadata": {
      "needs_background": "light"
     },
     "output_type": "display_data"
    },
    {
     "name": "stdout",
     "output_type": "stream",
     "text": [
      "Epoch 1/50\n",
      "16/16 - 6s - loss: 0.7124 - accuracy: 0.4940 - auc_14: 0.4134 - precision_14: 0.4222 - recall_14: 0.0769 - f1_score: 0.6595 - val_loss: 0.7017 - val_accuracy: 0.4960 - val_auc_14: 0.4554 - val_precision_14: 0.3939 - val_recall_14: 0.1092 - val_f1_score: 0.6450 - 6s/epoch - 357ms/step\n",
      "Epoch 2/50\n",
      "16/16 - 2s - loss: 0.7025 - accuracy: 0.4681 - auc_14: 0.4497 - precision_14: 0.4194 - recall_14: 0.2105 - f1_score: 0.6595 - val_loss: 0.6992 - val_accuracy: 0.5160 - val_auc_14: 0.4651 - val_precision_14: 0.4894 - val_recall_14: 0.3866 - val_f1_score: 0.6450 - 2s/epoch - 107ms/step\n",
      "Epoch 3/50\n",
      "16/16 - 2s - loss: 0.6952 - accuracy: 0.5120 - auc_14: 0.4977 - precision_14: 0.5054 - recall_14: 0.3806 - f1_score: 0.6595 - val_loss: 0.6952 - val_accuracy: 0.5120 - val_auc_14: 0.4868 - val_precision_14: 0.4819 - val_recall_14: 0.3361 - val_f1_score: 0.6450 - 2s/epoch - 106ms/step\n",
      "Epoch 4/50\n",
      "16/16 - 2s - loss: 0.6912 - accuracy: 0.5259 - auc_14: 0.5329 - precision_14: 0.5306 - recall_14: 0.3158 - f1_score: 0.6595 - val_loss: 0.6921 - val_accuracy: 0.5320 - val_auc_14: 0.5258 - val_precision_14: 0.5132 - val_recall_14: 0.3277 - val_f1_score: 0.6450 - 2s/epoch - 106ms/step\n",
      "Epoch 5/50\n",
      "16/16 - 2s - loss: 0.6877 - accuracy: 0.5378 - auc_14: 0.5629 - precision_14: 0.5444 - recall_14: 0.3725 - f1_score: 0.6595 - val_loss: 0.6901 - val_accuracy: 0.5280 - val_auc_14: 0.5455 - val_precision_14: 0.5054 - val_recall_14: 0.3950 - val_f1_score: 0.6450 - 2s/epoch - 107ms/step\n",
      "Epoch 6/50\n",
      "16/16 - 2s - loss: 0.6834 - accuracy: 0.5558 - auc_14: 0.6007 - precision_14: 0.5698 - recall_14: 0.3968 - f1_score: 0.6595 - val_loss: 0.6884 - val_accuracy: 0.5440 - val_auc_14: 0.5539 - val_precision_14: 0.5269 - val_recall_14: 0.4118 - val_f1_score: 0.6450 - 2s/epoch - 110ms/step\n",
      "Epoch 7/50\n",
      "16/16 - 2s - loss: 0.6792 - accuracy: 0.5876 - auc_14: 0.6260 - precision_14: 0.6124 - recall_14: 0.4413 - f1_score: 0.6595 - val_loss: 0.6844 - val_accuracy: 0.5680 - val_auc_14: 0.5781 - val_precision_14: 0.5591 - val_recall_14: 0.4370 - val_f1_score: 0.6450 - 2s/epoch - 110ms/step\n",
      "Epoch 8/50\n",
      "16/16 - 2s - loss: 0.6764 - accuracy: 0.5777 - auc_14: 0.6383 - precision_14: 0.5967 - recall_14: 0.4372 - f1_score: 0.6595 - val_loss: 0.6812 - val_accuracy: 0.5960 - val_auc_14: 0.5967 - val_precision_14: 0.5882 - val_recall_14: 0.5042 - val_f1_score: 0.6450 - 2s/epoch - 111ms/step\n",
      "Epoch 9/50\n",
      "16/16 - 2s - loss: 0.6738 - accuracy: 0.5996 - auc_14: 0.6458 - precision_14: 0.6150 - recall_14: 0.4980 - f1_score: 0.6595 - val_loss: 0.6788 - val_accuracy: 0.6040 - val_auc_14: 0.6081 - val_precision_14: 0.5893 - val_recall_14: 0.5546 - val_f1_score: 0.6450 - 2s/epoch - 114ms/step\n",
      "Epoch 10/50\n",
      "16/16 - 2s - loss: 0.6716 - accuracy: 0.6175 - auc_14: 0.6516 - precision_14: 0.6279 - recall_14: 0.5466 - f1_score: 0.6595 - val_loss: 0.6780 - val_accuracy: 0.6000 - val_auc_14: 0.6119 - val_precision_14: 0.5841 - val_recall_14: 0.5546 - val_f1_score: 0.6450 - 2s/epoch - 115ms/step\n",
      "Epoch 11/50\n",
      "16/16 - 2s - loss: 0.6703 - accuracy: 0.6155 - auc_14: 0.6572 - precision_14: 0.6311 - recall_14: 0.5263 - f1_score: 0.6595 - val_loss: 0.6773 - val_accuracy: 0.6040 - val_auc_14: 0.6126 - val_precision_14: 0.5980 - val_recall_14: 0.5126 - val_f1_score: 0.6450 - 2s/epoch - 116ms/step\n",
      "Epoch 12/50\n",
      "16/16 - 2s - loss: 0.6686 - accuracy: 0.6096 - auc_14: 0.6608 - precision_14: 0.6244 - recall_14: 0.5182 - f1_score: 0.6595 - val_loss: 0.6760 - val_accuracy: 0.6200 - val_auc_14: 0.6211 - val_precision_14: 0.6034 - val_recall_14: 0.5882 - val_f1_score: 0.6450 - 2s/epoch - 116ms/step\n",
      "Epoch 13/50\n",
      "16/16 - 2s - loss: 0.6673 - accuracy: 0.6255 - auc_14: 0.6662 - precision_14: 0.6311 - recall_14: 0.5749 - f1_score: 0.6595 - val_loss: 0.6753 - val_accuracy: 0.6240 - val_auc_14: 0.6195 - val_precision_14: 0.6126 - val_recall_14: 0.5714 - val_f1_score: 0.6450 - 2s/epoch - 115ms/step\n",
      "Epoch 14/50\n",
      "16/16 - 2s - loss: 0.6666 - accuracy: 0.6335 - auc_14: 0.6654 - precision_14: 0.6307 - recall_14: 0.6154 - f1_score: 0.6595 - val_loss: 0.6747 - val_accuracy: 0.6040 - val_auc_14: 0.6201 - val_precision_14: 0.5833 - val_recall_14: 0.5882 - val_f1_score: 0.6450 - 2s/epoch - 115ms/step\n",
      "Epoch 15/50\n",
      "16/16 - 2s - loss: 0.6654 - accuracy: 0.6215 - auc_14: 0.6675 - precision_14: 0.6290 - recall_14: 0.5628 - f1_score: 0.6595 - val_loss: 0.6739 - val_accuracy: 0.6280 - val_auc_14: 0.6256 - val_precision_14: 0.6161 - val_recall_14: 0.5798 - val_f1_score: 0.6450 - 2s/epoch - 115ms/step\n",
      "Epoch 16/50\n",
      "16/16 - 2s - loss: 0.6641 - accuracy: 0.6335 - auc_14: 0.6683 - precision_14: 0.6340 - recall_14: 0.6032 - f1_score: 0.6595 - val_loss: 0.6727 - val_accuracy: 0.6320 - val_auc_14: 0.6291 - val_precision_14: 0.6116 - val_recall_14: 0.6218 - val_f1_score: 0.6450 - 2s/epoch - 118ms/step\n",
      "Epoch 17/50\n",
      "16/16 - 2s - loss: 0.6627 - accuracy: 0.6235 - auc_14: 0.6706 - precision_14: 0.6283 - recall_14: 0.5749 - f1_score: 0.6595 - val_loss: 0.6716 - val_accuracy: 0.6120 - val_auc_14: 0.6324 - val_precision_14: 0.5982 - val_recall_14: 0.5630 - val_f1_score: 0.6450 - 2s/epoch - 115ms/step\n",
      "Epoch 18/50\n",
      "16/16 - 2s - loss: 0.6612 - accuracy: 0.6295 - auc_14: 0.6756 - precision_14: 0.6368 - recall_14: 0.5749 - f1_score: 0.6595 - val_loss: 0.6703 - val_accuracy: 0.6240 - val_auc_14: 0.6383 - val_precision_14: 0.6087 - val_recall_14: 0.5882 - val_f1_score: 0.6450 - 2s/epoch - 117ms/step\n",
      "Epoch 19/50\n",
      "16/16 - 2s - loss: 0.6602 - accuracy: 0.6295 - auc_14: 0.6790 - precision_14: 0.6266 - recall_14: 0.6113 - f1_score: 0.6595 - val_loss: 0.6697 - val_accuracy: 0.6040 - val_auc_14: 0.6411 - val_precision_14: 0.5794 - val_recall_14: 0.6134 - val_f1_score: 0.6450 - 2s/epoch - 115ms/step\n",
      "Epoch 20/50\n",
      "16/16 - 2s - loss: 0.6585 - accuracy: 0.6315 - auc_14: 0.6833 - precision_14: 0.6303 - recall_14: 0.6073 - f1_score: 0.6595 - val_loss: 0.6680 - val_accuracy: 0.6160 - val_auc_14: 0.6464 - val_precision_14: 0.5935 - val_recall_14: 0.6134 - val_f1_score: 0.6450 - 2s/epoch - 115ms/step\n",
      "Epoch 21/50\n",
      "16/16 - 2s - loss: 0.6571 - accuracy: 0.6375 - auc_14: 0.6854 - precision_14: 0.6383 - recall_14: 0.6073 - f1_score: 0.6595 - val_loss: 0.6676 - val_accuracy: 0.6120 - val_auc_14: 0.6473 - val_precision_14: 0.5887 - val_recall_14: 0.6134 - val_f1_score: 0.6450 - 2s/epoch - 118ms/step\n",
      "Epoch 22/50\n",
      "16/16 - 2s - loss: 0.6563 - accuracy: 0.6394 - auc_14: 0.6851 - precision_14: 0.6398 - recall_14: 0.6113 - f1_score: 0.6595 - val_loss: 0.6673 - val_accuracy: 0.6160 - val_auc_14: 0.6463 - val_precision_14: 0.5920 - val_recall_14: 0.6218 - val_f1_score: 0.6450 - 2s/epoch - 119ms/step\n",
      "Epoch 23/50\n",
      "16/16 - 2s - loss: 0.6553 - accuracy: 0.6275 - auc_14: 0.6914 - precision_14: 0.6200 - recall_14: 0.6275 - f1_score: 0.6595 - val_loss: 0.6672 - val_accuracy: 0.6080 - val_auc_14: 0.6467 - val_precision_14: 0.5802 - val_recall_14: 0.6387 - val_f1_score: 0.6450 - 2s/epoch - 120ms/step\n",
      "Epoch 24/50\n",
      "16/16 - 2s - loss: 0.6532 - accuracy: 0.6375 - auc_14: 0.6932 - precision_14: 0.6316 - recall_14: 0.6316 - f1_score: 0.6595 - val_loss: 0.6668 - val_accuracy: 0.6200 - val_auc_14: 0.6494 - val_precision_14: 0.5938 - val_recall_14: 0.6387 - val_f1_score: 0.6450 - 2s/epoch - 120ms/step\n",
      "Epoch 25/50\n",
      "16/16 - 2s - loss: 0.6514 - accuracy: 0.6514 - auc_14: 0.6939 - precision_14: 0.6552 - recall_14: 0.6154 - f1_score: 0.6595 - val_loss: 0.6660 - val_accuracy: 0.6160 - val_auc_14: 0.6440 - val_precision_14: 0.6018 - val_recall_14: 0.5714 - val_f1_score: 0.6450 - 2s/epoch - 120ms/step\n",
      "Epoch 26/50\n",
      "16/16 - 2s - loss: 0.6508 - accuracy: 0.6534 - auc_14: 0.6932 - precision_14: 0.6652 - recall_14: 0.5951 - f1_score: 0.6595 - val_loss: 0.6655 - val_accuracy: 0.6040 - val_auc_14: 0.6460 - val_precision_14: 0.5847 - val_recall_14: 0.5798 - val_f1_score: 0.6450 - 2s/epoch - 120ms/step\n",
      "Epoch 27/50\n",
      "16/16 - 2s - loss: 0.6499 - accuracy: 0.6474 - auc_14: 0.6952 - precision_14: 0.6522 - recall_14: 0.6073 - f1_score: 0.6595 - val_loss: 0.6641 - val_accuracy: 0.6120 - val_auc_14: 0.6486 - val_precision_14: 0.5932 - val_recall_14: 0.5882 - val_f1_score: 0.6450 - 2s/epoch - 120ms/step\n",
      "Epoch 28/50\n",
      "16/16 - 2s - loss: 0.6492 - accuracy: 0.6335 - auc_14: 0.6937 - precision_14: 0.6318 - recall_14: 0.6113 - f1_score: 0.6595 - val_loss: 0.6638 - val_accuracy: 0.6040 - val_auc_14: 0.6489 - val_precision_14: 0.5847 - val_recall_14: 0.5798 - val_f1_score: 0.6450 - 2s/epoch - 119ms/step\n",
      "Epoch 29/50\n",
      "16/16 - 2s - loss: 0.6476 - accuracy: 0.6554 - auc_14: 0.6975 - precision_14: 0.6637 - recall_14: 0.6073 - f1_score: 0.6595 - val_loss: 0.6636 - val_accuracy: 0.6240 - val_auc_14: 0.6474 - val_precision_14: 0.6033 - val_recall_14: 0.6134 - val_f1_score: 0.6450 - 2s/epoch - 121ms/step\n",
      "Epoch 30/50\n",
      "16/16 - 2s - loss: 0.6471 - accuracy: 0.6474 - auc_14: 0.7018 - precision_14: 0.6509 - recall_14: 0.6113 - f1_score: 0.6595 - val_loss: 0.6634 - val_accuracy: 0.6280 - val_auc_14: 0.6526 - val_precision_14: 0.6102 - val_recall_14: 0.6050 - val_f1_score: 0.6450 - 2s/epoch - 120ms/step\n",
      "Epoch 31/50\n",
      "16/16 - 2s - loss: 0.6455 - accuracy: 0.6574 - auc_14: 0.7031 - precision_14: 0.6667 - recall_14: 0.6073 - f1_score: 0.6595 - val_loss: 0.6655 - val_accuracy: 0.6080 - val_auc_14: 0.6441 - val_precision_14: 0.5882 - val_recall_14: 0.5882 - val_f1_score: 0.6450 - 2s/epoch - 116ms/step\n",
      "Epoch 32/50\n",
      "16/16 - 2s - loss: 0.6439 - accuracy: 0.6594 - auc_14: 0.7041 - precision_14: 0.6681 - recall_14: 0.6113 - f1_score: 0.6595 - val_loss: 0.6614 - val_accuracy: 0.6160 - val_auc_14: 0.6534 - val_precision_14: 0.5983 - val_recall_14: 0.5882 - val_f1_score: 0.6450 - 2s/epoch - 116ms/step\n",
      "Epoch 33/50\n",
      "16/16 - 2s - loss: 0.6440 - accuracy: 0.6653 - auc_14: 0.7053 - precision_14: 0.6854 - recall_14: 0.5911 - f1_score: 0.6595 - val_loss: 0.6592 - val_accuracy: 0.6400 - val_auc_14: 0.6577 - val_precision_14: 0.6330 - val_recall_14: 0.5798 - val_f1_score: 0.6450 - 2s/epoch - 115ms/step\n",
      "Epoch 34/50\n",
      "16/16 - 2s - loss: 0.6421 - accuracy: 0.6633 - auc_14: 0.7070 - precision_14: 0.6773 - recall_14: 0.6032 - f1_score: 0.6595 - val_loss: 0.6608 - val_accuracy: 0.6040 - val_auc_14: 0.6575 - val_precision_14: 0.5833 - val_recall_14: 0.5882 - val_f1_score: 0.6450 - 2s/epoch - 114ms/step\n",
      "Epoch 35/50\n",
      "16/16 - 2s - loss: 0.6405 - accuracy: 0.6653 - auc_14: 0.7092 - precision_14: 0.6756 - recall_14: 0.6154 - f1_score: 0.6595 - val_loss: 0.6599 - val_accuracy: 0.6120 - val_auc_14: 0.6593 - val_precision_14: 0.5887 - val_recall_14: 0.6134 - val_f1_score: 0.6450 - 2s/epoch - 115ms/step\n",
      "Epoch 36/50\n",
      "16/16 - 2s - loss: 0.6393 - accuracy: 0.6653 - auc_14: 0.7094 - precision_14: 0.6740 - recall_14: 0.6194 - f1_score: 0.6595 - val_loss: 0.6583 - val_accuracy: 0.6120 - val_auc_14: 0.6616 - val_precision_14: 0.5917 - val_recall_14: 0.5966 - val_f1_score: 0.6450 - 2s/epoch - 117ms/step\n",
      "Epoch 37/50\n",
      "16/16 - 2s - loss: 0.6382 - accuracy: 0.6594 - auc_14: 0.7112 - precision_14: 0.6597 - recall_14: 0.6356 - f1_score: 0.6595 - val_loss: 0.6583 - val_accuracy: 0.6040 - val_auc_14: 0.6583 - val_precision_14: 0.5794 - val_recall_14: 0.6134 - val_f1_score: 0.6450 - 2s/epoch - 115ms/step\n",
      "Epoch 38/50\n",
      "16/16 - 2s - loss: 0.6368 - accuracy: 0.6653 - auc_14: 0.7132 - precision_14: 0.6695 - recall_14: 0.6316 - f1_score: 0.6595 - val_loss: 0.6562 - val_accuracy: 0.6200 - val_auc_14: 0.6633 - val_precision_14: 0.6034 - val_recall_14: 0.5882 - val_f1_score: 0.6450 - 2s/epoch - 116ms/step\n",
      "Epoch 39/50\n",
      "16/16 - 2s - loss: 0.6375 - accuracy: 0.6514 - auc_14: 0.7093 - precision_14: 0.6698 - recall_14: 0.5749 - f1_score: 0.6595 - val_loss: 0.6544 - val_accuracy: 0.6120 - val_auc_14: 0.6655 - val_precision_14: 0.5932 - val_recall_14: 0.5882 - val_f1_score: 0.6450 - 2s/epoch - 116ms/step\n",
      "Epoch 40/50\n",
      "16/16 - 2s - loss: 0.6347 - accuracy: 0.6673 - auc_14: 0.7159 - precision_14: 0.6695 - recall_14: 0.6397 - f1_score: 0.6595 - val_loss: 0.6552 - val_accuracy: 0.6120 - val_auc_14: 0.6651 - val_precision_14: 0.5932 - val_recall_14: 0.5882 - val_f1_score: 0.6450 - 2s/epoch - 115ms/step\n",
      "Epoch 41/50\n",
      "16/16 - 2s - loss: 0.6345 - accuracy: 0.6753 - auc_14: 0.7168 - precision_14: 0.6944 - recall_14: 0.6073 - f1_score: 0.6595 - val_loss: 0.6594 - val_accuracy: 0.6240 - val_auc_14: 0.6507 - val_precision_14: 0.6106 - val_recall_14: 0.5798 - val_f1_score: 0.6450 - 2s/epoch - 116ms/step\n",
      "Epoch 42/50\n",
      "16/16 - 2s - loss: 0.6333 - accuracy: 0.6713 - auc_14: 0.7163 - precision_14: 0.6847 - recall_14: 0.6154 - f1_score: 0.6595 - val_loss: 0.6605 - val_accuracy: 0.5920 - val_auc_14: 0.6515 - val_precision_14: 0.5702 - val_recall_14: 0.5798 - val_f1_score: 0.6450 - 2s/epoch - 116ms/step\n",
      "Epoch 43/50\n",
      "16/16 - 2s - loss: 0.6312 - accuracy: 0.6713 - auc_14: 0.7211 - precision_14: 0.6847 - recall_14: 0.6154 - f1_score: 0.6595 - val_loss: 0.6579 - val_accuracy: 0.6040 - val_auc_14: 0.6562 - val_precision_14: 0.5862 - val_recall_14: 0.5714 - val_f1_score: 0.6450 - 2s/epoch - 115ms/step\n",
      "Epoch 44/50\n",
      "16/16 - 2s - loss: 0.6311 - accuracy: 0.6653 - auc_14: 0.7215 - precision_14: 0.6756 - recall_14: 0.6154 - f1_score: 0.6595 - val_loss: 0.6560 - val_accuracy: 0.5960 - val_auc_14: 0.6604 - val_precision_14: 0.5738 - val_recall_14: 0.5882 - val_f1_score: 0.6450 - 2s/epoch - 116ms/step\n",
      "Epoch 45/50\n",
      "16/16 - 2s - loss: 0.6301 - accuracy: 0.6733 - auc_14: 0.7212 - precision_14: 0.6797 - recall_14: 0.6356 - f1_score: 0.6595 - val_loss: 0.6570 - val_accuracy: 0.6120 - val_auc_14: 0.6563 - val_precision_14: 0.5932 - val_recall_14: 0.5882 - val_f1_score: 0.6450 - 2s/epoch - 115ms/step\n",
      "Epoch 46/50\n",
      "16/16 - 2s - loss: 0.6285 - accuracy: 0.6713 - auc_14: 0.7229 - precision_14: 0.6752 - recall_14: 0.6397 - f1_score: 0.6595 - val_loss: 0.6526 - val_accuracy: 0.6120 - val_auc_14: 0.6690 - val_precision_14: 0.5932 - val_recall_14: 0.5882 - val_f1_score: 0.6450 - 2s/epoch - 117ms/step\n",
      "Epoch 47/50\n",
      "16/16 - 2s - loss: 0.6262 - accuracy: 0.6693 - auc_14: 0.7287 - precision_14: 0.6784 - recall_14: 0.6235 - f1_score: 0.6595 - val_loss: 0.6563 - val_accuracy: 0.6080 - val_auc_14: 0.6556 - val_precision_14: 0.5913 - val_recall_14: 0.5714 - val_f1_score: 0.6450 - 2s/epoch - 119ms/step\n",
      "Epoch 48/50\n",
      "16/16 - 2s - loss: 0.6265 - accuracy: 0.6753 - auc_14: 0.7268 - precision_14: 0.6858 - recall_14: 0.6275 - f1_score: 0.6595 - val_loss: 0.6562 - val_accuracy: 0.6040 - val_auc_14: 0.6596 - val_precision_14: 0.5833 - val_recall_14: 0.5882 - val_f1_score: 0.6450 - 2s/epoch - 116ms/step\n",
      "Epoch 49/50\n",
      "16/16 - 2s - loss: 0.6253 - accuracy: 0.6614 - auc_14: 0.7258 - precision_14: 0.6726 - recall_14: 0.6073 - f1_score: 0.6595 - val_loss: 0.6531 - val_accuracy: 0.6040 - val_auc_14: 0.6626 - val_precision_14: 0.5893 - val_recall_14: 0.5546 - val_f1_score: 0.6450 - 2s/epoch - 116ms/step\n",
      "Epoch 50/50\n",
      "16/16 - 2s - loss: 0.6235 - accuracy: 0.6833 - auc_14: 0.7302 - precision_14: 0.7037 - recall_14: 0.6154 - f1_score: 0.6595 - val_loss: 0.6479 - val_accuracy: 0.6320 - val_auc_14: 0.6749 - val_precision_14: 0.6239 - val_recall_14: 0.5714 - val_f1_score: 0.6450 - 2s/epoch - 115ms/step\n"
     ]
    },
    {
     "data": {
      "image/png": "[encoded data removed]",
      "text/plain": [
       "<Figure size 432x288 with 1 Axes>"
      ]
     },
     "metadata": {
      "needs_background": "light"
     },
     "output_type": "display_data"
    }
   ],
   "source": [
    "for train_index, val_index in kf.split(body_X):\n",
    "    body_X_train, body_X_val = body_X[train_index], body_X[val_index]\n",
    "    body_y_train, body_y_val = body_y[train_index], body_y[val_index]\n",
    "    face_X_train, face_X_val = face_X[train_index], face_X[val_index]\n",
    "    face_y_train, face_y_val = face_y[train_index], face_y[val_index]\n",
    "    model = fusioned_Baseline(body_features, face_features, n_length, n_outputs)\n",
    "    history = model.train(body_X_train, face_X_train, body_y_train, body_X_val, face_X_val, face_y_val, epochs, batch_size)\n",
    "    plt.plot(history.history['loss'])\n",
    "    plt.show()"
   ]
  },
  {
   "cell_type": "markdown",
   "metadata": {},
   "source": [
    "#### Prediction on the holdout set"
   ]
  },
  {
   "cell_type": "code",
   "execution_count": 21,
   "metadata": {},
   "outputs": [
    {
     "name": "stdout",
     "output_type": "stream",
     "text": [
      "Accuracy: 54.10% \n",
      "ROC/AUC: 0.66 \n",
      "Precision: 0.92 \n",
      "Recall: 0.52 \n",
      "F1 score: 0.93\n"
     ]
    }
   ],
   "source": [
    "y_pred = model.predict(body_X_test, face_X_test)\n",
    "_, acc, auc, precision, recall, f1 = model.evaluate(body_X_test, face_X_test, y_test)\n",
    "results.append(round(auc, 2))\n",
    "print('Accuracy: {:.2f}% \\nROC/AUC: {:.2f} \\nPrecision: {:.2f} \\nRecall: {:.2f} \\nF1 score: {:.2f}'.format(acc * 100, auc, precision, recall, f1))"
   ]
  },
  {
   "cell_type": "markdown",
   "metadata": {},
   "source": [
    "### Ensemble"
   ]
  },
  {
   "cell_type": "code",
   "execution_count": 22,
   "metadata": {},
   "outputs": [],
   "source": [
    "baseline_body_member = KerasMember(name=\"Body Model\", keras_model=baseline_body_model, train_batches=(body_X_train, y_train), val_batches=(body_X_test, body_y_test))\n",
    "baseline_face_member = KerasMember(name=\"Face Model\", keras_model=baseline_face_model, train_batches=(face_X_train, face_y_train), val_batches=(face_X_test, face_y_test))"
   ]
  },
  {
   "cell_type": "code",
   "execution_count": 23,
   "metadata": {},
   "outputs": [],
   "source": [
    "dirichletEnsemble = DirichletEnsemble()\n",
    "dirichletEnsemble.add_member(baseline_body_member)\n",
    "dirichletEnsemble.add_member(baseline_face_member)\n",
    "dirichletEnsemble.fit()"
   ]
  },
  {
   "cell_type": "code",
   "execution_count": 24,
   "metadata": {},
   "outputs": [
    {
     "name": "stdout",
     "output_type": "stream",
     "text": [
      "Body Model (weight: 0.4127)\n",
      "Face Model (weight: 0.5873)\n",
      "Accuracy: 100.00% - ROC/AUC: 0.65 - Precision: 1.00 - Recall: 1.00 - F1 score: 1.00\n"
     ]
    }
   ],
   "source": [
    "e = dirichletEnsemble.describe()\n",
    "results.append(round(e, 2))"
   ]
  },
  {
   "cell_type": "markdown",
   "metadata": {},
   "source": [
    "## Results"
   ]
  },
  {
   "cell_type": "code",
   "execution_count": 39,
   "metadata": {},
   "outputs": [
    {
     "data": {
      "image/png": "[encoded data removed]",
      "text/plain": [
       "<Figure size 1008x720 with 1 Axes>"
      ]
     },
     "metadata": {
      "needs_background": "light"
     },
     "output_type": "display_data"
    }
   ],
   "source": [
    "data = {'Unimodal (Body)':results[0], 'Unimodal (Face)':results[1], 'Early Fusion':results[2],\n",
    "        'Late Fusion':results[3], 'Ensemble':results[4]}\n",
    "models = list(data.keys())\n",
    "performance = list(data.values())\n",
    "  \n",
    "fig = plt.figure(figsize = (14, 10))\n",
    " \n",
    "plt.bar(models, performance, color ='maroon',\n",
    "        width = 0.4)\n",
    " \n",
    "plt.title(\"Baseline AUC (Pain Prediction)\")\n",
    "plt.show()"
   ]
  },
  {
   "cell_type": "code",
   "execution_count": null,
   "metadata": {},
   "outputs": [],
   "source": []
  }
 ],
 "metadata": {
  "interpreter": {
   "hash": "225abd0b4b41c85229fb7285a24282bb8b7c5c494a1c5011beaea88d2c1fa3cf"
  },
  "kernelspec": {
   "display_name": "Python 3.9.12 ('masters-thesis-dSEc-4wZ')",
   "language": "python",
   "name": "python3"
  },
  "language_info": {
   "codemirror_mode": {
    "name": "ipython",
    "version": 3
   },
   "file_extension": ".py",
   "mimetype": "text/x-python",
   "name": "python",
   "nbconvert_exporter": "python",
   "pygments_lexer": "ipython3",
   "version": "3.9.12"
  },
  "orig_nbformat": 4
 },
 "nbformat": 4,
 "nbformat_minor": 2
}
