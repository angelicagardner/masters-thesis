{
 "cells": [
  {
   "cell_type": "markdown",
   "metadata": {},
   "source": [
    "# Baseline Results for Binary Classification (pain vs. no pain)"
   ]
  },
  {
   "cell_type": "code",
   "execution_count": 1,
   "metadata": {},
   "outputs": [],
   "source": [
    "import os\n",
    "os.environ['TF_CPP_MIN_LOG_LEVEL'] = '3'\n",
    "import warnings\n",
    "warnings.filterwarnings(\"ignore\")\n",
    "\n",
    "import matplotlib.pyplot as plt\n",
    "import tensorflow as tf\n",
    "import tensorflow_addons as tfa\n",
    "\n",
    "from sklearn.model_selection import KFold\n",
    "from tensorflow.keras.layers import Input, LSTM, Dense, Concatenate\n",
    "from tensorflow.keras import Model\n",
    "\n",
    "import sys\n",
    "module_path = os.path.abspath(os.getcwd() + '\\\\..')\n",
    "if module_path not in sys.path:\n",
    "    sys.path.append(module_path)\n",
    "from src.data.load_dataset import load_dataset, load_fusioned_dataset\n",
    "from src.lib.DeepStack.deepstack.base import KerasMember\n",
    "from src.lib.DeepStack.deepstack.ensemble import DirichletEnsemble"
   ]
  },
  {
   "cell_type": "code",
   "execution_count": 2,
   "metadata": {},
   "outputs": [],
   "source": [
    "epochs, batch_size = 50, 32\n",
    "kf = KFold(n_splits=3, shuffle=True, random_state=48)\n",
    "\n",
    "results = []\n",
    "\n",
    "early_stopping = tf.keras.callbacks.EarlyStopping(\n",
    "        monitor=\"val_loss\",\n",
    "        patience=10,\n",
    "        restore_best_weights=True,\n",
    "    )"
   ]
  },
  {
   "cell_type": "code",
   "execution_count": 3,
   "metadata": {},
   "outputs": [],
   "source": [
    "class Baseline():\n",
    "    def __init__(self, n_features, n_length, n_outputs):\n",
    "        input = Input(shape=(n_length, n_features))\n",
    "        lstm = LSTM(50)(input)\n",
    "        dense = Dense(50)(lstm)\n",
    "        output = Dense(units=n_outputs, activation='sigmoid')(dense)\n",
    "        model = Model(inputs=input, outputs=output)\n",
    "        model.compile(loss='binary_crossentropy', optimizer=tf.keras.optimizers.Adam(learning_rate=0.0001), metrics=['accuracy', tf.keras.metrics.AUC(), tf.keras.metrics.Precision(), tf.keras.metrics.Recall(), tfa.metrics.F1Score(num_classes=n_outputs, average='macro')])\n",
    "        self.model = model\n",
    "\n",
    "    def train(self, X_train, y_train, X_val, y_val, epochs, batch_size):\n",
    "        history = self.model.fit(X_train, y_train, validation_data=(X_val, y_val), epochs=epochs, batch_size=batch_size, verbose=2)\n",
    "        return history\n",
    "\n",
    "    def evaluate(self, X_test, y_test):\n",
    "        results = self.model.evaluate(X_test, y_test, verbose=0)\n",
    "        return results\n",
    "\n",
    "    def predict(self, X_test):\n",
    "        predictions = self.model.predict(X_test)\n",
    "        return predictions\n",
    "\n",
    "    def summary(self):\n",
    "        self.model.summary()"
   ]
  },
  {
   "cell_type": "markdown",
   "metadata": {},
   "source": [
    "## 1. Unimodal Body Modality (Skeleton)"
   ]
  },
  {
   "cell_type": "markdown",
   "metadata": {},
   "source": [
    "### Dataset"
   ]
  },
  {
   "cell_type": "code",
   "execution_count": 4,
   "metadata": {},
   "outputs": [
    {
     "name": "stdout",
     "output_type": "stream",
     "text": [
      "(783, 350, 35) (783, 1)\n",
      "(274, 350, 35) (274, 1)\n"
     ]
    }
   ],
   "source": [
    "X_train, X_test, y_train, y_test = load_dataset('skeleton', binary=True)\n",
    "X_train = X_train.reshape(X_train.shape[0], X_train.shape[2], X_train.shape[3])\n",
    "X_test = X_test.reshape(X_test.shape[0], X_test.shape[2], X_test.shape[3])\n",
    "X = X_train.copy()\n",
    "y = y_train.copy()\n",
    "\n",
    "print(X_train.shape, y_train.shape)\n",
    "print(X_test.shape, y_test.shape)\n",
    "\n",
    "n_length, n_features, n_outputs = X_train.shape[1], X_train.shape[-1], y_train.shape[1]"
   ]
  },
  {
   "cell_type": "code",
   "execution_count": 5,
   "metadata": {},
   "outputs": [
    {
     "name": "stdout",
     "output_type": "stream",
     "text": [
      "Model: \"model\"\n",
      "_________________________________________________________________\n",
      " Layer (type)                Output Shape              Param #   \n",
      "=================================================================\n",
      " input_1 (InputLayer)        [(None, 350, 35)]         0         \n",
      "                                                                 \n",
      " lstm (LSTM)                 (None, 50)                17200     \n",
      "                                                                 \n",
      " dense (Dense)               (None, 50)                2550      \n",
      "                                                                 \n",
      " dense_1 (Dense)             (None, 1)                 51        \n",
      "                                                                 \n",
      "=================================================================\n",
      "Total params: 19,801\n",
      "Trainable params: 19,801\n",
      "Non-trainable params: 0\n",
      "_________________________________________________________________\n"
     ]
    }
   ],
   "source": [
    "model = Baseline(n_features, n_length, n_outputs)\n",
    "model.summary()"
   ]
  },
  {
   "cell_type": "markdown",
   "metadata": {},
   "source": [
    "### Baseline LSTM model"
   ]
  },
  {
   "cell_type": "code",
   "execution_count": 6,
   "metadata": {},
   "outputs": [
    {
     "name": "stdout",
     "output_type": "stream",
     "text": [
      "Epoch 1/50\n",
      "17/17 - 4s - loss: 0.8185 - accuracy: 0.5134 - auc_1: 0.4375 - precision_1: 0.0000e+00 - recall_1: 0.0000e+00 - f1_score: 0.6546 - val_loss: 0.7915 - val_accuracy: 0.5172 - val_auc_1: 0.4228 - val_precision_1: 0.0000e+00 - val_recall_1: 0.0000e+00 - val_f1_score: 0.6512 - 4s/epoch - 223ms/step\n",
      "Epoch 2/50\n",
      "17/17 - 1s - loss: 0.7847 - accuracy: 0.5134 - auc_1: 0.4155 - precision_1: 0.0000e+00 - recall_1: 0.0000e+00 - f1_score: 0.6546 - val_loss: 0.7631 - val_accuracy: 0.5172 - val_auc_1: 0.4209 - val_precision_1: 0.0000e+00 - val_recall_1: 0.0000e+00 - val_f1_score: 0.6512 - 1s/epoch - 78ms/step\n",
      "Epoch 3/50\n",
      "17/17 - 1s - loss: 0.7559 - accuracy: 0.5134 - auc_1: 0.4330 - precision_1: 0.0000e+00 - recall_1: 0.0000e+00 - f1_score: 0.6546 - val_loss: 0.7370 - val_accuracy: 0.5172 - val_auc_1: 0.4522 - val_precision_1: 0.0000e+00 - val_recall_1: 0.0000e+00 - val_f1_score: 0.6512 - 1s/epoch - 80ms/step\n",
      "Epoch 4/50\n",
      "17/17 - 1s - loss: 0.7287 - accuracy: 0.5134 - auc_1: 0.4738 - precision_1: 0.0000e+00 - recall_1: 0.0000e+00 - f1_score: 0.6546 - val_loss: 0.7220 - val_accuracy: 0.5172 - val_auc_1: 0.4718 - val_precision_1: 0.0000e+00 - val_recall_1: 0.0000e+00 - val_f1_score: 0.6512 - 1s/epoch - 81ms/step\n",
      "Epoch 5/50\n",
      "17/17 - 1s - loss: 0.7133 - accuracy: 0.5134 - auc_1: 0.4995 - precision_1: 0.0000e+00 - recall_1: 0.0000e+00 - f1_score: 0.6546 - val_loss: 0.7095 - val_accuracy: 0.5172 - val_auc_1: 0.4931 - val_precision_1: 0.0000e+00 - val_recall_1: 0.0000e+00 - val_f1_score: 0.6512 - 1s/epoch - 78ms/step\n",
      "Epoch 6/50\n",
      "17/17 - 1s - loss: 0.7036 - accuracy: 0.5134 - auc_1: 0.5359 - precision_1: 0.0000e+00 - recall_1: 0.0000e+00 - f1_score: 0.6546 - val_loss: 0.7030 - val_accuracy: 0.5172 - val_auc_1: 0.5377 - val_precision_1: 0.0000e+00 - val_recall_1: 0.0000e+00 - val_f1_score: 0.6512 - 1s/epoch - 79ms/step\n",
      "Epoch 7/50\n",
      "17/17 - 1s - loss: 0.6979 - accuracy: 0.5172 - auc_1: 0.5527 - precision_1: 1.0000 - recall_1: 0.0079 - f1_score: 0.6546 - val_loss: 0.6964 - val_accuracy: 0.5211 - val_auc_1: 0.5457 - val_precision_1: 1.0000 - val_recall_1: 0.0079 - val_f1_score: 0.6512 - 1s/epoch - 79ms/step\n",
      "Epoch 8/50\n",
      "17/17 - 1s - loss: 0.6943 - accuracy: 0.5211 - auc_1: 0.5504 - precision_1: 1.0000 - recall_1: 0.0157 - f1_score: 0.6546 - val_loss: 0.6922 - val_accuracy: 0.5211 - val_auc_1: 0.5611 - val_precision_1: 1.0000 - val_recall_1: 0.0079 - val_f1_score: 0.6512 - 1s/epoch - 80ms/step\n",
      "Epoch 9/50\n",
      "17/17 - 1s - loss: 0.6910 - accuracy: 0.5249 - auc_1: 0.5636 - precision_1: 1.0000 - recall_1: 0.0236 - f1_score: 0.6546 - val_loss: 0.6914 - val_accuracy: 0.5211 - val_auc_1: 0.5600 - val_precision_1: 1.0000 - val_recall_1: 0.0079 - val_f1_score: 0.6512 - 1s/epoch - 80ms/step\n",
      "Epoch 10/50\n",
      "17/17 - 1s - loss: 0.6891 - accuracy: 0.5287 - auc_1: 0.5644 - precision_1: 1.0000 - recall_1: 0.0315 - f1_score: 0.6546 - val_loss: 0.6889 - val_accuracy: 0.5211 - val_auc_1: 0.5693 - val_precision_1: 1.0000 - val_recall_1: 0.0079 - val_f1_score: 0.6512 - 1s/epoch - 79ms/step\n",
      "Epoch 11/50\n",
      "17/17 - 1s - loss: 0.6878 - accuracy: 0.5268 - auc_1: 0.5627 - precision_1: 0.8182 - recall_1: 0.0354 - f1_score: 0.6546 - val_loss: 0.6864 - val_accuracy: 0.5211 - val_auc_1: 0.5812 - val_precision_1: 0.6667 - val_recall_1: 0.0159 - val_f1_score: 0.6512 - 1s/epoch - 81ms/step\n",
      "Epoch 12/50\n",
      "17/17 - 1s - loss: 0.6869 - accuracy: 0.5287 - auc_1: 0.5528 - precision_1: 0.7857 - recall_1: 0.0433 - f1_score: 0.6546 - val_loss: 0.6865 - val_accuracy: 0.5211 - val_auc_1: 0.5784 - val_precision_1: 0.5714 - val_recall_1: 0.0317 - val_f1_score: 0.6512 - 1s/epoch - 79ms/step\n",
      "Epoch 13/50\n",
      "17/17 - 1s - loss: 0.6859 - accuracy: 0.5287 - auc_1: 0.5612 - precision_1: 0.7500 - recall_1: 0.0472 - f1_score: 0.6546 - val_loss: 0.6849 - val_accuracy: 0.5211 - val_auc_1: 0.5832 - val_precision_1: 0.5714 - val_recall_1: 0.0317 - val_f1_score: 0.6512 - 1s/epoch - 77ms/step\n",
      "Epoch 14/50\n",
      "17/17 - 1s - loss: 0.6857 - accuracy: 0.5326 - auc_1: 0.5617 - precision_1: 0.7778 - recall_1: 0.0551 - f1_score: 0.6546 - val_loss: 0.6860 - val_accuracy: 0.5172 - val_auc_1: 0.5711 - val_precision_1: 0.5000 - val_recall_1: 0.0397 - val_f1_score: 0.6512 - 1s/epoch - 77ms/step\n",
      "Epoch 15/50\n",
      "17/17 - 1s - loss: 0.6850 - accuracy: 0.5441 - auc_1: 0.5633 - precision_1: 0.5444 - recall_1: 0.3858 - f1_score: 0.6546 - val_loss: 0.6853 - val_accuracy: 0.5785 - val_auc_1: 0.5813 - val_precision_1: 0.5741 - val_recall_1: 0.4921 - val_f1_score: 0.6512 - 1s/epoch - 76ms/step\n",
      "Epoch 16/50\n",
      "17/17 - 1s - loss: 0.6837 - accuracy: 0.5632 - auc_1: 0.5612 - precision_1: 0.5570 - recall_1: 0.5000 - f1_score: 0.6546 - val_loss: 0.6837 - val_accuracy: 0.5747 - val_auc_1: 0.5834 - val_precision_1: 0.5620 - val_recall_1: 0.5397 - val_f1_score: 0.6512 - 1s/epoch - 77ms/step\n",
      "Epoch 17/50\n",
      "17/17 - 1s - loss: 0.6836 - accuracy: 0.5613 - auc_1: 0.5736 - precision_1: 0.5519 - recall_1: 0.5236 - f1_score: 0.6546 - val_loss: 0.6866 - val_accuracy: 0.5594 - val_auc_1: 0.5606 - val_precision_1: 0.5426 - val_recall_1: 0.5556 - val_f1_score: 0.6512 - 1s/epoch - 77ms/step\n",
      "Epoch 18/50\n",
      "17/17 - 1s - loss: 0.6833 - accuracy: 0.5690 - auc_1: 0.5722 - precision_1: 0.5602 - recall_1: 0.5315 - f1_score: 0.6546 - val_loss: 0.6843 - val_accuracy: 0.5709 - val_auc_1: 0.5797 - val_precision_1: 0.5556 - val_recall_1: 0.5556 - val_f1_score: 0.6512 - 1s/epoch - 79ms/step\n",
      "Epoch 19/50\n",
      "17/17 - 1s - loss: 0.6826 - accuracy: 0.5594 - auc_1: 0.5751 - precision_1: 0.5469 - recall_1: 0.5512 - f1_score: 0.6546 - val_loss: 0.6847 - val_accuracy: 0.5670 - val_auc_1: 0.5805 - val_precision_1: 0.5496 - val_recall_1: 0.5714 - val_f1_score: 0.6512 - 1s/epoch - 76ms/step\n",
      "Epoch 20/50\n",
      "17/17 - 1s - loss: 0.6822 - accuracy: 0.5498 - auc_1: 0.5831 - precision_1: 0.5408 - recall_1: 0.4961 - f1_score: 0.6546 - val_loss: 0.6835 - val_accuracy: 0.5670 - val_auc_1: 0.5928 - val_precision_1: 0.5528 - val_recall_1: 0.5397 - val_f1_score: 0.6512 - 1s/epoch - 77ms/step\n",
      "Epoch 21/50\n",
      "17/17 - 1s - loss: 0.6815 - accuracy: 0.5613 - auc_1: 0.5828 - precision_1: 0.5523 - recall_1: 0.5197 - f1_score: 0.6546 - val_loss: 0.6846 - val_accuracy: 0.5709 - val_auc_1: 0.5778 - val_precision_1: 0.5547 - val_recall_1: 0.5635 - val_f1_score: 0.6512 - 1s/epoch - 78ms/step\n",
      "Epoch 22/50\n",
      "17/17 - 1s - loss: 0.6817 - accuracy: 0.5651 - auc_1: 0.5832 - precision_1: 0.5560 - recall_1: 0.5276 - f1_score: 0.6546 - val_loss: 0.6834 - val_accuracy: 0.5747 - val_auc_1: 0.5933 - val_precision_1: 0.5620 - val_recall_1: 0.5397 - val_f1_score: 0.6512 - 1s/epoch - 78ms/step\n",
      "Epoch 23/50\n",
      "17/17 - 1s - loss: 0.6809 - accuracy: 0.5670 - auc_1: 0.5896 - precision_1: 0.5593 - recall_1: 0.5197 - f1_score: 0.6546 - val_loss: 0.6835 - val_accuracy: 0.5709 - val_auc_1: 0.5903 - val_precision_1: 0.5556 - val_recall_1: 0.5556 - val_f1_score: 0.6512 - 1s/epoch - 78ms/step\n",
      "Epoch 24/50\n",
      "17/17 - 1s - loss: 0.6809 - accuracy: 0.5536 - auc_1: 0.5839 - precision_1: 0.5463 - recall_1: 0.4882 - f1_score: 0.6546 - val_loss: 0.6822 - val_accuracy: 0.5824 - val_auc_1: 0.5990 - val_precision_1: 0.5702 - val_recall_1: 0.5476 - val_f1_score: 0.6512 - 1s/epoch - 78ms/step\n",
      "Epoch 25/50\n",
      "17/17 - 1s - loss: 0.6806 - accuracy: 0.5613 - auc_1: 0.5793 - precision_1: 0.5541 - recall_1: 0.5039 - f1_score: 0.6546 - val_loss: 0.6842 - val_accuracy: 0.5670 - val_auc_1: 0.5827 - val_precision_1: 0.5520 - val_recall_1: 0.5476 - val_f1_score: 0.6512 - 1s/epoch - 79ms/step\n",
      "Epoch 26/50\n",
      "17/17 - 1s - loss: 0.6807 - accuracy: 0.5651 - auc_1: 0.5867 - precision_1: 0.5529 - recall_1: 0.5551 - f1_score: 0.6546 - val_loss: 0.6845 - val_accuracy: 0.5556 - val_auc_1: 0.5790 - val_precision_1: 0.5379 - val_recall_1: 0.5635 - val_f1_score: 0.6512 - 1s/epoch - 78ms/step\n",
      "Epoch 27/50\n",
      "17/17 - 1s - loss: 0.6800 - accuracy: 0.5556 - auc_1: 0.5850 - precision_1: 0.5458 - recall_1: 0.5157 - f1_score: 0.6546 - val_loss: 0.6798 - val_accuracy: 0.5747 - val_auc_1: 0.6105 - val_precision_1: 0.5630 - val_recall_1: 0.5317 - val_f1_score: 0.6512 - 1s/epoch - 83ms/step\n",
      "Epoch 28/50\n",
      "17/17 - 1s - loss: 0.6794 - accuracy: 0.5536 - auc_1: 0.5932 - precision_1: 0.5451 - recall_1: 0.5000 - f1_score: 0.6546 - val_loss: 0.6835 - val_accuracy: 0.5709 - val_auc_1: 0.5902 - val_precision_1: 0.5547 - val_recall_1: 0.5635 - val_f1_score: 0.6512 - 1s/epoch - 80ms/step\n",
      "Epoch 29/50\n",
      "17/17 - 1s - loss: 0.6790 - accuracy: 0.5651 - auc_1: 0.5941 - precision_1: 0.5579 - recall_1: 0.5118 - f1_score: 0.6546 - val_loss: 0.6819 - val_accuracy: 0.5785 - val_auc_1: 0.6007 - val_precision_1: 0.5656 - val_recall_1: 0.5476 - val_f1_score: 0.6512 - 1s/epoch - 78ms/step\n",
      "Epoch 30/50\n",
      "17/17 - 1s - loss: 0.6785 - accuracy: 0.5651 - auc_1: 0.5970 - precision_1: 0.5560 - recall_1: 0.5276 - f1_score: 0.6546 - val_loss: 0.6815 - val_accuracy: 0.5785 - val_auc_1: 0.5984 - val_precision_1: 0.5645 - val_recall_1: 0.5556 - val_f1_score: 0.6512 - 1s/epoch - 80ms/step\n",
      "Epoch 31/50\n",
      "17/17 - 1s - loss: 0.6793 - accuracy: 0.5575 - auc_1: 0.5963 - precision_1: 0.5525 - recall_1: 0.4764 - f1_score: 0.6546 - val_loss: 0.6814 - val_accuracy: 0.5824 - val_auc_1: 0.6034 - val_precision_1: 0.5726 - val_recall_1: 0.5317 - val_f1_score: 0.6512 - 1s/epoch - 78ms/step\n",
      "Epoch 32/50\n",
      "17/17 - 1s - loss: 0.6780 - accuracy: 0.5575 - auc_1: 0.6060 - precision_1: 0.5516 - recall_1: 0.4843 - f1_score: 0.6546 - val_loss: 0.6834 - val_accuracy: 0.5670 - val_auc_1: 0.5946 - val_precision_1: 0.5512 - val_recall_1: 0.5556 - val_f1_score: 0.6512 - 1s/epoch - 78ms/step\n",
      "Epoch 33/50\n",
      "17/17 - 1s - loss: 0.6787 - accuracy: 0.5747 - auc_1: 0.5961 - precision_1: 0.5611 - recall_1: 0.5787 - f1_score: 0.6546 - val_loss: 0.6824 - val_accuracy: 0.5785 - val_auc_1: 0.5983 - val_precision_1: 0.5588 - val_recall_1: 0.6032 - val_f1_score: 0.6512 - 1s/epoch - 79ms/step\n",
      "Epoch 34/50\n",
      "17/17 - 1s - loss: 0.6779 - accuracy: 0.5517 - auc_1: 0.6022 - precision_1: 0.5373 - recall_1: 0.5669 - f1_score: 0.6546 - val_loss: 0.6800 - val_accuracy: 0.5862 - val_auc_1: 0.6132 - val_precision_1: 0.5634 - val_recall_1: 0.6349 - val_f1_score: 0.6512 - 1s/epoch - 80ms/step\n",
      "Epoch 35/50\n",
      "17/17 - 1s - loss: 0.6773 - accuracy: 0.5690 - auc_1: 0.6041 - precision_1: 0.5512 - recall_1: 0.6142 - f1_score: 0.6546 - val_loss: 0.6818 - val_accuracy: 0.5900 - val_auc_1: 0.6002 - val_precision_1: 0.5693 - val_recall_1: 0.6190 - val_f1_score: 0.6512 - 1s/epoch - 80ms/step\n",
      "Epoch 36/50\n",
      "17/17 - 1s - loss: 0.6767 - accuracy: 0.5594 - auc_1: 0.6040 - precision_1: 0.5492 - recall_1: 0.5276 - f1_score: 0.6546 - val_loss: 0.6801 - val_accuracy: 0.5747 - val_auc_1: 0.6121 - val_precision_1: 0.5600 - val_recall_1: 0.5556 - val_f1_score: 0.6512 - 1s/epoch - 84ms/step\n",
      "Epoch 37/50\n",
      "17/17 - 1s - loss: 0.6766 - accuracy: 0.5766 - auc_1: 0.5947 - precision_1: 0.5591 - recall_1: 0.6142 - f1_score: 0.6546 - val_loss: 0.6829 - val_accuracy: 0.5824 - val_auc_1: 0.5967 - val_precision_1: 0.5603 - val_recall_1: 0.6270 - val_f1_score: 0.6512 - 1s/epoch - 81ms/step\n",
      "Epoch 38/50\n",
      "17/17 - 1s - loss: 0.6765 - accuracy: 0.5651 - auc_1: 0.6038 - precision_1: 0.5495 - recall_1: 0.5906 - f1_score: 0.6546 - val_loss: 0.6794 - val_accuracy: 0.6015 - val_auc_1: 0.6150 - val_precision_1: 0.5809 - val_recall_1: 0.6270 - val_f1_score: 0.6512 - 1s/epoch - 82ms/step\n",
      "Epoch 39/50\n",
      "17/17 - 1s - loss: 0.6758 - accuracy: 0.5690 - auc_1: 0.6014 - precision_1: 0.5535 - recall_1: 0.5906 - f1_score: 0.6546 - val_loss: 0.6829 - val_accuracy: 0.5824 - val_auc_1: 0.5897 - val_precision_1: 0.5594 - val_recall_1: 0.6349 - val_f1_score: 0.6512 - 1s/epoch - 81ms/step\n",
      "Epoch 40/50\n",
      "17/17 - 1s - loss: 0.6761 - accuracy: 0.5766 - auc_1: 0.6050 - precision_1: 0.5591 - recall_1: 0.6142 - f1_score: 0.6546 - val_loss: 0.6803 - val_accuracy: 0.6054 - val_auc_1: 0.6071 - val_precision_1: 0.5839 - val_recall_1: 0.6349 - val_f1_score: 0.6512 - 1s/epoch - 82ms/step\n",
      "Epoch 41/50\n",
      "17/17 - 1s - loss: 0.6752 - accuracy: 0.5747 - auc_1: 0.5990 - precision_1: 0.5567 - recall_1: 0.6181 - f1_score: 0.6546 - val_loss: 0.6819 - val_accuracy: 0.5939 - val_auc_1: 0.5924 - val_precision_1: 0.5694 - val_recall_1: 0.6508 - val_f1_score: 0.6512 - 1s/epoch - 86ms/step\n",
      "Epoch 42/50\n",
      "17/17 - 1s - loss: 0.6754 - accuracy: 0.5670 - auc_1: 0.5980 - precision_1: 0.5467 - recall_1: 0.6457 - f1_score: 0.6546 - val_loss: 0.6812 - val_accuracy: 0.6015 - val_auc_1: 0.6070 - val_precision_1: 0.5733 - val_recall_1: 0.6825 - val_f1_score: 0.6512 - 1s/epoch - 80ms/step\n",
      "Epoch 43/50\n",
      "17/17 - 1s - loss: 0.6762 - accuracy: 0.5575 - auc_1: 0.5936 - precision_1: 0.5398 - recall_1: 0.6142 - f1_score: 0.6546 - val_loss: 0.6822 - val_accuracy: 0.5900 - val_auc_1: 0.5920 - val_precision_1: 0.5638 - val_recall_1: 0.6667 - val_f1_score: 0.6512 - 1s/epoch - 81ms/step\n",
      "Epoch 44/50\n",
      "17/17 - 1s - loss: 0.6756 - accuracy: 0.5594 - auc_1: 0.6054 - precision_1: 0.5395 - recall_1: 0.6457 - f1_score: 0.6546 - val_loss: 0.6810 - val_accuracy: 0.5977 - val_auc_1: 0.6116 - val_precision_1: 0.5677 - val_recall_1: 0.6984 - val_f1_score: 0.6512 - 1s/epoch - 82ms/step\n",
      "Epoch 45/50\n",
      "17/17 - 1s - loss: 0.6749 - accuracy: 0.5651 - auc_1: 0.6070 - precision_1: 0.5455 - recall_1: 0.6378 - f1_score: 0.6546 - val_loss: 0.6813 - val_accuracy: 0.5862 - val_auc_1: 0.6031 - val_precision_1: 0.5600 - val_recall_1: 0.6667 - val_f1_score: 0.6512 - 1s/epoch - 81ms/step\n",
      "Epoch 46/50\n",
      "17/17 - 1s - loss: 0.6745 - accuracy: 0.5632 - auc_1: 0.6055 - precision_1: 0.5417 - recall_1: 0.6654 - f1_score: 0.6546 - val_loss: 0.6793 - val_accuracy: 0.6092 - val_auc_1: 0.6150 - val_precision_1: 0.5769 - val_recall_1: 0.7143 - val_f1_score: 0.6512 - 1s/epoch - 83ms/step\n",
      "Epoch 47/50\n",
      "17/17 - 1s - loss: 0.6742 - accuracy: 0.5651 - auc_1: 0.6033 - precision_1: 0.5437 - recall_1: 0.6614 - f1_score: 0.6546 - val_loss: 0.6799 - val_accuracy: 0.5977 - val_auc_1: 0.6078 - val_precision_1: 0.5724 - val_recall_1: 0.6587 - val_f1_score: 0.6512 - 1s/epoch - 80ms/step\n",
      "Epoch 48/50\n",
      "17/17 - 1s - loss: 0.6744 - accuracy: 0.5498 - auc_1: 0.5993 - precision_1: 0.5336 - recall_1: 0.5945 - f1_score: 0.6546 - val_loss: 0.6849 - val_accuracy: 0.5709 - val_auc_1: 0.5782 - val_precision_1: 0.5479 - val_recall_1: 0.6349 - val_f1_score: 0.6512 - 1s/epoch - 82ms/step\n",
      "Epoch 49/50\n",
      "17/17 - 1s - loss: 0.6742 - accuracy: 0.5728 - auc_1: 0.5953 - precision_1: 0.5522 - recall_1: 0.6457 - f1_score: 0.6546 - val_loss: 0.6869 - val_accuracy: 0.5709 - val_auc_1: 0.5763 - val_precision_1: 0.5455 - val_recall_1: 0.6667 - val_f1_score: 0.6512 - 1s/epoch - 85ms/step\n",
      "Epoch 50/50\n",
      "17/17 - 1s - loss: 0.6737 - accuracy: 0.5709 - auc_1: 0.6049 - precision_1: 0.5493 - recall_1: 0.6575 - f1_score: 0.6546 - val_loss: 0.6847 - val_accuracy: 0.5785 - val_auc_1: 0.5791 - val_precision_1: 0.5519 - val_recall_1: 0.6746 - val_f1_score: 0.6512 - 1s/epoch - 83ms/step\n"
     ]
    },
    {
     "data": {
      "image/png": "[encoded data removed]",
      "text/plain": [
       "<Figure size 432x288 with 1 Axes>"
      ]
     },
     "metadata": {
      "needs_background": "light"
     },
     "output_type": "display_data"
    },
    {
     "name": "stdout",
     "output_type": "stream",
     "text": [
      "Epoch 1/50\n",
      "17/17 - 4s - loss: 0.7628 - accuracy: 0.5364 - auc_2: 0.4348 - precision_2: 0.0000e+00 - recall_2: 0.0000e+00 - f1_score: 0.6317 - val_loss: 0.7719 - val_accuracy: 0.4674 - val_auc_2: 0.5078 - val_precision_2: 0.0000e+00 - val_recall_2: 0.0000e+00 - val_f1_score: 0.6950 - 4s/epoch - 213ms/step\n",
      "Epoch 2/50\n",
      "17/17 - 1s - loss: 0.7095 - accuracy: 0.5383 - auc_2: 0.5072 - precision_2: 0.0000e+00 - recall_2: 0.0000e+00 - f1_score: 0.6317 - val_loss: 0.7346 - val_accuracy: 0.4636 - val_auc_2: 0.5216 - val_precision_2: 0.0000e+00 - val_recall_2: 0.0000e+00 - val_f1_score: 0.6950 - 1s/epoch - 79ms/step\n",
      "Epoch 3/50\n",
      "17/17 - 1s - loss: 0.6931 - accuracy: 0.5460 - auc_2: 0.5350 - precision_2: 0.7500 - recall_2: 0.0249 - f1_score: 0.6317 - val_loss: 0.7133 - val_accuracy: 0.4751 - val_auc_2: 0.5180 - val_precision_2: 0.5833 - val_recall_2: 0.0504 - val_f1_score: 0.6950 - 1s/epoch - 79ms/step\n",
      "Epoch 4/50\n",
      "17/17 - 1s - loss: 0.6856 - accuracy: 0.5479 - auc_2: 0.5593 - precision_2: 0.6087 - recall_2: 0.0581 - f1_score: 0.6317 - val_loss: 0.7047 - val_accuracy: 0.4713 - val_auc_2: 0.5282 - val_precision_2: 0.5294 - val_recall_2: 0.0647 - val_f1_score: 0.6950 - 1s/epoch - 80ms/step\n",
      "Epoch 5/50\n",
      "17/17 - 1s - loss: 0.6820 - accuracy: 0.5651 - auc_2: 0.5744 - precision_2: 0.6667 - recall_2: 0.1162 - f1_score: 0.6317 - val_loss: 0.7008 - val_accuracy: 0.4943 - val_auc_2: 0.5280 - val_precision_2: 0.6296 - val_recall_2: 0.1223 - val_f1_score: 0.6950 - 1s/epoch - 80ms/step\n",
      "Epoch 6/50\n",
      "17/17 - 1s - loss: 0.6806 - accuracy: 0.5594 - auc_2: 0.5850 - precision_2: 0.5965 - recall_2: 0.1411 - f1_score: 0.6317 - val_loss: 0.6999 - val_accuracy: 0.4904 - val_auc_2: 0.5276 - val_precision_2: 0.6000 - val_recall_2: 0.1295 - val_f1_score: 0.6950 - 1s/epoch - 79ms/step\n",
      "Epoch 7/50\n",
      "17/17 - 1s - loss: 0.6792 - accuracy: 0.5728 - auc_2: 0.5952 - precision_2: 0.6250 - recall_2: 0.1867 - f1_score: 0.6317 - val_loss: 0.6964 - val_accuracy: 0.5287 - val_auc_2: 0.5321 - val_precision_2: 0.6905 - val_recall_2: 0.2086 - val_f1_score: 0.6950 - 1s/epoch - 80ms/step\n",
      "Epoch 8/50\n",
      "17/17 - 1s - loss: 0.6768 - accuracy: 0.5824 - auc_2: 0.6157 - precision_2: 0.6322 - recall_2: 0.2282 - f1_score: 0.6317 - val_loss: 0.6950 - val_accuracy: 0.5441 - val_auc_2: 0.5385 - val_precision_2: 0.7083 - val_recall_2: 0.2446 - val_f1_score: 0.6950 - 1s/epoch - 80ms/step\n",
      "Epoch 9/50\n",
      "17/17 - 1s - loss: 0.6755 - accuracy: 0.5843 - auc_2: 0.6221 - precision_2: 0.6395 - recall_2: 0.2282 - f1_score: 0.6317 - val_loss: 0.6946 - val_accuracy: 0.5402 - val_auc_2: 0.5483 - val_precision_2: 0.7021 - val_recall_2: 0.2374 - val_f1_score: 0.6950 - 1s/epoch - 80ms/step\n",
      "Epoch 10/50\n",
      "17/17 - 1s - loss: 0.6753 - accuracy: 0.5766 - auc_2: 0.6238 - precision_2: 0.6190 - recall_2: 0.2158 - f1_score: 0.6317 - val_loss: 0.6951 - val_accuracy: 0.5287 - val_auc_2: 0.5567 - val_precision_2: 0.6739 - val_recall_2: 0.2230 - val_f1_score: 0.6950 - 1s/epoch - 82ms/step\n",
      "Epoch 11/50\n",
      "17/17 - 1s - loss: 0.6744 - accuracy: 0.5862 - auc_2: 0.6199 - precision_2: 0.6506 - recall_2: 0.2241 - f1_score: 0.6317 - val_loss: 0.6952 - val_accuracy: 0.5287 - val_auc_2: 0.5654 - val_precision_2: 0.6905 - val_recall_2: 0.2086 - val_f1_score: 0.6950 - 1s/epoch - 80ms/step\n",
      "Epoch 12/50\n",
      "17/17 - 1s - loss: 0.6735 - accuracy: 0.5900 - auc_2: 0.6340 - precision_2: 0.6849 - recall_2: 0.2075 - f1_score: 0.6317 - val_loss: 0.6943 - val_accuracy: 0.5326 - val_auc_2: 0.5769 - val_precision_2: 0.6977 - val_recall_2: 0.2158 - val_f1_score: 0.6950 - 1s/epoch - 82ms/step\n",
      "Epoch 13/50\n",
      "17/17 - 1s - loss: 0.6717 - accuracy: 0.5862 - auc_2: 0.6374 - precision_2: 0.6506 - recall_2: 0.2241 - f1_score: 0.6317 - val_loss: 0.6916 - val_accuracy: 0.5402 - val_auc_2: 0.5867 - val_precision_2: 0.7111 - val_recall_2: 0.2302 - val_f1_score: 0.6950 - 1s/epoch - 79ms/step\n",
      "Epoch 14/50\n",
      "17/17 - 1s - loss: 0.6692 - accuracy: 0.5881 - auc_2: 0.6507 - precision_2: 0.6625 - recall_2: 0.2199 - f1_score: 0.6317 - val_loss: 0.6912 - val_accuracy: 0.5441 - val_auc_2: 0.5879 - val_precision_2: 0.7381 - val_recall_2: 0.2230 - val_f1_score: 0.6950 - 1s/epoch - 80ms/step\n",
      "Epoch 15/50\n",
      "17/17 - 1s - loss: 0.6699 - accuracy: 0.5920 - auc_2: 0.6404 - precision_2: 0.6321 - recall_2: 0.2780 - f1_score: 0.6317 - val_loss: 0.6904 - val_accuracy: 0.5364 - val_auc_2: 0.5781 - val_precision_2: 0.6406 - val_recall_2: 0.2950 - val_f1_score: 0.6950 - 1s/epoch - 80ms/step\n",
      "Epoch 16/50\n",
      "17/17 - 1s - loss: 0.6681 - accuracy: 0.5805 - auc_2: 0.6540 - precision_2: 0.5982 - recall_2: 0.2780 - f1_score: 0.6317 - val_loss: 0.6904 - val_accuracy: 0.5517 - val_auc_2: 0.5781 - val_precision_2: 0.7037 - val_recall_2: 0.2734 - val_f1_score: 0.6950 - 1s/epoch - 80ms/step\n",
      "Epoch 17/50\n",
      "17/17 - 1s - loss: 0.6662 - accuracy: 0.5939 - auc_2: 0.6530 - precision_2: 0.6593 - recall_2: 0.2490 - f1_score: 0.6317 - val_loss: 0.6907 - val_accuracy: 0.5402 - val_auc_2: 0.5889 - val_precision_2: 0.6939 - val_recall_2: 0.2446 - val_f1_score: 0.6950 - 1s/epoch - 84ms/step\n",
      "Epoch 18/50\n",
      "17/17 - 1s - loss: 0.6653 - accuracy: 0.5900 - auc_2: 0.6564 - precision_2: 0.6484 - recall_2: 0.2448 - f1_score: 0.6317 - val_loss: 0.6899 - val_accuracy: 0.5632 - val_auc_2: 0.5856 - val_precision_2: 0.7119 - val_recall_2: 0.3022 - val_f1_score: 0.6950 - 1s/epoch - 82ms/step\n",
      "Epoch 19/50\n",
      "17/17 - 1s - loss: 0.6645 - accuracy: 0.6015 - auc_2: 0.6592 - precision_2: 0.6634 - recall_2: 0.2780 - f1_score: 0.6317 - val_loss: 0.6880 - val_accuracy: 0.5632 - val_auc_2: 0.5921 - val_precision_2: 0.7193 - val_recall_2: 0.2950 - val_f1_score: 0.6950 - 1s/epoch - 85ms/step\n",
      "Epoch 20/50\n",
      "17/17 - 1s - loss: 0.6646 - accuracy: 0.5766 - auc_2: 0.6579 - precision_2: 0.6064 - recall_2: 0.2365 - f1_score: 0.6317 - val_loss: 0.6888 - val_accuracy: 0.5594 - val_auc_2: 0.6068 - val_precision_2: 0.7400 - val_recall_2: 0.2662 - val_f1_score: 0.6950 - 1s/epoch - 83ms/step\n",
      "Epoch 21/50\n",
      "17/17 - 1s - loss: 0.6629 - accuracy: 0.5900 - auc_2: 0.6639 - precision_2: 0.6627 - recall_2: 0.2282 - f1_score: 0.6317 - val_loss: 0.6910 - val_accuracy: 0.5402 - val_auc_2: 0.5953 - val_precision_2: 0.7021 - val_recall_2: 0.2374 - val_f1_score: 0.6950 - 1s/epoch - 80ms/step\n",
      "Epoch 22/50\n",
      "17/17 - 1s - loss: 0.6619 - accuracy: 0.5958 - auc_2: 0.6688 - precision_2: 0.6562 - recall_2: 0.2614 - f1_score: 0.6317 - val_loss: 0.6884 - val_accuracy: 0.5517 - val_auc_2: 0.5935 - val_precision_2: 0.6833 - val_recall_2: 0.2950 - val_f1_score: 0.6950 - 1s/epoch - 80ms/step\n",
      "Epoch 23/50\n",
      "17/17 - 1s - loss: 0.6606 - accuracy: 0.5939 - auc_2: 0.6714 - precision_2: 0.6495 - recall_2: 0.2614 - f1_score: 0.6317 - val_loss: 0.6920 - val_accuracy: 0.5441 - val_auc_2: 0.5980 - val_precision_2: 0.7000 - val_recall_2: 0.2518 - val_f1_score: 0.6950 - 1s/epoch - 84ms/step\n",
      "Epoch 24/50\n",
      "17/17 - 1s - loss: 0.6605 - accuracy: 0.5996 - auc_2: 0.6672 - precision_2: 0.6739 - recall_2: 0.2573 - f1_score: 0.6317 - val_loss: 0.6899 - val_accuracy: 0.5594 - val_auc_2: 0.5993 - val_precision_2: 0.7222 - val_recall_2: 0.2806 - val_f1_score: 0.6950 - 1s/epoch - 81ms/step\n",
      "Epoch 25/50\n",
      "17/17 - 1s - loss: 0.6591 - accuracy: 0.6092 - auc_2: 0.6671 - precision_2: 0.6504 - recall_2: 0.3320 - f1_score: 0.6317 - val_loss: 0.6882 - val_accuracy: 0.5441 - val_auc_2: 0.6008 - val_precision_2: 0.6471 - val_recall_2: 0.3165 - val_f1_score: 0.6950 - 1s/epoch - 86ms/step\n",
      "Epoch 26/50\n",
      "17/17 - 2s - loss: 0.6583 - accuracy: 0.6054 - auc_2: 0.6746 - precision_2: 0.6241 - recall_2: 0.3651 - f1_score: 0.6317 - val_loss: 0.6892 - val_accuracy: 0.5326 - val_auc_2: 0.6027 - val_precision_2: 0.6545 - val_recall_2: 0.2590 - val_f1_score: 0.6950 - 2s/epoch - 105ms/step\n",
      "Epoch 27/50\n",
      "17/17 - 1s - loss: 0.6575 - accuracy: 0.6130 - auc_2: 0.6782 - precision_2: 0.6309 - recall_2: 0.3900 - f1_score: 0.6317 - val_loss: 0.6889 - val_accuracy: 0.5632 - val_auc_2: 0.5987 - val_precision_2: 0.6712 - val_recall_2: 0.3525 - val_f1_score: 0.6950 - 1s/epoch - 81ms/step\n",
      "Epoch 28/50\n",
      "17/17 - 1s - loss: 0.6572 - accuracy: 0.6111 - auc_2: 0.6739 - precision_2: 0.6827 - recall_2: 0.2946 - f1_score: 0.6317 - val_loss: 0.6898 - val_accuracy: 0.5479 - val_auc_2: 0.6029 - val_precision_2: 0.7143 - val_recall_2: 0.2518 - val_f1_score: 0.6950 - 1s/epoch - 83ms/step\n",
      "Epoch 29/50\n",
      "17/17 - 1s - loss: 0.6561 - accuracy: 0.5996 - auc_2: 0.6756 - precision_2: 0.6702 - recall_2: 0.2614 - f1_score: 0.6317 - val_loss: 0.6888 - val_accuracy: 0.5517 - val_auc_2: 0.6051 - val_precision_2: 0.6774 - val_recall_2: 0.3022 - val_f1_score: 0.6950 - 1s/epoch - 81ms/step\n",
      "Epoch 30/50\n",
      "17/17 - 1s - loss: 0.6555 - accuracy: 0.6169 - auc_2: 0.6789 - precision_2: 0.6541 - recall_2: 0.3610 - f1_score: 0.6317 - val_loss: 0.6868 - val_accuracy: 0.5632 - val_auc_2: 0.6089 - val_precision_2: 0.6543 - val_recall_2: 0.3813 - val_f1_score: 0.6950 - 1s/epoch - 82ms/step\n",
      "Epoch 31/50\n",
      "17/17 - 1s - loss: 0.6549 - accuracy: 0.6149 - auc_2: 0.6775 - precision_2: 0.6149 - recall_2: 0.4440 - f1_score: 0.6317 - val_loss: 0.6855 - val_accuracy: 0.5862 - val_auc_2: 0.6050 - val_precision_2: 0.6782 - val_recall_2: 0.4245 - val_f1_score: 0.6950 - 1s/epoch - 81ms/step\n",
      "Epoch 32/50\n",
      "17/17 - 1s - loss: 0.6539 - accuracy: 0.6188 - auc_2: 0.6813 - precision_2: 0.6250 - recall_2: 0.4357 - f1_score: 0.6317 - val_loss: 0.6875 - val_accuracy: 0.5670 - val_auc_2: 0.6023 - val_precision_2: 0.6585 - val_recall_2: 0.3885 - val_f1_score: 0.6950 - 1s/epoch - 82ms/step\n",
      "Epoch 33/50\n",
      "17/17 - 1s - loss: 0.6542 - accuracy: 0.6111 - auc_2: 0.6810 - precision_2: 0.6250 - recall_2: 0.3942 - f1_score: 0.6317 - val_loss: 0.6905 - val_accuracy: 0.5517 - val_auc_2: 0.6040 - val_precision_2: 0.6528 - val_recall_2: 0.3381 - val_f1_score: 0.6950 - 1s/epoch - 79ms/step\n",
      "Epoch 34/50\n",
      "17/17 - 1s - loss: 0.6527 - accuracy: 0.6073 - auc_2: 0.6797 - precision_2: 0.6233 - recall_2: 0.3776 - f1_score: 0.6317 - val_loss: 0.6879 - val_accuracy: 0.5556 - val_auc_2: 0.6047 - val_precision_2: 0.6456 - val_recall_2: 0.3669 - val_f1_score: 0.6950 - 1s/epoch - 82ms/step\n",
      "Epoch 35/50\n",
      "17/17 - 1s - loss: 0.6528 - accuracy: 0.6188 - auc_2: 0.6794 - precision_2: 0.6180 - recall_2: 0.4564 - f1_score: 0.6317 - val_loss: 0.6851 - val_accuracy: 0.5862 - val_auc_2: 0.6078 - val_precision_2: 0.6742 - val_recall_2: 0.4317 - val_f1_score: 0.6950 - 1s/epoch - 83ms/step\n",
      "Epoch 36/50\n",
      "17/17 - 1s - loss: 0.6514 - accuracy: 0.6322 - auc_2: 0.6841 - precision_2: 0.6256 - recall_2: 0.5062 - f1_score: 0.6317 - val_loss: 0.6847 - val_accuracy: 0.5939 - val_auc_2: 0.6092 - val_precision_2: 0.6774 - val_recall_2: 0.4532 - val_f1_score: 0.6950 - 1s/epoch - 83ms/step\n",
      "Epoch 37/50\n",
      "17/17 - 1s - loss: 0.6522 - accuracy: 0.6284 - auc_2: 0.6773 - precision_2: 0.6284 - recall_2: 0.4772 - f1_score: 0.6317 - val_loss: 0.6836 - val_accuracy: 0.5632 - val_auc_2: 0.6074 - val_precision_2: 0.6437 - val_recall_2: 0.4029 - val_f1_score: 0.6950 - 1s/epoch - 78ms/step\n",
      "Epoch 38/50\n",
      "17/17 - 1s - loss: 0.6528 - accuracy: 0.6264 - auc_2: 0.6792 - precision_2: 0.6237 - recall_2: 0.4813 - f1_score: 0.6317 - val_loss: 0.6868 - val_accuracy: 0.5670 - val_auc_2: 0.6097 - val_precision_2: 0.6667 - val_recall_2: 0.3741 - val_f1_score: 0.6950 - 1s/epoch - 78ms/step\n",
      "Epoch 39/50\n",
      "17/17 - 1s - loss: 0.6516 - accuracy: 0.6245 - auc_2: 0.6793 - precision_2: 0.6667 - recall_2: 0.3734 - f1_score: 0.6317 - val_loss: 0.6884 - val_accuracy: 0.5517 - val_auc_2: 0.6138 - val_precision_2: 0.6667 - val_recall_2: 0.3165 - val_f1_score: 0.6950 - 1s/epoch - 79ms/step\n",
      "Epoch 40/50\n",
      "17/17 - 1s - loss: 0.6504 - accuracy: 0.6341 - auc_2: 0.6884 - precision_2: 0.6667 - recall_2: 0.4149 - f1_score: 0.6317 - val_loss: 0.6845 - val_accuracy: 0.5824 - val_auc_2: 0.6127 - val_precision_2: 0.7027 - val_recall_2: 0.3741 - val_f1_score: 0.6950 - 1s/epoch - 79ms/step\n",
      "Epoch 41/50\n",
      "17/17 - 1s - loss: 0.6490 - accuracy: 0.6418 - auc_2: 0.6901 - precision_2: 0.6484 - recall_2: 0.4896 - f1_score: 0.6317 - val_loss: 0.6848 - val_accuracy: 0.5594 - val_auc_2: 0.6064 - val_precision_2: 0.6304 - val_recall_2: 0.4173 - val_f1_score: 0.6950 - 1s/epoch - 78ms/step\n",
      "Epoch 42/50\n",
      "17/17 - 1s - loss: 0.6480 - accuracy: 0.6437 - auc_2: 0.6888 - precision_2: 0.6503 - recall_2: 0.4938 - f1_score: 0.6317 - val_loss: 0.6863 - val_accuracy: 0.5556 - val_auc_2: 0.5985 - val_precision_2: 0.6322 - val_recall_2: 0.3957 - val_f1_score: 0.6950 - 1s/epoch - 79ms/step\n",
      "Epoch 43/50\n",
      "17/17 - 1s - loss: 0.6500 - accuracy: 0.6264 - auc_2: 0.6803 - precision_2: 0.6173 - recall_2: 0.5021 - f1_score: 0.6317 - val_loss: 0.6832 - val_accuracy: 0.5594 - val_auc_2: 0.6019 - val_precision_2: 0.6395 - val_recall_2: 0.3957 - val_f1_score: 0.6950 - 1s/epoch - 78ms/step\n",
      "Epoch 44/50\n",
      "17/17 - 1s - loss: 0.6470 - accuracy: 0.6379 - auc_2: 0.6906 - precision_2: 0.6757 - recall_2: 0.4149 - f1_score: 0.6317 - val_loss: 0.6852 - val_accuracy: 0.5632 - val_auc_2: 0.6188 - val_precision_2: 0.6984 - val_recall_2: 0.3165 - val_f1_score: 0.6950 - 1s/epoch - 78ms/step\n",
      "Epoch 45/50\n",
      "17/17 - 1s - loss: 0.6455 - accuracy: 0.6475 - auc_2: 0.6968 - precision_2: 0.6815 - recall_2: 0.4440 - f1_score: 0.6317 - val_loss: 0.6810 - val_accuracy: 0.5709 - val_auc_2: 0.6260 - val_precision_2: 0.6753 - val_recall_2: 0.3741 - val_f1_score: 0.6950 - 1s/epoch - 78ms/step\n",
      "Epoch 46/50\n",
      "17/17 - 1s - loss: 0.6462 - accuracy: 0.6398 - auc_2: 0.6965 - precision_2: 0.6732 - recall_2: 0.4274 - f1_score: 0.6317 - val_loss: 0.6829 - val_accuracy: 0.5862 - val_auc_2: 0.6144 - val_precision_2: 0.7123 - val_recall_2: 0.3741 - val_f1_score: 0.6950 - 1s/epoch - 78ms/step\n",
      "Epoch 47/50\n",
      "17/17 - 1s - loss: 0.6453 - accuracy: 0.6379 - auc_2: 0.6991 - precision_2: 0.6831 - recall_2: 0.4025 - f1_score: 0.6317 - val_loss: 0.6825 - val_accuracy: 0.5594 - val_auc_2: 0.6230 - val_precision_2: 0.6622 - val_recall_2: 0.3525 - val_f1_score: 0.6950 - 1s/epoch - 78ms/step\n",
      "Epoch 48/50\n",
      "17/17 - 1s - loss: 0.6433 - accuracy: 0.6513 - auc_2: 0.7035 - precision_2: 0.6746 - recall_2: 0.4730 - f1_score: 0.6317 - val_loss: 0.6784 - val_accuracy: 0.5709 - val_auc_2: 0.6205 - val_precision_2: 0.6667 - val_recall_2: 0.3885 - val_f1_score: 0.6950 - 1s/epoch - 79ms/step\n",
      "Epoch 49/50\n",
      "17/17 - 1s - loss: 0.6432 - accuracy: 0.6341 - auc_2: 0.6967 - precision_2: 0.6214 - recall_2: 0.5311 - f1_score: 0.6317 - val_loss: 0.6796 - val_accuracy: 0.5785 - val_auc_2: 0.6186 - val_precision_2: 0.6559 - val_recall_2: 0.4388 - val_f1_score: 0.6950 - 1s/epoch - 78ms/step\n",
      "Epoch 50/50\n",
      "17/17 - 1s - loss: 0.6414 - accuracy: 0.6418 - auc_2: 0.7061 - precision_2: 0.6588 - recall_2: 0.4647 - f1_score: 0.6317 - val_loss: 0.6823 - val_accuracy: 0.5556 - val_auc_2: 0.6237 - val_precision_2: 0.6575 - val_recall_2: 0.3453 - val_f1_score: 0.6950 - 1s/epoch - 78ms/step\n"
     ]
    },
    {
     "data": {
      "image/png": "[encoded data removed]",
      "text/plain": [
       "<Figure size 432x288 with 1 Axes>"
      ]
     },
     "metadata": {
      "needs_background": "light"
     },
     "output_type": "display_data"
    },
    {
     "name": "stdout",
     "output_type": "stream",
     "text": [
      "Epoch 1/50\n",
      "17/17 - 3s - loss: 0.7477 - accuracy: 0.4425 - auc_3: 0.4466 - precision_3: 0.4261 - recall_3: 0.2830 - f1_score: 0.6734 - val_loss: 0.7330 - val_accuracy: 0.4713 - val_auc_3: 0.4351 - val_precision_3: 0.3964 - val_recall_3: 0.3826 - val_f1_score: 0.6117 - 3s/epoch - 199ms/step\n",
      "Epoch 2/50\n",
      "17/17 - 1s - loss: 0.7179 - accuracy: 0.4751 - auc_3: 0.4723 - precision_3: 0.4816 - recall_3: 0.4453 - f1_score: 0.6734 - val_loss: 0.7309 - val_accuracy: 0.4291 - val_auc_3: 0.4264 - val_precision_3: 0.3851 - val_recall_3: 0.4957 - val_f1_score: 0.6117 - 1s/epoch - 83ms/step\n",
      "Epoch 3/50\n",
      "17/17 - 1s - loss: 0.7092 - accuracy: 0.4828 - auc_3: 0.4864 - precision_3: 0.4911 - recall_3: 0.5208 - f1_score: 0.6734 - val_loss: 0.7259 - val_accuracy: 0.4406 - val_auc_3: 0.4402 - val_precision_3: 0.3960 - val_recall_3: 0.5130 - val_f1_score: 0.6117 - 1s/epoch - 78ms/step\n",
      "Epoch 4/50\n",
      "17/17 - 1s - loss: 0.6964 - accuracy: 0.5172 - auc_3: 0.5255 - precision_3: 0.5231 - recall_3: 0.5547 - f1_score: 0.6734 - val_loss: 0.7223 - val_accuracy: 0.4368 - val_auc_3: 0.4434 - val_precision_3: 0.3873 - val_recall_3: 0.4783 - val_f1_score: 0.6117 - 1s/epoch - 79ms/step\n",
      "Epoch 5/50\n",
      "17/17 - 1s - loss: 0.6909 - accuracy: 0.5307 - auc_3: 0.5480 - precision_3: 0.5342 - recall_3: 0.5887 - f1_score: 0.6734 - val_loss: 0.7178 - val_accuracy: 0.4483 - val_auc_3: 0.4630 - val_precision_3: 0.4027 - val_recall_3: 0.5217 - val_f1_score: 0.6117 - 1s/epoch - 79ms/step\n",
      "Epoch 6/50\n",
      "17/17 - 1s - loss: 0.6851 - accuracy: 0.5498 - auc_3: 0.5736 - precision_3: 0.5493 - recall_3: 0.6302 - f1_score: 0.6734 - val_loss: 0.7118 - val_accuracy: 0.4636 - val_auc_3: 0.4815 - val_precision_3: 0.4194 - val_recall_3: 0.5652 - val_f1_score: 0.6117 - 1s/epoch - 80ms/step\n",
      "Epoch 7/50\n",
      "17/17 - 1s - loss: 0.6836 - accuracy: 0.5479 - auc_3: 0.5775 - precision_3: 0.5452 - recall_3: 0.6604 - f1_score: 0.6734 - val_loss: 0.7049 - val_accuracy: 0.4789 - val_auc_3: 0.5089 - val_precision_3: 0.4356 - val_recall_3: 0.6174 - val_f1_score: 0.6117 - 1s/epoch - 79ms/step\n",
      "Epoch 8/50\n",
      "17/17 - 1s - loss: 0.6800 - accuracy: 0.5785 - auc_3: 0.5921 - precision_3: 0.5660 - recall_3: 0.7283 - f1_score: 0.6734 - val_loss: 0.6993 - val_accuracy: 0.5019 - val_auc_3: 0.5251 - val_precision_3: 0.4510 - val_recall_3: 0.6000 - val_f1_score: 0.6117 - 1s/epoch - 81ms/step\n",
      "Epoch 9/50\n",
      "17/17 - 1s - loss: 0.6779 - accuracy: 0.5632 - auc_3: 0.5942 - precision_3: 0.5623 - recall_3: 0.6302 - f1_score: 0.6734 - val_loss: 0.7013 - val_accuracy: 0.5019 - val_auc_3: 0.5115 - val_precision_3: 0.4476 - val_recall_3: 0.5565 - val_f1_score: 0.6117 - 1s/epoch - 80ms/step\n",
      "Epoch 10/50\n",
      "17/17 - 1s - loss: 0.6769 - accuracy: 0.5843 - auc_3: 0.6068 - precision_3: 0.5732 - recall_3: 0.7094 - f1_score: 0.6734 - val_loss: 0.6997 - val_accuracy: 0.5057 - val_auc_3: 0.5428 - val_precision_3: 0.4583 - val_recall_3: 0.6696 - val_f1_score: 0.6117 - 1s/epoch - 80ms/step\n",
      "Epoch 11/50\n",
      "17/17 - 1s - loss: 0.6725 - accuracy: 0.5939 - auc_3: 0.6210 - precision_3: 0.5815 - recall_3: 0.7132 - f1_score: 0.6734 - val_loss: 0.6959 - val_accuracy: 0.5402 - val_auc_3: 0.5485 - val_precision_3: 0.4841 - val_recall_3: 0.6609 - val_f1_score: 0.6117 - 1s/epoch - 83ms/step\n",
      "Epoch 12/50\n",
      "17/17 - 1s - loss: 0.6729 - accuracy: 0.5670 - auc_3: 0.6125 - precision_3: 0.5704 - recall_3: 0.5962 - f1_score: 0.6734 - val_loss: 0.6907 - val_accuracy: 0.5402 - val_auc_3: 0.5434 - val_precision_3: 0.4815 - val_recall_3: 0.5652 - val_f1_score: 0.6117 - 1s/epoch - 81ms/step\n",
      "Epoch 13/50\n",
      "17/17 - 1s - loss: 0.6714 - accuracy: 0.5728 - auc_3: 0.6184 - precision_3: 0.5795 - recall_3: 0.5774 - f1_score: 0.6734 - val_loss: 0.6895 - val_accuracy: 0.5402 - val_auc_3: 0.5686 - val_precision_3: 0.4841 - val_recall_3: 0.6609 - val_f1_score: 0.6117 - 1s/epoch - 80ms/step\n",
      "Epoch 14/50\n",
      "17/17 - 1s - loss: 0.6729 - accuracy: 0.5881 - auc_3: 0.6061 - precision_3: 0.5776 - recall_3: 0.7019 - f1_score: 0.6734 - val_loss: 0.6968 - val_accuracy: 0.5479 - val_auc_3: 0.5501 - val_precision_3: 0.4911 - val_recall_3: 0.7217 - val_f1_score: 0.6117 - 1s/epoch - 81ms/step\n",
      "Epoch 15/50\n",
      "17/17 - 1s - loss: 0.6697 - accuracy: 0.6111 - auc_3: 0.6179 - precision_3: 0.5896 - recall_3: 0.7698 - f1_score: 0.6734 - val_loss: 0.6941 - val_accuracy: 0.5670 - val_auc_3: 0.5537 - val_precision_3: 0.5060 - val_recall_3: 0.7304 - val_f1_score: 0.6117 - 1s/epoch - 79ms/step\n",
      "Epoch 16/50\n",
      "17/17 - 1s - loss: 0.6708 - accuracy: 0.5805 - auc_3: 0.6087 - precision_3: 0.5693 - recall_3: 0.7132 - f1_score: 0.6734 - val_loss: 0.6915 - val_accuracy: 0.5364 - val_auc_3: 0.5518 - val_precision_3: 0.4815 - val_recall_3: 0.6783 - val_f1_score: 0.6117 - 1s/epoch - 81ms/step\n",
      "Epoch 17/50\n",
      "17/17 - 1s - loss: 0.6681 - accuracy: 0.5977 - auc_3: 0.6265 - precision_3: 0.5775 - recall_3: 0.7736 - f1_score: 0.6734 - val_loss: 0.6858 - val_accuracy: 0.5709 - val_auc_3: 0.5943 - val_precision_3: 0.5082 - val_recall_3: 0.8087 - val_f1_score: 0.6117 - 1s/epoch - 84ms/step\n",
      "Epoch 18/50\n",
      "17/17 - 1s - loss: 0.6669 - accuracy: 0.6092 - auc_3: 0.6228 - precision_3: 0.5813 - recall_3: 0.8226 - f1_score: 0.6734 - val_loss: 0.6792 - val_accuracy: 0.5824 - val_auc_3: 0.6122 - val_precision_3: 0.5176 - val_recall_3: 0.7652 - val_f1_score: 0.6117 - 1s/epoch - 86ms/step\n",
      "Epoch 19/50\n",
      "17/17 - 1s - loss: 0.6646 - accuracy: 0.6092 - auc_3: 0.6312 - precision_3: 0.5864 - recall_3: 0.7811 - f1_score: 0.6734 - val_loss: 0.6773 - val_accuracy: 0.6054 - val_auc_3: 0.6175 - val_precision_3: 0.5353 - val_recall_3: 0.7913 - val_f1_score: 0.6117 - 1s/epoch - 85ms/step\n",
      "Epoch 20/50\n",
      "17/17 - 1s - loss: 0.6646 - accuracy: 0.5920 - auc_3: 0.6291 - precision_3: 0.5802 - recall_3: 0.7094 - f1_score: 0.6734 - val_loss: 0.6747 - val_accuracy: 0.5747 - val_auc_3: 0.6027 - val_precision_3: 0.5137 - val_recall_3: 0.6522 - val_f1_score: 0.6117 - 1s/epoch - 83ms/step\n",
      "Epoch 21/50\n",
      "17/17 - 1s - loss: 0.6644 - accuracy: 0.6034 - auc_3: 0.6271 - precision_3: 0.5890 - recall_3: 0.7245 - f1_score: 0.6734 - val_loss: 0.6728 - val_accuracy: 0.5785 - val_auc_3: 0.6363 - val_precision_3: 0.5155 - val_recall_3: 0.7217 - val_f1_score: 0.6117 - 1s/epoch - 83ms/step\n",
      "Epoch 22/50\n",
      "17/17 - 1s - loss: 0.6633 - accuracy: 0.5958 - auc_3: 0.6314 - precision_3: 0.5833 - recall_3: 0.7132 - f1_score: 0.6734 - val_loss: 0.6709 - val_accuracy: 0.5939 - val_auc_3: 0.6372 - val_precision_3: 0.5302 - val_recall_3: 0.6870 - val_f1_score: 0.6117 - 1s/epoch - 82ms/step\n",
      "Epoch 23/50\n",
      "17/17 - 1s - loss: 0.6612 - accuracy: 0.6092 - auc_3: 0.6376 - precision_3: 0.6000 - recall_3: 0.6906 - f1_score: 0.6734 - val_loss: 0.6753 - val_accuracy: 0.5632 - val_auc_3: 0.6083 - val_precision_3: 0.5032 - val_recall_3: 0.6783 - val_f1_score: 0.6117 - 1s/epoch - 82ms/step\n",
      "Epoch 24/50\n",
      "17/17 - 1s - loss: 0.6601 - accuracy: 0.6073 - auc_3: 0.6357 - precision_3: 0.5882 - recall_3: 0.7547 - f1_score: 0.6734 - val_loss: 0.6790 - val_accuracy: 0.5441 - val_auc_3: 0.6185 - val_precision_3: 0.4882 - val_recall_3: 0.7217 - val_f1_score: 0.6117 - 1s/epoch - 84ms/step\n",
      "Epoch 25/50\n",
      "17/17 - 1s - loss: 0.6635 - accuracy: 0.6092 - auc_3: 0.6250 - precision_3: 0.5845 - recall_3: 0.7962 - f1_score: 0.6734 - val_loss: 0.6818 - val_accuracy: 0.5556 - val_auc_3: 0.6011 - val_precision_3: 0.4971 - val_recall_3: 0.7391 - val_f1_score: 0.6117 - 1s/epoch - 81ms/step\n",
      "Epoch 26/50\n",
      "17/17 - 1s - loss: 0.6653 - accuracy: 0.5996 - auc_3: 0.6220 - precision_3: 0.5782 - recall_3: 0.7811 - f1_score: 0.6734 - val_loss: 0.6827 - val_accuracy: 0.5670 - val_auc_3: 0.6103 - val_precision_3: 0.5056 - val_recall_3: 0.7826 - val_f1_score: 0.6117 - 1s/epoch - 81ms/step\n",
      "Epoch 27/50\n",
      "17/17 - 1s - loss: 0.6654 - accuracy: 0.6073 - auc_3: 0.6234 - precision_3: 0.5829 - recall_3: 0.7962 - f1_score: 0.6734 - val_loss: 0.6814 - val_accuracy: 0.5556 - val_auc_3: 0.6076 - val_precision_3: 0.4970 - val_recall_3: 0.7304 - val_f1_score: 0.6117 - 1s/epoch - 84ms/step\n",
      "Epoch 28/50\n",
      "17/17 - 1s - loss: 0.6645 - accuracy: 0.5996 - auc_3: 0.6274 - precision_3: 0.5854 - recall_3: 0.7245 - f1_score: 0.6734 - val_loss: 0.6796 - val_accuracy: 0.5402 - val_auc_3: 0.6018 - val_precision_3: 0.4841 - val_recall_3: 0.6609 - val_f1_score: 0.6117 - 1s/epoch - 80ms/step\n",
      "Epoch 29/50\n",
      "17/17 - 2s - loss: 0.6640 - accuracy: 0.5900 - auc_3: 0.6341 - precision_3: 0.5766 - recall_3: 0.7245 - f1_score: 0.6734 - val_loss: 0.6798 - val_accuracy: 0.5556 - val_auc_3: 0.6116 - val_precision_3: 0.4970 - val_recall_3: 0.7217 - val_f1_score: 0.6117 - 2s/epoch - 92ms/step\n",
      "Epoch 30/50\n",
      "17/17 - 1s - loss: 0.6615 - accuracy: 0.5900 - auc_3: 0.6440 - precision_3: 0.5757 - recall_3: 0.7321 - f1_score: 0.6734 - val_loss: 0.6777 - val_accuracy: 0.5594 - val_auc_3: 0.6210 - val_precision_3: 0.5000 - val_recall_3: 0.7304 - val_f1_score: 0.6117 - 1s/epoch - 86ms/step\n",
      "Epoch 31/50\n",
      "17/17 - 2s - loss: 0.6609 - accuracy: 0.5996 - auc_3: 0.6458 - precision_3: 0.5859 - recall_3: 0.7208 - f1_score: 0.6734 - val_loss: 0.6758 - val_accuracy: 0.5709 - val_auc_3: 0.6178 - val_precision_3: 0.5101 - val_recall_3: 0.6609 - val_f1_score: 0.6117 - 2s/epoch - 102ms/step\n",
      "Epoch 32/50\n",
      "17/17 - 2s - loss: 0.6605 - accuracy: 0.5958 - auc_3: 0.6477 - precision_3: 0.5865 - recall_3: 0.6906 - f1_score: 0.6734 - val_loss: 0.6761 - val_accuracy: 0.5556 - val_auc_3: 0.6098 - val_precision_3: 0.4967 - val_recall_3: 0.6609 - val_f1_score: 0.6117 - 2s/epoch - 92ms/step\n",
      "Epoch 33/50\n",
      "17/17 - 2s - loss: 0.6599 - accuracy: 0.5920 - auc_3: 0.6498 - precision_3: 0.5802 - recall_3: 0.7094 - f1_score: 0.6734 - val_loss: 0.6772 - val_accuracy: 0.5632 - val_auc_3: 0.6155 - val_precision_3: 0.5031 - val_recall_3: 0.7043 - val_f1_score: 0.6117 - 2s/epoch - 90ms/step\n",
      "Epoch 34/50\n",
      "17/17 - 2s - loss: 0.6592 - accuracy: 0.5900 - auc_3: 0.6565 - precision_3: 0.5780 - recall_3: 0.7132 - f1_score: 0.6734 - val_loss: 0.6768 - val_accuracy: 0.5632 - val_auc_3: 0.6147 - val_precision_3: 0.5031 - val_recall_3: 0.7043 - val_f1_score: 0.6117 - 2s/epoch - 95ms/step\n",
      "Epoch 35/50\n",
      "17/17 - 2s - loss: 0.6586 - accuracy: 0.5996 - auc_3: 0.6539 - precision_3: 0.5848 - recall_3: 0.7283 - f1_score: 0.6734 - val_loss: 0.6760 - val_accuracy: 0.5670 - val_auc_3: 0.6212 - val_precision_3: 0.5061 - val_recall_3: 0.7217 - val_f1_score: 0.6117 - 2s/epoch - 99ms/step\n",
      "Epoch 36/50\n",
      "17/17 - 2s - loss: 0.6594 - accuracy: 0.5939 - auc_3: 0.6493 - precision_3: 0.5852 - recall_3: 0.6868 - f1_score: 0.6734 - val_loss: 0.6747 - val_accuracy: 0.5517 - val_auc_3: 0.6174 - val_precision_3: 0.4937 - val_recall_3: 0.6783 - val_f1_score: 0.6117 - 2s/epoch - 91ms/step\n",
      "Epoch 37/50\n",
      "17/17 - 1s - loss: 0.6578 - accuracy: 0.6015 - auc_3: 0.6542 - precision_3: 0.5916 - recall_3: 0.6943 - f1_score: 0.6734 - val_loss: 0.6755 - val_accuracy: 0.5632 - val_auc_3: 0.6137 - val_precision_3: 0.5032 - val_recall_3: 0.6783 - val_f1_score: 0.6117 - 1s/epoch - 81ms/step\n",
      "Epoch 38/50\n",
      "17/17 - 1s - loss: 0.6566 - accuracy: 0.6073 - auc_3: 0.6577 - precision_3: 0.5938 - recall_3: 0.7170 - f1_score: 0.6734 - val_loss: 0.6723 - val_accuracy: 0.5785 - val_auc_3: 0.6399 - val_precision_3: 0.5150 - val_recall_3: 0.7478 - val_f1_score: 0.6117 - 1s/epoch - 83ms/step\n",
      "Epoch 39/50\n",
      "17/17 - 2s - loss: 0.6560 - accuracy: 0.6149 - auc_3: 0.6575 - precision_3: 0.5958 - recall_3: 0.7509 - f1_score: 0.6734 - val_loss: 0.6763 - val_accuracy: 0.5556 - val_auc_3: 0.6286 - val_precision_3: 0.4970 - val_recall_3: 0.7304 - val_f1_score: 0.6117 - 2s/epoch - 94ms/step\n",
      "Epoch 40/50\n",
      "17/17 - 2s - loss: 0.6544 - accuracy: 0.6092 - auc_3: 0.6597 - precision_3: 0.5950 - recall_3: 0.7208 - f1_score: 0.6734 - val_loss: 0.6729 - val_accuracy: 0.5709 - val_auc_3: 0.6257 - val_precision_3: 0.5094 - val_recall_3: 0.7043 - val_f1_score: 0.6117 - 2s/epoch - 89ms/step\n",
      "Epoch 41/50\n",
      "17/17 - 1s - loss: 0.6573 - accuracy: 0.6015 - auc_3: 0.6572 - precision_3: 0.5866 - recall_3: 0.7283 - f1_score: 0.6734 - val_loss: 0.6738 - val_accuracy: 0.5670 - val_auc_3: 0.6251 - val_precision_3: 0.5061 - val_recall_3: 0.7217 - val_f1_score: 0.6117 - 1s/epoch - 88ms/step\n",
      "Epoch 42/50\n",
      "17/17 - 1s - loss: 0.6551 - accuracy: 0.5958 - auc_3: 0.6607 - precision_3: 0.5808 - recall_3: 0.7321 - f1_score: 0.6734 - val_loss: 0.6716 - val_accuracy: 0.5594 - val_auc_3: 0.6307 - val_precision_3: 0.5000 - val_recall_3: 0.7130 - val_f1_score: 0.6117 - 1s/epoch - 86ms/step\n",
      "Epoch 43/50\n",
      "17/17 - 2s - loss: 0.6545 - accuracy: 0.6169 - auc_3: 0.6619 - precision_3: 0.5953 - recall_3: 0.7660 - f1_score: 0.6734 - val_loss: 0.6720 - val_accuracy: 0.5747 - val_auc_3: 0.6418 - val_precision_3: 0.5120 - val_recall_3: 0.7391 - val_f1_score: 0.6117 - 2s/epoch - 100ms/step\n",
      "Epoch 44/50\n",
      "17/17 - 2s - loss: 0.6546 - accuracy: 0.6188 - auc_3: 0.6571 - precision_3: 0.6044 - recall_3: 0.7208 - f1_score: 0.6734 - val_loss: 0.6691 - val_accuracy: 0.5977 - val_auc_3: 0.6333 - val_precision_3: 0.5325 - val_recall_3: 0.7130 - val_f1_score: 0.6117 - 2s/epoch - 98ms/step\n",
      "Epoch 45/50\n",
      "17/17 - 1s - loss: 0.6538 - accuracy: 0.6264 - auc_3: 0.6624 - precision_3: 0.6232 - recall_3: 0.6679 - f1_score: 0.6734 - val_loss: 0.6717 - val_accuracy: 0.5862 - val_auc_3: 0.6156 - val_precision_3: 0.5241 - val_recall_3: 0.6609 - val_f1_score: 0.6117 - 1s/epoch - 84ms/step\n",
      "Epoch 46/50\n",
      "17/17 - 1s - loss: 0.6538 - accuracy: 0.6130 - auc_3: 0.6622 - precision_3: 0.5987 - recall_3: 0.7208 - f1_score: 0.6734 - val_loss: 0.6738 - val_accuracy: 0.5824 - val_auc_3: 0.6236 - val_precision_3: 0.5188 - val_recall_3: 0.7217 - val_f1_score: 0.6117 - 1s/epoch - 86ms/step\n",
      "Epoch 47/50\n",
      "17/17 - 1s - loss: 0.6513 - accuracy: 0.6092 - auc_3: 0.6695 - precision_3: 0.6027 - recall_3: 0.6755 - f1_score: 0.6734 - val_loss: 0.6702 - val_accuracy: 0.6092 - val_auc_3: 0.6217 - val_precision_3: 0.5448 - val_recall_3: 0.6870 - val_f1_score: 0.6117 - 1s/epoch - 86ms/step\n",
      "Epoch 48/50\n",
      "17/17 - 1s - loss: 0.6535 - accuracy: 0.6130 - auc_3: 0.6588 - precision_3: 0.6068 - recall_3: 0.6755 - f1_score: 0.6734 - val_loss: 0.6743 - val_accuracy: 0.5824 - val_auc_3: 0.6129 - val_precision_3: 0.5197 - val_recall_3: 0.6870 - val_f1_score: 0.6117 - 1s/epoch - 79ms/step\n",
      "Epoch 49/50\n",
      "17/17 - 1s - loss: 0.6515 - accuracy: 0.6149 - auc_3: 0.6645 - precision_3: 0.6074 - recall_3: 0.6830 - f1_score: 0.6734 - val_loss: 0.6710 - val_accuracy: 0.6015 - val_auc_3: 0.6299 - val_precision_3: 0.5359 - val_recall_3: 0.7130 - val_f1_score: 0.6117 - 1s/epoch - 85ms/step\n",
      "Epoch 50/50\n",
      "17/17 - 1s - loss: 0.6499 - accuracy: 0.6284 - auc_3: 0.6695 - precision_3: 0.6141 - recall_3: 0.7208 - f1_score: 0.6734 - val_loss: 0.6721 - val_accuracy: 0.5900 - val_auc_3: 0.6302 - val_precision_3: 0.5256 - val_recall_3: 0.7130 - val_f1_score: 0.6117 - 1s/epoch - 84ms/step\n"
     ]
    },
    {
     "data": {
      "image/png": "[encoded data removed]",
      "text/plain": [
       "<Figure size 432x288 with 1 Axes>"
      ]
     },
     "metadata": {
      "needs_background": "light"
     },
     "output_type": "display_data"
    }
   ],
   "source": [
    "for train_index, val_index in kf.split(X):\n",
    "    X_train, X_val = X[train_index], X[val_index]\n",
    "    y_train, y_val = y[train_index], y[val_index]\n",
    "    baseline_body_model = Baseline(n_features, n_length, n_outputs)\n",
    "    history = baseline_body_model.train(X_train, y_train, X_val, y_val, epochs, batch_size)\n",
    "    plt.plot(history.history['loss'])\n",
    "    plt.show()"
   ]
  },
  {
   "cell_type": "markdown",
   "metadata": {},
   "source": [
    "#### Predictions on the holdout set"
   ]
  },
  {
   "cell_type": "code",
   "execution_count": 7,
   "metadata": {},
   "outputs": [
    {
     "name": "stdout",
     "output_type": "stream",
     "text": [
      "Accuracy: 67.15% \n",
      "ROC/AUC: 0.63 \n",
      "Precision: 0.88 \n",
      "Recall: 0.71 \n",
      "F1 score: 0.92\n"
     ]
    }
   ],
   "source": [
    "y_pred = baseline_body_model.predict(X_test)\n",
    "_, acc, auc, precision, recall, f1 = baseline_body_model.evaluate(X_test, y_test)\n",
    "results.append(round(auc, 2))\n",
    "print('Accuracy: {:.2f}% \\nROC/AUC: {:.2f} \\nPrecision: {:.2f} \\nRecall: {:.2f} \\nF1 score: {:.2f}'.format(acc * 100, auc, precision, recall, f1))"
   ]
  },
  {
   "cell_type": "markdown",
   "metadata": {},
   "source": [
    "## 2. Unimodal Face Modality (Action Units + Head Pose)"
   ]
  },
  {
   "cell_type": "markdown",
   "metadata": {},
   "source": [
    "### Dataset"
   ]
  },
  {
   "cell_type": "code",
   "execution_count": 8,
   "metadata": {},
   "outputs": [
    {
     "name": "stdout",
     "output_type": "stream",
     "text": [
      "(752, 350, 25) (752, 1)\n",
      "(268, 350, 25) (268, 1)\n"
     ]
    }
   ],
   "source": [
    "X_train, X_test, y_train, y_test = load_dataset('AUs', binary=True)\n",
    "X_train = X_train.reshape(X_train.shape[0], X_train.shape[2], X_train.shape[3])\n",
    "X_test = X_test.reshape(X_test.shape[0], X_test.shape[2], X_test.shape[3])\n",
    "X = X_train.copy()\n",
    "y = y_train.copy()\n",
    "\n",
    "print(X_train.shape, y_train.shape)\n",
    "print(X_test.shape, y_test.shape)\n",
    "\n",
    "n_length, n_features, n_outputs = X_train.shape[1], X_train.shape[-1], y_train.shape[1]"
   ]
  },
  {
   "cell_type": "code",
   "execution_count": 9,
   "metadata": {},
   "outputs": [
    {
     "name": "stdout",
     "output_type": "stream",
     "text": [
      "Model: \"model_4\"\n",
      "_________________________________________________________________\n",
      " Layer (type)                Output Shape              Param #   \n",
      "=================================================================\n",
      " input_5 (InputLayer)        [(None, 350, 25)]         0         \n",
      "                                                                 \n",
      " lstm_4 (LSTM)               (None, 50)                15200     \n",
      "                                                                 \n",
      " dense_8 (Dense)             (None, 50)                2550      \n",
      "                                                                 \n",
      " dense_9 (Dense)             (None, 1)                 51        \n",
      "                                                                 \n",
      "=================================================================\n",
      "Total params: 17,801\n",
      "Trainable params: 17,801\n",
      "Non-trainable params: 0\n",
      "_________________________________________________________________\n"
     ]
    }
   ],
   "source": [
    "model = Baseline(n_features, n_length, n_outputs)\n",
    "model.summary()"
   ]
  },
  {
   "cell_type": "markdown",
   "metadata": {},
   "source": [
    "### Baseline LSTM model"
   ]
  },
  {
   "cell_type": "code",
   "execution_count": 10,
   "metadata": {},
   "outputs": [
    {
     "name": "stdout",
     "output_type": "stream",
     "text": [
      "Epoch 1/50\n",
      "16/16 - 3s - loss: 0.7028 - accuracy: 0.5150 - auc_5: 0.4931 - precision_5: 0.4000 - recall_5: 0.0083 - f1_score: 0.6514 - val_loss: 0.6987 - val_accuracy: 0.5020 - val_auc_5: 0.5441 - val_precision_5: 0.3333 - val_recall_5: 0.0081 - val_f1_score: 0.6613 - 3s/epoch - 216ms/step\n",
      "Epoch 2/50\n",
      "16/16 - 1s - loss: 0.6962 - accuracy: 0.5090 - auc_5: 0.5306 - precision_5: 0.3333 - recall_5: 0.0165 - f1_score: 0.6514 - val_loss: 0.6938 - val_accuracy: 0.5020 - val_auc_5: 0.5445 - val_precision_5: 0.4000 - val_recall_5: 0.0161 - val_f1_score: 0.6613 - 1s/epoch - 81ms/step\n",
      "Epoch 3/50\n",
      "16/16 - 1s - loss: 0.6923 - accuracy: 0.5130 - auc_5: 0.5346 - precision_5: 0.4545 - recall_5: 0.0413 - f1_score: 0.6514 - val_loss: 0.6896 - val_accuracy: 0.5139 - val_auc_5: 0.5570 - val_precision_5: 0.5312 - val_recall_5: 0.1371 - val_f1_score: 0.6613 - 1s/epoch - 79ms/step\n",
      "Epoch 4/50\n",
      "16/16 - 1s - loss: 0.6880 - accuracy: 0.5070 - auc_5: 0.5619 - precision_5: 0.4510 - recall_5: 0.0950 - f1_score: 0.6514 - val_loss: 0.6869 - val_accuracy: 0.5299 - val_auc_5: 0.5809 - val_precision_5: 0.5625 - val_recall_5: 0.2177 - val_f1_score: 0.6613 - 1s/epoch - 80ms/step\n",
      "Epoch 5/50\n",
      "16/16 - 1s - loss: 0.6847 - accuracy: 0.5250 - auc_5: 0.5753 - precision_5: 0.5161 - recall_5: 0.2645 - f1_score: 0.6514 - val_loss: 0.6842 - val_accuracy: 0.5339 - val_auc_5: 0.5998 - val_precision_5: 0.5402 - val_recall_5: 0.3790 - val_f1_score: 0.6613 - 1s/epoch - 80ms/step\n",
      "Epoch 6/50\n",
      "16/16 - 1s - loss: 0.6824 - accuracy: 0.5329 - auc_5: 0.6148 - precision_5: 0.5238 - recall_5: 0.3636 - f1_score: 0.6514 - val_loss: 0.6822 - val_accuracy: 0.5458 - val_auc_5: 0.6059 - val_precision_5: 0.5500 - val_recall_5: 0.4435 - val_f1_score: 0.6613 - 1s/epoch - 82ms/step\n",
      "Epoch 7/50\n",
      "16/16 - 1s - loss: 0.6806 - accuracy: 0.5349 - auc_5: 0.6212 - precision_5: 0.5251 - recall_5: 0.3884 - f1_score: 0.6514 - val_loss: 0.6808 - val_accuracy: 0.5538 - val_auc_5: 0.6066 - val_precision_5: 0.5577 - val_recall_5: 0.4677 - val_f1_score: 0.6613 - 1s/epoch - 82ms/step\n",
      "Epoch 8/50\n",
      "16/16 - 1s - loss: 0.6792 - accuracy: 0.5369 - auc_5: 0.6274 - precision_5: 0.5272 - recall_5: 0.4008 - f1_score: 0.6514 - val_loss: 0.6791 - val_accuracy: 0.5538 - val_auc_5: 0.6233 - val_precision_5: 0.5577 - val_recall_5: 0.4677 - val_f1_score: 0.6613 - 1s/epoch - 80ms/step\n",
      "Epoch 9/50\n",
      "16/16 - 1s - loss: 0.6777 - accuracy: 0.5429 - auc_5: 0.6308 - precision_5: 0.5330 - recall_5: 0.4339 - f1_score: 0.6514 - val_loss: 0.6777 - val_accuracy: 0.5618 - val_auc_5: 0.6284 - val_precision_5: 0.5673 - val_recall_5: 0.4758 - val_f1_score: 0.6613 - 1s/epoch - 84ms/step\n",
      "Epoch 10/50\n",
      "16/16 - 1s - loss: 0.6767 - accuracy: 0.5449 - auc_5: 0.6326 - precision_5: 0.5402 - recall_5: 0.3884 - f1_score: 0.6514 - val_loss: 0.6766 - val_accuracy: 0.5618 - val_auc_5: 0.6327 - val_precision_5: 0.5686 - val_recall_5: 0.4677 - val_f1_score: 0.6613 - 1s/epoch - 82ms/step\n",
      "Epoch 11/50\n",
      "16/16 - 1s - loss: 0.6758 - accuracy: 0.5569 - auc_5: 0.6318 - precision_5: 0.5476 - recall_5: 0.4752 - f1_score: 0.6514 - val_loss: 0.6753 - val_accuracy: 0.5817 - val_auc_5: 0.6337 - val_precision_5: 0.5785 - val_recall_5: 0.5645 - val_f1_score: 0.6613 - 1s/epoch - 81ms/step\n",
      "Epoch 12/50\n",
      "16/16 - 1s - loss: 0.6743 - accuracy: 0.5629 - auc_5: 0.6386 - precision_5: 0.5516 - recall_5: 0.5083 - f1_score: 0.6514 - val_loss: 0.6746 - val_accuracy: 0.5777 - val_auc_5: 0.6301 - val_precision_5: 0.5738 - val_recall_5: 0.5645 - val_f1_score: 0.6613 - 1s/epoch - 82ms/step\n",
      "Epoch 13/50\n",
      "16/16 - 1s - loss: 0.6734 - accuracy: 0.5529 - auc_5: 0.6300 - precision_5: 0.5441 - recall_5: 0.4587 - f1_score: 0.6514 - val_loss: 0.6743 - val_accuracy: 0.5618 - val_auc_5: 0.6267 - val_precision_5: 0.5648 - val_recall_5: 0.4919 - val_f1_score: 0.6613 - 1s/epoch - 83ms/step\n",
      "Epoch 14/50\n",
      "16/16 - 1s - loss: 0.6724 - accuracy: 0.5689 - auc_5: 0.6350 - precision_5: 0.5596 - recall_5: 0.5041 - f1_score: 0.6514 - val_loss: 0.6733 - val_accuracy: 0.5777 - val_auc_5: 0.6306 - val_precision_5: 0.5726 - val_recall_5: 0.5726 - val_f1_score: 0.6613 - 1s/epoch - 83ms/step\n",
      "Epoch 15/50\n",
      "16/16 - 1s - loss: 0.6713 - accuracy: 0.5749 - auc_5: 0.6445 - precision_5: 0.5633 - recall_5: 0.5331 - f1_score: 0.6514 - val_loss: 0.6722 - val_accuracy: 0.5896 - val_auc_5: 0.6322 - val_precision_5: 0.5854 - val_recall_5: 0.5806 - val_f1_score: 0.6613 - 1s/epoch - 83ms/step\n",
      "Epoch 16/50\n",
      "16/16 - 1s - loss: 0.6705 - accuracy: 0.5848 - auc_5: 0.6364 - precision_5: 0.5702 - recall_5: 0.5702 - f1_score: 0.6514 - val_loss: 0.6714 - val_accuracy: 0.6016 - val_auc_5: 0.6303 - val_precision_5: 0.5923 - val_recall_5: 0.6210 - val_f1_score: 0.6613 - 1s/epoch - 80ms/step\n",
      "Epoch 17/50\n",
      "16/16 - 1s - loss: 0.6697 - accuracy: 0.5848 - auc_5: 0.6452 - precision_5: 0.5708 - recall_5: 0.5661 - f1_score: 0.6514 - val_loss: 0.6710 - val_accuracy: 0.5936 - val_auc_5: 0.6354 - val_precision_5: 0.5873 - val_recall_5: 0.5968 - val_f1_score: 0.6613 - 1s/epoch - 80ms/step\n",
      "Epoch 18/50\n",
      "16/16 - 1s - loss: 0.6689 - accuracy: 0.5848 - auc_5: 0.6402 - precision_5: 0.5702 - recall_5: 0.5702 - f1_score: 0.6514 - val_loss: 0.6699 - val_accuracy: 0.6016 - val_auc_5: 0.6319 - val_precision_5: 0.5938 - val_recall_5: 0.6129 - val_f1_score: 0.6613 - 1s/epoch - 78ms/step\n",
      "Epoch 19/50\n",
      "16/16 - 1s - loss: 0.6675 - accuracy: 0.5888 - auc_5: 0.6459 - precision_5: 0.5738 - recall_5: 0.5785 - f1_score: 0.6514 - val_loss: 0.6697 - val_accuracy: 0.6016 - val_auc_5: 0.6361 - val_precision_5: 0.5952 - val_recall_5: 0.6048 - val_f1_score: 0.6613 - 1s/epoch - 79ms/step\n",
      "Epoch 20/50\n",
      "16/16 - 1s - loss: 0.6674 - accuracy: 0.5908 - auc_5: 0.6430 - precision_5: 0.5768 - recall_5: 0.5744 - f1_score: 0.6514 - val_loss: 0.6690 - val_accuracy: 0.5976 - val_auc_5: 0.6388 - val_precision_5: 0.5920 - val_recall_5: 0.5968 - val_f1_score: 0.6613 - 1s/epoch - 82ms/step\n",
      "Epoch 21/50\n",
      "16/16 - 1s - loss: 0.6653 - accuracy: 0.5888 - auc_5: 0.6511 - precision_5: 0.5750 - recall_5: 0.5702 - f1_score: 0.6514 - val_loss: 0.6698 - val_accuracy: 0.5936 - val_auc_5: 0.6342 - val_precision_5: 0.5887 - val_recall_5: 0.5887 - val_f1_score: 0.6613 - 1s/epoch - 81ms/step\n",
      "Epoch 22/50\n",
      "16/16 - 1s - loss: 0.6644 - accuracy: 0.5888 - auc_5: 0.6509 - precision_5: 0.5750 - recall_5: 0.5702 - f1_score: 0.6514 - val_loss: 0.6699 - val_accuracy: 0.5936 - val_auc_5: 0.6291 - val_precision_5: 0.5887 - val_recall_5: 0.5887 - val_f1_score: 0.6613 - 1s/epoch - 80ms/step\n",
      "Epoch 23/50\n",
      "16/16 - 1s - loss: 0.6640 - accuracy: 0.5868 - auc_5: 0.6514 - precision_5: 0.5745 - recall_5: 0.5579 - f1_score: 0.6514 - val_loss: 0.6690 - val_accuracy: 0.5896 - val_auc_5: 0.6307 - val_precision_5: 0.5854 - val_recall_5: 0.5806 - val_f1_score: 0.6613 - 1s/epoch - 82ms/step\n",
      "Epoch 24/50\n",
      "16/16 - 1s - loss: 0.6630 - accuracy: 0.5928 - auc_5: 0.6553 - precision_5: 0.5798 - recall_5: 0.5702 - f1_score: 0.6514 - val_loss: 0.6684 - val_accuracy: 0.5936 - val_auc_5: 0.6321 - val_precision_5: 0.5887 - val_recall_5: 0.5887 - val_f1_score: 0.6613 - 1s/epoch - 79ms/step\n",
      "Epoch 25/50\n",
      "16/16 - 1s - loss: 0.6626 - accuracy: 0.5908 - auc_5: 0.6525 - precision_5: 0.5774 - recall_5: 0.5702 - f1_score: 0.6514 - val_loss: 0.6681 - val_accuracy: 0.5976 - val_auc_5: 0.6334 - val_precision_5: 0.5920 - val_recall_5: 0.5968 - val_f1_score: 0.6613 - 1s/epoch - 81ms/step\n",
      "Epoch 26/50\n",
      "16/16 - 1s - loss: 0.6621 - accuracy: 0.5948 - auc_5: 0.6563 - precision_5: 0.5823 - recall_5: 0.5702 - f1_score: 0.6514 - val_loss: 0.6676 - val_accuracy: 0.5936 - val_auc_5: 0.6324 - val_precision_5: 0.5887 - val_recall_5: 0.5887 - val_f1_score: 0.6613 - 1s/epoch - 83ms/step\n",
      "Epoch 27/50\n",
      "16/16 - 1s - loss: 0.6620 - accuracy: 0.5928 - auc_5: 0.6487 - precision_5: 0.5785 - recall_5: 0.5785 - f1_score: 0.6514 - val_loss: 0.6674 - val_accuracy: 0.5976 - val_auc_5: 0.6343 - val_precision_5: 0.5920 - val_recall_5: 0.5968 - val_f1_score: 0.6613 - 1s/epoch - 83ms/step\n",
      "Epoch 28/50\n",
      "16/16 - 1s - loss: 0.6609 - accuracy: 0.5968 - auc_5: 0.6551 - precision_5: 0.5840 - recall_5: 0.5744 - f1_score: 0.6514 - val_loss: 0.6669 - val_accuracy: 0.5976 - val_auc_5: 0.6298 - val_precision_5: 0.5920 - val_recall_5: 0.5968 - val_f1_score: 0.6613 - 1s/epoch - 82ms/step\n",
      "Epoch 29/50\n",
      "16/16 - 1s - loss: 0.6607 - accuracy: 0.6108 - auc_5: 0.6522 - precision_5: 0.5951 - recall_5: 0.6074 - f1_score: 0.6514 - val_loss: 0.6668 - val_accuracy: 0.6175 - val_auc_5: 0.6342 - val_precision_5: 0.6077 - val_recall_5: 0.6371 - val_f1_score: 0.6613 - 1s/epoch - 84ms/step\n",
      "Epoch 30/50\n",
      "16/16 - 1s - loss: 0.6603 - accuracy: 0.6048 - auc_5: 0.6549 - precision_5: 0.5902 - recall_5: 0.5950 - f1_score: 0.6514 - val_loss: 0.6672 - val_accuracy: 0.5936 - val_auc_5: 0.6293 - val_precision_5: 0.5887 - val_recall_5: 0.5887 - val_f1_score: 0.6613 - 1s/epoch - 84ms/step\n",
      "Epoch 31/50\n",
      "16/16 - 1s - loss: 0.6597 - accuracy: 0.6048 - auc_5: 0.6567 - precision_5: 0.5894 - recall_5: 0.5992 - f1_score: 0.6514 - val_loss: 0.6668 - val_accuracy: 0.6096 - val_auc_5: 0.6306 - val_precision_5: 0.6016 - val_recall_5: 0.6210 - val_f1_score: 0.6613 - 1s/epoch - 80ms/step\n",
      "Epoch 32/50\n",
      "16/16 - 1s - loss: 0.6591 - accuracy: 0.6168 - auc_5: 0.6592 - precision_5: 0.6000 - recall_5: 0.6198 - f1_score: 0.6514 - val_loss: 0.6661 - val_accuracy: 0.6135 - val_auc_5: 0.6320 - val_precision_5: 0.6047 - val_recall_5: 0.6290 - val_f1_score: 0.6613 - 1s/epoch - 81ms/step\n",
      "Epoch 33/50\n",
      "16/16 - 1s - loss: 0.6593 - accuracy: 0.6028 - auc_5: 0.6515 - precision_5: 0.5892 - recall_5: 0.5868 - f1_score: 0.6514 - val_loss: 0.6661 - val_accuracy: 0.6096 - val_auc_5: 0.6336 - val_precision_5: 0.6032 - val_recall_5: 0.6129 - val_f1_score: 0.6613 - 1s/epoch - 85ms/step\n",
      "Epoch 34/50\n",
      "16/16 - 1s - loss: 0.6587 - accuracy: 0.6088 - auc_5: 0.6540 - precision_5: 0.5943 - recall_5: 0.5992 - f1_score: 0.6514 - val_loss: 0.6655 - val_accuracy: 0.6096 - val_auc_5: 0.6339 - val_precision_5: 0.6032 - val_recall_5: 0.6129 - val_f1_score: 0.6613 - 1s/epoch - 82ms/step\n",
      "Epoch 35/50\n",
      "16/16 - 1s - loss: 0.6581 - accuracy: 0.6148 - auc_5: 0.6560 - precision_5: 0.5984 - recall_5: 0.6157 - f1_score: 0.6514 - val_loss: 0.6653 - val_accuracy: 0.6215 - val_auc_5: 0.6319 - val_precision_5: 0.6124 - val_recall_5: 0.6371 - val_f1_score: 0.6613 - 1s/epoch - 81ms/step\n",
      "Epoch 36/50\n",
      "16/16 - 1s - loss: 0.6582 - accuracy: 0.6188 - auc_5: 0.6598 - precision_5: 0.6000 - recall_5: 0.6322 - f1_score: 0.6514 - val_loss: 0.6646 - val_accuracy: 0.6255 - val_auc_5: 0.6338 - val_precision_5: 0.6154 - val_recall_5: 0.6452 - val_f1_score: 0.6613 - 1s/epoch - 83ms/step\n",
      "Epoch 37/50\n",
      "16/16 - 1s - loss: 0.6586 - accuracy: 0.6168 - auc_5: 0.6553 - precision_5: 0.6000 - recall_5: 0.6198 - f1_score: 0.6514 - val_loss: 0.6652 - val_accuracy: 0.6135 - val_auc_5: 0.6353 - val_precision_5: 0.6063 - val_recall_5: 0.6210 - val_f1_score: 0.6613 - 1s/epoch - 85ms/step\n",
      "Epoch 38/50\n",
      "16/16 - 1s - loss: 0.6573 - accuracy: 0.6168 - auc_5: 0.6597 - precision_5: 0.6000 - recall_5: 0.6198 - f1_score: 0.6514 - val_loss: 0.6647 - val_accuracy: 0.6215 - val_auc_5: 0.6326 - val_precision_5: 0.6124 - val_recall_5: 0.6371 - val_f1_score: 0.6613 - 1s/epoch - 82ms/step\n",
      "Epoch 39/50\n",
      "16/16 - 1s - loss: 0.6569 - accuracy: 0.6228 - auc_5: 0.6617 - precision_5: 0.6047 - recall_5: 0.6322 - f1_score: 0.6514 - val_loss: 0.6645 - val_accuracy: 0.6215 - val_auc_5: 0.6355 - val_precision_5: 0.6124 - val_recall_5: 0.6371 - val_f1_score: 0.6613 - 1s/epoch - 84ms/step\n",
      "Epoch 40/50\n",
      "16/16 - 1s - loss: 0.6566 - accuracy: 0.6208 - auc_5: 0.6633 - precision_5: 0.6032 - recall_5: 0.6281 - f1_score: 0.6514 - val_loss: 0.6643 - val_accuracy: 0.6255 - val_auc_5: 0.6394 - val_precision_5: 0.6154 - val_recall_5: 0.6452 - val_f1_score: 0.6613 - 1s/epoch - 83ms/step\n",
      "Epoch 41/50\n",
      "16/16 - 1s - loss: 0.6561 - accuracy: 0.6208 - auc_5: 0.6617 - precision_5: 0.6032 - recall_5: 0.6281 - f1_score: 0.6514 - val_loss: 0.6643 - val_accuracy: 0.6255 - val_auc_5: 0.6398 - val_precision_5: 0.6154 - val_recall_5: 0.6452 - val_f1_score: 0.6613 - 1s/epoch - 81ms/step\n",
      "Epoch 42/50\n",
      "16/16 - 1s - loss: 0.6559 - accuracy: 0.6208 - auc_5: 0.6604 - precision_5: 0.6032 - recall_5: 0.6281 - f1_score: 0.6514 - val_loss: 0.6639 - val_accuracy: 0.6255 - val_auc_5: 0.6399 - val_precision_5: 0.6154 - val_recall_5: 0.6452 - val_f1_score: 0.6613 - 1s/epoch - 84ms/step\n",
      "Epoch 43/50\n",
      "16/16 - 1s - loss: 0.6557 - accuracy: 0.6208 - auc_5: 0.6629 - precision_5: 0.6040 - recall_5: 0.6240 - f1_score: 0.6514 - val_loss: 0.6638 - val_accuracy: 0.6215 - val_auc_5: 0.6386 - val_precision_5: 0.6124 - val_recall_5: 0.6371 - val_f1_score: 0.6613 - 1s/epoch - 81ms/step\n",
      "Epoch 44/50\n",
      "16/16 - 1s - loss: 0.6558 - accuracy: 0.6188 - auc_5: 0.6585 - precision_5: 0.6024 - recall_5: 0.6198 - f1_score: 0.6514 - val_loss: 0.6640 - val_accuracy: 0.6175 - val_auc_5: 0.6365 - val_precision_5: 0.6094 - val_recall_5: 0.6290 - val_f1_score: 0.6613 - 1s/epoch - 82ms/step\n",
      "Epoch 45/50\n",
      "16/16 - 1s - loss: 0.6553 - accuracy: 0.6208 - auc_5: 0.6677 - precision_5: 0.6040 - recall_5: 0.6240 - f1_score: 0.6514 - val_loss: 0.6636 - val_accuracy: 0.6255 - val_auc_5: 0.6378 - val_precision_5: 0.6154 - val_recall_5: 0.6452 - val_f1_score: 0.6613 - 1s/epoch - 82ms/step\n",
      "Epoch 46/50\n",
      "16/16 - 1s - loss: 0.6553 - accuracy: 0.6168 - auc_5: 0.6615 - precision_5: 0.6008 - recall_5: 0.6157 - f1_score: 0.6514 - val_loss: 0.6635 - val_accuracy: 0.6215 - val_auc_5: 0.6400 - val_precision_5: 0.6142 - val_recall_5: 0.6290 - val_f1_score: 0.6613 - 1s/epoch - 82ms/step\n",
      "Epoch 47/50\n",
      "16/16 - 1s - loss: 0.6546 - accuracy: 0.6208 - auc_5: 0.6611 - precision_5: 0.6032 - recall_5: 0.6281 - f1_score: 0.6514 - val_loss: 0.6634 - val_accuracy: 0.6255 - val_auc_5: 0.6354 - val_precision_5: 0.6154 - val_recall_5: 0.6452 - val_f1_score: 0.6613 - 1s/epoch - 83ms/step\n",
      "Epoch 48/50\n",
      "16/16 - 1s - loss: 0.6541 - accuracy: 0.6248 - auc_5: 0.6627 - precision_5: 0.6071 - recall_5: 0.6322 - f1_score: 0.6514 - val_loss: 0.6631 - val_accuracy: 0.6255 - val_auc_5: 0.6358 - val_precision_5: 0.6154 - val_recall_5: 0.6452 - val_f1_score: 0.6613 - 1s/epoch - 81ms/step\n",
      "Epoch 49/50\n",
      "16/16 - 2s - loss: 0.6539 - accuracy: 0.6248 - auc_5: 0.6637 - precision_5: 0.6071 - recall_5: 0.6322 - f1_score: 0.6514 - val_loss: 0.6630 - val_accuracy: 0.6215 - val_auc_5: 0.6433 - val_precision_5: 0.6124 - val_recall_5: 0.6371 - val_f1_score: 0.6613 - 2s/epoch - 95ms/step\n",
      "Epoch 50/50\n",
      "16/16 - 1s - loss: 0.6540 - accuracy: 0.6168 - auc_5: 0.6611 - precision_5: 0.6008 - recall_5: 0.6157 - f1_score: 0.6514 - val_loss: 0.6633 - val_accuracy: 0.6175 - val_auc_5: 0.6384 - val_precision_5: 0.6094 - val_recall_5: 0.6290 - val_f1_score: 0.6613 - 1s/epoch - 80ms/step\n"
     ]
    },
    {
     "data": {
      "image/png": "[encoded data removed]",
      "text/plain": [
       "<Figure size 432x288 with 1 Axes>"
      ]
     },
     "metadata": {
      "needs_background": "light"
     },
     "output_type": "display_data"
    },
    {
     "name": "stdout",
     "output_type": "stream",
     "text": [
      "Epoch 1/50\n",
      "16/16 - 3s - loss: 0.7137 - accuracy: 0.5230 - auc_6: 0.4835 - precision_6: 0.6429 - recall_6: 0.0370 - f1_score: 0.6532 - val_loss: 0.7198 - val_accuracy: 0.5020 - val_auc_6: 0.3861 - val_precision_6: 0.4286 - val_recall_6: 0.0488 - val_f1_score: 0.6578 - 3s/epoch - 205ms/step\n",
      "Epoch 2/50\n",
      "16/16 - 1s - loss: 0.7002 - accuracy: 0.5369 - auc_6: 0.4852 - precision_6: 0.6774 - recall_6: 0.0864 - f1_score: 0.6532 - val_loss: 0.7106 - val_accuracy: 0.5219 - val_auc_6: 0.3876 - val_precision_6: 0.5789 - val_recall_6: 0.0894 - val_f1_score: 0.6578 - 1s/epoch - 81ms/step\n",
      "Epoch 3/50\n",
      "16/16 - 2s - loss: 0.6938 - accuracy: 0.5409 - auc_6: 0.4873 - precision_6: 0.6327 - recall_6: 0.1276 - f1_score: 0.6532 - val_loss: 0.7054 - val_accuracy: 0.5139 - val_auc_6: 0.3962 - val_precision_6: 0.5152 - val_recall_6: 0.1382 - val_f1_score: 0.6578 - 2s/epoch - 95ms/step\n",
      "Epoch 4/50\n",
      "16/16 - 1s - loss: 0.6894 - accuracy: 0.5569 - auc_6: 0.4927 - precision_6: 0.6105 - recall_6: 0.2387 - f1_score: 0.6532 - val_loss: 0.7034 - val_accuracy: 0.4900 - val_auc_6: 0.4490 - val_precision_6: 0.4468 - val_recall_6: 0.1707 - val_f1_score: 0.6578 - 1s/epoch - 81ms/step\n",
      "Epoch 5/50\n",
      "16/16 - 1s - loss: 0.6869 - accuracy: 0.5449 - auc_6: 0.5287 - precision_6: 0.5728 - recall_6: 0.2428 - f1_score: 0.6532 - val_loss: 0.7012 - val_accuracy: 0.4861 - val_auc_6: 0.4552 - val_precision_6: 0.4375 - val_recall_6: 0.1707 - val_f1_score: 0.6578 - 1s/epoch - 79ms/step\n",
      "Epoch 6/50\n",
      "16/16 - 1s - loss: 0.6847 - accuracy: 0.5469 - auc_6: 0.5658 - precision_6: 0.5755 - recall_6: 0.2510 - f1_score: 0.6532 - val_loss: 0.6995 - val_accuracy: 0.4861 - val_auc_6: 0.5221 - val_precision_6: 0.4375 - val_recall_6: 0.1707 - val_f1_score: 0.6578 - 1s/epoch - 86ms/step\n",
      "Epoch 7/50\n",
      "16/16 - 1s - loss: 0.6833 - accuracy: 0.5449 - auc_6: 0.5797 - precision_6: 0.5728 - recall_6: 0.2428 - f1_score: 0.6532 - val_loss: 0.6973 - val_accuracy: 0.4900 - val_auc_6: 0.5420 - val_precision_6: 0.4468 - val_recall_6: 0.1707 - val_f1_score: 0.6578 - 1s/epoch - 85ms/step\n",
      "Epoch 8/50\n",
      "16/16 - 1s - loss: 0.6810 - accuracy: 0.5469 - auc_6: 0.5996 - precision_6: 0.5755 - recall_6: 0.2510 - f1_score: 0.6532 - val_loss: 0.6954 - val_accuracy: 0.4861 - val_auc_6: 0.5590 - val_precision_6: 0.4375 - val_recall_6: 0.1707 - val_f1_score: 0.6578 - 1s/epoch - 91ms/step\n",
      "Epoch 9/50\n",
      "16/16 - 1s - loss: 0.6789 - accuracy: 0.5489 - auc_6: 0.6149 - precision_6: 0.5825 - recall_6: 0.2469 - f1_score: 0.6532 - val_loss: 0.6939 - val_accuracy: 0.4861 - val_auc_6: 0.5629 - val_precision_6: 0.4375 - val_recall_6: 0.1707 - val_f1_score: 0.6578 - 1s/epoch - 89ms/step\n",
      "Epoch 10/50\n",
      "16/16 - 2s - loss: 0.6774 - accuracy: 0.5429 - auc_6: 0.6187 - precision_6: 0.5636 - recall_6: 0.2551 - f1_score: 0.6532 - val_loss: 0.6924 - val_accuracy: 0.4861 - val_auc_6: 0.5601 - val_precision_6: 0.4400 - val_recall_6: 0.1789 - val_f1_score: 0.6578 - 2s/epoch - 95ms/step\n",
      "Epoch 11/50\n",
      "16/16 - 2s - loss: 0.6758 - accuracy: 0.5669 - auc_6: 0.6294 - precision_6: 0.5970 - recall_6: 0.3292 - f1_score: 0.6532 - val_loss: 0.6906 - val_accuracy: 0.5100 - val_auc_6: 0.5583 - val_precision_6: 0.5000 - val_recall_6: 0.2602 - val_f1_score: 0.6578 - 2s/epoch - 96ms/step\n",
      "Epoch 12/50\n",
      "16/16 - 1s - loss: 0.6743 - accuracy: 0.5828 - auc_6: 0.6318 - precision_6: 0.6197 - recall_6: 0.3621 - f1_score: 0.6532 - val_loss: 0.6898 - val_accuracy: 0.5259 - val_auc_6: 0.5755 - val_precision_6: 0.5294 - val_recall_6: 0.2927 - val_f1_score: 0.6578 - 1s/epoch - 92ms/step\n",
      "Epoch 13/50\n",
      "16/16 - 2s - loss: 0.6739 - accuracy: 0.5729 - auc_6: 0.6272 - precision_6: 0.6014 - recall_6: 0.3539 - f1_score: 0.6532 - val_loss: 0.6888 - val_accuracy: 0.5259 - val_auc_6: 0.5830 - val_precision_6: 0.5294 - val_recall_6: 0.2927 - val_f1_score: 0.6578 - 2s/epoch - 96ms/step\n",
      "Epoch 14/50\n",
      "16/16 - 1s - loss: 0.6724 - accuracy: 0.5788 - auc_6: 0.6397 - precision_6: 0.6111 - recall_6: 0.3621 - f1_score: 0.6532 - val_loss: 0.6885 - val_accuracy: 0.5339 - val_auc_6: 0.5786 - val_precision_6: 0.5417 - val_recall_6: 0.3171 - val_f1_score: 0.6578 - 1s/epoch - 90ms/step\n",
      "Epoch 15/50\n",
      "16/16 - 2s - loss: 0.6712 - accuracy: 0.5788 - auc_6: 0.6352 - precision_6: 0.6127 - recall_6: 0.3580 - f1_score: 0.6532 - val_loss: 0.6872 - val_accuracy: 0.5378 - val_auc_6: 0.5857 - val_precision_6: 0.5507 - val_recall_6: 0.3089 - val_f1_score: 0.6578 - 2s/epoch - 96ms/step\n",
      "Epoch 16/50\n",
      "16/16 - 2s - loss: 0.6693 - accuracy: 0.5788 - auc_6: 0.6382 - precision_6: 0.6111 - recall_6: 0.3621 - f1_score: 0.6532 - val_loss: 0.6860 - val_accuracy: 0.5418 - val_auc_6: 0.5903 - val_precision_6: 0.5556 - val_recall_6: 0.3252 - val_f1_score: 0.6578 - 2s/epoch - 97ms/step\n",
      "Epoch 17/50\n",
      "16/16 - 2s - loss: 0.6681 - accuracy: 0.5788 - auc_6: 0.6362 - precision_6: 0.6067 - recall_6: 0.3745 - f1_score: 0.6532 - val_loss: 0.6846 - val_accuracy: 0.5378 - val_auc_6: 0.5944 - val_precision_6: 0.5479 - val_recall_6: 0.3252 - val_f1_score: 0.6578 - 2s/epoch - 105ms/step\n",
      "Epoch 18/50\n",
      "16/16 - 1s - loss: 0.6667 - accuracy: 0.5788 - auc_6: 0.6391 - precision_6: 0.6096 - recall_6: 0.3663 - f1_score: 0.6532 - val_loss: 0.6838 - val_accuracy: 0.5458 - val_auc_6: 0.5966 - val_precision_6: 0.5634 - val_recall_6: 0.3252 - val_f1_score: 0.6578 - 1s/epoch - 87ms/step\n",
      "Epoch 19/50\n",
      "16/16 - 1s - loss: 0.6650 - accuracy: 0.5788 - auc_6: 0.6435 - precision_6: 0.6081 - recall_6: 0.3704 - f1_score: 0.6532 - val_loss: 0.6823 - val_accuracy: 0.5458 - val_auc_6: 0.6008 - val_precision_6: 0.5584 - val_recall_6: 0.3496 - val_f1_score: 0.6578 - 1s/epoch - 88ms/step\n",
      "Epoch 20/50\n",
      "16/16 - 2s - loss: 0.6641 - accuracy: 0.6108 - auc_6: 0.6488 - precision_6: 0.6319 - recall_6: 0.4733 - f1_score: 0.6532 - val_loss: 0.6809 - val_accuracy: 0.5857 - val_auc_6: 0.6044 - val_precision_6: 0.5941 - val_recall_6: 0.4878 - val_f1_score: 0.6578 - 2s/epoch - 104ms/step\n",
      "Epoch 21/50\n",
      "16/16 - 2s - loss: 0.6629 - accuracy: 0.6228 - auc_6: 0.6515 - precision_6: 0.6350 - recall_6: 0.5226 - f1_score: 0.6532 - val_loss: 0.6787 - val_accuracy: 0.5976 - val_auc_6: 0.6174 - val_precision_6: 0.6100 - val_recall_6: 0.4959 - val_f1_score: 0.6578 - 2s/epoch - 122ms/step\n",
      "Epoch 22/50\n",
      "16/16 - 1s - loss: 0.6611 - accuracy: 0.6267 - auc_6: 0.6542 - precision_6: 0.6333 - recall_6: 0.5473 - f1_score: 0.6532 - val_loss: 0.6766 - val_accuracy: 0.6096 - val_auc_6: 0.6239 - val_precision_6: 0.6190 - val_recall_6: 0.5285 - val_f1_score: 0.6578 - 1s/epoch - 85ms/step\n",
      "Epoch 23/50\n",
      "16/16 - 1s - loss: 0.6599 - accuracy: 0.6287 - auc_6: 0.6534 - precision_6: 0.6338 - recall_6: 0.5556 - f1_score: 0.6532 - val_loss: 0.6764 - val_accuracy: 0.5896 - val_auc_6: 0.6246 - val_precision_6: 0.6000 - val_recall_6: 0.4878 - val_f1_score: 0.6578 - 1s/epoch - 83ms/step\n",
      "Epoch 24/50\n",
      "16/16 - 1s - loss: 0.6585 - accuracy: 0.6307 - auc_6: 0.6640 - precision_6: 0.6422 - recall_6: 0.5391 - f1_score: 0.6532 - val_loss: 0.6754 - val_accuracy: 0.5936 - val_auc_6: 0.6253 - val_precision_6: 0.6019 - val_recall_6: 0.5041 - val_f1_score: 0.6578 - 1s/epoch - 84ms/step\n",
      "Epoch 25/50\n",
      "16/16 - 1s - loss: 0.6574 - accuracy: 0.6367 - auc_6: 0.6649 - precision_6: 0.6432 - recall_6: 0.5638 - f1_score: 0.6532 - val_loss: 0.6741 - val_accuracy: 0.6135 - val_auc_6: 0.6269 - val_precision_6: 0.6204 - val_recall_6: 0.5447 - val_f1_score: 0.6578 - 1s/epoch - 82ms/step\n",
      "Epoch 26/50\n",
      "16/16 - 1s - loss: 0.6563 - accuracy: 0.6387 - auc_6: 0.6659 - precision_6: 0.6422 - recall_6: 0.5761 - f1_score: 0.6532 - val_loss: 0.6735 - val_accuracy: 0.6135 - val_auc_6: 0.6223 - val_precision_6: 0.6204 - val_recall_6: 0.5447 - val_f1_score: 0.6578 - 1s/epoch - 82ms/step\n",
      "Epoch 27/50\n",
      "16/16 - 1s - loss: 0.6560 - accuracy: 0.6327 - auc_6: 0.6661 - precision_6: 0.6359 - recall_6: 0.5679 - f1_score: 0.6532 - val_loss: 0.6727 - val_accuracy: 0.6175 - val_auc_6: 0.6277 - val_precision_6: 0.6239 - val_recall_6: 0.5528 - val_f1_score: 0.6578 - 1s/epoch - 86ms/step\n",
      "Epoch 28/50\n",
      "16/16 - 1s - loss: 0.6543 - accuracy: 0.6347 - auc_6: 0.6664 - precision_6: 0.6376 - recall_6: 0.5720 - f1_score: 0.6532 - val_loss: 0.6724 - val_accuracy: 0.6175 - val_auc_6: 0.6282 - val_precision_6: 0.6239 - val_recall_6: 0.5528 - val_f1_score: 0.6578 - 1s/epoch - 83ms/step\n",
      "Epoch 29/50\n",
      "16/16 - 1s - loss: 0.6538 - accuracy: 0.6407 - auc_6: 0.6707 - precision_6: 0.6452 - recall_6: 0.5761 - f1_score: 0.6532 - val_loss: 0.6718 - val_accuracy: 0.6255 - val_auc_6: 0.6284 - val_precision_6: 0.6306 - val_recall_6: 0.5691 - val_f1_score: 0.6578 - 1s/epoch - 81ms/step\n",
      "Epoch 30/50\n",
      "16/16 - 1s - loss: 0.6535 - accuracy: 0.6387 - auc_6: 0.6747 - precision_6: 0.6476 - recall_6: 0.5597 - f1_score: 0.6532 - val_loss: 0.6710 - val_accuracy: 0.6255 - val_auc_6: 0.6305 - val_precision_6: 0.6306 - val_recall_6: 0.5691 - val_f1_score: 0.6578 - 1s/epoch - 81ms/step\n",
      "Epoch 31/50\n",
      "16/16 - 1s - loss: 0.6523 - accuracy: 0.6447 - auc_6: 0.6712 - precision_6: 0.6498 - recall_6: 0.5802 - f1_score: 0.6532 - val_loss: 0.6707 - val_accuracy: 0.6215 - val_auc_6: 0.6301 - val_precision_6: 0.6250 - val_recall_6: 0.5691 - val_f1_score: 0.6578 - 1s/epoch - 84ms/step\n",
      "Epoch 32/50\n",
      "16/16 - 1s - loss: 0.6518 - accuracy: 0.6387 - auc_6: 0.6708 - precision_6: 0.6409 - recall_6: 0.5802 - f1_score: 0.6532 - val_loss: 0.6700 - val_accuracy: 0.6335 - val_auc_6: 0.6325 - val_precision_6: 0.6348 - val_recall_6: 0.5935 - val_f1_score: 0.6578 - 1s/epoch - 82ms/step\n",
      "Epoch 33/50\n",
      "16/16 - 1s - loss: 0.6505 - accuracy: 0.6407 - auc_6: 0.6757 - precision_6: 0.6438 - recall_6: 0.5802 - f1_score: 0.6532 - val_loss: 0.6693 - val_accuracy: 0.6295 - val_auc_6: 0.6347 - val_precision_6: 0.6316 - val_recall_6: 0.5854 - val_f1_score: 0.6578 - 1s/epoch - 82ms/step\n",
      "Epoch 34/50\n",
      "16/16 - 1s - loss: 0.6499 - accuracy: 0.6447 - auc_6: 0.6782 - precision_6: 0.6512 - recall_6: 0.5761 - f1_score: 0.6532 - val_loss: 0.6679 - val_accuracy: 0.6215 - val_auc_6: 0.6391 - val_precision_6: 0.6250 - val_recall_6: 0.5691 - val_f1_score: 0.6578 - 1s/epoch - 84ms/step\n",
      "Epoch 35/50\n",
      "16/16 - 1s - loss: 0.6490 - accuracy: 0.6427 - auc_6: 0.6794 - precision_6: 0.6468 - recall_6: 0.5802 - f1_score: 0.6532 - val_loss: 0.6675 - val_accuracy: 0.6335 - val_auc_6: 0.6368 - val_precision_6: 0.6348 - val_recall_6: 0.5935 - val_f1_score: 0.6578 - 1s/epoch - 82ms/step\n",
      "Epoch 36/50\n",
      "16/16 - 1s - loss: 0.6488 - accuracy: 0.6367 - auc_6: 0.6775 - precision_6: 0.6393 - recall_6: 0.5761 - f1_score: 0.6532 - val_loss: 0.6674 - val_accuracy: 0.6255 - val_auc_6: 0.6404 - val_precision_6: 0.6306 - val_recall_6: 0.5691 - val_f1_score: 0.6578 - 1s/epoch - 82ms/step\n",
      "Epoch 37/50\n",
      "16/16 - 1s - loss: 0.6479 - accuracy: 0.6427 - auc_6: 0.6787 - precision_6: 0.6455 - recall_6: 0.5844 - f1_score: 0.6532 - val_loss: 0.6677 - val_accuracy: 0.6414 - val_auc_6: 0.6370 - val_precision_6: 0.6410 - val_recall_6: 0.6098 - val_f1_score: 0.6578 - 1s/epoch - 82ms/step\n",
      "Epoch 38/50\n",
      "16/16 - 1s - loss: 0.6478 - accuracy: 0.6407 - auc_6: 0.6783 - precision_6: 0.6425 - recall_6: 0.5844 - f1_score: 0.6532 - val_loss: 0.6663 - val_accuracy: 0.6414 - val_auc_6: 0.6401 - val_precision_6: 0.6387 - val_recall_6: 0.6179 - val_f1_score: 0.6578 - 1s/epoch - 83ms/step\n",
      "Epoch 39/50\n",
      "16/16 - 2s - loss: 0.6466 - accuracy: 0.6407 - auc_6: 0.6808 - precision_6: 0.6425 - recall_6: 0.5844 - f1_score: 0.6532 - val_loss: 0.6657 - val_accuracy: 0.6295 - val_auc_6: 0.6438 - val_precision_6: 0.6339 - val_recall_6: 0.5772 - val_f1_score: 0.6578 - 2s/epoch - 98ms/step\n",
      "Epoch 40/50\n",
      "16/16 - 2s - loss: 0.6469 - accuracy: 0.6387 - auc_6: 0.6720 - precision_6: 0.6435 - recall_6: 0.5720 - f1_score: 0.6532 - val_loss: 0.6659 - val_accuracy: 0.6215 - val_auc_6: 0.6466 - val_precision_6: 0.6250 - val_recall_6: 0.5691 - val_f1_score: 0.6578 - 2s/epoch - 98ms/step\n",
      "Epoch 41/50\n",
      "16/16 - 1s - loss: 0.6458 - accuracy: 0.6467 - auc_6: 0.6816 - precision_6: 0.6460 - recall_6: 0.6008 - f1_score: 0.6532 - val_loss: 0.6650 - val_accuracy: 0.6375 - val_auc_6: 0.6421 - val_precision_6: 0.6356 - val_recall_6: 0.6098 - val_f1_score: 0.6578 - 1s/epoch - 82ms/step\n",
      "Epoch 42/50\n",
      "16/16 - 1s - loss: 0.6454 - accuracy: 0.6467 - auc_6: 0.6814 - precision_6: 0.6473 - recall_6: 0.5967 - f1_score: 0.6532 - val_loss: 0.6652 - val_accuracy: 0.6414 - val_auc_6: 0.6422 - val_precision_6: 0.6387 - val_recall_6: 0.6179 - val_f1_score: 0.6578 - 1s/epoch - 82ms/step\n",
      "Epoch 43/50\n",
      "16/16 - 1s - loss: 0.6449 - accuracy: 0.6427 - auc_6: 0.6820 - precision_6: 0.6429 - recall_6: 0.5926 - f1_score: 0.6532 - val_loss: 0.6648 - val_accuracy: 0.6414 - val_auc_6: 0.6454 - val_precision_6: 0.6387 - val_recall_6: 0.6179 - val_f1_score: 0.6578 - 1s/epoch - 85ms/step\n",
      "Epoch 44/50\n",
      "16/16 - 1s - loss: 0.6443 - accuracy: 0.6467 - auc_6: 0.6818 - precision_6: 0.6460 - recall_6: 0.6008 - f1_score: 0.6532 - val_loss: 0.6643 - val_accuracy: 0.6335 - val_auc_6: 0.6444 - val_precision_6: 0.6348 - val_recall_6: 0.5935 - val_f1_score: 0.6578 - 1s/epoch - 82ms/step\n",
      "Epoch 45/50\n",
      "16/16 - 2s - loss: 0.6436 - accuracy: 0.6507 - auc_6: 0.6818 - precision_6: 0.6518 - recall_6: 0.6008 - f1_score: 0.6532 - val_loss: 0.6639 - val_accuracy: 0.6335 - val_auc_6: 0.6468 - val_precision_6: 0.6348 - val_recall_6: 0.5935 - val_f1_score: 0.6578 - 2s/epoch - 95ms/step\n",
      "Epoch 46/50\n",
      "16/16 - 2s - loss: 0.6432 - accuracy: 0.6487 - auc_6: 0.6797 - precision_6: 0.6476 - recall_6: 0.6049 - f1_score: 0.6532 - val_loss: 0.6634 - val_accuracy: 0.6414 - val_auc_6: 0.6472 - val_precision_6: 0.6387 - val_recall_6: 0.6179 - val_f1_score: 0.6578 - 2s/epoch - 110ms/step\n",
      "Epoch 47/50\n",
      "16/16 - 2s - loss: 0.6427 - accuracy: 0.6467 - auc_6: 0.6828 - precision_6: 0.6447 - recall_6: 0.6049 - f1_score: 0.6532 - val_loss: 0.6635 - val_accuracy: 0.6414 - val_auc_6: 0.6475 - val_precision_6: 0.6387 - val_recall_6: 0.6179 - val_f1_score: 0.6578 - 2s/epoch - 128ms/step\n",
      "Epoch 48/50\n",
      "16/16 - 2s - loss: 0.6425 - accuracy: 0.6507 - auc_6: 0.6802 - precision_6: 0.6504 - recall_6: 0.6049 - f1_score: 0.6532 - val_loss: 0.6634 - val_accuracy: 0.6295 - val_auc_6: 0.6482 - val_precision_6: 0.6293 - val_recall_6: 0.5935 - val_f1_score: 0.6578 - 2s/epoch - 129ms/step\n",
      "Epoch 49/50\n",
      "16/16 - 1s - loss: 0.6423 - accuracy: 0.6467 - auc_6: 0.6811 - precision_6: 0.6473 - recall_6: 0.5967 - f1_score: 0.6532 - val_loss: 0.6628 - val_accuracy: 0.6375 - val_auc_6: 0.6496 - val_precision_6: 0.6356 - val_recall_6: 0.6098 - val_f1_score: 0.6578 - 1s/epoch - 84ms/step\n",
      "Epoch 50/50\n",
      "16/16 - 2s - loss: 0.6413 - accuracy: 0.6487 - auc_6: 0.6852 - precision_6: 0.6476 - recall_6: 0.6049 - f1_score: 0.6532 - val_loss: 0.6633 - val_accuracy: 0.6375 - val_auc_6: 0.6493 - val_precision_6: 0.6356 - val_recall_6: 0.6098 - val_f1_score: 0.6578 - 2s/epoch - 110ms/step\n"
     ]
    },
    {
     "data": {
      "image/png": "[encoded data removed]",
      "text/plain": [
       "<Figure size 432x288 with 1 Axes>"
      ]
     },
     "metadata": {
      "needs_background": "light"
     },
     "output_type": "display_data"
    },
    {
     "name": "stdout",
     "output_type": "stream",
     "text": [
      "Epoch 1/50\n",
      "16/16 - 4s - loss: 0.6738 - accuracy: 0.5936 - auc_7: 0.6117 - precision_7: 0.5771 - recall_7: 0.6518 - f1_score: 0.6595 - val_loss: 0.6843 - val_accuracy: 0.5560 - val_auc_7: 0.5872 - val_precision_7: 0.5299 - val_recall_7: 0.5966 - val_f1_score: 0.6450 - 4s/epoch - 258ms/step\n",
      "Epoch 2/50\n",
      "16/16 - 2s - loss: 0.6709 - accuracy: 0.5976 - auc_7: 0.6206 - precision_7: 0.5812 - recall_7: 0.6518 - f1_score: 0.6595 - val_loss: 0.6843 - val_accuracy: 0.5600 - val_auc_7: 0.5814 - val_precision_7: 0.5338 - val_recall_7: 0.5966 - val_f1_score: 0.6450 - 2s/epoch - 108ms/step\n",
      "Epoch 3/50\n",
      "16/16 - 2s - loss: 0.6697 - accuracy: 0.5976 - auc_7: 0.6247 - precision_7: 0.5818 - recall_7: 0.6478 - f1_score: 0.6595 - val_loss: 0.6838 - val_accuracy: 0.5560 - val_auc_7: 0.5794 - val_precision_7: 0.5299 - val_recall_7: 0.5966 - val_f1_score: 0.6450 - 2s/epoch - 110ms/step\n",
      "Epoch 4/50\n",
      "16/16 - 1s - loss: 0.6708 - accuracy: 0.5916 - auc_7: 0.6216 - precision_7: 0.5750 - recall_7: 0.6518 - f1_score: 0.6595 - val_loss: 0.6836 - val_accuracy: 0.5560 - val_auc_7: 0.5811 - val_precision_7: 0.5299 - val_recall_7: 0.5966 - val_f1_score: 0.6450 - 1s/epoch - 85ms/step\n",
      "Epoch 5/50\n",
      "16/16 - 1s - loss: 0.6702 - accuracy: 0.5916 - auc_7: 0.6221 - precision_7: 0.5750 - recall_7: 0.6518 - f1_score: 0.6595 - val_loss: 0.6840 - val_accuracy: 0.5520 - val_auc_7: 0.5820 - val_precision_7: 0.5263 - val_recall_7: 0.5882 - val_f1_score: 0.6450 - 1s/epoch - 85ms/step\n",
      "Epoch 6/50\n",
      "16/16 - 1s - loss: 0.6694 - accuracy: 0.5916 - auc_7: 0.6220 - precision_7: 0.5750 - recall_7: 0.6518 - f1_score: 0.6595 - val_loss: 0.6835 - val_accuracy: 0.5520 - val_auc_7: 0.5868 - val_precision_7: 0.5263 - val_recall_7: 0.5882 - val_f1_score: 0.6450 - 1s/epoch - 83ms/step\n",
      "Epoch 7/50\n",
      "16/16 - 1s - loss: 0.6691 - accuracy: 0.5916 - auc_7: 0.6258 - precision_7: 0.5750 - recall_7: 0.6518 - f1_score: 0.6595 - val_loss: 0.6834 - val_accuracy: 0.5520 - val_auc_7: 0.5883 - val_precision_7: 0.5263 - val_recall_7: 0.5882 - val_f1_score: 0.6450 - 1s/epoch - 92ms/step\n",
      "Epoch 8/50\n",
      "16/16 - 2s - loss: 0.6676 - accuracy: 0.5916 - auc_7: 0.6357 - precision_7: 0.5750 - recall_7: 0.6518 - f1_score: 0.6595 - val_loss: 0.6823 - val_accuracy: 0.5560 - val_auc_7: 0.5912 - val_precision_7: 0.5303 - val_recall_7: 0.5882 - val_f1_score: 0.6450 - 2s/epoch - 114ms/step\n",
      "Epoch 9/50\n",
      "16/16 - 2s - loss: 0.6668 - accuracy: 0.5916 - auc_7: 0.6341 - precision_7: 0.5750 - recall_7: 0.6518 - f1_score: 0.6595 - val_loss: 0.6821 - val_accuracy: 0.5520 - val_auc_7: 0.5931 - val_precision_7: 0.5267 - val_recall_7: 0.5798 - val_f1_score: 0.6450 - 2s/epoch - 103ms/step\n",
      "Epoch 10/50\n",
      "16/16 - 2s - loss: 0.6663 - accuracy: 0.5956 - auc_7: 0.6371 - precision_7: 0.5791 - recall_7: 0.6518 - f1_score: 0.6595 - val_loss: 0.6818 - val_accuracy: 0.5520 - val_auc_7: 0.5935 - val_precision_7: 0.5267 - val_recall_7: 0.5798 - val_f1_score: 0.6450 - 2s/epoch - 111ms/step\n",
      "Epoch 11/50\n",
      "16/16 - 2s - loss: 0.6657 - accuracy: 0.5956 - auc_7: 0.6374 - precision_7: 0.5791 - recall_7: 0.6518 - f1_score: 0.6595 - val_loss: 0.6816 - val_accuracy: 0.5520 - val_auc_7: 0.5968 - val_precision_7: 0.5267 - val_recall_7: 0.5798 - val_f1_score: 0.6450 - 2s/epoch - 112ms/step\n",
      "Epoch 12/50\n",
      "16/16 - 2s - loss: 0.6654 - accuracy: 0.5956 - auc_7: 0.6402 - precision_7: 0.5791 - recall_7: 0.6518 - f1_score: 0.6595 - val_loss: 0.6811 - val_accuracy: 0.5440 - val_auc_7: 0.5965 - val_precision_7: 0.5194 - val_recall_7: 0.5630 - val_f1_score: 0.6450 - 2s/epoch - 96ms/step\n",
      "Epoch 13/50\n",
      "16/16 - 2s - loss: 0.6648 - accuracy: 0.5956 - auc_7: 0.6419 - precision_7: 0.5791 - recall_7: 0.6518 - f1_score: 0.6595 - val_loss: 0.6809 - val_accuracy: 0.5520 - val_auc_7: 0.6011 - val_precision_7: 0.5267 - val_recall_7: 0.5798 - val_f1_score: 0.6450 - 2s/epoch - 98ms/step\n",
      "Epoch 14/50\n",
      "16/16 - 2s - loss: 0.6644 - accuracy: 0.5956 - auc_7: 0.6430 - precision_7: 0.5791 - recall_7: 0.6518 - f1_score: 0.6595 - val_loss: 0.6813 - val_accuracy: 0.5520 - val_auc_7: 0.6010 - val_precision_7: 0.5267 - val_recall_7: 0.5798 - val_f1_score: 0.6450 - 2s/epoch - 100ms/step\n",
      "Epoch 15/50\n",
      "16/16 - 2s - loss: 0.6643 - accuracy: 0.5956 - auc_7: 0.6442 - precision_7: 0.5791 - recall_7: 0.6518 - f1_score: 0.6595 - val_loss: 0.6816 - val_accuracy: 0.5520 - val_auc_7: 0.6003 - val_precision_7: 0.5267 - val_recall_7: 0.5798 - val_f1_score: 0.6450 - 2s/epoch - 119ms/step\n",
      "Epoch 16/50\n",
      "16/16 - 2s - loss: 0.6639 - accuracy: 0.5956 - auc_7: 0.6444 - precision_7: 0.5791 - recall_7: 0.6518 - f1_score: 0.6595 - val_loss: 0.6811 - val_accuracy: 0.5520 - val_auc_7: 0.5997 - val_precision_7: 0.5267 - val_recall_7: 0.5798 - val_f1_score: 0.6450 - 2s/epoch - 97ms/step\n",
      "Epoch 17/50\n",
      "16/16 - 2s - loss: 0.6635 - accuracy: 0.5956 - auc_7: 0.6431 - precision_7: 0.5791 - recall_7: 0.6518 - f1_score: 0.6595 - val_loss: 0.6813 - val_accuracy: 0.5440 - val_auc_7: 0.5978 - val_precision_7: 0.5194 - val_recall_7: 0.5630 - val_f1_score: 0.6450 - 2s/epoch - 135ms/step\n",
      "Epoch 18/50\n",
      "16/16 - 2s - loss: 0.6631 - accuracy: 0.5956 - auc_7: 0.6444 - precision_7: 0.5791 - recall_7: 0.6518 - f1_score: 0.6595 - val_loss: 0.6810 - val_accuracy: 0.5520 - val_auc_7: 0.6006 - val_precision_7: 0.5267 - val_recall_7: 0.5798 - val_f1_score: 0.6450 - 2s/epoch - 105ms/step\n",
      "Epoch 19/50\n",
      "16/16 - 2s - loss: 0.6627 - accuracy: 0.5956 - auc_7: 0.6446 - precision_7: 0.5791 - recall_7: 0.6518 - f1_score: 0.6595 - val_loss: 0.6801 - val_accuracy: 0.5440 - val_auc_7: 0.6009 - val_precision_7: 0.5194 - val_recall_7: 0.5630 - val_f1_score: 0.6450 - 2s/epoch - 108ms/step\n",
      "Epoch 20/50\n",
      "16/16 - 2s - loss: 0.6621 - accuracy: 0.5956 - auc_7: 0.6476 - precision_7: 0.5791 - recall_7: 0.6518 - f1_score: 0.6595 - val_loss: 0.6795 - val_accuracy: 0.5440 - val_auc_7: 0.6026 - val_precision_7: 0.5194 - val_recall_7: 0.5630 - val_f1_score: 0.6450 - 2s/epoch - 122ms/step\n",
      "Epoch 21/50\n",
      "16/16 - 1s - loss: 0.6620 - accuracy: 0.5976 - auc_7: 0.6447 - precision_7: 0.5806 - recall_7: 0.6559 - f1_score: 0.6595 - val_loss: 0.6793 - val_accuracy: 0.5440 - val_auc_7: 0.6044 - val_precision_7: 0.5194 - val_recall_7: 0.5630 - val_f1_score: 0.6450 - 1s/epoch - 88ms/step\n",
      "Epoch 22/50\n",
      "16/16 - 1s - loss: 0.6619 - accuracy: 0.5976 - auc_7: 0.6440 - precision_7: 0.5806 - recall_7: 0.6559 - f1_score: 0.6595 - val_loss: 0.6793 - val_accuracy: 0.5440 - val_auc_7: 0.6031 - val_precision_7: 0.5194 - val_recall_7: 0.5630 - val_f1_score: 0.6450 - 1s/epoch - 86ms/step\n",
      "Epoch 23/50\n",
      "16/16 - 2s - loss: 0.6616 - accuracy: 0.5976 - auc_7: 0.6468 - precision_7: 0.5806 - recall_7: 0.6559 - f1_score: 0.6595 - val_loss: 0.6797 - val_accuracy: 0.5520 - val_auc_7: 0.6025 - val_precision_7: 0.5267 - val_recall_7: 0.5798 - val_f1_score: 0.6450 - 2s/epoch - 105ms/step\n",
      "Epoch 24/50\n",
      "16/16 - 2s - loss: 0.6615 - accuracy: 0.5976 - auc_7: 0.6473 - precision_7: 0.5806 - recall_7: 0.6559 - f1_score: 0.6595 - val_loss: 0.6788 - val_accuracy: 0.5440 - val_auc_7: 0.6036 - val_precision_7: 0.5194 - val_recall_7: 0.5630 - val_f1_score: 0.6450 - 2s/epoch - 111ms/step\n",
      "Epoch 25/50\n",
      "16/16 - 2s - loss: 0.6609 - accuracy: 0.5976 - auc_7: 0.6475 - precision_7: 0.5806 - recall_7: 0.6559 - f1_score: 0.6595 - val_loss: 0.6799 - val_accuracy: 0.5440 - val_auc_7: 0.6026 - val_precision_7: 0.5194 - val_recall_7: 0.5630 - val_f1_score: 0.6450 - 2s/epoch - 103ms/step\n",
      "Epoch 26/50\n",
      "16/16 - 2s - loss: 0.6604 - accuracy: 0.6016 - auc_7: 0.6479 - precision_7: 0.5836 - recall_7: 0.6640 - f1_score: 0.6595 - val_loss: 0.6792 - val_accuracy: 0.5440 - val_auc_7: 0.6036 - val_precision_7: 0.5194 - val_recall_7: 0.5630 - val_f1_score: 0.6450 - 2s/epoch - 107ms/step\n",
      "Epoch 27/50\n",
      "16/16 - 2s - loss: 0.6600 - accuracy: 0.6016 - auc_7: 0.6531 - precision_7: 0.5836 - recall_7: 0.6640 - f1_score: 0.6595 - val_loss: 0.6783 - val_accuracy: 0.5440 - val_auc_7: 0.6043 - val_precision_7: 0.5194 - val_recall_7: 0.5630 - val_f1_score: 0.6450 - 2s/epoch - 109ms/step\n",
      "Epoch 28/50\n",
      "16/16 - 2s - loss: 0.6596 - accuracy: 0.6016 - auc_7: 0.6513 - precision_7: 0.5836 - recall_7: 0.6640 - f1_score: 0.6595 - val_loss: 0.6783 - val_accuracy: 0.5440 - val_auc_7: 0.6047 - val_precision_7: 0.5194 - val_recall_7: 0.5630 - val_f1_score: 0.6450 - 2s/epoch - 108ms/step\n",
      "Epoch 29/50\n",
      "16/16 - 1s - loss: 0.6593 - accuracy: 0.6016 - auc_7: 0.6513 - precision_7: 0.5836 - recall_7: 0.6640 - f1_score: 0.6595 - val_loss: 0.6780 - val_accuracy: 0.5440 - val_auc_7: 0.6088 - val_precision_7: 0.5194 - val_recall_7: 0.5630 - val_f1_score: 0.6450 - 1s/epoch - 86ms/step\n",
      "Epoch 30/50\n",
      "16/16 - 1s - loss: 0.6591 - accuracy: 0.6016 - auc_7: 0.6511 - precision_7: 0.5836 - recall_7: 0.6640 - f1_score: 0.6595 - val_loss: 0.6787 - val_accuracy: 0.5440 - val_auc_7: 0.6067 - val_precision_7: 0.5194 - val_recall_7: 0.5630 - val_f1_score: 0.6450 - 1s/epoch - 85ms/step\n",
      "Epoch 31/50\n",
      "16/16 - 1s - loss: 0.6579 - accuracy: 0.6016 - auc_7: 0.6512 - precision_7: 0.5836 - recall_7: 0.6640 - f1_score: 0.6595 - val_loss: 0.6769 - val_accuracy: 0.5440 - val_auc_7: 0.6060 - val_precision_7: 0.5194 - val_recall_7: 0.5630 - val_f1_score: 0.6450 - 1s/epoch - 82ms/step\n",
      "Epoch 32/50\n",
      "16/16 - 1s - loss: 0.6582 - accuracy: 0.6016 - auc_7: 0.6489 - precision_7: 0.5836 - recall_7: 0.6640 - f1_score: 0.6595 - val_loss: 0.6777 - val_accuracy: 0.5520 - val_auc_7: 0.6073 - val_precision_7: 0.5267 - val_recall_7: 0.5798 - val_f1_score: 0.6450 - 1s/epoch - 83ms/step\n",
      "Epoch 33/50\n",
      "16/16 - 1s - loss: 0.6577 - accuracy: 0.6036 - auc_7: 0.6533 - precision_7: 0.5857 - recall_7: 0.6640 - f1_score: 0.6595 - val_loss: 0.6763 - val_accuracy: 0.5440 - val_auc_7: 0.6088 - val_precision_7: 0.5194 - val_recall_7: 0.5630 - val_f1_score: 0.6450 - 1s/epoch - 83ms/step\n",
      "Epoch 34/50\n",
      "16/16 - 1s - loss: 0.6574 - accuracy: 0.6036 - auc_7: 0.6532 - precision_7: 0.5857 - recall_7: 0.6640 - f1_score: 0.6595 - val_loss: 0.6762 - val_accuracy: 0.5440 - val_auc_7: 0.6088 - val_precision_7: 0.5194 - val_recall_7: 0.5630 - val_f1_score: 0.6450 - 1s/epoch - 86ms/step\n",
      "Epoch 35/50\n",
      "16/16 - 1s - loss: 0.6571 - accuracy: 0.6016 - auc_7: 0.6529 - precision_7: 0.5836 - recall_7: 0.6640 - f1_score: 0.6595 - val_loss: 0.6773 - val_accuracy: 0.5440 - val_auc_7: 0.6061 - val_precision_7: 0.5194 - val_recall_7: 0.5630 - val_f1_score: 0.6450 - 1s/epoch - 83ms/step\n",
      "Epoch 36/50\n",
      "16/16 - 1s - loss: 0.6567 - accuracy: 0.6016 - auc_7: 0.6523 - precision_7: 0.5836 - recall_7: 0.6640 - f1_score: 0.6595 - val_loss: 0.6763 - val_accuracy: 0.5440 - val_auc_7: 0.6067 - val_precision_7: 0.5194 - val_recall_7: 0.5630 - val_f1_score: 0.6450 - 1s/epoch - 83ms/step\n",
      "Epoch 37/50\n",
      "16/16 - 1s - loss: 0.6565 - accuracy: 0.6036 - auc_7: 0.6540 - precision_7: 0.5857 - recall_7: 0.6640 - f1_score: 0.6595 - val_loss: 0.6767 - val_accuracy: 0.5440 - val_auc_7: 0.6075 - val_precision_7: 0.5194 - val_recall_7: 0.5630 - val_f1_score: 0.6450 - 1s/epoch - 87ms/step\n",
      "Epoch 38/50\n",
      "16/16 - 1s - loss: 0.6564 - accuracy: 0.6076 - auc_7: 0.6537 - precision_7: 0.5899 - recall_7: 0.6640 - f1_score: 0.6595 - val_loss: 0.6764 - val_accuracy: 0.5440 - val_auc_7: 0.6102 - val_precision_7: 0.5194 - val_recall_7: 0.5630 - val_f1_score: 0.6450 - 1s/epoch - 84ms/step\n",
      "Epoch 39/50\n",
      "16/16 - 1s - loss: 0.6558 - accuracy: 0.6076 - auc_7: 0.6567 - precision_7: 0.5893 - recall_7: 0.6680 - f1_score: 0.6595 - val_loss: 0.6761 - val_accuracy: 0.5480 - val_auc_7: 0.6091 - val_precision_7: 0.5231 - val_recall_7: 0.5714 - val_f1_score: 0.6450 - 1s/epoch - 84ms/step\n",
      "Epoch 40/50\n",
      "16/16 - 1s - loss: 0.6556 - accuracy: 0.6076 - auc_7: 0.6556 - precision_7: 0.5887 - recall_7: 0.6721 - f1_score: 0.6595 - val_loss: 0.6766 - val_accuracy: 0.5480 - val_auc_7: 0.6069 - val_precision_7: 0.5231 - val_recall_7: 0.5714 - val_f1_score: 0.6450 - 1s/epoch - 83ms/step\n",
      "Epoch 41/50\n",
      "16/16 - 1s - loss: 0.6561 - accuracy: 0.6076 - auc_7: 0.6553 - precision_7: 0.5887 - recall_7: 0.6721 - f1_score: 0.6595 - val_loss: 0.6776 - val_accuracy: 0.5480 - val_auc_7: 0.6063 - val_precision_7: 0.5231 - val_recall_7: 0.5714 - val_f1_score: 0.6450 - 1s/epoch - 86ms/step\n",
      "Epoch 42/50\n",
      "16/16 - 1s - loss: 0.6555 - accuracy: 0.6056 - auc_7: 0.6572 - precision_7: 0.5872 - recall_7: 0.6680 - f1_score: 0.6595 - val_loss: 0.6757 - val_accuracy: 0.5480 - val_auc_7: 0.6108 - val_precision_7: 0.5231 - val_recall_7: 0.5714 - val_f1_score: 0.6450 - 1s/epoch - 83ms/step\n",
      "Epoch 43/50\n",
      "16/16 - 1s - loss: 0.6552 - accuracy: 0.6175 - auc_7: 0.6583 - precision_7: 0.5993 - recall_7: 0.6721 - f1_score: 0.6595 - val_loss: 0.6760 - val_accuracy: 0.5480 - val_auc_7: 0.6093 - val_precision_7: 0.5231 - val_recall_7: 0.5714 - val_f1_score: 0.6450 - 1s/epoch - 83ms/step\n",
      "Epoch 44/50\n",
      "16/16 - 1s - loss: 0.6552 - accuracy: 0.6195 - auc_7: 0.6590 - precision_7: 0.6014 - recall_7: 0.6721 - f1_score: 0.6595 - val_loss: 0.6763 - val_accuracy: 0.5480 - val_auc_7: 0.6067 - val_precision_7: 0.5231 - val_recall_7: 0.5714 - val_f1_score: 0.6450 - 1s/epoch - 85ms/step\n",
      "Epoch 45/50\n",
      "16/16 - 1s - loss: 0.6556 - accuracy: 0.6195 - auc_7: 0.6563 - precision_7: 0.6014 - recall_7: 0.6721 - f1_score: 0.6595 - val_loss: 0.6748 - val_accuracy: 0.5480 - val_auc_7: 0.6143 - val_precision_7: 0.5231 - val_recall_7: 0.5714 - val_f1_score: 0.6450 - 1s/epoch - 84ms/step\n",
      "Epoch 46/50\n",
      "16/16 - 1s - loss: 0.6549 - accuracy: 0.6195 - auc_7: 0.6580 - precision_7: 0.6014 - recall_7: 0.6721 - f1_score: 0.6595 - val_loss: 0.6751 - val_accuracy: 0.5480 - val_auc_7: 0.6125 - val_precision_7: 0.5231 - val_recall_7: 0.5714 - val_f1_score: 0.6450 - 1s/epoch - 88ms/step\n",
      "Epoch 47/50\n",
      "16/16 - 1s - loss: 0.6544 - accuracy: 0.6215 - auc_7: 0.6584 - precision_7: 0.6036 - recall_7: 0.6721 - f1_score: 0.6595 - val_loss: 0.6756 - val_accuracy: 0.5480 - val_auc_7: 0.6111 - val_precision_7: 0.5231 - val_recall_7: 0.5714 - val_f1_score: 0.6450 - 1s/epoch - 90ms/step\n",
      "Epoch 48/50\n",
      "16/16 - 1s - loss: 0.6541 - accuracy: 0.6195 - auc_7: 0.6580 - precision_7: 0.6014 - recall_7: 0.6721 - f1_score: 0.6595 - val_loss: 0.6762 - val_accuracy: 0.5480 - val_auc_7: 0.6103 - val_precision_7: 0.5231 - val_recall_7: 0.5714 - val_f1_score: 0.6450 - 1s/epoch - 88ms/step\n",
      "Epoch 49/50\n",
      "16/16 - 1s - loss: 0.6540 - accuracy: 0.6195 - auc_7: 0.6583 - precision_7: 0.6014 - recall_7: 0.6721 - f1_score: 0.6595 - val_loss: 0.6749 - val_accuracy: 0.5480 - val_auc_7: 0.6152 - val_precision_7: 0.5231 - val_recall_7: 0.5714 - val_f1_score: 0.6450 - 1s/epoch - 84ms/step\n",
      "Epoch 50/50\n",
      "16/16 - 2s - loss: 0.6537 - accuracy: 0.6195 - auc_7: 0.6592 - precision_7: 0.6014 - recall_7: 0.6721 - f1_score: 0.6595 - val_loss: 0.6747 - val_accuracy: 0.5480 - val_auc_7: 0.6134 - val_precision_7: 0.5231 - val_recall_7: 0.5714 - val_f1_score: 0.6450 - 2s/epoch - 97ms/step\n"
     ]
    },
    {
     "data": {
      "image/png": "[encoded data removed]",
      "text/plain": [
       "<Figure size 432x288 with 1 Axes>"
      ]
     },
     "metadata": {
      "needs_background": "light"
     },
     "output_type": "display_data"
    }
   ],
   "source": [
    "for train_index, val_index in kf.split(X):\n",
    "    X_train, X_val = X[train_index], X[val_index]\n",
    "    y_train, y_val = y[train_index], y[val_index]\n",
    "    baseline_face_model = Baseline(n_features, n_length, n_outputs)\n",
    "    history = baseline_face_model.train(X_train, y_train, X_val, y_val, epochs=epochs, batch_size=batch_size)\n",
    "    plt.plot(history.history['loss'])\n",
    "    plt.show()"
   ]
  },
  {
   "cell_type": "markdown",
   "metadata": {},
   "source": [
    "#### Prediction on the holdout set"
   ]
  },
  {
   "cell_type": "code",
   "execution_count": 11,
   "metadata": {},
   "outputs": [
    {
     "name": "stdout",
     "output_type": "stream",
     "text": [
      "Accuracy: 63.43% \n",
      "ROC/AUC: 0.65 \n",
      "Precision: 0.92 \n",
      "Recall: 0.63 \n",
      "F1 score: 0.93\n"
     ]
    }
   ],
   "source": [
    "y_pred = baseline_face_model.predict(X_test)\n",
    "_, acc, auc, precision, recall, f1 = baseline_face_model.evaluate(X_test, y_test)\n",
    "results.append(round(auc, 2))\n",
    "print('Accuracy: {:.2f}% \\nROC/AUC: {:.2f} \\nPrecision: {:.2f} \\nRecall: {:.2f} \\nF1 score: {:.2f}'.format(acc * 100, auc, precision, recall, f1))"
   ]
  },
  {
   "cell_type": "markdown",
   "metadata": {},
   "source": [
    "## 3. Multimodal Early Fusion"
   ]
  },
  {
   "cell_type": "markdown",
   "metadata": {},
   "source": [
    "### Dataset"
   ]
  },
  {
   "cell_type": "code",
   "execution_count": 12,
   "metadata": {},
   "outputs": [
    {
     "name": "stdout",
     "output_type": "stream",
     "text": [
      "(752, 350, 60) (752, 1)\n",
      "(268, 350, 60) (268, 1)\n"
     ]
    }
   ],
   "source": [
    "X_train, X_test, y_train, y_test = load_fusioned_dataset(binary=True)\n",
    "X_train = X_train.reshape(X_train.shape[0], X_train.shape[2], X_train.shape[3])\n",
    "X_test = X_test.reshape(X_test.shape[0], X_test.shape[2], X_test.shape[3])\n",
    "X = X_train.copy()\n",
    "y = y_train.copy()\n",
    "\n",
    "print(X_train.shape, y_train.shape)\n",
    "print(X_test.shape, y_test.shape)\n",
    "\n",
    "n_length, n_features, n_outputs = X_train.shape[1], X_train.shape[-1], y_train.shape[1]"
   ]
  },
  {
   "cell_type": "code",
   "execution_count": 13,
   "metadata": {},
   "outputs": [
    {
     "name": "stdout",
     "output_type": "stream",
     "text": [
      "Model: \"model_8\"\n",
      "_________________________________________________________________\n",
      " Layer (type)                Output Shape              Param #   \n",
      "=================================================================\n",
      " input_9 (InputLayer)        [(None, 350, 60)]         0         \n",
      "                                                                 \n",
      " lstm_8 (LSTM)               (None, 50)                22200     \n",
      "                                                                 \n",
      " dense_16 (Dense)            (None, 50)                2550      \n",
      "                                                                 \n",
      " dense_17 (Dense)            (None, 1)                 51        \n",
      "                                                                 \n",
      "=================================================================\n",
      "Total params: 24,801\n",
      "Trainable params: 24,801\n",
      "Non-trainable params: 0\n",
      "_________________________________________________________________\n"
     ]
    }
   ],
   "source": [
    "model = Baseline(n_features, n_length, n_outputs)\n",
    "model.summary()"
   ]
  },
  {
   "cell_type": "markdown",
   "metadata": {},
   "source": [
    "### CNN + Bidirectional LSTM"
   ]
  },
  {
   "cell_type": "code",
   "execution_count": 14,
   "metadata": {},
   "outputs": [
    {
     "name": "stdout",
     "output_type": "stream",
     "text": [
      "Epoch 1/50\n",
      "16/16 - 4s - loss: 0.6891 - accuracy: 0.5250 - auc_9: 0.5557 - precision_9: 0.5110 - recall_9: 0.3843 - f1_score: 0.6514 - val_loss: 0.6822 - val_accuracy: 0.5299 - val_auc_9: 0.5668 - val_precision_9: 0.5375 - val_recall_9: 0.3468 - val_f1_score: 0.6613 - 4s/epoch - 231ms/step\n",
      "Epoch 2/50\n",
      "16/16 - 1s - loss: 0.6797 - accuracy: 0.5649 - auc_9: 0.5937 - precision_9: 0.5750 - recall_9: 0.3802 - f1_score: 0.6514 - val_loss: 0.6784 - val_accuracy: 0.5817 - val_auc_9: 0.5850 - val_precision_9: 0.6462 - val_recall_9: 0.3387 - val_f1_score: 0.6613 - 1s/epoch - 82ms/step\n",
      "Epoch 3/50\n",
      "16/16 - 1s - loss: 0.6731 - accuracy: 0.5768 - auc_9: 0.6193 - precision_9: 0.6000 - recall_9: 0.3719 - f1_score: 0.6514 - val_loss: 0.6761 - val_accuracy: 0.5618 - val_auc_9: 0.5948 - val_precision_9: 0.6029 - val_recall_9: 0.3306 - val_f1_score: 0.6613 - 1s/epoch - 85ms/step\n",
      "Epoch 4/50\n",
      "16/16 - 1s - loss: 0.6690 - accuracy: 0.5908 - auc_9: 0.6386 - precision_9: 0.6121 - recall_9: 0.4174 - f1_score: 0.6514 - val_loss: 0.6704 - val_accuracy: 0.5737 - val_auc_9: 0.6178 - val_precision_9: 0.6076 - val_recall_9: 0.3871 - val_f1_score: 0.6613 - 1s/epoch - 82ms/step\n",
      "Epoch 5/50\n",
      "16/16 - 1s - loss: 0.6647 - accuracy: 0.5968 - auc_9: 0.6579 - precision_9: 0.6220 - recall_9: 0.4215 - f1_score: 0.6514 - val_loss: 0.6706 - val_accuracy: 0.5697 - val_auc_9: 0.6217 - val_precision_9: 0.6026 - val_recall_9: 0.3790 - val_f1_score: 0.6613 - 1s/epoch - 83ms/step\n",
      "Epoch 6/50\n",
      "16/16 - 1s - loss: 0.6638 - accuracy: 0.5908 - auc_9: 0.6586 - precision_9: 0.6057 - recall_9: 0.4380 - f1_score: 0.6514 - val_loss: 0.6697 - val_accuracy: 0.5817 - val_auc_9: 0.6259 - val_precision_9: 0.6092 - val_recall_9: 0.4274 - val_f1_score: 0.6613 - 1s/epoch - 81ms/step\n",
      "Epoch 7/50\n",
      "16/16 - 1s - loss: 0.6613 - accuracy: 0.5888 - auc_9: 0.6691 - precision_9: 0.6125 - recall_9: 0.4050 - f1_score: 0.6514 - val_loss: 0.6689 - val_accuracy: 0.5857 - val_auc_9: 0.6334 - val_precision_9: 0.6316 - val_recall_9: 0.3871 - val_f1_score: 0.6613 - 1s/epoch - 85ms/step\n",
      "Epoch 8/50\n",
      "16/16 - 1s - loss: 0.6596 - accuracy: 0.6008 - auc_9: 0.6701 - precision_9: 0.6250 - recall_9: 0.4339 - f1_score: 0.6514 - val_loss: 0.6657 - val_accuracy: 0.5817 - val_auc_9: 0.6371 - val_precision_9: 0.6092 - val_recall_9: 0.4274 - val_f1_score: 0.6613 - 1s/epoch - 83ms/step\n",
      "Epoch 9/50\n",
      "16/16 - 1s - loss: 0.6570 - accuracy: 0.6108 - auc_9: 0.6782 - precision_9: 0.6391 - recall_9: 0.4463 - f1_score: 0.6514 - val_loss: 0.6676 - val_accuracy: 0.5896 - val_auc_9: 0.6310 - val_precision_9: 0.6296 - val_recall_9: 0.4113 - val_f1_score: 0.6613 - 1s/epoch - 83ms/step\n",
      "Epoch 10/50\n",
      "16/16 - 1s - loss: 0.6544 - accuracy: 0.6048 - auc_9: 0.6874 - precision_9: 0.6375 - recall_9: 0.4215 - f1_score: 0.6514 - val_loss: 0.6680 - val_accuracy: 0.5896 - val_auc_9: 0.6286 - val_precision_9: 0.6296 - val_recall_9: 0.4113 - val_f1_score: 0.6613 - 1s/epoch - 82ms/step\n",
      "Epoch 11/50\n",
      "16/16 - 1s - loss: 0.6529 - accuracy: 0.6128 - auc_9: 0.6905 - precision_9: 0.6395 - recall_9: 0.4545 - f1_score: 0.6514 - val_loss: 0.6678 - val_accuracy: 0.5857 - val_auc_9: 0.6307 - val_precision_9: 0.6136 - val_recall_9: 0.4355 - val_f1_score: 0.6613 - 1s/epoch - 86ms/step\n",
      "Epoch 12/50\n",
      "16/16 - 1s - loss: 0.6513 - accuracy: 0.5988 - auc_9: 0.6904 - precision_9: 0.6171 - recall_9: 0.4463 - f1_score: 0.6514 - val_loss: 0.6651 - val_accuracy: 0.5737 - val_auc_9: 0.6352 - val_precision_9: 0.5955 - val_recall_9: 0.4274 - val_f1_score: 0.6613 - 1s/epoch - 82ms/step\n",
      "Epoch 13/50\n",
      "16/16 - 1s - loss: 0.6494 - accuracy: 0.6068 - auc_9: 0.6944 - precision_9: 0.6301 - recall_9: 0.4504 - f1_score: 0.6514 - val_loss: 0.6665 - val_accuracy: 0.5817 - val_auc_9: 0.6328 - val_precision_9: 0.6118 - val_recall_9: 0.4194 - val_f1_score: 0.6613 - 1s/epoch - 86ms/step\n",
      "Epoch 14/50\n",
      "16/16 - 1s - loss: 0.6482 - accuracy: 0.6068 - auc_9: 0.7003 - precision_9: 0.6316 - recall_9: 0.4463 - f1_score: 0.6514 - val_loss: 0.6661 - val_accuracy: 0.5697 - val_auc_9: 0.6311 - val_precision_9: 0.5909 - val_recall_9: 0.4194 - val_f1_score: 0.6613 - 1s/epoch - 83ms/step\n",
      "Epoch 15/50\n",
      "16/16 - 1s - loss: 0.6470 - accuracy: 0.6108 - auc_9: 0.6994 - precision_9: 0.6374 - recall_9: 0.4504 - f1_score: 0.6514 - val_loss: 0.6644 - val_accuracy: 0.5817 - val_auc_9: 0.6378 - val_precision_9: 0.6092 - val_recall_9: 0.4274 - val_f1_score: 0.6613 - 1s/epoch - 83ms/step\n",
      "Epoch 16/50\n",
      "16/16 - 1s - loss: 0.6452 - accuracy: 0.6248 - auc_9: 0.7041 - precision_9: 0.6436 - recall_9: 0.5000 - f1_score: 0.6514 - val_loss: 0.6648 - val_accuracy: 0.5697 - val_auc_9: 0.6371 - val_precision_9: 0.5833 - val_recall_9: 0.4516 - val_f1_score: 0.6613 - 1s/epoch - 83ms/step\n",
      "Epoch 17/50\n",
      "16/16 - 1s - loss: 0.6442 - accuracy: 0.6307 - auc_9: 0.7085 - precision_9: 0.6447 - recall_9: 0.5248 - f1_score: 0.6514 - val_loss: 0.6635 - val_accuracy: 0.5857 - val_auc_9: 0.6421 - val_precision_9: 0.6064 - val_recall_9: 0.4597 - val_f1_score: 0.6613 - 1s/epoch - 85ms/step\n",
      "Epoch 18/50\n",
      "16/16 - 1s - loss: 0.6410 - accuracy: 0.6467 - auc_9: 0.7158 - precision_9: 0.6776 - recall_9: 0.5124 - f1_score: 0.6514 - val_loss: 0.6637 - val_accuracy: 0.5777 - val_auc_9: 0.6434 - val_precision_9: 0.5957 - val_recall_9: 0.4516 - val_f1_score: 0.6613 - 1s/epoch - 84ms/step\n",
      "Epoch 19/50\n",
      "16/16 - 1s - loss: 0.6404 - accuracy: 0.6447 - auc_9: 0.7166 - precision_9: 0.6667 - recall_9: 0.5289 - f1_score: 0.6514 - val_loss: 0.6635 - val_accuracy: 0.5777 - val_auc_9: 0.6408 - val_precision_9: 0.5918 - val_recall_9: 0.4677 - val_f1_score: 0.6613 - 1s/epoch - 83ms/step\n",
      "Epoch 20/50\n",
      "16/16 - 1s - loss: 0.6381 - accuracy: 0.6467 - auc_9: 0.7213 - precision_9: 0.6776 - recall_9: 0.5124 - f1_score: 0.6514 - val_loss: 0.6647 - val_accuracy: 0.5976 - val_auc_9: 0.6422 - val_precision_9: 0.6292 - val_recall_9: 0.4516 - val_f1_score: 0.6613 - 1s/epoch - 86ms/step\n",
      "Epoch 21/50\n",
      "16/16 - 1s - loss: 0.6359 - accuracy: 0.6567 - auc_9: 0.7268 - precision_9: 0.6823 - recall_9: 0.5413 - f1_score: 0.6514 - val_loss: 0.6635 - val_accuracy: 0.5817 - val_auc_9: 0.6416 - val_precision_9: 0.5979 - val_recall_9: 0.4677 - val_f1_score: 0.6613 - 1s/epoch - 83ms/step\n",
      "Epoch 22/50\n",
      "16/16 - 2s - loss: 0.6347 - accuracy: 0.6527 - auc_9: 0.7285 - precision_9: 0.6771 - recall_9: 0.5372 - f1_score: 0.6514 - val_loss: 0.6613 - val_accuracy: 0.5697 - val_auc_9: 0.6475 - val_precision_9: 0.5800 - val_recall_9: 0.4677 - val_f1_score: 0.6613 - 2s/epoch - 95ms/step\n",
      "Epoch 23/50\n",
      "16/16 - 1s - loss: 0.6318 - accuracy: 0.6627 - auc_9: 0.7331 - precision_9: 0.6891 - recall_9: 0.5496 - f1_score: 0.6514 - val_loss: 0.6627 - val_accuracy: 0.5777 - val_auc_9: 0.6441 - val_precision_9: 0.5918 - val_recall_9: 0.4677 - val_f1_score: 0.6613 - 1s/epoch - 92ms/step\n",
      "Epoch 24/50\n",
      "16/16 - 2s - loss: 0.6313 - accuracy: 0.6786 - auc_9: 0.7341 - precision_9: 0.7015 - recall_9: 0.5826 - f1_score: 0.6514 - val_loss: 0.6608 - val_accuracy: 0.5737 - val_auc_9: 0.6467 - val_precision_9: 0.5876 - val_recall_9: 0.4597 - val_f1_score: 0.6613 - 2s/epoch - 94ms/step\n",
      "Epoch 25/50\n",
      "16/16 - 2s - loss: 0.6293 - accuracy: 0.6687 - auc_9: 0.7365 - precision_9: 0.7021 - recall_9: 0.5455 - f1_score: 0.6514 - val_loss: 0.6619 - val_accuracy: 0.5777 - val_auc_9: 0.6492 - val_precision_9: 0.5957 - val_recall_9: 0.4516 - val_f1_score: 0.6613 - 2s/epoch - 110ms/step\n",
      "Epoch 26/50\n",
      "16/16 - 2s - loss: 0.6280 - accuracy: 0.6727 - auc_9: 0.7352 - precision_9: 0.6950 - recall_9: 0.5744 - f1_score: 0.6514 - val_loss: 0.6608 - val_accuracy: 0.5817 - val_auc_9: 0.6505 - val_precision_9: 0.6000 - val_recall_9: 0.4597 - val_f1_score: 0.6613 - 2s/epoch - 105ms/step\n",
      "Epoch 27/50\n",
      "16/16 - 2s - loss: 0.6284 - accuracy: 0.6727 - auc_9: 0.7361 - precision_9: 0.6912 - recall_9: 0.5826 - f1_score: 0.6514 - val_loss: 0.6612 - val_accuracy: 0.5896 - val_auc_9: 0.6449 - val_precision_9: 0.6061 - val_recall_9: 0.4839 - val_f1_score: 0.6613 - 2s/epoch - 139ms/step\n",
      "Epoch 28/50\n",
      "16/16 - 2s - loss: 0.6248 - accuracy: 0.6766 - auc_9: 0.7453 - precision_9: 0.6905 - recall_9: 0.5992 - f1_score: 0.6514 - val_loss: 0.6604 - val_accuracy: 0.6016 - val_auc_9: 0.6468 - val_precision_9: 0.6111 - val_recall_9: 0.5323 - val_f1_score: 0.6613 - 2s/epoch - 110ms/step\n",
      "Epoch 29/50\n",
      "16/16 - 2s - loss: 0.6254 - accuracy: 0.6886 - auc_9: 0.7429 - precision_9: 0.7150 - recall_9: 0.5909 - f1_score: 0.6514 - val_loss: 0.6633 - val_accuracy: 0.6056 - val_auc_9: 0.6427 - val_precision_9: 0.6316 - val_recall_9: 0.4839 - val_f1_score: 0.6613 - 2s/epoch - 109ms/step\n",
      "Epoch 30/50\n",
      "16/16 - 2s - loss: 0.6221 - accuracy: 0.6806 - auc_9: 0.7449 - precision_9: 0.6971 - recall_9: 0.5992 - f1_score: 0.6514 - val_loss: 0.6601 - val_accuracy: 0.5936 - val_auc_9: 0.6467 - val_precision_9: 0.6100 - val_recall_9: 0.4919 - val_f1_score: 0.6613 - 2s/epoch - 118ms/step\n",
      "Epoch 31/50\n",
      "16/16 - 2s - loss: 0.6198 - accuracy: 0.6886 - auc_9: 0.7489 - precision_9: 0.6972 - recall_9: 0.6281 - f1_score: 0.6514 - val_loss: 0.6610 - val_accuracy: 0.5896 - val_auc_9: 0.6439 - val_precision_9: 0.6061 - val_recall_9: 0.4839 - val_f1_score: 0.6613 - 2s/epoch - 97ms/step\n",
      "Epoch 32/50\n",
      "16/16 - 2s - loss: 0.6199 - accuracy: 0.6846 - auc_9: 0.7494 - precision_9: 0.6963 - recall_9: 0.6157 - f1_score: 0.6514 - val_loss: 0.6613 - val_accuracy: 0.5976 - val_auc_9: 0.6454 - val_precision_9: 0.6117 - val_recall_9: 0.5081 - val_f1_score: 0.6613 - 2s/epoch - 108ms/step\n",
      "Epoch 33/50\n",
      "16/16 - 2s - loss: 0.6181 - accuracy: 0.6866 - auc_9: 0.7512 - precision_9: 0.7033 - recall_9: 0.6074 - f1_score: 0.6514 - val_loss: 0.6633 - val_accuracy: 0.5976 - val_auc_9: 0.6411 - val_precision_9: 0.6186 - val_recall_9: 0.4839 - val_f1_score: 0.6613 - 2s/epoch - 113ms/step\n",
      "Epoch 34/50\n",
      "16/16 - 2s - loss: 0.6189 - accuracy: 0.6866 - auc_9: 0.7497 - precision_9: 0.6995 - recall_9: 0.6157 - f1_score: 0.6514 - val_loss: 0.6626 - val_accuracy: 0.6096 - val_auc_9: 0.6447 - val_precision_9: 0.6327 - val_recall_9: 0.5000 - val_f1_score: 0.6613 - 2s/epoch - 108ms/step\n",
      "Epoch 35/50\n",
      "16/16 - 2s - loss: 0.6158 - accuracy: 0.6846 - auc_9: 0.7547 - precision_9: 0.7039 - recall_9: 0.5992 - f1_score: 0.6514 - val_loss: 0.6611 - val_accuracy: 0.6056 - val_auc_9: 0.6446 - val_precision_9: 0.6238 - val_recall_9: 0.5081 - val_f1_score: 0.6613 - 2s/epoch - 118ms/step\n",
      "Epoch 36/50\n",
      "16/16 - 2s - loss: 0.6167 - accuracy: 0.6886 - auc_9: 0.7523 - precision_9: 0.7087 - recall_9: 0.6033 - f1_score: 0.6514 - val_loss: 0.6612 - val_accuracy: 0.6056 - val_auc_9: 0.6450 - val_precision_9: 0.6214 - val_recall_9: 0.5161 - val_f1_score: 0.6613 - 2s/epoch - 118ms/step\n",
      "Epoch 37/50\n",
      "16/16 - 2s - loss: 0.6143 - accuracy: 0.6986 - auc_9: 0.7525 - precision_9: 0.7059 - recall_9: 0.6446 - f1_score: 0.6514 - val_loss: 0.6607 - val_accuracy: 0.5976 - val_auc_9: 0.6425 - val_precision_9: 0.6055 - val_recall_9: 0.5323 - val_f1_score: 0.6613 - 2s/epoch - 116ms/step\n",
      "Epoch 38/50\n",
      "16/16 - 2s - loss: 0.6129 - accuracy: 0.6906 - auc_9: 0.7542 - precision_9: 0.6986 - recall_9: 0.6322 - f1_score: 0.6514 - val_loss: 0.6633 - val_accuracy: 0.5976 - val_auc_9: 0.6369 - val_precision_9: 0.6095 - val_recall_9: 0.5161 - val_f1_score: 0.6613 - 2s/epoch - 106ms/step\n",
      "Epoch 39/50\n",
      "16/16 - 2s - loss: 0.6117 - accuracy: 0.7006 - auc_9: 0.7557 - precision_9: 0.7170 - recall_9: 0.6281 - f1_score: 0.6514 - val_loss: 0.6607 - val_accuracy: 0.6016 - val_auc_9: 0.6417 - val_precision_9: 0.6132 - val_recall_9: 0.5242 - val_f1_score: 0.6613 - 2s/epoch - 111ms/step\n",
      "Epoch 40/50\n",
      "16/16 - 2s - loss: 0.6098 - accuracy: 0.6966 - auc_9: 0.7576 - precision_9: 0.7045 - recall_9: 0.6405 - f1_score: 0.6514 - val_loss: 0.6637 - val_accuracy: 0.6056 - val_auc_9: 0.6367 - val_precision_9: 0.6168 - val_recall_9: 0.5323 - val_f1_score: 0.6613 - 2s/epoch - 124ms/step\n",
      "Epoch 41/50\n",
      "16/16 - 1s - loss: 0.6077 - accuracy: 0.6966 - auc_9: 0.7603 - precision_9: 0.7103 - recall_9: 0.6281 - f1_score: 0.6514 - val_loss: 0.6619 - val_accuracy: 0.6016 - val_auc_9: 0.6390 - val_precision_9: 0.6132 - val_recall_9: 0.5242 - val_f1_score: 0.6613 - 1s/epoch - 92ms/step\n",
      "Epoch 42/50\n",
      "16/16 - 2s - loss: 0.6054 - accuracy: 0.7086 - auc_9: 0.7632 - precision_9: 0.7182 - recall_9: 0.6529 - f1_score: 0.6514 - val_loss: 0.6628 - val_accuracy: 0.6056 - val_auc_9: 0.6374 - val_precision_9: 0.6147 - val_recall_9: 0.5403 - val_f1_score: 0.6613 - 2s/epoch - 124ms/step\n",
      "Epoch 43/50\n",
      "16/16 - 2s - loss: 0.6050 - accuracy: 0.7066 - auc_9: 0.7625 - precision_9: 0.7230 - recall_9: 0.6364 - f1_score: 0.6514 - val_loss: 0.6638 - val_accuracy: 0.5936 - val_auc_9: 0.6391 - val_precision_9: 0.6078 - val_recall_9: 0.5000 - val_f1_score: 0.6613 - 2s/epoch - 122ms/step\n",
      "Epoch 44/50\n",
      "16/16 - 2s - loss: 0.6017 - accuracy: 0.7026 - auc_9: 0.7669 - precision_9: 0.7204 - recall_9: 0.6281 - f1_score: 0.6514 - val_loss: 0.6618 - val_accuracy: 0.6016 - val_auc_9: 0.6416 - val_precision_9: 0.6111 - val_recall_9: 0.5323 - val_f1_score: 0.6613 - 2s/epoch - 108ms/step\n",
      "Epoch 45/50\n",
      "16/16 - 2s - loss: 0.6012 - accuracy: 0.7066 - auc_9: 0.7661 - precision_9: 0.7149 - recall_9: 0.6529 - f1_score: 0.6514 - val_loss: 0.6636 - val_accuracy: 0.6016 - val_auc_9: 0.6368 - val_precision_9: 0.6091 - val_recall_9: 0.5403 - val_f1_score: 0.6613 - 2s/epoch - 117ms/step\n",
      "Epoch 46/50\n",
      "16/16 - 2s - loss: 0.5996 - accuracy: 0.7026 - auc_9: 0.7699 - precision_9: 0.7143 - recall_9: 0.6405 - f1_score: 0.6514 - val_loss: 0.6653 - val_accuracy: 0.6016 - val_auc_9: 0.6335 - val_precision_9: 0.6132 - val_recall_9: 0.5242 - val_f1_score: 0.6613 - 2s/epoch - 104ms/step\n",
      "Epoch 47/50\n",
      "16/16 - 1s - loss: 0.5987 - accuracy: 0.7046 - auc_9: 0.7669 - precision_9: 0.7176 - recall_9: 0.6405 - f1_score: 0.6514 - val_loss: 0.6610 - val_accuracy: 0.6096 - val_auc_9: 0.6410 - val_precision_9: 0.6204 - val_recall_9: 0.5403 - val_f1_score: 0.6613 - 1s/epoch - 90ms/step\n",
      "Epoch 48/50\n",
      "16/16 - 1s - loss: 0.5962 - accuracy: 0.7086 - auc_9: 0.7710 - precision_9: 0.7222 - recall_9: 0.6446 - f1_score: 0.6514 - val_loss: 0.6623 - val_accuracy: 0.5976 - val_auc_9: 0.6388 - val_precision_9: 0.6055 - val_recall_9: 0.5323 - val_f1_score: 0.6613 - 1s/epoch - 82ms/step\n",
      "Epoch 49/50\n",
      "16/16 - 1s - loss: 0.5943 - accuracy: 0.7066 - auc_9: 0.7711 - precision_9: 0.7111 - recall_9: 0.6612 - f1_score: 0.6514 - val_loss: 0.6610 - val_accuracy: 0.6016 - val_auc_9: 0.6406 - val_precision_9: 0.6091 - val_recall_9: 0.5403 - val_f1_score: 0.6613 - 1s/epoch - 84ms/step\n",
      "Epoch 50/50\n",
      "16/16 - 1s - loss: 0.5935 - accuracy: 0.7106 - auc_9: 0.7743 - precision_9: 0.7235 - recall_9: 0.6488 - f1_score: 0.6514 - val_loss: 0.6634 - val_accuracy: 0.6016 - val_auc_9: 0.6366 - val_precision_9: 0.6132 - val_recall_9: 0.5242 - val_f1_score: 0.6613 - 1s/epoch - 83ms/step\n"
     ]
    },
    {
     "data": {
      "image/png": "[encoded data removed]",
      "text/plain": [
       "<Figure size 432x288 with 1 Axes>"
      ]
     },
     "metadata": {
      "needs_background": "light"
     },
     "output_type": "display_data"
    },
    {
     "name": "stdout",
     "output_type": "stream",
     "text": [
      "Epoch 1/50\n",
      "16/16 - 4s - loss: 0.6799 - accuracy: 0.5569 - auc_10: 0.6080 - precision_10: 0.6129 - recall_10: 0.2346 - f1_score: 0.6532 - val_loss: 0.6979 - val_accuracy: 0.4900 - val_auc_10: 0.5558 - val_precision_10: 0.4510 - val_recall_10: 0.1870 - val_f1_score: 0.6578 - 4s/epoch - 240ms/step\n",
      "Epoch 2/50\n",
      "16/16 - 1s - loss: 0.6706 - accuracy: 0.5788 - auc_10: 0.6262 - precision_10: 0.6194 - recall_10: 0.3416 - f1_score: 0.6532 - val_loss: 0.6952 - val_accuracy: 0.5378 - val_auc_10: 0.5620 - val_precision_10: 0.5493 - val_recall_10: 0.3171 - val_f1_score: 0.6578 - 1s/epoch - 82ms/step\n",
      "Epoch 3/50\n",
      "16/16 - 1s - loss: 0.6672 - accuracy: 0.5968 - auc_10: 0.6342 - precision_10: 0.6340 - recall_10: 0.3992 - f1_score: 0.6532 - val_loss: 0.6929 - val_accuracy: 0.5299 - val_auc_10: 0.5689 - val_precision_10: 0.5342 - val_recall_10: 0.3171 - val_f1_score: 0.6578 - 1s/epoch - 83ms/step\n",
      "Epoch 4/50\n",
      "16/16 - 1s - loss: 0.6640 - accuracy: 0.6028 - auc_10: 0.6401 - precision_10: 0.6358 - recall_10: 0.4239 - f1_score: 0.6532 - val_loss: 0.6892 - val_accuracy: 0.5618 - val_auc_10: 0.5784 - val_precision_10: 0.5747 - val_recall_10: 0.4065 - val_f1_score: 0.6578 - 1s/epoch - 83ms/step\n",
      "Epoch 5/50\n",
      "16/16 - 1s - loss: 0.6609 - accuracy: 0.6088 - auc_10: 0.6473 - precision_10: 0.6407 - recall_10: 0.4403 - f1_score: 0.6532 - val_loss: 0.6868 - val_accuracy: 0.5737 - val_auc_10: 0.5864 - val_precision_10: 0.5952 - val_recall_10: 0.4065 - val_f1_score: 0.6578 - 1s/epoch - 83ms/step\n",
      "Epoch 6/50\n",
      "16/16 - 1s - loss: 0.6584 - accuracy: 0.6148 - auc_10: 0.6535 - precision_10: 0.6543 - recall_10: 0.4362 - f1_score: 0.6532 - val_loss: 0.6844 - val_accuracy: 0.5657 - val_auc_10: 0.5927 - val_precision_10: 0.5854 - val_recall_10: 0.3902 - val_f1_score: 0.6578 - 1s/epoch - 85ms/step\n",
      "Epoch 7/50\n",
      "16/16 - 1s - loss: 0.6563 - accuracy: 0.6248 - auc_10: 0.6572 - precision_10: 0.6590 - recall_10: 0.4691 - f1_score: 0.6532 - val_loss: 0.6833 - val_accuracy: 0.5657 - val_auc_10: 0.5957 - val_precision_10: 0.5833 - val_recall_10: 0.3984 - val_f1_score: 0.6578 - 1s/epoch - 83ms/step\n",
      "Epoch 8/50\n",
      "16/16 - 1s - loss: 0.6542 - accuracy: 0.6267 - auc_10: 0.6630 - precision_10: 0.6667 - recall_10: 0.4609 - f1_score: 0.6532 - val_loss: 0.6820 - val_accuracy: 0.5697 - val_auc_10: 0.5999 - val_precision_10: 0.5824 - val_recall_10: 0.4309 - val_f1_score: 0.6578 - 1s/epoch - 83ms/step\n",
      "Epoch 9/50\n",
      "16/16 - 1s - loss: 0.6519 - accuracy: 0.6287 - auc_10: 0.6669 - precision_10: 0.6629 - recall_10: 0.4774 - f1_score: 0.6532 - val_loss: 0.6807 - val_accuracy: 0.5697 - val_auc_10: 0.6020 - val_precision_10: 0.5806 - val_recall_10: 0.4390 - val_f1_score: 0.6578 - 1s/epoch - 84ms/step\n",
      "Epoch 10/50\n",
      "16/16 - 2s - loss: 0.6506 - accuracy: 0.6168 - auc_10: 0.6650 - precision_10: 0.6349 - recall_10: 0.4938 - f1_score: 0.6532 - val_loss: 0.6791 - val_accuracy: 0.5857 - val_auc_10: 0.6024 - val_precision_10: 0.5960 - val_recall_10: 0.4797 - val_f1_score: 0.6578 - 2s/epoch - 97ms/step\n",
      "Epoch 11/50\n",
      "16/16 - 2s - loss: 0.6488 - accuracy: 0.6228 - auc_10: 0.6690 - precision_10: 0.6421 - recall_10: 0.5021 - f1_score: 0.6532 - val_loss: 0.6791 - val_accuracy: 0.5817 - val_auc_10: 0.6052 - val_precision_10: 0.5900 - val_recall_10: 0.4797 - val_f1_score: 0.6578 - 2s/epoch - 101ms/step\n",
      "Epoch 12/50\n",
      "16/16 - 2s - loss: 0.6478 - accuracy: 0.6168 - auc_10: 0.6721 - precision_10: 0.6294 - recall_10: 0.5103 - f1_score: 0.6532 - val_loss: 0.6769 - val_accuracy: 0.5817 - val_auc_10: 0.6099 - val_precision_10: 0.5900 - val_recall_10: 0.4797 - val_f1_score: 0.6578 - 2s/epoch - 96ms/step\n",
      "Epoch 13/50\n",
      "16/16 - 2s - loss: 0.6459 - accuracy: 0.6248 - auc_10: 0.6764 - precision_10: 0.6396 - recall_10: 0.5185 - f1_score: 0.6532 - val_loss: 0.6770 - val_accuracy: 0.5857 - val_auc_10: 0.6114 - val_precision_10: 0.5960 - val_recall_10: 0.4797 - val_f1_score: 0.6578 - 2s/epoch - 115ms/step\n",
      "Epoch 14/50\n",
      "16/16 - 2s - loss: 0.6453 - accuracy: 0.6327 - auc_10: 0.6763 - precision_10: 0.6545 - recall_10: 0.5144 - f1_score: 0.6532 - val_loss: 0.6765 - val_accuracy: 0.5936 - val_auc_10: 0.6131 - val_precision_10: 0.6082 - val_recall_10: 0.4797 - val_f1_score: 0.6578 - 2s/epoch - 109ms/step\n",
      "Epoch 15/50\n",
      "16/16 - 2s - loss: 0.6425 - accuracy: 0.6387 - auc_10: 0.6824 - precision_10: 0.6615 - recall_10: 0.5226 - f1_score: 0.6532 - val_loss: 0.6761 - val_accuracy: 0.5857 - val_auc_10: 0.6153 - val_precision_10: 0.5979 - val_recall_10: 0.4715 - val_f1_score: 0.6578 - 2s/epoch - 112ms/step\n",
      "Epoch 16/50\n",
      "16/16 - 2s - loss: 0.6422 - accuracy: 0.6367 - auc_10: 0.6827 - precision_10: 0.6564 - recall_10: 0.5267 - f1_score: 0.6532 - val_loss: 0.6736 - val_accuracy: 0.5817 - val_auc_10: 0.6191 - val_precision_10: 0.5900 - val_recall_10: 0.4797 - val_f1_score: 0.6578 - 2s/epoch - 108ms/step\n",
      "Epoch 17/50\n",
      "16/16 - 2s - loss: 0.6397 - accuracy: 0.6367 - auc_10: 0.6885 - precision_10: 0.6564 - recall_10: 0.5267 - f1_score: 0.6532 - val_loss: 0.6736 - val_accuracy: 0.5817 - val_auc_10: 0.6188 - val_precision_10: 0.5900 - val_recall_10: 0.4797 - val_f1_score: 0.6578 - 2s/epoch - 101ms/step\n",
      "Epoch 18/50\n",
      "16/16 - 1s - loss: 0.6391 - accuracy: 0.6347 - auc_10: 0.6909 - precision_10: 0.6546 - recall_10: 0.5226 - f1_score: 0.6532 - val_loss: 0.6735 - val_accuracy: 0.5777 - val_auc_10: 0.6187 - val_precision_10: 0.5859 - val_recall_10: 0.4715 - val_f1_score: 0.6578 - 1s/epoch - 85ms/step\n",
      "Epoch 19/50\n",
      "16/16 - 1s - loss: 0.6384 - accuracy: 0.6347 - auc_10: 0.6900 - precision_10: 0.6546 - recall_10: 0.5226 - f1_score: 0.6532 - val_loss: 0.6716 - val_accuracy: 0.5737 - val_auc_10: 0.6250 - val_precision_10: 0.5816 - val_recall_10: 0.4634 - val_f1_score: 0.6578 - 1s/epoch - 83ms/step\n",
      "Epoch 20/50\n",
      "16/16 - 1s - loss: 0.6374 - accuracy: 0.6387 - auc_10: 0.6917 - precision_10: 0.6566 - recall_10: 0.5350 - f1_score: 0.6532 - val_loss: 0.6712 - val_accuracy: 0.5777 - val_auc_10: 0.6255 - val_precision_10: 0.5859 - val_recall_10: 0.4715 - val_f1_score: 0.6578 - 1s/epoch - 87ms/step\n",
      "Epoch 21/50\n",
      "16/16 - 1s - loss: 0.6368 - accuracy: 0.6407 - auc_10: 0.6920 - precision_10: 0.6615 - recall_10: 0.5309 - f1_score: 0.6532 - val_loss: 0.6709 - val_accuracy: 0.5777 - val_auc_10: 0.6261 - val_precision_10: 0.5859 - val_recall_10: 0.4715 - val_f1_score: 0.6578 - 1s/epoch - 84ms/step\n",
      "Epoch 22/50\n",
      "16/16 - 1s - loss: 0.6360 - accuracy: 0.6387 - auc_10: 0.6934 - precision_10: 0.6582 - recall_10: 0.5309 - f1_score: 0.6532 - val_loss: 0.6716 - val_accuracy: 0.5697 - val_auc_10: 0.6271 - val_precision_10: 0.5758 - val_recall_10: 0.4634 - val_f1_score: 0.6578 - 1s/epoch - 83ms/step\n",
      "Epoch 23/50\n",
      "16/16 - 1s - loss: 0.6348 - accuracy: 0.6407 - auc_10: 0.6957 - precision_10: 0.6599 - recall_10: 0.5350 - f1_score: 0.6532 - val_loss: 0.6715 - val_accuracy: 0.5817 - val_auc_10: 0.6258 - val_precision_10: 0.5918 - val_recall_10: 0.4715 - val_f1_score: 0.6578 - 1s/epoch - 84ms/step\n",
      "Epoch 24/50\n",
      "16/16 - 1s - loss: 0.6348 - accuracy: 0.6447 - auc_10: 0.6943 - precision_10: 0.6650 - recall_10: 0.5391 - f1_score: 0.6532 - val_loss: 0.6699 - val_accuracy: 0.5737 - val_auc_10: 0.6283 - val_precision_10: 0.5800 - val_recall_10: 0.4715 - val_f1_score: 0.6578 - 1s/epoch - 87ms/step\n",
      "Epoch 25/50\n",
      "16/16 - 1s - loss: 0.6341 - accuracy: 0.6487 - auc_10: 0.6947 - precision_10: 0.6718 - recall_10: 0.5391 - f1_score: 0.6532 - val_loss: 0.6691 - val_accuracy: 0.5777 - val_auc_10: 0.6308 - val_precision_10: 0.5842 - val_recall_10: 0.4797 - val_f1_score: 0.6578 - 1s/epoch - 84ms/step\n",
      "Epoch 26/50\n",
      "16/16 - 1s - loss: 0.6367 - accuracy: 0.6427 - auc_10: 0.6901 - precision_10: 0.6633 - recall_10: 0.5350 - f1_score: 0.6532 - val_loss: 0.6692 - val_accuracy: 0.5777 - val_auc_10: 0.6321 - val_precision_10: 0.5859 - val_recall_10: 0.4715 - val_f1_score: 0.6578 - 1s/epoch - 85ms/step\n",
      "Epoch 27/50\n",
      "16/16 - 1s - loss: 0.6354 - accuracy: 0.6427 - auc_10: 0.6919 - precision_10: 0.6616 - recall_10: 0.5391 - f1_score: 0.6532 - val_loss: 0.6673 - val_accuracy: 0.5857 - val_auc_10: 0.6329 - val_precision_10: 0.5905 - val_recall_10: 0.5041 - val_f1_score: 0.6578 - 1s/epoch - 84ms/step\n",
      "Epoch 28/50\n",
      "16/16 - 1s - loss: 0.6352 - accuracy: 0.6547 - auc_10: 0.6930 - precision_10: 0.6699 - recall_10: 0.5679 - f1_score: 0.6532 - val_loss: 0.6668 - val_accuracy: 0.5896 - val_auc_10: 0.6361 - val_precision_10: 0.5980 - val_recall_10: 0.4959 - val_f1_score: 0.6578 - 1s/epoch - 87ms/step\n",
      "Epoch 29/50\n",
      "16/16 - 2s - loss: 0.6353 - accuracy: 0.6487 - auc_10: 0.6906 - precision_10: 0.6618 - recall_10: 0.5638 - f1_score: 0.6532 - val_loss: 0.6654 - val_accuracy: 0.5857 - val_auc_10: 0.6374 - val_precision_10: 0.5905 - val_recall_10: 0.5041 - val_f1_score: 0.6578 - 2s/epoch - 124ms/step\n",
      "Epoch 30/50\n",
      "16/16 - 2s - loss: 0.6331 - accuracy: 0.6527 - auc_10: 0.6956 - precision_10: 0.6683 - recall_10: 0.5638 - f1_score: 0.6532 - val_loss: 0.6660 - val_accuracy: 0.5857 - val_auc_10: 0.6382 - val_precision_10: 0.5941 - val_recall_10: 0.4878 - val_f1_score: 0.6578 - 2s/epoch - 103ms/step\n",
      "Epoch 31/50\n",
      "16/16 - 2s - loss: 0.6326 - accuracy: 0.6547 - auc_10: 0.6957 - precision_10: 0.6716 - recall_10: 0.5638 - f1_score: 0.6532 - val_loss: 0.6661 - val_accuracy: 0.5896 - val_auc_10: 0.6383 - val_precision_10: 0.5962 - val_recall_10: 0.5041 - val_f1_score: 0.6578 - 2s/epoch - 109ms/step\n",
      "Epoch 32/50\n",
      "16/16 - 2s - loss: 0.6318 - accuracy: 0.6527 - auc_10: 0.6975 - precision_10: 0.6683 - recall_10: 0.5638 - f1_score: 0.6532 - val_loss: 0.6646 - val_accuracy: 0.5896 - val_auc_10: 0.6391 - val_precision_10: 0.5962 - val_recall_10: 0.5041 - val_f1_score: 0.6578 - 2s/epoch - 119ms/step\n",
      "Epoch 33/50\n",
      "16/16 - 1s - loss: 0.6295 - accuracy: 0.6547 - auc_10: 0.7004 - precision_10: 0.6699 - recall_10: 0.5679 - f1_score: 0.6532 - val_loss: 0.6675 - val_accuracy: 0.5857 - val_auc_10: 0.6345 - val_precision_10: 0.5941 - val_recall_10: 0.4878 - val_f1_score: 0.6578 - 1s/epoch - 88ms/step\n",
      "Epoch 34/50\n",
      "16/16 - 1s - loss: 0.6293 - accuracy: 0.6547 - auc_10: 0.6999 - precision_10: 0.6716 - recall_10: 0.5638 - f1_score: 0.6532 - val_loss: 0.6687 - val_accuracy: 0.5817 - val_auc_10: 0.6353 - val_precision_10: 0.5882 - val_recall_10: 0.4878 - val_f1_score: 0.6578 - 1s/epoch - 83ms/step\n",
      "Epoch 35/50\n",
      "16/16 - 1s - loss: 0.6297 - accuracy: 0.6547 - auc_10: 0.7006 - precision_10: 0.6716 - recall_10: 0.5638 - f1_score: 0.6532 - val_loss: 0.6686 - val_accuracy: 0.5896 - val_auc_10: 0.6356 - val_precision_10: 0.6000 - val_recall_10: 0.4878 - val_f1_score: 0.6578 - 1s/epoch - 84ms/step\n",
      "Epoch 36/50\n",
      "16/16 - 1s - loss: 0.6284 - accuracy: 0.6527 - auc_10: 0.7022 - precision_10: 0.6667 - recall_10: 0.5679 - f1_score: 0.6532 - val_loss: 0.6657 - val_accuracy: 0.5817 - val_auc_10: 0.6402 - val_precision_10: 0.5865 - val_recall_10: 0.4959 - val_f1_score: 0.6578 - 1s/epoch - 86ms/step\n",
      "Epoch 37/50\n",
      "16/16 - 1s - loss: 0.6276 - accuracy: 0.6507 - auc_10: 0.7034 - precision_10: 0.6635 - recall_10: 0.5679 - f1_score: 0.6532 - val_loss: 0.6665 - val_accuracy: 0.5857 - val_auc_10: 0.6374 - val_precision_10: 0.5941 - val_recall_10: 0.4878 - val_f1_score: 0.6578 - 1s/epoch - 84ms/step\n",
      "Epoch 38/50\n",
      "16/16 - 1s - loss: 0.6271 - accuracy: 0.6547 - auc_10: 0.7048 - precision_10: 0.6716 - recall_10: 0.5638 - f1_score: 0.6532 - val_loss: 0.6655 - val_accuracy: 0.5817 - val_auc_10: 0.6397 - val_precision_10: 0.5865 - val_recall_10: 0.4959 - val_f1_score: 0.6578 - 1s/epoch - 86ms/step\n",
      "Epoch 39/50\n",
      "16/16 - 1s - loss: 0.6262 - accuracy: 0.6567 - auc_10: 0.7054 - precision_10: 0.6749 - recall_10: 0.5638 - f1_score: 0.6532 - val_loss: 0.6647 - val_accuracy: 0.5817 - val_auc_10: 0.6404 - val_precision_10: 0.5865 - val_recall_10: 0.4959 - val_f1_score: 0.6578 - 1s/epoch - 84ms/step\n",
      "Epoch 40/50\n",
      "16/16 - 1s - loss: 0.6264 - accuracy: 0.6527 - auc_10: 0.7047 - precision_10: 0.6667 - recall_10: 0.5679 - f1_score: 0.6532 - val_loss: 0.6659 - val_accuracy: 0.5857 - val_auc_10: 0.6408 - val_precision_10: 0.5922 - val_recall_10: 0.4959 - val_f1_score: 0.6578 - 1s/epoch - 86ms/step\n",
      "Epoch 41/50\n",
      "16/16 - 1s - loss: 0.6262 - accuracy: 0.6587 - auc_10: 0.7054 - precision_10: 0.6765 - recall_10: 0.5679 - f1_score: 0.6532 - val_loss: 0.6660 - val_accuracy: 0.5857 - val_auc_10: 0.6407 - val_precision_10: 0.5941 - val_recall_10: 0.4878 - val_f1_score: 0.6578 - 1s/epoch - 84ms/step\n",
      "Epoch 42/50\n",
      "16/16 - 1s - loss: 0.6263 - accuracy: 0.6547 - auc_10: 0.7038 - precision_10: 0.6716 - recall_10: 0.5638 - f1_score: 0.6532 - val_loss: 0.6655 - val_accuracy: 0.5777 - val_auc_10: 0.6401 - val_precision_10: 0.5825 - val_recall_10: 0.4878 - val_f1_score: 0.6578 - 1s/epoch - 85ms/step\n",
      "Epoch 43/50\n",
      "16/16 - 2s - loss: 0.6253 - accuracy: 0.6587 - auc_10: 0.7067 - precision_10: 0.6782 - recall_10: 0.5638 - f1_score: 0.6532 - val_loss: 0.6660 - val_accuracy: 0.5936 - val_auc_10: 0.6410 - val_precision_10: 0.6040 - val_recall_10: 0.4959 - val_f1_score: 0.6578 - 2s/epoch - 94ms/step\n",
      "Epoch 44/50\n",
      "16/16 - 2s - loss: 0.6257 - accuracy: 0.6587 - auc_10: 0.7052 - precision_10: 0.6782 - recall_10: 0.5638 - f1_score: 0.6532 - val_loss: 0.6664 - val_accuracy: 0.5857 - val_auc_10: 0.6391 - val_precision_10: 0.5941 - val_recall_10: 0.4878 - val_f1_score: 0.6578 - 2s/epoch - 121ms/step\n",
      "Epoch 45/50\n",
      "16/16 - 2s - loss: 0.6245 - accuracy: 0.6587 - auc_10: 0.7082 - precision_10: 0.6782 - recall_10: 0.5638 - f1_score: 0.6532 - val_loss: 0.6662 - val_accuracy: 0.5817 - val_auc_10: 0.6411 - val_precision_10: 0.5882 - val_recall_10: 0.4878 - val_f1_score: 0.6578 - 2s/epoch - 99ms/step\n",
      "Epoch 46/50\n",
      "16/16 - 2s - loss: 0.6249 - accuracy: 0.6567 - auc_10: 0.7049 - precision_10: 0.6732 - recall_10: 0.5679 - f1_score: 0.6532 - val_loss: 0.6661 - val_accuracy: 0.5896 - val_auc_10: 0.6413 - val_precision_10: 0.6000 - val_recall_10: 0.4878 - val_f1_score: 0.6578 - 2s/epoch - 97ms/step\n",
      "Epoch 47/50\n",
      "16/16 - 1s - loss: 0.6242 - accuracy: 0.6607 - auc_10: 0.7059 - precision_10: 0.6780 - recall_10: 0.5720 - f1_score: 0.6532 - val_loss: 0.6648 - val_accuracy: 0.5857 - val_auc_10: 0.6420 - val_precision_10: 0.5922 - val_recall_10: 0.4959 - val_f1_score: 0.6578 - 1s/epoch - 87ms/step\n",
      "Epoch 48/50\n",
      "16/16 - 1s - loss: 0.6233 - accuracy: 0.6607 - auc_10: 0.7083 - precision_10: 0.6798 - recall_10: 0.5679 - f1_score: 0.6532 - val_loss: 0.6653 - val_accuracy: 0.5896 - val_auc_10: 0.6406 - val_precision_10: 0.6000 - val_recall_10: 0.4878 - val_f1_score: 0.6578 - 1s/epoch - 92ms/step\n",
      "Epoch 49/50\n",
      "16/16 - 2s - loss: 0.6233 - accuracy: 0.6587 - auc_10: 0.7088 - precision_10: 0.6765 - recall_10: 0.5679 - f1_score: 0.6532 - val_loss: 0.6644 - val_accuracy: 0.5777 - val_auc_10: 0.6421 - val_precision_10: 0.5825 - val_recall_10: 0.4878 - val_f1_score: 0.6578 - 2s/epoch - 99ms/step\n",
      "Epoch 50/50\n",
      "16/16 - 2s - loss: 0.6228 - accuracy: 0.6587 - auc_10: 0.7096 - precision_10: 0.6765 - recall_10: 0.5679 - f1_score: 0.6532 - val_loss: 0.6653 - val_accuracy: 0.5896 - val_auc_10: 0.6428 - val_precision_10: 0.5980 - val_recall_10: 0.4959 - val_f1_score: 0.6578 - 2s/epoch - 97ms/step\n"
     ]
    },
    {
     "data": {
      "image/png": "[encoded data removed]",
      "text/plain": [
       "<Figure size 432x288 with 1 Axes>"
      ]
     },
     "metadata": {
      "needs_background": "light"
     },
     "output_type": "display_data"
    },
    {
     "name": "stdout",
     "output_type": "stream",
     "text": [
      "Epoch 1/50\n",
      "16/16 - 4s - loss: 0.7186 - accuracy: 0.5040 - auc_11: 0.4241 - precision_11: 0.4762 - recall_11: 0.0810 - f1_score: 0.6595 - val_loss: 0.6961 - val_accuracy: 0.5240 - val_auc_11: 0.5161 - val_precision_11: 0.5000 - val_recall_11: 0.1176 - val_f1_score: 0.6450 - 4s/epoch - 231ms/step\n",
      "Epoch 2/50\n",
      "16/16 - 1s - loss: 0.7052 - accuracy: 0.5040 - auc_11: 0.4739 - precision_11: 0.4844 - recall_11: 0.1255 - f1_score: 0.6595 - val_loss: 0.6926 - val_accuracy: 0.5280 - val_auc_11: 0.5188 - val_precision_11: 0.5102 - val_recall_11: 0.2101 - val_f1_score: 0.6450 - 1s/epoch - 84ms/step\n",
      "Epoch 3/50\n",
      "16/16 - 1s - loss: 0.6989 - accuracy: 0.5199 - auc_11: 0.4899 - precision_11: 0.5273 - recall_11: 0.2348 - f1_score: 0.6595 - val_loss: 0.6899 - val_accuracy: 0.5360 - val_auc_11: 0.5347 - val_precision_11: 0.5217 - val_recall_11: 0.3025 - val_f1_score: 0.6450 - 1s/epoch - 84ms/step\n",
      "Epoch 4/50\n",
      "16/16 - 1s - loss: 0.6965 - accuracy: 0.5000 - auc_11: 0.4931 - precision_11: 0.4863 - recall_11: 0.2874 - f1_score: 0.6595 - val_loss: 0.6896 - val_accuracy: 0.5200 - val_auc_11: 0.5317 - val_precision_11: 0.4944 - val_recall_11: 0.3697 - val_f1_score: 0.6450 - 1s/epoch - 88ms/step\n",
      "Epoch 5/50\n",
      "16/16 - 1s - loss: 0.6929 - accuracy: 0.4920 - auc_11: 0.5095 - precision_11: 0.4765 - recall_11: 0.3279 - f1_score: 0.6595 - val_loss: 0.6884 - val_accuracy: 0.5280 - val_auc_11: 0.5423 - val_precision_11: 0.5054 - val_recall_11: 0.3950 - val_f1_score: 0.6450 - 1s/epoch - 86ms/step\n",
      "Epoch 6/50\n",
      "16/16 - 1s - loss: 0.6913 - accuracy: 0.5319 - auc_11: 0.5210 - precision_11: 0.5370 - recall_11: 0.3522 - f1_score: 0.6595 - val_loss: 0.6856 - val_accuracy: 0.5440 - val_auc_11: 0.5561 - val_precision_11: 0.5287 - val_recall_11: 0.3866 - val_f1_score: 0.6450 - 1s/epoch - 89ms/step\n",
      "Epoch 7/50\n",
      "16/16 - 1s - loss: 0.6892 - accuracy: 0.5398 - auc_11: 0.5313 - precision_11: 0.5426 - recall_11: 0.4130 - f1_score: 0.6595 - val_loss: 0.6844 - val_accuracy: 0.5600 - val_auc_11: 0.5646 - val_precision_11: 0.5437 - val_recall_11: 0.4706 - val_f1_score: 0.6450 - 1s/epoch - 84ms/step\n",
      "Epoch 8/50\n",
      "16/16 - 1s - loss: 0.6868 - accuracy: 0.5378 - auc_11: 0.5425 - precision_11: 0.5419 - recall_11: 0.3927 - f1_score: 0.6595 - val_loss: 0.6833 - val_accuracy: 0.5640 - val_auc_11: 0.5695 - val_precision_11: 0.5556 - val_recall_11: 0.4202 - val_f1_score: 0.6450 - 1s/epoch - 87ms/step\n",
      "Epoch 9/50\n",
      "16/16 - 1s - loss: 0.6853 - accuracy: 0.5438 - auc_11: 0.5483 - precision_11: 0.5495 - recall_11: 0.4049 - f1_score: 0.6595 - val_loss: 0.6808 - val_accuracy: 0.5720 - val_auc_11: 0.5876 - val_precision_11: 0.5638 - val_recall_11: 0.4454 - val_f1_score: 0.6450 - 1s/epoch - 89ms/step\n",
      "Epoch 10/50\n",
      "16/16 - 1s - loss: 0.6837 - accuracy: 0.5359 - auc_11: 0.5611 - precision_11: 0.5385 - recall_11: 0.3968 - f1_score: 0.6595 - val_loss: 0.6810 - val_accuracy: 0.5560 - val_auc_11: 0.5840 - val_precision_11: 0.5435 - val_recall_11: 0.4202 - val_f1_score: 0.6450 - 1s/epoch - 85ms/step\n",
      "Epoch 11/50\n",
      "16/16 - 2s - loss: 0.6819 - accuracy: 0.5518 - auc_11: 0.5717 - precision_11: 0.5550 - recall_11: 0.4494 - f1_score: 0.6595 - val_loss: 0.6805 - val_accuracy: 0.5680 - val_auc_11: 0.5868 - val_precision_11: 0.5495 - val_recall_11: 0.5126 - val_f1_score: 0.6450 - 2s/epoch - 102ms/step\n",
      "Epoch 12/50\n",
      "16/16 - 1s - loss: 0.6807 - accuracy: 0.5498 - auc_11: 0.5767 - precision_11: 0.5475 - recall_11: 0.4899 - f1_score: 0.6595 - val_loss: 0.6796 - val_accuracy: 0.5760 - val_auc_11: 0.5856 - val_precision_11: 0.5607 - val_recall_11: 0.5042 - val_f1_score: 0.6450 - 1s/epoch - 82ms/step\n",
      "Epoch 13/50\n",
      "16/16 - 2s - loss: 0.6792 - accuracy: 0.5498 - auc_11: 0.5890 - precision_11: 0.5498 - recall_11: 0.4696 - f1_score: 0.6595 - val_loss: 0.6788 - val_accuracy: 0.5720 - val_auc_11: 0.5935 - val_precision_11: 0.5545 - val_recall_11: 0.5126 - val_f1_score: 0.6450 - 2s/epoch - 101ms/step\n",
      "Epoch 14/50\n",
      "16/16 - 1s - loss: 0.6785 - accuracy: 0.5478 - auc_11: 0.5920 - precision_11: 0.5526 - recall_11: 0.4251 - f1_score: 0.6595 - val_loss: 0.6781 - val_accuracy: 0.5640 - val_auc_11: 0.5909 - val_precision_11: 0.5521 - val_recall_11: 0.4454 - val_f1_score: 0.6450 - 1s/epoch - 89ms/step\n",
      "Epoch 15/50\n",
      "16/16 - 1s - loss: 0.6763 - accuracy: 0.5578 - auc_11: 0.6049 - precision_11: 0.5668 - recall_11: 0.4291 - f1_score: 0.6595 - val_loss: 0.6756 - val_accuracy: 0.5760 - val_auc_11: 0.6057 - val_precision_11: 0.5644 - val_recall_11: 0.4790 - val_f1_score: 0.6450 - 1s/epoch - 90ms/step\n",
      "Epoch 16/50\n",
      "16/16 - 1s - loss: 0.6749 - accuracy: 0.5657 - auc_11: 0.6153 - precision_11: 0.5744 - recall_11: 0.4534 - f1_score: 0.6595 - val_loss: 0.6755 - val_accuracy: 0.5920 - val_auc_11: 0.6035 - val_precision_11: 0.5810 - val_recall_11: 0.5126 - val_f1_score: 0.6450 - 1s/epoch - 89ms/step\n",
      "Epoch 17/50\n",
      "16/16 - 1s - loss: 0.6748 - accuracy: 0.5637 - auc_11: 0.6168 - precision_11: 0.5737 - recall_11: 0.4413 - f1_score: 0.6595 - val_loss: 0.6737 - val_accuracy: 0.5880 - val_auc_11: 0.6123 - val_precision_11: 0.5833 - val_recall_11: 0.4706 - val_f1_score: 0.6450 - 1s/epoch - 83ms/step\n",
      "Epoch 18/50\n",
      "16/16 - 1s - loss: 0.6730 - accuracy: 0.5717 - auc_11: 0.6248 - precision_11: 0.5792 - recall_11: 0.4737 - f1_score: 0.6595 - val_loss: 0.6737 - val_accuracy: 0.5960 - val_auc_11: 0.6148 - val_precision_11: 0.5849 - val_recall_11: 0.5210 - val_f1_score: 0.6450 - 1s/epoch - 85ms/step\n",
      "Epoch 19/50\n",
      "16/16 - 1s - loss: 0.6725 - accuracy: 0.5677 - auc_11: 0.6279 - precision_11: 0.5781 - recall_11: 0.4494 - f1_score: 0.6595 - val_loss: 0.6728 - val_accuracy: 0.6080 - val_auc_11: 0.6189 - val_precision_11: 0.6019 - val_recall_11: 0.5210 - val_f1_score: 0.6450 - 1s/epoch - 83ms/step\n",
      "Epoch 20/50\n",
      "16/16 - 1s - loss: 0.6708 - accuracy: 0.5737 - auc_11: 0.6341 - precision_11: 0.5912 - recall_11: 0.4332 - f1_score: 0.6595 - val_loss: 0.6725 - val_accuracy: 0.5880 - val_auc_11: 0.6164 - val_precision_11: 0.5833 - val_recall_11: 0.4706 - val_f1_score: 0.6450 - 1s/epoch - 90ms/step\n",
      "Epoch 21/50\n",
      "16/16 - 2s - loss: 0.6701 - accuracy: 0.5717 - auc_11: 0.6402 - precision_11: 0.5870 - recall_11: 0.4372 - f1_score: 0.6595 - val_loss: 0.6717 - val_accuracy: 0.6040 - val_auc_11: 0.6202 - val_precision_11: 0.5980 - val_recall_11: 0.5126 - val_f1_score: 0.6450 - 2s/epoch - 96ms/step\n",
      "Epoch 22/50\n",
      "16/16 - 1s - loss: 0.6703 - accuracy: 0.5876 - auc_11: 0.6315 - precision_11: 0.6000 - recall_11: 0.4858 - f1_score: 0.6595 - val_loss: 0.6717 - val_accuracy: 0.5960 - val_auc_11: 0.6258 - val_precision_11: 0.5900 - val_recall_11: 0.4958 - val_f1_score: 0.6450 - 1s/epoch - 88ms/step\n",
      "Epoch 23/50\n",
      "16/16 - 1s - loss: 0.6692 - accuracy: 0.5797 - auc_11: 0.6403 - precision_11: 0.5891 - recall_11: 0.4818 - f1_score: 0.6595 - val_loss: 0.6720 - val_accuracy: 0.6040 - val_auc_11: 0.6218 - val_precision_11: 0.5962 - val_recall_11: 0.5210 - val_f1_score: 0.6450 - 1s/epoch - 83ms/step\n",
      "Epoch 24/50\n",
      "16/16 - 1s - loss: 0.6673 - accuracy: 0.5896 - auc_11: 0.6523 - precision_11: 0.6010 - recall_11: 0.4939 - f1_score: 0.6595 - val_loss: 0.6700 - val_accuracy: 0.6160 - val_auc_11: 0.6268 - val_precision_11: 0.6117 - val_recall_11: 0.5294 - val_f1_score: 0.6450 - 1s/epoch - 84ms/step\n",
      "Epoch 25/50\n",
      "16/16 - 1s - loss: 0.6667 - accuracy: 0.5936 - auc_11: 0.6478 - precision_11: 0.6039 - recall_11: 0.5061 - f1_score: 0.6595 - val_loss: 0.6713 - val_accuracy: 0.6000 - val_auc_11: 0.6190 - val_precision_11: 0.5941 - val_recall_11: 0.5042 - val_f1_score: 0.6450 - 1s/epoch - 82ms/step\n",
      "Epoch 26/50\n",
      "16/16 - 1s - loss: 0.6670 - accuracy: 0.5857 - auc_11: 0.6487 - precision_11: 0.6054 - recall_11: 0.4534 - f1_score: 0.6595 - val_loss: 0.6701 - val_accuracy: 0.6000 - val_auc_11: 0.6248 - val_precision_11: 0.5941 - val_recall_11: 0.5042 - val_f1_score: 0.6450 - 1s/epoch - 81ms/step\n",
      "Epoch 27/50\n",
      "16/16 - 1s - loss: 0.6657 - accuracy: 0.5976 - auc_11: 0.6532 - precision_11: 0.6119 - recall_11: 0.4980 - f1_score: 0.6595 - val_loss: 0.6687 - val_accuracy: 0.6080 - val_auc_11: 0.6299 - val_precision_11: 0.6000 - val_recall_11: 0.5294 - val_f1_score: 0.6450 - 1s/epoch - 83ms/step\n",
      "Epoch 28/50\n",
      "16/16 - 1s - loss: 0.6640 - accuracy: 0.6056 - auc_11: 0.6532 - precision_11: 0.6140 - recall_11: 0.5344 - f1_score: 0.6595 - val_loss: 0.6688 - val_accuracy: 0.6040 - val_auc_11: 0.6307 - val_precision_11: 0.5943 - val_recall_11: 0.5294 - val_f1_score: 0.6450 - 1s/epoch - 84ms/step\n",
      "Epoch 29/50\n",
      "16/16 - 1s - loss: 0.6631 - accuracy: 0.6056 - auc_11: 0.6589 - precision_11: 0.6184 - recall_11: 0.5182 - f1_score: 0.6595 - val_loss: 0.6677 - val_accuracy: 0.6080 - val_auc_11: 0.6362 - val_precision_11: 0.6000 - val_recall_11: 0.5294 - val_f1_score: 0.6450 - 1s/epoch - 83ms/step\n",
      "Epoch 30/50\n",
      "16/16 - 1s - loss: 0.6620 - accuracy: 0.6016 - auc_11: 0.6621 - precision_11: 0.6169 - recall_11: 0.5020 - f1_score: 0.6595 - val_loss: 0.6669 - val_accuracy: 0.6160 - val_auc_11: 0.6361 - val_precision_11: 0.6117 - val_recall_11: 0.5294 - val_f1_score: 0.6450 - 1s/epoch - 88ms/step\n",
      "Epoch 31/50\n",
      "16/16 - 1s - loss: 0.6612 - accuracy: 0.5996 - auc_11: 0.6618 - precision_11: 0.6106 - recall_11: 0.5142 - f1_score: 0.6595 - val_loss: 0.6669 - val_accuracy: 0.6040 - val_auc_11: 0.6378 - val_precision_11: 0.5962 - val_recall_11: 0.5210 - val_f1_score: 0.6450 - 1s/epoch - 83ms/step\n",
      "Epoch 32/50\n",
      "16/16 - 1s - loss: 0.6606 - accuracy: 0.6016 - auc_11: 0.6696 - precision_11: 0.6181 - recall_11: 0.4980 - f1_score: 0.6595 - val_loss: 0.6659 - val_accuracy: 0.6120 - val_auc_11: 0.6398 - val_precision_11: 0.6100 - val_recall_11: 0.5126 - val_f1_score: 0.6450 - 1s/epoch - 85ms/step\n",
      "Epoch 33/50\n",
      "16/16 - 1s - loss: 0.6601 - accuracy: 0.6056 - auc_11: 0.6679 - precision_11: 0.6184 - recall_11: 0.5182 - f1_score: 0.6595 - val_loss: 0.6655 - val_accuracy: 0.6080 - val_auc_11: 0.6401 - val_precision_11: 0.6019 - val_recall_11: 0.5210 - val_f1_score: 0.6450 - 1s/epoch - 84ms/step\n",
      "Epoch 34/50\n",
      "16/16 - 1s - loss: 0.6594 - accuracy: 0.6076 - auc_11: 0.6680 - precision_11: 0.6214 - recall_11: 0.5182 - f1_score: 0.6595 - val_loss: 0.6661 - val_accuracy: 0.6120 - val_auc_11: 0.6310 - val_precision_11: 0.6100 - val_recall_11: 0.5126 - val_f1_score: 0.6450 - 1s/epoch - 85ms/step\n",
      "Epoch 35/50\n",
      "16/16 - 1s - loss: 0.6595 - accuracy: 0.6036 - auc_11: 0.6693 - precision_11: 0.6176 - recall_11: 0.5101 - f1_score: 0.6595 - val_loss: 0.6652 - val_accuracy: 0.6160 - val_auc_11: 0.6378 - val_precision_11: 0.6186 - val_recall_11: 0.5042 - val_f1_score: 0.6450 - 1s/epoch - 83ms/step\n",
      "Epoch 36/50\n",
      "16/16 - 1s - loss: 0.6592 - accuracy: 0.6036 - auc_11: 0.6731 - precision_11: 0.6165 - recall_11: 0.5142 - f1_score: 0.6595 - val_loss: 0.6683 - val_accuracy: 0.6160 - val_auc_11: 0.6277 - val_precision_11: 0.6117 - val_recall_11: 0.5294 - val_f1_score: 0.6450 - 1s/epoch - 90ms/step\n",
      "Epoch 37/50\n",
      "16/16 - 1s - loss: 0.6564 - accuracy: 0.6056 - auc_11: 0.6799 - precision_11: 0.6184 - recall_11: 0.5182 - f1_score: 0.6595 - val_loss: 0.6669 - val_accuracy: 0.6040 - val_auc_11: 0.6355 - val_precision_11: 0.6000 - val_recall_11: 0.5042 - val_f1_score: 0.6450 - 1s/epoch - 87ms/step\n",
      "Epoch 38/50\n",
      "16/16 - 1s - loss: 0.6560 - accuracy: 0.6096 - auc_11: 0.6760 - precision_11: 0.6232 - recall_11: 0.5223 - f1_score: 0.6595 - val_loss: 0.6675 - val_accuracy: 0.6040 - val_auc_11: 0.6289 - val_precision_11: 0.6020 - val_recall_11: 0.4958 - val_f1_score: 0.6450 - 1s/epoch - 84ms/step\n",
      "Epoch 39/50\n",
      "16/16 - 1s - loss: 0.6551 - accuracy: 0.6175 - auc_11: 0.6819 - precision_11: 0.6316 - recall_11: 0.5344 - f1_score: 0.6595 - val_loss: 0.6681 - val_accuracy: 0.6240 - val_auc_11: 0.6244 - val_precision_11: 0.6190 - val_recall_11: 0.5462 - val_f1_score: 0.6450 - 1s/epoch - 83ms/step\n",
      "Epoch 40/50\n",
      "16/16 - 1s - loss: 0.6540 - accuracy: 0.6076 - auc_11: 0.6813 - precision_11: 0.6202 - recall_11: 0.5223 - f1_score: 0.6595 - val_loss: 0.6682 - val_accuracy: 0.6240 - val_auc_11: 0.6276 - val_precision_11: 0.6214 - val_recall_11: 0.5378 - val_f1_score: 0.6450 - 1s/epoch - 87ms/step\n",
      "Epoch 41/50\n",
      "16/16 - 1s - loss: 0.6530 - accuracy: 0.6155 - auc_11: 0.6867 - precision_11: 0.6250 - recall_11: 0.5466 - f1_score: 0.6595 - val_loss: 0.6676 - val_accuracy: 0.6120 - val_auc_11: 0.6312 - val_precision_11: 0.6058 - val_recall_11: 0.5294 - val_f1_score: 0.6450 - 1s/epoch - 80ms/step\n",
      "Epoch 42/50\n",
      "16/16 - 1s - loss: 0.6517 - accuracy: 0.6135 - auc_11: 0.6879 - precision_11: 0.6188 - recall_11: 0.5587 - f1_score: 0.6595 - val_loss: 0.6666 - val_accuracy: 0.6280 - val_auc_11: 0.6303 - val_precision_11: 0.6204 - val_recall_11: 0.5630 - val_f1_score: 0.6450 - 1s/epoch - 81ms/step\n",
      "Epoch 43/50\n",
      "16/16 - 1s - loss: 0.6523 - accuracy: 0.6155 - auc_11: 0.6826 - precision_11: 0.6350 - recall_11: 0.5142 - f1_score: 0.6595 - val_loss: 0.6690 - val_accuracy: 0.6160 - val_auc_11: 0.6176 - val_precision_11: 0.6211 - val_recall_11: 0.4958 - val_f1_score: 0.6450 - 1s/epoch - 82ms/step\n",
      "Epoch 44/50\n",
      "16/16 - 1s - loss: 0.6499 - accuracy: 0.6096 - auc_11: 0.6958 - precision_11: 0.6364 - recall_11: 0.4818 - f1_score: 0.6595 - val_loss: 0.6672 - val_accuracy: 0.6320 - val_auc_11: 0.6221 - val_precision_11: 0.6452 - val_recall_11: 0.5042 - val_f1_score: 0.6450 - 1s/epoch - 83ms/step\n",
      "Epoch 45/50\n",
      "16/16 - 1s - loss: 0.6483 - accuracy: 0.6275 - auc_11: 0.6984 - precision_11: 0.6562 - recall_11: 0.5101 - f1_score: 0.6595 - val_loss: 0.6678 - val_accuracy: 0.6160 - val_auc_11: 0.6318 - val_precision_11: 0.6095 - val_recall_11: 0.5378 - val_f1_score: 0.6450 - 1s/epoch - 83ms/step\n",
      "Epoch 46/50\n",
      "16/16 - 1s - loss: 0.6476 - accuracy: 0.6355 - auc_11: 0.6994 - precision_11: 0.6538 - recall_11: 0.5506 - f1_score: 0.6595 - val_loss: 0.6684 - val_accuracy: 0.6120 - val_auc_11: 0.6231 - val_precision_11: 0.6038 - val_recall_11: 0.5378 - val_f1_score: 0.6450 - 1s/epoch - 84ms/step\n",
      "Epoch 47/50\n",
      "16/16 - 1s - loss: 0.6463 - accuracy: 0.6375 - auc_11: 0.7008 - precision_11: 0.6540 - recall_11: 0.5587 - f1_score: 0.6595 - val_loss: 0.6670 - val_accuracy: 0.6160 - val_auc_11: 0.6322 - val_precision_11: 0.6095 - val_recall_11: 0.5378 - val_f1_score: 0.6450 - 1s/epoch - 87ms/step\n",
      "Epoch 48/50\n",
      "16/16 - 1s - loss: 0.6456 - accuracy: 0.6335 - auc_11: 0.7015 - precision_11: 0.6552 - recall_11: 0.5385 - f1_score: 0.6595 - val_loss: 0.6669 - val_accuracy: 0.6160 - val_auc_11: 0.6327 - val_precision_11: 0.6095 - val_recall_11: 0.5378 - val_f1_score: 0.6450 - 1s/epoch - 84ms/step\n",
      "Epoch 49/50\n",
      "16/16 - 1s - loss: 0.6450 - accuracy: 0.6375 - auc_11: 0.7042 - precision_11: 0.6585 - recall_11: 0.5466 - f1_score: 0.6595 - val_loss: 0.6664 - val_accuracy: 0.6160 - val_auc_11: 0.6302 - val_precision_11: 0.6117 - val_recall_11: 0.5294 - val_f1_score: 0.6450 - 1s/epoch - 84ms/step\n",
      "Epoch 50/50\n",
      "16/16 - 1s - loss: 0.6435 - accuracy: 0.6295 - auc_11: 0.7079 - precision_11: 0.6517 - recall_11: 0.5304 - f1_score: 0.6595 - val_loss: 0.6649 - val_accuracy: 0.6120 - val_auc_11: 0.6342 - val_precision_11: 0.6058 - val_recall_11: 0.5294 - val_f1_score: 0.6450 - 1s/epoch - 83ms/step\n"
     ]
    },
    {
     "data": {
      "image/png": "[encoded data removed]",
      "text/plain": [
       "<Figure size 432x288 with 1 Axes>"
      ]
     },
     "metadata": {
      "needs_background": "light"
     },
     "output_type": "display_data"
    }
   ],
   "source": [
    "for train_index, val_index in kf.split(X):\n",
    "    X_train, X_val = X[train_index], X[val_index]\n",
    "    y_train, y_val = y[train_index], y[val_index]\n",
    "    baseline_early_model = Baseline(n_features, n_length, n_outputs)\n",
    "    history = baseline_early_model.train(X_train, y_train, X_val, y_val, epochs, batch_size)\n",
    "    plt.plot(history.history['loss'])\n",
    "    plt.show()"
   ]
  },
  {
   "cell_type": "markdown",
   "metadata": {},
   "source": [
    "#### Prediction on the holdout set"
   ]
  },
  {
   "cell_type": "code",
   "execution_count": 15,
   "metadata": {},
   "outputs": [
    {
     "name": "stdout",
     "output_type": "stream",
     "text": [
      "Accuracy: 47.76% \n",
      "ROC/AUC: 0.63 \n",
      "Precision: 0.89 \n",
      "Recall: 0.45 \n",
      "F1 score: 0.93\n"
     ]
    }
   ],
   "source": [
    "y_pred = baseline_early_model.predict(X_test)\n",
    "_, acc, auc, precision, recall, f1 = baseline_early_model.evaluate(X_test, y_test)\n",
    "results.append(round(auc, 2))\n",
    "print('Accuracy: {:.2f}% \\nROC/AUC: {:.2f} \\nPrecision: {:.2f} \\nRecall: {:.2f} \\nF1 score: {:.2f}'.format(acc * 100, auc, precision, recall, f1))"
   ]
  },
  {
   "cell_type": "markdown",
   "metadata": {},
   "source": [
    "## 4. Multimodal Late Fusion"
   ]
  },
  {
   "cell_type": "markdown",
   "metadata": {},
   "source": [
    "### Dataset"
   ]
  },
  {
   "cell_type": "code",
   "execution_count": 16,
   "metadata": {},
   "outputs": [
    {
     "name": "stdout",
     "output_type": "stream",
     "text": [
      "(752, 350, 35) (752, 1)\n",
      "(268, 350, 35) (268, 1)\n"
     ]
    }
   ],
   "source": [
    "body_X_train, body_X_test, body_y_train, body_y_test = load_dataset('skeleton', binary=True, fusion=True)\n",
    "body_X_train = body_X_train.reshape(body_X_train.shape[0], body_X_train.shape[2], body_X_train.shape[3])\n",
    "body_X_test = body_X_test.reshape(body_X_test.shape[0], body_X_test.shape[2], body_X_test.shape[3])\n",
    "body_X = body_X_train.copy()\n",
    "body_y = body_y_train.copy()\n",
    "\n",
    "print(body_X_train.shape, body_y_train.shape)\n",
    "print(body_X_test.shape, body_y_test.shape)"
   ]
  },
  {
   "cell_type": "code",
   "execution_count": 17,
   "metadata": {},
   "outputs": [
    {
     "name": "stdout",
     "output_type": "stream",
     "text": [
      "(752, 350, 25) (752, 1)\n",
      "(268, 350, 25) (268, 1)\n"
     ]
    }
   ],
   "source": [
    "face_X_train, face_X_test, face_y_train, face_y_test = load_dataset('AUs', binary=True)\n",
    "face_X_train = face_X_train.reshape(face_X_train.shape[0], face_X_train.shape[2], face_X_train.shape[3])\n",
    "face_X_test = face_X_test.reshape(face_X_test.shape[0], face_X_test.shape[2], face_X_test.shape[3])\n",
    "face_X = face_X_train.copy()\n",
    "face_y = face_y_train.copy()\n",
    "\n",
    "print(face_X_train.shape, face_y_train.shape)\n",
    "print(face_X_test.shape, face_y_test.shape)"
   ]
  },
  {
   "cell_type": "code",
   "execution_count": 18,
   "metadata": {},
   "outputs": [],
   "source": [
    "n_length, body_features, face_features, n_outputs = face_X_train.shape[1], body_X_train.shape[-1], face_X_train.shape[-1], body_y_train.shape[1]"
   ]
  },
  {
   "cell_type": "markdown",
   "metadata": {},
   "source": [
    "### Baseline Model"
   ]
  },
  {
   "cell_type": "code",
   "execution_count": 19,
   "metadata": {},
   "outputs": [],
   "source": [
    "class fusioned_Baseline():\n",
    "    def __init__(self, body_features, face_features, n_length, n_outputs):\n",
    "        input_1 = Input(shape=(n_length, body_features))\n",
    "        lstm_1 = LSTM(50)(input_1)\n",
    "        dense_1 = Dense(50)(lstm_1)\n",
    "\n",
    "        input_2 = Input(shape=(n_length, face_features))\n",
    "        lstm_2 = LSTM(50)(input_2)\n",
    "        dense_2 = Dense(50)(lstm_2)\n",
    "\n",
    "        concat = Concatenate()([dense_1, dense_2])\n",
    "        output = Dense(units=n_outputs, activation='sigmoid')(concat)\n",
    "        model = Model(inputs=[input_1, input_2], outputs=[output])\n",
    "        model.compile(loss='binary_crossentropy', optimizer=tf.keras.optimizers.Adam(learning_rate=0.0001), metrics=['accuracy', tf.keras.metrics.AUC(), tf.keras.metrics.Precision(), tf.keras.metrics.Recall(), tfa.metrics.F1Score(num_classes=n_outputs, average='macro')])\n",
    "        self.model = model\n",
    "\n",
    "    def train(self, body_X_train, face_X_train, y_train, body_X_val, face_X_val, y_val, epochs, batch_size):\n",
    "        history = self.model.fit([body_X_train, face_X_train], y_train, validation_data=([body_X_val, face_X_val], y_val), \n",
    "                            epochs=epochs, batch_size=batch_size, verbose=2)\n",
    "        return history\n",
    "\n",
    "    def evaluate(self, body_X_test, face_X_test, y_test):\n",
    "        results = self.model.evaluate([body_X_test, face_X_test], y_test, verbose=0)\n",
    "        return results\n",
    "\n",
    "    def predict(self, body_X_test, face_X_test):\n",
    "        predictions = self.model.predict([body_X_test, face_X_test])\n",
    "        return predictions\n",
    "\n",
    "    def summary(self):\n",
    "        self.model.summary()"
   ]
  },
  {
   "cell_type": "code",
   "execution_count": 20,
   "metadata": {},
   "outputs": [
    {
     "name": "stdout",
     "output_type": "stream",
     "text": [
      "Model: \"model_12\"\n",
      "__________________________________________________________________________________________________\n",
      " Layer (type)                   Output Shape         Param #     Connected to                     \n",
      "==================================================================================================\n",
      " input_13 (InputLayer)          [(None, 350, 35)]    0           []                               \n",
      "                                                                                                  \n",
      " input_14 (InputLayer)          [(None, 350, 25)]    0           []                               \n",
      "                                                                                                  \n",
      " lstm_12 (LSTM)                 (None, 50)           17200       ['input_13[0][0]']               \n",
      "                                                                                                  \n",
      " lstm_13 (LSTM)                 (None, 50)           15200       ['input_14[0][0]']               \n",
      "                                                                                                  \n",
      " dense_24 (Dense)               (None, 50)           2550        ['lstm_12[0][0]']                \n",
      "                                                                                                  \n",
      " dense_25 (Dense)               (None, 50)           2550        ['lstm_13[0][0]']                \n",
      "                                                                                                  \n",
      " concatenate (Concatenate)      (None, 100)          0           ['dense_24[0][0]',               \n",
      "                                                                  'dense_25[0][0]']               \n",
      "                                                                                                  \n",
      " dense_26 (Dense)               (None, 1)            101         ['concatenate[0][0]']            \n",
      "                                                                                                  \n",
      "==================================================================================================\n",
      "Total params: 37,601\n",
      "Trainable params: 37,601\n",
      "Non-trainable params: 0\n",
      "__________________________________________________________________________________________________\n"
     ]
    }
   ],
   "source": [
    "model = fusioned_Baseline(body_features, face_features, n_length, n_outputs)\n",
    "model.summary()"
   ]
  },
  {
   "cell_type": "markdown",
   "metadata": {},
   "source": [
    "### Baseline Model"
   ]
  },
  {
   "cell_type": "code",
   "execution_count": 21,
   "metadata": {},
   "outputs": [
    {
     "name": "stdout",
     "output_type": "stream",
     "text": [
      "Epoch 1/50\n",
      "16/16 - 5s - loss: 0.6883 - accuracy: 0.5589 - auc_13: 0.5646 - precision_13: 0.5636 - recall_13: 0.3843 - f1_score: 0.6514 - val_loss: 0.6869 - val_accuracy: 0.5697 - val_auc_13: 0.5985 - val_precision_13: 0.5909 - val_recall_13: 0.4194 - val_f1_score: 0.6613 - 5s/epoch - 331ms/step\n",
      "Epoch 2/50\n",
      "16/16 - 2s - loss: 0.6762 - accuracy: 0.5808 - auc_13: 0.6015 - precision_13: 0.5964 - recall_13: 0.4091 - f1_score: 0.6514 - val_loss: 0.6883 - val_accuracy: 0.5697 - val_auc_13: 0.5955 - val_precision_13: 0.5833 - val_recall_13: 0.4516 - val_f1_score: 0.6613 - 2s/epoch - 106ms/step\n",
      "Epoch 3/50\n",
      "16/16 - 2s - loss: 0.6715 - accuracy: 0.5828 - auc_13: 0.6149 - precision_13: 0.5922 - recall_13: 0.4380 - f1_score: 0.6514 - val_loss: 0.6869 - val_accuracy: 0.5657 - val_auc_13: 0.5958 - val_precision_13: 0.5789 - val_recall_13: 0.4435 - val_f1_score: 0.6613 - 2s/epoch - 103ms/step\n",
      "Epoch 4/50\n",
      "16/16 - 2s - loss: 0.6686 - accuracy: 0.5848 - auc_13: 0.6245 - precision_13: 0.5966 - recall_13: 0.4339 - f1_score: 0.6514 - val_loss: 0.6856 - val_accuracy: 0.5657 - val_auc_13: 0.6022 - val_precision_13: 0.5824 - val_recall_13: 0.4274 - val_f1_score: 0.6613 - 2s/epoch - 106ms/step\n",
      "Epoch 5/50\n",
      "16/16 - 2s - loss: 0.6664 - accuracy: 0.5848 - auc_13: 0.6331 - precision_13: 0.5988 - recall_13: 0.4256 - f1_score: 0.6514 - val_loss: 0.6852 - val_accuracy: 0.5618 - val_auc_13: 0.6067 - val_precision_13: 0.5795 - val_recall_13: 0.4113 - val_f1_score: 0.6613 - 2s/epoch - 101ms/step\n",
      "Epoch 6/50\n",
      "16/16 - 2s - loss: 0.6652 - accuracy: 0.5868 - auc_13: 0.6364 - precision_13: 0.6023 - recall_13: 0.4256 - f1_score: 0.6514 - val_loss: 0.6855 - val_accuracy: 0.5578 - val_auc_13: 0.6030 - val_precision_13: 0.5765 - val_recall_13: 0.3952 - val_f1_score: 0.6613 - 2s/epoch - 107ms/step\n",
      "Epoch 7/50\n",
      "16/16 - 2s - loss: 0.6635 - accuracy: 0.5908 - auc_13: 0.6430 - precision_13: 0.6095 - recall_13: 0.4256 - f1_score: 0.6514 - val_loss: 0.6837 - val_accuracy: 0.5578 - val_auc_13: 0.6107 - val_precision_13: 0.5730 - val_recall_13: 0.4113 - val_f1_score: 0.6613 - 2s/epoch - 109ms/step\n",
      "Epoch 8/50\n",
      "16/16 - 2s - loss: 0.6625 - accuracy: 0.5968 - auc_13: 0.6443 - precision_13: 0.6136 - recall_13: 0.4463 - f1_score: 0.6514 - val_loss: 0.6834 - val_accuracy: 0.5618 - val_auc_13: 0.6101 - val_precision_13: 0.5761 - val_recall_13: 0.4274 - val_f1_score: 0.6613 - 2s/epoch - 106ms/step\n",
      "Epoch 9/50\n",
      "16/16 - 2s - loss: 0.6619 - accuracy: 0.5968 - auc_13: 0.6459 - precision_13: 0.6149 - recall_13: 0.4421 - f1_score: 0.6514 - val_loss: 0.6817 - val_accuracy: 0.5697 - val_auc_13: 0.6139 - val_precision_13: 0.5889 - val_recall_13: 0.4274 - val_f1_score: 0.6613 - 2s/epoch - 105ms/step\n",
      "Epoch 10/50\n",
      "16/16 - 2s - loss: 0.6604 - accuracy: 0.6088 - auc_13: 0.6519 - precision_13: 0.6278 - recall_13: 0.4669 - f1_score: 0.6514 - val_loss: 0.6803 - val_accuracy: 0.5817 - val_auc_13: 0.6120 - val_precision_13: 0.6022 - val_recall_13: 0.4516 - val_f1_score: 0.6613 - 2s/epoch - 100ms/step\n",
      "Epoch 11/50\n",
      "16/16 - 2s - loss: 0.6584 - accuracy: 0.6128 - auc_13: 0.6564 - precision_13: 0.6304 - recall_13: 0.4793 - f1_score: 0.6514 - val_loss: 0.6794 - val_accuracy: 0.5857 - val_auc_13: 0.6178 - val_precision_13: 0.6042 - val_recall_13: 0.4677 - val_f1_score: 0.6613 - 2s/epoch - 108ms/step\n",
      "Epoch 12/50\n",
      "16/16 - 2s - loss: 0.6572 - accuracy: 0.6188 - auc_13: 0.6623 - precision_13: 0.6378 - recall_13: 0.4876 - f1_score: 0.6514 - val_loss: 0.6779 - val_accuracy: 0.5936 - val_auc_13: 0.6212 - val_precision_13: 0.6170 - val_recall_13: 0.4677 - val_f1_score: 0.6613 - 2s/epoch - 104ms/step\n",
      "Epoch 13/50\n",
      "16/16 - 2s - loss: 0.6562 - accuracy: 0.6228 - auc_13: 0.6640 - precision_13: 0.6432 - recall_13: 0.4917 - f1_score: 0.6514 - val_loss: 0.6782 - val_accuracy: 0.5936 - val_auc_13: 0.6196 - val_precision_13: 0.6170 - val_recall_13: 0.4677 - val_f1_score: 0.6613 - 2s/epoch - 105ms/step\n",
      "Epoch 14/50\n",
      "16/16 - 2s - loss: 0.6553 - accuracy: 0.6287 - auc_13: 0.6668 - precision_13: 0.6522 - recall_13: 0.4959 - f1_score: 0.6514 - val_loss: 0.6780 - val_accuracy: 0.5857 - val_auc_13: 0.6174 - val_precision_13: 0.6064 - val_recall_13: 0.4597 - val_f1_score: 0.6613 - 2s/epoch - 106ms/step\n",
      "Epoch 15/50\n",
      "16/16 - 3s - loss: 0.6543 - accuracy: 0.6327 - auc_13: 0.6698 - precision_13: 0.6495 - recall_13: 0.5207 - f1_score: 0.6514 - val_loss: 0.6772 - val_accuracy: 0.5976 - val_auc_13: 0.6225 - val_precision_13: 0.6211 - val_recall_13: 0.4758 - val_f1_score: 0.6613 - 3s/epoch - 163ms/step\n",
      "Epoch 16/50\n",
      "16/16 - 2s - loss: 0.6534 - accuracy: 0.6287 - auc_13: 0.6723 - precision_13: 0.6474 - recall_13: 0.5083 - f1_score: 0.6514 - val_loss: 0.6768 - val_accuracy: 0.5976 - val_auc_13: 0.6211 - val_precision_13: 0.6264 - val_recall_13: 0.4597 - val_f1_score: 0.6613 - 2s/epoch - 145ms/step\n",
      "Epoch 17/50\n",
      "16/16 - 3s - loss: 0.6526 - accuracy: 0.6327 - auc_13: 0.6736 - precision_13: 0.6611 - recall_13: 0.4917 - f1_score: 0.6514 - val_loss: 0.6772 - val_accuracy: 0.6016 - val_auc_13: 0.6230 - val_precision_13: 0.6333 - val_recall_13: 0.4597 - val_f1_score: 0.6613 - 3s/epoch - 161ms/step\n",
      "Epoch 18/50\n",
      "16/16 - 3s - loss: 0.6521 - accuracy: 0.6307 - auc_13: 0.6746 - precision_13: 0.6492 - recall_13: 0.5124 - f1_score: 0.6514 - val_loss: 0.6762 - val_accuracy: 0.5976 - val_auc_13: 0.6259 - val_precision_13: 0.6211 - val_recall_13: 0.4758 - val_f1_score: 0.6613 - 3s/epoch - 195ms/step\n",
      "Epoch 19/50\n",
      "16/16 - 3s - loss: 0.6507 - accuracy: 0.6327 - auc_13: 0.6777 - precision_13: 0.6526 - recall_13: 0.5124 - f1_score: 0.6514 - val_loss: 0.6760 - val_accuracy: 0.6016 - val_auc_13: 0.6247 - val_precision_13: 0.6304 - val_recall_13: 0.4677 - val_f1_score: 0.6613 - 3s/epoch - 202ms/step\n",
      "Epoch 20/50\n",
      "16/16 - 4s - loss: 0.6501 - accuracy: 0.6307 - auc_13: 0.6779 - precision_13: 0.6508 - recall_13: 0.5083 - f1_score: 0.6514 - val_loss: 0.6760 - val_accuracy: 0.5936 - val_auc_13: 0.6264 - val_precision_13: 0.6196 - val_recall_13: 0.4597 - val_f1_score: 0.6613 - 4s/epoch - 221ms/step\n",
      "Epoch 21/50\n",
      "16/16 - 2s - loss: 0.6493 - accuracy: 0.6367 - auc_13: 0.6807 - precision_13: 0.6596 - recall_13: 0.5124 - f1_score: 0.6514 - val_loss: 0.6760 - val_accuracy: 0.6096 - val_auc_13: 0.6287 - val_precision_13: 0.6413 - val_recall_13: 0.4758 - val_f1_score: 0.6613 - 2s/epoch - 112ms/step\n",
      "Epoch 22/50\n",
      "16/16 - 2s - loss: 0.6474 - accuracy: 0.6367 - auc_13: 0.6828 - precision_13: 0.6579 - recall_13: 0.5165 - f1_score: 0.6514 - val_loss: 0.6757 - val_accuracy: 0.6016 - val_auc_13: 0.6239 - val_precision_13: 0.6250 - val_recall_13: 0.4839 - val_f1_score: 0.6613 - 2s/epoch - 127ms/step\n",
      "Epoch 23/50\n",
      "16/16 - 2s - loss: 0.6463 - accuracy: 0.6347 - auc_13: 0.6847 - precision_13: 0.6528 - recall_13: 0.5207 - f1_score: 0.6514 - val_loss: 0.6750 - val_accuracy: 0.6056 - val_auc_13: 0.6249 - val_precision_13: 0.6316 - val_recall_13: 0.4839 - val_f1_score: 0.6613 - 2s/epoch - 115ms/step\n",
      "Epoch 24/50\n",
      "16/16 - 2s - loss: 0.6462 - accuracy: 0.6407 - auc_13: 0.6860 - precision_13: 0.6649 - recall_13: 0.5165 - f1_score: 0.6514 - val_loss: 0.6760 - val_accuracy: 0.6016 - val_auc_13: 0.6245 - val_precision_13: 0.6250 - val_recall_13: 0.4839 - val_f1_score: 0.6613 - 2s/epoch - 121ms/step\n",
      "Epoch 25/50\n",
      "16/16 - 2s - loss: 0.6453 - accuracy: 0.6407 - auc_13: 0.6876 - precision_13: 0.6535 - recall_13: 0.5455 - f1_score: 0.6514 - val_loss: 0.6749 - val_accuracy: 0.5976 - val_auc_13: 0.6279 - val_precision_13: 0.6186 - val_recall_13: 0.4839 - val_f1_score: 0.6613 - 2s/epoch - 114ms/step\n",
      "Epoch 26/50\n",
      "16/16 - 2s - loss: 0.6442 - accuracy: 0.6387 - auc_13: 0.6887 - precision_13: 0.6533 - recall_13: 0.5372 - f1_score: 0.6514 - val_loss: 0.6749 - val_accuracy: 0.6016 - val_auc_13: 0.6249 - val_precision_13: 0.6250 - val_recall_13: 0.4839 - val_f1_score: 0.6613 - 2s/epoch - 112ms/step\n",
      "Epoch 27/50\n",
      "16/16 - 2s - loss: 0.6434 - accuracy: 0.6507 - auc_13: 0.6919 - precision_13: 0.6701 - recall_13: 0.5455 - f1_score: 0.6514 - val_loss: 0.6743 - val_accuracy: 0.6135 - val_auc_13: 0.6285 - val_precision_13: 0.6452 - val_recall_13: 0.4839 - val_f1_score: 0.6613 - 2s/epoch - 110ms/step\n",
      "Epoch 28/50\n",
      "16/16 - 2s - loss: 0.6428 - accuracy: 0.6507 - auc_13: 0.6911 - precision_13: 0.6618 - recall_13: 0.5661 - f1_score: 0.6514 - val_loss: 0.6739 - val_accuracy: 0.6056 - val_auc_13: 0.6295 - val_precision_13: 0.6289 - val_recall_13: 0.4919 - val_f1_score: 0.6613 - 2s/epoch - 135ms/step\n",
      "Epoch 29/50\n",
      "16/16 - 2s - loss: 0.6416 - accuracy: 0.6567 - auc_13: 0.6945 - precision_13: 0.6683 - recall_13: 0.5744 - f1_score: 0.6514 - val_loss: 0.6745 - val_accuracy: 0.5976 - val_auc_13: 0.6272 - val_precision_13: 0.6162 - val_recall_13: 0.4919 - val_f1_score: 0.6613 - 2s/epoch - 133ms/step\n",
      "Epoch 30/50\n",
      "16/16 - 2s - loss: 0.6427 - accuracy: 0.6527 - auc_13: 0.6917 - precision_13: 0.6619 - recall_13: 0.5744 - f1_score: 0.6514 - val_loss: 0.6745 - val_accuracy: 0.5976 - val_auc_13: 0.6255 - val_precision_13: 0.6117 - val_recall_13: 0.5081 - val_f1_score: 0.6613 - 2s/epoch - 127ms/step\n",
      "Epoch 31/50\n",
      "16/16 - 2s - loss: 0.6415 - accuracy: 0.6547 - auc_13: 0.6927 - precision_13: 0.6683 - recall_13: 0.5661 - f1_score: 0.6514 - val_loss: 0.6748 - val_accuracy: 0.6016 - val_auc_13: 0.6269 - val_precision_13: 0.6176 - val_recall_13: 0.5081 - val_f1_score: 0.6613 - 2s/epoch - 114ms/step\n",
      "Epoch 32/50\n",
      "16/16 - 2s - loss: 0.6424 - accuracy: 0.6527 - auc_13: 0.6939 - precision_13: 0.6589 - recall_13: 0.5826 - f1_score: 0.6514 - val_loss: 0.6726 - val_accuracy: 0.5976 - val_auc_13: 0.6316 - val_precision_13: 0.6117 - val_recall_13: 0.5081 - val_f1_score: 0.6613 - 2s/epoch - 107ms/step\n",
      "Epoch 33/50\n",
      "16/16 - 2s - loss: 0.6392 - accuracy: 0.6587 - auc_13: 0.6994 - precision_13: 0.6699 - recall_13: 0.5785 - f1_score: 0.6514 - val_loss: 0.6731 - val_accuracy: 0.6016 - val_auc_13: 0.6278 - val_precision_13: 0.6176 - val_recall_13: 0.5081 - val_f1_score: 0.6613 - 2s/epoch - 107ms/step\n",
      "Epoch 34/50\n",
      "16/16 - 2s - loss: 0.6390 - accuracy: 0.6567 - auc_13: 0.6982 - precision_13: 0.6750 - recall_13: 0.5579 - f1_score: 0.6514 - val_loss: 0.6745 - val_accuracy: 0.6016 - val_auc_13: 0.6291 - val_precision_13: 0.6250 - val_recall_13: 0.4839 - val_f1_score: 0.6613 - 2s/epoch - 109ms/step\n",
      "Epoch 35/50\n",
      "16/16 - 2s - loss: 0.6371 - accuracy: 0.6687 - auc_13: 0.7023 - precision_13: 0.6827 - recall_13: 0.5868 - f1_score: 0.6514 - val_loss: 0.6724 - val_accuracy: 0.6056 - val_auc_13: 0.6297 - val_precision_13: 0.6238 - val_recall_13: 0.5081 - val_f1_score: 0.6613 - 2s/epoch - 105ms/step\n",
      "Epoch 36/50\n",
      "16/16 - 2s - loss: 0.6366 - accuracy: 0.6687 - auc_13: 0.7005 - precision_13: 0.6845 - recall_13: 0.5826 - f1_score: 0.6514 - val_loss: 0.6734 - val_accuracy: 0.6056 - val_auc_13: 0.6307 - val_precision_13: 0.6289 - val_recall_13: 0.4919 - val_f1_score: 0.6613 - 2s/epoch - 136ms/step\n",
      "Epoch 37/50\n",
      "16/16 - 2s - loss: 0.6353 - accuracy: 0.6707 - auc_13: 0.7031 - precision_13: 0.6808 - recall_13: 0.5992 - f1_score: 0.6514 - val_loss: 0.6736 - val_accuracy: 0.5936 - val_auc_13: 0.6332 - val_precision_13: 0.6078 - val_recall_13: 0.5000 - val_f1_score: 0.6613 - 2s/epoch - 104ms/step\n",
      "Epoch 38/50\n",
      "16/16 - 2s - loss: 0.6358 - accuracy: 0.6567 - auc_13: 0.7021 - precision_13: 0.6620 - recall_13: 0.5909 - f1_score: 0.6514 - val_loss: 0.6733 - val_accuracy: 0.5857 - val_auc_13: 0.6313 - val_precision_13: 0.5962 - val_recall_13: 0.5000 - val_f1_score: 0.6613 - 2s/epoch - 106ms/step\n",
      "Epoch 39/50\n",
      "16/16 - 2s - loss: 0.6362 - accuracy: 0.6687 - auc_13: 0.6988 - precision_13: 0.6845 - recall_13: 0.5826 - f1_score: 0.6514 - val_loss: 0.6734 - val_accuracy: 0.5936 - val_auc_13: 0.6316 - val_precision_13: 0.6100 - val_recall_13: 0.4919 - val_f1_score: 0.6613 - 2s/epoch - 106ms/step\n",
      "Epoch 40/50\n",
      "16/16 - 2s - loss: 0.6344 - accuracy: 0.6747 - auc_13: 0.7048 - precision_13: 0.6890 - recall_13: 0.5950 - f1_score: 0.6514 - val_loss: 0.6721 - val_accuracy: 0.5857 - val_auc_13: 0.6342 - val_precision_13: 0.5980 - val_recall_13: 0.4919 - val_f1_score: 0.6613 - 2s/epoch - 100ms/step\n",
      "Epoch 41/50\n",
      "16/16 - 2s - loss: 0.6337 - accuracy: 0.6747 - auc_13: 0.7048 - precision_13: 0.6837 - recall_13: 0.6074 - f1_score: 0.6514 - val_loss: 0.6722 - val_accuracy: 0.5857 - val_auc_13: 0.6339 - val_precision_13: 0.5943 - val_recall_13: 0.5081 - val_f1_score: 0.6613 - 2s/epoch - 105ms/step\n",
      "Epoch 42/50\n",
      "16/16 - 2s - loss: 0.6334 - accuracy: 0.6786 - auc_13: 0.7056 - precision_13: 0.6884 - recall_13: 0.6116 - f1_score: 0.6514 - val_loss: 0.6711 - val_accuracy: 0.5817 - val_auc_13: 0.6338 - val_precision_13: 0.5888 - val_recall_13: 0.5081 - val_f1_score: 0.6613 - 2s/epoch - 109ms/step\n",
      "Epoch 43/50\n",
      "16/16 - 2s - loss: 0.6320 - accuracy: 0.6727 - auc_13: 0.7094 - precision_13: 0.6773 - recall_13: 0.6157 - f1_score: 0.6514 - val_loss: 0.6718 - val_accuracy: 0.5976 - val_auc_13: 0.6371 - val_precision_13: 0.6117 - val_recall_13: 0.5081 - val_f1_score: 0.6613 - 2s/epoch - 104ms/step\n",
      "Epoch 44/50\n",
      "16/16 - 2s - loss: 0.6314 - accuracy: 0.6747 - auc_13: 0.7094 - precision_13: 0.6756 - recall_13: 0.6281 - f1_score: 0.6514 - val_loss: 0.6707 - val_accuracy: 0.5896 - val_auc_13: 0.6380 - val_precision_13: 0.5981 - val_recall_13: 0.5161 - val_f1_score: 0.6613 - 2s/epoch - 100ms/step\n",
      "Epoch 45/50\n",
      "16/16 - 2s - loss: 0.6302 - accuracy: 0.6727 - auc_13: 0.7123 - precision_13: 0.6773 - recall_13: 0.6157 - f1_score: 0.6514 - val_loss: 0.6707 - val_accuracy: 0.6056 - val_auc_13: 0.6384 - val_precision_13: 0.6214 - val_recall_13: 0.5161 - val_f1_score: 0.6613 - 2s/epoch - 106ms/step\n",
      "Epoch 46/50\n",
      "16/16 - 2s - loss: 0.6280 - accuracy: 0.6747 - auc_13: 0.7162 - precision_13: 0.6756 - recall_13: 0.6281 - f1_score: 0.6514 - val_loss: 0.6715 - val_accuracy: 0.6056 - val_auc_13: 0.6389 - val_precision_13: 0.6126 - val_recall_13: 0.5484 - val_f1_score: 0.6613 - 2s/epoch - 110ms/step\n",
      "Epoch 47/50\n",
      "16/16 - 2s - loss: 0.6276 - accuracy: 0.6826 - auc_13: 0.7198 - precision_13: 0.6828 - recall_13: 0.6405 - f1_score: 0.6514 - val_loss: 0.6701 - val_accuracy: 0.6175 - val_auc_13: 0.6391 - val_precision_13: 0.6250 - val_recall_13: 0.5645 - val_f1_score: 0.6613 - 2s/epoch - 105ms/step\n",
      "Epoch 48/50\n",
      "16/16 - 2s - loss: 0.6264 - accuracy: 0.6786 - auc_13: 0.7191 - precision_13: 0.6723 - recall_13: 0.6529 - f1_score: 0.6514 - val_loss: 0.6705 - val_accuracy: 0.6096 - val_auc_13: 0.6368 - val_precision_13: 0.6161 - val_recall_13: 0.5565 - val_f1_score: 0.6613 - 2s/epoch - 107ms/step\n",
      "Epoch 49/50\n",
      "16/16 - 2s - loss: 0.6269 - accuracy: 0.6766 - auc_13: 0.7175 - precision_13: 0.6653 - recall_13: 0.6653 - f1_score: 0.6514 - val_loss: 0.6696 - val_accuracy: 0.6056 - val_auc_13: 0.6400 - val_precision_13: 0.6106 - val_recall_13: 0.5565 - val_f1_score: 0.6613 - 2s/epoch - 106ms/step\n",
      "Epoch 50/50\n",
      "16/16 - 2s - loss: 0.6277 - accuracy: 0.6906 - auc_13: 0.7180 - precision_13: 0.6933 - recall_13: 0.6446 - f1_score: 0.6514 - val_loss: 0.6692 - val_accuracy: 0.6135 - val_auc_13: 0.6427 - val_precision_13: 0.6239 - val_recall_13: 0.5484 - val_f1_score: 0.6613 - 2s/epoch - 124ms/step\n"
     ]
    },
    {
     "data": {
      "image/png": "[encoded data removed]",
      "text/plain": [
       "<Figure size 432x288 with 1 Axes>"
      ]
     },
     "metadata": {
      "needs_background": "light"
     },
     "output_type": "display_data"
    },
    {
     "name": "stdout",
     "output_type": "stream",
     "text": [
      "Epoch 1/50\n",
      "16/16 - 5s - loss: 0.6932 - accuracy: 0.5329 - auc_14: 0.5265 - precision_14: 0.5266 - recall_14: 0.3663 - f1_score: 0.6532 - val_loss: 0.6820 - val_accuracy: 0.5737 - val_auc_14: 0.5806 - val_precision_14: 0.5769 - val_recall_14: 0.4878 - val_f1_score: 0.6578 - 5s/epoch - 327ms/step\n",
      "Epoch 2/50\n",
      "16/16 - 2s - loss: 0.6831 - accuracy: 0.5649 - auc_14: 0.5889 - precision_14: 0.5622 - recall_14: 0.4650 - f1_score: 0.6532 - val_loss: 0.6794 - val_accuracy: 0.5817 - val_auc_14: 0.5965 - val_precision_14: 0.5763 - val_recall_14: 0.5528 - val_f1_score: 0.6578 - 2s/epoch - 117ms/step\n",
      "Epoch 3/50\n",
      "16/16 - 2s - loss: 0.6791 - accuracy: 0.5689 - auc_14: 0.6067 - precision_14: 0.5616 - recall_14: 0.5062 - f1_score: 0.6532 - val_loss: 0.6750 - val_accuracy: 0.5896 - val_auc_14: 0.6146 - val_precision_14: 0.5893 - val_recall_14: 0.5366 - val_f1_score: 0.6578 - 2s/epoch - 117ms/step\n",
      "Epoch 4/50\n",
      "16/16 - 2s - loss: 0.6739 - accuracy: 0.5888 - auc_14: 0.6252 - precision_14: 0.5815 - recall_14: 0.5432 - f1_score: 0.6532 - val_loss: 0.6719 - val_accuracy: 0.5936 - val_auc_14: 0.6233 - val_precision_14: 0.5929 - val_recall_14: 0.5447 - val_f1_score: 0.6578 - 2s/epoch - 117ms/step\n",
      "Epoch 5/50\n",
      "16/16 - 2s - loss: 0.6717 - accuracy: 0.5848 - auc_14: 0.6272 - precision_14: 0.5822 - recall_14: 0.5103 - f1_score: 0.6532 - val_loss: 0.6701 - val_accuracy: 0.5817 - val_auc_14: 0.6287 - val_precision_14: 0.5957 - val_recall_14: 0.4553 - val_f1_score: 0.6578 - 2s/epoch - 103ms/step\n",
      "Epoch 6/50\n",
      "16/16 - 2s - loss: 0.6684 - accuracy: 0.5868 - auc_14: 0.6372 - precision_14: 0.5989 - recall_14: 0.4486 - f1_score: 0.6532 - val_loss: 0.6761 - val_accuracy: 0.5697 - val_auc_14: 0.6073 - val_precision_14: 0.5904 - val_recall_14: 0.3984 - val_f1_score: 0.6578 - 2s/epoch - 103ms/step\n",
      "Epoch 7/50\n",
      "16/16 - 2s - loss: 0.6643 - accuracy: 0.6068 - auc_14: 0.6538 - precision_14: 0.6223 - recall_14: 0.4815 - f1_score: 0.6532 - val_loss: 0.6775 - val_accuracy: 0.5618 - val_auc_14: 0.6022 - val_precision_14: 0.5765 - val_recall_14: 0.3984 - val_f1_score: 0.6578 - 2s/epoch - 108ms/step\n",
      "Epoch 8/50\n",
      "16/16 - 2s - loss: 0.6636 - accuracy: 0.6028 - auc_14: 0.6515 - precision_14: 0.5940 - recall_14: 0.5720 - f1_score: 0.6532 - val_loss: 0.6741 - val_accuracy: 0.5697 - val_auc_14: 0.6093 - val_precision_14: 0.5600 - val_recall_14: 0.5691 - val_f1_score: 0.6578 - 2s/epoch - 111ms/step\n",
      "Epoch 9/50\n",
      "16/16 - 2s - loss: 0.6603 - accuracy: 0.6108 - auc_14: 0.6605 - precision_14: 0.5909 - recall_14: 0.6420 - f1_score: 0.6532 - val_loss: 0.6713 - val_accuracy: 0.5817 - val_auc_14: 0.6183 - val_precision_14: 0.5726 - val_recall_14: 0.5772 - val_f1_score: 0.6578 - 2s/epoch - 112ms/step\n",
      "Epoch 10/50\n",
      "16/16 - 2s - loss: 0.6567 - accuracy: 0.6267 - auc_14: 0.6723 - precision_14: 0.6217 - recall_14: 0.5885 - f1_score: 0.6532 - val_loss: 0.6712 - val_accuracy: 0.5936 - val_auc_14: 0.6227 - val_precision_14: 0.6061 - val_recall_14: 0.4878 - val_f1_score: 0.6578 - 2s/epoch - 111ms/step\n",
      "Epoch 11/50\n",
      "16/16 - 2s - loss: 0.6546 - accuracy: 0.6327 - auc_14: 0.6775 - precision_14: 0.6385 - recall_14: 0.5597 - f1_score: 0.6532 - val_loss: 0.6695 - val_accuracy: 0.5777 - val_auc_14: 0.6262 - val_precision_14: 0.5766 - val_recall_14: 0.5203 - val_f1_score: 0.6578 - 2s/epoch - 107ms/step\n",
      "Epoch 12/50\n",
      "16/16 - 2s - loss: 0.6521 - accuracy: 0.6228 - auc_14: 0.6757 - precision_14: 0.6134 - recall_14: 0.6008 - f1_score: 0.6532 - val_loss: 0.6704 - val_accuracy: 0.5817 - val_auc_14: 0.6220 - val_precision_14: 0.5818 - val_recall_14: 0.5203 - val_f1_score: 0.6578 - 2s/epoch - 108ms/step\n",
      "Epoch 13/50\n",
      "16/16 - 2s - loss: 0.6502 - accuracy: 0.6267 - auc_14: 0.6821 - precision_14: 0.6186 - recall_14: 0.6008 - f1_score: 0.6532 - val_loss: 0.6677 - val_accuracy: 0.5578 - val_auc_14: 0.6290 - val_precision_14: 0.5508 - val_recall_14: 0.5285 - val_f1_score: 0.6578 - 2s/epoch - 108ms/step\n",
      "Epoch 14/50\n",
      "16/16 - 2s - loss: 0.6505 - accuracy: 0.6208 - auc_14: 0.6845 - precision_14: 0.6109 - recall_14: 0.6008 - f1_score: 0.6532 - val_loss: 0.6676 - val_accuracy: 0.5777 - val_auc_14: 0.6325 - val_precision_14: 0.5810 - val_recall_14: 0.4959 - val_f1_score: 0.6578 - 2s/epoch - 113ms/step\n",
      "Epoch 15/50\n",
      "16/16 - 2s - loss: 0.6476 - accuracy: 0.6307 - auc_14: 0.6880 - precision_14: 0.6208 - recall_14: 0.6132 - f1_score: 0.6532 - val_loss: 0.6640 - val_accuracy: 0.5777 - val_auc_14: 0.6404 - val_precision_14: 0.5702 - val_recall_14: 0.5610 - val_f1_score: 0.6578 - 2s/epoch - 109ms/step\n",
      "Epoch 16/50\n",
      "16/16 - 2s - loss: 0.6474 - accuracy: 0.6427 - auc_14: 0.6887 - precision_14: 0.6301 - recall_14: 0.6379 - f1_score: 0.6532 - val_loss: 0.6613 - val_accuracy: 0.5817 - val_auc_14: 0.6475 - val_precision_14: 0.5882 - val_recall_14: 0.4878 - val_f1_score: 0.6578 - 2s/epoch - 121ms/step\n",
      "Epoch 17/50\n",
      "16/16 - 2s - loss: 0.6448 - accuracy: 0.6427 - auc_14: 0.6929 - precision_14: 0.6455 - recall_14: 0.5844 - f1_score: 0.6532 - val_loss: 0.6649 - val_accuracy: 0.6016 - val_auc_14: 0.6433 - val_precision_14: 0.6211 - val_recall_14: 0.4797 - val_f1_score: 0.6578 - 2s/epoch - 115ms/step\n",
      "Epoch 18/50\n",
      "16/16 - 2s - loss: 0.6417 - accuracy: 0.6447 - auc_14: 0.6922 - precision_14: 0.6471 - recall_14: 0.5885 - f1_score: 0.6532 - val_loss: 0.6595 - val_accuracy: 0.6096 - val_auc_14: 0.6539 - val_precision_14: 0.6126 - val_recall_14: 0.5528 - val_f1_score: 0.6578 - 2s/epoch - 132ms/step\n",
      "Epoch 19/50\n",
      "16/16 - 2s - loss: 0.6425 - accuracy: 0.6387 - auc_14: 0.6917 - precision_14: 0.6220 - recall_14: 0.6502 - f1_score: 0.6532 - val_loss: 0.6542 - val_accuracy: 0.6135 - val_auc_14: 0.6696 - val_precision_14: 0.6102 - val_recall_14: 0.5854 - val_f1_score: 0.6578 - 2s/epoch - 112ms/step\n",
      "Epoch 20/50\n",
      "16/16 - 2s - loss: 0.6434 - accuracy: 0.6267 - auc_14: 0.6871 - precision_14: 0.6261 - recall_14: 0.5720 - f1_score: 0.6532 - val_loss: 0.6535 - val_accuracy: 0.6375 - val_auc_14: 0.6743 - val_precision_14: 0.6538 - val_recall_14: 0.5528 - val_f1_score: 0.6578 - 2s/epoch - 109ms/step\n",
      "Epoch 21/50\n",
      "16/16 - 2s - loss: 0.6413 - accuracy: 0.6347 - auc_14: 0.6899 - precision_14: 0.6210 - recall_14: 0.6337 - f1_score: 0.6532 - val_loss: 0.6597 - val_accuracy: 0.5737 - val_auc_14: 0.6482 - val_precision_14: 0.5645 - val_recall_14: 0.5691 - val_f1_score: 0.6578 - 2s/epoch - 118ms/step\n",
      "Epoch 22/50\n",
      "16/16 - 2s - loss: 0.6406 - accuracy: 0.6307 - auc_14: 0.6943 - precision_14: 0.6169 - recall_14: 0.6296 - f1_score: 0.6532 - val_loss: 0.6598 - val_accuracy: 0.5976 - val_auc_14: 0.6475 - val_precision_14: 0.6038 - val_recall_14: 0.5203 - val_f1_score: 0.6578 - 2s/epoch - 113ms/step\n",
      "Epoch 23/50\n",
      "16/16 - 2s - loss: 0.6405 - accuracy: 0.6347 - auc_14: 0.6982 - precision_14: 0.6282 - recall_14: 0.6049 - f1_score: 0.6532 - val_loss: 0.6594 - val_accuracy: 0.5896 - val_auc_14: 0.6482 - val_precision_14: 0.5862 - val_recall_14: 0.5528 - val_f1_score: 0.6578 - 2s/epoch - 117ms/step\n",
      "Epoch 24/50\n",
      "16/16 - 2s - loss: 0.6392 - accuracy: 0.6407 - auc_14: 0.6994 - precision_14: 0.6255 - recall_14: 0.6461 - f1_score: 0.6532 - val_loss: 0.6600 - val_accuracy: 0.5817 - val_auc_14: 0.6469 - val_precision_14: 0.5789 - val_recall_14: 0.5366 - val_f1_score: 0.6578 - 2s/epoch - 101ms/step\n",
      "Epoch 25/50\n",
      "16/16 - 2s - loss: 0.6392 - accuracy: 0.6427 - auc_14: 0.7003 - precision_14: 0.6260 - recall_14: 0.6543 - f1_score: 0.6532 - val_loss: 0.6598 - val_accuracy: 0.5817 - val_auc_14: 0.6471 - val_precision_14: 0.5703 - val_recall_14: 0.5935 - val_f1_score: 0.6578 - 2s/epoch - 101ms/step\n",
      "Epoch 26/50\n",
      "16/16 - 2s - loss: 0.6386 - accuracy: 0.6587 - auc_14: 0.6979 - precision_14: 0.6395 - recall_14: 0.6790 - f1_score: 0.6532 - val_loss: 0.6581 - val_accuracy: 0.5896 - val_auc_14: 0.6487 - val_precision_14: 0.5862 - val_recall_14: 0.5528 - val_f1_score: 0.6578 - 2s/epoch - 101ms/step\n",
      "Epoch 27/50\n",
      "16/16 - 2s - loss: 0.6383 - accuracy: 0.6467 - auc_14: 0.7007 - precision_14: 0.6387 - recall_14: 0.6255 - f1_score: 0.6532 - val_loss: 0.6591 - val_accuracy: 0.5857 - val_auc_14: 0.6477 - val_precision_14: 0.5856 - val_recall_14: 0.5285 - val_f1_score: 0.6578 - 2s/epoch - 101ms/step\n",
      "Epoch 28/50\n",
      "16/16 - 2s - loss: 0.6384 - accuracy: 0.6507 - auc_14: 0.6977 - precision_14: 0.6360 - recall_14: 0.6543 - f1_score: 0.6532 - val_loss: 0.6570 - val_accuracy: 0.5817 - val_auc_14: 0.6534 - val_precision_14: 0.5763 - val_recall_14: 0.5528 - val_f1_score: 0.6578 - 2s/epoch - 109ms/step\n",
      "Epoch 29/50\n",
      "16/16 - 2s - loss: 0.6373 - accuracy: 0.6447 - auc_14: 0.6992 - precision_14: 0.6360 - recall_14: 0.6255 - f1_score: 0.6532 - val_loss: 0.6582 - val_accuracy: 0.5936 - val_auc_14: 0.6495 - val_precision_14: 0.5897 - val_recall_14: 0.5610 - val_f1_score: 0.6578 - 2s/epoch - 110ms/step\n",
      "Epoch 30/50\n",
      "16/16 - 2s - loss: 0.6352 - accuracy: 0.6487 - auc_14: 0.7046 - precision_14: 0.6367 - recall_14: 0.6420 - f1_score: 0.6532 - val_loss: 0.6564 - val_accuracy: 0.6056 - val_auc_14: 0.6536 - val_precision_14: 0.6000 - val_recall_14: 0.5854 - val_f1_score: 0.6578 - 2s/epoch - 115ms/step\n",
      "Epoch 31/50\n",
      "16/16 - 2s - loss: 0.6340 - accuracy: 0.6507 - auc_14: 0.7046 - precision_14: 0.6328 - recall_14: 0.6667 - f1_score: 0.6532 - val_loss: 0.6566 - val_accuracy: 0.6016 - val_auc_14: 0.6543 - val_precision_14: 0.6018 - val_recall_14: 0.5528 - val_f1_score: 0.6578 - 2s/epoch - 111ms/step\n",
      "Epoch 32/50\n",
      "16/16 - 2s - loss: 0.6350 - accuracy: 0.6407 - auc_14: 0.7028 - precision_14: 0.6307 - recall_14: 0.6255 - f1_score: 0.6532 - val_loss: 0.6569 - val_accuracy: 0.5896 - val_auc_14: 0.6519 - val_precision_14: 0.5806 - val_recall_14: 0.5854 - val_f1_score: 0.6578 - 2s/epoch - 114ms/step\n",
      "Epoch 33/50\n",
      "16/16 - 2s - loss: 0.6327 - accuracy: 0.6607 - auc_14: 0.7072 - precision_14: 0.6515 - recall_14: 0.6461 - f1_score: 0.6532 - val_loss: 0.6554 - val_accuracy: 0.6135 - val_auc_14: 0.6547 - val_precision_14: 0.6102 - val_recall_14: 0.5854 - val_f1_score: 0.6578 - 2s/epoch - 104ms/step\n",
      "Epoch 34/50\n",
      "16/16 - 2s - loss: 0.6331 - accuracy: 0.6607 - auc_14: 0.7056 - precision_14: 0.6431 - recall_14: 0.6749 - f1_score: 0.6532 - val_loss: 0.6548 - val_accuracy: 0.6295 - val_auc_14: 0.6577 - val_precision_14: 0.6339 - val_recall_14: 0.5772 - val_f1_score: 0.6578 - 2s/epoch - 113ms/step\n",
      "Epoch 35/50\n",
      "16/16 - 2s - loss: 0.6332 - accuracy: 0.6567 - auc_14: 0.7052 - precision_14: 0.6524 - recall_14: 0.6255 - f1_score: 0.6532 - val_loss: 0.6569 - val_accuracy: 0.6056 - val_auc_14: 0.6528 - val_precision_14: 0.6017 - val_recall_14: 0.5772 - val_f1_score: 0.6578 - 2s/epoch - 130ms/step\n",
      "Epoch 36/50\n",
      "16/16 - 2s - loss: 0.6314 - accuracy: 0.6567 - auc_14: 0.7071 - precision_14: 0.6437 - recall_14: 0.6543 - f1_score: 0.6532 - val_loss: 0.6553 - val_accuracy: 0.6096 - val_auc_14: 0.6542 - val_precision_14: 0.6050 - val_recall_14: 0.5854 - val_f1_score: 0.6578 - 2s/epoch - 121ms/step\n",
      "Epoch 37/50\n",
      "16/16 - 2s - loss: 0.6314 - accuracy: 0.6627 - auc_14: 0.7078 - precision_14: 0.6581 - recall_14: 0.6337 - f1_score: 0.6532 - val_loss: 0.6550 - val_accuracy: 0.6135 - val_auc_14: 0.6577 - val_precision_14: 0.6121 - val_recall_14: 0.5772 - val_f1_score: 0.6578 - 2s/epoch - 104ms/step\n",
      "Epoch 38/50\n",
      "16/16 - 2s - loss: 0.6308 - accuracy: 0.6607 - auc_14: 0.7081 - precision_14: 0.6502 - recall_14: 0.6502 - f1_score: 0.6532 - val_loss: 0.6551 - val_accuracy: 0.6056 - val_auc_14: 0.6563 - val_precision_14: 0.5968 - val_recall_14: 0.6016 - val_f1_score: 0.6578 - 2s/epoch - 105ms/step\n",
      "Epoch 39/50\n",
      "16/16 - 2s - loss: 0.6284 - accuracy: 0.6587 - auc_14: 0.7128 - precision_14: 0.6429 - recall_14: 0.6667 - f1_score: 0.6532 - val_loss: 0.6550 - val_accuracy: 0.6056 - val_auc_14: 0.6560 - val_precision_14: 0.5984 - val_recall_14: 0.5935 - val_f1_score: 0.6578 - 2s/epoch - 110ms/step\n",
      "Epoch 40/50\n",
      "16/16 - 2s - loss: 0.6290 - accuracy: 0.6647 - auc_14: 0.7121 - precision_14: 0.6609 - recall_14: 0.6337 - f1_score: 0.6532 - val_loss: 0.6566 - val_accuracy: 0.6215 - val_auc_14: 0.6530 - val_precision_14: 0.6207 - val_recall_14: 0.5854 - val_f1_score: 0.6578 - 2s/epoch - 112ms/step\n",
      "Epoch 41/50\n",
      "16/16 - 2s - loss: 0.6290 - accuracy: 0.6587 - auc_14: 0.7097 - precision_14: 0.6488 - recall_14: 0.6461 - f1_score: 0.6532 - val_loss: 0.6565 - val_accuracy: 0.6255 - val_auc_14: 0.6508 - val_precision_14: 0.6239 - val_recall_14: 0.5935 - val_f1_score: 0.6578 - 2s/epoch - 108ms/step\n",
      "Epoch 42/50\n",
      "16/16 - 2s - loss: 0.6270 - accuracy: 0.6587 - auc_14: 0.7152 - precision_14: 0.6463 - recall_14: 0.6543 - f1_score: 0.6532 - val_loss: 0.6575 - val_accuracy: 0.6135 - val_auc_14: 0.6512 - val_precision_14: 0.6121 - val_recall_14: 0.5772 - val_f1_score: 0.6578 - 2s/epoch - 106ms/step\n",
      "Epoch 43/50\n",
      "16/16 - 2s - loss: 0.6284 - accuracy: 0.6607 - auc_14: 0.7092 - precision_14: 0.6502 - recall_14: 0.6502 - f1_score: 0.6532 - val_loss: 0.6576 - val_accuracy: 0.6175 - val_auc_14: 0.6523 - val_precision_14: 0.6134 - val_recall_14: 0.5935 - val_f1_score: 0.6578 - 2s/epoch - 107ms/step\n",
      "Epoch 44/50\n",
      "16/16 - 2s - loss: 0.6275 - accuracy: 0.6467 - auc_14: 0.7141 - precision_14: 0.6331 - recall_14: 0.6461 - f1_score: 0.6532 - val_loss: 0.6560 - val_accuracy: 0.6135 - val_auc_14: 0.6538 - val_precision_14: 0.6066 - val_recall_14: 0.6016 - val_f1_score: 0.6578 - 2s/epoch - 104ms/step\n",
      "Epoch 45/50\n",
      "16/16 - 2s - loss: 0.6277 - accuracy: 0.6547 - auc_14: 0.7144 - precision_14: 0.6411 - recall_14: 0.6543 - f1_score: 0.6532 - val_loss: 0.6564 - val_accuracy: 0.6135 - val_auc_14: 0.6524 - val_precision_14: 0.6083 - val_recall_14: 0.5935 - val_f1_score: 0.6578 - 2s/epoch - 104ms/step\n",
      "Epoch 46/50\n",
      "16/16 - 2s - loss: 0.6267 - accuracy: 0.6647 - auc_14: 0.7130 - precision_14: 0.6596 - recall_14: 0.6379 - f1_score: 0.6532 - val_loss: 0.6569 - val_accuracy: 0.6215 - val_auc_14: 0.6525 - val_precision_14: 0.6250 - val_recall_14: 0.5691 - val_f1_score: 0.6578 - 2s/epoch - 111ms/step\n",
      "Epoch 47/50\n",
      "16/16 - 2s - loss: 0.6256 - accuracy: 0.6627 - auc_14: 0.7144 - precision_14: 0.6555 - recall_14: 0.6420 - f1_score: 0.6532 - val_loss: 0.6560 - val_accuracy: 0.6056 - val_auc_14: 0.6540 - val_precision_14: 0.6017 - val_recall_14: 0.5772 - val_f1_score: 0.6578 - 2s/epoch - 141ms/step\n",
      "Epoch 48/50\n",
      "16/16 - 2s - loss: 0.6271 - accuracy: 0.6507 - auc_14: 0.7129 - precision_14: 0.6349 - recall_14: 0.6584 - f1_score: 0.6532 - val_loss: 0.6560 - val_accuracy: 0.6056 - val_auc_14: 0.6526 - val_precision_14: 0.5952 - val_recall_14: 0.6098 - val_f1_score: 0.6578 - 2s/epoch - 121ms/step\n",
      "Epoch 49/50\n",
      "16/16 - 2s - loss: 0.6246 - accuracy: 0.6627 - auc_14: 0.7175 - precision_14: 0.6492 - recall_14: 0.6626 - f1_score: 0.6532 - val_loss: 0.6556 - val_accuracy: 0.6215 - val_auc_14: 0.6555 - val_precision_14: 0.6207 - val_recall_14: 0.5854 - val_f1_score: 0.6578 - 2s/epoch - 118ms/step\n",
      "Epoch 50/50\n",
      "16/16 - 2s - loss: 0.6248 - accuracy: 0.6627 - auc_14: 0.7161 - precision_14: 0.6529 - recall_14: 0.6502 - f1_score: 0.6532 - val_loss: 0.6540 - val_accuracy: 0.6255 - val_auc_14: 0.6593 - val_precision_14: 0.6261 - val_recall_14: 0.5854 - val_f1_score: 0.6578 - 2s/epoch - 113ms/step\n"
     ]
    },
    {
     "data": {
      "image/png": "[encoded data removed]",
      "text/plain": [
       "<Figure size 432x288 with 1 Axes>"
      ]
     },
     "metadata": {
      "needs_background": "light"
     },
     "output_type": "display_data"
    },
    {
     "name": "stdout",
     "output_type": "stream",
     "text": [
      "Epoch 1/50\n",
      "16/16 - 6s - loss: 0.6987 - accuracy: 0.5020 - auc_15: 0.5087 - precision_15: 0.4956 - recall_15: 0.6883 - f1_score: 0.6595 - val_loss: 0.7002 - val_accuracy: 0.4960 - val_auc_15: 0.4826 - val_precision_15: 0.4755 - val_recall_15: 0.5714 - val_f1_score: 0.6450 - 6s/epoch - 370ms/step\n",
      "Epoch 2/50\n",
      "16/16 - 2s - loss: 0.6871 - accuracy: 0.5518 - auc_15: 0.5608 - precision_15: 0.5390 - recall_15: 0.6154 - f1_score: 0.6595 - val_loss: 0.7003 - val_accuracy: 0.5040 - val_auc_15: 0.4940 - val_precision_15: 0.4790 - val_recall_15: 0.4790 - val_f1_score: 0.6450 - 2s/epoch - 107ms/step\n",
      "Epoch 3/50\n",
      "16/16 - 2s - loss: 0.6833 - accuracy: 0.5398 - auc_15: 0.5741 - precision_15: 0.5360 - recall_15: 0.4818 - f1_score: 0.6595 - val_loss: 0.6951 - val_accuracy: 0.5400 - val_auc_15: 0.5212 - val_precision_15: 0.5196 - val_recall_15: 0.4454 - val_f1_score: 0.6450 - 2s/epoch - 106ms/step\n",
      "Epoch 4/50\n",
      "16/16 - 2s - loss: 0.6795 - accuracy: 0.5737 - auc_15: 0.5953 - precision_15: 0.5760 - recall_15: 0.5061 - f1_score: 0.6595 - val_loss: 0.6933 - val_accuracy: 0.5080 - val_auc_15: 0.5301 - val_precision_15: 0.4839 - val_recall_15: 0.5042 - val_f1_score: 0.6450 - 2s/epoch - 144ms/step\n",
      "Epoch 5/50\n",
      "16/16 - 2s - loss: 0.6759 - accuracy: 0.5797 - auc_15: 0.6072 - precision_15: 0.5841 - recall_15: 0.5061 - f1_score: 0.6595 - val_loss: 0.6892 - val_accuracy: 0.5080 - val_auc_15: 0.5469 - val_precision_15: 0.4833 - val_recall_15: 0.4874 - val_f1_score: 0.6450 - 2s/epoch - 132ms/step\n",
      "Epoch 6/50\n",
      "16/16 - 2s - loss: 0.6749 - accuracy: 0.5916 - auc_15: 0.6129 - precision_15: 0.5972 - recall_15: 0.5223 - f1_score: 0.6595 - val_loss: 0.6886 - val_accuracy: 0.5080 - val_auc_15: 0.5522 - val_precision_15: 0.4833 - val_recall_15: 0.4874 - val_f1_score: 0.6450 - 2s/epoch - 111ms/step\n",
      "Epoch 7/50\n",
      "16/16 - 2s - loss: 0.6707 - accuracy: 0.5837 - auc_15: 0.6224 - precision_15: 0.5856 - recall_15: 0.5263 - f1_score: 0.6595 - val_loss: 0.6871 - val_accuracy: 0.5320 - val_auc_15: 0.5568 - val_precision_15: 0.5082 - val_recall_15: 0.5210 - val_f1_score: 0.6450 - 2s/epoch - 104ms/step\n",
      "Epoch 8/50\n",
      "16/16 - 2s - loss: 0.6704 - accuracy: 0.5936 - auc_15: 0.6241 - precision_15: 0.6009 - recall_15: 0.5182 - f1_score: 0.6595 - val_loss: 0.6873 - val_accuracy: 0.5440 - val_auc_15: 0.5570 - val_precision_15: 0.5217 - val_recall_15: 0.5042 - val_f1_score: 0.6450 - 2s/epoch - 112ms/step\n",
      "Epoch 9/50\n",
      "16/16 - 2s - loss: 0.6675 - accuracy: 0.5996 - auc_15: 0.6381 - precision_15: 0.5991 - recall_15: 0.5628 - f1_score: 0.6595 - val_loss: 0.6860 - val_accuracy: 0.5360 - val_auc_15: 0.5548 - val_precision_15: 0.5116 - val_recall_15: 0.5546 - val_f1_score: 0.6450 - 2s/epoch - 112ms/step\n",
      "Epoch 10/50\n",
      "16/16 - 2s - loss: 0.6679 - accuracy: 0.6135 - auc_15: 0.6424 - precision_15: 0.6137 - recall_15: 0.5789 - f1_score: 0.6595 - val_loss: 0.6845 - val_accuracy: 0.5400 - val_auc_15: 0.5660 - val_precision_15: 0.5154 - val_recall_15: 0.5630 - val_f1_score: 0.6450 - 2s/epoch - 109ms/step\n",
      "Epoch 11/50\n",
      "16/16 - 2s - loss: 0.6659 - accuracy: 0.5876 - auc_15: 0.6407 - precision_15: 0.5962 - recall_15: 0.5020 - f1_score: 0.6595 - val_loss: 0.6836 - val_accuracy: 0.5720 - val_auc_15: 0.5697 - val_precision_15: 0.5577 - val_recall_15: 0.4874 - val_f1_score: 0.6450 - 2s/epoch - 111ms/step\n",
      "Epoch 12/50\n",
      "16/16 - 2s - loss: 0.6636 - accuracy: 0.6215 - auc_15: 0.6529 - precision_15: 0.6377 - recall_15: 0.5344 - f1_score: 0.6595 - val_loss: 0.6835 - val_accuracy: 0.5680 - val_auc_15: 0.5703 - val_precision_15: 0.5447 - val_recall_15: 0.5630 - val_f1_score: 0.6450 - 2s/epoch - 114ms/step\n",
      "Epoch 13/50\n",
      "16/16 - 2s - loss: 0.6632 - accuracy: 0.6315 - auc_15: 0.6558 - precision_15: 0.6384 - recall_15: 0.5789 - f1_score: 0.6595 - val_loss: 0.6819 - val_accuracy: 0.5840 - val_auc_15: 0.5777 - val_precision_15: 0.5610 - val_recall_15: 0.5798 - val_f1_score: 0.6450 - 2s/epoch - 111ms/step\n",
      "Epoch 14/50\n",
      "16/16 - 2s - loss: 0.6598 - accuracy: 0.6155 - auc_15: 0.6631 - precision_15: 0.6311 - recall_15: 0.5263 - f1_score: 0.6595 - val_loss: 0.6796 - val_accuracy: 0.5960 - val_auc_15: 0.5952 - val_precision_15: 0.5833 - val_recall_15: 0.5294 - val_f1_score: 0.6450 - 2s/epoch - 115ms/step\n",
      "Epoch 15/50\n",
      "16/16 - 2s - loss: 0.6593 - accuracy: 0.6076 - auc_15: 0.6647 - precision_15: 0.6344 - recall_15: 0.4777 - f1_score: 0.6595 - val_loss: 0.6789 - val_accuracy: 0.5760 - val_auc_15: 0.5981 - val_precision_15: 0.5607 - val_recall_15: 0.5042 - val_f1_score: 0.6450 - 2s/epoch - 116ms/step\n",
      "Epoch 16/50\n",
      "16/16 - 2s - loss: 0.6569 - accuracy: 0.6255 - auc_15: 0.6722 - precision_15: 0.6425 - recall_15: 0.5385 - f1_score: 0.6595 - val_loss: 0.6787 - val_accuracy: 0.5760 - val_auc_15: 0.5983 - val_precision_15: 0.5537 - val_recall_15: 0.5630 - val_f1_score: 0.6450 - 2s/epoch - 115ms/step\n",
      "Epoch 17/50\n",
      "16/16 - 2s - loss: 0.6554 - accuracy: 0.6295 - auc_15: 0.6766 - precision_15: 0.6432 - recall_15: 0.5547 - f1_score: 0.6595 - val_loss: 0.6771 - val_accuracy: 0.5960 - val_auc_15: 0.6048 - val_precision_15: 0.5738 - val_recall_15: 0.5882 - val_f1_score: 0.6450 - 2s/epoch - 129ms/step\n",
      "Epoch 18/50\n",
      "16/16 - 2s - loss: 0.6549 - accuracy: 0.6215 - auc_15: 0.6769 - precision_15: 0.6447 - recall_15: 0.5142 - f1_score: 0.6595 - val_loss: 0.6758 - val_accuracy: 0.5880 - val_auc_15: 0.6096 - val_precision_15: 0.5727 - val_recall_15: 0.5294 - val_f1_score: 0.6450 - 2s/epoch - 135ms/step\n",
      "Epoch 19/50\n",
      "16/16 - 2s - loss: 0.6540 - accuracy: 0.6454 - auc_15: 0.6793 - precision_15: 0.6507 - recall_15: 0.6032 - f1_score: 0.6595 - val_loss: 0.6780 - val_accuracy: 0.5800 - val_auc_15: 0.6023 - val_precision_15: 0.5556 - val_recall_15: 0.5882 - val_f1_score: 0.6450 - 2s/epoch - 130ms/step\n",
      "Epoch 20/50\n",
      "16/16 - 2s - loss: 0.6544 - accuracy: 0.6295 - auc_15: 0.6709 - precision_15: 0.6517 - recall_15: 0.5304 - f1_score: 0.6595 - val_loss: 0.6750 - val_accuracy: 0.5840 - val_auc_15: 0.6105 - val_precision_15: 0.5743 - val_recall_15: 0.4874 - val_f1_score: 0.6450 - 2s/epoch - 118ms/step\n",
      "Epoch 21/50\n",
      "16/16 - 2s - loss: 0.6510 - accuracy: 0.6375 - auc_15: 0.6854 - precision_15: 0.6570 - recall_15: 0.5506 - f1_score: 0.6595 - val_loss: 0.6759 - val_accuracy: 0.5920 - val_auc_15: 0.6110 - val_precision_15: 0.5714 - val_recall_15: 0.5714 - val_f1_score: 0.6450 - 2s/epoch - 115ms/step\n",
      "Epoch 22/50\n",
      "16/16 - 2s - loss: 0.6510 - accuracy: 0.6434 - auc_15: 0.6858 - precision_15: 0.6453 - recall_15: 0.6113 - f1_score: 0.6595 - val_loss: 0.6755 - val_accuracy: 0.5960 - val_auc_15: 0.6144 - val_precision_15: 0.5738 - val_recall_15: 0.5882 - val_f1_score: 0.6450 - 2s/epoch - 110ms/step\n",
      "Epoch 23/50\n",
      "16/16 - 2s - loss: 0.6529 - accuracy: 0.6056 - auc_15: 0.6742 - precision_15: 0.6354 - recall_15: 0.4656 - f1_score: 0.6595 - val_loss: 0.6731 - val_accuracy: 0.5800 - val_auc_15: 0.6171 - val_precision_15: 0.5673 - val_recall_15: 0.4958 - val_f1_score: 0.6450 - 2s/epoch - 110ms/step\n",
      "Epoch 24/50\n",
      "16/16 - 2s - loss: 0.6494 - accuracy: 0.6255 - auc_15: 0.6830 - precision_15: 0.6277 - recall_15: 0.5870 - f1_score: 0.6595 - val_loss: 0.6775 - val_accuracy: 0.5920 - val_auc_15: 0.6116 - val_precision_15: 0.5639 - val_recall_15: 0.6303 - val_f1_score: 0.6450 - 2s/epoch - 112ms/step\n",
      "Epoch 25/50\n",
      "16/16 - 2s - loss: 0.6480 - accuracy: 0.6614 - auc_15: 0.6907 - precision_15: 0.6611 - recall_15: 0.6397 - f1_score: 0.6595 - val_loss: 0.6715 - val_accuracy: 0.6040 - val_auc_15: 0.6248 - val_precision_15: 0.5909 - val_recall_15: 0.5462 - val_f1_score: 0.6450 - 2s/epoch - 107ms/step\n",
      "Epoch 26/50\n",
      "16/16 - 2s - loss: 0.6481 - accuracy: 0.6255 - auc_15: 0.6893 - precision_15: 0.6578 - recall_15: 0.4980 - f1_score: 0.6595 - val_loss: 0.6719 - val_accuracy: 0.5800 - val_auc_15: 0.6230 - val_precision_15: 0.5660 - val_recall_15: 0.5042 - val_f1_score: 0.6450 - 2s/epoch - 113ms/step\n",
      "Epoch 27/50\n",
      "16/16 - 2s - loss: 0.6464 - accuracy: 0.6414 - auc_15: 0.6936 - precision_15: 0.6544 - recall_15: 0.5749 - f1_score: 0.6595 - val_loss: 0.6750 - val_accuracy: 0.5880 - val_auc_15: 0.6141 - val_precision_15: 0.5625 - val_recall_15: 0.6050 - val_f1_score: 0.6450 - 2s/epoch - 115ms/step\n",
      "Epoch 28/50\n",
      "16/16 - 2s - loss: 0.6445 - accuracy: 0.6414 - auc_15: 0.6985 - precision_15: 0.6544 - recall_15: 0.5749 - f1_score: 0.6595 - val_loss: 0.6711 - val_accuracy: 0.5960 - val_auc_15: 0.6259 - val_precision_15: 0.5776 - val_recall_15: 0.5630 - val_f1_score: 0.6450 - 2s/epoch - 107ms/step\n",
      "Epoch 29/50\n",
      "16/16 - 2s - loss: 0.6438 - accuracy: 0.6375 - auc_15: 0.6995 - precision_15: 0.6633 - recall_15: 0.5344 - f1_score: 0.6595 - val_loss: 0.6704 - val_accuracy: 0.5920 - val_auc_15: 0.6258 - val_precision_15: 0.5726 - val_recall_15: 0.5630 - val_f1_score: 0.6450 - 2s/epoch - 120ms/step\n",
      "Epoch 30/50\n",
      "16/16 - 2s - loss: 0.6433 - accuracy: 0.6494 - auc_15: 0.6980 - precision_15: 0.6766 - recall_15: 0.5506 - f1_score: 0.6595 - val_loss: 0.6710 - val_accuracy: 0.5840 - val_auc_15: 0.6261 - val_precision_15: 0.5652 - val_recall_15: 0.5462 - val_f1_score: 0.6450 - 2s/epoch - 139ms/step\n",
      "Epoch 31/50\n",
      "16/16 - 2s - loss: 0.6427 - accuracy: 0.6574 - auc_15: 0.7010 - precision_15: 0.6682 - recall_15: 0.6032 - f1_score: 0.6595 - val_loss: 0.6703 - val_accuracy: 0.6000 - val_auc_15: 0.6310 - val_precision_15: 0.5748 - val_recall_15: 0.6134 - val_f1_score: 0.6450 - 2s/epoch - 133ms/step\n",
      "Epoch 32/50\n",
      "16/16 - 2s - loss: 0.6410 - accuracy: 0.6673 - auc_15: 0.7022 - precision_15: 0.6905 - recall_15: 0.5870 - f1_score: 0.6595 - val_loss: 0.6686 - val_accuracy: 0.5880 - val_auc_15: 0.6304 - val_precision_15: 0.5702 - val_recall_15: 0.5462 - val_f1_score: 0.6450 - 2s/epoch - 109ms/step\n",
      "Epoch 33/50\n",
      "16/16 - 2s - loss: 0.6405 - accuracy: 0.6474 - auc_15: 0.7048 - precision_15: 0.6750 - recall_15: 0.5466 - f1_score: 0.6595 - val_loss: 0.6686 - val_accuracy: 0.5880 - val_auc_15: 0.6322 - val_precision_15: 0.5690 - val_recall_15: 0.5546 - val_f1_score: 0.6450 - 2s/epoch - 109ms/step\n",
      "Epoch 34/50\n",
      "16/16 - 2s - loss: 0.6399 - accuracy: 0.6454 - auc_15: 0.7071 - precision_15: 0.6700 - recall_15: 0.5506 - f1_score: 0.6595 - val_loss: 0.6691 - val_accuracy: 0.5960 - val_auc_15: 0.6310 - val_precision_15: 0.5763 - val_recall_15: 0.5714 - val_f1_score: 0.6450 - 2s/epoch - 101ms/step\n",
      "Epoch 35/50\n",
      "16/16 - 2s - loss: 0.6390 - accuracy: 0.6574 - auc_15: 0.7049 - precision_15: 0.6728 - recall_15: 0.5911 - f1_score: 0.6595 - val_loss: 0.6677 - val_accuracy: 0.5960 - val_auc_15: 0.6353 - val_precision_15: 0.5763 - val_recall_15: 0.5714 - val_f1_score: 0.6450 - 2s/epoch - 103ms/step\n",
      "Epoch 36/50\n",
      "16/16 - 2s - loss: 0.6381 - accuracy: 0.6514 - auc_15: 0.7094 - precision_15: 0.6800 - recall_15: 0.5506 - f1_score: 0.6595 - val_loss: 0.6678 - val_accuracy: 0.5960 - val_auc_15: 0.6362 - val_precision_15: 0.5750 - val_recall_15: 0.5798 - val_f1_score: 0.6450 - 2s/epoch - 111ms/step\n",
      "Epoch 37/50\n",
      "16/16 - 2s - loss: 0.6372 - accuracy: 0.6633 - auc_15: 0.7097 - precision_15: 0.6757 - recall_15: 0.6073 - f1_score: 0.6595 - val_loss: 0.6677 - val_accuracy: 0.5920 - val_auc_15: 0.6370 - val_precision_15: 0.5726 - val_recall_15: 0.5630 - val_f1_score: 0.6450 - 2s/epoch - 109ms/step\n",
      "Epoch 38/50\n",
      "16/16 - 2s - loss: 0.6373 - accuracy: 0.6554 - auc_15: 0.7092 - precision_15: 0.6745 - recall_15: 0.5789 - f1_score: 0.6595 - val_loss: 0.6657 - val_accuracy: 0.5960 - val_auc_15: 0.6380 - val_precision_15: 0.5776 - val_recall_15: 0.5630 - val_f1_score: 0.6450 - 2s/epoch - 115ms/step\n",
      "Epoch 39/50\n",
      "16/16 - 2s - loss: 0.6364 - accuracy: 0.6534 - auc_15: 0.7132 - precision_15: 0.6798 - recall_15: 0.5587 - f1_score: 0.6595 - val_loss: 0.6668 - val_accuracy: 0.5960 - val_auc_15: 0.6362 - val_precision_15: 0.5776 - val_recall_15: 0.5630 - val_f1_score: 0.6450 - 2s/epoch - 119ms/step\n",
      "Epoch 40/50\n",
      "16/16 - 2s - loss: 0.6355 - accuracy: 0.6733 - auc_15: 0.7113 - precision_15: 0.6895 - recall_15: 0.6113 - f1_score: 0.6595 - val_loss: 0.6671 - val_accuracy: 0.5880 - val_auc_15: 0.6371 - val_precision_15: 0.5678 - val_recall_15: 0.5630 - val_f1_score: 0.6450 - 2s/epoch - 123ms/step\n",
      "Epoch 41/50\n",
      "16/16 - 2s - loss: 0.6353 - accuracy: 0.6653 - auc_15: 0.7127 - precision_15: 0.6837 - recall_15: 0.5951 - f1_score: 0.6595 - val_loss: 0.6661 - val_accuracy: 0.5960 - val_auc_15: 0.6385 - val_precision_15: 0.5776 - val_recall_15: 0.5630 - val_f1_score: 0.6450 - 2s/epoch - 123ms/step\n",
      "Epoch 42/50\n",
      "16/16 - 2s - loss: 0.6352 - accuracy: 0.6673 - auc_15: 0.7113 - precision_15: 0.6786 - recall_15: 0.6154 - f1_score: 0.6595 - val_loss: 0.6643 - val_accuracy: 0.5960 - val_auc_15: 0.6427 - val_precision_15: 0.5750 - val_recall_15: 0.5798 - val_f1_score: 0.6450 - 2s/epoch - 129ms/step\n",
      "Epoch 43/50\n",
      "16/16 - 2s - loss: 0.6324 - accuracy: 0.6753 - auc_15: 0.7192 - precision_15: 0.6909 - recall_15: 0.6154 - f1_score: 0.6595 - val_loss: 0.6661 - val_accuracy: 0.5960 - val_auc_15: 0.6384 - val_precision_15: 0.5750 - val_recall_15: 0.5798 - val_f1_score: 0.6450 - 2s/epoch - 121ms/step\n",
      "Epoch 44/50\n",
      "16/16 - 2s - loss: 0.6337 - accuracy: 0.6673 - auc_15: 0.7140 - precision_15: 0.6923 - recall_15: 0.5830 - f1_score: 0.6595 - val_loss: 0.6658 - val_accuracy: 0.5920 - val_auc_15: 0.6414 - val_precision_15: 0.5726 - val_recall_15: 0.5630 - val_f1_score: 0.6450 - 2s/epoch - 118ms/step\n",
      "Epoch 45/50\n",
      "16/16 - 2s - loss: 0.6322 - accuracy: 0.6733 - auc_15: 0.7199 - precision_15: 0.6844 - recall_15: 0.6235 - f1_score: 0.6595 - val_loss: 0.6654 - val_accuracy: 0.6120 - val_auc_15: 0.6432 - val_precision_15: 0.5902 - val_recall_15: 0.6050 - val_f1_score: 0.6450 - 2s/epoch - 119ms/step\n",
      "Epoch 46/50\n",
      "16/16 - 2s - loss: 0.6313 - accuracy: 0.6753 - auc_15: 0.7202 - precision_15: 0.6944 - recall_15: 0.6073 - f1_score: 0.6595 - val_loss: 0.6638 - val_accuracy: 0.6000 - val_auc_15: 0.6462 - val_precision_15: 0.5812 - val_recall_15: 0.5714 - val_f1_score: 0.6450 - 2s/epoch - 118ms/step\n",
      "Epoch 47/50\n",
      "16/16 - 3s - loss: 0.6314 - accuracy: 0.6673 - auc_15: 0.7168 - precision_15: 0.6770 - recall_15: 0.6194 - f1_score: 0.6595 - val_loss: 0.6641 - val_accuracy: 0.6000 - val_auc_15: 0.6456 - val_precision_15: 0.5798 - val_recall_15: 0.5798 - val_f1_score: 0.6450 - 3s/epoch - 158ms/step\n",
      "Epoch 48/50\n",
      "16/16 - 2s - loss: 0.6305 - accuracy: 0.6833 - auc_15: 0.7216 - precision_15: 0.6864 - recall_15: 0.6559 - f1_score: 0.6595 - val_loss: 0.6652 - val_accuracy: 0.6000 - val_auc_15: 0.6428 - val_precision_15: 0.5748 - val_recall_15: 0.6134 - val_f1_score: 0.6450 - 2s/epoch - 145ms/step\n",
      "Epoch 49/50\n",
      "16/16 - 2s - loss: 0.6302 - accuracy: 0.6633 - auc_15: 0.7230 - precision_15: 0.6912 - recall_15: 0.5709 - f1_score: 0.6595 - val_loss: 0.6623 - val_accuracy: 0.5920 - val_auc_15: 0.6475 - val_precision_15: 0.5752 - val_recall_15: 0.5462 - val_f1_score: 0.6450 - 2s/epoch - 132ms/step\n",
      "Epoch 50/50\n",
      "16/16 - 2s - loss: 0.6273 - accuracy: 0.6713 - auc_15: 0.7265 - precision_15: 0.6952 - recall_15: 0.5911 - f1_score: 0.6595 - val_loss: 0.6652 - val_accuracy: 0.5960 - val_auc_15: 0.6429 - val_precision_15: 0.5738 - val_recall_15: 0.5882 - val_f1_score: 0.6450 - 2s/epoch - 113ms/step\n"
     ]
    },
    {
     "data": {
      "image/png": "[encoded data removed]",
      "text/plain": [
       "<Figure size 432x288 with 1 Axes>"
      ]
     },
     "metadata": {
      "needs_background": "light"
     },
     "output_type": "display_data"
    }
   ],
   "source": [
    "for train_index, val_index in kf.split(body_X):\n",
    "    body_X_train, body_X_val = body_X[train_index], body_X[val_index]\n",
    "    body_y_train, body_y_val = body_y[train_index], body_y[val_index]\n",
    "    face_X_train, face_X_val = face_X[train_index], face_X[val_index]\n",
    "    face_y_train, face_y_val = face_y[train_index], face_y[val_index]\n",
    "    model = fusioned_Baseline(body_features, face_features, n_length, n_outputs)\n",
    "    history = model.train(body_X_train, face_X_train, body_y_train, body_X_val, face_X_val, face_y_val, epochs, batch_size)\n",
    "    plt.plot(history.history['loss'])\n",
    "    plt.show()"
   ]
  },
  {
   "cell_type": "markdown",
   "metadata": {},
   "source": [
    "#### Prediction on the holdout set"
   ]
  },
  {
   "cell_type": "code",
   "execution_count": 22,
   "metadata": {},
   "outputs": [
    {
     "name": "stdout",
     "output_type": "stream",
     "text": [
      "Accuracy: 56.72% \n",
      "ROC/AUC: 0.69 \n",
      "Precision: 0.93 \n",
      "Recall: 0.54 \n",
      "F1 score: 0.93\n"
     ]
    }
   ],
   "source": [
    "y_pred = model.predict(body_X_test, face_X_test)\n",
    "_, acc, auc, precision, recall, f1 = model.evaluate(body_X_test, face_X_test, y_test)\n",
    "results.append(round(auc, 2))\n",
    "print('Accuracy: {:.2f}% \\nROC/AUC: {:.2f} \\nPrecision: {:.2f} \\nRecall: {:.2f} \\nF1 score: {:.2f}'.format(acc * 100, auc, precision, recall, f1))"
   ]
  },
  {
   "cell_type": "markdown",
   "metadata": {},
   "source": [
    "### Ensemble"
   ]
  },
  {
   "cell_type": "code",
   "execution_count": 23,
   "metadata": {},
   "outputs": [],
   "source": [
    "baseline_body_member = KerasMember(name=\"Body Model\", keras_model=baseline_body_model, train_batches=(body_X_train, y_train), val_batches=(body_X_test, body_y_test))\n",
    "baseline_face_member = KerasMember(name=\"Face Model\", keras_model=baseline_face_model, train_batches=(face_X_train, face_y_train), val_batches=(face_X_test, face_y_test))"
   ]
  },
  {
   "cell_type": "code",
   "execution_count": 24,
   "metadata": {},
   "outputs": [],
   "source": [
    "dirichletEnsemble = DirichletEnsemble()\n",
    "dirichletEnsemble.add_member(baseline_body_member)\n",
    "dirichletEnsemble.add_member(baseline_face_member)\n",
    "dirichletEnsemble.fit()"
   ]
  },
  {
   "cell_type": "code",
   "execution_count": 25,
   "metadata": {},
   "outputs": [
    {
     "name": "stdout",
     "output_type": "stream",
     "text": [
      "Body Model (weight: 0.5238)\n",
      "Face Model (weight: 0.4762)\n",
      "Accuracy: 100.00% - ROC/AUC: 0.66 - Precision: 1.00 - Recall: 1.00 - F1 score: 1.00\n"
     ]
    }
   ],
   "source": [
    "e = dirichletEnsemble.describe()\n",
    "results.append(round(e, 2))"
   ]
  },
  {
   "cell_type": "markdown",
   "metadata": {},
   "source": [
    "## Results"
   ]
  },
  {
   "cell_type": "code",
   "execution_count": 35,
   "metadata": {},
   "outputs": [
    {
     "data": {
      "image/png": "[encoded data removed]",
      "text/plain": [
       "<Figure size 1008x720 with 1 Axes>"
      ]
     },
     "metadata": {
      "needs_background": "light"
     },
     "output_type": "display_data"
    }
   ],
   "source": [
    "data = {'Unimodal (Body)':results[0], 'Unimodal (Face)':results[1], 'Early Fusion':results[2],\n",
    "        'Late Fusion':results[3], 'Ensemble':results[4]}\n",
    "models = list(data.keys())\n",
    "performance = list(data.values())\n",
    "  \n",
    "fig = plt.figure(figsize = (14, 10))\n",
    " \n",
    "plt.bar(models, performance, color ='maroon',\n",
    "        width = 0.4)\n",
    "\n",
    "plt.text(0, performance[0] + 0.01, performance[0], ha='center', fontsize=12)\n",
    "plt.text(1, performance[1] + 0.01, performance[1], ha='center', fontsize=12)\n",
    "plt.text(2, performance[2] + 0.01, performance[2], ha='center', fontsize=12)\n",
    "plt.text(3, performance[3] + 0.01, performance[3], ha='center', fontsize=12)\n",
    "plt.text(4, performance[4] + 0.01, performance[4], ha='center', fontsize=12)\n",
    " \n",
    "plt.title(\"Baseline AUC (Pain Prediction)\")\n",
    "plt.show()"
   ]
  },
  {
   "cell_type": "code",
   "execution_count": null,
   "metadata": {},
   "outputs": [],
   "source": []
  }
 ],
 "metadata": {
  "interpreter": {
   "hash": "225abd0b4b41c85229fb7285a24282bb8b7c5c494a1c5011beaea88d2c1fa3cf"
  },
  "kernelspec": {
   "display_name": "Python 3.9.12 ('masters-thesis-dSEc-4wZ')",
   "language": "python",
   "name": "python3"
  },
  "language_info": {
   "codemirror_mode": {
    "name": "ipython",
    "version": 3
   },
   "file_extension": ".py",
   "mimetype": "text/x-python",
   "name": "python",
   "nbconvert_exporter": "python",
   "pygments_lexer": "ipython3",
   "version": "3.9.12"
  },
  "orig_nbformat": 4
 },
 "nbformat": 4,
 "nbformat_minor": 2
}
