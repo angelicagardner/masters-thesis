{
 "cells": [
  {
   "cell_type": "markdown",
   "metadata": {},
   "source": [
    "# Baseline Results for Uni-modal Approaches"
   ]
  },
  {
   "cell_type": "code",
   "execution_count": 1,
   "metadata": {},
   "outputs": [],
   "source": [
    "import os\n",
    "os.environ['TF_CPP_MIN_LOG_LEVEL'] = '3'\n",
    "import warnings\n",
    "import numpy as np\n",
    "import pandas as pd\n",
    "import matplotlib.pyplot as plt\n",
    "import tensorflow as tf\n",
    "\n",
    "from pathlib import Path\n",
    "from sklearn.preprocessing import LabelBinarizer\n",
    "from sklearn.model_selection import KFold\n",
    "from tensorflow.keras import optimizers\n",
    "from tensorflow.keras.layers import LSTM, Dense, Flatten, TimeDistributed, Conv1D,  MaxPooling1D, ConvLSTM1D\n",
    "from tensorflow.keras import models\n",
    "\n",
    "warnings.filterwarnings(\"ignore\")"
   ]
  },
  {
   "cell_type": "code",
   "execution_count": 2,
   "metadata": {},
   "outputs": [],
   "source": [
    "def load_file(file, prediction_type):\n",
    "    df = pd.read_csv(file, header=0)\n",
    "    labels = df[prediction_type]\n",
    "    df = df.drop(columns=['pain_area', 'pain_level'])\n",
    "    df.drop(df.columns[-1], axis=1, inplace=True)\n",
    "    return df.to_numpy(), labels\n",
    "\n",
    "def load_dataset(input_filepath, prediction_type, modality):\n",
    "    root_dir = Path(os.path.abspath('')).parent\n",
    "    data_dir = root_dir / 'data'\n",
    "    train_filepath = data_dir / input_filepath / 'train' / modality\n",
    "    test_filepath = data_dir / input_filepath / 'test' / modality\n",
    "    # 1. Load train data\n",
    "    X = list()\n",
    "    y = list()\n",
    "    for file in train_filepath.iterdir():\n",
    "        if file.is_file() and file.name.endswith('.csv'):\n",
    "            x, labels = load_file(file, prediction_type)\n",
    "            X.append(x)\n",
    "            y.append(labels[0])\n",
    "    n_length = X[0].shape[0]\n",
    "    n_features = X[0].shape[1]\n",
    "    X = np.array(X)\n",
    "    X_train = X.reshape((len(X), 1, n_length, n_features))\n",
    "    lb = LabelBinarizer()\n",
    "    y_train = lb.fit_transform(y)\n",
    "    # y_train = pd.get_dummies(y)\n",
    "    # 2. Load test data\n",
    "    X = list()\n",
    "    y = list()\n",
    "    for file in test_filepath.iterdir():\n",
    "        if file.is_file() and file.name.endswith('.csv'):\n",
    "            x, labels = load_file(file, prediction_type)\n",
    "            X.append(x)\n",
    "            y.append(labels[0])\n",
    "    n_length = X[0].shape[0]\n",
    "    n_features = X[0].shape[1]\n",
    "    X = np.array(X)\n",
    "    X_test = X.reshape((len(X), 1, n_length, n_features))\n",
    "    y_test = lb.transform(y)\n",
    "    # y_test = pd.get_dummies(y)\n",
    "    # y_test, tmp = y_test.align(y_train, join='outer', axis=1, fill_value=0)\n",
    "    return X_train, X_test, y_train, y_test"
   ]
  },
  {
   "cell_type": "code",
   "execution_count": 3,
   "metadata": {},
   "outputs": [],
   "source": [
    "accuracies = []\n",
    "aucs = []\n",
    "model_names = ['M1.1 CNN+LSTM', 'M1.2 ConvLSTM', 'M1.3 CNN+LSTM', 'M1.4 ConvLSTM', 'M2.1 CNN+LSTM', 'M2.2 ConvLSTM', 'M2.3 CNN+LSTM', 'M2.4 ConvLSTM']"
   ]
  },
  {
   "cell_type": "markdown",
   "metadata": {},
   "source": [
    "## 1. Body Modality (Skeleton)"
   ]
  },
  {
   "cell_type": "markdown",
   "metadata": {},
   "source": [
    "### 1.1 Pain area prediction - CNN+LSTM"
   ]
  },
  {
   "cell_type": "markdown",
   "metadata": {},
   "source": [
    "#### Dataset"
   ]
  },
  {
   "cell_type": "code",
   "execution_count": 4,
   "metadata": {},
   "outputs": [
    {
     "name": "stdout",
     "output_type": "stream",
     "text": [
      "(534, 1, 350, 38) (534, 5)\n",
      "(81, 1, 350, 38) (81, 5)\n"
     ]
    }
   ],
   "source": [
    "X_train, X_test, y_train, y_test = load_dataset('processed', 'pain_area', 'skeleton')\n",
    "\n",
    "print(X_train.shape, y_train.shape)\n",
    "print(X_test.shape, y_test.shape)"
   ]
  },
  {
   "cell_type": "markdown",
   "metadata": {},
   "source": [
    "#### Model"
   ]
  },
  {
   "cell_type": "code",
   "execution_count": 5,
   "metadata": {},
   "outputs": [],
   "source": [
    "epochs, batch_size = 25, 256\n",
    "n_length, n_features, n_outputs = X_train.shape[2], X_train.shape[-1], y_train.shape[1]"
   ]
  },
  {
   "cell_type": "code",
   "execution_count": 6,
   "metadata": {},
   "outputs": [],
   "source": [
    "def get_CNN_model(n_features, n_length, n_outputs):\n",
    "    model = models.Sequential()\n",
    "    model.add(TimeDistributed(Conv1D(filters=64, kernel_size=3,\n",
    "        activation='relu'), input_shape=(None, n_length, n_features)))\n",
    "    model.add(TimeDistributed(MaxPooling1D(pool_size=2, data_format='channels_first')))\n",
    "    model.add(TimeDistributed(Flatten()))\n",
    "    model.add(LSTM(100))\n",
    "    model.add(Dense(100, activation='relu'))\n",
    "    model.add(Dense(n_outputs, activation='softmax'))\n",
    "    lr_schedule = optimizers.schedules.ExponentialDecay(\n",
    "        initial_learning_rate=0.001,\n",
    "        decay_steps=50,\n",
    "        decay_rate=0.1)\n",
    "    optimizer = optimizers.Adam(learning_rate=lr_schedule)\n",
    "    model.compile(loss='categorical_crossentropy',\n",
    "        optimizer=optimizer, metrics=['accuracy', tf.keras.metrics.AUC()])\n",
    "    return model\n",
    "\n",
    "def train(model, X_train, y_train, X_val, y_val, epochs, batch_size):\n",
    "    early_stopping = tf.keras.callbacks.EarlyStopping(\n",
    "        monitor='val_loss', patience=2)\n",
    "    history = model.fit(X_train, y_train, validation_data=(X_val, y_val), epochs=epochs, callbacks=[early_stopping],\n",
    "        batch_size=batch_size, verbose=2)\n",
    "    return history"
   ]
  },
  {
   "cell_type": "code",
   "execution_count": 7,
   "metadata": {},
   "outputs": [
    {
     "name": "stdout",
     "output_type": "stream",
     "text": [
      "Model: \"sequential\"\n",
      "_________________________________________________________________\n",
      " Layer (type)                Output Shape              Param #   \n",
      "=================================================================\n",
      " time_distributed (TimeDistr  (None, None, 348, 64)    7360      \n",
      " ibuted)                                                         \n",
      "                                                                 \n",
      " time_distributed_1 (TimeDis  (None, None, 348, 32)    0         \n",
      " tributed)                                                       \n",
      "                                                                 \n",
      " time_distributed_2 (TimeDis  (None, None, 11136)      0         \n",
      " tributed)                                                       \n",
      "                                                                 \n",
      " lstm (LSTM)                 (None, 100)               4494800   \n",
      "                                                                 \n",
      " dense (Dense)               (None, 100)               10100     \n",
      "                                                                 \n",
      " dense_1 (Dense)             (None, 5)                 505       \n",
      "                                                                 \n",
      "=================================================================\n",
      "Total params: 4,512,765\n",
      "Trainable params: 4,512,765\n",
      "Non-trainable params: 0\n",
      "_________________________________________________________________\n"
     ]
    }
   ],
   "source": [
    "model = get_CNN_model(n_features, n_length, n_outputs)\n",
    "model.summary()"
   ]
  },
  {
   "cell_type": "markdown",
   "metadata": {},
   "source": [
    "#### KFold CV"
   ]
  },
  {
   "cell_type": "code",
   "execution_count": 8,
   "metadata": {},
   "outputs": [
    {
     "name": "stdout",
     "output_type": "stream",
     "text": [
      "Epoch 1/25\n",
      "2/2 - 2s - loss: 1.4765 - accuracy: 0.5140 - auc_1: 0.7268 - val_loss: 1.3906 - val_accuracy: 0.5337 - val_auc_1: 0.7984 - 2s/epoch - 1s/step\n",
      "Epoch 2/25\n",
      "2/2 - 0s - loss: 1.3696 - accuracy: 0.5702 - auc_1: 0.8033 - val_loss: 1.3530 - val_accuracy: 0.5337 - val_auc_1: 0.7575 - 242ms/epoch - 121ms/step\n",
      "Epoch 3/25\n",
      "2/2 - 0s - loss: 1.3071 - accuracy: 0.5702 - auc_1: 0.7834 - val_loss: 1.3055 - val_accuracy: 0.5337 - val_auc_1: 0.7992 - 370ms/epoch - 185ms/step\n",
      "Epoch 4/25\n",
      "2/2 - 0s - loss: 1.2596 - accuracy: 0.5702 - auc_1: 0.8093 - val_loss: 1.2726 - val_accuracy: 0.5337 - val_auc_1: 0.7992 - 316ms/epoch - 158ms/step\n",
      "Epoch 5/25\n",
      "2/2 - 0s - loss: 1.2295 - accuracy: 0.5702 - auc_1: 0.8056 - val_loss: 1.2516 - val_accuracy: 0.5337 - val_auc_1: 0.7992 - 313ms/epoch - 156ms/step\n",
      "Epoch 6/25\n",
      "2/2 - 0s - loss: 1.2108 - accuracy: 0.5702 - auc_1: 0.8042 - val_loss: 1.2388 - val_accuracy: 0.5337 - val_auc_1: 0.7992 - 294ms/epoch - 147ms/step\n",
      "Epoch 7/25\n",
      "2/2 - 0s - loss: 1.2004 - accuracy: 0.5702 - auc_1: 0.8054 - val_loss: 1.2301 - val_accuracy: 0.5337 - val_auc_1: 0.7992 - 332ms/epoch - 166ms/step\n",
      "Epoch 8/25\n",
      "2/2 - 0s - loss: 1.1928 - accuracy: 0.5702 - auc_1: 0.8107 - val_loss: 1.2239 - val_accuracy: 0.5337 - val_auc_1: 0.7992 - 324ms/epoch - 162ms/step\n",
      "Epoch 9/25\n",
      "2/2 - 0s - loss: 1.1892 - accuracy: 0.5702 - auc_1: 0.8092 - val_loss: 1.2191 - val_accuracy: 0.5337 - val_auc_1: 0.7992 - 310ms/epoch - 155ms/step\n",
      "Epoch 10/25\n",
      "2/2 - 0s - loss: 1.1872 - accuracy: 0.5702 - auc_1: 0.8063 - val_loss: 1.2148 - val_accuracy: 0.5337 - val_auc_1: 0.7992 - 257ms/epoch - 129ms/step\n",
      "Epoch 11/25\n",
      "2/2 - 0s - loss: 1.1852 - accuracy: 0.5702 - auc_1: 0.8072 - val_loss: 1.2110 - val_accuracy: 0.5337 - val_auc_1: 0.7992 - 268ms/epoch - 134ms/step\n",
      "Epoch 12/25\n",
      "2/2 - 0s - loss: 1.1835 - accuracy: 0.5702 - auc_1: 0.8076 - val_loss: 1.2072 - val_accuracy: 0.5337 - val_auc_1: 0.7992 - 410ms/epoch - 205ms/step\n",
      "Epoch 13/25\n",
      "2/2 - 0s - loss: 1.1817 - accuracy: 0.5702 - auc_1: 0.8070 - val_loss: 1.2035 - val_accuracy: 0.5337 - val_auc_1: 0.7992 - 341ms/epoch - 171ms/step\n",
      "Epoch 14/25\n",
      "2/2 - 0s - loss: 1.1801 - accuracy: 0.5702 - auc_1: 0.8071 - val_loss: 1.2002 - val_accuracy: 0.5337 - val_auc_1: 0.7992 - 329ms/epoch - 164ms/step\n",
      "Epoch 15/25\n",
      "2/2 - 0s - loss: 1.1789 - accuracy: 0.5702 - auc_1: 0.8076 - val_loss: 1.1973 - val_accuracy: 0.5337 - val_auc_1: 0.7992 - 311ms/epoch - 156ms/step\n",
      "Epoch 16/25\n",
      "2/2 - 0s - loss: 1.1780 - accuracy: 0.5702 - auc_1: 0.8051 - val_loss: 1.1949 - val_accuracy: 0.5337 - val_auc_1: 0.7992 - 333ms/epoch - 166ms/step\n",
      "Epoch 17/25\n",
      "2/2 - 0s - loss: 1.1770 - accuracy: 0.5702 - auc_1: 0.8074 - val_loss: 1.1931 - val_accuracy: 0.5337 - val_auc_1: 0.7992 - 343ms/epoch - 172ms/step\n",
      "Epoch 18/25\n",
      "2/2 - 0s - loss: 1.1765 - accuracy: 0.5702 - auc_1: 0.8076 - val_loss: 1.1916 - val_accuracy: 0.5337 - val_auc_1: 0.7992 - 251ms/epoch - 125ms/step\n",
      "Epoch 19/25\n",
      "2/2 - 0s - loss: 1.1759 - accuracy: 0.5702 - auc_1: 0.8104 - val_loss: 1.1904 - val_accuracy: 0.5337 - val_auc_1: 0.7992 - 251ms/epoch - 126ms/step\n",
      "Epoch 20/25\n",
      "2/2 - 0s - loss: 1.1759 - accuracy: 0.5702 - auc_1: 0.8055 - val_loss: 1.1894 - val_accuracy: 0.5337 - val_auc_1: 0.7992 - 251ms/epoch - 125ms/step\n",
      "Epoch 21/25\n",
      "2/2 - 1s - loss: 1.1756 - accuracy: 0.5702 - auc_1: 0.8076 - val_loss: 1.1887 - val_accuracy: 0.5337 - val_auc_1: 0.7992 - 539ms/epoch - 269ms/step\n",
      "Epoch 22/25\n",
      "2/2 - 0s - loss: 1.1755 - accuracy: 0.5702 - auc_1: 0.8070 - val_loss: 1.1880 - val_accuracy: 0.5337 - val_auc_1: 0.7992 - 292ms/epoch - 146ms/step\n",
      "Epoch 23/25\n",
      "2/2 - 0s - loss: 1.1754 - accuracy: 0.5702 - auc_1: 0.8076 - val_loss: 1.1875 - val_accuracy: 0.5337 - val_auc_1: 0.7992 - 273ms/epoch - 136ms/step\n",
      "Epoch 24/25\n",
      "2/2 - 0s - loss: 1.1753 - accuracy: 0.5702 - auc_1: 0.8076 - val_loss: 1.1870 - val_accuracy: 0.5337 - val_auc_1: 0.7992 - 332ms/epoch - 166ms/step\n",
      "Epoch 25/25\n",
      "2/2 - 0s - loss: 1.1752 - accuracy: 0.5702 - auc_1: 0.8076 - val_loss: 1.1867 - val_accuracy: 0.5337 - val_auc_1: 0.7992 - 313ms/epoch - 156ms/step\n"
     ]
    },
    {
     "data": {
      "image/png": "[encoded data removed]",
      "text/plain": [
       "<Figure size 432x288 with 1 Axes>"
      ]
     },
     "metadata": {
      "needs_background": "light"
     },
     "output_type": "display_data"
    },
    {
     "name": "stdout",
     "output_type": "stream",
     "text": [
      "Epoch 1/25\n",
      "2/2 - 3s - loss: 1.4319 - accuracy: 0.5449 - auc_2: 0.7117 - val_loss: 1.3605 - val_accuracy: 0.5787 - val_auc_2: 0.7557 - 3s/epoch - 2s/step\n",
      "Epoch 2/25\n",
      "2/2 - 0s - loss: 1.3623 - accuracy: 0.5478 - auc_2: 0.7407 - val_loss: 1.2949 - val_accuracy: 0.5787 - val_auc_2: 0.7467 - 327ms/epoch - 163ms/step\n",
      "Epoch 3/25\n",
      "2/2 - 0s - loss: 1.3132 - accuracy: 0.5478 - auc_2: 0.7374 - val_loss: 1.2744 - val_accuracy: 0.5787 - val_auc_2: 0.7472 - 270ms/epoch - 135ms/step\n",
      "Epoch 4/25\n",
      "2/2 - 0s - loss: 1.2874 - accuracy: 0.5478 - auc_2: 0.7358 - val_loss: 1.2722 - val_accuracy: 0.5787 - val_auc_2: 0.7472 - 344ms/epoch - 172ms/step\n",
      "Epoch 5/25\n",
      "2/2 - 0s - loss: 1.2832 - accuracy: 0.5478 - auc_2: 0.7377 - val_loss: 1.2433 - val_accuracy: 0.5787 - val_auc_2: 0.7472 - 384ms/epoch - 192ms/step\n",
      "Epoch 6/25\n",
      "2/2 - 0s - loss: 1.2570 - accuracy: 0.5478 - auc_2: 0.7445 - val_loss: 1.2219 - val_accuracy: 0.5787 - val_auc_2: 0.7935 - 404ms/epoch - 202ms/step\n",
      "Epoch 7/25\n",
      "2/2 - 0s - loss: 1.2367 - accuracy: 0.5478 - auc_2: 0.7946 - val_loss: 1.2066 - val_accuracy: 0.5787 - val_auc_2: 0.8090 - 278ms/epoch - 139ms/step\n",
      "Epoch 8/25\n",
      "2/2 - 0s - loss: 1.2222 - accuracy: 0.5478 - auc_2: 0.8017 - val_loss: 1.1955 - val_accuracy: 0.5787 - val_auc_2: 0.8099 - 286ms/epoch - 143ms/step\n",
      "Epoch 9/25\n",
      "2/2 - 0s - loss: 1.2122 - accuracy: 0.5478 - auc_2: 0.8016 - val_loss: 1.1880 - val_accuracy: 0.5787 - val_auc_2: 0.8085 - 282ms/epoch - 141ms/step\n",
      "Epoch 10/25\n",
      "2/2 - 0s - loss: 1.2036 - accuracy: 0.5478 - auc_2: 0.8047 - val_loss: 1.1881 - val_accuracy: 0.5787 - val_auc_2: 0.8098 - 250ms/epoch - 125ms/step\n",
      "Epoch 11/25\n",
      "2/2 - 0s - loss: 1.2030 - accuracy: 0.5478 - auc_2: 0.8028 - val_loss: 1.1837 - val_accuracy: 0.5787 - val_auc_2: 0.8098 - 255ms/epoch - 127ms/step\n",
      "Epoch 12/25\n",
      "2/2 - 0s - loss: 1.1987 - accuracy: 0.5478 - auc_2: 0.8020 - val_loss: 1.1800 - val_accuracy: 0.5787 - val_auc_2: 0.8098 - 239ms/epoch - 120ms/step\n",
      "Epoch 13/25\n",
      "2/2 - 0s - loss: 1.1946 - accuracy: 0.5478 - auc_2: 0.8037 - val_loss: 1.1769 - val_accuracy: 0.5787 - val_auc_2: 0.8098 - 242ms/epoch - 121ms/step\n",
      "Epoch 14/25\n",
      "2/2 - 0s - loss: 1.1913 - accuracy: 0.5478 - auc_2: 0.8026 - val_loss: 1.1745 - val_accuracy: 0.5787 - val_auc_2: 0.8098 - 225ms/epoch - 112ms/step\n",
      "Epoch 15/25\n",
      "2/2 - 0s - loss: 1.1887 - accuracy: 0.5478 - auc_2: 0.8038 - val_loss: 1.1724 - val_accuracy: 0.5787 - val_auc_2: 0.8098 - 232ms/epoch - 116ms/step\n",
      "Epoch 16/25\n",
      "2/2 - 0s - loss: 1.1864 - accuracy: 0.5478 - auc_2: 0.8028 - val_loss: 1.1707 - val_accuracy: 0.5787 - val_auc_2: 0.8098 - 227ms/epoch - 114ms/step\n",
      "Epoch 17/25\n",
      "2/2 - 0s - loss: 1.1854 - accuracy: 0.5478 - auc_2: 0.7992 - val_loss: 1.1695 - val_accuracy: 0.5787 - val_auc_2: 0.8098 - 236ms/epoch - 118ms/step\n",
      "Epoch 18/25\n",
      "2/2 - 0s - loss: 1.1840 - accuracy: 0.5478 - auc_2: 0.8033 - val_loss: 1.1687 - val_accuracy: 0.5787 - val_auc_2: 0.8104 - 234ms/epoch - 117ms/step\n",
      "Epoch 19/25\n",
      "2/2 - 0s - loss: 1.1828 - accuracy: 0.5478 - auc_2: 0.8039 - val_loss: 1.1682 - val_accuracy: 0.5787 - val_auc_2: 0.8110 - 238ms/epoch - 119ms/step\n",
      "Epoch 20/25\n",
      "2/2 - 0s - loss: 1.1823 - accuracy: 0.5478 - auc_2: 0.8033 - val_loss: 1.1679 - val_accuracy: 0.5787 - val_auc_2: 0.8110 - 226ms/epoch - 113ms/step\n",
      "Epoch 21/25\n",
      "2/2 - 0s - loss: 1.1818 - accuracy: 0.5478 - auc_2: 0.8034 - val_loss: 1.1675 - val_accuracy: 0.5787 - val_auc_2: 0.8104 - 225ms/epoch - 113ms/step\n",
      "Epoch 22/25\n",
      "2/2 - 0s - loss: 1.1812 - accuracy: 0.5478 - auc_2: 0.8029 - val_loss: 1.1672 - val_accuracy: 0.5787 - val_auc_2: 0.8104 - 225ms/epoch - 113ms/step\n",
      "Epoch 23/25\n",
      "2/2 - 0s - loss: 1.1810 - accuracy: 0.5478 - auc_2: 0.8015 - val_loss: 1.1669 - val_accuracy: 0.5787 - val_auc_2: 0.8110 - 232ms/epoch - 116ms/step\n",
      "Epoch 24/25\n",
      "2/2 - 0s - loss: 1.1806 - accuracy: 0.5478 - auc_2: 0.8033 - val_loss: 1.1667 - val_accuracy: 0.5787 - val_auc_2: 0.8110 - 234ms/epoch - 117ms/step\n",
      "Epoch 25/25\n",
      "2/2 - 0s - loss: 1.1804 - accuracy: 0.5478 - auc_2: 0.8033 - val_loss: 1.1666 - val_accuracy: 0.5787 - val_auc_2: 0.8110 - 225ms/epoch - 113ms/step\n"
     ]
    },
    {
     "data": {
      "image/png": "[encoded data removed]",
      "text/plain": [
       "<Figure size 432x288 with 1 Axes>"
      ]
     },
     "metadata": {
      "needs_background": "light"
     },
     "output_type": "display_data"
    },
    {
     "name": "stdout",
     "output_type": "stream",
     "text": [
      "Epoch 1/25\n",
      "2/2 - 2s - loss: 1.6846 - accuracy: 0.2191 - auc_3: 0.5467 - val_loss: 1.3384 - val_accuracy: 0.5618 - val_auc_3: 0.7205 - 2s/epoch - 1s/step\n",
      "Epoch 2/25\n",
      "2/2 - 0s - loss: 1.3237 - accuracy: 0.5562 - auc_3: 0.7494 - val_loss: 1.2891 - val_accuracy: 0.5618 - val_auc_3: 0.7955 - 231ms/epoch - 116ms/step\n",
      "Epoch 3/25\n",
      "2/2 - 0s - loss: 1.2798 - accuracy: 0.5562 - auc_3: 0.8091 - val_loss: 1.2592 - val_accuracy: 0.5618 - val_auc_3: 0.7960 - 220ms/epoch - 110ms/step\n",
      "Epoch 4/25\n",
      "2/2 - 0s - loss: 1.2562 - accuracy: 0.5562 - auc_3: 0.8080 - val_loss: 1.2410 - val_accuracy: 0.5618 - val_auc_3: 0.8062 - 225ms/epoch - 113ms/step\n",
      "Epoch 5/25\n",
      "2/2 - 0s - loss: 1.2393 - accuracy: 0.5562 - auc_3: 0.8044 - val_loss: 1.2228 - val_accuracy: 0.5618 - val_auc_3: 0.8093 - 233ms/epoch - 117ms/step\n",
      "Epoch 6/25\n",
      "2/2 - 0s - loss: 1.2223 - accuracy: 0.5562 - auc_3: 0.8006 - val_loss: 1.2115 - val_accuracy: 0.5618 - val_auc_3: 0.8062 - 234ms/epoch - 117ms/step\n",
      "Epoch 7/25\n",
      "2/2 - 0s - loss: 1.2097 - accuracy: 0.5562 - auc_3: 0.8012 - val_loss: 1.2038 - val_accuracy: 0.5618 - val_auc_3: 0.8062 - 236ms/epoch - 118ms/step\n",
      "Epoch 8/25\n",
      "2/2 - 0s - loss: 1.2000 - accuracy: 0.5562 - auc_3: 0.8042 - val_loss: 1.1991 - val_accuracy: 0.5618 - val_auc_3: 0.7993 - 240ms/epoch - 120ms/step\n",
      "Epoch 9/25\n",
      "2/2 - 0s - loss: 1.1949 - accuracy: 0.5562 - auc_3: 0.8023 - val_loss: 1.1948 - val_accuracy: 0.5618 - val_auc_3: 0.8096 - 235ms/epoch - 118ms/step\n",
      "Epoch 10/25\n",
      "2/2 - 0s - loss: 1.1893 - accuracy: 0.5562 - auc_3: 0.8026 - val_loss: 1.1924 - val_accuracy: 0.5618 - val_auc_3: 0.8021 - 231ms/epoch - 116ms/step\n",
      "Epoch 11/25\n",
      "2/2 - 0s - loss: 1.1861 - accuracy: 0.5562 - auc_3: 0.8058 - val_loss: 1.1905 - val_accuracy: 0.5618 - val_auc_3: 0.8016 - 225ms/epoch - 113ms/step\n",
      "Epoch 12/25\n",
      "2/2 - 0s - loss: 1.1829 - accuracy: 0.5562 - auc_3: 0.8062 - val_loss: 1.1891 - val_accuracy: 0.5618 - val_auc_3: 0.7943 - 225ms/epoch - 113ms/step\n",
      "Epoch 13/25\n",
      "2/2 - 0s - loss: 1.1810 - accuracy: 0.5562 - auc_3: 0.8076 - val_loss: 1.1881 - val_accuracy: 0.5618 - val_auc_3: 0.8023 - 227ms/epoch - 114ms/step\n",
      "Epoch 14/25\n",
      "2/2 - 0s - loss: 1.1790 - accuracy: 0.5562 - auc_3: 0.8067 - val_loss: 1.1854 - val_accuracy: 0.5618 - val_auc_3: 0.8055 - 235ms/epoch - 118ms/step\n",
      "Epoch 15/25\n",
      "2/2 - 0s - loss: 1.1797 - accuracy: 0.5562 - auc_3: 0.8041 - val_loss: 1.1848 - val_accuracy: 0.5618 - val_auc_3: 0.8066 - 229ms/epoch - 114ms/step\n",
      "Epoch 16/25\n",
      "2/2 - 0s - loss: 1.1785 - accuracy: 0.5562 - auc_3: 0.8036 - val_loss: 1.1849 - val_accuracy: 0.5618 - val_auc_3: 0.8025 - 230ms/epoch - 115ms/step\n",
      "Epoch 17/25\n",
      "2/2 - 0s - loss: 1.1775 - accuracy: 0.5562 - auc_3: 0.8029 - val_loss: 1.1842 - val_accuracy: 0.5618 - val_auc_3: 0.8054 - 227ms/epoch - 114ms/step\n",
      "Epoch 18/25\n",
      "2/2 - 0s - loss: 1.1764 - accuracy: 0.5562 - auc_3: 0.8041 - val_loss: 1.1840 - val_accuracy: 0.5618 - val_auc_3: 0.8066 - 224ms/epoch - 112ms/step\n",
      "Epoch 19/25\n",
      "2/2 - 0s - loss: 1.1757 - accuracy: 0.5562 - auc_3: 0.8035 - val_loss: 1.1839 - val_accuracy: 0.5618 - val_auc_3: 0.8054 - 227ms/epoch - 113ms/step\n",
      "Epoch 20/25\n",
      "2/2 - 0s - loss: 1.1748 - accuracy: 0.5562 - auc_3: 0.8041 - val_loss: 1.1839 - val_accuracy: 0.5618 - val_auc_3: 0.8054 - 225ms/epoch - 112ms/step\n",
      "Epoch 21/25\n",
      "2/2 - 0s - loss: 1.1742 - accuracy: 0.5562 - auc_3: 0.8044 - val_loss: 1.1839 - val_accuracy: 0.5618 - val_auc_3: 0.8054 - 230ms/epoch - 115ms/step\n",
      "Epoch 22/25\n",
      "2/2 - 0s - loss: 1.1738 - accuracy: 0.5562 - auc_3: 0.8014 - val_loss: 1.1840 - val_accuracy: 0.5618 - val_auc_3: 0.8054 - 226ms/epoch - 113ms/step\n"
     ]
    },
    {
     "data": {
      "image/png": "[encoded data removed]",
      "text/plain": [
       "<Figure size 432x288 with 1 Axes>"
      ]
     },
     "metadata": {
      "needs_background": "light"
     },
     "output_type": "display_data"
    }
   ],
   "source": [
    "kf = KFold(n_splits=3, shuffle=True, random_state=42)\n",
    "X = X_train.copy()\n",
    "y = y_train.copy()\n",
    "for train_index, val_index in kf.split(X):\n",
    "    X_train, X_val = X[train_index], X[val_index]\n",
    "    y_train, y_val = y[train_index], y[val_index]\n",
    "    model = get_CNN_model(n_features, n_length, n_outputs)\n",
    "    history = train(model, X_train, y_train, X_val, y_val, epochs=epochs, batch_size=batch_size)\n",
    "    plt.plot(history.history['loss'])\n",
    "    plt.show()"
   ]
  },
  {
   "cell_type": "markdown",
   "metadata": {},
   "source": [
    "#### Prediction on the holdout set"
   ]
  },
  {
   "cell_type": "code",
   "execution_count": 9,
   "metadata": {},
   "outputs": [
    {
     "name": "stdout",
     "output_type": "stream",
     "text": [
      "\n",
      "Accuracy: 50.617%\n",
      "\n",
      "AUC: 0.8148\n"
     ]
    }
   ],
   "source": [
    "loss, accuracy, auc = model.evaluate(X_test, y_test, batch_size=batch_size, verbose=0)\n",
    "score = accuracy * 100\n",
    "accuracies.append(round(score, 2))\n",
    "aucs.append(round(auc * 100, 2))\n",
    "print('\\nAccuracy: %.3f%%' % score)\n",
    "print('\\nAUC:', round(auc, 4))"
   ]
  },
  {
   "cell_type": "markdown",
   "metadata": {},
   "source": [
    "### 1.2 Pain area detection - Convolutional LSTM"
   ]
  },
  {
   "cell_type": "markdown",
   "metadata": {},
   "source": [
    "#### Model"
   ]
  },
  {
   "cell_type": "code",
   "execution_count": 10,
   "metadata": {},
   "outputs": [],
   "source": [
    "def get_convLSTM_model(n_features, n_length, n_outputs):\n",
    "    model = models.Sequential()\n",
    "    model.add(ConvLSTM1D(filters=64, kernel_size=(3), activation='relu', input_shape=(None, n_length, n_features)))\n",
    "    model.add(Flatten())\n",
    "    model.add(Dense(100, activation='relu'))\n",
    "    model.add(Dense(n_outputs, activation='softmax'))\n",
    "    lr_schedule = optimizers.schedules.ExponentialDecay(\n",
    "        initial_learning_rate=0.001,\n",
    "        decay_steps=50,\n",
    "        decay_rate=0.1)\n",
    "    optimizer = optimizers.Adam(learning_rate=lr_schedule)\n",
    "    model.compile(loss='categorical_crossentropy',\n",
    "        optimizer=optimizer, metrics=['accuracy', tf.keras.metrics.AUC()])\n",
    "    return model\n",
    "\n",
    "def train(model, X_train, y_train, X_val, y_val, epochs, batch_size):\n",
    "    early_stopping = tf.keras.callbacks.EarlyStopping(\n",
    "        monitor='val_loss', patience=2)\n",
    "    history = model.fit(X_train, y_train, validation_data=(X_val, y_val), epochs=epochs, callbacks=[early_stopping],\n",
    "        batch_size=batch_size, verbose=2)\n",
    "    return history"
   ]
  },
  {
   "cell_type": "code",
   "execution_count": 11,
   "metadata": {},
   "outputs": [
    {
     "name": "stdout",
     "output_type": "stream",
     "text": [
      "Model: \"sequential_4\"\n",
      "_________________________________________________________________\n",
      " Layer (type)                Output Shape              Param #   \n",
      "=================================================================\n",
      " conv_lstm1d (ConvLSTM1D)    (None, 348, 64)           78592     \n",
      "                                                                 \n",
      " flatten_4 (Flatten)         (None, 22272)             0         \n",
      "                                                                 \n",
      " dense_8 (Dense)             (None, 100)               2227300   \n",
      "                                                                 \n",
      " dense_9 (Dense)             (None, 5)                 505       \n",
      "                                                                 \n",
      "=================================================================\n",
      "Total params: 2,306,397\n",
      "Trainable params: 2,306,397\n",
      "Non-trainable params: 0\n",
      "_________________________________________________________________\n"
     ]
    }
   ],
   "source": [
    "model = get_convLSTM_model(n_features, n_length, n_outputs)\n",
    "model.summary()"
   ]
  },
  {
   "cell_type": "markdown",
   "metadata": {},
   "source": [
    "#### KFold CV"
   ]
  },
  {
   "cell_type": "code",
   "execution_count": 12,
   "metadata": {},
   "outputs": [
    {
     "name": "stdout",
     "output_type": "stream",
     "text": [
      "Epoch 1/25\n",
      "1/1 - 3s - loss: 43.7690 - accuracy: 0.0591 - auc_5: 0.4142 - val_loss: 38.5151 - val_accuracy: 0.5126 - val_auc_5: 0.7155 - 3s/epoch - 3s/step\n",
      "Epoch 2/25\n",
      "1/1 - 1s - loss: 45.4768 - accuracy: 0.5232 - auc_5: 0.7027 - val_loss: 97.0712 - val_accuracy: 0.1681 - val_auc_5: 0.4821 - 593ms/epoch - 593ms/step\n",
      "Epoch 3/25\n",
      "1/1 - 1s - loss: 95.4497 - accuracy: 0.2110 - auc_5: 0.5074 - val_loss: 33.1960 - val_accuracy: 0.1933 - val_auc_5: 0.4867 - 510ms/epoch - 510ms/step\n",
      "Epoch 4/25\n",
      "1/1 - 0s - loss: 32.5856 - accuracy: 0.2068 - auc_5: 0.5177 - val_loss: 12.1628 - val_accuracy: 0.2185 - val_auc_5: 0.5833 - 496ms/epoch - 496ms/step\n",
      "Epoch 5/25\n",
      "1/1 - 1s - loss: 11.9244 - accuracy: 0.2278 - auc_5: 0.5602 - val_loss: 7.7095 - val_accuracy: 0.5546 - val_auc_5: 0.7317 - 509ms/epoch - 509ms/step\n",
      "Epoch 6/25\n",
      "1/1 - 1s - loss: 6.7493 - accuracy: 0.4810 - auc_5: 0.6886 - val_loss: 6.9279 - val_accuracy: 0.5798 - val_auc_5: 0.7310 - 517ms/epoch - 517ms/step\n",
      "Epoch 7/25\n",
      "1/1 - 1s - loss: 5.6319 - accuracy: 0.5148 - auc_5: 0.6854 - val_loss: 6.1082 - val_accuracy: 0.6050 - val_auc_5: 0.7315 - 500ms/epoch - 500ms/step\n",
      "Epoch 8/25\n",
      "1/1 - 1s - loss: 4.5687 - accuracy: 0.5274 - auc_5: 0.6862 - val_loss: 5.3956 - val_accuracy: 0.5798 - val_auc_5: 0.7454 - 502ms/epoch - 502ms/step\n",
      "Epoch 9/25\n",
      "1/1 - 1s - loss: 3.8234 - accuracy: 0.5232 - auc_5: 0.6941 - val_loss: 4.8874 - val_accuracy: 0.5798 - val_auc_5: 0.7464 - 529ms/epoch - 529ms/step\n",
      "Epoch 10/25\n",
      "1/1 - 1s - loss: 3.1932 - accuracy: 0.5359 - auc_5: 0.6909 - val_loss: 4.4642 - val_accuracy: 0.5798 - val_auc_5: 0.7397 - 523ms/epoch - 523ms/step\n",
      "Epoch 11/25\n",
      "1/1 - 0s - loss: 2.7085 - accuracy: 0.5316 - auc_5: 0.6929 - val_loss: 4.1108 - val_accuracy: 0.5882 - val_auc_5: 0.7389 - 499ms/epoch - 499ms/step\n",
      "Epoch 12/25\n",
      "1/1 - 1s - loss: 2.3872 - accuracy: 0.5359 - auc_5: 0.7022 - val_loss: 3.8780 - val_accuracy: 0.5882 - val_auc_5: 0.7440 - 521ms/epoch - 521ms/step\n",
      "Epoch 13/25\n",
      "1/1 - 1s - loss: 2.1949 - accuracy: 0.5359 - auc_5: 0.6990 - val_loss: 3.7025 - val_accuracy: 0.5882 - val_auc_5: 0.7375 - 503ms/epoch - 503ms/step\n",
      "Epoch 14/25\n",
      "1/1 - 1s - loss: 2.0412 - accuracy: 0.5359 - auc_5: 0.7073 - val_loss: 3.5431 - val_accuracy: 0.5882 - val_auc_5: 0.7369 - 503ms/epoch - 503ms/step\n",
      "Epoch 15/25\n",
      "1/1 - 1s - loss: 1.9147 - accuracy: 0.5359 - auc_5: 0.7047 - val_loss: 3.3992 - val_accuracy: 0.5882 - val_auc_5: 0.7458 - 505ms/epoch - 505ms/step\n",
      "Epoch 16/25\n",
      "1/1 - 0s - loss: 1.8222 - accuracy: 0.5359 - auc_5: 0.7074 - val_loss: 3.2944 - val_accuracy: 0.5882 - val_auc_5: 0.7380 - 494ms/epoch - 494ms/step\n",
      "Epoch 17/25\n",
      "1/1 - 0s - loss: 1.7530 - accuracy: 0.5359 - auc_5: 0.7065 - val_loss: 3.2284 - val_accuracy: 0.5882 - val_auc_5: 0.7279 - 490ms/epoch - 490ms/step\n",
      "Epoch 18/25\n",
      "1/1 - 1s - loss: 1.7121 - accuracy: 0.5359 - auc_5: 0.6995 - val_loss: 3.1629 - val_accuracy: 0.5882 - val_auc_5: 0.7363 - 500ms/epoch - 500ms/step\n",
      "Epoch 19/25\n",
      "1/1 - 0s - loss: 1.6780 - accuracy: 0.5359 - auc_5: 0.7000 - val_loss: 3.1013 - val_accuracy: 0.5882 - val_auc_5: 0.7406 - 499ms/epoch - 499ms/step\n",
      "Epoch 20/25\n",
      "1/1 - 0s - loss: 1.6542 - accuracy: 0.5359 - auc_5: 0.7009 - val_loss: 3.0471 - val_accuracy: 0.5882 - val_auc_5: 0.7384 - 499ms/epoch - 499ms/step\n",
      "Epoch 21/25\n",
      "1/1 - 0s - loss: 1.6418 - accuracy: 0.5359 - auc_5: 0.7018 - val_loss: 2.9968 - val_accuracy: 0.5882 - val_auc_5: 0.7708 - 498ms/epoch - 498ms/step\n",
      "Epoch 22/25\n",
      "1/1 - 0s - loss: 1.6315 - accuracy: 0.5359 - auc_5: 0.7362 - val_loss: 2.9520 - val_accuracy: 0.5882 - val_auc_5: 0.7718 - 482ms/epoch - 482ms/step\n",
      "Epoch 23/25\n",
      "1/1 - 1s - loss: 1.6223 - accuracy: 0.5359 - auc_5: 0.7370 - val_loss: 2.9126 - val_accuracy: 0.5882 - val_auc_5: 0.7718 - 502ms/epoch - 502ms/step\n",
      "Epoch 24/25\n",
      "1/1 - 1s - loss: 1.6146 - accuracy: 0.5359 - auc_5: 0.7370 - val_loss: 2.8778 - val_accuracy: 0.5882 - val_auc_5: 0.7718 - 501ms/epoch - 501ms/step\n",
      "Epoch 25/25\n",
      "1/1 - 1s - loss: 1.6083 - accuracy: 0.5359 - auc_5: 0.7361 - val_loss: 2.8474 - val_accuracy: 0.5882 - val_auc_5: 0.7718 - 506ms/epoch - 506ms/step\n"
     ]
    },
    {
     "data": {
      "image/png": "[encoded data removed]",
      "text/plain": [
       "<Figure size 432x288 with 1 Axes>"
      ]
     },
     "metadata": {
      "needs_background": "light"
     },
     "output_type": "display_data"
    },
    {
     "name": "stdout",
     "output_type": "stream",
     "text": [
      "Epoch 1/25\n",
      "1/1 - 3s - loss: 35.8511 - accuracy: 0.2321 - auc_6: 0.5233 - val_loss: 175.4931 - val_accuracy: 0.5378 - val_auc_6: 0.7111 - 3s/epoch - 3s/step\n",
      "Epoch 2/25\n",
      "1/1 - 0s - loss: 171.9389 - accuracy: 0.5654 - auc_6: 0.7284 - val_loss: 102.3149 - val_accuracy: 0.2521 - val_auc_6: 0.5317 - 498ms/epoch - 498ms/step\n",
      "Epoch 3/25\n",
      "1/1 - 1s - loss: 105.8047 - accuracy: 0.1941 - auc_6: 0.4975 - val_loss: 73.3839 - val_accuracy: 0.2017 - val_auc_6: 0.5011 - 525ms/epoch - 525ms/step\n",
      "Epoch 4/25\n",
      "1/1 - 1s - loss: 73.6841 - accuracy: 0.1730 - auc_6: 0.4819 - val_loss: 40.9584 - val_accuracy: 0.4370 - val_auc_6: 0.6727 - 525ms/epoch - 525ms/step\n",
      "Epoch 5/25\n",
      "1/1 - 1s - loss: 41.2351 - accuracy: 0.4852 - auc_6: 0.6898 - val_loss: 33.3492 - val_accuracy: 0.5294 - val_auc_6: 0.7092 - 524ms/epoch - 524ms/step\n",
      "Epoch 6/25\n",
      "1/1 - 1s - loss: 31.5853 - accuracy: 0.5570 - auc_6: 0.7240 - val_loss: 25.0968 - val_accuracy: 0.5294 - val_auc_6: 0.7135 - 508ms/epoch - 508ms/step\n",
      "Epoch 7/25\n",
      "1/1 - 0s - loss: 23.5196 - accuracy: 0.5654 - auc_6: 0.7301 - val_loss: 17.2363 - val_accuracy: 0.5210 - val_auc_6: 0.7134 - 492ms/epoch - 492ms/step\n",
      "Epoch 8/25\n",
      "1/1 - 1s - loss: 16.0417 - accuracy: 0.5654 - auc_6: 0.7293 - val_loss: 10.5947 - val_accuracy: 0.5294 - val_auc_6: 0.7112 - 515ms/epoch - 515ms/step\n",
      "Epoch 9/25\n",
      "1/1 - 1s - loss: 9.6878 - accuracy: 0.5612 - auc_6: 0.7313 - val_loss: 6.2736 - val_accuracy: 0.4958 - val_auc_6: 0.7084 - 506ms/epoch - 506ms/step\n",
      "Epoch 10/25\n",
      "1/1 - 1s - loss: 5.4236 - accuracy: 0.5316 - auc_6: 0.7412 - val_loss: 3.9127 - val_accuracy: 0.4538 - val_auc_6: 0.7264 - 506ms/epoch - 506ms/step\n",
      "Epoch 11/25\n",
      "1/1 - 1s - loss: 3.0845 - accuracy: 0.4937 - auc_6: 0.7532 - val_loss: 3.6479 - val_accuracy: 0.2353 - val_auc_6: 0.6206 - 525ms/epoch - 525ms/step\n",
      "Epoch 12/25\n",
      "1/1 - 1s - loss: 3.0094 - accuracy: 0.2321 - auc_6: 0.6456 - val_loss: 3.5537 - val_accuracy: 0.1849 - val_auc_6: 0.5527 - 518ms/epoch - 518ms/step\n",
      "Epoch 13/25\n",
      "1/1 - 1s - loss: 2.9883 - accuracy: 0.2363 - auc_6: 0.5710 - val_loss: 3.0041 - val_accuracy: 0.1849 - val_auc_6: 0.5271 - 649ms/epoch - 649ms/step\n",
      "Epoch 14/25\n",
      "1/1 - 1s - loss: 2.4186 - accuracy: 0.2447 - auc_6: 0.5504 - val_loss: 2.3000 - val_accuracy: 0.2017 - val_auc_6: 0.5531 - 595ms/epoch - 595ms/step\n",
      "Epoch 15/25\n",
      "1/1 - 1s - loss: 1.9554 - accuracy: 0.2574 - auc_6: 0.5577 - val_loss: 2.3431 - val_accuracy: 0.2521 - val_auc_6: 0.5615 - 728ms/epoch - 728ms/step\n",
      "Epoch 16/25\n",
      "1/1 - 1s - loss: 1.8553 - accuracy: 0.2363 - auc_6: 0.5696 - val_loss: 2.1356 - val_accuracy: 0.2353 - val_auc_6: 0.5694 - 842ms/epoch - 842ms/step\n",
      "Epoch 17/25\n",
      "1/1 - 1s - loss: 1.6955 - accuracy: 0.2532 - auc_6: 0.5761 - val_loss: 1.9588 - val_accuracy: 0.2269 - val_auc_6: 0.5631 - 765ms/epoch - 765ms/step\n",
      "Epoch 18/25\n",
      "1/1 - 1s - loss: 1.6261 - accuracy: 0.2743 - auc_6: 0.5739 - val_loss: 1.8761 - val_accuracy: 0.2185 - val_auc_6: 0.5340 - 652ms/epoch - 652ms/step\n",
      "Epoch 19/25\n",
      "1/1 - 1s - loss: 1.5894 - accuracy: 0.2700 - auc_6: 0.5707 - val_loss: 1.8087 - val_accuracy: 0.2185 - val_auc_6: 0.5285 - 673ms/epoch - 673ms/step\n",
      "Epoch 20/25\n",
      "1/1 - 1s - loss: 1.5686 - accuracy: 0.2532 - auc_6: 0.5732 - val_loss: 1.7460 - val_accuracy: 0.2101 - val_auc_6: 0.5226 - 724ms/epoch - 724ms/step\n",
      "Epoch 21/25\n",
      "1/1 - 1s - loss: 1.5499 - accuracy: 0.2574 - auc_6: 0.5713 - val_loss: 1.7065 - val_accuracy: 0.2185 - val_auc_6: 0.5235 - 762ms/epoch - 762ms/step\n",
      "Epoch 22/25\n",
      "1/1 - 1s - loss: 1.5362 - accuracy: 0.2447 - auc_6: 0.5685 - val_loss: 1.6832 - val_accuracy: 0.2269 - val_auc_6: 0.5300 - 687ms/epoch - 687ms/step\n",
      "Epoch 23/25\n",
      "1/1 - 1s - loss: 1.5299 - accuracy: 0.2574 - auc_6: 0.5674 - val_loss: 1.6718 - val_accuracy: 0.2521 - val_auc_6: 0.5324 - 721ms/epoch - 721ms/step\n",
      "Epoch 24/25\n",
      "1/1 - 1s - loss: 1.5267 - accuracy: 0.2405 - auc_6: 0.5561 - val_loss: 1.6712 - val_accuracy: 0.2269 - val_auc_6: 0.5259 - 646ms/epoch - 646ms/step\n",
      "Epoch 25/25\n",
      "1/1 - 1s - loss: 1.5241 - accuracy: 0.2405 - auc_6: 0.5578 - val_loss: 1.6752 - val_accuracy: 0.2353 - val_auc_6: 0.5340 - 674ms/epoch - 674ms/step\n"
     ]
    },
    {
     "data": {
      "image/png": "[encoded data removed]",
      "text/plain": [
       "<Figure size 432x288 with 1 Axes>"
      ]
     },
     "metadata": {
      "needs_background": "light"
     },
     "output_type": "display_data"
    },
    {
     "name": "stdout",
     "output_type": "stream",
     "text": [
      "Epoch 1/25\n",
      "1/1 - 3s - loss: 73.7087 - accuracy: 0.1807 - auc_7: 0.4872 - val_loss: 385.7934 - val_accuracy: 0.5339 - val_auc_7: 0.7087 - 3s/epoch - 3s/step\n",
      "Epoch 2/25\n",
      "1/1 - 1s - loss: 325.2373 - accuracy: 0.5672 - auc_7: 0.7295 - val_loss: 281.0327 - val_accuracy: 0.1695 - val_auc_7: 0.4809 - 559ms/epoch - 559ms/step\n",
      "Epoch 3/25\n",
      "1/1 - 1s - loss: 224.8951 - accuracy: 0.1891 - auc_7: 0.4932 - val_loss: 209.8470 - val_accuracy: 0.5339 - val_auc_7: 0.7087 - 558ms/epoch - 558ms/step\n",
      "Epoch 4/25\n",
      "1/1 - 1s - loss: 170.0856 - accuracy: 0.5672 - auc_7: 0.7295 - val_loss: 149.5153 - val_accuracy: 0.5339 - val_auc_7: 0.7087 - 692ms/epoch - 692ms/step\n",
      "Epoch 5/25\n",
      "1/1 - 1s - loss: 119.5103 - accuracy: 0.5672 - auc_7: 0.7295 - val_loss: 91.3976 - val_accuracy: 0.5339 - val_auc_7: 0.7088 - 705ms/epoch - 705ms/step\n",
      "Epoch 6/25\n",
      "1/1 - 1s - loss: 71.9680 - accuracy: 0.5672 - auc_7: 0.7282 - val_loss: 49.1070 - val_accuracy: 0.5339 - val_auc_7: 0.7149 - 723ms/epoch - 723ms/step\n",
      "Epoch 7/25\n",
      "1/1 - 1s - loss: 38.8553 - accuracy: 0.5462 - auc_7: 0.7185 - val_loss: 27.4742 - val_accuracy: 0.5254 - val_auc_7: 0.6944 - 545ms/epoch - 545ms/step\n",
      "Epoch 8/25\n",
      "1/1 - 1s - loss: 20.7653 - accuracy: 0.5294 - auc_7: 0.7037 - val_loss: 14.0321 - val_accuracy: 0.4576 - val_auc_7: 0.6679 - 560ms/epoch - 560ms/step\n",
      "Epoch 9/25\n",
      "1/1 - 1s - loss: 10.3119 - accuracy: 0.4916 - auc_7: 0.6951 - val_loss: 6.7765 - val_accuracy: 0.2627 - val_auc_7: 0.5752 - 540ms/epoch - 540ms/step\n",
      "Epoch 10/25\n",
      "1/1 - 1s - loss: 5.6617 - accuracy: 0.2815 - auc_7: 0.6175 - val_loss: 3.6308 - val_accuracy: 0.1525 - val_auc_7: 0.4987 - 560ms/epoch - 560ms/step\n",
      "Epoch 11/25\n",
      "1/1 - 1s - loss: 3.6504 - accuracy: 0.1555 - auc_7: 0.5253 - val_loss: 2.1657 - val_accuracy: 0.0763 - val_auc_7: 0.5090 - 550ms/epoch - 550ms/step\n",
      "Epoch 12/25\n",
      "1/1 - 1s - loss: 2.5352 - accuracy: 0.1050 - auc_7: 0.5065 - val_loss: 1.7526 - val_accuracy: 0.0932 - val_auc_7: 0.5038 - 551ms/epoch - 551ms/step\n",
      "Epoch 13/25\n",
      "1/1 - 1s - loss: 1.9882 - accuracy: 0.0798 - auc_7: 0.5026 - val_loss: 1.6177 - val_accuracy: 0.0678 - val_auc_7: 0.4907 - 557ms/epoch - 557ms/step\n",
      "Epoch 14/25\n",
      "1/1 - 1s - loss: 1.8520 - accuracy: 0.0462 - auc_7: 0.4815 - val_loss: 1.6108 - val_accuracy: 0.0593 - val_auc_7: 0.5063 - 541ms/epoch - 541ms/step\n",
      "Epoch 15/25\n",
      "1/1 - 1s - loss: 1.7984 - accuracy: 0.0420 - auc_7: 0.4987 - val_loss: 1.6100 - val_accuracy: 0.0593 - val_auc_7: 0.5063 - 539ms/epoch - 539ms/step\n",
      "Epoch 16/25\n",
      "1/1 - 1s - loss: 1.7545 - accuracy: 0.0378 - auc_7: 0.4968 - val_loss: 1.6097 - val_accuracy: 0.0593 - val_auc_7: 0.5063 - 541ms/epoch - 541ms/step\n",
      "Epoch 17/25\n",
      "1/1 - 1s - loss: 1.7273 - accuracy: 0.0462 - auc_7: 0.4927 - val_loss: 1.6094 - val_accuracy: 0.0593 - val_auc_7: 0.5063 - 537ms/epoch - 537ms/step\n",
      "Epoch 18/25\n",
      "1/1 - 1s - loss: 1.7032 - accuracy: 0.0462 - auc_7: 0.4953 - val_loss: 1.6092 - val_accuracy: 0.1695 - val_auc_7: 0.5063 - 536ms/epoch - 536ms/step\n",
      "Epoch 19/25\n",
      "1/1 - 1s - loss: 1.6838 - accuracy: 0.1891 - auc_7: 0.4979 - val_loss: 1.6089 - val_accuracy: 0.1695 - val_auc_7: 0.5042 - 540ms/epoch - 540ms/step\n",
      "Epoch 20/25\n",
      "1/1 - 1s - loss: 1.6702 - accuracy: 0.1891 - auc_7: 0.4979 - val_loss: 1.6086 - val_accuracy: 0.1695 - val_auc_7: 0.5042 - 536ms/epoch - 536ms/step\n",
      "Epoch 21/25\n",
      "1/1 - 1s - loss: 1.6600 - accuracy: 0.1891 - auc_7: 0.5016 - val_loss: 1.6083 - val_accuracy: 0.1695 - val_auc_7: 0.5053 - 534ms/epoch - 534ms/step\n",
      "Epoch 22/25\n",
      "1/1 - 1s - loss: 1.6520 - accuracy: 0.1933 - auc_7: 0.5031 - val_loss: 1.6081 - val_accuracy: 0.1695 - val_auc_7: 0.5042 - 539ms/epoch - 539ms/step\n",
      "Epoch 23/25\n",
      "1/1 - 1s - loss: 1.6457 - accuracy: 0.1933 - auc_7: 0.5021 - val_loss: 1.6079 - val_accuracy: 0.1695 - val_auc_7: 0.5000 - 541ms/epoch - 541ms/step\n",
      "Epoch 24/25\n",
      "1/1 - 1s - loss: 1.6404 - accuracy: 0.1933 - auc_7: 0.5000 - val_loss: 1.6076 - val_accuracy: 0.1695 - val_auc_7: 0.5000 - 528ms/epoch - 528ms/step\n",
      "Epoch 25/25\n",
      "1/1 - 1s - loss: 1.6361 - accuracy: 0.1933 - auc_7: 0.4995 - val_loss: 1.6072 - val_accuracy: 0.1695 - val_auc_7: 0.5000 - 543ms/epoch - 543ms/step\n"
     ]
    },
    {
     "data": {
      "image/png": "[encoded data removed]",
      "text/plain": [
       "<Figure size 432x288 with 1 Axes>"
      ]
     },
     "metadata": {
      "needs_background": "light"
     },
     "output_type": "display_data"
    }
   ],
   "source": [
    "kf = KFold(n_splits=3, shuffle=True, random_state=42)\n",
    "X = X_train.copy()\n",
    "y = y_train.copy()\n",
    "for train_index, val_index in kf.split(X):\n",
    "    X_train, X_val = X[train_index], X[val_index]\n",
    "    y_train, y_val = y[train_index], y[val_index]\n",
    "    model = get_convLSTM_model(n_features, n_length, n_outputs)\n",
    "    history = train(model, X_train, y_train, X_val, y_val, epochs=epochs, batch_size=batch_size)\n",
    "    plt.plot(history.history['loss'])\n",
    "    plt.show()"
   ]
  },
  {
   "cell_type": "markdown",
   "metadata": {},
   "source": [
    "#### Prediction on the holdout set"
   ]
  },
  {
   "cell_type": "code",
   "execution_count": 13,
   "metadata": {},
   "outputs": [
    {
     "name": "stdout",
     "output_type": "stream",
     "text": [
      "\n",
      "Accuracy: 29.630%\n",
      "\n",
      "AUC: 0.503\n"
     ]
    }
   ],
   "source": [
    "loss, accuracy, auc = model.evaluate(X_test, y_test, batch_size=batch_size, verbose=0)\n",
    "score = accuracy * 100\n",
    "accuracies.append(round(score, 2))\n",
    "aucs.append(round(auc * 100, 2))\n",
    "print('\\nAccuracy: %.3f%%' % score)\n",
    "print('\\nAUC:', round(auc, 4))"
   ]
  },
  {
   "cell_type": "markdown",
   "metadata": {},
   "source": [
    "### 1.3 Pain level detection - CNN+LSTM"
   ]
  },
  {
   "cell_type": "markdown",
   "metadata": {},
   "source": [
    "#### Dataset"
   ]
  },
  {
   "cell_type": "code",
   "execution_count": 14,
   "metadata": {},
   "outputs": [
    {
     "name": "stdout",
     "output_type": "stream",
     "text": [
      "(534, 1, 350, 38) (534, 3)\n",
      "(81, 1, 350, 38) (81, 3)\n"
     ]
    }
   ],
   "source": [
    "X_train, X_test, y_train, y_test = load_dataset('processed', 'pain_level', 'skeleton')\n",
    "\n",
    "print(X_train.shape, y_train.shape)\n",
    "print(X_test.shape, y_test.shape)"
   ]
  },
  {
   "cell_type": "markdown",
   "metadata": {},
   "source": [
    "#### Model"
   ]
  },
  {
   "cell_type": "code",
   "execution_count": 15,
   "metadata": {},
   "outputs": [],
   "source": [
    "n_length, n_features, n_outputs = X_train.shape[2], X_train.shape[-1], y_train.shape[1]"
   ]
  },
  {
   "cell_type": "code",
   "execution_count": 16,
   "metadata": {},
   "outputs": [
    {
     "name": "stdout",
     "output_type": "stream",
     "text": [
      "Model: \"sequential_8\"\n",
      "_________________________________________________________________\n",
      " Layer (type)                Output Shape              Param #   \n",
      "=================================================================\n",
      " time_distributed_12 (TimeDi  (None, None, 348, 64)    7360      \n",
      " stributed)                                                      \n",
      "                                                                 \n",
      " time_distributed_13 (TimeDi  (None, None, 348, 32)    0         \n",
      " stributed)                                                      \n",
      "                                                                 \n",
      " time_distributed_14 (TimeDi  (None, None, 11136)      0         \n",
      " stributed)                                                      \n",
      "                                                                 \n",
      " lstm_4 (LSTM)               (None, 100)               4494800   \n",
      "                                                                 \n",
      " dense_16 (Dense)            (None, 100)               10100     \n",
      "                                                                 \n",
      " dense_17 (Dense)            (None, 3)                 303       \n",
      "                                                                 \n",
      "=================================================================\n",
      "Total params: 4,512,563\n",
      "Trainable params: 4,512,563\n",
      "Non-trainable params: 0\n",
      "_________________________________________________________________\n"
     ]
    }
   ],
   "source": [
    "model = get_CNN_model(n_features, n_length, n_outputs)\n",
    "model.summary()"
   ]
  },
  {
   "cell_type": "markdown",
   "metadata": {},
   "source": [
    "#### KFold CV"
   ]
  },
  {
   "cell_type": "code",
   "execution_count": 17,
   "metadata": {},
   "outputs": [
    {
     "name": "stdout",
     "output_type": "stream",
     "text": [
      "Epoch 1/25\n",
      "2/2 - 3s - loss: 1.0045 - accuracy: 0.5646 - auc_9: 0.6866 - val_loss: 0.8759 - val_accuracy: 0.6629 - val_auc_9: 0.8066 - 3s/epoch - 2s/step\n",
      "Epoch 2/25\n",
      "2/2 - 0s - loss: 0.8954 - accuracy: 0.6320 - auc_9: 0.8221 - val_loss: 0.8325 - val_accuracy: 0.6629 - val_auc_9: 0.8142 - 244ms/epoch - 122ms/step\n",
      "Epoch 3/25\n",
      "2/2 - 0s - loss: 0.8564 - accuracy: 0.6320 - auc_9: 0.7983 - val_loss: 0.7933 - val_accuracy: 0.6629 - val_auc_9: 0.8174 - 247ms/epoch - 124ms/step\n",
      "Epoch 4/25\n",
      "2/2 - 0s - loss: 0.8102 - accuracy: 0.6320 - auc_9: 0.8084 - val_loss: 0.7703 - val_accuracy: 0.6629 - val_auc_9: 0.8174 - 243ms/epoch - 122ms/step\n",
      "Epoch 5/25\n",
      "2/2 - 0s - loss: 0.7781 - accuracy: 0.6320 - auc_9: 0.8169 - val_loss: 0.7580 - val_accuracy: 0.6629 - val_auc_9: 0.8174 - 279ms/epoch - 139ms/step\n",
      "Epoch 6/25\n",
      "2/2 - 0s - loss: 0.7589 - accuracy: 0.6320 - auc_9: 0.8183 - val_loss: 0.7534 - val_accuracy: 0.6629 - val_auc_9: 0.8174 - 335ms/epoch - 168ms/step\n",
      "Epoch 7/25\n",
      "2/2 - 0s - loss: 0.7480 - accuracy: 0.6320 - auc_9: 0.8183 - val_loss: 0.7528 - val_accuracy: 0.6629 - val_auc_9: 0.8174 - 260ms/epoch - 130ms/step\n",
      "Epoch 8/25\n",
      "2/2 - 0s - loss: 0.7426 - accuracy: 0.6320 - auc_9: 0.8155 - val_loss: 0.7536 - val_accuracy: 0.6629 - val_auc_9: 0.8174 - 265ms/epoch - 132ms/step\n",
      "Epoch 9/25\n",
      "2/2 - 0s - loss: 0.7396 - accuracy: 0.6320 - auc_9: 0.8056 - val_loss: 0.7536 - val_accuracy: 0.6629 - val_auc_9: 0.8174 - 295ms/epoch - 148ms/step\n"
     ]
    },
    {
     "data": {
      "image/png": "[encoded data removed]",
      "text/plain": [
       "<Figure size 432x288 with 1 Axes>"
      ]
     },
     "metadata": {
      "needs_background": "light"
     },
     "output_type": "display_data"
    },
    {
     "name": "stdout",
     "output_type": "stream",
     "text": [
      "Epoch 1/25\n",
      "2/2 - 2s - loss: 0.9686 - accuracy: 0.6489 - auc_10: 0.7014 - val_loss: 0.8447 - val_accuracy: 0.6292 - val_auc_10: 0.8160 - 2s/epoch - 1s/step\n",
      "Epoch 2/25\n",
      "2/2 - 0s - loss: 0.8344 - accuracy: 0.6489 - auc_10: 0.8024 - val_loss: 0.8277 - val_accuracy: 0.6292 - val_auc_10: 0.8109 - 256ms/epoch - 128ms/step\n",
      "Epoch 3/25\n",
      "2/2 - 0s - loss: 0.8157 - accuracy: 0.6489 - auc_10: 0.8110 - val_loss: 0.7993 - val_accuracy: 0.6292 - val_auc_10: 0.8081 - 259ms/epoch - 130ms/step\n",
      "Epoch 4/25\n",
      "2/2 - 0s - loss: 0.7955 - accuracy: 0.6489 - auc_10: 0.8137 - val_loss: 0.7797 - val_accuracy: 0.6292 - val_auc_10: 0.8118 - 248ms/epoch - 124ms/step\n",
      "Epoch 5/25\n",
      "2/2 - 0s - loss: 0.7824 - accuracy: 0.6489 - auc_10: 0.8113 - val_loss: 0.7638 - val_accuracy: 0.6292 - val_auc_10: 0.8116 - 247ms/epoch - 123ms/step\n",
      "Epoch 6/25\n",
      "2/2 - 0s - loss: 0.7711 - accuracy: 0.6489 - auc_10: 0.8144 - val_loss: 0.7497 - val_accuracy: 0.6292 - val_auc_10: 0.8118 - 256ms/epoch - 128ms/step\n",
      "Epoch 7/25\n",
      "2/2 - 0s - loss: 0.7639 - accuracy: 0.6489 - auc_10: 0.8168 - val_loss: 0.7407 - val_accuracy: 0.6292 - val_auc_10: 0.8118 - 248ms/epoch - 124ms/step\n",
      "Epoch 8/25\n",
      "2/2 - 0s - loss: 0.7580 - accuracy: 0.6489 - auc_10: 0.8093 - val_loss: 0.7338 - val_accuracy: 0.6292 - val_auc_10: 0.8118 - 268ms/epoch - 134ms/step\n",
      "Epoch 9/25\n",
      "2/2 - 0s - loss: 0.7539 - accuracy: 0.6489 - auc_10: 0.8123 - val_loss: 0.7284 - val_accuracy: 0.6292 - val_auc_10: 0.8118 - 320ms/epoch - 160ms/step\n",
      "Epoch 10/25\n",
      "2/2 - 0s - loss: 0.7507 - accuracy: 0.6489 - auc_10: 0.8099 - val_loss: 0.7242 - val_accuracy: 0.6292 - val_auc_10: 0.8118 - 340ms/epoch - 170ms/step\n",
      "Epoch 11/25\n",
      "2/2 - 0s - loss: 0.7482 - accuracy: 0.6489 - auc_10: 0.8103 - val_loss: 0.7211 - val_accuracy: 0.6292 - val_auc_10: 0.8118 - 316ms/epoch - 158ms/step\n",
      "Epoch 12/25\n",
      "2/2 - 0s - loss: 0.7463 - accuracy: 0.6489 - auc_10: 0.8099 - val_loss: 0.7189 - val_accuracy: 0.6292 - val_auc_10: 0.8118 - 247ms/epoch - 124ms/step\n",
      "Epoch 13/25\n",
      "2/2 - 0s - loss: 0.7449 - accuracy: 0.6489 - auc_10: 0.8099 - val_loss: 0.7173 - val_accuracy: 0.6292 - val_auc_10: 0.8118 - 249ms/epoch - 125ms/step\n",
      "Epoch 14/25\n",
      "2/2 - 0s - loss: 0.7439 - accuracy: 0.6489 - auc_10: 0.8110 - val_loss: 0.7159 - val_accuracy: 0.6292 - val_auc_10: 0.8118 - 249ms/epoch - 124ms/step\n",
      "Epoch 15/25\n",
      "2/2 - 0s - loss: 0.7434 - accuracy: 0.6489 - auc_10: 0.8099 - val_loss: 0.7148 - val_accuracy: 0.6292 - val_auc_10: 0.8118 - 244ms/epoch - 122ms/step\n",
      "Epoch 16/25\n",
      "2/2 - 0s - loss: 0.7428 - accuracy: 0.6489 - auc_10: 0.8099 - val_loss: 0.7136 - val_accuracy: 0.6292 - val_auc_10: 0.8118 - 242ms/epoch - 121ms/step\n",
      "Epoch 17/25\n",
      "2/2 - 0s - loss: 0.7425 - accuracy: 0.6489 - auc_10: 0.8099 - val_loss: 0.7126 - val_accuracy: 0.6292 - val_auc_10: 0.8118 - 249ms/epoch - 124ms/step\n",
      "Epoch 18/25\n",
      "2/2 - 0s - loss: 0.7421 - accuracy: 0.6489 - auc_10: 0.8102 - val_loss: 0.7118 - val_accuracy: 0.6292 - val_auc_10: 0.8118 - 249ms/epoch - 125ms/step\n",
      "Epoch 19/25\n",
      "2/2 - 0s - loss: 0.7419 - accuracy: 0.6489 - auc_10: 0.8099 - val_loss: 0.7111 - val_accuracy: 0.6292 - val_auc_10: 0.8118 - 249ms/epoch - 124ms/step\n",
      "Epoch 20/25\n",
      "2/2 - 0s - loss: 0.7416 - accuracy: 0.6489 - auc_10: 0.8099 - val_loss: 0.7105 - val_accuracy: 0.6292 - val_auc_10: 0.8118 - 245ms/epoch - 122ms/step\n",
      "Epoch 21/25\n",
      "2/2 - 0s - loss: 0.7414 - accuracy: 0.6489 - auc_10: 0.8099 - val_loss: 0.7099 - val_accuracy: 0.6292 - val_auc_10: 0.8118 - 250ms/epoch - 125ms/step\n",
      "Epoch 22/25\n",
      "2/2 - 0s - loss: 0.7413 - accuracy: 0.6489 - auc_10: 0.8099 - val_loss: 0.7094 - val_accuracy: 0.6292 - val_auc_10: 0.8118 - 240ms/epoch - 120ms/step\n",
      "Epoch 23/25\n",
      "2/2 - 0s - loss: 0.7413 - accuracy: 0.6489 - auc_10: 0.8099 - val_loss: 0.7090 - val_accuracy: 0.6292 - val_auc_10: 0.8118 - 236ms/epoch - 118ms/step\n",
      "Epoch 24/25\n",
      "2/2 - 0s - loss: 0.7411 - accuracy: 0.6489 - auc_10: 0.8099 - val_loss: 0.7088 - val_accuracy: 0.6292 - val_auc_10: 0.8118 - 243ms/epoch - 121ms/step\n",
      "Epoch 25/25\n",
      "2/2 - 0s - loss: 0.7410 - accuracy: 0.6489 - auc_10: 0.8099 - val_loss: 0.7085 - val_accuracy: 0.6292 - val_auc_10: 0.8118 - 235ms/epoch - 117ms/step\n"
     ]
    },
    {
     "data": {
      "image/png": "[encoded data removed]",
      "text/plain": [
       "<Figure size 432x288 with 1 Axes>"
      ]
     },
     "metadata": {
      "needs_background": "light"
     },
     "output_type": "display_data"
    },
    {
     "name": "stdout",
     "output_type": "stream",
     "text": [
      "Epoch 1/25\n",
      "2/2 - 3s - loss: 1.0505 - accuracy: 0.4354 - auc_11: 0.6368 - val_loss: 0.9420 - val_accuracy: 0.3427 - val_auc_11: 0.6560 - 3s/epoch - 1s/step\n",
      "Epoch 2/25\n",
      "2/2 - 0s - loss: 0.9295 - accuracy: 0.3371 - auc_11: 0.6536 - val_loss: 0.8743 - val_accuracy: 0.3315 - val_auc_11: 0.6520 - 254ms/epoch - 127ms/step\n",
      "Epoch 3/25\n",
      "2/2 - 0s - loss: 0.8591 - accuracy: 0.4410 - auc_11: 0.7441 - val_loss: 0.8263 - val_accuracy: 0.6348 - val_auc_11: 0.8020 - 250ms/epoch - 125ms/step\n",
      "Epoch 4/25\n",
      "2/2 - 0s - loss: 0.8124 - accuracy: 0.6461 - auc_11: 0.8148 - val_loss: 0.7971 - val_accuracy: 0.6348 - val_auc_11: 0.8055 - 259ms/epoch - 129ms/step\n",
      "Epoch 5/25\n",
      "2/2 - 0s - loss: 0.7847 - accuracy: 0.6461 - auc_11: 0.8025 - val_loss: 0.7819 - val_accuracy: 0.6348 - val_auc_11: 0.8052 - 258ms/epoch - 129ms/step\n",
      "Epoch 6/25\n",
      "2/2 - 0s - loss: 0.7673 - accuracy: 0.6461 - auc_11: 0.8081 - val_loss: 0.7739 - val_accuracy: 0.6348 - val_auc_11: 0.8052 - 263ms/epoch - 132ms/step\n",
      "Epoch 7/25\n",
      "2/2 - 0s - loss: 0.7575 - accuracy: 0.6461 - auc_11: 0.8138 - val_loss: 0.7688 - val_accuracy: 0.6348 - val_auc_11: 0.8052 - 252ms/epoch - 126ms/step\n",
      "Epoch 8/25\n",
      "2/2 - 0s - loss: 0.7513 - accuracy: 0.6461 - auc_11: 0.8161 - val_loss: 0.7651 - val_accuracy: 0.6348 - val_auc_11: 0.8052 - 255ms/epoch - 127ms/step\n",
      "Epoch 9/25\n",
      "2/2 - 0s - loss: 0.7466 - accuracy: 0.6461 - auc_11: 0.8146 - val_loss: 0.7618 - val_accuracy: 0.6348 - val_auc_11: 0.8052 - 258ms/epoch - 129ms/step\n",
      "Epoch 10/25\n",
      "2/2 - 0s - loss: 0.7430 - accuracy: 0.6461 - auc_11: 0.8128 - val_loss: 0.7589 - val_accuracy: 0.6348 - val_auc_11: 0.8052 - 247ms/epoch - 123ms/step\n",
      "Epoch 11/25\n",
      "2/2 - 0s - loss: 0.7395 - accuracy: 0.6461 - auc_11: 0.8169 - val_loss: 0.7559 - val_accuracy: 0.6348 - val_auc_11: 0.8052 - 254ms/epoch - 127ms/step\n",
      "Epoch 12/25\n",
      "2/2 - 0s - loss: 0.7367 - accuracy: 0.6461 - auc_11: 0.8080 - val_loss: 0.7533 - val_accuracy: 0.6348 - val_auc_11: 0.8052 - 253ms/epoch - 126ms/step\n",
      "Epoch 13/25\n",
      "2/2 - 0s - loss: 0.7336 - accuracy: 0.6461 - auc_11: 0.8162 - val_loss: 0.7512 - val_accuracy: 0.6348 - val_auc_11: 0.8052 - 258ms/epoch - 129ms/step\n",
      "Epoch 14/25\n",
      "2/2 - 0s - loss: 0.7316 - accuracy: 0.6461 - auc_11: 0.8122 - val_loss: 0.7494 - val_accuracy: 0.6348 - val_auc_11: 0.8052 - 300ms/epoch - 150ms/step\n",
      "Epoch 15/25\n",
      "2/2 - 0s - loss: 0.7298 - accuracy: 0.6461 - auc_11: 0.8122 - val_loss: 0.7480 - val_accuracy: 0.6348 - val_auc_11: 0.8052 - 334ms/epoch - 167ms/step\n",
      "Epoch 16/25\n",
      "2/2 - 0s - loss: 0.7283 - accuracy: 0.6461 - auc_11: 0.8146 - val_loss: 0.7469 - val_accuracy: 0.6348 - val_auc_11: 0.8052 - 295ms/epoch - 148ms/step\n",
      "Epoch 17/25\n",
      "2/2 - 0s - loss: 0.7272 - accuracy: 0.6461 - auc_11: 0.8122 - val_loss: 0.7461 - val_accuracy: 0.6348 - val_auc_11: 0.8052 - 262ms/epoch - 131ms/step\n",
      "Epoch 18/25\n",
      "2/2 - 0s - loss: 0.7263 - accuracy: 0.6461 - auc_11: 0.8146 - val_loss: 0.7454 - val_accuracy: 0.6348 - val_auc_11: 0.8052 - 244ms/epoch - 122ms/step\n",
      "Epoch 19/25\n",
      "2/2 - 0s - loss: 0.7256 - accuracy: 0.6461 - auc_11: 0.8150 - val_loss: 0.7449 - val_accuracy: 0.6348 - val_auc_11: 0.8052 - 248ms/epoch - 124ms/step\n",
      "Epoch 20/25\n",
      "2/2 - 0s - loss: 0.7252 - accuracy: 0.6461 - auc_11: 0.8120 - val_loss: 0.7445 - val_accuracy: 0.6348 - val_auc_11: 0.8052 - 246ms/epoch - 123ms/step\n",
      "Epoch 21/25\n",
      "2/2 - 0s - loss: 0.7247 - accuracy: 0.6461 - auc_11: 0.8146 - val_loss: 0.7442 - val_accuracy: 0.6348 - val_auc_11: 0.8052 - 240ms/epoch - 120ms/step\n",
      "Epoch 22/25\n",
      "2/2 - 0s - loss: 0.7243 - accuracy: 0.6461 - auc_11: 0.8146 - val_loss: 0.7439 - val_accuracy: 0.6348 - val_auc_11: 0.8052 - 239ms/epoch - 120ms/step\n",
      "Epoch 23/25\n",
      "2/2 - 0s - loss: 0.7240 - accuracy: 0.6461 - auc_11: 0.8134 - val_loss: 0.7437 - val_accuracy: 0.6348 - val_auc_11: 0.8052 - 250ms/epoch - 125ms/step\n",
      "Epoch 24/25\n",
      "2/2 - 0s - loss: 0.7238 - accuracy: 0.6461 - auc_11: 0.8144 - val_loss: 0.7435 - val_accuracy: 0.6348 - val_auc_11: 0.8052 - 244ms/epoch - 122ms/step\n",
      "Epoch 25/25\n",
      "2/2 - 0s - loss: 0.7236 - accuracy: 0.6461 - auc_11: 0.8146 - val_loss: 0.7434 - val_accuracy: 0.6348 - val_auc_11: 0.8052 - 249ms/epoch - 125ms/step\n"
     ]
    },
    {
     "data": {
      "image/png": "[encoded data removed]",
      "text/plain": [
       "<Figure size 432x288 with 1 Axes>"
      ]
     },
     "metadata": {
      "needs_background": "light"
     },
     "output_type": "display_data"
    }
   ],
   "source": [
    "kf = KFold(n_splits=3, shuffle=True, random_state=42)\n",
    "X = X_train.copy()\n",
    "y = y_train.copy()\n",
    "for train_index, val_index in kf.split(X):\n",
    "    X_train, X_val = X[train_index], X[val_index]\n",
    "    y_train, y_val = y[train_index], y[val_index]\n",
    "    model = get_CNN_model(n_features, n_length, n_outputs)\n",
    "    history = train(model, X_train, y_train, X_val, y_val, epochs=epochs, batch_size=batch_size)\n",
    "    plt.plot(history.history['loss'])\n",
    "    plt.show()"
   ]
  },
  {
   "cell_type": "markdown",
   "metadata": {},
   "source": [
    "#### Prediction on the holdout set"
   ]
  },
  {
   "cell_type": "code",
   "execution_count": 18,
   "metadata": {},
   "outputs": [
    {
     "name": "stdout",
     "output_type": "stream",
     "text": [
      "\n",
      "Accuracy: 77.778%\n",
      "\n",
      "AUC: 0.8704\n"
     ]
    }
   ],
   "source": [
    "loss, accuracy, auc = model.evaluate(X_test, y_test, batch_size=batch_size, verbose=0)\n",
    "score = accuracy * 100\n",
    "accuracies.append(round(score, 2))\n",
    "aucs.append(round(auc * 100, 2))\n",
    "print('\\nAccuracy: %.3f%%' % score)\n",
    "print('\\nAUC:', round(auc, 4))"
   ]
  },
  {
   "cell_type": "markdown",
   "metadata": {},
   "source": [
    "### 1.4 Pain level detection - Convolutional LSTM"
   ]
  },
  {
   "cell_type": "markdown",
   "metadata": {},
   "source": [
    "#### Model"
   ]
  },
  {
   "cell_type": "code",
   "execution_count": 19,
   "metadata": {},
   "outputs": [
    {
     "name": "stdout",
     "output_type": "stream",
     "text": [
      "Model: \"sequential_12\"\n",
      "_________________________________________________________________\n",
      " Layer (type)                Output Shape              Param #   \n",
      "=================================================================\n",
      " conv_lstm1d_4 (ConvLSTM1D)  (None, 348, 64)           78592     \n",
      "                                                                 \n",
      " flatten_12 (Flatten)        (None, 22272)             0         \n",
      "                                                                 \n",
      " dense_24 (Dense)            (None, 100)               2227300   \n",
      "                                                                 \n",
      " dense_25 (Dense)            (None, 3)                 303       \n",
      "                                                                 \n",
      "=================================================================\n",
      "Total params: 2,306,195\n",
      "Trainable params: 2,306,195\n",
      "Non-trainable params: 0\n",
      "_________________________________________________________________\n"
     ]
    }
   ],
   "source": [
    "model = get_convLSTM_model(n_features, n_length, n_outputs)\n",
    "model.summary()"
   ]
  },
  {
   "cell_type": "markdown",
   "metadata": {},
   "source": [
    "#### KFold CV"
   ]
  },
  {
   "cell_type": "code",
   "execution_count": 20,
   "metadata": {},
   "outputs": [
    {
     "name": "stdout",
     "output_type": "stream",
     "text": [
      "Epoch 1/25\n",
      "1/1 - 4s - loss: 38.9102 - accuracy: 0.6582 - auc_13: 0.7437 - val_loss: 418.7241 - val_accuracy: 0.3529 - val_auc_13: 0.5147 - 4s/epoch - 4s/step\n",
      "Epoch 2/25\n",
      "1/1 - 1s - loss: 447.3606 - accuracy: 0.3291 - auc_13: 0.4968 - val_loss: 168.6344 - val_accuracy: 0.1176 - val_auc_13: 0.3102 - 583ms/epoch - 583ms/step\n",
      "Epoch 3/25\n",
      "1/1 - 1s - loss: 183.6308 - accuracy: 0.1477 - auc_13: 0.3468 - val_loss: 18.0738 - val_accuracy: 0.3866 - val_auc_13: 0.5320 - 554ms/epoch - 554ms/step\n",
      "Epoch 4/25\n",
      "1/1 - 1s - loss: 14.8934 - accuracy: 0.3418 - auc_13: 0.5359 - val_loss: 17.7999 - val_accuracy: 0.6218 - val_auc_13: 0.7164 - 557ms/epoch - 557ms/step\n",
      "Epoch 5/25\n",
      "1/1 - 1s - loss: 15.7549 - accuracy: 0.6582 - auc_13: 0.7437 - val_loss: 13.7919 - val_accuracy: 0.6218 - val_auc_13: 0.7164 - 550ms/epoch - 550ms/step\n",
      "Epoch 6/25\n",
      "1/1 - 1s - loss: 11.6265 - accuracy: 0.6582 - auc_13: 0.7437 - val_loss: 6.6214 - val_accuracy: 0.6218 - val_auc_13: 0.7179 - 573ms/epoch - 573ms/step\n",
      "Epoch 7/25\n",
      "1/1 - 1s - loss: 4.7810 - accuracy: 0.6582 - auc_13: 0.7485 - val_loss: 16.3399 - val_accuracy: 0.3529 - val_auc_13: 0.5120 - 557ms/epoch - 557ms/step\n",
      "Epoch 8/25\n",
      "1/1 - 1s - loss: 16.3256 - accuracy: 0.3291 - auc_13: 0.4972 - val_loss: 8.6618 - val_accuracy: 0.3613 - val_auc_13: 0.5352 - 551ms/epoch - 551ms/step\n"
     ]
    },
    {
     "data": {
      "image/png": "[encoded data removed]",
      "text/plain": [
       "<Figure size 432x288 with 1 Axes>"
      ]
     },
     "metadata": {
      "needs_background": "light"
     },
     "output_type": "display_data"
    },
    {
     "name": "stdout",
     "output_type": "stream",
     "text": [
      "Epoch 1/25\n",
      "1/1 - 3s - loss: 26.4883 - accuracy: 0.3291 - auc_14: 0.5081 - val_loss: 16.1996 - val_accuracy: 0.4706 - val_auc_14: 0.6250 - 3s/epoch - 3s/step\n",
      "Epoch 2/25\n",
      "1/1 - 1s - loss: 30.8342 - accuracy: 0.5105 - auc_14: 0.6394 - val_loss: 123.1418 - val_accuracy: 0.6218 - val_auc_14: 0.7164 - 693ms/epoch - 693ms/step\n",
      "Epoch 3/25\n",
      "1/1 - 1s - loss: 128.1936 - accuracy: 0.6582 - auc_14: 0.7437 - val_loss: 7.1166 - val_accuracy: 0.5378 - val_auc_14: 0.6915 - 557ms/epoch - 557ms/step\n",
      "Epoch 4/25\n",
      "1/1 - 1s - loss: 23.6853 - accuracy: 0.5696 - auc_14: 0.7135 - val_loss: 98.7649 - val_accuracy: 0.3782 - val_auc_14: 0.5336 - 545ms/epoch - 545ms/step\n",
      "Epoch 5/25\n",
      "1/1 - 1s - loss: 120.5050 - accuracy: 0.3165 - auc_14: 0.4873 - val_loss: 19.2039 - val_accuracy: 0.3697 - val_auc_14: 0.5346 - 563ms/epoch - 563ms/step\n"
     ]
    },
    {
     "data": {
      "image/png": "[encoded data removed]",
      "text/plain": [
       "<Figure size 432x288 with 1 Axes>"
      ]
     },
     "metadata": {
      "needs_background": "light"
     },
     "output_type": "display_data"
    },
    {
     "name": "stdout",
     "output_type": "stream",
     "text": [
      "Epoch 1/25\n",
      "1/1 - 4s - loss: 75.9524 - accuracy: 0.0378 - auc_15: 0.2777 - val_loss: 342.3707 - val_accuracy: 0.2797 - val_auc_15: 0.4597 - 4s/epoch - 4s/step\n",
      "Epoch 2/25\n",
      "1/1 - 1s - loss: 270.7342 - accuracy: 0.3655 - auc_15: 0.5242 - val_loss: 137.5090 - val_accuracy: 0.6949 - val_auc_15: 0.7712 - 558ms/epoch - 558ms/step\n",
      "Epoch 3/25\n",
      "1/1 - 1s - loss: 142.1431 - accuracy: 0.6218 - auc_15: 0.7164 - val_loss: 136.3108 - val_accuracy: 0.6949 - val_auc_15: 0.7712 - 583ms/epoch - 583ms/step\n",
      "Epoch 4/25\n",
      "1/1 - 1s - loss: 138.6781 - accuracy: 0.6218 - auc_15: 0.7164 - val_loss: 90.5149 - val_accuracy: 0.6949 - val_auc_15: 0.7712 - 543ms/epoch - 543ms/step\n",
      "Epoch 5/25\n",
      "1/1 - 1s - loss: 83.9545 - accuracy: 0.6218 - auc_15: 0.7164 - val_loss: 44.0144 - val_accuracy: 0.4068 - val_auc_15: 0.5859 - 545ms/epoch - 545ms/step\n",
      "Epoch 6/25\n",
      "1/1 - 1s - loss: 25.3462 - accuracy: 0.4706 - auc_15: 0.6330 - val_loss: 74.2498 - val_accuracy: 0.2797 - val_auc_15: 0.4600 - 572ms/epoch - 572ms/step\n",
      "Epoch 7/25\n",
      "1/1 - 1s - loss: 49.3128 - accuracy: 0.3739 - auc_15: 0.5323 - val_loss: 41.7820 - val_accuracy: 0.3305 - val_auc_15: 0.5063 - 553ms/epoch - 553ms/step\n",
      "Epoch 8/25\n",
      "1/1 - 1s - loss: 23.7361 - accuracy: 0.4412 - auc_15: 0.5985 - val_loss: 44.6164 - val_accuracy: 0.6949 - val_auc_15: 0.7712 - 561ms/epoch - 561ms/step\n",
      "Epoch 9/25\n",
      "1/1 - 1s - loss: 34.3857 - accuracy: 0.6218 - auc_15: 0.7164 - val_loss: 49.2016 - val_accuracy: 0.6949 - val_auc_15: 0.7712 - 549ms/epoch - 549ms/step\n"
     ]
    },
    {
     "data": {
      "image/png": "[encoded data removed]",
      "text/plain": [
       "<Figure size 432x288 with 1 Axes>"
      ]
     },
     "metadata": {
      "needs_background": "light"
     },
     "output_type": "display_data"
    }
   ],
   "source": [
    "kf = KFold(n_splits=3, shuffle=True, random_state=42)\n",
    "X = X_train.copy()\n",
    "y = y_train.copy()\n",
    "for train_index, val_index in kf.split(X):\n",
    "    X_train, X_val = X[train_index], X[val_index]\n",
    "    y_train, y_val = y[train_index], y[val_index]\n",
    "    model = get_convLSTM_model(n_features, n_length, n_outputs)\n",
    "    history = train(model, X_train, y_train, X_val, y_val, epochs=epochs, batch_size=batch_size)\n",
    "    plt.plot(history.history['loss'])\n",
    "    plt.show()"
   ]
  },
  {
   "cell_type": "markdown",
   "metadata": {},
   "source": [
    "#### Prediction on the holdout set"
   ]
  },
  {
   "cell_type": "code",
   "execution_count": 21,
   "metadata": {},
   "outputs": [
    {
     "name": "stdout",
     "output_type": "stream",
     "text": [
      "\n",
      "Accuracy: 77.778%\n",
      "\n",
      "AUC: 0.8333\n"
     ]
    }
   ],
   "source": [
    "loss, accuracy, auc = model.evaluate(X_test, y_test, batch_size=batch_size, verbose=0)\n",
    "score = accuracy * 100\n",
    "accuracies.append(round(score, 2))\n",
    "aucs.append(round(auc * 100, 2))\n",
    "print('\\nAccuracy: %.3f%%' % score)\n",
    "print('\\nAUC:', round(auc, 4))"
   ]
  },
  {
   "cell_type": "markdown",
   "metadata": {},
   "source": [
    "## 2. Face Modality (Action Units)"
   ]
  },
  {
   "cell_type": "markdown",
   "metadata": {},
   "source": [
    "### 2.1 Pain area prediction - CNN+LSTM"
   ]
  },
  {
   "cell_type": "markdown",
   "metadata": {},
   "source": [
    "#### Dataset"
   ]
  },
  {
   "cell_type": "code",
   "execution_count": 22,
   "metadata": {},
   "outputs": [
    {
     "name": "stdout",
     "output_type": "stream",
     "text": [
      "(208, 1, 350, 10) (208, 5)\n",
      "(27, 1, 350, 10) (27, 5)\n"
     ]
    }
   ],
   "source": [
    "X_train, X_test, y_train, y_test = load_dataset('processed', 'pain_area', 'AUs')\n",
    "\n",
    "print(X_train.shape, y_train.shape)\n",
    "print(X_test.shape, y_test.shape)"
   ]
  },
  {
   "cell_type": "markdown",
   "metadata": {},
   "source": [
    "#### Model"
   ]
  },
  {
   "cell_type": "code",
   "execution_count": 23,
   "metadata": {},
   "outputs": [],
   "source": [
    "batch_size = 68\n",
    "n_length, n_features, n_outputs = X_train.shape[2], X_train.shape[-1], y_train.shape[1]"
   ]
  },
  {
   "cell_type": "code",
   "execution_count": 24,
   "metadata": {},
   "outputs": [
    {
     "name": "stdout",
     "output_type": "stream",
     "text": [
      "Model: \"sequential_16\"\n",
      "_________________________________________________________________\n",
      " Layer (type)                Output Shape              Param #   \n",
      "=================================================================\n",
      " time_distributed_24 (TimeDi  (None, None, 348, 64)    1984      \n",
      " stributed)                                                      \n",
      "                                                                 \n",
      " time_distributed_25 (TimeDi  (None, None, 348, 32)    0         \n",
      " stributed)                                                      \n",
      "                                                                 \n",
      " time_distributed_26 (TimeDi  (None, None, 11136)      0         \n",
      " stributed)                                                      \n",
      "                                                                 \n",
      " lstm_8 (LSTM)               (None, 100)               4494800   \n",
      "                                                                 \n",
      " dense_32 (Dense)            (None, 100)               10100     \n",
      "                                                                 \n",
      " dense_33 (Dense)            (None, 5)                 505       \n",
      "                                                                 \n",
      "=================================================================\n",
      "Total params: 4,507,389\n",
      "Trainable params: 4,507,389\n",
      "Non-trainable params: 0\n",
      "_________________________________________________________________\n"
     ]
    }
   ],
   "source": [
    "model = get_CNN_model(n_features, n_length, n_outputs)\n",
    "model.summary()"
   ]
  },
  {
   "cell_type": "markdown",
   "metadata": {},
   "source": [
    "#### KFold CV"
   ]
  },
  {
   "cell_type": "code",
   "execution_count": 25,
   "metadata": {},
   "outputs": [
    {
     "name": "stdout",
     "output_type": "stream",
     "text": [
      "Epoch 1/25\n",
      "3/3 - 4s - loss: 1.4906 - accuracy: 0.3261 - auc_17: 0.6483 - val_loss: 1.2994 - val_accuracy: 0.5000 - val_auc_17: 0.7633 - 4s/epoch - 1s/step\n",
      "Epoch 2/25\n",
      "3/3 - 0s - loss: 1.2702 - accuracy: 0.5217 - auc_17: 0.7926 - val_loss: 1.3391 - val_accuracy: 0.5000 - val_auc_17: 0.7530 - 157ms/epoch - 52ms/step\n",
      "Epoch 3/25\n",
      "3/3 - 0s - loss: 1.2980 - accuracy: 0.5290 - auc_17: 0.8069 - val_loss: 1.2860 - val_accuracy: 0.5000 - val_auc_17: 0.7928 - 165ms/epoch - 55ms/step\n",
      "Epoch 4/25\n",
      "3/3 - 0s - loss: 1.2447 - accuracy: 0.5217 - auc_17: 0.8145 - val_loss: 1.2445 - val_accuracy: 0.5000 - val_auc_17: 0.8069 - 160ms/epoch - 53ms/step\n",
      "Epoch 5/25\n",
      "3/3 - 0s - loss: 1.2249 - accuracy: 0.5217 - auc_17: 0.8079 - val_loss: 1.2229 - val_accuracy: 0.5000 - val_auc_17: 0.8141 - 214ms/epoch - 71ms/step\n",
      "Epoch 6/25\n",
      "3/3 - 0s - loss: 1.2169 - accuracy: 0.5217 - auc_17: 0.8096 - val_loss: 1.2294 - val_accuracy: 0.5000 - val_auc_17: 0.8172 - 202ms/epoch - 67ms/step\n",
      "Epoch 7/25\n",
      "3/3 - 0s - loss: 1.2079 - accuracy: 0.5217 - auc_17: 0.8150 - val_loss: 1.2522 - val_accuracy: 0.5000 - val_auc_17: 0.8050 - 194ms/epoch - 65ms/step\n"
     ]
    },
    {
     "data": {
      "image/png": "[encoded data removed]",
      "text/plain": [
       "<Figure size 432x288 with 1 Axes>"
      ]
     },
     "metadata": {
      "needs_background": "light"
     },
     "output_type": "display_data"
    },
    {
     "name": "stdout",
     "output_type": "stream",
     "text": [
      "Epoch 1/25\n",
      "3/3 - 3s - loss: 1.4103 - accuracy: 0.3813 - auc_18: 0.7204 - val_loss: 1.5045 - val_accuracy: 0.4928 - val_auc_18: 0.7878 - 3s/epoch - 999ms/step\n",
      "Epoch 2/25\n",
      "3/3 - 0s - loss: 1.4273 - accuracy: 0.5252 - auc_18: 0.8021 - val_loss: 1.4331 - val_accuracy: 0.4928 - val_auc_18: 0.7881 - 161ms/epoch - 54ms/step\n",
      "Epoch 3/25\n",
      "3/3 - 0s - loss: 1.3011 - accuracy: 0.5252 - auc_18: 0.8168 - val_loss: 1.2975 - val_accuracy: 0.4928 - val_auc_18: 0.7916 - 160ms/epoch - 53ms/step\n",
      "Epoch 4/25\n",
      "3/3 - 0s - loss: 1.1901 - accuracy: 0.5252 - auc_18: 0.8194 - val_loss: 1.2460 - val_accuracy: 0.4928 - val_auc_18: 0.7919 - 158ms/epoch - 53ms/step\n",
      "Epoch 5/25\n",
      "3/3 - 0s - loss: 1.1504 - accuracy: 0.5252 - auc_18: 0.8301 - val_loss: 1.2443 - val_accuracy: 0.5072 - val_auc_18: 0.7883 - 158ms/epoch - 53ms/step\n",
      "Epoch 6/25\n",
      "3/3 - 0s - loss: 1.1281 - accuracy: 0.5468 - auc_18: 0.8430 - val_loss: 1.2564 - val_accuracy: 0.4928 - val_auc_18: 0.7788 - 171ms/epoch - 57ms/step\n",
      "Epoch 7/25\n",
      "3/3 - 0s - loss: 1.1315 - accuracy: 0.5108 - auc_18: 0.8503 - val_loss: 1.2499 - val_accuracy: 0.5072 - val_auc_18: 0.7807 - 196ms/epoch - 65ms/step\n"
     ]
    },
    {
     "data": {
      "image/png": "[encoded data removed]",
      "text/plain": [
       "<Figure size 432x288 with 1 Axes>"
      ]
     },
     "metadata": {
      "needs_background": "light"
     },
     "output_type": "display_data"
    },
    {
     "name": "stdout",
     "output_type": "stream",
     "text": [
      "Epoch 1/25\n",
      "3/3 - 3s - loss: 1.5417 - accuracy: 0.2806 - auc_19: 0.5995 - val_loss: 1.2836 - val_accuracy: 0.5507 - val_auc_19: 0.7797 - 3s/epoch - 927ms/step\n",
      "Epoch 2/25\n",
      "3/3 - 0s - loss: 1.2822 - accuracy: 0.4964 - auc_19: 0.7898 - val_loss: 1.3107 - val_accuracy: 0.5507 - val_auc_19: 0.7767 - 218ms/epoch - 73ms/step\n",
      "Epoch 3/25\n",
      "3/3 - 0s - loss: 1.2862 - accuracy: 0.4964 - auc_19: 0.7909 - val_loss: 1.3548 - val_accuracy: 0.5362 - val_auc_19: 0.7602 - 200ms/epoch - 67ms/step\n"
     ]
    },
    {
     "data": {
      "image/png": "[encoded data removed]",
      "text/plain": [
       "<Figure size 432x288 with 1 Axes>"
      ]
     },
     "metadata": {
      "needs_background": "light"
     },
     "output_type": "display_data"
    }
   ],
   "source": [
    "kf = KFold(n_splits=3, shuffle=True, random_state=42)\n",
    "X = X_train.copy()\n",
    "y = y_train.copy()\n",
    "for train_index, val_index in kf.split(X):\n",
    "    X_train, X_val = X[train_index], X[val_index]\n",
    "    y_train, y_val = y[train_index], y[val_index]\n",
    "    model = get_CNN_model(n_features, n_length, n_outputs)\n",
    "    history = train(model, X_train, y_train, X_val, y_val, epochs=epochs, batch_size=batch_size)\n",
    "    plt.plot(history.history['loss'])\n",
    "    plt.show()"
   ]
  },
  {
   "cell_type": "markdown",
   "metadata": {},
   "source": [
    "#### Prediction on the holdout set"
   ]
  },
  {
   "cell_type": "code",
   "execution_count": 26,
   "metadata": {},
   "outputs": [
    {
     "name": "stdout",
     "output_type": "stream",
     "text": [
      "\n",
      "Accuracy: 59.259%\n",
      "\n",
      "AUC: 0.7761\n"
     ]
    }
   ],
   "source": [
    "loss, accuracy, auc = model.evaluate(X_test, y_test, batch_size=batch_size, verbose=0)\n",
    "score = accuracy * 100\n",
    "accuracies.append(round(score, 2))\n",
    "aucs.append(round(auc * 100, 2))\n",
    "print('\\nAccuracy: %.3f%%' % score)\n",
    "print('\\nAUC:', round(auc, 4))"
   ]
  },
  {
   "cell_type": "markdown",
   "metadata": {},
   "source": [
    "### 2.2 Pain area prediction - Convolutional LSTM"
   ]
  },
  {
   "cell_type": "markdown",
   "metadata": {},
   "source": [
    "#### Model"
   ]
  },
  {
   "cell_type": "code",
   "execution_count": 27,
   "metadata": {},
   "outputs": [
    {
     "name": "stdout",
     "output_type": "stream",
     "text": [
      "Model: \"sequential_20\"\n",
      "_________________________________________________________________\n",
      " Layer (type)                Output Shape              Param #   \n",
      "=================================================================\n",
      " conv_lstm1d_8 (ConvLSTM1D)  (None, 348, 64)           57088     \n",
      "                                                                 \n",
      " flatten_20 (Flatten)        (None, 22272)             0         \n",
      "                                                                 \n",
      " dense_40 (Dense)            (None, 100)               2227300   \n",
      "                                                                 \n",
      " dense_41 (Dense)            (None, 5)                 505       \n",
      "                                                                 \n",
      "=================================================================\n",
      "Total params: 2,284,893\n",
      "Trainable params: 2,284,893\n",
      "Non-trainable params: 0\n",
      "_________________________________________________________________\n"
     ]
    }
   ],
   "source": [
    "model = get_convLSTM_model(n_features, n_length, n_outputs)\n",
    "model.summary()"
   ]
  },
  {
   "cell_type": "markdown",
   "metadata": {},
   "source": [
    "#### KFold CV"
   ]
  },
  {
   "cell_type": "code",
   "execution_count": 28,
   "metadata": {},
   "outputs": [
    {
     "name": "stdout",
     "output_type": "stream",
     "text": [
      "Epoch 1/25\n",
      "2/2 - 4s - loss: 1.5378 - accuracy: 0.1848 - auc_21: 0.5718 - val_loss: 1.4510 - val_accuracy: 0.5106 - val_auc_21: 0.7587 - 4s/epoch - 2s/step\n",
      "Epoch 2/25\n",
      "2/2 - 0s - loss: 1.3416 - accuracy: 0.4891 - auc_21: 0.7772 - val_loss: 1.6837 - val_accuracy: 0.2766 - val_auc_21: 0.6596 - 230ms/epoch - 115ms/step\n",
      "Epoch 3/25\n",
      "2/2 - 0s - loss: 1.2273 - accuracy: 0.4022 - auc_21: 0.7969 - val_loss: 1.5431 - val_accuracy: 0.3617 - val_auc_21: 0.6978 - 238ms/epoch - 119ms/step\n"
     ]
    },
    {
     "data": {
      "image/png": "[encoded data removed]",
      "text/plain": [
       "<Figure size 432x288 with 1 Axes>"
      ]
     },
     "metadata": {
      "needs_background": "light"
     },
     "output_type": "display_data"
    },
    {
     "name": "stdout",
     "output_type": "stream",
     "text": [
      "Epoch 1/25\n",
      "2/2 - 3s - loss: 1.5232 - accuracy: 0.3441 - auc_22: 0.5727 - val_loss: 1.4150 - val_accuracy: 0.4348 - val_auc_22: 0.7384 - 3s/epoch - 1s/step\n",
      "Epoch 2/25\n",
      "2/2 - 0s - loss: 1.2352 - accuracy: 0.5269 - auc_22: 0.7939 - val_loss: 1.2791 - val_accuracy: 0.4348 - val_auc_22: 0.7818 - 279ms/epoch - 139ms/step\n",
      "Epoch 3/25\n",
      "2/2 - 0s - loss: 1.1557 - accuracy: 0.4946 - auc_22: 0.8199 - val_loss: 1.2641 - val_accuracy: 0.4565 - val_auc_22: 0.7875 - 232ms/epoch - 116ms/step\n",
      "Epoch 4/25\n",
      "2/2 - 0s - loss: 1.1021 - accuracy: 0.5376 - auc_22: 0.8419 - val_loss: 1.3004 - val_accuracy: 0.4348 - val_auc_22: 0.7804 - 238ms/epoch - 119ms/step\n",
      "Epoch 5/25\n",
      "2/2 - 0s - loss: 1.0254 - accuracy: 0.5376 - auc_22: 0.8750 - val_loss: 1.3591 - val_accuracy: 0.4348 - val_auc_22: 0.7640 - 232ms/epoch - 116ms/step\n"
     ]
    },
    {
     "data": {
      "image/png": "[encoded data removed]",
      "text/plain": [
       "<Figure size 432x288 with 1 Axes>"
      ]
     },
     "metadata": {
      "needs_background": "light"
     },
     "output_type": "display_data"
    },
    {
     "name": "stdout",
     "output_type": "stream",
     "text": [
      "Epoch 1/25\n",
      "2/2 - 5s - loss: 1.5338 - accuracy: 0.2796 - auc_23: 0.6036 - val_loss: 1.3370 - val_accuracy: 0.5435 - val_auc_23: 0.7343 - 5s/epoch - 2s/step\n",
      "Epoch 2/25\n",
      "2/2 - 0s - loss: 1.2386 - accuracy: 0.4839 - auc_23: 0.8178 - val_loss: 1.2115 - val_accuracy: 0.5652 - val_auc_23: 0.8087 - 298ms/epoch - 149ms/step\n",
      "Epoch 3/25\n",
      "2/2 - 0s - loss: 1.0992 - accuracy: 0.5376 - auc_23: 0.8679 - val_loss: 1.2313 - val_accuracy: 0.5435 - val_auc_23: 0.8049 - 254ms/epoch - 127ms/step\n",
      "Epoch 4/25\n",
      "2/2 - 0s - loss: 1.0226 - accuracy: 0.6022 - auc_23: 0.8773 - val_loss: 1.2675 - val_accuracy: 0.5217 - val_auc_23: 0.8038 - 251ms/epoch - 125ms/step\n"
     ]
    },
    {
     "data": {
      "image/png": "[encoded data removed]",
      "text/plain": [
       "<Figure size 432x288 with 1 Axes>"
      ]
     },
     "metadata": {
      "needs_background": "light"
     },
     "output_type": "display_data"
    }
   ],
   "source": [
    "kf = KFold(n_splits=3, shuffle=True, random_state=42)\n",
    "X = X_train.copy()\n",
    "y = y_train.copy()\n",
    "for train_index, val_index in kf.split(X):\n",
    "    X_train, X_val = X[train_index], X[val_index]\n",
    "    y_train, y_val = y[train_index], y[val_index]\n",
    "    model = get_convLSTM_model(n_features, n_length, n_outputs)\n",
    "    history = train(model, X_train, y_train, X_val, y_val, epochs=epochs, batch_size=batch_size)\n",
    "    plt.plot(history.history['loss'])\n",
    "    plt.show()"
   ]
  },
  {
   "cell_type": "markdown",
   "metadata": {},
   "source": [
    "#### Prediction on the holdout set"
   ]
  },
  {
   "cell_type": "code",
   "execution_count": 29,
   "metadata": {},
   "outputs": [
    {
     "name": "stdout",
     "output_type": "stream",
     "text": [
      "\n",
      "Accuracy: 59.259%\n",
      "\n",
      "AUC: 0.8057\n"
     ]
    }
   ],
   "source": [
    "loss, accuracy, auc = model.evaluate(X_test, y_test, batch_size=batch_size, verbose=0)\n",
    "score = accuracy * 100\n",
    "accuracies.append(round(score, 2))\n",
    "aucs.append(round(auc * 100, 2))\n",
    "print('\\nAccuracy: %.3f%%' % score)\n",
    "print('\\nAUC:', round(auc, 4))"
   ]
  },
  {
   "cell_type": "markdown",
   "metadata": {},
   "source": [
    "### 2.3 Pain level prediction - CNN+LSTM"
   ]
  },
  {
   "cell_type": "markdown",
   "metadata": {},
   "source": [
    "#### Dataset"
   ]
  },
  {
   "cell_type": "code",
   "execution_count": 30,
   "metadata": {},
   "outputs": [
    {
     "name": "stdout",
     "output_type": "stream",
     "text": [
      "(208, 1, 350, 10) (208, 3)\n",
      "(27, 1, 350, 10) (27, 3)\n"
     ]
    }
   ],
   "source": [
    "X_train, X_test, y_train, y_test = load_dataset('processed', 'pain_level', 'AUs')\n",
    "\n",
    "print(X_train.shape, y_train.shape)\n",
    "print(X_test.shape, y_test.shape)"
   ]
  },
  {
   "cell_type": "markdown",
   "metadata": {},
   "source": [
    "#### Model"
   ]
  },
  {
   "cell_type": "code",
   "execution_count": 31,
   "metadata": {},
   "outputs": [],
   "source": [
    "n_length, n_features, n_outputs = X_train.shape[2], X_train.shape[-1], y_train.shape[1]"
   ]
  },
  {
   "cell_type": "code",
   "execution_count": 32,
   "metadata": {},
   "outputs": [
    {
     "name": "stdout",
     "output_type": "stream",
     "text": [
      "Model: \"sequential_24\"\n",
      "_________________________________________________________________\n",
      " Layer (type)                Output Shape              Param #   \n",
      "=================================================================\n",
      " time_distributed_36 (TimeDi  (None, None, 348, 64)    1984      \n",
      " stributed)                                                      \n",
      "                                                                 \n",
      " time_distributed_37 (TimeDi  (None, None, 348, 32)    0         \n",
      " stributed)                                                      \n",
      "                                                                 \n",
      " time_distributed_38 (TimeDi  (None, None, 11136)      0         \n",
      " stributed)                                                      \n",
      "                                                                 \n",
      " lstm_12 (LSTM)              (None, 100)               4494800   \n",
      "                                                                 \n",
      " dense_48 (Dense)            (None, 100)               10100     \n",
      "                                                                 \n",
      " dense_49 (Dense)            (None, 3)                 303       \n",
      "                                                                 \n",
      "=================================================================\n",
      "Total params: 4,507,187\n",
      "Trainable params: 4,507,187\n",
      "Non-trainable params: 0\n",
      "_________________________________________________________________\n"
     ]
    }
   ],
   "source": [
    "model = get_CNN_model(n_features, n_length, n_outputs)\n",
    "model.summary()"
   ]
  },
  {
   "cell_type": "markdown",
   "metadata": {},
   "source": [
    "#### KFold CV"
   ]
  },
  {
   "cell_type": "code",
   "execution_count": 33,
   "metadata": {},
   "outputs": [
    {
     "name": "stdout",
     "output_type": "stream",
     "text": [
      "Epoch 1/25\n",
      "3/3 - 4s - loss: 0.8806 - accuracy: 0.5435 - auc_25: 0.7354 - val_loss: 0.9888 - val_accuracy: 0.5714 - val_auc_25: 0.8052 - 4s/epoch - 1s/step\n",
      "Epoch 2/25\n",
      "3/3 - 0s - loss: 0.7329 - accuracy: 0.6884 - auc_25: 0.8850 - val_loss: 0.8248 - val_accuracy: 0.5714 - val_auc_25: 0.8083 - 224ms/epoch - 75ms/step\n",
      "Epoch 3/25\n",
      "3/3 - 0s - loss: 0.6138 - accuracy: 0.6884 - auc_25: 0.8813 - val_loss: 0.7244 - val_accuracy: 0.5857 - val_auc_25: 0.8102 - 183ms/epoch - 61ms/step\n",
      "Epoch 4/25\n",
      "3/3 - 0s - loss: 0.6167 - accuracy: 0.7464 - auc_25: 0.9018 - val_loss: 0.7321 - val_accuracy: 0.6000 - val_auc_25: 0.8147 - 191ms/epoch - 64ms/step\n",
      "Epoch 5/25\n",
      "3/3 - 0s - loss: 0.5927 - accuracy: 0.7029 - auc_25: 0.8965 - val_loss: 0.7625 - val_accuracy: 0.5571 - val_auc_25: 0.8119 - 170ms/epoch - 57ms/step\n"
     ]
    },
    {
     "data": {
      "image/png": "[encoded data removed]",
      "text/plain": [
       "<Figure size 432x288 with 1 Axes>"
      ]
     },
     "metadata": {
      "needs_background": "light"
     },
     "output_type": "display_data"
    },
    {
     "name": "stdout",
     "output_type": "stream",
     "text": [
      "Epoch 1/25\n",
      "3/3 - 3s - loss: 0.9228 - accuracy: 0.6475 - auc_26: 0.7530 - val_loss: 0.7332 - val_accuracy: 0.6522 - val_auc_26: 0.8510 - 3s/epoch - 1s/step\n",
      "Epoch 2/25\n",
      "3/3 - 0s - loss: 0.7047 - accuracy: 0.6475 - auc_26: 0.8594 - val_loss: 0.6958 - val_accuracy: 0.6522 - val_auc_26: 0.8545 - 162ms/epoch - 54ms/step\n",
      "Epoch 3/25\n",
      "3/3 - 0s - loss: 0.6485 - accuracy: 0.6547 - auc_26: 0.8648 - val_loss: 0.6639 - val_accuracy: 0.6812 - val_auc_26: 0.8651 - 180ms/epoch - 60ms/step\n",
      "Epoch 4/25\n",
      "3/3 - 0s - loss: 0.6120 - accuracy: 0.7122 - auc_26: 0.8870 - val_loss: 0.6576 - val_accuracy: 0.6957 - val_auc_26: 0.8634 - 163ms/epoch - 54ms/step\n",
      "Epoch 5/25\n",
      "3/3 - 0s - loss: 0.5975 - accuracy: 0.6906 - auc_26: 0.8923 - val_loss: 0.6609 - val_accuracy: 0.6957 - val_auc_26: 0.8625 - 164ms/epoch - 55ms/step\n",
      "Epoch 6/25\n",
      "3/3 - 0s - loss: 0.5852 - accuracy: 0.7194 - auc_26: 0.8977 - val_loss: 0.6634 - val_accuracy: 0.6957 - val_auc_26: 0.8657 - 153ms/epoch - 51ms/step\n"
     ]
    },
    {
     "data": {
      "image/png": "[encoded data removed]",
      "text/plain": [
       "<Figure size 432x288 with 1 Axes>"
      ]
     },
     "metadata": {
      "needs_background": "light"
     },
     "output_type": "display_data"
    },
    {
     "name": "stdout",
     "output_type": "stream",
     "text": [
      "Epoch 1/25\n",
      "3/3 - 3s - loss: 0.9305 - accuracy: 0.3885 - auc_27: 0.6809 - val_loss: 0.5997 - val_accuracy: 0.7246 - val_auc_27: 0.9066 - 3s/epoch - 1s/step\n",
      "Epoch 2/25\n",
      "3/3 - 0s - loss: 0.7450 - accuracy: 0.6115 - auc_27: 0.8305 - val_loss: 0.6616 - val_accuracy: 0.6957 - val_auc_27: 0.8788 - 163ms/epoch - 54ms/step\n",
      "Epoch 3/25\n",
      "3/3 - 0s - loss: 0.6926 - accuracy: 0.6691 - auc_27: 0.8731 - val_loss: 0.5736 - val_accuracy: 0.7391 - val_auc_27: 0.9069 - 166ms/epoch - 55ms/step\n",
      "Epoch 4/25\n",
      "3/3 - 0s - loss: 0.6667 - accuracy: 0.6619 - auc_27: 0.8605 - val_loss: 0.5871 - val_accuracy: 0.7101 - val_auc_27: 0.8917 - 169ms/epoch - 56ms/step\n",
      "Epoch 5/25\n",
      "3/3 - 0s - loss: 0.6559 - accuracy: 0.6547 - auc_27: 0.8688 - val_loss: 0.6542 - val_accuracy: 0.6377 - val_auc_27: 0.8484 - 155ms/epoch - 52ms/step\n"
     ]
    },
    {
     "data": {
      "image/png": "[encoded data removed]",
      "text/plain": [
       "<Figure size 432x288 with 1 Axes>"
      ]
     },
     "metadata": {
      "needs_background": "light"
     },
     "output_type": "display_data"
    }
   ],
   "source": [
    "kf = KFold(n_splits=3, shuffle=True, random_state=42)\n",
    "X = X_train.copy()\n",
    "y = y_train.copy()\n",
    "for train_index, val_index in kf.split(X):\n",
    "    X_train, X_val = X[train_index], X[val_index]\n",
    "    y_train, y_val = y[train_index], y[val_index]\n",
    "    model = get_CNN_model(n_features, n_length, n_outputs)\n",
    "    history = train(model, X_train, y_train, X_val, y_val, epochs=epochs, batch_size=batch_size)\n",
    "    plt.plot(history.history['loss'])\n",
    "    plt.show()"
   ]
  },
  {
   "cell_type": "markdown",
   "metadata": {},
   "source": [
    "#### Prediction on the holdout set"
   ]
  },
  {
   "cell_type": "code",
   "execution_count": 34,
   "metadata": {},
   "outputs": [
    {
     "name": "stdout",
     "output_type": "stream",
     "text": [
      "\n",
      "Accuracy: 29.630%\n",
      "\n",
      "AUC: 0.7099\n"
     ]
    }
   ],
   "source": [
    "loss, accuracy, auc = model.evaluate(X_test, y_test, batch_size=batch_size, verbose=0)\n",
    "score = accuracy * 100\n",
    "accuracies.append(round(score, 2))\n",
    "aucs.append(round(auc * 100, 2))\n",
    "print('\\nAccuracy: %.3f%%' % score)\n",
    "print('\\nAUC:', round(auc, 4))"
   ]
  },
  {
   "cell_type": "markdown",
   "metadata": {},
   "source": [
    "### 2.4 Pain level prediction - Convolutional LSTM"
   ]
  },
  {
   "cell_type": "markdown",
   "metadata": {},
   "source": [
    "#### Model"
   ]
  },
  {
   "cell_type": "code",
   "execution_count": 35,
   "metadata": {},
   "outputs": [
    {
     "name": "stdout",
     "output_type": "stream",
     "text": [
      "Model: \"sequential_28\"\n",
      "_________________________________________________________________\n",
      " Layer (type)                Output Shape              Param #   \n",
      "=================================================================\n",
      " conv_lstm1d_12 (ConvLSTM1D)  (None, 348, 64)          57088     \n",
      "                                                                 \n",
      " flatten_28 (Flatten)        (None, 22272)             0         \n",
      "                                                                 \n",
      " dense_56 (Dense)            (None, 100)               2227300   \n",
      "                                                                 \n",
      " dense_57 (Dense)            (None, 3)                 303       \n",
      "                                                                 \n",
      "=================================================================\n",
      "Total params: 2,284,691\n",
      "Trainable params: 2,284,691\n",
      "Non-trainable params: 0\n",
      "_________________________________________________________________\n"
     ]
    }
   ],
   "source": [
    "model = get_convLSTM_model(n_features, n_length, n_outputs)\n",
    "model.summary()"
   ]
  },
  {
   "cell_type": "markdown",
   "metadata": {},
   "source": [
    "#### KFold CV"
   ]
  },
  {
   "cell_type": "code",
   "execution_count": 36,
   "metadata": {},
   "outputs": [
    {
     "name": "stdout",
     "output_type": "stream",
     "text": [
      "Epoch 1/25\n",
      "2/2 - 4s - loss: 0.9932 - accuracy: 0.5761 - auc_29: 0.7421 - val_loss: 0.8667 - val_accuracy: 0.5957 - val_auc_29: 0.7976 - 4s/epoch - 2s/step\n",
      "Epoch 2/25\n",
      "2/2 - 0s - loss: 0.6893 - accuracy: 0.6087 - auc_29: 0.8276 - val_loss: 0.8798 - val_accuracy: 0.6170 - val_auc_29: 0.7918 - 260ms/epoch - 130ms/step\n",
      "Epoch 3/25\n",
      "2/2 - 0s - loss: 0.5889 - accuracy: 0.6196 - auc_29: 0.8782 - val_loss: 0.9912 - val_accuracy: 0.6170 - val_auc_29: 0.7909 - 265ms/epoch - 132ms/step\n"
     ]
    },
    {
     "data": {
      "image/png": "[encoded data removed]",
      "text/plain": [
       "<Figure size 432x288 with 1 Axes>"
      ]
     },
     "metadata": {
      "needs_background": "light"
     },
     "output_type": "display_data"
    },
    {
     "name": "stdout",
     "output_type": "stream",
     "text": [
      "Epoch 1/25\n",
      "2/2 - 4s - loss: 1.0201 - accuracy: 0.5269 - auc_30: 0.6942 - val_loss: 0.9661 - val_accuracy: 0.5435 - val_auc_30: 0.7870 - 4s/epoch - 2s/step\n",
      "Epoch 2/25\n",
      "2/2 - 0s - loss: 0.7968 - accuracy: 0.6452 - auc_30: 0.8415 - val_loss: 0.7326 - val_accuracy: 0.6304 - val_auc_30: 0.8360 - 256ms/epoch - 128ms/step\n",
      "Epoch 3/25\n",
      "2/2 - 0s - loss: 0.7007 - accuracy: 0.7097 - auc_30: 0.8822 - val_loss: 0.7261 - val_accuracy: 0.5435 - val_auc_30: 0.8110 - 250ms/epoch - 125ms/step\n",
      "Epoch 4/25\n",
      "2/2 - 0s - loss: 0.6749 - accuracy: 0.6882 - auc_30: 0.8824 - val_loss: 0.6990 - val_accuracy: 0.5652 - val_auc_30: 0.8129 - 250ms/epoch - 125ms/step\n",
      "Epoch 5/25\n",
      "2/2 - 0s - loss: 0.6064 - accuracy: 0.7312 - auc_30: 0.8939 - val_loss: 0.7479 - val_accuracy: 0.5435 - val_auc_30: 0.8078 - 260ms/epoch - 130ms/step\n",
      "Epoch 6/25\n",
      "2/2 - 0s - loss: 0.6024 - accuracy: 0.6989 - auc_30: 0.8895 - val_loss: 0.7426 - val_accuracy: 0.5435 - val_auc_30: 0.8033 - 249ms/epoch - 125ms/step\n"
     ]
    },
    {
     "data": {
      "image/png": "[encoded data removed]",
      "text/plain": [
       "<Figure size 432x288 with 1 Axes>"
      ]
     },
     "metadata": {
      "needs_background": "light"
     },
     "output_type": "display_data"
    },
    {
     "name": "stdout",
     "output_type": "stream",
     "text": [
      "Epoch 1/25\n",
      "2/2 - 3s - loss: 1.0725 - accuracy: 0.3978 - auc_31: 0.5956 - val_loss: 0.6904 - val_accuracy: 0.6522 - val_auc_31: 0.8704 - 3s/epoch - 1s/step\n",
      "Epoch 2/25\n",
      "2/2 - 0s - loss: 0.7570 - accuracy: 0.5806 - auc_31: 0.8128 - val_loss: 0.6663 - val_accuracy: 0.6522 - val_auc_31: 0.8526 - 250ms/epoch - 125ms/step\n",
      "Epoch 3/25\n",
      "2/2 - 0s - loss: 0.6637 - accuracy: 0.6882 - auc_31: 0.8746 - val_loss: 0.6163 - val_accuracy: 0.6087 - val_auc_31: 0.8702 - 258ms/epoch - 129ms/step\n",
      "Epoch 4/25\n",
      "2/2 - 0s - loss: 0.6930 - accuracy: 0.6559 - auc_31: 0.8534 - val_loss: 0.6180 - val_accuracy: 0.6739 - val_auc_31: 0.8670 - 243ms/epoch - 122ms/step\n",
      "Epoch 5/25\n",
      "2/2 - 0s - loss: 0.6483 - accuracy: 0.7097 - auc_31: 0.8725 - val_loss: 0.6747 - val_accuracy: 0.6087 - val_auc_31: 0.8218 - 245ms/epoch - 123ms/step\n"
     ]
    },
    {
     "data": {
      "image/png": "[encoded data removed]",
      "text/plain": [
       "<Figure size 432x288 with 1 Axes>"
      ]
     },
     "metadata": {
      "needs_background": "light"
     },
     "output_type": "display_data"
    }
   ],
   "source": [
    "kf = KFold(n_splits=3, shuffle=True, random_state=42)\n",
    "X = X_train.copy()\n",
    "y = y_train.copy()\n",
    "for train_index, val_index in kf.split(X):\n",
    "    X_train, X_val = X[train_index], X[val_index]\n",
    "    y_train, y_val = y[train_index], y[val_index]\n",
    "    model = get_convLSTM_model(n_features, n_length, n_outputs)\n",
    "    history = train(model, X_train, y_train, X_val, y_val, epochs=epochs, batch_size=batch_size)\n",
    "    plt.plot(history.history['loss'])\n",
    "    plt.show()"
   ]
  },
  {
   "cell_type": "markdown",
   "metadata": {},
   "source": [
    "#### Prediction on the holdout set"
   ]
  },
  {
   "cell_type": "code",
   "execution_count": 37,
   "metadata": {},
   "outputs": [
    {
     "name": "stdout",
     "output_type": "stream",
     "text": [
      "\n",
      "Accuracy: 37.037%\n",
      "\n",
      "AUC: 0.7692\n"
     ]
    }
   ],
   "source": [
    "loss, accuracy, auc = model.evaluate(X_test, y_test, batch_size=batch_size, verbose=0)\n",
    "score = accuracy * 100\n",
    "accuracies.append(round(score, 2))\n",
    "aucs.append(round(auc * 100, 2))\n",
    "print('\\nAccuracy: %.3f%%' % score)\n",
    "print('\\nAUC:', round(auc, 4))"
   ]
  },
  {
   "cell_type": "markdown",
   "metadata": {},
   "source": [
    "## 3. Results"
   ]
  },
  {
   "cell_type": "code",
   "execution_count": 38,
   "metadata": {},
   "outputs": [],
   "source": [
    "def show_results(first, last):\n",
    "    plt.rcParams['figure.figsize'] = (8,8)\n",
    "    x = np.arange(len(model_names[first:last]))\n",
    "    width = 0.35\n",
    "\n",
    "    fig, ax = plt.subplots()\n",
    "    rects1 = ax.bar(x - width/2, accuracies[first:last], width, label='Accuracy')\n",
    "    rects2 = ax.bar(x + width/2, aucs[first:last], width, label='AUC * 100')\n",
    "\n",
    "    ax.set_ylim(0, 100)\n",
    "    ax.set_xticks(x, model_names[first:last])\n",
    "    ax.legend()\n",
    "\n",
    "    ax.bar_label(rects1, padding=3)\n",
    "    ax.bar_label(rects2, padding=3)\n",
    "\n",
    "    fig.tight_layout()\n",
    "\n",
    "    plt.show()"
   ]
  },
  {
   "cell_type": "markdown",
   "metadata": {},
   "source": [
    "### Body Modality (Skeleton) - Pain area prediction \n",
    "\n",
    "CNN+LSTM vs Convolutional LSTM"
   ]
  },
  {
   "cell_type": "code",
   "execution_count": 39,
   "metadata": {},
   "outputs": [
    {
     "data": {
      "image/png": "[encoded data removed]",
      "text/plain": [
       "<Figure size 576x576 with 1 Axes>"
      ]
     },
     "metadata": {
      "needs_background": "light"
     },
     "output_type": "display_data"
    }
   ],
   "source": [
    "show_results(0, 2)"
   ]
  },
  {
   "cell_type": "markdown",
   "metadata": {},
   "source": [
    "### Body Modality (Skeleton) - Pain level prediction \n",
    "\n",
    "CNN+LSTM vs Convolutional LSTM"
   ]
  },
  {
   "cell_type": "code",
   "execution_count": 40,
   "metadata": {},
   "outputs": [
    {
     "data": {
      "image/png": "[encoded data removed]",
      "text/plain": [
       "<Figure size 576x576 with 1 Axes>"
      ]
     },
     "metadata": {
      "needs_background": "light"
     },
     "output_type": "display_data"
    }
   ],
   "source": [
    "show_results(2, 4)"
   ]
  },
  {
   "cell_type": "markdown",
   "metadata": {},
   "source": [
    "### Face Modality (Action Units) - Pain area prediction \n",
    "\n",
    "CNN+LSTM vs Convolutional LSTM"
   ]
  },
  {
   "cell_type": "code",
   "execution_count": 41,
   "metadata": {},
   "outputs": [
    {
     "data": {
      "image/png": "[encoded data removed]",
      "text/plain": [
       "<Figure size 576x576 with 1 Axes>"
      ]
     },
     "metadata": {
      "needs_background": "light"
     },
     "output_type": "display_data"
    }
   ],
   "source": [
    "show_results(4, 6)"
   ]
  },
  {
   "cell_type": "markdown",
   "metadata": {},
   "source": [
    "### Face Modality (Action Units) - Pain level prediction \n",
    "\n",
    "CNN+LSTM vs Convolutional LSTM"
   ]
  },
  {
   "cell_type": "code",
   "execution_count": 42,
   "metadata": {},
   "outputs": [
    {
     "data": {
      "image/png": "[encoded data removed]",
      "text/plain": [
       "<Figure size 576x576 with 1 Axes>"
      ]
     },
     "metadata": {
      "needs_background": "light"
     },
     "output_type": "display_data"
    }
   ],
   "source": [
    "show_results(6, 8)"
   ]
  }
 ],
 "metadata": {
  "interpreter": {
   "hash": "225abd0b4b41c85229fb7285a24282bb8b7c5c494a1c5011beaea88d2c1fa3cf"
  },
  "kernelspec": {
   "display_name": "Python 3.9.10 ('masters-thesis-dSEc-4wZ')",
   "language": "python",
   "name": "python3"
  },
  "language_info": {
   "codemirror_mode": {
    "name": "ipython",
    "version": 3
   },
   "file_extension": ".py",
   "mimetype": "text/x-python",
   "name": "python",
   "nbconvert_exporter": "python",
   "pygments_lexer": "ipython3",
   "version": "3.9.10"
  },
  "orig_nbformat": 4
 },
 "nbformat": 4,
 "nbformat_minor": 2
}
