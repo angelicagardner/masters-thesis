{
 "cells": [
  {
   "cell_type": "markdown",
   "metadata": {},
   "source": [
    "# Baseline Results for Uni-modal Approaches"
   ]
  },
  {
   "cell_type": "code",
   "execution_count": 1,
   "metadata": {},
   "outputs": [],
   "source": [
    "import os\n",
    "os.environ['TF_CPP_MIN_LOG_LEVEL'] = '3'\n",
    "import warnings\n",
    "import numpy as np\n",
    "import pandas as pd\n",
    "import matplotlib.pyplot as plt\n",
    "import tensorflow as tf \n",
    "\n",
    "from pathlib import Path\n",
    "from sklearn.model_selection import KFold\n",
    "from tensorflow.keras import optimizers\n",
    "from tensorflow.keras.layers import LSTM, Dense, Flatten, TimeDistributed, Conv1D,  MaxPooling1D, ConvLSTM2D\n",
    "from tensorflow.keras import models\n",
    "\n",
    "warnings.filterwarnings(\"ignore\")"
   ]
  },
  {
   "cell_type": "code",
   "execution_count": 2,
   "metadata": {},
   "outputs": [],
   "source": [
    "def load_file(file, prediction_type):\n",
    "    df = pd.read_csv(file, header=0)\n",
    "    labels = df[prediction_type]\n",
    "    df = df.drop(columns=['pain_area', 'pain_level'])\n",
    "    df.drop(df.columns[-1], axis=1, inplace=True)\n",
    "    return df.to_numpy(), labels\n",
    "\n",
    "def reshape_CNN_data(X, n_length, n_features):\n",
    "    return X.reshape((len(X), 1, n_length, n_features))\n",
    "\n",
    "def reshape_LSTM_data(X, n_length, n_features):\n",
    "    return X.reshape((len(X), 1, 1, n_length, n_features))\n",
    "\n",
    "def load_dataset(input_filepath, prediction_type, modality, architecture):\n",
    "    root_dir = Path(os.path.abspath('')).parent\n",
    "    data_dir = root_dir / 'data'\n",
    "    train_filepath = data_dir / input_filepath / 'train' / modality\n",
    "    test_filepath = data_dir / input_filepath / 'test' / modality\n",
    "    # 1. Load train data\n",
    "    X = list()\n",
    "    y = list()\n",
    "    for file in train_filepath.iterdir():\n",
    "        if file.is_file() and file.name.endswith('.csv'):\n",
    "            x, labels = load_file(file, prediction_type)\n",
    "            X.append(x)\n",
    "            y.append(labels[0])\n",
    "    n_length = X[0].shape[0]\n",
    "    n_features = X[0].shape[1]\n",
    "    X = np.array(X)\n",
    "    if architecture == 'CNN':\n",
    "        X_train = reshape_CNN_data(X, n_length, n_features)\n",
    "    elif architecture == 'convLSTM':\n",
    "        X_train = reshape_LSTM_data(X, n_length, n_features)\n",
    "    y_train = pd.get_dummies(y)\n",
    "    # 2. Load test data\n",
    "    X = list()\n",
    "    y = list()\n",
    "    for file in test_filepath.iterdir():\n",
    "        if file.is_file() and file.name.endswith('.csv'):\n",
    "            x, labels = load_file(file, prediction_type)\n",
    "            X.append(x)\n",
    "            y.append(labels[0])\n",
    "    n_length = X[0].shape[0]\n",
    "    n_features = X[0].shape[1]\n",
    "    X = np.array(X)\n",
    "    if architecture == 'CNN':\n",
    "        X_test = reshape_CNN_data(X, n_length, n_features)\n",
    "    elif architecture == 'convLSTM':\n",
    "        X_test = reshape_LSTM_data(X, n_length, n_features)\n",
    "    y_test = pd.get_dummies(y)\n",
    "    y_test, tmp = y_test.align(y_train, join='outer', axis=1, fill_value=0)\n",
    "    return X_train, X_test, y_train, y_test"
   ]
  },
  {
   "cell_type": "code",
   "execution_count": 3,
   "metadata": {},
   "outputs": [],
   "source": [
    "accuracies = []\n",
    "aucs = []\n",
    "model_names = ['M1.1', 'M1.2', 'M1.3', 'M1.4', 'M2.1', 'M2.2', 'M2.3', 'M2.4']"
   ]
  },
  {
   "cell_type": "markdown",
   "metadata": {},
   "source": [
    "## 1. Body Modality (Skeleton)"
   ]
  },
  {
   "cell_type": "markdown",
   "metadata": {},
   "source": [
    "### 1.1 Pain area prediction - CNN+LSTM"
   ]
  },
  {
   "cell_type": "markdown",
   "metadata": {},
   "source": [
    "#### Dataset"
   ]
  },
  {
   "cell_type": "code",
   "execution_count": 4,
   "metadata": {},
   "outputs": [
    {
     "name": "stdout",
     "output_type": "stream",
     "text": [
      "(534, 1, 350, 38) (534, 5)\n",
      "(81, 1, 350, 38) (81, 5)\n"
     ]
    }
   ],
   "source": [
    "X_train, X_test, y_train, y_test = load_dataset('processed', 'pain_area', 'skeleton', 'CNN')\n",
    "\n",
    "print(X_train.shape, y_train.shape)\n",
    "print(X_test.shape, y_test.shape)"
   ]
  },
  {
   "cell_type": "markdown",
   "metadata": {},
   "source": [
    "##### Pain Classes"
   ]
  },
  {
   "cell_type": "code",
   "execution_count": 5,
   "metadata": {},
   "outputs": [
    {
     "data": {
      "text/plain": [
       "['BackPain', 'FootPain', 'HeadNeckPain', 'LowerBodyPain', 'UpperBodyPain']"
      ]
     },
     "execution_count": 5,
     "metadata": {},
     "output_type": "execute_result"
    }
   ],
   "source": [
    "y_train.columns.tolist()"
   ]
  },
  {
   "cell_type": "markdown",
   "metadata": {},
   "source": [
    "#### Model"
   ]
  },
  {
   "cell_type": "code",
   "execution_count": 6,
   "metadata": {},
   "outputs": [],
   "source": [
    "epochs, batch_size = 25, 256\n",
    "n_timesteps, n_length, n_features, n_outputs = X_train.shape[1], X_train.shape[2], X_train.shape[-1], y_train.shape[1]"
   ]
  },
  {
   "cell_type": "code",
   "execution_count": 7,
   "metadata": {},
   "outputs": [],
   "source": [
    "def get_CNN_model(n_features, n_outputs, n_length):\n",
    "    model = models.Sequential()\n",
    "    model.add(TimeDistributed(Conv1D(filters=64, kernel_size=3,\n",
    "        activation='relu'), input_shape=(None, n_length, n_features)))\n",
    "    model.add(TimeDistributed(MaxPooling1D(pool_size=2, data_format='channels_first')))\n",
    "    model.add(TimeDistributed(Flatten()))\n",
    "    model.add(LSTM(100))\n",
    "    model.add(Dense(100, activation='relu'))\n",
    "    model.add(Dense(n_outputs, activation='softmax'))\n",
    "    lr_schedule = optimizers.schedules.ExponentialDecay(\n",
    "        initial_learning_rate=0.001,\n",
    "        decay_steps=50,\n",
    "        decay_rate=0.1)\n",
    "    optimizer = optimizers.Adam(learning_rate=lr_schedule)\n",
    "    model.compile(loss='categorical_crossentropy',\n",
    "        optimizer=optimizer, metrics=['accuracy', tf.keras.metrics.AUC()])\n",
    "    return model\n",
    "\n",
    "def train(model, X_train, y_train, X_val, y_val, epochs, batch_size):\n",
    "    early_stopping = tf.keras.callbacks.EarlyStopping(\n",
    "        monitor='val_loss', patience=2)\n",
    "    history = model.fit(X_train, y_train, validation_data=(X_val, y_val), epochs=epochs, callbacks=[early_stopping],\n",
    "        batch_size=batch_size, verbose=2)\n",
    "    return history"
   ]
  },
  {
   "cell_type": "code",
   "execution_count": 8,
   "metadata": {},
   "outputs": [
    {
     "name": "stdout",
     "output_type": "stream",
     "text": [
      "Model: \"sequential\"\n",
      "_________________________________________________________________\n",
      " Layer (type)                Output Shape              Param #   \n",
      "=================================================================\n",
      " time_distributed (TimeDistr  (None, None, 3, 64)      7360      \n",
      " ibuted)                                                         \n",
      "                                                                 \n",
      " time_distributed_1 (TimeDis  (None, None, 3, 32)      0         \n",
      " tributed)                                                       \n",
      "                                                                 \n",
      " time_distributed_2 (TimeDis  (None, None, 96)         0         \n",
      " tributed)                                                       \n",
      "                                                                 \n",
      " lstm (LSTM)                 (None, 100)               78800     \n",
      "                                                                 \n",
      " dense (Dense)               (None, 100)               10100     \n",
      "                                                                 \n",
      " dense_1 (Dense)             (None, 350)               35350     \n",
      "                                                                 \n",
      "=================================================================\n",
      "Total params: 131,610\n",
      "Trainable params: 131,610\n",
      "Non-trainable params: 0\n",
      "_________________________________________________________________\n"
     ]
    }
   ],
   "source": [
    "model = get_CNN_model(n_features, n_length, n_outputs)\n",
    "model.summary()"
   ]
  },
  {
   "cell_type": "markdown",
   "metadata": {},
   "source": [
    "#### KFold CV"
   ]
  },
  {
   "cell_type": "code",
   "execution_count": 9,
   "metadata": {},
   "outputs": [
    {
     "name": "stdout",
     "output_type": "stream",
     "text": [
      "Epoch 1/25\n",
      "2/2 - 3s - loss: 1.5149 - accuracy: 0.3989 - auc_1: 0.6603 - val_loss: 1.4231 - val_accuracy: 0.5337 - val_auc_1: 0.7187 - 3s/epoch - 1s/step\n",
      "Epoch 2/25\n",
      "2/2 - 0s - loss: 1.4061 - accuracy: 0.5702 - auc_1: 0.7092 - val_loss: 1.3843 - val_accuracy: 0.5337 - val_auc_1: 0.7188 - 230ms/epoch - 115ms/step\n",
      "Epoch 3/25\n",
      "2/2 - 0s - loss: 1.3450 - accuracy: 0.5702 - auc_1: 0.7196 - val_loss: 1.3651 - val_accuracy: 0.5337 - val_auc_1: 0.7044 - 234ms/epoch - 117ms/step\n",
      "Epoch 4/25\n",
      "2/2 - 0s - loss: 1.3175 - accuracy: 0.5702 - auc_1: 0.7095 - val_loss: 1.3408 - val_accuracy: 0.5337 - val_auc_1: 0.7247 - 269ms/epoch - 134ms/step\n",
      "Epoch 5/25\n",
      "2/2 - 0s - loss: 1.2895 - accuracy: 0.5702 - auc_1: 0.7366 - val_loss: 1.3241 - val_accuracy: 0.5337 - val_auc_1: 0.7479 - 227ms/epoch - 114ms/step\n",
      "Epoch 6/25\n",
      "2/2 - 0s - loss: 1.2742 - accuracy: 0.5702 - auc_1: 0.7602 - val_loss: 1.3066 - val_accuracy: 0.5337 - val_auc_1: 0.7711 - 337ms/epoch - 168ms/step\n",
      "Epoch 7/25\n",
      "2/2 - 0s - loss: 1.2625 - accuracy: 0.5702 - auc_1: 0.7755 - val_loss: 1.2948 - val_accuracy: 0.5337 - val_auc_1: 0.7888 - 250ms/epoch - 125ms/step\n",
      "Epoch 8/25\n",
      "2/2 - 0s - loss: 1.2505 - accuracy: 0.5702 - auc_1: 0.7962 - val_loss: 1.2857 - val_accuracy: 0.5337 - val_auc_1: 0.8057 - 234ms/epoch - 117ms/step\n",
      "Epoch 9/25\n",
      "2/2 - 0s - loss: 1.2428 - accuracy: 0.5702 - auc_1: 0.8009 - val_loss: 1.2778 - val_accuracy: 0.5337 - val_auc_1: 0.8056 - 261ms/epoch - 130ms/step\n",
      "Epoch 10/25\n",
      "2/2 - 0s - loss: 1.2350 - accuracy: 0.5702 - auc_1: 0.8004 - val_loss: 1.2706 - val_accuracy: 0.5337 - val_auc_1: 0.8056 - 244ms/epoch - 122ms/step\n",
      "Epoch 11/25\n",
      "2/2 - 0s - loss: 1.2290 - accuracy: 0.5702 - auc_1: 0.8011 - val_loss: 1.2637 - val_accuracy: 0.5337 - val_auc_1: 0.8054 - 355ms/epoch - 177ms/step\n",
      "Epoch 12/25\n",
      "2/2 - 0s - loss: 1.2234 - accuracy: 0.5702 - auc_1: 0.8027 - val_loss: 1.2577 - val_accuracy: 0.5337 - val_auc_1: 0.8053 - 254ms/epoch - 127ms/step\n",
      "Epoch 13/25\n",
      "2/2 - 0s - loss: 1.2188 - accuracy: 0.5702 - auc_1: 0.8028 - val_loss: 1.2523 - val_accuracy: 0.5337 - val_auc_1: 0.8053 - 253ms/epoch - 127ms/step\n",
      "Epoch 14/25\n",
      "2/2 - 0s - loss: 1.2151 - accuracy: 0.5702 - auc_1: 0.8027 - val_loss: 1.2476 - val_accuracy: 0.5337 - val_auc_1: 0.8052 - 370ms/epoch - 185ms/step\n",
      "Epoch 15/25\n",
      "2/2 - 0s - loss: 1.2117 - accuracy: 0.5702 - auc_1: 0.8020 - val_loss: 1.2433 - val_accuracy: 0.5337 - val_auc_1: 0.8049 - 245ms/epoch - 122ms/step\n",
      "Epoch 16/25\n",
      "2/2 - 0s - loss: 1.2088 - accuracy: 0.5702 - auc_1: 0.8035 - val_loss: 1.2396 - val_accuracy: 0.5337 - val_auc_1: 0.8052 - 228ms/epoch - 114ms/step\n",
      "Epoch 17/25\n",
      "2/2 - 0s - loss: 1.2063 - accuracy: 0.5702 - auc_1: 0.8033 - val_loss: 1.2364 - val_accuracy: 0.5337 - val_auc_1: 0.8050 - 298ms/epoch - 149ms/step\n",
      "Epoch 18/25\n",
      "2/2 - 0s - loss: 1.2042 - accuracy: 0.5702 - auc_1: 0.8021 - val_loss: 1.2337 - val_accuracy: 0.5337 - val_auc_1: 0.8050 - 297ms/epoch - 149ms/step\n",
      "Epoch 19/25\n",
      "2/2 - 0s - loss: 1.2022 - accuracy: 0.5702 - auc_1: 0.8027 - val_loss: 1.2313 - val_accuracy: 0.5337 - val_auc_1: 0.8049 - 230ms/epoch - 115ms/step\n",
      "Epoch 20/25\n",
      "2/2 - 0s - loss: 1.2006 - accuracy: 0.5702 - auc_1: 0.8028 - val_loss: 1.2293 - val_accuracy: 0.5337 - val_auc_1: 0.8049 - 275ms/epoch - 137ms/step\n",
      "Epoch 21/25\n",
      "2/2 - 0s - loss: 1.1992 - accuracy: 0.5702 - auc_1: 0.8027 - val_loss: 1.2276 - val_accuracy: 0.5337 - val_auc_1: 0.8050 - 257ms/epoch - 129ms/step\n",
      "Epoch 22/25\n",
      "2/2 - 0s - loss: 1.1981 - accuracy: 0.5702 - auc_1: 0.8023 - val_loss: 1.2262 - val_accuracy: 0.5337 - val_auc_1: 0.8050 - 252ms/epoch - 126ms/step\n",
      "Epoch 23/25\n",
      "2/2 - 0s - loss: 1.1971 - accuracy: 0.5702 - auc_1: 0.8026 - val_loss: 1.2251 - val_accuracy: 0.5337 - val_auc_1: 0.8051 - 243ms/epoch - 122ms/step\n",
      "Epoch 24/25\n",
      "2/2 - 0s - loss: 1.1962 - accuracy: 0.5702 - auc_1: 0.8025 - val_loss: 1.2242 - val_accuracy: 0.5337 - val_auc_1: 0.8050 - 240ms/epoch - 120ms/step\n",
      "Epoch 25/25\n",
      "2/2 - 0s - loss: 1.1954 - accuracy: 0.5702 - auc_1: 0.8027 - val_loss: 1.2234 - val_accuracy: 0.5337 - val_auc_1: 0.8021 - 380ms/epoch - 190ms/step\n"
     ]
    },
    {
     "data": {
      "image/png": "[encoded data removed]",
      "text/plain": [
       "<Figure size 432x288 with 1 Axes>"
      ]
     },
     "metadata": {
      "needs_background": "light"
     },
     "output_type": "display_data"
    },
    {
     "name": "stdout",
     "output_type": "stream",
     "text": [
      "Epoch 1/25\n",
      "2/2 - 3s - loss: 1.7293 - accuracy: 0.0871 - auc_2: 0.4085 - val_loss: 1.5179 - val_accuracy: 0.1742 - val_auc_2: 0.7004 - 3s/epoch - 2s/step\n",
      "Epoch 2/25\n",
      "2/2 - 0s - loss: 1.5036 - accuracy: 0.3230 - auc_2: 0.7316 - val_loss: 1.4200 - val_accuracy: 0.5787 - val_auc_2: 0.7985 - 292ms/epoch - 146ms/step\n",
      "Epoch 3/25\n",
      "2/2 - 0s - loss: 1.4199 - accuracy: 0.5478 - auc_2: 0.7821 - val_loss: 1.3122 - val_accuracy: 0.5787 - val_auc_2: 0.8025 - 247ms/epoch - 123ms/step\n",
      "Epoch 4/25\n",
      "2/2 - 0s - loss: 1.3252 - accuracy: 0.5478 - auc_2: 0.7927 - val_loss: 1.2731 - val_accuracy: 0.5787 - val_auc_2: 0.8016 - 355ms/epoch - 178ms/step\n",
      "Epoch 5/25\n",
      "2/2 - 0s - loss: 1.2927 - accuracy: 0.5478 - auc_2: 0.7867 - val_loss: 1.2433 - val_accuracy: 0.5787 - val_auc_2: 0.8014 - 296ms/epoch - 148ms/step\n",
      "Epoch 6/25\n",
      "2/2 - 0s - loss: 1.2668 - accuracy: 0.5478 - auc_2: 0.7888 - val_loss: 1.2224 - val_accuracy: 0.5787 - val_auc_2: 0.8016 - 228ms/epoch - 114ms/step\n",
      "Epoch 7/25\n",
      "2/2 - 0s - loss: 1.2480 - accuracy: 0.5478 - auc_2: 0.7929 - val_loss: 1.2075 - val_accuracy: 0.5787 - val_auc_2: 0.8016 - 236ms/epoch - 118ms/step\n",
      "Epoch 8/25\n",
      "2/2 - 0s - loss: 1.2361 - accuracy: 0.5478 - auc_2: 0.7899 - val_loss: 1.1970 - val_accuracy: 0.5787 - val_auc_2: 0.8016 - 344ms/epoch - 172ms/step\n",
      "Epoch 9/25\n",
      "2/2 - 0s - loss: 1.2277 - accuracy: 0.5478 - auc_2: 0.7880 - val_loss: 1.1896 - val_accuracy: 0.5787 - val_auc_2: 0.8051 - 277ms/epoch - 138ms/step\n",
      "Epoch 10/25\n",
      "2/2 - 0s - loss: 1.2206 - accuracy: 0.5478 - auc_2: 0.7950 - val_loss: 1.1843 - val_accuracy: 0.5787 - val_auc_2: 0.8051 - 226ms/epoch - 113ms/step\n",
      "Epoch 11/25\n",
      "2/2 - 0s - loss: 1.2156 - accuracy: 0.5478 - auc_2: 0.7957 - val_loss: 1.1803 - val_accuracy: 0.5787 - val_auc_2: 0.8051 - 287ms/epoch - 143ms/step\n",
      "Epoch 12/25\n",
      "2/2 - 0s - loss: 1.2118 - accuracy: 0.5478 - auc_2: 0.7950 - val_loss: 1.1773 - val_accuracy: 0.5787 - val_auc_2: 0.8051 - 309ms/epoch - 155ms/step\n",
      "Epoch 13/25\n",
      "2/2 - 0s - loss: 1.2086 - accuracy: 0.5478 - auc_2: 0.7964 - val_loss: 1.1751 - val_accuracy: 0.5787 - val_auc_2: 0.8086 - 297ms/epoch - 149ms/step\n",
      "Epoch 14/25\n",
      "2/2 - 0s - loss: 1.2060 - accuracy: 0.5478 - auc_2: 0.8013 - val_loss: 1.1733 - val_accuracy: 0.5787 - val_auc_2: 0.8086 - 226ms/epoch - 113ms/step\n",
      "Epoch 15/25\n",
      "2/2 - 0s - loss: 1.2036 - accuracy: 0.5478 - auc_2: 0.8004 - val_loss: 1.1721 - val_accuracy: 0.5787 - val_auc_2: 0.8086 - 231ms/epoch - 116ms/step\n",
      "Epoch 16/25\n",
      "2/2 - 0s - loss: 1.2018 - accuracy: 0.5478 - auc_2: 0.8013 - val_loss: 1.1711 - val_accuracy: 0.5787 - val_auc_2: 0.8086 - 234ms/epoch - 117ms/step\n",
      "Epoch 17/25\n",
      "2/2 - 0s - loss: 1.2001 - accuracy: 0.5478 - auc_2: 0.8013 - val_loss: 1.1704 - val_accuracy: 0.5787 - val_auc_2: 0.8086 - 287ms/epoch - 143ms/step\n",
      "Epoch 18/25\n",
      "2/2 - 0s - loss: 1.1988 - accuracy: 0.5478 - auc_2: 0.8012 - val_loss: 1.1698 - val_accuracy: 0.5787 - val_auc_2: 0.8086 - 369ms/epoch - 185ms/step\n",
      "Epoch 19/25\n",
      "2/2 - 0s - loss: 1.1976 - accuracy: 0.5478 - auc_2: 0.8020 - val_loss: 1.1694 - val_accuracy: 0.5787 - val_auc_2: 0.8086 - 374ms/epoch - 187ms/step\n",
      "Epoch 20/25\n",
      "2/2 - 0s - loss: 1.1964 - accuracy: 0.5478 - auc_2: 0.8020 - val_loss: 1.1691 - val_accuracy: 0.5787 - val_auc_2: 0.8086 - 367ms/epoch - 183ms/step\n",
      "Epoch 21/25\n",
      "2/2 - 0s - loss: 1.1956 - accuracy: 0.5478 - auc_2: 0.8029 - val_loss: 1.1689 - val_accuracy: 0.5787 - val_auc_2: 0.8086 - 313ms/epoch - 157ms/step\n",
      "Epoch 22/25\n",
      "2/2 - 0s - loss: 1.1948 - accuracy: 0.5478 - auc_2: 0.8013 - val_loss: 1.1688 - val_accuracy: 0.5787 - val_auc_2: 0.8086 - 236ms/epoch - 118ms/step\n",
      "Epoch 23/25\n",
      "2/2 - 0s - loss: 1.1942 - accuracy: 0.5478 - auc_2: 0.8013 - val_loss: 1.1687 - val_accuracy: 0.5787 - val_auc_2: 0.8086 - 241ms/epoch - 120ms/step\n",
      "Epoch 24/25\n",
      "2/2 - 0s - loss: 1.1937 - accuracy: 0.5478 - auc_2: 0.8020 - val_loss: 1.1686 - val_accuracy: 0.5787 - val_auc_2: 0.8086 - 219ms/epoch - 109ms/step\n",
      "Epoch 25/25\n",
      "2/2 - 0s - loss: 1.1932 - accuracy: 0.5478 - auc_2: 0.8020 - val_loss: 1.1685 - val_accuracy: 0.5787 - val_auc_2: 0.8086 - 238ms/epoch - 119ms/step\n"
     ]
    },
    {
     "data": {
      "image/png": "[encoded data removed]",
      "text/plain": [
       "<Figure size 432x288 with 1 Axes>"
      ]
     },
     "metadata": {
      "needs_background": "light"
     },
     "output_type": "display_data"
    },
    {
     "name": "stdout",
     "output_type": "stream",
     "text": [
      "Epoch 1/25\n",
      "2/2 - 2s - loss: 1.6558 - accuracy: 0.1826 - auc_3: 0.4832 - val_loss: 1.3646 - val_accuracy: 0.5618 - val_auc_3: 0.7956 - 2s/epoch - 1s/step\n",
      "Epoch 2/25\n",
      "2/2 - 0s - loss: 1.3378 - accuracy: 0.5562 - auc_3: 0.7941 - val_loss: 1.2732 - val_accuracy: 0.5618 - val_auc_3: 0.7648 - 257ms/epoch - 129ms/step\n",
      "Epoch 3/25\n",
      "2/2 - 0s - loss: 1.2599 - accuracy: 0.5562 - auc_3: 0.7784 - val_loss: 1.2460 - val_accuracy: 0.5618 - val_auc_3: 0.7963 - 240ms/epoch - 120ms/step\n",
      "Epoch 4/25\n",
      "2/2 - 0s - loss: 1.2362 - accuracy: 0.5562 - auc_3: 0.8071 - val_loss: 1.2288 - val_accuracy: 0.5618 - val_auc_3: 0.7963 - 241ms/epoch - 120ms/step\n",
      "Epoch 5/25\n",
      "2/2 - 0s - loss: 1.2190 - accuracy: 0.5562 - auc_3: 0.8106 - val_loss: 1.2176 - val_accuracy: 0.5618 - val_auc_3: 0.7957 - 241ms/epoch - 121ms/step\n",
      "Epoch 6/25\n",
      "2/2 - 0s - loss: 1.2088 - accuracy: 0.5562 - auc_3: 0.8054 - val_loss: 1.2089 - val_accuracy: 0.5618 - val_auc_3: 0.7963 - 259ms/epoch - 130ms/step\n",
      "Epoch 7/25\n",
      "2/2 - 0s - loss: 1.1994 - accuracy: 0.5562 - auc_3: 0.8073 - val_loss: 1.2027 - val_accuracy: 0.5618 - val_auc_3: 0.7963 - 249ms/epoch - 125ms/step\n",
      "Epoch 8/25\n",
      "2/2 - 0s - loss: 1.1914 - accuracy: 0.5562 - auc_3: 0.8077 - val_loss: 1.1981 - val_accuracy: 0.5618 - val_auc_3: 0.7963 - 227ms/epoch - 114ms/step\n",
      "Epoch 9/25\n",
      "2/2 - 0s - loss: 1.1858 - accuracy: 0.5562 - auc_3: 0.8076 - val_loss: 1.1948 - val_accuracy: 0.5618 - val_auc_3: 0.7963 - 251ms/epoch - 125ms/step\n",
      "Epoch 10/25\n",
      "2/2 - 0s - loss: 1.1810 - accuracy: 0.5562 - auc_3: 0.8091 - val_loss: 1.1928 - val_accuracy: 0.5618 - val_auc_3: 0.7963 - 300ms/epoch - 150ms/step\n",
      "Epoch 11/25\n",
      "2/2 - 0s - loss: 1.1784 - accuracy: 0.5562 - auc_3: 0.8080 - val_loss: 1.1917 - val_accuracy: 0.5618 - val_auc_3: 0.7963 - 285ms/epoch - 143ms/step\n",
      "Epoch 12/25\n",
      "2/2 - 0s - loss: 1.1760 - accuracy: 0.5562 - auc_3: 0.8092 - val_loss: 1.1913 - val_accuracy: 0.5618 - val_auc_3: 0.7963 - 281ms/epoch - 140ms/step\n",
      "Epoch 13/25\n",
      "2/2 - 0s - loss: 1.1747 - accuracy: 0.5562 - auc_3: 0.8065 - val_loss: 1.1910 - val_accuracy: 0.5618 - val_auc_3: 0.7963 - 406ms/epoch - 203ms/step\n",
      "Epoch 14/25\n",
      "2/2 - 0s - loss: 1.1738 - accuracy: 0.5562 - auc_3: 0.8073 - val_loss: 1.1907 - val_accuracy: 0.5618 - val_auc_3: 0.7967 - 346ms/epoch - 173ms/step\n",
      "Epoch 15/25\n",
      "2/2 - 0s - loss: 1.1704 - accuracy: 0.5562 - auc_3: 0.8118 - val_loss: 1.2025 - val_accuracy: 0.5618 - val_auc_3: 0.7963 - 312ms/epoch - 156ms/step\n",
      "Epoch 16/25\n",
      "2/2 - 0s - loss: 1.1799 - accuracy: 0.5562 - auc_3: 0.8076 - val_loss: 1.1922 - val_accuracy: 0.5618 - val_auc_3: 0.8067 - 322ms/epoch - 161ms/step\n"
     ]
    },
    {
     "data": {
      "image/png": "[encoded data removed]",
      "text/plain": [
       "<Figure size 432x288 with 1 Axes>"
      ]
     },
     "metadata": {
      "needs_background": "light"
     },
     "output_type": "display_data"
    }
   ],
   "source": [
    "kf = KFold(n_splits=3, shuffle=True, random_state=42)\n",
    "X = X_train.copy()\n",
    "y = y_train.copy()\n",
    "for train_index, val_index in kf.split(X):\n",
    "    X_train, X_val = X[train_index], X[val_index]\n",
    "    y_train, y_val = y.iloc[train_index], y.iloc[val_index]\n",
    "    model = get_CNN_model(n_features, n_outputs, n_length)\n",
    "    history = train(model, X_train, y_train, X_val, y_val, epochs=epochs, batch_size=batch_size)\n",
    "    plt.plot(history.history['loss'])\n",
    "    plt.show()"
   ]
  },
  {
   "cell_type": "markdown",
   "metadata": {},
   "source": [
    "#### Prediction on the holdout set"
   ]
  },
  {
   "cell_type": "code",
   "execution_count": 10,
   "metadata": {},
   "outputs": [
    {
     "name": "stdout",
     "output_type": "stream",
     "text": [
      "\n",
      "Accuracy: 50.617%\n",
      "\n",
      "AUC: 0.7933\n"
     ]
    }
   ],
   "source": [
    "loss, accuracy, auc = model.evaluate(X_test, y_test, batch_size=batch_size, verbose=0)\n",
    "score = accuracy * 100\n",
    "accuracies.append(round(score, 2))\n",
    "aucs.append(round(auc * 100, 2))\n",
    "print('\\nAccuracy: %.3f%%' % score)\n",
    "print('\\nAUC:', round(auc, 4))"
   ]
  },
  {
   "cell_type": "markdown",
   "metadata": {},
   "source": [
    "### 1.2 Pain area detection - Convolutional LSTM"
   ]
  },
  {
   "cell_type": "markdown",
   "metadata": {},
   "source": [
    "#### Dataset"
   ]
  },
  {
   "cell_type": "code",
   "execution_count": 11,
   "metadata": {},
   "outputs": [
    {
     "name": "stdout",
     "output_type": "stream",
     "text": [
      "(534, 1, 1, 350, 38) (534, 5)\n",
      "(81, 1, 1, 350, 38) (81, 5)\n"
     ]
    }
   ],
   "source": [
    "X_train, X_test, y_train, y_test = load_dataset('processed', 'pain_area', 'skeleton', 'convLSTM')\n",
    "\n",
    "print(X_train.shape, y_train.shape)\n",
    "print(X_test.shape, y_test.shape)"
   ]
  },
  {
   "cell_type": "markdown",
   "metadata": {},
   "source": [
    "#### Model"
   ]
  },
  {
   "cell_type": "code",
   "execution_count": 12,
   "metadata": {},
   "outputs": [],
   "source": [
    "n_timesteps, n_length, n_features, n_outputs = X_train.shape[1], X_train.shape[3], X_train.shape[-1], y_train.shape[1]"
   ]
  },
  {
   "cell_type": "code",
   "execution_count": 13,
   "metadata": {},
   "outputs": [],
   "source": [
    "def get_convLSTM_model(n_timesteps, n_features, n_outputs, n_length):\n",
    "    model = models.Sequential()\n",
    "    model.add(ConvLSTM2D(filters=64, kernel_size=(\n",
    "        1, 3), activation='relu', input_shape=(n_timesteps, 1, n_length, n_features)))\n",
    "    model.add(Flatten())\n",
    "    model.add(Dense(100, activation='relu'))\n",
    "    model.add(Dense(n_outputs, activation='softmax'))\n",
    "    lr_schedule = optimizers.schedules.ExponentialDecay(\n",
    "        initial_learning_rate=0.001,\n",
    "        decay_steps=50,\n",
    "        decay_rate=0.1)\n",
    "    optimizer = optimizers.Adam(learning_rate=lr_schedule)\n",
    "    model.compile(loss='categorical_crossentropy',\n",
    "        optimizer=optimizer, metrics=['accuracy', tf.keras.metrics.AUC()])\n",
    "    return model\n",
    "\n",
    "def train(model, X_train, y_train, X_val, y_val, epochs, batch_size):\n",
    "    early_stopping = tf.keras.callbacks.EarlyStopping(\n",
    "        monitor='val_loss', patience=2)\n",
    "    history = model.fit(X_train, y_train, validation_data=(X_val, y_val), epochs=epochs, callbacks=[early_stopping],\n",
    "        batch_size=batch_size, verbose=2)\n",
    "    return history"
   ]
  },
  {
   "cell_type": "code",
   "execution_count": 14,
   "metadata": {},
   "outputs": [
    {
     "name": "stdout",
     "output_type": "stream",
     "text": [
      "Model: \"sequential_4\"\n",
      "_________________________________________________________________\n",
      " Layer (type)                Output Shape              Param #   \n",
      "=================================================================\n",
      " conv_lstm2d (ConvLSTM2D)    (None, 1, 348, 64)        78592     \n",
      "                                                                 \n",
      " flatten_4 (Flatten)         (None, 22272)             0         \n",
      "                                                                 \n",
      " dense_8 (Dense)             (None, 100)               2227300   \n",
      "                                                                 \n",
      " dense_9 (Dense)             (None, 5)                 505       \n",
      "                                                                 \n",
      "=================================================================\n",
      "Total params: 2,306,397\n",
      "Trainable params: 2,306,397\n",
      "Non-trainable params: 0\n",
      "_________________________________________________________________\n"
     ]
    }
   ],
   "source": [
    "model = get_convLSTM_model(n_timesteps, n_features, n_outputs, n_length)\n",
    "model.summary()"
   ]
  },
  {
   "cell_type": "markdown",
   "metadata": {},
   "source": [
    "#### KFold CV"
   ]
  },
  {
   "cell_type": "code",
   "execution_count": 15,
   "metadata": {},
   "outputs": [
    {
     "name": "stdout",
     "output_type": "stream",
     "text": [
      "Epoch 1/25\n",
      "2/2 - 3s - loss: 183.0403 - accuracy: 0.3146 - auc_5: 0.5716 - val_loss: 357.1748 - val_accuracy: 0.0449 - val_auc_5: 0.3910 - 3s/epoch - 2s/step\n",
      "Epoch 2/25\n",
      "2/2 - 1s - loss: 267.5304 - accuracy: 0.0927 - auc_5: 0.4272 - val_loss: 138.8231 - val_accuracy: 0.5337 - val_auc_5: 0.7086 - 978ms/epoch - 489ms/step\n",
      "Epoch 3/25\n",
      "2/2 - 1s - loss: 115.6630 - accuracy: 0.5702 - auc_5: 0.7314 - val_loss: 75.2747 - val_accuracy: 0.5337 - val_auc_5: 0.7086 - 1s/epoch - 552ms/step\n",
      "Epoch 4/25\n",
      "2/2 - 1s - loss: 61.0463 - accuracy: 0.5393 - auc_5: 0.7150 - val_loss: 26.1519 - val_accuracy: 0.3933 - val_auc_5: 0.6251 - 1s/epoch - 654ms/step\n",
      "Epoch 5/25\n",
      "2/2 - 1s - loss: 22.5502 - accuracy: 0.4382 - auc_5: 0.6634 - val_loss: 9.9032 - val_accuracy: 0.4382 - val_auc_5: 0.6617 - 1s/epoch - 629ms/step\n",
      "Epoch 6/25\n",
      "2/2 - 1s - loss: 9.8221 - accuracy: 0.4354 - auc_5: 0.6696 - val_loss: 5.5403 - val_accuracy: 0.5112 - val_auc_5: 0.7185 - 1s/epoch - 564ms/step\n",
      "Epoch 7/25\n",
      "2/2 - 1s - loss: 5.3364 - accuracy: 0.4944 - auc_5: 0.7166 - val_loss: 4.3124 - val_accuracy: 0.2022 - val_auc_5: 0.5852 - 995ms/epoch - 498ms/step\n",
      "Epoch 8/25\n",
      "2/2 - 1s - loss: 3.4388 - accuracy: 0.3090 - auc_5: 0.6664 - val_loss: 3.3204 - val_accuracy: 0.3596 - val_auc_5: 0.6471 - 1s/epoch - 548ms/step\n",
      "Epoch 9/25\n",
      "2/2 - 1s - loss: 2.7254 - accuracy: 0.4494 - auc_5: 0.6971 - val_loss: 1.7858 - val_accuracy: 0.3764 - val_auc_5: 0.6925 - 791ms/epoch - 395ms/step\n",
      "Epoch 10/25\n",
      "2/2 - 1s - loss: 1.6553 - accuracy: 0.2584 - auc_5: 0.6964 - val_loss: 1.4454 - val_accuracy: 0.4775 - val_auc_5: 0.7525 - 855ms/epoch - 427ms/step\n",
      "Epoch 11/25\n",
      "2/2 - 1s - loss: 1.3452 - accuracy: 0.5365 - auc_5: 0.7972 - val_loss: 1.4388 - val_accuracy: 0.4944 - val_auc_5: 0.7809 - 1s/epoch - 593ms/step\n",
      "Epoch 12/25\n",
      "2/2 - 1s - loss: 1.3376 - accuracy: 0.5646 - auc_5: 0.8041 - val_loss: 1.3311 - val_accuracy: 0.4888 - val_auc_5: 0.7765 - 1s/epoch - 750ms/step\n",
      "Epoch 13/25\n",
      "2/2 - 1s - loss: 1.2473 - accuracy: 0.5506 - auc_5: 0.8086 - val_loss: 1.3226 - val_accuracy: 0.4663 - val_auc_5: 0.7666 - 1s/epoch - 628ms/step\n",
      "Epoch 14/25\n",
      "2/2 - 1s - loss: 1.2454 - accuracy: 0.5534 - auc_5: 0.8081 - val_loss: 1.2767 - val_accuracy: 0.4438 - val_auc_5: 0.7862 - 1s/epoch - 579ms/step\n",
      "Epoch 15/25\n",
      "2/2 - 1s - loss: 1.2393 - accuracy: 0.5590 - auc_5: 0.8128 - val_loss: 1.2652 - val_accuracy: 0.4663 - val_auc_5: 0.7889 - 843ms/epoch - 421ms/step\n",
      "Epoch 16/25\n",
      "2/2 - 1s - loss: 1.2461 - accuracy: 0.5421 - auc_5: 0.8046 - val_loss: 1.2666 - val_accuracy: 0.4831 - val_auc_5: 0.7910 - 749ms/epoch - 374ms/step\n",
      "Epoch 17/25\n",
      "2/2 - 1s - loss: 1.2429 - accuracy: 0.5365 - auc_5: 0.8039 - val_loss: 1.2761 - val_accuracy: 0.4888 - val_auc_5: 0.7898 - 882ms/epoch - 441ms/step\n"
     ]
    },
    {
     "data": {
      "image/png": "[encoded data removed]",
      "text/plain": [
       "<Figure size 432x288 with 1 Axes>"
      ]
     },
     "metadata": {
      "needs_background": "light"
     },
     "output_type": "display_data"
    },
    {
     "name": "stdout",
     "output_type": "stream",
     "text": [
      "Epoch 1/25\n",
      "2/2 - 4s - loss: 24.5632 - accuracy: 0.3427 - auc_6: 0.6091 - val_loss: 23.4895 - val_accuracy: 0.2247 - val_auc_6: 0.5099 - 4s/epoch - 2s/step\n",
      "Epoch 2/25\n",
      "2/2 - 1s - loss: 16.7199 - accuracy: 0.2584 - auc_6: 0.5513 - val_loss: 3.4708 - val_accuracy: 0.3315 - val_auc_6: 0.6184 - 873ms/epoch - 436ms/step\n",
      "Epoch 3/25\n",
      "2/2 - 1s - loss: 2.7453 - accuracy: 0.3596 - auc_6: 0.6122 - val_loss: 2.3757 - val_accuracy: 0.5674 - val_auc_6: 0.7227 - 1s/epoch - 567ms/step\n",
      "Epoch 4/25\n",
      "2/2 - 1s - loss: 1.6036 - accuracy: 0.5562 - auc_6: 0.7316 - val_loss: 1.8216 - val_accuracy: 0.5674 - val_auc_6: 0.7276 - 1s/epoch - 501ms/step\n",
      "Epoch 5/25\n",
      "2/2 - 1s - loss: 1.5717 - accuracy: 0.5646 - auc_6: 0.7389 - val_loss: 1.8557 - val_accuracy: 0.5674 - val_auc_6: 0.7229 - 919ms/epoch - 459ms/step\n",
      "Epoch 6/25\n",
      "2/2 - 1s - loss: 1.5236 - accuracy: 0.5702 - auc_6: 0.7482 - val_loss: 1.8877 - val_accuracy: 0.5674 - val_auc_6: 0.7209 - 819ms/epoch - 410ms/step\n"
     ]
    },
    {
     "data": {
      "image/png": "[encoded data removed]",
      "text/plain": [
       "<Figure size 432x288 with 1 Axes>"
      ]
     },
     "metadata": {
      "needs_background": "light"
     },
     "output_type": "display_data"
    },
    {
     "name": "stdout",
     "output_type": "stream",
     "text": [
      "Epoch 1/25\n",
      "2/2 - 3s - loss: 98.1238 - accuracy: 0.2219 - auc_7: 0.5135 - val_loss: 344.4907 - val_accuracy: 0.1854 - val_auc_7: 0.4956 - 3s/epoch - 2s/step\n",
      "Epoch 2/25\n",
      "2/2 - 1s - loss: 362.4948 - accuracy: 0.1966 - auc_7: 0.4965 - val_loss: 475.0177 - val_accuracy: 0.0730 - val_auc_7: 0.4206 - 920ms/epoch - 460ms/step\n",
      "Epoch 3/25\n",
      "2/2 - 1s - loss: 396.7061 - accuracy: 0.1994 - auc_7: 0.4996 - val_loss: 193.2589 - val_accuracy: 0.5618 - val_auc_7: 0.7261 - 1s/epoch - 624ms/step\n",
      "Epoch 4/25\n",
      "2/2 - 1s - loss: 183.6008 - accuracy: 0.5562 - auc_7: 0.7226 - val_loss: 138.7763 - val_accuracy: 0.5618 - val_auc_7: 0.7261 - 1s/epoch - 603ms/step\n",
      "Epoch 5/25\n",
      "2/2 - 1s - loss: 125.5604 - accuracy: 0.5562 - auc_7: 0.7226 - val_loss: 69.5349 - val_accuracy: 0.5112 - val_auc_7: 0.7166 - 1s/epoch - 596ms/step\n",
      "Epoch 6/25\n",
      "2/2 - 1s - loss: 65.4780 - accuracy: 0.4466 - auc_7: 0.6687 - val_loss: 54.5386 - val_accuracy: 0.1573 - val_auc_7: 0.4733 - 1s/epoch - 606ms/step\n",
      "Epoch 7/25\n",
      "2/2 - 1s - loss: 46.3840 - accuracy: 0.1966 - auc_7: 0.4973 - val_loss: 18.7112 - val_accuracy: 0.4157 - val_auc_7: 0.7014 - 1s/epoch - 532ms/step\n",
      "Epoch 8/25\n",
      "2/2 - 1s - loss: 16.2768 - accuracy: 0.4298 - auc_7: 0.7126 - val_loss: 13.2458 - val_accuracy: 0.5393 - val_auc_7: 0.7323 - 1s/epoch - 589ms/step\n",
      "Epoch 9/25\n",
      "2/2 - 1s - loss: 11.0396 - accuracy: 0.5393 - auc_7: 0.7552 - val_loss: 11.9807 - val_accuracy: 0.2640 - val_auc_7: 0.6360 - 801ms/epoch - 400ms/step\n",
      "Epoch 10/25\n",
      "2/2 - 1s - loss: 10.6510 - accuracy: 0.2612 - auc_7: 0.6414 - val_loss: 10.4689 - val_accuracy: 0.2472 - val_auc_7: 0.6209 - 755ms/epoch - 378ms/step\n",
      "Epoch 11/25\n",
      "2/2 - 1s - loss: 9.0467 - accuracy: 0.2697 - auc_7: 0.6510 - val_loss: 7.1877 - val_accuracy: 0.3652 - val_auc_7: 0.7066 - 843ms/epoch - 422ms/step\n",
      "Epoch 12/25\n",
      "2/2 - 1s - loss: 5.9947 - accuracy: 0.3820 - auc_7: 0.7299 - val_loss: 5.4713 - val_accuracy: 0.4101 - val_auc_7: 0.7372 - 823ms/epoch - 411ms/step\n",
      "Epoch 13/25\n",
      "2/2 - 1s - loss: 4.4479 - accuracy: 0.4607 - auc_7: 0.7639 - val_loss: 4.3588 - val_accuracy: 0.3933 - val_auc_7: 0.7424 - 828ms/epoch - 414ms/step\n",
      "Epoch 14/25\n",
      "2/2 - 1s - loss: 3.3929 - accuracy: 0.4747 - auc_7: 0.7659 - val_loss: 3.4986 - val_accuracy: 0.4551 - val_auc_7: 0.7374 - 869ms/epoch - 434ms/step\n",
      "Epoch 15/25\n",
      "2/2 - 1s - loss: 2.6093 - accuracy: 0.5056 - auc_7: 0.7600 - val_loss: 2.8728 - val_accuracy: 0.5393 - val_auc_7: 0.7410 - 790ms/epoch - 395ms/step\n",
      "Epoch 16/25\n",
      "2/2 - 1s - loss: 2.1231 - accuracy: 0.5393 - auc_7: 0.7575 - val_loss: 2.4808 - val_accuracy: 0.5112 - val_auc_7: 0.7357 - 939ms/epoch - 470ms/step\n",
      "Epoch 17/25\n",
      "2/2 - 1s - loss: 1.7853 - accuracy: 0.5534 - auc_7: 0.7557 - val_loss: 2.2107 - val_accuracy: 0.5337 - val_auc_7: 0.7313 - 1s/epoch - 541ms/step\n",
      "Epoch 18/25\n",
      "2/2 - 1s - loss: 1.6132 - accuracy: 0.5365 - auc_7: 0.7550 - val_loss: 2.0323 - val_accuracy: 0.5337 - val_auc_7: 0.7229 - 876ms/epoch - 438ms/step\n",
      "Epoch 19/25\n",
      "2/2 - 1s - loss: 1.5263 - accuracy: 0.5421 - auc_7: 0.7556 - val_loss: 1.9082 - val_accuracy: 0.5225 - val_auc_7: 0.7195 - 933ms/epoch - 466ms/step\n",
      "Epoch 20/25\n",
      "2/2 - 1s - loss: 1.4735 - accuracy: 0.5281 - auc_7: 0.7534 - val_loss: 1.8182 - val_accuracy: 0.5337 - val_auc_7: 0.7285 - 1s/epoch - 618ms/step\n",
      "Epoch 21/25\n",
      "2/2 - 1s - loss: 1.4550 - accuracy: 0.5365 - auc_7: 0.7456 - val_loss: 1.7703 - val_accuracy: 0.5393 - val_auc_7: 0.7245 - 1s/epoch - 555ms/step\n",
      "Epoch 22/25\n",
      "2/2 - 1s - loss: 1.4537 - accuracy: 0.5112 - auc_7: 0.7374 - val_loss: 1.7397 - val_accuracy: 0.5281 - val_auc_7: 0.7205 - 1s/epoch - 551ms/step\n",
      "Epoch 23/25\n",
      "2/2 - 1s - loss: 1.4486 - accuracy: 0.5225 - auc_7: 0.7323 - val_loss: 1.7207 - val_accuracy: 0.5112 - val_auc_7: 0.7213 - 1s/epoch - 573ms/step\n",
      "Epoch 24/25\n",
      "2/2 - 1s - loss: 1.4481 - accuracy: 0.5140 - auc_7: 0.7348 - val_loss: 1.7087 - val_accuracy: 0.5112 - val_auc_7: 0.7065 - 747ms/epoch - 374ms/step\n",
      "Epoch 25/25\n",
      "2/2 - 1s - loss: 1.4495 - accuracy: 0.5253 - auc_7: 0.7366 - val_loss: 1.6999 - val_accuracy: 0.5056 - val_auc_7: 0.7077 - 734ms/epoch - 367ms/step\n"
     ]
    },
    {
     "data": {
      "image/png": "[encoded data removed]",
      "text/plain": [
       "<Figure size 432x288 with 1 Axes>"
      ]
     },
     "metadata": {
      "needs_background": "light"
     },
     "output_type": "display_data"
    }
   ],
   "source": [
    "kf = KFold(n_splits=3, shuffle=True, random_state=42)\n",
    "X = X_train.copy()\n",
    "y = y_train.copy()\n",
    "for train_index, val_index in kf.split(X):\n",
    "    X_train, X_val = X[train_index], X[val_index]\n",
    "    y_train, y_val = y.iloc[train_index], y.iloc[val_index]\n",
    "    model = get_convLSTM_model(n_timesteps, n_features, n_outputs, n_length)\n",
    "    history = train(model, X_train, y_train, X_val, y_val, epochs=epochs, batch_size=batch_size)\n",
    "    plt.plot(history.history['loss'])\n",
    "    plt.show()"
   ]
  },
  {
   "cell_type": "markdown",
   "metadata": {},
   "source": [
    "#### Prediction on the holdout set"
   ]
  },
  {
   "cell_type": "code",
   "execution_count": 16,
   "metadata": {},
   "outputs": [
    {
     "name": "stdout",
     "output_type": "stream",
     "text": [
      "\n",
      "Accuracy: 49.383%\n",
      "\n",
      "AUC: 0.6915\n"
     ]
    }
   ],
   "source": [
    "loss, accuracy, auc = model.evaluate(X_test, y_test, batch_size=batch_size, verbose=0)\n",
    "score = accuracy * 100\n",
    "accuracies.append(round(score, 2))\n",
    "aucs.append(round(auc * 100, 2))\n",
    "print('\\nAccuracy: %.3f%%' % score)\n",
    "print('\\nAUC:', round(auc, 4))"
   ]
  },
  {
   "cell_type": "markdown",
   "metadata": {},
   "source": [
    "### 1.3 Pain level detection - CNN+LSTM"
   ]
  },
  {
   "cell_type": "markdown",
   "metadata": {},
   "source": [
    "#### Dataset"
   ]
  },
  {
   "cell_type": "code",
   "execution_count": 17,
   "metadata": {},
   "outputs": [
    {
     "name": "stdout",
     "output_type": "stream",
     "text": [
      "(534, 1, 350, 38) (534, 3)\n",
      "(81, 1, 350, 38) (81, 3)\n"
     ]
    }
   ],
   "source": [
    "X_train, X_test, y_train, y_test = load_dataset('processed', 'pain_level', 'skeleton', 'CNN')\n",
    "\n",
    "print(X_train.shape, y_train.shape)\n",
    "print(X_test.shape, y_test.shape)"
   ]
  },
  {
   "cell_type": "markdown",
   "metadata": {},
   "source": [
    "##### Pain classes"
   ]
  },
  {
   "cell_type": "code",
   "execution_count": 18,
   "metadata": {},
   "outputs": [
    {
     "data": {
      "text/plain": [
       "['Mild', 'Moderate', 'Severe']"
      ]
     },
     "execution_count": 18,
     "metadata": {},
     "output_type": "execute_result"
    }
   ],
   "source": [
    "y_train.columns.tolist()"
   ]
  },
  {
   "cell_type": "markdown",
   "metadata": {},
   "source": [
    "#### Model"
   ]
  },
  {
   "cell_type": "code",
   "execution_count": 19,
   "metadata": {},
   "outputs": [],
   "source": [
    "n_timesteps, n_length, n_features, n_outputs = X_train.shape[1], X_train.shape[2], X_train.shape[-1], y_train.shape[1]"
   ]
  },
  {
   "cell_type": "code",
   "execution_count": 20,
   "metadata": {},
   "outputs": [
    {
     "name": "stdout",
     "output_type": "stream",
     "text": [
      "Model: \"sequential_8\"\n",
      "_________________________________________________________________\n",
      " Layer (type)                Output Shape              Param #   \n",
      "=================================================================\n",
      " time_distributed_12 (TimeDi  (None, None, 348, 64)    7360      \n",
      " stributed)                                                      \n",
      "                                                                 \n",
      " time_distributed_13 (TimeDi  (None, None, 348, 32)    0         \n",
      " stributed)                                                      \n",
      "                                                                 \n",
      " time_distributed_14 (TimeDi  (None, None, 11136)      0         \n",
      " stributed)                                                      \n",
      "                                                                 \n",
      " lstm_4 (LSTM)               (None, 100)               4494800   \n",
      "                                                                 \n",
      " dense_16 (Dense)            (None, 100)               10100     \n",
      "                                                                 \n",
      " dense_17 (Dense)            (None, 3)                 303       \n",
      "                                                                 \n",
      "=================================================================\n",
      "Total params: 4,512,563\n",
      "Trainable params: 4,512,563\n",
      "Non-trainable params: 0\n",
      "_________________________________________________________________\n"
     ]
    }
   ],
   "source": [
    "model = get_CNN_model(n_features, n_outputs, n_length)\n",
    "model.summary()"
   ]
  },
  {
   "cell_type": "markdown",
   "metadata": {},
   "source": [
    "#### KFold CV"
   ]
  },
  {
   "cell_type": "code",
   "execution_count": 21,
   "metadata": {},
   "outputs": [
    {
     "name": "stdout",
     "output_type": "stream",
     "text": [
      "Epoch 1/25\n",
      "2/2 - 2s - loss: 1.1502 - accuracy: 0.3202 - auc_9: 0.4950 - val_loss: 0.8648 - val_accuracy: 0.6629 - val_auc_9: 0.8190 - 2s/epoch - 1s/step\n",
      "Epoch 2/25\n",
      "2/2 - 0s - loss: 0.8402 - accuracy: 0.6320 - auc_9: 0.8063 - val_loss: 0.8062 - val_accuracy: 0.6629 - val_auc_9: 0.8174 - 379ms/epoch - 190ms/step\n",
      "Epoch 3/25\n",
      "2/2 - 0s - loss: 0.7885 - accuracy: 0.6320 - auc_9: 0.8199 - val_loss: 0.7739 - val_accuracy: 0.6629 - val_auc_9: 0.8156 - 242ms/epoch - 121ms/step\n",
      "Epoch 4/25\n",
      "2/2 - 0s - loss: 0.7644 - accuracy: 0.6320 - auc_9: 0.8164 - val_loss: 0.7522 - val_accuracy: 0.6629 - val_auc_9: 0.8174 - 391ms/epoch - 196ms/step\n",
      "Epoch 5/25\n",
      "2/2 - 0s - loss: 0.7565 - accuracy: 0.6320 - auc_9: 0.8143 - val_loss: 0.7479 - val_accuracy: 0.6629 - val_auc_9: 0.8174 - 234ms/epoch - 117ms/step\n",
      "Epoch 6/25\n",
      "2/2 - 0s - loss: 0.7551 - accuracy: 0.6320 - auc_9: 0.8099 - val_loss: 0.7440 - val_accuracy: 0.6629 - val_auc_9: 0.8174 - 247ms/epoch - 124ms/step\n",
      "Epoch 7/25\n",
      "2/2 - 0s - loss: 0.7468 - accuracy: 0.6320 - auc_9: 0.8110 - val_loss: 0.7407 - val_accuracy: 0.6629 - val_auc_9: 0.8174 - 274ms/epoch - 137ms/step\n",
      "Epoch 8/25\n",
      "2/2 - 0s - loss: 0.7406 - accuracy: 0.6320 - auc_9: 0.7972 - val_loss: 0.7387 - val_accuracy: 0.6629 - val_auc_9: 0.8174 - 242ms/epoch - 121ms/step\n",
      "Epoch 9/25\n",
      "2/2 - 0s - loss: 0.7344 - accuracy: 0.6320 - auc_9: 0.8075 - val_loss: 0.7379 - val_accuracy: 0.6629 - val_auc_9: 0.8174 - 258ms/epoch - 129ms/step\n",
      "Epoch 10/25\n",
      "2/2 - 0s - loss: 0.7307 - accuracy: 0.6320 - auc_9: 0.8004 - val_loss: 0.7385 - val_accuracy: 0.6629 - val_auc_9: 0.8174 - 315ms/epoch - 157ms/step\n",
      "Epoch 11/25\n",
      "2/2 - 0s - loss: 0.7266 - accuracy: 0.6320 - auc_9: 0.8056 - val_loss: 0.7392 - val_accuracy: 0.6629 - val_auc_9: 0.8174 - 322ms/epoch - 161ms/step\n"
     ]
    },
    {
     "data": {
      "image/png": "[encoded data removed]",
      "text/plain": [
       "<Figure size 432x288 with 1 Axes>"
      ]
     },
     "metadata": {
      "needs_background": "light"
     },
     "output_type": "display_data"
    },
    {
     "name": "stdout",
     "output_type": "stream",
     "text": [
      "Epoch 1/25\n",
      "2/2 - 3s - loss: 1.0852 - accuracy: 0.3315 - auc_10: 0.6339 - val_loss: 0.9685 - val_accuracy: 0.3652 - val_auc_10: 0.6834 - 3s/epoch - 2s/step\n",
      "Epoch 2/25\n",
      "2/2 - 0s - loss: 0.9755 - accuracy: 0.4242 - auc_10: 0.6675 - val_loss: 0.9187 - val_accuracy: 0.6348 - val_auc_10: 0.8123 - 250ms/epoch - 125ms/step\n",
      "Epoch 3/25\n",
      "2/2 - 0s - loss: 0.9195 - accuracy: 0.6489 - auc_10: 0.8186 - val_loss: 0.8735 - val_accuracy: 0.6292 - val_auc_10: 0.8118 - 230ms/epoch - 115ms/step\n",
      "Epoch 4/25\n",
      "2/2 - 0s - loss: 0.8736 - accuracy: 0.6489 - auc_10: 0.8288 - val_loss: 0.8406 - val_accuracy: 0.6292 - val_auc_10: 0.8127 - 312ms/epoch - 156ms/step\n",
      "Epoch 5/25\n",
      "2/2 - 0s - loss: 0.8431 - accuracy: 0.6489 - auc_10: 0.8135 - val_loss: 0.8033 - val_accuracy: 0.6292 - val_auc_10: 0.8118 - 256ms/epoch - 128ms/step\n",
      "Epoch 6/25\n",
      "2/2 - 0s - loss: 0.8092 - accuracy: 0.6489 - auc_10: 0.8106 - val_loss: 0.7864 - val_accuracy: 0.6292 - val_auc_10: 0.8118 - 227ms/epoch - 114ms/step\n",
      "Epoch 7/25\n",
      "2/2 - 0s - loss: 0.7928 - accuracy: 0.6489 - auc_10: 0.8091 - val_loss: 0.7744 - val_accuracy: 0.6292 - val_auc_10: 0.8118 - 336ms/epoch - 168ms/step\n",
      "Epoch 8/25\n",
      "2/2 - 0s - loss: 0.7804 - accuracy: 0.6489 - auc_10: 0.8172 - val_loss: 0.7654 - val_accuracy: 0.6292 - val_auc_10: 0.8118 - 296ms/epoch - 148ms/step\n",
      "Epoch 9/25\n",
      "2/2 - 0s - loss: 0.7736 - accuracy: 0.6489 - auc_10: 0.8049 - val_loss: 0.7587 - val_accuracy: 0.6292 - val_auc_10: 0.8118 - 272ms/epoch - 136ms/step\n",
      "Epoch 10/25\n",
      "2/2 - 0s - loss: 0.7673 - accuracy: 0.6489 - auc_10: 0.8165 - val_loss: 0.7531 - val_accuracy: 0.6292 - val_auc_10: 0.8118 - 351ms/epoch - 175ms/step\n",
      "Epoch 11/25\n",
      "2/2 - 0s - loss: 0.7635 - accuracy: 0.6489 - auc_10: 0.8118 - val_loss: 0.7486 - val_accuracy: 0.6292 - val_auc_10: 0.8118 - 229ms/epoch - 115ms/step\n",
      "Epoch 12/25\n",
      "2/2 - 0s - loss: 0.7599 - accuracy: 0.6489 - auc_10: 0.8118 - val_loss: 0.7447 - val_accuracy: 0.6292 - val_auc_10: 0.8118 - 233ms/epoch - 117ms/step\n",
      "Epoch 13/25\n",
      "2/2 - 0s - loss: 0.7573 - accuracy: 0.6489 - auc_10: 0.8118 - val_loss: 0.7409 - val_accuracy: 0.6292 - val_auc_10: 0.8118 - 294ms/epoch - 147ms/step\n",
      "Epoch 14/25\n",
      "2/2 - 0s - loss: 0.7548 - accuracy: 0.6489 - auc_10: 0.8129 - val_loss: 0.7374 - val_accuracy: 0.6292 - val_auc_10: 0.8118 - 301ms/epoch - 151ms/step\n",
      "Epoch 15/25\n",
      "2/2 - 0s - loss: 0.7528 - accuracy: 0.6489 - auc_10: 0.8163 - val_loss: 0.7343 - val_accuracy: 0.6292 - val_auc_10: 0.8118 - 246ms/epoch - 123ms/step\n",
      "Epoch 16/25\n",
      "2/2 - 0s - loss: 0.7513 - accuracy: 0.6489 - auc_10: 0.8071 - val_loss: 0.7316 - val_accuracy: 0.6292 - val_auc_10: 0.8118 - 317ms/epoch - 159ms/step\n",
      "Epoch 17/25\n",
      "2/2 - 0s - loss: 0.7500 - accuracy: 0.6489 - auc_10: 0.8118 - val_loss: 0.7293 - val_accuracy: 0.6292 - val_auc_10: 0.8118 - 297ms/epoch - 148ms/step\n",
      "Epoch 18/25\n",
      "2/2 - 0s - loss: 0.7487 - accuracy: 0.6489 - auc_10: 0.8118 - val_loss: 0.7276 - val_accuracy: 0.6292 - val_auc_10: 0.8118 - 366ms/epoch - 183ms/step\n",
      "Epoch 19/25\n",
      "2/2 - 0s - loss: 0.7478 - accuracy: 0.6489 - auc_10: 0.8068 - val_loss: 0.7261 - val_accuracy: 0.6292 - val_auc_10: 0.8118 - 268ms/epoch - 134ms/step\n",
      "Epoch 20/25\n",
      "2/2 - 0s - loss: 0.7471 - accuracy: 0.6489 - auc_10: 0.8115 - val_loss: 0.7249 - val_accuracy: 0.6292 - val_auc_10: 0.8118 - 232ms/epoch - 116ms/step\n",
      "Epoch 21/25\n",
      "2/2 - 0s - loss: 0.7465 - accuracy: 0.6489 - auc_10: 0.8118 - val_loss: 0.7238 - val_accuracy: 0.6292 - val_auc_10: 0.8118 - 238ms/epoch - 119ms/step\n",
      "Epoch 22/25\n",
      "2/2 - 0s - loss: 0.7461 - accuracy: 0.6489 - auc_10: 0.8118 - val_loss: 0.7229 - val_accuracy: 0.6292 - val_auc_10: 0.8118 - 262ms/epoch - 131ms/step\n",
      "Epoch 23/25\n",
      "2/2 - 0s - loss: 0.7456 - accuracy: 0.6489 - auc_10: 0.8118 - val_loss: 0.7220 - val_accuracy: 0.6292 - val_auc_10: 0.8118 - 224ms/epoch - 112ms/step\n",
      "Epoch 24/25\n",
      "2/2 - 0s - loss: 0.7453 - accuracy: 0.6489 - auc_10: 0.8118 - val_loss: 0.7213 - val_accuracy: 0.6292 - val_auc_10: 0.8118 - 225ms/epoch - 112ms/step\n",
      "Epoch 25/25\n",
      "2/2 - 0s - loss: 0.7450 - accuracy: 0.6489 - auc_10: 0.8118 - val_loss: 0.7207 - val_accuracy: 0.6292 - val_auc_10: 0.8118 - 231ms/epoch - 116ms/step\n"
     ]
    },
    {
     "data": {
      "image/png": "[encoded data removed]",
      "text/plain": [
       "<Figure size 432x288 with 1 Axes>"
      ]
     },
     "metadata": {
      "needs_background": "light"
     },
     "output_type": "display_data"
    },
    {
     "name": "stdout",
     "output_type": "stream",
     "text": [
      "Epoch 1/25\n",
      "2/2 - 2s - loss: 1.0580 - accuracy: 0.4719 - auc_11: 0.6085 - val_loss: 0.8177 - val_accuracy: 0.6348 - val_auc_11: 0.8059 - 2s/epoch - 1s/step\n",
      "Epoch 2/25\n",
      "2/2 - 0s - loss: 0.8050 - accuracy: 0.6461 - auc_11: 0.8113 - val_loss: 0.7897 - val_accuracy: 0.6348 - val_auc_11: 0.8062 - 249ms/epoch - 124ms/step\n",
      "Epoch 3/25\n",
      "2/2 - 0s - loss: 0.7724 - accuracy: 0.6461 - auc_11: 0.8147 - val_loss: 0.7714 - val_accuracy: 0.6348 - val_auc_11: 0.8071 - 306ms/epoch - 153ms/step\n",
      "Epoch 4/25\n",
      "2/2 - 0s - loss: 0.7534 - accuracy: 0.6461 - auc_11: 0.8156 - val_loss: 0.7594 - val_accuracy: 0.6348 - val_auc_11: 0.8057 - 231ms/epoch - 116ms/step\n",
      "Epoch 5/25\n",
      "2/2 - 0s - loss: 0.7408 - accuracy: 0.6461 - auc_11: 0.8160 - val_loss: 0.7525 - val_accuracy: 0.6348 - val_auc_11: 0.8037 - 231ms/epoch - 115ms/step\n",
      "Epoch 6/25\n",
      "2/2 - 0s - loss: 0.7333 - accuracy: 0.6461 - auc_11: 0.8175 - val_loss: 0.7474 - val_accuracy: 0.6348 - val_auc_11: 0.8057 - 227ms/epoch - 113ms/step\n",
      "Epoch 7/25\n",
      "2/2 - 0s - loss: 0.7284 - accuracy: 0.6461 - auc_11: 0.8148 - val_loss: 0.7447 - val_accuracy: 0.6348 - val_auc_11: 0.8057 - 230ms/epoch - 115ms/step\n",
      "Epoch 8/25\n",
      "2/2 - 0s - loss: 0.7255 - accuracy: 0.6461 - auc_11: 0.8146 - val_loss: 0.7430 - val_accuracy: 0.6348 - val_auc_11: 0.8062 - 244ms/epoch - 122ms/step\n",
      "Epoch 9/25\n",
      "2/2 - 0s - loss: 0.7229 - accuracy: 0.6461 - auc_11: 0.8170 - val_loss: 0.7420 - val_accuracy: 0.6348 - val_auc_11: 0.8062 - 238ms/epoch - 119ms/step\n",
      "Epoch 10/25\n",
      "2/2 - 0s - loss: 0.7214 - accuracy: 0.6461 - auc_11: 0.8138 - val_loss: 0.7416 - val_accuracy: 0.6348 - val_auc_11: 0.8062 - 241ms/epoch - 121ms/step\n",
      "Epoch 11/25\n",
      "2/2 - 0s - loss: 0.7201 - accuracy: 0.6461 - auc_11: 0.8170 - val_loss: 0.7417 - val_accuracy: 0.6348 - val_auc_11: 0.8062 - 227ms/epoch - 113ms/step\n",
      "Epoch 12/25\n",
      "2/2 - 0s - loss: 0.7203 - accuracy: 0.6461 - auc_11: 0.8092 - val_loss: 0.7421 - val_accuracy: 0.6348 - val_auc_11: 0.8062 - 232ms/epoch - 116ms/step\n"
     ]
    },
    {
     "data": {
      "image/png": "[encoded data removed]",
      "text/plain": [
       "<Figure size 432x288 with 1 Axes>"
      ]
     },
     "metadata": {
      "needs_background": "light"
     },
     "output_type": "display_data"
    }
   ],
   "source": [
    "kf = KFold(n_splits=3, shuffle=True, random_state=42)\n",
    "X = X_train.copy()\n",
    "y = y_train.copy()\n",
    "for train_index, val_index in kf.split(X):\n",
    "    X_train, X_val = X[train_index], X[val_index]\n",
    "    y_train, y_val = y.iloc[train_index], y.iloc[val_index]\n",
    "    model = get_CNN_model(n_features, n_outputs, n_length)\n",
    "    history = train(model, X_train, y_train, X_val, y_val, epochs=epochs, batch_size=batch_size)\n",
    "    plt.plot(history.history['loss'])\n",
    "    plt.show()"
   ]
  },
  {
   "cell_type": "markdown",
   "metadata": {},
   "source": [
    "#### Prediction on the holdout set"
   ]
  },
  {
   "cell_type": "code",
   "execution_count": 22,
   "metadata": {},
   "outputs": [
    {
     "name": "stdout",
     "output_type": "stream",
     "text": [
      "\n",
      "Accuracy: 77.778%\n",
      "\n",
      "AUC: 0.8704\n"
     ]
    }
   ],
   "source": [
    "loss, accuracy, auc = model.evaluate(X_test, y_test, batch_size=batch_size, verbose=0)\n",
    "score = accuracy * 100\n",
    "accuracies.append(round(score, 2))\n",
    "aucs.append(round(auc * 100, 2))\n",
    "print('\\nAccuracy: %.3f%%' % score)\n",
    "print('\\nAUC:', round(auc, 4))"
   ]
  },
  {
   "cell_type": "markdown",
   "metadata": {},
   "source": [
    "### 1.4 Pain level detection - Convolutional LSTM"
   ]
  },
  {
   "cell_type": "markdown",
   "metadata": {},
   "source": [
    "#### Dataset"
   ]
  },
  {
   "cell_type": "code",
   "execution_count": 23,
   "metadata": {},
   "outputs": [
    {
     "name": "stdout",
     "output_type": "stream",
     "text": [
      "(534, 1, 1, 350, 38) (534, 3)\n",
      "(81, 1, 1, 350, 38) (81, 3)\n"
     ]
    }
   ],
   "source": [
    "X_train, X_test, y_train, y_test = load_dataset('processed', 'pain_level', 'skeleton', 'convLSTM')\n",
    "\n",
    "print(X_train.shape, y_train.shape)\n",
    "print(X_test.shape, y_test.shape)"
   ]
  },
  {
   "cell_type": "markdown",
   "metadata": {},
   "source": [
    "#### Model"
   ]
  },
  {
   "cell_type": "code",
   "execution_count": 24,
   "metadata": {},
   "outputs": [],
   "source": [
    "n_timesteps, n_length, n_features, n_outputs = X_train.shape[1], X_train.shape[3], X_train.shape[-1], y_train.shape[1]"
   ]
  },
  {
   "cell_type": "code",
   "execution_count": 25,
   "metadata": {},
   "outputs": [
    {
     "name": "stdout",
     "output_type": "stream",
     "text": [
      "Model: \"sequential_12\"\n",
      "_________________________________________________________________\n",
      " Layer (type)                Output Shape              Param #   \n",
      "=================================================================\n",
      " conv_lstm2d_4 (ConvLSTM2D)  (None, 1, 348, 64)        78592     \n",
      "                                                                 \n",
      " flatten_12 (Flatten)        (None, 22272)             0         \n",
      "                                                                 \n",
      " dense_24 (Dense)            (None, 100)               2227300   \n",
      "                                                                 \n",
      " dense_25 (Dense)            (None, 3)                 303       \n",
      "                                                                 \n",
      "=================================================================\n",
      "Total params: 2,306,195\n",
      "Trainable params: 2,306,195\n",
      "Non-trainable params: 0\n",
      "_________________________________________________________________\n"
     ]
    }
   ],
   "source": [
    "model = get_convLSTM_model(n_timesteps, n_features, n_outputs, n_length)\n",
    "model.summary()"
   ]
  },
  {
   "cell_type": "markdown",
   "metadata": {},
   "source": [
    "#### KFold CV"
   ]
  },
  {
   "cell_type": "code",
   "execution_count": 26,
   "metadata": {},
   "outputs": [
    {
     "name": "stdout",
     "output_type": "stream",
     "text": [
      "Epoch 1/25\n",
      "2/2 - 3s - loss: 119.5187 - accuracy: 0.5421 - auc_13: 0.6566 - val_loss: 93.7481 - val_accuracy: 0.3034 - val_auc_13: 0.4735 - 3s/epoch - 2s/step\n",
      "Epoch 2/25\n",
      "2/2 - 1s - loss: 81.8505 - accuracy: 0.2781 - auc_13: 0.4530 - val_loss: 4.1727 - val_accuracy: 0.2809 - val_auc_13: 0.5076 - 812ms/epoch - 406ms/step\n",
      "Epoch 3/25\n",
      "2/2 - 1s - loss: 4.2157 - accuracy: 0.3034 - auc_13: 0.4614 - val_loss: 1.2384 - val_accuracy: 0.6404 - val_auc_13: 0.5232 - 802ms/epoch - 401ms/step\n",
      "Epoch 4/25\n",
      "2/2 - 1s - loss: 1.3548 - accuracy: 0.6208 - auc_13: 0.5183 - val_loss: 1.0887 - val_accuracy: 0.6517 - val_auc_13: 0.5111 - 799ms/epoch - 400ms/step\n",
      "Epoch 5/25\n",
      "2/2 - 1s - loss: 1.0960 - accuracy: 0.6320 - auc_13: 0.5125 - val_loss: 1.0876 - val_accuracy: 0.6573 - val_auc_13: 0.5084 - 809ms/epoch - 405ms/step\n",
      "Epoch 6/25\n",
      "2/2 - 1s - loss: 1.0905 - accuracy: 0.6264 - auc_13: 0.5745 - val_loss: 1.0865 - val_accuracy: 0.6573 - val_auc_13: 0.8167 - 1s/epoch - 609ms/step\n",
      "Epoch 7/25\n",
      "2/2 - 1s - loss: 1.0891 - accuracy: 0.6320 - auc_13: 0.7847 - val_loss: 1.0851 - val_accuracy: 0.6573 - val_auc_13: 0.7472 - 975ms/epoch - 488ms/step\n",
      "Epoch 8/25\n",
      "2/2 - 1s - loss: 1.0878 - accuracy: 0.6348 - auc_13: 0.7279 - val_loss: 1.0840 - val_accuracy: 0.6629 - val_auc_13: 0.7473 - 931ms/epoch - 466ms/step\n",
      "Epoch 9/25\n",
      "2/2 - 1s - loss: 1.0870 - accuracy: 0.6348 - auc_13: 0.7277 - val_loss: 1.0831 - val_accuracy: 0.6629 - val_auc_13: 0.7472 - 1s/epoch - 571ms/step\n",
      "Epoch 10/25\n",
      "2/2 - 1s - loss: 1.0856 - accuracy: 0.6348 - auc_13: 0.7277 - val_loss: 1.0819 - val_accuracy: 0.6629 - val_auc_13: 0.7473 - 1s/epoch - 603ms/step\n",
      "Epoch 11/25\n",
      "2/2 - 1s - loss: 1.0844 - accuracy: 0.6348 - auc_13: 0.7277 - val_loss: 1.0810 - val_accuracy: 0.6629 - val_auc_13: 0.7473 - 1s/epoch - 593ms/step\n",
      "Epoch 12/25\n",
      "2/2 - 1s - loss: 1.0831 - accuracy: 0.6348 - auc_13: 0.7277 - val_loss: 1.0798 - val_accuracy: 0.6629 - val_auc_13: 0.7473 - 962ms/epoch - 481ms/step\n",
      "Epoch 13/25\n",
      "2/2 - 1s - loss: 1.0835 - accuracy: 0.6320 - auc_13: 0.7263 - val_loss: 1.0801 - val_accuracy: 0.6573 - val_auc_13: 0.7440 - 912ms/epoch - 456ms/step\n",
      "Epoch 14/25\n",
      "2/2 - 1s - loss: 1.0809 - accuracy: 0.6348 - auc_13: 0.7277 - val_loss: 1.0802 - val_accuracy: 0.6573 - val_auc_13: 0.7417 - 805ms/epoch - 403ms/step\n"
     ]
    },
    {
     "data": {
      "image/png": "[encoded data removed]",
      "text/plain": [
       "<Figure size 432x288 with 1 Axes>"
      ]
     },
     "metadata": {
      "needs_background": "light"
     },
     "output_type": "display_data"
    },
    {
     "name": "stdout",
     "output_type": "stream",
     "text": [
      "Epoch 1/25\n",
      "2/2 - 2s - loss: 332.3224 - accuracy: 0.3820 - auc_14: 0.5365 - val_loss: 612.0973 - val_accuracy: 0.6292 - val_auc_14: 0.7219 - 2s/epoch - 1s/step\n",
      "Epoch 2/25\n",
      "2/2 - 1s - loss: 475.0893 - accuracy: 0.5674 - auc_14: 0.6863 - val_loss: 167.5811 - val_accuracy: 0.6292 - val_auc_14: 0.7219 - 812ms/epoch - 406ms/step\n",
      "Epoch 3/25\n",
      "2/2 - 1s - loss: 122.4089 - accuracy: 0.6461 - auc_14: 0.7362 - val_loss: 88.5714 - val_accuracy: 0.3652 - val_auc_14: 0.5239 - 989ms/epoch - 495ms/step\n",
      "Epoch 4/25\n",
      "2/2 - 1s - loss: 99.8966 - accuracy: 0.3258 - auc_14: 0.4944 - val_loss: 66.3154 - val_accuracy: 0.3652 - val_auc_14: 0.5239 - 872ms/epoch - 436ms/step\n",
      "Epoch 5/25\n",
      "2/2 - 1s - loss: 67.0857 - accuracy: 0.3258 - auc_14: 0.4944 - val_loss: 6.9248 - val_accuracy: 0.6236 - val_auc_14: 0.7373 - 777ms/epoch - 389ms/step\n",
      "Epoch 6/25\n",
      "2/2 - 1s - loss: 19.6936 - accuracy: 0.6489 - auc_14: 0.7426 - val_loss: 26.8140 - val_accuracy: 0.6292 - val_auc_14: 0.7219 - 723ms/epoch - 361ms/step\n",
      "Epoch 7/25\n",
      "2/2 - 1s - loss: 36.4377 - accuracy: 0.6489 - auc_14: 0.7367 - val_loss: 28.9535 - val_accuracy: 0.6292 - val_auc_14: 0.7219 - 918ms/epoch - 459ms/step\n"
     ]
    },
    {
     "data": {
      "image/png": "[encoded data removed]",
      "text/plain": [
       "<Figure size 432x288 with 1 Axes>"
      ]
     },
     "metadata": {
      "needs_background": "light"
     },
     "output_type": "display_data"
    },
    {
     "name": "stdout",
     "output_type": "stream",
     "text": [
      "Epoch 1/25\n",
      "2/2 - 3s - loss: 128.8842 - accuracy: 0.1208 - auc_15: 0.3406 - val_loss: 266.4784 - val_accuracy: 0.6348 - val_auc_15: 0.7261 - 3s/epoch - 2s/step\n",
      "Epoch 2/25\n",
      "2/2 - 1s - loss: 241.3210 - accuracy: 0.6461 - auc_15: 0.7346 - val_loss: 138.9606 - val_accuracy: 0.6348 - val_auc_15: 0.7261 - 891ms/epoch - 445ms/step\n",
      "Epoch 3/25\n",
      "2/2 - 1s - loss: 115.9408 - accuracy: 0.6461 - auc_15: 0.7346 - val_loss: 38.6149 - val_accuracy: 0.5562 - val_auc_15: 0.6731 - 773ms/epoch - 387ms/step\n",
      "Epoch 4/25\n",
      "2/2 - 1s - loss: 33.5518 - accuracy: 0.5506 - auc_15: 0.6641 - val_loss: 33.8356 - val_accuracy: 0.3427 - val_auc_15: 0.5126 - 854ms/epoch - 427ms/step\n",
      "Epoch 5/25\n",
      "2/2 - 1s - loss: 24.9914 - accuracy: 0.3399 - auc_15: 0.5260 - val_loss: 6.8344 - val_accuracy: 0.3708 - val_auc_15: 0.5747 - 765ms/epoch - 382ms/step\n",
      "Epoch 6/25\n",
      "2/2 - 1s - loss: 3.9805 - accuracy: 0.4382 - auc_15: 0.6139 - val_loss: 3.7510 - val_accuracy: 0.5843 - val_auc_15: 0.7172 - 738ms/epoch - 369ms/step\n",
      "Epoch 7/25\n",
      "2/2 - 1s - loss: 1.5262 - accuracy: 0.6292 - auc_15: 0.7321 - val_loss: 2.1582 - val_accuracy: 0.6236 - val_auc_15: 0.7173 - 737ms/epoch - 369ms/step\n",
      "Epoch 8/25\n",
      "2/2 - 1s - loss: 1.1792 - accuracy: 0.6376 - auc_15: 0.7471 - val_loss: 1.3750 - val_accuracy: 0.6461 - val_auc_15: 0.8107 - 784ms/epoch - 392ms/step\n",
      "Epoch 9/25\n",
      "2/2 - 1s - loss: 1.1966 - accuracy: 0.6433 - auc_15: 0.8083 - val_loss: 1.0511 - val_accuracy: 0.6517 - val_auc_15: 0.8163 - 789ms/epoch - 394ms/step\n",
      "Epoch 10/25\n",
      "2/2 - 1s - loss: 1.1769 - accuracy: 0.6433 - auc_15: 0.8095 - val_loss: 1.2209 - val_accuracy: 0.6404 - val_auc_15: 0.8020 - 1s/epoch - 575ms/step\n",
      "Epoch 11/25\n",
      "2/2 - 1s - loss: 1.2066 - accuracy: 0.6433 - auc_15: 0.8101 - val_loss: 1.2584 - val_accuracy: 0.6404 - val_auc_15: 0.8026 - 902ms/epoch - 451ms/step\n"
     ]
    },
    {
     "data": {
      "image/png": "[encoded data removed]",
      "text/plain": [
       "<Figure size 432x288 with 1 Axes>"
      ]
     },
     "metadata": {
      "needs_background": "light"
     },
     "output_type": "display_data"
    }
   ],
   "source": [
    "kf = KFold(n_splits=3, shuffle=True, random_state=42)\n",
    "X = X_train.copy()\n",
    "y = y_train.copy()\n",
    "for train_index, val_index in kf.split(X):\n",
    "    X_train, X_val = X[train_index], X[val_index]\n",
    "    y_train, y_val = y.iloc[train_index], y.iloc[val_index]\n",
    "    model = get_convLSTM_model(n_timesteps, n_features, n_outputs, n_length)\n",
    "    history = train(model, X_train, y_train, X_val, y_val, epochs=epochs, batch_size=batch_size)\n",
    "    plt.plot(history.history['loss'])\n",
    "    plt.show()"
   ]
  },
  {
   "cell_type": "markdown",
   "metadata": {},
   "source": [
    "#### Prediction on the holdout set"
   ]
  },
  {
   "cell_type": "code",
   "execution_count": 27,
   "metadata": {},
   "outputs": [
    {
     "name": "stdout",
     "output_type": "stream",
     "text": [
      "\n",
      "Accuracy: 76.543%\n",
      "\n",
      "AUC: 0.8536\n"
     ]
    }
   ],
   "source": [
    "loss, accuracy, auc = model.evaluate(X_test, y_test, batch_size=batch_size, verbose=0)\n",
    "score = accuracy * 100\n",
    "accuracies.append(round(score, 2))\n",
    "aucs.append(round(auc * 100, 2))\n",
    "print('\\nAccuracy: %.3f%%' % score)\n",
    "print('\\nAUC:', round(auc, 4))"
   ]
  },
  {
   "cell_type": "markdown",
   "metadata": {},
   "source": [
    "## 2. Face Modality (Action Units)"
   ]
  },
  {
   "cell_type": "markdown",
   "metadata": {},
   "source": [
    "### 2.1 Pain area prediction - CNN+LSTM"
   ]
  },
  {
   "cell_type": "markdown",
   "metadata": {},
   "source": [
    "#### Dataset"
   ]
  },
  {
   "cell_type": "code",
   "execution_count": 28,
   "metadata": {},
   "outputs": [
    {
     "name": "stdout",
     "output_type": "stream",
     "text": [
      "(208, 1, 350, 10) (208, 5)\n",
      "(27, 1, 350, 10) (27, 5)\n"
     ]
    }
   ],
   "source": [
    "X_train, X_test, y_train, y_test = load_dataset('processed', 'pain_area', 'AUs', 'CNN')\n",
    "\n",
    "print(X_train.shape, y_train.shape)\n",
    "print(X_test.shape, y_test.shape)"
   ]
  },
  {
   "cell_type": "markdown",
   "metadata": {},
   "source": [
    "#### Model"
   ]
  },
  {
   "cell_type": "code",
   "execution_count": 29,
   "metadata": {},
   "outputs": [],
   "source": [
    "batch_size = 68\n",
    "n_timesteps, n_length, n_features, n_outputs = X_train.shape[1], X_train.shape[2], X_train.shape[-1], y_train.shape[1]"
   ]
  },
  {
   "cell_type": "code",
   "execution_count": 30,
   "metadata": {},
   "outputs": [
    {
     "name": "stdout",
     "output_type": "stream",
     "text": [
      "Model: \"sequential_16\"\n",
      "_________________________________________________________________\n",
      " Layer (type)                Output Shape              Param #   \n",
      "=================================================================\n",
      " time_distributed_24 (TimeDi  (None, None, 3, 64)      1984      \n",
      " stributed)                                                      \n",
      "                                                                 \n",
      " time_distributed_25 (TimeDi  (None, None, 3, 32)      0         \n",
      " stributed)                                                      \n",
      "                                                                 \n",
      " time_distributed_26 (TimeDi  (None, None, 96)         0         \n",
      " stributed)                                                      \n",
      "                                                                 \n",
      " lstm_8 (LSTM)               (None, 100)               78800     \n",
      "                                                                 \n",
      " dense_32 (Dense)            (None, 100)               10100     \n",
      "                                                                 \n",
      " dense_33 (Dense)            (None, 350)               35350     \n",
      "                                                                 \n",
      "=================================================================\n",
      "Total params: 126,234\n",
      "Trainable params: 126,234\n",
      "Non-trainable params: 0\n",
      "_________________________________________________________________\n"
     ]
    }
   ],
   "source": [
    "model = get_CNN_model(n_features, n_length, n_outputs)\n",
    "model.summary()"
   ]
  },
  {
   "cell_type": "markdown",
   "metadata": {},
   "source": [
    "#### KFold CV"
   ]
  },
  {
   "cell_type": "code",
   "execution_count": 31,
   "metadata": {},
   "outputs": [
    {
     "name": "stdout",
     "output_type": "stream",
     "text": [
      "Epoch 1/25\n",
      "3/3 - 2s - loss: 1.4773 - accuracy: 0.5072 - auc_17: 0.7160 - val_loss: 1.3107 - val_accuracy: 0.5000 - val_auc_17: 0.7518 - 2s/epoch - 730ms/step\n",
      "Epoch 2/25\n",
      "3/3 - 0s - loss: 1.2626 - accuracy: 0.5217 - auc_17: 0.7909 - val_loss: 1.2692 - val_accuracy: 0.5000 - val_auc_17: 0.8020 - 125ms/epoch - 42ms/step\n",
      "Epoch 3/25\n",
      "3/3 - 0s - loss: 1.2560 - accuracy: 0.5217 - auc_17: 0.8044 - val_loss: 1.2732 - val_accuracy: 0.5000 - val_auc_17: 0.7962 - 129ms/epoch - 43ms/step\n",
      "Epoch 4/25\n",
      "3/3 - 0s - loss: 1.2430 - accuracy: 0.5217 - auc_17: 0.8096 - val_loss: 1.2735 - val_accuracy: 0.5000 - val_auc_17: 0.7776 - 136ms/epoch - 45ms/step\n"
     ]
    },
    {
     "data": {
      "image/png": "[encoded data removed]",
      "text/plain": [
       "<Figure size 432x288 with 1 Axes>"
      ]
     },
     "metadata": {
      "needs_background": "light"
     },
     "output_type": "display_data"
    },
    {
     "name": "stdout",
     "output_type": "stream",
     "text": [
      "Epoch 1/25\n",
      "3/3 - 2s - loss: 1.5050 - accuracy: 0.3022 - auc_18: 0.6048 - val_loss: 1.3385 - val_accuracy: 0.4638 - val_auc_18: 0.7688 - 2s/epoch - 625ms/step\n",
      "Epoch 2/25\n",
      "3/3 - 0s - loss: 1.2444 - accuracy: 0.5036 - auc_18: 0.8046 - val_loss: 1.2771 - val_accuracy: 0.4928 - val_auc_18: 0.7813 - 134ms/epoch - 45ms/step\n",
      "Epoch 3/25\n",
      "3/3 - 0s - loss: 1.2144 - accuracy: 0.5252 - auc_18: 0.8111 - val_loss: 1.2690 - val_accuracy: 0.4928 - val_auc_18: 0.7862 - 133ms/epoch - 44ms/step\n",
      "Epoch 4/25\n",
      "3/3 - 0s - loss: 1.2262 - accuracy: 0.5252 - auc_18: 0.8212 - val_loss: 1.2805 - val_accuracy: 0.4928 - val_auc_18: 0.7869 - 139ms/epoch - 46ms/step\n",
      "Epoch 5/25\n",
      "3/3 - 0s - loss: 1.2197 - accuracy: 0.5252 - auc_18: 0.8317 - val_loss: 1.2805 - val_accuracy: 0.4928 - val_auc_18: 0.7873 - 138ms/epoch - 46ms/step\n"
     ]
    },
    {
     "data": {
      "image/png": "[encoded data removed]",
      "text/plain": [
       "<Figure size 432x288 with 1 Axes>"
      ]
     },
     "metadata": {
      "needs_background": "light"
     },
     "output_type": "display_data"
    },
    {
     "name": "stdout",
     "output_type": "stream",
     "text": [
      "Epoch 1/25\n",
      "3/3 - 2s - loss: 1.4933 - accuracy: 0.3597 - auc_19: 0.6802 - val_loss: 1.2924 - val_accuracy: 0.5507 - val_auc_19: 0.7799 - 2s/epoch - 646ms/step\n",
      "Epoch 2/25\n",
      "3/3 - 0s - loss: 1.2741 - accuracy: 0.4964 - auc_19: 0.7958 - val_loss: 1.2651 - val_accuracy: 0.5507 - val_auc_19: 0.7790 - 149ms/epoch - 50ms/step\n",
      "Epoch 3/25\n",
      "3/3 - 0s - loss: 1.2472 - accuracy: 0.4964 - auc_19: 0.8112 - val_loss: 1.2361 - val_accuracy: 0.5507 - val_auc_19: 0.7792 - 165ms/epoch - 55ms/step\n",
      "Epoch 4/25\n",
      "3/3 - 0s - loss: 1.2352 - accuracy: 0.4964 - auc_19: 0.8101 - val_loss: 1.2329 - val_accuracy: 0.5507 - val_auc_19: 0.7889 - 136ms/epoch - 45ms/step\n",
      "Epoch 5/25\n",
      "3/3 - 0s - loss: 1.2354 - accuracy: 0.4964 - auc_19: 0.8236 - val_loss: 1.2368 - val_accuracy: 0.5507 - val_auc_19: 0.7992 - 134ms/epoch - 45ms/step\n",
      "Epoch 6/25\n",
      "3/3 - 0s - loss: 1.2324 - accuracy: 0.4964 - auc_19: 0.8221 - val_loss: 1.2363 - val_accuracy: 0.5507 - val_auc_19: 0.7926 - 128ms/epoch - 43ms/step\n"
     ]
    },
    {
     "data": {
      "image/png": "[encoded data removed]",
      "text/plain": [
       "<Figure size 432x288 with 1 Axes>"
      ]
     },
     "metadata": {
      "needs_background": "light"
     },
     "output_type": "display_data"
    }
   ],
   "source": [
    "kf = KFold(n_splits=3, shuffle=True, random_state=42)\n",
    "X = X_train.copy()\n",
    "y = y_train.copy()\n",
    "for train_index, val_index in kf.split(X):\n",
    "    X_train, X_val = X[train_index], X[val_index]\n",
    "    y_train, y_val = y.iloc[train_index], y.iloc[val_index]\n",
    "    model = get_CNN_model(n_features, n_outputs, n_length)\n",
    "    history = train(model, X_train, y_train, X_val, y_val, epochs=epochs, batch_size=batch_size)\n",
    "    plt.plot(history.history['loss'])\n",
    "    plt.show()"
   ]
  },
  {
   "cell_type": "markdown",
   "metadata": {},
   "source": [
    "#### Prediction on the holdout set"
   ]
  },
  {
   "cell_type": "code",
   "execution_count": 32,
   "metadata": {},
   "outputs": [
    {
     "name": "stdout",
     "output_type": "stream",
     "text": [
      "\n",
      "Accuracy: 66.667%\n",
      "\n",
      "AUC: 0.8469\n"
     ]
    }
   ],
   "source": [
    "loss, accuracy, auc = model.evaluate(X_test, y_test, batch_size=batch_size, verbose=0)\n",
    "score = accuracy * 100\n",
    "accuracies.append(round(score, 2))\n",
    "aucs.append(round(auc * 100, 2))\n",
    "print('\\nAccuracy: %.3f%%' % score)\n",
    "print('\\nAUC:', round(auc, 4))"
   ]
  },
  {
   "cell_type": "markdown",
   "metadata": {},
   "source": [
    "### 2.2 Pain area prediction - Convolutional LSTM"
   ]
  },
  {
   "cell_type": "markdown",
   "metadata": {},
   "source": [
    "#### Dataset"
   ]
  },
  {
   "cell_type": "code",
   "execution_count": 33,
   "metadata": {},
   "outputs": [
    {
     "name": "stdout",
     "output_type": "stream",
     "text": [
      "(208, 1, 1, 350, 10) (208, 5)\n",
      "(27, 1, 1, 350, 10) (27, 5)\n"
     ]
    }
   ],
   "source": [
    "X_train, X_test, y_train, y_test = load_dataset('processed', 'pain_area', 'AUs', 'convLSTM')\n",
    "\n",
    "print(X_train.shape, y_train.shape)\n",
    "print(X_test.shape, y_test.shape)"
   ]
  },
  {
   "cell_type": "markdown",
   "metadata": {},
   "source": [
    "#### Model"
   ]
  },
  {
   "cell_type": "code",
   "execution_count": 34,
   "metadata": {},
   "outputs": [],
   "source": [
    "n_timesteps, n_length, n_features, n_outputs = X_train.shape[1], X_train.shape[3], X_train.shape[-1], y_train.shape[1]"
   ]
  },
  {
   "cell_type": "code",
   "execution_count": 35,
   "metadata": {},
   "outputs": [
    {
     "name": "stdout",
     "output_type": "stream",
     "text": [
      "Model: \"sequential_20\"\n",
      "_________________________________________________________________\n",
      " Layer (type)                Output Shape              Param #   \n",
      "=================================================================\n",
      " conv_lstm2d_8 (ConvLSTM2D)  (None, 1, 348, 64)        57088     \n",
      "                                                                 \n",
      " flatten_20 (Flatten)        (None, 22272)             0         \n",
      "                                                                 \n",
      " dense_40 (Dense)            (None, 100)               2227300   \n",
      "                                                                 \n",
      " dense_41 (Dense)            (None, 5)                 505       \n",
      "                                                                 \n",
      "=================================================================\n",
      "Total params: 2,284,893\n",
      "Trainable params: 2,284,893\n",
      "Non-trainable params: 0\n",
      "_________________________________________________________________\n"
     ]
    }
   ],
   "source": [
    "model = get_convLSTM_model(n_timesteps, n_features, n_outputs, n_length)\n",
    "model.summary()"
   ]
  },
  {
   "cell_type": "markdown",
   "metadata": {},
   "source": [
    "#### KFold CV"
   ]
  },
  {
   "cell_type": "code",
   "execution_count": 36,
   "metadata": {},
   "outputs": [
    {
     "name": "stdout",
     "output_type": "stream",
     "text": [
      "Epoch 1/25\n",
      "3/3 - 2s - loss: 1.4588 - accuracy: 0.3768 - auc_21: 0.6935 - val_loss: 1.4839 - val_accuracy: 0.5000 - val_auc_21: 0.7190 - 2s/epoch - 775ms/step\n",
      "Epoch 2/25\n",
      "3/3 - 0s - loss: 1.2871 - accuracy: 0.5217 - auc_21: 0.7860 - val_loss: 1.3461 - val_accuracy: 0.5000 - val_auc_21: 0.7404 - 349ms/epoch - 116ms/step\n",
      "Epoch 3/25\n",
      "3/3 - 0s - loss: 1.1934 - accuracy: 0.5217 - auc_21: 0.8153 - val_loss: 1.2894 - val_accuracy: 0.4571 - val_auc_21: 0.7706 - 315ms/epoch - 105ms/step\n",
      "Epoch 4/25\n",
      "3/3 - 0s - loss: 1.1836 - accuracy: 0.5217 - auc_21: 0.8324 - val_loss: 1.2611 - val_accuracy: 0.5143 - val_auc_21: 0.7760 - 293ms/epoch - 98ms/step\n",
      "Epoch 5/25\n",
      "3/3 - 0s - loss: 1.1665 - accuracy: 0.5290 - auc_21: 0.8276 - val_loss: 1.2573 - val_accuracy: 0.5143 - val_auc_21: 0.7771 - 299ms/epoch - 100ms/step\n",
      "Epoch 6/25\n",
      "3/3 - 0s - loss: 1.1306 - accuracy: 0.5362 - auc_21: 0.8333 - val_loss: 1.2571 - val_accuracy: 0.5143 - val_auc_21: 0.7858 - 365ms/epoch - 122ms/step\n",
      "Epoch 7/25\n",
      "3/3 - 0s - loss: 1.0955 - accuracy: 0.5290 - auc_21: 0.8439 - val_loss: 1.2632 - val_accuracy: 0.5000 - val_auc_21: 0.7910 - 330ms/epoch - 110ms/step\n",
      "Epoch 8/25\n",
      "3/3 - 0s - loss: 1.0743 - accuracy: 0.5217 - auc_21: 0.8503 - val_loss: 1.2860 - val_accuracy: 0.5000 - val_auc_21: 0.7858 - 309ms/epoch - 103ms/step\n"
     ]
    },
    {
     "data": {
      "image/png": "[encoded data removed]",
      "text/plain": [
       "<Figure size 432x288 with 1 Axes>"
      ]
     },
     "metadata": {
      "needs_background": "light"
     },
     "output_type": "display_data"
    },
    {
     "name": "stdout",
     "output_type": "stream",
     "text": [
      "Epoch 1/25\n",
      "3/3 - 2s - loss: 1.5296 - accuracy: 0.3022 - auc_22: 0.6506 - val_loss: 1.2589 - val_accuracy: 0.4928 - val_auc_22: 0.7869 - 2s/epoch - 809ms/step\n",
      "Epoch 2/25\n",
      "3/3 - 0s - loss: 1.2088 - accuracy: 0.5252 - auc_22: 0.8145 - val_loss: 1.2480 - val_accuracy: 0.4928 - val_auc_22: 0.7816 - 440ms/epoch - 147ms/step\n",
      "Epoch 3/25\n",
      "3/3 - 0s - loss: 1.1420 - accuracy: 0.5540 - auc_22: 0.8383 - val_loss: 1.2795 - val_accuracy: 0.5072 - val_auc_22: 0.7637 - 305ms/epoch - 102ms/step\n",
      "Epoch 4/25\n",
      "3/3 - 0s - loss: 1.1046 - accuracy: 0.5755 - auc_22: 0.8448 - val_loss: 1.2561 - val_accuracy: 0.4928 - val_auc_22: 0.7768 - 459ms/epoch - 153ms/step\n"
     ]
    },
    {
     "data": {
      "image/png": "[encoded data removed]",
      "text/plain": [
       "<Figure size 432x288 with 1 Axes>"
      ]
     },
     "metadata": {
      "needs_background": "light"
     },
     "output_type": "display_data"
    },
    {
     "name": "stdout",
     "output_type": "stream",
     "text": [
      "Epoch 1/25\n",
      "3/3 - 2s - loss: 1.4725 - accuracy: 0.2950 - auc_23: 0.6515 - val_loss: 1.2764 - val_accuracy: 0.5507 - val_auc_23: 0.7929 - 2s/epoch - 791ms/step\n",
      "Epoch 2/25\n",
      "3/3 - 0s - loss: 1.3890 - accuracy: 0.4964 - auc_23: 0.7850 - val_loss: 1.2520 - val_accuracy: 0.5652 - val_auc_23: 0.7940 - 388ms/epoch - 129ms/step\n",
      "Epoch 3/25\n",
      "3/3 - 0s - loss: 1.1573 - accuracy: 0.5324 - auc_23: 0.8238 - val_loss: 1.3021 - val_accuracy: 0.4203 - val_auc_23: 0.7689 - 375ms/epoch - 125ms/step\n",
      "Epoch 4/25\n",
      "3/3 - 0s - loss: 1.1342 - accuracy: 0.4820 - auc_23: 0.8307 - val_loss: 1.3425 - val_accuracy: 0.4348 - val_auc_23: 0.7524 - 347ms/epoch - 116ms/step\n"
     ]
    },
    {
     "data": {
      "image/png": "[encoded data removed]",
      "text/plain": [
       "<Figure size 432x288 with 1 Axes>"
      ]
     },
     "metadata": {
      "needs_background": "light"
     },
     "output_type": "display_data"
    }
   ],
   "source": [
    "kf = KFold(n_splits=3, shuffle=True, random_state=42)\n",
    "X = X_train.copy()\n",
    "y = y_train.copy()\n",
    "for train_index, val_index in kf.split(X):\n",
    "    X_train, X_val = X[train_index], X[val_index]\n",
    "    y_train, y_val = y.iloc[train_index], y.iloc[val_index]\n",
    "    model = get_convLSTM_model(n_timesteps, n_features, n_outputs, n_length)\n",
    "    history = train(model, X_train, y_train, X_val, y_val, epochs=epochs, batch_size=batch_size)\n",
    "    plt.plot(history.history['loss'])\n",
    "    plt.show()"
   ]
  },
  {
   "cell_type": "markdown",
   "metadata": {},
   "source": [
    "#### Prediction on the holdout set"
   ]
  },
  {
   "cell_type": "code",
   "execution_count": 37,
   "metadata": {},
   "outputs": [
    {
     "name": "stdout",
     "output_type": "stream",
     "text": [
      "\n",
      "Accuracy: 51.852%\n",
      "\n",
      "AUC: 0.8083\n"
     ]
    }
   ],
   "source": [
    "loss, accuracy, auc = model.evaluate(X_test, y_test, batch_size=batch_size, verbose=0)\n",
    "score = accuracy * 100\n",
    "accuracies.append(round(score, 2))\n",
    "aucs.append(round(auc * 100, 2))\n",
    "print('\\nAccuracy: %.3f%%' % score)\n",
    "print('\\nAUC:', round(auc, 4))"
   ]
  },
  {
   "cell_type": "markdown",
   "metadata": {},
   "source": [
    "### 2.3 Pain level prediction - CNN+LSTM"
   ]
  },
  {
   "cell_type": "markdown",
   "metadata": {},
   "source": [
    "#### Dataset"
   ]
  },
  {
   "cell_type": "code",
   "execution_count": 38,
   "metadata": {},
   "outputs": [
    {
     "name": "stdout",
     "output_type": "stream",
     "text": [
      "(208, 1, 350, 10) (208, 3)\n",
      "(27, 1, 350, 10) (27, 3)\n"
     ]
    }
   ],
   "source": [
    "X_train, X_test, y_train, y_test = load_dataset('processed', 'pain_level', 'AUs', 'CNN')\n",
    "\n",
    "print(X_train.shape, y_train.shape)\n",
    "print(X_test.shape, y_test.shape)"
   ]
  },
  {
   "cell_type": "markdown",
   "metadata": {},
   "source": [
    "#### Model"
   ]
  },
  {
   "cell_type": "code",
   "execution_count": 39,
   "metadata": {},
   "outputs": [],
   "source": [
    "n_timesteps, n_length, n_features, n_outputs = X_train.shape[1], X_train.shape[2], X_train.shape[-1], y_train.shape[1]"
   ]
  },
  {
   "cell_type": "code",
   "execution_count": 40,
   "metadata": {},
   "outputs": [
    {
     "name": "stdout",
     "output_type": "stream",
     "text": [
      "Model: \"sequential_24\"\n",
      "_________________________________________________________________\n",
      " Layer (type)                Output Shape              Param #   \n",
      "=================================================================\n",
      " time_distributed_36 (TimeDi  (None, None, 1, 64)      1984      \n",
      " stributed)                                                      \n",
      "                                                                 \n",
      " time_distributed_37 (TimeDi  (None, None, 1, 32)      0         \n",
      " stributed)                                                      \n",
      "                                                                 \n",
      " time_distributed_38 (TimeDi  (None, None, 32)         0         \n",
      " stributed)                                                      \n",
      "                                                                 \n",
      " lstm_12 (LSTM)              (None, 100)               53200     \n",
      "                                                                 \n",
      " dense_48 (Dense)            (None, 100)               10100     \n",
      "                                                                 \n",
      " dense_49 (Dense)            (None, 350)               35350     \n",
      "                                                                 \n",
      "=================================================================\n",
      "Total params: 100,634\n",
      "Trainable params: 100,634\n",
      "Non-trainable params: 0\n",
      "_________________________________________________________________\n"
     ]
    }
   ],
   "source": [
    "model = get_CNN_model(n_features, n_length, n_outputs)\n",
    "model.summary()"
   ]
  },
  {
   "cell_type": "markdown",
   "metadata": {},
   "source": [
    "#### KFold CV"
   ]
  },
  {
   "cell_type": "code",
   "execution_count": 41,
   "metadata": {},
   "outputs": [
    {
     "name": "stdout",
     "output_type": "stream",
     "text": [
      "Epoch 1/25\n",
      "3/3 - 3s - loss: 0.9277 - accuracy: 0.3913 - auc_25: 0.6532 - val_loss: 0.8489 - val_accuracy: 0.5714 - val_auc_25: 0.8082 - 3s/epoch - 839ms/step\n",
      "Epoch 2/25\n",
      "3/3 - 0s - loss: 0.6599 - accuracy: 0.6884 - auc_25: 0.8866 - val_loss: 0.7757 - val_accuracy: 0.5714 - val_auc_25: 0.8128 - 133ms/epoch - 44ms/step\n",
      "Epoch 3/25\n",
      "3/3 - 0s - loss: 0.6083 - accuracy: 0.6884 - auc_25: 0.8922 - val_loss: 0.7645 - val_accuracy: 0.5714 - val_auc_25: 0.8138 - 133ms/epoch - 44ms/step\n",
      "Epoch 4/25\n",
      "3/3 - 0s - loss: 0.5898 - accuracy: 0.6884 - auc_25: 0.8924 - val_loss: 0.7440 - val_accuracy: 0.6000 - val_auc_25: 0.8141 - 136ms/epoch - 45ms/step\n",
      "Epoch 5/25\n",
      "3/3 - 0s - loss: 0.5825 - accuracy: 0.7464 - auc_25: 0.8997 - val_loss: 0.7377 - val_accuracy: 0.5857 - val_auc_25: 0.8134 - 135ms/epoch - 45ms/step\n",
      "Epoch 6/25\n",
      "3/3 - 0s - loss: 0.5784 - accuracy: 0.7391 - auc_25: 0.9035 - val_loss: 0.7392 - val_accuracy: 0.5714 - val_auc_25: 0.8155 - 136ms/epoch - 45ms/step\n",
      "Epoch 7/25\n",
      "3/3 - 0s - loss: 0.5713 - accuracy: 0.7464 - auc_25: 0.9070 - val_loss: 0.7371 - val_accuracy: 0.5714 - val_auc_25: 0.8144 - 133ms/epoch - 44ms/step\n",
      "Epoch 8/25\n",
      "3/3 - 0s - loss: 0.5646 - accuracy: 0.7391 - auc_25: 0.9088 - val_loss: 0.7485 - val_accuracy: 0.5714 - val_auc_25: 0.8123 - 182ms/epoch - 61ms/step\n",
      "Epoch 9/25\n",
      "3/3 - 0s - loss: 0.5604 - accuracy: 0.7536 - auc_25: 0.9073 - val_loss: 0.7581 - val_accuracy: 0.5714 - val_auc_25: 0.8124 - 178ms/epoch - 59ms/step\n"
     ]
    },
    {
     "data": {
      "image/png": "[encoded data removed]",
      "text/plain": [
       "<Figure size 432x288 with 1 Axes>"
      ]
     },
     "metadata": {
      "needs_background": "light"
     },
     "output_type": "display_data"
    },
    {
     "name": "stdout",
     "output_type": "stream",
     "text": [
      "Epoch 1/25\n",
      "3/3 - 2s - loss: 0.8905 - accuracy: 0.6259 - auc_26: 0.7611 - val_loss: 0.7982 - val_accuracy: 0.3478 - val_auc_26: 0.6936 - 2s/epoch - 687ms/step\n",
      "Epoch 2/25\n",
      "3/3 - 0s - loss: 0.7650 - accuracy: 0.3813 - auc_26: 0.7099 - val_loss: 0.7383 - val_accuracy: 0.6377 - val_auc_26: 0.8227 - 138ms/epoch - 46ms/step\n",
      "Epoch 3/25\n",
      "3/3 - 0s - loss: 0.7014 - accuracy: 0.6043 - auc_26: 0.8390 - val_loss: 0.7216 - val_accuracy: 0.6087 - val_auc_26: 0.8271 - 147ms/epoch - 49ms/step\n",
      "Epoch 4/25\n",
      "3/3 - 0s - loss: 0.6821 - accuracy: 0.6619 - auc_26: 0.8557 - val_loss: 0.7137 - val_accuracy: 0.6522 - val_auc_26: 0.8344 - 156ms/epoch - 52ms/step\n",
      "Epoch 5/25\n",
      "3/3 - 0s - loss: 0.6625 - accuracy: 0.6906 - auc_26: 0.8678 - val_loss: 0.7044 - val_accuracy: 0.6087 - val_auc_26: 0.8379 - 159ms/epoch - 53ms/step\n",
      "Epoch 6/25\n",
      "3/3 - 0s - loss: 0.6484 - accuracy: 0.6403 - auc_26: 0.8650 - val_loss: 0.7193 - val_accuracy: 0.6087 - val_auc_26: 0.8425 - 149ms/epoch - 50ms/step\n",
      "Epoch 7/25\n",
      "3/3 - 0s - loss: 0.6509 - accuracy: 0.6619 - auc_26: 0.8682 - val_loss: 0.7096 - val_accuracy: 0.6232 - val_auc_26: 0.8464 - 159ms/epoch - 53ms/step\n"
     ]
    },
    {
     "data": {
      "image/png": "[encoded data removed]",
      "text/plain": [
       "<Figure size 432x288 with 1 Axes>"
      ]
     },
     "metadata": {
      "needs_background": "light"
     },
     "output_type": "display_data"
    },
    {
     "name": "stdout",
     "output_type": "stream",
     "text": [
      "Epoch 1/25\n",
      "3/3 - 3s - loss: 1.0746 - accuracy: 0.5324 - auc_27: 0.6841 - val_loss: 0.7503 - val_accuracy: 0.7246 - val_auc_27: 0.9046 - 3s/epoch - 880ms/step\n",
      "Epoch 2/25\n",
      "3/3 - 0s - loss: 0.8070 - accuracy: 0.6547 - auc_27: 0.8331 - val_loss: 0.7576 - val_accuracy: 0.6377 - val_auc_27: 0.8478 - 151ms/epoch - 50ms/step\n",
      "Epoch 3/25\n",
      "3/3 - 0s - loss: 0.7645 - accuracy: 0.6547 - auc_27: 0.8463 - val_loss: 0.6346 - val_accuracy: 0.6957 - val_auc_27: 0.9118 - 148ms/epoch - 49ms/step\n",
      "Epoch 4/25\n",
      "3/3 - 0s - loss: 0.7108 - accuracy: 0.6259 - auc_27: 0.8470 - val_loss: 0.5902 - val_accuracy: 0.7246 - val_auc_27: 0.9118 - 152ms/epoch - 51ms/step\n",
      "Epoch 5/25\n",
      "3/3 - 0s - loss: 0.7185 - accuracy: 0.6115 - auc_27: 0.8474 - val_loss: 0.5775 - val_accuracy: 0.7246 - val_auc_27: 0.9112 - 140ms/epoch - 47ms/step\n",
      "Epoch 6/25\n",
      "3/3 - 0s - loss: 0.7176 - accuracy: 0.6115 - auc_27: 0.8464 - val_loss: 0.5718 - val_accuracy: 0.7246 - val_auc_27: 0.9108 - 148ms/epoch - 49ms/step\n",
      "Epoch 7/25\n",
      "3/3 - 0s - loss: 0.6934 - accuracy: 0.6115 - auc_27: 0.8514 - val_loss: 0.5803 - val_accuracy: 0.6957 - val_auc_27: 0.9095 - 140ms/epoch - 47ms/step\n",
      "Epoch 8/25\n",
      "3/3 - 0s - loss: 0.6765 - accuracy: 0.6403 - auc_27: 0.8574 - val_loss: 0.6049 - val_accuracy: 0.6957 - val_auc_27: 0.9060 - 141ms/epoch - 47ms/step\n"
     ]
    },
    {
     "data": {
      "image/png": "[encoded data removed]",
      "text/plain": [
       "<Figure size 432x288 with 1 Axes>"
      ]
     },
     "metadata": {
      "needs_background": "light"
     },
     "output_type": "display_data"
    }
   ],
   "source": [
    "kf = KFold(n_splits=3, shuffle=True, random_state=42)\n",
    "X = X_train.copy()\n",
    "y = y_train.copy()\n",
    "for train_index, val_index in kf.split(X):\n",
    "    X_train, X_val = X[train_index], X[val_index]\n",
    "    y_train, y_val = y.iloc[train_index], y.iloc[val_index]\n",
    "    model = get_CNN_model(n_features, n_outputs, n_length)\n",
    "    history = train(model, X_train, y_train, X_val, y_val, epochs=epochs, batch_size=batch_size)\n",
    "    plt.plot(history.history['loss'])\n",
    "    plt.show()"
   ]
  },
  {
   "cell_type": "markdown",
   "metadata": {},
   "source": [
    "#### Prediction on the holdout set"
   ]
  },
  {
   "cell_type": "code",
   "execution_count": 42,
   "metadata": {},
   "outputs": [
    {
     "name": "stdout",
     "output_type": "stream",
     "text": [
      "\n",
      "Accuracy: 70.370%\n",
      "\n",
      "AUC: 0.928\n"
     ]
    }
   ],
   "source": [
    "loss, accuracy, auc = model.evaluate(X_test, y_test, batch_size=batch_size, verbose=0)\n",
    "score = accuracy * 100\n",
    "accuracies.append(round(score, 2))\n",
    "aucs.append(round(auc * 100, 2))\n",
    "print('\\nAccuracy: %.3f%%' % score)\n",
    "print('\\nAUC:', round(auc, 4))"
   ]
  },
  {
   "cell_type": "markdown",
   "metadata": {},
   "source": [
    "### 2.4 Pain level prediction - Convolutional LSTM"
   ]
  },
  {
   "cell_type": "markdown",
   "metadata": {},
   "source": [
    "#### Dataset"
   ]
  },
  {
   "cell_type": "code",
   "execution_count": 43,
   "metadata": {},
   "outputs": [
    {
     "name": "stdout",
     "output_type": "stream",
     "text": [
      "(208, 1, 1, 350, 10) (208, 3)\n",
      "(27, 1, 1, 350, 10) (27, 3)\n"
     ]
    }
   ],
   "source": [
    "X_train, X_test, y_train, y_test = load_dataset('processed', 'pain_level', 'AUs', 'convLSTM')\n",
    "\n",
    "print(X_train.shape, y_train.shape)\n",
    "print(X_test.shape, y_test.shape)"
   ]
  },
  {
   "cell_type": "markdown",
   "metadata": {},
   "source": [
    "#### Model"
   ]
  },
  {
   "cell_type": "code",
   "execution_count": 44,
   "metadata": {},
   "outputs": [],
   "source": [
    "n_timesteps, n_length, n_features, n_outputs = X_train.shape[1], X_train.shape[3], X_train.shape[-1], y_train.shape[1]"
   ]
  },
  {
   "cell_type": "code",
   "execution_count": 45,
   "metadata": {},
   "outputs": [
    {
     "name": "stdout",
     "output_type": "stream",
     "text": [
      "Model: \"sequential_28\"\n",
      "_________________________________________________________________\n",
      " Layer (type)                Output Shape              Param #   \n",
      "=================================================================\n",
      " conv_lstm2d_12 (ConvLSTM2D)  (None, 1, 348, 64)       57088     \n",
      "                                                                 \n",
      " flatten_28 (Flatten)        (None, 22272)             0         \n",
      "                                                                 \n",
      " dense_56 (Dense)            (None, 100)               2227300   \n",
      "                                                                 \n",
      " dense_57 (Dense)            (None, 3)                 303       \n",
      "                                                                 \n",
      "=================================================================\n",
      "Total params: 2,284,691\n",
      "Trainable params: 2,284,691\n",
      "Non-trainable params: 0\n",
      "_________________________________________________________________\n"
     ]
    }
   ],
   "source": [
    "model = get_convLSTM_model(n_timesteps, n_features, n_outputs, n_length)\n",
    "model.summary()"
   ]
  },
  {
   "cell_type": "markdown",
   "metadata": {},
   "source": [
    "#### KFold CV"
   ]
  },
  {
   "cell_type": "code",
   "execution_count": 46,
   "metadata": {},
   "outputs": [
    {
     "name": "stdout",
     "output_type": "stream",
     "text": [
      "Epoch 1/25\n",
      "3/3 - 3s - loss: 0.9564 - accuracy: 0.6594 - auc_29: 0.7719 - val_loss: 1.0840 - val_accuracy: 0.5714 - val_auc_29: 0.7855 - 3s/epoch - 1s/step\n",
      "Epoch 2/25\n",
      "3/3 - 0s - loss: 0.7000 - accuracy: 0.6884 - auc_29: 0.8790 - val_loss: 0.8201 - val_accuracy: 0.5714 - val_auc_29: 0.8118 - 419ms/epoch - 140ms/step\n",
      "Epoch 3/25\n",
      "3/3 - 0s - loss: 0.5755 - accuracy: 0.6884 - auc_29: 0.8971 - val_loss: 0.7524 - val_accuracy: 0.6000 - val_auc_29: 0.8229 - 379ms/epoch - 126ms/step\n",
      "Epoch 4/25\n",
      "3/3 - 0s - loss: 0.5420 - accuracy: 0.7826 - auc_29: 0.9123 - val_loss: 0.7390 - val_accuracy: 0.5714 - val_auc_29: 0.8317 - 383ms/epoch - 128ms/step\n",
      "Epoch 5/25\n",
      "3/3 - 0s - loss: 0.5342 - accuracy: 0.7609 - auc_29: 0.9200 - val_loss: 0.7665 - val_accuracy: 0.6143 - val_auc_29: 0.8320 - 382ms/epoch - 127ms/step\n",
      "Epoch 6/25\n",
      "3/3 - 0s - loss: 0.5129 - accuracy: 0.7681 - auc_29: 0.9239 - val_loss: 0.8706 - val_accuracy: 0.6000 - val_auc_29: 0.8201 - 324ms/epoch - 108ms/step\n"
     ]
    },
    {
     "data": {
      "image/png": "[encoded data removed]",
      "text/plain": [
       "<Figure size 432x288 with 1 Axes>"
      ]
     },
     "metadata": {
      "needs_background": "light"
     },
     "output_type": "display_data"
    },
    {
     "name": "stdout",
     "output_type": "stream",
     "text": [
      "Epoch 1/25\n",
      "3/3 - 2s - loss: 0.9513 - accuracy: 0.4173 - auc_30: 0.6348 - val_loss: 0.8366 - val_accuracy: 0.6522 - val_auc_30: 0.8545 - 2s/epoch - 803ms/step\n",
      "Epoch 2/25\n",
      "3/3 - 1s - loss: 0.7935 - accuracy: 0.6475 - auc_30: 0.8574 - val_loss: 0.7078 - val_accuracy: 0.6522 - val_auc_30: 0.8602 - 520ms/epoch - 173ms/step\n",
      "Epoch 3/25\n",
      "3/3 - 1s - loss: 0.6542 - accuracy: 0.6475 - auc_30: 0.8745 - val_loss: 0.6656 - val_accuracy: 0.6667 - val_auc_30: 0.8604 - 553ms/epoch - 184ms/step\n",
      "Epoch 4/25\n",
      "3/3 - 1s - loss: 0.6125 - accuracy: 0.7338 - auc_30: 0.9036 - val_loss: 0.6834 - val_accuracy: 0.6232 - val_auc_30: 0.8585 - 581ms/epoch - 194ms/step\n",
      "Epoch 5/25\n",
      "3/3 - 0s - loss: 0.6137 - accuracy: 0.7482 - auc_30: 0.9096 - val_loss: 0.6567 - val_accuracy: 0.7101 - val_auc_30: 0.8662 - 458ms/epoch - 153ms/step\n",
      "Epoch 6/25\n",
      "3/3 - 0s - loss: 0.5750 - accuracy: 0.7410 - auc_30: 0.9059 - val_loss: 0.6594 - val_accuracy: 0.6812 - val_auc_30: 0.8684 - 432ms/epoch - 144ms/step\n",
      "Epoch 7/25\n",
      "3/3 - 0s - loss: 0.5616 - accuracy: 0.7266 - auc_30: 0.9064 - val_loss: 0.6617 - val_accuracy: 0.6957 - val_auc_30: 0.8656 - 370ms/epoch - 123ms/step\n"
     ]
    },
    {
     "data": {
      "image/png": "[encoded data removed]",
      "text/plain": [
       "<Figure size 432x288 with 1 Axes>"
      ]
     },
     "metadata": {
      "needs_background": "light"
     },
     "output_type": "display_data"
    },
    {
     "name": "stdout",
     "output_type": "stream",
     "text": [
      "Epoch 1/25\n",
      "3/3 - 3s - loss: 0.8814 - accuracy: 0.6187 - auc_31: 0.7938 - val_loss: 0.5465 - val_accuracy: 0.7246 - val_auc_31: 0.9098 - 3s/epoch - 867ms/step\n",
      "Epoch 2/25\n",
      "3/3 - 0s - loss: 0.6867 - accuracy: 0.7122 - auc_31: 0.8559 - val_loss: 1.0616 - val_accuracy: 0.2899 - val_auc_31: 0.6332 - 328ms/epoch - 109ms/step\n",
      "Epoch 3/25\n",
      "3/3 - 0s - loss: 1.0176 - accuracy: 0.4173 - auc_31: 0.7042 - val_loss: 0.6639 - val_accuracy: 0.5652 - val_auc_31: 0.8109 - 311ms/epoch - 104ms/step\n"
     ]
    },
    {
     "data": {
      "image/png": "[encoded data removed]",
      "text/plain": [
       "<Figure size 432x288 with 1 Axes>"
      ]
     },
     "metadata": {
      "needs_background": "light"
     },
     "output_type": "display_data"
    }
   ],
   "source": [
    "kf = KFold(n_splits=3, shuffle=True, random_state=42)\n",
    "X = X_train.copy()\n",
    "y = y_train.copy()\n",
    "for train_index, val_index in kf.split(X):\n",
    "    X_train, X_val = X[train_index], X[val_index]\n",
    "    y_train, y_val = y.iloc[train_index], y.iloc[val_index]\n",
    "    model = get_convLSTM_model(n_timesteps, n_features, n_outputs, n_length)\n",
    "    history = train(model, X_train, y_train, X_val, y_val, epochs=epochs, batch_size=batch_size)\n",
    "    plt.plot(history.history['loss'])\n",
    "    plt.show()"
   ]
  },
  {
   "cell_type": "markdown",
   "metadata": {},
   "source": [
    "#### Prediction on the holdout set"
   ]
  },
  {
   "cell_type": "code",
   "execution_count": 47,
   "metadata": {},
   "outputs": [
    {
     "name": "stdout",
     "output_type": "stream",
     "text": [
      "\n",
      "Accuracy: 59.259%\n",
      "\n",
      "AUC: 0.8374\n"
     ]
    }
   ],
   "source": [
    "loss, accuracy, auc = model.evaluate(X_test, y_test, batch_size=batch_size, verbose=0)\n",
    "score = accuracy * 100\n",
    "accuracies.append(round(score, 2))\n",
    "aucs.append(round(auc * 100, 2))\n",
    "print('\\nAccuracy: %.3f%%' % score)\n",
    "print('\\nAUC:', round(auc, 4))"
   ]
  },
  {
   "cell_type": "markdown",
   "metadata": {},
   "source": [
    "## 3. Results"
   ]
  },
  {
   "cell_type": "code",
   "execution_count": 48,
   "metadata": {},
   "outputs": [],
   "source": [
    "def show_results(first, last):\n",
    "    plt.rcParams['figure.figsize'] = (8,8)\n",
    "    x = np.arange(len(model_names[first:last]))\n",
    "    width = 0.35\n",
    "\n",
    "    fig, ax = plt.subplots()\n",
    "    rects1 = ax.bar(x - width/2, accuracies[first:last], width, label='Accuracy')\n",
    "    rects2 = ax.bar(x + width/2, aucs[first:last], width, label='AUC * 100')\n",
    "\n",
    "    ax.set_ylim(0, 100)\n",
    "    ax.set_xticks(x, model_names[first:last])\n",
    "    ax.legend()\n",
    "\n",
    "    ax.bar_label(rects1, padding=3)\n",
    "    ax.bar_label(rects2, padding=3)\n",
    "\n",
    "    fig.tight_layout()\n",
    "\n",
    "    plt.show()"
   ]
  },
  {
   "cell_type": "markdown",
   "metadata": {},
   "source": [
    "### Body Modality (Skeleton) - Pain area prediction \n",
    "\n",
    "CNN+LSTM vs Convolutional LSTM"
   ]
  },
  {
   "cell_type": "code",
   "execution_count": 49,
   "metadata": {},
   "outputs": [
    {
     "data": {
      "image/png": "[encoded data removed]",
      "text/plain": [
       "<Figure size 576x576 with 1 Axes>"
      ]
     },
     "metadata": {
      "needs_background": "light"
     },
     "output_type": "display_data"
    }
   ],
   "source": [
    "show_results(0, 2)"
   ]
  },
  {
   "cell_type": "markdown",
   "metadata": {},
   "source": [
    "### Body Modality (Skeleton) - Pain level prediction \n",
    "\n",
    "CNN+LSTM vs Convolutional LSTM"
   ]
  },
  {
   "cell_type": "code",
   "execution_count": 50,
   "metadata": {},
   "outputs": [
    {
     "data": {
      "image/png": "[encoded data removed]",
      "text/plain": [
       "<Figure size 576x576 with 1 Axes>"
      ]
     },
     "metadata": {
      "needs_background": "light"
     },
     "output_type": "display_data"
    }
   ],
   "source": [
    "show_results(2, 4)"
   ]
  },
  {
   "cell_type": "markdown",
   "metadata": {},
   "source": [
    "### Face Modality (Action Units) - Pain area prediction \n",
    "\n",
    "CNN+LSTM vs Convolutional LSTM"
   ]
  },
  {
   "cell_type": "code",
   "execution_count": 51,
   "metadata": {},
   "outputs": [
    {
     "data": {
      "image/png": "[encoded data removed]",
      "text/plain": [
       "<Figure size 576x576 with 1 Axes>"
      ]
     },
     "metadata": {
      "needs_background": "light"
     },
     "output_type": "display_data"
    }
   ],
   "source": [
    "show_results(4, 6)"
   ]
  },
  {
   "cell_type": "markdown",
   "metadata": {},
   "source": [
    "### Face Modality (Action Units) - Pain level prediction \n",
    "\n",
    "CNN+LSTM vs Convolutional LSTM"
   ]
  },
  {
   "cell_type": "code",
   "execution_count": 52,
   "metadata": {},
   "outputs": [
    {
     "data": {
      "image/png": "[encoded data removed]",
      "text/plain": [
       "<Figure size 576x576 with 1 Axes>"
      ]
     },
     "metadata": {
      "needs_background": "light"
     },
     "output_type": "display_data"
    }
   ],
   "source": [
    "show_results(6, 8)"
   ]
  }
 ],
 "metadata": {
  "interpreter": {
   "hash": "225abd0b4b41c85229fb7285a24282bb8b7c5c494a1c5011beaea88d2c1fa3cf"
  },
  "kernelspec": {
   "display_name": "Python 3.9.10 ('masters-thesis-dSEc-4wZ')",
   "language": "python",
   "name": "python3"
  },
  "language_info": {
   "codemirror_mode": {
    "name": "ipython",
    "version": 3
   },
   "file_extension": ".py",
   "mimetype": "text/x-python",
   "name": "python",
   "nbconvert_exporter": "python",
   "pygments_lexer": "ipython3",
   "version": "3.9.10"
  },
  "orig_nbformat": 4
 },
 "nbformat": 4,
 "nbformat_minor": 2
}
