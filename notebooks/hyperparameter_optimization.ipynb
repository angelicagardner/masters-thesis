{
 "cells": [
  {
   "cell_type": "markdown",
   "metadata": {},
   "source": [
    "# Results for Multi-modal Approaches\n",
    "\n",
    "Evaluation metrics used:\n",
    "\n",
    "- ROC/AUC\n",
    "- Accuracy \n",
    "- Precision\n",
    "- Recall\n",
    "- F1-score"
   ]
  },
  {
   "cell_type": "code",
   "execution_count": 2,
   "metadata": {},
   "outputs": [],
   "source": [
    "import os\n",
    "os.environ['TF_CPP_MIN_LOG_LEVEL'] = '3'\n",
    "import warnings\n",
    "warnings.filterwarnings(\"ignore\")\n",
    "\n",
    "import numpy as np\n",
    "import pandas as pd\n",
    "import matplotlib.pyplot as plt\n",
    "import tensorflow as tf \n",
    "import tensorflow_addons as tfa\n",
    "\n",
    "from pathlib import Path\n",
    "from sklearn.preprocessing import LabelBinarizer\n",
    "from sklearn.model_selection import KFold\n",
    "from sklearn.ensemble import RandomForestClassifier\n",
    "from sklearn.metrics import precision_recall_fscore_support, roc_auc_score, accuracy_score\n",
    "from tensorflow.keras.layers import Input, LSTM, Dense, Flatten, TimeDistributed, Conv1D, BatchNormalization, MaxPooling1D, ConvLSTM1D, Bidirectional, Concatenate\n",
    "from tensorflow.keras import Model\n",
    "from tensorflow.keras.initializers import Constant\n",
    "from keras.layers.advanced_activations import PReLU"
   ]
  },
  {
   "cell_type": "markdown",
   "metadata": {},
   "source": [
    "## Methods for loading datasets and creating model architectures"
   ]
  },
  {
   "cell_type": "code",
   "execution_count": 3,
   "metadata": {},
   "outputs": [],
   "source": [
    "def load_file(file):\n",
    "    df = pd.read_csv(file, header=0)\n",
    "    labels = df['pain']\n",
    "    df = df.drop(columns=['pain'])\n",
    "    df.drop(df.columns[-1], axis=1, inplace=True)\n",
    "    return df, labels\n",
    "\n",
    "def load_dataset(input_filepath, modality):\n",
    "    feature_names = []\n",
    "    classes = []\n",
    "    root_dir = Path(os.path.abspath('')).parent\n",
    "    data_dir = root_dir / 'data'\n",
    "    train_filepath = data_dir / input_filepath / 'train' / modality\n",
    "    test_filepath = data_dir / input_filepath / 'test' / modality\n",
    "    # 1. Load train data\n",
    "    X = list()\n",
    "    y = list()\n",
    "    for file in train_filepath.iterdir():\n",
    "        if file.is_file() and file.name.endswith('.csv'):\n",
    "            x, labels = load_file(file)\n",
    "            if feature_names == []:\n",
    "                feature_names = x.columns.values.tolist()\n",
    "            if labels[0] not in classes:\n",
    "                classes.append(labels[0])\n",
    "            x = x.to_numpy()\n",
    "            X.append(x)\n",
    "            y.append(labels[0])\n",
    "    n_length = X[0].shape[0]\n",
    "    n_features = X[0].shape[1]\n",
    "    X = np.array(X)\n",
    "    X_train = X.reshape((len(X), 1, n_length, n_features))\n",
    "    lb = LabelBinarizer()\n",
    "    y_train = lb.fit_transform(y)\n",
    "    # 2. Load test data\n",
    "    X = list()\n",
    "    y = list()\n",
    "    for file in test_filepath.iterdir():\n",
    "        if file.is_file() and file.name.endswith('.csv'):\n",
    "            x, labels = load_file(file)\n",
    "            x = x.to_numpy()\n",
    "            X.append(x)\n",
    "            y.append(labels[0])\n",
    "    n_length = X[0].shape[0]\n",
    "    n_features = X[0].shape[1]\n",
    "    X = np.array(X)\n",
    "    X_test = X.reshape((len(X), 1, n_length, n_features))\n",
    "    y_test = lb.transform(y)\n",
    "    return X_train, X_test, y_train, y_test, feature_names, classes\n",
    "\n",
    "def load_earlyfusion_dataset(input_filepath):\n",
    "    root_dir = Path(os.path.abspath('')).parent\n",
    "    data_dir = root_dir / 'data'\n",
    "    body_train_filepath = data_dir / input_filepath / 'train' / 'skeleton'\n",
    "    body_test_filepath = data_dir / input_filepath / 'test' / 'skeleton'\n",
    "    face_train_filepath = data_dir / input_filepath / 'train' / 'AUs'\n",
    "    face_test_filepath = data_dir / input_filepath / 'test' / 'AUs'\n",
    "    # 1. Load train data\n",
    "    X = list()\n",
    "    y = list()\n",
    "    for file in body_train_filepath.iterdir():\n",
    "        if file.is_file() and file.name.endswith('.csv'):\n",
    "            body_x, body_labels = load_file(file)\n",
    "            has_equivalent_face_file = False\n",
    "            for second_file in face_train_filepath.iterdir():\n",
    "                if second_file.is_file() and second_file.name.endswith('.csv') and second_file.name == file.name:\n",
    "                    # Concatenate features\n",
    "                    face_x, face_labels = load_file(second_file)\n",
    "                    full_X = np.concatenate((body_x, face_x), axis=1)\n",
    "                    body_x = body_x.to_numpy()\n",
    "                    face_x = face_x.to_numpy()\n",
    "                    X.append(full_X)\n",
    "                    y.append(body_labels[0])\n",
    "                    has_equivalent_face_file = True\n",
    "                    break\n",
    "            if not has_equivalent_face_file:\n",
    "                continue\n",
    "    n_length = X[0].shape[0]\n",
    "    n_features = X[0].shape[1]\n",
    "    X = np.array(X)\n",
    "    X_train = X.reshape((len(X), 1, n_length, n_features))\n",
    "    lb = LabelBinarizer()\n",
    "    y_train = lb.fit_transform(y)\n",
    "    # 2. Load test data\n",
    "    X = list()\n",
    "    y = list()\n",
    "    for file in body_test_filepath.iterdir():\n",
    "        if file.is_file() and file.name.endswith('.csv'):\n",
    "            body_x, body_labels = load_file(file)\n",
    "            body_x = body_x.to_numpy()\n",
    "            has_equivalent_face_file = False\n",
    "            for second_file in face_test_filepath.iterdir():\n",
    "                if second_file.is_file() and second_file.name.endswith('.csv') and second_file.name == file.name:\n",
    "                    # Concatenate features\n",
    "                    face_x, face_labels = load_file(second_file)\n",
    "                    face_x = face_x.to_numpy()\n",
    "                    full_X = np.concatenate((body_x, face_x), axis=1)\n",
    "                    X.append(full_X)\n",
    "                    y.append(body_labels[0])\n",
    "                    has_equivalent_face_file = True\n",
    "                    break\n",
    "            if not has_equivalent_face_file:\n",
    "                continue\n",
    "    n_length = X[0].shape[0]\n",
    "    n_features = X[0].shape[1]\n",
    "    X = np.array(X)\n",
    "    X_test = X.reshape((len(X), 1, n_length, n_features))\n",
    "    y_test = lb.transform(y)\n",
    "    return X_train, X_test, y_train, y_test\n",
    "\n",
    "def load_latefusion_dataset(input_filepath, modality):\n",
    "    root_dir = Path(os.path.abspath('')).parent\n",
    "    data_dir = root_dir / 'data'\n",
    "    train_filepath = data_dir / input_filepath / 'train' / modality\n",
    "    test_filepath = data_dir / input_filepath / 'test' / modality\n",
    "    # 1. Load train data\n",
    "    X = list()\n",
    "    y = list()\n",
    "    for file in train_filepath.iterdir():\n",
    "        if file.is_file() and file.name.endswith('.csv'):\n",
    "            x, labels = load_file(file)\n",
    "            if modality == 'skeleton':\n",
    "                has_equivalent_face_file = False \n",
    "                for second_file in (data_dir / input_filepath / 'train' / 'AUs').iterdir():\n",
    "                    if second_file.is_file() and second_file.name.endswith('.csv') and second_file.name == file.name:\n",
    "                        has_equivalent_face_file = True\n",
    "                        break\n",
    "                if not has_equivalent_face_file:\n",
    "                    continue\n",
    "                else: \n",
    "                    x = x.to_numpy()\n",
    "                    X.append(x)\n",
    "                    y.append(labels[0])\n",
    "            else:\n",
    "                x = x.to_numpy()\n",
    "                X.append(x)\n",
    "                y.append(labels[0])\n",
    "    n_length = X[0].shape[0]\n",
    "    n_features = X[0].shape[1]\n",
    "    X = np.array(X)\n",
    "    X_train = X.reshape((len(X), 1, n_length, n_features))\n",
    "    lb = LabelBinarizer()\n",
    "    y_train = lb.fit_transform(y)\n",
    "    # 2. Load test data\n",
    "    X = list()\n",
    "    y = list()\n",
    "    for file in test_filepath.iterdir():\n",
    "        if file.is_file() and file.name.endswith('.csv'):\n",
    "            x, labels = load_file(file)\n",
    "            if modality == 'skeleton':\n",
    "                has_equivalent_face_file = False \n",
    "                for second_file in (data_dir / input_filepath / 'test' / 'AUs').iterdir():\n",
    "                    if second_file.is_file() and second_file.name.endswith('.csv') and second_file.name == file.name:\n",
    "                        has_equivalent_face_file = True\n",
    "                        break\n",
    "                if not has_equivalent_face_file:\n",
    "                    continue\n",
    "                else: \n",
    "                    x = x.to_numpy()\n",
    "                    X.append(x)\n",
    "                    y.append(labels[0])\n",
    "            else:\n",
    "                x = x.to_numpy()\n",
    "                X.append(x)\n",
    "                y.append(labels[0])\n",
    "    n_length = X[0].shape[0]\n",
    "    n_features = X[0].shape[1]\n",
    "    X = np.array(X)\n",
    "    X_test = X.reshape((len(X), 1, n_length, n_features))\n",
    "    y_test = lb.transform(y)\n",
    "    return X_train, X_test, y_train, y_test"
   ]
  },
  {
   "cell_type": "code",
   "execution_count": 4,
   "metadata": {},
   "outputs": [],
   "source": [
    "class KerasMember():\n",
    "    def __init__(self, name=None, keras_model=None, train_batches=None,\n",
    "                 val_batches=None, submission_probs=None, keras_modelpath=None,\n",
    "                 keras_kwargs={}):\n",
    "        assert(name is not None)\n",
    "        self.name = name\n",
    "        self.model = keras_model\n",
    "        self.submission_probs = submission_probs\n",
    "        # Initialize Params\n",
    "        self.val_probs = None\n",
    "        self.train_probs = None\n",
    "        self.val_classes = None\n",
    "        self.train_classes = None\n",
    "        if (keras_model is None) and (keras_modelpath is not None):\n",
    "            self.load_kerasmodel(self.keras_modelpath, self.keras_kwargs)\n",
    "        if train_batches is not None:\n",
    "            self._calculate_train_predictions(train_batches)\n",
    "        if val_batches is not None:\n",
    "            self._calculate_val_predictions(val_batches)\n",
    "\n",
    "    def _test_datatuple(self, datatuple):\n",
    "        assert(len(datatuple) == 2)\n",
    "        assert(datatuple[0].shape[0] == datatuple[1].shape[0])\n",
    "\n",
    "    def _calculate_predictions(self, batches):\n",
    "        if hasattr(batches, 'shuffle'):\n",
    "            batches.reset()\n",
    "            batches.shuffle = False\n",
    "        if type(batches) is tuple:\n",
    "            self._test_datatuple(batches)\n",
    "            return self.model.predict(batches[0])\n",
    "        return self.model.predict_generator(\n",
    "            batches, steps=(batches.n // batches.batch_size) + 1, verbose=1)\n",
    "\n",
    "    def _calculate_val_predictions(self, val_batches):\n",
    "        if type(val_batches) is tuple:\n",
    "            self.val_classes = val_batches[1]\n",
    "        elif hasattr(val_batches, 'classes'):\n",
    "            self.val_classes = np.array(val_batches.classes)\n",
    "        elif hasattr(val_batches, 'y'):\n",
    "            self.val_classes = np.array(val_batches.y)\n",
    "        else:\n",
    "            raise ValueError(\"No known class in data batch\")\n",
    "        self.val_probs = self._calculate_predictions(val_batches)\n",
    "        return self.val_probs\n",
    "\n",
    "    def _calculate_train_predictions(self, train_batches):\n",
    "        if type(train_batches) is tuple:\n",
    "            self.train_classes = train_batches[1]\n",
    "        elif hasattr(train_batches, 'classes'):\n",
    "            self.train_classes = np.array(train_batches.classes)\n",
    "        elif hasattr(train_batches, 'y'):\n",
    "            self.train_classes = np.array(train_batches.y)\n",
    "        else:\n",
    "            raise ValueError(\"No known class in data batch\")\n",
    "        self.train_probs = self._calculate_predictions(train_batches)\n",
    "        return self.train_probs\n"
   ]
  },
  {
   "cell_type": "code",
   "execution_count": 5,
   "metadata": {},
   "outputs": [],
   "source": [
    "def train(model, X_train, y_train, X_val, y_val, epochs, batch_size, class_weight):\n",
    "    early_stopping = tf.keras.callbacks.EarlyStopping(\n",
    "        monitor='val_loss', patience=10)\n",
    "    history = model.fit(X_train, y_train, validation_data=(X_val, y_val), epochs=epochs, callbacks=[early_stopping],\n",
    "        batch_size=batch_size, verbose=2, class_weight=class_weight)\n",
    "    return history\n",
    "\n",
    "def train_fusioned(model, body_X_train, face_X_train, y_train, body_X_val, face_X_val, y_val, epochs, batch_size, class_weight):\n",
    "    early_stopping = tf.keras.callbacks.EarlyStopping(\n",
    "        monitor='val_loss', patience=10)\n",
    "    history = model.fit([body_X_train, face_X_train], y_train, validation_data=([body_X_val, face_X_val], y_val), \n",
    "                        epochs=epochs, batch_size=batch_size, callbacks=[early_stopping], class_weight=class_weight, verbose=2)\n",
    "    return history"
   ]
  },
  {
   "cell_type": "markdown",
   "metadata": {},
   "source": [
    "### Bidirectional LSTM Model\n",
    "\n",
    "Bidrectional LSTM runs the input in two ways (past to future and future to past) making it possible to preserve information both backwards and forwards. I included this layer type anticipating it could be suited for making the model understand context to assess any experience of pain. \n",
    "\n",
    "Additionally, bidrectional LSTM is used by [Bargshady et al.](https://pubmed.ncbi.nlm.nih.gov/34756219/) in an Ensemble combination of CNN+BiLSTM models for facial expressions modality. Their settings: \n",
    "\n",
    "- filters: 256\n",
    "- dense: 4096"
   ]
  },
  {
   "cell_type": "code",
   "execution_count": 6,
   "metadata": {},
   "outputs": [],
   "source": [
    "def build_biLSTM(n_features, n_length, n_outputs, neurons=100, kernel_size=3, activation='relu', kernel_initializer='glorot_uniform', dropout=0.0):\n",
    "    input = Input(shape=(1, n_length, n_features))\n",
    "    bilstm_1 = Bidirectional(ConvLSTM1D(filters=neurons, kernel_size=(kernel_size), activation=activation, return_sequences=True, kernel_initializer=kernel_initializer, dropout=dropout))(input)\n",
    "    bilstm_2 = Bidirectional(ConvLSTM1D(filters=neurons, kernel_size=(kernel_size), activation=activation, return_sequences=True, kernel_initializer=kernel_initializer, dropout=dropout))(bilstm_1)\n",
    "    bilstm_3 = Bidirectional(ConvLSTM1D(filters=neurons, kernel_size=(kernel_size), activation=activation, kernel_initializer=kernel_initializer, dropout=dropout))(bilstm_2)\n",
    "    flatten = Flatten()(bilstm_3)\n",
    "    dense = Dense(neurons, activation=activation)(flatten)\n",
    "    dense = Dense(neurons, activation=activation)(flatten)\n",
    "    output = Dense(units=n_outputs, activation='softmax')(dense)\n",
    "    model = Model(inputs=input, outputs=output)\n",
    "    model.compile(loss='categorical_crossentropy', optimizer='adam', metrics=['accuracy', tf.keras.metrics.AUC(), tf.keras.metrics.Precision(), tf.keras.metrics.Recall(), tfa.metrics.F1Score(num_classes=n_outputs, average='macro')])\n",
    "    return model\n",
    "\n",
    "def build_fusioned_biLSTM(body_features, face_features, n_length, n_outputs, neurons=100, kernel_size=3, activation='relu', kernel_initializer='glorot_uniform', dropout=0.0):\n",
    "    input_1 = Input(shape=(1, n_length, body_features))\n",
    "    bilstm_1 = Bidirectional(ConvLSTM1D(filters=neurons, kernel_size=(kernel_size), activation=activation, return_sequences=True, kernel_initializer=kernel_initializer, dropout=dropout))(input_1)\n",
    "    bilstm_11 = Bidirectional(ConvLSTM1D(filters=neurons, kernel_size=(kernel_size), activation=activation, return_sequences=True, kernel_initializer=kernel_initializer, dropout=dropout))(bilstm_1)\n",
    "    bilstm_111 = Bidirectional(ConvLSTM1D(filters=neurons, kernel_size=(kernel_size), activation=activation, kernel_initializer=kernel_initializer, dropout=dropout))(bilstm_11)\n",
    "    flatten_1 = Flatten()(bilstm_111)\n",
    "    dense_1 = Dense(neurons, activation=activation)(flatten_1)\n",
    "    dense_11 = Dense(neurons, activation=activation)(dense_1)\n",
    "\n",
    "    input_2 = Input(shape=(1, n_length, face_features))\n",
    "    bilstm_2 = Bidirectional(ConvLSTM1D(filters=neurons, kernel_size=(kernel_size), activation=activation, return_sequences=True, kernel_initializer=kernel_initializer))(input_2)\n",
    "    bilstm_22 = Bidirectional(ConvLSTM1D(filters=neurons, kernel_size=(kernel_size), activation=activation, return_sequences=True, kernel_initializer=kernel_initializer))(bilstm_2)\n",
    "    bilstm_222 = Bidirectional(ConvLSTM1D(filters=neurons, kernel_size=(kernel_size), activation=activation, kernel_initializer=kernel_initializer))(bilstm_22)\n",
    "    flatten_2 = Flatten()(bilstm_222)\n",
    "    dense_2 = Dense(neurons, activation=activation)(flatten_2)\n",
    "    dense_22 = Dense(neurons, activation=activation)(dense_2)\n",
    "\n",
    "    concat = Concatenate()([dense_11, dense_22])\n",
    "    output = Dense(units=n_outputs, activation='softmax')(concat)\n",
    "    model = Model(inputs=[input_1, input_2], outputs=[output])\n",
    "    model.compile(loss='categorical_crossentropy', optimizer='adam', metrics=['accuracy', tf.keras.metrics.AUC(), tf.keras.metrics.Precision(), tf.keras.metrics.Recall(), tfa.metrics.F1Score(num_classes=n_outputs, average='macro')])\n",
    "    return model"
   ]
  },
  {
   "cell_type": "markdown",
   "metadata": {},
   "source": [
    "### CNN+LSTM Model\n",
    "\n",
    "This combination was developed for visual time series prediction problems and is popular in both activity recognition and pain assessment areas.\n",
    "\n",
    "Several previous work has used CNN+LSTM models, for example:\n",
    "\n",
    "- [Yang et al.](https://arxiv.org/abs/2105.08822) to encode appearance changes and physiological cues from videos. \n",
    "\n",
    "- [Salekin et al.](https://arxiv.org/abs/2012.02175). Combines three modalities with (late) decision fusion. CNN filters start at 64 and gradually increses by a factor of 2 until 512. Used a small kernel size of 3, and follow with a pooling layer. Dense: 512. LSTM: 16 with activation tanh and recurrent activation hard sigmoid (because of binary classification). \n",
    "\n",
    "- [Haque et al.](https://ieeexplore-ieee-org.proxy.lnu.se/document/8373837) extracts RGB, thermal, depth features from videos and test two fusion strategies (early fusion received highest performance). LSTM hidden states vary between 64 and 256.\n",
    "\n",
    "- [Rodriguez et al.](https://ieeexplore-ieee-org.proxy.lnu.se/document/7849133). Trying to make an end-to-end framework using VGGFace architecture + LSTM."
   ]
  },
  {
   "cell_type": "code",
   "execution_count": 7,
   "metadata": {},
   "outputs": [],
   "source": [
    "def build_CNN(n_features, n_length, n_outputs, neurons=100, kernel_size=3, activation='relu', kernel_initializer='glorot_uniform', dropout=0.0):\n",
    "    input = Input(shape=(1, n_length, n_features))\n",
    "    conv1d_1 = TimeDistributed(Conv1D(filters=neurons, kernel_size=kernel_size, activation=activation, kernel_initializer=kernel_initializer, dropout=dropout))(input)\n",
    "    conv1d_2 = TimeDistributed(Conv1D(filters=neurons, kernel_size=kernel_size, activation=activation, kernel_initializer=kernel_initializer, dropout=dropout))(conv1d_1)\n",
    "    maxpool_1 = TimeDistributed(MaxPooling1D(pool_size=2, data_format='channels_first'))(conv1d_2)\n",
    "    conv1d_3 = TimeDistributed(Conv1D(filters=neurons, kernel_size=kernel_size, activation=activation, kernel_initializer=kernel_initializer, dropout=dropout))(maxpool_1)\n",
    "    conv1d_4 = TimeDistributed(Conv1D(filters=neurons, kernel_size=kernel_size, activation=activation, kernel_initializer=kernel_initializer, dropout=dropout))(conv1d_3)\n",
    "    maxpool_2 = TimeDistributed(MaxPooling1D(pool_size=2, data_format='channels_first'))(conv1d_4)\n",
    "    flatten = TimeDistributed(Flatten())(maxpool_2)\n",
    "    lstm_1 = LSTM(neurons, return_sequences=True)(flatten)\n",
    "    lstm_2 = LSTM(neurons)(lstm_1)\n",
    "    dense_1 = Dense(neurons, activation=activation)(lstm_2)\n",
    "    dense_2 = Dense(neurons, activation=activation)(dense_1)\n",
    "    output = Dense(units=n_outputs, activation='softmax')(dense_2)\n",
    "    model = Model(inputs=input, outputs=output)\n",
    "    model.compile(loss='categorical_crossentropy', optimizer='adam', metrics=['accuracy', tf.keras.metrics.AUC(), tf.keras.metrics.Precision(), tf.keras.metrics.Recall(), tfa.metrics.F1Score(num_classes=n_outputs, average='macro')])\n",
    "    return model\n",
    "\n",
    "def build_fusioned_CNN(body_features, face_features, n_length, n_outputs, neurons=100, kernel_size=3, activation='relu', kernel_initializer='glorot_uniform', dropout=0.0):\n",
    "    input_1 = Input(shape=(1, n_length, body_features))\n",
    "    conv1d_1 = TimeDistributed(Conv1D(filters=neurons, kernel_size=kernel_size, activation=activation, kernel_initializer=kernel_initializer, dropout=dropout))(input_1)\n",
    "    conv1d_11 = TimeDistributed(Conv1D(filters=neurons, kernel_size=kernel_size, activation=activation, kernel_initializer=kernel_initializer, dropout=dropout))(conv1d_1)\n",
    "    maxpool_1 = TimeDistributed(MaxPooling1D(pool_size=2, data_format='channels_first'))(conv1d_11)\n",
    "    conv1d_111 = TimeDistributed(Conv1D(filters=neurons, kernel_size=kernel_size, activation=activation, kernel_initializer=kernel_initializer, dropout=dropout))(maxpool_1)\n",
    "    conv1d_1111 = TimeDistributed(Conv1D(filters=neurons, kernel_size=kernel_size, activation=activation, kernel_initializer=kernel_initializer, dropout=dropout))(conv1d_111)\n",
    "    maxpool_11 = TimeDistributed(MaxPooling1D(pool_size=2, data_format='channels_first'))(conv1d_1111)\n",
    "    flatten_1 = TimeDistributed(Flatten())(maxpool_11)\n",
    "    lstm_1 = LSTM(neurons, return_sequences=True)(flatten_1)\n",
    "    lstm_11 = LSTM(neurons)(lstm_1)\n",
    "    dense_1 = Dense(neurons, activation=activation)(lstm_11)\n",
    "    dense_11 = Dense(neurons, activation=activation)(dense_1)\n",
    "\n",
    "    input_2 = Input(shape=(1, n_length, face_features))\n",
    "    conv1d_2 = TimeDistributed(Conv1D(filters=neurons, kernel_size=kernel_size, activation=activation, kernel_initializer=kernel_initializer, dropout=dropout))(input_2)\n",
    "    conv1d_22 = TimeDistributed(Conv1D(filters=neurons, kernel_size=kernel_size, activation=activation, kernel_initializer=kernel_initializer, dropout=dropout))(conv1d_2)\n",
    "    maxpool_2 = TimeDistributed(MaxPooling1D(pool_size=2, data_format='channels_first'))(conv1d_22)\n",
    "    conv1d_222 = TimeDistributed(Conv1D(filters=neurons, kernel_size=kernel_size, activation=activation, kernel_initializer=kernel_initializer, dropout=dropout))(maxpool_2)\n",
    "    conv1d_2222 = TimeDistributed(Conv1D(filters=neurons, kernel_size=kernel_size, activation=activation, kernel_initializer=kernel_initializer, dropout=dropout))(conv1d_222)\n",
    "    maxpool_22 = TimeDistributed(MaxPooling1D(pool_size=2, data_format='channels_first'))(conv1d_2222)\n",
    "    flatten_2 = TimeDistributed(Flatten())(maxpool_22)\n",
    "    lstm_2 = LSTM(neurons, return_sequences=True)(flatten_2)\n",
    "    lstm_22 = LSTM(neurons)(lstm_2)\n",
    "    dense_2 = Dense(neurons, activation=activation)(lstm_22)\n",
    "    dense_22 = Dense(neurons, activation=activation)(dense_2)\n",
    "\n",
    "    concat = Concatenate()([dense_11, dense_22])\n",
    "    output = Dense(units=n_outputs, activation='softmax')(concat)\n",
    "    model = Model(inputs=[input_1, input_2], outputs=[output])\n",
    "    model.compile(loss='categorical_crossentropy', optimizer='adam', metrics=['accuracy', tf.keras.metrics.AUC(), tf.keras.metrics.Precision(), tf.keras.metrics.Recall(), tfa.metrics.F1Score(num_classes=n_outputs, average='macro')])\n",
    "    return model"
   ]
  },
  {
   "cell_type": "markdown",
   "metadata": {},
   "source": [
    "### Convolutional LSTM Model\n",
    "\n",
    "A CNN-LSTM (model above) is an integration of a CNN with an LSTM, but ConvLSTM is a kind of LSTM which replaces the matrix multiplication with convolution operation at each gate in the LSTM cell.\n",
    "\n",
    "I have not encountered this layer type when preparing the training protocol (from previous work), but I find it interesting to see if it could give different results."
   ]
  },
  {
   "cell_type": "code",
   "execution_count": 8,
   "metadata": {},
   "outputs": [],
   "source": [
    "def build_convLSTM(n_features, n_length, n_outputs, neurons=100, kernel_size=3, activation='relu', kernel_initializer='glorot_uniform', dropout=0.0):\n",
    "    input = Input(shape=(1, n_length, n_features))\n",
    "    convlstm_1 = ConvLSTM1D(filters=neurons, kernel_size=(kernel_size), activation=activation, return_sequences=True, kernel_initializer=kernel_initializer, dropout=dropout)(input)\n",
    "    convlstm_2 = ConvLSTM1D(filters=neurons, kernel_size=(kernel_size), activation=activation, kernel_initializer=kernel_initializer, dropout=dropout)(convlstm_1)\n",
    "    flatten = Flatten()(convlstm_2)\n",
    "    dense_1 = Dense(neurons, activation=activation)(flatten)\n",
    "    dense_2 = Dense(neurons, activation=activation)(dense_1)\n",
    "    output = Dense(units=n_outputs, activation='softmax')(dense_2)\n",
    "    model = Model(inputs=input, outputs=output)\n",
    "    model.compile(loss='categorical_crossentropy', optimizer='adam', metrics=['accuracy', tf.keras.metrics.AUC(), tf.keras.metrics.Precision(), tf.keras.metrics.Recall(), tfa.metrics.F1Score(num_classes=n_outputs, average='macro')])\n",
    "    return model\n",
    "\n",
    "def build_fusioned_convLSTM(body_features, face_features, n_length, n_outputs, neurons=100, kernel_size=3, activation='relu', kernel_initializer='glorot_uniform', dropout=0.0):\n",
    "    input_1 = Input(shape=(1, n_length, body_features))\n",
    "    convlstm_1 = ConvLSTM1D(filters=neurons, kernel_size=(kernel_size), activation=activation, return_sequences=True, kernel_initializer=kernel_initializer, dropout=dropout)(input_1)\n",
    "    convlstm_11 = ConvLSTM1D(filters=neurons, kernel_size=(kernel_size), activation=activation, kernel_initializer=kernel_initializer, dropout=dropout)(convlstm_1)\n",
    "    flatten_1 = Flatten()(convlstm_11)\n",
    "    dense_1 = Dense(neurons, activation=activation)(flatten_1)\n",
    "    dense_11 = Dense(neurons, activation=activation)(dense_1)\n",
    "\n",
    "    input_2 = Input(shape=(1, n_length, face_features))\n",
    "    convlstm_2 = ConvLSTM1D(filters=neurons, kernel_size=(kernel_size), activation=activation, return_sequences=True, kernel_initializer=kernel_initializer, dropout=dropout)(input_2)\n",
    "    convlstm_22 = ConvLSTM1D(filters=neurons, kernel_size=(kernel_size), activation=activation, kernel_initializer=kernel_initializer, dropout=dropout)(convlstm_2)\n",
    "    flatten_2 = Flatten()(convlstm_22)\n",
    "    dense_2 = Dense(neurons, activation=activation)(flatten_2)\n",
    "    dense_22 = Dense(neurons, activation=activation)(dense_2)\n",
    "\n",
    "    concat = Concatenate()([dense_11, dense_22])\n",
    "    output = Dense(units=n_outputs, activation='softmax')(concat)\n",
    "    model = Model(inputs=[input_1, input_2], outputs=[output])\n",
    "    model.compile(loss='categorical_crossentropy', optimizer='adam', metrics=['accuracy', tf.keras.metrics.AUC(), tf.keras.metrics.Precision(), tf.keras.metrics.Recall(), tfa.metrics.F1Score(num_classes=n_outputs, average='macro')])\n",
    "    return model"
   ]
  },
  {
   "cell_type": "markdown",
   "metadata": {},
   "source": [
    "### RCNN (Recurrent CNN) Model\n",
    "\n",
    "A network that has both convolutional and recurrent convolutional layers, or adding recurrent connections within every convolutional layer of a feed-forward CNN.\n",
    "\n",
    "Additionally, RCNN is used by [Zhou et al.](https://ieeexplore-ieee-org.proxy.lnu.se/document/7789681) with video input for pain intensity prediction using PSPI."
   ]
  },
  {
   "cell_type": "code",
   "execution_count": 9,
   "metadata": {},
   "outputs": [],
   "source": [
    "def build_RCNN(n_features, n_length, n_outputs, neurons=100, kernel_size=3, activation='relu', kernel_initializer='glorot_uniform', dropout=0.0):\n",
    "   input = Input(shape=(1, n_length, n_features))\n",
    "   conv1d_1 = TimeDistributed(Conv1D(filters=neurons, kernel_size=kernel_size, activation=PReLU(alpha_initializer=Constant(value=0.25)), kernel_initializer='glorot_uniform', dropout=0.0))(input)\n",
    "   bn_1 = TimeDistributed(BatchNormalization())(conv1d_1)\n",
    "   maxpool_1 = TimeDistributed(MaxPooling1D(pool_size=2, data_format='channels_first'))(bn_1)\n",
    "   conv1d_2 = TimeDistributed(Conv1D(filters=neurons, kernel_size=kernel_size, activation=PReLU(alpha_initializer=Constant(value=0.25)), kernel_initializer='glorot_uniform', dropout=0.0))(maxpool_1)\n",
    "   bn_2 = TimeDistributed(BatchNormalization())(conv1d_2)\n",
    "   maxpool_2 = TimeDistributed(MaxPooling1D(pool_size=2, data_format='channels_first'))(bn_2)\n",
    "   flatten = Flatten()(maxpool_2)\n",
    "   dense_1 = Dense(neurons, activation=activation)(flatten)\n",
    "   dense_2 = Dense(neurons, activation=activation)(dense_1)\n",
    "   output = Dense(units=n_outputs, activation='softmax')(dense_2)\n",
    "   model = Model(inputs=input, outputs=output)\n",
    "   model.compile(loss='categorical_crossentropy', optimizer='adam', metrics=['accuracy', tf.keras.metrics.AUC(), tf.keras.metrics.Precision(), tf.keras.metrics.Recall(), tfa.metrics.F1Score(num_classes=n_outputs, average='macro')])\n",
    "   return model\n",
    "\n",
    "def build_fusioned_RCNN(body_features, face_features, n_length, n_outputs, neurons=100, kernel_size=3, activation='relu', kernel_initializer='glorot_uniform', dropout=0.0):\n",
    "   input_1 = Input(shape=(1, n_length, body_features))\n",
    "   conv1d_1 = TimeDistributed(Conv1D(filters=neurons, kernel_size=kernel_size, activation=PReLU(alpha_initializer=Constant(value=0.25)), kernel_initializer='glorot_uniform', dropout=0.0))(input_1)\n",
    "   bn_1 = TimeDistributed(BatchNormalization())(conv1d_1)\n",
    "   maxpool_1 = TimeDistributed(MaxPooling1D(pool_size=2, data_format='channels_first'))(bn_1)\n",
    "   conv1d_11 = TimeDistributed(Conv1D(filters=neurons, kernel_size=kernel_size, activation=PReLU(alpha_initializer=Constant(value=0.25)), kernel_initializer='glorot_uniform', dropout=0.0))(maxpool_1)\n",
    "   bn_11 = TimeDistributed(BatchNormalization())(conv1d_11)\n",
    "   maxpool_11 = TimeDistributed(MaxPooling1D(pool_size=2, data_format='channels_first'))(bn_11)\n",
    "   flatten_1 = Flatten()(maxpool_11)\n",
    "   dense_1 = Dense(neurons, activation=activation)(flatten_1)\n",
    "   dense_11 = Dense(neurons, activation=activation)(dense_1)\n",
    "\n",
    "   input_2 = Input(shape=(1, n_length, face_features))\n",
    "   conv1d_2 = TimeDistributed(Conv1D(filters=neurons, kernel_size=kernel_size, activation=PReLU(alpha_initializer=Constant(value=0.25)), kernel_initializer='glorot_uniform', dropout=0.0))(input_2)\n",
    "   bn_2 = TimeDistributed(BatchNormalization())(conv1d_2)\n",
    "   maxpool_2 = TimeDistributed(MaxPooling1D(pool_size=2, data_format='channels_first'))(bn_2)\n",
    "   conv1d_22 = TimeDistributed(Conv1D(filters=neurons, kernel_size=kernel_size, activation=PReLU(alpha_initializer=Constant(value=0.25)), kernel_initializer='glorot_uniform', dropout=0.0))(maxpool_2)\n",
    "   bn_22 = TimeDistributed(BatchNormalization())(conv1d_22)\n",
    "   maxpool_22 = TimeDistributed(MaxPooling1D(pool_size=2, data_format='channels_first'))(bn_22)\n",
    "   flatten_2 = Flatten()(maxpool_22)\n",
    "   dense_2 = Dense(neurons, activation=activation)(flatten_2)\n",
    "   dense_22 = Dense(neurons, activation=activation)(dense_2)\n",
    "\n",
    "   concat = Concatenate()([dense_11, dense_22])\n",
    "   output = Dense(units=n_outputs, activation='softmax')(concat)\n",
    "   model = Model(inputs=[input_1, input_2], outputs=[output])\n",
    "   model.compile(loss='categorical_crossentropy', optimizer='adam', metrics=['accuracy', tf.keras.metrics.AUC(), tf.keras.metrics.Precision(), tf.keras.metrics.Recall(), tfa.metrics.F1Score(num_classes=n_outputs, average='macro')])\n",
    "   return model"
   ]
  },
  {
   "cell_type": "code",
   "execution_count": 10,
   "metadata": {},
   "outputs": [],
   "source": [
    "class StackEnsemble():\n",
    "    def __init__(self, model=None):\n",
    "        self.model = model\n",
    "        if model is None:\n",
    "            self.model = RandomForestClassifier(n_estimators=100, max_depth=4, n_jobs=20)\n",
    "        # Initialize Parameters:\n",
    "        self.members = []\n",
    "        self._nmembers = 0\n",
    "        self.predictions = None\n",
    "        self._y_squeezed = False  # Flags if labels dimension must be squeezed\n",
    "\n",
    "    def __repr__(self):\n",
    "        reps = [member.name for member in self.members]\n",
    "        return \"<StackEnsemble: [\" + \", \".join(reps) + \"]>\"\n",
    "\n",
    "    def __str__(self):\n",
    "        reps = [member.name for member in self.members]\n",
    "        return \"StackEnsemble: with\" + \\\n",
    "            str(self._nmembers) + \" Base-Learners [\" + \", \".join(reps) + \"]\"\n",
    "\n",
    "    def add_members(self, members):\n",
    "        for member in members:\n",
    "            self.add_member(member)\n",
    "        self._test()\n",
    "\n",
    "    def add_member(self, member):\n",
    "        self.members.append(member)\n",
    "        self._nmembers += 1\n",
    "        if member.val_probs is None:\n",
    "            try:\n",
    "                member.val_probs = member._calculate_val_predictions()\n",
    "            except Exception as e:\n",
    "                warnings.warn(str(e))\n",
    "        if member.train_probs is None:\n",
    "            try:\n",
    "                member.train_probs = member._calculate_train_predictions()\n",
    "            except Exception as e:\n",
    "                warnings.warn(str(e))\n",
    "\n",
    "    def fit(self, X=None, y=None, kwargs={}):\n",
    "        assert(len(self.members) > 1)\n",
    "        # Assumption: all members have same train_batches.classes\n",
    "        if X is None or y is None:\n",
    "            return self._fit_train()\n",
    "        if X.ndim >= 3:\n",
    "            X = X.reshape(X.shape[0], np.prod(X.shape[1::]))\n",
    "        try:\n",
    "            self._y_squeezed = False\n",
    "            return self.model.fit(X, y, **kwargs)\n",
    "        except ValueError:  # Normally bad input shape for non-multi-output models\n",
    "            self._y_squeezed = True\n",
    "            y_flat = np.argmax(y, axis=1)\n",
    "            return self.model.fit(X, y_flat, **kwargs)\n",
    "\n",
    "    def predict(self, X, predict_proba=False, kwargs={}):\n",
    "        if X is None:\n",
    "            X = self._get_pred_X()\n",
    "        if X.ndim == 3:\n",
    "            X = X.reshape(X.shape[0], X.shape[1] * X.shape[2])\n",
    "        if (predict_proba or self._y_squeezed) and hasattr(self.model, 'predict_proba'):\n",
    "            self.predictions = self.model.predict_proba(X, **kwargs)\n",
    "        elif hasattr(self.model, 'predict'):\n",
    "            self.predictions = self.model.predict(X, **kwargs)\n",
    "        else:\n",
    "            raise ValueError(\"Model has no predict function\")\n",
    "        return np.array(self.predictions)\n",
    "\n",
    "    def describe(self, probabilities_val=None, metric=None, maximize=True):\n",
    "        best_score = float(\"-inf\") if maximize else float(\"inf\")\n",
    "        if metric is None:\n",
    "            metric = roc_auc_score\n",
    "        if probabilities_val is None:\n",
    "            probabilities_val = self._predict_val()\n",
    "        # Assumption: all members have same val_classes\n",
    "        val_classes = self.members[0].val_classes\n",
    "        for i in range(self._nmembers):\n",
    "            member = self.members[i]\n",
    "            auc_score = _calculate_metric(\n",
    "                member.val_classes, member.val_probs)\n",
    "            acc_score = _calculate_metric(\n",
    "                member.val_classes, member.val_probs, accuracy_score)\n",
    "            prf1 = _calculate_metric(\n",
    "                member.val_classes, member.val_probs, precision_recall_fscore_support)\n",
    "            p = prf1[0]\n",
    "            r = prf1[1]\n",
    "            f1 = prf1[2]\n",
    "            max_flag = maximize and auc_score > best_score\n",
    "            min_flag = not(maximize) and auc_score < best_score\n",
    "            if max_flag or min_flag:\n",
    "                best_score = auc_score\n",
    "            text = member.name + \" - Accuracy: {:1.2f}% - ROC/AUC: {:1.2f} - Precision: {:1.2f} - Recall: {:1.2f} - F1 score: {:1.2f}\".format(\n",
    "                auc_score, acc_score * 100, p, r, f1)\n",
    "        ensemble_score = _calculate_metric(\n",
    "            val_classes, probabilities_val)\n",
    "        ensemble_accuracy = _calculate_metric(\n",
    "                val_classes, probabilities_val, accuracy_score)\n",
    "        ensemble_prf1 = _calculate_metric(\n",
    "                val_classes, probabilities_val, precision_recall_fscore_support)\n",
    "        ensemble_p = ensemble_prf1[0]\n",
    "        ensemble_r = ensemble_prf1[1]\n",
    "        ensemble_f1 = ensemble_prf1[2]\n",
    "        print(\"Accuracy: {:1.2f}% - ROC/AUC: {:1.2f} - Precision: {:1.2f} - Recall: {:1.2f} - F1 score: {:1.2f}\".format(\n",
    "            ensemble_accuracy * 100, ensemble_score, ensemble_p, ensemble_r, ensemble_f1))\n",
    "        return ensemble_score\n",
    "\n",
    "    def _get_X(self, attrname):\n",
    "        X = []\n",
    "        probs = getattr(self.members[0], attrname)\n",
    "        # Assumption: all members have same train_probs length\n",
    "        for i in range(len(probs)):\n",
    "            preds = []\n",
    "            for member in self.members:\n",
    "                preds.append(getattr(member, attrname)[i])\n",
    "            X.append(preds)\n",
    "        return np.array(X)\n",
    "\n",
    "    def _get_train_X(self):\n",
    "        return self._get_X(\"train_probs\")\n",
    "\n",
    "    def _get_val_X(self):\n",
    "        return self._get_X(\"val_probs\")\n",
    "\n",
    "    def _get_pred_X(self):\n",
    "        return self._get_X(\"submission_probs\")\n",
    "\n",
    "    def _fit_train(self):\n",
    "        return self.fit(self._get_train_X(), self.members[0].train_classes)\n",
    "\n",
    "    def _fit_submission(self):\n",
    "        X1 = self._get_train_X()\n",
    "        X2 = self._get_val_X()\n",
    "        y1 = self.members[0].train_classes\n",
    "        y2 = self.members[0].val_classes\n",
    "        X = np.concatenate((X1, X2))\n",
    "        y = np.concatenate((y1, y2))\n",
    "        return self.fit(X, y)\n",
    "\n",
    "    def _predict_val(self):\n",
    "        return self.predict(self._get_val_X())\n",
    "\n",
    "\n",
    "def _calculate_metric(y_true, y_pred, metric=None):\n",
    "    if metric is None:\n",
    "        metric = roc_auc_score\n",
    "    y_t = y_true\n",
    "    y_p = y_pred\n",
    "    if metric == roc_auc_score:\n",
    "        return metric(y_t, y_p, multi_class='ovo')\n",
    "    if y_true.ndim > 1:\n",
    "        y_t = np.argmax(y_true, axis=1)\n",
    "    if y_pred.ndim > 1:\n",
    "        y_p = np.argmax(y_pred, axis=1)\n",
    "    if metric is precision_recall_fscore_support:\n",
    "        return precision_recall_fscore_support(y_t, y_p, average='macro')\n",
    "    return metric(y_t, y_p)"
   ]
  },
  {
   "cell_type": "markdown",
   "metadata": {},
   "source": [
    "### Dirichlet Markov Ensemble with soft voting\n",
    "\n",
    "The Dirichlet ensemble weights the ensemble members based on validation set performance. The weight optimization search is performed with randomized search based on the dirichlet distribution. \n",
    "    \n",
    "Soft voting involves summing the predicted probability scores for each class label and predicting the class label with the largest probability."
   ]
  },
  {
   "cell_type": "code",
   "execution_count": 11,
   "metadata": {},
   "outputs": [],
   "source": [
    "class DirichletEnsemble():\n",
    "    def __init__(self, N=10000, metric=None, maximize=True):\n",
    "        self.n = N\n",
    "        self.metric = metric\n",
    "        if metric is None:\n",
    "            self.metric = roc_auc_score\n",
    "        self.maximize = maximize\n",
    "        # Initialize Parameters:\n",
    "        self.members = []\n",
    "        self.bestweights = []\n",
    "        self.probabilities = None\n",
    "        self._nmembers = 0\n",
    "        self.bestscore = float(\"-inf\") if maximize else float(\"inf\")\n",
    "        self.accuracy = None\n",
    "        self.precision = None\n",
    "        self.recall = None\n",
    "        self.f1 = None\n",
    "        self.fitted = False\n",
    "\n",
    "    def add_members(self, members):\n",
    "        for member in members:\n",
    "            self.add_member(member)\n",
    "\n",
    "    def add_member(self, member):\n",
    "        self.members.append(member)\n",
    "        self._nmembers += 1\n",
    "\n",
    "    def fit(self, verbose=False):\n",
    "        assert(len(self.members) > 1)\n",
    "        val_classes = self.members[0].val_classes\n",
    "        best_ensemble_score = float(\"-inf\") if self.maximize else float(\"inf\")\n",
    "        best_ensemble_accuracy = 0\n",
    "        best_ensemble_p = 0\n",
    "        best_ensemble_r = 0\n",
    "        best_ensemble_f1 = 0\n",
    "        rsbest = None\n",
    "        for i in range(self.n):\n",
    "            rs = np.random.dirichlet(np.ones(self._nmembers), size=1)[0]\n",
    "            preds = np.sum(np.array([self.members[i].val_probs * rs[i]\n",
    "                                     for i in range(self._nmembers)]), axis=0)\n",
    "            ensemble_score = _calculate_metric(val_classes, preds)\n",
    "            ensemble_accuracy = _calculate_metric(val_classes, preds, accuracy_score)\n",
    "            ensemble_prf1 = _calculate_metric(val_classes, preds, precision_recall_fscore_support)\n",
    "            ensemble_p = ensemble_prf1[0]\n",
    "            ensemble_r = ensemble_prf1[1]\n",
    "            ensemble_f1 = ensemble_prf1[2]\n",
    "            max_flag = self.maximize and ensemble_score > best_ensemble_score\n",
    "            min_flag = not(\n",
    "                self.maximize) and ensemble_score < best_ensemble_score\n",
    "            if max_flag or min_flag:\n",
    "                if verbose:\n",
    "                    print(ensemble_score, i, rs) \n",
    "                best_ensemble_score = ensemble_score\n",
    "                rsbest = rs\n",
    "            if ensemble_accuracy > best_ensemble_accuracy:\n",
    "                if verbose:\n",
    "                    print(ensemble_accuracy, i, rs) \n",
    "                best_ensemble_accuracy = ensemble_accuracy\n",
    "            if ensemble_p > best_ensemble_p:\n",
    "                if verbose:\n",
    "                    print(ensemble_p, i, rs) \n",
    "                best_ensemble_p = ensemble_p\n",
    "            if ensemble_r > best_ensemble_r:\n",
    "                if verbose:\n",
    "                    print(ensemble_r, i, rs) \n",
    "                best_ensemble_r = ensemble_r\n",
    "            if ensemble_f1 > best_ensemble_f1:\n",
    "                if verbose:\n",
    "                    print(ensemble_f1, i, rs) \n",
    "                best_ensemble_f1 = ensemble_f1\n",
    "        self.bestweights = rsbest\n",
    "        self.bestscore = best_ensemble_score\n",
    "        self.accuracy = best_ensemble_accuracy\n",
    "        self.precision = best_ensemble_p\n",
    "        self.recall = best_ensemble_r\n",
    "        self.f1 = best_ensemble_f1\n",
    "\n",
    "    def predict(self):\n",
    "        self.probabilities = np.sum(np.array([self.bestweights[i] *\n",
    "                                              self.members[i].submission_probs\n",
    "                                              for i in range(self._nmembers)]),\n",
    "                                    axis=0)\n",
    "        return self.probabilities\n",
    "        \n",
    "    def describe(self):\n",
    "        for i in range(self._nmembers):\n",
    "            member = self.members[i]\n",
    "            text = member.name + \" (weight: {:1.4f})\".format(self.bestweights[i])\n",
    "            print(text)\n",
    "        print(\"Accuracy: {:1.2f}% - ROC/AUC: {:1.2f} - Precision: {:1.2f} - Recall: {:1.2f} - F1 score: {:1.2f}\".format(\n",
    "            self.accuracy * 100, self.bestscore, self.precision, self.recall, self.f1))\n",
    "        return"
   ]
  },
  {
   "cell_type": "markdown",
   "metadata": {},
   "source": [
    "### KFold CV"
   ]
  },
  {
   "cell_type": "code",
   "execution_count": 12,
   "metadata": {},
   "outputs": [],
   "source": [
    "kf = KFold(n_splits=3, shuffle=True, random_state=42)\n",
    "epochs, batch_size = 15, 32"
   ]
  },
  {
   "cell_type": "markdown",
   "metadata": {},
   "source": [
    "### Grid Search CV"
   ]
  },
  {
   "cell_type": "code",
   "execution_count": 13,
   "metadata": {},
   "outputs": [],
   "source": [
    "batch_sizes = [32, 64, 128, 256, 512]\n",
    "activation = ['relu', 'tanh']\n",
    "neurons = [50, 100, 250, 500]\n",
    "kernel_size = [3, 5]\n",
    "kernel_initializer = ['glorot_uniform', 'glorot_normal', 'he_uniform', 'he_normal', 'random_uniform', 'random_normal']\n",
    "dropout = [0.0, 0.2, 0.5]"
   ]
  },
  {
   "cell_type": "markdown",
   "metadata": {},
   "source": [
    "## 1. Uni-modal approaches\n",
    "\n",
    "Training the different model architectures on single modalities (skeleton vs action units). "
   ]
  },
  {
   "cell_type": "markdown",
   "metadata": {},
   "source": [
    "### About the data"
   ]
  },
  {
   "cell_type": "code",
   "execution_count": 14,
   "metadata": {},
   "outputs": [
    {
     "name": "stdout",
     "output_type": "stream",
     "text": [
      "(525, 1, 350, 38) (525, 4)\n",
      "(90, 1, 350, 38) (90, 4)\n"
     ]
    }
   ],
   "source": [
    "full_body_X_train, full_body_X_test, full_body_y_train, full_body_y_test, body_feature_names, classes = load_dataset('processed', 'skeleton')\n",
    "full_body_X = full_body_X_train.copy()\n",
    "full_body_y = full_body_y_train.copy()\n",
    "\n",
    "print(full_body_X_train.shape, full_body_y_train.shape)\n",
    "print(full_body_X_test.shape, full_body_y_test.shape)\n",
    "\n",
    "n_length, body_features, body_outputs = full_body_X_train.shape[2], full_body_X_train.shape[-1], full_body_y_test.shape[1]"
   ]
  },
  {
   "cell_type": "code",
   "execution_count": 15,
   "metadata": {},
   "outputs": [
    {
     "data": {
      "text/plain": [
       "['head_x',\n",
       " 'head_y',\n",
       " 'head_score',\n",
       " 'left_shoulder_x',\n",
       " 'left_shoulder_y',\n",
       " 'left_shoulder_score',\n",
       " 'left_elbow_x',\n",
       " 'left_elbow_y',\n",
       " 'left_elbow_score',\n",
       " 'right_shoulder_x',\n",
       " 'right_shoulder_y',\n",
       " 'right_shoulder_score',\n",
       " 'right_elbow_x',\n",
       " 'right_elbow_y',\n",
       " 'right_elbow_score',\n",
       " 'left_hand_x',\n",
       " 'left_hand_y',\n",
       " 'left_hand_score',\n",
       " 'right_hand_x',\n",
       " 'right_hand_y',\n",
       " 'right_hand_score',\n",
       " 'left_hip_x',\n",
       " 'left_hip_y',\n",
       " 'left_hip_score',\n",
       " 'right_hip_x',\n",
       " 'right_hip_y',\n",
       " 'right_hip_score',\n",
       " 'left_knee_x',\n",
       " 'left_knee_y',\n",
       " 'left_knee_score',\n",
       " 'right_knee_x',\n",
       " 'right_knee_y',\n",
       " 'right_knee_score',\n",
       " 'left_foot_x',\n",
       " 'left_foot_y',\n",
       " 'left_foot_score',\n",
       " 'right_foot_x',\n",
       " 'right_foot_y']"
      ]
     },
     "execution_count": 15,
     "metadata": {},
     "output_type": "execute_result"
    }
   ],
   "source": [
    "body_feature_names"
   ]
  },
  {
   "cell_type": "markdown",
   "metadata": {},
   "source": [
    "The train dataset is imbalanced"
   ]
  },
  {
   "cell_type": "code",
   "execution_count": 16,
   "metadata": {},
   "outputs": [
    {
     "name": "stdout",
     "output_type": "stream",
     "text": [
      "LowerBody Mild : 277 (52.8% of total)\n",
      "LowerBody Moderate : 197 (37.5% of total)\n",
      "UpperBody Mild : 49 (9.3% of total)\n",
      "UpperBody Moderate : 2 (0.4% of total)\n"
     ]
    }
   ],
   "source": [
    "umild, lmoderate, lmild, umoderate = np.sum(full_body_y, axis=0)\n",
    "total = umild + lmoderate + lmild + umoderate\n",
    "\n",
    "print(classes[0], ':', umild, '({:.1f}% of total)'.format(umild / total * 100))\n",
    "print(classes[2], ':', lmild, '({:.1f}% of total)'.format(lmild / total * 100))\n",
    "print(classes[1], ':', lmoderate, '({:.1f}% of total)'.format(lmoderate / total * 100))\n",
    "print(classes[3], ':', umoderate, '({:.1f}% of total)'.format(umoderate / total * 100))"
   ]
  },
  {
   "cell_type": "code",
   "execution_count": 17,
   "metadata": {},
   "outputs": [
    {
     "name": "stdout",
     "output_type": "stream",
     "text": [
      "Weight for class 0: 0.95\n",
      "Weight for class 1: 5.36\n",
      "Weight for class 2: 1.33\n",
      "Weight for class 3: 131.25\n"
     ]
    }
   ],
   "source": [
    "weight_for_0 = (1 / umild) * (total / 2.0)\n",
    "weight_for_1 = (1 / lmoderate) * (total / 2.0)\n",
    "weight_for_2 = (1 / lmild) * (total / 2.0)\n",
    "weight_for_3 = (1 / umoderate) * (total / 2.0)\n",
    "\n",
    "class_weight = {0: weight_for_0, 1: weight_for_1, 2: weight_for_2, 3: weight_for_3}\n",
    "\n",
    "print('Weight for class 0: {:.2f}'.format(weight_for_0))\n",
    "print('Weight for class 1: {:.2f}'.format(weight_for_1))\n",
    "print('Weight for class 2: {:.2f}'.format(weight_for_2))\n",
    "print('Weight for class 3: {:.2f}'.format(weight_for_3))"
   ]
  },
  {
   "cell_type": "code",
   "execution_count": 18,
   "metadata": {},
   "outputs": [
    {
     "name": "stdout",
     "output_type": "stream",
     "text": [
      "(509, 1, 350, 10) (509, 4)\n",
      "(88, 1, 350, 10) (88, 4)\n"
     ]
    }
   ],
   "source": [
    "face_X_train, face_X_test, face_y_train, face_y_test, face_feature_names, c = load_dataset('processed', 'AUs')\n",
    "face_X = face_X_train.copy()\n",
    "face_y = face_y_train.copy()\n",
    "\n",
    "print(face_X_train.shape, face_y_train.shape)\n",
    "print(face_X_test.shape, face_y_test.shape)\n",
    "\n",
    "n_length, face_features, face_outputs = face_X_train.shape[2], face_X_train.shape[-1], face_y_train.shape[1]"
   ]
  },
  {
   "cell_type": "code",
   "execution_count": 19,
   "metadata": {},
   "outputs": [
    {
     "data": {
      "text/plain": [
       "['confidence',\n",
       " 'AU04_r',\n",
       " 'AU06_r',\n",
       " 'AU07_r',\n",
       " 'AU09_r',\n",
       " 'AU10_r',\n",
       " 'AU04_c',\n",
       " 'AU06_c',\n",
       " 'AU07_c',\n",
       " 'AU09_c']"
      ]
     },
     "execution_count": 19,
     "metadata": {},
     "output_type": "execute_result"
    }
   ],
   "source": [
    "face_feature_names"
   ]
  },
  {
   "cell_type": "markdown",
   "metadata": {},
   "source": [
    "### 1.1 Body modality (skeleton) models"
   ]
  },
  {
   "cell_type": "markdown",
   "metadata": {},
   "source": [
    "#### Train BiLSTM"
   ]
  },
  {
   "cell_type": "code",
   "execution_count": 58,
   "metadata": {},
   "outputs": [],
   "source": [
    "body_best_biconv_acc = 0.0\n",
    "body_best_biconv_auc = 0.0\n",
    "body_biconv_loss = float(\"inf\")\n",
    "body_best_biconv_model = None\n",
    "body_biconv_values = { 'batch_size': 0, 'activation': '', 'neurons': 0, 'kernel_size': 0, 'kernel_initializer': '', 'dropout': float(\"inf\") }"
   ]
  },
  {
   "cell_type": "code",
   "execution_count": 60,
   "metadata": {},
   "outputs": [
    {
     "name": "stdout",
     "output_type": "stream",
     "text": [
      "Batch size 32 Activation relu Neurons 50 Kernel size 3 Kernel initializer glorot_uniform Dropout 0.0\n",
      "Epoch 1/15\n",
      "11/11 - 76s - loss: 13.0316 - accuracy: 0.3771 - auc_175: 0.6225 - precision_175: 0.3979 - recall_175: 0.3229 - f1_score: 0.2340 - val_loss: 1.9616 - val_accuracy: 0.2743 - val_auc_175: 0.6095 - val_precision_175: 0.2381 - val_recall_175: 0.1143 - val_f1_score: 0.1946 - 76s/epoch - 7s/step\n",
      "Epoch 2/15\n",
      "11/11 - 3s - loss: 4.1876 - accuracy: 0.3286 - auc_175: 0.6418 - precision_175: 0.3607 - recall_175: 0.1257 - f1_score: 0.2040 - val_loss: 1.1714 - val_accuracy: 0.3429 - val_auc_175: 0.6934 - val_precision_175: 0.3333 - val_recall_175: 0.0914 - val_f1_score: 0.1905 - 3s/epoch - 286ms/step\n",
      "Epoch 3/15\n",
      "11/11 - 3s - loss: 4.7287 - accuracy: 0.4029 - auc_175: 0.7357 - precision_175: 0.4779 - recall_175: 0.1543 - f1_score: 0.2427 - val_loss: 1.1488 - val_accuracy: 0.4400 - val_auc_175: 0.6512 - val_precision_175: 1.0000 - val_recall_175: 0.0057 - val_f1_score: 0.1528 - 3s/epoch - 281ms/step\n",
      "Epoch 4/15\n",
      "11/11 - 3s - loss: 3.7786 - accuracy: 0.5686 - auc_175: 0.7210 - precision_175: 1.0000 - recall_175: 0.0086 - f1_score: 0.1889 - val_loss: 1.1461 - val_accuracy: 0.4286 - val_auc_175: 0.7059 - val_precision_175: 1.0000 - val_recall_175: 0.0057 - val_f1_score: 0.1700 - 3s/epoch - 261ms/step\n",
      "Epoch 5/15\n",
      "11/11 - 3s - loss: 2.5740 - accuracy: 0.1286 - auc_175: 0.4074 - precision_175: 1.0000 - recall_175: 0.0086 - f1_score: 0.0926 - val_loss: 1.5226 - val_accuracy: 0.0114 - val_auc_175: 0.3676 - val_precision_175: 1.0000 - val_recall_175: 0.0057 - val_f1_score: 0.0091 - 3s/epoch - 278ms/step\n",
      "Epoch 6/15\n",
      "11/11 - 3s - loss: 2.4796 - accuracy: 0.0171 - auc_175: 0.3184 - precision_175: 1.0000 - recall_175: 0.0086 - f1_score: 0.0346 - val_loss: 1.3854 - val_accuracy: 0.0057 - val_auc_175: 0.3226 - val_precision_175: 1.0000 - val_recall_175: 0.0057 - val_f1_score: 0.0063 - 3s/epoch - 282ms/step\n",
      "Epoch 7/15\n"
     ]
    },
    {
     "ename": "KeyboardInterrupt",
     "evalue": "",
     "output_type": "error",
     "traceback": [
      "\u001b[1;31m---------------------------------------------------------------------------\u001b[0m",
      "\u001b[1;31mKeyboardInterrupt\u001b[0m                         Traceback (most recent call last)",
      "\u001b[1;32mc:\\Users\\angel\\Documents\\GitHub\\masters-thesis\\notebooks\\hyperparameter_optimization.ipynb Cell 34'\u001b[0m in \u001b[0;36m<module>\u001b[1;34m\u001b[0m\n\u001b[0;32m     <a href='vscode-notebook-cell:/c%3A/Users/angel/Documents/GitHub/masters-thesis/notebooks/hyperparameter_optimization.ipynb#ch0000121?line=9'>10</a>\u001b[0m y_train, y_val \u001b[39m=\u001b[39m full_body_y[train_index], full_body_y[val_index]\n\u001b[0;32m     <a href='vscode-notebook-cell:/c%3A/Users/angel/Documents/GitHub/masters-thesis/notebooks/hyperparameter_optimization.ipynb#ch0000121?line=10'>11</a>\u001b[0m body_biConvLSTM \u001b[39m=\u001b[39m build_biConvLSTM(body_features, n_length, body_outputs, neurons\u001b[39m=\u001b[39mn, kernel_size\u001b[39m=\u001b[39ms, activation\u001b[39m=\u001b[39mact, kernel_initializer\u001b[39m=\u001b[39minit, dropout\u001b[39m=\u001b[39md)\n\u001b[1;32m---> <a href='vscode-notebook-cell:/c%3A/Users/angel/Documents/GitHub/masters-thesis/notebooks/hyperparameter_optimization.ipynb#ch0000121?line=11'>12</a>\u001b[0m history \u001b[39m=\u001b[39m train(body_biConvLSTM, X_train, y_train, X_val, y_val, epochs\u001b[39m=\u001b[39;49mepochs, batch_size\u001b[39m=\u001b[39;49mb, class_weight\u001b[39m=\u001b[39;49mclass_weight)\n\u001b[0;32m     <a href='vscode-notebook-cell:/c%3A/Users/angel/Documents/GitHub/masters-thesis/notebooks/hyperparameter_optimization.ipynb#ch0000121?line=12'>13</a>\u001b[0m \u001b[39mif\u001b[39;00m (history[\u001b[39m'\u001b[39m\u001b[39mval_accuracy\u001b[39m\u001b[39m'\u001b[39m] \u001b[39m>\u001b[39m body_best_acc) \u001b[39mand\u001b[39;00m (history[\u001b[39m'\u001b[39m\u001b[39mval_roc_auc\u001b[39m\u001b[39m'\u001b[39m] \u001b[39m>\u001b[39m body_best_auc):\n\u001b[0;32m     <a href='vscode-notebook-cell:/c%3A/Users/angel/Documents/GitHub/masters-thesis/notebooks/hyperparameter_optimization.ipynb#ch0000121?line=13'>14</a>\u001b[0m     body_best_acc \u001b[39m=\u001b[39m history[\u001b[39m'\u001b[39m\u001b[39mval_accuracy\u001b[39m\u001b[39m'\u001b[39m]\n",
      "\u001b[1;32mc:\\Users\\angel\\Documents\\GitHub\\masters-thesis\\notebooks\\hyperparameter_optimization.ipynb Cell 6'\u001b[0m in \u001b[0;36mtrain\u001b[1;34m(model, X_train, y_train, X_val, y_val, epochs, batch_size, class_weight)\u001b[0m\n\u001b[0;32m      <a href='vscode-notebook-cell:/c%3A/Users/angel/Documents/GitHub/masters-thesis/notebooks/hyperparameter_optimization.ipynb#ch0000005?line=0'>1</a>\u001b[0m \u001b[39mdef\u001b[39;00m \u001b[39mtrain\u001b[39m(model, X_train, y_train, X_val, y_val, epochs, batch_size, class_weight):\n\u001b[0;32m      <a href='vscode-notebook-cell:/c%3A/Users/angel/Documents/GitHub/masters-thesis/notebooks/hyperparameter_optimization.ipynb#ch0000005?line=1'>2</a>\u001b[0m     early_stopping \u001b[39m=\u001b[39m tf\u001b[39m.\u001b[39mkeras\u001b[39m.\u001b[39mcallbacks\u001b[39m.\u001b[39mEarlyStopping(\n\u001b[0;32m      <a href='vscode-notebook-cell:/c%3A/Users/angel/Documents/GitHub/masters-thesis/notebooks/hyperparameter_optimization.ipynb#ch0000005?line=2'>3</a>\u001b[0m         monitor\u001b[39m=\u001b[39m\u001b[39m'\u001b[39m\u001b[39mval_loss\u001b[39m\u001b[39m'\u001b[39m, patience\u001b[39m=\u001b[39m\u001b[39m10\u001b[39m)\n\u001b[1;32m----> <a href='vscode-notebook-cell:/c%3A/Users/angel/Documents/GitHub/masters-thesis/notebooks/hyperparameter_optimization.ipynb#ch0000005?line=3'>4</a>\u001b[0m     history \u001b[39m=\u001b[39m model\u001b[39m.\u001b[39;49mfit(X_train, y_train, validation_data\u001b[39m=\u001b[39;49m(X_val, y_val), epochs\u001b[39m=\u001b[39;49mepochs, callbacks\u001b[39m=\u001b[39;49m[early_stopping],\n\u001b[0;32m      <a href='vscode-notebook-cell:/c%3A/Users/angel/Documents/GitHub/masters-thesis/notebooks/hyperparameter_optimization.ipynb#ch0000005?line=4'>5</a>\u001b[0m         batch_size\u001b[39m=\u001b[39;49mbatch_size, verbose\u001b[39m=\u001b[39;49m\u001b[39m2\u001b[39;49m, class_weight\u001b[39m=\u001b[39;49mclass_weight)\n\u001b[0;32m      <a href='vscode-notebook-cell:/c%3A/Users/angel/Documents/GitHub/masters-thesis/notebooks/hyperparameter_optimization.ipynb#ch0000005?line=5'>6</a>\u001b[0m     \u001b[39mreturn\u001b[39;00m history\n",
      "File \u001b[1;32m~\\.virtualenvs\\masters-thesis-47ATZEh-\\lib\\site-packages\\keras\\utils\\traceback_utils.py:64\u001b[0m, in \u001b[0;36mfilter_traceback.<locals>.error_handler\u001b[1;34m(*args, **kwargs)\u001b[0m\n\u001b[0;32m     <a href='file:///c%3A/Users/angel/.virtualenvs/masters-thesis-47ATZEh-/lib/site-packages/keras/utils/traceback_utils.py?line=61'>62</a>\u001b[0m filtered_tb \u001b[39m=\u001b[39m \u001b[39mNone\u001b[39;00m\n\u001b[0;32m     <a href='file:///c%3A/Users/angel/.virtualenvs/masters-thesis-47ATZEh-/lib/site-packages/keras/utils/traceback_utils.py?line=62'>63</a>\u001b[0m \u001b[39mtry\u001b[39;00m:\n\u001b[1;32m---> <a href='file:///c%3A/Users/angel/.virtualenvs/masters-thesis-47ATZEh-/lib/site-packages/keras/utils/traceback_utils.py?line=63'>64</a>\u001b[0m   \u001b[39mreturn\u001b[39;00m fn(\u001b[39m*\u001b[39margs, \u001b[39m*\u001b[39m\u001b[39m*\u001b[39mkwargs)\n\u001b[0;32m     <a href='file:///c%3A/Users/angel/.virtualenvs/masters-thesis-47ATZEh-/lib/site-packages/keras/utils/traceback_utils.py?line=64'>65</a>\u001b[0m \u001b[39mexcept\u001b[39;00m \u001b[39mException\u001b[39;00m \u001b[39mas\u001b[39;00m e:  \u001b[39m# pylint: disable=broad-except\u001b[39;00m\n\u001b[0;32m     <a href='file:///c%3A/Users/angel/.virtualenvs/masters-thesis-47ATZEh-/lib/site-packages/keras/utils/traceback_utils.py?line=65'>66</a>\u001b[0m   filtered_tb \u001b[39m=\u001b[39m _process_traceback_frames(e\u001b[39m.\u001b[39m__traceback__)\n",
      "File \u001b[1;32m~\\.virtualenvs\\masters-thesis-47ATZEh-\\lib\\site-packages\\keras\\engine\\training.py:1420\u001b[0m, in \u001b[0;36mModel.fit\u001b[1;34m(self, x, y, batch_size, epochs, verbose, callbacks, validation_split, validation_data, shuffle, class_weight, sample_weight, initial_epoch, steps_per_epoch, validation_steps, validation_batch_size, validation_freq, max_queue_size, workers, use_multiprocessing)\u001b[0m\n\u001b[0;32m   <a href='file:///c%3A/Users/angel/.virtualenvs/masters-thesis-47ATZEh-/lib/site-packages/keras/engine/training.py?line=1405'>1406</a>\u001b[0m \u001b[39mif\u001b[39;00m \u001b[39mgetattr\u001b[39m(\u001b[39mself\u001b[39m, \u001b[39m'\u001b[39m\u001b[39m_eval_data_handler\u001b[39m\u001b[39m'\u001b[39m, \u001b[39mNone\u001b[39;00m) \u001b[39mis\u001b[39;00m \u001b[39mNone\u001b[39;00m:\n\u001b[0;32m   <a href='file:///c%3A/Users/angel/.virtualenvs/masters-thesis-47ATZEh-/lib/site-packages/keras/engine/training.py?line=1406'>1407</a>\u001b[0m   \u001b[39mself\u001b[39m\u001b[39m.\u001b[39m_eval_data_handler \u001b[39m=\u001b[39m data_adapter\u001b[39m.\u001b[39mget_data_handler(\n\u001b[0;32m   <a href='file:///c%3A/Users/angel/.virtualenvs/masters-thesis-47ATZEh-/lib/site-packages/keras/engine/training.py?line=1407'>1408</a>\u001b[0m       x\u001b[39m=\u001b[39mval_x,\n\u001b[0;32m   <a href='file:///c%3A/Users/angel/.virtualenvs/masters-thesis-47ATZEh-/lib/site-packages/keras/engine/training.py?line=1408'>1409</a>\u001b[0m       y\u001b[39m=\u001b[39mval_y,\n\u001b[1;32m   (...)\u001b[0m\n\u001b[0;32m   <a href='file:///c%3A/Users/angel/.virtualenvs/masters-thesis-47ATZEh-/lib/site-packages/keras/engine/training.py?line=1417'>1418</a>\u001b[0m       model\u001b[39m=\u001b[39m\u001b[39mself\u001b[39m,\n\u001b[0;32m   <a href='file:///c%3A/Users/angel/.virtualenvs/masters-thesis-47ATZEh-/lib/site-packages/keras/engine/training.py?line=1418'>1419</a>\u001b[0m       steps_per_execution\u001b[39m=\u001b[39m\u001b[39mself\u001b[39m\u001b[39m.\u001b[39m_steps_per_execution)\n\u001b[1;32m-> <a href='file:///c%3A/Users/angel/.virtualenvs/masters-thesis-47ATZEh-/lib/site-packages/keras/engine/training.py?line=1419'>1420</a>\u001b[0m val_logs \u001b[39m=\u001b[39m \u001b[39mself\u001b[39;49m\u001b[39m.\u001b[39;49mevaluate(\n\u001b[0;32m   <a href='file:///c%3A/Users/angel/.virtualenvs/masters-thesis-47ATZEh-/lib/site-packages/keras/engine/training.py?line=1420'>1421</a>\u001b[0m     x\u001b[39m=\u001b[39;49mval_x,\n\u001b[0;32m   <a href='file:///c%3A/Users/angel/.virtualenvs/masters-thesis-47ATZEh-/lib/site-packages/keras/engine/training.py?line=1421'>1422</a>\u001b[0m     y\u001b[39m=\u001b[39;49mval_y,\n\u001b[0;32m   <a href='file:///c%3A/Users/angel/.virtualenvs/masters-thesis-47ATZEh-/lib/site-packages/keras/engine/training.py?line=1422'>1423</a>\u001b[0m     sample_weight\u001b[39m=\u001b[39;49mval_sample_weight,\n\u001b[0;32m   <a href='file:///c%3A/Users/angel/.virtualenvs/masters-thesis-47ATZEh-/lib/site-packages/keras/engine/training.py?line=1423'>1424</a>\u001b[0m     batch_size\u001b[39m=\u001b[39;49mvalidation_batch_size \u001b[39mor\u001b[39;49;00m batch_size,\n\u001b[0;32m   <a href='file:///c%3A/Users/angel/.virtualenvs/masters-thesis-47ATZEh-/lib/site-packages/keras/engine/training.py?line=1424'>1425</a>\u001b[0m     steps\u001b[39m=\u001b[39;49mvalidation_steps,\n\u001b[0;32m   <a href='file:///c%3A/Users/angel/.virtualenvs/masters-thesis-47ATZEh-/lib/site-packages/keras/engine/training.py?line=1425'>1426</a>\u001b[0m     callbacks\u001b[39m=\u001b[39;49mcallbacks,\n\u001b[0;32m   <a href='file:///c%3A/Users/angel/.virtualenvs/masters-thesis-47ATZEh-/lib/site-packages/keras/engine/training.py?line=1426'>1427</a>\u001b[0m     max_queue_size\u001b[39m=\u001b[39;49mmax_queue_size,\n\u001b[0;32m   <a href='file:///c%3A/Users/angel/.virtualenvs/masters-thesis-47ATZEh-/lib/site-packages/keras/engine/training.py?line=1427'>1428</a>\u001b[0m     workers\u001b[39m=\u001b[39;49mworkers,\n\u001b[0;32m   <a href='file:///c%3A/Users/angel/.virtualenvs/masters-thesis-47ATZEh-/lib/site-packages/keras/engine/training.py?line=1428'>1429</a>\u001b[0m     use_multiprocessing\u001b[39m=\u001b[39;49muse_multiprocessing,\n\u001b[0;32m   <a href='file:///c%3A/Users/angel/.virtualenvs/masters-thesis-47ATZEh-/lib/site-packages/keras/engine/training.py?line=1429'>1430</a>\u001b[0m     return_dict\u001b[39m=\u001b[39;49m\u001b[39mTrue\u001b[39;49;00m,\n\u001b[0;32m   <a href='file:///c%3A/Users/angel/.virtualenvs/masters-thesis-47ATZEh-/lib/site-packages/keras/engine/training.py?line=1430'>1431</a>\u001b[0m     _use_cached_eval_dataset\u001b[39m=\u001b[39;49m\u001b[39mTrue\u001b[39;49;00m)\n\u001b[0;32m   <a href='file:///c%3A/Users/angel/.virtualenvs/masters-thesis-47ATZEh-/lib/site-packages/keras/engine/training.py?line=1431'>1432</a>\u001b[0m val_logs \u001b[39m=\u001b[39m {\u001b[39m'\u001b[39m\u001b[39mval_\u001b[39m\u001b[39m'\u001b[39m \u001b[39m+\u001b[39m name: val \u001b[39mfor\u001b[39;00m name, val \u001b[39min\u001b[39;00m val_logs\u001b[39m.\u001b[39mitems()}\n\u001b[0;32m   <a href='file:///c%3A/Users/angel/.virtualenvs/masters-thesis-47ATZEh-/lib/site-packages/keras/engine/training.py?line=1432'>1433</a>\u001b[0m epoch_logs\u001b[39m.\u001b[39mupdate(val_logs)\n",
      "File \u001b[1;32m~\\.virtualenvs\\masters-thesis-47ATZEh-\\lib\\site-packages\\keras\\utils\\traceback_utils.py:64\u001b[0m, in \u001b[0;36mfilter_traceback.<locals>.error_handler\u001b[1;34m(*args, **kwargs)\u001b[0m\n\u001b[0;32m     <a href='file:///c%3A/Users/angel/.virtualenvs/masters-thesis-47ATZEh-/lib/site-packages/keras/utils/traceback_utils.py?line=61'>62</a>\u001b[0m filtered_tb \u001b[39m=\u001b[39m \u001b[39mNone\u001b[39;00m\n\u001b[0;32m     <a href='file:///c%3A/Users/angel/.virtualenvs/masters-thesis-47ATZEh-/lib/site-packages/keras/utils/traceback_utils.py?line=62'>63</a>\u001b[0m \u001b[39mtry\u001b[39;00m:\n\u001b[1;32m---> <a href='file:///c%3A/Users/angel/.virtualenvs/masters-thesis-47ATZEh-/lib/site-packages/keras/utils/traceback_utils.py?line=63'>64</a>\u001b[0m   \u001b[39mreturn\u001b[39;00m fn(\u001b[39m*\u001b[39margs, \u001b[39m*\u001b[39m\u001b[39m*\u001b[39mkwargs)\n\u001b[0;32m     <a href='file:///c%3A/Users/angel/.virtualenvs/masters-thesis-47ATZEh-/lib/site-packages/keras/utils/traceback_utils.py?line=64'>65</a>\u001b[0m \u001b[39mexcept\u001b[39;00m \u001b[39mException\u001b[39;00m \u001b[39mas\u001b[39;00m e:  \u001b[39m# pylint: disable=broad-except\u001b[39;00m\n\u001b[0;32m     <a href='file:///c%3A/Users/angel/.virtualenvs/masters-thesis-47ATZEh-/lib/site-packages/keras/utils/traceback_utils.py?line=65'>66</a>\u001b[0m   filtered_tb \u001b[39m=\u001b[39m _process_traceback_frames(e\u001b[39m.\u001b[39m__traceback__)\n",
      "File \u001b[1;32m~\\.virtualenvs\\masters-thesis-47ATZEh-\\lib\\site-packages\\keras\\engine\\training.py:1710\u001b[0m, in \u001b[0;36mModel.evaluate\u001b[1;34m(self, x, y, batch_size, verbose, sample_weight, steps, callbacks, max_queue_size, workers, use_multiprocessing, return_dict, **kwargs)\u001b[0m\n\u001b[0;32m   <a href='file:///c%3A/Users/angel/.virtualenvs/masters-thesis-47ATZEh-/lib/site-packages/keras/engine/training.py?line=1707'>1708</a>\u001b[0m \u001b[39mself\u001b[39m\u001b[39m.\u001b[39m_test_counter\u001b[39m.\u001b[39massign(\u001b[39m0\u001b[39m)\n\u001b[0;32m   <a href='file:///c%3A/Users/angel/.virtualenvs/masters-thesis-47ATZEh-/lib/site-packages/keras/engine/training.py?line=1708'>1709</a>\u001b[0m callbacks\u001b[39m.\u001b[39mon_test_begin()\n\u001b[1;32m-> <a href='file:///c%3A/Users/angel/.virtualenvs/masters-thesis-47ATZEh-/lib/site-packages/keras/engine/training.py?line=1709'>1710</a>\u001b[0m \u001b[39mfor\u001b[39;00m _, iterator \u001b[39min\u001b[39;00m data_handler\u001b[39m.\u001b[39menumerate_epochs():  \u001b[39m# Single epoch.\u001b[39;00m\n\u001b[0;32m   <a href='file:///c%3A/Users/angel/.virtualenvs/masters-thesis-47ATZEh-/lib/site-packages/keras/engine/training.py?line=1710'>1711</a>\u001b[0m   \u001b[39mself\u001b[39m\u001b[39m.\u001b[39mreset_metrics()\n\u001b[0;32m   <a href='file:///c%3A/Users/angel/.virtualenvs/masters-thesis-47ATZEh-/lib/site-packages/keras/engine/training.py?line=1711'>1712</a>\u001b[0m   \u001b[39mwith\u001b[39;00m data_handler\u001b[39m.\u001b[39mcatch_stop_iteration():\n",
      "File \u001b[1;32m~\\.virtualenvs\\masters-thesis-47ATZEh-\\lib\\site-packages\\keras\\engine\\data_adapter.py:1191\u001b[0m, in \u001b[0;36mDataHandler.enumerate_epochs\u001b[1;34m(self)\u001b[0m\n\u001b[0;32m   <a href='file:///c%3A/Users/angel/.virtualenvs/masters-thesis-47ATZEh-/lib/site-packages/keras/engine/data_adapter.py?line=1188'>1189</a>\u001b[0m \u001b[39m\"\"\"Yields `(epoch, tf.data.Iterator)`.\"\"\"\u001b[39;00m\n\u001b[0;32m   <a href='file:///c%3A/Users/angel/.virtualenvs/masters-thesis-47ATZEh-/lib/site-packages/keras/engine/data_adapter.py?line=1189'>1190</a>\u001b[0m \u001b[39mwith\u001b[39;00m \u001b[39mself\u001b[39m\u001b[39m.\u001b[39m_truncate_execution_to_epoch():\n\u001b[1;32m-> <a href='file:///c%3A/Users/angel/.virtualenvs/masters-thesis-47ATZEh-/lib/site-packages/keras/engine/data_adapter.py?line=1190'>1191</a>\u001b[0m   data_iterator \u001b[39m=\u001b[39m \u001b[39miter\u001b[39;49m(\u001b[39mself\u001b[39;49m\u001b[39m.\u001b[39;49m_dataset)\n\u001b[0;32m   <a href='file:///c%3A/Users/angel/.virtualenvs/masters-thesis-47ATZEh-/lib/site-packages/keras/engine/data_adapter.py?line=1191'>1192</a>\u001b[0m   \u001b[39mfor\u001b[39;00m epoch \u001b[39min\u001b[39;00m \u001b[39mrange\u001b[39m(\u001b[39mself\u001b[39m\u001b[39m.\u001b[39m_initial_epoch, \u001b[39mself\u001b[39m\u001b[39m.\u001b[39m_epochs):\n\u001b[0;32m   <a href='file:///c%3A/Users/angel/.virtualenvs/masters-thesis-47ATZEh-/lib/site-packages/keras/engine/data_adapter.py?line=1192'>1193</a>\u001b[0m     \u001b[39mif\u001b[39;00m \u001b[39mself\u001b[39m\u001b[39m.\u001b[39m_insufficient_data:  \u001b[39m# Set by `catch_stop_iteration`.\u001b[39;00m\n",
      "File \u001b[1;32m~\\.virtualenvs\\masters-thesis-47ATZEh-\\lib\\site-packages\\tensorflow\\python\\data\\ops\\dataset_ops.py:486\u001b[0m, in \u001b[0;36mDatasetV2.__iter__\u001b[1;34m(self)\u001b[0m\n\u001b[0;32m    <a href='file:///c%3A/Users/angel/.virtualenvs/masters-thesis-47ATZEh-/lib/site-packages/tensorflow/python/data/ops/dataset_ops.py?line=483'>484</a>\u001b[0m \u001b[39mif\u001b[39;00m context\u001b[39m.\u001b[39mexecuting_eagerly() \u001b[39mor\u001b[39;00m ops\u001b[39m.\u001b[39minside_function():\n\u001b[0;32m    <a href='file:///c%3A/Users/angel/.virtualenvs/masters-thesis-47ATZEh-/lib/site-packages/tensorflow/python/data/ops/dataset_ops.py?line=484'>485</a>\u001b[0m   \u001b[39mwith\u001b[39;00m ops\u001b[39m.\u001b[39mcolocate_with(\u001b[39mself\u001b[39m\u001b[39m.\u001b[39m_variant_tensor):\n\u001b[1;32m--> <a href='file:///c%3A/Users/angel/.virtualenvs/masters-thesis-47ATZEh-/lib/site-packages/tensorflow/python/data/ops/dataset_ops.py?line=485'>486</a>\u001b[0m     \u001b[39mreturn\u001b[39;00m iterator_ops\u001b[39m.\u001b[39;49mOwnedIterator(\u001b[39mself\u001b[39;49m)\n\u001b[0;32m    <a href='file:///c%3A/Users/angel/.virtualenvs/masters-thesis-47ATZEh-/lib/site-packages/tensorflow/python/data/ops/dataset_ops.py?line=486'>487</a>\u001b[0m \u001b[39melse\u001b[39;00m:\n\u001b[0;32m    <a href='file:///c%3A/Users/angel/.virtualenvs/masters-thesis-47ATZEh-/lib/site-packages/tensorflow/python/data/ops/dataset_ops.py?line=487'>488</a>\u001b[0m   \u001b[39mraise\u001b[39;00m \u001b[39mRuntimeError\u001b[39;00m(\u001b[39m\"\u001b[39m\u001b[39m`tf.data.Dataset` only supports Python-style \u001b[39m\u001b[39m\"\u001b[39m\n\u001b[0;32m    <a href='file:///c%3A/Users/angel/.virtualenvs/masters-thesis-47ATZEh-/lib/site-packages/tensorflow/python/data/ops/dataset_ops.py?line=488'>489</a>\u001b[0m                      \u001b[39m\"\u001b[39m\u001b[39miteration in eager mode or within tf.function.\u001b[39m\u001b[39m\"\u001b[39m)\n",
      "File \u001b[1;32m~\\.virtualenvs\\masters-thesis-47ATZEh-\\lib\\site-packages\\tensorflow\\python\\data\\ops\\iterator_ops.py:755\u001b[0m, in \u001b[0;36mOwnedIterator.__init__\u001b[1;34m(self, dataset, components, element_spec)\u001b[0m\n\u001b[0;32m    <a href='file:///c%3A/Users/angel/.virtualenvs/masters-thesis-47ATZEh-/lib/site-packages/tensorflow/python/data/ops/iterator_ops.py?line=750'>751</a>\u001b[0m   \u001b[39mif\u001b[39;00m (components \u001b[39mis\u001b[39;00m \u001b[39mnot\u001b[39;00m \u001b[39mNone\u001b[39;00m \u001b[39mor\u001b[39;00m element_spec \u001b[39mis\u001b[39;00m \u001b[39mnot\u001b[39;00m \u001b[39mNone\u001b[39;00m):\n\u001b[0;32m    <a href='file:///c%3A/Users/angel/.virtualenvs/masters-thesis-47ATZEh-/lib/site-packages/tensorflow/python/data/ops/iterator_ops.py?line=751'>752</a>\u001b[0m     \u001b[39mraise\u001b[39;00m \u001b[39mValueError\u001b[39;00m(\n\u001b[0;32m    <a href='file:///c%3A/Users/angel/.virtualenvs/masters-thesis-47ATZEh-/lib/site-packages/tensorflow/python/data/ops/iterator_ops.py?line=752'>753</a>\u001b[0m         \u001b[39m\"\u001b[39m\u001b[39mWhen `dataset` is provided, `element_spec` and `components` must \u001b[39m\u001b[39m\"\u001b[39m\n\u001b[0;32m    <a href='file:///c%3A/Users/angel/.virtualenvs/masters-thesis-47ATZEh-/lib/site-packages/tensorflow/python/data/ops/iterator_ops.py?line=753'>754</a>\u001b[0m         \u001b[39m\"\u001b[39m\u001b[39mnot be specified.\u001b[39m\u001b[39m\"\u001b[39m)\n\u001b[1;32m--> <a href='file:///c%3A/Users/angel/.virtualenvs/masters-thesis-47ATZEh-/lib/site-packages/tensorflow/python/data/ops/iterator_ops.py?line=754'>755</a>\u001b[0m   \u001b[39mself\u001b[39;49m\u001b[39m.\u001b[39;49m_create_iterator(dataset)\n\u001b[0;32m    <a href='file:///c%3A/Users/angel/.virtualenvs/masters-thesis-47ATZEh-/lib/site-packages/tensorflow/python/data/ops/iterator_ops.py?line=756'>757</a>\u001b[0m \u001b[39mself\u001b[39m\u001b[39m.\u001b[39m_get_next_call_count \u001b[39m=\u001b[39m \u001b[39m0\u001b[39m\n",
      "File \u001b[1;32m~\\.virtualenvs\\masters-thesis-47ATZEh-\\lib\\site-packages\\tensorflow\\python\\data\\ops\\iterator_ops.py:787\u001b[0m, in \u001b[0;36mOwnedIterator._create_iterator\u001b[1;34m(self, dataset)\u001b[0m\n\u001b[0;32m    <a href='file:///c%3A/Users/angel/.virtualenvs/masters-thesis-47ATZEh-/lib/site-packages/tensorflow/python/data/ops/iterator_ops.py?line=781'>782</a>\u001b[0m \u001b[39melse\u001b[39;00m:\n\u001b[0;32m    <a href='file:///c%3A/Users/angel/.virtualenvs/masters-thesis-47ATZEh-/lib/site-packages/tensorflow/python/data/ops/iterator_ops.py?line=782'>783</a>\u001b[0m   \u001b[39mself\u001b[39m\u001b[39m.\u001b[39m_iterator_resource, \u001b[39mself\u001b[39m\u001b[39m.\u001b[39m_deleter \u001b[39m=\u001b[39m (\n\u001b[0;32m    <a href='file:///c%3A/Users/angel/.virtualenvs/masters-thesis-47ATZEh-/lib/site-packages/tensorflow/python/data/ops/iterator_ops.py?line=783'>784</a>\u001b[0m       gen_dataset_ops\u001b[39m.\u001b[39manonymous_iterator_v2(\n\u001b[0;32m    <a href='file:///c%3A/Users/angel/.virtualenvs/masters-thesis-47ATZEh-/lib/site-packages/tensorflow/python/data/ops/iterator_ops.py?line=784'>785</a>\u001b[0m           output_types\u001b[39m=\u001b[39m\u001b[39mself\u001b[39m\u001b[39m.\u001b[39m_flat_output_types,\n\u001b[0;32m    <a href='file:///c%3A/Users/angel/.virtualenvs/masters-thesis-47ATZEh-/lib/site-packages/tensorflow/python/data/ops/iterator_ops.py?line=785'>786</a>\u001b[0m           output_shapes\u001b[39m=\u001b[39m\u001b[39mself\u001b[39m\u001b[39m.\u001b[39m_flat_output_shapes))\n\u001b[1;32m--> <a href='file:///c%3A/Users/angel/.virtualenvs/masters-thesis-47ATZEh-/lib/site-packages/tensorflow/python/data/ops/iterator_ops.py?line=786'>787</a>\u001b[0m   gen_dataset_ops\u001b[39m.\u001b[39;49mmake_iterator(ds_variant, \u001b[39mself\u001b[39;49m\u001b[39m.\u001b[39;49m_iterator_resource)\n\u001b[0;32m    <a href='file:///c%3A/Users/angel/.virtualenvs/masters-thesis-47ATZEh-/lib/site-packages/tensorflow/python/data/ops/iterator_ops.py?line=787'>788</a>\u001b[0m   \u001b[39m# Delete the resource when this object is deleted\u001b[39;00m\n\u001b[0;32m    <a href='file:///c%3A/Users/angel/.virtualenvs/masters-thesis-47ATZEh-/lib/site-packages/tensorflow/python/data/ops/iterator_ops.py?line=788'>789</a>\u001b[0m   \u001b[39mself\u001b[39m\u001b[39m.\u001b[39m_resource_deleter \u001b[39m=\u001b[39m IteratorResourceDeleter(\n\u001b[0;32m    <a href='file:///c%3A/Users/angel/.virtualenvs/masters-thesis-47ATZEh-/lib/site-packages/tensorflow/python/data/ops/iterator_ops.py?line=789'>790</a>\u001b[0m       handle\u001b[39m=\u001b[39m\u001b[39mself\u001b[39m\u001b[39m.\u001b[39m_iterator_resource,\n\u001b[0;32m    <a href='file:///c%3A/Users/angel/.virtualenvs/masters-thesis-47ATZEh-/lib/site-packages/tensorflow/python/data/ops/iterator_ops.py?line=790'>791</a>\u001b[0m       deleter\u001b[39m=\u001b[39m\u001b[39mself\u001b[39m\u001b[39m.\u001b[39m_deleter)\n",
      "File \u001b[1;32m~\\.virtualenvs\\masters-thesis-47ATZEh-\\lib\\site-packages\\tensorflow\\python\\ops\\gen_dataset_ops.py:3314\u001b[0m, in \u001b[0;36mmake_iterator\u001b[1;34m(dataset, iterator, name)\u001b[0m\n\u001b[0;32m   <a href='file:///c%3A/Users/angel/.virtualenvs/masters-thesis-47ATZEh-/lib/site-packages/tensorflow/python/ops/gen_dataset_ops.py?line=3311'>3312</a>\u001b[0m \u001b[39mif\u001b[39;00m tld\u001b[39m.\u001b[39mis_eager:\n\u001b[0;32m   <a href='file:///c%3A/Users/angel/.virtualenvs/masters-thesis-47ATZEh-/lib/site-packages/tensorflow/python/ops/gen_dataset_ops.py?line=3312'>3313</a>\u001b[0m   \u001b[39mtry\u001b[39;00m:\n\u001b[1;32m-> <a href='file:///c%3A/Users/angel/.virtualenvs/masters-thesis-47ATZEh-/lib/site-packages/tensorflow/python/ops/gen_dataset_ops.py?line=3313'>3314</a>\u001b[0m     _result \u001b[39m=\u001b[39m pywrap_tfe\u001b[39m.\u001b[39;49mTFE_Py_FastPathExecute(\n\u001b[0;32m   <a href='file:///c%3A/Users/angel/.virtualenvs/masters-thesis-47ATZEh-/lib/site-packages/tensorflow/python/ops/gen_dataset_ops.py?line=3314'>3315</a>\u001b[0m       _ctx, \u001b[39m\"\u001b[39;49m\u001b[39mMakeIterator\u001b[39;49m\u001b[39m\"\u001b[39;49m, name, dataset, iterator)\n\u001b[0;32m   <a href='file:///c%3A/Users/angel/.virtualenvs/masters-thesis-47ATZEh-/lib/site-packages/tensorflow/python/ops/gen_dataset_ops.py?line=3315'>3316</a>\u001b[0m     \u001b[39mreturn\u001b[39;00m _result\n\u001b[0;32m   <a href='file:///c%3A/Users/angel/.virtualenvs/masters-thesis-47ATZEh-/lib/site-packages/tensorflow/python/ops/gen_dataset_ops.py?line=3316'>3317</a>\u001b[0m   \u001b[39mexcept\u001b[39;00m _core\u001b[39m.\u001b[39m_NotOkStatusException \u001b[39mas\u001b[39;00m e:\n",
      "\u001b[1;31mKeyboardInterrupt\u001b[0m: "
     ]
    }
   ],
   "source": [
    "for b in batch_sizes:\n",
    "    for act in activation:\n",
    "        for n in neurons:\n",
    "            for s in kernel_size:\n",
    "                for init in kernel_initializer:\n",
    "                    for d in dropout:\n",
    "                        print('Batch size', b, 'Activation', act, 'Neurons', n, 'Kernel size', s, 'Kernel initializer', init, 'Dropout', d)\n",
    "                        for train_index, val_index in kf.split(full_body_X):\n",
    "                            X_train, X_val = full_body_X[train_index], full_body_X[val_index]\n",
    "                            y_train, y_val = full_body_y[train_index], full_body_y[val_index]\n",
    "                            body_biLSTM = build_biLSTM(body_features, n_length, body_outputs, neurons=n, kernel_size=s, activation=act, kernel_initializer=init, dropout=d)\n",
    "                            history = train(body_biLSTM, X_train, y_train, X_val, y_val, epochs=epochs, batch_size=b, class_weight=class_weight)\n",
    "                            if (history['val_accuracy'] > body_best_biconv_acc) and (history['val_roc_auc'] > body_best_biconv_auc):\n",
    "                                body_best_biconv_acc = history['val_accuracy']\n",
    "                                body_best_biconv_auc = history['val_roc_auc']\n",
    "                                body_biconv_loss = history['loss']\n",
    "                                body_best_biconv_model = body_biLSTM\n",
    "                                body_biconv_values = { 'batch_size': b, 'activation': act, 'neurons': n, 'kernel_size': s, 'kernel_initializer': init, 'dropout': d }"
   ]
  },
  {
   "cell_type": "markdown",
   "metadata": {},
   "source": [
    "#### Train CNN+LSTM"
   ]
  },
  {
   "cell_type": "code",
   "execution_count": null,
   "metadata": {},
   "outputs": [],
   "source": [
    "body_best_cnn_acc = 0.0\n",
    "body_best_cnn_auc = 0.0\n",
    "body_cnn_loss = float(\"inf\")\n",
    "body_best_cnn_model = None\n",
    "body_cnn_values = { 'batch_size': 0, 'activation': '', 'neurons': 0, 'kernel_size': 0, 'kernel_initializer': '', 'dropout': float(\"inf\") }"
   ]
  },
  {
   "cell_type": "code",
   "execution_count": 27,
   "metadata": {},
   "outputs": [
    {
     "name": "stdout",
     "output_type": "stream",
     "text": [
      "Epoch 1/15\n",
      "11/11 - 26s - loss: 2.5531 - accuracy: 0.5629 - auc_66: 0.8145 - precision_66: 0.0000e+00 - recall_66: 0.0000e+00 - f1_score: 0.1801 - val_loss: 1.2579 - val_accuracy: 0.4514 - val_auc_66: 0.7729 - val_precision_66: 0.0000e+00 - val_recall_66: 0.0000e+00 - val_f1_score: 0.1555 - 26s/epoch - 2s/step\n",
      "Epoch 2/15\n",
      "11/11 - 0s - loss: 2.5094 - accuracy: 0.5657 - auc_66: 0.8252 - precision_66: 0.0000e+00 - recall_66: 0.0000e+00 - f1_score: 0.1807 - val_loss: 1.2769 - val_accuracy: 0.4514 - val_auc_66: 0.7733 - val_precision_66: 0.0000e+00 - val_recall_66: 0.0000e+00 - val_f1_score: 0.1555 - 373ms/epoch - 34ms/step\n",
      "Epoch 3/15\n",
      "11/11 - 0s - loss: 2.5038 - accuracy: 0.5657 - auc_66: 0.8257 - precision_66: 0.0000e+00 - recall_66: 0.0000e+00 - f1_score: 0.1807 - val_loss: 1.2933 - val_accuracy: 0.4514 - val_auc_66: 0.7733 - val_precision_66: 0.0000e+00 - val_recall_66: 0.0000e+00 - val_f1_score: 0.1555 - 381ms/epoch - 35ms/step\n",
      "Epoch 4/15\n",
      "11/11 - 0s - loss: 2.5070 - accuracy: 0.5657 - auc_66: 0.8230 - precision_66: 0.0000e+00 - recall_66: 0.0000e+00 - f1_score: 0.1807 - val_loss: 1.2879 - val_accuracy: 0.4514 - val_auc_66: 0.7733 - val_precision_66: 0.0000e+00 - val_recall_66: 0.0000e+00 - val_f1_score: 0.1555 - 364ms/epoch - 33ms/step\n",
      "Epoch 5/15\n",
      "11/11 - 0s - loss: 2.5022 - accuracy: 0.5657 - auc_66: 0.8245 - precision_66: 0.0000e+00 - recall_66: 0.0000e+00 - f1_score: 0.1807 - val_loss: 1.2981 - val_accuracy: 0.4514 - val_auc_66: 0.7733 - val_precision_66: 0.0000e+00 - val_recall_66: 0.0000e+00 - val_f1_score: 0.1555 - 348ms/epoch - 32ms/step\n",
      "Epoch 6/15\n",
      "11/11 - 0s - loss: 2.5061 - accuracy: 0.5657 - auc_66: 0.8131 - precision_66: 0.0000e+00 - recall_66: 0.0000e+00 - f1_score: 0.1807 - val_loss: 1.3160 - val_accuracy: 0.4514 - val_auc_66: 0.7733 - val_precision_66: 0.0000e+00 - val_recall_66: 0.0000e+00 - val_f1_score: 0.1555 - 420ms/epoch - 38ms/step\n",
      "Epoch 7/15\n",
      "11/11 - 0s - loss: 2.4983 - accuracy: 0.5657 - auc_66: 0.8246 - precision_66: 0.0000e+00 - recall_66: 0.0000e+00 - f1_score: 0.1807 - val_loss: 1.3120 - val_accuracy: 0.4514 - val_auc_66: 0.7733 - val_precision_66: 0.0000e+00 - val_recall_66: 0.0000e+00 - val_f1_score: 0.1555 - 353ms/epoch - 32ms/step\n",
      "Epoch 8/15\n",
      "11/11 - 0s - loss: 2.5028 - accuracy: 0.5657 - auc_66: 0.8222 - precision_66: 0.0000e+00 - recall_66: 0.0000e+00 - f1_score: 0.1807 - val_loss: 1.3125 - val_accuracy: 0.4514 - val_auc_66: 0.7733 - val_precision_66: 0.0000e+00 - val_recall_66: 0.0000e+00 - val_f1_score: 0.1555 - 359ms/epoch - 33ms/step\n",
      "Epoch 9/15\n",
      "11/11 - 0s - loss: 2.4986 - accuracy: 0.5657 - auc_66: 0.8246 - precision_66: 0.0000e+00 - recall_66: 0.0000e+00 - f1_score: 0.1807 - val_loss: 1.3154 - val_accuracy: 0.4514 - val_auc_66: 0.7733 - val_precision_66: 0.0000e+00 - val_recall_66: 0.0000e+00 - val_f1_score: 0.1555 - 413ms/epoch - 38ms/step\n",
      "Epoch 10/15\n",
      "11/11 - 0s - loss: 2.4983 - accuracy: 0.5657 - auc_66: 0.8241 - precision_66: 0.0000e+00 - recall_66: 0.0000e+00 - f1_score: 0.1807 - val_loss: 1.3025 - val_accuracy: 0.4514 - val_auc_66: 0.7733 - val_precision_66: 0.0000e+00 - val_recall_66: 0.0000e+00 - val_f1_score: 0.1555 - 352ms/epoch - 32ms/step\n",
      "Epoch 11/15\n",
      "11/11 - 0s - loss: 2.5022 - accuracy: 0.5657 - auc_66: 0.8229 - precision_66: 0.0000e+00 - recall_66: 0.0000e+00 - f1_score: 0.1807 - val_loss: 1.3101 - val_accuracy: 0.4514 - val_auc_66: 0.7733 - val_precision_66: 0.0000e+00 - val_recall_66: 0.0000e+00 - val_f1_score: 0.1555 - 389ms/epoch - 35ms/step\n"
     ]
    },
    {
     "data": {
      "image/png": "[encoded data removed]",
      "text/plain": [
       "<Figure size 432x288 with 1 Axes>"
      ]
     },
     "metadata": {
      "needs_background": "light"
     },
     "output_type": "display_data"
    },
    {
     "name": "stdout",
     "output_type": "stream",
     "text": [
      "Epoch 1/15\n",
      "11/11 - 15s - loss: 2.6321 - accuracy: 0.4371 - auc_67: 0.7290 - precision_67: 0.0000e+00 - recall_67: 0.0000e+00 - f1_score: 0.1902 - val_loss: 1.3454 - val_accuracy: 0.5314 - val_auc_67: 0.8095 - val_precision_67: 0.0000e+00 - val_recall_67: 0.0000e+00 - val_f1_score: 0.1735 - 15s/epoch - 1s/step\n",
      "Epoch 2/15\n",
      "11/11 - 0s - loss: 2.6164 - accuracy: 0.5257 - auc_67: 0.8033 - precision_67: 0.0000e+00 - recall_67: 0.0000e+00 - f1_score: 0.1723 - val_loss: 1.3492 - val_accuracy: 0.5314 - val_auc_67: 0.8095 - val_precision_67: 0.0000e+00 - val_recall_67: 0.0000e+00 - val_f1_score: 0.1735 - 389ms/epoch - 35ms/step\n",
      "Epoch 3/15\n",
      "11/11 - 0s - loss: 2.6085 - accuracy: 0.4171 - auc_67: 0.7777 - precision_67: 0.0000e+00 - recall_67: 0.0000e+00 - f1_score: 0.2061 - val_loss: 1.3362 - val_accuracy: 0.5314 - val_auc_67: 0.7829 - val_precision_67: 0.0000e+00 - val_recall_67: 0.0000e+00 - val_f1_score: 0.1735 - 379ms/epoch - 34ms/step\n",
      "Epoch 4/15\n",
      "11/11 - 0s - loss: 2.6229 - accuracy: 0.5257 - auc_67: 0.6940 - precision_67: 0.0000e+00 - recall_67: 0.0000e+00 - f1_score: 0.1723 - val_loss: 1.3158 - val_accuracy: 0.0914 - val_auc_67: 0.6429 - val_precision_67: 0.0000e+00 - val_recall_67: 0.0000e+00 - val_f1_score: 0.0419 - 399ms/epoch - 36ms/step\n",
      "Epoch 5/15\n",
      "11/11 - 0s - loss: 2.6190 - accuracy: 0.0943 - auc_67: 0.5426 - precision_67: 0.0000e+00 - recall_67: 0.0000e+00 - f1_score: 0.0431 - val_loss: 1.3588 - val_accuracy: 0.0914 - val_auc_67: 0.5162 - val_precision_67: 0.0000e+00 - val_recall_67: 0.0000e+00 - val_f1_score: 0.0419 - 371ms/epoch - 34ms/step\n",
      "Epoch 6/15\n",
      "11/11 - 0s - loss: 2.6031 - accuracy: 0.0943 - auc_67: 0.5191 - precision_67: 0.0000e+00 - recall_67: 0.0000e+00 - f1_score: 0.0431 - val_loss: 1.3510 - val_accuracy: 0.0914 - val_auc_67: 0.5162 - val_precision_67: 0.0000e+00 - val_recall_67: 0.0000e+00 - val_f1_score: 0.0419 - 414ms/epoch - 38ms/step\n",
      "Epoch 7/15\n",
      "11/11 - 0s - loss: 2.6116 - accuracy: 0.0943 - auc_67: 0.5263 - precision_67: 0.0000e+00 - recall_67: 0.0000e+00 - f1_score: 0.0431 - val_loss: 1.3338 - val_accuracy: 0.0914 - val_auc_67: 0.5429 - val_precision_67: 0.0000e+00 - val_recall_67: 0.0000e+00 - val_f1_score: 0.0419 - 364ms/epoch - 33ms/step\n",
      "Epoch 8/15\n",
      "11/11 - 0s - loss: 2.6051 - accuracy: 0.0943 - auc_67: 0.5548 - precision_67: 0.0000e+00 - recall_67: 0.0000e+00 - f1_score: 0.0431 - val_loss: 1.3470 - val_accuracy: 0.0914 - val_auc_67: 0.5629 - val_precision_67: 0.0000e+00 - val_recall_67: 0.0000e+00 - val_f1_score: 0.0419 - 374ms/epoch - 34ms/step\n",
      "Epoch 9/15\n",
      "11/11 - 0s - loss: 2.6078 - accuracy: 0.3343 - auc_67: 0.6136 - precision_67: 0.0000e+00 - recall_67: 0.0000e+00 - f1_score: 0.1366 - val_loss: 1.3516 - val_accuracy: 0.3714 - val_auc_67: 0.6829 - val_precision_67: 0.0000e+00 - val_recall_67: 0.0000e+00 - val_f1_score: 0.1354 - 404ms/epoch - 37ms/step\n",
      "Epoch 10/15\n",
      "11/11 - 0s - loss: 2.6004 - accuracy: 0.3429 - auc_67: 0.5976 - precision_67: 0.0000e+00 - recall_67: 0.0000e+00 - f1_score: 0.1399 - val_loss: 1.3457 - val_accuracy: 0.3714 - val_auc_67: 0.5629 - val_precision_67: 0.0000e+00 - val_recall_67: 0.0000e+00 - val_f1_score: 0.1354 - 368ms/epoch - 33ms/step\n",
      "Epoch 11/15\n",
      "11/11 - 0s - loss: 2.6026 - accuracy: 0.1657 - auc_67: 0.5470 - precision_67: 0.0000e+00 - recall_67: 0.0000e+00 - f1_score: 0.1224 - val_loss: 1.3385 - val_accuracy: 0.0914 - val_auc_67: 0.6629 - val_precision_67: 0.0000e+00 - val_recall_67: 0.0000e+00 - val_f1_score: 0.0419 - 407ms/epoch - 37ms/step\n",
      "Epoch 12/15\n",
      "11/11 - 0s - loss: 2.6015 - accuracy: 0.4400 - auc_67: 0.7285 - precision_67: 0.0000e+00 - recall_67: 0.0000e+00 - f1_score: 0.1720 - val_loss: 1.3300 - val_accuracy: 0.5314 - val_auc_67: 0.7629 - val_precision_67: 0.0000e+00 - val_recall_67: 0.0000e+00 - val_f1_score: 0.1735 - 380ms/epoch - 35ms/step\n",
      "Epoch 13/15\n",
      "11/11 - 0s - loss: 2.6027 - accuracy: 0.3600 - auc_67: 0.6748 - precision_67: 0.0000e+00 - recall_67: 0.0000e+00 - f1_score: 0.1794 - val_loss: 1.3408 - val_accuracy: 0.0914 - val_auc_67: 0.6429 - val_precision_67: 0.0000e+00 - val_recall_67: 0.0000e+00 - val_f1_score: 0.0419 - 395ms/epoch - 36ms/step\n",
      "Epoch 14/15\n",
      "11/11 - 0s - loss: 2.6044 - accuracy: 0.0943 - auc_67: 0.5774 - precision_67: 0.0000e+00 - recall_67: 0.0000e+00 - f1_score: 0.0431 - val_loss: 1.3367 - val_accuracy: 0.0914 - val_auc_67: 0.5695 - val_precision_67: 0.0000e+00 - val_recall_67: 0.0000e+00 - val_f1_score: 0.0419 - 398ms/epoch - 36ms/step\n"
     ]
    },
    {
     "data": {
      "image/png": "[encoded data removed]",
      "text/plain": [
       "<Figure size 432x288 with 1 Axes>"
      ]
     },
     "metadata": {
      "needs_background": "light"
     },
     "output_type": "display_data"
    },
    {
     "name": "stdout",
     "output_type": "stream",
     "text": [
      "Epoch 1/15\n",
      "11/11 - 17s - loss: 3.2582 - accuracy: 0.3829 - auc_68: 0.5860 - precision_68: 0.0000e+00 - recall_68: 0.0000e+00 - f1_score: 0.1399 - val_loss: 1.3908 - val_accuracy: 0.3314 - val_auc_68: 0.5771 - val_precision_68: 0.0000e+00 - val_recall_68: 0.0000e+00 - val_f1_score: 0.1245 - 17s/epoch - 2s/step\n",
      "Epoch 2/15\n",
      "11/11 - 0s - loss: 3.2206 - accuracy: 0.3314 - auc_68: 0.4656 - precision_68: 0.0000e+00 - recall_68: 0.0000e+00 - f1_score: 0.1774 - val_loss: 1.4248 - val_accuracy: 0.0686 - val_auc_68: 0.2874 - val_precision_68: 0.0000e+00 - val_recall_68: 0.0000e+00 - val_f1_score: 0.0321 - 384ms/epoch - 35ms/step\n",
      "Epoch 3/15\n",
      "11/11 - 0s - loss: 3.2107 - accuracy: 0.1057 - auc_68: 0.2826 - precision_68: 0.0000e+00 - recall_68: 0.0000e+00 - f1_score: 0.0478 - val_loss: 1.4283 - val_accuracy: 0.0686 - val_auc_68: 0.2343 - val_precision_68: 0.0000e+00 - val_recall_68: 0.0000e+00 - val_f1_score: 0.0321 - 396ms/epoch - 36ms/step\n",
      "Epoch 4/15\n",
      "11/11 - 0s - loss: 3.1792 - accuracy: 0.0429 - auc_68: 0.2191 - precision_68: 0.0000e+00 - recall_68: 0.0000e+00 - f1_score: 0.0382 - val_loss: 1.4684 - val_accuracy: 0.0000e+00 - val_auc_68: 0.1562 - val_precision_68: 0.0000e+00 - val_recall_68: 0.0000e+00 - val_f1_score: 0.0000e+00 - 408ms/epoch - 37ms/step\n",
      "Epoch 5/15\n",
      "11/11 - 0s - loss: 3.1805 - accuracy: 0.0057 - auc_68: 0.2103 - precision_68: 0.0000e+00 - recall_68: 0.0000e+00 - f1_score: 0.0028 - val_loss: 1.4952 - val_accuracy: 0.0000e+00 - val_auc_68: 0.1562 - val_precision_68: 0.0000e+00 - val_recall_68: 0.0000e+00 - val_f1_score: 0.0000e+00 - 372ms/epoch - 34ms/step\n",
      "Epoch 6/15\n",
      "11/11 - 0s - loss: 3.1723 - accuracy: 0.0057 - auc_68: 0.2032 - precision_68: 0.0000e+00 - recall_68: 0.0000e+00 - f1_score: 0.0028 - val_loss: 1.5284 - val_accuracy: 0.0000e+00 - val_auc_68: 0.1562 - val_precision_68: 0.0000e+00 - val_recall_68: 0.0000e+00 - val_f1_score: 0.0000e+00 - 427ms/epoch - 39ms/step\n",
      "Epoch 7/15\n",
      "11/11 - 0s - loss: 3.1740 - accuracy: 0.0057 - auc_68: 0.2054 - precision_68: 0.0000e+00 - recall_68: 0.0000e+00 - f1_score: 0.0028 - val_loss: 1.5417 - val_accuracy: 0.0000e+00 - val_auc_68: 0.1562 - val_precision_68: 0.0000e+00 - val_recall_68: 0.0000e+00 - val_f1_score: 0.0000e+00 - 385ms/epoch - 35ms/step\n",
      "Epoch 8/15\n",
      "11/11 - 0s - loss: 3.1945 - accuracy: 0.0057 - auc_68: 0.2073 - precision_68: 0.0000e+00 - recall_68: 0.0000e+00 - f1_score: 0.0028 - val_loss: 1.5216 - val_accuracy: 0.0000e+00 - val_auc_68: 0.1562 - val_precision_68: 0.0000e+00 - val_recall_68: 0.0000e+00 - val_f1_score: 0.0000e+00 - 402ms/epoch - 37ms/step\n",
      "Epoch 9/15\n",
      "11/11 - 0s - loss: 3.1782 - accuracy: 0.0057 - auc_68: 0.2037 - precision_68: 0.0000e+00 - recall_68: 0.0000e+00 - f1_score: 0.0028 - val_loss: 1.5551 - val_accuracy: 0.0000e+00 - val_auc_68: 0.1562 - val_precision_68: 0.0000e+00 - val_recall_68: 0.0000e+00 - val_f1_score: 0.0000e+00 - 391ms/epoch - 36ms/step\n",
      "Epoch 10/15\n",
      "11/11 - 0s - loss: 3.1793 - accuracy: 0.0057 - auc_68: 0.2045 - precision_68: 0.0000e+00 - recall_68: 0.0000e+00 - f1_score: 0.0028 - val_loss: 1.5499 - val_accuracy: 0.0000e+00 - val_auc_68: 0.1562 - val_precision_68: 0.0000e+00 - val_recall_68: 0.0000e+00 - val_f1_score: 0.0000e+00 - 383ms/epoch - 35ms/step\n",
      "Epoch 11/15\n",
      "11/11 - 0s - loss: 3.1935 - accuracy: 0.0057 - auc_68: 0.2088 - precision_68: 0.0000e+00 - recall_68: 0.0000e+00 - f1_score: 0.0028 - val_loss: 1.5703 - val_accuracy: 0.0000e+00 - val_auc_68: 0.1562 - val_precision_68: 0.0000e+00 - val_recall_68: 0.0000e+00 - val_f1_score: 0.0000e+00 - 397ms/epoch - 36ms/step\n"
     ]
    },
    {
     "data": {
      "image/png": "[encoded data removed]",
      "text/plain": [
       "<Figure size 432x288 with 1 Axes>"
      ]
     },
     "metadata": {
      "needs_background": "light"
     },
     "output_type": "display_data"
    }
   ],
   "source": [
    "for b in batch_sizes:\n",
    "    for act in activation:\n",
    "        for n in neurons:\n",
    "            for s in kernel_size:\n",
    "                for init in kernel_initializer:\n",
    "                    for d in dropout:\n",
    "                        print('Batch size', b, 'Activation', act, 'Neurons', n, 'Kernel size', s, 'Kernel initializer', init, 'Dropout', d)\n",
    "                        for train_index, val_index in kf.split(full_body_X):\n",
    "                            X_train, X_val = full_body_X[train_index], full_body_X[val_index]\n",
    "                            y_train, y_val = full_body_y[train_index], full_body_y[val_index]\n",
    "                            body_CNN = build_CNN(body_features, n_length, body_outputs, neurons=n, kernel_size=s, activation=act, kernel_initializer=init, dropout=d)\n",
    "                            history = train(body_CNN, X_train, y_train, X_val, y_val, epochs=epochs, batch_size=b, class_weight=class_weight)\n",
    "                            if (history['val_accuracy'] > body_best_cnn_acc) and (history['val_roc_auc'] > body_best_cnn_auc):\n",
    "                                body_best_cnn_acc = history['val_accuracy']\n",
    "                                body_best_cnn_auc = history['val_roc_auc']\n",
    "                                body_cnn_loss = history['loss']\n",
    "                                body_best_cnn_model = body_CNN\n",
    "                                body_cnn_values = { 'batch_size': b, 'activation': act, 'neurons': n, 'kernel_size': s, 'kernel_initializer': init, 'dropout': d }"
   ]
  },
  {
   "cell_type": "markdown",
   "metadata": {},
   "source": [
    "#### Train ConvLSTM"
   ]
  },
  {
   "cell_type": "code",
   "execution_count": null,
   "metadata": {},
   "outputs": [],
   "source": [
    "body_best_lstm_acc = 0.0\n",
    "body_best_lstm_auc = 0.0\n",
    "body_lstm_loss = float(\"inf\")\n",
    "body_best_lstm_model = None\n",
    "body_lstm_values = { 'batch_size': 0, 'activation': '', 'neurons': 0, 'kernel_size': 0, 'kernel_initializer': '', 'dropout': float(\"inf\") }"
   ]
  },
  {
   "cell_type": "code",
   "execution_count": 28,
   "metadata": {},
   "outputs": [
    {
     "name": "stdout",
     "output_type": "stream",
     "text": [
      "Epoch 1/15\n",
      "11/11 - 23s - loss: 22.7262 - accuracy: 0.3714 - auc_69: 0.6618 - precision_69: 0.3709 - recall_69: 0.3571 - f1_score: 0.2304 - val_loss: 1.3858 - val_accuracy: 0.4343 - val_auc_69: 0.7305 - val_precision_69: 0.4435 - val_recall_69: 0.3143 - val_f1_score: 0.2081 - 23s/epoch - 2s/step\n",
      "Epoch 2/15\n",
      "11/11 - 1s - loss: 4.1000 - accuracy: 0.4286 - auc_69: 0.7142 - precision_69: 0.5493 - recall_69: 0.2229 - f1_score: 0.2724 - val_loss: 1.1888 - val_accuracy: 0.4743 - val_auc_69: 0.7464 - val_precision_69: 0.4930 - val_recall_69: 0.2000 - val_f1_score: 0.2311 - 1s/epoch - 95ms/step\n",
      "Epoch 3/15\n",
      "11/11 - 1s - loss: 4.4581 - accuracy: 0.4457 - auc_69: 0.7543 - precision_69: 0.5631 - recall_69: 0.1657 - f1_score: 0.2665 - val_loss: 1.3006 - val_accuracy: 0.2514 - val_auc_69: 0.5747 - val_precision_69: 0.4783 - val_recall_69: 0.0629 - val_f1_score: 0.1816 - 1s/epoch - 96ms/step\n",
      "Epoch 4/15\n",
      "11/11 - 1s - loss: 2.4849 - accuracy: 0.3457 - auc_69: 0.7077 - precision_69: 0.5408 - recall_69: 0.1514 - f1_score: 0.2369 - val_loss: 1.3171 - val_accuracy: 0.2514 - val_auc_69: 0.5512 - val_precision_69: 0.5556 - val_recall_69: 0.0571 - val_f1_score: 0.1850 - 1s/epoch - 95ms/step\n",
      "Epoch 5/15\n",
      "11/11 - 1s - loss: 2.3828 - accuracy: 0.2600 - auc_69: 0.5414 - precision_69: 0.6290 - recall_69: 0.1114 - f1_score: 0.1974 - val_loss: 1.2940 - val_accuracy: 0.2914 - val_auc_69: 0.6311 - val_precision_69: 0.3929 - val_recall_69: 0.0629 - val_f1_score: 0.2151 - 1s/epoch - 98ms/step\n",
      "Epoch 6/15\n",
      "11/11 - 1s - loss: 2.3357 - accuracy: 0.2886 - auc_69: 0.6462 - precision_69: 0.5595 - recall_69: 0.1343 - f1_score: 0.2067 - val_loss: 1.2388 - val_accuracy: 0.3543 - val_auc_69: 0.6766 - val_precision_69: 0.4167 - val_recall_69: 0.1143 - val_f1_score: 0.2484 - 1s/epoch - 94ms/step\n",
      "Epoch 7/15\n",
      "11/11 - 1s - loss: 2.2867 - accuracy: 0.3400 - auc_69: 0.6978 - precision_69: 0.4952 - recall_69: 0.1486 - f1_score: 0.2380 - val_loss: 1.2938 - val_accuracy: 0.2743 - val_auc_69: 0.5887 - val_precision_69: 0.4324 - val_recall_69: 0.0914 - val_f1_score: 0.1864 - 1s/epoch - 99ms/step\n",
      "Epoch 8/15\n",
      "11/11 - 1s - loss: 2.2178 - accuracy: 0.3514 - auc_69: 0.7041 - precision_69: 0.6265 - recall_69: 0.1486 - f1_score: 0.2243 - val_loss: 1.1636 - val_accuracy: 0.3486 - val_auc_69: 0.7199 - val_precision_69: 0.4792 - val_recall_69: 0.1314 - val_f1_score: 0.2426 - 1s/epoch - 94ms/step\n",
      "Epoch 9/15\n",
      "11/11 - 1s - loss: 2.4819 - accuracy: 0.3600 - auc_69: 0.7304 - precision_69: 0.4803 - recall_69: 0.1743 - f1_score: 0.2697 - val_loss: 1.3697 - val_accuracy: 0.0571 - val_auc_69: 0.3664 - val_precision_69: 0.5000 - val_recall_69: 0.0171 - val_f1_score: 0.0627 - 1s/epoch - 97ms/step\n",
      "Epoch 10/15\n",
      "11/11 - 1s - loss: 2.3035 - accuracy: 0.3343 - auc_69: 0.7118 - precision_69: 0.6364 - recall_69: 0.1200 - f1_score: 0.1984 - val_loss: 1.1367 - val_accuracy: 0.3829 - val_auc_69: 0.7629 - val_precision_69: 0.4615 - val_recall_69: 0.1371 - val_f1_score: 0.1964 - 1s/epoch - 95ms/step\n",
      "Epoch 11/15\n",
      "11/11 - 1s - loss: 2.6024 - accuracy: 0.0686 - auc_69: 0.3578 - precision_69: 0.5714 - recall_69: 0.0229 - f1_score: 0.0580 - val_loss: 1.3989 - val_accuracy: 0.0057 - val_auc_69: 0.2529 - val_precision_69: 0.0000e+00 - val_recall_69: 0.0000e+00 - val_f1_score: 0.0029 - 1s/epoch - 95ms/step\n",
      "Epoch 12/15\n",
      "11/11 - 1s - loss: 2.5062 - accuracy: 0.0143 - auc_69: 0.2346 - precision_69: 0.5000 - recall_69: 0.0029 - f1_score: 0.0281 - val_loss: 1.3961 - val_accuracy: 0.0057 - val_auc_69: 0.2505 - val_precision_69: 0.0000e+00 - val_recall_69: 0.0000e+00 - val_f1_score: 0.0028 - 1s/epoch - 97ms/step\n",
      "Epoch 13/15\n",
      "11/11 - 1s - loss: 2.5024 - accuracy: 0.0086 - auc_69: 0.2302 - precision_69: 1.0000 - recall_69: 0.0029 - f1_score: 0.0094 - val_loss: 1.3925 - val_accuracy: 0.0057 - val_auc_69: 0.2505 - val_precision_69: 0.0000e+00 - val_recall_69: 0.0000e+00 - val_f1_score: 0.0028 - 1s/epoch - 96ms/step\n",
      "Epoch 14/15\n",
      "11/11 - 1s - loss: 2.4971 - accuracy: 0.0086 - auc_69: 0.2656 - precision_69: 1.0000 - recall_69: 0.0057 - f1_score: 0.0094 - val_loss: 1.3896 - val_accuracy: 0.0057 - val_auc_69: 0.4990 - val_precision_69: 0.0000e+00 - val_recall_69: 0.0000e+00 - val_f1_score: 0.0028 - 1s/epoch - 95ms/step\n",
      "Epoch 15/15\n",
      "11/11 - 1s - loss: 2.4964 - accuracy: 0.1829 - auc_69: 0.5332 - precision_69: 1.0000 - recall_69: 0.0057 - f1_score: 0.1044 - val_loss: 1.3871 - val_accuracy: 0.4514 - val_auc_69: 0.6343 - val_precision_69: 0.0000e+00 - val_recall_69: 0.0000e+00 - val_f1_score: 0.1555 - 1s/epoch - 97ms/step\n"
     ]
    },
    {
     "data": {
      "image/png": "[encoded data removed]",
      "text/plain": [
       "<Figure size 432x288 with 1 Axes>"
      ]
     },
     "metadata": {
      "needs_background": "light"
     },
     "output_type": "display_data"
    },
    {
     "name": "stdout",
     "output_type": "stream",
     "text": [
      "Epoch 1/15\n",
      "11/11 - 25s - loss: 7.5232 - accuracy: 0.3114 - auc_70: 0.5950 - precision_70: 0.3304 - recall_70: 0.2114 - f1_score: 0.2076 - val_loss: 1.3661 - val_accuracy: 0.1086 - val_auc_70: 0.5941 - val_precision_70: 0.6667 - val_recall_70: 0.0114 - val_f1_score: 0.0583 - 25s/epoch - 2s/step\n",
      "Epoch 2/15\n",
      "11/11 - 1s - loss: 2.6381 - accuracy: 0.1086 - auc_70: 0.5094 - precision_70: 0.5000 - recall_70: 0.0114 - f1_score: 0.0599 - val_loss: 1.3714 - val_accuracy: 0.1143 - val_auc_70: 0.4127 - val_precision_70: 1.0000 - val_recall_70: 0.0114 - val_f1_score: 0.0661 - 1s/epoch - 98ms/step\n",
      "Epoch 3/15\n",
      "11/11 - 1s - loss: 2.6221 - accuracy: 0.1171 - auc_70: 0.6243 - precision_70: 0.8571 - recall_70: 0.0171 - f1_score: 0.0684 - val_loss: 1.3871 - val_accuracy: 0.1086 - val_auc_70: 0.6475 - val_precision_70: 0.7500 - val_recall_70: 0.0171 - val_f1_score: 0.0609 - 1s/epoch - 98ms/step\n",
      "Epoch 4/15\n",
      "11/11 - 1s - loss: 2.6476 - accuracy: 0.1314 - auc_70: 0.6593 - precision_70: 0.4667 - recall_70: 0.0200 - f1_score: 0.0876 - val_loss: 1.3520 - val_accuracy: 0.1200 - val_auc_70: 0.6588 - val_precision_70: 1.0000 - val_recall_70: 0.0229 - val_f1_score: 0.0712 - 1s/epoch - 98ms/step\n",
      "Epoch 5/15\n",
      "11/11 - 1s - loss: 2.5956 - accuracy: 0.1114 - auc_70: 0.6494 - precision_70: 0.6250 - recall_70: 0.0143 - f1_score: 0.0621 - val_loss: 1.3604 - val_accuracy: 0.1086 - val_auc_70: 0.6495 - val_precision_70: 0.7500 - val_recall_70: 0.0171 - val_f1_score: 0.0608 - 1s/epoch - 96ms/step\n",
      "Epoch 6/15\n",
      "11/11 - 1s - loss: 2.5818 - accuracy: 0.1143 - auc_70: 0.6553 - precision_70: 0.7143 - recall_70: 0.0143 - f1_score: 0.0647 - val_loss: 1.3550 - val_accuracy: 0.1086 - val_auc_70: 0.6551 - val_precision_70: 0.7500 - val_recall_70: 0.0171 - val_f1_score: 0.0608 - 1s/epoch - 94ms/step\n",
      "Epoch 7/15\n",
      "11/11 - 1s - loss: 2.5788 - accuracy: 0.1143 - auc_70: 0.6578 - precision_70: 0.7500 - recall_70: 0.0171 - f1_score: 0.0647 - val_loss: 1.3539 - val_accuracy: 0.1086 - val_auc_70: 0.6551 - val_precision_70: 0.7500 - val_recall_70: 0.0171 - val_f1_score: 0.0608 - 1s/epoch - 98ms/step\n",
      "Epoch 8/15\n",
      "11/11 - 1s - loss: 2.5780 - accuracy: 0.1171 - auc_70: 0.6047 - precision_70: 0.8750 - recall_70: 0.0200 - f1_score: 0.0684 - val_loss: 1.3512 - val_accuracy: 0.1086 - val_auc_70: 0.5868 - val_precision_70: 0.7500 - val_recall_70: 0.0171 - val_f1_score: 0.0608 - 1s/epoch - 95ms/step\n",
      "Epoch 9/15\n",
      "11/11 - 1s - loss: 2.5807 - accuracy: 0.1114 - auc_70: 0.5855 - precision_70: 0.6250 - recall_70: 0.0143 - f1_score: 0.0610 - val_loss: 1.3509 - val_accuracy: 0.1086 - val_auc_70: 0.5868 - val_precision_70: 0.7500 - val_recall_70: 0.0171 - val_f1_score: 0.0608 - 1s/epoch - 95ms/step\n",
      "Epoch 10/15\n",
      "11/11 - 1s - loss: 2.5893 - accuracy: 0.1171 - auc_70: 0.5901 - precision_70: 0.8750 - recall_70: 0.0200 - f1_score: 0.0694 - val_loss: 1.3516 - val_accuracy: 0.1086 - val_auc_70: 0.5825 - val_precision_70: 0.7500 - val_recall_70: 0.0171 - val_f1_score: 0.0608 - 1s/epoch - 96ms/step\n",
      "Epoch 11/15\n",
      "11/11 - 1s - loss: 2.5838 - accuracy: 0.1171 - auc_70: 0.5872 - precision_70: 0.8750 - recall_70: 0.0200 - f1_score: 0.0694 - val_loss: 1.3541 - val_accuracy: 0.1086 - val_auc_70: 0.5868 - val_precision_70: 1.0000 - val_recall_70: 0.0171 - val_f1_score: 0.0607 - 1s/epoch - 97ms/step\n",
      "Epoch 12/15\n",
      "11/11 - 1s - loss: 2.5762 - accuracy: 0.1200 - auc_70: 0.5882 - precision_70: 0.8750 - recall_70: 0.0200 - f1_score: 0.0721 - val_loss: 1.3500 - val_accuracy: 0.1086 - val_auc_70: 0.5868 - val_precision_70: 1.0000 - val_recall_70: 0.0171 - val_f1_score: 0.0608 - 1s/epoch - 99ms/step\n",
      "Epoch 13/15\n",
      "11/11 - 1s - loss: 2.5719 - accuracy: 0.1171 - auc_70: 0.5900 - precision_70: 0.8750 - recall_70: 0.0200 - f1_score: 0.0684 - val_loss: 1.3461 - val_accuracy: 0.1086 - val_auc_70: 0.5880 - val_precision_70: 0.7500 - val_recall_70: 0.0171 - val_f1_score: 0.0608 - 1s/epoch - 98ms/step\n",
      "Epoch 14/15\n",
      "11/11 - 1s - loss: 2.5729 - accuracy: 0.1143 - auc_70: 0.5706 - precision_70: 0.7500 - recall_70: 0.0171 - f1_score: 0.0647 - val_loss: 1.3451 - val_accuracy: 0.1086 - val_auc_70: 0.5626 - val_precision_70: 0.7500 - val_recall_70: 0.0171 - val_f1_score: 0.0608 - 1s/epoch - 95ms/step\n",
      "Epoch 15/15\n",
      "11/11 - 1s - loss: 2.5910 - accuracy: 0.1114 - auc_70: 0.5623 - precision_70: 0.6250 - recall_70: 0.0143 - f1_score: 0.0610 - val_loss: 1.3424 - val_accuracy: 0.1086 - val_auc_70: 0.5645 - val_precision_70: 0.7500 - val_recall_70: 0.0171 - val_f1_score: 0.0608 - 1s/epoch - 97ms/step\n"
     ]
    },
    {
     "data": {
      "image/png": "[encoded data removed]",
      "text/plain": [
       "<Figure size 432x288 with 1 Axes>"
      ]
     },
     "metadata": {
      "needs_background": "light"
     },
     "output_type": "display_data"
    },
    {
     "name": "stdout",
     "output_type": "stream",
     "text": [
      "Epoch 1/15\n",
      "11/11 - 25s - loss: 48.4829 - accuracy: 0.3000 - auc_71: 0.5250 - precision_71: 0.2991 - recall_71: 0.2914 - f1_score: 0.2352 - val_loss: 1.8919 - val_accuracy: 0.3771 - val_auc_71: 0.6863 - val_precision_71: 0.3882 - val_recall_71: 0.3371 - val_f1_score: 0.1980 - 25s/epoch - 2s/step\n",
      "Epoch 2/15\n",
      "11/11 - 1s - loss: 6.4453 - accuracy: 0.2771 - auc_71: 0.5738 - precision_71: 0.2795 - recall_71: 0.2371 - f1_score: 0.2113 - val_loss: 0.9522 - val_accuracy: 0.6000 - val_auc_71: 0.8400 - val_precision_71: 0.6026 - val_recall_71: 0.5371 - val_f1_score: 0.2713 - 1s/epoch - 103ms/step\n",
      "Epoch 3/15\n",
      "11/11 - 1s - loss: 6.3836 - accuracy: 0.3000 - auc_71: 0.6461 - precision_71: 0.3151 - recall_71: 0.2629 - f1_score: 0.2081 - val_loss: 1.7372 - val_accuracy: 0.1314 - val_auc_71: 0.5375 - val_precision_71: 0.1298 - val_recall_71: 0.0971 - val_f1_score: 0.0860 - 1s/epoch - 103ms/step\n",
      "Epoch 4/15\n",
      "11/11 - 1s - loss: 3.9033 - accuracy: 0.2600 - auc_71: 0.5683 - precision_71: 0.4272 - recall_71: 0.1257 - f1_score: 0.2202 - val_loss: 1.2577 - val_accuracy: 0.4114 - val_auc_71: 0.7261 - val_precision_71: 0.6327 - val_recall_71: 0.1771 - val_f1_score: 0.2871 - 1s/epoch - 111ms/step\n",
      "Epoch 5/15\n",
      "11/11 - 1s - loss: 3.5002 - accuracy: 0.2971 - auc_71: 0.5699 - precision_71: 0.3688 - recall_71: 0.1486 - f1_score: 0.2210 - val_loss: 1.7153 - val_accuracy: 0.3429 - val_auc_71: 0.5725 - val_precision_71: 0.3918 - val_recall_71: 0.2171 - val_f1_score: 0.2115 - 1s/epoch - 110ms/step\n",
      "Epoch 6/15\n",
      "11/11 - 1s - loss: 4.1066 - accuracy: 0.3629 - auc_71: 0.6526 - precision_71: 0.3786 - recall_71: 0.1514 - f1_score: 0.2463 - val_loss: 1.1729 - val_accuracy: 0.4400 - val_auc_71: 0.7553 - val_precision_71: 0.6458 - val_recall_71: 0.1771 - val_f1_score: 0.2346 - 1s/epoch - 104ms/step\n",
      "Epoch 7/15\n",
      "11/11 - 1s - loss: 3.1279 - accuracy: 0.2743 - auc_71: 0.6409 - precision_71: 0.6327 - recall_71: 0.0886 - f1_score: 0.1963 - val_loss: 1.4844 - val_accuracy: 0.1943 - val_auc_71: 0.4909 - val_precision_71: 0.6000 - val_recall_71: 0.1200 - val_f1_score: 0.1161 - 1s/epoch - 113ms/step\n",
      "Epoch 8/15\n",
      "11/11 - 1s - loss: 3.1069 - accuracy: 0.1371 - auc_71: 0.4527 - precision_71: 0.6111 - recall_71: 0.0629 - f1_score: 0.1200 - val_loss: 1.3135 - val_accuracy: 0.1429 - val_auc_71: 0.4352 - val_precision_71: 0.7500 - val_recall_71: 0.0857 - val_f1_score: 0.1267 - 1s/epoch - 111ms/step\n",
      "Epoch 9/15\n",
      "11/11 - 1s - loss: 3.0425 - accuracy: 0.2200 - auc_71: 0.5421 - precision_71: 0.6912 - recall_71: 0.1343 - f1_score: 0.1961 - val_loss: 1.2669 - val_accuracy: 0.2400 - val_auc_71: 0.5872 - val_precision_71: 0.5510 - val_recall_71: 0.1543 - val_f1_score: 0.1752 - 1s/epoch - 103ms/step\n",
      "Epoch 10/15\n",
      "11/11 - 1s - loss: 2.9323 - accuracy: 0.3286 - auc_71: 0.6733 - precision_71: 0.6703 - recall_71: 0.1743 - f1_score: 0.2644 - val_loss: 1.1844 - val_accuracy: 0.3429 - val_auc_71: 0.6921 - val_precision_71: 0.5333 - val_recall_71: 0.1829 - val_f1_score: 0.2194 - 1s/epoch - 103ms/step\n",
      "Epoch 11/15\n",
      "11/11 - 1s - loss: 3.0591 - accuracy: 0.2629 - auc_71: 0.6509 - precision_71: 0.6180 - recall_71: 0.1571 - f1_score: 0.2062 - val_loss: 1.3841 - val_accuracy: 0.1029 - val_auc_71: 0.4332 - val_precision_71: 0.5714 - val_recall_71: 0.0457 - val_f1_score: 0.0910 - 1s/epoch - 107ms/step\n",
      "Epoch 12/15\n",
      "11/11 - 1s - loss: 3.1588 - accuracy: 0.0800 - auc_71: 0.3346 - precision_71: 0.6250 - recall_71: 0.0286 - f1_score: 0.1010 - val_loss: 1.3866 - val_accuracy: 0.0800 - val_auc_71: 0.2892 - val_precision_71: 0.8750 - val_recall_71: 0.0400 - val_f1_score: 0.0731 - 1s/epoch - 106ms/step\n"
     ]
    },
    {
     "data": {
      "image/png": "[encoded data removed]",
      "text/plain": [
       "<Figure size 432x288 with 1 Axes>"
      ]
     },
     "metadata": {
      "needs_background": "light"
     },
     "output_type": "display_data"
    }
   ],
   "source": [
    "for b in batch_sizes:\n",
    "    for act in activation:\n",
    "        for n in neurons:\n",
    "            for s in kernel_size:\n",
    "                for init in kernel_initializer:\n",
    "                    for d in dropout:\n",
    "                        print('Batch size', b, 'Activation', act, 'Neurons', n, 'Kernel size', s, 'Kernel initializer', init, 'Dropout', d)\n",
    "                        for train_index, val_index in kf.split(full_body_X):\n",
    "                            X_train, X_val = full_body_X[train_index], full_body_X[val_index]\n",
    "                            y_train, y_val = full_body_y[train_index], full_body_y[val_index]\n",
    "                            body_convLSTM = build_convLSTM(body_features, n_length, body_outputs, neurons=n, kernel_size=s, activation=act, kernel_initializer=init, dropout=d)\n",
    "                            history = train(body_convLSTM, X_train, y_train, X_val, y_val, epochs=epochs, batch_size=b, class_weight=class_weight)\n",
    "                            if (history['val_accuracy'] > body_best_lstm_acc) and (history['val_roc_auc'] > body_best_lstm_auc):\n",
    "                                body_best_lstm_acc = history['val_accuracy']\n",
    "                                body_best_lstm_auc = history['val_roc_auc']\n",
    "                                body_lstm_loss = history['loss']\n",
    "                                body_best_lstm_model = body_convLSTM\n",
    "                                body_lstm_values = { 'batch_size': b, 'activation': act, 'neurons': n, 'kernel_size': s, 'kernel_initializer': init, 'dropout': d }"
   ]
  },
  {
   "cell_type": "markdown",
   "metadata": {},
   "source": [
    "#### Train RCNN"
   ]
  },
  {
   "cell_type": "code",
   "execution_count": null,
   "metadata": {},
   "outputs": [],
   "source": [
    "body_best_rcnn_acc = 0.0\n",
    "body_best_rcnn_auc = 0.0\n",
    "body_rcnn_loss = float(\"inf\")\n",
    "body_best_rcnn_model = None\n",
    "body_rcnn_values = { 'batch_size': 0, 'activation': '', 'neurons': 0, 'kernel_size': 0, 'kernel_initializer': '', 'dropout': float(\"inf\") }"
   ]
  },
  {
   "cell_type": "code",
   "execution_count": 29,
   "metadata": {},
   "outputs": [
    {
     "name": "stdout",
     "output_type": "stream",
     "text": [
      "Epoch 1/15\n",
      "11/11 - 8s - loss: 67.7453 - accuracy: 0.3600 - auc_72: 0.5954 - precision_72: 0.3594 - recall_72: 0.3543 - f1_score: 0.2404 - val_loss: 108.9195 - val_accuracy: 0.1200 - val_auc_72: 0.4133 - val_precision_72: 0.1200 - val_recall_72: 0.1200 - val_f1_score: 0.0536 - 8s/epoch - 704ms/step\n",
      "Epoch 2/15\n",
      "11/11 - 0s - loss: 62.5873 - accuracy: 0.4257 - auc_72: 0.6584 - precision_72: 0.4265 - recall_72: 0.4229 - f1_score: 0.2860 - val_loss: 56.9569 - val_accuracy: 0.4514 - val_auc_72: 0.6343 - val_precision_72: 0.4514 - val_recall_72: 0.4514 - val_f1_score: 0.1555 - 333ms/epoch - 30ms/step\n",
      "Epoch 3/15\n",
      "11/11 - 0s - loss: 11.3489 - accuracy: 0.3829 - auc_72: 0.6254 - precision_72: 0.3833 - recall_72: 0.3800 - f1_score: 0.2819 - val_loss: 20.5780 - val_accuracy: 0.3714 - val_auc_72: 0.5818 - val_precision_72: 0.3714 - val_recall_72: 0.3714 - val_f1_score: 0.1835 - 364ms/epoch - 33ms/step\n",
      "Epoch 4/15\n",
      "11/11 - 0s - loss: 11.1064 - accuracy: 0.3714 - auc_72: 0.6220 - precision_72: 0.3725 - recall_72: 0.3714 - f1_score: 0.2775 - val_loss: 19.9928 - val_accuracy: 0.4229 - val_auc_72: 0.6496 - val_precision_72: 0.4229 - val_recall_72: 0.4229 - val_f1_score: 0.2016 - 340ms/epoch - 31ms/step\n",
      "Epoch 5/15\n",
      "11/11 - 0s - loss: 5.7771 - accuracy: 0.4629 - auc_72: 0.7052 - precision_72: 0.4642 - recall_72: 0.4629 - f1_score: 0.5679 - val_loss: 26.2694 - val_accuracy: 0.4514 - val_auc_72: 0.6343 - val_precision_72: 0.4514 - val_recall_72: 0.4514 - val_f1_score: 0.1555 - 339ms/epoch - 31ms/step\n",
      "Epoch 6/15\n",
      "11/11 - 0s - loss: 3.9727 - accuracy: 0.4486 - auc_72: 0.7462 - precision_72: 0.4503 - recall_72: 0.4400 - f1_score: 0.4608 - val_loss: 16.8873 - val_accuracy: 0.4229 - val_auc_72: 0.6152 - val_precision_72: 0.4229 - val_recall_72: 0.4229 - val_f1_score: 0.1486 - 374ms/epoch - 34ms/step\n",
      "Epoch 7/15\n",
      "11/11 - 0s - loss: 2.3589 - accuracy: 0.5457 - auc_72: 0.8155 - precision_72: 0.5487 - recall_72: 0.5314 - f1_score: 0.5070 - val_loss: 3.7634 - val_accuracy: 0.4514 - val_auc_72: 0.7344 - val_precision_72: 0.4514 - val_recall_72: 0.4514 - val_f1_score: 0.2186 - 362ms/epoch - 33ms/step\n",
      "Epoch 8/15\n",
      "11/11 - 0s - loss: 1.5592 - accuracy: 0.5600 - auc_72: 0.8468 - precision_72: 0.5697 - recall_72: 0.5486 - f1_score: 0.5116 - val_loss: 9.4676 - val_accuracy: 0.4229 - val_auc_72: 0.6309 - val_precision_72: 0.4229 - val_recall_72: 0.4229 - val_f1_score: 0.1486 - 341ms/epoch - 31ms/step\n",
      "Epoch 9/15\n",
      "11/11 - 0s - loss: 1.2186 - accuracy: 0.6229 - auc_72: 0.8721 - precision_72: 0.6339 - recall_72: 0.6086 - f1_score: 0.6902 - val_loss: 4.5447 - val_accuracy: 0.4857 - val_auc_72: 0.7654 - val_precision_72: 0.4913 - val_recall_72: 0.4857 - val_f1_score: 0.2562 - 369ms/epoch - 34ms/step\n",
      "Epoch 10/15\n",
      "11/11 - 0s - loss: 1.1877 - accuracy: 0.6343 - auc_72: 0.8784 - precision_72: 0.6594 - recall_72: 0.6029 - f1_score: 0.6894 - val_loss: 4.0293 - val_accuracy: 0.3943 - val_auc_72: 0.7282 - val_precision_72: 0.4012 - val_recall_72: 0.3829 - val_f1_score: 0.2598 - 342ms/epoch - 31ms/step\n",
      "Epoch 11/15\n",
      "11/11 - 0s - loss: 1.5169 - accuracy: 0.5857 - auc_72: 0.8465 - precision_72: 0.5935 - recall_72: 0.5714 - f1_score: 0.6575 - val_loss: 7.0043 - val_accuracy: 0.4000 - val_auc_72: 0.6360 - val_precision_72: 0.4000 - val_recall_72: 0.4000 - val_f1_score: 0.1464 - 362ms/epoch - 33ms/step\n",
      "Epoch 12/15\n",
      "11/11 - 0s - loss: 1.4740 - accuracy: 0.6114 - auc_72: 0.8672 - precision_72: 0.6172 - recall_72: 0.5943 - f1_score: 0.6644 - val_loss: 3.6666 - val_accuracy: 0.4171 - val_auc_72: 0.7258 - val_precision_72: 0.4269 - val_recall_72: 0.4171 - val_f1_score: 0.2635 - 356ms/epoch - 32ms/step\n",
      "Epoch 13/15\n",
      "11/11 - 0s - loss: 1.4378 - accuracy: 0.6057 - auc_72: 0.8591 - precision_72: 0.6101 - recall_72: 0.5857 - f1_score: 0.5616 - val_loss: 3.8506 - val_accuracy: 0.3714 - val_auc_72: 0.6547 - val_precision_72: 0.3571 - val_recall_72: 0.3429 - val_f1_score: 0.2563 - 342ms/epoch - 31ms/step\n",
      "Epoch 14/15\n",
      "11/11 - 0s - loss: 1.1710 - accuracy: 0.6429 - auc_72: 0.8840 - precision_72: 0.6507 - recall_72: 0.6229 - f1_score: 0.6379 - val_loss: 4.8079 - val_accuracy: 0.4343 - val_auc_72: 0.7036 - val_precision_72: 0.4343 - val_recall_72: 0.4343 - val_f1_score: 0.1514 - 358ms/epoch - 33ms/step\n",
      "Epoch 15/15\n",
      "11/11 - 0s - loss: 1.2499 - accuracy: 0.6400 - auc_72: 0.8888 - precision_72: 0.6406 - recall_72: 0.6314 - f1_score: 0.7261 - val_loss: 4.4422 - val_accuracy: 0.4343 - val_auc_72: 0.7193 - val_precision_72: 0.4343 - val_recall_72: 0.4343 - val_f1_score: 0.1520 - 356ms/epoch - 32ms/step\n"
     ]
    },
    {
     "data": {
      "image/png": "[encoded data removed]",
      "text/plain": [
       "<Figure size 432x288 with 1 Axes>"
      ]
     },
     "metadata": {
      "needs_background": "light"
     },
     "output_type": "display_data"
    },
    {
     "name": "stdout",
     "output_type": "stream",
     "text": [
      "Epoch 1/15\n",
      "11/11 - 7s - loss: 65.3842 - accuracy: 0.3514 - auc_73: 0.5779 - precision_73: 0.3557 - recall_73: 0.3486 - f1_score: 0.2346 - val_loss: 126.8788 - val_accuracy: 0.5314 - val_auc_73: 0.6876 - val_precision_73: 0.5314 - val_recall_73: 0.5314 - val_f1_score: 0.1735 - 7s/epoch - 654ms/step\n",
      "Epoch 2/15\n",
      "11/11 - 0s - loss: 13.8606 - accuracy: 0.3743 - auc_73: 0.6103 - precision_73: 0.3775 - recall_73: 0.3743 - f1_score: 0.2904 - val_loss: 28.3765 - val_accuracy: 0.4743 - val_auc_73: 0.6597 - val_precision_73: 0.4743 - val_recall_73: 0.4743 - val_f1_score: 0.1621 - 359ms/epoch - 33ms/step\n",
      "Epoch 3/15\n",
      "11/11 - 0s - loss: 36.8655 - accuracy: 0.3429 - auc_73: 0.6080 - precision_73: 0.3420 - recall_73: 0.3371 - f1_score: 0.2356 - val_loss: 38.1507 - val_accuracy: 0.4400 - val_auc_73: 0.6263 - val_precision_73: 0.4400 - val_recall_73: 0.4400 - val_f1_score: 0.1540 - 362ms/epoch - 33ms/step\n",
      "Epoch 4/15\n",
      "11/11 - 0s - loss: 7.9378 - accuracy: 0.4286 - auc_73: 0.6856 - precision_73: 0.4290 - recall_73: 0.4229 - f1_score: 0.3236 - val_loss: 20.7662 - val_accuracy: 0.5314 - val_auc_73: 0.6905 - val_precision_73: 0.5314 - val_recall_73: 0.5314 - val_f1_score: 0.1735 - 362ms/epoch - 33ms/step\n",
      "Epoch 5/15\n",
      "11/11 - 0s - loss: 11.4436 - accuracy: 0.4343 - auc_73: 0.6882 - precision_73: 0.4362 - recall_73: 0.4200 - f1_score: 0.3040 - val_loss: 29.3961 - val_accuracy: 0.4914 - val_auc_73: 0.6778 - val_precision_73: 0.4914 - val_recall_73: 0.4914 - val_f1_score: 0.2124 - 365ms/epoch - 33ms/step\n",
      "Epoch 6/15\n",
      "11/11 - 0s - loss: 15.3549 - accuracy: 0.3800 - auc_73: 0.6385 - precision_73: 0.3808 - recall_73: 0.3743 - f1_score: 0.2800 - val_loss: 30.5725 - val_accuracy: 0.5314 - val_auc_73: 0.6876 - val_precision_73: 0.5314 - val_recall_73: 0.5314 - val_f1_score: 0.1735 - 334ms/epoch - 30ms/step\n",
      "Epoch 7/15\n",
      "11/11 - 0s - loss: 5.6553 - accuracy: 0.4457 - auc_73: 0.7151 - precision_73: 0.4516 - recall_73: 0.4400 - f1_score: 0.3863 - val_loss: 29.3265 - val_accuracy: 0.5314 - val_auc_73: 0.6876 - val_precision_73: 0.5314 - val_recall_73: 0.5314 - val_f1_score: 0.1735 - 353ms/epoch - 32ms/step\n",
      "Epoch 8/15\n",
      "11/11 - 0s - loss: 13.3824 - accuracy: 0.4314 - auc_73: 0.6784 - precision_73: 0.4311 - recall_73: 0.4200 - f1_score: 0.3087 - val_loss: 39.3771 - val_accuracy: 0.3714 - val_auc_73: 0.5810 - val_precision_73: 0.3714 - val_recall_73: 0.3714 - val_f1_score: 0.1354 - 370ms/epoch - 34ms/step\n",
      "Epoch 9/15\n",
      "11/11 - 0s - loss: 16.7406 - accuracy: 0.4343 - auc_73: 0.7017 - precision_73: 0.4324 - recall_73: 0.4200 - f1_score: 0.3158 - val_loss: 44.0521 - val_accuracy: 0.3714 - val_auc_73: 0.5810 - val_precision_73: 0.3714 - val_recall_73: 0.3714 - val_f1_score: 0.1354 - 341ms/epoch - 31ms/step\n",
      "Epoch 10/15\n",
      "11/11 - 0s - loss: 6.6927 - accuracy: 0.4714 - auc_73: 0.7415 - precision_73: 0.4808 - recall_73: 0.4657 - f1_score: 0.3691 - val_loss: 28.6729 - val_accuracy: 0.2857 - val_auc_73: 0.5188 - val_precision_73: 0.2857 - val_recall_73: 0.2857 - val_f1_score: 0.1369 - 410ms/epoch - 37ms/step\n",
      "Epoch 11/15\n",
      "11/11 - 0s - loss: 3.5217 - accuracy: 0.4914 - auc_73: 0.7482 - precision_73: 0.4985 - recall_73: 0.4771 - f1_score: 0.4312 - val_loss: 11.6435 - val_accuracy: 0.4514 - val_auc_73: 0.7413 - val_precision_73: 0.4514 - val_recall_73: 0.4514 - val_f1_score: 0.2298 - 338ms/epoch - 31ms/step\n",
      "Epoch 12/15\n",
      "11/11 - 0s - loss: 5.2160 - accuracy: 0.4629 - auc_73: 0.7087 - precision_73: 0.4653 - recall_73: 0.4600 - f1_score: 0.4803 - val_loss: 33.7509 - val_accuracy: 0.1657 - val_auc_73: 0.4404 - val_precision_73: 0.1657 - val_recall_73: 0.1657 - val_f1_score: 0.1141 - 332ms/epoch - 30ms/step\n",
      "Epoch 13/15\n",
      "11/11 - 0s - loss: 7.3850 - accuracy: 0.4657 - auc_73: 0.6958 - precision_73: 0.4696 - recall_73: 0.4629 - f1_score: 0.5695 - val_loss: 9.3475 - val_accuracy: 0.4514 - val_auc_73: 0.7070 - val_precision_73: 0.4451 - val_recall_73: 0.4400 - val_f1_score: 0.2184 - 377ms/epoch - 34ms/step\n",
      "Epoch 14/15\n",
      "11/11 - 0s - loss: 2.4326 - accuracy: 0.5457 - auc_73: 0.8068 - precision_73: 0.5552 - recall_73: 0.5457 - f1_score: 0.5175 - val_loss: 9.4297 - val_accuracy: 0.3143 - val_auc_73: 0.6355 - val_precision_73: 0.3179 - val_recall_73: 0.3143 - val_f1_score: 0.2129 - 350ms/epoch - 32ms/step\n",
      "Epoch 15/15\n",
      "11/11 - 0s - loss: 3.1275 - accuracy: 0.5029 - auc_73: 0.7686 - precision_73: 0.5060 - recall_73: 0.4857 - f1_score: 0.6057 - val_loss: 9.4931 - val_accuracy: 0.4057 - val_auc_73: 0.6862 - val_precision_73: 0.4080 - val_recall_73: 0.4057 - val_f1_score: 0.2077 - 353ms/epoch - 32ms/step\n"
     ]
    },
    {
     "data": {
      "image/png": "[encoded data removed]",
      "text/plain": [
       "<Figure size 432x288 with 1 Axes>"
      ]
     },
     "metadata": {
      "needs_background": "light"
     },
     "output_type": "display_data"
    },
    {
     "name": "stdout",
     "output_type": "stream",
     "text": [
      "Epoch 1/15\n",
      "11/11 - 13s - loss: 85.1799 - accuracy: 0.4029 - auc_74: 0.6146 - precision_74: 0.4076 - recall_74: 0.3971 - f1_score: 0.2860 - val_loss: 1113.6249 - val_accuracy: 0.0000e+00 - val_auc_74: 0.3333 - val_precision_74: 0.0000e+00 - val_recall_74: 0.0000e+00 - val_f1_score: 0.0000e+00 - 13s/epoch - 1s/step\n",
      "Epoch 2/15\n",
      "11/11 - 0s - loss: 32.2794 - accuracy: 0.3543 - auc_74: 0.5847 - precision_74: 0.3524 - recall_74: 0.3514 - f1_score: 0.2688 - val_loss: 289.8771 - val_accuracy: 0.3314 - val_auc_74: 0.5543 - val_precision_74: 0.3314 - val_recall_74: 0.3314 - val_f1_score: 0.1245 - 316ms/epoch - 29ms/step\n",
      "Epoch 3/15\n",
      "11/11 - 0s - loss: 41.5136 - accuracy: 0.3514 - auc_74: 0.5791 - precision_74: 0.3534 - recall_74: 0.3514 - f1_score: 0.2647 - val_loss: 214.8295 - val_accuracy: 0.6000 - val_auc_74: 0.7333 - val_precision_74: 0.6000 - val_recall_74: 0.6000 - val_f1_score: 0.1875 - 315ms/epoch - 29ms/step\n",
      "Epoch 4/15\n",
      "11/11 - 0s - loss: 24.9294 - accuracy: 0.4200 - auc_74: 0.6299 - precision_74: 0.4200 - recall_74: 0.4200 - f1_score: 0.3408 - val_loss: 31.4062 - val_accuracy: 0.6057 - val_auc_74: 0.7402 - val_precision_74: 0.6057 - val_recall_74: 0.6057 - val_f1_score: 0.1966 - 323ms/epoch - 29ms/step\n",
      "Epoch 5/15\n",
      "11/11 - 0s - loss: 27.6463 - accuracy: 0.5343 - auc_74: 0.7235 - precision_74: 0.5358 - recall_74: 0.5343 - f1_score: 0.4311 - val_loss: 25.7652 - val_accuracy: 0.3714 - val_auc_74: 0.6024 - val_precision_74: 0.3714 - val_recall_74: 0.3714 - val_f1_score: 0.1824 - 299ms/epoch - 27ms/step\n",
      "Epoch 6/15\n",
      "11/11 - 0s - loss: 19.4737 - accuracy: 0.4400 - auc_74: 0.6798 - precision_74: 0.4413 - recall_74: 0.4400 - f1_score: 0.3546 - val_loss: 35.6282 - val_accuracy: 0.3314 - val_auc_74: 0.5520 - val_precision_74: 0.3314 - val_recall_74: 0.3314 - val_f1_score: 0.1332 - 310ms/epoch - 28ms/step\n",
      "Epoch 7/15\n",
      "11/11 - 0s - loss: 7.3038 - accuracy: 0.4943 - auc_74: 0.7350 - precision_74: 0.4971 - recall_74: 0.4914 - f1_score: 0.4282 - val_loss: 18.0195 - val_accuracy: 0.5943 - val_auc_74: 0.7382 - val_precision_74: 0.5943 - val_recall_74: 0.5943 - val_f1_score: 0.1864 - 303ms/epoch - 28ms/step\n",
      "Epoch 8/15\n",
      "11/11 - 0s - loss: 4.9041 - accuracy: 0.4886 - auc_74: 0.7453 - precision_74: 0.4928 - recall_74: 0.4886 - f1_score: 0.5191 - val_loss: 15.7500 - val_accuracy: 0.2400 - val_auc_74: 0.4907 - val_precision_74: 0.2400 - val_recall_74: 0.2400 - val_f1_score: 0.1397 - 335ms/epoch - 30ms/step\n",
      "Epoch 9/15\n",
      "11/11 - 0s - loss: 17.1261 - accuracy: 0.5029 - auc_74: 0.7478 - precision_74: 0.5000 - recall_74: 0.4943 - f1_score: 0.3967 - val_loss: 9.0524 - val_accuracy: 0.3600 - val_auc_74: 0.6099 - val_precision_74: 0.3600 - val_recall_74: 0.3600 - val_f1_score: 0.1677 - 311ms/epoch - 28ms/step\n",
      "Epoch 10/15\n",
      "11/11 - 0s - loss: 13.8427 - accuracy: 0.3943 - auc_74: 0.6772 - precision_74: 0.3971 - recall_74: 0.3914 - f1_score: 0.3104 - val_loss: 21.4414 - val_accuracy: 0.0857 - val_auc_74: 0.4001 - val_precision_74: 0.0857 - val_recall_74: 0.0857 - val_f1_score: 0.0535 - 290ms/epoch - 26ms/step\n",
      "Epoch 11/15\n",
      "11/11 - 0s - loss: 6.4014 - accuracy: 0.4314 - auc_74: 0.7188 - precision_74: 0.4390 - recall_74: 0.4314 - f1_score: 0.3771 - val_loss: 4.6128 - val_accuracy: 0.6057 - val_auc_74: 0.7909 - val_precision_74: 0.6057 - val_recall_74: 0.6057 - val_f1_score: 0.2041 - 322ms/epoch - 29ms/step\n",
      "Epoch 12/15\n",
      "11/11 - 0s - loss: 5.2800 - accuracy: 0.5114 - auc_74: 0.7714 - precision_74: 0.5159 - recall_74: 0.5114 - f1_score: 0.4860 - val_loss: 4.4994 - val_accuracy: 0.5086 - val_auc_74: 0.7965 - val_precision_74: 0.5086 - val_recall_74: 0.5086 - val_f1_score: 0.2635 - 322ms/epoch - 29ms/step\n",
      "Epoch 13/15\n",
      "11/11 - 0s - loss: 3.7675 - accuracy: 0.5543 - auc_74: 0.7968 - precision_74: 0.5614 - recall_74: 0.5486 - f1_score: 0.5350 - val_loss: 3.5593 - val_accuracy: 0.4057 - val_auc_74: 0.7384 - val_precision_74: 0.4057 - val_recall_74: 0.4057 - val_f1_score: 0.1930 - 295ms/epoch - 27ms/step\n",
      "Epoch 14/15\n",
      "11/11 - 0s - loss: 3.0366 - accuracy: 0.5514 - auc_74: 0.7933 - precision_74: 0.5520 - recall_74: 0.5457 - f1_score: 0.5602 - val_loss: 3.2320 - val_accuracy: 0.5714 - val_auc_74: 0.8418 - val_precision_74: 0.5714 - val_recall_74: 0.5714 - val_f1_score: 0.2617 - 328ms/epoch - 30ms/step\n",
      "Epoch 15/15\n",
      "11/11 - 0s - loss: 3.0478 - accuracy: 0.5143 - auc_74: 0.7993 - precision_74: 0.5172 - recall_74: 0.5143 - f1_score: 0.6230 - val_loss: 3.0067 - val_accuracy: 0.4857 - val_auc_74: 0.7647 - val_precision_74: 0.4857 - val_recall_74: 0.4857 - val_f1_score: 0.2339 - 337ms/epoch - 31ms/step\n"
     ]
    },
    {
     "data": {
      "image/png": "[encoded data removed]",
      "text/plain": [
       "<Figure size 432x288 with 1 Axes>"
      ]
     },
     "metadata": {
      "needs_background": "light"
     },
     "output_type": "display_data"
    }
   ],
   "source": [
    "for b in batch_sizes:\n",
    "    for act in activation:\n",
    "        for n in neurons:\n",
    "            for s in kernel_size:\n",
    "                for init in kernel_initializer:\n",
    "                    for d in dropout:\n",
    "                        print('Batch size', b, 'Activation', act, 'Neurons', n, 'Kernel size', s, 'Kernel initializer', init, 'Dropout', d)\n",
    "                        for train_index, val_index in kf.split(full_body_X):\n",
    "                            X_train, X_val = full_body_X[train_index], full_body_X[val_index]\n",
    "                            y_train, y_val = full_body_y[train_index], full_body_y[val_index]\n",
    "                            body_RCNN = build_RCNN(body_features, n_length, body_outputs, neurons=n, kernel_size=s, activation=act, kernel_initializer=init, dropout=d)\n",
    "                            history = train(body_RCNN, X_train, y_train, X_val, y_val, epochs=epochs, batch_size=b, class_weight=class_weight)\n",
    "                            if (history['val_accuracy'] > body_best_rcnn_acc) and (history['val_roc_auc'] > body_best_rcnn_auc):\n",
    "                                body_best_rcnn_acc = history['val_accuracy']\n",
    "                                body_best_rcnn_auc = history['val_roc_auc']\n",
    "                                body_rcnn_loss = history['loss']\n",
    "                                body_best_rcnn_model = body_RCNN\n",
    "                                body_rcnn_values = { 'batch_size': b, 'activation': act, 'neurons': n, 'kernel_size': s, 'kernel_initializer': init, 'dropout': d }"
   ]
  },
  {
   "cell_type": "markdown",
   "metadata": {},
   "source": [
    "### 1.2 Face modality (Action units)"
   ]
  },
  {
   "cell_type": "code",
   "execution_count": 30,
   "metadata": {},
   "outputs": [],
   "source": [
    "umild, lmoderate, lmild, umoderate = np.sum(face_y, axis=0)\n",
    "total = umild + lmoderate + lmild + umoderate\n",
    "\n",
    "weight_for_0 = (1 / umild) * (total / 2.0)\n",
    "weight_for_1 = (1 / lmoderate) * (total / 2.0)\n",
    "weight_for_2 = (1 / lmild) * (total / 2.0)\n",
    "weight_for_3 = (1 / umoderate) * (total / 2.0)\n",
    "\n",
    "class_weight = {0: weight_for_0, 1: weight_for_1, 2: weight_for_2, 3: weight_for_3}"
   ]
  },
  {
   "cell_type": "markdown",
   "metadata": {},
   "source": [
    "#### Train BiLSTM"
   ]
  },
  {
   "cell_type": "code",
   "execution_count": null,
   "metadata": {},
   "outputs": [],
   "source": [
    "face_best_biconv_acc = 0.0\n",
    "face_best_biconv_auc = 0.0\n",
    "face_biconv_loss = float(\"inf\")\n",
    "face_best_biconv_model = None\n",
    "face_biconv_values = { 'batch_size': 0, 'activation': '', 'neurons': 0, 'kernel_size': 0, 'kernel_initializer': '', 'dropout': float(\"inf\") }"
   ]
  },
  {
   "cell_type": "code",
   "execution_count": 31,
   "metadata": {},
   "outputs": [
    {
     "name": "stdout",
     "output_type": "stream",
     "text": [
      "Kernel size: 3\n",
      "Epoch 1/15\n",
      "11/11 - 72s - loss: 3.1986 - accuracy: 0.5015 - auc_75: 0.7039 - precision_75: 0.8750 - recall_75: 0.0206 - f1_score: 0.2050 - val_loss: 1.1691 - val_accuracy: 0.4706 - val_auc_75: 0.7746 - val_precision_75: 0.6429 - val_recall_75: 0.0529 - val_f1_score: 0.1600 - 72s/epoch - 7s/step\n",
      "Epoch 2/15\n",
      "11/11 - 3s - loss: 3.0017 - accuracy: 0.5015 - auc_75: 0.7250 - precision_75: 0.7000 - recall_75: 0.0413 - f1_score: 0.2921 - val_loss: 1.2841 - val_accuracy: 0.3412 - val_auc_75: 0.6427 - val_precision_75: 0.5085 - val_recall_75: 0.1765 - val_f1_score: 0.1862 - 3s/epoch - 230ms/step\n",
      "Epoch 3/15\n",
      "11/11 - 2s - loss: 2.8833 - accuracy: 0.3451 - auc_75: 0.6862 - precision_75: 0.7857 - recall_75: 0.0649 - f1_score: 0.2024 - val_loss: 1.2214 - val_accuracy: 0.2294 - val_auc_75: 0.6595 - val_precision_75: 0.0000e+00 - val_recall_75: 0.0000e+00 - val_f1_score: 0.1791 - 2s/epoch - 227ms/step\n",
      "Epoch 4/15\n",
      "11/11 - 3s - loss: 2.8582 - accuracy: 0.3156 - auc_75: 0.6568 - precision_75: 0.6061 - recall_75: 0.0590 - f1_score: 0.2077 - val_loss: 1.2271 - val_accuracy: 0.2235 - val_auc_75: 0.6444 - val_precision_75: 0.7143 - val_recall_75: 0.0588 - val_f1_score: 0.1438 - 3s/epoch - 228ms/step\n",
      "Epoch 5/15\n",
      "11/11 - 2s - loss: 2.8049 - accuracy: 0.2979 - auc_75: 0.6995 - precision_75: 0.8636 - recall_75: 0.0560 - f1_score: 0.2461 - val_loss: 1.2642 - val_accuracy: 0.2412 - val_auc_75: 0.6145 - val_precision_75: 0.4853 - val_recall_75: 0.1941 - val_f1_score: 0.1508 - 2s/epoch - 226ms/step\n",
      "Epoch 6/15\n",
      "11/11 - 3s - loss: 2.8017 - accuracy: 0.3097 - auc_75: 0.6653 - precision_75: 0.5060 - recall_75: 0.1239 - f1_score: 0.2429 - val_loss: 1.3062 - val_accuracy: 0.2294 - val_auc_75: 0.5906 - val_precision_75: 0.4627 - val_recall_75: 0.1824 - val_f1_score: 0.1289 - 3s/epoch - 232ms/step\n",
      "Epoch 7/15\n",
      "11/11 - 2s - loss: 2.7625 - accuracy: 0.3422 - auc_75: 0.7021 - precision_75: 0.6742 - recall_75: 0.1770 - f1_score: 0.2723 - val_loss: 1.2715 - val_accuracy: 0.2412 - val_auc_75: 0.5932 - val_precision_75: 0.4444 - val_recall_75: 0.0471 - val_f1_score: 0.2004 - 2s/epoch - 222ms/step\n",
      "Epoch 8/15\n",
      "11/11 - 3s - loss: 2.6959 - accuracy: 0.3569 - auc_75: 0.7133 - precision_75: 0.7283 - recall_75: 0.1976 - f1_score: 0.2856 - val_loss: 1.4990 - val_accuracy: 0.1941 - val_auc_75: 0.5562 - val_precision_75: 0.3438 - val_recall_75: 0.0647 - val_f1_score: 0.1827 - 3s/epoch - 228ms/step\n",
      "Epoch 9/15\n",
      "11/11 - 3s - loss: 2.7592 - accuracy: 0.2419 - auc_75: 0.6138 - precision_75: 0.4020 - recall_75: 0.1209 - f1_score: 0.2157 - val_loss: 1.6216 - val_accuracy: 0.2059 - val_auc_75: 0.6049 - val_precision_75: 0.4878 - val_recall_75: 0.1176 - val_f1_score: 0.1241 - 3s/epoch - 229ms/step\n",
      "Epoch 10/15\n",
      "11/11 - 2s - loss: 2.7682 - accuracy: 0.3481 - auc_75: 0.7136 - precision_75: 0.6562 - recall_75: 0.1858 - f1_score: 0.2631 - val_loss: 1.4674 - val_accuracy: 0.2412 - val_auc_75: 0.5923 - val_precision_75: 0.5882 - val_recall_75: 0.0588 - val_f1_score: 0.1949 - 2s/epoch - 225ms/step\n",
      "Epoch 11/15\n",
      "11/11 - 3s - loss: 2.7115 - accuracy: 0.3746 - auc_75: 0.6978 - precision_75: 0.6792 - recall_75: 0.2124 - f1_score: 0.2901 - val_loss: 1.3874 - val_accuracy: 0.2353 - val_auc_75: 0.5941 - val_precision_75: 0.4839 - val_recall_75: 0.0882 - val_f1_score: 0.1908 - 3s/epoch - 233ms/step\n"
     ]
    },
    {
     "data": {
      "image/png": "[encoded data removed]",
      "text/plain": [
       "<Figure size 432x288 with 1 Axes>"
      ]
     },
     "metadata": {
      "needs_background": "light"
     },
     "output_type": "display_data"
    },
    {
     "name": "stdout",
     "output_type": "stream",
     "text": [
      "Epoch 1/15\n",
      "11/11 - 66s - loss: 3.7414 - accuracy: 0.3923 - auc_76: 0.6615 - precision_76: 0.3333 - recall_76: 0.0059 - f1_score: 0.2482 - val_loss: 1.2109 - val_accuracy: 0.0941 - val_auc_76: 0.5879 - val_precision_76: 0.0000e+00 - val_recall_76: 0.0000e+00 - val_f1_score: 0.0430 - 66s/epoch - 6s/step\n",
      "Epoch 2/15\n",
      "11/11 - 3s - loss: 2.5951 - accuracy: 0.1593 - auc_76: 0.5979 - precision_76: 0.0000e+00 - recall_76: 0.0000e+00 - f1_score: 0.1116 - val_loss: 1.2819 - val_accuracy: 0.4824 - val_auc_76: 0.7657 - val_precision_76: 0.0000e+00 - val_recall_76: 0.0000e+00 - val_f1_score: 0.2531 - 3s/epoch - 259ms/step\n",
      "Epoch 3/15\n",
      "11/11 - 3s - loss: 2.5464 - accuracy: 0.4956 - auc_76: 0.7882 - precision_76: 0.0000e+00 - recall_76: 0.0000e+00 - f1_score: 0.2586 - val_loss: 1.2388 - val_accuracy: 0.5059 - val_auc_76: 0.7901 - val_precision_76: 0.6667 - val_recall_76: 0.0235 - val_f1_score: 0.2590 - 3s/epoch - 256ms/step\n",
      "Epoch 4/15\n",
      "11/11 - 3s - loss: 2.4939 - accuracy: 0.4867 - auc_76: 0.7881 - precision_76: 0.5714 - recall_76: 0.0472 - f1_score: 0.2576 - val_loss: 1.2313 - val_accuracy: 0.4059 - val_auc_76: 0.7287 - val_precision_76: 0.1667 - val_recall_76: 0.0118 - val_f1_score: 0.2311 - 3s/epoch - 260ms/step\n",
      "Epoch 5/15\n",
      "11/11 - 3s - loss: 2.4714 - accuracy: 0.3835 - auc_76: 0.7185 - precision_76: 0.4615 - recall_76: 0.0708 - f1_score: 0.2448 - val_loss: 1.3940 - val_accuracy: 0.1471 - val_auc_76: 0.5126 - val_precision_76: 0.0952 - val_recall_76: 0.0118 - val_f1_score: 0.1081 - 3s/epoch - 253ms/step\n",
      "Epoch 6/15\n",
      "11/11 - 3s - loss: 2.4443 - accuracy: 0.4336 - auc_76: 0.7183 - precision_76: 0.6053 - recall_76: 0.0678 - f1_score: 0.2768 - val_loss: 1.2355 - val_accuracy: 0.4471 - val_auc_76: 0.7328 - val_precision_76: 0.3750 - val_recall_76: 0.0353 - val_f1_score: 0.2587 - 3s/epoch - 252ms/step\n",
      "Epoch 7/15\n",
      "11/11 - 3s - loss: 2.3544 - accuracy: 0.4395 - auc_76: 0.7381 - precision_76: 0.7097 - recall_76: 0.0649 - f1_score: 0.2758 - val_loss: 1.4909 - val_accuracy: 0.4059 - val_auc_76: 0.6747 - val_precision_76: 0.4412 - val_recall_76: 0.0882 - val_f1_score: 0.2462 - 3s/epoch - 250ms/step\n",
      "Epoch 8/15\n",
      "11/11 - 3s - loss: 2.3285 - accuracy: 0.4336 - auc_76: 0.7167 - precision_76: 0.5634 - recall_76: 0.1180 - f1_score: 0.2792 - val_loss: 1.3337 - val_accuracy: 0.2529 - val_auc_76: 0.6577 - val_precision_76: 0.5526 - val_recall_76: 0.1235 - val_f1_score: 0.1582 - 3s/epoch - 264ms/step\n",
      "Epoch 9/15\n",
      "11/11 - 3s - loss: 2.3461 - accuracy: 0.3717 - auc_76: 0.7226 - precision_76: 0.6667 - recall_76: 0.1357 - f1_score: 0.2631 - val_loss: 1.4209 - val_accuracy: 0.3765 - val_auc_76: 0.6919 - val_precision_76: 0.3429 - val_recall_76: 0.0706 - val_f1_score: 0.2225 - 3s/epoch - 269ms/step\n",
      "Epoch 10/15\n",
      "11/11 - 3s - loss: 2.2956 - accuracy: 0.4336 - auc_76: 0.7492 - precision_76: 0.5781 - recall_76: 0.1091 - f1_score: 0.2910 - val_loss: 1.2926 - val_accuracy: 0.3824 - val_auc_76: 0.7055 - val_precision_76: 0.5476 - val_recall_76: 0.1353 - val_f1_score: 0.2509 - 3s/epoch - 260ms/step\n",
      "Epoch 11/15\n",
      "11/11 - 3s - loss: 2.1656 - accuracy: 0.4543 - auc_76: 0.7447 - precision_76: 0.6204 - recall_76: 0.1976 - f1_score: 0.3102 - val_loss: 1.8007 - val_accuracy: 0.4412 - val_auc_76: 0.6922 - val_precision_76: 0.5672 - val_recall_76: 0.2235 - val_f1_score: 0.2684 - 3s/epoch - 250ms/step\n"
     ]
    },
    {
     "data": {
      "image/png": "[encoded data removed]",
      "text/plain": [
       "<Figure size 432x288 with 1 Axes>"
      ]
     },
     "metadata": {
      "needs_background": "light"
     },
     "output_type": "display_data"
    },
    {
     "name": "stdout",
     "output_type": "stream",
     "text": [
      "Epoch 1/15\n",
      "11/11 - 72s - loss: 2.6104 - accuracy: 0.4765 - auc_77: 0.6800 - precision_77: 0.5000 - recall_77: 0.0176 - f1_score: 0.2116 - val_loss: 1.1564 - val_accuracy: 0.5503 - val_auc_77: 0.8206 - val_precision_77: 0.6154 - val_recall_77: 0.0473 - val_f1_score: 0.1775 - 72s/epoch - 7s/step\n",
      "Epoch 2/15\n",
      "11/11 - 3s - loss: 2.5984 - accuracy: 0.4912 - auc_77: 0.7611 - precision_77: 0.5000 - recall_77: 0.0059 - f1_score: 0.2079 - val_loss: 1.2240 - val_accuracy: 0.5385 - val_auc_77: 0.7407 - val_precision_77: 0.0000e+00 - val_recall_77: 0.0000e+00 - val_f1_score: 0.2292 - 3s/epoch - 228ms/step\n",
      "Epoch 3/15\n",
      "11/11 - 3s - loss: 2.8095 - accuracy: 0.4235 - auc_77: 0.7553 - precision_77: 0.4762 - recall_77: 0.0294 - f1_score: 0.1955 - val_loss: 1.1653 - val_accuracy: 0.2781 - val_auc_77: 0.6721 - val_precision_77: 0.2000 - val_recall_77: 0.0059 - val_f1_score: 0.1286 - 3s/epoch - 258ms/step\n",
      "Epoch 4/15\n",
      "11/11 - 3s - loss: 2.4274 - accuracy: 0.2647 - auc_77: 0.6230 - precision_77: 0.0000e+00 - recall_77: 0.0000e+00 - f1_score: 0.1645 - val_loss: 1.2719 - val_accuracy: 0.1716 - val_auc_77: 0.6267 - val_precision_77: 0.0000e+00 - val_recall_77: 0.0000e+00 - val_f1_score: 0.1149 - 3s/epoch - 237ms/step\n",
      "Epoch 5/15\n",
      "11/11 - 3s - loss: 2.4449 - accuracy: 0.2265 - auc_77: 0.6628 - precision_77: 0.0000e+00 - recall_77: 0.0000e+00 - f1_score: 0.1539 - val_loss: 1.2322 - val_accuracy: 0.2722 - val_auc_77: 0.6777 - val_precision_77: 0.2500 - val_recall_77: 0.0059 - val_f1_score: 0.1995 - 3s/epoch - 238ms/step\n",
      "Epoch 6/15\n",
      "11/11 - 3s - loss: 2.3938 - accuracy: 0.3118 - auc_77: 0.7389 - precision_77: 0.5278 - recall_77: 0.0559 - f1_score: 0.2292 - val_loss: 1.2803 - val_accuracy: 0.2959 - val_auc_77: 0.6679 - val_precision_77: 0.2250 - val_recall_77: 0.0533 - val_f1_score: 0.2121 - 3s/epoch - 248ms/step\n",
      "Epoch 7/15\n",
      "11/11 - 3s - loss: 2.3766 - accuracy: 0.2618 - auc_77: 0.6934 - precision_77: 0.3973 - recall_77: 0.0853 - f1_score: 0.1941 - val_loss: 1.1985 - val_accuracy: 0.3728 - val_auc_77: 0.7052 - val_precision_77: 0.2857 - val_recall_77: 0.0592 - val_f1_score: 0.1876 - 3s/epoch - 247ms/step\n",
      "Epoch 8/15\n",
      "11/11 - 3s - loss: 2.3087 - accuracy: 0.4000 - auc_77: 0.7174 - precision_77: 0.3382 - recall_77: 0.0676 - f1_score: 0.2553 - val_loss: 1.2890 - val_accuracy: 0.3787 - val_auc_77: 0.6466 - val_precision_77: 0.2667 - val_recall_77: 0.0947 - val_f1_score: 0.2253 - 3s/epoch - 235ms/step\n",
      "Epoch 9/15\n",
      "11/11 - 3s - loss: 2.2829 - accuracy: 0.3794 - auc_77: 0.7024 - precision_77: 0.4889 - recall_77: 0.1294 - f1_score: 0.2619 - val_loss: 1.2626 - val_accuracy: 0.3964 - val_auc_77: 0.6567 - val_precision_77: 0.3167 - val_recall_77: 0.1124 - val_f1_score: 0.2220 - 3s/epoch - 241ms/step\n",
      "Epoch 10/15\n",
      "11/11 - 2s - loss: 2.2208 - accuracy: 0.4471 - auc_77: 0.7139 - precision_77: 0.5370 - recall_77: 0.1706 - f1_score: 0.2899 - val_loss: 1.2415 - val_accuracy: 0.4142 - val_auc_77: 0.6868 - val_precision_77: 0.4342 - val_recall_77: 0.1953 - val_f1_score: 0.2246 - 2s/epoch - 227ms/step\n",
      "Epoch 11/15\n",
      "11/11 - 3s - loss: 2.2476 - accuracy: 0.3353 - auc_77: 0.7088 - precision_77: 0.5620 - recall_77: 0.2000 - f1_score: 0.2580 - val_loss: 1.3747 - val_accuracy: 0.3314 - val_auc_77: 0.6145 - val_precision_77: 0.3088 - val_recall_77: 0.1243 - val_f1_score: 0.1828 - 3s/epoch - 236ms/step\n"
     ]
    },
    {
     "data": {
      "image/png": "[encoded data removed]",
      "text/plain": [
       "<Figure size 432x288 with 1 Axes>"
      ]
     },
     "metadata": {
      "needs_background": "light"
     },
     "output_type": "display_data"
    },
    {
     "name": "stdout",
     "output_type": "stream",
     "text": [
      "Kernel size: 5\n",
      "Epoch 1/15\n",
      "11/11 - 68s - loss: 3.3788 - accuracy: 0.3186 - auc_78: 0.6360 - precision_78: 0.3636 - recall_78: 0.0236 - f1_score: 0.2127 - val_loss: 1.2613 - val_accuracy: 0.1000 - val_auc_78: 0.5586 - val_precision_78: 0.0000e+00 - val_recall_78: 0.0000e+00 - val_f1_score: 0.0455 - 68s/epoch - 6s/step\n",
      "Epoch 2/15\n",
      "11/11 - 3s - loss: 3.1641 - accuracy: 0.2507 - auc_78: 0.6215 - precision_78: 0.0000e+00 - recall_78: 0.0000e+00 - f1_score: 0.1441 - val_loss: 1.3579 - val_accuracy: 0.4294 - val_auc_78: 0.6362 - val_precision_78: 0.0000e+00 - val_recall_78: 0.0000e+00 - val_f1_score: 0.1508 - 3s/epoch - 258ms/step\n",
      "Epoch 3/15\n",
      "11/11 - 3s - loss: 3.0253 - accuracy: 0.3009 - auc_78: 0.6583 - precision_78: 0.0769 - recall_78: 0.0029 - f1_score: 0.1941 - val_loss: 1.2763 - val_accuracy: 0.2294 - val_auc_78: 0.6450 - val_precision_78: 0.0000e+00 - val_recall_78: 0.0000e+00 - val_f1_score: 0.1574 - 3s/epoch - 251ms/step\n",
      "Epoch 4/15\n",
      "11/11 - 3s - loss: 2.9240 - accuracy: 0.1298 - auc_78: 0.6054 - precision_78: 0.1724 - recall_78: 0.0147 - f1_score: 0.1095 - val_loss: 1.2509 - val_accuracy: 0.2412 - val_auc_78: 0.6071 - val_precision_78: 0.5000 - val_recall_78: 0.1765 - val_f1_score: 0.1258 - 3s/epoch - 261ms/step\n",
      "Epoch 5/15\n",
      "11/11 - 3s - loss: 2.8888 - accuracy: 0.3392 - auc_78: 0.6898 - precision_78: 0.6824 - recall_78: 0.1711 - f1_score: 0.1922 - val_loss: 1.2600 - val_accuracy: 0.2294 - val_auc_78: 0.5754 - val_precision_78: 1.0000 - val_recall_78: 0.0235 - val_f1_score: 0.1391 - 3s/epoch - 261ms/step\n",
      "Epoch 6/15\n",
      "11/11 - 3s - loss: 2.8492 - accuracy: 0.3422 - auc_78: 0.6651 - precision_78: 0.7576 - recall_78: 0.0737 - f1_score: 0.2235 - val_loss: 1.2094 - val_accuracy: 0.2471 - val_auc_78: 0.6453 - val_precision_78: 0.6071 - val_recall_78: 0.1000 - val_f1_score: 0.1588 - 3s/epoch - 262ms/step\n",
      "Epoch 7/15\n",
      "11/11 - 3s - loss: 2.7768 - accuracy: 0.3540 - auc_78: 0.6881 - precision_78: 0.6627 - recall_78: 0.1622 - f1_score: 0.2467 - val_loss: 1.2680 - val_accuracy: 0.2412 - val_auc_78: 0.5872 - val_precision_78: 0.5000 - val_recall_78: 0.0471 - val_f1_score: 0.1626 - 3s/epoch - 259ms/step\n",
      "Epoch 8/15\n",
      "11/11 - 3s - loss: 2.7334 - accuracy: 0.3186 - auc_78: 0.6428 - precision_78: 0.5690 - recall_78: 0.0973 - f1_score: 0.2532 - val_loss: 1.3953 - val_accuracy: 0.2118 - val_auc_78: 0.5931 - val_precision_78: 0.5000 - val_recall_78: 0.1941 - val_f1_score: 0.1522 - 3s/epoch - 252ms/step\n",
      "Epoch 9/15\n",
      "11/11 - 3s - loss: 2.7083 - accuracy: 0.3333 - auc_78: 0.6691 - precision_78: 0.5955 - recall_78: 0.1563 - f1_score: 0.2694 - val_loss: 1.4096 - val_accuracy: 0.2294 - val_auc_78: 0.5045 - val_precision_78: 0.5135 - val_recall_78: 0.1118 - val_f1_score: 0.1577 - 3s/epoch - 264ms/step\n",
      "Epoch 10/15\n",
      "11/11 - 3s - loss: 2.6106 - accuracy: 0.3333 - auc_78: 0.6479 - precision_78: 0.6574 - recall_78: 0.2094 - f1_score: 0.2298 - val_loss: 1.5794 - val_accuracy: 0.2294 - val_auc_78: 0.5535 - val_precision_78: 0.5526 - val_recall_78: 0.1235 - val_f1_score: 0.1479 - 3s/epoch - 254ms/step\n",
      "Epoch 11/15\n",
      "11/11 - 3s - loss: 2.4729 - accuracy: 0.3540 - auc_78: 0.6807 - precision_78: 0.6897 - recall_78: 0.2360 - f1_score: 0.2859 - val_loss: 2.0213 - val_accuracy: 0.1824 - val_auc_78: 0.5168 - val_precision_78: 0.4583 - val_recall_78: 0.1294 - val_f1_score: 0.1742 - 3s/epoch - 265ms/step\n",
      "Epoch 12/15\n",
      "11/11 - 3s - loss: 2.4998 - accuracy: 0.3245 - auc_78: 0.6546 - precision_78: 0.6090 - recall_78: 0.2389 - f1_score: 0.2836 - val_loss: 1.8203 - val_accuracy: 0.2176 - val_auc_78: 0.5605 - val_precision_78: 0.4800 - val_recall_78: 0.2118 - val_f1_score: 0.1299 - 3s/epoch - 269ms/step\n",
      "Epoch 13/15\n",
      "11/11 - 3s - loss: 2.3961 - accuracy: 0.3451 - auc_78: 0.6586 - precision_78: 0.4603 - recall_78: 0.2566 - f1_score: 0.2843 - val_loss: 1.9455 - val_accuracy: 0.2235 - val_auc_78: 0.5391 - val_precision_78: 0.1707 - val_recall_78: 0.1235 - val_f1_score: 0.1916 - 3s/epoch - 259ms/step\n",
      "Epoch 14/15\n",
      "11/11 - 3s - loss: 2.4218 - accuracy: 0.3422 - auc_78: 0.6756 - precision_78: 0.3310 - recall_78: 0.2802 - f1_score: 0.3034 - val_loss: 2.3287 - val_accuracy: 0.2353 - val_auc_78: 0.5498 - val_precision_78: 0.2319 - val_recall_78: 0.1882 - val_f1_score: 0.1967 - 3s/epoch - 262ms/step\n",
      "Epoch 15/15\n",
      "11/11 - 3s - loss: 2.3736 - accuracy: 0.3746 - auc_78: 0.7159 - precision_78: 0.6061 - recall_78: 0.2950 - f1_score: 0.3350 - val_loss: 2.2577 - val_accuracy: 0.2235 - val_auc_78: 0.6014 - val_precision_78: 0.5000 - val_recall_78: 0.2059 - val_f1_score: 0.1508 - 3s/epoch - 257ms/step\n"
     ]
    },
    {
     "data": {
      "image/png": "[encoded data removed]",
      "text/plain": [
       "<Figure size 432x288 with 1 Axes>"
      ]
     },
     "metadata": {
      "needs_background": "light"
     },
     "output_type": "display_data"
    },
    {
     "name": "stdout",
     "output_type": "stream",
     "text": [
      "Epoch 1/15\n",
      "11/11 - 78s - loss: 2.5345 - accuracy: 0.4484 - auc_79: 0.7255 - precision_79: 0.4000 - recall_79: 0.0177 - f1_score: 0.1943 - val_loss: 1.1112 - val_accuracy: 0.3353 - val_auc_79: 0.7701 - val_precision_79: 0.1538 - val_recall_79: 0.0235 - val_f1_score: 0.1333 - 78s/epoch - 7s/step\n",
      "Epoch 2/15\n",
      "11/11 - 3s - loss: 2.7789 - accuracy: 0.4307 - auc_79: 0.7737 - precision_79: 0.4286 - recall_79: 0.0265 - f1_score: 0.1919 - val_loss: 1.2340 - val_accuracy: 0.0941 - val_auc_79: 0.5761 - val_precision_79: 0.0000e+00 - val_recall_79: 0.0000e+00 - val_f1_score: 0.0430 - 3s/epoch - 248ms/step\n",
      "Epoch 3/15\n",
      "11/11 - 3s - loss: 2.5862 - accuracy: 0.0944 - auc_79: 0.5723 - precision_79: 0.0000e+00 - recall_79: 0.0000e+00 - f1_score: 0.0431 - val_loss: 1.3163 - val_accuracy: 0.0941 - val_auc_79: 0.5518 - val_precision_79: 0.0000e+00 - val_recall_79: 0.0000e+00 - val_f1_score: 0.0430 - 3s/epoch - 248ms/step\n",
      "Epoch 4/15\n",
      "11/11 - 3s - loss: 2.5246 - accuracy: 0.1681 - auc_79: 0.6163 - precision_79: 0.7778 - recall_79: 0.0206 - f1_score: 0.1233 - val_loss: 1.1712 - val_accuracy: 0.3294 - val_auc_79: 0.7170 - val_precision_79: 0.8000 - val_recall_79: 0.1176 - val_f1_score: 0.1958 - 3s/epoch - 244ms/step\n",
      "Epoch 5/15\n",
      "11/11 - 3s - loss: 2.4450 - accuracy: 0.3304 - auc_79: 0.6898 - precision_79: 0.5806 - recall_79: 0.1062 - f1_score: 0.2325 - val_loss: 1.2273 - val_accuracy: 0.2353 - val_auc_79: 0.6540 - val_precision_79: 0.7500 - val_recall_79: 0.0529 - val_f1_score: 0.1439 - 3s/epoch - 241ms/step\n",
      "Epoch 6/15\n",
      "11/11 - 3s - loss: 2.4316 - accuracy: 0.1799 - auc_79: 0.6072 - precision_79: 0.3333 - recall_79: 0.0059 - f1_score: 0.1303 - val_loss: 1.2671 - val_accuracy: 0.1941 - val_auc_79: 0.6720 - val_precision_79: 0.1000 - val_recall_79: 0.0059 - val_f1_score: 0.1332 - 3s/epoch - 251ms/step\n",
      "Epoch 7/15\n",
      "11/11 - 3s - loss: 2.3759 - accuracy: 0.3038 - auc_79: 0.7309 - precision_79: 0.6905 - recall_79: 0.0855 - f1_score: 0.2202 - val_loss: 1.2349 - val_accuracy: 0.3353 - val_auc_79: 0.7205 - val_precision_79: 0.6667 - val_recall_79: 0.0941 - val_f1_score: 0.2327 - 3s/epoch - 254ms/step\n",
      "Epoch 8/15\n",
      "11/11 - 3s - loss: 2.3902 - accuracy: 0.2625 - auc_79: 0.6706 - precision_79: 0.5312 - recall_79: 0.1003 - f1_score: 0.1954 - val_loss: 1.3550 - val_accuracy: 0.1529 - val_auc_79: 0.5635 - val_precision_79: 0.0833 - val_recall_79: 0.0118 - val_f1_score: 0.1139 - 3s/epoch - 244ms/step\n",
      "Epoch 9/15\n",
      "11/11 - 3s - loss: 2.3216 - accuracy: 0.3127 - auc_79: 0.6947 - precision_79: 0.6393 - recall_79: 0.1150 - f1_score: 0.2148 - val_loss: 1.3802 - val_accuracy: 0.3059 - val_auc_79: 0.6876 - val_precision_79: 0.3548 - val_recall_79: 0.0647 - val_f1_score: 0.2165 - 3s/epoch - 255ms/step\n",
      "Epoch 10/15\n",
      "11/11 - 3s - loss: 2.2990 - accuracy: 0.2920 - auc_79: 0.6747 - precision_79: 0.5972 - recall_79: 0.1268 - f1_score: 0.2193 - val_loss: 1.4589 - val_accuracy: 0.1706 - val_auc_79: 0.5876 - val_precision_79: 0.2500 - val_recall_79: 0.0412 - val_f1_score: 0.1465 - 3s/epoch - 244ms/step\n",
      "Epoch 11/15\n",
      "11/11 - 3s - loss: 2.2863 - accuracy: 0.2448 - auc_79: 0.6441 - precision_79: 0.4947 - recall_79: 0.1386 - f1_score: 0.2210 - val_loss: 1.3989 - val_accuracy: 0.2294 - val_auc_79: 0.6282 - val_precision_79: 0.6250 - val_recall_79: 0.1176 - val_f1_score: 0.1711 - 3s/epoch - 252ms/step\n"
     ]
    },
    {
     "data": {
      "image/png": "[encoded data removed]",
      "text/plain": [
       "<Figure size 432x288 with 1 Axes>"
      ]
     },
     "metadata": {
      "needs_background": "light"
     },
     "output_type": "display_data"
    },
    {
     "name": "stdout",
     "output_type": "stream",
     "text": [
      "Epoch 1/15\n",
      "11/11 - 68s - loss: 2.6443 - accuracy: 0.3588 - auc_80: 0.6565 - precision_80: 0.3333 - recall_80: 0.0088 - f1_score: 0.2227 - val_loss: 1.3305 - val_accuracy: 0.0888 - val_auc_80: 0.5229 - val_precision_80: 0.0000e+00 - val_recall_80: 0.0000e+00 - val_f1_score: 0.0408 - 68s/epoch - 6s/step\n",
      "Epoch 2/15\n",
      "11/11 - 3s - loss: 2.4992 - accuracy: 0.2118 - auc_80: 0.6232 - precision_80: 0.2692 - recall_80: 0.0206 - f1_score: 0.1347 - val_loss: 1.0841 - val_accuracy: 0.5503 - val_auc_80: 0.7976 - val_precision_80: 0.6667 - val_recall_80: 0.2604 - val_f1_score: 0.1775 - 3s/epoch - 259ms/step\n",
      "Epoch 3/15\n",
      "11/11 - 3s - loss: 2.5316 - accuracy: 0.4471 - auc_80: 0.7573 - precision_80: 0.3846 - recall_80: 0.0441 - f1_score: 0.2280 - val_loss: 1.2601 - val_accuracy: 0.2781 - val_auc_80: 0.6722 - val_precision_80: 0.0000e+00 - val_recall_80: 0.0000e+00 - val_f1_score: 0.2023 - 3s/epoch - 248ms/step\n",
      "Epoch 4/15\n",
      "11/11 - 3s - loss: 2.4665 - accuracy: 0.3324 - auc_80: 0.6774 - precision_80: 0.0000e+00 - recall_80: 0.0000e+00 - f1_score: 0.2256 - val_loss: 1.2190 - val_accuracy: 0.2781 - val_auc_80: 0.6499 - val_precision_80: 0.0000e+00 - val_recall_80: 0.0000e+00 - val_f1_score: 0.2106 - 3s/epoch - 255ms/step\n",
      "Epoch 5/15\n",
      "11/11 - 3s - loss: 2.4299 - accuracy: 0.2118 - auc_80: 0.6591 - precision_80: 0.2667 - recall_80: 0.0118 - f1_score: 0.1598 - val_loss: 1.3020 - val_accuracy: 0.2840 - val_auc_80: 0.5560 - val_precision_80: 0.1000 - val_recall_80: 0.0118 - val_f1_score: 0.1320 - 3s/epoch - 260ms/step\n",
      "Epoch 6/15\n",
      "11/11 - 3s - loss: 2.3997 - accuracy: 0.3529 - auc_80: 0.7052 - precision_80: 0.4483 - recall_80: 0.0382 - f1_score: 0.2325 - val_loss: 1.2043 - val_accuracy: 0.3728 - val_auc_80: 0.7030 - val_precision_80: 0.4828 - val_recall_80: 0.0828 - val_f1_score: 0.2414 - 3s/epoch - 255ms/step\n",
      "Epoch 7/15\n",
      "11/11 - 3s - loss: 2.3210 - accuracy: 0.3500 - auc_80: 0.7307 - precision_80: 0.5522 - recall_80: 0.1088 - f1_score: 0.2401 - val_loss: 1.3146 - val_accuracy: 0.3018 - val_auc_80: 0.6791 - val_precision_80: 0.3968 - val_recall_80: 0.1479 - val_f1_score: 0.2143 - 3s/epoch - 258ms/step\n",
      "Epoch 8/15\n",
      "11/11 - 3s - loss: 2.3174 - accuracy: 0.3912 - auc_80: 0.7223 - precision_80: 0.5472 - recall_80: 0.1706 - f1_score: 0.2622 - val_loss: 1.2832 - val_accuracy: 0.2426 - val_auc_80: 0.6680 - val_precision_80: 0.3265 - val_recall_80: 0.0947 - val_f1_score: 0.1787 - 3s/epoch - 250ms/step\n",
      "Epoch 9/15\n",
      "11/11 - 3s - loss: 2.2980 - accuracy: 0.3265 - auc_80: 0.7307 - precision_80: 0.6667 - recall_80: 0.1059 - f1_score: 0.2409 - val_loss: 1.4704 - val_accuracy: 0.2130 - val_auc_80: 0.5370 - val_precision_80: 0.1857 - val_recall_80: 0.0769 - val_f1_score: 0.1569 - 3s/epoch - 254ms/step\n",
      "Epoch 10/15\n",
      "11/11 - 3s - loss: 2.2990 - accuracy: 0.2588 - auc_80: 0.6855 - precision_80: 0.4639 - recall_80: 0.1324 - f1_score: 0.2139 - val_loss: 1.3965 - val_accuracy: 0.2604 - val_auc_80: 0.6404 - val_precision_80: 0.3750 - val_recall_80: 0.1598 - val_f1_score: 0.1787 - 3s/epoch - 249ms/step\n",
      "Epoch 11/15\n",
      "11/11 - 3s - loss: 2.2240 - accuracy: 0.3235 - auc_80: 0.7059 - precision_80: 0.5478 - recall_80: 0.1853 - f1_score: 0.2547 - val_loss: 1.6872 - val_accuracy: 0.2899 - val_auc_80: 0.6513 - val_precision_80: 0.4189 - val_recall_80: 0.1834 - val_f1_score: 0.2105 - 3s/epoch - 261ms/step\n",
      "Epoch 12/15\n",
      "11/11 - 3s - loss: 2.1926 - accuracy: 0.3588 - auc_80: 0.7436 - precision_80: 0.6098 - recall_80: 0.2206 - f1_score: 0.2777 - val_loss: 1.6144 - val_accuracy: 0.3609 - val_auc_80: 0.6263 - val_precision_80: 0.3068 - val_recall_80: 0.1598 - val_f1_score: 0.2016 - 3s/epoch - 251ms/step\n"
     ]
    },
    {
     "data": {
      "image/png": "[encoded data removed]",
      "text/plain": [
       "<Figure size 432x288 with 1 Axes>"
      ]
     },
     "metadata": {
      "needs_background": "light"
     },
     "output_type": "display_data"
    }
   ],
   "source": [
    "for b in batch_sizes:\n",
    "    for act in activation:\n",
    "        for n in neurons:\n",
    "            for s in kernel_size:\n",
    "                for init in kernel_initializer:\n",
    "                    for d in dropout:\n",
    "                        print('Batch size', b, 'Activation', act, 'Neurons', n, 'Kernel size', s, 'Kernel initializer', init, 'Dropout', d)\n",
    "                        for train_index, val_index in kf.split(face_X):\n",
    "                            X_train, X_val = face_X[train_index], face_X[val_index]\n",
    "                            y_train, y_val = face_y[train_index], face_y[val_index]\n",
    "                            face_biLSTM = build_biLSTM(face_features, n_length, face_outputs, neurons=n, kernel_size=s, activation=act, kernel_initializer=init, dropout=d)\n",
    "                            history = train(face_biLSTM, X_train, y_train, X_val, y_val, epochs=epochs, batch_size=b, class_weight=class_weight)\n",
    "                            if (history['val_accuracy'] > face_best_biconv_acc) and (history['val_roc_auc'] > face_best_biconv_auc):\n",
    "                                face_best_biconv_acc = history['val_accuracy']\n",
    "                                face_best_biconv_auc = history['val_roc_auc']\n",
    "                                face_biconv_loss = history['loss']\n",
    "                                face_best_biconv_model = face_biLSTM\n",
    "                                face_biconv_values = { 'batch_size': b, 'activation': act, 'neurons': n, 'kernel_size': s, 'kernel_initializer': init, 'dropout': d }"
   ]
  },
  {
   "cell_type": "markdown",
   "metadata": {},
   "source": [
    "#### Train CNN+LSTM"
   ]
  },
  {
   "cell_type": "code",
   "execution_count": null,
   "metadata": {},
   "outputs": [],
   "source": [
    "face_best_cnn_acc = 0.0\n",
    "face_best_cnn_auc = 0.0\n",
    "face_cnn_loss = float(\"inf\")\n",
    "face_best_cnn_model = None\n",
    "face_cnn_values = { 'batch_size': 0, 'activation': '', 'neurons': 0, 'kernel_size': 0, 'kernel_initializer': '', 'dropout': float(\"inf\") }"
   ]
  },
  {
   "cell_type": "code",
   "execution_count": 38,
   "metadata": {},
   "outputs": [
    {
     "name": "stdout",
     "output_type": "stream",
     "text": [
      "Epoch 1/15\n",
      "11/11 - 28s - loss: 3.0934 - accuracy: 0.5457 - auc_141: 0.7845 - precision_141: 0.0000e+00 - recall_141: 0.0000e+00 - f1_score: 0.2132 - val_loss: 1.2754 - val_accuracy: 0.4706 - val_auc_141: 0.7822 - val_precision_141: 0.0000e+00 - val_recall_141: 0.0000e+00 - val_f1_score: 0.1600 - 28s/epoch - 3s/step\n",
      "Epoch 2/15\n",
      "11/11 - 0s - loss: 2.9728 - accuracy: 0.5546 - auc_141: 0.8009 - precision_141: 0.0000e+00 - recall_141: 0.0000e+00 - f1_score: 0.1784 - val_loss: 1.2406 - val_accuracy: 0.4706 - val_auc_141: 0.7444 - val_precision_141: 0.0000e+00 - val_recall_141: 0.0000e+00 - val_f1_score: 0.1600 - 398ms/epoch - 36ms/step\n",
      "Epoch 3/15\n",
      "11/11 - 0s - loss: 2.8902 - accuracy: 0.4513 - auc_141: 0.7547 - precision_141: 0.0000e+00 - recall_141: 0.0000e+00 - f1_score: 0.1752 - val_loss: 1.1881 - val_accuracy: 0.4706 - val_auc_141: 0.7425 - val_precision_141: 0.0000e+00 - val_recall_141: 0.0000e+00 - val_f1_score: 0.1600 - 391ms/epoch - 36ms/step\n",
      "Epoch 4/15\n",
      "11/11 - 0s - loss: 2.8450 - accuracy: 0.4012 - auc_141: 0.7020 - precision_141: 0.0000e+00 - recall_141: 0.0000e+00 - f1_score: 0.1656 - val_loss: 1.2059 - val_accuracy: 0.3059 - val_auc_141: 0.6537 - val_precision_141: 0.0000e+00 - val_recall_141: 0.0000e+00 - val_f1_score: 0.1500 - 395ms/epoch - 36ms/step\n",
      "Epoch 5/15\n",
      "11/11 - 0s - loss: 2.8674 - accuracy: 0.3481 - auc_141: 0.7251 - precision_141: 0.0000e+00 - recall_141: 0.0000e+00 - f1_score: 0.2038 - val_loss: 1.2317 - val_accuracy: 0.3000 - val_auc_141: 0.5779 - val_precision_141: 0.0000e+00 - val_recall_141: 0.0000e+00 - val_f1_score: 0.1425 - 377ms/epoch - 34ms/step\n",
      "Epoch 6/15\n",
      "11/11 - 0s - loss: 2.8035 - accuracy: 0.3864 - auc_141: 0.6964 - precision_141: 0.0000e+00 - recall_141: 0.0000e+00 - f1_score: 0.2070 - val_loss: 1.2221 - val_accuracy: 0.2471 - val_auc_141: 0.6482 - val_precision_141: 0.0000e+00 - val_recall_141: 0.0000e+00 - val_f1_score: 0.1436 - 422ms/epoch - 38ms/step\n",
      "Epoch 7/15\n",
      "11/11 - 0s - loss: 2.7609 - accuracy: 0.4071 - auc_141: 0.6938 - precision_141: 0.4000 - recall_141: 0.0059 - f1_score: 0.2826 - val_loss: 1.2255 - val_accuracy: 0.2706 - val_auc_141: 0.6436 - val_precision_141: 0.3846 - val_recall_141: 0.0294 - val_f1_score: 0.1665 - 393ms/epoch - 36ms/step\n",
      "Epoch 8/15\n",
      "11/11 - 0s - loss: 2.7001 - accuracy: 0.3805 - auc_141: 0.7412 - precision_141: 0.6000 - recall_141: 0.0708 - f1_score: 0.2722 - val_loss: 1.2321 - val_accuracy: 0.2941 - val_auc_141: 0.5975 - val_precision_141: 0.4366 - val_recall_141: 0.1824 - val_f1_score: 0.1776 - 389ms/epoch - 35ms/step\n",
      "Epoch 9/15\n",
      "11/11 - 0s - loss: 5.9481 - accuracy: 0.5192 - auc_141: 0.7876 - precision_141: 0.6667 - recall_141: 0.2891 - f1_score: 0.3064 - val_loss: 1.1994 - val_accuracy: 0.4176 - val_auc_141: 0.7123 - val_precision_141: 0.3636 - val_recall_141: 0.0471 - val_f1_score: 0.1642 - 399ms/epoch - 36ms/step\n",
      "Epoch 10/15\n",
      "11/11 - 0s - loss: 2.8119 - accuracy: 0.3068 - auc_141: 0.6575 - precision_141: 0.6000 - recall_141: 0.0442 - f1_score: 0.2561 - val_loss: 1.4097 - val_accuracy: 0.2176 - val_auc_141: 0.4700 - val_precision_141: 0.0000e+00 - val_recall_141: 0.0000e+00 - val_f1_score: 0.1616 - 385ms/epoch - 35ms/step\n",
      "Epoch 11/15\n",
      "11/11 - 0s - loss: 2.8526 - accuracy: 0.3687 - auc_141: 0.5733 - precision_141: 0.7273 - recall_141: 0.0236 - f1_score: 0.2649 - val_loss: 1.4076 - val_accuracy: 0.2529 - val_auc_141: 0.5262 - val_precision_141: 0.2857 - val_recall_141: 0.0118 - val_f1_score: 0.1582 - 409ms/epoch - 37ms/step\n",
      "Epoch 12/15\n",
      "11/11 - 0s - loss: 2.6292 - accuracy: 0.4159 - auc_141: 0.6581 - precision_141: 0.5185 - recall_141: 0.0413 - f1_score: 0.2998 - val_loss: 1.3282 - val_accuracy: 0.2882 - val_auc_141: 0.6007 - val_precision_141: 0.5294 - val_recall_141: 0.0529 - val_f1_score: 0.1926 - 405ms/epoch - 37ms/step\n",
      "Epoch 13/15\n",
      "11/11 - 0s - loss: 2.4562 - accuracy: 0.4366 - auc_141: 0.7035 - precision_141: 0.5814 - recall_141: 0.2212 - f1_score: 0.3141 - val_loss: 1.3404 - val_accuracy: 0.2941 - val_auc_141: 0.6009 - val_precision_141: 0.3182 - val_recall_141: 0.0412 - val_f1_score: 0.1776 - 402ms/epoch - 37ms/step\n"
     ]
    },
    {
     "data": {
      "image/png": "[encoded data removed]",
      "text/plain": [
       "<Figure size 432x288 with 1 Axes>"
      ]
     },
     "metadata": {
      "needs_background": "light"
     },
     "output_type": "display_data"
    },
    {
     "name": "stdout",
     "output_type": "stream",
     "text": [
      "Epoch 1/15\n",
      "11/11 - 16s - loss: 2.5142 - accuracy: 0.4838 - auc_142: 0.7160 - precision_142: 0.0000e+00 - recall_142: 0.0000e+00 - f1_score: 0.1945 - val_loss: 1.1199 - val_accuracy: 0.5588 - val_auc_142: 0.8263 - val_precision_142: 0.0000e+00 - val_recall_142: 0.0000e+00 - val_f1_score: 0.1792 - 16s/epoch - 1s/step\n",
      "Epoch 2/15\n",
      "11/11 - 0s - loss: 3.2970 - accuracy: 0.4513 - auc_142: 0.7737 - precision_142: 0.0000e+00 - recall_142: 0.0000e+00 - f1_score: 0.2372 - val_loss: 1.1312 - val_accuracy: 0.3412 - val_auc_142: 0.7442 - val_precision_142: 0.0000e+00 - val_recall_142: 0.0000e+00 - val_f1_score: 0.1272 - 402ms/epoch - 37ms/step\n",
      "Epoch 3/15\n",
      "11/11 - 0s - loss: 2.8051 - accuracy: 0.3422 - auc_142: 0.6872 - precision_142: 0.0000e+00 - recall_142: 0.0000e+00 - f1_score: 0.1405 - val_loss: 1.2008 - val_accuracy: 0.3294 - val_auc_142: 0.5647 - val_precision_142: 0.0000e+00 - val_recall_142: 0.0000e+00 - val_f1_score: 0.1279 - 415ms/epoch - 38ms/step\n",
      "Epoch 4/15\n",
      "11/11 - 0s - loss: 2.6676 - accuracy: 0.3923 - auc_142: 0.6038 - precision_142: 0.0000e+00 - recall_142: 0.0000e+00 - f1_score: 0.1749 - val_loss: 1.2604 - val_accuracy: 0.3412 - val_auc_142: 0.6399 - val_precision_142: 0.0000e+00 - val_recall_142: 0.0000e+00 - val_f1_score: 0.1272 - 416ms/epoch - 38ms/step\n",
      "Epoch 5/15\n",
      "11/11 - 0s - loss: 2.5883 - accuracy: 0.3923 - auc_142: 0.7229 - precision_142: 0.0000e+00 - recall_142: 0.0000e+00 - f1_score: 0.1409 - val_loss: 1.2730 - val_accuracy: 0.3412 - val_auc_142: 0.7000 - val_precision_142: 0.0000e+00 - val_recall_142: 0.0000e+00 - val_f1_score: 0.1272 - 423ms/epoch - 38ms/step\n",
      "Epoch 6/15\n",
      "11/11 - 0s - loss: 2.5972 - accuracy: 0.3894 - auc_142: 0.7205 - precision_142: 0.0000e+00 - recall_142: 0.0000e+00 - f1_score: 0.1538 - val_loss: 1.3001 - val_accuracy: 0.3412 - val_auc_142: 0.7012 - val_precision_142: 0.0000e+00 - val_recall_142: 0.0000e+00 - val_f1_score: 0.1289 - 393ms/epoch - 36ms/step\n",
      "Epoch 7/15\n",
      "11/11 - 0s - loss: 2.6316 - accuracy: 0.3923 - auc_142: 0.7675 - precision_142: 0.0000e+00 - recall_142: 0.0000e+00 - f1_score: 0.1412 - val_loss: 1.2402 - val_accuracy: 0.3412 - val_auc_142: 0.7743 - val_precision_142: 0.0000e+00 - val_recall_142: 0.0000e+00 - val_f1_score: 0.1278 - 411ms/epoch - 37ms/step\n",
      "Epoch 8/15\n",
      "11/11 - 0s - loss: 2.5309 - accuracy: 0.3746 - auc_142: 0.7429 - precision_142: 0.0000e+00 - recall_142: 0.0000e+00 - f1_score: 0.1907 - val_loss: 1.3225 - val_accuracy: 0.2412 - val_auc_142: 0.6763 - val_precision_142: 0.0000e+00 - val_recall_142: 0.0000e+00 - val_f1_score: 0.1536 - 433ms/epoch - 39ms/step\n",
      "Epoch 9/15\n",
      "11/11 - 0s - loss: 2.5516 - accuracy: 0.2743 - auc_142: 0.6880 - precision_142: 0.0000e+00 - recall_142: 0.0000e+00 - f1_score: 0.1667 - val_loss: 1.3243 - val_accuracy: 0.2353 - val_auc_142: 0.6667 - val_precision_142: 0.0000e+00 - val_recall_142: 0.0000e+00 - val_f1_score: 0.1506 - 400ms/epoch - 36ms/step\n",
      "Epoch 10/15\n",
      "11/11 - 0s - loss: 2.5204 - accuracy: 0.2891 - auc_142: 0.6818 - precision_142: 0.0000e+00 - recall_142: 0.0000e+00 - f1_score: 0.1861 - val_loss: 1.2964 - val_accuracy: 0.3882 - val_auc_142: 0.7119 - val_precision_142: 0.0000e+00 - val_recall_142: 0.0000e+00 - val_f1_score: 0.2474 - 418ms/epoch - 38ms/step\n",
      "Epoch 11/15\n",
      "11/11 - 0s - loss: 2.4846 - accuracy: 0.4277 - auc_142: 0.7521 - precision_142: 0.0000e+00 - recall_142: 0.0000e+00 - f1_score: 0.2639 - val_loss: 1.2048 - val_accuracy: 0.5176 - val_auc_142: 0.8072 - val_precision_142: 0.0000e+00 - val_recall_142: 0.0000e+00 - val_f1_score: 0.2506 - 403ms/epoch - 37ms/step\n"
     ]
    },
    {
     "data": {
      "image/png": "[encoded data removed]",
      "text/plain": [
       "<Figure size 432x288 with 1 Axes>"
      ]
     },
     "metadata": {
      "needs_background": "light"
     },
     "output_type": "display_data"
    },
    {
     "name": "stdout",
     "output_type": "stream",
     "text": [
      "Epoch 1/15\n",
      "11/11 - 18s - loss: 2.4396 - accuracy: 0.4059 - auc_143: 0.7225 - precision_143: 0.0000e+00 - recall_143: 0.0000e+00 - f1_score: 0.2717 - val_loss: 1.1111 - val_accuracy: 0.5503 - val_auc_143: 0.8272 - val_precision_143: 0.0000e+00 - val_recall_143: 0.0000e+00 - val_f1_score: 0.1775 - 18s/epoch - 2s/step\n",
      "Epoch 2/15\n",
      "11/11 - 0s - loss: 3.1232 - accuracy: 0.2971 - auc_143: 0.6381 - precision_143: 0.0000e+00 - recall_143: 0.0000e+00 - f1_score: 0.1775 - val_loss: 1.2187 - val_accuracy: 0.0888 - val_auc_143: 0.5107 - val_precision_143: 0.0000e+00 - val_recall_143: 0.0000e+00 - val_f1_score: 0.0408 - 420ms/epoch - 38ms/step\n",
      "Epoch 3/15\n",
      "11/11 - 0s - loss: 2.7368 - accuracy: 0.0971 - auc_143: 0.5278 - precision_143: 0.0000e+00 - recall_143: 0.0000e+00 - f1_score: 0.0442 - val_loss: 1.2620 - val_accuracy: 0.0888 - val_auc_143: 0.5208 - val_precision_143: 0.0000e+00 - val_recall_143: 0.0000e+00 - val_f1_score: 0.0408 - 423ms/epoch - 38ms/step\n",
      "Epoch 4/15\n",
      "11/11 - 0s - loss: 2.6194 - accuracy: 0.0971 - auc_143: 0.5458 - precision_143: 0.0000e+00 - recall_143: 0.0000e+00 - f1_score: 0.0442 - val_loss: 1.2769 - val_accuracy: 0.1065 - val_auc_143: 0.5592 - val_precision_143: 0.0000e+00 - val_recall_143: 0.0000e+00 - val_f1_score: 0.0652 - 419ms/epoch - 38ms/step\n",
      "Epoch 5/15\n",
      "11/11 - 0s - loss: 2.5787 - accuracy: 0.2294 - auc_143: 0.6252 - precision_143: 0.0000e+00 - recall_143: 0.0000e+00 - f1_score: 0.1750 - val_loss: 1.2803 - val_accuracy: 0.3787 - val_auc_143: 0.6809 - val_precision_143: 0.0000e+00 - val_recall_143: 0.0000e+00 - val_f1_score: 0.2247 - 430ms/epoch - 39ms/step\n",
      "Epoch 6/15\n",
      "11/11 - 0s - loss: 2.5946 - accuracy: 0.3588 - auc_143: 0.6732 - precision_143: 0.0000e+00 - recall_143: 0.0000e+00 - f1_score: 0.2101 - val_loss: 1.2431 - val_accuracy: 0.4083 - val_auc_143: 0.7237 - val_precision_143: 0.0000e+00 - val_recall_143: 0.0000e+00 - val_f1_score: 0.2151 - 425ms/epoch - 39ms/step\n",
      "Epoch 7/15\n",
      "11/11 - 0s - loss: 2.5420 - accuracy: 0.3529 - auc_143: 0.6902 - precision_143: 0.0000e+00 - recall_143: 0.0000e+00 - f1_score: 0.2066 - val_loss: 1.2741 - val_accuracy: 0.4201 - val_auc_143: 0.7074 - val_precision_143: 0.0000e+00 - val_recall_143: 0.0000e+00 - val_f1_score: 0.2372 - 411ms/epoch - 37ms/step\n",
      "Epoch 8/15\n",
      "11/11 - 0s - loss: 2.5252 - accuracy: 0.3471 - auc_143: 0.6989 - precision_143: 0.0000e+00 - recall_143: 0.0000e+00 - f1_score: 0.2121 - val_loss: 1.2435 - val_accuracy: 0.4083 - val_auc_143: 0.7252 - val_precision_143: 0.0000e+00 - val_recall_143: 0.0000e+00 - val_f1_score: 0.2147 - 450ms/epoch - 41ms/step\n",
      "Epoch 9/15\n",
      "11/11 - 0s - loss: 2.4806 - accuracy: 0.3706 - auc_143: 0.7273 - precision_143: 0.0000e+00 - recall_143: 0.0000e+00 - f1_score: 0.2123 - val_loss: 1.1867 - val_accuracy: 0.4320 - val_auc_143: 0.7496 - val_precision_143: 0.0000e+00 - val_recall_143: 0.0000e+00 - val_f1_score: 0.2244 - 434ms/epoch - 39ms/step\n",
      "Epoch 10/15\n",
      "11/11 - 0s - loss: 2.4260 - accuracy: 0.4029 - auc_143: 0.7105 - precision_143: 0.0000e+00 - recall_143: 0.0000e+00 - f1_score: 0.2195 - val_loss: 1.1477 - val_accuracy: 0.4497 - val_auc_143: 0.7497 - val_precision_143: 0.0000e+00 - val_recall_143: 0.0000e+00 - val_f1_score: 0.2249 - 428ms/epoch - 39ms/step\n",
      "Epoch 11/15\n",
      "11/11 - 0s - loss: 2.9564 - accuracy: 0.4853 - auc_143: 0.7818 - precision_143: 0.0000e+00 - recall_143: 0.0000e+00 - f1_score: 0.2824 - val_loss: 1.2431 - val_accuracy: 0.3550 - val_auc_143: 0.7145 - val_precision_143: 0.0000e+00 - val_recall_143: 0.0000e+00 - val_f1_score: 0.2444 - 422ms/epoch - 38ms/step\n"
     ]
    },
    {
     "data": {
      "image/png": "[encoded data removed]",
      "text/plain": [
       "<Figure size 432x288 with 1 Axes>"
      ]
     },
     "metadata": {
      "needs_background": "light"
     },
     "output_type": "display_data"
    }
   ],
   "source": [
    "for b in batch_sizes:\n",
    "    for act in activation:\n",
    "        for n in neurons:\n",
    "            for s in kernel_size:\n",
    "                for init in kernel_initializer:\n",
    "                    for d in dropout:\n",
    "                        print('Batch size', b, 'Activation', act, 'Neurons', n, 'Kernel size', s, 'Kernel initializer', init, 'Dropout', d)\n",
    "                        for train_index, val_index in kf.split(face_X):\n",
    "                            X_train, X_val = face_X[train_index], face_X[val_index]\n",
    "                            y_train, y_val = face_y[train_index], face_y[val_index]\n",
    "                            face_CNN = build_CNN(face_features, n_length, face_outputs, neurons=n, kernel_size=s, activation=act, kernel_initializer=init, dropout=d)\n",
    "                            history = train(face_CNN, X_train, y_train, X_val, y_val, epochs=epochs, batch_size=b, class_weight=class_weight)\n",
    "                            if (history['val_accuracy'] > face_best_cnn_acc) and (history['val_roc_auc'] > face_best_cnn_auc):\n",
    "                                face_best_cnn_acc = history['val_accuracy']\n",
    "                                face_best_cnn_auc = history['val_roc_auc']\n",
    "                                face_cnn_loss = history['loss']\n",
    "                                face_best_cnn_model = face_CNN\n",
    "                                face_cnn_values = { 'batch_size': b, 'activation': act, 'neurons': n, 'kernel_size': s, 'kernel_initializer': init, 'dropout': d }"
   ]
  },
  {
   "cell_type": "markdown",
   "metadata": {},
   "source": [
    "#### Train ConvLSTM"
   ]
  },
  {
   "cell_type": "code",
   "execution_count": null,
   "metadata": {},
   "outputs": [],
   "source": [
    "face_best_lstm_acc = 0.0\n",
    "face_best_lstm_auc = 0.0\n",
    "face_lstm_loss = float(\"inf\")\n",
    "face_best_lstm_model = None\n",
    "face_lstm_values = { 'batch_size': 0, 'activation': '', 'neurons': 0, 'kernel_size': 0, 'kernel_initializer': '', 'dropout': float(\"inf\") }"
   ]
  },
  {
   "cell_type": "code",
   "execution_count": 39,
   "metadata": {},
   "outputs": [
    {
     "name": "stdout",
     "output_type": "stream",
     "text": [
      "Epoch 1/15\n",
      "11/11 - 23s - loss: 3.0544 - accuracy: 0.5221 - auc_144: 0.6810 - precision_144: 0.6471 - recall_144: 0.0324 - f1_score: 0.2299 - val_loss: 1.2702 - val_accuracy: 0.3412 - val_auc_144: 0.6497 - val_precision_144: 0.5926 - val_recall_144: 0.0941 - val_f1_score: 0.1854 - 23s/epoch - 2s/step\n",
      "Epoch 2/15\n",
      "11/11 - 1s - loss: 2.9286 - accuracy: 0.3894 - auc_144: 0.6883 - precision_144: 0.5714 - recall_144: 0.0236 - f1_score: 0.2172 - val_loss: 1.2429 - val_accuracy: 0.3412 - val_auc_144: 0.6370 - val_precision_144: 0.5143 - val_recall_144: 0.1059 - val_f1_score: 0.1908 - 1s/epoch - 96ms/step\n",
      "Epoch 3/15\n",
      "11/11 - 1s - loss: 2.8675 - accuracy: 0.4366 - auc_144: 0.7072 - precision_144: 0.6724 - recall_144: 0.1150 - f1_score: 0.2564 - val_loss: 1.2222 - val_accuracy: 0.2765 - val_auc_144: 0.6765 - val_precision_144: 0.0000e+00 - val_recall_144: 0.0000e+00 - val_f1_score: 0.1906 - 1s/epoch - 97ms/step\n",
      "Epoch 4/15\n",
      "11/11 - 1s - loss: 2.8382 - accuracy: 0.3127 - auc_144: 0.6945 - precision_144: 0.6500 - recall_144: 0.0767 - f1_score: 0.2242 - val_loss: 1.2010 - val_accuracy: 0.2412 - val_auc_144: 0.6572 - val_precision_144: 0.4857 - val_recall_144: 0.1000 - val_f1_score: 0.1524 - 1s/epoch - 98ms/step\n",
      "Epoch 5/15\n",
      "11/11 - 1s - loss: 2.8071 - accuracy: 0.2478 - auc_144: 0.6343 - precision_144: 0.4194 - recall_144: 0.0767 - f1_score: 0.2205 - val_loss: 1.1948 - val_accuracy: 0.2588 - val_auc_144: 0.6672 - val_precision_144: 0.4918 - val_recall_144: 0.1765 - val_f1_score: 0.1628 - 1s/epoch - 102ms/step\n",
      "Epoch 6/15\n",
      "11/11 - 1s - loss: 2.8078 - accuracy: 0.3805 - auc_144: 0.7417 - precision_144: 0.6800 - recall_144: 0.2507 - f1_score: 0.2703 - val_loss: 1.2338 - val_accuracy: 0.2412 - val_auc_144: 0.6166 - val_precision_144: 0.5455 - val_recall_144: 0.0706 - val_f1_score: 0.1536 - 1s/epoch - 100ms/step\n",
      "Epoch 7/15\n",
      "11/11 - 1s - loss: 2.8404 - accuracy: 0.2006 - auc_144: 0.6197 - precision_144: 0.3158 - recall_144: 0.0354 - f1_score: 0.1760 - val_loss: 1.2543 - val_accuracy: 0.2000 - val_auc_144: 0.6053 - val_precision_144: 0.3333 - val_recall_144: 0.0059 - val_f1_score: 0.1489 - 1s/epoch - 97ms/step\n",
      "Epoch 8/15\n",
      "11/11 - 1s - loss: 2.7624 - accuracy: 0.2979 - auc_144: 0.7135 - precision_144: 0.5185 - recall_144: 0.1239 - f1_score: 0.2472 - val_loss: 1.2570 - val_accuracy: 0.2412 - val_auc_144: 0.6237 - val_precision_144: 0.4697 - val_recall_144: 0.1824 - val_f1_score: 0.1528 - 1s/epoch - 99ms/step\n",
      "Epoch 9/15\n",
      "11/11 - 1s - loss: 2.6997 - accuracy: 0.3569 - auc_144: 0.7039 - precision_144: 0.7467 - recall_144: 0.1652 - f1_score: 0.2688 - val_loss: 1.2690 - val_accuracy: 0.2353 - val_auc_144: 0.5787 - val_precision_144: 0.4667 - val_recall_144: 0.0412 - val_f1_score: 0.2054 - 1s/epoch - 97ms/step\n",
      "Epoch 10/15\n",
      "11/11 - 1s - loss: 2.5967 - accuracy: 0.3540 - auc_144: 0.7297 - precision_144: 0.6731 - recall_144: 0.2065 - f1_score: 0.3043 - val_loss: 1.3150 - val_accuracy: 0.2471 - val_auc_144: 0.6119 - val_precision_144: 0.5179 - val_recall_144: 0.1706 - val_f1_score: 0.1707 - 1s/epoch - 100ms/step\n",
      "Epoch 11/15\n",
      "11/11 - 1s - loss: 2.5051 - accuracy: 0.3864 - auc_144: 0.7366 - precision_144: 0.7211 - recall_144: 0.3127 - f1_score: 0.3346 - val_loss: 1.4128 - val_accuracy: 0.1882 - val_auc_144: 0.5534 - val_precision_144: 0.3898 - val_recall_144: 0.1353 - val_f1_score: 0.1621 - 1s/epoch - 102ms/step\n",
      "Epoch 12/15\n",
      "11/11 - 1s - loss: 2.4432 - accuracy: 0.3805 - auc_144: 0.7294 - precision_144: 0.6579 - recall_144: 0.2950 - f1_score: 0.3320 - val_loss: 1.5156 - val_accuracy: 0.1882 - val_auc_144: 0.5687 - val_precision_144: 0.4545 - val_recall_144: 0.1471 - val_f1_score: 0.1654 - 1s/epoch - 102ms/step\n",
      "Epoch 13/15\n",
      "11/11 - 1s - loss: 2.3121 - accuracy: 0.3894 - auc_144: 0.7299 - precision_144: 0.6879 - recall_144: 0.3186 - f1_score: 0.3557 - val_loss: 1.6792 - val_accuracy: 0.2353 - val_auc_144: 0.5859 - val_precision_144: 0.4930 - val_recall_144: 0.2059 - val_f1_score: 0.1912 - 1s/epoch - 103ms/step\n",
      "Epoch 14/15\n",
      "11/11 - 1s - loss: 2.2452 - accuracy: 0.4130 - auc_144: 0.7374 - precision_144: 0.7160 - recall_144: 0.3569 - f1_score: 0.3768 - val_loss: 1.7763 - val_accuracy: 0.1941 - val_auc_144: 0.5738 - val_precision_144: 0.3906 - val_recall_144: 0.1471 - val_f1_score: 0.1690 - 1s/epoch - 103ms/step\n",
      "Epoch 15/15\n",
      "11/11 - 1s - loss: 2.1199 - accuracy: 0.4336 - auc_144: 0.7594 - precision_144: 0.6238 - recall_144: 0.3864 - f1_score: 0.4044 - val_loss: 1.9319 - val_accuracy: 0.2059 - val_auc_144: 0.5591 - val_precision_144: 0.2000 - val_recall_144: 0.1647 - val_f1_score: 0.1772 - 1s/epoch - 103ms/step\n"
     ]
    },
    {
     "data": {
      "image/png": "[encoded data removed]",
      "text/plain": [
       "<Figure size 432x288 with 1 Axes>"
      ]
     },
     "metadata": {
      "needs_background": "light"
     },
     "output_type": "display_data"
    },
    {
     "name": "stdout",
     "output_type": "stream",
     "text": [
      "Epoch 1/15\n",
      "11/11 - 26s - loss: 2.5801 - accuracy: 0.3776 - auc_145: 0.7452 - precision_145: 0.0000e+00 - recall_145: 0.0000e+00 - f1_score: 0.2191 - val_loss: 1.2055 - val_accuracy: 0.5588 - val_auc_145: 0.7976 - val_precision_145: 0.6667 - val_recall_145: 0.0235 - val_f1_score: 0.1792 - 26s/epoch - 2s/step\n",
      "Epoch 2/15\n",
      "11/11 - 1s - loss: 2.4622 - accuracy: 0.4572 - auc_145: 0.7658 - precision_145: 0.5833 - recall_145: 0.0206 - f1_score: 0.2377 - val_loss: 1.2112 - val_accuracy: 0.3529 - val_auc_145: 0.6951 - val_precision_145: 1.0000 - val_recall_145: 0.0059 - val_f1_score: 0.2000 - 1s/epoch - 107ms/step\n",
      "Epoch 3/15\n",
      "11/11 - 1s - loss: 2.4254 - accuracy: 0.2655 - auc_145: 0.6627 - precision_145: 0.4000 - recall_145: 0.0177 - f1_score: 0.1881 - val_loss: 1.2938 - val_accuracy: 0.1529 - val_auc_145: 0.6030 - val_precision_145: 0.1250 - val_recall_145: 0.0059 - val_f1_score: 0.1124 - 1s/epoch - 109ms/step\n",
      "Epoch 4/15\n",
      "11/11 - 1s - loss: 2.3668 - accuracy: 0.2861 - auc_145: 0.6992 - precision_145: 0.5814 - recall_145: 0.0737 - f1_score: 0.2028 - val_loss: 1.2570 - val_accuracy: 0.2412 - val_auc_145: 0.6671 - val_precision_145: 0.1765 - val_recall_145: 0.0176 - val_f1_score: 0.1821 - 1s/epoch - 102ms/step\n",
      "Epoch 5/15\n",
      "11/11 - 1s - loss: 2.3051 - accuracy: 0.2861 - auc_145: 0.7007 - precision_145: 0.5667 - recall_145: 0.0501 - f1_score: 0.2146 - val_loss: 1.2710 - val_accuracy: 0.2412 - val_auc_145: 0.6558 - val_precision_145: 0.2174 - val_recall_145: 0.0294 - val_f1_score: 0.1807 - 1s/epoch - 104ms/step\n",
      "Epoch 6/15\n",
      "11/11 - 1s - loss: 2.2463 - accuracy: 0.2950 - auc_145: 0.6998 - precision_145: 0.5000 - recall_145: 0.1091 - f1_score: 0.2220 - val_loss: 1.3777 - val_accuracy: 0.4000 - val_auc_145: 0.7172 - val_precision_145: 0.4583 - val_recall_145: 0.1294 - val_f1_score: 0.2258 - 1s/epoch - 106ms/step\n",
      "Epoch 7/15\n",
      "11/11 - 1s - loss: 2.2301 - accuracy: 0.4631 - auc_145: 0.7623 - precision_145: 0.6400 - recall_145: 0.1888 - f1_score: 0.3086 - val_loss: 1.3948 - val_accuracy: 0.3118 - val_auc_145: 0.6474 - val_precision_145: 0.2889 - val_recall_145: 0.0765 - val_f1_score: 0.1699 - 1s/epoch - 105ms/step\n",
      "Epoch 8/15\n",
      "11/11 - 1s - loss: 2.1837 - accuracy: 0.4543 - auc_145: 0.7462 - precision_145: 0.5950 - recall_145: 0.2124 - f1_score: 0.3022 - val_loss: 1.4057 - val_accuracy: 0.4529 - val_auc_145: 0.7296 - val_precision_145: 0.6393 - val_recall_145: 0.2294 - val_f1_score: 0.2647 - 1s/epoch - 110ms/step\n",
      "Epoch 9/15\n",
      "11/11 - 1s - loss: 2.1165 - accuracy: 0.4779 - auc_145: 0.7435 - precision_145: 0.6612 - recall_145: 0.2360 - f1_score: 0.3204 - val_loss: 1.3537 - val_accuracy: 0.4412 - val_auc_145: 0.6874 - val_precision_145: 0.6066 - val_recall_145: 0.2176 - val_f1_score: 0.2600 - 1s/epoch - 113ms/step\n",
      "Epoch 10/15\n",
      "11/11 - 1s - loss: 2.0925 - accuracy: 0.4779 - auc_145: 0.7285 - precision_145: 0.5840 - recall_145: 0.2153 - f1_score: 0.3304 - val_loss: 1.3813 - val_accuracy: 0.4353 - val_auc_145: 0.6841 - val_precision_145: 0.5806 - val_recall_145: 0.2118 - val_f1_score: 0.2367 - 1s/epoch - 105ms/step\n",
      "Epoch 11/15\n",
      "11/11 - 1s - loss: 2.1040 - accuracy: 0.4926 - auc_145: 0.7570 - precision_145: 0.6612 - recall_145: 0.2360 - f1_score: 0.3285 - val_loss: 1.4825 - val_accuracy: 0.3588 - val_auc_145: 0.5752 - val_precision_145: 0.3500 - val_recall_145: 0.1235 - val_f1_score: 0.2339 - 1s/epoch - 102ms/step\n"
     ]
    },
    {
     "data": {
      "image/png": "[encoded data removed]",
      "text/plain": [
       "<Figure size 432x288 with 1 Axes>"
      ]
     },
     "metadata": {
      "needs_background": "light"
     },
     "output_type": "display_data"
    },
    {
     "name": "stdout",
     "output_type": "stream",
     "text": [
      "Epoch 1/15\n",
      "11/11 - 27s - loss: 2.5579 - accuracy: 0.3294 - auc_146: 0.6438 - precision_146: 0.3333 - recall_146: 0.0059 - f1_score: 0.2195 - val_loss: 1.1742 - val_accuracy: 0.5503 - val_auc_146: 0.7319 - val_precision_146: 0.6875 - val_recall_146: 0.0651 - val_f1_score: 0.1775 - 27s/epoch - 2s/step\n",
      "Epoch 2/15\n",
      "11/11 - 1s - loss: 2.5071 - accuracy: 0.5088 - auc_146: 0.7187 - precision_146: 0.8182 - recall_146: 0.0265 - f1_score: 0.2627 - val_loss: 1.2286 - val_accuracy: 0.3550 - val_auc_146: 0.6412 - val_precision_146: 0.0000e+00 - val_recall_146: 0.0000e+00 - val_f1_score: 0.1310 - 1s/epoch - 101ms/step\n",
      "Epoch 3/15\n",
      "11/11 - 1s - loss: 2.5441 - accuracy: 0.4265 - auc_146: 0.6922 - precision_146: 0.6667 - recall_146: 0.0353 - f1_score: 0.2679 - val_loss: 1.2492 - val_accuracy: 0.2781 - val_auc_146: 0.5885 - val_precision_146: 0.0000e+00 - val_recall_146: 0.0000e+00 - val_f1_score: 0.1278 - 1s/epoch - 98ms/step\n",
      "Epoch 4/15\n",
      "11/11 - 1s - loss: 2.4641 - accuracy: 0.4176 - auc_146: 0.6718 - precision_146: 1.0000 - recall_146: 0.0118 - f1_score: 0.2279 - val_loss: 1.1626 - val_accuracy: 0.5148 - val_auc_146: 0.7522 - val_precision_146: 0.6818 - val_recall_146: 0.0888 - val_f1_score: 0.2625 - 1s/epoch - 104ms/step\n",
      "Epoch 5/15\n",
      "11/11 - 1s - loss: 2.4226 - accuracy: 0.4647 - auc_146: 0.7116 - precision_146: 0.6957 - recall_146: 0.0471 - f1_score: 0.2793 - val_loss: 1.2121 - val_accuracy: 0.3373 - val_auc_146: 0.6842 - val_precision_146: 0.8571 - val_recall_146: 0.0355 - val_f1_score: 0.1829 - 1s/epoch - 99ms/step\n",
      "Epoch 6/15\n",
      "11/11 - 1s - loss: 2.3522 - accuracy: 0.4500 - auc_146: 0.7120 - precision_146: 0.7353 - recall_146: 0.0735 - f1_score: 0.2928 - val_loss: 1.1775 - val_accuracy: 0.3905 - val_auc_146: 0.7121 - val_precision_146: 0.5862 - val_recall_146: 0.1006 - val_f1_score: 0.2053 - 1s/epoch - 99ms/step\n",
      "Epoch 7/15\n",
      "11/11 - 1s - loss: 2.3004 - accuracy: 0.5088 - auc_146: 0.7443 - precision_146: 0.7792 - recall_146: 0.1765 - f1_score: 0.3092 - val_loss: 1.3464 - val_accuracy: 0.3195 - val_auc_146: 0.5548 - val_precision_146: 0.2340 - val_recall_146: 0.0651 - val_f1_score: 0.1919 - 1s/epoch - 98ms/step\n",
      "Epoch 8/15\n",
      "11/11 - 1s - loss: 2.3204 - accuracy: 0.4500 - auc_146: 0.6818 - precision_146: 0.5049 - recall_146: 0.1529 - f1_score: 0.2791 - val_loss: 1.2433 - val_accuracy: 0.3964 - val_auc_146: 0.6619 - val_precision_146: 0.3968 - val_recall_146: 0.1479 - val_f1_score: 0.2089 - 1s/epoch - 102ms/step\n",
      "Epoch 9/15\n",
      "11/11 - 1s - loss: 2.1934 - accuracy: 0.5353 - auc_146: 0.7403 - precision_146: 0.7527 - recall_146: 0.2059 - f1_score: 0.3504 - val_loss: 1.2635 - val_accuracy: 0.3905 - val_auc_146: 0.6442 - val_precision_146: 0.4394 - val_recall_146: 0.1716 - val_f1_score: 0.2137 - 1s/epoch - 100ms/step\n",
      "Epoch 10/15\n",
      "11/11 - 1s - loss: 2.1663 - accuracy: 0.5088 - auc_146: 0.7398 - precision_146: 0.6825 - recall_146: 0.2529 - f1_score: 0.3316 - val_loss: 1.4648 - val_accuracy: 0.3432 - val_auc_146: 0.6037 - val_precision_146: 0.3373 - val_recall_146: 0.1657 - val_f1_score: 0.2221 - 1s/epoch - 103ms/step\n",
      "Epoch 11/15\n",
      "11/11 - 1s - loss: 2.0922 - accuracy: 0.5441 - auc_146: 0.7769 - precision_146: 0.7007 - recall_146: 0.2824 - f1_score: 0.3688 - val_loss: 1.3042 - val_accuracy: 0.4260 - val_auc_146: 0.6713 - val_precision_146: 0.4651 - val_recall_146: 0.2367 - val_f1_score: 0.2471 - 1s/epoch - 101ms/step\n",
      "Epoch 12/15\n",
      "11/11 - 1s - loss: 2.0458 - accuracy: 0.4676 - auc_146: 0.7717 - precision_146: 0.7338 - recall_146: 0.3000 - f1_score: 0.3709 - val_loss: 1.3813 - val_accuracy: 0.2899 - val_auc_146: 0.6309 - val_precision_146: 0.4235 - val_recall_146: 0.2130 - val_f1_score: 0.2112 - 1s/epoch - 101ms/step\n",
      "Epoch 13/15\n",
      "11/11 - 1s - loss: 1.9804 - accuracy: 0.4206 - auc_146: 0.7759 - precision_146: 0.7740 - recall_146: 0.3324 - f1_score: 0.3661 - val_loss: 1.5258 - val_accuracy: 0.3077 - val_auc_146: 0.6418 - val_precision_146: 0.4222 - val_recall_146: 0.2249 - val_f1_score: 0.2188 - 1s/epoch - 104ms/step\n",
      "Epoch 14/15\n",
      "11/11 - 1s - loss: 1.9697 - accuracy: 0.5206 - auc_146: 0.7972 - precision_146: 0.7785 - recall_146: 0.3618 - f1_score: 0.3885 - val_loss: 1.6772 - val_accuracy: 0.2485 - val_auc_146: 0.6024 - val_precision_146: 0.3617 - val_recall_146: 0.2012 - val_f1_score: 0.1891 - 1s/epoch - 99ms/step\n"
     ]
    },
    {
     "data": {
      "image/png": "[encoded data removed]",
      "text/plain": [
       "<Figure size 432x288 with 1 Axes>"
      ]
     },
     "metadata": {
      "needs_background": "light"
     },
     "output_type": "display_data"
    }
   ],
   "source": [
    "for b in batch_sizes:\n",
    "    for act in activation:\n",
    "        for n in neurons:\n",
    "            for s in kernel_size:\n",
    "                for init in kernel_initializer:\n",
    "                    for d in dropout:\n",
    "                        print('Batch size', b, 'Activation', act, 'Neurons', n, 'Kernel size', s, 'Kernel initializer', init, 'Dropout', d)\n",
    "                        for train_index, val_index in kf.split(face_X):\n",
    "                            X_train, X_val = face_X[train_index], face_X[val_index]\n",
    "                            y_train, y_val = face_y[train_index], face_y[val_index]\n",
    "                            face_convLSTM = build_convLSTM(face_features, n_length, face_outputs, neurons=n, kernel_size=s, activation=act, kernel_initializer=init, dropout=d)\n",
    "                            history = train(face_convLSTM, X_train, y_train, X_val, y_val, epochs=epochs, batch_size=b, class_weight=class_weight)\n",
    "                            if (history['val_accuracy'] > face_best_lstm_acc) and (history['val_roc_auc'] > face_best_lstm_auc):\n",
    "                                face_best_lstm_acc = history['val_accuracy']\n",
    "                                face_best_lstm_auc = history['val_roc_auc']\n",
    "                                face_lstm_loss = history['loss']\n",
    "                                face_best_lstm_model = face_convLSTM\n",
    "                                face_lstm_values = { 'batch_size': b, 'activation': act, 'neurons': n, 'kernel_size': s, 'kernel_initializer': init, 'dropout': d }"
   ]
  },
  {
   "cell_type": "markdown",
   "metadata": {},
   "source": [
    "#### Train RCNN"
   ]
  },
  {
   "cell_type": "code",
   "execution_count": null,
   "metadata": {},
   "outputs": [],
   "source": [
    "face_best_rcnn_acc = 0.0\n",
    "face_best_rcnn_auc = 0.0\n",
    "face_rcnn_loss = float(\"inf\")\n",
    "face_best_rcnn_model = None\n",
    "face_rcnn_values = { 'batch_size': 0, 'activation': '', 'neurons': 0, 'kernel_size': 0, 'kernel_initializer': '', 'dropout': float(\"inf\") }"
   ]
  },
  {
   "cell_type": "code",
   "execution_count": 40,
   "metadata": {},
   "outputs": [
    {
     "name": "stdout",
     "output_type": "stream",
     "text": [
      "Epoch 1/15\n",
      "11/11 - 7s - loss: 52.9261 - accuracy: 0.2684 - auc_147: 0.5051 - precision_147: 0.2586 - recall_147: 0.2448 - f1_score: 0.2134 - val_loss: 1.5916 - val_accuracy: 0.1941 - val_auc_147: 0.5027 - val_precision_147: 0.4030 - val_recall_147: 0.1588 - val_f1_score: 0.1267 - 7s/epoch - 667ms/step\n",
      "Epoch 2/15\n",
      "11/11 - 0s - loss: 9.7540 - accuracy: 0.3068 - auc_147: 0.5992 - precision_147: 0.3086 - recall_147: 0.3068 - f1_score: 0.2351 - val_loss: 1.5767 - val_accuracy: 0.3059 - val_auc_147: 0.5619 - val_precision_147: 0.0323 - val_recall_147: 0.0059 - val_f1_score: 0.1618 - 360ms/epoch - 33ms/step\n",
      "Epoch 3/15\n",
      "11/11 - 0s - loss: 18.7056 - accuracy: 0.4543 - auc_147: 0.6797 - precision_147: 0.4551 - recall_147: 0.4484 - f1_score: 0.3339 - val_loss: 1.2896 - val_accuracy: 0.3824 - val_auc_147: 0.6799 - val_precision_147: 0.1212 - val_recall_147: 0.0235 - val_f1_score: 0.1752 - 343ms/epoch - 31ms/step\n",
      "Epoch 4/15\n",
      "11/11 - 0s - loss: 27.9410 - accuracy: 0.2566 - auc_147: 0.5640 - precision_147: 0.2560 - recall_147: 0.2537 - f1_score: 0.2083 - val_loss: 1.7534 - val_accuracy: 0.1059 - val_auc_147: 0.4806 - val_precision_147: 0.1014 - val_recall_147: 0.0824 - val_f1_score: 0.1149 - 365ms/epoch - 33ms/step\n",
      "Epoch 5/15\n",
      "11/11 - 0s - loss: 10.3883 - accuracy: 0.4100 - auc_147: 0.6516 - precision_147: 0.4313 - recall_147: 0.4071 - f1_score: 0.3211 - val_loss: 1.5301 - val_accuracy: 0.4000 - val_auc_147: 0.6406 - val_precision_147: 0.4058 - val_recall_147: 0.3294 - val_f1_score: 0.2181 - 364ms/epoch - 33ms/step\n",
      "Epoch 6/15\n",
      "11/11 - 0s - loss: 10.3640 - accuracy: 0.3451 - auc_147: 0.5822 - precision_147: 0.3443 - recall_147: 0.3392 - f1_score: 0.2808 - val_loss: 1.1548 - val_accuracy: 0.4235 - val_auc_147: 0.7397 - val_precision_147: 0.3571 - val_recall_147: 0.0882 - val_f1_score: 0.2096 - 328ms/epoch - 30ms/step\n",
      "Epoch 7/15\n",
      "11/11 - 0s - loss: 6.6882 - accuracy: 0.5044 - auc_147: 0.7486 - precision_147: 0.5325 - recall_147: 0.4838 - f1_score: 0.3966 - val_loss: 1.4176 - val_accuracy: 0.4176 - val_auc_147: 0.6832 - val_precision_147: 0.4483 - val_recall_147: 0.3824 - val_f1_score: 0.2371 - 393ms/epoch - 36ms/step\n",
      "Epoch 8/15\n",
      "11/11 - 0s - loss: 5.5599 - accuracy: 0.3628 - auc_147: 0.6664 - precision_147: 0.3879 - recall_147: 0.3215 - f1_score: 0.2937 - val_loss: 1.2316 - val_accuracy: 0.4118 - val_auc_147: 0.6935 - val_precision_147: 0.3889 - val_recall_147: 0.0824 - val_f1_score: 0.1982 - 346ms/epoch - 31ms/step\n",
      "Epoch 9/15\n",
      "11/11 - 0s - loss: 3.5965 - accuracy: 0.4159 - auc_147: 0.7272 - precision_147: 0.4319 - recall_147: 0.3835 - f1_score: 0.3840 - val_loss: 1.5994 - val_accuracy: 0.1588 - val_auc_147: 0.4902 - val_precision_147: 0.1270 - val_recall_147: 0.0941 - val_f1_score: 0.1445 - 346ms/epoch - 31ms/step\n",
      "Epoch 10/15\n",
      "11/11 - 0s - loss: 3.4006 - accuracy: 0.4720 - auc_147: 0.7869 - precision_147: 0.5642 - recall_147: 0.4277 - f1_score: 0.3623 - val_loss: 1.4018 - val_accuracy: 0.2235 - val_auc_147: 0.4958 - val_precision_147: 0.4737 - val_recall_147: 0.0529 - val_f1_score: 0.1662 - 385ms/epoch - 35ms/step\n",
      "Epoch 11/15\n",
      "11/11 - 0s - loss: 2.8797 - accuracy: 0.5310 - auc_147: 0.8417 - precision_147: 0.6417 - recall_147: 0.4808 - f1_score: 0.4240 - val_loss: 1.2676 - val_accuracy: 0.2353 - val_auc_147: 0.6445 - val_precision_147: 0.5500 - val_recall_147: 0.0647 - val_f1_score: 0.1726 - 334ms/epoch - 30ms/step\n",
      "Epoch 12/15\n",
      "11/11 - 0s - loss: 3.6022 - accuracy: 0.3776 - auc_147: 0.6386 - precision_147: 0.3804 - recall_147: 0.3658 - f1_score: 0.3169 - val_loss: 1.1834 - val_accuracy: 0.4059 - val_auc_147: 0.7185 - val_precision_147: 0.1053 - val_recall_147: 0.0118 - val_f1_score: 0.2135 - 352ms/epoch - 32ms/step\n",
      "Epoch 13/15\n",
      "11/11 - 0s - loss: 3.3493 - accuracy: 0.4395 - auc_147: 0.7747 - precision_147: 0.4910 - recall_147: 0.4012 - f1_score: 0.3468 - val_loss: 1.2911 - val_accuracy: 0.4059 - val_auc_147: 0.6741 - val_precision_147: 0.4091 - val_recall_147: 0.3176 - val_f1_score: 0.1804 - 369ms/epoch - 34ms/step\n",
      "Epoch 14/15\n",
      "11/11 - 0s - loss: 2.5192 - accuracy: 0.5221 - auc_147: 0.7783 - precision_147: 0.5439 - recall_147: 0.4572 - f1_score: 0.4245 - val_loss: 1.2966 - val_accuracy: 0.4176 - val_auc_147: 0.6952 - val_precision_147: 0.4638 - val_recall_147: 0.3765 - val_f1_score: 0.1606 - 338ms/epoch - 31ms/step\n",
      "Epoch 15/15\n",
      "11/11 - 0s - loss: 3.7503 - accuracy: 0.5605 - auc_147: 0.8416 - precision_147: 0.6055 - recall_147: 0.4572 - f1_score: 0.4125 - val_loss: 1.4005 - val_accuracy: 0.4118 - val_auc_147: 0.6003 - val_precision_147: 0.4737 - val_recall_147: 0.1059 - val_f1_score: 0.1834 - 355ms/epoch - 32ms/step\n"
     ]
    },
    {
     "data": {
      "image/png": "[encoded data removed]",
      "text/plain": [
       "<Figure size 432x288 with 1 Axes>"
      ]
     },
     "metadata": {
      "needs_background": "light"
     },
     "output_type": "display_data"
    },
    {
     "name": "stdout",
     "output_type": "stream",
     "text": [
      "Epoch 1/15\n",
      "11/11 - 8s - loss: 51.2040 - accuracy: 0.2891 - auc_148: 0.5098 - precision_148: 0.2972 - recall_148: 0.2832 - f1_score: 0.2235 - val_loss: 1.8891 - val_accuracy: 0.3882 - val_auc_148: 0.6838 - val_precision_148: 0.4051 - val_recall_148: 0.1882 - val_f1_score: 0.1879 - 8s/epoch - 704ms/step\n",
      "Epoch 2/15\n",
      "11/11 - 0s - loss: 32.7435 - accuracy: 0.3038 - auc_148: 0.5350 - precision_148: 0.3056 - recall_148: 0.3038 - f1_score: 0.2217 - val_loss: 1.5217 - val_accuracy: 0.3471 - val_auc_148: 0.6365 - val_precision_148: 0.6143 - val_recall_148: 0.2529 - val_f1_score: 0.2318 - 362ms/epoch - 33ms/step\n",
      "Epoch 3/15\n",
      "11/11 - 0s - loss: 9.7693 - accuracy: 0.4041 - auc_148: 0.6849 - precision_148: 0.4012 - recall_148: 0.3835 - f1_score: 0.2809 - val_loss: 1.9883 - val_accuracy: 0.1706 - val_auc_148: 0.4875 - val_precision_148: 0.1479 - val_recall_148: 0.1235 - val_f1_score: 0.1310 - 341ms/epoch - 31ms/step\n",
      "Epoch 4/15\n",
      "11/11 - 0s - loss: 9.6385 - accuracy: 0.3068 - auc_148: 0.6245 - precision_148: 0.3084 - recall_148: 0.3038 - f1_score: 0.2679 - val_loss: 1.9048 - val_accuracy: 0.2000 - val_auc_148: 0.4616 - val_precision_148: 0.1746 - val_recall_148: 0.1294 - val_f1_score: 0.1390 - 379ms/epoch - 34ms/step\n",
      "Epoch 5/15\n",
      "11/11 - 0s - loss: 9.8336 - accuracy: 0.3953 - auc_148: 0.7162 - precision_148: 0.4161 - recall_148: 0.3805 - f1_score: 0.2919 - val_loss: 1.7968 - val_accuracy: 0.2471 - val_auc_148: 0.5061 - val_precision_148: 0.2540 - val_recall_148: 0.1882 - val_f1_score: 0.1497 - 356ms/epoch - 32ms/step\n",
      "Epoch 6/15\n",
      "11/11 - 0s - loss: 5.7254 - accuracy: 0.3687 - auc_148: 0.6468 - precision_148: 0.3656 - recall_148: 0.3569 - f1_score: 0.2940 - val_loss: 1.7111 - val_accuracy: 0.2353 - val_auc_148: 0.6042 - val_precision_148: 0.2297 - val_recall_148: 0.2000 - val_f1_score: 0.1419 - 391ms/epoch - 36ms/step\n",
      "Epoch 7/15\n",
      "11/11 - 0s - loss: 2.7033 - accuracy: 0.4749 - auc_148: 0.7416 - precision_148: 0.5083 - recall_148: 0.4513 - f1_score: 0.3652 - val_loss: 1.9431 - val_accuracy: 0.1765 - val_auc_148: 0.4450 - val_precision_148: 0.1241 - val_recall_148: 0.1000 - val_f1_score: 0.1210 - 374ms/epoch - 34ms/step\n",
      "Epoch 8/15\n",
      "11/11 - 0s - loss: 4.6697 - accuracy: 0.5162 - auc_148: 0.7874 - precision_148: 0.5392 - recall_148: 0.4867 - f1_score: 0.4092 - val_loss: 1.6628 - val_accuracy: 0.2176 - val_auc_148: 0.5583 - val_precision_148: 0.1985 - val_recall_148: 0.1529 - val_f1_score: 0.1416 - 379ms/epoch - 34ms/step\n",
      "Epoch 9/15\n",
      "11/11 - 0s - loss: 7.4181 - accuracy: 0.4513 - auc_148: 0.7626 - precision_148: 0.4564 - recall_148: 0.4012 - f1_score: 0.3301 - val_loss: 1.4641 - val_accuracy: 0.2471 - val_auc_148: 0.5538 - val_precision_148: 0.6111 - val_recall_148: 0.1294 - val_f1_score: 0.1783 - 393ms/epoch - 36ms/step\n",
      "Epoch 10/15\n",
      "11/11 - 0s - loss: 4.1105 - accuracy: 0.4336 - auc_148: 0.7390 - precision_148: 0.4563 - recall_148: 0.4159 - f1_score: 0.3601 - val_loss: 1.9256 - val_accuracy: 0.2176 - val_auc_148: 0.4361 - val_precision_148: 0.1667 - val_recall_148: 0.1294 - val_f1_score: 0.1428 - 340ms/epoch - 31ms/step\n",
      "Epoch 11/15\n",
      "11/11 - 0s - loss: 2.6284 - accuracy: 0.4749 - auc_148: 0.7693 - precision_148: 0.5125 - recall_148: 0.4218 - f1_score: 0.3859 - val_loss: 1.7012 - val_accuracy: 0.2529 - val_auc_148: 0.5878 - val_precision_148: 0.2314 - val_recall_148: 0.1647 - val_f1_score: 0.1717 - 409ms/epoch - 37ms/step\n",
      "Epoch 12/15\n",
      "11/11 - 0s - loss: 7.2056 - accuracy: 0.4897 - auc_148: 0.7738 - precision_148: 0.4910 - recall_148: 0.4838 - f1_score: 0.3519 - val_loss: 2.7251 - val_accuracy: 0.1647 - val_auc_148: 0.4095 - val_precision_148: 0.1439 - val_recall_148: 0.1176 - val_f1_score: 0.1286 - 400ms/epoch - 36ms/step\n",
      "Epoch 13/15\n",
      "11/11 - 0s - loss: 5.6704 - accuracy: 0.3274 - auc_148: 0.5877 - precision_148: 0.3495 - recall_148: 0.3186 - f1_score: 0.2721 - val_loss: 2.6862 - val_accuracy: 0.2000 - val_auc_148: 0.3814 - val_precision_148: 0.1862 - val_recall_148: 0.1588 - val_f1_score: 0.1453 - 385ms/epoch - 35ms/step\n",
      "Epoch 14/15\n",
      "11/11 - 0s - loss: 2.8074 - accuracy: 0.4277 - auc_148: 0.7499 - precision_148: 0.4669 - recall_148: 0.4159 - f1_score: 0.3729 - val_loss: 3.1880 - val_accuracy: 0.2647 - val_auc_148: 0.5206 - val_precision_148: 0.2628 - val_recall_148: 0.2412 - val_f1_score: 0.1793 - 358ms/epoch - 33ms/step\n",
      "Epoch 15/15\n",
      "11/11 - 0s - loss: 4.1289 - accuracy: 0.5280 - auc_148: 0.7973 - precision_148: 0.5481 - recall_148: 0.5044 - f1_score: 0.3968 - val_loss: 1.8219 - val_accuracy: 0.2353 - val_auc_148: 0.4751 - val_precision_148: 0.3889 - val_recall_148: 0.1235 - val_f1_score: 0.1682 - 396ms/epoch - 36ms/step\n"
     ]
    },
    {
     "data": {
      "image/png": "[encoded data removed]",
      "text/plain": [
       "<Figure size 432x288 with 1 Axes>"
      ]
     },
     "metadata": {
      "needs_background": "light"
     },
     "output_type": "display_data"
    },
    {
     "name": "stdout",
     "output_type": "stream",
     "text": [
      "Epoch 1/15\n",
      "11/11 - 8s - loss: 47.3937 - accuracy: 0.3088 - auc_149: 0.5581 - precision_149: 0.3114 - recall_149: 0.3059 - f1_score: 0.2217 - val_loss: 2.2028 - val_accuracy: 0.4793 - val_auc_149: 0.6875 - val_precision_149: 0.5870 - val_recall_149: 0.3195 - val_f1_score: 0.2447 - 8s/epoch - 707ms/step\n",
      "Epoch 2/15\n",
      "11/11 - 0s - loss: 20.1115 - accuracy: 0.2294 - auc_149: 0.4963 - precision_149: 0.2308 - recall_149: 0.2294 - f1_score: 0.1905 - val_loss: 1.6402 - val_accuracy: 0.2426 - val_auc_149: 0.5745 - val_precision_149: 0.2037 - val_recall_149: 0.0651 - val_f1_score: 0.1944 - 387ms/epoch - 35ms/step\n",
      "Epoch 3/15\n",
      "11/11 - 0s - loss: 15.2895 - accuracy: 0.3706 - auc_149: 0.6605 - precision_149: 0.3687 - recall_149: 0.3676 - f1_score: 0.2847 - val_loss: 1.6131 - val_accuracy: 0.1302 - val_auc_149: 0.5059 - val_precision_149: 0.2593 - val_recall_149: 0.0414 - val_f1_score: 0.1197 - 354ms/epoch - 32ms/step\n",
      "Epoch 4/15\n",
      "11/11 - 0s - loss: 3.7041 - accuracy: 0.4647 - auc_149: 0.7459 - precision_149: 0.4696 - recall_149: 0.4088 - f1_score: 0.3385 - val_loss: 1.6570 - val_accuracy: 0.1893 - val_auc_149: 0.4241 - val_precision_149: 0.3182 - val_recall_149: 0.0414 - val_f1_score: 0.1734 - 362ms/epoch - 33ms/step\n",
      "Epoch 5/15\n",
      "11/11 - 0s - loss: 4.7972 - accuracy: 0.4265 - auc_149: 0.7611 - precision_149: 0.4636 - recall_149: 0.4118 - f1_score: 0.2995 - val_loss: 2.7077 - val_accuracy: 0.1598 - val_auc_149: 0.3945 - val_precision_149: 0.1159 - val_recall_149: 0.0947 - val_f1_score: 0.1751 - 366ms/epoch - 33ms/step\n",
      "Epoch 6/15\n",
      "11/11 - 0s - loss: 2.9793 - accuracy: 0.4500 - auc_149: 0.7277 - precision_149: 0.4706 - recall_149: 0.3765 - f1_score: 0.3640 - val_loss: 3.0799 - val_accuracy: 0.0651 - val_auc_149: 0.4407 - val_precision_149: 0.0261 - val_recall_149: 0.0237 - val_f1_score: 0.0585 - 380ms/epoch - 35ms/step\n",
      "Epoch 7/15\n",
      "11/11 - 0s - loss: 4.0149 - accuracy: 0.5441 - auc_149: 0.8336 - precision_149: 0.6118 - recall_149: 0.4588 - f1_score: 0.3875 - val_loss: 2.6324 - val_accuracy: 0.0769 - val_auc_149: 0.4083 - val_precision_149: 0.0429 - val_recall_149: 0.0355 - val_f1_score: 0.0852 - 383ms/epoch - 35ms/step\n",
      "Epoch 8/15\n",
      "11/11 - 0s - loss: 2.7204 - accuracy: 0.4500 - auc_149: 0.7633 - precision_149: 0.5224 - recall_149: 0.4118 - f1_score: 0.3542 - val_loss: 1.9257 - val_accuracy: 0.1834 - val_auc_149: 0.3720 - val_precision_149: 0.2979 - val_recall_149: 0.0828 - val_f1_score: 0.1457 - 369ms/epoch - 34ms/step\n",
      "Epoch 9/15\n",
      "11/11 - 0s - loss: 2.2629 - accuracy: 0.5176 - auc_149: 0.8086 - precision_149: 0.6069 - recall_149: 0.4676 - f1_score: 0.3895 - val_loss: 1.6027 - val_accuracy: 0.3491 - val_auc_149: 0.5847 - val_precision_149: 0.3876 - val_recall_149: 0.2959 - val_f1_score: 0.2137 - 364ms/epoch - 33ms/step\n",
      "Epoch 10/15\n",
      "11/11 - 0s - loss: 2.7462 - accuracy: 0.4735 - auc_149: 0.7853 - precision_149: 0.5125 - recall_149: 0.4235 - f1_score: 0.3585 - val_loss: 1.4308 - val_accuracy: 0.3846 - val_auc_149: 0.5756 - val_precision_149: 0.3714 - val_recall_149: 0.0769 - val_f1_score: 0.2499 - 366ms/epoch - 33ms/step\n",
      "Epoch 11/15\n",
      "11/11 - 0s - loss: 2.3359 - accuracy: 0.4647 - auc_149: 0.7808 - precision_149: 0.5726 - recall_149: 0.4176 - f1_score: 0.4111 - val_loss: 1.9398 - val_accuracy: 0.1065 - val_auc_149: 0.4315 - val_precision_149: 0.0853 - val_recall_149: 0.0651 - val_f1_score: 0.0982 - 402ms/epoch - 37ms/step\n",
      "Epoch 12/15\n",
      "11/11 - 0s - loss: 3.1475 - accuracy: 0.5382 - auc_149: 0.8032 - precision_149: 0.6032 - recall_149: 0.4471 - f1_score: 0.3905 - val_loss: 1.5009 - val_accuracy: 0.2485 - val_auc_149: 0.5655 - val_precision_149: 0.3478 - val_recall_149: 0.0947 - val_f1_score: 0.1536 - 352ms/epoch - 32ms/step\n",
      "Epoch 13/15\n",
      "11/11 - 0s - loss: 1.6992 - accuracy: 0.5412 - auc_149: 0.8107 - precision_149: 0.7415 - recall_149: 0.4471 - f1_score: 0.4327 - val_loss: 1.4317 - val_accuracy: 0.2367 - val_auc_149: 0.6091 - val_precision_149: 0.2931 - val_recall_149: 0.1006 - val_f1_score: 0.1817 - 339ms/epoch - 31ms/step\n",
      "Epoch 14/15\n",
      "11/11 - 0s - loss: 3.0757 - accuracy: 0.4941 - auc_149: 0.7931 - precision_149: 0.6066 - recall_149: 0.4353 - f1_score: 0.3751 - val_loss: 1.8191 - val_accuracy: 0.1538 - val_auc_149: 0.4871 - val_precision_149: 0.0840 - val_recall_149: 0.0651 - val_f1_score: 0.1685 - 366ms/epoch - 33ms/step\n",
      "Epoch 15/15\n",
      "11/11 - 0s - loss: 2.5701 - accuracy: 0.5000 - auc_149: 0.7873 - precision_149: 0.6233 - recall_149: 0.4088 - f1_score: 0.3886 - val_loss: 2.2055 - val_accuracy: 0.1420 - val_auc_149: 0.4940 - val_precision_149: 0.1316 - val_recall_149: 0.1183 - val_f1_score: 0.1686 - 384ms/epoch - 35ms/step\n"
     ]
    },
    {
     "data": {
      "image/png": "[encoded data removed]",
      "text/plain": [
       "<Figure size 432x288 with 1 Axes>"
      ]
     },
     "metadata": {
      "needs_background": "light"
     },
     "output_type": "display_data"
    }
   ],
   "source": [
    "for b in batch_sizes:\n",
    "    for act in activation:\n",
    "        for n in neurons:\n",
    "            for s in kernel_size:\n",
    "                for init in kernel_initializer:\n",
    "                    for d in dropout:\n",
    "                        print('Batch size', b, 'Activation', act, 'Neurons', n, 'Kernel size', s, 'Kernel initializer', init, 'Dropout', d)\n",
    "                        for train_index, val_index in kf.split(face_X):\n",
    "                            X_train, X_val = face_X[train_index], face_X[val_index]\n",
    "                            y_train, y_val = face_y[train_index], face_y[val_index]\n",
    "                            face_RCNN = build_RCNN(face_features, n_length, face_outputs, neurons=n, kernel_size=s, activation=act, kernel_initializer=init, dropout=d)\n",
    "                            history = train(face_RCNN, X_train, y_train, X_val, y_val, epochs=epochs, batch_size=b, class_weight=class_weight)\n",
    "                            if (history['val_accuracy'] > face_best_rcnn_acc) and (history['val_roc_auc'] > face_best_rcnn_auc):\n",
    "                                face_best_rcnn_acc = history['val_accuracy']\n",
    "                                face_best_rcnn_auc = history['val_roc_auc']\n",
    "                                face_rcnn_loss = history['loss']\n",
    "                                face_best_rcnn_model = face_RCNN\n",
    "                                face_rcnn_values = { 'batch_size': b, 'activation': act, 'neurons': n, 'kernel_size': s, 'kernel_initializer': init, 'dropout': d }"
   ]
  },
  {
   "cell_type": "markdown",
   "metadata": {},
   "source": [
    "## 2. Early Fusion - Fusion is performed at feature level\n",
    "\n",
    "Early fusion concatenates features at the input level, then all the work is on the classifier. \n",
    "\n",
    "My initial assumption is that perhaps early fusion is not the best idea because the face modality is missing about half the times (OpenFace could not capture facial action units from the videos), which makes the dataset smaller. \n",
    "I did not replace the missing facial values because I thought null values will bring no benefit (I assume?) and adding for example zero would mean the absence of action units which I'm afraid might actually \"trick\" the model in the case where a person has pain and the facial modality was not available because of technical issues, not because of an actual lack of pain."
   ]
  },
  {
   "cell_type": "markdown",
   "metadata": {},
   "source": [
    "### About the data"
   ]
  },
  {
   "cell_type": "code",
   "execution_count": 41,
   "metadata": {},
   "outputs": [
    {
     "name": "stdout",
     "output_type": "stream",
     "text": [
      "(509, 1, 350, 48) (509, 4)\n",
      "(88, 1, 350, 48) (88, 4)\n"
     ]
    }
   ],
   "source": [
    "early_X_train, early_X_test, early_y_train, early_y_test = load_earlyfusion_dataset('processed')\n",
    "early_X = early_X_train.copy()\n",
    "early_y = early_y_train.copy()\n",
    "\n",
    "print(early_X_train.shape, early_y_train.shape)\n",
    "print(early_X_test.shape, early_y_test.shape)\n",
    "\n",
    "n_length, early_features, early_outputs = early_X_train.shape[2], early_X_train.shape[-1], early_y_train.shape[1]"
   ]
  },
  {
   "cell_type": "code",
   "execution_count": 43,
   "metadata": {},
   "outputs": [],
   "source": [
    "umild, lmoderate, lmild, umoderate = np.sum(early_y, axis=0)\n",
    "total = umild + lmoderate + lmild + umoderate\n",
    "\n",
    "weight_for_0 = (1 / umild) * (total / 2.0)\n",
    "weight_for_1 = (1 / lmoderate) * (total / 2.0)\n",
    "weight_for_2 = (1 / lmild) * (total / 2.0)\n",
    "weight_for_3 = (1 / umoderate) * (total / 2.0)\n",
    "\n",
    "class_weight = {0: weight_for_0, 1: weight_for_1, 2: weight_for_2, 3: weight_for_3}"
   ]
  },
  {
   "cell_type": "markdown",
   "metadata": {},
   "source": [
    "### Train BiLSTM (with early fusion)"
   ]
  },
  {
   "cell_type": "code",
   "execution_count": null,
   "metadata": {},
   "outputs": [],
   "source": [
    "early_best_biconv_acc = 0.0\n",
    "early_best_biconv_auc = 0.0\n",
    "early_biconv_loss = float(\"inf\")\n",
    "early_best_biconv_model = None\n",
    "early_biconv_values = { 'batch_size': 0, 'activation': '', 'neurons': 0, 'kernel_size': 0, 'kernel_initializer': '', 'dropout': float(\"inf\") }"
   ]
  },
  {
   "cell_type": "code",
   "execution_count": 44,
   "metadata": {},
   "outputs": [
    {
     "name": "stdout",
     "output_type": "stream",
     "text": [
      "Epoch 1/15\n",
      "11/11 - 73s - loss: 129.5472 - accuracy: 0.3481 - auc_150: 0.5787 - precision_150: 0.3537 - recall_150: 0.3422 - f1_score: 0.2187 - val_loss: 1.5229 - val_accuracy: 0.2824 - val_auc_150: 0.4806 - val_precision_150: 0.6842 - val_recall_150: 0.0765 - val_f1_score: 0.2049 - 73s/epoch - 7s/step\n",
      "Epoch 2/15\n",
      "11/11 - 3s - loss: 3.7625 - accuracy: 0.2419 - auc_150: 0.4902 - precision_150: 0.2531 - recall_150: 0.1209 - f1_score: 0.1595 - val_loss: 1.3111 - val_accuracy: 0.4353 - val_auc_150: 0.6845 - val_precision_150: 0.5000 - val_recall_150: 0.0059 - val_f1_score: 0.2340 - 3s/epoch - 253ms/step\n",
      "Epoch 3/15\n",
      "11/11 - 3s - loss: 3.3652 - accuracy: 0.2330 - auc_150: 0.5892 - precision_150: 0.5238 - recall_150: 0.0324 - f1_score: 0.1412 - val_loss: 1.3885 - val_accuracy: 0.0000e+00 - val_auc_150: 0.3333 - val_precision_150: 0.0000e+00 - val_recall_150: 0.0000e+00 - val_f1_score: 0.0000e+00 - 3s/epoch - 252ms/step\n",
      "Epoch 4/15\n",
      "11/11 - 3s - loss: 3.0849 - accuracy: 0.0059 - auc_150: 0.3373 - precision_150: 0.0000e+00 - recall_150: 0.0000e+00 - f1_score: 0.0029 - val_loss: 1.3893 - val_accuracy: 0.0000e+00 - val_auc_150: 0.3333 - val_precision_150: 0.0000e+00 - val_recall_150: 0.0000e+00 - val_f1_score: 0.0000e+00 - 3s/epoch - 259ms/step\n",
      "Epoch 5/15\n",
      "11/11 - 3s - loss: 3.0844 - accuracy: 0.0059 - auc_150: 0.3373 - precision_150: 0.0000e+00 - recall_150: 0.0000e+00 - f1_score: 0.0029 - val_loss: 1.3899 - val_accuracy: 0.0000e+00 - val_auc_150: 0.3333 - val_precision_150: 0.0000e+00 - val_recall_150: 0.0000e+00 - val_f1_score: 0.0000e+00 - 3s/epoch - 258ms/step\n",
      "Epoch 6/15\n",
      "11/11 - 3s - loss: 3.0838 - accuracy: 0.0059 - auc_150: 0.3373 - precision_150: 0.0000e+00 - recall_150: 0.0000e+00 - f1_score: 0.0029 - val_loss: 1.3903 - val_accuracy: 0.0000e+00 - val_auc_150: 0.3333 - val_precision_150: 0.0000e+00 - val_recall_150: 0.0000e+00 - val_f1_score: 0.0000e+00 - 3s/epoch - 252ms/step\n",
      "Epoch 7/15\n",
      "11/11 - 3s - loss: 3.0835 - accuracy: 0.0059 - auc_150: 0.3373 - precision_150: 0.0000e+00 - recall_150: 0.0000e+00 - f1_score: 0.0029 - val_loss: 1.3918 - val_accuracy: 0.0000e+00 - val_auc_150: 0.3343 - val_precision_150: 0.0000e+00 - val_recall_150: 0.0000e+00 - val_f1_score: 0.0000e+00 - 3s/epoch - 251ms/step\n",
      "Epoch 8/15\n",
      "11/11 - 3s - loss: 3.0826 - accuracy: 0.0059 - auc_150: 0.3373 - precision_150: 0.0000e+00 - recall_150: 0.0000e+00 - f1_score: 0.0029 - val_loss: 1.3928 - val_accuracy: 0.0000e+00 - val_auc_150: 0.3333 - val_precision_150: 0.0000e+00 - val_recall_150: 0.0000e+00 - val_f1_score: 0.0000e+00 - 3s/epoch - 260ms/step\n",
      "Epoch 9/15\n",
      "11/11 - 3s - loss: 3.0821 - accuracy: 0.0059 - auc_150: 0.3373 - precision_150: 0.0000e+00 - recall_150: 0.0000e+00 - f1_score: 0.0029 - val_loss: 1.3933 - val_accuracy: 0.0000e+00 - val_auc_150: 0.3333 - val_precision_150: 0.0000e+00 - val_recall_150: 0.0000e+00 - val_f1_score: 0.0000e+00 - 3s/epoch - 259ms/step\n",
      "Epoch 10/15\n",
      "11/11 - 3s - loss: 3.0818 - accuracy: 0.0059 - auc_150: 0.3373 - precision_150: 0.0000e+00 - recall_150: 0.0000e+00 - f1_score: 0.0029 - val_loss: 1.3943 - val_accuracy: 0.0000e+00 - val_auc_150: 0.3333 - val_precision_150: 0.0000e+00 - val_recall_150: 0.0000e+00 - val_f1_score: 0.0000e+00 - 3s/epoch - 251ms/step\n",
      "Epoch 11/15\n",
      "11/11 - 3s - loss: 3.0809 - accuracy: 0.0059 - auc_150: 0.3373 - precision_150: 0.0000e+00 - recall_150: 0.0000e+00 - f1_score: 0.0029 - val_loss: 1.3947 - val_accuracy: 0.0000e+00 - val_auc_150: 0.3333 - val_precision_150: 0.0000e+00 - val_recall_150: 0.0000e+00 - val_f1_score: 0.0000e+00 - 3s/epoch - 256ms/step\n",
      "Epoch 12/15\n",
      "11/11 - 3s - loss: 3.0803 - accuracy: 0.0059 - auc_150: 0.3373 - precision_150: 0.0000e+00 - recall_150: 0.0000e+00 - f1_score: 0.0029 - val_loss: 1.3951 - val_accuracy: 0.0000e+00 - val_auc_150: 0.3333 - val_precision_150: 0.0000e+00 - val_recall_150: 0.0000e+00 - val_f1_score: 0.0000e+00 - 3s/epoch - 247ms/step\n"
     ]
    },
    {
     "data": {
      "image/png": "[encoded data removed]",
      "text/plain": [
       "<Figure size 432x288 with 1 Axes>"
      ]
     },
     "metadata": {
      "needs_background": "light"
     },
     "output_type": "display_data"
    },
    {
     "name": "stdout",
     "output_type": "stream",
     "text": [
      "Epoch 1/15\n",
      "11/11 - 70s - loss: 42.9827 - accuracy: 0.2979 - auc_151: 0.5810 - precision_151: 0.2947 - recall_151: 0.2773 - f1_score: 0.2136 - val_loss: 1.3943 - val_accuracy: 0.5471 - val_auc_151: 0.7801 - val_precision_151: 0.4839 - val_recall_151: 0.0882 - val_f1_score: 0.1843 - 70s/epoch - 6s/step\n",
      "Epoch 2/15\n",
      "11/11 - 3s - loss: 5.6830 - accuracy: 0.4366 - auc_151: 0.5992 - precision_151: 0.8667 - recall_151: 0.0383 - f1_score: 0.2348 - val_loss: 1.3865 - val_accuracy: 0.3353 - val_auc_151: 0.5020 - val_precision_151: 0.0000e+00 - val_recall_151: 0.0000e+00 - val_f1_score: 0.1256 - 3s/epoch - 266ms/step\n",
      "Epoch 3/15\n",
      "11/11 - 3s - loss: 2.5857 - accuracy: 0.3982 - auc_151: 0.5297 - precision_151: 0.5652 - recall_151: 0.0383 - f1_score: 0.1596 - val_loss: 1.3610 - val_accuracy: 0.4235 - val_auc_151: 0.6689 - val_precision_151: 0.6842 - val_recall_151: 0.0765 - val_f1_score: 0.2218 - 3s/epoch - 266ms/step\n",
      "Epoch 4/15\n",
      "11/11 - 3s - loss: 2.6642 - accuracy: 0.4336 - auc_151: 0.5721 - precision_151: 0.6316 - recall_151: 0.0354 - f1_score: 0.2091 - val_loss: 1.3749 - val_accuracy: 0.3529 - val_auc_151: 0.5211 - val_precision_151: 0.0000e+00 - val_recall_151: 0.0000e+00 - val_f1_score: 0.1496 - 3s/epoch - 262ms/step\n",
      "Epoch 5/15\n",
      "11/11 - 3s - loss: 14.9352 - accuracy: 0.4602 - auc_151: 0.7309 - precision_151: 0.4595 - recall_151: 0.0501 - f1_score: 0.2319 - val_loss: 1.3890 - val_accuracy: 0.3412 - val_auc_151: 0.5000 - val_precision_151: 0.0000e+00 - val_recall_151: 0.0000e+00 - val_f1_score: 0.1272 - 3s/epoch - 265ms/step\n",
      "Epoch 6/15\n",
      "11/11 - 3s - loss: 2.6108 - accuracy: 0.3923 - auc_151: 0.5241 - precision_151: 0.0000e+00 - recall_151: 0.0000e+00 - f1_score: 0.1409 - val_loss: 1.3892 - val_accuracy: 0.3412 - val_auc_151: 0.5608 - val_precision_151: 0.0000e+00 - val_recall_151: 0.0000e+00 - val_f1_score: 0.1272 - 3s/epoch - 271ms/step\n",
      "Epoch 7/15\n",
      "11/11 - 3s - loss: 2.6107 - accuracy: 0.3923 - auc_151: 0.5949 - precision_151: 0.0000e+00 - recall_151: 0.0000e+00 - f1_score: 0.1409 - val_loss: 1.3889 - val_accuracy: 0.3412 - val_auc_151: 0.5608 - val_precision_151: 0.0000e+00 - val_recall_151: 0.0000e+00 - val_f1_score: 0.1272 - 3s/epoch - 270ms/step\n",
      "Epoch 8/15\n",
      "11/11 - 3s - loss: 2.6105 - accuracy: 0.3923 - auc_151: 0.5949 - precision_151: 0.0000e+00 - recall_151: 0.0000e+00 - f1_score: 0.1409 - val_loss: 1.3886 - val_accuracy: 0.3412 - val_auc_151: 0.5608 - val_precision_151: 0.0000e+00 - val_recall_151: 0.0000e+00 - val_f1_score: 0.1272 - 3s/epoch - 269ms/step\n",
      "Epoch 9/15\n",
      "11/11 - 3s - loss: 2.6105 - accuracy: 0.3923 - auc_151: 0.5403 - precision_151: 0.0000e+00 - recall_151: 0.0000e+00 - f1_score: 0.1409 - val_loss: 1.3891 - val_accuracy: 0.3412 - val_auc_151: 0.4569 - val_precision_151: 0.0000e+00 - val_recall_151: 0.0000e+00 - val_f1_score: 0.1272 - 3s/epoch - 271ms/step\n",
      "Epoch 10/15\n",
      "11/11 - 3s - loss: 2.6105 - accuracy: 0.3923 - auc_151: 0.4912 - precision_151: 0.0000e+00 - recall_151: 0.0000e+00 - f1_score: 0.1409 - val_loss: 1.3882 - val_accuracy: 0.3412 - val_auc_151: 0.4569 - val_precision_151: 0.0000e+00 - val_recall_151: 0.0000e+00 - val_f1_score: 0.1272 - 3s/epoch - 273ms/step\n",
      "Epoch 11/15\n",
      "11/11 - 3s - loss: 2.6098 - accuracy: 0.3923 - auc_151: 0.4912 - precision_151: 0.0000e+00 - recall_151: 0.0000e+00 - f1_score: 0.1409 - val_loss: 1.3879 - val_accuracy: 0.3412 - val_auc_151: 0.4569 - val_precision_151: 0.0000e+00 - val_recall_151: 0.0000e+00 - val_f1_score: 0.1272 - 3s/epoch - 262ms/step\n",
      "Epoch 12/15\n",
      "11/11 - 3s - loss: 2.6100 - accuracy: 0.3923 - auc_151: 0.4912 - precision_151: 0.0000e+00 - recall_151: 0.0000e+00 - f1_score: 0.1409 - val_loss: 1.3872 - val_accuracy: 0.3412 - val_auc_151: 0.4569 - val_precision_151: 0.0000e+00 - val_recall_151: 0.0000e+00 - val_f1_score: 0.1272 - 3s/epoch - 267ms/step\n",
      "Epoch 13/15\n",
      "11/11 - 3s - loss: 2.6094 - accuracy: 0.3923 - auc_151: 0.4912 - precision_151: 0.0000e+00 - recall_151: 0.0000e+00 - f1_score: 0.1409 - val_loss: 1.3869 - val_accuracy: 0.3412 - val_auc_151: 0.4569 - val_precision_151: 0.0000e+00 - val_recall_151: 0.0000e+00 - val_f1_score: 0.1272 - 3s/epoch - 259ms/step\n"
     ]
    },
    {
     "data": {
      "image/png": "[encoded data removed]",
      "text/plain": [
       "<Figure size 432x288 with 1 Axes>"
      ]
     },
     "metadata": {
      "needs_background": "light"
     },
     "output_type": "display_data"
    },
    {
     "name": "stdout",
     "output_type": "stream",
     "text": [
      "Epoch 1/15\n",
      "11/11 - 70s - loss: 27.0336 - accuracy: 0.2824 - auc_152: 0.5452 - precision_152: 0.2802 - recall_152: 0.2118 - f1_score: 0.1911 - val_loss: 1.4979 - val_accuracy: 0.1598 - val_auc_152: 0.4516 - val_precision_152: 1.0000 - val_recall_152: 0.0059 - val_f1_score: 0.0999 - 70s/epoch - 6s/step\n",
      "Epoch 2/15\n",
      "11/11 - 3s - loss: 3.0681 - accuracy: 0.1353 - auc_152: 0.3979 - precision_152: 0.0333 - recall_152: 0.0029 - f1_score: 0.0938 - val_loss: 1.1209 - val_accuracy: 0.4201 - val_auc_152: 0.7297 - val_precision_152: 0.5000 - val_recall_152: 0.0533 - val_f1_score: 0.2126 - 3s/epoch - 264ms/step\n",
      "Epoch 3/15\n",
      "11/11 - 3s - loss: 6.0360 - accuracy: 0.4265 - auc_152: 0.7392 - precision_152: 0.5120 - recall_152: 0.2500 - f1_score: 0.2745 - val_loss: 1.3734 - val_accuracy: 0.4320 - val_auc_152: 0.6618 - val_precision_152: 0.7333 - val_recall_152: 0.0651 - val_f1_score: 0.2545 - 3s/epoch - 263ms/step\n",
      "Epoch 4/15\n",
      "11/11 - 3s - loss: 3.2266 - accuracy: 0.2735 - auc_152: 0.3992 - precision_152: 0.0824 - recall_152: 0.0206 - f1_score: 0.1699 - val_loss: 1.3874 - val_accuracy: 0.3550 - val_auc_152: 0.5000 - val_precision_152: 0.0000e+00 - val_recall_152: 0.0000e+00 - val_f1_score: 0.1310 - 3s/epoch - 261ms/step\n",
      "Epoch 5/15\n",
      "11/11 - 3s - loss: 2.6221 - accuracy: 0.3853 - auc_152: 0.5000 - precision_152: 0.0000e+00 - recall_152: 0.0000e+00 - f1_score: 0.1391 - val_loss: 1.3866 - val_accuracy: 0.3550 - val_auc_152: 0.5000 - val_precision_152: 0.0000e+00 - val_recall_152: 0.0000e+00 - val_f1_score: 0.1310 - 3s/epoch - 269ms/step\n",
      "Epoch 6/15\n",
      "11/11 - 3s - loss: 2.6219 - accuracy: 0.3853 - auc_152: 0.5650 - precision_152: 0.0000e+00 - recall_152: 0.0000e+00 - f1_score: 0.1391 - val_loss: 1.3861 - val_accuracy: 0.3550 - val_auc_152: 0.5700 - val_precision_152: 0.0000e+00 - val_recall_152: 0.0000e+00 - val_f1_score: 0.1310 - 3s/epoch - 262ms/step\n",
      "Epoch 7/15\n",
      "11/11 - 3s - loss: 2.6215 - accuracy: 0.3853 - auc_152: 0.5902 - precision_152: 0.0000e+00 - recall_152: 0.0000e+00 - f1_score: 0.1391 - val_loss: 1.3860 - val_accuracy: 0.3550 - val_auc_152: 0.5700 - val_precision_152: 0.0000e+00 - val_recall_152: 0.0000e+00 - val_f1_score: 0.1310 - 3s/epoch - 269ms/step\n",
      "Epoch 8/15\n",
      "11/11 - 3s - loss: 2.6219 - accuracy: 0.3853 - auc_152: 0.5902 - precision_152: 0.0000e+00 - recall_152: 0.0000e+00 - f1_score: 0.1391 - val_loss: 1.3851 - val_accuracy: 0.3550 - val_auc_152: 0.5700 - val_precision_152: 0.0000e+00 - val_recall_152: 0.0000e+00 - val_f1_score: 0.1310 - 3s/epoch - 268ms/step\n",
      "Epoch 9/15\n",
      "11/11 - 3s - loss: 2.6212 - accuracy: 0.3853 - auc_152: 0.5902 - precision_152: 0.0000e+00 - recall_152: 0.0000e+00 - f1_score: 0.1391 - val_loss: 1.3855 - val_accuracy: 0.3550 - val_auc_152: 0.5700 - val_precision_152: 0.0000e+00 - val_recall_152: 0.0000e+00 - val_f1_score: 0.1310 - 3s/epoch - 260ms/step\n",
      "Epoch 10/15\n",
      "11/11 - 3s - loss: 2.6212 - accuracy: 0.3853 - auc_152: 0.5902 - precision_152: 0.0000e+00 - recall_152: 0.0000e+00 - f1_score: 0.1391 - val_loss: 1.3856 - val_accuracy: 0.3550 - val_auc_152: 0.5700 - val_precision_152: 0.0000e+00 - val_recall_152: 0.0000e+00 - val_f1_score: 0.1310 - 3s/epoch - 270ms/step\n",
      "Epoch 11/15\n",
      "11/11 - 3s - loss: 2.6210 - accuracy: 0.3853 - auc_152: 0.5902 - precision_152: 0.0000e+00 - recall_152: 0.0000e+00 - f1_score: 0.1391 - val_loss: 1.3853 - val_accuracy: 0.3550 - val_auc_152: 0.5700 - val_precision_152: 0.0000e+00 - val_recall_152: 0.0000e+00 - val_f1_score: 0.1310 - 3s/epoch - 279ms/step\n",
      "Epoch 12/15\n",
      "11/11 - 3s - loss: 2.6209 - accuracy: 0.3853 - auc_152: 0.5902 - precision_152: 0.0000e+00 - recall_152: 0.0000e+00 - f1_score: 0.1391 - val_loss: 1.3849 - val_accuracy: 0.3550 - val_auc_152: 0.5700 - val_precision_152: 0.0000e+00 - val_recall_152: 0.0000e+00 - val_f1_score: 0.1310 - 3s/epoch - 270ms/step\n"
     ]
    },
    {
     "data": {
      "image/png": "[encoded data removed]",
      "text/plain": [
       "<Figure size 432x288 with 1 Axes>"
      ]
     },
     "metadata": {
      "needs_background": "light"
     },
     "output_type": "display_data"
    }
   ],
   "source": [
    "for b in batch_sizes:\n",
    "    for act in activation:\n",
    "        for n in neurons:\n",
    "            for s in kernel_size:\n",
    "                for init in kernel_initializer:\n",
    "                    for d in dropout:\n",
    "                        print('Batch size', b, 'Activation', act, 'Neurons', n, 'Kernel size', s, 'Kernel initializer', init, 'Dropout', d)\n",
    "                        for train_index, val_index in kf.split(early_X):\n",
    "                            X_train, X_val = early_X[train_index], early_X[val_index]\n",
    "                            y_train, y_val = early_y[train_index], early_y[val_index]\n",
    "                            early_biLSTM = build_biLSTM(early_features, n_length, early_outputs, neurons=n, kernel_size=s, activation=act, kernel_initializer=init, dropout=d)\n",
    "                            history = train(early_biLSTM, X_train, y_train, X_val, y_val, epochs=epochs, batch_size=b, class_weight=class_weight)\n",
    "                            if (history['val_accuracy'] > early_best_biconv_acc) and (history['val_roc_auc'] > early_best_biconv_auc):\n",
    "                                early_best_biconv_acc = history['val_accuracy']\n",
    "                                early_best_biconv_auc = history['val_roc_auc']\n",
    "                                early_biconv_loss = history['loss']\n",
    "                                early_best_biconv_model = early_biLSTM\n",
    "                                early_biconv_values = { 'batch_size': b, 'activation': act, 'neurons': n, 'kernel_size': s, 'kernel_initializer': init, 'dropout': float(\"inf\") }"
   ]
  },
  {
   "cell_type": "markdown",
   "metadata": {},
   "source": [
    "### Train CNN+LSTM (with early fusion)"
   ]
  },
  {
   "cell_type": "code",
   "execution_count": null,
   "metadata": {},
   "outputs": [],
   "source": [
    "early_best_cnn_acc = 0.0\n",
    "early_best_cnn_auc = 0.0\n",
    "early_cnn_loss = float(\"inf\")\n",
    "early_best_cnn_model = None\n",
    "early_cnn_values = { 'batch_size': 0, 'activation': '', 'neurons': 0, 'kernel_size': 0, 'kernel_initializer': '', 'dropout': float(\"inf\") }"
   ]
  },
  {
   "cell_type": "code",
   "execution_count": 45,
   "metadata": {},
   "outputs": [
    {
     "name": "stdout",
     "output_type": "stream",
     "text": [
      "Epoch 1/15\n",
      "11/11 - 31s - loss: 3.1229 - accuracy: 0.5133 - auc_153: 0.6500 - precision_153: 0.0000e+00 - recall_153: 0.0000e+00 - f1_score: 0.1816 - val_loss: 1.3740 - val_accuracy: 0.4706 - val_auc_153: 0.6137 - val_precision_153: 0.0000e+00 - val_recall_153: 0.0000e+00 - val_f1_score: 0.1600 - 31s/epoch - 3s/step\n",
      "Epoch 2/15\n",
      "11/11 - 0s - loss: 3.0950 - accuracy: 0.2035 - auc_153: 0.5228 - precision_153: 0.0000e+00 - recall_153: 0.0000e+00 - f1_score: 0.1092 - val_loss: 1.4102 - val_accuracy: 0.0000e+00 - val_auc_153: 0.4020 - val_precision_153: 0.0000e+00 - val_recall_153: 0.0000e+00 - val_f1_score: 0.0000e+00 - 422ms/epoch - 38ms/step\n",
      "Epoch 3/15\n",
      "11/11 - 0s - loss: 3.0684 - accuracy: 0.0059 - auc_153: 0.4503 - precision_153: 0.0000e+00 - recall_153: 0.0000e+00 - f1_score: 0.0029 - val_loss: 1.4230 - val_accuracy: 0.0000e+00 - val_auc_153: 0.4020 - val_precision_153: 0.0000e+00 - val_recall_153: 0.0000e+00 - val_f1_score: 0.0000e+00 - 418ms/epoch - 38ms/step\n",
      "Epoch 4/15\n",
      "11/11 - 0s - loss: 3.0734 - accuracy: 0.0059 - auc_153: 0.4118 - precision_153: 0.0000e+00 - recall_153: 0.0000e+00 - f1_score: 0.0029 - val_loss: 1.4497 - val_accuracy: 0.0000e+00 - val_auc_153: 0.3471 - val_precision_153: 0.0000e+00 - val_recall_153: 0.0000e+00 - val_f1_score: 0.0000e+00 - 443ms/epoch - 40ms/step\n",
      "Epoch 5/15\n",
      "11/11 - 0s - loss: 3.0646 - accuracy: 0.0059 - auc_153: 0.3943 - precision_153: 0.0000e+00 - recall_153: 0.0000e+00 - f1_score: 0.0029 - val_loss: 1.4346 - val_accuracy: 0.0000e+00 - val_auc_153: 0.3471 - val_precision_153: 0.0000e+00 - val_recall_153: 0.0000e+00 - val_f1_score: 0.0000e+00 - 413ms/epoch - 38ms/step\n",
      "Epoch 6/15\n",
      "11/11 - 0s - loss: 3.0621 - accuracy: 0.0059 - auc_153: 0.4279 - precision_153: 0.0000e+00 - recall_153: 0.0000e+00 - f1_score: 0.0029 - val_loss: 1.4649 - val_accuracy: 0.0000e+00 - val_auc_153: 0.4020 - val_precision_153: 0.0000e+00 - val_recall_153: 0.0000e+00 - val_f1_score: 0.0000e+00 - 407ms/epoch - 37ms/step\n",
      "Epoch 7/15\n",
      "11/11 - 0s - loss: 3.0508 - accuracy: 0.0059 - auc_153: 0.4052 - precision_153: 0.0000e+00 - recall_153: 0.0000e+00 - f1_score: 0.0029 - val_loss: 1.4816 - val_accuracy: 0.0000e+00 - val_auc_153: 0.3471 - val_precision_153: 0.0000e+00 - val_recall_153: 0.0000e+00 - val_f1_score: 0.0000e+00 - 418ms/epoch - 38ms/step\n",
      "Epoch 8/15\n",
      "11/11 - 0s - loss: 3.0623 - accuracy: 0.0059 - auc_153: 0.3996 - precision_153: 0.0000e+00 - recall_153: 0.0000e+00 - f1_score: 0.0029 - val_loss: 1.4850 - val_accuracy: 0.0000e+00 - val_auc_153: 0.3471 - val_precision_153: 0.0000e+00 - val_recall_153: 0.0000e+00 - val_f1_score: 0.0000e+00 - 454ms/epoch - 41ms/step\n",
      "Epoch 9/15\n",
      "11/11 - 0s - loss: 3.0535 - accuracy: 0.0059 - auc_153: 0.4026 - precision_153: 0.0000e+00 - recall_153: 0.0000e+00 - f1_score: 0.0029 - val_loss: 1.4880 - val_accuracy: 0.0000e+00 - val_auc_153: 0.3471 - val_precision_153: 0.0000e+00 - val_recall_153: 0.0000e+00 - val_f1_score: 0.0000e+00 - 451ms/epoch - 41ms/step\n",
      "Epoch 10/15\n",
      "11/11 - 0s - loss: 3.0647 - accuracy: 0.0059 - auc_153: 0.4035 - precision_153: 0.0000e+00 - recall_153: 0.0000e+00 - f1_score: 0.0029 - val_loss: 1.4763 - val_accuracy: 0.0000e+00 - val_auc_153: 0.3471 - val_precision_153: 0.0000e+00 - val_recall_153: 0.0000e+00 - val_f1_score: 0.0000e+00 - 417ms/epoch - 38ms/step\n",
      "Epoch 11/15\n",
      "11/11 - 0s - loss: 3.0569 - accuracy: 0.0059 - auc_153: 0.4022 - precision_153: 0.0000e+00 - recall_153: 0.0000e+00 - f1_score: 0.0029 - val_loss: 1.4684 - val_accuracy: 0.0000e+00 - val_auc_153: 0.3471 - val_precision_153: 0.0000e+00 - val_recall_153: 0.0000e+00 - val_f1_score: 0.0000e+00 - 425ms/epoch - 39ms/step\n"
     ]
    },
    {
     "data": {
      "image/png": "[encoded data removed]",
      "text/plain": [
       "<Figure size 432x288 with 1 Axes>"
      ]
     },
     "metadata": {
      "needs_background": "light"
     },
     "output_type": "display_data"
    },
    {
     "name": "stdout",
     "output_type": "stream",
     "text": [
      "Epoch 1/15\n",
      "11/11 - 20s - loss: 2.6485 - accuracy: 0.2714 - auc_154: 0.6677 - precision_154: 0.0000e+00 - recall_154: 0.0000e+00 - f1_score: 0.1375 - val_loss: 1.3184 - val_accuracy: 0.3412 - val_auc_154: 0.7451 - val_precision_154: 0.0000e+00 - val_recall_154: 0.0000e+00 - val_f1_score: 0.1272 - 20s/epoch - 2s/step\n",
      "Epoch 2/15\n",
      "11/11 - 0s - loss: 2.6188 - accuracy: 0.3923 - auc_154: 0.6762 - precision_154: 0.0000e+00 - recall_154: 0.0000e+00 - f1_score: 0.1409 - val_loss: 1.3276 - val_accuracy: 0.3412 - val_auc_154: 0.5905 - val_precision_154: 0.0000e+00 - val_recall_154: 0.0000e+00 - val_f1_score: 0.1272 - 477ms/epoch - 43ms/step\n",
      "Epoch 3/15\n",
      "11/11 - 0s - loss: 2.6127 - accuracy: 0.3923 - auc_154: 0.6687 - precision_154: 0.0000e+00 - recall_154: 0.0000e+00 - f1_score: 0.1409 - val_loss: 1.3077 - val_accuracy: 0.3412 - val_auc_154: 0.7454 - val_precision_154: 0.0000e+00 - val_recall_154: 0.0000e+00 - val_f1_score: 0.1272 - 472ms/epoch - 43ms/step\n",
      "Epoch 4/15\n",
      "11/11 - 0s - loss: 2.5917 - accuracy: 0.3923 - auc_154: 0.7303 - precision_154: 0.0000e+00 - recall_154: 0.0000e+00 - f1_score: 0.1409 - val_loss: 1.3328 - val_accuracy: 0.3412 - val_auc_154: 0.6676 - val_precision_154: 0.0000e+00 - val_recall_154: 0.0000e+00 - val_f1_score: 0.1272 - 457ms/epoch - 42ms/step\n",
      "Epoch 5/15\n",
      "11/11 - 0s - loss: 2.6019 - accuracy: 0.3923 - auc_154: 0.7158 - precision_154: 0.0000e+00 - recall_154: 0.0000e+00 - f1_score: 0.1409 - val_loss: 1.3360 - val_accuracy: 0.3412 - val_auc_154: 0.6676 - val_precision_154: 0.0000e+00 - val_recall_154: 0.0000e+00 - val_f1_score: 0.1272 - 482ms/epoch - 44ms/step\n",
      "Epoch 6/15\n",
      "11/11 - 0s - loss: 2.6052 - accuracy: 0.3923 - auc_154: 0.6204 - precision_154: 0.0000e+00 - recall_154: 0.0000e+00 - f1_score: 0.1409 - val_loss: 1.3571 - val_accuracy: 0.3412 - val_auc_154: 0.5902 - val_precision_154: 0.0000e+00 - val_recall_154: 0.0000e+00 - val_f1_score: 0.1272 - 473ms/epoch - 43ms/step\n",
      "Epoch 7/15\n",
      "11/11 - 0s - loss: 2.6040 - accuracy: 0.3923 - auc_154: 0.6225 - precision_154: 0.0000e+00 - recall_154: 0.0000e+00 - f1_score: 0.1409 - val_loss: 1.3473 - val_accuracy: 0.3412 - val_auc_154: 0.5902 - val_precision_154: 0.0000e+00 - val_recall_154: 0.0000e+00 - val_f1_score: 0.1272 - 455ms/epoch - 41ms/step\n",
      "Epoch 8/15\n",
      "11/11 - 0s - loss: 2.6159 - accuracy: 0.3923 - auc_154: 0.6321 - precision_154: 0.0000e+00 - recall_154: 0.0000e+00 - f1_score: 0.1409 - val_loss: 1.3310 - val_accuracy: 0.3412 - val_auc_154: 0.5902 - val_precision_154: 0.0000e+00 - val_recall_154: 0.0000e+00 - val_f1_score: 0.1272 - 483ms/epoch - 44ms/step\n",
      "Epoch 9/15\n",
      "11/11 - 0s - loss: 2.6048 - accuracy: 0.3923 - auc_154: 0.6122 - precision_154: 0.0000e+00 - recall_154: 0.0000e+00 - f1_score: 0.1409 - val_loss: 1.3341 - val_accuracy: 0.3412 - val_auc_154: 0.5905 - val_precision_154: 0.0000e+00 - val_recall_154: 0.0000e+00 - val_f1_score: 0.1272 - 465ms/epoch - 42ms/step\n",
      "Epoch 10/15\n",
      "11/11 - 0s - loss: 2.6021 - accuracy: 0.3923 - auc_154: 0.6459 - precision_154: 0.0000e+00 - recall_154: 0.0000e+00 - f1_score: 0.1409 - val_loss: 1.3346 - val_accuracy: 0.3412 - val_auc_154: 0.6667 - val_precision_154: 0.0000e+00 - val_recall_154: 0.0000e+00 - val_f1_score: 0.1272 - 471ms/epoch - 43ms/step\n",
      "Epoch 11/15\n",
      "11/11 - 0s - loss: 2.6079 - accuracy: 0.3923 - auc_154: 0.6936 - precision_154: 0.0000e+00 - recall_154: 0.0000e+00 - f1_score: 0.1409 - val_loss: 1.3243 - val_accuracy: 0.3412 - val_auc_154: 0.6676 - val_precision_154: 0.0000e+00 - val_recall_154: 0.0000e+00 - val_f1_score: 0.1272 - 475ms/epoch - 43ms/step\n",
      "Epoch 12/15\n",
      "11/11 - 0s - loss: 2.6018 - accuracy: 0.3923 - auc_154: 0.6387 - precision_154: 0.0000e+00 - recall_154: 0.0000e+00 - f1_score: 0.1409 - val_loss: 1.3309 - val_accuracy: 0.3412 - val_auc_154: 0.5902 - val_precision_154: 0.0000e+00 - val_recall_154: 0.0000e+00 - val_f1_score: 0.1272 - 491ms/epoch - 45ms/step\n",
      "Epoch 13/15\n",
      "11/11 - 0s - loss: 2.6020 - accuracy: 0.3923 - auc_154: 0.6243 - precision_154: 0.0000e+00 - recall_154: 0.0000e+00 - f1_score: 0.1409 - val_loss: 1.3362 - val_accuracy: 0.3412 - val_auc_154: 0.5902 - val_precision_154: 0.0000e+00 - val_recall_154: 0.0000e+00 - val_f1_score: 0.1272 - 455ms/epoch - 41ms/step\n"
     ]
    },
    {
     "data": {
      "image/png": "[encoded data removed]",
      "text/plain": [
       "<Figure size 432x288 with 1 Axes>"
      ]
     },
     "metadata": {
      "needs_background": "light"
     },
     "output_type": "display_data"
    },
    {
     "name": "stdout",
     "output_type": "stream",
     "text": [
      "Epoch 1/15\n",
      "11/11 - 20s - loss: 2.6268 - accuracy: 0.1059 - auc_155: 0.5201 - precision_155: 0.0000e+00 - recall_155: 0.0000e+00 - f1_score: 0.0619 - val_loss: 1.3723 - val_accuracy: 0.0888 - val_auc_155: 0.5740 - val_precision_155: 0.0000e+00 - val_recall_155: 0.0000e+00 - val_f1_score: 0.0408 - 20s/epoch - 2s/step\n",
      "Epoch 2/15\n",
      "11/11 - 0s - loss: 2.6200 - accuracy: 0.0971 - auc_155: 0.5549 - precision_155: 0.0000e+00 - recall_155: 0.0000e+00 - f1_score: 0.0442 - val_loss: 1.3701 - val_accuracy: 0.0888 - val_auc_155: 0.5393 - val_precision_155: 0.0000e+00 - val_recall_155: 0.0000e+00 - val_f1_score: 0.0408 - 455ms/epoch - 41ms/step\n",
      "Epoch 3/15\n",
      "11/11 - 0s - loss: 2.6466 - accuracy: 0.0971 - auc_155: 0.5459 - precision_155: 0.0000e+00 - recall_155: 0.0000e+00 - f1_score: 0.0442 - val_loss: 1.3381 - val_accuracy: 0.0888 - val_auc_155: 0.5414 - val_precision_155: 0.0000e+00 - val_recall_155: 0.0000e+00 - val_f1_score: 0.0408 - 493ms/epoch - 45ms/step\n",
      "Epoch 4/15\n",
      "11/11 - 0s - loss: 2.6340 - accuracy: 0.0971 - auc_155: 0.5455 - precision_155: 0.0000e+00 - recall_155: 0.0000e+00 - f1_score: 0.0442 - val_loss: 1.3462 - val_accuracy: 0.0888 - val_auc_155: 0.5414 - val_precision_155: 0.0000e+00 - val_recall_155: 0.0000e+00 - val_f1_score: 0.0408 - 491ms/epoch - 45ms/step\n",
      "Epoch 5/15\n",
      "11/11 - 0s - loss: 2.6433 - accuracy: 0.0971 - auc_155: 0.5475 - precision_155: 0.0000e+00 - recall_155: 0.0000e+00 - f1_score: 0.0442 - val_loss: 1.3106 - val_accuracy: 0.0888 - val_auc_155: 0.5740 - val_precision_155: 0.0000e+00 - val_recall_155: 0.0000e+00 - val_f1_score: 0.0408 - 465ms/epoch - 42ms/step\n",
      "Epoch 6/15\n",
      "11/11 - 0s - loss: 2.6399 - accuracy: 0.0971 - auc_155: 0.5417 - precision_155: 0.0000e+00 - recall_155: 0.0000e+00 - f1_score: 0.0442 - val_loss: 1.3508 - val_accuracy: 0.0888 - val_auc_155: 0.5089 - val_precision_155: 0.0000e+00 - val_recall_155: 0.0000e+00 - val_f1_score: 0.0408 - 474ms/epoch - 43ms/step\n",
      "Epoch 7/15\n",
      "11/11 - 0s - loss: 2.6126 - accuracy: 0.0971 - auc_155: 0.5255 - precision_155: 0.0000e+00 - recall_155: 0.0000e+00 - f1_score: 0.0442 - val_loss: 1.3558 - val_accuracy: 0.0888 - val_auc_155: 0.5089 - val_precision_155: 0.0000e+00 - val_recall_155: 0.0000e+00 - val_f1_score: 0.0408 - 484ms/epoch - 44ms/step\n",
      "Epoch 8/15\n",
      "11/11 - 1s - loss: 2.6135 - accuracy: 0.0971 - auc_155: 0.5509 - precision_155: 0.0000e+00 - recall_155: 0.0000e+00 - f1_score: 0.0442 - val_loss: 1.3567 - val_accuracy: 0.0888 - val_auc_155: 0.5089 - val_precision_155: 0.0000e+00 - val_recall_155: 0.0000e+00 - val_f1_score: 0.0408 - 518ms/epoch - 47ms/step\n",
      "Epoch 9/15\n",
      "11/11 - 1s - loss: 2.6129 - accuracy: 0.0971 - auc_155: 0.5254 - precision_155: 0.0000e+00 - recall_155: 0.0000e+00 - f1_score: 0.0442 - val_loss: 1.3537 - val_accuracy: 0.0888 - val_auc_155: 0.5089 - val_precision_155: 0.0000e+00 - val_recall_155: 0.0000e+00 - val_f1_score: 0.0408 - 519ms/epoch - 47ms/step\n",
      "Epoch 10/15\n",
      "11/11 - 1s - loss: 2.6120 - accuracy: 0.0971 - auc_155: 0.5255 - precision_155: 0.0000e+00 - recall_155: 0.0000e+00 - f1_score: 0.0442 - val_loss: 1.3510 - val_accuracy: 0.0888 - val_auc_155: 0.5089 - val_precision_155: 0.0000e+00 - val_recall_155: 0.0000e+00 - val_f1_score: 0.0408 - 510ms/epoch - 46ms/step\n",
      "Epoch 11/15\n",
      "11/11 - 0s - loss: 2.6138 - accuracy: 0.0971 - auc_155: 0.5588 - precision_155: 0.0000e+00 - recall_155: 0.0000e+00 - f1_score: 0.0442 - val_loss: 1.3418 - val_accuracy: 0.0888 - val_auc_155: 0.5533 - val_precision_155: 0.0000e+00 - val_recall_155: 0.0000e+00 - val_f1_score: 0.0408 - 476ms/epoch - 43ms/step\n",
      "Epoch 12/15\n",
      "11/11 - 0s - loss: 2.6128 - accuracy: 0.0971 - auc_155: 0.5734 - precision_155: 0.0000e+00 - recall_155: 0.0000e+00 - f1_score: 0.0442 - val_loss: 1.3431 - val_accuracy: 0.0888 - val_auc_155: 0.5533 - val_precision_155: 0.0000e+00 - val_recall_155: 0.0000e+00 - val_f1_score: 0.0408 - 464ms/epoch - 42ms/step\n",
      "Epoch 13/15\n",
      "11/11 - 0s - loss: 2.6152 - accuracy: 0.0971 - auc_155: 0.5630 - precision_155: 0.0000e+00 - recall_155: 0.0000e+00 - f1_score: 0.0442 - val_loss: 1.3346 - val_accuracy: 0.0888 - val_auc_155: 0.5533 - val_precision_155: 0.0000e+00 - val_recall_155: 0.0000e+00 - val_f1_score: 0.0408 - 497ms/epoch - 45ms/step\n",
      "Epoch 14/15\n",
      "11/11 - 0s - loss: 2.6198 - accuracy: 0.2794 - auc_155: 0.5857 - precision_155: 0.0000e+00 - recall_155: 0.0000e+00 - f1_score: 0.1474 - val_loss: 1.3407 - val_accuracy: 0.0888 - val_auc_155: 0.5533 - val_precision_155: 0.0000e+00 - val_recall_155: 0.0000e+00 - val_f1_score: 0.0408 - 457ms/epoch - 42ms/step\n",
      "Epoch 15/15\n",
      "11/11 - 1s - loss: 2.6172 - accuracy: 0.0971 - auc_155: 0.5435 - precision_155: 0.0000e+00 - recall_155: 0.0000e+00 - f1_score: 0.0442 - val_loss: 1.3368 - val_accuracy: 0.0888 - val_auc_155: 0.5089 - val_precision_155: 0.0000e+00 - val_recall_155: 0.0000e+00 - val_f1_score: 0.0408 - 504ms/epoch - 46ms/step\n"
     ]
    },
    {
     "data": {
      "image/png": "[encoded data removed]",
      "text/plain": [
       "<Figure size 432x288 with 1 Axes>"
      ]
     },
     "metadata": {
      "needs_background": "light"
     },
     "output_type": "display_data"
    }
   ],
   "source": [
    "for b in batch_sizes:\n",
    "    for act in activation:\n",
    "        for n in neurons:\n",
    "            for s in kernel_size:\n",
    "                for init in kernel_initializer:\n",
    "                    for d in dropout:\n",
    "                        print('Batch size', b, 'Activation', act, 'Neurons', n, 'Kernel size', s, 'Kernel initializer', init, 'Dropout', d)\n",
    "                        for train_index, val_index in kf.split(early_X):\n",
    "                            X_train, X_val = early_X[train_index], early_X[val_index]\n",
    "                            y_train, y_val = early_y[train_index], early_y[val_index]\n",
    "                            early_CNN = build_CNN(early_features, n_length, early_outputs, neurons=n, kernel_size=s, activation=act, kernel_initializer=init, dropout=d)\n",
    "                            history = train(early_CNN, X_train, y_train, X_val, y_val, epochs=epochs, batch_size=b, class_weight=class_weight)\n",
    "                            if (history['val_accuracy'] > early_best_cnn_acc) and (history['val_roc_auc'] > early_best_cnn_auc):\n",
    "                                early_best_cnn_acc = history['val_accuracy']\n",
    "                                early_best_cnn_auc = history['val_roc_auc']\n",
    "                                early_cnn_loss = history['loss']\n",
    "                                early_best_cnn_model = early_CNN\n",
    "                                early_cnn_values = { 'batch_size': b, 'activation': act, 'neurons': n, 'kernel_size': s, 'kernel_initializer': init, 'dropout': float(\"inf\") }"
   ]
  },
  {
   "cell_type": "markdown",
   "metadata": {},
   "source": [
    "### Train ConvLSTM (with early fusion)"
   ]
  },
  {
   "cell_type": "code",
   "execution_count": null,
   "metadata": {},
   "outputs": [],
   "source": [
    "early_best_lstm_acc = 0.0\n",
    "early_best_lstm_auc = 0.0\n",
    "early_lstm_loss = float(\"inf\")\n",
    "early_best_lstm_model = None\n",
    "early_lstm_values = { 'batch_size': 0, 'activation': '', 'neurons': 0, 'kernel_size': 0, 'kernel_initializer': '', 'dropout': float(\"inf\") }"
   ]
  },
  {
   "cell_type": "code",
   "execution_count": 46,
   "metadata": {},
   "outputs": [
    {
     "name": "stdout",
     "output_type": "stream",
     "text": [
      "Epoch 1/15\n",
      "11/11 - 27s - loss: 23.7221 - accuracy: 0.3717 - auc_156: 0.5776 - precision_156: 0.3671 - recall_156: 0.3097 - f1_score: 0.2368 - val_loss: 1.3821 - val_accuracy: 0.2765 - val_auc_156: 0.5602 - val_precision_156: 0.4545 - val_recall_156: 0.0294 - val_f1_score: 0.1684 - 27s/epoch - 2s/step\n",
      "Epoch 2/15\n",
      "11/11 - 1s - loss: 3.0947 - accuracy: 0.0560 - auc_156: 0.4047 - precision_156: 0.0667 - recall_156: 0.0088 - f1_score: 0.0533 - val_loss: 1.3730 - val_accuracy: 0.0824 - val_auc_156: 0.4238 - val_precision_156: 0.5000 - val_recall_156: 0.0059 - val_f1_score: 0.0785 - 1s/epoch - 105ms/step\n",
      "Epoch 3/15\n",
      "11/11 - 1s - loss: 3.1383 - accuracy: 0.1062 - auc_156: 0.4769 - precision_156: 0.7391 - recall_156: 0.0501 - f1_score: 0.0843 - val_loss: 1.4105 - val_accuracy: 0.0059 - val_auc_156: 0.3526 - val_precision_156: 0.3333 - val_recall_156: 0.0059 - val_f1_score: 0.0066 - 1s/epoch - 107ms/step\n",
      "Epoch 4/15\n",
      "11/11 - 1s - loss: 3.0541 - accuracy: 0.0324 - auc_156: 0.3687 - precision_156: 1.0000 - recall_156: 0.0206 - f1_score: 0.0293 - val_loss: 1.4728 - val_accuracy: 0.0176 - val_auc_156: 0.3650 - val_precision_156: 0.5000 - val_recall_156: 0.0118 - val_f1_score: 0.0184 - 1s/epoch - 111ms/step\n",
      "Epoch 5/15\n",
      "11/11 - 1s - loss: 3.0474 - accuracy: 0.0413 - auc_156: 0.3778 - precision_156: 1.0000 - recall_156: 0.0265 - f1_score: 0.0383 - val_loss: 1.7763 - val_accuracy: 0.0118 - val_auc_156: 0.3488 - val_precision_156: 0.1667 - val_recall_156: 0.0059 - val_f1_score: 0.0125 - 1s/epoch - 110ms/step\n",
      "Epoch 6/15\n",
      "11/11 - 1s - loss: 3.0483 - accuracy: 0.0324 - auc_156: 0.3650 - precision_156: 1.0000 - recall_156: 0.0236 - f1_score: 0.0293 - val_loss: 1.3923 - val_accuracy: 0.0118 - val_auc_156: 0.3097 - val_precision_156: 1.0000 - val_recall_156: 0.0059 - val_f1_score: 0.0128 - 1s/epoch - 110ms/step\n",
      "Epoch 7/15\n",
      "11/11 - 1s - loss: 3.0516 - accuracy: 0.0354 - auc_156: 0.3663 - precision_156: 0.8571 - recall_156: 0.0177 - f1_score: 0.0325 - val_loss: 1.3918 - val_accuracy: 0.0118 - val_auc_156: 0.3078 - val_precision_156: 1.0000 - val_recall_156: 0.0059 - val_f1_score: 0.0128 - 1s/epoch - 114ms/step\n",
      "Epoch 8/15\n",
      "11/11 - 1s - loss: 3.0525 - accuracy: 0.0295 - auc_156: 0.3571 - precision_156: 1.0000 - recall_156: 0.0177 - f1_score: 0.0268 - val_loss: 1.3933 - val_accuracy: 0.0118 - val_auc_156: 0.3107 - val_precision_156: 1.0000 - val_recall_156: 0.0059 - val_f1_score: 0.0128 - 1s/epoch - 111ms/step\n",
      "Epoch 9/15\n",
      "11/11 - 1s - loss: 3.0464 - accuracy: 0.0354 - auc_156: 0.3641 - precision_156: 1.0000 - recall_156: 0.0206 - f1_score: 0.0318 - val_loss: 1.4181 - val_accuracy: 0.0176 - val_auc_156: 0.3110 - val_precision_156: 0.6000 - val_recall_156: 0.0176 - val_f1_score: 0.0176 - 1s/epoch - 112ms/step\n",
      "Epoch 10/15\n",
      "11/11 - 1s - loss: 3.0550 - accuracy: 0.0295 - auc_156: 0.2736 - precision_156: 0.8889 - recall_156: 0.0236 - f1_score: 0.0251 - val_loss: 1.4058 - val_accuracy: 0.0059 - val_auc_156: 0.2352 - val_precision_156: 0.0000e+00 - val_recall_156: 0.0000e+00 - val_f1_score: 0.0067 - 1s/epoch - 115ms/step\n",
      "Epoch 11/15\n",
      "11/11 - 1s - loss: 3.0424 - accuracy: 0.0324 - auc_156: 0.2567 - precision_156: 1.0000 - recall_156: 0.0206 - f1_score: 0.0293 - val_loss: 1.3983 - val_accuracy: 0.0176 - val_auc_156: 0.2484 - val_precision_156: 0.6000 - val_recall_156: 0.0176 - val_f1_score: 0.0187 - 1s/epoch - 107ms/step\n",
      "Epoch 12/15\n",
      "11/11 - 1s - loss: 3.0289 - accuracy: 0.0383 - auc_156: 0.3089 - precision_156: 1.0000 - recall_156: 0.0324 - f1_score: 0.0358 - val_loss: 1.3736 - val_accuracy: 0.0412 - val_auc_156: 0.3927 - val_precision_156: 0.7500 - val_recall_156: 0.0353 - val_f1_score: 0.0408 - 1s/epoch - 107ms/step\n"
     ]
    },
    {
     "data": {
      "image/png": "[encoded data removed]",
      "text/plain": [
       "<Figure size 432x288 with 1 Axes>"
      ]
     },
     "metadata": {
      "needs_background": "light"
     },
     "output_type": "display_data"
    },
    {
     "name": "stdout",
     "output_type": "stream",
     "text": [
      "Epoch 1/15\n",
      "11/11 - 28s - loss: 15.8942 - accuracy: 0.2920 - auc_157: 0.5535 - precision_157: 0.2804 - recall_157: 0.2242 - f1_score: 0.2157 - val_loss: 1.4524 - val_accuracy: 0.2235 - val_auc_157: 0.5631 - val_precision_157: 0.2353 - val_recall_157: 0.0941 - val_f1_score: 0.1584 - 28s/epoch - 3s/step\n",
      "Epoch 2/15\n",
      "11/11 - 1s - loss: 4.2482 - accuracy: 0.3894 - auc_157: 0.7171 - precision_157: 0.4407 - recall_157: 0.1534 - f1_score: 0.2632 - val_loss: 1.3544 - val_accuracy: 0.3059 - val_auc_157: 0.6804 - val_precision_157: 0.3717 - val_recall_157: 0.2471 - val_f1_score: 0.1793 - 1s/epoch - 101ms/step\n",
      "Epoch 3/15\n",
      "11/11 - 1s - loss: 2.9542 - accuracy: 0.3009 - auc_157: 0.6296 - precision_157: 0.2721 - recall_157: 0.1180 - f1_score: 0.2232 - val_loss: 1.3203 - val_accuracy: 0.1824 - val_auc_157: 0.5714 - val_precision_157: 0.4000 - val_recall_157: 0.0118 - val_f1_score: 0.1489 - 1s/epoch - 102ms/step\n",
      "Epoch 4/15\n",
      "11/11 - 1s - loss: 2.4175 - accuracy: 0.3746 - auc_157: 0.7221 - precision_157: 0.5000 - recall_157: 0.1357 - f1_score: 0.2556 - val_loss: 1.6000 - val_accuracy: 0.1647 - val_auc_157: 0.5632 - val_precision_157: 0.0965 - val_recall_157: 0.0647 - val_f1_score: 0.1149 - 1s/epoch - 102ms/step\n",
      "Epoch 5/15\n",
      "11/11 - 1s - loss: 2.3245 - accuracy: 0.2802 - auc_157: 0.6338 - precision_157: 0.3571 - recall_157: 0.1622 - f1_score: 0.2184 - val_loss: 1.3385 - val_accuracy: 0.2000 - val_auc_157: 0.5580 - val_precision_157: 0.5806 - val_recall_157: 0.1059 - val_f1_score: 0.1246 - 1s/epoch - 100ms/step\n",
      "Epoch 6/15\n",
      "11/11 - 1s - loss: 2.5249 - accuracy: 0.1829 - auc_157: 0.5166 - precision_157: 0.3014 - recall_157: 0.0649 - f1_score: 0.1476 - val_loss: 1.0318 - val_accuracy: 0.4000 - val_auc_157: 0.7649 - val_precision_157: 0.3538 - val_recall_157: 0.1353 - val_f1_score: 0.2119 - 1s/epoch - 104ms/step\n",
      "Epoch 7/15\n",
      "11/11 - 1s - loss: 2.4917 - accuracy: 0.2507 - auc_157: 0.6245 - precision_157: 0.3200 - recall_157: 0.1416 - f1_score: 0.1879 - val_loss: 1.2972 - val_accuracy: 0.3059 - val_auc_157: 0.6326 - val_precision_157: 0.4318 - val_recall_157: 0.1118 - val_f1_score: 0.1908 - 1s/epoch - 98ms/step\n",
      "Epoch 8/15\n",
      "11/11 - 1s - loss: 3.7074 - accuracy: 0.2773 - auc_157: 0.5847 - precision_157: 0.2573 - recall_157: 0.1829 - f1_score: 0.2276 - val_loss: 1.7023 - val_accuracy: 0.2235 - val_auc_157: 0.5958 - val_precision_157: 0.2016 - val_recall_157: 0.1529 - val_f1_score: 0.1702 - 1s/epoch - 104ms/step\n",
      "Epoch 9/15\n",
      "11/11 - 1s - loss: 4.3880 - accuracy: 0.3245 - auc_157: 0.6339 - precision_157: 0.2796 - recall_157: 0.1534 - f1_score: 0.1952 - val_loss: 1.3349 - val_accuracy: 0.5412 - val_auc_157: 0.6284 - val_precision_157: 0.0000e+00 - val_recall_157: 0.0000e+00 - val_f1_score: 0.1804 - 1s/epoch - 103ms/step\n",
      "Epoch 10/15\n",
      "11/11 - 1s - loss: 2.5549 - accuracy: 0.1327 - auc_157: 0.4443 - precision_157: 0.0000e+00 - recall_157: 0.0000e+00 - f1_score: 0.0827 - val_loss: 1.3938 - val_accuracy: 0.0059 - val_auc_157: 0.3544 - val_precision_157: 0.0000e+00 - val_recall_157: 0.0000e+00 - val_f1_score: 0.0030 - 1s/epoch - 101ms/step\n",
      "Epoch 11/15\n",
      "11/11 - 1s - loss: 2.5971 - accuracy: 0.0826 - auc_157: 0.4369 - precision_157: 0.0000e+00 - recall_157: 0.0000e+00 - f1_score: 0.0744 - val_loss: 1.2987 - val_accuracy: 0.3706 - val_auc_157: 0.6352 - val_precision_157: 0.0000e+00 - val_recall_157: 0.0000e+00 - val_f1_score: 0.1897 - 1s/epoch - 102ms/step\n",
      "Epoch 12/15\n",
      "11/11 - 1s - loss: 2.2580 - accuracy: 0.3274 - auc_157: 0.7132 - precision_157: 0.4000 - recall_157: 0.0177 - f1_score: 0.2176 - val_loss: 1.0165 - val_accuracy: 0.5529 - val_auc_157: 0.8089 - val_precision_157: 0.5714 - val_recall_157: 0.4941 - val_f1_score: 0.1801 - 1s/epoch - 102ms/step\n",
      "Epoch 13/15\n",
      "11/11 - 1s - loss: 3.7081 - accuracy: 0.3599 - auc_157: 0.6636 - precision_157: 0.2645 - recall_157: 0.0944 - f1_score: 0.2196 - val_loss: 1.3734 - val_accuracy: 0.2059 - val_auc_157: 0.5158 - val_precision_157: 0.0000e+00 - val_recall_157: 0.0000e+00 - val_f1_score: 0.1754 - 1s/epoch - 104ms/step\n",
      "Epoch 14/15\n",
      "11/11 - 1s - loss: 2.6017 - accuracy: 0.0206 - auc_157: 0.3186 - precision_157: 0.6667 - recall_157: 0.0059 - f1_score: 0.0223 - val_loss: 1.3967 - val_accuracy: 0.0412 - val_auc_157: 0.2832 - val_precision_157: 0.0000e+00 - val_recall_157: 0.0000e+00 - val_f1_score: 0.0442 - 1s/epoch - 100ms/step\n",
      "Epoch 15/15\n",
      "11/11 - 1s - loss: 2.5620 - accuracy: 0.0973 - auc_157: 0.4723 - precision_157: 0.4286 - recall_157: 0.0265 - f1_score: 0.1020 - val_loss: 2.7844 - val_accuracy: 0.0941 - val_auc_157: 0.5208 - val_precision_157: 0.0970 - val_recall_157: 0.0941 - val_f1_score: 0.0430 - 1s/epoch - 100ms/step\n"
     ]
    },
    {
     "data": {
      "image/png": "[encoded data removed]",
      "text/plain": [
       "<Figure size 432x288 with 1 Axes>"
      ]
     },
     "metadata": {
      "needs_background": "light"
     },
     "output_type": "display_data"
    },
    {
     "name": "stdout",
     "output_type": "stream",
     "text": [
      "Epoch 1/15\n",
      "11/11 - 26s - loss: 60.2137 - accuracy: 0.2882 - auc_158: 0.5207 - precision_158: 0.2936 - recall_158: 0.2824 - f1_score: 0.2178 - val_loss: 1.3367 - val_accuracy: 0.3254 - val_auc_158: 0.6807 - val_precision_158: 0.3462 - val_recall_158: 0.2130 - val_f1_score: 0.2189 - 26s/epoch - 2s/step\n",
      "Epoch 2/15\n",
      "11/11 - 1s - loss: 5.9621 - accuracy: 0.4059 - auc_158: 0.7013 - precision_158: 0.3908 - recall_158: 0.2735 - f1_score: 0.2670 - val_loss: 2.4304 - val_accuracy: 0.3905 - val_auc_158: 0.7001 - val_precision_158: 0.5849 - val_recall_158: 0.1834 - val_f1_score: 0.2461 - 1s/epoch - 108ms/step\n",
      "Epoch 3/15\n",
      "11/11 - 1s - loss: 3.5791 - accuracy: 0.1853 - auc_158: 0.5111 - precision_158: 0.6250 - recall_158: 0.0441 - f1_score: 0.1315 - val_loss: 1.3844 - val_accuracy: 0.2308 - val_auc_158: 0.6060 - val_precision_158: 0.3864 - val_recall_158: 0.1006 - val_f1_score: 0.1662 - 1s/epoch - 104ms/step\n",
      "Epoch 4/15\n",
      "11/11 - 1s - loss: 2.8113 - accuracy: 0.1618 - auc_158: 0.4771 - precision_158: 0.5926 - recall_158: 0.0471 - f1_score: 0.1196 - val_loss: 1.4372 - val_accuracy: 0.1065 - val_auc_158: 0.4047 - val_precision_158: 0.1667 - val_recall_158: 0.0059 - val_f1_score: 0.0584 - 1s/epoch - 102ms/step\n",
      "Epoch 5/15\n",
      "11/11 - 1s - loss: 2.5926 - accuracy: 0.2029 - auc_158: 0.5407 - precision_158: 0.7429 - recall_158: 0.0765 - f1_score: 0.1552 - val_loss: 1.3915 - val_accuracy: 0.1243 - val_auc_158: 0.4539 - val_precision_158: 0.1667 - val_recall_158: 0.0118 - val_f1_score: 0.0813 - 1s/epoch - 104ms/step\n",
      "Epoch 6/15\n",
      "11/11 - 1s - loss: 2.6361 - accuracy: 0.1794 - auc_158: 0.5016 - precision_158: 0.5000 - recall_158: 0.0559 - f1_score: 0.1316 - val_loss: 1.3950 - val_accuracy: 0.1538 - val_auc_158: 0.4852 - val_precision_158: 0.3929 - val_recall_158: 0.0651 - val_f1_score: 0.1128 - 1s/epoch - 109ms/step\n",
      "Epoch 7/15\n",
      "11/11 - 1s - loss: 2.5723 - accuracy: 0.1588 - auc_158: 0.4785 - precision_158: 0.7500 - recall_158: 0.0441 - f1_score: 0.1110 - val_loss: 1.2689 - val_accuracy: 0.1953 - val_auc_158: 0.5233 - val_precision_158: 0.8889 - val_recall_158: 0.0947 - val_f1_score: 0.1376 - 1s/epoch - 106ms/step\n",
      "Epoch 8/15\n",
      "11/11 - 1s - loss: 2.5760 - accuracy: 0.1559 - auc_158: 0.5873 - precision_158: 0.6400 - recall_158: 0.0471 - f1_score: 0.1053 - val_loss: 1.2913 - val_accuracy: 0.1953 - val_auc_158: 0.5346 - val_precision_158: 0.6154 - val_recall_158: 0.0947 - val_f1_score: 0.1449 - 1s/epoch - 106ms/step\n",
      "Epoch 9/15\n",
      "11/11 - 1s - loss: 2.5328 - accuracy: 0.2000 - auc_158: 0.6341 - precision_158: 0.5625 - recall_158: 0.0794 - f1_score: 0.1509 - val_loss: 1.2094 - val_accuracy: 0.2663 - val_auc_158: 0.6842 - val_precision_158: 0.4138 - val_recall_158: 0.1420 - val_f1_score: 0.1943 - 1s/epoch - 112ms/step\n",
      "Epoch 10/15\n",
      "11/11 - 1s - loss: 2.6943 - accuracy: 0.1412 - auc_158: 0.4362 - precision_158: 0.3182 - recall_158: 0.0206 - f1_score: 0.1021 - val_loss: 1.3907 - val_accuracy: 0.1243 - val_auc_158: 0.4434 - val_precision_158: 0.0000e+00 - val_recall_158: 0.0000e+00 - val_f1_score: 0.0829 - 1s/epoch - 109ms/step\n",
      "Epoch 11/15\n",
      "11/11 - 1s - loss: 2.5935 - accuracy: 0.2029 - auc_158: 0.5551 - precision_158: 0.6667 - recall_158: 0.0059 - f1_score: 0.1517 - val_loss: 1.3555 - val_accuracy: 0.2604 - val_auc_158: 0.6337 - val_precision_158: 0.0000e+00 - val_recall_158: 0.0000e+00 - val_f1_score: 0.1933 - 1s/epoch - 105ms/step\n",
      "Epoch 12/15\n",
      "11/11 - 1s - loss: 2.5677 - accuracy: 0.3382 - auc_158: 0.7110 - precision_158: 0.3684 - recall_158: 0.0412 - f1_score: 0.2376 - val_loss: 1.3616 - val_accuracy: 0.1243 - val_auc_158: 0.5504 - val_precision_158: 1.0000 - val_recall_158: 0.0059 - val_f1_score: 0.0886 - 1s/epoch - 110ms/step\n",
      "Epoch 13/15\n",
      "11/11 - 1s - loss: 2.6462 - accuracy: 0.1235 - auc_158: 0.5421 - precision_158: 1.0000 - recall_158: 0.0029 - f1_score: 0.0819 - val_loss: 1.3761 - val_accuracy: 0.0947 - val_auc_158: 0.5157 - val_precision_158: 1.0000 - val_recall_158: 0.0059 - val_f1_score: 0.0463 - 1s/epoch - 110ms/step\n",
      "Epoch 14/15\n",
      "11/11 - 1s - loss: 2.6038 - accuracy: 0.1059 - auc_158: 0.5293 - precision_158: 1.0000 - recall_158: 0.0088 - f1_score: 0.0550 - val_loss: 1.3743 - val_accuracy: 0.0947 - val_auc_158: 0.5157 - val_precision_158: 1.0000 - val_recall_158: 0.0059 - val_f1_score: 0.0463 - 1s/epoch - 102ms/step\n",
      "Epoch 15/15\n",
      "11/11 - 1s - loss: 2.6004 - accuracy: 0.1059 - auc_158: 0.5331 - precision_158: 1.0000 - recall_158: 0.0088 - f1_score: 0.0550 - val_loss: 1.3696 - val_accuracy: 0.0947 - val_auc_158: 0.5157 - val_precision_158: 1.0000 - val_recall_158: 0.0059 - val_f1_score: 0.0463 - 1s/epoch - 105ms/step\n"
     ]
    },
    {
     "data": {
      "image/png": "[encoded data removed]",
      "text/plain": [
       "<Figure size 432x288 with 1 Axes>"
      ]
     },
     "metadata": {
      "needs_background": "light"
     },
     "output_type": "display_data"
    }
   ],
   "source": [
    "for b in batch_sizes:\n",
    "    for act in activation:\n",
    "        for n in neurons:\n",
    "            for s in kernel_size:\n",
    "                for init in kernel_initializer:\n",
    "                    for d in dropout:\n",
    "                        print('Batch size', b, 'Activation', act, 'Neurons', n, 'Kernel size', s, 'Kernel initializer', init, 'Dropout', d)\n",
    "                        for train_index, val_index in kf.split(early_X):\n",
    "                            X_train, X_val = early_X[train_index], early_X[val_index]\n",
    "                            y_train, y_val = early_y[train_index], early_y[val_index]\n",
    "                            early_convLSTM = build_convLSTM(early_features, n_length, early_outputs, neurons=n, kernel_size=s, activation=act, kernel_initializer=init, dropout=d)\n",
    "                            history = train(early_convLSTM, X_train, y_train, X_val, y_val, epochs=epochs, batch_size=b, class_weight=class_weight)\n",
    "                            if (history['val_accuracy'] > early_best_lstm_acc) and (history['val_roc_auc'] > early_best_lstm_auc):\n",
    "                                early_best_lstm_acc = history['val_accuracy']\n",
    "                                early_best_lstm_auc = history['val_roc_auc']\n",
    "                                early_lstm_loss = history['loss']\n",
    "                                early_best_lstm_model = early_convLSTM\n",
    "                                early_lstm_values = { 'batch_size': b, 'activation': act, 'neurons': n, 'kernel_size': s, 'kernel_initializer': init, 'dropout': float(\"inf\") }"
   ]
  },
  {
   "cell_type": "markdown",
   "metadata": {},
   "source": [
    "### Train RCNN (with early fusion)"
   ]
  },
  {
   "cell_type": "code",
   "execution_count": null,
   "metadata": {},
   "outputs": [],
   "source": [
    "early_best_rcnn_acc = 0.0\n",
    "early_best_rcnn_auc = 0.0\n",
    "early_rcnn_loss = float(\"inf\")\n",
    "early_best_rcnn_model = None\n",
    "early_rcnn_values = { 'batch_size': 0, 'activation': '', 'neurons': 0, 'kernel_size': 0, 'kernel_initializer': '', 'dropout': float(\"inf\") }"
   ]
  },
  {
   "cell_type": "code",
   "execution_count": 47,
   "metadata": {},
   "outputs": [
    {
     "name": "stdout",
     "output_type": "stream",
     "text": [
      "Epoch 1/15\n",
      "11/11 - 8s - loss: 90.3355 - accuracy: 0.3717 - auc_159: 0.5984 - precision_159: 0.3818 - recall_159: 0.3717 - f1_score: 0.2475 - val_loss: 143.0861 - val_accuracy: 0.4294 - val_auc_159: 0.6196 - val_precision_159: 0.4294 - val_recall_159: 0.4294 - val_f1_score: 0.1502 - 8s/epoch - 714ms/step\n",
      "Epoch 2/15\n",
      "11/11 - 0s - loss: 30.4374 - accuracy: 0.3392 - auc_159: 0.5730 - precision_159: 0.3392 - recall_159: 0.3392 - f1_score: 0.2506 - val_loss: 22.3974 - val_accuracy: 0.3059 - val_auc_159: 0.5392 - val_precision_159: 0.3059 - val_recall_159: 0.3059 - val_f1_score: 0.1814 - 362ms/epoch - 33ms/step\n",
      "Epoch 3/15\n",
      "11/11 - 0s - loss: 127.6798 - accuracy: 0.4336 - auc_159: 0.6725 - precision_159: 0.4320 - recall_159: 0.4307 - f1_score: 0.3138 - val_loss: 74.2321 - val_accuracy: 0.4294 - val_auc_159: 0.6196 - val_precision_159: 0.4294 - val_recall_159: 0.4294 - val_f1_score: 0.1502 - 371ms/epoch - 34ms/step\n",
      "Epoch 4/15\n",
      "11/11 - 0s - loss: 15.8716 - accuracy: 0.3333 - auc_159: 0.6095 - precision_159: 0.3323 - recall_159: 0.3304 - f1_score: 0.2500 - val_loss: 17.1036 - val_accuracy: 0.4647 - val_auc_159: 0.6482 - val_precision_159: 0.4647 - val_recall_159: 0.4647 - val_f1_score: 0.1645 - 437ms/epoch - 40ms/step\n",
      "Epoch 5/15\n",
      "11/11 - 0s - loss: 5.6194 - accuracy: 0.4307 - auc_159: 0.6794 - precision_159: 0.4350 - recall_159: 0.4248 - f1_score: 0.3483 - val_loss: 15.6020 - val_accuracy: 0.4294 - val_auc_159: 0.6196 - val_precision_159: 0.4294 - val_recall_159: 0.4294 - val_f1_score: 0.1502 - 375ms/epoch - 34ms/step\n",
      "Epoch 6/15\n",
      "11/11 - 0s - loss: 3.7298 - accuracy: 0.4779 - auc_159: 0.7433 - precision_159: 0.4805 - recall_159: 0.4720 - f1_score: 0.4829 - val_loss: 21.2115 - val_accuracy: 0.4294 - val_auc_159: 0.6196 - val_precision_159: 0.4294 - val_recall_159: 0.4294 - val_f1_score: 0.1502 - 402ms/epoch - 37ms/step\n",
      "Epoch 7/15\n",
      "11/11 - 0s - loss: 2.4402 - accuracy: 0.5782 - auc_159: 0.8123 - precision_159: 0.5810 - recall_159: 0.5605 - f1_score: 0.6113 - val_loss: 9.7471 - val_accuracy: 0.4706 - val_auc_159: 0.6460 - val_precision_159: 0.4706 - val_recall_159: 0.4706 - val_f1_score: 0.1600 - 392ms/epoch - 36ms/step\n",
      "Epoch 8/15\n",
      "11/11 - 0s - loss: 2.5372 - accuracy: 0.6106 - auc_159: 0.8518 - precision_159: 0.6185 - recall_159: 0.5929 - f1_score: 0.5241 - val_loss: 8.0252 - val_accuracy: 0.4706 - val_auc_159: 0.6445 - val_precision_159: 0.4706 - val_recall_159: 0.4706 - val_f1_score: 0.1600 - 369ms/epoch - 34ms/step\n",
      "Epoch 9/15\n",
      "11/11 - 0s - loss: 2.8600 - accuracy: 0.5280 - auc_159: 0.8067 - precision_159: 0.5271 - recall_159: 0.5162 - f1_score: 0.4581 - val_loss: 2.7667 - val_accuracy: 0.4882 - val_auc_159: 0.7460 - val_precision_159: 0.4882 - val_recall_159: 0.4882 - val_f1_score: 0.2477 - 373ms/epoch - 34ms/step\n",
      "Epoch 10/15\n",
      "11/11 - 0s - loss: 2.3013 - accuracy: 0.5280 - auc_159: 0.8160 - precision_159: 0.5298 - recall_159: 0.5251 - f1_score: 0.6240 - val_loss: 8.9146 - val_accuracy: 0.4706 - val_auc_159: 0.6460 - val_precision_159: 0.4706 - val_recall_159: 0.4706 - val_f1_score: 0.1600 - 363ms/epoch - 33ms/step\n",
      "Epoch 11/15\n",
      "11/11 - 0s - loss: 22.6940 - accuracy: 0.4395 - auc_159: 0.6868 - precision_159: 0.4354 - recall_159: 0.4277 - f1_score: 0.3262 - val_loss: 49.0350 - val_accuracy: 0.3471 - val_auc_159: 0.5872 - val_precision_159: 0.3471 - val_recall_159: 0.3471 - val_f1_score: 0.1977 - 369ms/epoch - 34ms/step\n",
      "Epoch 12/15\n",
      "11/11 - 0s - loss: 12.4509 - accuracy: 0.4159 - auc_159: 0.6852 - precision_159: 0.4157 - recall_159: 0.4071 - f1_score: 0.3390 - val_loss: 13.3393 - val_accuracy: 0.4118 - val_auc_159: 0.6191 - val_precision_159: 0.4118 - val_recall_159: 0.4118 - val_f1_score: 0.1528 - 398ms/epoch - 36ms/step\n",
      "Epoch 13/15\n",
      "11/11 - 0s - loss: 13.9867 - accuracy: 0.4779 - auc_159: 0.7025 - precision_159: 0.4793 - recall_159: 0.4779 - f1_score: 0.3823 - val_loss: 19.4051 - val_accuracy: 0.4706 - val_auc_159: 0.6471 - val_precision_159: 0.4706 - val_recall_159: 0.4706 - val_f1_score: 0.1600 - 380ms/epoch - 35ms/step\n",
      "Epoch 14/15\n",
      "11/11 - 0s - loss: 15.5271 - accuracy: 0.4218 - auc_159: 0.6819 - precision_159: 0.4222 - recall_159: 0.4159 - f1_score: 0.3494 - val_loss: 6.6126 - val_accuracy: 0.4471 - val_auc_159: 0.7000 - val_precision_159: 0.4471 - val_recall_159: 0.4471 - val_f1_score: 0.1748 - 404ms/epoch - 37ms/step\n",
      "Epoch 15/15\n",
      "11/11 - 0s - loss: 6.1686 - accuracy: 0.4248 - auc_159: 0.7144 - precision_159: 0.4204 - recall_159: 0.4130 - f1_score: 0.3537 - val_loss: 11.5678 - val_accuracy: 0.4706 - val_auc_159: 0.6471 - val_precision_159: 0.4706 - val_recall_159: 0.4706 - val_f1_score: 0.1600 - 376ms/epoch - 34ms/step\n"
     ]
    },
    {
     "data": {
      "image/png": "[encoded data removed]",
      "text/plain": [
       "<Figure size 432x288 with 1 Axes>"
      ]
     },
     "metadata": {
      "needs_background": "light"
     },
     "output_type": "display_data"
    },
    {
     "name": "stdout",
     "output_type": "stream",
     "text": [
      "Epoch 1/15\n",
      "11/11 - 8s - loss: 67.4304 - accuracy: 0.3451 - auc_160: 0.6046 - precision_160: 0.3503 - recall_160: 0.3451 - f1_score: 0.2428 - val_loss: 76.0042 - val_accuracy: 0.5588 - val_auc_160: 0.7059 - val_precision_160: 0.5588 - val_recall_160: 0.5588 - val_f1_score: 0.1792 - 8s/epoch - 715ms/step\n",
      "Epoch 2/15\n",
      "11/11 - 0s - loss: 20.6656 - accuracy: 0.3038 - auc_160: 0.5475 - precision_160: 0.3015 - recall_160: 0.2979 - f1_score: 0.2266 - val_loss: 128.3391 - val_accuracy: 0.5588 - val_auc_160: 0.7059 - val_precision_160: 0.5588 - val_recall_160: 0.5588 - val_f1_score: 0.1792 - 411ms/epoch - 37ms/step\n",
      "Epoch 3/15\n",
      "11/11 - 0s - loss: 17.3981 - accuracy: 0.3805 - auc_160: 0.6246 - precision_160: 0.3821 - recall_160: 0.3776 - f1_score: 0.2737 - val_loss: 23.3399 - val_accuracy: 0.3412 - val_auc_160: 0.5715 - val_precision_160: 0.3412 - val_recall_160: 0.3412 - val_f1_score: 0.1387 - 341ms/epoch - 31ms/step\n",
      "Epoch 4/15\n",
      "11/11 - 0s - loss: 7.3098 - accuracy: 0.4808 - auc_160: 0.7458 - precision_160: 0.4790 - recall_160: 0.4720 - f1_score: 0.3393 - val_loss: 22.9043 - val_accuracy: 0.3412 - val_auc_160: 0.5608 - val_precision_160: 0.3412 - val_recall_160: 0.3412 - val_f1_score: 0.1272 - 374ms/epoch - 34ms/step\n",
      "Epoch 5/15\n",
      "11/11 - 0s - loss: 3.9048 - accuracy: 0.4307 - auc_160: 0.6999 - precision_160: 0.4337 - recall_160: 0.4248 - f1_score: 0.3487 - val_loss: 28.6809 - val_accuracy: 0.3412 - val_auc_160: 0.5595 - val_precision_160: 0.3412 - val_recall_160: 0.3412 - val_f1_score: 0.1272 - 398ms/epoch - 36ms/step\n",
      "Epoch 6/15\n",
      "11/11 - 0s - loss: 3.0542 - accuracy: 0.4749 - auc_160: 0.7720 - precision_160: 0.4756 - recall_160: 0.4602 - f1_score: 0.5852 - val_loss: 22.7595 - val_accuracy: 0.3412 - val_auc_160: 0.5608 - val_precision_160: 0.3412 - val_recall_160: 0.3412 - val_f1_score: 0.1272 - 352ms/epoch - 32ms/step\n",
      "Epoch 7/15\n",
      "11/11 - 0s - loss: 2.9841 - accuracy: 0.5074 - auc_160: 0.7765 - precision_160: 0.5152 - recall_160: 0.4985 - f1_score: 0.4765 - val_loss: 7.3760 - val_accuracy: 0.5412 - val_auc_160: 0.7275 - val_precision_160: 0.5412 - val_recall_160: 0.5412 - val_f1_score: 0.2025 - 405ms/epoch - 37ms/step\n",
      "Epoch 8/15\n",
      "11/11 - 0s - loss: 2.5958 - accuracy: 0.5044 - auc_160: 0.7610 - precision_160: 0.5015 - recall_160: 0.4838 - f1_score: 0.5270 - val_loss: 16.3590 - val_accuracy: 0.3412 - val_auc_160: 0.5634 - val_precision_160: 0.3412 - val_recall_160: 0.3412 - val_f1_score: 0.1272 - 394ms/epoch - 36ms/step\n",
      "Epoch 9/15\n",
      "11/11 - 0s - loss: 2.5547 - accuracy: 0.5516 - auc_160: 0.8111 - precision_160: 0.5617 - recall_160: 0.5369 - f1_score: 0.5389 - val_loss: 10.3957 - val_accuracy: 0.3412 - val_auc_160: 0.5807 - val_precision_160: 0.3412 - val_recall_160: 0.3412 - val_f1_score: 0.1272 - 378ms/epoch - 34ms/step\n",
      "Epoch 10/15\n",
      "11/11 - 0s - loss: 1.9469 - accuracy: 0.5015 - auc_160: 0.7961 - precision_160: 0.5078 - recall_160: 0.4779 - f1_score: 0.4900 - val_loss: 10.0857 - val_accuracy: 0.3412 - val_auc_160: 0.5672 - val_precision_160: 0.3412 - val_recall_160: 0.3412 - val_f1_score: 0.1283 - 396ms/epoch - 36ms/step\n",
      "Epoch 11/15\n",
      "11/11 - 0s - loss: 2.1600 - accuracy: 0.5221 - auc_160: 0.8199 - precision_160: 0.5285 - recall_160: 0.5192 - f1_score: 0.4993 - val_loss: 9.3972 - val_accuracy: 0.3412 - val_auc_160: 0.6036 - val_precision_160: 0.3412 - val_recall_160: 0.3412 - val_f1_score: 0.1313 - 381ms/epoch - 35ms/step\n",
      "Epoch 12/15\n",
      "11/11 - 0s - loss: 1.3621 - accuracy: 0.6047 - auc_160: 0.8551 - precision_160: 0.6219 - recall_160: 0.5870 - f1_score: 0.6878 - val_loss: 6.5715 - val_accuracy: 0.3588 - val_auc_160: 0.6975 - val_precision_160: 0.3588 - val_recall_160: 0.3588 - val_f1_score: 0.1512 - 373ms/epoch - 34ms/step\n",
      "Epoch 13/15\n",
      "11/11 - 0s - loss: 1.2727 - accuracy: 0.6460 - auc_160: 0.8891 - precision_160: 0.6431 - recall_160: 0.6165 - f1_score: 0.7396 - val_loss: 3.7485 - val_accuracy: 0.3941 - val_auc_160: 0.7251 - val_precision_160: 0.3905 - val_recall_160: 0.3882 - val_f1_score: 0.1969 - 370ms/epoch - 34ms/step\n",
      "Epoch 14/15\n",
      "11/11 - 0s - loss: 1.4924 - accuracy: 0.5988 - auc_160: 0.8531 - precision_160: 0.6127 - recall_160: 0.5693 - f1_score: 0.5265 - val_loss: 4.3981 - val_accuracy: 0.4353 - val_auc_160: 0.7636 - val_precision_160: 0.4353 - val_recall_160: 0.4353 - val_f1_score: 0.2284 - 412ms/epoch - 37ms/step\n",
      "Epoch 15/15\n",
      "11/11 - 0s - loss: 1.2270 - accuracy: 0.5693 - auc_160: 0.8594 - precision_160: 0.5968 - recall_160: 0.5457 - f1_score: 0.5792 - val_loss: 2.8387 - val_accuracy: 0.5059 - val_auc_160: 0.7917 - val_precision_160: 0.5059 - val_recall_160: 0.5059 - val_f1_score: 0.2720 - 365ms/epoch - 33ms/step\n"
     ]
    },
    {
     "data": {
      "image/png": "[encoded data removed]",
      "text/plain": [
       "<Figure size 432x288 with 1 Axes>"
      ]
     },
     "metadata": {
      "needs_background": "light"
     },
     "output_type": "display_data"
    },
    {
     "name": "stdout",
     "output_type": "stream",
     "text": [
      "Epoch 1/15\n",
      "11/11 - 8s - loss: 115.0993 - accuracy: 0.3265 - auc_161: 0.5572 - precision_161: 0.3242 - recall_161: 0.3118 - f1_score: 0.2309 - val_loss: 113.5000 - val_accuracy: 0.5503 - val_auc_161: 0.7002 - val_precision_161: 0.5503 - val_recall_161: 0.5503 - val_f1_score: 0.1775 - 8s/epoch - 689ms/step\n",
      "Epoch 2/15\n",
      "11/11 - 0s - loss: 11.2623 - accuracy: 0.4382 - auc_161: 0.6486 - precision_161: 0.4358 - recall_161: 0.4294 - f1_score: 0.3309 - val_loss: 17.2394 - val_accuracy: 0.4379 - val_auc_161: 0.6534 - val_precision_161: 0.4379 - val_recall_161: 0.4379 - val_f1_score: 0.2201 - 363ms/epoch - 33ms/step\n",
      "Epoch 3/15\n",
      "11/11 - 0s - loss: 26.9390 - accuracy: 0.5147 - auc_161: 0.7299 - precision_161: 0.5208 - recall_161: 0.5147 - f1_score: 0.3649 - val_loss: 40.4468 - val_accuracy: 0.3550 - val_auc_161: 0.5700 - val_precision_161: 0.3550 - val_recall_161: 0.3550 - val_f1_score: 0.1310 - 382ms/epoch - 35ms/step\n",
      "Epoch 4/15\n",
      "11/11 - 0s - loss: 9.8417 - accuracy: 0.4412 - auc_161: 0.6746 - precision_161: 0.4418 - recall_161: 0.4353 - f1_score: 0.3324 - val_loss: 24.4631 - val_accuracy: 0.5385 - val_auc_161: 0.7058 - val_precision_161: 0.5385 - val_recall_161: 0.5385 - val_f1_score: 0.1750 - 363ms/epoch - 33ms/step\n",
      "Epoch 5/15\n",
      "11/11 - 0s - loss: 5.9958 - accuracy: 0.5088 - auc_161: 0.7356 - precision_161: 0.5075 - recall_161: 0.5000 - f1_score: 0.4308 - val_loss: 12.6274 - val_accuracy: 0.3609 - val_auc_161: 0.6235 - val_precision_161: 0.3609 - val_recall_161: 0.3609 - val_f1_score: 0.1456 - 388ms/epoch - 35ms/step\n",
      "Epoch 6/15\n",
      "11/11 - 0s - loss: 3.3217 - accuracy: 0.5265 - auc_161: 0.7811 - precision_161: 0.5251 - recall_161: 0.5235 - f1_score: 0.6408 - val_loss: 17.6112 - val_accuracy: 0.3550 - val_auc_161: 0.5700 - val_precision_161: 0.3550 - val_recall_161: 0.3550 - val_f1_score: 0.1310 - 392ms/epoch - 36ms/step\n",
      "Epoch 7/15\n",
      "11/11 - 0s - loss: 22.4044 - accuracy: 0.5735 - auc_161: 0.8018 - precision_161: 0.5723 - recall_161: 0.5706 - f1_score: 0.4243 - val_loss: 10.1645 - val_accuracy: 0.5503 - val_auc_161: 0.6993 - val_precision_161: 0.5503 - val_recall_161: 0.5503 - val_f1_score: 0.1775 - 389ms/epoch - 35ms/step\n",
      "Epoch 8/15\n",
      "11/11 - 0s - loss: 13.6980 - accuracy: 0.4235 - auc_161: 0.6755 - precision_161: 0.4226 - recall_161: 0.4176 - f1_score: 0.3208 - val_loss: 14.7237 - val_accuracy: 0.5503 - val_auc_161: 0.7046 - val_precision_161: 0.5503 - val_recall_161: 0.5503 - val_f1_score: 0.1775 - 360ms/epoch - 33ms/step\n",
      "Epoch 9/15\n",
      "11/11 - 0s - loss: 5.3339 - accuracy: 0.5029 - auc_161: 0.7394 - precision_161: 0.5075 - recall_161: 0.5000 - f1_score: 0.4092 - val_loss: 13.9488 - val_accuracy: 0.5385 - val_auc_161: 0.7122 - val_precision_161: 0.5385 - val_recall_161: 0.5385 - val_f1_score: 0.2121 - 400ms/epoch - 36ms/step\n",
      "Epoch 10/15\n",
      "11/11 - 0s - loss: 3.6835 - accuracy: 0.4735 - auc_161: 0.7617 - precision_161: 0.4763 - recall_161: 0.4735 - f1_score: 0.4751 - val_loss: 11.5900 - val_accuracy: 0.5444 - val_auc_161: 0.6993 - val_precision_161: 0.5444 - val_recall_161: 0.5444 - val_f1_score: 0.1762 - 397ms/epoch - 36ms/step\n",
      "Epoch 11/15\n",
      "11/11 - 0s - loss: 3.1049 - accuracy: 0.5765 - auc_161: 0.8164 - precision_161: 0.5766 - recall_161: 0.5647 - f1_score: 0.6709 - val_loss: 18.3229 - val_accuracy: 0.5503 - val_auc_161: 0.6984 - val_precision_161: 0.5503 - val_recall_161: 0.5503 - val_f1_score: 0.1775 - 360ms/epoch - 33ms/step\n",
      "Epoch 12/15\n",
      "11/11 - 0s - loss: 4.5905 - accuracy: 0.5471 - auc_161: 0.8062 - precision_161: 0.5471 - recall_161: 0.5471 - f1_score: 0.4033 - val_loss: 7.4962 - val_accuracy: 0.5030 - val_auc_161: 0.6808 - val_precision_161: 0.5030 - val_recall_161: 0.5030 - val_f1_score: 0.1742 - 368ms/epoch - 33ms/step\n",
      "Epoch 13/15\n",
      "11/11 - 0s - loss: 11.4243 - accuracy: 0.3588 - auc_161: 0.6217 - precision_161: 0.3620 - recall_161: 0.3588 - f1_score: 0.2819 - val_loss: 15.3544 - val_accuracy: 0.3432 - val_auc_161: 0.6135 - val_precision_161: 0.3432 - val_recall_161: 0.3432 - val_f1_score: 0.1682 - 407ms/epoch - 37ms/step\n",
      "Epoch 14/15\n",
      "11/11 - 0s - loss: 6.0357 - accuracy: 0.5353 - auc_161: 0.7632 - precision_161: 0.5369 - recall_161: 0.5353 - f1_score: 0.4204 - val_loss: 25.5709 - val_accuracy: 0.5503 - val_auc_161: 0.7002 - val_precision_161: 0.5503 - val_recall_161: 0.5503 - val_f1_score: 0.1775 - 376ms/epoch - 34ms/step\n",
      "Epoch 15/15\n",
      "11/11 - 0s - loss: 3.7088 - accuracy: 0.5529 - auc_161: 0.7777 - precision_161: 0.5549 - recall_161: 0.5500 - f1_score: 0.4815 - val_loss: 12.1906 - val_accuracy: 0.3609 - val_auc_161: 0.6342 - val_precision_161: 0.3609 - val_recall_161: 0.3609 - val_f1_score: 0.1751 - 376ms/epoch - 34ms/step\n"
     ]
    },
    {
     "data": {
      "image/png": "[encoded data removed]",
      "text/plain": [
       "<Figure size 432x288 with 1 Axes>"
      ]
     },
     "metadata": {
      "needs_background": "light"
     },
     "output_type": "display_data"
    }
   ],
   "source": [
    "for b in batch_sizes:\n",
    "    for act in activation:\n",
    "        for n in neurons:\n",
    "            for s in kernel_size:\n",
    "                for init in kernel_initializer:\n",
    "                    for d in dropout:\n",
    "                        print('Batch size', b, 'Activation', act, 'Neurons', n, 'Kernel size', s, 'Kernel initializer', init, 'Dropout', d)\n",
    "                        for train_index, val_index in kf.split(early_X):\n",
    "                            X_train, X_val = early_X[train_index], early_X[val_index]\n",
    "                            y_train, y_val = early_y[train_index], early_y[val_index]\n",
    "                            early_RCNN = build_RCNN(early_features, n_length, early_outputs, neurons=n, kernel_size=s, activation=act, kernel_initializer=init, dropout=d)\n",
    "                            history = train(early_RCNN, X_train, y_train, X_val, y_val, epochs=epochs, batch_size=b, class_weight=class_weight)\n",
    "                            if (history['val_accuracy'] > early_best_rcnn_acc) and (history['val_roc_auc'] > early_best_rcnn_auc):\n",
    "                                early_best_rcnn_acc = history['val_accuracy']\n",
    "                                early_best_rcnn_auc = history['val_roc_auc']\n",
    "                                early_rcnn_loss = history['loss']\n",
    "                                early_best_rcnn_model = early_RCNN\n",
    "                                early_rcnn_values = { 'batch_size': b, 'activation': act, 'neurons': n, 'kernel_size': s, 'kernel_initializer': init, 'dropout': float(\"inf\") }"
   ]
  },
  {
   "cell_type": "markdown",
   "metadata": {},
   "source": [
    "## 3. Late Fusion - Fusion is performed at decision level\n",
    "\n",
    "In late fusion, I test two approaches, in both uni-modal classifiers are trained individually, and then either: \n",
    "\n",
    "- Their final dense (decision) layer is concatenated to produce the final prediction; or \n",
    "\n",
    "- Ensemble the uni-modal classifiers.\n",
    "\n",
    "Just as with early fusion, we have the issue that the face modality is missing about half of the times and therefore, I can only use late fusion if both modalities are present."
   ]
  },
  {
   "cell_type": "code",
   "execution_count": 48,
   "metadata": {},
   "outputs": [
    {
     "name": "stdout",
     "output_type": "stream",
     "text": [
      "(509, 1, 350, 38) (509, 4)\n",
      "(88, 1, 350, 38) (88, 4)\n"
     ]
    }
   ],
   "source": [
    "body_X_train, body_X_test, y_train, y_test = load_latefusion_dataset('processed', 'skeleton')\n",
    "body_X = body_X_train.copy()\n",
    "y = y_train.copy()\n",
    "\n",
    "print(body_X_train.shape, y_train.shape)\n",
    "print(body_X_test.shape, y_test.shape)\n",
    "\n",
    "n_length, body_features, body_outputs = body_X_train.shape[2], body_X_train.shape[-1], y_train.shape[1]"
   ]
  },
  {
   "cell_type": "code",
   "execution_count": 50,
   "metadata": {},
   "outputs": [],
   "source": [
    "umild, lmoderate, lmild, umoderate = np.sum(y_train, axis=0)\n",
    "total = umild + lmoderate + lmild + umoderate\n",
    "\n",
    "weight_for_0 = (1 / umild) * (total / 2.0)\n",
    "weight_for_1 = (1 / lmoderate) * (total / 2.0)\n",
    "weight_for_2 = (1 / lmild) * (total / 2.0)\n",
    "weight_for_3 = (1 / umoderate) * (total / 2.0)\n",
    "\n",
    "class_weight = {0: weight_for_0, 1: weight_for_1, 2: weight_for_2, 3: weight_for_3}"
   ]
  },
  {
   "cell_type": "markdown",
   "metadata": {},
   "source": [
    "### BiLSTM (concatenate decision layer)"
   ]
  },
  {
   "cell_type": "code",
   "execution_count": null,
   "metadata": {},
   "outputs": [],
   "source": [
    "late_best_biconv_acc = 0.0\n",
    "late_best_biconv_auc = 0.0\n",
    "late_biconv_loss = float(\"inf\")\n",
    "late_best_biconv_model = None\n",
    "late_biconv_values = { 'batch_size': 0, 'activation': '', 'neurons': 0, 'kernel_size': 0, 'kernel_initializer': '', 'dropout': float(\"inf\") }"
   ]
  },
  {
   "cell_type": "code",
   "execution_count": null,
   "metadata": {},
   "outputs": [],
   "source": [
    "for b in batch_sizes:\n",
    "    for act in activation:\n",
    "        for n in neurons:\n",
    "            for s in kernel_size:\n",
    "                for init in kernel_initializer:\n",
    "                    for d in dropout:\n",
    "                        print('Batch size', b, 'Activation', act, 'Neurons', n, 'Kernel size', s, 'Kernel initializer', init, 'Dropout', d)\n",
    "                        for train_index, val_index in kf.split(body_X):\n",
    "                            body_X_train, body_X_val = body_X[train_index], body_X[val_index]\n",
    "                            face_X_train, face_X_val = face_X[train_index], face_X[val_index]\n",
    "                            y_train, y_val = y[train_index], y[val_index]\n",
    "                            late_biLSTM = build_fusioned_biLSTM(body_features, face_features, n_length, body_outputs, neurons=n, kernel_size=s, activation=act, kernel_initializer=init, dropout=d)\n",
    "                            history = train_fusioned(late_biLSTM, body_X_train, face_X_train, y_train, body_X_val, face_X_val, y_val, epochs=epochs, batch_size=b, class_weight=class_weight)\n",
    "                            if (history['val_accuracy'] > late_best_biconv_acc) and (history['val_roc_auc'] > late_best_biconv_auc):\n",
    "                                late_best_biconv_acc = history['val_accuracy']\n",
    "                                late_best_biconv_auc = history['val_roc_auc']\n",
    "                                late_biconv_loss = history['loss']\n",
    "                                late_best_biconv_model = late_biLSTM\n",
    "                                late_biconv_values = { 'batch_size': b, 'activation': act, 'neurons': n, 'kernel_size': s, 'kernel_initializer': init, 'dropout': float(\"inf\") }"
   ]
  },
  {
   "cell_type": "markdown",
   "metadata": {},
   "source": [
    "### CNN+LSTM (concatenate decision layer)"
   ]
  },
  {
   "cell_type": "code",
   "execution_count": null,
   "metadata": {},
   "outputs": [],
   "source": [
    "late_best_cnn_acc = 0.0\n",
    "late_best_cnn_auc = 0.0\n",
    "late_cnn_loss = float(\"inf\")\n",
    "late_best_cnn_model = None\n",
    "late_cnn_values = { 'batch_size': 0, 'activation': '', 'neurons': 0, 'kernel_size': 0, 'kernel_initializer': '', 'dropout': float(\"inf\") }"
   ]
  },
  {
   "cell_type": "code",
   "execution_count": 52,
   "metadata": {},
   "outputs": [
    {
     "name": "stdout",
     "output_type": "stream",
     "text": [
      "Epoch 1/15\n",
      "11/11 - 48s - loss: 3.0473 - accuracy: 0.4631 - auc_165: 0.7221 - precision_165: 0.0000e+00 - recall_165: 0.0000e+00 - f1_score: 0.2059 - val_loss: 1.1717 - val_accuracy: 0.4706 - val_auc_165: 0.7710 - val_precision_165: 0.0000e+00 - val_recall_165: 0.0000e+00 - val_f1_score: 0.1600 - 48s/epoch - 4s/step\n",
      "Epoch 2/15\n",
      "11/11 - 1s - loss: 3.2784 - accuracy: 0.4602 - auc_165: 0.7269 - precision_165: 0.0000e+00 - recall_165: 0.0000e+00 - f1_score: 0.1810 - val_loss: 1.3166 - val_accuracy: 0.2588 - val_auc_165: 0.5635 - val_precision_165: 0.0000e+00 - val_recall_165: 0.0000e+00 - val_f1_score: 0.1310 - 544ms/epoch - 49ms/step\n",
      "Epoch 3/15\n",
      "11/11 - 1s - loss: 2.9625 - accuracy: 0.3658 - auc_165: 0.6317 - precision_165: 0.0000e+00 - recall_165: 0.0000e+00 - f1_score: 0.1898 - val_loss: 1.2921 - val_accuracy: 0.2647 - val_auc_165: 0.5667 - val_precision_165: 0.0000e+00 - val_recall_165: 0.0000e+00 - val_f1_score: 0.1324 - 618ms/epoch - 56ms/step\n",
      "Epoch 4/15\n",
      "11/11 - 1s - loss: 2.8686 - accuracy: 0.3717 - auc_165: 0.6825 - precision_165: 0.0000e+00 - recall_165: 0.0000e+00 - f1_score: 0.1651 - val_loss: 1.2372 - val_accuracy: 0.2941 - val_auc_165: 0.6331 - val_precision_165: 0.0000e+00 - val_recall_165: 0.0000e+00 - val_f1_score: 0.1397 - 576ms/epoch - 52ms/step\n",
      "Epoch 5/15\n",
      "11/11 - 1s - loss: 2.7873 - accuracy: 0.3982 - auc_165: 0.7192 - precision_165: 0.0000e+00 - recall_165: 0.0000e+00 - f1_score: 0.1719 - val_loss: 1.2320 - val_accuracy: 0.2941 - val_auc_165: 0.6416 - val_precision_165: 0.0000e+00 - val_recall_165: 0.0000e+00 - val_f1_score: 0.1404 - 584ms/epoch - 53ms/step\n",
      "Epoch 6/15\n",
      "11/11 - 1s - loss: 2.7565 - accuracy: 0.2684 - auc_165: 0.6156 - precision_165: 0.0000e+00 - recall_165: 0.0000e+00 - f1_score: 0.1518 - val_loss: 1.3102 - val_accuracy: 0.2529 - val_auc_165: 0.5413 - val_precision_165: 0.0000e+00 - val_recall_165: 0.0000e+00 - val_f1_score: 0.1474 - 609ms/epoch - 55ms/step\n",
      "Epoch 7/15\n",
      "11/11 - 1s - loss: 2.6498 - accuracy: 0.3599 - auc_165: 0.6344 - precision_165: 0.0000e+00 - recall_165: 0.0000e+00 - f1_score: 0.2394 - val_loss: 1.2170 - val_accuracy: 0.2941 - val_auc_165: 0.6597 - val_precision_165: 0.0000e+00 - val_recall_165: 0.0000e+00 - val_f1_score: 0.1374 - 576ms/epoch - 52ms/step\n",
      "Epoch 8/15\n",
      "11/11 - 1s - loss: 5.3270 - accuracy: 0.5487 - auc_165: 0.8098 - precision_165: 0.6562 - recall_165: 0.0619 - f1_score: 0.2162 - val_loss: 1.2842 - val_accuracy: 0.1941 - val_auc_165: 0.6011 - val_precision_165: 0.0000e+00 - val_recall_165: 0.0000e+00 - val_f1_score: 0.1702 - 617ms/epoch - 56ms/step\n",
      "Epoch 9/15\n",
      "11/11 - 1s - loss: 2.7826 - accuracy: 0.0737 - auc_165: 0.3350 - precision_165: 0.0244 - recall_165: 0.0029 - f1_score: 0.0899 - val_loss: 1.7501 - val_accuracy: 0.0059 - val_auc_165: 0.2648 - val_precision_165: 0.0000e+00 - val_recall_165: 0.0000e+00 - val_f1_score: 0.0152 - 563ms/epoch - 51ms/step\n",
      "Epoch 10/15\n",
      "11/11 - 1s - loss: 2.8653 - accuracy: 0.0383 - auc_165: 0.3060 - precision_165: 0.0165 - recall_165: 0.0059 - f1_score: 0.0566 - val_loss: 1.5886 - val_accuracy: 0.2412 - val_auc_165: 0.4258 - val_precision_165: 0.0000e+00 - val_recall_165: 0.0000e+00 - val_f1_score: 0.1430 - 619ms/epoch - 56ms/step\n",
      "Epoch 11/15\n",
      "11/11 - 1s - loss: 2.8231 - accuracy: 0.4012 - auc_165: 0.6368 - precision_165: 0.0345 - recall_165: 0.0029 - f1_score: 0.2176 - val_loss: 1.2604 - val_accuracy: 0.3118 - val_auc_165: 0.6569 - val_precision_165: 0.0000e+00 - val_recall_165: 0.0000e+00 - val_f1_score: 0.1432 - 600ms/epoch - 55ms/step\n"
     ]
    },
    {
     "data": {
      "image/png": "[encoded data removed]",
      "text/plain": [
       "<Figure size 432x288 with 1 Axes>"
      ]
     },
     "metadata": {
      "needs_background": "light"
     },
     "output_type": "display_data"
    },
    {
     "name": "stdout",
     "output_type": "stream",
     "text": [
      "Epoch 1/15\n",
      "11/11 - 34s - loss: 2.5802 - accuracy: 0.1003 - auc_166: 0.5526 - precision_166: 0.0000e+00 - recall_166: 0.0000e+00 - f1_score: 0.0590 - val_loss: 1.2821 - val_accuracy: 0.0941 - val_auc_166: 0.5246 - val_precision_166: 0.0000e+00 - val_recall_166: 0.0000e+00 - val_f1_score: 0.0430 - 34s/epoch - 3s/step\n",
      "Epoch 2/15\n",
      "11/11 - 1s - loss: 2.6582 - accuracy: 0.3245 - auc_166: 0.6614 - precision_166: 0.0000e+00 - recall_166: 0.0000e+00 - f1_score: 0.2026 - val_loss: 1.2511 - val_accuracy: 0.5059 - val_auc_166: 0.8002 - val_precision_166: 0.0000e+00 - val_recall_166: 0.0000e+00 - val_f1_score: 0.2590 - 605ms/epoch - 55ms/step\n",
      "Epoch 3/15\n",
      "11/11 - 1s - loss: 2.5845 - accuracy: 0.4779 - auc_166: 0.7184 - precision_166: 0.0000e+00 - recall_166: 0.0000e+00 - f1_score: 0.2547 - val_loss: 1.2887 - val_accuracy: 0.4706 - val_auc_166: 0.6734 - val_precision_166: 0.0000e+00 - val_recall_166: 0.0000e+00 - val_f1_score: 0.2851 - 622ms/epoch - 57ms/step\n",
      "Epoch 4/15\n",
      "11/11 - 1s - loss: 2.5451 - accuracy: 0.4808 - auc_166: 0.7106 - precision_166: 0.0000e+00 - recall_166: 0.0000e+00 - f1_score: 0.2545 - val_loss: 1.2723 - val_accuracy: 0.4882 - val_auc_166: 0.6992 - val_precision_166: 0.0000e+00 - val_recall_166: 0.0000e+00 - val_f1_score: 0.2582 - 578ms/epoch - 53ms/step\n",
      "Epoch 5/15\n",
      "11/11 - 1s - loss: 2.4900 - accuracy: 0.5015 - auc_166: 0.7183 - precision_166: 0.0000e+00 - recall_166: 0.0000e+00 - f1_score: 0.2626 - val_loss: 1.2551 - val_accuracy: 0.4824 - val_auc_166: 0.7063 - val_precision_166: 0.0000e+00 - val_recall_166: 0.0000e+00 - val_f1_score: 0.2532 - 588ms/epoch - 53ms/step\n",
      "Epoch 6/15\n",
      "11/11 - 1s - loss: 2.4489 - accuracy: 0.5044 - auc_166: 0.7009 - precision_166: 0.0000e+00 - recall_166: 0.0000e+00 - f1_score: 0.3056 - val_loss: 1.2310 - val_accuracy: 0.4824 - val_auc_166: 0.7055 - val_precision_166: 0.0000e+00 - val_recall_166: 0.0000e+00 - val_f1_score: 0.2524 - 583ms/epoch - 53ms/step\n",
      "Epoch 7/15\n",
      "11/11 - 1s - loss: 2.4060 - accuracy: 0.4838 - auc_166: 0.6746 - precision_166: 0.0000e+00 - recall_166: 0.0000e+00 - f1_score: 0.2914 - val_loss: 1.2203 - val_accuracy: 0.4882 - val_auc_166: 0.6773 - val_precision_166: 0.0000e+00 - val_recall_166: 0.0000e+00 - val_f1_score: 0.2542 - 604ms/epoch - 55ms/step\n",
      "Epoch 8/15\n",
      "11/11 - 1s - loss: 2.3875 - accuracy: 0.5192 - auc_166: 0.7188 - precision_166: 0.0000e+00 - recall_166: 0.0000e+00 - f1_score: 0.2838 - val_loss: 1.1629 - val_accuracy: 0.4824 - val_auc_166: 0.7481 - val_precision_166: 0.0000e+00 - val_recall_166: 0.0000e+00 - val_f1_score: 0.2524 - 573ms/epoch - 52ms/step\n",
      "Epoch 9/15\n",
      "11/11 - 1s - loss: 2.3519 - accuracy: 0.5192 - auc_166: 0.7150 - precision_166: 0.0000e+00 - recall_166: 0.0000e+00 - f1_score: 0.3072 - val_loss: 1.1932 - val_accuracy: 0.4941 - val_auc_166: 0.7043 - val_precision_166: 0.0000e+00 - val_recall_166: 0.0000e+00 - val_f1_score: 0.2619 - 578ms/epoch - 53ms/step\n",
      "Epoch 10/15\n",
      "11/11 - 1s - loss: 2.3089 - accuracy: 0.5133 - auc_166: 0.7224 - precision_166: 0.5000 - recall_166: 0.0029 - f1_score: 0.3031 - val_loss: 1.1695 - val_accuracy: 0.4824 - val_auc_166: 0.7165 - val_precision_166: 0.5000 - val_recall_166: 0.0059 - val_f1_score: 0.2572 - 575ms/epoch - 52ms/step\n",
      "Epoch 11/15\n",
      "11/11 - 1s - loss: 2.2659 - accuracy: 0.5162 - auc_166: 0.7367 - precision_166: 0.8750 - recall_166: 0.0206 - f1_score: 0.3155 - val_loss: 1.0856 - val_accuracy: 0.4706 - val_auc_166: 0.7667 - val_precision_166: 0.2000 - val_recall_166: 0.0118 - val_f1_score: 0.2530 - 574ms/epoch - 52ms/step\n",
      "Epoch 12/15\n",
      "11/11 - 1s - loss: 3.6625 - accuracy: 0.2566 - auc_166: 0.6334 - precision_166: 0.2571 - recall_166: 0.0531 - f1_score: 0.1775 - val_loss: 1.1776 - val_accuracy: 0.3353 - val_auc_166: 0.7390 - val_precision_166: 0.3590 - val_recall_166: 0.3294 - val_f1_score: 0.1284 - 556ms/epoch - 51ms/step\n",
      "Epoch 13/15\n",
      "11/11 - 1s - loss: 2.8775 - accuracy: 0.3953 - auc_166: 0.7305 - precision_166: 0.5161 - recall_166: 0.1416 - f1_score: 0.1562 - val_loss: 1.4019 - val_accuracy: 0.1176 - val_auc_166: 0.3575 - val_precision_166: 0.0000e+00 - val_recall_166: 0.0000e+00 - val_f1_score: 0.0916 - 577ms/epoch - 52ms/step\n",
      "Epoch 14/15\n",
      "11/11 - 1s - loss: 2.6319 - accuracy: 0.0796 - auc_166: 0.2917 - precision_166: 0.0000e+00 - recall_166: 0.0000e+00 - f1_score: 0.1093 - val_loss: 1.4108 - val_accuracy: 0.1118 - val_auc_166: 0.4777 - val_precision_166: 0.0000e+00 - val_recall_166: 0.0000e+00 - val_f1_score: 0.0618 - 574ms/epoch - 52ms/step\n",
      "Epoch 15/15\n",
      "11/11 - 1s - loss: 2.6843 - accuracy: 0.1947 - auc_166: 0.6250 - precision_166: 0.0000e+00 - recall_166: 0.0000e+00 - f1_score: 0.1270 - val_loss: 1.2959 - val_accuracy: 0.1588 - val_auc_166: 0.6125 - val_precision_166: 0.0000e+00 - val_recall_166: 0.0000e+00 - val_f1_score: 0.1021 - 593ms/epoch - 54ms/step\n"
     ]
    },
    {
     "data": {
      "image/png": "[encoded data removed]",
      "text/plain": [
       "<Figure size 432x288 with 1 Axes>"
      ]
     },
     "metadata": {
      "needs_background": "light"
     },
     "output_type": "display_data"
    },
    {
     "name": "stdout",
     "output_type": "stream",
     "text": [
      "Epoch 1/15\n",
      "11/11 - 34s - loss: 2.5801 - accuracy: 0.3647 - auc_167: 0.6876 - precision_167: 0.0000e+00 - recall_167: 0.0000e+00 - f1_score: 0.1962 - val_loss: 1.2131 - val_accuracy: 0.5503 - val_auc_167: 0.7778 - val_precision_167: 0.0000e+00 - val_recall_167: 0.0000e+00 - val_f1_score: 0.1775 - 34s/epoch - 3s/step\n",
      "Epoch 2/15\n",
      "11/11 - 1s - loss: 2.5632 - accuracy: 0.3794 - auc_167: 0.7201 - precision_167: 0.0000e+00 - recall_167: 0.0000e+00 - f1_score: 0.2047 - val_loss: 1.2222 - val_accuracy: 0.2485 - val_auc_167: 0.6845 - val_precision_167: 0.0000e+00 - val_recall_167: 0.0000e+00 - val_f1_score: 0.1597 - 546ms/epoch - 50ms/step\n",
      "Epoch 3/15\n",
      "11/11 - 1s - loss: 2.6510 - accuracy: 0.3735 - auc_167: 0.7046 - precision_167: 0.0000e+00 - recall_167: 0.0000e+00 - f1_score: 0.2149 - val_loss: 1.2332 - val_accuracy: 0.4320 - val_auc_167: 0.7052 - val_precision_167: 0.0000e+00 - val_recall_167: 0.0000e+00 - val_f1_score: 0.2698 - 595ms/epoch - 54ms/step\n",
      "Epoch 4/15\n",
      "11/11 - 1s - loss: 2.4836 - accuracy: 0.3588 - auc_167: 0.6872 - precision_167: 0.0000e+00 - recall_167: 0.0000e+00 - f1_score: 0.2299 - val_loss: 1.2109 - val_accuracy: 0.4260 - val_auc_167: 0.7245 - val_precision_167: 0.0000e+00 - val_recall_167: 0.0000e+00 - val_f1_score: 0.2332 - 601ms/epoch - 55ms/step\n",
      "Epoch 5/15\n",
      "11/11 - 1s - loss: 2.5519 - accuracy: 0.3706 - auc_167: 0.7091 - precision_167: 0.0000e+00 - recall_167: 0.0000e+00 - f1_score: 0.2139 - val_loss: 1.1963 - val_accuracy: 0.3905 - val_auc_167: 0.7028 - val_precision_167: 0.0000e+00 - val_recall_167: 0.0000e+00 - val_f1_score: 0.1954 - 525ms/epoch - 48ms/step\n",
      "Epoch 6/15\n",
      "11/11 - 1s - loss: 2.4342 - accuracy: 0.3324 - auc_167: 0.6784 - precision_167: 0.0000e+00 - recall_167: 0.0000e+00 - f1_score: 0.2177 - val_loss: 1.2046 - val_accuracy: 0.4379 - val_auc_167: 0.7027 - val_precision_167: 0.0000e+00 - val_recall_167: 0.0000e+00 - val_f1_score: 0.2693 - 580ms/epoch - 53ms/step\n",
      "Epoch 7/15\n",
      "11/11 - 1s - loss: 2.4148 - accuracy: 0.3882 - auc_167: 0.6817 - precision_167: 0.0000e+00 - recall_167: 0.0000e+00 - f1_score: 0.2469 - val_loss: 1.1677 - val_accuracy: 0.4142 - val_auc_167: 0.7091 - val_precision_167: 0.0000e+00 - val_recall_167: 0.0000e+00 - val_f1_score: 0.2196 - 533ms/epoch - 48ms/step\n",
      "Epoch 8/15\n",
      "11/11 - 1s - loss: 2.9204 - accuracy: 0.4794 - auc_167: 0.7380 - precision_167: 0.0000e+00 - recall_167: 0.0000e+00 - f1_score: 0.2854 - val_loss: 1.1603 - val_accuracy: 0.4615 - val_auc_167: 0.6875 - val_precision_167: 0.0000e+00 - val_recall_167: 0.0000e+00 - val_f1_score: 0.2897 - 596ms/epoch - 54ms/step\n",
      "Epoch 9/15\n",
      "11/11 - 1s - loss: 2.4450 - accuracy: 0.3088 - auc_167: 0.6203 - precision_167: 0.6667 - recall_167: 0.0059 - f1_score: 0.2253 - val_loss: 1.3577 - val_accuracy: 0.1834 - val_auc_167: 0.5212 - val_precision_167: 0.0000e+00 - val_recall_167: 0.0000e+00 - val_f1_score: 0.1204 - 525ms/epoch - 48ms/step\n",
      "Epoch 10/15\n",
      "11/11 - 1s - loss: 2.4948 - accuracy: 0.1412 - auc_167: 0.5501 - precision_167: 0.6667 - recall_167: 0.0059 - f1_score: 0.1219 - val_loss: 1.3021 - val_accuracy: 0.3254 - val_auc_167: 0.6426 - val_precision_167: 0.0000e+00 - val_recall_167: 0.0000e+00 - val_f1_score: 0.2390 - 596ms/epoch - 54ms/step\n",
      "Epoch 11/15\n",
      "11/11 - 1s - loss: 2.4149 - accuracy: 0.3176 - auc_167: 0.6475 - precision_167: 0.6667 - recall_167: 0.0059 - f1_score: 0.2410 - val_loss: 1.1953 - val_accuracy: 0.3905 - val_auc_167: 0.6825 - val_precision_167: 0.0000e+00 - val_recall_167: 0.0000e+00 - val_f1_score: 0.2069 - 610ms/epoch - 55ms/step\n",
      "Epoch 12/15\n",
      "11/11 - 1s - loss: 2.8732 - accuracy: 0.4706 - auc_167: 0.7474 - precision_167: 0.9091 - recall_167: 0.0294 - f1_score: 0.2743 - val_loss: 1.1278 - val_accuracy: 0.4379 - val_auc_167: 0.7435 - val_precision_167: 0.2500 - val_recall_167: 0.0118 - val_f1_score: 0.2748 - 543ms/epoch - 49ms/step\n",
      "Epoch 13/15\n",
      "11/11 - 1s - loss: 2.3361 - accuracy: 0.2765 - auc_167: 0.6912 - precision_167: 0.5588 - recall_167: 0.0559 - f1_score: 0.2014 - val_loss: 1.2726 - val_accuracy: 0.2308 - val_auc_167: 0.6610 - val_precision_167: 0.4583 - val_recall_167: 0.0651 - val_f1_score: 0.1180 - 597ms/epoch - 54ms/step\n",
      "Epoch 14/15\n",
      "11/11 - 1s - loss: 2.3845 - accuracy: 0.1912 - auc_167: 0.6178 - precision_167: 0.5938 - recall_167: 0.0559 - f1_score: 0.1388 - val_loss: 1.2822 - val_accuracy: 0.3905 - val_auc_167: 0.6616 - val_precision_167: 0.4500 - val_recall_167: 0.0533 - val_f1_score: 0.2417 - 531ms/epoch - 48ms/step\n",
      "Epoch 15/15\n",
      "11/11 - 1s - loss: 2.3340 - accuracy: 0.3794 - auc_167: 0.6674 - precision_167: 0.6207 - recall_167: 0.0529 - f1_score: 0.2824 - val_loss: 1.2083 - val_accuracy: 0.4142 - val_auc_167: 0.6837 - val_precision_167: 0.4500 - val_recall_167: 0.0533 - val_f1_score: 0.2442 - 571ms/epoch - 52ms/step\n"
     ]
    },
    {
     "data": {
      "image/png": "[encoded data removed]",
      "text/plain": [
       "<Figure size 432x288 with 1 Axes>"
      ]
     },
     "metadata": {
      "needs_background": "light"
     },
     "output_type": "display_data"
    }
   ],
   "source": [
    "for b in batch_sizes:\n",
    "    for act in activation:\n",
    "        for n in neurons:\n",
    "            for s in kernel_size:\n",
    "                for init in kernel_initializer:\n",
    "                    for d in dropout:\n",
    "                        print('Batch size', b, 'Activation', act, 'Neurons', n, 'Kernel size', s, 'Kernel initializer', init, 'Dropout', d)\n",
    "                        for train_index, val_index in kf.split(body_X):\n",
    "                            body_X_train, body_X_val = body_X[train_index], body_X[val_index]\n",
    "                            face_X_train, face_X_val = face_X[train_index], face_X[val_index]\n",
    "                            y_train, y_val = y[train_index], y[val_index]\n",
    "                            late_CNN = build_fusioned_CNN(body_features, face_features, n_length, body_outputs, neurons=n, kernel_size=s, activation=act, kernel_initializer=init, dropout=d)\n",
    "                            history = train_fusioned(late_CNN, body_X_train, face_X_train, y_train, body_X_val, face_X_val, y_val, epochs=epochs, batch_size=b, class_weight=class_weight)\n",
    "                            if (history['val_accuracy'] > late_best_cnn_acc) and (history['val_roc_auc'] > late_best_cnn_auc):\n",
    "                                late_best_cnn_acc = history['val_accuracy']\n",
    "                                late_best_cnn_auc = history['val_roc_auc']\n",
    "                                late_cnn_loss = history['loss']\n",
    "                                late_best_cnn_model = late_CNN\n",
    "                                late_cnn_values = { 'batch_size': b, 'activation': act, 'neurons': n, 'kernel_size': s, 'kernel_initializer': init, 'dropout': float(\"inf\") }"
   ]
  },
  {
   "cell_type": "markdown",
   "metadata": {},
   "source": [
    "### ConvLSTM (concatenate decision layer)"
   ]
  },
  {
   "cell_type": "code",
   "execution_count": null,
   "metadata": {},
   "outputs": [],
   "source": [
    "late_best_lstm_acc = 0.0\n",
    "late_best_lstm_auc = 0.0\n",
    "late_lstm_loss = float(\"inf\")\n",
    "late_best_lstm_model = None\n",
    "late_lstm_values = { 'batch_size': 0, 'activation': '', 'neurons': 0, 'kernel_size': 0, 'kernel_initializer': '', 'dropout': float(\"inf\") }"
   ]
  },
  {
   "cell_type": "code",
   "execution_count": 53,
   "metadata": {},
   "outputs": [
    {
     "name": "stdout",
     "output_type": "stream",
     "text": [
      "Epoch 1/15\n",
      "11/11 - 48s - loss: 15.8208 - accuracy: 0.3215 - auc_168: 0.6316 - precision_168: 0.3208 - recall_168: 0.3009 - f1_score: 0.2229 - val_loss: 1.1402 - val_accuracy: 0.4412 - val_auc_168: 0.7106 - val_precision_168: 0.4167 - val_recall_168: 0.2059 - val_f1_score: 0.1686 - 48s/epoch - 4s/step\n",
      "Epoch 2/15\n",
      "11/11 - 2s - loss: 4.7793 - accuracy: 0.3481 - auc_168: 0.6497 - precision_168: 0.3463 - recall_168: 0.2094 - f1_score: 0.2324 - val_loss: 1.6741 - val_accuracy: 0.1529 - val_auc_168: 0.4921 - val_precision_168: 0.3000 - val_recall_168: 0.0176 - val_f1_score: 0.0992 - 2s/epoch - 194ms/step\n",
      "Epoch 3/15\n",
      "11/11 - 2s - loss: 3.1821 - accuracy: 0.3835 - auc_168: 0.7140 - precision_168: 0.5333 - recall_168: 0.1180 - f1_score: 0.2640 - val_loss: 1.3077 - val_accuracy: 0.2588 - val_auc_168: 0.5767 - val_precision_168: 0.3333 - val_recall_168: 0.0235 - val_f1_score: 0.1778 - 2s/epoch - 188ms/step\n",
      "Epoch 4/15\n",
      "11/11 - 2s - loss: 2.9584 - accuracy: 0.3392 - auc_168: 0.6041 - precision_168: 0.5882 - recall_168: 0.0885 - f1_score: 0.2383 - val_loss: 1.3209 - val_accuracy: 0.2294 - val_auc_168: 0.5261 - val_precision_168: 0.6154 - val_recall_168: 0.0941 - val_f1_score: 0.1655 - 2s/epoch - 195ms/step\n",
      "Epoch 5/15\n",
      "11/11 - 2s - loss: 2.8624 - accuracy: 0.3038 - auc_168: 0.6100 - precision_168: 0.5758 - recall_168: 0.0560 - f1_score: 0.2202 - val_loss: 1.2609 - val_accuracy: 0.3706 - val_auc_168: 0.7033 - val_precision_168: 0.4935 - val_recall_168: 0.2235 - val_f1_score: 0.2023 - 2s/epoch - 197ms/step\n",
      "Epoch 6/15\n",
      "11/11 - 2s - loss: 2.7859 - accuracy: 0.3245 - auc_168: 0.6494 - precision_168: 0.6538 - recall_168: 0.1504 - f1_score: 0.2415 - val_loss: 1.3144 - val_accuracy: 0.1647 - val_auc_168: 0.5178 - val_precision_168: 0.4348 - val_recall_168: 0.0588 - val_f1_score: 0.1432 - 2s/epoch - 189ms/step\n",
      "Epoch 7/15\n",
      "11/11 - 2s - loss: 2.7508 - accuracy: 0.3274 - auc_168: 0.6367 - precision_168: 0.6076 - recall_168: 0.1416 - f1_score: 0.2586 - val_loss: 1.3293 - val_accuracy: 0.1588 - val_auc_168: 0.5346 - val_precision_168: 0.2500 - val_recall_168: 0.0412 - val_f1_score: 0.1547 - 2s/epoch - 195ms/step\n",
      "Epoch 8/15\n",
      "11/11 - 2s - loss: 2.7942 - accuracy: 0.3481 - auc_168: 0.6994 - precision_168: 0.6105 - recall_168: 0.1711 - f1_score: 0.2504 - val_loss: 1.2824 - val_accuracy: 0.2059 - val_auc_168: 0.5616 - val_precision_168: 0.5385 - val_recall_168: 0.0824 - val_f1_score: 0.1824 - 2s/epoch - 192ms/step\n",
      "Epoch 9/15\n",
      "11/11 - 2s - loss: 2.6574 - accuracy: 0.2802 - auc_168: 0.6326 - precision_168: 0.5146 - recall_168: 0.1563 - f1_score: 0.2029 - val_loss: 1.2414 - val_accuracy: 0.2941 - val_auc_168: 0.6468 - val_precision_168: 0.4808 - val_recall_168: 0.1471 - val_f1_score: 0.1814 - 2s/epoch - 195ms/step\n",
      "Epoch 10/15\n",
      "11/11 - 2s - loss: 2.6189 - accuracy: 0.3894 - auc_168: 0.7015 - precision_168: 0.6528 - recall_168: 0.1386 - f1_score: 0.3077 - val_loss: 1.4732 - val_accuracy: 0.1941 - val_auc_168: 0.4908 - val_precision_168: 0.4667 - val_recall_168: 0.1235 - val_f1_score: 0.1551 - 2s/epoch - 192ms/step\n",
      "Epoch 11/15\n",
      "11/11 - 2s - loss: 2.5000 - accuracy: 0.3510 - auc_168: 0.6383 - precision_168: 0.7426 - recall_168: 0.2212 - f1_score: 0.2777 - val_loss: 1.4358 - val_accuracy: 0.2471 - val_auc_168: 0.5504 - val_precision_168: 0.4286 - val_recall_168: 0.1059 - val_f1_score: 0.2084 - 2s/epoch - 193ms/step\n"
     ]
    },
    {
     "data": {
      "image/png": "[encoded data removed]",
      "text/plain": [
       "<Figure size 432x288 with 1 Axes>"
      ]
     },
     "metadata": {
      "needs_background": "light"
     },
     "output_type": "display_data"
    },
    {
     "name": "stdout",
     "output_type": "stream",
     "text": [
      "Epoch 1/15\n",
      "11/11 - 56s - loss: 6.0979 - accuracy: 0.2684 - auc_169: 0.5815 - precision_169: 0.2181 - recall_169: 0.1563 - f1_score: 0.2170 - val_loss: 1.8915 - val_accuracy: 0.4412 - val_auc_169: 0.6544 - val_precision_169: 0.6316 - val_recall_169: 0.2118 - val_f1_score: 0.2322 - 56s/epoch - 5s/step\n",
      "Epoch 2/15\n",
      "11/11 - 2s - loss: 3.0811 - accuracy: 0.2507 - auc_169: 0.5805 - precision_169: 0.3889 - recall_169: 0.0413 - f1_score: 0.1754 - val_loss: 1.2573 - val_accuracy: 0.4176 - val_auc_169: 0.6656 - val_precision_169: 0.0000e+00 - val_recall_169: 0.0000e+00 - val_f1_score: 0.2280 - 2s/epoch - 186ms/step\n",
      "Epoch 3/15\n",
      "11/11 - 2s - loss: 2.5658 - accuracy: 0.4661 - auc_169: 0.7368 - precision_169: 0.8889 - recall_169: 0.0236 - f1_score: 0.2382 - val_loss: 1.1687 - val_accuracy: 0.5588 - val_auc_169: 0.7874 - val_precision_169: 0.2857 - val_recall_169: 0.0118 - val_f1_score: 0.2373 - 2s/epoch - 190ms/step\n",
      "Epoch 4/15\n",
      "11/11 - 2s - loss: 2.4538 - accuracy: 0.3097 - auc_169: 0.6814 - precision_169: 0.8824 - recall_169: 0.0442 - f1_score: 0.2069 - val_loss: 1.3149 - val_accuracy: 0.3588 - val_auc_169: 0.5923 - val_precision_169: 0.1765 - val_recall_169: 0.0176 - val_f1_score: 0.1857 - 2s/epoch - 187ms/step\n",
      "Epoch 5/15\n",
      "11/11 - 2s - loss: 2.3878 - accuracy: 0.4631 - auc_169: 0.7382 - precision_169: 0.6441 - recall_169: 0.1121 - f1_score: 0.2784 - val_loss: 1.2084 - val_accuracy: 0.2765 - val_auc_169: 0.6806 - val_precision_169: 0.6429 - val_recall_169: 0.0529 - val_f1_score: 0.1989 - 2s/epoch - 191ms/step\n",
      "Epoch 6/15\n",
      "11/11 - 2s - loss: 2.3901 - accuracy: 0.2684 - auc_169: 0.6990 - precision_169: 0.5610 - recall_169: 0.0678 - f1_score: 0.2056 - val_loss: 1.2046 - val_accuracy: 0.2824 - val_auc_169: 0.6934 - val_precision_169: 0.7500 - val_recall_169: 0.0706 - val_f1_score: 0.2015 - 2s/epoch - 200ms/step\n",
      "Epoch 7/15\n",
      "11/11 - 2s - loss: 2.3636 - accuracy: 0.4395 - auc_169: 0.7645 - precision_169: 0.6463 - recall_169: 0.1563 - f1_score: 0.2960 - val_loss: 1.1822 - val_accuracy: 0.3647 - val_auc_169: 0.7374 - val_precision_169: 0.7667 - val_recall_169: 0.1353 - val_f1_score: 0.2542 - 2s/epoch - 196ms/step\n",
      "Epoch 8/15\n",
      "11/11 - 2s - loss: 2.2816 - accuracy: 0.2566 - auc_169: 0.6528 - precision_169: 0.5063 - recall_169: 0.1180 - f1_score: 0.1942 - val_loss: 1.2373 - val_accuracy: 0.2706 - val_auc_169: 0.6223 - val_precision_169: 0.6250 - val_recall_169: 0.0588 - val_f1_score: 0.1896 - 2s/epoch - 196ms/step\n",
      "Epoch 9/15\n",
      "11/11 - 2s - loss: 2.2233 - accuracy: 0.3156 - auc_169: 0.6911 - precision_169: 0.7586 - recall_169: 0.1298 - f1_score: 0.2717 - val_loss: 1.2141 - val_accuracy: 0.2765 - val_auc_169: 0.6481 - val_precision_169: 0.7368 - val_recall_169: 0.1647 - val_f1_score: 0.2033 - 2s/epoch - 196ms/step\n",
      "Epoch 10/15\n",
      "11/11 - 2s - loss: 2.1190 - accuracy: 0.3215 - auc_169: 0.6985 - precision_169: 0.7080 - recall_169: 0.2360 - f1_score: 0.2829 - val_loss: 1.3594 - val_accuracy: 0.1941 - val_auc_169: 0.6095 - val_precision_169: 0.3833 - val_recall_169: 0.1353 - val_f1_score: 0.1542 - 2s/epoch - 189ms/step\n",
      "Epoch 11/15\n",
      "11/11 - 2s - loss: 2.0735 - accuracy: 0.3835 - auc_169: 0.7442 - precision_169: 0.7481 - recall_169: 0.2979 - f1_score: 0.3269 - val_loss: 1.5827 - val_accuracy: 0.1824 - val_auc_169: 0.5503 - val_precision_169: 0.2982 - val_recall_169: 0.1000 - val_f1_score: 0.1492 - 2s/epoch - 195ms/step\n",
      "Epoch 12/15\n",
      "11/11 - 2s - loss: 2.1298 - accuracy: 0.3215 - auc_169: 0.6926 - precision_169: 0.6131 - recall_169: 0.2478 - f1_score: 0.2795 - val_loss: 1.3890 - val_accuracy: 0.2706 - val_auc_169: 0.6379 - val_precision_169: 0.5085 - val_recall_169: 0.1765 - val_f1_score: 0.2073 - 2s/epoch - 200ms/step\n",
      "Epoch 13/15\n",
      "11/11 - 2s - loss: 2.1075 - accuracy: 0.3628 - auc_169: 0.7226 - precision_169: 0.6772 - recall_169: 0.2537 - f1_score: 0.3290 - val_loss: 1.3106 - val_accuracy: 0.2529 - val_auc_169: 0.6298 - val_precision_169: 0.5484 - val_recall_169: 0.2000 - val_f1_score: 0.2077 - 2s/epoch - 193ms/step\n"
     ]
    },
    {
     "data": {
      "image/png": "[encoded data removed]",
      "text/plain": [
       "<Figure size 432x288 with 1 Axes>"
      ]
     },
     "metadata": {
      "needs_background": "light"
     },
     "output_type": "display_data"
    },
    {
     "name": "stdout",
     "output_type": "stream",
     "text": [
      "Epoch 1/15\n",
      "11/11 - 49s - loss: 11.2686 - accuracy: 0.3382 - auc_170: 0.6382 - precision_170: 0.3708 - recall_170: 0.2912 - f1_score: 0.2270 - val_loss: 1.2353 - val_accuracy: 0.3846 - val_auc_170: 0.7176 - val_precision_170: 0.4250 - val_recall_170: 0.1006 - val_f1_score: 0.2068 - 49s/epoch - 4s/step\n",
      "Epoch 2/15\n",
      "11/11 - 2s - loss: 3.5286 - accuracy: 0.3324 - auc_170: 0.6572 - precision_170: 0.3818 - recall_170: 0.0618 - f1_score: 0.2275 - val_loss: 1.4031 - val_accuracy: 0.3136 - val_auc_170: 0.6052 - val_precision_170: 0.3077 - val_recall_170: 0.0947 - val_f1_score: 0.2300 - 2s/epoch - 189ms/step\n",
      "Epoch 3/15\n",
      "11/11 - 2s - loss: 3.3260 - accuracy: 0.3882 - auc_170: 0.6702 - precision_170: 0.4870 - recall_170: 0.2206 - f1_score: 0.2634 - val_loss: 1.5777 - val_accuracy: 0.3787 - val_auc_170: 0.7371 - val_precision_170: 0.3973 - val_recall_170: 0.3432 - val_f1_score: 0.1751 - 2s/epoch - 187ms/step\n",
      "Epoch 4/15\n",
      "11/11 - 2s - loss: 4.7671 - accuracy: 0.2265 - auc_170: 0.5320 - precision_170: 0.4242 - recall_170: 0.0412 - f1_score: 0.1464 - val_loss: 1.3259 - val_accuracy: 0.3550 - val_auc_170: 0.5698 - val_precision_170: 0.0000e+00 - val_recall_170: 0.0000e+00 - val_f1_score: 0.1310 - 2s/epoch - 192ms/step\n",
      "Epoch 5/15\n",
      "11/11 - 2s - loss: 2.5514 - accuracy: 0.3647 - auc_170: 0.6342 - precision_170: 0.7500 - recall_170: 0.0088 - f1_score: 0.2336 - val_loss: 1.1368 - val_accuracy: 0.5503 - val_auc_170: 0.8055 - val_precision_170: 0.6667 - val_recall_170: 0.0592 - val_f1_score: 0.1775 - 2s/epoch - 186ms/step\n",
      "Epoch 6/15\n",
      "11/11 - 2s - loss: 2.4763 - accuracy: 0.2882 - auc_170: 0.6983 - precision_170: 0.8000 - recall_170: 0.0353 - f1_score: 0.2042 - val_loss: 1.1691 - val_accuracy: 0.4675 - val_auc_170: 0.7434 - val_precision_170: 0.6923 - val_recall_170: 0.0533 - val_f1_score: 0.2722 - 2s/epoch - 189ms/step\n",
      "Epoch 7/15\n",
      "11/11 - 2s - loss: 2.4261 - accuracy: 0.4088 - auc_170: 0.7108 - precision_170: 0.4884 - recall_170: 0.0618 - f1_score: 0.2644 - val_loss: 1.1574 - val_accuracy: 0.4201 - val_auc_170: 0.7676 - val_precision_170: 0.6176 - val_recall_170: 0.1243 - val_f1_score: 0.2168 - 2s/epoch - 200ms/step\n",
      "Epoch 8/15\n",
      "11/11 - 2s - loss: 2.3665 - accuracy: 0.4500 - auc_170: 0.7958 - precision_170: 0.6623 - recall_170: 0.1500 - f1_score: 0.2903 - val_loss: 1.3597 - val_accuracy: 0.1657 - val_auc_170: 0.5409 - val_precision_170: 0.1176 - val_recall_170: 0.0237 - val_f1_score: 0.1218 - 2s/epoch - 190ms/step\n",
      "Epoch 9/15\n",
      "11/11 - 2s - loss: 2.3182 - accuracy: 0.3088 - auc_170: 0.6917 - precision_170: 0.5161 - recall_170: 0.0941 - f1_score: 0.2320 - val_loss: 1.2191 - val_accuracy: 0.3018 - val_auc_170: 0.6881 - val_precision_170: 0.5897 - val_recall_170: 0.1361 - val_f1_score: 0.2070 - 2s/epoch - 191ms/step\n",
      "Epoch 10/15\n",
      "11/11 - 2s - loss: 2.2015 - accuracy: 0.3882 - auc_170: 0.7180 - precision_170: 0.6860 - recall_170: 0.1735 - f1_score: 0.2922 - val_loss: 1.3017 - val_accuracy: 0.2663 - val_auc_170: 0.6353 - val_precision_170: 0.3833 - val_recall_170: 0.1361 - val_f1_score: 0.1924 - 2s/epoch - 200ms/step\n",
      "Epoch 11/15\n",
      "11/11 - 2s - loss: 2.1356 - accuracy: 0.4235 - auc_170: 0.7668 - precision_170: 0.7083 - recall_170: 0.2500 - f1_score: 0.3091 - val_loss: 1.4173 - val_accuracy: 0.2604 - val_auc_170: 0.6332 - val_precision_170: 0.3243 - val_recall_170: 0.1420 - val_f1_score: 0.1874 - 2s/epoch - 188ms/step\n",
      "Epoch 12/15\n",
      "11/11 - 2s - loss: 2.0975 - accuracy: 0.3971 - auc_170: 0.7461 - precision_170: 0.7077 - recall_170: 0.2706 - f1_score: 0.2961 - val_loss: 1.3676 - val_accuracy: 0.3373 - val_auc_170: 0.6792 - val_precision_170: 0.4658 - val_recall_170: 0.2012 - val_f1_score: 0.2216 - 2s/epoch - 191ms/step\n",
      "Epoch 13/15\n",
      "11/11 - 2s - loss: 2.0313 - accuracy: 0.4176 - auc_170: 0.7537 - precision_170: 0.7123 - recall_170: 0.3059 - f1_score: 0.3112 - val_loss: 1.4069 - val_accuracy: 0.3432 - val_auc_170: 0.6869 - val_precision_170: 0.4810 - val_recall_170: 0.2249 - val_f1_score: 0.2184 - 2s/epoch - 197ms/step\n",
      "Epoch 14/15\n",
      "11/11 - 2s - loss: 1.9665 - accuracy: 0.4500 - auc_170: 0.7679 - precision_170: 0.7931 - recall_170: 0.3382 - f1_score: 0.3347 - val_loss: 1.5386 - val_accuracy: 0.3314 - val_auc_170: 0.6841 - val_precision_170: 0.4831 - val_recall_170: 0.2544 - val_f1_score: 0.2212 - 2s/epoch - 190ms/step\n",
      "Epoch 15/15\n",
      "11/11 - 2s - loss: 1.9032 - accuracy: 0.4500 - auc_170: 0.7699 - precision_170: 0.7879 - recall_170: 0.3824 - f1_score: 0.3676 - val_loss: 1.6671 - val_accuracy: 0.3314 - val_auc_170: 0.6592 - val_precision_170: 0.4886 - val_recall_170: 0.2544 - val_f1_score: 0.2375 - 2s/epoch - 192ms/step\n"
     ]
    },
    {
     "data": {
      "image/png": "[encoded data removed]",
      "text/plain": [
       "<Figure size 432x288 with 1 Axes>"
      ]
     },
     "metadata": {
      "needs_background": "light"
     },
     "output_type": "display_data"
    }
   ],
   "source": [
    "for b in batch_sizes:\n",
    "    for act in activation:\n",
    "        for n in neurons:\n",
    "            for s in kernel_size:\n",
    "                for init in kernel_initializer:\n",
    "                    for d in dropout:\n",
    "                        print('Batch size', b, 'Activation', act, 'Neurons', n, 'Kernel size', s, 'Kernel initializer', init, 'Dropout', d)\n",
    "                        for train_index, val_index in kf.split(body_X):\n",
    "                            body_X_train, body_X_val = body_X[train_index], body_X[val_index]\n",
    "                            face_X_train, face_X_val = face_X[train_index], face_X[val_index]\n",
    "                            y_train, y_val = y[train_index], y[val_index]\n",
    "                            late_convLSTM = build_fusioned_convLSTM(body_features, face_features, n_length, body_outputs, neurons=n, kernel_size=s, activation=act, kernel_initializer=init, dropout=d)\n",
    "                            history = train_fusioned(late_convLSTM, body_X_train, face_X_train, y_train, body_X_val, face_X_val, y_val, epochs=epochs, batch_size=b, class_weight=class_weight)\n",
    "                            if (history['val_accuracy'] > late_best_lstm_acc) and (history['val_roc_auc'] > late_best_lstm_auc):\n",
    "                                late_best_lstm_acc = history['val_accuracy']\n",
    "                                late_best_lstm_auc = history['val_roc_auc']\n",
    "                                late_lstm_loss = history['loss']\n",
    "                                late_best_lstm_model = late_convLSTM\n",
    "                                late_lstm_values = { 'batch_size': b, 'activation': act, 'neurons': n, 'kernel_size': s, 'kernel_initializer': init, 'dropout': float(\"inf\") }"
   ]
  },
  {
   "cell_type": "markdown",
   "metadata": {},
   "source": [
    "### RCNN (concatenate decision layer)"
   ]
  },
  {
   "cell_type": "code",
   "execution_count": null,
   "metadata": {},
   "outputs": [],
   "source": [
    "late_best_rcnn_acc = 0.0\n",
    "late_best_rcnn_auc = 0.0\n",
    "late_rcnn_loss = float(\"inf\")\n",
    "late_best_rcnn_model = None\n",
    "late_rcnn_values = { 'batch_size': 0, 'activation': '', 'neurons': 0, 'kernel_size': 0, 'kernel_initializer': '', 'dropout': float(\"inf\") }"
   ]
  },
  {
   "cell_type": "code",
   "execution_count": 54,
   "metadata": {},
   "outputs": [
    {
     "name": "stdout",
     "output_type": "stream",
     "text": [
      "Epoch 1/15\n",
      "11/11 - 11s - loss: 70.0580 - accuracy: 0.3422 - auc_171: 0.5699 - precision_171: 0.3434 - recall_171: 0.3363 - f1_score: 0.2438 - val_loss: 106.4755 - val_accuracy: 0.4706 - val_auc_171: 0.6471 - val_precision_171: 0.4706 - val_recall_171: 0.4706 - val_f1_score: 0.1600 - 11s/epoch - 988ms/step\n",
      "Epoch 2/15\n",
      "11/11 - 0s - loss: 72.5752 - accuracy: 0.4454 - auc_171: 0.6571 - precision_171: 0.4454 - recall_171: 0.4454 - f1_score: 0.2864 - val_loss: 40.3527 - val_accuracy: 0.4059 - val_auc_171: 0.6071 - val_precision_171: 0.4059 - val_recall_171: 0.4059 - val_f1_score: 0.1481 - 497ms/epoch - 45ms/step\n",
      "Epoch 3/15\n",
      "11/11 - 1s - loss: 27.5731 - accuracy: 0.2950 - auc_171: 0.5414 - precision_171: 0.2959 - recall_171: 0.2950 - f1_score: 0.2359 - val_loss: 47.3789 - val_accuracy: 0.4294 - val_auc_171: 0.6195 - val_precision_171: 0.4294 - val_recall_171: 0.4294 - val_f1_score: 0.1502 - 505ms/epoch - 46ms/step\n",
      "Epoch 4/15\n",
      "11/11 - 1s - loss: 15.0670 - accuracy: 0.4572 - auc_171: 0.6692 - precision_171: 0.4572 - recall_171: 0.4572 - f1_score: 0.3861 - val_loss: 32.4092 - val_accuracy: 0.4765 - val_auc_171: 0.6478 - val_precision_171: 0.4765 - val_recall_171: 0.4765 - val_f1_score: 0.1674 - 529ms/epoch - 48ms/step\n",
      "Epoch 5/15\n",
      "11/11 - 0s - loss: 8.4930 - accuracy: 0.5015 - auc_171: 0.7147 - precision_171: 0.5015 - recall_171: 0.5015 - f1_score: 0.4472 - val_loss: 25.8723 - val_accuracy: 0.4706 - val_auc_171: 0.6471 - val_precision_171: 0.4706 - val_recall_171: 0.4706 - val_f1_score: 0.1600 - 479ms/epoch - 44ms/step\n",
      "Epoch 6/15\n",
      "11/11 - 1s - loss: 13.1790 - accuracy: 0.6165 - auc_171: 0.8120 - precision_171: 0.6154 - recall_171: 0.6136 - f1_score: 0.6250 - val_loss: 16.5395 - val_accuracy: 0.4294 - val_auc_171: 0.6285 - val_precision_171: 0.4294 - val_recall_171: 0.4294 - val_f1_score: 0.1502 - 537ms/epoch - 49ms/step\n",
      "Epoch 7/15\n",
      "11/11 - 0s - loss: 19.1108 - accuracy: 0.4926 - auc_171: 0.6886 - precision_171: 0.4955 - recall_171: 0.4926 - f1_score: 0.3958 - val_loss: 31.2278 - val_accuracy: 0.3647 - val_auc_171: 0.5831 - val_precision_171: 0.3647 - val_recall_171: 0.3647 - val_f1_score: 0.1832 - 491ms/epoch - 45ms/step\n",
      "Epoch 8/15\n",
      "11/11 - 1s - loss: 26.5840 - accuracy: 0.5546 - auc_171: 0.7573 - precision_171: 0.5562 - recall_171: 0.5546 - f1_score: 0.4397 - val_loss: 22.0477 - val_accuracy: 0.4706 - val_auc_171: 0.6472 - val_precision_171: 0.4706 - val_recall_171: 0.4706 - val_f1_score: 0.1870 - 517ms/epoch - 47ms/step\n",
      "Epoch 9/15\n",
      "11/11 - 0s - loss: 19.1083 - accuracy: 0.5752 - auc_171: 0.7483 - precision_171: 0.5752 - recall_171: 0.5752 - f1_score: 0.4470 - val_loss: 22.8088 - val_accuracy: 0.4235 - val_auc_171: 0.6254 - val_precision_171: 0.4235 - val_recall_171: 0.4235 - val_f1_score: 0.1766 - 467ms/epoch - 42ms/step\n",
      "Epoch 10/15\n",
      "11/11 - 0s - loss: 6.3752 - accuracy: 0.6018 - auc_171: 0.7774 - precision_171: 0.6036 - recall_171: 0.6018 - f1_score: 0.4982 - val_loss: 24.3331 - val_accuracy: 0.4294 - val_auc_171: 0.6241 - val_precision_171: 0.4294 - val_recall_171: 0.4294 - val_f1_score: 0.1555 - 494ms/epoch - 45ms/step\n",
      "Epoch 11/15\n",
      "11/11 - 0s - loss: 14.0586 - accuracy: 0.6401 - auc_171: 0.8205 - precision_171: 0.6391 - recall_171: 0.6372 - f1_score: 0.4984 - val_loss: 22.2283 - val_accuracy: 0.4235 - val_auc_171: 0.6211 - val_precision_171: 0.4235 - val_recall_171: 0.4235 - val_f1_score: 0.1500 - 458ms/epoch - 42ms/step\n",
      "Epoch 12/15\n",
      "11/11 - 0s - loss: 9.1087 - accuracy: 0.5693 - auc_171: 0.7842 - precision_171: 0.5761 - recall_171: 0.5693 - f1_score: 0.4608 - val_loss: 10.7736 - val_accuracy: 0.4706 - val_auc_171: 0.7216 - val_precision_171: 0.4706 - val_recall_171: 0.4706 - val_f1_score: 0.2474 - 487ms/epoch - 44ms/step\n",
      "Epoch 13/15\n",
      "11/11 - 0s - loss: 5.2295 - accuracy: 0.6637 - auc_171: 0.8621 - precision_171: 0.6667 - recall_171: 0.6608 - f1_score: 0.6162 - val_loss: 10.5872 - val_accuracy: 0.4706 - val_auc_171: 0.7393 - val_precision_171: 0.4706 - val_recall_171: 0.4706 - val_f1_score: 0.2274 - 473ms/epoch - 43ms/step\n",
      "Epoch 14/15\n",
      "11/11 - 1s - loss: 2.4113 - accuracy: 0.7021 - auc_171: 0.8701 - precision_171: 0.7012 - recall_171: 0.6991 - f1_score: 0.7695 - val_loss: 9.9295 - val_accuracy: 0.5294 - val_auc_171: 0.7575 - val_precision_171: 0.5294 - val_recall_171: 0.5294 - val_f1_score: 0.2772 - 535ms/epoch - 49ms/step\n",
      "Epoch 15/15\n",
      "11/11 - 0s - loss: 19.3816 - accuracy: 0.6165 - auc_171: 0.7980 - precision_171: 0.6183 - recall_171: 0.6165 - f1_score: 0.5526 - val_loss: 6.7254 - val_accuracy: 0.4706 - val_auc_171: 0.7238 - val_precision_171: 0.4706 - val_recall_171: 0.4706 - val_f1_score: 0.2180 - 469ms/epoch - 43ms/step\n"
     ]
    },
    {
     "data": {
      "image/png": "[encoded data removed]",
      "text/plain": [
       "<Figure size 432x288 with 1 Axes>"
      ]
     },
     "metadata": {
      "needs_background": "light"
     },
     "output_type": "display_data"
    },
    {
     "name": "stdout",
     "output_type": "stream",
     "text": [
      "Epoch 1/15\n",
      "11/11 - 11s - loss: 76.0884 - accuracy: 0.3540 - auc_172: 0.5780 - precision_172: 0.3494 - recall_172: 0.3422 - f1_score: 0.2451 - val_loss: 303.7135 - val_accuracy: 0.3412 - val_auc_172: 0.5608 - val_precision_172: 0.3412 - val_recall_172: 0.3412 - val_f1_score: 0.1272 - 11s/epoch - 996ms/step\n",
      "Epoch 2/15\n",
      "11/11 - 0s - loss: 51.7237 - accuracy: 0.2950 - auc_172: 0.5396 - precision_172: 0.2929 - recall_172: 0.2920 - f1_score: 0.2250 - val_loss: 67.5061 - val_accuracy: 0.5588 - val_auc_172: 0.7059 - val_precision_172: 0.5588 - val_recall_172: 0.5588 - val_f1_score: 0.1792 - 494ms/epoch - 45ms/step\n",
      "Epoch 3/15\n",
      "11/11 - 1s - loss: 22.0807 - accuracy: 0.3982 - auc_172: 0.6291 - precision_172: 0.3982 - recall_172: 0.3982 - f1_score: 0.2940 - val_loss: 37.9688 - val_accuracy: 0.5588 - val_auc_172: 0.7059 - val_precision_172: 0.5588 - val_recall_172: 0.5588 - val_f1_score: 0.1792 - 519ms/epoch - 47ms/step\n",
      "Epoch 4/15\n",
      "11/11 - 0s - loss: 8.9419 - accuracy: 0.4484 - auc_172: 0.6985 - precision_172: 0.4497 - recall_172: 0.4484 - f1_score: 0.4019 - val_loss: 19.2179 - val_accuracy: 0.3765 - val_auc_172: 0.6304 - val_precision_172: 0.3765 - val_recall_172: 0.3765 - val_f1_score: 0.1722 - 495ms/epoch - 45ms/step\n",
      "Epoch 5/15\n",
      "11/11 - 0s - loss: 16.6735 - accuracy: 0.4749 - auc_172: 0.7165 - precision_172: 0.4763 - recall_172: 0.4749 - f1_score: 0.3443 - val_loss: 26.4979 - val_accuracy: 0.3412 - val_auc_172: 0.5608 - val_precision_172: 0.3412 - val_recall_172: 0.3412 - val_f1_score: 0.1272 - 486ms/epoch - 44ms/step\n",
      "Epoch 6/15\n",
      "11/11 - 0s - loss: 6.3758 - accuracy: 0.5280 - auc_172: 0.7946 - precision_172: 0.5303 - recall_172: 0.5162 - f1_score: 0.4105 - val_loss: 38.5060 - val_accuracy: 0.3412 - val_auc_172: 0.5608 - val_precision_172: 0.3412 - val_recall_172: 0.3412 - val_f1_score: 0.1272 - 492ms/epoch - 45ms/step\n",
      "Epoch 7/15\n",
      "11/11 - 0s - loss: 2.9626 - accuracy: 0.5929 - auc_172: 0.8246 - precision_172: 0.5910 - recall_172: 0.5841 - f1_score: 0.6803 - val_loss: 62.1176 - val_accuracy: 0.3353 - val_auc_172: 0.5575 - val_precision_172: 0.3353 - val_recall_172: 0.3353 - val_f1_score: 0.1256 - 486ms/epoch - 44ms/step\n",
      "Epoch 8/15\n",
      "11/11 - 0s - loss: 5.0273 - accuracy: 0.5723 - auc_172: 0.7899 - precision_172: 0.5740 - recall_172: 0.5723 - f1_score: 0.6561 - val_loss: 18.1910 - val_accuracy: 0.2353 - val_auc_172: 0.5054 - val_precision_172: 0.2353 - val_recall_172: 0.2353 - val_f1_score: 0.1369 - 498ms/epoch - 45ms/step\n",
      "Epoch 9/15\n",
      "11/11 - 0s - loss: 4.8755 - accuracy: 0.5428 - auc_172: 0.7586 - precision_172: 0.5387 - recall_172: 0.5339 - f1_score: 0.6346 - val_loss: 29.0311 - val_accuracy: 0.5588 - val_auc_172: 0.7059 - val_precision_172: 0.5588 - val_recall_172: 0.5588 - val_f1_score: 0.1792 - 469ms/epoch - 43ms/step\n",
      "Epoch 10/15\n",
      "11/11 - 1s - loss: 3.9316 - accuracy: 0.6224 - auc_172: 0.8186 - precision_172: 0.6231 - recall_172: 0.6195 - f1_score: 0.6953 - val_loss: 39.3628 - val_accuracy: 0.3412 - val_auc_172: 0.5608 - val_precision_172: 0.3412 - val_recall_172: 0.3412 - val_f1_score: 0.1272 - 512ms/epoch - 47ms/step\n",
      "Epoch 11/15\n",
      "11/11 - 0s - loss: 4.2199 - accuracy: 0.6431 - auc_172: 0.8271 - precision_172: 0.6450 - recall_172: 0.6431 - f1_score: 0.5650 - val_loss: 12.1123 - val_accuracy: 0.2588 - val_auc_172: 0.5627 - val_precision_172: 0.2604 - val_recall_172: 0.2588 - val_f1_score: 0.1927 - 487ms/epoch - 44ms/step\n",
      "Epoch 12/15\n",
      "11/11 - 0s - loss: 2.7818 - accuracy: 0.6873 - auc_172: 0.8726 - precision_172: 0.6893 - recall_172: 0.6873 - f1_score: 0.6157 - val_loss: 12.7058 - val_accuracy: 0.3471 - val_auc_172: 0.5890 - val_precision_172: 0.3471 - val_recall_172: 0.3471 - val_f1_score: 0.1330 - 493ms/epoch - 45ms/step\n",
      "Epoch 13/15\n",
      "11/11 - 0s - loss: 1.3284 - accuracy: 0.6814 - auc_172: 0.9055 - precision_172: 0.6866 - recall_172: 0.6785 - f1_score: 0.5893 - val_loss: 10.6227 - val_accuracy: 0.3706 - val_auc_172: 0.6522 - val_precision_172: 0.3706 - val_recall_172: 0.3706 - val_f1_score: 0.1550 - 483ms/epoch - 44ms/step\n",
      "Epoch 14/15\n",
      "11/11 - 0s - loss: 0.9572 - accuracy: 0.7640 - auc_172: 0.9329 - precision_172: 0.7708 - recall_172: 0.7640 - f1_score: 0.8221 - val_loss: 6.8721 - val_accuracy: 0.4118 - val_auc_172: 0.7291 - val_precision_172: 0.4118 - val_recall_172: 0.4118 - val_f1_score: 0.2063 - 489ms/epoch - 44ms/step\n",
      "Epoch 15/15\n",
      "11/11 - 1s - loss: 1.2922 - accuracy: 0.6962 - auc_172: 0.9064 - precision_172: 0.6985 - recall_172: 0.6903 - f1_score: 0.7589 - val_loss: 5.4885 - val_accuracy: 0.4765 - val_auc_172: 0.7863 - val_precision_172: 0.4765 - val_recall_172: 0.4765 - val_f1_score: 0.2511 - 513ms/epoch - 47ms/step\n"
     ]
    },
    {
     "data": {
      "image/png": "[encoded data removed]",
      "text/plain": [
       "<Figure size 432x288 with 1 Axes>"
      ]
     },
     "metadata": {
      "needs_background": "light"
     },
     "output_type": "display_data"
    },
    {
     "name": "stdout",
     "output_type": "stream",
     "text": [
      "Epoch 1/15\n",
      "11/11 - 11s - loss: 75.0866 - accuracy: 0.2912 - auc_173: 0.5390 - precision_173: 0.2934 - recall_173: 0.2882 - f1_score: 0.2006 - val_loss: 145.8048 - val_accuracy: 0.3550 - val_auc_173: 0.5700 - val_precision_173: 0.3550 - val_recall_173: 0.3550 - val_f1_score: 0.1310 - 11s/epoch - 997ms/step\n",
      "Epoch 2/15\n",
      "11/11 - 0s - loss: 27.6608 - accuracy: 0.4265 - auc_173: 0.6720 - precision_173: 0.4260 - recall_173: 0.4235 - f1_score: 0.3077 - val_loss: 29.6458 - val_accuracy: 0.5030 - val_auc_173: 0.6707 - val_precision_173: 0.5030 - val_recall_173: 0.5030 - val_f1_score: 0.1700 - 491ms/epoch - 45ms/step\n",
      "Epoch 3/15\n",
      "11/11 - 1s - loss: 7.2696 - accuracy: 0.4853 - auc_173: 0.7211 - precision_173: 0.4882 - recall_173: 0.4853 - f1_score: 0.3822 - val_loss: 14.2946 - val_accuracy: 0.4379 - val_auc_173: 0.6657 - val_precision_173: 0.4379 - val_recall_173: 0.4379 - val_f1_score: 0.2288 - 517ms/epoch - 47ms/step\n",
      "Epoch 4/15\n",
      "11/11 - 0s - loss: 2.8308 - accuracy: 0.6029 - auc_173: 0.8260 - precision_173: 0.6053 - recall_173: 0.6000 - f1_score: 0.6146 - val_loss: 14.7029 - val_accuracy: 0.5503 - val_auc_173: 0.7127 - val_precision_173: 0.5503 - val_recall_173: 0.5503 - val_f1_score: 0.1775 - 490ms/epoch - 45ms/step\n",
      "Epoch 5/15\n",
      "11/11 - 1s - loss: 8.2480 - accuracy: 0.5647 - auc_173: 0.8192 - precision_173: 0.5672 - recall_173: 0.5588 - f1_score: 0.4116 - val_loss: 8.6209 - val_accuracy: 0.5503 - val_auc_173: 0.6994 - val_precision_173: 0.5503 - val_recall_173: 0.5503 - val_f1_score: 0.1775 - 511ms/epoch - 46ms/step\n",
      "Epoch 6/15\n",
      "11/11 - 0s - loss: 10.1220 - accuracy: 0.4676 - auc_173: 0.7134 - precision_173: 0.4702 - recall_173: 0.4647 - f1_score: 0.3686 - val_loss: 15.2489 - val_accuracy: 0.4793 - val_auc_173: 0.6871 - val_precision_173: 0.4793 - val_recall_173: 0.4793 - val_f1_score: 0.1973 - 493ms/epoch - 45ms/step\n",
      "Epoch 7/15\n",
      "11/11 - 1s - loss: 4.5144 - accuracy: 0.6118 - auc_173: 0.8079 - precision_173: 0.6118 - recall_173: 0.6118 - f1_score: 0.6881 - val_loss: 15.3920 - val_accuracy: 0.5325 - val_auc_173: 0.6951 - val_precision_173: 0.5325 - val_recall_173: 0.5325 - val_f1_score: 0.1751 - 506ms/epoch - 46ms/step\n",
      "Epoch 8/15\n",
      "11/11 - 1s - loss: 9.5805 - accuracy: 0.5500 - auc_173: 0.7530 - precision_173: 0.5500 - recall_173: 0.5500 - f1_score: 0.5105 - val_loss: 15.8622 - val_accuracy: 0.3728 - val_auc_173: 0.6166 - val_precision_173: 0.3750 - val_recall_173: 0.3728 - val_f1_score: 0.1700 - 500ms/epoch - 45ms/step\n",
      "Epoch 9/15\n",
      "11/11 - 0s - loss: 4.9303 - accuracy: 0.6088 - auc_173: 0.8058 - precision_173: 0.6077 - recall_173: 0.6059 - f1_score: 0.5616 - val_loss: 13.3837 - val_accuracy: 0.4911 - val_auc_173: 0.6696 - val_precision_173: 0.4911 - val_recall_173: 0.4911 - val_f1_score: 0.2000 - 482ms/epoch - 44ms/step\n",
      "Epoch 10/15\n",
      "11/11 - 1s - loss: 3.0724 - accuracy: 0.6588 - auc_173: 0.8564 - precision_173: 0.6588 - recall_173: 0.6588 - f1_score: 0.7288 - val_loss: 14.1411 - val_accuracy: 0.3846 - val_auc_173: 0.6169 - val_precision_173: 0.3846 - val_recall_173: 0.3846 - val_f1_score: 0.2339 - 504ms/epoch - 46ms/step\n",
      "Epoch 11/15\n",
      "11/11 - 0s - loss: 2.3861 - accuracy: 0.7059 - auc_173: 0.8850 - precision_173: 0.7122 - recall_173: 0.7059 - f1_score: 0.7693 - val_loss: 17.4198 - val_accuracy: 0.4320 - val_auc_173: 0.6385 - val_precision_173: 0.4320 - val_recall_173: 0.4320 - val_f1_score: 0.1781 - 489ms/epoch - 44ms/step\n",
      "Epoch 12/15\n",
      "11/11 - 1s - loss: 1.3953 - accuracy: 0.7294 - auc_173: 0.9095 - precision_173: 0.7329 - recall_173: 0.7265 - f1_score: 0.6393 - val_loss: 13.7240 - val_accuracy: 0.4320 - val_auc_173: 0.6786 - val_precision_173: 0.4320 - val_recall_173: 0.4320 - val_f1_score: 0.2338 - 507ms/epoch - 46ms/step\n",
      "Epoch 13/15\n",
      "11/11 - 0s - loss: 1.6613 - accuracy: 0.7265 - auc_173: 0.9133 - precision_173: 0.7300 - recall_173: 0.7235 - f1_score: 0.7855 - val_loss: 4.4702 - val_accuracy: 0.4675 - val_auc_173: 0.7436 - val_precision_173: 0.4675 - val_recall_173: 0.4675 - val_f1_score: 0.2435 - 485ms/epoch - 44ms/step\n",
      "Epoch 14/15\n",
      "11/11 - 1s - loss: 1.5875 - accuracy: 0.7147 - auc_173: 0.9050 - precision_173: 0.7194 - recall_173: 0.7088 - f1_score: 0.7768 - val_loss: 4.6681 - val_accuracy: 0.4379 - val_auc_173: 0.7147 - val_precision_173: 0.4379 - val_recall_173: 0.4379 - val_f1_score: 0.2314 - 510ms/epoch - 46ms/step\n",
      "Epoch 15/15\n",
      "11/11 - 0s - loss: 1.8452 - accuracy: 0.6706 - auc_173: 0.8751 - precision_173: 0.6716 - recall_173: 0.6618 - f1_score: 0.6700 - val_loss: 6.4375 - val_accuracy: 0.5089 - val_auc_173: 0.7038 - val_precision_173: 0.5089 - val_recall_173: 0.5089 - val_f1_score: 0.2317 - 481ms/epoch - 44ms/step\n"
     ]
    },
    {
     "data": {
      "image/png": "[encoded data removed]",
      "text/plain": [
       "<Figure size 432x288 with 1 Axes>"
      ]
     },
     "metadata": {
      "needs_background": "light"
     },
     "output_type": "display_data"
    }
   ],
   "source": [
    "for b in batch_sizes:\n",
    "    for act in activation:\n",
    "        for n in neurons:\n",
    "            for s in kernel_size:\n",
    "                for init in kernel_initializer:\n",
    "                    for d in dropout:\n",
    "                        print('Batch size', b, 'Activation', act, 'Neurons', n, 'Kernel size', s, 'Kernel initializer', init, 'Dropout', d)\n",
    "                        for train_index, val_index in kf.split(body_X):\n",
    "                            body_X_train, body_X_val = body_X[train_index], body_X[val_index]\n",
    "                            face_X_train, face_X_val = face_X[train_index], face_X[val_index]\n",
    "                            y_train, y_val = y[train_index], y[val_index]\n",
    "                            late_RCNN = build_fusioned_RCNN(body_features, face_features, n_length, body_outputs, neurons=n, kernel_size=s, activation=act, kernel_initializer=init, dropout=d)\n",
    "                            history = train_fusioned(late_RCNN, body_X_train, face_X_train, y_train, body_X_val, face_X_val, y_val, epochs=epochs, batch_size=b, class_weight=class_weight)\n",
    "                            if (history['val_accuracy'] > late_best_rcnn_acc) and (history['val_roc_auc'] > late_best_rcnn_auc):\n",
    "                                late_best_rcnn_acc = history['val_accuracy']\n",
    "                                late_best_rcnn_auc = history['val_roc_auc']\n",
    "                                late_rcnn_loss = history['loss']\n",
    "                                late_best_rcnn_model = late_RCNN\n",
    "                                late_rcnn_values = { 'batch_size': b, 'activation': act, 'neurons': n, 'kernel_size': s, 'kernel_initializer': init, 'dropout': float(\"inf\") }"
   ]
  },
  {
   "cell_type": "markdown",
   "metadata": {},
   "source": [
    "### Convert Uni-modal Approaches to Ensemble Members"
   ]
  },
  {
   "cell_type": "code",
   "execution_count": 55,
   "metadata": {},
   "outputs": [
    {
     "name": "stdout",
     "output_type": "stream",
     "text": [
      "Epoch 1/15\n",
      "11/11 - 81s - loss: 26.8714 - accuracy: 0.3588 - auc_174: 0.6220 - precision_174: 0.3522 - recall_174: 0.3118 - f1_score: 0.2416 - val_loss: 2.4095 - val_accuracy: 0.0888 - val_auc_174: 0.4789 - val_precision_174: 0.0863 - val_recall_174: 0.0710 - val_f1_score: 0.0446 - 81s/epoch - 7s/step\n",
      "Epoch 2/15\n",
      "11/11 - 3s - loss: 9.4181 - accuracy: 0.2529 - auc_174: 0.5950 - precision_174: 0.2531 - recall_174: 0.1824 - f1_score: 0.1905 - val_loss: 3.2216 - val_accuracy: 0.5503 - val_auc_174: 0.7020 - val_precision_174: 0.5503 - val_recall_174: 0.5503 - val_f1_score: 0.1775 - 3s/epoch - 272ms/step\n",
      "Epoch 3/15\n",
      "11/11 - 3s - loss: 6.1918 - accuracy: 0.2971 - auc_174: 0.6899 - precision_174: 0.3856 - recall_174: 0.1735 - f1_score: 0.2201 - val_loss: 1.5029 - val_accuracy: 0.0888 - val_auc_174: 0.5814 - val_precision_174: 0.0888 - val_recall_174: 0.0888 - val_f1_score: 0.0408 - 3s/epoch - 271ms/step\n",
      "Epoch 4/15\n",
      "11/11 - 3s - loss: 5.4459 - accuracy: 0.0912 - auc_174: 0.5602 - precision_174: 0.1368 - recall_174: 0.0382 - f1_score: 0.0439 - val_loss: 1.3889 - val_accuracy: 0.0178 - val_auc_174: 0.3490 - val_precision_174: 0.0000e+00 - val_recall_174: 0.0000e+00 - val_f1_score: 0.0135 - 3s/epoch - 265ms/step\n",
      "Epoch 5/15\n",
      "11/11 - 3s - loss: 2.7868 - accuracy: 0.0706 - auc_174: 0.4206 - precision_174: 0.6875 - recall_174: 0.0647 - f1_score: 0.0569 - val_loss: 1.3901 - val_accuracy: 0.0059 - val_auc_174: 0.3373 - val_precision_174: 0.0000e+00 - val_recall_174: 0.0000e+00 - val_f1_score: 0.0029 - 3s/epoch - 262ms/step\n",
      "Epoch 6/15\n",
      "11/11 - 3s - loss: 2.6305 - accuracy: 0.0029 - auc_174: 0.3487 - precision_174: 0.0000e+00 - recall_174: 0.0000e+00 - f1_score: 0.0015 - val_loss: 1.3905 - val_accuracy: 0.0059 - val_auc_174: 0.3373 - val_precision_174: 0.0000e+00 - val_recall_174: 0.0000e+00 - val_f1_score: 0.0029 - 3s/epoch - 264ms/step\n",
      "Epoch 7/15\n",
      "11/11 - 3s - loss: 2.6233 - accuracy: 0.0029 - auc_174: 0.3353 - precision_174: 0.0000e+00 - recall_174: 0.0000e+00 - f1_score: 0.0015 - val_loss: 1.3896 - val_accuracy: 0.0059 - val_auc_174: 0.3373 - val_precision_174: 0.0000e+00 - val_recall_174: 0.0000e+00 - val_f1_score: 0.0029 - 3s/epoch - 264ms/step\n",
      "Epoch 8/15\n",
      "11/11 - 3s - loss: 2.6228 - accuracy: 0.0029 - auc_174: 0.3353 - precision_174: 0.0000e+00 - recall_174: 0.0000e+00 - f1_score: 0.0015 - val_loss: 1.3893 - val_accuracy: 0.0059 - val_auc_174: 0.3373 - val_precision_174: 0.0000e+00 - val_recall_174: 0.0000e+00 - val_f1_score: 0.0029 - 3s/epoch - 268ms/step\n",
      "Epoch 9/15\n",
      "11/11 - 3s - loss: 2.6229 - accuracy: 0.0029 - auc_174: 0.3549 - precision_174: 0.0000e+00 - recall_174: 0.0000e+00 - f1_score: 0.0015 - val_loss: 1.3886 - val_accuracy: 0.0059 - val_auc_174: 0.4073 - val_precision_174: 0.0000e+00 - val_recall_174: 0.0000e+00 - val_f1_score: 0.0029 - 3s/epoch - 269ms/step\n",
      "Epoch 10/15\n",
      "11/11 - 3s - loss: 2.6223 - accuracy: 0.0029 - auc_174: 0.4255 - precision_174: 0.0000e+00 - recall_174: 0.0000e+00 - f1_score: 0.0015 - val_loss: 1.3890 - val_accuracy: 0.0059 - val_auc_174: 0.4073 - val_precision_174: 0.0000e+00 - val_recall_174: 0.0000e+00 - val_f1_score: 0.0029 - 3s/epoch - 268ms/step\n",
      "Epoch 11/15\n",
      "11/11 - 3s - loss: 2.6226 - accuracy: 0.0029 - auc_174: 0.3608 - precision_174: 0.0000e+00 - recall_174: 0.0000e+00 - f1_score: 0.0015 - val_loss: 1.3892 - val_accuracy: 0.0059 - val_auc_174: 0.4073 - val_precision_174: 0.0000e+00 - val_recall_174: 0.0000e+00 - val_f1_score: 0.0029 - 3s/epoch - 269ms/step\n",
      "Epoch 12/15\n",
      "11/11 - 3s - loss: 2.6223 - accuracy: 0.0235 - auc_174: 0.4255 - precision_174: 0.0000e+00 - recall_174: 0.0000e+00 - f1_score: 0.0247 - val_loss: 1.3889 - val_accuracy: 0.3550 - val_auc_174: 0.4073 - val_precision_174: 0.0000e+00 - val_recall_174: 0.0000e+00 - val_f1_score: 0.1310 - 3s/epoch - 272ms/step\n",
      "Epoch 13/15\n",
      "11/11 - 3s - loss: 2.6223 - accuracy: 0.3853 - auc_174: 0.5588 - precision_174: 0.0000e+00 - recall_174: 0.0000e+00 - f1_score: 0.1391 - val_loss: 1.3880 - val_accuracy: 0.3550 - val_auc_174: 0.5700 - val_precision_174: 0.0000e+00 - val_recall_174: 0.0000e+00 - val_f1_score: 0.1310 - 3s/epoch - 271ms/step\n",
      "Epoch 14/15\n",
      "11/11 - 3s - loss: 2.6219 - accuracy: 0.3853 - auc_174: 0.5902 - precision_174: 0.0000e+00 - recall_174: 0.0000e+00 - f1_score: 0.1391 - val_loss: 1.3875 - val_accuracy: 0.3550 - val_auc_174: 0.5700 - val_precision_174: 0.0000e+00 - val_recall_174: 0.0000e+00 - val_f1_score: 0.1310 - 3s/epoch - 266ms/step\n",
      "Epoch 15/15\n",
      "11/11 - 3s - loss: 2.6216 - accuracy: 0.3853 - auc_174: 0.5902 - precision_174: 0.0000e+00 - recall_174: 0.0000e+00 - f1_score: 0.1391 - val_loss: 1.3871 - val_accuracy: 0.3550 - val_auc_174: 0.5700 - val_precision_174: 0.0000e+00 - val_recall_174: 0.0000e+00 - val_f1_score: 0.1310 - 3s/epoch - 267ms/step\n"
     ]
    },
    {
     "data": {
      "text/plain": [
       "<keras.callbacks.History at 0x27a2a20d610>"
      ]
     },
     "execution_count": 55,
     "metadata": {},
     "output_type": "execute_result"
    }
   ],
   "source": [
    "#biLSTM_body_model = build_biLSTM(body_features, n_length, body_outputs, neurons=body_biconv_values['neurons'], kernel_size=body_biconv_values['kernel_size'], activation=body_biconv_values['activation'], kernel_initializer=body_biconv_values['kernel_initializer'], dropout=body_biconv_values['dropout'])\n",
    "#train(biLSTM_body_model, body_X_train, y_train, body_X_val, y_val, epochs=epochs, batch_size=batch_size, class_weight=class_weight)"
   ]
  },
  {
   "cell_type": "code",
   "execution_count": 56,
   "metadata": {},
   "outputs": [
    {
     "ename": "NameError",
     "evalue": "name 'face_biConvLSTM' is not defined",
     "output_type": "error",
     "traceback": [
      "\u001b[1;31m---------------------------------------------------------------------------\u001b[0m",
      "\u001b[1;31mNameError\u001b[0m                                 Traceback (most recent call last)",
      "\u001b[1;32mc:\\Users\\angel\\Documents\\GitHub\\masters-thesis\\notebooks\\hyperparameter_optimization.ipynb Cell 85'\u001b[0m in \u001b[0;36m<module>\u001b[1;34m\u001b[0m\n\u001b[0;32m      <a href='vscode-notebook-cell:/c%3A/Users/angel/Documents/GitHub/masters-thesis/notebooks/hyperparameter_optimization.ipynb#ch0000084?line=0'>1</a>\u001b[0m biLSTM_body_member \u001b[39m=\u001b[39m KerasMember(name\u001b[39m=\u001b[39m\u001b[39m\"\u001b[39m\u001b[39mBody Model\u001b[39m\u001b[39m\"\u001b[39m, keras_model\u001b[39m=\u001b[39mbiLSTM_body_model, train_batches\u001b[39m=\u001b[39m(body_X_train, y_train), val_batches\u001b[39m=\u001b[39m(body_X_test, y_test))\n\u001b[1;32m----> <a href='vscode-notebook-cell:/c%3A/Users/angel/Documents/GitHub/masters-thesis/notebooks/hyperparameter_optimization.ipynb#ch0000084?line=1'>2</a>\u001b[0m biLSTM_face_member \u001b[39m=\u001b[39m KerasMember(name\u001b[39m=\u001b[39m\u001b[39m\"\u001b[39m\u001b[39mFace Model\u001b[39m\u001b[39m\"\u001b[39m, keras_model\u001b[39m=\u001b[39mface_biConvLSTM, train_batches\u001b[39m=\u001b[39m(face_X_train, y_train), val_batches\u001b[39m=\u001b[39m(face_X_test, y_test))\n",
      "\u001b[1;31mNameError\u001b[0m: name 'face_biConvLSTM' is not defined"
     ]
    }
   ],
   "source": [
    "biLSTM_body_member = KerasMember(name=\"Body Model\", keras_model=body_best_biconv_model, train_batches=(body_X_train, y_train), val_batches=(body_X_test, y_test))\n",
    "biLSTM_face_member = KerasMember(name=\"Face Model\", keras_model=face_best_biconv_model, train_batches=(face_X_train, y_train), val_batches=(face_X_test, y_test))"
   ]
  },
  {
   "cell_type": "code",
   "execution_count": null,
   "metadata": {},
   "outputs": [
    {
     "name": "stdout",
     "output_type": "stream",
     "text": [
      "Epoch 1/50\n",
      "1/1 - 5s - loss: 1.6530 - accuracy: 0.0775 - auc_49: 0.2763 - precision_49: 0.0000e+00 - recall_49: 0.0000e+00 - f1_score: 0.0523 - val_loss: 1.1080 - val_accuracy: 0.0625 - val_auc_49: 0.3019 - val_precision_49: 0.0000e+00 - val_recall_49: 0.0000e+00 - val_f1_score: 0.0392 - 5s/epoch - 5s/step\n",
      "Epoch 2/50\n",
      "1/1 - 0s - loss: 1.6544 - accuracy: 0.0775 - auc_49: 0.2986 - precision_49: 0.0000e+00 - recall_49: 0.0000e+00 - f1_score: 0.0480 - val_loss: 1.1039 - val_accuracy: 0.1250 - val_auc_49: 0.4467 - val_precision_49: 0.0000e+00 - val_recall_49: 0.0000e+00 - val_f1_score: 0.1088 - 275ms/epoch - 275ms/step\n",
      "Epoch 3/50\n",
      "1/1 - 0s - loss: 1.6536 - accuracy: 0.1395 - auc_49: 0.5328 - precision_49: 0.0000e+00 - recall_49: 0.0000e+00 - f1_score: 0.1105 - val_loss: 1.1086 - val_accuracy: 0.0625 - val_auc_49: 0.4336 - val_precision_49: 0.0000e+00 - val_recall_49: 0.0000e+00 - val_f1_score: 0.0392 - 211ms/epoch - 211ms/step\n",
      "Epoch 4/50\n",
      "1/1 - 0s - loss: 1.6502 - accuracy: 0.0775 - auc_49: 0.5233 - precision_49: 0.0000e+00 - recall_49: 0.0000e+00 - f1_score: 0.0483 - val_loss: 1.1082 - val_accuracy: 0.5156 - val_auc_49: 0.5380 - val_precision_49: 0.0000e+00 - val_recall_49: 0.0000e+00 - val_f1_score: 0.2268 - 202ms/epoch - 202ms/step\n",
      "Epoch 5/50\n",
      "1/1 - 0s - loss: 1.6494 - accuracy: 0.6202 - auc_49: 0.6588 - precision_49: 0.0000e+00 - recall_49: 0.0000e+00 - f1_score: 0.2552 - val_loss: 1.1081 - val_accuracy: 0.5156 - val_auc_49: 0.5469 - val_precision_49: 0.0000e+00 - val_recall_49: 0.0000e+00 - val_f1_score: 0.2268 - 226ms/epoch - 226ms/step\n",
      "Epoch 6/50\n",
      "1/1 - 0s - loss: 1.6498 - accuracy: 0.6202 - auc_49: 0.6589 - precision_49: 0.0000e+00 - recall_49: 0.0000e+00 - f1_score: 0.2552 - val_loss: 1.1146 - val_accuracy: 0.5156 - val_auc_49: 0.4336 - val_precision_49: 0.0000e+00 - val_recall_49: 0.0000e+00 - val_f1_score: 0.2268 - 228ms/epoch - 228ms/step\n",
      "Epoch 7/50\n",
      "1/1 - 0s - loss: 1.6491 - accuracy: 0.6202 - auc_49: 0.5233 - precision_49: 0.0000e+00 - recall_49: 0.0000e+00 - f1_score: 0.2552 - val_loss: 1.1221 - val_accuracy: 0.0625 - val_auc_49: 0.4336 - val_precision_49: 0.0000e+00 - val_recall_49: 0.0000e+00 - val_f1_score: 0.0392 - 223ms/epoch - 223ms/step\n",
      "Epoch 8/50\n",
      "1/1 - 0s - loss: 1.6490 - accuracy: 0.0775 - auc_49: 0.5233 - precision_49: 0.0000e+00 - recall_49: 0.0000e+00 - f1_score: 0.0480 - val_loss: 1.1278 - val_accuracy: 0.0625 - val_auc_49: 0.3203 - val_precision_49: 0.0000e+00 - val_recall_49: 0.0000e+00 - val_f1_score: 0.0392 - 227ms/epoch - 227ms/step\n",
      "Epoch 9/50\n",
      "1/1 - 0s - loss: 1.6493 - accuracy: 0.0775 - auc_49: 0.3876 - precision_49: 0.0000e+00 - recall_49: 0.0000e+00 - f1_score: 0.0480 - val_loss: 1.1313 - val_accuracy: 0.0625 - val_auc_49: 0.3203 - val_precision_49: 0.0000e+00 - val_recall_49: 0.0000e+00 - val_f1_score: 0.0392 - 252ms/epoch - 252ms/step\n",
      "Epoch 10/50\n",
      "1/1 - 0s - loss: 1.6496 - accuracy: 0.0775 - auc_49: 0.3876 - precision_49: 0.0000e+00 - recall_49: 0.0000e+00 - f1_score: 0.0480 - val_loss: 1.1326 - val_accuracy: 0.0625 - val_auc_49: 0.3203 - val_precision_49: 0.0000e+00 - val_recall_49: 0.0000e+00 - val_f1_score: 0.0392 - 232ms/epoch - 232ms/step\n",
      "Epoch 11/50\n",
      "1/1 - 0s - loss: 1.6498 - accuracy: 0.0775 - auc_49: 0.3876 - precision_49: 0.0000e+00 - recall_49: 0.0000e+00 - f1_score: 0.0480 - val_loss: 1.1320 - val_accuracy: 0.0625 - val_auc_49: 0.3203 - val_precision_49: 0.0000e+00 - val_recall_49: 0.0000e+00 - val_f1_score: 0.0392 - 281ms/epoch - 281ms/step\n",
      "Epoch 12/50\n",
      "1/1 - 0s - loss: 1.6497 - accuracy: 0.0775 - auc_49: 0.3876 - precision_49: 0.0000e+00 - recall_49: 0.0000e+00 - f1_score: 0.0480 - val_loss: 1.1299 - val_accuracy: 0.0625 - val_auc_49: 0.3203 - val_precision_49: 0.0000e+00 - val_recall_49: 0.0000e+00 - val_f1_score: 0.0392 - 275ms/epoch - 275ms/step\n"
     ]
    },
    {
     "data": {
      "text/plain": [
       "<keras.callbacks.History at 0x16ef4a2b0>"
      ]
     },
     "execution_count": 42,
     "metadata": {},
     "output_type": "execute_result"
    }
   ],
   "source": [
    "#cnn_body_model = build_CNN(body_features, n_length, body_outputs)\n",
    "#train(cnn_body_model, body_X_train, y_train, body_X_val, y_val, epochs=epochs, batch_size=batch_size, class_weight=class_weight)"
   ]
  },
  {
   "cell_type": "code",
   "execution_count": null,
   "metadata": {},
   "outputs": [],
   "source": [
    "cnn_body_member = KerasMember(name=\"Body Model\", keras_model=body_best_cnn_model, train_batches=(body_X_train, y_train), val_batches=(body_X_test, y_test))\n",
    "cnn_face_member = KerasMember(name=\"Face Model\", keras_model=face_best_cnn_model, train_batches=(face_X_train, y_train), val_batches=(face_X_test, y_test))"
   ]
  },
  {
   "cell_type": "code",
   "execution_count": null,
   "metadata": {},
   "outputs": [
    {
     "name": "stdout",
     "output_type": "stream",
     "text": [
      "Epoch 1/50\n",
      "1/1 - 6s - loss: 10.2354 - accuracy: 0.3256 - auc_50: 0.5287 - precision_50: 0.3281 - recall_50: 0.3256 - f1_score: 0.2355 - val_loss: 31.8970 - val_accuracy: 0.2969 - val_auc_50: 0.4515 - val_precision_50: 0.2969 - val_recall_50: 0.2969 - val_f1_score: 0.1957 - 6s/epoch - 6s/step\n",
      "Epoch 2/50\n",
      "1/1 - 1s - loss: 34.2097 - accuracy: 0.2248 - auc_50: 0.3856 - precision_50: 0.2248 - recall_50: 0.2248 - f1_score: 0.1853 - val_loss: 6.4864 - val_accuracy: 0.4844 - val_auc_50: 0.6185 - val_precision_50: 0.4844 - val_recall_50: 0.4844 - val_f1_score: 0.2271 - 714ms/epoch - 714ms/step\n",
      "Epoch 3/50\n",
      "1/1 - 1s - loss: 10.7796 - accuracy: 0.5969 - auc_50: 0.6958 - precision_50: 0.5969 - recall_50: 0.5969 - f1_score: 0.2891 - val_loss: 2.7605 - val_accuracy: 0.1250 - val_auc_50: 0.3309 - val_precision_50: 0.1148 - val_recall_50: 0.1094 - val_f1_score: 0.1238 - 625ms/epoch - 625ms/step\n",
      "Epoch 4/50\n",
      "1/1 - 1s - loss: 3.4214 - accuracy: 0.1163 - auc_50: 0.3075 - precision_50: 0.1148 - recall_50: 0.1085 - f1_score: 0.1170 - val_loss: 1.9127 - val_accuracy: 0.4062 - val_auc_50: 0.6454 - val_precision_50: 0.4127 - val_recall_50: 0.4062 - val_f1_score: 0.2446 - 584ms/epoch - 584ms/step\n",
      "Epoch 5/50\n",
      "1/1 - 1s - loss: 5.1482 - accuracy: 0.4109 - auc_50: 0.5803 - precision_50: 0.4109 - recall_50: 0.4109 - f1_score: 0.2755 - val_loss: 1.1662 - val_accuracy: 0.3750 - val_auc_50: 0.5361 - val_precision_50: 0.4286 - val_recall_50: 0.1875 - val_f1_score: 0.2536 - 586ms/epoch - 586ms/step\n",
      "Epoch 6/50\n",
      "1/1 - 1s - loss: 1.8042 - accuracy: 0.4031 - auc_50: 0.5964 - precision_50: 0.5273 - recall_50: 0.2248 - f1_score: 0.2579 - val_loss: 1.2190 - val_accuracy: 0.2188 - val_auc_50: 0.4095 - val_precision_50: 0.1538 - val_recall_50: 0.0312 - val_f1_score: 0.2185 - 594ms/epoch - 594ms/step\n",
      "Epoch 7/50\n",
      "1/1 - 1s - loss: 1.6334 - accuracy: 0.2946 - auc_50: 0.4904 - precision_50: 0.1389 - recall_50: 0.0388 - f1_score: 0.2836 - val_loss: 0.9916 - val_accuracy: 0.5781 - val_auc_50: 0.7244 - val_precision_50: 0.6190 - val_recall_50: 0.2031 - val_f1_score: 0.4697 - 599ms/epoch - 599ms/step\n",
      "Epoch 8/50\n",
      "1/1 - 1s - loss: 1.5376 - accuracy: 0.5659 - auc_50: 0.7616 - precision_50: 0.7059 - recall_50: 0.2791 - f1_score: 0.4801 - val_loss: 1.1453 - val_accuracy: 0.3750 - val_auc_50: 0.5496 - val_precision_50: 0.4444 - val_recall_50: 0.1250 - val_f1_score: 0.3315 - 582ms/epoch - 582ms/step\n",
      "Epoch 9/50\n",
      "1/1 - 1s - loss: 1.3976 - accuracy: 0.4419 - auc_50: 0.6296 - precision_50: 0.6098 - recall_50: 0.1938 - f1_score: 0.4192 - val_loss: 1.0299 - val_accuracy: 0.4688 - val_auc_50: 0.6863 - val_precision_50: 0.5238 - val_recall_50: 0.1719 - val_f1_score: 0.3510 - 581ms/epoch - 581ms/step\n",
      "Epoch 10/50\n",
      "1/1 - 1s - loss: 1.2618 - accuracy: 0.5814 - auc_50: 0.7444 - precision_50: 0.7193 - recall_50: 0.3178 - f1_score: 0.5545 - val_loss: 1.0924 - val_accuracy: 0.5469 - val_auc_50: 0.7478 - val_precision_50: 0.5455 - val_recall_50: 0.4688 - val_f1_score: 0.2800 - 579ms/epoch - 579ms/step\n",
      "Epoch 11/50\n",
      "1/1 - 1s - loss: 1.5422 - accuracy: 0.6744 - auc_50: 0.8536 - precision_50: 0.6696 - recall_50: 0.5814 - f1_score: 0.5016 - val_loss: 1.8124 - val_accuracy: 0.1719 - val_auc_50: 0.3692 - val_precision_50: 0.1569 - val_recall_50: 0.1250 - val_f1_score: 0.1774 - 599ms/epoch - 599ms/step\n",
      "Epoch 12/50\n",
      "1/1 - 1s - loss: 1.8811 - accuracy: 0.1783 - auc_50: 0.4284 - precision_50: 0.1792 - recall_50: 0.1473 - f1_score: 0.1838 - val_loss: 1.0025 - val_accuracy: 0.5781 - val_auc_50: 0.7118 - val_precision_50: 0.6154 - val_recall_50: 0.3750 - val_f1_score: 0.4193 - 588ms/epoch - 588ms/step\n",
      "Epoch 13/50\n",
      "1/1 - 1s - loss: 1.3991 - accuracy: 0.4496 - auc_50: 0.6598 - precision_50: 0.4935 - recall_50: 0.2946 - f1_score: 0.4043 - val_loss: 1.0045 - val_accuracy: 0.6250 - val_auc_50: 0.7358 - val_precision_50: 0.6047 - val_recall_50: 0.4062 - val_f1_score: 0.4326 - 589ms/epoch - 589ms/step\n",
      "Epoch 14/50\n",
      "1/1 - 1s - loss: 1.4939 - accuracy: 0.5504 - auc_50: 0.7621 - precision_50: 0.6026 - recall_50: 0.3643 - f1_score: 0.4650 - val_loss: 1.0035 - val_accuracy: 0.5312 - val_auc_50: 0.7079 - val_precision_50: 0.6176 - val_recall_50: 0.3281 - val_f1_score: 0.3862 - 607ms/epoch - 607ms/step\n",
      "Epoch 15/50\n",
      "1/1 - 1s - loss: 1.4250 - accuracy: 0.5271 - auc_50: 0.7739 - precision_50: 0.6333 - recall_50: 0.2946 - f1_score: 0.4569 - val_loss: 1.0237 - val_accuracy: 0.4531 - val_auc_50: 0.6907 - val_precision_50: 0.7500 - val_recall_50: 0.0938 - val_f1_score: 0.3530 - 611ms/epoch - 611ms/step\n",
      "Epoch 16/50\n",
      "1/1 - 1s - loss: 1.4310 - accuracy: 0.4496 - auc_50: 0.7582 - precision_50: 0.9167 - recall_50: 0.1705 - f1_score: 0.3905 - val_loss: 1.0700 - val_accuracy: 0.4219 - val_auc_50: 0.6622 - val_precision_50: 0.5000 - val_recall_50: 0.0312 - val_f1_score: 0.3361 - 597ms/epoch - 597ms/step\n",
      "Epoch 17/50\n",
      "1/1 - 1s - loss: 1.4696 - accuracy: 0.4651 - auc_50: 0.7289 - precision_50: 1.0000 - recall_50: 0.0698 - f1_score: 0.4118 - val_loss: 1.0936 - val_accuracy: 0.2812 - val_auc_50: 0.5856 - val_precision_50: 0.5000 - val_recall_50: 0.0312 - val_f1_score: 0.2623 - 607ms/epoch - 607ms/step\n"
     ]
    },
    {
     "data": {
      "text/plain": [
       "<keras.callbacks.History at 0x171d060a0>"
      ]
     },
     "execution_count": 44,
     "metadata": {},
     "output_type": "execute_result"
    }
   ],
   "source": [
    "#convLSTM_body_model = build_convLSTM(body_features, n_length, body_outputs)\n",
    "#train(convLSTM_body_model, body_X_train, y_train, body_X_val, y_val, epochs=epochs, batch_size=batch_size, class_weight=class_weight)"
   ]
  },
  {
   "cell_type": "code",
   "execution_count": null,
   "metadata": {},
   "outputs": [],
   "source": [
    "convLSTM_body_member = KerasMember(name=\"Body Model\", keras_model=body_best_lstm_model, train_batches=(body_X_train, y_train), val_batches=(body_X_test, y_test))\n",
    "convLSTM_face_member = KerasMember(name=\"Face Model\", keras_model=face_best_lstm_model, train_batches=(face_X_train, y_train), val_batches=(face_X_test, y_test))"
   ]
  },
  {
   "cell_type": "code",
   "execution_count": null,
   "metadata": {},
   "outputs": [
    {
     "name": "stdout",
     "output_type": "stream",
     "text": [
      "Epoch 1/50\n",
      "1/1 - 2s - loss: 3.3719 - accuracy: 0.3953 - auc_51: 0.5203 - precision_51: 0.3871 - recall_51: 0.3721 - f1_score: 0.3668 - val_loss: 1949.0488 - val_accuracy: 0.4219 - val_auc_51: 0.5664 - val_precision_51: 0.4219 - val_recall_51: 0.4219 - val_f1_score: 0.1978 - 2s/epoch - 2s/step\n",
      "Epoch 2/50\n",
      "1/1 - 0s - loss: 32.4957 - accuracy: 0.4109 - auc_51: 0.5797 - precision_51: 0.4109 - recall_51: 0.4109 - f1_score: 0.3758 - val_loss: 789.1389 - val_accuracy: 0.0625 - val_auc_51: 0.2969 - val_precision_51: 0.0625 - val_recall_51: 0.0625 - val_f1_score: 0.0392 - 219ms/epoch - 219ms/step\n",
      "Epoch 3/50\n",
      "1/1 - 0s - loss: 21.3562 - accuracy: 0.4496 - auc_51: 0.5975 - precision_51: 0.4496 - recall_51: 0.4496 - f1_score: 0.3815 - val_loss: 185.4648 - val_accuracy: 0.5156 - val_auc_51: 0.6367 - val_precision_51: 0.5156 - val_recall_51: 0.5156 - val_f1_score: 0.2268 - 285ms/epoch - 285ms/step\n",
      "Epoch 4/50\n",
      "1/1 - 0s - loss: 8.8097 - accuracy: 0.5814 - auc_51: 0.7163 - precision_51: 0.5814 - recall_51: 0.5814 - f1_score: 0.5542 - val_loss: 413.3295 - val_accuracy: 0.5156 - val_auc_51: 0.6367 - val_precision_51: 0.5156 - val_recall_51: 0.5156 - val_f1_score: 0.2268 - 216ms/epoch - 216ms/step\n",
      "Epoch 5/50\n",
      "1/1 - 0s - loss: 7.4753 - accuracy: 0.6434 - auc_51: 0.7814 - precision_51: 0.6434 - recall_51: 0.6434 - f1_score: 0.6223 - val_loss: 388.6289 - val_accuracy: 0.5156 - val_auc_51: 0.6367 - val_precision_51: 0.5156 - val_recall_51: 0.5156 - val_f1_score: 0.2268 - 226ms/epoch - 226ms/step\n",
      "Epoch 6/50\n",
      "1/1 - 0s - loss: 6.2078 - accuracy: 0.6822 - auc_51: 0.7643 - precision_51: 0.6822 - recall_51: 0.6822 - f1_score: 0.6838 - val_loss: 242.7883 - val_accuracy: 0.5156 - val_auc_51: 0.6367 - val_precision_51: 0.5156 - val_recall_51: 0.5156 - val_f1_score: 0.2268 - 218ms/epoch - 218ms/step\n",
      "Epoch 7/50\n",
      "1/1 - 0s - loss: 2.7757 - accuracy: 0.6434 - auc_51: 0.8024 - precision_51: 0.6434 - recall_51: 0.6434 - f1_score: 0.6689 - val_loss: 67.3701 - val_accuracy: 0.5000 - val_auc_51: 0.6328 - val_precision_51: 0.5000 - val_recall_51: 0.5000 - val_f1_score: 0.2222 - 231ms/epoch - 231ms/step\n",
      "Epoch 8/50\n",
      "1/1 - 0s - loss: 3.3972 - accuracy: 0.5814 - auc_51: 0.7283 - precision_51: 0.5814 - recall_51: 0.5814 - f1_score: 0.5851 - val_loss: 71.8764 - val_accuracy: 0.5156 - val_auc_51: 0.6367 - val_precision_51: 0.5156 - val_recall_51: 0.5156 - val_f1_score: 0.2268 - 230ms/epoch - 230ms/step\n",
      "Epoch 9/50\n",
      "1/1 - 0s - loss: 2.4100 - accuracy: 0.6589 - auc_51: 0.8210 - precision_51: 0.6693 - recall_51: 0.6589 - f1_score: 0.6316 - val_loss: 38.5665 - val_accuracy: 0.4219 - val_auc_51: 0.5736 - val_precision_51: 0.4219 - val_recall_51: 0.4219 - val_f1_score: 0.1978 - 222ms/epoch - 222ms/step\n",
      "Epoch 10/50\n",
      "1/1 - 0s - loss: 2.5290 - accuracy: 0.6589 - auc_51: 0.7990 - precision_51: 0.6589 - recall_51: 0.6589 - f1_score: 0.6253 - val_loss: 28.3255 - val_accuracy: 0.4375 - val_auc_51: 0.6154 - val_precision_51: 0.4375 - val_recall_51: 0.4375 - val_f1_score: 0.2397 - 227ms/epoch - 227ms/step\n",
      "Epoch 11/50\n",
      "1/1 - 0s - loss: 2.1742 - accuracy: 0.6434 - auc_51: 0.8070 - precision_51: 0.6484 - recall_51: 0.6434 - f1_score: 0.5844 - val_loss: 46.2241 - val_accuracy: 0.4219 - val_auc_51: 0.5664 - val_precision_51: 0.4219 - val_recall_51: 0.4219 - val_f1_score: 0.1978 - 225ms/epoch - 225ms/step\n",
      "Epoch 12/50\n",
      "1/1 - 0s - loss: 1.7765 - accuracy: 0.6047 - auc_51: 0.8204 - precision_51: 0.6047 - recall_51: 0.6047 - f1_score: 0.6631 - val_loss: 49.3152 - val_accuracy: 0.5156 - val_auc_51: 0.6367 - val_precision_51: 0.5156 - val_recall_51: 0.5156 - val_f1_score: 0.2268 - 222ms/epoch - 222ms/step\n",
      "Epoch 13/50\n",
      "1/1 - 0s - loss: 1.4336 - accuracy: 0.7674 - auc_51: 0.9218 - precision_51: 0.7674 - recall_51: 0.7674 - f1_score: 0.7627 - val_loss: 64.4837 - val_accuracy: 0.5156 - val_auc_51: 0.6367 - val_precision_51: 0.5156 - val_recall_51: 0.5156 - val_f1_score: 0.2268 - 220ms/epoch - 220ms/step\n",
      "Epoch 14/50\n",
      "1/1 - 0s - loss: 1.0398 - accuracy: 0.7597 - auc_51: 0.9267 - precision_51: 0.7656 - recall_51: 0.7597 - f1_score: 0.8020 - val_loss: 57.7606 - val_accuracy: 0.5156 - val_auc_51: 0.6367 - val_precision_51: 0.5156 - val_recall_51: 0.5156 - val_f1_score: 0.2268 - 228ms/epoch - 228ms/step\n",
      "Epoch 15/50\n",
      "1/1 - 0s - loss: 0.9780 - accuracy: 0.7054 - auc_51: 0.8702 - precision_51: 0.7054 - recall_51: 0.7054 - f1_score: 0.7720 - val_loss: 119.4852 - val_accuracy: 0.5156 - val_auc_51: 0.6367 - val_precision_51: 0.5156 - val_recall_51: 0.5156 - val_f1_score: 0.2268 - 227ms/epoch - 227ms/step\n",
      "Epoch 16/50\n",
      "1/1 - 0s - loss: 1.1456 - accuracy: 0.8217 - auc_51: 0.9039 - precision_51: 0.8203 - recall_51: 0.8140 - f1_score: 0.8239 - val_loss: 140.8624 - val_accuracy: 0.5156 - val_auc_51: 0.6367 - val_precision_51: 0.5156 - val_recall_51: 0.5156 - val_f1_score: 0.2268 - 238ms/epoch - 238ms/step\n",
      "Epoch 17/50\n",
      "1/1 - 0s - loss: 1.2282 - accuracy: 0.7829 - auc_51: 0.9028 - precision_51: 0.7829 - recall_51: 0.7829 - f1_score: 0.8132 - val_loss: 124.2153 - val_accuracy: 0.5156 - val_auc_51: 0.6367 - val_precision_51: 0.5156 - val_recall_51: 0.5156 - val_f1_score: 0.2268 - 238ms/epoch - 238ms/step\n",
      "Epoch 18/50\n",
      "1/1 - 0s - loss: 0.8634 - accuracy: 0.7907 - auc_51: 0.9208 - precision_51: 0.7907 - recall_51: 0.7907 - f1_score: 0.8252 - val_loss: 89.8008 - val_accuracy: 0.5156 - val_auc_51: 0.6367 - val_precision_51: 0.5156 - val_recall_51: 0.5156 - val_f1_score: 0.2268 - 232ms/epoch - 232ms/step\n",
      "Epoch 19/50\n",
      "1/1 - 0s - loss: 0.9032 - accuracy: 0.7364 - auc_51: 0.8728 - precision_51: 0.7364 - recall_51: 0.7364 - f1_score: 0.7813 - val_loss: 104.2066 - val_accuracy: 0.5156 - val_auc_51: 0.6367 - val_precision_51: 0.5156 - val_recall_51: 0.5156 - val_f1_score: 0.2268 - 233ms/epoch - 233ms/step\n",
      "Epoch 20/50\n",
      "1/1 - 0s - loss: 0.5341 - accuracy: 0.8372 - auc_51: 0.9494 - precision_51: 0.8372 - recall_51: 0.8372 - f1_score: 0.8577 - val_loss: 105.1979 - val_accuracy: 0.5156 - val_auc_51: 0.6367 - val_precision_51: 0.5156 - val_recall_51: 0.5156 - val_f1_score: 0.2268 - 237ms/epoch - 237ms/step\n"
     ]
    },
    {
     "data": {
      "text/plain": [
       "<keras.callbacks.History at 0x173651220>"
      ]
     },
     "execution_count": 46,
     "metadata": {},
     "output_type": "execute_result"
    }
   ],
   "source": [
    "#rcnn_body_model = build_RCNN(body_features, n_length, body_outputs)\n",
    "#train(rcnn_body_model, body_X_train, y_train, body_X_val, y_val, epochs=epochs, batch_size=batch_size, class_weight=class_weight)"
   ]
  },
  {
   "cell_type": "code",
   "execution_count": null,
   "metadata": {},
   "outputs": [],
   "source": [
    "rcnn_body_member = KerasMember(name=\"Body Model\", keras_model=body_best_rcnn_model, train_batches=(body_X_train, y_train), val_batches=(body_X_test, y_test))\n",
    "rcnn_face_member = KerasMember(name=\"Face Model\", keras_model=face_best_rcnn_model, train_batches=(face_X_train, y_train), val_batches=(face_X_test, y_test))"
   ]
  },
  {
   "cell_type": "markdown",
   "metadata": {},
   "source": [
    "### Dirichlet Markov Ensemble with weighted soft voting"
   ]
  },
  {
   "cell_type": "code",
   "execution_count": null,
   "metadata": {},
   "outputs": [],
   "source": [
    "biLSTM_dirichletEnsemble = DirichletEnsemble()\n",
    "biLSTM_dirichletEnsemble.add_member(biLSTM_body_member)\n",
    "biLSTM_dirichletEnsemble.add_member(biLSTM_face_member)\n",
    "biLSTM_dirichletEnsemble.fit()"
   ]
  },
  {
   "cell_type": "code",
   "execution_count": null,
   "metadata": {},
   "outputs": [],
   "source": [
    "cnn_dirichletEnsemble = DirichletEnsemble()\n",
    "cnn_dirichletEnsemble.add_member(cnn_body_member)\n",
    "cnn_dirichletEnsemble.add_member(cnn_face_member)\n",
    "cnn_dirichletEnsemble.fit()"
   ]
  },
  {
   "cell_type": "code",
   "execution_count": null,
   "metadata": {},
   "outputs": [],
   "source": [
    "convLSTM_dirichletEnsemble = DirichletEnsemble()\n",
    "convLSTM_dirichletEnsemble.add_member(convLSTM_body_member)\n",
    "convLSTM_dirichletEnsemble.add_member(convLSTM_face_member)\n",
    "convLSTM_dirichletEnsemble.fit()"
   ]
  },
  {
   "cell_type": "code",
   "execution_count": null,
   "metadata": {},
   "outputs": [],
   "source": [
    "rcnn_dirichletEnsemble = DirichletEnsemble()\n",
    "rcnn_dirichletEnsemble.add_member(rcnn_body_member)\n",
    "rcnn_dirichletEnsemble.add_member(rcnn_face_member)\n",
    "rcnn_dirichletEnsemble.fit()"
   ]
  },
  {
   "cell_type": "markdown",
   "metadata": {},
   "source": [
    "## Performance Evaluation on Test set"
   ]
  },
  {
   "cell_type": "markdown",
   "metadata": {},
   "source": [
    "### Uni-Modal (only Body/Skeleton data)"
   ]
  },
  {
   "cell_type": "code",
   "execution_count": 57,
   "metadata": {},
   "outputs": [
    {
     "ename": "ValueError",
     "evalue": "in user code:\n\n    File \"C:\\Users\\angel\\.virtualenvs\\masters-thesis-47ATZEh-\\lib\\site-packages\\keras\\engine\\training.py\", line 1525, in test_function  *\n        return step_function(self, iterator)\n    File \"C:\\Users\\angel\\.virtualenvs\\masters-thesis-47ATZEh-\\lib\\site-packages\\keras\\engine\\training.py\", line 1514, in step_function  **\n        outputs = model.distribute_strategy.run(run_step, args=(data,))\n    File \"C:\\Users\\angel\\.virtualenvs\\masters-thesis-47ATZEh-\\lib\\site-packages\\keras\\engine\\training.py\", line 1507, in run_step  **\n        outputs = model.test_step(data)\n    File \"C:\\Users\\angel\\.virtualenvs\\masters-thesis-47ATZEh-\\lib\\site-packages\\keras\\engine\\training.py\", line 1471, in test_step\n        y_pred = self(x, training=False)\n    File \"C:\\Users\\angel\\.virtualenvs\\masters-thesis-47ATZEh-\\lib\\site-packages\\keras\\utils\\traceback_utils.py\", line 67, in error_handler\n        raise e.with_traceback(filtered_tb) from None\n    File \"C:\\Users\\angel\\.virtualenvs\\masters-thesis-47ATZEh-\\lib\\site-packages\\keras\\engine\\input_spec.py\", line 264, in assert_input_compatibility\n        raise ValueError(f'Input {input_index} of layer \"{layer_name}\" is '\n\n    ValueError: Input 0 of layer \"model_140\" is incompatible with the layer: expected shape=(None, 1, 350, 10), found shape=(None, 1, 350, 38)\n",
     "output_type": "error",
     "traceback": [
      "\u001b[1;31m---------------------------------------------------------------------------\u001b[0m",
      "\u001b[1;31mValueError\u001b[0m                                Traceback (most recent call last)",
      "\u001b[1;32mc:\\Users\\angel\\Documents\\GitHub\\masters-thesis\\notebooks\\hyperparameter_optimization.ipynb Cell 99'\u001b[0m in \u001b[0;36m<module>\u001b[1;34m\u001b[0m\n\u001b[1;32m----> <a href='vscode-notebook-cell:/c%3A/Users/angel/Documents/GitHub/masters-thesis/notebooks/hyperparameter_optimization.ipynb#ch0000098?line=0'>1</a>\u001b[0m _, acc, auc, precision, recall, f1 \u001b[39m=\u001b[39m body_biConvLSTM\u001b[39m.\u001b[39;49mevaluate(full_body_X_test, full_body_y_test, verbose\u001b[39m=\u001b[39;49m\u001b[39m0\u001b[39;49m)\n\u001b[0;32m      <a href='vscode-notebook-cell:/c%3A/Users/angel/Documents/GitHub/masters-thesis/notebooks/hyperparameter_optimization.ipynb#ch0000098?line=1'>2</a>\u001b[0m \u001b[39mprint\u001b[39m(\u001b[39m'\u001b[39m\u001b[39mBidirectional LSTM:\u001b[39m\u001b[39m'\u001b[39m)\n\u001b[0;32m      <a href='vscode-notebook-cell:/c%3A/Users/angel/Documents/GitHub/masters-thesis/notebooks/hyperparameter_optimization.ipynb#ch0000098?line=2'>3</a>\u001b[0m \u001b[39mprint\u001b[39m(\u001b[39m'\u001b[39m\u001b[39mAccuracy: \u001b[39m\u001b[39m{:.2f}\u001b[39;00m\u001b[39m%\u001b[39m\u001b[39m - ROC/AUC: \u001b[39m\u001b[39m{:.2f}\u001b[39;00m\u001b[39m - Precision: \u001b[39m\u001b[39m{:.2f}\u001b[39;00m\u001b[39m - Recall: \u001b[39m\u001b[39m{:.2f}\u001b[39;00m\u001b[39m, F1 score: \u001b[39m\u001b[39m{:.2f}\u001b[39;00m\u001b[39m'\u001b[39m\u001b[39m.\u001b[39mformat(acc \u001b[39m*\u001b[39m \u001b[39m100\u001b[39m, auc, precision, recall, f1))\n",
      "File \u001b[1;32m~\\.virtualenvs\\masters-thesis-47ATZEh-\\lib\\site-packages\\keras\\utils\\traceback_utils.py:67\u001b[0m, in \u001b[0;36mfilter_traceback.<locals>.error_handler\u001b[1;34m(*args, **kwargs)\u001b[0m\n\u001b[0;32m     <a href='file:///c%3A/Users/angel/.virtualenvs/masters-thesis-47ATZEh-/lib/site-packages/keras/utils/traceback_utils.py?line=64'>65</a>\u001b[0m \u001b[39mexcept\u001b[39;00m \u001b[39mException\u001b[39;00m \u001b[39mas\u001b[39;00m e:  \u001b[39m# pylint: disable=broad-except\u001b[39;00m\n\u001b[0;32m     <a href='file:///c%3A/Users/angel/.virtualenvs/masters-thesis-47ATZEh-/lib/site-packages/keras/utils/traceback_utils.py?line=65'>66</a>\u001b[0m   filtered_tb \u001b[39m=\u001b[39m _process_traceback_frames(e\u001b[39m.\u001b[39m__traceback__)\n\u001b[1;32m---> <a href='file:///c%3A/Users/angel/.virtualenvs/masters-thesis-47ATZEh-/lib/site-packages/keras/utils/traceback_utils.py?line=66'>67</a>\u001b[0m   \u001b[39mraise\u001b[39;00m e\u001b[39m.\u001b[39mwith_traceback(filtered_tb) \u001b[39mfrom\u001b[39;00m \u001b[39mNone\u001b[39m\n\u001b[0;32m     <a href='file:///c%3A/Users/angel/.virtualenvs/masters-thesis-47ATZEh-/lib/site-packages/keras/utils/traceback_utils.py?line=67'>68</a>\u001b[0m \u001b[39mfinally\u001b[39;00m:\n\u001b[0;32m     <a href='file:///c%3A/Users/angel/.virtualenvs/masters-thesis-47ATZEh-/lib/site-packages/keras/utils/traceback_utils.py?line=68'>69</a>\u001b[0m   \u001b[39mdel\u001b[39;00m filtered_tb\n",
      "File \u001b[1;32m~\\.virtualenvs\\masters-thesis-47ATZEh-\\lib\\site-packages\\tensorflow\\python\\framework\\func_graph.py:1147\u001b[0m, in \u001b[0;36mfunc_graph_from_py_func.<locals>.autograph_handler\u001b[1;34m(*args, **kwargs)\u001b[0m\n\u001b[0;32m   <a href='file:///c%3A/Users/angel/.virtualenvs/masters-thesis-47ATZEh-/lib/site-packages/tensorflow/python/framework/func_graph.py?line=1144'>1145</a>\u001b[0m \u001b[39mexcept\u001b[39;00m \u001b[39mException\u001b[39;00m \u001b[39mas\u001b[39;00m e:  \u001b[39m# pylint:disable=broad-except\u001b[39;00m\n\u001b[0;32m   <a href='file:///c%3A/Users/angel/.virtualenvs/masters-thesis-47ATZEh-/lib/site-packages/tensorflow/python/framework/func_graph.py?line=1145'>1146</a>\u001b[0m   \u001b[39mif\u001b[39;00m \u001b[39mhasattr\u001b[39m(e, \u001b[39m\"\u001b[39m\u001b[39mag_error_metadata\u001b[39m\u001b[39m\"\u001b[39m):\n\u001b[1;32m-> <a href='file:///c%3A/Users/angel/.virtualenvs/masters-thesis-47ATZEh-/lib/site-packages/tensorflow/python/framework/func_graph.py?line=1146'>1147</a>\u001b[0m     \u001b[39mraise\u001b[39;00m e\u001b[39m.\u001b[39mag_error_metadata\u001b[39m.\u001b[39mto_exception(e)\n\u001b[0;32m   <a href='file:///c%3A/Users/angel/.virtualenvs/masters-thesis-47ATZEh-/lib/site-packages/tensorflow/python/framework/func_graph.py?line=1147'>1148</a>\u001b[0m   \u001b[39melse\u001b[39;00m:\n\u001b[0;32m   <a href='file:///c%3A/Users/angel/.virtualenvs/masters-thesis-47ATZEh-/lib/site-packages/tensorflow/python/framework/func_graph.py?line=1148'>1149</a>\u001b[0m     \u001b[39mraise\u001b[39;00m\n",
      "\u001b[1;31mValueError\u001b[0m: in user code:\n\n    File \"C:\\Users\\angel\\.virtualenvs\\masters-thesis-47ATZEh-\\lib\\site-packages\\keras\\engine\\training.py\", line 1525, in test_function  *\n        return step_function(self, iterator)\n    File \"C:\\Users\\angel\\.virtualenvs\\masters-thesis-47ATZEh-\\lib\\site-packages\\keras\\engine\\training.py\", line 1514, in step_function  **\n        outputs = model.distribute_strategy.run(run_step, args=(data,))\n    File \"C:\\Users\\angel\\.virtualenvs\\masters-thesis-47ATZEh-\\lib\\site-packages\\keras\\engine\\training.py\", line 1507, in run_step  **\n        outputs = model.test_step(data)\n    File \"C:\\Users\\angel\\.virtualenvs\\masters-thesis-47ATZEh-\\lib\\site-packages\\keras\\engine\\training.py\", line 1471, in test_step\n        y_pred = self(x, training=False)\n    File \"C:\\Users\\angel\\.virtualenvs\\masters-thesis-47ATZEh-\\lib\\site-packages\\keras\\utils\\traceback_utils.py\", line 67, in error_handler\n        raise e.with_traceback(filtered_tb) from None\n    File \"C:\\Users\\angel\\.virtualenvs\\masters-thesis-47ATZEh-\\lib\\site-packages\\keras\\engine\\input_spec.py\", line 264, in assert_input_compatibility\n        raise ValueError(f'Input {input_index} of layer \"{layer_name}\" is '\n\n    ValueError: Input 0 of layer \"model_140\" is incompatible with the layer: expected shape=(None, 1, 350, 10), found shape=(None, 1, 350, 38)\n"
     ]
    }
   ],
   "source": [
    "_, acc, auc, precision, recall, f1 = body_best_biconv_model.evaluate(full_body_X_test, full_body_y_test, verbose=0)\n",
    "print('Bidirectional LSTM:')\n",
    "print('Accuracy: {:.2f}% - ROC/AUC: {:.2f} - Precision: {:.2f} - Recall: {:.2f}, F1 score: {:.2f}'.format(acc * 100, auc, precision, recall, f1))"
   ]
  },
  {
   "cell_type": "code",
   "execution_count": null,
   "metadata": {},
   "outputs": [
    {
     "name": "stdout",
     "output_type": "stream",
     "text": [
      "CNN+LSTM:\n",
      "Accuracy: 14.44% - ROC/AUC: 0.41 - Precision: 0.00 - Recall: 0.00, F1 score: 0.06\n"
     ]
    }
   ],
   "source": [
    "_, acc, auc, precision, recall, f1 = body_best_cnn_model.evaluate(full_body_X_test, full_body_y_test, verbose=0)\n",
    "print('CNN+LSTM:')\n",
    "print('Accuracy: {:.2f}% - ROC/AUC: {:.2f} - Precision: {:.2f} - Recall: {:.2f}, F1 score: {:.2f}'.format(acc * 100, auc, precision, recall, f1))"
   ]
  },
  {
   "cell_type": "code",
   "execution_count": null,
   "metadata": {},
   "outputs": [
    {
     "name": "stdout",
     "output_type": "stream",
     "text": [
      "Convolutional LSTM:\n",
      "Accuracy: 15.56% - ROC/AUC: 0.36 - Precision: 0.14 - Recall: 0.10, F1 score: 0.14\n"
     ]
    }
   ],
   "source": [
    "_, acc, auc, precision, recall, f1 = body_best_lstm_model.evaluate(full_body_X_test, full_body_y_test, verbose=0)\n",
    "print('Convolutional LSTM:')\n",
    "print('Accuracy: {:.2f}% - ROC/AUC: {:.2f} - Precision: {:.2f} - Recall: {:.2f}, F1 score: {:.2f}'.format(acc * 100, auc, precision, recall, f1))"
   ]
  },
  {
   "cell_type": "code",
   "execution_count": null,
   "metadata": {},
   "outputs": [
    {
     "name": "stdout",
     "output_type": "stream",
     "text": [
      "RCNN:\n",
      "Accuracy: 16.67% - ROC/AUC: 0.46 - Precision: 0.17 - Recall: 0.17, F1 score: 0.10\n"
     ]
    }
   ],
   "source": [
    "_, acc, auc, precision, recall, f1 = body_best_rcnn_model.evaluate(full_body_X_test, full_body_y_test, verbose=0)\n",
    "print('RCNN:')\n",
    "print('Accuracy: {:.2f}% - ROC/AUC: {:.2f} - Precision: {:.2f} - Recall: {:.2f}, F1 score: {:.2f}'.format(acc * 100, auc, precision, recall, f1))"
   ]
  },
  {
   "cell_type": "markdown",
   "metadata": {},
   "source": [
    "### Uni-Modal (only Facial Expression/Action Units)"
   ]
  },
  {
   "cell_type": "code",
   "execution_count": null,
   "metadata": {},
   "outputs": [
    {
     "name": "stdout",
     "output_type": "stream",
     "text": [
      "Bidirectional LSTM:\n",
      "Accuracy: 23.81% - ROC/AUC: 0.49 - Precision: 0.19 - Recall: 0.21, F1 score: 0.25\n"
     ]
    }
   ],
   "source": [
    "_, acc, auc, precision, recall, f1 = face_best_biconv_model.evaluate(face_X_test, face_y_test, verbose=0)\n",
    "print('Bidirectional LSTM:')\n",
    "print('Accuracy: {:.2f}% - ROC/AUC: {:.2f} - Precision: {:.2f} - Recall: {:.2f}, F1 score: {:.2f}'.format(acc * 100, auc, precision, recall, f1))"
   ]
  },
  {
   "cell_type": "code",
   "execution_count": null,
   "metadata": {},
   "outputs": [
    {
     "name": "stdout",
     "output_type": "stream",
     "text": [
      "CNN+LSTM:\n",
      "Accuracy: 33.33% - ROC/AUC: 0.48 - Precision: 0.17 - Recall: 0.21, F1 score: 0.16\n"
     ]
    }
   ],
   "source": [
    "_, acc, auc, precision, recall, f1 = face_best_cnn_model.evaluate(face_X_test, face_y_test, verbose=0)\n",
    "print('CNN+LSTM:')\n",
    "print('Accuracy: {:.2f}% - ROC/AUC: {:.2f} - Precision: {:.2f} - Recall: {:.2f}, F1 score: {:.2f}'.format(acc * 100, auc, precision, recall, f1))"
   ]
  },
  {
   "cell_type": "code",
   "execution_count": null,
   "metadata": {},
   "outputs": [
    {
     "name": "stdout",
     "output_type": "stream",
     "text": [
      "Convolutional LSTM:\n",
      "Accuracy: 23.81% - ROC/AUC: 0.48 - Precision: 0.24 - Recall: 0.21, F1 score: 0.22\n"
     ]
    }
   ],
   "source": [
    "_, acc, auc, precision, recall, f1 = face_best_lstm_model.evaluate(face_X_test, face_y_test, verbose=0)\n",
    "print('Convolutional LSTM:')\n",
    "print('Accuracy: {:.2f}% - ROC/AUC: {:.2f} - Precision: {:.2f} - Recall: {:.2f}, F1 score: {:.2f}'.format(acc * 100, auc, precision, recall, f1))"
   ]
  },
  {
   "cell_type": "code",
   "execution_count": null,
   "metadata": {},
   "outputs": [
    {
     "name": "stdout",
     "output_type": "stream",
     "text": [
      "RCNN:\n",
      "Accuracy: 33.33% - ROC/AUC: 0.46 - Precision: 0.23 - Recall: 0.28, F1 score: 0.24\n"
     ]
    }
   ],
   "source": [
    "_, acc, auc, precision, recall, f1 = face_best_rcnn_model.evaluate(face_X_test, face_y_test, verbose=0)\n",
    "print('RCNN:')\n",
    "print('Accuracy: {:.2f}% - ROC/AUC: {:.2f} - Precision: {:.2f} - Recall: {:.2f}, F1 score: {:.2f}'.format(acc * 100, auc, precision, recall, f1))"
   ]
  },
  {
   "cell_type": "markdown",
   "metadata": {},
   "source": [
    "### Early Fusion (Feature Level)"
   ]
  },
  {
   "cell_type": "code",
   "execution_count": null,
   "metadata": {},
   "outputs": [
    {
     "name": "stdout",
     "output_type": "stream",
     "text": [
      "Bidirectional LSTM:\n",
      "Accuracy: 45.24% - ROC/AUC: 0.49 - Precision: 0.00 - Recall: 0.00, F1 score: 0.17\n"
     ]
    }
   ],
   "source": [
    "_, acc, auc, precision, recall, f1 = early_best_biconv_model.evaluate(early_X_test, early_y_test, verbose=0)\n",
    "print('Bidirectional LSTM:')\n",
    "print('Accuracy: {:.2f}% - ROC/AUC: {:.2f} - Precision: {:.2f} - Recall: {:.2f}, F1 score: {:.2f}'.format(acc * 100, auc, precision, recall, f1))"
   ]
  },
  {
   "cell_type": "code",
   "execution_count": null,
   "metadata": {},
   "outputs": [
    {
     "name": "stdout",
     "output_type": "stream",
     "text": [
      "CNN+LSTM:\n",
      "Accuracy: 11.90% - ROC/AUC: 0.40 - Precision: 0.00 - Recall: 0.00, F1 score: 0.07\n"
     ]
    }
   ],
   "source": [
    "_, acc, auc, precision, recall, f1 = early_best_cnn_model.evaluate(early_X_test, early_y_test, verbose=0)\n",
    "print('CNN+LSTM:')\n",
    "print('Accuracy: {:.2f}% - ROC/AUC: {:.2f} - Precision: {:.2f} - Recall: {:.2f}, F1 score: {:.2f}'.format(acc * 100, auc, precision, recall, f1))"
   ]
  },
  {
   "cell_type": "code",
   "execution_count": null,
   "metadata": {},
   "outputs": [
    {
     "name": "stdout",
     "output_type": "stream",
     "text": [
      "Convolutional LSTM:\n",
      "Accuracy: 42.86% - ROC/AUC: 0.48 - Precision: 0.22 - Recall: 0.31, F1 score: 0.16\n"
     ]
    }
   ],
   "source": [
    "_, acc, auc, precision, recall, f1 = early_best_lstm_model.evaluate(early_X_test, early_y_test, verbose=0)\n",
    "print('Convolutional LSTM:')\n",
    "print('Accuracy: {:.2f}% - ROC/AUC: {:.2f} - Precision: {:.2f} - Recall: {:.2f}, F1 score: {:.2f}'.format(acc * 100, auc, precision, recall, f1))"
   ]
  },
  {
   "cell_type": "code",
   "execution_count": null,
   "metadata": {},
   "outputs": [
    {
     "name": "stdout",
     "output_type": "stream",
     "text": [
      "RCNN:\n",
      "Accuracy: 59.52% - ROC/AUC: 0.55 - Precision: 0.29 - Recall: 0.41, F1 score: 0.15\n"
     ]
    }
   ],
   "source": [
    "_, acc, auc, precision, recall, f1 = early_best_rcnn_model.evaluate(early_X_test, early_y_test, verbose=0)\n",
    "print('RCNN:')\n",
    "print('Accuracy: {:.2f}% - ROC/AUC: {:.2f} - Precision: {:.2f} - Recall: {:.2f}, F1 score: {:.2f}'.format(acc * 100, auc, precision, recall, f1))"
   ]
  },
  {
   "cell_type": "markdown",
   "metadata": {},
   "source": [
    "### Late Fusion (Decision Level)"
   ]
  },
  {
   "cell_type": "code",
   "execution_count": null,
   "metadata": {},
   "outputs": [
    {
     "name": "stdout",
     "output_type": "stream",
     "text": [
      "Bidirectional LSTM:\n",
      "Accuracy: 26.19% - ROC/AUC: 0.54 - Precision: 0.18 - Recall: 0.14, F1 score: 0.16\n"
     ]
    }
   ],
   "source": [
    "_, acc, auc, precision, recall, f1 = late_best_biconv_model.evaluate([body_X_test, face_X_test], y_test, verbose=0)\n",
    "print('Bidirectional LSTM:')\n",
    "print('Accuracy: {:.2f}% - ROC/AUC: {:.2f} - Precision: {:.2f} - Recall: {:.2f}, F1 score: {:.2f}'.format(acc * 100, auc, precision, recall, f1))"
   ]
  },
  {
   "cell_type": "code",
   "execution_count": null,
   "metadata": {},
   "outputs": [
    {
     "name": "stdout",
     "output_type": "stream",
     "text": [
      "CNN+LSTM:\n",
      "Accuracy: 33.33% - ROC/AUC: 0.57 - Precision: 0.22 - Recall: 0.28, F1 score: 0.19\n"
     ]
    }
   ],
   "source": [
    "_, acc, auc, precision, recall, f1 = late_best_cnn_model.evaluate([body_X_test, face_X_test], y_test, verbose=0)\n",
    "print('CNN+LSTM:')\n",
    "print('Accuracy: {:.2f}% - ROC/AUC: {:.2f} - Precision: {:.2f} - Recall: {:.2f}, F1 score: {:.2f}'.format(acc * 100, auc, precision, recall, f1))"
   ]
  },
  {
   "cell_type": "code",
   "execution_count": null,
   "metadata": {},
   "outputs": [
    {
     "name": "stdout",
     "output_type": "stream",
     "text": [
      "Convolutional LSTM:\n",
      "Accuracy: 38.10% - ROC/AUC: 0.46 - Precision: 0.17 - Recall: 0.24, F1 score: 0.19\n"
     ]
    }
   ],
   "source": [
    "_, acc, auc, precision, recall, f1 = late_best_lstm_model.evaluate([body_X_test, face_X_test], y_test, verbose=0)\n",
    "print('Convolutional LSTM:')\n",
    "print('Accuracy: {:.2f}% - ROC/AUC: {:.2f} - Precision: {:.2f} - Recall: {:.2f}, F1 score: {:.2f}'.format(acc * 100, auc, precision, recall, f1))"
   ]
  },
  {
   "cell_type": "code",
   "execution_count": null,
   "metadata": {},
   "outputs": [
    {
     "name": "stdout",
     "output_type": "stream",
     "text": [
      "RCNN:\n",
      "Accuracy: 57.14% - ROC/AUC: 0.51 - Precision: 0.26 - Recall: 0.38, F1 score: 0.20\n"
     ]
    }
   ],
   "source": [
    "_, acc, auc, precision, recall, f1 = late_best_rcnn_model.evaluate([body_X_test, face_X_test], y_test, verbose=0)\n",
    "print('RCNN:')\n",
    "print('Accuracy: {:.2f}% - ROC/AUC: {:.2f} - Precision: {:.2f} - Recall: {:.2f}, F1 score: {:.2f}'.format(acc * 100, auc, precision, recall, f1))"
   ]
  },
  {
   "cell_type": "code",
   "execution_count": null,
   "metadata": {},
   "outputs": [
    {
     "name": "stdout",
     "output_type": "stream",
     "text": [
      "BiLSTM Dirichlet Markov Ensemble:\n",
      "Body Model (weight: 0.0038)\n",
      "Face Model (weight: 0.9962)\n",
      "Accuracy: 50.00% - ROC/AUC: 0.52 - Precision: 0.43 - Recall: 0.46 - F1 score: 0.36\n"
     ]
    }
   ],
   "source": [
    "print('BiLSTM Dirichlet Markov Ensemble:')\n",
    "d = biLSTM_dirichletEnsemble.describe()"
   ]
  },
  {
   "cell_type": "code",
   "execution_count": null,
   "metadata": {},
   "outputs": [
    {
     "name": "stdout",
     "output_type": "stream",
     "text": [
      "CNN+LSTM Dirichlet Markov Ensemble:\n",
      "Body Model (weight: 0.9998)\n",
      "Face Model (weight: 0.0002)\n",
      "Accuracy: 50.00% - ROC/AUC: 0.45 - Precision: 0.25 - Recall: 0.40 - F1 score: 0.28\n"
     ]
    }
   ],
   "source": [
    "print('CNN+LSTM Dirichlet Markov Ensemble:')\n",
    "d = cnn_dirichletEnsemble.describe()"
   ]
  },
  {
   "cell_type": "code",
   "execution_count": null,
   "metadata": {},
   "outputs": [
    {
     "name": "stdout",
     "output_type": "stream",
     "text": [
      "ConvLSTM Dirichlet Markov Ensemble:\n",
      "Body Model (weight: 0.0081)\n",
      "Face Model (weight: 0.9919)\n",
      "Accuracy: 28.57% - ROC/AUC: 0.49 - Precision: 0.33 - Recall: 0.35 - F1 score: 0.27\n"
     ]
    }
   ],
   "source": [
    "print('ConvLSTM Dirichlet Markov Ensemble:')\n",
    "d = convLSTM_dirichletEnsemble.describe()"
   ]
  },
  {
   "cell_type": "code",
   "execution_count": null,
   "metadata": {},
   "outputs": [
    {
     "name": "stdout",
     "output_type": "stream",
     "text": [
      "RCNN Dirichlet Markov Ensemble:\n",
      "Body Model (weight: 0.6381)\n",
      "Face Model (weight: 0.3619)\n",
      "Accuracy: 59.52% - ROC/AUC: 0.50 - Precision: 0.29 - Recall: 0.43 - F1 score: 0.33\n"
     ]
    }
   ],
   "source": [
    "print('RCNN Dirichlet Markov Ensemble:')\n",
    "d = rcnn_dirichletEnsemble.describe()"
   ]
  }
 ],
 "metadata": {
  "interpreter": {
   "hash": "225abd0b4b41c85229fb7285a24282bb8b7c5c494a1c5011beaea88d2c1fa3cf"
  },
  "kernelspec": {
   "display_name": "Python 3.9.10 ('masters-thesis-dSEc-4wZ')",
   "language": "python",
   "name": "python3"
  },
  "language_info": {
   "codemirror_mode": {
    "name": "ipython",
    "version": 3
   },
   "file_extension": ".py",
   "mimetype": "text/x-python",
   "name": "python",
   "nbconvert_exporter": "python",
   "pygments_lexer": "ipython3",
   "version": "3.9.7"
  },
  "orig_nbformat": 4
 },
 "nbformat": 4,
 "nbformat_minor": 2
}
