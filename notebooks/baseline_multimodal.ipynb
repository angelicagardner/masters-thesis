{
 "cells": [
  {
   "cell_type": "markdown",
   "metadata": {},
   "source": [
    "# Baseline Results for Multi-modal Approaches\n",
    "\n",
    "Evaluation metrics used:\n",
    "\n",
    "- ROC/AUC\n",
    "- Accuracy \n",
    "- Precision\n",
    "- Recall\n",
    "- F1-score"
   ]
  },
  {
   "cell_type": "code",
   "execution_count": 1,
   "metadata": {},
   "outputs": [],
   "source": [
    "import os\n",
    "os.environ['TF_CPP_MIN_LOG_LEVEL'] = '3'\n",
    "import warnings\n",
    "warnings.filterwarnings(\"ignore\")\n",
    "\n",
    "import numpy as np\n",
    "import pandas as pd\n",
    "import matplotlib.pyplot as plt\n",
    "import tensorflow as tf \n",
    "import tensorflow_addons as tfa\n",
    "\n",
    "from pathlib import Path\n",
    "from sklearn.preprocessing import LabelBinarizer\n",
    "from sklearn.model_selection import KFold\n",
    "from sklearn.ensemble import RandomForestClassifier\n",
    "from sklearn.metrics import precision_recall_fscore_support, roc_auc_score, accuracy_score\n",
    "from tensorflow.keras import optimizers\n",
    "from tensorflow.keras.layers import Layer, Input, LSTM, Dense, Flatten, TimeDistributed, Conv1D,  MaxPooling1D, ConvLSTM1D, BatchNormalization, Bidirectional, PReLU, Concatenate\n",
    "from tensorflow.keras import models, Model\n",
    "from tensorflow.keras.initializers import Constant"
   ]
  },
  {
   "cell_type": "markdown",
   "metadata": {},
   "source": [
    "## Methods for loading datasets and creating model architectures"
   ]
  },
  {
   "cell_type": "code",
   "execution_count": 2,
   "metadata": {},
   "outputs": [],
   "source": [
    "def load_file(file):\n",
    "    df = pd.read_csv(file, header=0)\n",
    "    labels = df['pain']\n",
    "    df = df.drop(columns=['pain'])\n",
    "    df.drop(df.columns[-1], axis=1, inplace=True)\n",
    "    return df.to_numpy(), labels\n",
    "\n",
    "def load_dataset(input_filepath, modality):\n",
    "    root_dir = Path(os.path.abspath('')).parent\n",
    "    data_dir = root_dir / 'data'\n",
    "    train_filepath = data_dir / input_filepath / 'train' / modality\n",
    "    test_filepath = data_dir / input_filepath / 'test' / modality\n",
    "    # 1. Load train data\n",
    "    X = list()\n",
    "    y = list()\n",
    "    for file in train_filepath.iterdir():\n",
    "        if file.is_file() and file.name.endswith('.csv'):\n",
    "            x, labels = load_file(file)\n",
    "            X.append(x)\n",
    "            y.append(labels[0])\n",
    "    n_length = X[0].shape[0]\n",
    "    n_features = X[0].shape[1]\n",
    "    X = np.array(X)\n",
    "    X_train = X.reshape((len(X), 1, n_length, n_features))\n",
    "    lb = LabelBinarizer()\n",
    "    y_train = lb.fit_transform(y)\n",
    "    # 2. Load test data\n",
    "    X = list()\n",
    "    y = list()\n",
    "    for file in test_filepath.iterdir():\n",
    "        if file.is_file() and file.name.endswith('.csv'):\n",
    "            x, labels = load_file(file)\n",
    "            X.append(x)\n",
    "            y.append(labels[0])\n",
    "    n_length = X[0].shape[0]\n",
    "    n_features = X[0].shape[1]\n",
    "    X = np.array(X)\n",
    "    X_test = X.reshape((len(X), 1, n_length, n_features))\n",
    "    y_test = lb.transform(y)\n",
    "    return X_train, X_test, y_train, y_test"
   ]
  },
  {
   "cell_type": "code",
   "execution_count": 3,
   "metadata": {},
   "outputs": [],
   "source": [
    "def apply_early_fusion(input_filepath):\n",
    "    root_dir = Path(os.path.abspath('')).parent\n",
    "    data_dir = root_dir / 'data'\n",
    "    body_train_filepath = data_dir / input_filepath / 'train' / 'skeleton'\n",
    "    body_test_filepath = data_dir / input_filepath / 'test' / 'skeleton'\n",
    "    face_train_filepath = data_dir / input_filepath / 'train' / 'AUs'\n",
    "    face_test_filepath = data_dir / input_filepath / 'test' / 'AUs'\n",
    "    # 1. Load train data\n",
    "    X = list()\n",
    "    y = list()\n",
    "    for file in body_train_filepath.iterdir():\n",
    "        if file.is_file() and file.name.endswith('.csv'):\n",
    "            body_x, body_labels = load_file(file)\n",
    "            has_equivalent_face_file = False\n",
    "            for second_file in face_train_filepath.iterdir():\n",
    "                if second_file.is_file() and second_file.name.endswith('.csv') and second_file.name == file.name:\n",
    "                    # Concatenate features\n",
    "                    face_x, face_labels = load_file(second_file)\n",
    "                    full_X = np.concatenate((body_x, face_x), axis=1)\n",
    "                    X.append(full_X)\n",
    "                    y.append(body_labels[0])\n",
    "                    has_equivalent_face_file = True\n",
    "                    break\n",
    "            if not has_equivalent_face_file:\n",
    "                # Add null values to the face features\n",
    "                full_X = np.concatenate((body_x, np.zeros((body_x.shape[0], 10))), axis=1)\n",
    "                X.append(full_X)\n",
    "                y.append(body_labels[0])\n",
    "    n_length = X[0].shape[0]\n",
    "    n_features = X[0].shape[1]\n",
    "    X = np.array(X)\n",
    "    X_train = X.reshape((len(X), 1, n_length, n_features))\n",
    "    lb = LabelBinarizer()\n",
    "    y_train = lb.fit_transform(y)\n",
    "    # 2. Load test data\n",
    "    X = list()\n",
    "    y = list()\n",
    "    for file in body_test_filepath.iterdir():\n",
    "        if file.is_file() and file.name.endswith('.csv'):\n",
    "            body_x, body_labels = load_file(file)\n",
    "            has_equivalent_face_file = False\n",
    "            for second_file in face_test_filepath.iterdir():\n",
    "                if second_file.is_file() and second_file.name.endswith('.csv') and second_file.name == file.name:\n",
    "                    # Concatenate features\n",
    "                    face_x, face_labels = load_file(second_file)\n",
    "                    full_X = np.concatenate((body_x, face_x), axis=1)\n",
    "                    X.append(full_X)\n",
    "                    y.append(body_labels[0])\n",
    "                    has_equivalent_face_file = True\n",
    "                    break\n",
    "            if not has_equivalent_face_file:\n",
    "                # Add null values to the face features\n",
    "                full_X = np.concatenate((body_x, np.zeros((body_x.shape[0], 10))), axis=1)\n",
    "                X.append(full_X)\n",
    "                y.append(body_labels[0])\n",
    "    n_length = X[0].shape[0]\n",
    "    n_features = X[0].shape[1]\n",
    "    X = np.array(X)\n",
    "    X_test = X.reshape((len(X), 1, n_length, n_features))\n",
    "    y_test = lb.transform(y)\n",
    "    return X_train, X_test, y_train, y_test"
   ]
  },
  {
   "cell_type": "code",
   "execution_count": 4,
   "metadata": {},
   "outputs": [],
   "source": [
    "class KerasMember():\n",
    "    def __init__(self, name=None, keras_model=None, train_batches=None,\n",
    "                 val_batches=None, submission_probs=None, keras_modelpath=None,\n",
    "                 keras_kwargs={}):\n",
    "        assert(name is not None)\n",
    "        self.name = name\n",
    "        self.model = keras_model\n",
    "        self.submission_probs = submission_probs\n",
    "        # Initialize Params\n",
    "        self.val_probs = None\n",
    "        self.train_probs = None\n",
    "        self.val_classes = None\n",
    "        self.train_classes = None\n",
    "        if (keras_model is None) and (keras_modelpath is not None):\n",
    "            self.load_kerasmodel(self.keras_modelpath, self.keras_kwargs)\n",
    "        if train_batches is not None:\n",
    "            self._calculate_train_predictions(train_batches)\n",
    "        if val_batches is not None:\n",
    "            self._calculate_val_predictions(val_batches)\n",
    "\n",
    "    def _test_datatuple(self, datatuple):\n",
    "        assert(len(datatuple) == 2)\n",
    "        assert(datatuple[0].shape[0] == datatuple[1].shape[0])\n",
    "\n",
    "    def _calculate_predictions(self, batches):\n",
    "        if hasattr(batches, 'shuffle'):\n",
    "            batches.reset()\n",
    "            batches.shuffle = False\n",
    "        if type(batches) is tuple:\n",
    "            self._test_datatuple(batches)\n",
    "            return self.model.predict(batches[0])\n",
    "        return self.model.predict_generator(\n",
    "            batches, steps=(batches.n // batches.batch_size) + 1, verbose=1)\n",
    "\n",
    "    def _calculate_val_predictions(self, val_batches):\n",
    "        if type(val_batches) is tuple:\n",
    "            self.val_classes = val_batches[1]\n",
    "        elif hasattr(val_batches, 'classes'):\n",
    "            self.val_classes = np.array(val_batches.classes)\n",
    "        elif hasattr(val_batches, 'y'):\n",
    "            self.val_classes = np.array(val_batches.y)\n",
    "        else:\n",
    "            raise ValueError(\"No known class in data batch\")\n",
    "        self.val_probs = self._calculate_predictions(val_batches)\n",
    "        return self.val_probs\n",
    "\n",
    "    def _calculate_train_predictions(self, train_batches):\n",
    "        if type(train_batches) is tuple:\n",
    "            self.train_classes = train_batches[1]\n",
    "        elif hasattr(train_batches, 'classes'):\n",
    "            self.train_classes = np.array(train_batches.classes)\n",
    "        elif hasattr(train_batches, 'y'):\n",
    "            self.train_classes = np.array(train_batches.y)\n",
    "        else:\n",
    "            raise ValueError(\"No known class in data batch\")\n",
    "        self.train_probs = self._calculate_predictions(train_batches)\n",
    "        return self.train_probs\n"
   ]
  },
  {
   "cell_type": "markdown",
   "metadata": {},
   "source": [
    "### Bidirectional LSTM Model\n",
    "\n",
    "Bidrectional LSTM runs the input in two ways (past to future and future to past) making it possible to preserve information both backwards and forwards. I included this layer type anticipating it could be suited for making the model understand context to assess any experience of pain. \n",
    "\n",
    "Additionally, bidrectional LSTM is used by [Bargshady et al.](https://pubmed.ncbi.nlm.nih.gov/34756219/) in an Ensemble combination of CNN+BiLSTM models for facial expressions modality. Their settings: \n",
    "\n",
    "- filters: 256\n",
    "- dense: 4096"
   ]
  },
  {
   "cell_type": "code",
   "execution_count": 5,
   "metadata": {},
   "outputs": [],
   "source": [
    "def build_biConvLSTM(n_features, n_length, n_outputs, num_classes):\n",
    "    model = models.Sequential()\n",
    "    model.add(Bidirectional(ConvLSTM1D(filters=100, kernel_size=(3), activation='relu', input_shape=(None, n_length, n_features))))\n",
    "    model.add(Flatten())\n",
    "    model.add(Dense(100, activation='relu'))\n",
    "    model.add(Dense(n_outputs, activation='softmax'))\n",
    "    lr_schedule = optimizers.schedules.ExponentialDecay(\n",
    "        initial_learning_rate=0.001,\n",
    "        decay_steps=50,\n",
    "        decay_rate=0.1)\n",
    "    optimizer = optimizers.Adam(learning_rate=lr_schedule)\n",
    "    model.compile(loss='categorical_crossentropy',\n",
    "        optimizer=optimizer, metrics=['accuracy', tf.keras.metrics.AUC(), tf.keras.metrics.Precision(), tf.keras.metrics.Recall(), tfa.metrics.F1Score(num_classes=num_classes, average='macro')])\n",
    "    return model\n",
    "\n",
    "def train(model, X_train, y_train, X_val, y_val, epochs, batch_size):\n",
    "    early_stopping = tf.keras.callbacks.EarlyStopping(\n",
    "        monitor='val_loss', patience=2)\n",
    "    history = model.fit(X_train, y_train, validation_data=(X_val, y_val), epochs=epochs, callbacks=[early_stopping],\n",
    "        batch_size=batch_size, verbose=2)\n",
    "    return history"
   ]
  },
  {
   "cell_type": "markdown",
   "metadata": {},
   "source": [
    "### CNN+LSTM Model\n",
    "\n",
    "This combination was developed for visual time series prediction problems and is popular in both activity recognition and pain assessment areas.\n",
    "\n",
    "Several previous work has used CNN+LSTM models, for example:\n",
    "\n",
    "- [Yang et al.](https://arxiv.org/abs/2105.08822) to encode appearance changes and physiological cues from videos. \n",
    "\n",
    "- [Salekin et al.](https://arxiv.org/abs/2012.02175). Combines three modalities with (late) decision fusion. CNN filters start at 64 and gradually increses by a factor of 2 until 512. Used a small kernel size of 3, and follow with a pooling layer. Dense: 512. LSTM: 16 with activation tanh and recurrent activation hard sigmoid (because of binary classification). \n",
    "\n",
    "- [Haque et al.](https://ieeexplore-ieee-org.proxy.lnu.se/document/8373837) extracts RGB, thermal, depth features from videos and test two fusion strategies (early fusion received highest performance). LSTM hidden states vary between 64 and 256.\n",
    "\n",
    "- [Rodriguez et al.](https://ieeexplore-ieee-org.proxy.lnu.se/document/7849133). Trying to make an end-to-end framework using VGGFace architecture + LSTM."
   ]
  },
  {
   "cell_type": "code",
   "execution_count": 6,
   "metadata": {},
   "outputs": [],
   "source": [
    "def get_CNN(n_features, n_length, n_outputs, num_classes):\n",
    "    model = models.Sequential()\n",
    "    model.add(TimeDistributed(Conv1D(filters=64, kernel_size=3,\n",
    "        activation='relu'), input_shape=(None, n_length, n_features)))\n",
    "    model.add(TimeDistributed(MaxPooling1D(pool_size=2, data_format='channels_first')))\n",
    "    model.add(TimeDistributed(Flatten()))\n",
    "    model.add(LSTM(100))\n",
    "    model.add(Dense(100, activation='relu'))\n",
    "    model.add(Dense(n_outputs, activation='softmax'))\n",
    "    lr_schedule = optimizers.schedules.ExponentialDecay(\n",
    "        initial_learning_rate=0.001,\n",
    "        decay_steps=50,\n",
    "        decay_rate=0.1)\n",
    "    optimizer = optimizers.Adam(learning_rate=lr_schedule)\n",
    "    model.compile(loss='categorical_crossentropy',\n",
    "        optimizer=optimizer, metrics=['accuracy', tf.keras.metrics.AUC(), tf.keras.metrics.Precision(), tf.keras.metrics.Recall(), tfa.metrics.F1Score(num_classes=num_classes, average='macro')])\n",
    "    return model"
   ]
  },
  {
   "cell_type": "markdown",
   "metadata": {},
   "source": [
    "### Convolutional LSTM Model\n",
    "\n",
    "A CNN-LSTM (model above) is an integration of a CNN with an LSTM, but ConvLSTM is a kind of LSTM which replaces the matrix multiplication with convolution operation at each gate in the LSTM cell.\n",
    "\n",
    "I have not encountered this layer type when preparing the training protocol (from previous work), but I find it interesting to see if it could give different results."
   ]
  },
  {
   "cell_type": "code",
   "execution_count": 7,
   "metadata": {},
   "outputs": [],
   "source": [
    "def build_convLSTM(n_features, n_length, n_outputs, num_classes):\n",
    "    model = models.Sequential()\n",
    "    model.add(ConvLSTM1D(filters=64, kernel_size=(3), activation='relu', input_shape=(None, n_length, n_features)))\n",
    "    model.add(Flatten())\n",
    "    model.add(Dense(100, activation='relu'))\n",
    "    model.add(Dense(n_outputs, activation='softmax'))\n",
    "    lr_schedule = optimizers.schedules.ExponentialDecay(\n",
    "        initial_learning_rate=0.001,\n",
    "        decay_steps=50,\n",
    "        decay_rate=0.1)\n",
    "    optimizer = optimizers.Adam(learning_rate=lr_schedule)\n",
    "    model.compile(loss='categorical_crossentropy',\n",
    "        optimizer=optimizer, metrics=['accuracy', tf.keras.metrics.AUC(), tf.keras.metrics.Precision(), tf.keras.metrics.Recall(), tfa.metrics.F1Score(num_classes=num_classes, average='macro')])\n",
    "    return model"
   ]
  },
  {
   "cell_type": "markdown",
   "metadata": {},
   "source": [
    "### RCNN (Recurrent CNN) Model\n",
    "\n",
    "A network that has both convolutional and recurrent convolutional layers, or adding recurrent connections within every convolutional layer of a feed-forward CNN.\n",
    "\n",
    "Additionally, RCNN is used by [Zhou et al.](https://ieeexplore-ieee-org.proxy.lnu.se/document/7789681) with video input for pain intensity prediction using PSPI."
   ]
  },
  {
   "cell_type": "code",
   "execution_count": 8,
   "metadata": {},
   "outputs": [],
   "source": [
    "def build_RCNN(n_features, n_length, n_outputs, num_classes):\n",
    "    model = models.Sequential()\n",
    "    model.add(TimeDistributed(Conv1D(filters=128, kernel_size=3, activation='relu'), input_shape=(1, n_length, n_features)))\n",
    "    model.add(BatchNormalization())\n",
    "    model.add(PReLU(alpha_initializer=Constant(value=0.25)))\n",
    "    model.add(TimeDistributed(MaxPooling1D(pool_size=2, data_format='channels_first')))\n",
    "    model.add(TimeDistributed(Conv1D(filters=64, kernel_size=3, activation='relu')))\n",
    "    model.add(BatchNormalization())\n",
    "    model.add(PReLU(alpha_initializer=Constant(value=0.25)))\n",
    "    model.add(TimeDistributed(MaxPooling1D(pool_size=2, data_format='channels_first')))\n",
    "    model.add(Flatten())\n",
    "    model.add(Dense(256))\n",
    "    model.add(PReLU(alpha_initializer=Constant(value=0.25)))\n",
    "    model.add(Dense(n_outputs, activation='softmax'))\n",
    "    lr_schedule = optimizers.schedules.ExponentialDecay(\n",
    "        initial_learning_rate=0.001,\n",
    "        decay_steps=50,\n",
    "        decay_rate=0.1)\n",
    "    optimizer = optimizers.Adam(learning_rate=lr_schedule)\n",
    "    model.compile(loss='categorical_crossentropy',\n",
    "       optimizer=optimizer, metrics=['accuracy', tf.keras.metrics.AUC(), tf.keras.metrics.Precision(), tf.keras.metrics.Recall(), tfa.metrics.F1Score(num_classes=num_classes, average='macro')])\n",
    "    return model"
   ]
  },
  {
   "cell_type": "markdown",
   "metadata": {},
   "source": [
    "### Stacking Ensemble with hard voting\n",
    "\n",
    "Hard voting involves summing the member predictions for each class label and predicting the class label with the most votes."
   ]
  },
  {
   "cell_type": "code",
   "execution_count": 9,
   "metadata": {},
   "outputs": [],
   "source": [
    "class StackEnsemble():\n",
    "    def __init__(self, model=None):\n",
    "        self.model = model\n",
    "        if model is None:\n",
    "            self.model = RandomForestClassifier(n_estimators=100, max_depth=4, n_jobs=20)\n",
    "        # Initialize Parameters:\n",
    "        self.members = []\n",
    "        self._nmembers = 0\n",
    "        self.predictions = None\n",
    "        self._y_squeezed = False  # Flags if labels dimension must be squeezed\n",
    "\n",
    "    def __repr__(self):\n",
    "        reps = [member.name for member in self.members]\n",
    "        return \"<StackEnsemble: [\" + \", \".join(reps) + \"]>\"\n",
    "\n",
    "    def __str__(self):\n",
    "        reps = [member.name for member in self.members]\n",
    "        return \"StackEnsemble: with\" + \\\n",
    "            str(self._nmembers) + \" Base-Learners [\" + \", \".join(reps) + \"]\"\n",
    "\n",
    "    def add_members(self, members):\n",
    "        for member in members:\n",
    "            self.add_member(member)\n",
    "        self._test()\n",
    "\n",
    "    def add_member(self, member):\n",
    "        self.members.append(member)\n",
    "        self._nmembers += 1\n",
    "        if member.val_probs is None:\n",
    "            try:\n",
    "                member.val_probs = member._calculate_val_predictions()\n",
    "            except Exception as e:\n",
    "                warnings.warn(str(e))\n",
    "        if member.train_probs is None:\n",
    "            try:\n",
    "                member.train_probs = member._calculate_train_predictions()\n",
    "            except Exception as e:\n",
    "                warnings.warn(str(e))\n",
    "\n",
    "    def fit(self, X=None, y=None, kwargs={}):\n",
    "        assert(len(self.members) > 1)\n",
    "        # Assumption: all members have same train_batches.classes\n",
    "        if X is None or y is None:\n",
    "            return self._fit_train()\n",
    "        if X.ndim >= 3:\n",
    "            X = X.reshape(X.shape[0], np.prod(X.shape[1::]))\n",
    "        try:\n",
    "            self._y_squeezed = False\n",
    "            return self.model.fit(X, y, **kwargs)\n",
    "        except ValueError:  # Normally bad input shape for non-multi-output models\n",
    "            self._y_squeezed = True\n",
    "            y_flat = np.argmax(y, axis=1)\n",
    "            return self.model.fit(X, y_flat, **kwargs)\n",
    "\n",
    "    def predict(self, X, predict_proba=False, kwargs={}):\n",
    "        if X is None:\n",
    "            X = self._get_pred_X()\n",
    "        if X.ndim == 3:\n",
    "            X = X.reshape(X.shape[0], X.shape[1] * X.shape[2])\n",
    "        if (predict_proba or self._y_squeezed) and hasattr(self.model, 'predict_proba'):\n",
    "            self.predictions = self.model.predict_proba(X, **kwargs)\n",
    "        elif hasattr(self.model, 'predict'):\n",
    "            self.predictions = self.model.predict(X, **kwargs)\n",
    "        else:\n",
    "            raise ValueError(\"Model has no predict function\")\n",
    "        return np.array(self.predictions)\n",
    "\n",
    "    def describe(self, probabilities_val=None, metric=None, maximize=True):\n",
    "        best_score = float(\"-inf\") if maximize else float(\"inf\")\n",
    "        if metric is None:\n",
    "            metric = roc_auc_score\n",
    "        if probabilities_val is None:\n",
    "            probabilities_val = self._predict_val()\n",
    "        # Assumption: all members have same val_classes\n",
    "        val_classes = self.members[0].val_classes\n",
    "        for i in range(self._nmembers):\n",
    "            member = self.members[i]\n",
    "            auc_score = _calculate_metric(\n",
    "                member.val_classes, member.val_probs)\n",
    "            acc_score = _calculate_metric(\n",
    "                member.val_classes, member.val_probs, accuracy_score)\n",
    "            prf1 = _calculate_metric(\n",
    "                member.val_classes, member.val_probs, precision_recall_fscore_support)\n",
    "            p = prf1[0]\n",
    "            r = prf1[1]\n",
    "            f1 = prf1[2]\n",
    "            max_flag = maximize and auc_score > best_score\n",
    "            min_flag = not(maximize) and auc_score < best_score\n",
    "            if max_flag or min_flag:\n",
    "                best_score = auc_score\n",
    "            text = member.name + \" - ROC/AUC: {:1.2f}, Accuracy: {:1.2f}%, Precision: {:1.2f}, Recall: {:1.2f}, F1 score: {:1.2f}\".format(\n",
    "                auc_score, acc_score * 100, p, r, f1)\n",
    "            print(text, '\\n')\n",
    "        ensemble_score = _calculate_metric(\n",
    "            val_classes, probabilities_val)\n",
    "        ensemble_accuracy = _calculate_metric(\n",
    "                val_classes, probabilities_val, accuracy_score)\n",
    "        ensemble_prf1 = _calculate_metric(\n",
    "                val_classes, probabilities_val, precision_recall_fscore_support)\n",
    "        ensemble_p = ensemble_prf1[0]\n",
    "        ensemble_r = ensemble_prf1[1]\n",
    "        ensemble_f1 = ensemble_prf1[2]\n",
    "        print(\"StackEnsemble - ROC/AUC: {:1.2f}, Accuracy: {:1.2f}%, Precision: {:1.2f}, Recall: {:1.2f}, F1 score: {:1.2f}\".format(\n",
    "            ensemble_score, ensemble_accuracy * 100, ensemble_p, ensemble_r, ensemble_f1))\n",
    "        return ensemble_score\n",
    "\n",
    "    def _get_X(self, attrname):\n",
    "        X = []\n",
    "        probs = getattr(self.members[0], attrname)\n",
    "        # Assumption: all members have same train_probs length\n",
    "        for i in range(len(probs)):\n",
    "            preds = []\n",
    "            for member in self.members:\n",
    "                preds.append(getattr(member, attrname)[i])\n",
    "            X.append(preds)\n",
    "        return np.array(X)\n",
    "\n",
    "    def _get_train_X(self):\n",
    "        return self._get_X(\"train_probs\")\n",
    "\n",
    "    def _get_val_X(self):\n",
    "        return self._get_X(\"val_probs\")\n",
    "\n",
    "    def _get_pred_X(self):\n",
    "        return self._get_X(\"submission_probs\")\n",
    "\n",
    "    def _fit_train(self):\n",
    "        return self.fit(self._get_train_X(), self.members[0].train_classes)\n",
    "\n",
    "    def _fit_submission(self):\n",
    "        X1 = self._get_train_X()\n",
    "        X2 = self._get_val_X()\n",
    "        y1 = self.members[0].train_classes\n",
    "        y2 = self.members[0].val_classes\n",
    "        X = np.concatenate((X1, X2))\n",
    "        y = np.concatenate((y1, y2))\n",
    "        return self.fit(X, y)\n",
    "\n",
    "    def _predict_val(self):\n",
    "        return self.predict(self._get_val_X())\n",
    "\n",
    "\n",
    "def _calculate_metric(y_true, y_pred, metric=None):\n",
    "    if metric is None:\n",
    "        metric = roc_auc_score\n",
    "    y_t = y_true\n",
    "    y_p = y_pred\n",
    "    if metric == roc_auc_score:\n",
    "        return metric(y_t, y_p, multi_class='ovo')\n",
    "    if y_true.ndim > 1:\n",
    "        y_t = np.argmax(y_true, axis=1)\n",
    "    if y_pred.ndim > 1:\n",
    "        y_p = np.argmax(y_pred, axis=1)\n",
    "    if metric is precision_recall_fscore_support:\n",
    "        return precision_recall_fscore_support(y_t, y_p, average='macro')\n",
    "    return metric(y_t, y_p)"
   ]
  },
  {
   "cell_type": "markdown",
   "metadata": {},
   "source": [
    "### Dirichlet Markov Ensemble with soft voting\n",
    "\n",
    "The Dirichlet ensemble weights the ensemble members based on validation set performance. The weight optimization search is performed with randomized search based on the dirichlet distribution. \n",
    "    \n",
    "Soft voting involves summing the predicted probability scores for each class label and predicting the class label with the largest probability."
   ]
  },
  {
   "cell_type": "code",
   "execution_count": 10,
   "metadata": {},
   "outputs": [],
   "source": [
    "class DirichletEnsemble():\n",
    "    def __init__(self, N=10000, metric=None, maximize=True):\n",
    "        self.n = N\n",
    "        self.metric = metric\n",
    "        if metric is None:\n",
    "            self.metric = roc_auc_score\n",
    "        self.maximize = maximize\n",
    "        # Initialize Parameters:\n",
    "        self.members = []\n",
    "        self.bestweights = []\n",
    "        self.probabilities = None\n",
    "        self._nmembers = 0\n",
    "        self.bestscore = float(\"-inf\") if maximize else float(\"inf\")\n",
    "        self.accuracy = None\n",
    "        self.precision = None\n",
    "        self.recall = None\n",
    "        self.f1 = None\n",
    "        self.fitted = False\n",
    "\n",
    "    def add_members(self, members):\n",
    "        for member in members:\n",
    "            self.add_member(member)\n",
    "\n",
    "    def add_member(self, member):\n",
    "        self.members.append(member)\n",
    "        self._nmembers += 1\n",
    "\n",
    "    def fit(self, verbose=False):\n",
    "        assert(len(self.members) > 1)\n",
    "        val_classes = self.members[0].val_classes\n",
    "        best_ensemble_score = float(\"-inf\") if self.maximize else float(\"inf\")\n",
    "        best_ensemble_accuracy = 0\n",
    "        best_ensemble_p = 0\n",
    "        best_ensemble_r = 0\n",
    "        best_ensemble_f1 = 0\n",
    "        rsbest = None\n",
    "        for i in range(self.n):\n",
    "            rs = np.random.dirichlet(np.ones(self._nmembers), size=1)[0]\n",
    "            preds = np.sum(np.array([self.members[i].val_probs * rs[i]\n",
    "                                     for i in range(self._nmembers)]), axis=0)\n",
    "            ensemble_score = _calculate_metric(val_classes, preds)\n",
    "            ensemble_accuracy = _calculate_metric(val_classes, preds, accuracy_score)\n",
    "            ensemble_prf1 = _calculate_metric(val_classes, preds, precision_recall_fscore_support)\n",
    "            ensemble_p = ensemble_prf1[0]\n",
    "            ensemble_r = ensemble_prf1[1]\n",
    "            ensemble_f1 = ensemble_prf1[2]\n",
    "            max_flag = self.maximize and ensemble_score > best_ensemble_score\n",
    "            min_flag = not(\n",
    "                self.maximize) and ensemble_score < best_ensemble_score\n",
    "            if max_flag or min_flag:\n",
    "                if verbose:\n",
    "                    print(ensemble_score, i, rs) \n",
    "                best_ensemble_score = ensemble_score\n",
    "                rsbest = rs\n",
    "            if ensemble_accuracy > best_ensemble_accuracy:\n",
    "                if verbose:\n",
    "                    print(ensemble_accuracy, i, rs) \n",
    "                best_ensemble_accuracy = ensemble_accuracy\n",
    "            if ensemble_p > best_ensemble_p:\n",
    "                if verbose:\n",
    "                    print(ensemble_p, i, rs) \n",
    "                best_ensemble_p = ensemble_p\n",
    "            if ensemble_r > best_ensemble_r:\n",
    "                if verbose:\n",
    "                    print(ensemble_r, i, rs) \n",
    "                best_ensemble_r = ensemble_r\n",
    "            if ensemble_f1 > best_ensemble_f1:\n",
    "                if verbose:\n",
    "                    print(ensemble_f1, i, rs) \n",
    "                best_ensemble_f1 = ensemble_f1\n",
    "        self.bestweights = rsbest\n",
    "        self.bestscore = best_ensemble_score\n",
    "        self.accuracy = best_ensemble_accuracy\n",
    "        self.precision = best_ensemble_p\n",
    "        self.recall = best_ensemble_r\n",
    "        self.f1 = best_ensemble_f1\n",
    "\n",
    "    def predict(self):\n",
    "        self.probabilities = np.sum(np.array([self.bestweights[i] *\n",
    "                                              self.members[i].submission_probs\n",
    "                                              for i in range(self._nmembers)]),\n",
    "                                    axis=0)\n",
    "        return self.probabilities\n",
    "        \n",
    "    def describe(self):\n",
    "        for i in range(self._nmembers):\n",
    "            member = self.members[i]\n",
    "            auc_score = _calculate_metric(\n",
    "                member.val_classes, member.val_probs)\n",
    "            acc_score = _calculate_metric(\n",
    "                member.val_classes, member.val_probs, accuracy_score)\n",
    "            prf1 = _calculate_metric(\n",
    "                member.val_classes, member.val_probs, precision_recall_fscore_support)\n",
    "            p = prf1[0]\n",
    "            r = prf1[1]\n",
    "            f1 = prf1[2]\n",
    "            text = self.members[i].name + \" (weight: {:1.4f}) - ROC/AUC: {:1.2f}, Accuracy: {:1.2f}%, Precision: {:1.2f}, Recall: {:1.2f}, F1 score: {:1.2f}\".format(\n",
    "                self.bestweights[i], auc_score, acc_score * 100, p, r, f1)\n",
    "            print(text, '\\n')\n",
    "        print(\"DirichletEnsemble - ROC/AUC: {:1.2f}, Accuracy: {:1.2f}%, Precision: {:1.2f}, Recall: {:1.2f}, F1 score: {:1.2f}\".format(\n",
    "            self.bestscore, self.accuracy * 100, self.precision, self.recall, self.f1))\n",
    "        return"
   ]
  },
  {
   "cell_type": "markdown",
   "metadata": {},
   "source": [
    "### Fusion mechanism: Weighed Sum"
   ]
  },
  {
   "cell_type": "code",
   "execution_count": 11,
   "metadata": {},
   "outputs": [],
   "source": [
    "class WeightedSum(Layer):\n",
    "    def __init__(self, a, **kwargs):\n",
    "        self.a = a \n",
    "        super(WeightedSum, self).__init__(**kwargs)\n",
    "\n",
    "    def call(self, model_outputs):\n",
    "        return self.a * model_outputs[0] + (1 - self.a) * model_outputs[1]\n",
    "\n",
    "    def compute_output_shape(self, input_shape):\n",
    "        return input_shape[0]"
   ]
  },
  {
   "cell_type": "markdown",
   "metadata": {},
   "source": [
    "### Fusion mechanism: Unweighted Majority Voting\n",
    "\n",
    "If the combination has a tie, the class probability (confidence score) is used to break the tie."
   ]
  },
  {
   "cell_type": "code",
   "execution_count": 12,
   "metadata": {},
   "outputs": [],
   "source": [
    "# Concatenate pain area and level into pain model\n",
    "\n",
    "# Late fusion without ensemble only possible for shared layer where body modality gives input to face modality? "
   ]
  },
  {
   "cell_type": "code",
   "execution_count": 13,
   "metadata": {},
   "outputs": [],
   "source": [
    "# 1. Train Pain area\n",
    "# 2. Train Pain level\n",
    "# 3. Concatenate"
   ]
  },
  {
   "cell_type": "markdown",
   "metadata": {},
   "source": [
    "## 1. Train uni-modal approaches & combine into ensembles"
   ]
  },
  {
   "cell_type": "markdown",
   "metadata": {},
   "source": [
    "### 1.1 Body modality (skeleton)"
   ]
  },
  {
   "cell_type": "code",
   "execution_count": 14,
   "metadata": {},
   "outputs": [
    {
     "name": "stdout",
     "output_type": "stream",
     "text": [
      "(525, 1, 350, 38) (525, 5)\n",
      "(90, 1, 350, 38) (90, 5)\n"
     ]
    }
   ],
   "source": [
    "X_train, X_test, y_train, y_test = load_dataset('processed', 'skeleton')\n",
    "X = X_train.copy()\n",
    "y = y_train.copy()\n",
    "\n",
    "print(X_train.shape, y_train.shape)\n",
    "print(X_test.shape, y_test.shape)\n",
    "\n",
    "n_length, n_features, n_outputs = X_train.shape[2], X_train.shape[-1], y_train.shape[1]"
   ]
  },
  {
   "cell_type": "markdown",
   "metadata": {},
   "source": [
    "#### KFold CV"
   ]
  },
  {
   "cell_type": "code",
   "execution_count": 15,
   "metadata": {},
   "outputs": [],
   "source": [
    "kf = KFold(n_splits=3, shuffle=True, random_state=42)"
   ]
  },
  {
   "cell_type": "code",
   "execution_count": 16,
   "metadata": {},
   "outputs": [],
   "source": [
    "epochs, batch_size = 50, 256"
   ]
  },
  {
   "cell_type": "markdown",
   "metadata": {},
   "source": [
    "#### Train BiLSTM"
   ]
  },
  {
   "cell_type": "code",
   "execution_count": 17,
   "metadata": {},
   "outputs": [
    {
     "name": "stdout",
     "output_type": "stream",
     "text": [
      "Epoch 1/50\n",
      "2/2 - 10s - loss: 126.1544 - accuracy: 0.2143 - auc_1: 0.5083 - precision_1: 0.2149 - recall_1: 0.2143 - f1_score: 0.1289 - val_loss: 848.4956 - val_accuracy: 0.3029 - val_auc_1: 0.5643 - val_precision_1: 0.3029 - val_recall_1: 0.3029 - val_f1_score: 0.0930 - 10s/epoch - 5s/step\n",
      "Epoch 2/50\n",
      "2/2 - 2s - loss: 816.4317 - accuracy: 0.2857 - auc_1: 0.5536 - precision_1: 0.2857 - recall_1: 0.2857 - f1_score: 0.0889 - val_loss: 344.7365 - val_accuracy: 0.1143 - val_auc_1: 0.4464 - val_precision_1: 0.1143 - val_recall_1: 0.1143 - val_f1_score: 0.0410 - 2s/epoch - 1s/step\n",
      "Epoch 3/50\n",
      "2/2 - 2s - loss: 297.5280 - accuracy: 0.1171 - auc_1: 0.4521 - precision_1: 0.1171 - recall_1: 0.1171 - f1_score: 0.0628 - val_loss: 148.1526 - val_accuracy: 0.3943 - val_auc_1: 0.6214 - val_precision_1: 0.3943 - val_recall_1: 0.3943 - val_f1_score: 0.1131 - 2s/epoch - 1s/step\n",
      "Epoch 4/50\n",
      "2/2 - 2s - loss: 123.6631 - accuracy: 0.4514 - auc_1: 0.6571 - precision_1: 0.4514 - recall_1: 0.4514 - f1_score: 0.1244 - val_loss: 63.6248 - val_accuracy: 0.3943 - val_auc_1: 0.6214 - val_precision_1: 0.3943 - val_recall_1: 0.3943 - val_f1_score: 0.1131 - 2s/epoch - 1s/step\n",
      "Epoch 5/50\n",
      "2/2 - 2s - loss: 47.4320 - accuracy: 0.4286 - auc_1: 0.6586 - precision_1: 0.4286 - recall_1: 0.4286 - f1_score: 0.1608 - val_loss: 33.3760 - val_accuracy: 0.1943 - val_auc_1: 0.4990 - val_precision_1: 0.1943 - val_recall_1: 0.1943 - val_f1_score: 0.0775 - 2s/epoch - 1s/step\n",
      "Epoch 6/50\n",
      "2/2 - 3s - loss: 29.5086 - accuracy: 0.1857 - auc_1: 0.4895 - precision_1: 0.1857 - recall_1: 0.1857 - f1_score: 0.0681 - val_loss: 20.2583 - val_accuracy: 0.1943 - val_auc_1: 0.4930 - val_precision_1: 0.1943 - val_recall_1: 0.1943 - val_f1_score: 0.0763 - 3s/epoch - 1s/step\n",
      "Epoch 7/50\n",
      "2/2 - 3s - loss: 15.3003 - accuracy: 0.2057 - auc_1: 0.5096 - precision_1: 0.2057 - recall_1: 0.2057 - f1_score: 0.0947 - val_loss: 8.9278 - val_accuracy: 0.2571 - val_auc_1: 0.6576 - val_precision_1: 0.2366 - val_recall_1: 0.1771 - val_f1_score: 0.1578 - 3s/epoch - 2s/step\n",
      "Epoch 8/50\n",
      "2/2 - 3s - loss: 4.6490 - accuracy: 0.2943 - auc_1: 0.6882 - precision_1: 0.3071 - recall_1: 0.2343 - f1_score: 0.1863 - val_loss: 6.5583 - val_accuracy: 0.3657 - val_auc_1: 0.7150 - val_precision_1: 0.4031 - val_recall_1: 0.2971 - val_f1_score: 0.1727 - 3s/epoch - 2s/step\n",
      "Epoch 9/50\n",
      "2/2 - 3s - loss: 2.6743 - accuracy: 0.3857 - auc_1: 0.7444 - precision_1: 0.4132 - recall_1: 0.2857 - f1_score: 0.1756 - val_loss: 5.6246 - val_accuracy: 0.4114 - val_auc_1: 0.7120 - val_precision_1: 0.4578 - val_recall_1: 0.2171 - val_f1_score: 0.1930 - 3s/epoch - 2s/step\n",
      "Epoch 10/50\n",
      "2/2 - 3s - loss: 1.9406 - accuracy: 0.3971 - auc_1: 0.7392 - precision_1: 0.4106 - recall_1: 0.1771 - f1_score: 0.1792 - val_loss: 5.1694 - val_accuracy: 0.4000 - val_auc_1: 0.6977 - val_precision_1: 0.4681 - val_recall_1: 0.1257 - val_f1_score: 0.1866 - 3s/epoch - 1s/step\n",
      "Epoch 11/50\n",
      "2/2 - 3s - loss: 1.6590 - accuracy: 0.3686 - auc_1: 0.7337 - precision_1: 0.5119 - recall_1: 0.1229 - f1_score: 0.1544 - val_loss: 5.0247 - val_accuracy: 0.4000 - val_auc_1: 0.6820 - val_precision_1: 0.5600 - val_recall_1: 0.0800 - val_f1_score: 0.1760 - 3s/epoch - 1s/step\n",
      "Epoch 12/50\n",
      "2/2 - 3s - loss: 1.5833 - accuracy: 0.4257 - auc_1: 0.7271 - precision_1: 0.6078 - recall_1: 0.0886 - f1_score: 0.1764 - val_loss: 4.9645 - val_accuracy: 0.4000 - val_auc_1: 0.6751 - val_precision_1: 0.5294 - val_recall_1: 0.0514 - val_f1_score: 0.1611 - 3s/epoch - 1s/step\n",
      "Epoch 13/50\n",
      "2/2 - 3s - loss: 1.5359 - accuracy: 0.4400 - auc_1: 0.7274 - precision_1: 0.7143 - recall_1: 0.0714 - f1_score: 0.1699 - val_loss: 4.9278 - val_accuracy: 0.3943 - val_auc_1: 0.6863 - val_precision_1: 0.5714 - val_recall_1: 0.0457 - val_f1_score: 0.1550 - 3s/epoch - 1s/step\n",
      "Epoch 14/50\n",
      "2/2 - 2s - loss: 1.5478 - accuracy: 0.4543 - auc_1: 0.7158 - precision_1: 0.6667 - recall_1: 0.0514 - f1_score: 0.1813 - val_loss: 4.9183 - val_accuracy: 0.4057 - val_auc_1: 0.6786 - val_precision_1: 0.3750 - val_recall_1: 0.0171 - val_f1_score: 0.1529 - 2s/epoch - 1s/step\n",
      "Epoch 15/50\n",
      "2/2 - 2s - loss: 1.5868 - accuracy: 0.4543 - auc_1: 0.7169 - precision_1: 0.6111 - recall_1: 0.0314 - f1_score: 0.1763 - val_loss: 4.9479 - val_accuracy: 0.4057 - val_auc_1: 0.6846 - val_precision_1: 0.4286 - val_recall_1: 0.0171 - val_f1_score: 0.1527 - 2s/epoch - 1s/step\n",
      "Epoch 16/50\n",
      "2/2 - 2s - loss: 1.5682 - accuracy: 0.4486 - auc_1: 0.7197 - precision_1: 0.5714 - recall_1: 0.0229 - f1_score: 0.1693 - val_loss: 4.9777 - val_accuracy: 0.4114 - val_auc_1: 0.6869 - val_precision_1: 0.4286 - val_recall_1: 0.0171 - val_f1_score: 0.1543 - 2s/epoch - 1s/step\n"
     ]
    },
    {
     "data": {
      "image/png": "[encoded data removed]",
      "text/plain": [
       "<Figure size 432x288 with 1 Axes>"
      ]
     },
     "metadata": {
      "needs_background": "light"
     },
     "output_type": "display_data"
    },
    {
     "name": "stdout",
     "output_type": "stream",
     "text": [
      "Epoch 1/50\n",
      "2/2 - 7s - loss: 245.6747 - accuracy: 0.2143 - auc_2: 0.5039 - precision_2: 0.2143 - recall_2: 0.2143 - f1_score: 0.1118 - val_loss: 385.4945 - val_accuracy: 0.3371 - val_auc_2: 0.5857 - val_precision_2: 0.3371 - val_recall_2: 0.3371 - val_f1_score: 0.1009 - 7s/epoch - 4s/step\n",
      "Epoch 2/50\n",
      "2/2 - 3s - loss: 422.3605 - accuracy: 0.2114 - auc_2: 0.5071 - precision_2: 0.2114 - recall_2: 0.2114 - f1_score: 0.1002 - val_loss: 130.0240 - val_accuracy: 0.0629 - val_auc_2: 0.4143 - val_precision_2: 0.0629 - val_recall_2: 0.0629 - val_f1_score: 0.0237 - 3s/epoch - 1s/step\n",
      "Epoch 3/50\n",
      "2/2 - 3s - loss: 114.4673 - accuracy: 0.1971 - auc_2: 0.4982 - precision_2: 0.1971 - recall_2: 0.1971 - f1_score: 0.1047 - val_loss: 46.5571 - val_accuracy: 0.4229 - val_auc_2: 0.6392 - val_precision_2: 0.4229 - val_recall_2: 0.4229 - val_f1_score: 0.1189 - 3s/epoch - 2s/step\n",
      "Epoch 4/50\n",
      "2/2 - 5s - loss: 52.0136 - accuracy: 0.4343 - auc_2: 0.6645 - precision_2: 0.4343 - recall_2: 0.4343 - f1_score: 0.1288 - val_loss: 34.5247 - val_accuracy: 0.3371 - val_auc_2: 0.5864 - val_precision_2: 0.3371 - val_recall_2: 0.3371 - val_f1_score: 0.1009 - 5s/epoch - 3s/step\n",
      "Epoch 5/50\n",
      "2/2 - 3s - loss: 41.8974 - accuracy: 0.2771 - auc_2: 0.5649 - precision_2: 0.2771 - recall_2: 0.2771 - f1_score: 0.0930 - val_loss: 21.8264 - val_accuracy: 0.4171 - val_auc_2: 0.7024 - val_precision_2: 0.4171 - val_recall_2: 0.4171 - val_f1_score: 0.1187 - 3s/epoch - 2s/step\n",
      "Epoch 6/50\n",
      "2/2 - 4s - loss: 27.4115 - accuracy: 0.4257 - auc_2: 0.6701 - precision_2: 0.4257 - recall_2: 0.4257 - f1_score: 0.1199 - val_loss: 13.6121 - val_accuracy: 0.4171 - val_auc_2: 0.6743 - val_precision_2: 0.4171 - val_recall_2: 0.4171 - val_f1_score: 0.1182 - 4s/epoch - 2s/step\n",
      "Epoch 7/50\n",
      "2/2 - 3s - loss: 17.2574 - accuracy: 0.4286 - auc_2: 0.6716 - precision_2: 0.4286 - recall_2: 0.4286 - f1_score: 0.1240 - val_loss: 5.9409 - val_accuracy: 0.4571 - val_auc_2: 0.7628 - val_precision_2: 0.4593 - val_recall_2: 0.4514 - val_f1_score: 0.1697 - 3s/epoch - 1s/step\n",
      "Epoch 8/50\n",
      "2/2 - 3s - loss: 7.9886 - accuracy: 0.3771 - auc_2: 0.7040 - precision_2: 0.3807 - recall_2: 0.3600 - f1_score: 0.1534 - val_loss: 2.7357 - val_accuracy: 0.3829 - val_auc_2: 0.7529 - val_precision_2: 0.3770 - val_recall_2: 0.2629 - val_f1_score: 0.2608 - 3s/epoch - 1s/step\n",
      "Epoch 9/50\n",
      "2/2 - 3s - loss: 3.6850 - accuracy: 0.2971 - auc_2: 0.6714 - precision_2: 0.2926 - recall_2: 0.1914 - f1_score: 0.1311 - val_loss: 1.9370 - val_accuracy: 0.3600 - val_auc_2: 0.7162 - val_precision_2: 0.3881 - val_recall_2: 0.1486 - val_f1_score: 0.1412 - 3s/epoch - 1s/step\n",
      "Epoch 10/50\n",
      "2/2 - 2s - loss: 2.1973 - accuracy: 0.2743 - auc_2: 0.6383 - precision_2: 0.2870 - recall_2: 0.0886 - f1_score: 0.1209 - val_loss: 1.7146 - val_accuracy: 0.2857 - val_auc_2: 0.6571 - val_precision_2: 0.3590 - val_recall_2: 0.0800 - val_f1_score: 0.2086 - 2s/epoch - 1s/step\n",
      "Epoch 11/50\n",
      "2/2 - 2s - loss: 1.6868 - accuracy: 0.2400 - auc_2: 0.6163 - precision_2: 0.2917 - recall_2: 0.0400 - f1_score: 0.1560 - val_loss: 1.6461 - val_accuracy: 0.2514 - val_auc_2: 0.6074 - val_precision_2: 0.3462 - val_recall_2: 0.0514 - val_f1_score: 0.1860 - 2s/epoch - 1s/step\n",
      "Epoch 12/50\n",
      "2/2 - 2s - loss: 1.5869 - accuracy: 0.2457 - auc_2: 0.5908 - precision_2: 0.3462 - recall_2: 0.0257 - f1_score: 0.1514 - val_loss: 1.6053 - val_accuracy: 0.2171 - val_auc_2: 0.6103 - val_precision_2: 0.2941 - val_recall_2: 0.0286 - val_f1_score: 0.1620 - 2s/epoch - 1s/step\n",
      "Epoch 13/50\n",
      "2/2 - 2s - loss: 1.5693 - accuracy: 0.2143 - auc_2: 0.5819 - precision_2: 0.3571 - recall_2: 0.0143 - f1_score: 0.1211 - val_loss: 1.5862 - val_accuracy: 0.2057 - val_auc_2: 0.5902 - val_precision_2: 0.3636 - val_recall_2: 0.0229 - val_f1_score: 0.1470 - 2s/epoch - 1s/step\n",
      "Epoch 14/50\n",
      "2/2 - 3s - loss: 1.5584 - accuracy: 0.2457 - auc_2: 0.5713 - precision_2: 0.6000 - recall_2: 0.0171 - f1_score: 0.1431 - val_loss: 1.5961 - val_accuracy: 0.2343 - val_auc_2: 0.5654 - val_precision_2: 0.5833 - val_recall_2: 0.0400 - val_f1_score: 0.1682 - 3s/epoch - 1s/step\n",
      "Epoch 15/50\n",
      "2/2 - 2s - loss: 1.5579 - accuracy: 0.2343 - auc_2: 0.5619 - precision_2: 0.6667 - recall_2: 0.0229 - f1_score: 0.1333 - val_loss: 1.6004 - val_accuracy: 0.2286 - val_auc_2: 0.5588 - val_precision_2: 0.6364 - val_recall_2: 0.0400 - val_f1_score: 0.1658 - 2s/epoch - 1s/step\n"
     ]
    },
    {
     "data": {
      "image/png": "[encoded data removed]",
      "text/plain": [
       "<Figure size 432x288 with 1 Axes>"
      ]
     },
     "metadata": {
      "needs_background": "light"
     },
     "output_type": "display_data"
    },
    {
     "name": "stdout",
     "output_type": "stream",
     "text": [
      "Epoch 1/50\n",
      "2/2 - 7s - loss: 231.7635 - accuracy: 0.2286 - auc_3: 0.5209 - precision_3: 0.2286 - recall_3: 0.2286 - f1_score: 0.1333 - val_loss: 1350.0679 - val_accuracy: 0.2343 - val_auc_3: 0.5214 - val_precision_3: 0.2343 - val_recall_3: 0.2343 - val_f1_score: 0.0759 - 7s/epoch - 3s/step\n",
      "Epoch 2/50\n",
      "2/2 - 2s - loss: 1070.6849 - accuracy: 0.2600 - auc_3: 0.5413 - precision_3: 0.2600 - recall_3: 0.2600 - f1_score: 0.1204 - val_loss: 334.3604 - val_accuracy: 0.0229 - val_auc_3: 0.3886 - val_precision_3: 0.0229 - val_recall_3: 0.0229 - val_f1_score: 0.0163 - 2s/epoch - 1s/step\n",
      "Epoch 3/50\n",
      "2/2 - 2s - loss: 314.2649 - accuracy: 0.1457 - auc_3: 0.4670 - precision_3: 0.1457 - recall_3: 0.1457 - f1_score: 0.0822 - val_loss: 168.5030 - val_accuracy: 0.4743 - val_auc_3: 0.6714 - val_precision_3: 0.4743 - val_recall_3: 0.4743 - val_f1_score: 0.1287 - 2s/epoch - 1s/step\n",
      "Epoch 4/50\n",
      "2/2 - 2s - loss: 155.0803 - accuracy: 0.4200 - auc_3: 0.6380 - precision_3: 0.4200 - recall_3: 0.4200 - f1_score: 0.1716 - val_loss: 71.9812 - val_accuracy: 0.2514 - val_auc_3: 0.5321 - val_precision_3: 0.2514 - val_recall_3: 0.2514 - val_f1_score: 0.0909 - 2s/epoch - 1s/step\n",
      "Epoch 5/50\n",
      "2/2 - 2s - loss: 68.0920 - accuracy: 0.3400 - auc_3: 0.5866 - precision_3: 0.3400 - recall_3: 0.3400 - f1_score: 0.1328 - val_loss: 27.3380 - val_accuracy: 0.2229 - val_auc_3: 0.5177 - val_precision_3: 0.2229 - val_recall_3: 0.2229 - val_f1_score: 0.0958 - 2s/epoch - 1s/step\n",
      "Epoch 6/50\n",
      "2/2 - 3s - loss: 28.1799 - accuracy: 0.2257 - auc_3: 0.5264 - precision_3: 0.2257 - recall_3: 0.2257 - f1_score: 0.1221 - val_loss: 14.8469 - val_accuracy: 0.4629 - val_auc_3: 0.6635 - val_precision_3: 0.4629 - val_recall_3: 0.4629 - val_f1_score: 0.1266 - 3s/epoch - 1s/step\n",
      "Epoch 7/50\n",
      "2/2 - 4s - loss: 15.4951 - accuracy: 0.4057 - auc_3: 0.6475 - precision_3: 0.4057 - recall_3: 0.4057 - f1_score: 0.1363 - val_loss: 7.2267 - val_accuracy: 0.4743 - val_auc_3: 0.6890 - val_precision_3: 0.4743 - val_recall_3: 0.4743 - val_f1_score: 0.1287 - 4s/epoch - 2s/step\n",
      "Epoch 8/50\n",
      "2/2 - 5s - loss: 6.8879 - accuracy: 0.4029 - auc_3: 0.6875 - precision_3: 0.4035 - recall_3: 0.3943 - f1_score: 0.1321 - val_loss: 1.8783 - val_accuracy: 0.4571 - val_auc_3: 0.7114 - val_precision_3: 0.4409 - val_recall_3: 0.2343 - val_f1_score: 0.1595 - 5s/epoch - 2s/step\n",
      "Epoch 9/50\n",
      "2/2 - 3s - loss: 2.3253 - accuracy: 0.4143 - auc_3: 0.6969 - precision_3: 0.4118 - recall_3: 0.2000 - f1_score: 0.2173 - val_loss: 1.6660 - val_accuracy: 0.2514 - val_auc_3: 0.5539 - val_precision_3: 0.4286 - val_recall_3: 0.0171 - val_f1_score: 0.1174 - 3s/epoch - 1s/step\n",
      "Epoch 10/50\n",
      "2/2 - 2s - loss: 1.6933 - accuracy: 0.3686 - auc_3: 0.5689 - precision_3: 0.6429 - recall_3: 0.0514 - f1_score: 0.2065 - val_loss: 1.6255 - val_accuracy: 0.2629 - val_auc_3: 0.5237 - val_precision_3: 0.5000 - val_recall_3: 0.0057 - val_f1_score: 0.1157 - 2s/epoch - 1s/step\n",
      "Epoch 11/50\n",
      "2/2 - 2s - loss: 1.6365 - accuracy: 0.3457 - auc_3: 0.5605 - precision_3: 0.7143 - recall_3: 0.0286 - f1_score: 0.1728 - val_loss: 1.6312 - val_accuracy: 0.2571 - val_auc_3: 0.5426 - val_precision_3: 0.5000 - val_recall_3: 0.0057 - val_f1_score: 0.1140 - 2s/epoch - 1s/step\n",
      "Epoch 12/50\n",
      "2/2 - 2s - loss: 1.6255 - accuracy: 0.3429 - auc_3: 0.6052 - precision_3: 0.6923 - recall_3: 0.0257 - f1_score: 0.1617 - val_loss: 1.6315 - val_accuracy: 0.2514 - val_auc_3: 0.5440 - val_precision_3: 0.5000 - val_recall_3: 0.0057 - val_f1_score: 0.1041 - 2s/epoch - 1s/step\n"
     ]
    },
    {
     "data": {
      "image/png": "[encoded data removed]",
      "text/plain": [
       "<Figure size 432x288 with 1 Axes>"
      ]
     },
     "metadata": {
      "needs_background": "light"
     },
     "output_type": "display_data"
    }
   ],
   "source": [
    "model1 = build_biConvLSTM(n_length, n_features, n_outputs, y_train.shape[1])\n",
    "for train_index, val_index in kf.split(X):\n",
    "    X_train, X_val = X[train_index], X[val_index]\n",
    "    y_train, y_val = y[train_index], y[val_index]\n",
    "    model1 = build_biConvLSTM(n_features, n_length, n_outputs, y_train.shape[1])\n",
    "    history = train(model1, X_train, y_train, X_val, y_val, epochs=epochs, batch_size=batch_size)\n",
    "    plt.plot(history.history['loss'])\n",
    "    plt.show()"
   ]
  },
  {
   "cell_type": "code",
   "execution_count": 18,
   "metadata": {},
   "outputs": [],
   "source": [
    "member1 = KerasMember(name=\"BiLSTM\", keras_model=model1,\n",
    "    train_batches=(X_train, y_train),\n",
    "    val_batches=(X_test, y_test))"
   ]
  },
  {
   "cell_type": "markdown",
   "metadata": {},
   "source": [
    "#### Train CNN+LSTM"
   ]
  },
  {
   "cell_type": "code",
   "execution_count": 19,
   "metadata": {},
   "outputs": [
    {
     "name": "stdout",
     "output_type": "stream",
     "text": [
      "Epoch 1/50\n",
      "2/2 - 3s - loss: 1.5005 - accuracy: 0.4514 - auc_5: 0.6925 - precision_5: 0.0000e+00 - recall_5: 0.0000e+00 - f1_score: 0.1285 - val_loss: 1.4657 - val_accuracy: 0.3943 - val_auc_5: 0.6797 - val_precision_5: 0.0000e+00 - val_recall_5: 0.0000e+00 - val_f1_score: 0.1131 - 3s/epoch - 2s/step\n",
      "Epoch 2/50\n",
      "2/2 - 0s - loss: 1.4253 - accuracy: 0.4514 - auc_5: 0.7031 - precision_5: 0.0000e+00 - recall_5: 0.0000e+00 - f1_score: 0.1244 - val_loss: 1.4345 - val_accuracy: 0.3943 - val_auc_5: 0.7196 - val_precision_5: 0.0000e+00 - val_recall_5: 0.0000e+00 - val_f1_score: 0.1131 - 250ms/epoch - 125ms/step\n",
      "Epoch 3/50\n",
      "2/2 - 0s - loss: 1.3877 - accuracy: 0.4514 - auc_5: 0.7334 - precision_5: 0.0000e+00 - recall_5: 0.0000e+00 - f1_score: 0.1244 - val_loss: 1.4105 - val_accuracy: 0.3943 - val_auc_5: 0.7243 - val_precision_5: 0.0000e+00 - val_recall_5: 0.0000e+00 - val_f1_score: 0.1131 - 242ms/epoch - 121ms/step\n",
      "Epoch 4/50\n",
      "2/2 - 0s - loss: 1.3539 - accuracy: 0.4514 - auc_5: 0.7481 - precision_5: 0.0000e+00 - recall_5: 0.0000e+00 - f1_score: 0.1244 - val_loss: 1.3878 - val_accuracy: 0.3943 - val_auc_5: 0.7414 - val_precision_5: 0.0000e+00 - val_recall_5: 0.0000e+00 - val_f1_score: 0.1131 - 293ms/epoch - 146ms/step\n",
      "Epoch 5/50\n",
      "2/2 - 0s - loss: 1.3314 - accuracy: 0.4514 - auc_5: 0.7738 - precision_5: 0.0000e+00 - recall_5: 0.0000e+00 - f1_score: 0.1244 - val_loss: 1.3764 - val_accuracy: 0.3943 - val_auc_5: 0.7414 - val_precision_5: 0.0000e+00 - val_recall_5: 0.0000e+00 - val_f1_score: 0.1131 - 252ms/epoch - 126ms/step\n",
      "Epoch 6/50\n",
      "2/2 - 0s - loss: 1.3159 - accuracy: 0.4514 - auc_5: 0.7756 - precision_5: 0.0000e+00 - recall_5: 0.0000e+00 - f1_score: 0.1244 - val_loss: 1.3696 - val_accuracy: 0.3943 - val_auc_5: 0.7414 - val_precision_5: 0.0000e+00 - val_recall_5: 0.0000e+00 - val_f1_score: 0.1131 - 227ms/epoch - 113ms/step\n",
      "Epoch 7/50\n",
      "2/2 - 0s - loss: 1.3058 - accuracy: 0.4514 - auc_5: 0.7724 - precision_5: 0.0000e+00 - recall_5: 0.0000e+00 - f1_score: 0.1244 - val_loss: 1.3659 - val_accuracy: 0.3943 - val_auc_5: 0.7414 - val_precision_5: 0.0000e+00 - val_recall_5: 0.0000e+00 - val_f1_score: 0.1131 - 225ms/epoch - 112ms/step\n",
      "Epoch 8/50\n",
      "2/2 - 0s - loss: 1.2986 - accuracy: 0.4514 - auc_5: 0.7739 - precision_5: 0.0000e+00 - recall_5: 0.0000e+00 - f1_score: 0.1244 - val_loss: 1.3633 - val_accuracy: 0.3943 - val_auc_5: 0.7414 - val_precision_5: 0.0000e+00 - val_recall_5: 0.0000e+00 - val_f1_score: 0.1131 - 224ms/epoch - 112ms/step\n",
      "Epoch 9/50\n",
      "2/2 - 0s - loss: 1.2939 - accuracy: 0.4514 - auc_5: 0.7729 - precision_5: 0.0000e+00 - recall_5: 0.0000e+00 - f1_score: 0.1244 - val_loss: 1.3611 - val_accuracy: 0.3943 - val_auc_5: 0.7414 - val_precision_5: 0.0000e+00 - val_recall_5: 0.0000e+00 - val_f1_score: 0.1131 - 229ms/epoch - 114ms/step\n",
      "Epoch 10/50\n",
      "2/2 - 0s - loss: 1.2899 - accuracy: 0.4514 - auc_5: 0.7747 - precision_5: 0.0000e+00 - recall_5: 0.0000e+00 - f1_score: 0.1244 - val_loss: 1.3590 - val_accuracy: 0.3943 - val_auc_5: 0.7414 - val_precision_5: 0.0000e+00 - val_recall_5: 0.0000e+00 - val_f1_score: 0.1131 - 236ms/epoch - 118ms/step\n",
      "Epoch 11/50\n",
      "2/2 - 0s - loss: 1.2860 - accuracy: 0.4514 - auc_5: 0.7731 - precision_5: 0.0000e+00 - recall_5: 0.0000e+00 - f1_score: 0.1244 - val_loss: 1.3597 - val_accuracy: 0.3943 - val_auc_5: 0.7414 - val_precision_5: 0.0000e+00 - val_recall_5: 0.0000e+00 - val_f1_score: 0.1131 - 218ms/epoch - 109ms/step\n",
      "Epoch 12/50\n",
      "2/2 - 0s - loss: 1.2851 - accuracy: 0.4514 - auc_5: 0.7729 - precision_5: 0.0000e+00 - recall_5: 0.0000e+00 - f1_score: 0.1244 - val_loss: 1.3610 - val_accuracy: 0.3943 - val_auc_5: 0.7414 - val_precision_5: 0.0000e+00 - val_recall_5: 0.0000e+00 - val_f1_score: 0.1131 - 256ms/epoch - 128ms/step\n"
     ]
    },
    {
     "data": {
      "image/png": "[encoded data removed]",
      "text/plain": [
       "<Figure size 432x288 with 1 Axes>"
      ]
     },
     "metadata": {
      "needs_background": "light"
     },
     "output_type": "display_data"
    },
    {
     "name": "stdout",
     "output_type": "stream",
     "text": [
      "Epoch 1/50\n",
      "2/2 - 3s - loss: 1.5269 - accuracy: 0.2857 - auc_6: 0.6630 - precision_6: 0.0000e+00 - recall_6: 0.0000e+00 - f1_score: 0.1418 - val_loss: 1.3803 - val_accuracy: 0.4286 - val_auc_6: 0.7691 - val_precision_6: 0.0000e+00 - val_recall_6: 0.0000e+00 - val_f1_score: 0.1200 - 3s/epoch - 1s/step\n",
      "Epoch 2/50\n",
      "2/2 - 0s - loss: 1.4004 - accuracy: 0.4343 - auc_6: 0.7473 - precision_6: 0.0000e+00 - recall_6: 0.0000e+00 - f1_score: 0.1211 - val_loss: 1.3413 - val_accuracy: 0.4286 - val_auc_6: 0.7739 - val_precision_6: 0.0000e+00 - val_recall_6: 0.0000e+00 - val_f1_score: 0.1200 - 295ms/epoch - 147ms/step\n",
      "Epoch 3/50\n",
      "2/2 - 0s - loss: 1.3682 - accuracy: 0.4343 - auc_6: 0.7570 - precision_6: 0.0000e+00 - recall_6: 0.0000e+00 - f1_score: 0.1211 - val_loss: 1.3270 - val_accuracy: 0.4286 - val_auc_6: 0.7743 - val_precision_6: 0.0000e+00 - val_recall_6: 0.0000e+00 - val_f1_score: 0.1200 - 305ms/epoch - 153ms/step\n",
      "Epoch 4/50\n",
      "2/2 - 0s - loss: 1.3554 - accuracy: 0.4343 - auc_6: 0.7607 - precision_6: 0.0000e+00 - recall_6: 0.0000e+00 - f1_score: 0.1211 - val_loss: 1.3160 - val_accuracy: 0.4286 - val_auc_6: 0.7743 - val_precision_6: 0.0000e+00 - val_recall_6: 0.0000e+00 - val_f1_score: 0.1200 - 279ms/epoch - 140ms/step\n",
      "Epoch 5/50\n",
      "2/2 - 0s - loss: 1.3471 - accuracy: 0.4343 - auc_6: 0.7550 - precision_6: 0.0000e+00 - recall_6: 0.0000e+00 - f1_score: 0.1211 - val_loss: 1.3075 - val_accuracy: 0.4286 - val_auc_6: 0.7743 - val_precision_6: 0.0000e+00 - val_recall_6: 0.0000e+00 - val_f1_score: 0.1200 - 262ms/epoch - 131ms/step\n",
      "Epoch 6/50\n",
      "2/2 - 0s - loss: 1.3404 - accuracy: 0.4343 - auc_6: 0.7566 - precision_6: 0.0000e+00 - recall_6: 0.0000e+00 - f1_score: 0.1211 - val_loss: 1.2993 - val_accuracy: 0.4286 - val_auc_6: 0.7746 - val_precision_6: 0.0000e+00 - val_recall_6: 0.0000e+00 - val_f1_score: 0.1200 - 247ms/epoch - 124ms/step\n",
      "Epoch 7/50\n",
      "2/2 - 0s - loss: 1.3350 - accuracy: 0.4343 - auc_6: 0.7554 - precision_6: 0.0000e+00 - recall_6: 0.0000e+00 - f1_score: 0.1211 - val_loss: 1.3029 - val_accuracy: 0.4286 - val_auc_6: 0.7743 - val_precision_6: 0.0000e+00 - val_recall_6: 0.0000e+00 - val_f1_score: 0.1200 - 242ms/epoch - 121ms/step\n",
      "Epoch 8/50\n",
      "2/2 - 0s - loss: 1.3314 - accuracy: 0.4343 - auc_6: 0.7565 - precision_6: 0.0000e+00 - recall_6: 0.0000e+00 - f1_score: 0.1211 - val_loss: 1.2986 - val_accuracy: 0.4286 - val_auc_6: 0.7743 - val_precision_6: 0.0000e+00 - val_recall_6: 0.0000e+00 - val_f1_score: 0.1200 - 241ms/epoch - 120ms/step\n",
      "Epoch 9/50\n",
      "2/2 - 0s - loss: 1.3270 - accuracy: 0.4343 - auc_6: 0.7555 - precision_6: 0.0000e+00 - recall_6: 0.0000e+00 - f1_score: 0.1211 - val_loss: 1.2954 - val_accuracy: 0.4286 - val_auc_6: 0.7743 - val_precision_6: 0.0000e+00 - val_recall_6: 0.0000e+00 - val_f1_score: 0.1200 - 222ms/epoch - 111ms/step\n",
      "Epoch 10/50\n",
      "2/2 - 0s - loss: 1.3234 - accuracy: 0.4343 - auc_6: 0.7558 - precision_6: 0.0000e+00 - recall_6: 0.0000e+00 - f1_score: 0.1211 - val_loss: 1.2932 - val_accuracy: 0.4286 - val_auc_6: 0.7743 - val_precision_6: 0.0000e+00 - val_recall_6: 0.0000e+00 - val_f1_score: 0.1200 - 225ms/epoch - 112ms/step\n",
      "Epoch 11/50\n",
      "2/2 - 0s - loss: 1.3206 - accuracy: 0.4343 - auc_6: 0.7566 - precision_6: 0.0000e+00 - recall_6: 0.0000e+00 - f1_score: 0.1211 - val_loss: 1.2915 - val_accuracy: 0.4286 - val_auc_6: 0.7743 - val_precision_6: 0.0000e+00 - val_recall_6: 0.0000e+00 - val_f1_score: 0.1200 - 230ms/epoch - 115ms/step\n",
      "Epoch 12/50\n",
      "2/2 - 0s - loss: 1.3184 - accuracy: 0.4343 - auc_6: 0.7564 - precision_6: 0.0000e+00 - recall_6: 0.0000e+00 - f1_score: 0.1211 - val_loss: 1.2901 - val_accuracy: 0.4286 - val_auc_6: 0.7743 - val_precision_6: 0.0000e+00 - val_recall_6: 0.0000e+00 - val_f1_score: 0.1200 - 223ms/epoch - 112ms/step\n",
      "Epoch 13/50\n",
      "2/2 - 0s - loss: 1.3165 - accuracy: 0.4343 - auc_6: 0.7559 - precision_6: 0.0000e+00 - recall_6: 0.0000e+00 - f1_score: 0.1211 - val_loss: 1.2887 - val_accuracy: 0.4286 - val_auc_6: 0.7749 - val_precision_6: 0.0000e+00 - val_recall_6: 0.0000e+00 - val_f1_score: 0.1200 - 228ms/epoch - 114ms/step\n",
      "Epoch 14/50\n",
      "2/2 - 0s - loss: 1.3150 - accuracy: 0.4343 - auc_6: 0.7572 - precision_6: 0.0000e+00 - recall_6: 0.0000e+00 - f1_score: 0.1211 - val_loss: 1.2874 - val_accuracy: 0.4286 - val_auc_6: 0.7749 - val_precision_6: 0.0000e+00 - val_recall_6: 0.0000e+00 - val_f1_score: 0.1200 - 230ms/epoch - 115ms/step\n",
      "Epoch 15/50\n",
      "2/2 - 0s - loss: 1.3137 - accuracy: 0.4343 - auc_6: 0.7564 - precision_6: 0.0000e+00 - recall_6: 0.0000e+00 - f1_score: 0.1211 - val_loss: 1.2866 - val_accuracy: 0.4286 - val_auc_6: 0.7749 - val_precision_6: 0.0000e+00 - val_recall_6: 0.0000e+00 - val_f1_score: 0.1200 - 228ms/epoch - 114ms/step\n",
      "Epoch 16/50\n",
      "2/2 - 0s - loss: 1.3126 - accuracy: 0.4343 - auc_6: 0.7564 - precision_6: 0.0000e+00 - recall_6: 0.0000e+00 - f1_score: 0.1211 - val_loss: 1.2860 - val_accuracy: 0.4286 - val_auc_6: 0.7746 - val_precision_6: 0.0000e+00 - val_recall_6: 0.0000e+00 - val_f1_score: 0.1200 - 237ms/epoch - 118ms/step\n",
      "Epoch 17/50\n",
      "2/2 - 0s - loss: 1.3115 - accuracy: 0.4343 - auc_6: 0.7564 - precision_6: 0.0000e+00 - recall_6: 0.0000e+00 - f1_score: 0.1211 - val_loss: 1.2855 - val_accuracy: 0.4286 - val_auc_6: 0.7746 - val_precision_6: 0.0000e+00 - val_recall_6: 0.0000e+00 - val_f1_score: 0.1200 - 225ms/epoch - 112ms/step\n",
      "Epoch 18/50\n",
      "2/2 - 0s - loss: 1.3125 - accuracy: 0.4343 - auc_6: 0.7561 - precision_6: 0.0000e+00 - recall_6: 0.0000e+00 - f1_score: 0.1211 - val_loss: 1.2752 - val_accuracy: 0.4286 - val_auc_6: 0.7743 - val_precision_6: 0.0000e+00 - val_recall_6: 0.0000e+00 - val_f1_score: 0.1200 - 229ms/epoch - 115ms/step\n",
      "Epoch 19/50\n",
      "2/2 - 0s - loss: 1.3145 - accuracy: 0.4343 - auc_6: 0.7564 - precision_6: 0.0000e+00 - recall_6: 0.0000e+00 - f1_score: 0.1211 - val_loss: 1.2750 - val_accuracy: 0.4286 - val_auc_6: 0.7743 - val_precision_6: 0.0000e+00 - val_recall_6: 0.0000e+00 - val_f1_score: 0.1200 - 228ms/epoch - 114ms/step\n",
      "Epoch 20/50\n",
      "2/2 - 0s - loss: 1.3137 - accuracy: 0.4343 - auc_6: 0.7564 - precision_6: 0.0000e+00 - recall_6: 0.0000e+00 - f1_score: 0.1211 - val_loss: 1.2751 - val_accuracy: 0.4286 - val_auc_6: 0.7743 - val_precision_6: 0.0000e+00 - val_recall_6: 0.0000e+00 - val_f1_score: 0.1200 - 242ms/epoch - 121ms/step\n",
      "Epoch 21/50\n",
      "2/2 - 0s - loss: 1.3128 - accuracy: 0.4343 - auc_6: 0.7564 - precision_6: 0.0000e+00 - recall_6: 0.0000e+00 - f1_score: 0.1211 - val_loss: 1.2753 - val_accuracy: 0.4286 - val_auc_6: 0.7743 - val_precision_6: 0.0000e+00 - val_recall_6: 0.0000e+00 - val_f1_score: 0.1200 - 322ms/epoch - 161ms/step\n"
     ]
    },
    {
     "data": {
      "image/png": "[encoded data removed]",
      "text/plain": [
       "<Figure size 432x288 with 1 Axes>"
      ]
     },
     "metadata": {
      "needs_background": "light"
     },
     "output_type": "display_data"
    },
    {
     "name": "stdout",
     "output_type": "stream",
     "text": [
      "Epoch 1/50\n",
      "2/2 - 3s - loss: 1.5957 - accuracy: 0.3086 - auc_7: 0.5758 - precision_7: 0.0000e+00 - recall_7: 0.0000e+00 - f1_score: 0.1947 - val_loss: 1.4269 - val_accuracy: 0.4629 - val_auc_7: 0.7497 - val_precision_7: 0.0000e+00 - val_recall_7: 0.0000e+00 - val_f1_score: 0.1266 - 3s/epoch - 2s/step\n",
      "Epoch 2/50\n",
      "2/2 - 0s - loss: 1.4182 - accuracy: 0.4143 - auc_7: 0.7377 - precision_7: 0.0000e+00 - recall_7: 0.0000e+00 - f1_score: 0.1235 - val_loss: 1.3984 - val_accuracy: 0.4743 - val_auc_7: 0.7501 - val_precision_7: 0.0000e+00 - val_recall_7: 0.0000e+00 - val_f1_score: 0.1287 - 226ms/epoch - 113ms/step\n",
      "Epoch 3/50\n",
      "2/2 - 0s - loss: 1.4043 - accuracy: 0.4114 - auc_7: 0.7397 - precision_7: 0.0000e+00 - recall_7: 0.0000e+00 - f1_score: 0.1166 - val_loss: 1.3919 - val_accuracy: 0.4743 - val_auc_7: 0.7514 - val_precision_7: 0.0000e+00 - val_recall_7: 0.0000e+00 - val_f1_score: 0.1287 - 257ms/epoch - 129ms/step\n",
      "Epoch 4/50\n",
      "2/2 - 0s - loss: 1.3962 - accuracy: 0.4114 - auc_7: 0.7419 - precision_7: 0.0000e+00 - recall_7: 0.0000e+00 - f1_score: 0.1166 - val_loss: 1.3662 - val_accuracy: 0.4743 - val_auc_7: 0.7714 - val_precision_7: 0.0000e+00 - val_recall_7: 0.0000e+00 - val_f1_score: 0.1287 - 230ms/epoch - 115ms/step\n",
      "Epoch 5/50\n",
      "2/2 - 0s - loss: 1.3727 - accuracy: 0.4114 - auc_7: 0.7631 - precision_7: 0.0000e+00 - recall_7: 0.0000e+00 - f1_score: 0.1166 - val_loss: 1.3551 - val_accuracy: 0.4743 - val_auc_7: 0.7714 - val_precision_7: 0.0000e+00 - val_recall_7: 0.0000e+00 - val_f1_score: 0.1287 - 223ms/epoch - 112ms/step\n",
      "Epoch 6/50\n",
      "2/2 - 0s - loss: 1.3612 - accuracy: 0.4114 - auc_7: 0.7566 - precision_7: 0.0000e+00 - recall_7: 0.0000e+00 - f1_score: 0.1166 - val_loss: 1.3467 - val_accuracy: 0.4743 - val_auc_7: 0.7714 - val_precision_7: 0.0000e+00 - val_recall_7: 0.0000e+00 - val_f1_score: 0.1287 - 226ms/epoch - 113ms/step\n",
      "Epoch 7/50\n",
      "2/2 - 0s - loss: 1.3508 - accuracy: 0.4114 - auc_7: 0.7599 - precision_7: 0.0000e+00 - recall_7: 0.0000e+00 - f1_score: 0.1166 - val_loss: 1.3404 - val_accuracy: 0.4743 - val_auc_7: 0.7715 - val_precision_7: 0.0000e+00 - val_recall_7: 0.0000e+00 - val_f1_score: 0.1287 - 214ms/epoch - 107ms/step\n",
      "Epoch 8/50\n",
      "2/2 - 0s - loss: 1.3442 - accuracy: 0.4114 - auc_7: 0.7588 - precision_7: 0.0000e+00 - recall_7: 0.0000e+00 - f1_score: 0.1166 - val_loss: 1.3287 - val_accuracy: 0.4743 - val_auc_7: 0.7724 - val_precision_7: 0.0000e+00 - val_recall_7: 0.0000e+00 - val_f1_score: 0.1287 - 234ms/epoch - 117ms/step\n",
      "Epoch 9/50\n",
      "2/2 - 0s - loss: 1.3406 - accuracy: 0.4114 - auc_7: 0.7578 - precision_7: 0.0000e+00 - recall_7: 0.0000e+00 - f1_score: 0.1166 - val_loss: 1.3311 - val_accuracy: 0.4743 - val_auc_7: 0.7718 - val_precision_7: 0.0000e+00 - val_recall_7: 0.0000e+00 - val_f1_score: 0.1287 - 217ms/epoch - 108ms/step\n",
      "Epoch 10/50\n",
      "2/2 - 0s - loss: 1.3347 - accuracy: 0.4114 - auc_7: 0.7582 - precision_7: 0.0000e+00 - recall_7: 0.0000e+00 - f1_score: 0.1166 - val_loss: 1.3273 - val_accuracy: 0.4743 - val_auc_7: 0.7717 - val_precision_7: 0.0000e+00 - val_recall_7: 0.0000e+00 - val_f1_score: 0.1287 - 239ms/epoch - 120ms/step\n",
      "Epoch 11/50\n",
      "2/2 - 0s - loss: 1.3319 - accuracy: 0.4114 - auc_7: 0.7569 - precision_7: 0.0000e+00 - recall_7: 0.0000e+00 - f1_score: 0.1166 - val_loss: 1.3239 - val_accuracy: 0.4743 - val_auc_7: 0.7717 - val_precision_7: 0.0000e+00 - val_recall_7: 0.0000e+00 - val_f1_score: 0.1287 - 217ms/epoch - 108ms/step\n",
      "Epoch 12/50\n",
      "2/2 - 0s - loss: 1.3294 - accuracy: 0.4114 - auc_7: 0.7579 - precision_7: 0.0000e+00 - recall_7: 0.0000e+00 - f1_score: 0.1166 - val_loss: 1.3210 - val_accuracy: 0.4743 - val_auc_7: 0.7717 - val_precision_7: 0.0000e+00 - val_recall_7: 0.0000e+00 - val_f1_score: 0.1287 - 254ms/epoch - 127ms/step\n",
      "Epoch 13/50\n",
      "2/2 - 0s - loss: 1.3273 - accuracy: 0.4114 - auc_7: 0.7584 - precision_7: 0.0000e+00 - recall_7: 0.0000e+00 - f1_score: 0.1166 - val_loss: 1.3188 - val_accuracy: 0.4743 - val_auc_7: 0.7718 - val_precision_7: 0.0000e+00 - val_recall_7: 0.0000e+00 - val_f1_score: 0.1287 - 264ms/epoch - 132ms/step\n",
      "Epoch 14/50\n",
      "2/2 - 0s - loss: 1.3256 - accuracy: 0.4114 - auc_7: 0.7579 - precision_7: 0.0000e+00 - recall_7: 0.0000e+00 - f1_score: 0.1166 - val_loss: 1.3169 - val_accuracy: 0.4743 - val_auc_7: 0.7720 - val_precision_7: 0.0000e+00 - val_recall_7: 0.0000e+00 - val_f1_score: 0.1287 - 266ms/epoch - 133ms/step\n",
      "Epoch 15/50\n",
      "2/2 - 0s - loss: 1.3243 - accuracy: 0.4114 - auc_7: 0.7579 - precision_7: 0.0000e+00 - recall_7: 0.0000e+00 - f1_score: 0.1166 - val_loss: 1.3155 - val_accuracy: 0.4743 - val_auc_7: 0.7718 - val_precision_7: 0.0000e+00 - val_recall_7: 0.0000e+00 - val_f1_score: 0.1287 - 245ms/epoch - 123ms/step\n",
      "Epoch 16/50\n",
      "2/2 - 0s - loss: 1.3229 - accuracy: 0.4114 - auc_7: 0.7579 - precision_7: 0.0000e+00 - recall_7: 0.0000e+00 - f1_score: 0.1166 - val_loss: 1.3141 - val_accuracy: 0.4743 - val_auc_7: 0.7715 - val_precision_7: 0.0000e+00 - val_recall_7: 0.0000e+00 - val_f1_score: 0.1287 - 303ms/epoch - 151ms/step\n",
      "Epoch 17/50\n",
      "2/2 - 0s - loss: 1.3217 - accuracy: 0.4114 - auc_7: 0.7579 - precision_7: 0.0000e+00 - recall_7: 0.0000e+00 - f1_score: 0.1166 - val_loss: 1.3128 - val_accuracy: 0.4743 - val_auc_7: 0.7718 - val_precision_7: 0.0000e+00 - val_recall_7: 0.0000e+00 - val_f1_score: 0.1287 - 276ms/epoch - 138ms/step\n",
      "Epoch 18/50\n",
      "2/2 - 0s - loss: 1.3207 - accuracy: 0.4114 - auc_7: 0.7579 - precision_7: 0.0000e+00 - recall_7: 0.0000e+00 - f1_score: 0.1166 - val_loss: 1.3117 - val_accuracy: 0.4743 - val_auc_7: 0.7717 - val_precision_7: 0.0000e+00 - val_recall_7: 0.0000e+00 - val_f1_score: 0.1287 - 365ms/epoch - 182ms/step\n",
      "Epoch 19/50\n",
      "2/2 - 0s - loss: 1.3198 - accuracy: 0.4114 - auc_7: 0.7579 - precision_7: 0.0000e+00 - recall_7: 0.0000e+00 - f1_score: 0.1166 - val_loss: 1.3109 - val_accuracy: 0.4743 - val_auc_7: 0.7717 - val_precision_7: 0.0000e+00 - val_recall_7: 0.0000e+00 - val_f1_score: 0.1287 - 283ms/epoch - 142ms/step\n",
      "Epoch 20/50\n",
      "2/2 - 0s - loss: 1.3189 - accuracy: 0.4114 - auc_7: 0.7579 - precision_7: 0.0000e+00 - recall_7: 0.0000e+00 - f1_score: 0.1166 - val_loss: 1.3102 - val_accuracy: 0.4743 - val_auc_7: 0.7717 - val_precision_7: 0.0000e+00 - val_recall_7: 0.0000e+00 - val_f1_score: 0.1287 - 271ms/epoch - 136ms/step\n",
      "Epoch 21/50\n",
      "2/2 - 0s - loss: 1.3183 - accuracy: 0.4114 - auc_7: 0.7579 - precision_7: 0.0000e+00 - recall_7: 0.0000e+00 - f1_score: 0.1166 - val_loss: 1.3096 - val_accuracy: 0.4743 - val_auc_7: 0.7720 - val_precision_7: 0.0000e+00 - val_recall_7: 0.0000e+00 - val_f1_score: 0.1287 - 243ms/epoch - 122ms/step\n",
      "Epoch 22/50\n",
      "2/2 - 0s - loss: 1.3192 - accuracy: 0.4114 - auc_7: 0.7554 - precision_7: 0.0000e+00 - recall_7: 0.0000e+00 - f1_score: 0.1166 - val_loss: 1.3089 - val_accuracy: 0.4743 - val_auc_7: 0.7719 - val_precision_7: 0.0000e+00 - val_recall_7: 0.0000e+00 - val_f1_score: 0.1287 - 237ms/epoch - 119ms/step\n",
      "Epoch 23/50\n",
      "2/2 - 0s - loss: 1.3170 - accuracy: 0.4114 - auc_7: 0.7585 - precision_7: 0.0000e+00 - recall_7: 0.0000e+00 - f1_score: 0.1166 - val_loss: 1.3084 - val_accuracy: 0.4743 - val_auc_7: 0.7718 - val_precision_7: 0.0000e+00 - val_recall_7: 0.0000e+00 - val_f1_score: 0.1287 - 255ms/epoch - 127ms/step\n",
      "Epoch 24/50\n",
      "2/2 - 0s - loss: 1.3166 - accuracy: 0.4114 - auc_7: 0.7579 - precision_7: 0.0000e+00 - recall_7: 0.0000e+00 - f1_score: 0.1166 - val_loss: 1.3079 - val_accuracy: 0.4743 - val_auc_7: 0.7718 - val_precision_7: 0.0000e+00 - val_recall_7: 0.0000e+00 - val_f1_score: 0.1287 - 238ms/epoch - 119ms/step\n",
      "Epoch 25/50\n",
      "2/2 - 0s - loss: 1.3162 - accuracy: 0.4114 - auc_7: 0.7579 - precision_7: 0.0000e+00 - recall_7: 0.0000e+00 - f1_score: 0.1166 - val_loss: 1.3075 - val_accuracy: 0.4743 - val_auc_7: 0.7718 - val_precision_7: 0.0000e+00 - val_recall_7: 0.0000e+00 - val_f1_score: 0.1287 - 235ms/epoch - 118ms/step\n",
      "Epoch 26/50\n",
      "2/2 - 0s - loss: 1.3158 - accuracy: 0.4114 - auc_7: 0.7579 - precision_7: 0.0000e+00 - recall_7: 0.0000e+00 - f1_score: 0.1166 - val_loss: 1.3072 - val_accuracy: 0.4743 - val_auc_7: 0.7718 - val_precision_7: 0.0000e+00 - val_recall_7: 0.0000e+00 - val_f1_score: 0.1287 - 249ms/epoch - 124ms/step\n",
      "Epoch 27/50\n",
      "2/2 - 0s - loss: 1.3154 - accuracy: 0.4114 - auc_7: 0.7579 - precision_7: 0.0000e+00 - recall_7: 0.0000e+00 - f1_score: 0.1166 - val_loss: 1.3069 - val_accuracy: 0.4743 - val_auc_7: 0.7718 - val_precision_7: 0.0000e+00 - val_recall_7: 0.0000e+00 - val_f1_score: 0.1287 - 247ms/epoch - 123ms/step\n",
      "Epoch 28/50\n",
      "2/2 - 0s - loss: 1.3152 - accuracy: 0.4114 - auc_7: 0.7579 - precision_7: 0.0000e+00 - recall_7: 0.0000e+00 - f1_score: 0.1166 - val_loss: 1.3067 - val_accuracy: 0.4743 - val_auc_7: 0.7718 - val_precision_7: 0.0000e+00 - val_recall_7: 0.0000e+00 - val_f1_score: 0.1287 - 240ms/epoch - 120ms/step\n",
      "Epoch 29/50\n",
      "2/2 - 0s - loss: 1.3149 - accuracy: 0.4114 - auc_7: 0.7579 - precision_7: 0.0000e+00 - recall_7: 0.0000e+00 - f1_score: 0.1166 - val_loss: 1.3064 - val_accuracy: 0.4743 - val_auc_7: 0.7718 - val_precision_7: 0.0000e+00 - val_recall_7: 0.0000e+00 - val_f1_score: 0.1287 - 239ms/epoch - 119ms/step\n",
      "Epoch 30/50\n",
      "2/2 - 0s - loss: 1.3147 - accuracy: 0.4114 - auc_7: 0.7579 - precision_7: 0.0000e+00 - recall_7: 0.0000e+00 - f1_score: 0.1166 - val_loss: 1.3060 - val_accuracy: 0.4743 - val_auc_7: 0.7718 - val_precision_7: 0.0000e+00 - val_recall_7: 0.0000e+00 - val_f1_score: 0.1287 - 226ms/epoch - 113ms/step\n",
      "Epoch 31/50\n",
      "2/2 - 0s - loss: 1.3144 - accuracy: 0.4114 - auc_7: 0.7579 - precision_7: 0.0000e+00 - recall_7: 0.0000e+00 - f1_score: 0.1166 - val_loss: 1.3057 - val_accuracy: 0.4743 - val_auc_7: 0.7718 - val_precision_7: 0.0000e+00 - val_recall_7: 0.0000e+00 - val_f1_score: 0.1287 - 246ms/epoch - 123ms/step\n",
      "Epoch 32/50\n",
      "2/2 - 0s - loss: 1.3142 - accuracy: 0.4114 - auc_7: 0.7579 - precision_7: 0.0000e+00 - recall_7: 0.0000e+00 - f1_score: 0.1166 - val_loss: 1.3055 - val_accuracy: 0.4743 - val_auc_7: 0.7718 - val_precision_7: 0.0000e+00 - val_recall_7: 0.0000e+00 - val_f1_score: 0.1287 - 253ms/epoch - 127ms/step\n",
      "Epoch 33/50\n",
      "2/2 - 0s - loss: 1.3141 - accuracy: 0.4114 - auc_7: 0.7579 - precision_7: 0.0000e+00 - recall_7: 0.0000e+00 - f1_score: 0.1166 - val_loss: 1.3052 - val_accuracy: 0.4743 - val_auc_7: 0.7718 - val_precision_7: 0.0000e+00 - val_recall_7: 0.0000e+00 - val_f1_score: 0.1287 - 293ms/epoch - 146ms/step\n",
      "Epoch 34/50\n",
      "2/2 - 0s - loss: 1.3139 - accuracy: 0.4114 - auc_7: 0.7579 - precision_7: 0.0000e+00 - recall_7: 0.0000e+00 - f1_score: 0.1166 - val_loss: 1.3051 - val_accuracy: 0.4743 - val_auc_7: 0.7718 - val_precision_7: 0.0000e+00 - val_recall_7: 0.0000e+00 - val_f1_score: 0.1287 - 271ms/epoch - 136ms/step\n",
      "Epoch 35/50\n",
      "2/2 - 0s - loss: 1.3138 - accuracy: 0.4114 - auc_7: 0.7579 - precision_7: 0.0000e+00 - recall_7: 0.0000e+00 - f1_score: 0.1166 - val_loss: 1.3049 - val_accuracy: 0.4743 - val_auc_7: 0.7718 - val_precision_7: 0.0000e+00 - val_recall_7: 0.0000e+00 - val_f1_score: 0.1287 - 317ms/epoch - 159ms/step\n",
      "Epoch 36/50\n",
      "2/2 - 0s - loss: 1.3136 - accuracy: 0.4114 - auc_7: 0.7579 - precision_7: 0.0000e+00 - recall_7: 0.0000e+00 - f1_score: 0.1166 - val_loss: 1.3048 - val_accuracy: 0.4743 - val_auc_7: 0.7718 - val_precision_7: 0.0000e+00 - val_recall_7: 0.0000e+00 - val_f1_score: 0.1287 - 306ms/epoch - 153ms/step\n",
      "Epoch 37/50\n",
      "2/2 - 0s - loss: 1.3135 - accuracy: 0.4114 - auc_7: 0.7579 - precision_7: 0.0000e+00 - recall_7: 0.0000e+00 - f1_score: 0.1166 - val_loss: 1.3046 - val_accuracy: 0.4743 - val_auc_7: 0.7718 - val_precision_7: 0.0000e+00 - val_recall_7: 0.0000e+00 - val_f1_score: 0.1287 - 250ms/epoch - 125ms/step\n",
      "Epoch 38/50\n",
      "2/2 - 0s - loss: 1.3134 - accuracy: 0.4114 - auc_7: 0.7579 - precision_7: 0.0000e+00 - recall_7: 0.0000e+00 - f1_score: 0.1166 - val_loss: 1.3045 - val_accuracy: 0.4743 - val_auc_7: 0.7718 - val_precision_7: 0.0000e+00 - val_recall_7: 0.0000e+00 - val_f1_score: 0.1287 - 263ms/epoch - 132ms/step\n",
      "Epoch 39/50\n",
      "2/2 - 0s - loss: 1.3133 - accuracy: 0.4114 - auc_7: 0.7579 - precision_7: 0.0000e+00 - recall_7: 0.0000e+00 - f1_score: 0.1166 - val_loss: 1.3044 - val_accuracy: 0.4743 - val_auc_7: 0.7718 - val_precision_7: 0.0000e+00 - val_recall_7: 0.0000e+00 - val_f1_score: 0.1287 - 261ms/epoch - 130ms/step\n",
      "Epoch 40/50\n",
      "2/2 - 0s - loss: 1.3132 - accuracy: 0.4114 - auc_7: 0.7579 - precision_7: 0.0000e+00 - recall_7: 0.0000e+00 - f1_score: 0.1166 - val_loss: 1.3043 - val_accuracy: 0.4743 - val_auc_7: 0.7718 - val_precision_7: 0.0000e+00 - val_recall_7: 0.0000e+00 - val_f1_score: 0.1287 - 224ms/epoch - 112ms/step\n",
      "Epoch 41/50\n",
      "2/2 - 0s - loss: 1.3131 - accuracy: 0.4114 - auc_7: 0.7579 - precision_7: 0.0000e+00 - recall_7: 0.0000e+00 - f1_score: 0.1166 - val_loss: 1.3042 - val_accuracy: 0.4743 - val_auc_7: 0.7718 - val_precision_7: 0.0000e+00 - val_recall_7: 0.0000e+00 - val_f1_score: 0.1287 - 300ms/epoch - 150ms/step\n",
      "Epoch 42/50\n",
      "2/2 - 0s - loss: 1.3130 - accuracy: 0.4114 - auc_7: 0.7579 - precision_7: 0.0000e+00 - recall_7: 0.0000e+00 - f1_score: 0.1166 - val_loss: 1.3041 - val_accuracy: 0.4743 - val_auc_7: 0.7718 - val_precision_7: 0.0000e+00 - val_recall_7: 0.0000e+00 - val_f1_score: 0.1287 - 400ms/epoch - 200ms/step\n",
      "Epoch 43/50\n",
      "2/2 - 0s - loss: 1.3130 - accuracy: 0.4114 - auc_7: 0.7579 - precision_7: 0.0000e+00 - recall_7: 0.0000e+00 - f1_score: 0.1166 - val_loss: 1.3041 - val_accuracy: 0.4743 - val_auc_7: 0.7718 - val_precision_7: 0.0000e+00 - val_recall_7: 0.0000e+00 - val_f1_score: 0.1287 - 372ms/epoch - 186ms/step\n",
      "Epoch 44/50\n",
      "2/2 - 0s - loss: 1.3129 - accuracy: 0.4114 - auc_7: 0.7579 - precision_7: 0.0000e+00 - recall_7: 0.0000e+00 - f1_score: 0.1166 - val_loss: 1.3040 - val_accuracy: 0.4743 - val_auc_7: 0.7718 - val_precision_7: 0.0000e+00 - val_recall_7: 0.0000e+00 - val_f1_score: 0.1287 - 377ms/epoch - 189ms/step\n",
      "Epoch 45/50\n",
      "2/2 - 0s - loss: 1.3128 - accuracy: 0.4114 - auc_7: 0.7579 - precision_7: 0.0000e+00 - recall_7: 0.0000e+00 - f1_score: 0.1166 - val_loss: 1.3040 - val_accuracy: 0.4743 - val_auc_7: 0.7718 - val_precision_7: 0.0000e+00 - val_recall_7: 0.0000e+00 - val_f1_score: 0.1287 - 356ms/epoch - 178ms/step\n",
      "Epoch 46/50\n",
      "2/2 - 0s - loss: 1.3128 - accuracy: 0.4114 - auc_7: 0.7579 - precision_7: 0.0000e+00 - recall_7: 0.0000e+00 - f1_score: 0.1166 - val_loss: 1.3039 - val_accuracy: 0.4743 - val_auc_7: 0.7718 - val_precision_7: 0.0000e+00 - val_recall_7: 0.0000e+00 - val_f1_score: 0.1287 - 304ms/epoch - 152ms/step\n",
      "Epoch 47/50\n",
      "2/2 - 0s - loss: 1.3127 - accuracy: 0.4114 - auc_7: 0.7579 - precision_7: 0.0000e+00 - recall_7: 0.0000e+00 - f1_score: 0.1166 - val_loss: 1.3039 - val_accuracy: 0.4743 - val_auc_7: 0.7717 - val_precision_7: 0.0000e+00 - val_recall_7: 0.0000e+00 - val_f1_score: 0.1287 - 369ms/epoch - 184ms/step\n",
      "Epoch 48/50\n",
      "2/2 - 0s - loss: 1.3127 - accuracy: 0.4114 - auc_7: 0.7579 - precision_7: 0.0000e+00 - recall_7: 0.0000e+00 - f1_score: 0.1166 - val_loss: 1.3039 - val_accuracy: 0.4743 - val_auc_7: 0.7717 - val_precision_7: 0.0000e+00 - val_recall_7: 0.0000e+00 - val_f1_score: 0.1287 - 315ms/epoch - 158ms/step\n",
      "Epoch 49/50\n",
      "2/2 - 0s - loss: 1.3127 - accuracy: 0.4114 - auc_7: 0.7579 - precision_7: 0.0000e+00 - recall_7: 0.0000e+00 - f1_score: 0.1166 - val_loss: 1.3039 - val_accuracy: 0.4743 - val_auc_7: 0.7717 - val_precision_7: 0.0000e+00 - val_recall_7: 0.0000e+00 - val_f1_score: 0.1287 - 353ms/epoch - 176ms/step\n",
      "Epoch 50/50\n",
      "2/2 - 0s - loss: 1.3126 - accuracy: 0.4114 - auc_7: 0.7579 - precision_7: 0.0000e+00 - recall_7: 0.0000e+00 - f1_score: 0.1166 - val_loss: 1.3039 - val_accuracy: 0.4743 - val_auc_7: 0.7717 - val_precision_7: 0.0000e+00 - val_recall_7: 0.0000e+00 - val_f1_score: 0.1287 - 246ms/epoch - 123ms/step\n"
     ]
    },
    {
     "data": {
      "image/png": "[encoded data removed]",
      "text/plain": [
       "<Figure size 432x288 with 1 Axes>"
      ]
     },
     "metadata": {
      "needs_background": "light"
     },
     "output_type": "display_data"
    }
   ],
   "source": [
    "model2 = get_CNN(n_features, n_length, n_outputs, y_train.shape[1])\n",
    "for train_index, val_index in kf.split(X):\n",
    "    X_train, X_val = X[train_index], X[val_index]\n",
    "    y_train, y_val = y[train_index], y[val_index]\n",
    "    model2 = get_CNN(n_features, n_length, n_outputs, y_train.shape[1])\n",
    "    history = train(model2, X_train, y_train, X_val, y_val, epochs=epochs, batch_size=batch_size)\n",
    "    plt.plot(history.history['loss'])\n",
    "    plt.show()"
   ]
  },
  {
   "cell_type": "code",
   "execution_count": 20,
   "metadata": {},
   "outputs": [],
   "source": [
    "member2 = KerasMember(name=\"CNN+LSTM\", keras_model=model2,\n",
    "    train_batches=(X_train, y_train),\n",
    "    val_batches=(X_test, y_test))"
   ]
  },
  {
   "cell_type": "markdown",
   "metadata": {},
   "source": [
    "#### Train ConvLSTM"
   ]
  },
  {
   "cell_type": "code",
   "execution_count": 21,
   "metadata": {},
   "outputs": [
    {
     "name": "stdout",
     "output_type": "stream",
     "text": [
      "Epoch 1/50\n",
      "2/2 - 4s - loss: 53.0701 - accuracy: 0.3514 - auc_9: 0.6077 - precision_9: 0.3506 - recall_9: 0.3486 - f1_score: 0.2122 - val_loss: 84.3960 - val_accuracy: 0.1314 - val_auc_9: 0.4595 - val_precision_9: 0.1314 - val_recall_9: 0.1314 - val_f1_score: 0.0613 - 4s/epoch - 2s/step\n",
      "Epoch 2/50\n",
      "2/2 - 1s - loss: 72.4524 - accuracy: 0.2400 - auc_9: 0.5266 - precision_9: 0.2400 - recall_9: 0.2400 - f1_score: 0.1263 - val_loss: 40.9642 - val_accuracy: 0.3429 - val_auc_9: 0.6198 - val_precision_9: 0.3429 - val_recall_9: 0.3429 - val_f1_score: 0.1249 - 832ms/epoch - 416ms/step\n",
      "Epoch 3/50\n",
      "2/2 - 1s - loss: 29.3307 - accuracy: 0.3429 - auc_9: 0.6194 - precision_9: 0.3429 - recall_9: 0.3429 - f1_score: 0.1419 - val_loss: 21.2409 - val_accuracy: 0.2400 - val_auc_9: 0.5540 - val_precision_9: 0.2400 - val_recall_9: 0.2400 - val_f1_score: 0.1135 - 756ms/epoch - 378ms/step\n",
      "Epoch 4/50\n",
      "2/2 - 1s - loss: 12.6401 - accuracy: 0.2800 - auc_9: 0.6160 - precision_9: 0.2816 - recall_9: 0.2800 - f1_score: 0.1391 - val_loss: 11.3697 - val_accuracy: 0.3657 - val_auc_9: 0.6564 - val_precision_9: 0.3623 - val_recall_9: 0.2857 - val_f1_score: 0.1674 - 845ms/epoch - 423ms/step\n",
      "Epoch 5/50\n",
      "2/2 - 1s - loss: 4.4849 - accuracy: 0.4086 - auc_9: 0.7124 - precision_9: 0.4600 - recall_9: 0.3286 - f1_score: 0.1757 - val_loss: 8.5891 - val_accuracy: 0.2743 - val_auc_9: 0.6687 - val_precision_9: 0.3559 - val_recall_9: 0.1200 - val_f1_score: 0.1470 - 958ms/epoch - 479ms/step\n",
      "Epoch 6/50\n",
      "2/2 - 1s - loss: 2.1886 - accuracy: 0.3714 - auc_9: 0.7031 - precision_9: 0.4407 - recall_9: 0.1486 - f1_score: 0.1948 - val_loss: 7.9436 - val_accuracy: 0.3314 - val_auc_9: 0.6307 - val_precision_9: 0.3667 - val_recall_9: 0.0629 - val_f1_score: 0.1694 - 835ms/epoch - 418ms/step\n",
      "Epoch 7/50\n",
      "2/2 - 1s - loss: 1.8843 - accuracy: 0.2800 - auc_9: 0.6252 - precision_9: 0.2676 - recall_9: 0.0543 - f1_score: 0.1341 - val_loss: 7.8976 - val_accuracy: 0.3086 - val_auc_9: 0.6274 - val_precision_9: 0.4118 - val_recall_9: 0.0400 - val_f1_score: 0.1368 - 828ms/epoch - 414ms/step\n",
      "Epoch 8/50\n",
      "2/2 - 1s - loss: 1.6454 - accuracy: 0.2943 - auc_9: 0.6255 - precision_9: 0.2432 - recall_9: 0.0257 - f1_score: 0.1316 - val_loss: 8.0310 - val_accuracy: 0.3314 - val_auc_9: 0.7022 - val_precision_9: 0.6364 - val_recall_9: 0.0400 - val_f1_score: 0.1690 - 796ms/epoch - 398ms/step\n",
      "Epoch 9/50\n",
      "2/2 - 1s - loss: 1.6137 - accuracy: 0.3029 - auc_9: 0.7171 - precision_9: 0.3913 - recall_9: 0.0257 - f1_score: 0.1338 - val_loss: 8.2326 - val_accuracy: 0.3314 - val_auc_9: 0.6971 - val_precision_9: 0.5000 - val_recall_9: 0.0229 - val_f1_score: 0.1602 - 824ms/epoch - 412ms/step\n"
     ]
    },
    {
     "data": {
      "image/png": "[encoded data removed]",
      "text/plain": [
       "<Figure size 432x288 with 1 Axes>"
      ]
     },
     "metadata": {
      "needs_background": "light"
     },
     "output_type": "display_data"
    },
    {
     "name": "stdout",
     "output_type": "stream",
     "text": [
      "Epoch 1/50\n",
      "2/2 - 4s - loss: 192.2248 - accuracy: 0.3714 - auc_10: 0.6065 - precision_10: 0.3714 - recall_10: 0.3714 - f1_score: 0.1538 - val_loss: 360.5368 - val_accuracy: 0.1543 - val_auc_10: 0.4714 - val_precision_10: 0.1543 - val_recall_10: 0.1543 - val_f1_score: 0.0535 - 4s/epoch - 2s/step\n",
      "Epoch 2/50\n",
      "2/2 - 1s - loss: 296.2572 - accuracy: 0.1543 - auc_10: 0.4714 - precision_10: 0.1543 - recall_10: 0.1543 - f1_score: 0.0818 - val_loss: 82.4423 - val_accuracy: 0.0686 - val_auc_10: 0.4165 - val_precision_10: 0.0686 - val_recall_10: 0.0686 - val_f1_score: 0.0377 - 911ms/epoch - 455ms/step\n",
      "Epoch 3/50\n",
      "2/2 - 1s - loss: 64.7903 - accuracy: 0.1914 - auc_10: 0.4946 - precision_10: 0.1914 - recall_10: 0.1914 - f1_score: 0.1032 - val_loss: 47.8609 - val_accuracy: 0.4343 - val_auc_10: 0.6464 - val_precision_10: 0.4343 - val_recall_10: 0.4343 - val_f1_score: 0.1348 - 866ms/epoch - 433ms/step\n",
      "Epoch 4/50\n",
      "2/2 - 1s - loss: 43.7114 - accuracy: 0.4343 - auc_10: 0.6464 - precision_10: 0.4343 - recall_10: 0.4343 - f1_score: 0.1211 - val_loss: 23.9452 - val_accuracy: 0.4286 - val_auc_10: 0.6429 - val_precision_10: 0.4286 - val_recall_10: 0.4286 - val_f1_score: 0.1200 - 850ms/epoch - 425ms/step\n",
      "Epoch 5/50\n",
      "2/2 - 1s - loss: 21.4051 - accuracy: 0.4343 - auc_10: 0.6464 - precision_10: 0.4343 - recall_10: 0.4343 - f1_score: 0.1211 - val_loss: 6.0577 - val_accuracy: 0.3943 - val_auc_10: 0.7122 - val_precision_10: 0.3988 - val_recall_10: 0.3829 - val_f1_score: 0.1726 - 876ms/epoch - 438ms/step\n",
      "Epoch 6/50\n",
      "2/2 - 1s - loss: 6.6482 - accuracy: 0.3771 - auc_10: 0.7012 - precision_10: 0.3828 - recall_10: 0.3686 - f1_score: 0.1769 - val_loss: 5.1313 - val_accuracy: 0.3657 - val_auc_10: 0.6356 - val_precision_10: 0.3621 - val_recall_10: 0.3600 - val_f1_score: 0.1616 - 914ms/epoch - 457ms/step\n",
      "Epoch 7/50\n",
      "2/2 - 1s - loss: 5.7573 - accuracy: 0.2743 - auc_10: 0.6017 - precision_10: 0.2762 - recall_10: 0.2714 - f1_score: 0.1111 - val_loss: 3.4227 - val_accuracy: 0.3143 - val_auc_10: 0.6586 - val_precision_10: 0.3072 - val_recall_10: 0.2914 - val_f1_score: 0.1390 - 836ms/epoch - 418ms/step\n",
      "Epoch 8/50\n",
      "2/2 - 1s - loss: 3.6664 - accuracy: 0.2200 - auc_10: 0.6123 - precision_10: 0.2474 - recall_10: 0.2057 - f1_score: 0.1115 - val_loss: 1.9108 - val_accuracy: 0.1771 - val_auc_10: 0.6195 - val_precision_10: 0.2182 - val_recall_10: 0.0686 - val_f1_score: 0.1008 - 736ms/epoch - 368ms/step\n",
      "Epoch 9/50\n",
      "2/2 - 1s - loss: 1.9457 - accuracy: 0.2000 - auc_10: 0.5824 - precision_10: 0.2125 - recall_10: 0.0486 - f1_score: 0.1135 - val_loss: 1.5728 - val_accuracy: 0.1486 - val_auc_10: 0.5209 - val_precision_10: 0.2000 - val_recall_10: 0.0057 - val_f1_score: 0.1278 - 744ms/epoch - 372ms/step\n",
      "Epoch 10/50\n",
      "2/2 - 1s - loss: 1.6115 - accuracy: 0.0714 - auc_10: 0.4697 - precision_10: 0.1111 - recall_10: 0.0029 - f1_score: 0.0713 - val_loss: 1.5800 - val_accuracy: 0.0514 - val_auc_10: 0.4791 - val_precision_10: 0.3333 - val_recall_10: 0.0057 - val_f1_score: 0.0477 - 750ms/epoch - 375ms/step\n",
      "Epoch 11/50\n",
      "2/2 - 1s - loss: 1.6037 - accuracy: 0.0286 - auc_10: 0.4426 - precision_10: 0.2000 - recall_10: 0.0029 - f1_score: 0.0265 - val_loss: 1.5891 - val_accuracy: 0.0514 - val_auc_10: 0.5509 - val_precision_10: 1.0000 - val_recall_10: 0.0057 - val_f1_score: 0.0373 - 796ms/epoch - 398ms/step\n"
     ]
    },
    {
     "data": {
      "image/png": "[encoded data removed]",
      "text/plain": [
       "<Figure size 432x288 with 1 Axes>"
      ]
     },
     "metadata": {
      "needs_background": "light"
     },
     "output_type": "display_data"
    },
    {
     "name": "stdout",
     "output_type": "stream",
     "text": [
      "Epoch 1/50\n",
      "2/2 - 4s - loss: 94.6785 - accuracy: 0.1829 - auc_11: 0.4885 - precision_11: 0.1834 - recall_11: 0.1829 - f1_score: 0.1020 - val_loss: 207.5461 - val_accuracy: 0.2171 - val_auc_11: 0.5174 - val_precision_11: 0.2171 - val_recall_11: 0.2171 - val_f1_score: 0.0978 - 4s/epoch - 2s/step\n",
      "Epoch 2/50\n",
      "2/2 - 1s - loss: 180.5509 - accuracy: 0.2457 - auc_11: 0.5311 - precision_11: 0.2457 - recall_11: 0.2457 - f1_score: 0.1244 - val_loss: 63.5456 - val_accuracy: 0.2057 - val_auc_11: 0.5019 - val_precision_11: 0.2069 - val_recall_11: 0.2057 - val_f1_score: 0.1196 - 773ms/epoch - 387ms/step\n",
      "Epoch 3/50\n",
      "2/2 - 1s - loss: 50.5474 - accuracy: 0.2086 - auc_11: 0.5104 - precision_11: 0.2098 - recall_11: 0.2086 - f1_score: 0.1162 - val_loss: 9.3541 - val_accuracy: 0.1714 - val_auc_11: 0.4859 - val_precision_11: 0.1613 - val_recall_11: 0.1143 - val_f1_score: 0.1167 - 753ms/epoch - 376ms/step\n",
      "Epoch 4/50\n",
      "2/2 - 1s - loss: 9.3717 - accuracy: 0.2000 - auc_11: 0.5280 - precision_11: 0.1696 - recall_11: 0.1114 - f1_score: 0.1432 - val_loss: 2.1936 - val_accuracy: 0.3657 - val_auc_11: 0.6310 - val_precision_11: 0.3409 - val_recall_11: 0.0857 - val_f1_score: 0.1363 - 757ms/epoch - 379ms/step\n",
      "Epoch 5/50\n",
      "2/2 - 1s - loss: 2.7219 - accuracy: 0.4057 - auc_11: 0.6414 - precision_11: 0.4340 - recall_11: 0.1314 - f1_score: 0.1478 - val_loss: 1.7362 - val_accuracy: 0.4800 - val_auc_11: 0.6926 - val_precision_11: 0.6500 - val_recall_11: 0.0743 - val_f1_score: 0.1468 - 820ms/epoch - 410ms/step\n",
      "Epoch 6/50\n",
      "2/2 - 1s - loss: 1.8589 - accuracy: 0.4143 - auc_11: 0.6507 - precision_11: 0.5091 - recall_11: 0.0800 - f1_score: 0.1410 - val_loss: 1.5874 - val_accuracy: 0.4686 - val_auc_11: 0.6756 - val_precision_11: 0.7778 - val_recall_11: 0.0400 - val_f1_score: 0.1276 - 726ms/epoch - 363ms/step\n",
      "Epoch 7/50\n",
      "2/2 - 1s - loss: 1.6259 - accuracy: 0.4143 - auc_11: 0.6500 - precision_11: 0.5714 - recall_11: 0.0571 - f1_score: 0.1407 - val_loss: 1.5768 - val_accuracy: 0.4743 - val_auc_11: 0.6767 - val_precision_11: 1.0000 - val_recall_11: 0.0114 - val_f1_score: 0.1287 - 790ms/epoch - 395ms/step\n",
      "Epoch 8/50\n",
      "2/2 - 1s - loss: 1.5763 - accuracy: 0.4171 - auc_11: 0.6612 - precision_11: 0.6667 - recall_11: 0.0343 - f1_score: 0.1413 - val_loss: 1.5995 - val_accuracy: 0.4629 - val_auc_11: 0.6799 - val_precision_11: 0.0000e+00 - val_recall_11: 0.0000e+00 - val_f1_score: 0.1271 - 921ms/epoch - 460ms/step\n",
      "Epoch 9/50\n",
      "2/2 - 1s - loss: 1.5870 - accuracy: 0.4171 - auc_11: 0.7136 - precision_11: 0.8000 - recall_11: 0.0114 - f1_score: 0.1413 - val_loss: 1.6005 - val_accuracy: 0.4629 - val_auc_11: 0.6810 - val_precision_11: 0.0000e+00 - val_recall_11: 0.0000e+00 - val_f1_score: 0.1266 - 1s/epoch - 522ms/step\n"
     ]
    },
    {
     "data": {
      "image/png": "[encoded data removed]",
      "text/plain": [
       "<Figure size 432x288 with 1 Axes>"
      ]
     },
     "metadata": {
      "needs_background": "light"
     },
     "output_type": "display_data"
    }
   ],
   "source": [
    "model3 = build_convLSTM(n_features, n_length, n_outputs, y_train.shape[1])\n",
    "for train_index, val_index in kf.split(X):\n",
    "    X_train, X_val = X[train_index], X[val_index]\n",
    "    y_train, y_val = y[train_index], y[val_index]\n",
    "    model3 = build_convLSTM(n_features, n_length, n_outputs, y_train.shape[1])\n",
    "    history = train(model3, X_train, y_train, X_val, y_val, epochs=epochs, batch_size=batch_size)\n",
    "    plt.plot(history.history['loss'])\n",
    "    plt.show()"
   ]
  },
  {
   "cell_type": "code",
   "execution_count": 22,
   "metadata": {},
   "outputs": [],
   "source": [
    "member3 = KerasMember(name=\"ConvLSTM\", keras_model=model3,\n",
    "    train_batches=(X_train, y_train),\n",
    "    val_batches=(X_test, y_test))"
   ]
  },
  {
   "cell_type": "markdown",
   "metadata": {},
   "source": [
    "#### Train RCNN"
   ]
  },
  {
   "cell_type": "code",
   "execution_count": 23,
   "metadata": {},
   "outputs": [
    {
     "name": "stdout",
     "output_type": "stream",
     "text": [
      "Epoch 1/50\n",
      "2/2 - 2s - loss: 7.7287 - accuracy: 0.2371 - auc_13: 0.5388 - precision_13: 0.2995 - recall_13: 0.1686 - f1_score: 0.1636 - val_loss: 823.0449 - val_accuracy: 0.3943 - val_auc_13: 0.6214 - val_precision_13: 0.3943 - val_recall_13: 0.3943 - val_f1_score: 0.1131 - 2s/epoch - 1s/step\n",
      "Epoch 2/50\n",
      "2/2 - 1s - loss: 11.2078 - accuracy: 0.3771 - auc_13: 0.6548 - precision_13: 0.3810 - recall_13: 0.3657 - f1_score: 0.1711 - val_loss: 390.2332 - val_accuracy: 0.3029 - val_auc_13: 0.5643 - val_precision_13: 0.3029 - val_recall_13: 0.3029 - val_f1_score: 0.0930 - 881ms/epoch - 440ms/step\n",
      "Epoch 3/50\n",
      "2/2 - 1s - loss: 10.2133 - accuracy: 0.2971 - auc_13: 0.5942 - precision_13: 0.2976 - recall_13: 0.2857 - f1_score: 0.1019 - val_loss: 162.9416 - val_accuracy: 0.3943 - val_auc_13: 0.6214 - val_precision_13: 0.3943 - val_recall_13: 0.3943 - val_f1_score: 0.1131 - 981ms/epoch - 491ms/step\n",
      "Epoch 4/50\n",
      "2/2 - 1s - loss: 4.7878 - accuracy: 0.4514 - auc_13: 0.7372 - precision_13: 0.4662 - recall_13: 0.4143 - f1_score: 0.2654 - val_loss: 174.5795 - val_accuracy: 0.3943 - val_auc_13: 0.6214 - val_precision_13: 0.3943 - val_recall_13: 0.3943 - val_f1_score: 0.1131 - 871ms/epoch - 436ms/step\n",
      "Epoch 5/50\n",
      "2/2 - 1s - loss: 4.7582 - accuracy: 0.4429 - auc_13: 0.7212 - precision_13: 0.4686 - recall_13: 0.4057 - f1_score: 0.2684 - val_loss: 115.8588 - val_accuracy: 0.1886 - val_auc_13: 0.5130 - val_precision_13: 0.1886 - val_recall_13: 0.1886 - val_f1_score: 0.0724 - 903ms/epoch - 452ms/step\n",
      "Epoch 6/50\n",
      "2/2 - 1s - loss: 3.6826 - accuracy: 0.4429 - auc_13: 0.7364 - precision_13: 0.4770 - recall_13: 0.3857 - f1_score: 0.2495 - val_loss: 84.4243 - val_accuracy: 0.1829 - val_auc_13: 0.4893 - val_precision_13: 0.1829 - val_recall_13: 0.1829 - val_f1_score: 0.0618 - 847ms/epoch - 423ms/step\n",
      "Epoch 7/50\n",
      "2/2 - 1s - loss: 3.3626 - accuracy: 0.4000 - auc_13: 0.7428 - precision_13: 0.4393 - recall_13: 0.3514 - f1_score: 0.2617 - val_loss: 37.3010 - val_accuracy: 0.3029 - val_auc_13: 0.5842 - val_precision_13: 0.3029 - val_recall_13: 0.3029 - val_f1_score: 0.1543 - 914ms/epoch - 457ms/step\n",
      "Epoch 8/50\n",
      "2/2 - 1s - loss: 2.6184 - accuracy: 0.4514 - auc_13: 0.7651 - precision_13: 0.4658 - recall_13: 0.3886 - f1_score: 0.2865 - val_loss: 26.2975 - val_accuracy: 0.3143 - val_auc_13: 0.5786 - val_precision_13: 0.3143 - val_recall_13: 0.3143 - val_f1_score: 0.1296 - 1s/epoch - 511ms/step\n",
      "Epoch 9/50\n",
      "2/2 - 1s - loss: 2.1599 - accuracy: 0.4429 - auc_13: 0.7717 - precision_13: 0.4740 - recall_13: 0.3914 - f1_score: 0.2838 - val_loss: 25.7562 - val_accuracy: 0.2914 - val_auc_13: 0.5671 - val_precision_13: 0.2914 - val_recall_13: 0.2914 - val_f1_score: 0.0907 - 1s/epoch - 541ms/step\n",
      "Epoch 10/50\n",
      "2/2 - 1s - loss: 1.8047 - accuracy: 0.4600 - auc_13: 0.7957 - precision_13: 0.5269 - recall_13: 0.4200 - f1_score: 0.3177 - val_loss: 16.0932 - val_accuracy: 0.2971 - val_auc_13: 0.5704 - val_precision_13: 0.2971 - val_recall_13: 0.2971 - val_f1_score: 0.1028 - 942ms/epoch - 471ms/step\n",
      "Epoch 11/50\n",
      "2/2 - 1s - loss: 1.6213 - accuracy: 0.5029 - auc_13: 0.8201 - precision_13: 0.5792 - recall_13: 0.4286 - f1_score: 0.3454 - val_loss: 9.3171 - val_accuracy: 0.2629 - val_auc_13: 0.6026 - val_precision_13: 0.2706 - val_recall_13: 0.2629 - val_f1_score: 0.1546 - 1s/epoch - 615ms/step\n",
      "Epoch 12/50\n",
      "2/2 - 1s - loss: 1.3530 - accuracy: 0.5371 - auc_13: 0.8373 - precision_13: 0.6000 - recall_13: 0.4286 - f1_score: 0.3877 - val_loss: 10.9386 - val_accuracy: 0.1829 - val_auc_13: 0.5033 - val_precision_13: 0.1829 - val_recall_13: 0.1829 - val_f1_score: 0.0798 - 1s/epoch - 531ms/step\n",
      "Epoch 13/50\n",
      "2/2 - 1s - loss: 1.2384 - accuracy: 0.5514 - auc_13: 0.8403 - precision_13: 0.6008 - recall_13: 0.4171 - f1_score: 0.4068 - val_loss: 10.5604 - val_accuracy: 0.1886 - val_auc_13: 0.5026 - val_precision_13: 0.1886 - val_recall_13: 0.1886 - val_f1_score: 0.0818 - 844ms/epoch - 422ms/step\n"
     ]
    },
    {
     "data": {
      "image/png": "[encoded data removed]",
      "text/plain": [
       "<Figure size 432x288 with 1 Axes>"
      ]
     },
     "metadata": {
      "needs_background": "light"
     },
     "output_type": "display_data"
    },
    {
     "name": "stdout",
     "output_type": "stream",
     "text": [
      "Epoch 1/50\n",
      "2/2 - 2s - loss: 4.4392 - accuracy: 0.2429 - auc_14: 0.5746 - precision_14: 0.3434 - recall_14: 0.1629 - f1_score: 0.1539 - val_loss: 1454.8854 - val_accuracy: 0.3371 - val_auc_14: 0.5857 - val_precision_14: 0.3371 - val_recall_14: 0.3371 - val_f1_score: 0.1009 - 2s/epoch - 1s/step\n",
      "Epoch 2/50\n",
      "2/2 - 1s - loss: 23.6809 - accuracy: 0.2743 - auc_14: 0.5703 - precision_14: 0.2770 - recall_14: 0.2714 - f1_score: 0.1289 - val_loss: 390.5157 - val_accuracy: 0.1543 - val_auc_14: 0.4714 - val_precision_14: 0.1543 - val_recall_14: 0.1543 - val_f1_score: 0.0535 - 1s/epoch - 562ms/step\n",
      "Epoch 3/50\n",
      "2/2 - 1s - loss: 10.5680 - accuracy: 0.3200 - auc_14: 0.6271 - precision_14: 0.3265 - recall_14: 0.3171 - f1_score: 0.1626 - val_loss: 497.6176 - val_accuracy: 0.4286 - val_auc_14: 0.6429 - val_precision_14: 0.4286 - val_recall_14: 0.4286 - val_f1_score: 0.1200 - 933ms/epoch - 466ms/step\n",
      "Epoch 4/50\n",
      "2/2 - 1s - loss: 12.6215 - accuracy: 0.4371 - auc_14: 0.6703 - precision_14: 0.4422 - recall_14: 0.4371 - f1_score: 0.1430 - val_loss: 290.7021 - val_accuracy: 0.4286 - val_auc_14: 0.6429 - val_precision_14: 0.4286 - val_recall_14: 0.4286 - val_f1_score: 0.1200 - 853ms/epoch - 426ms/step\n",
      "Epoch 5/50\n",
      "2/2 - 1s - loss: 8.5828 - accuracy: 0.4286 - auc_14: 0.6890 - precision_14: 0.4336 - recall_14: 0.4200 - f1_score: 0.1479 - val_loss: 141.6736 - val_accuracy: 0.1543 - val_auc_14: 0.4714 - val_precision_14: 0.1543 - val_recall_14: 0.1543 - val_f1_score: 0.0535 - 905ms/epoch - 452ms/step\n",
      "Epoch 6/50\n",
      "2/2 - 1s - loss: 4.7581 - accuracy: 0.3314 - auc_14: 0.6674 - precision_14: 0.3312 - recall_14: 0.2943 - f1_score: 0.2055 - val_loss: 130.7243 - val_accuracy: 0.3371 - val_auc_14: 0.5857 - val_precision_14: 0.3371 - val_recall_14: 0.3371 - val_f1_score: 0.1013 - 840ms/epoch - 420ms/step\n",
      "Epoch 7/50\n",
      "2/2 - 1s - loss: 4.4874 - accuracy: 0.3543 - auc_14: 0.6619 - precision_14: 0.3605 - recall_14: 0.3029 - f1_score: 0.2317 - val_loss: 109.8709 - val_accuracy: 0.3371 - val_auc_14: 0.5857 - val_precision_14: 0.3371 - val_recall_14: 0.3371 - val_f1_score: 0.1009 - 887ms/epoch - 444ms/step\n",
      "Epoch 8/50\n",
      "2/2 - 1s - loss: 4.1317 - accuracy: 0.4229 - auc_14: 0.7060 - precision_14: 0.4360 - recall_14: 0.3600 - f1_score: 0.2836 - val_loss: 39.5638 - val_accuracy: 0.3429 - val_auc_14: 0.6024 - val_precision_14: 0.3429 - val_recall_14: 0.3429 - val_f1_score: 0.1069 - 1s/epoch - 503ms/step\n",
      "Epoch 9/50\n",
      "2/2 - 1s - loss: 2.9009 - accuracy: 0.4429 - auc_14: 0.7493 - precision_14: 0.4776 - recall_14: 0.3657 - f1_score: 0.2829 - val_loss: 51.9944 - val_accuracy: 0.4286 - val_auc_14: 0.6429 - val_precision_14: 0.4286 - val_recall_14: 0.4286 - val_f1_score: 0.1200 - 1s/epoch - 509ms/step\n",
      "Epoch 10/50\n",
      "2/2 - 1s - loss: 2.4508 - accuracy: 0.4600 - auc_14: 0.7616 - precision_14: 0.4845 - recall_14: 0.4029 - f1_score: 0.2644 - val_loss: 49.5132 - val_accuracy: 0.4286 - val_auc_14: 0.6429 - val_precision_14: 0.4286 - val_recall_14: 0.4286 - val_f1_score: 0.1200 - 915ms/epoch - 457ms/step\n"
     ]
    },
    {
     "data": {
      "image/png": "[encoded data removed]",
      "text/plain": [
       "<Figure size 432x288 with 1 Axes>"
      ]
     },
     "metadata": {
      "needs_background": "light"
     },
     "output_type": "display_data"
    },
    {
     "name": "stdout",
     "output_type": "stream",
     "text": [
      "Epoch 1/50\n",
      "2/2 - 3s - loss: 12.0775 - accuracy: 0.2343 - auc_15: 0.5435 - precision_15: 0.3038 - recall_15: 0.1371 - f1_score: 0.1755 - val_loss: 775.2826 - val_accuracy: 0.4743 - val_auc_15: 0.6714 - val_precision_15: 0.4743 - val_recall_15: 0.4743 - val_f1_score: 0.1287 - 3s/epoch - 1s/step\n",
      "Epoch 2/50\n",
      "2/2 - 1s - loss: 11.0270 - accuracy: 0.3800 - auc_15: 0.6412 - precision_15: 0.3905 - recall_15: 0.3771 - f1_score: 0.1963 - val_loss: 509.1536 - val_accuracy: 0.2343 - val_auc_15: 0.5214 - val_precision_15: 0.2343 - val_recall_15: 0.2343 - val_f1_score: 0.0759 - 1s/epoch - 524ms/step\n",
      "Epoch 3/50\n",
      "2/2 - 1s - loss: 9.3200 - accuracy: 0.3086 - auc_15: 0.5854 - precision_15: 0.3140 - recall_15: 0.2943 - f1_score: 0.1934 - val_loss: 213.2936 - val_accuracy: 0.2343 - val_auc_15: 0.5214 - val_precision_15: 0.2343 - val_recall_15: 0.2343 - val_f1_score: 0.0759 - 903ms/epoch - 452ms/step\n",
      "Epoch 4/50\n",
      "2/2 - 1s - loss: 5.1267 - accuracy: 0.3114 - auc_15: 0.6255 - precision_15: 0.3367 - recall_15: 0.2886 - f1_score: 0.1861 - val_loss: 58.4873 - val_accuracy: 0.2000 - val_auc_15: 0.5000 - val_precision_15: 0.2000 - val_recall_15: 0.2000 - val_f1_score: 0.0667 - 843ms/epoch - 422ms/step\n",
      "Epoch 5/50\n",
      "2/2 - 1s - loss: 2.6765 - accuracy: 0.3714 - auc_15: 0.7002 - precision_15: 0.4035 - recall_15: 0.3286 - f1_score: 0.2784 - val_loss: 46.9280 - val_accuracy: 0.4743 - val_auc_15: 0.6714 - val_precision_15: 0.4743 - val_recall_15: 0.4743 - val_f1_score: 0.1287 - 945ms/epoch - 472ms/step\n",
      "Epoch 6/50\n",
      "2/2 - 1s - loss: 2.6122 - accuracy: 0.4086 - auc_15: 0.7267 - precision_15: 0.4676 - recall_15: 0.3714 - f1_score: 0.2629 - val_loss: 59.0590 - val_accuracy: 0.4743 - val_auc_15: 0.6714 - val_precision_15: 0.4743 - val_recall_15: 0.4743 - val_f1_score: 0.1287 - 1s/epoch - 578ms/step\n",
      "Epoch 7/50\n",
      "2/2 - 1s - loss: 2.7232 - accuracy: 0.4457 - auc_15: 0.7358 - precision_15: 0.4671 - recall_15: 0.3857 - f1_score: 0.2397 - val_loss: 40.1288 - val_accuracy: 0.4743 - val_auc_15: 0.6714 - val_precision_15: 0.4743 - val_recall_15: 0.4743 - val_f1_score: 0.1287 - 1s/epoch - 628ms/step\n",
      "Epoch 8/50\n",
      "2/2 - 1s - loss: 2.2115 - accuracy: 0.4543 - auc_15: 0.7595 - precision_15: 0.4982 - recall_15: 0.3914 - f1_score: 0.2453 - val_loss: 12.3242 - val_accuracy: 0.4514 - val_auc_15: 0.6599 - val_precision_15: 0.4514 - val_recall_15: 0.4514 - val_f1_score: 0.1254 - 1s/epoch - 506ms/step\n",
      "Epoch 9/50\n",
      "2/2 - 1s - loss: 1.4456 - accuracy: 0.4800 - auc_15: 0.8101 - precision_15: 0.5855 - recall_15: 0.3914 - f1_score: 0.3232 - val_loss: 30.8714 - val_accuracy: 0.2343 - val_auc_15: 0.5154 - val_precision_15: 0.2343 - val_recall_15: 0.2343 - val_f1_score: 0.0766 - 862ms/epoch - 431ms/step\n",
      "Epoch 10/50\n",
      "2/2 - 1s - loss: 1.6253 - accuracy: 0.5086 - auc_15: 0.7915 - precision_15: 0.5564 - recall_15: 0.4086 - f1_score: 0.3556 - val_loss: 36.1685 - val_accuracy: 0.2343 - val_auc_15: 0.5162 - val_precision_15: 0.2343 - val_recall_15: 0.2343 - val_f1_score: 0.0766 - 1s/epoch - 593ms/step\n"
     ]
    },
    {
     "data": {
      "image/png": "[encoded data removed]",
      "text/plain": [
       "<Figure size 432x288 with 1 Axes>"
      ]
     },
     "metadata": {
      "needs_background": "light"
     },
     "output_type": "display_data"
    }
   ],
   "source": [
    "model4 = build_RCNN(n_features, n_length, n_outputs, y_train.shape[1])\n",
    "for train_index, val_index in kf.split(X):\n",
    "    X_train, X_val = X[train_index], X[val_index]\n",
    "    y_train, y_val = y[train_index], y[val_index]\n",
    "    model4 = build_RCNN(n_features, n_length, n_outputs, y_train.shape[1])\n",
    "    history = train(model4, X_train, y_train, X_val, y_val, epochs=epochs, batch_size=batch_size)\n",
    "    plt.plot(history.history['loss'])\n",
    "    plt.show()"
   ]
  },
  {
   "cell_type": "code",
   "execution_count": 24,
   "metadata": {},
   "outputs": [],
   "source": [
    "member4 = KerasMember(name=\"RCNN\", keras_model=model4,\n",
    "    train_batches=(X_train, y_train),\n",
    "    val_batches=(X_test, y_test))"
   ]
  },
  {
   "cell_type": "markdown",
   "metadata": {},
   "source": [
    "#### Stacking Ensemble"
   ]
  },
  {
   "cell_type": "code",
   "execution_count": 25,
   "metadata": {},
   "outputs": [],
   "source": [
    "stack = StackEnsemble()\n",
    "stack.add_member(member1)\n",
    "stack.add_member(member2)\n",
    "stack.add_member(member3)\n",
    "stack.add_member(member4)"
   ]
  },
  {
   "cell_type": "code",
   "execution_count": 26,
   "metadata": {},
   "outputs": [
    {
     "data": {
      "text/plain": [
       "RandomForestClassifier(max_depth=4, n_jobs=20)"
      ]
     },
     "execution_count": 26,
     "metadata": {},
     "output_type": "execute_result"
    }
   ],
   "source": [
    "stack.fit()"
   ]
  },
  {
   "cell_type": "code",
   "execution_count": 27,
   "metadata": {},
   "outputs": [
    {
     "name": "stdout",
     "output_type": "stream",
     "text": [
      "BiLSTM - ROC/AUC: 0.52, Accuracy: 10.00%, Precision: 0.12, Recall: 0.21, F1 score: 0.05 \n",
      "\n",
      "CNN+LSTM - ROC/AUC: 0.50, Accuracy: 24.44%, Precision: 0.05, Recall: 0.20, F1 score: 0.08 \n",
      "\n",
      "ConvLSTM - ROC/AUC: 0.51, Accuracy: 24.44%, Precision: 0.05, Recall: 0.20, F1 score: 0.08 \n",
      "\n",
      "RCNN - ROC/AUC: 0.47, Accuracy: 8.89%, Precision: 0.02, Recall: 0.20, F1 score: 0.03 \n",
      "\n",
      "StackEnsemble - ROC/AUC: 0.50, Accuracy: 24.44%, Precision: 0.05, Recall: 0.20, F1 score: 0.08\n"
     ]
    }
   ],
   "source": [
    "stack_score = stack.describe()"
   ]
  },
  {
   "cell_type": "markdown",
   "metadata": {},
   "source": [
    "#### Dirichlet Markov Ensemble"
   ]
  },
  {
   "cell_type": "code",
   "execution_count": 28,
   "metadata": {},
   "outputs": [],
   "source": [
    "dirichletEnsemble = DirichletEnsemble(N=2000 * 4)\n",
    "dirichletEnsemble.add_member(member1)\n",
    "dirichletEnsemble.add_member(member2)\n",
    "dirichletEnsemble.add_member(member3)\n",
    "dirichletEnsemble.add_member(member4)"
   ]
  },
  {
   "cell_type": "code",
   "execution_count": 29,
   "metadata": {},
   "outputs": [],
   "source": [
    "dirichletEnsemble.fit()"
   ]
  },
  {
   "cell_type": "code",
   "execution_count": 30,
   "metadata": {},
   "outputs": [
    {
     "name": "stdout",
     "output_type": "stream",
     "text": [
      "BiLSTM (weight: 0.3074) - ROC/AUC: 0.52, Accuracy: 10.00%, Precision: 0.12, Recall: 0.21, F1 score: 0.05 \n",
      "\n",
      "CNN+LSTM (weight: 0.4799) - ROC/AUC: 0.50, Accuracy: 24.44%, Precision: 0.05, Recall: 0.20, F1 score: 0.08 \n",
      "\n",
      "ConvLSTM (weight: 0.2090) - ROC/AUC: 0.51, Accuracy: 24.44%, Precision: 0.05, Recall: 0.20, F1 score: 0.08 \n",
      "\n",
      "RCNN (weight: 0.0037) - ROC/AUC: 0.47, Accuracy: 8.89%, Precision: 0.02, Recall: 0.20, F1 score: 0.03 \n",
      "\n",
      "DirichletEnsemble - ROC/AUC: 0.51, Accuracy: 24.44%, Precision: 0.22, Recall: 0.21, F1 score: 0.08\n"
     ]
    }
   ],
   "source": [
    "dirichletEnsemble.describe()"
   ]
  },
  {
   "cell_type": "markdown",
   "metadata": {},
   "source": [
    "### 1.2 Face modality (Action units)"
   ]
  },
  {
   "cell_type": "code",
   "execution_count": 31,
   "metadata": {},
   "outputs": [
    {
     "name": "stdout",
     "output_type": "stream",
     "text": [
      "(193, 1, 350, 10) (193, 4)\n",
      "(42, 1, 350, 10) (42, 4)\n"
     ]
    }
   ],
   "source": [
    "X_train, X_test, y_train, y_test = load_dataset('processed', 'AUs')\n",
    "X = X_train.copy()\n",
    "y = y_train.copy()\n",
    "\n",
    "print(X_train.shape, y_train.shape)\n",
    "print(X_test.shape, y_test.shape)\n",
    "\n",
    "n_length, n_features, n_outputs = X_train.shape[2], X_train.shape[-1], y_train.shape[1]"
   ]
  },
  {
   "cell_type": "markdown",
   "metadata": {},
   "source": [
    "#### Train BiLSTM"
   ]
  },
  {
   "cell_type": "code",
   "execution_count": 32,
   "metadata": {},
   "outputs": [
    {
     "name": "stdout",
     "output_type": "stream",
     "text": [
      "Epoch 1/50\n",
      "1/1 - 7s - loss: 1.3992 - accuracy: 0.1719 - auc_17: 0.3258 - precision_17: 0.0000e+00 - recall_17: 0.0000e+00 - f1_score: 0.1468 - val_loss: 1.6191 - val_accuracy: 0.5231 - val_auc_17: 0.7440 - val_precision_17: 0.5238 - val_recall_17: 0.5077 - val_f1_score: 0.1717 - 7s/epoch - 7s/step\n",
      "Epoch 2/50\n",
      "1/1 - 1s - loss: 1.6150 - accuracy: 0.4766 - auc_17: 0.7204 - precision_17: 0.4750 - recall_17: 0.4453 - f1_score: 0.1614 - val_loss: 1.8351 - val_accuracy: 0.2000 - val_auc_17: 0.6222 - val_precision_17: 0.2063 - val_recall_17: 0.2000 - val_f1_score: 0.0833 - 933ms/epoch - 933ms/step\n",
      "Epoch 3/50\n",
      "1/1 - 1s - loss: 1.6414 - accuracy: 0.2734 - auc_17: 0.6597 - precision_17: 0.2667 - recall_17: 0.2500 - f1_score: 0.1074 - val_loss: 1.3040 - val_accuracy: 0.4154 - val_auc_17: 0.7250 - val_precision_17: 0.7000 - val_recall_17: 0.2154 - val_f1_score: 0.2148 - 951ms/epoch - 951ms/step\n",
      "Epoch 4/50\n",
      "1/1 - 1s - loss: 1.1496 - accuracy: 0.5625 - auc_17: 0.7714 - precision_17: 0.7838 - recall_17: 0.2266 - f1_score: 0.3098 - val_loss: 1.3039 - val_accuracy: 0.5231 - val_auc_17: 0.7269 - val_precision_17: 0.7188 - val_recall_17: 0.3538 - val_f1_score: 0.1717 - 905ms/epoch - 905ms/step\n",
      "Epoch 5/50\n",
      "1/1 - 1s - loss: 1.1642 - accuracy: 0.4766 - auc_17: 0.7509 - precision_17: 0.6212 - recall_17: 0.3203 - f1_score: 0.1614 - val_loss: 1.3427 - val_accuracy: 0.5538 - val_auc_17: 0.7191 - val_precision_17: 0.7188 - val_recall_17: 0.3538 - val_f1_score: 0.2456 - 897ms/epoch - 897ms/step\n",
      "Epoch 6/50\n",
      "1/1 - 1s - loss: 1.2011 - accuracy: 0.5312 - auc_17: 0.7417 - precision_17: 0.6406 - recall_17: 0.3203 - f1_score: 0.2784 - val_loss: 1.3231 - val_accuracy: 0.5692 - val_auc_17: 0.7174 - val_precision_17: 0.7308 - val_recall_17: 0.2923 - val_f1_score: 0.2866 - 888ms/epoch - 888ms/step\n"
     ]
    },
    {
     "data": {
      "image/png": "[encoded data removed]",
      "text/plain": [
       "<Figure size 432x288 with 1 Axes>"
      ]
     },
     "metadata": {
      "needs_background": "light"
     },
     "output_type": "display_data"
    },
    {
     "name": "stdout",
     "output_type": "stream",
     "text": [
      "Epoch 1/50\n",
      "1/1 - 6s - loss: 1.3799 - accuracy: 0.2481 - auc_18: 0.6110 - precision_18: 0.0000e+00 - recall_18: 0.0000e+00 - f1_score: 0.1111 - val_loss: 1.5053 - val_accuracy: 0.5312 - val_auc_18: 0.7493 - val_precision_18: 0.5323 - val_recall_18: 0.5156 - val_f1_score: 0.1735 - 6s/epoch - 6s/step\n",
      "Epoch 2/50\n",
      "1/1 - 1s - loss: 1.7081 - accuracy: 0.4729 - auc_18: 0.7133 - precision_18: 0.4672 - recall_18: 0.4419 - f1_score: 0.1605 - val_loss: 1.2035 - val_accuracy: 0.4375 - val_auc_18: 0.7219 - val_precision_18: 0.4000 - val_recall_18: 0.0938 - val_f1_score: 0.1755 - 905ms/epoch - 905ms/step\n",
      "Epoch 3/50\n",
      "1/1 - 1s - loss: 1.2808 - accuracy: 0.4806 - auc_18: 0.7305 - precision_18: 0.7353 - recall_18: 0.1938 - f1_score: 0.2390 - val_loss: 1.2668 - val_accuracy: 0.2500 - val_auc_18: 0.6589 - val_precision_18: 0.2500 - val_recall_18: 0.0312 - val_f1_score: 0.1196 - 844ms/epoch - 844ms/step\n",
      "Epoch 4/50\n",
      "1/1 - 1s - loss: 1.2511 - accuracy: 0.3411 - auc_18: 0.6994 - precision_18: 0.5000 - recall_18: 0.0930 - f1_score: 0.1851 - val_loss: 1.2303 - val_accuracy: 0.4062 - val_auc_18: 0.6912 - val_precision_18: 1.0000 - val_recall_18: 0.0312 - val_f1_score: 0.2771 - 841ms/epoch - 841ms/step\n"
     ]
    },
    {
     "data": {
      "image/png": "[encoded data removed]",
      "text/plain": [
       "<Figure size 432x288 with 1 Axes>"
      ]
     },
     "metadata": {
      "needs_background": "light"
     },
     "output_type": "display_data"
    },
    {
     "name": "stdout",
     "output_type": "stream",
     "text": [
      "Epoch 1/50\n",
      "1/1 - 6s - loss: 1.3987 - accuracy: 0.1550 - auc_19: 0.3195 - precision_19: 0.0000e+00 - recall_19: 0.0000e+00 - f1_score: 0.1250 - val_loss: 1.7219 - val_accuracy: 0.4219 - val_auc_19: 0.6527 - val_precision_19: 0.4237 - val_recall_19: 0.3906 - val_f1_score: 0.1484 - 6s/epoch - 6s/step\n",
      "Epoch 2/50\n",
      "1/1 - 1s - loss: 1.4346 - accuracy: 0.5271 - auc_19: 0.7532 - precision_19: 0.5280 - recall_19: 0.5116 - f1_score: 0.1726 - val_loss: 1.3165 - val_accuracy: 0.4219 - val_auc_19: 0.6751 - val_precision_19: 0.4722 - val_recall_19: 0.2656 - val_f1_score: 0.1484 - 917ms/epoch - 917ms/step\n",
      "Epoch 3/50\n",
      "1/1 - 1s - loss: 1.1230 - accuracy: 0.5271 - auc_19: 0.7803 - precision_19: 0.6279 - recall_19: 0.4186 - f1_score: 0.1726 - val_loss: 1.2999 - val_accuracy: 0.3125 - val_auc_19: 0.6584 - val_precision_19: 0.2500 - val_recall_19: 0.0312 - val_f1_score: 0.1786 - 937ms/epoch - 937ms/step\n",
      "Epoch 4/50\n",
      "1/1 - 1s - loss: 1.1652 - accuracy: 0.3953 - auc_19: 0.7517 - precision_19: 0.6400 - recall_19: 0.1240 - f1_score: 0.2274 - val_loss: 1.2789 - val_accuracy: 0.3750 - val_auc_19: 0.6592 - val_precision_19: 0.4545 - val_recall_19: 0.0781 - val_f1_score: 0.1379 - 901ms/epoch - 901ms/step\n",
      "Epoch 5/50\n",
      "1/1 - 1s - loss: 1.0878 - accuracy: 0.5814 - auc_19: 0.8188 - precision_19: 0.8148 - recall_19: 0.1705 - f1_score: 0.2889 - val_loss: 1.3085 - val_accuracy: 0.4062 - val_auc_19: 0.6449 - val_precision_19: 0.5185 - val_recall_19: 0.2188 - val_f1_score: 0.1461 - 873ms/epoch - 873ms/step\n",
      "Epoch 6/50\n",
      "1/1 - 1s - loss: 1.0361 - accuracy: 0.5659 - auc_19: 0.8193 - precision_19: 0.7368 - recall_19: 0.3256 - f1_score: 0.2613 - val_loss: 1.3594 - val_accuracy: 0.4062 - val_auc_19: 0.6446 - val_precision_19: 0.5312 - val_recall_19: 0.2656 - val_f1_score: 0.1461 - 864ms/epoch - 864ms/step\n"
     ]
    },
    {
     "data": {
      "image/png": "[encoded data removed]",
      "text/plain": [
       "<Figure size 432x288 with 1 Axes>"
      ]
     },
     "metadata": {
      "needs_background": "light"
     },
     "output_type": "display_data"
    }
   ],
   "source": [
    "model1 = build_biConvLSTM(n_length, n_features, n_outputs, y_train.shape[1])\n",
    "for train_index, val_index in kf.split(X):\n",
    "    X_train, X_val = X[train_index], X[val_index]\n",
    "    y_train, y_val = y[train_index], y[val_index]\n",
    "    model1 = build_biConvLSTM(n_features, n_length, n_outputs, y_train.shape[1])\n",
    "    history = train(model1, X_train, y_train, X_val, y_val, epochs=epochs, batch_size=batch_size)\n",
    "    plt.plot(history.history['loss'])\n",
    "    plt.show()"
   ]
  },
  {
   "cell_type": "code",
   "execution_count": 33,
   "metadata": {},
   "outputs": [],
   "source": [
    "member1 = KerasMember(name=\"BiLSTM\", keras_model=model1,\n",
    "    train_batches=(X_train, y_train),\n",
    "    val_batches=(X_test, y_test))"
   ]
  },
  {
   "cell_type": "markdown",
   "metadata": {},
   "source": [
    "#### Train CNN+LSTM"
   ]
  },
  {
   "cell_type": "code",
   "execution_count": 34,
   "metadata": {},
   "outputs": [
    {
     "name": "stdout",
     "output_type": "stream",
     "text": [
      "Epoch 1/50\n",
      "1/1 - 3s - loss: 1.3971 - accuracy: 0.1641 - auc_21: 0.4188 - precision_21: 0.0000e+00 - recall_21: 0.0000e+00 - f1_score: 0.1510 - val_loss: 1.2149 - val_accuracy: 0.5231 - val_auc_21: 0.7493 - val_precision_21: 0.5323 - val_recall_21: 0.5077 - val_f1_score: 0.1717 - 3s/epoch - 3s/step\n",
      "Epoch 2/50\n",
      "1/1 - 0s - loss: 1.2874 - accuracy: 0.4766 - auc_21: 0.7199 - precision_21: 0.4783 - recall_21: 0.4297 - f1_score: 0.1614 - val_loss: 1.1991 - val_accuracy: 0.5231 - val_auc_21: 0.7441 - val_precision_21: 0.6429 - val_recall_21: 0.1385 - val_f1_score: 0.1717 - 103ms/epoch - 103ms/step\n",
      "Epoch 3/50\n",
      "1/1 - 0s - loss: 1.1927 - accuracy: 0.4766 - auc_21: 0.7405 - precision_21: 0.7619 - recall_21: 0.1250 - f1_score: 0.1614 - val_loss: 1.2256 - val_accuracy: 0.5231 - val_auc_21: 0.7290 - val_precision_21: 0.5000 - val_recall_21: 0.0615 - val_f1_score: 0.1717 - 89ms/epoch - 89ms/step\n",
      "Epoch 4/50\n",
      "1/1 - 0s - loss: 1.1813 - accuracy: 0.4766 - auc_21: 0.7614 - precision_21: 0.7500 - recall_21: 0.0469 - f1_score: 0.1614 - val_loss: 1.2009 - val_accuracy: 0.5231 - val_auc_21: 0.7307 - val_precision_21: 0.6429 - val_recall_21: 0.1385 - val_f1_score: 0.1717 - 109ms/epoch - 109ms/step\n"
     ]
    },
    {
     "data": {
      "image/png": "[encoded data removed]",
      "text/plain": [
       "<Figure size 432x288 with 1 Axes>"
      ]
     },
     "metadata": {
      "needs_background": "light"
     },
     "output_type": "display_data"
    },
    {
     "name": "stdout",
     "output_type": "stream",
     "text": [
      "Epoch 1/50\n",
      "1/1 - 3s - loss: 1.3691 - accuracy: 0.4109 - auc_22: 0.6279 - precision_22: 0.0000e+00 - recall_22: 0.0000e+00 - f1_score: 0.1506 - val_loss: 1.2406 - val_accuracy: 0.5312 - val_auc_22: 0.7500 - val_precision_22: 0.5246 - val_recall_22: 0.5000 - val_f1_score: 0.1735 - 3s/epoch - 3s/step\n",
      "Epoch 2/50\n",
      "1/1 - 0s - loss: 1.3456 - accuracy: 0.4729 - auc_22: 0.7206 - precision_22: 0.4711 - recall_22: 0.4419 - f1_score: 0.1605 - val_loss: 1.1533 - val_accuracy: 0.5312 - val_auc_22: 0.7596 - val_precision_22: 0.6452 - val_recall_22: 0.3125 - val_f1_score: 0.1735 - 94ms/epoch - 94ms/step\n",
      "Epoch 3/50\n",
      "1/1 - 0s - loss: 1.2123 - accuracy: 0.4729 - auc_22: 0.7345 - precision_22: 0.6522 - recall_22: 0.2326 - f1_score: 0.1605 - val_loss: 1.1841 - val_accuracy: 0.5312 - val_auc_22: 0.7607 - val_precision_22: 0.0000e+00 - val_recall_22: 0.0000e+00 - val_f1_score: 0.1735 - 96ms/epoch - 96ms/step\n",
      "Epoch 4/50\n",
      "1/1 - 0s - loss: 1.2074 - accuracy: 0.4729 - auc_22: 0.7470 - precision_22: 0.0000e+00 - recall_22: 0.0000e+00 - f1_score: 0.1605 - val_loss: 1.1715 - val_accuracy: 0.5312 - val_auc_22: 0.7651 - val_precision_22: 0.0000e+00 - val_recall_22: 0.0000e+00 - val_f1_score: 0.1735 - 119ms/epoch - 119ms/step\n"
     ]
    },
    {
     "data": {
      "image/png": "[encoded data removed]",
      "text/plain": [
       "<Figure size 432x288 with 1 Axes>"
      ]
     },
     "metadata": {
      "needs_background": "light"
     },
     "output_type": "display_data"
    },
    {
     "name": "stdout",
     "output_type": "stream",
     "text": [
      "Epoch 1/50\n",
      "1/1 - 2s - loss: 1.3812 - accuracy: 0.2016 - auc_23: 0.5659 - precision_23: 0.0000e+00 - recall_23: 0.0000e+00 - f1_score: 0.1285 - val_loss: 1.3986 - val_accuracy: 0.4219 - val_auc_23: 0.6825 - val_precision_23: 0.4138 - val_recall_23: 0.3750 - val_f1_score: 0.1484 - 2s/epoch - 2s/step\n",
      "Epoch 2/50\n",
      "1/1 - 0s - loss: 1.2070 - accuracy: 0.5271 - auc_23: 0.7595 - precision_23: 0.5242 - recall_23: 0.5039 - f1_score: 0.1726 - val_loss: 1.3144 - val_accuracy: 0.4219 - val_auc_23: 0.6873 - val_precision_23: 0.4074 - val_recall_23: 0.3438 - val_f1_score: 0.1484 - 97ms/epoch - 97ms/step\n",
      "Epoch 3/50\n",
      "1/1 - 0s - loss: 1.1415 - accuracy: 0.5271 - auc_23: 0.7755 - precision_23: 0.5328 - recall_23: 0.5039 - f1_score: 0.1726 - val_loss: 1.2809 - val_accuracy: 0.4219 - val_auc_23: 0.6796 - val_precision_23: 0.5652 - val_recall_23: 0.2031 - val_f1_score: 0.1484 - 97ms/epoch - 97ms/step\n",
      "Epoch 4/50\n",
      "1/1 - 0s - loss: 1.1099 - accuracy: 0.5271 - auc_23: 0.7926 - precision_23: 0.7091 - recall_23: 0.3023 - f1_score: 0.1726 - val_loss: 1.3020 - val_accuracy: 0.4219 - val_auc_23: 0.6507 - val_precision_23: 0.5600 - val_recall_23: 0.2188 - val_f1_score: 0.1484 - 111ms/epoch - 111ms/step\n",
      "Epoch 5/50\n",
      "1/1 - 0s - loss: 1.0799 - accuracy: 0.5271 - auc_23: 0.8118 - precision_23: 0.6885 - recall_23: 0.3256 - f1_score: 0.1726 - val_loss: 1.3292 - val_accuracy: 0.4219 - val_auc_23: 0.6456 - val_precision_23: 0.5517 - val_recall_23: 0.2500 - val_f1_score: 0.1484 - 101ms/epoch - 101ms/step\n"
     ]
    },
    {
     "data": {
      "image/png": "[encoded data removed]",
      "text/plain": [
       "<Figure size 432x288 with 1 Axes>"
      ]
     },
     "metadata": {
      "needs_background": "light"
     },
     "output_type": "display_data"
    }
   ],
   "source": [
    "model2 = get_CNN(n_features, n_length, n_outputs, y_train.shape[1])\n",
    "for train_index, val_index in kf.split(X):\n",
    "    X_train, X_val = X[train_index], X[val_index]\n",
    "    y_train, y_val = y[train_index], y[val_index]\n",
    "    model2 = get_CNN(n_features, n_length, n_outputs, y_train.shape[1])\n",
    "    history = train(model2, X_train, y_train, X_val, y_val, epochs=epochs, batch_size=batch_size)\n",
    "    plt.plot(history.history['loss'])\n",
    "    plt.show()"
   ]
  },
  {
   "cell_type": "code",
   "execution_count": 35,
   "metadata": {},
   "outputs": [],
   "source": [
    "member2 = KerasMember(name=\"CNN+LSTM\", keras_model=model2,\n",
    "    train_batches=(X_train, y_train),\n",
    "    val_batches=(X_test, y_test))"
   ]
  },
  {
   "cell_type": "markdown",
   "metadata": {},
   "source": [
    "#### Train ConvLSTM"
   ]
  },
  {
   "cell_type": "code",
   "execution_count": 36,
   "metadata": {},
   "outputs": [
    {
     "name": "stdout",
     "output_type": "stream",
     "text": [
      "Epoch 1/50\n",
      "1/1 - 3s - loss: 1.3904 - accuracy: 0.1406 - auc_25: 0.4311 - precision_25: 0.0000e+00 - recall_25: 0.0000e+00 - f1_score: 0.1302 - val_loss: 1.1714 - val_accuracy: 0.5231 - val_auc_25: 0.7471 - val_precision_25: 0.7308 - val_recall_25: 0.2923 - val_f1_score: 0.1717 - 3s/epoch - 3s/step\n",
      "Epoch 2/50\n",
      "1/1 - 0s - loss: 1.1948 - accuracy: 0.4766 - auc_25: 0.7286 - precision_25: 0.5517 - recall_25: 0.2500 - f1_score: 0.1614 - val_loss: 1.2136 - val_accuracy: 0.5231 - val_auc_25: 0.7423 - val_precision_25: 0.7143 - val_recall_25: 0.3077 - val_f1_score: 0.1717 - 295ms/epoch - 295ms/step\n",
      "Epoch 3/50\n",
      "1/1 - 0s - loss: 1.1577 - accuracy: 0.4766 - auc_25: 0.7500 - precision_25: 0.5625 - recall_25: 0.2812 - f1_score: 0.1614 - val_loss: 1.2413 - val_accuracy: 0.5231 - val_auc_25: 0.7345 - val_precision_25: 0.7391 - val_recall_25: 0.2615 - val_f1_score: 0.1717 - 284ms/epoch - 284ms/step\n"
     ]
    },
    {
     "data": {
      "image/png": "[encoded data removed]",
      "text/plain": [
       "<Figure size 432x288 with 1 Axes>"
      ]
     },
     "metadata": {
      "needs_background": "light"
     },
     "output_type": "display_data"
    },
    {
     "name": "stdout",
     "output_type": "stream",
     "text": [
      "Epoch 1/50\n",
      "1/1 - 3s - loss: 1.3874 - accuracy: 0.2016 - auc_26: 0.4918 - precision_26: 0.0000e+00 - recall_26: 0.0000e+00 - f1_score: 0.1250 - val_loss: 1.1686 - val_accuracy: 0.5312 - val_auc_26: 0.7407 - val_precision_26: 0.5909 - val_recall_26: 0.4062 - val_f1_score: 0.1735 - 3s/epoch - 3s/step\n",
      "Epoch 2/50\n",
      "1/1 - 0s - loss: 1.2499 - accuracy: 0.4729 - auc_26: 0.7178 - precision_26: 0.5309 - recall_26: 0.3333 - f1_score: 0.1605 - val_loss: 1.1689 - val_accuracy: 0.5312 - val_auc_26: 0.7469 - val_precision_26: 0.5918 - val_recall_26: 0.4531 - val_f1_score: 0.1735 - 327ms/epoch - 327ms/step\n",
      "Epoch 3/50\n",
      "1/1 - 0s - loss: 1.2195 - accuracy: 0.4729 - auc_26: 0.7352 - precision_26: 0.5172 - recall_26: 0.3488 - f1_score: 0.1605 - val_loss: 1.1549 - val_accuracy: 0.5312 - val_auc_26: 0.7472 - val_precision_26: 0.5152 - val_recall_26: 0.2656 - val_f1_score: 0.1735 - 313ms/epoch - 313ms/step\n",
      "Epoch 4/50\n",
      "1/1 - 0s - loss: 1.1630 - accuracy: 0.4729 - auc_26: 0.7523 - precision_26: 0.6167 - recall_26: 0.2868 - f1_score: 0.1605 - val_loss: 1.1689 - val_accuracy: 0.5312 - val_auc_26: 0.7440 - val_precision_26: 0.6316 - val_recall_26: 0.1875 - val_f1_score: 0.1735 - 296ms/epoch - 296ms/step\n",
      "Epoch 5/50\n",
      "1/1 - 0s - loss: 1.1283 - accuracy: 0.4729 - auc_26: 0.7744 - precision_26: 0.6842 - recall_26: 0.2016 - f1_score: 0.1605 - val_loss: 1.1924 - val_accuracy: 0.5156 - val_auc_26: 0.7299 - val_precision_26: 0.5625 - val_recall_26: 0.1406 - val_f1_score: 0.1701 - 304ms/epoch - 304ms/step\n"
     ]
    },
    {
     "data": {
      "image/png": "[encoded data removed]",
      "text/plain": [
       "<Figure size 432x288 with 1 Axes>"
      ]
     },
     "metadata": {
      "needs_background": "light"
     },
     "output_type": "display_data"
    },
    {
     "name": "stdout",
     "output_type": "stream",
     "text": [
      "Epoch 1/50\n",
      "1/1 - 4s - loss: 1.3760 - accuracy: 0.2093 - auc_27: 0.5616 - precision_27: 0.0000e+00 - recall_27: 0.0000e+00 - f1_score: 0.1597 - val_loss: 1.3469 - val_accuracy: 0.4219 - val_auc_27: 0.6751 - val_precision_27: 0.4545 - val_recall_27: 0.3125 - val_f1_score: 0.1484 - 4s/epoch - 4s/step\n",
      "Epoch 2/50\n",
      "1/1 - 0s - loss: 1.1719 - accuracy: 0.5271 - auc_27: 0.7572 - precision_27: 0.5755 - recall_27: 0.4729 - f1_score: 0.1726 - val_loss: 1.3373 - val_accuracy: 0.4219 - val_auc_27: 0.6824 - val_precision_27: 0.4545 - val_recall_27: 0.3125 - val_f1_score: 0.1484 - 474ms/epoch - 474ms/step\n",
      "Epoch 3/50\n",
      "1/1 - 0s - loss: 1.1362 - accuracy: 0.5271 - auc_27: 0.7728 - precision_27: 0.5769 - recall_27: 0.4651 - f1_score: 0.1726 - val_loss: 1.3107 - val_accuracy: 0.4219 - val_auc_27: 0.6798 - val_precision_27: 0.4865 - val_recall_27: 0.2812 - val_f1_score: 0.1484 - 388ms/epoch - 388ms/step\n",
      "Epoch 4/50\n",
      "1/1 - 0s - loss: 1.1010 - accuracy: 0.5271 - auc_27: 0.7892 - precision_27: 0.6437 - recall_27: 0.4341 - f1_score: 0.1726 - val_loss: 1.3027 - val_accuracy: 0.4219 - val_auc_27: 0.6661 - val_precision_27: 0.4706 - val_recall_27: 0.2500 - val_f1_score: 0.1484 - 327ms/epoch - 327ms/step\n",
      "Epoch 5/50\n",
      "1/1 - 0s - loss: 1.0705 - accuracy: 0.5271 - auc_27: 0.8091 - precision_27: 0.6622 - recall_27: 0.3798 - f1_score: 0.1726 - val_loss: 1.3034 - val_accuracy: 0.4219 - val_auc_27: 0.6560 - val_precision_27: 0.5161 - val_recall_27: 0.2500 - val_f1_score: 0.1484 - 288ms/epoch - 288ms/step\n",
      "Epoch 6/50\n",
      "1/1 - 0s - loss: 1.0400 - accuracy: 0.5271 - auc_27: 0.8196 - precision_27: 0.6761 - recall_27: 0.3721 - f1_score: 0.1726 - val_loss: 1.3095 - val_accuracy: 0.4219 - val_auc_27: 0.6473 - val_precision_27: 0.5333 - val_recall_27: 0.2500 - val_f1_score: 0.1484 - 271ms/epoch - 271ms/step\n"
     ]
    },
    {
     "data": {
      "image/png": "[encoded data removed]",
      "text/plain": [
       "<Figure size 432x288 with 1 Axes>"
      ]
     },
     "metadata": {
      "needs_background": "light"
     },
     "output_type": "display_data"
    }
   ],
   "source": [
    "model3 = build_convLSTM(n_features, n_length, n_outputs, y_train.shape[1])\n",
    "for train_index, val_index in kf.split(X):\n",
    "    X_train, X_val = X[train_index], X[val_index]\n",
    "    y_train, y_val = y[train_index], y[val_index]\n",
    "    model3 = build_convLSTM(n_features, n_length, n_outputs, y_train.shape[1])\n",
    "    history = train(model3, X_train, y_train, X_val, y_val, epochs=epochs, batch_size=batch_size)\n",
    "    plt.plot(history.history['loss'])\n",
    "    plt.show()"
   ]
  },
  {
   "cell_type": "code",
   "execution_count": 37,
   "metadata": {},
   "outputs": [],
   "source": [
    "member3 = KerasMember(name=\"ConvLSTM\", keras_model=model3,\n",
    "    train_batches=(X_train, y_train),\n",
    "    val_batches=(X_test, y_test))"
   ]
  },
  {
   "cell_type": "markdown",
   "metadata": {},
   "source": [
    "#### Train RCNN"
   ]
  },
  {
   "cell_type": "code",
   "execution_count": 38,
   "metadata": {},
   "outputs": [
    {
     "name": "stdout",
     "output_type": "stream",
     "text": [
      "Epoch 1/50\n",
      "1/1 - 2s - loss: 2.3594 - accuracy: 0.2188 - auc_29: 0.4617 - precision_29: 0.2179 - recall_29: 0.1328 - f1_score: 0.1643 - val_loss: 6.1660 - val_accuracy: 0.5231 - val_auc_29: 0.6853 - val_precision_29: 0.5312 - val_recall_29: 0.5231 - val_f1_score: 0.1717 - 2s/epoch - 2s/step\n",
      "Epoch 2/50\n",
      "1/1 - 0s - loss: 39.6612 - accuracy: 0.4766 - auc_29: 0.6510 - precision_29: 0.4766 - recall_29: 0.4766 - f1_score: 0.1614 - val_loss: 4.6559 - val_accuracy: 0.5231 - val_auc_29: 0.7218 - val_precision_29: 0.5312 - val_recall_29: 0.5231 - val_f1_score: 0.1717 - 381ms/epoch - 381ms/step\n",
      "Epoch 3/50\n",
      "1/1 - 0s - loss: 25.4007 - accuracy: 0.4766 - auc_29: 0.6510 - precision_29: 0.4766 - recall_29: 0.4766 - f1_score: 0.1614 - val_loss: 2.4261 - val_accuracy: 0.5231 - val_auc_29: 0.7066 - val_precision_29: 0.5312 - val_recall_29: 0.5231 - val_f1_score: 0.1717 - 350ms/epoch - 350ms/step\n",
      "Epoch 4/50\n",
      "1/1 - 0s - loss: 8.9108 - accuracy: 0.5625 - auc_29: 0.7068 - precision_29: 0.5625 - recall_29: 0.5625 - f1_score: 0.4407 - val_loss: 2.1261 - val_accuracy: 0.1692 - val_auc_29: 0.4914 - val_precision_29: 0.1538 - val_recall_29: 0.0923 - val_f1_score: 0.0922 - 338ms/epoch - 338ms/step\n",
      "Epoch 5/50\n",
      "1/1 - 0s - loss: 5.1834 - accuracy: 0.3828 - auc_29: 0.6384 - precision_29: 0.3828 - recall_29: 0.3828 - f1_score: 0.3852 - val_loss: 1.7988 - val_accuracy: 0.1385 - val_auc_29: 0.4392 - val_precision_29: 0.0645 - val_recall_29: 0.0308 - val_f1_score: 0.0652 - 365ms/epoch - 365ms/step\n",
      "Epoch 6/50\n",
      "1/1 - 0s - loss: 3.6972 - accuracy: 0.4062 - auc_29: 0.6546 - precision_29: 0.4127 - recall_29: 0.4062 - f1_score: 0.4032 - val_loss: 1.5393 - val_accuracy: 0.2615 - val_auc_29: 0.5011 - val_precision_29: 0.1538 - val_recall_29: 0.0308 - val_f1_score: 0.1926 - 350ms/epoch - 350ms/step\n",
      "Epoch 7/50\n",
      "1/1 - 0s - loss: 3.8862 - accuracy: 0.4453 - auc_29: 0.6986 - precision_29: 0.4444 - recall_29: 0.4375 - f1_score: 0.4630 - val_loss: 1.5084 - val_accuracy: 0.2154 - val_auc_29: 0.5755 - val_precision_29: 0.2222 - val_recall_29: 0.0923 - val_f1_score: 0.1447 - 403ms/epoch - 403ms/step\n",
      "Epoch 8/50\n",
      "1/1 - 0s - loss: 3.8767 - accuracy: 0.4453 - auc_29: 0.7112 - precision_29: 0.4453 - recall_29: 0.4453 - f1_score: 0.4061 - val_loss: 1.3489 - val_accuracy: 0.2615 - val_auc_29: 0.6480 - val_precision_29: 0.2941 - val_recall_29: 0.0769 - val_f1_score: 0.2013 - 327ms/epoch - 327ms/step\n",
      "Epoch 9/50\n",
      "1/1 - 0s - loss: 2.2599 - accuracy: 0.5000 - auc_29: 0.8025 - precision_29: 0.5079 - recall_29: 0.5000 - f1_score: 0.4496 - val_loss: 1.2267 - val_accuracy: 0.4769 - val_auc_29: 0.7329 - val_precision_29: 0.6400 - val_recall_29: 0.2462 - val_f1_score: 0.1898 - 313ms/epoch - 313ms/step\n",
      "Epoch 10/50\n",
      "1/1 - 0s - loss: 0.9556 - accuracy: 0.6953 - auc_29: 0.9059 - precision_29: 0.7333 - recall_29: 0.6875 - f1_score: 0.6346 - val_loss: 1.2364 - val_accuracy: 0.5077 - val_auc_29: 0.7498 - val_precision_29: 0.6486 - val_recall_29: 0.3692 - val_f1_score: 0.1719 - 325ms/epoch - 325ms/step\n",
      "Epoch 11/50\n",
      "1/1 - 0s - loss: 0.7474 - accuracy: 0.7656 - auc_29: 0.9369 - precision_29: 0.8051 - recall_29: 0.7422 - f1_score: 0.7345 - val_loss: 1.2883 - val_accuracy: 0.5231 - val_auc_29: 0.7536 - val_precision_29: 0.6364 - val_recall_29: 0.4308 - val_f1_score: 0.1735 - 368ms/epoch - 368ms/step\n"
     ]
    },
    {
     "data": {
      "image/png": "[encoded data removed]",
      "text/plain": [
       "<Figure size 432x288 with 1 Axes>"
      ]
     },
     "metadata": {
      "needs_background": "light"
     },
     "output_type": "display_data"
    },
    {
     "name": "stdout",
     "output_type": "stream",
     "text": [
      "Epoch 1/50\n",
      "1/1 - 2s - loss: 1.9252 - accuracy: 0.2326 - auc_30: 0.5322 - precision_30: 0.1923 - recall_30: 0.1163 - f1_score: 0.2110 - val_loss: 4.5503 - val_accuracy: 0.5312 - val_auc_30: 0.7152 - val_precision_30: 0.5312 - val_recall_30: 0.5312 - val_f1_score: 0.1735 - 2s/epoch - 2s/step\n",
      "Epoch 2/50\n",
      "1/1 - 0s - loss: 15.1824 - accuracy: 0.4651 - auc_30: 0.6552 - precision_30: 0.4651 - recall_30: 0.4651 - f1_score: 0.1786 - val_loss: 2.1965 - val_accuracy: 0.4688 - val_auc_30: 0.7192 - val_precision_30: 0.4746 - val_recall_30: 0.4375 - val_f1_score: 0.2488 - 366ms/epoch - 366ms/step\n",
      "Epoch 3/50\n",
      "1/1 - 0s - loss: 9.1893 - accuracy: 0.3643 - auc_30: 0.6045 - precision_30: 0.3622 - recall_30: 0.3566 - f1_score: 0.2953 - val_loss: 2.2843 - val_accuracy: 0.4688 - val_auc_30: 0.7342 - val_precision_30: 0.4688 - val_recall_30: 0.4688 - val_f1_score: 0.2129 - 344ms/epoch - 344ms/step\n",
      "Epoch 4/50\n",
      "1/1 - 0s - loss: 7.8726 - accuracy: 0.4496 - auc_30: 0.6923 - precision_30: 0.4531 - recall_30: 0.4496 - f1_score: 0.3593 - val_loss: 2.8555 - val_accuracy: 0.5312 - val_auc_30: 0.7276 - val_precision_30: 0.5312 - val_recall_30: 0.5312 - val_f1_score: 0.2015 - 315ms/epoch - 315ms/step\n"
     ]
    },
    {
     "data": {
      "image/png": "[encoded data removed]",
      "text/plain": [
       "<Figure size 432x288 with 1 Axes>"
      ]
     },
     "metadata": {
      "needs_background": "light"
     },
     "output_type": "display_data"
    },
    {
     "name": "stdout",
     "output_type": "stream",
     "text": [
      "Epoch 1/50\n",
      "1/1 - 2s - loss: 2.0602 - accuracy: 0.3798 - auc_31: 0.6100 - precision_31: 0.4205 - recall_31: 0.2868 - f1_score: 0.1572 - val_loss: 7.2537 - val_accuracy: 0.3125 - val_auc_31: 0.5213 - val_precision_31: 0.3226 - val_recall_31: 0.3125 - val_f1_score: 0.1190 - 2s/epoch - 2s/step\n",
      "Epoch 2/50\n",
      "1/1 - 0s - loss: 34.8177 - accuracy: 0.2326 - auc_31: 0.5017 - precision_31: 0.2326 - recall_31: 0.2326 - f1_score: 0.1444 - val_loss: 2.5707 - val_accuracy: 0.2812 - val_auc_31: 0.5595 - val_precision_31: 0.2642 - val_recall_31: 0.2188 - val_f1_score: 0.1405 - 340ms/epoch - 340ms/step\n",
      "Epoch 3/50\n",
      "1/1 - 0s - loss: 10.7570 - accuracy: 0.4109 - auc_31: 0.6460 - precision_31: 0.4062 - recall_31: 0.4031 - f1_score: 0.3235 - val_loss: 2.8555 - val_accuracy: 0.3906 - val_auc_31: 0.6368 - val_precision_31: 0.4000 - val_recall_31: 0.3750 - val_f1_score: 0.1437 - 327ms/epoch - 327ms/step\n",
      "Epoch 4/50\n",
      "1/1 - 0s - loss: 6.3902 - accuracy: 0.6124 - auc_31: 0.7808 - precision_31: 0.6124 - recall_31: 0.6124 - f1_score: 0.3742 - val_loss: 3.6167 - val_accuracy: 0.3906 - val_auc_31: 0.6225 - val_precision_31: 0.3934 - val_recall_31: 0.3750 - val_f1_score: 0.1404 - 321ms/epoch - 321ms/step\n"
     ]
    },
    {
     "data": {
      "image/png": "[encoded data removed]",
      "text/plain": [
       "<Figure size 432x288 with 1 Axes>"
      ]
     },
     "metadata": {
      "needs_background": "light"
     },
     "output_type": "display_data"
    }
   ],
   "source": [
    "model4 = build_RCNN(n_features, n_length, n_outputs, y_train.shape[1])\n",
    "for train_index, val_index in kf.split(X):\n",
    "    X_train, X_val = X[train_index], X[val_index]\n",
    "    y_train, y_val = y[train_index], y[val_index]\n",
    "    model4 = build_RCNN(n_features, n_length, n_outputs, y_train.shape[1])\n",
    "    history = train(model4, X_train, y_train, X_val, y_val, epochs=epochs, batch_size=batch_size)\n",
    "    plt.plot(history.history['loss'])\n",
    "    plt.show()"
   ]
  },
  {
   "cell_type": "code",
   "execution_count": 39,
   "metadata": {},
   "outputs": [],
   "source": [
    "member4 = KerasMember(name=\"RCNN\", keras_model=model4,\n",
    "    train_batches=(X_train, y_train),\n",
    "    val_batches=(X_test, y_test))"
   ]
  },
  {
   "cell_type": "markdown",
   "metadata": {},
   "source": [
    "#### Stacking Ensemble"
   ]
  },
  {
   "cell_type": "code",
   "execution_count": 40,
   "metadata": {},
   "outputs": [],
   "source": [
    "stack = StackEnsemble()\n",
    "stack.add_member(member1)\n",
    "stack.add_member(member2)\n",
    "stack.add_member(member3)\n",
    "stack.add_member(member4)"
   ]
  },
  {
   "cell_type": "code",
   "execution_count": 41,
   "metadata": {},
   "outputs": [
    {
     "data": {
      "text/plain": [
       "RandomForestClassifier(max_depth=4, n_jobs=20)"
      ]
     },
     "execution_count": 41,
     "metadata": {},
     "output_type": "execute_result"
    }
   ],
   "source": [
    "stack.fit()"
   ]
  },
  {
   "cell_type": "code",
   "execution_count": 42,
   "metadata": {},
   "outputs": [
    {
     "name": "stdout",
     "output_type": "stream",
     "text": [
      "BiLSTM - ROC/AUC: 0.50, Accuracy: 26.19%, Precision: 0.07, Recall: 0.25, F1 score: 0.10 \n",
      "\n",
      "CNN+LSTM - ROC/AUC: 0.51, Accuracy: 26.19%, Precision: 0.07, Recall: 0.25, F1 score: 0.10 \n",
      "\n",
      "ConvLSTM - ROC/AUC: 0.54, Accuracy: 26.19%, Precision: 0.07, Recall: 0.25, F1 score: 0.10 \n",
      "\n",
      "RCNN - ROC/AUC: 0.52, Accuracy: 26.19%, Precision: 0.07, Recall: 0.25, F1 score: 0.10 \n",
      "\n",
      "StackEnsemble - ROC/AUC: 0.47, Accuracy: 23.81%, Precision: 0.15, Recall: 0.24, F1 score: 0.15\n"
     ]
    }
   ],
   "source": [
    "stack_score = stack.describe()"
   ]
  },
  {
   "cell_type": "markdown",
   "metadata": {},
   "source": [
    "#### Dirichlet Markov Ensemble"
   ]
  },
  {
   "cell_type": "code",
   "execution_count": 43,
   "metadata": {},
   "outputs": [],
   "source": [
    "dirichletEnsemble = DirichletEnsemble(N=2000 * 4)\n",
    "dirichletEnsemble.add_member(member1)\n",
    "dirichletEnsemble.add_member(member2)\n",
    "dirichletEnsemble.add_member(member3)\n",
    "dirichletEnsemble.add_member(member4)"
   ]
  },
  {
   "cell_type": "code",
   "execution_count": 44,
   "metadata": {},
   "outputs": [],
   "source": [
    "dirichletEnsemble.fit()"
   ]
  },
  {
   "cell_type": "code",
   "execution_count": 45,
   "metadata": {},
   "outputs": [
    {
     "name": "stdout",
     "output_type": "stream",
     "text": [
      "BiLSTM (weight: 0.0027) - ROC/AUC: 0.50, Accuracy: 26.19%, Precision: 0.07, Recall: 0.25, F1 score: 0.10 \n",
      "\n",
      "CNN+LSTM (weight: 0.0999) - ROC/AUC: 0.51, Accuracy: 26.19%, Precision: 0.07, Recall: 0.25, F1 score: 0.10 \n",
      "\n",
      "ConvLSTM (weight: 0.8853) - ROC/AUC: 0.54, Accuracy: 26.19%, Precision: 0.07, Recall: 0.25, F1 score: 0.10 \n",
      "\n",
      "RCNN (weight: 0.0121) - ROC/AUC: 0.52, Accuracy: 26.19%, Precision: 0.07, Recall: 0.25, F1 score: 0.10 \n",
      "\n",
      "DirichletEnsemble - ROC/AUC: 0.54, Accuracy: 26.19%, Precision: 0.07, Recall: 0.25, F1 score: 0.10\n"
     ]
    }
   ],
   "source": [
    "dirichletEnsemble.describe()"
   ]
  },
  {
   "cell_type": "markdown",
   "metadata": {},
   "source": [
    "## 2. Early Fusion - Fusion is performed at feature level\n",
    "\n",
    "Early fusion concatenates features at the input level, then all the work is on the classifier. \n",
    "\n",
    "My initial assumption is that perhaps early fusion is not a good idea because face modality is missing about half the times? I did replace the missing values with zeros so all samples have the same number of features, but in this case zero means the absence of action units which I'm afraid might actually \"trick\" the model in the case where a person has pain (but facial features was just not available because OpenFace couldn't record them from the video input)."
   ]
  },
  {
   "cell_type": "code",
   "execution_count": 46,
   "metadata": {},
   "outputs": [
    {
     "name": "stdout",
     "output_type": "stream",
     "text": [
      "(525, 1, 350, 48) (525, 5)\n",
      "(90, 1, 350, 48) (90, 5)\n"
     ]
    }
   ],
   "source": [
    "X_train, X_test, y_train, y_test = apply_early_fusion('processed')\n",
    "X = X_train.copy()\n",
    "y = y_train.copy()\n",
    "\n",
    "print(X_train.shape, y_train.shape)\n",
    "print(X_test.shape, y_test.shape)\n",
    "\n",
    "n_length, n_features, n_outputs = X_train.shape[2], X_train.shape[-1], y_train.shape[1]"
   ]
  },
  {
   "cell_type": "markdown",
   "metadata": {},
   "source": [
    "### Train BiLSTM (with early fusion)"
   ]
  },
  {
   "cell_type": "code",
   "execution_count": 47,
   "metadata": {},
   "outputs": [
    {
     "name": "stdout",
     "output_type": "stream",
     "text": [
      "Epoch 1/50\n",
      "2/2 - 8s - loss: 204.1131 - accuracy: 0.1714 - auc_33: 0.4854 - precision_33: 0.1714 - recall_33: 0.1714 - f1_score: 0.1088 - val_loss: 257.6991 - val_accuracy: 0.1429 - val_auc_33: 0.4605 - val_precision_33: 0.1429 - val_recall_33: 0.1429 - val_f1_score: 0.0775 - 8s/epoch - 4s/step\n",
      "Epoch 2/50\n",
      "2/2 - 2s - loss: 302.4464 - accuracy: 0.1571 - auc_33: 0.4770 - precision_33: 0.1571 - recall_33: 0.1571 - f1_score: 0.1014 - val_loss: 277.6529 - val_accuracy: 0.2000 - val_auc_33: 0.4980 - val_precision_33: 0.2000 - val_recall_33: 0.2000 - val_f1_score: 0.0891 - 2s/epoch - 1s/step\n",
      "Epoch 3/50\n",
      "2/2 - 2s - loss: 274.7914 - accuracy: 0.2943 - auc_33: 0.5605 - precision_33: 0.2943 - recall_33: 0.2943 - f1_score: 0.1455 - val_loss: 241.6482 - val_accuracy: 0.3943 - val_auc_33: 0.6214 - val_precision_33: 0.3943 - val_recall_33: 0.3943 - val_f1_score: 0.1131 - 2s/epoch - 1s/step\n",
      "Epoch 4/50\n",
      "2/2 - 2s - loss: 169.8475 - accuracy: 0.4543 - auc_33: 0.6585 - precision_33: 0.4543 - recall_33: 0.4543 - f1_score: 0.1286 - val_loss: 51.3999 - val_accuracy: 0.2857 - val_auc_33: 0.5587 - val_precision_33: 0.2857 - val_recall_33: 0.2857 - val_f1_score: 0.1053 - 2s/epoch - 1s/step\n",
      "Epoch 5/50\n",
      "2/2 - 3s - loss: 42.4927 - accuracy: 0.3143 - auc_33: 0.5747 - precision_33: 0.3143 - recall_33: 0.3143 - f1_score: 0.1247 - val_loss: 19.5084 - val_accuracy: 0.3200 - val_auc_33: 0.5723 - val_precision_33: 0.3200 - val_recall_33: 0.3200 - val_f1_score: 0.1222 - 3s/epoch - 1s/step\n",
      "Epoch 6/50\n",
      "2/2 - 2s - loss: 15.7812 - accuracy: 0.3000 - auc_33: 0.5858 - precision_33: 0.3000 - recall_33: 0.3000 - f1_score: 0.1564 - val_loss: 4.0995 - val_accuracy: 0.2457 - val_auc_33: 0.6543 - val_precision_33: 0.2715 - val_recall_33: 0.2343 - val_f1_score: 0.1473 - 2s/epoch - 1s/step\n",
      "Epoch 7/50\n",
      "2/2 - 2s - loss: 4.1987 - accuracy: 0.2229 - auc_33: 0.6473 - precision_33: 0.2000 - recall_33: 0.1429 - f1_score: 0.1258 - val_loss: 1.4760 - val_accuracy: 0.3200 - val_auc_33: 0.6822 - val_precision_33: 0.5714 - val_recall_33: 0.0686 - val_f1_score: 0.2003 - 2s/epoch - 1s/step\n",
      "Epoch 8/50\n",
      "2/2 - 2s - loss: 1.9581 - accuracy: 0.2971 - auc_33: 0.6523 - precision_33: 0.4561 - recall_33: 0.0743 - f1_score: 0.1733 - val_loss: 1.5943 - val_accuracy: 0.3886 - val_auc_33: 0.6518 - val_precision_33: 0.4545 - val_recall_33: 0.0286 - val_f1_score: 0.1449 - 2s/epoch - 1s/step\n",
      "Epoch 9/50\n",
      "2/2 - 2s - loss: 1.6827 - accuracy: 0.4229 - auc_33: 0.6432 - precision_33: 0.7143 - recall_33: 0.0286 - f1_score: 0.1542 - val_loss: 1.6434 - val_accuracy: 0.3886 - val_auc_33: 0.6358 - val_precision_33: 0.3750 - val_recall_33: 0.0171 - val_f1_score: 0.1241 - 2s/epoch - 1s/step\n"
     ]
    },
    {
     "data": {
      "image/png": "[encoded data removed]",
      "text/plain": [
       "<Figure size 432x288 with 1 Axes>"
      ]
     },
     "metadata": {
      "needs_background": "light"
     },
     "output_type": "display_data"
    },
    {
     "name": "stdout",
     "output_type": "stream",
     "text": [
      "Epoch 1/50\n",
      "2/2 - 7s - loss: 150.0208 - accuracy: 0.1829 - auc_34: 0.4879 - precision_34: 0.1829 - recall_34: 0.1829 - f1_score: 0.0975 - val_loss: 769.0557 - val_accuracy: 0.3371 - val_auc_34: 0.5857 - val_precision_34: 0.3371 - val_recall_34: 0.3371 - val_f1_score: 0.1009 - 7s/epoch - 4s/step\n",
      "Epoch 2/50\n",
      "2/2 - 2s - loss: 702.7617 - accuracy: 0.2771 - auc_34: 0.5494 - precision_34: 0.2771 - recall_34: 0.2771 - f1_score: 0.1141 - val_loss: 270.5668 - val_accuracy: 0.1543 - val_auc_34: 0.4714 - val_precision_34: 0.1543 - val_recall_34: 0.1543 - val_f1_score: 0.0535 - 2s/epoch - 1s/step\n",
      "Epoch 3/50\n",
      "2/2 - 3s - loss: 253.9295 - accuracy: 0.2400 - auc_34: 0.5245 - precision_34: 0.2400 - recall_34: 0.2400 - f1_score: 0.1129 - val_loss: 132.2313 - val_accuracy: 0.3257 - val_auc_34: 0.5824 - val_precision_34: 0.3257 - val_recall_34: 0.3257 - val_f1_score: 0.1523 - 3s/epoch - 2s/step\n",
      "Epoch 4/50\n",
      "2/2 - 3s - loss: 108.2362 - accuracy: 0.3400 - auc_34: 0.5868 - precision_34: 0.3400 - recall_34: 0.3400 - f1_score: 0.1501 - val_loss: 35.6546 - val_accuracy: 0.4286 - val_auc_34: 0.6455 - val_precision_34: 0.4286 - val_recall_34: 0.4286 - val_f1_score: 0.1205 - 3s/epoch - 1s/step\n",
      "Epoch 5/50\n",
      "2/2 - 3s - loss: 30.2512 - accuracy: 0.4143 - auc_34: 0.6367 - precision_34: 0.4143 - recall_34: 0.4143 - f1_score: 0.1724 - val_loss: 12.5746 - val_accuracy: 0.3771 - val_auc_34: 0.6147 - val_precision_34: 0.3793 - val_recall_34: 0.3771 - val_f1_score: 0.1715 - 3s/epoch - 1s/step\n",
      "Epoch 6/50\n",
      "2/2 - 2s - loss: 12.9596 - accuracy: 0.2857 - auc_34: 0.5526 - precision_34: 0.2765 - recall_34: 0.2686 - f1_score: 0.1510 - val_loss: 2.4482 - val_accuracy: 0.2914 - val_auc_34: 0.5783 - val_precision_34: 0.3000 - val_recall_34: 0.1886 - val_f1_score: 0.1943 - 2s/epoch - 1s/step\n",
      "Epoch 7/50\n",
      "2/2 - 2s - loss: 2.5421 - accuracy: 0.2771 - auc_34: 0.5425 - precision_34: 0.3032 - recall_34: 0.1629 - f1_score: 0.1947 - val_loss: 1.9641 - val_accuracy: 0.2571 - val_auc_34: 0.5949 - val_precision_34: 0.5517 - val_recall_34: 0.0914 - val_f1_score: 0.1440 - 2s/epoch - 1s/step\n",
      "Epoch 8/50\n",
      "2/2 - 2s - loss: 1.8887 - accuracy: 0.2743 - auc_34: 0.6270 - precision_34: 0.5385 - recall_34: 0.0600 - f1_score: 0.1686 - val_loss: 1.7712 - val_accuracy: 0.4229 - val_auc_34: 0.5724 - val_precision_34: 0.5500 - val_recall_34: 0.0629 - val_f1_score: 0.1978 - 2s/epoch - 1s/step\n",
      "Epoch 9/50\n",
      "2/2 - 2s - loss: 1.7474 - accuracy: 0.4457 - auc_34: 0.5748 - precision_34: 0.7000 - recall_34: 0.0400 - f1_score: 0.1805 - val_loss: 1.6737 - val_accuracy: 0.4286 - val_auc_34: 0.5478 - val_precision_34: 0.5385 - val_recall_34: 0.0400 - val_f1_score: 0.1778 - 2s/epoch - 1s/step\n",
      "Epoch 10/50\n",
      "2/2 - 2s - loss: 1.6782 - accuracy: 0.4400 - auc_34: 0.5434 - precision_34: 0.6000 - recall_34: 0.0257 - f1_score: 0.1608 - val_loss: 1.5781 - val_accuracy: 0.4229 - val_auc_34: 0.6441 - val_precision_34: 0.7778 - val_recall_34: 0.0400 - val_f1_score: 0.1638 - 2s/epoch - 1s/step\n",
      "Epoch 11/50\n",
      "2/2 - 3s - loss: 1.6096 - accuracy: 0.4457 - auc_34: 0.6576 - precision_34: 0.7273 - recall_34: 0.0229 - f1_score: 0.1624 - val_loss: 1.5447 - val_accuracy: 0.4343 - val_auc_34: 0.6545 - val_precision_34: 0.8000 - val_recall_34: 0.0457 - val_f1_score: 0.1670 - 3s/epoch - 1s/step\n",
      "Epoch 12/50\n",
      "2/2 - 2s - loss: 1.6275 - accuracy: 0.4371 - auc_34: 0.6469 - precision_34: 0.6250 - recall_34: 0.0143 - f1_score: 0.1433 - val_loss: 1.5499 - val_accuracy: 0.4343 - val_auc_34: 0.6638 - val_precision_34: 0.7500 - val_recall_34: 0.0343 - val_f1_score: 0.1670 - 2s/epoch - 1s/step\n",
      "Epoch 13/50\n",
      "2/2 - 2s - loss: 1.6323 - accuracy: 0.4343 - auc_34: 0.6484 - precision_34: 0.6250 - recall_34: 0.0143 - f1_score: 0.1376 - val_loss: 1.5555 - val_accuracy: 0.4343 - val_auc_34: 0.6632 - val_precision_34: 0.7500 - val_recall_34: 0.0343 - val_f1_score: 0.1670 - 2s/epoch - 1s/step\n"
     ]
    },
    {
     "data": {
      "image/png": "[encoded data removed]",
      "text/plain": [
       "<Figure size 432x288 with 1 Axes>"
      ]
     },
     "metadata": {
      "needs_background": "light"
     },
     "output_type": "display_data"
    },
    {
     "name": "stdout",
     "output_type": "stream",
     "text": [
      "Epoch 1/50\n",
      "2/2 - 8s - loss: 336.8055 - accuracy: 0.1971 - auc_35: 0.4973 - precision_35: 0.1994 - recall_35: 0.1971 - f1_score: 0.1370 - val_loss: 1407.8546 - val_accuracy: 0.2343 - val_auc_35: 0.5214 - val_precision_35: 0.2343 - val_recall_35: 0.2343 - val_f1_score: 0.0759 - 8s/epoch - 4s/step\n",
      "Epoch 2/50\n",
      "2/2 - 2s - loss: 1123.5372 - accuracy: 0.3200 - auc_35: 0.5750 - precision_35: 0.3200 - recall_35: 0.3200 - f1_score: 0.0970 - val_loss: 305.6231 - val_accuracy: 0.2343 - val_auc_35: 0.5210 - val_precision_35: 0.2343 - val_recall_35: 0.2343 - val_f1_score: 0.0763 - 2s/epoch - 1s/step\n",
      "Epoch 3/50\n",
      "2/2 - 2s - loss: 292.5045 - accuracy: 0.3400 - auc_35: 0.5883 - precision_35: 0.3400 - recall_35: 0.3400 - f1_score: 0.1540 - val_loss: 234.8793 - val_accuracy: 0.4743 - val_auc_35: 0.6714 - val_precision_35: 0.4743 - val_recall_35: 0.4743 - val_f1_score: 0.1287 - 2s/epoch - 1s/step\n",
      "Epoch 4/50\n",
      "2/2 - 3s - loss: 238.8202 - accuracy: 0.4114 - auc_35: 0.6321 - precision_35: 0.4114 - recall_35: 0.4114 - f1_score: 0.1166 - val_loss: 83.1139 - val_accuracy: 0.4743 - val_auc_35: 0.6714 - val_precision_35: 0.4743 - val_recall_35: 0.4743 - val_f1_score: 0.1287 - 3s/epoch - 1s/step\n",
      "Epoch 5/50\n",
      "2/2 - 2s - loss: 86.3076 - accuracy: 0.4114 - auc_35: 0.6321 - precision_35: 0.4114 - recall_35: 0.4114 - f1_score: 0.1168 - val_loss: 23.2866 - val_accuracy: 0.4686 - val_auc_35: 0.6637 - val_precision_35: 0.4686 - val_recall_35: 0.4686 - val_f1_score: 0.1286 - 2s/epoch - 1s/step\n",
      "Epoch 6/50\n",
      "2/2 - 2s - loss: 24.1426 - accuracy: 0.3171 - auc_35: 0.5776 - precision_35: 0.3171 - recall_35: 0.3171 - f1_score: 0.1161 - val_loss: 10.2756 - val_accuracy: 0.0171 - val_auc_35: 0.4076 - val_precision_35: 0.0172 - val_recall_35: 0.0171 - val_f1_score: 0.0156 - 2s/epoch - 1s/step\n",
      "Epoch 7/50\n",
      "2/2 - 2s - loss: 8.9293 - accuracy: 0.0314 - auc_35: 0.4092 - precision_35: 0.0324 - recall_35: 0.0314 - f1_score: 0.0253 - val_loss: 3.5604 - val_accuracy: 0.0800 - val_auc_35: 0.3954 - val_precision_35: 0.0430 - val_recall_35: 0.0229 - val_f1_score: 0.0985 - 2s/epoch - 1s/step\n",
      "Epoch 8/50\n",
      "2/2 - 2s - loss: 3.3290 - accuracy: 0.1286 - auc_35: 0.4198 - precision_35: 0.0994 - recall_35: 0.0457 - f1_score: 0.1502 - val_loss: 2.2620 - val_accuracy: 0.2114 - val_auc_35: 0.4304 - val_precision_35: 0.2308 - val_recall_35: 0.0171 - val_f1_score: 0.1570 - 2s/epoch - 1s/step\n",
      "Epoch 9/50\n",
      "2/2 - 2s - loss: 2.1291 - accuracy: 0.2000 - auc_35: 0.4726 - precision_35: 0.3778 - recall_35: 0.0486 - f1_score: 0.1349 - val_loss: 1.8729 - val_accuracy: 0.2114 - val_auc_35: 0.4950 - val_precision_35: 0.2727 - val_recall_35: 0.0171 - val_f1_score: 0.1045 - 2s/epoch - 1s/step\n",
      "Epoch 10/50\n",
      "2/2 - 2s - loss: 1.7869 - accuracy: 0.2257 - auc_35: 0.5213 - precision_35: 0.5161 - recall_35: 0.0457 - f1_score: 0.1387 - val_loss: 1.6666 - val_accuracy: 0.2171 - val_auc_35: 0.4968 - val_precision_35: 0.3000 - val_recall_35: 0.0171 - val_f1_score: 0.0918 - 2s/epoch - 1s/step\n",
      "Epoch 11/50\n",
      "2/2 - 2s - loss: 1.6949 - accuracy: 0.2114 - auc_35: 0.5248 - precision_35: 0.4828 - recall_35: 0.0400 - f1_score: 0.1235 - val_loss: 1.6364 - val_accuracy: 0.2114 - val_auc_35: 0.5067 - val_precision_35: 0.5000 - val_recall_35: 0.0229 - val_f1_score: 0.0836 - 2s/epoch - 1s/step\n",
      "Epoch 12/50\n",
      "2/2 - 3s - loss: 1.6312 - accuracy: 0.1971 - auc_35: 0.5325 - precision_35: 0.5385 - recall_35: 0.0400 - f1_score: 0.1093 - val_loss: 1.6693 - val_accuracy: 0.2114 - val_auc_35: 0.5134 - val_precision_35: 0.6000 - val_recall_35: 0.0171 - val_f1_score: 0.0842 - 3s/epoch - 1s/step\n",
      "Epoch 13/50\n",
      "2/2 - 3s - loss: 1.5950 - accuracy: 0.2057 - auc_35: 0.5476 - precision_35: 0.6957 - recall_35: 0.0457 - f1_score: 0.1199 - val_loss: 1.7055 - val_accuracy: 0.2229 - val_auc_35: 0.5210 - val_precision_35: 0.6000 - val_recall_35: 0.0171 - val_f1_score: 0.0875 - 3s/epoch - 1s/step\n"
     ]
    },
    {
     "data": {
      "image/png": "[encoded data removed]",
      "text/plain": [
       "<Figure size 432x288 with 1 Axes>"
      ]
     },
     "metadata": {
      "needs_background": "light"
     },
     "output_type": "display_data"
    }
   ],
   "source": [
    "model1 = build_biConvLSTM(n_length, n_features, n_outputs, y_train.shape[1])\n",
    "for train_index, val_index in kf.split(X):\n",
    "    X_train, X_val = X[train_index], X[val_index]\n",
    "    y_train, y_val = y[train_index], y[val_index]\n",
    "    model1 = build_biConvLSTM(n_features, n_length, n_outputs, y_train.shape[1])\n",
    "    history = train(model1, X_train, y_train, X_val, y_val, epochs=epochs, batch_size=batch_size)\n",
    "    plt.plot(history.history['loss'])\n",
    "    plt.show()"
   ]
  },
  {
   "cell_type": "code",
   "execution_count": 48,
   "metadata": {},
   "outputs": [],
   "source": [
    "member1 = KerasMember(name=\"BiLSTM\", keras_model=model1,\n",
    "    train_batches=(X_train, y_train),\n",
    "    val_batches=(X_test, y_test))"
   ]
  },
  {
   "cell_type": "markdown",
   "metadata": {},
   "source": [
    "### Train CNN+LSTM (with early fusion)"
   ]
  },
  {
   "cell_type": "code",
   "execution_count": 49,
   "metadata": {},
   "outputs": [
    {
     "name": "stdout",
     "output_type": "stream",
     "text": [
      "Epoch 1/50\n",
      "2/2 - 2s - loss: 1.5804 - accuracy: 0.2857 - auc_37: 0.5892 - precision_37: 0.0000e+00 - recall_37: 0.0000e+00 - f1_score: 0.1486 - val_loss: 1.5046 - val_accuracy: 0.1886 - val_auc_37: 0.6385 - val_precision_37: 0.0000e+00 - val_recall_37: 0.0000e+00 - val_f1_score: 0.0679 - 2s/epoch - 1s/step\n",
      "Epoch 2/50\n",
      "2/2 - 0s - loss: 1.4985 - accuracy: 0.2343 - auc_37: 0.6569 - precision_37: 0.0000e+00 - recall_37: 0.0000e+00 - f1_score: 0.1161 - val_loss: 1.4681 - val_accuracy: 0.3943 - val_auc_37: 0.7187 - val_precision_37: 0.0000e+00 - val_recall_37: 0.0000e+00 - val_f1_score: 0.1131 - 251ms/epoch - 125ms/step\n",
      "Epoch 3/50\n",
      "2/2 - 0s - loss: 1.4503 - accuracy: 0.4514 - auc_37: 0.7378 - precision_37: 0.0000e+00 - recall_37: 0.0000e+00 - f1_score: 0.1244 - val_loss: 1.4756 - val_accuracy: 0.3943 - val_auc_37: 0.7233 - val_precision_37: 0.0000e+00 - val_recall_37: 0.0000e+00 - val_f1_score: 0.1131 - 263ms/epoch - 131ms/step\n",
      "Epoch 4/50\n",
      "2/2 - 0s - loss: 1.4429 - accuracy: 0.4514 - auc_37: 0.7451 - precision_37: 0.0000e+00 - recall_37: 0.0000e+00 - f1_score: 0.1244 - val_loss: 1.4423 - val_accuracy: 0.3943 - val_auc_37: 0.7237 - val_precision_37: 0.0000e+00 - val_recall_37: 0.0000e+00 - val_f1_score: 0.1131 - 238ms/epoch - 119ms/step\n",
      "Epoch 5/50\n",
      "2/2 - 0s - loss: 1.3998 - accuracy: 0.4514 - auc_37: 0.7499 - precision_37: 0.0000e+00 - recall_37: 0.0000e+00 - f1_score: 0.1244 - val_loss: 1.4173 - val_accuracy: 0.3943 - val_auc_37: 0.7237 - val_precision_37: 0.0000e+00 - val_recall_37: 0.0000e+00 - val_f1_score: 0.1131 - 261ms/epoch - 130ms/step\n",
      "Epoch 6/50\n",
      "2/2 - 0s - loss: 1.3735 - accuracy: 0.4514 - auc_37: 0.7501 - precision_37: 0.0000e+00 - recall_37: 0.0000e+00 - f1_score: 0.1244 - val_loss: 1.4102 - val_accuracy: 0.3943 - val_auc_37: 0.7414 - val_precision_37: 0.0000e+00 - val_recall_37: 0.0000e+00 - val_f1_score: 0.1131 - 238ms/epoch - 119ms/step\n",
      "Epoch 7/50\n",
      "2/2 - 0s - loss: 1.3572 - accuracy: 0.4514 - auc_37: 0.7753 - precision_37: 0.0000e+00 - recall_37: 0.0000e+00 - f1_score: 0.1244 - val_loss: 1.3963 - val_accuracy: 0.3943 - val_auc_37: 0.7414 - val_precision_37: 0.0000e+00 - val_recall_37: 0.0000e+00 - val_f1_score: 0.1131 - 264ms/epoch - 132ms/step\n",
      "Epoch 8/50\n",
      "2/2 - 0s - loss: 1.3396 - accuracy: 0.4514 - auc_37: 0.7709 - precision_37: 0.0000e+00 - recall_37: 0.0000e+00 - f1_score: 0.1244 - val_loss: 1.3871 - val_accuracy: 0.3943 - val_auc_37: 0.7414 - val_precision_37: 0.0000e+00 - val_recall_37: 0.0000e+00 - val_f1_score: 0.1131 - 238ms/epoch - 119ms/step\n",
      "Epoch 9/50\n",
      "2/2 - 0s - loss: 1.3255 - accuracy: 0.4514 - auc_37: 0.7727 - precision_37: 0.0000e+00 - recall_37: 0.0000e+00 - f1_score: 0.1244 - val_loss: 1.3808 - val_accuracy: 0.3943 - val_auc_37: 0.7414 - val_precision_37: 0.0000e+00 - val_recall_37: 0.0000e+00 - val_f1_score: 0.1131 - 260ms/epoch - 130ms/step\n",
      "Epoch 10/50\n",
      "2/2 - 0s - loss: 1.3154 - accuracy: 0.4514 - auc_37: 0.7720 - precision_37: 0.0000e+00 - recall_37: 0.0000e+00 - f1_score: 0.1244 - val_loss: 1.3760 - val_accuracy: 0.3943 - val_auc_37: 0.7414 - val_precision_37: 0.0000e+00 - val_recall_37: 0.0000e+00 - val_f1_score: 0.1131 - 236ms/epoch - 118ms/step\n",
      "Epoch 11/50\n",
      "2/2 - 0s - loss: 1.3078 - accuracy: 0.4514 - auc_37: 0.7729 - precision_37: 0.0000e+00 - recall_37: 0.0000e+00 - f1_score: 0.1244 - val_loss: 1.3723 - val_accuracy: 0.3943 - val_auc_37: 0.7414 - val_precision_37: 0.0000e+00 - val_recall_37: 0.0000e+00 - val_f1_score: 0.1131 - 250ms/epoch - 125ms/step\n",
      "Epoch 12/50\n",
      "2/2 - 0s - loss: 1.3020 - accuracy: 0.4514 - auc_37: 0.7740 - precision_37: 0.0000e+00 - recall_37: 0.0000e+00 - f1_score: 0.1244 - val_loss: 1.3694 - val_accuracy: 0.3943 - val_auc_37: 0.7414 - val_precision_37: 0.0000e+00 - val_recall_37: 0.0000e+00 - val_f1_score: 0.1131 - 240ms/epoch - 120ms/step\n",
      "Epoch 13/50\n",
      "2/2 - 0s - loss: 1.2977 - accuracy: 0.4514 - auc_37: 0.7719 - precision_37: 0.0000e+00 - recall_37: 0.0000e+00 - f1_score: 0.1244 - val_loss: 1.3668 - val_accuracy: 0.3943 - val_auc_37: 0.7414 - val_precision_37: 0.0000e+00 - val_recall_37: 0.0000e+00 - val_f1_score: 0.1131 - 259ms/epoch - 130ms/step\n",
      "Epoch 14/50\n",
      "2/2 - 0s - loss: 1.2942 - accuracy: 0.4514 - auc_37: 0.7732 - precision_37: 0.0000e+00 - recall_37: 0.0000e+00 - f1_score: 0.1244 - val_loss: 1.3649 - val_accuracy: 0.3943 - val_auc_37: 0.7414 - val_precision_37: 0.0000e+00 - val_recall_37: 0.0000e+00 - val_f1_score: 0.1131 - 239ms/epoch - 120ms/step\n",
      "Epoch 15/50\n",
      "2/2 - 0s - loss: 1.2918 - accuracy: 0.4514 - auc_37: 0.7729 - precision_37: 0.0000e+00 - recall_37: 0.0000e+00 - f1_score: 0.1244 - val_loss: 1.3632 - val_accuracy: 0.3943 - val_auc_37: 0.7414 - val_precision_37: 0.0000e+00 - val_recall_37: 0.0000e+00 - val_f1_score: 0.1131 - 296ms/epoch - 148ms/step\n",
      "Epoch 16/50\n",
      "2/2 - 0s - loss: 1.2893 - accuracy: 0.4514 - auc_37: 0.7729 - precision_37: 0.0000e+00 - recall_37: 0.0000e+00 - f1_score: 0.1244 - val_loss: 1.3619 - val_accuracy: 0.3943 - val_auc_37: 0.7414 - val_precision_37: 0.0000e+00 - val_recall_37: 0.0000e+00 - val_f1_score: 0.1131 - 286ms/epoch - 143ms/step\n",
      "Epoch 17/50\n",
      "2/2 - 0s - loss: 1.2880 - accuracy: 0.4514 - auc_37: 0.7729 - precision_37: 0.0000e+00 - recall_37: 0.0000e+00 - f1_score: 0.1244 - val_loss: 1.3606 - val_accuracy: 0.3943 - val_auc_37: 0.7414 - val_precision_37: 0.0000e+00 - val_recall_37: 0.0000e+00 - val_f1_score: 0.1131 - 248ms/epoch - 124ms/step\n",
      "Epoch 18/50\n",
      "2/2 - 0s - loss: 1.2862 - accuracy: 0.4514 - auc_37: 0.7729 - precision_37: 0.0000e+00 - recall_37: 0.0000e+00 - f1_score: 0.1244 - val_loss: 1.3594 - val_accuracy: 0.3943 - val_auc_37: 0.7414 - val_precision_37: 0.0000e+00 - val_recall_37: 0.0000e+00 - val_f1_score: 0.1131 - 299ms/epoch - 149ms/step\n",
      "Epoch 19/50\n",
      "2/2 - 0s - loss: 1.2851 - accuracy: 0.4514 - auc_37: 0.7729 - precision_37: 0.0000e+00 - recall_37: 0.0000e+00 - f1_score: 0.1244 - val_loss: 1.3582 - val_accuracy: 0.3943 - val_auc_37: 0.7414 - val_precision_37: 0.0000e+00 - val_recall_37: 0.0000e+00 - val_f1_score: 0.1131 - 349ms/epoch - 174ms/step\n",
      "Epoch 20/50\n",
      "2/2 - 0s - loss: 1.2841 - accuracy: 0.4514 - auc_37: 0.7725 - precision_37: 0.0000e+00 - recall_37: 0.0000e+00 - f1_score: 0.1244 - val_loss: 1.3571 - val_accuracy: 0.3943 - val_auc_37: 0.7414 - val_precision_37: 0.0000e+00 - val_recall_37: 0.0000e+00 - val_f1_score: 0.1131 - 297ms/epoch - 148ms/step\n",
      "Epoch 21/50\n",
      "2/2 - 0s - loss: 1.2832 - accuracy: 0.4514 - auc_37: 0.7729 - precision_37: 0.0000e+00 - recall_37: 0.0000e+00 - f1_score: 0.1244 - val_loss: 1.3561 - val_accuracy: 0.3943 - val_auc_37: 0.7414 - val_precision_37: 0.0000e+00 - val_recall_37: 0.0000e+00 - val_f1_score: 0.1131 - 247ms/epoch - 123ms/step\n",
      "Epoch 22/50\n",
      "2/2 - 0s - loss: 1.2825 - accuracy: 0.4514 - auc_37: 0.7729 - precision_37: 0.0000e+00 - recall_37: 0.0000e+00 - f1_score: 0.1244 - val_loss: 1.3553 - val_accuracy: 0.3943 - val_auc_37: 0.7414 - val_precision_37: 0.0000e+00 - val_recall_37: 0.0000e+00 - val_f1_score: 0.1131 - 263ms/epoch - 132ms/step\n",
      "Epoch 23/50\n",
      "2/2 - 0s - loss: 1.2818 - accuracy: 0.4514 - auc_37: 0.7729 - precision_37: 0.0000e+00 - recall_37: 0.0000e+00 - f1_score: 0.1244 - val_loss: 1.3545 - val_accuracy: 0.3943 - val_auc_37: 0.7414 - val_precision_37: 0.0000e+00 - val_recall_37: 0.0000e+00 - val_f1_score: 0.1131 - 323ms/epoch - 161ms/step\n",
      "Epoch 24/50\n",
      "2/2 - 0s - loss: 1.2814 - accuracy: 0.4514 - auc_37: 0.7729 - precision_37: 0.0000e+00 - recall_37: 0.0000e+00 - f1_score: 0.1244 - val_loss: 1.3538 - val_accuracy: 0.3943 - val_auc_37: 0.7414 - val_precision_37: 0.0000e+00 - val_recall_37: 0.0000e+00 - val_f1_score: 0.1131 - 244ms/epoch - 122ms/step\n",
      "Epoch 25/50\n",
      "2/2 - 0s - loss: 1.2809 - accuracy: 0.4514 - auc_37: 0.7729 - precision_37: 0.0000e+00 - recall_37: 0.0000e+00 - f1_score: 0.1244 - val_loss: 1.3531 - val_accuracy: 0.3943 - val_auc_37: 0.7414 - val_precision_37: 0.0000e+00 - val_recall_37: 0.0000e+00 - val_f1_score: 0.1131 - 267ms/epoch - 134ms/step\n",
      "Epoch 26/50\n",
      "2/2 - 0s - loss: 1.2805 - accuracy: 0.4514 - auc_37: 0.7729 - precision_37: 0.0000e+00 - recall_37: 0.0000e+00 - f1_score: 0.1244 - val_loss: 1.3525 - val_accuracy: 0.3943 - val_auc_37: 0.7414 - val_precision_37: 0.0000e+00 - val_recall_37: 0.0000e+00 - val_f1_score: 0.1131 - 237ms/epoch - 119ms/step\n",
      "Epoch 27/50\n",
      "2/2 - 0s - loss: 1.2802 - accuracy: 0.4514 - auc_37: 0.7729 - precision_37: 0.0000e+00 - recall_37: 0.0000e+00 - f1_score: 0.1244 - val_loss: 1.3520 - val_accuracy: 0.3943 - val_auc_37: 0.7414 - val_precision_37: 0.0000e+00 - val_recall_37: 0.0000e+00 - val_f1_score: 0.1131 - 308ms/epoch - 154ms/step\n",
      "Epoch 28/50\n",
      "2/2 - 0s - loss: 1.2799 - accuracy: 0.4514 - auc_37: 0.7729 - precision_37: 0.0000e+00 - recall_37: 0.0000e+00 - f1_score: 0.1244 - val_loss: 1.3517 - val_accuracy: 0.3943 - val_auc_37: 0.7414 - val_precision_37: 0.0000e+00 - val_recall_37: 0.0000e+00 - val_f1_score: 0.1131 - 331ms/epoch - 166ms/step\n",
      "Epoch 29/50\n",
      "2/2 - 0s - loss: 1.2796 - accuracy: 0.4514 - auc_37: 0.7729 - precision_37: 0.0000e+00 - recall_37: 0.0000e+00 - f1_score: 0.1244 - val_loss: 1.3513 - val_accuracy: 0.3943 - val_auc_37: 0.7414 - val_precision_37: 0.0000e+00 - val_recall_37: 0.0000e+00 - val_f1_score: 0.1131 - 259ms/epoch - 129ms/step\n",
      "Epoch 30/50\n",
      "2/2 - 0s - loss: 1.2794 - accuracy: 0.4514 - auc_37: 0.7729 - precision_37: 0.0000e+00 - recall_37: 0.0000e+00 - f1_score: 0.1244 - val_loss: 1.3511 - val_accuracy: 0.3943 - val_auc_37: 0.7414 - val_precision_37: 0.0000e+00 - val_recall_37: 0.0000e+00 - val_f1_score: 0.1131 - 254ms/epoch - 127ms/step\n",
      "Epoch 31/50\n",
      "2/2 - 0s - loss: 1.2792 - accuracy: 0.4514 - auc_37: 0.7729 - precision_37: 0.0000e+00 - recall_37: 0.0000e+00 - f1_score: 0.1244 - val_loss: 1.3508 - val_accuracy: 0.3943 - val_auc_37: 0.7414 - val_precision_37: 0.0000e+00 - val_recall_37: 0.0000e+00 - val_f1_score: 0.1131 - 274ms/epoch - 137ms/step\n",
      "Epoch 32/50\n",
      "2/2 - 0s - loss: 1.2790 - accuracy: 0.4514 - auc_37: 0.7729 - precision_37: 0.0000e+00 - recall_37: 0.0000e+00 - f1_score: 0.1244 - val_loss: 1.3506 - val_accuracy: 0.3943 - val_auc_37: 0.7414 - val_precision_37: 0.0000e+00 - val_recall_37: 0.0000e+00 - val_f1_score: 0.1131 - 299ms/epoch - 150ms/step\n",
      "Epoch 33/50\n",
      "2/2 - 0s - loss: 1.2788 - accuracy: 0.4514 - auc_37: 0.7729 - precision_37: 0.0000e+00 - recall_37: 0.0000e+00 - f1_score: 0.1244 - val_loss: 1.3504 - val_accuracy: 0.3943 - val_auc_37: 0.7414 - val_precision_37: 0.0000e+00 - val_recall_37: 0.0000e+00 - val_f1_score: 0.1131 - 257ms/epoch - 128ms/step\n",
      "Epoch 34/50\n",
      "2/2 - 0s - loss: 1.2787 - accuracy: 0.4514 - auc_37: 0.7729 - precision_37: 0.0000e+00 - recall_37: 0.0000e+00 - f1_score: 0.1244 - val_loss: 1.3502 - val_accuracy: 0.3943 - val_auc_37: 0.7414 - val_precision_37: 0.0000e+00 - val_recall_37: 0.0000e+00 - val_f1_score: 0.1131 - 274ms/epoch - 137ms/step\n",
      "Epoch 35/50\n",
      "2/2 - 0s - loss: 1.2786 - accuracy: 0.4514 - auc_37: 0.7737 - precision_37: 0.0000e+00 - recall_37: 0.0000e+00 - f1_score: 0.1244 - val_loss: 1.3500 - val_accuracy: 0.3943 - val_auc_37: 0.7414 - val_precision_37: 0.0000e+00 - val_recall_37: 0.0000e+00 - val_f1_score: 0.1131 - 288ms/epoch - 144ms/step\n",
      "Epoch 36/50\n",
      "2/2 - 0s - loss: 1.2784 - accuracy: 0.4514 - auc_37: 0.7729 - precision_37: 0.0000e+00 - recall_37: 0.0000e+00 - f1_score: 0.1244 - val_loss: 1.3498 - val_accuracy: 0.3943 - val_auc_37: 0.7414 - val_precision_37: 0.0000e+00 - val_recall_37: 0.0000e+00 - val_f1_score: 0.1131 - 293ms/epoch - 146ms/step\n",
      "Epoch 37/50\n",
      "2/2 - 0s - loss: 1.2783 - accuracy: 0.4514 - auc_37: 0.7729 - precision_37: 0.0000e+00 - recall_37: 0.0000e+00 - f1_score: 0.1244 - val_loss: 1.3496 - val_accuracy: 0.3943 - val_auc_37: 0.7414 - val_precision_37: 0.0000e+00 - val_recall_37: 0.0000e+00 - val_f1_score: 0.1131 - 464ms/epoch - 232ms/step\n",
      "Epoch 38/50\n",
      "2/2 - 0s - loss: 1.2782 - accuracy: 0.4514 - auc_37: 0.7729 - precision_37: 0.0000e+00 - recall_37: 0.0000e+00 - f1_score: 0.1244 - val_loss: 1.3494 - val_accuracy: 0.3943 - val_auc_37: 0.7414 - val_precision_37: 0.0000e+00 - val_recall_37: 0.0000e+00 - val_f1_score: 0.1131 - 383ms/epoch - 192ms/step\n",
      "Epoch 39/50\n",
      "2/2 - 0s - loss: 1.2781 - accuracy: 0.4514 - auc_37: 0.7729 - precision_37: 0.0000e+00 - recall_37: 0.0000e+00 - f1_score: 0.1244 - val_loss: 1.3493 - val_accuracy: 0.3943 - val_auc_37: 0.7414 - val_precision_37: 0.0000e+00 - val_recall_37: 0.0000e+00 - val_f1_score: 0.1131 - 363ms/epoch - 181ms/step\n",
      "Epoch 40/50\n",
      "2/2 - 0s - loss: 1.2781 - accuracy: 0.4514 - auc_37: 0.7729 - precision_37: 0.0000e+00 - recall_37: 0.0000e+00 - f1_score: 0.1244 - val_loss: 1.3491 - val_accuracy: 0.3943 - val_auc_37: 0.7414 - val_precision_37: 0.0000e+00 - val_recall_37: 0.0000e+00 - val_f1_score: 0.1131 - 300ms/epoch - 150ms/step\n",
      "Epoch 41/50\n",
      "2/2 - 0s - loss: 1.2780 - accuracy: 0.4514 - auc_37: 0.7729 - precision_37: 0.0000e+00 - recall_37: 0.0000e+00 - f1_score: 0.1244 - val_loss: 1.3490 - val_accuracy: 0.3943 - val_auc_37: 0.7414 - val_precision_37: 0.0000e+00 - val_recall_37: 0.0000e+00 - val_f1_score: 0.1131 - 282ms/epoch - 141ms/step\n",
      "Epoch 42/50\n",
      "2/2 - 0s - loss: 1.2779 - accuracy: 0.4514 - auc_37: 0.7729 - precision_37: 0.0000e+00 - recall_37: 0.0000e+00 - f1_score: 0.1244 - val_loss: 1.3489 - val_accuracy: 0.3943 - val_auc_37: 0.7414 - val_precision_37: 0.0000e+00 - val_recall_37: 0.0000e+00 - val_f1_score: 0.1131 - 339ms/epoch - 169ms/step\n",
      "Epoch 43/50\n",
      "2/2 - 0s - loss: 1.2779 - accuracy: 0.4514 - auc_37: 0.7729 - precision_37: 0.0000e+00 - recall_37: 0.0000e+00 - f1_score: 0.1244 - val_loss: 1.3489 - val_accuracy: 0.3943 - val_auc_37: 0.7414 - val_precision_37: 0.0000e+00 - val_recall_37: 0.0000e+00 - val_f1_score: 0.1131 - 381ms/epoch - 190ms/step\n",
      "Epoch 44/50\n",
      "2/2 - 0s - loss: 1.2778 - accuracy: 0.4514 - auc_37: 0.7729 - precision_37: 0.0000e+00 - recall_37: 0.0000e+00 - f1_score: 0.1244 - val_loss: 1.3489 - val_accuracy: 0.3943 - val_auc_37: 0.7414 - val_precision_37: 0.0000e+00 - val_recall_37: 0.0000e+00 - val_f1_score: 0.1131 - 348ms/epoch - 174ms/step\n",
      "Epoch 45/50\n",
      "2/2 - 0s - loss: 1.2778 - accuracy: 0.4514 - auc_37: 0.7729 - precision_37: 0.0000e+00 - recall_37: 0.0000e+00 - f1_score: 0.1244 - val_loss: 1.3488 - val_accuracy: 0.3943 - val_auc_37: 0.7414 - val_precision_37: 0.0000e+00 - val_recall_37: 0.0000e+00 - val_f1_score: 0.1131 - 284ms/epoch - 142ms/step\n",
      "Epoch 46/50\n",
      "2/2 - 0s - loss: 1.2777 - accuracy: 0.4514 - auc_37: 0.7729 - precision_37: 0.0000e+00 - recall_37: 0.0000e+00 - f1_score: 0.1244 - val_loss: 1.3488 - val_accuracy: 0.3943 - val_auc_37: 0.7414 - val_precision_37: 0.0000e+00 - val_recall_37: 0.0000e+00 - val_f1_score: 0.1131 - 333ms/epoch - 167ms/step\n",
      "Epoch 47/50\n",
      "2/2 - 0s - loss: 1.2777 - accuracy: 0.4514 - auc_37: 0.7729 - precision_37: 0.0000e+00 - recall_37: 0.0000e+00 - f1_score: 0.1244 - val_loss: 1.3487 - val_accuracy: 0.3943 - val_auc_37: 0.7414 - val_precision_37: 0.0000e+00 - val_recall_37: 0.0000e+00 - val_f1_score: 0.1131 - 310ms/epoch - 155ms/step\n",
      "Epoch 48/50\n",
      "2/2 - 0s - loss: 1.2777 - accuracy: 0.4514 - auc_37: 0.7729 - precision_37: 0.0000e+00 - recall_37: 0.0000e+00 - f1_score: 0.1244 - val_loss: 1.3487 - val_accuracy: 0.3943 - val_auc_37: 0.7414 - val_precision_37: 0.0000e+00 - val_recall_37: 0.0000e+00 - val_f1_score: 0.1131 - 304ms/epoch - 152ms/step\n",
      "Epoch 49/50\n",
      "2/2 - 0s - loss: 1.2776 - accuracy: 0.4514 - auc_37: 0.7729 - precision_37: 0.0000e+00 - recall_37: 0.0000e+00 - f1_score: 0.1244 - val_loss: 1.3487 - val_accuracy: 0.3943 - val_auc_37: 0.7414 - val_precision_37: 0.0000e+00 - val_recall_37: 0.0000e+00 - val_f1_score: 0.1131 - 278ms/epoch - 139ms/step\n",
      "Epoch 50/50\n",
      "2/2 - 0s - loss: 1.2776 - accuracy: 0.4514 - auc_37: 0.7729 - precision_37: 0.0000e+00 - recall_37: 0.0000e+00 - f1_score: 0.1244 - val_loss: 1.3487 - val_accuracy: 0.3943 - val_auc_37: 0.7414 - val_precision_37: 0.0000e+00 - val_recall_37: 0.0000e+00 - val_f1_score: 0.1131 - 285ms/epoch - 143ms/step\n"
     ]
    },
    {
     "data": {
      "image/png": "[encoded data removed]",
      "text/plain": [
       "<Figure size 432x288 with 1 Axes>"
      ]
     },
     "metadata": {
      "needs_background": "light"
     },
     "output_type": "display_data"
    },
    {
     "name": "stdout",
     "output_type": "stream",
     "text": [
      "Epoch 1/50\n",
      "2/2 - 5s - loss: 1.6534 - accuracy: 0.2200 - auc_38: 0.5141 - precision_38: 0.0000e+00 - recall_38: 0.0000e+00 - f1_score: 0.1131 - val_loss: 1.4376 - val_accuracy: 0.4286 - val_auc_38: 0.7233 - val_precision_38: 0.0000e+00 - val_recall_38: 0.0000e+00 - val_f1_score: 0.1200 - 5s/epoch - 3s/step\n",
      "Epoch 2/50\n",
      "2/2 - 0s - loss: 1.4359 - accuracy: 0.4343 - auc_38: 0.7206 - precision_38: 0.0000e+00 - recall_38: 0.0000e+00 - f1_score: 0.1211 - val_loss: 1.4454 - val_accuracy: 0.4286 - val_auc_38: 0.7158 - val_precision_38: 0.0000e+00 - val_recall_38: 0.0000e+00 - val_f1_score: 0.1200 - 408ms/epoch - 204ms/step\n",
      "Epoch 3/50\n",
      "2/2 - 0s - loss: 1.4401 - accuracy: 0.4343 - auc_38: 0.7113 - precision_38: 0.0000e+00 - recall_38: 0.0000e+00 - f1_score: 0.1211 - val_loss: 1.4155 - val_accuracy: 0.4286 - val_auc_38: 0.7171 - val_precision_38: 0.0000e+00 - val_recall_38: 0.0000e+00 - val_f1_score: 0.1200 - 443ms/epoch - 221ms/step\n",
      "Epoch 4/50\n",
      "2/2 - 0s - loss: 1.4162 - accuracy: 0.4343 - auc_38: 0.7104 - precision_38: 0.0000e+00 - recall_38: 0.0000e+00 - f1_score: 0.1211 - val_loss: 1.3890 - val_accuracy: 0.4286 - val_auc_38: 0.7171 - val_precision_38: 0.0000e+00 - val_recall_38: 0.0000e+00 - val_f1_score: 0.1200 - 474ms/epoch - 237ms/step\n",
      "Epoch 5/50\n",
      "2/2 - 1s - loss: 1.3959 - accuracy: 0.4343 - auc_38: 0.7163 - precision_38: 0.0000e+00 - recall_38: 0.0000e+00 - f1_score: 0.1211 - val_loss: 1.3663 - val_accuracy: 0.4286 - val_auc_38: 0.7629 - val_precision_38: 0.0000e+00 - val_recall_38: 0.0000e+00 - val_f1_score: 0.1200 - 643ms/epoch - 322ms/step\n",
      "Epoch 6/50\n",
      "2/2 - 0s - loss: 1.3788 - accuracy: 0.4343 - auc_38: 0.7352 - precision_38: 0.0000e+00 - recall_38: 0.0000e+00 - f1_score: 0.1211 - val_loss: 1.3480 - val_accuracy: 0.4286 - val_auc_38: 0.7743 - val_precision_38: 0.0000e+00 - val_recall_38: 0.0000e+00 - val_f1_score: 0.1200 - 334ms/epoch - 167ms/step\n",
      "Epoch 7/50\n",
      "2/2 - 0s - loss: 1.3652 - accuracy: 0.4343 - auc_38: 0.7575 - precision_38: 0.0000e+00 - recall_38: 0.0000e+00 - f1_score: 0.1211 - val_loss: 1.3335 - val_accuracy: 0.4286 - val_auc_38: 0.7743 - val_precision_38: 0.0000e+00 - val_recall_38: 0.0000e+00 - val_f1_score: 0.1200 - 376ms/epoch - 188ms/step\n",
      "Epoch 8/50\n",
      "2/2 - 0s - loss: 1.3545 - accuracy: 0.4343 - auc_38: 0.7561 - precision_38: 0.0000e+00 - recall_38: 0.0000e+00 - f1_score: 0.1211 - val_loss: 1.3217 - val_accuracy: 0.4286 - val_auc_38: 0.7743 - val_precision_38: 0.0000e+00 - val_recall_38: 0.0000e+00 - val_f1_score: 0.1200 - 300ms/epoch - 150ms/step\n",
      "Epoch 9/50\n",
      "2/2 - 0s - loss: 1.3465 - accuracy: 0.4343 - auc_38: 0.7575 - precision_38: 0.0000e+00 - recall_38: 0.0000e+00 - f1_score: 0.1211 - val_loss: 1.3124 - val_accuracy: 0.4286 - val_auc_38: 0.7743 - val_precision_38: 0.0000e+00 - val_recall_38: 0.0000e+00 - val_f1_score: 0.1200 - 384ms/epoch - 192ms/step\n",
      "Epoch 10/50\n",
      "2/2 - 0s - loss: 1.3410 - accuracy: 0.4343 - auc_38: 0.7568 - precision_38: 0.0000e+00 - recall_38: 0.0000e+00 - f1_score: 0.1211 - val_loss: 1.3053 - val_accuracy: 0.4286 - val_auc_38: 0.7743 - val_precision_38: 0.0000e+00 - val_recall_38: 0.0000e+00 - val_f1_score: 0.1200 - 350ms/epoch - 175ms/step\n",
      "Epoch 11/50\n",
      "2/2 - 0s - loss: 1.3363 - accuracy: 0.4343 - auc_38: 0.7515 - precision_38: 0.0000e+00 - recall_38: 0.0000e+00 - f1_score: 0.1211 - val_loss: 1.3003 - val_accuracy: 0.4286 - val_auc_38: 0.7743 - val_precision_38: 0.0000e+00 - val_recall_38: 0.0000e+00 - val_f1_score: 0.1200 - 339ms/epoch - 169ms/step\n",
      "Epoch 12/50\n",
      "2/2 - 0s - loss: 1.3321 - accuracy: 0.4343 - auc_38: 0.7564 - precision_38: 0.0000e+00 - recall_38: 0.0000e+00 - f1_score: 0.1211 - val_loss: 1.2965 - val_accuracy: 0.4286 - val_auc_38: 0.7743 - val_precision_38: 0.0000e+00 - val_recall_38: 0.0000e+00 - val_f1_score: 0.1200 - 309ms/epoch - 155ms/step\n",
      "Epoch 13/50\n",
      "2/2 - 0s - loss: 1.3289 - accuracy: 0.4343 - auc_38: 0.7542 - precision_38: 0.0000e+00 - recall_38: 0.0000e+00 - f1_score: 0.1211 - val_loss: 1.2937 - val_accuracy: 0.4286 - val_auc_38: 0.7743 - val_precision_38: 0.0000e+00 - val_recall_38: 0.0000e+00 - val_f1_score: 0.1200 - 263ms/epoch - 132ms/step\n",
      "Epoch 14/50\n",
      "2/2 - 0s - loss: 1.3260 - accuracy: 0.4343 - auc_38: 0.7556 - precision_38: 0.0000e+00 - recall_38: 0.0000e+00 - f1_score: 0.1211 - val_loss: 1.2919 - val_accuracy: 0.4286 - val_auc_38: 0.7743 - val_precision_38: 0.0000e+00 - val_recall_38: 0.0000e+00 - val_f1_score: 0.1200 - 297ms/epoch - 148ms/step\n",
      "Epoch 15/50\n",
      "2/2 - 0s - loss: 1.3237 - accuracy: 0.4343 - auc_38: 0.7564 - precision_38: 0.0000e+00 - recall_38: 0.0000e+00 - f1_score: 0.1211 - val_loss: 1.2905 - val_accuracy: 0.4286 - val_auc_38: 0.7743 - val_precision_38: 0.0000e+00 - val_recall_38: 0.0000e+00 - val_f1_score: 0.1200 - 290ms/epoch - 145ms/step\n",
      "Epoch 16/50\n",
      "2/2 - 0s - loss: 1.3218 - accuracy: 0.4343 - auc_38: 0.7540 - precision_38: 0.0000e+00 - recall_38: 0.0000e+00 - f1_score: 0.1211 - val_loss: 1.2893 - val_accuracy: 0.4286 - val_auc_38: 0.7743 - val_precision_38: 0.0000e+00 - val_recall_38: 0.0000e+00 - val_f1_score: 0.1200 - 347ms/epoch - 174ms/step\n",
      "Epoch 17/50\n",
      "2/2 - 0s - loss: 1.3200 - accuracy: 0.4343 - auc_38: 0.7550 - precision_38: 0.0000e+00 - recall_38: 0.0000e+00 - f1_score: 0.1211 - val_loss: 1.2886 - val_accuracy: 0.4286 - val_auc_38: 0.7743 - val_precision_38: 0.0000e+00 - val_recall_38: 0.0000e+00 - val_f1_score: 0.1200 - 265ms/epoch - 132ms/step\n",
      "Epoch 18/50\n",
      "2/2 - 0s - loss: 1.3186 - accuracy: 0.4343 - auc_38: 0.7570 - precision_38: 0.0000e+00 - recall_38: 0.0000e+00 - f1_score: 0.1211 - val_loss: 1.2879 - val_accuracy: 0.4286 - val_auc_38: 0.7743 - val_precision_38: 0.0000e+00 - val_recall_38: 0.0000e+00 - val_f1_score: 0.1200 - 297ms/epoch - 148ms/step\n",
      "Epoch 19/50\n",
      "2/2 - 0s - loss: 1.3173 - accuracy: 0.4343 - auc_38: 0.7564 - precision_38: 0.0000e+00 - recall_38: 0.0000e+00 - f1_score: 0.1211 - val_loss: 1.2874 - val_accuracy: 0.4286 - val_auc_38: 0.7743 - val_precision_38: 0.0000e+00 - val_recall_38: 0.0000e+00 - val_f1_score: 0.1200 - 389ms/epoch - 195ms/step\n",
      "Epoch 20/50\n",
      "2/2 - 0s - loss: 1.3163 - accuracy: 0.4343 - auc_38: 0.7559 - precision_38: 0.0000e+00 - recall_38: 0.0000e+00 - f1_score: 0.1211 - val_loss: 1.2870 - val_accuracy: 0.4286 - val_auc_38: 0.7743 - val_precision_38: 0.0000e+00 - val_recall_38: 0.0000e+00 - val_f1_score: 0.1200 - 433ms/epoch - 216ms/step\n",
      "Epoch 21/50\n",
      "2/2 - 0s - loss: 1.3153 - accuracy: 0.4343 - auc_38: 0.7564 - precision_38: 0.0000e+00 - recall_38: 0.0000e+00 - f1_score: 0.1211 - val_loss: 1.2866 - val_accuracy: 0.4286 - val_auc_38: 0.7743 - val_precision_38: 0.0000e+00 - val_recall_38: 0.0000e+00 - val_f1_score: 0.1200 - 355ms/epoch - 178ms/step\n",
      "Epoch 22/50\n",
      "2/2 - 0s - loss: 1.3144 - accuracy: 0.4343 - auc_38: 0.7564 - precision_38: 0.0000e+00 - recall_38: 0.0000e+00 - f1_score: 0.1211 - val_loss: 1.2864 - val_accuracy: 0.4286 - val_auc_38: 0.7743 - val_precision_38: 0.0000e+00 - val_recall_38: 0.0000e+00 - val_f1_score: 0.1200 - 312ms/epoch - 156ms/step\n",
      "Epoch 23/50\n",
      "2/2 - 0s - loss: 1.3138 - accuracy: 0.4343 - auc_38: 0.7554 - precision_38: 0.0000e+00 - recall_38: 0.0000e+00 - f1_score: 0.1211 - val_loss: 1.2864 - val_accuracy: 0.4286 - val_auc_38: 0.7743 - val_precision_38: 0.0000e+00 - val_recall_38: 0.0000e+00 - val_f1_score: 0.1200 - 350ms/epoch - 175ms/step\n",
      "Epoch 24/50\n",
      "2/2 - 0s - loss: 1.3132 - accuracy: 0.4343 - auc_38: 0.7564 - precision_38: 0.0000e+00 - recall_38: 0.0000e+00 - f1_score: 0.1211 - val_loss: 1.2864 - val_accuracy: 0.4286 - val_auc_38: 0.7743 - val_precision_38: 0.0000e+00 - val_recall_38: 0.0000e+00 - val_f1_score: 0.1200 - 347ms/epoch - 173ms/step\n",
      "Epoch 25/50\n",
      "2/2 - 0s - loss: 1.3126 - accuracy: 0.4343 - auc_38: 0.7564 - precision_38: 0.0000e+00 - recall_38: 0.0000e+00 - f1_score: 0.1211 - val_loss: 1.2864 - val_accuracy: 0.4286 - val_auc_38: 0.7743 - val_precision_38: 0.0000e+00 - val_recall_38: 0.0000e+00 - val_f1_score: 0.1200 - 349ms/epoch - 174ms/step\n"
     ]
    },
    {
     "data": {
      "image/png": "[encoded data removed]",
      "text/plain": [
       "<Figure size 432x288 with 1 Axes>"
      ]
     },
     "metadata": {
      "needs_background": "light"
     },
     "output_type": "display_data"
    },
    {
     "name": "stdout",
     "output_type": "stream",
     "text": [
      "Epoch 1/50\n",
      "2/2 - 4s - loss: 1.5640 - accuracy: 0.2886 - auc_39: 0.5960 - precision_39: 0.0000e+00 - recall_39: 0.0000e+00 - f1_score: 0.1008 - val_loss: 1.4352 - val_accuracy: 0.2343 - val_auc_39: 0.7114 - val_precision_39: 0.0000e+00 - val_recall_39: 0.0000e+00 - val_f1_score: 0.0759 - 4s/epoch - 2s/step\n",
      "Epoch 2/50\n",
      "2/2 - 0s - loss: 1.4094 - accuracy: 0.3200 - auc_39: 0.7367 - precision_39: 0.0000e+00 - recall_39: 0.0000e+00 - f1_score: 0.0970 - val_loss: 1.3838 - val_accuracy: 0.2343 - val_auc_39: 0.7145 - val_precision_39: 0.0000e+00 - val_recall_39: 0.0000e+00 - val_f1_score: 0.0759 - 398ms/epoch - 199ms/step\n",
      "Epoch 3/50\n",
      "2/2 - 0s - loss: 1.3701 - accuracy: 0.3343 - auc_39: 0.7389 - precision_39: 0.0000e+00 - recall_39: 0.0000e+00 - f1_score: 0.1503 - val_loss: 1.3476 - val_accuracy: 0.4743 - val_auc_39: 0.7714 - val_precision_39: 0.0000e+00 - val_recall_39: 0.0000e+00 - val_f1_score: 0.1287 - 343ms/epoch - 172ms/step\n",
      "Epoch 4/50\n",
      "2/2 - 0s - loss: 1.3440 - accuracy: 0.4114 - auc_39: 0.7548 - precision_39: 0.0000e+00 - recall_39: 0.0000e+00 - f1_score: 0.1166 - val_loss: 1.3321 - val_accuracy: 0.4743 - val_auc_39: 0.7721 - val_precision_39: 0.0000e+00 - val_recall_39: 0.0000e+00 - val_f1_score: 0.1287 - 347ms/epoch - 174ms/step\n",
      "Epoch 5/50\n",
      "2/2 - 0s - loss: 1.3313 - accuracy: 0.3914 - auc_39: 0.7560 - precision_39: 0.0000e+00 - recall_39: 0.0000e+00 - f1_score: 0.1418 - val_loss: 1.3363 - val_accuracy: 0.2343 - val_auc_39: 0.7114 - val_precision_39: 0.0000e+00 - val_recall_39: 0.0000e+00 - val_f1_score: 0.0759 - 334ms/epoch - 167ms/step\n",
      "Epoch 6/50\n",
      "2/2 - 0s - loss: 1.3237 - accuracy: 0.3771 - auc_39: 0.7434 - precision_39: 0.0000e+00 - recall_39: 0.0000e+00 - f1_score: 0.1702 - val_loss: 1.3260 - val_accuracy: 0.4743 - val_auc_39: 0.7714 - val_precision_39: 0.0000e+00 - val_recall_39: 0.0000e+00 - val_f1_score: 0.1287 - 349ms/epoch - 175ms/step\n",
      "Epoch 7/50\n",
      "2/2 - 0s - loss: 1.3190 - accuracy: 0.4114 - auc_39: 0.7512 - precision_39: 0.0000e+00 - recall_39: 0.0000e+00 - f1_score: 0.1166 - val_loss: 1.3168 - val_accuracy: 0.4743 - val_auc_39: 0.7714 - val_precision_39: 0.0000e+00 - val_recall_39: 0.0000e+00 - val_f1_score: 0.1287 - 346ms/epoch - 173ms/step\n",
      "Epoch 8/50\n",
      "2/2 - 0s - loss: 1.3178 - accuracy: 0.3543 - auc_39: 0.7514 - precision_39: 0.0000e+00 - recall_39: 0.0000e+00 - f1_score: 0.1438 - val_loss: 1.3097 - val_accuracy: 0.4743 - val_auc_39: 0.7714 - val_precision_39: 0.0000e+00 - val_recall_39: 0.0000e+00 - val_f1_score: 0.1287 - 303ms/epoch - 152ms/step\n",
      "Epoch 9/50\n",
      "2/2 - 0s - loss: 1.3111 - accuracy: 0.4114 - auc_39: 0.7541 - precision_39: 0.0000e+00 - recall_39: 0.0000e+00 - f1_score: 0.1166 - val_loss: 1.3034 - val_accuracy: 0.4743 - val_auc_39: 0.7714 - val_precision_39: 0.0000e+00 - val_recall_39: 0.0000e+00 - val_f1_score: 0.1287 - 339ms/epoch - 170ms/step\n",
      "Epoch 10/50\n",
      "2/2 - 0s - loss: 1.3087 - accuracy: 0.4114 - auc_39: 0.7580 - precision_39: 0.0000e+00 - recall_39: 0.0000e+00 - f1_score: 0.1166 - val_loss: 1.2991 - val_accuracy: 0.4743 - val_auc_39: 0.7714 - val_precision_39: 0.0000e+00 - val_recall_39: 0.0000e+00 - val_f1_score: 0.1287 - 353ms/epoch - 177ms/step\n",
      "Epoch 11/50\n",
      "2/2 - 0s - loss: 1.3075 - accuracy: 0.4114 - auc_39: 0.7570 - precision_39: 0.0000e+00 - recall_39: 0.0000e+00 - f1_score: 0.1166 - val_loss: 1.2956 - val_accuracy: 0.4743 - val_auc_39: 0.7714 - val_precision_39: 0.0000e+00 - val_recall_39: 0.0000e+00 - val_f1_score: 0.1287 - 383ms/epoch - 192ms/step\n",
      "Epoch 12/50\n",
      "2/2 - 0s - loss: 1.3063 - accuracy: 0.4114 - auc_39: 0.7593 - precision_39: 0.0000e+00 - recall_39: 0.0000e+00 - f1_score: 0.1166 - val_loss: 1.2927 - val_accuracy: 0.4743 - val_auc_39: 0.7714 - val_precision_39: 0.0000e+00 - val_recall_39: 0.0000e+00 - val_f1_score: 0.1287 - 322ms/epoch - 161ms/step\n",
      "Epoch 13/50\n",
      "2/2 - 0s - loss: 1.3058 - accuracy: 0.4114 - auc_39: 0.7572 - precision_39: 0.0000e+00 - recall_39: 0.0000e+00 - f1_score: 0.1166 - val_loss: 1.2904 - val_accuracy: 0.4743 - val_auc_39: 0.7714 - val_precision_39: 0.0000e+00 - val_recall_39: 0.0000e+00 - val_f1_score: 0.1287 - 281ms/epoch - 140ms/step\n",
      "Epoch 14/50\n",
      "2/2 - 0s - loss: 1.3051 - accuracy: 0.4114 - auc_39: 0.7572 - precision_39: 0.0000e+00 - recall_39: 0.0000e+00 - f1_score: 0.1166 - val_loss: 1.2890 - val_accuracy: 0.4743 - val_auc_39: 0.7714 - val_precision_39: 0.0000e+00 - val_recall_39: 0.0000e+00 - val_f1_score: 0.1287 - 285ms/epoch - 143ms/step\n",
      "Epoch 15/50\n",
      "2/2 - 0s - loss: 1.3046 - accuracy: 0.4114 - auc_39: 0.7579 - precision_39: 0.0000e+00 - recall_39: 0.0000e+00 - f1_score: 0.1166 - val_loss: 1.2881 - val_accuracy: 0.4743 - val_auc_39: 0.7714 - val_precision_39: 0.0000e+00 - val_recall_39: 0.0000e+00 - val_f1_score: 0.1287 - 282ms/epoch - 141ms/step\n",
      "Epoch 16/50\n",
      "2/2 - 0s - loss: 1.3039 - accuracy: 0.4114 - auc_39: 0.7579 - precision_39: 0.0000e+00 - recall_39: 0.0000e+00 - f1_score: 0.1166 - val_loss: 1.2876 - val_accuracy: 0.4743 - val_auc_39: 0.7714 - val_precision_39: 0.0000e+00 - val_recall_39: 0.0000e+00 - val_f1_score: 0.1287 - 319ms/epoch - 160ms/step\n",
      "Epoch 17/50\n",
      "2/2 - 0s - loss: 1.3035 - accuracy: 0.4114 - auc_39: 0.7579 - precision_39: 0.0000e+00 - recall_39: 0.0000e+00 - f1_score: 0.1166 - val_loss: 1.2873 - val_accuracy: 0.4743 - val_auc_39: 0.7714 - val_precision_39: 0.0000e+00 - val_recall_39: 0.0000e+00 - val_f1_score: 0.1287 - 307ms/epoch - 153ms/step\n",
      "Epoch 18/50\n",
      "2/2 - 0s - loss: 1.3030 - accuracy: 0.4114 - auc_39: 0.7579 - precision_39: 0.0000e+00 - recall_39: 0.0000e+00 - f1_score: 0.1166 - val_loss: 1.2869 - val_accuracy: 0.4743 - val_auc_39: 0.7714 - val_precision_39: 0.0000e+00 - val_recall_39: 0.0000e+00 - val_f1_score: 0.1287 - 351ms/epoch - 175ms/step\n",
      "Epoch 19/50\n",
      "2/2 - 0s - loss: 1.3027 - accuracy: 0.4114 - auc_39: 0.7579 - precision_39: 0.0000e+00 - recall_39: 0.0000e+00 - f1_score: 0.1166 - val_loss: 1.2866 - val_accuracy: 0.4743 - val_auc_39: 0.7714 - val_precision_39: 0.0000e+00 - val_recall_39: 0.0000e+00 - val_f1_score: 0.1287 - 313ms/epoch - 156ms/step\n",
      "Epoch 20/50\n",
      "2/2 - 0s - loss: 1.3024 - accuracy: 0.4114 - auc_39: 0.7560 - precision_39: 0.0000e+00 - recall_39: 0.0000e+00 - f1_score: 0.1166 - val_loss: 1.2862 - val_accuracy: 0.4743 - val_auc_39: 0.7714 - val_precision_39: 0.0000e+00 - val_recall_39: 0.0000e+00 - val_f1_score: 0.1287 - 300ms/epoch - 150ms/step\n",
      "Epoch 21/50\n",
      "2/2 - 0s - loss: 1.3021 - accuracy: 0.4114 - auc_39: 0.7579 - precision_39: 0.0000e+00 - recall_39: 0.0000e+00 - f1_score: 0.1166 - val_loss: 1.2860 - val_accuracy: 0.4743 - val_auc_39: 0.7714 - val_precision_39: 0.0000e+00 - val_recall_39: 0.0000e+00 - val_f1_score: 0.1287 - 318ms/epoch - 159ms/step\n",
      "Epoch 22/50\n",
      "2/2 - 0s - loss: 1.3018 - accuracy: 0.4114 - auc_39: 0.7579 - precision_39: 0.0000e+00 - recall_39: 0.0000e+00 - f1_score: 0.1166 - val_loss: 1.2859 - val_accuracy: 0.4743 - val_auc_39: 0.7714 - val_precision_39: 0.0000e+00 - val_recall_39: 0.0000e+00 - val_f1_score: 0.1287 - 412ms/epoch - 206ms/step\n",
      "Epoch 23/50\n",
      "2/2 - 0s - loss: 1.3016 - accuracy: 0.4114 - auc_39: 0.7579 - precision_39: 0.0000e+00 - recall_39: 0.0000e+00 - f1_score: 0.1166 - val_loss: 1.2860 - val_accuracy: 0.4743 - val_auc_39: 0.7714 - val_precision_39: 0.0000e+00 - val_recall_39: 0.0000e+00 - val_f1_score: 0.1287 - 353ms/epoch - 177ms/step\n",
      "Epoch 24/50\n",
      "2/2 - 0s - loss: 1.3014 - accuracy: 0.4114 - auc_39: 0.7579 - precision_39: 0.0000e+00 - recall_39: 0.0000e+00 - f1_score: 0.1166 - val_loss: 1.2861 - val_accuracy: 0.4743 - val_auc_39: 0.7714 - val_precision_39: 0.0000e+00 - val_recall_39: 0.0000e+00 - val_f1_score: 0.1287 - 341ms/epoch - 171ms/step\n"
     ]
    },
    {
     "data": {
      "image/png": "[encoded data removed]",
      "text/plain": [
       "<Figure size 432x288 with 1 Axes>"
      ]
     },
     "metadata": {
      "needs_background": "light"
     },
     "output_type": "display_data"
    }
   ],
   "source": [
    "model2 = get_CNN(n_features, n_length, n_outputs, y_train.shape[1])\n",
    "for train_index, val_index in kf.split(X):\n",
    "    X_train, X_val = X[train_index], X[val_index]\n",
    "    y_train, y_val = y[train_index], y[val_index]\n",
    "    model2 = get_CNN(n_features, n_length, n_outputs, y_train.shape[1])\n",
    "    history = train(model2, X_train, y_train, X_val, y_val, epochs=epochs, batch_size=batch_size)\n",
    "    plt.plot(history.history['loss'])\n",
    "    plt.show()"
   ]
  },
  {
   "cell_type": "code",
   "execution_count": 50,
   "metadata": {},
   "outputs": [],
   "source": [
    "member2 = KerasMember(name=\"CNN+LSTM\", keras_model=model2,\n",
    "    train_batches=(X_train, y_train),\n",
    "    val_batches=(X_test, y_test))"
   ]
  },
  {
   "cell_type": "markdown",
   "metadata": {},
   "source": [
    "### Train ConvLSTM (with early fusion)"
   ]
  },
  {
   "cell_type": "code",
   "execution_count": 51,
   "metadata": {},
   "outputs": [
    {
     "name": "stdout",
     "output_type": "stream",
     "text": [
      "Epoch 1/50\n",
      "2/2 - 5s - loss: 221.3784 - accuracy: 0.2086 - auc_41: 0.5005 - precision_41: 0.2086 - recall_41: 0.2086 - f1_score: 0.1520 - val_loss: 164.6639 - val_accuracy: 0.3029 - val_auc_41: 0.5643 - val_precision_41: 0.3029 - val_recall_41: 0.3029 - val_f1_score: 0.0930 - 5s/epoch - 2s/step\n",
      "Epoch 2/50\n",
      "2/2 - 1s - loss: 149.4377 - accuracy: 0.2543 - auc_41: 0.5388 - precision_41: 0.2543 - recall_41: 0.2543 - f1_score: 0.1202 - val_loss: 79.4130 - val_accuracy: 0.1829 - val_auc_41: 0.5031 - val_precision_41: 0.1829 - val_recall_41: 0.1829 - val_f1_score: 0.0618 - 951ms/epoch - 475ms/step\n",
      "Epoch 3/50\n",
      "2/2 - 1s - loss: 64.2506 - accuracy: 0.2400 - auc_41: 0.5505 - precision_41: 0.2400 - recall_41: 0.2400 - f1_score: 0.1186 - val_loss: 51.2472 - val_accuracy: 0.3943 - val_auc_41: 0.6214 - val_precision_41: 0.3943 - val_recall_41: 0.3943 - val_f1_score: 0.1131 - 897ms/epoch - 448ms/step\n",
      "Epoch 4/50\n",
      "2/2 - 1s - loss: 41.1360 - accuracy: 0.4514 - auc_41: 0.6568 - precision_41: 0.4514 - recall_41: 0.4514 - f1_score: 0.1244 - val_loss: 21.9583 - val_accuracy: 0.2914 - val_auc_41: 0.6547 - val_precision_41: 0.2914 - val_recall_41: 0.2914 - val_f1_score: 0.0903 - 844ms/epoch - 422ms/step\n",
      "Epoch 5/50\n",
      "2/2 - 1s - loss: 19.5054 - accuracy: 0.3029 - auc_41: 0.6435 - precision_41: 0.3029 - recall_41: 0.3029 - f1_score: 0.1066 - val_loss: 12.1807 - val_accuracy: 0.2914 - val_auc_41: 0.6235 - val_precision_41: 0.2899 - val_recall_41: 0.2800 - val_f1_score: 0.0995 - 850ms/epoch - 425ms/step\n",
      "Epoch 6/50\n",
      "2/2 - 1s - loss: 10.4009 - accuracy: 0.3029 - auc_41: 0.6573 - precision_41: 0.3047 - recall_41: 0.2943 - f1_score: 0.1168 - val_loss: 3.8957 - val_accuracy: 0.3029 - val_auc_41: 0.6836 - val_precision_41: 0.3496 - val_recall_41: 0.2457 - val_f1_score: 0.1453 - 893ms/epoch - 447ms/step\n",
      "Epoch 7/50\n",
      "2/2 - 1s - loss: 3.4483 - accuracy: 0.3743 - auc_41: 0.7060 - precision_41: 0.4444 - recall_41: 0.2971 - f1_score: 0.1654 - val_loss: 2.0995 - val_accuracy: 0.3029 - val_auc_41: 0.6498 - val_precision_41: 0.4828 - val_recall_41: 0.1600 - val_f1_score: 0.1254 - 843ms/epoch - 422ms/step\n",
      "Epoch 8/50\n",
      "2/2 - 1s - loss: 1.9527 - accuracy: 0.3086 - auc_41: 0.6565 - precision_41: 0.5204 - recall_41: 0.1457 - f1_score: 0.1246 - val_loss: 1.7027 - val_accuracy: 0.1257 - val_auc_41: 0.4992 - val_precision_41: 0.4706 - val_recall_41: 0.0457 - val_f1_score: 0.0858 - 881ms/epoch - 441ms/step\n",
      "Epoch 9/50\n",
      "2/2 - 1s - loss: 1.6484 - accuracy: 0.1629 - auc_41: 0.5419 - precision_41: 0.5000 - recall_41: 0.0486 - f1_score: 0.1041 - val_loss: 1.6036 - val_accuracy: 0.0571 - val_auc_41: 0.5324 - val_precision_41: 0.5714 - val_recall_41: 0.0229 - val_f1_score: 0.0485 - 887ms/epoch - 444ms/step\n",
      "Epoch 10/50\n",
      "2/2 - 1s - loss: 1.6301 - accuracy: 0.1829 - auc_41: 0.5383 - precision_41: 0.4615 - recall_41: 0.0171 - f1_score: 0.0912 - val_loss: 1.5887 - val_accuracy: 0.3943 - val_auc_41: 0.5218 - val_precision_41: 0.6000 - val_recall_41: 0.0171 - val_f1_score: 0.1140 - 811ms/epoch - 406ms/step\n",
      "Epoch 11/50\n",
      "2/2 - 1s - loss: 1.5993 - accuracy: 0.4486 - auc_41: 0.5575 - precision_41: 0.5556 - recall_41: 0.0143 - f1_score: 0.1244 - val_loss: 1.5922 - val_accuracy: 0.3943 - val_auc_41: 0.6235 - val_precision_41: 1.0000 - val_recall_41: 0.0057 - val_f1_score: 0.1314 - 915ms/epoch - 457ms/step\n",
      "Epoch 12/50\n",
      "2/2 - 1s - loss: 1.5932 - accuracy: 0.4486 - auc_41: 0.6534 - precision_41: 0.3333 - recall_41: 0.0029 - f1_score: 0.1384 - val_loss: 1.5928 - val_accuracy: 0.4000 - val_auc_41: 0.6236 - val_precision_41: 1.0000 - val_recall_41: 0.0114 - val_f1_score: 0.1326 - 910ms/epoch - 455ms/step\n"
     ]
    },
    {
     "data": {
      "image/png": "[encoded data removed]",
      "text/plain": [
       "<Figure size 432x288 with 1 Axes>"
      ]
     },
     "metadata": {
      "needs_background": "light"
     },
     "output_type": "display_data"
    },
    {
     "name": "stdout",
     "output_type": "stream",
     "text": [
      "Epoch 1/50\n",
      "2/2 - 4s - loss: 84.4419 - accuracy: 0.2371 - auc_42: 0.5250 - precision_42: 0.2371 - recall_42: 0.2371 - f1_score: 0.1521 - val_loss: 207.7756 - val_accuracy: 0.1543 - val_auc_42: 0.4714 - val_precision_42: 0.1543 - val_recall_42: 0.1543 - val_f1_score: 0.0535 - 4s/epoch - 2s/step\n",
      "Epoch 2/50\n",
      "2/2 - 1s - loss: 169.3231 - accuracy: 0.1800 - auc_42: 0.4746 - precision_42: 0.1800 - recall_42: 0.1800 - f1_score: 0.0667 - val_loss: 64.0928 - val_accuracy: 0.3486 - val_auc_42: 0.5908 - val_precision_42: 0.3486 - val_recall_42: 0.3486 - val_f1_score: 0.1124 - 873ms/epoch - 437ms/step\n",
      "Epoch 3/50\n",
      "2/2 - 1s - loss: 81.6224 - accuracy: 0.2943 - auc_42: 0.5588 - precision_42: 0.2943 - recall_42: 0.2943 - f1_score: 0.1356 - val_loss: 64.2418 - val_accuracy: 0.4229 - val_auc_42: 0.6393 - val_precision_42: 0.4229 - val_recall_42: 0.4229 - val_f1_score: 0.1189 - 957ms/epoch - 479ms/step\n",
      "Epoch 4/50\n",
      "2/2 - 1s - loss: 74.4465 - accuracy: 0.4371 - auc_42: 0.6477 - precision_42: 0.4371 - recall_42: 0.4371 - f1_score: 0.1293 - val_loss: 42.4303 - val_accuracy: 0.3486 - val_auc_42: 0.7190 - val_precision_42: 0.3486 - val_recall_42: 0.3486 - val_f1_score: 0.1200 - 878ms/epoch - 439ms/step\n",
      "Epoch 5/50\n",
      "2/2 - 1s - loss: 50.2811 - accuracy: 0.2943 - auc_42: 0.6586 - precision_42: 0.2943 - recall_42: 0.2943 - f1_score: 0.1105 - val_loss: 26.2441 - val_accuracy: 0.3600 - val_auc_42: 0.7200 - val_precision_42: 0.3600 - val_recall_42: 0.3600 - val_f1_score: 0.1412 - 853ms/epoch - 426ms/step\n",
      "Epoch 6/50\n",
      "2/2 - 1s - loss: 29.9981 - accuracy: 0.3229 - auc_42: 0.6818 - precision_42: 0.3229 - recall_42: 0.3229 - f1_score: 0.1519 - val_loss: 14.4110 - val_accuracy: 0.4229 - val_auc_42: 0.7287 - val_precision_42: 0.4195 - val_recall_42: 0.4171 - val_f1_score: 0.1303 - 963ms/epoch - 481ms/step\n",
      "Epoch 7/50\n",
      "2/2 - 1s - loss: 15.2352 - accuracy: 0.4257 - auc_42: 0.7001 - precision_42: 0.4164 - recall_42: 0.4057 - f1_score: 0.1338 - val_loss: 5.4569 - val_accuracy: 0.4229 - val_auc_42: 0.7137 - val_precision_42: 0.4155 - val_recall_42: 0.3371 - val_f1_score: 0.1644 - 859ms/epoch - 430ms/step\n",
      "Epoch 8/50\n",
      "2/2 - 1s - loss: 4.6235 - accuracy: 0.4057 - auc_42: 0.7033 - precision_42: 0.4353 - recall_42: 0.3171 - f1_score: 0.1751 - val_loss: 1.6757 - val_accuracy: 0.2686 - val_auc_42: 0.6623 - val_precision_42: 0.4286 - val_recall_42: 0.1029 - val_f1_score: 0.1796 - 981ms/epoch - 490ms/step\n",
      "Epoch 9/50\n",
      "2/2 - 1s - loss: 1.5923 - accuracy: 0.3029 - auc_42: 0.6407 - precision_42: 0.4884 - recall_42: 0.0600 - f1_score: 0.1820 - val_loss: 1.5694 - val_accuracy: 0.1771 - val_auc_42: 0.5254 - val_precision_42: 1.0000 - val_recall_42: 0.0229 - val_f1_score: 0.1070 - 847ms/epoch - 423ms/step\n",
      "Epoch 10/50\n",
      "2/2 - 1s - loss: 1.5874 - accuracy: 0.2086 - auc_42: 0.5177 - precision_42: 1.0000 - recall_42: 0.0114 - f1_score: 0.0908 - val_loss: 1.5744 - val_accuracy: 0.1714 - val_auc_42: 0.5170 - val_precision_42: 1.0000 - val_recall_42: 0.0229 - val_f1_score: 0.1014 - 957ms/epoch - 478ms/step\n",
      "Epoch 11/50\n",
      "2/2 - 1s - loss: 1.5893 - accuracy: 0.2057 - auc_42: 0.5145 - precision_42: 1.0000 - recall_42: 0.0114 - f1_score: 0.0899 - val_loss: 1.5804 - val_accuracy: 0.1714 - val_auc_42: 0.4895 - val_precision_42: 1.0000 - val_recall_42: 0.0171 - val_f1_score: 0.1014 - 877ms/epoch - 438ms/step\n"
     ]
    },
    {
     "data": {
      "image/png": "[encoded data removed]",
      "text/plain": [
       "<Figure size 432x288 with 1 Axes>"
      ]
     },
     "metadata": {
      "needs_background": "light"
     },
     "output_type": "display_data"
    },
    {
     "name": "stdout",
     "output_type": "stream",
     "text": [
      "Epoch 1/50\n",
      "2/2 - 4s - loss: 180.2942 - accuracy: 0.2771 - auc_43: 0.5482 - precision_43: 0.2771 - recall_43: 0.2771 - f1_score: 0.1333 - val_loss: 333.6114 - val_accuracy: 0.4743 - val_auc_43: 0.6714 - val_precision_43: 0.4743 - val_recall_43: 0.4743 - val_f1_score: 0.1287 - 4s/epoch - 2s/step\n",
      "Epoch 2/50\n",
      "2/2 - 1s - loss: 362.6974 - accuracy: 0.4114 - auc_43: 0.6321 - precision_43: 0.4114 - recall_43: 0.4114 - f1_score: 0.1166 - val_loss: 150.9545 - val_accuracy: 0.3771 - val_auc_43: 0.6142 - val_precision_43: 0.3771 - val_recall_43: 0.3771 - val_f1_score: 0.1304 - 994ms/epoch - 497ms/step\n",
      "Epoch 3/50\n",
      "2/2 - 1s - loss: 163.6595 - accuracy: 0.2257 - auc_43: 0.5120 - precision_43: 0.2257 - recall_43: 0.2257 - f1_score: 0.0981 - val_loss: 70.1972 - val_accuracy: 0.0857 - val_auc_43: 0.4178 - val_precision_43: 0.0857 - val_recall_43: 0.0857 - val_f1_score: 0.0316 - 887ms/epoch - 443ms/step\n",
      "Epoch 4/50\n",
      "2/2 - 1s - loss: 73.7240 - accuracy: 0.1571 - auc_43: 0.4788 - precision_43: 0.1571 - recall_43: 0.1571 - f1_score: 0.0858 - val_loss: 39.5283 - val_accuracy: 0.4743 - val_auc_43: 0.6714 - val_precision_43: 0.4743 - val_recall_43: 0.4743 - val_f1_score: 0.1287 - 959ms/epoch - 480ms/step\n",
      "Epoch 5/50\n",
      "2/2 - 1s - loss: 41.5812 - accuracy: 0.4114 - auc_43: 0.6321 - precision_43: 0.4114 - recall_43: 0.4114 - f1_score: 0.1166 - val_loss: 19.5360 - val_accuracy: 0.4743 - val_auc_43: 0.6714 - val_precision_43: 0.4743 - val_recall_43: 0.4743 - val_f1_score: 0.1287 - 786ms/epoch - 393ms/step\n",
      "Epoch 6/50\n",
      "2/2 - 1s - loss: 19.8505 - accuracy: 0.4114 - auc_43: 0.6321 - precision_43: 0.4114 - recall_43: 0.4114 - f1_score: 0.1166 - val_loss: 7.2529 - val_accuracy: 0.4743 - val_auc_43: 0.6712 - val_precision_43: 0.4743 - val_recall_43: 0.4743 - val_f1_score: 0.1287 - 839ms/epoch - 419ms/step\n",
      "Epoch 7/50\n",
      "2/2 - 1s - loss: 7.2035 - accuracy: 0.4114 - auc_43: 0.6341 - precision_43: 0.4114 - recall_43: 0.4114 - f1_score: 0.1166 - val_loss: 1.9859 - val_accuracy: 0.4743 - val_auc_43: 0.7154 - val_precision_43: 0.4744 - val_recall_43: 0.4229 - val_f1_score: 0.1292 - 827ms/epoch - 414ms/step\n",
      "Epoch 8/50\n",
      "2/2 - 1s - loss: 2.3909 - accuracy: 0.3429 - auc_43: 0.6419 - precision_43: 0.3630 - recall_43: 0.3143 - f1_score: 0.1445 - val_loss: 2.6545 - val_accuracy: 0.1886 - val_auc_43: 0.5495 - val_precision_43: 0.2000 - val_recall_43: 0.1371 - val_f1_score: 0.0784 - 806ms/epoch - 403ms/step\n",
      "Epoch 9/50\n",
      "2/2 - 1s - loss: 2.8463 - accuracy: 0.1800 - auc_43: 0.5114 - precision_43: 0.1573 - recall_43: 0.1114 - f1_score: 0.0816 - val_loss: 2.1060 - val_accuracy: 0.2514 - val_auc_43: 0.5659 - val_precision_43: 0.2208 - val_recall_43: 0.0971 - val_f1_score: 0.1473 - 968ms/epoch - 484ms/step\n"
     ]
    },
    {
     "data": {
      "image/png": "[encoded data removed]",
      "text/plain": [
       "<Figure size 432x288 with 1 Axes>"
      ]
     },
     "metadata": {
      "needs_background": "light"
     },
     "output_type": "display_data"
    }
   ],
   "source": [
    "model3 = build_convLSTM(n_features, n_length, n_outputs, y_train.shape[1])\n",
    "for train_index, val_index in kf.split(X):\n",
    "    X_train, X_val = X[train_index], X[val_index]\n",
    "    y_train, y_val = y[train_index], y[val_index]\n",
    "    model3 = build_convLSTM(n_features, n_length, n_outputs, y_train.shape[1])\n",
    "    history = train(model3, X_train, y_train, X_val, y_val, epochs=epochs, batch_size=batch_size)\n",
    "    plt.plot(history.history['loss'])\n",
    "    plt.show()"
   ]
  },
  {
   "cell_type": "code",
   "execution_count": 52,
   "metadata": {},
   "outputs": [],
   "source": [
    "member3 = KerasMember(name=\"ConvLSTM\", keras_model=model3,\n",
    "    train_batches=(X_train, y_train),\n",
    "    val_batches=(X_test, y_test))"
   ]
  },
  {
   "cell_type": "markdown",
   "metadata": {},
   "source": [
    "### Train RCNN (with early fusion)"
   ]
  },
  {
   "cell_type": "code",
   "execution_count": 53,
   "metadata": {},
   "outputs": [
    {
     "name": "stdout",
     "output_type": "stream",
     "text": [
      "Epoch 1/50\n",
      "2/2 - 3s - loss: 5.9847 - accuracy: 0.2400 - auc_45: 0.5550 - precision_45: 0.3512 - recall_45: 0.1686 - f1_score: 0.1687 - val_loss: 1574.5132 - val_accuracy: 0.3029 - val_auc_45: 0.5643 - val_precision_45: 0.3029 - val_recall_45: 0.3029 - val_f1_score: 0.0930 - 3s/epoch - 1s/step\n",
      "Epoch 2/50\n",
      "2/2 - 1s - loss: 22.3174 - accuracy: 0.3371 - auc_45: 0.6136 - precision_45: 0.3363 - recall_45: 0.3286 - f1_score: 0.1602 - val_loss: 703.2117 - val_accuracy: 0.3943 - val_auc_45: 0.6214 - val_precision_45: 0.3943 - val_recall_45: 0.3943 - val_f1_score: 0.1131 - 1s/epoch - 585ms/step\n",
      "Epoch 3/50\n",
      "2/2 - 1s - loss: 14.3469 - accuracy: 0.4629 - auc_45: 0.6836 - precision_45: 0.4633 - recall_45: 0.4514 - f1_score: 0.1754 - val_loss: 475.5380 - val_accuracy: 0.3943 - val_auc_45: 0.6214 - val_precision_45: 0.3943 - val_recall_45: 0.3943 - val_f1_score: 0.1131 - 920ms/epoch - 460ms/step\n",
      "Epoch 4/50\n",
      "2/2 - 1s - loss: 11.7029 - accuracy: 0.4514 - auc_45: 0.6781 - precision_45: 0.4608 - recall_45: 0.4371 - f1_score: 0.1652 - val_loss: 190.8236 - val_accuracy: 0.1257 - val_auc_45: 0.4618 - val_precision_45: 0.1257 - val_recall_45: 0.1257 - val_f1_score: 0.0591 - 945ms/epoch - 473ms/step\n",
      "Epoch 5/50\n",
      "2/2 - 1s - loss: 6.0808 - accuracy: 0.3686 - auc_45: 0.6667 - precision_45: 0.3795 - recall_45: 0.3286 - f1_score: 0.1873 - val_loss: 113.0428 - val_accuracy: 0.1143 - val_auc_45: 0.4464 - val_precision_45: 0.1143 - val_recall_45: 0.1143 - val_f1_score: 0.0410 - 985ms/epoch - 492ms/step\n",
      "Epoch 6/50\n",
      "2/2 - 2s - loss: 3.6458 - accuracy: 0.3086 - auc_45: 0.6426 - precision_45: 0.3396 - recall_45: 0.2571 - f1_score: 0.2247 - val_loss: 102.1137 - val_accuracy: 0.1829 - val_auc_45: 0.4917 - val_precision_45: 0.1829 - val_recall_45: 0.1829 - val_f1_score: 0.0618 - 2s/epoch - 763ms/step\n",
      "Epoch 7/50\n",
      "2/2 - 1s - loss: 4.0554 - accuracy: 0.2686 - auc_45: 0.5948 - precision_45: 0.2743 - recall_45: 0.2257 - f1_score: 0.2156 - val_loss: 64.7806 - val_accuracy: 0.1829 - val_auc_45: 0.4893 - val_precision_45: 0.1829 - val_recall_45: 0.1829 - val_f1_score: 0.0618 - 1s/epoch - 552ms/step\n",
      "Epoch 8/50\n",
      "2/2 - 1s - loss: 2.9597 - accuracy: 0.3286 - auc_45: 0.6651 - precision_45: 0.3309 - recall_45: 0.2543 - f1_score: 0.2523 - val_loss: 24.7781 - val_accuracy: 0.2914 - val_auc_45: 0.5650 - val_precision_45: 0.2914 - val_recall_45: 0.2914 - val_f1_score: 0.1184 - 961ms/epoch - 481ms/step\n",
      "Epoch 9/50\n",
      "2/2 - 1s - loss: 2.0799 - accuracy: 0.4114 - auc_45: 0.7268 - precision_45: 0.4075 - recall_45: 0.3086 - f1_score: 0.2730 - val_loss: 27.1782 - val_accuracy: 0.3086 - val_auc_45: 0.5669 - val_precision_45: 0.3086 - val_recall_45: 0.3086 - val_f1_score: 0.1124 - 1s/epoch - 541ms/step\n",
      "Epoch 10/50\n",
      "2/2 - 1s - loss: 2.1202 - accuracy: 0.4029 - auc_45: 0.7391 - precision_45: 0.4254 - recall_45: 0.3257 - f1_score: 0.2372 - val_loss: 16.4823 - val_accuracy: 0.2914 - val_auc_45: 0.5927 - val_precision_45: 0.2914 - val_recall_45: 0.2914 - val_f1_score: 0.1214 - 916ms/epoch - 458ms/step\n",
      "Epoch 11/50\n",
      "2/2 - 1s - loss: 1.8294 - accuracy: 0.4400 - auc_45: 0.7681 - precision_45: 0.4704 - recall_45: 0.3629 - f1_score: 0.2516 - val_loss: 19.7645 - val_accuracy: 0.3943 - val_auc_45: 0.6214 - val_precision_45: 0.3943 - val_recall_45: 0.3943 - val_f1_score: 0.1131 - 946ms/epoch - 473ms/step\n",
      "Epoch 12/50\n",
      "2/2 - 1s - loss: 1.7331 - accuracy: 0.4771 - auc_45: 0.7861 - precision_45: 0.5078 - recall_45: 0.3743 - f1_score: 0.2891 - val_loss: 24.2330 - val_accuracy: 0.3943 - val_auc_45: 0.6214 - val_precision_45: 0.3943 - val_recall_45: 0.3943 - val_f1_score: 0.1131 - 887ms/epoch - 443ms/step\n"
     ]
    },
    {
     "data": {
      "image/png": "[encoded data removed]",
      "text/plain": [
       "<Figure size 432x288 with 1 Axes>"
      ]
     },
     "metadata": {
      "needs_background": "light"
     },
     "output_type": "display_data"
    },
    {
     "name": "stdout",
     "output_type": "stream",
     "text": [
      "Epoch 1/50\n",
      "2/2 - 2s - loss: 8.7127 - accuracy: 0.2686 - auc_46: 0.5376 - precision_46: 0.2865 - recall_46: 0.1457 - f1_score: 0.1603 - val_loss: 670.0330 - val_accuracy: 0.1543 - val_auc_46: 0.4714 - val_precision_46: 0.1543 - val_recall_46: 0.1543 - val_f1_score: 0.0535 - 2s/epoch - 1s/step\n",
      "Epoch 2/50\n",
      "2/2 - 1s - loss: 9.0284 - accuracy: 0.3571 - auc_46: 0.6470 - precision_46: 0.3586 - recall_46: 0.3514 - f1_score: 0.1613 - val_loss: 504.6733 - val_accuracy: 0.4286 - val_auc_46: 0.6429 - val_precision_46: 0.4286 - val_recall_46: 0.4286 - val_f1_score: 0.1200 - 970ms/epoch - 485ms/step\n",
      "Epoch 3/50\n",
      "2/2 - 1s - loss: 10.0857 - accuracy: 0.4400 - auc_46: 0.6806 - precision_46: 0.4451 - recall_46: 0.4400 - f1_score: 0.1713 - val_loss: 451.7761 - val_accuracy: 0.1543 - val_auc_46: 0.4714 - val_precision_46: 0.1543 - val_recall_46: 0.1543 - val_f1_score: 0.0535 - 869ms/epoch - 435ms/step\n",
      "Epoch 4/50\n",
      "2/2 - 1s - loss: 6.5583 - accuracy: 0.3629 - auc_46: 0.6479 - precision_46: 0.3731 - recall_46: 0.3571 - f1_score: 0.2302 - val_loss: 280.6631 - val_accuracy: 0.0629 - val_auc_46: 0.4143 - val_precision_46: 0.0629 - val_recall_46: 0.0629 - val_f1_score: 0.0237 - 863ms/epoch - 432ms/step\n",
      "Epoch 5/50\n",
      "2/2 - 1s - loss: 4.8881 - accuracy: 0.3629 - auc_46: 0.6585 - precision_46: 0.3657 - recall_46: 0.3229 - f1_score: 0.2770 - val_loss: 94.7972 - val_accuracy: 0.3429 - val_auc_46: 0.5879 - val_precision_46: 0.3429 - val_recall_46: 0.3429 - val_f1_score: 0.1346 - 880ms/epoch - 440ms/step\n",
      "Epoch 6/50\n",
      "2/2 - 1s - loss: 2.6474 - accuracy: 0.4686 - auc_46: 0.7496 - precision_46: 0.5288 - recall_46: 0.4200 - f1_score: 0.3596 - val_loss: 69.2032 - val_accuracy: 0.3371 - val_auc_46: 0.5857 - val_precision_46: 0.3371 - val_recall_46: 0.3371 - val_f1_score: 0.1009 - 973ms/epoch - 487ms/step\n",
      "Epoch 7/50\n",
      "2/2 - 1s - loss: 2.1714 - accuracy: 0.4857 - auc_46: 0.7848 - precision_46: 0.5296 - recall_46: 0.4343 - f1_score: 0.3102 - val_loss: 68.1231 - val_accuracy: 0.4286 - val_auc_46: 0.6429 - val_precision_46: 0.4286 - val_recall_46: 0.4286 - val_f1_score: 0.1200 - 1s/epoch - 522ms/step\n",
      "Epoch 8/50\n",
      "2/2 - 1s - loss: 2.3080 - accuracy: 0.4714 - auc_46: 0.7815 - precision_46: 0.4951 - recall_46: 0.4314 - f1_score: 0.2808 - val_loss: 67.1823 - val_accuracy: 0.4286 - val_auc_46: 0.6429 - val_precision_46: 0.4286 - val_recall_46: 0.4286 - val_f1_score: 0.1200 - 1s/epoch - 553ms/step\n",
      "Epoch 9/50\n",
      "2/2 - 1s - loss: 2.0429 - accuracy: 0.4971 - auc_46: 0.7981 - precision_46: 0.5147 - recall_46: 0.4514 - f1_score: 0.3080 - val_loss: 36.1479 - val_accuracy: 0.4114 - val_auc_46: 0.6441 - val_precision_46: 0.4114 - val_recall_46: 0.4114 - val_f1_score: 0.1456 - 1s/epoch - 524ms/step\n",
      "Epoch 10/50\n",
      "2/2 - 1s - loss: 1.6941 - accuracy: 0.5029 - auc_46: 0.8004 - precision_46: 0.5379 - recall_46: 0.4457 - f1_score: 0.3259 - val_loss: 34.8341 - val_accuracy: 0.1486 - val_auc_46: 0.4673 - val_precision_46: 0.1486 - val_recall_46: 0.1486 - val_f1_score: 0.0523 - 996ms/epoch - 498ms/step\n",
      "Epoch 11/50\n",
      "2/2 - 1s - loss: 1.5581 - accuracy: 0.5114 - auc_46: 0.8020 - precision_46: 0.5455 - recall_46: 0.4114 - f1_score: 0.3684 - val_loss: 20.7641 - val_accuracy: 0.1771 - val_auc_46: 0.5004 - val_precision_46: 0.1754 - val_recall_46: 0.1714 - val_f1_score: 0.0869 - 856ms/epoch - 428ms/step\n",
      "Epoch 12/50\n",
      "2/2 - 1s - loss: 1.2309 - accuracy: 0.5743 - auc_46: 0.8406 - precision_46: 0.6118 - recall_46: 0.4457 - f1_score: 0.5219 - val_loss: 16.7228 - val_accuracy: 0.3371 - val_auc_46: 0.6211 - val_precision_46: 0.3371 - val_recall_46: 0.3371 - val_f1_score: 0.1177 - 871ms/epoch - 435ms/step\n",
      "Epoch 13/50\n",
      "2/2 - 1s - loss: 1.1088 - accuracy: 0.6000 - auc_46: 0.8644 - precision_46: 0.6570 - recall_46: 0.5200 - f1_score: 0.4416 - val_loss: 14.9377 - val_accuracy: 0.3543 - val_auc_46: 0.7069 - val_precision_46: 0.3543 - val_recall_46: 0.3543 - val_f1_score: 0.1905 - 1s/epoch - 523ms/step\n",
      "Epoch 14/50\n",
      "2/2 - 1s - loss: 1.1000 - accuracy: 0.6143 - auc_46: 0.8666 - precision_46: 0.6788 - recall_46: 0.5314 - f1_score: 0.4382 - val_loss: 16.1409 - val_accuracy: 0.4114 - val_auc_46: 0.6779 - val_precision_46: 0.4114 - val_recall_46: 0.4114 - val_f1_score: 0.1604 - 1s/epoch - 502ms/step\n",
      "Epoch 15/50\n",
      "2/2 - 1s - loss: 1.1128 - accuracy: 0.6286 - auc_46: 0.8804 - precision_46: 0.6865 - recall_46: 0.4943 - f1_score: 0.4411 - val_loss: 16.2054 - val_accuracy: 0.4286 - val_auc_46: 0.6553 - val_precision_46: 0.4286 - val_recall_46: 0.4286 - val_f1_score: 0.1585 - 1s/epoch - 573ms/step\n"
     ]
    },
    {
     "data": {
      "image/png": "[encoded data removed]",
      "text/plain": [
       "<Figure size 432x288 with 1 Axes>"
      ]
     },
     "metadata": {
      "needs_background": "light"
     },
     "output_type": "display_data"
    },
    {
     "name": "stdout",
     "output_type": "stream",
     "text": [
      "Epoch 1/50\n",
      "2/2 - 3s - loss: 4.5331 - accuracy: 0.3171 - auc_47: 0.5974 - precision_47: 0.4144 - recall_47: 0.2143 - f1_score: 0.1991 - val_loss: 623.9314 - val_accuracy: 0.2343 - val_auc_47: 0.5214 - val_precision_47: 0.2343 - val_recall_47: 0.2343 - val_f1_score: 0.0759 - 3s/epoch - 2s/step\n",
      "Epoch 2/50\n",
      "2/2 - 1s - loss: 10.2215 - accuracy: 0.3000 - auc_47: 0.6122 - precision_47: 0.2943 - recall_47: 0.2800 - f1_score: 0.2015 - val_loss: 282.8211 - val_accuracy: 0.2343 - val_auc_47: 0.5214 - val_precision_47: 0.2343 - val_recall_47: 0.2343 - val_f1_score: 0.0759 - 859ms/epoch - 430ms/step\n",
      "Epoch 3/50\n",
      "2/2 - 1s - loss: 4.9017 - accuracy: 0.4200 - auc_47: 0.7251 - precision_47: 0.4184 - recall_47: 0.4029 - f1_score: 0.2673 - val_loss: 156.2430 - val_accuracy: 0.4800 - val_auc_47: 0.6734 - val_precision_47: 0.4800 - val_recall_47: 0.4800 - val_f1_score: 0.1390 - 1s/epoch - 516ms/step\n",
      "Epoch 4/50\n",
      "2/2 - 1s - loss: 5.0418 - accuracy: 0.4400 - auc_47: 0.7366 - precision_47: 0.4497 - recall_47: 0.4343 - f1_score: 0.2123 - val_loss: 190.1111 - val_accuracy: 0.2343 - val_auc_47: 0.5214 - val_precision_47: 0.2343 - val_recall_47: 0.2343 - val_f1_score: 0.0759 - 1s/epoch - 557ms/step\n",
      "Epoch 5/50\n",
      "2/2 - 1s - loss: 3.3022 - accuracy: 0.4743 - auc_47: 0.7687 - precision_47: 0.4953 - recall_47: 0.4486 - f1_score: 0.2859 - val_loss: 105.8815 - val_accuracy: 0.2343 - val_auc_47: 0.5214 - val_precision_47: 0.2343 - val_recall_47: 0.2343 - val_f1_score: 0.0759 - 1s/epoch - 506ms/step\n",
      "Epoch 6/50\n",
      "2/2 - 1s - loss: 2.2959 - accuracy: 0.4343 - auc_47: 0.7641 - precision_47: 0.4525 - recall_47: 0.4086 - f1_score: 0.3256 - val_loss: 26.5879 - val_accuracy: 0.2114 - val_auc_47: 0.5193 - val_precision_47: 0.2114 - val_recall_47: 0.2114 - val_f1_score: 0.0853 - 908ms/epoch - 454ms/step\n",
      "Epoch 7/50\n",
      "2/2 - 1s - loss: 2.2096 - accuracy: 0.4143 - auc_47: 0.7506 - precision_47: 0.4463 - recall_47: 0.3914 - f1_score: 0.3105 - val_loss: 18.8167 - val_accuracy: 0.4229 - val_auc_47: 0.6775 - val_precision_47: 0.4229 - val_recall_47: 0.4229 - val_f1_score: 0.1610 - 973ms/epoch - 486ms/step\n",
      "Epoch 8/50\n",
      "2/2 - 1s - loss: 1.5425 - accuracy: 0.5143 - auc_47: 0.8117 - precision_47: 0.5630 - recall_47: 0.4343 - f1_score: 0.3552 - val_loss: 18.8116 - val_accuracy: 0.2800 - val_auc_47: 0.6240 - val_precision_47: 0.2800 - val_recall_47: 0.2800 - val_f1_score: 0.1307 - 900ms/epoch - 450ms/step\n",
      "Epoch 9/50\n",
      "2/2 - 1s - loss: 1.4168 - accuracy: 0.5286 - auc_47: 0.8321 - precision_47: 0.5907 - recall_47: 0.4743 - f1_score: 0.3341 - val_loss: 43.8351 - val_accuracy: 0.2343 - val_auc_47: 0.5214 - val_precision_47: 0.2343 - val_recall_47: 0.2343 - val_f1_score: 0.0759 - 859ms/epoch - 430ms/step\n",
      "Epoch 10/50\n",
      "2/2 - 1s - loss: 1.3134 - accuracy: 0.5571 - auc_47: 0.8400 - precision_47: 0.6198 - recall_47: 0.4657 - f1_score: 0.3685 - val_loss: 50.6150 - val_accuracy: 0.2343 - val_auc_47: 0.5214 - val_precision_47: 0.2343 - val_recall_47: 0.2343 - val_f1_score: 0.0759 - 932ms/epoch - 466ms/step\n"
     ]
    },
    {
     "data": {
      "image/png": "[encoded data removed]",
      "text/plain": [
       "<Figure size 432x288 with 1 Axes>"
      ]
     },
     "metadata": {
      "needs_background": "light"
     },
     "output_type": "display_data"
    }
   ],
   "source": [
    "model4 = build_RCNN(n_features, n_length, n_outputs, y_train.shape[1])\n",
    "for train_index, val_index in kf.split(X):\n",
    "    X_train, X_val = X[train_index], X[val_index]\n",
    "    y_train, y_val = y[train_index], y[val_index]\n",
    "    model4 = build_RCNN(n_features, n_length, n_outputs, y_train.shape[1])\n",
    "    history = train(model4, X_train, y_train, X_val, y_val, epochs=epochs, batch_size=batch_size)\n",
    "    plt.plot(history.history['loss'])\n",
    "    plt.show()"
   ]
  },
  {
   "cell_type": "code",
   "execution_count": 54,
   "metadata": {},
   "outputs": [],
   "source": [
    "member4 = KerasMember(name=\"RCNN\", keras_model=model4,\n",
    "    train_batches=(X_train, y_train),\n",
    "    val_batches=(X_test, y_test))"
   ]
  },
  {
   "cell_type": "markdown",
   "metadata": {},
   "source": [
    "### Evaluate Performances of Early Fusion approaches"
   ]
  },
  {
   "cell_type": "code",
   "execution_count": 55,
   "metadata": {},
   "outputs": [
    {
     "name": "stdout",
     "output_type": "stream",
     "text": [
      "Bidirectional LSTM:\n",
      "AUC: 0.52 - Accuracy: 24.44% - Precision: 0.00 - Recall: 0.00 - F1 score: 0.08\n",
      "\n",
      "CNN+LSTM:\n",
      "AUC: 0.51 - Accuracy: 24.44% - Precision: 0.00 - Recall: 0.00 - F1 score: 0.07\n",
      "\n",
      "Convolutional LSTM:\n",
      "AUC: 0.59 - Accuracy: 21.11% - Precision: 0.24 - Recall: 0.14 - F1 score: 0.12\n",
      "\n",
      "RCNN:\n",
      "AUC: 0.43 - Accuracy: 8.89% - Precision: 0.09 - Recall: 0.09 - F1 score: 0.03\n"
     ]
    }
   ],
   "source": [
    "loss, accuracy, auc, precision, recall, f1 = model1.evaluate(X_test, y_test, batch_size=batch_size, verbose=0)\n",
    "score = accuracy * 100\n",
    "print('Bidirectional LSTM:')\n",
    "print('AUC:', round(auc, 2), '- Accuracy: %.2f%%' % score, '- Precision: %.2f' % precision, '- Recall: %.2f' % recall, '- F1 score: %.2f' % f1)\n",
    "\n",
    "loss, accuracy, auc, precision, recall, f1 = model2.evaluate(X_test, y_test, batch_size=batch_size, verbose=0)\n",
    "score = accuracy * 100\n",
    "print('\\nCNN+LSTM:')\n",
    "print('AUC:', round(auc, 2), '- Accuracy: %.2f%%' % score, '- Precision: %.2f' % precision, '- Recall: %.2f' % recall, '- F1 score: %.2f' % f1)\n",
    "\n",
    "loss, accuracy, auc, precision, recall, f1 = model3.evaluate(X_test, y_test, batch_size=batch_size, verbose=0)\n",
    "score = accuracy * 100\n",
    "print('\\nConvolutional LSTM:')\n",
    "print('AUC:', round(auc, 2), '- Accuracy: %.2f%%' % score, '- Precision: %.2f' % precision, '- Recall: %.2f' % recall, '- F1 score: %.2f' % f1)\n",
    "\n",
    "loss, accuracy, auc, precision, recall, f1 = model4.evaluate(X_test, y_test, batch_size=batch_size, verbose=0)\n",
    "score = accuracy * 100\n",
    "print('\\nRCNN:')\n",
    "print('AUC:', round(auc, 2), '- Accuracy: %.2f%%' % score, '- Precision: %.2f' % precision, '- Recall: %.2f' % recall, '- F1 score: %.2f' % f1)"
   ]
  },
  {
   "cell_type": "markdown",
   "metadata": {},
   "source": [
    "### Stacking Ensemble"
   ]
  },
  {
   "cell_type": "code",
   "execution_count": 56,
   "metadata": {},
   "outputs": [],
   "source": [
    "stack = StackEnsemble()\n",
    "stack.add_member(member1)\n",
    "stack.add_member(member2)\n",
    "stack.add_member(member3)\n",
    "stack.add_member(member4)"
   ]
  },
  {
   "cell_type": "code",
   "execution_count": 57,
   "metadata": {},
   "outputs": [
    {
     "data": {
      "text/plain": [
       "RandomForestClassifier(max_depth=4, n_jobs=20)"
      ]
     },
     "execution_count": 57,
     "metadata": {},
     "output_type": "execute_result"
    }
   ],
   "source": [
    "stack.fit()"
   ]
  },
  {
   "cell_type": "code",
   "execution_count": 58,
   "metadata": {},
   "outputs": [
    {
     "name": "stdout",
     "output_type": "stream",
     "text": [
      "BiLSTM - ROC/AUC: 0.49, Accuracy: 24.44%, Precision: 0.05, Recall: 0.20, F1 score: 0.08 \n",
      "\n",
      "CNN+LSTM - ROC/AUC: 0.51, Accuracy: 24.44%, Precision: 0.05, Recall: 0.20, F1 score: 0.08 \n",
      "\n",
      "ConvLSTM - ROC/AUC: 0.50, Accuracy: 21.11%, Precision: 0.28, Recall: 0.17, F1 score: 0.11 \n",
      "\n",
      "RCNN - ROC/AUC: 0.51, Accuracy: 8.89%, Precision: 0.02, Recall: 0.20, F1 score: 0.03 \n",
      "\n",
      "StackEnsemble - ROC/AUC: 0.50, Accuracy: 24.44%, Precision: 0.05, Recall: 0.20, F1 score: 0.08\n"
     ]
    }
   ],
   "source": [
    "stack_score = stack.describe()"
   ]
  },
  {
   "cell_type": "markdown",
   "metadata": {},
   "source": [
    "#### Dirichlet Markov Ensemble"
   ]
  },
  {
   "cell_type": "code",
   "execution_count": 59,
   "metadata": {},
   "outputs": [],
   "source": [
    "dirichletEnsemble = DirichletEnsemble()\n",
    "dirichletEnsemble.add_member(member1)\n",
    "dirichletEnsemble.add_member(member2)\n",
    "dirichletEnsemble.add_member(member3)\n",
    "dirichletEnsemble.add_member(member4)"
   ]
  },
  {
   "cell_type": "code",
   "execution_count": 60,
   "metadata": {},
   "outputs": [],
   "source": [
    "dirichletEnsemble.fit()"
   ]
  },
  {
   "cell_type": "code",
   "execution_count": 61,
   "metadata": {},
   "outputs": [
    {
     "name": "stdout",
     "output_type": "stream",
     "text": [
      "BiLSTM (weight: 0.0002) - ROC/AUC: 0.49, Accuracy: 24.44%, Precision: 0.05, Recall: 0.20, F1 score: 0.08 \n",
      "\n",
      "CNN+LSTM (weight: 0.3066) - ROC/AUC: 0.51, Accuracy: 24.44%, Precision: 0.05, Recall: 0.20, F1 score: 0.08 \n",
      "\n",
      "ConvLSTM (weight: 0.6582) - ROC/AUC: 0.50, Accuracy: 21.11%, Precision: 0.28, Recall: 0.17, F1 score: 0.11 \n",
      "\n",
      "RCNN (weight: 0.0350) - ROC/AUC: 0.51, Accuracy: 8.89%, Precision: 0.02, Recall: 0.20, F1 score: 0.03 \n",
      "\n",
      "DirichletEnsemble - ROC/AUC: 0.50, Accuracy: 26.67%, Precision: 0.28, Recall: 0.26, F1 score: 0.14\n"
     ]
    }
   ],
   "source": [
    "dirichletEnsemble.describe()"
   ]
  },
  {
   "cell_type": "markdown",
   "metadata": {},
   "source": [
    "## 3. Late Fusion - Fusion is performed at decision level\n",
    "\n",
    "In late fusion, uni-modal classifiers are trained individually and their predictions are aggregated somehow. \n",
    "I consider two types of late fusion approaches:\n",
    "\n",
    "1. Using meta-learner ensembles; and \n",
    "\n",
    "Each ensemble member provides predictions to train a meta-learner (ensemble) and that ensemble is in charge of producing the final classification. I have tested a Stacking Ensemble with Majority voting, and a Dirichlet Markov Ensemble with weighted soft voting.\n",
    "\n",
    "A drawback with the ensemble approach is that I only work with two modalities => no ensemble if one modality is missing. It would have been more interesting with 3+ modalities. Additionally, I can't use models that require different input shapes which is slightly limiting.\n",
    "\n",
    "Another drawback could be that I'm unsure how diverse my ensemble members are, and a lack of diversity could result in them making the same errors and wrong guesses => no real improvement in performance.\n",
    "\n",
    "2. Model-free approaches where fusion is performed at decision level. "
   ]
  },
  {
   "cell_type": "code",
   "execution_count": null,
   "metadata": {},
   "outputs": [],
   "source": []
  }
 ],
 "metadata": {
  "interpreter": {
   "hash": "225abd0b4b41c85229fb7285a24282bb8b7c5c494a1c5011beaea88d2c1fa3cf"
  },
  "kernelspec": {
   "display_name": "Python 3.9.10 ('masters-thesis-dSEc-4wZ')",
   "language": "python",
   "name": "python3"
  },
  "language_info": {
   "codemirror_mode": {
    "name": "ipython",
    "version": 3
   },
   "file_extension": ".py",
   "mimetype": "text/x-python",
   "name": "python",
   "nbconvert_exporter": "python",
   "pygments_lexer": "ipython3",
   "version": "3.9.10"
  },
  "orig_nbformat": 4
 },
 "nbformat": 4,
 "nbformat_minor": 2
}
