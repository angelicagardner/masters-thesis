{
 "cells": [
  {
   "cell_type": "markdown",
   "metadata": {},
   "source": [
    "# Baseline Results for Multi-modal Approaches"
   ]
  },
  {
   "cell_type": "code",
   "execution_count": 1,
   "metadata": {},
   "outputs": [],
   "source": [
    "import os\n",
    "os.environ['TF_CPP_MIN_LOG_LEVEL'] = '3'\n",
    "import warnings\n",
    "warnings.filterwarnings(\"ignore\")\n",
    "\n",
    "import numpy as np\n",
    "import pandas as pd\n",
    "import matplotlib.pyplot as plt\n",
    "import tensorflow as tf \n",
    "\n",
    "from pathlib import Path\n",
    "from sklearn.preprocessing import LabelBinarizer\n",
    "from sklearn.model_selection import KFold\n",
    "from tensorflow.keras import optimizers\n",
    "from tensorflow.keras.layers import LSTM, Dense, Flatten, TimeDistributed, Conv1D,  MaxPooling1D, ConvLSTM1D, BatchNormalization, Bidirectional, Dropout, PReLU\n",
    "from tensorflow.keras import models\n",
    "from tensorflow.keras.initializers import Constant\n",
    "\n",
    "from src.lib.DeepStack.deepstack.base import KerasMember\n",
    "from src.lib.DeepStack.deepstack.ensemble import StackEnsemble\n",
    "from src.lib.DeepStack.deepstack.ensemble import DirichletEnsemble"
   ]
  },
  {
   "cell_type": "code",
   "execution_count": 2,
   "metadata": {},
   "outputs": [],
   "source": [
    "accuracies = []\n",
    "aucs = []\n",
    "model_names = ['1.1 Bidirectional LSTM', '1.1 CNN+LSTM', '1.1 Convolutional LSTM', '1.1 RCNN (Recurrent CNN)', '1.2 Bidirectional LSTM', '1.2 CNN+LSTM', '1.2 Convolutional LSTM', '1.2 RCNN (Recurrent CNN)']"
   ]
  },
  {
   "cell_type": "code",
   "execution_count": 3,
   "metadata": {},
   "outputs": [],
   "source": [
    "def load_file(file, prediction_type):\n",
    "    df = pd.read_csv(file, header=0)\n",
    "    labels = df[prediction_type]\n",
    "    df = df.drop(columns=['pain_area', 'pain_level'])\n",
    "    df.drop(df.columns[-1], axis=1, inplace=True)\n",
    "    return df.to_numpy(), labels\n",
    "\n",
    "def load_dataset(input_filepath, prediction_type, modality):\n",
    "    root_dir = Path(os.path.abspath('')).parent\n",
    "    data_dir = root_dir / 'data'\n",
    "    train_filepath = data_dir / input_filepath / 'train' / modality\n",
    "    test_filepath = data_dir / input_filepath / 'test' / modality\n",
    "    # 1. Load train data\n",
    "    X = list()\n",
    "    y = list()\n",
    "    for file in train_filepath.iterdir():\n",
    "        if file.is_file() and file.name.endswith('.csv'):\n",
    "            x, labels = load_file(file, prediction_type)\n",
    "            X.append(x)\n",
    "            y.append(labels[0])\n",
    "    n_length = X[0].shape[0]\n",
    "    n_features = X[0].shape[1]\n",
    "    X = np.array(X)\n",
    "    X_train = X.reshape((len(X), 1, n_length, n_features))\n",
    "    lb = LabelBinarizer()\n",
    "    y_train = lb.fit_transform(y)\n",
    "    # 2. Load test data\n",
    "    X = list()\n",
    "    y = list()\n",
    "    for file in test_filepath.iterdir():\n",
    "        if file.is_file() and file.name.endswith('.csv'):\n",
    "            x, labels = load_file(file, prediction_type)\n",
    "            X.append(x)\n",
    "            y.append(labels[0])\n",
    "    n_length = X[0].shape[0]\n",
    "    n_features = X[0].shape[1]\n",
    "    X = np.array(X)\n",
    "    X_test = X.reshape((len(X), 1, n_length, n_features))\n",
    "    y_test = lb.transform(y)\n",
    "    return X_train, X_test, y_train, y_test"
   ]
  },
  {
   "cell_type": "markdown",
   "metadata": {},
   "source": [
    "## 1. Create Model Architectures (Uni-modal approaches / Ensemble members)"
   ]
  },
  {
   "cell_type": "markdown",
   "metadata": {},
   "source": [
    "### Bidirectional LSTM Model"
   ]
  },
  {
   "cell_type": "code",
   "execution_count": 4,
   "metadata": {},
   "outputs": [],
   "source": [
    "def get_biConvLSTM(n_features, n_length, n_outputs):\n",
    "    model = models.Sequential()\n",
    "    model.add(Bidirectional(ConvLSTM1D(filters=64, kernel_size=(3), activation='relu', input_shape=(None, n_length, n_features))))\n",
    "    model.add(Flatten())\n",
    "    model.add(Dense(100, activation='relu'))\n",
    "    model.add(Dense(n_outputs, activation='softmax'))\n",
    "    lr_schedule = optimizers.schedules.ExponentialDecay(\n",
    "        initial_learning_rate=0.001,\n",
    "        decay_steps=50,\n",
    "        decay_rate=0.1)\n",
    "    optimizer = optimizers.Adam(learning_rate=lr_schedule)\n",
    "    model.compile(loss='categorical_crossentropy',\n",
    "        optimizer=optimizer, metrics=['accuracy', tf.keras.metrics.AUC()])\n",
    "    return model\n",
    "\n",
    "def train(model, X_train, y_train, X_val, y_val, epochs, batch_size):\n",
    "    early_stopping = tf.keras.callbacks.EarlyStopping(\n",
    "        monitor='val_loss', patience=2)\n",
    "    history = model.fit(X_train, y_train, validation_data=(X_val, y_val), epochs=epochs, callbacks=[early_stopping],\n",
    "        batch_size=batch_size, verbose=2)\n",
    "    return history"
   ]
  },
  {
   "cell_type": "markdown",
   "metadata": {},
   "source": [
    "### CNN+LSTM Model"
   ]
  },
  {
   "cell_type": "code",
   "execution_count": 5,
   "metadata": {},
   "outputs": [],
   "source": [
    "def get_CNN(n_features, n_length, n_outputs):\n",
    "    model = models.Sequential()\n",
    "    model.add(TimeDistributed(Conv1D(filters=64, kernel_size=3,\n",
    "        activation='relu'), input_shape=(None, n_length, n_features)))\n",
    "    model.add(TimeDistributed(MaxPooling1D(pool_size=2, data_format='channels_first')))\n",
    "    model.add(TimeDistributed(Flatten()))\n",
    "    model.add(LSTM(100))\n",
    "    model.add(Dense(100, activation='relu'))\n",
    "    model.add(Dense(n_outputs, activation='softmax'))\n",
    "    lr_schedule = optimizers.schedules.ExponentialDecay(\n",
    "        initial_learning_rate=0.001,\n",
    "        decay_steps=50,\n",
    "        decay_rate=0.1)\n",
    "    optimizer = optimizers.Adam(learning_rate=lr_schedule)\n",
    "    model.compile(loss='categorical_crossentropy',\n",
    "        optimizer=optimizer, metrics=['accuracy', tf.keras.metrics.AUC()])\n",
    "    return model"
   ]
  },
  {
   "cell_type": "markdown",
   "metadata": {},
   "source": [
    "### Convolutional LSTM Model"
   ]
  },
  {
   "cell_type": "code",
   "execution_count": 6,
   "metadata": {},
   "outputs": [],
   "source": [
    "def get_convLSTM(n_features, n_length, n_outputs):\n",
    "    model = models.Sequential()\n",
    "    model.add(ConvLSTM1D(filters=64, kernel_size=(3), activation='relu', input_shape=(None, n_length, n_features)))\n",
    "    model.add(Flatten())\n",
    "    model.add(Dense(100, activation='relu'))\n",
    "    model.add(Dense(n_outputs, activation='softmax'))\n",
    "    lr_schedule = optimizers.schedules.ExponentialDecay(\n",
    "        initial_learning_rate=0.001,\n",
    "        decay_steps=50,\n",
    "        decay_rate=0.1)\n",
    "    optimizer = optimizers.Adam(learning_rate=lr_schedule)\n",
    "    model.compile(loss='categorical_crossentropy',\n",
    "        optimizer=optimizer, metrics=['accuracy', tf.keras.metrics.AUC()])\n",
    "    return model"
   ]
  },
  {
   "cell_type": "markdown",
   "metadata": {},
   "source": [
    "### RCNN (Recurrent CNN) Model"
   ]
  },
  {
   "cell_type": "code",
   "execution_count": 7,
   "metadata": {},
   "outputs": [],
   "source": [
    "def get_RCNN(n_features, n_length, n_outputs):\n",
    "    model = models.Sequential()\n",
    "    model.add(TimeDistributed(Conv1D(filters=128, kernel_size=3, activation='relu'), input_shape=(1, n_length, n_features)))\n",
    "    model.add(BatchNormalization())\n",
    "    model.add(PReLU(alpha_initializer=Constant(value=0.25)))\n",
    "    model.add(TimeDistributed(MaxPooling1D(pool_size=2, data_format='channels_first')))\n",
    "    model.add(TimeDistributed(Conv1D(filters=64, kernel_size=3, activation='relu')))\n",
    "    model.add(BatchNormalization())\n",
    "    model.add(PReLU(alpha_initializer=Constant(value=0.25)))\n",
    "    model.add(TimeDistributed(MaxPooling1D(pool_size=2, data_format='channels_first')))\n",
    "    model.add(Flatten())\n",
    "    model.add(Dense(256))\n",
    "    model.add(PReLU(alpha_initializer=Constant(value=0.25)))\n",
    "    model.add(Dense(n_outputs, activation='softmax'))\n",
    "    lr_schedule = optimizers.schedules.ExponentialDecay(\n",
    "        initial_learning_rate=0.001,\n",
    "        decay_steps=50,\n",
    "        decay_rate=0.1)\n",
    "    optimizer = optimizers.Adam(learning_rate=lr_schedule)\n",
    "    model.compile(loss='categorical_crossentropy',\n",
    "       optimizer=optimizer, metrics=['accuracy', tf.keras.metrics.AUC()])\n",
    "    return model"
   ]
  },
  {
   "cell_type": "markdown",
   "metadata": {},
   "source": [
    "## 2. Early Fusion - Fusion is performed at feature level\n",
    "\n",
    "Early fusion concatenates features at the input level, then all the work is on the classifier. \n",
    "\n",
    "My initial assumption is that perhaps early fusion is not a good idea because face modality is missing about half the times?"
   ]
  },
  {
   "cell_type": "markdown",
   "metadata": {},
   "source": [
    "### 1.1 Pain area prediction"
   ]
  },
  {
   "cell_type": "markdown",
   "metadata": {},
   "source": [
    "#### Method to concatenate the datasets (skeleton + action units)"
   ]
  },
  {
   "cell_type": "code",
   "execution_count": 8,
   "metadata": {},
   "outputs": [],
   "source": [
    "def apply_early_fusion(input_filepath, prediction_type):\n",
    "    root_dir = Path(os.path.abspath('')).parent\n",
    "    data_dir = root_dir / 'data'\n",
    "    body_train_filepath = data_dir / input_filepath / 'train' / 'skeleton'\n",
    "    body_test_filepath = data_dir / input_filepath / 'test' / 'skeleton'\n",
    "    face_train_filepath = data_dir / input_filepath / 'train' / 'AUs'\n",
    "    face_test_filepath = data_dir / input_filepath / 'test' / 'AUs'\n",
    "    # 1. Load train data\n",
    "    X = list()\n",
    "    y = list()\n",
    "    for file in body_train_filepath.iterdir():\n",
    "        if file.is_file() and file.name.endswith('.csv'):\n",
    "            body_x, body_labels = load_file(file, prediction_type)\n",
    "            has_equivalent_face_file = False\n",
    "            for second_file in face_train_filepath.iterdir():\n",
    "                if second_file.is_file() and second_file.name.endswith('.csv') and second_file.name == file.name:\n",
    "                    # Concatenate features\n",
    "                    face_x, face_labels = load_file(second_file, prediction_type)\n",
    "                    full_X = np.concatenate((body_x, face_x), axis=1)\n",
    "                    X.append(full_X)\n",
    "                    y.append(body_labels[0])\n",
    "                    has_equivalent_face_file = True\n",
    "                    break\n",
    "            if not has_equivalent_face_file:\n",
    "                # Add null values to the face features\n",
    "                full_X = np.concatenate((body_x, np.zeros((body_x.shape[0], 10))), axis=1)\n",
    "                X.append(full_X)\n",
    "                y.append(body_labels[0])\n",
    "    n_length = X[0].shape[0]\n",
    "    n_features = X[0].shape[1]\n",
    "    X = np.array(X)\n",
    "    X_train = X.reshape((len(X), 1, n_length, n_features))\n",
    "    lb = LabelBinarizer()\n",
    "    y_train = lb.fit_transform(y)\n",
    "    # 2. Load test data\n",
    "    X = list()\n",
    "    y = list()\n",
    "    for file in body_test_filepath.iterdir():\n",
    "        if file.is_file() and file.name.endswith('.csv'):\n",
    "            body_x, body_labels = load_file(file, prediction_type)\n",
    "            has_equivalent_face_file = False\n",
    "            for second_file in face_test_filepath.iterdir():\n",
    "                if second_file.is_file() and second_file.name.endswith('.csv') and second_file.name == file.name:\n",
    "                    # Concatenate features\n",
    "                    face_x, face_labels = load_file(second_file, prediction_type)\n",
    "                    full_X = np.concatenate((body_x, face_x), axis=1)\n",
    "                    X.append(full_X)\n",
    "                    y.append(body_labels[0])\n",
    "                    has_equivalent_face_file = True\n",
    "                    break\n",
    "            if not has_equivalent_face_file:\n",
    "                # Add null values to the face features\n",
    "                full_X = np.concatenate((body_x, np.zeros((body_x.shape[0], 10))), axis=1)\n",
    "                X.append(full_X)\n",
    "                y.append(body_labels[0])\n",
    "    n_length = X[0].shape[0]\n",
    "    n_features = X[0].shape[1]\n",
    "    X = np.array(X)\n",
    "    X_test = X.reshape((len(X), 1, n_length, n_features))\n",
    "    y_test = lb.transform(y)\n",
    "    return X_train, X_test, y_train, y_test"
   ]
  },
  {
   "cell_type": "code",
   "execution_count": 9,
   "metadata": {},
   "outputs": [
    {
     "name": "stdout",
     "output_type": "stream",
     "text": [
      "(534, 1, 350, 48) (534, 5)\n",
      "(81, 1, 350, 48) (81, 5)\n"
     ]
    }
   ],
   "source": [
    "X_train, X_test, y_train, y_test = apply_early_fusion('processed', 'pain_area')\n",
    "X = X_train.copy()\n",
    "y = y_train.copy()\n",
    "\n",
    "print(X_train.shape, y_train.shape)\n",
    "print(X_test.shape, y_test.shape)"
   ]
  },
  {
   "cell_type": "code",
   "execution_count": 10,
   "metadata": {},
   "outputs": [],
   "source": [
    "n_length, n_features, n_outputs = X_train.shape[2], X_train.shape[-1], y_train.shape[1]"
   ]
  },
  {
   "cell_type": "markdown",
   "metadata": {},
   "source": [
    "#### KFold CV"
   ]
  },
  {
   "cell_type": "code",
   "execution_count": 11,
   "metadata": {},
   "outputs": [],
   "source": [
    "kf = KFold(n_splits=3, shuffle=True, random_state=42)"
   ]
  },
  {
   "cell_type": "code",
   "execution_count": 12,
   "metadata": {},
   "outputs": [],
   "source": [
    "epochs, batch_size = 50, 68"
   ]
  },
  {
   "cell_type": "markdown",
   "metadata": {},
   "source": [
    "#### Bidirectional LSTM Model"
   ]
  },
  {
   "cell_type": "code",
   "execution_count": 13,
   "metadata": {},
   "outputs": [
    {
     "name": "stdout",
     "output_type": "stream",
     "text": [
      "Epoch 1/50\n",
      "6/6 - 6s - loss: 265.7050 - accuracy: 0.2893 - auc_1: 0.5645 - val_loss: 60.0885 - val_accuracy: 0.5337 - val_auc_1: 0.7086 - 6s/epoch - 1s/step\n",
      "Epoch 2/50\n",
      "6/6 - 2s - loss: 28.7427 - accuracy: 0.5365 - auc_1: 0.7275 - val_loss: 3.1156 - val_accuracy: 0.4157 - val_auc_1: 0.7045 - 2s/epoch - 274ms/step\n",
      "Epoch 3/50\n",
      "6/6 - 2s - loss: 2.5854 - accuracy: 0.2556 - auc_1: 0.5764 - val_loss: 2.3663 - val_accuracy: 0.2303 - val_auc_1: 0.5208 - 2s/epoch - 275ms/step\n",
      "Epoch 4/50\n",
      "6/6 - 2s - loss: 1.5661 - accuracy: 0.1994 - auc_1: 0.6565 - val_loss: 2.7402 - val_accuracy: 0.2303 - val_auc_1: 0.7215 - 2s/epoch - 275ms/step\n",
      "Epoch 5/50\n",
      "6/6 - 2s - loss: 1.5430 - accuracy: 0.2079 - auc_1: 0.7357 - val_loss: 2.8849 - val_accuracy: 0.5281 - val_auc_1: 0.7193 - 2s/epoch - 277ms/step\n"
     ]
    },
    {
     "data": {
      "image/png": "[encoded data removed]",
      "text/plain": [
       "<Figure size 432x288 with 1 Axes>"
      ]
     },
     "metadata": {
      "needs_background": "light"
     },
     "output_type": "display_data"
    },
    {
     "name": "stdout",
     "output_type": "stream",
     "text": [
      "Epoch 1/50\n",
      "6/6 - 6s - loss: 263.2722 - accuracy: 0.3343 - auc_2: 0.5809 - val_loss: 154.6673 - val_accuracy: 0.5787 - val_auc_2: 0.7367 - 6s/epoch - 1s/step\n",
      "Epoch 2/50\n",
      "6/6 - 2s - loss: 79.9865 - accuracy: 0.3876 - auc_2: 0.6394 - val_loss: 14.1365 - val_accuracy: 0.5674 - val_auc_2: 0.7354 - 2s/epoch - 282ms/step\n",
      "Epoch 3/50\n",
      "6/6 - 2s - loss: 6.4246 - accuracy: 0.4916 - auc_2: 0.7351 - val_loss: 3.6455 - val_accuracy: 0.2247 - val_auc_2: 0.5965 - 2s/epoch - 287ms/step\n",
      "Epoch 4/50\n",
      "6/6 - 2s - loss: 2.3856 - accuracy: 0.2669 - auc_2: 0.6137 - val_loss: 1.8524 - val_accuracy: 0.4944 - val_auc_2: 0.5593 - 2s/epoch - 283ms/step\n",
      "Epoch 5/50\n",
      "6/6 - 2s - loss: 1.6893 - accuracy: 0.5197 - auc_2: 0.5977 - val_loss: 1.7562 - val_accuracy: 0.5730 - val_auc_2: 0.7287 - 2s/epoch - 283ms/step\n",
      "Epoch 6/50\n",
      "6/6 - 2s - loss: 1.5979 - accuracy: 0.5562 - auc_2: 0.7266 - val_loss: 1.7437 - val_accuracy: 0.5730 - val_auc_2: 0.7311 - 2s/epoch - 279ms/step\n",
      "Epoch 7/50\n",
      "6/6 - 2s - loss: 1.5885 - accuracy: 0.5534 - auc_2: 0.7262 - val_loss: 1.7352 - val_accuracy: 0.5730 - val_auc_2: 0.7338 - 2s/epoch - 277ms/step\n",
      "Epoch 8/50\n",
      "6/6 - 2s - loss: 1.5782 - accuracy: 0.5534 - auc_2: 0.7254 - val_loss: 1.7297 - val_accuracy: 0.5730 - val_auc_2: 0.7338 - 2s/epoch - 282ms/step\n",
      "Epoch 9/50\n",
      "6/6 - 2s - loss: 1.5713 - accuracy: 0.5534 - auc_2: 0.7268 - val_loss: 1.7273 - val_accuracy: 0.5730 - val_auc_2: 0.7342 - 2s/epoch - 279ms/step\n",
      "Epoch 10/50\n",
      "6/6 - 2s - loss: 1.5713 - accuracy: 0.5506 - auc_2: 0.7265 - val_loss: 1.7260 - val_accuracy: 0.5730 - val_auc_2: 0.7346 - 2s/epoch - 285ms/step\n",
      "Epoch 11/50\n",
      "6/6 - 2s - loss: 1.5694 - accuracy: 0.5534 - auc_2: 0.7667 - val_loss: 1.7253 - val_accuracy: 0.5730 - val_auc_2: 0.7730 - 2s/epoch - 314ms/step\n",
      "Epoch 12/50\n",
      "6/6 - 2s - loss: 1.5689 - accuracy: 0.5534 - auc_2: 0.7756 - val_loss: 1.7248 - val_accuracy: 0.5730 - val_auc_2: 0.7726 - 2s/epoch - 278ms/step\n",
      "Epoch 13/50\n",
      "6/6 - 2s - loss: 1.5687 - accuracy: 0.5534 - auc_2: 0.7756 - val_loss: 1.7245 - val_accuracy: 0.5730 - val_auc_2: 0.7726 - 2s/epoch - 279ms/step\n",
      "Epoch 14/50\n",
      "6/6 - 2s - loss: 1.5684 - accuracy: 0.5534 - auc_2: 0.7756 - val_loss: 1.7242 - val_accuracy: 0.5730 - val_auc_2: 0.7733 - 2s/epoch - 279ms/step\n",
      "Epoch 15/50\n",
      "6/6 - 2s - loss: 1.5682 - accuracy: 0.5534 - auc_2: 0.7756 - val_loss: 1.7240 - val_accuracy: 0.5730 - val_auc_2: 0.7733 - 2s/epoch - 281ms/step\n",
      "Epoch 16/50\n",
      "6/6 - 2s - loss: 1.5679 - accuracy: 0.5534 - auc_2: 0.7756 - val_loss: 1.7238 - val_accuracy: 0.5730 - val_auc_2: 0.7733 - 2s/epoch - 281ms/step\n",
      "Epoch 17/50\n",
      "6/6 - 2s - loss: 1.5677 - accuracy: 0.5534 - auc_2: 0.7756 - val_loss: 1.7237 - val_accuracy: 0.5730 - val_auc_2: 0.7733 - 2s/epoch - 279ms/step\n",
      "Epoch 18/50\n",
      "6/6 - 2s - loss: 1.5676 - accuracy: 0.5534 - auc_2: 0.7756 - val_loss: 1.7236 - val_accuracy: 0.5730 - val_auc_2: 0.7733 - 2s/epoch - 282ms/step\n",
      "Epoch 19/50\n",
      "6/6 - 2s - loss: 1.5675 - accuracy: 0.5534 - auc_2: 0.7756 - val_loss: 1.7235 - val_accuracy: 0.5730 - val_auc_2: 0.7733 - 2s/epoch - 281ms/step\n",
      "Epoch 20/50\n",
      "6/6 - 2s - loss: 1.5675 - accuracy: 0.5534 - auc_2: 0.7756 - val_loss: 1.7235 - val_accuracy: 0.5730 - val_auc_2: 0.7733 - 2s/epoch - 282ms/step\n",
      "Epoch 21/50\n",
      "6/6 - 2s - loss: 1.5674 - accuracy: 0.5534 - auc_2: 0.7756 - val_loss: 1.7235 - val_accuracy: 0.5730 - val_auc_2: 0.7733 - 2s/epoch - 280ms/step\n",
      "Epoch 22/50\n",
      "6/6 - 2s - loss: 1.5674 - accuracy: 0.5534 - auc_2: 0.7756 - val_loss: 1.7234 - val_accuracy: 0.5730 - val_auc_2: 0.7733 - 2s/epoch - 280ms/step\n",
      "Epoch 23/50\n",
      "6/6 - 2s - loss: 1.5674 - accuracy: 0.5534 - auc_2: 0.7756 - val_loss: 1.7234 - val_accuracy: 0.5730 - val_auc_2: 0.7733 - 2s/epoch - 284ms/step\n",
      "Epoch 24/50\n",
      "6/6 - 2s - loss: 1.5674 - accuracy: 0.5534 - auc_2: 0.7756 - val_loss: 1.7233 - val_accuracy: 0.5730 - val_auc_2: 0.7733 - 2s/epoch - 280ms/step\n",
      "Epoch 25/50\n",
      "6/6 - 2s - loss: 1.5674 - accuracy: 0.5534 - auc_2: 0.7756 - val_loss: 1.7233 - val_accuracy: 0.5730 - val_auc_2: 0.7733 - 2s/epoch - 279ms/step\n",
      "Epoch 26/50\n",
      "6/6 - 2s - loss: 1.5674 - accuracy: 0.5534 - auc_2: 0.7756 - val_loss: 1.7233 - val_accuracy: 0.5730 - val_auc_2: 0.7733 - 2s/epoch - 282ms/step\n",
      "Epoch 27/50\n",
      "6/6 - 2s - loss: 1.5673 - accuracy: 0.5534 - auc_2: 0.7756 - val_loss: 1.7233 - val_accuracy: 0.5730 - val_auc_2: 0.7733 - 2s/epoch - 281ms/step\n",
      "Epoch 28/50\n",
      "6/6 - 2s - loss: 1.5673 - accuracy: 0.5534 - auc_2: 0.7756 - val_loss: 1.7233 - val_accuracy: 0.5730 - val_auc_2: 0.7733 - 2s/epoch - 279ms/step\n",
      "Epoch 29/50\n",
      "6/6 - 2s - loss: 1.5673 - accuracy: 0.5534 - auc_2: 0.7756 - val_loss: 1.7233 - val_accuracy: 0.5730 - val_auc_2: 0.7733 - 2s/epoch - 281ms/step\n",
      "Epoch 30/50\n",
      "6/6 - 2s - loss: 1.5673 - accuracy: 0.5534 - auc_2: 0.7756 - val_loss: 1.7233 - val_accuracy: 0.5730 - val_auc_2: 0.7733 - 2s/epoch - 285ms/step\n",
      "Epoch 31/50\n",
      "6/6 - 2s - loss: 1.5673 - accuracy: 0.5534 - auc_2: 0.7756 - val_loss: 1.7233 - val_accuracy: 0.5730 - val_auc_2: 0.7733 - 2s/epoch - 279ms/step\n",
      "Epoch 32/50\n",
      "6/6 - 2s - loss: 1.5673 - accuracy: 0.5534 - auc_2: 0.7756 - val_loss: 1.7233 - val_accuracy: 0.5730 - val_auc_2: 0.7733 - 2s/epoch - 282ms/step\n",
      "Epoch 33/50\n",
      "6/6 - 2s - loss: 1.5673 - accuracy: 0.5534 - auc_2: 0.7756 - val_loss: 1.7233 - val_accuracy: 0.5730 - val_auc_2: 0.7733 - 2s/epoch - 279ms/step\n",
      "Epoch 34/50\n",
      "6/6 - 2s - loss: 1.5673 - accuracy: 0.5534 - auc_2: 0.7756 - val_loss: 1.7233 - val_accuracy: 0.5730 - val_auc_2: 0.7733 - 2s/epoch - 278ms/step\n",
      "Epoch 35/50\n",
      "6/6 - 2s - loss: 1.5673 - accuracy: 0.5534 - auc_2: 0.7756 - val_loss: 1.7233 - val_accuracy: 0.5730 - val_auc_2: 0.7733 - 2s/epoch - 278ms/step\n",
      "Epoch 36/50\n",
      "6/6 - 2s - loss: 1.5673 - accuracy: 0.5534 - auc_2: 0.7756 - val_loss: 1.7233 - val_accuracy: 0.5730 - val_auc_2: 0.7733 - 2s/epoch - 279ms/step\n",
      "Epoch 37/50\n",
      "6/6 - 2s - loss: 1.5673 - accuracy: 0.5534 - auc_2: 0.7756 - val_loss: 1.7233 - val_accuracy: 0.5730 - val_auc_2: 0.7733 - 2s/epoch - 281ms/step\n",
      "Epoch 38/50\n",
      "6/6 - 2s - loss: 1.5673 - accuracy: 0.5534 - auc_2: 0.7756 - val_loss: 1.7233 - val_accuracy: 0.5730 - val_auc_2: 0.7733 - 2s/epoch - 279ms/step\n",
      "Epoch 39/50\n",
      "6/6 - 2s - loss: 1.5673 - accuracy: 0.5534 - auc_2: 0.7756 - val_loss: 1.7233 - val_accuracy: 0.5730 - val_auc_2: 0.7733 - 2s/epoch - 282ms/step\n",
      "Epoch 40/50\n",
      "6/6 - 2s - loss: 1.5673 - accuracy: 0.5534 - auc_2: 0.7756 - val_loss: 1.7233 - val_accuracy: 0.5730 - val_auc_2: 0.7733 - 2s/epoch - 280ms/step\n",
      "Epoch 41/50\n",
      "6/6 - 2s - loss: 1.5673 - accuracy: 0.5534 - auc_2: 0.7756 - val_loss: 1.7233 - val_accuracy: 0.5730 - val_auc_2: 0.7733 - 2s/epoch - 278ms/step\n",
      "Epoch 42/50\n",
      "6/6 - 2s - loss: 1.5673 - accuracy: 0.5534 - auc_2: 0.7756 - val_loss: 1.7233 - val_accuracy: 0.5730 - val_auc_2: 0.7733 - 2s/epoch - 281ms/step\n"
     ]
    },
    {
     "data": {
      "image/png": "[encoded data removed]",
      "text/plain": [
       "<Figure size 432x288 with 1 Axes>"
      ]
     },
     "metadata": {
      "needs_background": "light"
     },
     "output_type": "display_data"
    },
    {
     "name": "stdout",
     "output_type": "stream",
     "text": [
      "Epoch 1/50\n",
      "6/6 - 6s - loss: 155.2165 - accuracy: 0.3258 - auc_3: 0.5796 - val_loss: 38.7329 - val_accuracy: 0.5618 - val_auc_3: 0.7261 - 6s/epoch - 1s/step\n",
      "Epoch 2/50\n",
      "6/6 - 2s - loss: 11.0589 - accuracy: 0.4494 - auc_3: 0.7217 - val_loss: 2.3149 - val_accuracy: 0.1854 - val_auc_3: 0.5174 - 2s/epoch - 279ms/step\n",
      "Epoch 3/50\n",
      "6/6 - 2s - loss: 1.7160 - accuracy: 0.2163 - auc_3: 0.6158 - val_loss: 2.2029 - val_accuracy: 0.1742 - val_auc_3: 0.6824 - 2s/epoch - 280ms/step\n",
      "Epoch 4/50\n",
      "6/6 - 2s - loss: 1.7544 - accuracy: 0.4101 - auc_3: 0.7090 - val_loss: 2.0088 - val_accuracy: 0.5562 - val_auc_3: 0.6904 - 2s/epoch - 282ms/step\n",
      "Epoch 5/50\n",
      "6/6 - 2s - loss: 1.6616 - accuracy: 0.5618 - auc_3: 0.7197 - val_loss: 1.7467 - val_accuracy: 0.5618 - val_auc_3: 0.7007 - 2s/epoch - 278ms/step\n",
      "Epoch 6/50\n",
      "6/6 - 2s - loss: 1.5767 - accuracy: 0.5590 - auc_3: 0.7220 - val_loss: 1.6714 - val_accuracy: 0.5618 - val_auc_3: 0.7008 - 2s/epoch - 281ms/step\n",
      "Epoch 7/50\n",
      "6/6 - 2s - loss: 1.5665 - accuracy: 0.5618 - auc_3: 0.7264 - val_loss: 1.6699 - val_accuracy: 0.5618 - val_auc_3: 0.6938 - 2s/epoch - 283ms/step\n",
      "Epoch 8/50\n",
      "6/6 - 2s - loss: 1.5651 - accuracy: 0.5618 - auc_3: 0.7225 - val_loss: 1.6668 - val_accuracy: 0.5618 - val_auc_3: 0.6931 - 2s/epoch - 284ms/step\n",
      "Epoch 9/50\n",
      "6/6 - 2s - loss: 1.5646 - accuracy: 0.5618 - auc_3: 0.7415 - val_loss: 1.6651 - val_accuracy: 0.5618 - val_auc_3: 0.7857 - 2s/epoch - 279ms/step\n",
      "Epoch 10/50\n",
      "6/6 - 2s - loss: 1.5644 - accuracy: 0.5618 - auc_3: 0.8074 - val_loss: 1.6638 - val_accuracy: 0.5618 - val_auc_3: 0.7850 - 2s/epoch - 278ms/step\n",
      "Epoch 11/50\n",
      "6/6 - 2s - loss: 1.5627 - accuracy: 0.5618 - auc_3: 0.8080 - val_loss: 1.6630 - val_accuracy: 0.5618 - val_auc_3: 0.7850 - 2s/epoch - 280ms/step\n",
      "Epoch 12/50\n",
      "6/6 - 2s - loss: 1.5618 - accuracy: 0.5618 - auc_3: 0.8081 - val_loss: 1.6625 - val_accuracy: 0.5618 - val_auc_3: 0.7850 - 2s/epoch - 279ms/step\n",
      "Epoch 13/50\n",
      "6/6 - 2s - loss: 1.5613 - accuracy: 0.5618 - auc_3: 0.8081 - val_loss: 1.6622 - val_accuracy: 0.5618 - val_auc_3: 0.7850 - 2s/epoch - 282ms/step\n",
      "Epoch 14/50\n",
      "6/6 - 2s - loss: 1.5609 - accuracy: 0.5618 - auc_3: 0.8081 - val_loss: 1.6619 - val_accuracy: 0.5618 - val_auc_3: 0.7850 - 2s/epoch - 282ms/step\n",
      "Epoch 15/50\n",
      "6/6 - 2s - loss: 1.5606 - accuracy: 0.5618 - auc_3: 0.8081 - val_loss: 1.6618 - val_accuracy: 0.5618 - val_auc_3: 0.7850 - 2s/epoch - 279ms/step\n",
      "Epoch 16/50\n",
      "6/6 - 2s - loss: 1.5604 - accuracy: 0.5618 - auc_3: 0.8081 - val_loss: 1.6617 - val_accuracy: 0.5618 - val_auc_3: 0.7850 - 2s/epoch - 281ms/step\n",
      "Epoch 17/50\n",
      "6/6 - 2s - loss: 1.5603 - accuracy: 0.5618 - auc_3: 0.8081 - val_loss: 1.6617 - val_accuracy: 0.5618 - val_auc_3: 0.7850 - 2s/epoch - 281ms/step\n",
      "Epoch 18/50\n",
      "6/6 - 2s - loss: 1.5601 - accuracy: 0.5618 - auc_3: 0.8081 - val_loss: 1.6616 - val_accuracy: 0.5618 - val_auc_3: 0.7850 - 2s/epoch - 283ms/step\n",
      "Epoch 19/50\n",
      "6/6 - 2s - loss: 1.5600 - accuracy: 0.5618 - auc_3: 0.8081 - val_loss: 1.6616 - val_accuracy: 0.5618 - val_auc_3: 0.7850 - 2s/epoch - 278ms/step\n",
      "Epoch 20/50\n",
      "6/6 - 2s - loss: 1.5600 - accuracy: 0.5618 - auc_3: 0.8081 - val_loss: 1.6616 - val_accuracy: 0.5618 - val_auc_3: 0.7850 - 2s/epoch - 280ms/step\n",
      "Epoch 21/50\n",
      "6/6 - 2s - loss: 1.5599 - accuracy: 0.5618 - auc_3: 0.8081 - val_loss: 1.6615 - val_accuracy: 0.5618 - val_auc_3: 0.7850 - 2s/epoch - 280ms/step\n",
      "Epoch 22/50\n",
      "6/6 - 2s - loss: 1.5599 - accuracy: 0.5618 - auc_3: 0.8081 - val_loss: 1.6615 - val_accuracy: 0.5618 - val_auc_3: 0.7850 - 2s/epoch - 280ms/step\n",
      "Epoch 23/50\n",
      "6/6 - 2s - loss: 1.5598 - accuracy: 0.5618 - auc_3: 0.8081 - val_loss: 1.6615 - val_accuracy: 0.5618 - val_auc_3: 0.7850 - 2s/epoch - 281ms/step\n",
      "Epoch 24/50\n",
      "6/6 - 2s - loss: 1.5598 - accuracy: 0.5618 - auc_3: 0.8081 - val_loss: 1.6615 - val_accuracy: 0.5618 - val_auc_3: 0.7850 - 2s/epoch - 283ms/step\n",
      "Epoch 25/50\n",
      "6/6 - 2s - loss: 1.5598 - accuracy: 0.5618 - auc_3: 0.8081 - val_loss: 1.6615 - val_accuracy: 0.5618 - val_auc_3: 0.7850 - 2s/epoch - 280ms/step\n",
      "Epoch 26/50\n",
      "6/6 - 2s - loss: 1.5598 - accuracy: 0.5618 - auc_3: 0.8081 - val_loss: 1.6615 - val_accuracy: 0.5618 - val_auc_3: 0.7850 - 2s/epoch - 279ms/step\n",
      "Epoch 27/50\n",
      "6/6 - 2s - loss: 1.5598 - accuracy: 0.5618 - auc_3: 0.8081 - val_loss: 1.6615 - val_accuracy: 0.5618 - val_auc_3: 0.7850 - 2s/epoch - 278ms/step\n",
      "Epoch 28/50\n",
      "6/6 - 2s - loss: 1.5598 - accuracy: 0.5618 - auc_3: 0.8081 - val_loss: 1.6615 - val_accuracy: 0.5618 - val_auc_3: 0.7850 - 2s/epoch - 277ms/step\n",
      "Epoch 29/50\n",
      "6/6 - 2s - loss: 1.5598 - accuracy: 0.5618 - auc_3: 0.8081 - val_loss: 1.6615 - val_accuracy: 0.5618 - val_auc_3: 0.7850 - 2s/epoch - 276ms/step\n",
      "Epoch 30/50\n",
      "6/6 - 2s - loss: 1.5597 - accuracy: 0.5618 - auc_3: 0.8081 - val_loss: 1.6615 - val_accuracy: 0.5618 - val_auc_3: 0.7850 - 2s/epoch - 280ms/step\n",
      "Epoch 31/50\n",
      "6/6 - 2s - loss: 1.5597 - accuracy: 0.5618 - auc_3: 0.8081 - val_loss: 1.6615 - val_accuracy: 0.5618 - val_auc_3: 0.7850 - 2s/epoch - 301ms/step\n",
      "Epoch 32/50\n",
      "6/6 - 2s - loss: 1.5597 - accuracy: 0.5618 - auc_3: 0.8081 - val_loss: 1.6615 - val_accuracy: 0.5618 - val_auc_3: 0.7850 - 2s/epoch - 283ms/step\n",
      "Epoch 33/50\n",
      "6/6 - 2s - loss: 1.5597 - accuracy: 0.5618 - auc_3: 0.8081 - val_loss: 1.6615 - val_accuracy: 0.5618 - val_auc_3: 0.7850 - 2s/epoch - 277ms/step\n",
      "Epoch 34/50\n",
      "6/6 - 2s - loss: 1.5597 - accuracy: 0.5618 - auc_3: 0.8081 - val_loss: 1.6615 - val_accuracy: 0.5618 - val_auc_3: 0.7850 - 2s/epoch - 279ms/step\n",
      "Epoch 35/50\n",
      "6/6 - 2s - loss: 1.5597 - accuracy: 0.5618 - auc_3: 0.8081 - val_loss: 1.6615 - val_accuracy: 0.5618 - val_auc_3: 0.7850 - 2s/epoch - 279ms/step\n",
      "Epoch 36/50\n",
      "6/6 - 2s - loss: 1.5597 - accuracy: 0.5618 - auc_3: 0.8081 - val_loss: 1.6615 - val_accuracy: 0.5618 - val_auc_3: 0.7850 - 2s/epoch - 282ms/step\n",
      "Epoch 37/50\n",
      "6/6 - 2s - loss: 1.5597 - accuracy: 0.5618 - auc_3: 0.8081 - val_loss: 1.6615 - val_accuracy: 0.5618 - val_auc_3: 0.7850 - 2s/epoch - 279ms/step\n",
      "Epoch 38/50\n",
      "6/6 - 2s - loss: 1.5597 - accuracy: 0.5618 - auc_3: 0.8081 - val_loss: 1.6615 - val_accuracy: 0.5618 - val_auc_3: 0.7850 - 2s/epoch - 276ms/step\n",
      "Epoch 39/50\n",
      "6/6 - 2s - loss: 1.5597 - accuracy: 0.5618 - auc_3: 0.8081 - val_loss: 1.6615 - val_accuracy: 0.5618 - val_auc_3: 0.7850 - 2s/epoch - 280ms/step\n",
      "Epoch 40/50\n",
      "6/6 - 2s - loss: 1.5597 - accuracy: 0.5618 - auc_3: 0.8081 - val_loss: 1.6615 - val_accuracy: 0.5618 - val_auc_3: 0.7850 - 2s/epoch - 281ms/step\n",
      "Epoch 41/50\n",
      "6/6 - 2s - loss: 1.5597 - accuracy: 0.5618 - auc_3: 0.8081 - val_loss: 1.6615 - val_accuracy: 0.5618 - val_auc_3: 0.7850 - 2s/epoch - 280ms/step\n",
      "Epoch 42/50\n",
      "6/6 - 2s - loss: 1.5597 - accuracy: 0.5618 - auc_3: 0.8081 - val_loss: 1.6615 - val_accuracy: 0.5618 - val_auc_3: 0.7850 - 2s/epoch - 277ms/step\n",
      "Epoch 43/50\n",
      "6/6 - 2s - loss: 1.5597 - accuracy: 0.5618 - auc_3: 0.8081 - val_loss: 1.6615 - val_accuracy: 0.5618 - val_auc_3: 0.7850 - 2s/epoch - 278ms/step\n",
      "Epoch 44/50\n",
      "6/6 - 2s - loss: 1.5597 - accuracy: 0.5618 - auc_3: 0.8081 - val_loss: 1.6615 - val_accuracy: 0.5618 - val_auc_3: 0.7850 - 2s/epoch - 280ms/step\n"
     ]
    },
    {
     "data": {
      "image/png": "[encoded data removed]",
      "text/plain": [
       "<Figure size 432x288 with 1 Axes>"
      ]
     },
     "metadata": {
      "needs_background": "light"
     },
     "output_type": "display_data"
    }
   ],
   "source": [
    "model1 = get_biConvLSTM(n_length, n_features, n_outputs)\n",
    "for train_index, val_index in kf.split(X):\n",
    "    X_train, X_val = X[train_index], X[val_index]\n",
    "    y_train, y_val = y[train_index], y[val_index]\n",
    "    model1 = get_biConvLSTM(n_features, n_length, n_outputs)\n",
    "    history = train(model1, X_train, y_train, X_val, y_val, epochs=epochs, batch_size=batch_size)\n",
    "    plt.plot(history.history['loss'])\n",
    "    plt.show()"
   ]
  },
  {
   "cell_type": "code",
   "execution_count": 14,
   "metadata": {},
   "outputs": [
    {
     "name": "stdout",
     "output_type": "stream",
     "text": [
      "\n",
      "Accuracy: 48.148%\n",
      "\n",
      "AUC: 0.7768\n"
     ]
    }
   ],
   "source": [
    "loss, accuracy, auc = model1.evaluate(X_test, y_test, batch_size=batch_size, verbose=0)\n",
    "score = accuracy * 100\n",
    "accuracies.append(round(score, 2))\n",
    "aucs.append(round(auc * 100, 2))\n",
    "print('\\nAccuracy: %.3f%%' % score)\n",
    "print('\\nAUC:', round(auc, 4))"
   ]
  },
  {
   "cell_type": "markdown",
   "metadata": {},
   "source": [
    "#### CNN+LSTM Model "
   ]
  },
  {
   "cell_type": "code",
   "execution_count": 15,
   "metadata": {},
   "outputs": [
    {
     "name": "stdout",
     "output_type": "stream",
     "text": [
      "Epoch 1/50\n",
      "6/6 - 2s - loss: 1.4519 - accuracy: 0.4635 - auc_5: 0.6749 - val_loss: 1.3507 - val_accuracy: 0.5337 - val_auc_5: 0.7346 - 2s/epoch - 369ms/step\n",
      "Epoch 2/50\n",
      "6/6 - 0s - loss: 1.2806 - accuracy: 0.5702 - auc_5: 0.7589 - val_loss: 1.3226 - val_accuracy: 0.5337 - val_auc_5: 0.7346 - 342ms/epoch - 57ms/step\n",
      "Epoch 3/50\n",
      "6/6 - 0s - loss: 1.2559 - accuracy: 0.5702 - auc_5: 0.7663 - val_loss: 1.2942 - val_accuracy: 0.5337 - val_auc_5: 0.7879 - 341ms/epoch - 57ms/step\n",
      "Epoch 4/50\n",
      "6/6 - 0s - loss: 1.2364 - accuracy: 0.5702 - auc_5: 0.7968 - val_loss: 1.2770 - val_accuracy: 0.5337 - val_auc_5: 0.7883 - 345ms/epoch - 57ms/step\n",
      "Epoch 5/50\n",
      "6/6 - 0s - loss: 1.2256 - accuracy: 0.5702 - auc_5: 0.7973 - val_loss: 1.2636 - val_accuracy: 0.5337 - val_auc_5: 0.7879 - 343ms/epoch - 57ms/step\n",
      "Epoch 6/50\n",
      "6/6 - 0s - loss: 1.2183 - accuracy: 0.5702 - auc_5: 0.7934 - val_loss: 1.2552 - val_accuracy: 0.5337 - val_auc_5: 0.7879 - 345ms/epoch - 57ms/step\n",
      "Epoch 7/50\n",
      "6/6 - 0s - loss: 1.2127 - accuracy: 0.5702 - auc_5: 0.7944 - val_loss: 1.2487 - val_accuracy: 0.5337 - val_auc_5: 0.7879 - 343ms/epoch - 57ms/step\n",
      "Epoch 8/50\n",
      "6/6 - 0s - loss: 1.2087 - accuracy: 0.5702 - auc_5: 0.7968 - val_loss: 1.2449 - val_accuracy: 0.5337 - val_auc_5: 0.7935 - 345ms/epoch - 57ms/step\n",
      "Epoch 9/50\n",
      "6/6 - 0s - loss: 1.2065 - accuracy: 0.5702 - auc_5: 0.8001 - val_loss: 1.2422 - val_accuracy: 0.5337 - val_auc_5: 0.7935 - 337ms/epoch - 56ms/step\n",
      "Epoch 10/50\n",
      "6/6 - 0s - loss: 1.2049 - accuracy: 0.5702 - auc_5: 0.8020 - val_loss: 1.2407 - val_accuracy: 0.5337 - val_auc_5: 0.7879 - 342ms/epoch - 57ms/step\n",
      "Epoch 11/50\n",
      "6/6 - 0s - loss: 1.2037 - accuracy: 0.5702 - auc_5: 0.7963 - val_loss: 1.2392 - val_accuracy: 0.5337 - val_auc_5: 0.7879 - 335ms/epoch - 56ms/step\n",
      "Epoch 12/50\n",
      "6/6 - 0s - loss: 1.2029 - accuracy: 0.5702 - auc_5: 0.7952 - val_loss: 1.2382 - val_accuracy: 0.5337 - val_auc_5: 0.7879 - 344ms/epoch - 57ms/step\n",
      "Epoch 13/50\n",
      "6/6 - 0s - loss: 1.2023 - accuracy: 0.5702 - auc_5: 0.7961 - val_loss: 1.2373 - val_accuracy: 0.5337 - val_auc_5: 0.7935 - 342ms/epoch - 57ms/step\n",
      "Epoch 14/50\n",
      "6/6 - 0s - loss: 1.2019 - accuracy: 0.5702 - auc_5: 0.8020 - val_loss: 1.2366 - val_accuracy: 0.5337 - val_auc_5: 0.7935 - 340ms/epoch - 57ms/step\n",
      "Epoch 15/50\n",
      "6/6 - 0s - loss: 1.2014 - accuracy: 0.5702 - auc_5: 0.8016 - val_loss: 1.2361 - val_accuracy: 0.5337 - val_auc_5: 0.7935 - 342ms/epoch - 57ms/step\n",
      "Epoch 16/50\n",
      "6/6 - 0s - loss: 1.2012 - accuracy: 0.5702 - auc_5: 0.7996 - val_loss: 1.2359 - val_accuracy: 0.5337 - val_auc_5: 0.7935 - 341ms/epoch - 57ms/step\n",
      "Epoch 17/50\n",
      "6/6 - 0s - loss: 1.2010 - accuracy: 0.5702 - auc_5: 0.8020 - val_loss: 1.2357 - val_accuracy: 0.5337 - val_auc_5: 0.7935 - 349ms/epoch - 58ms/step\n",
      "Epoch 18/50\n",
      "6/6 - 0s - loss: 1.2008 - accuracy: 0.5702 - auc_5: 0.8020 - val_loss: 1.2355 - val_accuracy: 0.5337 - val_auc_5: 0.7935 - 339ms/epoch - 57ms/step\n",
      "Epoch 19/50\n",
      "6/6 - 0s - loss: 1.2007 - accuracy: 0.5702 - auc_5: 0.8020 - val_loss: 1.2354 - val_accuracy: 0.5337 - val_auc_5: 0.7935 - 342ms/epoch - 57ms/step\n",
      "Epoch 20/50\n",
      "6/6 - 0s - loss: 1.2006 - accuracy: 0.5702 - auc_5: 0.8020 - val_loss: 1.2353 - val_accuracy: 0.5337 - val_auc_5: 0.7935 - 344ms/epoch - 57ms/step\n",
      "Epoch 21/50\n",
      "6/6 - 0s - loss: 1.2006 - accuracy: 0.5702 - auc_5: 0.8020 - val_loss: 1.2352 - val_accuracy: 0.5337 - val_auc_5: 0.7935 - 343ms/epoch - 57ms/step\n",
      "Epoch 22/50\n",
      "6/6 - 0s - loss: 1.2005 - accuracy: 0.5702 - auc_5: 0.8020 - val_loss: 1.2351 - val_accuracy: 0.5337 - val_auc_5: 0.7935 - 349ms/epoch - 58ms/step\n",
      "Epoch 23/50\n",
      "6/6 - 0s - loss: 1.2005 - accuracy: 0.5702 - auc_5: 0.8020 - val_loss: 1.2351 - val_accuracy: 0.5337 - val_auc_5: 0.7935 - 348ms/epoch - 58ms/step\n",
      "Epoch 24/50\n",
      "6/6 - 0s - loss: 1.2004 - accuracy: 0.5702 - auc_5: 0.8020 - val_loss: 1.2350 - val_accuracy: 0.5337 - val_auc_5: 0.7935 - 342ms/epoch - 57ms/step\n",
      "Epoch 25/50\n",
      "6/6 - 0s - loss: 1.2004 - accuracy: 0.5702 - auc_5: 0.8020 - val_loss: 1.2350 - val_accuracy: 0.5337 - val_auc_5: 0.7935 - 346ms/epoch - 58ms/step\n",
      "Epoch 26/50\n",
      "6/6 - 0s - loss: 1.2004 - accuracy: 0.5702 - auc_5: 0.8020 - val_loss: 1.2350 - val_accuracy: 0.5337 - val_auc_5: 0.7935 - 340ms/epoch - 57ms/step\n",
      "Epoch 27/50\n",
      "6/6 - 0s - loss: 1.2004 - accuracy: 0.5702 - auc_5: 0.8020 - val_loss: 1.2350 - val_accuracy: 0.5337 - val_auc_5: 0.7935 - 339ms/epoch - 57ms/step\n",
      "Epoch 28/50\n",
      "6/6 - 0s - loss: 1.2004 - accuracy: 0.5702 - auc_5: 0.8020 - val_loss: 1.2349 - val_accuracy: 0.5337 - val_auc_5: 0.7935 - 342ms/epoch - 57ms/step\n",
      "Epoch 29/50\n",
      "6/6 - 0s - loss: 1.2004 - accuracy: 0.5702 - auc_5: 0.8020 - val_loss: 1.2349 - val_accuracy: 0.5337 - val_auc_5: 0.7935 - 344ms/epoch - 57ms/step\n",
      "Epoch 30/50\n",
      "6/6 - 0s - loss: 1.2004 - accuracy: 0.5702 - auc_5: 0.8020 - val_loss: 1.2349 - val_accuracy: 0.5337 - val_auc_5: 0.7935 - 346ms/epoch - 58ms/step\n",
      "Epoch 31/50\n",
      "6/6 - 0s - loss: 1.2004 - accuracy: 0.5702 - auc_5: 0.8020 - val_loss: 1.2349 - val_accuracy: 0.5337 - val_auc_5: 0.7935 - 342ms/epoch - 57ms/step\n",
      "Epoch 32/50\n",
      "6/6 - 0s - loss: 1.2003 - accuracy: 0.5702 - auc_5: 0.8020 - val_loss: 1.2349 - val_accuracy: 0.5337 - val_auc_5: 0.7935 - 338ms/epoch - 56ms/step\n",
      "Epoch 33/50\n",
      "6/6 - 0s - loss: 1.2003 - accuracy: 0.5702 - auc_5: 0.8020 - val_loss: 1.2349 - val_accuracy: 0.5337 - val_auc_5: 0.7935 - 344ms/epoch - 57ms/step\n",
      "Epoch 34/50\n",
      "6/6 - 0s - loss: 1.2003 - accuracy: 0.5702 - auc_5: 0.8020 - val_loss: 1.2349 - val_accuracy: 0.5337 - val_auc_5: 0.7935 - 342ms/epoch - 57ms/step\n",
      "Epoch 35/50\n",
      "6/6 - 0s - loss: 1.2003 - accuracy: 0.5702 - auc_5: 0.8020 - val_loss: 1.2349 - val_accuracy: 0.5337 - val_auc_5: 0.7935 - 343ms/epoch - 57ms/step\n",
      "Epoch 36/50\n",
      "6/6 - 0s - loss: 1.2003 - accuracy: 0.5702 - auc_5: 0.8020 - val_loss: 1.2349 - val_accuracy: 0.5337 - val_auc_5: 0.7935 - 341ms/epoch - 57ms/step\n",
      "Epoch 37/50\n",
      "6/6 - 0s - loss: 1.2003 - accuracy: 0.5702 - auc_5: 0.8020 - val_loss: 1.2349 - val_accuracy: 0.5337 - val_auc_5: 0.7935 - 342ms/epoch - 57ms/step\n",
      "Epoch 38/50\n",
      "6/6 - 0s - loss: 1.2003 - accuracy: 0.5702 - auc_5: 0.8020 - val_loss: 1.2349 - val_accuracy: 0.5337 - val_auc_5: 0.7935 - 341ms/epoch - 57ms/step\n",
      "Epoch 39/50\n",
      "6/6 - 0s - loss: 1.2003 - accuracy: 0.5702 - auc_5: 0.8020 - val_loss: 1.2349 - val_accuracy: 0.5337 - val_auc_5: 0.7935 - 347ms/epoch - 58ms/step\n",
      "Epoch 40/50\n",
      "6/6 - 0s - loss: 1.2003 - accuracy: 0.5702 - auc_5: 0.8020 - val_loss: 1.2349 - val_accuracy: 0.5337 - val_auc_5: 0.7935 - 345ms/epoch - 58ms/step\n",
      "Epoch 41/50\n",
      "6/6 - 0s - loss: 1.2003 - accuracy: 0.5702 - auc_5: 0.8020 - val_loss: 1.2349 - val_accuracy: 0.5337 - val_auc_5: 0.7935 - 347ms/epoch - 58ms/step\n",
      "Epoch 42/50\n",
      "6/6 - 0s - loss: 1.2003 - accuracy: 0.5702 - auc_5: 0.8020 - val_loss: 1.2349 - val_accuracy: 0.5337 - val_auc_5: 0.7935 - 340ms/epoch - 57ms/step\n",
      "Epoch 43/50\n",
      "6/6 - 0s - loss: 1.2003 - accuracy: 0.5702 - auc_5: 0.8020 - val_loss: 1.2349 - val_accuracy: 0.5337 - val_auc_5: 0.7935 - 342ms/epoch - 57ms/step\n",
      "Epoch 44/50\n",
      "6/6 - 0s - loss: 1.2003 - accuracy: 0.5702 - auc_5: 0.8020 - val_loss: 1.2349 - val_accuracy: 0.5337 - val_auc_5: 0.7935 - 342ms/epoch - 57ms/step\n",
      "Epoch 45/50\n",
      "6/6 - 0s - loss: 1.2003 - accuracy: 0.5702 - auc_5: 0.8020 - val_loss: 1.2349 - val_accuracy: 0.5337 - val_auc_5: 0.7935 - 341ms/epoch - 57ms/step\n"
     ]
    },
    {
     "data": {
      "image/png": "[encoded data removed]",
      "text/plain": [
       "<Figure size 432x288 with 1 Axes>"
      ]
     },
     "metadata": {
      "needs_background": "light"
     },
     "output_type": "display_data"
    },
    {
     "name": "stdout",
     "output_type": "stream",
     "text": [
      "Epoch 1/50\n",
      "6/6 - 3s - loss: 1.4306 - accuracy: 0.3904 - auc_6: 0.7233 - val_loss: 1.2766 - val_accuracy: 0.5787 - val_auc_6: 0.7775 - 3s/epoch - 431ms/step\n",
      "Epoch 2/50\n",
      "6/6 - 0s - loss: 1.2674 - accuracy: 0.5478 - auc_6: 0.7944 - val_loss: 1.2076 - val_accuracy: 0.5787 - val_auc_6: 0.8088 - 401ms/epoch - 67ms/step\n",
      "Epoch 3/50\n",
      "6/6 - 0s - loss: 1.2311 - accuracy: 0.5478 - auc_6: 0.8008 - val_loss: 1.1917 - val_accuracy: 0.5787 - val_auc_6: 0.8090 - 360ms/epoch - 60ms/step\n",
      "Epoch 4/50\n",
      "6/6 - 0s - loss: 1.2207 - accuracy: 0.5478 - auc_6: 0.7974 - val_loss: 1.1816 - val_accuracy: 0.5787 - val_auc_6: 0.8090 - 336ms/epoch - 56ms/step\n",
      "Epoch 5/50\n",
      "6/6 - 0s - loss: 1.2107 - accuracy: 0.5478 - auc_6: 0.8014 - val_loss: 1.1762 - val_accuracy: 0.5787 - val_auc_6: 0.8090 - 337ms/epoch - 56ms/step\n",
      "Epoch 6/50\n",
      "6/6 - 0s - loss: 1.2041 - accuracy: 0.5478 - auc_6: 0.8040 - val_loss: 1.1737 - val_accuracy: 0.5787 - val_auc_6: 0.8090 - 341ms/epoch - 57ms/step\n",
      "Epoch 7/50\n",
      "6/6 - 0s - loss: 1.2007 - accuracy: 0.5478 - auc_6: 0.8008 - val_loss: 1.1726 - val_accuracy: 0.5787 - val_auc_6: 0.8090 - 343ms/epoch - 57ms/step\n",
      "Epoch 8/50\n",
      "6/6 - 0s - loss: 1.1984 - accuracy: 0.5478 - auc_6: 0.8006 - val_loss: 1.1718 - val_accuracy: 0.5787 - val_auc_6: 0.8090 - 339ms/epoch - 57ms/step\n",
      "Epoch 9/50\n",
      "6/6 - 0s - loss: 1.1969 - accuracy: 0.5478 - auc_6: 0.8007 - val_loss: 1.1711 - val_accuracy: 0.5787 - val_auc_6: 0.8090 - 345ms/epoch - 57ms/step\n",
      "Epoch 10/50\n",
      "6/6 - 0s - loss: 1.1958 - accuracy: 0.5478 - auc_6: 0.8013 - val_loss: 1.1709 - val_accuracy: 0.5787 - val_auc_6: 0.8090 - 338ms/epoch - 56ms/step\n",
      "Epoch 11/50\n",
      "6/6 - 0s - loss: 1.1950 - accuracy: 0.5478 - auc_6: 0.8013 - val_loss: 1.1706 - val_accuracy: 0.5787 - val_auc_6: 0.8090 - 340ms/epoch - 57ms/step\n",
      "Epoch 12/50\n",
      "6/6 - 0s - loss: 1.1946 - accuracy: 0.5478 - auc_6: 0.8012 - val_loss: 1.1703 - val_accuracy: 0.5787 - val_auc_6: 0.8090 - 344ms/epoch - 57ms/step\n",
      "Epoch 13/50\n",
      "6/6 - 0s - loss: 1.1941 - accuracy: 0.5478 - auc_6: 0.8013 - val_loss: 1.1701 - val_accuracy: 0.5787 - val_auc_6: 0.8090 - 340ms/epoch - 57ms/step\n",
      "Epoch 14/50\n",
      "6/6 - 0s - loss: 1.1939 - accuracy: 0.5478 - auc_6: 0.8013 - val_loss: 1.1699 - val_accuracy: 0.5787 - val_auc_6: 0.8090 - 340ms/epoch - 57ms/step\n",
      "Epoch 15/50\n",
      "6/6 - 0s - loss: 1.1936 - accuracy: 0.5478 - auc_6: 0.8013 - val_loss: 1.1698 - val_accuracy: 0.5787 - val_auc_6: 0.8090 - 338ms/epoch - 56ms/step\n",
      "Epoch 16/50\n",
      "6/6 - 0s - loss: 1.1934 - accuracy: 0.5478 - auc_6: 0.8013 - val_loss: 1.1697 - val_accuracy: 0.5787 - val_auc_6: 0.8090 - 341ms/epoch - 57ms/step\n",
      "Epoch 17/50\n",
      "6/6 - 0s - loss: 1.1933 - accuracy: 0.5478 - auc_6: 0.8013 - val_loss: 1.1696 - val_accuracy: 0.5787 - val_auc_6: 0.8090 - 340ms/epoch - 57ms/step\n",
      "Epoch 18/50\n",
      "6/6 - 0s - loss: 1.1932 - accuracy: 0.5478 - auc_6: 0.8013 - val_loss: 1.1695 - val_accuracy: 0.5787 - val_auc_6: 0.8090 - 343ms/epoch - 57ms/step\n",
      "Epoch 19/50\n",
      "6/6 - 0s - loss: 1.1931 - accuracy: 0.5478 - auc_6: 0.8013 - val_loss: 1.1695 - val_accuracy: 0.5787 - val_auc_6: 0.8090 - 340ms/epoch - 57ms/step\n",
      "Epoch 20/50\n",
      "6/6 - 0s - loss: 1.1930 - accuracy: 0.5478 - auc_6: 0.8013 - val_loss: 1.1695 - val_accuracy: 0.5787 - val_auc_6: 0.8090 - 338ms/epoch - 56ms/step\n",
      "Epoch 21/50\n",
      "6/6 - 0s - loss: 1.1930 - accuracy: 0.5478 - auc_6: 0.8013 - val_loss: 1.1694 - val_accuracy: 0.5787 - val_auc_6: 0.8090 - 345ms/epoch - 58ms/step\n",
      "Epoch 22/50\n",
      "6/6 - 0s - loss: 1.1930 - accuracy: 0.5478 - auc_6: 0.8013 - val_loss: 1.1694 - val_accuracy: 0.5787 - val_auc_6: 0.8090 - 340ms/epoch - 57ms/step\n",
      "Epoch 23/50\n",
      "6/6 - 0s - loss: 1.1929 - accuracy: 0.5478 - auc_6: 0.8013 - val_loss: 1.1694 - val_accuracy: 0.5787 - val_auc_6: 0.8090 - 338ms/epoch - 56ms/step\n",
      "Epoch 24/50\n",
      "6/6 - 0s - loss: 1.1929 - accuracy: 0.5478 - auc_6: 0.8013 - val_loss: 1.1694 - val_accuracy: 0.5787 - val_auc_6: 0.8090 - 337ms/epoch - 56ms/step\n",
      "Epoch 25/50\n",
      "6/6 - 0s - loss: 1.1929 - accuracy: 0.5478 - auc_6: 0.8013 - val_loss: 1.1694 - val_accuracy: 0.5787 - val_auc_6: 0.8090 - 339ms/epoch - 57ms/step\n",
      "Epoch 26/50\n",
      "6/6 - 0s - loss: 1.1929 - accuracy: 0.5478 - auc_6: 0.8013 - val_loss: 1.1694 - val_accuracy: 0.5787 - val_auc_6: 0.8090 - 339ms/epoch - 56ms/step\n",
      "Epoch 27/50\n",
      "6/6 - 0s - loss: 1.1929 - accuracy: 0.5478 - auc_6: 0.8013 - val_loss: 1.1694 - val_accuracy: 0.5787 - val_auc_6: 0.8090 - 339ms/epoch - 57ms/step\n",
      "Epoch 28/50\n",
      "6/6 - 0s - loss: 1.1929 - accuracy: 0.5478 - auc_6: 0.8013 - val_loss: 1.1694 - val_accuracy: 0.5787 - val_auc_6: 0.8090 - 336ms/epoch - 56ms/step\n",
      "Epoch 29/50\n",
      "6/6 - 0s - loss: 1.1929 - accuracy: 0.5478 - auc_6: 0.8013 - val_loss: 1.1694 - val_accuracy: 0.5787 - val_auc_6: 0.8090 - 343ms/epoch - 57ms/step\n",
      "Epoch 30/50\n",
      "6/6 - 0s - loss: 1.1929 - accuracy: 0.5478 - auc_6: 0.8013 - val_loss: 1.1694 - val_accuracy: 0.5787 - val_auc_6: 0.8090 - 338ms/epoch - 56ms/step\n",
      "Epoch 31/50\n",
      "6/6 - 0s - loss: 1.1929 - accuracy: 0.5478 - auc_6: 0.8013 - val_loss: 1.1694 - val_accuracy: 0.5787 - val_auc_6: 0.8090 - 337ms/epoch - 56ms/step\n",
      "Epoch 32/50\n",
      "6/6 - 0s - loss: 1.1929 - accuracy: 0.5478 - auc_6: 0.8013 - val_loss: 1.1694 - val_accuracy: 0.5787 - val_auc_6: 0.8090 - 342ms/epoch - 57ms/step\n",
      "Epoch 33/50\n",
      "6/6 - 0s - loss: 1.1929 - accuracy: 0.5478 - auc_6: 0.8013 - val_loss: 1.1694 - val_accuracy: 0.5787 - val_auc_6: 0.8090 - 340ms/epoch - 57ms/step\n",
      "Epoch 34/50\n",
      "6/6 - 0s - loss: 1.1929 - accuracy: 0.5478 - auc_6: 0.8013 - val_loss: 1.1694 - val_accuracy: 0.5787 - val_auc_6: 0.8090 - 346ms/epoch - 58ms/step\n",
      "Epoch 35/50\n",
      "6/6 - 0s - loss: 1.1929 - accuracy: 0.5478 - auc_6: 0.8013 - val_loss: 1.1694 - val_accuracy: 0.5787 - val_auc_6: 0.8090 - 337ms/epoch - 56ms/step\n",
      "Epoch 36/50\n",
      "6/6 - 0s - loss: 1.1929 - accuracy: 0.5478 - auc_6: 0.8013 - val_loss: 1.1694 - val_accuracy: 0.5787 - val_auc_6: 0.8090 - 339ms/epoch - 56ms/step\n",
      "Epoch 37/50\n",
      "6/6 - 0s - loss: 1.1929 - accuracy: 0.5478 - auc_6: 0.8013 - val_loss: 1.1694 - val_accuracy: 0.5787 - val_auc_6: 0.8090 - 343ms/epoch - 57ms/step\n",
      "Epoch 38/50\n",
      "6/6 - 0s - loss: 1.1929 - accuracy: 0.5478 - auc_6: 0.8013 - val_loss: 1.1694 - val_accuracy: 0.5787 - val_auc_6: 0.8090 - 340ms/epoch - 57ms/step\n",
      "Epoch 39/50\n",
      "6/6 - 0s - loss: 1.1929 - accuracy: 0.5478 - auc_6: 0.8013 - val_loss: 1.1694 - val_accuracy: 0.5787 - val_auc_6: 0.8090 - 338ms/epoch - 56ms/step\n",
      "Epoch 40/50\n",
      "6/6 - 0s - loss: 1.1929 - accuracy: 0.5478 - auc_6: 0.8013 - val_loss: 1.1694 - val_accuracy: 0.5787 - val_auc_6: 0.8090 - 341ms/epoch - 57ms/step\n",
      "Epoch 41/50\n",
      "6/6 - 0s - loss: 1.1929 - accuracy: 0.5478 - auc_6: 0.8013 - val_loss: 1.1694 - val_accuracy: 0.5787 - val_auc_6: 0.8090 - 337ms/epoch - 56ms/step\n",
      "Epoch 42/50\n",
      "6/6 - 0s - loss: 1.1929 - accuracy: 0.5478 - auc_6: 0.8013 - val_loss: 1.1694 - val_accuracy: 0.5787 - val_auc_6: 0.8090 - 332ms/epoch - 55ms/step\n",
      "Epoch 43/50\n",
      "6/6 - 0s - loss: 1.1929 - accuracy: 0.5478 - auc_6: 0.8013 - val_loss: 1.1694 - val_accuracy: 0.5787 - val_auc_6: 0.8090 - 323ms/epoch - 54ms/step\n",
      "Epoch 44/50\n",
      "6/6 - 0s - loss: 1.1929 - accuracy: 0.5478 - auc_6: 0.8013 - val_loss: 1.1694 - val_accuracy: 0.5787 - val_auc_6: 0.8090 - 341ms/epoch - 57ms/step\n",
      "Epoch 45/50\n",
      "6/6 - 0s - loss: 1.1929 - accuracy: 0.5478 - auc_6: 0.8013 - val_loss: 1.1694 - val_accuracy: 0.5787 - val_auc_6: 0.8090 - 344ms/epoch - 57ms/step\n",
      "Epoch 46/50\n",
      "6/6 - 0s - loss: 1.1929 - accuracy: 0.5478 - auc_6: 0.8013 - val_loss: 1.1694 - val_accuracy: 0.5787 - val_auc_6: 0.8090 - 413ms/epoch - 69ms/step\n"
     ]
    },
    {
     "data": {
      "image/png": "[encoded data removed]",
      "text/plain": [
       "<Figure size 432x288 with 1 Axes>"
      ]
     },
     "metadata": {
      "needs_background": "light"
     },
     "output_type": "display_data"
    },
    {
     "name": "stdout",
     "output_type": "stream",
     "text": [
      "Epoch 1/50\n",
      "6/6 - 2s - loss: 1.4136 - accuracy: 0.3511 - auc_7: 0.7507 - val_loss: 1.3780 - val_accuracy: 0.5618 - val_auc_7: 0.7799 - 2s/epoch - 377ms/step\n",
      "Epoch 2/50\n",
      "6/6 - 0s - loss: 1.3009 - accuracy: 0.5562 - auc_7: 0.8000 - val_loss: 1.2618 - val_accuracy: 0.5618 - val_auc_7: 0.7803 - 341ms/epoch - 57ms/step\n",
      "Epoch 3/50\n",
      "6/6 - 0s - loss: 1.2235 - accuracy: 0.5562 - auc_7: 0.8086 - val_loss: 1.2228 - val_accuracy: 0.5618 - val_auc_7: 0.7979 - 349ms/epoch - 58ms/step\n",
      "Epoch 4/50\n",
      "6/6 - 0s - loss: 1.2074 - accuracy: 0.5562 - auc_7: 0.8098 - val_loss: 1.2119 - val_accuracy: 0.5618 - val_auc_7: 0.7979 - 341ms/epoch - 57ms/step\n",
      "Epoch 5/50\n",
      "6/6 - 0s - loss: 1.2056 - accuracy: 0.5562 - auc_7: 0.8009 - val_loss: 1.2194 - val_accuracy: 0.5618 - val_auc_7: 0.7901 - 358ms/epoch - 60ms/step\n",
      "Epoch 6/50\n",
      "6/6 - 0s - loss: 1.2004 - accuracy: 0.5562 - auc_7: 0.8011 - val_loss: 1.2148 - val_accuracy: 0.5618 - val_auc_7: 0.7901 - 345ms/epoch - 58ms/step\n"
     ]
    },
    {
     "data": {
      "image/png": "[encoded data removed]",
      "text/plain": [
       "<Figure size 432x288 with 1 Axes>"
      ]
     },
     "metadata": {
      "needs_background": "light"
     },
     "output_type": "display_data"
    }
   ],
   "source": [
    "model2 = get_CNN(n_features, n_length, n_outputs)\n",
    "for train_index, val_index in kf.split(X):\n",
    "    X_train, X_val = X[train_index], X[val_index]\n",
    "    y_train, y_val = y[train_index], y[val_index]\n",
    "    model2 = get_CNN(n_features, n_length, n_outputs)\n",
    "    history = train(model2, X_train, y_train, X_val, y_val, epochs=epochs, batch_size=batch_size)\n",
    "    plt.plot(history.history['loss'])\n",
    "    plt.show()"
   ]
  },
  {
   "cell_type": "code",
   "execution_count": 16,
   "metadata": {},
   "outputs": [
    {
     "name": "stdout",
     "output_type": "stream",
     "text": [
      "\n",
      "Accuracy: 50.617%\n",
      "\n",
      "AUC: 0.8009\n"
     ]
    }
   ],
   "source": [
    "loss, accuracy, auc = model2.evaluate(X_test, y_test, batch_size=batch_size, verbose=0)\n",
    "score = accuracy * 100\n",
    "accuracies.append(round(score, 2))\n",
    "aucs.append(round(auc * 100, 2))\n",
    "print('\\nAccuracy: %.3f%%' % score)\n",
    "print('\\nAUC:', round(auc, 4))"
   ]
  },
  {
   "cell_type": "markdown",
   "metadata": {},
   "source": [
    "#### Convolutional LSTM Model"
   ]
  },
  {
   "cell_type": "code",
   "execution_count": 17,
   "metadata": {},
   "outputs": [
    {
     "name": "stdout",
     "output_type": "stream",
     "text": [
      "Epoch 1/50\n",
      "6/6 - 4s - loss: 140.2477 - accuracy: 0.2416 - auc_9: 0.5319 - val_loss: 38.1131 - val_accuracy: 0.5281 - val_auc_9: 0.7079 - 4s/epoch - 585ms/step\n",
      "Epoch 2/50\n",
      "6/6 - 1s - loss: 13.7091 - accuracy: 0.4354 - auc_9: 0.6958 - val_loss: 3.0324 - val_accuracy: 0.0506 - val_auc_9: 0.3973 - 949ms/epoch - 158ms/step\n",
      "Epoch 3/50\n",
      "6/6 - 1s - loss: 1.8691 - accuracy: 0.1938 - auc_9: 0.4874 - val_loss: 1.9465 - val_accuracy: 0.4944 - val_auc_9: 0.6565 - 1s/epoch - 168ms/step\n",
      "Epoch 4/50\n",
      "6/6 - 1s - loss: 1.5561 - accuracy: 0.5787 - auc_9: 0.7414 - val_loss: 1.8303 - val_accuracy: 0.5112 - val_auc_9: 0.7012 - 899ms/epoch - 150ms/step\n",
      "Epoch 5/50\n",
      "6/6 - 1s - loss: 1.5608 - accuracy: 0.5787 - auc_9: 0.7485 - val_loss: 1.7883 - val_accuracy: 0.5112 - val_auc_9: 0.7026 - 901ms/epoch - 150ms/step\n",
      "Epoch 6/50\n",
      "6/6 - 1s - loss: 1.5572 - accuracy: 0.5815 - auc_9: 0.7494 - val_loss: 1.7658 - val_accuracy: 0.5225 - val_auc_9: 0.7034 - 894ms/epoch - 149ms/step\n",
      "Epoch 7/50\n",
      "6/6 - 1s - loss: 1.5537 - accuracy: 0.5843 - auc_9: 0.7500 - val_loss: 1.7599 - val_accuracy: 0.5225 - val_auc_9: 0.7034 - 894ms/epoch - 149ms/step\n",
      "Epoch 8/50\n",
      "6/6 - 1s - loss: 1.5512 - accuracy: 0.5871 - auc_9: 0.7510 - val_loss: 1.7597 - val_accuracy: 0.5281 - val_auc_9: 0.7034 - 884ms/epoch - 147ms/step\n",
      "Epoch 9/50\n",
      "6/6 - 1s - loss: 1.5494 - accuracy: 0.5871 - auc_9: 0.7507 - val_loss: 1.7626 - val_accuracy: 0.5281 - val_auc_9: 0.7034 - 869ms/epoch - 145ms/step\n",
      "Epoch 10/50\n",
      "6/6 - 1s - loss: 1.5479 - accuracy: 0.5871 - auc_9: 0.7505 - val_loss: 1.7669 - val_accuracy: 0.5281 - val_auc_9: 0.7034 - 886ms/epoch - 148ms/step\n"
     ]
    },
    {
     "data": {
      "image/png": "[encoded data removed]",
      "text/plain": [
       "<Figure size 432x288 with 1 Axes>"
      ]
     },
     "metadata": {
      "needs_background": "light"
     },
     "output_type": "display_data"
    },
    {
     "name": "stdout",
     "output_type": "stream",
     "text": [
      "Epoch 1/50\n",
      "6/6 - 4s - loss: 81.4975 - accuracy: 0.2921 - auc_10: 0.5682 - val_loss: 6.8132 - val_accuracy: 0.5393 - val_auc_10: 0.7408 - 4s/epoch - 583ms/step\n",
      "Epoch 2/50\n",
      "6/6 - 1s - loss: 4.2633 - accuracy: 0.5140 - auc_10: 0.6684 - val_loss: 1.6005 - val_accuracy: 0.5618 - val_auc_10: 0.7231 - 966ms/epoch - 161ms/step\n",
      "Epoch 3/50\n",
      "6/6 - 1s - loss: 1.5949 - accuracy: 0.5449 - auc_10: 0.7187 - val_loss: 1.6022 - val_accuracy: 0.5787 - val_auc_10: 0.7268 - 918ms/epoch - 153ms/step\n",
      "Epoch 4/50\n",
      "6/6 - 1s - loss: 1.5963 - accuracy: 0.5534 - auc_10: 0.7181 - val_loss: 1.5983 - val_accuracy: 0.5787 - val_auc_10: 0.7184 - 980ms/epoch - 163ms/step\n",
      "Epoch 5/50\n",
      "6/6 - 1s - loss: 1.5890 - accuracy: 0.5506 - auc_10: 0.7297 - val_loss: 1.5945 - val_accuracy: 0.5787 - val_auc_10: 0.7681 - 918ms/epoch - 153ms/step\n",
      "Epoch 6/50\n",
      "6/6 - 1s - loss: 1.5816 - accuracy: 0.5534 - auc_10: 0.7869 - val_loss: 1.5902 - val_accuracy: 0.5730 - val_auc_10: 0.7936 - 1s/epoch - 192ms/step\n",
      "Epoch 7/50\n",
      "6/6 - 1s - loss: 1.5731 - accuracy: 0.5562 - auc_10: 0.7951 - val_loss: 1.5472 - val_accuracy: 0.5674 - val_auc_10: 0.7965 - 1s/epoch - 191ms/step\n",
      "Epoch 8/50\n",
      "6/6 - 1s - loss: 1.5707 - accuracy: 0.5421 - auc_10: 0.7889 - val_loss: 1.5495 - val_accuracy: 0.5787 - val_auc_10: 0.7988 - 1s/epoch - 175ms/step\n",
      "Epoch 9/50\n",
      "6/6 - 1s - loss: 1.5523 - accuracy: 0.5562 - auc_10: 0.7969 - val_loss: 1.5653 - val_accuracy: 0.5674 - val_auc_10: 0.7989 - 1s/epoch - 193ms/step\n"
     ]
    },
    {
     "data": {
      "image/png": "[encoded data removed]",
      "text/plain": [
       "<Figure size 432x288 with 1 Axes>"
      ]
     },
     "metadata": {
      "needs_background": "light"
     },
     "output_type": "display_data"
    },
    {
     "name": "stdout",
     "output_type": "stream",
     "text": [
      "Epoch 1/50\n",
      "6/6 - 4s - loss: 167.4202 - accuracy: 0.3174 - auc_11: 0.5787 - val_loss: 128.6980 - val_accuracy: 0.5393 - val_auc_11: 0.7115 - 4s/epoch - 682ms/step\n",
      "Epoch 2/50\n",
      "6/6 - 1s - loss: 65.3308 - accuracy: 0.4073 - auc_11: 0.6717 - val_loss: 24.7578 - val_accuracy: 0.5449 - val_auc_11: 0.7443 - 1s/epoch - 199ms/step\n",
      "Epoch 3/50\n",
      "6/6 - 1s - loss: 15.7779 - accuracy: 0.2444 - auc_11: 0.5833 - val_loss: 11.3765 - val_accuracy: 0.5449 - val_auc_11: 0.7694 - 955ms/epoch - 159ms/step\n",
      "Epoch 4/50\n",
      "6/6 - 1s - loss: 5.7461 - accuracy: 0.5506 - auc_11: 0.7619 - val_loss: 4.1297 - val_accuracy: 0.5225 - val_auc_11: 0.7522 - 1s/epoch - 189ms/step\n",
      "Epoch 5/50\n",
      "6/6 - 1s - loss: 2.2060 - accuracy: 0.4831 - auc_11: 0.7530 - val_loss: 2.3775 - val_accuracy: 0.5618 - val_auc_11: 0.6557 - 1s/epoch - 228ms/step\n",
      "Epoch 6/50\n",
      "6/6 - 1s - loss: 1.7558 - accuracy: 0.5281 - auc_11: 0.6601 - val_loss: 2.1127 - val_accuracy: 0.5169 - val_auc_11: 0.5882 - 1s/epoch - 173ms/step\n",
      "Epoch 7/50\n",
      "6/6 - 1s - loss: 1.6886 - accuracy: 0.5253 - auc_11: 0.6801 - val_loss: 1.9976 - val_accuracy: 0.5337 - val_auc_11: 0.6913 - 1s/epoch - 168ms/step\n",
      "Epoch 8/50\n",
      "6/6 - 1s - loss: 1.6377 - accuracy: 0.5337 - auc_11: 0.6976 - val_loss: 1.9440 - val_accuracy: 0.5393 - val_auc_11: 0.6964 - 942ms/epoch - 157ms/step\n",
      "Epoch 9/50\n"
     ]
    }
   ],
   "source": [
    "model3 = get_convLSTM(n_features, n_length, n_outputs)\n",
    "for train_index, val_index in kf.split(X):\n",
    "    X_train, X_val = X[train_index], X[val_index]\n",
    "    y_train, y_val = y[train_index], y[val_index]\n",
    "    model3 = get_convLSTM(n_features, n_length, n_outputs)\n",
    "    history = train(model3, X_train, y_train, X_val, y_val, epochs=epochs, batch_size=batch_size)\n",
    "    plt.plot(history.history['loss'])\n",
    "    plt.show()"
   ]
  },
  {
   "cell_type": "code",
   "execution_count": null,
   "metadata": {},
   "outputs": [
    {
     "name": "stdout",
     "output_type": "stream",
     "text": [
      "\n",
      "Accuracy: 49.383%\n",
      "\n",
      "AUC: 0.718\n"
     ]
    }
   ],
   "source": [
    "loss, accuracy, auc = model3.evaluate(X_test, y_test, batch_size=batch_size, verbose=0)\n",
    "score = accuracy * 100\n",
    "accuracies.append(round(score, 2))\n",
    "aucs.append(round(auc * 100, 2))\n",
    "print('\\nAccuracy: %.3f%%' % score)\n",
    "print('\\nAUC:', round(auc, 4))"
   ]
  },
  {
   "cell_type": "markdown",
   "metadata": {},
   "source": [
    "#### RCNN (Recurrent CNN) Model"
   ]
  },
  {
   "cell_type": "code",
   "execution_count": null,
   "metadata": {},
   "outputs": [
    {
     "name": "stdout",
     "output_type": "stream",
     "text": [
      "Epoch 1/50\n",
      "6/6 - 2s - loss: 18.5499 - accuracy: 0.3539 - auc_99: 0.6218 - val_loss: 371.0449 - val_accuracy: 0.5337 - val_auc_99: 0.7086 - 2s/epoch - 351ms/step\n",
      "Epoch 2/50\n",
      "6/6 - 1s - loss: 10.3834 - accuracy: 0.5309 - auc_99: 0.7163 - val_loss: 120.1853 - val_accuracy: 0.1742 - val_auc_99: 0.4904 - 920ms/epoch - 153ms/step\n",
      "Epoch 3/50\n",
      "6/6 - 1s - loss: 3.9192 - accuracy: 0.3680 - auc_99: 0.6958 - val_loss: 13.4643 - val_accuracy: 0.2360 - val_auc_99: 0.5534 - 951ms/epoch - 158ms/step\n",
      "Epoch 4/50\n",
      "6/6 - 1s - loss: 2.3693 - accuracy: 0.3427 - auc_99: 0.7066 - val_loss: 15.6078 - val_accuracy: 0.5281 - val_auc_99: 0.7139 - 941ms/epoch - 157ms/step\n",
      "Epoch 5/50\n",
      "6/6 - 1s - loss: 1.9674 - accuracy: 0.5281 - auc_99: 0.8043 - val_loss: 17.8011 - val_accuracy: 0.5337 - val_auc_99: 0.7086 - 920ms/epoch - 153ms/step\n"
     ]
    },
    {
     "data": {
      "image/png": "[encoded data removed]",
      "text/plain": [
       "<Figure size 576x576 with 1 Axes>"
      ]
     },
     "metadata": {
      "needs_background": "light"
     },
     "output_type": "display_data"
    },
    {
     "name": "stdout",
     "output_type": "stream",
     "text": [
      "Epoch 1/50\n",
      "6/6 - 2s - loss: 11.5258 - accuracy: 0.3848 - auc_100: 0.6508 - val_loss: 282.3927 - val_accuracy: 0.1742 - val_auc_100: 0.4838 - 2s/epoch - 308ms/step\n",
      "Epoch 2/50\n",
      "6/6 - 1s - loss: 6.1994 - accuracy: 0.4466 - auc_100: 0.7086 - val_loss: 214.9577 - val_accuracy: 0.5787 - val_auc_100: 0.7367 - 907ms/epoch - 151ms/step\n",
      "Epoch 3/50\n",
      "6/6 - 1s - loss: 3.9196 - accuracy: 0.4831 - auc_100: 0.7585 - val_loss: 62.6624 - val_accuracy: 0.2022 - val_auc_100: 0.5386 - 908ms/epoch - 151ms/step\n",
      "Epoch 4/50\n",
      "6/6 - 1s - loss: 2.9488 - accuracy: 0.4944 - auc_100: 0.7964 - val_loss: 112.6633 - val_accuracy: 0.0506 - val_auc_100: 0.4066 - 927ms/epoch - 154ms/step\n",
      "Epoch 5/50\n",
      "6/6 - 1s - loss: 2.5277 - accuracy: 0.5421 - auc_100: 0.8260 - val_loss: 54.3847 - val_accuracy: 0.1124 - val_auc_100: 0.4534 - 922ms/epoch - 154ms/step\n",
      "Epoch 6/50\n",
      "6/6 - 1s - loss: 1.8344 - accuracy: 0.6124 - auc_100: 0.8739 - val_loss: 40.9604 - val_accuracy: 0.4888 - val_auc_100: 0.7219 - 927ms/epoch - 155ms/step\n",
      "Epoch 7/50\n",
      "6/6 - 1s - loss: 1.7170 - accuracy: 0.5815 - auc_100: 0.8690 - val_loss: 34.3495 - val_accuracy: 0.5393 - val_auc_100: 0.7329 - 923ms/epoch - 154ms/step\n",
      "Epoch 8/50\n",
      "6/6 - 1s - loss: 1.5993 - accuracy: 0.6292 - auc_100: 0.8890 - val_loss: 47.7534 - val_accuracy: 0.0618 - val_auc_100: 0.4174 - 921ms/epoch - 153ms/step\n",
      "Epoch 9/50\n",
      "6/6 - 1s - loss: 1.4151 - accuracy: 0.6517 - auc_100: 0.8981 - val_loss: 34.0484 - val_accuracy: 0.0899 - val_auc_100: 0.4484 - 925ms/epoch - 154ms/step\n",
      "Epoch 10/50\n",
      "6/6 - 1s - loss: 1.2847 - accuracy: 0.6376 - auc_100: 0.9006 - val_loss: 25.2055 - val_accuracy: 0.2416 - val_auc_100: 0.5655 - 922ms/epoch - 154ms/step\n",
      "Epoch 11/50\n",
      "6/6 - 1s - loss: 1.3359 - accuracy: 0.6742 - auc_100: 0.9115 - val_loss: 21.8161 - val_accuracy: 0.3146 - val_auc_100: 0.6087 - 927ms/epoch - 154ms/step\n",
      "Epoch 12/50\n",
      "6/6 - 1s - loss: 0.9568 - accuracy: 0.6966 - auc_100: 0.9297 - val_loss: 20.4062 - val_accuracy: 0.2191 - val_auc_100: 0.5539 - 913ms/epoch - 152ms/step\n",
      "Epoch 13/50\n",
      "6/6 - 1s - loss: 1.0391 - accuracy: 0.6826 - auc_100: 0.9197 - val_loss: 18.2732 - val_accuracy: 0.2360 - val_auc_100: 0.5604 - 919ms/epoch - 153ms/step\n",
      "Epoch 14/50\n",
      "6/6 - 1s - loss: 0.9859 - accuracy: 0.6742 - auc_100: 0.9259 - val_loss: 16.9701 - val_accuracy: 0.2247 - val_auc_100: 0.5595 - 923ms/epoch - 154ms/step\n",
      "Epoch 15/50\n",
      "6/6 - 1s - loss: 0.9321 - accuracy: 0.6994 - auc_100: 0.9353 - val_loss: 15.1894 - val_accuracy: 0.2697 - val_auc_100: 0.5780 - 924ms/epoch - 154ms/step\n",
      "Epoch 16/50\n",
      "6/6 - 1s - loss: 0.9880 - accuracy: 0.6994 - auc_100: 0.9264 - val_loss: 13.5754 - val_accuracy: 0.3371 - val_auc_100: 0.6186 - 914ms/epoch - 152ms/step\n",
      "Epoch 17/50\n",
      "6/6 - 1s - loss: 0.9555 - accuracy: 0.7444 - auc_100: 0.9334 - val_loss: 12.4815 - val_accuracy: 0.3539 - val_auc_100: 0.6382 - 910ms/epoch - 152ms/step\n",
      "Epoch 18/50\n",
      "6/6 - 1s - loss: 0.9617 - accuracy: 0.7022 - auc_100: 0.9311 - val_loss: 11.5786 - val_accuracy: 0.3596 - val_auc_100: 0.6497 - 913ms/epoch - 152ms/step\n",
      "Epoch 19/50\n",
      "6/6 - 1s - loss: 1.0601 - accuracy: 0.6994 - auc_100: 0.9295 - val_loss: 10.7227 - val_accuracy: 0.3708 - val_auc_100: 0.6587 - 926ms/epoch - 154ms/step\n",
      "Epoch 20/50\n",
      "6/6 - 1s - loss: 0.9542 - accuracy: 0.7331 - auc_100: 0.9400 - val_loss: 10.0225 - val_accuracy: 0.3708 - val_auc_100: 0.6674 - 913ms/epoch - 152ms/step\n",
      "Epoch 21/50\n",
      "6/6 - 1s - loss: 0.9507 - accuracy: 0.6994 - auc_100: 0.9280 - val_loss: 9.3318 - val_accuracy: 0.3933 - val_auc_100: 0.6847 - 909ms/epoch - 151ms/step\n",
      "Epoch 22/50\n",
      "6/6 - 1s - loss: 1.0305 - accuracy: 0.7135 - auc_100: 0.9327 - val_loss: 8.7203 - val_accuracy: 0.4213 - val_auc_100: 0.6932 - 904ms/epoch - 151ms/step\n",
      "Epoch 23/50\n",
      "6/6 - 1s - loss: 0.9499 - accuracy: 0.7051 - auc_100: 0.9338 - val_loss: 8.2064 - val_accuracy: 0.4101 - val_auc_100: 0.6983 - 916ms/epoch - 153ms/step\n",
      "Epoch 24/50\n",
      "6/6 - 1s - loss: 0.9670 - accuracy: 0.6966 - auc_100: 0.9310 - val_loss: 7.7435 - val_accuracy: 0.4101 - val_auc_100: 0.6990 - 911ms/epoch - 152ms/step\n",
      "Epoch 25/50\n",
      "6/6 - 1s - loss: 0.8963 - accuracy: 0.7107 - auc_100: 0.9355 - val_loss: 7.2996 - val_accuracy: 0.4157 - val_auc_100: 0.7000 - 910ms/epoch - 152ms/step\n",
      "Epoch 26/50\n",
      "6/6 - 1s - loss: 0.9725 - accuracy: 0.7360 - auc_100: 0.9317 - val_loss: 6.9057 - val_accuracy: 0.4157 - val_auc_100: 0.7046 - 916ms/epoch - 153ms/step\n",
      "Epoch 27/50\n",
      "6/6 - 1s - loss: 0.9023 - accuracy: 0.7331 - auc_100: 0.9386 - val_loss: 6.5889 - val_accuracy: 0.4101 - val_auc_100: 0.7085 - 904ms/epoch - 151ms/step\n",
      "Epoch 28/50\n",
      "6/6 - 1s - loss: 0.9341 - accuracy: 0.7191 - auc_100: 0.9371 - val_loss: 6.2823 - val_accuracy: 0.3989 - val_auc_100: 0.7109 - 908ms/epoch - 151ms/step\n",
      "Epoch 29/50\n",
      "6/6 - 1s - loss: 0.9465 - accuracy: 0.7275 - auc_100: 0.9374 - val_loss: 6.0208 - val_accuracy: 0.3933 - val_auc_100: 0.7122 - 914ms/epoch - 152ms/step\n",
      "Epoch 30/50\n",
      "6/6 - 1s - loss: 0.9277 - accuracy: 0.7303 - auc_100: 0.9369 - val_loss: 5.7766 - val_accuracy: 0.3876 - val_auc_100: 0.7126 - 910ms/epoch - 152ms/step\n",
      "Epoch 31/50\n",
      "6/6 - 1s - loss: 1.0366 - accuracy: 0.7331 - auc_100: 0.9369 - val_loss: 5.5351 - val_accuracy: 0.4101 - val_auc_100: 0.7146 - 916ms/epoch - 153ms/step\n",
      "Epoch 32/50\n",
      "6/6 - 1s - loss: 0.9917 - accuracy: 0.6994 - auc_100: 0.9301 - val_loss: 5.3583 - val_accuracy: 0.3764 - val_auc_100: 0.7134 - 905ms/epoch - 151ms/step\n",
      "Epoch 33/50\n",
      "6/6 - 1s - loss: 0.8797 - accuracy: 0.7051 - auc_100: 0.9384 - val_loss: 5.1671 - val_accuracy: 0.3820 - val_auc_100: 0.7190 - 914ms/epoch - 152ms/step\n",
      "Epoch 34/50\n",
      "6/6 - 1s - loss: 0.8910 - accuracy: 0.7360 - auc_100: 0.9412 - val_loss: 4.9967 - val_accuracy: 0.3820 - val_auc_100: 0.7206 - 917ms/epoch - 153ms/step\n",
      "Epoch 35/50\n",
      "6/6 - 1s - loss: 1.0378 - accuracy: 0.7163 - auc_100: 0.9352 - val_loss: 4.8416 - val_accuracy: 0.3764 - val_auc_100: 0.7297 - 909ms/epoch - 151ms/step\n",
      "Epoch 36/50\n",
      "6/6 - 1s - loss: 0.8912 - accuracy: 0.7191 - auc_100: 0.9366 - val_loss: 4.6845 - val_accuracy: 0.3764 - val_auc_100: 0.7311 - 915ms/epoch - 152ms/step\n",
      "Epoch 37/50\n",
      "6/6 - 1s - loss: 0.9445 - accuracy: 0.7135 - auc_100: 0.9372 - val_loss: 4.5393 - val_accuracy: 0.3764 - val_auc_100: 0.7318 - 916ms/epoch - 153ms/step\n",
      "Epoch 38/50\n",
      "6/6 - 1s - loss: 0.9427 - accuracy: 0.7051 - auc_100: 0.9329 - val_loss: 4.4142 - val_accuracy: 0.3820 - val_auc_100: 0.7335 - 911ms/epoch - 152ms/step\n",
      "Epoch 39/50\n",
      "6/6 - 1s - loss: 0.8838 - accuracy: 0.7360 - auc_100: 0.9403 - val_loss: 4.3007 - val_accuracy: 0.3989 - val_auc_100: 0.7381 - 901ms/epoch - 150ms/step\n",
      "Epoch 40/50\n",
      "6/6 - 1s - loss: 0.9304 - accuracy: 0.7303 - auc_100: 0.9393 - val_loss: 4.1759 - val_accuracy: 0.4045 - val_auc_100: 0.7408 - 910ms/epoch - 152ms/step\n",
      "Epoch 41/50\n",
      "6/6 - 1s - loss: 1.0041 - accuracy: 0.7022 - auc_100: 0.9300 - val_loss: 4.0816 - val_accuracy: 0.4157 - val_auc_100: 0.7442 - 904ms/epoch - 151ms/step\n",
      "Epoch 42/50\n",
      "6/6 - 1s - loss: 0.9943 - accuracy: 0.7163 - auc_100: 0.9316 - val_loss: 3.9865 - val_accuracy: 0.4270 - val_auc_100: 0.7476 - 910ms/epoch - 152ms/step\n",
      "Epoch 43/50\n",
      "6/6 - 1s - loss: 0.9961 - accuracy: 0.6882 - auc_100: 0.9304 - val_loss: 3.8985 - val_accuracy: 0.4326 - val_auc_100: 0.7517 - 911ms/epoch - 152ms/step\n",
      "Epoch 44/50\n",
      "6/6 - 1s - loss: 0.9408 - accuracy: 0.7247 - auc_100: 0.9366 - val_loss: 3.8137 - val_accuracy: 0.4382 - val_auc_100: 0.7551 - 915ms/epoch - 152ms/step\n",
      "Epoch 45/50\n",
      "6/6 - 1s - loss: 0.8883 - accuracy: 0.7500 - auc_100: 0.9402 - val_loss: 3.7346 - val_accuracy: 0.4438 - val_auc_100: 0.7600 - 915ms/epoch - 153ms/step\n",
      "Epoch 46/50\n",
      "6/6 - 1s - loss: 0.9565 - accuracy: 0.7303 - auc_100: 0.9365 - val_loss: 3.6663 - val_accuracy: 0.4438 - val_auc_100: 0.7622 - 916ms/epoch - 153ms/step\n",
      "Epoch 47/50\n",
      "6/6 - 1s - loss: 0.9425 - accuracy: 0.6994 - auc_100: 0.9331 - val_loss: 3.5978 - val_accuracy: 0.4382 - val_auc_100: 0.7641 - 954ms/epoch - 159ms/step\n",
      "Epoch 48/50\n",
      "6/6 - 1s - loss: 1.0230 - accuracy: 0.6854 - auc_100: 0.9243 - val_loss: 3.5408 - val_accuracy: 0.4213 - val_auc_100: 0.7660 - 940ms/epoch - 157ms/step\n",
      "Epoch 49/50\n",
      "6/6 - 1s - loss: 0.9810 - accuracy: 0.7051 - auc_100: 0.9348 - val_loss: 3.4856 - val_accuracy: 0.4157 - val_auc_100: 0.7661 - 905ms/epoch - 151ms/step\n",
      "Epoch 50/50\n",
      "6/6 - 1s - loss: 0.8851 - accuracy: 0.7079 - auc_100: 0.9380 - val_loss: 3.4386 - val_accuracy: 0.4326 - val_auc_100: 0.7678 - 895ms/epoch - 149ms/step\n"
     ]
    },
    {
     "data": {
      "image/png": "[encoded data removed]",
      "text/plain": [
       "<Figure size 576x576 with 1 Axes>"
      ]
     },
     "metadata": {
      "needs_background": "light"
     },
     "output_type": "display_data"
    },
    {
     "name": "stdout",
     "output_type": "stream",
     "text": [
      "Epoch 1/50\n",
      "6/6 - 2s - loss: 8.4714 - accuracy: 0.3596 - auc_101: 0.6704 - val_loss: 236.6652 - val_accuracy: 0.1966 - val_auc_101: 0.4979 - 2s/epoch - 308ms/step\n",
      "Epoch 2/50\n",
      "6/6 - 1s - loss: 6.3765 - accuracy: 0.4494 - auc_101: 0.7224 - val_loss: 95.9041 - val_accuracy: 0.5449 - val_auc_101: 0.7218 - 919ms/epoch - 153ms/step\n",
      "Epoch 3/50\n",
      "6/6 - 1s - loss: 4.4929 - accuracy: 0.4607 - auc_101: 0.7494 - val_loss: 59.2404 - val_accuracy: 0.4438 - val_auc_101: 0.7056 - 1s/epoch - 172ms/step\n",
      "Epoch 4/50\n",
      "6/6 - 1s - loss: 3.3758 - accuracy: 0.5478 - auc_101: 0.8190 - val_loss: 24.5885 - val_accuracy: 0.4551 - val_auc_101: 0.7061 - 927ms/epoch - 154ms/step\n",
      "Epoch 5/50\n",
      "6/6 - 1s - loss: 2.6914 - accuracy: 0.4747 - auc_101: 0.8039 - val_loss: 27.1968 - val_accuracy: 0.2191 - val_auc_101: 0.5403 - 921ms/epoch - 153ms/step\n",
      "Epoch 6/50\n",
      "6/6 - 1s - loss: 2.1236 - accuracy: 0.6264 - auc_101: 0.8503 - val_loss: 17.6889 - val_accuracy: 0.5618 - val_auc_101: 0.7319 - 931ms/epoch - 155ms/step\n",
      "Epoch 7/50\n",
      "6/6 - 1s - loss: 1.7503 - accuracy: 0.5927 - auc_101: 0.8626 - val_loss: 17.4230 - val_accuracy: 0.5618 - val_auc_101: 0.7319 - 918ms/epoch - 153ms/step\n",
      "Epoch 8/50\n",
      "6/6 - 1s - loss: 1.4298 - accuracy: 0.6067 - auc_101: 0.8779 - val_loss: 19.2965 - val_accuracy: 0.5618 - val_auc_101: 0.7261 - 914ms/epoch - 152ms/step\n",
      "Epoch 9/50\n",
      "6/6 - 1s - loss: 1.5203 - accuracy: 0.6489 - auc_101: 0.9027 - val_loss: 12.7694 - val_accuracy: 0.5674 - val_auc_101: 0.7281 - 920ms/epoch - 153ms/step\n",
      "Epoch 10/50\n",
      "6/6 - 1s - loss: 1.5735 - accuracy: 0.6433 - auc_101: 0.9051 - val_loss: 10.4509 - val_accuracy: 0.5618 - val_auc_101: 0.7410 - 928ms/epoch - 155ms/step\n",
      "Epoch 11/50\n",
      "6/6 - 1s - loss: 1.2984 - accuracy: 0.6433 - auc_101: 0.9065 - val_loss: 9.8519 - val_accuracy: 0.5506 - val_auc_101: 0.7469 - 916ms/epoch - 153ms/step\n",
      "Epoch 12/50\n",
      "6/6 - 1s - loss: 1.0500 - accuracy: 0.6994 - auc_101: 0.9174 - val_loss: 8.2172 - val_accuracy: 0.5393 - val_auc_101: 0.7529 - 925ms/epoch - 154ms/step\n",
      "Epoch 13/50\n",
      "6/6 - 1s - loss: 1.1050 - accuracy: 0.6685 - auc_101: 0.9112 - val_loss: 7.3468 - val_accuracy: 0.5393 - val_auc_101: 0.7508 - 920ms/epoch - 153ms/step\n",
      "Epoch 14/50\n",
      "6/6 - 1s - loss: 1.1526 - accuracy: 0.6713 - auc_101: 0.9125 - val_loss: 6.6701 - val_accuracy: 0.5393 - val_auc_101: 0.7466 - 928ms/epoch - 155ms/step\n",
      "Epoch 15/50\n",
      "6/6 - 1s - loss: 0.9788 - accuracy: 0.6713 - auc_101: 0.9235 - val_loss: 6.1150 - val_accuracy: 0.5281 - val_auc_101: 0.7455 - 918ms/epoch - 153ms/step\n",
      "Epoch 16/50\n",
      "6/6 - 1s - loss: 0.9717 - accuracy: 0.6770 - auc_101: 0.9165 - val_loss: 5.8430 - val_accuracy: 0.5225 - val_auc_101: 0.7484 - 902ms/epoch - 150ms/step\n",
      "Epoch 17/50\n",
      "6/6 - 1s - loss: 1.1604 - accuracy: 0.7022 - auc_101: 0.9193 - val_loss: 5.7281 - val_accuracy: 0.5169 - val_auc_101: 0.7462 - 909ms/epoch - 151ms/step\n",
      "Epoch 18/50\n",
      "6/6 - 1s - loss: 0.9481 - accuracy: 0.7191 - auc_101: 0.9304 - val_loss: 5.4792 - val_accuracy: 0.5000 - val_auc_101: 0.7479 - 912ms/epoch - 152ms/step\n",
      "Epoch 19/50\n",
      "6/6 - 1s - loss: 0.9800 - accuracy: 0.6882 - auc_101: 0.9270 - val_loss: 5.2794 - val_accuracy: 0.4775 - val_auc_101: 0.7438 - 915ms/epoch - 152ms/step\n",
      "Epoch 20/50\n",
      "6/6 - 1s - loss: 1.0502 - accuracy: 0.6826 - auc_101: 0.9145 - val_loss: 5.1274 - val_accuracy: 0.4607 - val_auc_101: 0.7445 - 910ms/epoch - 152ms/step\n",
      "Epoch 21/50\n",
      "6/6 - 1s - loss: 1.0414 - accuracy: 0.6882 - auc_101: 0.9234 - val_loss: 4.9337 - val_accuracy: 0.4438 - val_auc_101: 0.7389 - 907ms/epoch - 151ms/step\n",
      "Epoch 22/50\n",
      "6/6 - 1s - loss: 1.0002 - accuracy: 0.7191 - auc_101: 0.9294 - val_loss: 4.7587 - val_accuracy: 0.4326 - val_auc_101: 0.7384 - 924ms/epoch - 154ms/step\n",
      "Epoch 23/50\n",
      "6/6 - 1s - loss: 1.0730 - accuracy: 0.6938 - auc_101: 0.9239 - val_loss: 4.6147 - val_accuracy: 0.4045 - val_auc_101: 0.7368 - 916ms/epoch - 153ms/step\n",
      "Epoch 24/50\n",
      "6/6 - 1s - loss: 1.0121 - accuracy: 0.6854 - auc_101: 0.9218 - val_loss: 4.4760 - val_accuracy: 0.3989 - val_auc_101: 0.7408 - 920ms/epoch - 153ms/step\n",
      "Epoch 25/50\n",
      "6/6 - 1s - loss: 1.0578 - accuracy: 0.6770 - auc_101: 0.9195 - val_loss: 4.3628 - val_accuracy: 0.3989 - val_auc_101: 0.7383 - 912ms/epoch - 152ms/step\n",
      "Epoch 26/50\n",
      "6/6 - 1s - loss: 1.0761 - accuracy: 0.7191 - auc_101: 0.9245 - val_loss: 4.2519 - val_accuracy: 0.3876 - val_auc_101: 0.7359 - 912ms/epoch - 152ms/step\n",
      "Epoch 27/50\n",
      "6/6 - 1s - loss: 1.0265 - accuracy: 0.6938 - auc_101: 0.9234 - val_loss: 4.1519 - val_accuracy: 0.3652 - val_auc_101: 0.7339 - 910ms/epoch - 152ms/step\n",
      "Epoch 28/50\n",
      "6/6 - 1s - loss: 0.9668 - accuracy: 0.7107 - auc_101: 0.9224 - val_loss: 4.0718 - val_accuracy: 0.3652 - val_auc_101: 0.7293 - 922ms/epoch - 154ms/step\n",
      "Epoch 29/50\n",
      "6/6 - 1s - loss: 1.1125 - accuracy: 0.6770 - auc_101: 0.9171 - val_loss: 4.0018 - val_accuracy: 0.3764 - val_auc_101: 0.7278 - 908ms/epoch - 151ms/step\n",
      "Epoch 30/50\n",
      "6/6 - 1s - loss: 0.9520 - accuracy: 0.7022 - auc_101: 0.9288 - val_loss: 3.9398 - val_accuracy: 0.3820 - val_auc_101: 0.7289 - 917ms/epoch - 153ms/step\n",
      "Epoch 31/50\n",
      "6/6 - 1s - loss: 0.9429 - accuracy: 0.7022 - auc_101: 0.9295 - val_loss: 3.8821 - val_accuracy: 0.3652 - val_auc_101: 0.7285 - 905ms/epoch - 151ms/step\n",
      "Epoch 32/50\n",
      "6/6 - 1s - loss: 0.9053 - accuracy: 0.6966 - auc_101: 0.9327 - val_loss: 3.8302 - val_accuracy: 0.3652 - val_auc_101: 0.7272 - 911ms/epoch - 152ms/step\n",
      "Epoch 33/50\n",
      "6/6 - 1s - loss: 1.0102 - accuracy: 0.7051 - auc_101: 0.9311 - val_loss: 3.7986 - val_accuracy: 0.3708 - val_auc_101: 0.7236 - 907ms/epoch - 151ms/step\n",
      "Epoch 34/50\n",
      "6/6 - 1s - loss: 1.0352 - accuracy: 0.6966 - auc_101: 0.9305 - val_loss: 3.7754 - val_accuracy: 0.3820 - val_auc_101: 0.7228 - 922ms/epoch - 154ms/step\n",
      "Epoch 35/50\n",
      "6/6 - 1s - loss: 0.9613 - accuracy: 0.6910 - auc_101: 0.9296 - val_loss: 3.7559 - val_accuracy: 0.3764 - val_auc_101: 0.7209 - 918ms/epoch - 153ms/step\n",
      "Epoch 36/50\n",
      "6/6 - 1s - loss: 1.0341 - accuracy: 0.6994 - auc_101: 0.9301 - val_loss: 3.7334 - val_accuracy: 0.3708 - val_auc_101: 0.7209 - 913ms/epoch - 152ms/step\n",
      "Epoch 37/50\n",
      "6/6 - 1s - loss: 0.9396 - accuracy: 0.7079 - auc_101: 0.9296 - val_loss: 3.7187 - val_accuracy: 0.3596 - val_auc_101: 0.7209 - 909ms/epoch - 151ms/step\n",
      "Epoch 38/50\n",
      "6/6 - 1s - loss: 1.0206 - accuracy: 0.6854 - auc_101: 0.9227 - val_loss: 3.7035 - val_accuracy: 0.3708 - val_auc_101: 0.7219 - 917ms/epoch - 153ms/step\n",
      "Epoch 39/50\n",
      "6/6 - 1s - loss: 1.0199 - accuracy: 0.7135 - auc_101: 0.9317 - val_loss: 3.6742 - val_accuracy: 0.3820 - val_auc_101: 0.7189 - 910ms/epoch - 152ms/step\n",
      "Epoch 40/50\n",
      "6/6 - 1s - loss: 1.3720 - accuracy: 0.6713 - auc_101: 0.9173 - val_loss: 3.6574 - val_accuracy: 0.3876 - val_auc_101: 0.7189 - 914ms/epoch - 152ms/step\n",
      "Epoch 41/50\n",
      "6/6 - 1s - loss: 1.1016 - accuracy: 0.6629 - auc_101: 0.9175 - val_loss: 3.6681 - val_accuracy: 0.3708 - val_auc_101: 0.7194 - 920ms/epoch - 153ms/step\n",
      "Epoch 42/50\n",
      "6/6 - 1s - loss: 1.0310 - accuracy: 0.7051 - auc_101: 0.9289 - val_loss: 3.6718 - val_accuracy: 0.3989 - val_auc_101: 0.7220 - 914ms/epoch - 152ms/step\n"
     ]
    },
    {
     "data": {
      "image/png": "[encoded data removed]",
      "text/plain": [
       "<Figure size 576x576 with 1 Axes>"
      ]
     },
     "metadata": {
      "needs_background": "light"
     },
     "output_type": "display_data"
    }
   ],
   "source": [
    "model4 = get_RCNN(n_features, n_length, n_outputs)\n",
    "for train_index, val_index in kf.split(X):\n",
    "    X_train, X_val = X[train_index], X[val_index]\n",
    "    y_train, y_val = y[train_index], y[val_index]\n",
    "    model4 = get_RCNN(n_features, n_length, n_outputs)\n",
    "    history = train(model4, X_train, y_train, X_val, y_val, epochs=epochs, batch_size=batch_size)\n",
    "    plt.plot(history.history['loss'])\n",
    "    plt.show()"
   ]
  },
  {
   "cell_type": "code",
   "execution_count": null,
   "metadata": {},
   "outputs": [
    {
     "name": "stdout",
     "output_type": "stream",
     "text": [
      "\n",
      "Accuracy: 45.679%\n",
      "\n",
      "AUC: 0.7421\n"
     ]
    }
   ],
   "source": [
    "loss, accuracy, auc = model4.evaluate(X_test, y_test, batch_size=batch_size, verbose=0)\n",
    "score = accuracy * 100\n",
    "accuracies.append(round(score, 2))\n",
    "aucs.append(round(auc * 100, 2))\n",
    "print('\\nAccuracy: %.3f%%' % score)\n",
    "print('\\nAUC:', round(auc, 4))"
   ]
  },
  {
   "cell_type": "markdown",
   "metadata": {},
   "source": [
    "### 1.2 Pain level prediction"
   ]
  },
  {
   "cell_type": "markdown",
   "metadata": {},
   "source": [
    "#### Concatenate datasets (fusion stage)"
   ]
  },
  {
   "cell_type": "code",
   "execution_count": null,
   "metadata": {},
   "outputs": [
    {
     "name": "stdout",
     "output_type": "stream",
     "text": [
      "(534, 1, 350, 48) (534, 5)\n",
      "(81, 1, 350, 48) (81, 5)\n"
     ]
    }
   ],
   "source": [
    "X_train, X_test, y_train, y_test = apply_early_fusion('processed', 'pain_area')\n",
    "X = X_train.copy()\n",
    "y = y_train.copy()\n",
    "\n",
    "print(X_train.shape, y_train.shape)\n",
    "print(X_test.shape, y_test.shape)"
   ]
  },
  {
   "cell_type": "code",
   "execution_count": null,
   "metadata": {},
   "outputs": [],
   "source": [
    "n_length, n_features, n_outputs = X_train.shape[2], X_train.shape[-1], y_train.shape[1]"
   ]
  },
  {
   "cell_type": "markdown",
   "metadata": {},
   "source": [
    "#### Bidirectional LSTM Model"
   ]
  },
  {
   "cell_type": "code",
   "execution_count": null,
   "metadata": {},
   "outputs": [
    {
     "name": "stdout",
     "output_type": "stream",
     "text": [
      "Epoch 1/50\n",
      "6/6 - 8s - loss: 795.4510 - accuracy: 0.3343 - auc_17: 0.5845 - val_loss: 511.5229 - val_accuracy: 0.5337 - val_auc_17: 0.7086 - 8s/epoch - 1s/step\n",
      "Epoch 2/50\n",
      "6/6 - 2s - loss: 270.4899 - accuracy: 0.4494 - auc_17: 0.6791 - val_loss: 65.1297 - val_accuracy: 0.1629 - val_auc_17: 0.4908 - 2s/epoch - 268ms/step\n",
      "Epoch 3/50\n",
      "6/6 - 2s - loss: 24.4328 - accuracy: 0.3848 - auc_17: 0.6456 - val_loss: 12.2439 - val_accuracy: 0.3596 - val_auc_17: 0.6093 - 2s/epoch - 270ms/step\n",
      "Epoch 4/50\n",
      "6/6 - 2s - loss: 10.1184 - accuracy: 0.4017 - auc_17: 0.6730 - val_loss: 5.5153 - val_accuracy: 0.2079 - val_auc_17: 0.6570 - 2s/epoch - 268ms/step\n",
      "Epoch 5/50\n",
      "6/6 - 2s - loss: 4.3386 - accuracy: 0.3764 - auc_17: 0.6810 - val_loss: 1.9048 - val_accuracy: 0.4326 - val_auc_17: 0.7596 - 2s/epoch - 268ms/step\n",
      "Epoch 6/50\n",
      "6/6 - 2s - loss: 2.0375 - accuracy: 0.3680 - auc_17: 0.7286 - val_loss: 1.5979 - val_accuracy: 0.3989 - val_auc_17: 0.7219 - 2s/epoch - 269ms/step\n",
      "Epoch 7/50\n",
      "6/6 - 2s - loss: 1.6779 - accuracy: 0.4270 - auc_17: 0.7039 - val_loss: 1.6007 - val_accuracy: 0.3764 - val_auc_17: 0.6836 - 2s/epoch - 266ms/step\n",
      "Epoch 8/50\n",
      "6/6 - 2s - loss: 1.6222 - accuracy: 0.3539 - auc_17: 0.6811 - val_loss: 1.6138 - val_accuracy: 0.3202 - val_auc_17: 0.6537 - 2s/epoch - 270ms/step\n"
     ]
    },
    {
     "data": {
      "image/png": "[encoded data removed]",
      "text/plain": [
       "<Figure size 432x288 with 1 Axes>"
      ]
     },
     "metadata": {
      "needs_background": "light"
     },
     "output_type": "display_data"
    },
    {
     "name": "stdout",
     "output_type": "stream",
     "text": [
      "Epoch 1/50\n",
      "6/6 - 7s - loss: 321.9539 - accuracy: 0.3989 - auc_18: 0.6238 - val_loss: 45.8499 - val_accuracy: 0.2303 - val_auc_18: 0.5375 - 7s/epoch - 1s/step\n",
      "Epoch 2/50\n",
      "6/6 - 2s - loss: 32.2166 - accuracy: 0.3624 - auc_18: 0.6118 - val_loss: 20.2525 - val_accuracy: 0.3371 - val_auc_18: 0.6032 - 2s/epoch - 264ms/step\n",
      "Epoch 3/50\n",
      "6/6 - 2s - loss: 13.7871 - accuracy: 0.2640 - auc_18: 0.5503 - val_loss: 6.1930 - val_accuracy: 0.5169 - val_auc_18: 0.7153 - 2s/epoch - 261ms/step\n",
      "Epoch 4/50\n",
      "6/6 - 2s - loss: 4.0164 - accuracy: 0.5337 - auc_18: 0.7587 - val_loss: 3.8563 - val_accuracy: 0.1404 - val_auc_18: 0.6056 - 2s/epoch - 260ms/step\n",
      "Epoch 5/50\n",
      "6/6 - 2s - loss: 2.9843 - accuracy: 0.2584 - auc_18: 0.6729 - val_loss: 2.4822 - val_accuracy: 0.5337 - val_auc_18: 0.7779 - 2s/epoch - 262ms/step\n",
      "Epoch 6/50\n",
      "6/6 - 2s - loss: 2.1592 - accuracy: 0.5421 - auc_18: 0.8111 - val_loss: 1.9728 - val_accuracy: 0.5618 - val_auc_18: 0.7986 - 2s/epoch - 265ms/step\n",
      "Epoch 7/50\n",
      "6/6 - 2s - loss: 1.7117 - accuracy: 0.5140 - auc_18: 0.7985 - val_loss: 1.7402 - val_accuracy: 0.4101 - val_auc_18: 0.7613 - 2s/epoch - 266ms/step\n",
      "Epoch 8/50\n",
      "6/6 - 2s - loss: 1.5519 - accuracy: 0.5000 - auc_18: 0.7936 - val_loss: 1.5260 - val_accuracy: 0.5787 - val_auc_18: 0.8049 - 2s/epoch - 276ms/step\n",
      "Epoch 9/50\n",
      "6/6 - 2s - loss: 1.3780 - accuracy: 0.5562 - auc_18: 0.8121 - val_loss: 1.4731 - val_accuracy: 0.5674 - val_auc_18: 0.8072 - 2s/epoch - 330ms/step\n",
      "Epoch 10/50\n",
      "6/6 - 2s - loss: 1.3143 - accuracy: 0.5506 - auc_18: 0.8118 - val_loss: 1.4594 - val_accuracy: 0.5449 - val_auc_18: 0.7988 - 2s/epoch - 294ms/step\n",
      "Epoch 11/50\n",
      "6/6 - 2s - loss: 1.2685 - accuracy: 0.5478 - auc_18: 0.8126 - val_loss: 1.4622 - val_accuracy: 0.5449 - val_auc_18: 0.7935 - 2s/epoch - 324ms/step\n",
      "Epoch 12/50\n",
      "6/6 - 2s - loss: 1.2574 - accuracy: 0.5506 - auc_18: 0.8127 - val_loss: 1.4501 - val_accuracy: 0.5506 - val_auc_18: 0.7945 - 2s/epoch - 311ms/step\n",
      "Epoch 13/50\n",
      "6/6 - 2s - loss: 1.2453 - accuracy: 0.5506 - auc_18: 0.8151 - val_loss: 1.4421 - val_accuracy: 0.5449 - val_auc_18: 0.7963 - 2s/epoch - 302ms/step\n",
      "Epoch 14/50\n",
      "6/6 - 2s - loss: 1.2369 - accuracy: 0.5562 - auc_18: 0.8173 - val_loss: 1.4359 - val_accuracy: 0.5449 - val_auc_18: 0.7983 - 2s/epoch - 310ms/step\n",
      "Epoch 15/50\n",
      "6/6 - 2s - loss: 1.2318 - accuracy: 0.5534 - auc_18: 0.8196 - val_loss: 1.4321 - val_accuracy: 0.5449 - val_auc_18: 0.7992 - 2s/epoch - 301ms/step\n",
      "Epoch 16/50\n",
      "6/6 - 2s - loss: 1.2290 - accuracy: 0.5506 - auc_18: 0.8204 - val_loss: 1.4294 - val_accuracy: 0.5449 - val_auc_18: 0.7996 - 2s/epoch - 309ms/step\n",
      "Epoch 17/50\n",
      "6/6 - 2s - loss: 1.2272 - accuracy: 0.5534 - auc_18: 0.8213 - val_loss: 1.4274 - val_accuracy: 0.5449 - val_auc_18: 0.8003 - 2s/epoch - 310ms/step\n",
      "Epoch 18/50\n",
      "6/6 - 2s - loss: 1.2248 - accuracy: 0.5562 - auc_18: 0.8218 - val_loss: 1.4266 - val_accuracy: 0.5449 - val_auc_18: 0.8006 - 2s/epoch - 286ms/step\n",
      "Epoch 19/50\n",
      "6/6 - 2s - loss: 1.2238 - accuracy: 0.5562 - auc_18: 0.8220 - val_loss: 1.4262 - val_accuracy: 0.5449 - val_auc_18: 0.8007 - 2s/epoch - 301ms/step\n",
      "Epoch 20/50\n",
      "6/6 - 2s - loss: 1.2231 - accuracy: 0.5562 - auc_18: 0.8219 - val_loss: 1.4257 - val_accuracy: 0.5449 - val_auc_18: 0.8003 - 2s/epoch - 344ms/step\n",
      "Epoch 21/50\n",
      "6/6 - 2s - loss: 1.2226 - accuracy: 0.5562 - auc_18: 0.8222 - val_loss: 1.4254 - val_accuracy: 0.5449 - val_auc_18: 0.8006 - 2s/epoch - 278ms/step\n",
      "Epoch 22/50\n",
      "6/6 - 2s - loss: 1.2222 - accuracy: 0.5562 - auc_18: 0.8223 - val_loss: 1.4251 - val_accuracy: 0.5449 - val_auc_18: 0.8005 - 2s/epoch - 280ms/step\n",
      "Epoch 23/50\n",
      "6/6 - 2s - loss: 1.2219 - accuracy: 0.5562 - auc_18: 0.8224 - val_loss: 1.4248 - val_accuracy: 0.5449 - val_auc_18: 0.8007 - 2s/epoch - 294ms/step\n",
      "Epoch 24/50\n",
      "6/6 - 2s - loss: 1.2217 - accuracy: 0.5562 - auc_18: 0.8225 - val_loss: 1.4247 - val_accuracy: 0.5449 - val_auc_18: 0.8007 - 2s/epoch - 365ms/step\n",
      "Epoch 25/50\n",
      "6/6 - 2s - loss: 1.2215 - accuracy: 0.5562 - auc_18: 0.8225 - val_loss: 1.4246 - val_accuracy: 0.5449 - val_auc_18: 0.8010 - 2s/epoch - 295ms/step\n",
      "Epoch 26/50\n",
      "6/6 - 2s - loss: 1.2213 - accuracy: 0.5562 - auc_18: 0.8225 - val_loss: 1.4245 - val_accuracy: 0.5449 - val_auc_18: 0.8011 - 2s/epoch - 366ms/step\n",
      "Epoch 27/50\n",
      "6/6 - 2s - loss: 1.2213 - accuracy: 0.5562 - auc_18: 0.8226 - val_loss: 1.4244 - val_accuracy: 0.5449 - val_auc_18: 0.8011 - 2s/epoch - 309ms/step\n",
      "Epoch 28/50\n",
      "6/6 - 2s - loss: 1.2212 - accuracy: 0.5562 - auc_18: 0.8226 - val_loss: 1.4244 - val_accuracy: 0.5449 - val_auc_18: 0.8010 - 2s/epoch - 280ms/step\n",
      "Epoch 29/50\n",
      "6/6 - 2s - loss: 1.2212 - accuracy: 0.5562 - auc_18: 0.8226 - val_loss: 1.4243 - val_accuracy: 0.5449 - val_auc_18: 0.8011 - 2s/epoch - 294ms/step\n",
      "Epoch 30/50\n",
      "6/6 - 2s - loss: 1.2211 - accuracy: 0.5562 - auc_18: 0.8225 - val_loss: 1.4243 - val_accuracy: 0.5449 - val_auc_18: 0.8010 - 2s/epoch - 281ms/step\n",
      "Epoch 31/50\n",
      "6/6 - 2s - loss: 1.2210 - accuracy: 0.5562 - auc_18: 0.8226 - val_loss: 1.4243 - val_accuracy: 0.5449 - val_auc_18: 0.8010 - 2s/epoch - 281ms/step\n",
      "Epoch 32/50\n",
      "6/6 - 2s - loss: 1.2210 - accuracy: 0.5562 - auc_18: 0.8226 - val_loss: 1.4243 - val_accuracy: 0.5449 - val_auc_18: 0.8010 - 2s/epoch - 281ms/step\n",
      "Epoch 33/50\n",
      "6/6 - 2s - loss: 1.2210 - accuracy: 0.5562 - auc_18: 0.8226 - val_loss: 1.4242 - val_accuracy: 0.5449 - val_auc_18: 0.8010 - 2s/epoch - 294ms/step\n",
      "Epoch 34/50\n",
      "6/6 - 2s - loss: 1.2210 - accuracy: 0.5562 - auc_18: 0.8226 - val_loss: 1.4242 - val_accuracy: 0.5449 - val_auc_18: 0.8010 - 2s/epoch - 282ms/step\n",
      "Epoch 35/50\n",
      "6/6 - 2s - loss: 1.2210 - accuracy: 0.5562 - auc_18: 0.8226 - val_loss: 1.4242 - val_accuracy: 0.5449 - val_auc_18: 0.8010 - 2s/epoch - 279ms/step\n",
      "Epoch 36/50\n",
      "6/6 - 2s - loss: 1.2209 - accuracy: 0.5562 - auc_18: 0.8227 - val_loss: 1.4242 - val_accuracy: 0.5449 - val_auc_18: 0.8010 - 2s/epoch - 321ms/step\n",
      "Epoch 37/50\n",
      "6/6 - 2s - loss: 1.2209 - accuracy: 0.5562 - auc_18: 0.8227 - val_loss: 1.4242 - val_accuracy: 0.5449 - val_auc_18: 0.8010 - 2s/epoch - 309ms/step\n",
      "Epoch 38/50\n",
      "6/6 - 2s - loss: 1.2209 - accuracy: 0.5562 - auc_18: 0.8227 - val_loss: 1.4242 - val_accuracy: 0.5449 - val_auc_18: 0.8010 - 2s/epoch - 295ms/step\n",
      "Epoch 39/50\n",
      "6/6 - 2s - loss: 1.2209 - accuracy: 0.5562 - auc_18: 0.8227 - val_loss: 1.4242 - val_accuracy: 0.5449 - val_auc_18: 0.8010 - 2s/epoch - 298ms/step\n",
      "Epoch 40/50\n",
      "6/6 - 2s - loss: 1.2209 - accuracy: 0.5562 - auc_18: 0.8227 - val_loss: 1.4242 - val_accuracy: 0.5449 - val_auc_18: 0.8010 - 2s/epoch - 311ms/step\n",
      "Epoch 41/50\n",
      "6/6 - 2s - loss: 1.2209 - accuracy: 0.5562 - auc_18: 0.8227 - val_loss: 1.4242 - val_accuracy: 0.5449 - val_auc_18: 0.8010 - 2s/epoch - 296ms/step\n",
      "Epoch 42/50\n",
      "6/6 - 2s - loss: 1.2209 - accuracy: 0.5562 - auc_18: 0.8227 - val_loss: 1.4242 - val_accuracy: 0.5449 - val_auc_18: 0.8010 - 2s/epoch - 308ms/step\n",
      "Epoch 43/50\n",
      "6/6 - 2s - loss: 1.2209 - accuracy: 0.5562 - auc_18: 0.8227 - val_loss: 1.4242 - val_accuracy: 0.5449 - val_auc_18: 0.8010 - 2s/epoch - 297ms/step\n",
      "Epoch 44/50\n",
      "6/6 - 2s - loss: 1.2209 - accuracy: 0.5562 - auc_18: 0.8227 - val_loss: 1.4242 - val_accuracy: 0.5449 - val_auc_18: 0.8010 - 2s/epoch - 311ms/step\n",
      "Epoch 45/50\n",
      "6/6 - 2s - loss: 1.2209 - accuracy: 0.5562 - auc_18: 0.8227 - val_loss: 1.4242 - val_accuracy: 0.5449 - val_auc_18: 0.8010 - 2s/epoch - 312ms/step\n",
      "Epoch 46/50\n",
      "6/6 - 2s - loss: 1.2209 - accuracy: 0.5562 - auc_18: 0.8227 - val_loss: 1.4242 - val_accuracy: 0.5449 - val_auc_18: 0.8010 - 2s/epoch - 298ms/step\n",
      "Epoch 47/50\n",
      "6/6 - 2s - loss: 1.2209 - accuracy: 0.5562 - auc_18: 0.8227 - val_loss: 1.4242 - val_accuracy: 0.5449 - val_auc_18: 0.8010 - 2s/epoch - 301ms/step\n",
      "Epoch 48/50\n",
      "6/6 - 2s - loss: 1.2209 - accuracy: 0.5562 - auc_18: 0.8227 - val_loss: 1.4242 - val_accuracy: 0.5449 - val_auc_18: 0.8010 - 2s/epoch - 277ms/step\n"
     ]
    },
    {
     "data": {
      "image/png": "[encoded data removed]",
      "text/plain": [
       "<Figure size 432x288 with 1 Axes>"
      ]
     },
     "metadata": {
      "needs_background": "light"
     },
     "output_type": "display_data"
    },
    {
     "name": "stdout",
     "output_type": "stream",
     "text": [
      "Epoch 1/50\n",
      "6/6 - 8s - loss: 576.5263 - accuracy: 0.2107 - auc_19: 0.5067 - val_loss: 79.9629 - val_accuracy: 0.5618 - val_auc_19: 0.7261 - 8s/epoch - 1s/step\n",
      "Epoch 2/50\n",
      "6/6 - 2s - loss: 51.9987 - accuracy: 0.5169 - auc_19: 0.7087 - val_loss: 27.6608 - val_accuracy: 0.1910 - val_auc_19: 0.5616 - 2s/epoch - 310ms/step\n",
      "Epoch 3/50\n",
      "6/6 - 2s - loss: 13.7302 - accuracy: 0.3792 - auc_19: 0.6731 - val_loss: 9.3551 - val_accuracy: 0.4551 - val_auc_19: 0.7343 - 2s/epoch - 279ms/step\n",
      "Epoch 4/50\n",
      "6/6 - 2s - loss: 4.5613 - accuracy: 0.4045 - auc_19: 0.7178 - val_loss: 5.1802 - val_accuracy: 0.2360 - val_auc_19: 0.6248 - 2s/epoch - 307ms/step\n",
      "Epoch 5/50\n",
      "6/6 - 2s - loss: 2.6692 - accuracy: 0.1798 - auc_19: 0.6186 - val_loss: 4.2341 - val_accuracy: 0.3539 - val_auc_19: 0.6138 - 2s/epoch - 310ms/step\n",
      "Epoch 6/50\n",
      "6/6 - 2s - loss: 2.5325 - accuracy: 0.3848 - auc_19: 0.6260 - val_loss: 3.6487 - val_accuracy: 0.4438 - val_auc_19: 0.6238 - 2s/epoch - 289ms/step\n",
      "Epoch 7/50\n",
      "6/6 - 2s - loss: 2.2690 - accuracy: 0.4157 - auc_19: 0.6610 - val_loss: 3.3778 - val_accuracy: 0.4888 - val_auc_19: 0.6800 - 2s/epoch - 298ms/step\n",
      "Epoch 8/50\n",
      "6/6 - 2s - loss: 2.0764 - accuracy: 0.4663 - auc_19: 0.7011 - val_loss: 3.2978 - val_accuracy: 0.4831 - val_auc_19: 0.6923 - 2s/epoch - 288ms/step\n",
      "Epoch 9/50\n",
      "6/6 - 2s - loss: 2.0279 - accuracy: 0.4888 - auc_19: 0.7154 - val_loss: 3.2767 - val_accuracy: 0.5000 - val_auc_19: 0.6963 - 2s/epoch - 329ms/step\n",
      "Epoch 10/50\n",
      "6/6 - 2s - loss: 2.0061 - accuracy: 0.4944 - auc_19: 0.7199 - val_loss: 3.2593 - val_accuracy: 0.4888 - val_auc_19: 0.7013 - 2s/epoch - 351ms/step\n",
      "Epoch 11/50\n",
      "6/6 - 2s - loss: 1.9930 - accuracy: 0.4972 - auc_19: 0.7192 - val_loss: 3.2438 - val_accuracy: 0.4831 - val_auc_19: 0.7028 - 2s/epoch - 280ms/step\n",
      "Epoch 12/50\n",
      "6/6 - 2s - loss: 1.9827 - accuracy: 0.4972 - auc_19: 0.7179 - val_loss: 3.2227 - val_accuracy: 0.4944 - val_auc_19: 0.7030 - 2s/epoch - 286ms/step\n",
      "Epoch 13/50\n",
      "6/6 - 2s - loss: 1.9728 - accuracy: 0.4944 - auc_19: 0.7171 - val_loss: 3.2058 - val_accuracy: 0.4944 - val_auc_19: 0.7013 - 2s/epoch - 281ms/step\n",
      "Epoch 14/50\n",
      "6/6 - 2s - loss: 1.9664 - accuracy: 0.5000 - auc_19: 0.7170 - val_loss: 3.1830 - val_accuracy: 0.4944 - val_auc_19: 0.6978 - 2s/epoch - 298ms/step\n",
      "Epoch 15/50\n",
      "6/6 - 2s - loss: 1.9587 - accuracy: 0.4944 - auc_19: 0.7181 - val_loss: 3.1702 - val_accuracy: 0.4944 - val_auc_19: 0.6969 - 2s/epoch - 280ms/step\n",
      "Epoch 16/50\n",
      "6/6 - 2s - loss: 1.9537 - accuracy: 0.4916 - auc_19: 0.7188 - val_loss: 3.1632 - val_accuracy: 0.4944 - val_auc_19: 0.6965 - 2s/epoch - 277ms/step\n",
      "Epoch 17/50\n",
      "6/6 - 2s - loss: 1.9514 - accuracy: 0.5000 - auc_19: 0.7183 - val_loss: 3.1584 - val_accuracy: 0.4944 - val_auc_19: 0.6968 - 2s/epoch - 279ms/step\n",
      "Epoch 18/50\n",
      "6/6 - 2s - loss: 1.9497 - accuracy: 0.5000 - auc_19: 0.7176 - val_loss: 3.1535 - val_accuracy: 0.4944 - val_auc_19: 0.6961 - 2s/epoch - 278ms/step\n",
      "Epoch 19/50\n",
      "6/6 - 2s - loss: 1.9480 - accuracy: 0.5028 - auc_19: 0.7184 - val_loss: 3.1506 - val_accuracy: 0.4944 - val_auc_19: 0.6972 - 2s/epoch - 278ms/step\n",
      "Epoch 20/50\n",
      "6/6 - 2s - loss: 1.9467 - accuracy: 0.5028 - auc_19: 0.7181 - val_loss: 3.1485 - val_accuracy: 0.4944 - val_auc_19: 0.6972 - 2s/epoch - 293ms/step\n",
      "Epoch 21/50\n",
      "6/6 - 2s - loss: 1.9459 - accuracy: 0.5028 - auc_19: 0.7188 - val_loss: 3.1470 - val_accuracy: 0.4944 - val_auc_19: 0.6972 - 2s/epoch - 277ms/step\n",
      "Epoch 22/50\n",
      "6/6 - 2s - loss: 1.9453 - accuracy: 0.5028 - auc_19: 0.7197 - val_loss: 3.1462 - val_accuracy: 0.4944 - val_auc_19: 0.6967 - 2s/epoch - 277ms/step\n",
      "Epoch 23/50\n",
      "6/6 - 2s - loss: 1.9449 - accuracy: 0.5028 - auc_19: 0.7197 - val_loss: 3.1450 - val_accuracy: 0.4944 - val_auc_19: 0.6967 - 2s/epoch - 296ms/step\n",
      "Epoch 24/50\n",
      "6/6 - 2s - loss: 1.9444 - accuracy: 0.5028 - auc_19: 0.7196 - val_loss: 3.1443 - val_accuracy: 0.4944 - val_auc_19: 0.6984 - 2s/epoch - 278ms/step\n",
      "Epoch 25/50\n",
      "6/6 - 2s - loss: 1.9440 - accuracy: 0.5028 - auc_19: 0.7199 - val_loss: 3.1439 - val_accuracy: 0.4944 - val_auc_19: 0.6984 - 2s/epoch - 292ms/step\n",
      "Epoch 26/50\n",
      "6/6 - 2s - loss: 1.9438 - accuracy: 0.5028 - auc_19: 0.7199 - val_loss: 3.1435 - val_accuracy: 0.4944 - val_auc_19: 0.6985 - 2s/epoch - 279ms/step\n",
      "Epoch 27/50\n",
      "6/6 - 2s - loss: 1.9437 - accuracy: 0.5028 - auc_19: 0.7199 - val_loss: 3.1433 - val_accuracy: 0.4944 - val_auc_19: 0.6985 - 2s/epoch - 276ms/step\n",
      "Epoch 28/50\n",
      "6/6 - 2s - loss: 1.9435 - accuracy: 0.5028 - auc_19: 0.7197 - val_loss: 3.1431 - val_accuracy: 0.4944 - val_auc_19: 0.6985 - 2s/epoch - 278ms/step\n",
      "Epoch 29/50\n",
      "6/6 - 2s - loss: 1.9434 - accuracy: 0.5028 - auc_19: 0.7197 - val_loss: 3.1429 - val_accuracy: 0.4944 - val_auc_19: 0.6985 - 2s/epoch - 278ms/step\n",
      "Epoch 30/50\n",
      "6/6 - 2s - loss: 1.9433 - accuracy: 0.5028 - auc_19: 0.7198 - val_loss: 3.1426 - val_accuracy: 0.4944 - val_auc_19: 0.6985 - 2s/epoch - 297ms/step\n",
      "Epoch 31/50\n",
      "6/6 - 2s - loss: 1.9432 - accuracy: 0.5028 - auc_19: 0.7198 - val_loss: 3.1425 - val_accuracy: 0.4944 - val_auc_19: 0.6985 - 2s/epoch - 277ms/step\n",
      "Epoch 32/50\n",
      "6/6 - 2s - loss: 1.9432 - accuracy: 0.5028 - auc_19: 0.7197 - val_loss: 3.1424 - val_accuracy: 0.4944 - val_auc_19: 0.6985 - 2s/epoch - 277ms/step\n",
      "Epoch 33/50\n",
      "6/6 - 2s - loss: 1.9431 - accuracy: 0.5028 - auc_19: 0.7197 - val_loss: 3.1424 - val_accuracy: 0.4944 - val_auc_19: 0.6985 - 2s/epoch - 301ms/step\n",
      "Epoch 34/50\n",
      "6/6 - 2s - loss: 1.9431 - accuracy: 0.5028 - auc_19: 0.7197 - val_loss: 3.1423 - val_accuracy: 0.4944 - val_auc_19: 0.6985 - 2s/epoch - 280ms/step\n",
      "Epoch 35/50\n",
      "6/6 - 2s - loss: 1.9431 - accuracy: 0.5028 - auc_19: 0.7197 - val_loss: 3.1423 - val_accuracy: 0.4944 - val_auc_19: 0.6985 - 2s/epoch - 280ms/step\n",
      "Epoch 36/50\n",
      "6/6 - 2s - loss: 1.9431 - accuracy: 0.5028 - auc_19: 0.7197 - val_loss: 3.1422 - val_accuracy: 0.4944 - val_auc_19: 0.6985 - 2s/epoch - 295ms/step\n",
      "Epoch 37/50\n",
      "6/6 - 2s - loss: 1.9431 - accuracy: 0.5028 - auc_19: 0.7197 - val_loss: 3.1422 - val_accuracy: 0.4944 - val_auc_19: 0.6985 - 2s/epoch - 276ms/step\n",
      "Epoch 38/50\n",
      "6/6 - 2s - loss: 1.9431 - accuracy: 0.5028 - auc_19: 0.7197 - val_loss: 3.1422 - val_accuracy: 0.4944 - val_auc_19: 0.6985 - 2s/epoch - 322ms/step\n",
      "Epoch 39/50\n",
      "6/6 - 2s - loss: 1.9430 - accuracy: 0.5028 - auc_19: 0.7197 - val_loss: 3.1422 - val_accuracy: 0.4944 - val_auc_19: 0.6985 - 2s/epoch - 391ms/step\n",
      "Epoch 40/50\n",
      "6/6 - 2s - loss: 1.9430 - accuracy: 0.5028 - auc_19: 0.7197 - val_loss: 3.1422 - val_accuracy: 0.4944 - val_auc_19: 0.6985 - 2s/epoch - 306ms/step\n",
      "Epoch 41/50\n",
      "6/6 - 2s - loss: 1.9430 - accuracy: 0.5028 - auc_19: 0.7197 - val_loss: 3.1422 - val_accuracy: 0.4944 - val_auc_19: 0.6985 - 2s/epoch - 366ms/step\n",
      "Epoch 42/50\n",
      "6/6 - 2s - loss: 1.9430 - accuracy: 0.5028 - auc_19: 0.7197 - val_loss: 3.1422 - val_accuracy: 0.4944 - val_auc_19: 0.6985 - 2s/epoch - 392ms/step\n",
      "Epoch 43/50\n",
      "6/6 - 2s - loss: 1.9430 - accuracy: 0.5028 - auc_19: 0.7197 - val_loss: 3.1422 - val_accuracy: 0.4944 - val_auc_19: 0.6985 - 2s/epoch - 289ms/step\n",
      "Epoch 44/50\n",
      "6/6 - 2s - loss: 1.9430 - accuracy: 0.5028 - auc_19: 0.7197 - val_loss: 3.1422 - val_accuracy: 0.4944 - val_auc_19: 0.6985 - 2s/epoch - 293ms/step\n",
      "Epoch 45/50\n",
      "6/6 - 2s - loss: 1.9430 - accuracy: 0.5028 - auc_19: 0.7197 - val_loss: 3.1422 - val_accuracy: 0.4944 - val_auc_19: 0.6985 - 2s/epoch - 292ms/step\n",
      "Epoch 46/50\n",
      "6/6 - 2s - loss: 1.9430 - accuracy: 0.5028 - auc_19: 0.7197 - val_loss: 3.1422 - val_accuracy: 0.4944 - val_auc_19: 0.6985 - 2s/epoch - 288ms/step\n",
      "Epoch 47/50\n",
      "6/6 - 2s - loss: 1.9430 - accuracy: 0.5028 - auc_19: 0.7197 - val_loss: 3.1422 - val_accuracy: 0.4944 - val_auc_19: 0.6985 - 2s/epoch - 277ms/step\n",
      "Epoch 48/50\n",
      "6/6 - 2s - loss: 1.9430 - accuracy: 0.5028 - auc_19: 0.7197 - val_loss: 3.1422 - val_accuracy: 0.4944 - val_auc_19: 0.6985 - 2s/epoch - 276ms/step\n",
      "Epoch 49/50\n",
      "6/6 - 2s - loss: 1.9430 - accuracy: 0.5028 - auc_19: 0.7197 - val_loss: 3.1422 - val_accuracy: 0.4944 - val_auc_19: 0.6985 - 2s/epoch - 293ms/step\n"
     ]
    },
    {
     "data": {
      "image/png": "[encoded data removed]",
      "text/plain": [
       "<Figure size 432x288 with 1 Axes>"
      ]
     },
     "metadata": {
      "needs_background": "light"
     },
     "output_type": "display_data"
    }
   ],
   "source": [
    "model1 = get_biConvLSTM(n_length, n_features, n_outputs)\n",
    "for train_index, val_index in kf.split(X):\n",
    "    X_train, X_val = X[train_index], X[val_index]\n",
    "    y_train, y_val = y[train_index], y[val_index]\n",
    "    model1 = get_biConvLSTM(n_features, n_length, n_outputs)\n",
    "    history = train(model1, X_train, y_train, X_val, y_val, epochs=epochs, batch_size=batch_size)\n",
    "    plt.plot(history.history['loss'])\n",
    "    plt.show()"
   ]
  },
  {
   "cell_type": "code",
   "execution_count": null,
   "metadata": {},
   "outputs": [
    {
     "name": "stdout",
     "output_type": "stream",
     "text": [
      "\n",
      "Accuracy: 37.037%\n",
      "\n",
      "AUC: 0.696\n"
     ]
    }
   ],
   "source": [
    "loss, accuracy, auc = model1.evaluate(X_test, y_test, batch_size=batch_size, verbose=0)\n",
    "score = accuracy * 100\n",
    "accuracies.append(round(score, 2))\n",
    "aucs.append(round(auc * 100, 2))\n",
    "print('\\nAccuracy: %.3f%%' % score)\n",
    "print('\\nAUC:', round(auc, 4))"
   ]
  },
  {
   "cell_type": "markdown",
   "metadata": {},
   "source": [
    "#### CNN+LSTM Model"
   ]
  },
  {
   "cell_type": "code",
   "execution_count": null,
   "metadata": {},
   "outputs": [
    {
     "name": "stdout",
     "output_type": "stream",
     "text": [
      "Epoch 1/50\n",
      "6/6 - 2s - loss: 1.2936 - accuracy: 0.5590 - auc_21: 0.7849 - val_loss: 1.2471 - val_accuracy: 0.5337 - val_auc_21: 0.7896 - 2s/epoch - 370ms/step\n",
      "Epoch 2/50\n",
      "6/6 - 0s - loss: 1.2145 - accuracy: 0.5702 - auc_21: 0.7988 - val_loss: 1.2249 - val_accuracy: 0.5337 - val_auc_21: 0.7879 - 344ms/epoch - 57ms/step\n",
      "Epoch 3/50\n",
      "6/6 - 0s - loss: 1.1993 - accuracy: 0.5702 - auc_21: 0.7874 - val_loss: 1.2046 - val_accuracy: 0.5337 - val_auc_21: 0.7971 - 348ms/epoch - 58ms/step\n",
      "Epoch 4/50\n",
      "6/6 - 0s - loss: 1.1878 - accuracy: 0.5702 - auc_21: 0.8008 - val_loss: 1.1997 - val_accuracy: 0.5337 - val_auc_21: 0.8062 - 344ms/epoch - 57ms/step\n",
      "Epoch 5/50\n",
      "6/6 - 0s - loss: 1.1868 - accuracy: 0.5702 - auc_21: 0.7978 - val_loss: 1.2031 - val_accuracy: 0.5337 - val_auc_21: 0.8006 - 343ms/epoch - 57ms/step\n",
      "Epoch 6/50\n",
      "6/6 - 0s - loss: 1.1880 - accuracy: 0.5702 - auc_21: 0.7969 - val_loss: 1.1976 - val_accuracy: 0.5337 - val_auc_21: 0.8006 - 344ms/epoch - 57ms/step\n",
      "Epoch 7/50\n",
      "6/6 - 0s - loss: 1.1847 - accuracy: 0.5702 - auc_21: 0.7964 - val_loss: 1.1940 - val_accuracy: 0.5337 - val_auc_21: 0.8062 - 346ms/epoch - 58ms/step\n",
      "Epoch 8/50\n",
      "6/6 - 0s - loss: 1.1828 - accuracy: 0.5702 - auc_21: 0.8002 - val_loss: 1.1936 - val_accuracy: 0.5337 - val_auc_21: 0.8027 - 335ms/epoch - 56ms/step\n",
      "Epoch 9/50\n",
      "6/6 - 0s - loss: 1.1815 - accuracy: 0.5702 - auc_21: 0.8021 - val_loss: 1.1930 - val_accuracy: 0.5337 - val_auc_21: 0.7992 - 330ms/epoch - 55ms/step\n",
      "Epoch 10/50\n",
      "6/6 - 0s - loss: 1.1806 - accuracy: 0.5702 - auc_21: 0.8076 - val_loss: 1.1921 - val_accuracy: 0.5337 - val_auc_21: 0.7992 - 333ms/epoch - 56ms/step\n",
      "Epoch 11/50\n",
      "6/6 - 0s - loss: 1.1801 - accuracy: 0.5702 - auc_21: 0.8060 - val_loss: 1.1917 - val_accuracy: 0.5337 - val_auc_21: 0.7992 - 368ms/epoch - 61ms/step\n",
      "Epoch 12/50\n",
      "6/6 - 0s - loss: 1.1798 - accuracy: 0.5702 - auc_21: 0.8081 - val_loss: 1.1915 - val_accuracy: 0.5337 - val_auc_21: 0.7992 - 429ms/epoch - 72ms/step\n",
      "Epoch 13/50\n",
      "6/6 - 0s - loss: 1.1795 - accuracy: 0.5702 - auc_21: 0.8076 - val_loss: 1.1911 - val_accuracy: 0.5337 - val_auc_21: 0.7992 - 343ms/epoch - 57ms/step\n",
      "Epoch 14/50\n",
      "6/6 - 0s - loss: 1.1793 - accuracy: 0.5702 - auc_21: 0.8076 - val_loss: 1.1909 - val_accuracy: 0.5337 - val_auc_21: 0.7992 - 349ms/epoch - 58ms/step\n",
      "Epoch 15/50\n",
      "6/6 - 0s - loss: 1.1791 - accuracy: 0.5702 - auc_21: 0.8076 - val_loss: 1.1906 - val_accuracy: 0.5337 - val_auc_21: 0.7992 - 372ms/epoch - 62ms/step\n",
      "Epoch 16/50\n",
      "6/6 - 0s - loss: 1.1789 - accuracy: 0.5702 - auc_21: 0.8076 - val_loss: 1.1904 - val_accuracy: 0.5337 - val_auc_21: 0.7992 - 340ms/epoch - 57ms/step\n",
      "Epoch 17/50\n",
      "6/6 - 0s - loss: 1.1789 - accuracy: 0.5702 - auc_21: 0.8076 - val_loss: 1.1902 - val_accuracy: 0.5337 - val_auc_21: 0.7992 - 348ms/epoch - 58ms/step\n",
      "Epoch 18/50\n",
      "6/6 - 0s - loss: 1.1788 - accuracy: 0.5702 - auc_21: 0.8084 - val_loss: 1.1900 - val_accuracy: 0.5337 - val_auc_21: 0.7992 - 342ms/epoch - 57ms/step\n",
      "Epoch 19/50\n",
      "6/6 - 0s - loss: 1.1788 - accuracy: 0.5702 - auc_21: 0.8076 - val_loss: 1.1900 - val_accuracy: 0.5337 - val_auc_21: 0.7992 - 345ms/epoch - 57ms/step\n",
      "Epoch 20/50\n",
      "6/6 - 0s - loss: 1.1788 - accuracy: 0.5702 - auc_21: 0.8076 - val_loss: 1.1900 - val_accuracy: 0.5337 - val_auc_21: 0.7992 - 343ms/epoch - 57ms/step\n",
      "Epoch 21/50\n",
      "6/6 - 0s - loss: 1.1787 - accuracy: 0.5702 - auc_21: 0.8076 - val_loss: 1.1899 - val_accuracy: 0.5337 - val_auc_21: 0.7992 - 345ms/epoch - 57ms/step\n",
      "Epoch 22/50\n",
      "6/6 - 0s - loss: 1.1787 - accuracy: 0.5702 - auc_21: 0.8076 - val_loss: 1.1899 - val_accuracy: 0.5337 - val_auc_21: 0.7992 - 342ms/epoch - 57ms/step\n",
      "Epoch 23/50\n",
      "6/6 - 0s - loss: 1.1787 - accuracy: 0.5702 - auc_21: 0.8076 - val_loss: 1.1899 - val_accuracy: 0.5337 - val_auc_21: 0.7992 - 353ms/epoch - 59ms/step\n",
      "Epoch 24/50\n",
      "6/6 - 0s - loss: 1.1787 - accuracy: 0.5702 - auc_21: 0.8076 - val_loss: 1.1899 - val_accuracy: 0.5337 - val_auc_21: 0.7992 - 343ms/epoch - 57ms/step\n",
      "Epoch 25/50\n",
      "6/6 - 0s - loss: 1.1787 - accuracy: 0.5702 - auc_21: 0.8076 - val_loss: 1.1899 - val_accuracy: 0.5337 - val_auc_21: 0.7992 - 346ms/epoch - 58ms/step\n",
      "Epoch 26/50\n",
      "6/6 - 0s - loss: 1.1787 - accuracy: 0.5702 - auc_21: 0.8076 - val_loss: 1.1899 - val_accuracy: 0.5337 - val_auc_21: 0.7992 - 337ms/epoch - 56ms/step\n",
      "Epoch 27/50\n",
      "6/6 - 0s - loss: 1.1787 - accuracy: 0.5702 - auc_21: 0.8076 - val_loss: 1.1899 - val_accuracy: 0.5337 - val_auc_21: 0.7992 - 330ms/epoch - 55ms/step\n",
      "Epoch 28/50\n",
      "6/6 - 0s - loss: 1.1787 - accuracy: 0.5702 - auc_21: 0.8076 - val_loss: 1.1899 - val_accuracy: 0.5337 - val_auc_21: 0.7992 - 321ms/epoch - 54ms/step\n",
      "Epoch 29/50\n",
      "6/6 - 0s - loss: 1.1787 - accuracy: 0.5702 - auc_21: 0.8076 - val_loss: 1.1899 - val_accuracy: 0.5337 - val_auc_21: 0.7992 - 332ms/epoch - 55ms/step\n",
      "Epoch 30/50\n",
      "6/6 - 0s - loss: 1.1787 - accuracy: 0.5702 - auc_21: 0.8076 - val_loss: 1.1899 - val_accuracy: 0.5337 - val_auc_21: 0.7992 - 333ms/epoch - 55ms/step\n",
      "Epoch 31/50\n",
      "6/6 - 0s - loss: 1.1787 - accuracy: 0.5702 - auc_21: 0.8076 - val_loss: 1.1899 - val_accuracy: 0.5337 - val_auc_21: 0.7992 - 330ms/epoch - 55ms/step\n",
      "Epoch 32/50\n",
      "6/6 - 0s - loss: 1.1787 - accuracy: 0.5702 - auc_21: 0.8076 - val_loss: 1.1899 - val_accuracy: 0.5337 - val_auc_21: 0.7992 - 335ms/epoch - 56ms/step\n",
      "Epoch 33/50\n",
      "6/6 - 0s - loss: 1.1787 - accuracy: 0.5702 - auc_21: 0.8076 - val_loss: 1.1899 - val_accuracy: 0.5337 - val_auc_21: 0.7992 - 334ms/epoch - 56ms/step\n",
      "Epoch 34/50\n",
      "6/6 - 0s - loss: 1.1787 - accuracy: 0.5702 - auc_21: 0.8076 - val_loss: 1.1899 - val_accuracy: 0.5337 - val_auc_21: 0.7992 - 333ms/epoch - 56ms/step\n",
      "Epoch 35/50\n",
      "6/6 - 0s - loss: 1.1787 - accuracy: 0.5702 - auc_21: 0.8076 - val_loss: 1.1899 - val_accuracy: 0.5337 - val_auc_21: 0.7992 - 335ms/epoch - 56ms/step\n",
      "Epoch 36/50\n",
      "6/6 - 0s - loss: 1.1787 - accuracy: 0.5702 - auc_21: 0.8076 - val_loss: 1.1899 - val_accuracy: 0.5337 - val_auc_21: 0.7992 - 386ms/epoch - 64ms/step\n",
      "Epoch 37/50\n",
      "6/6 - 0s - loss: 1.1787 - accuracy: 0.5702 - auc_21: 0.8076 - val_loss: 1.1899 - val_accuracy: 0.5337 - val_auc_21: 0.7992 - 455ms/epoch - 76ms/step\n",
      "Epoch 38/50\n",
      "6/6 - 0s - loss: 1.1787 - accuracy: 0.5702 - auc_21: 0.8076 - val_loss: 1.1899 - val_accuracy: 0.5337 - val_auc_21: 0.7992 - 418ms/epoch - 70ms/step\n",
      "Epoch 39/50\n",
      "6/6 - 0s - loss: 1.1787 - accuracy: 0.5702 - auc_21: 0.8076 - val_loss: 1.1899 - val_accuracy: 0.5337 - val_auc_21: 0.7992 - 460ms/epoch - 77ms/step\n",
      "Epoch 40/50\n",
      "6/6 - 0s - loss: 1.1787 - accuracy: 0.5702 - auc_21: 0.8076 - val_loss: 1.1899 - val_accuracy: 0.5337 - val_auc_21: 0.7992 - 457ms/epoch - 76ms/step\n",
      "Epoch 41/50\n",
      "6/6 - 0s - loss: 1.1787 - accuracy: 0.5702 - auc_21: 0.8076 - val_loss: 1.1899 - val_accuracy: 0.5337 - val_auc_21: 0.7992 - 418ms/epoch - 70ms/step\n",
      "Epoch 42/50\n",
      "6/6 - 0s - loss: 1.1787 - accuracy: 0.5702 - auc_21: 0.8076 - val_loss: 1.1899 - val_accuracy: 0.5337 - val_auc_21: 0.7992 - 425ms/epoch - 71ms/step\n"
     ]
    },
    {
     "data": {
      "image/png": "[encoded data removed]",
      "text/plain": [
       "<Figure size 432x288 with 1 Axes>"
      ]
     },
     "metadata": {
      "needs_background": "light"
     },
     "output_type": "display_data"
    },
    {
     "name": "stdout",
     "output_type": "stream",
     "text": [
      "Epoch 1/50\n",
      "6/6 - 3s - loss: 1.6683 - accuracy: 0.1208 - auc_22: 0.5256 - val_loss: 1.4810 - val_accuracy: 0.1742 - val_auc_22: 0.6391 - 3s/epoch - 434ms/step\n",
      "Epoch 2/50\n",
      "6/6 - 0s - loss: 1.3756 - accuracy: 0.4410 - auc_22: 0.7420 - val_loss: 1.2548 - val_accuracy: 0.5787 - val_auc_22: 0.8085 - 349ms/epoch - 58ms/step\n",
      "Epoch 3/50\n",
      "6/6 - 0s - loss: 1.2588 - accuracy: 0.5478 - auc_22: 0.8091 - val_loss: 1.2055 - val_accuracy: 0.5787 - val_auc_22: 0.8084 - 348ms/epoch - 58ms/step\n",
      "Epoch 4/50\n",
      "6/6 - 0s - loss: 1.2307 - accuracy: 0.5478 - auc_22: 0.8015 - val_loss: 1.1837 - val_accuracy: 0.5787 - val_auc_22: 0.8087 - 358ms/epoch - 60ms/step\n",
      "Epoch 5/50\n",
      "6/6 - 0s - loss: 1.2143 - accuracy: 0.5478 - auc_22: 0.7993 - val_loss: 1.1759 - val_accuracy: 0.5787 - val_auc_22: 0.8084 - 350ms/epoch - 58ms/step\n",
      "Epoch 6/50\n",
      "6/6 - 0s - loss: 1.2062 - accuracy: 0.5478 - auc_22: 0.8004 - val_loss: 1.1722 - val_accuracy: 0.5787 - val_auc_22: 0.8083 - 349ms/epoch - 58ms/step\n",
      "Epoch 7/50\n",
      "6/6 - 0s - loss: 1.2010 - accuracy: 0.5478 - auc_22: 0.8024 - val_loss: 1.1703 - val_accuracy: 0.5787 - val_auc_22: 0.8082 - 343ms/epoch - 57ms/step\n",
      "Epoch 8/50\n",
      "6/6 - 0s - loss: 1.1978 - accuracy: 0.5478 - auc_22: 0.7982 - val_loss: 1.1693 - val_accuracy: 0.5787 - val_auc_22: 0.8083 - 354ms/epoch - 59ms/step\n",
      "Epoch 9/50\n",
      "6/6 - 0s - loss: 1.1958 - accuracy: 0.5478 - auc_22: 0.8003 - val_loss: 1.1687 - val_accuracy: 0.5787 - val_auc_22: 0.8082 - 398ms/epoch - 66ms/step\n",
      "Epoch 10/50\n",
      "6/6 - 0s - loss: 1.1945 - accuracy: 0.5478 - auc_22: 0.8013 - val_loss: 1.1683 - val_accuracy: 0.5787 - val_auc_22: 0.8082 - 432ms/epoch - 72ms/step\n",
      "Epoch 11/50\n",
      "6/6 - 0s - loss: 1.1936 - accuracy: 0.5478 - auc_22: 0.8013 - val_loss: 1.1680 - val_accuracy: 0.5787 - val_auc_22: 0.8082 - 469ms/epoch - 78ms/step\n",
      "Epoch 12/50\n",
      "6/6 - 0s - loss: 1.1931 - accuracy: 0.5478 - auc_22: 0.7995 - val_loss: 1.1678 - val_accuracy: 0.5787 - val_auc_22: 0.8082 - 459ms/epoch - 77ms/step\n",
      "Epoch 13/50\n",
      "6/6 - 0s - loss: 1.1926 - accuracy: 0.5478 - auc_22: 0.8012 - val_loss: 1.1677 - val_accuracy: 0.5787 - val_auc_22: 0.8083 - 370ms/epoch - 62ms/step\n",
      "Epoch 14/50\n",
      "6/6 - 0s - loss: 1.1922 - accuracy: 0.5478 - auc_22: 0.8013 - val_loss: 1.1677 - val_accuracy: 0.5787 - val_auc_22: 0.8083 - 361ms/epoch - 60ms/step\n",
      "Epoch 15/50\n",
      "6/6 - 0s - loss: 1.1920 - accuracy: 0.5478 - auc_22: 0.8013 - val_loss: 1.1676 - val_accuracy: 0.5787 - val_auc_22: 0.8083 - 353ms/epoch - 59ms/step\n",
      "Epoch 16/50\n",
      "6/6 - 0s - loss: 1.1918 - accuracy: 0.5478 - auc_22: 0.8013 - val_loss: 1.1675 - val_accuracy: 0.5787 - val_auc_22: 0.8083 - 354ms/epoch - 59ms/step\n",
      "Epoch 17/50\n",
      "6/6 - 0s - loss: 1.1916 - accuracy: 0.5478 - auc_22: 0.8013 - val_loss: 1.1675 - val_accuracy: 0.5787 - val_auc_22: 0.8082 - 348ms/epoch - 58ms/step\n",
      "Epoch 18/50\n",
      "6/6 - 0s - loss: 1.1915 - accuracy: 0.5478 - auc_22: 0.8013 - val_loss: 1.1674 - val_accuracy: 0.5787 - val_auc_22: 0.8082 - 348ms/epoch - 58ms/step\n",
      "Epoch 19/50\n",
      "6/6 - 0s - loss: 1.1914 - accuracy: 0.5478 - auc_22: 0.8013 - val_loss: 1.1674 - val_accuracy: 0.5787 - val_auc_22: 0.8082 - 348ms/epoch - 58ms/step\n",
      "Epoch 20/50\n",
      "6/6 - 0s - loss: 1.1914 - accuracy: 0.5478 - auc_22: 0.8013 - val_loss: 1.1674 - val_accuracy: 0.5787 - val_auc_22: 0.8082 - 349ms/epoch - 58ms/step\n",
      "Epoch 21/50\n",
      "6/6 - 0s - loss: 1.1913 - accuracy: 0.5478 - auc_22: 0.8013 - val_loss: 1.1673 - val_accuracy: 0.5787 - val_auc_22: 0.8082 - 347ms/epoch - 58ms/step\n",
      "Epoch 22/50\n",
      "6/6 - 0s - loss: 1.1913 - accuracy: 0.5478 - auc_22: 0.8013 - val_loss: 1.1673 - val_accuracy: 0.5787 - val_auc_22: 0.8082 - 344ms/epoch - 57ms/step\n",
      "Epoch 23/50\n",
      "6/6 - 0s - loss: 1.1913 - accuracy: 0.5478 - auc_22: 0.8013 - val_loss: 1.1673 - val_accuracy: 0.5787 - val_auc_22: 0.8082 - 343ms/epoch - 57ms/step\n",
      "Epoch 24/50\n",
      "6/6 - 0s - loss: 1.1913 - accuracy: 0.5478 - auc_22: 0.8013 - val_loss: 1.1673 - val_accuracy: 0.5787 - val_auc_22: 0.8082 - 346ms/epoch - 58ms/step\n",
      "Epoch 25/50\n",
      "6/6 - 0s - loss: 1.1912 - accuracy: 0.5478 - auc_22: 0.8013 - val_loss: 1.1673 - val_accuracy: 0.5787 - val_auc_22: 0.8082 - 343ms/epoch - 57ms/step\n",
      "Epoch 26/50\n",
      "6/6 - 0s - loss: 1.1912 - accuracy: 0.5478 - auc_22: 0.8013 - val_loss: 1.1673 - val_accuracy: 0.5787 - val_auc_22: 0.8082 - 352ms/epoch - 59ms/step\n",
      "Epoch 27/50\n",
      "6/6 - 0s - loss: 1.1912 - accuracy: 0.5478 - auc_22: 0.8013 - val_loss: 1.1673 - val_accuracy: 0.5787 - val_auc_22: 0.8082 - 348ms/epoch - 58ms/step\n",
      "Epoch 28/50\n",
      "6/6 - 0s - loss: 1.1912 - accuracy: 0.5478 - auc_22: 0.8013 - val_loss: 1.1673 - val_accuracy: 0.5787 - val_auc_22: 0.8082 - 337ms/epoch - 56ms/step\n",
      "Epoch 29/50\n",
      "6/6 - 0s - loss: 1.1912 - accuracy: 0.5478 - auc_22: 0.8013 - val_loss: 1.1673 - val_accuracy: 0.5787 - val_auc_22: 0.8082 - 340ms/epoch - 57ms/step\n",
      "Epoch 30/50\n",
      "6/6 - 0s - loss: 1.1912 - accuracy: 0.5478 - auc_22: 0.8013 - val_loss: 1.1673 - val_accuracy: 0.5787 - val_auc_22: 0.8082 - 340ms/epoch - 57ms/step\n",
      "Epoch 31/50\n",
      "6/6 - 0s - loss: 1.1912 - accuracy: 0.5478 - auc_22: 0.8013 - val_loss: 1.1673 - val_accuracy: 0.5787 - val_auc_22: 0.8082 - 342ms/epoch - 57ms/step\n",
      "Epoch 32/50\n",
      "6/6 - 0s - loss: 1.1912 - accuracy: 0.5478 - auc_22: 0.8013 - val_loss: 1.1673 - val_accuracy: 0.5787 - val_auc_22: 0.8082 - 340ms/epoch - 57ms/step\n",
      "Epoch 33/50\n",
      "6/6 - 0s - loss: 1.1912 - accuracy: 0.5478 - auc_22: 0.8013 - val_loss: 1.1673 - val_accuracy: 0.5787 - val_auc_22: 0.8082 - 343ms/epoch - 57ms/step\n",
      "Epoch 34/50\n",
      "6/6 - 0s - loss: 1.1912 - accuracy: 0.5478 - auc_22: 0.8013 - val_loss: 1.1673 - val_accuracy: 0.5787 - val_auc_22: 0.8082 - 350ms/epoch - 58ms/step\n",
      "Epoch 35/50\n",
      "6/6 - 0s - loss: 1.1912 - accuracy: 0.5478 - auc_22: 0.8013 - val_loss: 1.1673 - val_accuracy: 0.5787 - val_auc_22: 0.8082 - 343ms/epoch - 57ms/step\n",
      "Epoch 36/50\n",
      "6/6 - 0s - loss: 1.1912 - accuracy: 0.5478 - auc_22: 0.8013 - val_loss: 1.1673 - val_accuracy: 0.5787 - val_auc_22: 0.8082 - 342ms/epoch - 57ms/step\n",
      "Epoch 37/50\n",
      "6/6 - 0s - loss: 1.1912 - accuracy: 0.5478 - auc_22: 0.8013 - val_loss: 1.1673 - val_accuracy: 0.5787 - val_auc_22: 0.8082 - 341ms/epoch - 57ms/step\n",
      "Epoch 38/50\n",
      "6/6 - 0s - loss: 1.1912 - accuracy: 0.5478 - auc_22: 0.8013 - val_loss: 1.1673 - val_accuracy: 0.5787 - val_auc_22: 0.8082 - 343ms/epoch - 57ms/step\n",
      "Epoch 39/50\n",
      "6/6 - 0s - loss: 1.1912 - accuracy: 0.5478 - auc_22: 0.8013 - val_loss: 1.1673 - val_accuracy: 0.5787 - val_auc_22: 0.8082 - 343ms/epoch - 57ms/step\n",
      "Epoch 40/50\n",
      "6/6 - 0s - loss: 1.1912 - accuracy: 0.5478 - auc_22: 0.8013 - val_loss: 1.1673 - val_accuracy: 0.5787 - val_auc_22: 0.8082 - 348ms/epoch - 58ms/step\n",
      "Epoch 41/50\n",
      "6/6 - 0s - loss: 1.1912 - accuracy: 0.5478 - auc_22: 0.8013 - val_loss: 1.1673 - val_accuracy: 0.5787 - val_auc_22: 0.8082 - 341ms/epoch - 57ms/step\n",
      "Epoch 42/50\n",
      "6/6 - 0s - loss: 1.1912 - accuracy: 0.5478 - auc_22: 0.8013 - val_loss: 1.1673 - val_accuracy: 0.5787 - val_auc_22: 0.8082 - 344ms/epoch - 57ms/step\n",
      "Epoch 43/50\n",
      "6/6 - 0s - loss: 1.1912 - accuracy: 0.5478 - auc_22: 0.8013 - val_loss: 1.1673 - val_accuracy: 0.5787 - val_auc_22: 0.8082 - 367ms/epoch - 61ms/step\n",
      "Epoch 44/50\n",
      "6/6 - 0s - loss: 1.1912 - accuracy: 0.5478 - auc_22: 0.8013 - val_loss: 1.1673 - val_accuracy: 0.5787 - val_auc_22: 0.8082 - 465ms/epoch - 77ms/step\n",
      "Epoch 45/50\n",
      "6/6 - 0s - loss: 1.1912 - accuracy: 0.5478 - auc_22: 0.8013 - val_loss: 1.1673 - val_accuracy: 0.5787 - val_auc_22: 0.8082 - 387ms/epoch - 64ms/step\n",
      "Epoch 46/50\n",
      "6/6 - 0s - loss: 1.1912 - accuracy: 0.5478 - auc_22: 0.8013 - val_loss: 1.1673 - val_accuracy: 0.5787 - val_auc_22: 0.8082 - 344ms/epoch - 57ms/step\n"
     ]
    },
    {
     "data": {
      "image/png": "[encoded data removed]",
      "text/plain": [
       "<Figure size 432x288 with 1 Axes>"
      ]
     },
     "metadata": {
      "needs_background": "light"
     },
     "output_type": "display_data"
    },
    {
     "name": "stdout",
     "output_type": "stream",
     "text": [
      "Epoch 1/50\n",
      "6/6 - 3s - loss: 1.3880 - accuracy: 0.4860 - auc_23: 0.7452 - val_loss: 1.2747 - val_accuracy: 0.5618 - val_auc_23: 0.8051 - 3s/epoch - 461ms/step\n",
      "Epoch 2/50\n",
      "6/6 - 0s - loss: 1.2656 - accuracy: 0.5562 - auc_23: 0.8060 - val_loss: 1.2963 - val_accuracy: 0.5618 - val_auc_23: 0.7963 - 400ms/epoch - 67ms/step\n",
      "Epoch 3/50\n",
      "6/6 - 0s - loss: 1.2697 - accuracy: 0.5562 - auc_23: 0.7969 - val_loss: 1.2490 - val_accuracy: 0.5618 - val_auc_23: 0.7963 - 424ms/epoch - 71ms/step\n",
      "Epoch 4/50\n",
      "6/6 - 0s - loss: 1.2334 - accuracy: 0.5562 - auc_23: 0.8080 - val_loss: 1.2257 - val_accuracy: 0.5618 - val_auc_23: 0.7963 - 354ms/epoch - 59ms/step\n",
      "Epoch 5/50\n",
      "6/6 - 0s - loss: 1.2138 - accuracy: 0.5562 - auc_23: 0.8044 - val_loss: 1.2127 - val_accuracy: 0.5618 - val_auc_23: 0.7963 - 345ms/epoch - 57ms/step\n",
      "Epoch 6/50\n",
      "6/6 - 0s - loss: 1.2025 - accuracy: 0.5562 - auc_23: 0.8069 - val_loss: 1.2066 - val_accuracy: 0.5618 - val_auc_23: 0.7963 - 347ms/epoch - 58ms/step\n",
      "Epoch 7/50\n",
      "6/6 - 0s - loss: 1.1969 - accuracy: 0.5562 - auc_23: 0.8068 - val_loss: 1.2023 - val_accuracy: 0.5618 - val_auc_23: 0.7963 - 345ms/epoch - 57ms/step\n",
      "Epoch 8/50\n",
      "6/6 - 0s - loss: 1.1934 - accuracy: 0.5562 - auc_23: 0.8070 - val_loss: 1.1990 - val_accuracy: 0.5618 - val_auc_23: 0.7963 - 347ms/epoch - 58ms/step\n",
      "Epoch 9/50\n",
      "6/6 - 0s - loss: 1.1901 - accuracy: 0.5562 - auc_23: 0.8075 - val_loss: 1.1973 - val_accuracy: 0.5618 - val_auc_23: 0.7963 - 356ms/epoch - 59ms/step\n",
      "Epoch 10/50\n",
      "6/6 - 0s - loss: 1.1885 - accuracy: 0.5562 - auc_23: 0.8076 - val_loss: 1.1960 - val_accuracy: 0.5618 - val_auc_23: 0.7963 - 348ms/epoch - 58ms/step\n",
      "Epoch 11/50\n",
      "6/6 - 0s - loss: 1.1875 - accuracy: 0.5562 - auc_23: 0.8053 - val_loss: 1.1950 - val_accuracy: 0.5618 - val_auc_23: 0.8013 - 353ms/epoch - 59ms/step\n",
      "Epoch 12/50\n",
      "6/6 - 0s - loss: 1.1864 - accuracy: 0.5562 - auc_23: 0.8058 - val_loss: 1.1945 - val_accuracy: 0.5618 - val_auc_23: 0.8013 - 394ms/epoch - 66ms/step\n",
      "Epoch 13/50\n",
      "6/6 - 0s - loss: 1.1859 - accuracy: 0.5562 - auc_23: 0.8058 - val_loss: 1.1942 - val_accuracy: 0.5618 - val_auc_23: 0.8013 - 491ms/epoch - 82ms/step\n",
      "Epoch 14/50\n",
      "6/6 - 0s - loss: 1.1855 - accuracy: 0.5562 - auc_23: 0.8058 - val_loss: 1.1939 - val_accuracy: 0.5618 - val_auc_23: 0.8013 - 440ms/epoch - 73ms/step\n",
      "Epoch 15/50\n",
      "6/6 - 0s - loss: 1.1852 - accuracy: 0.5562 - auc_23: 0.8058 - val_loss: 1.1937 - val_accuracy: 0.5618 - val_auc_23: 0.8013 - 351ms/epoch - 58ms/step\n",
      "Epoch 16/50\n",
      "6/6 - 0s - loss: 1.1850 - accuracy: 0.5562 - auc_23: 0.8016 - val_loss: 1.1936 - val_accuracy: 0.5618 - val_auc_23: 0.7963 - 344ms/epoch - 57ms/step\n",
      "Epoch 17/50\n",
      "6/6 - 0s - loss: 1.1847 - accuracy: 0.5562 - auc_23: 0.8076 - val_loss: 1.1935 - val_accuracy: 0.5618 - val_auc_23: 0.7963 - 348ms/epoch - 58ms/step\n",
      "Epoch 18/50\n",
      "6/6 - 0s - loss: 1.1846 - accuracy: 0.5562 - auc_23: 0.8076 - val_loss: 1.1935 - val_accuracy: 0.5618 - val_auc_23: 0.7963 - 344ms/epoch - 57ms/step\n",
      "Epoch 19/50\n",
      "6/6 - 0s - loss: 1.1845 - accuracy: 0.5562 - auc_23: 0.8076 - val_loss: 1.1934 - val_accuracy: 0.5618 - val_auc_23: 0.7963 - 347ms/epoch - 58ms/step\n",
      "Epoch 20/50\n",
      "6/6 - 0s - loss: 1.1845 - accuracy: 0.5562 - auc_23: 0.8076 - val_loss: 1.1934 - val_accuracy: 0.5618 - val_auc_23: 0.7963 - 349ms/epoch - 58ms/step\n",
      "Epoch 21/50\n",
      "6/6 - 0s - loss: 1.1844 - accuracy: 0.5562 - auc_23: 0.8076 - val_loss: 1.1934 - val_accuracy: 0.5618 - val_auc_23: 0.7963 - 428ms/epoch - 71ms/step\n",
      "Epoch 22/50\n",
      "6/6 - 0s - loss: 1.1844 - accuracy: 0.5562 - auc_23: 0.8076 - val_loss: 1.1933 - val_accuracy: 0.5618 - val_auc_23: 0.7963 - 449ms/epoch - 75ms/step\n",
      "Epoch 23/50\n",
      "6/6 - 0s - loss: 1.1843 - accuracy: 0.5562 - auc_23: 0.8076 - val_loss: 1.1933 - val_accuracy: 0.5618 - val_auc_23: 0.7963 - 429ms/epoch - 71ms/step\n",
      "Epoch 24/50\n",
      "6/6 - 0s - loss: 1.1843 - accuracy: 0.5562 - auc_23: 0.8076 - val_loss: 1.1933 - val_accuracy: 0.5618 - val_auc_23: 0.7963 - 467ms/epoch - 78ms/step\n",
      "Epoch 25/50\n",
      "6/6 - 0s - loss: 1.1843 - accuracy: 0.5562 - auc_23: 0.8076 - val_loss: 1.1933 - val_accuracy: 0.5618 - val_auc_23: 0.7963 - 376ms/epoch - 63ms/step\n",
      "Epoch 26/50\n",
      "6/6 - 0s - loss: 1.1843 - accuracy: 0.5562 - auc_23: 0.8076 - val_loss: 1.1933 - val_accuracy: 0.5618 - val_auc_23: 0.7963 - 367ms/epoch - 61ms/step\n",
      "Epoch 27/50\n",
      "6/6 - 0s - loss: 1.1842 - accuracy: 0.5562 - auc_23: 0.8076 - val_loss: 1.1933 - val_accuracy: 0.5618 - val_auc_23: 0.7963 - 358ms/epoch - 60ms/step\n",
      "Epoch 28/50\n",
      "6/6 - 0s - loss: 1.1842 - accuracy: 0.5562 - auc_23: 0.8076 - val_loss: 1.1933 - val_accuracy: 0.5618 - val_auc_23: 0.7963 - 369ms/epoch - 62ms/step\n",
      "Epoch 29/50\n",
      "6/6 - 0s - loss: 1.1842 - accuracy: 0.5562 - auc_23: 0.8076 - val_loss: 1.1933 - val_accuracy: 0.5618 - val_auc_23: 0.7963 - 374ms/epoch - 62ms/step\n",
      "Epoch 30/50\n",
      "6/6 - 0s - loss: 1.1842 - accuracy: 0.5562 - auc_23: 0.8076 - val_loss: 1.1933 - val_accuracy: 0.5618 - val_auc_23: 0.7963 - 379ms/epoch - 63ms/step\n",
      "Epoch 31/50\n",
      "6/6 - 0s - loss: 1.1842 - accuracy: 0.5562 - auc_23: 0.8076 - val_loss: 1.1933 - val_accuracy: 0.5618 - val_auc_23: 0.7963 - 367ms/epoch - 61ms/step\n",
      "Epoch 32/50\n",
      "6/6 - 0s - loss: 1.1842 - accuracy: 0.5562 - auc_23: 0.8076 - val_loss: 1.1933 - val_accuracy: 0.5618 - val_auc_23: 0.7963 - 363ms/epoch - 60ms/step\n",
      "Epoch 33/50\n",
      "6/6 - 0s - loss: 1.1842 - accuracy: 0.5562 - auc_23: 0.8076 - val_loss: 1.1933 - val_accuracy: 0.5618 - val_auc_23: 0.7963 - 344ms/epoch - 57ms/step\n",
      "Epoch 34/50\n",
      "6/6 - 0s - loss: 1.1842 - accuracy: 0.5562 - auc_23: 0.8076 - val_loss: 1.1933 - val_accuracy: 0.5618 - val_auc_23: 0.7963 - 393ms/epoch - 66ms/step\n",
      "Epoch 35/50\n",
      "6/6 - 0s - loss: 1.1842 - accuracy: 0.5562 - auc_23: 0.8076 - val_loss: 1.1933 - val_accuracy: 0.5618 - val_auc_23: 0.7963 - 474ms/epoch - 79ms/step\n",
      "Epoch 36/50\n",
      "6/6 - 0s - loss: 1.1842 - accuracy: 0.5562 - auc_23: 0.8076 - val_loss: 1.1933 - val_accuracy: 0.5618 - val_auc_23: 0.7963 - 474ms/epoch - 79ms/step\n",
      "Epoch 37/50\n",
      "6/6 - 0s - loss: 1.1842 - accuracy: 0.5562 - auc_23: 0.8076 - val_loss: 1.1933 - val_accuracy: 0.5618 - val_auc_23: 0.7963 - 393ms/epoch - 65ms/step\n",
      "Epoch 38/50\n",
      "6/6 - 0s - loss: 1.1842 - accuracy: 0.5562 - auc_23: 0.8076 - val_loss: 1.1933 - val_accuracy: 0.5618 - val_auc_23: 0.7963 - 450ms/epoch - 75ms/step\n",
      "Epoch 39/50\n",
      "6/6 - 0s - loss: 1.1842 - accuracy: 0.5562 - auc_23: 0.8076 - val_loss: 1.1933 - val_accuracy: 0.5618 - val_auc_23: 0.7963 - 413ms/epoch - 69ms/step\n",
      "Epoch 40/50\n",
      "6/6 - 0s - loss: 1.1842 - accuracy: 0.5562 - auc_23: 0.8076 - val_loss: 1.1933 - val_accuracy: 0.5618 - val_auc_23: 0.7963 - 472ms/epoch - 79ms/step\n",
      "Epoch 41/50\n",
      "6/6 - 0s - loss: 1.1842 - accuracy: 0.5562 - auc_23: 0.8076 - val_loss: 1.1933 - val_accuracy: 0.5618 - val_auc_23: 0.7963 - 356ms/epoch - 59ms/step\n",
      "Epoch 42/50\n",
      "6/6 - 0s - loss: 1.1842 - accuracy: 0.5562 - auc_23: 0.8076 - val_loss: 1.1933 - val_accuracy: 0.5618 - val_auc_23: 0.7963 - 398ms/epoch - 66ms/step\n"
     ]
    },
    {
     "data": {
      "image/png": "[encoded data removed]",
      "text/plain": [
       "<Figure size 432x288 with 1 Axes>"
      ]
     },
     "metadata": {
      "needs_background": "light"
     },
     "output_type": "display_data"
    }
   ],
   "source": [
    "model2 = get_CNN(n_features, n_length, n_outputs)\n",
    "for train_index, val_index in kf.split(X):\n",
    "    X_train, X_val = X[train_index], X[val_index]\n",
    "    y_train, y_val = y[train_index], y[val_index]\n",
    "    model2 = get_CNN(n_features, n_length, n_outputs)\n",
    "    history = train(model2, X_train, y_train, X_val, y_val, epochs=epochs, batch_size=batch_size)\n",
    "    plt.plot(history.history['loss'])\n",
    "    plt.show()"
   ]
  },
  {
   "cell_type": "code",
   "execution_count": null,
   "metadata": {},
   "outputs": [
    {
     "name": "stdout",
     "output_type": "stream",
     "text": [
      "\n",
      "Accuracy: 50.617%\n",
      "\n",
      "AUC: 0.7994\n"
     ]
    }
   ],
   "source": [
    "loss, accuracy, auc = model2.evaluate(X_test, y_test, batch_size=batch_size, verbose=0)\n",
    "score = accuracy * 100\n",
    "accuracies.append(round(score, 2))\n",
    "aucs.append(round(auc * 100, 2))\n",
    "print('\\nAccuracy: %.3f%%' % score)\n",
    "print('\\nAUC:', round(auc, 4))"
   ]
  },
  {
   "cell_type": "markdown",
   "metadata": {},
   "source": [
    "#### Convolutional LSTM Model"
   ]
  },
  {
   "cell_type": "code",
   "execution_count": null,
   "metadata": {},
   "outputs": [
    {
     "name": "stdout",
     "output_type": "stream",
     "text": [
      "Epoch 1/50\n",
      "6/6 - 4s - loss: 274.8132 - accuracy: 0.4073 - auc_25: 0.6371 - val_loss: 157.1431 - val_accuracy: 0.3989 - val_auc_25: 0.6354 - 4s/epoch - 662ms/step\n",
      "Epoch 2/50\n",
      "6/6 - 1s - loss: 76.9539 - accuracy: 0.3989 - auc_25: 0.6459 - val_loss: 14.7110 - val_accuracy: 0.2303 - val_auc_25: 0.5422 - 877ms/epoch - 146ms/step\n",
      "Epoch 3/50\n",
      "6/6 - 1s - loss: 8.1401 - accuracy: 0.2219 - auc_25: 0.5626 - val_loss: 1.7666 - val_accuracy: 0.0843 - val_auc_25: 0.5053 - 873ms/epoch - 145ms/step\n",
      "Epoch 4/50\n",
      "6/6 - 1s - loss: 1.7393 - accuracy: 0.0534 - auc_25: 0.4993 - val_loss: 1.6406 - val_accuracy: 0.5056 - val_auc_25: 0.5012 - 861ms/epoch - 144ms/step\n",
      "Epoch 5/50\n",
      "6/6 - 1s - loss: 1.5968 - accuracy: 0.5787 - auc_25: 0.5143 - val_loss: 1.6348 - val_accuracy: 0.5169 - val_auc_25: 0.4979 - 867ms/epoch - 145ms/step\n",
      "Epoch 6/50\n",
      "6/6 - 1s - loss: 1.5777 - accuracy: 0.5758 - auc_25: 0.6520 - val_loss: 1.6518 - val_accuracy: 0.5225 - val_auc_25: 0.6965 - 857ms/epoch - 143ms/step\n",
      "Epoch 7/50\n",
      "6/6 - 1s - loss: 1.5719 - accuracy: 0.5787 - auc_25: 0.7373 - val_loss: 1.6622 - val_accuracy: 0.5225 - val_auc_25: 0.6965 - 857ms/epoch - 143ms/step\n"
     ]
    },
    {
     "data": {
      "image/png": "[encoded data removed]",
      "text/plain": [
       "<Figure size 432x288 with 1 Axes>"
      ]
     },
     "metadata": {
      "needs_background": "light"
     },
     "output_type": "display_data"
    },
    {
     "name": "stdout",
     "output_type": "stream",
     "text": [
      "Epoch 1/50\n",
      "6/6 - 3s - loss: 118.2832 - accuracy: 0.2725 - auc_26: 0.5449 - val_loss: 42.1169 - val_accuracy: 0.5787 - val_auc_26: 0.7361 - 3s/epoch - 545ms/step\n",
      "Epoch 2/50\n",
      "6/6 - 1s - loss: 20.8627 - accuracy: 0.3539 - auc_26: 0.6261 - val_loss: 3.1675 - val_accuracy: 0.2303 - val_auc_26: 0.5928 - 978ms/epoch - 163ms/step\n",
      "Epoch 3/50\n",
      "6/6 - 1s - loss: 1.9516 - accuracy: 0.2388 - auc_26: 0.6123 - val_loss: 1.8195 - val_accuracy: 0.2191 - val_auc_26: 0.6869 - 960ms/epoch - 160ms/step\n",
      "Epoch 4/50\n",
      "6/6 - 1s - loss: 1.6403 - accuracy: 0.4298 - auc_26: 0.6961 - val_loss: 1.7301 - val_accuracy: 0.5843 - val_auc_26: 0.7189 - 990ms/epoch - 165ms/step\n",
      "Epoch 5/50\n",
      "6/6 - 1s - loss: 1.6126 - accuracy: 0.5421 - auc_26: 0.7130 - val_loss: 1.6778 - val_accuracy: 0.5843 - val_auc_26: 0.7138 - 941ms/epoch - 157ms/step\n",
      "Epoch 6/50\n",
      "6/6 - 1s - loss: 1.5913 - accuracy: 0.5449 - auc_26: 0.7152 - val_loss: 1.6523 - val_accuracy: 0.5843 - val_auc_26: 0.7109 - 917ms/epoch - 153ms/step\n",
      "Epoch 7/50\n",
      "6/6 - 1s - loss: 1.5856 - accuracy: 0.5449 - auc_26: 0.7147 - val_loss: 1.6406 - val_accuracy: 0.5843 - val_auc_26: 0.7128 - 915ms/epoch - 153ms/step\n",
      "Epoch 8/50\n",
      "6/6 - 1s - loss: 1.5831 - accuracy: 0.5478 - auc_26: 0.7146 - val_loss: 1.6366 - val_accuracy: 0.5843 - val_auc_26: 0.7128 - 1s/epoch - 178ms/step\n",
      "Epoch 9/50\n",
      "6/6 - 1s - loss: 1.5806 - accuracy: 0.5506 - auc_26: 0.7146 - val_loss: 1.6342 - val_accuracy: 0.5843 - val_auc_26: 0.7128 - 1s/epoch - 227ms/step\n",
      "Epoch 10/50\n",
      "6/6 - 1s - loss: 1.5790 - accuracy: 0.5506 - auc_26: 0.7622 - val_loss: 1.6328 - val_accuracy: 0.5843 - val_auc_26: 0.7924 - 1s/epoch - 218ms/step\n",
      "Epoch 11/50\n",
      "6/6 - 2s - loss: 1.5778 - accuracy: 0.5506 - auc_26: 0.7957 - val_loss: 1.6318 - val_accuracy: 0.5843 - val_auc_26: 0.7924 - 2s/epoch - 262ms/step\n",
      "Epoch 12/50\n",
      "6/6 - 2s - loss: 1.5771 - accuracy: 0.5506 - auc_26: 0.7957 - val_loss: 1.6311 - val_accuracy: 0.5843 - val_auc_26: 0.7924 - 2s/epoch - 293ms/step\n",
      "Epoch 13/50\n",
      "6/6 - 2s - loss: 1.5766 - accuracy: 0.5506 - auc_26: 0.7958 - val_loss: 1.6307 - val_accuracy: 0.5843 - val_auc_26: 0.7924 - 2s/epoch - 291ms/step\n",
      "Epoch 14/50\n",
      "6/6 - 2s - loss: 1.5761 - accuracy: 0.5506 - auc_26: 0.7958 - val_loss: 1.6303 - val_accuracy: 0.5843 - val_auc_26: 0.7924 - 2s/epoch - 299ms/step\n",
      "Epoch 15/50\n",
      "6/6 - 2s - loss: 1.5758 - accuracy: 0.5506 - auc_26: 0.7958 - val_loss: 1.6300 - val_accuracy: 0.5843 - val_auc_26: 0.7924 - 2s/epoch - 304ms/step\n",
      "Epoch 16/50\n",
      "6/6 - 2s - loss: 1.5755 - accuracy: 0.5506 - auc_26: 0.7958 - val_loss: 1.6298 - val_accuracy: 0.5843 - val_auc_26: 0.7924 - 2s/epoch - 291ms/step\n",
      "Epoch 17/50\n",
      "6/6 - 2s - loss: 1.5753 - accuracy: 0.5506 - auc_26: 0.7958 - val_loss: 1.6296 - val_accuracy: 0.5843 - val_auc_26: 0.7924 - 2s/epoch - 287ms/step\n",
      "Epoch 18/50\n",
      "6/6 - 2s - loss: 1.5751 - accuracy: 0.5506 - auc_26: 0.7958 - val_loss: 1.6295 - val_accuracy: 0.5843 - val_auc_26: 0.7924 - 2s/epoch - 324ms/step\n",
      "Epoch 19/50\n",
      "6/6 - 2s - loss: 1.5750 - accuracy: 0.5506 - auc_26: 0.7958 - val_loss: 1.6294 - val_accuracy: 0.5843 - val_auc_26: 0.7924 - 2s/epoch - 324ms/step\n",
      "Epoch 20/50\n",
      "6/6 - 2s - loss: 1.5749 - accuracy: 0.5506 - auc_26: 0.7958 - val_loss: 1.6294 - val_accuracy: 0.5843 - val_auc_26: 0.7924 - 2s/epoch - 356ms/step\n",
      "Epoch 21/50\n",
      "6/6 - 2s - loss: 1.5749 - accuracy: 0.5506 - auc_26: 0.7958 - val_loss: 1.6293 - val_accuracy: 0.5843 - val_auc_26: 0.7924 - 2s/epoch - 303ms/step\n",
      "Epoch 22/50\n",
      "6/6 - 2s - loss: 1.5748 - accuracy: 0.5506 - auc_26: 0.7958 - val_loss: 1.6293 - val_accuracy: 0.5843 - val_auc_26: 0.7934 - 2s/epoch - 322ms/step\n",
      "Epoch 23/50\n",
      "6/6 - 2s - loss: 1.5748 - accuracy: 0.5506 - auc_26: 0.7963 - val_loss: 1.6292 - val_accuracy: 0.5843 - val_auc_26: 0.7934 - 2s/epoch - 285ms/step\n",
      "Epoch 24/50\n",
      "6/6 - 2s - loss: 1.5748 - accuracy: 0.5506 - auc_26: 0.7963 - val_loss: 1.6292 - val_accuracy: 0.5843 - val_auc_26: 0.7934 - 2s/epoch - 312ms/step\n",
      "Epoch 25/50\n",
      "6/6 - 2s - loss: 1.5747 - accuracy: 0.5506 - auc_26: 0.7963 - val_loss: 1.6292 - val_accuracy: 0.5843 - val_auc_26: 0.7934 - 2s/epoch - 268ms/step\n",
      "Epoch 26/50\n",
      "6/6 - 1s - loss: 1.5747 - accuracy: 0.5506 - auc_26: 0.7963 - val_loss: 1.6292 - val_accuracy: 0.5843 - val_auc_26: 0.7934 - 1s/epoch - 228ms/step\n",
      "Epoch 27/50\n",
      "6/6 - 1s - loss: 1.5747 - accuracy: 0.5506 - auc_26: 0.7963 - val_loss: 1.6292 - val_accuracy: 0.5843 - val_auc_26: 0.7934 - 1s/epoch - 185ms/step\n",
      "Epoch 28/50\n",
      "6/6 - 1s - loss: 1.5747 - accuracy: 0.5506 - auc_26: 0.7963 - val_loss: 1.6292 - val_accuracy: 0.5843 - val_auc_26: 0.7934 - 1s/epoch - 171ms/step\n",
      "Epoch 29/50\n",
      "6/6 - 1s - loss: 1.5747 - accuracy: 0.5506 - auc_26: 0.7963 - val_loss: 1.6292 - val_accuracy: 0.5843 - val_auc_26: 0.7934 - 1s/epoch - 239ms/step\n",
      "Epoch 30/50\n",
      "6/6 - 2s - loss: 1.5747 - accuracy: 0.5506 - auc_26: 0.7963 - val_loss: 1.6292 - val_accuracy: 0.5843 - val_auc_26: 0.7934 - 2s/epoch - 275ms/step\n",
      "Epoch 31/50\n",
      "6/6 - 2s - loss: 1.5747 - accuracy: 0.5506 - auc_26: 0.7963 - val_loss: 1.6292 - val_accuracy: 0.5843 - val_auc_26: 0.7934 - 2s/epoch - 275ms/step\n",
      "Epoch 32/50\n",
      "6/6 - 1s - loss: 1.5747 - accuracy: 0.5506 - auc_26: 0.7963 - val_loss: 1.6292 - val_accuracy: 0.5843 - val_auc_26: 0.7934 - 1s/epoch - 174ms/step\n",
      "Epoch 33/50\n",
      "6/6 - 1s - loss: 1.5747 - accuracy: 0.5506 - auc_26: 0.7963 - val_loss: 1.6292 - val_accuracy: 0.5843 - val_auc_26: 0.7934 - 1s/epoch - 210ms/step\n",
      "Epoch 34/50\n",
      "6/6 - 1s - loss: 1.5747 - accuracy: 0.5506 - auc_26: 0.7963 - val_loss: 1.6292 - val_accuracy: 0.5843 - val_auc_26: 0.7934 - 1s/epoch - 208ms/step\n",
      "Epoch 35/50\n",
      "6/6 - 1s - loss: 1.5747 - accuracy: 0.5506 - auc_26: 0.7963 - val_loss: 1.6292 - val_accuracy: 0.5843 - val_auc_26: 0.7934 - 1s/epoch - 219ms/step\n",
      "Epoch 36/50\n",
      "6/6 - 1s - loss: 1.5747 - accuracy: 0.5506 - auc_26: 0.7963 - val_loss: 1.6292 - val_accuracy: 0.5843 - val_auc_26: 0.7934 - 1s/epoch - 229ms/step\n",
      "Epoch 37/50\n",
      "6/6 - 1s - loss: 1.5747 - accuracy: 0.5506 - auc_26: 0.7963 - val_loss: 1.6292 - val_accuracy: 0.5843 - val_auc_26: 0.7934 - 1s/epoch - 180ms/step\n",
      "Epoch 38/50\n",
      "6/6 - 1s - loss: 1.5747 - accuracy: 0.5506 - auc_26: 0.7963 - val_loss: 1.6292 - val_accuracy: 0.5843 - val_auc_26: 0.7934 - 1s/epoch - 230ms/step\n",
      "Epoch 39/50\n",
      "6/6 - 1s - loss: 1.5747 - accuracy: 0.5506 - auc_26: 0.7963 - val_loss: 1.6292 - val_accuracy: 0.5843 - val_auc_26: 0.7934 - 950ms/epoch - 158ms/step\n",
      "Epoch 40/50\n",
      "6/6 - 1s - loss: 1.5747 - accuracy: 0.5506 - auc_26: 0.7963 - val_loss: 1.6292 - val_accuracy: 0.5843 - val_auc_26: 0.7934 - 850ms/epoch - 142ms/step\n",
      "Epoch 41/50\n",
      "6/6 - 1s - loss: 1.5747 - accuracy: 0.5506 - auc_26: 0.7963 - val_loss: 1.6292 - val_accuracy: 0.5843 - val_auc_26: 0.7934 - 861ms/epoch - 144ms/step\n",
      "Epoch 42/50\n",
      "6/6 - 1s - loss: 1.5747 - accuracy: 0.5506 - auc_26: 0.7963 - val_loss: 1.6292 - val_accuracy: 0.5843 - val_auc_26: 0.7934 - 826ms/epoch - 138ms/step\n",
      "Epoch 43/50\n",
      "6/6 - 1s - loss: 1.5747 - accuracy: 0.5506 - auc_26: 0.7963 - val_loss: 1.6292 - val_accuracy: 0.5843 - val_auc_26: 0.7934 - 818ms/epoch - 136ms/step\n",
      "Epoch 44/50\n",
      "6/6 - 1s - loss: 1.5747 - accuracy: 0.5506 - auc_26: 0.7963 - val_loss: 1.6292 - val_accuracy: 0.5843 - val_auc_26: 0.7934 - 924ms/epoch - 154ms/step\n",
      "Epoch 45/50\n",
      "6/6 - 1s - loss: 1.5747 - accuracy: 0.5506 - auc_26: 0.7963 - val_loss: 1.6292 - val_accuracy: 0.5843 - val_auc_26: 0.7934 - 1s/epoch - 221ms/step\n",
      "Epoch 46/50\n",
      "6/6 - 1s - loss: 1.5747 - accuracy: 0.5506 - auc_26: 0.7963 - val_loss: 1.6292 - val_accuracy: 0.5843 - val_auc_26: 0.7934 - 916ms/epoch - 153ms/step\n",
      "Epoch 47/50\n",
      "6/6 - 1s - loss: 1.5747 - accuracy: 0.5506 - auc_26: 0.7963 - val_loss: 1.6292 - val_accuracy: 0.5843 - val_auc_26: 0.7934 - 898ms/epoch - 150ms/step\n",
      "Epoch 48/50\n",
      "6/6 - 1s - loss: 1.5747 - accuracy: 0.5506 - auc_26: 0.7963 - val_loss: 1.6292 - val_accuracy: 0.5843 - val_auc_26: 0.7934 - 1s/epoch - 185ms/step\n"
     ]
    },
    {
     "data": {
      "image/png": "[encoded data removed]",
      "text/plain": [
       "<Figure size 432x288 with 1 Axes>"
      ]
     },
     "metadata": {
      "needs_background": "light"
     },
     "output_type": "display_data"
    },
    {
     "name": "stdout",
     "output_type": "stream",
     "text": [
      "Epoch 1/50\n",
      "6/6 - 4s - loss: 135.5407 - accuracy: 0.2612 - auc_27: 0.5410 - val_loss: 33.8219 - val_accuracy: 0.5618 - val_auc_27: 0.7261 - 4s/epoch - 616ms/step\n",
      "Epoch 2/50\n",
      "6/6 - 1s - loss: 14.8435 - accuracy: 0.5365 - auc_27: 0.7028 - val_loss: 4.4482 - val_accuracy: 0.2247 - val_auc_27: 0.6536 - 898ms/epoch - 150ms/step\n",
      "Epoch 3/50\n",
      "6/6 - 1s - loss: 2.6499 - accuracy: 0.2472 - auc_27: 0.7194 - val_loss: 2.6304 - val_accuracy: 0.5618 - val_auc_27: 0.7123 - 872ms/epoch - 145ms/step\n",
      "Epoch 4/50\n",
      "6/6 - 1s - loss: 1.6337 - accuracy: 0.5590 - auc_27: 0.7369 - val_loss: 1.8853 - val_accuracy: 0.5618 - val_auc_27: 0.7292 - 879ms/epoch - 146ms/step\n",
      "Epoch 5/50\n",
      "6/6 - 1s - loss: 1.5754 - accuracy: 0.5590 - auc_27: 0.7570 - val_loss: 1.8647 - val_accuracy: 0.5674 - val_auc_27: 0.7302 - 876ms/epoch - 146ms/step\n",
      "Epoch 6/50\n",
      "6/6 - 1s - loss: 1.5677 - accuracy: 0.5562 - auc_27: 0.7563 - val_loss: 1.8451 - val_accuracy: 0.5674 - val_auc_27: 0.7285 - 871ms/epoch - 145ms/step\n",
      "Epoch 7/50\n",
      "6/6 - 1s - loss: 1.5588 - accuracy: 0.5562 - auc_27: 0.7553 - val_loss: 1.8276 - val_accuracy: 0.5674 - val_auc_27: 0.7321 - 885ms/epoch - 147ms/step\n",
      "Epoch 8/50\n",
      "6/6 - 1s - loss: 1.5548 - accuracy: 0.5562 - auc_27: 0.7878 - val_loss: 1.8220 - val_accuracy: 0.5674 - val_auc_27: 0.7799 - 877ms/epoch - 146ms/step\n",
      "Epoch 9/50\n",
      "6/6 - 1s - loss: 1.5504 - accuracy: 0.5562 - auc_27: 0.7942 - val_loss: 1.8217 - val_accuracy: 0.5674 - val_auc_27: 0.7787 - 1s/epoch - 197ms/step\n",
      "Epoch 10/50\n",
      "6/6 - 1s - loss: 1.5478 - accuracy: 0.5590 - auc_27: 0.7943 - val_loss: 1.8217 - val_accuracy: 0.5562 - val_auc_27: 0.7738 - 908ms/epoch - 151ms/step\n",
      "Epoch 11/50\n",
      "6/6 - 1s - loss: 1.5461 - accuracy: 0.5534 - auc_27: 0.7918 - val_loss: 1.8165 - val_accuracy: 0.5674 - val_auc_27: 0.7811 - 958ms/epoch - 160ms/step\n",
      "Epoch 12/50\n",
      "6/6 - 1s - loss: 1.5376 - accuracy: 0.5618 - auc_27: 0.7974 - val_loss: 1.7977 - val_accuracy: 0.5730 - val_auc_27: 0.7872 - 1s/epoch - 225ms/step\n",
      "Epoch 13/50\n",
      "6/6 - 1s - loss: 1.5299 - accuracy: 0.5646 - auc_27: 0.7989 - val_loss: 1.7887 - val_accuracy: 0.5730 - val_auc_27: 0.7896 - 1s/epoch - 168ms/step\n",
      "Epoch 14/50\n",
      "6/6 - 1s - loss: 1.5249 - accuracy: 0.5646 - auc_27: 0.8008 - val_loss: 1.7818 - val_accuracy: 0.5730 - val_auc_27: 0.7884 - 925ms/epoch - 154ms/step\n",
      "Epoch 15/50\n",
      "6/6 - 1s - loss: 1.5195 - accuracy: 0.5674 - auc_27: 0.7993 - val_loss: 1.7813 - val_accuracy: 0.5730 - val_auc_27: 0.7888 - 1s/epoch - 198ms/step\n",
      "Epoch 16/50\n",
      "6/6 - 1s - loss: 1.5184 - accuracy: 0.5618 - auc_27: 0.7989 - val_loss: 1.7819 - val_accuracy: 0.5674 - val_auc_27: 0.7888 - 1s/epoch - 197ms/step\n",
      "Epoch 17/50\n",
      "6/6 - 1s - loss: 1.5172 - accuracy: 0.5646 - auc_27: 0.7999 - val_loss: 1.7828 - val_accuracy: 0.5674 - val_auc_27: 0.7888 - 1s/epoch - 213ms/step\n"
     ]
    },
    {
     "data": {
      "image/png": "[encoded data removed]",
      "text/plain": [
       "<Figure size 432x288 with 1 Axes>"
      ]
     },
     "metadata": {
      "needs_background": "light"
     },
     "output_type": "display_data"
    }
   ],
   "source": [
    "model3 = get_convLSTM(n_features, n_length, n_outputs)\n",
    "for train_index, val_index in kf.split(X):\n",
    "    X_train, X_val = X[train_index], X[val_index]\n",
    "    y_train, y_val = y[train_index], y[val_index]\n",
    "    model3 = get_convLSTM(n_features, n_length, n_outputs)\n",
    "    history = train(model3, X_train, y_train, X_val, y_val, epochs=epochs, batch_size=batch_size)\n",
    "    plt.plot(history.history['loss'])\n",
    "    plt.show()"
   ]
  },
  {
   "cell_type": "code",
   "execution_count": null,
   "metadata": {},
   "outputs": [
    {
     "name": "stdout",
     "output_type": "stream",
     "text": [
      "\n",
      "Accuracy: 46.914%\n",
      "\n",
      "AUC: 0.7357\n"
     ]
    }
   ],
   "source": [
    "loss, accuracy, auc = model3.evaluate(X_test, y_test, batch_size=batch_size, verbose=0)\n",
    "score = accuracy * 100\n",
    "accuracies.append(round(score, 2))\n",
    "aucs.append(round(auc * 100, 2))\n",
    "print('\\nAccuracy: %.3f%%' % score)\n",
    "print('\\nAUC:', round(auc, 4))"
   ]
  },
  {
   "cell_type": "markdown",
   "metadata": {},
   "source": [
    "### RCNN (Recurrent CNN) Model"
   ]
  },
  {
   "cell_type": "code",
   "execution_count": null,
   "metadata": {},
   "outputs": [
    {
     "name": "stdout",
     "output_type": "stream",
     "text": [
      "Epoch 1/50\n",
      "6/6 - 4s - loss: 1.2924 - accuracy: 0.5056 - auc_29: 0.7664 - val_loss: 1.2224 - val_accuracy: 0.5337 - val_auc_29: 0.8060 - 4s/epoch - 661ms/step\n",
      "Epoch 2/50\n",
      "6/6 - 1s - loss: 1.1597 - accuracy: 0.5702 - auc_29: 0.8262 - val_loss: 1.2248 - val_accuracy: 0.5337 - val_auc_29: 0.8121 - 1s/epoch - 181ms/step\n",
      "Epoch 3/50\n",
      "6/6 - 1s - loss: 1.1203 - accuracy: 0.5702 - auc_29: 0.8404 - val_loss: 1.1897 - val_accuracy: 0.5337 - val_auc_29: 0.8068 - 1s/epoch - 214ms/step\n",
      "Epoch 4/50\n",
      "6/6 - 1s - loss: 1.0991 - accuracy: 0.5702 - auc_29: 0.8482 - val_loss: 1.1792 - val_accuracy: 0.5337 - val_auc_29: 0.8114 - 1s/epoch - 187ms/step\n",
      "Epoch 5/50\n",
      "6/6 - 1s - loss: 1.0813 - accuracy: 0.5730 - auc_29: 0.8541 - val_loss: 1.1608 - val_accuracy: 0.5337 - val_auc_29: 0.8274 - 1s/epoch - 177ms/step\n",
      "Epoch 6/50\n",
      "6/6 - 1s - loss: 1.0679 - accuracy: 0.5758 - auc_29: 0.8585 - val_loss: 1.1584 - val_accuracy: 0.5337 - val_auc_29: 0.8296 - 1s/epoch - 175ms/step\n",
      "Epoch 7/50\n",
      "6/6 - 1s - loss: 1.0555 - accuracy: 0.5758 - auc_29: 0.8626 - val_loss: 1.1585 - val_accuracy: 0.5337 - val_auc_29: 0.8293 - 1s/epoch - 195ms/step\n",
      "Epoch 8/50\n",
      "6/6 - 1s - loss: 1.0591 - accuracy: 0.5702 - auc_29: 0.8608 - val_loss: 1.1537 - val_accuracy: 0.5337 - val_auc_29: 0.8289 - 1s/epoch - 177ms/step\n",
      "Epoch 9/50\n",
      "6/6 - 1s - loss: 1.0464 - accuracy: 0.5758 - auc_29: 0.8649 - val_loss: 1.1556 - val_accuracy: 0.5337 - val_auc_29: 0.8281 - 1s/epoch - 174ms/step\n",
      "Epoch 10/50\n",
      "6/6 - 1s - loss: 1.0455 - accuracy: 0.5758 - auc_29: 0.8647 - val_loss: 1.1545 - val_accuracy: 0.5337 - val_auc_29: 0.8305 - 1s/epoch - 188ms/step\n"
     ]
    },
    {
     "data": {
      "image/png": "[encoded data removed]",
      "text/plain": [
       "<Figure size 432x288 with 1 Axes>"
      ]
     },
     "metadata": {
      "needs_background": "light"
     },
     "output_type": "display_data"
    },
    {
     "name": "stdout",
     "output_type": "stream",
     "text": [
      "Epoch 1/50\n",
      "6/6 - 3s - loss: 1.3456 - accuracy: 0.4410 - auc_30: 0.7518 - val_loss: 1.1821 - val_accuracy: 0.5787 - val_auc_30: 0.8075 - 3s/epoch - 515ms/step\n",
      "Epoch 2/50\n",
      "6/6 - 1s - loss: 1.1639 - accuracy: 0.5478 - auc_30: 0.8289 - val_loss: 1.1668 - val_accuracy: 0.5787 - val_auc_30: 0.8183 - 1s/epoch - 190ms/step\n",
      "Epoch 3/50\n",
      "6/6 - 1s - loss: 1.1297 - accuracy: 0.5506 - auc_30: 0.8363 - val_loss: 1.1741 - val_accuracy: 0.5787 - val_auc_30: 0.7989 - 1s/epoch - 174ms/step\n",
      "Epoch 4/50\n",
      "6/6 - 1s - loss: 1.1130 - accuracy: 0.5646 - auc_30: 0.8433 - val_loss: 1.1661 - val_accuracy: 0.5787 - val_auc_30: 0.8122 - 1s/epoch - 174ms/step\n",
      "Epoch 5/50\n",
      "6/6 - 1s - loss: 1.0848 - accuracy: 0.5646 - auc_30: 0.8550 - val_loss: 1.1693 - val_accuracy: 0.5787 - val_auc_30: 0.8062 - 1s/epoch - 172ms/step\n",
      "Epoch 6/50\n",
      "6/6 - 1s - loss: 1.0746 - accuracy: 0.5646 - auc_30: 0.8576 - val_loss: 1.1657 - val_accuracy: 0.5787 - val_auc_30: 0.8122 - 1s/epoch - 172ms/step\n",
      "Epoch 7/50\n",
      "6/6 - 1s - loss: 1.0571 - accuracy: 0.5590 - auc_30: 0.8643 - val_loss: 1.1629 - val_accuracy: 0.5787 - val_auc_30: 0.8115 - 1s/epoch - 172ms/step\n",
      "Epoch 8/50\n",
      "6/6 - 1s - loss: 1.0445 - accuracy: 0.5646 - auc_30: 0.8698 - val_loss: 1.1742 - val_accuracy: 0.5787 - val_auc_30: 0.8010 - 1s/epoch - 171ms/step\n",
      "Epoch 9/50\n",
      "6/6 - 1s - loss: 1.0396 - accuracy: 0.5702 - auc_30: 0.8708 - val_loss: 1.1718 - val_accuracy: 0.5787 - val_auc_30: 0.8054 - 1s/epoch - 175ms/step\n"
     ]
    },
    {
     "data": {
      "image/png": "[encoded data removed]",
      "text/plain": [
       "<Figure size 432x288 with 1 Axes>"
      ]
     },
     "metadata": {
      "needs_background": "light"
     },
     "output_type": "display_data"
    },
    {
     "name": "stdout",
     "output_type": "stream",
     "text": [
      "Epoch 1/50\n",
      "6/6 - 3s - loss: 1.3096 - accuracy: 0.4888 - auc_31: 0.7645 - val_loss: 1.1941 - val_accuracy: 0.5618 - val_auc_31: 0.8101 - 3s/epoch - 509ms/step\n",
      "Epoch 2/50\n",
      "6/6 - 1s - loss: 1.1664 - accuracy: 0.5562 - auc_31: 0.8246 - val_loss: 1.1956 - val_accuracy: 0.5618 - val_auc_31: 0.8100 - 1s/epoch - 173ms/step\n",
      "Epoch 3/50\n",
      "6/6 - 1s - loss: 1.1336 - accuracy: 0.5562 - auc_31: 0.8370 - val_loss: 1.1912 - val_accuracy: 0.5618 - val_auc_31: 0.8103 - 1s/epoch - 173ms/step\n",
      "Epoch 4/50\n",
      "6/6 - 1s - loss: 1.1096 - accuracy: 0.5618 - auc_31: 0.8450 - val_loss: 1.1850 - val_accuracy: 0.5618 - val_auc_31: 0.8122 - 1s/epoch - 173ms/step\n",
      "Epoch 5/50\n",
      "6/6 - 1s - loss: 1.0932 - accuracy: 0.5674 - auc_31: 0.8501 - val_loss: 1.1875 - val_accuracy: 0.5618 - val_auc_31: 0.8122 - 1s/epoch - 171ms/step\n",
      "Epoch 6/50\n",
      "6/6 - 1s - loss: 1.0792 - accuracy: 0.5674 - auc_31: 0.8555 - val_loss: 1.1811 - val_accuracy: 0.5618 - val_auc_31: 0.8148 - 1s/epoch - 171ms/step\n",
      "Epoch 7/50\n",
      "6/6 - 1s - loss: 1.0707 - accuracy: 0.5674 - auc_31: 0.8574 - val_loss: 1.1796 - val_accuracy: 0.5618 - val_auc_31: 0.8138 - 1s/epoch - 172ms/step\n",
      "Epoch 8/50\n",
      "6/6 - 1s - loss: 1.0546 - accuracy: 0.5702 - auc_31: 0.8636 - val_loss: 1.1841 - val_accuracy: 0.5618 - val_auc_31: 0.8118 - 1s/epoch - 172ms/step\n",
      "Epoch 9/50\n",
      "6/6 - 1s - loss: 1.0457 - accuracy: 0.5674 - auc_31: 0.8678 - val_loss: 1.1849 - val_accuracy: 0.5618 - val_auc_31: 0.8111 - 1s/epoch - 171ms/step\n"
     ]
    },
    {
     "data": {
      "image/png": "[encoded data removed]",
      "text/plain": [
       "<Figure size 432x288 with 1 Axes>"
      ]
     },
     "metadata": {
      "needs_background": "light"
     },
     "output_type": "display_data"
    }
   ],
   "source": [
    "model4 = get_RCNN(n_features, n_length, n_outputs)\n",
    "for train_index, val_index in kf.split(X):\n",
    "    X_train, X_val = X[train_index], X[val_index]\n",
    "    y_train, y_val = y[train_index], y[val_index]\n",
    "    model4 = get_RCNN(n_features, n_length, n_outputs)\n",
    "    history = train(model4, X_train, y_train, X_val, y_val, epochs=epochs, batch_size=batch_size)\n",
    "    plt.plot(history.history['loss'])\n",
    "    plt.show()"
   ]
  },
  {
   "cell_type": "code",
   "execution_count": null,
   "metadata": {},
   "outputs": [
    {
     "name": "stdout",
     "output_type": "stream",
     "text": [
      "\n",
      "Accuracy: 50.617%\n",
      "\n",
      "AUC: 0.8013\n"
     ]
    }
   ],
   "source": [
    "loss, accuracy, auc = model4.evaluate(X_test, y_test, batch_size=batch_size, verbose=0)\n",
    "score = accuracy * 100\n",
    "accuracies.append(round(score, 2))\n",
    "aucs.append(round(auc * 100, 2))\n",
    "print('\\nAccuracy: %.3f%%' % score)\n",
    "print('\\nAUC:', round(auc, 4))"
   ]
  },
  {
   "cell_type": "markdown",
   "metadata": {},
   "source": [
    "## 2. Late Fusion - Fusion is performed at decision level\n",
    "\n",
    "I consider late fusion by ...\n",
    "\n",
    "Fusion mechanisms/schemes used:\n",
    "\n",
    "- (Unweighted) Majority voting. If the combination has a tie, we use the class probability (confidence score) to break the tie.\n",
    "\n",
    "- Weighted voting\n",
    "\n",
    "- Weighted sum"
   ]
  },
  {
   "cell_type": "markdown",
   "metadata": {},
   "source": [
    "### 2.1 Pain area prediction"
   ]
  },
  {
   "cell_type": "code",
   "execution_count": null,
   "metadata": {},
   "outputs": [],
   "source": []
  },
  {
   "cell_type": "markdown",
   "metadata": {},
   "source": [
    "### 2.2 Pain level prediction"
   ]
  },
  {
   "cell_type": "code",
   "execution_count": null,
   "metadata": {},
   "outputs": [],
   "source": []
  },
  {
   "cell_type": "markdown",
   "metadata": {},
   "source": [
    "## 3. Ensemble - Meta-Learner approaches\n",
    "\n",
    "I consider ensemble approaches by integrating outputs of individual trained classifiers (one per modality, same output label as the label at the end). Each ensemble member provides prediction scores that are aggregated to train a meta-learner (stacking ensemble). The ensemble is in charge of producing\n",
    "the final classification. \n",
    "\n",
    "A drawback with the ensemble approach is that I only work with two modalities, so there's no ensemble if one modality is missing. It would have been more interesting with 3+ modalities. Additionally, I can't use models that require different input shapes (=slightly limiting)."
   ]
  },
  {
   "cell_type": "markdown",
   "metadata": {},
   "source": [
    "### 3.1 Pain area prediction"
   ]
  },
  {
   "cell_type": "markdown",
   "metadata": {},
   "source": [
    "#### Dataset"
   ]
  },
  {
   "cell_type": "code",
   "execution_count": null,
   "metadata": {},
   "outputs": [
    {
     "name": "stdout",
     "output_type": "stream",
     "text": [
      "(534, 1, 350, 38) (534, 5)\n",
      "(81, 1, 350, 38) (81, 5)\n"
     ]
    }
   ],
   "source": [
    "X_train, X_test, y_train, y_test = load_dataset('processed', 'pain_area', 'skeleton')\n",
    "\n",
    "print(X_train.shape, y_train.shape)\n",
    "print(X_test.shape, y_test.shape)"
   ]
  },
  {
   "cell_type": "code",
   "execution_count": null,
   "metadata": {},
   "outputs": [],
   "source": [
    "n_length, n_features, n_outputs = X_train.shape[2], X_train.shape[-1], y_train.shape[1]"
   ]
  },
  {
   "cell_type": "markdown",
   "metadata": {},
   "source": [
    "#### Stacking Ensemble"
   ]
  },
  {
   "cell_type": "code",
   "execution_count": null,
   "metadata": {},
   "outputs": [],
   "source": [
    "# member1 = KerasMember(name=\"model1\", keras_model=model1,\n",
    "                             # train_batches=(X_train, y_train),\n",
    "                             # val_batches=(X_val, y_val))"
   ]
  },
  {
   "cell_type": "code",
   "execution_count": null,
   "metadata": {},
   "outputs": [],
   "source": [
    "# member2 = KerasMember(name=\"model2\", keras_model=model2,\n",
    "                             # train_batches=(X_train, y_train),\n",
    "                            # val_batches=(X_val, y_val))"
   ]
  },
  {
   "cell_type": "code",
   "execution_count": null,
   "metadata": {},
   "outputs": [],
   "source": [
    "#stack = StackEnsemble()\n",
    "#stack.add_member(member1)\n",
    "#stack.add_member(member2)"
   ]
  },
  {
   "cell_type": "code",
   "execution_count": null,
   "metadata": {},
   "outputs": [],
   "source": [
    "#stack.fit()"
   ]
  },
  {
   "cell_type": "code",
   "execution_count": null,
   "metadata": {},
   "outputs": [],
   "source": [
    "#stack.describe()"
   ]
  },
  {
   "cell_type": "markdown",
   "metadata": {},
   "source": [
    "#### Dirichlet Markov Ensemble"
   ]
  },
  {
   "cell_type": "code",
   "execution_count": null,
   "metadata": {},
   "outputs": [],
   "source": [
    "#dirichletEnsemble = DirichletEnsemble(N=2000 * 2)\n",
    "#dirichletEnsemble.add_member(member1)\n",
    "#dirichletEnsemble.add_member(member2)"
   ]
  },
  {
   "cell_type": "code",
   "execution_count": null,
   "metadata": {},
   "outputs": [],
   "source": [
    "#dirichletEnsemble.fit()"
   ]
  },
  {
   "cell_type": "code",
   "execution_count": null,
   "metadata": {},
   "outputs": [],
   "source": [
    "#dirichletEnsemble.describe()"
   ]
  },
  {
   "cell_type": "markdown",
   "metadata": {},
   "source": [
    "### 3.2 Pain level prediction"
   ]
  },
  {
   "cell_type": "markdown",
   "metadata": {},
   "source": [
    "#### Dataset"
   ]
  },
  {
   "cell_type": "code",
   "execution_count": null,
   "metadata": {},
   "outputs": [],
   "source": []
  },
  {
   "cell_type": "markdown",
   "metadata": {},
   "source": [
    "## 4. Results"
   ]
  },
  {
   "cell_type": "code",
   "execution_count": null,
   "metadata": {},
   "outputs": [],
   "source": [
    "def show_results(first, last):\n",
    "    plt.rcParams['figure.figsize'] = (8,8)\n",
    "    x = np.arange(len(model_names[first:last]))\n",
    "    width = 0.35\n",
    "\n",
    "    fig, ax = plt.subplots()\n",
    "    rects1 = ax.bar(x - width/2, accuracies[first:last], width, label='Accuracy')\n",
    "    rects2 = ax.bar(x + width/2, aucs[first:last], width, label='AUC * 100')\n",
    "\n",
    "    ax.set_ylim(0, 100)\n",
    "    ax.set_xticks(x, model_names[first:last])\n",
    "    ax.legend()\n",
    "\n",
    "    ax.bar_label(rects1, padding=3)\n",
    "    ax.bar_label(rects2, padding=3)\n",
    "\n",
    "    fig.tight_layout()\n",
    "\n",
    "    plt.show()"
   ]
  },
  {
   "cell_type": "markdown",
   "metadata": {},
   "source": [
    "### Early fusion - Pain area prediction "
   ]
  },
  {
   "cell_type": "code",
   "execution_count": null,
   "metadata": {},
   "outputs": [
    {
     "data": {
      "image/png": "[encoded data removed]",
      "text/plain": [
       "<Figure size 576x576 with 1 Axes>"
      ]
     },
     "metadata": {
      "needs_background": "light"
     },
     "output_type": "display_data"
    },
    {
     "data": {
      "image/png": "[encoded data removed]",
      "text/plain": [
       "<Figure size 576x576 with 1 Axes>"
      ]
     },
     "metadata": {
      "needs_background": "light"
     },
     "output_type": "display_data"
    }
   ],
   "source": [
    "show_results(0, 2)\n",
    "show_results(2, 4)"
   ]
  },
  {
   "cell_type": "markdown",
   "metadata": {},
   "source": [
    "### Early fusion - Pain level prediction "
   ]
  },
  {
   "cell_type": "code",
   "execution_count": null,
   "metadata": {},
   "outputs": [
    {
     "ename": "ValueError",
     "evalue": "shape mismatch: objects cannot be broadcast to a single shape",
     "output_type": "error",
     "traceback": [
      "\u001b[0;31m---------------------------------------------------------------------------\u001b[0m",
      "\u001b[0;31mValueError\u001b[0m                                Traceback (most recent call last)",
      "\u001b[1;32m/Users/mnktech/Documents/GitHub/masters-thesis/notebooks/baseline_multimodal.ipynb Cell 79'\u001b[0m in \u001b[0;36m<module>\u001b[0;34m\u001b[0m\n\u001b[0;32m----> <a href='vscode-notebook-cell:/Users/mnktech/Documents/GitHub/masters-thesis/notebooks/baseline_multimodal.ipynb#ch0000108?line=0'>1</a>\u001b[0m show_results(\u001b[39m4\u001b[39;49m, \u001b[39m6\u001b[39;49m)\n\u001b[1;32m      <a href='vscode-notebook-cell:/Users/mnktech/Documents/GitHub/masters-thesis/notebooks/baseline_multimodal.ipynb#ch0000108?line=1'>2</a>\u001b[0m show_results(\u001b[39m6\u001b[39m, \u001b[39m8\u001b[39m)\n",
      "\u001b[1;32m/Users/mnktech/Documents/GitHub/masters-thesis/notebooks/baseline_multimodal.ipynb Cell 75'\u001b[0m in \u001b[0;36mshow_results\u001b[0;34m(first, last)\u001b[0m\n\u001b[1;32m      <a href='vscode-notebook-cell:/Users/mnktech/Documents/GitHub/masters-thesis/notebooks/baseline_multimodal.ipynb#ch0000074?line=3'>4</a>\u001b[0m width \u001b[39m=\u001b[39m \u001b[39m0.35\u001b[39m\n\u001b[1;32m      <a href='vscode-notebook-cell:/Users/mnktech/Documents/GitHub/masters-thesis/notebooks/baseline_multimodal.ipynb#ch0000074?line=5'>6</a>\u001b[0m fig, ax \u001b[39m=\u001b[39m plt\u001b[39m.\u001b[39msubplots()\n\u001b[0;32m----> <a href='vscode-notebook-cell:/Users/mnktech/Documents/GitHub/masters-thesis/notebooks/baseline_multimodal.ipynb#ch0000074?line=6'>7</a>\u001b[0m rects1 \u001b[39m=\u001b[39m ax\u001b[39m.\u001b[39;49mbar(x \u001b[39m-\u001b[39;49m width\u001b[39m/\u001b[39;49m\u001b[39m2\u001b[39;49m, accuracies[first:last], width, label\u001b[39m=\u001b[39;49m\u001b[39m'\u001b[39;49m\u001b[39mAccuracy\u001b[39;49m\u001b[39m'\u001b[39;49m)\n\u001b[1;32m      <a href='vscode-notebook-cell:/Users/mnktech/Documents/GitHub/masters-thesis/notebooks/baseline_multimodal.ipynb#ch0000074?line=7'>8</a>\u001b[0m rects2 \u001b[39m=\u001b[39m ax\u001b[39m.\u001b[39mbar(x \u001b[39m+\u001b[39m width\u001b[39m/\u001b[39m\u001b[39m2\u001b[39m, aucs[first:last], width, label\u001b[39m=\u001b[39m\u001b[39m'\u001b[39m\u001b[39mAUC * 100\u001b[39m\u001b[39m'\u001b[39m)\n\u001b[1;32m     <a href='vscode-notebook-cell:/Users/mnktech/Documents/GitHub/masters-thesis/notebooks/baseline_multimodal.ipynb#ch0000074?line=9'>10</a>\u001b[0m ax\u001b[39m.\u001b[39mset_ylim(\u001b[39m0\u001b[39m, \u001b[39m100\u001b[39m)\n",
      "File \u001b[0;32m~/.local/share/virtualenvs/masters-thesis-dSEc-4wZ/lib/python3.9/site-packages/matplotlib/__init__.py:1412\u001b[0m, in \u001b[0;36m_preprocess_data.<locals>.inner\u001b[0;34m(ax, data, *args, **kwargs)\u001b[0m\n\u001b[1;32m   <a href='file:///Users/mnktech/.local/share/virtualenvs/masters-thesis-dSEc-4wZ/lib/python3.9/site-packages/matplotlib/__init__.py?line=1408'>1409</a>\u001b[0m \u001b[39m@functools\u001b[39m\u001b[39m.\u001b[39mwraps(func)\n\u001b[1;32m   <a href='file:///Users/mnktech/.local/share/virtualenvs/masters-thesis-dSEc-4wZ/lib/python3.9/site-packages/matplotlib/__init__.py?line=1409'>1410</a>\u001b[0m \u001b[39mdef\u001b[39;00m \u001b[39minner\u001b[39m(ax, \u001b[39m*\u001b[39margs, data\u001b[39m=\u001b[39m\u001b[39mNone\u001b[39;00m, \u001b[39m*\u001b[39m\u001b[39m*\u001b[39mkwargs):\n\u001b[1;32m   <a href='file:///Users/mnktech/.local/share/virtualenvs/masters-thesis-dSEc-4wZ/lib/python3.9/site-packages/matplotlib/__init__.py?line=1410'>1411</a>\u001b[0m     \u001b[39mif\u001b[39;00m data \u001b[39mis\u001b[39;00m \u001b[39mNone\u001b[39;00m:\n\u001b[0;32m-> <a href='file:///Users/mnktech/.local/share/virtualenvs/masters-thesis-dSEc-4wZ/lib/python3.9/site-packages/matplotlib/__init__.py?line=1411'>1412</a>\u001b[0m         \u001b[39mreturn\u001b[39;00m func(ax, \u001b[39m*\u001b[39;49m\u001b[39mmap\u001b[39;49m(sanitize_sequence, args), \u001b[39m*\u001b[39;49m\u001b[39m*\u001b[39;49mkwargs)\n\u001b[1;32m   <a href='file:///Users/mnktech/.local/share/virtualenvs/masters-thesis-dSEc-4wZ/lib/python3.9/site-packages/matplotlib/__init__.py?line=1413'>1414</a>\u001b[0m     bound \u001b[39m=\u001b[39m new_sig\u001b[39m.\u001b[39mbind(ax, \u001b[39m*\u001b[39margs, \u001b[39m*\u001b[39m\u001b[39m*\u001b[39mkwargs)\n\u001b[1;32m   <a href='file:///Users/mnktech/.local/share/virtualenvs/masters-thesis-dSEc-4wZ/lib/python3.9/site-packages/matplotlib/__init__.py?line=1414'>1415</a>\u001b[0m     auto_label \u001b[39m=\u001b[39m (bound\u001b[39m.\u001b[39marguments\u001b[39m.\u001b[39mget(label_namer)\n\u001b[1;32m   <a href='file:///Users/mnktech/.local/share/virtualenvs/masters-thesis-dSEc-4wZ/lib/python3.9/site-packages/matplotlib/__init__.py?line=1415'>1416</a>\u001b[0m                   \u001b[39mor\u001b[39;00m bound\u001b[39m.\u001b[39mkwargs\u001b[39m.\u001b[39mget(label_namer))\n",
      "File \u001b[0;32m~/.local/share/virtualenvs/masters-thesis-dSEc-4wZ/lib/python3.9/site-packages/matplotlib/axes/_axes.py:2342\u001b[0m, in \u001b[0;36mAxes.bar\u001b[0;34m(self, x, height, width, bottom, align, **kwargs)\u001b[0m\n\u001b[1;32m   <a href='file:///Users/mnktech/.local/share/virtualenvs/masters-thesis-dSEc-4wZ/lib/python3.9/site-packages/matplotlib/axes/_axes.py?line=2338'>2339</a>\u001b[0m     \u001b[39mif\u001b[39;00m yerr \u001b[39mis\u001b[39;00m \u001b[39mnot\u001b[39;00m \u001b[39mNone\u001b[39;00m:\n\u001b[1;32m   <a href='file:///Users/mnktech/.local/share/virtualenvs/masters-thesis-dSEc-4wZ/lib/python3.9/site-packages/matplotlib/axes/_axes.py?line=2339'>2340</a>\u001b[0m         yerr \u001b[39m=\u001b[39m \u001b[39mself\u001b[39m\u001b[39m.\u001b[39m_convert_dx(yerr, y0, y, \u001b[39mself\u001b[39m\u001b[39m.\u001b[39mconvert_yunits)\n\u001b[0;32m-> <a href='file:///Users/mnktech/.local/share/virtualenvs/masters-thesis-dSEc-4wZ/lib/python3.9/site-packages/matplotlib/axes/_axes.py?line=2341'>2342</a>\u001b[0m x, height, width, y, linewidth, hatch \u001b[39m=\u001b[39m np\u001b[39m.\u001b[39;49mbroadcast_arrays(\n\u001b[1;32m   <a href='file:///Users/mnktech/.local/share/virtualenvs/masters-thesis-dSEc-4wZ/lib/python3.9/site-packages/matplotlib/axes/_axes.py?line=2342'>2343</a>\u001b[0m     \u001b[39m# Make args iterable too.\u001b[39;49;00m\n\u001b[1;32m   <a href='file:///Users/mnktech/.local/share/virtualenvs/masters-thesis-dSEc-4wZ/lib/python3.9/site-packages/matplotlib/axes/_axes.py?line=2343'>2344</a>\u001b[0m     np\u001b[39m.\u001b[39;49matleast_1d(x), height, width, y, linewidth, hatch)\n\u001b[1;32m   <a href='file:///Users/mnktech/.local/share/virtualenvs/masters-thesis-dSEc-4wZ/lib/python3.9/site-packages/matplotlib/axes/_axes.py?line=2345'>2346</a>\u001b[0m \u001b[39m# Now that units have been converted, set the tick locations.\u001b[39;00m\n\u001b[1;32m   <a href='file:///Users/mnktech/.local/share/virtualenvs/masters-thesis-dSEc-4wZ/lib/python3.9/site-packages/matplotlib/axes/_axes.py?line=2346'>2347</a>\u001b[0m \u001b[39mif\u001b[39;00m orientation \u001b[39m==\u001b[39m \u001b[39m'\u001b[39m\u001b[39mvertical\u001b[39m\u001b[39m'\u001b[39m:\n",
      "File \u001b[0;32m<__array_function__ internals>:5\u001b[0m, in \u001b[0;36mbroadcast_arrays\u001b[0;34m(*args, **kwargs)\u001b[0m\n",
      "File \u001b[0;32m~/.local/share/virtualenvs/masters-thesis-dSEc-4wZ/lib/python3.9/site-packages/numpy/lib/stride_tricks.py:538\u001b[0m, in \u001b[0;36mbroadcast_arrays\u001b[0;34m(subok, *args)\u001b[0m\n\u001b[1;32m    <a href='file:///Users/mnktech/.local/share/virtualenvs/masters-thesis-dSEc-4wZ/lib/python3.9/site-packages/numpy/lib/stride_tricks.py?line=530'>531</a>\u001b[0m \u001b[39m# nditer is not used here to avoid the limit of 32 arrays.\u001b[39;00m\n\u001b[1;32m    <a href='file:///Users/mnktech/.local/share/virtualenvs/masters-thesis-dSEc-4wZ/lib/python3.9/site-packages/numpy/lib/stride_tricks.py?line=531'>532</a>\u001b[0m \u001b[39m# Otherwise, something like the following one-liner would suffice:\u001b[39;00m\n\u001b[1;32m    <a href='file:///Users/mnktech/.local/share/virtualenvs/masters-thesis-dSEc-4wZ/lib/python3.9/site-packages/numpy/lib/stride_tricks.py?line=532'>533</a>\u001b[0m \u001b[39m# return np.nditer(args, flags=['multi_index', 'zerosize_ok'],\u001b[39;00m\n\u001b[1;32m    <a href='file:///Users/mnktech/.local/share/virtualenvs/masters-thesis-dSEc-4wZ/lib/python3.9/site-packages/numpy/lib/stride_tricks.py?line=533'>534</a>\u001b[0m \u001b[39m#                  order='C').itviews\u001b[39;00m\n\u001b[1;32m    <a href='file:///Users/mnktech/.local/share/virtualenvs/masters-thesis-dSEc-4wZ/lib/python3.9/site-packages/numpy/lib/stride_tricks.py?line=535'>536</a>\u001b[0m args \u001b[39m=\u001b[39m [np\u001b[39m.\u001b[39marray(_m, copy\u001b[39m=\u001b[39m\u001b[39mFalse\u001b[39;00m, subok\u001b[39m=\u001b[39msubok) \u001b[39mfor\u001b[39;00m _m \u001b[39min\u001b[39;00m args]\n\u001b[0;32m--> <a href='file:///Users/mnktech/.local/share/virtualenvs/masters-thesis-dSEc-4wZ/lib/python3.9/site-packages/numpy/lib/stride_tricks.py?line=537'>538</a>\u001b[0m shape \u001b[39m=\u001b[39m _broadcast_shape(\u001b[39m*\u001b[39;49margs)\n\u001b[1;32m    <a href='file:///Users/mnktech/.local/share/virtualenvs/masters-thesis-dSEc-4wZ/lib/python3.9/site-packages/numpy/lib/stride_tricks.py?line=539'>540</a>\u001b[0m \u001b[39mif\u001b[39;00m \u001b[39mall\u001b[39m(array\u001b[39m.\u001b[39mshape \u001b[39m==\u001b[39m shape \u001b[39mfor\u001b[39;00m array \u001b[39min\u001b[39;00m args):\n\u001b[1;32m    <a href='file:///Users/mnktech/.local/share/virtualenvs/masters-thesis-dSEc-4wZ/lib/python3.9/site-packages/numpy/lib/stride_tricks.py?line=540'>541</a>\u001b[0m     \u001b[39m# Common case where nothing needs to be broadcasted.\u001b[39;00m\n\u001b[1;32m    <a href='file:///Users/mnktech/.local/share/virtualenvs/masters-thesis-dSEc-4wZ/lib/python3.9/site-packages/numpy/lib/stride_tricks.py?line=541'>542</a>\u001b[0m     \u001b[39mreturn\u001b[39;00m args\n",
      "File \u001b[0;32m~/.local/share/virtualenvs/masters-thesis-dSEc-4wZ/lib/python3.9/site-packages/numpy/lib/stride_tricks.py:420\u001b[0m, in \u001b[0;36m_broadcast_shape\u001b[0;34m(*args)\u001b[0m\n\u001b[1;32m    <a href='file:///Users/mnktech/.local/share/virtualenvs/masters-thesis-dSEc-4wZ/lib/python3.9/site-packages/numpy/lib/stride_tricks.py?line=414'>415</a>\u001b[0m \u001b[39m\"\"\"Returns the shape of the arrays that would result from broadcasting the\u001b[39;00m\n\u001b[1;32m    <a href='file:///Users/mnktech/.local/share/virtualenvs/masters-thesis-dSEc-4wZ/lib/python3.9/site-packages/numpy/lib/stride_tricks.py?line=415'>416</a>\u001b[0m \u001b[39msupplied arrays against each other.\u001b[39;00m\n\u001b[1;32m    <a href='file:///Users/mnktech/.local/share/virtualenvs/masters-thesis-dSEc-4wZ/lib/python3.9/site-packages/numpy/lib/stride_tricks.py?line=416'>417</a>\u001b[0m \u001b[39m\"\"\"\u001b[39;00m\n\u001b[1;32m    <a href='file:///Users/mnktech/.local/share/virtualenvs/masters-thesis-dSEc-4wZ/lib/python3.9/site-packages/numpy/lib/stride_tricks.py?line=417'>418</a>\u001b[0m \u001b[39m# use the old-iterator because np.nditer does not handle size 0 arrays\u001b[39;00m\n\u001b[1;32m    <a href='file:///Users/mnktech/.local/share/virtualenvs/masters-thesis-dSEc-4wZ/lib/python3.9/site-packages/numpy/lib/stride_tricks.py?line=418'>419</a>\u001b[0m \u001b[39m# consistently\u001b[39;00m\n\u001b[0;32m--> <a href='file:///Users/mnktech/.local/share/virtualenvs/masters-thesis-dSEc-4wZ/lib/python3.9/site-packages/numpy/lib/stride_tricks.py?line=419'>420</a>\u001b[0m b \u001b[39m=\u001b[39m np\u001b[39m.\u001b[39;49mbroadcast(\u001b[39m*\u001b[39;49margs[:\u001b[39m32\u001b[39;49m])\n\u001b[1;32m    <a href='file:///Users/mnktech/.local/share/virtualenvs/masters-thesis-dSEc-4wZ/lib/python3.9/site-packages/numpy/lib/stride_tricks.py?line=420'>421</a>\u001b[0m \u001b[39m# unfortunately, it cannot handle 32 or more arguments directly\u001b[39;00m\n\u001b[1;32m    <a href='file:///Users/mnktech/.local/share/virtualenvs/masters-thesis-dSEc-4wZ/lib/python3.9/site-packages/numpy/lib/stride_tricks.py?line=421'>422</a>\u001b[0m \u001b[39mfor\u001b[39;00m pos \u001b[39min\u001b[39;00m \u001b[39mrange\u001b[39m(\u001b[39m32\u001b[39m, \u001b[39mlen\u001b[39m(args), \u001b[39m31\u001b[39m):\n\u001b[1;32m    <a href='file:///Users/mnktech/.local/share/virtualenvs/masters-thesis-dSEc-4wZ/lib/python3.9/site-packages/numpy/lib/stride_tricks.py?line=422'>423</a>\u001b[0m     \u001b[39m# ironically, np.broadcast does not properly handle np.broadcast\u001b[39;00m\n\u001b[1;32m    <a href='file:///Users/mnktech/.local/share/virtualenvs/masters-thesis-dSEc-4wZ/lib/python3.9/site-packages/numpy/lib/stride_tricks.py?line=423'>424</a>\u001b[0m     \u001b[39m# objects (it treats them as scalars)\u001b[39;00m\n\u001b[1;32m    <a href='file:///Users/mnktech/.local/share/virtualenvs/masters-thesis-dSEc-4wZ/lib/python3.9/site-packages/numpy/lib/stride_tricks.py?line=424'>425</a>\u001b[0m     \u001b[39m# use broadcasting to avoid allocating the full array\u001b[39;00m\n",
      "\u001b[0;31mValueError\u001b[0m: shape mismatch: objects cannot be broadcast to a single shape"
     ]
    },
    {
     "data": {
      "image/png": "[encoded data removed]",
      "text/plain": [
       "<Figure size 576x576 with 1 Axes>"
      ]
     },
     "metadata": {
      "needs_background": "light"
     },
     "output_type": "display_data"
    }
   ],
   "source": [
    "show_results(4, 6)\n",
    "show_results(6, 8)"
   ]
  },
  {
   "cell_type": "markdown",
   "metadata": {},
   "source": [
    "### Late fusion - Pain area prediction"
   ]
  },
  {
   "cell_type": "code",
   "execution_count": null,
   "metadata": {},
   "outputs": [],
   "source": []
  },
  {
   "cell_type": "markdown",
   "metadata": {},
   "source": [
    "### Late fusion - Pain level prediction"
   ]
  },
  {
   "cell_type": "code",
   "execution_count": null,
   "metadata": {},
   "outputs": [],
   "source": []
  },
  {
   "cell_type": "markdown",
   "metadata": {},
   "source": [
    "### Ensemble approaches - Pain area prediction"
   ]
  },
  {
   "cell_type": "code",
   "execution_count": null,
   "metadata": {},
   "outputs": [],
   "source": []
  },
  {
   "cell_type": "markdown",
   "metadata": {},
   "source": [
    "### Ensemble approaches - Pain level prediction"
   ]
  },
  {
   "cell_type": "code",
   "execution_count": null,
   "metadata": {},
   "outputs": [],
   "source": []
  }
 ],
 "metadata": {
  "interpreter": {
   "hash": "225abd0b4b41c85229fb7285a24282bb8b7c5c494a1c5011beaea88d2c1fa3cf"
  },
  "kernelspec": {
   "display_name": "Python 3.9.10 ('masters-thesis-dSEc-4wZ')",
   "language": "python",
   "name": "python3"
  },
  "language_info": {
   "codemirror_mode": {
    "name": "ipython",
    "version": 3
   },
   "file_extension": ".py",
   "mimetype": "text/x-python",
   "name": "python",
   "nbconvert_exporter": "python",
   "pygments_lexer": "ipython3",
   "version": "3.9.10"
  },
  "orig_nbformat": 4
 },
 "nbformat": 4,
 "nbformat_minor": 2
}
