{
 "cells": [
  {
   "cell_type": "markdown",
   "metadata": {},
   "source": [
    "# Baseline Results for Multi-modal Approaches"
   ]
  },
  {
   "cell_type": "code",
   "execution_count": 18,
   "metadata": {},
   "outputs": [],
   "source": [
    "import os\n",
    "os.environ['TF_CPP_MIN_LOG_LEVEL'] = '3'\n",
    "import warnings\n",
    "warnings.filterwarnings(\"ignore\")\n",
    "\n",
    "import numpy as np\n",
    "import pandas as pd\n",
    "import matplotlib.pyplot as plt\n",
    "import tensorflow as tf \n",
    "\n",
    "from pathlib import Path\n",
    "from sklearn.preprocessing import LabelBinarizer\n",
    "from sklearn.model_selection import KFold\n",
    "from tensorflow.keras import optimizers\n",
    "from tensorflow.keras.layers import LSTM, Dense, Flatten, TimeDistributed, Conv1D,  MaxPooling1D, ConvLSTM1D\n",
    "from tensorflow.keras import models"
   ]
  },
  {
   "cell_type": "code",
   "execution_count": 19,
   "metadata": {},
   "outputs": [],
   "source": [
    "accuracies = []\n",
    "aucs = []\n",
    "model_names = ['M1.1 CNN+LSTM', 'M1.1 ConvLSTM', 'M1.2 CNN+LSTM', 'M1.2 ConvLSTM']"
   ]
  },
  {
   "cell_type": "code",
   "execution_count": 20,
   "metadata": {},
   "outputs": [],
   "source": [
    "def load_file(file, prediction_type):\n",
    "    df = pd.read_csv(file, header=0)\n",
    "    labels = df[prediction_type]\n",
    "    df = df.drop(columns=['pain_area', 'pain_level'])\n",
    "    df.drop(df.columns[-1], axis=1, inplace=True)\n",
    "    return df.to_numpy(), labels\n",
    "\n",
    "def load_dataset(input_filepath, prediction_type, modality):\n",
    "    root_dir = Path(os.path.abspath('')).parent\n",
    "    data_dir = root_dir / 'data'\n",
    "    train_filepath = data_dir / input_filepath / 'train' / modality\n",
    "    test_filepath = data_dir / input_filepath / 'test' / modality\n",
    "    # 1. Load train data\n",
    "    X = list()\n",
    "    y = list()\n",
    "    for file in train_filepath.iterdir():\n",
    "        if file.is_file() and file.name.endswith('.csv'):\n",
    "            x, labels = load_file(file, prediction_type)\n",
    "            X.append(x)\n",
    "            y.append(labels[0])\n",
    "    n_length = X[0].shape[0]\n",
    "    n_features = X[0].shape[1]\n",
    "    X = np.array(X)\n",
    "    X_train = X.reshape((len(X), 1, n_length, n_features))\n",
    "    lb = LabelBinarizer()\n",
    "    y_train = lb.fit_transform(y)\n",
    "    # 2. Load test data\n",
    "    X = list()\n",
    "    y = list()\n",
    "    for file in test_filepath.iterdir():\n",
    "        if file.is_file() and file.name.endswith('.csv'):\n",
    "            x, labels = load_file(file, prediction_type)\n",
    "            X.append(x)\n",
    "            y.append(labels[0])\n",
    "    n_length = X[0].shape[0]\n",
    "    n_features = X[0].shape[1]\n",
    "    X = np.array(X)\n",
    "    X_test = X.reshape((len(X), 1, n_length, n_features))\n",
    "    y_test = lb.transform(y)\n",
    "    return X_train, X_test, y_train, y_test"
   ]
  },
  {
   "cell_type": "markdown",
   "metadata": {},
   "source": [
    "## 1. Early Fusion - Fusion is performed at feature level\n",
    "\n",
    "Early fusion concatenates features at the input level, then all the work is on the classifier. \n",
    "\n",
    "My initial assumption is that perhaps early fusion is not a good idea because face modality is missing about half the times?"
   ]
  },
  {
   "cell_type": "markdown",
   "metadata": {},
   "source": [
    "### 1.1 Pain area prediction"
   ]
  },
  {
   "cell_type": "markdown",
   "metadata": {},
   "source": [
    "#### Concatenate datasets (fusion stage)"
   ]
  },
  {
   "cell_type": "code",
   "execution_count": 21,
   "metadata": {},
   "outputs": [],
   "source": [
    "def apply_early_fusion(input_filepath, prediction_type):\n",
    "    root_dir = Path(os.path.abspath('')).parent\n",
    "    data_dir = root_dir / 'data'\n",
    "    body_train_filepath = data_dir / input_filepath / 'train' / 'skeleton'\n",
    "    body_test_filepath = data_dir / input_filepath / 'test' / 'skeleton'\n",
    "    face_train_filepath = data_dir / input_filepath / 'train' / 'AUs'\n",
    "    face_test_filepath = data_dir / input_filepath / 'test' / 'AUs'\n",
    "    # 1. Load train data\n",
    "    X = list()\n",
    "    y = list()\n",
    "    for file in body_train_filepath.iterdir():\n",
    "        if file.is_file() and file.name.endswith('.csv'):\n",
    "            body_x, body_labels = load_file(file, prediction_type)\n",
    "            has_equivalent_face_file = False\n",
    "            for second_file in face_train_filepath.iterdir():\n",
    "                if second_file.is_file() and second_file.name.endswith('.csv') and second_file.name == file.name:\n",
    "                    # Concatenate features\n",
    "                    face_x, face_labels = load_file(second_file, prediction_type)\n",
    "                    full_X = np.concatenate((body_x, face_x), axis=1)\n",
    "                    X.append(full_X)\n",
    "                    y.append(body_labels[0])\n",
    "                    has_equivalent_face_file = True\n",
    "                    break\n",
    "            if not has_equivalent_face_file:\n",
    "                # Add null values to the face features\n",
    "                full_X = np.concatenate((body_x, np.zeros((body_x.shape[0], 10))), axis=1)\n",
    "                X.append(full_X)\n",
    "                y.append(body_labels[0])\n",
    "    n_length = X[0].shape[0]\n",
    "    n_features = X[0].shape[1]\n",
    "    X = np.array(X)\n",
    "    X_train = X.reshape((len(X), 1, n_length, n_features))\n",
    "    lb = LabelBinarizer()\n",
    "    y_train = lb.fit_transform(y)\n",
    "    # 2. Load test data\n",
    "    X = list()\n",
    "    y = list()\n",
    "    for file in body_test_filepath.iterdir():\n",
    "        if file.is_file() and file.name.endswith('.csv'):\n",
    "            body_x, body_labels = load_file(file, prediction_type)\n",
    "            has_equivalent_face_file = False\n",
    "            for second_file in face_test_filepath.iterdir():\n",
    "                if second_file.is_file() and second_file.name.endswith('.csv') and second_file.name == file.name:\n",
    "                    # Concatenate features\n",
    "                    face_x, face_labels = load_file(second_file, prediction_type)\n",
    "                    full_X = np.concatenate((body_x, face_x), axis=1)\n",
    "                    X.append(full_X)\n",
    "                    y.append(body_labels[0])\n",
    "                    has_equivalent_face_file = True\n",
    "                    break\n",
    "            if not has_equivalent_face_file:\n",
    "                # Add null values to the face features\n",
    "                full_X = np.concatenate((body_x, np.zeros((body_x.shape[0], 10))), axis=1)\n",
    "                X.append(full_X)\n",
    "                y.append(body_labels[0])\n",
    "    n_length = X[0].shape[0]\n",
    "    n_features = X[0].shape[1]\n",
    "    X = np.array(X)\n",
    "    X_test = X.reshape((len(X), 1, n_length, n_features))\n",
    "    y_test = lb.transform(y)\n",
    "    return X_train, X_test, y_train, y_test"
   ]
  },
  {
   "cell_type": "code",
   "execution_count": 22,
   "metadata": {},
   "outputs": [
    {
     "name": "stdout",
     "output_type": "stream",
     "text": [
      "(534, 1, 350, 48) (534, 5)\n",
      "(81, 1, 350, 48) (81, 5)\n"
     ]
    }
   ],
   "source": [
    "X_train, X_test, y_train, y_test = apply_early_fusion('processed', 'pain_area')\n",
    "\n",
    "print(X_train.shape, y_train.shape)\n",
    "print(X_test.shape, y_test.shape)"
   ]
  },
  {
   "cell_type": "markdown",
   "metadata": {},
   "source": [
    "#### Train CNN+LSTM Model (from uni-modal architectures)"
   ]
  },
  {
   "cell_type": "code",
   "execution_count": 23,
   "metadata": {},
   "outputs": [],
   "source": [
    "epochs, batch_size = 50, 68\n",
    "n_length, n_features, n_outputs = X_train.shape[2], X_train.shape[-1], y_train.shape[1]"
   ]
  },
  {
   "cell_type": "code",
   "execution_count": 24,
   "metadata": {},
   "outputs": [],
   "source": [
    "def get_CNN_model(n_features, n_length, n_outputs):\n",
    "    model = models.Sequential()\n",
    "    model.add(TimeDistributed(Conv1D(filters=64, kernel_size=3,\n",
    "        activation='relu'), input_shape=(None, n_length, n_features)))\n",
    "    model.add(TimeDistributed(MaxPooling1D(pool_size=2, data_format='channels_first')))\n",
    "    model.add(TimeDistributed(Flatten()))\n",
    "    model.add(LSTM(100))\n",
    "    model.add(Dense(100, activation='relu'))\n",
    "    model.add(Dense(n_outputs, activation='softmax'))\n",
    "    lr_schedule = optimizers.schedules.ExponentialDecay(\n",
    "        initial_learning_rate=0.001,\n",
    "        decay_steps=50,\n",
    "        decay_rate=0.1)\n",
    "    optimizer = optimizers.Adam(learning_rate=lr_schedule)\n",
    "    model.compile(loss='categorical_crossentropy',\n",
    "        optimizer=optimizer, metrics=['accuracy', tf.keras.metrics.AUC()])\n",
    "    return model\n",
    "\n",
    "def train(model, X_train, y_train, X_val, y_val, epochs, batch_size):\n",
    "    early_stopping = tf.keras.callbacks.EarlyStopping(\n",
    "        monitor='val_loss', patience=2)\n",
    "    history = model.fit(X_train, y_train, validation_data=(X_val, y_val), epochs=epochs, callbacks=[early_stopping],\n",
    "        batch_size=batch_size, verbose=2)\n",
    "    return history"
   ]
  },
  {
   "cell_type": "code",
   "execution_count": 25,
   "metadata": {},
   "outputs": [
    {
     "name": "stdout",
     "output_type": "stream",
     "text": [
      "Model: \"sequential_10\"\n",
      "_________________________________________________________________\n",
      " Layer (type)                Output Shape              Param #   \n",
      "=================================================================\n",
      " time_distributed_12 (TimeDi  (None, None, 348, 64)    9280      \n",
      " stributed)                                                      \n",
      "                                                                 \n",
      " time_distributed_13 (TimeDi  (None, None, 348, 32)    0         \n",
      " stributed)                                                      \n",
      "                                                                 \n",
      " time_distributed_14 (TimeDi  (None, None, 11136)      0         \n",
      " stributed)                                                      \n",
      "                                                                 \n",
      " lstm_4 (LSTM)               (None, 100)               4494800   \n",
      "                                                                 \n",
      " dense_16 (Dense)            (None, 100)               10100     \n",
      "                                                                 \n",
      " dense_17 (Dense)            (None, 5)                 505       \n",
      "                                                                 \n",
      "=================================================================\n",
      "Total params: 4,514,685\n",
      "Trainable params: 4,514,685\n",
      "Non-trainable params: 0\n",
      "_________________________________________________________________\n"
     ]
    }
   ],
   "source": [
    "early_fusion_model = get_CNN_model(n_features, n_length, n_outputs)\n",
    "early_fusion_model.summary()"
   ]
  },
  {
   "cell_type": "code",
   "execution_count": 26,
   "metadata": {},
   "outputs": [
    {
     "name": "stdout",
     "output_type": "stream",
     "text": [
      "Epoch 1/50\n",
      "6/6 - 2s - loss: 1.5301 - accuracy: 0.3258 - auc_9: 0.6243 - val_loss: 1.3997 - val_accuracy: 0.5337 - val_auc_9: 0.7037 - 2s/epoch - 367ms/step\n",
      "Epoch 2/50\n",
      "6/6 - 0s - loss: 1.3064 - accuracy: 0.5702 - auc_9: 0.7605 - val_loss: 1.2954 - val_accuracy: 0.5337 - val_auc_9: 0.8062 - 385ms/epoch - 64ms/step\n",
      "Epoch 3/50\n",
      "6/6 - 0s - loss: 1.2431 - accuracy: 0.5702 - auc_9: 0.8053 - val_loss: 1.2581 - val_accuracy: 0.5337 - val_auc_9: 0.7992 - 346ms/epoch - 58ms/step\n",
      "Epoch 4/50\n",
      "6/6 - 0s - loss: 1.2131 - accuracy: 0.5702 - auc_9: 0.8056 - val_loss: 1.2355 - val_accuracy: 0.5337 - val_auc_9: 0.7992 - 347ms/epoch - 58ms/step\n",
      "Epoch 5/50\n",
      "6/6 - 0s - loss: 1.1977 - accuracy: 0.5702 - auc_9: 0.8057 - val_loss: 1.2251 - val_accuracy: 0.5337 - val_auc_9: 0.7992 - 343ms/epoch - 57ms/step\n",
      "Epoch 6/50\n",
      "6/6 - 0s - loss: 1.1915 - accuracy: 0.5702 - auc_9: 0.8045 - val_loss: 1.2193 - val_accuracy: 0.5337 - val_auc_9: 0.7992 - 344ms/epoch - 57ms/step\n",
      "Epoch 7/50\n",
      "6/6 - 0s - loss: 1.1881 - accuracy: 0.5702 - auc_9: 0.8049 - val_loss: 1.2166 - val_accuracy: 0.5337 - val_auc_9: 0.7992 - 348ms/epoch - 58ms/step\n",
      "Epoch 8/50\n",
      "6/6 - 0s - loss: 1.1860 - accuracy: 0.5702 - auc_9: 0.8061 - val_loss: 1.2136 - val_accuracy: 0.5337 - val_auc_9: 0.7992 - 343ms/epoch - 57ms/step\n",
      "Epoch 9/50\n",
      "6/6 - 0s - loss: 1.1845 - accuracy: 0.5702 - auc_9: 0.8081 - val_loss: 1.2119 - val_accuracy: 0.5337 - val_auc_9: 0.7992 - 342ms/epoch - 57ms/step\n",
      "Epoch 10/50\n",
      "6/6 - 0s - loss: 1.1837 - accuracy: 0.5702 - auc_9: 0.8073 - val_loss: 1.2098 - val_accuracy: 0.5337 - val_auc_9: 0.7992 - 344ms/epoch - 57ms/step\n",
      "Epoch 11/50\n",
      "6/6 - 0s - loss: 1.1829 - accuracy: 0.5702 - auc_9: 0.8076 - val_loss: 1.2086 - val_accuracy: 0.5337 - val_auc_9: 0.7992 - 342ms/epoch - 57ms/step\n",
      "Epoch 12/50\n",
      "6/6 - 0s - loss: 1.1825 - accuracy: 0.5702 - auc_9: 0.8070 - val_loss: 1.2075 - val_accuracy: 0.5337 - val_auc_9: 0.7992 - 344ms/epoch - 57ms/step\n",
      "Epoch 13/50\n",
      "6/6 - 0s - loss: 1.1820 - accuracy: 0.5702 - auc_9: 0.8074 - val_loss: 1.2068 - val_accuracy: 0.5337 - val_auc_9: 0.7992 - 345ms/epoch - 58ms/step\n",
      "Epoch 14/50\n",
      "6/6 - 0s - loss: 1.1817 - accuracy: 0.5702 - auc_9: 0.8076 - val_loss: 1.2063 - val_accuracy: 0.5337 - val_auc_9: 0.7992 - 341ms/epoch - 57ms/step\n",
      "Epoch 15/50\n",
      "6/6 - 0s - loss: 1.1816 - accuracy: 0.5702 - auc_9: 0.8076 - val_loss: 1.2059 - val_accuracy: 0.5337 - val_auc_9: 0.7992 - 349ms/epoch - 58ms/step\n",
      "Epoch 16/50\n",
      "6/6 - 0s - loss: 1.1814 - accuracy: 0.5702 - auc_9: 0.8091 - val_loss: 1.2056 - val_accuracy: 0.5337 - val_auc_9: 0.7992 - 343ms/epoch - 57ms/step\n",
      "Epoch 17/50\n",
      "6/6 - 0s - loss: 1.1813 - accuracy: 0.5702 - auc_9: 0.8076 - val_loss: 1.2054 - val_accuracy: 0.5337 - val_auc_9: 0.7992 - 347ms/epoch - 58ms/step\n",
      "Epoch 18/50\n",
      "6/6 - 0s - loss: 1.1812 - accuracy: 0.5702 - auc_9: 0.8076 - val_loss: 1.2053 - val_accuracy: 0.5337 - val_auc_9: 0.7992 - 349ms/epoch - 58ms/step\n",
      "Epoch 19/50\n",
      "6/6 - 0s - loss: 1.1812 - accuracy: 0.5702 - auc_9: 0.8076 - val_loss: 1.2051 - val_accuracy: 0.5337 - val_auc_9: 0.7992 - 347ms/epoch - 58ms/step\n",
      "Epoch 20/50\n",
      "6/6 - 0s - loss: 1.1811 - accuracy: 0.5702 - auc_9: 0.8076 - val_loss: 1.2051 - val_accuracy: 0.5337 - val_auc_9: 0.7992 - 344ms/epoch - 57ms/step\n",
      "Epoch 21/50\n",
      "6/6 - 0s - loss: 1.1811 - accuracy: 0.5702 - auc_9: 0.8076 - val_loss: 1.2050 - val_accuracy: 0.5337 - val_auc_9: 0.7992 - 340ms/epoch - 57ms/step\n",
      "Epoch 22/50\n",
      "6/6 - 0s - loss: 1.1811 - accuracy: 0.5702 - auc_9: 0.8076 - val_loss: 1.2050 - val_accuracy: 0.5337 - val_auc_9: 0.7992 - 343ms/epoch - 57ms/step\n",
      "Epoch 23/50\n",
      "6/6 - 0s - loss: 1.1810 - accuracy: 0.5702 - auc_9: 0.8076 - val_loss: 1.2049 - val_accuracy: 0.5337 - val_auc_9: 0.7992 - 342ms/epoch - 57ms/step\n",
      "Epoch 24/50\n",
      "6/6 - 0s - loss: 1.1810 - accuracy: 0.5702 - auc_9: 0.8076 - val_loss: 1.2049 - val_accuracy: 0.5337 - val_auc_9: 0.7992 - 343ms/epoch - 57ms/step\n",
      "Epoch 25/50\n",
      "6/6 - 0s - loss: 1.1810 - accuracy: 0.5702 - auc_9: 0.8076 - val_loss: 1.2049 - val_accuracy: 0.5337 - val_auc_9: 0.7992 - 342ms/epoch - 57ms/step\n",
      "Epoch 26/50\n",
      "6/6 - 0s - loss: 1.1810 - accuracy: 0.5702 - auc_9: 0.8076 - val_loss: 1.2049 - val_accuracy: 0.5337 - val_auc_9: 0.7992 - 342ms/epoch - 57ms/step\n",
      "Epoch 27/50\n",
      "6/6 - 0s - loss: 1.1810 - accuracy: 0.5702 - auc_9: 0.8076 - val_loss: 1.2049 - val_accuracy: 0.5337 - val_auc_9: 0.7992 - 339ms/epoch - 57ms/step\n",
      "Epoch 28/50\n",
      "6/6 - 0s - loss: 1.1810 - accuracy: 0.5702 - auc_9: 0.8076 - val_loss: 1.2049 - val_accuracy: 0.5337 - val_auc_9: 0.7992 - 339ms/epoch - 57ms/step\n",
      "Epoch 29/50\n",
      "6/6 - 0s - loss: 1.1810 - accuracy: 0.5702 - auc_9: 0.8076 - val_loss: 1.2049 - val_accuracy: 0.5337 - val_auc_9: 0.7992 - 344ms/epoch - 57ms/step\n",
      "Epoch 30/50\n",
      "6/6 - 0s - loss: 1.1810 - accuracy: 0.5702 - auc_9: 0.8076 - val_loss: 1.2049 - val_accuracy: 0.5337 - val_auc_9: 0.7992 - 341ms/epoch - 57ms/step\n",
      "Epoch 31/50\n",
      "6/6 - 0s - loss: 1.1810 - accuracy: 0.5702 - auc_9: 0.8076 - val_loss: 1.2049 - val_accuracy: 0.5337 - val_auc_9: 0.7992 - 340ms/epoch - 57ms/step\n",
      "Epoch 32/50\n",
      "6/6 - 0s - loss: 1.1810 - accuracy: 0.5702 - auc_9: 0.8076 - val_loss: 1.2048 - val_accuracy: 0.5337 - val_auc_9: 0.7992 - 340ms/epoch - 57ms/step\n",
      "Epoch 33/50\n",
      "6/6 - 0s - loss: 1.1810 - accuracy: 0.5702 - auc_9: 0.8076 - val_loss: 1.2048 - val_accuracy: 0.5337 - val_auc_9: 0.7992 - 343ms/epoch - 57ms/step\n",
      "Epoch 34/50\n",
      "6/6 - 0s - loss: 1.1810 - accuracy: 0.5702 - auc_9: 0.8076 - val_loss: 1.2048 - val_accuracy: 0.5337 - val_auc_9: 0.7992 - 347ms/epoch - 58ms/step\n",
      "Epoch 35/50\n",
      "6/6 - 0s - loss: 1.1810 - accuracy: 0.5702 - auc_9: 0.8076 - val_loss: 1.2048 - val_accuracy: 0.5337 - val_auc_9: 0.7992 - 341ms/epoch - 57ms/step\n",
      "Epoch 36/50\n",
      "6/6 - 0s - loss: 1.1810 - accuracy: 0.5702 - auc_9: 0.8076 - val_loss: 1.2048 - val_accuracy: 0.5337 - val_auc_9: 0.7992 - 345ms/epoch - 58ms/step\n",
      "Epoch 37/50\n",
      "6/6 - 0s - loss: 1.1810 - accuracy: 0.5702 - auc_9: 0.8076 - val_loss: 1.2048 - val_accuracy: 0.5337 - val_auc_9: 0.7992 - 344ms/epoch - 57ms/step\n",
      "Epoch 38/50\n",
      "6/6 - 0s - loss: 1.1810 - accuracy: 0.5702 - auc_9: 0.8076 - val_loss: 1.2048 - val_accuracy: 0.5337 - val_auc_9: 0.7992 - 342ms/epoch - 57ms/step\n",
      "Epoch 39/50\n",
      "6/6 - 0s - loss: 1.1810 - accuracy: 0.5702 - auc_9: 0.8076 - val_loss: 1.2048 - val_accuracy: 0.5337 - val_auc_9: 0.7992 - 351ms/epoch - 59ms/step\n",
      "Epoch 40/50\n",
      "6/6 - 0s - loss: 1.1810 - accuracy: 0.5702 - auc_9: 0.8076 - val_loss: 1.2048 - val_accuracy: 0.5337 - val_auc_9: 0.7992 - 343ms/epoch - 57ms/step\n",
      "Epoch 41/50\n",
      "6/6 - 0s - loss: 1.1810 - accuracy: 0.5702 - auc_9: 0.8076 - val_loss: 1.2048 - val_accuracy: 0.5337 - val_auc_9: 0.7992 - 338ms/epoch - 56ms/step\n",
      "Epoch 42/50\n",
      "6/6 - 0s - loss: 1.1810 - accuracy: 0.5702 - auc_9: 0.8076 - val_loss: 1.2048 - val_accuracy: 0.5337 - val_auc_9: 0.7992 - 341ms/epoch - 57ms/step\n",
      "Epoch 43/50\n",
      "6/6 - 0s - loss: 1.1810 - accuracy: 0.5702 - auc_9: 0.8076 - val_loss: 1.2048 - val_accuracy: 0.5337 - val_auc_9: 0.7992 - 349ms/epoch - 58ms/step\n",
      "Epoch 44/50\n",
      "6/6 - 0s - loss: 1.1810 - accuracy: 0.5702 - auc_9: 0.8076 - val_loss: 1.2048 - val_accuracy: 0.5337 - val_auc_9: 0.7992 - 342ms/epoch - 57ms/step\n",
      "Epoch 45/50\n",
      "6/6 - 0s - loss: 1.1810 - accuracy: 0.5702 - auc_9: 0.8076 - val_loss: 1.2048 - val_accuracy: 0.5337 - val_auc_9: 0.7992 - 341ms/epoch - 57ms/step\n",
      "Epoch 46/50\n",
      "6/6 - 0s - loss: 1.1810 - accuracy: 0.5702 - auc_9: 0.8076 - val_loss: 1.2048 - val_accuracy: 0.5337 - val_auc_9: 0.7992 - 344ms/epoch - 57ms/step\n",
      "Epoch 47/50\n",
      "6/6 - 0s - loss: 1.1810 - accuracy: 0.5702 - auc_9: 0.8076 - val_loss: 1.2048 - val_accuracy: 0.5337 - val_auc_9: 0.7992 - 341ms/epoch - 57ms/step\n"
     ]
    },
    {
     "data": {
      "image/png": "[encoded data removed]",
      "text/plain": [
       "<Figure size 432x288 with 1 Axes>"
      ]
     },
     "metadata": {
      "needs_background": "light"
     },
     "output_type": "display_data"
    },
    {
     "name": "stdout",
     "output_type": "stream",
     "text": [
      "Epoch 1/50\n",
      "6/6 - 2s - loss: 1.4505 - accuracy: 0.4860 - auc_10: 0.6803 - val_loss: 1.2610 - val_accuracy: 0.5787 - val_auc_10: 0.8034 - 2s/epoch - 380ms/step\n",
      "Epoch 2/50\n",
      "6/6 - 0s - loss: 1.2787 - accuracy: 0.5478 - auc_10: 0.7958 - val_loss: 1.2352 - val_accuracy: 0.5787 - val_auc_10: 0.8090 - 343ms/epoch - 57ms/step\n",
      "Epoch 3/50\n",
      "6/6 - 0s - loss: 1.2495 - accuracy: 0.5478 - auc_10: 0.8007 - val_loss: 1.2032 - val_accuracy: 0.5787 - val_auc_10: 0.8090 - 340ms/epoch - 57ms/step\n",
      "Epoch 4/50\n",
      "6/6 - 0s - loss: 1.2279 - accuracy: 0.5478 - auc_10: 0.7979 - val_loss: 1.1882 - val_accuracy: 0.5787 - val_auc_10: 0.8090 - 344ms/epoch - 57ms/step\n",
      "Epoch 5/50\n",
      "6/6 - 0s - loss: 1.2166 - accuracy: 0.5478 - auc_10: 0.8018 - val_loss: 1.1819 - val_accuracy: 0.5787 - val_auc_10: 0.8090 - 339ms/epoch - 57ms/step\n",
      "Epoch 6/50\n",
      "6/6 - 0s - loss: 1.2111 - accuracy: 0.5478 - auc_10: 0.8002 - val_loss: 1.1783 - val_accuracy: 0.5787 - val_auc_10: 0.8090 - 341ms/epoch - 57ms/step\n",
      "Epoch 7/50\n",
      "6/6 - 0s - loss: 1.2077 - accuracy: 0.5478 - auc_10: 0.8013 - val_loss: 1.1766 - val_accuracy: 0.5787 - val_auc_10: 0.8090 - 342ms/epoch - 57ms/step\n",
      "Epoch 8/50\n",
      "6/6 - 0s - loss: 1.2052 - accuracy: 0.5478 - auc_10: 0.8012 - val_loss: 1.1753 - val_accuracy: 0.5787 - val_auc_10: 0.8090 - 346ms/epoch - 58ms/step\n",
      "Epoch 9/50\n",
      "6/6 - 0s - loss: 1.2035 - accuracy: 0.5478 - auc_10: 0.8013 - val_loss: 1.1742 - val_accuracy: 0.5787 - val_auc_10: 0.8090 - 345ms/epoch - 57ms/step\n",
      "Epoch 10/50\n",
      "6/6 - 0s - loss: 1.2023 - accuracy: 0.5478 - auc_10: 0.8028 - val_loss: 1.1735 - val_accuracy: 0.5787 - val_auc_10: 0.8090 - 342ms/epoch - 57ms/step\n",
      "Epoch 11/50\n",
      "6/6 - 0s - loss: 1.2015 - accuracy: 0.5478 - auc_10: 0.8013 - val_loss: 1.1728 - val_accuracy: 0.5787 - val_auc_10: 0.8090 - 342ms/epoch - 57ms/step\n",
      "Epoch 12/50\n",
      "6/6 - 0s - loss: 1.2008 - accuracy: 0.5478 - auc_10: 0.8013 - val_loss: 1.1724 - val_accuracy: 0.5787 - val_auc_10: 0.8090 - 345ms/epoch - 57ms/step\n",
      "Epoch 13/50\n",
      "6/6 - 0s - loss: 1.2004 - accuracy: 0.5478 - auc_10: 0.8013 - val_loss: 1.1722 - val_accuracy: 0.5787 - val_auc_10: 0.8090 - 339ms/epoch - 57ms/step\n",
      "Epoch 14/50\n",
      "6/6 - 0s - loss: 1.2000 - accuracy: 0.5478 - auc_10: 0.8013 - val_loss: 1.1720 - val_accuracy: 0.5787 - val_auc_10: 0.8090 - 342ms/epoch - 57ms/step\n",
      "Epoch 15/50\n",
      "6/6 - 0s - loss: 1.1998 - accuracy: 0.5478 - auc_10: 0.8003 - val_loss: 1.1719 - val_accuracy: 0.5787 - val_auc_10: 0.8090 - 343ms/epoch - 57ms/step\n",
      "Epoch 16/50\n",
      "6/6 - 0s - loss: 1.1996 - accuracy: 0.5478 - auc_10: 0.7999 - val_loss: 1.1718 - val_accuracy: 0.5787 - val_auc_10: 0.8090 - 346ms/epoch - 58ms/step\n",
      "Epoch 17/50\n",
      "6/6 - 0s - loss: 1.1994 - accuracy: 0.5478 - auc_10: 0.8010 - val_loss: 1.1717 - val_accuracy: 0.5787 - val_auc_10: 0.8090 - 337ms/epoch - 56ms/step\n",
      "Epoch 18/50\n",
      "6/6 - 0s - loss: 1.1993 - accuracy: 0.5478 - auc_10: 0.8007 - val_loss: 1.1717 - val_accuracy: 0.5787 - val_auc_10: 0.8090 - 343ms/epoch - 57ms/step\n",
      "Epoch 19/50\n",
      "6/6 - 0s - loss: 1.1993 - accuracy: 0.5478 - auc_10: 0.8013 - val_loss: 1.1717 - val_accuracy: 0.5787 - val_auc_10: 0.8090 - 344ms/epoch - 57ms/step\n",
      "Epoch 20/50\n",
      "6/6 - 0s - loss: 1.1992 - accuracy: 0.5478 - auc_10: 0.8013 - val_loss: 1.1716 - val_accuracy: 0.5787 - val_auc_10: 0.8090 - 346ms/epoch - 58ms/step\n",
      "Epoch 21/50\n",
      "6/6 - 0s - loss: 1.1991 - accuracy: 0.5478 - auc_10: 0.8003 - val_loss: 1.1716 - val_accuracy: 0.5787 - val_auc_10: 0.8090 - 351ms/epoch - 59ms/step\n",
      "Epoch 22/50\n",
      "6/6 - 0s - loss: 1.1991 - accuracy: 0.5478 - auc_10: 0.7992 - val_loss: 1.1716 - val_accuracy: 0.5787 - val_auc_10: 0.8090 - 342ms/epoch - 57ms/step\n",
      "Epoch 23/50\n",
      "6/6 - 0s - loss: 1.1991 - accuracy: 0.5478 - auc_10: 0.8013 - val_loss: 1.1716 - val_accuracy: 0.5787 - val_auc_10: 0.8090 - 343ms/epoch - 57ms/step\n",
      "Epoch 24/50\n",
      "6/6 - 0s - loss: 1.1991 - accuracy: 0.5478 - auc_10: 0.8013 - val_loss: 1.1715 - val_accuracy: 0.5787 - val_auc_10: 0.8090 - 353ms/epoch - 59ms/step\n",
      "Epoch 25/50\n",
      "6/6 - 0s - loss: 1.1990 - accuracy: 0.5478 - auc_10: 0.8013 - val_loss: 1.1715 - val_accuracy: 0.5787 - val_auc_10: 0.8090 - 362ms/epoch - 60ms/step\n",
      "Epoch 26/50\n",
      "6/6 - 0s - loss: 1.1990 - accuracy: 0.5478 - auc_10: 0.8013 - val_loss: 1.1715 - val_accuracy: 0.5787 - val_auc_10: 0.8090 - 381ms/epoch - 63ms/step\n",
      "Epoch 27/50\n",
      "6/6 - 0s - loss: 1.1990 - accuracy: 0.5478 - auc_10: 0.8013 - val_loss: 1.1715 - val_accuracy: 0.5787 - val_auc_10: 0.8090 - 428ms/epoch - 71ms/step\n",
      "Epoch 28/50\n",
      "6/6 - 0s - loss: 1.1990 - accuracy: 0.5478 - auc_10: 0.8013 - val_loss: 1.1715 - val_accuracy: 0.5787 - val_auc_10: 0.8090 - 354ms/epoch - 59ms/step\n",
      "Epoch 29/50\n",
      "6/6 - 0s - loss: 1.1990 - accuracy: 0.5478 - auc_10: 0.8013 - val_loss: 1.1715 - val_accuracy: 0.5787 - val_auc_10: 0.8090 - 391ms/epoch - 65ms/step\n",
      "Epoch 30/50\n",
      "6/6 - 0s - loss: 1.1990 - accuracy: 0.5478 - auc_10: 0.8013 - val_loss: 1.1715 - val_accuracy: 0.5787 - val_auc_10: 0.8090 - 381ms/epoch - 63ms/step\n",
      "Epoch 31/50\n",
      "6/6 - 0s - loss: 1.1990 - accuracy: 0.5478 - auc_10: 0.8013 - val_loss: 1.1715 - val_accuracy: 0.5787 - val_auc_10: 0.8090 - 341ms/epoch - 57ms/step\n",
      "Epoch 32/50\n",
      "6/6 - 0s - loss: 1.1990 - accuracy: 0.5478 - auc_10: 0.8013 - val_loss: 1.1715 - val_accuracy: 0.5787 - val_auc_10: 0.8090 - 337ms/epoch - 56ms/step\n",
      "Epoch 33/50\n",
      "6/6 - 0s - loss: 1.1990 - accuracy: 0.5478 - auc_10: 0.8013 - val_loss: 1.1715 - val_accuracy: 0.5787 - val_auc_10: 0.8090 - 339ms/epoch - 56ms/step\n",
      "Epoch 34/50\n",
      "6/6 - 0s - loss: 1.1990 - accuracy: 0.5478 - auc_10: 0.8013 - val_loss: 1.1715 - val_accuracy: 0.5787 - val_auc_10: 0.8090 - 341ms/epoch - 57ms/step\n",
      "Epoch 35/50\n",
      "6/6 - 0s - loss: 1.1990 - accuracy: 0.5478 - auc_10: 0.8013 - val_loss: 1.1715 - val_accuracy: 0.5787 - val_auc_10: 0.8090 - 341ms/epoch - 57ms/step\n",
      "Epoch 36/50\n",
      "6/6 - 0s - loss: 1.1990 - accuracy: 0.5478 - auc_10: 0.8013 - val_loss: 1.1715 - val_accuracy: 0.5787 - val_auc_10: 0.8090 - 352ms/epoch - 59ms/step\n",
      "Epoch 37/50\n",
      "6/6 - 0s - loss: 1.1990 - accuracy: 0.5478 - auc_10: 0.8013 - val_loss: 1.1715 - val_accuracy: 0.5787 - val_auc_10: 0.8090 - 340ms/epoch - 57ms/step\n",
      "Epoch 38/50\n",
      "6/6 - 0s - loss: 1.1990 - accuracy: 0.5478 - auc_10: 0.8013 - val_loss: 1.1715 - val_accuracy: 0.5787 - val_auc_10: 0.8090 - 339ms/epoch - 57ms/step\n",
      "Epoch 39/50\n",
      "6/6 - 0s - loss: 1.1990 - accuracy: 0.5478 - auc_10: 0.8013 - val_loss: 1.1715 - val_accuracy: 0.5787 - val_auc_10: 0.8090 - 340ms/epoch - 57ms/step\n",
      "Epoch 40/50\n",
      "6/6 - 0s - loss: 1.1990 - accuracy: 0.5478 - auc_10: 0.8013 - val_loss: 1.1715 - val_accuracy: 0.5787 - val_auc_10: 0.8090 - 339ms/epoch - 56ms/step\n",
      "Epoch 41/50\n",
      "6/6 - 0s - loss: 1.1990 - accuracy: 0.5478 - auc_10: 0.8013 - val_loss: 1.1715 - val_accuracy: 0.5787 - val_auc_10: 0.8090 - 345ms/epoch - 57ms/step\n",
      "Epoch 42/50\n",
      "6/6 - 0s - loss: 1.1990 - accuracy: 0.5478 - auc_10: 0.8013 - val_loss: 1.1715 - val_accuracy: 0.5787 - val_auc_10: 0.8090 - 343ms/epoch - 57ms/step\n",
      "Epoch 43/50\n",
      "6/6 - 0s - loss: 1.1990 - accuracy: 0.5478 - auc_10: 0.8013 - val_loss: 1.1715 - val_accuracy: 0.5787 - val_auc_10: 0.8090 - 338ms/epoch - 56ms/step\n"
     ]
    },
    {
     "data": {
      "image/png": "[encoded data removed]",
      "text/plain": [
       "<Figure size 432x288 with 1 Axes>"
      ]
     },
     "metadata": {
      "needs_background": "light"
     },
     "output_type": "display_data"
    },
    {
     "name": "stdout",
     "output_type": "stream",
     "text": [
      "Epoch 1/50\n",
      "6/6 - 3s - loss: 1.4020 - accuracy: 0.5197 - auc_11: 0.7375 - val_loss: 1.2869 - val_accuracy: 0.5618 - val_auc_11: 0.7892 - 3s/epoch - 450ms/step\n",
      "Epoch 2/50\n",
      "6/6 - 0s - loss: 1.2591 - accuracy: 0.5562 - auc_11: 0.8045 - val_loss: 1.2350 - val_accuracy: 0.5618 - val_auc_11: 0.7963 - 322ms/epoch - 54ms/step\n",
      "Epoch 3/50\n",
      "6/6 - 0s - loss: 1.2192 - accuracy: 0.5562 - auc_11: 0.8059 - val_loss: 1.2166 - val_accuracy: 0.5618 - val_auc_11: 0.7963 - 325ms/epoch - 54ms/step\n",
      "Epoch 4/50\n",
      "6/6 - 0s - loss: 1.2024 - accuracy: 0.5562 - auc_11: 0.8077 - val_loss: 1.2086 - val_accuracy: 0.5618 - val_auc_11: 0.7962 - 324ms/epoch - 54ms/step\n",
      "Epoch 5/50\n",
      "6/6 - 0s - loss: 1.1951 - accuracy: 0.5562 - auc_11: 0.8049 - val_loss: 1.2040 - val_accuracy: 0.5618 - val_auc_11: 0.7961 - 332ms/epoch - 55ms/step\n",
      "Epoch 6/50\n",
      "6/6 - 0s - loss: 1.1896 - accuracy: 0.5562 - auc_11: 0.8070 - val_loss: 1.2021 - val_accuracy: 0.5618 - val_auc_11: 0.7962 - 328ms/epoch - 55ms/step\n",
      "Epoch 7/50\n",
      "6/6 - 0s - loss: 1.1872 - accuracy: 0.5562 - auc_11: 0.8055 - val_loss: 1.2005 - val_accuracy: 0.5618 - val_auc_11: 0.7963 - 325ms/epoch - 54ms/step\n",
      "Epoch 8/50\n",
      "6/6 - 0s - loss: 1.1850 - accuracy: 0.5562 - auc_11: 0.8076 - val_loss: 1.1997 - val_accuracy: 0.5618 - val_auc_11: 0.7954 - 332ms/epoch - 55ms/step\n",
      "Epoch 9/50\n",
      "6/6 - 0s - loss: 1.1838 - accuracy: 0.5562 - auc_11: 0.8075 - val_loss: 1.1995 - val_accuracy: 0.5618 - val_auc_11: 0.7962 - 327ms/epoch - 55ms/step\n",
      "Epoch 10/50\n",
      "6/6 - 0s - loss: 1.1829 - accuracy: 0.5562 - auc_11: 0.8076 - val_loss: 1.1991 - val_accuracy: 0.5618 - val_auc_11: 0.7961 - 331ms/epoch - 55ms/step\n",
      "Epoch 11/50\n",
      "6/6 - 0s - loss: 1.1825 - accuracy: 0.5562 - auc_11: 0.8056 - val_loss: 1.1986 - val_accuracy: 0.5618 - val_auc_11: 0.7963 - 337ms/epoch - 56ms/step\n",
      "Epoch 12/50\n",
      "6/6 - 0s - loss: 1.1819 - accuracy: 0.5562 - auc_11: 0.8076 - val_loss: 1.1984 - val_accuracy: 0.5618 - val_auc_11: 0.7963 - 333ms/epoch - 56ms/step\n",
      "Epoch 13/50\n",
      "6/6 - 0s - loss: 1.1817 - accuracy: 0.5562 - auc_11: 0.8076 - val_loss: 1.1982 - val_accuracy: 0.5618 - val_auc_11: 0.7963 - 330ms/epoch - 55ms/step\n",
      "Epoch 14/50\n",
      "6/6 - 0s - loss: 1.1814 - accuracy: 0.5562 - auc_11: 0.8076 - val_loss: 1.1981 - val_accuracy: 0.5618 - val_auc_11: 0.7961 - 332ms/epoch - 55ms/step\n",
      "Epoch 15/50\n",
      "6/6 - 0s - loss: 1.1813 - accuracy: 0.5562 - auc_11: 0.8076 - val_loss: 1.1980 - val_accuracy: 0.5618 - val_auc_11: 0.7961 - 335ms/epoch - 56ms/step\n",
      "Epoch 16/50\n",
      "6/6 - 0s - loss: 1.1811 - accuracy: 0.5562 - auc_11: 0.8076 - val_loss: 1.1979 - val_accuracy: 0.5618 - val_auc_11: 0.7961 - 332ms/epoch - 55ms/step\n",
      "Epoch 17/50\n",
      "6/6 - 0s - loss: 1.1811 - accuracy: 0.5562 - auc_11: 0.8076 - val_loss: 1.1979 - val_accuracy: 0.5618 - val_auc_11: 0.7961 - 332ms/epoch - 55ms/step\n",
      "Epoch 18/50\n",
      "6/6 - 0s - loss: 1.1810 - accuracy: 0.5562 - auc_11: 0.8076 - val_loss: 1.1978 - val_accuracy: 0.5618 - val_auc_11: 0.7961 - 327ms/epoch - 54ms/step\n",
      "Epoch 19/50\n",
      "6/6 - 0s - loss: 1.1809 - accuracy: 0.5562 - auc_11: 0.8076 - val_loss: 1.1978 - val_accuracy: 0.5618 - val_auc_11: 0.7961 - 333ms/epoch - 56ms/step\n",
      "Epoch 20/50\n",
      "6/6 - 0s - loss: 1.1809 - accuracy: 0.5562 - auc_11: 0.8076 - val_loss: 1.1978 - val_accuracy: 0.5618 - val_auc_11: 0.7961 - 332ms/epoch - 55ms/step\n",
      "Epoch 21/50\n",
      "6/6 - 0s - loss: 1.1809 - accuracy: 0.5562 - auc_11: 0.8076 - val_loss: 1.1978 - val_accuracy: 0.5618 - val_auc_11: 0.7961 - 333ms/epoch - 55ms/step\n",
      "Epoch 22/50\n",
      "6/6 - 0s - loss: 1.1809 - accuracy: 0.5562 - auc_11: 0.8076 - val_loss: 1.1978 - val_accuracy: 0.5618 - val_auc_11: 0.7961 - 336ms/epoch - 56ms/step\n",
      "Epoch 23/50\n",
      "6/6 - 0s - loss: 1.1808 - accuracy: 0.5562 - auc_11: 0.8076 - val_loss: 1.1978 - val_accuracy: 0.5618 - val_auc_11: 0.7961 - 331ms/epoch - 55ms/step\n",
      "Epoch 24/50\n",
      "6/6 - 0s - loss: 1.1808 - accuracy: 0.5562 - auc_11: 0.8076 - val_loss: 1.1978 - val_accuracy: 0.5618 - val_auc_11: 0.7961 - 330ms/epoch - 55ms/step\n",
      "Epoch 25/50\n",
      "6/6 - 0s - loss: 1.1808 - accuracy: 0.5562 - auc_11: 0.8076 - val_loss: 1.1978 - val_accuracy: 0.5618 - val_auc_11: 0.7961 - 330ms/epoch - 55ms/step\n",
      "Epoch 26/50\n",
      "6/6 - 0s - loss: 1.1808 - accuracy: 0.5562 - auc_11: 0.8076 - val_loss: 1.1978 - val_accuracy: 0.5618 - val_auc_11: 0.7961 - 329ms/epoch - 55ms/step\n",
      "Epoch 27/50\n",
      "6/6 - 0s - loss: 1.1808 - accuracy: 0.5562 - auc_11: 0.8076 - val_loss: 1.1978 - val_accuracy: 0.5618 - val_auc_11: 0.7961 - 329ms/epoch - 55ms/step\n",
      "Epoch 28/50\n",
      "6/6 - 0s - loss: 1.1808 - accuracy: 0.5562 - auc_11: 0.8076 - val_loss: 1.1978 - val_accuracy: 0.5618 - val_auc_11: 0.7961 - 327ms/epoch - 55ms/step\n",
      "Epoch 29/50\n",
      "6/6 - 0s - loss: 1.1808 - accuracy: 0.5562 - auc_11: 0.8076 - val_loss: 1.1978 - val_accuracy: 0.5618 - val_auc_11: 0.7961 - 333ms/epoch - 56ms/step\n",
      "Epoch 30/50\n",
      "6/6 - 0s - loss: 1.1808 - accuracy: 0.5562 - auc_11: 0.8076 - val_loss: 1.1978 - val_accuracy: 0.5618 - val_auc_11: 0.7961 - 325ms/epoch - 54ms/step\n",
      "Epoch 31/50\n",
      "6/6 - 0s - loss: 1.1808 - accuracy: 0.5562 - auc_11: 0.8076 - val_loss: 1.1978 - val_accuracy: 0.5618 - val_auc_11: 0.7961 - 333ms/epoch - 56ms/step\n",
      "Epoch 32/50\n",
      "6/6 - 0s - loss: 1.1808 - accuracy: 0.5562 - auc_11: 0.8076 - val_loss: 1.1978 - val_accuracy: 0.5618 - val_auc_11: 0.7961 - 337ms/epoch - 56ms/step\n",
      "Epoch 33/50\n",
      "6/6 - 0s - loss: 1.1808 - accuracy: 0.5562 - auc_11: 0.8076 - val_loss: 1.1978 - val_accuracy: 0.5618 - val_auc_11: 0.7961 - 331ms/epoch - 55ms/step\n",
      "Epoch 34/50\n",
      "6/6 - 0s - loss: 1.1808 - accuracy: 0.5562 - auc_11: 0.8076 - val_loss: 1.1978 - val_accuracy: 0.5618 - val_auc_11: 0.7961 - 331ms/epoch - 55ms/step\n",
      "Epoch 35/50\n",
      "6/6 - 0s - loss: 1.1808 - accuracy: 0.5562 - auc_11: 0.8076 - val_loss: 1.1978 - val_accuracy: 0.5618 - val_auc_11: 0.7961 - 336ms/epoch - 56ms/step\n",
      "Epoch 36/50\n",
      "6/6 - 0s - loss: 1.1808 - accuracy: 0.5562 - auc_11: 0.8076 - val_loss: 1.1978 - val_accuracy: 0.5618 - val_auc_11: 0.7961 - 330ms/epoch - 55ms/step\n",
      "Epoch 37/50\n",
      "6/6 - 0s - loss: 1.1808 - accuracy: 0.5562 - auc_11: 0.8076 - val_loss: 1.1978 - val_accuracy: 0.5618 - val_auc_11: 0.7961 - 330ms/epoch - 55ms/step\n",
      "Epoch 38/50\n",
      "6/6 - 0s - loss: 1.1808 - accuracy: 0.5562 - auc_11: 0.8076 - val_loss: 1.1978 - val_accuracy: 0.5618 - val_auc_11: 0.7961 - 332ms/epoch - 55ms/step\n",
      "Epoch 39/50\n",
      "6/6 - 0s - loss: 1.1808 - accuracy: 0.5562 - auc_11: 0.8076 - val_loss: 1.1978 - val_accuracy: 0.5618 - val_auc_11: 0.7961 - 336ms/epoch - 56ms/step\n",
      "Epoch 40/50\n",
      "6/6 - 0s - loss: 1.1808 - accuracy: 0.5562 - auc_11: 0.8076 - val_loss: 1.1978 - val_accuracy: 0.5618 - val_auc_11: 0.7961 - 334ms/epoch - 56ms/step\n",
      "Epoch 41/50\n",
      "6/6 - 0s - loss: 1.1808 - accuracy: 0.5562 - auc_11: 0.8076 - val_loss: 1.1978 - val_accuracy: 0.5618 - val_auc_11: 0.7961 - 335ms/epoch - 56ms/step\n",
      "Epoch 42/50\n",
      "6/6 - 0s - loss: 1.1808 - accuracy: 0.5562 - auc_11: 0.8076 - val_loss: 1.1978 - val_accuracy: 0.5618 - val_auc_11: 0.7961 - 337ms/epoch - 56ms/step\n",
      "Epoch 43/50\n",
      "6/6 - 0s - loss: 1.1808 - accuracy: 0.5562 - auc_11: 0.8076 - val_loss: 1.1978 - val_accuracy: 0.5618 - val_auc_11: 0.7961 - 330ms/epoch - 55ms/step\n",
      "Epoch 44/50\n",
      "6/6 - 0s - loss: 1.1808 - accuracy: 0.5562 - auc_11: 0.8076 - val_loss: 1.1978 - val_accuracy: 0.5618 - val_auc_11: 0.7961 - 332ms/epoch - 55ms/step\n"
     ]
    },
    {
     "data": {
      "image/png": "[encoded data removed]",
      "text/plain": [
       "<Figure size 432x288 with 1 Axes>"
      ]
     },
     "metadata": {
      "needs_background": "light"
     },
     "output_type": "display_data"
    }
   ],
   "source": [
    "kf = KFold(n_splits=3, shuffle=True, random_state=42)\n",
    "X = X_train.copy()\n",
    "y = y_train.copy()\n",
    "for train_index, val_index in kf.split(X):\n",
    "    X_train, X_val = X[train_index], X[val_index]\n",
    "    y_train, y_val = y[train_index], y[val_index]\n",
    "    early_fusion_model = get_CNN_model(n_features, n_length, n_outputs)\n",
    "    history = train(early_fusion_model, X_train, y_train, X_val, y_val, epochs=epochs, batch_size=batch_size)\n",
    "    plt.plot(history.history['loss'])\n",
    "    plt.show()"
   ]
  },
  {
   "cell_type": "markdown",
   "metadata": {},
   "source": [
    "#### Evaluate early fusion performance"
   ]
  },
  {
   "cell_type": "code",
   "execution_count": 27,
   "metadata": {},
   "outputs": [
    {
     "name": "stdout",
     "output_type": "stream",
     "text": [
      "\n",
      "Accuracy: 50.617%\n",
      "\n",
      "AUC: 0.7994\n"
     ]
    }
   ],
   "source": [
    "loss, accuracy, auc = early_fusion_model.evaluate(X_test, y_test, batch_size=batch_size, verbose=0)\n",
    "score = accuracy * 100\n",
    "accuracies.append(round(score, 2))\n",
    "aucs.append(round(auc * 100, 2))\n",
    "print('\\nAccuracy: %.3f%%' % score)\n",
    "print('\\nAUC:', round(auc, 4))"
   ]
  },
  {
   "cell_type": "markdown",
   "metadata": {},
   "source": [
    "#### Train Convolutional LSTM Model (from uni-modal architectures)"
   ]
  },
  {
   "cell_type": "code",
   "execution_count": 28,
   "metadata": {},
   "outputs": [],
   "source": [
    "def get_convLSTM_model(n_features, n_length, n_outputs):\n",
    "    model = models.Sequential()\n",
    "    model.add(ConvLSTM1D(filters=64, kernel_size=(3), activation='relu', input_shape=(None, n_length, n_features)))\n",
    "    model.add(Flatten())\n",
    "    model.add(Dense(100, activation='relu'))\n",
    "    model.add(Dense(n_outputs, activation='softmax'))\n",
    "    lr_schedule = optimizers.schedules.ExponentialDecay(\n",
    "        initial_learning_rate=0.001,\n",
    "        decay_steps=50,\n",
    "        decay_rate=0.1)\n",
    "    optimizer = optimizers.Adam(learning_rate=lr_schedule)\n",
    "    model.compile(loss='categorical_crossentropy',\n",
    "        optimizer=optimizer, metrics=['accuracy', tf.keras.metrics.AUC()])\n",
    "    return model\n",
    "\n",
    "def train(model, X_train, y_train, X_val, y_val, epochs, batch_size):\n",
    "    early_stopping = tf.keras.callbacks.EarlyStopping(\n",
    "        monitor='val_loss', patience=2)\n",
    "    history = model.fit(X_train, y_train, validation_data=(X_val, y_val), epochs=epochs, callbacks=[early_stopping],\n",
    "        batch_size=batch_size, verbose=2)\n",
    "    return history"
   ]
  },
  {
   "cell_type": "code",
   "execution_count": 29,
   "metadata": {},
   "outputs": [
    {
     "name": "stdout",
     "output_type": "stream",
     "text": [
      "Model: \"sequential_14\"\n",
      "_________________________________________________________________\n",
      " Layer (type)                Output Shape              Param #   \n",
      "=================================================================\n",
      " conv_lstm1d_4 (ConvLSTM1D)  (None, 348, 64)           86272     \n",
      "                                                                 \n",
      " flatten_12 (Flatten)        (None, 22272)             0         \n",
      "                                                                 \n",
      " dense_24 (Dense)            (None, 100)               2227300   \n",
      "                                                                 \n",
      " dense_25 (Dense)            (None, 5)                 505       \n",
      "                                                                 \n",
      "=================================================================\n",
      "Total params: 2,314,077\n",
      "Trainable params: 2,314,077\n",
      "Non-trainable params: 0\n",
      "_________________________________________________________________\n"
     ]
    }
   ],
   "source": [
    "early_fusion_model = get_convLSTM_model(n_features, n_length, n_outputs)\n",
    "early_fusion_model.summary()"
   ]
  },
  {
   "cell_type": "code",
   "execution_count": 30,
   "metadata": {},
   "outputs": [
    {
     "name": "stdout",
     "output_type": "stream",
     "text": [
      "Epoch 1/50\n",
      "4/4 - 3s - loss: 341.6201 - accuracy: 0.2616 - auc_13: 0.5409 - val_loss: 183.2360 - val_accuracy: 0.5966 - val_auc_13: 0.7479 - 3s/epoch - 739ms/step\n",
      "Epoch 2/50\n",
      "4/4 - 1s - loss: 175.4430 - accuracy: 0.5359 - auc_13: 0.7099 - val_loss: 42.2193 - val_accuracy: 0.5126 - val_auc_13: 0.7028 - 630ms/epoch - 158ms/step\n",
      "Epoch 3/50\n",
      "4/4 - 1s - loss: 47.7717 - accuracy: 0.3291 - auc_13: 0.5938 - val_loss: 30.9996 - val_accuracy: 0.3277 - val_auc_13: 0.5822 - 682ms/epoch - 170ms/step\n",
      "Epoch 4/50\n",
      "4/4 - 1s - loss: 26.1506 - accuracy: 0.3165 - auc_13: 0.5805 - val_loss: 14.9871 - val_accuracy: 0.5630 - val_auc_13: 0.7377 - 640ms/epoch - 160ms/step\n",
      "Epoch 5/50\n",
      "4/4 - 1s - loss: 13.2904 - accuracy: 0.5232 - auc_13: 0.7074 - val_loss: 5.2704 - val_accuracy: 0.5294 - val_auc_13: 0.7453 - 625ms/epoch - 156ms/step\n",
      "Epoch 6/50\n",
      "4/4 - 1s - loss: 5.8854 - accuracy: 0.3080 - auc_13: 0.6364 - val_loss: 3.3246 - val_accuracy: 0.2521 - val_auc_13: 0.6355 - 636ms/epoch - 159ms/step\n",
      "Epoch 7/50\n",
      "4/4 - 1s - loss: 3.5091 - accuracy: 0.2996 - auc_13: 0.6644 - val_loss: 2.4557 - val_accuracy: 0.4706 - val_auc_13: 0.7399 - 635ms/epoch - 159ms/step\n",
      "Epoch 8/50\n",
      "4/4 - 1s - loss: 2.7647 - accuracy: 0.4093 - auc_13: 0.6947 - val_loss: 2.0797 - val_accuracy: 0.2521 - val_auc_13: 0.6214 - 627ms/epoch - 157ms/step\n",
      "Epoch 9/50\n",
      "4/4 - 1s - loss: 2.1856 - accuracy: 0.2743 - auc_13: 0.6318 - val_loss: 1.7341 - val_accuracy: 0.3193 - val_auc_13: 0.6714 - 618ms/epoch - 155ms/step\n",
      "Epoch 10/50\n",
      "4/4 - 1s - loss: 1.7437 - accuracy: 0.3755 - auc_13: 0.7042 - val_loss: 1.7040 - val_accuracy: 0.3529 - val_auc_13: 0.7028 - 632ms/epoch - 158ms/step\n",
      "Epoch 11/50\n",
      "4/4 - 1s - loss: 1.6416 - accuracy: 0.3840 - auc_13: 0.7240 - val_loss: 1.6475 - val_accuracy: 0.3361 - val_auc_13: 0.7182 - 632ms/epoch - 158ms/step\n",
      "Epoch 12/50\n",
      "4/4 - 1s - loss: 1.5891 - accuracy: 0.3586 - auc_13: 0.7126 - val_loss: 1.6248 - val_accuracy: 0.2689 - val_auc_13: 0.7138 - 621ms/epoch - 155ms/step\n",
      "Epoch 13/50\n",
      "4/4 - 1s - loss: 1.5255 - accuracy: 0.3629 - auc_13: 0.7248 - val_loss: 1.5710 - val_accuracy: 0.3445 - val_auc_13: 0.7274 - 612ms/epoch - 153ms/step\n",
      "Epoch 14/50\n",
      "4/4 - 1s - loss: 1.4824 - accuracy: 0.3882 - auc_13: 0.7345 - val_loss: 1.5554 - val_accuracy: 0.4034 - val_auc_13: 0.7325 - 639ms/epoch - 160ms/step\n",
      "Epoch 15/50\n",
      "4/4 - 1s - loss: 1.4567 - accuracy: 0.4051 - auc_13: 0.7422 - val_loss: 1.5555 - val_accuracy: 0.4202 - val_auc_13: 0.7365 - 625ms/epoch - 156ms/step\n",
      "Epoch 16/50\n",
      "4/4 - 1s - loss: 1.4387 - accuracy: 0.4219 - auc_13: 0.7476 - val_loss: 1.5451 - val_accuracy: 0.4286 - val_auc_13: 0.7429 - 618ms/epoch - 154ms/step\n",
      "Epoch 17/50\n",
      "4/4 - 1s - loss: 1.4229 - accuracy: 0.4262 - auc_13: 0.7518 - val_loss: 1.5372 - val_accuracy: 0.4286 - val_auc_13: 0.7465 - 624ms/epoch - 156ms/step\n",
      "Epoch 18/50\n",
      "4/4 - 1s - loss: 1.4107 - accuracy: 0.4135 - auc_13: 0.7538 - val_loss: 1.5295 - val_accuracy: 0.4286 - val_auc_13: 0.7465 - 623ms/epoch - 156ms/step\n",
      "Epoch 19/50\n",
      "4/4 - 1s - loss: 1.3994 - accuracy: 0.4135 - auc_13: 0.7554 - val_loss: 1.5246 - val_accuracy: 0.4118 - val_auc_13: 0.7469 - 625ms/epoch - 156ms/step\n",
      "Epoch 20/50\n",
      "4/4 - 1s - loss: 1.3898 - accuracy: 0.4177 - auc_13: 0.7568 - val_loss: 1.5231 - val_accuracy: 0.4034 - val_auc_13: 0.7463 - 607ms/epoch - 152ms/step\n",
      "Epoch 21/50\n",
      "4/4 - 1s - loss: 1.3847 - accuracy: 0.4219 - auc_13: 0.7570 - val_loss: 1.5199 - val_accuracy: 0.4034 - val_auc_13: 0.7464 - 619ms/epoch - 155ms/step\n",
      "Epoch 22/50\n",
      "4/4 - 1s - loss: 1.3790 - accuracy: 0.4135 - auc_13: 0.7583 - val_loss: 1.5170 - val_accuracy: 0.3950 - val_auc_13: 0.7478 - 620ms/epoch - 155ms/step\n",
      "Epoch 23/50\n",
      "4/4 - 1s - loss: 1.3742 - accuracy: 0.4135 - auc_13: 0.7604 - val_loss: 1.5169 - val_accuracy: 0.4202 - val_auc_13: 0.7483 - 626ms/epoch - 157ms/step\n",
      "Epoch 24/50\n",
      "4/4 - 1s - loss: 1.3710 - accuracy: 0.4304 - auc_13: 0.7625 - val_loss: 1.5162 - val_accuracy: 0.4286 - val_auc_13: 0.7485 - 619ms/epoch - 155ms/step\n",
      "Epoch 25/50\n",
      "4/4 - 1s - loss: 1.3677 - accuracy: 0.4304 - auc_13: 0.7634 - val_loss: 1.5151 - val_accuracy: 0.4286 - val_auc_13: 0.7486 - 620ms/epoch - 155ms/step\n",
      "Epoch 26/50\n",
      "4/4 - 1s - loss: 1.3649 - accuracy: 0.4304 - auc_13: 0.7643 - val_loss: 1.5135 - val_accuracy: 0.4370 - val_auc_13: 0.7482 - 618ms/epoch - 154ms/step\n",
      "Epoch 27/50\n",
      "4/4 - 1s - loss: 1.3632 - accuracy: 0.4304 - auc_13: 0.7645 - val_loss: 1.5129 - val_accuracy: 0.4370 - val_auc_13: 0.7486 - 623ms/epoch - 156ms/step\n",
      "Epoch 28/50\n",
      "4/4 - 1s - loss: 1.3610 - accuracy: 0.4304 - auc_13: 0.7653 - val_loss: 1.5120 - val_accuracy: 0.4370 - val_auc_13: 0.7488 - 626ms/epoch - 157ms/step\n",
      "Epoch 29/50\n",
      "4/4 - 1s - loss: 1.3597 - accuracy: 0.4304 - auc_13: 0.7658 - val_loss: 1.5116 - val_accuracy: 0.4370 - val_auc_13: 0.7503 - 627ms/epoch - 157ms/step\n",
      "Epoch 30/50\n",
      "4/4 - 1s - loss: 1.3585 - accuracy: 0.4304 - auc_13: 0.7672 - val_loss: 1.5103 - val_accuracy: 0.4370 - val_auc_13: 0.7506 - 619ms/epoch - 155ms/step\n",
      "Epoch 31/50\n",
      "4/4 - 1s - loss: 1.3574 - accuracy: 0.4304 - auc_13: 0.7681 - val_loss: 1.5098 - val_accuracy: 0.4286 - val_auc_13: 0.7505 - 617ms/epoch - 154ms/step\n",
      "Epoch 32/50\n",
      "4/4 - 1s - loss: 1.3567 - accuracy: 0.4346 - auc_13: 0.7681 - val_loss: 1.5091 - val_accuracy: 0.4286 - val_auc_13: 0.7509 - 618ms/epoch - 154ms/step\n",
      "Epoch 33/50\n",
      "4/4 - 1s - loss: 1.3561 - accuracy: 0.4346 - auc_13: 0.7683 - val_loss: 1.5084 - val_accuracy: 0.4286 - val_auc_13: 0.7513 - 616ms/epoch - 154ms/step\n",
      "Epoch 34/50\n",
      "4/4 - 1s - loss: 1.3554 - accuracy: 0.4388 - auc_13: 0.7684 - val_loss: 1.5084 - val_accuracy: 0.4202 - val_auc_13: 0.7512 - 625ms/epoch - 156ms/step\n",
      "Epoch 35/50\n",
      "4/4 - 1s - loss: 1.3549 - accuracy: 0.4346 - auc_13: 0.7683 - val_loss: 1.5084 - val_accuracy: 0.4202 - val_auc_13: 0.7512 - 613ms/epoch - 153ms/step\n",
      "Epoch 36/50\n",
      "4/4 - 1s - loss: 1.3545 - accuracy: 0.4346 - auc_13: 0.7684 - val_loss: 1.5082 - val_accuracy: 0.4202 - val_auc_13: 0.7510 - 614ms/epoch - 153ms/step\n",
      "Epoch 37/50\n",
      "4/4 - 1s - loss: 1.3542 - accuracy: 0.4346 - auc_13: 0.7687 - val_loss: 1.5082 - val_accuracy: 0.4202 - val_auc_13: 0.7508 - 621ms/epoch - 155ms/step\n",
      "Epoch 38/50\n",
      "4/4 - 1s - loss: 1.3540 - accuracy: 0.4346 - auc_13: 0.7690 - val_loss: 1.5083 - val_accuracy: 0.4202 - val_auc_13: 0.7500 - 617ms/epoch - 154ms/step\n",
      "Epoch 39/50\n",
      "4/4 - 1s - loss: 1.3537 - accuracy: 0.4346 - auc_13: 0.7691 - val_loss: 1.5083 - val_accuracy: 0.4202 - val_auc_13: 0.7498 - 627ms/epoch - 157ms/step\n"
     ]
    },
    {
     "data": {
      "image/png": "[encoded data removed]",
      "text/plain": [
       "<Figure size 432x288 with 1 Axes>"
      ]
     },
     "metadata": {
      "needs_background": "light"
     },
     "output_type": "display_data"
    },
    {
     "name": "stdout",
     "output_type": "stream",
     "text": [
      "Epoch 1/50\n",
      "4/4 - 3s - loss: 134.5203 - accuracy: 0.3629 - auc_14: 0.6110 - val_loss: 32.5937 - val_accuracy: 0.2101 - val_auc_14: 0.5477 - 3s/epoch - 738ms/step\n",
      "Epoch 2/50\n",
      "4/4 - 1s - loss: 17.7381 - accuracy: 0.4810 - auc_14: 0.6750 - val_loss: 3.5273 - val_accuracy: 0.3950 - val_auc_14: 0.6096 - 624ms/epoch - 156ms/step\n",
      "Epoch 3/50\n",
      "4/4 - 1s - loss: 2.0277 - accuracy: 0.2700 - auc_14: 0.5854 - val_loss: 1.6575 - val_accuracy: 0.0588 - val_auc_14: 0.4904 - 619ms/epoch - 155ms/step\n",
      "Epoch 4/50\n",
      "4/4 - 1s - loss: 1.5771 - accuracy: 0.4219 - auc_14: 0.5547 - val_loss: 1.6146 - val_accuracy: 0.5210 - val_auc_14: 0.7114 - 618ms/epoch - 155ms/step\n",
      "Epoch 5/50\n",
      "4/4 - 1s - loss: 1.5914 - accuracy: 0.5612 - auc_14: 0.7323 - val_loss: 1.6089 - val_accuracy: 0.5210 - val_auc_14: 0.7093 - 627ms/epoch - 157ms/step\n",
      "Epoch 6/50\n",
      "4/4 - 1s - loss: 1.5844 - accuracy: 0.5654 - auc_14: 0.7312 - val_loss: 1.6058 - val_accuracy: 0.5210 - val_auc_14: 0.6889 - 616ms/epoch - 154ms/step\n",
      "Epoch 7/50\n",
      "4/4 - 1s - loss: 1.5818 - accuracy: 0.5654 - auc_14: 0.7318 - val_loss: 1.6023 - val_accuracy: 0.5210 - val_auc_14: 0.6888 - 607ms/epoch - 152ms/step\n",
      "Epoch 8/50\n",
      "4/4 - 1s - loss: 1.5790 - accuracy: 0.5654 - auc_14: 0.7323 - val_loss: 1.5994 - val_accuracy: 0.5210 - val_auc_14: 0.6899 - 617ms/epoch - 154ms/step\n",
      "Epoch 9/50\n",
      "4/4 - 1s - loss: 1.5771 - accuracy: 0.5654 - auc_14: 0.7323 - val_loss: 1.5972 - val_accuracy: 0.5210 - val_auc_14: 0.6899 - 633ms/epoch - 158ms/step\n",
      "Epoch 10/50\n",
      "4/4 - 1s - loss: 1.5756 - accuracy: 0.5654 - auc_14: 0.7323 - val_loss: 1.5958 - val_accuracy: 0.5210 - val_auc_14: 0.6914 - 619ms/epoch - 155ms/step\n",
      "Epoch 11/50\n",
      "4/4 - 1s - loss: 1.5745 - accuracy: 0.5654 - auc_14: 0.7325 - val_loss: 1.5947 - val_accuracy: 0.5210 - val_auc_14: 0.6915 - 612ms/epoch - 153ms/step\n",
      "Epoch 12/50\n",
      "4/4 - 1s - loss: 1.5735 - accuracy: 0.5654 - auc_14: 0.7329 - val_loss: 1.5938 - val_accuracy: 0.5210 - val_auc_14: 0.6915 - 615ms/epoch - 154ms/step\n",
      "Epoch 13/50\n",
      "4/4 - 1s - loss: 1.5726 - accuracy: 0.5654 - auc_14: 0.7323 - val_loss: 1.5930 - val_accuracy: 0.5210 - val_auc_14: 0.6915 - 613ms/epoch - 153ms/step\n",
      "Epoch 14/50\n",
      "4/4 - 1s - loss: 1.5719 - accuracy: 0.5654 - auc_14: 0.7398 - val_loss: 1.5924 - val_accuracy: 0.5210 - val_auc_14: 0.7400 - 617ms/epoch - 154ms/step\n",
      "Epoch 15/50\n",
      "4/4 - 1s - loss: 1.5712 - accuracy: 0.5654 - auc_14: 0.7797 - val_loss: 1.5919 - val_accuracy: 0.5210 - val_auc_14: 0.7400 - 621ms/epoch - 155ms/step\n",
      "Epoch 16/50\n",
      "4/4 - 1s - loss: 1.5706 - accuracy: 0.5654 - auc_14: 0.7797 - val_loss: 1.5915 - val_accuracy: 0.5210 - val_auc_14: 0.7400 - 608ms/epoch - 152ms/step\n",
      "Epoch 17/50\n",
      "4/4 - 1s - loss: 1.5701 - accuracy: 0.5654 - auc_14: 0.7797 - val_loss: 1.5912 - val_accuracy: 0.5210 - val_auc_14: 0.7400 - 610ms/epoch - 153ms/step\n",
      "Epoch 18/50\n",
      "4/4 - 1s - loss: 1.5697 - accuracy: 0.5654 - auc_14: 0.7797 - val_loss: 1.5909 - val_accuracy: 0.5210 - val_auc_14: 0.7400 - 620ms/epoch - 155ms/step\n",
      "Epoch 19/50\n",
      "4/4 - 1s - loss: 1.5694 - accuracy: 0.5654 - auc_14: 0.7797 - val_loss: 1.5907 - val_accuracy: 0.5210 - val_auc_14: 0.7400 - 617ms/epoch - 154ms/step\n",
      "Epoch 20/50\n",
      "4/4 - 1s - loss: 1.5691 - accuracy: 0.5654 - auc_14: 0.7797 - val_loss: 1.5905 - val_accuracy: 0.5210 - val_auc_14: 0.7400 - 619ms/epoch - 155ms/step\n",
      "Epoch 21/50\n",
      "4/4 - 1s - loss: 1.5688 - accuracy: 0.5654 - auc_14: 0.7797 - val_loss: 1.5903 - val_accuracy: 0.5210 - val_auc_14: 0.7400 - 613ms/epoch - 153ms/step\n",
      "Epoch 22/50\n",
      "4/4 - 1s - loss: 1.5686 - accuracy: 0.5654 - auc_14: 0.7797 - val_loss: 1.5902 - val_accuracy: 0.5210 - val_auc_14: 0.7400 - 620ms/epoch - 155ms/step\n",
      "Epoch 23/50\n",
      "4/4 - 1s - loss: 1.5684 - accuracy: 0.5654 - auc_14: 0.7799 - val_loss: 1.5901 - val_accuracy: 0.5210 - val_auc_14: 0.7400 - 609ms/epoch - 152ms/step\n",
      "Epoch 24/50\n",
      "4/4 - 1s - loss: 1.5683 - accuracy: 0.5654 - auc_14: 0.7799 - val_loss: 1.5900 - val_accuracy: 0.5210 - val_auc_14: 0.7400 - 617ms/epoch - 154ms/step\n",
      "Epoch 25/50\n",
      "4/4 - 1s - loss: 1.5682 - accuracy: 0.5654 - auc_14: 0.7799 - val_loss: 1.5899 - val_accuracy: 0.5210 - val_auc_14: 0.7400 - 619ms/epoch - 155ms/step\n",
      "Epoch 26/50\n",
      "4/4 - 1s - loss: 1.5681 - accuracy: 0.5654 - auc_14: 0.7799 - val_loss: 1.5899 - val_accuracy: 0.5210 - val_auc_14: 0.7400 - 620ms/epoch - 155ms/step\n",
      "Epoch 27/50\n",
      "4/4 - 1s - loss: 1.5680 - accuracy: 0.5654 - auc_14: 0.7799 - val_loss: 1.5898 - val_accuracy: 0.5210 - val_auc_14: 0.7400 - 606ms/epoch - 151ms/step\n",
      "Epoch 28/50\n",
      "4/4 - 1s - loss: 1.5679 - accuracy: 0.5654 - auc_14: 0.7799 - val_loss: 1.5898 - val_accuracy: 0.5210 - val_auc_14: 0.7400 - 610ms/epoch - 152ms/step\n",
      "Epoch 29/50\n",
      "4/4 - 1s - loss: 1.5678 - accuracy: 0.5654 - auc_14: 0.7799 - val_loss: 1.5898 - val_accuracy: 0.5210 - val_auc_14: 0.7400 - 608ms/epoch - 152ms/step\n",
      "Epoch 30/50\n",
      "4/4 - 1s - loss: 1.5678 - accuracy: 0.5654 - auc_14: 0.7799 - val_loss: 1.5897 - val_accuracy: 0.5210 - val_auc_14: 0.7400 - 619ms/epoch - 155ms/step\n",
      "Epoch 31/50\n",
      "4/4 - 1s - loss: 1.5677 - accuracy: 0.5654 - auc_14: 0.7799 - val_loss: 1.5897 - val_accuracy: 0.5210 - val_auc_14: 0.7400 - 622ms/epoch - 155ms/step\n",
      "Epoch 32/50\n",
      "4/4 - 1s - loss: 1.5677 - accuracy: 0.5654 - auc_14: 0.7799 - val_loss: 1.5897 - val_accuracy: 0.5210 - val_auc_14: 0.7400 - 620ms/epoch - 155ms/step\n",
      "Epoch 33/50\n",
      "4/4 - 1s - loss: 1.5677 - accuracy: 0.5654 - auc_14: 0.7799 - val_loss: 1.5897 - val_accuracy: 0.5210 - val_auc_14: 0.7400 - 604ms/epoch - 151ms/step\n",
      "Epoch 34/50\n",
      "4/4 - 1s - loss: 1.5677 - accuracy: 0.5654 - auc_14: 0.7799 - val_loss: 1.5897 - val_accuracy: 0.5210 - val_auc_14: 0.7400 - 599ms/epoch - 150ms/step\n",
      "Epoch 35/50\n",
      "4/4 - 1s - loss: 1.5676 - accuracy: 0.5654 - auc_14: 0.7799 - val_loss: 1.5896 - val_accuracy: 0.5210 - val_auc_14: 0.7400 - 618ms/epoch - 154ms/step\n",
      "Epoch 36/50\n",
      "4/4 - 1s - loss: 1.5676 - accuracy: 0.5654 - auc_14: 0.7799 - val_loss: 1.5896 - val_accuracy: 0.5210 - val_auc_14: 0.7400 - 617ms/epoch - 154ms/step\n",
      "Epoch 37/50\n",
      "4/4 - 1s - loss: 1.5676 - accuracy: 0.5654 - auc_14: 0.7799 - val_loss: 1.5896 - val_accuracy: 0.5210 - val_auc_14: 0.7400 - 626ms/epoch - 157ms/step\n",
      "Epoch 38/50\n",
      "4/4 - 1s - loss: 1.5676 - accuracy: 0.5654 - auc_14: 0.7799 - val_loss: 1.5896 - val_accuracy: 0.5210 - val_auc_14: 0.7400 - 619ms/epoch - 155ms/step\n",
      "Epoch 39/50\n",
      "4/4 - 1s - loss: 1.5676 - accuracy: 0.5654 - auc_14: 0.7799 - val_loss: 1.5896 - val_accuracy: 0.5210 - val_auc_14: 0.7400 - 614ms/epoch - 154ms/step\n",
      "Epoch 40/50\n",
      "4/4 - 1s - loss: 1.5676 - accuracy: 0.5654 - auc_14: 0.7799 - val_loss: 1.5896 - val_accuracy: 0.5210 - val_auc_14: 0.7400 - 618ms/epoch - 154ms/step\n",
      "Epoch 41/50\n",
      "4/4 - 1s - loss: 1.5676 - accuracy: 0.5654 - auc_14: 0.7799 - val_loss: 1.5896 - val_accuracy: 0.5210 - val_auc_14: 0.7400 - 628ms/epoch - 157ms/step\n",
      "Epoch 42/50\n",
      "4/4 - 1s - loss: 1.5676 - accuracy: 0.5654 - auc_14: 0.7799 - val_loss: 1.5896 - val_accuracy: 0.5210 - val_auc_14: 0.7400 - 630ms/epoch - 157ms/step\n",
      "Epoch 43/50\n",
      "4/4 - 1s - loss: 1.5676 - accuracy: 0.5654 - auc_14: 0.7799 - val_loss: 1.5896 - val_accuracy: 0.5210 - val_auc_14: 0.7400 - 604ms/epoch - 151ms/step\n",
      "Epoch 44/50\n",
      "4/4 - 1s - loss: 1.5676 - accuracy: 0.5654 - auc_14: 0.7799 - val_loss: 1.5896 - val_accuracy: 0.5210 - val_auc_14: 0.7400 - 616ms/epoch - 154ms/step\n",
      "Epoch 45/50\n",
      "4/4 - 1s - loss: 1.5675 - accuracy: 0.5654 - auc_14: 0.7799 - val_loss: 1.5896 - val_accuracy: 0.5210 - val_auc_14: 0.7400 - 659ms/epoch - 165ms/step\n",
      "Epoch 46/50\n",
      "4/4 - 1s - loss: 1.5675 - accuracy: 0.5654 - auc_14: 0.7799 - val_loss: 1.5896 - val_accuracy: 0.5210 - val_auc_14: 0.7400 - 644ms/epoch - 161ms/step\n",
      "Epoch 47/50\n",
      "4/4 - 1s - loss: 1.5675 - accuracy: 0.5654 - auc_14: 0.7799 - val_loss: 1.5896 - val_accuracy: 0.5210 - val_auc_14: 0.7400 - 806ms/epoch - 201ms/step\n",
      "Epoch 48/50\n",
      "4/4 - 1s - loss: 1.5675 - accuracy: 0.5654 - auc_14: 0.7799 - val_loss: 1.5896 - val_accuracy: 0.5210 - val_auc_14: 0.7400 - 844ms/epoch - 211ms/step\n",
      "Epoch 49/50\n",
      "4/4 - 1s - loss: 1.5675 - accuracy: 0.5654 - auc_14: 0.7799 - val_loss: 1.5896 - val_accuracy: 0.5210 - val_auc_14: 0.7400 - 750ms/epoch - 187ms/step\n",
      "Epoch 50/50\n",
      "4/4 - 1s - loss: 1.5675 - accuracy: 0.5654 - auc_14: 0.7799 - val_loss: 1.5896 - val_accuracy: 0.5210 - val_auc_14: 0.7400 - 806ms/epoch - 201ms/step\n"
     ]
    },
    {
     "data": {
      "image/png": "[encoded data removed]",
      "text/plain": [
       "<Figure size 432x288 with 1 Axes>"
      ]
     },
     "metadata": {
      "needs_background": "light"
     },
     "output_type": "display_data"
    },
    {
     "name": "stdout",
     "output_type": "stream",
     "text": [
      "Epoch 1/50\n",
      "4/4 - 3s - loss: 169.8291 - accuracy: 0.3403 - auc_15: 0.5931 - val_loss: 65.6977 - val_accuracy: 0.3983 - val_auc_15: 0.6539 - 3s/epoch - 837ms/step\n",
      "Epoch 2/50\n",
      "4/4 - 1s - loss: 99.6512 - accuracy: 0.4370 - auc_15: 0.6630 - val_loss: 102.0558 - val_accuracy: 0.0678 - val_auc_15: 0.4220 - 624ms/epoch - 156ms/step\n",
      "Epoch 3/50\n",
      "4/4 - 1s - loss: 46.4775 - accuracy: 0.4076 - auc_15: 0.6289 - val_loss: 10.7793 - val_accuracy: 0.5254 - val_auc_15: 0.7021 - 611ms/epoch - 153ms/step\n",
      "Epoch 4/50\n",
      "4/4 - 1s - loss: 6.3956 - accuracy: 0.5210 - auc_15: 0.7600 - val_loss: 3.4128 - val_accuracy: 0.2373 - val_auc_15: 0.6571 - 612ms/epoch - 153ms/step\n",
      "Epoch 5/50\n",
      "4/4 - 1s - loss: 2.4781 - accuracy: 0.3109 - auc_15: 0.6953 - val_loss: 1.4956 - val_accuracy: 0.3051 - val_auc_15: 0.6921 - 611ms/epoch - 153ms/step\n",
      "Epoch 6/50\n",
      "4/4 - 1s - loss: 1.5123 - accuracy: 0.2899 - auc_15: 0.6821 - val_loss: 1.5183 - val_accuracy: 0.2712 - val_auc_15: 0.6486 - 602ms/epoch - 150ms/step\n",
      "Epoch 7/50\n",
      "4/4 - 1s - loss: 1.5180 - accuracy: 0.2437 - auc_15: 0.6088 - val_loss: 1.5683 - val_accuracy: 0.2288 - val_auc_15: 0.7274 - 603ms/epoch - 151ms/step\n"
     ]
    },
    {
     "data": {
      "image/png": "[encoded data removed]",
      "text/plain": [
       "<Figure size 432x288 with 1 Axes>"
      ]
     },
     "metadata": {
      "needs_background": "light"
     },
     "output_type": "display_data"
    }
   ],
   "source": [
    "kf = KFold(n_splits=3, shuffle=True, random_state=42)\n",
    "X = X_train.copy()\n",
    "y = y_train.copy()\n",
    "for train_index, val_index in kf.split(X):\n",
    "    X_train, X_val = X[train_index], X[val_index]\n",
    "    y_train, y_val = y[train_index], y[val_index]\n",
    "    early_fusion_model = get_convLSTM_model(n_features, n_length, n_outputs)\n",
    "    history = train(early_fusion_model, X_train, y_train, X_val, y_val, epochs=epochs, batch_size=batch_size)\n",
    "    plt.plot(history.history['loss'])\n",
    "    plt.show()"
   ]
  },
  {
   "cell_type": "code",
   "execution_count": 31,
   "metadata": {},
   "outputs": [
    {
     "name": "stdout",
     "output_type": "stream",
     "text": [
      "\n",
      "Accuracy: 20.988%\n",
      "\n",
      "AUC: 0.6236\n"
     ]
    }
   ],
   "source": [
    "loss, accuracy, auc = early_fusion_model.evaluate(X_test, y_test, batch_size=batch_size, verbose=0)\n",
    "score = accuracy * 100\n",
    "accuracies.append(round(score, 2))\n",
    "aucs.append(round(auc * 100, 2))\n",
    "print('\\nAccuracy: %.3f%%' % score)\n",
    "print('\\nAUC:', round(auc, 4))"
   ]
  },
  {
   "cell_type": "markdown",
   "metadata": {},
   "source": [
    "### 1.2 Pain level prediction"
   ]
  },
  {
   "cell_type": "markdown",
   "metadata": {},
   "source": [
    "#### Concatenate datasets (fusion stage)"
   ]
  },
  {
   "cell_type": "code",
   "execution_count": 32,
   "metadata": {},
   "outputs": [
    {
     "name": "stdout",
     "output_type": "stream",
     "text": [
      "(534, 1, 350, 48) (534, 3)\n",
      "(81, 1, 350, 48) (81, 3)\n"
     ]
    }
   ],
   "source": [
    "X_train, X_test, y_train, y_test = apply_early_fusion('processed', 'pain_level')\n",
    "\n",
    "print(X_train.shape, y_train.shape)\n",
    "print(X_test.shape, y_test.shape)"
   ]
  },
  {
   "cell_type": "markdown",
   "metadata": {},
   "source": [
    "#### Train CNN+LSTM Model (from uni-modal architectures)"
   ]
  },
  {
   "cell_type": "code",
   "execution_count": 33,
   "metadata": {},
   "outputs": [],
   "source": [
    "n_length, n_features, n_outputs = X_train.shape[2], X_train.shape[-1], y_train.shape[1]"
   ]
  },
  {
   "cell_type": "code",
   "execution_count": 34,
   "metadata": {},
   "outputs": [
    {
     "name": "stdout",
     "output_type": "stream",
     "text": [
      "Model: \"sequential_18\"\n",
      "_________________________________________________________________\n",
      " Layer (type)                Output Shape              Param #   \n",
      "=================================================================\n",
      " time_distributed_24 (TimeDi  (None, None, 348, 64)    9280      \n",
      " stributed)                                                      \n",
      "                                                                 \n",
      " time_distributed_25 (TimeDi  (None, None, 348, 32)    0         \n",
      " stributed)                                                      \n",
      "                                                                 \n",
      " time_distributed_26 (TimeDi  (None, None, 11136)      0         \n",
      " stributed)                                                      \n",
      "                                                                 \n",
      " lstm_8 (LSTM)               (None, 100)               4494800   \n",
      "                                                                 \n",
      " dense_32 (Dense)            (None, 100)               10100     \n",
      "                                                                 \n",
      " dense_33 (Dense)            (None, 3)                 303       \n",
      "                                                                 \n",
      "=================================================================\n",
      "Total params: 4,514,483\n",
      "Trainable params: 4,514,483\n",
      "Non-trainable params: 0\n",
      "_________________________________________________________________\n"
     ]
    }
   ],
   "source": [
    "early_fusion_model = get_CNN_model(n_features, n_length, n_outputs)\n",
    "early_fusion_model.summary()"
   ]
  },
  {
   "cell_type": "code",
   "execution_count": 35,
   "metadata": {},
   "outputs": [
    {
     "name": "stdout",
     "output_type": "stream",
     "text": [
      "Epoch 1/50\n",
      "6/6 - 3s - loss: 0.9255 - accuracy: 0.5393 - auc_17: 0.7611 - val_loss: 0.7937 - val_accuracy: 0.6629 - val_auc_17: 0.8174 - 3s/epoch - 461ms/step\n",
      "Epoch 2/50\n",
      "6/6 - 0s - loss: 0.7833 - accuracy: 0.6320 - auc_17: 0.8040 - val_loss: 0.7559 - val_accuracy: 0.6629 - val_auc_17: 0.8156 - 361ms/epoch - 60ms/step\n",
      "Epoch 3/50\n",
      "6/6 - 0s - loss: 0.7508 - accuracy: 0.6320 - auc_17: 0.8053 - val_loss: 0.7444 - val_accuracy: 0.6629 - val_auc_17: 0.8165 - 380ms/epoch - 63ms/step\n",
      "Epoch 4/50\n",
      "6/6 - 0s - loss: 0.7371 - accuracy: 0.6320 - auc_17: 0.8026 - val_loss: 0.7421 - val_accuracy: 0.6629 - val_auc_17: 0.8165 - 383ms/epoch - 64ms/step\n",
      "Epoch 5/50\n",
      "6/6 - 0s - loss: 0.7303 - accuracy: 0.6320 - auc_17: 0.8092 - val_loss: 0.7401 - val_accuracy: 0.6629 - val_auc_17: 0.8165 - 362ms/epoch - 60ms/step\n",
      "Epoch 6/50\n",
      "6/6 - 0s - loss: 0.7271 - accuracy: 0.6320 - auc_17: 0.8049 - val_loss: 0.7426 - val_accuracy: 0.6629 - val_auc_17: 0.8165 - 452ms/epoch - 75ms/step\n",
      "Epoch 7/50\n",
      "6/6 - 0s - loss: 0.7257 - accuracy: 0.6320 - auc_17: 0.8007 - val_loss: 0.7437 - val_accuracy: 0.6629 - val_auc_17: 0.8165 - 365ms/epoch - 61ms/step\n"
     ]
    },
    {
     "data": {
      "image/png": "[encoded data removed]",
      "text/plain": [
       "<Figure size 432x288 with 1 Axes>"
      ]
     },
     "metadata": {
      "needs_background": "light"
     },
     "output_type": "display_data"
    },
    {
     "name": "stdout",
     "output_type": "stream",
     "text": [
      "Epoch 1/50\n",
      "6/6 - 3s - loss: 1.1356 - accuracy: 0.5197 - auc_18: 0.5868 - val_loss: 0.9793 - val_accuracy: 0.6292 - val_auc_18: 0.6349 - 3s/epoch - 429ms/step\n",
      "Epoch 2/50\n",
      "6/6 - 0s - loss: 0.8950 - accuracy: 0.6489 - auc_18: 0.7318 - val_loss: 0.8487 - val_accuracy: 0.6292 - val_auc_18: 0.8100 - 348ms/epoch - 58ms/step\n",
      "Epoch 3/50\n",
      "6/6 - 0s - loss: 0.8166 - accuracy: 0.6489 - auc_18: 0.8142 - val_loss: 0.7901 - val_accuracy: 0.6292 - val_auc_18: 0.8118 - 354ms/epoch - 59ms/step\n",
      "Epoch 4/50\n",
      "6/6 - 0s - loss: 0.7847 - accuracy: 0.6489 - auc_18: 0.8087 - val_loss: 0.7637 - val_accuracy: 0.6292 - val_auc_18: 0.8100 - 361ms/epoch - 60ms/step\n",
      "Epoch 5/50\n",
      "6/6 - 0s - loss: 0.7694 - accuracy: 0.6489 - auc_18: 0.8115 - val_loss: 0.7604 - val_accuracy: 0.6292 - val_auc_18: 0.8118 - 350ms/epoch - 58ms/step\n",
      "Epoch 6/50\n",
      "6/6 - 0s - loss: 0.7658 - accuracy: 0.6489 - auc_18: 0.8096 - val_loss: 0.7523 - val_accuracy: 0.6292 - val_auc_18: 0.8118 - 361ms/epoch - 60ms/step\n",
      "Epoch 7/50\n",
      "6/6 - 0s - loss: 0.7611 - accuracy: 0.6489 - auc_18: 0.8095 - val_loss: 0.7460 - val_accuracy: 0.6292 - val_auc_18: 0.8118 - 365ms/epoch - 61ms/step\n",
      "Epoch 8/50\n",
      "6/6 - 0s - loss: 0.7577 - accuracy: 0.6489 - auc_18: 0.8097 - val_loss: 0.7420 - val_accuracy: 0.6292 - val_auc_18: 0.8118 - 361ms/epoch - 60ms/step\n",
      "Epoch 9/50\n",
      "6/6 - 0s - loss: 0.7553 - accuracy: 0.6489 - auc_18: 0.8152 - val_loss: 0.7389 - val_accuracy: 0.6292 - val_auc_18: 0.8118 - 354ms/epoch - 59ms/step\n",
      "Epoch 10/50\n",
      "6/6 - 0s - loss: 0.7541 - accuracy: 0.6489 - auc_18: 0.8118 - val_loss: 0.7369 - val_accuracy: 0.6292 - val_auc_18: 0.8118 - 349ms/epoch - 58ms/step\n",
      "Epoch 11/50\n",
      "6/6 - 0s - loss: 0.7532 - accuracy: 0.6489 - auc_18: 0.8082 - val_loss: 0.7354 - val_accuracy: 0.6292 - val_auc_18: 0.8118 - 345ms/epoch - 57ms/step\n",
      "Epoch 12/50\n",
      "6/6 - 0s - loss: 0.7525 - accuracy: 0.6489 - auc_18: 0.8100 - val_loss: 0.7347 - val_accuracy: 0.6292 - val_auc_18: 0.8118 - 346ms/epoch - 58ms/step\n",
      "Epoch 13/50\n",
      "6/6 - 0s - loss: 0.7521 - accuracy: 0.6489 - auc_18: 0.8118 - val_loss: 0.7342 - val_accuracy: 0.6292 - val_auc_18: 0.8118 - 337ms/epoch - 56ms/step\n",
      "Epoch 14/50\n",
      "6/6 - 0s - loss: 0.7517 - accuracy: 0.6489 - auc_18: 0.8118 - val_loss: 0.7337 - val_accuracy: 0.6292 - val_auc_18: 0.8118 - 399ms/epoch - 67ms/step\n",
      "Epoch 15/50\n",
      "6/6 - 0s - loss: 0.7515 - accuracy: 0.6489 - auc_18: 0.8118 - val_loss: 0.7334 - val_accuracy: 0.6292 - val_auc_18: 0.8118 - 363ms/epoch - 61ms/step\n",
      "Epoch 16/50\n",
      "6/6 - 0s - loss: 0.7513 - accuracy: 0.6489 - auc_18: 0.8118 - val_loss: 0.7331 - val_accuracy: 0.6292 - val_auc_18: 0.8118 - 420ms/epoch - 70ms/step\n",
      "Epoch 17/50\n",
      "6/6 - 0s - loss: 0.7512 - accuracy: 0.6489 - auc_18: 0.8118 - val_loss: 0.7329 - val_accuracy: 0.6292 - val_auc_18: 0.8118 - 359ms/epoch - 60ms/step\n",
      "Epoch 18/50\n",
      "6/6 - 0s - loss: 0.7511 - accuracy: 0.6489 - auc_18: 0.8118 - val_loss: 0.7328 - val_accuracy: 0.6292 - val_auc_18: 0.8118 - 349ms/epoch - 58ms/step\n",
      "Epoch 19/50\n",
      "6/6 - 0s - loss: 0.7510 - accuracy: 0.6489 - auc_18: 0.8118 - val_loss: 0.7326 - val_accuracy: 0.6292 - val_auc_18: 0.8118 - 349ms/epoch - 58ms/step\n",
      "Epoch 20/50\n",
      "6/6 - 0s - loss: 0.7509 - accuracy: 0.6489 - auc_18: 0.8118 - val_loss: 0.7325 - val_accuracy: 0.6292 - val_auc_18: 0.8118 - 348ms/epoch - 58ms/step\n",
      "Epoch 21/50\n",
      "6/6 - 0s - loss: 0.7509 - accuracy: 0.6489 - auc_18: 0.8118 - val_loss: 0.7324 - val_accuracy: 0.6292 - val_auc_18: 0.8118 - 353ms/epoch - 59ms/step\n",
      "Epoch 22/50\n",
      "6/6 - 0s - loss: 0.7508 - accuracy: 0.6489 - auc_18: 0.8118 - val_loss: 0.7324 - val_accuracy: 0.6292 - val_auc_18: 0.8118 - 447ms/epoch - 74ms/step\n",
      "Epoch 23/50\n",
      "6/6 - 0s - loss: 0.7508 - accuracy: 0.6489 - auc_18: 0.8118 - val_loss: 0.7323 - val_accuracy: 0.6292 - val_auc_18: 0.8118 - 374ms/epoch - 62ms/step\n",
      "Epoch 24/50\n",
      "6/6 - 0s - loss: 0.7508 - accuracy: 0.6489 - auc_18: 0.8118 - val_loss: 0.7323 - val_accuracy: 0.6292 - val_auc_18: 0.8118 - 371ms/epoch - 62ms/step\n",
      "Epoch 25/50\n",
      "6/6 - 0s - loss: 0.7508 - accuracy: 0.6489 - auc_18: 0.8118 - val_loss: 0.7323 - val_accuracy: 0.6292 - val_auc_18: 0.8118 - 350ms/epoch - 58ms/step\n",
      "Epoch 26/50\n",
      "6/6 - 0s - loss: 0.7508 - accuracy: 0.6489 - auc_18: 0.8118 - val_loss: 0.7322 - val_accuracy: 0.6292 - val_auc_18: 0.8118 - 352ms/epoch - 59ms/step\n",
      "Epoch 27/50\n",
      "6/6 - 0s - loss: 0.7507 - accuracy: 0.6489 - auc_18: 0.8118 - val_loss: 0.7322 - val_accuracy: 0.6292 - val_auc_18: 0.8118 - 361ms/epoch - 60ms/step\n",
      "Epoch 28/50\n",
      "6/6 - 0s - loss: 0.7507 - accuracy: 0.6489 - auc_18: 0.8118 - val_loss: 0.7322 - val_accuracy: 0.6292 - val_auc_18: 0.8118 - 405ms/epoch - 68ms/step\n",
      "Epoch 29/50\n",
      "6/6 - 0s - loss: 0.7507 - accuracy: 0.6489 - auc_18: 0.8118 - val_loss: 0.7322 - val_accuracy: 0.6292 - val_auc_18: 0.8118 - 347ms/epoch - 58ms/step\n",
      "Epoch 30/50\n",
      "6/6 - 0s - loss: 0.7507 - accuracy: 0.6489 - auc_18: 0.8118 - val_loss: 0.7322 - val_accuracy: 0.6292 - val_auc_18: 0.8118 - 352ms/epoch - 59ms/step\n",
      "Epoch 31/50\n",
      "6/6 - 0s - loss: 0.7507 - accuracy: 0.6489 - auc_18: 0.8118 - val_loss: 0.7322 - val_accuracy: 0.6292 - val_auc_18: 0.8118 - 346ms/epoch - 58ms/step\n",
      "Epoch 32/50\n",
      "6/6 - 0s - loss: 0.7507 - accuracy: 0.6489 - auc_18: 0.8118 - val_loss: 0.7322 - val_accuracy: 0.6292 - val_auc_18: 0.8118 - 351ms/epoch - 58ms/step\n",
      "Epoch 33/50\n",
      "6/6 - 0s - loss: 0.7507 - accuracy: 0.6489 - auc_18: 0.8118 - val_loss: 0.7322 - val_accuracy: 0.6292 - val_auc_18: 0.8118 - 364ms/epoch - 61ms/step\n",
      "Epoch 34/50\n",
      "6/6 - 0s - loss: 0.7507 - accuracy: 0.6489 - auc_18: 0.8118 - val_loss: 0.7322 - val_accuracy: 0.6292 - val_auc_18: 0.8118 - 347ms/epoch - 58ms/step\n",
      "Epoch 35/50\n",
      "6/6 - 0s - loss: 0.7507 - accuracy: 0.6489 - auc_18: 0.8118 - val_loss: 0.7322 - val_accuracy: 0.6292 - val_auc_18: 0.8118 - 347ms/epoch - 58ms/step\n",
      "Epoch 36/50\n",
      "6/6 - 0s - loss: 0.7507 - accuracy: 0.6489 - auc_18: 0.8118 - val_loss: 0.7322 - val_accuracy: 0.6292 - val_auc_18: 0.8118 - 345ms/epoch - 58ms/step\n",
      "Epoch 37/50\n",
      "6/6 - 0s - loss: 0.7507 - accuracy: 0.6489 - auc_18: 0.8118 - val_loss: 0.7322 - val_accuracy: 0.6292 - val_auc_18: 0.8118 - 346ms/epoch - 58ms/step\n",
      "Epoch 38/50\n",
      "6/6 - 0s - loss: 0.7507 - accuracy: 0.6489 - auc_18: 0.8118 - val_loss: 0.7322 - val_accuracy: 0.6292 - val_auc_18: 0.8118 - 344ms/epoch - 57ms/step\n",
      "Epoch 39/50\n",
      "6/6 - 0s - loss: 0.7507 - accuracy: 0.6489 - auc_18: 0.8118 - val_loss: 0.7322 - val_accuracy: 0.6292 - val_auc_18: 0.8118 - 350ms/epoch - 58ms/step\n",
      "Epoch 40/50\n",
      "6/6 - 0s - loss: 0.7507 - accuracy: 0.6489 - auc_18: 0.8118 - val_loss: 0.7322 - val_accuracy: 0.6292 - val_auc_18: 0.8118 - 345ms/epoch - 58ms/step\n",
      "Epoch 41/50\n",
      "6/6 - 0s - loss: 0.7507 - accuracy: 0.6489 - auc_18: 0.8118 - val_loss: 0.7322 - val_accuracy: 0.6292 - val_auc_18: 0.8118 - 351ms/epoch - 59ms/step\n",
      "Epoch 42/50\n",
      "6/6 - 0s - loss: 0.7507 - accuracy: 0.6489 - auc_18: 0.8118 - val_loss: 0.7322 - val_accuracy: 0.6292 - val_auc_18: 0.8118 - 345ms/epoch - 57ms/step\n",
      "Epoch 43/50\n",
      "6/6 - 0s - loss: 0.7507 - accuracy: 0.6489 - auc_18: 0.8118 - val_loss: 0.7322 - val_accuracy: 0.6292 - val_auc_18: 0.8118 - 339ms/epoch - 57ms/step\n",
      "Epoch 44/50\n",
      "6/6 - 0s - loss: 0.7507 - accuracy: 0.6489 - auc_18: 0.8118 - val_loss: 0.7322 - val_accuracy: 0.6292 - val_auc_18: 0.8118 - 338ms/epoch - 56ms/step\n",
      "Epoch 45/50\n",
      "6/6 - 0s - loss: 0.7507 - accuracy: 0.6489 - auc_18: 0.8118 - val_loss: 0.7322 - val_accuracy: 0.6292 - val_auc_18: 0.8118 - 343ms/epoch - 57ms/step\n",
      "Epoch 46/50\n",
      "6/6 - 0s - loss: 0.7507 - accuracy: 0.6489 - auc_18: 0.8118 - val_loss: 0.7322 - val_accuracy: 0.6292 - val_auc_18: 0.8118 - 336ms/epoch - 56ms/step\n",
      "Epoch 47/50\n",
      "6/6 - 0s - loss: 0.7507 - accuracy: 0.6489 - auc_18: 0.8118 - val_loss: 0.7322 - val_accuracy: 0.6292 - val_auc_18: 0.8118 - 341ms/epoch - 57ms/step\n"
     ]
    },
    {
     "data": {
      "image/png": "[encoded data removed]",
      "text/plain": [
       "<Figure size 432x288 with 1 Axes>"
      ]
     },
     "metadata": {
      "needs_background": "light"
     },
     "output_type": "display_data"
    },
    {
     "name": "stdout",
     "output_type": "stream",
     "text": [
      "Epoch 1/50\n",
      "6/6 - 3s - loss: 1.0373 - accuracy: 0.3202 - auc_19: 0.6165 - val_loss: 0.9161 - val_accuracy: 0.6348 - val_auc_19: 0.8080 - 3s/epoch - 464ms/step\n",
      "Epoch 2/50\n",
      "6/6 - 0s - loss: 0.8835 - accuracy: 0.6461 - auc_19: 0.8085 - val_loss: 0.8451 - val_accuracy: 0.6348 - val_auc_19: 0.8030 - 432ms/epoch - 72ms/step\n",
      "Epoch 3/50\n",
      "6/6 - 0s - loss: 0.8096 - accuracy: 0.6461 - auc_19: 0.8205 - val_loss: 0.7909 - val_accuracy: 0.6348 - val_auc_19: 0.8062 - 406ms/epoch - 68ms/step\n",
      "Epoch 4/50\n",
      "6/6 - 0s - loss: 0.7723 - accuracy: 0.6461 - auc_19: 0.8190 - val_loss: 0.7801 - val_accuracy: 0.6348 - val_auc_19: 0.8062 - 430ms/epoch - 72ms/step\n",
      "Epoch 5/50\n",
      "6/6 - 0s - loss: 0.7629 - accuracy: 0.6461 - auc_19: 0.8085 - val_loss: 0.7738 - val_accuracy: 0.6348 - val_auc_19: 0.8079 - 385ms/epoch - 64ms/step\n",
      "Epoch 6/50\n",
      "6/6 - 0s - loss: 0.7561 - accuracy: 0.6461 - auc_19: 0.8165 - val_loss: 0.7691 - val_accuracy: 0.6348 - val_auc_19: 0.8079 - 333ms/epoch - 55ms/step\n",
      "Epoch 7/50\n",
      "6/6 - 0s - loss: 0.7527 - accuracy: 0.6461 - auc_19: 0.8074 - val_loss: 0.7715 - val_accuracy: 0.6348 - val_auc_19: 0.8043 - 352ms/epoch - 59ms/step\n",
      "Epoch 8/50\n",
      "6/6 - 0s - loss: 0.7553 - accuracy: 0.6461 - auc_19: 0.8092 - val_loss: 0.7691 - val_accuracy: 0.6348 - val_auc_19: 0.8043 - 347ms/epoch - 58ms/step\n",
      "Epoch 9/50\n",
      "6/6 - 0s - loss: 0.7527 - accuracy: 0.6461 - auc_19: 0.8144 - val_loss: 0.7673 - val_accuracy: 0.6348 - val_auc_19: 0.8061 - 350ms/epoch - 58ms/step\n",
      "Epoch 10/50\n",
      "6/6 - 0s - loss: 0.7509 - accuracy: 0.6461 - auc_19: 0.8146 - val_loss: 0.7661 - val_accuracy: 0.6348 - val_auc_19: 0.8062 - 369ms/epoch - 62ms/step\n",
      "Epoch 11/50\n",
      "6/6 - 0s - loss: 0.7497 - accuracy: 0.6461 - auc_19: 0.8152 - val_loss: 0.7652 - val_accuracy: 0.6348 - val_auc_19: 0.8062 - 458ms/epoch - 76ms/step\n",
      "Epoch 12/50\n",
      "6/6 - 0s - loss: 0.7488 - accuracy: 0.6461 - auc_19: 0.8143 - val_loss: 0.7645 - val_accuracy: 0.6348 - val_auc_19: 0.8061 - 438ms/epoch - 73ms/step\n",
      "Epoch 13/50\n",
      "6/6 - 0s - loss: 0.7481 - accuracy: 0.6461 - auc_19: 0.8146 - val_loss: 0.7640 - val_accuracy: 0.6348 - val_auc_19: 0.8061 - 383ms/epoch - 64ms/step\n",
      "Epoch 14/50\n",
      "6/6 - 0s - loss: 0.7477 - accuracy: 0.6461 - auc_19: 0.8146 - val_loss: 0.7637 - val_accuracy: 0.6348 - val_auc_19: 0.8062 - 405ms/epoch - 67ms/step\n",
      "Epoch 15/50\n",
      "6/6 - 0s - loss: 0.7473 - accuracy: 0.6461 - auc_19: 0.8146 - val_loss: 0.7635 - val_accuracy: 0.6348 - val_auc_19: 0.8062 - 359ms/epoch - 60ms/step\n",
      "Epoch 16/50\n",
      "6/6 - 0s - loss: 0.7470 - accuracy: 0.6461 - auc_19: 0.8146 - val_loss: 0.7633 - val_accuracy: 0.6348 - val_auc_19: 0.8062 - 355ms/epoch - 59ms/step\n",
      "Epoch 17/50\n",
      "6/6 - 0s - loss: 0.7469 - accuracy: 0.6461 - auc_19: 0.8089 - val_loss: 0.7631 - val_accuracy: 0.6348 - val_auc_19: 0.8043 - 346ms/epoch - 58ms/step\n",
      "Epoch 18/50\n",
      "6/6 - 0s - loss: 0.7467 - accuracy: 0.6461 - auc_19: 0.8146 - val_loss: 0.7630 - val_accuracy: 0.6348 - val_auc_19: 0.8043 - 347ms/epoch - 58ms/step\n",
      "Epoch 19/50\n",
      "6/6 - 0s - loss: 0.7466 - accuracy: 0.6461 - auc_19: 0.8146 - val_loss: 0.7629 - val_accuracy: 0.6348 - val_auc_19: 0.8043 - 340ms/epoch - 57ms/step\n",
      "Epoch 20/50\n",
      "6/6 - 0s - loss: 0.7465 - accuracy: 0.6461 - auc_19: 0.8146 - val_loss: 0.7628 - val_accuracy: 0.6348 - val_auc_19: 0.8043 - 347ms/epoch - 58ms/step\n",
      "Epoch 21/50\n",
      "6/6 - 0s - loss: 0.7464 - accuracy: 0.6461 - auc_19: 0.8146 - val_loss: 0.7628 - val_accuracy: 0.6348 - val_auc_19: 0.8043 - 344ms/epoch - 57ms/step\n",
      "Epoch 22/50\n",
      "6/6 - 0s - loss: 0.7464 - accuracy: 0.6461 - auc_19: 0.8146 - val_loss: 0.7627 - val_accuracy: 0.6348 - val_auc_19: 0.8043 - 360ms/epoch - 60ms/step\n",
      "Epoch 23/50\n",
      "6/6 - 0s - loss: 0.7463 - accuracy: 0.6461 - auc_19: 0.8146 - val_loss: 0.7627 - val_accuracy: 0.6348 - val_auc_19: 0.8043 - 360ms/epoch - 60ms/step\n",
      "Epoch 24/50\n",
      "6/6 - 0s - loss: 0.7463 - accuracy: 0.6461 - auc_19: 0.8146 - val_loss: 0.7627 - val_accuracy: 0.6348 - val_auc_19: 0.8043 - 345ms/epoch - 58ms/step\n",
      "Epoch 25/50\n",
      "6/6 - 0s - loss: 0.7463 - accuracy: 0.6461 - auc_19: 0.8146 - val_loss: 0.7626 - val_accuracy: 0.6348 - val_auc_19: 0.8043 - 335ms/epoch - 56ms/step\n",
      "Epoch 26/50\n",
      "6/6 - 0s - loss: 0.7463 - accuracy: 0.6461 - auc_19: 0.8146 - val_loss: 0.7626 - val_accuracy: 0.6348 - val_auc_19: 0.8043 - 340ms/epoch - 57ms/step\n",
      "Epoch 27/50\n",
      "6/6 - 0s - loss: 0.7462 - accuracy: 0.6461 - auc_19: 0.8146 - val_loss: 0.7626 - val_accuracy: 0.6348 - val_auc_19: 0.8043 - 339ms/epoch - 56ms/step\n",
      "Epoch 28/50\n",
      "6/6 - 0s - loss: 0.7462 - accuracy: 0.6461 - auc_19: 0.8146 - val_loss: 0.7626 - val_accuracy: 0.6348 - val_auc_19: 0.8043 - 341ms/epoch - 57ms/step\n",
      "Epoch 29/50\n",
      "6/6 - 0s - loss: 0.7462 - accuracy: 0.6461 - auc_19: 0.8146 - val_loss: 0.7626 - val_accuracy: 0.6348 - val_auc_19: 0.8043 - 342ms/epoch - 57ms/step\n",
      "Epoch 30/50\n",
      "6/6 - 0s - loss: 0.7462 - accuracy: 0.6461 - auc_19: 0.8146 - val_loss: 0.7626 - val_accuracy: 0.6348 - val_auc_19: 0.8043 - 343ms/epoch - 57ms/step\n",
      "Epoch 31/50\n",
      "6/6 - 0s - loss: 0.7462 - accuracy: 0.6461 - auc_19: 0.8146 - val_loss: 0.7626 - val_accuracy: 0.6348 - val_auc_19: 0.8043 - 333ms/epoch - 55ms/step\n",
      "Epoch 32/50\n",
      "6/6 - 0s - loss: 0.7462 - accuracy: 0.6461 - auc_19: 0.8146 - val_loss: 0.7626 - val_accuracy: 0.6348 - val_auc_19: 0.8043 - 339ms/epoch - 57ms/step\n",
      "Epoch 33/50\n",
      "6/6 - 0s - loss: 0.7462 - accuracy: 0.6461 - auc_19: 0.8146 - val_loss: 0.7626 - val_accuracy: 0.6348 - val_auc_19: 0.8043 - 341ms/epoch - 57ms/step\n",
      "Epoch 34/50\n",
      "6/6 - 0s - loss: 0.7462 - accuracy: 0.6461 - auc_19: 0.8146 - val_loss: 0.7626 - val_accuracy: 0.6348 - val_auc_19: 0.8043 - 343ms/epoch - 57ms/step\n",
      "Epoch 35/50\n",
      "6/6 - 0s - loss: 0.7462 - accuracy: 0.6461 - auc_19: 0.8146 - val_loss: 0.7626 - val_accuracy: 0.6348 - val_auc_19: 0.8043 - 336ms/epoch - 56ms/step\n",
      "Epoch 36/50\n",
      "6/6 - 0s - loss: 0.7462 - accuracy: 0.6461 - auc_19: 0.8146 - val_loss: 0.7626 - val_accuracy: 0.6348 - val_auc_19: 0.8043 - 337ms/epoch - 56ms/step\n",
      "Epoch 37/50\n",
      "6/6 - 0s - loss: 0.7462 - accuracy: 0.6461 - auc_19: 0.8146 - val_loss: 0.7626 - val_accuracy: 0.6348 - val_auc_19: 0.8043 - 335ms/epoch - 56ms/step\n",
      "Epoch 38/50\n",
      "6/6 - 0s - loss: 0.7462 - accuracy: 0.6461 - auc_19: 0.8146 - val_loss: 0.7626 - val_accuracy: 0.6348 - val_auc_19: 0.8043 - 340ms/epoch - 57ms/step\n",
      "Epoch 39/50\n",
      "6/6 - 0s - loss: 0.7462 - accuracy: 0.6461 - auc_19: 0.8146 - val_loss: 0.7626 - val_accuracy: 0.6348 - val_auc_19: 0.8043 - 334ms/epoch - 56ms/step\n",
      "Epoch 40/50\n",
      "6/6 - 0s - loss: 0.7462 - accuracy: 0.6461 - auc_19: 0.8146 - val_loss: 0.7626 - val_accuracy: 0.6348 - val_auc_19: 0.8043 - 341ms/epoch - 57ms/step\n",
      "Epoch 41/50\n",
      "6/6 - 0s - loss: 0.7462 - accuracy: 0.6461 - auc_19: 0.8146 - val_loss: 0.7626 - val_accuracy: 0.6348 - val_auc_19: 0.8043 - 341ms/epoch - 57ms/step\n",
      "Epoch 42/50\n",
      "6/6 - 0s - loss: 0.7462 - accuracy: 0.6461 - auc_19: 0.8146 - val_loss: 0.7626 - val_accuracy: 0.6348 - val_auc_19: 0.8043 - 335ms/epoch - 56ms/step\n",
      "Epoch 43/50\n",
      "6/6 - 0s - loss: 0.7462 - accuracy: 0.6461 - auc_19: 0.8146 - val_loss: 0.7626 - val_accuracy: 0.6348 - val_auc_19: 0.8043 - 338ms/epoch - 56ms/step\n",
      "Epoch 44/50\n",
      "6/6 - 0s - loss: 0.7462 - accuracy: 0.6461 - auc_19: 0.8146 - val_loss: 0.7626 - val_accuracy: 0.6348 - val_auc_19: 0.8043 - 343ms/epoch - 57ms/step\n",
      "Epoch 45/50\n",
      "6/6 - 0s - loss: 0.7462 - accuracy: 0.6461 - auc_19: 0.8146 - val_loss: 0.7626 - val_accuracy: 0.6348 - val_auc_19: 0.8043 - 334ms/epoch - 56ms/step\n",
      "Epoch 46/50\n",
      "6/6 - 0s - loss: 0.7462 - accuracy: 0.6461 - auc_19: 0.8146 - val_loss: 0.7626 - val_accuracy: 0.6348 - val_auc_19: 0.8043 - 336ms/epoch - 56ms/step\n"
     ]
    },
    {
     "data": {
      "image/png": "[encoded data removed]",
      "text/plain": [
       "<Figure size 432x288 with 1 Axes>"
      ]
     },
     "metadata": {
      "needs_background": "light"
     },
     "output_type": "display_data"
    }
   ],
   "source": [
    "kf = KFold(n_splits=3, shuffle=True, random_state=42)\n",
    "X = X_train.copy()\n",
    "y = y_train.copy()\n",
    "for train_index, val_index in kf.split(X):\n",
    "    X_train, X_val = X[train_index], X[val_index]\n",
    "    y_train, y_val = y[train_index], y[val_index]\n",
    "    early_fusion_model = get_CNN_model(n_features, n_length, n_outputs)\n",
    "    history = train(early_fusion_model, X_train, y_train, X_val, y_val, epochs=epochs, batch_size=batch_size)\n",
    "    plt.plot(history.history['loss'])\n",
    "    plt.show()"
   ]
  },
  {
   "cell_type": "code",
   "execution_count": 36,
   "metadata": {},
   "outputs": [
    {
     "name": "stdout",
     "output_type": "stream",
     "text": [
      "\n",
      "Accuracy: 77.778%\n",
      "\n",
      "AUC: 0.8704\n"
     ]
    }
   ],
   "source": [
    "loss, accuracy, auc = early_fusion_model.evaluate(X_test, y_test, batch_size=batch_size, verbose=0)\n",
    "score = accuracy * 100\n",
    "accuracies.append(round(score, 2))\n",
    "aucs.append(round(auc * 100, 2))\n",
    "print('\\nAccuracy: %.3f%%' % score)\n",
    "print('\\nAUC:', round(auc, 4))"
   ]
  },
  {
   "cell_type": "markdown",
   "metadata": {},
   "source": [
    "#### Train Convolutional LSTM Model (from uni-modal architectures)"
   ]
  },
  {
   "cell_type": "code",
   "execution_count": 37,
   "metadata": {},
   "outputs": [
    {
     "name": "stdout",
     "output_type": "stream",
     "text": [
      "Model: \"sequential_22\"\n",
      "_________________________________________________________________\n",
      " Layer (type)                Output Shape              Param #   \n",
      "=================================================================\n",
      " conv_lstm1d_8 (ConvLSTM1D)  (None, 348, 64)           86272     \n",
      "                                                                 \n",
      " flatten_20 (Flatten)        (None, 22272)             0         \n",
      "                                                                 \n",
      " dense_40 (Dense)            (None, 100)               2227300   \n",
      "                                                                 \n",
      " dense_41 (Dense)            (None, 3)                 303       \n",
      "                                                                 \n",
      "=================================================================\n",
      "Total params: 2,313,875\n",
      "Trainable params: 2,313,875\n",
      "Non-trainable params: 0\n",
      "_________________________________________________________________\n"
     ]
    }
   ],
   "source": [
    "early_fusion_model = get_convLSTM_model(n_features, n_length, n_outputs)\n",
    "early_fusion_model.summary()"
   ]
  },
  {
   "cell_type": "code",
   "execution_count": 38,
   "metadata": {},
   "outputs": [
    {
     "name": "stdout",
     "output_type": "stream",
     "text": [
      "Epoch 1/50\n",
      "4/4 - 3s - loss: 74.0205 - accuracy: 0.4515 - auc_21: 0.5979 - val_loss: 29.7476 - val_accuracy: 0.5882 - val_auc_21: 0.6940 - 3s/epoch - 871ms/step\n",
      "Epoch 2/50\n",
      "4/4 - 1s - loss: 18.1919 - accuracy: 0.6540 - auc_21: 0.7389 - val_loss: 4.8360 - val_accuracy: 0.5798 - val_auc_21: 0.7026 - 681ms/epoch - 170ms/step\n",
      "Epoch 3/50\n",
      "4/4 - 1s - loss: 2.0575 - accuracy: 0.6245 - auc_21: 0.7398 - val_loss: 1.2712 - val_accuracy: 0.6134 - val_auc_21: 0.7021 - 683ms/epoch - 171ms/step\n",
      "Epoch 4/50\n",
      "4/4 - 1s - loss: 1.1491 - accuracy: 0.6540 - auc_21: 0.7395 - val_loss: 1.0994 - val_accuracy: 0.6218 - val_auc_21: 0.7127 - 645ms/epoch - 161ms/step\n",
      "Epoch 5/50\n",
      "4/4 - 1s - loss: 1.0730 - accuracy: 0.6582 - auc_21: 0.7465 - val_loss: 1.0712 - val_accuracy: 0.6218 - val_auc_21: 0.7795 - 707ms/epoch - 177ms/step\n",
      "Epoch 6/50\n",
      "4/4 - 1s - loss: 1.0783 - accuracy: 0.6582 - auc_21: 0.8184 - val_loss: 1.0687 - val_accuracy: 0.6218 - val_auc_21: 0.7818 - 804ms/epoch - 201ms/step\n",
      "Epoch 7/50\n",
      "4/4 - 1s - loss: 1.0709 - accuracy: 0.6582 - auc_21: 0.7637 - val_loss: 1.0702 - val_accuracy: 0.6050 - val_auc_21: 0.7304 - 631ms/epoch - 158ms/step\n",
      "Epoch 8/50\n",
      "4/4 - 1s - loss: 1.0701 - accuracy: 0.6582 - auc_21: 0.7398 - val_loss: 1.0691 - val_accuracy: 0.6050 - val_auc_21: 0.7283 - 635ms/epoch - 159ms/step\n"
     ]
    },
    {
     "data": {
      "image/png": "[encoded data removed]",
      "text/plain": [
       "<Figure size 432x288 with 1 Axes>"
      ]
     },
     "metadata": {
      "needs_background": "light"
     },
     "output_type": "display_data"
    },
    {
     "name": "stdout",
     "output_type": "stream",
     "text": [
      "Epoch 1/50\n",
      "4/4 - 3s - loss: 73.8700 - accuracy: 0.5190 - auc_22: 0.6573 - val_loss: 24.3975 - val_accuracy: 0.4286 - val_auc_22: 0.5730 - 3s/epoch - 743ms/step\n",
      "Epoch 2/50\n",
      "4/4 - 1s - loss: 19.8680 - accuracy: 0.4852 - auc_22: 0.6208 - val_loss: 7.4271 - val_accuracy: 0.5882 - val_auc_22: 0.7085 - 623ms/epoch - 156ms/step\n",
      "Epoch 3/50\n",
      "4/4 - 1s - loss: 6.9819 - accuracy: 0.5612 - auc_22: 0.7171 - val_loss: 1.9029 - val_accuracy: 0.5378 - val_auc_22: 0.7700 - 616ms/epoch - 154ms/step\n",
      "Epoch 4/50\n",
      "4/4 - 1s - loss: 3.1273 - accuracy: 0.5359 - auc_22: 0.7592 - val_loss: 1.4019 - val_accuracy: 0.5966 - val_auc_22: 0.8109 - 620ms/epoch - 155ms/step\n",
      "Epoch 5/50\n",
      "4/4 - 1s - loss: 2.1572 - accuracy: 0.6203 - auc_22: 0.8173 - val_loss: 0.9942 - val_accuracy: 0.5126 - val_auc_22: 0.7787 - 608ms/epoch - 152ms/step\n",
      "Epoch 6/50\n",
      "4/4 - 1s - loss: 1.7491 - accuracy: 0.6160 - auc_22: 0.8108 - val_loss: 0.9005 - val_accuracy: 0.5126 - val_auc_22: 0.7863 - 615ms/epoch - 154ms/step\n",
      "Epoch 7/50\n",
      "4/4 - 1s - loss: 1.5289 - accuracy: 0.6287 - auc_22: 0.8237 - val_loss: 0.9305 - val_accuracy: 0.5630 - val_auc_22: 0.7874 - 606ms/epoch - 152ms/step\n",
      "Epoch 8/50\n",
      "4/4 - 1s - loss: 1.2997 - accuracy: 0.6709 - auc_22: 0.8266 - val_loss: 0.8416 - val_accuracy: 0.5462 - val_auc_22: 0.7681 - 600ms/epoch - 150ms/step\n",
      "Epoch 9/50\n",
      "4/4 - 1s - loss: 1.2016 - accuracy: 0.6371 - auc_22: 0.8183 - val_loss: 0.7853 - val_accuracy: 0.5966 - val_auc_22: 0.7885 - 615ms/epoch - 154ms/step\n",
      "Epoch 10/50\n",
      "4/4 - 1s - loss: 1.0898 - accuracy: 0.6667 - auc_22: 0.8301 - val_loss: 0.7723 - val_accuracy: 0.6218 - val_auc_22: 0.8113 - 603ms/epoch - 151ms/step\n",
      "Epoch 11/50\n",
      "4/4 - 1s - loss: 1.0424 - accuracy: 0.6835 - auc_22: 0.8350 - val_loss: 0.7753 - val_accuracy: 0.6639 - val_auc_22: 0.8152 - 611ms/epoch - 153ms/step\n",
      "Epoch 12/50\n",
      "4/4 - 1s - loss: 0.9950 - accuracy: 0.6835 - auc_22: 0.8379 - val_loss: 0.7782 - val_accuracy: 0.6471 - val_auc_22: 0.8120 - 629ms/epoch - 157ms/step\n"
     ]
    },
    {
     "data": {
      "image/png": "[encoded data removed]",
      "text/plain": [
       "<Figure size 432x288 with 1 Axes>"
      ]
     },
     "metadata": {
      "needs_background": "light"
     },
     "output_type": "display_data"
    },
    {
     "name": "stdout",
     "output_type": "stream",
     "text": [
      "Epoch 1/50\n",
      "4/4 - 3s - loss: 342.1478 - accuracy: 0.5000 - auc_23: 0.6239 - val_loss: 42.2357 - val_accuracy: 0.6949 - val_auc_23: 0.7712 - 3s/epoch - 838ms/step\n",
      "Epoch 2/50\n",
      "4/4 - 1s - loss: 41.1230 - accuracy: 0.5252 - auc_23: 0.6401 - val_loss: 8.6429 - val_accuracy: 0.6949 - val_auc_23: 0.7712 - 619ms/epoch - 155ms/step\n",
      "Epoch 3/50\n",
      "4/4 - 1s - loss: 5.6577 - accuracy: 0.5672 - auc_23: 0.7099 - val_loss: 7.5512 - val_accuracy: 0.2881 - val_auc_23: 0.4631 - 609ms/epoch - 152ms/step\n",
      "Epoch 4/50\n",
      "4/4 - 1s - loss: 3.4287 - accuracy: 0.5798 - auc_23: 0.6875 - val_loss: 4.1606 - val_accuracy: 0.2797 - val_auc_23: 0.5962 - 616ms/epoch - 154ms/step\n",
      "Epoch 5/50\n",
      "4/4 - 1s - loss: 2.7440 - accuracy: 0.4328 - auc_23: 0.6682 - val_loss: 2.8397 - val_accuracy: 0.6864 - val_auc_23: 0.8038 - 609ms/epoch - 152ms/step\n",
      "Epoch 6/50\n",
      "4/4 - 1s - loss: 2.1975 - accuracy: 0.6050 - auc_23: 0.7702 - val_loss: 3.6328 - val_accuracy: 0.3051 - val_auc_23: 0.6261 - 614ms/epoch - 154ms/step\n",
      "Epoch 7/50\n",
      "4/4 - 1s - loss: 2.0205 - accuracy: 0.5042 - auc_23: 0.7339 - val_loss: 1.8601 - val_accuracy: 0.6864 - val_auc_23: 0.8435 - 619ms/epoch - 155ms/step\n",
      "Epoch 8/50\n",
      "4/4 - 1s - loss: 1.4567 - accuracy: 0.5966 - auc_23: 0.7962 - val_loss: 1.9657 - val_accuracy: 0.4068 - val_auc_23: 0.6840 - 609ms/epoch - 152ms/step\n",
      "Epoch 9/50\n",
      "4/4 - 1s - loss: 1.2755 - accuracy: 0.5126 - auc_23: 0.7556 - val_loss: 1.5828 - val_accuracy: 0.6949 - val_auc_23: 0.8456 - 605ms/epoch - 151ms/step\n",
      "Epoch 10/50\n",
      "4/4 - 1s - loss: 1.2078 - accuracy: 0.6176 - auc_23: 0.8104 - val_loss: 1.6587 - val_accuracy: 0.5678 - val_auc_23: 0.7667 - 603ms/epoch - 151ms/step\n",
      "Epoch 11/50\n",
      "4/4 - 1s - loss: 1.1561 - accuracy: 0.5378 - auc_23: 0.7707 - val_loss: 1.5724 - val_accuracy: 0.5508 - val_auc_23: 0.8072 - 599ms/epoch - 150ms/step\n",
      "Epoch 12/50\n",
      "4/4 - 1s - loss: 1.1378 - accuracy: 0.5840 - auc_23: 0.8033 - val_loss: 1.5388 - val_accuracy: 0.5932 - val_auc_23: 0.8231 - 603ms/epoch - 151ms/step\n",
      "Epoch 13/50\n",
      "4/4 - 1s - loss: 1.1124 - accuracy: 0.5630 - auc_23: 0.8008 - val_loss: 1.5810 - val_accuracy: 0.5678 - val_auc_23: 0.7834 - 606ms/epoch - 151ms/step\n",
      "Epoch 14/50\n",
      "4/4 - 1s - loss: 1.1122 - accuracy: 0.5420 - auc_23: 0.7914 - val_loss: 1.5263 - val_accuracy: 0.5593 - val_auc_23: 0.8168 - 607ms/epoch - 152ms/step\n",
      "Epoch 15/50\n",
      "4/4 - 1s - loss: 1.1043 - accuracy: 0.5840 - auc_23: 0.8054 - val_loss: 1.5178 - val_accuracy: 0.5424 - val_auc_23: 0.8168 - 613ms/epoch - 153ms/step\n",
      "Epoch 16/50\n",
      "4/4 - 1s - loss: 1.0949 - accuracy: 0.5714 - auc_23: 0.8007 - val_loss: 1.5379 - val_accuracy: 0.5508 - val_auc_23: 0.7977 - 600ms/epoch - 150ms/step\n",
      "Epoch 17/50\n",
      "4/4 - 1s - loss: 1.0922 - accuracy: 0.5420 - auc_23: 0.7974 - val_loss: 1.5100 - val_accuracy: 0.5424 - val_auc_23: 0.8122 - 592ms/epoch - 148ms/step\n",
      "Epoch 18/50\n",
      "4/4 - 1s - loss: 1.0878 - accuracy: 0.5840 - auc_23: 0.8056 - val_loss: 1.4868 - val_accuracy: 0.6186 - val_auc_23: 0.8281 - 602ms/epoch - 150ms/step\n",
      "Epoch 19/50\n",
      "4/4 - 1s - loss: 1.0839 - accuracy: 0.6050 - auc_23: 0.8077 - val_loss: 1.4960 - val_accuracy: 0.5508 - val_auc_23: 0.8170 - 602ms/epoch - 151ms/step\n",
      "Epoch 20/50\n",
      "4/4 - 1s - loss: 1.0823 - accuracy: 0.5630 - auc_23: 0.8015 - val_loss: 1.5016 - val_accuracy: 0.5508 - val_auc_23: 0.8101 - 601ms/epoch - 150ms/step\n"
     ]
    },
    {
     "data": {
      "image/png": "[encoded data removed]",
      "text/plain": [
       "<Figure size 432x288 with 1 Axes>"
      ]
     },
     "metadata": {
      "needs_background": "light"
     },
     "output_type": "display_data"
    }
   ],
   "source": [
    "kf = KFold(n_splits=3, shuffle=True, random_state=42)\n",
    "X = X_train.copy()\n",
    "y = y_train.copy()\n",
    "for train_index, val_index in kf.split(X):\n",
    "    X_train, X_val = X[train_index], X[val_index]\n",
    "    y_train, y_val = y[train_index], y[val_index]\n",
    "    early_fusion_model = get_convLSTM_model(n_features, n_length, n_outputs)\n",
    "    history = train(early_fusion_model, X_train, y_train, X_val, y_val, epochs=epochs, batch_size=batch_size)\n",
    "    plt.plot(history.history['loss'])\n",
    "    plt.show()"
   ]
  },
  {
   "cell_type": "code",
   "execution_count": 39,
   "metadata": {},
   "outputs": [
    {
     "name": "stdout",
     "output_type": "stream",
     "text": [
      "\n",
      "Accuracy: 56.790%\n",
      "\n",
      "AUC: 0.7584\n"
     ]
    }
   ],
   "source": [
    "loss, accuracy, auc = early_fusion_model.evaluate(X_test, y_test, batch_size=batch_size, verbose=0)\n",
    "score = accuracy * 100\n",
    "accuracies.append(round(score, 2))\n",
    "aucs.append(round(auc * 100, 2))\n",
    "print('\\nAccuracy: %.3f%%' % score)\n",
    "print('\\nAUC:', round(auc, 4))"
   ]
  },
  {
   "cell_type": "markdown",
   "metadata": {},
   "source": [
    "## 2. Late Fusion - Fusion is performed at decision level \"pre-training\"\n",
    "\n",
    "I consider late fusion by integrating outputs of individual trained classifiers (one per modality, same output label as the label at the end). Each ensemble member provides prediction scores that are aggregated to train a meta-learner (stacking ensemble). The ensemble is in charge of producing\n",
    "the final classification. \n",
    "\n",
    "Fusion mechanisms/schemes used:\n",
    "\n",
    "- (Unweighted) Majority voting. If the combination has a tie, we use the class probability (confidence score) to break the tie.\n",
    "\n",
    "- Weighted voting\n",
    "\n",
    "- Weighted sum\n",
    "\n",
    "A drawback with the ensemble approach is that I only work with two modalities, so there's no ensemble if one modality is missing. It would have been more interesting with 3+ modalities. Additionally, I can't use models that require different input shapes (=slightly limiting)."
   ]
  },
  {
   "cell_type": "markdown",
   "metadata": {},
   "source": [
    "### 2.1 Pain area prediction"
   ]
  },
  {
   "cell_type": "code",
   "execution_count": null,
   "metadata": {},
   "outputs": [],
   "source": []
  },
  {
   "cell_type": "markdown",
   "metadata": {},
   "source": [
    "### 2.2 Pain level prediction"
   ]
  },
  {
   "cell_type": "code",
   "execution_count": null,
   "metadata": {},
   "outputs": [],
   "source": []
  },
  {
   "cell_type": "markdown",
   "metadata": {},
   "source": [
    "## 3. Results"
   ]
  },
  {
   "cell_type": "code",
   "execution_count": 40,
   "metadata": {},
   "outputs": [],
   "source": [
    "def show_results(first, last):\n",
    "    plt.rcParams['figure.figsize'] = (8,8)\n",
    "    x = np.arange(len(model_names[first:last]))\n",
    "    width = 0.35\n",
    "\n",
    "    fig, ax = plt.subplots()\n",
    "    rects1 = ax.bar(x - width/2, accuracies[first:last], width, label='Accuracy')\n",
    "    rects2 = ax.bar(x + width/2, aucs[first:last], width, label='AUC * 100')\n",
    "\n",
    "    ax.set_ylim(0, 100)\n",
    "    ax.set_xticks(x, model_names[first:last])\n",
    "    ax.legend()\n",
    "\n",
    "    ax.bar_label(rects1, padding=3)\n",
    "    ax.bar_label(rects2, padding=3)\n",
    "\n",
    "    fig.tight_layout()\n",
    "\n",
    "    plt.show()"
   ]
  },
  {
   "cell_type": "markdown",
   "metadata": {},
   "source": [
    "### Early fusion - Pain area prediction \n",
    "\n",
    "CNN+LSTM vs Convolutional LSTM"
   ]
  },
  {
   "cell_type": "code",
   "execution_count": 41,
   "metadata": {},
   "outputs": [
    {
     "data": {
      "image/png": "[encoded data removed]",
      "text/plain": [
       "<Figure size 576x576 with 1 Axes>"
      ]
     },
     "metadata": {
      "needs_background": "light"
     },
     "output_type": "display_data"
    }
   ],
   "source": [
    "show_results(0, 2)"
   ]
  },
  {
   "cell_type": "markdown",
   "metadata": {},
   "source": [
    "### Early fusion - Pain level prediction \n",
    "\n",
    "CNN+LSTM vs Convolutional LSTM"
   ]
  },
  {
   "cell_type": "code",
   "execution_count": 42,
   "metadata": {},
   "outputs": [
    {
     "data": {
      "image/png": "[encoded data removed]",
      "text/plain": [
       "<Figure size 576x576 with 1 Axes>"
      ]
     },
     "metadata": {
      "needs_background": "light"
     },
     "output_type": "display_data"
    }
   ],
   "source": [
    "show_results(2, 4)"
   ]
  }
 ],
 "metadata": {
  "interpreter": {
   "hash": "225abd0b4b41c85229fb7285a24282bb8b7c5c494a1c5011beaea88d2c1fa3cf"
  },
  "kernelspec": {
   "display_name": "Python 3.9.10 ('masters-thesis-dSEc-4wZ')",
   "language": "python",
   "name": "python3"
  },
  "language_info": {
   "codemirror_mode": {
    "name": "ipython",
    "version": 3
   },
   "file_extension": ".py",
   "mimetype": "text/x-python",
   "name": "python",
   "nbconvert_exporter": "python",
   "pygments_lexer": "ipython3",
   "version": "3.9.10"
  },
  "orig_nbformat": 4
 },
 "nbformat": 4,
 "nbformat_minor": 2
}
