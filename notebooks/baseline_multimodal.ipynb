{
 "cells": [
  {
   "cell_type": "markdown",
   "metadata": {},
   "source": [
    "# Baseline Results for Multi-modal Approaches"
   ]
  },
  {
   "cell_type": "code",
   "execution_count": 1,
   "metadata": {},
   "outputs": [],
   "source": [
    "import os\n",
    "os.environ['TF_CPP_MIN_LOG_LEVEL'] = '3'\n",
    "import warnings\n",
    "import numpy as np\n",
    "import pandas as pd\n",
    "import matplotlib.pyplot as plt\n",
    "import tensorflow as tf \n",
    "\n",
    "from pathlib import Path\n",
    "from sklearn.model_selection import KFold\n",
    "from tensorflow.keras import optimizers\n",
    "from tensorflow.keras.layers import LSTM, Dense, Flatten, TimeDistributed, Conv1D,  MaxPooling1D, ConvLSTM2D\n",
    "from tensorflow.keras import models\n",
    "\n",
    "warnings.filterwarnings(\"ignore\")"
   ]
  },
  {
   "cell_type": "code",
   "execution_count": 2,
   "metadata": {},
   "outputs": [],
   "source": [
    "accuracies = []\n",
    "aucs = []\n",
    "model_names = ['M1.1 CNN+LSTM', 'M1.1 ConvLSTM', 'M1.2 CNN+LSTM', 'M1.2 ConvLSTM']"
   ]
  },
  {
   "cell_type": "code",
   "execution_count": 3,
   "metadata": {},
   "outputs": [],
   "source": [
    "def load_file(file, prediction_type):\n",
    "    df = pd.read_csv(file, header=0)\n",
    "    labels = df[prediction_type]\n",
    "    df = df.drop(columns=['pain_area', 'pain_level'])\n",
    "    df.drop(df.columns[-1], axis=1, inplace=True)\n",
    "    return df.to_numpy(), labels\n",
    "\n",
    "def reshape_CNN_data(X, n_length, n_features):\n",
    "    return X.reshape((len(X), 1, n_length, n_features))\n",
    "\n",
    "def reshape_LSTM_data(X, n_length, n_features):\n",
    "    return X.reshape((len(X), 1, 1, n_length, n_features))\n",
    "\n",
    "def load_dataset(input_filepath, prediction_type, modality, architecture):\n",
    "    root_dir = Path(os.path.abspath('')).parent\n",
    "    data_dir = root_dir / 'data'\n",
    "    train_filepath = data_dir / input_filepath / 'train' / modality\n",
    "    test_filepath = data_dir / input_filepath / 'test' / modality\n",
    "    # 1. Load train data\n",
    "    X = list()\n",
    "    y = list()\n",
    "    for file in train_filepath.iterdir():\n",
    "        if file.is_file() and file.name.endswith('.csv'):\n",
    "            x, labels = load_file(file, prediction_type)\n",
    "            X.append(x)\n",
    "            y.append(labels[0])\n",
    "    n_length = X[0].shape[0]\n",
    "    n_features = X[0].shape[1]\n",
    "    X = np.array(X)\n",
    "    if architecture == 'CNN':\n",
    "        X_train = reshape_CNN_data(X, n_length, n_features)\n",
    "    elif architecture == 'convLSTM':\n",
    "        X_train = reshape_LSTM_data(X, n_length, n_features)\n",
    "    y_train = pd.get_dummies(y)\n",
    "    # 2. Load test data\n",
    "    X = list()\n",
    "    y = list()\n",
    "    for file in test_filepath.iterdir():\n",
    "        if file.is_file() and file.name.endswith('.csv'):\n",
    "            x, labels = load_file(file, prediction_type)\n",
    "            X.append(x)\n",
    "            y.append(labels[0])\n",
    "    n_length = X[0].shape[0]\n",
    "    n_features = X[0].shape[1]\n",
    "    X = np.array(X)\n",
    "    if architecture == 'CNN':\n",
    "        X_test = reshape_CNN_data(X, n_length, n_features)\n",
    "    elif architecture == 'convLSTM':\n",
    "        X_test = reshape_LSTM_data(X, n_length, n_features)\n",
    "    y_test = pd.get_dummies(y)\n",
    "    y_test, tmp = y_test.align(y_train, join='outer', axis=1, fill_value=0)\n",
    "    return X_train, X_test, y_train, y_test"
   ]
  },
  {
   "cell_type": "markdown",
   "metadata": {},
   "source": [
    "## 1. Model-free Fusion\n",
    "\n",
    "Two variants:\n",
    "\n",
    "- **Early fusion**: concatenates features at the input level, then all the work is on the classifier. My initial assumption is that perhaps early fusion is not a good idea because face modality is missing about half the times?\n",
    "\n",
    "- **Late fusion**: \"pre-training\", train one classifier per modality independently (with the same output label as the label at the end). Late fusion mechanism can be voting (majority or weighted) or weighted sum to aggregate predictions at the decision level. "
   ]
  },
  {
   "cell_type": "markdown",
   "metadata": {},
   "source": [
    "### 1.1 Early Fusion - Pain area prediction"
   ]
  },
  {
   "cell_type": "markdown",
   "metadata": {},
   "source": [
    "#### Concatenate datasets (fusion stage)"
   ]
  },
  {
   "cell_type": "code",
   "execution_count": 4,
   "metadata": {},
   "outputs": [],
   "source": [
    "def apply_early_fusion(input_filepath, prediction_type, architecture):\n",
    "    root_dir = Path(os.path.abspath('')).parent\n",
    "    data_dir = root_dir / 'data'\n",
    "    body_train_filepath = data_dir / input_filepath / 'train' / 'skeleton'\n",
    "    body_test_filepath = data_dir / input_filepath / 'test' / 'skeleton'\n",
    "    face_train_filepath = data_dir / input_filepath / 'train' / 'AUs'\n",
    "    face_test_filepath = data_dir / input_filepath / 'test' / 'AUs'\n",
    "    # 1. Load train data\n",
    "    X = list()\n",
    "    y = list()\n",
    "    for file in body_train_filepath.iterdir():\n",
    "        if file.is_file() and file.name.endswith('.csv'):\n",
    "            body_x, body_labels = load_file(file, prediction_type)\n",
    "            has_equivalent_face_file = False\n",
    "            for second_file in face_train_filepath.iterdir():\n",
    "                if second_file.is_file() and second_file.name.endswith('.csv') and second_file.name == file.name:\n",
    "                    # Concatenate features\n",
    "                    face_x, face_labels = load_file(second_file, prediction_type)\n",
    "                    full_X = np.concatenate((body_x, face_x), axis=1)\n",
    "                    X.append(full_X)\n",
    "                    y.append(body_labels[0])\n",
    "                    has_equivalent_face_file = True\n",
    "                    break\n",
    "            if not has_equivalent_face_file:\n",
    "                # Add null values to the face features\n",
    "                full_X = np.concatenate((body_x, np.zeros((body_x.shape[0], 10))), axis=1)\n",
    "                X.append(full_X)\n",
    "                y.append(body_labels[0])\n",
    "    n_length = X[0].shape[0]\n",
    "    n_features = X[0].shape[1]\n",
    "    X = np.array(X)\n",
    "    if architecture == 'CNN':\n",
    "        X_train = reshape_CNN_data(X, n_length, n_features)\n",
    "    elif architecture == 'convLSTM':\n",
    "        X_train = reshape_LSTM_data(X, n_length, n_features)\n",
    "    y_train = pd.get_dummies(y)\n",
    "    # 2. Load test data\n",
    "    X = list()\n",
    "    y = list()\n",
    "    for file in body_test_filepath.iterdir():\n",
    "        if file.is_file() and file.name.endswith('.csv'):\n",
    "            body_x, body_labels = load_file(file, prediction_type)\n",
    "            has_equivalent_face_file = False\n",
    "            for second_file in face_test_filepath.iterdir():\n",
    "                if second_file.is_file() and second_file.name.endswith('.csv') and second_file.name == file.name:\n",
    "                    # Concatenate features\n",
    "                    face_x, face_labels = load_file(second_file, prediction_type)\n",
    "                    full_X = np.concatenate((body_x, face_x), axis=1)\n",
    "                    X.append(full_X)\n",
    "                    y.append(body_labels[0])\n",
    "                    has_equivalent_face_file = True\n",
    "                    break\n",
    "            if not has_equivalent_face_file:\n",
    "                # Add null values to the face features\n",
    "                full_X = np.concatenate((body_x, np.zeros((body_x.shape[0], 10))), axis=1)\n",
    "                X.append(full_X)\n",
    "                y.append(body_labels[0])\n",
    "    n_length = X[0].shape[0]\n",
    "    n_features = X[0].shape[1]\n",
    "    X = np.array(X)\n",
    "    if architecture == 'CNN':\n",
    "        X_test = reshape_CNN_data(X, n_length, n_features)\n",
    "    elif architecture == 'convLSTM':\n",
    "        X_test = reshape_LSTM_data(X, n_length, n_features)\n",
    "    y_test = pd.get_dummies(y)\n",
    "    y_test, tmp = y_test.align(y_train, join='outer', axis=1, fill_value=0)\n",
    "    return X_train, X_test, y_train, y_test"
   ]
  },
  {
   "cell_type": "code",
   "execution_count": 5,
   "metadata": {},
   "outputs": [
    {
     "name": "stdout",
     "output_type": "stream",
     "text": [
      "(534, 1, 350, 48) (534, 5)\n",
      "(81, 1, 350, 48) (81, 5)\n"
     ]
    }
   ],
   "source": [
    "X_train, X_test, y_train, y_test = apply_early_fusion('processed', 'pain_area', 'CNN')\n",
    "\n",
    "print(X_train.shape, y_train.shape)\n",
    "print(X_test.shape, y_test.shape)"
   ]
  },
  {
   "cell_type": "markdown",
   "metadata": {},
   "source": [
    "#### Train CNN+LSTM Model (from uni-modal architectures)"
   ]
  },
  {
   "cell_type": "code",
   "execution_count": 6,
   "metadata": {},
   "outputs": [],
   "source": [
    "epochs, batch_size = 50, 68\n",
    "n_length, n_features, n_outputs = X_train.shape[2], X_train.shape[-1], y_train.shape[1]"
   ]
  },
  {
   "cell_type": "code",
   "execution_count": 7,
   "metadata": {},
   "outputs": [],
   "source": [
    "def get_CNN_model(n_features, n_outputs, n_length):\n",
    "    model = models.Sequential()\n",
    "    model.add(TimeDistributed(Conv1D(filters=64, kernel_size=3,\n",
    "        activation='relu'), input_shape=(None, n_length, n_features)))\n",
    "    model.add(TimeDistributed(MaxPooling1D(pool_size=2, data_format='channels_first')))\n",
    "    model.add(TimeDistributed(Flatten()))\n",
    "    model.add(LSTM(100))\n",
    "    model.add(Dense(100, activation='relu'))\n",
    "    model.add(Dense(n_outputs, activation='softmax'))\n",
    "    lr_schedule = optimizers.schedules.ExponentialDecay(\n",
    "        initial_learning_rate=0.001,\n",
    "        decay_steps=50,\n",
    "        decay_rate=0.1)\n",
    "    optimizer = optimizers.Adam(learning_rate=lr_schedule)\n",
    "    model.compile(loss='categorical_crossentropy',\n",
    "        optimizer=optimizer, metrics=['accuracy', tf.keras.metrics.AUC()])\n",
    "    return model\n",
    "\n",
    "def train(model, X_train, y_train, X_val, y_val, epochs, batch_size):\n",
    "    early_stopping = tf.keras.callbacks.EarlyStopping(\n",
    "        monitor='val_loss', patience=2)\n",
    "    history = model.fit(X_train, y_train, validation_data=(X_val, y_val), epochs=epochs, callbacks=[early_stopping],\n",
    "        batch_size=batch_size, verbose=2)\n",
    "    return history"
   ]
  },
  {
   "cell_type": "code",
   "execution_count": 8,
   "metadata": {},
   "outputs": [
    {
     "name": "stdout",
     "output_type": "stream",
     "text": [
      "Model: \"sequential\"\n",
      "_________________________________________________________________\n",
      " Layer (type)                Output Shape              Param #   \n",
      "=================================================================\n",
      " time_distributed (TimeDistr  (None, None, 348, 64)    9280      \n",
      " ibuted)                                                         \n",
      "                                                                 \n",
      " time_distributed_1 (TimeDis  (None, None, 348, 32)    0         \n",
      " tributed)                                                       \n",
      "                                                                 \n",
      " time_distributed_2 (TimeDis  (None, None, 11136)      0         \n",
      " tributed)                                                       \n",
      "                                                                 \n",
      " lstm (LSTM)                 (None, 100)               4494800   \n",
      "                                                                 \n",
      " dense (Dense)               (None, 100)               10100     \n",
      "                                                                 \n",
      " dense_1 (Dense)             (None, 5)                 505       \n",
      "                                                                 \n",
      "=================================================================\n",
      "Total params: 4,514,685\n",
      "Trainable params: 4,514,685\n",
      "Non-trainable params: 0\n",
      "_________________________________________________________________\n"
     ]
    }
   ],
   "source": [
    "early_fusion_model = get_CNN_model(n_features, n_outputs, n_length)\n",
    "early_fusion_model.summary()"
   ]
  },
  {
   "cell_type": "code",
   "execution_count": 9,
   "metadata": {},
   "outputs": [
    {
     "name": "stdout",
     "output_type": "stream",
     "text": [
      "Epoch 1/50\n",
      "6/6 - 2s - loss: 1.5288 - accuracy: 0.3736 - auc_1: 0.6224 - val_loss: 1.3529 - val_accuracy: 0.5337 - val_auc_1: 0.7872 - 2s/epoch - 375ms/step\n",
      "Epoch 2/50\n",
      "6/6 - 0s - loss: 1.3042 - accuracy: 0.5702 - auc_1: 0.7971 - val_loss: 1.3005 - val_accuracy: 0.5337 - val_auc_1: 0.7943 - 327ms/epoch - 55ms/step\n",
      "Epoch 3/50\n",
      "6/6 - 0s - loss: 1.2783 - accuracy: 0.5702 - auc_1: 0.7953 - val_loss: 1.2601 - val_accuracy: 0.5337 - val_auc_1: 0.7941 - 330ms/epoch - 55ms/step\n",
      "Epoch 4/50\n",
      "6/6 - 0s - loss: 1.2315 - accuracy: 0.5702 - auc_1: 0.7999 - val_loss: 1.2348 - val_accuracy: 0.5337 - val_auc_1: 0.7940 - 332ms/epoch - 55ms/step\n",
      "Epoch 5/50\n",
      "6/6 - 0s - loss: 1.2098 - accuracy: 0.5702 - auc_1: 0.7973 - val_loss: 1.2287 - val_accuracy: 0.5337 - val_auc_1: 0.7905 - 333ms/epoch - 55ms/step\n",
      "Epoch 6/50\n",
      "6/6 - 0s - loss: 1.2007 - accuracy: 0.5702 - auc_1: 0.7969 - val_loss: 1.2254 - val_accuracy: 0.5337 - val_auc_1: 0.7905 - 337ms/epoch - 56ms/step\n",
      "Epoch 7/50\n",
      "6/6 - 0s - loss: 1.1965 - accuracy: 0.5702 - auc_1: 0.7965 - val_loss: 1.2215 - val_accuracy: 0.5337 - val_auc_1: 0.7870 - 341ms/epoch - 57ms/step\n",
      "Epoch 8/50\n",
      "6/6 - 0s - loss: 1.1936 - accuracy: 0.5702 - auc_1: 0.7968 - val_loss: 1.2189 - val_accuracy: 0.5337 - val_auc_1: 0.7870 - 339ms/epoch - 56ms/step\n",
      "Epoch 9/50\n",
      "6/6 - 0s - loss: 1.1919 - accuracy: 0.5702 - auc_1: 0.7969 - val_loss: 1.2169 - val_accuracy: 0.5337 - val_auc_1: 0.7870 - 341ms/epoch - 57ms/step\n",
      "Epoch 10/50\n",
      "6/6 - 0s - loss: 1.1906 - accuracy: 0.5702 - auc_1: 0.7967 - val_loss: 1.2152 - val_accuracy: 0.5337 - val_auc_1: 0.7926 - 337ms/epoch - 56ms/step\n",
      "Epoch 11/50\n",
      "6/6 - 0s - loss: 1.1897 - accuracy: 0.5702 - auc_1: 0.8019 - val_loss: 1.2138 - val_accuracy: 0.5337 - val_auc_1: 0.7926 - 335ms/epoch - 56ms/step\n",
      "Epoch 12/50\n",
      "6/6 - 0s - loss: 1.1889 - accuracy: 0.5702 - auc_1: 0.8025 - val_loss: 1.2129 - val_accuracy: 0.5337 - val_auc_1: 0.7926 - 334ms/epoch - 56ms/step\n",
      "Epoch 13/50\n",
      "6/6 - 0s - loss: 1.1884 - accuracy: 0.5702 - auc_1: 0.8025 - val_loss: 1.2122 - val_accuracy: 0.5337 - val_auc_1: 0.7926 - 338ms/epoch - 56ms/step\n",
      "Epoch 14/50\n",
      "6/6 - 0s - loss: 1.1880 - accuracy: 0.5702 - auc_1: 0.8025 - val_loss: 1.2117 - val_accuracy: 0.5337 - val_auc_1: 0.7926 - 333ms/epoch - 55ms/step\n",
      "Epoch 15/50\n",
      "6/6 - 0s - loss: 1.1878 - accuracy: 0.5702 - auc_1: 0.8025 - val_loss: 1.2113 - val_accuracy: 0.5337 - val_auc_1: 0.7926 - 330ms/epoch - 55ms/step\n",
      "Epoch 16/50\n",
      "6/6 - 0s - loss: 1.1875 - accuracy: 0.5702 - auc_1: 0.8025 - val_loss: 1.2111 - val_accuracy: 0.5337 - val_auc_1: 0.7927 - 335ms/epoch - 56ms/step\n",
      "Epoch 17/50\n",
      "6/6 - 0s - loss: 1.1873 - accuracy: 0.5702 - auc_1: 0.8026 - val_loss: 1.2108 - val_accuracy: 0.5337 - val_auc_1: 0.7927 - 340ms/epoch - 57ms/step\n",
      "Epoch 18/50\n",
      "6/6 - 0s - loss: 1.1872 - accuracy: 0.5702 - auc_1: 0.8026 - val_loss: 1.2106 - val_accuracy: 0.5337 - val_auc_1: 0.7927 - 331ms/epoch - 55ms/step\n",
      "Epoch 19/50\n",
      "6/6 - 0s - loss: 1.1871 - accuracy: 0.5702 - auc_1: 0.8026 - val_loss: 1.2105 - val_accuracy: 0.5337 - val_auc_1: 0.7927 - 335ms/epoch - 56ms/step\n",
      "Epoch 20/50\n",
      "6/6 - 0s - loss: 1.1871 - accuracy: 0.5702 - auc_1: 0.8026 - val_loss: 1.2104 - val_accuracy: 0.5337 - val_auc_1: 0.7927 - 341ms/epoch - 57ms/step\n",
      "Epoch 21/50\n",
      "6/6 - 0s - loss: 1.1870 - accuracy: 0.5702 - auc_1: 0.8009 - val_loss: 1.2103 - val_accuracy: 0.5337 - val_auc_1: 0.7927 - 337ms/epoch - 56ms/step\n",
      "Epoch 22/50\n",
      "6/6 - 0s - loss: 1.1870 - accuracy: 0.5702 - auc_1: 0.8026 - val_loss: 1.2102 - val_accuracy: 0.5337 - val_auc_1: 0.7927 - 336ms/epoch - 56ms/step\n",
      "Epoch 23/50\n",
      "6/6 - 0s - loss: 1.1869 - accuracy: 0.5702 - auc_1: 0.8014 - val_loss: 1.2102 - val_accuracy: 0.5337 - val_auc_1: 0.7927 - 334ms/epoch - 56ms/step\n",
      "Epoch 24/50\n",
      "6/6 - 0s - loss: 1.1869 - accuracy: 0.5702 - auc_1: 0.8026 - val_loss: 1.2101 - val_accuracy: 0.5337 - val_auc_1: 0.7927 - 337ms/epoch - 56ms/step\n",
      "Epoch 25/50\n",
      "6/6 - 0s - loss: 1.1869 - accuracy: 0.5702 - auc_1: 0.8026 - val_loss: 1.2101 - val_accuracy: 0.5337 - val_auc_1: 0.7927 - 333ms/epoch - 55ms/step\n",
      "Epoch 26/50\n",
      "6/6 - 0s - loss: 1.1869 - accuracy: 0.5702 - auc_1: 0.8026 - val_loss: 1.2101 - val_accuracy: 0.5337 - val_auc_1: 0.7927 - 337ms/epoch - 56ms/step\n",
      "Epoch 27/50\n",
      "6/6 - 0s - loss: 1.1869 - accuracy: 0.5702 - auc_1: 0.8026 - val_loss: 1.2101 - val_accuracy: 0.5337 - val_auc_1: 0.7927 - 333ms/epoch - 55ms/step\n",
      "Epoch 28/50\n",
      "6/6 - 0s - loss: 1.1869 - accuracy: 0.5702 - auc_1: 0.8026 - val_loss: 1.2101 - val_accuracy: 0.5337 - val_auc_1: 0.7927 - 333ms/epoch - 56ms/step\n",
      "Epoch 29/50\n",
      "6/6 - 0s - loss: 1.1868 - accuracy: 0.5702 - auc_1: 0.8026 - val_loss: 1.2101 - val_accuracy: 0.5337 - val_auc_1: 0.7927 - 334ms/epoch - 56ms/step\n",
      "Epoch 30/50\n",
      "6/6 - 0s - loss: 1.1868 - accuracy: 0.5702 - auc_1: 0.8026 - val_loss: 1.2101 - val_accuracy: 0.5337 - val_auc_1: 0.7927 - 334ms/epoch - 56ms/step\n",
      "Epoch 31/50\n",
      "6/6 - 0s - loss: 1.1868 - accuracy: 0.5702 - auc_1: 0.8026 - val_loss: 1.2101 - val_accuracy: 0.5337 - val_auc_1: 0.7927 - 331ms/epoch - 55ms/step\n",
      "Epoch 32/50\n",
      "6/6 - 0s - loss: 1.1868 - accuracy: 0.5702 - auc_1: 0.8026 - val_loss: 1.2100 - val_accuracy: 0.5337 - val_auc_1: 0.7927 - 333ms/epoch - 56ms/step\n",
      "Epoch 33/50\n",
      "6/6 - 0s - loss: 1.1868 - accuracy: 0.5702 - auc_1: 0.8026 - val_loss: 1.2100 - val_accuracy: 0.5337 - val_auc_1: 0.7927 - 328ms/epoch - 55ms/step\n",
      "Epoch 34/50\n",
      "6/6 - 0s - loss: 1.1868 - accuracy: 0.5702 - auc_1: 0.8026 - val_loss: 1.2100 - val_accuracy: 0.5337 - val_auc_1: 0.7927 - 334ms/epoch - 56ms/step\n",
      "Epoch 35/50\n",
      "6/6 - 0s - loss: 1.1868 - accuracy: 0.5702 - auc_1: 0.8026 - val_loss: 1.2100 - val_accuracy: 0.5337 - val_auc_1: 0.7927 - 332ms/epoch - 55ms/step\n",
      "Epoch 36/50\n",
      "6/6 - 0s - loss: 1.1868 - accuracy: 0.5702 - auc_1: 0.8026 - val_loss: 1.2100 - val_accuracy: 0.5337 - val_auc_1: 0.7927 - 333ms/epoch - 55ms/step\n",
      "Epoch 37/50\n",
      "6/6 - 0s - loss: 1.1868 - accuracy: 0.5702 - auc_1: 0.8026 - val_loss: 1.2100 - val_accuracy: 0.5337 - val_auc_1: 0.7927 - 331ms/epoch - 55ms/step\n",
      "Epoch 38/50\n",
      "6/6 - 0s - loss: 1.1868 - accuracy: 0.5702 - auc_1: 0.8026 - val_loss: 1.2100 - val_accuracy: 0.5337 - val_auc_1: 0.7927 - 335ms/epoch - 56ms/step\n",
      "Epoch 39/50\n",
      "6/6 - 0s - loss: 1.1868 - accuracy: 0.5702 - auc_1: 0.8026 - val_loss: 1.2100 - val_accuracy: 0.5337 - val_auc_1: 0.7927 - 337ms/epoch - 56ms/step\n",
      "Epoch 40/50\n",
      "6/6 - 0s - loss: 1.1868 - accuracy: 0.5702 - auc_1: 0.8026 - val_loss: 1.2100 - val_accuracy: 0.5337 - val_auc_1: 0.7927 - 333ms/epoch - 56ms/step\n",
      "Epoch 41/50\n",
      "6/6 - 0s - loss: 1.1868 - accuracy: 0.5702 - auc_1: 0.8026 - val_loss: 1.2100 - val_accuracy: 0.5337 - val_auc_1: 0.7927 - 337ms/epoch - 56ms/step\n",
      "Epoch 42/50\n",
      "6/6 - 0s - loss: 1.1868 - accuracy: 0.5702 - auc_1: 0.8026 - val_loss: 1.2100 - val_accuracy: 0.5337 - val_auc_1: 0.7927 - 335ms/epoch - 56ms/step\n",
      "Epoch 43/50\n",
      "6/6 - 0s - loss: 1.1868 - accuracy: 0.5702 - auc_1: 0.8026 - val_loss: 1.2100 - val_accuracy: 0.5337 - val_auc_1: 0.7927 - 337ms/epoch - 56ms/step\n",
      "Epoch 44/50\n",
      "6/6 - 0s - loss: 1.1868 - accuracy: 0.5702 - auc_1: 0.8026 - val_loss: 1.2100 - val_accuracy: 0.5337 - val_auc_1: 0.7927 - 340ms/epoch - 57ms/step\n"
     ]
    },
    {
     "data": {
      "image/png": "[encoded data removed]",
      "text/plain": [
       "<Figure size 432x288 with 1 Axes>"
      ]
     },
     "metadata": {
      "needs_background": "light"
     },
     "output_type": "display_data"
    },
    {
     "name": "stdout",
     "output_type": "stream",
     "text": [
      "Epoch 1/50\n",
      "6/6 - 2s - loss: 1.4227 - accuracy: 0.4916 - auc_2: 0.6955 - val_loss: 1.2722 - val_accuracy: 0.5787 - val_auc_2: 0.8103 - 2s/epoch - 390ms/step\n",
      "Epoch 2/50\n",
      "6/6 - 0s - loss: 1.3053 - accuracy: 0.5478 - auc_2: 0.7784 - val_loss: 1.2470 - val_accuracy: 0.5787 - val_auc_2: 0.7781 - 327ms/epoch - 55ms/step\n",
      "Epoch 3/50\n",
      "6/6 - 0s - loss: 1.2709 - accuracy: 0.5478 - auc_2: 0.7895 - val_loss: 1.2174 - val_accuracy: 0.5787 - val_auc_2: 0.8090 - 321ms/epoch - 54ms/step\n",
      "Epoch 4/50\n",
      "6/6 - 0s - loss: 1.2455 - accuracy: 0.5478 - auc_2: 0.7991 - val_loss: 1.2015 - val_accuracy: 0.5787 - val_auc_2: 0.8090 - 323ms/epoch - 54ms/step\n",
      "Epoch 5/50\n",
      "6/6 - 0s - loss: 1.2307 - accuracy: 0.5478 - auc_2: 0.8007 - val_loss: 1.1926 - val_accuracy: 0.5787 - val_auc_2: 0.8090 - 331ms/epoch - 55ms/step\n",
      "Epoch 6/50\n",
      "6/6 - 0s - loss: 1.2206 - accuracy: 0.5478 - auc_2: 0.8005 - val_loss: 1.1871 - val_accuracy: 0.5787 - val_auc_2: 0.8090 - 333ms/epoch - 56ms/step\n",
      "Epoch 7/50\n",
      "6/6 - 0s - loss: 1.2154 - accuracy: 0.5478 - auc_2: 0.7982 - val_loss: 1.1832 - val_accuracy: 0.5787 - val_auc_2: 0.8090 - 325ms/epoch - 54ms/step\n",
      "Epoch 8/50\n",
      "6/6 - 0s - loss: 1.2108 - accuracy: 0.5478 - auc_2: 0.8022 - val_loss: 1.1810 - val_accuracy: 0.5787 - val_auc_2: 0.8090 - 334ms/epoch - 56ms/step\n",
      "Epoch 9/50\n",
      "6/6 - 0s - loss: 1.2083 - accuracy: 0.5478 - auc_2: 0.8013 - val_loss: 1.1794 - val_accuracy: 0.5787 - val_auc_2: 0.8090 - 333ms/epoch - 55ms/step\n",
      "Epoch 10/50\n",
      "6/6 - 0s - loss: 1.2061 - accuracy: 0.5478 - auc_2: 0.8034 - val_loss: 1.1786 - val_accuracy: 0.5787 - val_auc_2: 0.8090 - 329ms/epoch - 55ms/step\n",
      "Epoch 11/50\n",
      "6/6 - 0s - loss: 1.2049 - accuracy: 0.5478 - auc_2: 0.8011 - val_loss: 1.1780 - val_accuracy: 0.5787 - val_auc_2: 0.8090 - 335ms/epoch - 56ms/step\n",
      "Epoch 12/50\n",
      "6/6 - 0s - loss: 1.2039 - accuracy: 0.5478 - auc_2: 0.8007 - val_loss: 1.1775 - val_accuracy: 0.5787 - val_auc_2: 0.8090 - 340ms/epoch - 57ms/step\n",
      "Epoch 13/50\n",
      "6/6 - 0s - loss: 1.2032 - accuracy: 0.5478 - auc_2: 0.8010 - val_loss: 1.1771 - val_accuracy: 0.5787 - val_auc_2: 0.8090 - 337ms/epoch - 56ms/step\n",
      "Epoch 14/50\n",
      "6/6 - 0s - loss: 1.2027 - accuracy: 0.5478 - auc_2: 0.8013 - val_loss: 1.1768 - val_accuracy: 0.5787 - val_auc_2: 0.8090 - 337ms/epoch - 56ms/step\n",
      "Epoch 15/50\n",
      "6/6 - 0s - loss: 1.2023 - accuracy: 0.5478 - auc_2: 0.8013 - val_loss: 1.1766 - val_accuracy: 0.5787 - val_auc_2: 0.8090 - 334ms/epoch - 56ms/step\n",
      "Epoch 16/50\n",
      "6/6 - 0s - loss: 1.2020 - accuracy: 0.5478 - auc_2: 0.8011 - val_loss: 1.1765 - val_accuracy: 0.5787 - val_auc_2: 0.8090 - 330ms/epoch - 55ms/step\n",
      "Epoch 17/50\n",
      "6/6 - 0s - loss: 1.2018 - accuracy: 0.5478 - auc_2: 0.8013 - val_loss: 1.1764 - val_accuracy: 0.5787 - val_auc_2: 0.8090 - 333ms/epoch - 56ms/step\n",
      "Epoch 18/50\n",
      "6/6 - 0s - loss: 1.2016 - accuracy: 0.5478 - auc_2: 0.8013 - val_loss: 1.1762 - val_accuracy: 0.5787 - val_auc_2: 0.8090 - 333ms/epoch - 55ms/step\n",
      "Epoch 19/50\n",
      "6/6 - 0s - loss: 1.2015 - accuracy: 0.5478 - auc_2: 0.8013 - val_loss: 1.1761 - val_accuracy: 0.5787 - val_auc_2: 0.8090 - 331ms/epoch - 55ms/step\n",
      "Epoch 20/50\n",
      "6/6 - 0s - loss: 1.2014 - accuracy: 0.5478 - auc_2: 0.8013 - val_loss: 1.1761 - val_accuracy: 0.5787 - val_auc_2: 0.8090 - 338ms/epoch - 56ms/step\n",
      "Epoch 21/50\n",
      "6/6 - 0s - loss: 1.2013 - accuracy: 0.5478 - auc_2: 0.8013 - val_loss: 1.1760 - val_accuracy: 0.5787 - val_auc_2: 0.8090 - 331ms/epoch - 55ms/step\n",
      "Epoch 22/50\n",
      "6/6 - 0s - loss: 1.2013 - accuracy: 0.5478 - auc_2: 0.8013 - val_loss: 1.1760 - val_accuracy: 0.5787 - val_auc_2: 0.8090 - 332ms/epoch - 55ms/step\n",
      "Epoch 23/50\n",
      "6/6 - 0s - loss: 1.2013 - accuracy: 0.5478 - auc_2: 0.8013 - val_loss: 1.1760 - val_accuracy: 0.5787 - val_auc_2: 0.8090 - 341ms/epoch - 57ms/step\n",
      "Epoch 24/50\n",
      "6/6 - 0s - loss: 1.2012 - accuracy: 0.5478 - auc_2: 0.8013 - val_loss: 1.1760 - val_accuracy: 0.5787 - val_auc_2: 0.8090 - 339ms/epoch - 56ms/step\n",
      "Epoch 25/50\n",
      "6/6 - 0s - loss: 1.2012 - accuracy: 0.5478 - auc_2: 0.8013 - val_loss: 1.1759 - val_accuracy: 0.5787 - val_auc_2: 0.8090 - 336ms/epoch - 56ms/step\n",
      "Epoch 26/50\n",
      "6/6 - 0s - loss: 1.2012 - accuracy: 0.5478 - auc_2: 0.8013 - val_loss: 1.1759 - val_accuracy: 0.5787 - val_auc_2: 0.8090 - 334ms/epoch - 56ms/step\n",
      "Epoch 27/50\n",
      "6/6 - 0s - loss: 1.2012 - accuracy: 0.5478 - auc_2: 0.8013 - val_loss: 1.1759 - val_accuracy: 0.5787 - val_auc_2: 0.8090 - 338ms/epoch - 56ms/step\n",
      "Epoch 28/50\n",
      "6/6 - 0s - loss: 1.2012 - accuracy: 0.5478 - auc_2: 0.8013 - val_loss: 1.1759 - val_accuracy: 0.5787 - val_auc_2: 0.8090 - 333ms/epoch - 55ms/step\n",
      "Epoch 29/50\n",
      "6/6 - 0s - loss: 1.2011 - accuracy: 0.5478 - auc_2: 0.8013 - val_loss: 1.1759 - val_accuracy: 0.5787 - val_auc_2: 0.8090 - 337ms/epoch - 56ms/step\n",
      "Epoch 30/50\n",
      "6/6 - 0s - loss: 1.2011 - accuracy: 0.5478 - auc_2: 0.8013 - val_loss: 1.1759 - val_accuracy: 0.5787 - val_auc_2: 0.8090 - 338ms/epoch - 56ms/step\n",
      "Epoch 31/50\n",
      "6/6 - 0s - loss: 1.2011 - accuracy: 0.5478 - auc_2: 0.8013 - val_loss: 1.1759 - val_accuracy: 0.5787 - val_auc_2: 0.8090 - 336ms/epoch - 56ms/step\n",
      "Epoch 32/50\n",
      "6/6 - 0s - loss: 1.2011 - accuracy: 0.5478 - auc_2: 0.8013 - val_loss: 1.1759 - val_accuracy: 0.5787 - val_auc_2: 0.8090 - 337ms/epoch - 56ms/step\n",
      "Epoch 33/50\n",
      "6/6 - 0s - loss: 1.2011 - accuracy: 0.5478 - auc_2: 0.8013 - val_loss: 1.1759 - val_accuracy: 0.5787 - val_auc_2: 0.8090 - 335ms/epoch - 56ms/step\n",
      "Epoch 34/50\n",
      "6/6 - 0s - loss: 1.2011 - accuracy: 0.5478 - auc_2: 0.8013 - val_loss: 1.1759 - val_accuracy: 0.5787 - val_auc_2: 0.8090 - 334ms/epoch - 56ms/step\n",
      "Epoch 35/50\n",
      "6/6 - 0s - loss: 1.2011 - accuracy: 0.5478 - auc_2: 0.8013 - val_loss: 1.1759 - val_accuracy: 0.5787 - val_auc_2: 0.8090 - 333ms/epoch - 56ms/step\n",
      "Epoch 36/50\n",
      "6/6 - 0s - loss: 1.2011 - accuracy: 0.5478 - auc_2: 0.8013 - val_loss: 1.1759 - val_accuracy: 0.5787 - val_auc_2: 0.8090 - 338ms/epoch - 56ms/step\n",
      "Epoch 37/50\n",
      "6/6 - 0s - loss: 1.2011 - accuracy: 0.5478 - auc_2: 0.8013 - val_loss: 1.1759 - val_accuracy: 0.5787 - val_auc_2: 0.8090 - 334ms/epoch - 56ms/step\n",
      "Epoch 38/50\n",
      "6/6 - 0s - loss: 1.2011 - accuracy: 0.5478 - auc_2: 0.8013 - val_loss: 1.1759 - val_accuracy: 0.5787 - val_auc_2: 0.8090 - 335ms/epoch - 56ms/step\n",
      "Epoch 39/50\n",
      "6/6 - 0s - loss: 1.2011 - accuracy: 0.5478 - auc_2: 0.8013 - val_loss: 1.1759 - val_accuracy: 0.5787 - val_auc_2: 0.8090 - 336ms/epoch - 56ms/step\n",
      "Epoch 40/50\n",
      "6/6 - 0s - loss: 1.2011 - accuracy: 0.5478 - auc_2: 0.8013 - val_loss: 1.1759 - val_accuracy: 0.5787 - val_auc_2: 0.8090 - 334ms/epoch - 56ms/step\n",
      "Epoch 41/50\n",
      "6/6 - 0s - loss: 1.2011 - accuracy: 0.5478 - auc_2: 0.8013 - val_loss: 1.1759 - val_accuracy: 0.5787 - val_auc_2: 0.8090 - 335ms/epoch - 56ms/step\n",
      "Epoch 42/50\n",
      "6/6 - 0s - loss: 1.2011 - accuracy: 0.5478 - auc_2: 0.8013 - val_loss: 1.1759 - val_accuracy: 0.5787 - val_auc_2: 0.8090 - 336ms/epoch - 56ms/step\n",
      "Epoch 43/50\n",
      "6/6 - 0s - loss: 1.2011 - accuracy: 0.5478 - auc_2: 0.8013 - val_loss: 1.1759 - val_accuracy: 0.5787 - val_auc_2: 0.8090 - 326ms/epoch - 54ms/step\n",
      "Epoch 44/50\n",
      "6/6 - 0s - loss: 1.2011 - accuracy: 0.5478 - auc_2: 0.8013 - val_loss: 1.1759 - val_accuracy: 0.5787 - val_auc_2: 0.8090 - 331ms/epoch - 55ms/step\n",
      "Epoch 45/50\n",
      "6/6 - 0s - loss: 1.2011 - accuracy: 0.5478 - auc_2: 0.8013 - val_loss: 1.1759 - val_accuracy: 0.5787 - val_auc_2: 0.8090 - 335ms/epoch - 56ms/step\n"
     ]
    },
    {
     "data": {
      "image/png": "[encoded data removed]",
      "text/plain": [
       "<Figure size 432x288 with 1 Axes>"
      ]
     },
     "metadata": {
      "needs_background": "light"
     },
     "output_type": "display_data"
    },
    {
     "name": "stdout",
     "output_type": "stream",
     "text": [
      "Epoch 1/50\n",
      "6/6 - 2s - loss: 1.4477 - accuracy: 0.5000 - auc_3: 0.7032 - val_loss: 1.3034 - val_accuracy: 0.5618 - val_auc_3: 0.7669 - 2s/epoch - 365ms/step\n",
      "Epoch 2/50\n",
      "6/6 - 0s - loss: 1.3019 - accuracy: 0.5562 - auc_3: 0.7643 - val_loss: 1.2434 - val_accuracy: 0.5618 - val_auc_3: 0.7851 - 335ms/epoch - 56ms/step\n",
      "Epoch 3/50\n",
      "6/6 - 0s - loss: 1.2488 - accuracy: 0.5562 - auc_3: 0.7795 - val_loss: 1.2193 - val_accuracy: 0.5618 - val_auc_3: 0.8062 - 337ms/epoch - 56ms/step\n",
      "Epoch 4/50\n",
      "6/6 - 0s - loss: 1.2203 - accuracy: 0.5562 - auc_3: 0.8029 - val_loss: 1.2067 - val_accuracy: 0.5618 - val_auc_3: 0.8062 - 337ms/epoch - 56ms/step\n",
      "Epoch 5/50\n",
      "6/6 - 0s - loss: 1.2047 - accuracy: 0.5562 - auc_3: 0.8020 - val_loss: 1.1997 - val_accuracy: 0.5618 - val_auc_3: 0.8062 - 338ms/epoch - 56ms/step\n",
      "Epoch 6/50\n",
      "6/6 - 0s - loss: 1.1950 - accuracy: 0.5562 - auc_3: 0.8049 - val_loss: 1.1966 - val_accuracy: 0.5618 - val_auc_3: 0.8062 - 338ms/epoch - 56ms/step\n",
      "Epoch 7/50\n",
      "6/6 - 0s - loss: 1.1899 - accuracy: 0.5562 - auc_3: 0.8042 - val_loss: 1.1953 - val_accuracy: 0.5618 - val_auc_3: 0.8013 - 338ms/epoch - 56ms/step\n",
      "Epoch 8/50\n",
      "6/6 - 0s - loss: 1.1866 - accuracy: 0.5562 - auc_3: 0.8063 - val_loss: 1.1944 - val_accuracy: 0.5618 - val_auc_3: 0.8013 - 335ms/epoch - 56ms/step\n",
      "Epoch 9/50\n",
      "6/6 - 0s - loss: 1.1849 - accuracy: 0.5562 - auc_3: 0.8068 - val_loss: 1.1936 - val_accuracy: 0.5618 - val_auc_3: 0.7963 - 337ms/epoch - 56ms/step\n",
      "Epoch 10/50\n",
      "6/6 - 0s - loss: 1.1834 - accuracy: 0.5562 - auc_3: 0.8076 - val_loss: 1.1932 - val_accuracy: 0.5618 - val_auc_3: 0.7963 - 342ms/epoch - 57ms/step\n",
      "Epoch 11/50\n",
      "6/6 - 0s - loss: 1.1827 - accuracy: 0.5562 - auc_3: 0.8072 - val_loss: 1.1931 - val_accuracy: 0.5618 - val_auc_3: 0.7963 - 338ms/epoch - 56ms/step\n",
      "Epoch 12/50\n",
      "6/6 - 0s - loss: 1.1820 - accuracy: 0.5562 - auc_3: 0.8076 - val_loss: 1.1929 - val_accuracy: 0.5618 - val_auc_3: 0.7963 - 335ms/epoch - 56ms/step\n",
      "Epoch 13/50\n",
      "6/6 - 0s - loss: 1.1816 - accuracy: 0.5562 - auc_3: 0.8076 - val_loss: 1.1925 - val_accuracy: 0.5618 - val_auc_3: 0.7963 - 338ms/epoch - 56ms/step\n",
      "Epoch 14/50\n",
      "6/6 - 0s - loss: 1.1812 - accuracy: 0.5562 - auc_3: 0.8076 - val_loss: 1.1923 - val_accuracy: 0.5618 - val_auc_3: 0.7963 - 337ms/epoch - 56ms/step\n",
      "Epoch 15/50\n",
      "6/6 - 0s - loss: 1.1811 - accuracy: 0.5562 - auc_3: 0.8072 - val_loss: 1.1921 - val_accuracy: 0.5618 - val_auc_3: 0.7963 - 337ms/epoch - 56ms/step\n",
      "Epoch 16/50\n",
      "6/6 - 0s - loss: 1.1808 - accuracy: 0.5562 - auc_3: 0.8076 - val_loss: 1.1920 - val_accuracy: 0.5618 - val_auc_3: 0.7963 - 340ms/epoch - 57ms/step\n",
      "Epoch 17/50\n",
      "6/6 - 0s - loss: 1.1807 - accuracy: 0.5562 - auc_3: 0.8076 - val_loss: 1.1919 - val_accuracy: 0.5618 - val_auc_3: 0.7963 - 339ms/epoch - 57ms/step\n",
      "Epoch 18/50\n",
      "6/6 - 0s - loss: 1.1806 - accuracy: 0.5562 - auc_3: 0.8076 - val_loss: 1.1918 - val_accuracy: 0.5618 - val_auc_3: 0.7963 - 333ms/epoch - 56ms/step\n",
      "Epoch 19/50\n",
      "6/6 - 0s - loss: 1.1805 - accuracy: 0.5562 - auc_3: 0.8076 - val_loss: 1.1918 - val_accuracy: 0.5618 - val_auc_3: 0.7963 - 337ms/epoch - 56ms/step\n",
      "Epoch 20/50\n",
      "6/6 - 0s - loss: 1.1804 - accuracy: 0.5562 - auc_3: 0.8076 - val_loss: 1.1917 - val_accuracy: 0.5618 - val_auc_3: 0.7963 - 338ms/epoch - 56ms/step\n",
      "Epoch 21/50\n",
      "6/6 - 0s - loss: 1.1804 - accuracy: 0.5562 - auc_3: 0.8076 - val_loss: 1.1917 - val_accuracy: 0.5618 - val_auc_3: 0.7963 - 334ms/epoch - 56ms/step\n",
      "Epoch 22/50\n",
      "6/6 - 0s - loss: 1.1804 - accuracy: 0.5562 - auc_3: 0.8076 - val_loss: 1.1916 - val_accuracy: 0.5618 - val_auc_3: 0.7963 - 332ms/epoch - 55ms/step\n",
      "Epoch 23/50\n",
      "6/6 - 0s - loss: 1.1803 - accuracy: 0.5562 - auc_3: 0.8076 - val_loss: 1.1916 - val_accuracy: 0.5618 - val_auc_3: 0.7963 - 343ms/epoch - 57ms/step\n",
      "Epoch 24/50\n",
      "6/6 - 0s - loss: 1.1803 - accuracy: 0.5562 - auc_3: 0.8076 - val_loss: 1.1916 - val_accuracy: 0.5618 - val_auc_3: 0.7963 - 340ms/epoch - 57ms/step\n",
      "Epoch 25/50\n",
      "6/6 - 0s - loss: 1.1803 - accuracy: 0.5562 - auc_3: 0.8076 - val_loss: 1.1916 - val_accuracy: 0.5618 - val_auc_3: 0.7963 - 333ms/epoch - 56ms/step\n",
      "Epoch 26/50\n",
      "6/6 - 0s - loss: 1.1803 - accuracy: 0.5562 - auc_3: 0.8076 - val_loss: 1.1916 - val_accuracy: 0.5618 - val_auc_3: 0.7963 - 337ms/epoch - 56ms/step\n",
      "Epoch 27/50\n",
      "6/6 - 0s - loss: 1.1803 - accuracy: 0.5562 - auc_3: 0.8076 - val_loss: 1.1916 - val_accuracy: 0.5618 - val_auc_3: 0.7963 - 337ms/epoch - 56ms/step\n",
      "Epoch 28/50\n",
      "6/6 - 0s - loss: 1.1803 - accuracy: 0.5562 - auc_3: 0.8076 - val_loss: 1.1916 - val_accuracy: 0.5618 - val_auc_3: 0.7963 - 335ms/epoch - 56ms/step\n",
      "Epoch 29/50\n",
      "6/6 - 0s - loss: 1.1803 - accuracy: 0.5562 - auc_3: 0.8076 - val_loss: 1.1916 - val_accuracy: 0.5618 - val_auc_3: 0.7963 - 340ms/epoch - 57ms/step\n",
      "Epoch 30/50\n",
      "6/6 - 0s - loss: 1.1803 - accuracy: 0.5562 - auc_3: 0.8076 - val_loss: 1.1916 - val_accuracy: 0.5618 - val_auc_3: 0.7963 - 337ms/epoch - 56ms/step\n",
      "Epoch 31/50\n",
      "6/6 - 0s - loss: 1.1803 - accuracy: 0.5562 - auc_3: 0.8076 - val_loss: 1.1916 - val_accuracy: 0.5618 - val_auc_3: 0.7963 - 336ms/epoch - 56ms/step\n",
      "Epoch 32/50\n",
      "6/6 - 0s - loss: 1.1803 - accuracy: 0.5562 - auc_3: 0.8076 - val_loss: 1.1916 - val_accuracy: 0.5618 - val_auc_3: 0.7963 - 333ms/epoch - 56ms/step\n",
      "Epoch 33/50\n",
      "6/6 - 0s - loss: 1.1803 - accuracy: 0.5562 - auc_3: 0.8076 - val_loss: 1.1916 - val_accuracy: 0.5618 - val_auc_3: 0.7963 - 341ms/epoch - 57ms/step\n",
      "Epoch 34/50\n",
      "6/6 - 0s - loss: 1.1803 - accuracy: 0.5562 - auc_3: 0.8076 - val_loss: 1.1916 - val_accuracy: 0.5618 - val_auc_3: 0.7963 - 339ms/epoch - 56ms/step\n",
      "Epoch 35/50\n",
      "6/6 - 0s - loss: 1.1803 - accuracy: 0.5562 - auc_3: 0.8076 - val_loss: 1.1916 - val_accuracy: 0.5618 - val_auc_3: 0.7963 - 339ms/epoch - 56ms/step\n",
      "Epoch 36/50\n",
      "6/6 - 0s - loss: 1.1803 - accuracy: 0.5562 - auc_3: 0.8076 - val_loss: 1.1916 - val_accuracy: 0.5618 - val_auc_3: 0.7963 - 335ms/epoch - 56ms/step\n",
      "Epoch 37/50\n",
      "6/6 - 0s - loss: 1.1803 - accuracy: 0.5562 - auc_3: 0.8076 - val_loss: 1.1916 - val_accuracy: 0.5618 - val_auc_3: 0.7963 - 338ms/epoch - 56ms/step\n",
      "Epoch 38/50\n",
      "6/6 - 0s - loss: 1.1803 - accuracy: 0.5562 - auc_3: 0.8076 - val_loss: 1.1916 - val_accuracy: 0.5618 - val_auc_3: 0.7963 - 337ms/epoch - 56ms/step\n",
      "Epoch 39/50\n",
      "6/6 - 0s - loss: 1.1803 - accuracy: 0.5562 - auc_3: 0.8076 - val_loss: 1.1916 - val_accuracy: 0.5618 - val_auc_3: 0.7963 - 340ms/epoch - 57ms/step\n",
      "Epoch 40/50\n",
      "6/6 - 0s - loss: 1.1803 - accuracy: 0.5562 - auc_3: 0.8076 - val_loss: 1.1916 - val_accuracy: 0.5618 - val_auc_3: 0.7963 - 339ms/epoch - 57ms/step\n",
      "Epoch 41/50\n",
      "6/6 - 0s - loss: 1.1803 - accuracy: 0.5562 - auc_3: 0.8076 - val_loss: 1.1916 - val_accuracy: 0.5618 - val_auc_3: 0.7963 - 341ms/epoch - 57ms/step\n",
      "Epoch 42/50\n",
      "6/6 - 0s - loss: 1.1803 - accuracy: 0.5562 - auc_3: 0.8076 - val_loss: 1.1916 - val_accuracy: 0.5618 - val_auc_3: 0.7963 - 337ms/epoch - 56ms/step\n",
      "Epoch 43/50\n",
      "6/6 - 0s - loss: 1.1803 - accuracy: 0.5562 - auc_3: 0.8076 - val_loss: 1.1916 - val_accuracy: 0.5618 - val_auc_3: 0.7963 - 335ms/epoch - 56ms/step\n",
      "Epoch 44/50\n",
      "6/6 - 0s - loss: 1.1803 - accuracy: 0.5562 - auc_3: 0.8076 - val_loss: 1.1916 - val_accuracy: 0.5618 - val_auc_3: 0.7963 - 336ms/epoch - 56ms/step\n",
      "Epoch 45/50\n",
      "6/6 - 0s - loss: 1.1803 - accuracy: 0.5562 - auc_3: 0.8076 - val_loss: 1.1916 - val_accuracy: 0.5618 - val_auc_3: 0.7963 - 337ms/epoch - 56ms/step\n"
     ]
    },
    {
     "data": {
      "image/png": "[encoded data removed]",
      "text/plain": [
       "<Figure size 432x288 with 1 Axes>"
      ]
     },
     "metadata": {
      "needs_background": "light"
     },
     "output_type": "display_data"
    }
   ],
   "source": [
    "kf = KFold(n_splits=3, shuffle=True, random_state=42)\n",
    "X = X_train.copy()\n",
    "y = y_train.copy()\n",
    "for train_index, val_index in kf.split(X):\n",
    "    X_train, X_val = X[train_index], X[val_index]\n",
    "    y_train, y_val = y.iloc[train_index], y.iloc[val_index]\n",
    "    early_fusion_model = get_CNN_model(n_features, n_outputs, n_length)\n",
    "    history = train(early_fusion_model, X_train, y_train, X_val, y_val, epochs=epochs, batch_size=batch_size)\n",
    "    plt.plot(history.history['loss'])\n",
    "    plt.show()"
   ]
  },
  {
   "cell_type": "markdown",
   "metadata": {},
   "source": [
    "#### Evaluate early fusion performance"
   ]
  },
  {
   "cell_type": "code",
   "execution_count": 10,
   "metadata": {},
   "outputs": [
    {
     "name": "stdout",
     "output_type": "stream",
     "text": [
      "\n",
      "Accuracy: 50.617%\n",
      "\n",
      "AUC: 0.7994\n"
     ]
    }
   ],
   "source": [
    "loss, accuracy, auc = early_fusion_model.evaluate(X_test, y_test, batch_size=batch_size, verbose=0)\n",
    "score = accuracy * 100\n",
    "accuracies.append(round(score, 2))\n",
    "aucs.append(round(auc * 100, 2))\n",
    "print('\\nAccuracy: %.3f%%' % score)\n",
    "print('\\nAUC:', round(auc, 4))"
   ]
  },
  {
   "cell_type": "markdown",
   "metadata": {},
   "source": [
    "#### Train Convolutional LSTM Model (from uni-modal architectures)"
   ]
  },
  {
   "cell_type": "code",
   "execution_count": 11,
   "metadata": {},
   "outputs": [
    {
     "name": "stdout",
     "output_type": "stream",
     "text": [
      "(534, 1, 1, 350, 48) (534, 5)\n",
      "(81, 1, 1, 350, 48) (81, 5)\n"
     ]
    }
   ],
   "source": [
    "X_train, X_test, y_train, y_test = apply_early_fusion('processed', 'pain_area', 'convLSTM')\n",
    "\n",
    "print(X_train.shape, y_train.shape)\n",
    "print(X_test.shape, y_test.shape)"
   ]
  },
  {
   "cell_type": "code",
   "execution_count": 12,
   "metadata": {},
   "outputs": [],
   "source": [
    "n_timesteps, n_length, n_features, n_outputs = X_train.shape[1], X_train.shape[3], X_train.shape[-1], y_train.shape[1]"
   ]
  },
  {
   "cell_type": "code",
   "execution_count": 13,
   "metadata": {},
   "outputs": [],
   "source": [
    "def get_convLSTM_model(n_timesteps, n_features, n_outputs, n_length):\n",
    "    model = models.Sequential()\n",
    "    model.add(ConvLSTM2D(filters=64, kernel_size=(\n",
    "        1, 3), activation='relu', input_shape=(n_timesteps, 1, n_length, n_features)))\n",
    "    model.add(Flatten())\n",
    "    model.add(Dense(100, activation='relu'))\n",
    "    model.add(Dense(n_outputs, activation='softmax'))\n",
    "    lr_schedule = optimizers.schedules.ExponentialDecay(\n",
    "        initial_learning_rate=0.001,\n",
    "        decay_steps=50,\n",
    "        decay_rate=0.1)\n",
    "    optimizer = optimizers.Adam(learning_rate=lr_schedule)\n",
    "    model.compile(loss='categorical_crossentropy',\n",
    "        optimizer=optimizer, metrics=['accuracy', tf.keras.metrics.AUC()])\n",
    "    return model\n",
    "\n",
    "def train(model, X_train, y_train, X_val, y_val, epochs, batch_size):\n",
    "    early_stopping = tf.keras.callbacks.EarlyStopping(\n",
    "        monitor='val_loss', patience=2)\n",
    "    history = model.fit(X_train, y_train, validation_data=(X_val, y_val), epochs=epochs, callbacks=[early_stopping],\n",
    "        batch_size=batch_size, verbose=2)\n",
    "    return history"
   ]
  },
  {
   "cell_type": "code",
   "execution_count": 14,
   "metadata": {},
   "outputs": [
    {
     "name": "stdout",
     "output_type": "stream",
     "text": [
      "Model: \"sequential_4\"\n",
      "_________________________________________________________________\n",
      " Layer (type)                Output Shape              Param #   \n",
      "=================================================================\n",
      " conv_lstm2d (ConvLSTM2D)    (None, 1, 348, 64)        86272     \n",
      "                                                                 \n",
      " flatten_4 (Flatten)         (None, 22272)             0         \n",
      "                                                                 \n",
      " dense_8 (Dense)             (None, 100)               2227300   \n",
      "                                                                 \n",
      " dense_9 (Dense)             (None, 5)                 505       \n",
      "                                                                 \n",
      "=================================================================\n",
      "Total params: 2,314,077\n",
      "Trainable params: 2,314,077\n",
      "Non-trainable params: 0\n",
      "_________________________________________________________________\n"
     ]
    }
   ],
   "source": [
    "early_fusion_model = get_convLSTM_model(n_timesteps, n_features, n_outputs, n_length)\n",
    "early_fusion_model.summary()"
   ]
  },
  {
   "cell_type": "code",
   "execution_count": 15,
   "metadata": {},
   "outputs": [
    {
     "name": "stdout",
     "output_type": "stream",
     "text": [
      "Epoch 1/50\n",
      "6/6 - 3s - loss: 175.3226 - accuracy: 0.3202 - auc_5: 0.5770 - val_loss: 45.9103 - val_accuracy: 0.5337 - val_auc_5: 0.7086 - 3s/epoch - 459ms/step\n",
      "Epoch 2/50\n",
      "6/6 - 1s - loss: 24.0171 - accuracy: 0.4494 - auc_5: 0.7283 - val_loss: 7.4835 - val_accuracy: 0.5000 - val_auc_5: 0.7254 - 861ms/epoch - 143ms/step\n",
      "Epoch 3/50\n",
      "6/6 - 1s - loss: 3.8084 - accuracy: 0.4579 - auc_5: 0.7260 - val_loss: 1.9302 - val_accuracy: 0.1966 - val_auc_5: 0.5519 - 863ms/epoch - 144ms/step\n",
      "Epoch 4/50\n",
      "6/6 - 1s - loss: 1.6563 - accuracy: 0.1348 - auc_5: 0.5730 - val_loss: 1.6118 - val_accuracy: 0.0393 - val_auc_5: 0.5159 - 870ms/epoch - 145ms/step\n",
      "Epoch 5/50\n",
      "6/6 - 1s - loss: 1.5726 - accuracy: 0.2500 - auc_5: 0.5401 - val_loss: 1.5979 - val_accuracy: 0.5281 - val_auc_5: 0.5152 - 860ms/epoch - 143ms/step\n",
      "Epoch 6/50\n",
      "6/6 - 1s - loss: 1.5801 - accuracy: 0.5730 - auc_5: 0.6142 - val_loss: 1.5940 - val_accuracy: 0.5337 - val_auc_5: 0.7076 - 859ms/epoch - 143ms/step\n",
      "Epoch 7/50\n",
      "6/6 - 1s - loss: 1.5812 - accuracy: 0.5730 - auc_5: 0.7312 - val_loss: 1.5918 - val_accuracy: 0.5281 - val_auc_5: 0.7054 - 861ms/epoch - 144ms/step\n",
      "Epoch 8/50\n",
      "6/6 - 1s - loss: 1.5800 - accuracy: 0.5787 - auc_5: 0.7361 - val_loss: 1.5903 - val_accuracy: 0.5281 - val_auc_5: 0.7086 - 859ms/epoch - 143ms/step\n",
      "Epoch 9/50\n",
      "6/6 - 1s - loss: 1.5790 - accuracy: 0.5787 - auc_5: 0.7366 - val_loss: 1.5891 - val_accuracy: 0.5281 - val_auc_5: 0.7079 - 868ms/epoch - 145ms/step\n",
      "Epoch 10/50\n",
      "6/6 - 1s - loss: 1.5778 - accuracy: 0.5787 - auc_5: 0.7363 - val_loss: 1.5883 - val_accuracy: 0.5281 - val_auc_5: 0.7079 - 865ms/epoch - 144ms/step\n",
      "Epoch 11/50\n",
      "6/6 - 1s - loss: 1.5768 - accuracy: 0.5787 - auc_5: 0.7363 - val_loss: 1.5878 - val_accuracy: 0.5281 - val_auc_5: 0.7079 - 867ms/epoch - 145ms/step\n",
      "Epoch 12/50\n",
      "6/6 - 1s - loss: 1.5756 - accuracy: 0.5787 - auc_5: 0.7362 - val_loss: 1.5875 - val_accuracy: 0.5281 - val_auc_5: 0.7079 - 864ms/epoch - 144ms/step\n",
      "Epoch 13/50\n",
      "6/6 - 1s - loss: 1.5749 - accuracy: 0.5787 - auc_5: 0.7362 - val_loss: 1.5872 - val_accuracy: 0.5281 - val_auc_5: 0.7079 - 870ms/epoch - 145ms/step\n",
      "Epoch 14/50\n",
      "6/6 - 1s - loss: 1.5742 - accuracy: 0.5787 - auc_5: 0.7362 - val_loss: 1.5871 - val_accuracy: 0.5281 - val_auc_5: 0.7079 - 874ms/epoch - 146ms/step\n",
      "Epoch 15/50\n",
      "6/6 - 1s - loss: 1.5737 - accuracy: 0.5787 - auc_5: 0.7362 - val_loss: 1.5871 - val_accuracy: 0.5281 - val_auc_5: 0.7079 - 871ms/epoch - 145ms/step\n",
      "Epoch 16/50\n",
      "6/6 - 1s - loss: 1.5731 - accuracy: 0.5787 - auc_5: 0.7362 - val_loss: 1.5871 - val_accuracy: 0.5281 - val_auc_5: 0.7079 - 867ms/epoch - 144ms/step\n",
      "Epoch 17/50\n",
      "6/6 - 1s - loss: 1.5728 - accuracy: 0.5787 - auc_5: 0.7365 - val_loss: 1.5871 - val_accuracy: 0.5281 - val_auc_5: 0.7079 - 875ms/epoch - 146ms/step\n",
      "Epoch 18/50\n",
      "6/6 - 1s - loss: 1.5724 - accuracy: 0.5787 - auc_5: 0.7369 - val_loss: 1.5870 - val_accuracy: 0.5281 - val_auc_5: 0.7079 - 861ms/epoch - 144ms/step\n",
      "Epoch 19/50\n",
      "6/6 - 1s - loss: 1.5722 - accuracy: 0.5787 - auc_5: 0.7369 - val_loss: 1.5870 - val_accuracy: 0.5281 - val_auc_5: 0.7079 - 860ms/epoch - 143ms/step\n",
      "Epoch 20/50\n",
      "6/6 - 1s - loss: 1.5721 - accuracy: 0.5787 - auc_5: 0.7369 - val_loss: 1.5870 - val_accuracy: 0.5281 - val_auc_5: 0.7079 - 850ms/epoch - 142ms/step\n",
      "Epoch 21/50\n",
      "6/6 - 1s - loss: 1.5719 - accuracy: 0.5787 - auc_5: 0.7369 - val_loss: 1.5870 - val_accuracy: 0.5281 - val_auc_5: 0.7079 - 856ms/epoch - 143ms/step\n",
      "Epoch 22/50\n",
      "6/6 - 1s - loss: 1.5718 - accuracy: 0.5787 - auc_5: 0.7369 - val_loss: 1.5870 - val_accuracy: 0.5281 - val_auc_5: 0.7079 - 854ms/epoch - 142ms/step\n",
      "Epoch 23/50\n",
      "6/6 - 1s - loss: 1.5718 - accuracy: 0.5787 - auc_5: 0.7369 - val_loss: 1.5870 - val_accuracy: 0.5281 - val_auc_5: 0.7079 - 858ms/epoch - 143ms/step\n",
      "Epoch 24/50\n",
      "6/6 - 1s - loss: 1.5717 - accuracy: 0.5787 - auc_5: 0.7369 - val_loss: 1.5870 - val_accuracy: 0.5281 - val_auc_5: 0.7079 - 864ms/epoch - 144ms/step\n",
      "Epoch 25/50\n",
      "6/6 - 1s - loss: 1.5716 - accuracy: 0.5787 - auc_5: 0.7369 - val_loss: 1.5870 - val_accuracy: 0.5281 - val_auc_5: 0.7079 - 864ms/epoch - 144ms/step\n"
     ]
    },
    {
     "data": {
      "image/png": "[encoded data removed]",
      "text/plain": [
       "<Figure size 432x288 with 1 Axes>"
      ]
     },
     "metadata": {
      "needs_background": "light"
     },
     "output_type": "display_data"
    },
    {
     "name": "stdout",
     "output_type": "stream",
     "text": [
      "Epoch 1/50\n",
      "6/6 - 3s - loss: 90.4489 - accuracy: 0.3174 - auc_6: 0.5702 - val_loss: 59.3658 - val_accuracy: 0.0955 - val_auc_6: 0.4551 - 3s/epoch - 517ms/step\n",
      "Epoch 2/50\n",
      "6/6 - 1s - loss: 23.2958 - accuracy: 0.3483 - auc_6: 0.6169 - val_loss: 1.6449 - val_accuracy: 0.2022 - val_auc_6: 0.5912 - 843ms/epoch - 140ms/step\n",
      "Epoch 3/50\n",
      "6/6 - 1s - loss: 1.6349 - accuracy: 0.2219 - auc_6: 0.5847 - val_loss: 1.6421 - val_accuracy: 0.5674 - val_auc_6: 0.6907 - 853ms/epoch - 142ms/step\n",
      "Epoch 4/50\n",
      "6/6 - 1s - loss: 1.5911 - accuracy: 0.5421 - auc_6: 0.7167 - val_loss: 2.0183 - val_accuracy: 0.5337 - val_auc_6: 0.6775 - 848ms/epoch - 141ms/step\n",
      "Epoch 5/50\n",
      "6/6 - 1s - loss: 1.5579 - accuracy: 0.5674 - auc_6: 0.7361 - val_loss: 1.7947 - val_accuracy: 0.5618 - val_auc_6: 0.7160 - 854ms/epoch - 142ms/step\n"
     ]
    },
    {
     "data": {
      "image/png": "[encoded data removed]",
      "text/plain": [
       "<Figure size 432x288 with 1 Axes>"
      ]
     },
     "metadata": {
      "needs_background": "light"
     },
     "output_type": "display_data"
    },
    {
     "name": "stdout",
     "output_type": "stream",
     "text": [
      "Epoch 1/50\n",
      "6/6 - 3s - loss: 167.5425 - accuracy: 0.3146 - auc_7: 0.5757 - val_loss: 110.2630 - val_accuracy: 0.5618 - val_auc_7: 0.7261 - 3s/epoch - 454ms/step\n",
      "Epoch 2/50\n",
      "6/6 - 1s - loss: 83.6030 - accuracy: 0.4101 - auc_7: 0.6327 - val_loss: 22.3138 - val_accuracy: 0.3371 - val_auc_7: 0.6478 - 864ms/epoch - 144ms/step\n",
      "Epoch 3/50\n",
      "6/6 - 1s - loss: 9.5481 - accuracy: 0.4719 - auc_7: 0.7011 - val_loss: 1.6658 - val_accuracy: 0.3315 - val_auc_7: 0.6218 - 868ms/epoch - 145ms/step\n",
      "Epoch 4/50\n",
      "6/6 - 1s - loss: 1.5583 - accuracy: 0.4410 - auc_7: 0.5634 - val_loss: 1.6497 - val_accuracy: 0.5562 - val_auc_7: 0.5089 - 861ms/epoch - 144ms/step\n",
      "Epoch 5/50\n",
      "6/6 - 1s - loss: 1.6020 - accuracy: 0.5506 - auc_7: 0.6686 - val_loss: 1.6594 - val_accuracy: 0.5449 - val_auc_7: 0.6872 - 870ms/epoch - 145ms/step\n",
      "Epoch 6/50\n",
      "6/6 - 1s - loss: 1.6034 - accuracy: 0.5506 - auc_7: 0.7176 - val_loss: 1.6624 - val_accuracy: 0.5449 - val_auc_7: 0.6850 - 879ms/epoch - 146ms/step\n"
     ]
    },
    {
     "data": {
      "image/png": "[encoded data removed]",
      "text/plain": [
       "<Figure size 432x288 with 1 Axes>"
      ]
     },
     "metadata": {
      "needs_background": "light"
     },
     "output_type": "display_data"
    }
   ],
   "source": [
    "kf = KFold(n_splits=3, shuffle=True, random_state=42)\n",
    "X = X_train.copy()\n",
    "y = y_train.copy()\n",
    "for train_index, val_index in kf.split(X):\n",
    "    X_train, X_val = X[train_index], X[val_index]\n",
    "    y_train, y_val = y.iloc[train_index], y.iloc[val_index]\n",
    "    early_fusion_model = get_convLSTM_model(n_timesteps, n_features, n_outputs, n_length)\n",
    "    history = train(early_fusion_model, X_train, y_train, X_val, y_val, epochs=epochs, batch_size=batch_size)\n",
    "    plt.plot(history.history['loss'])\n",
    "    plt.show()"
   ]
  },
  {
   "cell_type": "code",
   "execution_count": 16,
   "metadata": {},
   "outputs": [
    {
     "name": "stdout",
     "output_type": "stream",
     "text": [
      "\n",
      "Accuracy: 50.617%\n",
      "\n",
      "AUC: 0.7028\n"
     ]
    }
   ],
   "source": [
    "loss, accuracy, auc = early_fusion_model.evaluate(X_test, y_test, batch_size=batch_size, verbose=0)\n",
    "score = accuracy * 100\n",
    "accuracies.append(round(score, 2))\n",
    "aucs.append(round(auc * 100, 2))\n",
    "print('\\nAccuracy: %.3f%%' % score)\n",
    "print('\\nAUC:', round(auc, 4))"
   ]
  },
  {
   "cell_type": "markdown",
   "metadata": {},
   "source": [
    "### 1.2 Early fusion - Pain level prediction"
   ]
  },
  {
   "cell_type": "markdown",
   "metadata": {},
   "source": [
    "#### Concatenate datasets (fusion stage)"
   ]
  },
  {
   "cell_type": "code",
   "execution_count": 17,
   "metadata": {},
   "outputs": [
    {
     "name": "stdout",
     "output_type": "stream",
     "text": [
      "(534, 1, 350, 48) (534, 3)\n",
      "(81, 1, 350, 48) (81, 3)\n"
     ]
    }
   ],
   "source": [
    "X_train, X_test, y_train, y_test = apply_early_fusion('processed', 'pain_level', 'CNN')\n",
    "\n",
    "print(X_train.shape, y_train.shape)\n",
    "print(X_test.shape, y_test.shape)"
   ]
  },
  {
   "cell_type": "markdown",
   "metadata": {},
   "source": [
    "#### Train CNN+LSTM Model (from uni-modal architectures)"
   ]
  },
  {
   "cell_type": "code",
   "execution_count": 18,
   "metadata": {},
   "outputs": [],
   "source": [
    "n_length, n_features, n_outputs = X_train.shape[2], X_train.shape[-1], y_train.shape[1]"
   ]
  },
  {
   "cell_type": "code",
   "execution_count": 19,
   "metadata": {},
   "outputs": [
    {
     "name": "stdout",
     "output_type": "stream",
     "text": [
      "Model: \"sequential_8\"\n",
      "_________________________________________________________________\n",
      " Layer (type)                Output Shape              Param #   \n",
      "=================================================================\n",
      " time_distributed_12 (TimeDi  (None, None, 348, 64)    9280      \n",
      " stributed)                                                      \n",
      "                                                                 \n",
      " time_distributed_13 (TimeDi  (None, None, 348, 32)    0         \n",
      " stributed)                                                      \n",
      "                                                                 \n",
      " time_distributed_14 (TimeDi  (None, None, 11136)      0         \n",
      " stributed)                                                      \n",
      "                                                                 \n",
      " lstm_4 (LSTM)               (None, 100)               4494800   \n",
      "                                                                 \n",
      " dense_16 (Dense)            (None, 100)               10100     \n",
      "                                                                 \n",
      " dense_17 (Dense)            (None, 3)                 303       \n",
      "                                                                 \n",
      "=================================================================\n",
      "Total params: 4,514,483\n",
      "Trainable params: 4,514,483\n",
      "Non-trainable params: 0\n",
      "_________________________________________________________________\n"
     ]
    }
   ],
   "source": [
    "early_fusion_model = get_CNN_model(n_features, n_outputs, n_length)\n",
    "early_fusion_model.summary()"
   ]
  },
  {
   "cell_type": "code",
   "execution_count": 20,
   "metadata": {},
   "outputs": [
    {
     "name": "stdout",
     "output_type": "stream",
     "text": [
      "Epoch 1/50\n",
      "6/6 - 2s - loss: 0.8511 - accuracy: 0.5646 - auc_9: 0.7803 - val_loss: 0.7637 - val_accuracy: 0.6629 - val_auc_9: 0.8163 - 2s/epoch - 365ms/step\n",
      "Epoch 2/50\n",
      "6/6 - 0s - loss: 0.7591 - accuracy: 0.6320 - auc_9: 0.8054 - val_loss: 0.7536 - val_accuracy: 0.6629 - val_auc_9: 0.8174 - 332ms/epoch - 55ms/step\n",
      "Epoch 3/50\n",
      "6/6 - 0s - loss: 0.7388 - accuracy: 0.6320 - auc_9: 0.8074 - val_loss: 0.7385 - val_accuracy: 0.6629 - val_auc_9: 0.8174 - 384ms/epoch - 64ms/step\n",
      "Epoch 4/50\n",
      "6/6 - 0s - loss: 0.7289 - accuracy: 0.6320 - auc_9: 0.8078 - val_loss: 0.7364 - val_accuracy: 0.6629 - val_auc_9: 0.8174 - 361ms/epoch - 60ms/step\n",
      "Epoch 5/50\n",
      "6/6 - 0s - loss: 0.7242 - accuracy: 0.6320 - auc_9: 0.8053 - val_loss: 0.7371 - val_accuracy: 0.6629 - val_auc_9: 0.8174 - 333ms/epoch - 55ms/step\n",
      "Epoch 6/50\n",
      "6/6 - 0s - loss: 0.7216 - accuracy: 0.6320 - auc_9: 0.8100 - val_loss: 0.7382 - val_accuracy: 0.6629 - val_auc_9: 0.8174 - 339ms/epoch - 56ms/step\n"
     ]
    },
    {
     "data": {
      "image/png": "[encoded data removed]",
      "text/plain": [
       "<Figure size 432x288 with 1 Axes>"
      ]
     },
     "metadata": {
      "needs_background": "light"
     },
     "output_type": "display_data"
    },
    {
     "name": "stdout",
     "output_type": "stream",
     "text": [
      "Epoch 1/50\n",
      "6/6 - 3s - loss: 0.9443 - accuracy: 0.5787 - auc_10: 0.7402 - val_loss: 0.8248 - val_accuracy: 0.6292 - val_auc_10: 0.8108 - 3s/epoch - 425ms/step\n",
      "Epoch 2/50\n",
      "6/6 - 0s - loss: 0.8053 - accuracy: 0.6489 - auc_10: 0.8076 - val_loss: 0.7763 - val_accuracy: 0.6292 - val_auc_10: 0.8118 - 336ms/epoch - 56ms/step\n",
      "Epoch 3/50\n",
      "6/6 - 0s - loss: 0.7963 - accuracy: 0.6489 - auc_10: 0.7957 - val_loss: 0.7979 - val_accuracy: 0.6292 - val_auc_10: 0.8118 - 334ms/epoch - 56ms/step\n",
      "Epoch 4/50\n",
      "6/6 - 0s - loss: 0.7945 - accuracy: 0.6489 - auc_10: 0.8143 - val_loss: 0.7770 - val_accuracy: 0.6292 - val_auc_10: 0.8118 - 335ms/epoch - 56ms/step\n"
     ]
    },
    {
     "data": {
      "image/png": "[encoded data removed]",
      "text/plain": [
       "<Figure size 432x288 with 1 Axes>"
      ]
     },
     "metadata": {
      "needs_background": "light"
     },
     "output_type": "display_data"
    },
    {
     "name": "stdout",
     "output_type": "stream",
     "text": [
      "Epoch 1/50\n",
      "6/6 - 2s - loss: 1.0774 - accuracy: 0.3062 - auc_11: 0.5711 - val_loss: 0.9833 - val_accuracy: 0.6236 - val_auc_11: 0.7329 - 2s/epoch - 365ms/step\n",
      "Epoch 2/50\n",
      "6/6 - 0s - loss: 0.9391 - accuracy: 0.6461 - auc_11: 0.8051 - val_loss: 0.8847 - val_accuracy: 0.6348 - val_auc_11: 0.8062 - 338ms/epoch - 56ms/step\n",
      "Epoch 3/50\n",
      "6/6 - 0s - loss: 0.8562 - accuracy: 0.6461 - auc_11: 0.8200 - val_loss: 0.8377 - val_accuracy: 0.6348 - val_auc_11: 0.8062 - 337ms/epoch - 56ms/step\n",
      "Epoch 4/50\n",
      "6/6 - 0s - loss: 0.8177 - accuracy: 0.6461 - auc_11: 0.8011 - val_loss: 0.8134 - val_accuracy: 0.6348 - val_auc_11: 0.8062 - 336ms/epoch - 56ms/step\n",
      "Epoch 5/50\n",
      "6/6 - 0s - loss: 0.7952 - accuracy: 0.6461 - auc_11: 0.8173 - val_loss: 0.8000 - val_accuracy: 0.6348 - val_auc_11: 0.8062 - 340ms/epoch - 57ms/step\n",
      "Epoch 6/50\n",
      "6/6 - 0s - loss: 0.7829 - accuracy: 0.6461 - auc_11: 0.8154 - val_loss: 0.7913 - val_accuracy: 0.6348 - val_auc_11: 0.8062 - 344ms/epoch - 57ms/step\n",
      "Epoch 7/50\n",
      "6/6 - 0s - loss: 0.7749 - accuracy: 0.6461 - auc_11: 0.8151 - val_loss: 0.7855 - val_accuracy: 0.6348 - val_auc_11: 0.8062 - 334ms/epoch - 56ms/step\n",
      "Epoch 8/50\n",
      "6/6 - 0s - loss: 0.7696 - accuracy: 0.6461 - auc_11: 0.8177 - val_loss: 0.7816 - val_accuracy: 0.6348 - val_auc_11: 0.8062 - 338ms/epoch - 56ms/step\n",
      "Epoch 9/50\n",
      "6/6 - 0s - loss: 0.7659 - accuracy: 0.6461 - auc_11: 0.8164 - val_loss: 0.7789 - val_accuracy: 0.6348 - val_auc_11: 0.8062 - 339ms/epoch - 57ms/step\n",
      "Epoch 10/50\n",
      "6/6 - 0s - loss: 0.7633 - accuracy: 0.6461 - auc_11: 0.8160 - val_loss: 0.7770 - val_accuracy: 0.6348 - val_auc_11: 0.8062 - 337ms/epoch - 56ms/step\n",
      "Epoch 11/50\n",
      "6/6 - 0s - loss: 0.7615 - accuracy: 0.6461 - auc_11: 0.8150 - val_loss: 0.7756 - val_accuracy: 0.6348 - val_auc_11: 0.8062 - 340ms/epoch - 57ms/step\n",
      "Epoch 12/50\n",
      "6/6 - 0s - loss: 0.7602 - accuracy: 0.6461 - auc_11: 0.8152 - val_loss: 0.7745 - val_accuracy: 0.6348 - val_auc_11: 0.8062 - 337ms/epoch - 56ms/step\n",
      "Epoch 13/50\n",
      "6/6 - 0s - loss: 0.7592 - accuracy: 0.6461 - auc_11: 0.8146 - val_loss: 0.7738 - val_accuracy: 0.6348 - val_auc_11: 0.8062 - 336ms/epoch - 56ms/step\n",
      "Epoch 14/50\n",
      "6/6 - 0s - loss: 0.7586 - accuracy: 0.6461 - auc_11: 0.8146 - val_loss: 0.7733 - val_accuracy: 0.6348 - val_auc_11: 0.8062 - 339ms/epoch - 56ms/step\n",
      "Epoch 15/50\n",
      "6/6 - 0s - loss: 0.7580 - accuracy: 0.6461 - auc_11: 0.8146 - val_loss: 0.7729 - val_accuracy: 0.6348 - val_auc_11: 0.8062 - 329ms/epoch - 55ms/step\n",
      "Epoch 16/50\n",
      "6/6 - 0s - loss: 0.7577 - accuracy: 0.6461 - auc_11: 0.8146 - val_loss: 0.7726 - val_accuracy: 0.6348 - val_auc_11: 0.8062 - 336ms/epoch - 56ms/step\n",
      "Epoch 17/50\n",
      "6/6 - 0s - loss: 0.7574 - accuracy: 0.6461 - auc_11: 0.8146 - val_loss: 0.7724 - val_accuracy: 0.6348 - val_auc_11: 0.8062 - 341ms/epoch - 57ms/step\n",
      "Epoch 18/50\n",
      "6/6 - 0s - loss: 0.7572 - accuracy: 0.6461 - auc_11: 0.8141 - val_loss: 0.7722 - val_accuracy: 0.6348 - val_auc_11: 0.8062 - 335ms/epoch - 56ms/step\n",
      "Epoch 19/50\n",
      "6/6 - 0s - loss: 0.7570 - accuracy: 0.6461 - auc_11: 0.8146 - val_loss: 0.7721 - val_accuracy: 0.6348 - val_auc_11: 0.8062 - 336ms/epoch - 56ms/step\n",
      "Epoch 20/50\n",
      "6/6 - 0s - loss: 0.7568 - accuracy: 0.6461 - auc_11: 0.8146 - val_loss: 0.7720 - val_accuracy: 0.6348 - val_auc_11: 0.8062 - 337ms/epoch - 56ms/step\n",
      "Epoch 21/50\n",
      "6/6 - 0s - loss: 0.7567 - accuracy: 0.6461 - auc_11: 0.8146 - val_loss: 0.7719 - val_accuracy: 0.6348 - val_auc_11: 0.8062 - 333ms/epoch - 56ms/step\n",
      "Epoch 22/50\n",
      "6/6 - 0s - loss: 0.7567 - accuracy: 0.6461 - auc_11: 0.8146 - val_loss: 0.7718 - val_accuracy: 0.6348 - val_auc_11: 0.8062 - 338ms/epoch - 56ms/step\n",
      "Epoch 23/50\n",
      "6/6 - 0s - loss: 0.7566 - accuracy: 0.6461 - auc_11: 0.8146 - val_loss: 0.7718 - val_accuracy: 0.6348 - val_auc_11: 0.8062 - 330ms/epoch - 55ms/step\n",
      "Epoch 24/50\n",
      "6/6 - 0s - loss: 0.7565 - accuracy: 0.6461 - auc_11: 0.8146 - val_loss: 0.7718 - val_accuracy: 0.6348 - val_auc_11: 0.8062 - 338ms/epoch - 56ms/step\n",
      "Epoch 25/50\n",
      "6/6 - 0s - loss: 0.7565 - accuracy: 0.6461 - auc_11: 0.8146 - val_loss: 0.7717 - val_accuracy: 0.6348 - val_auc_11: 0.8062 - 335ms/epoch - 56ms/step\n",
      "Epoch 26/50\n",
      "6/6 - 0s - loss: 0.7565 - accuracy: 0.6461 - auc_11: 0.8146 - val_loss: 0.7717 - val_accuracy: 0.6348 - val_auc_11: 0.8062 - 337ms/epoch - 56ms/step\n",
      "Epoch 27/50\n",
      "6/6 - 0s - loss: 0.7565 - accuracy: 0.6461 - auc_11: 0.8146 - val_loss: 0.7717 - val_accuracy: 0.6348 - val_auc_11: 0.8062 - 342ms/epoch - 57ms/step\n",
      "Epoch 28/50\n",
      "6/6 - 0s - loss: 0.7565 - accuracy: 0.6461 - auc_11: 0.8146 - val_loss: 0.7717 - val_accuracy: 0.6348 - val_auc_11: 0.8062 - 341ms/epoch - 57ms/step\n",
      "Epoch 29/50\n",
      "6/6 - 0s - loss: 0.7564 - accuracy: 0.6461 - auc_11: 0.8146 - val_loss: 0.7717 - val_accuracy: 0.6348 - val_auc_11: 0.8062 - 339ms/epoch - 56ms/step\n",
      "Epoch 30/50\n",
      "6/6 - 0s - loss: 0.7564 - accuracy: 0.6461 - auc_11: 0.8146 - val_loss: 0.7717 - val_accuracy: 0.6348 - val_auc_11: 0.8062 - 334ms/epoch - 56ms/step\n",
      "Epoch 31/50\n",
      "6/6 - 0s - loss: 0.7564 - accuracy: 0.6461 - auc_11: 0.8146 - val_loss: 0.7717 - val_accuracy: 0.6348 - val_auc_11: 0.8062 - 337ms/epoch - 56ms/step\n",
      "Epoch 32/50\n",
      "6/6 - 0s - loss: 0.7564 - accuracy: 0.6461 - auc_11: 0.8146 - val_loss: 0.7717 - val_accuracy: 0.6348 - val_auc_11: 0.8062 - 335ms/epoch - 56ms/step\n",
      "Epoch 33/50\n",
      "6/6 - 0s - loss: 0.7564 - accuracy: 0.6461 - auc_11: 0.8146 - val_loss: 0.7717 - val_accuracy: 0.6348 - val_auc_11: 0.8062 - 339ms/epoch - 57ms/step\n",
      "Epoch 34/50\n",
      "6/6 - 0s - loss: 0.7564 - accuracy: 0.6461 - auc_11: 0.8146 - val_loss: 0.7717 - val_accuracy: 0.6348 - val_auc_11: 0.8062 - 333ms/epoch - 56ms/step\n",
      "Epoch 35/50\n",
      "6/6 - 0s - loss: 0.7564 - accuracy: 0.6461 - auc_11: 0.8146 - val_loss: 0.7717 - val_accuracy: 0.6348 - val_auc_11: 0.8062 - 334ms/epoch - 56ms/step\n",
      "Epoch 36/50\n",
      "6/6 - 0s - loss: 0.7564 - accuracy: 0.6461 - auc_11: 0.8146 - val_loss: 0.7717 - val_accuracy: 0.6348 - val_auc_11: 0.8062 - 335ms/epoch - 56ms/step\n",
      "Epoch 37/50\n",
      "6/6 - 0s - loss: 0.7564 - accuracy: 0.6461 - auc_11: 0.8146 - val_loss: 0.7717 - val_accuracy: 0.6348 - val_auc_11: 0.8062 - 337ms/epoch - 56ms/step\n",
      "Epoch 38/50\n",
      "6/6 - 0s - loss: 0.7564 - accuracy: 0.6461 - auc_11: 0.8146 - val_loss: 0.7717 - val_accuracy: 0.6348 - val_auc_11: 0.8062 - 336ms/epoch - 56ms/step\n",
      "Epoch 39/50\n",
      "6/6 - 0s - loss: 0.7564 - accuracy: 0.6461 - auc_11: 0.8146 - val_loss: 0.7716 - val_accuracy: 0.6348 - val_auc_11: 0.8062 - 336ms/epoch - 56ms/step\n",
      "Epoch 40/50\n",
      "6/6 - 0s - loss: 0.7564 - accuracy: 0.6461 - auc_11: 0.8146 - val_loss: 0.7716 - val_accuracy: 0.6348 - val_auc_11: 0.8062 - 333ms/epoch - 55ms/step\n",
      "Epoch 41/50\n",
      "6/6 - 0s - loss: 0.7564 - accuracy: 0.6461 - auc_11: 0.8146 - val_loss: 0.7716 - val_accuracy: 0.6348 - val_auc_11: 0.8062 - 340ms/epoch - 57ms/step\n",
      "Epoch 42/50\n",
      "6/6 - 0s - loss: 0.7564 - accuracy: 0.6461 - auc_11: 0.8146 - val_loss: 0.7716 - val_accuracy: 0.6348 - val_auc_11: 0.8062 - 339ms/epoch - 57ms/step\n",
      "Epoch 43/50\n",
      "6/6 - 0s - loss: 0.7564 - accuracy: 0.6461 - auc_11: 0.8146 - val_loss: 0.7716 - val_accuracy: 0.6348 - val_auc_11: 0.8062 - 336ms/epoch - 56ms/step\n",
      "Epoch 44/50\n",
      "6/6 - 0s - loss: 0.7564 - accuracy: 0.6461 - auc_11: 0.8146 - val_loss: 0.7716 - val_accuracy: 0.6348 - val_auc_11: 0.8062 - 333ms/epoch - 56ms/step\n",
      "Epoch 45/50\n",
      "6/6 - 0s - loss: 0.7564 - accuracy: 0.6461 - auc_11: 0.8146 - val_loss: 0.7716 - val_accuracy: 0.6348 - val_auc_11: 0.8062 - 339ms/epoch - 56ms/step\n",
      "Epoch 46/50\n",
      "6/6 - 0s - loss: 0.7564 - accuracy: 0.6461 - auc_11: 0.8146 - val_loss: 0.7716 - val_accuracy: 0.6348 - val_auc_11: 0.8062 - 338ms/epoch - 56ms/step\n",
      "Epoch 47/50\n",
      "6/6 - 0s - loss: 0.7564 - accuracy: 0.6461 - auc_11: 0.8146 - val_loss: 0.7716 - val_accuracy: 0.6348 - val_auc_11: 0.8062 - 338ms/epoch - 56ms/step\n"
     ]
    },
    {
     "data": {
      "image/png": "[encoded data removed]",
      "text/plain": [
       "<Figure size 432x288 with 1 Axes>"
      ]
     },
     "metadata": {
      "needs_background": "light"
     },
     "output_type": "display_data"
    }
   ],
   "source": [
    "kf = KFold(n_splits=3, shuffle=True, random_state=42)\n",
    "X = X_train.copy()\n",
    "y = y_train.copy()\n",
    "for train_index, val_index in kf.split(X):\n",
    "    X_train, X_val = X[train_index], X[val_index]\n",
    "    y_train, y_val = y.iloc[train_index], y.iloc[val_index]\n",
    "    early_fusion_model = get_CNN_model(n_features, n_outputs, n_length)\n",
    "    history = train(early_fusion_model, X_train, y_train, X_val, y_val, epochs=epochs, batch_size=batch_size)\n",
    "    plt.plot(history.history['loss'])\n",
    "    plt.show()"
   ]
  },
  {
   "cell_type": "code",
   "execution_count": 21,
   "metadata": {},
   "outputs": [
    {
     "name": "stdout",
     "output_type": "stream",
     "text": [
      "\n",
      "Accuracy: 77.778%\n",
      "\n",
      "AUC: 0.8704\n"
     ]
    }
   ],
   "source": [
    "loss, accuracy, auc = early_fusion_model.evaluate(X_test, y_test, batch_size=batch_size, verbose=0)\n",
    "score = accuracy * 100\n",
    "accuracies.append(round(score, 2))\n",
    "aucs.append(round(auc * 100, 2))\n",
    "print('\\nAccuracy: %.3f%%' % score)\n",
    "print('\\nAUC:', round(auc, 4))"
   ]
  },
  {
   "cell_type": "markdown",
   "metadata": {},
   "source": [
    "#### Train Convolutional LSTM Model (from uni-modal architectures)"
   ]
  },
  {
   "cell_type": "code",
   "execution_count": 22,
   "metadata": {},
   "outputs": [
    {
     "name": "stdout",
     "output_type": "stream",
     "text": [
      "(534, 1, 1, 350, 48) (534, 3)\n",
      "(81, 1, 1, 350, 48) (81, 3)\n"
     ]
    }
   ],
   "source": [
    "X_train, X_test, y_train, y_test = apply_early_fusion('processed', 'pain_level', 'convLSTM')\n",
    "\n",
    "print(X_train.shape, y_train.shape)\n",
    "print(X_test.shape, y_test.shape)"
   ]
  },
  {
   "cell_type": "code",
   "execution_count": 23,
   "metadata": {},
   "outputs": [],
   "source": [
    "n_timesteps, n_length, n_features, n_outputs = X_train.shape[1], X_train.shape[3], X_train.shape[-1], y_train.shape[1]"
   ]
  },
  {
   "cell_type": "code",
   "execution_count": 24,
   "metadata": {},
   "outputs": [
    {
     "name": "stdout",
     "output_type": "stream",
     "text": [
      "Model: \"sequential_12\"\n",
      "_________________________________________________________________\n",
      " Layer (type)                Output Shape              Param #   \n",
      "=================================================================\n",
      " conv_lstm2d_4 (ConvLSTM2D)  (None, 1, 348, 64)        86272     \n",
      "                                                                 \n",
      " flatten_12 (Flatten)        (None, 22272)             0         \n",
      "                                                                 \n",
      " dense_24 (Dense)            (None, 100)               2227300   \n",
      "                                                                 \n",
      " dense_25 (Dense)            (None, 3)                 303       \n",
      "                                                                 \n",
      "=================================================================\n",
      "Total params: 2,313,875\n",
      "Trainable params: 2,313,875\n",
      "Non-trainable params: 0\n",
      "_________________________________________________________________\n"
     ]
    }
   ],
   "source": [
    "early_fusion_model = get_convLSTM_model(n_timesteps, n_features, n_outputs, n_length)\n",
    "early_fusion_model.summary()"
   ]
  },
  {
   "cell_type": "code",
   "execution_count": 25,
   "metadata": {},
   "outputs": [
    {
     "name": "stdout",
     "output_type": "stream",
     "text": [
      "Epoch 1/50\n",
      "6/6 - 3s - loss: 270.9732 - accuracy: 0.4579 - auc_13: 0.5970 - val_loss: 15.0294 - val_accuracy: 0.6629 - val_auc_13: 0.7472 - 3s/epoch - 454ms/step\n",
      "Epoch 2/50\n",
      "6/6 - 1s - loss: 8.6945 - accuracy: 0.4691 - auc_13: 0.6134 - val_loss: 4.1094 - val_accuracy: 0.6629 - val_auc_13: 0.7472 - 867ms/epoch - 144ms/step\n",
      "Epoch 3/50\n",
      "6/6 - 1s - loss: 5.3281 - accuracy: 0.6320 - auc_13: 0.7240 - val_loss: 3.2908 - val_accuracy: 0.6629 - val_auc_13: 0.7440 - 868ms/epoch - 145ms/step\n",
      "Epoch 4/50\n",
      "6/6 - 1s - loss: 2.3285 - accuracy: 0.5309 - auc_13: 0.7418 - val_loss: 1.5722 - val_accuracy: 0.5337 - val_auc_13: 0.7622 - 858ms/epoch - 143ms/step\n",
      "Epoch 5/50\n",
      "6/6 - 1s - loss: 1.8314 - accuracy: 0.6180 - auc_13: 0.8034 - val_loss: 1.5612 - val_accuracy: 0.5787 - val_auc_13: 0.8136 - 870ms/epoch - 145ms/step\n",
      "Epoch 6/50\n",
      "6/6 - 1s - loss: 1.6406 - accuracy: 0.4663 - auc_13: 0.7210 - val_loss: 1.4572 - val_accuracy: 0.5449 - val_auc_13: 0.7904 - 862ms/epoch - 144ms/step\n",
      "Epoch 7/50\n",
      "6/6 - 1s - loss: 1.4564 - accuracy: 0.6180 - auc_13: 0.8108 - val_loss: 1.4904 - val_accuracy: 0.5787 - val_auc_13: 0.8126 - 885ms/epoch - 147ms/step\n",
      "Epoch 8/50\n",
      "6/6 - 1s - loss: 1.2223 - accuracy: 0.5506 - auc_13: 0.7753 - val_loss: 1.4999 - val_accuracy: 0.4775 - val_auc_13: 0.7374 - 865ms/epoch - 144ms/step\n"
     ]
    },
    {
     "data": {
      "image/png": "[encoded data removed]",
      "text/plain": [
       "<Figure size 432x288 with 1 Axes>"
      ]
     },
     "metadata": {
      "needs_background": "light"
     },
     "output_type": "display_data"
    },
    {
     "name": "stdout",
     "output_type": "stream",
     "text": [
      "Epoch 1/50\n",
      "6/6 - 3s - loss: 86.4325 - accuracy: 0.5169 - auc_14: 0.6477 - val_loss: 3.8345 - val_accuracy: 0.1404 - val_auc_14: 0.5275 - 3s/epoch - 450ms/step\n",
      "Epoch 2/50\n",
      "6/6 - 1s - loss: 1.5525 - accuracy: 0.5562 - auc_14: 0.5542 - val_loss: 1.1084 - val_accuracy: 0.6292 - val_auc_14: 0.7431 - 863ms/epoch - 144ms/step\n",
      "Epoch 3/50\n",
      "6/6 - 1s - loss: 1.0981 - accuracy: 0.6461 - auc_14: 0.7887 - val_loss: 1.0905 - val_accuracy: 0.6292 - val_auc_14: 0.8083 - 847ms/epoch - 141ms/step\n",
      "Epoch 4/50\n",
      "6/6 - 1s - loss: 1.0876 - accuracy: 0.6461 - auc_14: 0.8064 - val_loss: 1.0796 - val_accuracy: 0.6292 - val_auc_14: 0.8083 - 854ms/epoch - 142ms/step\n",
      "Epoch 5/50\n",
      "6/6 - 1s - loss: 1.0811 - accuracy: 0.6461 - auc_14: 0.8081 - val_loss: 1.0736 - val_accuracy: 0.6292 - val_auc_14: 0.8134 - 848ms/epoch - 141ms/step\n",
      "Epoch 6/50\n",
      "6/6 - 1s - loss: 1.0762 - accuracy: 0.6461 - auc_14: 0.8095 - val_loss: 1.0695 - val_accuracy: 0.6292 - val_auc_14: 0.8139 - 849ms/epoch - 142ms/step\n",
      "Epoch 7/50\n",
      "6/6 - 1s - loss: 1.0722 - accuracy: 0.6461 - auc_14: 0.8109 - val_loss: 1.0666 - val_accuracy: 0.6348 - val_auc_14: 0.8139 - 863ms/epoch - 144ms/step\n",
      "Epoch 8/50\n",
      "6/6 - 1s - loss: 1.0697 - accuracy: 0.6489 - auc_14: 0.8109 - val_loss: 1.0645 - val_accuracy: 0.6348 - val_auc_14: 0.8139 - 862ms/epoch - 144ms/step\n",
      "Epoch 9/50\n",
      "6/6 - 1s - loss: 1.0678 - accuracy: 0.6489 - auc_14: 0.8109 - val_loss: 1.0629 - val_accuracy: 0.6348 - val_auc_14: 0.8139 - 856ms/epoch - 143ms/step\n",
      "Epoch 10/50\n",
      "6/6 - 1s - loss: 1.0663 - accuracy: 0.6489 - auc_14: 0.8112 - val_loss: 1.0617 - val_accuracy: 0.6348 - val_auc_14: 0.8157 - 861ms/epoch - 144ms/step\n",
      "Epoch 11/50\n",
      "6/6 - 1s - loss: 1.0653 - accuracy: 0.6489 - auc_14: 0.8118 - val_loss: 1.0608 - val_accuracy: 0.6348 - val_auc_14: 0.8167 - 852ms/epoch - 142ms/step\n",
      "Epoch 12/50\n",
      "6/6 - 1s - loss: 1.0645 - accuracy: 0.6489 - auc_14: 0.8123 - val_loss: 1.0601 - val_accuracy: 0.6348 - val_auc_14: 0.8167 - 853ms/epoch - 142ms/step\n",
      "Epoch 13/50\n",
      "6/6 - 1s - loss: 1.0639 - accuracy: 0.6489 - auc_14: 0.8135 - val_loss: 1.0596 - val_accuracy: 0.6348 - val_auc_14: 0.8167 - 853ms/epoch - 142ms/step\n",
      "Epoch 14/50\n",
      "6/6 - 1s - loss: 1.0635 - accuracy: 0.6489 - auc_14: 0.8123 - val_loss: 1.0592 - val_accuracy: 0.6348 - val_auc_14: 0.8167 - 853ms/epoch - 142ms/step\n",
      "Epoch 15/50\n",
      "6/6 - 1s - loss: 1.0631 - accuracy: 0.6489 - auc_14: 0.8123 - val_loss: 1.0589 - val_accuracy: 0.6348 - val_auc_14: 0.8167 - 860ms/epoch - 143ms/step\n",
      "Epoch 16/50\n",
      "6/6 - 1s - loss: 1.0629 - accuracy: 0.6489 - auc_14: 0.8123 - val_loss: 1.0587 - val_accuracy: 0.6348 - val_auc_14: 0.8167 - 866ms/epoch - 144ms/step\n",
      "Epoch 17/50\n",
      "6/6 - 1s - loss: 1.0627 - accuracy: 0.6489 - auc_14: 0.8123 - val_loss: 1.0585 - val_accuracy: 0.6348 - val_auc_14: 0.8167 - 851ms/epoch - 142ms/step\n",
      "Epoch 18/50\n",
      "6/6 - 1s - loss: 1.0625 - accuracy: 0.6489 - auc_14: 0.8123 - val_loss: 1.0584 - val_accuracy: 0.6348 - val_auc_14: 0.8167 - 873ms/epoch - 145ms/step\n",
      "Epoch 19/50\n",
      "6/6 - 1s - loss: 1.0624 - accuracy: 0.6489 - auc_14: 0.8123 - val_loss: 1.0583 - val_accuracy: 0.6348 - val_auc_14: 0.8167 - 853ms/epoch - 142ms/step\n",
      "Epoch 20/50\n",
      "6/6 - 1s - loss: 1.0623 - accuracy: 0.6489 - auc_14: 0.8123 - val_loss: 1.0582 - val_accuracy: 0.6348 - val_auc_14: 0.8167 - 856ms/epoch - 143ms/step\n",
      "Epoch 21/50\n",
      "6/6 - 1s - loss: 1.0623 - accuracy: 0.6489 - auc_14: 0.8123 - val_loss: 1.0582 - val_accuracy: 0.6348 - val_auc_14: 0.8167 - 863ms/epoch - 144ms/step\n",
      "Epoch 22/50\n",
      "6/6 - 1s - loss: 1.0622 - accuracy: 0.6489 - auc_14: 0.8123 - val_loss: 1.0581 - val_accuracy: 0.6348 - val_auc_14: 0.8167 - 858ms/epoch - 143ms/step\n",
      "Epoch 23/50\n",
      "6/6 - 1s - loss: 1.0622 - accuracy: 0.6489 - auc_14: 0.8123 - val_loss: 1.0581 - val_accuracy: 0.6348 - val_auc_14: 0.8167 - 854ms/epoch - 142ms/step\n",
      "Epoch 24/50\n",
      "6/6 - 1s - loss: 1.0622 - accuracy: 0.6489 - auc_14: 0.8123 - val_loss: 1.0581 - val_accuracy: 0.6348 - val_auc_14: 0.8167 - 849ms/epoch - 142ms/step\n",
      "Epoch 25/50\n",
      "6/6 - 1s - loss: 1.0621 - accuracy: 0.6489 - auc_14: 0.8123 - val_loss: 1.0580 - val_accuracy: 0.6348 - val_auc_14: 0.8167 - 861ms/epoch - 144ms/step\n",
      "Epoch 26/50\n",
      "6/6 - 1s - loss: 1.0621 - accuracy: 0.6489 - auc_14: 0.8123 - val_loss: 1.0580 - val_accuracy: 0.6348 - val_auc_14: 0.8167 - 857ms/epoch - 143ms/step\n",
      "Epoch 27/50\n",
      "6/6 - 1s - loss: 1.0621 - accuracy: 0.6489 - auc_14: 0.8123 - val_loss: 1.0580 - val_accuracy: 0.6348 - val_auc_14: 0.8167 - 847ms/epoch - 141ms/step\n",
      "Epoch 28/50\n",
      "6/6 - 1s - loss: 1.0621 - accuracy: 0.6489 - auc_14: 0.8123 - val_loss: 1.0580 - val_accuracy: 0.6348 - val_auc_14: 0.8167 - 847ms/epoch - 141ms/step\n",
      "Epoch 29/50\n",
      "6/6 - 1s - loss: 1.0621 - accuracy: 0.6489 - auc_14: 0.8123 - val_loss: 1.0580 - val_accuracy: 0.6348 - val_auc_14: 0.8167 - 845ms/epoch - 141ms/step\n",
      "Epoch 30/50\n",
      "6/6 - 1s - loss: 1.0621 - accuracy: 0.6489 - auc_14: 0.8123 - val_loss: 1.0580 - val_accuracy: 0.6348 - val_auc_14: 0.8167 - 845ms/epoch - 141ms/step\n",
      "Epoch 31/50\n",
      "6/6 - 1s - loss: 1.0621 - accuracy: 0.6489 - auc_14: 0.8123 - val_loss: 1.0580 - val_accuracy: 0.6348 - val_auc_14: 0.8167 - 836ms/epoch - 139ms/step\n",
      "Epoch 32/50\n",
      "6/6 - 1s - loss: 1.0621 - accuracy: 0.6489 - auc_14: 0.8123 - val_loss: 1.0580 - val_accuracy: 0.6348 - val_auc_14: 0.8167 - 859ms/epoch - 143ms/step\n",
      "Epoch 33/50\n",
      "6/6 - 1s - loss: 1.0621 - accuracy: 0.6489 - auc_14: 0.8123 - val_loss: 1.0580 - val_accuracy: 0.6348 - val_auc_14: 0.8167 - 866ms/epoch - 144ms/step\n",
      "Epoch 34/50\n",
      "6/6 - 1s - loss: 1.0621 - accuracy: 0.6489 - auc_14: 0.8123 - val_loss: 1.0580 - val_accuracy: 0.6348 - val_auc_14: 0.8167 - 851ms/epoch - 142ms/step\n",
      "Epoch 35/50\n",
      "6/6 - 1s - loss: 1.0621 - accuracy: 0.6489 - auc_14: 0.8123 - val_loss: 1.0580 - val_accuracy: 0.6348 - val_auc_14: 0.8167 - 850ms/epoch - 142ms/step\n",
      "Epoch 36/50\n",
      "6/6 - 1s - loss: 1.0621 - accuracy: 0.6489 - auc_14: 0.8123 - val_loss: 1.0580 - val_accuracy: 0.6348 - val_auc_14: 0.8167 - 855ms/epoch - 142ms/step\n",
      "Epoch 37/50\n",
      "6/6 - 1s - loss: 1.0621 - accuracy: 0.6489 - auc_14: 0.8123 - val_loss: 1.0580 - val_accuracy: 0.6348 - val_auc_14: 0.8167 - 868ms/epoch - 145ms/step\n",
      "Epoch 38/50\n",
      "6/6 - 1s - loss: 1.0621 - accuracy: 0.6489 - auc_14: 0.8123 - val_loss: 1.0580 - val_accuracy: 0.6348 - val_auc_14: 0.8167 - 854ms/epoch - 142ms/step\n",
      "Epoch 39/50\n",
      "6/6 - 1s - loss: 1.0621 - accuracy: 0.6489 - auc_14: 0.8123 - val_loss: 1.0580 - val_accuracy: 0.6348 - val_auc_14: 0.8167 - 857ms/epoch - 143ms/step\n",
      "Epoch 40/50\n",
      "6/6 - 1s - loss: 1.0621 - accuracy: 0.6489 - auc_14: 0.8123 - val_loss: 1.0580 - val_accuracy: 0.6348 - val_auc_14: 0.8167 - 852ms/epoch - 142ms/step\n",
      "Epoch 41/50\n",
      "6/6 - 1s - loss: 1.0621 - accuracy: 0.6489 - auc_14: 0.8123 - val_loss: 1.0580 - val_accuracy: 0.6348 - val_auc_14: 0.8167 - 849ms/epoch - 142ms/step\n",
      "Epoch 42/50\n",
      "6/6 - 1s - loss: 1.0621 - accuracy: 0.6489 - auc_14: 0.8123 - val_loss: 1.0580 - val_accuracy: 0.6348 - val_auc_14: 0.8167 - 855ms/epoch - 143ms/step\n",
      "Epoch 43/50\n",
      "6/6 - 1s - loss: 1.0621 - accuracy: 0.6489 - auc_14: 0.8123 - val_loss: 1.0580 - val_accuracy: 0.6348 - val_auc_14: 0.8167 - 858ms/epoch - 143ms/step\n",
      "Epoch 44/50\n",
      "6/6 - 1s - loss: 1.0621 - accuracy: 0.6489 - auc_14: 0.8123 - val_loss: 1.0580 - val_accuracy: 0.6348 - val_auc_14: 0.8167 - 857ms/epoch - 143ms/step\n",
      "Epoch 45/50\n",
      "6/6 - 1s - loss: 1.0621 - accuracy: 0.6489 - auc_14: 0.8123 - val_loss: 1.0580 - val_accuracy: 0.6348 - val_auc_14: 0.8167 - 846ms/epoch - 141ms/step\n",
      "Epoch 46/50\n",
      "6/6 - 1s - loss: 1.0621 - accuracy: 0.6489 - auc_14: 0.8123 - val_loss: 1.0580 - val_accuracy: 0.6348 - val_auc_14: 0.8167 - 857ms/epoch - 143ms/step\n",
      "Epoch 47/50\n",
      "6/6 - 1s - loss: 1.0621 - accuracy: 0.6489 - auc_14: 0.8123 - val_loss: 1.0580 - val_accuracy: 0.6348 - val_auc_14: 0.8167 - 846ms/epoch - 141ms/step\n"
     ]
    },
    {
     "data": {
      "image/png": "[encoded data removed]",
      "text/plain": [
       "<Figure size 432x288 with 1 Axes>"
      ]
     },
     "metadata": {
      "needs_background": "light"
     },
     "output_type": "display_data"
    },
    {
     "name": "stdout",
     "output_type": "stream",
     "text": [
      "Epoch 1/50\n",
      "6/6 - 3s - loss: 155.0260 - accuracy: 0.4579 - auc_15: 0.5955 - val_loss: 321.4475 - val_accuracy: 0.6348 - val_auc_15: 0.7261 - 3s/epoch - 458ms/step\n",
      "Epoch 2/50\n",
      "6/6 - 1s - loss: 176.7121 - accuracy: 0.5843 - auc_15: 0.6895 - val_loss: 77.0414 - val_accuracy: 0.4045 - val_auc_15: 0.5628 - 876ms/epoch - 146ms/step\n",
      "Epoch 3/50\n",
      "6/6 - 1s - loss: 44.8347 - accuracy: 0.5562 - auc_15: 0.6721 - val_loss: 33.3530 - val_accuracy: 0.6348 - val_auc_15: 0.7241 - 880ms/epoch - 147ms/step\n",
      "Epoch 4/50\n",
      "6/6 - 1s - loss: 16.8644 - accuracy: 0.5253 - auc_15: 0.6815 - val_loss: 11.5606 - val_accuracy: 0.4270 - val_auc_15: 0.6195 - 872ms/epoch - 145ms/step\n",
      "Epoch 5/50\n",
      "6/6 - 1s - loss: 8.5888 - accuracy: 0.5590 - auc_15: 0.7202 - val_loss: 8.2119 - val_accuracy: 0.5899 - val_auc_15: 0.7326 - 867ms/epoch - 144ms/step\n",
      "Epoch 6/50\n",
      "6/6 - 1s - loss: 5.7266 - accuracy: 0.6236 - auc_15: 0.7819 - val_loss: 3.9932 - val_accuracy: 0.5393 - val_auc_15: 0.7230 - 864ms/epoch - 144ms/step\n",
      "Epoch 7/50\n",
      "6/6 - 1s - loss: 3.4843 - accuracy: 0.4663 - auc_15: 0.6866 - val_loss: 3.2366 - val_accuracy: 0.4438 - val_auc_15: 0.6855 - 863ms/epoch - 144ms/step\n",
      "Epoch 8/50\n",
      "6/6 - 1s - loss: 2.8550 - accuracy: 0.4551 - auc_15: 0.6909 - val_loss: 2.3890 - val_accuracy: 0.5281 - val_auc_15: 0.7595 - 874ms/epoch - 146ms/step\n",
      "Epoch 9/50\n",
      "6/6 - 1s - loss: 2.2943 - accuracy: 0.5365 - auc_15: 0.7487 - val_loss: 2.1261 - val_accuracy: 0.6124 - val_auc_15: 0.7768 - 864ms/epoch - 144ms/step\n",
      "Epoch 10/50\n",
      "6/6 - 1s - loss: 2.0670 - accuracy: 0.5983 - auc_15: 0.7579 - val_loss: 1.9230 - val_accuracy: 0.6180 - val_auc_15: 0.7752 - 871ms/epoch - 145ms/step\n",
      "Epoch 11/50\n",
      "6/6 - 1s - loss: 1.8754 - accuracy: 0.5899 - auc_15: 0.7495 - val_loss: 1.7886 - val_accuracy: 0.6180 - val_auc_15: 0.7762 - 867ms/epoch - 144ms/step\n",
      "Epoch 12/50\n",
      "6/6 - 1s - loss: 1.7552 - accuracy: 0.5730 - auc_15: 0.7427 - val_loss: 1.7164 - val_accuracy: 0.5843 - val_auc_15: 0.7730 - 881ms/epoch - 147ms/step\n",
      "Epoch 13/50\n",
      "6/6 - 1s - loss: 1.6833 - accuracy: 0.5562 - auc_15: 0.7380 - val_loss: 1.6687 - val_accuracy: 0.5899 - val_auc_15: 0.7725 - 867ms/epoch - 144ms/step\n",
      "Epoch 14/50\n",
      "6/6 - 1s - loss: 1.6351 - accuracy: 0.5646 - auc_15: 0.7401 - val_loss: 1.6361 - val_accuracy: 0.5730 - val_auc_15: 0.7703 - 864ms/epoch - 144ms/step\n",
      "Epoch 15/50\n",
      "6/6 - 1s - loss: 1.5973 - accuracy: 0.5562 - auc_15: 0.7416 - val_loss: 1.6115 - val_accuracy: 0.5843 - val_auc_15: 0.7715 - 878ms/epoch - 146ms/step\n",
      "Epoch 16/50\n",
      "6/6 - 1s - loss: 1.5719 - accuracy: 0.5702 - auc_15: 0.7431 - val_loss: 1.5887 - val_accuracy: 0.5843 - val_auc_15: 0.7719 - 879ms/epoch - 146ms/step\n",
      "Epoch 17/50\n",
      "6/6 - 1s - loss: 1.5487 - accuracy: 0.5702 - auc_15: 0.7432 - val_loss: 1.5737 - val_accuracy: 0.5843 - val_auc_15: 0.7722 - 867ms/epoch - 144ms/step\n",
      "Epoch 18/50\n",
      "6/6 - 1s - loss: 1.5305 - accuracy: 0.5674 - auc_15: 0.7448 - val_loss: 1.5634 - val_accuracy: 0.5843 - val_auc_15: 0.7729 - 867ms/epoch - 145ms/step\n",
      "Epoch 19/50\n",
      "6/6 - 1s - loss: 1.5197 - accuracy: 0.5702 - auc_15: 0.7450 - val_loss: 1.5556 - val_accuracy: 0.5899 - val_auc_15: 0.7744 - 866ms/epoch - 144ms/step\n",
      "Epoch 20/50\n",
      "6/6 - 1s - loss: 1.5120 - accuracy: 0.5702 - auc_15: 0.7450 - val_loss: 1.5493 - val_accuracy: 0.5899 - val_auc_15: 0.7745 - 864ms/epoch - 144ms/step\n",
      "Epoch 21/50\n",
      "6/6 - 1s - loss: 1.5043 - accuracy: 0.5674 - auc_15: 0.7445 - val_loss: 1.5447 - val_accuracy: 0.5899 - val_auc_15: 0.7741 - 870ms/epoch - 145ms/step\n",
      "Epoch 22/50\n",
      "6/6 - 1s - loss: 1.4996 - accuracy: 0.5674 - auc_15: 0.7443 - val_loss: 1.5409 - val_accuracy: 0.5899 - val_auc_15: 0.7728 - 872ms/epoch - 145ms/step\n",
      "Epoch 23/50\n",
      "6/6 - 1s - loss: 1.4956 - accuracy: 0.5618 - auc_15: 0.7444 - val_loss: 1.5380 - val_accuracy: 0.5899 - val_auc_15: 0.7730 - 877ms/epoch - 146ms/step\n",
      "Epoch 24/50\n",
      "6/6 - 1s - loss: 1.4921 - accuracy: 0.5646 - auc_15: 0.7441 - val_loss: 1.5359 - val_accuracy: 0.5899 - val_auc_15: 0.7719 - 861ms/epoch - 143ms/step\n",
      "Epoch 25/50\n",
      "6/6 - 1s - loss: 1.4896 - accuracy: 0.5674 - auc_15: 0.7442 - val_loss: 1.5342 - val_accuracy: 0.5899 - val_auc_15: 0.7716 - 856ms/epoch - 143ms/step\n",
      "Epoch 26/50\n",
      "6/6 - 1s - loss: 1.4878 - accuracy: 0.5674 - auc_15: 0.7442 - val_loss: 1.5324 - val_accuracy: 0.5899 - val_auc_15: 0.7716 - 872ms/epoch - 145ms/step\n",
      "Epoch 27/50\n",
      "6/6 - 1s - loss: 1.4858 - accuracy: 0.5646 - auc_15: 0.7443 - val_loss: 1.5311 - val_accuracy: 0.5899 - val_auc_15: 0.7718 - 883ms/epoch - 147ms/step\n",
      "Epoch 28/50\n",
      "6/6 - 1s - loss: 1.4847 - accuracy: 0.5646 - auc_15: 0.7443 - val_loss: 1.5301 - val_accuracy: 0.5899 - val_auc_15: 0.7718 - 866ms/epoch - 144ms/step\n",
      "Epoch 29/50\n",
      "6/6 - 1s - loss: 1.4836 - accuracy: 0.5590 - auc_15: 0.7444 - val_loss: 1.5294 - val_accuracy: 0.5899 - val_auc_15: 0.7717 - 869ms/epoch - 145ms/step\n",
      "Epoch 30/50\n",
      "6/6 - 1s - loss: 1.4830 - accuracy: 0.5562 - auc_15: 0.7444 - val_loss: 1.5289 - val_accuracy: 0.5899 - val_auc_15: 0.7717 - 873ms/epoch - 145ms/step\n",
      "Epoch 31/50\n",
      "6/6 - 1s - loss: 1.4824 - accuracy: 0.5562 - auc_15: 0.7444 - val_loss: 1.5285 - val_accuracy: 0.5899 - val_auc_15: 0.7716 - 875ms/epoch - 146ms/step\n",
      "Epoch 32/50\n",
      "6/6 - 1s - loss: 1.4821 - accuracy: 0.5562 - auc_15: 0.7444 - val_loss: 1.5282 - val_accuracy: 0.5899 - val_auc_15: 0.7714 - 879ms/epoch - 147ms/step\n",
      "Epoch 33/50\n",
      "6/6 - 1s - loss: 1.4817 - accuracy: 0.5562 - auc_15: 0.7444 - val_loss: 1.5280 - val_accuracy: 0.5899 - val_auc_15: 0.7714 - 879ms/epoch - 146ms/step\n",
      "Epoch 34/50\n",
      "6/6 - 1s - loss: 1.4815 - accuracy: 0.5562 - auc_15: 0.7444 - val_loss: 1.5278 - val_accuracy: 0.5899 - val_auc_15: 0.7714 - 880ms/epoch - 147ms/step\n",
      "Epoch 35/50\n",
      "6/6 - 1s - loss: 1.4813 - accuracy: 0.5562 - auc_15: 0.7443 - val_loss: 1.5277 - val_accuracy: 0.5899 - val_auc_15: 0.7714 - 874ms/epoch - 146ms/step\n",
      "Epoch 36/50\n",
      "6/6 - 1s - loss: 1.4811 - accuracy: 0.5562 - auc_15: 0.7443 - val_loss: 1.5275 - val_accuracy: 0.5899 - val_auc_15: 0.7714 - 872ms/epoch - 145ms/step\n",
      "Epoch 37/50\n",
      "6/6 - 1s - loss: 1.4810 - accuracy: 0.5562 - auc_15: 0.7443 - val_loss: 1.5275 - val_accuracy: 0.5899 - val_auc_15: 0.7714 - 864ms/epoch - 144ms/step\n",
      "Epoch 38/50\n",
      "6/6 - 1s - loss: 1.4809 - accuracy: 0.5562 - auc_15: 0.7443 - val_loss: 1.5274 - val_accuracy: 0.5899 - val_auc_15: 0.7714 - 872ms/epoch - 145ms/step\n",
      "Epoch 39/50\n",
      "6/6 - 1s - loss: 1.4808 - accuracy: 0.5562 - auc_15: 0.7443 - val_loss: 1.5274 - val_accuracy: 0.5899 - val_auc_15: 0.7714 - 884ms/epoch - 147ms/step\n",
      "Epoch 40/50\n",
      "6/6 - 1s - loss: 1.4808 - accuracy: 0.5562 - auc_15: 0.7443 - val_loss: 1.5273 - val_accuracy: 0.5899 - val_auc_15: 0.7714 - 857ms/epoch - 143ms/step\n",
      "Epoch 41/50\n",
      "6/6 - 1s - loss: 1.4808 - accuracy: 0.5562 - auc_15: 0.7442 - val_loss: 1.5273 - val_accuracy: 0.5899 - val_auc_15: 0.7714 - 864ms/epoch - 144ms/step\n",
      "Epoch 42/50\n",
      "6/6 - 1s - loss: 1.4807 - accuracy: 0.5562 - auc_15: 0.7442 - val_loss: 1.5273 - val_accuracy: 0.5899 - val_auc_15: 0.7714 - 866ms/epoch - 144ms/step\n",
      "Epoch 43/50\n",
      "6/6 - 1s - loss: 1.4807 - accuracy: 0.5562 - auc_15: 0.7442 - val_loss: 1.5272 - val_accuracy: 0.5899 - val_auc_15: 0.7714 - 871ms/epoch - 145ms/step\n",
      "Epoch 44/50\n",
      "6/6 - 1s - loss: 1.4807 - accuracy: 0.5562 - auc_15: 0.7442 - val_loss: 1.5272 - val_accuracy: 0.5899 - val_auc_15: 0.7714 - 866ms/epoch - 144ms/step\n",
      "Epoch 45/50\n",
      "6/6 - 1s - loss: 1.4807 - accuracy: 0.5562 - auc_15: 0.7442 - val_loss: 1.5272 - val_accuracy: 0.5899 - val_auc_15: 0.7714 - 869ms/epoch - 145ms/step\n",
      "Epoch 46/50\n",
      "6/6 - 1s - loss: 1.4807 - accuracy: 0.5562 - auc_15: 0.7442 - val_loss: 1.5272 - val_accuracy: 0.5899 - val_auc_15: 0.7714 - 867ms/epoch - 144ms/step\n",
      "Epoch 47/50\n",
      "6/6 - 1s - loss: 1.4807 - accuracy: 0.5562 - auc_15: 0.7442 - val_loss: 1.5272 - val_accuracy: 0.5899 - val_auc_15: 0.7714 - 863ms/epoch - 144ms/step\n",
      "Epoch 48/50\n",
      "6/6 - 1s - loss: 1.4807 - accuracy: 0.5562 - auc_15: 0.7442 - val_loss: 1.5272 - val_accuracy: 0.5899 - val_auc_15: 0.7714 - 862ms/epoch - 144ms/step\n",
      "Epoch 49/50\n",
      "6/6 - 1s - loss: 1.4807 - accuracy: 0.5562 - auc_15: 0.7442 - val_loss: 1.5272 - val_accuracy: 0.5899 - val_auc_15: 0.7714 - 864ms/epoch - 144ms/step\n",
      "Epoch 50/50\n",
      "6/6 - 1s - loss: 1.4807 - accuracy: 0.5562 - auc_15: 0.7442 - val_loss: 1.5272 - val_accuracy: 0.5899 - val_auc_15: 0.7714 - 867ms/epoch - 145ms/step\n"
     ]
    },
    {
     "data": {
      "image/png": "[encoded data removed]",
      "text/plain": [
       "<Figure size 432x288 with 1 Axes>"
      ]
     },
     "metadata": {
      "needs_background": "light"
     },
     "output_type": "display_data"
    }
   ],
   "source": [
    "kf = KFold(n_splits=3, shuffle=True, random_state=42)\n",
    "X = X_train.copy()\n",
    "y = y_train.copy()\n",
    "for train_index, val_index in kf.split(X):\n",
    "    X_train, X_val = X[train_index], X[val_index]\n",
    "    y_train, y_val = y.iloc[train_index], y.iloc[val_index]\n",
    "    early_fusion_model = get_convLSTM_model(n_timesteps, n_features, n_outputs, n_length)\n",
    "    history = train(early_fusion_model, X_train, y_train, X_val, y_val, epochs=epochs, batch_size=batch_size)\n",
    "    plt.plot(history.history['loss'])\n",
    "    plt.show()"
   ]
  },
  {
   "cell_type": "code",
   "execution_count": 26,
   "metadata": {},
   "outputs": [
    {
     "name": "stdout",
     "output_type": "stream",
     "text": [
      "\n",
      "Accuracy: 59.259%\n",
      "\n",
      "AUC: 0.7659\n"
     ]
    }
   ],
   "source": [
    "loss, accuracy, auc = early_fusion_model.evaluate(X_test, y_test, batch_size=batch_size, verbose=0)\n",
    "score = accuracy * 100\n",
    "accuracies.append(round(score, 2))\n",
    "aucs.append(round(auc * 100, 2))\n",
    "print('\\nAccuracy: %.3f%%' % score)\n",
    "print('\\nAUC:', round(auc, 4))"
   ]
  },
  {
   "cell_type": "markdown",
   "metadata": {},
   "source": [
    "### 1.3 Late fusion - Pain area prediction"
   ]
  },
  {
   "cell_type": "markdown",
   "metadata": {},
   "source": [
    "### 1.4 Late fusion - Pain level prediction"
   ]
  },
  {
   "cell_type": "markdown",
   "metadata": {},
   "source": [
    "## 2. Ensemble\n",
    "\n",
    "Variants:\n",
    "\n",
    "-  **Early fusion**: a combination of the content of each ensemble member, for example, its prediction score are aggregated to learn a classifier (i.e., meta-learning).\n",
    "\n",
    "- **Late fusion**: "
   ]
  },
  {
   "cell_type": "markdown",
   "metadata": {},
   "source": [
    "## 3. Results"
   ]
  },
  {
   "cell_type": "code",
   "execution_count": 27,
   "metadata": {},
   "outputs": [],
   "source": [
    "def show_results(first, last):\n",
    "    plt.rcParams['figure.figsize'] = (8,8)\n",
    "    x = np.arange(len(model_names[first:last]))\n",
    "    width = 0.35\n",
    "\n",
    "    fig, ax = plt.subplots()\n",
    "    rects1 = ax.bar(x - width/2, accuracies[first:last], width, label='Accuracy')\n",
    "    rects2 = ax.bar(x + width/2, aucs[first:last], width, label='AUC * 100')\n",
    "\n",
    "    ax.set_ylim(0, 100)\n",
    "    ax.set_xticks(x, model_names[first:last])\n",
    "    ax.legend()\n",
    "\n",
    "    ax.bar_label(rects1, padding=3)\n",
    "    ax.bar_label(rects2, padding=3)\n",
    "\n",
    "    fig.tight_layout()\n",
    "\n",
    "    plt.show()"
   ]
  },
  {
   "cell_type": "markdown",
   "metadata": {},
   "source": [
    "### Model-free Early fusion - Pain area prediction \n",
    "\n",
    "CNN+LSTM vs Convolutional LSTM"
   ]
  },
  {
   "cell_type": "code",
   "execution_count": 28,
   "metadata": {},
   "outputs": [
    {
     "data": {
      "image/png": "[encoded data removed]",
      "text/plain": [
       "<Figure size 576x576 with 1 Axes>"
      ]
     },
     "metadata": {
      "needs_background": "light"
     },
     "output_type": "display_data"
    }
   ],
   "source": [
    "show_results(0, 2)"
   ]
  },
  {
   "cell_type": "markdown",
   "metadata": {},
   "source": [
    "### Model-free Early fusion - Pain level prediction \n",
    "\n",
    "CNN+LSTM vs Convolutional LSTM"
   ]
  },
  {
   "cell_type": "code",
   "execution_count": 29,
   "metadata": {},
   "outputs": [
    {
     "data": {
      "image/png": "[encoded data removed]",
      "text/plain": [
       "<Figure size 576x576 with 1 Axes>"
      ]
     },
     "metadata": {
      "needs_background": "light"
     },
     "output_type": "display_data"
    }
   ],
   "source": [
    "show_results(2, 4)"
   ]
  }
 ],
 "metadata": {
  "interpreter": {
   "hash": "225abd0b4b41c85229fb7285a24282bb8b7c5c494a1c5011beaea88d2c1fa3cf"
  },
  "kernelspec": {
   "display_name": "Python 3.9.10 ('masters-thesis-dSEc-4wZ')",
   "language": "python",
   "name": "python3"
  },
  "language_info": {
   "codemirror_mode": {
    "name": "ipython",
    "version": 3
   },
   "file_extension": ".py",
   "mimetype": "text/x-python",
   "name": "python",
   "nbconvert_exporter": "python",
   "pygments_lexer": "ipython3",
   "version": "3.9.10"
  },
  "orig_nbformat": 4
 },
 "nbformat": 4,
 "nbformat_minor": 2
}
