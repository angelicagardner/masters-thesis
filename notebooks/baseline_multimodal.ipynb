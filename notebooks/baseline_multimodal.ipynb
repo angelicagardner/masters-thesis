{
 "cells": [
  {
   "cell_type": "markdown",
   "metadata": {},
   "source": [
    "# Baseline Results for Multi-modal Approaches\n",
    "\n",
    "Evaluation metrics used:\n",
    "\n",
    "- ROC/AUC\n",
    "- Accuracy \n",
    "- Precision\n",
    "- Recall\n",
    "- F1-score"
   ]
  },
  {
   "cell_type": "code",
   "execution_count": 1,
   "metadata": {},
   "outputs": [],
   "source": [
    "import os\n",
    "os.environ['TF_CPP_MIN_LOG_LEVEL'] = '3'\n",
    "import warnings\n",
    "warnings.filterwarnings(\"ignore\")\n",
    "\n",
    "import numpy as np\n",
    "import pandas as pd\n",
    "import matplotlib.pyplot as plt\n",
    "import tensorflow as tf \n",
    "import tensorflow_addons as tfa\n",
    "\n",
    "from pathlib import Path\n",
    "from sklearn.preprocessing import LabelBinarizer\n",
    "from sklearn.model_selection import KFold\n",
    "from sklearn.ensemble import RandomForestClassifier\n",
    "from sklearn.metrics import precision_recall_fscore_support, roc_auc_score, accuracy_score\n",
    "from tensorflow.keras import optimizers\n",
    "from tensorflow.keras.layers import Layer, Input, LSTM, Dense, Flatten, TimeDistributed, Conv1D,  MaxPooling1D, ConvLSTM1D, BatchNormalization, Bidirectional, PReLU, Concatenate\n",
    "from tensorflow.keras import models, Model\n",
    "from tensorflow.keras.initializers import Constant"
   ]
  },
  {
   "cell_type": "markdown",
   "metadata": {},
   "source": [
    "## Methods for loading datasets and creating model architectures"
   ]
  },
  {
   "cell_type": "code",
   "execution_count": 2,
   "metadata": {},
   "outputs": [],
   "source": [
    "def load_file(file):\n",
    "    df = pd.read_csv(file, header=0)\n",
    "    labels = df['pain']\n",
    "    df = df.drop(columns=['pain'])\n",
    "    df.drop(df.columns[-1], axis=1, inplace=True)\n",
    "    return df, labels\n",
    "\n",
    "def load_dataset(input_filepath, modality):\n",
    "    feature_names = []\n",
    "    classes = []\n",
    "    root_dir = Path(os.path.abspath('')).parent\n",
    "    data_dir = root_dir / 'data'\n",
    "    train_filepath = data_dir / input_filepath / 'train' / modality\n",
    "    test_filepath = data_dir / input_filepath / 'test' / modality\n",
    "    # 1. Load train data\n",
    "    X = list()\n",
    "    y = list()\n",
    "    for file in train_filepath.iterdir():\n",
    "        if file.is_file() and file.name.endswith('.csv'):\n",
    "            x, labels = load_file(file)\n",
    "            if feature_names == []:\n",
    "                feature_names = x.columns.values.tolist()\n",
    "            if labels[0] not in classes:\n",
    "                classes.append(labels[0])\n",
    "            x = x.to_numpy()\n",
    "            X.append(x)\n",
    "            y.append(labels[0])\n",
    "    n_length = X[0].shape[0]\n",
    "    n_features = X[0].shape[1]\n",
    "    X = np.array(X)\n",
    "    X_train = X.reshape((len(X), 1, n_length, n_features))\n",
    "    lb = LabelBinarizer()\n",
    "    y_train = lb.fit_transform(y)\n",
    "    # 2. Load test data\n",
    "    X = list()\n",
    "    y = list()\n",
    "    for file in test_filepath.iterdir():\n",
    "        if file.is_file() and file.name.endswith('.csv'):\n",
    "            x, labels = load_file(file)\n",
    "            x = x.to_numpy()\n",
    "            X.append(x)\n",
    "            y.append(labels[0])\n",
    "    n_length = X[0].shape[0]\n",
    "    n_features = X[0].shape[1]\n",
    "    X = np.array(X)\n",
    "    X_test = X.reshape((len(X), 1, n_length, n_features))\n",
    "    y_test = lb.transform(y)\n",
    "    return X_train, X_test, y_train, y_test, feature_names, classes"
   ]
  },
  {
   "cell_type": "code",
   "execution_count": 3,
   "metadata": {},
   "outputs": [],
   "source": [
    "def apply_early_fusion(input_filepath):\n",
    "    root_dir = Path(os.path.abspath('')).parent\n",
    "    data_dir = root_dir / 'data'\n",
    "    body_train_filepath = data_dir / input_filepath / 'train' / 'skeleton'\n",
    "    body_test_filepath = data_dir / input_filepath / 'test' / 'skeleton'\n",
    "    face_train_filepath = data_dir / input_filepath / 'train' / 'AUs'\n",
    "    face_test_filepath = data_dir / input_filepath / 'test' / 'AUs'\n",
    "    # 1. Load train data\n",
    "    X = list()\n",
    "    y = list()\n",
    "    for file in body_train_filepath.iterdir():\n",
    "        if file.is_file() and file.name.endswith('.csv'):\n",
    "            body_x, body_labels = load_file(file)\n",
    "            has_equivalent_face_file = False\n",
    "            for second_file in face_train_filepath.iterdir():\n",
    "                if second_file.is_file() and second_file.name.endswith('.csv') and second_file.name == file.name:\n",
    "                    # Concatenate features\n",
    "                    face_x, face_labels = load_file(second_file)\n",
    "                    full_X = np.concatenate((body_x, face_x), axis=1)\n",
    "                    body_x = body_x.to_numpy()\n",
    "                    face_x = face_x.to_numpy()\n",
    "                    X.append(full_X)\n",
    "                    y.append(body_labels[0])\n",
    "                    has_equivalent_face_file = True\n",
    "                    break\n",
    "            if not has_equivalent_face_file:\n",
    "                continue\n",
    "                #full_X = np.concatenate((body_x, np.zeros((body_x.shape[0], 10))), axis=1)\n",
    "                #X.append(full_X)\n",
    "                #y.append(body_labels[0])\n",
    "    n_length = X[0].shape[0]\n",
    "    n_features = X[0].shape[1]\n",
    "    X = np.array(X)\n",
    "    X_train = X.reshape((len(X), 1, n_length, n_features))\n",
    "    lb = LabelBinarizer()\n",
    "    y_train = lb.fit_transform(y)\n",
    "    # 2. Load test data\n",
    "    X = list()\n",
    "    y = list()\n",
    "    for file in body_test_filepath.iterdir():\n",
    "        if file.is_file() and file.name.endswith('.csv'):\n",
    "            body_x, body_labels = load_file(file)\n",
    "            body_x = body_x.to_numpy()\n",
    "            has_equivalent_face_file = False\n",
    "            for second_file in face_test_filepath.iterdir():\n",
    "                if second_file.is_file() and second_file.name.endswith('.csv') and second_file.name == file.name:\n",
    "                    # Concatenate features\n",
    "                    face_x, face_labels = load_file(second_file)\n",
    "                    face_x = face_x.to_numpy()\n",
    "                    full_X = np.concatenate((body_x, face_x), axis=1)\n",
    "                    X.append(full_X)\n",
    "                    y.append(body_labels[0])\n",
    "                    has_equivalent_face_file = True\n",
    "                    break\n",
    "            if not has_equivalent_face_file:\n",
    "                continue\n",
    "    n_length = X[0].shape[0]\n",
    "    n_features = X[0].shape[1]\n",
    "    X = np.array(X)\n",
    "    X_test = X.reshape((len(X), 1, n_length, n_features))\n",
    "    y_test = lb.transform(y)\n",
    "    return X_train, X_test, y_train, y_test"
   ]
  },
  {
   "cell_type": "code",
   "execution_count": 4,
   "metadata": {},
   "outputs": [],
   "source": [
    "class KerasMember():\n",
    "    def __init__(self, name=None, keras_model=None, train_batches=None,\n",
    "                 val_batches=None, submission_probs=None, keras_modelpath=None,\n",
    "                 keras_kwargs={}):\n",
    "        assert(name is not None)\n",
    "        self.name = name\n",
    "        self.model = keras_model\n",
    "        self.submission_probs = submission_probs\n",
    "        # Initialize Params\n",
    "        self.val_probs = None\n",
    "        self.train_probs = None\n",
    "        self.val_classes = None\n",
    "        self.train_classes = None\n",
    "        if (keras_model is None) and (keras_modelpath is not None):\n",
    "            self.load_kerasmodel(self.keras_modelpath, self.keras_kwargs)\n",
    "        if train_batches is not None:\n",
    "            self._calculate_train_predictions(train_batches)\n",
    "        if val_batches is not None:\n",
    "            self._calculate_val_predictions(val_batches)\n",
    "\n",
    "    def _test_datatuple(self, datatuple):\n",
    "        assert(len(datatuple) == 2)\n",
    "        assert(datatuple[0].shape[0] == datatuple[1].shape[0])\n",
    "\n",
    "    def _calculate_predictions(self, batches):\n",
    "        if hasattr(batches, 'shuffle'):\n",
    "            batches.reset()\n",
    "            batches.shuffle = False\n",
    "        if type(batches) is tuple:\n",
    "            self._test_datatuple(batches)\n",
    "            return self.model.predict(batches[0])\n",
    "        return self.model.predict_generator(\n",
    "            batches, steps=(batches.n // batches.batch_size) + 1, verbose=1)\n",
    "\n",
    "    def _calculate_val_predictions(self, val_batches):\n",
    "        if type(val_batches) is tuple:\n",
    "            self.val_classes = val_batches[1]\n",
    "        elif hasattr(val_batches, 'classes'):\n",
    "            self.val_classes = np.array(val_batches.classes)\n",
    "        elif hasattr(val_batches, 'y'):\n",
    "            self.val_classes = np.array(val_batches.y)\n",
    "        else:\n",
    "            raise ValueError(\"No known class in data batch\")\n",
    "        self.val_probs = self._calculate_predictions(val_batches)\n",
    "        return self.val_probs\n",
    "\n",
    "    def _calculate_train_predictions(self, train_batches):\n",
    "        if type(train_batches) is tuple:\n",
    "            self.train_classes = train_batches[1]\n",
    "        elif hasattr(train_batches, 'classes'):\n",
    "            self.train_classes = np.array(train_batches.classes)\n",
    "        elif hasattr(train_batches, 'y'):\n",
    "            self.train_classes = np.array(train_batches.y)\n",
    "        else:\n",
    "            raise ValueError(\"No known class in data batch\")\n",
    "        self.train_probs = self._calculate_predictions(train_batches)\n",
    "        return self.train_probs\n"
   ]
  },
  {
   "cell_type": "markdown",
   "metadata": {},
   "source": [
    "### Bidirectional LSTM Model\n",
    "\n",
    "Bidrectional LSTM runs the input in two ways (past to future and future to past) making it possible to preserve information both backwards and forwards. I included this layer type anticipating it could be suited for making the model understand context to assess any experience of pain. \n",
    "\n",
    "Additionally, bidrectional LSTM is used by [Bargshady et al.](https://pubmed.ncbi.nlm.nih.gov/34756219/) in an Ensemble combination of CNN+BiLSTM models for facial expressions modality. Their settings: \n",
    "\n",
    "- filters: 256\n",
    "- dense: 4096"
   ]
  },
  {
   "cell_type": "code",
   "execution_count": 5,
   "metadata": {},
   "outputs": [],
   "source": [
    "def build_biConvLSTM(n_features, n_length, n_outputs, num_classes):\n",
    "    model = models.Sequential()\n",
    "    model.add(Bidirectional(ConvLSTM1D(filters=100, kernel_size=(3), activation='relu', input_shape=(None, n_length, n_features))))\n",
    "    model.add(Flatten())\n",
    "    model.add(Dense(100, activation='relu'))\n",
    "    model.add(Dense(n_outputs, activation='softmax'))\n",
    "    lr_schedule = optimizers.schedules.ExponentialDecay(\n",
    "        initial_learning_rate=0.001,\n",
    "        decay_steps=50,\n",
    "        decay_rate=0.1)\n",
    "    optimizer = optimizers.Adam(learning_rate=lr_schedule)\n",
    "    model.compile(loss='categorical_crossentropy',\n",
    "        optimizer=optimizer, metrics=['accuracy', tf.keras.metrics.AUC(), tf.keras.metrics.Precision(), tf.keras.metrics.Recall(), tfa.metrics.F1Score(num_classes=num_classes, average='macro')])\n",
    "    return model\n",
    "\n",
    "def train(model, X_train, y_train, X_val, y_val, epochs, batch_size):\n",
    "    early_stopping = tf.keras.callbacks.EarlyStopping(\n",
    "        monitor='val_loss', patience=2)\n",
    "    history = model.fit(X_train, y_train, validation_data=(X_val, y_val), epochs=epochs, callbacks=[early_stopping],\n",
    "        batch_size=batch_size, verbose=2)\n",
    "    return history"
   ]
  },
  {
   "cell_type": "markdown",
   "metadata": {},
   "source": [
    "### CNN+LSTM Model\n",
    "\n",
    "This combination was developed for visual time series prediction problems and is popular in both activity recognition and pain assessment areas.\n",
    "\n",
    "Several previous work has used CNN+LSTM models, for example:\n",
    "\n",
    "- [Yang et al.](https://arxiv.org/abs/2105.08822) to encode appearance changes and physiological cues from videos. \n",
    "\n",
    "- [Salekin et al.](https://arxiv.org/abs/2012.02175). Combines three modalities with (late) decision fusion. CNN filters start at 64 and gradually increses by a factor of 2 until 512. Used a small kernel size of 3, and follow with a pooling layer. Dense: 512. LSTM: 16 with activation tanh and recurrent activation hard sigmoid (because of binary classification). \n",
    "\n",
    "- [Haque et al.](https://ieeexplore-ieee-org.proxy.lnu.se/document/8373837) extracts RGB, thermal, depth features from videos and test two fusion strategies (early fusion received highest performance). LSTM hidden states vary between 64 and 256.\n",
    "\n",
    "- [Rodriguez et al.](https://ieeexplore-ieee-org.proxy.lnu.se/document/7849133). Trying to make an end-to-end framework using VGGFace architecture + LSTM."
   ]
  },
  {
   "cell_type": "code",
   "execution_count": 6,
   "metadata": {},
   "outputs": [],
   "source": [
    "def get_CNN(n_features, n_length, n_outputs, num_classes):\n",
    "    model = models.Sequential()\n",
    "    model.add(TimeDistributed(Conv1D(filters=64, kernel_size=3,\n",
    "        activation='relu'), input_shape=(None, n_length, n_features)))\n",
    "    model.add(TimeDistributed(MaxPooling1D(pool_size=2, data_format='channels_first')))\n",
    "    model.add(TimeDistributed(Flatten()))\n",
    "    model.add(LSTM(100))\n",
    "    model.add(Dense(100, activation='relu'))\n",
    "    model.add(Dense(n_outputs, activation='softmax'))\n",
    "    lr_schedule = optimizers.schedules.ExponentialDecay(\n",
    "        initial_learning_rate=0.001,\n",
    "        decay_steps=50,\n",
    "        decay_rate=0.1)\n",
    "    optimizer = optimizers.Adam(learning_rate=lr_schedule)\n",
    "    model.compile(loss='categorical_crossentropy',\n",
    "        optimizer=optimizer, metrics=['accuracy', tf.keras.metrics.AUC(), tf.keras.metrics.Precision(), tf.keras.metrics.Recall(), tfa.metrics.F1Score(num_classes=num_classes, average='macro')])\n",
    "    return model"
   ]
  },
  {
   "cell_type": "markdown",
   "metadata": {},
   "source": [
    "### Convolutional LSTM Model\n",
    "\n",
    "A CNN-LSTM (model above) is an integration of a CNN with an LSTM, but ConvLSTM is a kind of LSTM which replaces the matrix multiplication with convolution operation at each gate in the LSTM cell.\n",
    "\n",
    "I have not encountered this layer type when preparing the training protocol (from previous work), but I find it interesting to see if it could give different results."
   ]
  },
  {
   "cell_type": "code",
   "execution_count": 7,
   "metadata": {},
   "outputs": [],
   "source": [
    "def build_convLSTM(n_features, n_length, n_outputs, num_classes):\n",
    "    model = models.Sequential()\n",
    "    model.add(ConvLSTM1D(filters=64, kernel_size=(3), activation='relu', input_shape=(None, n_length, n_features)))\n",
    "    model.add(Flatten())\n",
    "    model.add(Dense(100, activation='relu'))\n",
    "    model.add(Dense(n_outputs, activation='softmax'))\n",
    "    lr_schedule = optimizers.schedules.ExponentialDecay(\n",
    "        initial_learning_rate=0.001,\n",
    "        decay_steps=50,\n",
    "        decay_rate=0.1)\n",
    "    optimizer = optimizers.Adam(learning_rate=lr_schedule)\n",
    "    model.compile(loss='categorical_crossentropy',\n",
    "        optimizer=optimizer, metrics=['accuracy', tf.keras.metrics.AUC(), tf.keras.metrics.Precision(), tf.keras.metrics.Recall(), tfa.metrics.F1Score(num_classes=num_classes, average='macro')])\n",
    "    return model"
   ]
  },
  {
   "cell_type": "markdown",
   "metadata": {},
   "source": [
    "### RCNN (Recurrent CNN) Model\n",
    "\n",
    "A network that has both convolutional and recurrent convolutional layers, or adding recurrent connections within every convolutional layer of a feed-forward CNN.\n",
    "\n",
    "Additionally, RCNN is used by [Zhou et al.](https://ieeexplore-ieee-org.proxy.lnu.se/document/7789681) with video input for pain intensity prediction using PSPI."
   ]
  },
  {
   "cell_type": "code",
   "execution_count": 8,
   "metadata": {},
   "outputs": [],
   "source": [
    "def build_RCNN(n_features, n_length, n_outputs, num_classes):\n",
    "    model = models.Sequential()\n",
    "    model.add(TimeDistributed(Conv1D(filters=128, kernel_size=3, activation='relu'), input_shape=(1, n_length, n_features)))\n",
    "    model.add(BatchNormalization())\n",
    "    model.add(PReLU(alpha_initializer=Constant(value=0.25)))\n",
    "    model.add(TimeDistributed(MaxPooling1D(pool_size=2, data_format='channels_first')))\n",
    "    model.add(TimeDistributed(Conv1D(filters=64, kernel_size=3, activation='relu')))\n",
    "    model.add(BatchNormalization())\n",
    "    model.add(PReLU(alpha_initializer=Constant(value=0.25)))\n",
    "    model.add(TimeDistributed(MaxPooling1D(pool_size=2, data_format='channels_first')))\n",
    "    model.add(Flatten())\n",
    "    model.add(Dense(256))\n",
    "    model.add(PReLU(alpha_initializer=Constant(value=0.25)))\n",
    "    model.add(Dense(n_outputs, activation='softmax'))\n",
    "    lr_schedule = optimizers.schedules.ExponentialDecay(\n",
    "        initial_learning_rate=0.001,\n",
    "        decay_steps=50,\n",
    "        decay_rate=0.1)\n",
    "    optimizer = optimizers.Adam(learning_rate=lr_schedule)\n",
    "    model.compile(loss='categorical_crossentropy',\n",
    "       optimizer=optimizer, metrics=['accuracy', tf.keras.metrics.AUC(), tf.keras.metrics.Precision(), tf.keras.metrics.Recall(), tfa.metrics.F1Score(num_classes=num_classes, average='macro')])\n",
    "    return model"
   ]
  },
  {
   "cell_type": "markdown",
   "metadata": {},
   "source": [
    "### Stacking Ensemble with hard voting\n",
    "\n",
    "Hard voting involves summing the member predictions for each class label and predicting the class label with the most votes."
   ]
  },
  {
   "cell_type": "code",
   "execution_count": 9,
   "metadata": {},
   "outputs": [],
   "source": [
    "class StackEnsemble():\n",
    "    def __init__(self, model=None):\n",
    "        self.model = model\n",
    "        if model is None:\n",
    "            self.model = RandomForestClassifier(n_estimators=100, max_depth=4, n_jobs=20)\n",
    "        # Initialize Parameters:\n",
    "        self.members = []\n",
    "        self._nmembers = 0\n",
    "        self.predictions = None\n",
    "        self._y_squeezed = False  # Flags if labels dimension must be squeezed\n",
    "\n",
    "    def __repr__(self):\n",
    "        reps = [member.name for member in self.members]\n",
    "        return \"<StackEnsemble: [\" + \", \".join(reps) + \"]>\"\n",
    "\n",
    "    def __str__(self):\n",
    "        reps = [member.name for member in self.members]\n",
    "        return \"StackEnsemble: with\" + \\\n",
    "            str(self._nmembers) + \" Base-Learners [\" + \", \".join(reps) + \"]\"\n",
    "\n",
    "    def add_members(self, members):\n",
    "        for member in members:\n",
    "            self.add_member(member)\n",
    "        self._test()\n",
    "\n",
    "    def add_member(self, member):\n",
    "        self.members.append(member)\n",
    "        self._nmembers += 1\n",
    "        if member.val_probs is None:\n",
    "            try:\n",
    "                member.val_probs = member._calculate_val_predictions()\n",
    "            except Exception as e:\n",
    "                warnings.warn(str(e))\n",
    "        if member.train_probs is None:\n",
    "            try:\n",
    "                member.train_probs = member._calculate_train_predictions()\n",
    "            except Exception as e:\n",
    "                warnings.warn(str(e))\n",
    "\n",
    "    def fit(self, X=None, y=None, kwargs={}):\n",
    "        assert(len(self.members) > 1)\n",
    "        # Assumption: all members have same train_batches.classes\n",
    "        if X is None or y is None:\n",
    "            return self._fit_train()\n",
    "        if X.ndim >= 3:\n",
    "            X = X.reshape(X.shape[0], np.prod(X.shape[1::]))\n",
    "        try:\n",
    "            self._y_squeezed = False\n",
    "            return self.model.fit(X, y, **kwargs)\n",
    "        except ValueError:  # Normally bad input shape for non-multi-output models\n",
    "            self._y_squeezed = True\n",
    "            y_flat = np.argmax(y, axis=1)\n",
    "            return self.model.fit(X, y_flat, **kwargs)\n",
    "\n",
    "    def predict(self, X, predict_proba=False, kwargs={}):\n",
    "        if X is None:\n",
    "            X = self._get_pred_X()\n",
    "        if X.ndim == 3:\n",
    "            X = X.reshape(X.shape[0], X.shape[1] * X.shape[2])\n",
    "        if (predict_proba or self._y_squeezed) and hasattr(self.model, 'predict_proba'):\n",
    "            self.predictions = self.model.predict_proba(X, **kwargs)\n",
    "        elif hasattr(self.model, 'predict'):\n",
    "            self.predictions = self.model.predict(X, **kwargs)\n",
    "        else:\n",
    "            raise ValueError(\"Model has no predict function\")\n",
    "        return np.array(self.predictions)\n",
    "\n",
    "    def describe(self, probabilities_val=None, metric=None, maximize=True):\n",
    "        best_score = float(\"-inf\") if maximize else float(\"inf\")\n",
    "        if metric is None:\n",
    "            metric = roc_auc_score\n",
    "        if probabilities_val is None:\n",
    "            probabilities_val = self._predict_val()\n",
    "        # Assumption: all members have same val_classes\n",
    "        val_classes = self.members[0].val_classes\n",
    "        for i in range(self._nmembers):\n",
    "            member = self.members[i]\n",
    "            auc_score = _calculate_metric(\n",
    "                member.val_classes, member.val_probs)\n",
    "            acc_score = _calculate_metric(\n",
    "                member.val_classes, member.val_probs, accuracy_score)\n",
    "            prf1 = _calculate_metric(\n",
    "                member.val_classes, member.val_probs, precision_recall_fscore_support)\n",
    "            p = prf1[0]\n",
    "            r = prf1[1]\n",
    "            f1 = prf1[2]\n",
    "            max_flag = maximize and auc_score > best_score\n",
    "            min_flag = not(maximize) and auc_score < best_score\n",
    "            if max_flag or min_flag:\n",
    "                best_score = auc_score\n",
    "            text = member.name + \" - ROC/AUC: {:1.2f}, Accuracy: {:1.2f}%, Precision: {:1.2f}, Recall: {:1.2f}, F1 score: {:1.2f}\".format(\n",
    "                auc_score, acc_score * 100, p, r, f1)\n",
    "            print(text, '\\n')\n",
    "        ensemble_score = _calculate_metric(\n",
    "            val_classes, probabilities_val)\n",
    "        ensemble_accuracy = _calculate_metric(\n",
    "                val_classes, probabilities_val, accuracy_score)\n",
    "        ensemble_prf1 = _calculate_metric(\n",
    "                val_classes, probabilities_val, precision_recall_fscore_support)\n",
    "        ensemble_p = ensemble_prf1[0]\n",
    "        ensemble_r = ensemble_prf1[1]\n",
    "        ensemble_f1 = ensemble_prf1[2]\n",
    "        print(\"StackEnsemble - ROC/AUC: {:1.2f}, Accuracy: {:1.2f}%, Precision: {:1.2f}, Recall: {:1.2f}, F1 score: {:1.2f}\".format(\n",
    "            ensemble_score, ensemble_accuracy * 100, ensemble_p, ensemble_r, ensemble_f1))\n",
    "        return ensemble_score\n",
    "\n",
    "    def _get_X(self, attrname):\n",
    "        X = []\n",
    "        probs = getattr(self.members[0], attrname)\n",
    "        # Assumption: all members have same train_probs length\n",
    "        for i in range(len(probs)):\n",
    "            preds = []\n",
    "            for member in self.members:\n",
    "                preds.append(getattr(member, attrname)[i])\n",
    "            X.append(preds)\n",
    "        return np.array(X)\n",
    "\n",
    "    def _get_train_X(self):\n",
    "        return self._get_X(\"train_probs\")\n",
    "\n",
    "    def _get_val_X(self):\n",
    "        return self._get_X(\"val_probs\")\n",
    "\n",
    "    def _get_pred_X(self):\n",
    "        return self._get_X(\"submission_probs\")\n",
    "\n",
    "    def _fit_train(self):\n",
    "        return self.fit(self._get_train_X(), self.members[0].train_classes)\n",
    "\n",
    "    def _fit_submission(self):\n",
    "        X1 = self._get_train_X()\n",
    "        X2 = self._get_val_X()\n",
    "        y1 = self.members[0].train_classes\n",
    "        y2 = self.members[0].val_classes\n",
    "        X = np.concatenate((X1, X2))\n",
    "        y = np.concatenate((y1, y2))\n",
    "        return self.fit(X, y)\n",
    "\n",
    "    def _predict_val(self):\n",
    "        return self.predict(self._get_val_X())\n",
    "\n",
    "\n",
    "def _calculate_metric(y_true, y_pred, metric=None):\n",
    "    if metric is None:\n",
    "        metric = roc_auc_score\n",
    "    y_t = y_true\n",
    "    y_p = y_pred\n",
    "    if metric == roc_auc_score:\n",
    "        return metric(y_t, y_p, multi_class='ovo')\n",
    "    if y_true.ndim > 1:\n",
    "        y_t = np.argmax(y_true, axis=1)\n",
    "    if y_pred.ndim > 1:\n",
    "        y_p = np.argmax(y_pred, axis=1)\n",
    "    if metric is precision_recall_fscore_support:\n",
    "        return precision_recall_fscore_support(y_t, y_p, average='macro')\n",
    "    return metric(y_t, y_p)"
   ]
  },
  {
   "cell_type": "markdown",
   "metadata": {},
   "source": [
    "### Dirichlet Markov Ensemble with soft voting\n",
    "\n",
    "The Dirichlet ensemble weights the ensemble members based on validation set performance. The weight optimization search is performed with randomized search based on the dirichlet distribution. \n",
    "    \n",
    "Soft voting involves summing the predicted probability scores for each class label and predicting the class label with the largest probability."
   ]
  },
  {
   "cell_type": "code",
   "execution_count": 10,
   "metadata": {},
   "outputs": [],
   "source": [
    "class DirichletEnsemble():\n",
    "    def __init__(self, N=10000, metric=None, maximize=True):\n",
    "        self.n = N\n",
    "        self.metric = metric\n",
    "        if metric is None:\n",
    "            self.metric = roc_auc_score\n",
    "        self.maximize = maximize\n",
    "        # Initialize Parameters:\n",
    "        self.members = []\n",
    "        self.bestweights = []\n",
    "        self.probabilities = None\n",
    "        self._nmembers = 0\n",
    "        self.bestscore = float(\"-inf\") if maximize else float(\"inf\")\n",
    "        self.accuracy = None\n",
    "        self.precision = None\n",
    "        self.recall = None\n",
    "        self.f1 = None\n",
    "        self.fitted = False\n",
    "\n",
    "    def add_members(self, members):\n",
    "        for member in members:\n",
    "            self.add_member(member)\n",
    "\n",
    "    def add_member(self, member):\n",
    "        self.members.append(member)\n",
    "        self._nmembers += 1\n",
    "\n",
    "    def fit(self, verbose=False):\n",
    "        assert(len(self.members) > 1)\n",
    "        val_classes = self.members[0].val_classes\n",
    "        best_ensemble_score = float(\"-inf\") if self.maximize else float(\"inf\")\n",
    "        best_ensemble_accuracy = 0\n",
    "        best_ensemble_p = 0\n",
    "        best_ensemble_r = 0\n",
    "        best_ensemble_f1 = 0\n",
    "        rsbest = None\n",
    "        for i in range(self.n):\n",
    "            rs = np.random.dirichlet(np.ones(self._nmembers), size=1)[0]\n",
    "            preds = np.sum(np.array([self.members[i].val_probs * rs[i]\n",
    "                                     for i in range(self._nmembers)]), axis=0)\n",
    "            ensemble_score = _calculate_metric(val_classes, preds)\n",
    "            ensemble_accuracy = _calculate_metric(val_classes, preds, accuracy_score)\n",
    "            ensemble_prf1 = _calculate_metric(val_classes, preds, precision_recall_fscore_support)\n",
    "            ensemble_p = ensemble_prf1[0]\n",
    "            ensemble_r = ensemble_prf1[1]\n",
    "            ensemble_f1 = ensemble_prf1[2]\n",
    "            max_flag = self.maximize and ensemble_score > best_ensemble_score\n",
    "            min_flag = not(\n",
    "                self.maximize) and ensemble_score < best_ensemble_score\n",
    "            if max_flag or min_flag:\n",
    "                if verbose:\n",
    "                    print(ensemble_score, i, rs) \n",
    "                best_ensemble_score = ensemble_score\n",
    "                rsbest = rs\n",
    "            if ensemble_accuracy > best_ensemble_accuracy:\n",
    "                if verbose:\n",
    "                    print(ensemble_accuracy, i, rs) \n",
    "                best_ensemble_accuracy = ensemble_accuracy\n",
    "            if ensemble_p > best_ensemble_p:\n",
    "                if verbose:\n",
    "                    print(ensemble_p, i, rs) \n",
    "                best_ensemble_p = ensemble_p\n",
    "            if ensemble_r > best_ensemble_r:\n",
    "                if verbose:\n",
    "                    print(ensemble_r, i, rs) \n",
    "                best_ensemble_r = ensemble_r\n",
    "            if ensemble_f1 > best_ensemble_f1:\n",
    "                if verbose:\n",
    "                    print(ensemble_f1, i, rs) \n",
    "                best_ensemble_f1 = ensemble_f1\n",
    "        self.bestweights = rsbest\n",
    "        self.bestscore = best_ensemble_score\n",
    "        self.accuracy = best_ensemble_accuracy\n",
    "        self.precision = best_ensemble_p\n",
    "        self.recall = best_ensemble_r\n",
    "        self.f1 = best_ensemble_f1\n",
    "\n",
    "    def predict(self):\n",
    "        self.probabilities = np.sum(np.array([self.bestweights[i] *\n",
    "                                              self.members[i].submission_probs\n",
    "                                              for i in range(self._nmembers)]),\n",
    "                                    axis=0)\n",
    "        return self.probabilities\n",
    "        \n",
    "    def describe(self):\n",
    "        for i in range(self._nmembers):\n",
    "            member = self.members[i]\n",
    "            text = member.name + \" (weight: {:1.4f})\".format(self.bestweights[i])\n",
    "            print(text)\n",
    "        print(\"DirichletEnsemble - ROC/AUC: {:1.2f}, Accuracy: {:1.2f}%, Precision: {:1.2f}, Recall: {:1.2f}, F1 score: {:1.2f}\".format(\n",
    "            self.bestscore, self.accuracy * 100, self.precision, self.recall, self.f1))\n",
    "        return"
   ]
  },
  {
   "cell_type": "markdown",
   "metadata": {},
   "source": [
    "### Fusion mechanism: Weighed Sum"
   ]
  },
  {
   "cell_type": "code",
   "execution_count": 11,
   "metadata": {},
   "outputs": [],
   "source": [
    "class WeightedSum(Layer):\n",
    "    def __init__(self, a, **kwargs):\n",
    "        self.a = a \n",
    "        super(WeightedSum, self).__init__(**kwargs)\n",
    "\n",
    "    def call(self, model_outputs):\n",
    "        return self.a * model_outputs[0] + (1 - self.a) * model_outputs[1]\n",
    "\n",
    "    def compute_output_shape(self, input_shape):\n",
    "        return input_shape[0]"
   ]
  },
  {
   "cell_type": "markdown",
   "metadata": {},
   "source": [
    "### Fusion mechanism: Unweighted Majority Voting\n",
    "\n",
    "If the combination has a tie, the class probability (confidence score) is used to break the tie."
   ]
  },
  {
   "cell_type": "code",
   "execution_count": 12,
   "metadata": {},
   "outputs": [],
   "source": [
    "# Concatenate pain area and level into pain model\n",
    "\n",
    "# Late fusion without ensemble only possible for shared layer where body modality gives input to face modality? "
   ]
  },
  {
   "cell_type": "code",
   "execution_count": 13,
   "metadata": {},
   "outputs": [],
   "source": [
    "# 1. Train Pain area\n",
    "# 2. Train Pain level\n",
    "# 3. Concatenate"
   ]
  },
  {
   "cell_type": "markdown",
   "metadata": {},
   "source": [
    "## 1. Train uni-modal approaches & combine into ensembles"
   ]
  },
  {
   "cell_type": "markdown",
   "metadata": {},
   "source": [
    "### 1.1 Body modality (skeleton)"
   ]
  },
  {
   "cell_type": "markdown",
   "metadata": {},
   "source": [
    "#### About the data"
   ]
  },
  {
   "cell_type": "code",
   "execution_count": 14,
   "metadata": {},
   "outputs": [
    {
     "name": "stdout",
     "output_type": "stream",
     "text": [
      "(525, 1, 350, 38) (525, 4)\n",
      "(90, 1, 350, 38) (90, 4)\n"
     ]
    }
   ],
   "source": [
    "X_train, X_test, y_train, y_test, feature_names, classes = load_dataset('processed', 'skeleton')\n",
    "X = X_train.copy()\n",
    "y = y_train.copy()\n",
    "\n",
    "print(X_train.shape, y_train.shape)\n",
    "print(X_test.shape, y_test.shape)\n",
    "\n",
    "n_length, n_features, n_outputs = X_train.shape[2], X_train.shape[-1], y_train.shape[1]"
   ]
  },
  {
   "cell_type": "code",
   "execution_count": 15,
   "metadata": {},
   "outputs": [
    {
     "data": {
      "text/plain": [
       "['head_x',\n",
       " 'head_y',\n",
       " 'head_score',\n",
       " 'left_shoulder_x',\n",
       " 'left_shoulder_y',\n",
       " 'left_shoulder_score',\n",
       " 'left_elbow_x',\n",
       " 'left_elbow_y',\n",
       " 'left_elbow_score',\n",
       " 'right_shoulder_x',\n",
       " 'right_shoulder_y',\n",
       " 'right_shoulder_score',\n",
       " 'right_elbow_x',\n",
       " 'right_elbow_y',\n",
       " 'right_elbow_score',\n",
       " 'left_hand_x',\n",
       " 'left_hand_y',\n",
       " 'left_hand_score',\n",
       " 'right_hand_x',\n",
       " 'right_hand_y',\n",
       " 'right_hand_score',\n",
       " 'left_hip_x',\n",
       " 'left_hip_y',\n",
       " 'left_hip_score',\n",
       " 'right_hip_x',\n",
       " 'right_hip_y',\n",
       " 'right_hip_score',\n",
       " 'left_knee_x',\n",
       " 'left_knee_y',\n",
       " 'left_knee_score',\n",
       " 'right_knee_x',\n",
       " 'right_knee_y',\n",
       " 'right_knee_score',\n",
       " 'left_foot_x',\n",
       " 'left_foot_y',\n",
       " 'left_foot_score',\n",
       " 'right_foot_x',\n",
       " 'right_foot_y']"
      ]
     },
     "execution_count": 15,
     "metadata": {},
     "output_type": "execute_result"
    }
   ],
   "source": [
    "feature_names"
   ]
  },
  {
   "cell_type": "code",
   "execution_count": 16,
   "metadata": {},
   "outputs": [
    {
     "data": {
      "text/plain": [
       "['UpperBody Mild',\n",
       " 'LowerBody Moderate',\n",
       " 'LowerBody Mild',\n",
       " 'UpperBody Moderate']"
      ]
     },
     "execution_count": 16,
     "metadata": {},
     "output_type": "execute_result"
    }
   ],
   "source": [
    "classes"
   ]
  },
  {
   "cell_type": "markdown",
   "metadata": {},
   "source": [
    "#### KFold CV"
   ]
  },
  {
   "cell_type": "code",
   "execution_count": 17,
   "metadata": {},
   "outputs": [],
   "source": [
    "kf = KFold(n_splits=3, shuffle=True, random_state=42)"
   ]
  },
  {
   "cell_type": "code",
   "execution_count": 18,
   "metadata": {},
   "outputs": [],
   "source": [
    "epochs, batch_size = 50, 256"
   ]
  },
  {
   "cell_type": "markdown",
   "metadata": {},
   "source": [
    "#### Train BiLSTM"
   ]
  },
  {
   "cell_type": "code",
   "execution_count": 19,
   "metadata": {},
   "outputs": [
    {
     "name": "stdout",
     "output_type": "stream",
     "text": [
      "Epoch 1/50\n",
      "2/2 - 8s - loss: 64.4769 - accuracy: 0.1057 - auc_1: 0.3952 - precision_1: 0.1057 - recall_1: 0.1057 - f1_score: 0.0851 - val_loss: 710.9352 - val_accuracy: 0.4914 - val_auc_1: 0.6610 - val_precision_1: 0.4914 - val_recall_1: 0.4914 - val_f1_score: 0.1648 - 8s/epoch - 4s/step\n",
      "Epoch 2/50\n",
      "2/2 - 2s - loss: 612.0572 - accuracy: 0.5457 - auc_1: 0.6971 - precision_1: 0.5457 - recall_1: 0.5457 - f1_score: 0.1765 - val_loss: 309.3545 - val_accuracy: 0.4914 - val_auc_1: 0.6610 - val_precision_1: 0.4914 - val_recall_1: 0.4914 - val_f1_score: 0.1648 - 2s/epoch - 1s/step\n",
      "Epoch 3/50\n",
      "2/2 - 2s - loss: 266.2118 - accuracy: 0.4171 - auc_1: 0.6114 - precision_1: 0.4171 - recall_1: 0.4171 - f1_score: 0.1943 - val_loss: 91.8822 - val_accuracy: 0.0914 - val_auc_1: 0.3943 - val_precision_1: 0.0914 - val_recall_1: 0.0914 - val_f1_score: 0.0423 - 2s/epoch - 1s/step\n",
      "Epoch 4/50\n",
      "2/2 - 2s - loss: 69.6123 - accuracy: 0.2057 - auc_1: 0.4727 - precision_1: 0.2057 - recall_1: 0.2057 - f1_score: 0.1375 - val_loss: 33.8235 - val_accuracy: 0.4057 - val_auc_1: 0.6027 - val_precision_1: 0.4057 - val_recall_1: 0.4057 - val_f1_score: 0.1443 - 2s/epoch - 1s/step\n",
      "Epoch 5/50\n",
      "2/2 - 2s - loss: 34.8900 - accuracy: 0.3914 - auc_1: 0.5995 - precision_1: 0.3914 - recall_1: 0.3914 - f1_score: 0.1726 - val_loss: 22.2411 - val_accuracy: 0.5086 - val_auc_1: 0.6939 - val_precision_1: 0.5086 - val_recall_1: 0.5086 - val_f1_score: 0.2380 - 2s/epoch - 1s/step\n",
      "Epoch 6/50\n",
      "2/2 - 2s - loss: 20.9994 - accuracy: 0.5400 - auc_1: 0.7211 - precision_1: 0.5400 - recall_1: 0.5400 - f1_score: 0.2401 - val_loss: 17.4509 - val_accuracy: 0.4686 - val_auc_1: 0.6969 - val_precision_1: 0.4686 - val_recall_1: 0.4686 - val_f1_score: 0.1930 - 2s/epoch - 1s/step\n",
      "Epoch 7/50\n",
      "2/2 - 2s - loss: 15.7677 - accuracy: 0.4943 - auc_1: 0.7030 - precision_1: 0.4943 - recall_1: 0.4943 - f1_score: 0.2378 - val_loss: 15.4239 - val_accuracy: 0.4514 - val_auc_1: 0.6265 - val_precision_1: 0.4514 - val_recall_1: 0.4514 - val_f1_score: 0.2005 - 2s/epoch - 1s/step\n",
      "Epoch 8/50\n",
      "2/2 - 2s - loss: 13.4063 - accuracy: 0.4257 - auc_1: 0.6406 - precision_1: 0.4257 - recall_1: 0.4257 - f1_score: 0.2008 - val_loss: 7.8520 - val_accuracy: 0.4857 - val_auc_1: 0.7770 - val_precision_1: 0.4857 - val_recall_1: 0.4857 - val_f1_score: 0.2404 - 2s/epoch - 1s/step\n",
      "Epoch 9/50\n",
      "2/2 - 3s - loss: 7.2114 - accuracy: 0.5514 - auc_1: 0.7962 - precision_1: 0.5514 - recall_1: 0.5514 - f1_score: 0.2525 - val_loss: 6.0032 - val_accuracy: 0.4914 - val_auc_1: 0.7435 - val_precision_1: 0.4914 - val_recall_1: 0.4914 - val_f1_score: 0.2003 - 3s/epoch - 1s/step\n",
      "Epoch 10/50\n",
      "2/2 - 2s - loss: 5.3906 - accuracy: 0.5400 - auc_1: 0.7638 - precision_1: 0.5418 - recall_1: 0.5371 - f1_score: 0.2041 - val_loss: 3.3313 - val_accuracy: 0.4629 - val_auc_1: 0.7752 - val_precision_1: 0.4771 - val_recall_1: 0.4171 - val_f1_score: 0.2076 - 2s/epoch - 1s/step\n",
      "Epoch 11/50\n",
      "2/2 - 2s - loss: 2.7992 - accuracy: 0.5657 - auc_1: 0.7880 - precision_1: 0.5819 - recall_1: 0.4971 - f1_score: 0.2466 - val_loss: 2.0279 - val_accuracy: 0.5029 - val_auc_1: 0.7836 - val_precision_1: 0.5500 - val_recall_1: 0.3143 - val_f1_score: 0.2468 - 2s/epoch - 1s/step\n",
      "Epoch 12/50\n",
      "2/2 - 2s - loss: 1.6229 - accuracy: 0.5171 - auc_1: 0.7781 - precision_1: 0.5245 - recall_1: 0.3057 - f1_score: 0.2401 - val_loss: 1.6797 - val_accuracy: 0.5029 - val_auc_1: 0.7513 - val_precision_1: 0.6047 - val_recall_1: 0.1486 - val_f1_score: 0.2429 - 2s/epoch - 1s/step\n",
      "Epoch 13/50\n",
      "2/2 - 2s - loss: 1.3398 - accuracy: 0.5457 - auc_1: 0.7886 - precision_1: 0.6420 - recall_1: 0.1486 - f1_score: 0.2600 - val_loss: 1.5755 - val_accuracy: 0.5143 - val_auc_1: 0.7221 - val_precision_1: 0.5263 - val_recall_1: 0.0571 - val_f1_score: 0.2324 - 2s/epoch - 1s/step\n",
      "Epoch 14/50\n",
      "2/2 - 2s - loss: 1.3437 - accuracy: 0.5086 - auc_1: 0.7486 - precision_1: 0.6190 - recall_1: 0.0743 - f1_score: 0.2065 - val_loss: 1.5094 - val_accuracy: 0.4743 - val_auc_1: 0.6818 - val_precision_1: 0.5000 - val_recall_1: 0.0457 - val_f1_score: 0.1818 - 2s/epoch - 1s/step\n",
      "Epoch 15/50\n",
      "2/2 - 2s - loss: 1.3125 - accuracy: 0.5343 - auc_1: 0.7262 - precision_1: 0.7576 - recall_1: 0.0714 - f1_score: 0.2000 - val_loss: 1.4612 - val_accuracy: 0.4686 - val_auc_1: 0.6808 - val_precision_1: 0.5333 - val_recall_1: 0.0457 - val_f1_score: 0.1652 - 2s/epoch - 1s/step\n",
      "Epoch 16/50\n",
      "2/2 - 2s - loss: 1.3121 - accuracy: 0.5429 - auc_1: 0.7308 - precision_1: 0.8065 - recall_1: 0.0714 - f1_score: 0.1965 - val_loss: 1.4302 - val_accuracy: 0.4686 - val_auc_1: 0.7558 - val_precision_1: 0.5455 - val_recall_1: 0.0343 - val_f1_score: 0.1652 - 2s/epoch - 1s/step\n",
      "Epoch 17/50\n",
      "2/2 - 2s - loss: 1.3088 - accuracy: 0.5429 - auc_1: 0.7843 - precision_1: 0.8214 - recall_1: 0.0657 - f1_score: 0.1930 - val_loss: 1.4121 - val_accuracy: 0.4743 - val_auc_1: 0.7578 - val_precision_1: 0.5455 - val_recall_1: 0.0343 - val_f1_score: 0.1666 - 2s/epoch - 1s/step\n",
      "Epoch 18/50\n",
      "2/2 - 2s - loss: 1.3065 - accuracy: 0.5429 - auc_1: 0.7836 - precision_1: 0.8519 - recall_1: 0.0657 - f1_score: 0.1930 - val_loss: 1.3947 - val_accuracy: 0.4800 - val_auc_1: 0.7593 - val_precision_1: 0.5455 - val_recall_1: 0.0343 - val_f1_score: 0.1680 - 2s/epoch - 1s/step\n",
      "Epoch 19/50\n",
      "2/2 - 3s - loss: 1.3054 - accuracy: 0.5486 - auc_1: 0.7851 - precision_1: 0.8462 - recall_1: 0.0629 - f1_score: 0.1977 - val_loss: 1.3849 - val_accuracy: 0.4800 - val_auc_1: 0.7592 - val_precision_1: 0.5455 - val_recall_1: 0.0343 - val_f1_score: 0.1680 - 3s/epoch - 1s/step\n",
      "Epoch 20/50\n",
      "2/2 - 2s - loss: 1.3060 - accuracy: 0.5514 - auc_1: 0.7885 - precision_1: 0.8462 - recall_1: 0.0629 - f1_score: 0.1985 - val_loss: 1.3833 - val_accuracy: 0.4800 - val_auc_1: 0.7729 - val_precision_1: 0.5455 - val_recall_1: 0.0343 - val_f1_score: 0.1680 - 2s/epoch - 1s/step\n",
      "Epoch 21/50\n",
      "2/2 - 2s - loss: 1.3067 - accuracy: 0.5514 - auc_1: 0.7988 - precision_1: 0.8800 - recall_1: 0.0629 - f1_score: 0.1985 - val_loss: 1.3898 - val_accuracy: 0.4800 - val_auc_1: 0.7719 - val_precision_1: 0.5455 - val_recall_1: 0.0343 - val_f1_score: 0.1680 - 2s/epoch - 1s/step\n",
      "Epoch 22/50\n",
      "2/2 - 2s - loss: 1.3062 - accuracy: 0.5543 - auc_1: 0.7988 - precision_1: 0.8800 - recall_1: 0.0629 - f1_score: 0.2023 - val_loss: 1.3971 - val_accuracy: 0.4857 - val_auc_1: 0.7725 - val_precision_1: 0.5455 - val_recall_1: 0.0343 - val_f1_score: 0.1749 - 2s/epoch - 1s/step\n"
     ]
    },
    {
     "data": {
      "image/png": "[encoded data removed]",
      "text/plain": [
       "<Figure size 432x288 with 1 Axes>"
      ]
     },
     "metadata": {
      "needs_background": "light"
     },
     "output_type": "display_data"
    },
    {
     "name": "stdout",
     "output_type": "stream",
     "text": [
      "Epoch 1/50\n",
      "2/2 - 7s - loss: 425.4662 - accuracy: 0.3057 - auc_2: 0.5319 - precision_2: 0.3057 - recall_2: 0.3057 - f1_score: 0.1887 - val_loss: 510.4892 - val_accuracy: 0.0800 - val_auc_2: 0.3867 - val_precision_2: 0.0800 - val_recall_2: 0.0800 - val_f1_score: 0.0370 - 7s/epoch - 4s/step\n",
      "Epoch 2/50\n",
      "2/2 - 2s - loss: 348.6672 - accuracy: 0.2314 - auc_2: 0.4900 - precision_2: 0.2314 - recall_2: 0.2314 - f1_score: 0.1431 - val_loss: 321.8248 - val_accuracy: 0.4000 - val_auc_2: 0.6000 - val_precision_2: 0.4000 - val_recall_2: 0.4000 - val_f1_score: 0.1429 - 2s/epoch - 1s/step\n",
      "Epoch 3/50\n",
      "2/2 - 2s - loss: 341.5357 - accuracy: 0.3629 - auc_2: 0.5752 - precision_2: 0.3629 - recall_2: 0.3629 - f1_score: 0.1331 - val_loss: 184.2346 - val_accuracy: 0.4000 - val_auc_2: 0.6000 - val_precision_2: 0.4000 - val_recall_2: 0.4000 - val_f1_score: 0.1429 - 2s/epoch - 1s/step\n",
      "Epoch 4/50\n",
      "2/2 - 2s - loss: 171.4359 - accuracy: 0.3657 - auc_2: 0.5798 - precision_2: 0.3657 - recall_2: 0.3657 - f1_score: 0.1361 - val_loss: 90.2821 - val_accuracy: 0.5143 - val_auc_2: 0.6753 - val_precision_2: 0.5143 - val_recall_2: 0.5143 - val_f1_score: 0.1698 - 2s/epoch - 1s/step\n",
      "Epoch 5/50\n",
      "2/2 - 2s - loss: 96.9711 - accuracy: 0.5371 - auc_2: 0.6914 - precision_2: 0.5371 - recall_2: 0.5371 - f1_score: 0.1819 - val_loss: 86.0331 - val_accuracy: 0.5200 - val_auc_2: 0.6800 - val_precision_2: 0.5200 - val_recall_2: 0.5200 - val_f1_score: 0.1711 - 2s/epoch - 1s/step\n",
      "Epoch 6/50\n",
      "2/2 - 2s - loss: 84.8265 - accuracy: 0.5314 - auc_2: 0.6876 - precision_2: 0.5314 - recall_2: 0.5314 - f1_score: 0.1735 - val_loss: 56.6601 - val_accuracy: 0.5200 - val_auc_2: 0.6800 - val_precision_2: 0.5200 - val_recall_2: 0.5200 - val_f1_score: 0.1711 - 2s/epoch - 1s/step\n",
      "Epoch 7/50\n",
      "2/2 - 2s - loss: 54.0649 - accuracy: 0.5314 - auc_2: 0.6876 - precision_2: 0.5314 - recall_2: 0.5314 - f1_score: 0.1735 - val_loss: 25.8738 - val_accuracy: 0.5200 - val_auc_2: 0.6829 - val_precision_2: 0.5200 - val_recall_2: 0.5200 - val_f1_score: 0.1711 - 2s/epoch - 1s/step\n",
      "Epoch 8/50\n",
      "2/2 - 2s - loss: 22.4956 - accuracy: 0.5314 - auc_2: 0.6882 - precision_2: 0.5314 - recall_2: 0.5314 - f1_score: 0.1735 - val_loss: 7.4986 - val_accuracy: 0.5257 - val_auc_2: 0.6928 - val_precision_2: 0.5287 - val_recall_2: 0.5257 - val_f1_score: 0.1787 - 2s/epoch - 1s/step\n",
      "Epoch 9/50\n",
      "2/2 - 2s - loss: 6.2499 - accuracy: 0.5371 - auc_2: 0.7144 - precision_2: 0.5441 - recall_2: 0.5286 - f1_score: 0.1853 - val_loss: 1.7730 - val_accuracy: 0.4971 - val_auc_2: 0.7288 - val_precision_2: 0.5000 - val_recall_2: 0.3371 - val_f1_score: 0.1720 - 2s/epoch - 1s/step\n",
      "Epoch 10/50\n",
      "2/2 - 2s - loss: 1.4240 - accuracy: 0.5257 - auc_2: 0.7508 - precision_2: 0.5572 - recall_2: 0.3200 - f1_score: 0.1829 - val_loss: 1.3402 - val_accuracy: 0.4057 - val_auc_2: 0.6695 - val_precision_2: 0.3600 - val_recall_2: 0.0514 - val_f1_score: 0.2089 - 2s/epoch - 1s/step\n",
      "Epoch 11/50\n",
      "2/2 - 2s - loss: 1.3346 - accuracy: 0.4229 - auc_2: 0.6219 - precision_2: 0.7083 - recall_2: 0.0486 - f1_score: 0.2174 - val_loss: 1.3556 - val_accuracy: 0.4114 - val_auc_2: 0.5558 - val_precision_2: 0.4444 - val_recall_2: 0.0229 - val_f1_score: 0.1747 - 2s/epoch - 1s/step\n",
      "Epoch 12/50\n",
      "2/2 - 2s - loss: 1.3596 - accuracy: 0.3829 - auc_2: 0.5312 - precision_2: 0.7778 - recall_2: 0.0200 - f1_score: 0.1608 - val_loss: 1.3596 - val_accuracy: 0.4171 - val_auc_2: 0.6272 - val_precision_2: 0.3333 - val_recall_2: 0.0114 - val_f1_score: 0.1612 - 2s/epoch - 1s/step\n"
     ]
    },
    {
     "data": {
      "image/png": "[encoded data removed]",
      "text/plain": [
       "<Figure size 432x288 with 1 Axes>"
      ]
     },
     "metadata": {
      "needs_background": "light"
     },
     "output_type": "display_data"
    },
    {
     "name": "stdout",
     "output_type": "stream",
     "text": [
      "Epoch 1/50\n",
      "2/2 - 7s - loss: 344.6086 - accuracy: 0.3629 - auc_3: 0.5930 - precision_3: 0.3629 - recall_3: 0.3629 - f1_score: 0.2228 - val_loss: 355.4538 - val_accuracy: 0.3086 - val_auc_3: 0.5390 - val_precision_3: 0.3086 - val_recall_3: 0.3086 - val_f1_score: 0.1179 - 7s/epoch - 4s/step\n",
      "Epoch 2/50\n",
      "2/2 - 2s - loss: 278.6599 - accuracy: 0.4257 - auc_3: 0.6171 - precision_3: 0.4257 - recall_3: 0.4257 - f1_score: 0.2139 - val_loss: 162.5497 - val_accuracy: 0.5714 - val_auc_3: 0.7143 - val_precision_3: 0.5714 - val_recall_3: 0.5714 - val_f1_score: 0.1818 - 2s/epoch - 1s/step\n",
      "Epoch 3/50\n",
      "2/2 - 2s - loss: 162.9012 - accuracy: 0.5057 - auc_3: 0.6705 - precision_3: 0.5057 - recall_3: 0.5057 - f1_score: 0.1679 - val_loss: 64.6176 - val_accuracy: 0.5714 - val_auc_3: 0.7143 - val_precision_3: 0.5714 - val_recall_3: 0.5714 - val_f1_score: 0.1818 - 2s/epoch - 1s/step\n",
      "Epoch 4/50\n",
      "2/2 - 2s - loss: 61.2621 - accuracy: 0.5057 - auc_3: 0.6696 - precision_3: 0.5057 - recall_3: 0.5057 - f1_score: 0.1679 - val_loss: 21.3285 - val_accuracy: 0.0457 - val_auc_3: 0.3586 - val_precision_3: 0.0457 - val_recall_3: 0.0457 - val_f1_score: 0.0500 - 2s/epoch - 1s/step\n",
      "Epoch 5/50\n",
      "2/2 - 2s - loss: 21.9054 - accuracy: 0.1400 - auc_3: 0.4468 - precision_3: 0.1400 - recall_3: 0.1400 - f1_score: 0.1016 - val_loss: 27.7516 - val_accuracy: 0.3200 - val_auc_3: 0.5467 - val_precision_3: 0.3200 - val_recall_3: 0.3200 - val_f1_score: 0.1287 - 2s/epoch - 1s/step\n",
      "Epoch 6/50\n",
      "2/2 - 2s - loss: 22.1071 - accuracy: 0.4229 - auc_3: 0.6151 - precision_3: 0.4229 - recall_3: 0.4229 - f1_score: 0.1645 - val_loss: 7.8260 - val_accuracy: 0.3486 - val_auc_3: 0.5751 - val_precision_3: 0.3550 - val_recall_3: 0.3429 - val_f1_score: 0.1699 - 2s/epoch - 1s/step\n",
      "Epoch 7/50\n",
      "2/2 - 2s - loss: 5.6589 - accuracy: 0.4229 - auc_3: 0.6459 - precision_3: 0.4290 - recall_3: 0.3971 - f1_score: 0.2272 - val_loss: 1.3241 - val_accuracy: 0.4914 - val_auc_3: 0.7409 - val_precision_3: 0.6143 - val_recall_3: 0.2457 - val_f1_score: 0.2151 - 2s/epoch - 1s/step\n",
      "Epoch 8/50\n",
      "2/2 - 2s - loss: 1.4777 - accuracy: 0.4229 - auc_3: 0.7088 - precision_3: 0.5606 - recall_3: 0.2114 - f1_score: 0.2069 - val_loss: 1.1367 - val_accuracy: 0.4857 - val_auc_3: 0.7599 - val_precision_3: 0.6333 - val_recall_3: 0.2171 - val_f1_score: 0.2282 - 2s/epoch - 1s/step\n",
      "Epoch 9/50\n",
      "2/2 - 2s - loss: 1.2568 - accuracy: 0.4171 - auc_3: 0.7153 - precision_3: 0.5636 - recall_3: 0.1771 - f1_score: 0.2275 - val_loss: 1.1987 - val_accuracy: 0.3771 - val_auc_3: 0.7213 - val_precision_3: 0.6333 - val_recall_3: 0.1086 - val_f1_score: 0.2156 - 2s/epoch - 1s/step\n",
      "Epoch 10/50\n",
      "2/2 - 2s - loss: 1.2448 - accuracy: 0.3514 - auc_3: 0.6973 - precision_3: 0.5714 - recall_3: 0.1371 - f1_score: 0.2253 - val_loss: 1.2425 - val_accuracy: 0.3943 - val_auc_3: 0.6987 - val_precision_3: 0.6667 - val_recall_3: 0.0800 - val_f1_score: 0.2105 - 2s/epoch - 1s/step\n"
     ]
    },
    {
     "data": {
      "image/png": "[encoded data removed]",
      "text/plain": [
       "<Figure size 432x288 with 1 Axes>"
      ]
     },
     "metadata": {
      "needs_background": "light"
     },
     "output_type": "display_data"
    }
   ],
   "source": [
    "model1 = build_biConvLSTM(n_length, n_features, n_outputs, y_train.shape[1])\n",
    "for train_index, val_index in kf.split(X):\n",
    "    X_train, X_val = X[train_index], X[val_index]\n",
    "    y_train, y_val = y[train_index], y[val_index]\n",
    "    model1 = build_biConvLSTM(n_features, n_length, n_outputs, y_train.shape[1])\n",
    "    history = train(model1, X_train, y_train, X_val, y_val, epochs=epochs, batch_size=batch_size)\n",
    "    plt.plot(history.history['loss'])\n",
    "    plt.show()"
   ]
  },
  {
   "cell_type": "code",
   "execution_count": 20,
   "metadata": {},
   "outputs": [],
   "source": [
    "member1 = KerasMember(name=\"BiLSTM\", keras_model=model1,\n",
    "    train_batches=(X_train, y_train),\n",
    "    val_batches=(X_test, y_test))"
   ]
  },
  {
   "cell_type": "markdown",
   "metadata": {},
   "source": [
    "#### Train CNN+LSTM"
   ]
  },
  {
   "cell_type": "code",
   "execution_count": 21,
   "metadata": {},
   "outputs": [
    {
     "name": "stdout",
     "output_type": "stream",
     "text": [
      "Epoch 1/50\n",
      "2/2 - 3s - loss: 1.4073 - accuracy: 0.3143 - auc_5: 0.5389 - precision_5: 0.0000e+00 - recall_5: 0.0000e+00 - f1_score: 0.1944 - val_loss: 1.1593 - val_accuracy: 0.4914 - val_auc_5: 0.7872 - val_precision_5: 0.0000e+00 - val_recall_5: 0.0000e+00 - val_f1_score: 0.1648 - 3s/epoch - 1s/step\n",
      "Epoch 2/50\n",
      "2/2 - 0s - loss: 1.1454 - accuracy: 0.5457 - auc_5: 0.8021 - precision_5: 0.0000e+00 - recall_5: 0.0000e+00 - f1_score: 0.1765 - val_loss: 1.0808 - val_accuracy: 0.4914 - val_auc_5: 0.8009 - val_precision_5: 0.0000e+00 - val_recall_5: 0.0000e+00 - val_f1_score: 0.1648 - 224ms/epoch - 112ms/step\n",
      "Epoch 3/50\n",
      "2/2 - 0s - loss: 1.0696 - accuracy: 0.5457 - auc_5: 0.8117 - precision_5: 0.0000e+00 - recall_5: 0.0000e+00 - f1_score: 0.1765 - val_loss: 1.0512 - val_accuracy: 0.4914 - val_auc_5: 0.8009 - val_precision_5: 0.0000e+00 - val_recall_5: 0.0000e+00 - val_f1_score: 0.1648 - 254ms/epoch - 127ms/step\n",
      "Epoch 4/50\n",
      "2/2 - 0s - loss: 1.0401 - accuracy: 0.5457 - auc_5: 0.8070 - precision_5: 0.0000e+00 - recall_5: 0.0000e+00 - f1_score: 0.1765 - val_loss: 1.0330 - val_accuracy: 0.4914 - val_auc_5: 0.8019 - val_precision_5: 0.4971 - val_recall_5: 0.4914 - val_f1_score: 0.1648 - 223ms/epoch - 111ms/step\n",
      "Epoch 5/50\n",
      "2/2 - 0s - loss: 1.0177 - accuracy: 0.5457 - auc_5: 0.8073 - precision_5: 0.5444 - recall_5: 0.5429 - f1_score: 0.1765 - val_loss: 1.0224 - val_accuracy: 0.4914 - val_auc_5: 0.8000 - val_precision_5: 0.4914 - val_recall_5: 0.4914 - val_f1_score: 0.1648 - 241ms/epoch - 121ms/step\n",
      "Epoch 6/50\n",
      "2/2 - 0s - loss: 1.0050 - accuracy: 0.5457 - auc_5: 0.8120 - precision_5: 0.5457 - recall_5: 0.5457 - f1_score: 0.1765 - val_loss: 1.0126 - val_accuracy: 0.4914 - val_auc_5: 0.8000 - val_precision_5: 0.4914 - val_recall_5: 0.4914 - val_f1_score: 0.1648 - 227ms/epoch - 114ms/step\n",
      "Epoch 7/50\n",
      "2/2 - 0s - loss: 0.9972 - accuracy: 0.5457 - auc_5: 0.8130 - precision_5: 0.5457 - recall_5: 0.5457 - f1_score: 0.1765 - val_loss: 1.0050 - val_accuracy: 0.4914 - val_auc_5: 0.8000 - val_precision_5: 0.4914 - val_recall_5: 0.4914 - val_f1_score: 0.1648 - 249ms/epoch - 125ms/step\n",
      "Epoch 8/50\n",
      "2/2 - 0s - loss: 0.9909 - accuracy: 0.5457 - auc_5: 0.8134 - precision_5: 0.5457 - recall_5: 0.5457 - f1_score: 0.1765 - val_loss: 0.9987 - val_accuracy: 0.4914 - val_auc_5: 0.8000 - val_precision_5: 0.4914 - val_recall_5: 0.4914 - val_f1_score: 0.1648 - 224ms/epoch - 112ms/step\n",
      "Epoch 9/50\n",
      "2/2 - 0s - loss: 0.9869 - accuracy: 0.5457 - auc_5: 0.8094 - precision_5: 0.5457 - recall_5: 0.5457 - f1_score: 0.1765 - val_loss: 0.9940 - val_accuracy: 0.4914 - val_auc_5: 0.8000 - val_precision_5: 0.4914 - val_recall_5: 0.4914 - val_f1_score: 0.1648 - 255ms/epoch - 127ms/step\n",
      "Epoch 10/50\n",
      "2/2 - 0s - loss: 0.9833 - accuracy: 0.5457 - auc_5: 0.8113 - precision_5: 0.5457 - recall_5: 0.5457 - f1_score: 0.1765 - val_loss: 0.9904 - val_accuracy: 0.4914 - val_auc_5: 0.8000 - val_precision_5: 0.4914 - val_recall_5: 0.4914 - val_f1_score: 0.1648 - 221ms/epoch - 110ms/step\n",
      "Epoch 11/50\n",
      "2/2 - 0s - loss: 0.9805 - accuracy: 0.5457 - auc_5: 0.8133 - precision_5: 0.5457 - recall_5: 0.5457 - f1_score: 0.1765 - val_loss: 0.9872 - val_accuracy: 0.4914 - val_auc_5: 0.8000 - val_precision_5: 0.4914 - val_recall_5: 0.4914 - val_f1_score: 0.1648 - 246ms/epoch - 123ms/step\n",
      "Epoch 12/50\n",
      "2/2 - 0s - loss: 0.9780 - accuracy: 0.5457 - auc_5: 0.8146 - precision_5: 0.5457 - recall_5: 0.5457 - f1_score: 0.1765 - val_loss: 0.9841 - val_accuracy: 0.4914 - val_auc_5: 0.8000 - val_precision_5: 0.4914 - val_recall_5: 0.4914 - val_f1_score: 0.1648 - 224ms/epoch - 112ms/step\n",
      "Epoch 13/50\n",
      "2/2 - 0s - loss: 0.9760 - accuracy: 0.5457 - auc_5: 0.8131 - precision_5: 0.5457 - recall_5: 0.5457 - f1_score: 0.1765 - val_loss: 0.9814 - val_accuracy: 0.4914 - val_auc_5: 0.8000 - val_precision_5: 0.4914 - val_recall_5: 0.4914 - val_f1_score: 0.1648 - 237ms/epoch - 118ms/step\n",
      "Epoch 14/50\n",
      "2/2 - 0s - loss: 0.9742 - accuracy: 0.5457 - auc_5: 0.8133 - precision_5: 0.5457 - recall_5: 0.5457 - f1_score: 0.1765 - val_loss: 0.9791 - val_accuracy: 0.4914 - val_auc_5: 0.8000 - val_precision_5: 0.4914 - val_recall_5: 0.4914 - val_f1_score: 0.1648 - 219ms/epoch - 110ms/step\n",
      "Epoch 15/50\n",
      "2/2 - 0s - loss: 0.9730 - accuracy: 0.5457 - auc_5: 0.8133 - precision_5: 0.5457 - recall_5: 0.5457 - f1_score: 0.1765 - val_loss: 0.9771 - val_accuracy: 0.4914 - val_auc_5: 0.8000 - val_precision_5: 0.4914 - val_recall_5: 0.4914 - val_f1_score: 0.1648 - 236ms/epoch - 118ms/step\n",
      "Epoch 16/50\n",
      "2/2 - 0s - loss: 0.9716 - accuracy: 0.5457 - auc_5: 0.8136 - precision_5: 0.5457 - recall_5: 0.5457 - f1_score: 0.1765 - val_loss: 0.9757 - val_accuracy: 0.4914 - val_auc_5: 0.8000 - val_precision_5: 0.4914 - val_recall_5: 0.4914 - val_f1_score: 0.1648 - 228ms/epoch - 114ms/step\n",
      "Epoch 17/50\n",
      "2/2 - 0s - loss: 0.9706 - accuracy: 0.5457 - auc_5: 0.8133 - precision_5: 0.5457 - recall_5: 0.5457 - f1_score: 0.1765 - val_loss: 0.9747 - val_accuracy: 0.4914 - val_auc_5: 0.8000 - val_precision_5: 0.4914 - val_recall_5: 0.4914 - val_f1_score: 0.1648 - 232ms/epoch - 116ms/step\n",
      "Epoch 18/50\n",
      "2/2 - 0s - loss: 0.9698 - accuracy: 0.5457 - auc_5: 0.8133 - precision_5: 0.5457 - recall_5: 0.5457 - f1_score: 0.1765 - val_loss: 0.9738 - val_accuracy: 0.4914 - val_auc_5: 0.8000 - val_precision_5: 0.4914 - val_recall_5: 0.4914 - val_f1_score: 0.1648 - 236ms/epoch - 118ms/step\n",
      "Epoch 19/50\n",
      "2/2 - 0s - loss: 0.9690 - accuracy: 0.5457 - auc_5: 0.8133 - precision_5: 0.5457 - recall_5: 0.5457 - f1_score: 0.1765 - val_loss: 0.9730 - val_accuracy: 0.4914 - val_auc_5: 0.8000 - val_precision_5: 0.4914 - val_recall_5: 0.4914 - val_f1_score: 0.1648 - 228ms/epoch - 114ms/step\n",
      "Epoch 20/50\n",
      "2/2 - 0s - loss: 0.9683 - accuracy: 0.5457 - auc_5: 0.8133 - precision_5: 0.5457 - recall_5: 0.5457 - f1_score: 0.1765 - val_loss: 0.9723 - val_accuracy: 0.4914 - val_auc_5: 0.8000 - val_precision_5: 0.4914 - val_recall_5: 0.4914 - val_f1_score: 0.1648 - 240ms/epoch - 120ms/step\n",
      "Epoch 21/50\n",
      "2/2 - 0s - loss: 0.9678 - accuracy: 0.5457 - auc_5: 0.8133 - precision_5: 0.5457 - recall_5: 0.5457 - f1_score: 0.1765 - val_loss: 0.9717 - val_accuracy: 0.4914 - val_auc_5: 0.8000 - val_precision_5: 0.4914 - val_recall_5: 0.4914 - val_f1_score: 0.1648 - 218ms/epoch - 109ms/step\n",
      "Epoch 22/50\n",
      "2/2 - 0s - loss: 0.9672 - accuracy: 0.5457 - auc_5: 0.8124 - precision_5: 0.5457 - recall_5: 0.5457 - f1_score: 0.1765 - val_loss: 0.9713 - val_accuracy: 0.4914 - val_auc_5: 0.7995 - val_precision_5: 0.4914 - val_recall_5: 0.4914 - val_f1_score: 0.1648 - 251ms/epoch - 125ms/step\n",
      "Epoch 23/50\n",
      "2/2 - 0s - loss: 0.9667 - accuracy: 0.5457 - auc_5: 0.8151 - precision_5: 0.5457 - recall_5: 0.5457 - f1_score: 0.1765 - val_loss: 0.9712 - val_accuracy: 0.4914 - val_auc_5: 0.7972 - val_precision_5: 0.4914 - val_recall_5: 0.4914 - val_f1_score: 0.1648 - 227ms/epoch - 113ms/step\n",
      "Epoch 24/50\n",
      "2/2 - 0s - loss: 0.9695 - accuracy: 0.5457 - auc_5: 0.8105 - precision_5: 0.5457 - recall_5: 0.5457 - f1_score: 0.1765 - val_loss: 0.9704 - val_accuracy: 0.4914 - val_auc_5: 0.8000 - val_precision_5: 0.4914 - val_recall_5: 0.4914 - val_f1_score: 0.1648 - 245ms/epoch - 123ms/step\n",
      "Epoch 25/50\n",
      "2/2 - 0s - loss: 0.9687 - accuracy: 0.5457 - auc_5: 0.8133 - precision_5: 0.5457 - recall_5: 0.5457 - f1_score: 0.1765 - val_loss: 0.9700 - val_accuracy: 0.4914 - val_auc_5: 0.8000 - val_precision_5: 0.4914 - val_recall_5: 0.4914 - val_f1_score: 0.1648 - 223ms/epoch - 112ms/step\n",
      "Epoch 26/50\n",
      "2/2 - 0s - loss: 0.9684 - accuracy: 0.5457 - auc_5: 0.8133 - precision_5: 0.5457 - recall_5: 0.5457 - f1_score: 0.1765 - val_loss: 0.9696 - val_accuracy: 0.4914 - val_auc_5: 0.8000 - val_precision_5: 0.4914 - val_recall_5: 0.4914 - val_f1_score: 0.1648 - 244ms/epoch - 122ms/step\n",
      "Epoch 27/50\n",
      "2/2 - 0s - loss: 0.9680 - accuracy: 0.5457 - auc_5: 0.8133 - precision_5: 0.5457 - recall_5: 0.5457 - f1_score: 0.1765 - val_loss: 0.9693 - val_accuracy: 0.4914 - val_auc_5: 0.8000 - val_precision_5: 0.4914 - val_recall_5: 0.4914 - val_f1_score: 0.1648 - 218ms/epoch - 109ms/step\n",
      "Epoch 28/50\n",
      "2/2 - 0s - loss: 0.9677 - accuracy: 0.5457 - auc_5: 0.8133 - precision_5: 0.5457 - recall_5: 0.5457 - f1_score: 0.1765 - val_loss: 0.9691 - val_accuracy: 0.4914 - val_auc_5: 0.8000 - val_precision_5: 0.4914 - val_recall_5: 0.4914 - val_f1_score: 0.1648 - 252ms/epoch - 126ms/step\n",
      "Epoch 29/50\n",
      "2/2 - 0s - loss: 0.9674 - accuracy: 0.5457 - auc_5: 0.8135 - precision_5: 0.5457 - recall_5: 0.5457 - f1_score: 0.1765 - val_loss: 0.9690 - val_accuracy: 0.4914 - val_auc_5: 0.8000 - val_precision_5: 0.4914 - val_recall_5: 0.4914 - val_f1_score: 0.1648 - 222ms/epoch - 111ms/step\n",
      "Epoch 30/50\n",
      "2/2 - 0s - loss: 0.9671 - accuracy: 0.5457 - auc_5: 0.8133 - precision_5: 0.5457 - recall_5: 0.5457 - f1_score: 0.1765 - val_loss: 0.9688 - val_accuracy: 0.4914 - val_auc_5: 0.8000 - val_precision_5: 0.4914 - val_recall_5: 0.4914 - val_f1_score: 0.1648 - 249ms/epoch - 125ms/step\n",
      "Epoch 31/50\n",
      "2/2 - 0s - loss: 0.9668 - accuracy: 0.5457 - auc_5: 0.8133 - precision_5: 0.5457 - recall_5: 0.5457 - f1_score: 0.1765 - val_loss: 0.9686 - val_accuracy: 0.4914 - val_auc_5: 0.8000 - val_precision_5: 0.4914 - val_recall_5: 0.4914 - val_f1_score: 0.1648 - 270ms/epoch - 135ms/step\n",
      "Epoch 32/50\n",
      "2/2 - 0s - loss: 0.9666 - accuracy: 0.5457 - auc_5: 0.8133 - precision_5: 0.5457 - recall_5: 0.5457 - f1_score: 0.1765 - val_loss: 0.9685 - val_accuracy: 0.4914 - val_auc_5: 0.8000 - val_precision_5: 0.4914 - val_recall_5: 0.4914 - val_f1_score: 0.1648 - 253ms/epoch - 127ms/step\n",
      "Epoch 33/50\n",
      "2/2 - 0s - loss: 0.9663 - accuracy: 0.5457 - auc_5: 0.8133 - precision_5: 0.5457 - recall_5: 0.5457 - f1_score: 0.1765 - val_loss: 0.9683 - val_accuracy: 0.4914 - val_auc_5: 0.8000 - val_precision_5: 0.4914 - val_recall_5: 0.4914 - val_f1_score: 0.1648 - 228ms/epoch - 114ms/step\n",
      "Epoch 34/50\n",
      "2/2 - 0s - loss: 0.9661 - accuracy: 0.5457 - auc_5: 0.8136 - precision_5: 0.5457 - recall_5: 0.5457 - f1_score: 0.1765 - val_loss: 0.9682 - val_accuracy: 0.4914 - val_auc_5: 0.8000 - val_precision_5: 0.4914 - val_recall_5: 0.4914 - val_f1_score: 0.1648 - 254ms/epoch - 127ms/step\n",
      "Epoch 35/50\n",
      "2/2 - 0s - loss: 0.9660 - accuracy: 0.5457 - auc_5: 0.8133 - precision_5: 0.5457 - recall_5: 0.5457 - f1_score: 0.1765 - val_loss: 0.9681 - val_accuracy: 0.4914 - val_auc_5: 0.8000 - val_precision_5: 0.4914 - val_recall_5: 0.4914 - val_f1_score: 0.1648 - 220ms/epoch - 110ms/step\n",
      "Epoch 36/50\n",
      "2/2 - 0s - loss: 0.9658 - accuracy: 0.5457 - auc_5: 0.8133 - precision_5: 0.5457 - recall_5: 0.5457 - f1_score: 0.1765 - val_loss: 0.9680 - val_accuracy: 0.4914 - val_auc_5: 0.8000 - val_precision_5: 0.4914 - val_recall_5: 0.4914 - val_f1_score: 0.1648 - 244ms/epoch - 122ms/step\n",
      "Epoch 37/50\n",
      "2/2 - 0s - loss: 0.9657 - accuracy: 0.5457 - auc_5: 0.8133 - precision_5: 0.5457 - recall_5: 0.5457 - f1_score: 0.1765 - val_loss: 0.9678 - val_accuracy: 0.4914 - val_auc_5: 0.8000 - val_precision_5: 0.4914 - val_recall_5: 0.4914 - val_f1_score: 0.1648 - 225ms/epoch - 113ms/step\n",
      "Epoch 38/50\n",
      "2/2 - 0s - loss: 0.9656 - accuracy: 0.5457 - auc_5: 0.8133 - precision_5: 0.5457 - recall_5: 0.5457 - f1_score: 0.1765 - val_loss: 0.9677 - val_accuracy: 0.4914 - val_auc_5: 0.8000 - val_precision_5: 0.4914 - val_recall_5: 0.4914 - val_f1_score: 0.1648 - 245ms/epoch - 123ms/step\n",
      "Epoch 39/50\n",
      "2/2 - 0s - loss: 0.9654 - accuracy: 0.5457 - auc_5: 0.8133 - precision_5: 0.5457 - recall_5: 0.5457 - f1_score: 0.1765 - val_loss: 0.9677 - val_accuracy: 0.4914 - val_auc_5: 0.8000 - val_precision_5: 0.4914 - val_recall_5: 0.4914 - val_f1_score: 0.1648 - 233ms/epoch - 117ms/step\n",
      "Epoch 40/50\n",
      "2/2 - 0s - loss: 0.9653 - accuracy: 0.5457 - auc_5: 0.8133 - precision_5: 0.5457 - recall_5: 0.5457 - f1_score: 0.1765 - val_loss: 0.9676 - val_accuracy: 0.4914 - val_auc_5: 0.8000 - val_precision_5: 0.4914 - val_recall_5: 0.4914 - val_f1_score: 0.1648 - 243ms/epoch - 122ms/step\n",
      "Epoch 41/50\n",
      "2/2 - 0s - loss: 0.9653 - accuracy: 0.5457 - auc_5: 0.8133 - precision_5: 0.5457 - recall_5: 0.5457 - f1_score: 0.1765 - val_loss: 0.9676 - val_accuracy: 0.4914 - val_auc_5: 0.8000 - val_precision_5: 0.4914 - val_recall_5: 0.4914 - val_f1_score: 0.1648 - 225ms/epoch - 112ms/step\n",
      "Epoch 42/50\n",
      "2/2 - 0s - loss: 0.9651 - accuracy: 0.5457 - auc_5: 0.8133 - precision_5: 0.5457 - recall_5: 0.5457 - f1_score: 0.1765 - val_loss: 0.9676 - val_accuracy: 0.4914 - val_auc_5: 0.8000 - val_precision_5: 0.4914 - val_recall_5: 0.4914 - val_f1_score: 0.1648 - 236ms/epoch - 118ms/step\n",
      "Epoch 43/50\n",
      "2/2 - 0s - loss: 0.9651 - accuracy: 0.5457 - auc_5: 0.8133 - precision_5: 0.5457 - recall_5: 0.5457 - f1_score: 0.1765 - val_loss: 0.9676 - val_accuracy: 0.4914 - val_auc_5: 0.8000 - val_precision_5: 0.4914 - val_recall_5: 0.4914 - val_f1_score: 0.1648 - 228ms/epoch - 114ms/step\n",
      "Epoch 44/50\n",
      "2/2 - 0s - loss: 0.9650 - accuracy: 0.5457 - auc_5: 0.8133 - precision_5: 0.5457 - recall_5: 0.5457 - f1_score: 0.1765 - val_loss: 0.9676 - val_accuracy: 0.4914 - val_auc_5: 0.8000 - val_precision_5: 0.4914 - val_recall_5: 0.4914 - val_f1_score: 0.1648 - 235ms/epoch - 117ms/step\n"
     ]
    },
    {
     "data": {
      "image/png": "[encoded data removed]",
      "text/plain": [
       "<Figure size 432x288 with 1 Axes>"
      ]
     },
     "metadata": {
      "needs_background": "light"
     },
     "output_type": "display_data"
    },
    {
     "name": "stdout",
     "output_type": "stream",
     "text": [
      "Epoch 1/50\n",
      "2/2 - 2s - loss: 1.2773 - accuracy: 0.4829 - auc_6: 0.6796 - precision_6: 0.0000e+00 - recall_6: 0.0000e+00 - f1_score: 0.1663 - val_loss: 1.0983 - val_accuracy: 0.5200 - val_auc_6: 0.8166 - val_precision_6: 0.0000e+00 - val_recall_6: 0.0000e+00 - val_f1_score: 0.1711 - 2s/epoch - 1s/step\n",
      "Epoch 2/50\n",
      "2/2 - 0s - loss: 1.1018 - accuracy: 0.5314 - auc_6: 0.8123 - precision_6: 0.0000e+00 - recall_6: 0.0000e+00 - f1_score: 0.1735 - val_loss: 1.0840 - val_accuracy: 0.5200 - val_auc_6: 0.8143 - val_precision_6: 0.5200 - val_recall_6: 0.0743 - val_f1_score: 0.1711 - 239ms/epoch - 120ms/step\n",
      "Epoch 3/50\n",
      "2/2 - 0s - loss: 1.0841 - accuracy: 0.5314 - auc_6: 0.8020 - precision_6: 0.5435 - recall_6: 0.0714 - f1_score: 0.1735 - val_loss: 1.0311 - val_accuracy: 0.5200 - val_auc_6: 0.8133 - val_precision_6: 0.5200 - val_recall_6: 0.5200 - val_f1_score: 0.1711 - 272ms/epoch - 136ms/step\n",
      "Epoch 4/50\n",
      "2/2 - 0s - loss: 1.0423 - accuracy: 0.5314 - auc_6: 0.8047 - precision_6: 0.5314 - recall_6: 0.5314 - f1_score: 0.1735 - val_loss: 1.0210 - val_accuracy: 0.5200 - val_auc_6: 0.8133 - val_precision_6: 0.5200 - val_recall_6: 0.5200 - val_f1_score: 0.1711 - 242ms/epoch - 121ms/step\n",
      "Epoch 5/50\n",
      "2/2 - 0s - loss: 1.0314 - accuracy: 0.5314 - auc_6: 0.8117 - precision_6: 0.5314 - recall_6: 0.5314 - f1_score: 0.1735 - val_loss: 0.9975 - val_accuracy: 0.5200 - val_auc_6: 0.8133 - val_precision_6: 0.5200 - val_recall_6: 0.5200 - val_f1_score: 0.1711 - 233ms/epoch - 116ms/step\n",
      "Epoch 6/50\n",
      "2/2 - 0s - loss: 1.0162 - accuracy: 0.5314 - auc_6: 0.8059 - precision_6: 0.5314 - recall_6: 0.5314 - f1_score: 0.1735 - val_loss: 0.9789 - val_accuracy: 0.5200 - val_auc_6: 0.8133 - val_precision_6: 0.5200 - val_recall_6: 0.5200 - val_f1_score: 0.1711 - 240ms/epoch - 120ms/step\n",
      "Epoch 7/50\n",
      "2/2 - 0s - loss: 1.0029 - accuracy: 0.5314 - auc_6: 0.8135 - precision_6: 0.5314 - recall_6: 0.5314 - f1_score: 0.1735 - val_loss: 0.9669 - val_accuracy: 0.5200 - val_auc_6: 0.8133 - val_precision_6: 0.5200 - val_recall_6: 0.5200 - val_f1_score: 0.1711 - 233ms/epoch - 117ms/step\n",
      "Epoch 8/50\n",
      "2/2 - 0s - loss: 0.9962 - accuracy: 0.5314 - auc_6: 0.8061 - precision_6: 0.5314 - recall_6: 0.5314 - f1_score: 0.1735 - val_loss: 0.9591 - val_accuracy: 0.5200 - val_auc_6: 0.8133 - val_precision_6: 0.5200 - val_recall_6: 0.5200 - val_f1_score: 0.1711 - 231ms/epoch - 116ms/step\n",
      "Epoch 9/50\n",
      "2/2 - 0s - loss: 0.9921 - accuracy: 0.5314 - auc_6: 0.8070 - precision_6: 0.5195 - recall_6: 0.3800 - f1_score: 0.1735 - val_loss: 0.9539 - val_accuracy: 0.5200 - val_auc_6: 0.8133 - val_precision_6: 0.0000e+00 - val_recall_6: 0.0000e+00 - val_f1_score: 0.1711 - 247ms/epoch - 123ms/step\n",
      "Epoch 10/50\n",
      "2/2 - 0s - loss: 0.9896 - accuracy: 0.5314 - auc_6: 0.8066 - precision_6: 0.0000e+00 - recall_6: 0.0000e+00 - f1_score: 0.1735 - val_loss: 0.9499 - val_accuracy: 0.5200 - val_auc_6: 0.8133 - val_precision_6: 0.0000e+00 - val_recall_6: 0.0000e+00 - val_f1_score: 0.1711 - 231ms/epoch - 115ms/step\n",
      "Epoch 11/50\n",
      "2/2 - 0s - loss: 0.9874 - accuracy: 0.5314 - auc_6: 0.8067 - precision_6: 0.0000e+00 - recall_6: 0.0000e+00 - f1_score: 0.1735 - val_loss: 0.9469 - val_accuracy: 0.5200 - val_auc_6: 0.8133 - val_precision_6: 0.0000e+00 - val_recall_6: 0.0000e+00 - val_f1_score: 0.1711 - 245ms/epoch - 122ms/step\n",
      "Epoch 12/50\n",
      "2/2 - 0s - loss: 0.9851 - accuracy: 0.5314 - auc_6: 0.8093 - precision_6: 0.0000e+00 - recall_6: 0.0000e+00 - f1_score: 0.1735 - val_loss: 0.9445 - val_accuracy: 0.5200 - val_auc_6: 0.8133 - val_precision_6: 0.5200 - val_recall_6: 0.5200 - val_f1_score: 0.1711 - 231ms/epoch - 115ms/step\n",
      "Epoch 13/50\n",
      "2/2 - 0s - loss: 0.9830 - accuracy: 0.5314 - auc_6: 0.8077 - precision_6: 0.5314 - recall_6: 0.5314 - f1_score: 0.1735 - val_loss: 0.9429 - val_accuracy: 0.5200 - val_auc_6: 0.8133 - val_precision_6: 0.5200 - val_recall_6: 0.5200 - val_f1_score: 0.1711 - 243ms/epoch - 122ms/step\n",
      "Epoch 14/50\n",
      "2/2 - 0s - loss: 0.9809 - accuracy: 0.5314 - auc_6: 0.8062 - precision_6: 0.5314 - recall_6: 0.5314 - f1_score: 0.1735 - val_loss: 0.9419 - val_accuracy: 0.5200 - val_auc_6: 0.8133 - val_precision_6: 0.5200 - val_recall_6: 0.5200 - val_f1_score: 0.1711 - 222ms/epoch - 111ms/step\n",
      "Epoch 15/50\n",
      "2/2 - 0s - loss: 0.9794 - accuracy: 0.5314 - auc_6: 0.8069 - precision_6: 0.5314 - recall_6: 0.5314 - f1_score: 0.1735 - val_loss: 0.9413 - val_accuracy: 0.5200 - val_auc_6: 0.8133 - val_precision_6: 0.5200 - val_recall_6: 0.5200 - val_f1_score: 0.1711 - 248ms/epoch - 124ms/step\n",
      "Epoch 16/50\n",
      "2/2 - 0s - loss: 0.9785 - accuracy: 0.5314 - auc_6: 0.8048 - precision_6: 0.5314 - recall_6: 0.5314 - f1_score: 0.1735 - val_loss: 0.9409 - val_accuracy: 0.5200 - val_auc_6: 0.8133 - val_precision_6: 0.5200 - val_recall_6: 0.5200 - val_f1_score: 0.1711 - 235ms/epoch - 117ms/step\n",
      "Epoch 17/50\n",
      "2/2 - 0s - loss: 0.9775 - accuracy: 0.5314 - auc_6: 0.8067 - precision_6: 0.5314 - recall_6: 0.5314 - f1_score: 0.1735 - val_loss: 0.9405 - val_accuracy: 0.5200 - val_auc_6: 0.8133 - val_precision_6: 0.5200 - val_recall_6: 0.5200 - val_f1_score: 0.1711 - 251ms/epoch - 126ms/step\n",
      "Epoch 18/50\n",
      "2/2 - 0s - loss: 0.9768 - accuracy: 0.5314 - auc_6: 0.8067 - precision_6: 0.5314 - recall_6: 0.5314 - f1_score: 0.1735 - val_loss: 0.9402 - val_accuracy: 0.5200 - val_auc_6: 0.8133 - val_precision_6: 0.5200 - val_recall_6: 0.5200 - val_f1_score: 0.1711 - 238ms/epoch - 119ms/step\n",
      "Epoch 19/50\n",
      "2/2 - 0s - loss: 0.9763 - accuracy: 0.5314 - auc_6: 0.8067 - precision_6: 0.5314 - recall_6: 0.5314 - f1_score: 0.1735 - val_loss: 0.9399 - val_accuracy: 0.5200 - val_auc_6: 0.8133 - val_precision_6: 0.5200 - val_recall_6: 0.5200 - val_f1_score: 0.1711 - 249ms/epoch - 124ms/step\n",
      "Epoch 20/50\n",
      "2/2 - 0s - loss: 0.9757 - accuracy: 0.5314 - auc_6: 0.8067 - precision_6: 0.5314 - recall_6: 0.5314 - f1_score: 0.1735 - val_loss: 0.9394 - val_accuracy: 0.5200 - val_auc_6: 0.8133 - val_precision_6: 0.5200 - val_recall_6: 0.5200 - val_f1_score: 0.1711 - 223ms/epoch - 111ms/step\n",
      "Epoch 21/50\n",
      "2/2 - 0s - loss: 0.9752 - accuracy: 0.5314 - auc_6: 0.8067 - precision_6: 0.5314 - recall_6: 0.5314 - f1_score: 0.1735 - val_loss: 0.9386 - val_accuracy: 0.5200 - val_auc_6: 0.8134 - val_precision_6: 0.5200 - val_recall_6: 0.5200 - val_f1_score: 0.1711 - 253ms/epoch - 126ms/step\n",
      "Epoch 22/50\n",
      "2/2 - 0s - loss: 0.9736 - accuracy: 0.5314 - auc_6: 0.8138 - precision_6: 0.5314 - recall_6: 0.5314 - f1_score: 0.1735 - val_loss: 0.9416 - val_accuracy: 0.5200 - val_auc_6: 0.8152 - val_precision_6: 0.5200 - val_recall_6: 0.5200 - val_f1_score: 0.1711 - 230ms/epoch - 115ms/step\n",
      "Epoch 23/50\n",
      "2/2 - 0s - loss: 0.9769 - accuracy: 0.5314 - auc_6: 0.8084 - precision_6: 0.5314 - recall_6: 0.5314 - f1_score: 0.1735 - val_loss: 0.9397 - val_accuracy: 0.5200 - val_auc_6: 0.8197 - val_precision_6: 0.5200 - val_recall_6: 0.5200 - val_f1_score: 0.1711 - 257ms/epoch - 129ms/step\n"
     ]
    },
    {
     "data": {
      "image/png": "[encoded data removed]",
      "text/plain": [
       "<Figure size 432x288 with 1 Axes>"
      ]
     },
     "metadata": {
      "needs_background": "light"
     },
     "output_type": "display_data"
    },
    {
     "name": "stdout",
     "output_type": "stream",
     "text": [
      "Epoch 1/50\n",
      "2/2 - 3s - loss: 1.3000 - accuracy: 0.4714 - auc_7: 0.6604 - precision_7: 0.0000e+00 - recall_7: 0.0000e+00 - f1_score: 0.1650 - val_loss: 1.1356 - val_accuracy: 0.5714 - val_auc_7: 0.8128 - val_precision_7: 0.5714 - val_recall_7: 0.5714 - val_f1_score: 0.1818 - 3s/epoch - 1s/step\n",
      "Epoch 2/50\n",
      "2/2 - 0s - loss: 1.1720 - accuracy: 0.5057 - auc_7: 0.8050 - precision_7: 0.5043 - recall_7: 0.5029 - f1_score: 0.1679 - val_loss: 1.0467 - val_accuracy: 0.5714 - val_auc_7: 0.8135 - val_precision_7: 0.5714 - val_recall_7: 0.5714 - val_f1_score: 0.1818 - 238ms/epoch - 119ms/step\n",
      "Epoch 3/50\n",
      "2/2 - 0s - loss: 1.0731 - accuracy: 0.5057 - auc_7: 0.8004 - precision_7: 0.5057 - recall_7: 0.5057 - f1_score: 0.1679 - val_loss: 1.0165 - val_accuracy: 0.5714 - val_auc_7: 0.8144 - val_precision_7: 0.5714 - val_recall_7: 0.5714 - val_f1_score: 0.1818 - 234ms/epoch - 117ms/step\n",
      "Epoch 4/50\n",
      "2/2 - 0s - loss: 1.0243 - accuracy: 0.5057 - auc_7: 0.8126 - precision_7: 0.5057 - recall_7: 0.5057 - f1_score: 0.1679 - val_loss: 1.0125 - val_accuracy: 0.5714 - val_auc_7: 0.8125 - val_precision_7: 0.5714 - val_recall_7: 0.5714 - val_f1_score: 0.1818 - 229ms/epoch - 114ms/step\n",
      "Epoch 5/50\n",
      "2/2 - 0s - loss: 1.0040 - accuracy: 0.5057 - auc_7: 0.8052 - precision_7: 0.5057 - recall_7: 0.5057 - f1_score: 0.1679 - val_loss: 1.0004 - val_accuracy: 0.5714 - val_auc_7: 0.8131 - val_precision_7: 0.5714 - val_recall_7: 0.5714 - val_f1_score: 0.1818 - 237ms/epoch - 119ms/step\n",
      "Epoch 6/50\n",
      "2/2 - 0s - loss: 0.9770 - accuracy: 0.5057 - auc_7: 0.8134 - precision_7: 0.5312 - recall_7: 0.3886 - f1_score: 0.1679 - val_loss: 1.0020 - val_accuracy: 0.5714 - val_auc_7: 0.8119 - val_precision_7: 0.0000e+00 - val_recall_7: 0.0000e+00 - val_f1_score: 0.1818 - 227ms/epoch - 114ms/step\n",
      "Epoch 7/50\n",
      "2/2 - 0s - loss: 0.9729 - accuracy: 0.5057 - auc_7: 0.8052 - precision_7: 0.0000e+00 - recall_7: 0.0000e+00 - f1_score: 0.1679 - val_loss: 1.0081 - val_accuracy: 0.5714 - val_auc_7: 0.8133 - val_precision_7: 0.0000e+00 - val_recall_7: 0.0000e+00 - val_f1_score: 0.1818 - 239ms/epoch - 120ms/step\n"
     ]
    },
    {
     "data": {
      "image/png": "[encoded data removed]",
      "text/plain": [
       "<Figure size 432x288 with 1 Axes>"
      ]
     },
     "metadata": {
      "needs_background": "light"
     },
     "output_type": "display_data"
    }
   ],
   "source": [
    "model2 = get_CNN(n_features, n_length, n_outputs, y_train.shape[1])\n",
    "for train_index, val_index in kf.split(X):\n",
    "    X_train, X_val = X[train_index], X[val_index]\n",
    "    y_train, y_val = y[train_index], y[val_index]\n",
    "    model2 = get_CNN(n_features, n_length, n_outputs, y_train.shape[1])\n",
    "    history = train(model2, X_train, y_train, X_val, y_val, epochs=epochs, batch_size=batch_size)\n",
    "    plt.plot(history.history['loss'])\n",
    "    plt.show()"
   ]
  },
  {
   "cell_type": "code",
   "execution_count": 22,
   "metadata": {},
   "outputs": [],
   "source": [
    "member2 = KerasMember(name=\"CNN+LSTM\", keras_model=model2,\n",
    "    train_batches=(X_train, y_train),\n",
    "    val_batches=(X_test, y_test))"
   ]
  },
  {
   "cell_type": "markdown",
   "metadata": {},
   "source": [
    "#### Train ConvLSTM"
   ]
  },
  {
   "cell_type": "code",
   "execution_count": 23,
   "metadata": {},
   "outputs": [
    {
     "name": "stdout",
     "output_type": "stream",
     "text": [
      "Epoch 1/50\n",
      "2/2 - 3s - loss: 90.8108 - accuracy: 0.1343 - auc_9: 0.4218 - precision_9: 0.1343 - recall_9: 0.1343 - f1_score: 0.0848 - val_loss: 398.2864 - val_accuracy: 0.4171 - val_auc_9: 0.6114 - val_precision_9: 0.4171 - val_recall_9: 0.4171 - val_f1_score: 0.1472 - 3s/epoch - 2s/step\n",
      "Epoch 2/50\n",
      "2/2 - 1s - loss: 405.5543 - accuracy: 0.3429 - auc_9: 0.5591 - precision_9: 0.3429 - recall_9: 0.3429 - f1_score: 0.1302 - val_loss: 252.6332 - val_accuracy: 0.0914 - val_auc_9: 0.3943 - val_precision_9: 0.0914 - val_recall_9: 0.0914 - val_f1_score: 0.0419 - 826ms/epoch - 413ms/step\n",
      "Epoch 3/50\n",
      "2/2 - 1s - loss: 208.8825 - accuracy: 0.0971 - auc_9: 0.3981 - precision_9: 0.0971 - recall_9: 0.0971 - f1_score: 0.0458 - val_loss: 101.8024 - val_accuracy: 0.4914 - val_auc_9: 0.6610 - val_precision_9: 0.4914 - val_recall_9: 0.4914 - val_f1_score: 0.1648 - 788ms/epoch - 394ms/step\n",
      "Epoch 4/50\n",
      "2/2 - 1s - loss: 100.1599 - accuracy: 0.5457 - auc_9: 0.6971 - precision_9: 0.5457 - recall_9: 0.5457 - f1_score: 0.1765 - val_loss: 93.2774 - val_accuracy: 0.4914 - val_auc_9: 0.6610 - val_precision_9: 0.4914 - val_recall_9: 0.4914 - val_f1_score: 0.1648 - 758ms/epoch - 379ms/step\n",
      "Epoch 5/50\n",
      "2/2 - 1s - loss: 84.3912 - accuracy: 0.5457 - auc_9: 0.6971 - precision_9: 0.5457 - recall_9: 0.5457 - f1_score: 0.1765 - val_loss: 45.6065 - val_accuracy: 0.4914 - val_auc_9: 0.6610 - val_precision_9: 0.4914 - val_recall_9: 0.4914 - val_f1_score: 0.1648 - 810ms/epoch - 405ms/step\n",
      "Epoch 6/50\n",
      "2/2 - 1s - loss: 40.8645 - accuracy: 0.5457 - auc_9: 0.6958 - precision_9: 0.5457 - recall_9: 0.5457 - f1_score: 0.1765 - val_loss: 21.4873 - val_accuracy: 0.4000 - val_auc_9: 0.6310 - val_precision_9: 0.4000 - val_recall_9: 0.4000 - val_f1_score: 0.1867 - 793ms/epoch - 396ms/step\n",
      "Epoch 7/50\n",
      "2/2 - 1s - loss: 23.8573 - accuracy: 0.4200 - auc_9: 0.6396 - precision_9: 0.4200 - recall_9: 0.4200 - f1_score: 0.2081 - val_loss: 20.2647 - val_accuracy: 0.4343 - val_auc_9: 0.6258 - val_precision_9: 0.4343 - val_recall_9: 0.4343 - val_f1_score: 0.1851 - 800ms/epoch - 400ms/step\n",
      "Epoch 8/50\n",
      "2/2 - 1s - loss: 21.0271 - accuracy: 0.3943 - auc_9: 0.6151 - precision_9: 0.3943 - recall_9: 0.3943 - f1_score: 0.1735 - val_loss: 11.3278 - val_accuracy: 0.4343 - val_auc_9: 0.6471 - val_precision_9: 0.4310 - val_recall_9: 0.4286 - val_f1_score: 0.1851 - 803ms/epoch - 402ms/step\n",
      "Epoch 9/50\n",
      "2/2 - 1s - loss: 11.1738 - accuracy: 0.3886 - auc_9: 0.6558 - precision_9: 0.3878 - recall_9: 0.3800 - f1_score: 0.1701 - val_loss: 4.2433 - val_accuracy: 0.4343 - val_auc_9: 0.6793 - val_precision_9: 0.4286 - val_recall_9: 0.3429 - val_f1_score: 0.1943 - 771ms/epoch - 385ms/step\n",
      "Epoch 10/50\n",
      "2/2 - 1s - loss: 4.0728 - accuracy: 0.4000 - auc_9: 0.6948 - precision_9: 0.3897 - recall_9: 0.3029 - f1_score: 0.1938 - val_loss: 1.9856 - val_accuracy: 0.4171 - val_auc_9: 0.7270 - val_precision_9: 0.3774 - val_recall_9: 0.1143 - val_f1_score: 0.2148 - 806ms/epoch - 403ms/step\n",
      "Epoch 11/50\n",
      "2/2 - 1s - loss: 1.6692 - accuracy: 0.4857 - auc_9: 0.7420 - precision_9: 0.4273 - recall_9: 0.1343 - f1_score: 0.2443 - val_loss: 1.8514 - val_accuracy: 0.4800 - val_auc_9: 0.7709 - val_precision_9: 0.5714 - val_recall_9: 0.0457 - val_f1_score: 0.2003 - 800ms/epoch - 400ms/step\n",
      "Epoch 12/50\n",
      "2/2 - 1s - loss: 1.3338 - accuracy: 0.5171 - auc_9: 0.7558 - precision_9: 0.5000 - recall_9: 0.0400 - f1_score: 0.2051 - val_loss: 1.8662 - val_accuracy: 0.4914 - val_auc_9: 0.6827 - val_precision_9: 0.7273 - val_recall_9: 0.0457 - val_f1_score: 0.1817 - 782ms/epoch - 391ms/step\n",
      "Epoch 13/50\n",
      "2/2 - 1s - loss: 1.3435 - accuracy: 0.5314 - auc_9: 0.7094 - precision_9: 0.5263 - recall_9: 0.0286 - f1_score: 0.1807 - val_loss: 1.8610 - val_accuracy: 0.5029 - val_auc_9: 0.6772 - val_precision_9: 0.7273 - val_recall_9: 0.0457 - val_f1_score: 0.1849 - 792ms/epoch - 396ms/step\n"
     ]
    },
    {
     "data": {
      "image/png": "[encoded data removed]",
      "text/plain": [
       "<Figure size 432x288 with 1 Axes>"
      ]
     },
     "metadata": {
      "needs_background": "light"
     },
     "output_type": "display_data"
    },
    {
     "name": "stdout",
     "output_type": "stream",
     "text": [
      "Epoch 1/50\n",
      "2/2 - 3s - loss: 81.0301 - accuracy: 0.1571 - auc_10: 0.4366 - precision_10: 0.1571 - recall_10: 0.1571 - f1_score: 0.1079 - val_loss: 131.2541 - val_accuracy: 0.3371 - val_auc_10: 0.5602 - val_precision_10: 0.3371 - val_recall_10: 0.3371 - val_f1_score: 0.1488 - 3s/epoch - 2s/step\n",
      "Epoch 2/50\n",
      "2/2 - 1s - loss: 122.4874 - accuracy: 0.2571 - auc_10: 0.5049 - precision_10: 0.2571 - recall_10: 0.2571 - f1_score: 0.1623 - val_loss: 55.8816 - val_accuracy: 0.5200 - val_auc_10: 0.6800 - val_precision_10: 0.5200 - val_recall_10: 0.5200 - val_f1_score: 0.1711 - 814ms/epoch - 407ms/step\n",
      "Epoch 3/50\n",
      "2/2 - 1s - loss: 82.6937 - accuracy: 0.4857 - auc_10: 0.6586 - precision_10: 0.4857 - recall_10: 0.4857 - f1_score: 0.2341 - val_loss: 41.2507 - val_accuracy: 0.5371 - val_auc_10: 0.7063 - val_precision_10: 0.5371 - val_recall_10: 0.5371 - val_f1_score: 0.2045 - 789ms/epoch - 394ms/step\n",
      "Epoch 4/50\n",
      "2/2 - 1s - loss: 56.4458 - accuracy: 0.5371 - auc_10: 0.7029 - precision_10: 0.5371 - recall_10: 0.5371 - f1_score: 0.2090 - val_loss: 42.1493 - val_accuracy: 0.4057 - val_auc_10: 0.6038 - val_precision_10: 0.4057 - val_recall_10: 0.4057 - val_f1_score: 0.1489 - 808ms/epoch - 404ms/step\n",
      "Epoch 5/50\n",
      "2/2 - 1s - loss: 49.0970 - accuracy: 0.3629 - auc_10: 0.5900 - precision_10: 0.3629 - recall_10: 0.3629 - f1_score: 0.1331 - val_loss: 29.1663 - val_accuracy: 0.5200 - val_auc_10: 0.6842 - val_precision_10: 0.5200 - val_recall_10: 0.5200 - val_f1_score: 0.1774 - 794ms/epoch - 397ms/step\n",
      "Epoch 6/50\n",
      "2/2 - 1s - loss: 33.3008 - accuracy: 0.5371 - auc_10: 0.6948 - precision_10: 0.5371 - recall_10: 0.5371 - f1_score: 0.1853 - val_loss: 18.3148 - val_accuracy: 0.5200 - val_auc_10: 0.6951 - val_precision_10: 0.5230 - val_recall_10: 0.5200 - val_f1_score: 0.1890 - 783ms/epoch - 391ms/step\n",
      "Epoch 7/50\n",
      "2/2 - 1s - loss: 18.5294 - accuracy: 0.5371 - auc_10: 0.7068 - precision_10: 0.5371 - recall_10: 0.5371 - f1_score: 0.1918 - val_loss: 7.9234 - val_accuracy: 0.4800 - val_auc_10: 0.7731 - val_precision_10: 0.4821 - val_recall_10: 0.4629 - val_f1_score: 0.2380 - 788ms/epoch - 394ms/step\n",
      "Epoch 8/50\n",
      "2/2 - 1s - loss: 9.1600 - accuracy: 0.4629 - auc_10: 0.7577 - precision_10: 0.4588 - recall_10: 0.4457 - f1_score: 0.2391 - val_loss: 5.2879 - val_accuracy: 0.5029 - val_auc_10: 0.7715 - val_precision_10: 0.4969 - val_recall_10: 0.4629 - val_f1_score: 0.2599 - 779ms/epoch - 389ms/step\n",
      "Epoch 9/50\n",
      "2/2 - 1s - loss: 5.6959 - accuracy: 0.4257 - auc_10: 0.7182 - precision_10: 0.4323 - recall_10: 0.3829 - f1_score: 0.2240 - val_loss: 3.2769 - val_accuracy: 0.4514 - val_auc_10: 0.7729 - val_precision_10: 0.4672 - val_recall_10: 0.3657 - val_f1_score: 0.2341 - 814ms/epoch - 407ms/step\n",
      "Epoch 10/50\n",
      "2/2 - 1s - loss: 3.2841 - accuracy: 0.4286 - auc_10: 0.7196 - precision_10: 0.4612 - recall_10: 0.3229 - f1_score: 0.2254 - val_loss: 1.9777 - val_accuracy: 0.4857 - val_auc_10: 0.7963 - val_precision_10: 0.5816 - val_recall_10: 0.3257 - val_f1_score: 0.2485 - 826ms/epoch - 413ms/step\n",
      "Epoch 11/50\n",
      "2/2 - 1s - loss: 2.0963 - accuracy: 0.4371 - auc_10: 0.7321 - precision_10: 0.4650 - recall_10: 0.2086 - f1_score: 0.2273 - val_loss: 1.4266 - val_accuracy: 0.5086 - val_auc_10: 0.7973 - val_precision_10: 0.6081 - val_recall_10: 0.2571 - val_f1_score: 0.2558 - 777ms/epoch - 389ms/step\n",
      "Epoch 12/50\n",
      "2/2 - 1s - loss: 1.5641 - accuracy: 0.4514 - auc_10: 0.7496 - precision_10: 0.5472 - recall_10: 0.1657 - f1_score: 0.2385 - val_loss: 1.3206 - val_accuracy: 0.4971 - val_auc_10: 0.8020 - val_precision_10: 0.5952 - val_recall_10: 0.1429 - val_f1_score: 0.2321 - 802ms/epoch - 401ms/step\n",
      "Epoch 13/50\n",
      "2/2 - 1s - loss: 1.4232 - accuracy: 0.4943 - auc_10: 0.7628 - precision_10: 0.5200 - recall_10: 0.0743 - f1_score: 0.2182 - val_loss: 1.3214 - val_accuracy: 0.4800 - val_auc_10: 0.8043 - val_precision_10: 0.5806 - val_recall_10: 0.1029 - val_f1_score: 0.2033 - 788ms/epoch - 394ms/step\n",
      "Epoch 14/50\n",
      "2/2 - 1s - loss: 1.3716 - accuracy: 0.5086 - auc_10: 0.7734 - precision_10: 0.5556 - recall_10: 0.0429 - f1_score: 0.1982 - val_loss: 1.2893 - val_accuracy: 0.5257 - val_auc_10: 0.8109 - val_precision_10: 0.7857 - val_recall_10: 0.1257 - val_f1_score: 0.2145 - 788ms/epoch - 394ms/step\n",
      "Epoch 15/50\n",
      "2/2 - 1s - loss: 1.3445 - accuracy: 0.5286 - auc_10: 0.7795 - precision_10: 0.6667 - recall_10: 0.0457 - f1_score: 0.1960 - val_loss: 1.2626 - val_accuracy: 0.5314 - val_auc_10: 0.8096 - val_precision_10: 0.7727 - val_recall_10: 0.0971 - val_f1_score: 0.2121 - 807ms/epoch - 404ms/step\n",
      "Epoch 16/50\n",
      "2/2 - 1s - loss: 1.3290 - accuracy: 0.5314 - auc_10: 0.7808 - precision_10: 0.7727 - recall_10: 0.0486 - f1_score: 0.1938 - val_loss: 1.2514 - val_accuracy: 0.5086 - val_auc_10: 0.8154 - val_precision_10: 0.7727 - val_recall_10: 0.0971 - val_f1_score: 0.1914 - 781ms/epoch - 390ms/step\n",
      "Epoch 17/50\n",
      "2/2 - 1s - loss: 1.3254 - accuracy: 0.5257 - auc_10: 0.7881 - precision_10: 0.7273 - recall_10: 0.0457 - f1_score: 0.1831 - val_loss: 1.2503 - val_accuracy: 0.5257 - val_auc_10: 0.8136 - val_precision_10: 0.8095 - val_recall_10: 0.0971 - val_f1_score: 0.2009 - 786ms/epoch - 393ms/step\n",
      "Epoch 18/50\n",
      "2/2 - 1s - loss: 1.3271 - accuracy: 0.5286 - auc_10: 0.7835 - precision_10: 0.7368 - recall_10: 0.0400 - f1_score: 0.1835 - val_loss: 1.2494 - val_accuracy: 0.5257 - val_auc_10: 0.8136 - val_precision_10: 0.8421 - val_recall_10: 0.0914 - val_f1_score: 0.2009 - 769ms/epoch - 385ms/step\n",
      "Epoch 19/50\n",
      "2/2 - 1s - loss: 1.3229 - accuracy: 0.5343 - auc_10: 0.7841 - precision_10: 0.7222 - recall_10: 0.0371 - f1_score: 0.1911 - val_loss: 1.2476 - val_accuracy: 0.5314 - val_auc_10: 0.8146 - val_precision_10: 0.8333 - val_recall_10: 0.0857 - val_f1_score: 0.2026 - 806ms/epoch - 403ms/step\n",
      "Epoch 20/50\n",
      "2/2 - 1s - loss: 1.3179 - accuracy: 0.5343 - auc_10: 0.7893 - precision_10: 0.7222 - recall_10: 0.0371 - f1_score: 0.1911 - val_loss: 1.2469 - val_accuracy: 0.5314 - val_auc_10: 0.8123 - val_precision_10: 0.8333 - val_recall_10: 0.0857 - val_f1_score: 0.2026 - 831ms/epoch - 415ms/step\n",
      "Epoch 21/50\n",
      "2/2 - 1s - loss: 1.3183 - accuracy: 0.5429 - auc_10: 0.7893 - precision_10: 0.7895 - recall_10: 0.0429 - f1_score: 0.2024 - val_loss: 1.2467 - val_accuracy: 0.5257 - val_auc_10: 0.8144 - val_precision_10: 0.8333 - val_recall_10: 0.0857 - val_f1_score: 0.2009 - 773ms/epoch - 386ms/step\n",
      "Epoch 22/50\n",
      "2/2 - 1s - loss: 1.3180 - accuracy: 0.5429 - auc_10: 0.7880 - precision_10: 0.7895 - recall_10: 0.0429 - f1_score: 0.2024 - val_loss: 1.2450 - val_accuracy: 0.5200 - val_auc_10: 0.8147 - val_precision_10: 0.8333 - val_recall_10: 0.0857 - val_f1_score: 0.1942 - 804ms/epoch - 402ms/step\n",
      "Epoch 23/50\n",
      "2/2 - 1s - loss: 1.3160 - accuracy: 0.5429 - auc_10: 0.7885 - precision_10: 0.7895 - recall_10: 0.0429 - f1_score: 0.2024 - val_loss: 1.2427 - val_accuracy: 0.5200 - val_auc_10: 0.8155 - val_precision_10: 0.8947 - val_recall_10: 0.0971 - val_f1_score: 0.1942 - 770ms/epoch - 385ms/step\n",
      "Epoch 24/50\n",
      "2/2 - 1s - loss: 1.3128 - accuracy: 0.5400 - auc_10: 0.7899 - precision_10: 0.8000 - recall_10: 0.0457 - f1_score: 0.2016 - val_loss: 1.2411 - val_accuracy: 0.5200 - val_auc_10: 0.8147 - val_precision_10: 0.8500 - val_recall_10: 0.0971 - val_f1_score: 0.1942 - 797ms/epoch - 399ms/step\n",
      "Epoch 25/50\n",
      "2/2 - 1s - loss: 1.3100 - accuracy: 0.5400 - auc_10: 0.7899 - precision_10: 0.8000 - recall_10: 0.0457 - f1_score: 0.2016 - val_loss: 1.2401 - val_accuracy: 0.5200 - val_auc_10: 0.8147 - val_precision_10: 0.8500 - val_recall_10: 0.0971 - val_f1_score: 0.1942 - 794ms/epoch - 397ms/step\n",
      "Epoch 26/50\n",
      "2/2 - 1s - loss: 1.3080 - accuracy: 0.5429 - auc_10: 0.7913 - precision_10: 0.8000 - recall_10: 0.0457 - f1_score: 0.2024 - val_loss: 1.2396 - val_accuracy: 0.5200 - val_auc_10: 0.8162 - val_precision_10: 0.8500 - val_recall_10: 0.0971 - val_f1_score: 0.1942 - 807ms/epoch - 403ms/step\n",
      "Epoch 27/50\n",
      "2/2 - 1s - loss: 1.3071 - accuracy: 0.5486 - auc_10: 0.7901 - precision_10: 0.8571 - recall_10: 0.0514 - f1_score: 0.2175 - val_loss: 1.2394 - val_accuracy: 0.5200 - val_auc_10: 0.8161 - val_precision_10: 0.8571 - val_recall_10: 0.1029 - val_f1_score: 0.1942 - 798ms/epoch - 399ms/step\n",
      "Epoch 28/50\n",
      "2/2 - 1s - loss: 1.3073 - accuracy: 0.5429 - auc_10: 0.7907 - precision_10: 0.7619 - recall_10: 0.0457 - f1_score: 0.2099 - val_loss: 1.2392 - val_accuracy: 0.5143 - val_auc_10: 0.8152 - val_precision_10: 0.8571 - val_recall_10: 0.1029 - val_f1_score: 0.1819 - 784ms/epoch - 392ms/step\n",
      "Epoch 29/50\n",
      "2/2 - 1s - loss: 1.3075 - accuracy: 0.5429 - auc_10: 0.7911 - precision_10: 0.7619 - recall_10: 0.0457 - f1_score: 0.2099 - val_loss: 1.2388 - val_accuracy: 0.5200 - val_auc_10: 0.8205 - val_precision_10: 0.8571 - val_recall_10: 0.1029 - val_f1_score: 0.1834 - 819ms/epoch - 409ms/step\n",
      "Epoch 30/50\n",
      "2/2 - 1s - loss: 1.3071 - accuracy: 0.5457 - auc_10: 0.8142 - precision_10: 0.7619 - recall_10: 0.0457 - f1_score: 0.2137 - val_loss: 1.2382 - val_accuracy: 0.5200 - val_auc_10: 0.8194 - val_precision_10: 0.8571 - val_recall_10: 0.1029 - val_f1_score: 0.1890 - 799ms/epoch - 400ms/step\n",
      "Epoch 31/50\n",
      "2/2 - 1s - loss: 1.3055 - accuracy: 0.5457 - auc_10: 0.8144 - precision_10: 0.7619 - recall_10: 0.0457 - f1_score: 0.2137 - val_loss: 1.2369 - val_accuracy: 0.5200 - val_auc_10: 0.8199 - val_precision_10: 0.8571 - val_recall_10: 0.1029 - val_f1_score: 0.1890 - 781ms/epoch - 391ms/step\n",
      "Epoch 32/50\n",
      "2/2 - 1s - loss: 1.3034 - accuracy: 0.5457 - auc_10: 0.8150 - precision_10: 0.7619 - recall_10: 0.0457 - f1_score: 0.2137 - val_loss: 1.2355 - val_accuracy: 0.5200 - val_auc_10: 0.8184 - val_precision_10: 0.8571 - val_recall_10: 0.1029 - val_f1_score: 0.1890 - 820ms/epoch - 410ms/step\n",
      "Epoch 33/50\n",
      "2/2 - 1s - loss: 1.3027 - accuracy: 0.5486 - auc_10: 0.8147 - precision_10: 0.8095 - recall_10: 0.0486 - f1_score: 0.2204 - val_loss: 1.2343 - val_accuracy: 0.5200 - val_auc_10: 0.8164 - val_precision_10: 0.8636 - val_recall_10: 0.1086 - val_f1_score: 0.1890 - 777ms/epoch - 389ms/step\n",
      "Epoch 34/50\n",
      "2/2 - 1s - loss: 1.3010 - accuracy: 0.5486 - auc_10: 0.8144 - precision_10: 0.8095 - recall_10: 0.0486 - f1_score: 0.2204 - val_loss: 1.2335 - val_accuracy: 0.5200 - val_auc_10: 0.8157 - val_precision_10: 0.8636 - val_recall_10: 0.1086 - val_f1_score: 0.1890 - 789ms/epoch - 394ms/step\n",
      "Epoch 35/50\n",
      "2/2 - 1s - loss: 1.3006 - accuracy: 0.5514 - auc_10: 0.8154 - precision_10: 0.8095 - recall_10: 0.0486 - f1_score: 0.2240 - val_loss: 1.2329 - val_accuracy: 0.5200 - val_auc_10: 0.8150 - val_precision_10: 0.8636 - val_recall_10: 0.1086 - val_f1_score: 0.1890 - 839ms/epoch - 419ms/step\n",
      "Epoch 36/50\n",
      "2/2 - 1s - loss: 1.2997 - accuracy: 0.5514 - auc_10: 0.8163 - precision_10: 0.8095 - recall_10: 0.0486 - f1_score: 0.2240 - val_loss: 1.2325 - val_accuracy: 0.5200 - val_auc_10: 0.8150 - val_precision_10: 0.8636 - val_recall_10: 0.1086 - val_f1_score: 0.1890 - 776ms/epoch - 388ms/step\n",
      "Epoch 37/50\n",
      "2/2 - 1s - loss: 1.2989 - accuracy: 0.5543 - auc_10: 0.8167 - precision_10: 0.8095 - recall_10: 0.0486 - f1_score: 0.2276 - val_loss: 1.2322 - val_accuracy: 0.5257 - val_auc_10: 0.8150 - val_precision_10: 0.8636 - val_recall_10: 0.1086 - val_f1_score: 0.1959 - 803ms/epoch - 402ms/step\n",
      "Epoch 38/50\n",
      "2/2 - 1s - loss: 1.2983 - accuracy: 0.5543 - auc_10: 0.8167 - precision_10: 0.8095 - recall_10: 0.0486 - f1_score: 0.2276 - val_loss: 1.2320 - val_accuracy: 0.5257 - val_auc_10: 0.8150 - val_precision_10: 0.8636 - val_recall_10: 0.1086 - val_f1_score: 0.1959 - 786ms/epoch - 393ms/step\n",
      "Epoch 39/50\n",
      "2/2 - 1s - loss: 1.2975 - accuracy: 0.5543 - auc_10: 0.8167 - precision_10: 0.8095 - recall_10: 0.0486 - f1_score: 0.2276 - val_loss: 1.2319 - val_accuracy: 0.5257 - val_auc_10: 0.8161 - val_precision_10: 0.8261 - val_recall_10: 0.1086 - val_f1_score: 0.1959 - 815ms/epoch - 408ms/step\n",
      "Epoch 40/50\n",
      "2/2 - 1s - loss: 1.2971 - accuracy: 0.5543 - auc_10: 0.8167 - precision_10: 0.8095 - recall_10: 0.0486 - f1_score: 0.2276 - val_loss: 1.2318 - val_accuracy: 0.5314 - val_auc_10: 0.8166 - val_precision_10: 0.8261 - val_recall_10: 0.1086 - val_f1_score: 0.1975 - 813ms/epoch - 406ms/step\n",
      "Epoch 41/50\n",
      "2/2 - 1s - loss: 1.2965 - accuracy: 0.5571 - auc_10: 0.8168 - precision_10: 0.8095 - recall_10: 0.0486 - f1_score: 0.2285 - val_loss: 1.2317 - val_accuracy: 0.5314 - val_auc_10: 0.8170 - val_precision_10: 0.8261 - val_recall_10: 0.1086 - val_f1_score: 0.1975 - 798ms/epoch - 399ms/step\n",
      "Epoch 42/50\n",
      "2/2 - 1s - loss: 1.2960 - accuracy: 0.5571 - auc_10: 0.8166 - precision_10: 0.8095 - recall_10: 0.0486 - f1_score: 0.2285 - val_loss: 1.2315 - val_accuracy: 0.5314 - val_auc_10: 0.8171 - val_precision_10: 0.8261 - val_recall_10: 0.1086 - val_f1_score: 0.1975 - 864ms/epoch - 432ms/step\n",
      "Epoch 43/50\n",
      "2/2 - 1s - loss: 1.2955 - accuracy: 0.5571 - auc_10: 0.8166 - precision_10: 0.8095 - recall_10: 0.0486 - f1_score: 0.2285 - val_loss: 1.2313 - val_accuracy: 0.5314 - val_auc_10: 0.8171 - val_precision_10: 0.8182 - val_recall_10: 0.1029 - val_f1_score: 0.1975 - 780ms/epoch - 390ms/step\n",
      "Epoch 44/50\n",
      "2/2 - 1s - loss: 1.2952 - accuracy: 0.5571 - auc_10: 0.8171 - precision_10: 0.8095 - recall_10: 0.0486 - f1_score: 0.2285 - val_loss: 1.2312 - val_accuracy: 0.5314 - val_auc_10: 0.8164 - val_precision_10: 0.8182 - val_recall_10: 0.1029 - val_f1_score: 0.1975 - 778ms/epoch - 389ms/step\n",
      "Epoch 45/50\n",
      "2/2 - 1s - loss: 1.2948 - accuracy: 0.5571 - auc_10: 0.8171 - precision_10: 0.8095 - recall_10: 0.0486 - f1_score: 0.2285 - val_loss: 1.2311 - val_accuracy: 0.5314 - val_auc_10: 0.8164 - val_precision_10: 0.8182 - val_recall_10: 0.1029 - val_f1_score: 0.1975 - 796ms/epoch - 398ms/step\n",
      "Epoch 46/50\n",
      "2/2 - 1s - loss: 1.2945 - accuracy: 0.5571 - auc_10: 0.8171 - precision_10: 0.8095 - recall_10: 0.0486 - f1_score: 0.2285 - val_loss: 1.2310 - val_accuracy: 0.5314 - val_auc_10: 0.8160 - val_precision_10: 0.8182 - val_recall_10: 0.1029 - val_f1_score: 0.1975 - 771ms/epoch - 385ms/step\n",
      "Epoch 47/50\n",
      "2/2 - 1s - loss: 1.2942 - accuracy: 0.5571 - auc_10: 0.8178 - precision_10: 0.8182 - recall_10: 0.0514 - f1_score: 0.2285 - val_loss: 1.2310 - val_accuracy: 0.5314 - val_auc_10: 0.8160 - val_precision_10: 0.8182 - val_recall_10: 0.1029 - val_f1_score: 0.1975 - 778ms/epoch - 389ms/step\n",
      "Epoch 48/50\n",
      "2/2 - 1s - loss: 1.2939 - accuracy: 0.5571 - auc_10: 0.8178 - precision_10: 0.8182 - recall_10: 0.0514 - f1_score: 0.2285 - val_loss: 1.2309 - val_accuracy: 0.5314 - val_auc_10: 0.8160 - val_precision_10: 0.8182 - val_recall_10: 0.1029 - val_f1_score: 0.1975 - 791ms/epoch - 396ms/step\n",
      "Epoch 49/50\n",
      "2/2 - 1s - loss: 1.2936 - accuracy: 0.5571 - auc_10: 0.8178 - precision_10: 0.8182 - recall_10: 0.0514 - f1_score: 0.2285 - val_loss: 1.2309 - val_accuracy: 0.5314 - val_auc_10: 0.8160 - val_precision_10: 0.8182 - val_recall_10: 0.1029 - val_f1_score: 0.1975 - 794ms/epoch - 397ms/step\n",
      "Epoch 50/50\n",
      "2/2 - 1s - loss: 1.2934 - accuracy: 0.5571 - auc_10: 0.8179 - precision_10: 0.8182 - recall_10: 0.0514 - f1_score: 0.2285 - val_loss: 1.2308 - val_accuracy: 0.5314 - val_auc_10: 0.8160 - val_precision_10: 0.8182 - val_recall_10: 0.1029 - val_f1_score: 0.1975 - 803ms/epoch - 401ms/step\n"
     ]
    },
    {
     "data": {
      "image/png": "[encoded data removed]",
      "text/plain": [
       "<Figure size 432x288 with 1 Axes>"
      ]
     },
     "metadata": {
      "needs_background": "light"
     },
     "output_type": "display_data"
    },
    {
     "name": "stdout",
     "output_type": "stream",
     "text": [
      "Epoch 1/50\n",
      "2/2 - 4s - loss: 178.5619 - accuracy: 0.4800 - auc_11: 0.6540 - precision_11: 0.4800 - recall_11: 0.4800 - f1_score: 0.2440 - val_loss: 222.7059 - val_accuracy: 0.1314 - val_auc_11: 0.4184 - val_precision_11: 0.1314 - val_recall_11: 0.1314 - val_f1_score: 0.0949 - 4s/epoch - 2s/step\n",
      "Epoch 2/50\n",
      "2/2 - 1s - loss: 162.7960 - accuracy: 0.1829 - auc_11: 0.4415 - precision_11: 0.1829 - recall_11: 0.1829 - f1_score: 0.1315 - val_loss: 7.2759 - val_accuracy: 0.4914 - val_auc_11: 0.6858 - val_precision_11: 0.4914 - val_recall_11: 0.4914 - val_f1_score: 0.2488 - 755ms/epoch - 377ms/step\n",
      "Epoch 3/50\n",
      "2/2 - 1s - loss: 6.6077 - accuracy: 0.4429 - auc_11: 0.6623 - precision_11: 0.4413 - recall_11: 0.4400 - f1_score: 0.2117 - val_loss: 3.3748 - val_accuracy: 0.4743 - val_auc_11: 0.7102 - val_precision_11: 0.4872 - val_recall_11: 0.4343 - val_f1_score: 0.2405 - 806ms/epoch - 403ms/step\n",
      "Epoch 4/50\n",
      "2/2 - 1s - loss: 2.9694 - accuracy: 0.4400 - auc_11: 0.7013 - precision_11: 0.4477 - recall_11: 0.3914 - f1_score: 0.2285 - val_loss: 2.0196 - val_accuracy: 0.4000 - val_auc_11: 0.6756 - val_precision_11: 0.3441 - val_recall_11: 0.1829 - val_f1_score: 0.1962 - 774ms/epoch - 387ms/step\n",
      "Epoch 5/50\n",
      "2/2 - 1s - loss: 1.5523 - accuracy: 0.4657 - auc_11: 0.7081 - precision_11: 0.4601 - recall_11: 0.2143 - f1_score: 0.2332 - val_loss: 1.5846 - val_accuracy: 0.5200 - val_auc_11: 0.6314 - val_precision_11: 0.5882 - val_recall_11: 0.1143 - val_f1_score: 0.1986 - 807ms/epoch - 404ms/step\n",
      "Epoch 6/50\n",
      "2/2 - 1s - loss: 1.3898 - accuracy: 0.5114 - auc_11: 0.6484 - precision_11: 0.6029 - recall_11: 0.1171 - f1_score: 0.2233 - val_loss: 1.4659 - val_accuracy: 0.3657 - val_auc_11: 0.5768 - val_precision_11: 0.5625 - val_recall_11: 0.0514 - val_f1_score: 0.1861 - 812ms/epoch - 406ms/step\n",
      "Epoch 7/50\n",
      "2/2 - 1s - loss: 1.3491 - accuracy: 0.4371 - auc_11: 0.6516 - precision_11: 0.6000 - recall_11: 0.0600 - f1_score: 0.2039 - val_loss: 1.4322 - val_accuracy: 0.3543 - val_auc_11: 0.7290 - val_precision_11: 0.6000 - val_recall_11: 0.0343 - val_f1_score: 0.1732 - 777ms/epoch - 388ms/step\n",
      "Epoch 8/50\n",
      "2/2 - 1s - loss: 1.3387 - accuracy: 0.4400 - auc_11: 0.7882 - precision_11: 0.7500 - recall_11: 0.0514 - f1_score: 0.1932 - val_loss: 1.4159 - val_accuracy: 0.3257 - val_auc_11: 0.7391 - val_precision_11: 0.4286 - val_recall_11: 0.0171 - val_f1_score: 0.1465 - 797ms/epoch - 399ms/step\n",
      "Epoch 9/50\n",
      "2/2 - 1s - loss: 1.3359 - accuracy: 0.4400 - auc_11: 0.7993 - precision_11: 0.8000 - recall_11: 0.0457 - f1_score: 0.1886 - val_loss: 1.4046 - val_accuracy: 0.2971 - val_auc_11: 0.7600 - val_precision_11: 0.1667 - val_recall_11: 0.0057 - val_f1_score: 0.1186 - 767ms/epoch - 384ms/step\n",
      "Epoch 10/50\n",
      "2/2 - 1s - loss: 1.3331 - accuracy: 0.4371 - auc_11: 0.7999 - precision_11: 0.8235 - recall_11: 0.0400 - f1_score: 0.1825 - val_loss: 1.3895 - val_accuracy: 0.3029 - val_auc_11: 0.7579 - val_precision_11: 0.1667 - val_recall_11: 0.0057 - val_f1_score: 0.1204 - 784ms/epoch - 392ms/step\n",
      "Epoch 11/50\n",
      "2/2 - 1s - loss: 1.3283 - accuracy: 0.4371 - auc_11: 0.7960 - precision_11: 1.0000 - recall_11: 0.0371 - f1_score: 0.1823 - val_loss: 1.3799 - val_accuracy: 0.3143 - val_auc_11: 0.7574 - val_precision_11: 0.6000 - val_recall_11: 0.0171 - val_f1_score: 0.1307 - 756ms/epoch - 378ms/step\n",
      "Epoch 12/50\n",
      "2/2 - 1s - loss: 1.3291 - accuracy: 0.4486 - auc_11: 0.7956 - precision_11: 1.0000 - recall_11: 0.0314 - f1_score: 0.1878 - val_loss: 1.3754 - val_accuracy: 0.3143 - val_auc_11: 0.7590 - val_precision_11: 0.6000 - val_recall_11: 0.0171 - val_f1_score: 0.1307 - 806ms/epoch - 403ms/step\n",
      "Epoch 13/50\n",
      "2/2 - 1s - loss: 1.3305 - accuracy: 0.4486 - auc_11: 0.7976 - precision_11: 1.0000 - recall_11: 0.0257 - f1_score: 0.1878 - val_loss: 1.3721 - val_accuracy: 0.3143 - val_auc_11: 0.7609 - val_precision_11: 0.6000 - val_recall_11: 0.0171 - val_f1_score: 0.1304 - 790ms/epoch - 395ms/step\n",
      "Epoch 14/50\n",
      "2/2 - 1s - loss: 1.3312 - accuracy: 0.4486 - auc_11: 0.7998 - precision_11: 1.0000 - recall_11: 0.0257 - f1_score: 0.1877 - val_loss: 1.3698 - val_accuracy: 0.3143 - val_auc_11: 0.7646 - val_precision_11: 0.6000 - val_recall_11: 0.0171 - val_f1_score: 0.1304 - 768ms/epoch - 384ms/step\n",
      "Epoch 15/50\n",
      "2/2 - 1s - loss: 1.3304 - accuracy: 0.4486 - auc_11: 0.7999 - precision_11: 1.0000 - recall_11: 0.0229 - f1_score: 0.1877 - val_loss: 1.3685 - val_accuracy: 0.3143 - val_auc_11: 0.7647 - val_precision_11: 0.6000 - val_recall_11: 0.0171 - val_f1_score: 0.1304 - 797ms/epoch - 398ms/step\n",
      "Epoch 16/50\n",
      "2/2 - 1s - loss: 1.3282 - accuracy: 0.4486 - auc_11: 0.8004 - precision_11: 1.0000 - recall_11: 0.0229 - f1_score: 0.1877 - val_loss: 1.3679 - val_accuracy: 0.3143 - val_auc_11: 0.7640 - val_precision_11: 0.6000 - val_recall_11: 0.0171 - val_f1_score: 0.1307 - 787ms/epoch - 394ms/step\n",
      "Epoch 17/50\n",
      "2/2 - 1s - loss: 1.3248 - accuracy: 0.4486 - auc_11: 0.8006 - precision_11: 1.0000 - recall_11: 0.0257 - f1_score: 0.1878 - val_loss: 1.3679 - val_accuracy: 0.3143 - val_auc_11: 0.7249 - val_precision_11: 0.6000 - val_recall_11: 0.0171 - val_f1_score: 0.1307 - 801ms/epoch - 400ms/step\n",
      "Epoch 18/50\n",
      "2/2 - 1s - loss: 1.3213 - accuracy: 0.4514 - auc_11: 0.7937 - precision_11: 1.0000 - recall_11: 0.0343 - f1_score: 0.1905 - val_loss: 1.3681 - val_accuracy: 0.3143 - val_auc_11: 0.7293 - val_precision_11: 0.6000 - val_recall_11: 0.0171 - val_f1_score: 0.1307 - 779ms/epoch - 389ms/step\n"
     ]
    },
    {
     "data": {
      "image/png": "[encoded data removed]",
      "text/plain": [
       "<Figure size 432x288 with 1 Axes>"
      ]
     },
     "metadata": {
      "needs_background": "light"
     },
     "output_type": "display_data"
    }
   ],
   "source": [
    "model3 = build_convLSTM(n_features, n_length, n_outputs, y_train.shape[1])\n",
    "for train_index, val_index in kf.split(X):\n",
    "    X_train, X_val = X[train_index], X[val_index]\n",
    "    y_train, y_val = y[train_index], y[val_index]\n",
    "    model3 = build_convLSTM(n_features, n_length, n_outputs, y_train.shape[1])\n",
    "    history = train(model3, X_train, y_train, X_val, y_val, epochs=epochs, batch_size=batch_size)\n",
    "    plt.plot(history.history['loss'])\n",
    "    plt.show()"
   ]
  },
  {
   "cell_type": "code",
   "execution_count": 24,
   "metadata": {},
   "outputs": [],
   "source": [
    "member3 = KerasMember(name=\"ConvLSTM\", keras_model=model3,\n",
    "    train_batches=(X_train, y_train),\n",
    "    val_batches=(X_test, y_test))"
   ]
  },
  {
   "cell_type": "markdown",
   "metadata": {},
   "source": [
    "#### Train RCNN"
   ]
  },
  {
   "cell_type": "code",
   "execution_count": 25,
   "metadata": {},
   "outputs": [
    {
     "name": "stdout",
     "output_type": "stream",
     "text": [
      "Epoch 1/50\n",
      "2/2 - 2s - loss: 2.5363 - accuracy: 0.4143 - auc_13: 0.6753 - precision_13: 0.4389 - recall_13: 0.2771 - f1_score: 0.2637 - val_loss: 1437.8741 - val_accuracy: 0.4914 - val_auc_13: 0.6610 - val_precision_13: 0.4914 - val_recall_13: 0.4914 - val_f1_score: 0.1648 - 2s/epoch - 1s/step\n",
      "Epoch 2/50\n",
      "2/2 - 1s - loss: 16.3595 - accuracy: 0.5629 - auc_13: 0.7209 - precision_13: 0.5629 - recall_13: 0.5629 - f1_score: 0.2223 - val_loss: 241.1645 - val_accuracy: 0.4914 - val_auc_13: 0.6610 - val_precision_13: 0.4914 - val_recall_13: 0.4914 - val_f1_score: 0.1648 - 892ms/epoch - 446ms/step\n",
      "Epoch 3/50\n",
      "2/2 - 1s - loss: 8.5797 - accuracy: 0.4514 - auc_13: 0.6850 - precision_13: 0.4553 - recall_13: 0.4514 - f1_score: 0.2600 - val_loss: 149.1561 - val_accuracy: 0.4914 - val_auc_13: 0.6610 - val_precision_13: 0.4914 - val_recall_13: 0.4914 - val_f1_score: 0.1648 - 864ms/epoch - 432ms/step\n",
      "Epoch 4/50\n",
      "2/2 - 1s - loss: 3.5950 - accuracy: 0.5371 - auc_13: 0.7793 - precision_13: 0.5449 - recall_13: 0.5371 - f1_score: 0.3288 - val_loss: 268.4081 - val_accuracy: 0.4914 - val_auc_13: 0.6610 - val_precision_13: 0.4914 - val_recall_13: 0.4914 - val_f1_score: 0.1648 - 882ms/epoch - 441ms/step\n",
      "Epoch 5/50\n",
      "2/2 - 1s - loss: 4.6653 - accuracy: 0.5600 - auc_13: 0.7676 - precision_13: 0.5598 - recall_13: 0.5486 - f1_score: 0.3203 - val_loss: 123.8659 - val_accuracy: 0.3257 - val_auc_13: 0.5546 - val_precision_13: 0.3257 - val_recall_13: 0.3257 - val_f1_score: 0.1785 - 869ms/epoch - 434ms/step\n",
      "Epoch 6/50\n",
      "2/2 - 1s - loss: 3.6877 - accuracy: 0.5114 - auc_13: 0.7537 - precision_13: 0.5271 - recall_13: 0.5000 - f1_score: 0.3213 - val_loss: 64.5393 - val_accuracy: 0.0971 - val_auc_13: 0.4002 - val_precision_13: 0.0971 - val_recall_13: 0.0971 - val_f1_score: 0.0482 - 858ms/epoch - 429ms/step\n",
      "Epoch 7/50\n",
      "2/2 - 1s - loss: 2.2050 - accuracy: 0.6143 - auc_13: 0.8129 - precision_13: 0.6254 - recall_13: 0.5914 - f1_score: 0.4227 - val_loss: 36.1859 - val_accuracy: 0.4114 - val_auc_13: 0.6065 - val_precision_13: 0.4114 - val_recall_13: 0.4114 - val_f1_score: 0.1505 - 870ms/epoch - 435ms/step\n",
      "Epoch 8/50\n",
      "2/2 - 1s - loss: 1.9756 - accuracy: 0.6343 - auc_13: 0.8367 - precision_13: 0.6364 - recall_13: 0.6200 - f1_score: 0.4128 - val_loss: 45.3358 - val_accuracy: 0.4914 - val_auc_13: 0.6610 - val_precision_13: 0.4914 - val_recall_13: 0.4914 - val_f1_score: 0.1648 - 885ms/epoch - 442ms/step\n",
      "Epoch 9/50\n",
      "2/2 - 1s - loss: 1.6766 - accuracy: 0.6257 - auc_13: 0.8535 - precision_13: 0.6353 - recall_13: 0.6171 - f1_score: 0.3374 - val_loss: 72.1153 - val_accuracy: 0.4914 - val_auc_13: 0.6610 - val_precision_13: 0.4914 - val_recall_13: 0.4914 - val_f1_score: 0.1648 - 876ms/epoch - 438ms/step\n"
     ]
    },
    {
     "data": {
      "image/png": "[encoded data removed]",
      "text/plain": [
       "<Figure size 432x288 with 1 Axes>"
      ]
     },
     "metadata": {
      "needs_background": "light"
     },
     "output_type": "display_data"
    },
    {
     "name": "stdout",
     "output_type": "stream",
     "text": [
      "Epoch 1/50\n",
      "2/2 - 2s - loss: 3.9191 - accuracy: 0.3229 - auc_14: 0.5781 - precision_14: 0.3571 - recall_14: 0.1857 - f1_score: 0.1891 - val_loss: 1251.5942 - val_accuracy: 0.4000 - val_auc_14: 0.6000 - val_precision_14: 0.4000 - val_recall_14: 0.4000 - val_f1_score: 0.1429 - 2s/epoch - 1s/step\n",
      "Epoch 2/50\n",
      "2/2 - 1s - loss: 20.6666 - accuracy: 0.3657 - auc_14: 0.5924 - precision_14: 0.3657 - recall_14: 0.3657 - f1_score: 0.1361 - val_loss: 303.7574 - val_accuracy: 0.5200 - val_auc_14: 0.6800 - val_precision_14: 0.5200 - val_recall_14: 0.5200 - val_f1_score: 0.1711 - 861ms/epoch - 430ms/step\n",
      "Epoch 3/50\n",
      "2/2 - 1s - loss: 8.0434 - accuracy: 0.5457 - auc_14: 0.7674 - precision_14: 0.5457 - recall_14: 0.5457 - f1_score: 0.2116 - val_loss: 329.4991 - val_accuracy: 0.5200 - val_auc_14: 0.6800 - val_precision_14: 0.5200 - val_recall_14: 0.5200 - val_f1_score: 0.1711 - 888ms/epoch - 444ms/step\n",
      "Epoch 4/50\n",
      "2/2 - 1s - loss: 7.1905 - accuracy: 0.5686 - auc_14: 0.7606 - precision_14: 0.5681 - recall_14: 0.5600 - f1_score: 0.2293 - val_loss: 152.1792 - val_accuracy: 0.4000 - val_auc_14: 0.6000 - val_precision_14: 0.4000 - val_recall_14: 0.4000 - val_f1_score: 0.1429 - 861ms/epoch - 431ms/step\n",
      "Epoch 5/50\n",
      "2/2 - 1s - loss: 3.8505 - accuracy: 0.5714 - auc_14: 0.7868 - precision_14: 0.5702 - recall_14: 0.5571 - f1_score: 0.3556 - val_loss: 217.5004 - val_accuracy: 0.4000 - val_auc_14: 0.6000 - val_precision_14: 0.4000 - val_recall_14: 0.4000 - val_f1_score: 0.1429 - 884ms/epoch - 442ms/step\n",
      "Epoch 6/50\n",
      "2/2 - 1s - loss: 4.1685 - accuracy: 0.5000 - auc_14: 0.7170 - precision_14: 0.5076 - recall_14: 0.4800 - f1_score: 0.3172 - val_loss: 41.5486 - val_accuracy: 0.4286 - val_auc_14: 0.6449 - val_precision_14: 0.4286 - val_recall_14: 0.4286 - val_f1_score: 0.1756 - 865ms/epoch - 432ms/step\n",
      "Epoch 7/50\n",
      "2/2 - 1s - loss: 1.8022 - accuracy: 0.5286 - auc_14: 0.8125 - precision_14: 0.5469 - recall_14: 0.5000 - f1_score: 0.3521 - val_loss: 124.2649 - val_accuracy: 0.5200 - val_auc_14: 0.6800 - val_precision_14: 0.5200 - val_recall_14: 0.5200 - val_f1_score: 0.1711 - 875ms/epoch - 438ms/step\n",
      "Epoch 8/50\n",
      "2/2 - 1s - loss: 2.4678 - accuracy: 0.5114 - auc_14: 0.7718 - precision_14: 0.5138 - recall_14: 0.4800 - f1_score: 0.3202 - val_loss: 125.5564 - val_accuracy: 0.5200 - val_auc_14: 0.6800 - val_precision_14: 0.5200 - val_recall_14: 0.5200 - val_f1_score: 0.1711 - 898ms/epoch - 449ms/step\n"
     ]
    },
    {
     "data": {
      "image/png": "[encoded data removed]",
      "text/plain": [
       "<Figure size 432x288 with 1 Axes>"
      ]
     },
     "metadata": {
      "needs_background": "light"
     },
     "output_type": "display_data"
    },
    {
     "name": "stdout",
     "output_type": "stream",
     "text": [
      "Epoch 1/50\n",
      "2/2 - 2s - loss: 6.4847 - accuracy: 0.4029 - auc_15: 0.6483 - precision_15: 0.4696 - recall_15: 0.2429 - f1_score: 0.2369 - val_loss: 548.5832 - val_accuracy: 0.5714 - val_auc_15: 0.7143 - val_precision_15: 0.5714 - val_recall_15: 0.5714 - val_f1_score: 0.1818 - 2s/epoch - 1s/step\n",
      "Epoch 2/50\n",
      "2/2 - 1s - loss: 9.4408 - accuracy: 0.5029 - auc_15: 0.6988 - precision_15: 0.5043 - recall_15: 0.5000 - f1_score: 0.3090 - val_loss: 659.3768 - val_accuracy: 0.3086 - val_auc_15: 0.5390 - val_precision_15: 0.3086 - val_recall_15: 0.3086 - val_f1_score: 0.1179 - 908ms/epoch - 454ms/step\n",
      "Epoch 3/50\n",
      "2/2 - 1s - loss: 10.4063 - accuracy: 0.4114 - auc_15: 0.6576 - precision_15: 0.4104 - recall_15: 0.4057 - f1_score: 0.2432 - val_loss: 148.2554 - val_accuracy: 0.5714 - val_auc_15: 0.7143 - val_precision_15: 0.5714 - val_recall_15: 0.5714 - val_f1_score: 0.1818 - 878ms/epoch - 439ms/step\n",
      "Epoch 4/50\n",
      "2/2 - 1s - loss: 3.3910 - accuracy: 0.5171 - auc_15: 0.7770 - precision_15: 0.5220 - recall_15: 0.5086 - f1_score: 0.3182 - val_loss: 206.9279 - val_accuracy: 0.5714 - val_auc_15: 0.7143 - val_precision_15: 0.5714 - val_recall_15: 0.5714 - val_f1_score: 0.1818 - 885ms/epoch - 442ms/step\n",
      "Epoch 5/50\n",
      "2/2 - 1s - loss: 4.8171 - accuracy: 0.4971 - auc_15: 0.7379 - precision_15: 0.5000 - recall_15: 0.4857 - f1_score: 0.2341 - val_loss: 118.9562 - val_accuracy: 0.5714 - val_auc_15: 0.7143 - val_precision_15: 0.5714 - val_recall_15: 0.5714 - val_f1_score: 0.1818 - 889ms/epoch - 444ms/step\n",
      "Epoch 6/50\n",
      "2/2 - 1s - loss: 2.5500 - accuracy: 0.5000 - auc_15: 0.7836 - precision_15: 0.5103 - recall_15: 0.4943 - f1_score: 0.2757 - val_loss: 35.0967 - val_accuracy: 0.3543 - val_auc_15: 0.5811 - val_precision_15: 0.3543 - val_recall_15: 0.3543 - val_f1_score: 0.1621 - 858ms/epoch - 429ms/step\n",
      "Epoch 7/50\n",
      "2/2 - 1s - loss: 1.6046 - accuracy: 0.5343 - auc_15: 0.8127 - precision_15: 0.5354 - recall_15: 0.4971 - f1_score: 0.3567 - val_loss: 90.7750 - val_accuracy: 0.3086 - val_auc_15: 0.5390 - val_precision_15: 0.3086 - val_recall_15: 0.3086 - val_f1_score: 0.1179 - 874ms/epoch - 437ms/step\n",
      "Epoch 8/50\n",
      "2/2 - 1s - loss: 1.8822 - accuracy: 0.4686 - auc_15: 0.7839 - precision_15: 0.4771 - recall_15: 0.4457 - f1_score: 0.3042 - val_loss: 64.0399 - val_accuracy: 0.3086 - val_auc_15: 0.5390 - val_precision_15: 0.3086 - val_recall_15: 0.3086 - val_f1_score: 0.1179 - 879ms/epoch - 440ms/step\n"
     ]
    },
    {
     "data": {
      "image/png": "[encoded data removed]",
      "text/plain": [
       "<Figure size 432x288 with 1 Axes>"
      ]
     },
     "metadata": {
      "needs_background": "light"
     },
     "output_type": "display_data"
    }
   ],
   "source": [
    "model4 = build_RCNN(n_features, n_length, n_outputs, y_train.shape[1])\n",
    "for train_index, val_index in kf.split(X):\n",
    "    X_train, X_val = X[train_index], X[val_index]\n",
    "    y_train, y_val = y[train_index], y[val_index]\n",
    "    model4 = build_RCNN(n_features, n_length, n_outputs, y_train.shape[1])\n",
    "    history = train(model4, X_train, y_train, X_val, y_val, epochs=epochs, batch_size=batch_size)\n",
    "    plt.plot(history.history['loss'])\n",
    "    plt.show()"
   ]
  },
  {
   "cell_type": "code",
   "execution_count": 26,
   "metadata": {},
   "outputs": [],
   "source": [
    "member4 = KerasMember(name=\"RCNN\", keras_model=model4,\n",
    "    train_batches=(X_train, y_train),\n",
    "    val_batches=(X_test, y_test))"
   ]
  },
  {
   "cell_type": "markdown",
   "metadata": {},
   "source": [
    "#### Stacking Ensemble"
   ]
  },
  {
   "cell_type": "code",
   "execution_count": 27,
   "metadata": {},
   "outputs": [],
   "source": [
    "skeleton_stackEnsemble = StackEnsemble()\n",
    "skeleton_stackEnsemble.add_member(member1)\n",
    "skeleton_stackEnsemble.add_member(member2)\n",
    "skeleton_stackEnsemble.add_member(member3)\n",
    "skeleton_stackEnsemble.add_member(member4)"
   ]
  },
  {
   "cell_type": "code",
   "execution_count": 28,
   "metadata": {},
   "outputs": [
    {
     "data": {
      "text/plain": [
       "RandomForestClassifier(max_depth=4, n_jobs=20)"
      ]
     },
     "execution_count": 28,
     "metadata": {},
     "output_type": "execute_result"
    }
   ],
   "source": [
    "skeleton_stackEnsemble.fit()"
   ]
  },
  {
   "cell_type": "markdown",
   "metadata": {},
   "source": [
    "#### Dirichlet Markov Ensemble"
   ]
  },
  {
   "cell_type": "code",
   "execution_count": 29,
   "metadata": {},
   "outputs": [],
   "source": [
    "skeleton_dirichletEnsemble = DirichletEnsemble(N=2000 * 4)\n",
    "skeleton_dirichletEnsemble.add_member(member1)\n",
    "skeleton_dirichletEnsemble.add_member(member2)\n",
    "skeleton_dirichletEnsemble.add_member(member3)\n",
    "skeleton_dirichletEnsemble.add_member(member4)"
   ]
  },
  {
   "cell_type": "code",
   "execution_count": 30,
   "metadata": {},
   "outputs": [],
   "source": [
    "skeleton_dirichletEnsemble.fit()"
   ]
  },
  {
   "cell_type": "markdown",
   "metadata": {},
   "source": [
    "### 1.2 Face modality (Action units)"
   ]
  },
  {
   "cell_type": "markdown",
   "metadata": {},
   "source": [
    "#### About the data"
   ]
  },
  {
   "cell_type": "code",
   "execution_count": 31,
   "metadata": {},
   "outputs": [
    {
     "name": "stdout",
     "output_type": "stream",
     "text": [
      "(193, 1, 350, 10) (193, 3)\n",
      "(42, 1, 350, 10) (42, 3)\n"
     ]
    }
   ],
   "source": [
    "X_train, X_test, y_train, y_test, feature_names, classes = load_dataset('processed', 'AUs')\n",
    "X = X_train.copy()\n",
    "y = y_train.copy()\n",
    "\n",
    "print(X_train.shape, y_train.shape)\n",
    "print(X_test.shape, y_test.shape)\n",
    "\n",
    "n_length, n_features, n_outputs = X_train.shape[2], X_train.shape[-1], y_train.shape[1]"
   ]
  },
  {
   "cell_type": "code",
   "execution_count": 32,
   "metadata": {},
   "outputs": [
    {
     "data": {
      "text/plain": [
       "['confidence',\n",
       " 'AU04_r',\n",
       " 'AU06_r',\n",
       " 'AU07_r',\n",
       " 'AU09_r',\n",
       " 'AU10_r',\n",
       " 'AU04_c',\n",
       " 'AU06_c',\n",
       " 'AU07_c',\n",
       " 'AU09_c']"
      ]
     },
     "execution_count": 32,
     "metadata": {},
     "output_type": "execute_result"
    }
   ],
   "source": [
    "feature_names"
   ]
  },
  {
   "cell_type": "markdown",
   "metadata": {},
   "source": [
    "#### Train BiLSTM"
   ]
  },
  {
   "cell_type": "code",
   "execution_count": 33,
   "metadata": {},
   "outputs": [
    {
     "name": "stdout",
     "output_type": "stream",
     "text": [
      "Epoch 1/50\n",
      "1/1 - 6s - loss: 1.0908 - accuracy: 0.5000 - auc_17: 0.7072 - precision_17: 0.0000e+00 - recall_17: 0.0000e+00 - f1_score: 0.3413 - val_loss: 1.3534 - val_accuracy: 0.6000 - val_auc_17: 0.7662 - val_precision_17: 0.6094 - val_recall_17: 0.6000 - val_f1_score: 0.2500 - 6s/epoch - 6s/step\n",
      "Epoch 2/50\n",
      "1/1 - 1s - loss: 1.2705 - accuracy: 0.5781 - auc_17: 0.7738 - precision_17: 0.5714 - recall_17: 0.5625 - f1_score: 0.2442 - val_loss: 1.4407 - val_accuracy: 0.3077 - val_auc_17: 0.6220 - val_precision_17: 0.3125 - val_recall_17: 0.3077 - val_f1_score: 0.1569 - 807ms/epoch - 807ms/step\n",
      "Epoch 3/50\n",
      "1/1 - 1s - loss: 1.2765 - accuracy: 0.3594 - auc_17: 0.6758 - precision_17: 0.3651 - recall_17: 0.3594 - f1_score: 0.1762 - val_loss: 1.1140 - val_accuracy: 0.5538 - val_auc_17: 0.7602 - val_precision_17: 0.5714 - val_recall_17: 0.5538 - val_f1_score: 0.3796 - 828ms/epoch - 828ms/step\n",
      "Epoch 4/50\n",
      "1/1 - 1s - loss: 0.9450 - accuracy: 0.6406 - auc_17: 0.8160 - precision_17: 0.6435 - recall_17: 0.5781 - f1_score: 0.4335 - val_loss: 1.0835 - val_accuracy: 0.6000 - val_auc_17: 0.7822 - val_precision_17: 0.6094 - val_recall_17: 0.6000 - val_f1_score: 0.2500 - 806ms/epoch - 806ms/step\n",
      "Epoch 5/50\n",
      "1/1 - 1s - loss: 0.9046 - accuracy: 0.5859 - auc_17: 0.8036 - precision_17: 0.5935 - recall_17: 0.5703 - f1_score: 0.2596 - val_loss: 1.0552 - val_accuracy: 0.6000 - val_auc_17: 0.7827 - val_precision_17: 0.6094 - val_recall_17: 0.6000 - val_f1_score: 0.2500 - 825ms/epoch - 825ms/step\n",
      "Epoch 6/50\n",
      "1/1 - 1s - loss: 0.8635 - accuracy: 0.5859 - auc_17: 0.8109 - precision_17: 0.5935 - recall_17: 0.5703 - f1_score: 0.2596 - val_loss: 0.9718 - val_accuracy: 0.6000 - val_auc_17: 0.7878 - val_precision_17: 0.6032 - val_recall_17: 0.5846 - val_f1_score: 0.2500 - 843ms/epoch - 843ms/step\n",
      "Epoch 7/50\n",
      "1/1 - 1s - loss: 0.7739 - accuracy: 0.6016 - auc_17: 0.8256 - precision_17: 0.6050 - recall_17: 0.5625 - f1_score: 0.2892 - val_loss: 0.9155 - val_accuracy: 0.6000 - val_auc_17: 0.7937 - val_precision_17: 0.7073 - val_recall_17: 0.4462 - val_f1_score: 0.2500 - 802ms/epoch - 802ms/step\n",
      "Epoch 8/50\n",
      "1/1 - 1s - loss: 0.7230 - accuracy: 0.6953 - auc_17: 0.8568 - precision_17: 0.7241 - recall_17: 0.4922 - f1_score: 0.4343 - val_loss: 0.9064 - val_accuracy: 0.6154 - val_auc_17: 0.7857 - val_precision_17: 0.6875 - val_recall_17: 0.3385 - val_f1_score: 0.4132 - 798ms/epoch - 798ms/step\n",
      "Epoch 9/50\n",
      "1/1 - 1s - loss: 0.7231 - accuracy: 0.7266 - auc_17: 0.8810 - precision_17: 0.8333 - recall_17: 0.4297 - f1_score: 0.4889 - val_loss: 0.9159 - val_accuracy: 0.5231 - val_auc_17: 0.7685 - val_precision_17: 0.6471 - val_recall_17: 0.3385 - val_f1_score: 0.3575 - 846ms/epoch - 846ms/step\n",
      "Epoch 10/50\n",
      "1/1 - 1s - loss: 0.7315 - accuracy: 0.7266 - auc_17: 0.8817 - precision_17: 0.8657 - recall_17: 0.4531 - f1_score: 0.4972 - val_loss: 0.9214 - val_accuracy: 0.5077 - val_auc_17: 0.7632 - val_precision_17: 0.6562 - val_recall_17: 0.3231 - val_f1_score: 0.3481 - 822ms/epoch - 822ms/step\n"
     ]
    },
    {
     "data": {
      "image/png": "[encoded data removed]",
      "text/plain": [
       "<Figure size 432x288 with 1 Axes>"
      ]
     },
     "metadata": {
      "needs_background": "light"
     },
     "output_type": "display_data"
    },
    {
     "name": "stdout",
     "output_type": "stream",
     "text": [
      "Epoch 1/50\n",
      "1/1 - 6s - loss: 1.1100 - accuracy: 0.0775 - auc_18: 0.3597 - precision_18: 0.0000e+00 - recall_18: 0.0000e+00 - f1_score: 0.0528 - val_loss: 1.3674 - val_accuracy: 0.6406 - val_auc_18: 0.7499 - val_precision_18: 0.6406 - val_recall_18: 0.6406 - val_f1_score: 0.2603 - 6s/epoch - 6s/step\n",
      "Epoch 2/50\n",
      "1/1 - 1s - loss: 1.5341 - accuracy: 0.5581 - auc_18: 0.7154 - precision_18: 0.5600 - recall_18: 0.5426 - f1_score: 0.2388 - val_loss: 0.8413 - val_accuracy: 0.6406 - val_auc_18: 0.7918 - val_precision_18: 0.6393 - val_recall_18: 0.6094 - val_f1_score: 0.2603 - 890ms/epoch - 890ms/step\n",
      "Epoch 3/50\n",
      "1/1 - 1s - loss: 0.8624 - accuracy: 0.5581 - auc_18: 0.7878 - precision_18: 0.5841 - recall_18: 0.5116 - f1_score: 0.2388 - val_loss: 1.1702 - val_accuracy: 0.3281 - val_auc_18: 0.6079 - val_precision_18: 0.3333 - val_recall_18: 0.3125 - val_f1_score: 0.1874 - 822ms/epoch - 822ms/step\n",
      "Epoch 4/50\n",
      "1/1 - 1s - loss: 1.0828 - accuracy: 0.3721 - auc_18: 0.6681 - precision_18: 0.3675 - recall_18: 0.3333 - f1_score: 0.1882 - val_loss: 1.0695 - val_accuracy: 0.3438 - val_auc_18: 0.6219 - val_precision_18: 0.3333 - val_recall_18: 0.2969 - val_f1_score: 0.2038 - 813ms/epoch - 813ms/step\n"
     ]
    },
    {
     "data": {
      "image/png": "[encoded data removed]",
      "text/plain": [
       "<Figure size 432x288 with 1 Axes>"
      ]
     },
     "metadata": {
      "needs_background": "light"
     },
     "output_type": "display_data"
    },
    {
     "name": "stdout",
     "output_type": "stream",
     "text": [
      "Epoch 1/50\n",
      "1/1 - 5s - loss: 1.0929 - accuracy: 0.4806 - auc_19: 0.6137 - precision_19: 0.0000e+00 - recall_19: 0.0000e+00 - f1_score: 0.2615 - val_loss: 1.5996 - val_accuracy: 0.5156 - val_auc_19: 0.7231 - val_precision_19: 0.5000 - val_recall_19: 0.4844 - val_f1_score: 0.2268 - 5s/epoch - 5s/step\n",
      "Epoch 2/50\n",
      "1/1 - 1s - loss: 1.4022 - accuracy: 0.6202 - auc_19: 0.7852 - precision_19: 0.6250 - recall_19: 0.6202 - f1_score: 0.2552 - val_loss: 1.0450 - val_accuracy: 0.5156 - val_auc_19: 0.7449 - val_precision_19: 0.5000 - val_recall_19: 0.4688 - val_f1_score: 0.2268 - 806ms/epoch - 806ms/step\n",
      "Epoch 3/50\n",
      "1/1 - 1s - loss: 0.9884 - accuracy: 0.6202 - auc_19: 0.8300 - precision_19: 0.6299 - recall_19: 0.6202 - f1_score: 0.2552 - val_loss: 1.0757 - val_accuracy: 0.4219 - val_auc_19: 0.6770 - val_precision_19: 0.4000 - val_recall_19: 0.3438 - val_f1_score: 0.2276 - 860ms/epoch - 860ms/step\n",
      "Epoch 4/50\n",
      "1/1 - 1s - loss: 1.0716 - accuracy: 0.4109 - auc_19: 0.6887 - precision_19: 0.3984 - recall_19: 0.3798 - f1_score: 0.2682 - val_loss: 0.9812 - val_accuracy: 0.5156 - val_auc_19: 0.7366 - val_precision_19: 0.5208 - val_recall_19: 0.3906 - val_f1_score: 0.3295 - 811ms/epoch - 811ms/step\n",
      "Epoch 5/50\n",
      "1/1 - 1s - loss: 0.8907 - accuracy: 0.6434 - auc_19: 0.8505 - precision_19: 0.6952 - recall_19: 0.5659 - f1_score: 0.4264 - val_loss: 0.9725 - val_accuracy: 0.5156 - val_auc_19: 0.7497 - val_precision_19: 0.5085 - val_recall_19: 0.4688 - val_f1_score: 0.2268 - 823ms/epoch - 823ms/step\n",
      "Epoch 6/50\n",
      "1/1 - 1s - loss: 0.7963 - accuracy: 0.6434 - auc_19: 0.8418 - precision_19: 0.6535 - recall_19: 0.6434 - f1_score: 0.3065 - val_loss: 1.0042 - val_accuracy: 0.5156 - val_auc_19: 0.7441 - val_precision_19: 0.5000 - val_recall_19: 0.4688 - val_f1_score: 0.2268 - 850ms/epoch - 850ms/step\n",
      "Epoch 7/50\n",
      "1/1 - 1s - loss: 0.7748 - accuracy: 0.6202 - auc_19: 0.8395 - precision_19: 0.6299 - recall_19: 0.6202 - f1_score: 0.2552 - val_loss: 1.0126 - val_accuracy: 0.5156 - val_auc_19: 0.7368 - val_precision_19: 0.5172 - val_recall_19: 0.4688 - val_f1_score: 0.2268 - 826ms/epoch - 826ms/step\n"
     ]
    },
    {
     "data": {
      "image/png": "[encoded data removed]",
      "text/plain": [
       "<Figure size 432x288 with 1 Axes>"
      ]
     },
     "metadata": {
      "needs_background": "light"
     },
     "output_type": "display_data"
    }
   ],
   "source": [
    "model1 = build_biConvLSTM(n_length, n_features, n_outputs, y_train.shape[1])\n",
    "for train_index, val_index in kf.split(X):\n",
    "    X_train, X_val = X[train_index], X[val_index]\n",
    "    y_train, y_val = y[train_index], y[val_index]\n",
    "    model1 = build_biConvLSTM(n_features, n_length, n_outputs, y_train.shape[1])\n",
    "    history = train(model1, X_train, y_train, X_val, y_val, epochs=epochs, batch_size=batch_size)\n",
    "    plt.plot(history.history['loss'])\n",
    "    plt.show()"
   ]
  },
  {
   "cell_type": "code",
   "execution_count": 34,
   "metadata": {},
   "outputs": [],
   "source": [
    "member1 = KerasMember(name=\"BiLSTM\", keras_model=model1,\n",
    "    train_batches=(X_train, y_train),\n",
    "    val_batches=(X_test, y_test))"
   ]
  },
  {
   "cell_type": "markdown",
   "metadata": {},
   "source": [
    "#### Train CNN+LSTM"
   ]
  },
  {
   "cell_type": "code",
   "execution_count": 35,
   "metadata": {},
   "outputs": [
    {
     "name": "stdout",
     "output_type": "stream",
     "text": [
      "Epoch 1/50\n",
      "1/1 - 2s - loss: 1.1334 - accuracy: 0.0781 - auc_21: 0.3161 - precision_21: 0.0000e+00 - recall_21: 0.0000e+00 - f1_score: 0.0609 - val_loss: 0.9233 - val_accuracy: 0.6000 - val_auc_21: 0.7572 - val_precision_21: 0.5968 - val_recall_21: 0.5692 - val_f1_score: 0.2500 - 2s/epoch - 2s/step\n",
      "Epoch 2/50\n",
      "1/1 - 0s - loss: 0.9289 - accuracy: 0.5781 - auc_21: 0.7666 - precision_21: 0.5826 - recall_21: 0.5234 - f1_score: 0.2442 - val_loss: 0.9059 - val_accuracy: 0.6154 - val_auc_21: 0.7714 - val_precision_21: 0.5455 - val_recall_21: 0.0923 - val_f1_score: 0.3462 - 109ms/epoch - 109ms/step\n",
      "Epoch 3/50\n",
      "1/1 - 0s - loss: 0.8759 - accuracy: 0.6562 - auc_21: 0.8123 - precision_21: 0.8333 - recall_21: 0.1562 - f1_score: 0.3978 - val_loss: 0.8798 - val_accuracy: 0.6000 - val_auc_21: 0.7827 - val_precision_21: 0.6522 - val_recall_21: 0.4615 - val_f1_score: 0.2500 - 89ms/epoch - 89ms/step\n",
      "Epoch 4/50\n",
      "1/1 - 0s - loss: 0.8328 - accuracy: 0.6094 - auc_21: 0.8190 - precision_21: 0.7176 - recall_21: 0.4766 - f1_score: 0.3027 - val_loss: 0.8728 - val_accuracy: 0.6000 - val_auc_21: 0.7821 - val_precision_21: 0.6032 - val_recall_21: 0.5846 - val_f1_score: 0.2500 - 93ms/epoch - 93ms/step\n",
      "Epoch 5/50\n",
      "1/1 - 0s - loss: 0.8142 - accuracy: 0.5859 - auc_21: 0.8187 - precision_21: 0.5950 - recall_21: 0.5625 - f1_score: 0.2596 - val_loss: 0.8802 - val_accuracy: 0.6000 - val_auc_21: 0.7823 - val_precision_21: 0.6032 - val_recall_21: 0.5846 - val_f1_score: 0.2500 - 100ms/epoch - 100ms/step\n",
      "Epoch 6/50\n",
      "1/1 - 0s - loss: 0.8037 - accuracy: 0.5859 - auc_21: 0.8238 - precision_21: 0.5984 - recall_21: 0.5703 - f1_score: 0.2606 - val_loss: 0.8814 - val_accuracy: 0.6000 - val_auc_21: 0.7839 - val_precision_21: 0.6207 - val_recall_21: 0.5538 - val_f1_score: 0.2500 - 92ms/epoch - 92ms/step\n"
     ]
    },
    {
     "data": {
      "image/png": "[encoded data removed]",
      "text/plain": [
       "<Figure size 432x288 with 1 Axes>"
      ]
     },
     "metadata": {
      "needs_background": "light"
     },
     "output_type": "display_data"
    },
    {
     "name": "stdout",
     "output_type": "stream",
     "text": [
      "Epoch 1/50\n",
      "1/1 - 3s - loss: 1.1062 - accuracy: 0.3178 - auc_22: 0.4589 - precision_22: 0.0000e+00 - recall_22: 0.0000e+00 - f1_score: 0.2572 - val_loss: 0.8211 - val_accuracy: 0.6406 - val_auc_22: 0.8011 - val_precision_22: 0.6393 - val_recall_22: 0.6094 - val_f1_score: 0.2603 - 3s/epoch - 3s/step\n",
      "Epoch 2/50\n",
      "1/1 - 0s - loss: 0.8892 - accuracy: 0.5581 - auc_22: 0.7704 - precision_22: 0.5620 - recall_22: 0.5271 - f1_score: 0.2388 - val_loss: 0.9151 - val_accuracy: 0.3906 - val_auc_22: 0.6516 - val_precision_22: 0.3784 - val_recall_22: 0.2188 - val_f1_score: 0.2496 - 103ms/epoch - 103ms/step\n",
      "Epoch 3/50\n",
      "1/1 - 0s - loss: 0.9072 - accuracy: 0.4341 - auc_22: 0.7207 - precision_22: 0.4783 - recall_22: 0.3411 - f1_score: 0.2839 - val_loss: 0.8272 - val_accuracy: 0.6250 - val_auc_22: 0.7996 - val_precision_22: 0.6429 - val_recall_22: 0.5625 - val_f1_score: 0.2564 - 98ms/epoch - 98ms/step\n"
     ]
    },
    {
     "data": {
      "image/png": "[encoded data removed]",
      "text/plain": [
       "<Figure size 432x288 with 1 Axes>"
      ]
     },
     "metadata": {
      "needs_background": "light"
     },
     "output_type": "display_data"
    },
    {
     "name": "stdout",
     "output_type": "stream",
     "text": [
      "Epoch 1/50\n",
      "1/1 - 2s - loss: 1.1003 - accuracy: 0.3953 - auc_23: 0.4981 - precision_23: 0.0000e+00 - recall_23: 0.0000e+00 - f1_score: 0.3126 - val_loss: 1.0216 - val_accuracy: 0.5156 - val_auc_23: 0.7401 - val_precision_23: 0.5082 - val_recall_23: 0.4844 - val_f1_score: 0.2268 - 2s/epoch - 2s/step\n",
      "Epoch 2/50\n",
      "1/1 - 0s - loss: 0.8823 - accuracy: 0.6202 - auc_23: 0.8018 - precision_23: 0.6250 - recall_23: 0.6202 - f1_score: 0.2552 - val_loss: 0.9074 - val_accuracy: 0.5156 - val_auc_23: 0.7256 - val_precision_23: 0.5000 - val_recall_23: 0.4688 - val_f1_score: 0.2268 - 91ms/epoch - 91ms/step\n",
      "Epoch 3/50\n",
      "1/1 - 0s - loss: 0.8458 - accuracy: 0.6202 - auc_23: 0.8079 - precision_23: 0.6299 - recall_23: 0.6202 - f1_score: 0.2552 - val_loss: 0.9040 - val_accuracy: 0.5156 - val_auc_23: 0.7324 - val_precision_23: 0.5088 - val_recall_23: 0.4531 - val_f1_score: 0.2268 - 92ms/epoch - 92ms/step\n",
      "Epoch 4/50\n",
      "1/1 - 0s - loss: 0.8272 - accuracy: 0.6202 - auc_23: 0.8171 - precision_23: 0.6504 - recall_23: 0.6202 - f1_score: 0.2552 - val_loss: 0.9177 - val_accuracy: 0.5156 - val_auc_23: 0.7391 - val_precision_23: 0.5172 - val_recall_23: 0.4688 - val_f1_score: 0.2268 - 108ms/epoch - 108ms/step\n",
      "Epoch 5/50\n",
      "1/1 - 0s - loss: 0.8070 - accuracy: 0.6202 - auc_23: 0.8258 - precision_23: 0.6299 - recall_23: 0.6202 - f1_score: 0.2552 - val_loss: 0.9358 - val_accuracy: 0.5156 - val_auc_23: 0.7360 - val_precision_23: 0.5172 - val_recall_23: 0.4688 - val_f1_score: 0.2268 - 99ms/epoch - 99ms/step\n"
     ]
    },
    {
     "data": {
      "image/png": "[encoded data removed]",
      "text/plain": [
       "<Figure size 432x288 with 1 Axes>"
      ]
     },
     "metadata": {
      "needs_background": "light"
     },
     "output_type": "display_data"
    }
   ],
   "source": [
    "model2 = get_CNN(n_features, n_length, n_outputs, y_train.shape[1])\n",
    "for train_index, val_index in kf.split(X):\n",
    "    X_train, X_val = X[train_index], X[val_index]\n",
    "    y_train, y_val = y[train_index], y[val_index]\n",
    "    model2 = get_CNN(n_features, n_length, n_outputs, y_train.shape[1])\n",
    "    history = train(model2, X_train, y_train, X_val, y_val, epochs=epochs, batch_size=batch_size)\n",
    "    plt.plot(history.history['loss'])\n",
    "    plt.show()"
   ]
  },
  {
   "cell_type": "code",
   "execution_count": 36,
   "metadata": {},
   "outputs": [],
   "source": [
    "member2 = KerasMember(name=\"CNN+LSTM\", keras_model=model2,\n",
    "    train_batches=(X_train, y_train),\n",
    "    val_batches=(X_test, y_test))"
   ]
  },
  {
   "cell_type": "markdown",
   "metadata": {},
   "source": [
    "#### Train ConvLSTM"
   ]
  },
  {
   "cell_type": "code",
   "execution_count": 37,
   "metadata": {},
   "outputs": [
    {
     "name": "stdout",
     "output_type": "stream",
     "text": [
      "Epoch 1/50\n",
      "1/1 - 3s - loss: 1.0874 - accuracy: 0.5547 - auc_25: 0.6974 - precision_25: 0.0000e+00 - recall_25: 0.0000e+00 - f1_score: 0.3020 - val_loss: 0.9520 - val_accuracy: 0.6000 - val_auc_25: 0.7608 - val_precision_25: 0.5968 - val_recall_25: 0.5692 - val_f1_score: 0.2500 - 3s/epoch - 3s/step\n",
      "Epoch 2/50\n",
      "1/1 - 0s - loss: 0.9076 - accuracy: 0.5781 - auc_25: 0.7711 - precision_25: 0.5862 - recall_25: 0.5312 - f1_score: 0.2442 - val_loss: 0.9275 - val_accuracy: 0.5692 - val_auc_25: 0.7732 - val_precision_25: 0.6512 - val_recall_25: 0.4308 - val_f1_score: 0.2894 - 292ms/epoch - 292ms/step\n",
      "Epoch 3/50\n",
      "1/1 - 0s - loss: 0.8623 - accuracy: 0.5938 - auc_25: 0.7954 - precision_25: 0.6667 - recall_25: 0.4219 - f1_score: 0.3299 - val_loss: 0.9356 - val_accuracy: 0.5692 - val_auc_25: 0.7775 - val_precision_25: 0.6667 - val_recall_25: 0.4000 - val_f1_score: 0.3075 - 320ms/epoch - 320ms/step\n",
      "Epoch 4/50\n",
      "1/1 - 0s - loss: 0.8478 - accuracy: 0.6484 - auc_25: 0.8126 - precision_25: 0.6941 - recall_25: 0.4609 - f1_score: 0.3989 - val_loss: 0.9304 - val_accuracy: 0.5846 - val_auc_25: 0.7846 - val_precision_25: 0.5968 - val_recall_25: 0.5692 - val_f1_score: 0.2460 - 295ms/epoch - 295ms/step\n"
     ]
    },
    {
     "data": {
      "image/png": "[encoded data removed]",
      "text/plain": [
       "<Figure size 432x288 with 1 Axes>"
      ]
     },
     "metadata": {
      "needs_background": "light"
     },
     "output_type": "display_data"
    },
    {
     "name": "stdout",
     "output_type": "stream",
     "text": [
      "Epoch 1/50\n",
      "1/1 - 3s - loss: 1.1005 - accuracy: 0.3411 - auc_26: 0.5052 - precision_26: 0.0000e+00 - recall_26: 0.0000e+00 - f1_score: 0.3205 - val_loss: 0.8622 - val_accuracy: 0.6406 - val_auc_26: 0.7842 - val_precision_26: 0.6333 - val_recall_26: 0.5938 - val_f1_score: 0.2603 - 3s/epoch - 3s/step\n",
      "Epoch 2/50\n",
      "1/1 - 0s - loss: 0.9344 - accuracy: 0.5581 - auc_26: 0.7522 - precision_26: 0.5818 - recall_26: 0.4961 - f1_score: 0.2388 - val_loss: 0.8471 - val_accuracy: 0.6406 - val_auc_26: 0.7875 - val_precision_26: 0.6271 - val_recall_26: 0.5781 - val_f1_score: 0.2603 - 303ms/epoch - 303ms/step\n",
      "Epoch 3/50\n",
      "1/1 - 0s - loss: 0.8725 - accuracy: 0.5581 - auc_26: 0.7825 - precision_26: 0.5849 - recall_26: 0.4806 - f1_score: 0.2388 - val_loss: 0.8694 - val_accuracy: 0.5938 - val_auc_26: 0.7675 - val_precision_26: 0.6364 - val_recall_26: 0.4375 - val_f1_score: 0.2773 - 271ms/epoch - 271ms/step\n",
      "Epoch 4/50\n",
      "1/1 - 0s - loss: 0.8593 - accuracy: 0.5969 - auc_26: 0.7940 - precision_26: 0.6962 - recall_26: 0.4264 - f1_score: 0.3261 - val_loss: 0.8799 - val_accuracy: 0.5312 - val_auc_26: 0.7479 - val_precision_26: 0.5000 - val_recall_26: 0.3906 - val_f1_score: 0.2736 - 309ms/epoch - 309ms/step\n"
     ]
    },
    {
     "data": {
      "image/png": "[encoded data removed]",
      "text/plain": [
       "<Figure size 432x288 with 1 Axes>"
      ]
     },
     "metadata": {
      "needs_background": "light"
     },
     "output_type": "display_data"
    },
    {
     "name": "stdout",
     "output_type": "stream",
     "text": [
      "Epoch 1/50\n",
      "1/1 - 3s - loss: 1.1065 - accuracy: 0.2868 - auc_27: 0.3858 - precision_27: 0.0000e+00 - recall_27: 0.0000e+00 - f1_score: 0.2161 - val_loss: 1.0144 - val_accuracy: 0.5156 - val_auc_27: 0.7230 - val_precision_27: 0.5172 - val_recall_27: 0.4688 - val_f1_score: 0.2268 - 3s/epoch - 3s/step\n",
      "Epoch 2/50\n",
      "1/1 - 0s - loss: 0.8881 - accuracy: 0.6202 - auc_27: 0.7845 - precision_27: 0.6210 - recall_27: 0.5969 - f1_score: 0.2552 - val_loss: 0.9211 - val_accuracy: 0.5156 - val_auc_27: 0.7239 - val_precision_27: 0.5400 - val_recall_27: 0.4219 - val_f1_score: 0.2268 - 304ms/epoch - 304ms/step\n",
      "Epoch 3/50\n",
      "1/1 - 0s - loss: 0.8397 - accuracy: 0.6202 - auc_27: 0.8211 - precision_27: 0.6364 - recall_27: 0.5969 - f1_score: 0.2552 - val_loss: 0.9269 - val_accuracy: 0.5156 - val_auc_27: 0.7252 - val_precision_27: 0.5400 - val_recall_27: 0.4219 - val_f1_score: 0.2268 - 262ms/epoch - 262ms/step\n",
      "Epoch 4/50\n",
      "1/1 - 0s - loss: 0.8173 - accuracy: 0.6512 - auc_27: 0.8356 - precision_27: 0.6695 - recall_27: 0.6124 - f1_score: 0.3222 - val_loss: 0.9546 - val_accuracy: 0.5156 - val_auc_27: 0.7299 - val_precision_27: 0.5263 - val_recall_27: 0.4688 - val_f1_score: 0.2268 - 309ms/epoch - 309ms/step\n"
     ]
    },
    {
     "data": {
      "image/png": "[encoded data removed]",
      "text/plain": [
       "<Figure size 432x288 with 1 Axes>"
      ]
     },
     "metadata": {
      "needs_background": "light"
     },
     "output_type": "display_data"
    }
   ],
   "source": [
    "model3 = build_convLSTM(n_features, n_length, n_outputs, y_train.shape[1])\n",
    "for train_index, val_index in kf.split(X):\n",
    "    X_train, X_val = X[train_index], X[val_index]\n",
    "    y_train, y_val = y[train_index], y[val_index]\n",
    "    model3 = build_convLSTM(n_features, n_length, n_outputs, y_train.shape[1])\n",
    "    history = train(model3, X_train, y_train, X_val, y_val, epochs=epochs, batch_size=batch_size)\n",
    "    plt.plot(history.history['loss'])\n",
    "    plt.show()"
   ]
  },
  {
   "cell_type": "code",
   "execution_count": 38,
   "metadata": {},
   "outputs": [],
   "source": [
    "member3 = KerasMember(name=\"ConvLSTM\", keras_model=model3,\n",
    "    train_batches=(X_train, y_train),\n",
    "    val_batches=(X_test, y_test))"
   ]
  },
  {
   "cell_type": "markdown",
   "metadata": {},
   "source": [
    "#### Train RCNN"
   ]
  },
  {
   "cell_type": "code",
   "execution_count": 39,
   "metadata": {},
   "outputs": [
    {
     "name": "stdout",
     "output_type": "stream",
     "text": [
      "Epoch 1/50\n",
      "1/1 - 2s - loss: 1.9530 - accuracy: 0.1875 - auc_29: 0.3949 - precision_29: 0.2000 - recall_29: 0.1719 - f1_score: 0.1876 - val_loss: 3.4043 - val_accuracy: 0.6000 - val_auc_29: 0.7556 - val_precision_29: 0.6094 - val_recall_29: 0.6000 - val_f1_score: 0.2500 - 2s/epoch - 2s/step\n",
      "Epoch 2/50\n",
      "1/1 - 0s - loss: 11.2472 - accuracy: 0.5781 - auc_29: 0.6933 - precision_29: 0.5781 - recall_29: 0.5781 - f1_score: 0.2442 - val_loss: 4.5333 - val_accuracy: 0.3077 - val_auc_29: 0.5927 - val_precision_29: 0.3125 - val_recall_29: 0.3077 - val_f1_score: 0.1587 - 327ms/epoch - 327ms/step\n",
      "Epoch 3/50\n",
      "1/1 - 0s - loss: 16.1100 - accuracy: 0.3828 - auc_29: 0.5728 - precision_29: 0.3828 - recall_29: 0.3828 - f1_score: 0.2053 - val_loss: 3.3722 - val_accuracy: 0.6000 - val_auc_29: 0.7797 - val_precision_29: 0.6094 - val_recall_29: 0.6000 - val_f1_score: 0.2500 - 355ms/epoch - 355ms/step\n",
      "Epoch 4/50\n",
      "1/1 - 0s - loss: 7.1437 - accuracy: 0.7188 - auc_29: 0.8446 - precision_29: 0.7188 - recall_29: 0.7188 - f1_score: 0.4862 - val_loss: 4.8039 - val_accuracy: 0.6000 - val_auc_29: 0.7492 - val_precision_29: 0.6094 - val_recall_29: 0.6000 - val_f1_score: 0.2500 - 325ms/epoch - 325ms/step\n",
      "Epoch 5/50\n",
      "1/1 - 0s - loss: 8.9297 - accuracy: 0.6406 - auc_29: 0.7727 - precision_29: 0.6406 - recall_29: 0.6406 - f1_score: 0.3753 - val_loss: 4.9422 - val_accuracy: 0.6000 - val_auc_29: 0.7416 - val_precision_29: 0.6094 - val_recall_29: 0.6000 - val_f1_score: 0.2500 - 315ms/epoch - 315ms/step\n"
     ]
    },
    {
     "data": {
      "image/png": "[encoded data removed]",
      "text/plain": [
       "<Figure size 432x288 with 1 Axes>"
      ]
     },
     "metadata": {
      "needs_background": "light"
     },
     "output_type": "display_data"
    },
    {
     "name": "stdout",
     "output_type": "stream",
     "text": [
      "Epoch 1/50\n",
      "1/1 - 2s - loss: 1.7851 - accuracy: 0.2558 - auc_30: 0.4404 - precision_30: 0.2600 - recall_30: 0.2016 - f1_score: 0.2088 - val_loss: 1.9311 - val_accuracy: 0.6406 - val_auc_30: 0.8015 - val_precision_30: 0.6406 - val_recall_30: 0.6406 - val_f1_score: 0.2603 - 2s/epoch - 2s/step\n",
      "Epoch 2/50\n",
      "1/1 - 0s - loss: 6.8009 - accuracy: 0.6047 - auc_30: 0.7794 - precision_30: 0.6047 - recall_30: 0.6047 - f1_score: 0.3630 - val_loss: 5.1274 - val_accuracy: 0.2969 - val_auc_30: 0.5670 - val_precision_30: 0.2969 - val_recall_30: 0.2969 - val_f1_score: 0.1526 - 369ms/epoch - 369ms/step\n",
      "Epoch 3/50\n",
      "1/1 - 0s - loss: 20.8638 - accuracy: 0.3643 - auc_30: 0.5233 - precision_30: 0.3643 - recall_30: 0.3643 - f1_score: 0.1780 - val_loss: 2.9518 - val_accuracy: 0.6406 - val_auc_30: 0.7884 - val_precision_30: 0.6406 - val_recall_30: 0.6406 - val_f1_score: 0.2603 - 314ms/epoch - 314ms/step\n"
     ]
    },
    {
     "data": {
      "image/png": "[encoded data removed]",
      "text/plain": [
       "<Figure size 432x288 with 1 Axes>"
      ]
     },
     "metadata": {
      "needs_background": "light"
     },
     "output_type": "display_data"
    },
    {
     "name": "stdout",
     "output_type": "stream",
     "text": [
      "Epoch 1/50\n",
      "1/1 - 2s - loss: 1.7850 - accuracy: 0.2713 - auc_31: 0.4344 - precision_31: 0.2673 - recall_31: 0.2093 - f1_score: 0.2271 - val_loss: 4.0708 - val_accuracy: 0.5156 - val_auc_31: 0.6762 - val_precision_31: 0.5000 - val_recall_31: 0.4844 - val_f1_score: 0.2268 - 2s/epoch - 2s/step\n",
      "Epoch 2/50\n",
      "1/1 - 0s - loss: 12.9075 - accuracy: 0.6202 - auc_31: 0.7327 - precision_31: 0.6202 - recall_31: 0.6202 - f1_score: 0.2552 - val_loss: 4.1363 - val_accuracy: 0.4219 - val_auc_31: 0.6608 - val_precision_31: 0.4355 - val_recall_31: 0.4219 - val_f1_score: 0.2000 - 340ms/epoch - 340ms/step\n",
      "Epoch 3/50\n",
      "1/1 - 0s - loss: 17.1476 - accuracy: 0.3566 - auc_31: 0.5335 - precision_31: 0.3566 - recall_31: 0.3566 - f1_score: 0.2151 - val_loss: 2.7732 - val_accuracy: 0.5000 - val_auc_31: 0.7274 - val_precision_31: 0.5000 - val_recall_31: 0.4844 - val_f1_score: 0.2604 - 312ms/epoch - 312ms/step\n",
      "Epoch 4/50\n",
      "1/1 - 0s - loss: 7.5207 - accuracy: 0.6899 - auc_31: 0.8200 - precision_31: 0.6899 - recall_31: 0.6899 - f1_score: 0.4666 - val_loss: 4.1849 - val_accuracy: 0.5000 - val_auc_31: 0.6858 - val_precision_31: 0.5000 - val_recall_31: 0.4844 - val_f1_score: 0.2222 - 333ms/epoch - 333ms/step\n",
      "Epoch 5/50\n",
      "1/1 - 0s - loss: 8.7822 - accuracy: 0.7132 - auc_31: 0.8024 - precision_31: 0.7132 - recall_31: 0.7132 - f1_score: 0.4336 - val_loss: 4.2197 - val_accuracy: 0.5000 - val_auc_31: 0.6876 - val_precision_31: 0.4921 - val_recall_31: 0.4844 - val_f1_score: 0.2222 - 350ms/epoch - 350ms/step\n"
     ]
    },
    {
     "data": {
      "image/png": "[encoded data removed]",
      "text/plain": [
       "<Figure size 432x288 with 1 Axes>"
      ]
     },
     "metadata": {
      "needs_background": "light"
     },
     "output_type": "display_data"
    }
   ],
   "source": [
    "model4 = build_RCNN(n_features, n_length, n_outputs, y_train.shape[1])\n",
    "for train_index, val_index in kf.split(X):\n",
    "    X_train, X_val = X[train_index], X[val_index]\n",
    "    y_train, y_val = y[train_index], y[val_index]\n",
    "    model4 = build_RCNN(n_features, n_length, n_outputs, y_train.shape[1])\n",
    "    history = train(model4, X_train, y_train, X_val, y_val, epochs=epochs, batch_size=batch_size)\n",
    "    plt.plot(history.history['loss'])\n",
    "    plt.show()"
   ]
  },
  {
   "cell_type": "code",
   "execution_count": 40,
   "metadata": {},
   "outputs": [],
   "source": [
    "member4 = KerasMember(name=\"RCNN\", keras_model=model4,\n",
    "    train_batches=(X_train, y_train),\n",
    "    val_batches=(X_test, y_test))"
   ]
  },
  {
   "cell_type": "markdown",
   "metadata": {},
   "source": [
    "#### Stacking Ensemble"
   ]
  },
  {
   "cell_type": "code",
   "execution_count": 41,
   "metadata": {},
   "outputs": [],
   "source": [
    "facial_stackEnsemble = StackEnsemble()\n",
    "facial_stackEnsemble.add_member(member1)\n",
    "facial_stackEnsemble.add_member(member2)\n",
    "facial_stackEnsemble.add_member(member3)\n",
    "facial_stackEnsemble.add_member(member4)"
   ]
  },
  {
   "cell_type": "code",
   "execution_count": 42,
   "metadata": {},
   "outputs": [
    {
     "data": {
      "text/plain": [
       "RandomForestClassifier(max_depth=4, n_jobs=20)"
      ]
     },
     "execution_count": 42,
     "metadata": {},
     "output_type": "execute_result"
    }
   ],
   "source": [
    "facial_stackEnsemble.fit()"
   ]
  },
  {
   "cell_type": "markdown",
   "metadata": {},
   "source": [
    "#### Dirichlet Markov Ensemble"
   ]
  },
  {
   "cell_type": "code",
   "execution_count": 43,
   "metadata": {},
   "outputs": [],
   "source": [
    "facial_dirichletEnsemble = DirichletEnsemble(N=2000 * 4)\n",
    "facial_dirichletEnsemble.add_member(member1)\n",
    "facial_dirichletEnsemble.add_member(member2)\n",
    "facial_dirichletEnsemble.add_member(member3)\n",
    "facial_dirichletEnsemble.add_member(member4)"
   ]
  },
  {
   "cell_type": "code",
   "execution_count": 44,
   "metadata": {},
   "outputs": [],
   "source": [
    "facial_dirichletEnsemble.fit()"
   ]
  },
  {
   "cell_type": "markdown",
   "metadata": {},
   "source": [
    "## 2. Early Fusion - Fusion is performed at feature level\n",
    "\n",
    "Early fusion concatenates features at the input level, then all the work is on the classifier. \n",
    "\n",
    "My initial assumption is that perhaps early fusion is not the best idea because the face modality is missing about half the times (OpenFace could not capture facial action units from the videos), which makes the dataset smaller. \n",
    "I did not replace the missing facial values because I thought null values will bring no benefit (I assume?) and adding for example zero would mean the absence of action units which I'm afraid might actually \"trick\" the model in the case where a person has pain and the facial modality was not available because of technical issues, not because of an actual lack of pain."
   ]
  },
  {
   "cell_type": "markdown",
   "metadata": {},
   "source": [
    "### About the data"
   ]
  },
  {
   "cell_type": "code",
   "execution_count": 45,
   "metadata": {},
   "outputs": [
    {
     "name": "stdout",
     "output_type": "stream",
     "text": [
      "(193, 1, 350, 48) (193, 3)\n",
      "(42, 1, 350, 48) (42, 3)\n"
     ]
    }
   ],
   "source": [
    "X_train, X_test, y_train, y_test = apply_early_fusion('processed')\n",
    "X = X_train.copy()\n",
    "y = y_train.copy()\n",
    "\n",
    "print(X_train.shape, y_train.shape)\n",
    "print(X_test.shape, y_test.shape)\n",
    "\n",
    "n_length, n_features, n_outputs = X_train.shape[2], X_train.shape[-1], y_train.shape[1]"
   ]
  },
  {
   "cell_type": "markdown",
   "metadata": {},
   "source": [
    "### Train BiLSTM (with early fusion)"
   ]
  },
  {
   "cell_type": "code",
   "execution_count": 46,
   "metadata": {},
   "outputs": [
    {
     "name": "stdout",
     "output_type": "stream",
     "text": [
      "Epoch 1/50\n",
      "1/1 - 6s - loss: 47.8269 - accuracy: 0.0625 - auc_33: 0.2969 - precision_33: 0.0625 - recall_33: 0.0625 - f1_score: 0.0392 - val_loss: 476.2050 - val_accuracy: 0.6000 - val_auc_33: 0.7000 - val_precision_33: 0.6000 - val_recall_33: 0.6000 - val_f1_score: 0.2500 - 6s/epoch - 6s/step\n",
      "Epoch 2/50\n",
      "1/1 - 1s - loss: 401.6521 - accuracy: 0.5781 - auc_33: 0.6836 - precision_33: 0.5781 - recall_33: 0.5781 - f1_score: 0.2442 - val_loss: 1396.0190 - val_accuracy: 0.3077 - val_auc_33: 0.4808 - val_precision_33: 0.3077 - val_recall_33: 0.3077 - val_f1_score: 0.1569 - 904ms/epoch - 904ms/step\n",
      "Epoch 3/50\n",
      "1/1 - 1s - loss: 1175.2172 - accuracy: 0.3594 - auc_33: 0.5195 - precision_33: 0.3594 - recall_33: 0.3594 - f1_score: 0.1762 - val_loss: 659.4987 - val_accuracy: 0.3077 - val_auc_33: 0.4808 - val_precision_33: 0.3077 - val_recall_33: 0.3077 - val_f1_score: 0.1569 - 863ms/epoch - 863ms/step\n"
     ]
    },
    {
     "data": {
      "image/png": "[encoded data removed]",
      "text/plain": [
       "<Figure size 432x288 with 1 Axes>"
      ]
     },
     "metadata": {
      "needs_background": "light"
     },
     "output_type": "display_data"
    },
    {
     "name": "stdout",
     "output_type": "stream",
     "text": [
      "Epoch 1/50\n",
      "1/1 - 6s - loss: 15.1767 - accuracy: 0.5349 - auc_34: 0.6605 - precision_34: 0.5349 - recall_34: 0.5349 - f1_score: 0.2452 - val_loss: 1442.1512 - val_accuracy: 0.2969 - val_auc_34: 0.4727 - val_precision_34: 0.2969 - val_recall_34: 0.2969 - val_f1_score: 0.1526 - 6s/epoch - 6s/step\n",
      "Epoch 2/50\n",
      "1/1 - 1s - loss: 1320.0411 - accuracy: 0.3643 - auc_34: 0.5233 - precision_34: 0.3643 - recall_34: 0.3643 - f1_score: 0.1780 - val_loss: 367.9119 - val_accuracy: 0.2031 - val_auc_34: 0.3820 - val_precision_34: 0.2031 - val_recall_34: 0.2031 - val_f1_score: 0.1534 - 940ms/epoch - 940ms/step\n",
      "Epoch 3/50\n",
      "1/1 - 1s - loss: 323.3865 - accuracy: 0.3566 - auc_34: 0.4857 - precision_34: 0.3566 - recall_34: 0.3566 - f1_score: 0.2770 - val_loss: 59.5184 - val_accuracy: 0.0781 - val_auc_34: 0.3086 - val_precision_34: 0.0781 - val_recall_34: 0.0781 - val_f1_score: 0.0557 - 882ms/epoch - 882ms/step\n",
      "Epoch 4/50\n",
      "1/1 - 1s - loss: 63.9921 - accuracy: 0.0698 - auc_34: 0.3034 - precision_34: 0.0698 - recall_34: 0.0698 - f1_score: 0.0438 - val_loss: 34.1341 - val_accuracy: 0.6406 - val_auc_34: 0.7305 - val_precision_34: 0.6406 - val_recall_34: 0.6406 - val_f1_score: 0.2603 - 882ms/epoch - 882ms/step\n",
      "Epoch 5/50\n",
      "1/1 - 1s - loss: 42.1932 - accuracy: 0.5581 - auc_34: 0.6686 - precision_34: 0.5581 - recall_34: 0.5581 - f1_score: 0.2388 - val_loss: 30.4495 - val_accuracy: 0.4375 - val_auc_34: 0.5974 - val_precision_34: 0.4375 - val_recall_34: 0.4375 - val_f1_score: 0.3009 - 888ms/epoch - 888ms/step\n",
      "Epoch 6/50\n",
      "1/1 - 1s - loss: 32.3958 - accuracy: 0.4651 - auc_34: 0.6168 - precision_34: 0.4651 - recall_34: 0.4651 - f1_score: 0.3155 - val_loss: 29.2403 - val_accuracy: 0.4375 - val_auc_34: 0.5836 - val_precision_34: 0.4375 - val_recall_34: 0.4375 - val_f1_score: 0.2977 - 907ms/epoch - 907ms/step\n",
      "Epoch 7/50\n",
      "1/1 - 1s - loss: 31.6060 - accuracy: 0.4729 - auc_34: 0.6095 - precision_34: 0.4729 - recall_34: 0.4729 - f1_score: 0.3183 - val_loss: 19.7031 - val_accuracy: 0.6406 - val_auc_34: 0.7375 - val_precision_34: 0.6406 - val_recall_34: 0.6406 - val_f1_score: 0.2603 - 906ms/epoch - 906ms/step\n",
      "Epoch 8/50\n",
      "1/1 - 1s - loss: 24.1963 - accuracy: 0.5581 - auc_34: 0.6618 - precision_34: 0.5581 - recall_34: 0.5581 - f1_score: 0.2388 - val_loss: 17.8188 - val_accuracy: 0.6406 - val_auc_34: 0.7423 - val_precision_34: 0.6406 - val_recall_34: 0.6406 - val_f1_score: 0.2603 - 922ms/epoch - 922ms/step\n",
      "Epoch 9/50\n",
      "1/1 - 1s - loss: 22.2782 - accuracy: 0.5581 - auc_34: 0.6658 - precision_34: 0.5581 - recall_34: 0.5581 - f1_score: 0.2388 - val_loss: 15.0919 - val_accuracy: 0.5625 - val_auc_34: 0.6993 - val_precision_34: 0.5625 - val_recall_34: 0.5625 - val_f1_score: 0.3845 - 891ms/epoch - 891ms/step\n",
      "Epoch 10/50\n",
      "1/1 - 1s - loss: 20.6399 - accuracy: 0.5504 - auc_34: 0.6803 - precision_34: 0.5504 - recall_34: 0.5504 - f1_score: 0.3809 - val_loss: 14.6932 - val_accuracy: 0.4688 - val_auc_34: 0.6473 - val_precision_34: 0.4688 - val_recall_34: 0.4688 - val_f1_score: 0.3229 - 879ms/epoch - 879ms/step\n",
      "Epoch 11/50\n",
      "1/1 - 1s - loss: 16.9680 - accuracy: 0.4574 - auc_34: 0.6539 - precision_34: 0.4574 - recall_34: 0.4574 - f1_score: 0.3105 - val_loss: 10.3664 - val_accuracy: 0.5781 - val_auc_34: 0.7314 - val_precision_34: 0.5781 - val_recall_34: 0.5781 - val_f1_score: 0.2899 - 881ms/epoch - 881ms/step\n",
      "Epoch 12/50\n",
      "1/1 - 1s - loss: 13.0371 - accuracy: 0.5504 - auc_34: 0.6995 - precision_34: 0.5504 - recall_34: 0.5504 - f1_score: 0.2891 - val_loss: 8.6090 - val_accuracy: 0.5781 - val_auc_34: 0.7352 - val_precision_34: 0.5781 - val_recall_34: 0.5781 - val_f1_score: 0.2442 - 888ms/epoch - 888ms/step\n",
      "Epoch 13/50\n",
      "1/1 - 1s - loss: 10.8692 - accuracy: 0.5271 - auc_34: 0.7000 - precision_34: 0.5271 - recall_34: 0.5271 - f1_score: 0.2416 - val_loss: 6.4279 - val_accuracy: 0.5781 - val_auc_34: 0.7849 - val_precision_34: 0.5781 - val_recall_34: 0.5781 - val_f1_score: 0.3082 - 920ms/epoch - 920ms/step\n",
      "Epoch 14/50\n",
      "1/1 - 1s - loss: 7.8855 - accuracy: 0.5814 - auc_34: 0.7441 - precision_34: 0.5814 - recall_34: 0.5814 - f1_score: 0.3510 - val_loss: 4.7946 - val_accuracy: 0.5781 - val_auc_34: 0.8013 - val_precision_34: 0.5781 - val_recall_34: 0.5781 - val_f1_score: 0.3226 - 897ms/epoch - 897ms/step\n",
      "Epoch 15/50\n",
      "1/1 - 1s - loss: 5.9599 - accuracy: 0.5581 - auc_34: 0.7446 - precision_34: 0.5581 - recall_34: 0.5581 - f1_score: 0.3628 - val_loss: 3.4337 - val_accuracy: 0.6094 - val_auc_34: 0.8005 - val_precision_34: 0.6094 - val_recall_34: 0.6094 - val_f1_score: 0.4113 - 914ms/epoch - 914ms/step\n",
      "Epoch 16/50\n",
      "1/1 - 1s - loss: 4.2286 - accuracy: 0.5039 - auc_34: 0.7374 - precision_34: 0.5039 - recall_34: 0.5039 - f1_score: 0.3494 - val_loss: 3.0963 - val_accuracy: 0.6719 - val_auc_34: 0.8153 - val_precision_34: 0.6719 - val_recall_34: 0.6719 - val_f1_score: 0.3289 - 868ms/epoch - 868ms/step\n",
      "Epoch 17/50\n",
      "1/1 - 1s - loss: 3.5382 - accuracy: 0.5194 - auc_34: 0.7381 - precision_34: 0.5194 - recall_34: 0.5194 - f1_score: 0.2511 - val_loss: 2.1121 - val_accuracy: 0.5938 - val_auc_34: 0.7974 - val_precision_34: 0.5938 - val_recall_34: 0.5938 - val_f1_score: 0.3428 - 929ms/epoch - 929ms/step\n",
      "Epoch 18/50\n",
      "1/1 - 1s - loss: 2.4139 - accuracy: 0.5039 - auc_34: 0.7276 - precision_34: 0.5039 - recall_34: 0.5039 - f1_score: 0.3185 - val_loss: 1.6836 - val_accuracy: 0.5000 - val_auc_34: 0.7242 - val_precision_34: 0.5000 - val_recall_34: 0.5000 - val_f1_score: 0.3441 - 932ms/epoch - 932ms/step\n",
      "Epoch 19/50\n",
      "1/1 - 1s - loss: 1.8748 - accuracy: 0.4574 - auc_34: 0.7110 - precision_34: 0.4574 - recall_34: 0.4574 - f1_score: 0.2996 - val_loss: 1.2064 - val_accuracy: 0.4688 - val_auc_34: 0.7322 - val_precision_34: 0.4762 - val_recall_34: 0.4688 - val_f1_score: 0.3214 - 914ms/epoch - 914ms/step\n",
      "Epoch 20/50\n",
      "1/1 - 1s - loss: 1.2346 - accuracy: 0.4496 - auc_34: 0.7160 - precision_34: 0.4524 - recall_34: 0.4419 - f1_score: 0.2925 - val_loss: 1.0197 - val_accuracy: 0.5000 - val_auc_34: 0.7388 - val_precision_34: 0.5217 - val_recall_34: 0.3750 - val_f1_score: 0.3919 - 896ms/epoch - 896ms/step\n",
      "Epoch 21/50\n",
      "1/1 - 1s - loss: 0.9697 - accuracy: 0.4729 - auc_34: 0.7113 - precision_34: 0.4898 - recall_34: 0.3721 - f1_score: 0.4011 - val_loss: 1.3266 - val_accuracy: 0.4531 - val_auc_34: 0.6467 - val_precision_34: 0.4902 - val_recall_34: 0.3906 - val_f1_score: 0.3000 - 897ms/epoch - 897ms/step\n",
      "Epoch 22/50\n",
      "1/1 - 1s - loss: 1.2563 - accuracy: 0.3798 - auc_34: 0.6240 - precision_34: 0.4466 - recall_34: 0.3566 - f1_score: 0.3062 - val_loss: 1.2171 - val_accuracy: 0.5781 - val_auc_34: 0.6951 - val_precision_34: 0.5968 - val_recall_34: 0.5781 - val_f1_score: 0.2492 - 878ms/epoch - 878ms/step\n"
     ]
    },
    {
     "data": {
      "image/png": "[encoded data removed]",
      "text/plain": [
       "<Figure size 432x288 with 1 Axes>"
      ]
     },
     "metadata": {
      "needs_background": "light"
     },
     "output_type": "display_data"
    },
    {
     "name": "stdout",
     "output_type": "stream",
     "text": [
      "Epoch 1/50\n",
      "1/1 - 6s - loss: 8.6504 - accuracy: 0.3566 - auc_35: 0.5393 - precision_35: 0.3566 - recall_35: 0.3566 - f1_score: 0.3157 - val_loss: 1567.0229 - val_accuracy: 0.5156 - val_auc_35: 0.6367 - val_precision_35: 0.5156 - val_recall_35: 0.5156 - val_f1_score: 0.2268 - 6s/epoch - 6s/step\n",
      "Epoch 2/50\n",
      "1/1 - 1s - loss: 1199.8846 - accuracy: 0.6202 - auc_35: 0.7151 - precision_35: 0.6202 - recall_35: 0.6202 - f1_score: 0.2552 - val_loss: 865.3268 - val_accuracy: 0.5156 - val_auc_35: 0.6367 - val_precision_35: 0.5156 - val_recall_35: 0.5156 - val_f1_score: 0.2268 - 866ms/epoch - 866ms/step\n",
      "Epoch 3/50\n",
      "1/1 - 1s - loss: 643.2052 - accuracy: 0.6202 - auc_35: 0.7151 - precision_35: 0.6202 - recall_35: 0.6202 - f1_score: 0.2552 - val_loss: 626.1336 - val_accuracy: 0.0625 - val_auc_35: 0.2969 - val_precision_35: 0.0625 - val_recall_35: 0.0625 - val_f1_score: 0.0392 - 877ms/epoch - 877ms/step\n",
      "Epoch 4/50\n",
      "1/1 - 1s - loss: 543.2431 - accuracy: 0.0775 - auc_35: 0.3081 - precision_35: 0.0775 - recall_35: 0.0775 - f1_score: 0.0480 - val_loss: 134.8271 - val_accuracy: 0.3438 - val_auc_35: 0.5057 - val_precision_35: 0.3438 - val_recall_35: 0.3438 - val_f1_score: 0.2587 - 871ms/epoch - 871ms/step\n",
      "Epoch 5/50\n",
      "1/1 - 1s - loss: 102.8206 - accuracy: 0.3566 - auc_35: 0.5189 - precision_35: 0.3566 - recall_35: 0.3566 - f1_score: 0.2460 - val_loss: 45.8843 - val_accuracy: 0.5156 - val_auc_35: 0.6367 - val_precision_35: 0.5156 - val_recall_35: 0.5156 - val_f1_score: 0.2268 - 918ms/epoch - 918ms/step\n",
      "Epoch 6/50\n",
      "1/1 - 1s - loss: 38.4650 - accuracy: 0.6202 - auc_35: 0.7136 - precision_35: 0.6202 - recall_35: 0.6202 - f1_score: 0.2564 - val_loss: 32.0577 - val_accuracy: 0.4531 - val_auc_35: 0.5930 - val_precision_35: 0.4531 - val_recall_35: 0.4531 - val_f1_score: 0.2403 - 879ms/epoch - 879ms/step\n",
      "Epoch 7/50\n",
      "1/1 - 1s - loss: 42.4884 - accuracy: 0.3101 - auc_35: 0.4826 - precision_35: 0.3101 - recall_35: 0.3101 - f1_score: 0.1639 - val_loss: 16.7624 - val_accuracy: 0.4688 - val_auc_35: 0.6714 - val_precision_35: 0.4688 - val_recall_35: 0.4688 - val_f1_score: 0.3094 - 880ms/epoch - 880ms/step\n",
      "Epoch 8/50\n",
      "1/1 - 1s - loss: 20.7499 - accuracy: 0.4651 - auc_35: 0.6495 - precision_35: 0.4651 - recall_35: 0.4651 - f1_score: 0.3072 - val_loss: 27.4668 - val_accuracy: 0.5156 - val_auc_35: 0.6367 - val_precision_35: 0.5156 - val_recall_35: 0.5156 - val_f1_score: 0.2268 - 881ms/epoch - 881ms/step\n",
      "Epoch 9/50\n",
      "1/1 - 1s - loss: 26.4140 - accuracy: 0.6202 - auc_35: 0.7151 - precision_35: 0.6202 - recall_35: 0.6202 - f1_score: 0.2552 - val_loss: 22.5125 - val_accuracy: 0.5156 - val_auc_35: 0.6367 - val_precision_35: 0.5156 - val_recall_35: 0.5156 - val_f1_score: 0.2268 - 905ms/epoch - 905ms/step\n"
     ]
    },
    {
     "data": {
      "image/png": "[encoded data removed]",
      "text/plain": [
       "<Figure size 432x288 with 1 Axes>"
      ]
     },
     "metadata": {
      "needs_background": "light"
     },
     "output_type": "display_data"
    }
   ],
   "source": [
    "model1 = build_biConvLSTM(n_length, n_features, n_outputs, y_train.shape[1])\n",
    "for train_index, val_index in kf.split(X):\n",
    "    X_train, X_val = X[train_index], X[val_index]\n",
    "    y_train, y_val = y[train_index], y[val_index]\n",
    "    model1 = build_biConvLSTM(n_features, n_length, n_outputs, y_train.shape[1])\n",
    "    history = train(model1, X_train, y_train, X_val, y_val, epochs=epochs, batch_size=batch_size)\n",
    "    plt.plot(history.history['loss'])\n",
    "    plt.show()"
   ]
  },
  {
   "cell_type": "code",
   "execution_count": 47,
   "metadata": {},
   "outputs": [],
   "source": [
    "member1 = KerasMember(name=\"BiLSTM\", keras_model=model1,\n",
    "    train_batches=(X_train, y_train),\n",
    "    val_batches=(X_test, y_test))"
   ]
  },
  {
   "cell_type": "markdown",
   "metadata": {},
   "source": [
    "### Train CNN+LSTM (with early fusion)"
   ]
  },
  {
   "cell_type": "code",
   "execution_count": 48,
   "metadata": {},
   "outputs": [
    {
     "name": "stdout",
     "output_type": "stream",
     "text": [
      "Epoch 1/50\n",
      "1/1 - 2s - loss: 1.0934 - accuracy: 0.5312 - auc_37: 0.6256 - precision_37: 0.7368 - recall_37: 0.1094 - f1_score: 0.2921 - val_loss: 0.9807 - val_accuracy: 0.6000 - val_auc_37: 0.6528 - val_precision_37: 0.6000 - val_recall_37: 0.6000 - val_f1_score: 0.2500 - 2s/epoch - 2s/step\n",
      "Epoch 2/50\n",
      "1/1 - 0s - loss: 1.0188 - accuracy: 0.5781 - auc_37: 0.6021 - precision_37: 0.5781 - recall_37: 0.5781 - f1_score: 0.2442 - val_loss: 0.9493 - val_accuracy: 0.6000 - val_auc_37: 0.7530 - val_precision_37: 0.6000 - val_recall_37: 0.6000 - val_f1_score: 0.2500 - 155ms/epoch - 155ms/step\n",
      "Epoch 3/50\n",
      "1/1 - 0s - loss: 0.9752 - accuracy: 0.5781 - auc_37: 0.7555 - precision_37: 0.5781 - recall_37: 0.5781 - f1_score: 0.2442 - val_loss: 0.9511 - val_accuracy: 0.6000 - val_auc_37: 0.7508 - val_precision_37: 0.6000 - val_recall_37: 0.6000 - val_f1_score: 0.2500 - 106ms/epoch - 106ms/step\n",
      "Epoch 4/50\n",
      "1/1 - 0s - loss: 0.9774 - accuracy: 0.5781 - auc_37: 0.7578 - precision_37: 0.5781 - recall_37: 0.5781 - f1_score: 0.2442 - val_loss: 0.9398 - val_accuracy: 0.6000 - val_auc_37: 0.7508 - val_precision_37: 0.6000 - val_recall_37: 0.6000 - val_f1_score: 0.2500 - 96ms/epoch - 96ms/step\n",
      "Epoch 5/50\n",
      "1/1 - 0s - loss: 0.9602 - accuracy: 0.5781 - auc_37: 0.7578 - precision_37: 0.5781 - recall_37: 0.5781 - f1_score: 0.2442 - val_loss: 0.9295 - val_accuracy: 0.6000 - val_auc_37: 0.7508 - val_precision_37: 0.6000 - val_recall_37: 0.6000 - val_f1_score: 0.2500 - 97ms/epoch - 97ms/step\n",
      "Epoch 6/50\n",
      "1/1 - 0s - loss: 0.9447 - accuracy: 0.5781 - auc_37: 0.7578 - precision_37: 0.5781 - recall_37: 0.5781 - f1_score: 0.2442 - val_loss: 0.9209 - val_accuracy: 0.6000 - val_auc_37: 0.7535 - val_precision_37: 0.6000 - val_recall_37: 0.6000 - val_f1_score: 0.2500 - 114ms/epoch - 114ms/step\n",
      "Epoch 7/50\n",
      "1/1 - 0s - loss: 0.9308 - accuracy: 0.5781 - auc_37: 0.7599 - precision_37: 0.5781 - recall_37: 0.5781 - f1_score: 0.2442 - val_loss: 0.9145 - val_accuracy: 0.6000 - val_auc_37: 0.7508 - val_precision_37: 0.6000 - val_recall_37: 0.6000 - val_f1_score: 0.2500 - 112ms/epoch - 112ms/step\n",
      "Epoch 8/50\n",
      "1/1 - 0s - loss: 0.9200 - accuracy: 0.5781 - auc_37: 0.7578 - precision_37: 0.5781 - recall_37: 0.5781 - f1_score: 0.2442 - val_loss: 0.9087 - val_accuracy: 0.6000 - val_auc_37: 0.7538 - val_precision_37: 0.6000 - val_recall_37: 0.6000 - val_f1_score: 0.2500 - 93ms/epoch - 93ms/step\n",
      "Epoch 9/50\n",
      "1/1 - 0s - loss: 0.9107 - accuracy: 0.5781 - auc_37: 0.7578 - precision_37: 0.5781 - recall_37: 0.5781 - f1_score: 0.2442 - val_loss: 0.9052 - val_accuracy: 0.6000 - val_auc_37: 0.7538 - val_precision_37: 0.6000 - val_recall_37: 0.6000 - val_f1_score: 0.2500 - 96ms/epoch - 96ms/step\n",
      "Epoch 10/50\n",
      "1/1 - 0s - loss: 0.9033 - accuracy: 0.5781 - auc_37: 0.7578 - precision_37: 0.5781 - recall_37: 0.5781 - f1_score: 0.2442 - val_loss: 0.9028 - val_accuracy: 0.6000 - val_auc_37: 0.7538 - val_precision_37: 0.6000 - val_recall_37: 0.6000 - val_f1_score: 0.2500 - 97ms/epoch - 97ms/step\n",
      "Epoch 11/50\n",
      "1/1 - 0s - loss: 0.8971 - accuracy: 0.5781 - auc_37: 0.7578 - precision_37: 0.5781 - recall_37: 0.5781 - f1_score: 0.2442 - val_loss: 0.9011 - val_accuracy: 0.6000 - val_auc_37: 0.7538 - val_precision_37: 0.6000 - val_recall_37: 0.6000 - val_f1_score: 0.2500 - 112ms/epoch - 112ms/step\n",
      "Epoch 12/50\n",
      "1/1 - 0s - loss: 0.8921 - accuracy: 0.5781 - auc_37: 0.7578 - precision_37: 0.5781 - recall_37: 0.5781 - f1_score: 0.2442 - val_loss: 0.8999 - val_accuracy: 0.6000 - val_auc_37: 0.7538 - val_precision_37: 0.6000 - val_recall_37: 0.6000 - val_f1_score: 0.2500 - 101ms/epoch - 101ms/step\n",
      "Epoch 13/50\n",
      "1/1 - 0s - loss: 0.8879 - accuracy: 0.5781 - auc_37: 0.7578 - precision_37: 0.5781 - recall_37: 0.5781 - f1_score: 0.2442 - val_loss: 0.8984 - val_accuracy: 0.6000 - val_auc_37: 0.7538 - val_precision_37: 0.6000 - val_recall_37: 0.6000 - val_f1_score: 0.2500 - 96ms/epoch - 96ms/step\n",
      "Epoch 14/50\n",
      "1/1 - 0s - loss: 0.8903 - accuracy: 0.5781 - auc_37: 0.7578 - precision_37: 0.5781 - recall_37: 0.5781 - f1_score: 0.2442 - val_loss: 0.8976 - val_accuracy: 0.6000 - val_auc_37: 0.7581 - val_precision_37: 0.6000 - val_recall_37: 0.6000 - val_f1_score: 0.2500 - 97ms/epoch - 97ms/step\n",
      "Epoch 15/50\n",
      "1/1 - 0s - loss: 0.8781 - accuracy: 0.5781 - auc_37: 0.7673 - precision_37: 0.5781 - recall_37: 0.5781 - f1_score: 0.2442 - val_loss: 0.8998 - val_accuracy: 0.6000 - val_auc_37: 0.7538 - val_precision_37: 0.6000 - val_recall_37: 0.6000 - val_f1_score: 0.2500 - 104ms/epoch - 104ms/step\n",
      "Epoch 16/50\n",
      "1/1 - 0s - loss: 0.8792 - accuracy: 0.5781 - auc_37: 0.7578 - precision_37: 0.5781 - recall_37: 0.5781 - f1_score: 0.2442 - val_loss: 0.8992 - val_accuracy: 0.6000 - val_auc_37: 0.7538 - val_precision_37: 0.6000 - val_recall_37: 0.6000 - val_f1_score: 0.2500 - 113ms/epoch - 113ms/step\n"
     ]
    },
    {
     "data": {
      "image/png": "[encoded data removed]",
      "text/plain": [
       "<Figure size 432x288 with 1 Axes>"
      ]
     },
     "metadata": {
      "needs_background": "light"
     },
     "output_type": "display_data"
    },
    {
     "name": "stdout",
     "output_type": "stream",
     "text": [
      "Epoch 1/50\n",
      "1/1 - 2s - loss: 1.2417 - accuracy: 0.1628 - auc_38: 0.2870 - precision_38: 0.0000e+00 - recall_38: 0.0000e+00 - f1_score: 0.1535 - val_loss: 1.0665 - val_accuracy: 0.6094 - val_auc_38: 0.6698 - val_precision_38: 0.0000e+00 - val_recall_38: 0.0000e+00 - val_f1_score: 0.2653 - 2s/epoch - 2s/step\n",
      "Epoch 2/50\n",
      "1/1 - 0s - loss: 1.0800 - accuracy: 0.5349 - auc_38: 0.5882 - precision_38: 0.0000e+00 - recall_38: 0.0000e+00 - f1_score: 0.2707 - val_loss: 1.0139 - val_accuracy: 0.6406 - val_auc_38: 0.7937 - val_precision_38: 0.0000e+00 - val_recall_38: 0.0000e+00 - val_f1_score: 0.2603 - 137ms/epoch - 137ms/step\n",
      "Epoch 3/50\n",
      "1/1 - 0s - loss: 1.0346 - accuracy: 0.5581 - auc_38: 0.7403 - precision_38: 0.0000e+00 - recall_38: 0.0000e+00 - f1_score: 0.2388 - val_loss: 0.9763 - val_accuracy: 0.6406 - val_auc_38: 0.7918 - val_precision_38: 0.0000e+00 - val_recall_38: 0.0000e+00 - val_f1_score: 0.2603 - 103ms/epoch - 103ms/step\n",
      "Epoch 4/50\n",
      "1/1 - 0s - loss: 1.0024 - accuracy: 0.5581 - auc_38: 0.7403 - precision_38: 0.0000e+00 - recall_38: 0.0000e+00 - f1_score: 0.2388 - val_loss: 0.9451 - val_accuracy: 0.6406 - val_auc_38: 0.7872 - val_precision_38: 0.0000e+00 - val_recall_38: 0.0000e+00 - val_f1_score: 0.2603 - 112ms/epoch - 112ms/step\n",
      "Epoch 5/50\n",
      "1/1 - 0s - loss: 0.9759 - accuracy: 0.5581 - auc_38: 0.7403 - precision_38: 0.0000e+00 - recall_38: 0.0000e+00 - f1_score: 0.2388 - val_loss: 0.9206 - val_accuracy: 0.6406 - val_auc_38: 0.7900 - val_precision_38: 0.0000e+00 - val_recall_38: 0.0000e+00 - val_f1_score: 0.2603 - 105ms/epoch - 105ms/step\n",
      "Epoch 6/50\n",
      "1/1 - 0s - loss: 0.9562 - accuracy: 0.5581 - auc_38: 0.7415 - precision_38: 0.0000e+00 - recall_38: 0.0000e+00 - f1_score: 0.2388 - val_loss: 0.8987 - val_accuracy: 0.6406 - val_auc_38: 0.7945 - val_precision_38: 0.0000e+00 - val_recall_38: 0.0000e+00 - val_f1_score: 0.2603 - 102ms/epoch - 102ms/step\n",
      "Epoch 7/50\n",
      "1/1 - 0s - loss: 0.9419 - accuracy: 0.5581 - auc_38: 0.7381 - precision_38: 0.0000e+00 - recall_38: 0.0000e+00 - f1_score: 0.2388 - val_loss: 0.8806 - val_accuracy: 0.6406 - val_auc_38: 0.7916 - val_precision_38: 0.6406 - val_recall_38: 0.6406 - val_f1_score: 0.2603 - 101ms/epoch - 101ms/step\n",
      "Epoch 8/50\n",
      "1/1 - 0s - loss: 0.9276 - accuracy: 0.5581 - auc_38: 0.7403 - precision_38: 0.5581 - recall_38: 0.5581 - f1_score: 0.2388 - val_loss: 0.8697 - val_accuracy: 0.6406 - val_auc_38: 0.7886 - val_precision_38: 0.6406 - val_recall_38: 0.6406 - val_f1_score: 0.2603 - 100ms/epoch - 100ms/step\n",
      "Epoch 9/50\n",
      "1/1 - 0s - loss: 0.9184 - accuracy: 0.5581 - auc_38: 0.7403 - precision_38: 0.5581 - recall_38: 0.5581 - f1_score: 0.2388 - val_loss: 0.8609 - val_accuracy: 0.6406 - val_auc_38: 0.7881 - val_precision_38: 0.6406 - val_recall_38: 0.6406 - val_f1_score: 0.2603 - 124ms/epoch - 124ms/step\n",
      "Epoch 10/50\n",
      "1/1 - 0s - loss: 0.9111 - accuracy: 0.5581 - auc_38: 0.7403 - precision_38: 0.5581 - recall_38: 0.5581 - f1_score: 0.2388 - val_loss: 0.8539 - val_accuracy: 0.6406 - val_auc_38: 0.7881 - val_precision_38: 0.6406 - val_recall_38: 0.6406 - val_f1_score: 0.2603 - 108ms/epoch - 108ms/step\n",
      "Epoch 11/50\n",
      "1/1 - 0s - loss: 0.9055 - accuracy: 0.5581 - auc_38: 0.7403 - precision_38: 0.5581 - recall_38: 0.5581 - f1_score: 0.2388 - val_loss: 0.8485 - val_accuracy: 0.6406 - val_auc_38: 0.7881 - val_precision_38: 0.6406 - val_recall_38: 0.6406 - val_f1_score: 0.2603 - 106ms/epoch - 106ms/step\n",
      "Epoch 12/50\n",
      "1/1 - 0s - loss: 0.9012 - accuracy: 0.5581 - auc_38: 0.7403 - precision_38: 0.5581 - recall_38: 0.5581 - f1_score: 0.2388 - val_loss: 0.8445 - val_accuracy: 0.6406 - val_auc_38: 0.7870 - val_precision_38: 0.6406 - val_recall_38: 0.6406 - val_f1_score: 0.2603 - 110ms/epoch - 110ms/step\n",
      "Epoch 13/50\n",
      "1/1 - 0s - loss: 0.8981 - accuracy: 0.5581 - auc_38: 0.7403 - precision_38: 0.5581 - recall_38: 0.5581 - f1_score: 0.2388 - val_loss: 0.8414 - val_accuracy: 0.6406 - val_auc_38: 0.7870 - val_precision_38: 0.6406 - val_recall_38: 0.6406 - val_f1_score: 0.2603 - 123ms/epoch - 123ms/step\n",
      "Epoch 14/50\n",
      "1/1 - 0s - loss: 0.8958 - accuracy: 0.5581 - auc_38: 0.7403 - precision_38: 0.5581 - recall_38: 0.5581 - f1_score: 0.2388 - val_loss: 0.8413 - val_accuracy: 0.6406 - val_auc_38: 0.7833 - val_precision_38: 0.6349 - val_recall_38: 0.6250 - val_f1_score: 0.2603 - 115ms/epoch - 115ms/step\n",
      "Epoch 15/50\n",
      "1/1 - 0s - loss: 0.8941 - accuracy: 0.5581 - auc_38: 0.7403 - precision_38: 0.5581 - recall_38: 0.5581 - f1_score: 0.2388 - val_loss: 0.8375 - val_accuracy: 0.6406 - val_auc_38: 0.7870 - val_precision_38: 0.6406 - val_recall_38: 0.6406 - val_f1_score: 0.2603 - 100ms/epoch - 100ms/step\n",
      "Epoch 16/50\n",
      "1/1 - 0s - loss: 0.8930 - accuracy: 0.5581 - auc_38: 0.7403 - precision_38: 0.5581 - recall_38: 0.5581 - f1_score: 0.2388 - val_loss: 0.8363 - val_accuracy: 0.6406 - val_auc_38: 0.7859 - val_precision_38: 0.6406 - val_recall_38: 0.6406 - val_f1_score: 0.2603 - 99ms/epoch - 99ms/step\n",
      "Epoch 17/50\n",
      "1/1 - 0s - loss: 0.8923 - accuracy: 0.5581 - auc_38: 0.7403 - precision_38: 0.5581 - recall_38: 0.5581 - f1_score: 0.2388 - val_loss: 0.8356 - val_accuracy: 0.6406 - val_auc_38: 0.7870 - val_precision_38: 0.6406 - val_recall_38: 0.6406 - val_f1_score: 0.2603 - 107ms/epoch - 107ms/step\n",
      "Epoch 18/50\n",
      "1/1 - 0s - loss: 0.8919 - accuracy: 0.5581 - auc_38: 0.7403 - precision_38: 0.5581 - recall_38: 0.5581 - f1_score: 0.2388 - val_loss: 0.8350 - val_accuracy: 0.6406 - val_auc_38: 0.7870 - val_precision_38: 0.6406 - val_recall_38: 0.6406 - val_f1_score: 0.2603 - 117ms/epoch - 117ms/step\n",
      "Epoch 19/50\n",
      "1/1 - 0s - loss: 0.8917 - accuracy: 0.5581 - auc_38: 0.7403 - precision_38: 0.5581 - recall_38: 0.5581 - f1_score: 0.2388 - val_loss: 0.8346 - val_accuracy: 0.6406 - val_auc_38: 0.7859 - val_precision_38: 0.6406 - val_recall_38: 0.6406 - val_f1_score: 0.2603 - 101ms/epoch - 101ms/step\n",
      "Epoch 20/50\n",
      "1/1 - 0s - loss: 0.8916 - accuracy: 0.5581 - auc_38: 0.7403 - precision_38: 0.5581 - recall_38: 0.5581 - f1_score: 0.2388 - val_loss: 0.8343 - val_accuracy: 0.6406 - val_auc_38: 0.7859 - val_precision_38: 0.6406 - val_recall_38: 0.6406 - val_f1_score: 0.2603 - 101ms/epoch - 101ms/step\n",
      "Epoch 21/50\n",
      "1/1 - 0s - loss: 0.8916 - accuracy: 0.5581 - auc_38: 0.7403 - precision_38: 0.5581 - recall_38: 0.5581 - f1_score: 0.2388 - val_loss: 0.8340 - val_accuracy: 0.6406 - val_auc_38: 0.7859 - val_precision_38: 0.6406 - val_recall_38: 0.6406 - val_f1_score: 0.2603 - 110ms/epoch - 110ms/step\n",
      "Epoch 22/50\n",
      "1/1 - 0s - loss: 0.8917 - accuracy: 0.5581 - auc_38: 0.7403 - precision_38: 0.5581 - recall_38: 0.5581 - f1_score: 0.2388 - val_loss: 0.8337 - val_accuracy: 0.6406 - val_auc_38: 0.7869 - val_precision_38: 0.6406 - val_recall_38: 0.6406 - val_f1_score: 0.2603 - 121ms/epoch - 121ms/step\n",
      "Epoch 23/50\n",
      "1/1 - 0s - loss: 0.8918 - accuracy: 0.5581 - auc_38: 0.7403 - precision_38: 0.5581 - recall_38: 0.5581 - f1_score: 0.2388 - val_loss: 0.8334 - val_accuracy: 0.6406 - val_auc_38: 0.7859 - val_precision_38: 0.6406 - val_recall_38: 0.6406 - val_f1_score: 0.2603 - 104ms/epoch - 104ms/step\n",
      "Epoch 24/50\n",
      "1/1 - 0s - loss: 0.8919 - accuracy: 0.5581 - auc_38: 0.7403 - precision_38: 0.5581 - recall_38: 0.5581 - f1_score: 0.2388 - val_loss: 0.8330 - val_accuracy: 0.6406 - val_auc_38: 0.7864 - val_precision_38: 0.6406 - val_recall_38: 0.6406 - val_f1_score: 0.2603 - 107ms/epoch - 107ms/step\n",
      "Epoch 25/50\n",
      "1/1 - 0s - loss: 0.8920 - accuracy: 0.5581 - auc_38: 0.7403 - precision_38: 0.5581 - recall_38: 0.5581 - f1_score: 0.2388 - val_loss: 0.8327 - val_accuracy: 0.6406 - val_auc_38: 0.7888 - val_precision_38: 0.6406 - val_recall_38: 0.6406 - val_f1_score: 0.2603 - 107ms/epoch - 107ms/step\n",
      "Epoch 26/50\n",
      "1/1 - 0s - loss: 0.8921 - accuracy: 0.5581 - auc_38: 0.7403 - precision_38: 0.5581 - recall_38: 0.5581 - f1_score: 0.2388 - val_loss: 0.8325 - val_accuracy: 0.6406 - val_auc_38: 0.7891 - val_precision_38: 0.6406 - val_recall_38: 0.6406 - val_f1_score: 0.2603 - 111ms/epoch - 111ms/step\n",
      "Epoch 27/50\n",
      "1/1 - 0s - loss: 0.8922 - accuracy: 0.5581 - auc_38: 0.7403 - precision_38: 0.5581 - recall_38: 0.5581 - f1_score: 0.2388 - val_loss: 0.8323 - val_accuracy: 0.6406 - val_auc_38: 0.7891 - val_precision_38: 0.6406 - val_recall_38: 0.6406 - val_f1_score: 0.2603 - 113ms/epoch - 113ms/step\n",
      "Epoch 28/50\n",
      "1/1 - 0s - loss: 0.8922 - accuracy: 0.5581 - auc_38: 0.7403 - precision_38: 0.5581 - recall_38: 0.5581 - f1_score: 0.2388 - val_loss: 0.8321 - val_accuracy: 0.6406 - val_auc_38: 0.7891 - val_precision_38: 0.6406 - val_recall_38: 0.6406 - val_f1_score: 0.2603 - 101ms/epoch - 101ms/step\n",
      "Epoch 29/50\n",
      "1/1 - 0s - loss: 0.8923 - accuracy: 0.5581 - auc_38: 0.7403 - precision_38: 0.5581 - recall_38: 0.5581 - f1_score: 0.2388 - val_loss: 0.8319 - val_accuracy: 0.6406 - val_auc_38: 0.7891 - val_precision_38: 0.6406 - val_recall_38: 0.6406 - val_f1_score: 0.2603 - 103ms/epoch - 103ms/step\n",
      "Epoch 30/50\n",
      "1/1 - 0s - loss: 0.8924 - accuracy: 0.5581 - auc_38: 0.7403 - precision_38: 0.5581 - recall_38: 0.5581 - f1_score: 0.2388 - val_loss: 0.8317 - val_accuracy: 0.6406 - val_auc_38: 0.7891 - val_precision_38: 0.6406 - val_recall_38: 0.6406 - val_f1_score: 0.2603 - 112ms/epoch - 112ms/step\n",
      "Epoch 31/50\n",
      "1/1 - 0s - loss: 0.8924 - accuracy: 0.5581 - auc_38: 0.7403 - precision_38: 0.5581 - recall_38: 0.5581 - f1_score: 0.2388 - val_loss: 0.8316 - val_accuracy: 0.6406 - val_auc_38: 0.7891 - val_precision_38: 0.6406 - val_recall_38: 0.6406 - val_f1_score: 0.2603 - 115ms/epoch - 115ms/step\n",
      "Epoch 32/50\n",
      "1/1 - 0s - loss: 0.8924 - accuracy: 0.5581 - auc_38: 0.7403 - precision_38: 0.5581 - recall_38: 0.5581 - f1_score: 0.2388 - val_loss: 0.8314 - val_accuracy: 0.6406 - val_auc_38: 0.7891 - val_precision_38: 0.6406 - val_recall_38: 0.6406 - val_f1_score: 0.2603 - 105ms/epoch - 105ms/step\n",
      "Epoch 33/50\n",
      "1/1 - 0s - loss: 0.8925 - accuracy: 0.5581 - auc_38: 0.7403 - precision_38: 0.5581 - recall_38: 0.5581 - f1_score: 0.2388 - val_loss: 0.8313 - val_accuracy: 0.6406 - val_auc_38: 0.7891 - val_precision_38: 0.6406 - val_recall_38: 0.6406 - val_f1_score: 0.2603 - 100ms/epoch - 100ms/step\n",
      "Epoch 34/50\n",
      "1/1 - 0s - loss: 0.8925 - accuracy: 0.5581 - auc_38: 0.7403 - precision_38: 0.5581 - recall_38: 0.5581 - f1_score: 0.2388 - val_loss: 0.8313 - val_accuracy: 0.6406 - val_auc_38: 0.7891 - val_precision_38: 0.6406 - val_recall_38: 0.6406 - val_f1_score: 0.2603 - 100ms/epoch - 100ms/step\n",
      "Epoch 35/50\n",
      "1/1 - 0s - loss: 0.8925 - accuracy: 0.5581 - auc_38: 0.7403 - precision_38: 0.5581 - recall_38: 0.5581 - f1_score: 0.2388 - val_loss: 0.8312 - val_accuracy: 0.6406 - val_auc_38: 0.7891 - val_precision_38: 0.6406 - val_recall_38: 0.6406 - val_f1_score: 0.2603 - 111ms/epoch - 111ms/step\n",
      "Epoch 36/50\n",
      "1/1 - 0s - loss: 0.8925 - accuracy: 0.5581 - auc_38: 0.7403 - precision_38: 0.5581 - recall_38: 0.5581 - f1_score: 0.2388 - val_loss: 0.8312 - val_accuracy: 0.6406 - val_auc_38: 0.7891 - val_precision_38: 0.6406 - val_recall_38: 0.6406 - val_f1_score: 0.2603 - 120ms/epoch - 120ms/step\n",
      "Epoch 37/50\n",
      "1/1 - 0s - loss: 0.8925 - accuracy: 0.5581 - auc_38: 0.7403 - precision_38: 0.5581 - recall_38: 0.5581 - f1_score: 0.2388 - val_loss: 0.8311 - val_accuracy: 0.6406 - val_auc_38: 0.7891 - val_precision_38: 0.6406 - val_recall_38: 0.6406 - val_f1_score: 0.2603 - 102ms/epoch - 102ms/step\n",
      "Epoch 38/50\n",
      "1/1 - 0s - loss: 0.8925 - accuracy: 0.5581 - auc_38: 0.7403 - precision_38: 0.5581 - recall_38: 0.5581 - f1_score: 0.2388 - val_loss: 0.8311 - val_accuracy: 0.6406 - val_auc_38: 0.7891 - val_precision_38: 0.6406 - val_recall_38: 0.6406 - val_f1_score: 0.2603 - 100ms/epoch - 100ms/step\n",
      "Epoch 39/50\n",
      "1/1 - 0s - loss: 0.8924 - accuracy: 0.5581 - auc_38: 0.7403 - precision_38: 0.5581 - recall_38: 0.5581 - f1_score: 0.2388 - val_loss: 0.8311 - val_accuracy: 0.6406 - val_auc_38: 0.7891 - val_precision_38: 0.6406 - val_recall_38: 0.6406 - val_f1_score: 0.2603 - 97ms/epoch - 97ms/step\n",
      "Epoch 40/50\n",
      "1/1 - 0s - loss: 0.8924 - accuracy: 0.5581 - auc_38: 0.7403 - precision_38: 0.5581 - recall_38: 0.5581 - f1_score: 0.2388 - val_loss: 0.8312 - val_accuracy: 0.6406 - val_auc_38: 0.7891 - val_precision_38: 0.6406 - val_recall_38: 0.6406 - val_f1_score: 0.2603 - 119ms/epoch - 119ms/step\n"
     ]
    },
    {
     "data": {
      "image/png": "[encoded data removed]",
      "text/plain": [
       "<Figure size 432x288 with 1 Axes>"
      ]
     },
     "metadata": {
      "needs_background": "light"
     },
     "output_type": "display_data"
    },
    {
     "name": "stdout",
     "output_type": "stream",
     "text": [
      "Epoch 1/50\n",
      "1/1 - 2s - loss: 1.0658 - accuracy: 0.5116 - auc_39: 0.6283 - precision_39: 0.8000 - recall_39: 0.0310 - f1_score: 0.2791 - val_loss: 0.9782 - val_accuracy: 0.5156 - val_auc_39: 0.7225 - val_precision_39: 0.5156 - val_recall_39: 0.5156 - val_f1_score: 0.2268 - 2s/epoch - 2s/step\n",
      "Epoch 2/50\n",
      "1/1 - 0s - loss: 0.9191 - accuracy: 0.6202 - auc_39: 0.7653 - precision_39: 0.6202 - recall_39: 0.6202 - f1_score: 0.2552 - val_loss: 0.9610 - val_accuracy: 0.5156 - val_auc_39: 0.7230 - val_precision_39: 0.5156 - val_recall_39: 0.5156 - val_f1_score: 0.2268 - 97ms/epoch - 97ms/step\n",
      "Epoch 3/50\n",
      "1/1 - 0s - loss: 0.9051 - accuracy: 0.6202 - auc_39: 0.7676 - precision_39: 0.6160 - recall_39: 0.5969 - f1_score: 0.2552 - val_loss: 0.9470 - val_accuracy: 0.5156 - val_auc_39: 0.7333 - val_precision_39: 0.5156 - val_recall_39: 0.5156 - val_f1_score: 0.2268 - 97ms/epoch - 97ms/step\n",
      "Epoch 4/50\n",
      "1/1 - 0s - loss: 0.8901 - accuracy: 0.6202 - auc_39: 0.7754 - precision_39: 0.6202 - recall_39: 0.6202 - f1_score: 0.2552 - val_loss: 0.9366 - val_accuracy: 0.5156 - val_auc_39: 0.7301 - val_precision_39: 0.5156 - val_recall_39: 0.5156 - val_f1_score: 0.2268 - 106ms/epoch - 106ms/step\n",
      "Epoch 5/50\n",
      "1/1 - 0s - loss: 0.8799 - accuracy: 0.6202 - auc_39: 0.7726 - precision_39: 0.6202 - recall_39: 0.6202 - f1_score: 0.2552 - val_loss: 0.9351 - val_accuracy: 0.5156 - val_auc_39: 0.7319 - val_precision_39: 0.5156 - val_recall_39: 0.5156 - val_f1_score: 0.2268 - 112ms/epoch - 112ms/step\n",
      "Epoch 6/50\n",
      "1/1 - 0s - loss: 0.8707 - accuracy: 0.6202 - auc_39: 0.7611 - precision_39: 0.6202 - recall_39: 0.6202 - f1_score: 0.2552 - val_loss: 0.9294 - val_accuracy: 0.5156 - val_auc_39: 0.7266 - val_precision_39: 0.5156 - val_recall_39: 0.5156 - val_f1_score: 0.2268 - 109ms/epoch - 109ms/step\n",
      "Epoch 7/50\n",
      "1/1 - 0s - loss: 0.8645 - accuracy: 0.6202 - auc_39: 0.7713 - precision_39: 0.6202 - recall_39: 0.6202 - f1_score: 0.2552 - val_loss: 0.9231 - val_accuracy: 0.5156 - val_auc_39: 0.7266 - val_precision_39: 0.5156 - val_recall_39: 0.5156 - val_f1_score: 0.2268 - 102ms/epoch - 102ms/step\n",
      "Epoch 8/50\n",
      "1/1 - 0s - loss: 0.8607 - accuracy: 0.6202 - auc_39: 0.7713 - precision_39: 0.6202 - recall_39: 0.6202 - f1_score: 0.2552 - val_loss: 0.9178 - val_accuracy: 0.5156 - val_auc_39: 0.7266 - val_precision_39: 0.5156 - val_recall_39: 0.5156 - val_f1_score: 0.2268 - 108ms/epoch - 108ms/step\n",
      "Epoch 9/50\n",
      "1/1 - 0s - loss: 0.8583 - accuracy: 0.6202 - auc_39: 0.7713 - precision_39: 0.6202 - recall_39: 0.6202 - f1_score: 0.2552 - val_loss: 0.9137 - val_accuracy: 0.5156 - val_auc_39: 0.7249 - val_precision_39: 0.5156 - val_recall_39: 0.5156 - val_f1_score: 0.2268 - 120ms/epoch - 120ms/step\n",
      "Epoch 10/50\n",
      "1/1 - 0s - loss: 0.8561 - accuracy: 0.6202 - auc_39: 0.7750 - precision_39: 0.6202 - recall_39: 0.6202 - f1_score: 0.2552 - val_loss: 0.8947 - val_accuracy: 0.5156 - val_auc_39: 0.7266 - val_precision_39: 0.5156 - val_recall_39: 0.5156 - val_f1_score: 0.2268 - 101ms/epoch - 101ms/step\n",
      "Epoch 11/50\n",
      "1/1 - 0s - loss: 0.8605 - accuracy: 0.6202 - auc_39: 0.7713 - precision_39: 0.6202 - recall_39: 0.6202 - f1_score: 0.2552 - val_loss: 0.8952 - val_accuracy: 0.5156 - val_auc_39: 0.7266 - val_precision_39: 0.5156 - val_recall_39: 0.5156 - val_f1_score: 0.2268 - 99ms/epoch - 99ms/step\n",
      "Epoch 12/50\n",
      "1/1 - 0s - loss: 0.8593 - accuracy: 0.6202 - auc_39: 0.7713 - precision_39: 0.6202 - recall_39: 0.6202 - f1_score: 0.2552 - val_loss: 0.8975 - val_accuracy: 0.5156 - val_auc_39: 0.7305 - val_precision_39: 0.5156 - val_recall_39: 0.5156 - val_f1_score: 0.2268 - 98ms/epoch - 98ms/step\n"
     ]
    },
    {
     "data": {
      "image/png": "[encoded data removed]",
      "text/plain": [
       "<Figure size 432x288 with 1 Axes>"
      ]
     },
     "metadata": {
      "needs_background": "light"
     },
     "output_type": "display_data"
    }
   ],
   "source": [
    "model2 = get_CNN(n_features, n_length, n_outputs, y_train.shape[1])\n",
    "for train_index, val_index in kf.split(X):\n",
    "    X_train, X_val = X[train_index], X[val_index]\n",
    "    y_train, y_val = y[train_index], y[val_index]\n",
    "    model2 = get_CNN(n_features, n_length, n_outputs, y_train.shape[1])\n",
    "    history = train(model2, X_train, y_train, X_val, y_val, epochs=epochs, batch_size=batch_size)\n",
    "    plt.plot(history.history['loss'])\n",
    "    plt.show()"
   ]
  },
  {
   "cell_type": "code",
   "execution_count": 49,
   "metadata": {},
   "outputs": [],
   "source": [
    "member2 = KerasMember(name=\"CNN+LSTM\", keras_model=model2,\n",
    "    train_batches=(X_train, y_train),\n",
    "    val_batches=(X_test, y_test))"
   ]
  },
  {
   "cell_type": "markdown",
   "metadata": {},
   "source": [
    "### Train ConvLSTM (with early fusion)"
   ]
  },
  {
   "cell_type": "code",
   "execution_count": 50,
   "metadata": {},
   "outputs": [
    {
     "name": "stdout",
     "output_type": "stream",
     "text": [
      "Epoch 1/50\n",
      "1/1 - 3s - loss: 74.0826 - accuracy: 0.3750 - auc_41: 0.5312 - precision_41: 0.3750 - recall_41: 0.3750 - f1_score: 0.1969 - val_loss: 937.4266 - val_accuracy: 0.6000 - val_auc_41: 0.7000 - val_precision_41: 0.6000 - val_recall_41: 0.6000 - val_f1_score: 0.2500 - 3s/epoch - 3s/step\n",
      "Epoch 2/50\n",
      "1/1 - 0s - loss: 1031.0159 - accuracy: 0.5781 - auc_41: 0.6836 - precision_41: 0.5781 - recall_41: 0.5781 - f1_score: 0.2442 - val_loss: 448.2613 - val_accuracy: 0.6000 - val_auc_41: 0.7000 - val_precision_41: 0.6000 - val_recall_41: 0.6000 - val_f1_score: 0.2500 - 342ms/epoch - 342ms/step\n",
      "Epoch 3/50\n",
      "1/1 - 0s - loss: 503.9681 - accuracy: 0.5781 - auc_41: 0.6836 - precision_41: 0.5781 - recall_41: 0.5781 - f1_score: 0.2442 - val_loss: 585.7548 - val_accuracy: 0.0923 - val_auc_41: 0.3192 - val_precision_41: 0.0923 - val_recall_41: 0.0923 - val_f1_score: 0.0563 - 331ms/epoch - 331ms/step\n",
      "Epoch 4/50\n",
      "1/1 - 0s - loss: 606.1620 - accuracy: 0.0625 - auc_41: 0.2969 - precision_41: 0.0625 - recall_41: 0.0625 - f1_score: 0.0392 - val_loss: 248.1925 - val_accuracy: 0.0923 - val_auc_41: 0.3192 - val_precision_41: 0.0923 - val_recall_41: 0.0923 - val_f1_score: 0.0563 - 326ms/epoch - 326ms/step\n",
      "Epoch 5/50\n",
      "1/1 - 0s - loss: 262.6568 - accuracy: 0.0703 - auc_41: 0.3027 - precision_41: 0.0703 - recall_41: 0.0703 - f1_score: 0.0484 - val_loss: 96.5715 - val_accuracy: 0.6000 - val_auc_41: 0.7000 - val_precision_41: 0.6000 - val_recall_41: 0.6000 - val_f1_score: 0.2500 - 305ms/epoch - 305ms/step\n",
      "Epoch 6/50\n",
      "1/1 - 0s - loss: 108.0051 - accuracy: 0.5781 - auc_41: 0.6836 - precision_41: 0.5781 - recall_41: 0.5781 - f1_score: 0.2442 - val_loss: 78.8862 - val_accuracy: 0.6000 - val_auc_41: 0.7000 - val_precision_41: 0.6000 - val_recall_41: 0.6000 - val_f1_score: 0.2500 - 332ms/epoch - 332ms/step\n",
      "Epoch 7/50\n",
      "1/1 - 0s - loss: 81.2750 - accuracy: 0.5781 - auc_41: 0.6836 - precision_41: 0.5781 - recall_41: 0.5781 - f1_score: 0.2442 - val_loss: 59.8158 - val_accuracy: 0.6000 - val_auc_41: 0.7000 - val_precision_41: 0.6000 - val_recall_41: 0.6000 - val_f1_score: 0.2500 - 321ms/epoch - 321ms/step\n",
      "Epoch 8/50\n",
      "1/1 - 0s - loss: 57.8288 - accuracy: 0.5781 - auc_41: 0.6836 - precision_41: 0.5781 - recall_41: 0.5781 - f1_score: 0.2442 - val_loss: 44.2999 - val_accuracy: 0.6000 - val_auc_41: 0.7000 - val_precision_41: 0.6000 - val_recall_41: 0.6000 - val_f1_score: 0.2500 - 298ms/epoch - 298ms/step\n",
      "Epoch 9/50\n",
      "1/1 - 0s - loss: 40.4746 - accuracy: 0.5781 - auc_41: 0.6836 - precision_41: 0.5781 - recall_41: 0.5781 - f1_score: 0.2442 - val_loss: 32.0248 - val_accuracy: 0.6000 - val_auc_41: 0.7000 - val_precision_41: 0.6000 - val_recall_41: 0.6000 - val_f1_score: 0.2500 - 338ms/epoch - 338ms/step\n",
      "Epoch 10/50\n",
      "1/1 - 0s - loss: 27.4166 - accuracy: 0.5781 - auc_41: 0.6836 - precision_41: 0.5781 - recall_41: 0.5781 - f1_score: 0.2442 - val_loss: 22.9198 - val_accuracy: 0.6000 - val_auc_41: 0.7000 - val_precision_41: 0.6000 - val_recall_41: 0.6000 - val_f1_score: 0.2500 - 311ms/epoch - 311ms/step\n",
      "Epoch 11/50\n",
      "1/1 - 0s - loss: 17.7837 - accuracy: 0.5859 - auc_41: 0.6895 - precision_41: 0.5859 - recall_41: 0.5859 - f1_score: 0.2596 - val_loss: 16.0232 - val_accuracy: 0.5231 - val_auc_41: 0.7318 - val_precision_41: 0.5231 - val_recall_41: 0.5231 - val_f1_score: 0.2871 - 305ms/epoch - 305ms/step\n",
      "Epoch 12/50\n",
      "1/1 - 0s - loss: 11.2484 - accuracy: 0.5469 - auc_41: 0.7293 - precision_41: 0.5469 - recall_41: 0.5469 - f1_score: 0.2941 - val_loss: 15.2131 - val_accuracy: 0.3846 - val_auc_41: 0.6207 - val_precision_41: 0.3846 - val_recall_41: 0.3846 - val_f1_score: 0.2679 - 329ms/epoch - 329ms/step\n",
      "Epoch 13/50\n",
      "1/1 - 0s - loss: 9.9552 - accuracy: 0.4922 - auc_41: 0.6806 - precision_41: 0.4922 - recall_41: 0.4922 - f1_score: 0.3383 - val_loss: 15.1149 - val_accuracy: 0.4154 - val_auc_41: 0.5873 - val_precision_41: 0.4154 - val_recall_41: 0.4154 - val_f1_score: 0.2856 - 310ms/epoch - 310ms/step\n",
      "Epoch 14/50\n",
      "1/1 - 0s - loss: 9.8384 - accuracy: 0.4922 - auc_41: 0.6663 - precision_41: 0.4922 - recall_41: 0.4922 - f1_score: 0.3353 - val_loss: 14.2050 - val_accuracy: 0.4308 - val_auc_41: 0.5931 - val_precision_41: 0.4308 - val_recall_41: 0.4308 - val_f1_score: 0.2951 - 310ms/epoch - 310ms/step\n",
      "Epoch 15/50\n",
      "1/1 - 0s - loss: 9.2659 - accuracy: 0.4922 - auc_41: 0.6643 - precision_41: 0.4922 - recall_41: 0.4922 - f1_score: 0.3353 - val_loss: 12.8292 - val_accuracy: 0.4462 - val_auc_41: 0.6024 - val_precision_41: 0.4462 - val_recall_41: 0.4462 - val_f1_score: 0.3077 - 342ms/epoch - 342ms/step\n",
      "Epoch 16/50\n",
      "1/1 - 0s - loss: 8.3184 - accuracy: 0.5156 - auc_41: 0.6740 - precision_41: 0.5156 - recall_41: 0.5156 - f1_score: 0.3522 - val_loss: 11.2625 - val_accuracy: 0.4769 - val_auc_41: 0.6092 - val_precision_41: 0.4769 - val_recall_41: 0.4769 - val_f1_score: 0.3329 - 306ms/epoch - 306ms/step\n",
      "Epoch 17/50\n",
      "1/1 - 0s - loss: 7.2266 - accuracy: 0.5625 - auc_41: 0.6861 - precision_41: 0.5625 - recall_41: 0.5625 - f1_score: 0.3873 - val_loss: 9.6388 - val_accuracy: 0.4308 - val_auc_41: 0.6134 - val_precision_41: 0.4375 - val_recall_41: 0.4308 - val_f1_score: 0.3009 - 320ms/epoch - 320ms/step\n",
      "Epoch 18/50\n",
      "1/1 - 0s - loss: 6.1612 - accuracy: 0.5781 - auc_41: 0.6978 - precision_41: 0.5781 - recall_41: 0.5781 - f1_score: 0.3980 - val_loss: 8.4072 - val_accuracy: 0.4462 - val_auc_41: 0.6351 - val_precision_41: 0.4375 - val_recall_41: 0.4308 - val_f1_score: 0.3121 - 338ms/epoch - 338ms/step\n",
      "Epoch 19/50\n",
      "1/1 - 0s - loss: 5.1932 - accuracy: 0.5469 - auc_41: 0.7042 - precision_41: 0.5512 - recall_41: 0.5469 - f1_score: 0.3758 - val_loss: 7.4151 - val_accuracy: 0.4769 - val_auc_41: 0.6420 - val_precision_41: 0.4688 - val_recall_41: 0.4615 - val_f1_score: 0.3326 - 300ms/epoch - 300ms/step\n",
      "Epoch 20/50\n",
      "1/1 - 0s - loss: 4.4191 - accuracy: 0.5547 - auc_41: 0.7132 - precision_41: 0.5512 - recall_41: 0.5469 - f1_score: 0.3802 - val_loss: 6.7294 - val_accuracy: 0.4923 - val_auc_41: 0.6755 - val_precision_41: 0.4844 - val_recall_41: 0.4769 - val_f1_score: 0.3412 - 325ms/epoch - 325ms/step\n",
      "Epoch 21/50\n",
      "1/1 - 0s - loss: 3.8059 - accuracy: 0.5547 - auc_41: 0.7248 - precision_41: 0.5484 - recall_41: 0.5312 - f1_score: 0.3785 - val_loss: 6.3770 - val_accuracy: 0.4769 - val_auc_41: 0.6867 - val_precision_41: 0.4688 - val_recall_41: 0.4615 - val_f1_score: 0.3291 - 321ms/epoch - 321ms/step\n",
      "Epoch 22/50\n",
      "1/1 - 0s - loss: 3.3589 - accuracy: 0.5547 - auc_41: 0.7283 - precision_41: 0.5574 - recall_41: 0.5312 - f1_score: 0.3748 - val_loss: 6.0618 - val_accuracy: 0.4615 - val_auc_41: 0.6855 - val_precision_41: 0.4603 - val_recall_41: 0.4462 - val_f1_score: 0.3170 - 303ms/epoch - 303ms/step\n",
      "Epoch 23/50\n",
      "1/1 - 0s - loss: 3.0105 - accuracy: 0.5703 - auc_41: 0.7327 - precision_41: 0.5565 - recall_41: 0.5000 - f1_score: 0.3825 - val_loss: 5.5919 - val_accuracy: 0.4923 - val_auc_41: 0.6963 - val_precision_41: 0.4833 - val_recall_41: 0.4462 - val_f1_score: 0.3359 - 342ms/epoch - 342ms/step\n",
      "Epoch 24/50\n",
      "1/1 - 0s - loss: 2.7179 - accuracy: 0.5703 - auc_41: 0.7367 - precision_41: 0.5727 - recall_41: 0.4922 - f1_score: 0.3755 - val_loss: 5.0520 - val_accuracy: 0.4769 - val_auc_41: 0.6993 - val_precision_41: 0.4576 - val_recall_41: 0.4154 - val_f1_score: 0.3126 - 340ms/epoch - 340ms/step\n",
      "Epoch 25/50\n",
      "1/1 - 0s - loss: 2.4817 - accuracy: 0.5547 - auc_41: 0.7358 - precision_41: 0.5463 - recall_41: 0.4609 - f1_score: 0.3570 - val_loss: 4.5162 - val_accuracy: 0.4769 - val_auc_41: 0.7036 - val_precision_41: 0.4717 - val_recall_41: 0.3846 - val_f1_score: 0.3061 - 298ms/epoch - 298ms/step\n",
      "Epoch 26/50\n",
      "1/1 - 0s - loss: 2.3052 - accuracy: 0.5156 - auc_41: 0.7347 - precision_41: 0.4952 - recall_41: 0.4062 - f1_score: 0.3146 - val_loss: 4.0859 - val_accuracy: 0.5231 - val_auc_41: 0.7099 - val_precision_41: 0.5283 - val_recall_41: 0.4308 - val_f1_score: 0.3175 - 340ms/epoch - 340ms/step\n",
      "Epoch 27/50\n",
      "1/1 - 0s - loss: 2.1721 - accuracy: 0.5234 - auc_41: 0.7369 - precision_41: 0.5196 - recall_41: 0.4141 - f1_score: 0.3183 - val_loss: 3.7021 - val_accuracy: 0.6000 - val_auc_41: 0.7186 - val_precision_41: 0.5962 - val_recall_41: 0.4769 - val_f1_score: 0.3630 - 325ms/epoch - 325ms/step\n",
      "Epoch 28/50\n",
      "1/1 - 0s - loss: 2.0654 - accuracy: 0.5547 - auc_41: 0.7364 - precision_41: 0.5500 - recall_41: 0.4297 - f1_score: 0.3386 - val_loss: 3.3822 - val_accuracy: 0.5692 - val_auc_41: 0.7180 - val_precision_41: 0.5769 - val_recall_41: 0.4615 - val_f1_score: 0.3354 - 297ms/epoch - 297ms/step\n",
      "Epoch 29/50\n",
      "1/1 - 0s - loss: 1.9704 - accuracy: 0.5312 - auc_41: 0.7390 - precision_41: 0.5368 - recall_41: 0.3984 - f1_score: 0.3174 - val_loss: 3.1149 - val_accuracy: 0.5692 - val_auc_41: 0.7195 - val_precision_41: 0.5769 - val_recall_41: 0.4615 - val_f1_score: 0.3525 - 339ms/epoch - 339ms/step\n",
      "Epoch 30/50\n",
      "1/1 - 0s - loss: 1.8837 - accuracy: 0.5156 - auc_41: 0.7404 - precision_41: 0.5319 - recall_41: 0.3906 - f1_score: 0.3059 - val_loss: 2.9252 - val_accuracy: 0.6000 - val_auc_41: 0.7198 - val_precision_41: 0.6327 - val_recall_41: 0.4769 - val_f1_score: 0.3694 - 315ms/epoch - 315ms/step\n",
      "Epoch 31/50\n",
      "1/1 - 0s - loss: 1.8040 - accuracy: 0.5234 - auc_41: 0.7452 - precision_41: 0.5326 - recall_41: 0.3828 - f1_score: 0.3042 - val_loss: 2.7772 - val_accuracy: 0.6000 - val_auc_41: 0.7210 - val_precision_41: 0.5957 - val_recall_41: 0.4308 - val_f1_score: 0.3630 - 296ms/epoch - 296ms/step\n",
      "Epoch 32/50\n",
      "1/1 - 0s - loss: 1.7313 - accuracy: 0.5156 - auc_41: 0.7457 - precision_41: 0.5647 - recall_41: 0.3750 - f1_score: 0.2993 - val_loss: 2.6435 - val_accuracy: 0.5692 - val_auc_41: 0.7182 - val_precision_41: 0.5957 - val_recall_41: 0.4308 - val_f1_score: 0.3635 - 325ms/epoch - 325ms/step\n",
      "Epoch 33/50\n",
      "1/1 - 0s - loss: 1.6667 - accuracy: 0.5469 - auc_41: 0.7437 - precision_41: 0.5882 - recall_41: 0.3906 - f1_score: 0.3199 - val_loss: 2.5198 - val_accuracy: 0.5692 - val_auc_41: 0.7186 - val_precision_41: 0.5714 - val_recall_41: 0.4308 - val_f1_score: 0.3642 - 312ms/epoch - 312ms/step\n",
      "Epoch 34/50\n",
      "1/1 - 0s - loss: 1.6105 - accuracy: 0.5469 - auc_41: 0.7403 - precision_41: 0.5976 - recall_41: 0.3828 - f1_score: 0.3141 - val_loss: 2.4206 - val_accuracy: 0.5692 - val_auc_41: 0.7160 - val_precision_41: 0.5349 - val_recall_41: 0.3538 - val_f1_score: 0.3642 - 318ms/epoch - 318ms/step\n",
      "Epoch 35/50\n",
      "1/1 - 0s - loss: 1.5615 - accuracy: 0.5312 - auc_41: 0.7406 - precision_41: 0.5897 - recall_41: 0.3594 - f1_score: 0.3067 - val_loss: 2.3340 - val_accuracy: 0.5538 - val_auc_41: 0.7151 - val_precision_41: 0.5238 - val_recall_41: 0.3385 - val_f1_score: 0.3556 - 335ms/epoch - 335ms/step\n",
      "Epoch 36/50\n",
      "1/1 - 0s - loss: 1.5163 - accuracy: 0.5312 - auc_41: 0.7382 - precision_41: 0.5921 - recall_41: 0.3516 - f1_score: 0.3174 - val_loss: 2.2578 - val_accuracy: 0.5538 - val_auc_41: 0.7186 - val_precision_41: 0.5122 - val_recall_41: 0.3231 - val_f1_score: 0.3556 - 308ms/epoch - 308ms/step\n",
      "Epoch 37/50\n",
      "1/1 - 0s - loss: 1.4773 - accuracy: 0.5234 - auc_41: 0.7389 - precision_41: 0.5890 - recall_41: 0.3359 - f1_score: 0.3135 - val_loss: 2.1915 - val_accuracy: 0.5692 - val_auc_41: 0.7173 - val_precision_41: 0.5385 - val_recall_41: 0.3231 - val_f1_score: 0.3712 - 323ms/epoch - 323ms/step\n",
      "Epoch 38/50\n",
      "1/1 - 0s - loss: 1.4434 - accuracy: 0.5234 - auc_41: 0.7383 - precision_41: 0.5758 - recall_41: 0.2969 - f1_score: 0.3183 - val_loss: 2.1334 - val_accuracy: 0.5538 - val_auc_41: 0.7174 - val_precision_41: 0.5385 - val_recall_41: 0.3231 - val_f1_score: 0.3624 - 330ms/epoch - 330ms/step\n",
      "Epoch 39/50\n",
      "1/1 - 0s - loss: 1.4138 - accuracy: 0.5391 - auc_41: 0.7388 - precision_41: 0.5758 - recall_41: 0.2969 - f1_score: 0.3307 - val_loss: 2.0822 - val_accuracy: 0.5231 - val_auc_41: 0.7179 - val_precision_41: 0.5526 - val_recall_41: 0.3231 - val_f1_score: 0.3447 - 307ms/epoch - 307ms/step\n",
      "Epoch 40/50\n",
      "1/1 - 0s - loss: 1.3880 - accuracy: 0.5312 - auc_41: 0.7395 - precision_41: 0.5692 - recall_41: 0.2891 - f1_score: 0.3346 - val_loss: 2.0366 - val_accuracy: 0.5077 - val_auc_41: 0.7176 - val_precision_41: 0.5526 - val_recall_41: 0.3231 - val_f1_score: 0.2932 - 327ms/epoch - 327ms/step\n",
      "Epoch 41/50\n",
      "1/1 - 0s - loss: 1.3634 - accuracy: 0.6016 - auc_41: 0.7397 - precision_41: 0.5500 - recall_41: 0.2578 - f1_score: 0.3473 - val_loss: 1.9967 - val_accuracy: 0.5077 - val_auc_41: 0.7168 - val_precision_41: 0.5526 - val_recall_41: 0.3231 - val_f1_score: 0.2932 - 331ms/epoch - 331ms/step\n",
      "Epoch 42/50\n",
      "1/1 - 0s - loss: 1.3409 - accuracy: 0.5938 - auc_41: 0.7434 - precision_41: 0.5455 - recall_41: 0.2344 - f1_score: 0.3547 - val_loss: 1.9617 - val_accuracy: 0.5077 - val_auc_41: 0.7196 - val_precision_41: 0.5526 - val_recall_41: 0.3231 - val_f1_score: 0.2932 - 303ms/epoch - 303ms/step\n",
      "Epoch 43/50\n",
      "1/1 - 0s - loss: 1.3219 - accuracy: 0.6094 - auc_41: 0.7525 - precision_41: 0.5439 - recall_41: 0.2422 - f1_score: 0.3682 - val_loss: 1.9313 - val_accuracy: 0.5077 - val_auc_41: 0.7207 - val_precision_41: 0.5405 - val_recall_41: 0.3077 - val_f1_score: 0.2932 - 329ms/epoch - 329ms/step\n",
      "Epoch 44/50\n",
      "1/1 - 0s - loss: 1.3051 - accuracy: 0.6172 - auc_41: 0.7551 - precision_41: 0.5833 - recall_41: 0.2188 - f1_score: 0.3768 - val_loss: 1.9044 - val_accuracy: 0.5077 - val_auc_41: 0.7196 - val_precision_41: 0.5405 - val_recall_41: 0.3077 - val_f1_score: 0.2932 - 327ms/epoch - 327ms/step\n",
      "Epoch 45/50\n",
      "1/1 - 0s - loss: 1.2901 - accuracy: 0.6016 - auc_41: 0.7536 - precision_41: 0.5957 - recall_41: 0.2188 - f1_score: 0.3635 - val_loss: 1.8815 - val_accuracy: 0.5077 - val_auc_41: 0.7195 - val_precision_41: 0.5405 - val_recall_41: 0.3077 - val_f1_score: 0.2932 - 299ms/epoch - 299ms/step\n",
      "Epoch 46/50\n",
      "1/1 - 0s - loss: 1.2767 - accuracy: 0.6016 - auc_41: 0.7566 - precision_41: 0.5882 - recall_41: 0.2344 - f1_score: 0.3683 - val_loss: 1.8621 - val_accuracy: 0.5077 - val_auc_41: 0.7195 - val_precision_41: 0.5556 - val_recall_41: 0.3077 - val_f1_score: 0.2932 - 333ms/epoch - 333ms/step\n",
      "Epoch 47/50\n",
      "1/1 - 0s - loss: 1.2649 - accuracy: 0.5938 - auc_41: 0.7553 - precision_41: 0.5800 - recall_41: 0.2266 - f1_score: 0.3598 - val_loss: 1.8458 - val_accuracy: 0.5077 - val_auc_41: 0.7167 - val_precision_41: 0.5556 - val_recall_41: 0.3077 - val_f1_score: 0.2932 - 317ms/epoch - 317ms/step\n",
      "Epoch 48/50\n",
      "1/1 - 0s - loss: 1.2546 - accuracy: 0.5938 - auc_41: 0.7528 - precision_41: 0.5918 - recall_41: 0.2266 - f1_score: 0.3598 - val_loss: 1.8321 - val_accuracy: 0.5077 - val_auc_41: 0.7131 - val_precision_41: 0.5556 - val_recall_41: 0.3077 - val_f1_score: 0.2932 - 313ms/epoch - 313ms/step\n",
      "Epoch 49/50\n",
      "1/1 - 0s - loss: 1.2445 - accuracy: 0.5859 - auc_41: 0.7505 - precision_41: 0.5918 - recall_41: 0.2266 - f1_score: 0.3506 - val_loss: 1.8209 - val_accuracy: 0.5077 - val_auc_41: 0.7109 - val_precision_41: 0.5556 - val_recall_41: 0.3077 - val_f1_score: 0.2932 - 340ms/epoch - 340ms/step\n",
      "Epoch 50/50\n",
      "1/1 - 0s - loss: 1.2350 - accuracy: 0.5859 - auc_41: 0.7507 - precision_41: 0.6122 - recall_41: 0.2344 - f1_score: 0.3556 - val_loss: 1.8118 - val_accuracy: 0.5077 - val_auc_41: 0.7114 - val_precision_41: 0.5714 - val_recall_41: 0.3077 - val_f1_score: 0.2932 - 314ms/epoch - 314ms/step\n"
     ]
    },
    {
     "data": {
      "image/png": "[encoded data removed]",
      "text/plain": [
       "<Figure size 432x288 with 1 Axes>"
      ]
     },
     "metadata": {
      "needs_background": "light"
     },
     "output_type": "display_data"
    },
    {
     "name": "stdout",
     "output_type": "stream",
     "text": [
      "Epoch 1/50\n",
      "1/1 - 3s - loss: 9.0078 - accuracy: 0.5736 - auc_42: 0.6754 - precision_42: 0.5736 - recall_42: 0.5736 - f1_score: 0.2896 - val_loss: 614.9665 - val_accuracy: 0.2969 - val_auc_42: 0.4727 - val_precision_42: 0.2969 - val_recall_42: 0.2969 - val_f1_score: 0.1526 - 3s/epoch - 3s/step\n",
      "Epoch 2/50\n",
      "1/1 - 0s - loss: 549.3289 - accuracy: 0.3643 - auc_42: 0.5233 - precision_42: 0.3643 - recall_42: 0.3643 - f1_score: 0.1780 - val_loss: 262.0497 - val_accuracy: 0.2969 - val_auc_42: 0.4727 - val_precision_42: 0.2969 - val_recall_42: 0.2969 - val_f1_score: 0.1526 - 338ms/epoch - 338ms/step\n",
      "Epoch 3/50\n",
      "1/1 - 0s - loss: 237.3842 - accuracy: 0.3643 - auc_42: 0.5233 - precision_42: 0.3643 - recall_42: 0.3643 - f1_score: 0.1780 - val_loss: 233.2521 - val_accuracy: 0.0625 - val_auc_42: 0.2969 - val_precision_42: 0.0625 - val_recall_42: 0.0625 - val_f1_score: 0.0392 - 318ms/epoch - 318ms/step\n",
      "Epoch 4/50\n",
      "1/1 - 0s - loss: 237.9118 - accuracy: 0.0775 - auc_42: 0.3081 - precision_42: 0.0775 - recall_42: 0.0775 - f1_score: 0.0480 - val_loss: 94.5444 - val_accuracy: 0.1406 - val_auc_42: 0.3555 - val_precision_42: 0.1406 - val_recall_42: 0.1406 - val_f1_score: 0.1148 - 323ms/epoch - 323ms/step\n",
      "Epoch 5/50\n",
      "1/1 - 0s - loss: 105.2578 - accuracy: 0.1240 - auc_42: 0.3396 - precision_42: 0.1240 - recall_42: 0.1240 - f1_score: 0.1011 - val_loss: 38.5011 - val_accuracy: 0.6406 - val_auc_42: 0.7305 - val_precision_42: 0.6406 - val_recall_42: 0.6406 - val_f1_score: 0.2603 - 295ms/epoch - 295ms/step\n",
      "Epoch 6/50\n",
      "1/1 - 0s - loss: 47.4769 - accuracy: 0.5581 - auc_42: 0.6686 - precision_42: 0.5581 - recall_42: 0.5581 - f1_score: 0.2388 - val_loss: 36.5692 - val_accuracy: 0.6406 - val_auc_42: 0.7305 - val_precision_42: 0.6406 - val_recall_42: 0.6406 - val_f1_score: 0.2603 - 333ms/epoch - 333ms/step\n",
      "Epoch 7/50\n",
      "1/1 - 0s - loss: 44.9479 - accuracy: 0.5581 - auc_42: 0.6686 - precision_42: 0.5581 - recall_42: 0.5581 - f1_score: 0.2388 - val_loss: 31.0807 - val_accuracy: 0.6406 - val_auc_42: 0.7305 - val_precision_42: 0.6406 - val_recall_42: 0.6406 - val_f1_score: 0.2603 - 334ms/epoch - 334ms/step\n",
      "Epoch 8/50\n",
      "1/1 - 0s - loss: 38.3632 - accuracy: 0.5581 - auc_42: 0.6686 - precision_42: 0.5581 - recall_42: 0.5581 - f1_score: 0.2388 - val_loss: 24.1272 - val_accuracy: 0.6406 - val_auc_42: 0.7305 - val_precision_42: 0.6406 - val_recall_42: 0.6406 - val_f1_score: 0.2603 - 310ms/epoch - 310ms/step\n",
      "Epoch 9/50\n",
      "1/1 - 0s - loss: 29.9051 - accuracy: 0.5581 - auc_42: 0.6686 - precision_42: 0.5581 - recall_42: 0.5581 - f1_score: 0.2388 - val_loss: 15.9195 - val_accuracy: 0.6406 - val_auc_42: 0.7305 - val_precision_42: 0.6406 - val_recall_42: 0.6406 - val_f1_score: 0.2603 - 320ms/epoch - 320ms/step\n",
      "Epoch 10/50\n",
      "1/1 - 0s - loss: 20.1118 - accuracy: 0.5581 - auc_42: 0.6686 - precision_42: 0.5581 - recall_42: 0.5581 - f1_score: 0.2388 - val_loss: 8.8652 - val_accuracy: 0.6406 - val_auc_42: 0.7288 - val_precision_42: 0.6406 - val_recall_42: 0.6406 - val_f1_score: 0.2603 - 312ms/epoch - 312ms/step\n",
      "Epoch 11/50\n",
      "1/1 - 0s - loss: 11.6928 - accuracy: 0.5581 - auc_42: 0.6845 - precision_42: 0.5581 - recall_42: 0.5581 - f1_score: 0.2388 - val_loss: 10.8295 - val_accuracy: 0.3750 - val_auc_42: 0.5792 - val_precision_42: 0.3750 - val_recall_42: 0.3750 - val_f1_score: 0.2349 - 305ms/epoch - 305ms/step\n",
      "Epoch 12/50\n",
      "1/1 - 0s - loss: 13.1712 - accuracy: 0.4186 - auc_42: 0.5696 - precision_42: 0.4186 - recall_42: 0.4186 - f1_score: 0.2495 - val_loss: 14.1965 - val_accuracy: 0.3438 - val_auc_42: 0.5144 - val_precision_42: 0.3438 - val_recall_42: 0.3438 - val_f1_score: 0.2038 - 343ms/epoch - 343ms/step\n"
     ]
    },
    {
     "data": {
      "image/png": "[encoded data removed]",
      "text/plain": [
       "<Figure size 432x288 with 1 Axes>"
      ]
     },
     "metadata": {
      "needs_background": "light"
     },
     "output_type": "display_data"
    },
    {
     "name": "stdout",
     "output_type": "stream",
     "text": [
      "Epoch 1/50\n",
      "1/1 - 3s - loss: 42.6914 - accuracy: 0.2481 - auc_43: 0.4225 - precision_43: 0.2481 - recall_43: 0.2481 - f1_score: 0.1990 - val_loss: 792.0065 - val_accuracy: 0.5156 - val_auc_43: 0.6367 - val_precision_43: 0.5156 - val_recall_43: 0.5156 - val_f1_score: 0.2268 - 3s/epoch - 3s/step\n",
      "Epoch 2/50\n",
      "1/1 - 0s - loss: 632.3184 - accuracy: 0.6202 - auc_43: 0.7151 - precision_43: 0.6202 - recall_43: 0.6202 - f1_score: 0.2552 - val_loss: 447.4039 - val_accuracy: 0.5156 - val_auc_43: 0.6367 - val_precision_43: 0.5156 - val_recall_43: 0.5156 - val_f1_score: 0.2268 - 337ms/epoch - 337ms/step\n",
      "Epoch 3/50\n",
      "1/1 - 0s - loss: 360.8496 - accuracy: 0.6202 - auc_43: 0.7151 - precision_43: 0.6202 - recall_43: 0.6202 - f1_score: 0.2552 - val_loss: 166.9570 - val_accuracy: 0.5156 - val_auc_43: 0.6367 - val_precision_43: 0.5156 - val_recall_43: 0.5156 - val_f1_score: 0.2268 - 308ms/epoch - 308ms/step\n",
      "Epoch 4/50\n",
      "1/1 - 0s - loss: 149.7251 - accuracy: 0.6202 - auc_43: 0.7151 - precision_43: 0.6202 - recall_43: 0.6202 - f1_score: 0.2552 - val_loss: 57.2048 - val_accuracy: 0.3906 - val_auc_43: 0.5364 - val_precision_43: 0.3906 - val_recall_43: 0.3906 - val_f1_score: 0.2691 - 333ms/epoch - 333ms/step\n",
      "Epoch 5/50\n",
      "1/1 - 0s - loss: 57.2436 - accuracy: 0.4186 - auc_43: 0.5408 - precision_43: 0.4186 - recall_43: 0.4186 - f1_score: 0.2881 - val_loss: 48.4480 - val_accuracy: 0.3594 - val_auc_43: 0.5536 - val_precision_43: 0.3607 - val_recall_43: 0.3438 - val_f1_score: 0.2111 - 338ms/epoch - 338ms/step\n",
      "Epoch 6/50\n",
      "1/1 - 0s - loss: 47.2949 - accuracy: 0.3566 - auc_43: 0.5374 - precision_43: 0.3443 - recall_43: 0.3256 - f1_score: 0.2464 - val_loss: 21.1697 - val_accuracy: 0.4375 - val_auc_43: 0.6261 - val_precision_43: 0.4821 - val_recall_43: 0.4219 - val_f1_score: 0.3023 - 307ms/epoch - 307ms/step\n",
      "Epoch 7/50\n",
      "1/1 - 0s - loss: 23.1963 - accuracy: 0.4806 - auc_43: 0.6479 - precision_43: 0.4804 - recall_43: 0.3798 - f1_score: 0.3258 - val_loss: 14.1476 - val_accuracy: 0.5156 - val_auc_43: 0.6472 - val_precision_43: 0.5472 - val_recall_43: 0.4531 - val_f1_score: 0.3170 - 324ms/epoch - 324ms/step\n",
      "Epoch 8/50\n",
      "1/1 - 0s - loss: 11.4485 - accuracy: 0.6434 - auc_43: 0.7590 - precision_43: 0.6701 - recall_43: 0.5039 - f1_score: 0.3752 - val_loss: 7.6674 - val_accuracy: 0.5625 - val_auc_43: 0.6527 - val_precision_43: 0.5581 - val_recall_43: 0.3750 - val_f1_score: 0.3384 - 337ms/epoch - 337ms/step\n",
      "Epoch 9/50\n",
      "1/1 - 0s - loss: 7.0269 - accuracy: 0.6434 - auc_43: 0.7305 - precision_43: 0.6506 - recall_43: 0.4186 - f1_score: 0.3505 - val_loss: 3.5810 - val_accuracy: 0.5781 - val_auc_43: 0.6779 - val_precision_43: 0.5862 - val_recall_43: 0.2656 - val_f1_score: 0.3465 - 303ms/epoch - 303ms/step\n",
      "Epoch 10/50\n",
      "1/1 - 0s - loss: 3.5152 - accuracy: 0.5891 - auc_43: 0.6941 - precision_43: 0.6154 - recall_43: 0.3101 - f1_score: 0.3059 - val_loss: 2.5448 - val_accuracy: 0.5000 - val_auc_43: 0.6042 - val_precision_43: 0.5625 - val_recall_43: 0.1406 - val_f1_score: 0.2810 - 325ms/epoch - 325ms/step\n",
      "Epoch 11/50\n",
      "1/1 - 0s - loss: 2.3327 - accuracy: 0.6047 - auc_43: 0.6793 - precision_43: 0.6667 - recall_43: 0.2171 - f1_score: 0.3711 - val_loss: 1.5271 - val_accuracy: 0.5000 - val_auc_43: 0.6341 - val_precision_43: 0.4444 - val_recall_43: 0.0625 - val_f1_score: 0.2803 - 343ms/epoch - 343ms/step\n",
      "Epoch 12/50\n",
      "1/1 - 0s - loss: 1.4834 - accuracy: 0.6047 - auc_43: 0.6994 - precision_43: 0.5217 - recall_43: 0.0930 - f1_score: 0.3994 - val_loss: 1.1166 - val_accuracy: 0.5000 - val_auc_43: 0.6253 - val_precision_43: 0.4286 - val_recall_43: 0.0469 - val_f1_score: 0.2652 - 297ms/epoch - 297ms/step\n",
      "Epoch 13/50\n",
      "1/1 - 0s - loss: 1.3839 - accuracy: 0.5814 - auc_43: 0.6994 - precision_43: 0.4375 - recall_43: 0.0543 - f1_score: 0.3372 - val_loss: 1.1490 - val_accuracy: 0.4688 - val_auc_43: 0.6678 - val_precision_43: 0.2500 - val_recall_43: 0.0156 - val_f1_score: 0.2317 - 341ms/epoch - 341ms/step\n",
      "Epoch 14/50\n",
      "1/1 - 0s - loss: 1.0980 - accuracy: 0.5736 - auc_43: 0.7051 - precision_43: 0.5385 - recall_43: 0.0543 - f1_score: 0.3384 - val_loss: 1.1372 - val_accuracy: 0.4375 - val_auc_43: 0.6833 - val_precision_43: 0.0000e+00 - val_recall_43: 0.0000e+00 - val_f1_score: 0.2051 - 326ms/epoch - 326ms/step\n"
     ]
    },
    {
     "data": {
      "image/png": "[encoded data removed]",
      "text/plain": [
       "<Figure size 432x288 with 1 Axes>"
      ]
     },
     "metadata": {
      "needs_background": "light"
     },
     "output_type": "display_data"
    }
   ],
   "source": [
    "model3 = build_convLSTM(n_features, n_length, n_outputs, y_train.shape[1])\n",
    "for train_index, val_index in kf.split(X):\n",
    "    X_train, X_val = X[train_index], X[val_index]\n",
    "    y_train, y_val = y[train_index], y[val_index]\n",
    "    model3 = build_convLSTM(n_features, n_length, n_outputs, y_train.shape[1])\n",
    "    history = train(model3, X_train, y_train, X_val, y_val, epochs=epochs, batch_size=batch_size)\n",
    "    plt.plot(history.history['loss'])\n",
    "    plt.show()"
   ]
  },
  {
   "cell_type": "code",
   "execution_count": 51,
   "metadata": {},
   "outputs": [],
   "source": [
    "member3 = KerasMember(name=\"ConvLSTM\", keras_model=model3,\n",
    "    train_batches=(X_train, y_train),\n",
    "    val_batches=(X_test, y_test))"
   ]
  },
  {
   "cell_type": "markdown",
   "metadata": {},
   "source": [
    "### Train RCNN (with early fusion)"
   ]
  },
  {
   "cell_type": "code",
   "execution_count": 52,
   "metadata": {},
   "outputs": [
    {
     "name": "stdout",
     "output_type": "stream",
     "text": [
      "Epoch 1/50\n",
      "1/1 - 2s - loss: 1.4723 - accuracy: 0.3750 - auc_45: 0.5375 - precision_45: 0.3293 - recall_45: 0.2109 - f1_score: 0.2981 - val_loss: 2158.5779 - val_accuracy: 0.6000 - val_auc_45: 0.7000 - val_precision_45: 0.6000 - val_recall_45: 0.6000 - val_f1_score: 0.2500 - 2s/epoch - 2s/step\n",
      "Epoch 2/50\n",
      "1/1 - 0s - loss: 29.7325 - accuracy: 0.5781 - auc_45: 0.6870 - precision_45: 0.5781 - recall_45: 0.5781 - f1_score: 0.2442 - val_loss: 1168.8829 - val_accuracy: 0.6000 - val_auc_45: 0.7000 - val_precision_45: 0.6000 - val_recall_45: 0.6000 - val_f1_score: 0.2500 - 334ms/epoch - 334ms/step\n",
      "Epoch 3/50\n",
      "1/1 - 0s - loss: 17.1208 - accuracy: 0.5781 - auc_45: 0.7013 - precision_45: 0.5781 - recall_45: 0.5781 - f1_score: 0.2442 - val_loss: 469.7871 - val_accuracy: 0.6000 - val_auc_45: 0.7000 - val_precision_45: 0.6000 - val_recall_45: 0.6000 - val_f1_score: 0.2500 - 388ms/epoch - 388ms/step\n",
      "Epoch 4/50\n",
      "1/1 - 0s - loss: 5.6057 - accuracy: 0.6328 - auc_45: 0.7516 - precision_45: 0.6378 - recall_45: 0.6328 - f1_score: 0.3629 - val_loss: 121.4500 - val_accuracy: 0.6000 - val_auc_45: 0.7000 - val_precision_45: 0.6000 - val_recall_45: 0.6000 - val_f1_score: 0.2500 - 337ms/epoch - 337ms/step\n",
      "Epoch 5/50\n",
      "1/1 - 0s - loss: 2.6436 - accuracy: 0.6641 - auc_45: 0.8359 - precision_45: 0.6641 - recall_45: 0.6641 - f1_score: 0.4527 - val_loss: 236.9864 - val_accuracy: 0.3077 - val_auc_45: 0.4808 - val_precision_45: 0.3077 - val_recall_45: 0.3077 - val_f1_score: 0.1569 - 328ms/epoch - 328ms/step\n",
      "Epoch 6/50\n",
      "1/1 - 0s - loss: 3.6648 - accuracy: 0.5234 - auc_45: 0.7231 - precision_45: 0.5234 - recall_45: 0.5234 - f1_score: 0.4267 - val_loss: 193.7633 - val_accuracy: 0.3077 - val_auc_45: 0.4808 - val_precision_45: 0.3077 - val_recall_45: 0.3077 - val_f1_score: 0.1569 - 346ms/epoch - 346ms/step\n"
     ]
    },
    {
     "data": {
      "image/png": "[encoded data removed]",
      "text/plain": [
       "<Figure size 432x288 with 1 Axes>"
      ]
     },
     "metadata": {
      "needs_background": "light"
     },
     "output_type": "display_data"
    },
    {
     "name": "stdout",
     "output_type": "stream",
     "text": [
      "Epoch 1/50\n",
      "1/1 - 2s - loss: 1.7483 - accuracy: 0.3256 - auc_46: 0.4646 - precision_46: 0.3068 - recall_46: 0.2093 - f1_score: 0.2787 - val_loss: 1541.2913 - val_accuracy: 0.6406 - val_auc_46: 0.7305 - val_precision_46: 0.6406 - val_recall_46: 0.6406 - val_f1_score: 0.2603 - 2s/epoch - 2s/step\n",
      "Epoch 2/50\n",
      "1/1 - 0s - loss: 29.4136 - accuracy: 0.5581 - auc_46: 0.6727 - precision_46: 0.5581 - recall_46: 0.5581 - f1_score: 0.2388 - val_loss: 840.7544 - val_accuracy: 0.6406 - val_auc_46: 0.7305 - val_precision_46: 0.6406 - val_recall_46: 0.6406 - val_f1_score: 0.2603 - 321ms/epoch - 321ms/step\n",
      "Epoch 3/50\n",
      "1/1 - 0s - loss: 19.1110 - accuracy: 0.5659 - auc_46: 0.6868 - precision_46: 0.5659 - recall_46: 0.5659 - f1_score: 0.2539 - val_loss: 315.5726 - val_accuracy: 0.6406 - val_auc_46: 0.7305 - val_precision_46: 0.6406 - val_recall_46: 0.6406 - val_f1_score: 0.2603 - 344ms/epoch - 344ms/step\n",
      "Epoch 4/50\n",
      "1/1 - 0s - loss: 7.7121 - accuracy: 0.6434 - auc_46: 0.7735 - precision_46: 0.6434 - recall_46: 0.6434 - f1_score: 0.4164 - val_loss: 227.3098 - val_accuracy: 0.2969 - val_auc_46: 0.4727 - val_precision_46: 0.2969 - val_recall_46: 0.2969 - val_f1_score: 0.1526 - 360ms/epoch - 360ms/step\n",
      "Epoch 5/50\n",
      "1/1 - 0s - loss: 7.6043 - accuracy: 0.4264 - auc_46: 0.6139 - precision_46: 0.4264 - recall_46: 0.4264 - f1_score: 0.2545 - val_loss: 205.2467 - val_accuracy: 0.2969 - val_auc_46: 0.4727 - val_precision_46: 0.2969 - val_recall_46: 0.2969 - val_f1_score: 0.1526 - 333ms/epoch - 333ms/step\n",
      "Epoch 6/50\n",
      "1/1 - 0s - loss: 5.3521 - accuracy: 0.4496 - auc_46: 0.6359 - precision_46: 0.4496 - recall_46: 0.4496 - f1_score: 0.2789 - val_loss: 83.7342 - val_accuracy: 0.2969 - val_auc_46: 0.4727 - val_precision_46: 0.2969 - val_recall_46: 0.2969 - val_f1_score: 0.1526 - 342ms/epoch - 342ms/step\n",
      "Epoch 7/50\n",
      "1/1 - 0s - loss: 2.3289 - accuracy: 0.5581 - auc_46: 0.7577 - precision_46: 0.5581 - recall_46: 0.5581 - f1_score: 0.3865 - val_loss: 56.1958 - val_accuracy: 0.6406 - val_auc_46: 0.7305 - val_precision_46: 0.6406 - val_recall_46: 0.6406 - val_f1_score: 0.2603 - 358ms/epoch - 358ms/step\n",
      "Epoch 8/50\n",
      "1/1 - 0s - loss: 1.6638 - accuracy: 0.6744 - auc_46: 0.8449 - precision_46: 0.6744 - recall_46: 0.6744 - f1_score: 0.6329 - val_loss: 65.1607 - val_accuracy: 0.6406 - val_auc_46: 0.7305 - val_precision_46: 0.6406 - val_recall_46: 0.6406 - val_f1_score: 0.2603 - 347ms/epoch - 347ms/step\n",
      "Epoch 9/50\n",
      "1/1 - 0s - loss: 2.0543 - accuracy: 0.6822 - auc_46: 0.8345 - precision_46: 0.6822 - recall_46: 0.6822 - f1_score: 0.6487 - val_loss: 60.5425 - val_accuracy: 0.6406 - val_auc_46: 0.7305 - val_precision_46: 0.6406 - val_recall_46: 0.6406 - val_f1_score: 0.2603 - 325ms/epoch - 325ms/step\n"
     ]
    },
    {
     "data": {
      "image/png": "[encoded data removed]",
      "text/plain": [
       "<Figure size 432x288 with 1 Axes>"
      ]
     },
     "metadata": {
      "needs_background": "light"
     },
     "output_type": "display_data"
    },
    {
     "name": "stdout",
     "output_type": "stream",
     "text": [
      "Epoch 1/50\n",
      "1/1 - 2s - loss: 1.8754 - accuracy: 0.2403 - auc_47: 0.4194 - precision_47: 0.2234 - recall_47: 0.1628 - f1_score: 0.1964 - val_loss: 641.6666 - val_accuracy: 0.5156 - val_auc_47: 0.6367 - val_precision_47: 0.5156 - val_recall_47: 0.5156 - val_f1_score: 0.2268 - 2s/epoch - 2s/step\n",
      "Epoch 2/50\n",
      "1/1 - 0s - loss: 9.5089 - accuracy: 0.6202 - auc_47: 0.7437 - precision_47: 0.6202 - recall_47: 0.6202 - f1_score: 0.2552 - val_loss: 824.2751 - val_accuracy: 0.4219 - val_auc_47: 0.5664 - val_precision_47: 0.4219 - val_recall_47: 0.4219 - val_f1_score: 0.1978 - 373ms/epoch - 373ms/step\n",
      "Epoch 3/50\n",
      "1/1 - 0s - loss: 18.0505 - accuracy: 0.3178 - auc_47: 0.5213 - precision_47: 0.3178 - recall_47: 0.3178 - f1_score: 0.1783 - val_loss: 251.7606 - val_accuracy: 0.4844 - val_auc_47: 0.6133 - val_precision_47: 0.4844 - val_recall_47: 0.4844 - val_f1_score: 0.3061 - 328ms/epoch - 328ms/step\n",
      "Epoch 4/50\n",
      "1/1 - 0s - loss: 5.8255 - accuracy: 0.6279 - auc_47: 0.7776 - precision_47: 0.6279 - recall_47: 0.6279 - f1_score: 0.4221 - val_loss: 451.2814 - val_accuracy: 0.5156 - val_auc_47: 0.6367 - val_precision_47: 0.5156 - val_recall_47: 0.5156 - val_f1_score: 0.2268 - 345ms/epoch - 345ms/step\n",
      "Epoch 5/50\n",
      "1/1 - 0s - loss: 7.1323 - accuracy: 0.6357 - auc_47: 0.7635 - precision_47: 0.6357 - recall_47: 0.6357 - f1_score: 0.2902 - val_loss: 466.0959 - val_accuracy: 0.5156 - val_auc_47: 0.6367 - val_precision_47: 0.5156 - val_recall_47: 0.5156 - val_f1_score: 0.2268 - 357ms/epoch - 357ms/step\n"
     ]
    },
    {
     "data": {
      "image/png": "[encoded data removed]",
      "text/plain": [
       "<Figure size 432x288 with 1 Axes>"
      ]
     },
     "metadata": {
      "needs_background": "light"
     },
     "output_type": "display_data"
    }
   ],
   "source": [
    "model4 = build_RCNN(n_features, n_length, n_outputs, y_train.shape[1])\n",
    "for train_index, val_index in kf.split(X):\n",
    "    X_train, X_val = X[train_index], X[val_index]\n",
    "    y_train, y_val = y[train_index], y[val_index]\n",
    "    model4 = build_RCNN(n_features, n_length, n_outputs, y_train.shape[1])\n",
    "    history = train(model4, X_train, y_train, X_val, y_val, epochs=epochs, batch_size=batch_size)\n",
    "    plt.plot(history.history['loss'])\n",
    "    plt.show()"
   ]
  },
  {
   "cell_type": "code",
   "execution_count": 53,
   "metadata": {},
   "outputs": [],
   "source": [
    "member4 = KerasMember(name=\"RCNN\", keras_model=model4,\n",
    "    train_batches=(X_train, y_train),\n",
    "    val_batches=(X_test, y_test))"
   ]
  },
  {
   "cell_type": "markdown",
   "metadata": {},
   "source": [
    "### Stacking Ensemble"
   ]
  },
  {
   "cell_type": "code",
   "execution_count": 54,
   "metadata": {},
   "outputs": [],
   "source": [
    "early_stackEnsemble = StackEnsemble()\n",
    "early_stackEnsemble.add_member(member1)\n",
    "early_stackEnsemble.add_member(member2)\n",
    "early_stackEnsemble.add_member(member3)\n",
    "early_stackEnsemble.add_member(member4)"
   ]
  },
  {
   "cell_type": "code",
   "execution_count": 55,
   "metadata": {},
   "outputs": [
    {
     "data": {
      "text/plain": [
       "RandomForestClassifier(max_depth=4, n_jobs=20)"
      ]
     },
     "execution_count": 55,
     "metadata": {},
     "output_type": "execute_result"
    }
   ],
   "source": [
    "early_stackEnsemble.fit()"
   ]
  },
  {
   "cell_type": "markdown",
   "metadata": {},
   "source": [
    "### Dirichlet Markov Ensemble"
   ]
  },
  {
   "cell_type": "code",
   "execution_count": 56,
   "metadata": {},
   "outputs": [],
   "source": [
    "early_dirichletEnsemble = DirichletEnsemble()\n",
    "early_dirichletEnsemble.add_member(member1)\n",
    "early_dirichletEnsemble.add_member(member2)\n",
    "early_dirichletEnsemble.add_member(member3)\n",
    "early_dirichletEnsemble.add_member(member4)"
   ]
  },
  {
   "cell_type": "code",
   "execution_count": 57,
   "metadata": {},
   "outputs": [],
   "source": [
    "early_dirichletEnsemble.fit()"
   ]
  },
  {
   "cell_type": "markdown",
   "metadata": {},
   "source": [
    "## 3. Late Fusion - Fusion is performed at decision level\n",
    "\n",
    "In late fusion, uni-modal classifiers are trained individually and their predictions are aggregated somehow. \n",
    "I consider two types of late fusion approaches:\n",
    "\n",
    "1. Using meta-learner ensembles; and \n",
    "\n",
    "Each ensemble member provides predictions to train a meta-learner (ensemble) and that ensemble is in charge of producing the final classification. I have tested a Stacking Ensemble with Majority voting, and a Dirichlet Markov Ensemble with weighted soft voting.\n",
    "\n",
    "A drawback with the ensemble approach is that I only work with two modalities => no ensemble if one modality is missing. It would have been more interesting with 3+ modalities. Additionally, I can't use models that require different input shapes which is slightly limiting.\n",
    "\n",
    "Another drawback could be that I'm unsure how diverse my ensemble members are, and a lack of diversity could result in them making the same errors and wrong guesses => no real improvement in performance.\n",
    "\n",
    "2. Model-free approaches where fusion is performed at decision level. "
   ]
  },
  {
   "cell_type": "code",
   "execution_count": null,
   "metadata": {},
   "outputs": [],
   "source": []
  },
  {
   "cell_type": "markdown",
   "metadata": {},
   "source": [
    "## Performance Evaluation on Test set"
   ]
  },
  {
   "cell_type": "markdown",
   "metadata": {},
   "source": [
    "### Uni-Modal Approaches (only Body/Skeleton data)"
   ]
  },
  {
   "cell_type": "code",
   "execution_count": 58,
   "metadata": {},
   "outputs": [
    {
     "name": "stdout",
     "output_type": "stream",
     "text": [
      "BiLSTM - ROC/AUC: 0.50, Accuracy: 25.56%, Precision: 0.14, Recall: 0.27, F1 score: 0.17 \n",
      "\n",
      "CNN+LSTM - ROC/AUC: 0.49, Accuracy: 32.22%, Precision: 0.08, Recall: 0.25, F1 score: 0.12 \n",
      "\n",
      "ConvLSTM - ROC/AUC: 0.50, Accuracy: 14.44%, Precision: 0.04, Recall: 0.25, F1 score: 0.06 \n",
      "\n",
      "RCNN - ROC/AUC: 0.47, Accuracy: 14.44%, Precision: 0.04, Recall: 0.25, F1 score: 0.06 \n",
      "\n",
      "StackEnsemble - ROC/AUC: 0.50, Accuracy: 30.00%, Precision: 0.11, Recall: 0.24, F1 score: 0.14\n"
     ]
    }
   ],
   "source": [
    "s = skeleton_stackEnsemble.describe()"
   ]
  },
  {
   "cell_type": "code",
   "execution_count": 59,
   "metadata": {},
   "outputs": [
    {
     "name": "stdout",
     "output_type": "stream",
     "text": [
      "BiLSTM (weight: 0.4386)\n",
      "CNN+LSTM (weight: 0.1027)\n",
      "ConvLSTM (weight: 0.3690)\n",
      "RCNN (weight: 0.0897)\n",
      "DirichletEnsemble - ROC/AUC: 0.51, Accuracy: 32.22%, Precision: 0.16, Recall: 0.27, F1 score: 0.17\n"
     ]
    }
   ],
   "source": [
    "s = skeleton_dirichletEnsemble.describe()"
   ]
  },
  {
   "cell_type": "markdown",
   "metadata": {},
   "source": [
    "### Uni-Modal Approaches (only Facial Expression/Action Units)"
   ]
  },
  {
   "cell_type": "code",
   "execution_count": 60,
   "metadata": {},
   "outputs": [
    {
     "name": "stdout",
     "output_type": "stream",
     "text": [
      "BiLSTM - ROC/AUC: 0.46, Accuracy: 59.52%, Precision: 0.20, Recall: 0.33, F1 score: 0.25 \n",
      "\n",
      "CNN+LSTM - ROC/AUC: 0.50, Accuracy: 59.52%, Precision: 0.20, Recall: 0.33, F1 score: 0.25 \n",
      "\n",
      "ConvLSTM - ROC/AUC: 0.39, Accuracy: 59.52%, Precision: 0.20, Recall: 0.33, F1 score: 0.25 \n",
      "\n",
      "RCNN - ROC/AUC: 0.47, Accuracy: 59.52%, Precision: 0.20, Recall: 0.33, F1 score: 0.25 \n",
      "\n",
      "StackEnsemble - ROC/AUC: 0.40, Accuracy: 40.48%, Precision: 0.20, Recall: 0.24, F1 score: 0.22\n"
     ]
    }
   ],
   "source": [
    "s = facial_stackEnsemble.describe()"
   ]
  },
  {
   "cell_type": "code",
   "execution_count": 61,
   "metadata": {},
   "outputs": [
    {
     "name": "stdout",
     "output_type": "stream",
     "text": [
      "BiLSTM (weight: 0.0704)\n",
      "CNN+LSTM (weight: 0.9139)\n",
      "ConvLSTM (weight: 0.0128)\n",
      "RCNN (weight: 0.0029)\n",
      "DirichletEnsemble - ROC/AUC: 0.50, Accuracy: 59.52%, Precision: 0.20, Recall: 0.33, F1 score: 0.25\n"
     ]
    }
   ],
   "source": [
    "s = facial_dirichletEnsemble.describe()"
   ]
  },
  {
   "cell_type": "markdown",
   "metadata": {},
   "source": [
    "### Early Fusion Approaches (features combined at input level)"
   ]
  },
  {
   "cell_type": "code",
   "execution_count": 62,
   "metadata": {},
   "outputs": [
    {
     "name": "stdout",
     "output_type": "stream",
     "text": [
      "BiLSTM - ROC/AUC: 0.45, Accuracy: 59.52%, Precision: 0.20, Recall: 0.33, F1 score: 0.25 \n",
      "\n",
      "CNN+LSTM - ROC/AUC: 0.60, Accuracy: 59.52%, Precision: 0.20, Recall: 0.33, F1 score: 0.25 \n",
      "\n",
      "ConvLSTM - ROC/AUC: 0.51, Accuracy: 57.14%, Precision: 0.20, Recall: 0.32, F1 score: 0.24 \n",
      "\n",
      "RCNN - ROC/AUC: 0.50, Accuracy: 59.52%, Precision: 0.20, Recall: 0.33, F1 score: 0.25 \n",
      "\n",
      "StackEnsemble - ROC/AUC: 0.49, Accuracy: 59.52%, Precision: 0.20, Recall: 0.33, F1 score: 0.25\n"
     ]
    }
   ],
   "source": [
    "s = early_stackEnsemble.describe()"
   ]
  },
  {
   "cell_type": "code",
   "execution_count": 63,
   "metadata": {},
   "outputs": [
    {
     "name": "stdout",
     "output_type": "stream",
     "text": [
      "BiLSTM (weight: 0.0640)\n",
      "CNN+LSTM (weight: 0.0116)\n",
      "ConvLSTM (weight: 0.8888)\n",
      "RCNN (weight: 0.0355)\n",
      "DirichletEnsemble - ROC/AUC: 0.60, Accuracy: 59.52%, Precision: 0.20, Recall: 0.33, F1 score: 0.25\n"
     ]
    }
   ],
   "source": [
    "s = early_dirichletEnsemble.describe()"
   ]
  }
 ],
 "metadata": {
  "interpreter": {
   "hash": "225abd0b4b41c85229fb7285a24282bb8b7c5c494a1c5011beaea88d2c1fa3cf"
  },
  "kernelspec": {
   "display_name": "Python 3.9.10 ('masters-thesis-dSEc-4wZ')",
   "language": "python",
   "name": "python3"
  },
  "language_info": {
   "codemirror_mode": {
    "name": "ipython",
    "version": 3
   },
   "file_extension": ".py",
   "mimetype": "text/x-python",
   "name": "python",
   "nbconvert_exporter": "python",
   "pygments_lexer": "ipython3",
   "version": "3.9.10"
  },
  "orig_nbformat": 4
 },
 "nbformat": 4,
 "nbformat_minor": 2
}
