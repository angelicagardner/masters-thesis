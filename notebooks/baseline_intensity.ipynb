{
 "cells": [
  {
   "cell_type": "markdown",
   "metadata": {},
   "source": [
    "# Baseline Results for Pain Intensity Estimation (excl. No Pain class)"
   ]
  },
  {
   "cell_type": "code",
   "execution_count": 1,
   "metadata": {},
   "outputs": [],
   "source": [
    "import os\n",
    "os.environ['TF_CPP_MIN_LOG_LEVEL'] = '3'\n",
    "import warnings\n",
    "warnings.filterwarnings(\"ignore\")\n",
    "\n",
    "import numpy as np\n",
    "import pandas as pd\n",
    "import matplotlib.pyplot as plt\n",
    "import tensorflow as tf\n",
    "import tensorflow_addons as tfa\n",
    "\n",
    "from sklearn.utils import compute_class_weight\n",
    "from sklearn.metrics import balanced_accuracy_score\n",
    "from sklearn.model_selection import KFold\n",
    "from tensorflow.keras.layers import Input, LSTM, Dense, Concatenate\n",
    "from tensorflow.keras import Model\n",
    "\n",
    "import sys\n",
    "module_path = os.path.abspath(os.getcwd() + '\\\\..')\n",
    "if module_path not in sys.path:\n",
    "    sys.path.append(module_path)\n",
    "from src.data.load_dataset import load_dataset, get_class_names, load_fusioned_dataset\n",
    "from src.lib.DeepStack.deepstack.base import KerasMember\n",
    "from src.lib.DeepStack.deepstack.ensemble import DirichletEnsemble"
   ]
  },
  {
   "cell_type": "code",
   "execution_count": 2,
   "metadata": {},
   "outputs": [],
   "source": [
    "epochs, batch_size = 50, 32\n",
    "kf = KFold(n_splits=3, shuffle=True, random_state=42)\n",
    "\n",
    "results = []\n",
    "\n",
    "early_stopping = tf.keras.callbacks.EarlyStopping(\n",
    "        monitor=\"val_loss\",\n",
    "        patience=10,\n",
    "        restore_best_weights=True,\n",
    "    )"
   ]
  },
  {
   "cell_type": "code",
   "execution_count": 3,
   "metadata": {},
   "outputs": [],
   "source": [
    "class Baseline():\n",
    "    def __init__(self, n_features, n_length, n_outputs):\n",
    "        input = Input(shape=(n_length, n_features))\n",
    "        lstm = LSTM(50)(input)\n",
    "        dense = Dense(50)(lstm)\n",
    "        output = Dense(units=n_outputs, activation='softmax')(dense)\n",
    "        model = Model(inputs=input, outputs=output)\n",
    "        model.compile(loss='categorical_crossentropy', optimizer=tf.keras.optimizers.Adam(learning_rate=0.0001), metrics=['accuracy', tf.keras.metrics.AUC(), tf.keras.metrics.Precision(), tf.keras.metrics.Recall(), tfa.metrics.F1Score(num_classes=n_outputs, average='macro')])\n",
    "        self.model = model\n",
    "\n",
    "    def train(self, X_train, y_train, X_val, y_val, epochs, batch_size, class_weight):\n",
    "        history = self.model.fit(X_train, y_train, validation_data=(X_val, y_val), epochs=epochs, batch_size=batch_size, class_weight=class_weight, verbose=2)\n",
    "        return history\n",
    "\n",
    "    def evaluate(self, X_test, y_test):\n",
    "        results = self.model.evaluate(X_test, y_test, verbose=0)\n",
    "        return results\n",
    "\n",
    "    def predict(self, X_test):\n",
    "        predictions = self.model.predict(X_test)\n",
    "        return predictions\n",
    "\n",
    "    def summary(self):\n",
    "        self.model.summary()"
   ]
  },
  {
   "cell_type": "markdown",
   "metadata": {},
   "source": [
    "## 1. Unimodal Body Modality (Skeleton)"
   ]
  },
  {
   "cell_type": "markdown",
   "metadata": {},
   "source": [
    "### Dataset"
   ]
  },
  {
   "cell_type": "code",
   "execution_count": 4,
   "metadata": {},
   "outputs": [
    {
     "name": "stdout",
     "output_type": "stream",
     "text": [
      "(380, 350, 35) (380, 3)\n",
      "(235, 350, 35) (235, 3)\n"
     ]
    }
   ],
   "source": [
    "X_train, X_test, y_train, y_test = load_dataset('skeleton', level=True, nopain=False)\n",
    "X_train = X_train.reshape(X_train.shape[0], X_train.shape[2], X_train.shape[3])\n",
    "X_test = X_test.reshape(X_test.shape[0], X_test.shape[2], X_test.shape[3])\n",
    "X = X_train.copy()\n",
    "y = y_train.copy()\n",
    "\n",
    "print(X_train.shape, y_train.shape)\n",
    "print(X_test.shape, y_test.shape)\n",
    "\n",
    "n_length, n_features, n_outputs = X_train.shape[1], X_train.shape[-1], y_train.shape[1]"
   ]
  },
  {
   "cell_type": "code",
   "execution_count": 5,
   "metadata": {},
   "outputs": [
    {
     "data": {
      "text/plain": [
       "Mild        219\n",
       "Moderate    158\n",
       "Severe        3\n",
       "dtype: int64"
      ]
     },
     "execution_count": 5,
     "metadata": {},
     "output_type": "execute_result"
    }
   ],
   "source": [
    "classes = get_class_names('skeleton', level=True, nopain=False)\n",
    "tmp = pd.DataFrame(classes)\n",
    "classes = tmp.value_counts()\n",
    "classes"
   ]
  },
  {
   "cell_type": "code",
   "execution_count": 6,
   "metadata": {},
   "outputs": [
    {
     "data": {
      "text/plain": [
       "{0: 0.578386605783866, 1: 0.8016877637130801, 2: 42.22222222222222}"
      ]
     },
     "execution_count": 6,
     "metadata": {},
     "output_type": "execute_result"
    }
   ],
   "source": [
    "y_integers = np.argmax(y_train, axis=1)\n",
    "class_weights = compute_class_weight(class_weight='balanced', classes=np.unique(y_integers), y=y_integers)\n",
    "d_class_weights = dict(enumerate(class_weights))\n",
    "d_class_weights"
   ]
  },
  {
   "cell_type": "code",
   "execution_count": 7,
   "metadata": {},
   "outputs": [
    {
     "name": "stdout",
     "output_type": "stream",
     "text": [
      "Model: \"model\"\n",
      "_________________________________________________________________\n",
      " Layer (type)                Output Shape              Param #   \n",
      "=================================================================\n",
      " input_1 (InputLayer)        [(None, 350, 35)]         0         \n",
      "                                                                 \n",
      " lstm (LSTM)                 (None, 50)                17200     \n",
      "                                                                 \n",
      " dense (Dense)               (None, 50)                2550      \n",
      "                                                                 \n",
      " dense_1 (Dense)             (None, 3)                 153       \n",
      "                                                                 \n",
      "=================================================================\n",
      "Total params: 19,903\n",
      "Trainable params: 19,903\n",
      "Non-trainable params: 0\n",
      "_________________________________________________________________\n"
     ]
    }
   ],
   "source": [
    "model = Baseline(n_features, n_length, n_outputs)\n",
    "model.summary()"
   ]
  },
  {
   "cell_type": "markdown",
   "metadata": {},
   "source": [
    "### Baseline Model"
   ]
  },
  {
   "cell_type": "code",
   "execution_count": 8,
   "metadata": {},
   "outputs": [
    {
     "name": "stdout",
     "output_type": "stream",
     "text": [
      "Epoch 1/50\n",
      "8/8 - 4s - loss: 1.5413 - accuracy: 0.5652 - auc_1: 0.7905 - precision_1: 0.6126 - recall_1: 0.4625 - f1_score: 0.2407 - val_loss: 0.8211 - val_accuracy: 0.5906 - val_auc_1: 0.8190 - val_precision_1: 0.6190 - val_recall_1: 0.4094 - val_f1_score: 0.2475 - 4s/epoch - 439ms/step\n",
      "Epoch 2/50\n",
      "8/8 - 1s - loss: 1.4919 - accuracy: 0.5652 - auc_1: 0.7891 - precision_1: 0.6056 - recall_1: 0.3399 - f1_score: 0.2407 - val_loss: 0.8210 - val_accuracy: 0.5984 - val_auc_1: 0.8211 - val_precision_1: 0.6721 - val_recall_1: 0.3228 - val_f1_score: 0.2721 - 734ms/epoch - 92ms/step\n",
      "Epoch 3/50\n",
      "8/8 - 1s - loss: 1.4537 - accuracy: 0.5731 - auc_1: 0.7917 - precision_1: 0.6126 - recall_1: 0.2688 - f1_score: 0.2600 - val_loss: 0.8249 - val_accuracy: 0.6142 - val_auc_1: 0.8248 - val_precision_1: 0.6727 - val_recall_1: 0.2913 - val_f1_score: 0.3061 - 683ms/epoch - 85ms/step\n",
      "Epoch 4/50\n",
      "8/8 - 1s - loss: 1.4350 - accuracy: 0.5771 - auc_1: 0.7922 - precision_1: 0.6038 - recall_1: 0.2530 - f1_score: 0.3081 - val_loss: 0.8343 - val_accuracy: 0.6142 - val_auc_1: 0.8246 - val_precision_1: 0.6400 - val_recall_1: 0.2520 - val_f1_score: 0.3290 - 767ms/epoch - 96ms/step\n",
      "Epoch 5/50\n",
      "8/8 - 1s - loss: 1.3890 - accuracy: 0.5731 - auc_1: 0.7939 - precision_1: 0.6122 - recall_1: 0.2372 - f1_score: 0.3275 - val_loss: 0.8375 - val_accuracy: 0.6378 - val_auc_1: 0.8249 - val_precision_1: 0.6596 - val_recall_1: 0.2441 - val_f1_score: 0.3743 - 766ms/epoch - 96ms/step\n",
      "Epoch 6/50\n",
      "8/8 - 1s - loss: 1.3775 - accuracy: 0.5810 - auc_1: 0.7977 - precision_1: 0.6395 - recall_1: 0.2174 - f1_score: 0.3558 - val_loss: 0.8406 - val_accuracy: 0.6535 - val_auc_1: 0.8271 - val_precision_1: 0.6579 - val_recall_1: 0.1969 - val_f1_score: 0.4025 - 999ms/epoch - 125ms/step\n",
      "Epoch 7/50\n",
      "8/8 - 1s - loss: 1.3482 - accuracy: 0.5652 - auc_1: 0.7960 - precision_1: 0.6714 - recall_1: 0.1858 - f1_score: 0.3584 - val_loss: 0.8493 - val_accuracy: 0.6299 - val_auc_1: 0.8222 - val_precision_1: 0.6857 - val_recall_1: 0.1890 - val_f1_score: 0.4009 - 1s/epoch - 130ms/step\n",
      "Epoch 8/50\n",
      "8/8 - 1s - loss: 1.3119 - accuracy: 0.5810 - auc_1: 0.7998 - precision_1: 0.6818 - recall_1: 0.1779 - f1_score: 0.3757 - val_loss: 0.8591 - val_accuracy: 0.6220 - val_auc_1: 0.8125 - val_precision_1: 0.6970 - val_recall_1: 0.1811 - val_f1_score: 0.4028 - 942ms/epoch - 118ms/step\n",
      "Epoch 9/50\n",
      "8/8 - 1s - loss: 1.2912 - accuracy: 0.5889 - auc_1: 0.8026 - precision_1: 0.6875 - recall_1: 0.1739 - f1_score: 0.3823 - val_loss: 0.8700 - val_accuracy: 0.6063 - val_auc_1: 0.8080 - val_precision_1: 0.6875 - val_recall_1: 0.1732 - val_f1_score: 0.3953 - 873ms/epoch - 109ms/step\n",
      "Epoch 10/50\n",
      "8/8 - 1s - loss: 1.2706 - accuracy: 0.5771 - auc_1: 0.8050 - precision_1: 0.6875 - recall_1: 0.1739 - f1_score: 0.3764 - val_loss: 0.8766 - val_accuracy: 0.6063 - val_auc_1: 0.8109 - val_precision_1: 0.7097 - val_recall_1: 0.1732 - val_f1_score: 0.3953 - 875ms/epoch - 109ms/step\n",
      "Epoch 11/50\n",
      "8/8 - 1s - loss: 1.2556 - accuracy: 0.5850 - auc_1: 0.8048 - precision_1: 0.7097 - recall_1: 0.1739 - f1_score: 0.3836 - val_loss: 0.8846 - val_accuracy: 0.6142 - val_auc_1: 0.8100 - val_precision_1: 0.7586 - val_recall_1: 0.1732 - val_f1_score: 0.4029 - 726ms/epoch - 91ms/step\n",
      "Epoch 12/50\n",
      "8/8 - 1s - loss: 1.2313 - accuracy: 0.5850 - auc_1: 0.8053 - precision_1: 0.7097 - recall_1: 0.1739 - f1_score: 0.3836 - val_loss: 0.8964 - val_accuracy: 0.5906 - val_auc_1: 0.8058 - val_precision_1: 0.7586 - val_recall_1: 0.1732 - val_f1_score: 0.3875 - 688ms/epoch - 86ms/step\n",
      "Epoch 13/50\n",
      "8/8 - 1s - loss: 1.2223 - accuracy: 0.5810 - auc_1: 0.8019 - precision_1: 0.7333 - recall_1: 0.1739 - f1_score: 0.3813 - val_loss: 0.9097 - val_accuracy: 0.5984 - val_auc_1: 0.8028 - val_precision_1: 0.7692 - val_recall_1: 0.1575 - val_f1_score: 0.3935 - 668ms/epoch - 83ms/step\n",
      "Epoch 14/50\n",
      "8/8 - 1s - loss: 1.2101 - accuracy: 0.5810 - auc_1: 0.7994 - precision_1: 0.7273 - recall_1: 0.1581 - f1_score: 0.3813 - val_loss: 0.9204 - val_accuracy: 0.5669 - val_auc_1: 0.8005 - val_precision_1: 0.7826 - val_recall_1: 0.1417 - val_f1_score: 0.3719 - 753ms/epoch - 94ms/step\n",
      "Epoch 15/50\n",
      "8/8 - 1s - loss: 1.1915 - accuracy: 0.5771 - auc_1: 0.7983 - precision_1: 0.7347 - recall_1: 0.1423 - f1_score: 0.5431 - val_loss: 0.9227 - val_accuracy: 0.5827 - val_auc_1: 0.7981 - val_precision_1: 0.7619 - val_recall_1: 0.1260 - val_f1_score: 0.3843 - 676ms/epoch - 85ms/step\n",
      "Epoch 16/50\n",
      "8/8 - 1s - loss: 1.1803 - accuracy: 0.5810 - auc_1: 0.7945 - precision_1: 0.7447 - recall_1: 0.1383 - f1_score: 0.5463 - val_loss: 0.9324 - val_accuracy: 0.5748 - val_auc_1: 0.7960 - val_precision_1: 0.8000 - val_recall_1: 0.1260 - val_f1_score: 0.3781 - 679ms/epoch - 85ms/step\n",
      "Epoch 17/50\n",
      "8/8 - 1s - loss: 1.1716 - accuracy: 0.5731 - auc_1: 0.7888 - precision_1: 0.7381 - recall_1: 0.1225 - f1_score: 0.5230 - val_loss: 0.9482 - val_accuracy: 0.5512 - val_auc_1: 0.7865 - val_precision_1: 0.7895 - val_recall_1: 0.1181 - val_f1_score: 0.3668 - 649ms/epoch - 81ms/step\n",
      "Epoch 18/50\n",
      "8/8 - 1s - loss: 1.1588 - accuracy: 0.5613 - auc_1: 0.7849 - precision_1: 0.7073 - recall_1: 0.1146 - f1_score: 0.4557 - val_loss: 0.9508 - val_accuracy: 0.5512 - val_auc_1: 0.7850 - val_precision_1: 0.7895 - val_recall_1: 0.1181 - val_f1_score: 0.3668 - 656ms/epoch - 82ms/step\n",
      "Epoch 19/50\n",
      "8/8 - 1s - loss: 1.1506 - accuracy: 0.5573 - auc_1: 0.7779 - precision_1: 0.7000 - recall_1: 0.1107 - f1_score: 0.4422 - val_loss: 0.9600 - val_accuracy: 0.5276 - val_auc_1: 0.7785 - val_precision_1: 0.7895 - val_recall_1: 0.1181 - val_f1_score: 0.3507 - 657ms/epoch - 82ms/step\n",
      "Epoch 20/50\n",
      "8/8 - 1s - loss: 1.1383 - accuracy: 0.5573 - auc_1: 0.7756 - precision_1: 0.7105 - recall_1: 0.1067 - f1_score: 0.4462 - val_loss: 0.9658 - val_accuracy: 0.5512 - val_auc_1: 0.7710 - val_precision_1: 0.7857 - val_recall_1: 0.0866 - val_f1_score: 0.3685 - 698ms/epoch - 87ms/step\n",
      "Epoch 21/50\n",
      "8/8 - 1s - loss: 1.1364 - accuracy: 0.5652 - auc_1: 0.7627 - precision_1: 0.6842 - recall_1: 0.1028 - f1_score: 0.4497 - val_loss: 0.9782 - val_accuracy: 0.5433 - val_auc_1: 0.7596 - val_precision_1: 0.7333 - val_recall_1: 0.0866 - val_f1_score: 0.3651 - 692ms/epoch - 87ms/step\n",
      "Epoch 22/50\n",
      "8/8 - 1s - loss: 1.1243 - accuracy: 0.5573 - auc_1: 0.7532 - precision_1: 0.7027 - recall_1: 0.1028 - f1_score: 0.4390 - val_loss: 0.9821 - val_accuracy: 0.5197 - val_auc_1: 0.7545 - val_precision_1: 0.7500 - val_recall_1: 0.0945 - val_f1_score: 0.3504 - 674ms/epoch - 84ms/step\n",
      "Epoch 23/50\n",
      "8/8 - 1s - loss: 1.1196 - accuracy: 0.5455 - auc_1: 0.7419 - precision_1: 0.7027 - recall_1: 0.1028 - f1_score: 0.4280 - val_loss: 0.9934 - val_accuracy: 0.5354 - val_auc_1: 0.7342 - val_precision_1: 0.7333 - val_recall_1: 0.0866 - val_f1_score: 0.3649 - 690ms/epoch - 86ms/step\n",
      "Epoch 24/50\n",
      "8/8 - 1s - loss: 1.1114 - accuracy: 0.5534 - auc_1: 0.7318 - precision_1: 0.7105 - recall_1: 0.1067 - f1_score: 0.4359 - val_loss: 0.9897 - val_accuracy: 0.5354 - val_auc_1: 0.7349 - val_precision_1: 0.6875 - val_recall_1: 0.0866 - val_f1_score: 0.3634 - 697ms/epoch - 87ms/step\n",
      "Epoch 25/50\n",
      "8/8 - 1s - loss: 1.1019 - accuracy: 0.5415 - auc_1: 0.7213 - precision_1: 0.7250 - recall_1: 0.1146 - f1_score: 0.4397 - val_loss: 0.9997 - val_accuracy: 0.5276 - val_auc_1: 0.7143 - val_precision_1: 0.6875 - val_recall_1: 0.0866 - val_f1_score: 0.3569 - 730ms/epoch - 91ms/step\n",
      "Epoch 26/50\n",
      "8/8 - 1s - loss: 1.1001 - accuracy: 0.4980 - auc_1: 0.6992 - precision_1: 0.7500 - recall_1: 0.1186 - f1_score: 0.3966 - val_loss: 1.0127 - val_accuracy: 0.5118 - val_auc_1: 0.6863 - val_precision_1: 0.6875 - val_recall_1: 0.0866 - val_f1_score: 0.3503 - 645ms/epoch - 81ms/step\n",
      "Epoch 27/50\n",
      "8/8 - 1s - loss: 1.0881 - accuracy: 0.5178 - auc_1: 0.6919 - precision_1: 0.7857 - recall_1: 0.1304 - f1_score: 0.4147 - val_loss: 1.0124 - val_accuracy: 0.5276 - val_auc_1: 0.6843 - val_precision_1: 0.6875 - val_recall_1: 0.0866 - val_f1_score: 0.3601 - 659ms/epoch - 82ms/step\n",
      "Epoch 28/50\n",
      "8/8 - 1s - loss: 1.0846 - accuracy: 0.5217 - auc_1: 0.6924 - precision_1: 0.7857 - recall_1: 0.1304 - f1_score: 0.4151 - val_loss: 1.0144 - val_accuracy: 0.5039 - val_auc_1: 0.6760 - val_precision_1: 0.7059 - val_recall_1: 0.0945 - val_f1_score: 0.3467 - 812ms/epoch - 102ms/step\n",
      "Epoch 29/50\n",
      "8/8 - 1s - loss: 1.0799 - accuracy: 0.4901 - auc_1: 0.6770 - precision_1: 0.7500 - recall_1: 0.1186 - f1_score: 0.3891 - val_loss: 1.0211 - val_accuracy: 0.4567 - val_auc_1: 0.6593 - val_precision_1: 0.5882 - val_recall_1: 0.0787 - val_f1_score: 0.3294 - 773ms/epoch - 97ms/step\n",
      "Epoch 30/50\n",
      "8/8 - 1s - loss: 1.0741 - accuracy: 0.4743 - auc_1: 0.6659 - precision_1: 0.7727 - recall_1: 0.1344 - f1_score: 0.3770 - val_loss: 1.0227 - val_accuracy: 0.4567 - val_auc_1: 0.6536 - val_precision_1: 0.6111 - val_recall_1: 0.0866 - val_f1_score: 0.3294 - 639ms/epoch - 80ms/step\n",
      "Epoch 31/50\n",
      "8/8 - 1s - loss: 1.0713 - accuracy: 0.4585 - auc_1: 0.6556 - precision_1: 0.7619 - recall_1: 0.1265 - f1_score: 0.3652 - val_loss: 1.0276 - val_accuracy: 0.4567 - val_auc_1: 0.6429 - val_precision_1: 0.5882 - val_recall_1: 0.0787 - val_f1_score: 0.3338 - 693ms/epoch - 87ms/step\n",
      "Epoch 32/50\n",
      "8/8 - 1s - loss: 1.0687 - accuracy: 0.4545 - auc_1: 0.6513 - precision_1: 0.7561 - recall_1: 0.1225 - f1_score: 0.3622 - val_loss: 1.0211 - val_accuracy: 0.4567 - val_auc_1: 0.6528 - val_precision_1: 0.6316 - val_recall_1: 0.0945 - val_f1_score: 0.3324 - 634ms/epoch - 79ms/step\n",
      "Epoch 33/50\n",
      "8/8 - 1s - loss: 1.0620 - accuracy: 0.4545 - auc_1: 0.6489 - precision_1: 0.7619 - recall_1: 0.1265 - f1_score: 0.3611 - val_loss: 1.0314 - val_accuracy: 0.4409 - val_auc_1: 0.6371 - val_precision_1: 0.6471 - val_recall_1: 0.0866 - val_f1_score: 0.3224 - 631ms/epoch - 79ms/step\n",
      "Epoch 34/50\n",
      "8/8 - 1s - loss: 1.0592 - accuracy: 0.4466 - auc_1: 0.6375 - precision_1: 0.7632 - recall_1: 0.1146 - f1_score: 0.3559 - val_loss: 1.0357 - val_accuracy: 0.4331 - val_auc_1: 0.6260 - val_precision_1: 0.6250 - val_recall_1: 0.0787 - val_f1_score: 0.3253 - 632ms/epoch - 79ms/step\n",
      "Epoch 35/50\n",
      "8/8 - 1s - loss: 1.0570 - accuracy: 0.4466 - auc_1: 0.6254 - precision_1: 0.7368 - recall_1: 0.1107 - f1_score: 0.3593 - val_loss: 1.0418 - val_accuracy: 0.4173 - val_auc_1: 0.6135 - val_precision_1: 0.6250 - val_recall_1: 0.0787 - val_f1_score: 0.3184 - 637ms/epoch - 80ms/step\n",
      "Epoch 36/50\n",
      "8/8 - 1s - loss: 1.0555 - accuracy: 0.4269 - auc_1: 0.6113 - precision_1: 0.6944 - recall_1: 0.0988 - f1_score: 0.3453 - val_loss: 1.0523 - val_accuracy: 0.3937 - val_auc_1: 0.5971 - val_precision_1: 0.6000 - val_recall_1: 0.0709 - val_f1_score: 0.2994 - 646ms/epoch - 81ms/step\n",
      "Epoch 37/50\n",
      "8/8 - 1s - loss: 1.0523 - accuracy: 0.4111 - auc_1: 0.6051 - precision_1: 0.7250 - recall_1: 0.1146 - f1_score: 0.3311 - val_loss: 1.0464 - val_accuracy: 0.3858 - val_auc_1: 0.6045 - val_precision_1: 0.6471 - val_recall_1: 0.0866 - val_f1_score: 0.2870 - 644ms/epoch - 80ms/step\n",
      "Epoch 38/50\n",
      "8/8 - 1s - loss: 1.0492 - accuracy: 0.3794 - auc_1: 0.6006 - precision_1: 0.7179 - recall_1: 0.1107 - f1_score: 0.3035 - val_loss: 1.0545 - val_accuracy: 0.3465 - val_auc_1: 0.5892 - val_precision_1: 0.6250 - val_recall_1: 0.0787 - val_f1_score: 0.2667 - 814ms/epoch - 102ms/step\n",
      "Epoch 39/50\n",
      "8/8 - 1s - loss: 1.0425 - accuracy: 0.3834 - auc_1: 0.6120 - precision_1: 0.7333 - recall_1: 0.1304 - f1_score: 0.3061 - val_loss: 1.0404 - val_accuracy: 0.3701 - val_auc_1: 0.6126 - val_precision_1: 0.6471 - val_recall_1: 0.0866 - val_f1_score: 0.2764 - 966ms/epoch - 121ms/step\n",
      "Epoch 40/50\n",
      "8/8 - 1s - loss: 1.0386 - accuracy: 0.3676 - auc_1: 0.6145 - precision_1: 0.7045 - recall_1: 0.1225 - f1_score: 0.2884 - val_loss: 1.0481 - val_accuracy: 0.3386 - val_auc_1: 0.6022 - val_precision_1: 0.5714 - val_recall_1: 0.0630 - val_f1_score: 0.2489 - 887ms/epoch - 111ms/step\n",
      "Epoch 41/50\n",
      "8/8 - 1s - loss: 1.0325 - accuracy: 0.3676 - auc_1: 0.6126 - precision_1: 0.6750 - recall_1: 0.1067 - f1_score: 0.2862 - val_loss: 1.0541 - val_accuracy: 0.3386 - val_auc_1: 0.5956 - val_precision_1: 0.5882 - val_recall_1: 0.0787 - val_f1_score: 0.2498 - 1s/epoch - 133ms/step\n",
      "Epoch 42/50\n",
      "8/8 - 1s - loss: 1.0295 - accuracy: 0.3636 - auc_1: 0.6112 - precision_1: 0.6977 - recall_1: 0.1186 - f1_score: 0.2809 - val_loss: 1.0529 - val_accuracy: 0.3386 - val_auc_1: 0.5971 - val_precision_1: 0.6250 - val_recall_1: 0.0787 - val_f1_score: 0.2498 - 863ms/epoch - 108ms/step\n",
      "Epoch 43/50\n",
      "8/8 - 1s - loss: 1.0242 - accuracy: 0.3715 - auc_1: 0.6133 - precision_1: 0.6977 - recall_1: 0.1186 - f1_score: 0.2843 - val_loss: 1.0546 - val_accuracy: 0.3386 - val_auc_1: 0.5939 - val_precision_1: 0.6000 - val_recall_1: 0.0709 - val_f1_score: 0.2494 - 719ms/epoch - 90ms/step\n",
      "Epoch 44/50\n",
      "8/8 - 1s - loss: 1.0172 - accuracy: 0.3755 - auc_1: 0.6274 - precision_1: 0.7447 - recall_1: 0.1383 - f1_score: 0.2796 - val_loss: 1.0523 - val_accuracy: 0.3465 - val_auc_1: 0.5988 - val_precision_1: 0.6471 - val_recall_1: 0.0866 - val_f1_score: 0.2520 - 780ms/epoch - 98ms/step\n",
      "Epoch 45/50\n",
      "8/8 - 1s - loss: 1.0100 - accuracy: 0.3794 - auc_1: 0.6359 - precision_1: 0.7442 - recall_1: 0.1265 - f1_score: 0.2835 - val_loss: 1.0256 - val_accuracy: 0.3701 - val_auc_1: 0.6439 - val_precision_1: 0.6667 - val_recall_1: 0.0945 - val_f1_score: 0.2613 - 799ms/epoch - 100ms/step\n",
      "Epoch 46/50\n",
      "8/8 - 1s - loss: 1.0679 - accuracy: 0.3913 - auc_1: 0.6532 - precision_1: 0.7436 - recall_1: 0.1146 - f1_score: 0.2986 - val_loss: 1.0150 - val_accuracy: 0.3780 - val_auc_1: 0.6669 - val_precision_1: 0.6667 - val_recall_1: 0.0787 - val_f1_score: 0.2729 - 646ms/epoch - 81ms/step\n",
      "Epoch 47/50\n",
      "8/8 - 1s - loss: 1.0516 - accuracy: 0.4269 - auc_1: 0.6739 - precision_1: 0.7209 - recall_1: 0.1225 - f1_score: 0.3264 - val_loss: 1.0076 - val_accuracy: 0.4016 - val_auc_1: 0.6751 - val_precision_1: 0.7500 - val_recall_1: 0.0945 - val_f1_score: 0.2861 - 646ms/epoch - 81ms/step\n",
      "Epoch 48/50\n",
      "8/8 - 1s - loss: 1.1111 - accuracy: 0.4427 - auc_1: 0.6774 - precision_1: 0.7045 - recall_1: 0.1225 - f1_score: 0.3367 - val_loss: 0.9998 - val_accuracy: 0.4252 - val_auc_1: 0.6908 - val_precision_1: 0.8125 - val_recall_1: 0.1024 - val_f1_score: 0.2988 - 657ms/epoch - 82ms/step\n",
      "Epoch 49/50\n",
      "8/8 - 1s - loss: 1.0839 - accuracy: 0.4941 - auc_1: 0.7173 - precision_1: 0.7551 - recall_1: 0.1462 - f1_score: 0.3814 - val_loss: 0.9582 - val_accuracy: 0.5118 - val_auc_1: 0.7529 - val_precision_1: 0.7895 - val_recall_1: 0.1181 - val_f1_score: 0.3502 - 693ms/epoch - 87ms/step\n",
      "Epoch 50/50\n",
      "8/8 - 1s - loss: 1.0483 - accuracy: 0.5534 - auc_1: 0.7725 - precision_1: 0.7347 - recall_1: 0.1423 - f1_score: 0.4442 - val_loss: 0.9426 - val_accuracy: 0.5276 - val_auc_1: 0.7757 - val_precision_1: 0.7619 - val_recall_1: 0.1260 - val_f1_score: 0.3573 - 863ms/epoch - 108ms/step\n"
     ]
    },
    {
     "data": {
      "image/png": "[encoded data removed]",
      "text/plain": [
       "<Figure size 432x288 with 1 Axes>"
      ]
     },
     "metadata": {
      "needs_background": "light"
     },
     "output_type": "display_data"
    },
    {
     "name": "stdout",
     "output_type": "stream",
     "text": [
      "Epoch 1/50\n",
      "8/8 - 4s - loss: 0.9505 - accuracy: 0.3320 - auc_2: 0.4558 - precision_2: 0.3333 - recall_2: 0.0079 - f1_score: 0.2568 - val_loss: 1.0972 - val_accuracy: 0.3858 - val_auc_2: 0.5454 - val_precision_2: 0.0000e+00 - val_recall_2: 0.0000e+00 - val_f1_score: 0.2737 - 4s/epoch - 442ms/step\n",
      "Epoch 2/50\n",
      "8/8 - 1s - loss: 0.9052 - accuracy: 0.4545 - auc_2: 0.5943 - precision_2: 0.3333 - recall_2: 0.0040 - f1_score: 0.3260 - val_loss: 1.0367 - val_accuracy: 0.4882 - val_auc_2: 0.6580 - val_precision_2: 1.0000 - val_recall_2: 0.0157 - val_f1_score: 0.3239 - 649ms/epoch - 81ms/step\n",
      "Epoch 3/50\n",
      "8/8 - 1s - loss: 0.8605 - accuracy: 0.5494 - auc_2: 0.7066 - precision_2: 0.4167 - recall_2: 0.0198 - f1_score: 0.3716 - val_loss: 0.9924 - val_accuracy: 0.4961 - val_auc_2: 0.7146 - val_precision_2: 0.5556 - val_recall_2: 0.0394 - val_f1_score: 0.3264 - 653ms/epoch - 82ms/step\n",
      "Epoch 4/50\n",
      "8/8 - 1s - loss: 0.8425 - accuracy: 0.5534 - auc_2: 0.7504 - precision_2: 0.5000 - recall_2: 0.0632 - f1_score: 0.3734 - val_loss: 0.9676 - val_accuracy: 0.4882 - val_auc_2: 0.7219 - val_precision_2: 0.4688 - val_recall_2: 0.1181 - val_f1_score: 0.3199 - 653ms/epoch - 82ms/step\n",
      "Epoch 5/50\n",
      "8/8 - 1s - loss: 0.8200 - accuracy: 0.5534 - auc_2: 0.7625 - precision_2: 0.5968 - recall_2: 0.1462 - f1_score: 0.3711 - val_loss: 0.9410 - val_accuracy: 0.4882 - val_auc_2: 0.7401 - val_precision_2: 0.5192 - val_recall_2: 0.2126 - val_f1_score: 0.3212 - 655ms/epoch - 82ms/step\n",
      "Epoch 6/50\n",
      "8/8 - 1s - loss: 0.7957 - accuracy: 0.5573 - auc_2: 0.7717 - precision_2: 0.6117 - recall_2: 0.2490 - f1_score: 0.3714 - val_loss: 0.9235 - val_accuracy: 0.4961 - val_auc_2: 0.7484 - val_precision_2: 0.5161 - val_recall_2: 0.2520 - val_f1_score: 0.3231 - 652ms/epoch - 81ms/step\n",
      "Epoch 7/50\n",
      "8/8 - 1s - loss: 0.7833 - accuracy: 0.5534 - auc_2: 0.7804 - precision_2: 0.5656 - recall_2: 0.2727 - f1_score: 0.3674 - val_loss: 0.9154 - val_accuracy: 0.4803 - val_auc_2: 0.7490 - val_precision_2: 0.5373 - val_recall_2: 0.2835 - val_f1_score: 0.3141 - 661ms/epoch - 83ms/step\n",
      "Epoch 8/50\n",
      "8/8 - 1s - loss: 0.7784 - accuracy: 0.5534 - auc_2: 0.7829 - precision_2: 0.5725 - recall_2: 0.2964 - f1_score: 0.3678 - val_loss: 0.9080 - val_accuracy: 0.4724 - val_auc_2: 0.7478 - val_precision_2: 0.5139 - val_recall_2: 0.2913 - val_f1_score: 0.3084 - 656ms/epoch - 82ms/step\n",
      "Epoch 9/50\n",
      "8/8 - 1s - loss: 0.7717 - accuracy: 0.5455 - auc_2: 0.7831 - precision_2: 0.5725 - recall_2: 0.2964 - f1_score: 0.3628 - val_loss: 0.9101 - val_accuracy: 0.4724 - val_auc_2: 0.7452 - val_precision_2: 0.5152 - val_recall_2: 0.2677 - val_f1_score: 0.3084 - 655ms/epoch - 82ms/step\n",
      "Epoch 10/50\n",
      "8/8 - 1s - loss: 0.7668 - accuracy: 0.5534 - auc_2: 0.7867 - precision_2: 0.5645 - recall_2: 0.2767 - f1_score: 0.3678 - val_loss: 0.9054 - val_accuracy: 0.4961 - val_auc_2: 0.7470 - val_precision_2: 0.5072 - val_recall_2: 0.2756 - val_f1_score: 0.3218 - 658ms/epoch - 82ms/step\n",
      "Epoch 11/50\n",
      "8/8 - 1s - loss: 0.7621 - accuracy: 0.5494 - auc_2: 0.7910 - precision_2: 0.5758 - recall_2: 0.3004 - f1_score: 0.3653 - val_loss: 0.9083 - val_accuracy: 0.4882 - val_auc_2: 0.7425 - val_precision_2: 0.4932 - val_recall_2: 0.2835 - val_f1_score: 0.3174 - 652ms/epoch - 81ms/step\n",
      "Epoch 12/50\n",
      "8/8 - 1s - loss: 0.7577 - accuracy: 0.5494 - auc_2: 0.7915 - precision_2: 0.5809 - recall_2: 0.3123 - f1_score: 0.3653 - val_loss: 0.9035 - val_accuracy: 0.4882 - val_auc_2: 0.7426 - val_precision_2: 0.5067 - val_recall_2: 0.2992 - val_f1_score: 0.3174 - 658ms/epoch - 82ms/step\n",
      "Epoch 13/50\n",
      "8/8 - 1s - loss: 0.7545 - accuracy: 0.5534 - auc_2: 0.7932 - precision_2: 0.6187 - recall_2: 0.3399 - f1_score: 0.3681 - val_loss: 0.9002 - val_accuracy: 0.4961 - val_auc_2: 0.7465 - val_precision_2: 0.5526 - val_recall_2: 0.3307 - val_f1_score: 0.3218 - 655ms/epoch - 82ms/step\n",
      "Epoch 14/50\n",
      "8/8 - 1s - loss: 0.7504 - accuracy: 0.5652 - auc_2: 0.7949 - precision_2: 0.6014 - recall_2: 0.3399 - f1_score: 0.3752 - val_loss: 0.8994 - val_accuracy: 0.4961 - val_auc_2: 0.7449 - val_precision_2: 0.5455 - val_recall_2: 0.3307 - val_f1_score: 0.3218 - 656ms/epoch - 82ms/step\n",
      "Epoch 15/50\n",
      "8/8 - 1s - loss: 0.7458 - accuracy: 0.5771 - auc_2: 0.7983 - precision_2: 0.6111 - recall_2: 0.3478 - f1_score: 0.3825 - val_loss: 0.8958 - val_accuracy: 0.4882 - val_auc_2: 0.7429 - val_precision_2: 0.5395 - val_recall_2: 0.3228 - val_f1_score: 0.3174 - 657ms/epoch - 82ms/step\n",
      "Epoch 16/50\n",
      "8/8 - 1s - loss: 0.7428 - accuracy: 0.5810 - auc_2: 0.7989 - precision_2: 0.6138 - recall_2: 0.3518 - f1_score: 0.3844 - val_loss: 0.8930 - val_accuracy: 0.4961 - val_auc_2: 0.7425 - val_precision_2: 0.5205 - val_recall_2: 0.2992 - val_f1_score: 0.3218 - 658ms/epoch - 82ms/step\n",
      "Epoch 17/50\n",
      "8/8 - 1s - loss: 0.7397 - accuracy: 0.5771 - auc_2: 0.7961 - precision_2: 0.6071 - recall_2: 0.3360 - f1_score: 0.3825 - val_loss: 0.8909 - val_accuracy: 0.4961 - val_auc_2: 0.7431 - val_precision_2: 0.5211 - val_recall_2: 0.2913 - val_f1_score: 0.3218 - 660ms/epoch - 83ms/step\n",
      "Epoch 18/50\n",
      "8/8 - 1s - loss: 0.7362 - accuracy: 0.5771 - auc_2: 0.7951 - precision_2: 0.5929 - recall_2: 0.3281 - f1_score: 0.3825 - val_loss: 0.8927 - val_accuracy: 0.4882 - val_auc_2: 0.7393 - val_precision_2: 0.5072 - val_recall_2: 0.2756 - val_f1_score: 0.3174 - 662ms/epoch - 83ms/step\n",
      "Epoch 19/50\n",
      "8/8 - 1s - loss: 0.7363 - accuracy: 0.5652 - auc_2: 0.7946 - precision_2: 0.5912 - recall_2: 0.3202 - f1_score: 0.3752 - val_loss: 0.8933 - val_accuracy: 0.4882 - val_auc_2: 0.7437 - val_precision_2: 0.5278 - val_recall_2: 0.2992 - val_f1_score: 0.3174 - 693ms/epoch - 87ms/step\n",
      "Epoch 20/50\n",
      "8/8 - 1s - loss: 0.7325 - accuracy: 0.5731 - auc_2: 0.7983 - precision_2: 0.5942 - recall_2: 0.3241 - f1_score: 0.3800 - val_loss: 0.8859 - val_accuracy: 0.4961 - val_auc_2: 0.7459 - val_precision_2: 0.5278 - val_recall_2: 0.2992 - val_f1_score: 0.3218 - 695ms/epoch - 87ms/step\n",
      "Epoch 21/50\n",
      "8/8 - 1s - loss: 0.7280 - accuracy: 0.5731 - auc_2: 0.7993 - precision_2: 0.6014 - recall_2: 0.3399 - f1_score: 0.3800 - val_loss: 0.8875 - val_accuracy: 0.4961 - val_auc_2: 0.7429 - val_precision_2: 0.5211 - val_recall_2: 0.2913 - val_f1_score: 0.3238 - 658ms/epoch - 82ms/step\n",
      "Epoch 22/50\n",
      "8/8 - 1s - loss: 0.7250 - accuracy: 0.5771 - auc_2: 0.8006 - precision_2: 0.5944 - recall_2: 0.3360 - f1_score: 0.3825 - val_loss: 0.8880 - val_accuracy: 0.4961 - val_auc_2: 0.7429 - val_precision_2: 0.5556 - val_recall_2: 0.3150 - val_f1_score: 0.3218 - 663ms/epoch - 83ms/step\n",
      "Epoch 23/50\n",
      "8/8 - 1s - loss: 0.7234 - accuracy: 0.5810 - auc_2: 0.8028 - precision_2: 0.6014 - recall_2: 0.3281 - f1_score: 0.3849 - val_loss: 0.8863 - val_accuracy: 0.5039 - val_auc_2: 0.7445 - val_precision_2: 0.5479 - val_recall_2: 0.3150 - val_f1_score: 0.3263 - 656ms/epoch - 82ms/step\n",
      "Epoch 24/50\n",
      "8/8 - 1s - loss: 0.7203 - accuracy: 0.5810 - auc_2: 0.8048 - precision_2: 0.6029 - recall_2: 0.3241 - f1_score: 0.3849 - val_loss: 0.8827 - val_accuracy: 0.5039 - val_auc_2: 0.7458 - val_precision_2: 0.5584 - val_recall_2: 0.3386 - val_f1_score: 0.3263 - 656ms/epoch - 82ms/step\n",
      "Epoch 25/50\n",
      "8/8 - 1s - loss: 0.7189 - accuracy: 0.5810 - auc_2: 0.8060 - precision_2: 0.6014 - recall_2: 0.3399 - f1_score: 0.3849 - val_loss: 0.8793 - val_accuracy: 0.5039 - val_auc_2: 0.7452 - val_precision_2: 0.5513 - val_recall_2: 0.3386 - val_f1_score: 0.3263 - 659ms/epoch - 82ms/step\n",
      "Epoch 26/50\n",
      "8/8 - 1s - loss: 0.7148 - accuracy: 0.5850 - auc_2: 0.8036 - precision_2: 0.6093 - recall_2: 0.3636 - f1_score: 0.3887 - val_loss: 0.8837 - val_accuracy: 0.5118 - val_auc_2: 0.7397 - val_precision_2: 0.5000 - val_recall_2: 0.2992 - val_f1_score: 0.3379 - 657ms/epoch - 82ms/step\n",
      "Epoch 27/50\n",
      "8/8 - 1s - loss: 0.7121 - accuracy: 0.5850 - auc_2: 0.8010 - precision_2: 0.6054 - recall_2: 0.3518 - f1_score: 0.3890 - val_loss: 0.8805 - val_accuracy: 0.5039 - val_auc_2: 0.7419 - val_precision_2: 0.5132 - val_recall_2: 0.3071 - val_f1_score: 0.3301 - 657ms/epoch - 82ms/step\n",
      "Epoch 28/50\n",
      "8/8 - 1s - loss: 0.7090 - accuracy: 0.5810 - auc_2: 0.8014 - precision_2: 0.6014 - recall_2: 0.3399 - f1_score: 0.7178 - val_loss: 0.8771 - val_accuracy: 0.4961 - val_auc_2: 0.7453 - val_precision_2: 0.5342 - val_recall_2: 0.3071 - val_f1_score: 0.3218 - 651ms/epoch - 81ms/step\n",
      "Epoch 29/50\n",
      "8/8 - 1s - loss: 0.7083 - accuracy: 0.5850 - auc_2: 0.8011 - precision_2: 0.5899 - recall_2: 0.3241 - f1_score: 0.6099 - val_loss: 0.8784 - val_accuracy: 0.5118 - val_auc_2: 0.7452 - val_precision_2: 0.5352 - val_recall_2: 0.2992 - val_f1_score: 0.3328 - 669ms/epoch - 84ms/step\n",
      "Epoch 30/50\n",
      "8/8 - 1s - loss: 0.7048 - accuracy: 0.5810 - auc_2: 0.8041 - precision_2: 0.6122 - recall_2: 0.3557 - f1_score: 0.6074 - val_loss: 0.8782 - val_accuracy: 0.4882 - val_auc_2: 0.7439 - val_precision_2: 0.5316 - val_recall_2: 0.3307 - val_f1_score: 0.3174 - 656ms/epoch - 82ms/step\n",
      "Epoch 31/50\n",
      "8/8 - 1s - loss: 0.7022 - accuracy: 0.5929 - auc_2: 0.8068 - precision_2: 0.6216 - recall_2: 0.3636 - f1_score: 0.6149 - val_loss: 0.8882 - val_accuracy: 0.4961 - val_auc_2: 0.7355 - val_precision_2: 0.5301 - val_recall_2: 0.3465 - val_f1_score: 0.3256 - 654ms/epoch - 82ms/step\n",
      "Epoch 32/50\n",
      "8/8 - 1s - loss: 0.7026 - accuracy: 0.5889 - auc_2: 0.8078 - precision_2: 0.6133 - recall_2: 0.3636 - f1_score: 0.6120 - val_loss: 0.8792 - val_accuracy: 0.4961 - val_auc_2: 0.7379 - val_precision_2: 0.5301 - val_recall_2: 0.3465 - val_f1_score: 0.3256 - 661ms/epoch - 83ms/step\n",
      "Epoch 33/50\n",
      "8/8 - 1s - loss: 0.6969 - accuracy: 0.6008 - auc_2: 0.8066 - precision_2: 0.6209 - recall_2: 0.3755 - f1_score: 0.6206 - val_loss: 0.8831 - val_accuracy: 0.5039 - val_auc_2: 0.7362 - val_precision_2: 0.5122 - val_recall_2: 0.3307 - val_f1_score: 0.3332 - 661ms/epoch - 83ms/step\n",
      "Epoch 34/50\n",
      "8/8 - 1s - loss: 0.6979 - accuracy: 0.5929 - auc_2: 0.8059 - precision_2: 0.6242 - recall_2: 0.3676 - f1_score: 0.6153 - val_loss: 0.8880 - val_accuracy: 0.4961 - val_auc_2: 0.7375 - val_precision_2: 0.5244 - val_recall_2: 0.3386 - val_f1_score: 0.3256 - 654ms/epoch - 82ms/step\n",
      "Epoch 35/50\n",
      "8/8 - 1s - loss: 0.6947 - accuracy: 0.5929 - auc_2: 0.8065 - precision_2: 0.6138 - recall_2: 0.3518 - f1_score: 0.6149 - val_loss: 0.8875 - val_accuracy: 0.5039 - val_auc_2: 0.7363 - val_precision_2: 0.5181 - val_recall_2: 0.3386 - val_f1_score: 0.3318 - 658ms/epoch - 82ms/step\n",
      "Epoch 36/50\n",
      "8/8 - 1s - loss: 0.6904 - accuracy: 0.5968 - auc_2: 0.8048 - precision_2: 0.6174 - recall_2: 0.3636 - f1_score: 0.6181 - val_loss: 0.8827 - val_accuracy: 0.5039 - val_auc_2: 0.7356 - val_precision_2: 0.5122 - val_recall_2: 0.3307 - val_f1_score: 0.3318 - 655ms/epoch - 82ms/step\n",
      "Epoch 37/50\n",
      "8/8 - 1s - loss: 0.6877 - accuracy: 0.5968 - auc_2: 0.8071 - precision_2: 0.6299 - recall_2: 0.3834 - f1_score: 0.6181 - val_loss: 0.8770 - val_accuracy: 0.5039 - val_auc_2: 0.7396 - val_precision_2: 0.5185 - val_recall_2: 0.3307 - val_f1_score: 0.3332 - 657ms/epoch - 82ms/step\n",
      "Epoch 38/50\n",
      "8/8 - 1s - loss: 0.6864 - accuracy: 0.5929 - auc_2: 0.8058 - precision_2: 0.6282 - recall_2: 0.3874 - f1_score: 0.6159 - val_loss: 0.8790 - val_accuracy: 0.4961 - val_auc_2: 0.7354 - val_precision_2: 0.5122 - val_recall_2: 0.3307 - val_f1_score: 0.3297 - 662ms/epoch - 83ms/step\n",
      "Epoch 39/50\n",
      "8/8 - 1s - loss: 0.6848 - accuracy: 0.5889 - auc_2: 0.8082 - precision_2: 0.6415 - recall_2: 0.4032 - f1_score: 0.6131 - val_loss: 0.8729 - val_accuracy: 0.5039 - val_auc_2: 0.7389 - val_precision_2: 0.5357 - val_recall_2: 0.3543 - val_f1_score: 0.3332 - 662ms/epoch - 83ms/step\n",
      "Epoch 40/50\n",
      "8/8 - 1s - loss: 0.6816 - accuracy: 0.5929 - auc_2: 0.8117 - precision_2: 0.6410 - recall_2: 0.3953 - f1_score: 0.6149 - val_loss: 0.8741 - val_accuracy: 0.5118 - val_auc_2: 0.7396 - val_precision_2: 0.5488 - val_recall_2: 0.3543 - val_f1_score: 0.3379 - 661ms/epoch - 83ms/step\n",
      "Epoch 41/50\n",
      "8/8 - 1s - loss: 0.6786 - accuracy: 0.5968 - auc_2: 0.8108 - precision_2: 0.6369 - recall_2: 0.3953 - f1_score: 0.6177 - val_loss: 0.8749 - val_accuracy: 0.4961 - val_auc_2: 0.7379 - val_precision_2: 0.5244 - val_recall_2: 0.3386 - val_f1_score: 0.3285 - 665ms/epoch - 83ms/step\n",
      "Epoch 42/50\n",
      "8/8 - 1s - loss: 0.6771 - accuracy: 0.5889 - auc_2: 0.8091 - precision_2: 0.6266 - recall_2: 0.3913 - f1_score: 0.6134 - val_loss: 0.8753 - val_accuracy: 0.5039 - val_auc_2: 0.7374 - val_precision_2: 0.5176 - val_recall_2: 0.3465 - val_f1_score: 0.3356 - 661ms/epoch - 83ms/step\n",
      "Epoch 43/50\n",
      "8/8 - 1s - loss: 0.6744 - accuracy: 0.5929 - auc_2: 0.8100 - precision_2: 0.6358 - recall_2: 0.4071 - f1_score: 0.6162 - val_loss: 0.8721 - val_accuracy: 0.5039 - val_auc_2: 0.7372 - val_precision_2: 0.5176 - val_recall_2: 0.3465 - val_f1_score: 0.3356 - 664ms/epoch - 83ms/step\n",
      "Epoch 44/50\n",
      "8/8 - 1s - loss: 0.6740 - accuracy: 0.5889 - auc_2: 0.8105 - precision_2: 0.6424 - recall_2: 0.4190 - f1_score: 0.6134 - val_loss: 0.8691 - val_accuracy: 0.5118 - val_auc_2: 0.7379 - val_precision_2: 0.5233 - val_recall_2: 0.3543 - val_f1_score: 0.3404 - 663ms/epoch - 83ms/step\n",
      "Epoch 45/50\n",
      "8/8 - 1s - loss: 0.6708 - accuracy: 0.5968 - auc_2: 0.8131 - precision_2: 0.6524 - recall_2: 0.4229 - f1_score: 0.6181 - val_loss: 0.8663 - val_accuracy: 0.5118 - val_auc_2: 0.7400 - val_precision_2: 0.5172 - val_recall_2: 0.3543 - val_f1_score: 0.3404 - 661ms/epoch - 83ms/step\n",
      "Epoch 46/50\n",
      "8/8 - 1s - loss: 0.6679 - accuracy: 0.6047 - auc_2: 0.8124 - precision_2: 0.6442 - recall_2: 0.4150 - f1_score: 0.6238 - val_loss: 0.8700 - val_accuracy: 0.5039 - val_auc_2: 0.7383 - val_precision_2: 0.5172 - val_recall_2: 0.3543 - val_f1_score: 0.3356 - 662ms/epoch - 83ms/step\n",
      "Epoch 47/50\n",
      "8/8 - 1s - loss: 0.6659 - accuracy: 0.5968 - auc_2: 0.8125 - precision_2: 0.6446 - recall_2: 0.4229 - f1_score: 0.6184 - val_loss: 0.8687 - val_accuracy: 0.5039 - val_auc_2: 0.7390 - val_precision_2: 0.5227 - val_recall_2: 0.3622 - val_f1_score: 0.3356 - 664ms/epoch - 83ms/step\n",
      "Epoch 48/50\n",
      "8/8 - 1s - loss: 0.6653 - accuracy: 0.5889 - auc_2: 0.8139 - precision_2: 0.6503 - recall_2: 0.4190 - f1_score: 0.6131 - val_loss: 0.8686 - val_accuracy: 0.5039 - val_auc_2: 0.7402 - val_precision_2: 0.5287 - val_recall_2: 0.3622 - val_f1_score: 0.3345 - 661ms/epoch - 83ms/step\n",
      "Epoch 49/50\n",
      "8/8 - 1s - loss: 0.6622 - accuracy: 0.5929 - auc_2: 0.8147 - precision_2: 0.6524 - recall_2: 0.4229 - f1_score: 0.6153 - val_loss: 0.8635 - val_accuracy: 0.5118 - val_auc_2: 0.7426 - val_precision_2: 0.5233 - val_recall_2: 0.3543 - val_f1_score: 0.3393 - 660ms/epoch - 82ms/step\n",
      "Epoch 50/50\n",
      "8/8 - 1s - loss: 0.6597 - accuracy: 0.5968 - auc_2: 0.8172 - precision_2: 0.6506 - recall_2: 0.4269 - f1_score: 0.6173 - val_loss: 0.8611 - val_accuracy: 0.5118 - val_auc_2: 0.7400 - val_precision_2: 0.5222 - val_recall_2: 0.3701 - val_f1_score: 0.3404 - 667ms/epoch - 83ms/step\n"
     ]
    },
    {
     "data": {
      "image/png": "[encoded data removed]",
      "text/plain": [
       "<Figure size 432x288 with 1 Axes>"
      ]
     },
     "metadata": {
      "needs_background": "light"
     },
     "output_type": "display_data"
    },
    {
     "name": "stdout",
     "output_type": "stream",
     "text": [
      "Epoch 1/50\n",
      "8/8 - 3s - loss: 1.1046 - accuracy: 0.3543 - auc_3: 0.3857 - precision_3: 0.3448 - recall_3: 0.0394 - f1_score: 0.2080 - val_loss: 1.2033 - val_accuracy: 0.4286 - val_auc_3: 0.4667 - val_precision_3: 0.3529 - val_recall_3: 0.0476 - val_f1_score: 0.2164 - 3s/epoch - 343ms/step\n",
      "Epoch 2/50\n",
      "8/8 - 1s - loss: 1.0955 - accuracy: 0.3898 - auc_3: 0.4320 - precision_3: 0.3235 - recall_3: 0.0433 - f1_score: 0.2284 - val_loss: 1.1436 - val_accuracy: 0.4444 - val_auc_3: 0.5282 - val_precision_3: 0.4091 - val_recall_3: 0.0714 - val_f1_score: 0.2193 - 688ms/epoch - 86ms/step\n",
      "Epoch 3/50\n",
      "8/8 - 1s - loss: 1.0552 - accuracy: 0.3976 - auc_3: 0.4908 - precision_3: 0.2857 - recall_3: 0.0394 - f1_score: 0.2417 - val_loss: 1.1040 - val_accuracy: 0.4524 - val_auc_3: 0.5706 - val_precision_3: 0.4167 - val_recall_3: 0.0794 - val_f1_score: 0.2099 - 651ms/epoch - 81ms/step\n",
      "Epoch 4/50\n",
      "8/8 - 1s - loss: 1.0548 - accuracy: 0.4016 - auc_3: 0.5427 - precision_3: 0.3784 - recall_3: 0.0551 - f1_score: 0.2504 - val_loss: 1.0864 - val_accuracy: 0.4524 - val_auc_3: 0.5924 - val_precision_3: 0.3077 - val_recall_3: 0.0317 - val_f1_score: 0.2099 - 647ms/epoch - 81ms/step\n",
      "Epoch 5/50\n",
      "8/8 - 1s - loss: 1.0120 - accuracy: 0.3976 - auc_3: 0.5583 - precision_3: 0.1429 - recall_3: 0.0079 - f1_score: 0.2484 - val_loss: 1.0628 - val_accuracy: 0.4524 - val_auc_3: 0.6210 - val_precision_3: 0.5000 - val_recall_3: 0.0079 - val_f1_score: 0.2099 - 650ms/epoch - 81ms/step\n",
      "Epoch 6/50\n",
      "8/8 - 1s - loss: 1.0140 - accuracy: 0.4016 - auc_3: 0.5807 - precision_3: 0.1667 - recall_3: 0.0039 - f1_score: 0.2532 - val_loss: 1.0561 - val_accuracy: 0.4524 - val_auc_3: 0.6283 - val_precision_3: 0.5000 - val_recall_3: 0.0079 - val_f1_score: 0.2111 - 658ms/epoch - 82ms/step\n",
      "Epoch 7/50\n",
      "8/8 - 1s - loss: 0.9955 - accuracy: 0.4016 - auc_3: 0.5834 - precision_3: 0.2500 - recall_3: 0.0039 - f1_score: 0.2477 - val_loss: 1.0519 - val_accuracy: 0.4603 - val_auc_3: 0.6305 - val_precision_3: 1.0000 - val_recall_3: 0.0079 - val_f1_score: 0.2397 - 649ms/epoch - 81ms/step\n",
      "Epoch 8/50\n",
      "8/8 - 1s - loss: 0.9866 - accuracy: 0.4173 - auc_3: 0.5976 - precision_3: 0.3333 - recall_3: 0.0039 - f1_score: 0.3060 - val_loss: 1.0467 - val_accuracy: 0.4127 - val_auc_3: 0.6308 - val_precision_3: 1.0000 - val_recall_3: 0.0079 - val_f1_score: 0.2273 - 654ms/epoch - 82ms/step\n",
      "Epoch 9/50\n",
      "8/8 - 1s - loss: 0.9886 - accuracy: 0.4055 - auc_3: 0.6180 - precision_3: 1.0000 - recall_3: 0.0039 - f1_score: 0.2863 - val_loss: 1.0375 - val_accuracy: 0.4365 - val_auc_3: 0.6412 - val_precision_3: 1.0000 - val_recall_3: 0.0079 - val_f1_score: 0.2538 - 654ms/epoch - 82ms/step\n",
      "Epoch 10/50\n",
      "8/8 - 1s - loss: 0.9776 - accuracy: 0.4213 - auc_3: 0.6314 - precision_3: 1.0000 - recall_3: 0.0118 - f1_score: 0.3276 - val_loss: 1.0375 - val_accuracy: 0.4524 - val_auc_3: 0.6373 - val_precision_3: 1.0000 - val_recall_3: 0.0079 - val_f1_score: 0.2784 - 654ms/epoch - 82ms/step\n",
      "Epoch 11/50\n",
      "8/8 - 1s - loss: 0.9711 - accuracy: 0.4291 - auc_3: 0.6346 - precision_3: 0.7500 - recall_3: 0.0118 - f1_score: 0.3257 - val_loss: 1.0323 - val_accuracy: 0.4286 - val_auc_3: 0.6407 - val_precision_3: 1.0000 - val_recall_3: 0.0079 - val_f1_score: 0.2739 - 664ms/epoch - 83ms/step\n",
      "Epoch 12/50\n",
      "8/8 - 1s - loss: 0.9672 - accuracy: 0.4409 - auc_3: 0.6481 - precision_3: 0.6667 - recall_3: 0.0157 - f1_score: 0.3447 - val_loss: 1.0280 - val_accuracy: 0.3968 - val_auc_3: 0.6454 - val_precision_3: 0.3333 - val_recall_3: 0.0079 - val_f1_score: 0.2690 - 659ms/epoch - 82ms/step\n",
      "Epoch 13/50\n",
      "8/8 - 1s - loss: 0.9625 - accuracy: 0.4370 - auc_3: 0.6616 - precision_3: 0.5556 - recall_3: 0.0197 - f1_score: 0.3496 - val_loss: 1.0174 - val_accuracy: 0.3889 - val_auc_3: 0.6583 - val_precision_3: 0.3333 - val_recall_3: 0.0079 - val_f1_score: 0.2643 - 651ms/epoch - 81ms/step\n",
      "Epoch 14/50\n",
      "8/8 - 1s - loss: 0.9558 - accuracy: 0.4488 - auc_3: 0.6713 - precision_3: 0.5556 - recall_3: 0.0197 - f1_score: 0.3619 - val_loss: 1.0091 - val_accuracy: 0.3968 - val_auc_3: 0.6652 - val_precision_3: 0.3333 - val_recall_3: 0.0079 - val_f1_score: 0.2656 - 651ms/epoch - 81ms/step\n",
      "Epoch 15/50\n",
      "8/8 - 1s - loss: 0.9550 - accuracy: 0.4724 - auc_3: 0.6838 - precision_3: 0.5556 - recall_3: 0.0197 - f1_score: 0.3817 - val_loss: 1.0078 - val_accuracy: 0.4048 - val_auc_3: 0.6687 - val_precision_3: 0.0000e+00 - val_recall_3: 0.0000e+00 - val_f1_score: 0.2800 - 652ms/epoch - 82ms/step\n",
      "Epoch 16/50\n",
      "8/8 - 1s - loss: 0.9472 - accuracy: 0.4843 - auc_3: 0.6874 - precision_3: 0.6667 - recall_3: 0.0236 - f1_score: 0.3809 - val_loss: 1.0077 - val_accuracy: 0.4206 - val_auc_3: 0.6701 - val_precision_3: 0.0000e+00 - val_recall_3: 0.0000e+00 - val_f1_score: 0.2942 - 650ms/epoch - 81ms/step\n",
      "Epoch 17/50\n",
      "8/8 - 1s - loss: 0.9453 - accuracy: 0.4882 - auc_3: 0.6919 - precision_3: 0.6000 - recall_3: 0.0236 - f1_score: 0.3854 - val_loss: 1.0070 - val_accuracy: 0.4127 - val_auc_3: 0.6698 - val_precision_3: 0.2000 - val_recall_3: 0.0079 - val_f1_score: 0.2885 - 658ms/epoch - 82ms/step\n",
      "Epoch 18/50\n",
      "8/8 - 1s - loss: 0.9428 - accuracy: 0.4882 - auc_3: 0.6975 - precision_3: 0.5455 - recall_3: 0.0236 - f1_score: 0.3866 - val_loss: 1.0026 - val_accuracy: 0.4127 - val_auc_3: 0.6758 - val_precision_3: 0.2000 - val_recall_3: 0.0079 - val_f1_score: 0.2888 - 656ms/epoch - 82ms/step\n",
      "Epoch 19/50\n",
      "8/8 - 1s - loss: 0.9383 - accuracy: 0.4882 - auc_3: 0.7027 - precision_3: 0.6000 - recall_3: 0.0236 - f1_score: 0.3849 - val_loss: 1.0004 - val_accuracy: 0.4127 - val_auc_3: 0.6761 - val_precision_3: 0.2000 - val_recall_3: 0.0079 - val_f1_score: 0.2889 - 650ms/epoch - 81ms/step\n",
      "Epoch 20/50\n",
      "8/8 - 1s - loss: 0.9372 - accuracy: 0.4921 - auc_3: 0.7027 - precision_3: 0.6000 - recall_3: 0.0236 - f1_score: 0.3861 - val_loss: 1.0029 - val_accuracy: 0.4206 - val_auc_3: 0.6708 - val_precision_3: 0.3333 - val_recall_3: 0.0159 - val_f1_score: 0.2955 - 658ms/epoch - 82ms/step\n",
      "Epoch 21/50\n",
      "8/8 - 1s - loss: 0.9326 - accuracy: 0.4961 - auc_3: 0.7055 - precision_3: 0.6364 - recall_3: 0.0276 - f1_score: 0.3862 - val_loss: 0.9972 - val_accuracy: 0.4206 - val_auc_3: 0.6758 - val_precision_3: 0.3333 - val_recall_3: 0.0159 - val_f1_score: 0.2955 - 655ms/epoch - 82ms/step\n",
      "Epoch 22/50\n",
      "8/8 - 1s - loss: 0.9298 - accuracy: 0.5000 - auc_3: 0.7120 - precision_3: 0.5000 - recall_3: 0.0236 - f1_score: 0.3910 - val_loss: 0.9923 - val_accuracy: 0.4206 - val_auc_3: 0.6819 - val_precision_3: 0.4286 - val_recall_3: 0.0238 - val_f1_score: 0.2943 - 658ms/epoch - 82ms/step\n",
      "Epoch 23/50\n",
      "8/8 - 1s - loss: 0.9265 - accuracy: 0.5000 - auc_3: 0.7144 - precision_3: 0.5385 - recall_3: 0.0276 - f1_score: 0.3888 - val_loss: 0.9933 - val_accuracy: 0.3968 - val_auc_3: 0.6812 - val_precision_3: 0.4286 - val_recall_3: 0.0238 - val_f1_score: 0.2783 - 650ms/epoch - 81ms/step\n",
      "Epoch 24/50\n",
      "8/8 - 1s - loss: 0.9257 - accuracy: 0.4803 - auc_3: 0.7134 - precision_3: 0.6364 - recall_3: 0.0276 - f1_score: 0.3649 - val_loss: 0.9956 - val_accuracy: 0.4127 - val_auc_3: 0.6769 - val_precision_3: 0.4286 - val_recall_3: 0.0238 - val_f1_score: 0.2813 - 654ms/epoch - 82ms/step\n",
      "Epoch 25/50\n",
      "8/8 - 1s - loss: 0.9233 - accuracy: 0.4685 - auc_3: 0.7136 - precision_3: 0.6000 - recall_3: 0.0354 - f1_score: 0.3464 - val_loss: 0.9934 - val_accuracy: 0.3968 - val_auc_3: 0.6817 - val_precision_3: 0.4286 - val_recall_3: 0.0238 - val_f1_score: 0.2671 - 656ms/epoch - 82ms/step\n",
      "Epoch 26/50\n",
      "8/8 - 1s - loss: 0.9194 - accuracy: 0.4843 - auc_3: 0.7177 - precision_3: 0.6364 - recall_3: 0.0276 - f1_score: 0.3606 - val_loss: 0.9885 - val_accuracy: 0.3968 - val_auc_3: 0.6862 - val_precision_3: 0.4286 - val_recall_3: 0.0238 - val_f1_score: 0.2660 - 652ms/epoch - 81ms/step\n",
      "Epoch 27/50\n",
      "8/8 - 1s - loss: 0.9157 - accuracy: 0.4764 - auc_3: 0.7217 - precision_3: 0.5000 - recall_3: 0.0276 - f1_score: 0.3415 - val_loss: 0.9881 - val_accuracy: 0.4048 - val_auc_3: 0.6854 - val_precision_3: 0.4286 - val_recall_3: 0.0238 - val_f1_score: 0.2571 - 660ms/epoch - 83ms/step\n",
      "Epoch 28/50\n",
      "8/8 - 1s - loss: 0.9131 - accuracy: 0.5039 - auc_3: 0.7221 - precision_3: 0.5556 - recall_3: 0.0394 - f1_score: 0.3424 - val_loss: 0.9823 - val_accuracy: 0.4048 - val_auc_3: 0.6901 - val_precision_3: 0.4286 - val_recall_3: 0.0238 - val_f1_score: 0.2484 - 727ms/epoch - 91ms/step\n",
      "Epoch 29/50\n",
      "8/8 - 1s - loss: 0.9092 - accuracy: 0.5000 - auc_3: 0.7263 - precision_3: 0.5333 - recall_3: 0.0315 - f1_score: 0.3385 - val_loss: 0.9792 - val_accuracy: 0.4286 - val_auc_3: 0.6939 - val_precision_3: 0.4286 - val_recall_3: 0.0238 - val_f1_score: 0.2628 - 654ms/epoch - 82ms/step\n",
      "Epoch 30/50\n",
      "8/8 - 1s - loss: 0.9057 - accuracy: 0.5197 - auc_3: 0.7350 - precision_3: 0.5000 - recall_3: 0.0276 - f1_score: 0.3608 - val_loss: 0.9742 - val_accuracy: 0.4206 - val_auc_3: 0.6981 - val_precision_3: 0.3750 - val_recall_3: 0.0238 - val_f1_score: 0.2542 - 659ms/epoch - 82ms/step\n",
      "Epoch 31/50\n",
      "8/8 - 1s - loss: 0.9019 - accuracy: 0.5079 - auc_3: 0.7353 - precision_3: 0.5263 - recall_3: 0.0394 - f1_score: 0.3471 - val_loss: 0.9812 - val_accuracy: 0.4206 - val_auc_3: 0.6923 - val_precision_3: 0.4286 - val_recall_3: 0.0238 - val_f1_score: 0.2515 - 654ms/epoch - 82ms/step\n",
      "Epoch 32/50\n",
      "8/8 - 1s - loss: 0.8967 - accuracy: 0.5157 - auc_3: 0.7348 - precision_3: 0.5294 - recall_3: 0.0354 - f1_score: 0.3576 - val_loss: 0.9782 - val_accuracy: 0.4286 - val_auc_3: 0.6946 - val_precision_3: 0.4286 - val_recall_3: 0.0238 - val_f1_score: 0.2592 - 652ms/epoch - 81ms/step\n",
      "Epoch 33/50\n",
      "8/8 - 1s - loss: 0.9005 - accuracy: 0.5039 - auc_3: 0.7312 - precision_3: 0.5294 - recall_3: 0.0354 - f1_score: 0.3432 - val_loss: 0.9923 - val_accuracy: 0.4048 - val_auc_3: 0.6821 - val_precision_3: 0.4286 - val_recall_3: 0.0238 - val_f1_score: 0.2455 - 653ms/epoch - 82ms/step\n",
      "Epoch 34/50\n",
      "8/8 - 1s - loss: 0.9179 - accuracy: 0.4528 - auc_3: 0.7020 - precision_3: 0.5556 - recall_3: 0.0394 - f1_score: 0.3035 - val_loss: 1.0118 - val_accuracy: 0.3810 - val_auc_3: 0.6552 - val_precision_3: 0.4286 - val_recall_3: 0.0238 - val_f1_score: 0.2288 - 654ms/epoch - 82ms/step\n",
      "Epoch 35/50\n",
      "8/8 - 1s - loss: 0.9230 - accuracy: 0.4449 - auc_3: 0.6856 - precision_3: 0.5294 - recall_3: 0.0354 - f1_score: 0.3022 - val_loss: 1.0272 - val_accuracy: 0.3730 - val_auc_3: 0.6367 - val_precision_3: 0.3333 - val_recall_3: 0.0238 - val_f1_score: 0.2293 - 650ms/epoch - 81ms/step\n",
      "Epoch 36/50\n",
      "8/8 - 1s - loss: 0.9261 - accuracy: 0.4409 - auc_3: 0.6775 - precision_3: 0.5263 - recall_3: 0.0394 - f1_score: 0.2975 - val_loss: 1.0274 - val_accuracy: 0.3730 - val_auc_3: 0.6356 - val_precision_3: 0.3333 - val_recall_3: 0.0238 - val_f1_score: 0.2299 - 658ms/epoch - 82ms/step\n",
      "Epoch 37/50\n",
      "8/8 - 1s - loss: 0.9264 - accuracy: 0.4409 - auc_3: 0.6773 - precision_3: 0.5556 - recall_3: 0.0394 - f1_score: 0.2916 - val_loss: 1.0201 - val_accuracy: 0.3730 - val_auc_3: 0.6476 - val_precision_3: 0.5000 - val_recall_3: 0.0397 - val_f1_score: 0.2269 - 650ms/epoch - 81ms/step\n",
      "Epoch 38/50\n",
      "8/8 - 1s - loss: 0.9285 - accuracy: 0.4488 - auc_3: 0.6938 - precision_3: 0.6364 - recall_3: 0.0551 - f1_score: 0.2890 - val_loss: 1.0130 - val_accuracy: 0.3889 - val_auc_3: 0.6579 - val_precision_3: 0.5000 - val_recall_3: 0.0397 - val_f1_score: 0.2374 - 651ms/epoch - 81ms/step\n",
      "Epoch 39/50\n",
      "8/8 - 1s - loss: 0.9187 - accuracy: 0.4606 - auc_3: 0.6959 - precision_3: 0.5652 - recall_3: 0.0512 - f1_score: 0.3042 - val_loss: 1.0107 - val_accuracy: 0.3889 - val_auc_3: 0.6577 - val_precision_3: 0.5385 - val_recall_3: 0.0556 - val_f1_score: 0.2301 - 651ms/epoch - 81ms/step\n",
      "Epoch 40/50\n",
      "8/8 - 1s - loss: 0.9200 - accuracy: 0.4646 - auc_3: 0.6945 - precision_3: 0.5769 - recall_3: 0.0591 - f1_score: 0.3120 - val_loss: 1.0144 - val_accuracy: 0.3810 - val_auc_3: 0.6563 - val_precision_3: 0.5455 - val_recall_3: 0.0476 - val_f1_score: 0.2271 - 650ms/epoch - 81ms/step\n",
      "Epoch 41/50\n",
      "8/8 - 1s - loss: 0.9160 - accuracy: 0.4646 - auc_3: 0.6997 - precision_3: 0.5556 - recall_3: 0.0591 - f1_score: 0.3121 - val_loss: 1.0057 - val_accuracy: 0.3571 - val_auc_3: 0.6594 - val_precision_3: 0.5000 - val_recall_3: 0.0397 - val_f1_score: 0.2160 - 650ms/epoch - 81ms/step\n",
      "Epoch 42/50\n",
      "8/8 - 1s - loss: 0.9141 - accuracy: 0.4724 - auc_3: 0.7060 - precision_3: 0.5357 - recall_3: 0.0591 - f1_score: 0.3169 - val_loss: 1.0025 - val_accuracy: 0.3571 - val_auc_3: 0.6624 - val_precision_3: 0.5000 - val_recall_3: 0.0476 - val_f1_score: 0.2210 - 653ms/epoch - 82ms/step\n",
      "Epoch 43/50\n",
      "8/8 - 1s - loss: 0.9066 - accuracy: 0.4724 - auc_3: 0.7076 - precision_3: 0.5769 - recall_3: 0.0591 - f1_score: 0.3346 - val_loss: 0.9912 - val_accuracy: 0.3413 - val_auc_3: 0.6788 - val_precision_3: 0.5000 - val_recall_3: 0.0397 - val_f1_score: 0.2344 - 652ms/epoch - 81ms/step\n",
      "Epoch 44/50\n",
      "8/8 - 1s - loss: 0.9115 - accuracy: 0.4449 - auc_3: 0.7164 - precision_3: 0.5000 - recall_3: 0.0394 - f1_score: 0.3440 - val_loss: 0.9841 - val_accuracy: 0.3810 - val_auc_3: 0.6785 - val_precision_3: 0.4444 - val_recall_3: 0.0317 - val_f1_score: 0.2678 - 650ms/epoch - 81ms/step\n",
      "Epoch 45/50\n",
      "8/8 - 1s - loss: 0.9072 - accuracy: 0.4291 - auc_3: 0.7107 - precision_3: 0.6087 - recall_3: 0.0551 - f1_score: 0.3346 - val_loss: 0.9937 - val_accuracy: 0.3492 - val_auc_3: 0.6689 - val_precision_3: 0.4545 - val_recall_3: 0.0397 - val_f1_score: 0.2393 - 651ms/epoch - 81ms/step\n",
      "Epoch 46/50\n",
      "8/8 - 1s - loss: 0.8997 - accuracy: 0.4685 - auc_3: 0.7173 - precision_3: 0.5556 - recall_3: 0.0591 - f1_score: 0.3502 - val_loss: 0.9906 - val_accuracy: 0.3492 - val_auc_3: 0.6740 - val_precision_3: 0.4545 - val_recall_3: 0.0397 - val_f1_score: 0.2395 - 650ms/epoch - 81ms/step\n",
      "Epoch 47/50\n",
      "8/8 - 1s - loss: 0.8955 - accuracy: 0.4567 - auc_3: 0.7161 - precision_3: 0.5200 - recall_3: 0.0512 - f1_score: 0.3448 - val_loss: 0.9868 - val_accuracy: 0.3492 - val_auc_3: 0.6742 - val_precision_3: 0.5000 - val_recall_3: 0.0397 - val_f1_score: 0.2413 - 658ms/epoch - 82ms/step\n",
      "Epoch 48/50\n",
      "8/8 - 1s - loss: 0.8921 - accuracy: 0.4646 - auc_3: 0.7118 - precision_3: 0.5263 - recall_3: 0.0394 - f1_score: 0.3577 - val_loss: 0.9882 - val_accuracy: 0.3492 - val_auc_3: 0.6714 - val_precision_3: 0.5000 - val_recall_3: 0.0397 - val_f1_score: 0.2454 - 659ms/epoch - 82ms/step\n",
      "Epoch 49/50\n",
      "8/8 - 1s - loss: 0.8859 - accuracy: 0.4528 - auc_3: 0.7106 - precision_3: 0.5000 - recall_3: 0.0394 - f1_score: 0.3537 - val_loss: 0.9829 - val_accuracy: 0.3333 - val_auc_3: 0.6765 - val_precision_3: 0.5000 - val_recall_3: 0.0476 - val_f1_score: 0.2309 - 651ms/epoch - 81ms/step\n",
      "Epoch 50/50\n",
      "8/8 - 1s - loss: 0.8817 - accuracy: 0.4528 - auc_3: 0.7182 - precision_3: 0.5000 - recall_3: 0.0433 - f1_score: 0.3595 - val_loss: 0.9731 - val_accuracy: 0.3889 - val_auc_3: 0.6882 - val_precision_3: 0.4615 - val_recall_3: 0.0476 - val_f1_score: 0.2668 - 655ms/epoch - 82ms/step\n"
     ]
    },
    {
     "data": {
      "image/png": "[encoded data removed]",
      "text/plain": [
       "<Figure size 432x288 with 1 Axes>"
      ]
     },
     "metadata": {
      "needs_background": "light"
     },
     "output_type": "display_data"
    }
   ],
   "source": [
    "for train_index, val_index in kf.split(X):\n",
    "    X_train, X_val = X[train_index], X[val_index]\n",
    "    y_train, y_val = y[train_index], y[val_index]\n",
    "    baseline_body_model = Baseline(n_features, n_length, n_outputs)\n",
    "    history = baseline_body_model.train(X_train, y_train, X_val, y_val, epochs, batch_size, d_class_weights)\n",
    "    plt.plot(history.history['loss'])\n",
    "    plt.show()"
   ]
  },
  {
   "cell_type": "markdown",
   "metadata": {},
   "source": [
    "#### Prediction on holdout set"
   ]
  },
  {
   "cell_type": "code",
   "execution_count": 9,
   "metadata": {},
   "outputs": [
    {
     "name": "stdout",
     "output_type": "stream",
     "text": [
      "Accuracy: 49.79% \n",
      "Balanced Accuracy: 23.59% \n",
      "ROC/AUC: 0.70 \n",
      "Precision: 0.72 \n",
      "Recall: 0.11 \n",
      "F1 score: 0.25\n"
     ]
    }
   ],
   "source": [
    "y_pred = baseline_body_model.predict(X_test)\n",
    "_, acc, auc, precision, recall, f1 = baseline_body_model.evaluate(X_test, y_test)\n",
    "results.append(round(auc, 2))\n",
    "bal_acc = balanced_accuracy_score(y_test.argmax(axis=1), y_pred.argmax(axis=1)) \n",
    "print('Accuracy: {:.2f}% \\nBalanced Accuracy: {:.2f}% \\nROC/AUC: {:.2f} \\nPrecision: {:.2f} \\nRecall: {:.2f} \\nF1 score: {:.2f}'.format(acc * 100, bal_acc * 100, auc, precision, recall, f1))"
   ]
  },
  {
   "cell_type": "markdown",
   "metadata": {},
   "source": [
    "## 2. Unimodal Face Modality (Action Units + Head Pose)"
   ]
  },
  {
   "cell_type": "markdown",
   "metadata": {},
   "source": [
    "### Dataset"
   ]
  },
  {
   "cell_type": "code",
   "execution_count": 10,
   "metadata": {},
   "outputs": [
    {
     "name": "stdout",
     "output_type": "stream",
     "text": [
      "(366, 350, 25) (366, 3)\n",
      "(231, 350, 25) (231, 3)\n"
     ]
    }
   ],
   "source": [
    "X_train, X_test, y_train, y_test = load_dataset('AUs', level=True, nopain=False)\n",
    "X_train = X_train.reshape(X_train.shape[0], X_train.shape[2], X_train.shape[3])\n",
    "X_test = X_test.reshape(X_test.shape[0], X_test.shape[2], X_test.shape[3])\n",
    "X = X_train.copy()\n",
    "y = y_train.copy()\n",
    "\n",
    "print(X_train.shape, y_train.shape)\n",
    "print(X_test.shape, y_test.shape)\n",
    "\n",
    "n_length, n_features, n_outputs = X_train.shape[1], X_train.shape[-1], y_train.shape[1]"
   ]
  },
  {
   "cell_type": "code",
   "execution_count": 11,
   "metadata": {},
   "outputs": [
    {
     "data": {
      "text/plain": [
       "Mild        211\n",
       "Moderate    152\n",
       "Severe        3\n",
       "dtype: int64"
      ]
     },
     "execution_count": 11,
     "metadata": {},
     "output_type": "execute_result"
    }
   ],
   "source": [
    "classes = get_class_names('AUs', level=True, nopain=False)\n",
    "tmp = pd.DataFrame(classes)\n",
    "classes = tmp.value_counts()\n",
    "classes"
   ]
  },
  {
   "cell_type": "code",
   "execution_count": 12,
   "metadata": {},
   "outputs": [
    {
     "data": {
      "text/plain": [
       "{0: 0.5781990521327014, 1: 0.8026315789473685, 2: 40.666666666666664}"
      ]
     },
     "execution_count": 12,
     "metadata": {},
     "output_type": "execute_result"
    }
   ],
   "source": [
    "y_integers = np.argmax(y_train, axis=1)\n",
    "class_weights = compute_class_weight(class_weight='balanced', classes=np.unique(y_integers), y=y_integers)\n",
    "d_class_weights = dict(enumerate(class_weights))\n",
    "d_class_weights"
   ]
  },
  {
   "cell_type": "code",
   "execution_count": 13,
   "metadata": {},
   "outputs": [
    {
     "name": "stdout",
     "output_type": "stream",
     "text": [
      "Model: \"model_4\"\n",
      "_________________________________________________________________\n",
      " Layer (type)                Output Shape              Param #   \n",
      "=================================================================\n",
      " input_5 (InputLayer)        [(None, 350, 25)]         0         \n",
      "                                                                 \n",
      " lstm_4 (LSTM)               (None, 50)                15200     \n",
      "                                                                 \n",
      " dense_8 (Dense)             (None, 50)                2550      \n",
      "                                                                 \n",
      " dense_9 (Dense)             (None, 3)                 153       \n",
      "                                                                 \n",
      "=================================================================\n",
      "Total params: 17,903\n",
      "Trainable params: 17,903\n",
      "Non-trainable params: 0\n",
      "_________________________________________________________________\n"
     ]
    }
   ],
   "source": [
    "model = Baseline(n_features, n_length, n_outputs)\n",
    "model.summary()"
   ]
  },
  {
   "cell_type": "markdown",
   "metadata": {},
   "source": [
    "### Baseline Model"
   ]
  },
  {
   "cell_type": "code",
   "execution_count": 14,
   "metadata": {},
   "outputs": [
    {
     "name": "stdout",
     "output_type": "stream",
     "text": [
      "Epoch 1/50\n",
      "8/8 - 3s - loss: 1.3986 - accuracy: 0.2828 - auc_5: 0.4505 - precision_5: 0.3617 - recall_5: 0.0697 - f1_score: 0.1798 - val_loss: 1.2696 - val_accuracy: 0.2787 - val_auc_5: 0.4331 - val_precision_5: 0.1818 - val_recall_5: 0.0164 - val_f1_score: 0.1730 - 3s/epoch - 376ms/step\n",
      "Epoch 2/50\n",
      "8/8 - 1s - loss: 1.3729 - accuracy: 0.2746 - auc_5: 0.4290 - precision_5: 0.1053 - recall_5: 0.0082 - f1_score: 0.1758 - val_loss: 1.2583 - val_accuracy: 0.2787 - val_auc_5: 0.4222 - val_precision_5: 0.1111 - val_recall_5: 0.0082 - val_f1_score: 0.1717 - 645ms/epoch - 81ms/step\n",
      "Epoch 3/50\n",
      "8/8 - 1s - loss: 1.3517 - accuracy: 0.2951 - auc_5: 0.4217 - precision_5: 0.2143 - recall_5: 0.0123 - f1_score: 0.1851 - val_loss: 1.2468 - val_accuracy: 0.2787 - val_auc_5: 0.4174 - val_precision_5: 0.1111 - val_recall_5: 0.0082 - val_f1_score: 0.1717 - 654ms/epoch - 82ms/step\n",
      "Epoch 4/50\n",
      "8/8 - 1s - loss: 1.3324 - accuracy: 0.2992 - auc_5: 0.4255 - precision_5: 0.0909 - recall_5: 0.0041 - f1_score: 0.1870 - val_loss: 1.2408 - val_accuracy: 0.2705 - val_auc_5: 0.4127 - val_precision_5: 0.1429 - val_recall_5: 0.0082 - val_f1_score: 0.1679 - 644ms/epoch - 80ms/step\n",
      "Epoch 5/50\n",
      "8/8 - 1s - loss: 1.3172 - accuracy: 0.2787 - auc_5: 0.4253 - precision_5: 0.1000 - recall_5: 0.0041 - f1_score: 0.1778 - val_loss: 1.2328 - val_accuracy: 0.2869 - val_auc_5: 0.4066 - val_precision_5: 0.1667 - val_recall_5: 0.0082 - val_f1_score: 0.1728 - 651ms/epoch - 81ms/step\n",
      "Epoch 6/50\n",
      "8/8 - 1s - loss: 1.3028 - accuracy: 0.2787 - auc_5: 0.4135 - precision_5: 0.1111 - recall_5: 0.0041 - f1_score: 0.1783 - val_loss: 1.2238 - val_accuracy: 0.2951 - val_auc_5: 0.3999 - val_precision_5: 0.1667 - val_recall_5: 0.0082 - val_f1_score: 0.1765 - 646ms/epoch - 81ms/step\n",
      "Epoch 7/50\n",
      "8/8 - 1s - loss: 1.2901 - accuracy: 0.2910 - auc_5: 0.4162 - precision_5: 0.1429 - recall_5: 0.0041 - f1_score: 0.1849 - val_loss: 1.2193 - val_accuracy: 0.2213 - val_auc_5: 0.3977 - val_precision_5: 0.1667 - val_recall_5: 0.0082 - val_f1_score: 0.1463 - 646ms/epoch - 81ms/step\n",
      "Epoch 8/50\n",
      "8/8 - 1s - loss: 1.2737 - accuracy: 0.2541 - auc_5: 0.4200 - precision_5: 0.1429 - recall_5: 0.0041 - f1_score: 0.1700 - val_loss: 1.2099 - val_accuracy: 0.2377 - val_auc_5: 0.3945 - val_precision_5: 0.0000e+00 - val_recall_5: 0.0000e+00 - val_f1_score: 0.1522 - 648ms/epoch - 81ms/step\n",
      "Epoch 9/50\n",
      "8/8 - 1s - loss: 1.2608 - accuracy: 0.2541 - auc_5: 0.4280 - precision_5: 0.0000e+00 - recall_5: 0.0000e+00 - f1_score: 0.1688 - val_loss: 1.2023 - val_accuracy: 0.2377 - val_auc_5: 0.3897 - val_precision_5: 0.0000e+00 - val_recall_5: 0.0000e+00 - val_f1_score: 0.1510 - 655ms/epoch - 82ms/step\n",
      "Epoch 10/50\n",
      "8/8 - 1s - loss: 1.2479 - accuracy: 0.2787 - auc_5: 0.4333 - precision_5: 0.0833 - recall_5: 0.0041 - f1_score: 0.1794 - val_loss: 1.1858 - val_accuracy: 0.2623 - val_auc_5: 0.3978 - val_precision_5: 0.0000e+00 - val_recall_5: 0.0000e+00 - val_f1_score: 0.1616 - 649ms/epoch - 81ms/step\n",
      "Epoch 11/50\n",
      "8/8 - 1s - loss: 1.2347 - accuracy: 0.2951 - auc_5: 0.4480 - precision_5: 0.1111 - recall_5: 0.0041 - f1_score: 0.1856 - val_loss: 1.1817 - val_accuracy: 0.2623 - val_auc_5: 0.3946 - val_precision_5: 0.0000e+00 - val_recall_5: 0.0000e+00 - val_f1_score: 0.1604 - 650ms/epoch - 81ms/step\n",
      "Epoch 12/50\n",
      "8/8 - 1s - loss: 1.2269 - accuracy: 0.3033 - auc_5: 0.4504 - precision_5: 0.0909 - recall_5: 0.0041 - f1_score: 0.1884 - val_loss: 1.1777 - val_accuracy: 0.2787 - val_auc_5: 0.3943 - val_precision_5: 0.0000e+00 - val_recall_5: 0.0000e+00 - val_f1_score: 0.1679 - 647ms/epoch - 81ms/step\n",
      "Epoch 13/50\n",
      "8/8 - 1s - loss: 1.2159 - accuracy: 0.3279 - auc_5: 0.4627 - precision_5: 0.1111 - recall_5: 0.0041 - f1_score: 0.2077 - val_loss: 1.1675 - val_accuracy: 0.2869 - val_auc_5: 0.3997 - val_precision_5: 0.0000e+00 - val_recall_5: 0.0000e+00 - val_f1_score: 0.1716 - 645ms/epoch - 81ms/step\n",
      "Epoch 14/50\n",
      "8/8 - 1s - loss: 1.2135 - accuracy: 0.3361 - auc_5: 0.4582 - precision_5: 0.0000e+00 - recall_5: 0.0000e+00 - f1_score: 0.2114 - val_loss: 1.1694 - val_accuracy: 0.2951 - val_auc_5: 0.3913 - val_precision_5: 0.0000e+00 - val_recall_5: 0.0000e+00 - val_f1_score: 0.1739 - 646ms/epoch - 81ms/step\n",
      "Epoch 15/50\n",
      "8/8 - 1s - loss: 1.2095 - accuracy: 0.3361 - auc_5: 0.4539 - precision_5: 0.1250 - recall_5: 0.0041 - f1_score: 0.2103 - val_loss: 1.1674 - val_accuracy: 0.2951 - val_auc_5: 0.3932 - val_precision_5: 0.0000e+00 - val_recall_5: 0.0000e+00 - val_f1_score: 0.1739 - 646ms/epoch - 81ms/step\n",
      "Epoch 16/50\n",
      "8/8 - 1s - loss: 1.2064 - accuracy: 0.3361 - auc_5: 0.4555 - precision_5: 0.1250 - recall_5: 0.0041 - f1_score: 0.2103 - val_loss: 1.1662 - val_accuracy: 0.3115 - val_auc_5: 0.3897 - val_precision_5: 0.0000e+00 - val_recall_5: 0.0000e+00 - val_f1_score: 0.1921 - 650ms/epoch - 81ms/step\n",
      "Epoch 17/50\n",
      "8/8 - 1s - loss: 1.2030 - accuracy: 0.2869 - auc_5: 0.4410 - precision_5: 0.1250 - recall_5: 0.0041 - f1_score: 0.2104 - val_loss: 1.1713 - val_accuracy: 0.1475 - val_auc_5: 0.3567 - val_precision_5: 0.0000e+00 - val_recall_5: 0.0000e+00 - val_f1_score: 0.1255 - 647ms/epoch - 81ms/step\n",
      "Epoch 18/50\n",
      "8/8 - 1s - loss: 1.2003 - accuracy: 0.1926 - auc_5: 0.4212 - precision_5: 0.1250 - recall_5: 0.0041 - f1_score: 0.1766 - val_loss: 1.1724 - val_accuracy: 0.1311 - val_auc_5: 0.3511 - val_precision_5: 0.0000e+00 - val_recall_5: 0.0000e+00 - val_f1_score: 0.1164 - 648ms/epoch - 81ms/step\n",
      "Epoch 19/50\n",
      "8/8 - 1s - loss: 1.1977 - accuracy: 0.1475 - auc_5: 0.4164 - precision_5: 0.1250 - recall_5: 0.0041 - f1_score: 0.1434 - val_loss: 1.1743 - val_accuracy: 0.1066 - val_auc_5: 0.3391 - val_precision_5: 0.0000e+00 - val_recall_5: 0.0000e+00 - val_f1_score: 0.0984 - 658ms/epoch - 82ms/step\n",
      "Epoch 20/50\n",
      "8/8 - 1s - loss: 1.1966 - accuracy: 0.1352 - auc_5: 0.4126 - precision_5: 0.1111 - recall_5: 0.0041 - f1_score: 0.1385 - val_loss: 1.1780 - val_accuracy: 0.0984 - val_auc_5: 0.3331 - val_precision_5: 0.0000e+00 - val_recall_5: 0.0000e+00 - val_f1_score: 0.0919 - 651ms/epoch - 81ms/step\n",
      "Epoch 21/50\n",
      "8/8 - 1s - loss: 1.1934 - accuracy: 0.1639 - auc_5: 0.4166 - precision_5: 0.1429 - recall_5: 0.0041 - f1_score: 0.1736 - val_loss: 1.1737 - val_accuracy: 0.1475 - val_auc_5: 0.3351 - val_precision_5: 0.0000e+00 - val_recall_5: 0.0000e+00 - val_f1_score: 0.1518 - 652ms/epoch - 81ms/step\n",
      "Epoch 22/50\n",
      "8/8 - 1s - loss: 1.1899 - accuracy: 0.2131 - auc_5: 0.4234 - precision_5: 0.1667 - recall_5: 0.0041 - f1_score: 0.2227 - val_loss: 1.1757 - val_accuracy: 0.1475 - val_auc_5: 0.3364 - val_precision_5: 0.0000e+00 - val_recall_5: 0.0000e+00 - val_f1_score: 0.1506 - 645ms/epoch - 81ms/step\n",
      "Epoch 23/50\n",
      "8/8 - 1s - loss: 1.1874 - accuracy: 0.2254 - auc_5: 0.4251 - precision_5: 0.1667 - recall_5: 0.0041 - f1_score: 0.2346 - val_loss: 1.1792 - val_accuracy: 0.1475 - val_auc_5: 0.3290 - val_precision_5: 0.0000e+00 - val_recall_5: 0.0000e+00 - val_f1_score: 0.1496 - 650ms/epoch - 81ms/step\n",
      "Epoch 24/50\n",
      "8/8 - 1s - loss: 1.1854 - accuracy: 0.1762 - auc_5: 0.4135 - precision_5: 0.1429 - recall_5: 0.0041 - f1_score: 0.1867 - val_loss: 1.1852 - val_accuracy: 0.0984 - val_auc_5: 0.3240 - val_precision_5: 0.0000e+00 - val_recall_5: 0.0000e+00 - val_f1_score: 0.0959 - 648ms/epoch - 81ms/step\n",
      "Epoch 25/50\n",
      "8/8 - 1s - loss: 1.1825 - accuracy: 0.1598 - auc_5: 0.4104 - precision_5: 0.1429 - recall_5: 0.0041 - f1_score: 0.1683 - val_loss: 1.1839 - val_accuracy: 0.0902 - val_auc_5: 0.3279 - val_precision_5: 0.0000e+00 - val_recall_5: 0.0000e+00 - val_f1_score: 0.0897 - 648ms/epoch - 81ms/step\n",
      "Epoch 26/50\n",
      "8/8 - 1s - loss: 1.1807 - accuracy: 0.1270 - auc_5: 0.4094 - precision_5: 0.1250 - recall_5: 0.0041 - f1_score: 0.1419 - val_loss: 1.1917 - val_accuracy: 0.0492 - val_auc_5: 0.3196 - val_precision_5: 0.0000e+00 - val_recall_5: 0.0000e+00 - val_f1_score: 0.0586 - 652ms/epoch - 81ms/step\n",
      "Epoch 27/50\n",
      "8/8 - 1s - loss: 1.1769 - accuracy: 0.1311 - auc_5: 0.4110 - precision_5: 0.1250 - recall_5: 0.0041 - f1_score: 0.1479 - val_loss: 1.1897 - val_accuracy: 0.0656 - val_auc_5: 0.3241 - val_precision_5: 0.0000e+00 - val_recall_5: 0.0000e+00 - val_f1_score: 0.0770 - 648ms/epoch - 81ms/step\n",
      "Epoch 28/50\n",
      "8/8 - 1s - loss: 1.1715 - accuracy: 0.1598 - auc_5: 0.4284 - precision_5: 0.1250 - recall_5: 0.0041 - f1_score: 0.1743 - val_loss: 1.1904 - val_accuracy: 0.0738 - val_auc_5: 0.3345 - val_precision_5: 0.0000e+00 - val_recall_5: 0.0000e+00 - val_f1_score: 0.0834 - 648ms/epoch - 81ms/step\n",
      "Epoch 29/50\n",
      "8/8 - 1s - loss: 1.1716 - accuracy: 0.2008 - auc_5: 0.4551 - precision_5: 0.3333 - recall_5: 0.0041 - f1_score: 0.2080 - val_loss: 1.1868 - val_accuracy: 0.0738 - val_auc_5: 0.3445 - val_precision_5: 0.0000e+00 - val_recall_5: 0.0000e+00 - val_f1_score: 0.0827 - 648ms/epoch - 81ms/step\n",
      "Epoch 30/50\n",
      "8/8 - 1s - loss: 1.1616 - accuracy: 0.2090 - auc_5: 0.4649 - precision_5: 0.5000 - recall_5: 0.0041 - f1_score: 0.2149 - val_loss: 1.1816 - val_accuracy: 0.0820 - val_auc_5: 0.3557 - val_precision_5: 0.0000e+00 - val_recall_5: 0.0000e+00 - val_f1_score: 0.0901 - 655ms/epoch - 82ms/step\n",
      "Epoch 31/50\n",
      "8/8 - 1s - loss: 1.1557 - accuracy: 0.2172 - auc_5: 0.4738 - precision_5: 0.3333 - recall_5: 0.0041 - f1_score: 0.2226 - val_loss: 1.1837 - val_accuracy: 0.0902 - val_auc_5: 0.3552 - val_precision_5: 0.0000e+00 - val_recall_5: 0.0000e+00 - val_f1_score: 0.0977 - 649ms/epoch - 81ms/step\n",
      "Epoch 32/50\n",
      "8/8 - 1s - loss: 1.1515 - accuracy: 0.2254 - auc_5: 0.4807 - precision_5: 0.3333 - recall_5: 0.0041 - f1_score: 0.2241 - val_loss: 1.1830 - val_accuracy: 0.0984 - val_auc_5: 0.3577 - val_precision_5: 0.0000e+00 - val_recall_5: 0.0000e+00 - val_f1_score: 0.1040 - 646ms/epoch - 81ms/step\n",
      "Epoch 33/50\n",
      "8/8 - 1s - loss: 1.1473 - accuracy: 0.2336 - auc_5: 0.4882 - precision_5: 0.3333 - recall_5: 0.0041 - f1_score: 0.2270 - val_loss: 1.1808 - val_accuracy: 0.0984 - val_auc_5: 0.3683 - val_precision_5: 0.0000e+00 - val_recall_5: 0.0000e+00 - val_f1_score: 0.1029 - 651ms/epoch - 81ms/step\n",
      "Epoch 34/50\n",
      "8/8 - 1s - loss: 1.1425 - accuracy: 0.2500 - auc_5: 0.5002 - precision_5: 0.3333 - recall_5: 0.0041 - f1_score: 0.2403 - val_loss: 1.1793 - val_accuracy: 0.1066 - val_auc_5: 0.3738 - val_precision_5: 0.0000e+00 - val_recall_5: 0.0000e+00 - val_f1_score: 0.1105 - 648ms/epoch - 81ms/step\n",
      "Epoch 35/50\n",
      "8/8 - 1s - loss: 1.1380 - accuracy: 0.2541 - auc_5: 0.5107 - precision_5: 0.3333 - recall_5: 0.0041 - f1_score: 0.2370 - val_loss: 1.1734 - val_accuracy: 0.1148 - val_auc_5: 0.3902 - val_precision_5: 0.0000e+00 - val_recall_5: 0.0000e+00 - val_f1_score: 0.1144 - 648ms/epoch - 81ms/step\n",
      "Epoch 36/50\n",
      "8/8 - 1s - loss: 1.1345 - accuracy: 0.2582 - auc_5: 0.5143 - precision_5: 0.3333 - recall_5: 0.0041 - f1_score: 0.2390 - val_loss: 1.1739 - val_accuracy: 0.1311 - val_auc_5: 0.3915 - val_precision_5: 0.0000e+00 - val_recall_5: 0.0000e+00 - val_f1_score: 0.1282 - 652ms/epoch - 82ms/step\n",
      "Epoch 37/50\n",
      "8/8 - 1s - loss: 1.1312 - accuracy: 0.2664 - auc_5: 0.5161 - precision_5: 0.3333 - recall_5: 0.0041 - f1_score: 0.2421 - val_loss: 1.1699 - val_accuracy: 0.1311 - val_auc_5: 0.3991 - val_precision_5: 0.0000e+00 - val_recall_5: 0.0000e+00 - val_f1_score: 0.1242 - 652ms/epoch - 81ms/step\n",
      "Epoch 38/50\n",
      "8/8 - 1s - loss: 1.1235 - accuracy: 0.2664 - auc_5: 0.5243 - precision_5: 0.5000 - recall_5: 0.0041 - f1_score: 0.2421 - val_loss: 1.1609 - val_accuracy: 0.1639 - val_auc_5: 0.4124 - val_precision_5: 0.0000e+00 - val_recall_5: 0.0000e+00 - val_f1_score: 0.1508 - 650ms/epoch - 81ms/step\n",
      "Epoch 39/50\n",
      "8/8 - 1s - loss: 1.1193 - accuracy: 0.2992 - auc_5: 0.5331 - precision_5: 0.3333 - recall_5: 0.0041 - f1_score: 0.2669 - val_loss: 1.1576 - val_accuracy: 0.1967 - val_auc_5: 0.4210 - val_precision_5: 0.0000e+00 - val_recall_5: 0.0000e+00 - val_f1_score: 0.1760 - 653ms/epoch - 82ms/step\n",
      "Epoch 40/50\n",
      "8/8 - 1s - loss: 1.1152 - accuracy: 0.3279 - auc_5: 0.5444 - precision_5: 0.3333 - recall_5: 0.0082 - f1_score: 0.2883 - val_loss: 1.1505 - val_accuracy: 0.2049 - val_auc_5: 0.4368 - val_precision_5: 0.0000e+00 - val_recall_5: 0.0000e+00 - val_f1_score: 0.1829 - 654ms/epoch - 82ms/step\n",
      "Epoch 41/50\n",
      "8/8 - 1s - loss: 1.1122 - accuracy: 0.3525 - auc_5: 0.5551 - precision_5: 0.3333 - recall_5: 0.0082 - f1_score: 0.3069 - val_loss: 1.1435 - val_accuracy: 0.2459 - val_auc_5: 0.4487 - val_precision_5: 0.0000e+00 - val_recall_5: 0.0000e+00 - val_f1_score: 0.2129 - 646ms/epoch - 81ms/step\n",
      "Epoch 42/50\n",
      "8/8 - 1s - loss: 1.1100 - accuracy: 0.3525 - auc_5: 0.5607 - precision_5: 0.3333 - recall_5: 0.0082 - f1_score: 0.3036 - val_loss: 1.1403 - val_accuracy: 0.2295 - val_auc_5: 0.4507 - val_precision_5: 0.0000e+00 - val_recall_5: 0.0000e+00 - val_f1_score: 0.1978 - 653ms/epoch - 82ms/step\n",
      "Epoch 43/50\n",
      "8/8 - 1s - loss: 1.1036 - accuracy: 0.3770 - auc_5: 0.5762 - precision_5: 0.3333 - recall_5: 0.0082 - f1_score: 0.3194 - val_loss: 1.1320 - val_accuracy: 0.2951 - val_auc_5: 0.4674 - val_precision_5: 0.0000e+00 - val_recall_5: 0.0000e+00 - val_f1_score: 0.2401 - 644ms/epoch - 80ms/step\n",
      "Epoch 44/50\n",
      "8/8 - 1s - loss: 1.1001 - accuracy: 0.3934 - auc_5: 0.5811 - precision_5: 0.2857 - recall_5: 0.0082 - f1_score: 0.3336 - val_loss: 1.1305 - val_accuracy: 0.2623 - val_auc_5: 0.4690 - val_precision_5: 0.0000e+00 - val_recall_5: 0.0000e+00 - val_f1_score: 0.2209 - 652ms/epoch - 82ms/step\n",
      "Epoch 45/50\n",
      "8/8 - 1s - loss: 1.1024 - accuracy: 0.4016 - auc_5: 0.5896 - precision_5: 0.3333 - recall_5: 0.0082 - f1_score: 0.3391 - val_loss: 1.1296 - val_accuracy: 0.2869 - val_auc_5: 0.4763 - val_precision_5: 0.0000e+00 - val_recall_5: 0.0000e+00 - val_f1_score: 0.2370 - 648ms/epoch - 81ms/step\n",
      "Epoch 46/50\n",
      "8/8 - 1s - loss: 1.0954 - accuracy: 0.4098 - auc_5: 0.5860 - precision_5: 0.2857 - recall_5: 0.0082 - f1_score: 0.3462 - val_loss: 1.1306 - val_accuracy: 0.2705 - val_auc_5: 0.4756 - val_precision_5: 0.0000e+00 - val_recall_5: 0.0000e+00 - val_f1_score: 0.2294 - 655ms/epoch - 82ms/step\n",
      "Epoch 47/50\n",
      "8/8 - 1s - loss: 1.0927 - accuracy: 0.3934 - auc_5: 0.5863 - precision_5: 0.2857 - recall_5: 0.0082 - f1_score: 0.3353 - val_loss: 1.1301 - val_accuracy: 0.2787 - val_auc_5: 0.4765 - val_precision_5: 0.0000e+00 - val_recall_5: 0.0000e+00 - val_f1_score: 0.2341 - 649ms/epoch - 81ms/step\n",
      "Epoch 48/50\n",
      "8/8 - 1s - loss: 1.0899 - accuracy: 0.4016 - auc_5: 0.5882 - precision_5: 0.2500 - recall_5: 0.0082 - f1_score: 0.3418 - val_loss: 1.1278 - val_accuracy: 0.2951 - val_auc_5: 0.4827 - val_precision_5: 0.0000e+00 - val_recall_5: 0.0000e+00 - val_f1_score: 0.2440 - 658ms/epoch - 82ms/step\n",
      "Epoch 49/50\n",
      "8/8 - 1s - loss: 1.0879 - accuracy: 0.4262 - auc_5: 0.5979 - precision_5: 0.2000 - recall_5: 0.0082 - f1_score: 0.3586 - val_loss: 1.1236 - val_accuracy: 0.3115 - val_auc_5: 0.4964 - val_precision_5: 0.0000e+00 - val_recall_5: 0.0000e+00 - val_f1_score: 0.2533 - 657ms/epoch - 82ms/step\n",
      "Epoch 50/50\n",
      "8/8 - 1s - loss: 1.0840 - accuracy: 0.4262 - auc_5: 0.5991 - precision_5: 0.2000 - recall_5: 0.0082 - f1_score: 0.3581 - val_loss: 1.1272 - val_accuracy: 0.2951 - val_auc_5: 0.4903 - val_precision_5: 0.0000e+00 - val_recall_5: 0.0000e+00 - val_f1_score: 0.2440 - 657ms/epoch - 82ms/step\n"
     ]
    },
    {
     "data": {
      "image/png": "[encoded data removed]",
      "text/plain": [
       "<Figure size 432x288 with 1 Axes>"
      ]
     },
     "metadata": {
      "needs_background": "light"
     },
     "output_type": "display_data"
    },
    {
     "name": "stdout",
     "output_type": "stream",
     "text": [
      "Epoch 1/50\n",
      "8/8 - 3s - loss: 1.1233 - accuracy: 0.1025 - auc_6: 0.2997 - precision_6: 0.0173 - recall_6: 0.0123 - f1_score: 0.0926 - val_loss: 1.4076 - val_accuracy: 0.0984 - val_auc_6: 0.3204 - val_precision_6: 0.0625 - val_recall_6: 0.0410 - val_f1_score: 0.0899 - 3s/epoch - 338ms/step\n",
      "Epoch 2/50\n",
      "8/8 - 1s - loss: 1.0820 - accuracy: 0.1352 - auc_6: 0.3237 - precision_6: 0.0233 - recall_6: 0.0123 - f1_score: 0.1157 - val_loss: 1.3470 - val_accuracy: 0.1066 - val_auc_6: 0.3407 - val_precision_6: 0.1042 - val_recall_6: 0.0410 - val_f1_score: 0.0935 - 653ms/epoch - 82ms/step\n",
      "Epoch 3/50\n",
      "8/8 - 1s - loss: 1.0458 - accuracy: 0.1721 - auc_6: 0.3553 - precision_6: 0.0526 - recall_6: 0.0205 - f1_score: 0.1383 - val_loss: 1.2973 - val_accuracy: 0.1393 - val_auc_6: 0.3639 - val_precision_6: 0.1071 - val_recall_6: 0.0246 - val_f1_score: 0.1142 - 654ms/epoch - 82ms/step\n",
      "Epoch 4/50\n",
      "8/8 - 1s - loss: 1.0161 - accuracy: 0.2008 - auc_6: 0.3923 - precision_6: 0.1636 - recall_6: 0.0369 - f1_score: 0.1508 - val_loss: 1.2556 - val_accuracy: 0.1721 - val_auc_6: 0.3903 - val_precision_6: 0.2727 - val_recall_6: 0.0492 - val_f1_score: 0.1346 - 657ms/epoch - 82ms/step\n",
      "Epoch 5/50\n",
      "8/8 - 1s - loss: 0.9977 - accuracy: 0.2131 - auc_6: 0.4180 - precision_6: 0.3654 - recall_6: 0.0779 - f1_score: 0.1566 - val_loss: 1.2142 - val_accuracy: 0.1803 - val_auc_6: 0.4136 - val_precision_6: 0.3000 - val_recall_6: 0.0492 - val_f1_score: 0.1380 - 657ms/epoch - 82ms/step\n",
      "Epoch 6/50\n",
      "8/8 - 1s - loss: 0.9746 - accuracy: 0.2254 - auc_6: 0.4363 - precision_6: 0.4118 - recall_6: 0.0861 - f1_score: 0.1615 - val_loss: 1.1865 - val_accuracy: 0.2377 - val_auc_6: 0.4398 - val_precision_6: 0.3000 - val_recall_6: 0.0492 - val_f1_score: 0.1690 - 658ms/epoch - 82ms/step\n",
      "Epoch 7/50\n",
      "8/8 - 1s - loss: 0.9566 - accuracy: 0.2582 - auc_6: 0.4584 - precision_6: 0.4000 - recall_6: 0.0820 - f1_score: 0.1761 - val_loss: 1.1623 - val_accuracy: 0.2459 - val_auc_6: 0.4636 - val_precision_6: 0.3889 - val_recall_6: 0.0574 - val_f1_score: 0.1666 - 659ms/epoch - 82ms/step\n",
      "Epoch 8/50\n",
      "8/8 - 1s - loss: 0.9416 - accuracy: 0.2623 - auc_6: 0.4913 - precision_6: 0.4231 - recall_6: 0.0902 - f1_score: 0.1755 - val_loss: 1.1351 - val_accuracy: 0.2541 - val_auc_6: 0.4990 - val_precision_6: 0.3684 - val_recall_6: 0.0574 - val_f1_score: 0.1674 - 656ms/epoch - 82ms/step\n",
      "Epoch 9/50\n",
      "8/8 - 1s - loss: 0.9246 - accuracy: 0.2664 - auc_6: 0.5278 - precision_6: 0.5116 - recall_6: 0.0902 - f1_score: 0.1706 - val_loss: 1.1105 - val_accuracy: 0.2787 - val_auc_6: 0.5376 - val_precision_6: 0.4375 - val_recall_6: 0.0574 - val_f1_score: 0.1785 - 657ms/epoch - 82ms/step\n",
      "Epoch 10/50\n",
      "8/8 - 1s - loss: 0.9057 - accuracy: 0.2992 - auc_6: 0.5603 - precision_6: 0.6111 - recall_6: 0.0902 - f1_score: 0.1817 - val_loss: 1.0938 - val_accuracy: 0.3115 - val_auc_6: 0.5560 - val_precision_6: 0.5000 - val_recall_6: 0.0574 - val_f1_score: 0.1940 - 658ms/epoch - 82ms/step\n",
      "Epoch 11/50\n",
      "8/8 - 1s - loss: 0.8955 - accuracy: 0.3320 - auc_6: 0.5822 - precision_6: 0.6875 - recall_6: 0.0902 - f1_score: 0.1955 - val_loss: 1.0760 - val_accuracy: 0.3279 - val_auc_6: 0.5721 - val_precision_6: 0.5625 - val_recall_6: 0.0738 - val_f1_score: 0.1975 - 657ms/epoch - 82ms/step\n",
      "Epoch 12/50\n",
      "8/8 - 1s - loss: 0.8861 - accuracy: 0.3689 - auc_6: 0.6052 - precision_6: 0.7188 - recall_6: 0.0943 - f1_score: 0.2074 - val_loss: 1.0593 - val_accuracy: 0.3852 - val_auc_6: 0.5905 - val_precision_6: 0.6000 - val_recall_6: 0.0738 - val_f1_score: 0.2264 - 659ms/epoch - 82ms/step\n",
      "Epoch 13/50\n",
      "8/8 - 1s - loss: 0.8758 - accuracy: 0.4221 - auc_6: 0.6259 - precision_6: 0.7097 - recall_6: 0.0902 - f1_score: 0.2503 - val_loss: 1.0480 - val_accuracy: 0.4016 - val_auc_6: 0.6066 - val_precision_6: 0.6429 - val_recall_6: 0.0738 - val_f1_score: 0.2417 - 657ms/epoch - 82ms/step\n",
      "Epoch 14/50\n",
      "8/8 - 1s - loss: 0.8694 - accuracy: 0.4426 - auc_6: 0.6388 - precision_6: 0.7333 - recall_6: 0.0902 - f1_score: 0.2647 - val_loss: 1.0390 - val_accuracy: 0.4508 - val_auc_6: 0.6180 - val_precision_6: 0.6154 - val_recall_6: 0.0656 - val_f1_score: 0.2621 - 654ms/epoch - 82ms/step\n",
      "Epoch 15/50\n",
      "8/8 - 1s - loss: 0.8635 - accuracy: 0.4713 - auc_6: 0.6571 - precision_6: 0.7407 - recall_6: 0.0820 - f1_score: 0.2732 - val_loss: 1.0295 - val_accuracy: 0.4508 - val_auc_6: 0.6359 - val_precision_6: 0.5833 - val_recall_6: 0.0574 - val_f1_score: 0.2621 - 657ms/epoch - 82ms/step\n",
      "Epoch 16/50\n",
      "8/8 - 1s - loss: 0.8597 - accuracy: 0.4918 - auc_6: 0.6798 - precision_6: 0.8333 - recall_6: 0.0820 - f1_score: 0.2812 - val_loss: 1.0190 - val_accuracy: 0.4590 - val_auc_6: 0.6566 - val_precision_6: 0.6364 - val_recall_6: 0.0574 - val_f1_score: 0.2772 - 660ms/epoch - 83ms/step\n",
      "Epoch 17/50\n",
      "8/8 - 1s - loss: 0.8547 - accuracy: 0.5041 - auc_6: 0.6993 - precision_6: 0.8750 - recall_6: 0.0861 - f1_score: 0.2990 - val_loss: 1.0100 - val_accuracy: 0.4590 - val_auc_6: 0.6745 - val_precision_6: 0.6000 - val_recall_6: 0.0492 - val_f1_score: 0.2772 - 657ms/epoch - 82ms/step\n",
      "Epoch 18/50\n",
      "8/8 - 1s - loss: 0.8496 - accuracy: 0.5041 - auc_6: 0.7146 - precision_6: 0.9130 - recall_6: 0.0861 - f1_score: 0.2990 - val_loss: 1.0070 - val_accuracy: 0.4590 - val_auc_6: 0.6795 - val_precision_6: 0.6364 - val_recall_6: 0.0574 - val_f1_score: 0.2772 - 657ms/epoch - 82ms/step\n",
      "Epoch 19/50\n",
      "8/8 - 1s - loss: 0.8460 - accuracy: 0.5164 - auc_6: 0.7293 - precision_6: 0.9000 - recall_6: 0.0738 - f1_score: 0.3164 - val_loss: 1.0008 - val_accuracy: 0.4672 - val_auc_6: 0.6964 - val_precision_6: 0.6364 - val_recall_6: 0.0574 - val_f1_score: 0.2581 - 656ms/epoch - 82ms/step\n",
      "Epoch 20/50\n",
      "8/8 - 1s - loss: 0.8424 - accuracy: 0.5287 - auc_6: 0.7454 - precision_6: 0.9474 - recall_6: 0.0738 - f1_score: 0.3324 - val_loss: 0.9941 - val_accuracy: 0.4672 - val_auc_6: 0.7086 - val_precision_6: 0.6364 - val_recall_6: 0.0574 - val_f1_score: 0.2573 - 652ms/epoch - 81ms/step\n",
      "Epoch 21/50\n",
      "8/8 - 1s - loss: 0.8399 - accuracy: 0.5369 - auc_6: 0.7563 - precision_6: 0.9474 - recall_6: 0.0738 - f1_score: 0.3478 - val_loss: 0.9861 - val_accuracy: 0.4754 - val_auc_6: 0.7199 - val_precision_6: 0.6364 - val_recall_6: 0.0574 - val_f1_score: 0.2601 - 656ms/epoch - 82ms/step\n",
      "Epoch 22/50\n",
      "8/8 - 1s - loss: 0.8360 - accuracy: 0.5451 - auc_6: 0.7623 - precision_6: 0.9474 - recall_6: 0.0738 - f1_score: 0.3614 - val_loss: 0.9795 - val_accuracy: 0.4590 - val_auc_6: 0.7237 - val_precision_6: 0.6364 - val_recall_6: 0.0574 - val_f1_score: 0.2531 - 655ms/epoch - 82ms/step\n",
      "Epoch 23/50\n",
      "8/8 - 1s - loss: 0.8326 - accuracy: 0.5410 - auc_6: 0.7629 - precision_6: 0.9444 - recall_6: 0.0697 - f1_score: 0.3684 - val_loss: 0.9773 - val_accuracy: 0.4672 - val_auc_6: 0.7245 - val_precision_6: 0.6000 - val_recall_6: 0.0492 - val_f1_score: 0.2632 - 660ms/epoch - 82ms/step\n",
      "Epoch 24/50\n",
      "8/8 - 1s - loss: 0.8288 - accuracy: 0.5451 - auc_6: 0.7640 - precision_6: 0.9412 - recall_6: 0.0656 - f1_score: 0.3730 - val_loss: 0.9726 - val_accuracy: 0.4754 - val_auc_6: 0.7289 - val_precision_6: 0.6000 - val_recall_6: 0.0492 - val_f1_score: 0.2660 - 655ms/epoch - 82ms/step\n",
      "Epoch 25/50\n",
      "8/8 - 1s - loss: 0.8254 - accuracy: 0.5533 - auc_6: 0.7659 - precision_6: 0.9444 - recall_6: 0.0697 - f1_score: 0.3299 - val_loss: 0.9685 - val_accuracy: 0.4918 - val_auc_6: 0.7323 - val_precision_6: 0.6000 - val_recall_6: 0.0492 - val_f1_score: 0.2855 - 660ms/epoch - 83ms/step\n",
      "Epoch 26/50\n",
      "8/8 - 1s - loss: 0.8220 - accuracy: 0.5533 - auc_6: 0.7696 - precision_6: 0.9444 - recall_6: 0.0697 - f1_score: 0.3292 - val_loss: 0.9633 - val_accuracy: 0.5164 - val_auc_6: 0.7344 - val_precision_6: 0.6000 - val_recall_6: 0.0492 - val_f1_score: 0.3069 - 652ms/epoch - 82ms/step\n",
      "Epoch 27/50\n",
      "8/8 - 1s - loss: 0.8190 - accuracy: 0.5410 - auc_6: 0.7736 - precision_6: 0.9412 - recall_6: 0.0656 - f1_score: 0.3254 - val_loss: 0.9591 - val_accuracy: 0.5328 - val_auc_6: 0.7376 - val_precision_6: 0.6000 - val_recall_6: 0.0492 - val_f1_score: 0.3247 - 655ms/epoch - 82ms/step\n",
      "Epoch 28/50\n",
      "8/8 - 1s - loss: 0.8164 - accuracy: 0.5328 - auc_6: 0.7735 - precision_6: 0.8889 - recall_6: 0.0656 - f1_score: 0.3257 - val_loss: 0.9575 - val_accuracy: 0.5082 - val_auc_6: 0.7375 - val_precision_6: 0.6364 - val_recall_6: 0.0574 - val_f1_score: 0.3164 - 658ms/epoch - 82ms/step\n",
      "Epoch 29/50\n",
      "8/8 - 1s - loss: 0.8146 - accuracy: 0.5287 - auc_6: 0.7743 - precision_6: 0.8947 - recall_6: 0.0697 - f1_score: 0.3294 - val_loss: 0.9533 - val_accuracy: 0.4918 - val_auc_6: 0.7377 - val_precision_6: 0.6364 - val_recall_6: 0.0574 - val_f1_score: 0.3149 - 657ms/epoch - 82ms/step\n",
      "Epoch 30/50\n",
      "8/8 - 1s - loss: 0.8120 - accuracy: 0.5287 - auc_6: 0.7764 - precision_6: 0.8947 - recall_6: 0.0697 - f1_score: 0.3312 - val_loss: 0.9512 - val_accuracy: 0.5082 - val_auc_6: 0.7382 - val_precision_6: 0.6364 - val_recall_6: 0.0574 - val_f1_score: 0.3328 - 660ms/epoch - 82ms/step\n",
      "Epoch 31/50\n",
      "8/8 - 1s - loss: 0.8103 - accuracy: 0.5246 - auc_6: 0.7771 - precision_6: 0.8824 - recall_6: 0.0615 - f1_score: 0.3410 - val_loss: 0.9497 - val_accuracy: 0.4836 - val_auc_6: 0.7369 - val_precision_6: 0.7778 - val_recall_6: 0.0574 - val_f1_score: 0.3175 - 656ms/epoch - 82ms/step\n",
      "Epoch 32/50\n",
      "8/8 - 1s - loss: 0.8101 - accuracy: 0.5287 - auc_6: 0.7786 - precision_6: 0.8889 - recall_6: 0.0656 - f1_score: 0.3445 - val_loss: 0.9452 - val_accuracy: 0.4836 - val_auc_6: 0.7409 - val_precision_6: 0.7000 - val_recall_6: 0.0574 - val_f1_score: 0.3175 - 658ms/epoch - 82ms/step\n",
      "Epoch 33/50\n",
      "8/8 - 1s - loss: 0.8074 - accuracy: 0.5287 - auc_6: 0.7801 - precision_6: 0.8947 - recall_6: 0.0697 - f1_score: 0.3445 - val_loss: 0.9451 - val_accuracy: 0.4836 - val_auc_6: 0.7395 - val_precision_6: 0.7000 - val_recall_6: 0.0574 - val_f1_score: 0.3175 - 655ms/epoch - 82ms/step\n",
      "Epoch 34/50\n",
      "8/8 - 1s - loss: 0.8065 - accuracy: 0.5287 - auc_6: 0.7795 - precision_6: 0.8947 - recall_6: 0.0697 - f1_score: 0.3445 - val_loss: 0.9441 - val_accuracy: 0.5000 - val_auc_6: 0.7420 - val_precision_6: 0.7000 - val_recall_6: 0.0574 - val_f1_score: 0.3291 - 655ms/epoch - 82ms/step\n",
      "Epoch 35/50\n",
      "8/8 - 1s - loss: 0.8060 - accuracy: 0.5246 - auc_6: 0.7818 - precision_6: 1.0000 - recall_6: 0.0246 - f1_score: 0.3507 - val_loss: 0.9444 - val_accuracy: 0.5164 - val_auc_6: 0.7447 - val_precision_6: 1.0000 - val_recall_6: 0.0246 - val_f1_score: 0.3529 - 650ms/epoch - 81ms/step\n",
      "Epoch 36/50\n",
      "8/8 - 1s - loss: 0.8045 - accuracy: 0.5615 - auc_6: 0.7844 - precision_6: 1.0000 - recall_6: 0.0205 - f1_score: 0.3803 - val_loss: 0.9412 - val_accuracy: 0.5000 - val_auc_6: 0.7436 - val_precision_6: 1.0000 - val_recall_6: 0.0246 - val_f1_score: 0.3403 - 660ms/epoch - 82ms/step\n",
      "Epoch 37/50\n",
      "8/8 - 1s - loss: 0.8022 - accuracy: 0.5738 - auc_6: 0.7881 - precision_6: 1.0000 - recall_6: 0.0205 - f1_score: 0.3893 - val_loss: 0.9420 - val_accuracy: 0.5000 - val_auc_6: 0.7411 - val_precision_6: 1.0000 - val_recall_6: 0.0246 - val_f1_score: 0.3403 - 655ms/epoch - 82ms/step\n",
      "Epoch 38/50\n",
      "8/8 - 1s - loss: 0.7999 - accuracy: 0.5738 - auc_6: 0.7901 - precision_6: 1.0000 - recall_6: 0.0205 - f1_score: 0.3891 - val_loss: 0.9388 - val_accuracy: 0.5082 - val_auc_6: 0.7461 - val_precision_6: 1.0000 - val_recall_6: 0.0246 - val_f1_score: 0.3459 - 657ms/epoch - 82ms/step\n",
      "Epoch 39/50\n",
      "8/8 - 1s - loss: 0.7981 - accuracy: 0.5820 - auc_6: 0.7957 - precision_6: 1.0000 - recall_6: 0.0205 - f1_score: 0.3948 - val_loss: 0.9358 - val_accuracy: 0.5082 - val_auc_6: 0.7505 - val_precision_6: 1.0000 - val_recall_6: 0.0246 - val_f1_score: 0.3459 - 653ms/epoch - 82ms/step\n",
      "Epoch 40/50\n",
      "8/8 - 1s - loss: 0.7964 - accuracy: 0.5820 - auc_6: 0.7975 - precision_6: 1.0000 - recall_6: 0.0205 - f1_score: 0.3948 - val_loss: 0.9318 - val_accuracy: 0.4836 - val_auc_6: 0.7523 - val_precision_6: 1.0000 - val_recall_6: 0.0246 - val_f1_score: 0.3291 - 654ms/epoch - 82ms/step\n",
      "Epoch 41/50\n",
      "8/8 - 1s - loss: 0.7943 - accuracy: 0.5943 - auc_6: 0.7997 - precision_6: 1.0000 - recall_6: 0.0205 - f1_score: 0.4031 - val_loss: 0.9303 - val_accuracy: 0.4918 - val_auc_6: 0.7525 - val_precision_6: 1.0000 - val_recall_6: 0.0246 - val_f1_score: 0.3346 - 655ms/epoch - 82ms/step\n",
      "Epoch 42/50\n",
      "8/8 - 1s - loss: 0.7939 - accuracy: 0.5943 - auc_6: 0.8004 - precision_6: 1.0000 - recall_6: 0.0205 - f1_score: 0.4029 - val_loss: 0.9261 - val_accuracy: 0.5000 - val_auc_6: 0.7538 - val_precision_6: 1.0000 - val_recall_6: 0.0246 - val_f1_score: 0.3403 - 661ms/epoch - 83ms/step\n",
      "Epoch 43/50\n",
      "8/8 - 1s - loss: 0.7922 - accuracy: 0.5902 - auc_6: 0.8008 - precision_6: 1.0000 - recall_6: 0.0328 - f1_score: 0.3994 - val_loss: 0.9252 - val_accuracy: 0.5082 - val_auc_6: 0.7558 - val_precision_6: 1.0000 - val_recall_6: 0.0246 - val_f1_score: 0.3459 - 651ms/epoch - 81ms/step\n",
      "Epoch 44/50\n",
      "8/8 - 1s - loss: 0.7914 - accuracy: 0.5902 - auc_6: 0.8015 - precision_6: 1.0000 - recall_6: 0.0246 - f1_score: 0.3994 - val_loss: 0.9237 - val_accuracy: 0.5000 - val_auc_6: 0.7547 - val_precision_6: 1.0000 - val_recall_6: 0.0246 - val_f1_score: 0.3403 - 658ms/epoch - 82ms/step\n",
      "Epoch 45/50\n",
      "8/8 - 1s - loss: 0.7903 - accuracy: 0.5902 - auc_6: 0.8016 - precision_6: 1.0000 - recall_6: 0.0246 - f1_score: 0.3996 - val_loss: 0.9240 - val_accuracy: 0.5082 - val_auc_6: 0.7558 - val_precision_6: 1.0000 - val_recall_6: 0.0246 - val_f1_score: 0.3458 - 659ms/epoch - 82ms/step\n",
      "Epoch 46/50\n",
      "8/8 - 1s - loss: 0.7895 - accuracy: 0.5943 - auc_6: 0.8001 - precision_6: 1.0000 - recall_6: 0.0164 - f1_score: 0.4025 - val_loss: 0.9239 - val_accuracy: 0.5082 - val_auc_6: 0.7550 - val_precision_6: 1.0000 - val_recall_6: 0.0246 - val_f1_score: 0.3458 - 655ms/epoch - 82ms/step\n",
      "Epoch 47/50\n",
      "8/8 - 1s - loss: 0.7886 - accuracy: 0.6066 - auc_6: 0.8016 - precision_6: 1.0000 - recall_6: 0.0164 - f1_score: 0.4100 - val_loss: 0.9210 - val_accuracy: 0.5000 - val_auc_6: 0.7551 - val_precision_6: 1.0000 - val_recall_6: 0.0246 - val_f1_score: 0.3403 - 701ms/epoch - 88ms/step\n",
      "Epoch 48/50\n",
      "8/8 - 1s - loss: 0.7882 - accuracy: 0.6066 - auc_6: 0.7996 - precision_6: 1.0000 - recall_6: 0.0164 - f1_score: 0.4100 - val_loss: 0.9223 - val_accuracy: 0.5082 - val_auc_6: 0.7561 - val_precision_6: 1.0000 - val_recall_6: 0.0246 - val_f1_score: 0.3458 - 659ms/epoch - 82ms/step\n",
      "Epoch 49/50\n",
      "8/8 - 1s - loss: 0.7870 - accuracy: 0.5984 - auc_6: 0.8006 - precision_6: 1.0000 - recall_6: 0.0205 - f1_score: 0.4045 - val_loss: 0.9218 - val_accuracy: 0.4918 - val_auc_6: 0.7557 - val_precision_6: 1.0000 - val_recall_6: 0.0246 - val_f1_score: 0.3347 - 656ms/epoch - 82ms/step\n",
      "Epoch 50/50\n",
      "8/8 - 1s - loss: 0.7858 - accuracy: 0.5984 - auc_6: 0.8010 - precision_6: 1.0000 - recall_6: 0.0287 - f1_score: 0.4045 - val_loss: 0.9203 - val_accuracy: 0.5000 - val_auc_6: 0.7558 - val_precision_6: 1.0000 - val_recall_6: 0.0246 - val_f1_score: 0.3403 - 660ms/epoch - 83ms/step\n"
     ]
    },
    {
     "data": {
      "image/png": "[encoded data removed]",
      "text/plain": [
       "<Figure size 432x288 with 1 Axes>"
      ]
     },
     "metadata": {
      "needs_background": "light"
     },
     "output_type": "display_data"
    },
    {
     "name": "stdout",
     "output_type": "stream",
     "text": [
      "Epoch 1/50\n",
      "8/8 - 3s - loss: 1.1668 - accuracy: 0.2172 - auc_7: 0.3954 - precision_7: 0.0000e+00 - recall_7: 0.0000e+00 - f1_score: 0.1955 - val_loss: 1.1304 - val_accuracy: 0.3033 - val_auc_7: 0.4630 - val_precision_7: 0.0000e+00 - val_recall_7: 0.0000e+00 - val_f1_score: 0.2659 - 3s/epoch - 338ms/step\n",
      "Epoch 2/50\n",
      "8/8 - 1s - loss: 1.1522 - accuracy: 0.2336 - auc_7: 0.4573 - precision_7: 0.0000e+00 - recall_7: 0.0000e+00 - f1_score: 0.2048 - val_loss: 1.1206 - val_accuracy: 0.3115 - val_auc_7: 0.4826 - val_precision_7: 0.0000e+00 - val_recall_7: 0.0000e+00 - val_f1_score: 0.2683 - 639ms/epoch - 80ms/step\n",
      "Epoch 3/50\n",
      "8/8 - 1s - loss: 1.1447 - accuracy: 0.3197 - auc_7: 0.4857 - precision_7: 0.0000e+00 - recall_7: 0.0000e+00 - f1_score: 0.2647 - val_loss: 1.1143 - val_accuracy: 0.3197 - val_auc_7: 0.4886 - val_precision_7: 0.0000e+00 - val_recall_7: 0.0000e+00 - val_f1_score: 0.2703 - 644ms/epoch - 81ms/step\n",
      "Epoch 4/50\n",
      "8/8 - 1s - loss: 1.1393 - accuracy: 0.3361 - auc_7: 0.5079 - precision_7: 0.0000e+00 - recall_7: 0.0000e+00 - f1_score: 0.2740 - val_loss: 1.1140 - val_accuracy: 0.3115 - val_auc_7: 0.4948 - val_precision_7: 0.0000e+00 - val_recall_7: 0.0000e+00 - val_f1_score: 0.2642 - 650ms/epoch - 81ms/step\n",
      "Epoch 5/50\n",
      "8/8 - 1s - loss: 1.1347 - accuracy: 0.3525 - auc_7: 0.5142 - precision_7: 0.0000e+00 - recall_7: 0.0000e+00 - f1_score: 0.2842 - val_loss: 1.1099 - val_accuracy: 0.3197 - val_auc_7: 0.5044 - val_precision_7: 0.0000e+00 - val_recall_7: 0.0000e+00 - val_f1_score: 0.2733 - 651ms/epoch - 81ms/step\n",
      "Epoch 6/50\n",
      "8/8 - 1s - loss: 1.1316 - accuracy: 0.3607 - auc_7: 0.5274 - precision_7: 0.0000e+00 - recall_7: 0.0000e+00 - f1_score: 0.2895 - val_loss: 1.1050 - val_accuracy: 0.3279 - val_auc_7: 0.5157 - val_precision_7: 0.0000e+00 - val_recall_7: 0.0000e+00 - val_f1_score: 0.2730 - 642ms/epoch - 80ms/step\n",
      "Epoch 7/50\n",
      "8/8 - 1s - loss: 1.1298 - accuracy: 0.3730 - auc_7: 0.5457 - precision_7: 0.0000e+00 - recall_7: 0.0000e+00 - f1_score: 0.2965 - val_loss: 1.0992 - val_accuracy: 0.3443 - val_auc_7: 0.5278 - val_precision_7: 0.0000e+00 - val_recall_7: 0.0000e+00 - val_f1_score: 0.2844 - 651ms/epoch - 81ms/step\n",
      "Epoch 8/50\n",
      "8/8 - 1s - loss: 1.1280 - accuracy: 0.3648 - auc_7: 0.5496 - precision_7: 0.0000e+00 - recall_7: 0.0000e+00 - f1_score: 0.2908 - val_loss: 1.1008 - val_accuracy: 0.3361 - val_auc_7: 0.5199 - val_precision_7: 0.0000e+00 - val_recall_7: 0.0000e+00 - val_f1_score: 0.2779 - 653ms/epoch - 82ms/step\n",
      "Epoch 9/50\n",
      "8/8 - 1s - loss: 1.1244 - accuracy: 0.3689 - auc_7: 0.5521 - precision_7: 0.0000e+00 - recall_7: 0.0000e+00 - f1_score: 0.2934 - val_loss: 1.0984 - val_accuracy: 0.3361 - val_auc_7: 0.5267 - val_precision_7: 0.0000e+00 - val_recall_7: 0.0000e+00 - val_f1_score: 0.2769 - 652ms/epoch - 81ms/step\n",
      "Epoch 10/50\n",
      "8/8 - 1s - loss: 1.1230 - accuracy: 0.3730 - auc_7: 0.5511 - precision_7: 0.0000e+00 - recall_7: 0.0000e+00 - f1_score: 0.2959 - val_loss: 1.0977 - val_accuracy: 0.3361 - val_auc_7: 0.5226 - val_precision_7: 0.0000e+00 - val_recall_7: 0.0000e+00 - val_f1_score: 0.2779 - 650ms/epoch - 81ms/step\n",
      "Epoch 11/50\n",
      "8/8 - 1s - loss: 1.1191 - accuracy: 0.3770 - auc_7: 0.5583 - precision_7: 0.0000e+00 - recall_7: 0.0000e+00 - f1_score: 0.2983 - val_loss: 1.0947 - val_accuracy: 0.3361 - val_auc_7: 0.5361 - val_precision_7: 0.0000e+00 - val_recall_7: 0.0000e+00 - val_f1_score: 0.2769 - 651ms/epoch - 81ms/step\n",
      "Epoch 12/50\n",
      "8/8 - 1s - loss: 1.1159 - accuracy: 0.4016 - auc_7: 0.5778 - precision_7: 0.0000e+00 - recall_7: 0.0000e+00 - f1_score: 0.3133 - val_loss: 1.0919 - val_accuracy: 0.3525 - val_auc_7: 0.5416 - val_precision_7: 0.0000e+00 - val_recall_7: 0.0000e+00 - val_f1_score: 0.2896 - 642ms/epoch - 80ms/step\n",
      "Epoch 13/50\n",
      "8/8 - 1s - loss: 1.1144 - accuracy: 0.4098 - auc_7: 0.5809 - precision_7: 0.0000e+00 - recall_7: 0.0000e+00 - f1_score: 0.3182 - val_loss: 1.0924 - val_accuracy: 0.3443 - val_auc_7: 0.5369 - val_precision_7: 0.0000e+00 - val_recall_7: 0.0000e+00 - val_f1_score: 0.2824 - 650ms/epoch - 81ms/step\n",
      "Epoch 14/50\n",
      "8/8 - 1s - loss: 1.1111 - accuracy: 0.4139 - auc_7: 0.5893 - precision_7: 0.0000e+00 - recall_7: 0.0000e+00 - f1_score: 0.3199 - val_loss: 1.0895 - val_accuracy: 0.3443 - val_auc_7: 0.5464 - val_precision_7: 0.0000e+00 - val_recall_7: 0.0000e+00 - val_f1_score: 0.2818 - 648ms/epoch - 81ms/step\n",
      "Epoch 15/50\n",
      "8/8 - 1s - loss: 1.1090 - accuracy: 0.4139 - auc_7: 0.5946 - precision_7: 0.0000e+00 - recall_7: 0.0000e+00 - f1_score: 0.3199 - val_loss: 1.0884 - val_accuracy: 0.3443 - val_auc_7: 0.5479 - val_precision_7: 0.0000e+00 - val_recall_7: 0.0000e+00 - val_f1_score: 0.2811 - 648ms/epoch - 81ms/step\n",
      "Epoch 16/50\n",
      "8/8 - 1s - loss: 1.1073 - accuracy: 0.4139 - auc_7: 0.6007 - precision_7: 0.0000e+00 - recall_7: 0.0000e+00 - f1_score: 0.3199 - val_loss: 1.0860 - val_accuracy: 0.3279 - val_auc_7: 0.5547 - val_precision_7: 0.0000e+00 - val_recall_7: 0.0000e+00 - val_f1_score: 0.2696 - 646ms/epoch - 81ms/step\n",
      "Epoch 17/50\n",
      "8/8 - 1s - loss: 1.1057 - accuracy: 0.4139 - auc_7: 0.6055 - precision_7: 0.0000e+00 - recall_7: 0.0000e+00 - f1_score: 0.3199 - val_loss: 1.0850 - val_accuracy: 0.3279 - val_auc_7: 0.5556 - val_precision_7: 0.0000e+00 - val_recall_7: 0.0000e+00 - val_f1_score: 0.2696 - 650ms/epoch - 81ms/step\n",
      "Epoch 18/50\n",
      "8/8 - 1s - loss: 1.1039 - accuracy: 0.4180 - auc_7: 0.6171 - precision_7: 0.0000e+00 - recall_7: 0.0000e+00 - f1_score: 0.3208 - val_loss: 1.0803 - val_accuracy: 0.3525 - val_auc_7: 0.5647 - val_precision_7: 0.0000e+00 - val_recall_7: 0.0000e+00 - val_f1_score: 0.2864 - 647ms/epoch - 81ms/step\n",
      "Epoch 19/50\n",
      "8/8 - 1s - loss: 1.1030 - accuracy: 0.4139 - auc_7: 0.6185 - precision_7: 0.0000e+00 - recall_7: 0.0000e+00 - f1_score: 0.3207 - val_loss: 1.0829 - val_accuracy: 0.3361 - val_auc_7: 0.5635 - val_precision_7: 0.0000e+00 - val_recall_7: 0.0000e+00 - val_f1_score: 0.2796 - 647ms/epoch - 81ms/step\n",
      "Epoch 20/50\n",
      "8/8 - 1s - loss: 1.0991 - accuracy: 0.4098 - auc_7: 0.6217 - precision_7: 0.0000e+00 - recall_7: 0.0000e+00 - f1_score: 0.3168 - val_loss: 1.0803 - val_accuracy: 0.3361 - val_auc_7: 0.5702 - val_precision_7: 0.0000e+00 - val_recall_7: 0.0000e+00 - val_f1_score: 0.2798 - 645ms/epoch - 81ms/step\n",
      "Epoch 21/50\n",
      "8/8 - 1s - loss: 1.0973 - accuracy: 0.4262 - auc_7: 0.6286 - precision_7: 0.0000e+00 - recall_7: 0.0000e+00 - f1_score: 0.3261 - val_loss: 1.0756 - val_accuracy: 0.3852 - val_auc_7: 0.5833 - val_precision_7: 0.0000e+00 - val_recall_7: 0.0000e+00 - val_f1_score: 0.3117 - 656ms/epoch - 82ms/step\n",
      "Epoch 22/50\n",
      "8/8 - 1s - loss: 1.0964 - accuracy: 0.4344 - auc_7: 0.6277 - precision_7: 0.0000e+00 - recall_7: 0.0000e+00 - f1_score: 0.3404 - val_loss: 1.0756 - val_accuracy: 0.3689 - val_auc_7: 0.5780 - val_precision_7: 0.0000e+00 - val_recall_7: 0.0000e+00 - val_f1_score: 0.3014 - 650ms/epoch - 81ms/step\n",
      "Epoch 23/50\n",
      "8/8 - 1s - loss: 1.0934 - accuracy: 0.4344 - auc_7: 0.6306 - precision_7: 0.0000e+00 - recall_7: 0.0000e+00 - f1_score: 0.3404 - val_loss: 1.0731 - val_accuracy: 0.3852 - val_auc_7: 0.5889 - val_precision_7: 0.0000e+00 - val_recall_7: 0.0000e+00 - val_f1_score: 0.3117 - 646ms/epoch - 81ms/step\n",
      "Epoch 24/50\n",
      "8/8 - 1s - loss: 1.0913 - accuracy: 0.4344 - auc_7: 0.6389 - precision_7: 0.5000 - recall_7: 0.0041 - f1_score: 0.3398 - val_loss: 1.0695 - val_accuracy: 0.3852 - val_auc_7: 0.5960 - val_precision_7: 1.0000 - val_recall_7: 0.0164 - val_f1_score: 0.3109 - 662ms/epoch - 83ms/step\n",
      "Epoch 25/50\n",
      "8/8 - 1s - loss: 1.0887 - accuracy: 0.4426 - auc_7: 0.6504 - precision_7: 0.5000 - recall_7: 0.0041 - f1_score: 0.3440 - val_loss: 1.0651 - val_accuracy: 0.4016 - val_auc_7: 0.6149 - val_precision_7: 1.0000 - val_recall_7: 0.0164 - val_f1_score: 0.3213 - 651ms/epoch - 81ms/step\n",
      "Epoch 26/50\n",
      "8/8 - 1s - loss: 1.0862 - accuracy: 0.4508 - auc_7: 0.6624 - precision_7: 0.5000 - recall_7: 0.0041 - f1_score: 0.3491 - val_loss: 1.0634 - val_accuracy: 0.4180 - val_auc_7: 0.6181 - val_precision_7: 1.0000 - val_recall_7: 0.0164 - val_f1_score: 0.3331 - 648ms/epoch - 81ms/step\n",
      "Epoch 27/50\n",
      "8/8 - 1s - loss: 1.0837 - accuracy: 0.4672 - auc_7: 0.6673 - precision_7: 0.5000 - recall_7: 0.0041 - f1_score: 0.3591 - val_loss: 1.0623 - val_accuracy: 0.4344 - val_auc_7: 0.6190 - val_precision_7: 1.0000 - val_recall_7: 0.0164 - val_f1_score: 0.3448 - 651ms/epoch - 81ms/step\n",
      "Epoch 28/50\n",
      "8/8 - 1s - loss: 1.0819 - accuracy: 0.4754 - auc_7: 0.6726 - precision_7: 0.5000 - recall_7: 0.0041 - f1_score: 0.3653 - val_loss: 1.0595 - val_accuracy: 0.4426 - val_auc_7: 0.6270 - val_precision_7: 1.0000 - val_recall_7: 0.0164 - val_f1_score: 0.3503 - 643ms/epoch - 80ms/step\n",
      "Epoch 29/50\n",
      "8/8 - 1s - loss: 1.0797 - accuracy: 0.4672 - auc_7: 0.6864 - precision_7: 0.5000 - recall_7: 0.0041 - f1_score: 0.3558 - val_loss: 1.0572 - val_accuracy: 0.4344 - val_auc_7: 0.6339 - val_precision_7: 1.0000 - val_recall_7: 0.0164 - val_f1_score: 0.3227 - 642ms/epoch - 80ms/step\n",
      "Epoch 30/50\n",
      "8/8 - 1s - loss: 1.0768 - accuracy: 0.4713 - auc_7: 0.6906 - precision_7: 0.5000 - recall_7: 0.0041 - f1_score: 0.3574 - val_loss: 1.0564 - val_accuracy: 0.4344 - val_auc_7: 0.6319 - val_precision_7: 1.0000 - val_recall_7: 0.0164 - val_f1_score: 0.3184 - 658ms/epoch - 82ms/step\n",
      "Epoch 31/50\n",
      "8/8 - 1s - loss: 1.0748 - accuracy: 0.4754 - auc_7: 0.6928 - precision_7: 0.5000 - recall_7: 0.0041 - f1_score: 0.3598 - val_loss: 1.0548 - val_accuracy: 0.4426 - val_auc_7: 0.6353 - val_precision_7: 1.0000 - val_recall_7: 0.0164 - val_f1_score: 0.3244 - 637ms/epoch - 80ms/step\n",
      "Epoch 32/50\n",
      "8/8 - 1s - loss: 1.0733 - accuracy: 0.4795 - auc_7: 0.6911 - precision_7: 0.5000 - recall_7: 0.0041 - f1_score: 0.3623 - val_loss: 1.0554 - val_accuracy: 0.4426 - val_auc_7: 0.6348 - val_precision_7: 1.0000 - val_recall_7: 0.0164 - val_f1_score: 0.3229 - 646ms/epoch - 81ms/step\n",
      "Epoch 33/50\n",
      "8/8 - 1s - loss: 1.0710 - accuracy: 0.4754 - auc_7: 0.6950 - precision_7: 0.5000 - recall_7: 0.0041 - f1_score: 0.3594 - val_loss: 1.0554 - val_accuracy: 0.4426 - val_auc_7: 0.6367 - val_precision_7: 1.0000 - val_recall_7: 0.0164 - val_f1_score: 0.3229 - 652ms/epoch - 81ms/step\n",
      "Epoch 34/50\n",
      "8/8 - 1s - loss: 1.0689 - accuracy: 0.4959 - auc_7: 0.6986 - precision_7: 0.5000 - recall_7: 0.0041 - f1_score: 0.3717 - val_loss: 1.0527 - val_accuracy: 0.4508 - val_auc_7: 0.6435 - val_precision_7: 1.0000 - val_recall_7: 0.0164 - val_f1_score: 0.3259 - 645ms/epoch - 81ms/step\n",
      "Epoch 35/50\n",
      "8/8 - 1s - loss: 1.0668 - accuracy: 0.4918 - auc_7: 0.7022 - precision_7: 0.5000 - recall_7: 0.0041 - f1_score: 0.3694 - val_loss: 1.0532 - val_accuracy: 0.4426 - val_auc_7: 0.6394 - val_precision_7: 1.0000 - val_recall_7: 0.0164 - val_f1_score: 0.3200 - 645ms/epoch - 81ms/step\n",
      "Epoch 36/50\n",
      "8/8 - 1s - loss: 1.0652 - accuracy: 0.4918 - auc_7: 0.7003 - precision_7: 0.5000 - recall_7: 0.0041 - f1_score: 0.3694 - val_loss: 1.0530 - val_accuracy: 0.4344 - val_auc_7: 0.6409 - val_precision_7: 1.0000 - val_recall_7: 0.0164 - val_f1_score: 0.3141 - 645ms/epoch - 81ms/step\n",
      "Epoch 37/50\n",
      "8/8 - 1s - loss: 1.0644 - accuracy: 0.4877 - auc_7: 0.6971 - precision_7: 0.5000 - recall_7: 0.0041 - f1_score: 0.3668 - val_loss: 1.0549 - val_accuracy: 0.4344 - val_auc_7: 0.6393 - val_precision_7: 1.0000 - val_recall_7: 0.0164 - val_f1_score: 0.3141 - 644ms/epoch - 80ms/step\n",
      "Epoch 38/50\n",
      "8/8 - 1s - loss: 1.0625 - accuracy: 0.4918 - auc_7: 0.6944 - precision_7: 0.5000 - recall_7: 0.0041 - f1_score: 0.3700 - val_loss: 1.0574 - val_accuracy: 0.4426 - val_auc_7: 0.6354 - val_precision_7: 1.0000 - val_recall_7: 0.0164 - val_f1_score: 0.3200 - 635ms/epoch - 79ms/step\n",
      "Epoch 39/50\n",
      "8/8 - 1s - loss: 1.0611 - accuracy: 0.5000 - auc_7: 0.6951 - precision_7: 0.5000 - recall_7: 0.0041 - f1_score: 0.3745 - val_loss: 1.0540 - val_accuracy: 0.4344 - val_auc_7: 0.6419 - val_precision_7: 1.0000 - val_recall_7: 0.0164 - val_f1_score: 0.3141 - 642ms/epoch - 80ms/step\n",
      "Epoch 40/50\n",
      "8/8 - 1s - loss: 1.0593 - accuracy: 0.5000 - auc_7: 0.7003 - precision_7: 0.5000 - recall_7: 0.0041 - f1_score: 0.3745 - val_loss: 1.0515 - val_accuracy: 0.4344 - val_auc_7: 0.6462 - val_precision_7: 1.0000 - val_recall_7: 0.0164 - val_f1_score: 0.3141 - 642ms/epoch - 80ms/step\n",
      "Epoch 41/50\n",
      "8/8 - 1s - loss: 1.0594 - accuracy: 0.5041 - auc_7: 0.6970 - precision_7: 0.5000 - recall_7: 0.0041 - f1_score: 0.3773 - val_loss: 1.0527 - val_accuracy: 0.4426 - val_auc_7: 0.6452 - val_precision_7: 1.0000 - val_recall_7: 0.0164 - val_f1_score: 0.3144 - 642ms/epoch - 80ms/step\n",
      "Epoch 42/50\n",
      "8/8 - 1s - loss: 1.0557 - accuracy: 0.5082 - auc_7: 0.7015 - precision_7: 0.5000 - recall_7: 0.0041 - f1_score: 0.3796 - val_loss: 1.0489 - val_accuracy: 0.4590 - val_auc_7: 0.6544 - val_precision_7: 1.0000 - val_recall_7: 0.0164 - val_f1_score: 0.3232 - 644ms/epoch - 80ms/step\n",
      "Epoch 43/50\n",
      "8/8 - 1s - loss: 1.0521 - accuracy: 0.5164 - auc_7: 0.7080 - precision_7: 0.5000 - recall_7: 0.0041 - f1_score: 0.3849 - val_loss: 1.0444 - val_accuracy: 0.4590 - val_auc_7: 0.6645 - val_precision_7: 1.0000 - val_recall_7: 0.0164 - val_f1_score: 0.3218 - 646ms/epoch - 81ms/step\n",
      "Epoch 44/50\n",
      "8/8 - 1s - loss: 1.0490 - accuracy: 0.5082 - auc_7: 0.7169 - precision_7: 0.5000 - recall_7: 0.0041 - f1_score: 0.3796 - val_loss: 1.0393 - val_accuracy: 0.4426 - val_auc_7: 0.6744 - val_precision_7: 0.6667 - val_recall_7: 0.0164 - val_f1_score: 0.3117 - 640ms/epoch - 80ms/step\n",
      "Epoch 45/50\n",
      "8/8 - 1s - loss: 1.0455 - accuracy: 0.5082 - auc_7: 0.7204 - precision_7: 0.5000 - recall_7: 0.0041 - f1_score: 0.3796 - val_loss: 1.0382 - val_accuracy: 0.4508 - val_auc_7: 0.6778 - val_precision_7: 0.6667 - val_recall_7: 0.0164 - val_f1_score: 0.3174 - 647ms/epoch - 81ms/step\n",
      "Epoch 46/50\n",
      "8/8 - 1s - loss: 1.0413 - accuracy: 0.5164 - auc_7: 0.7267 - precision_7: 0.5000 - recall_7: 0.0041 - f1_score: 0.3857 - val_loss: 1.0394 - val_accuracy: 0.4590 - val_auc_7: 0.6809 - val_precision_7: 0.6667 - val_recall_7: 0.0164 - val_f1_score: 0.3218 - 644ms/epoch - 81ms/step\n",
      "Epoch 47/50\n",
      "8/8 - 1s - loss: 1.0389 - accuracy: 0.5164 - auc_7: 0.7260 - precision_7: 0.5000 - recall_7: 0.0041 - f1_score: 0.3857 - val_loss: 1.0400 - val_accuracy: 0.4508 - val_auc_7: 0.6791 - val_precision_7: 0.6667 - val_recall_7: 0.0164 - val_f1_score: 0.3174 - 643ms/epoch - 80ms/step\n",
      "Epoch 48/50\n",
      "8/8 - 1s - loss: 1.0366 - accuracy: 0.5123 - auc_7: 0.7244 - precision_7: 0.5000 - recall_7: 0.0041 - f1_score: 0.3829 - val_loss: 1.0378 - val_accuracy: 0.4508 - val_auc_7: 0.6836 - val_precision_7: 0.6667 - val_recall_7: 0.0164 - val_f1_score: 0.3161 - 638ms/epoch - 80ms/step\n",
      "Epoch 49/50\n",
      "8/8 - 1s - loss: 1.0343 - accuracy: 0.5328 - auc_7: 0.7315 - precision_7: 0.5000 - recall_7: 0.0041 - f1_score: 0.3980 - val_loss: 1.0323 - val_accuracy: 0.4672 - val_auc_7: 0.6956 - val_precision_7: 0.6667 - val_recall_7: 0.0164 - val_f1_score: 0.3232 - 644ms/epoch - 80ms/step\n",
      "Epoch 50/50\n",
      "8/8 - 1s - loss: 1.0313 - accuracy: 0.5287 - auc_7: 0.7366 - precision_7: 0.5000 - recall_7: 0.0082 - f1_score: 0.3948 - val_loss: 1.0343 - val_accuracy: 0.4672 - val_auc_7: 0.6913 - val_precision_7: 0.5000 - val_recall_7: 0.0246 - val_f1_score: 0.3277 - 640ms/epoch - 80ms/step\n"
     ]
    },
    {
     "data": {
      "image/png": "[encoded data removed]",
      "text/plain": [
       "<Figure size 432x288 with 1 Axes>"
      ]
     },
     "metadata": {
      "needs_background": "light"
     },
     "output_type": "display_data"
    }
   ],
   "source": [
    "for train_index, val_index in kf.split(X):\n",
    "    X_train, X_val = X[train_index], X[val_index]\n",
    "    y_train, y_val = y[train_index], y[val_index]\n",
    "    baseline_face_model = Baseline(n_features, n_length, n_outputs)\n",
    "    history = baseline_face_model.train(X_train, y_train, X_val, y_val, epochs, batch_size, d_class_weights)\n",
    "    plt.plot(history.history['loss'])\n",
    "    plt.show()"
   ]
  },
  {
   "cell_type": "markdown",
   "metadata": {},
   "source": [
    "#### Prediction on the holdout set"
   ]
  },
  {
   "cell_type": "code",
   "execution_count": 15,
   "metadata": {},
   "outputs": [
    {
     "name": "stdout",
     "output_type": "stream",
     "text": [
      "Accuracy: 41.13% \n",
      "Balanced Accuracy: 49.52% \n",
      "ROC/AUC: 0.71 \n",
      "Precision: 1.00 \n",
      "Recall: 0.00 \n",
      "F1 score: 0.30\n"
     ]
    }
   ],
   "source": [
    "y_pred = baseline_face_model.predict(X_test)\n",
    "_, acc, auc, precision, recall, f1 = baseline_face_model.evaluate(X_test, y_test)\n",
    "results.append(round(acc, 2))\n",
    "bal_acc = balanced_accuracy_score(y_test.argmax(axis=1), y_pred.argmax(axis=1)) \n",
    "print('Accuracy: {:.2f}% \\nBalanced Accuracy: {:.2f}% \\nROC/AUC: {:.2f} \\nPrecision: {:.2f} \\nRecall: {:.2f} \\nF1 score: {:.2f}'.format(acc * 100, bal_acc * 100, auc, precision, recall, f1))"
   ]
  },
  {
   "cell_type": "markdown",
   "metadata": {},
   "source": [
    "## 3. Multimodal Early Fusion"
   ]
  },
  {
   "cell_type": "markdown",
   "metadata": {},
   "source": [
    "### Dataset"
   ]
  },
  {
   "cell_type": "code",
   "execution_count": 16,
   "metadata": {},
   "outputs": [
    {
     "name": "stdout",
     "output_type": "stream",
     "text": [
      "(366, 350, 60) (366, 3)\n",
      "(231, 350, 60) (231, 3)\n"
     ]
    }
   ],
   "source": [
    "X_train, X_test, y_train, y_test = load_fusioned_dataset(level=True, nopain=False)\n",
    "X_train = X_train.reshape(X_train.shape[0], X_train.shape[2], X_train.shape[3])\n",
    "X_test = X_test.reshape(X_test.shape[0], X_test.shape[2], X_test.shape[3])\n",
    "X = X_train.copy()\n",
    "y = y_train.copy()\n",
    "\n",
    "print(X_train.shape, y_train.shape)\n",
    "print(X_test.shape, y_test.shape)\n",
    "\n",
    "n_length, n_features, n_outputs = X_train.shape[1], X_train.shape[-1], y_train.shape[1]"
   ]
  },
  {
   "cell_type": "code",
   "execution_count": 17,
   "metadata": {},
   "outputs": [
    {
     "name": "stdout",
     "output_type": "stream",
     "text": [
      "Model: \"model_8\"\n",
      "_________________________________________________________________\n",
      " Layer (type)                Output Shape              Param #   \n",
      "=================================================================\n",
      " input_9 (InputLayer)        [(None, 350, 60)]         0         \n",
      "                                                                 \n",
      " lstm_8 (LSTM)               (None, 50)                22200     \n",
      "                                                                 \n",
      " dense_16 (Dense)            (None, 50)                2550      \n",
      "                                                                 \n",
      " dense_17 (Dense)            (None, 3)                 153       \n",
      "                                                                 \n",
      "=================================================================\n",
      "Total params: 24,903\n",
      "Trainable params: 24,903\n",
      "Non-trainable params: 0\n",
      "_________________________________________________________________\n"
     ]
    }
   ],
   "source": [
    "model = Baseline(n_features, n_length, n_outputs)\n",
    "model.summary()"
   ]
  },
  {
   "cell_type": "markdown",
   "metadata": {},
   "source": [
    "### Baseline Model"
   ]
  },
  {
   "cell_type": "code",
   "execution_count": 18,
   "metadata": {},
   "outputs": [
    {
     "name": "stdout",
     "output_type": "stream",
     "text": [
      "Epoch 1/50\n",
      "8/8 - 3s - loss: 1.4770 - accuracy: 0.0902 - auc_9: 0.3129 - precision_9: 0.0586 - recall_9: 0.0533 - f1_score: 0.0863 - val_loss: 1.5467 - val_accuracy: 0.0738 - val_auc_9: 0.3308 - val_precision_9: 0.0374 - val_recall_9: 0.0328 - val_f1_score: 0.0690 - 3s/epoch - 339ms/step\n",
      "Epoch 2/50\n",
      "8/8 - 1s - loss: 1.4345 - accuracy: 0.1148 - auc_9: 0.3282 - precision_9: 0.0769 - recall_9: 0.0697 - f1_score: 0.1079 - val_loss: 1.5014 - val_accuracy: 0.0738 - val_auc_9: 0.3445 - val_precision_9: 0.0467 - val_recall_9: 0.0410 - val_f1_score: 0.0674 - 667ms/epoch - 83ms/step\n",
      "Epoch 3/50\n",
      "8/8 - 1s - loss: 1.3976 - accuracy: 0.1230 - auc_9: 0.3399 - precision_9: 0.0833 - recall_9: 0.0738 - f1_score: 0.1141 - val_loss: 1.4529 - val_accuracy: 0.0820 - val_auc_9: 0.3521 - val_precision_9: 0.0490 - val_recall_9: 0.0410 - val_f1_score: 0.0741 - 653ms/epoch - 82ms/step\n",
      "Epoch 4/50\n",
      "8/8 - 1s - loss: 1.3635 - accuracy: 0.1311 - auc_9: 0.3426 - precision_9: 0.0891 - recall_9: 0.0738 - f1_score: 0.1195 - val_loss: 1.4119 - val_accuracy: 0.1066 - val_auc_9: 0.3589 - val_precision_9: 0.0638 - val_recall_9: 0.0492 - val_f1_score: 0.0932 - 659ms/epoch - 82ms/step\n",
      "Epoch 5/50\n",
      "8/8 - 1s - loss: 1.3380 - accuracy: 0.1352 - auc_9: 0.3497 - precision_9: 0.0947 - recall_9: 0.0738 - f1_score: 0.1203 - val_loss: 1.3707 - val_accuracy: 0.1311 - val_auc_9: 0.3743 - val_precision_9: 0.0941 - val_recall_9: 0.0656 - val_f1_score: 0.1111 - 660ms/epoch - 82ms/step\n",
      "Epoch 6/50\n",
      "8/8 - 1s - loss: 1.3073 - accuracy: 0.1475 - auc_9: 0.3555 - precision_9: 0.1029 - recall_9: 0.0738 - f1_score: 0.1284 - val_loss: 1.3538 - val_accuracy: 0.1393 - val_auc_9: 0.3770 - val_precision_9: 0.0952 - val_recall_9: 0.0656 - val_f1_score: 0.1156 - 660ms/epoch - 82ms/step\n",
      "Epoch 7/50\n",
      "8/8 - 1s - loss: 1.2844 - accuracy: 0.1557 - auc_9: 0.3559 - precision_9: 0.1156 - recall_9: 0.0820 - f1_score: 0.1343 - val_loss: 1.3269 - val_accuracy: 0.1475 - val_auc_9: 0.3848 - val_precision_9: 0.1205 - val_recall_9: 0.0820 - val_f1_score: 0.1176 - 657ms/epoch - 82ms/step\n",
      "Epoch 8/50\n",
      "8/8 - 1s - loss: 1.2588 - accuracy: 0.1516 - auc_9: 0.3679 - precision_9: 0.1279 - recall_9: 0.0902 - f1_score: 0.1252 - val_loss: 1.3051 - val_accuracy: 0.1721 - val_auc_9: 0.3948 - val_precision_9: 0.1235 - val_recall_9: 0.0820 - val_f1_score: 0.1418 - 660ms/epoch - 82ms/step\n",
      "Epoch 9/50\n",
      "8/8 - 1s - loss: 1.2434 - accuracy: 0.1516 - auc_9: 0.3730 - precision_9: 0.1265 - recall_9: 0.0861 - f1_score: 0.1253 - val_loss: 1.2801 - val_accuracy: 0.1885 - val_auc_9: 0.4066 - val_precision_9: 0.1351 - val_recall_9: 0.0820 - val_f1_score: 0.1520 - 655ms/epoch - 82ms/step\n",
      "Epoch 10/50\n",
      "8/8 - 1s - loss: 1.2247 - accuracy: 0.1639 - auc_9: 0.3709 - precision_9: 0.1355 - recall_9: 0.0861 - f1_score: 0.1354 - val_loss: 1.2620 - val_accuracy: 0.1967 - val_auc_9: 0.4113 - val_precision_9: 0.1571 - val_recall_9: 0.0902 - val_f1_score: 0.1556 - 659ms/epoch - 82ms/step\n",
      "Epoch 11/50\n",
      "8/8 - 1s - loss: 1.2064 - accuracy: 0.1721 - auc_9: 0.3763 - precision_9: 0.1333 - recall_9: 0.0820 - f1_score: 0.1404 - val_loss: 1.2430 - val_accuracy: 0.2049 - val_auc_9: 0.4246 - val_precision_9: 0.1765 - val_recall_9: 0.0984 - val_f1_score: 0.1591 - 662ms/epoch - 83ms/step\n",
      "Epoch 12/50\n",
      "8/8 - 1s - loss: 1.1917 - accuracy: 0.1885 - auc_9: 0.3898 - precision_9: 0.1667 - recall_9: 0.0861 - f1_score: 0.1524 - val_loss: 1.2149 - val_accuracy: 0.2377 - val_auc_9: 0.4414 - val_precision_9: 0.2200 - val_recall_9: 0.0902 - val_f1_score: 0.1759 - 653ms/epoch - 82ms/step\n",
      "Epoch 13/50\n",
      "8/8 - 1s - loss: 1.1709 - accuracy: 0.2172 - auc_9: 0.4061 - precision_9: 0.2471 - recall_9: 0.0861 - f1_score: 0.1734 - val_loss: 1.1956 - val_accuracy: 0.2459 - val_auc_9: 0.4511 - val_precision_9: 0.3056 - val_recall_9: 0.0902 - val_f1_score: 0.1788 - 665ms/epoch - 83ms/step\n",
      "Epoch 14/50\n",
      "8/8 - 1s - loss: 1.1528 - accuracy: 0.2377 - auc_9: 0.4292 - precision_9: 0.3333 - recall_9: 0.0861 - f1_score: 0.1787 - val_loss: 1.1635 - val_accuracy: 0.2869 - val_auc_9: 0.4760 - val_precision_9: 0.3600 - val_recall_9: 0.0738 - val_f1_score: 0.1972 - 664ms/epoch - 83ms/step\n",
      "Epoch 15/50\n",
      "8/8 - 1s - loss: 1.1772 - accuracy: 0.3074 - auc_9: 0.4659 - precision_9: 0.4035 - recall_9: 0.0943 - f1_score: 0.2129 - val_loss: 1.1537 - val_accuracy: 0.2951 - val_auc_9: 0.4806 - val_precision_9: 0.3750 - val_recall_9: 0.0738 - val_f1_score: 0.1979 - 653ms/epoch - 82ms/step\n",
      "Epoch 16/50\n",
      "8/8 - 1s - loss: 1.1348 - accuracy: 0.3115 - auc_9: 0.4637 - precision_9: 0.4364 - recall_9: 0.0984 - f1_score: 0.2265 - val_loss: 1.1558 - val_accuracy: 0.3033 - val_auc_9: 0.4700 - val_precision_9: 0.3684 - val_recall_9: 0.0574 - val_f1_score: 0.2381 - 661ms/epoch - 83ms/step\n",
      "Epoch 17/50\n",
      "8/8 - 1s - loss: 1.1222 - accuracy: 0.2828 - auc_9: 0.4527 - precision_9: 0.4255 - recall_9: 0.0820 - f1_score: 0.2151 - val_loss: 1.1599 - val_accuracy: 0.2951 - val_auc_9: 0.4626 - val_precision_9: 0.3333 - val_recall_9: 0.0492 - val_f1_score: 0.2353 - 659ms/epoch - 82ms/step\n",
      "Epoch 18/50\n",
      "8/8 - 1s - loss: 1.1171 - accuracy: 0.2869 - auc_9: 0.4529 - precision_9: 0.3409 - recall_9: 0.0615 - f1_score: 0.2265 - val_loss: 1.1498 - val_accuracy: 0.2951 - val_auc_9: 0.4686 - val_precision_9: 0.5000 - val_recall_9: 0.0574 - val_f1_score: 0.2353 - 660ms/epoch - 82ms/step\n",
      "Epoch 19/50\n",
      "8/8 - 1s - loss: 1.1115 - accuracy: 0.2910 - auc_9: 0.4606 - precision_9: 0.4667 - recall_9: 0.0574 - f1_score: 0.2336 - val_loss: 1.1373 - val_accuracy: 0.3197 - val_auc_9: 0.4800 - val_precision_9: 0.6364 - val_recall_9: 0.0574 - val_f1_score: 0.2639 - 658ms/epoch - 82ms/step\n",
      "Epoch 20/50\n",
      "8/8 - 1s - loss: 1.1024 - accuracy: 0.3033 - auc_9: 0.4755 - precision_9: 0.5833 - recall_9: 0.0574 - f1_score: 0.2444 - val_loss: 1.1319 - val_accuracy: 0.3197 - val_auc_9: 0.4848 - val_precision_9: 0.6000 - val_recall_9: 0.0492 - val_f1_score: 0.2592 - 659ms/epoch - 82ms/step\n",
      "Epoch 21/50\n",
      "8/8 - 1s - loss: 1.0962 - accuracy: 0.3115 - auc_9: 0.4818 - precision_9: 0.5517 - recall_9: 0.0656 - f1_score: 0.2515 - val_loss: 1.1298 - val_accuracy: 0.3197 - val_auc_9: 0.4867 - val_precision_9: 0.6000 - val_recall_9: 0.0492 - val_f1_score: 0.2592 - 658ms/epoch - 82ms/step\n",
      "Epoch 22/50\n",
      "8/8 - 1s - loss: 1.0915 - accuracy: 0.3033 - auc_9: 0.4865 - precision_9: 0.5385 - recall_9: 0.0574 - f1_score: 0.2465 - val_loss: 1.1277 - val_accuracy: 0.3197 - val_auc_9: 0.4895 - val_precision_9: 0.6000 - val_recall_9: 0.0492 - val_f1_score: 0.2578 - 656ms/epoch - 82ms/step\n",
      "Epoch 23/50\n",
      "8/8 - 1s - loss: 1.0877 - accuracy: 0.3033 - auc_9: 0.4943 - precision_9: 0.5185 - recall_9: 0.0574 - f1_score: 0.2484 - val_loss: 1.1229 - val_accuracy: 0.3279 - val_auc_9: 0.4976 - val_precision_9: 0.7273 - val_recall_9: 0.0656 - val_f1_score: 0.2676 - 662ms/epoch - 83ms/step\n",
      "Epoch 24/50\n",
      "8/8 - 1s - loss: 1.0832 - accuracy: 0.3033 - auc_9: 0.5012 - precision_9: 0.5556 - recall_9: 0.0615 - f1_score: 0.2554 - val_loss: 1.1217 - val_accuracy: 0.3279 - val_auc_9: 0.4991 - val_precision_9: 0.7273 - val_recall_9: 0.0656 - val_f1_score: 0.2661 - 658ms/epoch - 82ms/step\n",
      "Epoch 25/50\n",
      "8/8 - 1s - loss: 1.0782 - accuracy: 0.3197 - auc_9: 0.5065 - precision_9: 0.6000 - recall_9: 0.0615 - f1_score: 0.2743 - val_loss: 1.1158 - val_accuracy: 0.3361 - val_auc_9: 0.5072 - val_precision_9: 0.7273 - val_recall_9: 0.0656 - val_f1_score: 0.2769 - 661ms/epoch - 83ms/step\n",
      "Epoch 26/50\n",
      "8/8 - 1s - loss: 1.0764 - accuracy: 0.3238 - auc_9: 0.5151 - precision_9: 0.6000 - recall_9: 0.0615 - f1_score: 0.2772 - val_loss: 1.1090 - val_accuracy: 0.3443 - val_auc_9: 0.5165 - val_precision_9: 0.7273 - val_recall_9: 0.0656 - val_f1_score: 0.2857 - 658ms/epoch - 82ms/step\n",
      "Epoch 27/50\n",
      "8/8 - 1s - loss: 1.0718 - accuracy: 0.3238 - auc_9: 0.5220 - precision_9: 0.6000 - recall_9: 0.0615 - f1_score: 0.2781 - val_loss: 1.1075 - val_accuracy: 0.3361 - val_auc_9: 0.5186 - val_precision_9: 0.7273 - val_recall_9: 0.0656 - val_f1_score: 0.2748 - 658ms/epoch - 82ms/step\n",
      "Epoch 28/50\n",
      "8/8 - 1s - loss: 1.0692 - accuracy: 0.3238 - auc_9: 0.5260 - precision_9: 0.6000 - recall_9: 0.0615 - f1_score: 0.2770 - val_loss: 1.1028 - val_accuracy: 0.3443 - val_auc_9: 0.5251 - val_precision_9: 0.7273 - val_recall_9: 0.0656 - val_f1_score: 0.2843 - 661ms/epoch - 83ms/step\n",
      "Epoch 29/50\n",
      "8/8 - 1s - loss: 1.0635 - accuracy: 0.3197 - auc_9: 0.5291 - precision_9: 0.6957 - recall_9: 0.0656 - f1_score: 0.2745 - val_loss: 1.1038 - val_accuracy: 0.3443 - val_auc_9: 0.5251 - val_precision_9: 0.8000 - val_recall_9: 0.0656 - val_f1_score: 0.2881 - 655ms/epoch - 82ms/step\n",
      "Epoch 30/50\n",
      "8/8 - 1s - loss: 1.0613 - accuracy: 0.3033 - auc_9: 0.5315 - precision_9: 0.6957 - recall_9: 0.0656 - f1_score: 0.2641 - val_loss: 1.1008 - val_accuracy: 0.3443 - val_auc_9: 0.5283 - val_precision_9: 0.8000 - val_recall_9: 0.0656 - val_f1_score: 0.2881 - 658ms/epoch - 82ms/step\n",
      "Epoch 31/50\n",
      "8/8 - 1s - loss: 1.0580 - accuracy: 0.3074 - auc_9: 0.5318 - precision_9: 0.6957 - recall_9: 0.0656 - f1_score: 0.2678 - val_loss: 1.1024 - val_accuracy: 0.3361 - val_auc_9: 0.5246 - val_precision_9: 0.8000 - val_recall_9: 0.0656 - val_f1_score: 0.2770 - 697ms/epoch - 87ms/step\n",
      "Epoch 32/50\n",
      "8/8 - 1s - loss: 1.0557 - accuracy: 0.3033 - auc_9: 0.5480 - precision_9: 0.6957 - recall_9: 0.0656 - f1_score: 0.2619 - val_loss: 1.0864 - val_accuracy: 0.3443 - val_auc_9: 0.5456 - val_precision_9: 0.8000 - val_recall_9: 0.0656 - val_f1_score: 0.2802 - 653ms/epoch - 82ms/step\n",
      "Epoch 33/50\n",
      "8/8 - 1s - loss: 1.0532 - accuracy: 0.3115 - auc_9: 0.5478 - precision_9: 0.6667 - recall_9: 0.0656 - f1_score: 0.2705 - val_loss: 1.0973 - val_accuracy: 0.3443 - val_auc_9: 0.5318 - val_precision_9: 0.7273 - val_recall_9: 0.0656 - val_f1_score: 0.2881 - 653ms/epoch - 82ms/step\n",
      "Epoch 34/50\n",
      "8/8 - 1s - loss: 1.0469 - accuracy: 0.3074 - auc_9: 0.5489 - precision_9: 0.6154 - recall_9: 0.0656 - f1_score: 0.2680 - val_loss: 1.0892 - val_accuracy: 0.3443 - val_auc_9: 0.5445 - val_precision_9: 0.7500 - val_recall_9: 0.0738 - val_f1_score: 0.2804 - 656ms/epoch - 82ms/step\n",
      "Epoch 35/50\n",
      "8/8 - 1s - loss: 1.0442 - accuracy: 0.3074 - auc_9: 0.5521 - precision_9: 0.6400 - recall_9: 0.0656 - f1_score: 0.2671 - val_loss: 1.0934 - val_accuracy: 0.3443 - val_auc_9: 0.5405 - val_precision_9: 0.7273 - val_recall_9: 0.0656 - val_f1_score: 0.2804 - 653ms/epoch - 82ms/step\n",
      "Epoch 36/50\n",
      "8/8 - 1s - loss: 1.0393 - accuracy: 0.3115 - auc_9: 0.5536 - precision_9: 0.5714 - recall_9: 0.0656 - f1_score: 0.2703 - val_loss: 1.0918 - val_accuracy: 0.3525 - val_auc_9: 0.5454 - val_precision_9: 0.6923 - val_recall_9: 0.0738 - val_f1_score: 0.2916 - 658ms/epoch - 82ms/step\n",
      "Epoch 37/50\n",
      "8/8 - 1s - loss: 1.0364 - accuracy: 0.3156 - auc_9: 0.5598 - precision_9: 0.5926 - recall_9: 0.0656 - f1_score: 0.2741 - val_loss: 1.0848 - val_accuracy: 0.3525 - val_auc_9: 0.5548 - val_precision_9: 0.7143 - val_recall_9: 0.0820 - val_f1_score: 0.2913 - 665ms/epoch - 83ms/step\n",
      "Epoch 38/50\n",
      "8/8 - 1s - loss: 1.0326 - accuracy: 0.3074 - auc_9: 0.5654 - precision_9: 0.6333 - recall_9: 0.0779 - f1_score: 0.2667 - val_loss: 1.0843 - val_accuracy: 0.3525 - val_auc_9: 0.5548 - val_precision_9: 0.7143 - val_recall_9: 0.0820 - val_f1_score: 0.2852 - 657ms/epoch - 82ms/step\n",
      "Epoch 39/50\n",
      "8/8 - 1s - loss: 1.0303 - accuracy: 0.3156 - auc_9: 0.5645 - precision_9: 0.6129 - recall_9: 0.0779 - f1_score: 0.2736 - val_loss: 1.0869 - val_accuracy: 0.3443 - val_auc_9: 0.5524 - val_precision_9: 0.7143 - val_recall_9: 0.0820 - val_f1_score: 0.2791 - 659ms/epoch - 82ms/step\n",
      "Epoch 40/50\n",
      "8/8 - 1s - loss: 1.0273 - accuracy: 0.3238 - auc_9: 0.5686 - precision_9: 0.6250 - recall_9: 0.0820 - f1_score: 0.2796 - val_loss: 1.0809 - val_accuracy: 0.3525 - val_auc_9: 0.5603 - val_precision_9: 0.7333 - val_recall_9: 0.0902 - val_f1_score: 0.2837 - 654ms/epoch - 82ms/step\n",
      "Epoch 41/50\n",
      "8/8 - 1s - loss: 1.0239 - accuracy: 0.3279 - auc_9: 0.5721 - precision_9: 0.6250 - recall_9: 0.0820 - f1_score: 0.2828 - val_loss: 1.0791 - val_accuracy: 0.3607 - val_auc_9: 0.5612 - val_precision_9: 0.7333 - val_recall_9: 0.0902 - val_f1_score: 0.2897 - 656ms/epoch - 82ms/step\n",
      "Epoch 42/50\n",
      "8/8 - 1s - loss: 1.0214 - accuracy: 0.3197 - auc_9: 0.5728 - precision_9: 0.6250 - recall_9: 0.0820 - f1_score: 0.2755 - val_loss: 1.0778 - val_accuracy: 0.3607 - val_auc_9: 0.5629 - val_precision_9: 0.7333 - val_recall_9: 0.0902 - val_f1_score: 0.2897 - 658ms/epoch - 82ms/step\n",
      "Epoch 43/50\n",
      "8/8 - 1s - loss: 1.0181 - accuracy: 0.3279 - auc_9: 0.5796 - precision_9: 0.6250 - recall_9: 0.0820 - f1_score: 0.2823 - val_loss: 1.0744 - val_accuracy: 0.3607 - val_auc_9: 0.5669 - val_precision_9: 0.7333 - val_recall_9: 0.0902 - val_f1_score: 0.2897 - 655ms/epoch - 82ms/step\n",
      "Epoch 44/50\n",
      "8/8 - 1s - loss: 1.0151 - accuracy: 0.3402 - auc_9: 0.5873 - precision_9: 0.6250 - recall_9: 0.0820 - f1_score: 0.2910 - val_loss: 1.0685 - val_accuracy: 0.3607 - val_auc_9: 0.5752 - val_precision_9: 0.7333 - val_recall_9: 0.0902 - val_f1_score: 0.2879 - 657ms/epoch - 82ms/step\n",
      "Epoch 45/50\n",
      "8/8 - 1s - loss: 1.0131 - accuracy: 0.3361 - auc_9: 0.5889 - precision_9: 0.6250 - recall_9: 0.0820 - f1_score: 0.2868 - val_loss: 1.0657 - val_accuracy: 0.3525 - val_auc_9: 0.5763 - val_precision_9: 0.7500 - val_recall_9: 0.0984 - val_f1_score: 0.2800 - 653ms/epoch - 82ms/step\n",
      "Epoch 46/50\n",
      "8/8 - 1s - loss: 1.0098 - accuracy: 0.3402 - auc_9: 0.5896 - precision_9: 0.6061 - recall_9: 0.0820 - f1_score: 0.2910 - val_loss: 1.0669 - val_accuracy: 0.3525 - val_auc_9: 0.5767 - val_precision_9: 0.7500 - val_recall_9: 0.0984 - val_f1_score: 0.2800 - 654ms/epoch - 82ms/step\n",
      "Epoch 47/50\n",
      "8/8 - 1s - loss: 1.0074 - accuracy: 0.3402 - auc_9: 0.5893 - precision_9: 0.6176 - recall_9: 0.0861 - f1_score: 0.2905 - val_loss: 1.0676 - val_accuracy: 0.3689 - val_auc_9: 0.5755 - val_precision_9: 0.7222 - val_recall_9: 0.1066 - val_f1_score: 0.2943 - 653ms/epoch - 82ms/step\n",
      "Epoch 48/50\n",
      "8/8 - 1s - loss: 1.0057 - accuracy: 0.3443 - auc_9: 0.5927 - precision_9: 0.6286 - recall_9: 0.0902 - f1_score: 0.2937 - val_loss: 1.0665 - val_accuracy: 0.3689 - val_auc_9: 0.5773 - val_precision_9: 0.7222 - val_recall_9: 0.1066 - val_f1_score: 0.2943 - 654ms/epoch - 82ms/step\n",
      "Epoch 49/50\n",
      "8/8 - 1s - loss: 1.0038 - accuracy: 0.3525 - auc_9: 0.5923 - precision_9: 0.6286 - recall_9: 0.0902 - f1_score: 0.2982 - val_loss: 1.0676 - val_accuracy: 0.3607 - val_auc_9: 0.5776 - val_precision_9: 0.7222 - val_recall_9: 0.1066 - val_f1_score: 0.2897 - 653ms/epoch - 82ms/step\n",
      "Epoch 50/50\n",
      "8/8 - 1s - loss: 1.0036 - accuracy: 0.3484 - auc_9: 0.5959 - precision_9: 0.6286 - recall_9: 0.0902 - f1_score: 0.2954 - val_loss: 1.0609 - val_accuracy: 0.3525 - val_auc_9: 0.5823 - val_precision_9: 0.7647 - val_recall_9: 0.1066 - val_f1_score: 0.2836 - 652ms/epoch - 81ms/step\n"
     ]
    },
    {
     "data": {
      "image/png": "[encoded data removed]",
      "text/plain": [
       "<Figure size 432x288 with 1 Axes>"
      ]
     },
     "metadata": {
      "needs_background": "light"
     },
     "output_type": "display_data"
    },
    {
     "name": "stdout",
     "output_type": "stream",
     "text": [
      "Epoch 1/50\n",
      "8/8 - 3s - loss: 0.9214 - accuracy: 0.2664 - auc_10: 0.4324 - precision_10: 0.3333 - recall_10: 0.0123 - f1_score: 0.2118 - val_loss: 1.1550 - val_accuracy: 0.2541 - val_auc_10: 0.4269 - val_precision_10: 0.2500 - val_recall_10: 0.0082 - val_f1_score: 0.2119 - 3s/epoch - 346ms/step\n",
      "Epoch 2/50\n",
      "8/8 - 1s - loss: 0.8963 - accuracy: 0.3361 - auc_10: 0.5144 - precision_10: 0.7500 - recall_10: 0.0123 - f1_score: 0.2511 - val_loss: 1.1294 - val_accuracy: 0.2705 - val_auc_10: 0.4749 - val_precision_10: 0.3333 - val_recall_10: 0.0082 - val_f1_score: 0.2177 - 654ms/epoch - 82ms/step\n",
      "Epoch 3/50\n",
      "8/8 - 1s - loss: 0.8806 - accuracy: 0.3648 - auc_10: 0.5617 - precision_10: 1.0000 - recall_10: 0.0164 - f1_score: 0.2759 - val_loss: 1.1147 - val_accuracy: 0.3197 - val_auc_10: 0.5046 - val_precision_10: 0.5000 - val_recall_10: 0.0082 - val_f1_score: 0.2460 - 655ms/epoch - 82ms/step\n",
      "Epoch 4/50\n",
      "8/8 - 1s - loss: 0.8679 - accuracy: 0.4139 - auc_10: 0.5996 - precision_10: 1.0000 - recall_10: 0.0246 - f1_score: 0.3040 - val_loss: 1.0922 - val_accuracy: 0.3197 - val_auc_10: 0.5535 - val_precision_10: 0.5000 - val_recall_10: 0.0164 - val_f1_score: 0.2507 - 656ms/epoch - 82ms/step\n",
      "Epoch 5/50\n",
      "8/8 - 1s - loss: 0.8590 - accuracy: 0.4344 - auc_10: 0.6338 - precision_10: 0.8889 - recall_10: 0.0328 - f1_score: 0.3154 - val_loss: 1.0729 - val_accuracy: 0.3770 - val_auc_10: 0.5929 - val_precision_10: 0.4000 - val_recall_10: 0.0164 - val_f1_score: 0.2909 - 654ms/epoch - 82ms/step\n",
      "Epoch 6/50\n",
      "8/8 - 1s - loss: 0.8523 - accuracy: 0.4344 - auc_10: 0.6560 - precision_10: 0.8000 - recall_10: 0.0328 - f1_score: 0.3159 - val_loss: 1.0615 - val_accuracy: 0.3934 - val_auc_10: 0.6194 - val_precision_10: 0.5714 - val_recall_10: 0.0328 - val_f1_score: 0.3011 - 651ms/epoch - 81ms/step\n",
      "Epoch 7/50\n",
      "8/8 - 1s - loss: 0.8478 - accuracy: 0.4590 - auc_10: 0.6793 - precision_10: 0.7273 - recall_10: 0.0328 - f1_score: 0.3371 - val_loss: 1.0522 - val_accuracy: 0.4180 - val_auc_10: 0.6397 - val_precision_10: 0.5714 - val_recall_10: 0.0328 - val_f1_score: 0.3259 - 653ms/epoch - 82ms/step\n",
      "Epoch 8/50\n",
      "8/8 - 1s - loss: 0.8417 - accuracy: 0.4713 - auc_10: 0.6946 - precision_10: 0.6667 - recall_10: 0.0328 - f1_score: 0.3484 - val_loss: 1.0455 - val_accuracy: 0.4344 - val_auc_10: 0.6493 - val_precision_10: 0.5714 - val_recall_10: 0.0328 - val_f1_score: 0.2986 - 646ms/epoch - 81ms/step\n",
      "Epoch 9/50\n",
      "8/8 - 1s - loss: 0.8370 - accuracy: 0.5000 - auc_10: 0.7048 - precision_10: 0.8000 - recall_10: 0.0328 - f1_score: 0.3754 - val_loss: 1.0350 - val_accuracy: 0.4426 - val_auc_10: 0.6646 - val_precision_10: 0.6667 - val_recall_10: 0.0328 - val_f1_score: 0.2999 - 659ms/epoch - 82ms/step\n",
      "Epoch 10/50\n",
      "8/8 - 1s - loss: 0.8279 - accuracy: 0.5000 - auc_10: 0.7268 - precision_10: 0.8889 - recall_10: 0.0328 - f1_score: 0.3823 - val_loss: 1.0244 - val_accuracy: 0.4590 - val_auc_10: 0.6791 - val_precision_10: 0.6667 - val_recall_10: 0.0328 - val_f1_score: 0.3112 - 661ms/epoch - 83ms/step\n",
      "Epoch 11/50\n",
      "8/8 - 1s - loss: 0.8202 - accuracy: 0.5205 - auc_10: 0.7415 - precision_10: 0.9000 - recall_10: 0.0369 - f1_score: 0.4000 - val_loss: 1.0091 - val_accuracy: 0.4672 - val_auc_10: 0.7007 - val_precision_10: 0.7143 - val_recall_10: 0.0410 - val_f1_score: 0.3174 - 649ms/epoch - 81ms/step\n",
      "Epoch 12/50\n",
      "8/8 - 1s - loss: 0.8175 - accuracy: 0.5287 - auc_10: 0.7492 - precision_10: 0.9091 - recall_10: 0.0410 - f1_score: 0.4063 - val_loss: 1.0086 - val_accuracy: 0.4672 - val_auc_10: 0.6966 - val_precision_10: 0.7778 - val_recall_10: 0.0574 - val_f1_score: 0.3174 - 645ms/epoch - 81ms/step\n",
      "Epoch 13/50\n",
      "8/8 - 1s - loss: 0.8094 - accuracy: 0.5205 - auc_10: 0.7556 - precision_10: 0.9375 - recall_10: 0.0615 - f1_score: 0.4035 - val_loss: 1.0035 - val_accuracy: 0.4590 - val_auc_10: 0.6960 - val_precision_10: 0.6364 - val_recall_10: 0.0574 - val_f1_score: 0.3112 - 657ms/epoch - 82ms/step\n",
      "Epoch 14/50\n",
      "8/8 - 1s - loss: 0.8039 - accuracy: 0.5246 - auc_10: 0.7623 - precision_10: 0.8077 - recall_10: 0.0861 - f1_score: 0.4175 - val_loss: 0.9955 - val_accuracy: 0.4590 - val_auc_10: 0.7018 - val_precision_10: 0.6364 - val_recall_10: 0.0574 - val_f1_score: 0.3112 - 650ms/epoch - 81ms/step\n",
      "Epoch 15/50\n",
      "8/8 - 1s - loss: 0.7984 - accuracy: 0.5369 - auc_10: 0.7671 - precision_10: 0.8077 - recall_10: 0.0861 - f1_score: 0.4268 - val_loss: 0.9939 - val_accuracy: 0.4672 - val_auc_10: 0.7003 - val_precision_10: 0.6000 - val_recall_10: 0.0492 - val_f1_score: 0.3150 - 648ms/epoch - 81ms/step\n",
      "Epoch 16/50\n",
      "8/8 - 1s - loss: 0.7925 - accuracy: 0.5369 - auc_10: 0.7761 - precision_10: 0.8333 - recall_10: 0.0820 - f1_score: 0.4268 - val_loss: 0.9848 - val_accuracy: 0.4754 - val_auc_10: 0.7071 - val_precision_10: 0.6000 - val_recall_10: 0.0492 - val_f1_score: 0.3212 - 650ms/epoch - 81ms/step\n",
      "Epoch 17/50\n",
      "8/8 - 1s - loss: 0.7874 - accuracy: 0.5492 - auc_10: 0.7802 - precision_10: 0.8214 - recall_10: 0.0943 - f1_score: 0.4509 - val_loss: 0.9759 - val_accuracy: 0.4836 - val_auc_10: 0.7108 - val_precision_10: 0.6364 - val_recall_10: 0.0574 - val_f1_score: 0.3249 - 650ms/epoch - 81ms/step\n",
      "Epoch 18/50\n",
      "8/8 - 1s - loss: 0.7816 - accuracy: 0.5615 - auc_10: 0.7862 - precision_10: 0.7931 - recall_10: 0.0943 - f1_score: 0.4844 - val_loss: 0.9696 - val_accuracy: 0.4836 - val_auc_10: 0.7097 - val_precision_10: 0.5833 - val_recall_10: 0.0574 - val_f1_score: 0.3249 - 651ms/epoch - 81ms/step\n",
      "Epoch 19/50\n",
      "8/8 - 1s - loss: 0.7768 - accuracy: 0.5697 - auc_10: 0.7883 - precision_10: 0.8125 - recall_10: 0.1066 - f1_score: 0.5435 - val_loss: 0.9620 - val_accuracy: 0.4836 - val_auc_10: 0.7129 - val_precision_10: 0.5333 - val_recall_10: 0.0656 - val_f1_score: 0.3224 - 650ms/epoch - 81ms/step\n",
      "Epoch 20/50\n",
      "8/8 - 1s - loss: 0.7727 - accuracy: 0.5697 - auc_10: 0.7891 - precision_10: 0.8056 - recall_10: 0.1189 - f1_score: 0.5440 - val_loss: 0.9566 - val_accuracy: 0.4836 - val_auc_10: 0.7101 - val_precision_10: 0.5000 - val_recall_10: 0.0656 - val_f1_score: 0.3211 - 646ms/epoch - 81ms/step\n",
      "Epoch 21/50\n",
      "8/8 - 1s - loss: 0.7689 - accuracy: 0.5779 - auc_10: 0.7914 - precision_10: 0.7805 - recall_10: 0.1311 - f1_score: 0.5491 - val_loss: 0.9542 - val_accuracy: 0.4754 - val_auc_10: 0.7079 - val_precision_10: 0.5000 - val_recall_10: 0.0574 - val_f1_score: 0.3147 - 648ms/epoch - 81ms/step\n",
      "Epoch 22/50\n",
      "8/8 - 1s - loss: 0.7664 - accuracy: 0.5779 - auc_10: 0.7904 - precision_10: 0.7949 - recall_10: 0.1270 - f1_score: 0.5491 - val_loss: 0.9519 - val_accuracy: 0.4836 - val_auc_10: 0.7074 - val_precision_10: 0.4375 - val_recall_10: 0.0574 - val_f1_score: 0.3224 - 654ms/epoch - 82ms/step\n",
      "Epoch 23/50\n",
      "8/8 - 1s - loss: 0.7631 - accuracy: 0.5738 - auc_10: 0.7929 - precision_10: 0.7609 - recall_10: 0.1434 - f1_score: 0.5465 - val_loss: 0.9464 - val_accuracy: 0.4754 - val_auc_10: 0.7135 - val_precision_10: 0.4737 - val_recall_10: 0.0738 - val_f1_score: 0.3147 - 648ms/epoch - 81ms/step\n",
      "Epoch 24/50\n",
      "8/8 - 1s - loss: 0.7599 - accuracy: 0.5738 - auc_10: 0.7946 - precision_10: 0.7400 - recall_10: 0.1516 - f1_score: 0.5465 - val_loss: 0.9453 - val_accuracy: 0.4672 - val_auc_10: 0.7132 - val_precision_10: 0.4444 - val_recall_10: 0.0656 - val_f1_score: 0.3098 - 646ms/epoch - 81ms/step\n",
      "Epoch 25/50\n",
      "8/8 - 1s - loss: 0.7565 - accuracy: 0.5656 - auc_10: 0.7976 - precision_10: 0.7358 - recall_10: 0.1598 - f1_score: 0.5404 - val_loss: 0.9437 - val_accuracy: 0.4672 - val_auc_10: 0.7103 - val_precision_10: 0.3810 - val_recall_10: 0.0656 - val_f1_score: 0.3098 - 649ms/epoch - 81ms/step\n",
      "Epoch 26/50\n",
      "8/8 - 1s - loss: 0.7532 - accuracy: 0.5697 - auc_10: 0.7984 - precision_10: 0.7455 - recall_10: 0.1680 - f1_score: 0.5429 - val_loss: 0.9419 - val_accuracy: 0.4918 - val_auc_10: 0.7080 - val_precision_10: 0.3810 - val_recall_10: 0.0656 - val_f1_score: 0.3274 - 644ms/epoch - 80ms/step\n",
      "Epoch 27/50\n",
      "8/8 - 1s - loss: 0.7500 - accuracy: 0.5697 - auc_10: 0.7987 - precision_10: 0.7500 - recall_10: 0.1721 - f1_score: 0.5435 - val_loss: 0.9374 - val_accuracy: 0.4836 - val_auc_10: 0.7111 - val_precision_10: 0.4091 - val_recall_10: 0.0738 - val_f1_score: 0.3224 - 644ms/epoch - 81ms/step\n",
      "Epoch 28/50\n",
      "8/8 - 1s - loss: 0.7466 - accuracy: 0.5697 - auc_10: 0.8010 - precision_10: 0.7458 - recall_10: 0.1803 - f1_score: 0.5435 - val_loss: 0.9334 - val_accuracy: 0.4836 - val_auc_10: 0.7113 - val_precision_10: 0.3913 - val_recall_10: 0.0738 - val_f1_score: 0.3211 - 648ms/epoch - 81ms/step\n",
      "Epoch 29/50\n",
      "8/8 - 1s - loss: 0.7411 - accuracy: 0.5697 - auc_10: 0.8017 - precision_10: 0.7500 - recall_10: 0.1844 - f1_score: 0.5982 - val_loss: 0.9283 - val_accuracy: 0.4836 - val_auc_10: 0.7150 - val_precision_10: 0.3913 - val_recall_10: 0.0738 - val_f1_score: 0.3224 - 646ms/epoch - 81ms/step\n",
      "Epoch 30/50\n",
      "8/8 - 1s - loss: 0.7374 - accuracy: 0.5697 - auc_10: 0.8021 - precision_10: 0.7258 - recall_10: 0.1844 - f1_score: 0.5982 - val_loss: 0.9225 - val_accuracy: 0.4754 - val_auc_10: 0.7163 - val_precision_10: 0.3667 - val_recall_10: 0.0902 - val_f1_score: 0.3161 - 654ms/epoch - 82ms/step\n",
      "Epoch 31/50\n",
      "8/8 - 1s - loss: 0.7335 - accuracy: 0.5779 - auc_10: 0.8026 - precision_10: 0.6765 - recall_10: 0.1885 - f1_score: 0.6038 - val_loss: 0.9187 - val_accuracy: 0.4836 - val_auc_10: 0.7193 - val_precision_10: 0.3871 - val_recall_10: 0.0984 - val_f1_score: 0.3211 - 649ms/epoch - 81ms/step\n",
      "Epoch 32/50\n",
      "8/8 - 1s - loss: 0.7314 - accuracy: 0.5779 - auc_10: 0.8030 - precision_10: 0.6618 - recall_10: 0.1844 - f1_score: 0.6043 - val_loss: 0.9173 - val_accuracy: 0.4754 - val_auc_10: 0.7197 - val_precision_10: 0.3871 - val_recall_10: 0.0984 - val_f1_score: 0.3161 - 644ms/epoch - 81ms/step\n",
      "Epoch 33/50\n",
      "8/8 - 1s - loss: 0.7252 - accuracy: 0.5779 - auc_10: 0.8048 - precision_10: 0.6714 - recall_10: 0.1926 - f1_score: 0.6038 - val_loss: 0.9141 - val_accuracy: 0.4836 - val_auc_10: 0.7202 - val_precision_10: 0.4000 - val_recall_10: 0.1148 - val_f1_score: 0.3224 - 644ms/epoch - 81ms/step\n",
      "Epoch 34/50\n",
      "8/8 - 1s - loss: 0.7219 - accuracy: 0.5861 - auc_10: 0.8060 - precision_10: 0.6620 - recall_10: 0.1926 - f1_score: 0.6088 - val_loss: 0.9116 - val_accuracy: 0.4836 - val_auc_10: 0.7235 - val_precision_10: 0.4000 - val_recall_10: 0.1148 - val_f1_score: 0.3236 - 654ms/epoch - 82ms/step\n",
      "Epoch 35/50\n",
      "8/8 - 1s - loss: 0.7185 - accuracy: 0.5902 - auc_10: 0.8056 - precision_10: 0.6447 - recall_10: 0.2008 - f1_score: 0.6124 - val_loss: 0.9080 - val_accuracy: 0.4918 - val_auc_10: 0.7270 - val_precision_10: 0.3750 - val_recall_10: 0.1230 - val_f1_score: 0.3286 - 666ms/epoch - 83ms/step\n",
      "Epoch 36/50\n",
      "8/8 - 1s - loss: 0.7148 - accuracy: 0.6025 - auc_10: 0.8091 - precision_10: 0.6049 - recall_10: 0.2008 - f1_score: 0.6200 - val_loss: 0.9044 - val_accuracy: 0.5000 - val_auc_10: 0.7283 - val_precision_10: 0.3750 - val_recall_10: 0.1230 - val_f1_score: 0.3347 - 743ms/epoch - 93ms/step\n",
      "Epoch 37/50\n",
      "8/8 - 1s - loss: 0.7129 - accuracy: 0.6066 - auc_10: 0.8092 - precision_10: 0.5976 - recall_10: 0.2008 - f1_score: 0.6225 - val_loss: 0.9039 - val_accuracy: 0.4836 - val_auc_10: 0.7272 - val_precision_10: 0.3902 - val_recall_10: 0.1311 - val_f1_score: 0.3232 - 683ms/epoch - 85ms/step\n",
      "Epoch 38/50\n",
      "8/8 - 1s - loss: 0.7097 - accuracy: 0.6025 - auc_10: 0.8101 - precision_10: 0.6024 - recall_10: 0.2049 - f1_score: 0.6205 - val_loss: 0.9027 - val_accuracy: 0.4836 - val_auc_10: 0.7262 - val_precision_10: 0.3846 - val_recall_10: 0.1230 - val_f1_score: 0.3222 - 665ms/epoch - 83ms/step\n",
      "Epoch 39/50\n",
      "8/8 - 1s - loss: 0.7074 - accuracy: 0.5984 - auc_10: 0.8091 - precision_10: 0.6265 - recall_10: 0.2131 - f1_score: 0.6179 - val_loss: 0.8997 - val_accuracy: 0.4508 - val_auc_10: 0.7252 - val_precision_10: 0.4103 - val_recall_10: 0.1311 - val_f1_score: 0.3018 - 649ms/epoch - 81ms/step\n",
      "Epoch 40/50\n",
      "8/8 - 1s - loss: 0.7054 - accuracy: 0.6025 - auc_10: 0.8109 - precision_10: 0.6386 - recall_10: 0.2172 - f1_score: 0.6194 - val_loss: 0.8981 - val_accuracy: 0.4754 - val_auc_10: 0.7253 - val_precision_10: 0.4103 - val_recall_10: 0.1311 - val_f1_score: 0.3148 - 651ms/epoch - 81ms/step\n",
      "Epoch 41/50\n",
      "8/8 - 1s - loss: 0.7033 - accuracy: 0.6107 - auc_10: 0.8121 - precision_10: 0.6220 - recall_10: 0.2090 - f1_score: 0.6250 - val_loss: 0.8954 - val_accuracy: 0.4508 - val_auc_10: 0.7294 - val_precision_10: 0.4103 - val_recall_10: 0.1311 - val_f1_score: 0.3018 - 647ms/epoch - 81ms/step\n",
      "Epoch 42/50\n",
      "8/8 - 1s - loss: 0.7006 - accuracy: 0.6066 - auc_10: 0.8129 - precision_10: 0.6092 - recall_10: 0.2172 - f1_score: 0.6230 - val_loss: 0.8931 - val_accuracy: 0.4590 - val_auc_10: 0.7290 - val_precision_10: 0.4103 - val_recall_10: 0.1311 - val_f1_score: 0.3061 - 648ms/epoch - 81ms/step\n",
      "Epoch 43/50\n",
      "8/8 - 1s - loss: 0.6988 - accuracy: 0.6148 - auc_10: 0.8144 - precision_10: 0.6279 - recall_10: 0.2213 - f1_score: 0.6270 - val_loss: 0.8935 - val_accuracy: 0.4918 - val_auc_10: 0.7279 - val_precision_10: 0.4250 - val_recall_10: 0.1393 - val_f1_score: 0.3246 - 647ms/epoch - 81ms/step\n",
      "Epoch 44/50\n",
      "8/8 - 1s - loss: 0.6965 - accuracy: 0.6148 - auc_10: 0.8156 - precision_10: 0.6404 - recall_10: 0.2336 - f1_score: 0.6270 - val_loss: 0.8899 - val_accuracy: 0.4836 - val_auc_10: 0.7308 - val_precision_10: 0.4667 - val_recall_10: 0.1721 - val_f1_score: 0.3211 - 645ms/epoch - 81ms/step\n",
      "Epoch 45/50\n",
      "8/8 - 1s - loss: 0.6945 - accuracy: 0.6189 - auc_10: 0.8154 - precision_10: 0.6522 - recall_10: 0.2459 - f1_score: 0.6306 - val_loss: 0.8895 - val_accuracy: 0.4754 - val_auc_10: 0.7296 - val_precision_10: 0.4681 - val_recall_10: 0.1803 - val_f1_score: 0.3172 - 645ms/epoch - 81ms/step\n",
      "Epoch 46/50\n",
      "8/8 - 1s - loss: 0.6926 - accuracy: 0.6189 - auc_10: 0.8152 - precision_10: 0.6667 - recall_10: 0.2541 - f1_score: 0.6311 - val_loss: 0.8889 - val_accuracy: 0.4836 - val_auc_10: 0.7295 - val_precision_10: 0.4468 - val_recall_10: 0.1721 - val_f1_score: 0.3222 - 652ms/epoch - 82ms/step\n",
      "Epoch 47/50\n",
      "8/8 - 1s - loss: 0.6898 - accuracy: 0.6189 - auc_10: 0.8158 - precision_10: 0.6737 - recall_10: 0.2623 - f1_score: 0.6311 - val_loss: 0.8869 - val_accuracy: 0.4836 - val_auc_10: 0.7300 - val_precision_10: 0.4468 - val_recall_10: 0.1721 - val_f1_score: 0.3211 - 646ms/epoch - 81ms/step\n",
      "Epoch 48/50\n",
      "8/8 - 1s - loss: 0.6870 - accuracy: 0.6066 - auc_10: 0.8170 - precision_10: 0.6735 - recall_10: 0.2705 - f1_score: 0.6220 - val_loss: 0.8857 - val_accuracy: 0.4836 - val_auc_10: 0.7297 - val_precision_10: 0.4583 - val_recall_10: 0.1803 - val_f1_score: 0.3222 - 652ms/epoch - 82ms/step\n",
      "Epoch 49/50\n",
      "8/8 - 1s - loss: 0.6845 - accuracy: 0.6025 - auc_10: 0.8174 - precision_10: 0.6667 - recall_10: 0.2787 - f1_score: 0.6194 - val_loss: 0.8835 - val_accuracy: 0.4918 - val_auc_10: 0.7302 - val_precision_10: 0.4400 - val_recall_10: 0.1803 - val_f1_score: 0.3272 - 655ms/epoch - 82ms/step\n",
      "Epoch 50/50\n",
      "8/8 - 1s - loss: 0.6828 - accuracy: 0.6107 - auc_10: 0.8178 - precision_10: 0.6600 - recall_10: 0.2705 - f1_score: 0.6256 - val_loss: 0.8824 - val_accuracy: 0.4754 - val_auc_10: 0.7300 - val_precision_10: 0.4400 - val_recall_10: 0.1803 - val_f1_score: 0.3172 - 648ms/epoch - 81ms/step\n"
     ]
    },
    {
     "data": {
      "image/png": "[encoded data removed]",
      "text/plain": [
       "<Figure size 432x288 with 1 Axes>"
      ]
     },
     "metadata": {
      "needs_background": "light"
     },
     "output_type": "display_data"
    },
    {
     "name": "stdout",
     "output_type": "stream",
     "text": [
      "Epoch 1/50\n",
      "8/8 - 3s - loss: 1.1316 - accuracy: 0.1721 - auc_11: 0.4157 - precision_11: 0.2857 - recall_11: 0.0984 - f1_score: 0.1322 - val_loss: 1.2572 - val_accuracy: 0.1721 - val_auc_11: 0.3802 - val_precision_11: 0.1765 - val_recall_11: 0.0492 - val_f1_score: 0.1407 - 3s/epoch - 380ms/step\n",
      "Epoch 2/50\n",
      "8/8 - 1s - loss: 1.1141 - accuracy: 0.1844 - auc_11: 0.4374 - precision_11: 0.3906 - recall_11: 0.1025 - f1_score: 0.1410 - val_loss: 1.2238 - val_accuracy: 0.1803 - val_auc_11: 0.4036 - val_precision_11: 0.2500 - val_recall_11: 0.0574 - val_f1_score: 0.1448 - 655ms/epoch - 82ms/step\n",
      "Epoch 3/50\n",
      "8/8 - 1s - loss: 1.1178 - accuracy: 0.1967 - auc_11: 0.4628 - precision_11: 0.4386 - recall_11: 0.1025 - f1_score: 0.1451 - val_loss: 1.1997 - val_accuracy: 0.1803 - val_auc_11: 0.4256 - val_precision_11: 0.3478 - val_recall_11: 0.0656 - val_f1_score: 0.1448 - 697ms/epoch - 87ms/step\n",
      "Epoch 4/50\n",
      "8/8 - 1s - loss: 1.0871 - accuracy: 0.2008 - auc_11: 0.4673 - precision_11: 0.4808 - recall_11: 0.1025 - f1_score: 0.1497 - val_loss: 1.1785 - val_accuracy: 0.1803 - val_auc_11: 0.4379 - val_precision_11: 0.3333 - val_recall_11: 0.0574 - val_f1_score: 0.1448 - 657ms/epoch - 82ms/step\n",
      "Epoch 5/50\n",
      "8/8 - 1s - loss: 1.0770 - accuracy: 0.2008 - auc_11: 0.4699 - precision_11: 0.5417 - recall_11: 0.1066 - f1_score: 0.1497 - val_loss: 1.1621 - val_accuracy: 0.1803 - val_auc_11: 0.4489 - val_precision_11: 0.3684 - val_recall_11: 0.0574 - val_f1_score: 0.1449 - 656ms/epoch - 82ms/step\n",
      "Epoch 6/50\n",
      "8/8 - 1s - loss: 1.0680 - accuracy: 0.2090 - auc_11: 0.4726 - precision_11: 0.5532 - recall_11: 0.1066 - f1_score: 0.1588 - val_loss: 1.1480 - val_accuracy: 0.1967 - val_auc_11: 0.4604 - val_precision_11: 0.4375 - val_recall_11: 0.0574 - val_f1_score: 0.1673 - 660ms/epoch - 82ms/step\n",
      "Epoch 7/50\n",
      "8/8 - 1s - loss: 1.0538 - accuracy: 0.2131 - auc_11: 0.4894 - precision_11: 0.5909 - recall_11: 0.1066 - f1_score: 0.1588 - val_loss: 1.1309 - val_accuracy: 0.2131 - val_auc_11: 0.4719 - val_precision_11: 0.4375 - val_recall_11: 0.0574 - val_f1_score: 0.1836 - 660ms/epoch - 82ms/step\n",
      "Epoch 8/50\n",
      "8/8 - 1s - loss: 1.0470 - accuracy: 0.2377 - auc_11: 0.4966 - precision_11: 0.6190 - recall_11: 0.1066 - f1_score: 0.1987 - val_loss: 1.1185 - val_accuracy: 0.2213 - val_auc_11: 0.4783 - val_precision_11: 0.4375 - val_recall_11: 0.0574 - val_f1_score: 0.1941 - 654ms/epoch - 82ms/step\n",
      "Epoch 9/50\n",
      "8/8 - 1s - loss: 1.0424 - accuracy: 0.2746 - auc_11: 0.5059 - precision_11: 0.6341 - recall_11: 0.1066 - f1_score: 0.2291 - val_loss: 1.1128 - val_accuracy: 0.2295 - val_auc_11: 0.4862 - val_precision_11: 0.4375 - val_recall_11: 0.0574 - val_f1_score: 0.2013 - 660ms/epoch - 83ms/step\n",
      "Epoch 10/50\n",
      "8/8 - 1s - loss: 1.0390 - accuracy: 0.2828 - auc_11: 0.5082 - precision_11: 0.6136 - recall_11: 0.1107 - f1_score: 0.2354 - val_loss: 1.1141 - val_accuracy: 0.2295 - val_auc_11: 0.4819 - val_precision_11: 0.4375 - val_recall_11: 0.0574 - val_f1_score: 0.1994 - 651ms/epoch - 81ms/step\n",
      "Epoch 11/50\n",
      "8/8 - 1s - loss: 1.0366 - accuracy: 0.2910 - auc_11: 0.5057 - precision_11: 0.5778 - recall_11: 0.1066 - f1_score: 0.2451 - val_loss: 1.1145 - val_accuracy: 0.2377 - val_auc_11: 0.4788 - val_precision_11: 0.4375 - val_recall_11: 0.0574 - val_f1_score: 0.2071 - 652ms/epoch - 82ms/step\n",
      "Epoch 12/50\n",
      "8/8 - 1s - loss: 1.0332 - accuracy: 0.3197 - auc_11: 0.5175 - precision_11: 0.5870 - recall_11: 0.1107 - f1_score: 0.2694 - val_loss: 1.1065 - val_accuracy: 0.3443 - val_auc_11: 0.4847 - val_precision_11: 0.4375 - val_recall_11: 0.0574 - val_f1_score: 0.2856 - 659ms/epoch - 82ms/step\n",
      "Epoch 13/50\n",
      "8/8 - 1s - loss: 1.0274 - accuracy: 0.3197 - auc_11: 0.5218 - precision_11: 0.6000 - recall_11: 0.1107 - f1_score: 0.2668 - val_loss: 1.1077 - val_accuracy: 0.2541 - val_auc_11: 0.4753 - val_precision_11: 0.4375 - val_recall_11: 0.0574 - val_f1_score: 0.2186 - 654ms/epoch - 82ms/step\n",
      "Epoch 14/50\n",
      "8/8 - 1s - loss: 1.0243 - accuracy: 0.3648 - auc_11: 0.5337 - precision_11: 0.5778 - recall_11: 0.1066 - f1_score: 0.2957 - val_loss: 1.0978 - val_accuracy: 0.3607 - val_auc_11: 0.5019 - val_precision_11: 0.4375 - val_recall_11: 0.0574 - val_f1_score: 0.2919 - 652ms/epoch - 82ms/step\n",
      "Epoch 15/50\n",
      "8/8 - 1s - loss: 1.0201 - accuracy: 0.4016 - auc_11: 0.5466 - precision_11: 0.5870 - recall_11: 0.1107 - f1_score: 0.3153 - val_loss: 1.0950 - val_accuracy: 0.3689 - val_auc_11: 0.5077 - val_precision_11: 0.4375 - val_recall_11: 0.0574 - val_f1_score: 0.2974 - 655ms/epoch - 82ms/step\n",
      "Epoch 16/50\n",
      "8/8 - 1s - loss: 1.0188 - accuracy: 0.4016 - auc_11: 0.5544 - precision_11: 0.5870 - recall_11: 0.1107 - f1_score: 0.3136 - val_loss: 1.0879 - val_accuracy: 0.3770 - val_auc_11: 0.5244 - val_precision_11: 0.4375 - val_recall_11: 0.0574 - val_f1_score: 0.3017 - 660ms/epoch - 82ms/step\n",
      "Epoch 17/50\n",
      "8/8 - 1s - loss: 1.0174 - accuracy: 0.4057 - auc_11: 0.5556 - precision_11: 0.6000 - recall_11: 0.1107 - f1_score: 0.3164 - val_loss: 1.0895 - val_accuracy: 0.3770 - val_auc_11: 0.5215 - val_precision_11: 0.5000 - val_recall_11: 0.0738 - val_f1_score: 0.3017 - 653ms/epoch - 82ms/step\n",
      "Epoch 18/50\n",
      "8/8 - 1s - loss: 1.0156 - accuracy: 0.4057 - auc_11: 0.5562 - precision_11: 0.5870 - recall_11: 0.1107 - f1_score: 0.3164 - val_loss: 1.0880 - val_accuracy: 0.3770 - val_auc_11: 0.5248 - val_precision_11: 0.5000 - val_recall_11: 0.0738 - val_f1_score: 0.3017 - 654ms/epoch - 82ms/step\n",
      "Epoch 19/50\n",
      "8/8 - 1s - loss: 1.0145 - accuracy: 0.4098 - auc_11: 0.5640 - precision_11: 0.5870 - recall_11: 0.1107 - f1_score: 0.3186 - val_loss: 1.0820 - val_accuracy: 0.3770 - val_auc_11: 0.5365 - val_precision_11: 0.5000 - val_recall_11: 0.0738 - val_f1_score: 0.3013 - 655ms/epoch - 82ms/step\n",
      "Epoch 20/50\n",
      "8/8 - 1s - loss: 1.0118 - accuracy: 0.4057 - auc_11: 0.5744 - precision_11: 0.5745 - recall_11: 0.1107 - f1_score: 0.3151 - val_loss: 1.0802 - val_accuracy: 0.3770 - val_auc_11: 0.5364 - val_precision_11: 0.5000 - val_recall_11: 0.0738 - val_f1_score: 0.3013 - 657ms/epoch - 82ms/step\n",
      "Epoch 21/50\n",
      "8/8 - 1s - loss: 0.9988 - accuracy: 0.4057 - auc_11: 0.5776 - precision_11: 0.5714 - recall_11: 0.1148 - f1_score: 0.3146 - val_loss: 1.0774 - val_accuracy: 0.3934 - val_auc_11: 0.5538 - val_precision_11: 0.5000 - val_recall_11: 0.0738 - val_f1_score: 0.3120 - 654ms/epoch - 82ms/step\n",
      "Epoch 22/50\n",
      "8/8 - 1s - loss: 0.9975 - accuracy: 0.4098 - auc_11: 0.5801 - precision_11: 0.5714 - recall_11: 0.1148 - f1_score: 0.3150 - val_loss: 1.0750 - val_accuracy: 0.3934 - val_auc_11: 0.5604 - val_precision_11: 0.5000 - val_recall_11: 0.0738 - val_f1_score: 0.3120 - 659ms/epoch - 82ms/step\n",
      "Epoch 23/50\n",
      "8/8 - 1s - loss: 0.9969 - accuracy: 0.4180 - auc_11: 0.5890 - precision_11: 0.5600 - recall_11: 0.1148 - f1_score: 0.3200 - val_loss: 1.0710 - val_accuracy: 0.3934 - val_auc_11: 0.5607 - val_precision_11: 0.5000 - val_recall_11: 0.0738 - val_f1_score: 0.3120 - 657ms/epoch - 82ms/step\n",
      "Epoch 24/50\n",
      "8/8 - 1s - loss: 0.9953 - accuracy: 0.4221 - auc_11: 0.5901 - precision_11: 0.5600 - recall_11: 0.1148 - f1_score: 0.3232 - val_loss: 1.0730 - val_accuracy: 0.3934 - val_auc_11: 0.5611 - val_precision_11: 0.5000 - val_recall_11: 0.0738 - val_f1_score: 0.3120 - 651ms/epoch - 81ms/step\n",
      "Epoch 25/50\n",
      "8/8 - 1s - loss: 0.9942 - accuracy: 0.4221 - auc_11: 0.5914 - precision_11: 0.5714 - recall_11: 0.1148 - f1_score: 0.3236 - val_loss: 1.0709 - val_accuracy: 0.3934 - val_auc_11: 0.5703 - val_precision_11: 0.5000 - val_recall_11: 0.0738 - val_f1_score: 0.3120 - 659ms/epoch - 82ms/step\n",
      "Epoch 26/50\n",
      "8/8 - 1s - loss: 0.9934 - accuracy: 0.4180 - auc_11: 0.5984 - precision_11: 0.5714 - recall_11: 0.1148 - f1_score: 0.3205 - val_loss: 1.0665 - val_accuracy: 0.3934 - val_auc_11: 0.5751 - val_precision_11: 0.5000 - val_recall_11: 0.0738 - val_f1_score: 0.3120 - 652ms/epoch - 82ms/step\n",
      "Epoch 27/50\n",
      "8/8 - 1s - loss: 0.9915 - accuracy: 0.4180 - auc_11: 0.6008 - precision_11: 0.5833 - recall_11: 0.1148 - f1_score: 0.3205 - val_loss: 1.0656 - val_accuracy: 0.3934 - val_auc_11: 0.5757 - val_precision_11: 0.5000 - val_recall_11: 0.0738 - val_f1_score: 0.3120 - 654ms/epoch - 82ms/step\n",
      "Epoch 28/50\n",
      "8/8 - 1s - loss: 0.9908 - accuracy: 0.4180 - auc_11: 0.6008 - precision_11: 0.5882 - recall_11: 0.1230 - f1_score: 0.3200 - val_loss: 1.0652 - val_accuracy: 0.3934 - val_auc_11: 0.5745 - val_precision_11: 0.5263 - val_recall_11: 0.0820 - val_f1_score: 0.3120 - 665ms/epoch - 83ms/step\n",
      "Epoch 29/50\n",
      "8/8 - 1s - loss: 0.9903 - accuracy: 0.4221 - auc_11: 0.6000 - precision_11: 0.5714 - recall_11: 0.1148 - f1_score: 0.3232 - val_loss: 1.0664 - val_accuracy: 0.3934 - val_auc_11: 0.5765 - val_precision_11: 0.5000 - val_recall_11: 0.0738 - val_f1_score: 0.3120 - 664ms/epoch - 83ms/step\n",
      "Epoch 30/50\n",
      "8/8 - 1s - loss: 0.9884 - accuracy: 0.4221 - auc_11: 0.6010 - precision_11: 0.5833 - recall_11: 0.1148 - f1_score: 0.3227 - val_loss: 1.0639 - val_accuracy: 0.3934 - val_auc_11: 0.5844 - val_precision_11: 0.5000 - val_recall_11: 0.0738 - val_f1_score: 0.3120 - 649ms/epoch - 81ms/step\n",
      "Epoch 31/50\n",
      "8/8 - 1s - loss: 0.9883 - accuracy: 0.4221 - auc_11: 0.6145 - precision_11: 0.5833 - recall_11: 0.1148 - f1_score: 0.3227 - val_loss: 1.0576 - val_accuracy: 0.3934 - val_auc_11: 0.5943 - val_precision_11: 0.5000 - val_recall_11: 0.0738 - val_f1_score: 0.3120 - 656ms/epoch - 82ms/step\n",
      "Epoch 32/50\n",
      "8/8 - 1s - loss: 0.9875 - accuracy: 0.4221 - auc_11: 0.6231 - precision_11: 0.6078 - recall_11: 0.1270 - f1_score: 0.3227 - val_loss: 1.0549 - val_accuracy: 0.3934 - val_auc_11: 0.6015 - val_precision_11: 0.5263 - val_recall_11: 0.0820 - val_f1_score: 0.3118 - 662ms/epoch - 83ms/step\n",
      "Epoch 33/50\n",
      "8/8 - 1s - loss: 0.9870 - accuracy: 0.4221 - auc_11: 0.6209 - precision_11: 0.5962 - recall_11: 0.1270 - f1_score: 0.3227 - val_loss: 1.0578 - val_accuracy: 0.3934 - val_auc_11: 0.5935 - val_precision_11: 0.5263 - val_recall_11: 0.0820 - val_f1_score: 0.3120 - 654ms/epoch - 82ms/step\n",
      "Epoch 34/50\n",
      "8/8 - 1s - loss: 0.9857 - accuracy: 0.4221 - auc_11: 0.6258 - precision_11: 0.5962 - recall_11: 0.1270 - f1_score: 0.3227 - val_loss: 1.0528 - val_accuracy: 0.3934 - val_auc_11: 0.6064 - val_precision_11: 0.5263 - val_recall_11: 0.0820 - val_f1_score: 0.3118 - 650ms/epoch - 81ms/step\n",
      "Epoch 35/50\n",
      "8/8 - 1s - loss: 0.9836 - accuracy: 0.4221 - auc_11: 0.6308 - precision_11: 0.6078 - recall_11: 0.1270 - f1_score: 0.3227 - val_loss: 1.0516 - val_accuracy: 0.3934 - val_auc_11: 0.6090 - val_precision_11: 0.5263 - val_recall_11: 0.0820 - val_f1_score: 0.3118 - 660ms/epoch - 83ms/step\n",
      "Epoch 36/50\n",
      "8/8 - 1s - loss: 0.9840 - accuracy: 0.4221 - auc_11: 0.6298 - precision_11: 0.6078 - recall_11: 0.1270 - f1_score: 0.3227 - val_loss: 1.0561 - val_accuracy: 0.3934 - val_auc_11: 0.6029 - val_precision_11: 0.5263 - val_recall_11: 0.0820 - val_f1_score: 0.3118 - 651ms/epoch - 81ms/step\n",
      "Epoch 37/50\n",
      "8/8 - 1s - loss: 0.9820 - accuracy: 0.4221 - auc_11: 0.6304 - precision_11: 0.6078 - recall_11: 0.1270 - f1_score: 0.3227 - val_loss: 1.0536 - val_accuracy: 0.3934 - val_auc_11: 0.6033 - val_precision_11: 0.5263 - val_recall_11: 0.0820 - val_f1_score: 0.3118 - 644ms/epoch - 81ms/step\n",
      "Epoch 38/50\n",
      "8/8 - 1s - loss: 0.9820 - accuracy: 0.4221 - auc_11: 0.6326 - precision_11: 0.5962 - recall_11: 0.1270 - f1_score: 0.3227 - val_loss: 1.0504 - val_accuracy: 0.3934 - val_auc_11: 0.6081 - val_precision_11: 0.5263 - val_recall_11: 0.0820 - val_f1_score: 0.3118 - 660ms/epoch - 83ms/step\n",
      "Epoch 39/50\n",
      "8/8 - 1s - loss: 0.9805 - accuracy: 0.4221 - auc_11: 0.6336 - precision_11: 0.6078 - recall_11: 0.1270 - f1_score: 0.3227 - val_loss: 1.0522 - val_accuracy: 0.3934 - val_auc_11: 0.6043 - val_precision_11: 0.5263 - val_recall_11: 0.0820 - val_f1_score: 0.3118 - 653ms/epoch - 82ms/step\n",
      "Epoch 40/50\n",
      "8/8 - 1s - loss: 0.9790 - accuracy: 0.4221 - auc_11: 0.6323 - precision_11: 0.6078 - recall_11: 0.1270 - f1_score: 0.3227 - val_loss: 1.0522 - val_accuracy: 0.3934 - val_auc_11: 0.6065 - val_precision_11: 0.5263 - val_recall_11: 0.0820 - val_f1_score: 0.3118 - 644ms/epoch - 80ms/step\n",
      "Epoch 41/50\n",
      "8/8 - 1s - loss: 0.9787 - accuracy: 0.4221 - auc_11: 0.6347 - precision_11: 0.6078 - recall_11: 0.1270 - f1_score: 0.3227 - val_loss: 1.0502 - val_accuracy: 0.3934 - val_auc_11: 0.6096 - val_precision_11: 0.5263 - val_recall_11: 0.0820 - val_f1_score: 0.3118 - 646ms/epoch - 81ms/step\n",
      "Epoch 42/50\n",
      "8/8 - 1s - loss: 0.9780 - accuracy: 0.4221 - auc_11: 0.6328 - precision_11: 0.6078 - recall_11: 0.1270 - f1_score: 0.3227 - val_loss: 1.0525 - val_accuracy: 0.3934 - val_auc_11: 0.6064 - val_precision_11: 0.5263 - val_recall_11: 0.0820 - val_f1_score: 0.3118 - 647ms/epoch - 81ms/step\n",
      "Epoch 43/50\n",
      "8/8 - 1s - loss: 0.9765 - accuracy: 0.4221 - auc_11: 0.6342 - precision_11: 0.6078 - recall_11: 0.1270 - f1_score: 0.3227 - val_loss: 1.0493 - val_accuracy: 0.3934 - val_auc_11: 0.6081 - val_precision_11: 0.5263 - val_recall_11: 0.0820 - val_f1_score: 0.3118 - 653ms/epoch - 82ms/step\n",
      "Epoch 44/50\n",
      "8/8 - 1s - loss: 0.9758 - accuracy: 0.4221 - auc_11: 0.6373 - precision_11: 0.5962 - recall_11: 0.1270 - f1_score: 0.3227 - val_loss: 1.0503 - val_accuracy: 0.3934 - val_auc_11: 0.6086 - val_precision_11: 0.5263 - val_recall_11: 0.0820 - val_f1_score: 0.3118 - 653ms/epoch - 82ms/step\n",
      "Epoch 45/50\n",
      "8/8 - 1s - loss: 0.9752 - accuracy: 0.4221 - auc_11: 0.6384 - precision_11: 0.6078 - recall_11: 0.1270 - f1_score: 0.3227 - val_loss: 1.0499 - val_accuracy: 0.3934 - val_auc_11: 0.6094 - val_precision_11: 0.5000 - val_recall_11: 0.0820 - val_f1_score: 0.3118 - 667ms/epoch - 83ms/step\n",
      "Epoch 46/50\n",
      "8/8 - 1s - loss: 0.9744 - accuracy: 0.4221 - auc_11: 0.6406 - precision_11: 0.6078 - recall_11: 0.1270 - f1_score: 0.3227 - val_loss: 1.0453 - val_accuracy: 0.3934 - val_auc_11: 0.6153 - val_precision_11: 0.5263 - val_recall_11: 0.0820 - val_f1_score: 0.3118 - 675ms/epoch - 84ms/step\n",
      "Epoch 47/50\n",
      "8/8 - 1s - loss: 0.9737 - accuracy: 0.4221 - auc_11: 0.6427 - precision_11: 0.6038 - recall_11: 0.1311 - f1_score: 0.3227 - val_loss: 1.0419 - val_accuracy: 0.3934 - val_auc_11: 0.6188 - val_precision_11: 0.5714 - val_recall_11: 0.0984 - val_f1_score: 0.3118 - 685ms/epoch - 86ms/step\n",
      "Epoch 48/50\n",
      "8/8 - 1s - loss: 0.9731 - accuracy: 0.4221 - auc_11: 0.6470 - precision_11: 0.6154 - recall_11: 0.1311 - f1_score: 0.3227 - val_loss: 1.0401 - val_accuracy: 0.3934 - val_auc_11: 0.6185 - val_precision_11: 0.5714 - val_recall_11: 0.0984 - val_f1_score: 0.3118 - 679ms/epoch - 85ms/step\n",
      "Epoch 49/50\n",
      "8/8 - 1s - loss: 0.9718 - accuracy: 0.4221 - auc_11: 0.6493 - precision_11: 0.6154 - recall_11: 0.1311 - f1_score: 0.3227 - val_loss: 1.0408 - val_accuracy: 0.3934 - val_auc_11: 0.6186 - val_precision_11: 0.5714 - val_recall_11: 0.0984 - val_f1_score: 0.3118 - 676ms/epoch - 85ms/step\n",
      "Epoch 50/50\n",
      "8/8 - 1s - loss: 0.9715 - accuracy: 0.4221 - auc_11: 0.6482 - precision_11: 0.5926 - recall_11: 0.1311 - f1_score: 0.3227 - val_loss: 1.0425 - val_accuracy: 0.3934 - val_auc_11: 0.6141 - val_precision_11: 0.5217 - val_recall_11: 0.0984 - val_f1_score: 0.3118 - 677ms/epoch - 85ms/step\n"
     ]
    },
    {
     "data": {
      "image/png": "[encoded data removed]",
      "text/plain": [
       "<Figure size 432x288 with 1 Axes>"
      ]
     },
     "metadata": {
      "needs_background": "light"
     },
     "output_type": "display_data"
    }
   ],
   "source": [
    "for train_index, val_index in kf.split(X):\n",
    "    X_train, X_val = X[train_index], X[val_index]\n",
    "    y_train, y_val = y[train_index], y[val_index]\n",
    "    model = Baseline(n_features, n_length, n_outputs)\n",
    "    history = model.train(X_train, y_train, X_val, y_val, epochs, batch_size, d_class_weights)\n",
    "    plt.plot(history.history['loss'])\n",
    "    plt.show()"
   ]
  },
  {
   "cell_type": "markdown",
   "metadata": {},
   "source": [
    "##### Prediction on the holdout set"
   ]
  },
  {
   "cell_type": "code",
   "execution_count": 19,
   "metadata": {},
   "outputs": [
    {
     "name": "stdout",
     "output_type": "stream",
     "text": [
      "Accuracy: 30.30% \n",
      "Balanced Accuracy: 38.46% \n",
      "ROC/AUC: 0.54 \n",
      "Precision: 0.37 \n",
      "Recall: 0.06 \n",
      "F1 score: 0.23\n"
     ]
    }
   ],
   "source": [
    "y_pred = model.predict(X_test)\n",
    "_, acc, auc, precision, recall, f1 = model.evaluate(X_test, y_test)\n",
    "results.append(round(acc, 2))\n",
    "bal_acc = balanced_accuracy_score(y_test.argmax(axis=1), y_pred.argmax(axis=1)) \n",
    "print('Accuracy: {:.2f}% \\nBalanced Accuracy: {:.2f}% \\nROC/AUC: {:.2f} \\nPrecision: {:.2f} \\nRecall: {:.2f} \\nF1 score: {:.2f}'.format(acc * 100, bal_acc * 100, auc, precision, recall, f1))"
   ]
  },
  {
   "cell_type": "markdown",
   "metadata": {},
   "source": [
    "## 4. Multimodal Late Fusion"
   ]
  },
  {
   "cell_type": "markdown",
   "metadata": {},
   "source": [
    "### Dataset"
   ]
  },
  {
   "cell_type": "code",
   "execution_count": 20,
   "metadata": {},
   "outputs": [
    {
     "name": "stdout",
     "output_type": "stream",
     "text": [
      "(366, 350, 35) (366, 3)\n",
      "(231, 350, 35) (231, 3)\n"
     ]
    }
   ],
   "source": [
    "body_X_train, body_X_test, body_y_train, body_y_test = load_dataset('skeleton', fusion=True, level=True, nopain=False)\n",
    "body_X_train = body_X_train.reshape(body_X_train.shape[0], body_X_train.shape[2], body_X_train.shape[3])\n",
    "body_X_test = body_X_test.reshape(body_X_test.shape[0], body_X_test.shape[2], body_X_test.shape[3])\n",
    "body_X = body_X_train.copy()\n",
    "body_y = body_y_train.copy()\n",
    "\n",
    "print(body_X_train.shape, body_y_train.shape)\n",
    "print(body_X_test.shape, body_y_test.shape)"
   ]
  },
  {
   "cell_type": "code",
   "execution_count": 21,
   "metadata": {},
   "outputs": [
    {
     "name": "stdout",
     "output_type": "stream",
     "text": [
      "(366, 350, 25) (366, 3)\n",
      "(231, 350, 25) (231, 3)\n"
     ]
    }
   ],
   "source": [
    "face_X_train, face_X_test, face_y_train, face_y_test = load_dataset('AUs', level=True, nopain=False)\n",
    "face_X_train = face_X_train.reshape(face_X_train.shape[0], face_X_train.shape[2], face_X_train.shape[3])\n",
    "face_X_test = face_X_test.reshape(face_X_test.shape[0], face_X_test.shape[2], face_X_test.shape[3])\n",
    "face_X = face_X_train.copy()\n",
    "face_y = face_y_train.copy()\n",
    "\n",
    "print(face_X_train.shape, face_y_train.shape)\n",
    "print(face_X_test.shape, face_y_test.shape)"
   ]
  },
  {
   "cell_type": "code",
   "execution_count": 22,
   "metadata": {},
   "outputs": [],
   "source": [
    "n_length, body_features, face_features, n_outputs = face_X_train.shape[1], body_X_train.shape[-1], face_X_train.shape[-1], body_y_train.shape[1]"
   ]
  },
  {
   "cell_type": "markdown",
   "metadata": {},
   "source": [
    "### Baseline Model"
   ]
  },
  {
   "cell_type": "code",
   "execution_count": 26,
   "metadata": {},
   "outputs": [],
   "source": [
    "class fusioned_Baseline():\n",
    "    def __init__(self, body_features, face_features, n_length, n_outputs):\n",
    "        input_1 = Input(shape=(n_length, body_features))\n",
    "        lstm_1 = LSTM(50)(input_1)\n",
    "        dense_1 = Dense(50)(lstm_1)\n",
    "\n",
    "        input_2 = Input(shape=(n_length, face_features))\n",
    "        lstm_2 = LSTM(50)(input_2)\n",
    "        dense_2 = Dense(50)(lstm_2)\n",
    "\n",
    "        concat = Concatenate()([dense_1, dense_2])\n",
    "        output = Dense(units=n_outputs, activation='softmax')(concat)\n",
    "        model = Model(inputs=[input_1, input_2], outputs=[output])\n",
    "        model.compile(loss='categorical_crossentropy', optimizer=tf.keras.optimizers.Adam(learning_rate=0.0001), metrics=['accuracy', tf.keras.metrics.AUC(), tf.keras.metrics.Precision(), tf.keras.metrics.Recall(), tfa.metrics.F1Score(num_classes=n_outputs, average='macro')])\n",
    "        self.model = model\n",
    "\n",
    "    def train(self, body_X_train, face_X_train, y_train, body_X_val, face_X_val, y_val, epochs, batch_size, class_weight):\n",
    "        history = self.model.fit([body_X_train, face_X_train], y_train, validation_data=([body_X_val, face_X_val], y_val), \n",
    "                            epochs=epochs, batch_size=batch_size, class_weight=class_weight, verbose=2)\n",
    "        return history\n",
    "\n",
    "    def evaluate(self, body_X_test, face_X_test, y_test):\n",
    "        results = self.model.evaluate([body_X_test, face_X_test], y_test, verbose=0)\n",
    "        return results\n",
    "\n",
    "    def predict(self, body_X_test, face_X_test):\n",
    "        predictions = self.model.predict([body_X_test, face_X_test])\n",
    "        return predictions\n",
    "\n",
    "    def summary(self):\n",
    "        self.model.summary()"
   ]
  },
  {
   "cell_type": "code",
   "execution_count": 27,
   "metadata": {},
   "outputs": [
    {
     "name": "stdout",
     "output_type": "stream",
     "text": [
      "Model: \"model_14\"\n",
      "__________________________________________________________________________________________________\n",
      " Layer (type)                   Output Shape         Param #     Connected to                     \n",
      "==================================================================================================\n",
      " input_17 (InputLayer)          [(None, 350, 35)]    0           []                               \n",
      "                                                                                                  \n",
      " input_18 (InputLayer)          [(None, 350, 25)]    0           []                               \n",
      "                                                                                                  \n",
      " lstm_16 (LSTM)                 (None, 50)           17200       ['input_17[0][0]']               \n",
      "                                                                                                  \n",
      " lstm_17 (LSTM)                 (None, 50)           15200       ['input_18[0][0]']               \n",
      "                                                                                                  \n",
      " dense_30 (Dense)               (None, 50)           2550        ['lstm_16[0][0]']                \n",
      "                                                                                                  \n",
      " dense_31 (Dense)               (None, 50)           2550        ['lstm_17[0][0]']                \n",
      "                                                                                                  \n",
      " concatenate_2 (Concatenate)    (None, 100)          0           ['dense_30[0][0]',               \n",
      "                                                                  'dense_31[0][0]']               \n",
      "                                                                                                  \n",
      " dense_32 (Dense)               (None, 3)            303         ['concatenate_2[0][0]']          \n",
      "                                                                                                  \n",
      "==================================================================================================\n",
      "Total params: 37,803\n",
      "Trainable params: 37,803\n",
      "Non-trainable params: 0\n",
      "__________________________________________________________________________________________________\n"
     ]
    }
   ],
   "source": [
    "model = fusioned_Baseline(body_features, face_features, n_length, n_outputs)\n",
    "model.summary()"
   ]
  },
  {
   "cell_type": "markdown",
   "metadata": {},
   "source": [
    "### Baseline Model"
   ]
  },
  {
   "cell_type": "code",
   "execution_count": 28,
   "metadata": {},
   "outputs": [
    {
     "name": "stdout",
     "output_type": "stream",
     "text": [
      "Epoch 1/50\n",
      "8/8 - 6s - loss: 1.9165 - accuracy: 0.5164 - auc_15: 0.7752 - precision_15: 0.5604 - recall_15: 0.4754 - f1_score: 0.2321 - val_loss: 0.7514 - val_accuracy: 0.5984 - val_auc_15: 0.8076 - val_precision_15: 0.5943 - val_recall_15: 0.5164 - val_f1_score: 0.2928 - 6s/epoch - 742ms/step\n",
      "Epoch 2/50\n",
      "8/8 - 1s - loss: 1.8500 - accuracy: 0.5369 - auc_15: 0.7786 - precision_15: 0.5641 - recall_15: 0.4508 - f1_score: 0.2785 - val_loss: 0.7591 - val_accuracy: 0.5984 - val_auc_15: 0.8026 - val_precision_15: 0.6040 - val_recall_15: 0.5000 - val_f1_score: 0.3097 - 858ms/epoch - 107ms/step\n",
      "Epoch 3/50\n",
      "8/8 - 1s - loss: 1.7855 - accuracy: 0.5369 - auc_15: 0.7812 - precision_15: 0.5450 - recall_15: 0.4221 - f1_score: 0.2924 - val_loss: 0.7670 - val_accuracy: 0.5656 - val_auc_15: 0.7945 - val_precision_15: 0.5652 - val_recall_15: 0.4262 - val_f1_score: 0.3097 - 877ms/epoch - 110ms/step\n",
      "Epoch 4/50\n",
      "8/8 - 1s - loss: 1.7268 - accuracy: 0.5615 - auc_15: 0.7857 - precision_15: 0.5574 - recall_15: 0.4180 - f1_score: 0.3291 - val_loss: 0.7760 - val_accuracy: 0.5574 - val_auc_15: 0.7873 - val_precision_15: 0.5632 - val_recall_15: 0.4016 - val_f1_score: 0.3120 - 876ms/epoch - 110ms/step\n",
      "Epoch 5/50\n",
      "8/8 - 1s - loss: 1.6650 - accuracy: 0.5615 - auc_15: 0.7895 - precision_15: 0.6012 - recall_15: 0.4139 - f1_score: 0.3360 - val_loss: 0.7830 - val_accuracy: 0.5328 - val_auc_15: 0.7808 - val_precision_15: 0.5647 - val_recall_15: 0.3934 - val_f1_score: 0.3061 - 843ms/epoch - 105ms/step\n",
      "Epoch 6/50\n",
      "8/8 - 1s - loss: 1.6023 - accuracy: 0.5861 - auc_15: 0.7892 - precision_15: 0.5839 - recall_15: 0.3852 - f1_score: 0.3660 - val_loss: 0.7917 - val_accuracy: 0.5410 - val_auc_15: 0.7777 - val_precision_15: 0.5696 - val_recall_15: 0.3689 - val_f1_score: 0.3315 - 863ms/epoch - 108ms/step\n",
      "Epoch 7/50\n",
      "8/8 - 1s - loss: 1.5705 - accuracy: 0.5615 - auc_15: 0.7871 - precision_15: 0.5986 - recall_15: 0.3607 - f1_score: 0.3557 - val_loss: 0.8026 - val_accuracy: 0.5410 - val_auc_15: 0.7729 - val_precision_15: 0.5588 - val_recall_15: 0.3115 - val_f1_score: 0.3380 - 827ms/epoch - 103ms/step\n",
      "Epoch 8/50\n",
      "8/8 - 1s - loss: 1.5063 - accuracy: 0.5574 - auc_15: 0.7886 - precision_15: 0.6047 - recall_15: 0.3197 - f1_score: 0.3562 - val_loss: 0.8116 - val_accuracy: 0.5410 - val_auc_15: 0.7684 - val_precision_15: 0.5789 - val_recall_15: 0.2705 - val_f1_score: 0.3380 - 859ms/epoch - 107ms/step\n",
      "Epoch 9/50\n",
      "8/8 - 1s - loss: 1.4716 - accuracy: 0.5615 - auc_15: 0.7917 - precision_15: 0.6161 - recall_15: 0.2828 - f1_score: 0.3610 - val_loss: 0.8165 - val_accuracy: 0.5246 - val_auc_15: 0.7682 - val_precision_15: 0.5636 - val_recall_15: 0.2541 - val_f1_score: 0.3263 - 1000ms/epoch - 125ms/step\n",
      "Epoch 10/50\n",
      "8/8 - 1s - loss: 1.4514 - accuracy: 0.5656 - auc_15: 0.7906 - precision_15: 0.6339 - recall_15: 0.2910 - f1_score: 0.3621 - val_loss: 0.8258 - val_accuracy: 0.5164 - val_auc_15: 0.7683 - val_precision_15: 0.5577 - val_recall_15: 0.2377 - val_f1_score: 0.3188 - 881ms/epoch - 110ms/step\n",
      "Epoch 11/50\n",
      "8/8 - 1s - loss: 1.4142 - accuracy: 0.5697 - auc_15: 0.7913 - precision_15: 0.6354 - recall_15: 0.2500 - f1_score: 0.3664 - val_loss: 0.8325 - val_accuracy: 0.5082 - val_auc_15: 0.7646 - val_precision_15: 0.5208 - val_recall_15: 0.2049 - val_f1_score: 0.3159 - 854ms/epoch - 107ms/step\n",
      "Epoch 12/50\n",
      "8/8 - 1s - loss: 1.3862 - accuracy: 0.5779 - auc_15: 0.7917 - precision_15: 0.6234 - recall_15: 0.1967 - f1_score: 0.3746 - val_loss: 0.8409 - val_accuracy: 0.5164 - val_auc_15: 0.7598 - val_precision_15: 0.5000 - val_recall_15: 0.1721 - val_f1_score: 0.3234 - 829ms/epoch - 104ms/step\n",
      "Epoch 13/50\n",
      "8/8 - 1s - loss: 1.3573 - accuracy: 0.5820 - auc_15: 0.7926 - precision_15: 0.6061 - recall_15: 0.1639 - f1_score: 0.5118 - val_loss: 0.8501 - val_accuracy: 0.5164 - val_auc_15: 0.7559 - val_precision_15: 0.4333 - val_recall_15: 0.1066 - val_f1_score: 0.3277 - 831ms/epoch - 104ms/step\n",
      "Epoch 14/50\n",
      "8/8 - 1s - loss: 1.3258 - accuracy: 0.5697 - auc_15: 0.7906 - precision_15: 0.5962 - recall_15: 0.1270 - f1_score: 0.5079 - val_loss: 0.8588 - val_accuracy: 0.5082 - val_auc_15: 0.7552 - val_precision_15: 0.4231 - val_recall_15: 0.0902 - val_f1_score: 0.3256 - 830ms/epoch - 104ms/step\n",
      "Epoch 15/50\n",
      "8/8 - 1s - loss: 1.3002 - accuracy: 0.5738 - auc_15: 0.7911 - precision_15: 0.6458 - recall_15: 0.1270 - f1_score: 0.5130 - val_loss: 0.8698 - val_accuracy: 0.5082 - val_auc_15: 0.7534 - val_precision_15: 0.4000 - val_recall_15: 0.0820 - val_f1_score: 0.3278 - 848ms/epoch - 106ms/step\n",
      "Epoch 16/50\n",
      "8/8 - 1s - loss: 1.2729 - accuracy: 0.5697 - auc_15: 0.7932 - precision_15: 0.6136 - recall_15: 0.1107 - f1_score: 0.5105 - val_loss: 0.8749 - val_accuracy: 0.5164 - val_auc_15: 0.7533 - val_precision_15: 0.4348 - val_recall_15: 0.0820 - val_f1_score: 0.3338 - 835ms/epoch - 104ms/step\n",
      "Epoch 17/50\n",
      "8/8 - 1s - loss: 1.2553 - accuracy: 0.5902 - auc_15: 0.7900 - precision_15: 0.6429 - recall_15: 0.1107 - f1_score: 0.5236 - val_loss: 0.8829 - val_accuracy: 0.5410 - val_auc_15: 0.7570 - val_precision_15: 0.4500 - val_recall_15: 0.0738 - val_f1_score: 0.3518 - 870ms/epoch - 109ms/step\n",
      "Epoch 18/50\n",
      "8/8 - 1s - loss: 1.2315 - accuracy: 0.5820 - auc_15: 0.7938 - precision_15: 0.6389 - recall_15: 0.0943 - f1_score: 0.5180 - val_loss: 0.8937 - val_accuracy: 0.5410 - val_auc_15: 0.7558 - val_precision_15: 0.3125 - val_recall_15: 0.0410 - val_f1_score: 0.3504 - 846ms/epoch - 106ms/step\n",
      "Epoch 19/50\n",
      "8/8 - 1s - loss: 1.2108 - accuracy: 0.5820 - auc_15: 0.7939 - precision_15: 0.6667 - recall_15: 0.0820 - f1_score: 0.4972 - val_loss: 0.8993 - val_accuracy: 0.5574 - val_auc_15: 0.7603 - val_precision_15: 0.3125 - val_recall_15: 0.0410 - val_f1_score: 0.3597 - 861ms/epoch - 108ms/step\n",
      "Epoch 20/50\n",
      "8/8 - 1s - loss: 1.2194 - accuracy: 0.5861 - auc_15: 0.7940 - precision_15: 0.6429 - recall_15: 0.0738 - f1_score: 0.5205 - val_loss: 0.9046 - val_accuracy: 0.5656 - val_auc_15: 0.7598 - val_precision_15: 0.3125 - val_recall_15: 0.0410 - val_f1_score: 0.3664 - 833ms/epoch - 104ms/step\n",
      "Epoch 21/50\n",
      "8/8 - 1s - loss: 1.2064 - accuracy: 0.5779 - auc_15: 0.7881 - precision_15: 0.6923 - recall_15: 0.0738 - f1_score: 0.5166 - val_loss: 0.9232 - val_accuracy: 0.5164 - val_auc_15: 0.7402 - val_precision_15: 0.3077 - val_recall_15: 0.0328 - val_f1_score: 0.3393 - 828ms/epoch - 104ms/step\n",
      "Epoch 22/50\n",
      "8/8 - 1s - loss: 1.1723 - accuracy: 0.5656 - auc_15: 0.7848 - precision_15: 0.6552 - recall_15: 0.0779 - f1_score: 0.4890 - val_loss: 0.9245 - val_accuracy: 0.5164 - val_auc_15: 0.7422 - val_precision_15: 0.3571 - val_recall_15: 0.0410 - val_f1_score: 0.3420 - 870ms/epoch - 109ms/step\n",
      "Epoch 23/50\n",
      "8/8 - 1s - loss: 1.1798 - accuracy: 0.5574 - auc_15: 0.7812 - precision_15: 0.5882 - recall_15: 0.0820 - f1_score: 0.4846 - val_loss: 0.9315 - val_accuracy: 0.5328 - val_auc_15: 0.7423 - val_precision_15: 0.2500 - val_recall_15: 0.0246 - val_f1_score: 0.3549 - 900ms/epoch - 113ms/step\n",
      "Epoch 24/50\n",
      "8/8 - 1s - loss: 1.1596 - accuracy: 0.5697 - auc_15: 0.7812 - precision_15: 0.6333 - recall_15: 0.0779 - f1_score: 0.4929 - val_loss: 0.9399 - val_accuracy: 0.5328 - val_auc_15: 0.7425 - val_precision_15: 0.2500 - val_recall_15: 0.0246 - val_f1_score: 0.3545 - 879ms/epoch - 110ms/step\n",
      "Epoch 25/50\n",
      "8/8 - 1s - loss: 1.1324 - accuracy: 0.5574 - auc_15: 0.7776 - precision_15: 0.6429 - recall_15: 0.0738 - f1_score: 0.4845 - val_loss: 0.9590 - val_accuracy: 0.5082 - val_auc_15: 0.7370 - val_precision_15: 0.2727 - val_recall_15: 0.0246 - val_f1_score: 0.3384 - 873ms/epoch - 109ms/step\n",
      "Epoch 26/50\n",
      "8/8 - 1s - loss: 1.1247 - accuracy: 0.5697 - auc_15: 0.7763 - precision_15: 0.7083 - recall_15: 0.0697 - f1_score: 0.4667 - val_loss: 0.9781 - val_accuracy: 0.5000 - val_auc_15: 0.7279 - val_precision_15: 0.2222 - val_recall_15: 0.0164 - val_f1_score: 0.3323 - 897ms/epoch - 112ms/step\n",
      "Epoch 27/50\n",
      "8/8 - 1s - loss: 1.1079 - accuracy: 0.5656 - auc_15: 0.7721 - precision_15: 0.7083 - recall_15: 0.0697 - f1_score: 0.4487 - val_loss: 0.9873 - val_accuracy: 0.5082 - val_auc_15: 0.7214 - val_precision_15: 0.2222 - val_recall_15: 0.0164 - val_f1_score: 0.3398 - 911ms/epoch - 114ms/step\n",
      "Epoch 28/50\n",
      "8/8 - 1s - loss: 1.1013 - accuracy: 0.5451 - auc_15: 0.7667 - precision_15: 0.6667 - recall_15: 0.0656 - f1_score: 0.4218 - val_loss: 0.9968 - val_accuracy: 0.4918 - val_auc_15: 0.7127 - val_precision_15: 0.2222 - val_recall_15: 0.0164 - val_f1_score: 0.3352 - 841ms/epoch - 105ms/step\n",
      "Epoch 29/50\n",
      "8/8 - 1s - loss: 1.0904 - accuracy: 0.5615 - auc_15: 0.7614 - precision_15: 0.6818 - recall_15: 0.0615 - f1_score: 0.4646 - val_loss: 1.0002 - val_accuracy: 0.4754 - val_auc_15: 0.7113 - val_precision_15: 0.2222 - val_recall_15: 0.0164 - val_f1_score: 0.3248 - 879ms/epoch - 110ms/step\n",
      "Epoch 30/50\n",
      "8/8 - 1s - loss: 1.0821 - accuracy: 0.5697 - auc_15: 0.7594 - precision_15: 0.6500 - recall_15: 0.0533 - f1_score: 0.5025 - val_loss: 1.0066 - val_accuracy: 0.4754 - val_auc_15: 0.7039 - val_precision_15: 0.2222 - val_recall_15: 0.0164 - val_f1_score: 0.3262 - 852ms/epoch - 106ms/step\n",
      "Epoch 31/50\n",
      "8/8 - 1s - loss: 1.0780 - accuracy: 0.5574 - auc_15: 0.7497 - precision_15: 0.6500 - recall_15: 0.0533 - f1_score: 0.4831 - val_loss: 1.0170 - val_accuracy: 0.4426 - val_auc_15: 0.6939 - val_precision_15: 0.2222 - val_recall_15: 0.0164 - val_f1_score: 0.3088 - 869ms/epoch - 109ms/step\n",
      "Epoch 32/50\n",
      "8/8 - 1s - loss: 1.0662 - accuracy: 0.5287 - auc_15: 0.7393 - precision_15: 0.6667 - recall_15: 0.0492 - f1_score: 0.4417 - val_loss: 1.0260 - val_accuracy: 0.4344 - val_auc_15: 0.6797 - val_precision_15: 0.2222 - val_recall_15: 0.0164 - val_f1_score: 0.3045 - 897ms/epoch - 112ms/step\n",
      "Epoch 33/50\n",
      "8/8 - 1s - loss: 1.0605 - accuracy: 0.5000 - auc_15: 0.7283 - precision_15: 0.6842 - recall_15: 0.0533 - f1_score: 0.4156 - val_loss: 1.0359 - val_accuracy: 0.4098 - val_auc_15: 0.6621 - val_precision_15: 0.2222 - val_recall_15: 0.0164 - val_f1_score: 0.2886 - 858ms/epoch - 107ms/step\n",
      "Epoch 34/50\n",
      "8/8 - 1s - loss: 1.0551 - accuracy: 0.5041 - auc_15: 0.7148 - precision_15: 0.6842 - recall_15: 0.0533 - f1_score: 0.4136 - val_loss: 1.0389 - val_accuracy: 0.4098 - val_auc_15: 0.6576 - val_precision_15: 0.2222 - val_recall_15: 0.0164 - val_f1_score: 0.2886 - 854ms/epoch - 107ms/step\n",
      "Epoch 35/50\n",
      "8/8 - 1s - loss: 1.0508 - accuracy: 0.5205 - auc_15: 0.7181 - precision_15: 0.6842 - recall_15: 0.0533 - f1_score: 0.4235 - val_loss: 1.0425 - val_accuracy: 0.4262 - val_auc_15: 0.6521 - val_precision_15: 0.2222 - val_recall_15: 0.0164 - val_f1_score: 0.3001 - 891ms/epoch - 111ms/step\n",
      "Epoch 36/50\n",
      "8/8 - 1s - loss: 1.0411 - accuracy: 0.5082 - auc_15: 0.7067 - precision_15: 0.6667 - recall_15: 0.0492 - f1_score: 0.4125 - val_loss: 1.0476 - val_accuracy: 0.4344 - val_auc_15: 0.6409 - val_precision_15: 0.2222 - val_recall_15: 0.0164 - val_f1_score: 0.3086 - 865ms/epoch - 108ms/step\n",
      "Epoch 37/50\n",
      "8/8 - 1s - loss: 1.0378 - accuracy: 0.5082 - auc_15: 0.6939 - precision_15: 0.6842 - recall_15: 0.0533 - f1_score: 0.4101 - val_loss: 1.0569 - val_accuracy: 0.4180 - val_auc_15: 0.6241 - val_precision_15: 0.2222 - val_recall_15: 0.0164 - val_f1_score: 0.3036 - 886ms/epoch - 111ms/step\n",
      "Epoch 38/50\n",
      "8/8 - 1s - loss: 1.0348 - accuracy: 0.4836 - auc_15: 0.6785 - precision_15: 0.6500 - recall_15: 0.0533 - f1_score: 0.3864 - val_loss: 1.0624 - val_accuracy: 0.4344 - val_auc_15: 0.6108 - val_precision_15: 0.2500 - val_recall_15: 0.0164 - val_f1_score: 0.3139 - 850ms/epoch - 106ms/step\n",
      "Epoch 39/50\n",
      "8/8 - 1s - loss: 1.0263 - accuracy: 0.4877 - auc_15: 0.6771 - precision_15: 0.6842 - recall_15: 0.0533 - f1_score: 0.3906 - val_loss: 1.0604 - val_accuracy: 0.4344 - val_auc_15: 0.6148 - val_precision_15: 0.2500 - val_recall_15: 0.0164 - val_f1_score: 0.3153 - 862ms/epoch - 108ms/step\n",
      "Epoch 40/50\n",
      "8/8 - 1s - loss: 1.0236 - accuracy: 0.4959 - auc_15: 0.6794 - precision_15: 0.6667 - recall_15: 0.0492 - f1_score: 0.3993 - val_loss: 1.0606 - val_accuracy: 0.4098 - val_auc_15: 0.6149 - val_precision_15: 0.1667 - val_recall_15: 0.0082 - val_f1_score: 0.3016 - 835ms/epoch - 104ms/step\n",
      "Epoch 41/50\n",
      "8/8 - 1s - loss: 1.0197 - accuracy: 0.4631 - auc_15: 0.6725 - precision_15: 0.6842 - recall_15: 0.0533 - f1_score: 0.3715 - val_loss: 1.0654 - val_accuracy: 0.4262 - val_auc_15: 0.6025 - val_precision_15: 0.2500 - val_recall_15: 0.0164 - val_f1_score: 0.3113 - 874ms/epoch - 109ms/step\n",
      "Epoch 42/50\n",
      "8/8 - 1s - loss: 1.0151 - accuracy: 0.4549 - auc_15: 0.6670 - precision_15: 0.6500 - recall_15: 0.0533 - f1_score: 0.3617 - val_loss: 1.0677 - val_accuracy: 0.4344 - val_auc_15: 0.6000 - val_precision_15: 0.2500 - val_recall_15: 0.0164 - val_f1_score: 0.3191 - 880ms/epoch - 110ms/step\n",
      "Epoch 43/50\n",
      "8/8 - 1s - loss: 1.0115 - accuracy: 0.4590 - auc_15: 0.6724 - precision_15: 0.6818 - recall_15: 0.0615 - f1_score: 0.3657 - val_loss: 1.0636 - val_accuracy: 0.4262 - val_auc_15: 0.6071 - val_precision_15: 0.2222 - val_recall_15: 0.0164 - val_f1_score: 0.3133 - 848ms/epoch - 106ms/step\n",
      "Epoch 44/50\n",
      "8/8 - 1s - loss: 1.0144 - accuracy: 0.4631 - auc_15: 0.6666 - precision_15: 0.6190 - recall_15: 0.0533 - f1_score: 0.3698 - val_loss: 1.0677 - val_accuracy: 0.4262 - val_auc_15: 0.6000 - val_precision_15: 0.1429 - val_recall_15: 0.0082 - val_f1_score: 0.3105 - 871ms/epoch - 109ms/step\n",
      "Epoch 45/50\n",
      "8/8 - 1s - loss: 1.0035 - accuracy: 0.4590 - auc_15: 0.6651 - precision_15: 0.6818 - recall_15: 0.0615 - f1_score: 0.3664 - val_loss: 1.0710 - val_accuracy: 0.4098 - val_auc_15: 0.5912 - val_precision_15: 0.2000 - val_recall_15: 0.0164 - val_f1_score: 0.3029 - 878ms/epoch - 110ms/step\n",
      "Epoch 46/50\n",
      "8/8 - 1s - loss: 1.0024 - accuracy: 0.4549 - auc_15: 0.6591 - precision_15: 0.6818 - recall_15: 0.0615 - f1_score: 0.3639 - val_loss: 1.0735 - val_accuracy: 0.3934 - val_auc_15: 0.5877 - val_precision_15: 0.2222 - val_recall_15: 0.0164 - val_f1_score: 0.2936 - 864ms/epoch - 108ms/step\n",
      "Epoch 47/50\n",
      "8/8 - 1s - loss: 1.0065 - accuracy: 0.4590 - auc_15: 0.6613 - precision_15: 0.6522 - recall_15: 0.0615 - f1_score: 0.3660 - val_loss: 1.0728 - val_accuracy: 0.4098 - val_auc_15: 0.5874 - val_precision_15: 0.3636 - val_recall_15: 0.0328 - val_f1_score: 0.3040 - 866ms/epoch - 108ms/step\n",
      "Epoch 48/50\n",
      "8/8 - 1s - loss: 1.0018 - accuracy: 0.4508 - auc_15: 0.6570 - precision_15: 0.6522 - recall_15: 0.0615 - f1_score: 0.3583 - val_loss: 1.0734 - val_accuracy: 0.4344 - val_auc_15: 0.5875 - val_precision_15: 0.3333 - val_recall_15: 0.0246 - val_f1_score: 0.3206 - 872ms/epoch - 109ms/step\n",
      "Epoch 49/50\n",
      "8/8 - 1s - loss: 0.9977 - accuracy: 0.4672 - auc_15: 0.6595 - precision_15: 0.6818 - recall_15: 0.0615 - f1_score: 0.3708 - val_loss: 1.0716 - val_accuracy: 0.4344 - val_auc_15: 0.5900 - val_precision_15: 0.3333 - val_recall_15: 0.0328 - val_f1_score: 0.3207 - 852ms/epoch - 107ms/step\n",
      "Epoch 50/50\n",
      "8/8 - 1s - loss: 0.9947 - accuracy: 0.4672 - auc_15: 0.6656 - precision_15: 0.6400 - recall_15: 0.0656 - f1_score: 0.3737 - val_loss: 1.0672 - val_accuracy: 0.4262 - val_auc_15: 0.5997 - val_precision_15: 0.2000 - val_recall_15: 0.0164 - val_f1_score: 0.3120 - 893ms/epoch - 112ms/step\n"
     ]
    },
    {
     "data": {
      "image/png": "[encoded data removed]",
      "text/plain": [
       "<Figure size 432x288 with 1 Axes>"
      ]
     },
     "metadata": {
      "needs_background": "light"
     },
     "output_type": "display_data"
    },
    {
     "name": "stdout",
     "output_type": "stream",
     "text": [
      "Epoch 1/50\n",
      "8/8 - 4s - loss: 0.9474 - accuracy: 0.3893 - auc_16: 0.4258 - precision_16: 0.5000 - recall_16: 0.0041 - f1_score: 0.2297 - val_loss: 1.1684 - val_accuracy: 0.4098 - val_auc_16: 0.4537 - val_precision_16: 0.0000e+00 - val_recall_16: 0.0000e+00 - val_f1_score: 0.2424 - 4s/epoch - 509ms/step\n",
      "Epoch 2/50\n",
      "8/8 - 1s - loss: 0.9215 - accuracy: 0.4139 - auc_16: 0.5055 - precision_16: 1.0000 - recall_16: 0.0041 - f1_score: 0.2529 - val_loss: 1.1177 - val_accuracy: 0.4344 - val_auc_16: 0.5379 - val_precision_16: 0.0000e+00 - val_recall_16: 0.0000e+00 - val_f1_score: 0.2623 - 839ms/epoch - 105ms/step\n",
      "Epoch 3/50\n",
      "8/8 - 1s - loss: 0.8952 - accuracy: 0.4303 - auc_16: 0.5818 - precision_16: 1.0000 - recall_16: 0.0123 - f1_score: 0.2617 - val_loss: 1.1016 - val_accuracy: 0.4344 - val_auc_16: 0.5675 - val_precision_16: 0.0000e+00 - val_recall_16: 0.0000e+00 - val_f1_score: 0.2703 - 853ms/epoch - 107ms/step\n",
      "Epoch 4/50\n",
      "8/8 - 1s - loss: 0.8797 - accuracy: 0.4713 - auc_16: 0.6286 - precision_16: 1.0000 - recall_16: 0.0123 - f1_score: 0.3019 - val_loss: 1.0750 - val_accuracy: 0.4180 - val_auc_16: 0.6153 - val_precision_16: 0.5000 - val_recall_16: 0.0082 - val_f1_score: 0.2620 - 847ms/epoch - 106ms/step\n",
      "Epoch 5/50\n",
      "8/8 - 1s - loss: 0.8676 - accuracy: 0.4713 - auc_16: 0.6652 - precision_16: 0.8333 - recall_16: 0.0205 - f1_score: 0.3078 - val_loss: 1.0536 - val_accuracy: 0.4344 - val_auc_16: 0.6511 - val_precision_16: 0.5000 - val_recall_16: 0.0082 - val_f1_score: 0.2881 - 849ms/epoch - 106ms/step\n",
      "Epoch 6/50\n",
      "8/8 - 1s - loss: 0.8601 - accuracy: 0.5041 - auc_16: 0.6963 - precision_16: 0.7778 - recall_16: 0.0287 - f1_score: 0.3368 - val_loss: 1.0385 - val_accuracy: 0.4262 - val_auc_16: 0.6731 - val_precision_16: 0.5000 - val_recall_16: 0.0082 - val_f1_score: 0.2863 - 839ms/epoch - 105ms/step\n",
      "Epoch 7/50\n",
      "8/8 - 1s - loss: 0.8518 - accuracy: 0.5492 - auc_16: 0.7279 - precision_16: 0.8462 - recall_16: 0.0451 - f1_score: 0.3676 - val_loss: 1.0224 - val_accuracy: 0.4590 - val_auc_16: 0.6910 - val_precision_16: 0.7500 - val_recall_16: 0.0246 - val_f1_score: 0.3115 - 849ms/epoch - 106ms/step\n",
      "Epoch 8/50\n",
      "8/8 - 1s - loss: 0.8407 - accuracy: 0.5574 - auc_16: 0.7506 - precision_16: 0.8750 - recall_16: 0.0574 - f1_score: 0.3729 - val_loss: 1.0060 - val_accuracy: 0.5082 - val_auc_16: 0.7115 - val_precision_16: 0.6000 - val_recall_16: 0.0246 - val_f1_score: 0.3441 - 853ms/epoch - 107ms/step\n",
      "Epoch 9/50\n",
      "8/8 - 1s - loss: 0.8185 - accuracy: 0.5861 - auc_16: 0.7629 - precision_16: 0.7500 - recall_16: 0.0615 - f1_score: 0.3907 - val_loss: 0.9986 - val_accuracy: 0.5328 - val_auc_16: 0.7154 - val_precision_16: 0.6000 - val_recall_16: 0.0246 - val_f1_score: 0.3611 - 866ms/epoch - 108ms/step\n",
      "Epoch 10/50\n",
      "8/8 - 1s - loss: 0.8154 - accuracy: 0.5820 - auc_16: 0.7687 - precision_16: 0.7727 - recall_16: 0.0697 - f1_score: 0.3864 - val_loss: 0.9929 - val_accuracy: 0.5164 - val_auc_16: 0.7103 - val_precision_16: 0.5000 - val_recall_16: 0.0246 - val_f1_score: 0.3500 - 853ms/epoch - 107ms/step\n",
      "Epoch 11/50\n",
      "8/8 - 1s - loss: 0.8099 - accuracy: 0.5738 - auc_16: 0.7668 - precision_16: 0.7600 - recall_16: 0.0779 - f1_score: 0.3839 - val_loss: 0.9815 - val_accuracy: 0.5000 - val_auc_16: 0.7241 - val_precision_16: 0.5556 - val_recall_16: 0.0410 - val_f1_score: 0.3364 - 857ms/epoch - 107ms/step\n",
      "Epoch 12/50\n",
      "8/8 - 1s - loss: 0.8041 - accuracy: 0.5656 - auc_16: 0.7672 - precision_16: 0.7188 - recall_16: 0.0943 - f1_score: 0.3775 - val_loss: 0.9731 - val_accuracy: 0.4918 - val_auc_16: 0.7259 - val_precision_16: 0.6000 - val_recall_16: 0.0492 - val_f1_score: 0.3305 - 849ms/epoch - 106ms/step\n",
      "Epoch 13/50\n",
      "8/8 - 1s - loss: 0.8049 - accuracy: 0.5533 - auc_16: 0.7723 - precision_16: 0.6970 - recall_16: 0.0943 - f1_score: 0.3696 - val_loss: 0.9672 - val_accuracy: 0.4918 - val_auc_16: 0.7226 - val_precision_16: 0.6154 - val_recall_16: 0.0656 - val_f1_score: 0.3311 - 861ms/epoch - 108ms/step\n",
      "Epoch 14/50\n",
      "8/8 - 1s - loss: 0.7973 - accuracy: 0.5533 - auc_16: 0.7761 - precision_16: 0.6765 - recall_16: 0.0943 - f1_score: 0.3678 - val_loss: 0.9570 - val_accuracy: 0.4918 - val_auc_16: 0.7339 - val_precision_16: 0.6154 - val_recall_16: 0.0656 - val_f1_score: 0.3316 - 869ms/epoch - 109ms/step\n",
      "Epoch 15/50\n",
      "8/8 - 1s - loss: 0.7945 - accuracy: 0.5492 - auc_16: 0.7790 - precision_16: 0.6757 - recall_16: 0.1025 - f1_score: 0.3648 - val_loss: 0.9507 - val_accuracy: 0.4754 - val_auc_16: 0.7348 - val_precision_16: 0.6154 - val_recall_16: 0.0656 - val_f1_score: 0.3192 - 865ms/epoch - 108ms/step\n",
      "Epoch 16/50\n",
      "8/8 - 1s - loss: 0.7908 - accuracy: 0.5656 - auc_16: 0.7816 - precision_16: 0.6585 - recall_16: 0.1107 - f1_score: 0.3750 - val_loss: 0.9499 - val_accuracy: 0.4672 - val_auc_16: 0.7250 - val_precision_16: 0.5500 - val_recall_16: 0.0902 - val_f1_score: 0.3138 - 878ms/epoch - 110ms/step\n",
      "Epoch 17/50\n",
      "8/8 - 1s - loss: 0.7886 - accuracy: 0.5656 - auc_16: 0.7842 - precision_16: 0.6444 - recall_16: 0.1189 - f1_score: 0.3750 - val_loss: 0.9450 - val_accuracy: 0.4344 - val_auc_16: 0.7172 - val_precision_16: 0.3913 - val_recall_16: 0.0738 - val_f1_score: 0.2918 - 861ms/epoch - 108ms/step\n",
      "Epoch 18/50\n",
      "8/8 - 1s - loss: 0.7851 - accuracy: 0.5574 - auc_16: 0.7832 - precision_16: 0.6170 - recall_16: 0.1189 - f1_score: 0.3699 - val_loss: 0.9365 - val_accuracy: 0.4426 - val_auc_16: 0.7291 - val_precision_16: 0.4815 - val_recall_16: 0.1066 - val_f1_score: 0.2959 - 860ms/epoch - 108ms/step\n",
      "Epoch 19/50\n",
      "8/8 - 1s - loss: 0.7820 - accuracy: 0.5451 - auc_16: 0.7844 - precision_16: 0.6604 - recall_16: 0.1434 - f1_score: 0.3619 - val_loss: 0.9291 - val_accuracy: 0.4590 - val_auc_16: 0.7332 - val_precision_16: 0.5000 - val_recall_16: 0.1148 - val_f1_score: 0.3082 - 870ms/epoch - 109ms/step\n",
      "Epoch 20/50\n",
      "8/8 - 1s - loss: 0.7787 - accuracy: 0.5533 - auc_16: 0.7874 - precision_16: 0.6731 - recall_16: 0.1434 - f1_score: 0.3665 - val_loss: 0.9277 - val_accuracy: 0.4508 - val_auc_16: 0.7270 - val_precision_16: 0.4615 - val_recall_16: 0.0984 - val_f1_score: 0.3028 - 870ms/epoch - 109ms/step\n",
      "Epoch 21/50\n",
      "8/8 - 1s - loss: 0.7745 - accuracy: 0.5697 - auc_16: 0.7890 - precision_16: 0.6296 - recall_16: 0.1393 - f1_score: 0.3795 - val_loss: 0.9326 - val_accuracy: 0.4426 - val_auc_16: 0.7235 - val_precision_16: 0.4167 - val_recall_16: 0.0820 - val_f1_score: 0.2974 - 878ms/epoch - 110ms/step\n",
      "Epoch 22/50\n",
      "8/8 - 1s - loss: 0.7739 - accuracy: 0.5738 - auc_16: 0.7851 - precision_16: 0.6415 - recall_16: 0.1393 - f1_score: 0.3824 - val_loss: 0.9258 - val_accuracy: 0.4590 - val_auc_16: 0.7319 - val_precision_16: 0.4800 - val_recall_16: 0.0984 - val_f1_score: 0.3086 - 873ms/epoch - 109ms/step\n",
      "Epoch 23/50\n",
      "8/8 - 1s - loss: 0.7705 - accuracy: 0.5738 - auc_16: 0.7879 - precision_16: 0.6207 - recall_16: 0.1475 - f1_score: 0.3814 - val_loss: 0.9209 - val_accuracy: 0.4508 - val_auc_16: 0.7302 - val_precision_16: 0.5484 - val_recall_16: 0.1393 - val_f1_score: 0.3024 - 881ms/epoch - 110ms/step\n",
      "Epoch 24/50\n",
      "8/8 - 1s - loss: 0.7637 - accuracy: 0.5615 - auc_16: 0.7873 - precision_16: 0.6613 - recall_16: 0.1680 - f1_score: 0.3743 - val_loss: 0.9172 - val_accuracy: 0.4590 - val_auc_16: 0.7341 - val_precision_16: 0.5484 - val_recall_16: 0.1393 - val_f1_score: 0.3077 - 868ms/epoch - 109ms/step\n",
      "Epoch 25/50\n",
      "8/8 - 1s - loss: 0.7574 - accuracy: 0.5615 - auc_16: 0.7900 - precision_16: 0.6119 - recall_16: 0.1680 - f1_score: 0.3745 - val_loss: 0.9075 - val_accuracy: 0.4672 - val_auc_16: 0.7384 - val_precision_16: 0.5185 - val_recall_16: 0.1148 - val_f1_score: 0.3138 - 881ms/epoch - 110ms/step\n",
      "Epoch 26/50\n",
      "8/8 - 1s - loss: 0.7500 - accuracy: 0.5779 - auc_16: 0.7946 - precision_16: 0.6154 - recall_16: 0.1639 - f1_score: 0.3835 - val_loss: 0.8919 - val_accuracy: 0.4918 - val_auc_16: 0.7503 - val_precision_16: 0.5357 - val_recall_16: 0.1230 - val_f1_score: 0.3283 - 869ms/epoch - 109ms/step\n",
      "Epoch 27/50\n",
      "8/8 - 1s - loss: 0.7487 - accuracy: 0.5779 - auc_16: 0.7869 - precision_16: 0.5942 - recall_16: 0.1680 - f1_score: 0.3787 - val_loss: 0.8842 - val_accuracy: 0.4836 - val_auc_16: 0.7508 - val_precision_16: 0.5357 - val_recall_16: 0.1230 - val_f1_score: 0.3211 - 870ms/epoch - 109ms/step\n",
      "Epoch 28/50\n",
      "8/8 - 1s - loss: 0.7444 - accuracy: 0.5861 - auc_16: 0.7884 - precision_16: 0.5915 - recall_16: 0.1721 - f1_score: 0.3864 - val_loss: 0.8873 - val_accuracy: 0.5082 - val_auc_16: 0.7517 - val_precision_16: 0.5357 - val_recall_16: 0.1230 - val_f1_score: 0.3413 - 880ms/epoch - 110ms/step\n",
      "Epoch 29/50\n",
      "8/8 - 1s - loss: 0.7416 - accuracy: 0.5656 - auc_16: 0.7842 - precision_16: 0.5797 - recall_16: 0.1639 - f1_score: 0.3734 - val_loss: 0.8846 - val_accuracy: 0.5082 - val_auc_16: 0.7473 - val_precision_16: 0.5000 - val_recall_16: 0.1148 - val_f1_score: 0.3408 - 876ms/epoch - 110ms/step\n",
      "Epoch 30/50\n",
      "8/8 - 1s - loss: 0.7412 - accuracy: 0.5656 - auc_16: 0.7833 - precision_16: 0.5645 - recall_16: 0.1434 - f1_score: 0.3747 - val_loss: 0.8906 - val_accuracy: 0.5164 - val_auc_16: 0.7453 - val_precision_16: 0.5000 - val_recall_16: 0.1148 - val_f1_score: 0.3466 - 869ms/epoch - 109ms/step\n",
      "Epoch 31/50\n",
      "8/8 - 1s - loss: 0.7382 - accuracy: 0.5574 - auc_16: 0.7810 - precision_16: 0.5714 - recall_16: 0.1475 - f1_score: 0.5907 - val_loss: 0.8834 - val_accuracy: 0.5246 - val_auc_16: 0.7457 - val_precision_16: 0.5000 - val_recall_16: 0.1148 - val_f1_score: 0.3518 - 873ms/epoch - 109ms/step\n",
      "Epoch 32/50\n",
      "8/8 - 1s - loss: 0.7365 - accuracy: 0.5369 - auc_16: 0.7788 - precision_16: 0.5645 - recall_16: 0.1434 - f1_score: 0.4896 - val_loss: 0.8864 - val_accuracy: 0.5410 - val_auc_16: 0.7638 - val_precision_16: 0.5600 - val_recall_16: 0.1148 - val_f1_score: 0.3633 - 884ms/epoch - 110ms/step\n",
      "Epoch 33/50\n",
      "8/8 - 1s - loss: 0.7309 - accuracy: 0.5410 - auc_16: 0.7790 - precision_16: 0.5574 - recall_16: 0.1393 - f1_score: 0.4934 - val_loss: 0.8849 - val_accuracy: 0.5492 - val_auc_16: 0.7660 - val_precision_16: 0.5600 - val_recall_16: 0.1148 - val_f1_score: 0.3705 - 881ms/epoch - 110ms/step\n",
      "Epoch 34/50\n",
      "8/8 - 1s - loss: 0.7290 - accuracy: 0.5492 - auc_16: 0.7790 - precision_16: 0.5862 - recall_16: 0.1393 - f1_score: 0.4786 - val_loss: 0.8850 - val_accuracy: 0.5082 - val_auc_16: 0.7625 - val_precision_16: 0.5600 - val_recall_16: 0.1148 - val_f1_score: 0.3429 - 878ms/epoch - 110ms/step\n",
      "Epoch 35/50\n",
      "8/8 - 1s - loss: 0.7258 - accuracy: 0.5410 - auc_16: 0.7844 - precision_16: 0.5574 - recall_16: 0.1393 - f1_score: 0.4723 - val_loss: 0.8799 - val_accuracy: 0.5246 - val_auc_16: 0.7650 - val_precision_16: 0.5926 - val_recall_16: 0.1311 - val_f1_score: 0.3533 - 897ms/epoch - 112ms/step\n",
      "Epoch 36/50\n",
      "8/8 - 1s - loss: 0.7230 - accuracy: 0.5287 - auc_16: 0.7844 - precision_16: 0.5574 - recall_16: 0.1393 - f1_score: 0.4638 - val_loss: 0.8788 - val_accuracy: 0.4918 - val_auc_16: 0.7636 - val_precision_16: 0.6071 - val_recall_16: 0.1393 - val_f1_score: 0.3320 - 906ms/epoch - 113ms/step\n",
      "Epoch 37/50\n",
      "8/8 - 1s - loss: 0.7206 - accuracy: 0.5533 - auc_16: 0.7827 - precision_16: 0.5932 - recall_16: 0.1434 - f1_score: 0.5353 - val_loss: 0.8783 - val_accuracy: 0.4754 - val_auc_16: 0.7606 - val_precision_16: 0.6154 - val_recall_16: 0.1311 - val_f1_score: 0.3208 - 900ms/epoch - 112ms/step\n",
      "Epoch 38/50\n",
      "8/8 - 1s - loss: 0.7181 - accuracy: 0.5492 - auc_16: 0.7858 - precision_16: 0.5781 - recall_16: 0.1516 - f1_score: 0.5319 - val_loss: 0.8738 - val_accuracy: 0.4754 - val_auc_16: 0.7597 - val_precision_16: 0.6071 - val_recall_16: 0.1393 - val_f1_score: 0.3201 - 915ms/epoch - 114ms/step\n",
      "Epoch 39/50\n",
      "8/8 - 1s - loss: 0.7141 - accuracy: 0.5615 - auc_16: 0.7884 - precision_16: 0.5873 - recall_16: 0.1516 - f1_score: 0.5397 - val_loss: 0.8735 - val_accuracy: 0.4754 - val_auc_16: 0.7583 - val_precision_16: 0.6071 - val_recall_16: 0.1393 - val_f1_score: 0.3205 - 927ms/epoch - 116ms/step\n",
      "Epoch 40/50\n",
      "8/8 - 1s - loss: 0.7097 - accuracy: 0.5656 - auc_16: 0.7887 - precision_16: 0.5938 - recall_16: 0.1557 - f1_score: 0.5430 - val_loss: 0.8670 - val_accuracy: 0.4754 - val_auc_16: 0.7599 - val_precision_16: 0.6207 - val_recall_16: 0.1475 - val_f1_score: 0.3208 - 915ms/epoch - 114ms/step\n",
      "Epoch 41/50\n",
      "8/8 - 1s - loss: 0.7068 - accuracy: 0.5410 - auc_16: 0.7860 - precision_16: 0.6094 - recall_16: 0.1598 - f1_score: 0.5274 - val_loss: 0.8683 - val_accuracy: 0.5000 - val_auc_16: 0.7573 - val_precision_16: 0.6207 - val_recall_16: 0.1475 - val_f1_score: 0.3361 - 943ms/epoch - 118ms/step\n",
      "Epoch 42/50\n",
      "8/8 - 1s - loss: 0.7101 - accuracy: 0.5574 - auc_16: 0.7915 - precision_16: 0.6269 - recall_16: 0.1721 - f1_score: 0.5925 - val_loss: 0.8694 - val_accuracy: 0.4836 - val_auc_16: 0.7510 - val_precision_16: 0.6071 - val_recall_16: 0.1393 - val_f1_score: 0.3253 - 914ms/epoch - 114ms/step\n",
      "Epoch 43/50\n",
      "8/8 - 1s - loss: 0.7032 - accuracy: 0.5656 - auc_16: 0.7971 - precision_16: 0.6429 - recall_16: 0.1844 - f1_score: 0.5089 - val_loss: 0.8729 - val_accuracy: 0.4918 - val_auc_16: 0.7526 - val_precision_16: 0.6129 - val_recall_16: 0.1557 - val_f1_score: 0.3286 - 910ms/epoch - 114ms/step\n",
      "Epoch 44/50\n",
      "8/8 - 1s - loss: 0.7017 - accuracy: 0.5779 - auc_16: 0.8021 - precision_16: 0.6800 - recall_16: 0.2090 - f1_score: 0.5170 - val_loss: 0.8727 - val_accuracy: 0.4918 - val_auc_16: 0.7496 - val_precision_16: 0.6000 - val_recall_16: 0.1475 - val_f1_score: 0.3297 - 896ms/epoch - 112ms/step\n",
      "Epoch 45/50\n",
      "8/8 - 1s - loss: 0.7005 - accuracy: 0.5615 - auc_16: 0.8003 - precision_16: 0.6620 - recall_16: 0.1926 - f1_score: 0.5068 - val_loss: 0.8806 - val_accuracy: 0.5492 - val_auc_16: 0.7499 - val_precision_16: 0.5357 - val_recall_16: 0.1230 - val_f1_score: 0.3706 - 898ms/epoch - 112ms/step\n",
      "Epoch 46/50\n",
      "8/8 - 1s - loss: 0.6965 - accuracy: 0.5738 - auc_16: 0.7995 - precision_16: 0.6522 - recall_16: 0.1844 - f1_score: 0.4942 - val_loss: 0.8759 - val_accuracy: 0.5410 - val_auc_16: 0.7536 - val_precision_16: 0.5758 - val_recall_16: 0.1557 - val_f1_score: 0.3652 - 873ms/epoch - 109ms/step\n",
      "Epoch 47/50\n",
      "8/8 - 1s - loss: 0.6911 - accuracy: 0.5779 - auc_16: 0.8049 - precision_16: 0.6883 - recall_16: 0.2172 - f1_score: 0.5183 - val_loss: 0.8664 - val_accuracy: 0.5328 - val_auc_16: 0.7633 - val_precision_16: 0.6316 - val_recall_16: 0.1967 - val_f1_score: 0.3595 - 882ms/epoch - 110ms/step\n",
      "Epoch 48/50\n",
      "8/8 - 1s - loss: 0.6838 - accuracy: 0.5738 - auc_16: 0.8084 - precision_16: 0.6905 - recall_16: 0.2377 - f1_score: 0.5160 - val_loss: 0.8636 - val_accuracy: 0.5164 - val_auc_16: 0.7623 - val_precision_16: 0.6098 - val_recall_16: 0.2049 - val_f1_score: 0.3484 - 883ms/epoch - 110ms/step\n",
      "Epoch 49/50\n",
      "8/8 - 1s - loss: 0.6838 - accuracy: 0.5656 - auc_16: 0.7981 - precision_16: 0.6742 - recall_16: 0.2459 - f1_score: 0.5114 - val_loss: 0.8686 - val_accuracy: 0.5000 - val_auc_16: 0.7494 - val_precision_16: 0.5957 - val_recall_16: 0.2295 - val_f1_score: 0.3370 - 891ms/epoch - 111ms/step\n",
      "Epoch 50/50\n",
      "8/8 - 1s - loss: 0.6803 - accuracy: 0.5820 - auc_16: 0.7994 - precision_16: 0.6702 - recall_16: 0.2582 - f1_score: 0.5222 - val_loss: 0.8623 - val_accuracy: 0.5082 - val_auc_16: 0.7548 - val_precision_16: 0.6042 - val_recall_16: 0.2377 - val_f1_score: 0.3430 - 891ms/epoch - 111ms/step\n"
     ]
    },
    {
     "data": {
      "image/png": "[encoded data removed]",
      "text/plain": [
       "<Figure size 432x288 with 1 Axes>"
      ]
     },
     "metadata": {
      "needs_background": "light"
     },
     "output_type": "display_data"
    },
    {
     "name": "stdout",
     "output_type": "stream",
     "text": [
      "Epoch 1/50\n",
      "8/8 - 5s - loss: 1.1871 - accuracy: 0.4754 - auc_17: 0.7397 - precision_17: 0.5268 - recall_17: 0.2418 - f1_score: 0.3121 - val_loss: 0.9509 - val_accuracy: 0.3934 - val_auc_17: 0.7018 - val_precision_17: 0.4510 - val_recall_17: 0.1885 - val_f1_score: 0.2542 - 5s/epoch - 602ms/step\n",
      "Epoch 2/50\n",
      "8/8 - 1s - loss: 1.1660 - accuracy: 0.4959 - auc_17: 0.7538 - precision_17: 0.5729 - recall_17: 0.2254 - f1_score: 0.3271 - val_loss: 0.9589 - val_accuracy: 0.4508 - val_auc_17: 0.6965 - val_precision_17: 0.4091 - val_recall_17: 0.1475 - val_f1_score: 0.2987 - 847ms/epoch - 106ms/step\n",
      "Epoch 3/50\n",
      "8/8 - 1s - loss: 1.1385 - accuracy: 0.5164 - auc_17: 0.7608 - precision_17: 0.6071 - recall_17: 0.2090 - f1_score: 0.3450 - val_loss: 0.9600 - val_accuracy: 0.4508 - val_auc_17: 0.6989 - val_precision_17: 0.4250 - val_recall_17: 0.1393 - val_f1_score: 0.3018 - 855ms/epoch - 107ms/step\n",
      "Epoch 4/50\n",
      "8/8 - 1s - loss: 1.1112 - accuracy: 0.5287 - auc_17: 0.7682 - precision_17: 0.6329 - recall_17: 0.2049 - f1_score: 0.3542 - val_loss: 0.9585 - val_accuracy: 0.4754 - val_auc_17: 0.7074 - val_precision_17: 0.4250 - val_recall_17: 0.1393 - val_f1_score: 0.3159 - 851ms/epoch - 106ms/step\n",
      "Epoch 5/50\n",
      "8/8 - 1s - loss: 1.0819 - accuracy: 0.5615 - auc_17: 0.7763 - precision_17: 0.6625 - recall_17: 0.2172 - f1_score: 0.3747 - val_loss: 0.9601 - val_accuracy: 0.5082 - val_auc_17: 0.7156 - val_precision_17: 0.4324 - val_recall_17: 0.1311 - val_f1_score: 0.3358 - 852ms/epoch - 106ms/step\n",
      "Epoch 6/50\n",
      "8/8 - 1s - loss: 1.0526 - accuracy: 0.5697 - auc_17: 0.7774 - precision_17: 0.6716 - recall_17: 0.1844 - f1_score: 0.3803 - val_loss: 0.9626 - val_accuracy: 0.5000 - val_auc_17: 0.7124 - val_precision_17: 0.5000 - val_recall_17: 0.1230 - val_f1_score: 0.3309 - 951ms/epoch - 119ms/step\n",
      "Epoch 7/50\n",
      "8/8 - 1s - loss: 1.0324 - accuracy: 0.5738 - auc_17: 0.7863 - precision_17: 0.7000 - recall_17: 0.2008 - f1_score: 0.3844 - val_loss: 0.9642 - val_accuracy: 0.4754 - val_auc_17: 0.7126 - val_precision_17: 0.5312 - val_recall_17: 0.1393 - val_f1_score: 0.3159 - 851ms/epoch - 106ms/step\n",
      "Epoch 8/50\n",
      "8/8 - 1s - loss: 1.0266 - accuracy: 0.5861 - auc_17: 0.7867 - precision_17: 0.7206 - recall_17: 0.2008 - f1_score: 0.3937 - val_loss: 0.9576 - val_accuracy: 0.4754 - val_auc_17: 0.7237 - val_precision_17: 0.5161 - val_recall_17: 0.1311 - val_f1_score: 0.3148 - 855ms/epoch - 107ms/step\n",
      "Epoch 9/50\n",
      "8/8 - 1s - loss: 1.0194 - accuracy: 0.5533 - auc_17: 0.7803 - precision_17: 0.7123 - recall_17: 0.2131 - f1_score: 0.3697 - val_loss: 0.9724 - val_accuracy: 0.4918 - val_auc_17: 0.7117 - val_precision_17: 0.4865 - val_recall_17: 0.1475 - val_f1_score: 0.3233 - 864ms/epoch - 108ms/step\n",
      "Epoch 10/50\n",
      "8/8 - 1s - loss: 1.0146 - accuracy: 0.5615 - auc_17: 0.7758 - precision_17: 0.7143 - recall_17: 0.2049 - f1_score: 0.3740 - val_loss: 0.9821 - val_accuracy: 0.4754 - val_auc_17: 0.7024 - val_precision_17: 0.5000 - val_recall_17: 0.1475 - val_f1_score: 0.3135 - 843ms/epoch - 105ms/step\n",
      "Epoch 11/50\n",
      "8/8 - 1s - loss: 1.0037 - accuracy: 0.5820 - auc_17: 0.7875 - precision_17: 0.7612 - recall_17: 0.2090 - f1_score: 0.3905 - val_loss: 0.9824 - val_accuracy: 0.4672 - val_auc_17: 0.7042 - val_precision_17: 0.5357 - val_recall_17: 0.1230 - val_f1_score: 0.3086 - 867ms/epoch - 108ms/step\n",
      "Epoch 12/50\n",
      "8/8 - 1s - loss: 1.0491 - accuracy: 0.5738 - auc_17: 0.7801 - precision_17: 0.7397 - recall_17: 0.2213 - f1_score: 0.3829 - val_loss: 0.9905 - val_accuracy: 0.4672 - val_auc_17: 0.6953 - val_precision_17: 0.5152 - val_recall_17: 0.1393 - val_f1_score: 0.3073 - 864ms/epoch - 108ms/step\n",
      "Epoch 13/50\n",
      "8/8 - 1s - loss: 1.0476 - accuracy: 0.5820 - auc_17: 0.7747 - precision_17: 0.7042 - recall_17: 0.2049 - f1_score: 0.3885 - val_loss: 0.9943 - val_accuracy: 0.4754 - val_auc_17: 0.6930 - val_precision_17: 0.5000 - val_recall_17: 0.1475 - val_f1_score: 0.3104 - 908ms/epoch - 114ms/step\n",
      "Epoch 14/50\n",
      "8/8 - 1s - loss: 1.0390 - accuracy: 0.5738 - auc_17: 0.7735 - precision_17: 0.7123 - recall_17: 0.2131 - f1_score: 0.3848 - val_loss: 0.9940 - val_accuracy: 0.4672 - val_auc_17: 0.6926 - val_precision_17: 0.5000 - val_recall_17: 0.1393 - val_f1_score: 0.3057 - 917ms/epoch - 115ms/step\n",
      "Epoch 15/50\n",
      "8/8 - 1s - loss: 1.0418 - accuracy: 0.5697 - auc_17: 0.7725 - precision_17: 0.7083 - recall_17: 0.2090 - f1_score: 0.3817 - val_loss: 0.9920 - val_accuracy: 0.4590 - val_auc_17: 0.6946 - val_precision_17: 0.5000 - val_recall_17: 0.1393 - val_f1_score: 0.3009 - 1s/epoch - 129ms/step\n",
      "Epoch 16/50\n",
      "8/8 - 1s - loss: 1.0269 - accuracy: 0.5779 - auc_17: 0.7692 - precision_17: 0.7123 - recall_17: 0.2131 - f1_score: 0.3892 - val_loss: 1.0050 - val_accuracy: 0.4590 - val_auc_17: 0.6823 - val_precision_17: 0.5312 - val_recall_17: 0.1393 - val_f1_score: 0.3022 - 962ms/epoch - 120ms/step\n",
      "Epoch 17/50\n",
      "8/8 - 1s - loss: 1.0224 - accuracy: 0.5656 - auc_17: 0.7562 - precision_17: 0.6970 - recall_17: 0.1885 - f1_score: 0.3860 - val_loss: 1.0169 - val_accuracy: 0.4508 - val_auc_17: 0.6664 - val_precision_17: 0.5000 - val_recall_17: 0.1148 - val_f1_score: 0.2986 - 966ms/epoch - 121ms/step\n",
      "Epoch 18/50\n",
      "8/8 - 1s - loss: 1.0166 - accuracy: 0.5410 - auc_17: 0.7489 - precision_17: 0.6774 - recall_17: 0.1721 - f1_score: 0.3734 - val_loss: 1.0170 - val_accuracy: 0.4672 - val_auc_17: 0.6677 - val_precision_17: 0.5172 - val_recall_17: 0.1230 - val_f1_score: 0.3112 - 932ms/epoch - 117ms/step\n",
      "Epoch 19/50\n",
      "8/8 - 1s - loss: 1.0139 - accuracy: 0.5451 - auc_17: 0.7461 - precision_17: 0.6935 - recall_17: 0.1762 - f1_score: 0.4048 - val_loss: 1.0215 - val_accuracy: 0.4672 - val_auc_17: 0.6613 - val_precision_17: 0.5000 - val_recall_17: 0.1148 - val_f1_score: 0.3111 - 974ms/epoch - 122ms/step\n",
      "Epoch 20/50\n",
      "8/8 - 1s - loss: 1.0080 - accuracy: 0.5492 - auc_17: 0.7414 - precision_17: 0.6984 - recall_17: 0.1803 - f1_score: 0.4075 - val_loss: 1.0210 - val_accuracy: 0.4754 - val_auc_17: 0.6601 - val_precision_17: 0.5806 - val_recall_17: 0.1475 - val_f1_score: 0.3160 - 915ms/epoch - 114ms/step\n",
      "Epoch 21/50\n",
      "8/8 - 1s - loss: 1.0031 - accuracy: 0.5533 - auc_17: 0.7399 - precision_17: 0.6923 - recall_17: 0.1844 - f1_score: 0.4097 - val_loss: 1.0166 - val_accuracy: 0.4754 - val_auc_17: 0.6648 - val_precision_17: 0.5714 - val_recall_17: 0.1639 - val_f1_score: 0.3160 - 883ms/epoch - 110ms/step\n",
      "Epoch 22/50\n",
      "8/8 - 1s - loss: 0.9978 - accuracy: 0.5615 - auc_17: 0.7434 - precision_17: 0.6818 - recall_17: 0.1844 - f1_score: 0.4150 - val_loss: 1.0142 - val_accuracy: 0.5000 - val_auc_17: 0.6689 - val_precision_17: 0.5833 - val_recall_17: 0.1721 - val_f1_score: 0.3299 - 875ms/epoch - 109ms/step\n",
      "Epoch 23/50\n",
      "8/8 - 1s - loss: 0.9890 - accuracy: 0.5451 - auc_17: 0.7441 - precision_17: 0.6875 - recall_17: 0.1803 - f1_score: 0.4000 - val_loss: 1.0194 - val_accuracy: 0.4918 - val_auc_17: 0.6622 - val_precision_17: 0.6897 - val_recall_17: 0.1639 - val_f1_score: 0.4000 - 875ms/epoch - 109ms/step\n",
      "Epoch 24/50\n",
      "8/8 - 1s - loss: 0.9867 - accuracy: 0.5369 - auc_17: 0.7368 - precision_17: 0.7500 - recall_17: 0.1721 - f1_score: 0.3947 - val_loss: 1.0334 - val_accuracy: 0.4672 - val_auc_17: 0.6424 - val_precision_17: 0.7037 - val_recall_17: 0.1557 - val_f1_score: 0.3754 - 883ms/epoch - 110ms/step\n",
      "Epoch 25/50\n",
      "8/8 - 1s - loss: 0.9797 - accuracy: 0.5287 - auc_17: 0.7346 - precision_17: 0.7955 - recall_17: 0.1434 - f1_score: 0.3922 - val_loss: 1.0445 - val_accuracy: 0.4590 - val_auc_17: 0.6266 - val_precision_17: 0.7273 - val_recall_17: 0.1311 - val_f1_score: 0.3628 - 866ms/epoch - 108ms/step\n",
      "Epoch 26/50\n",
      "8/8 - 1s - loss: 0.9921 - accuracy: 0.5205 - auc_17: 0.7328 - precision_17: 0.8621 - recall_17: 0.1025 - f1_score: 0.3869 - val_loss: 1.0405 - val_accuracy: 0.4672 - val_auc_17: 0.6323 - val_precision_17: 0.7273 - val_recall_17: 0.1311 - val_f1_score: 0.3724 - 880ms/epoch - 110ms/step\n",
      "Epoch 27/50\n",
      "8/8 - 1s - loss: 0.9734 - accuracy: 0.5410 - auc_17: 0.7448 - precision_17: 0.7895 - recall_17: 0.1230 - f1_score: 0.4001 - val_loss: 1.0235 - val_accuracy: 0.4836 - val_auc_17: 0.6593 - val_precision_17: 0.6071 - val_recall_17: 0.1393 - val_f1_score: 0.3951 - 861ms/epoch - 108ms/step\n",
      "Epoch 28/50\n",
      "8/8 - 1s - loss: 0.9645 - accuracy: 0.5574 - auc_17: 0.7462 - precision_17: 0.7660 - recall_17: 0.1475 - f1_score: 0.4101 - val_loss: 1.0179 - val_accuracy: 0.4918 - val_auc_17: 0.6663 - val_precision_17: 0.6538 - val_recall_17: 0.1393 - val_f1_score: 0.4033 - 873ms/epoch - 109ms/step\n",
      "Epoch 29/50\n",
      "8/8 - 1s - loss: 0.9570 - accuracy: 0.5820 - auc_17: 0.7561 - precision_17: 0.7750 - recall_17: 0.1270 - f1_score: 0.4288 - val_loss: 1.0127 - val_accuracy: 0.5000 - val_auc_17: 0.6756 - val_precision_17: 0.7619 - val_recall_17: 0.1311 - val_f1_score: 0.4038 - 863ms/epoch - 108ms/step\n",
      "Epoch 30/50\n",
      "8/8 - 1s - loss: 0.9534 - accuracy: 0.5738 - auc_17: 0.7575 - precision_17: 0.7805 - recall_17: 0.1311 - f1_score: 0.4207 - val_loss: 1.0075 - val_accuracy: 0.4672 - val_auc_17: 0.6788 - val_precision_17: 0.7200 - val_recall_17: 0.1475 - val_f1_score: 0.3705 - 877ms/epoch - 110ms/step\n",
      "Epoch 31/50\n",
      "8/8 - 1s - loss: 0.9481 - accuracy: 0.5656 - auc_17: 0.7576 - precision_17: 0.7593 - recall_17: 0.1680 - f1_score: 0.4115 - val_loss: 1.0060 - val_accuracy: 0.5000 - val_auc_17: 0.6778 - val_precision_17: 0.6250 - val_recall_17: 0.1639 - val_f1_score: 0.3295 - 867ms/epoch - 108ms/step\n",
      "Epoch 32/50\n",
      "8/8 - 1s - loss: 0.9502 - accuracy: 0.5615 - auc_17: 0.7464 - precision_17: 0.7241 - recall_17: 0.1721 - f1_score: 0.4223 - val_loss: 1.0272 - val_accuracy: 0.5000 - val_auc_17: 0.6537 - val_precision_17: 0.5714 - val_recall_17: 0.1639 - val_f1_score: 0.3296 - 868ms/epoch - 108ms/step\n",
      "Epoch 33/50\n",
      "8/8 - 1s - loss: 0.9489 - accuracy: 0.5574 - auc_17: 0.7442 - precision_17: 0.7119 - recall_17: 0.1721 - f1_score: 0.4188 - val_loss: 1.0250 - val_accuracy: 0.5000 - val_auc_17: 0.6578 - val_precision_17: 0.5556 - val_recall_17: 0.1639 - val_f1_score: 0.3281 - 896ms/epoch - 112ms/step\n",
      "Epoch 34/50\n",
      "8/8 - 1s - loss: 0.9441 - accuracy: 0.5574 - auc_17: 0.7409 - precision_17: 0.7213 - recall_17: 0.1803 - f1_score: 0.4194 - val_loss: 1.0206 - val_accuracy: 0.5082 - val_auc_17: 0.6569 - val_precision_17: 0.5758 - val_recall_17: 0.1557 - val_f1_score: 0.3397 - 884ms/epoch - 111ms/step\n",
      "Epoch 35/50\n",
      "8/8 - 1s - loss: 0.9388 - accuracy: 0.5615 - auc_17: 0.7409 - precision_17: 0.7288 - recall_17: 0.1762 - f1_score: 0.4230 - val_loss: 1.0182 - val_accuracy: 0.4836 - val_auc_17: 0.6575 - val_precision_17: 0.6552 - val_recall_17: 0.1557 - val_f1_score: 0.3286 - 882ms/epoch - 110ms/step\n",
      "Epoch 36/50\n",
      "8/8 - 1s - loss: 0.9344 - accuracy: 0.5615 - auc_17: 0.7464 - precision_17: 0.7458 - recall_17: 0.1803 - f1_score: 0.4232 - val_loss: 1.0214 - val_accuracy: 0.4836 - val_auc_17: 0.6557 - val_precision_17: 0.5882 - val_recall_17: 0.1639 - val_f1_score: 0.3244 - 883ms/epoch - 110ms/step\n",
      "Epoch 37/50\n",
      "8/8 - 1s - loss: 0.9400 - accuracy: 0.5410 - auc_17: 0.7274 - precision_17: 0.6885 - recall_17: 0.1721 - f1_score: 0.4059 - val_loss: 1.0408 - val_accuracy: 0.4590 - val_auc_17: 0.6299 - val_precision_17: 0.5714 - val_recall_17: 0.1639 - val_f1_score: 0.3133 - 896ms/epoch - 112ms/step\n",
      "Epoch 38/50\n",
      "8/8 - 1s - loss: 0.9336 - accuracy: 0.5369 - auc_17: 0.7226 - precision_17: 0.6885 - recall_17: 0.1721 - f1_score: 0.4022 - val_loss: 1.0325 - val_accuracy: 0.4590 - val_auc_17: 0.6386 - val_precision_17: 0.5556 - val_recall_17: 0.1639 - val_f1_score: 0.3117 - 882ms/epoch - 110ms/step\n",
      "Epoch 39/50\n",
      "8/8 - 1s - loss: 0.9228 - accuracy: 0.5533 - auc_17: 0.7402 - precision_17: 0.7414 - recall_17: 0.1762 - f1_score: 0.4158 - val_loss: 1.0129 - val_accuracy: 0.4590 - val_auc_17: 0.6628 - val_precision_17: 0.7037 - val_recall_17: 0.1557 - val_f1_score: 0.3129 - 891ms/epoch - 111ms/step\n",
      "Epoch 40/50\n",
      "8/8 - 1s - loss: 0.9241 - accuracy: 0.5656 - auc_17: 0.7465 - precision_17: 0.7674 - recall_17: 0.1352 - f1_score: 0.4292 - val_loss: 0.9964 - val_accuracy: 0.5164 - val_auc_17: 0.6935 - val_precision_17: 0.8095 - val_recall_17: 0.1393 - val_f1_score: 0.3602 - 896ms/epoch - 112ms/step\n",
      "Epoch 41/50\n",
      "8/8 - 1s - loss: 0.9184 - accuracy: 0.5697 - auc_17: 0.7471 - precision_17: 0.8250 - recall_17: 0.1352 - f1_score: 0.4333 - val_loss: 1.0030 - val_accuracy: 0.5246 - val_auc_17: 0.6846 - val_precision_17: 0.7500 - val_recall_17: 0.1230 - val_f1_score: 0.3669 - 890ms/epoch - 111ms/step\n",
      "Epoch 42/50\n",
      "8/8 - 1s - loss: 0.9164 - accuracy: 0.5697 - auc_17: 0.7499 - precision_17: 0.7857 - recall_17: 0.1352 - f1_score: 0.4330 - val_loss: 1.0102 - val_accuracy: 0.5164 - val_auc_17: 0.6765 - val_precision_17: 0.7143 - val_recall_17: 0.1230 - val_f1_score: 0.3585 - 886ms/epoch - 111ms/step\n",
      "Epoch 43/50\n",
      "8/8 - 1s - loss: 0.9180 - accuracy: 0.5738 - auc_17: 0.7495 - precision_17: 0.7292 - recall_17: 0.1434 - f1_score: 0.4327 - val_loss: 1.0031 - val_accuracy: 0.5246 - val_auc_17: 0.6835 - val_precision_17: 0.6667 - val_recall_17: 0.1311 - val_f1_score: 0.3572 - 857ms/epoch - 107ms/step\n",
      "Epoch 44/50\n",
      "8/8 - 1s - loss: 0.9114 - accuracy: 0.5820 - auc_17: 0.7550 - precision_17: 0.7308 - recall_17: 0.1557 - f1_score: 0.4344 - val_loss: 1.0012 - val_accuracy: 0.5410 - val_auc_17: 0.6834 - val_precision_17: 0.6154 - val_recall_17: 0.1311 - val_f1_score: 0.3675 - 861ms/epoch - 108ms/step\n",
      "Epoch 45/50\n",
      "8/8 - 1s - loss: 0.9090 - accuracy: 0.5943 - auc_17: 0.7664 - precision_17: 0.7018 - recall_17: 0.1639 - f1_score: 0.4382 - val_loss: 0.9873 - val_accuracy: 0.5820 - val_auc_17: 0.7041 - val_precision_17: 0.6000 - val_recall_17: 0.1475 - val_f1_score: 0.3916 - 855ms/epoch - 107ms/step\n",
      "Epoch 46/50\n",
      "8/8 - 1s - loss: 0.9070 - accuracy: 0.5779 - auc_17: 0.7588 - precision_17: 0.6923 - recall_17: 0.1475 - f1_score: 0.4311 - val_loss: 1.0024 - val_accuracy: 0.5492 - val_auc_17: 0.6841 - val_precision_17: 0.6818 - val_recall_17: 0.1230 - val_f1_score: 0.3790 - 870ms/epoch - 109ms/step\n",
      "Epoch 47/50\n",
      "8/8 - 1s - loss: 0.9103 - accuracy: 0.5574 - auc_17: 0.7416 - precision_17: 0.6957 - recall_17: 0.1311 - f1_score: 0.4225 - val_loss: 0.9907 - val_accuracy: 0.5246 - val_auc_17: 0.6963 - val_precision_17: 0.7500 - val_recall_17: 0.1230 - val_f1_score: 0.3588 - 863ms/epoch - 108ms/step\n",
      "Epoch 48/50\n",
      "8/8 - 1s - loss: 0.9076 - accuracy: 0.5779 - auc_17: 0.7495 - precision_17: 0.7391 - recall_17: 0.1393 - f1_score: 0.4374 - val_loss: 0.9903 - val_accuracy: 0.5246 - val_auc_17: 0.6972 - val_precision_17: 0.7778 - val_recall_17: 0.1148 - val_f1_score: 0.3600 - 853ms/epoch - 107ms/step\n",
      "Epoch 49/50\n",
      "8/8 - 1s - loss: 0.9042 - accuracy: 0.5615 - auc_17: 0.7501 - precision_17: 0.7674 - recall_17: 0.1352 - f1_score: 0.4258 - val_loss: 0.9984 - val_accuracy: 0.5164 - val_auc_17: 0.6865 - val_precision_17: 0.7778 - val_recall_17: 0.1148 - val_f1_score: 0.3570 - 875ms/epoch - 109ms/step\n",
      "Epoch 50/50\n",
      "8/8 - 1s - loss: 0.8992 - accuracy: 0.5533 - auc_17: 0.7464 - precision_17: 0.8333 - recall_17: 0.1230 - f1_score: 0.4210 - val_loss: 0.9909 - val_accuracy: 0.5082 - val_auc_17: 0.6920 - val_precision_17: 0.8235 - val_recall_17: 0.1148 - val_f1_score: 0.3561 - 872ms/epoch - 109ms/step\n"
     ]
    },
    {
     "data": {
      "image/png": "[encoded data removed]",
      "text/plain": [
       "<Figure size 432x288 with 1 Axes>"
      ]
     },
     "metadata": {
      "needs_background": "light"
     },
     "output_type": "display_data"
    }
   ],
   "source": [
    "for train_index, val_index in kf.split(body_X):\n",
    "    body_X_train, body_X_val = body_X[train_index], body_X[val_index]\n",
    "    body_y_train, body_y_val = body_y[train_index], body_y[val_index]\n",
    "    face_X_train, face_X_val = face_X[train_index], face_X[val_index]\n",
    "    face_y_train, face_y_val = face_y[train_index], face_y[val_index]\n",
    "    model = fusioned_Baseline(body_features, face_features, n_length, n_outputs)\n",
    "    history = model.train(body_X_train, face_X_train, body_y_train, body_X_val, face_X_val, face_y_val, epochs, batch_size, class_weight=d_class_weights)\n",
    "    plt.plot(history.history['loss'])\n",
    "    plt.show()"
   ]
  },
  {
   "cell_type": "markdown",
   "metadata": {},
   "source": [
    "#### Prediction on the holdout set"
   ]
  },
  {
   "cell_type": "code",
   "execution_count": 29,
   "metadata": {},
   "outputs": [
    {
     "name": "stdout",
     "output_type": "stream",
     "text": [
      "Accuracy: 44.59% \n",
      "Balanced Accuracy: 46.64% \n",
      "ROC/AUC: 0.64 \n",
      "Precision: 0.66 \n",
      "Recall: 0.09 \n",
      "F1 score: 0.31\n"
     ]
    }
   ],
   "source": [
    "y_pred = model.predict(body_X_test, face_X_test)\n",
    "_, acc, auc, precision, recall, f1 = model.evaluate(body_X_test, face_X_test, body_y_test)\n",
    "results.append(round(auc, 2))\n",
    "bal_acc = balanced_accuracy_score(body_y_test.argmax(axis=1), y_pred.argmax(axis=1)) \n",
    "print('Accuracy: {:.2f}% \\nBalanced Accuracy: {:.2f}% \\nROC/AUC: {:.2f} \\nPrecision: {:.2f} \\nRecall: {:.2f} \\nF1 score: {:.2f}'.format(acc * 100, bal_acc * 100, auc, precision, recall, f1))"
   ]
  },
  {
   "cell_type": "markdown",
   "metadata": {},
   "source": [
    "### Ensemble"
   ]
  },
  {
   "cell_type": "code",
   "execution_count": 30,
   "metadata": {},
   "outputs": [],
   "source": [
    "baseline_body_member = KerasMember(name=\"Body Model\", keras_model=baseline_body_model, train_batches=(body_X_train, y_train), val_batches=(body_X_test, body_y_test))\n",
    "baseline_face_member = KerasMember(name=\"Face Model\", keras_model=baseline_face_model, train_batches=(face_X_train, face_y_train), val_batches=(face_X_test, face_y_test))"
   ]
  },
  {
   "cell_type": "code",
   "execution_count": 31,
   "metadata": {},
   "outputs": [],
   "source": [
    "dirichletEnsemble = DirichletEnsemble()\n",
    "dirichletEnsemble.add_member(baseline_body_member)\n",
    "dirichletEnsemble.add_member(baseline_face_member)\n",
    "dirichletEnsemble.fit()"
   ]
  },
  {
   "cell_type": "code",
   "execution_count": 32,
   "metadata": {},
   "outputs": [
    {
     "name": "stdout",
     "output_type": "stream",
     "text": [
      "Body Model (weight: 0.0004)\n",
      "Face Model (weight: 0.9996)\n",
      "Accuracy: 56.71% - ROC/AUC: 0.56 - Precision: 0.39 - Recall: 0.53 - F1 score: 0.39\n"
     ]
    }
   ],
   "source": [
    "e = dirichletEnsemble.describe()\n",
    "results.append(round(e, 2))"
   ]
  },
  {
   "cell_type": "markdown",
   "metadata": {},
   "source": [
    "## Results"
   ]
  },
  {
   "cell_type": "code",
   "execution_count": 33,
   "metadata": {},
   "outputs": [
    {
     "data": {
      "image/png": "[encoded data removed]",
      "text/plain": [
       "<Figure size 1008x720 with 1 Axes>"
      ]
     },
     "metadata": {
      "needs_background": "light"
     },
     "output_type": "display_data"
    }
   ],
   "source": [
    "data = {'Unimodal (Body)':results[0], 'Unimodal (Face)':results[1], 'Early Fusion':results[2],\n",
    "        'Late Fusion':results[3], 'Ensemble':results[4]}\n",
    "models = list(data.keys())\n",
    "performance = list(data.values())\n",
    "  \n",
    "fig = plt.figure(figsize = (14, 10))\n",
    " \n",
    "plt.bar(models, performance, color ='maroon',\n",
    "        width = 0.4)\n",
    " \n",
    "plt.title(\"Baseline AUC (Pain Intensity Estimation)\")\n",
    "plt.show()"
   ]
  }
 ],
 "metadata": {
  "interpreter": {
   "hash": "225abd0b4b41c85229fb7285a24282bb8b7c5c494a1c5011beaea88d2c1fa3cf"
  },
  "kernelspec": {
   "display_name": "Python 3.9.12 ('masters-thesis-dSEc-4wZ')",
   "language": "python",
   "name": "python3"
  },
  "language_info": {
   "codemirror_mode": {
    "name": "ipython",
    "version": 3
   },
   "file_extension": ".py",
   "mimetype": "text/x-python",
   "name": "python",
   "nbconvert_exporter": "python",
   "pygments_lexer": "ipython3",
   "version": "3.9.12"
  },
  "orig_nbformat": 4
 },
 "nbformat": 4,
 "nbformat_minor": 2
}
