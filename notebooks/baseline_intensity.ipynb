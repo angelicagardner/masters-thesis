{
 "cells": [
  {
   "cell_type": "markdown",
   "metadata": {},
   "source": [
    "# Baseline Results for Pain Intensity Estimation (excl. No Pain class)"
   ]
  },
  {
   "cell_type": "code",
   "execution_count": 1,
   "metadata": {},
   "outputs": [],
   "source": [
    "import os\n",
    "os.environ['TF_CPP_MIN_LOG_LEVEL'] = '3'\n",
    "import warnings\n",
    "warnings.filterwarnings(\"ignore\")\n",
    "\n",
    "import numpy as np\n",
    "import pandas as pd\n",
    "import matplotlib.pyplot as plt\n",
    "import tensorflow as tf\n",
    "import tensorflow_addons as tfa\n",
    "\n",
    "from sklearn.utils import compute_class_weight\n",
    "from sklearn.metrics import balanced_accuracy_score\n",
    "from sklearn.model_selection import KFold\n",
    "from tensorflow.keras.layers import Input, LSTM, Dense, Concatenate\n",
    "from tensorflow.keras import Model\n",
    "\n",
    "import sys\n",
    "module_path = os.path.abspath(os.getcwd() + '\\\\..')\n",
    "if module_path not in sys.path:\n",
    "    sys.path.append(module_path)\n",
    "from src.data.load_dataset import load_dataset, get_class_names, load_fusioned_dataset\n",
    "from src.lib.DeepStack.deepstack.base import KerasMember\n",
    "from src.lib.DeepStack.deepstack.ensemble import DirichletEnsemble"
   ]
  },
  {
   "cell_type": "code",
   "execution_count": 2,
   "metadata": {},
   "outputs": [],
   "source": [
    "epochs, batch_size = 50, 32\n",
    "kf = KFold(n_splits=3, shuffle=True, random_state=42)\n",
    "\n",
    "results = []\n",
    "\n",
    "early_stopping = tf.keras.callbacks.EarlyStopping(\n",
    "        monitor=\"val_loss\",\n",
    "        patience=10,\n",
    "        restore_best_weights=True,\n",
    "    )"
   ]
  },
  {
   "cell_type": "code",
   "execution_count": 3,
   "metadata": {},
   "outputs": [],
   "source": [
    "class Baseline():\n",
    "    def __init__(self, n_features, n_length, n_outputs):\n",
    "        input = Input(shape=(n_length, n_features))\n",
    "        lstm = LSTM(50)(input)\n",
    "        dense = Dense(50)(lstm)\n",
    "        output = Dense(units=n_outputs, activation='softmax')(dense)\n",
    "        model = Model(inputs=input, outputs=output)\n",
    "        model.compile(loss='categorical_crossentropy', optimizer=tf.keras.optimizers.Adam(learning_rate=0.0001), metrics=['accuracy', tf.keras.metrics.AUC(), tf.keras.metrics.Precision(), tf.keras.metrics.Recall(), tfa.metrics.F1Score(num_classes=n_outputs, average='macro')])\n",
    "        self.model = model\n",
    "\n",
    "    def train(self, X_train, y_train, X_val, y_val, epochs, batch_size, class_weight):\n",
    "        history = self.model.fit(X_train, y_train, validation_data=(X_val, y_val), epochs=epochs, batch_size=batch_size, class_weight=class_weight, verbose=2)\n",
    "        return history\n",
    "\n",
    "    def evaluate(self, X_test, y_test):\n",
    "        results = self.model.evaluate(X_test, y_test, verbose=0)\n",
    "        return results\n",
    "\n",
    "    def predict(self, X_test):\n",
    "        predictions = self.model.predict(X_test)\n",
    "        return predictions\n",
    "\n",
    "    def summary(self):\n",
    "        self.model.summary()"
   ]
  },
  {
   "cell_type": "markdown",
   "metadata": {},
   "source": [
    "## 1. Unimodal Body Modality (Skeleton)"
   ]
  },
  {
   "cell_type": "markdown",
   "metadata": {},
   "source": [
    "### Dataset"
   ]
  },
  {
   "cell_type": "code",
   "execution_count": 4,
   "metadata": {},
   "outputs": [
    {
     "name": "stdout",
     "output_type": "stream",
     "text": [
      "(380, 350, 35) (380, 3)\n",
      "(235, 350, 35) (235, 3)\n"
     ]
    }
   ],
   "source": [
    "X_train, X_test, y_train, y_test = load_dataset('skeleton', level=True, nopain=False)\n",
    "X_train = X_train.reshape(X_train.shape[0], X_train.shape[2], X_train.shape[3])\n",
    "X_test = X_test.reshape(X_test.shape[0], X_test.shape[2], X_test.shape[3])\n",
    "X = X_train.copy()\n",
    "y = y_train.copy()\n",
    "\n",
    "print(X_train.shape, y_train.shape)\n",
    "print(X_test.shape, y_test.shape)\n",
    "\n",
    "n_length, n_features, n_outputs = X_train.shape[1], X_train.shape[-1], y_train.shape[1]"
   ]
  },
  {
   "cell_type": "code",
   "execution_count": 5,
   "metadata": {},
   "outputs": [
    {
     "data": {
      "text/plain": [
       "Mild        219\n",
       "Moderate    158\n",
       "Severe        3\n",
       "dtype: int64"
      ]
     },
     "execution_count": 5,
     "metadata": {},
     "output_type": "execute_result"
    }
   ],
   "source": [
    "classes = get_class_names('skeleton', level=True, nopain=False)\n",
    "tmp = pd.DataFrame(classes)\n",
    "classes = tmp.value_counts()\n",
    "classes"
   ]
  },
  {
   "cell_type": "code",
   "execution_count": 6,
   "metadata": {},
   "outputs": [
    {
     "data": {
      "text/plain": [
       "{0: 0.578386605783866, 1: 0.8016877637130801, 2: 42.22222222222222}"
      ]
     },
     "execution_count": 6,
     "metadata": {},
     "output_type": "execute_result"
    }
   ],
   "source": [
    "y_integers = np.argmax(y_train, axis=1)\n",
    "class_weights = compute_class_weight(class_weight='balanced', classes=np.unique(y_integers), y=y_integers)\n",
    "d_class_weights = dict(enumerate(class_weights))\n",
    "d_class_weights"
   ]
  },
  {
   "cell_type": "code",
   "execution_count": 7,
   "metadata": {},
   "outputs": [
    {
     "name": "stdout",
     "output_type": "stream",
     "text": [
      "Model: \"model\"\n",
      "_________________________________________________________________\n",
      " Layer (type)                Output Shape              Param #   \n",
      "=================================================================\n",
      " input_1 (InputLayer)        [(None, 350, 35)]         0         \n",
      "                                                                 \n",
      " lstm (LSTM)                 (None, 50)                17200     \n",
      "                                                                 \n",
      " dense (Dense)               (None, 50)                2550      \n",
      "                                                                 \n",
      " dense_1 (Dense)             (None, 3)                 153       \n",
      "                                                                 \n",
      "=================================================================\n",
      "Total params: 19,903\n",
      "Trainable params: 19,903\n",
      "Non-trainable params: 0\n",
      "_________________________________________________________________\n"
     ]
    }
   ],
   "source": [
    "model = Baseline(n_features, n_length, n_outputs)\n",
    "model.summary()"
   ]
  },
  {
   "cell_type": "markdown",
   "metadata": {},
   "source": [
    "### Baseline Model"
   ]
  },
  {
   "cell_type": "code",
   "execution_count": 8,
   "metadata": {},
   "outputs": [
    {
     "name": "stdout",
     "output_type": "stream",
     "text": [
      "Epoch 1/50\n",
      "8/8 - 3s - loss: 1.3443 - accuracy: 0.5494 - auc_1: 0.7274 - precision_1: 0.5714 - recall_1: 0.0632 - f1_score: 0.2711 - val_loss: 0.9445 - val_accuracy: 0.5748 - val_auc_1: 0.7755 - val_precision_1: 0.6154 - val_recall_1: 0.0630 - val_f1_score: 0.3073 - 3s/epoch - 390ms/step\n",
      "Epoch 2/50\n",
      "8/8 - 1s - loss: 1.3106 - accuracy: 0.5731 - auc_1: 0.7590 - precision_1: 0.6071 - recall_1: 0.0672 - f1_score: 0.3079 - val_loss: 0.9328 - val_accuracy: 0.5827 - val_auc_1: 0.7902 - val_precision_1: 0.6667 - val_recall_1: 0.0945 - val_f1_score: 0.3085 - 655ms/epoch - 82ms/step\n",
      "Epoch 3/50\n",
      "8/8 - 1s - loss: 1.2785 - accuracy: 0.5652 - auc_1: 0.7748 - precision_1: 0.6562 - recall_1: 0.0830 - f1_score: 0.3125 - val_loss: 0.9282 - val_accuracy: 0.5591 - val_auc_1: 0.7857 - val_precision_1: 0.7059 - val_recall_1: 0.0945 - val_f1_score: 0.3107 - 656ms/epoch - 82ms/step\n",
      "Epoch 4/50\n",
      "8/8 - 1s - loss: 1.2684 - accuracy: 0.5613 - auc_1: 0.7907 - precision_1: 0.7353 - recall_1: 0.0988 - f1_score: 0.3251 - val_loss: 0.9201 - val_accuracy: 0.5669 - val_auc_1: 0.7928 - val_precision_1: 0.7222 - val_recall_1: 0.1024 - val_f1_score: 0.3250 - 665ms/epoch - 83ms/step\n",
      "Epoch 5/50\n",
      "8/8 - 1s - loss: 1.2561 - accuracy: 0.5652 - auc_1: 0.7878 - precision_1: 0.6842 - recall_1: 0.1028 - f1_score: 0.3312 - val_loss: 0.9264 - val_accuracy: 0.5827 - val_auc_1: 0.7836 - val_precision_1: 0.7222 - val_recall_1: 0.1024 - val_f1_score: 0.3271 - 654ms/epoch - 82ms/step\n",
      "Epoch 6/50\n",
      "8/8 - 1s - loss: 1.2400 - accuracy: 0.5613 - auc_1: 0.7885 - precision_1: 0.6500 - recall_1: 0.1028 - f1_score: 0.3275 - val_loss: 0.9191 - val_accuracy: 0.5748 - val_auc_1: 0.7879 - val_precision_1: 0.7222 - val_recall_1: 0.1024 - val_f1_score: 0.3260 - 658ms/epoch - 82ms/step\n",
      "Epoch 7/50\n",
      "8/8 - 1s - loss: 1.2357 - accuracy: 0.5573 - auc_1: 0.7882 - precision_1: 0.6486 - recall_1: 0.0949 - f1_score: 0.3339 - val_loss: 0.9094 - val_accuracy: 0.5591 - val_auc_1: 0.7935 - val_precision_1: 0.7368 - val_recall_1: 0.1102 - val_f1_score: 0.3346 - 665ms/epoch - 83ms/step\n",
      "Epoch 8/50\n",
      "8/8 - 1s - loss: 1.2182 - accuracy: 0.5652 - auc_1: 0.7845 - precision_1: 0.5385 - recall_1: 0.0553 - f1_score: 0.3493 - val_loss: 0.9209 - val_accuracy: 0.5433 - val_auc_1: 0.7852 - val_precision_1: 0.7692 - val_recall_1: 0.0787 - val_f1_score: 0.3305 - 653ms/epoch - 82ms/step\n",
      "Epoch 9/50\n",
      "8/8 - 1s - loss: 1.2043 - accuracy: 0.5810 - auc_1: 0.7902 - precision_1: 0.6190 - recall_1: 0.0514 - f1_score: 0.3610 - val_loss: 0.9188 - val_accuracy: 0.5433 - val_auc_1: 0.7916 - val_precision_1: 0.7222 - val_recall_1: 0.1024 - val_f1_score: 0.3305 - 645ms/epoch - 81ms/step\n",
      "Epoch 10/50\n",
      "8/8 - 1s - loss: 1.1942 - accuracy: 0.5889 - auc_1: 0.7972 - precision_1: 0.6562 - recall_1: 0.0830 - f1_score: 0.5271 - val_loss: 0.9239 - val_accuracy: 0.5433 - val_auc_1: 0.7858 - val_precision_1: 0.6667 - val_recall_1: 0.0945 - val_f1_score: 0.3281 - 638ms/epoch - 80ms/step\n",
      "Epoch 11/50\n",
      "8/8 - 1s - loss: 1.2495 - accuracy: 0.5889 - auc_1: 0.7995 - precision_1: 0.6250 - recall_1: 0.0791 - f1_score: 0.5272 - val_loss: 0.9259 - val_accuracy: 0.5276 - val_auc_1: 0.7778 - val_precision_1: 0.6842 - val_recall_1: 0.1024 - val_f1_score: 0.3122 - 635ms/epoch - 79ms/step\n",
      "Epoch 12/50\n",
      "8/8 - 1s - loss: 1.2435 - accuracy: 0.5771 - auc_1: 0.7926 - precision_1: 0.6000 - recall_1: 0.0830 - f1_score: 0.5154 - val_loss: 0.9311 - val_accuracy: 0.5276 - val_auc_1: 0.7727 - val_precision_1: 0.6842 - val_recall_1: 0.1024 - val_f1_score: 0.3122 - 634ms/epoch - 79ms/step\n",
      "Epoch 13/50\n",
      "8/8 - 1s - loss: 1.2467 - accuracy: 0.5731 - auc_1: 0.7896 - precision_1: 0.6154 - recall_1: 0.0949 - f1_score: 0.4746 - val_loss: 0.9324 - val_accuracy: 0.5276 - val_auc_1: 0.7707 - val_precision_1: 0.6842 - val_recall_1: 0.1024 - val_f1_score: 0.3078 - 635ms/epoch - 79ms/step\n",
      "Epoch 14/50\n",
      "8/8 - 1s - loss: 1.2299 - accuracy: 0.5731 - auc_1: 0.7909 - precision_1: 0.6154 - recall_1: 0.0949 - f1_score: 0.4746 - val_loss: 0.9361 - val_accuracy: 0.5197 - val_auc_1: 0.7669 - val_precision_1: 0.7000 - val_recall_1: 0.1102 - val_f1_score: 0.3040 - 637ms/epoch - 80ms/step\n",
      "Epoch 15/50\n",
      "8/8 - 1s - loss: 1.2287 - accuracy: 0.5692 - auc_1: 0.7857 - precision_1: 0.6216 - recall_1: 0.0909 - f1_score: 0.4358 - val_loss: 0.9439 - val_accuracy: 0.5039 - val_auc_1: 0.7623 - val_precision_1: 0.7368 - val_recall_1: 0.1102 - val_f1_score: 0.3002 - 632ms/epoch - 79ms/step\n",
      "Epoch 16/50\n",
      "8/8 - 1s - loss: 1.2191 - accuracy: 0.5692 - auc_1: 0.7849 - precision_1: 0.6111 - recall_1: 0.0870 - f1_score: 0.4687 - val_loss: 0.9443 - val_accuracy: 0.4961 - val_auc_1: 0.7635 - val_precision_1: 0.7368 - val_recall_1: 0.1102 - val_f1_score: 0.2977 - 634ms/epoch - 79ms/step\n",
      "Epoch 17/50\n",
      "8/8 - 1s - loss: 1.2124 - accuracy: 0.5652 - auc_1: 0.7873 - precision_1: 0.6176 - recall_1: 0.0830 - f1_score: 0.4518 - val_loss: 0.9458 - val_accuracy: 0.4961 - val_auc_1: 0.7635 - val_precision_1: 0.7222 - val_recall_1: 0.1024 - val_f1_score: 0.3093 - 637ms/epoch - 80ms/step\n",
      "Epoch 18/50\n",
      "8/8 - 1s - loss: 1.1472 - accuracy: 0.5652 - auc_1: 0.7856 - precision_1: 0.6429 - recall_1: 0.0711 - f1_score: 0.4430 - val_loss: 0.9498 - val_accuracy: 0.4961 - val_auc_1: 0.7638 - val_precision_1: 0.6875 - val_recall_1: 0.0866 - val_f1_score: 0.3140 - 642ms/epoch - 80ms/step\n",
      "Epoch 19/50\n",
      "8/8 - 1s - loss: 1.1446 - accuracy: 0.5534 - auc_1: 0.7793 - precision_1: 0.6667 - recall_1: 0.0474 - f1_score: 0.4335 - val_loss: 0.9564 - val_accuracy: 0.4882 - val_auc_1: 0.7571 - val_precision_1: 0.7692 - val_recall_1: 0.0787 - val_f1_score: 0.3129 - 632ms/epoch - 79ms/step\n",
      "Epoch 20/50\n",
      "8/8 - 1s - loss: 1.1340 - accuracy: 0.5455 - auc_1: 0.7795 - precision_1: 0.6667 - recall_1: 0.0474 - f1_score: 0.4288 - val_loss: 0.9559 - val_accuracy: 0.5039 - val_auc_1: 0.7609 - val_precision_1: 0.8333 - val_recall_1: 0.0787 - val_f1_score: 0.3294 - 630ms/epoch - 79ms/step\n",
      "Epoch 21/50\n",
      "8/8 - 1s - loss: 1.1290 - accuracy: 0.5336 - auc_1: 0.7754 - precision_1: 0.6250 - recall_1: 0.0395 - f1_score: 0.4146 - val_loss: 0.9593 - val_accuracy: 0.4803 - val_auc_1: 0.7547 - val_precision_1: 0.8333 - val_recall_1: 0.0787 - val_f1_score: 0.3163 - 631ms/epoch - 79ms/step\n",
      "Epoch 22/50\n",
      "8/8 - 1s - loss: 1.1244 - accuracy: 0.5178 - auc_1: 0.7702 - precision_1: 0.6250 - recall_1: 0.0395 - f1_score: 0.4004 - val_loss: 0.9629 - val_accuracy: 0.4724 - val_auc_1: 0.7506 - val_precision_1: 0.8333 - val_recall_1: 0.0787 - val_f1_score: 0.3131 - 632ms/epoch - 79ms/step\n",
      "Epoch 23/50\n",
      "8/8 - 1s - loss: 1.1197 - accuracy: 0.5178 - auc_1: 0.7622 - precision_1: 0.6000 - recall_1: 0.0356 - f1_score: 0.4007 - val_loss: 0.9686 - val_accuracy: 0.4567 - val_auc_1: 0.7387 - val_precision_1: 0.8182 - val_recall_1: 0.0709 - val_f1_score: 0.2955 - 629ms/epoch - 79ms/step\n",
      "Epoch 24/50\n",
      "8/8 - 1s - loss: 1.1107 - accuracy: 0.5375 - auc_1: 0.7732 - precision_1: 0.6190 - recall_1: 0.0514 - f1_score: 0.4091 - val_loss: 0.9624 - val_accuracy: 0.4724 - val_auc_1: 0.7481 - val_precision_1: 0.7647 - val_recall_1: 0.1024 - val_f1_score: 0.3091 - 633ms/epoch - 79ms/step\n",
      "Epoch 25/50\n",
      "8/8 - 1s - loss: 1.1030 - accuracy: 0.5217 - auc_1: 0.7698 - precision_1: 0.6923 - recall_1: 0.0711 - f1_score: 0.3952 - val_loss: 0.9716 - val_accuracy: 0.4567 - val_auc_1: 0.7357 - val_precision_1: 0.6923 - val_recall_1: 0.0709 - val_f1_score: 0.3004 - 633ms/epoch - 79ms/step\n",
      "Epoch 26/50\n",
      "8/8 - 1s - loss: 1.1011 - accuracy: 0.5178 - auc_1: 0.7642 - precision_1: 0.6471 - recall_1: 0.0435 - f1_score: 0.3982 - val_loss: 0.9786 - val_accuracy: 0.4567 - val_auc_1: 0.7280 - val_precision_1: 0.8750 - val_recall_1: 0.0551 - val_f1_score: 0.3087 - 645ms/epoch - 81ms/step\n",
      "Epoch 27/50\n",
      "8/8 - 1s - loss: 1.0958 - accuracy: 0.5217 - auc_1: 0.7571 - precision_1: 0.6667 - recall_1: 0.0395 - f1_score: 0.4023 - val_loss: 0.9752 - val_accuracy: 0.4488 - val_auc_1: 0.7320 - val_precision_1: 0.8750 - val_recall_1: 0.0551 - val_f1_score: 0.3054 - 637ms/epoch - 80ms/step\n",
      "Epoch 28/50\n",
      "8/8 - 1s - loss: 1.0915 - accuracy: 0.5099 - auc_1: 0.7545 - precision_1: 0.6429 - recall_1: 0.0356 - f1_score: 0.3953 - val_loss: 0.9752 - val_accuracy: 0.4409 - val_auc_1: 0.7279 - val_precision_1: 0.8889 - val_recall_1: 0.0630 - val_f1_score: 0.2975 - 647ms/epoch - 81ms/step\n",
      "Epoch 29/50\n",
      "8/8 - 1s - loss: 1.0860 - accuracy: 0.5099 - auc_1: 0.7514 - precision_1: 0.6429 - recall_1: 0.0356 - f1_score: 0.3953 - val_loss: 0.9779 - val_accuracy: 0.4331 - val_auc_1: 0.7243 - val_precision_1: 0.9000 - val_recall_1: 0.0709 - val_f1_score: 0.2941 - 653ms/epoch - 82ms/step\n",
      "Epoch 30/50\n",
      "8/8 - 1s - loss: 1.0804 - accuracy: 0.5138 - auc_1: 0.7501 - precision_1: 0.5625 - recall_1: 0.0356 - f1_score: 0.3958 - val_loss: 0.9770 - val_accuracy: 0.4331 - val_auc_1: 0.7250 - val_precision_1: 0.9000 - val_recall_1: 0.0709 - val_f1_score: 0.2941 - 645ms/epoch - 81ms/step\n",
      "Epoch 31/50\n",
      "8/8 - 1s - loss: 1.0785 - accuracy: 0.4980 - auc_1: 0.7418 - precision_1: 0.6429 - recall_1: 0.0356 - f1_score: 0.3813 - val_loss: 0.9812 - val_accuracy: 0.4331 - val_auc_1: 0.7206 - val_precision_1: 0.8750 - val_recall_1: 0.0551 - val_f1_score: 0.2911 - 652ms/epoch - 82ms/step\n",
      "Epoch 32/50\n",
      "8/8 - 1s - loss: 1.0715 - accuracy: 0.4822 - auc_1: 0.7428 - precision_1: 0.5882 - recall_1: 0.0395 - f1_score: 0.3670 - val_loss: 0.9763 - val_accuracy: 0.4173 - val_auc_1: 0.7260 - val_precision_1: 0.8750 - val_recall_1: 0.0551 - val_f1_score: 0.2797 - 646ms/epoch - 81ms/step\n",
      "Epoch 33/50\n",
      "8/8 - 1s - loss: 1.0657 - accuracy: 0.4941 - auc_1: 0.7461 - precision_1: 0.5294 - recall_1: 0.0356 - f1_score: 0.3757 - val_loss: 0.9772 - val_accuracy: 0.4331 - val_auc_1: 0.7212 - val_precision_1: 0.8889 - val_recall_1: 0.0630 - val_f1_score: 0.2912 - 642ms/epoch - 80ms/step\n",
      "Epoch 34/50\n",
      "8/8 - 1s - loss: 1.0829 - accuracy: 0.5099 - auc_1: 0.7519 - precision_1: 0.5294 - recall_1: 0.0356 - f1_score: 0.4202 - val_loss: 0.9287 - val_accuracy: 0.4567 - val_auc_1: 0.7481 - val_precision_1: 0.9000 - val_recall_1: 0.0709 - val_f1_score: 0.3131 - 655ms/epoch - 82ms/step\n",
      "Epoch 35/50\n",
      "8/8 - 1s - loss: 1.1206 - accuracy: 0.5020 - auc_1: 0.7631 - precision_1: 0.4762 - recall_1: 0.0395 - f1_score: 0.4216 - val_loss: 0.9100 - val_accuracy: 0.4882 - val_auc_1: 0.7511 - val_precision_1: 0.9091 - val_recall_1: 0.0787 - val_f1_score: 0.3291 - 647ms/epoch - 81ms/step\n",
      "Epoch 36/50\n",
      "8/8 - 1s - loss: 1.1074 - accuracy: 0.5020 - auc_1: 0.7610 - precision_1: 0.5556 - recall_1: 0.0395 - f1_score: 0.4035 - val_loss: 0.9174 - val_accuracy: 0.4646 - val_auc_1: 0.7473 - val_precision_1: 0.9091 - val_recall_1: 0.0787 - val_f1_score: 0.3157 - 679ms/epoch - 85ms/step\n",
      "Epoch 37/50\n",
      "8/8 - 1s - loss: 1.1021 - accuracy: 0.5059 - auc_1: 0.7582 - precision_1: 0.5882 - recall_1: 0.0395 - f1_score: 0.3991 - val_loss: 0.9220 - val_accuracy: 0.4646 - val_auc_1: 0.7471 - val_precision_1: 0.9091 - val_recall_1: 0.0787 - val_f1_score: 0.3166 - 647ms/epoch - 81ms/step\n",
      "Epoch 38/50\n",
      "8/8 - 1s - loss: 1.0906 - accuracy: 0.5099 - auc_1: 0.7582 - precision_1: 0.5238 - recall_1: 0.0435 - f1_score: 0.4022 - val_loss: 0.9214 - val_accuracy: 0.4803 - val_auc_1: 0.7480 - val_precision_1: 0.8333 - val_recall_1: 0.0787 - val_f1_score: 0.3269 - 653ms/epoch - 82ms/step\n",
      "Epoch 39/50\n",
      "8/8 - 1s - loss: 1.0850 - accuracy: 0.4980 - auc_1: 0.7576 - precision_1: 0.5238 - recall_1: 0.0435 - f1_score: 0.3959 - val_loss: 0.9251 - val_accuracy: 0.4961 - val_auc_1: 0.7496 - val_precision_1: 0.8182 - val_recall_1: 0.0709 - val_f1_score: 0.3386 - 647ms/epoch - 81ms/step\n",
      "Epoch 40/50\n",
      "8/8 - 1s - loss: 1.0747 - accuracy: 0.5178 - auc_1: 0.7591 - precision_1: 0.5238 - recall_1: 0.0435 - f1_score: 0.4090 - val_loss: 0.9273 - val_accuracy: 0.5039 - val_auc_1: 0.7491 - val_precision_1: 0.9000 - val_recall_1: 0.0709 - val_f1_score: 0.3452 - 647ms/epoch - 81ms/step\n",
      "Epoch 41/50\n",
      "8/8 - 1s - loss: 1.0692 - accuracy: 0.5059 - auc_1: 0.7582 - precision_1: 0.5714 - recall_1: 0.0474 - f1_score: 0.3986 - val_loss: 0.9306 - val_accuracy: 0.4882 - val_auc_1: 0.7493 - val_precision_1: 0.9091 - val_recall_1: 0.0787 - val_f1_score: 0.3374 - 649ms/epoch - 81ms/step\n",
      "Epoch 42/50\n",
      "8/8 - 1s - loss: 1.0617 - accuracy: 0.5020 - auc_1: 0.7586 - precision_1: 0.5500 - recall_1: 0.0435 - f1_score: 0.3928 - val_loss: 0.9347 - val_accuracy: 0.4882 - val_auc_1: 0.7445 - val_precision_1: 0.9091 - val_recall_1: 0.0787 - val_f1_score: 0.3357 - 650ms/epoch - 81ms/step\n",
      "Epoch 43/50\n",
      "8/8 - 1s - loss: 1.0566 - accuracy: 0.5059 - auc_1: 0.7538 - precision_1: 0.5500 - recall_1: 0.0435 - f1_score: 0.3959 - val_loss: 0.9400 - val_accuracy: 0.4882 - val_auc_1: 0.7430 - val_precision_1: 0.9000 - val_recall_1: 0.0709 - val_f1_score: 0.3357 - 651ms/epoch - 81ms/step\n",
      "Epoch 44/50\n",
      "8/8 - 1s - loss: 1.0507 - accuracy: 0.5099 - auc_1: 0.7536 - precision_1: 0.5500 - recall_1: 0.0435 - f1_score: 0.4000 - val_loss: 0.9427 - val_accuracy: 0.4803 - val_auc_1: 0.7440 - val_precision_1: 0.9091 - val_recall_1: 0.0787 - val_f1_score: 0.3346 - 701ms/epoch - 88ms/step\n",
      "Epoch 45/50\n",
      "8/8 - 1s - loss: 1.0458 - accuracy: 0.4980 - auc_1: 0.7532 - precision_1: 0.5714 - recall_1: 0.0474 - f1_score: 0.3908 - val_loss: 0.9411 - val_accuracy: 0.4803 - val_auc_1: 0.7449 - val_precision_1: 0.8333 - val_recall_1: 0.0787 - val_f1_score: 0.3332 - 651ms/epoch - 81ms/step\n",
      "Epoch 46/50\n",
      "8/8 - 1s - loss: 1.0400 - accuracy: 0.4941 - auc_1: 0.7491 - precision_1: 0.6250 - recall_1: 0.0593 - f1_score: 0.3868 - val_loss: 0.9490 - val_accuracy: 0.4961 - val_auc_1: 0.7389 - val_precision_1: 0.7692 - val_recall_1: 0.0787 - val_f1_score: 0.3457 - 653ms/epoch - 82ms/step\n",
      "Epoch 47/50\n",
      "8/8 - 1s - loss: 1.0355 - accuracy: 0.5059 - auc_1: 0.7463 - precision_1: 0.6400 - recall_1: 0.0632 - f1_score: 0.3950 - val_loss: 0.9482 - val_accuracy: 0.4961 - val_auc_1: 0.7408 - val_precision_1: 0.8000 - val_recall_1: 0.0945 - val_f1_score: 0.3457 - 652ms/epoch - 81ms/step\n",
      "Epoch 48/50\n",
      "8/8 - 1s - loss: 1.0284 - accuracy: 0.4941 - auc_1: 0.7485 - precision_1: 0.6400 - recall_1: 0.0632 - f1_score: 0.3860 - val_loss: 0.9506 - val_accuracy: 0.4961 - val_auc_1: 0.7390 - val_precision_1: 0.6875 - val_recall_1: 0.0866 - val_f1_score: 0.3457 - 650ms/epoch - 81ms/step\n",
      "Epoch 49/50\n",
      "8/8 - 1s - loss: 1.0236 - accuracy: 0.4980 - auc_1: 0.7431 - precision_1: 0.6250 - recall_1: 0.0593 - f1_score: 0.3885 - val_loss: 0.9559 - val_accuracy: 0.4803 - val_auc_1: 0.7307 - val_precision_1: 0.6667 - val_recall_1: 0.0787 - val_f1_score: 0.3356 - 656ms/epoch - 82ms/step\n",
      "Epoch 50/50\n",
      "8/8 - 1s - loss: 1.0209 - accuracy: 0.5020 - auc_1: 0.7375 - precision_1: 0.6087 - recall_1: 0.0553 - f1_score: 0.4069 - val_loss: 0.9598 - val_accuracy: 0.4646 - val_auc_1: 0.7268 - val_precision_1: 0.7059 - val_recall_1: 0.0945 - val_f1_score: 0.3280 - 661ms/epoch - 83ms/step\n"
     ]
    },
    {
     "data": {
      "image/png": "[encoded data removed]",
      "text/plain": [
       "<Figure size 432x288 with 1 Axes>"
      ]
     },
     "metadata": {
      "needs_background": "light"
     },
     "output_type": "display_data"
    },
    {
     "name": "stdout",
     "output_type": "stream",
     "text": [
      "Epoch 1/50\n",
      "8/8 - 3s - loss: 1.0507 - accuracy: 0.5573 - auc_2: 0.7622 - precision_2: 0.5656 - recall_2: 0.5455 - f1_score: 0.2386 - val_loss: 0.9069 - val_accuracy: 0.5906 - val_auc_2: 0.7587 - val_precision_2: 0.6000 - val_recall_2: 0.5669 - val_f1_score: 0.2475 - 3s/epoch - 328ms/step\n",
      "Epoch 2/50\n",
      "8/8 - 1s - loss: 0.9775 - accuracy: 0.5613 - auc_2: 0.7736 - precision_2: 0.5769 - recall_2: 0.5336 - f1_score: 0.2603 - val_loss: 0.8888 - val_accuracy: 0.6063 - val_auc_2: 0.7634 - val_precision_2: 0.5965 - val_recall_2: 0.5354 - val_f1_score: 0.2959 - 677ms/epoch - 85ms/step\n",
      "Epoch 3/50\n",
      "8/8 - 1s - loss: 0.9267 - accuracy: 0.5731 - auc_2: 0.7850 - precision_2: 0.5896 - recall_2: 0.4941 - f1_score: 0.2981 - val_loss: 0.8837 - val_accuracy: 0.5827 - val_auc_2: 0.7649 - val_precision_2: 0.6020 - val_recall_2: 0.4646 - val_f1_score: 0.2959 - 653ms/epoch - 82ms/step\n",
      "Epoch 4/50\n",
      "8/8 - 1s - loss: 0.8885 - accuracy: 0.5652 - auc_2: 0.7978 - precision_2: 0.6064 - recall_2: 0.4506 - f1_score: 0.3250 - val_loss: 0.8877 - val_accuracy: 0.5197 - val_auc_2: 0.7474 - val_precision_2: 0.5714 - val_recall_2: 0.3780 - val_f1_score: 0.2953 - 643ms/epoch - 80ms/step\n",
      "Epoch 5/50\n",
      "8/8 - 1s - loss: 0.8658 - accuracy: 0.5731 - auc_2: 0.8067 - precision_2: 0.6341 - recall_2: 0.4111 - f1_score: 0.3503 - val_loss: 0.8902 - val_accuracy: 0.4882 - val_auc_2: 0.7363 - val_precision_2: 0.5244 - val_recall_2: 0.3386 - val_f1_score: 0.3047 - 648ms/epoch - 81ms/step\n",
      "Epoch 6/50\n",
      "8/8 - 1s - loss: 0.8569 - accuracy: 0.5731 - auc_2: 0.8084 - precision_2: 0.6516 - recall_2: 0.3992 - f1_score: 0.3676 - val_loss: 0.8908 - val_accuracy: 0.4803 - val_auc_2: 0.7317 - val_precision_2: 0.5000 - val_recall_2: 0.3386 - val_f1_score: 0.3062 - 646ms/epoch - 81ms/step\n",
      "Epoch 7/50\n",
      "8/8 - 1s - loss: 0.8486 - accuracy: 0.5652 - auc_2: 0.8094 - precision_2: 0.6566 - recall_2: 0.4308 - f1_score: 0.3643 - val_loss: 0.8920 - val_accuracy: 0.4961 - val_auc_2: 0.7307 - val_precision_2: 0.5222 - val_recall_2: 0.3701 - val_f1_score: 0.3147 - 650ms/epoch - 81ms/step\n",
      "Epoch 8/50\n",
      "8/8 - 1s - loss: 0.8432 - accuracy: 0.5850 - auc_2: 0.8082 - precision_2: 0.6353 - recall_2: 0.4269 - f1_score: 0.3743 - val_loss: 0.8905 - val_accuracy: 0.4882 - val_auc_2: 0.7298 - val_precision_2: 0.4943 - val_recall_2: 0.3386 - val_f1_score: 0.3105 - 668ms/epoch - 83ms/step\n",
      "Epoch 9/50\n",
      "8/8 - 1s - loss: 0.8337 - accuracy: 0.5771 - auc_2: 0.8107 - precision_2: 0.6286 - recall_2: 0.4348 - f1_score: 0.3699 - val_loss: 0.8822 - val_accuracy: 0.4803 - val_auc_2: 0.7308 - val_precision_2: 0.4681 - val_recall_2: 0.3465 - val_f1_score: 0.3062 - 662ms/epoch - 83ms/step\n",
      "Epoch 10/50\n",
      "8/8 - 1s - loss: 0.8265 - accuracy: 0.5731 - auc_2: 0.8137 - precision_2: 0.6393 - recall_2: 0.4625 - f1_score: 0.3676 - val_loss: 0.8746 - val_accuracy: 0.4961 - val_auc_2: 0.7318 - val_precision_2: 0.4896 - val_recall_2: 0.3701 - val_f1_score: 0.3173 - 648ms/epoch - 81ms/step\n",
      "Epoch 11/50\n",
      "8/8 - 1s - loss: 0.8184 - accuracy: 0.5731 - auc_2: 0.8111 - precision_2: 0.6264 - recall_2: 0.4506 - f1_score: 0.3676 - val_loss: 0.8747 - val_accuracy: 0.4882 - val_auc_2: 0.7303 - val_precision_2: 0.5000 - val_recall_2: 0.3858 - val_f1_score: 0.3130 - 657ms/epoch - 82ms/step\n",
      "Epoch 12/50\n",
      "8/8 - 1s - loss: 0.8120 - accuracy: 0.5810 - auc_2: 0.8112 - precision_2: 0.6229 - recall_2: 0.4308 - f1_score: 0.3732 - val_loss: 0.8769 - val_accuracy: 0.4882 - val_auc_2: 0.7296 - val_precision_2: 0.4737 - val_recall_2: 0.3543 - val_f1_score: 0.3130 - 659ms/epoch - 82ms/step\n",
      "Epoch 13/50\n",
      "8/8 - 1s - loss: 0.8059 - accuracy: 0.5850 - auc_2: 0.8125 - precision_2: 0.6292 - recall_2: 0.4427 - f1_score: 0.3776 - val_loss: 0.8793 - val_accuracy: 0.4803 - val_auc_2: 0.7275 - val_precision_2: 0.4592 - val_recall_2: 0.3543 - val_f1_score: 0.3087 - 649ms/epoch - 81ms/step\n",
      "Epoch 14/50\n",
      "8/8 - 1s - loss: 0.7992 - accuracy: 0.5968 - auc_2: 0.8129 - precision_2: 0.6292 - recall_2: 0.4427 - f1_score: 0.3891 - val_loss: 0.8772 - val_accuracy: 0.4961 - val_auc_2: 0.7264 - val_precision_2: 0.4653 - val_recall_2: 0.3701 - val_f1_score: 0.3218 - 656ms/epoch - 82ms/step\n",
      "Epoch 15/50\n",
      "8/8 - 1s - loss: 0.7964 - accuracy: 0.5889 - auc_2: 0.8120 - precision_2: 0.6292 - recall_2: 0.4427 - f1_score: 0.3874 - val_loss: 0.8772 - val_accuracy: 0.4882 - val_auc_2: 0.7264 - val_precision_2: 0.4639 - val_recall_2: 0.3543 - val_f1_score: 0.3193 - 652ms/epoch - 81ms/step\n",
      "Epoch 16/50\n",
      "8/8 - 1s - loss: 0.7891 - accuracy: 0.6047 - auc_2: 0.8119 - precision_2: 0.6286 - recall_2: 0.4348 - f1_score: 0.4000 - val_loss: 0.8766 - val_accuracy: 0.4803 - val_auc_2: 0.7239 - val_precision_2: 0.4592 - val_recall_2: 0.3543 - val_f1_score: 0.3147 - 651ms/epoch - 81ms/step\n",
      "Epoch 17/50\n",
      "8/8 - 1s - loss: 0.7906 - accuracy: 0.6126 - auc_2: 0.8128 - precision_2: 0.6286 - recall_2: 0.4348 - f1_score: 0.4075 - val_loss: 0.8765 - val_accuracy: 0.4646 - val_auc_2: 0.7222 - val_precision_2: 0.4600 - val_recall_2: 0.3622 - val_f1_score: 0.3084 - 652ms/epoch - 81ms/step\n",
      "Epoch 18/50\n",
      "8/8 - 1s - loss: 0.7785 - accuracy: 0.6126 - auc_2: 0.8148 - precision_2: 0.6215 - recall_2: 0.4348 - f1_score: 0.4074 - val_loss: 0.8795 - val_accuracy: 0.4567 - val_auc_2: 0.7205 - val_precision_2: 0.4545 - val_recall_2: 0.3543 - val_f1_score: 0.3046 - 656ms/epoch - 82ms/step\n",
      "Epoch 19/50\n",
      "8/8 - 1s - loss: 0.7765 - accuracy: 0.6047 - auc_2: 0.8146 - precision_2: 0.6163 - recall_2: 0.4190 - f1_score: 0.4035 - val_loss: 0.8847 - val_accuracy: 0.4567 - val_auc_2: 0.7163 - val_precision_2: 0.4490 - val_recall_2: 0.3465 - val_f1_score: 0.3054 - 648ms/epoch - 81ms/step\n",
      "Epoch 20/50\n",
      "8/8 - 1s - loss: 0.7705 - accuracy: 0.6126 - auc_2: 0.8155 - precision_2: 0.6127 - recall_2: 0.4190 - f1_score: 0.4089 - val_loss: 0.8866 - val_accuracy: 0.4567 - val_auc_2: 0.7136 - val_precision_2: 0.4455 - val_recall_2: 0.3543 - val_f1_score: 0.3054 - 652ms/epoch - 82ms/step\n",
      "Epoch 21/50\n",
      "8/8 - 1s - loss: 0.7662 - accuracy: 0.6047 - auc_2: 0.8168 - precision_2: 0.6185 - recall_2: 0.4229 - f1_score: 0.4039 - val_loss: 0.8896 - val_accuracy: 0.4488 - val_auc_2: 0.7112 - val_precision_2: 0.4286 - val_recall_2: 0.3307 - val_f1_score: 0.3005 - 646ms/epoch - 81ms/step\n",
      "Epoch 22/50\n",
      "8/8 - 1s - loss: 0.7628 - accuracy: 0.6087 - auc_2: 0.8164 - precision_2: 0.6102 - recall_2: 0.4269 - f1_score: 0.4065 - val_loss: 0.8912 - val_accuracy: 0.4567 - val_auc_2: 0.7096 - val_precision_2: 0.4421 - val_recall_2: 0.3307 - val_f1_score: 0.3061 - 643ms/epoch - 80ms/step\n",
      "Epoch 23/50\n",
      "8/8 - 1s - loss: 0.7590 - accuracy: 0.6008 - auc_2: 0.8161 - precision_2: 0.6057 - recall_2: 0.4190 - f1_score: 0.4013 - val_loss: 0.8929 - val_accuracy: 0.4488 - val_auc_2: 0.7080 - val_precision_2: 0.4409 - val_recall_2: 0.3228 - val_f1_score: 0.3010 - 643ms/epoch - 80ms/step\n",
      "Epoch 24/50\n",
      "8/8 - 1s - loss: 0.7578 - accuracy: 0.5929 - auc_2: 0.8145 - precision_2: 0.6228 - recall_2: 0.4111 - f1_score: 0.3960 - val_loss: 0.8947 - val_accuracy: 0.4488 - val_auc_2: 0.7068 - val_precision_2: 0.4396 - val_recall_2: 0.3150 - val_f1_score: 0.3010 - 647ms/epoch - 81ms/step\n",
      "Epoch 25/50\n",
      "8/8 - 1s - loss: 0.7544 - accuracy: 0.5968 - auc_2: 0.8128 - precision_2: 0.6061 - recall_2: 0.3953 - f1_score: 0.3987 - val_loss: 0.8934 - val_accuracy: 0.4488 - val_auc_2: 0.7075 - val_precision_2: 0.4301 - val_recall_2: 0.3150 - val_f1_score: 0.3010 - 640ms/epoch - 80ms/step\n",
      "Epoch 26/50\n",
      "8/8 - 1s - loss: 0.7463 - accuracy: 0.6047 - auc_2: 0.8122 - precision_2: 0.6048 - recall_2: 0.3992 - f1_score: 0.4039 - val_loss: 0.8929 - val_accuracy: 0.4409 - val_auc_2: 0.7082 - val_precision_2: 0.4194 - val_recall_2: 0.3071 - val_f1_score: 0.2959 - 640ms/epoch - 80ms/step\n",
      "Epoch 27/50\n",
      "8/8 - 1s - loss: 0.7436 - accuracy: 0.5771 - auc_2: 0.8085 - precision_2: 0.5988 - recall_2: 0.4071 - f1_score: 0.3854 - val_loss: 0.8930 - val_accuracy: 0.4488 - val_auc_2: 0.7079 - val_precision_2: 0.4239 - val_recall_2: 0.3071 - val_f1_score: 0.3010 - 642ms/epoch - 80ms/step\n",
      "Epoch 28/50\n",
      "8/8 - 1s - loss: 0.7406 - accuracy: 0.5731 - auc_2: 0.8075 - precision_2: 0.5954 - recall_2: 0.4071 - f1_score: 0.3827 - val_loss: 0.8892 - val_accuracy: 0.4488 - val_auc_2: 0.7091 - val_precision_2: 0.4255 - val_recall_2: 0.3150 - val_f1_score: 0.3010 - 638ms/epoch - 80ms/step\n",
      "Epoch 29/50\n",
      "8/8 - 1s - loss: 0.7364 - accuracy: 0.5929 - auc_2: 0.8100 - precision_2: 0.6012 - recall_2: 0.3992 - f1_score: 0.3960 - val_loss: 0.8825 - val_accuracy: 0.4567 - val_auc_2: 0.7123 - val_precision_2: 0.4222 - val_recall_2: 0.2992 - val_f1_score: 0.3061 - 630ms/epoch - 79ms/step\n",
      "Epoch 30/50\n",
      "8/8 - 1s - loss: 0.7322 - accuracy: 0.5889 - auc_2: 0.8128 - precision_2: 0.6059 - recall_2: 0.4071 - f1_score: 0.3930 - val_loss: 0.8720 - val_accuracy: 0.4567 - val_auc_2: 0.7183 - val_precision_2: 0.4409 - val_recall_2: 0.3228 - val_f1_score: 0.3054 - 634ms/epoch - 79ms/step\n",
      "Epoch 31/50\n",
      "8/8 - 1s - loss: 0.7278 - accuracy: 0.5731 - auc_2: 0.8051 - precision_2: 0.5810 - recall_2: 0.4111 - f1_score: 0.3825 - val_loss: 0.8674 - val_accuracy: 0.4567 - val_auc_2: 0.7188 - val_precision_2: 0.4375 - val_recall_2: 0.3307 - val_f1_score: 0.3061 - 635ms/epoch - 79ms/step\n",
      "Epoch 32/50\n",
      "8/8 - 1s - loss: 0.7251 - accuracy: 0.5692 - auc_2: 0.8045 - precision_2: 0.5769 - recall_2: 0.4150 - f1_score: 0.3797 - val_loss: 0.8654 - val_accuracy: 0.4646 - val_auc_2: 0.7214 - val_precision_2: 0.4227 - val_recall_2: 0.3228 - val_f1_score: 0.3111 - 654ms/epoch - 82ms/step\n",
      "Epoch 33/50\n",
      "8/8 - 1s - loss: 0.7196 - accuracy: 0.5652 - auc_2: 0.8045 - precision_2: 0.5847 - recall_2: 0.4229 - f1_score: 0.3770 - val_loss: 0.8639 - val_accuracy: 0.4646 - val_auc_2: 0.7225 - val_precision_2: 0.4242 - val_recall_2: 0.3307 - val_f1_score: 0.3111 - 632ms/epoch - 79ms/step\n",
      "Epoch 34/50\n",
      "8/8 - 1s - loss: 0.7180 - accuracy: 0.5692 - auc_2: 0.8050 - precision_2: 0.5792 - recall_2: 0.4190 - f1_score: 0.3795 - val_loss: 0.8655 - val_accuracy: 0.4724 - val_auc_2: 0.7207 - val_precision_2: 0.4330 - val_recall_2: 0.3307 - val_f1_score: 0.3167 - 644ms/epoch - 81ms/step\n",
      "Epoch 35/50\n",
      "8/8 - 1s - loss: 0.7141 - accuracy: 0.5731 - auc_2: 0.8060 - precision_2: 0.5866 - recall_2: 0.4150 - f1_score: 0.3823 - val_loss: 0.8696 - val_accuracy: 0.4567 - val_auc_2: 0.7201 - val_precision_2: 0.4255 - val_recall_2: 0.3150 - val_f1_score: 0.3065 - 634ms/epoch - 79ms/step\n",
      "Epoch 36/50\n",
      "8/8 - 1s - loss: 0.7112 - accuracy: 0.5692 - auc_2: 0.8050 - precision_2: 0.5829 - recall_2: 0.4032 - f1_score: 0.3797 - val_loss: 0.8705 - val_accuracy: 0.4646 - val_auc_2: 0.7193 - val_precision_2: 0.4255 - val_recall_2: 0.3150 - val_f1_score: 0.3116 - 634ms/epoch - 79ms/step\n",
      "Epoch 37/50\n",
      "8/8 - 1s - loss: 0.7084 - accuracy: 0.5652 - auc_2: 0.8068 - precision_2: 0.5886 - recall_2: 0.4071 - f1_score: 0.3772 - val_loss: 0.8674 - val_accuracy: 0.4724 - val_auc_2: 0.7208 - val_precision_2: 0.4362 - val_recall_2: 0.3228 - val_f1_score: 0.3167 - 641ms/epoch - 80ms/step\n",
      "Epoch 38/50\n",
      "8/8 - 1s - loss: 0.7042 - accuracy: 0.5731 - auc_2: 0.8072 - precision_2: 0.5922 - recall_2: 0.4190 - f1_score: 0.3823 - val_loss: 0.8689 - val_accuracy: 0.4724 - val_auc_2: 0.7233 - val_precision_2: 0.4316 - val_recall_2: 0.3228 - val_f1_score: 0.3167 - 634ms/epoch - 79ms/step\n",
      "Epoch 39/50\n",
      "8/8 - 1s - loss: 0.7027 - accuracy: 0.5613 - auc_2: 0.8073 - precision_2: 0.5956 - recall_2: 0.4308 - f1_score: 0.3746 - val_loss: 0.8701 - val_accuracy: 0.4803 - val_auc_2: 0.7213 - val_precision_2: 0.4362 - val_recall_2: 0.3228 - val_f1_score: 0.3222 - 631ms/epoch - 79ms/step\n",
      "Epoch 40/50\n",
      "8/8 - 1s - loss: 0.6984 - accuracy: 0.5573 - auc_2: 0.8071 - precision_2: 0.5909 - recall_2: 0.4111 - f1_score: 0.3720 - val_loss: 0.8713 - val_accuracy: 0.4724 - val_auc_2: 0.7196 - val_precision_2: 0.4409 - val_recall_2: 0.3228 - val_f1_score: 0.3167 - 640ms/epoch - 80ms/step\n",
      "Epoch 41/50\n",
      "8/8 - 1s - loss: 0.6968 - accuracy: 0.5692 - auc_2: 0.8076 - precision_2: 0.5943 - recall_2: 0.4111 - f1_score: 0.3793 - val_loss: 0.8701 - val_accuracy: 0.4724 - val_auc_2: 0.7186 - val_precision_2: 0.4409 - val_recall_2: 0.3228 - val_f1_score: 0.3167 - 666ms/epoch - 83ms/step\n",
      "Epoch 42/50\n",
      "8/8 - 1s - loss: 0.6936 - accuracy: 0.5731 - auc_2: 0.8089 - precision_2: 0.5989 - recall_2: 0.4190 - f1_score: 0.3825 - val_loss: 0.8738 - val_accuracy: 0.4724 - val_auc_2: 0.7189 - val_precision_2: 0.4362 - val_recall_2: 0.3228 - val_f1_score: 0.3171 - 635ms/epoch - 79ms/step\n",
      "Epoch 43/50\n",
      "8/8 - 1s - loss: 0.6891 - accuracy: 0.5771 - auc_2: 0.8083 - precision_2: 0.6022 - recall_2: 0.4308 - f1_score: 0.3852 - val_loss: 0.8728 - val_accuracy: 0.4803 - val_auc_2: 0.7219 - val_precision_2: 0.4362 - val_recall_2: 0.3228 - val_f1_score: 0.3222 - 629ms/epoch - 79ms/step\n",
      "Epoch 44/50\n",
      "8/8 - 1s - loss: 0.6870 - accuracy: 0.5613 - auc_2: 0.8094 - precision_2: 0.6034 - recall_2: 0.4269 - f1_score: 0.3746 - val_loss: 0.8732 - val_accuracy: 0.4803 - val_auc_2: 0.7228 - val_precision_2: 0.4301 - val_recall_2: 0.3150 - val_f1_score: 0.3222 - 632ms/epoch - 79ms/step\n",
      "Epoch 45/50\n",
      "8/8 - 1s - loss: 0.6841 - accuracy: 0.5652 - auc_2: 0.8089 - precision_2: 0.6127 - recall_2: 0.4190 - f1_score: 0.3773 - val_loss: 0.8730 - val_accuracy: 0.4803 - val_auc_2: 0.7226 - val_precision_2: 0.4348 - val_recall_2: 0.3150 - val_f1_score: 0.3222 - 633ms/epoch - 79ms/step\n",
      "Epoch 46/50\n",
      "8/8 - 1s - loss: 0.6809 - accuracy: 0.5573 - auc_2: 0.8099 - precision_2: 0.5943 - recall_2: 0.4111 - f1_score: 0.3717 - val_loss: 0.8740 - val_accuracy: 0.4882 - val_auc_2: 0.7195 - val_precision_2: 0.4301 - val_recall_2: 0.3150 - val_f1_score: 0.3267 - 640ms/epoch - 80ms/step\n",
      "Epoch 47/50\n",
      "8/8 - 1s - loss: 0.6775 - accuracy: 0.5810 - auc_2: 0.8107 - precision_2: 0.5955 - recall_2: 0.4190 - f1_score: 0.3874 - val_loss: 0.8755 - val_accuracy: 0.4882 - val_auc_2: 0.7162 - val_precision_2: 0.4316 - val_recall_2: 0.3228 - val_f1_score: 0.3273 - 636ms/epoch - 80ms/step\n",
      "Epoch 48/50\n",
      "8/8 - 1s - loss: 0.6759 - accuracy: 0.5771 - auc_2: 0.8111 - precision_2: 0.5902 - recall_2: 0.4269 - f1_score: 0.3854 - val_loss: 0.8783 - val_accuracy: 0.4882 - val_auc_2: 0.7152 - val_precision_2: 0.4255 - val_recall_2: 0.3150 - val_f1_score: 0.3273 - 636ms/epoch - 79ms/step\n",
      "Epoch 49/50\n",
      "8/8 - 1s - loss: 0.6710 - accuracy: 0.5731 - auc_2: 0.8142 - precision_2: 0.6099 - recall_2: 0.4387 - f1_score: 0.6036 - val_loss: 0.8766 - val_accuracy: 0.4882 - val_auc_2: 0.7197 - val_precision_2: 0.4468 - val_recall_2: 0.3307 - val_f1_score: 0.3273 - 633ms/epoch - 79ms/step\n",
      "Epoch 50/50\n",
      "8/8 - 1s - loss: 0.6742 - accuracy: 0.5810 - auc_2: 0.8157 - precision_2: 0.6133 - recall_2: 0.4387 - f1_score: 0.6091 - val_loss: 0.8749 - val_accuracy: 0.4803 - val_auc_2: 0.7210 - val_precision_2: 0.4375 - val_recall_2: 0.3307 - val_f1_score: 0.3226 - 630ms/epoch - 79ms/step\n"
     ]
    },
    {
     "data": {
      "image/png": "[encoded data removed]",
      "text/plain": [
       "<Figure size 432x288 with 1 Axes>"
      ]
     },
     "metadata": {
      "needs_background": "light"
     },
     "output_type": "display_data"
    },
    {
     "name": "stdout",
     "output_type": "stream",
     "text": [
      "Epoch 1/50\n",
      "8/8 - 3s - loss: 1.2501 - accuracy: 0.4252 - auc_3: 0.5755 - precision_3: 0.3841 - recall_3: 0.2283 - f1_score: 0.2289 - val_loss: 1.0360 - val_accuracy: 0.4762 - val_auc_3: 0.6640 - val_precision_3: 0.4416 - val_recall_3: 0.2698 - val_f1_score: 0.2528 - 3s/epoch - 378ms/step\n",
      "Epoch 2/50\n",
      "8/8 - 1s - loss: 1.1897 - accuracy: 0.4488 - auc_3: 0.6204 - precision_3: 0.3819 - recall_3: 0.2165 - f1_score: 0.2699 - val_loss: 1.0098 - val_accuracy: 0.4841 - val_auc_3: 0.6877 - val_precision_3: 0.4375 - val_recall_3: 0.2222 - val_f1_score: 0.2830 - 632ms/epoch - 79ms/step\n",
      "Epoch 3/50\n",
      "8/8 - 1s - loss: 1.1259 - accuracy: 0.4606 - auc_3: 0.6519 - precision_3: 0.3520 - recall_3: 0.1732 - f1_score: 0.2918 - val_loss: 0.9858 - val_accuracy: 0.5079 - val_auc_3: 0.7069 - val_precision_3: 0.4615 - val_recall_3: 0.1905 - val_f1_score: 0.3141 - 649ms/epoch - 81ms/step\n",
      "Epoch 4/50\n",
      "8/8 - 1s - loss: 1.1020 - accuracy: 0.4606 - auc_3: 0.6734 - precision_3: 0.3585 - recall_3: 0.1496 - f1_score: 0.2986 - val_loss: 0.9678 - val_accuracy: 0.5079 - val_auc_3: 0.7187 - val_precision_3: 0.3810 - val_recall_3: 0.1270 - val_f1_score: 0.3253 - 643ms/epoch - 80ms/step\n",
      "Epoch 5/50\n",
      "8/8 - 1s - loss: 1.0818 - accuracy: 0.4724 - auc_3: 0.6954 - precision_3: 0.3708 - recall_3: 0.1299 - f1_score: 0.3105 - val_loss: 0.9568 - val_accuracy: 0.5079 - val_auc_3: 0.7269 - val_precision_3: 0.3784 - val_recall_3: 0.1111 - val_f1_score: 0.3296 - 643ms/epoch - 80ms/step\n",
      "Epoch 6/50\n",
      "8/8 - 1s - loss: 1.0605 - accuracy: 0.4921 - auc_3: 0.7171 - precision_3: 0.4324 - recall_3: 0.1260 - f1_score: 0.3266 - val_loss: 0.9493 - val_accuracy: 0.4762 - val_auc_3: 0.7279 - val_precision_3: 0.4118 - val_recall_3: 0.1111 - val_f1_score: 0.3114 - 639ms/epoch - 80ms/step\n",
      "Epoch 7/50\n",
      "8/8 - 1s - loss: 1.0598 - accuracy: 0.4921 - auc_3: 0.7277 - precision_3: 0.4571 - recall_3: 0.1260 - f1_score: 0.3275 - val_loss: 0.9446 - val_accuracy: 0.4921 - val_auc_3: 0.7314 - val_precision_3: 0.4571 - val_recall_3: 0.1270 - val_f1_score: 0.3238 - 633ms/epoch - 79ms/step\n",
      "Epoch 8/50\n",
      "8/8 - 1s - loss: 1.0443 - accuracy: 0.5118 - auc_3: 0.7392 - precision_3: 0.4853 - recall_3: 0.1299 - f1_score: 0.3422 - val_loss: 0.9418 - val_accuracy: 0.4841 - val_auc_3: 0.7361 - val_precision_3: 0.4545 - val_recall_3: 0.1190 - val_f1_score: 0.3230 - 648ms/epoch - 81ms/step\n",
      "Epoch 9/50\n",
      "8/8 - 1s - loss: 1.0371 - accuracy: 0.5236 - auc_3: 0.7463 - precision_3: 0.4848 - recall_3: 0.1260 - f1_score: 0.3502 - val_loss: 0.9391 - val_accuracy: 0.4841 - val_auc_3: 0.7411 - val_precision_3: 0.4545 - val_recall_3: 0.1190 - val_f1_score: 0.3235 - 640ms/epoch - 80ms/step\n",
      "Epoch 10/50\n",
      "8/8 - 1s - loss: 1.0311 - accuracy: 0.5236 - auc_3: 0.7541 - precision_3: 0.4844 - recall_3: 0.1220 - f1_score: 0.3490 - val_loss: 0.9399 - val_accuracy: 0.5159 - val_auc_3: 0.7437 - val_precision_3: 0.5172 - val_recall_3: 0.1190 - val_f1_score: 0.3453 - 643ms/epoch - 80ms/step\n",
      "Epoch 11/50\n",
      "8/8 - 1s - loss: 1.0270 - accuracy: 0.5394 - auc_3: 0.7605 - precision_3: 0.4921 - recall_3: 0.1220 - f1_score: 0.3575 - val_loss: 0.9392 - val_accuracy: 0.5079 - val_auc_3: 0.7452 - val_precision_3: 0.5333 - val_recall_3: 0.1270 - val_f1_score: 0.3396 - 638ms/epoch - 80ms/step\n",
      "Epoch 12/50\n",
      "8/8 - 1s - loss: 1.0220 - accuracy: 0.5394 - auc_3: 0.7683 - precision_3: 0.4746 - recall_3: 0.1102 - f1_score: 0.3557 - val_loss: 0.9419 - val_accuracy: 0.5000 - val_auc_3: 0.7423 - val_precision_3: 0.5625 - val_recall_3: 0.1429 - val_f1_score: 0.3341 - 637ms/epoch - 80ms/step\n",
      "Epoch 13/50\n",
      "8/8 - 1s - loss: 1.0202 - accuracy: 0.5276 - auc_3: 0.7690 - precision_3: 0.4340 - recall_3: 0.0906 - f1_score: 0.3459 - val_loss: 0.9478 - val_accuracy: 0.5079 - val_auc_3: 0.7391 - val_precision_3: 0.5312 - val_recall_3: 0.1349 - val_f1_score: 0.3396 - 642ms/epoch - 80ms/step\n",
      "Epoch 14/50\n",
      "8/8 - 1s - loss: 1.0159 - accuracy: 0.5394 - auc_3: 0.7691 - precision_3: 0.4600 - recall_3: 0.0906 - f1_score: 0.3536 - val_loss: 0.9486 - val_accuracy: 0.4921 - val_auc_3: 0.7394 - val_precision_3: 0.5161 - val_recall_3: 0.1270 - val_f1_score: 0.3293 - 634ms/epoch - 79ms/step\n",
      "Epoch 15/50\n",
      "8/8 - 1s - loss: 1.0132 - accuracy: 0.5394 - auc_3: 0.7701 - precision_3: 0.4800 - recall_3: 0.0945 - f1_score: 0.3543 - val_loss: 0.9503 - val_accuracy: 0.4921 - val_auc_3: 0.7368 - val_precision_3: 0.4800 - val_recall_3: 0.0952 - val_f1_score: 0.3293 - 635ms/epoch - 79ms/step\n",
      "Epoch 16/50\n",
      "8/8 - 1s - loss: 1.0117 - accuracy: 0.5315 - auc_3: 0.7717 - precision_3: 0.5000 - recall_3: 0.0906 - f1_score: 0.3489 - val_loss: 0.9479 - val_accuracy: 0.5000 - val_auc_3: 0.7387 - val_precision_3: 0.4800 - val_recall_3: 0.0952 - val_f1_score: 0.3346 - 640ms/epoch - 80ms/step\n",
      "Epoch 17/50\n",
      "8/8 - 1s - loss: 1.0085 - accuracy: 0.5472 - auc_3: 0.7707 - precision_3: 0.4884 - recall_3: 0.0827 - f1_score: 0.3611 - val_loss: 0.9533 - val_accuracy: 0.5000 - val_auc_3: 0.7363 - val_precision_3: 0.4783 - val_recall_3: 0.0873 - val_f1_score: 0.3346 - 644ms/epoch - 81ms/step\n",
      "Epoch 18/50\n",
      "8/8 - 1s - loss: 1.0053 - accuracy: 0.5551 - auc_3: 0.7720 - precision_3: 0.4878 - recall_3: 0.0787 - f1_score: 0.3651 - val_loss: 0.9535 - val_accuracy: 0.5159 - val_auc_3: 0.7381 - val_precision_3: 0.5000 - val_recall_3: 0.0952 - val_f1_score: 0.3451 - 636ms/epoch - 79ms/step\n",
      "Epoch 19/50\n",
      "8/8 - 1s - loss: 1.0020 - accuracy: 0.5551 - auc_3: 0.7727 - precision_3: 0.4474 - recall_3: 0.0669 - f1_score: 0.3636 - val_loss: 0.9529 - val_accuracy: 0.5159 - val_auc_3: 0.7385 - val_precision_3: 0.5000 - val_recall_3: 0.0952 - val_f1_score: 0.3448 - 649ms/epoch - 81ms/step\n",
      "Epoch 20/50\n",
      "8/8 - 1s - loss: 0.9986 - accuracy: 0.5709 - auc_3: 0.7754 - precision_3: 0.4615 - recall_3: 0.0709 - f1_score: 0.3728 - val_loss: 0.9532 - val_accuracy: 0.5397 - val_auc_3: 0.7382 - val_precision_3: 0.5000 - val_recall_3: 0.0952 - val_f1_score: 0.3600 - 638ms/epoch - 80ms/step\n",
      "Epoch 21/50\n",
      "8/8 - 1s - loss: 0.9955 - accuracy: 0.5748 - auc_3: 0.7770 - precision_3: 0.5217 - recall_3: 0.0945 - f1_score: 0.3723 - val_loss: 0.9539 - val_accuracy: 0.5238 - val_auc_3: 0.7384 - val_precision_3: 0.5217 - val_recall_3: 0.0952 - val_f1_score: 0.3486 - 632ms/epoch - 79ms/step\n",
      "Epoch 22/50\n",
      "8/8 - 1s - loss: 0.9926 - accuracy: 0.5866 - auc_3: 0.7770 - precision_3: 0.5000 - recall_3: 0.0787 - f1_score: 0.5459 - val_loss: 0.9546 - val_accuracy: 0.5317 - val_auc_3: 0.7381 - val_precision_3: 0.5238 - val_recall_3: 0.0873 - val_f1_score: 0.3543 - 672ms/epoch - 84ms/step\n",
      "Epoch 23/50\n",
      "8/8 - 1s - loss: 0.9905 - accuracy: 0.5709 - auc_3: 0.7770 - precision_3: 0.4722 - recall_3: 0.0669 - f1_score: 0.5377 - val_loss: 0.9576 - val_accuracy: 0.5079 - val_auc_3: 0.7376 - val_precision_3: 0.5238 - val_recall_3: 0.0873 - val_f1_score: 0.3396 - 657ms/epoch - 82ms/step\n",
      "Epoch 24/50\n",
      "8/8 - 1s - loss: 0.9877 - accuracy: 0.5669 - auc_3: 0.7763 - precision_3: 0.4737 - recall_3: 0.0709 - f1_score: 0.5029 - val_loss: 0.9590 - val_accuracy: 0.5317 - val_auc_3: 0.7352 - val_precision_3: 0.5238 - val_recall_3: 0.0873 - val_f1_score: 0.3550 - 630ms/epoch - 79ms/step\n",
      "Epoch 25/50\n",
      "8/8 - 1s - loss: 0.9854 - accuracy: 0.5748 - auc_3: 0.7778 - precision_3: 0.4737 - recall_3: 0.0709 - f1_score: 0.4860 - val_loss: 0.9593 - val_accuracy: 0.5317 - val_auc_3: 0.7352 - val_precision_3: 0.5238 - val_recall_3: 0.0873 - val_f1_score: 0.3543 - 700ms/epoch - 87ms/step\n",
      "Epoch 26/50\n",
      "8/8 - 1s - loss: 0.9827 - accuracy: 0.5709 - auc_3: 0.7782 - precision_3: 0.4722 - recall_3: 0.0669 - f1_score: 0.4846 - val_loss: 0.9607 - val_accuracy: 0.5317 - val_auc_3: 0.7356 - val_precision_3: 0.5238 - val_recall_3: 0.0873 - val_f1_score: 0.3550 - 693ms/epoch - 87ms/step\n",
      "Epoch 27/50\n",
      "8/8 - 1s - loss: 0.9814 - accuracy: 0.5630 - auc_3: 0.7761 - precision_3: 0.4688 - recall_3: 0.0591 - f1_score: 0.4807 - val_loss: 0.9641 - val_accuracy: 0.5079 - val_auc_3: 0.7350 - val_precision_3: 0.5000 - val_recall_3: 0.0794 - val_f1_score: 0.3396 - 715ms/epoch - 89ms/step\n",
      "Epoch 28/50\n",
      "8/8 - 1s - loss: 0.9792 - accuracy: 0.5591 - auc_3: 0.7773 - precision_3: 0.4857 - recall_3: 0.0669 - f1_score: 0.4784 - val_loss: 0.9628 - val_accuracy: 0.5238 - val_auc_3: 0.7335 - val_precision_3: 0.5238 - val_recall_3: 0.0873 - val_f1_score: 0.3499 - 645ms/epoch - 81ms/step\n",
      "Epoch 29/50\n",
      "8/8 - 1s - loss: 0.9754 - accuracy: 0.5827 - auc_3: 0.7794 - precision_3: 0.5000 - recall_3: 0.0748 - f1_score: 0.4906 - val_loss: 0.9629 - val_accuracy: 0.5238 - val_auc_3: 0.7342 - val_precision_3: 0.5238 - val_recall_3: 0.0873 - val_f1_score: 0.3486 - 650ms/epoch - 81ms/step\n",
      "Epoch 30/50\n",
      "8/8 - 1s - loss: 0.9761 - accuracy: 0.5866 - auc_3: 0.7802 - precision_3: 0.4412 - recall_3: 0.0591 - f1_score: 0.4919 - val_loss: 0.9664 - val_accuracy: 0.5238 - val_auc_3: 0.7335 - val_precision_3: 0.5238 - val_recall_3: 0.0873 - val_f1_score: 0.3486 - 665ms/epoch - 83ms/step\n",
      "Epoch 31/50\n",
      "8/8 - 1s - loss: 0.9724 - accuracy: 0.5827 - auc_3: 0.7780 - precision_3: 0.4706 - recall_3: 0.0630 - f1_score: 0.4915 - val_loss: 0.9681 - val_accuracy: 0.5238 - val_auc_3: 0.7320 - val_precision_3: 0.5000 - val_recall_3: 0.0794 - val_f1_score: 0.3486 - 646ms/epoch - 81ms/step\n",
      "Epoch 32/50\n",
      "8/8 - 1s - loss: 0.9689 - accuracy: 0.5866 - auc_3: 0.7765 - precision_3: 0.4872 - recall_3: 0.0748 - f1_score: 0.4938 - val_loss: 0.9677 - val_accuracy: 0.5238 - val_auc_3: 0.7314 - val_precision_3: 0.4762 - val_recall_3: 0.0794 - val_f1_score: 0.3493 - 642ms/epoch - 80ms/step\n",
      "Epoch 33/50\n",
      "8/8 - 1s - loss: 0.9677 - accuracy: 0.5709 - auc_3: 0.7769 - precision_3: 0.5122 - recall_3: 0.0827 - f1_score: 0.4846 - val_loss: 0.9659 - val_accuracy: 0.5238 - val_auc_3: 0.7329 - val_precision_3: 0.5000 - val_recall_3: 0.0873 - val_f1_score: 0.3493 - 640ms/epoch - 80ms/step\n",
      "Epoch 34/50\n",
      "8/8 - 1s - loss: 0.9667 - accuracy: 0.5748 - auc_3: 0.7780 - precision_3: 0.5000 - recall_3: 0.0748 - f1_score: 0.4877 - val_loss: 0.9706 - val_accuracy: 0.5397 - val_auc_3: 0.7313 - val_precision_3: 0.5238 - val_recall_3: 0.0873 - val_f1_score: 0.3593 - 640ms/epoch - 80ms/step\n",
      "Epoch 35/50\n",
      "8/8 - 1s - loss: 0.9634 - accuracy: 0.5748 - auc_3: 0.7770 - precision_3: 0.5000 - recall_3: 0.0709 - f1_score: 0.4869 - val_loss: 0.9725 - val_accuracy: 0.5159 - val_auc_3: 0.7283 - val_precision_3: 0.5000 - val_recall_3: 0.0873 - val_f1_score: 0.3448 - 709ms/epoch - 89ms/step\n",
      "Epoch 36/50\n",
      "8/8 - 1s - loss: 0.9612 - accuracy: 0.5669 - auc_3: 0.7751 - precision_3: 0.4706 - recall_3: 0.0630 - f1_score: 0.4831 - val_loss: 0.9724 - val_accuracy: 0.5159 - val_auc_3: 0.7271 - val_precision_3: 0.5000 - val_recall_3: 0.0873 - val_f1_score: 0.3448 - 663ms/epoch - 83ms/step\n",
      "Epoch 37/50\n",
      "8/8 - 1s - loss: 0.9584 - accuracy: 0.5709 - auc_3: 0.7755 - precision_3: 0.4865 - recall_3: 0.0709 - f1_score: 0.4854 - val_loss: 0.9725 - val_accuracy: 0.5238 - val_auc_3: 0.7273 - val_precision_3: 0.4762 - val_recall_3: 0.0794 - val_f1_score: 0.3493 - 639ms/epoch - 80ms/step\n",
      "Epoch 38/50\n",
      "8/8 - 1s - loss: 0.9578 - accuracy: 0.5709 - auc_3: 0.7763 - precision_3: 0.5116 - recall_3: 0.0866 - f1_score: 0.4846 - val_loss: 0.9705 - val_accuracy: 0.5159 - val_auc_3: 0.7287 - val_precision_3: 0.5000 - val_recall_3: 0.0873 - val_f1_score: 0.3436 - 666ms/epoch - 83ms/step\n",
      "Epoch 39/50\n",
      "8/8 - 1s - loss: 0.9543 - accuracy: 0.5748 - auc_3: 0.7789 - precision_3: 0.5000 - recall_3: 0.0709 - f1_score: 0.4860 - val_loss: 0.9723 - val_accuracy: 0.5238 - val_auc_3: 0.7289 - val_precision_3: 0.4762 - val_recall_3: 0.0794 - val_f1_score: 0.3486 - 681ms/epoch - 85ms/step\n",
      "Epoch 40/50\n",
      "8/8 - 1s - loss: 0.9532 - accuracy: 0.5787 - auc_3: 0.7773 - precision_3: 0.5000 - recall_3: 0.0669 - f1_score: 0.4892 - val_loss: 0.9739 - val_accuracy: 0.5238 - val_auc_3: 0.7276 - val_precision_3: 0.4762 - val_recall_3: 0.0794 - val_f1_score: 0.3486 - 731ms/epoch - 91ms/step\n",
      "Epoch 41/50\n",
      "8/8 - 1s - loss: 0.9494 - accuracy: 0.5748 - auc_3: 0.7786 - precision_3: 0.5250 - recall_3: 0.0827 - f1_score: 0.4860 - val_loss: 0.9710 - val_accuracy: 0.5079 - val_auc_3: 0.7268 - val_precision_3: 0.4762 - val_recall_3: 0.0794 - val_f1_score: 0.3370 - 657ms/epoch - 82ms/step\n",
      "Epoch 42/50\n",
      "8/8 - 1s - loss: 0.9455 - accuracy: 0.5669 - auc_3: 0.7813 - precision_3: 0.6000 - recall_3: 0.0945 - f1_score: 0.5010 - val_loss: 0.9638 - val_accuracy: 0.5317 - val_auc_3: 0.7351 - val_precision_3: 0.6000 - val_recall_3: 0.0952 - val_f1_score: 0.3526 - 658ms/epoch - 82ms/step\n",
      "Epoch 43/50\n",
      "8/8 - 1s - loss: 0.9561 - accuracy: 0.5984 - auc_3: 0.7830 - precision_3: 0.5581 - recall_3: 0.0945 - f1_score: 0.5516 - val_loss: 0.9561 - val_accuracy: 0.5317 - val_auc_3: 0.7353 - val_precision_3: 0.5417 - val_recall_3: 0.1032 - val_f1_score: 0.3501 - 678ms/epoch - 85ms/step\n",
      "Epoch 44/50\n",
      "8/8 - 1s - loss: 0.9521 - accuracy: 0.5866 - auc_3: 0.7862 - precision_3: 0.5957 - recall_3: 0.1102 - f1_score: 0.5416 - val_loss: 0.9534 - val_accuracy: 0.5317 - val_auc_3: 0.7360 - val_precision_3: 0.5000 - val_recall_3: 0.1032 - val_f1_score: 0.3486 - 638ms/epoch - 80ms/step\n",
      "Epoch 45/50\n",
      "8/8 - 1s - loss: 0.9493 - accuracy: 0.5906 - auc_3: 0.7867 - precision_3: 0.5745 - recall_3: 0.1063 - f1_score: 0.5135 - val_loss: 0.9514 - val_accuracy: 0.5397 - val_auc_3: 0.7374 - val_precision_3: 0.5000 - val_recall_3: 0.1032 - val_f1_score: 0.3574 - 682ms/epoch - 85ms/step\n",
      "Epoch 46/50\n",
      "8/8 - 1s - loss: 0.9421 - accuracy: 0.5827 - auc_3: 0.7862 - precision_3: 0.5625 - recall_3: 0.1063 - f1_score: 0.4829 - val_loss: 0.9558 - val_accuracy: 0.5079 - val_auc_3: 0.7304 - val_precision_3: 0.4828 - val_recall_3: 0.1111 - val_f1_score: 0.3315 - 657ms/epoch - 82ms/step\n",
      "Epoch 47/50\n",
      "8/8 - 1s - loss: 0.9361 - accuracy: 0.5945 - auc_3: 0.7884 - precision_3: 0.5965 - recall_3: 0.1339 - f1_score: 0.5662 - val_loss: 0.9482 - val_accuracy: 0.4921 - val_auc_3: 0.7375 - val_precision_3: 0.5312 - val_recall_3: 0.1349 - val_f1_score: 0.3238 - 643ms/epoch - 80ms/step\n",
      "Epoch 48/50\n",
      "8/8 - 1s - loss: 0.9359 - accuracy: 0.5709 - auc_3: 0.7918 - precision_3: 0.5862 - recall_3: 0.1339 - f1_score: 0.5475 - val_loss: 0.9433 - val_accuracy: 0.4841 - val_auc_3: 0.7403 - val_precision_3: 0.5455 - val_recall_3: 0.1429 - val_f1_score: 0.3176 - 666ms/epoch - 83ms/step\n",
      "Epoch 49/50\n",
      "8/8 - 1s - loss: 0.9319 - accuracy: 0.5709 - auc_3: 0.7899 - precision_3: 0.5818 - recall_3: 0.1260 - f1_score: 0.5517 - val_loss: 0.9470 - val_accuracy: 0.5079 - val_auc_3: 0.7395 - val_precision_3: 0.5806 - val_recall_3: 0.1429 - val_f1_score: 0.3346 - 685ms/epoch - 86ms/step\n",
      "Epoch 50/50\n",
      "8/8 - 1s - loss: 0.9276 - accuracy: 0.5512 - auc_3: 0.7883 - precision_3: 0.5849 - recall_3: 0.1220 - f1_score: 0.5212 - val_loss: 0.9497 - val_accuracy: 0.5000 - val_auc_3: 0.7374 - val_precision_3: 0.6000 - val_recall_3: 0.1429 - val_f1_score: 0.3311 - 762ms/epoch - 95ms/step\n"
     ]
    },
    {
     "data": {
      "image/png": "[encoded data removed]",
      "text/plain": [
       "<Figure size 432x288 with 1 Axes>"
      ]
     },
     "metadata": {
      "needs_background": "light"
     },
     "output_type": "display_data"
    }
   ],
   "source": [
    "for train_index, val_index in kf.split(X):\n",
    "    X_train, X_val = X[train_index], X[val_index]\n",
    "    y_train, y_val = y[train_index], y[val_index]\n",
    "    baseline_body_model = Baseline(n_features, n_length, n_outputs)\n",
    "    history = baseline_body_model.train(X_train, y_train, X_val, y_val, epochs, batch_size, d_class_weights)\n",
    "    plt.plot(history.history['loss'])\n",
    "    plt.show()"
   ]
  },
  {
   "cell_type": "markdown",
   "metadata": {},
   "source": [
    "#### Prediction on holdout set"
   ]
  },
  {
   "cell_type": "code",
   "execution_count": 9,
   "metadata": {},
   "outputs": [
    {
     "name": "stdout",
     "output_type": "stream",
     "text": [
      "Accuracy: 51.91% \n",
      "Balanced Accuracy: 26.12% \n",
      "ROC/AUC: 0.78 \n",
      "Precision: 0.62 \n",
      "Recall: 0.12 \n",
      "F1 score: 0.27\n"
     ]
    }
   ],
   "source": [
    "y_pred = baseline_body_model.predict(X_test)\n",
    "_, acc, auc, precision, recall, f1 = baseline_body_model.evaluate(X_test, y_test)\n",
    "results.append(round(auc, 2))\n",
    "bal_acc = balanced_accuracy_score(y_test.argmax(axis=1), y_pred.argmax(axis=1)) \n",
    "print('Accuracy: {:.2f}% \\nBalanced Accuracy: {:.2f}% \\nROC/AUC: {:.2f} \\nPrecision: {:.2f} \\nRecall: {:.2f} \\nF1 score: {:.2f}'.format(acc * 100, bal_acc * 100, auc, precision, recall, f1))"
   ]
  },
  {
   "cell_type": "markdown",
   "metadata": {},
   "source": [
    "## 2. Unimodal Face Modality (Action Units + Head Pose)"
   ]
  },
  {
   "cell_type": "markdown",
   "metadata": {},
   "source": [
    "### Dataset"
   ]
  },
  {
   "cell_type": "code",
   "execution_count": 10,
   "metadata": {},
   "outputs": [
    {
     "name": "stdout",
     "output_type": "stream",
     "text": [
      "(366, 350, 25) (366, 3)\n",
      "(231, 350, 25) (231, 3)\n"
     ]
    }
   ],
   "source": [
    "X_train, X_test, y_train, y_test = load_dataset('AUs', level=True, nopain=False)\n",
    "X_train = X_train.reshape(X_train.shape[0], X_train.shape[2], X_train.shape[3])\n",
    "X_test = X_test.reshape(X_test.shape[0], X_test.shape[2], X_test.shape[3])\n",
    "X = X_train.copy()\n",
    "y = y_train.copy()\n",
    "\n",
    "print(X_train.shape, y_train.shape)\n",
    "print(X_test.shape, y_test.shape)\n",
    "\n",
    "n_length, n_features, n_outputs = X_train.shape[1], X_train.shape[-1], y_train.shape[1]"
   ]
  },
  {
   "cell_type": "code",
   "execution_count": 11,
   "metadata": {},
   "outputs": [
    {
     "data": {
      "text/plain": [
       "Mild        211\n",
       "Moderate    152\n",
       "Severe        3\n",
       "dtype: int64"
      ]
     },
     "execution_count": 11,
     "metadata": {},
     "output_type": "execute_result"
    }
   ],
   "source": [
    "classes = get_class_names('AUs', level=True, nopain=False)\n",
    "tmp = pd.DataFrame(classes)\n",
    "classes = tmp.value_counts()\n",
    "classes"
   ]
  },
  {
   "cell_type": "code",
   "execution_count": 12,
   "metadata": {},
   "outputs": [
    {
     "data": {
      "text/plain": [
       "{0: 0.5781990521327014, 1: 0.8026315789473685, 2: 40.666666666666664}"
      ]
     },
     "execution_count": 12,
     "metadata": {},
     "output_type": "execute_result"
    }
   ],
   "source": [
    "y_integers = np.argmax(y_train, axis=1)\n",
    "class_weights = compute_class_weight(class_weight='balanced', classes=np.unique(y_integers), y=y_integers)\n",
    "d_class_weights = dict(enumerate(class_weights))\n",
    "d_class_weights"
   ]
  },
  {
   "cell_type": "code",
   "execution_count": 13,
   "metadata": {},
   "outputs": [
    {
     "name": "stdout",
     "output_type": "stream",
     "text": [
      "Model: \"model_4\"\n",
      "_________________________________________________________________\n",
      " Layer (type)                Output Shape              Param #   \n",
      "=================================================================\n",
      " input_5 (InputLayer)        [(None, 350, 25)]         0         \n",
      "                                                                 \n",
      " lstm_4 (LSTM)               (None, 50)                15200     \n",
      "                                                                 \n",
      " dense_8 (Dense)             (None, 50)                2550      \n",
      "                                                                 \n",
      " dense_9 (Dense)             (None, 3)                 153       \n",
      "                                                                 \n",
      "=================================================================\n",
      "Total params: 17,903\n",
      "Trainable params: 17,903\n",
      "Non-trainable params: 0\n",
      "_________________________________________________________________\n"
     ]
    }
   ],
   "source": [
    "model = Baseline(n_features, n_length, n_outputs)\n",
    "model.summary()"
   ]
  },
  {
   "cell_type": "markdown",
   "metadata": {},
   "source": [
    "### Baseline Model"
   ]
  },
  {
   "cell_type": "code",
   "execution_count": 14,
   "metadata": {},
   "outputs": [
    {
     "name": "stdout",
     "output_type": "stream",
     "text": [
      "Epoch 1/50\n",
      "8/8 - 3s - loss: 1.3428 - accuracy: 0.3975 - auc_5: 0.4399 - precision_5: 0.3925 - recall_5: 0.1721 - f1_score: 0.2063 - val_loss: 1.2857 - val_accuracy: 0.3525 - val_auc_5: 0.3928 - val_precision_5: 0.4032 - val_recall_5: 0.2049 - val_f1_score: 0.1988 - 3s/epoch - 427ms/step\n",
      "Epoch 2/50\n",
      "8/8 - 1s - loss: 1.3285 - accuracy: 0.4057 - auc_5: 0.4434 - precision_5: 0.3981 - recall_5: 0.1762 - f1_score: 0.2154 - val_loss: 1.2760 - val_accuracy: 0.3607 - val_auc_5: 0.3820 - val_precision_5: 0.4098 - val_recall_5: 0.2049 - val_f1_score: 0.2065 - 789ms/epoch - 99ms/step\n",
      "Epoch 3/50\n",
      "8/8 - 1s - loss: 1.3199 - accuracy: 0.4098 - auc_5: 0.4389 - precision_5: 0.4000 - recall_5: 0.1721 - f1_score: 0.2204 - val_loss: 1.2701 - val_accuracy: 0.3607 - val_auc_5: 0.3742 - val_precision_5: 0.3929 - val_recall_5: 0.1803 - val_f1_score: 0.2065 - 739ms/epoch - 92ms/step\n",
      "Epoch 4/50\n",
      "8/8 - 1s - loss: 1.3063 - accuracy: 0.4098 - auc_5: 0.4383 - precision_5: 0.4681 - recall_5: 0.0902 - f1_score: 0.2210 - val_loss: 1.2620 - val_accuracy: 0.3607 - val_auc_5: 0.3737 - val_precision_5: 0.5000 - val_recall_5: 0.0328 - val_f1_score: 0.2065 - 676ms/epoch - 85ms/step\n",
      "Epoch 5/50\n",
      "8/8 - 1s - loss: 1.2961 - accuracy: 0.4098 - auc_5: 0.4385 - precision_5: 0.7000 - recall_5: 0.0287 - f1_score: 0.2216 - val_loss: 1.2525 - val_accuracy: 0.3607 - val_auc_5: 0.3764 - val_precision_5: 0.0000e+00 - val_recall_5: 0.0000e+00 - val_f1_score: 0.2065 - 693ms/epoch - 87ms/step\n",
      "Epoch 6/50\n",
      "8/8 - 1s - loss: 1.2872 - accuracy: 0.4139 - auc_5: 0.4404 - precision_5: 0.0000e+00 - recall_5: 0.0000e+00 - f1_score: 0.2278 - val_loss: 1.2464 - val_accuracy: 0.3361 - val_auc_5: 0.3736 - val_precision_5: 0.0000e+00 - val_recall_5: 0.0000e+00 - val_f1_score: 0.2050 - 687ms/epoch - 86ms/step\n",
      "Epoch 7/50\n",
      "8/8 - 1s - loss: 1.2797 - accuracy: 0.3607 - auc_5: 0.4367 - precision_5: 0.0000e+00 - recall_5: 0.0000e+00 - f1_score: 0.2339 - val_loss: 1.2393 - val_accuracy: 0.3279 - val_auc_5: 0.3758 - val_precision_5: 0.0000e+00 - val_recall_5: 0.0000e+00 - val_f1_score: 0.2061 - 690ms/epoch - 86ms/step\n",
      "Epoch 8/50\n",
      "8/8 - 1s - loss: 1.2705 - accuracy: 0.3525 - auc_5: 0.4345 - precision_5: 0.0000e+00 - recall_5: 0.0000e+00 - f1_score: 0.2317 - val_loss: 1.2321 - val_accuracy: 0.3033 - val_auc_5: 0.3758 - val_precision_5: 0.0000e+00 - val_recall_5: 0.0000e+00 - val_f1_score: 0.2073 - 709ms/epoch - 89ms/step\n",
      "Epoch 9/50\n",
      "8/8 - 1s - loss: 1.2635 - accuracy: 0.3115 - auc_5: 0.4337 - precision_5: 0.0000e+00 - recall_5: 0.0000e+00 - f1_score: 0.2238 - val_loss: 1.2280 - val_accuracy: 0.3115 - val_auc_5: 0.3844 - val_precision_5: 0.0000e+00 - val_recall_5: 0.0000e+00 - val_f1_score: 0.2099 - 735ms/epoch - 92ms/step\n",
      "Epoch 10/50\n",
      "8/8 - 1s - loss: 1.2856 - accuracy: 0.3115 - auc_5: 0.4319 - precision_5: 0.0000e+00 - recall_5: 0.0000e+00 - f1_score: 0.2198 - val_loss: 1.2251 - val_accuracy: 0.3197 - val_auc_5: 0.3764 - val_precision_5: 0.0000e+00 - val_recall_5: 0.0000e+00 - val_f1_score: 0.2229 - 746ms/epoch - 93ms/step\n",
      "Epoch 11/50\n",
      "8/8 - 1s - loss: 1.2779 - accuracy: 0.3238 - auc_5: 0.4301 - precision_5: 0.0000e+00 - recall_5: 0.0000e+00 - f1_score: 0.2342 - val_loss: 1.2206 - val_accuracy: 0.3279 - val_auc_5: 0.3718 - val_precision_5: 0.0000e+00 - val_recall_5: 0.0000e+00 - val_f1_score: 0.2268 - 737ms/epoch - 92ms/step\n",
      "Epoch 12/50\n",
      "8/8 - 1s - loss: 1.2744 - accuracy: 0.3238 - auc_5: 0.4197 - precision_5: 0.0000e+00 - recall_5: 0.0000e+00 - f1_score: 0.2342 - val_loss: 1.2185 - val_accuracy: 0.3279 - val_auc_5: 0.3699 - val_precision_5: 0.0000e+00 - val_recall_5: 0.0000e+00 - val_f1_score: 0.2268 - 750ms/epoch - 94ms/step\n",
      "Epoch 13/50\n",
      "8/8 - 1s - loss: 1.2698 - accuracy: 0.3320 - auc_5: 0.4160 - precision_5: 0.0000e+00 - recall_5: 0.0000e+00 - f1_score: 0.2383 - val_loss: 1.2149 - val_accuracy: 0.3279 - val_auc_5: 0.3744 - val_precision_5: 0.0000e+00 - val_recall_5: 0.0000e+00 - val_f1_score: 0.2228 - 697ms/epoch - 87ms/step\n",
      "Epoch 14/50\n",
      "8/8 - 1s - loss: 1.2645 - accuracy: 0.3361 - auc_5: 0.4201 - precision_5: 0.0000e+00 - recall_5: 0.0000e+00 - f1_score: 0.2403 - val_loss: 1.2180 - val_accuracy: 0.3279 - val_auc_5: 0.3711 - val_precision_5: 0.7500 - val_recall_5: 0.0246 - val_f1_score: 0.2241 - 734ms/epoch - 92ms/step\n",
      "Epoch 15/50\n",
      "8/8 - 1s - loss: 1.2607 - accuracy: 0.3443 - auc_5: 0.4173 - precision_5: 0.6000 - recall_5: 0.0123 - f1_score: 0.2453 - val_loss: 1.2178 - val_accuracy: 0.3361 - val_auc_5: 0.3660 - val_precision_5: 0.7500 - val_recall_5: 0.0246 - val_f1_score: 0.2348 - 736ms/epoch - 92ms/step\n",
      "Epoch 16/50\n",
      "8/8 - 1s - loss: 1.2567 - accuracy: 0.3525 - auc_5: 0.4163 - precision_5: 0.6000 - recall_5: 0.0123 - f1_score: 0.2492 - val_loss: 1.2188 - val_accuracy: 0.3361 - val_auc_5: 0.3555 - val_precision_5: 0.6667 - val_recall_5: 0.0328 - val_f1_score: 0.2348 - 750ms/epoch - 94ms/step\n",
      "Epoch 17/50\n",
      "8/8 - 1s - loss: 1.2535 - accuracy: 0.3443 - auc_5: 0.4091 - precision_5: 0.7500 - recall_5: 0.0246 - f1_score: 0.2425 - val_loss: 1.2183 - val_accuracy: 0.3361 - val_auc_5: 0.3532 - val_precision_5: 0.6667 - val_recall_5: 0.0328 - val_f1_score: 0.2312 - 728ms/epoch - 91ms/step\n",
      "Epoch 18/50\n",
      "8/8 - 1s - loss: 1.2508 - accuracy: 0.3484 - auc_5: 0.4078 - precision_5: 0.7500 - recall_5: 0.0246 - f1_score: 0.2473 - val_loss: 1.2148 - val_accuracy: 0.3361 - val_auc_5: 0.3507 - val_precision_5: 0.6667 - val_recall_5: 0.0328 - val_f1_score: 0.2341 - 720ms/epoch - 90ms/step\n",
      "Epoch 19/50\n",
      "8/8 - 1s - loss: 1.2488 - accuracy: 0.2664 - auc_5: 0.3801 - precision_5: 0.7500 - recall_5: 0.0246 - f1_score: 0.2186 - val_loss: 1.2171 - val_accuracy: 0.1393 - val_auc_5: 0.3137 - val_precision_5: 0.6667 - val_recall_5: 0.0328 - val_f1_score: 0.1502 - 716ms/epoch - 89ms/step\n",
      "Epoch 20/50\n",
      "8/8 - 1s - loss: 1.2461 - accuracy: 0.1352 - auc_5: 0.3443 - precision_5: 0.7500 - recall_5: 0.0246 - f1_score: 0.1493 - val_loss: 1.2167 - val_accuracy: 0.1393 - val_auc_5: 0.2923 - val_precision_5: 0.6667 - val_recall_5: 0.0328 - val_f1_score: 0.1528 - 724ms/epoch - 90ms/step\n",
      "Epoch 21/50\n",
      "8/8 - 1s - loss: 1.2442 - accuracy: 0.1148 - auc_5: 0.3331 - precision_5: 0.7500 - recall_5: 0.0246 - f1_score: 0.1268 - val_loss: 1.2192 - val_accuracy: 0.0902 - val_auc_5: 0.2806 - val_precision_5: 0.6667 - val_recall_5: 0.0328 - val_f1_score: 0.0877 - 749ms/epoch - 94ms/step\n",
      "Epoch 22/50\n",
      "8/8 - 1s - loss: 1.2432 - accuracy: 0.0861 - auc_5: 0.3212 - precision_5: 0.7500 - recall_5: 0.0246 - f1_score: 0.0896 - val_loss: 1.2183 - val_accuracy: 0.0820 - val_auc_5: 0.2786 - val_precision_5: 0.6667 - val_recall_5: 0.0328 - val_f1_score: 0.0741 - 723ms/epoch - 90ms/step\n",
      "Epoch 23/50\n",
      "8/8 - 1s - loss: 1.2416 - accuracy: 0.0943 - auc_5: 0.3229 - precision_5: 0.7500 - recall_5: 0.0246 - f1_score: 0.0949 - val_loss: 1.2154 - val_accuracy: 0.0820 - val_auc_5: 0.2868 - val_precision_5: 0.6667 - val_recall_5: 0.0328 - val_f1_score: 0.0741 - 710ms/epoch - 89ms/step\n",
      "Epoch 24/50\n",
      "8/8 - 1s - loss: 1.2388 - accuracy: 0.0943 - auc_5: 0.3280 - precision_5: 0.7500 - recall_5: 0.0246 - f1_score: 0.0949 - val_loss: 1.2158 - val_accuracy: 0.0902 - val_auc_5: 0.2866 - val_precision_5: 0.6667 - val_recall_5: 0.0328 - val_f1_score: 0.0877 - 727ms/epoch - 91ms/step\n",
      "Epoch 25/50\n",
      "8/8 - 1s - loss: 1.2375 - accuracy: 0.0943 - auc_5: 0.3313 - precision_5: 0.7500 - recall_5: 0.0246 - f1_score: 0.0949 - val_loss: 1.2165 - val_accuracy: 0.0820 - val_auc_5: 0.2887 - val_precision_5: 0.6667 - val_recall_5: 0.0328 - val_f1_score: 0.0741 - 710ms/epoch - 89ms/step\n",
      "Epoch 26/50\n",
      "8/8 - 1s - loss: 1.2366 - accuracy: 0.0943 - auc_5: 0.3305 - precision_5: 0.7500 - recall_5: 0.0246 - f1_score: 0.0949 - val_loss: 1.2130 - val_accuracy: 0.0902 - val_auc_5: 0.2908 - val_precision_5: 0.6667 - val_recall_5: 0.0328 - val_f1_score: 0.0806 - 693ms/epoch - 87ms/step\n",
      "Epoch 27/50\n",
      "8/8 - 1s - loss: 1.2359 - accuracy: 0.1025 - auc_5: 0.3323 - precision_5: 0.7500 - recall_5: 0.0246 - f1_score: 0.1018 - val_loss: 1.2135 - val_accuracy: 0.0902 - val_auc_5: 0.2925 - val_precision_5: 0.6667 - val_recall_5: 0.0328 - val_f1_score: 0.0806 - 717ms/epoch - 90ms/step\n",
      "Epoch 28/50\n",
      "8/8 - 1s - loss: 1.2362 - accuracy: 0.1025 - auc_5: 0.3334 - precision_5: 0.7500 - recall_5: 0.0246 - f1_score: 0.1018 - val_loss: 1.2177 - val_accuracy: 0.0902 - val_auc_5: 0.2918 - val_precision_5: 0.6667 - val_recall_5: 0.0328 - val_f1_score: 0.0806 - 732ms/epoch - 92ms/step\n",
      "Epoch 29/50\n",
      "8/8 - 1s - loss: 1.2337 - accuracy: 0.1066 - auc_5: 0.3336 - precision_5: 0.7500 - recall_5: 0.0246 - f1_score: 0.1054 - val_loss: 1.2171 - val_accuracy: 0.0902 - val_auc_5: 0.2929 - val_precision_5: 0.6667 - val_recall_5: 0.0328 - val_f1_score: 0.0806 - 700ms/epoch - 87ms/step\n",
      "Epoch 30/50\n",
      "8/8 - 1s - loss: 1.2333 - accuracy: 0.1066 - auc_5: 0.3356 - precision_5: 0.7500 - recall_5: 0.0246 - f1_score: 0.1054 - val_loss: 1.2157 - val_accuracy: 0.0902 - val_auc_5: 0.2920 - val_precision_5: 0.6667 - val_recall_5: 0.0328 - val_f1_score: 0.0806 - 718ms/epoch - 90ms/step\n",
      "Epoch 31/50\n",
      "8/8 - 1s - loss: 1.2319 - accuracy: 0.1066 - auc_5: 0.3361 - precision_5: 0.7500 - recall_5: 0.0246 - f1_score: 0.1054 - val_loss: 1.2176 - val_accuracy: 0.0902 - val_auc_5: 0.2908 - val_precision_5: 0.6667 - val_recall_5: 0.0328 - val_f1_score: 0.0806 - 803ms/epoch - 100ms/step\n",
      "Epoch 32/50\n",
      "8/8 - 1s - loss: 1.2318 - accuracy: 0.1066 - auc_5: 0.3342 - precision_5: 0.7500 - recall_5: 0.0246 - f1_score: 0.1054 - val_loss: 1.2216 - val_accuracy: 0.0902 - val_auc_5: 0.2917 - val_precision_5: 0.6667 - val_recall_5: 0.0328 - val_f1_score: 0.0806 - 794ms/epoch - 99ms/step\n",
      "Epoch 33/50\n",
      "8/8 - 1s - loss: 1.2312 - accuracy: 0.1066 - auc_5: 0.3370 - precision_5: 0.7500 - recall_5: 0.0246 - f1_score: 0.1054 - val_loss: 1.2244 - val_accuracy: 0.0902 - val_auc_5: 0.2920 - val_precision_5: 0.6667 - val_recall_5: 0.0328 - val_f1_score: 0.0806 - 695ms/epoch - 87ms/step\n",
      "Epoch 34/50\n",
      "8/8 - 1s - loss: 1.2313 - accuracy: 0.1066 - auc_5: 0.3345 - precision_5: 0.7500 - recall_5: 0.0246 - f1_score: 0.1054 - val_loss: 1.2269 - val_accuracy: 0.0902 - val_auc_5: 0.2927 - val_precision_5: 0.6667 - val_recall_5: 0.0328 - val_f1_score: 0.0806 - 731ms/epoch - 91ms/step\n",
      "Epoch 35/50\n",
      "8/8 - 1s - loss: 1.2304 - accuracy: 0.1025 - auc_5: 0.3337 - precision_5: 0.7500 - recall_5: 0.0246 - f1_score: 0.0990 - val_loss: 1.2268 - val_accuracy: 0.0902 - val_auc_5: 0.2940 - val_precision_5: 0.6667 - val_recall_5: 0.0328 - val_f1_score: 0.0806 - 715ms/epoch - 89ms/step\n",
      "Epoch 36/50\n",
      "8/8 - 1s - loss: 1.2296 - accuracy: 0.1066 - auc_5: 0.3346 - precision_5: 0.7500 - recall_5: 0.0246 - f1_score: 0.1054 - val_loss: 1.2251 - val_accuracy: 0.0902 - val_auc_5: 0.2917 - val_precision_5: 0.6667 - val_recall_5: 0.0328 - val_f1_score: 0.0806 - 730ms/epoch - 91ms/step\n",
      "Epoch 37/50\n",
      "8/8 - 1s - loss: 1.2297 - accuracy: 0.1066 - auc_5: 0.3350 - precision_5: 0.7500 - recall_5: 0.0246 - f1_score: 0.1054 - val_loss: 1.2256 - val_accuracy: 0.0902 - val_auc_5: 0.2988 - val_precision_5: 0.6667 - val_recall_5: 0.0328 - val_f1_score: 0.0806 - 722ms/epoch - 90ms/step\n",
      "Epoch 38/50\n",
      "8/8 - 1s - loss: 1.2290 - accuracy: 0.1066 - auc_5: 0.3378 - precision_5: 0.7500 - recall_5: 0.0246 - f1_score: 0.1054 - val_loss: 1.2254 - val_accuracy: 0.0902 - val_auc_5: 0.3003 - val_precision_5: 0.6667 - val_recall_5: 0.0328 - val_f1_score: 0.0806 - 703ms/epoch - 88ms/step\n",
      "Epoch 39/50\n",
      "8/8 - 1s - loss: 1.2288 - accuracy: 0.1066 - auc_5: 0.3393 - precision_5: 0.7500 - recall_5: 0.0246 - f1_score: 0.1054 - val_loss: 1.2229 - val_accuracy: 0.0902 - val_auc_5: 0.3042 - val_precision_5: 0.6667 - val_recall_5: 0.0328 - val_f1_score: 0.0806 - 716ms/epoch - 90ms/step\n",
      "Epoch 40/50\n",
      "8/8 - 1s - loss: 1.2294 - accuracy: 0.1066 - auc_5: 0.3431 - precision_5: 0.7500 - recall_5: 0.0246 - f1_score: 0.1054 - val_loss: 1.2196 - val_accuracy: 0.0902 - val_auc_5: 0.3051 - val_precision_5: 0.6667 - val_recall_5: 0.0328 - val_f1_score: 0.0806 - 717ms/epoch - 90ms/step\n",
      "Epoch 41/50\n",
      "8/8 - 1s - loss: 1.2283 - accuracy: 0.1066 - auc_5: 0.3425 - precision_5: 0.7500 - recall_5: 0.0246 - f1_score: 0.1054 - val_loss: 1.2249 - val_accuracy: 0.0902 - val_auc_5: 0.3044 - val_precision_5: 0.6667 - val_recall_5: 0.0328 - val_f1_score: 0.0806 - 704ms/epoch - 88ms/step\n",
      "Epoch 42/50\n",
      "8/8 - 1s - loss: 1.2276 - accuracy: 0.1066 - auc_5: 0.3419 - precision_5: 0.7500 - recall_5: 0.0246 - f1_score: 0.1054 - val_loss: 1.2274 - val_accuracy: 0.0902 - val_auc_5: 0.3018 - val_precision_5: 0.6667 - val_recall_5: 0.0328 - val_f1_score: 0.0806 - 715ms/epoch - 89ms/step\n",
      "Epoch 43/50\n",
      "8/8 - 1s - loss: 1.2274 - accuracy: 0.1066 - auc_5: 0.3402 - precision_5: 0.7500 - recall_5: 0.0246 - f1_score: 0.1054 - val_loss: 1.2289 - val_accuracy: 0.0902 - val_auc_5: 0.3019 - val_precision_5: 0.6667 - val_recall_5: 0.0328 - val_f1_score: 0.0806 - 697ms/epoch - 87ms/step\n",
      "Epoch 44/50\n",
      "8/8 - 1s - loss: 1.2272 - accuracy: 0.1066 - auc_5: 0.3426 - precision_5: 0.7500 - recall_5: 0.0246 - f1_score: 0.1054 - val_loss: 1.2291 - val_accuracy: 0.0902 - val_auc_5: 0.3014 - val_precision_5: 0.6667 - val_recall_5: 0.0328 - val_f1_score: 0.0806 - 739ms/epoch - 92ms/step\n",
      "Epoch 45/50\n",
      "8/8 - 1s - loss: 1.2265 - accuracy: 0.1025 - auc_5: 0.3446 - precision_5: 0.7500 - recall_5: 0.0246 - f1_score: 0.0990 - val_loss: 1.2288 - val_accuracy: 0.0902 - val_auc_5: 0.3055 - val_precision_5: 0.6667 - val_recall_5: 0.0328 - val_f1_score: 0.0806 - 699ms/epoch - 87ms/step\n",
      "Epoch 46/50\n",
      "8/8 - 1s - loss: 1.2263 - accuracy: 0.1066 - auc_5: 0.3463 - precision_5: 0.7500 - recall_5: 0.0246 - f1_score: 0.1054 - val_loss: 1.2271 - val_accuracy: 0.0902 - val_auc_5: 0.3043 - val_precision_5: 0.6667 - val_recall_5: 0.0328 - val_f1_score: 0.0806 - 716ms/epoch - 90ms/step\n",
      "Epoch 47/50\n",
      "8/8 - 1s - loss: 1.2260 - accuracy: 0.1066 - auc_5: 0.3451 - precision_5: 0.7500 - recall_5: 0.0246 - f1_score: 0.1054 - val_loss: 1.2281 - val_accuracy: 0.0902 - val_auc_5: 0.3029 - val_precision_5: 0.6667 - val_recall_5: 0.0328 - val_f1_score: 0.0806 - 740ms/epoch - 92ms/step\n",
      "Epoch 48/50\n",
      "8/8 - 1s - loss: 1.2257 - accuracy: 0.1025 - auc_5: 0.3461 - precision_5: 0.7500 - recall_5: 0.0246 - f1_score: 0.0990 - val_loss: 1.2268 - val_accuracy: 0.0902 - val_auc_5: 0.3074 - val_precision_5: 0.6667 - val_recall_5: 0.0328 - val_f1_score: 0.0806 - 733ms/epoch - 92ms/step\n",
      "Epoch 49/50\n",
      "8/8 - 1s - loss: 1.2254 - accuracy: 0.1148 - auc_5: 0.3475 - precision_5: 0.7500 - recall_5: 0.0246 - f1_score: 0.1125 - val_loss: 1.2275 - val_accuracy: 0.0902 - val_auc_5: 0.3048 - val_precision_5: 0.6667 - val_recall_5: 0.0328 - val_f1_score: 0.0806 - 736ms/epoch - 92ms/step\n",
      "Epoch 50/50\n",
      "8/8 - 1s - loss: 1.2252 - accuracy: 0.1148 - auc_5: 0.3476 - precision_5: 0.7500 - recall_5: 0.0246 - f1_score: 0.1125 - val_loss: 1.2248 - val_accuracy: 0.0902 - val_auc_5: 0.3050 - val_precision_5: 0.6667 - val_recall_5: 0.0328 - val_f1_score: 0.0806 - 726ms/epoch - 91ms/step\n"
     ]
    },
    {
     "data": {
      "image/png": "[encoded data removed]",
      "text/plain": [
       "<Figure size 432x288 with 1 Axes>"
      ]
     },
     "metadata": {
      "needs_background": "light"
     },
     "output_type": "display_data"
    },
    {
     "name": "stdout",
     "output_type": "stream",
     "text": [
      "Epoch 1/50\n",
      "8/8 - 3s - loss: 1.0125 - accuracy: 0.0082 - auc_6: 0.2219 - precision_6: 0.0000e+00 - recall_6: 0.0000e+00 - f1_score: 0.0091 - val_loss: 1.3190 - val_accuracy: 0.0246 - val_auc_6: 0.2329 - val_precision_6: 0.0000e+00 - val_recall_6: 0.0000e+00 - val_f1_score: 0.0205 - 3s/epoch - 429ms/step\n",
      "Epoch 2/50\n",
      "8/8 - 1s - loss: 0.9939 - accuracy: 0.0082 - auc_6: 0.2275 - precision_6: 0.0000e+00 - recall_6: 0.0000e+00 - f1_score: 0.0090 - val_loss: 1.2956 - val_accuracy: 0.0246 - val_auc_6: 0.2411 - val_precision_6: 0.0000e+00 - val_recall_6: 0.0000e+00 - val_f1_score: 0.0205 - 773ms/epoch - 97ms/step\n",
      "Epoch 3/50\n",
      "8/8 - 1s - loss: 0.9853 - accuracy: 0.0123 - auc_6: 0.2365 - precision_6: 0.0000e+00 - recall_6: 0.0000e+00 - f1_score: 0.0150 - val_loss: 1.2685 - val_accuracy: 0.0246 - val_auc_6: 0.2465 - val_precision_6: 0.0000e+00 - val_recall_6: 0.0000e+00 - val_f1_score: 0.0206 - 735ms/epoch - 92ms/step\n",
      "Epoch 4/50\n",
      "8/8 - 1s - loss: 0.9671 - accuracy: 0.0164 - auc_6: 0.2463 - precision_6: 0.0000e+00 - recall_6: 0.0000e+00 - f1_score: 0.0207 - val_loss: 1.2433 - val_accuracy: 0.0410 - val_auc_6: 0.2480 - val_precision_6: 0.0000e+00 - val_recall_6: 0.0000e+00 - val_f1_score: 0.0420 - 719ms/epoch - 90ms/step\n",
      "Epoch 5/50\n",
      "8/8 - 1s - loss: 0.9519 - accuracy: 0.0287 - auc_6: 0.2604 - precision_6: 0.0000e+00 - recall_6: 0.0000e+00 - f1_score: 0.0346 - val_loss: 1.2199 - val_accuracy: 0.0410 - val_auc_6: 0.2588 - val_precision_6: 0.0000e+00 - val_recall_6: 0.0000e+00 - val_f1_score: 0.0420 - 721ms/epoch - 90ms/step\n",
      "Epoch 6/50\n",
      "8/8 - 1s - loss: 0.9495 - accuracy: 0.0533 - auc_6: 0.2740 - precision_6: 0.0000e+00 - recall_6: 0.0000e+00 - f1_score: 0.0591 - val_loss: 1.1739 - val_accuracy: 0.0738 - val_auc_6: 0.2808 - val_precision_6: 0.0000e+00 - val_recall_6: 0.0000e+00 - val_f1_score: 0.0829 - 728ms/epoch - 91ms/step\n",
      "Epoch 7/50\n",
      "8/8 - 1s - loss: 0.9260 - accuracy: 0.0574 - auc_6: 0.2920 - precision_6: 0.0000e+00 - recall_6: 0.0000e+00 - f1_score: 0.0631 - val_loss: 1.1676 - val_accuracy: 0.0738 - val_auc_6: 0.2897 - val_precision_6: 0.0000e+00 - val_recall_6: 0.0000e+00 - val_f1_score: 0.0818 - 757ms/epoch - 95ms/step\n",
      "Epoch 8/50\n",
      "8/8 - 1s - loss: 0.9186 - accuracy: 0.0779 - auc_6: 0.3099 - precision_6: 0.0000e+00 - recall_6: 0.0000e+00 - f1_score: 0.0838 - val_loss: 1.1578 - val_accuracy: 0.0820 - val_auc_6: 0.3101 - val_precision_6: 0.0000e+00 - val_recall_6: 0.0000e+00 - val_f1_score: 0.0886 - 736ms/epoch - 92ms/step\n",
      "Epoch 9/50\n",
      "8/8 - 1s - loss: 0.9130 - accuracy: 0.1311 - auc_6: 0.3374 - precision_6: 0.0000e+00 - recall_6: 0.0000e+00 - f1_score: 0.1418 - val_loss: 1.1446 - val_accuracy: 0.1230 - val_auc_6: 0.3334 - val_precision_6: 0.0000e+00 - val_recall_6: 0.0000e+00 - val_f1_score: 0.1317 - 739ms/epoch - 92ms/step\n",
      "Epoch 10/50\n",
      "8/8 - 1s - loss: 0.9075 - accuracy: 0.2090 - auc_6: 0.3862 - precision_6: 0.0000e+00 - recall_6: 0.0000e+00 - f1_score: 0.2062 - val_loss: 1.1247 - val_accuracy: 0.2377 - val_auc_6: 0.3985 - val_precision_6: 0.0000e+00 - val_recall_6: 0.0000e+00 - val_f1_score: 0.2104 - 746ms/epoch - 93ms/step\n",
      "Epoch 11/50\n",
      "8/8 - 1s - loss: 0.8985 - accuracy: 0.3197 - auc_6: 0.4524 - precision_6: 0.0000e+00 - recall_6: 0.0000e+00 - f1_score: 0.2685 - val_loss: 1.1118 - val_accuracy: 0.2787 - val_auc_6: 0.4437 - val_precision_6: 0.0000e+00 - val_recall_6: 0.0000e+00 - val_f1_score: 0.2320 - 711ms/epoch - 89ms/step\n",
      "Epoch 12/50\n",
      "8/8 - 1s - loss: 0.8915 - accuracy: 0.3566 - auc_6: 0.4975 - precision_6: 0.0000e+00 - recall_6: 0.0000e+00 - f1_score: 0.2880 - val_loss: 1.1002 - val_accuracy: 0.3115 - val_auc_6: 0.4947 - val_precision_6: 0.0000e+00 - val_recall_6: 0.0000e+00 - val_f1_score: 0.2545 - 729ms/epoch - 91ms/step\n",
      "Epoch 13/50\n",
      "8/8 - 1s - loss: 0.8862 - accuracy: 0.3852 - auc_6: 0.5455 - precision_6: 0.0000e+00 - recall_6: 0.0000e+00 - f1_score: 0.3035 - val_loss: 1.0906 - val_accuracy: 0.3607 - val_auc_6: 0.5320 - val_precision_6: 0.0000e+00 - val_recall_6: 0.0000e+00 - val_f1_score: 0.2908 - 742ms/epoch - 93ms/step\n",
      "Epoch 14/50\n",
      "8/8 - 1s - loss: 0.8810 - accuracy: 0.3975 - auc_6: 0.5874 - precision_6: 0.0000e+00 - recall_6: 0.0000e+00 - f1_score: 0.3107 - val_loss: 1.0779 - val_accuracy: 0.3770 - val_auc_6: 0.5756 - val_precision_6: 0.0000e+00 - val_recall_6: 0.0000e+00 - val_f1_score: 0.2992 - 709ms/epoch - 89ms/step\n",
      "Epoch 15/50\n",
      "8/8 - 1s - loss: 0.8748 - accuracy: 0.4221 - auc_6: 0.6209 - precision_6: 0.0000e+00 - recall_6: 0.0000e+00 - f1_score: 0.3253 - val_loss: 1.0712 - val_accuracy: 0.4262 - val_auc_6: 0.5966 - val_precision_6: 0.0000e+00 - val_recall_6: 0.0000e+00 - val_f1_score: 0.3058 - 708ms/epoch - 88ms/step\n",
      "Epoch 16/50\n",
      "8/8 - 1s - loss: 0.8696 - accuracy: 0.4631 - auc_6: 0.6482 - precision_6: 0.0000e+00 - recall_6: 0.0000e+00 - f1_score: 0.3462 - val_loss: 1.0600 - val_accuracy: 0.4590 - val_auc_6: 0.6319 - val_precision_6: 0.0000e+00 - val_recall_6: 0.0000e+00 - val_f1_score: 0.3232 - 734ms/epoch - 92ms/step\n",
      "Epoch 17/50\n",
      "8/8 - 1s - loss: 0.8652 - accuracy: 0.5000 - auc_6: 0.6792 - precision_6: 0.0000e+00 - recall_6: 0.0000e+00 - f1_score: 0.3723 - val_loss: 1.0492 - val_accuracy: 0.4672 - val_auc_6: 0.6616 - val_precision_6: 0.0000e+00 - val_recall_6: 0.0000e+00 - val_f1_score: 0.3228 - 675ms/epoch - 84ms/step\n",
      "Epoch 18/50\n",
      "8/8 - 1s - loss: 0.8606 - accuracy: 0.5246 - auc_6: 0.7001 - precision_6: 0.0000e+00 - recall_6: 0.0000e+00 - f1_score: 0.3949 - val_loss: 1.0410 - val_accuracy: 0.5000 - val_auc_6: 0.6745 - val_precision_6: 0.0000e+00 - val_recall_6: 0.0000e+00 - val_f1_score: 0.3404 - 679ms/epoch - 85ms/step\n",
      "Epoch 19/50\n",
      "8/8 - 1s - loss: 0.8571 - accuracy: 0.5246 - auc_6: 0.7207 - precision_6: 0.0000e+00 - recall_6: 0.0000e+00 - f1_score: 0.3957 - val_loss: 1.0312 - val_accuracy: 0.4918 - val_auc_6: 0.6951 - val_precision_6: 0.0000e+00 - val_recall_6: 0.0000e+00 - val_f1_score: 0.3341 - 678ms/epoch - 85ms/step\n",
      "Epoch 20/50\n",
      "8/8 - 1s - loss: 0.8525 - accuracy: 0.5287 - auc_6: 0.7370 - precision_6: 0.0000e+00 - recall_6: 0.0000e+00 - f1_score: 0.3984 - val_loss: 1.0253 - val_accuracy: 0.4918 - val_auc_6: 0.7040 - val_precision_6: 0.0000e+00 - val_recall_6: 0.0000e+00 - val_f1_score: 0.3341 - 678ms/epoch - 85ms/step\n",
      "Epoch 21/50\n",
      "8/8 - 1s - loss: 0.8486 - accuracy: 0.5287 - auc_6: 0.7401 - precision_6: 0.0000e+00 - recall_6: 0.0000e+00 - f1_score: 0.3984 - val_loss: 1.0213 - val_accuracy: 0.4918 - val_auc_6: 0.7130 - val_precision_6: 0.0000e+00 - val_recall_6: 0.0000e+00 - val_f1_score: 0.3361 - 704ms/epoch - 88ms/step\n",
      "Epoch 22/50\n",
      "8/8 - 1s - loss: 0.8440 - accuracy: 0.5287 - auc_6: 0.7523 - precision_6: 0.0000e+00 - recall_6: 0.0000e+00 - f1_score: 0.3998 - val_loss: 1.0115 - val_accuracy: 0.4918 - val_auc_6: 0.7212 - val_precision_6: 0.0000e+00 - val_recall_6: 0.0000e+00 - val_f1_score: 0.3341 - 717ms/epoch - 90ms/step\n",
      "Epoch 23/50\n",
      "8/8 - 1s - loss: 0.8394 - accuracy: 0.5287 - auc_6: 0.7594 - precision_6: 0.0000e+00 - recall_6: 0.0000e+00 - f1_score: 0.3998 - val_loss: 1.0025 - val_accuracy: 0.5000 - val_auc_6: 0.7272 - val_precision_6: 0.0000e+00 - val_recall_6: 0.0000e+00 - val_f1_score: 0.3404 - 757ms/epoch - 95ms/step\n",
      "Epoch 24/50\n",
      "8/8 - 1s - loss: 0.8342 - accuracy: 0.5287 - auc_6: 0.7599 - precision_6: 0.0000e+00 - recall_6: 0.0000e+00 - f1_score: 0.3998 - val_loss: 0.9974 - val_accuracy: 0.4918 - val_auc_6: 0.7285 - val_precision_6: 0.0000e+00 - val_recall_6: 0.0000e+00 - val_f1_score: 0.3361 - 779ms/epoch - 97ms/step\n",
      "Epoch 25/50\n",
      "8/8 - 1s - loss: 0.8290 - accuracy: 0.5369 - auc_6: 0.7665 - precision_6: 0.0000e+00 - recall_6: 0.0000e+00 - f1_score: 0.4075 - val_loss: 0.9879 - val_accuracy: 0.5082 - val_auc_6: 0.7314 - val_precision_6: 0.0000e+00 - val_recall_6: 0.0000e+00 - val_f1_score: 0.3465 - 770ms/epoch - 96ms/step\n",
      "Epoch 26/50\n",
      "8/8 - 1s - loss: 0.8234 - accuracy: 0.5369 - auc_6: 0.7684 - precision_6: 0.0000e+00 - recall_6: 0.0000e+00 - f1_score: 0.4075 - val_loss: 0.9844 - val_accuracy: 0.4918 - val_auc_6: 0.7316 - val_precision_6: 1.0000 - val_recall_6: 0.0082 - val_f1_score: 0.3361 - 761ms/epoch - 95ms/step\n",
      "Epoch 27/50\n",
      "8/8 - 1s - loss: 0.8204 - accuracy: 0.5328 - auc_6: 0.7683 - precision_6: 0.0000e+00 - recall_6: 0.0000e+00 - f1_score: 0.4049 - val_loss: 0.9761 - val_accuracy: 0.5082 - val_auc_6: 0.7351 - val_precision_6: 1.0000 - val_recall_6: 0.0082 - val_f1_score: 0.3465 - 730ms/epoch - 91ms/step\n",
      "Epoch 28/50\n",
      "8/8 - 1s - loss: 0.8163 - accuracy: 0.5328 - auc_6: 0.7695 - precision_6: 0.0000e+00 - recall_6: 0.0000e+00 - f1_score: 0.4049 - val_loss: 0.9718 - val_accuracy: 0.4754 - val_auc_6: 0.7355 - val_precision_6: 1.0000 - val_recall_6: 0.0082 - val_f1_score: 0.3254 - 769ms/epoch - 96ms/step\n",
      "Epoch 29/50\n",
      "8/8 - 1s - loss: 0.8125 - accuracy: 0.5410 - auc_6: 0.7736 - precision_6: 0.0000e+00 - recall_6: 0.0000e+00 - f1_score: 0.4129 - val_loss: 0.9639 - val_accuracy: 0.4918 - val_auc_6: 0.7367 - val_precision_6: 1.0000 - val_recall_6: 0.0082 - val_f1_score: 0.3352 - 704ms/epoch - 88ms/step\n",
      "Epoch 30/50\n",
      "8/8 - 1s - loss: 0.8083 - accuracy: 0.5369 - auc_6: 0.7734 - precision_6: 0.7500 - recall_6: 0.0123 - f1_score: 0.4123 - val_loss: 0.9594 - val_accuracy: 0.4918 - val_auc_6: 0.7386 - val_precision_6: 1.0000 - val_recall_6: 0.0082 - val_f1_score: 0.3352 - 685ms/epoch - 86ms/step\n",
      "Epoch 31/50\n",
      "8/8 - 1s - loss: 0.8052 - accuracy: 0.5369 - auc_6: 0.7742 - precision_6: 0.7500 - recall_6: 0.0123 - f1_score: 0.4123 - val_loss: 0.9538 - val_accuracy: 0.4918 - val_auc_6: 0.7424 - val_precision_6: 1.0000 - val_recall_6: 0.0082 - val_f1_score: 0.3352 - 704ms/epoch - 88ms/step\n",
      "Epoch 32/50\n",
      "8/8 - 1s - loss: 0.8026 - accuracy: 0.5410 - auc_6: 0.7744 - precision_6: 0.8000 - recall_6: 0.0164 - f1_score: 0.4152 - val_loss: 0.9507 - val_accuracy: 0.5000 - val_auc_6: 0.7418 - val_precision_6: 0.6667 - val_recall_6: 0.0164 - val_f1_score: 0.3413 - 700ms/epoch - 87ms/step\n",
      "Epoch 33/50\n",
      "8/8 - 1s - loss: 0.7988 - accuracy: 0.5410 - auc_6: 0.7780 - precision_6: 0.8000 - recall_6: 0.0328 - f1_score: 0.4149 - val_loss: 0.9436 - val_accuracy: 0.4836 - val_auc_6: 0.7465 - val_precision_6: 0.6667 - val_recall_6: 0.0328 - val_f1_score: 0.3290 - 685ms/epoch - 86ms/step\n",
      "Epoch 34/50\n",
      "8/8 - 1s - loss: 0.7953 - accuracy: 0.5533 - auc_6: 0.7794 - precision_6: 0.8750 - recall_6: 0.0574 - f1_score: 0.4335 - val_loss: 0.9356 - val_accuracy: 0.5000 - val_auc_6: 0.7491 - val_precision_6: 0.6667 - val_recall_6: 0.0328 - val_f1_score: 0.3364 - 694ms/epoch - 87ms/step\n",
      "Epoch 35/50\n",
      "8/8 - 1s - loss: 0.7908 - accuracy: 0.5533 - auc_6: 0.7801 - precision_6: 0.7143 - recall_6: 0.0615 - f1_score: 0.4384 - val_loss: 0.9295 - val_accuracy: 0.4918 - val_auc_6: 0.7533 - val_precision_6: 0.7143 - val_recall_6: 0.0410 - val_f1_score: 0.3324 - 737ms/epoch - 92ms/step\n",
      "Epoch 36/50\n",
      "8/8 - 1s - loss: 0.7871 - accuracy: 0.5492 - auc_6: 0.7821 - precision_6: 0.6957 - recall_6: 0.0656 - f1_score: 0.4361 - val_loss: 0.9206 - val_accuracy: 0.4918 - val_auc_6: 0.7598 - val_precision_6: 0.7143 - val_recall_6: 0.0410 - val_f1_score: 0.3314 - 736ms/epoch - 92ms/step\n",
      "Epoch 37/50\n",
      "8/8 - 1s - loss: 0.7842 - accuracy: 0.5615 - auc_6: 0.7868 - precision_6: 0.7083 - recall_6: 0.0697 - f1_score: 0.4506 - val_loss: 0.9158 - val_accuracy: 0.5000 - val_auc_6: 0.7626 - val_precision_6: 0.7500 - val_recall_6: 0.0492 - val_f1_score: 0.3376 - 794ms/epoch - 99ms/step\n",
      "Epoch 38/50\n",
      "8/8 - 1s - loss: 0.7803 - accuracy: 0.5697 - auc_6: 0.7872 - precision_6: 0.6800 - recall_6: 0.0697 - f1_score: 0.4558 - val_loss: 0.9135 - val_accuracy: 0.5082 - val_auc_6: 0.7595 - val_precision_6: 0.7000 - val_recall_6: 0.0574 - val_f1_score: 0.3401 - 710ms/epoch - 89ms/step\n",
      "Epoch 39/50\n",
      "8/8 - 1s - loss: 0.7776 - accuracy: 0.5820 - auc_6: 0.7895 - precision_6: 0.6786 - recall_6: 0.0779 - f1_score: 0.4625 - val_loss: 0.9107 - val_accuracy: 0.5246 - val_auc_6: 0.7596 - val_precision_6: 0.7000 - val_recall_6: 0.0574 - val_f1_score: 0.3481 - 709ms/epoch - 89ms/step\n",
      "Epoch 40/50\n",
      "8/8 - 1s - loss: 0.7753 - accuracy: 0.5820 - auc_6: 0.7906 - precision_6: 0.6667 - recall_6: 0.0820 - f1_score: 0.4539 - val_loss: 0.9079 - val_accuracy: 0.5000 - val_auc_6: 0.7629 - val_precision_6: 0.6667 - val_recall_6: 0.0656 - val_f1_score: 0.3319 - 749ms/epoch - 94ms/step\n",
      "Epoch 41/50\n",
      "8/8 - 1s - loss: 0.7724 - accuracy: 0.5861 - auc_6: 0.7914 - precision_6: 0.6774 - recall_6: 0.0861 - f1_score: 0.4656 - val_loss: 0.9041 - val_accuracy: 0.5164 - val_auc_6: 0.7639 - val_precision_6: 0.6667 - val_recall_6: 0.0656 - val_f1_score: 0.3414 - 737ms/epoch - 92ms/step\n",
      "Epoch 42/50\n",
      "8/8 - 1s - loss: 0.7706 - accuracy: 0.5820 - auc_6: 0.7905 - precision_6: 0.6667 - recall_6: 0.0820 - f1_score: 0.4619 - val_loss: 0.9006 - val_accuracy: 0.5246 - val_auc_6: 0.7651 - val_precision_6: 0.6429 - val_recall_6: 0.0738 - val_f1_score: 0.3462 - 744ms/epoch - 93ms/step\n",
      "Epoch 43/50\n",
      "8/8 - 1s - loss: 0.7673 - accuracy: 0.5861 - auc_6: 0.7925 - precision_6: 0.6875 - recall_6: 0.0902 - f1_score: 0.4644 - val_loss: 0.8977 - val_accuracy: 0.5246 - val_auc_6: 0.7658 - val_precision_6: 0.6429 - val_recall_6: 0.0738 - val_f1_score: 0.3462 - 724ms/epoch - 91ms/step\n",
      "Epoch 44/50\n",
      "8/8 - 1s - loss: 0.7656 - accuracy: 0.5861 - auc_6: 0.7923 - precision_6: 0.6875 - recall_6: 0.0902 - f1_score: 0.4644 - val_loss: 0.8937 - val_accuracy: 0.5246 - val_auc_6: 0.7649 - val_precision_6: 0.6429 - val_recall_6: 0.0738 - val_f1_score: 0.3462 - 709ms/epoch - 89ms/step\n",
      "Epoch 45/50\n",
      "8/8 - 1s - loss: 0.7631 - accuracy: 0.5861 - auc_6: 0.7949 - precision_6: 0.6667 - recall_6: 0.0902 - f1_score: 0.4644 - val_loss: 0.8922 - val_accuracy: 0.5246 - val_auc_6: 0.7635 - val_precision_6: 0.6250 - val_recall_6: 0.0820 - val_f1_score: 0.3462 - 696ms/epoch - 87ms/step\n",
      "Epoch 46/50\n",
      "8/8 - 1s - loss: 0.7601 - accuracy: 0.5902 - auc_6: 0.7953 - precision_6: 0.6757 - recall_6: 0.1025 - f1_score: 0.4675 - val_loss: 0.8907 - val_accuracy: 0.5246 - val_auc_6: 0.7641 - val_precision_6: 0.5789 - val_recall_6: 0.0902 - val_f1_score: 0.3462 - 707ms/epoch - 88ms/step\n",
      "Epoch 47/50\n",
      "8/8 - 1s - loss: 0.7577 - accuracy: 0.5902 - auc_6: 0.7967 - precision_6: 0.6829 - recall_6: 0.1148 - f1_score: 0.4675 - val_loss: 0.8885 - val_accuracy: 0.5246 - val_auc_6: 0.7628 - val_precision_6: 0.5238 - val_recall_6: 0.0902 - val_f1_score: 0.3462 - 693ms/epoch - 87ms/step\n",
      "Epoch 48/50\n",
      "8/8 - 1s - loss: 0.7553 - accuracy: 0.5820 - auc_6: 0.7954 - precision_6: 0.6512 - recall_6: 0.1148 - f1_score: 0.4625 - val_loss: 0.8854 - val_accuracy: 0.5246 - val_auc_6: 0.7621 - val_precision_6: 0.5200 - val_recall_6: 0.1066 - val_f1_score: 0.3462 - 743ms/epoch - 93ms/step\n",
      "Epoch 49/50\n",
      "8/8 - 1s - loss: 0.7533 - accuracy: 0.5902 - auc_6: 0.7964 - precision_6: 0.6667 - recall_6: 0.1311 - f1_score: 0.4675 - val_loss: 0.8803 - val_accuracy: 0.5246 - val_auc_6: 0.7634 - val_precision_6: 0.5200 - val_recall_6: 0.1066 - val_f1_score: 0.3462 - 690ms/epoch - 86ms/step\n",
      "Epoch 50/50\n",
      "8/8 - 1s - loss: 0.7500 - accuracy: 0.5984 - auc_6: 0.7970 - precision_6: 0.6667 - recall_6: 0.1311 - f1_score: 0.4810 - val_loss: 0.8780 - val_accuracy: 0.5246 - val_auc_6: 0.7622 - val_precision_6: 0.5000 - val_recall_6: 0.1066 - val_f1_score: 0.3462 - 694ms/epoch - 87ms/step\n"
     ]
    },
    {
     "data": {
      "image/png": "[encoded data removed]",
      "text/plain": [
       "<Figure size 432x288 with 1 Axes>"
      ]
     },
     "metadata": {
      "needs_background": "light"
     },
     "output_type": "display_data"
    },
    {
     "name": "stdout",
     "output_type": "stream",
     "text": [
      "Epoch 1/50\n",
      "8/8 - 3s - loss: 1.1256 - accuracy: 0.4918 - auc_7: 0.5403 - precision_7: 0.0000e+00 - recall_7: 0.0000e+00 - f1_score: 0.2445 - val_loss: 1.1304 - val_accuracy: 0.4590 - val_auc_7: 0.5346 - val_precision_7: 0.0000e+00 - val_recall_7: 0.0000e+00 - val_f1_score: 0.2382 - 3s/epoch - 427ms/step\n",
      "Epoch 2/50\n",
      "8/8 - 1s - loss: 1.1126 - accuracy: 0.4795 - auc_7: 0.5394 - precision_7: 0.0000e+00 - recall_7: 0.0000e+00 - f1_score: 0.2405 - val_loss: 1.1215 - val_accuracy: 0.4590 - val_auc_7: 0.5335 - val_precision_7: 0.0000e+00 - val_recall_7: 0.0000e+00 - val_f1_score: 0.2365 - 732ms/epoch - 91ms/step\n",
      "Epoch 3/50\n",
      "8/8 - 1s - loss: 1.1055 - accuracy: 0.4877 - auc_7: 0.5486 - precision_7: 0.0000e+00 - recall_7: 0.0000e+00 - f1_score: 0.2424 - val_loss: 1.1078 - val_accuracy: 0.4672 - val_auc_7: 0.5458 - val_precision_7: 0.0000e+00 - val_recall_7: 0.0000e+00 - val_f1_score: 0.2392 - 741ms/epoch - 93ms/step\n",
      "Epoch 4/50\n",
      "8/8 - 1s - loss: 1.0980 - accuracy: 0.4959 - auc_7: 0.5618 - precision_7: 0.0000e+00 - recall_7: 0.0000e+00 - f1_score: 0.2436 - val_loss: 1.1079 - val_accuracy: 0.4672 - val_auc_7: 0.5411 - val_precision_7: 0.0000e+00 - val_recall_7: 0.0000e+00 - val_f1_score: 0.2418 - 727ms/epoch - 91ms/step\n",
      "Epoch 5/50\n",
      "8/8 - 1s - loss: 1.0910 - accuracy: 0.5082 - auc_7: 0.5717 - precision_7: 0.0000e+00 - recall_7: 0.0000e+00 - f1_score: 0.2467 - val_loss: 1.1006 - val_accuracy: 0.4754 - val_auc_7: 0.5489 - val_precision_7: 0.0000e+00 - val_recall_7: 0.0000e+00 - val_f1_score: 0.2444 - 713ms/epoch - 89ms/step\n",
      "Epoch 6/50\n",
      "8/8 - 1s - loss: 1.0917 - accuracy: 0.5041 - auc_7: 0.5862 - precision_7: 0.0000e+00 - recall_7: 0.0000e+00 - f1_score: 0.2440 - val_loss: 1.0823 - val_accuracy: 0.4836 - val_auc_7: 0.5779 - val_precision_7: 0.0000e+00 - val_recall_7: 0.0000e+00 - val_f1_score: 0.2471 - 717ms/epoch - 90ms/step\n",
      "Epoch 7/50\n",
      "8/8 - 1s - loss: 1.0837 - accuracy: 0.5082 - auc_7: 0.6036 - precision_7: 0.0000e+00 - recall_7: 0.0000e+00 - f1_score: 0.2446 - val_loss: 1.0812 - val_accuracy: 0.4754 - val_auc_7: 0.5829 - val_precision_7: 0.0000e+00 - val_recall_7: 0.0000e+00 - val_f1_score: 0.2444 - 741ms/epoch - 93ms/step\n",
      "Epoch 8/50\n",
      "8/8 - 1s - loss: 1.0798 - accuracy: 0.5000 - auc_7: 0.6073 - precision_7: 0.0000e+00 - recall_7: 0.0000e+00 - f1_score: 0.2427 - val_loss: 1.0796 - val_accuracy: 0.4754 - val_auc_7: 0.5870 - val_precision_7: 0.0000e+00 - val_recall_7: 0.0000e+00 - val_f1_score: 0.2444 - 789ms/epoch - 99ms/step\n",
      "Epoch 9/50\n",
      "8/8 - 1s - loss: 1.0794 - accuracy: 0.5000 - auc_7: 0.6190 - precision_7: 0.0000e+00 - recall_7: 0.0000e+00 - f1_score: 0.2413 - val_loss: 1.0697 - val_accuracy: 0.4836 - val_auc_7: 0.6161 - val_precision_7: 0.0000e+00 - val_recall_7: 0.0000e+00 - val_f1_score: 0.2471 - 716ms/epoch - 89ms/step\n",
      "Epoch 10/50\n",
      "8/8 - 1s - loss: 1.0741 - accuracy: 0.5041 - auc_7: 0.6295 - precision_7: 0.0000e+00 - recall_7: 0.0000e+00 - f1_score: 0.2434 - val_loss: 1.0721 - val_accuracy: 0.4754 - val_auc_7: 0.6114 - val_precision_7: 0.0000e+00 - val_recall_7: 0.0000e+00 - val_f1_score: 0.2444 - 745ms/epoch - 93ms/step\n",
      "Epoch 11/50\n",
      "8/8 - 1s - loss: 1.0711 - accuracy: 0.5041 - auc_7: 0.6237 - precision_7: 0.0000e+00 - recall_7: 0.0000e+00 - f1_score: 0.2440 - val_loss: 1.0759 - val_accuracy: 0.4672 - val_auc_7: 0.6020 - val_precision_7: 0.0000e+00 - val_recall_7: 0.0000e+00 - val_f1_score: 0.2418 - 713ms/epoch - 89ms/step\n",
      "Epoch 12/50\n",
      "8/8 - 1s - loss: 1.0671 - accuracy: 0.5000 - auc_7: 0.6379 - precision_7: 0.0000e+00 - recall_7: 0.0000e+00 - f1_score: 0.2428 - val_loss: 1.0701 - val_accuracy: 0.4918 - val_auc_7: 0.6195 - val_precision_7: 0.0000e+00 - val_recall_7: 0.0000e+00 - val_f1_score: 0.2757 - 718ms/epoch - 90ms/step\n",
      "Epoch 13/50\n",
      "8/8 - 1s - loss: 1.0639 - accuracy: 0.5123 - auc_7: 0.6549 - precision_7: 0.0000e+00 - recall_7: 0.0000e+00 - f1_score: 0.2614 - val_loss: 1.0629 - val_accuracy: 0.4918 - val_auc_7: 0.6341 - val_precision_7: 0.0000e+00 - val_recall_7: 0.0000e+00 - val_f1_score: 0.2757 - 726ms/epoch - 91ms/step\n",
      "Epoch 14/50\n",
      "8/8 - 1s - loss: 1.0576 - accuracy: 0.5205 - auc_7: 0.6625 - precision_7: 0.0000e+00 - recall_7: 0.0000e+00 - f1_score: 0.2738 - val_loss: 1.0638 - val_accuracy: 0.5000 - val_auc_7: 0.6323 - val_precision_7: 0.0000e+00 - val_recall_7: 0.0000e+00 - val_f1_score: 0.2865 - 741ms/epoch - 93ms/step\n",
      "Epoch 15/50\n",
      "8/8 - 1s - loss: 1.0547 - accuracy: 0.5205 - auc_7: 0.6661 - precision_7: 0.0000e+00 - recall_7: 0.0000e+00 - f1_score: 0.2735 - val_loss: 1.0613 - val_accuracy: 0.4918 - val_auc_7: 0.6348 - val_precision_7: 0.0000e+00 - val_recall_7: 0.0000e+00 - val_f1_score: 0.2838 - 853ms/epoch - 107ms/step\n",
      "Epoch 16/50\n",
      "8/8 - 1s - loss: 1.0515 - accuracy: 0.4426 - auc_7: 0.6577 - precision_7: 0.0000e+00 - recall_7: 0.0000e+00 - f1_score: 0.2708 - val_loss: 1.0659 - val_accuracy: 0.3689 - val_auc_7: 0.6125 - val_precision_7: 0.0000e+00 - val_recall_7: 0.0000e+00 - val_f1_score: 0.2499 - 734ms/epoch - 92ms/step\n",
      "Epoch 17/50\n",
      "8/8 - 1s - loss: 1.0487 - accuracy: 0.4303 - auc_7: 0.6610 - precision_7: 0.0000e+00 - recall_7: 0.0000e+00 - f1_score: 0.2779 - val_loss: 1.0641 - val_accuracy: 0.3852 - val_auc_7: 0.6212 - val_precision_7: 0.0000e+00 - val_recall_7: 0.0000e+00 - val_f1_score: 0.2568 - 704ms/epoch - 88ms/step\n",
      "Epoch 18/50\n",
      "8/8 - 1s - loss: 1.0469 - accuracy: 0.4385 - auc_7: 0.6679 - precision_7: 0.0000e+00 - recall_7: 0.0000e+00 - f1_score: 0.2714 - val_loss: 1.0547 - val_accuracy: 0.4098 - val_auc_7: 0.6508 - val_precision_7: 0.0000e+00 - val_recall_7: 0.0000e+00 - val_f1_score: 0.2629 - 705ms/epoch - 88ms/step\n",
      "Epoch 19/50\n",
      "8/8 - 1s - loss: 1.0428 - accuracy: 0.4180 - auc_7: 0.6750 - precision_7: 0.0000e+00 - recall_7: 0.0000e+00 - f1_score: 0.2846 - val_loss: 1.0515 - val_accuracy: 0.4426 - val_auc_7: 0.6551 - val_precision_7: 0.0000e+00 - val_recall_7: 0.0000e+00 - val_f1_score: 0.3235 - 718ms/epoch - 90ms/step\n",
      "Epoch 20/50\n",
      "8/8 - 1s - loss: 1.0396 - accuracy: 0.4303 - auc_7: 0.6778 - precision_7: 0.0000e+00 - recall_7: 0.0000e+00 - f1_score: 0.3122 - val_loss: 1.0503 - val_accuracy: 0.4590 - val_auc_7: 0.6573 - val_precision_7: 0.0000e+00 - val_recall_7: 0.0000e+00 - val_f1_score: 0.3368 - 742ms/epoch - 93ms/step\n",
      "Epoch 21/50\n",
      "8/8 - 1s - loss: 1.0361 - accuracy: 0.4385 - auc_7: 0.6812 - precision_7: 0.0000e+00 - recall_7: 0.0000e+00 - f1_score: 0.3333 - val_loss: 1.0490 - val_accuracy: 0.4590 - val_auc_7: 0.6622 - val_precision_7: 0.0000e+00 - val_recall_7: 0.0000e+00 - val_f1_score: 0.3445 - 735ms/epoch - 92ms/step\n",
      "Epoch 22/50\n",
      "8/8 - 1s - loss: 1.0339 - accuracy: 0.4303 - auc_7: 0.6732 - precision_7: 0.5000 - recall_7: 0.0041 - f1_score: 0.3395 - val_loss: 1.0575 - val_accuracy: 0.4180 - val_auc_7: 0.6392 - val_precision_7: 0.0000e+00 - val_recall_7: 0.0000e+00 - val_f1_score: 0.3309 - 733ms/epoch - 92ms/step\n",
      "Epoch 23/50\n",
      "8/8 - 1s - loss: 1.0306 - accuracy: 0.3852 - auc_7: 0.6571 - precision_7: 0.5000 - recall_7: 0.0041 - f1_score: 0.3172 - val_loss: 1.0591 - val_accuracy: 0.3852 - val_auc_7: 0.6367 - val_precision_7: 0.0000e+00 - val_recall_7: 0.0000e+00 - val_f1_score: 0.3148 - 735ms/epoch - 92ms/step\n",
      "Epoch 24/50\n",
      "8/8 - 1s - loss: 1.0279 - accuracy: 0.3893 - auc_7: 0.6571 - precision_7: 0.5000 - recall_7: 0.0041 - f1_score: 0.3197 - val_loss: 1.0583 - val_accuracy: 0.3934 - val_auc_7: 0.6365 - val_precision_7: 0.0000e+00 - val_recall_7: 0.0000e+00 - val_f1_score: 0.3181 - 738ms/epoch - 92ms/step\n",
      "Epoch 25/50\n",
      "8/8 - 1s - loss: 1.0262 - accuracy: 0.3893 - auc_7: 0.6638 - precision_7: 0.5000 - recall_7: 0.0041 - f1_score: 0.3170 - val_loss: 1.0515 - val_accuracy: 0.4180 - val_auc_7: 0.6482 - val_precision_7: 0.0000e+00 - val_recall_7: 0.0000e+00 - val_f1_score: 0.3278 - 696ms/epoch - 87ms/step\n",
      "Epoch 26/50\n",
      "8/8 - 1s - loss: 1.0226 - accuracy: 0.4139 - auc_7: 0.6744 - precision_7: 0.5000 - recall_7: 0.0041 - f1_score: 0.3325 - val_loss: 1.0487 - val_accuracy: 0.4508 - val_auc_7: 0.6601 - val_precision_7: 0.0000e+00 - val_recall_7: 0.0000e+00 - val_f1_score: 0.3478 - 704ms/epoch - 88ms/step\n",
      "Epoch 27/50\n",
      "8/8 - 1s - loss: 1.0163 - accuracy: 0.4057 - auc_7: 0.6639 - precision_7: 0.5000 - recall_7: 0.0041 - f1_score: 0.3290 - val_loss: 1.0598 - val_accuracy: 0.4016 - val_auc_7: 0.6242 - val_precision_7: 0.0000e+00 - val_recall_7: 0.0000e+00 - val_f1_score: 0.3171 - 767ms/epoch - 96ms/step\n",
      "Epoch 28/50\n",
      "8/8 - 1s - loss: 1.0134 - accuracy: 0.4098 - auc_7: 0.6434 - precision_7: 0.5000 - recall_7: 0.0041 - f1_score: 0.3331 - val_loss: 1.0630 - val_accuracy: 0.4098 - val_auc_7: 0.6137 - val_precision_7: 0.0000e+00 - val_recall_7: 0.0000e+00 - val_f1_score: 0.3238 - 732ms/epoch - 92ms/step\n",
      "Epoch 29/50\n",
      "8/8 - 1s - loss: 1.0106 - accuracy: 0.4221 - auc_7: 0.6440 - precision_7: 0.5000 - recall_7: 0.0041 - f1_score: 0.3407 - val_loss: 1.0611 - val_accuracy: 0.4098 - val_auc_7: 0.6142 - val_precision_7: 0.0000e+00 - val_recall_7: 0.0000e+00 - val_f1_score: 0.3217 - 733ms/epoch - 92ms/step\n",
      "Epoch 30/50\n",
      "8/8 - 1s - loss: 1.0077 - accuracy: 0.4139 - auc_7: 0.6465 - precision_7: 0.5000 - recall_7: 0.0041 - f1_score: 0.3329 - val_loss: 1.0585 - val_accuracy: 0.4262 - val_auc_7: 0.6234 - val_precision_7: 0.0000e+00 - val_recall_7: 0.0000e+00 - val_f1_score: 0.3335 - 720ms/epoch - 90ms/step\n",
      "Epoch 31/50\n",
      "8/8 - 1s - loss: 1.0087 - accuracy: 0.4139 - auc_7: 0.6386 - precision_7: 0.5000 - recall_7: 0.0041 - f1_score: 0.3330 - val_loss: 1.0674 - val_accuracy: 0.4098 - val_auc_7: 0.6092 - val_precision_7: 0.0000e+00 - val_recall_7: 0.0000e+00 - val_f1_score: 0.3211 - 749ms/epoch - 94ms/step\n",
      "Epoch 32/50\n",
      "8/8 - 1s - loss: 1.0044 - accuracy: 0.4180 - auc_7: 0.6430 - precision_7: 0.5000 - recall_7: 0.0041 - f1_score: 0.3361 - val_loss: 1.0590 - val_accuracy: 0.4180 - val_auc_7: 0.6202 - val_precision_7: 0.0000e+00 - val_recall_7: 0.0000e+00 - val_f1_score: 0.3247 - 751ms/epoch - 94ms/step\n",
      "Epoch 33/50\n",
      "8/8 - 1s - loss: 1.0007 - accuracy: 0.4344 - auc_7: 0.6492 - precision_7: 0.5000 - recall_7: 0.0041 - f1_score: 0.3481 - val_loss: 1.0580 - val_accuracy: 0.4180 - val_auc_7: 0.6213 - val_precision_7: 0.0000e+00 - val_recall_7: 0.0000e+00 - val_f1_score: 0.3255 - 744ms/epoch - 93ms/step\n",
      "Epoch 34/50\n",
      "8/8 - 1s - loss: 0.9976 - accuracy: 0.4344 - auc_7: 0.6518 - precision_7: 0.5000 - recall_7: 0.0041 - f1_score: 0.3479 - val_loss: 1.0570 - val_accuracy: 0.4262 - val_auc_7: 0.6271 - val_precision_7: 0.0000e+00 - val_recall_7: 0.0000e+00 - val_f1_score: 0.3318 - 740ms/epoch - 92ms/step\n",
      "Epoch 35/50\n",
      "8/8 - 1s - loss: 0.9967 - accuracy: 0.4344 - auc_7: 0.6523 - precision_7: 0.5000 - recall_7: 0.0041 - f1_score: 0.3472 - val_loss: 1.0635 - val_accuracy: 0.4262 - val_auc_7: 0.6195 - val_precision_7: 0.0000e+00 - val_recall_7: 0.0000e+00 - val_f1_score: 0.3330 - 756ms/epoch - 95ms/step\n",
      "Epoch 36/50\n",
      "8/8 - 1s - loss: 0.9925 - accuracy: 0.4467 - auc_7: 0.6557 - precision_7: 0.5000 - recall_7: 0.0041 - f1_score: 0.3547 - val_loss: 1.0600 - val_accuracy: 0.4508 - val_auc_7: 0.6197 - val_precision_7: 1.0000 - val_recall_7: 0.0082 - val_f1_score: 0.3491 - 744ms/epoch - 93ms/step\n",
      "Epoch 37/50\n",
      "8/8 - 1s - loss: 0.9878 - accuracy: 0.4508 - auc_7: 0.6607 - precision_7: 0.5000 - recall_7: 0.0082 - f1_score: 0.3574 - val_loss: 1.0509 - val_accuracy: 0.4508 - val_auc_7: 0.6384 - val_precision_7: 1.0000 - val_recall_7: 0.0164 - val_f1_score: 0.3462 - 888ms/epoch - 111ms/step\n",
      "Epoch 38/50\n",
      "8/8 - 1s - loss: 0.9852 - accuracy: 0.4467 - auc_7: 0.6660 - precision_7: 0.5000 - recall_7: 0.0082 - f1_score: 0.3539 - val_loss: 1.0483 - val_accuracy: 0.4590 - val_auc_7: 0.6421 - val_precision_7: 1.0000 - val_recall_7: 0.0164 - val_f1_score: 0.3525 - 807ms/epoch - 101ms/step\n",
      "Epoch 39/50\n",
      "8/8 - 1s - loss: 0.9831 - accuracy: 0.4426 - auc_7: 0.6675 - precision_7: 0.5000 - recall_7: 0.0082 - f1_score: 0.3507 - val_loss: 1.0450 - val_accuracy: 0.4672 - val_auc_7: 0.6505 - val_precision_7: 1.0000 - val_recall_7: 0.0164 - val_f1_score: 0.3570 - 794ms/epoch - 99ms/step\n",
      "Epoch 40/50\n",
      "8/8 - 1s - loss: 0.9792 - accuracy: 0.4467 - auc_7: 0.6766 - precision_7: 0.5000 - recall_7: 0.0082 - f1_score: 0.3531 - val_loss: 1.0328 - val_accuracy: 0.4754 - val_auc_7: 0.6696 - val_precision_7: 1.0000 - val_recall_7: 0.0164 - val_f1_score: 0.3615 - 760ms/epoch - 95ms/step\n",
      "Epoch 41/50\n",
      "8/8 - 1s - loss: 0.9742 - accuracy: 0.4549 - auc_7: 0.6843 - precision_7: 0.5000 - recall_7: 0.0123 - f1_score: 0.3581 - val_loss: 1.0202 - val_accuracy: 0.4754 - val_auc_7: 0.6830 - val_precision_7: 0.6667 - val_recall_7: 0.0164 - val_f1_score: 0.3580 - 735ms/epoch - 92ms/step\n",
      "Epoch 42/50\n",
      "8/8 - 1s - loss: 0.9775 - accuracy: 0.4590 - auc_7: 0.6915 - precision_7: 0.5000 - recall_7: 0.0123 - f1_score: 0.3613 - val_loss: 1.0156 - val_accuracy: 0.4672 - val_auc_7: 0.6918 - val_precision_7: 0.6667 - val_recall_7: 0.0164 - val_f1_score: 0.3484 - 733ms/epoch - 92ms/step\n",
      "Epoch 43/50\n",
      "8/8 - 1s - loss: 0.9676 - accuracy: 0.4590 - auc_7: 0.6919 - precision_7: 0.6000 - recall_7: 0.0123 - f1_score: 0.3618 - val_loss: 1.0181 - val_accuracy: 0.4344 - val_auc_7: 0.6862 - val_precision_7: 0.6667 - val_recall_7: 0.0164 - val_f1_score: 0.3273 - 763ms/epoch - 95ms/step\n",
      "Epoch 44/50\n",
      "8/8 - 1s - loss: 0.9668 - accuracy: 0.4631 - auc_7: 0.6880 - precision_7: 0.5000 - recall_7: 0.0123 - f1_score: 0.3651 - val_loss: 1.0241 - val_accuracy: 0.4672 - val_auc_7: 0.6711 - val_precision_7: 1.0000 - val_recall_7: 0.0164 - val_f1_score: 0.3535 - 779ms/epoch - 97ms/step\n",
      "Epoch 45/50\n",
      "8/8 - 1s - loss: 0.9658 - accuracy: 0.4549 - auc_7: 0.6906 - precision_7: 0.6000 - recall_7: 0.0123 - f1_score: 0.3585 - val_loss: 1.0158 - val_accuracy: 0.4836 - val_auc_7: 0.6899 - val_precision_7: 1.0000 - val_recall_7: 0.0164 - val_f1_score: 0.3661 - 735ms/epoch - 92ms/step\n",
      "Epoch 46/50\n",
      "8/8 - 1s - loss: 0.9624 - accuracy: 0.4549 - auc_7: 0.6919 - precision_7: 0.6000 - recall_7: 0.0123 - f1_score: 0.3588 - val_loss: 1.0240 - val_accuracy: 0.4836 - val_auc_7: 0.6694 - val_precision_7: 1.0000 - val_recall_7: 0.0164 - val_f1_score: 0.3661 - 733ms/epoch - 92ms/step\n",
      "Epoch 47/50\n",
      "8/8 - 1s - loss: 0.9589 - accuracy: 0.4549 - auc_7: 0.6873 - precision_7: 0.6000 - recall_7: 0.0123 - f1_score: 0.3585 - val_loss: 1.0226 - val_accuracy: 0.4836 - val_auc_7: 0.6779 - val_precision_7: 1.0000 - val_recall_7: 0.0164 - val_f1_score: 0.3661 - 700ms/epoch - 88ms/step\n",
      "Epoch 48/50\n",
      "8/8 - 1s - loss: 0.9563 - accuracy: 0.4549 - auc_7: 0.6925 - precision_7: 0.5714 - recall_7: 0.0164 - f1_score: 0.3585 - val_loss: 1.0194 - val_accuracy: 0.4836 - val_auc_7: 0.6799 - val_precision_7: 0.6000 - val_recall_7: 0.0246 - val_f1_score: 0.3661 - 715ms/epoch - 89ms/step\n",
      "Epoch 49/50\n",
      "8/8 - 1s - loss: 0.9536 - accuracy: 0.4549 - auc_7: 0.6904 - precision_7: 0.7273 - recall_7: 0.0328 - f1_score: 0.3584 - val_loss: 1.0192 - val_accuracy: 0.4918 - val_auc_7: 0.6782 - val_precision_7: 0.5000 - val_recall_7: 0.0246 - val_f1_score: 0.3723 - 743ms/epoch - 93ms/step\n",
      "Epoch 50/50\n",
      "8/8 - 1s - loss: 0.9521 - accuracy: 0.4508 - auc_7: 0.6870 - precision_7: 0.7273 - recall_7: 0.0328 - f1_score: 0.3555 - val_loss: 1.0262 - val_accuracy: 0.4918 - val_auc_7: 0.6660 - val_precision_7: 0.5000 - val_recall_7: 0.0246 - val_f1_score: 0.3723 - 693ms/epoch - 87ms/step\n"
     ]
    },
    {
     "data": {
      "image/png": "[encoded data removed]",
      "text/plain": [
       "<Figure size 432x288 with 1 Axes>"
      ]
     },
     "metadata": {
      "needs_background": "light"
     },
     "output_type": "display_data"
    }
   ],
   "source": [
    "for train_index, val_index in kf.split(X):\n",
    "    X_train, X_val = X[train_index], X[val_index]\n",
    "    y_train, y_val = y[train_index], y[val_index]\n",
    "    baseline_face_model = Baseline(n_features, n_length, n_outputs)\n",
    "    history = baseline_face_model.train(X_train, y_train, X_val, y_val, epochs, batch_size, d_class_weights)\n",
    "    plt.plot(history.history['loss'])\n",
    "    plt.show()"
   ]
  },
  {
   "cell_type": "markdown",
   "metadata": {},
   "source": [
    "#### Prediction on the holdout set"
   ]
  },
  {
   "cell_type": "code",
   "execution_count": 15,
   "metadata": {},
   "outputs": [
    {
     "name": "stdout",
     "output_type": "stream",
     "text": [
      "Accuracy: 30.74% \n",
      "Balanced Accuracy: 27.04% \n",
      "ROC/AUC: 0.62 \n",
      "Precision: 0.23 \n",
      "Recall: 0.01 \n",
      "F1 score: 0.23\n"
     ]
    }
   ],
   "source": [
    "y_pred = baseline_face_model.predict(X_test)\n",
    "_, acc, auc, precision, recall, f1 = baseline_face_model.evaluate(X_test, y_test)\n",
    "results.append(round(acc, 2))\n",
    "bal_acc = balanced_accuracy_score(y_test.argmax(axis=1), y_pred.argmax(axis=1)) \n",
    "print('Accuracy: {:.2f}% \\nBalanced Accuracy: {:.2f}% \\nROC/AUC: {:.2f} \\nPrecision: {:.2f} \\nRecall: {:.2f} \\nF1 score: {:.2f}'.format(acc * 100, bal_acc * 100, auc, precision, recall, f1))"
   ]
  },
  {
   "cell_type": "markdown",
   "metadata": {},
   "source": [
    "## 3. Multimodal Early Fusion"
   ]
  },
  {
   "cell_type": "markdown",
   "metadata": {},
   "source": [
    "### Dataset"
   ]
  },
  {
   "cell_type": "code",
   "execution_count": 16,
   "metadata": {},
   "outputs": [
    {
     "name": "stdout",
     "output_type": "stream",
     "text": [
      "(366, 350, 60) (366, 3)\n",
      "(231, 350, 60) (231, 3)\n"
     ]
    }
   ],
   "source": [
    "X_train, X_test, y_train, y_test = load_fusioned_dataset(level=True, nopain=False)\n",
    "X_train = X_train.reshape(X_train.shape[0], X_train.shape[2], X_train.shape[3])\n",
    "X_test = X_test.reshape(X_test.shape[0], X_test.shape[2], X_test.shape[3])\n",
    "X = X_train.copy()\n",
    "y = y_train.copy()\n",
    "\n",
    "print(X_train.shape, y_train.shape)\n",
    "print(X_test.shape, y_test.shape)\n",
    "\n",
    "n_length, n_features, n_outputs = X_train.shape[1], X_train.shape[-1], y_train.shape[1]"
   ]
  },
  {
   "cell_type": "code",
   "execution_count": 17,
   "metadata": {},
   "outputs": [
    {
     "name": "stdout",
     "output_type": "stream",
     "text": [
      "Model: \"model_8\"\n",
      "_________________________________________________________________\n",
      " Layer (type)                Output Shape              Param #   \n",
      "=================================================================\n",
      " input_9 (InputLayer)        [(None, 350, 60)]         0         \n",
      "                                                                 \n",
      " lstm_8 (LSTM)               (None, 50)                22200     \n",
      "                                                                 \n",
      " dense_16 (Dense)            (None, 50)                2550      \n",
      "                                                                 \n",
      " dense_17 (Dense)            (None, 3)                 153       \n",
      "                                                                 \n",
      "=================================================================\n",
      "Total params: 24,903\n",
      "Trainable params: 24,903\n",
      "Non-trainable params: 0\n",
      "_________________________________________________________________\n"
     ]
    }
   ],
   "source": [
    "model = Baseline(n_features, n_length, n_outputs)\n",
    "model.summary()"
   ]
  },
  {
   "cell_type": "markdown",
   "metadata": {},
   "source": [
    "### Baseline Model"
   ]
  },
  {
   "cell_type": "code",
   "execution_count": 18,
   "metadata": {},
   "outputs": [
    {
     "name": "stdout",
     "output_type": "stream",
     "text": [
      "Epoch 1/50\n",
      "8/8 - 3s - loss: 1.4748 - accuracy: 0.5082 - auc_9: 0.6859 - precision_9: 0.5270 - recall_9: 0.1598 - f1_score: 0.3218 - val_loss: 0.9961 - val_accuracy: 0.4918 - val_auc_9: 0.6990 - val_precision_9: 0.5349 - val_recall_9: 0.1885 - val_f1_score: 0.2956 - 3s/epoch - 432ms/step\n",
      "Epoch 2/50\n",
      "8/8 - 1s - loss: 1.4465 - accuracy: 0.5082 - auc_9: 0.6990 - precision_9: 0.5417 - recall_9: 0.1598 - f1_score: 0.3225 - val_loss: 1.0016 - val_accuracy: 0.5082 - val_auc_9: 0.6944 - val_precision_9: 0.5366 - val_recall_9: 0.1803 - val_f1_score: 0.3146 - 754ms/epoch - 94ms/step\n",
      "Epoch 3/50\n",
      "8/8 - 1s - loss: 1.3761 - accuracy: 0.5041 - auc_9: 0.7004 - precision_9: 0.5507 - recall_9: 0.1557 - f1_score: 0.3203 - val_loss: 1.0032 - val_accuracy: 0.5082 - val_auc_9: 0.6935 - val_precision_9: 0.5526 - val_recall_9: 0.1721 - val_f1_score: 0.3146 - 734ms/epoch - 92ms/step\n",
      "Epoch 4/50\n",
      "8/8 - 1s - loss: 1.3618 - accuracy: 0.5123 - auc_9: 0.7086 - precision_9: 0.5385 - recall_9: 0.1434 - f1_score: 0.3274 - val_loss: 1.0024 - val_accuracy: 0.5082 - val_auc_9: 0.6934 - val_precision_9: 0.5263 - val_recall_9: 0.1639 - val_f1_score: 0.3146 - 751ms/epoch - 94ms/step\n",
      "Epoch 5/50\n",
      "8/8 - 1s - loss: 1.3434 - accuracy: 0.5205 - auc_9: 0.7124 - precision_9: 0.5082 - recall_9: 0.1270 - f1_score: 0.3356 - val_loss: 0.9994 - val_accuracy: 0.5082 - val_auc_9: 0.7018 - val_precision_9: 0.5405 - val_recall_9: 0.1639 - val_f1_score: 0.3146 - 769ms/epoch - 96ms/step\n",
      "Epoch 6/50\n",
      "8/8 - 1s - loss: 1.3352 - accuracy: 0.5123 - auc_9: 0.7119 - precision_9: 0.5397 - recall_9: 0.1393 - f1_score: 0.3306 - val_loss: 1.0029 - val_accuracy: 0.5082 - val_auc_9: 0.6985 - val_precision_9: 0.5405 - val_recall_9: 0.1639 - val_f1_score: 0.3146 - 760ms/epoch - 95ms/step\n",
      "Epoch 7/50\n",
      "8/8 - 1s - loss: 1.3207 - accuracy: 0.5123 - auc_9: 0.7082 - precision_9: 0.5246 - recall_9: 0.1311 - f1_score: 0.3306 - val_loss: 1.0029 - val_accuracy: 0.5082 - val_auc_9: 0.6988 - val_precision_9: 0.5429 - val_recall_9: 0.1557 - val_f1_score: 0.3146 - 736ms/epoch - 92ms/step\n",
      "Epoch 8/50\n",
      "8/8 - 1s - loss: 1.3090 - accuracy: 0.5082 - auc_9: 0.7089 - precision_9: 0.5806 - recall_9: 0.1475 - f1_score: 0.3259 - val_loss: 1.0111 - val_accuracy: 0.4836 - val_auc_9: 0.6854 - val_precision_9: 0.5556 - val_recall_9: 0.1639 - val_f1_score: 0.2952 - 790ms/epoch - 99ms/step\n",
      "Epoch 9/50\n",
      "8/8 - 1s - loss: 1.2940 - accuracy: 0.5041 - auc_9: 0.7087 - precision_9: 0.5968 - recall_9: 0.1516 - f1_score: 0.3209 - val_loss: 1.0148 - val_accuracy: 0.4836 - val_auc_9: 0.6812 - val_precision_9: 0.5556 - val_recall_9: 0.1639 - val_f1_score: 0.2965 - 712ms/epoch - 89ms/step\n",
      "Epoch 10/50\n",
      "8/8 - 1s - loss: 1.2863 - accuracy: 0.5000 - auc_9: 0.7043 - precision_9: 0.6066 - recall_9: 0.1516 - f1_score: 0.3193 - val_loss: 1.0199 - val_accuracy: 0.4754 - val_auc_9: 0.6780 - val_precision_9: 0.5556 - val_recall_9: 0.1639 - val_f1_score: 0.2924 - 722ms/epoch - 90ms/step\n",
      "Epoch 11/50\n",
      "8/8 - 1s - loss: 1.2723 - accuracy: 0.5041 - auc_9: 0.7040 - precision_9: 0.5965 - recall_9: 0.1393 - f1_score: 0.4033 - val_loss: 1.0229 - val_accuracy: 0.4754 - val_auc_9: 0.6743 - val_precision_9: 0.5806 - val_recall_9: 0.1475 - val_f1_score: 0.2937 - 755ms/epoch - 94ms/step\n",
      "Epoch 12/50\n",
      "8/8 - 1s - loss: 1.2691 - accuracy: 0.5000 - auc_9: 0.6966 - precision_9: 0.5714 - recall_9: 0.1148 - f1_score: 0.3911 - val_loss: 1.0287 - val_accuracy: 0.4672 - val_auc_9: 0.6694 - val_precision_9: 0.5667 - val_recall_9: 0.1393 - val_f1_score: 0.2906 - 752ms/epoch - 94ms/step\n",
      "Epoch 13/50\n",
      "8/8 - 1s - loss: 1.2556 - accuracy: 0.5000 - auc_9: 0.6949 - precision_9: 0.5714 - recall_9: 0.1148 - f1_score: 0.3939 - val_loss: 1.0314 - val_accuracy: 0.4672 - val_auc_9: 0.6613 - val_precision_9: 0.5484 - val_recall_9: 0.1393 - val_f1_score: 0.2906 - 781ms/epoch - 98ms/step\n",
      "Epoch 14/50\n",
      "8/8 - 1s - loss: 1.2488 - accuracy: 0.5164 - auc_9: 0.6954 - precision_9: 0.6047 - recall_9: 0.1066 - f1_score: 0.4069 - val_loss: 1.0341 - val_accuracy: 0.4672 - val_auc_9: 0.6556 - val_precision_9: 0.6000 - val_recall_9: 0.1230 - val_f1_score: 0.2906 - 732ms/epoch - 92ms/step\n",
      "Epoch 15/50\n",
      "8/8 - 1s - loss: 1.2388 - accuracy: 0.5123 - auc_9: 0.6958 - precision_9: 0.5952 - recall_9: 0.1025 - f1_score: 0.3979 - val_loss: 1.0360 - val_accuracy: 0.4508 - val_auc_9: 0.6505 - val_precision_9: 0.5833 - val_recall_9: 0.1148 - val_f1_score: 0.2800 - 759ms/epoch - 95ms/step\n",
      "Epoch 16/50\n",
      "8/8 - 1s - loss: 1.2312 - accuracy: 0.5000 - auc_9: 0.6924 - precision_9: 0.6250 - recall_9: 0.1025 - f1_score: 0.4021 - val_loss: 1.0374 - val_accuracy: 0.4508 - val_auc_9: 0.6483 - val_precision_9: 0.6667 - val_recall_9: 0.1148 - val_f1_score: 0.3013 - 722ms/epoch - 90ms/step\n",
      "Epoch 17/50\n",
      "8/8 - 1s - loss: 1.2246 - accuracy: 0.5041 - auc_9: 0.6915 - precision_9: 0.6053 - recall_9: 0.0943 - f1_score: 0.4059 - val_loss: 1.0383 - val_accuracy: 0.4344 - val_auc_9: 0.6447 - val_precision_9: 0.6500 - val_recall_9: 0.1066 - val_f1_score: 0.2925 - 727ms/epoch - 91ms/step\n",
      "Epoch 18/50\n",
      "8/8 - 1s - loss: 1.2203 - accuracy: 0.4836 - auc_9: 0.6865 - precision_9: 0.6486 - recall_9: 0.0984 - f1_score: 0.3790 - val_loss: 1.0408 - val_accuracy: 0.4344 - val_auc_9: 0.6435 - val_precision_9: 0.7222 - val_recall_9: 0.1066 - val_f1_score: 0.2925 - 740ms/epoch - 93ms/step\n",
      "Epoch 19/50\n",
      "8/8 - 1s - loss: 1.2085 - accuracy: 0.4877 - auc_9: 0.6865 - precision_9: 0.6111 - recall_9: 0.0902 - f1_score: 0.3819 - val_loss: 1.0354 - val_accuracy: 0.4262 - val_auc_9: 0.6526 - val_precision_9: 0.6667 - val_recall_9: 0.1148 - val_f1_score: 0.2875 - 810ms/epoch - 101ms/step\n",
      "Epoch 20/50\n",
      "8/8 - 1s - loss: 1.1967 - accuracy: 0.4836 - auc_9: 0.6950 - precision_9: 0.6585 - recall_9: 0.1107 - f1_score: 0.3787 - val_loss: 1.0335 - val_accuracy: 0.4262 - val_auc_9: 0.6579 - val_precision_9: 0.6818 - val_recall_9: 0.1230 - val_f1_score: 0.2874 - 766ms/epoch - 96ms/step\n",
      "Epoch 21/50\n",
      "8/8 - 1s - loss: 1.2353 - accuracy: 0.4795 - auc_9: 0.6918 - precision_9: 0.6000 - recall_9: 0.1107 - f1_score: 0.3260 - val_loss: 1.0422 - val_accuracy: 0.4262 - val_auc_9: 0.6427 - val_precision_9: 0.6818 - val_recall_9: 0.1230 - val_f1_score: 0.2874 - 731ms/epoch - 91ms/step\n",
      "Epoch 22/50\n",
      "8/8 - 1s - loss: 1.2276 - accuracy: 0.4877 - auc_9: 0.6894 - precision_9: 0.6047 - recall_9: 0.1066 - f1_score: 0.3319 - val_loss: 1.0464 - val_accuracy: 0.4344 - val_auc_9: 0.6347 - val_precision_9: 0.7083 - val_recall_9: 0.1393 - val_f1_score: 0.2948 - 756ms/epoch - 94ms/step\n",
      "Epoch 23/50\n",
      "8/8 - 1s - loss: 1.2170 - accuracy: 0.4959 - auc_9: 0.6883 - precision_9: 0.5854 - recall_9: 0.0984 - f1_score: 0.3911 - val_loss: 1.0529 - val_accuracy: 0.4344 - val_auc_9: 0.6273 - val_precision_9: 0.6818 - val_recall_9: 0.1230 - val_f1_score: 0.2948 - 734ms/epoch - 92ms/step\n",
      "Epoch 24/50\n",
      "8/8 - 1s - loss: 1.2066 - accuracy: 0.5041 - auc_9: 0.6858 - precision_9: 0.6000 - recall_9: 0.0984 - f1_score: 0.4013 - val_loss: 1.0531 - val_accuracy: 0.4344 - val_auc_9: 0.6282 - val_precision_9: 0.5000 - val_recall_9: 0.0656 - val_f1_score: 0.2948 - 743ms/epoch - 93ms/step\n",
      "Epoch 25/50\n",
      "8/8 - 1s - loss: 1.1878 - accuracy: 0.5123 - auc_9: 0.6780 - precision_9: 0.6842 - recall_9: 0.1066 - f1_score: 0.4071 - val_loss: 1.0587 - val_accuracy: 0.4344 - val_auc_9: 0.6194 - val_precision_9: 0.5714 - val_recall_9: 0.0656 - val_f1_score: 0.2981 - 739ms/epoch - 92ms/step\n",
      "Epoch 26/50\n",
      "8/8 - 1s - loss: 1.1704 - accuracy: 0.4877 - auc_9: 0.6718 - precision_9: 0.6452 - recall_9: 0.0820 - f1_score: 0.3732 - val_loss: 1.0678 - val_accuracy: 0.4262 - val_auc_9: 0.6048 - val_precision_9: 0.5455 - val_recall_9: 0.0492 - val_f1_score: 0.2979 - 742ms/epoch - 93ms/step\n",
      "Epoch 27/50\n",
      "8/8 - 1s - loss: 1.1618 - accuracy: 0.4795 - auc_9: 0.6659 - precision_9: 0.7097 - recall_9: 0.0902 - f1_score: 0.3895 - val_loss: 1.0714 - val_accuracy: 0.4262 - val_auc_9: 0.5981 - val_precision_9: 0.5000 - val_recall_9: 0.0410 - val_f1_score: 0.2966 - 774ms/epoch - 97ms/step\n",
      "Epoch 28/50\n",
      "8/8 - 1s - loss: 1.1529 - accuracy: 0.4918 - auc_9: 0.6714 - precision_9: 0.7273 - recall_9: 0.0984 - f1_score: 0.4025 - val_loss: 1.0675 - val_accuracy: 0.4262 - val_auc_9: 0.6043 - val_precision_9: 0.5000 - val_recall_9: 0.0492 - val_f1_score: 0.2992 - 757ms/epoch - 95ms/step\n",
      "Epoch 29/50\n",
      "8/8 - 1s - loss: 1.1462 - accuracy: 0.5000 - auc_9: 0.6690 - precision_9: 0.7333 - recall_9: 0.0902 - f1_score: 0.4347 - val_loss: 1.0680 - val_accuracy: 0.4262 - val_auc_9: 0.6022 - val_precision_9: 0.6364 - val_recall_9: 0.0574 - val_f1_score: 0.3004 - 741ms/epoch - 93ms/step\n",
      "Epoch 30/50\n",
      "8/8 - 1s - loss: 1.1426 - accuracy: 0.4959 - auc_9: 0.6608 - precision_9: 0.7778 - recall_9: 0.0861 - f1_score: 0.4316 - val_loss: 1.0674 - val_accuracy: 0.4180 - val_auc_9: 0.6030 - val_precision_9: 0.6667 - val_recall_9: 0.0656 - val_f1_score: 0.2962 - 756ms/epoch - 94ms/step\n",
      "Epoch 31/50\n",
      "8/8 - 1s - loss: 1.1298 - accuracy: 0.5000 - auc_9: 0.6723 - precision_9: 0.7692 - recall_9: 0.0820 - f1_score: 0.4340 - val_loss: 1.0663 - val_accuracy: 0.4180 - val_auc_9: 0.6020 - val_precision_9: 0.7273 - val_recall_9: 0.0656 - val_f1_score: 0.2962 - 732ms/epoch - 92ms/step\n",
      "Epoch 32/50\n",
      "8/8 - 1s - loss: 1.1215 - accuracy: 0.4877 - auc_9: 0.6754 - precision_9: 0.7083 - recall_9: 0.0697 - f1_score: 0.4213 - val_loss: 1.0629 - val_accuracy: 0.4098 - val_auc_9: 0.6070 - val_precision_9: 0.6364 - val_recall_9: 0.0574 - val_f1_score: 0.2901 - 729ms/epoch - 91ms/step\n",
      "Epoch 33/50\n",
      "8/8 - 1s - loss: 1.1157 - accuracy: 0.4877 - auc_9: 0.6758 - precision_9: 0.6957 - recall_9: 0.0656 - f1_score: 0.4213 - val_loss: 1.0608 - val_accuracy: 0.4180 - val_auc_9: 0.6096 - val_precision_9: 0.6364 - val_recall_9: 0.0574 - val_f1_score: 0.2975 - 747ms/epoch - 93ms/step\n",
      "Epoch 34/50\n",
      "8/8 - 1s - loss: 1.1114 - accuracy: 0.4877 - auc_9: 0.6724 - precision_9: 0.6667 - recall_9: 0.0656 - f1_score: 0.4184 - val_loss: 1.0648 - val_accuracy: 0.4262 - val_auc_9: 0.6032 - val_precision_9: 0.6364 - val_recall_9: 0.0574 - val_f1_score: 0.3037 - 730ms/epoch - 91ms/step\n",
      "Epoch 35/50\n",
      "8/8 - 1s - loss: 1.1028 - accuracy: 0.4754 - auc_9: 0.6717 - precision_9: 0.6957 - recall_9: 0.0656 - f1_score: 0.4041 - val_loss: 1.0638 - val_accuracy: 0.4098 - val_auc_9: 0.6043 - val_precision_9: 0.7000 - val_recall_9: 0.0574 - val_f1_score: 0.2913 - 749ms/epoch - 94ms/step\n",
      "Epoch 36/50\n",
      "8/8 - 1s - loss: 1.0980 - accuracy: 0.4754 - auc_9: 0.6716 - precision_9: 0.6667 - recall_9: 0.0656 - f1_score: 0.4041 - val_loss: 1.0645 - val_accuracy: 0.4262 - val_auc_9: 0.6048 - val_precision_9: 0.7000 - val_recall_9: 0.0574 - val_f1_score: 0.3050 - 764ms/epoch - 95ms/step\n",
      "Epoch 37/50\n",
      "8/8 - 1s - loss: 1.0942 - accuracy: 0.4754 - auc_9: 0.6716 - precision_9: 0.6667 - recall_9: 0.0656 - f1_score: 0.3958 - val_loss: 1.0653 - val_accuracy: 0.4098 - val_auc_9: 0.6018 - val_precision_9: 0.7000 - val_recall_9: 0.0574 - val_f1_score: 0.2946 - 755ms/epoch - 94ms/step\n",
      "Epoch 38/50\n",
      "8/8 - 1s - loss: 1.0887 - accuracy: 0.4713 - auc_9: 0.6680 - precision_9: 0.7273 - recall_9: 0.0656 - f1_score: 0.3896 - val_loss: 1.0668 - val_accuracy: 0.4098 - val_auc_9: 0.5996 - val_precision_9: 0.7000 - val_recall_9: 0.0574 - val_f1_score: 0.2959 - 756ms/epoch - 95ms/step\n",
      "Epoch 39/50\n",
      "8/8 - 1s - loss: 1.0860 - accuracy: 0.4508 - auc_9: 0.6635 - precision_9: 0.7273 - recall_9: 0.0656 - f1_score: 0.3670 - val_loss: 1.0709 - val_accuracy: 0.4098 - val_auc_9: 0.5932 - val_precision_9: 0.7000 - val_recall_9: 0.0574 - val_f1_score: 0.2966 - 760ms/epoch - 95ms/step\n",
      "Epoch 40/50\n",
      "8/8 - 1s - loss: 1.0786 - accuracy: 0.4426 - auc_9: 0.6652 - precision_9: 0.6667 - recall_9: 0.0656 - f1_score: 0.3600 - val_loss: 1.0692 - val_accuracy: 0.3934 - val_auc_9: 0.5968 - val_precision_9: 0.7000 - val_recall_9: 0.0574 - val_f1_score: 0.2850 - 765ms/epoch - 96ms/step\n",
      "Epoch 41/50\n",
      "8/8 - 1s - loss: 1.0772 - accuracy: 0.4426 - auc_9: 0.6675 - precision_9: 0.6667 - recall_9: 0.0656 - f1_score: 0.3589 - val_loss: 1.0694 - val_accuracy: 0.3934 - val_auc_9: 0.5968 - val_precision_9: 0.7000 - val_recall_9: 0.0574 - val_f1_score: 0.2876 - 760ms/epoch - 95ms/step\n",
      "Epoch 42/50\n",
      "8/8 - 1s - loss: 1.0703 - accuracy: 0.4385 - auc_9: 0.6652 - precision_9: 0.6667 - recall_9: 0.0656 - f1_score: 0.3547 - val_loss: 1.0705 - val_accuracy: 0.4016 - val_auc_9: 0.5925 - val_precision_9: 0.7000 - val_recall_9: 0.0574 - val_f1_score: 0.2932 - 792ms/epoch - 99ms/step\n",
      "Epoch 43/50\n",
      "8/8 - 1s - loss: 1.0656 - accuracy: 0.4467 - auc_9: 0.6628 - precision_9: 0.6667 - recall_9: 0.0656 - f1_score: 0.3611 - val_loss: 1.0717 - val_accuracy: 0.4016 - val_auc_9: 0.5904 - val_precision_9: 0.7000 - val_recall_9: 0.0574 - val_f1_score: 0.2932 - 763ms/epoch - 95ms/step\n",
      "Epoch 44/50\n",
      "8/8 - 1s - loss: 1.0610 - accuracy: 0.4385 - auc_9: 0.6628 - precision_9: 0.6800 - recall_9: 0.0697 - f1_score: 0.3547 - val_loss: 1.0722 - val_accuracy: 0.4098 - val_auc_9: 0.5894 - val_precision_9: 0.7000 - val_recall_9: 0.0574 - val_f1_score: 0.3011 - 757ms/epoch - 95ms/step\n",
      "Epoch 45/50\n",
      "8/8 - 1s - loss: 1.0574 - accuracy: 0.4303 - auc_9: 0.6641 - precision_9: 0.6800 - recall_9: 0.0697 - f1_score: 0.3478 - val_loss: 1.0705 - val_accuracy: 0.4098 - val_auc_9: 0.5944 - val_precision_9: 0.7000 - val_recall_9: 0.0574 - val_f1_score: 0.3067 - 770ms/epoch - 96ms/step\n",
      "Epoch 46/50\n",
      "8/8 - 1s - loss: 1.0531 - accuracy: 0.4221 - auc_9: 0.6634 - precision_9: 0.7391 - recall_9: 0.0697 - f1_score: 0.3418 - val_loss: 1.0731 - val_accuracy: 0.3689 - val_auc_9: 0.5889 - val_precision_9: 0.6364 - val_recall_9: 0.0574 - val_f1_score: 0.2796 - 747ms/epoch - 93ms/step\n",
      "Epoch 47/50\n",
      "8/8 - 1s - loss: 1.0484 - accuracy: 0.4139 - auc_9: 0.6605 - precision_9: 0.7391 - recall_9: 0.0697 - f1_score: 0.3365 - val_loss: 1.0735 - val_accuracy: 0.3689 - val_auc_9: 0.5891 - val_precision_9: 0.6667 - val_recall_9: 0.0656 - val_f1_score: 0.2809 - 758ms/epoch - 95ms/step\n",
      "Epoch 48/50\n",
      "8/8 - 1s - loss: 1.0446 - accuracy: 0.4180 - auc_9: 0.6600 - precision_9: 0.7391 - recall_9: 0.0697 - f1_score: 0.3395 - val_loss: 1.0736 - val_accuracy: 0.3770 - val_auc_9: 0.5871 - val_precision_9: 0.6667 - val_recall_9: 0.0656 - val_f1_score: 0.2871 - 789ms/epoch - 99ms/step\n",
      "Epoch 49/50\n",
      "8/8 - 1s - loss: 1.0401 - accuracy: 0.4180 - auc_9: 0.6602 - precision_9: 0.6923 - recall_9: 0.0738 - f1_score: 0.3402 - val_loss: 1.0728 - val_accuracy: 0.3689 - val_auc_9: 0.5895 - val_precision_9: 0.5000 - val_recall_9: 0.0656 - val_f1_score: 0.2815 - 755ms/epoch - 94ms/step\n",
      "Epoch 50/50\n",
      "8/8 - 1s - loss: 1.0354 - accuracy: 0.4098 - auc_9: 0.6602 - precision_9: 0.6786 - recall_9: 0.0779 - f1_score: 0.3349 - val_loss: 1.0755 - val_accuracy: 0.3689 - val_auc_9: 0.5832 - val_precision_9: 0.4706 - val_recall_9: 0.0656 - val_f1_score: 0.2815 - 776ms/epoch - 97ms/step\n"
     ]
    },
    {
     "data": {
      "image/png": "[encoded data removed]",
      "text/plain": [
       "<Figure size 432x288 with 1 Axes>"
      ]
     },
     "metadata": {
      "needs_background": "light"
     },
     "output_type": "display_data"
    },
    {
     "name": "stdout",
     "output_type": "stream",
     "text": [
      "Epoch 1/50\n",
      "8/8 - 4s - loss: 0.9870 - accuracy: 0.1475 - auc_10: 0.3016 - precision_10: 0.0141 - recall_10: 0.0041 - f1_score: 0.1403 - val_loss: 1.2686 - val_accuracy: 0.2377 - val_auc_10: 0.3740 - val_precision_10: 0.0000e+00 - val_recall_10: 0.0000e+00 - val_f1_score: 0.2128 - 4s/epoch - 460ms/step\n",
      "Epoch 2/50\n",
      "8/8 - 1s - loss: 0.9454 - accuracy: 0.1803 - auc_10: 0.3628 - precision_10: 0.0172 - recall_10: 0.0041 - f1_score: 0.1669 - val_loss: 1.2145 - val_accuracy: 0.2623 - val_auc_10: 0.4326 - val_precision_10: 0.0625 - val_recall_10: 0.0082 - val_f1_score: 0.2278 - 762ms/epoch - 95ms/step\n",
      "Epoch 3/50\n",
      "8/8 - 1s - loss: 0.9142 - accuracy: 0.2377 - auc_10: 0.4261 - precision_10: 0.0541 - recall_10: 0.0082 - f1_score: 0.2137 - val_loss: 1.1637 - val_accuracy: 0.2951 - val_auc_10: 0.5009 - val_precision_10: 0.2500 - val_recall_10: 0.0328 - val_f1_score: 0.2463 - 714ms/epoch - 89ms/step\n",
      "Epoch 4/50\n",
      "8/8 - 1s - loss: 0.8831 - accuracy: 0.3033 - auc_10: 0.4933 - precision_10: 0.3043 - recall_10: 0.0574 - f1_score: 0.2609 - val_loss: 1.1323 - val_accuracy: 0.3033 - val_auc_10: 0.5404 - val_precision_10: 0.3077 - val_recall_10: 0.0328 - val_f1_score: 0.2458 - 718ms/epoch - 90ms/step\n",
      "Epoch 5/50\n",
      "8/8 - 1s - loss: 0.8585 - accuracy: 0.3566 - auc_10: 0.5519 - precision_10: 0.3333 - recall_10: 0.0533 - f1_score: 0.2934 - val_loss: 1.0995 - val_accuracy: 0.3689 - val_auc_10: 0.5868 - val_precision_10: 0.1111 - val_recall_10: 0.0082 - val_f1_score: 0.2792 - 734ms/epoch - 92ms/step\n",
      "Epoch 6/50\n",
      "8/8 - 1s - loss: 0.8392 - accuracy: 0.4016 - auc_10: 0.6063 - precision_10: 0.3250 - recall_10: 0.0533 - f1_score: 0.3179 - val_loss: 1.0721 - val_accuracy: 0.3852 - val_auc_10: 0.6321 - val_precision_10: 0.2000 - val_recall_10: 0.0164 - val_f1_score: 0.2765 - 756ms/epoch - 95ms/step\n",
      "Epoch 7/50\n",
      "8/8 - 1s - loss: 0.8166 - accuracy: 0.4672 - auc_10: 0.6597 - precision_10: 0.3721 - recall_10: 0.0656 - f1_score: 0.3570 - val_loss: 1.0247 - val_accuracy: 0.4754 - val_auc_10: 0.6837 - val_precision_10: 0.1818 - val_recall_10: 0.0164 - val_f1_score: 0.3256 - 742ms/epoch - 93ms/step\n",
      "Epoch 8/50\n",
      "8/8 - 1s - loss: 0.7971 - accuracy: 0.5041 - auc_10: 0.6916 - precision_10: 0.4524 - recall_10: 0.0779 - f1_score: 0.3776 - val_loss: 1.0009 - val_accuracy: 0.4836 - val_auc_10: 0.6979 - val_precision_10: 0.4667 - val_recall_10: 0.0574 - val_f1_score: 0.3279 - 713ms/epoch - 89ms/step\n",
      "Epoch 9/50\n",
      "8/8 - 1s - loss: 0.7829 - accuracy: 0.4918 - auc_10: 0.7030 - precision_10: 0.4681 - recall_10: 0.0902 - f1_score: 0.3682 - val_loss: 0.9816 - val_accuracy: 0.4590 - val_auc_10: 0.7018 - val_precision_10: 0.4444 - val_recall_10: 0.0656 - val_f1_score: 0.3067 - 773ms/epoch - 97ms/step\n",
      "Epoch 10/50\n",
      "8/8 - 1s - loss: 0.7676 - accuracy: 0.5041 - auc_10: 0.7196 - precision_10: 0.4464 - recall_10: 0.1025 - f1_score: 0.3765 - val_loss: 0.9644 - val_accuracy: 0.4672 - val_auc_10: 0.7061 - val_precision_10: 0.4400 - val_recall_10: 0.0902 - val_f1_score: 0.3121 - 788ms/epoch - 99ms/step\n",
      "Epoch 11/50\n",
      "8/8 - 1s - loss: 0.7532 - accuracy: 0.5205 - auc_10: 0.7334 - precision_10: 0.5538 - recall_10: 0.1475 - f1_score: 0.3881 - val_loss: 0.9507 - val_accuracy: 0.4672 - val_auc_10: 0.7121 - val_precision_10: 0.4062 - val_recall_10: 0.1066 - val_f1_score: 0.3108 - 780ms/epoch - 98ms/step\n",
      "Epoch 12/50\n",
      "8/8 - 1s - loss: 0.7432 - accuracy: 0.5287 - auc_10: 0.7430 - precision_10: 0.5455 - recall_10: 0.1721 - f1_score: 0.3942 - val_loss: 0.9395 - val_accuracy: 0.4918 - val_auc_10: 0.7150 - val_precision_10: 0.3784 - val_recall_10: 0.1148 - val_f1_score: 0.3271 - 770ms/epoch - 96ms/step\n",
      "Epoch 13/50\n",
      "8/8 - 1s - loss: 0.7351 - accuracy: 0.5369 - auc_10: 0.7491 - precision_10: 0.5600 - recall_10: 0.1721 - f1_score: 0.3986 - val_loss: 0.9307 - val_accuracy: 0.4918 - val_auc_10: 0.7143 - val_precision_10: 0.3947 - val_recall_10: 0.1230 - val_f1_score: 0.3231 - 706ms/epoch - 88ms/step\n",
      "Epoch 14/50\n",
      "8/8 - 1s - loss: 0.7256 - accuracy: 0.5287 - auc_10: 0.7544 - precision_10: 0.5663 - recall_10: 0.1926 - f1_score: 0.3922 - val_loss: 0.9232 - val_accuracy: 0.4918 - val_auc_10: 0.7109 - val_precision_10: 0.4146 - val_recall_10: 0.1393 - val_f1_score: 0.3194 - 771ms/epoch - 96ms/step\n",
      "Epoch 15/50\n",
      "8/8 - 1s - loss: 0.7179 - accuracy: 0.5533 - auc_10: 0.7596 - precision_10: 0.5714 - recall_10: 0.2131 - f1_score: 0.4075 - val_loss: 0.9158 - val_accuracy: 0.5000 - val_auc_10: 0.7135 - val_precision_10: 0.4444 - val_recall_10: 0.1639 - val_f1_score: 0.3214 - 813ms/epoch - 102ms/step\n",
      "Epoch 16/50\n",
      "8/8 - 1s - loss: 0.7120 - accuracy: 0.5492 - auc_10: 0.7640 - precision_10: 0.5612 - recall_10: 0.2254 - f1_score: 0.4049 - val_loss: 0.9070 - val_accuracy: 0.4836 - val_auc_10: 0.7145 - val_precision_10: 0.4667 - val_recall_10: 0.1721 - val_f1_score: 0.3148 - 847ms/epoch - 106ms/step\n",
      "Epoch 17/50\n",
      "8/8 - 1s - loss: 0.7045 - accuracy: 0.5492 - auc_10: 0.7697 - precision_10: 0.5849 - recall_10: 0.2541 - f1_score: 0.4056 - val_loss: 0.9032 - val_accuracy: 0.4918 - val_auc_10: 0.7140 - val_precision_10: 0.4600 - val_recall_10: 0.1885 - val_f1_score: 0.3194 - 753ms/epoch - 94ms/step\n",
      "Epoch 18/50\n",
      "8/8 - 1s - loss: 0.6976 - accuracy: 0.5369 - auc_10: 0.7719 - precision_10: 0.6091 - recall_10: 0.2746 - f1_score: 0.3965 - val_loss: 0.8944 - val_accuracy: 0.5164 - val_auc_10: 0.7164 - val_precision_10: 0.4717 - val_recall_10: 0.2049 - val_f1_score: 0.3331 - 705ms/epoch - 88ms/step\n",
      "Epoch 19/50\n",
      "8/8 - 1s - loss: 0.6924 - accuracy: 0.5328 - auc_10: 0.7720 - precision_10: 0.5789 - recall_10: 0.2705 - f1_score: 0.3954 - val_loss: 0.8873 - val_accuracy: 0.5000 - val_auc_10: 0.7223 - val_precision_10: 0.4727 - val_recall_10: 0.2131 - val_f1_score: 0.3264 - 858ms/epoch - 107ms/step\n",
      "Epoch 20/50\n",
      "8/8 - 1s - loss: 0.6866 - accuracy: 0.5369 - auc_10: 0.7707 - precision_10: 0.5789 - recall_10: 0.2705 - f1_score: 0.3997 - val_loss: 0.8814 - val_accuracy: 0.4754 - val_auc_10: 0.7226 - val_precision_10: 0.5000 - val_recall_10: 0.2377 - val_f1_score: 0.3123 - 848ms/epoch - 106ms/step\n",
      "Epoch 21/50\n",
      "8/8 - 1s - loss: 0.6824 - accuracy: 0.5451 - auc_10: 0.7715 - precision_10: 0.5913 - recall_10: 0.2787 - f1_score: 0.4055 - val_loss: 0.8761 - val_accuracy: 0.5000 - val_auc_10: 0.7272 - val_precision_10: 0.4833 - val_recall_10: 0.2377 - val_f1_score: 0.3285 - 1s/epoch - 147ms/step\n",
      "Epoch 22/50\n",
      "8/8 - 1s - loss: 0.6776 - accuracy: 0.5369 - auc_10: 0.7757 - precision_10: 0.6000 - recall_10: 0.2951 - f1_score: 0.3986 - val_loss: 0.8730 - val_accuracy: 0.4836 - val_auc_10: 0.7275 - val_precision_10: 0.5000 - val_recall_10: 0.2377 - val_f1_score: 0.3190 - 759ms/epoch - 95ms/step\n",
      "Epoch 23/50\n",
      "8/8 - 1s - loss: 0.6731 - accuracy: 0.5492 - auc_10: 0.7758 - precision_10: 0.6047 - recall_10: 0.3197 - f1_score: 0.4089 - val_loss: 0.8716 - val_accuracy: 0.5164 - val_auc_10: 0.7250 - val_precision_10: 0.5000 - val_recall_10: 0.2541 - val_f1_score: 0.3400 - 751ms/epoch - 94ms/step\n",
      "Epoch 24/50\n",
      "8/8 - 1s - loss: 0.6695 - accuracy: 0.5492 - auc_10: 0.7773 - precision_10: 0.6061 - recall_10: 0.3279 - f1_score: 0.4124 - val_loss: 0.8728 - val_accuracy: 0.5000 - val_auc_10: 0.7224 - val_precision_10: 0.4833 - val_recall_10: 0.2377 - val_f1_score: 0.3264 - 688ms/epoch - 86ms/step\n",
      "Epoch 25/50\n",
      "8/8 - 1s - loss: 0.6648 - accuracy: 0.5615 - auc_10: 0.7805 - precision_10: 0.6269 - recall_10: 0.3443 - f1_score: 0.4174 - val_loss: 0.8702 - val_accuracy: 0.4836 - val_auc_10: 0.7213 - val_precision_10: 0.4839 - val_recall_10: 0.2459 - val_f1_score: 0.3123 - 879ms/epoch - 110ms/step\n",
      "Epoch 26/50\n",
      "8/8 - 1s - loss: 0.6615 - accuracy: 0.5574 - auc_10: 0.7809 - precision_10: 0.6131 - recall_10: 0.3443 - f1_score: 0.4141 - val_loss: 0.8670 - val_accuracy: 0.5000 - val_auc_10: 0.7225 - val_precision_10: 0.5000 - val_recall_10: 0.2623 - val_f1_score: 0.3240 - 735ms/epoch - 92ms/step\n",
      "Epoch 27/50\n",
      "8/8 - 1s - loss: 0.6586 - accuracy: 0.5410 - auc_10: 0.7837 - precision_10: 0.6250 - recall_10: 0.3484 - f1_score: 0.4041 - val_loss: 0.8668 - val_accuracy: 0.5082 - val_auc_10: 0.7192 - val_precision_10: 0.4706 - val_recall_10: 0.2623 - val_f1_score: 0.3286 - 748ms/epoch - 93ms/step\n",
      "Epoch 28/50\n",
      "8/8 - 1s - loss: 0.6548 - accuracy: 0.5615 - auc_10: 0.7843 - precision_10: 0.6214 - recall_10: 0.3566 - f1_score: 0.4188 - val_loss: 0.8645 - val_accuracy: 0.4918 - val_auc_10: 0.7178 - val_precision_10: 0.4638 - val_recall_10: 0.2623 - val_f1_score: 0.3141 - 882ms/epoch - 110ms/step\n",
      "Epoch 29/50\n",
      "8/8 - 1s - loss: 0.6503 - accuracy: 0.5615 - auc_10: 0.7862 - precision_10: 0.6268 - recall_10: 0.3648 - f1_score: 0.4174 - val_loss: 0.8579 - val_accuracy: 0.5000 - val_auc_10: 0.7210 - val_precision_10: 0.4638 - val_recall_10: 0.2623 - val_f1_score: 0.3264 - 853ms/epoch - 107ms/step\n",
      "Epoch 30/50\n",
      "8/8 - 1s - loss: 0.6457 - accuracy: 0.5574 - auc_10: 0.7893 - precision_10: 0.6187 - recall_10: 0.3525 - f1_score: 0.4149 - val_loss: 0.8519 - val_accuracy: 0.4918 - val_auc_10: 0.7271 - val_precision_10: 0.4627 - val_recall_10: 0.2541 - val_f1_score: 0.3194 - 819ms/epoch - 102ms/step\n",
      "Epoch 31/50\n",
      "8/8 - 1s - loss: 0.6410 - accuracy: 0.5738 - auc_10: 0.7936 - precision_10: 0.6259 - recall_10: 0.3566 - f1_score: 0.4387 - val_loss: 0.8498 - val_accuracy: 0.5000 - val_auc_10: 0.7287 - val_precision_10: 0.4638 - val_recall_10: 0.2623 - val_f1_score: 0.3214 - 809ms/epoch - 101ms/step\n",
      "Epoch 32/50\n",
      "8/8 - 1s - loss: 0.6380 - accuracy: 0.5902 - auc_10: 0.7956 - precision_10: 0.6143 - recall_10: 0.3525 - f1_score: 0.4471 - val_loss: 0.8476 - val_accuracy: 0.5000 - val_auc_10: 0.7299 - val_precision_10: 0.4658 - val_recall_10: 0.2787 - val_f1_score: 0.3154 - 755ms/epoch - 94ms/step\n",
      "Epoch 33/50\n",
      "8/8 - 1s - loss: 0.6716 - accuracy: 0.6066 - auc_10: 0.7958 - precision_10: 0.6071 - recall_10: 0.3484 - f1_score: 0.4559 - val_loss: 0.8436 - val_accuracy: 0.5000 - val_auc_10: 0.7285 - val_precision_10: 0.4605 - val_recall_10: 0.2869 - val_f1_score: 0.3185 - 777ms/epoch - 97ms/step\n",
      "Epoch 34/50\n",
      "8/8 - 1s - loss: 0.6665 - accuracy: 0.6025 - auc_10: 0.7970 - precision_10: 0.6176 - recall_10: 0.3443 - f1_score: 0.4553 - val_loss: 0.8445 - val_accuracy: 0.4918 - val_auc_10: 0.7283 - val_precision_10: 0.4805 - val_recall_10: 0.3033 - val_f1_score: 0.3110 - 808ms/epoch - 101ms/step\n",
      "Epoch 35/50\n",
      "8/8 - 1s - loss: 0.6639 - accuracy: 0.5861 - auc_10: 0.7959 - precision_10: 0.6187 - recall_10: 0.3525 - f1_score: 0.4462 - val_loss: 0.8441 - val_accuracy: 0.5164 - val_auc_10: 0.7276 - val_precision_10: 0.4684 - val_recall_10: 0.3033 - val_f1_score: 0.3331 - 732ms/epoch - 92ms/step\n",
      "Epoch 36/50\n",
      "8/8 - 1s - loss: 0.6594 - accuracy: 0.5656 - auc_10: 0.7953 - precision_10: 0.6224 - recall_10: 0.3648 - f1_score: 0.4330 - val_loss: 0.8435 - val_accuracy: 0.5082 - val_auc_10: 0.7271 - val_precision_10: 0.4878 - val_recall_10: 0.3279 - val_f1_score: 0.3259 - 742ms/epoch - 93ms/step\n",
      "Epoch 37/50\n",
      "8/8 - 1s - loss: 0.6556 - accuracy: 0.5615 - auc_10: 0.7967 - precision_10: 0.6207 - recall_10: 0.3689 - f1_score: 0.4312 - val_loss: 0.8413 - val_accuracy: 0.5000 - val_auc_10: 0.7298 - val_precision_10: 0.4878 - val_recall_10: 0.3279 - val_f1_score: 0.3185 - 783ms/epoch - 98ms/step\n",
      "Epoch 38/50\n",
      "8/8 - 1s - loss: 0.6542 - accuracy: 0.5738 - auc_10: 0.7967 - precision_10: 0.6207 - recall_10: 0.3689 - f1_score: 0.4394 - val_loss: 0.8392 - val_accuracy: 0.5000 - val_auc_10: 0.7316 - val_precision_10: 0.4938 - val_recall_10: 0.3279 - val_f1_score: 0.3185 - 746ms/epoch - 93ms/step\n",
      "Epoch 39/50\n",
      "8/8 - 1s - loss: 0.6499 - accuracy: 0.5779 - auc_10: 0.7980 - precision_10: 0.6216 - recall_10: 0.3770 - f1_score: 0.4432 - val_loss: 0.8389 - val_accuracy: 0.5164 - val_auc_10: 0.7315 - val_precision_10: 0.4878 - val_recall_10: 0.3279 - val_f1_score: 0.3331 - 809ms/epoch - 101ms/step\n",
      "Epoch 40/50\n",
      "8/8 - 1s - loss: 0.6464 - accuracy: 0.5697 - auc_10: 0.7988 - precision_10: 0.6284 - recall_10: 0.3811 - f1_score: 0.4341 - val_loss: 0.8372 - val_accuracy: 0.5164 - val_auc_10: 0.7317 - val_precision_10: 0.5000 - val_recall_10: 0.3443 - val_f1_score: 0.3357 - 792ms/epoch - 99ms/step\n",
      "Epoch 41/50\n",
      "8/8 - 1s - loss: 0.6425 - accuracy: 0.5615 - auc_10: 0.7996 - precision_10: 0.6291 - recall_10: 0.3893 - f1_score: 0.4290 - val_loss: 0.8370 - val_accuracy: 0.5082 - val_auc_10: 0.7308 - val_precision_10: 0.4941 - val_recall_10: 0.3443 - val_f1_score: 0.3286 - 782ms/epoch - 98ms/step\n",
      "Epoch 42/50\n",
      "8/8 - 1s - loss: 0.6393 - accuracy: 0.5656 - auc_10: 0.8005 - precision_10: 0.6225 - recall_10: 0.3852 - f1_score: 0.4321 - val_loss: 0.8333 - val_accuracy: 0.5164 - val_auc_10: 0.7354 - val_precision_10: 0.5059 - val_recall_10: 0.3525 - val_f1_score: 0.3331 - 862ms/epoch - 108ms/step\n",
      "Epoch 43/50\n",
      "8/8 - 1s - loss: 0.6368 - accuracy: 0.5738 - auc_10: 0.8020 - precision_10: 0.6242 - recall_10: 0.3811 - f1_score: 0.4320 - val_loss: 0.8330 - val_accuracy: 0.5164 - val_auc_10: 0.7335 - val_precision_10: 0.4884 - val_recall_10: 0.3443 - val_f1_score: 0.3205 - 733ms/epoch - 92ms/step\n",
      "Epoch 44/50\n",
      "8/8 - 1s - loss: 0.6343 - accuracy: 0.5902 - auc_10: 0.8035 - precision_10: 0.6242 - recall_10: 0.3811 - f1_score: 0.4427 - val_loss: 0.8310 - val_accuracy: 0.5082 - val_auc_10: 0.7334 - val_precision_10: 0.4828 - val_recall_10: 0.3443 - val_f1_score: 0.3197 - 704ms/epoch - 88ms/step\n",
      "Epoch 45/50\n",
      "8/8 - 1s - loss: 0.6333 - accuracy: 0.5943 - auc_10: 0.8028 - precision_10: 0.6284 - recall_10: 0.3811 - f1_score: 0.4477 - val_loss: 0.8299 - val_accuracy: 0.5000 - val_auc_10: 0.7354 - val_precision_10: 0.4884 - val_recall_10: 0.3443 - val_f1_score: 0.3154 - 813ms/epoch - 102ms/step\n",
      "Epoch 46/50\n",
      "8/8 - 1s - loss: 0.6301 - accuracy: 0.5984 - auc_10: 0.8020 - precision_10: 0.6309 - recall_10: 0.3852 - f1_score: 0.4476 - val_loss: 0.8324 - val_accuracy: 0.5246 - val_auc_10: 0.7356 - val_precision_10: 0.4943 - val_recall_10: 0.3525 - val_f1_score: 0.3248 - 693ms/epoch - 87ms/step\n",
      "Epoch 47/50\n",
      "8/8 - 1s - loss: 0.6258 - accuracy: 0.5984 - auc_10: 0.8061 - precision_10: 0.6358 - recall_10: 0.3934 - f1_score: 0.4476 - val_loss: 0.8320 - val_accuracy: 0.5246 - val_auc_10: 0.7338 - val_precision_10: 0.4944 - val_recall_10: 0.3607 - val_f1_score: 0.3248 - 674ms/epoch - 84ms/step\n",
      "Epoch 48/50\n",
      "8/8 - 1s - loss: 0.6238 - accuracy: 0.6107 - auc_10: 0.8076 - precision_10: 0.6358 - recall_10: 0.3934 - f1_score: 0.4528 - val_loss: 0.8328 - val_accuracy: 0.5164 - val_auc_10: 0.7325 - val_precision_10: 0.4886 - val_recall_10: 0.3525 - val_f1_score: 0.3125 - 692ms/epoch - 86ms/step\n",
      "Epoch 49/50\n",
      "8/8 - 1s - loss: 0.6221 - accuracy: 0.6066 - auc_10: 0.8061 - precision_10: 0.6316 - recall_10: 0.3934 - f1_score: 0.4504 - val_loss: 0.8300 - val_accuracy: 0.5246 - val_auc_10: 0.7362 - val_precision_10: 0.5000 - val_recall_10: 0.3607 - val_f1_score: 0.3248 - 760ms/epoch - 95ms/step\n",
      "Epoch 50/50\n",
      "8/8 - 1s - loss: 0.6196 - accuracy: 0.6107 - auc_10: 0.8062 - precision_10: 0.6364 - recall_10: 0.4016 - f1_score: 0.4549 - val_loss: 0.8313 - val_accuracy: 0.5246 - val_auc_10: 0.7336 - val_precision_10: 0.4884 - val_recall_10: 0.3443 - val_f1_score: 0.3248 - 680ms/epoch - 85ms/step\n"
     ]
    },
    {
     "data": {
      "image/png": "[encoded data removed]",
      "text/plain": [
       "<Figure size 432x288 with 1 Axes>"
      ]
     },
     "metadata": {
      "needs_background": "light"
     },
     "output_type": "display_data"
    },
    {
     "name": "stdout",
     "output_type": "stream",
     "text": [
      "Epoch 1/50\n",
      "8/8 - 3s - loss: 1.2188 - accuracy: 0.1434 - auc_11: 0.2888 - precision_11: 0.1743 - recall_11: 0.0779 - f1_score: 0.1196 - val_loss: 1.4812 - val_accuracy: 0.2131 - val_auc_11: 0.3417 - val_precision_11: 0.1961 - val_recall_11: 0.0820 - val_f1_score: 0.1603 - 3s/epoch - 348ms/step\n",
      "Epoch 2/50\n",
      "8/8 - 1s - loss: 1.1728 - accuracy: 0.1885 - auc_11: 0.3211 - precision_11: 0.2174 - recall_11: 0.0820 - f1_score: 0.1506 - val_loss: 1.4231 - val_accuracy: 0.2213 - val_auc_11: 0.3520 - val_precision_11: 0.1538 - val_recall_11: 0.0492 - val_f1_score: 0.1691 - 727ms/epoch - 91ms/step\n",
      "Epoch 3/50\n",
      "8/8 - 1s - loss: 1.1626 - accuracy: 0.2090 - auc_11: 0.3392 - precision_11: 0.2418 - recall_11: 0.0902 - f1_score: 0.1638 - val_loss: 1.3840 - val_accuracy: 0.2459 - val_auc_11: 0.3529 - val_precision_11: 0.1250 - val_recall_11: 0.0410 - val_f1_score: 0.1796 - 887ms/epoch - 111ms/step\n",
      "Epoch 4/50\n",
      "8/8 - 1s - loss: 1.1305 - accuracy: 0.2172 - auc_11: 0.3405 - precision_11: 0.2118 - recall_11: 0.0738 - f1_score: 0.1673 - val_loss: 1.3635 - val_accuracy: 0.2213 - val_auc_11: 0.3508 - val_precision_11: 0.1143 - val_recall_11: 0.0328 - val_f1_score: 0.1679 - 644ms/epoch - 81ms/step\n",
      "Epoch 5/50\n",
      "8/8 - 1s - loss: 1.1065 - accuracy: 0.2172 - auc_11: 0.3490 - precision_11: 0.1622 - recall_11: 0.0492 - f1_score: 0.1765 - val_loss: 1.3384 - val_accuracy: 0.2131 - val_auc_11: 0.3501 - val_precision_11: 0.0606 - val_recall_11: 0.0164 - val_f1_score: 0.1666 - 640ms/epoch - 80ms/step\n",
      "Epoch 6/50\n",
      "8/8 - 1s - loss: 1.0901 - accuracy: 0.2254 - auc_11: 0.3673 - precision_11: 0.1515 - recall_11: 0.0410 - f1_score: 0.1869 - val_loss: 1.3109 - val_accuracy: 0.2213 - val_auc_11: 0.3598 - val_precision_11: 0.0606 - val_recall_11: 0.0164 - val_f1_score: 0.1758 - 672ms/epoch - 84ms/step\n",
      "Epoch 7/50\n",
      "8/8 - 1s - loss: 1.0720 - accuracy: 0.2459 - auc_11: 0.3842 - precision_11: 0.1746 - recall_11: 0.0451 - f1_score: 0.2102 - val_loss: 1.2868 - val_accuracy: 0.2213 - val_auc_11: 0.3649 - val_precision_11: 0.0645 - val_recall_11: 0.0164 - val_f1_score: 0.1794 - 657ms/epoch - 82ms/step\n",
      "Epoch 8/50\n",
      "8/8 - 1s - loss: 1.0545 - accuracy: 0.2541 - auc_11: 0.4034 - precision_11: 0.1897 - recall_11: 0.0451 - f1_score: 0.2180 - val_loss: 1.2726 - val_accuracy: 0.2049 - val_auc_11: 0.3634 - val_precision_11: 0.0714 - val_recall_11: 0.0164 - val_f1_score: 0.1649 - 696ms/epoch - 87ms/step\n",
      "Epoch 9/50\n",
      "8/8 - 1s - loss: 1.0318 - accuracy: 0.2582 - auc_11: 0.4223 - precision_11: 0.1636 - recall_11: 0.0369 - f1_score: 0.2256 - val_loss: 1.2525 - val_accuracy: 0.2049 - val_auc_11: 0.3754 - val_precision_11: 0.1379 - val_recall_11: 0.0328 - val_f1_score: 0.1752 - 726ms/epoch - 91ms/step\n",
      "Epoch 10/50\n",
      "8/8 - 1s - loss: 1.0226 - accuracy: 0.2992 - auc_11: 0.4470 - precision_11: 0.1818 - recall_11: 0.0410 - f1_score: 0.2554 - val_loss: 1.2256 - val_accuracy: 0.2459 - val_auc_11: 0.3996 - val_precision_11: 0.1429 - val_recall_11: 0.0328 - val_f1_score: 0.2012 - 642ms/epoch - 80ms/step\n",
      "Epoch 11/50\n",
      "8/8 - 1s - loss: 1.0080 - accuracy: 0.3402 - auc_11: 0.4778 - precision_11: 0.2041 - recall_11: 0.0410 - f1_score: 0.2858 - val_loss: 1.2033 - val_accuracy: 0.2459 - val_auc_11: 0.4209 - val_precision_11: 0.1481 - val_recall_11: 0.0328 - val_f1_score: 0.2027 - 638ms/epoch - 80ms/step\n",
      "Epoch 12/50\n",
      "8/8 - 1s - loss: 1.0012 - accuracy: 0.3443 - auc_11: 0.4963 - precision_11: 0.2273 - recall_11: 0.0410 - f1_score: 0.2867 - val_loss: 1.1816 - val_accuracy: 0.2705 - val_auc_11: 0.4447 - val_precision_11: 0.1923 - val_recall_11: 0.0410 - val_f1_score: 0.2244 - 646ms/epoch - 81ms/step\n",
      "Epoch 13/50\n",
      "8/8 - 1s - loss: 0.9970 - accuracy: 0.3525 - auc_11: 0.5118 - precision_11: 0.2439 - recall_11: 0.0410 - f1_score: 0.2915 - val_loss: 1.1635 - val_accuracy: 0.2951 - val_auc_11: 0.4657 - val_precision_11: 0.2083 - val_recall_11: 0.0410 - val_f1_score: 0.2424 - 652ms/epoch - 82ms/step\n",
      "Epoch 14/50\n",
      "8/8 - 1s - loss: 0.9906 - accuracy: 0.3648 - auc_11: 0.5307 - precision_11: 0.2927 - recall_11: 0.0492 - f1_score: 0.2985 - val_loss: 1.1501 - val_accuracy: 0.3525 - val_auc_11: 0.4821 - val_precision_11: 0.2083 - val_recall_11: 0.0410 - val_f1_score: 0.2875 - 646ms/epoch - 81ms/step\n",
      "Epoch 15/50\n",
      "8/8 - 1s - loss: 0.9808 - accuracy: 0.3852 - auc_11: 0.5520 - precision_11: 0.3590 - recall_11: 0.0574 - f1_score: 0.3124 - val_loss: 1.1316 - val_accuracy: 0.3770 - val_auc_11: 0.5076 - val_precision_11: 0.2400 - val_recall_11: 0.0492 - val_f1_score: 0.3049 - 635ms/epoch - 79ms/step\n",
      "Epoch 16/50\n",
      "8/8 - 1s - loss: 0.9737 - accuracy: 0.4180 - auc_11: 0.5687 - precision_11: 0.3902 - recall_11: 0.0656 - f1_score: 0.3331 - val_loss: 1.1203 - val_accuracy: 0.3852 - val_auc_11: 0.5216 - val_precision_11: 0.2800 - val_recall_11: 0.0574 - val_f1_score: 0.3096 - 651ms/epoch - 81ms/step\n",
      "Epoch 17/50\n",
      "8/8 - 1s - loss: 0.9559 - accuracy: 0.4344 - auc_11: 0.5884 - precision_11: 0.4318 - recall_11: 0.0779 - f1_score: 0.3424 - val_loss: 1.1119 - val_accuracy: 0.3852 - val_auc_11: 0.5297 - val_precision_11: 0.3043 - val_recall_11: 0.0574 - val_f1_score: 0.3088 - 636ms/epoch - 79ms/step\n",
      "Epoch 18/50\n",
      "8/8 - 1s - loss: 0.9440 - accuracy: 0.4303 - auc_11: 0.5985 - precision_11: 0.4792 - recall_11: 0.0943 - f1_score: 0.3359 - val_loss: 1.1059 - val_accuracy: 0.3934 - val_auc_11: 0.5358 - val_precision_11: 0.3043 - val_recall_11: 0.0574 - val_f1_score: 0.3146 - 640ms/epoch - 80ms/step\n",
      "Epoch 19/50\n",
      "8/8 - 1s - loss: 0.9518 - accuracy: 0.4303 - auc_11: 0.6099 - precision_11: 0.4792 - recall_11: 0.0943 - f1_score: 0.3323 - val_loss: 1.0968 - val_accuracy: 0.3852 - val_auc_11: 0.5465 - val_precision_11: 0.2917 - val_recall_11: 0.0574 - val_f1_score: 0.3082 - 657ms/epoch - 82ms/step\n",
      "Epoch 20/50\n",
      "8/8 - 1s - loss: 0.9432 - accuracy: 0.4344 - auc_11: 0.6195 - precision_11: 0.4792 - recall_11: 0.0943 - f1_score: 0.3354 - val_loss: 1.0885 - val_accuracy: 0.3689 - val_auc_11: 0.5578 - val_precision_11: 0.3043 - val_recall_11: 0.0574 - val_f1_score: 0.2958 - 639ms/epoch - 80ms/step\n",
      "Epoch 21/50\n",
      "8/8 - 1s - loss: 0.9333 - accuracy: 0.4508 - auc_11: 0.6407 - precision_11: 0.4898 - recall_11: 0.0984 - f1_score: 0.3463 - val_loss: 1.0790 - val_accuracy: 0.3770 - val_auc_11: 0.5685 - val_precision_11: 0.3333 - val_recall_11: 0.0656 - val_f1_score: 0.3004 - 640ms/epoch - 80ms/step\n",
      "Epoch 22/50\n",
      "8/8 - 1s - loss: 0.9266 - accuracy: 0.4426 - auc_11: 0.6505 - precision_11: 0.5000 - recall_11: 0.1066 - f1_score: 0.3388 - val_loss: 1.0747 - val_accuracy: 0.3770 - val_auc_11: 0.5736 - val_precision_11: 0.3333 - val_recall_11: 0.0656 - val_f1_score: 0.3004 - 643ms/epoch - 80ms/step\n",
      "Epoch 23/50\n",
      "8/8 - 1s - loss: 0.9205 - accuracy: 0.4508 - auc_11: 0.6585 - precision_11: 0.5000 - recall_11: 0.1025 - f1_score: 0.3461 - val_loss: 1.0688 - val_accuracy: 0.3689 - val_auc_11: 0.5825 - val_precision_11: 0.3200 - val_recall_11: 0.0656 - val_f1_score: 0.2936 - 645ms/epoch - 81ms/step\n",
      "Epoch 24/50\n",
      "8/8 - 1s - loss: 0.9181 - accuracy: 0.4631 - auc_11: 0.6590 - precision_11: 0.4906 - recall_11: 0.1066 - f1_score: 0.3557 - val_loss: 1.0714 - val_accuracy: 0.4016 - val_auc_11: 0.5822 - val_precision_11: 0.3333 - val_recall_11: 0.0656 - val_f1_score: 0.3180 - 642ms/epoch - 80ms/step\n",
      "Epoch 25/50\n",
      "8/8 - 1s - loss: 0.9147 - accuracy: 0.4672 - auc_11: 0.6618 - precision_11: 0.5000 - recall_11: 0.1148 - f1_score: 0.3552 - val_loss: 1.0667 - val_accuracy: 0.4016 - val_auc_11: 0.5871 - val_precision_11: 0.3600 - val_recall_11: 0.0738 - val_f1_score: 0.2960 - 639ms/epoch - 80ms/step\n",
      "Epoch 26/50\n",
      "8/8 - 1s - loss: 0.9097 - accuracy: 0.4713 - auc_11: 0.6667 - precision_11: 0.5254 - recall_11: 0.1270 - f1_score: 0.3585 - val_loss: 1.0616 - val_accuracy: 0.3934 - val_auc_11: 0.5925 - val_precision_11: 0.3913 - val_recall_11: 0.0738 - val_f1_score: 0.2877 - 637ms/epoch - 80ms/step\n",
      "Epoch 27/50\n",
      "8/8 - 1s - loss: 0.9059 - accuracy: 0.4754 - auc_11: 0.6744 - precision_11: 0.5172 - recall_11: 0.1230 - f1_score: 0.3619 - val_loss: 1.0542 - val_accuracy: 0.3934 - val_auc_11: 0.6030 - val_precision_11: 0.4091 - val_recall_11: 0.0738 - val_f1_score: 0.2876 - 640ms/epoch - 80ms/step\n",
      "Epoch 28/50\n",
      "8/8 - 1s - loss: 0.9076 - accuracy: 0.4672 - auc_11: 0.6776 - precision_11: 0.5254 - recall_11: 0.1270 - f1_score: 0.3519 - val_loss: 1.0488 - val_accuracy: 0.4016 - val_auc_11: 0.6072 - val_precision_11: 0.3913 - val_recall_11: 0.0738 - val_f1_score: 0.2919 - 646ms/epoch - 81ms/step\n",
      "Epoch 29/50\n",
      "8/8 - 1s - loss: 0.8998 - accuracy: 0.4713 - auc_11: 0.6836 - precision_11: 0.5410 - recall_11: 0.1352 - f1_score: 0.3558 - val_loss: 1.0427 - val_accuracy: 0.4016 - val_auc_11: 0.6143 - val_precision_11: 0.4167 - val_recall_11: 0.0820 - val_f1_score: 0.2906 - 637ms/epoch - 80ms/step\n",
      "Epoch 30/50\n",
      "8/8 - 1s - loss: 0.8948 - accuracy: 0.4795 - auc_11: 0.6900 - precision_11: 0.5821 - recall_11: 0.1598 - f1_score: 0.3623 - val_loss: 1.0418 - val_accuracy: 0.4016 - val_auc_11: 0.6158 - val_precision_11: 0.4615 - val_recall_11: 0.0984 - val_f1_score: 0.2906 - 641ms/epoch - 80ms/step\n",
      "Epoch 31/50\n",
      "8/8 - 1s - loss: 0.8920 - accuracy: 0.4795 - auc_11: 0.6925 - precision_11: 0.5821 - recall_11: 0.1598 - f1_score: 0.3625 - val_loss: 1.0367 - val_accuracy: 0.4016 - val_auc_11: 0.6213 - val_precision_11: 0.4615 - val_recall_11: 0.0984 - val_f1_score: 0.2906 - 640ms/epoch - 80ms/step\n",
      "Epoch 32/50\n",
      "8/8 - 1s - loss: 0.8893 - accuracy: 0.4795 - auc_11: 0.6960 - precision_11: 0.5846 - recall_11: 0.1557 - f1_score: 0.3613 - val_loss: 1.0339 - val_accuracy: 0.4016 - val_auc_11: 0.6241 - val_precision_11: 0.4615 - val_recall_11: 0.0984 - val_f1_score: 0.2893 - 639ms/epoch - 80ms/step\n",
      "Epoch 33/50\n",
      "8/8 - 1s - loss: 0.9643 - accuracy: 0.4713 - auc_11: 0.6933 - precision_11: 0.5846 - recall_11: 0.1557 - f1_score: 0.3406 - val_loss: 1.0345 - val_accuracy: 0.4016 - val_auc_11: 0.6235 - val_precision_11: 0.4615 - val_recall_11: 0.0984 - val_f1_score: 0.2905 - 639ms/epoch - 80ms/step\n",
      "Epoch 34/50\n",
      "8/8 - 1s - loss: 0.9613 - accuracy: 0.4713 - auc_11: 0.6951 - precision_11: 0.5758 - recall_11: 0.1557 - f1_score: 0.3396 - val_loss: 1.0340 - val_accuracy: 0.4016 - val_auc_11: 0.6234 - val_precision_11: 0.4615 - val_recall_11: 0.0984 - val_f1_score: 0.2905 - 639ms/epoch - 80ms/step\n",
      "Epoch 35/50\n",
      "8/8 - 1s - loss: 0.9601 - accuracy: 0.4795 - auc_11: 0.6977 - precision_11: 0.5882 - recall_11: 0.1639 - f1_score: 0.3466 - val_loss: 1.0294 - val_accuracy: 0.4016 - val_auc_11: 0.6299 - val_precision_11: 0.4615 - val_recall_11: 0.0984 - val_f1_score: 0.2893 - 643ms/epoch - 80ms/step\n",
      "Epoch 36/50\n",
      "8/8 - 1s - loss: 0.9573 - accuracy: 0.4795 - auc_11: 0.6991 - precision_11: 0.5857 - recall_11: 0.1680 - f1_score: 0.3468 - val_loss: 1.0321 - val_accuracy: 0.3934 - val_auc_11: 0.6264 - val_precision_11: 0.4400 - val_recall_11: 0.0902 - val_f1_score: 0.2838 - 638ms/epoch - 80ms/step\n",
      "Epoch 37/50\n",
      "8/8 - 1s - loss: 0.9525 - accuracy: 0.4713 - auc_11: 0.6987 - precision_11: 0.5672 - recall_11: 0.1557 - f1_score: 0.3394 - val_loss: 1.0358 - val_accuracy: 0.3934 - val_auc_11: 0.6226 - val_precision_11: 0.4231 - val_recall_11: 0.0902 - val_f1_score: 0.2837 - 643ms/epoch - 80ms/step\n",
      "Epoch 38/50\n",
      "8/8 - 1s - loss: 0.9200 - accuracy: 0.4795 - auc_11: 0.6998 - precision_11: 0.5606 - recall_11: 0.1516 - f1_score: 0.3612 - val_loss: 1.0387 - val_accuracy: 0.3934 - val_auc_11: 0.6206 - val_precision_11: 0.4231 - val_recall_11: 0.0902 - val_f1_score: 0.2850 - 646ms/epoch - 81ms/step\n",
      "Epoch 39/50\n",
      "8/8 - 1s - loss: 0.9143 - accuracy: 0.4877 - auc_11: 0.7015 - precision_11: 0.5645 - recall_11: 0.1434 - f1_score: 0.3674 - val_loss: 1.0363 - val_accuracy: 0.3934 - val_auc_11: 0.6239 - val_precision_11: 0.3929 - val_recall_11: 0.0902 - val_f1_score: 0.2863 - 647ms/epoch - 81ms/step\n",
      "Epoch 40/50\n",
      "8/8 - 1s - loss: 0.9143 - accuracy: 0.4795 - auc_11: 0.6985 - precision_11: 0.5714 - recall_11: 0.1475 - f1_score: 0.3610 - val_loss: 1.0348 - val_accuracy: 0.3934 - val_auc_11: 0.6241 - val_precision_11: 0.3929 - val_recall_11: 0.0902 - val_f1_score: 0.2876 - 645ms/epoch - 81ms/step\n",
      "Epoch 41/50\n",
      "8/8 - 1s - loss: 0.9116 - accuracy: 0.4836 - auc_11: 0.7031 - precision_11: 0.5797 - recall_11: 0.1639 - f1_score: 0.3642 - val_loss: 1.0264 - val_accuracy: 0.4262 - val_auc_11: 0.6336 - val_precision_11: 0.4483 - val_recall_11: 0.1066 - val_f1_score: 0.3061 - 653ms/epoch - 82ms/step\n",
      "Epoch 42/50\n",
      "8/8 - 1s - loss: 0.9068 - accuracy: 0.4754 - auc_11: 0.7054 - precision_11: 0.5915 - recall_11: 0.1721 - f1_score: 0.3534 - val_loss: 1.0270 - val_accuracy: 0.4098 - val_auc_11: 0.6302 - val_precision_11: 0.4074 - val_recall_11: 0.0902 - val_f1_score: 0.2902 - 643ms/epoch - 80ms/step\n",
      "Epoch 43/50\n",
      "8/8 - 1s - loss: 0.9026 - accuracy: 0.4918 - auc_11: 0.7071 - precision_11: 0.5694 - recall_11: 0.1680 - f1_score: 0.3699 - val_loss: 1.0264 - val_accuracy: 0.4262 - val_auc_11: 0.6312 - val_precision_11: 0.3793 - val_recall_11: 0.0902 - val_f1_score: 0.3034 - 681ms/epoch - 85ms/step\n",
      "Epoch 44/50\n",
      "8/8 - 1s - loss: 0.9001 - accuracy: 0.4959 - auc_11: 0.7088 - precision_11: 0.5676 - recall_11: 0.1721 - f1_score: 0.3729 - val_loss: 1.0242 - val_accuracy: 0.4180 - val_auc_11: 0.6332 - val_precision_11: 0.3929 - val_recall_11: 0.0902 - val_f1_score: 0.2975 - 637ms/epoch - 80ms/step\n",
      "Epoch 45/50\n",
      "8/8 - 1s - loss: 0.8980 - accuracy: 0.4918 - auc_11: 0.7100 - precision_11: 0.5890 - recall_11: 0.1762 - f1_score: 0.3691 - val_loss: 1.0219 - val_accuracy: 0.4098 - val_auc_11: 0.6352 - val_precision_11: 0.3929 - val_recall_11: 0.0902 - val_f1_score: 0.2877 - 640ms/epoch - 80ms/step\n",
      "Epoch 46/50\n",
      "8/8 - 1s - loss: 0.8955 - accuracy: 0.4959 - auc_11: 0.7129 - precision_11: 0.5753 - recall_11: 0.1721 - f1_score: 0.3742 - val_loss: 1.0190 - val_accuracy: 0.4180 - val_auc_11: 0.6391 - val_precision_11: 0.4074 - val_recall_11: 0.0902 - val_f1_score: 0.2949 - 644ms/epoch - 81ms/step\n",
      "Epoch 47/50\n",
      "8/8 - 1s - loss: 0.8942 - accuracy: 0.4959 - auc_11: 0.7134 - precision_11: 0.5694 - recall_11: 0.1680 - f1_score: 0.3735 - val_loss: 1.0185 - val_accuracy: 0.4180 - val_auc_11: 0.6396 - val_precision_11: 0.4231 - val_recall_11: 0.0902 - val_f1_score: 0.2949 - 645ms/epoch - 81ms/step\n",
      "Epoch 48/50\n",
      "8/8 - 1s - loss: 0.8917 - accuracy: 0.5000 - auc_11: 0.7186 - precision_11: 0.5867 - recall_11: 0.1803 - f1_score: 0.3752 - val_loss: 1.0144 - val_accuracy: 0.4262 - val_auc_11: 0.6451 - val_precision_11: 0.4483 - val_recall_11: 0.1066 - val_f1_score: 0.3000 - 643ms/epoch - 80ms/step\n",
      "Epoch 49/50\n",
      "8/8 - 1s - loss: 0.8908 - accuracy: 0.5123 - auc_11: 0.7182 - precision_11: 0.5921 - recall_11: 0.1844 - f1_score: 0.3844 - val_loss: 1.0150 - val_accuracy: 0.4344 - val_auc_11: 0.6436 - val_precision_11: 0.4483 - val_recall_11: 0.1066 - val_f1_score: 0.3071 - 642ms/epoch - 80ms/step\n",
      "Epoch 50/50\n",
      "8/8 - 1s - loss: 0.8880 - accuracy: 0.5082 - auc_11: 0.7204 - precision_11: 0.5974 - recall_11: 0.1885 - f1_score: 0.3806 - val_loss: 1.0119 - val_accuracy: 0.4262 - val_auc_11: 0.6461 - val_precision_11: 0.4483 - val_recall_11: 0.1066 - val_f1_score: 0.3000 - 650ms/epoch - 81ms/step\n"
     ]
    },
    {
     "data": {
      "image/png": "[encoded data removed]",
      "text/plain": [
       "<Figure size 432x288 with 1 Axes>"
      ]
     },
     "metadata": {
      "needs_background": "light"
     },
     "output_type": "display_data"
    }
   ],
   "source": [
    "for train_index, val_index in kf.split(X):\n",
    "    X_train, X_val = X[train_index], X[val_index]\n",
    "    y_train, y_val = y[train_index], y[val_index]\n",
    "    model = Baseline(n_features, n_length, n_outputs)\n",
    "    history = model.train(X_train, y_train, X_val, y_val, epochs, batch_size, d_class_weights)\n",
    "    plt.plot(history.history['loss'])\n",
    "    plt.show()"
   ]
  },
  {
   "cell_type": "markdown",
   "metadata": {},
   "source": [
    "##### Prediction on the holdout set"
   ]
  },
  {
   "cell_type": "code",
   "execution_count": 19,
   "metadata": {},
   "outputs": [
    {
     "name": "stdout",
     "output_type": "stream",
     "text": [
      "Accuracy: 40.26% \n",
      "Balanced Accuracy: 37.76% \n",
      "ROC/AUC: 0.61 \n",
      "Precision: 0.74 \n",
      "Recall: 0.14 \n",
      "F1 score: 0.25\n"
     ]
    }
   ],
   "source": [
    "y_pred = model.predict(X_test)\n",
    "_, acc, auc, precision, recall, f1 = model.evaluate(X_test, y_test)\n",
    "results.append(round(acc, 2))\n",
    "bal_acc = balanced_accuracy_score(y_test.argmax(axis=1), y_pred.argmax(axis=1)) \n",
    "print('Accuracy: {:.2f}% \\nBalanced Accuracy: {:.2f}% \\nROC/AUC: {:.2f} \\nPrecision: {:.2f} \\nRecall: {:.2f} \\nF1 score: {:.2f}'.format(acc * 100, bal_acc * 100, auc, precision, recall, f1))"
   ]
  },
  {
   "cell_type": "markdown",
   "metadata": {},
   "source": [
    "## 4. Multimodal Late Fusion"
   ]
  },
  {
   "cell_type": "markdown",
   "metadata": {},
   "source": [
    "### Dataset"
   ]
  },
  {
   "cell_type": "code",
   "execution_count": 20,
   "metadata": {},
   "outputs": [
    {
     "name": "stdout",
     "output_type": "stream",
     "text": [
      "(366, 350, 35) (366, 3)\n",
      "(231, 350, 35) (231, 3)\n"
     ]
    }
   ],
   "source": [
    "body_X_train, body_X_test, body_y_train, body_y_test = load_dataset('skeleton', fusion=True, level=True, nopain=False)\n",
    "body_X_train = body_X_train.reshape(body_X_train.shape[0], body_X_train.shape[2], body_X_train.shape[3])\n",
    "body_X_test = body_X_test.reshape(body_X_test.shape[0], body_X_test.shape[2], body_X_test.shape[3])\n",
    "body_X = body_X_train.copy()\n",
    "body_y = body_y_train.copy()\n",
    "\n",
    "print(body_X_train.shape, body_y_train.shape)\n",
    "print(body_X_test.shape, body_y_test.shape)"
   ]
  },
  {
   "cell_type": "code",
   "execution_count": 21,
   "metadata": {},
   "outputs": [
    {
     "name": "stdout",
     "output_type": "stream",
     "text": [
      "(366, 350, 25) (366, 3)\n",
      "(231, 350, 25) (231, 3)\n"
     ]
    }
   ],
   "source": [
    "face_X_train, face_X_test, face_y_train, face_y_test = load_dataset('AUs', level=True, nopain=False)\n",
    "face_X_train = face_X_train.reshape(face_X_train.shape[0], face_X_train.shape[2], face_X_train.shape[3])\n",
    "face_X_test = face_X_test.reshape(face_X_test.shape[0], face_X_test.shape[2], face_X_test.shape[3])\n",
    "face_X = face_X_train.copy()\n",
    "face_y = face_y_train.copy()\n",
    "\n",
    "print(face_X_train.shape, face_y_train.shape)\n",
    "print(face_X_test.shape, face_y_test.shape)"
   ]
  },
  {
   "cell_type": "code",
   "execution_count": 22,
   "metadata": {},
   "outputs": [],
   "source": [
    "n_length, body_features, face_features, n_outputs = face_X_train.shape[1], body_X_train.shape[-1], face_X_train.shape[-1], body_y_train.shape[1]"
   ]
  },
  {
   "cell_type": "markdown",
   "metadata": {},
   "source": [
    "### Baseline Model"
   ]
  },
  {
   "cell_type": "code",
   "execution_count": 23,
   "metadata": {},
   "outputs": [],
   "source": [
    "class fusioned_Baseline():\n",
    "    def __init__(self, body_features, face_features, n_length, n_outputs):\n",
    "        input_1 = Input(shape=(n_length, body_features))\n",
    "        lstm_1 = LSTM(50)(input_1)\n",
    "        dense_1 = Dense(50)(lstm_1)\n",
    "\n",
    "        input_2 = Input(shape=(n_length, face_features))\n",
    "        lstm_2 = LSTM(50)(input_2)\n",
    "        dense_2 = Dense(50)(lstm_2)\n",
    "\n",
    "        concat = Concatenate()([dense_1, dense_2])\n",
    "        output = Dense(units=n_outputs, activation='softmax')(concat)\n",
    "        model = Model(inputs=[input_1, input_2], outputs=[output])\n",
    "        model.compile(loss='categorical_crossentropy', optimizer=tf.keras.optimizers.Adam(learning_rate=0.0001), metrics=['accuracy', tf.keras.metrics.AUC(), tf.keras.metrics.Precision(), tf.keras.metrics.Recall(), tfa.metrics.F1Score(num_classes=n_outputs, average='macro')])\n",
    "        self.model = model\n",
    "\n",
    "    def train(self, body_X_train, face_X_train, y_train, body_X_val, face_X_val, y_val, epochs, batch_size, class_weight):\n",
    "        history = self.model.fit([body_X_train, face_X_train], y_train, validation_data=([body_X_val, face_X_val], y_val), \n",
    "                            epochs=epochs, batch_size=batch_size, class_weight=class_weight, verbose=2)\n",
    "        return history\n",
    "\n",
    "    def evaluate(self, body_X_test, face_X_test, y_test):\n",
    "        results = self.model.evaluate([body_X_test, face_X_test], y_test, verbose=0)\n",
    "        return results\n",
    "\n",
    "    def predict(self, body_X_test, face_X_test):\n",
    "        predictions = self.model.predict([body_X_test, face_X_test])\n",
    "        return predictions\n",
    "\n",
    "    def summary(self):\n",
    "        self.model.summary()"
   ]
  },
  {
   "cell_type": "code",
   "execution_count": 24,
   "metadata": {},
   "outputs": [
    {
     "name": "stdout",
     "output_type": "stream",
     "text": [
      "Model: \"model_12\"\n",
      "__________________________________________________________________________________________________\n",
      " Layer (type)                   Output Shape         Param #     Connected to                     \n",
      "==================================================================================================\n",
      " input_13 (InputLayer)          [(None, 350, 35)]    0           []                               \n",
      "                                                                                                  \n",
      " input_14 (InputLayer)          [(None, 350, 25)]    0           []                               \n",
      "                                                                                                  \n",
      " lstm_12 (LSTM)                 (None, 50)           17200       ['input_13[0][0]']               \n",
      "                                                                                                  \n",
      " lstm_13 (LSTM)                 (None, 50)           15200       ['input_14[0][0]']               \n",
      "                                                                                                  \n",
      " dense_24 (Dense)               (None, 50)           2550        ['lstm_12[0][0]']                \n",
      "                                                                                                  \n",
      " dense_25 (Dense)               (None, 50)           2550        ['lstm_13[0][0]']                \n",
      "                                                                                                  \n",
      " concatenate (Concatenate)      (None, 100)          0           ['dense_24[0][0]',               \n",
      "                                                                  'dense_25[0][0]']               \n",
      "                                                                                                  \n",
      " dense_26 (Dense)               (None, 3)            303         ['concatenate[0][0]']            \n",
      "                                                                                                  \n",
      "==================================================================================================\n",
      "Total params: 37,803\n",
      "Trainable params: 37,803\n",
      "Non-trainable params: 0\n",
      "__________________________________________________________________________________________________\n"
     ]
    }
   ],
   "source": [
    "model = fusioned_Baseline(body_features, face_features, n_length, n_outputs)\n",
    "model.summary()"
   ]
  },
  {
   "cell_type": "markdown",
   "metadata": {},
   "source": [
    "### Baseline Model"
   ]
  },
  {
   "cell_type": "code",
   "execution_count": 25,
   "metadata": {},
   "outputs": [
    {
     "name": "stdout",
     "output_type": "stream",
     "text": [
      "Epoch 1/50\n",
      "8/8 - 4s - loss: 1.4680 - accuracy: 0.0123 - auc_13: 0.2881 - precision_13: 0.0123 - recall_13: 0.0123 - f1_score: 0.0081 - val_loss: 1.7276 - val_accuracy: 0.0000e+00 - val_auc_13: 0.2961 - val_precision_13: 0.0000e+00 - val_recall_13: 0.0000e+00 - val_f1_score: 0.0000e+00 - 4s/epoch - 515ms/step\n",
      "Epoch 2/50\n",
      "8/8 - 1s - loss: 1.4137 - accuracy: 0.0123 - auc_13: 0.2887 - precision_13: 0.0124 - recall_13: 0.0123 - f1_score: 0.0081 - val_loss: 1.6221 - val_accuracy: 0.0000e+00 - val_auc_13: 0.2959 - val_precision_13: 0.0000e+00 - val_recall_13: 0.0000e+00 - val_f1_score: 0.0000e+00 - 813ms/epoch - 102ms/step\n",
      "Epoch 3/50\n",
      "8/8 - 1s - loss: 1.3616 - accuracy: 0.0123 - auc_13: 0.2925 - precision_13: 0.0127 - recall_13: 0.0123 - f1_score: 0.0081 - val_loss: 1.5721 - val_accuracy: 0.0000e+00 - val_auc_13: 0.2939 - val_precision_13: 0.0000e+00 - val_recall_13: 0.0000e+00 - val_f1_score: 0.0000e+00 - 780ms/epoch - 98ms/step\n",
      "Epoch 4/50\n",
      "8/8 - 1s - loss: 1.3070 - accuracy: 0.0123 - auc_13: 0.2918 - precision_13: 0.0137 - recall_13: 0.0123 - f1_score: 0.0081 - val_loss: 1.5147 - val_accuracy: 0.0000e+00 - val_auc_13: 0.2895 - val_precision_13: 0.0000e+00 - val_recall_13: 0.0000e+00 - val_f1_score: 0.0000e+00 - 789ms/epoch - 99ms/step\n",
      "Epoch 5/50\n",
      "8/8 - 1s - loss: 1.2530 - accuracy: 0.0123 - auc_13: 0.2891 - precision_13: 0.0148 - recall_13: 0.0123 - f1_score: 0.0081 - val_loss: 1.4615 - val_accuracy: 0.0000e+00 - val_auc_13: 0.2862 - val_precision_13: 0.0000e+00 - val_recall_13: 0.0000e+00 - val_f1_score: 0.0000e+00 - 774ms/epoch - 97ms/step\n",
      "Epoch 6/50\n",
      "8/8 - 1s - loss: 1.2242 - accuracy: 0.0164 - auc_13: 0.2880 - precision_13: 0.0178 - recall_13: 0.0123 - f1_score: 0.0130 - val_loss: 1.3855 - val_accuracy: 0.0246 - val_auc_13: 0.2892 - val_precision_13: 0.0000e+00 - val_recall_13: 0.0000e+00 - val_f1_score: 0.0309 - 789ms/epoch - 99ms/step\n",
      "Epoch 7/50\n",
      "8/8 - 1s - loss: 1.2088 - accuracy: 0.0369 - auc_13: 0.2890 - precision_13: 0.0256 - recall_13: 0.0123 - f1_score: 0.0381 - val_loss: 1.3318 - val_accuracy: 0.0574 - val_auc_13: 0.2866 - val_precision_13: 0.0000e+00 - val_recall_13: 0.0000e+00 - val_f1_score: 0.0659 - 793ms/epoch - 99ms/step\n",
      "Epoch 8/50\n",
      "8/8 - 1s - loss: 1.1684 - accuracy: 0.0451 - auc_13: 0.2895 - precision_13: 0.0366 - recall_13: 0.0123 - f1_score: 0.0469 - val_loss: 1.2938 - val_accuracy: 0.0820 - val_auc_13: 0.2889 - val_precision_13: 0.0000e+00 - val_recall_13: 0.0000e+00 - val_f1_score: 0.0976 - 831ms/epoch - 104ms/step\n",
      "Epoch 9/50\n",
      "8/8 - 1s - loss: 1.1393 - accuracy: 0.0615 - auc_13: 0.2897 - precision_13: 0.0536 - recall_13: 0.0123 - f1_score: 0.0675 - val_loss: 1.2672 - val_accuracy: 0.0902 - val_auc_13: 0.2848 - val_precision_13: 0.0455 - val_recall_13: 0.0082 - val_f1_score: 0.1028 - 805ms/epoch - 101ms/step\n",
      "Epoch 10/50\n",
      "8/8 - 1s - loss: 1.1461 - accuracy: 0.0779 - auc_13: 0.2937 - precision_13: 0.0732 - recall_13: 0.0123 - f1_score: 0.0858 - val_loss: 1.2410 - val_accuracy: 0.0984 - val_auc_13: 0.2911 - val_precision_13: 0.0909 - val_recall_13: 0.0082 - val_f1_score: 0.1127 - 769ms/epoch - 96ms/step\n",
      "Epoch 11/50\n",
      "8/8 - 1s - loss: 1.1633 - accuracy: 0.0861 - auc_13: 0.3073 - precision_13: 0.0741 - recall_13: 0.0082 - f1_score: 0.0952 - val_loss: 1.2228 - val_accuracy: 0.1148 - val_auc_13: 0.3047 - val_precision_13: 0.1111 - val_recall_13: 0.0082 - val_f1_score: 0.1267 - 813ms/epoch - 102ms/step\n",
      "Epoch 12/50\n",
      "8/8 - 1s - loss: 1.1523 - accuracy: 0.1025 - auc_13: 0.3244 - precision_13: 0.0833 - recall_13: 0.0082 - f1_score: 0.1109 - val_loss: 1.2016 - val_accuracy: 0.1475 - val_auc_13: 0.3389 - val_precision_13: 0.1111 - val_recall_13: 0.0082 - val_f1_score: 0.1508 - 782ms/epoch - 98ms/step\n",
      "Epoch 13/50\n",
      "8/8 - 1s - loss: 1.1594 - accuracy: 0.1885 - auc_13: 0.3723 - precision_13: 0.0588 - recall_13: 0.0041 - f1_score: 0.1861 - val_loss: 1.1753 - val_accuracy: 0.1967 - val_auc_13: 0.3716 - val_precision_13: 0.1250 - val_recall_13: 0.0082 - val_f1_score: 0.1914 - 773ms/epoch - 97ms/step\n",
      "Epoch 14/50\n",
      "8/8 - 1s - loss: 1.1513 - accuracy: 0.2008 - auc_13: 0.3808 - precision_13: 0.0667 - recall_13: 0.0041 - f1_score: 0.1946 - val_loss: 1.1842 - val_accuracy: 0.1885 - val_auc_13: 0.3592 - val_precision_13: 0.1250 - val_recall_13: 0.0082 - val_f1_score: 0.1848 - 902ms/epoch - 113ms/step\n",
      "Epoch 15/50\n",
      "8/8 - 1s - loss: 1.1284 - accuracy: 0.1926 - auc_13: 0.3713 - precision_13: 0.1176 - recall_13: 0.0082 - f1_score: 0.1881 - val_loss: 1.1789 - val_accuracy: 0.1885 - val_auc_13: 0.3698 - val_precision_13: 0.1429 - val_recall_13: 0.0082 - val_f1_score: 0.1848 - 790ms/epoch - 99ms/step\n",
      "Epoch 16/50\n",
      "8/8 - 1s - loss: 1.1244 - accuracy: 0.1967 - auc_13: 0.3794 - precision_13: 0.1429 - recall_13: 0.0082 - f1_score: 0.1920 - val_loss: 1.1793 - val_accuracy: 0.1885 - val_auc_13: 0.3701 - val_precision_13: 0.1429 - val_recall_13: 0.0082 - val_f1_score: 0.1848 - 797ms/epoch - 100ms/step\n",
      "Epoch 17/50\n",
      "8/8 - 1s - loss: 1.1250 - accuracy: 0.2049 - auc_13: 0.3942 - precision_13: 0.1818 - recall_13: 0.0082 - f1_score: 0.1949 - val_loss: 1.1685 - val_accuracy: 0.2131 - val_auc_13: 0.3872 - val_precision_13: 0.1667 - val_recall_13: 0.0082 - val_f1_score: 0.1982 - 775ms/epoch - 97ms/step\n",
      "Epoch 18/50\n",
      "8/8 - 1s - loss: 1.1178 - accuracy: 0.2254 - auc_13: 0.4017 - precision_13: 0.1250 - recall_13: 0.0082 - f1_score: 0.2110 - val_loss: 1.1783 - val_accuracy: 0.2049 - val_auc_13: 0.3734 - val_precision_13: 0.1667 - val_recall_13: 0.0082 - val_f1_score: 0.1938 - 789ms/epoch - 99ms/step\n",
      "Epoch 19/50\n",
      "8/8 - 1s - loss: 1.1156 - accuracy: 0.2336 - auc_13: 0.4158 - precision_13: 0.1538 - recall_13: 0.0082 - f1_score: 0.2099 - val_loss: 1.1688 - val_accuracy: 0.2131 - val_auc_13: 0.3852 - val_precision_13: 0.1667 - val_recall_13: 0.0082 - val_f1_score: 0.1890 - 806ms/epoch - 101ms/step\n",
      "Epoch 20/50\n",
      "8/8 - 1s - loss: 1.1103 - accuracy: 0.2213 - auc_13: 0.4115 - precision_13: 0.1667 - recall_13: 0.0082 - f1_score: 0.2046 - val_loss: 1.1755 - val_accuracy: 0.2131 - val_auc_13: 0.3728 - val_precision_13: 0.1429 - val_recall_13: 0.0082 - val_f1_score: 0.1977 - 806ms/epoch - 101ms/step\n",
      "Epoch 21/50\n",
      "8/8 - 1s - loss: 1.1040 - accuracy: 0.2172 - auc_13: 0.4126 - precision_13: 0.1667 - recall_13: 0.0082 - f1_score: 0.1994 - val_loss: 1.1673 - val_accuracy: 0.2213 - val_auc_13: 0.3898 - val_precision_13: 0.1429 - val_recall_13: 0.0082 - val_f1_score: 0.1972 - 802ms/epoch - 100ms/step\n",
      "Epoch 22/50\n",
      "8/8 - 1s - loss: 1.1225 - accuracy: 0.2623 - auc_13: 0.4494 - precision_13: 0.2000 - recall_13: 0.0082 - f1_score: 0.2289 - val_loss: 1.1488 - val_accuracy: 0.2295 - val_auc_13: 0.4206 - val_precision_13: 0.1667 - val_recall_13: 0.0082 - val_f1_score: 0.1988 - 821ms/epoch - 103ms/step\n",
      "Epoch 23/50\n",
      "8/8 - 1s - loss: 1.0998 - accuracy: 0.2623 - auc_13: 0.4581 - precision_13: 0.2222 - recall_13: 0.0082 - f1_score: 0.2304 - val_loss: 1.1613 - val_accuracy: 0.2131 - val_auc_13: 0.4054 - val_precision_13: 0.1111 - val_recall_13: 0.0082 - val_f1_score: 0.1903 - 804ms/epoch - 100ms/step\n",
      "Epoch 24/50\n",
      "8/8 - 1s - loss: 1.0963 - accuracy: 0.2336 - auc_13: 0.4314 - precision_13: 0.1333 - recall_13: 0.0082 - f1_score: 0.2150 - val_loss: 1.1701 - val_accuracy: 0.2213 - val_auc_13: 0.3936 - val_precision_13: 0.1111 - val_recall_13: 0.0082 - val_f1_score: 0.2015 - 818ms/epoch - 102ms/step\n",
      "Epoch 25/50\n",
      "8/8 - 1s - loss: 1.0866 - accuracy: 0.2336 - auc_13: 0.4378 - precision_13: 0.1000 - recall_13: 0.0082 - f1_score: 0.2167 - val_loss: 1.1675 - val_accuracy: 0.2131 - val_auc_13: 0.3979 - val_precision_13: 0.1250 - val_recall_13: 0.0082 - val_f1_score: 0.1946 - 807ms/epoch - 101ms/step\n",
      "Epoch 26/50\n",
      "8/8 - 1s - loss: 1.0859 - accuracy: 0.2541 - auc_13: 0.4536 - precision_13: 0.1333 - recall_13: 0.0082 - f1_score: 0.2298 - val_loss: 1.1593 - val_accuracy: 0.2131 - val_auc_13: 0.4112 - val_precision_13: 0.1429 - val_recall_13: 0.0082 - val_f1_score: 0.1917 - 804ms/epoch - 101ms/step\n",
      "Epoch 27/50\n",
      "8/8 - 1s - loss: 1.0789 - accuracy: 0.2623 - auc_13: 0.4634 - precision_13: 0.1429 - recall_13: 0.0082 - f1_score: 0.2360 - val_loss: 1.1543 - val_accuracy: 0.2213 - val_auc_13: 0.4225 - val_precision_13: 0.1429 - val_recall_13: 0.0082 - val_f1_score: 0.1986 - 779ms/epoch - 97ms/step\n",
      "Epoch 28/50\n",
      "8/8 - 1s - loss: 1.0742 - accuracy: 0.2664 - auc_13: 0.4676 - precision_13: 0.1667 - recall_13: 0.0082 - f1_score: 0.2421 - val_loss: 1.1564 - val_accuracy: 0.2131 - val_auc_13: 0.4187 - val_precision_13: 0.1429 - val_recall_13: 0.0082 - val_f1_score: 0.1917 - 791ms/epoch - 99ms/step\n",
      "Epoch 29/50\n",
      "8/8 - 1s - loss: 1.0708 - accuracy: 0.2623 - auc_13: 0.4677 - precision_13: 0.1333 - recall_13: 0.0082 - f1_score: 0.2387 - val_loss: 1.1537 - val_accuracy: 0.2131 - val_auc_13: 0.4224 - val_precision_13: 0.1250 - val_recall_13: 0.0082 - val_f1_score: 0.1917 - 810ms/epoch - 101ms/step\n",
      "Epoch 30/50\n",
      "8/8 - 1s - loss: 1.0654 - accuracy: 0.2664 - auc_13: 0.4778 - precision_13: 0.2000 - recall_13: 0.0123 - f1_score: 0.2421 - val_loss: 1.1524 - val_accuracy: 0.2131 - val_auc_13: 0.4305 - val_precision_13: 0.1250 - val_recall_13: 0.0082 - val_f1_score: 0.1903 - 821ms/epoch - 103ms/step\n",
      "Epoch 31/50\n",
      "8/8 - 1s - loss: 1.0567 - accuracy: 0.2828 - auc_13: 0.4960 - precision_13: 0.1429 - recall_13: 0.0082 - f1_score: 0.2518 - val_loss: 1.1388 - val_accuracy: 0.2377 - val_auc_13: 0.4593 - val_precision_13: 0.1429 - val_recall_13: 0.0082 - val_f1_score: 0.2029 - 812ms/epoch - 101ms/step\n",
      "Epoch 32/50\n",
      "8/8 - 1s - loss: 1.0550 - accuracy: 0.2787 - auc_13: 0.4904 - precision_13: 0.1429 - recall_13: 0.0082 - f1_score: 0.2478 - val_loss: 1.1538 - val_accuracy: 0.2213 - val_auc_13: 0.4291 - val_precision_13: 0.0000e+00 - val_recall_13: 0.0000e+00 - val_f1_score: 0.1932 - 813ms/epoch - 102ms/step\n",
      "Epoch 33/50\n",
      "8/8 - 1s - loss: 1.0565 - accuracy: 0.2664 - auc_13: 0.4870 - precision_13: 0.1429 - recall_13: 0.0082 - f1_score: 0.2337 - val_loss: 1.1469 - val_accuracy: 0.2541 - val_auc_13: 0.4432 - val_precision_13: 0.0000e+00 - val_recall_13: 0.0000e+00 - val_f1_score: 0.2087 - 809ms/epoch - 101ms/step\n",
      "Epoch 34/50\n",
      "8/8 - 1s - loss: 1.0441 - accuracy: 0.2869 - auc_13: 0.5058 - precision_13: 0.2000 - recall_13: 0.0123 - f1_score: 0.2481 - val_loss: 1.1394 - val_accuracy: 0.2623 - val_auc_13: 0.4584 - val_precision_13: 0.0000e+00 - val_recall_13: 0.0000e+00 - val_f1_score: 0.2149 - 811ms/epoch - 101ms/step\n",
      "Epoch 35/50\n",
      "8/8 - 1s - loss: 1.0402 - accuracy: 0.2787 - auc_13: 0.5086 - precision_13: 0.2000 - recall_13: 0.0123 - f1_score: 0.2420 - val_loss: 1.1430 - val_accuracy: 0.2459 - val_auc_13: 0.4550 - val_precision_13: 0.1250 - val_recall_13: 0.0082 - val_f1_score: 0.2080 - 804ms/epoch - 100ms/step\n",
      "Epoch 36/50\n",
      "8/8 - 1s - loss: 1.0406 - accuracy: 0.3033 - auc_13: 0.5296 - precision_13: 0.1333 - recall_13: 0.0082 - f1_score: 0.2578 - val_loss: 1.1265 - val_accuracy: 0.2869 - val_auc_13: 0.4864 - val_precision_13: 0.1429 - val_recall_13: 0.0082 - val_f1_score: 0.2324 - 822ms/epoch - 103ms/step\n",
      "Epoch 37/50\n",
      "8/8 - 1s - loss: 1.0301 - accuracy: 0.2910 - auc_13: 0.5330 - precision_13: 0.2000 - recall_13: 0.0123 - f1_score: 0.2502 - val_loss: 1.1378 - val_accuracy: 0.2623 - val_auc_13: 0.4658 - val_precision_13: 0.0000e+00 - val_recall_13: 0.0000e+00 - val_f1_score: 0.2149 - 807ms/epoch - 101ms/step\n",
      "Epoch 38/50\n",
      "8/8 - 1s - loss: 1.0281 - accuracy: 0.2787 - auc_13: 0.5230 - precision_13: 0.1765 - recall_13: 0.0123 - f1_score: 0.2412 - val_loss: 1.1377 - val_accuracy: 0.2623 - val_auc_13: 0.4638 - val_precision_13: 0.0000e+00 - val_recall_13: 0.0000e+00 - val_f1_score: 0.2107 - 812ms/epoch - 102ms/step\n",
      "Epoch 39/50\n",
      "8/8 - 1s - loss: 1.0239 - accuracy: 0.2992 - auc_13: 0.5305 - precision_13: 0.2632 - recall_13: 0.0205 - f1_score: 0.2541 - val_loss: 1.1367 - val_accuracy: 0.2623 - val_auc_13: 0.4695 - val_precision_13: 0.0000e+00 - val_recall_13: 0.0000e+00 - val_f1_score: 0.2121 - 809ms/epoch - 101ms/step\n",
      "Epoch 40/50\n",
      "8/8 - 1s - loss: 1.0174 - accuracy: 0.3115 - auc_13: 0.5427 - precision_13: 0.2632 - recall_13: 0.0205 - f1_score: 0.2610 - val_loss: 1.1267 - val_accuracy: 0.2705 - val_auc_13: 0.4892 - val_precision_13: 0.1250 - val_recall_13: 0.0082 - val_f1_score: 0.2148 - 810ms/epoch - 101ms/step\n",
      "Epoch 41/50\n",
      "8/8 - 1s - loss: 1.0109 - accuracy: 0.3197 - auc_13: 0.5528 - precision_13: 0.2632 - recall_13: 0.0205 - f1_score: 0.2667 - val_loss: 1.1249 - val_accuracy: 0.2787 - val_auc_13: 0.4942 - val_precision_13: 0.1250 - val_recall_13: 0.0082 - val_f1_score: 0.2187 - 813ms/epoch - 102ms/step\n",
      "Epoch 42/50\n",
      "8/8 - 1s - loss: 1.0090 - accuracy: 0.3320 - auc_13: 0.5712 - precision_13: 0.3000 - recall_13: 0.0246 - f1_score: 0.2725 - val_loss: 1.1169 - val_accuracy: 0.2787 - val_auc_13: 0.5079 - val_precision_13: 0.1250 - val_recall_13: 0.0082 - val_f1_score: 0.2179 - 809ms/epoch - 101ms/step\n",
      "Epoch 43/50\n",
      "8/8 - 1s - loss: 1.0061 - accuracy: 0.3402 - auc_13: 0.5797 - precision_13: 0.3000 - recall_13: 0.0246 - f1_score: 0.2787 - val_loss: 1.1134 - val_accuracy: 0.2869 - val_auc_13: 0.5173 - val_precision_13: 0.1250 - val_recall_13: 0.0082 - val_f1_score: 0.2256 - 852ms/epoch - 107ms/step\n",
      "Epoch 44/50\n",
      "8/8 - 1s - loss: 1.0050 - accuracy: 0.3279 - auc_13: 0.5680 - precision_13: 0.2381 - recall_13: 0.0205 - f1_score: 0.2769 - val_loss: 1.1274 - val_accuracy: 0.2869 - val_auc_13: 0.4896 - val_precision_13: 0.0000e+00 - val_recall_13: 0.0000e+00 - val_f1_score: 0.2316 - 808ms/epoch - 101ms/step\n",
      "Epoch 45/50\n",
      "8/8 - 1s - loss: 1.0002 - accuracy: 0.3320 - auc_13: 0.5653 - precision_13: 0.2632 - recall_13: 0.0205 - f1_score: 0.2800 - val_loss: 1.1190 - val_accuracy: 0.2869 - val_auc_13: 0.5058 - val_precision_13: 0.0000e+00 - val_recall_13: 0.0000e+00 - val_f1_score: 0.2243 - 811ms/epoch - 101ms/step\n",
      "Epoch 46/50\n",
      "8/8 - 1s - loss: 0.9950 - accuracy: 0.3361 - auc_13: 0.5769 - precision_13: 0.2632 - recall_13: 0.0205 - f1_score: 0.2812 - val_loss: 1.1174 - val_accuracy: 0.2869 - val_auc_13: 0.5104 - val_precision_13: 0.0000e+00 - val_recall_13: 0.0000e+00 - val_f1_score: 0.2256 - 827ms/epoch - 103ms/step\n",
      "Epoch 47/50\n",
      "8/8 - 1s - loss: 0.9894 - accuracy: 0.3525 - auc_13: 0.5926 - precision_13: 0.3182 - recall_13: 0.0287 - f1_score: 0.2933 - val_loss: 1.1050 - val_accuracy: 0.3033 - val_auc_13: 0.5344 - val_precision_13: 0.1250 - val_recall_13: 0.0082 - val_f1_score: 0.2326 - 811ms/epoch - 101ms/step\n",
      "Epoch 48/50\n",
      "8/8 - 1s - loss: 0.9846 - accuracy: 0.3730 - auc_13: 0.6079 - precision_13: 0.3636 - recall_13: 0.0328 - f1_score: 0.3076 - val_loss: 1.1001 - val_accuracy: 0.3115 - val_auc_13: 0.5420 - val_precision_13: 0.1250 - val_recall_13: 0.0082 - val_f1_score: 0.2400 - 809ms/epoch - 101ms/step\n",
      "Epoch 49/50\n",
      "8/8 - 1s - loss: 0.9822 - accuracy: 0.3893 - auc_13: 0.6188 - precision_13: 0.3810 - recall_13: 0.0328 - f1_score: 0.3189 - val_loss: 1.0970 - val_accuracy: 0.3197 - val_auc_13: 0.5481 - val_precision_13: 0.1250 - val_recall_13: 0.0082 - val_f1_score: 0.2474 - 814ms/epoch - 102ms/step\n",
      "Epoch 50/50\n",
      "8/8 - 1s - loss: 0.9797 - accuracy: 0.4098 - auc_13: 0.6318 - precision_13: 0.3750 - recall_13: 0.0369 - f1_score: 0.3341 - val_loss: 1.0860 - val_accuracy: 0.3197 - val_auc_13: 0.5649 - val_precision_13: 0.1000 - val_recall_13: 0.0082 - val_f1_score: 0.2433 - 809ms/epoch - 101ms/step\n"
     ]
    },
    {
     "data": {
      "image/png": "[encoded data removed]",
      "text/plain": [
       "<Figure size 432x288 with 1 Axes>"
      ]
     },
     "metadata": {
      "needs_background": "light"
     },
     "output_type": "display_data"
    },
    {
     "name": "stdout",
     "output_type": "stream",
     "text": [
      "Epoch 1/50\n",
      "8/8 - 4s - loss: 0.9715 - accuracy: 0.2787 - auc_14: 0.4605 - precision_14: 0.2909 - recall_14: 0.1311 - f1_score: 0.1759 - val_loss: 1.1873 - val_accuracy: 0.3443 - val_auc_14: 0.4896 - val_precision_14: 0.3148 - val_recall_14: 0.1393 - val_f1_score: 0.2162 - 4s/epoch - 491ms/step\n",
      "Epoch 2/50\n",
      "8/8 - 1s - loss: 0.8870 - accuracy: 0.4057 - auc_14: 0.5630 - precision_14: 0.3684 - recall_14: 0.1434 - f1_score: 0.2241 - val_loss: 1.0858 - val_accuracy: 0.4344 - val_auc_14: 0.5861 - val_precision_14: 0.4222 - val_recall_14: 0.1557 - val_f1_score: 0.2465 - 837ms/epoch - 105ms/step\n",
      "Epoch 3/50\n",
      "8/8 - 1s - loss: 0.8226 - accuracy: 0.4754 - auc_14: 0.6499 - precision_14: 0.4333 - recall_14: 0.1598 - f1_score: 0.2531 - val_loss: 1.0205 - val_accuracy: 0.4672 - val_auc_14: 0.6522 - val_precision_14: 0.5405 - val_recall_14: 0.1639 - val_f1_score: 0.2711 - 871ms/epoch - 109ms/step\n",
      "Epoch 4/50\n",
      "8/8 - 1s - loss: 0.8485 - accuracy: 0.5123 - auc_14: 0.7181 - precision_14: 0.5063 - recall_14: 0.1639 - f1_score: 0.2988 - val_loss: 0.9803 - val_accuracy: 0.4590 - val_auc_14: 0.6966 - val_precision_14: 0.5758 - val_recall_14: 0.1557 - val_f1_score: 0.2861 - 813ms/epoch - 102ms/step\n",
      "Epoch 5/50\n",
      "8/8 - 1s - loss: 0.8236 - accuracy: 0.5205 - auc_14: 0.7453 - precision_14: 0.5634 - recall_14: 0.1639 - f1_score: 0.3209 - val_loss: 0.9622 - val_accuracy: 0.4836 - val_auc_14: 0.7112 - val_precision_14: 0.6429 - val_recall_14: 0.1475 - val_f1_score: 0.3259 - 788ms/epoch - 98ms/step\n",
      "Epoch 6/50\n",
      "8/8 - 1s - loss: 0.8080 - accuracy: 0.5205 - auc_14: 0.7527 - precision_14: 0.5789 - recall_14: 0.1352 - f1_score: 0.3343 - val_loss: 0.9570 - val_accuracy: 0.5082 - val_auc_14: 0.7123 - val_precision_14: 0.5500 - val_recall_14: 0.0902 - val_f1_score: 0.3627 - 792ms/epoch - 99ms/step\n",
      "Epoch 7/50\n",
      "8/8 - 1s - loss: 0.7976 - accuracy: 0.5328 - auc_14: 0.7574 - precision_14: 0.6739 - recall_14: 0.1270 - f1_score: 0.3282 - val_loss: 0.9487 - val_accuracy: 0.5000 - val_auc_14: 0.7166 - val_precision_14: 0.5238 - val_recall_14: 0.0902 - val_f1_score: 0.3762 - 806ms/epoch - 101ms/step\n",
      "Epoch 8/50\n",
      "8/8 - 1s - loss: 0.7897 - accuracy: 0.5410 - auc_14: 0.7648 - precision_14: 0.6591 - recall_14: 0.1189 - f1_score: 0.3367 - val_loss: 0.9383 - val_accuracy: 0.5164 - val_auc_14: 0.7256 - val_precision_14: 0.5000 - val_recall_14: 0.0902 - val_f1_score: 0.3890 - 810ms/epoch - 101ms/step\n",
      "Epoch 9/50\n",
      "8/8 - 1s - loss: 0.7837 - accuracy: 0.5410 - auc_14: 0.7712 - precision_14: 0.6739 - recall_14: 0.1270 - f1_score: 0.3360 - val_loss: 0.9306 - val_accuracy: 0.5082 - val_auc_14: 0.7300 - val_precision_14: 0.5417 - val_recall_14: 0.1066 - val_f1_score: 0.3847 - 816ms/epoch - 102ms/step\n",
      "Epoch 10/50\n",
      "8/8 - 1s - loss: 0.7792 - accuracy: 0.5369 - auc_14: 0.7704 - precision_14: 0.6875 - recall_14: 0.1352 - f1_score: 0.3332 - val_loss: 0.9278 - val_accuracy: 0.5000 - val_auc_14: 0.7286 - val_precision_14: 0.5455 - val_recall_14: 0.0984 - val_f1_score: 0.3846 - 808ms/epoch - 101ms/step\n",
      "Epoch 11/50\n",
      "8/8 - 1s - loss: 0.7769 - accuracy: 0.5574 - auc_14: 0.7730 - precision_14: 0.6667 - recall_14: 0.1393 - f1_score: 0.3586 - val_loss: 0.9158 - val_accuracy: 0.5000 - val_auc_14: 0.7333 - val_precision_14: 0.5833 - val_recall_14: 0.1148 - val_f1_score: 0.3095 - 826ms/epoch - 103ms/step\n",
      "Epoch 12/50\n",
      "8/8 - 1s - loss: 0.7678 - accuracy: 0.5656 - auc_14: 0.7748 - precision_14: 0.6600 - recall_14: 0.1352 - f1_score: 0.3670 - val_loss: 0.9186 - val_accuracy: 0.5082 - val_auc_14: 0.7322 - val_precision_14: 0.5714 - val_recall_14: 0.0984 - val_f1_score: 0.3176 - 838ms/epoch - 105ms/step\n",
      "Epoch 13/50\n",
      "8/8 - 1s - loss: 0.7651 - accuracy: 0.5820 - auc_14: 0.7753 - precision_14: 0.6304 - recall_14: 0.1189 - f1_score: 0.3803 - val_loss: 0.9132 - val_accuracy: 0.5000 - val_auc_14: 0.7347 - val_precision_14: 0.5714 - val_recall_14: 0.0984 - val_f1_score: 0.3167 - 813ms/epoch - 102ms/step\n",
      "Epoch 14/50\n",
      "8/8 - 1s - loss: 0.7610 - accuracy: 0.5820 - auc_14: 0.7764 - precision_14: 0.6250 - recall_14: 0.1230 - f1_score: 0.3813 - val_loss: 0.9178 - val_accuracy: 0.5000 - val_auc_14: 0.7328 - val_precision_14: 0.5789 - val_recall_14: 0.0902 - val_f1_score: 0.3241 - 821ms/epoch - 103ms/step\n",
      "Epoch 15/50\n",
      "8/8 - 1s - loss: 0.7589 - accuracy: 0.5820 - auc_14: 0.7764 - precision_14: 0.5952 - recall_14: 0.1025 - f1_score: 0.4621 - val_loss: 0.9175 - val_accuracy: 0.4918 - val_auc_14: 0.7332 - val_precision_14: 0.5789 - val_recall_14: 0.0902 - val_f1_score: 0.3982 - 828ms/epoch - 103ms/step\n",
      "Epoch 16/50\n",
      "8/8 - 1s - loss: 0.7556 - accuracy: 0.5820 - auc_14: 0.7786 - precision_14: 0.6098 - recall_14: 0.1025 - f1_score: 0.3803 - val_loss: 0.9089 - val_accuracy: 0.4836 - val_auc_14: 0.7364 - val_precision_14: 0.5789 - val_recall_14: 0.0902 - val_f1_score: 0.3161 - 865ms/epoch - 108ms/step\n",
      "Epoch 17/50\n",
      "8/8 - 1s - loss: 0.7510 - accuracy: 0.5697 - auc_14: 0.7798 - precision_14: 0.6364 - recall_14: 0.1148 - f1_score: 0.4578 - val_loss: 0.9149 - val_accuracy: 0.4836 - val_auc_14: 0.7350 - val_precision_14: 0.6111 - val_recall_14: 0.0902 - val_f1_score: 0.3184 - 857ms/epoch - 107ms/step\n",
      "Epoch 18/50\n",
      "8/8 - 1s - loss: 0.7473 - accuracy: 0.5697 - auc_14: 0.7789 - precision_14: 0.6383 - recall_14: 0.1230 - f1_score: 0.4602 - val_loss: 0.9109 - val_accuracy: 0.4754 - val_auc_14: 0.7340 - val_precision_14: 0.5714 - val_recall_14: 0.0984 - val_f1_score: 0.3136 - 860ms/epoch - 108ms/step\n",
      "Epoch 19/50\n",
      "8/8 - 1s - loss: 0.7445 - accuracy: 0.5615 - auc_14: 0.7787 - precision_14: 0.6122 - recall_14: 0.1230 - f1_score: 0.4552 - val_loss: 0.9086 - val_accuracy: 0.4590 - val_auc_14: 0.7354 - val_precision_14: 0.6000 - val_recall_14: 0.0984 - val_f1_score: 0.3075 - 870ms/epoch - 109ms/step\n",
      "Epoch 20/50\n",
      "8/8 - 1s - loss: 0.7404 - accuracy: 0.5697 - auc_14: 0.7807 - precision_14: 0.6296 - recall_14: 0.1393 - f1_score: 0.4616 - val_loss: 0.9047 - val_accuracy: 0.4426 - val_auc_14: 0.7358 - val_precision_14: 0.5833 - val_recall_14: 0.1148 - val_f1_score: 0.2945 - 867ms/epoch - 108ms/step\n",
      "Epoch 21/50\n",
      "8/8 - 1s - loss: 0.7375 - accuracy: 0.5656 - auc_14: 0.7811 - precision_14: 0.6481 - recall_14: 0.1434 - f1_score: 0.4584 - val_loss: 0.9016 - val_accuracy: 0.4672 - val_auc_14: 0.7356 - val_precision_14: 0.6400 - val_recall_14: 0.1311 - val_f1_score: 0.3138 - 866ms/epoch - 108ms/step\n",
      "Epoch 22/50\n",
      "8/8 - 1s - loss: 0.7348 - accuracy: 0.5533 - auc_14: 0.7828 - precision_14: 0.6491 - recall_14: 0.1516 - f1_score: 0.4509 - val_loss: 0.8978 - val_accuracy: 0.4590 - val_auc_14: 0.7380 - val_precision_14: 0.6000 - val_recall_14: 0.1230 - val_f1_score: 0.3075 - 860ms/epoch - 107ms/step\n",
      "Epoch 23/50\n",
      "8/8 - 1s - loss: 0.7314 - accuracy: 0.5615 - auc_14: 0.7860 - precision_14: 0.6667 - recall_14: 0.1803 - f1_score: 0.4559 - val_loss: 0.8945 - val_accuracy: 0.4180 - val_auc_14: 0.7376 - val_precision_14: 0.6071 - val_recall_14: 0.1393 - val_f1_score: 0.2798 - 857ms/epoch - 107ms/step\n",
      "Epoch 24/50\n",
      "8/8 - 1s - loss: 0.7285 - accuracy: 0.5697 - auc_14: 0.7878 - precision_14: 0.6515 - recall_14: 0.1762 - f1_score: 0.4609 - val_loss: 0.8927 - val_accuracy: 0.4426 - val_auc_14: 0.7395 - val_precision_14: 0.6296 - val_recall_14: 0.1393 - val_f1_score: 0.2945 - 850ms/epoch - 106ms/step\n",
      "Epoch 25/50\n",
      "8/8 - 1s - loss: 0.7260 - accuracy: 0.5656 - auc_14: 0.7913 - precision_14: 0.6620 - recall_14: 0.1926 - f1_score: 0.4584 - val_loss: 0.8865 - val_accuracy: 0.4262 - val_auc_14: 0.7396 - val_precision_14: 0.6250 - val_recall_14: 0.1639 - val_f1_score: 0.2850 - 856ms/epoch - 107ms/step\n",
      "Epoch 26/50\n",
      "8/8 - 1s - loss: 0.7224 - accuracy: 0.5656 - auc_14: 0.7936 - precision_14: 0.6753 - recall_14: 0.2131 - f1_score: 0.4846 - val_loss: 0.8837 - val_accuracy: 0.4262 - val_auc_14: 0.7371 - val_precision_14: 0.6250 - val_recall_14: 0.1639 - val_f1_score: 0.2850 - 834ms/epoch - 104ms/step\n",
      "Epoch 27/50\n",
      "8/8 - 1s - loss: 0.7251 - accuracy: 0.5574 - auc_14: 0.7910 - precision_14: 0.6522 - recall_14: 0.1844 - f1_score: 0.4808 - val_loss: 0.8971 - val_accuracy: 0.4344 - val_auc_14: 0.7363 - val_precision_14: 0.5926 - val_recall_14: 0.1311 - val_f1_score: 0.2935 - 838ms/epoch - 105ms/step\n",
      "Epoch 28/50\n",
      "8/8 - 1s - loss: 0.7199 - accuracy: 0.5574 - auc_14: 0.7851 - precision_14: 0.6338 - recall_14: 0.1844 - f1_score: 0.4802 - val_loss: 0.8980 - val_accuracy: 0.4180 - val_auc_14: 0.7325 - val_precision_14: 0.5926 - val_recall_14: 0.1311 - val_f1_score: 0.2799 - 836ms/epoch - 104ms/step\n",
      "Epoch 29/50\n",
      "8/8 - 1s - loss: 0.6985 - accuracy: 0.5369 - auc_14: 0.7832 - precision_14: 0.6533 - recall_14: 0.2008 - f1_score: 0.4659 - val_loss: 0.8900 - val_accuracy: 0.4508 - val_auc_14: 0.7311 - val_precision_14: 0.5333 - val_recall_14: 0.1311 - val_f1_score: 0.3048 - 825ms/epoch - 103ms/step\n",
      "Epoch 30/50\n",
      "8/8 - 1s - loss: 0.6930 - accuracy: 0.5410 - auc_14: 0.7879 - precision_14: 0.6623 - recall_14: 0.2090 - f1_score: 0.4677 - val_loss: 0.8829 - val_accuracy: 0.4262 - val_auc_14: 0.7345 - val_precision_14: 0.6061 - val_recall_14: 0.1639 - val_f1_score: 0.2825 - 844ms/epoch - 106ms/step\n",
      "Epoch 31/50\n",
      "8/8 - 1s - loss: 0.6891 - accuracy: 0.5492 - auc_14: 0.7904 - precision_14: 0.6667 - recall_14: 0.2131 - f1_score: 0.4733 - val_loss: 0.8763 - val_accuracy: 0.4344 - val_auc_14: 0.7325 - val_precision_14: 0.5676 - val_recall_14: 0.1721 - val_f1_score: 0.2901 - 845ms/epoch - 106ms/step\n",
      "Epoch 32/50\n",
      "8/8 - 1s - loss: 0.6855 - accuracy: 0.5451 - auc_14: 0.7896 - precision_14: 0.6543 - recall_14: 0.2172 - f1_score: 0.4923 - val_loss: 0.8748 - val_accuracy: 0.4508 - val_auc_14: 0.7335 - val_precision_14: 0.5833 - val_recall_14: 0.1721 - val_f1_score: 0.3022 - 831ms/epoch - 104ms/step\n",
      "Epoch 33/50\n",
      "8/8 - 1s - loss: 0.6820 - accuracy: 0.5410 - auc_14: 0.7897 - precision_14: 0.6585 - recall_14: 0.2213 - f1_score: 0.5237 - val_loss: 0.8738 - val_accuracy: 0.4508 - val_auc_14: 0.7313 - val_precision_14: 0.5429 - val_recall_14: 0.1557 - val_f1_score: 0.3031 - 826ms/epoch - 103ms/step\n",
      "Epoch 34/50\n",
      "8/8 - 1s - loss: 0.7595 - accuracy: 0.5369 - auc_14: 0.7887 - precision_14: 0.6585 - recall_14: 0.2213 - f1_score: 0.3568 - val_loss: 0.8722 - val_accuracy: 0.4426 - val_auc_14: 0.7345 - val_precision_14: 0.5455 - val_recall_14: 0.1475 - val_f1_score: 0.2971 - 871ms/epoch - 109ms/step\n",
      "Epoch 35/50\n",
      "8/8 - 1s - loss: 0.7549 - accuracy: 0.5369 - auc_14: 0.7897 - precision_14: 0.6835 - recall_14: 0.2213 - f1_score: 0.3573 - val_loss: 0.8743 - val_accuracy: 0.4344 - val_auc_14: 0.7333 - val_precision_14: 0.5625 - val_recall_14: 0.1475 - val_f1_score: 0.2932 - 837ms/epoch - 105ms/step\n",
      "Epoch 36/50\n",
      "8/8 - 1s - loss: 0.7510 - accuracy: 0.5328 - auc_14: 0.7898 - precision_14: 0.6625 - recall_14: 0.2172 - f1_score: 0.3548 - val_loss: 0.8761 - val_accuracy: 0.4426 - val_auc_14: 0.7319 - val_precision_14: 0.5625 - val_recall_14: 0.1475 - val_f1_score: 0.2991 - 833ms/epoch - 104ms/step\n",
      "Epoch 37/50\n",
      "8/8 - 1s - loss: 0.7473 - accuracy: 0.5369 - auc_14: 0.7905 - precision_14: 0.6410 - recall_14: 0.2049 - f1_score: 0.3586 - val_loss: 0.8722 - val_accuracy: 0.4590 - val_auc_14: 0.7317 - val_precision_14: 0.5714 - val_recall_14: 0.1639 - val_f1_score: 0.3094 - 839ms/epoch - 105ms/step\n",
      "Epoch 38/50\n",
      "8/8 - 1s - loss: 0.7449 - accuracy: 0.5369 - auc_14: 0.7903 - precision_14: 0.6154 - recall_14: 0.1967 - f1_score: 0.3586 - val_loss: 0.8765 - val_accuracy: 0.4508 - val_auc_14: 0.7292 - val_precision_14: 0.5455 - val_recall_14: 0.1475 - val_f1_score: 0.3049 - 832ms/epoch - 104ms/step\n",
      "Epoch 39/50\n",
      "8/8 - 1s - loss: 0.7387 - accuracy: 0.5410 - auc_14: 0.7923 - precision_14: 0.6543 - recall_14: 0.2172 - f1_score: 0.3612 - val_loss: 0.8718 - val_accuracy: 0.4344 - val_auc_14: 0.7315 - val_precision_14: 0.5625 - val_recall_14: 0.1475 - val_f1_score: 0.2932 - 833ms/epoch - 104ms/step\n",
      "Epoch 40/50\n",
      "8/8 - 1s - loss: 0.7348 - accuracy: 0.5451 - auc_14: 0.7936 - precision_14: 0.6386 - recall_14: 0.2172 - f1_score: 0.3641 - val_loss: 0.8732 - val_accuracy: 0.4508 - val_auc_14: 0.7289 - val_precision_14: 0.5263 - val_recall_14: 0.1639 - val_f1_score: 0.3049 - 847ms/epoch - 106ms/step\n",
      "Epoch 41/50\n",
      "8/8 - 1s - loss: 0.7324 - accuracy: 0.5451 - auc_14: 0.7934 - precision_14: 0.6456 - recall_14: 0.2090 - f1_score: 0.3641 - val_loss: 0.8756 - val_accuracy: 0.4344 - val_auc_14: 0.7276 - val_precision_14: 0.5429 - val_recall_14: 0.1557 - val_f1_score: 0.2932 - 848ms/epoch - 106ms/step\n",
      "Epoch 42/50\n",
      "8/8 - 1s - loss: 0.7268 - accuracy: 0.5369 - auc_14: 0.7940 - precision_14: 0.6667 - recall_14: 0.2049 - f1_score: 0.3590 - val_loss: 0.8713 - val_accuracy: 0.4344 - val_auc_14: 0.7290 - val_precision_14: 0.5385 - val_recall_14: 0.1721 - val_f1_score: 0.2932 - 856ms/epoch - 107ms/step\n",
      "Epoch 43/50\n",
      "8/8 - 1s - loss: 0.7240 - accuracy: 0.5410 - auc_14: 0.7955 - precision_14: 0.6625 - recall_14: 0.2172 - f1_score: 0.3619 - val_loss: 0.8740 - val_accuracy: 0.4508 - val_auc_14: 0.7296 - val_precision_14: 0.5405 - val_recall_14: 0.1639 - val_f1_score: 0.3056 - 855ms/epoch - 107ms/step\n",
      "Epoch 44/50\n",
      "8/8 - 1s - loss: 0.7174 - accuracy: 0.5410 - auc_14: 0.7997 - precision_14: 0.6750 - recall_14: 0.2213 - f1_score: 0.4707 - val_loss: 0.8697 - val_accuracy: 0.4590 - val_auc_14: 0.7331 - val_precision_14: 0.5758 - val_recall_14: 0.1557 - val_f1_score: 0.3099 - 855ms/epoch - 107ms/step\n",
      "Epoch 45/50\n",
      "8/8 - 1s - loss: 0.7130 - accuracy: 0.5492 - auc_14: 0.8029 - precision_14: 0.7108 - recall_14: 0.2418 - f1_score: 0.4972 - val_loss: 0.8666 - val_accuracy: 0.4590 - val_auc_14: 0.7309 - val_precision_14: 0.5000 - val_recall_14: 0.1475 - val_f1_score: 0.3086 - 858ms/epoch - 107ms/step\n",
      "Epoch 46/50\n",
      "8/8 - 1s - loss: 0.7088 - accuracy: 0.5451 - auc_14: 0.8041 - precision_14: 0.7079 - recall_14: 0.2582 - f1_score: 0.4947 - val_loss: 0.8656 - val_accuracy: 0.4590 - val_auc_14: 0.7313 - val_precision_14: 0.4750 - val_recall_14: 0.1557 - val_f1_score: 0.3086 - 851ms/epoch - 106ms/step\n",
      "Epoch 47/50\n",
      "8/8 - 1s - loss: 0.7082 - accuracy: 0.5492 - auc_14: 0.8031 - precision_14: 0.6829 - recall_14: 0.2295 - f1_score: 0.4982 - val_loss: 0.8709 - val_accuracy: 0.4672 - val_auc_14: 0.7290 - val_precision_14: 0.5135 - val_recall_14: 0.1557 - val_f1_score: 0.3147 - 841ms/epoch - 105ms/step\n",
      "Epoch 48/50\n",
      "8/8 - 1s - loss: 0.7020 - accuracy: 0.5574 - auc_14: 0.8041 - precision_14: 0.7024 - recall_14: 0.2418 - f1_score: 0.5042 - val_loss: 0.8654 - val_accuracy: 0.4672 - val_auc_14: 0.7321 - val_precision_14: 0.4878 - val_recall_14: 0.1639 - val_f1_score: 0.3147 - 835ms/epoch - 104ms/step\n",
      "Epoch 49/50\n",
      "8/8 - 1s - loss: 0.6985 - accuracy: 0.5697 - auc_14: 0.8074 - precision_14: 0.7209 - recall_14: 0.2541 - f1_score: 0.5119 - val_loss: 0.8642 - val_accuracy: 0.4590 - val_auc_14: 0.7323 - val_precision_14: 0.4878 - val_recall_14: 0.1639 - val_f1_score: 0.3086 - 861ms/epoch - 108ms/step\n",
      "Epoch 50/50\n",
      "8/8 - 1s - loss: 0.6956 - accuracy: 0.5779 - auc_14: 0.8106 - precision_14: 0.7191 - recall_14: 0.2623 - f1_score: 0.5500 - val_loss: 0.8592 - val_accuracy: 0.4672 - val_auc_14: 0.7363 - val_precision_14: 0.4762 - val_recall_14: 0.1639 - val_f1_score: 0.3134 - 820ms/epoch - 103ms/step\n"
     ]
    },
    {
     "data": {
      "image/png": "[encoded data removed]",
      "text/plain": [
       "<Figure size 432x288 with 1 Axes>"
      ]
     },
     "metadata": {
      "needs_background": "light"
     },
     "output_type": "display_data"
    },
    {
     "name": "stdout",
     "output_type": "stream",
     "text": [
      "Epoch 1/50\n",
      "8/8 - 4s - loss: 1.2279 - accuracy: 0.4262 - auc_15: 0.5446 - precision_15: 0.4208 - recall_15: 0.3484 - f1_score: 0.2344 - val_loss: 1.1402 - val_accuracy: 0.4344 - val_auc_15: 0.5649 - val_precision_15: 0.4111 - val_recall_15: 0.3033 - val_f1_score: 0.2243 - 4s/epoch - 542ms/step\n",
      "Epoch 2/50\n",
      "8/8 - 1s - loss: 1.1813 - accuracy: 0.4262 - auc_15: 0.5641 - precision_15: 0.3905 - recall_15: 0.2705 - f1_score: 0.2428 - val_loss: 1.1017 - val_accuracy: 0.4262 - val_auc_15: 0.5894 - val_precision_15: 0.3562 - val_recall_15: 0.2131 - val_f1_score: 0.2279 - 851ms/epoch - 106ms/step\n",
      "Epoch 3/50\n",
      "8/8 - 1s - loss: 1.1535 - accuracy: 0.4303 - auc_15: 0.5975 - precision_15: 0.3701 - recall_15: 0.2336 - f1_score: 0.2461 - val_loss: 1.0712 - val_accuracy: 0.4344 - val_auc_15: 0.6146 - val_precision_15: 0.3281 - val_recall_15: 0.1721 - val_f1_score: 0.2367 - 834ms/epoch - 104ms/step\n",
      "Epoch 4/50\n",
      "8/8 - 1s - loss: 1.1170 - accuracy: 0.4180 - auc_15: 0.6290 - precision_15: 0.4000 - recall_15: 0.2295 - f1_score: 0.2406 - val_loss: 1.0441 - val_accuracy: 0.4426 - val_auc_15: 0.6369 - val_precision_15: 0.3651 - val_recall_15: 0.1885 - val_f1_score: 0.2613 - 820ms/epoch - 103ms/step\n",
      "Epoch 5/50\n",
      "8/8 - 1s - loss: 1.0731 - accuracy: 0.4262 - auc_15: 0.6581 - precision_15: 0.4127 - recall_15: 0.2131 - f1_score: 0.2554 - val_loss: 1.0247 - val_accuracy: 0.4426 - val_auc_15: 0.6520 - val_precision_15: 0.3500 - val_recall_15: 0.1721 - val_f1_score: 0.2605 - 793ms/epoch - 99ms/step\n",
      "Epoch 6/50\n",
      "8/8 - 1s - loss: 1.0425 - accuracy: 0.4303 - auc_15: 0.6761 - precision_15: 0.4206 - recall_15: 0.2172 - f1_score: 0.3936 - val_loss: 1.0152 - val_accuracy: 0.4508 - val_auc_15: 0.6594 - val_precision_15: 0.3390 - val_recall_15: 0.1639 - val_f1_score: 0.2686 - 800ms/epoch - 100ms/step\n",
      "Epoch 7/50\n",
      "8/8 - 1s - loss: 1.0407 - accuracy: 0.4385 - auc_15: 0.6851 - precision_15: 0.4404 - recall_15: 0.1967 - f1_score: 0.2723 - val_loss: 1.0151 - val_accuracy: 0.3934 - val_auc_15: 0.6580 - val_precision_15: 0.3617 - val_recall_15: 0.1393 - val_f1_score: 0.2370 - 808ms/epoch - 101ms/step\n",
      "Epoch 8/50\n",
      "8/8 - 1s - loss: 1.0167 - accuracy: 0.4549 - auc_15: 0.6902 - precision_15: 0.4894 - recall_15: 0.1885 - f1_score: 0.3991 - val_loss: 1.0146 - val_accuracy: 0.3934 - val_auc_15: 0.6577 - val_precision_15: 0.3864 - val_recall_15: 0.1393 - val_f1_score: 0.2455 - 810ms/epoch - 101ms/step\n",
      "Epoch 9/50\n",
      "8/8 - 1s - loss: 1.0035 - accuracy: 0.4631 - auc_15: 0.6988 - precision_15: 0.4828 - recall_15: 0.1721 - f1_score: 0.4086 - val_loss: 1.0071 - val_accuracy: 0.4098 - val_auc_15: 0.6679 - val_precision_15: 0.3611 - val_recall_15: 0.1066 - val_f1_score: 0.2684 - 813ms/epoch - 102ms/step\n",
      "Epoch 10/50\n",
      "8/8 - 1s - loss: 0.9983 - accuracy: 0.4549 - auc_15: 0.7076 - precision_15: 0.4512 - recall_15: 0.1516 - f1_score: 0.3928 - val_loss: 0.9992 - val_accuracy: 0.4016 - val_auc_15: 0.6743 - val_precision_15: 0.3793 - val_recall_15: 0.0902 - val_f1_score: 0.2652 - 799ms/epoch - 100ms/step\n",
      "Epoch 11/50\n",
      "8/8 - 1s - loss: 0.9881 - accuracy: 0.4508 - auc_15: 0.7113 - precision_15: 0.5072 - recall_15: 0.1434 - f1_score: 0.3934 - val_loss: 0.9995 - val_accuracy: 0.4180 - val_auc_15: 0.6774 - val_precision_15: 0.3571 - val_recall_15: 0.0820 - val_f1_score: 0.2819 - 813ms/epoch - 102ms/step\n",
      "Epoch 12/50\n",
      "8/8 - 1s - loss: 0.9751 - accuracy: 0.4672 - auc_15: 0.7166 - precision_15: 0.5231 - recall_15: 0.1393 - f1_score: 0.4077 - val_loss: 1.0018 - val_accuracy: 0.4180 - val_auc_15: 0.6776 - val_precision_15: 0.4000 - val_recall_15: 0.0820 - val_f1_score: 0.2822 - 816ms/epoch - 102ms/step\n",
      "Epoch 13/50\n",
      "8/8 - 1s - loss: 0.9622 - accuracy: 0.4713 - auc_15: 0.7206 - precision_15: 0.5645 - recall_15: 0.1434 - f1_score: 0.4259 - val_loss: 0.9978 - val_accuracy: 0.4508 - val_auc_15: 0.6798 - val_precision_15: 0.3750 - val_recall_15: 0.0738 - val_f1_score: 0.3041 - 828ms/epoch - 103ms/step\n",
      "Epoch 14/50\n",
      "8/8 - 1s - loss: 0.9545 - accuracy: 0.4836 - auc_15: 0.7254 - precision_15: 0.6333 - recall_15: 0.1557 - f1_score: 0.4194 - val_loss: 0.9939 - val_accuracy: 0.4590 - val_auc_15: 0.6854 - val_precision_15: 0.4286 - val_recall_15: 0.0738 - val_f1_score: 0.3099 - 852ms/epoch - 107ms/step\n",
      "Epoch 15/50\n",
      "8/8 - 1s - loss: 0.9464 - accuracy: 0.5000 - auc_15: 0.7336 - precision_15: 0.6140 - recall_15: 0.1434 - f1_score: 0.4457 - val_loss: 0.9831 - val_accuracy: 0.4344 - val_auc_15: 0.6931 - val_precision_15: 0.4286 - val_recall_15: 0.0738 - val_f1_score: 0.2921 - 857ms/epoch - 107ms/step\n",
      "Epoch 16/50\n",
      "8/8 - 1s - loss: 0.9338 - accuracy: 0.4877 - auc_15: 0.7471 - precision_15: 0.6000 - recall_15: 0.1352 - f1_score: 0.3893 - val_loss: 0.9897 - val_accuracy: 0.4508 - val_auc_15: 0.6847 - val_precision_15: 0.3333 - val_recall_15: 0.0574 - val_f1_score: 0.3027 - 860ms/epoch - 108ms/step\n",
      "Epoch 17/50\n",
      "8/8 - 1s - loss: 0.9220 - accuracy: 0.5205 - auc_15: 0.7586 - precision_15: 0.6170 - recall_15: 0.1189 - f1_score: 0.4035 - val_loss: 0.9826 - val_accuracy: 0.4672 - val_auc_15: 0.6919 - val_precision_15: 0.3000 - val_recall_15: 0.0492 - val_f1_score: 0.3127 - 854ms/epoch - 107ms/step\n",
      "Epoch 18/50\n",
      "8/8 - 1s - loss: 0.9154 - accuracy: 0.5164 - auc_15: 0.7609 - precision_15: 0.6000 - recall_15: 0.0984 - f1_score: 0.4106 - val_loss: 0.9786 - val_accuracy: 0.4754 - val_auc_15: 0.6978 - val_precision_15: 0.2778 - val_recall_15: 0.0410 - val_f1_score: 0.3176 - 859ms/epoch - 107ms/step\n",
      "Epoch 19/50\n",
      "8/8 - 1s - loss: 0.9133 - accuracy: 0.5082 - auc_15: 0.7542 - precision_15: 0.6098 - recall_15: 0.1025 - f1_score: 0.4713 - val_loss: 0.9831 - val_accuracy: 0.4754 - val_auc_15: 0.6952 - val_precision_15: 0.2632 - val_recall_15: 0.0410 - val_f1_score: 0.3199 - 856ms/epoch - 107ms/step\n",
      "Epoch 20/50\n",
      "8/8 - 1s - loss: 0.9028 - accuracy: 0.5205 - auc_15: 0.7574 - precision_15: 0.6098 - recall_15: 0.1025 - f1_score: 0.4941 - val_loss: 0.9820 - val_accuracy: 0.4672 - val_auc_15: 0.6965 - val_precision_15: 0.2778 - val_recall_15: 0.0410 - val_f1_score: 0.3140 - 853ms/epoch - 107ms/step\n",
      "Epoch 21/50\n",
      "8/8 - 1s - loss: 0.8977 - accuracy: 0.5369 - auc_15: 0.7597 - precision_15: 0.6000 - recall_15: 0.0984 - f1_score: 0.5044 - val_loss: 0.9813 - val_accuracy: 0.4590 - val_auc_15: 0.6959 - val_precision_15: 0.2941 - val_recall_15: 0.0410 - val_f1_score: 0.3103 - 868ms/epoch - 108ms/step\n",
      "Epoch 22/50\n",
      "8/8 - 1s - loss: 0.8941 - accuracy: 0.5328 - auc_15: 0.7618 - precision_15: 0.6154 - recall_15: 0.0984 - f1_score: 0.4867 - val_loss: 0.9792 - val_accuracy: 0.4426 - val_auc_15: 0.6977 - val_precision_15: 0.2941 - val_recall_15: 0.0410 - val_f1_score: 0.2949 - 865ms/epoch - 108ms/step\n",
      "Epoch 23/50\n",
      "8/8 - 1s - loss: 0.8879 - accuracy: 0.5369 - auc_15: 0.7632 - precision_15: 0.6098 - recall_15: 0.1025 - f1_score: 0.4612 - val_loss: 0.9885 - val_accuracy: 0.4508 - val_auc_15: 0.6916 - val_precision_15: 0.2941 - val_recall_15: 0.0410 - val_f1_score: 0.3067 - 861ms/epoch - 108ms/step\n",
      "Epoch 24/50\n",
      "8/8 - 1s - loss: 0.8833 - accuracy: 0.5410 - auc_15: 0.7614 - precision_15: 0.6250 - recall_15: 0.1025 - f1_score: 0.4648 - val_loss: 0.9897 - val_accuracy: 0.4344 - val_auc_15: 0.6879 - val_precision_15: 0.3125 - val_recall_15: 0.0410 - val_f1_score: 0.2897 - 831ms/epoch - 104ms/step\n",
      "Epoch 25/50\n",
      "8/8 - 1s - loss: 0.9215 - accuracy: 0.5328 - auc_15: 0.7621 - precision_15: 0.6389 - recall_15: 0.0943 - f1_score: 0.4383 - val_loss: 0.9894 - val_accuracy: 0.4262 - val_auc_15: 0.6878 - val_precision_15: 0.3529 - val_recall_15: 0.0492 - val_f1_score: 0.2873 - 839ms/epoch - 105ms/step\n",
      "Epoch 26/50\n",
      "8/8 - 1s - loss: 0.9159 - accuracy: 0.5287 - auc_15: 0.7622 - precision_15: 0.6389 - recall_15: 0.0943 - f1_score: 0.4069 - val_loss: 0.9881 - val_accuracy: 0.4426 - val_auc_15: 0.6893 - val_precision_15: 0.3684 - val_recall_15: 0.0574 - val_f1_score: 0.2990 - 840ms/epoch - 105ms/step\n",
      "Epoch 27/50\n",
      "8/8 - 1s - loss: 0.9156 - accuracy: 0.5369 - auc_15: 0.7652 - precision_15: 0.6341 - recall_15: 0.1066 - f1_score: 0.4197 - val_loss: 0.9771 - val_accuracy: 0.4426 - val_auc_15: 0.6986 - val_precision_15: 0.4348 - val_recall_15: 0.0820 - val_f1_score: 0.2974 - 833ms/epoch - 104ms/step\n",
      "Epoch 28/50\n",
      "8/8 - 1s - loss: 0.9138 - accuracy: 0.5205 - auc_15: 0.7599 - precision_15: 0.6667 - recall_15: 0.1066 - f1_score: 0.4058 - val_loss: 0.9987 - val_accuracy: 0.4590 - val_auc_15: 0.6848 - val_precision_15: 0.5000 - val_recall_15: 0.0738 - val_f1_score: 0.3103 - 839ms/epoch - 105ms/step\n",
      "Epoch 29/50\n",
      "8/8 - 1s - loss: 0.9032 - accuracy: 0.5123 - auc_15: 0.7485 - precision_15: 0.6486 - recall_15: 0.0984 - f1_score: 0.3971 - val_loss: 1.0045 - val_accuracy: 0.4590 - val_auc_15: 0.6815 - val_precision_15: 0.4375 - val_recall_15: 0.0574 - val_f1_score: 0.3103 - 825ms/epoch - 103ms/step\n",
      "Epoch 30/50\n",
      "8/8 - 1s - loss: 0.8963 - accuracy: 0.5164 - auc_15: 0.7469 - precision_15: 0.6667 - recall_15: 0.1066 - f1_score: 0.3997 - val_loss: 1.0036 - val_accuracy: 0.4672 - val_auc_15: 0.6799 - val_precision_15: 0.4375 - val_recall_15: 0.0574 - val_f1_score: 0.3167 - 836ms/epoch - 104ms/step\n",
      "Epoch 31/50\n",
      "8/8 - 1s - loss: 0.8919 - accuracy: 0.5164 - auc_15: 0.7509 - precision_15: 0.6667 - recall_15: 0.1066 - f1_score: 0.4001 - val_loss: 0.9972 - val_accuracy: 0.4590 - val_auc_15: 0.6850 - val_precision_15: 0.4118 - val_recall_15: 0.0574 - val_f1_score: 0.3103 - 835ms/epoch - 104ms/step\n",
      "Epoch 32/50\n",
      "8/8 - 1s - loss: 0.8845 - accuracy: 0.5287 - auc_15: 0.7553 - precision_15: 0.6341 - recall_15: 0.1066 - f1_score: 0.4566 - val_loss: 0.9933 - val_accuracy: 0.4590 - val_auc_15: 0.6868 - val_precision_15: 0.3889 - val_recall_15: 0.0574 - val_f1_score: 0.3103 - 825ms/epoch - 103ms/step\n",
      "Epoch 33/50\n",
      "8/8 - 1s - loss: 0.8832 - accuracy: 0.5287 - auc_15: 0.7543 - precision_15: 0.6316 - recall_15: 0.0984 - f1_score: 0.4500 - val_loss: 0.9966 - val_accuracy: 0.4508 - val_auc_15: 0.6854 - val_precision_15: 0.4118 - val_recall_15: 0.0574 - val_f1_score: 0.3039 - 835ms/epoch - 104ms/step\n",
      "Epoch 34/50\n",
      "8/8 - 1s - loss: 0.8755 - accuracy: 0.5246 - auc_15: 0.7592 - precision_15: 0.6410 - recall_15: 0.1025 - f1_score: 0.4618 - val_loss: 0.9916 - val_accuracy: 0.4344 - val_auc_15: 0.6872 - val_precision_15: 0.3889 - val_recall_15: 0.0574 - val_f1_score: 0.2908 - 878ms/epoch - 110ms/step\n",
      "Epoch 35/50\n",
      "8/8 - 1s - loss: 0.8714 - accuracy: 0.5205 - auc_15: 0.7592 - precision_15: 0.6190 - recall_15: 0.1066 - f1_score: 0.4509 - val_loss: 0.9918 - val_accuracy: 0.4344 - val_auc_15: 0.6866 - val_precision_15: 0.3684 - val_recall_15: 0.0574 - val_f1_score: 0.2908 - 842ms/epoch - 105ms/step\n",
      "Epoch 36/50\n",
      "8/8 - 1s - loss: 0.8655 - accuracy: 0.5287 - auc_15: 0.7616 - precision_15: 0.6410 - recall_15: 0.1025 - f1_score: 0.4566 - val_loss: 0.9928 - val_accuracy: 0.4262 - val_auc_15: 0.6877 - val_precision_15: 0.4444 - val_recall_15: 0.0656 - val_f1_score: 0.2842 - 844ms/epoch - 106ms/step\n",
      "Epoch 37/50\n",
      "8/8 - 1s - loss: 0.8613 - accuracy: 0.5205 - auc_15: 0.7618 - precision_15: 0.6316 - recall_15: 0.0984 - f1_score: 0.4592 - val_loss: 0.9905 - val_accuracy: 0.4262 - val_auc_15: 0.6875 - val_precision_15: 0.4118 - val_recall_15: 0.0574 - val_f1_score: 0.2860 - 846ms/epoch - 106ms/step\n",
      "Epoch 38/50\n",
      "8/8 - 1s - loss: 0.8642 - accuracy: 0.5287 - auc_15: 0.7620 - precision_15: 0.6341 - recall_15: 0.1066 - f1_score: 0.4742 - val_loss: 0.9912 - val_accuracy: 0.4262 - val_auc_15: 0.6863 - val_precision_15: 0.4000 - val_recall_15: 0.0656 - val_f1_score: 0.2860 - 839ms/epoch - 105ms/step\n",
      "Epoch 39/50\n",
      "8/8 - 1s - loss: 0.8555 - accuracy: 0.5451 - auc_15: 0.7612 - precision_15: 0.6341 - recall_15: 0.1066 - f1_score: 0.4417 - val_loss: 0.9951 - val_accuracy: 0.4508 - val_auc_15: 0.6862 - val_precision_15: 0.4286 - val_recall_15: 0.0738 - val_f1_score: 0.3015 - 834ms/epoch - 104ms/step\n",
      "Epoch 40/50\n",
      "8/8 - 1s - loss: 0.8550 - accuracy: 0.5451 - auc_15: 0.7600 - precision_15: 0.6190 - recall_15: 0.1066 - f1_score: 0.4359 - val_loss: 0.9962 - val_accuracy: 0.4508 - val_auc_15: 0.6832 - val_precision_15: 0.4500 - val_recall_15: 0.0738 - val_f1_score: 0.3015 - 829ms/epoch - 104ms/step\n",
      "Epoch 41/50\n",
      "8/8 - 1s - loss: 0.8507 - accuracy: 0.5533 - auc_15: 0.7618 - precision_15: 0.6000 - recall_15: 0.0984 - f1_score: 0.4387 - val_loss: 0.9915 - val_accuracy: 0.4508 - val_auc_15: 0.6869 - val_precision_15: 0.4500 - val_recall_15: 0.0738 - val_f1_score: 0.3027 - 834ms/epoch - 104ms/step\n",
      "Epoch 42/50\n",
      "8/8 - 1s - loss: 0.8485 - accuracy: 0.5615 - auc_15: 0.7696 - precision_15: 0.6098 - recall_15: 0.1025 - f1_score: 0.4439 - val_loss: 0.9867 - val_accuracy: 0.4508 - val_auc_15: 0.6936 - val_precision_15: 0.4286 - val_recall_15: 0.0738 - val_f1_score: 0.3027 - 837ms/epoch - 105ms/step\n",
      "Epoch 43/50\n",
      "8/8 - 1s - loss: 0.8441 - accuracy: 0.5656 - auc_15: 0.7713 - precision_15: 0.6098 - recall_15: 0.1025 - f1_score: 0.4489 - val_loss: 0.9868 - val_accuracy: 0.4508 - val_auc_15: 0.6925 - val_precision_15: 0.4286 - val_recall_15: 0.0738 - val_f1_score: 0.3027 - 826ms/epoch - 103ms/step\n",
      "Epoch 44/50\n",
      "8/8 - 1s - loss: 0.8391 - accuracy: 0.5697 - auc_15: 0.7732 - precision_15: 0.6098 - recall_15: 0.1025 - f1_score: 0.4521 - val_loss: 0.9829 - val_accuracy: 0.4508 - val_auc_15: 0.6958 - val_precision_15: 0.4286 - val_recall_15: 0.0738 - val_f1_score: 0.3027 - 846ms/epoch - 106ms/step\n",
      "Epoch 45/50\n",
      "8/8 - 1s - loss: 0.8363 - accuracy: 0.5697 - auc_15: 0.7736 - precision_15: 0.6000 - recall_15: 0.0984 - f1_score: 0.4476 - val_loss: 0.9829 - val_accuracy: 0.4508 - val_auc_15: 0.6955 - val_precision_15: 0.4286 - val_recall_15: 0.0738 - val_f1_score: 0.3027 - 862ms/epoch - 108ms/step\n",
      "Epoch 46/50\n",
      "8/8 - 1s - loss: 0.8322 - accuracy: 0.5656 - auc_15: 0.7729 - precision_15: 0.6098 - recall_15: 0.1025 - f1_score: 0.4451 - val_loss: 0.9777 - val_accuracy: 0.4508 - val_auc_15: 0.7001 - val_precision_15: 0.3913 - val_recall_15: 0.0738 - val_f1_score: 0.3027 - 853ms/epoch - 107ms/step\n",
      "Epoch 47/50\n",
      "8/8 - 1s - loss: 0.8302 - accuracy: 0.5738 - auc_15: 0.7778 - precision_15: 0.6190 - recall_15: 0.1066 - f1_score: 0.4604 - val_loss: 0.9737 - val_accuracy: 0.4590 - val_auc_15: 0.7008 - val_precision_15: 0.3913 - val_recall_15: 0.0738 - val_f1_score: 0.3063 - 850ms/epoch - 106ms/step\n",
      "Epoch 48/50\n",
      "8/8 - 1s - loss: 0.8273 - accuracy: 0.5697 - auc_15: 0.7793 - precision_15: 0.6190 - recall_15: 0.1066 - f1_score: 0.4585 - val_loss: 0.9760 - val_accuracy: 0.4590 - val_auc_15: 0.7008 - val_precision_15: 0.3913 - val_recall_15: 0.0738 - val_f1_score: 0.3063 - 844ms/epoch - 105ms/step\n",
      "Epoch 49/50\n",
      "8/8 - 1s - loss: 0.8247 - accuracy: 0.5656 - auc_15: 0.7763 - precision_15: 0.6190 - recall_15: 0.1066 - f1_score: 0.4451 - val_loss: 0.9783 - val_accuracy: 0.4426 - val_auc_15: 0.6988 - val_precision_15: 0.4091 - val_recall_15: 0.0738 - val_f1_score: 0.2960 - 841ms/epoch - 105ms/step\n",
      "Epoch 50/50\n",
      "8/8 - 1s - loss: 0.8203 - accuracy: 0.5738 - auc_15: 0.7794 - precision_15: 0.6098 - recall_15: 0.1025 - f1_score: 0.4566 - val_loss: 0.9711 - val_accuracy: 0.4590 - val_auc_15: 0.7046 - val_precision_15: 0.4091 - val_recall_15: 0.0738 - val_f1_score: 0.3063 - 818ms/epoch - 102ms/step\n"
     ]
    },
    {
     "data": {
      "image/png": "[encoded data removed]",
      "text/plain": [
       "<Figure size 432x288 with 1 Axes>"
      ]
     },
     "metadata": {
      "needs_background": "light"
     },
     "output_type": "display_data"
    }
   ],
   "source": [
    "for train_index, val_index in kf.split(body_X):\n",
    "    body_X_train, body_X_val = body_X[train_index], body_X[val_index]\n",
    "    body_y_train, body_y_val = body_y[train_index], body_y[val_index]\n",
    "    face_X_train, face_X_val = face_X[train_index], face_X[val_index]\n",
    "    face_y_train, face_y_val = face_y[train_index], face_y[val_index]\n",
    "    model = fusioned_Baseline(body_features, face_features, n_length, n_outputs)\n",
    "    history = model.train(body_X_train, face_X_train, body_y_train, body_X_val, face_X_val, face_y_val, epochs, batch_size, class_weight=d_class_weights)\n",
    "    plt.plot(history.history['loss'])\n",
    "    plt.show()"
   ]
  },
  {
   "cell_type": "markdown",
   "metadata": {},
   "source": [
    "#### Prediction on the holdout set"
   ]
  },
  {
   "cell_type": "code",
   "execution_count": 26,
   "metadata": {},
   "outputs": [
    {
     "name": "stdout",
     "output_type": "stream",
     "text": [
      "Accuracy: 42.42% \n",
      "Balanced Accuracy: 27.07% \n",
      "ROC/AUC: 0.70 \n",
      "Precision: 0.47 \n",
      "Recall: 0.06 \n",
      "F1 score: 0.26\n"
     ]
    }
   ],
   "source": [
    "y_pred = model.predict(body_X_test, face_X_test)\n",
    "_, acc, auc, precision, recall, f1 = model.evaluate(body_X_test, face_X_test, body_y_test)\n",
    "results.append(round(auc, 2))\n",
    "bal_acc = balanced_accuracy_score(body_y_test.argmax(axis=1), y_pred.argmax(axis=1)) \n",
    "print('Accuracy: {:.2f}% \\nBalanced Accuracy: {:.2f}% \\nROC/AUC: {:.2f} \\nPrecision: {:.2f} \\nRecall: {:.2f} \\nF1 score: {:.2f}'.format(acc * 100, bal_acc * 100, auc, precision, recall, f1))"
   ]
  },
  {
   "cell_type": "markdown",
   "metadata": {},
   "source": [
    "### Ensemble"
   ]
  },
  {
   "cell_type": "code",
   "execution_count": 27,
   "metadata": {},
   "outputs": [],
   "source": [
    "baseline_body_member = KerasMember(name=\"Body Model\", keras_model=baseline_body_model, train_batches=(body_X_train, y_train), val_batches=(body_X_test, body_y_test))\n",
    "baseline_face_member = KerasMember(name=\"Face Model\", keras_model=baseline_face_model, train_batches=(face_X_train, face_y_train), val_batches=(face_X_test, face_y_test))"
   ]
  },
  {
   "cell_type": "code",
   "execution_count": 28,
   "metadata": {},
   "outputs": [],
   "source": [
    "dirichletEnsemble = DirichletEnsemble()\n",
    "dirichletEnsemble.add_member(baseline_body_member)\n",
    "dirichletEnsemble.add_member(baseline_face_member)\n",
    "dirichletEnsemble.fit()"
   ]
  },
  {
   "cell_type": "code",
   "execution_count": 29,
   "metadata": {},
   "outputs": [
    {
     "name": "stdout",
     "output_type": "stream",
     "text": [
      "Body Model (weight: 0.0001)\n",
      "Face Model (weight: 0.9999)\n",
      "Accuracy: 55.84% - ROC/AUC: 0.51 - Precision: 0.35 - Recall: 0.30 - F1 score: 0.30\n"
     ]
    }
   ],
   "source": [
    "e = dirichletEnsemble.describe()\n",
    "results.append(round(e, 2))"
   ]
  },
  {
   "cell_type": "markdown",
   "metadata": {},
   "source": [
    "## Results"
   ]
  },
  {
   "cell_type": "code",
   "execution_count": 30,
   "metadata": {},
   "outputs": [
    {
     "data": {
      "image/png": "[encoded data removed]",
      "text/plain": [
       "<Figure size 1008x720 with 1 Axes>"
      ]
     },
     "metadata": {
      "needs_background": "light"
     },
     "output_type": "display_data"
    }
   ],
   "source": [
    "data = {'Unimodal (Body)':results[0], 'Unimodal (Face)':results[1], 'Early Fusion':results[2],\n",
    "        'Late Fusion':results[3], 'Ensemble':results[4]}\n",
    "models = list(data.keys())\n",
    "performance = list(data.values())\n",
    "  \n",
    "fig = plt.figure(figsize = (14, 10))\n",
    " \n",
    "plt.bar(models, performance, color ='maroon',\n",
    "        width = 0.4)\n",
    "\n",
    "plt.text(0, performance[0] + 0.01, performance[0], ha='center', fontsize=12)\n",
    "plt.text(1, performance[1] + 0.01, performance[1], ha='center', fontsize=12)\n",
    "plt.text(2, performance[2] + 0.01, performance[2], ha='center', fontsize=12)\n",
    "plt.text(3, performance[3] + 0.01, performance[3], ha='center', fontsize=12)\n",
    "plt.text(4, performance[4] + 0.01, performance[4], ha='center', fontsize=12)\n",
    " \n",
    "plt.title(\"Baseline AUC (Pain Intensity Estimation)\")\n",
    "plt.show()"
   ]
  }
 ],
 "metadata": {
  "interpreter": {
   "hash": "225abd0b4b41c85229fb7285a24282bb8b7c5c494a1c5011beaea88d2c1fa3cf"
  },
  "kernelspec": {
   "display_name": "Python 3.9.12 ('masters-thesis-dSEc-4wZ')",
   "language": "python",
   "name": "python3"
  },
  "language_info": {
   "codemirror_mode": {
    "name": "ipython",
    "version": 3
   },
   "file_extension": ".py",
   "mimetype": "text/x-python",
   "name": "python",
   "nbconvert_exporter": "python",
   "pygments_lexer": "ipython3",
   "version": "3.9.12"
  },
  "orig_nbformat": 4
 },
 "nbformat": 4,
 "nbformat_minor": 2
}
