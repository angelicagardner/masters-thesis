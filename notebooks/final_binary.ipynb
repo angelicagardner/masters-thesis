{
 "cells": [
  {
   "cell_type": "markdown",
   "metadata": {},
   "source": [
    "# Final Experiment (Binary Classification)"
   ]
  },
  {
   "cell_type": "code",
   "execution_count": 1,
   "metadata": {},
   "outputs": [],
   "source": [
    "import os\n",
    "os.environ['TF_CPP_MIN_LOG_LEVEL'] = '3'\n",
    "import warnings\n",
    "warnings.filterwarnings(\"ignore\")\n",
    "\n",
    "import numpy as np\n",
    "import matplotlib.pyplot as plt\n",
    "import scikitplot as skplt\n",
    "\n",
    "from sklearn.model_selection import KFold\n",
    "from sklearn.metrics import roc_curve, precision_recall_curve, PrecisionRecallDisplay\n",
    "from tensorflow.keras.models import load_model\n",
    "from pathlib import Path\n",
    "\n",
    "import sys\n",
    "module_path = os.path.abspath(os.getcwd() + '\\\\..')\n",
    "if module_path not in sys.path:\n",
    "    sys.path.append(module_path)\n",
    "from src.data.load_dataset import load_dataset, load_fusioned_dataset\n",
    "from src.lib.time_series_augmentation.utils.augmentation import jitter, rotation\n",
    "from src.models.CNNLSTM import CNNLSTM\n",
    "from src.models.RCNN import RCNN\n",
    "from src.lib.DeepStack.deepstack.base import KerasMember\n",
    "from src.lib.DeepStack.deepstack.ensemble import DirichletEnsemble"
   ]
  },
  {
   "cell_type": "code",
   "execution_count": 2,
   "metadata": {},
   "outputs": [],
   "source": [
    "kf = KFold(n_splits=10, shuffle=True, random_state=48)\n",
    "epochs = 100\n",
    "\n",
    "cnnlstm_auc = []\n",
    "rcnn_auc = []"
   ]
  },
  {
   "cell_type": "code",
   "execution_count": 3,
   "metadata": {},
   "outputs": [],
   "source": [
    "model_path = Path(os.path.abspath('')).parent / 'models' / 'saved'"
   ]
  },
  {
   "cell_type": "markdown",
   "metadata": {},
   "source": [
    "## 1. Unimodal Body (Skeleton Pose Estimation)"
   ]
  },
  {
   "cell_type": "code",
   "execution_count": 4,
   "metadata": {},
   "outputs": [
    {
     "name": "stdout",
     "output_type": "stream",
     "text": [
      "(783, 1, 350, 35) (783, 1)\n",
      "(274, 1, 350, 35) (274, 1)\n"
     ]
    }
   ],
   "source": [
    "X_train, X_test, y_train, y_test = load_dataset('skeleton', binary=True)\n",
    "X = X_train.copy()\n",
    "y = y_train.copy()\n",
    "\n",
    "print(X_train.shape, y_train.shape)\n",
    "print(X_test.shape, y_test.shape)\n",
    "\n",
    "n_length, n_features, n_outputs = X_train.shape[2], X_train.shape[-1], y_train.shape[1]"
   ]
  },
  {
   "cell_type": "markdown",
   "metadata": {},
   "source": [
    "### 1.1 CNN + BiLSTM"
   ]
  },
  {
   "cell_type": "code",
   "execution_count": null,
   "metadata": {},
   "outputs": [],
   "source": [
    "acc = []\n",
    "acc_val = []\n",
    "auc = []\n",
    "auc_val = []\n",
    "precision = []\n",
    "precision_val = []\n",
    "recall = []\n",
    "recall_val = []\n",
    "f1 = []\n",
    "f1_val = []\n",
    "val_accuracy = 0.0\n",
    "for train_index, val_index in kf.split(X):\n",
    "    X_train, X_val = X[train_index], X[val_index]\n",
    "    y_train, y_val = y[train_index], y[val_index]\n",
    "    cnnlstm_binary_body_model = CNNLSTM(n_features, None, n_length, n_outputs)\n",
    "    history = cnnlstm_binary_body_model.train(X_train, y_train, X_val, y_val, epochs=epochs, batch_size=32)\n",
    "    plt.plot(history.history['loss'])\n",
    "    plt.show()\n",
    "    acc.append(history.history['accuracy'][-1])\n",
    "    acc_val.append(history.history['val_accuracy'][-1])\n",
    "    f1.append(history.history['f1_score'][-1])\n",
    "    f1_val.append(history.history['val_f1_score'][-1])\n",
    "    save_model = False\n",
    "    for key in history.history.keys():\n",
    "        if 'auc' in key and not 'val' in key:\n",
    "            auc.append(history.history[key][-1])\n",
    "        elif 'auc' in key and 'val' in key:\n",
    "            auc_val.append(history.history[key][-1])\n",
    "            if history.history[key][-1] > val_accuracy:\n",
    "                val_accuracy = history.history[key][-1]\n",
    "                save_model = True\n",
    "        if 'precision' in key and not 'val' in key:\n",
    "            precision.append(history.history[key][-1])\n",
    "        elif 'precision' in key and 'val' in key:\n",
    "            precision_val.append(history.history[key][-1])\n",
    "        if 'recall' in key and not 'val' in key:\n",
    "            recall.append(history.history[key][-1])\n",
    "        elif 'recall' in key and 'val' in key:\n",
    "            recall_val.append(history.history[key][-1])\n",
    "    if save_model:\n",
    "        cnnlstm_binary_body_model.save(model_path / 'body_binary_cnnlstm.h5')"
   ]
  },
  {
   "cell_type": "markdown",
   "metadata": {},
   "source": [
    "#### Training performance"
   ]
  },
  {
   "cell_type": "code",
   "execution_count": null,
   "metadata": {},
   "outputs": [],
   "source": [
    "body_cnnlstm_train_results = {'Accuracy': np.average(acc), 'ROC/AUC': np.average(auc), 'Precision': np.average(precision), 'Recall': np.average(recall), 'F1-score': np.average(f1)}\n",
    "body_cnnlstm_train_results"
   ]
  },
  {
   "cell_type": "markdown",
   "metadata": {},
   "source": [
    "#### Validation performance"
   ]
  },
  {
   "cell_type": "code",
   "execution_count": null,
   "metadata": {},
   "outputs": [],
   "source": [
    "body_cnnlstm_val_results = {'Accuracy': np.average(acc_val), 'ROC/AUC': np.average(auc_val), 'Precision': np.average(precision_val), 'Recall': np.average(recall_val), 'F1-score': np.average(f1_val)}\n",
    "body_cnnlstm_val_results"
   ]
  },
  {
   "cell_type": "markdown",
   "metadata": {},
   "source": [
    "#### Predictions and performance on test set"
   ]
  },
  {
   "cell_type": "code",
   "execution_count": null,
   "metadata": {},
   "outputs": [],
   "source": [
    "cnnlstm_binary_body_model = load_model(model_path / 'body_binary_cnnlstm.h5')\n",
    "y_pred = cnnlstm_binary_body_model.predict(X_test)\n",
    "_, acc, auc, precision, recall, f1 = cnnlstm_binary_body_model.evaluate(X_test, y_test)\n",
    "cnn_auc.append(round(auc, 2))\n",
    "print('Accuracy: {:.2f}% \\nROC/AUC: {:.2f} \\nPrecision: {:.2f} \\nRecall: {:.2f} \\nF1 score: {:.2f}'.format(acc * 100, auc, precision, recall, f1))"
   ]
  },
  {
   "cell_type": "code",
   "execution_count": null,
   "metadata": {},
   "outputs": [],
   "source": [
    "y_pred = np.where(y_pred > 0.5, 1, 0)\n",
    "skplt.metrics.plot_confusion_matrix(y_test, y_pred, normalize=True, figsize=(8,6))"
   ]
  },
  {
   "cell_type": "code",
   "execution_count": null,
   "metadata": {},
   "outputs": [],
   "source": [
    "fpr, tpr, _ = roc_curve(y_test, y_pred)\n",
    "plt.plot(fpr, tpr, label='CNN + Bidirectional LSTM')\n",
    "plt.legend()\n",
    "plt.show()"
   ]
  },
  {
   "cell_type": "code",
   "execution_count": null,
   "metadata": {},
   "outputs": [],
   "source": [
    "precision, recall, _ = precision_recall_curve(y_test, y_pred)\n",
    "disp = PrecisionRecallDisplay(precision=precision, recall=recall)\n",
    "disp.plot()"
   ]
  },
  {
   "cell_type": "markdown",
   "metadata": {},
   "source": [
    "### 1.2 RCNN"
   ]
  },
  {
   "cell_type": "code",
   "execution_count": 5,
   "metadata": {},
   "outputs": [
    {
     "name": "stdout",
     "output_type": "stream",
     "text": [
      "Epoch 1/100\n",
      "29/29 - 10s - loss: 0.8063 - accuracy: 0.5795 - auc: 0.6027 - precision: 0.5714 - recall: 0.5481 - f1_score: 0.6552 - val_loss: 2.8856 - val_accuracy: 0.5316 - val_auc: 0.4910 - val_precision: 0.0000e+00 - val_recall: 0.0000e+00 - val_f1_score: 0.6379 - 10s/epoch - 330ms/step\n",
      "Epoch 2/100\n",
      "29/29 - 7s - loss: 0.6206 - accuracy: 0.6804 - auc: 0.7350 - precision: 0.6799 - recall: 0.6501 - f1_score: 0.6552 - val_loss: 3.9804 - val_accuracy: 0.5316 - val_auc: 0.4704 - val_precision: 0.0000e+00 - val_recall: 0.0000e+00 - val_f1_score: 0.6379 - 7s/epoch - 237ms/step\n",
      "Epoch 3/100\n",
      "29/29 - 7s - loss: 0.6249 - accuracy: 0.6889 - auc: 0.7475 - precision: 0.6890 - recall: 0.6589 - f1_score: 0.6552 - val_loss: 0.9846 - val_accuracy: 0.5063 - val_auc: 0.6110 - val_precision: 0.4848 - val_recall: 0.8649 - val_f1_score: 0.6379 - 7s/epoch - 230ms/step\n",
      "Epoch 4/100\n",
      "29/29 - 7s - loss: 0.5861 - accuracy: 0.7173 - auc: 0.7795 - precision: 0.7156 - recall: 0.6968 - f1_score: 0.6552 - val_loss: 1.4004 - val_accuracy: 0.5316 - val_auc: 0.5724 - val_precision: 0.5000 - val_recall: 0.0270 - val_f1_score: 0.6379 - 7s/epoch - 232ms/step\n",
      "Epoch 5/100\n",
      "29/29 - 7s - loss: 0.5731 - accuracy: 0.7188 - auc: 0.7897 - precision: 0.7231 - recall: 0.6851 - f1_score: 0.6552 - val_loss: 1.2377 - val_accuracy: 0.5696 - val_auc: 0.6712 - val_precision: 0.5217 - val_recall: 0.9730 - val_f1_score: 0.6379 - 7s/epoch - 236ms/step\n",
      "Epoch 6/100\n",
      "29/29 - 7s - loss: 0.5221 - accuracy: 0.7358 - auc: 0.8241 - precision: 0.7302 - recall: 0.7259 - f1_score: 0.6552 - val_loss: 1.4354 - val_accuracy: 0.5190 - val_auc: 0.6850 - val_precision: 0.4932 - val_recall: 0.9730 - val_f1_score: 0.6379 - 7s/epoch - 233ms/step\n",
      "Epoch 7/100\n",
      "29/29 - 7s - loss: 0.5059 - accuracy: 0.7628 - auc: 0.8389 - precision: 0.7573 - recall: 0.7551 - f1_score: 0.6552 - val_loss: 0.8146 - val_accuracy: 0.5949 - val_auc: 0.6927 - val_precision: 0.5510 - val_recall: 0.7297 - val_f1_score: 0.6379 - 7s/epoch - 231ms/step\n",
      "Epoch 8/100\n",
      "29/29 - 7s - loss: 0.4369 - accuracy: 0.7770 - auc: 0.8774 - precision: 0.7853 - recall: 0.7464 - f1_score: 0.6552 - val_loss: 1.9909 - val_accuracy: 0.5316 - val_auc: 0.5280 - val_precision: 0.0000e+00 - val_recall: 0.0000e+00 - val_f1_score: 0.6379 - 7s/epoch - 230ms/step\n",
      "Epoch 9/100\n",
      "29/29 - 7s - loss: 0.4865 - accuracy: 0.7827 - auc: 0.8575 - precision: 0.7932 - recall: 0.7493 - f1_score: 0.6552 - val_loss: 3.7319 - val_accuracy: 0.4684 - val_auc: 0.5795 - val_precision: 0.4684 - val_recall: 1.0000 - val_f1_score: 0.6379 - 7s/epoch - 229ms/step\n",
      "Epoch 10/100\n",
      "29/29 - 7s - loss: 0.5255 - accuracy: 0.7997 - auc: 0.8575 - precision: 0.7821 - recall: 0.8163 - f1_score: 0.6552 - val_loss: 0.9165 - val_accuracy: 0.6329 - val_auc: 0.7564 - val_precision: 0.5690 - val_recall: 0.8919 - val_f1_score: 0.6379 - 7s/epoch - 227ms/step\n",
      "Epoch 11/100\n",
      "29/29 - 7s - loss: 0.3559 - accuracy: 0.8423 - auc: 0.9232 - precision: 0.8372 - recall: 0.8397 - f1_score: 0.6552 - val_loss: 1.1068 - val_accuracy: 0.5316 - val_auc: 0.7384 - val_precision: 0.5000 - val_recall: 0.9459 - val_f1_score: 0.6379 - 7s/epoch - 228ms/step\n",
      "Epoch 12/100\n",
      "29/29 - 7s - loss: 0.4283 - accuracy: 0.8040 - auc: 0.8859 - precision: 0.7937 - recall: 0.8076 - f1_score: 0.6552 - val_loss: 0.7921 - val_accuracy: 0.6709 - val_auc: 0.7091 - val_precision: 0.6410 - val_recall: 0.6757 - val_f1_score: 0.6379 - 7s/epoch - 227ms/step\n",
      "Epoch 13/100\n",
      "29/29 - 7s - loss: 0.3349 - accuracy: 0.8608 - auc: 0.9354 - precision: 0.8657 - recall: 0.8455 - f1_score: 0.6552 - val_loss: 1.4872 - val_accuracy: 0.5190 - val_auc: 0.7558 - val_precision: 0.4932 - val_recall: 0.9730 - val_f1_score: 0.6379 - 7s/epoch - 230ms/step\n",
      "Epoch 14/100\n",
      "29/29 - 7s - loss: 0.4072 - accuracy: 0.8097 - auc: 0.8960 - precision: 0.7927 - recall: 0.8251 - f1_score: 0.6552 - val_loss: 0.7481 - val_accuracy: 0.7089 - val_auc: 0.7490 - val_precision: 0.7692 - val_recall: 0.5405 - val_f1_score: 0.6379 - 7s/epoch - 228ms/step\n",
      "Epoch 15/100\n",
      "29/29 - 7s - loss: 0.3090 - accuracy: 0.8622 - auc: 0.9450 - precision: 0.8555 - recall: 0.8630 - f1_score: 0.6552 - val_loss: 1.4017 - val_accuracy: 0.5696 - val_auc: 0.6654 - val_precision: 0.8000 - val_recall: 0.1081 - val_f1_score: 0.6379 - 7s/epoch - 228ms/step\n",
      "Epoch 16/100\n",
      "29/29 - 7s - loss: 0.3192 - accuracy: 0.8622 - auc: 0.9385 - precision: 0.8596 - recall: 0.8571 - f1_score: 0.6552 - val_loss: 1.3269 - val_accuracy: 0.5696 - val_auc: 0.7349 - val_precision: 0.5231 - val_recall: 0.9189 - val_f1_score: 0.6379 - 7s/epoch - 226ms/step\n",
      "Epoch 17/100\n",
      "29/29 - 7s - loss: 0.3141 - accuracy: 0.8707 - auc: 0.9423 - precision: 0.8600 - recall: 0.8776 - f1_score: 0.6552 - val_loss: 1.1122 - val_accuracy: 0.6076 - val_auc: 0.6786 - val_precision: 0.5517 - val_recall: 0.8649 - val_f1_score: 0.6379 - 7s/epoch - 227ms/step\n",
      "Epoch 18/100\n",
      "29/29 - 7s - loss: 0.2878 - accuracy: 0.8778 - auc: 0.9523 - precision: 0.8746 - recall: 0.8746 - f1_score: 0.6552 - val_loss: 1.1204 - val_accuracy: 0.5823 - val_auc: 0.7136 - val_precision: 0.5357 - val_recall: 0.8108 - val_f1_score: 0.6379 - 7s/epoch - 225ms/step\n",
      "Epoch 19/100\n",
      "29/29 - 7s - loss: 0.2816 - accuracy: 0.8807 - auc: 0.9535 - precision: 0.8798 - recall: 0.8746 - f1_score: 0.6552 - val_loss: 1.4578 - val_accuracy: 0.5696 - val_auc: 0.7301 - val_precision: 0.5224 - val_recall: 0.9459 - val_f1_score: 0.6379 - 7s/epoch - 228ms/step\n",
      "Epoch 20/100\n",
      "29/29 - 7s - loss: 0.2490 - accuracy: 0.9006 - auc: 0.9644 - precision: 0.8980 - recall: 0.8980 - f1_score: 0.6552 - val_loss: 0.8280 - val_accuracy: 0.6709 - val_auc: 0.7188 - val_precision: 0.6279 - val_recall: 0.7297 - val_f1_score: 0.6379 - 7s/epoch - 226ms/step\n",
      "Epoch 21/100\n",
      "29/29 - 7s - loss: 0.2137 - accuracy: 0.9247 - auc: 0.9767 - precision: 0.9265 - recall: 0.9184 - f1_score: 0.6552 - val_loss: 1.0904 - val_accuracy: 0.6582 - val_auc: 0.7162 - val_precision: 0.6923 - val_recall: 0.4865 - val_f1_score: 0.6379 - 7s/epoch - 227ms/step\n",
      "Epoch 22/100\n",
      "29/29 - 7s - loss: 0.2240 - accuracy: 0.9048 - auc: 0.9732 - precision: 0.9157 - recall: 0.8863 - f1_score: 0.6552 - val_loss: 0.8933 - val_accuracy: 0.6582 - val_auc: 0.7037 - val_precision: 0.6471 - val_recall: 0.5946 - val_f1_score: 0.6379 - 7s/epoch - 227ms/step\n",
      "Epoch 23/100\n",
      "29/29 - 7s - loss: 0.2613 - accuracy: 0.8849 - auc: 0.9592 - precision: 0.8853 - recall: 0.8776 - f1_score: 0.6552 - val_loss: 1.4041 - val_accuracy: 0.5949 - val_auc: 0.7600 - val_precision: 0.7778 - val_recall: 0.1892 - val_f1_score: 0.6379 - 7s/epoch - 226ms/step\n",
      "Epoch 24/100\n",
      "29/29 - 7s - loss: 0.2481 - accuracy: 0.8892 - auc: 0.9634 - precision: 0.9003 - recall: 0.8688 - f1_score: 0.6552 - val_loss: 1.0443 - val_accuracy: 0.6203 - val_auc: 0.6634 - val_precision: 0.7333 - val_recall: 0.2973 - val_f1_score: 0.6379 - 7s/epoch - 226ms/step\n",
      "Epoch 25/100\n",
      "29/29 - 7s - loss: 0.2269 - accuracy: 0.9119 - auc: 0.9701 - precision: 0.9145 - recall: 0.9038 - f1_score: 0.6552 - val_loss: 1.0801 - val_accuracy: 0.6203 - val_auc: 0.7181 - val_precision: 0.5614 - val_recall: 0.8649 - val_f1_score: 0.6379 - 7s/epoch - 227ms/step\n",
      "Epoch 26/100\n",
      "29/29 - 7s - loss: 0.2170 - accuracy: 0.9119 - auc: 0.9732 - precision: 0.9026 - recall: 0.9184 - f1_score: 0.6552 - val_loss: 2.2031 - val_accuracy: 0.4937 - val_auc: 0.6850 - val_precision: 0.4800 - val_recall: 0.9730 - val_f1_score: 0.6379 - 7s/epoch - 227ms/step\n",
      "Epoch 27/100\n",
      "29/29 - 7s - loss: 0.2824 - accuracy: 0.9020 - auc: 0.9533 - precision: 0.8870 - recall: 0.9155 - f1_score: 0.6552 - val_loss: 1.0327 - val_accuracy: 0.6582 - val_auc: 0.6560 - val_precision: 0.7083 - val_recall: 0.4595 - val_f1_score: 0.6379 - 7s/epoch - 228ms/step\n",
      "Epoch 28/100\n",
      "29/29 - 7s - loss: 0.1905 - accuracy: 0.9318 - auc: 0.9816 - precision: 0.9403 - recall: 0.9184 - f1_score: 0.6552 - val_loss: 0.9285 - val_accuracy: 0.6076 - val_auc: 0.7117 - val_precision: 0.5600 - val_recall: 0.7568 - val_f1_score: 0.6379 - 7s/epoch - 227ms/step\n",
      "Epoch 29/100\n",
      "29/29 - 7s - loss: 0.1679 - accuracy: 0.9403 - auc: 0.9868 - precision: 0.9312 - recall: 0.9475 - f1_score: 0.6552 - val_loss: 1.2274 - val_accuracy: 0.6962 - val_auc: 0.7162 - val_precision: 0.8421 - val_recall: 0.4324 - val_f1_score: 0.6379 - 7s/epoch - 227ms/step\n",
      "Epoch 30/100\n",
      "29/29 - 7s - loss: 0.1873 - accuracy: 0.9290 - auc: 0.9803 - precision: 0.9373 - recall: 0.9155 - f1_score: 0.6552 - val_loss: 0.9573 - val_accuracy: 0.6329 - val_auc: 0.6837 - val_precision: 0.6053 - val_recall: 0.6216 - val_f1_score: 0.6379 - 7s/epoch - 229ms/step\n",
      "Epoch 31/100\n",
      "29/29 - 7s - loss: 0.1340 - accuracy: 0.9616 - auc: 0.9929 - precision: 0.9675 - recall: 0.9534 - f1_score: 0.6552 - val_loss: 0.9784 - val_accuracy: 0.6709 - val_auc: 0.7526 - val_precision: 0.6279 - val_recall: 0.7297 - val_f1_score: 0.6379 - 7s/epoch - 229ms/step\n",
      "Epoch 32/100\n",
      "29/29 - 7s - loss: 0.1599 - accuracy: 0.9347 - auc: 0.9868 - precision: 0.9355 - recall: 0.9300 - f1_score: 0.6552 - val_loss: 1.2198 - val_accuracy: 0.6076 - val_auc: 0.7400 - val_precision: 0.5536 - val_recall: 0.8378 - val_f1_score: 0.6379 - 7s/epoch - 228ms/step\n",
      "Epoch 33/100\n",
      "29/29 - 7s - loss: 0.1387 - accuracy: 0.9531 - auc: 0.9917 - precision: 0.9532 - recall: 0.9504 - f1_score: 0.6552 - val_loss: 1.1335 - val_accuracy: 0.6076 - val_auc: 0.7384 - val_precision: 0.5556 - val_recall: 0.8108 - val_f1_score: 0.6379 - 7s/epoch - 230ms/step\n",
      "Epoch 34/100\n",
      "29/29 - 7s - loss: 0.1426 - accuracy: 0.9489 - auc: 0.9894 - precision: 0.9348 - recall: 0.9621 - f1_score: 0.6552 - val_loss: 0.9260 - val_accuracy: 0.7342 - val_auc: 0.7619 - val_precision: 0.7500 - val_recall: 0.6486 - val_f1_score: 0.6379 - 7s/epoch - 229ms/step\n",
      "Epoch 35/100\n",
      "29/29 - 7s - loss: 0.1419 - accuracy: 0.9489 - auc: 0.9898 - precision: 0.9582 - recall: 0.9359 - f1_score: 0.6552 - val_loss: 0.9643 - val_accuracy: 0.6456 - val_auc: 0.7516 - val_precision: 0.6216 - val_recall: 0.6216 - val_f1_score: 0.6379 - 7s/epoch - 227ms/step\n",
      "Epoch 36/100\n",
      "29/29 - 7s - loss: 0.1446 - accuracy: 0.9474 - auc: 0.9893 - precision: 0.9527 - recall: 0.9388 - f1_score: 0.6552 - val_loss: 0.9906 - val_accuracy: 0.6076 - val_auc: 0.7577 - val_precision: 0.5600 - val_recall: 0.7568 - val_f1_score: 0.6379 - 7s/epoch - 228ms/step\n",
      "Epoch 37/100\n",
      "29/29 - 7s - loss: 0.1269 - accuracy: 0.9574 - auc: 0.9925 - precision: 0.9589 - recall: 0.9534 - f1_score: 0.6552 - val_loss: 1.1275 - val_accuracy: 0.6203 - val_auc: 0.7317 - val_precision: 0.5660 - val_recall: 0.8108 - val_f1_score: 0.6379 - 7s/epoch - 229ms/step\n",
      "Epoch 38/100\n",
      "29/29 - 7s - loss: 0.1520 - accuracy: 0.9432 - auc: 0.9868 - precision: 0.9366 - recall: 0.9475 - f1_score: 0.6552 - val_loss: 1.0086 - val_accuracy: 0.6203 - val_auc: 0.6898 - val_precision: 0.6129 - val_recall: 0.5135 - val_f1_score: 0.6379 - 7s/epoch - 228ms/step\n",
      "Epoch 39/100\n",
      "29/29 - 7s - loss: 0.2046 - accuracy: 0.9233 - auc: 0.9741 - precision: 0.9263 - recall: 0.9155 - f1_score: 0.6552 - val_loss: 1.0132 - val_accuracy: 0.7089 - val_auc: 0.6988 - val_precision: 0.6750 - val_recall: 0.7297 - val_f1_score: 0.6379 - 7s/epoch - 229ms/step\n",
      "Epoch 40/100\n",
      "29/29 - 7s - loss: 0.1318 - accuracy: 0.9474 - auc: 0.9924 - precision: 0.9500 - recall: 0.9417 - f1_score: 0.6552 - val_loss: 1.0235 - val_accuracy: 0.6962 - val_auc: 0.7416 - val_precision: 0.6970 - val_recall: 0.6216 - val_f1_score: 0.6379 - 7s/epoch - 230ms/step\n",
      "Epoch 41/100\n",
      "29/29 - 7s - loss: 0.1101 - accuracy: 0.9730 - auc: 0.9936 - precision: 0.9765 - recall: 0.9679 - f1_score: 0.6552 - val_loss: 1.1801 - val_accuracy: 0.5570 - val_auc: 0.6776 - val_precision: 0.5172 - val_recall: 0.8108 - val_f1_score: 0.6379 - 7s/epoch - 229ms/step\n",
      "Epoch 42/100\n",
      "29/29 - 7s - loss: 0.1199 - accuracy: 0.9545 - auc: 0.9927 - precision: 0.9560 - recall: 0.9504 - f1_score: 0.6552 - val_loss: 1.2322 - val_accuracy: 0.7089 - val_auc: 0.7146 - val_precision: 0.7333 - val_recall: 0.5946 - val_f1_score: 0.6379 - 7s/epoch - 229ms/step\n",
      "Epoch 43/100\n",
      "29/29 - 7s - loss: 0.1505 - accuracy: 0.9503 - auc: 0.9874 - precision: 0.9503 - recall: 0.9475 - f1_score: 0.6552 - val_loss: 1.0803 - val_accuracy: 0.6709 - val_auc: 0.7268 - val_precision: 0.6571 - val_recall: 0.6216 - val_f1_score: 0.6379 - 7s/epoch - 229ms/step\n",
      "Epoch 44/100\n",
      "29/29 - 7s - loss: 0.0915 - accuracy: 0.9744 - auc: 0.9969 - precision: 0.9738 - recall: 0.9738 - f1_score: 0.6552 - val_loss: 1.0596 - val_accuracy: 0.6709 - val_auc: 0.7333 - val_precision: 0.6410 - val_recall: 0.6757 - val_f1_score: 0.6379 - 7s/epoch - 230ms/step\n",
      "Epoch 45/100\n",
      "29/29 - 7s - loss: 0.0893 - accuracy: 0.9716 - auc: 0.9970 - precision: 0.9681 - recall: 0.9738 - f1_score: 0.6552 - val_loss: 1.0427 - val_accuracy: 0.6835 - val_auc: 0.7204 - val_precision: 0.7000 - val_recall: 0.5676 - val_f1_score: 0.6379 - 7s/epoch - 229ms/step\n",
      "Epoch 46/100\n",
      "29/29 - 7s - loss: 0.0659 - accuracy: 0.9858 - auc: 0.9991 - precision: 0.9970 - recall: 0.9738 - f1_score: 0.6552 - val_loss: 1.3547 - val_accuracy: 0.7089 - val_auc: 0.7149 - val_precision: 0.7333 - val_recall: 0.5946 - val_f1_score: 0.6379 - 7s/epoch - 230ms/step\n",
      "Epoch 47/100\n",
      "29/29 - 7s - loss: 0.0719 - accuracy: 0.9844 - auc: 0.9990 - precision: 0.9882 - recall: 0.9796 - f1_score: 0.6552 - val_loss: 1.0871 - val_accuracy: 0.6709 - val_auc: 0.7317 - val_precision: 0.6571 - val_recall: 0.6216 - val_f1_score: 0.6379 - 7s/epoch - 228ms/step\n",
      "Epoch 48/100\n",
      "29/29 - 7s - loss: 0.0918 - accuracy: 0.9688 - auc: 0.9964 - precision: 0.9763 - recall: 0.9592 - f1_score: 0.6552 - val_loss: 1.0826 - val_accuracy: 0.7089 - val_auc: 0.7143 - val_precision: 0.7059 - val_recall: 0.6486 - val_f1_score: 0.6379 - 7s/epoch - 229ms/step\n",
      "Epoch 49/100\n",
      "29/29 - 7s - loss: 0.0956 - accuracy: 0.9673 - auc: 0.9953 - precision: 0.9651 - recall: 0.9679 - f1_score: 0.6552 - val_loss: 3.1047 - val_accuracy: 0.4684 - val_auc: 0.6210 - val_precision: 0.4667 - val_recall: 0.9459 - val_f1_score: 0.6379 - 7s/epoch - 229ms/step\n",
      "Epoch 50/100\n",
      "29/29 - 7s - loss: 0.2056 - accuracy: 0.9318 - auc: 0.9739 - precision: 0.9109 - recall: 0.9534 - f1_score: 0.6552 - val_loss: 1.1736 - val_accuracy: 0.6456 - val_auc: 0.6860 - val_precision: 0.6154 - val_recall: 0.6486 - val_f1_score: 0.6379 - 7s/epoch - 235ms/step\n",
      "Epoch 51/100\n",
      "29/29 - 7s - loss: 0.1271 - accuracy: 0.9517 - auc: 0.9906 - precision: 0.9558 - recall: 0.9446 - f1_score: 0.6552 - val_loss: 1.2513 - val_accuracy: 0.6835 - val_auc: 0.7062 - val_precision: 0.6429 - val_recall: 0.7297 - val_f1_score: 0.6379 - 7s/epoch - 231ms/step\n",
      "Epoch 52/100\n",
      "29/29 - 7s - loss: 0.0901 - accuracy: 0.9744 - auc: 0.9950 - precision: 0.9738 - recall: 0.9738 - f1_score: 0.6552 - val_loss: 2.1793 - val_accuracy: 0.5570 - val_auc: 0.7162 - val_precision: 0.5143 - val_recall: 0.9730 - val_f1_score: 0.6379 - 7s/epoch - 230ms/step\n",
      "Epoch 53/100\n",
      "29/29 - 7s - loss: 0.1430 - accuracy: 0.9432 - auc: 0.9869 - precision: 0.9197 - recall: 0.9679 - f1_score: 0.6552 - val_loss: 1.1370 - val_accuracy: 0.7215 - val_auc: 0.7490 - val_precision: 0.6829 - val_recall: 0.7568 - val_f1_score: 0.6379 - 7s/epoch - 232ms/step\n",
      "Epoch 54/100\n",
      "29/29 - 7s - loss: 0.0862 - accuracy: 0.9773 - auc: 0.9967 - precision: 0.9852 - recall: 0.9679 - f1_score: 0.6552 - val_loss: 1.0597 - val_accuracy: 0.6962 - val_auc: 0.7333 - val_precision: 0.6970 - val_recall: 0.6216 - val_f1_score: 0.6379 - 7s/epoch - 231ms/step\n",
      "Epoch 55/100\n",
      "29/29 - 7s - loss: 0.0802 - accuracy: 0.9702 - auc: 0.9979 - precision: 0.9708 - recall: 0.9679 - f1_score: 0.6552 - val_loss: 1.1641 - val_accuracy: 0.6962 - val_auc: 0.7291 - val_precision: 0.6757 - val_recall: 0.6757 - val_f1_score: 0.6379 - 7s/epoch - 231ms/step\n",
      "Epoch 56/100\n",
      "29/29 - 7s - loss: 0.0444 - accuracy: 0.9957 - auc: 0.9999 - precision: 0.9971 - recall: 0.9942 - f1_score: 0.6552 - val_loss: 1.1935 - val_accuracy: 0.7089 - val_auc: 0.7426 - val_precision: 0.7333 - val_recall: 0.5946 - val_f1_score: 0.6379 - 7s/epoch - 229ms/step\n",
      "Epoch 57/100\n",
      "29/29 - 7s - loss: 0.0887 - accuracy: 0.9744 - auc: 0.9954 - precision: 0.9765 - recall: 0.9708 - f1_score: 0.6552 - val_loss: 0.9939 - val_accuracy: 0.6962 - val_auc: 0.7474 - val_precision: 0.6757 - val_recall: 0.6757 - val_f1_score: 0.6379 - 7s/epoch - 229ms/step\n",
      "Epoch 58/100\n",
      "29/29 - 7s - loss: 0.0699 - accuracy: 0.9844 - auc: 0.9981 - precision: 0.9854 - recall: 0.9825 - f1_score: 0.6552 - val_loss: 1.1631 - val_accuracy: 0.7215 - val_auc: 0.7336 - val_precision: 0.7778 - val_recall: 0.5676 - val_f1_score: 0.6379 - 7s/epoch - 231ms/step\n",
      "Epoch 59/100\n",
      "29/29 - 7s - loss: 0.0474 - accuracy: 0.9929 - auc: 0.9998 - precision: 0.9913 - recall: 0.9942 - f1_score: 0.6552 - val_loss: 1.0903 - val_accuracy: 0.7215 - val_auc: 0.7506 - val_precision: 0.7273 - val_recall: 0.6486 - val_f1_score: 0.6379 - 7s/epoch - 230ms/step\n",
      "Epoch 60/100\n",
      "29/29 - 7s - loss: 0.0579 - accuracy: 0.9872 - auc: 0.9973 - precision: 0.9855 - recall: 0.9883 - f1_score: 0.6552 - val_loss: 1.2330 - val_accuracy: 0.6835 - val_auc: 0.7159 - val_precision: 0.6765 - val_recall: 0.6216 - val_f1_score: 0.6379 - 7s/epoch - 233ms/step\n",
      "Epoch 61/100\n",
      "29/29 - 7s - loss: 0.0810 - accuracy: 0.9787 - auc: 0.9961 - precision: 0.9767 - recall: 0.9796 - f1_score: 0.6552 - val_loss: 1.1667 - val_accuracy: 0.7215 - val_auc: 0.7423 - val_precision: 0.7419 - val_recall: 0.6216 - val_f1_score: 0.6379 - 7s/epoch - 245ms/step\n",
      "Epoch 62/100\n",
      "29/29 - 7s - loss: 0.0905 - accuracy: 0.9688 - auc: 0.9941 - precision: 0.9679 - recall: 0.9679 - f1_score: 0.6552 - val_loss: 2.8372 - val_accuracy: 0.5570 - val_auc: 0.6811 - val_precision: 0.7500 - val_recall: 0.0811 - val_f1_score: 0.6379 - 7s/epoch - 252ms/step\n",
      "Epoch 63/100\n",
      "29/29 - 7s - loss: 0.1763 - accuracy: 0.9503 - auc: 0.9781 - precision: 0.9667 - recall: 0.9300 - f1_score: 0.6552 - val_loss: 1.3163 - val_accuracy: 0.6709 - val_auc: 0.7117 - val_precision: 0.6486 - val_recall: 0.6486 - val_f1_score: 0.6379 - 7s/epoch - 244ms/step\n",
      "Epoch 64/100\n",
      "29/29 - 7s - loss: 0.0589 - accuracy: 0.9872 - auc: 0.9988 - precision: 0.9883 - recall: 0.9854 - f1_score: 0.6552 - val_loss: 1.2739 - val_accuracy: 0.6709 - val_auc: 0.7313 - val_precision: 0.6410 - val_recall: 0.6757 - val_f1_score: 0.6379 - 7s/epoch - 249ms/step\n"
     ]
    },
    {
     "data": {
      "image/png": "[encoded data removed]",
      "text/plain": [
       "<Figure size 432x288 with 1 Axes>"
      ]
     },
     "metadata": {
      "needs_background": "light"
     },
     "output_type": "display_data"
    },
    {
     "name": "stdout",
     "output_type": "stream",
     "text": [
      "Epoch 1/100\n",
      "29/29 - 10s - loss: 0.7748 - accuracy: 0.5781 - auc_1: 0.5981 - precision_1: 0.5623 - recall_1: 0.5473 - f1_score: 0.6488 - val_loss: 3.1268 - val_accuracy: 0.5316 - val_auc_1: 0.6004 - val_precision_1: 0.5316 - val_recall_1: 1.0000 - val_f1_score: 0.6942 - 10s/epoch - 341ms/step\n",
      "Epoch 2/100\n",
      "29/29 - 7s - loss: 0.6338 - accuracy: 0.6662 - auc_1: 0.7197 - precision_1: 0.6537 - recall_1: 0.6479 - f1_score: 0.6488 - val_loss: 1.5592 - val_accuracy: 0.5316 - val_auc_1: 0.7516 - val_precision_1: 0.5316 - val_recall_1: 1.0000 - val_f1_score: 0.6942 - 7s/epoch - 242ms/step\n",
      "Epoch 3/100\n",
      "29/29 - 7s - loss: 0.6086 - accuracy: 0.6747 - auc_1: 0.7491 - precision_1: 0.6764 - recall_1: 0.6183 - f1_score: 0.6488 - val_loss: 3.3439 - val_accuracy: 0.4684 - val_auc_1: 0.4196 - val_precision_1: 0.0000e+00 - val_recall_1: 0.0000e+00 - val_f1_score: 0.6942 - 7s/epoch - 257ms/step\n",
      "Epoch 4/100\n",
      "29/29 - 8s - loss: 0.6430 - accuracy: 0.6918 - auc_1: 0.7433 - precision_1: 0.6862 - recall_1: 0.6598 - f1_score: 0.6488 - val_loss: 0.8674 - val_accuracy: 0.5570 - val_auc_1: 0.6959 - val_precision_1: 0.5479 - val_recall_1: 0.9524 - val_f1_score: 0.6942 - 8s/epoch - 271ms/step\n",
      "Epoch 5/100\n",
      "29/29 - 7s - loss: 0.5683 - accuracy: 0.7259 - auc_1: 0.7898 - precision_1: 0.7273 - recall_1: 0.6864 - f1_score: 0.6488 - val_loss: 5.8065 - val_accuracy: 0.4684 - val_auc_1: 0.5216 - val_precision_1: 0.0000e+00 - val_recall_1: 0.0000e+00 - val_f1_score: 0.6942 - 7s/epoch - 231ms/step\n",
      "Epoch 6/100\n",
      "29/29 - 7s - loss: 0.5671 - accuracy: 0.7386 - auc_1: 0.8092 - precision_1: 0.7421 - recall_1: 0.6982 - f1_score: 0.6488 - val_loss: 0.9280 - val_accuracy: 0.5570 - val_auc_1: 0.6261 - val_precision_1: 0.5593 - val_recall_1: 0.7857 - val_f1_score: 0.6942 - 7s/epoch - 230ms/step\n",
      "Epoch 7/100\n",
      "29/29 - 7s - loss: 0.4871 - accuracy: 0.7770 - auc_1: 0.8478 - precision_1: 0.7685 - recall_1: 0.7663 - f1_score: 0.6488 - val_loss: 0.6989 - val_accuracy: 0.6709 - val_auc_1: 0.6943 - val_precision_1: 0.7105 - val_recall_1: 0.6429 - val_f1_score: 0.6942 - 7s/epoch - 230ms/step\n",
      "Epoch 8/100\n",
      "29/29 - 7s - loss: 0.4472 - accuracy: 0.7727 - auc_1: 0.8708 - precision_1: 0.7730 - recall_1: 0.7456 - f1_score: 0.6488 - val_loss: 1.7928 - val_accuracy: 0.5443 - val_auc_1: 0.5319 - val_precision_1: 0.7143 - val_recall_1: 0.2381 - val_f1_score: 0.6942 - 7s/epoch - 231ms/step\n",
      "Epoch 9/100\n",
      "29/29 - 7s - loss: 0.4853 - accuracy: 0.7741 - auc_1: 0.8531 - precision_1: 0.7754 - recall_1: 0.7456 - f1_score: 0.6488 - val_loss: 1.0977 - val_accuracy: 0.5696 - val_auc_1: 0.6721 - val_precision_1: 0.7222 - val_recall_1: 0.3095 - val_f1_score: 0.6942 - 7s/epoch - 230ms/step\n",
      "Epoch 10/100\n",
      "29/29 - 7s - loss: 0.4553 - accuracy: 0.7926 - auc_1: 0.8694 - precision_1: 0.8137 - recall_1: 0.7367 - f1_score: 0.6488 - val_loss: 1.0774 - val_accuracy: 0.5570 - val_auc_1: 0.6963 - val_precision_1: 0.5467 - val_recall_1: 0.9762 - val_f1_score: 0.6942 - 7s/epoch - 232ms/step\n",
      "Epoch 11/100\n",
      "29/29 - 7s - loss: 0.4132 - accuracy: 0.8153 - auc_1: 0.8928 - precision_1: 0.8171 - recall_1: 0.7929 - f1_score: 0.6488 - val_loss: 0.8138 - val_accuracy: 0.6709 - val_auc_1: 0.7358 - val_precision_1: 0.6250 - val_recall_1: 0.9524 - val_f1_score: 0.6942 - 7s/epoch - 231ms/step\n",
      "Epoch 12/100\n",
      "29/29 - 7s - loss: 0.3626 - accuracy: 0.8494 - auc_1: 0.9214 - precision_1: 0.8452 - recall_1: 0.8402 - f1_score: 0.6488 - val_loss: 1.9186 - val_accuracy: 0.5316 - val_auc_1: 0.7104 - val_precision_1: 0.5316 - val_recall_1: 1.0000 - val_f1_score: 0.6942 - 7s/epoch - 231ms/step\n",
      "Epoch 13/100\n",
      "29/29 - 7s - loss: 0.4161 - accuracy: 0.8253 - auc_1: 0.8948 - precision_1: 0.8152 - recall_1: 0.8225 - f1_score: 0.6488 - val_loss: 1.6393 - val_accuracy: 0.5443 - val_auc_1: 0.7465 - val_precision_1: 0.5385 - val_recall_1: 1.0000 - val_f1_score: 0.6942 - 7s/epoch - 230ms/step\n",
      "Epoch 14/100\n",
      "29/29 - 7s - loss: 0.4002 - accuracy: 0.8310 - auc_1: 0.9028 - precision_1: 0.8230 - recall_1: 0.8254 - f1_score: 0.6488 - val_loss: 0.6756 - val_accuracy: 0.7342 - val_auc_1: 0.7642 - val_precision_1: 0.8000 - val_recall_1: 0.6667 - val_f1_score: 0.6942 - 7s/epoch - 233ms/step\n",
      "Epoch 15/100\n",
      "29/29 - 7s - loss: 0.3400 - accuracy: 0.8509 - auc_1: 0.9304 - precision_1: 0.8498 - recall_1: 0.8373 - f1_score: 0.6488 - val_loss: 0.8518 - val_accuracy: 0.6203 - val_auc_1: 0.6815 - val_precision_1: 0.6765 - val_recall_1: 0.5476 - val_f1_score: 0.6942 - 7s/epoch - 232ms/step\n",
      "Epoch 16/100\n",
      "29/29 - 7s - loss: 0.3053 - accuracy: 0.8565 - auc_1: 0.9468 - precision_1: 0.8455 - recall_1: 0.8580 - f1_score: 0.6488 - val_loss: 0.7947 - val_accuracy: 0.6456 - val_auc_1: 0.7088 - val_precision_1: 0.6750 - val_recall_1: 0.6429 - val_f1_score: 0.6942 - 7s/epoch - 231ms/step\n",
      "Epoch 17/100\n",
      "29/29 - 7s - loss: 0.2886 - accuracy: 0.8906 - auc_1: 0.9527 - precision_1: 0.8967 - recall_1: 0.8728 - f1_score: 0.6488 - val_loss: 0.7400 - val_accuracy: 0.6582 - val_auc_1: 0.7494 - val_precision_1: 0.6471 - val_recall_1: 0.7857 - val_f1_score: 0.6942 - 7s/epoch - 232ms/step\n",
      "Epoch 18/100\n",
      "29/29 - 7s - loss: 0.2670 - accuracy: 0.8878 - auc_1: 0.9610 - precision_1: 0.8866 - recall_1: 0.8787 - f1_score: 0.6488 - val_loss: 0.6824 - val_accuracy: 0.6582 - val_auc_1: 0.7635 - val_precision_1: 0.6667 - val_recall_1: 0.7143 - val_f1_score: 0.6942 - 7s/epoch - 232ms/step\n",
      "Epoch 19/100\n",
      "29/29 - 7s - loss: 0.2742 - accuracy: 0.8977 - auc_1: 0.9562 - precision_1: 0.8982 - recall_1: 0.8876 - f1_score: 0.6488 - val_loss: 1.1387 - val_accuracy: 0.5696 - val_auc_1: 0.6985 - val_precision_1: 0.7222 - val_recall_1: 0.3095 - val_f1_score: 0.6942 - 7s/epoch - 231ms/step\n",
      "Epoch 20/100\n",
      "29/29 - 7s - loss: 0.2652 - accuracy: 0.8906 - auc_1: 0.9592 - precision_1: 0.8991 - recall_1: 0.8698 - f1_score: 0.6488 - val_loss: 0.8600 - val_accuracy: 0.6709 - val_auc_1: 0.7301 - val_precision_1: 0.7667 - val_recall_1: 0.5476 - val_f1_score: 0.6942 - 7s/epoch - 232ms/step\n",
      "Epoch 21/100\n",
      "29/29 - 7s - loss: 0.2569 - accuracy: 0.8920 - auc_1: 0.9613 - precision_1: 0.8946 - recall_1: 0.8787 - f1_score: 0.6488 - val_loss: 1.0206 - val_accuracy: 0.5949 - val_auc_1: 0.6412 - val_precision_1: 0.6042 - val_recall_1: 0.6905 - val_f1_score: 0.6942 - 7s/epoch - 231ms/step\n",
      "Epoch 22/100\n",
      "29/29 - 7s - loss: 0.2073 - accuracy: 0.9261 - auc_1: 0.9791 - precision_1: 0.9206 - recall_1: 0.9260 - f1_score: 0.6488 - val_loss: 1.5337 - val_accuracy: 0.5316 - val_auc_1: 0.7120 - val_precision_1: 0.7273 - val_recall_1: 0.1905 - val_f1_score: 0.6942 - 7s/epoch - 232ms/step\n",
      "Epoch 23/100\n",
      "29/29 - 7s - loss: 0.1967 - accuracy: 0.9290 - auc_1: 0.9799 - precision_1: 0.9286 - recall_1: 0.9231 - f1_score: 0.6488 - val_loss: 0.7258 - val_accuracy: 0.7089 - val_auc_1: 0.7687 - val_precision_1: 0.7568 - val_recall_1: 0.6667 - val_f1_score: 0.6942 - 7s/epoch - 232ms/step\n",
      "Epoch 24/100\n",
      "29/29 - 7s - loss: 0.2545 - accuracy: 0.8963 - auc_1: 0.9620 - precision_1: 0.8955 - recall_1: 0.8876 - f1_score: 0.6488 - val_loss: 1.6819 - val_accuracy: 0.5190 - val_auc_1: 0.5743 - val_precision_1: 0.5909 - val_recall_1: 0.3095 - val_f1_score: 0.6942 - 7s/epoch - 232ms/step\n",
      "Epoch 25/100\n",
      "29/29 - 7s - loss: 0.2384 - accuracy: 0.8949 - auc_1: 0.9685 - precision_1: 0.8952 - recall_1: 0.8846 - f1_score: 0.6488 - val_loss: 0.9616 - val_accuracy: 0.6329 - val_auc_1: 0.6914 - val_precision_1: 0.7241 - val_recall_1: 0.5000 - val_f1_score: 0.6942 - 7s/epoch - 232ms/step\n",
      "Epoch 26/100\n",
      "29/29 - 7s - loss: 0.2207 - accuracy: 0.9077 - auc_1: 0.9724 - precision_1: 0.9149 - recall_1: 0.8905 - f1_score: 0.6488 - val_loss: 1.2201 - val_accuracy: 0.6076 - val_auc_1: 0.7281 - val_precision_1: 0.7895 - val_recall_1: 0.3571 - val_f1_score: 0.6942 - 7s/epoch - 231ms/step\n",
      "Epoch 27/100\n",
      "29/29 - 7s - loss: 0.2288 - accuracy: 0.9091 - auc_1: 0.9686 - precision_1: 0.9102 - recall_1: 0.8994 - f1_score: 0.6488 - val_loss: 0.8546 - val_accuracy: 0.7468 - val_auc_1: 0.7568 - val_precision_1: 0.8667 - val_recall_1: 0.6190 - val_f1_score: 0.6942 - 7s/epoch - 234ms/step\n",
      "Epoch 28/100\n",
      "29/29 - 7s - loss: 0.1863 - accuracy: 0.9247 - auc_1: 0.9817 - precision_1: 0.9228 - recall_1: 0.9201 - f1_score: 0.6488 - val_loss: 2.9558 - val_accuracy: 0.5063 - val_auc_1: 0.7178 - val_precision_1: 1.0000 - val_recall_1: 0.0714 - val_f1_score: 0.6942 - 7s/epoch - 230ms/step\n",
      "Epoch 29/100\n",
      "29/29 - 7s - loss: 0.2332 - accuracy: 0.9020 - auc_1: 0.9681 - precision_1: 0.9113 - recall_1: 0.8817 - f1_score: 0.6488 - val_loss: 1.2374 - val_accuracy: 0.6456 - val_auc_1: 0.6998 - val_precision_1: 0.7500 - val_recall_1: 0.5000 - val_f1_score: 0.6942 - 7s/epoch - 233ms/step\n",
      "Epoch 30/100\n",
      "29/29 - 7s - loss: 0.1542 - accuracy: 0.9474 - auc_1: 0.9900 - precision_1: 0.9493 - recall_1: 0.9408 - f1_score: 0.6488 - val_loss: 1.3054 - val_accuracy: 0.6456 - val_auc_1: 0.7265 - val_precision_1: 0.8182 - val_recall_1: 0.4286 - val_f1_score: 0.6942 - 7s/epoch - 232ms/step\n",
      "Epoch 31/100\n",
      "29/29 - 7s - loss: 0.1831 - accuracy: 0.9332 - auc_1: 0.9817 - precision_1: 0.9292 - recall_1: 0.9320 - f1_score: 0.6488 - val_loss: 1.5253 - val_accuracy: 0.6329 - val_auc_1: 0.6824 - val_precision_1: 0.8095 - val_recall_1: 0.4048 - val_f1_score: 0.6942 - 7s/epoch - 232ms/step\n",
      "Epoch 32/100\n",
      "29/29 - 7s - loss: 0.1504 - accuracy: 0.9446 - auc_1: 0.9884 - precision_1: 0.9463 - recall_1: 0.9379 - f1_score: 0.6488 - val_loss: 1.1248 - val_accuracy: 0.5949 - val_auc_1: 0.6782 - val_precision_1: 0.6562 - val_recall_1: 0.5000 - val_f1_score: 0.6942 - 7s/epoch - 231ms/step\n",
      "Epoch 33/100\n",
      "29/29 - 7s - loss: 0.1427 - accuracy: 0.9531 - auc_1: 0.9891 - precision_1: 0.9525 - recall_1: 0.9497 - f1_score: 0.6488 - val_loss: 1.1278 - val_accuracy: 0.6329 - val_auc_1: 0.6882 - val_precision_1: 0.6275 - val_recall_1: 0.7619 - val_f1_score: 0.6942 - 7s/epoch - 231ms/step\n",
      "Epoch 34/100\n",
      "29/29 - 7s - loss: 0.1332 - accuracy: 0.9588 - auc_1: 0.9912 - precision_1: 0.9478 - recall_1: 0.9675 - f1_score: 0.6488 - val_loss: 0.9994 - val_accuracy: 0.6709 - val_auc_1: 0.7384 - val_precision_1: 0.7857 - val_recall_1: 0.5238 - val_f1_score: 0.6942 - 7s/epoch - 232ms/step\n",
      "Epoch 35/100\n",
      "29/29 - 7s - loss: 0.1404 - accuracy: 0.9517 - auc_1: 0.9898 - precision_1: 0.9551 - recall_1: 0.9438 - f1_score: 0.6488 - val_loss: 1.2043 - val_accuracy: 0.6456 - val_auc_1: 0.6387 - val_precision_1: 0.6522 - val_recall_1: 0.7143 - val_f1_score: 0.6942 - 7s/epoch - 231ms/step\n",
      "Epoch 36/100\n",
      "29/29 - 7s - loss: 0.1472 - accuracy: 0.9446 - auc_1: 0.9883 - precision_1: 0.9436 - recall_1: 0.9408 - f1_score: 0.6488 - val_loss: 1.2808 - val_accuracy: 0.6329 - val_auc_1: 0.6647 - val_precision_1: 0.6383 - val_recall_1: 0.7143 - val_f1_score: 0.6942 - 7s/epoch - 231ms/step\n",
      "Epoch 37/100\n",
      "29/29 - 7s - loss: 0.1361 - accuracy: 0.9489 - auc_1: 0.9903 - precision_1: 0.9494 - recall_1: 0.9438 - f1_score: 0.6488 - val_loss: 1.0265 - val_accuracy: 0.7215 - val_auc_1: 0.7477 - val_precision_1: 0.7941 - val_recall_1: 0.6429 - val_f1_score: 0.6942 - 7s/epoch - 232ms/step\n",
      "Epoch 38/100\n",
      "29/29 - 7s - loss: 0.1258 - accuracy: 0.9588 - auc_1: 0.9923 - precision_1: 0.9754 - recall_1: 0.9379 - f1_score: 0.6488 - val_loss: 1.2710 - val_accuracy: 0.6456 - val_auc_1: 0.6937 - val_precision_1: 0.7188 - val_recall_1: 0.5476 - val_f1_score: 0.6942 - 7s/epoch - 230ms/step\n",
      "Epoch 39/100\n",
      "29/29 - 7s - loss: 0.1059 - accuracy: 0.9744 - auc_1: 0.9949 - precision_1: 0.9706 - recall_1: 0.9763 - f1_score: 0.6488 - val_loss: 0.9268 - val_accuracy: 0.6962 - val_auc_1: 0.7519 - val_precision_1: 0.7045 - val_recall_1: 0.7381 - val_f1_score: 0.6942 - 7s/epoch - 233ms/step\n",
      "Epoch 40/100\n",
      "29/29 - 7s - loss: 0.1013 - accuracy: 0.9645 - auc_1: 0.9963 - precision_1: 0.9672 - recall_1: 0.9586 - f1_score: 0.6488 - val_loss: 1.9042 - val_accuracy: 0.5949 - val_auc_1: 0.7005 - val_precision_1: 0.5714 - val_recall_1: 0.9524 - val_f1_score: 0.6942 - 7s/epoch - 231ms/step\n",
      "Epoch 41/100\n",
      "29/29 - 7s - loss: 0.1469 - accuracy: 0.9403 - auc_1: 0.9871 - precision_1: 0.9277 - recall_1: 0.9497 - f1_score: 0.6488 - val_loss: 1.1602 - val_accuracy: 0.6835 - val_auc_1: 0.6943 - val_precision_1: 0.7429 - val_recall_1: 0.6190 - val_f1_score: 0.6942 - 7s/epoch - 230ms/step\n",
      "Epoch 42/100\n",
      "29/29 - 7s - loss: 0.1263 - accuracy: 0.9446 - auc_1: 0.9918 - precision_1: 0.9517 - recall_1: 0.9320 - f1_score: 0.6488 - val_loss: 1.0927 - val_accuracy: 0.6962 - val_auc_1: 0.7194 - val_precision_1: 0.7045 - val_recall_1: 0.7381 - val_f1_score: 0.6942 - 7s/epoch - 231ms/step\n",
      "Epoch 43/100\n",
      "29/29 - 7s - loss: 0.0984 - accuracy: 0.9659 - auc_1: 0.9958 - precision_1: 0.9645 - recall_1: 0.9645 - f1_score: 0.6488 - val_loss: 1.3039 - val_accuracy: 0.5696 - val_auc_1: 0.6676 - val_precision_1: 0.6000 - val_recall_1: 0.5714 - val_f1_score: 0.6942 - 7s/epoch - 248ms/step\n",
      "Epoch 44/100\n",
      "29/29 - 7s - loss: 0.1158 - accuracy: 0.9659 - auc_1: 0.9927 - precision_1: 0.9729 - recall_1: 0.9556 - f1_score: 0.6488 - val_loss: 1.2037 - val_accuracy: 0.6456 - val_auc_1: 0.6879 - val_precision_1: 0.6167 - val_recall_1: 0.8810 - val_f1_score: 0.6942 - 7s/epoch - 258ms/step\n",
      "Epoch 45/100\n",
      "29/29 - 7s - loss: 0.1141 - accuracy: 0.9645 - auc_1: 0.9929 - precision_1: 0.9589 - recall_1: 0.9675 - f1_score: 0.6488 - val_loss: 1.0103 - val_accuracy: 0.6709 - val_auc_1: 0.7551 - val_precision_1: 0.6481 - val_recall_1: 0.8333 - val_f1_score: 0.6942 - 7s/epoch - 235ms/step\n",
      "Epoch 46/100\n",
      "29/29 - 7s - loss: 0.1006 - accuracy: 0.9616 - auc_1: 0.9958 - precision_1: 0.9642 - recall_1: 0.9556 - f1_score: 0.6488 - val_loss: 1.1854 - val_accuracy: 0.6456 - val_auc_1: 0.7494 - val_precision_1: 0.6167 - val_recall_1: 0.8810 - val_f1_score: 0.6942 - 7s/epoch - 239ms/step\n",
      "Epoch 47/100\n",
      "29/29 - 7s - loss: 0.0983 - accuracy: 0.9616 - auc_1: 0.9955 - precision_1: 0.9587 - recall_1: 0.9615 - f1_score: 0.6488 - val_loss: 1.4055 - val_accuracy: 0.6582 - val_auc_1: 0.6782 - val_precision_1: 0.7778 - val_recall_1: 0.5000 - val_f1_score: 0.6942 - 7s/epoch - 241ms/step\n",
      "Epoch 48/100\n",
      "29/29 - 7s - loss: 0.0822 - accuracy: 0.9787 - auc_1: 0.9970 - precision_1: 0.9792 - recall_1: 0.9763 - f1_score: 0.6488 - val_loss: 1.4011 - val_accuracy: 0.5949 - val_auc_1: 0.6686 - val_precision_1: 0.5893 - val_recall_1: 0.7857 - val_f1_score: 0.6942 - 7s/epoch - 241ms/step\n",
      "Epoch 49/100\n",
      "29/29 - 7s - loss: 0.1703 - accuracy: 0.9332 - auc_1: 0.9822 - precision_1: 0.9242 - recall_1: 0.9379 - f1_score: 0.6488 - val_loss: 1.8022 - val_accuracy: 0.6203 - val_auc_1: 0.6770 - val_precision_1: 0.5882 - val_recall_1: 0.9524 - val_f1_score: 0.6942 - 7s/epoch - 240ms/step\n",
      "Epoch 50/100\n",
      "29/29 - 7s - loss: 0.1801 - accuracy: 0.9389 - auc_1: 0.9792 - precision_1: 0.9300 - recall_1: 0.9438 - f1_score: 0.6488 - val_loss: 2.9352 - val_accuracy: 0.5443 - val_auc_1: 0.6261 - val_precision_1: 0.5405 - val_recall_1: 0.9524 - val_f1_score: 0.6942 - 7s/epoch - 238ms/step\n",
      "Epoch 51/100\n",
      "29/29 - 7s - loss: 0.1950 - accuracy: 0.9347 - auc_1: 0.9757 - precision_1: 0.9171 - recall_1: 0.9497 - f1_score: 0.6488 - val_loss: 1.4177 - val_accuracy: 0.5823 - val_auc_1: 0.6602 - val_precision_1: 0.6957 - val_recall_1: 0.3810 - val_f1_score: 0.6942 - 7s/epoch - 247ms/step\n",
      "Epoch 52/100\n",
      "29/29 - 7s - loss: 0.0897 - accuracy: 0.9716 - auc_1: 0.9959 - precision_1: 0.9732 - recall_1: 0.9675 - f1_score: 0.6488 - val_loss: 1.0082 - val_accuracy: 0.6456 - val_auc_1: 0.7603 - val_precision_1: 0.7333 - val_recall_1: 0.5238 - val_f1_score: 0.6942 - 7s/epoch - 245ms/step\n",
      "Epoch 53/100\n",
      "29/29 - 7s - loss: 0.0902 - accuracy: 0.9673 - auc_1: 0.9959 - precision_1: 0.9758 - recall_1: 0.9556 - f1_score: 0.6488 - val_loss: 1.2763 - val_accuracy: 0.6582 - val_auc_1: 0.7011 - val_precision_1: 0.6364 - val_recall_1: 0.8333 - val_f1_score: 0.6942 - 7s/epoch - 233ms/step\n",
      "Epoch 54/100\n",
      "29/29 - 7s - loss: 0.0961 - accuracy: 0.9673 - auc_1: 0.9956 - precision_1: 0.9592 - recall_1: 0.9734 - f1_score: 0.6488 - val_loss: 2.1249 - val_accuracy: 0.6076 - val_auc_1: 0.6403 - val_precision_1: 0.5821 - val_recall_1: 0.9286 - val_f1_score: 0.6942 - 7s/epoch - 230ms/step\n",
      "Epoch 55/100\n",
      "29/29 - 6s - loss: 0.1197 - accuracy: 0.9659 - auc_1: 0.9910 - precision_1: 0.9460 - recall_1: 0.9852 - f1_score: 0.6488 - val_loss: 0.8845 - val_accuracy: 0.6835 - val_auc_1: 0.7671 - val_precision_1: 0.7297 - val_recall_1: 0.6429 - val_f1_score: 0.6942 - 6s/epoch - 221ms/step\n",
      "Epoch 56/100\n",
      "29/29 - 7s - loss: 0.1108 - accuracy: 0.9645 - auc_1: 0.9920 - precision_1: 0.9644 - recall_1: 0.9615 - f1_score: 0.6488 - val_loss: 1.0744 - val_accuracy: 0.6709 - val_auc_1: 0.7252 - val_precision_1: 0.6818 - val_recall_1: 0.7143 - val_f1_score: 0.6942 - 7s/epoch - 228ms/step\n",
      "Epoch 57/100\n",
      "29/29 - 7s - loss: 0.0831 - accuracy: 0.9744 - auc_1: 0.9968 - precision_1: 0.9790 - recall_1: 0.9675 - f1_score: 0.6488 - val_loss: 1.2032 - val_accuracy: 0.7089 - val_auc_1: 0.7227 - val_precision_1: 0.7714 - val_recall_1: 0.6429 - val_f1_score: 0.6942 - 7s/epoch - 236ms/step\n",
      "Epoch 58/100\n",
      "29/29 - 7s - loss: 0.0842 - accuracy: 0.9702 - auc_1: 0.9966 - precision_1: 0.9703 - recall_1: 0.9675 - f1_score: 0.6488 - val_loss: 1.1210 - val_accuracy: 0.6709 - val_auc_1: 0.7252 - val_precision_1: 0.6739 - val_recall_1: 0.7381 - val_f1_score: 0.6942 - 7s/epoch - 257ms/step\n",
      "Epoch 59/100\n",
      "29/29 - 7s - loss: 0.0614 - accuracy: 0.9844 - auc_1: 0.9987 - precision_1: 0.9767 - recall_1: 0.9911 - f1_score: 0.6488 - val_loss: 1.0138 - val_accuracy: 0.6835 - val_auc_1: 0.7426 - val_precision_1: 0.7576 - val_recall_1: 0.5952 - val_f1_score: 0.6942 - 7s/epoch - 233ms/step\n",
      "Epoch 60/100\n",
      "29/29 - 7s - loss: 0.0523 - accuracy: 0.9844 - auc_1: 0.9988 - precision_1: 0.9910 - recall_1: 0.9763 - f1_score: 0.6488 - val_loss: 1.9428 - val_accuracy: 0.5949 - val_auc_1: 0.6606 - val_precision_1: 0.5758 - val_recall_1: 0.9048 - val_f1_score: 0.6942 - 7s/epoch - 238ms/step\n",
      "Epoch 61/100\n",
      "29/29 - 7s - loss: 0.1268 - accuracy: 0.9489 - auc_1: 0.9897 - precision_1: 0.9364 - recall_1: 0.9586 - f1_score: 0.6488 - val_loss: 2.3751 - val_accuracy: 0.5949 - val_auc_1: 0.6612 - val_precision_1: 0.5714 - val_recall_1: 0.9524 - val_f1_score: 0.6942 - 7s/epoch - 231ms/step\n",
      "Epoch 62/100\n",
      "29/29 - 8s - loss: 0.1356 - accuracy: 0.9616 - auc_1: 0.9877 - precision_1: 0.9507 - recall_1: 0.9704 - f1_score: 0.6488 - val_loss: 2.1984 - val_accuracy: 0.6456 - val_auc_1: 0.6776 - val_precision_1: 0.7917 - val_recall_1: 0.4524 - val_f1_score: 0.6942 - 8s/epoch - 262ms/step\n",
      "Epoch 63/100\n",
      "29/29 - 8s - loss: 0.0728 - accuracy: 0.9801 - auc_1: 0.9969 - precision_1: 0.9880 - recall_1: 0.9704 - f1_score: 0.6488 - val_loss: 1.2686 - val_accuracy: 0.6203 - val_auc_1: 0.6834 - val_precision_1: 0.6579 - val_recall_1: 0.5952 - val_f1_score: 0.6942 - 8s/epoch - 263ms/step\n",
      "Epoch 64/100\n",
      "29/29 - 8s - loss: 0.0938 - accuracy: 0.9759 - auc_1: 0.9951 - precision_1: 0.9763 - recall_1: 0.9734 - f1_score: 0.6488 - val_loss: 1.5871 - val_accuracy: 0.6076 - val_auc_1: 0.6641 - val_precision_1: 0.5821 - val_recall_1: 0.9286 - val_f1_score: 0.6942 - 8s/epoch - 270ms/step\n"
     ]
    },
    {
     "data": {
      "image/png": "[encoded data removed]",
      "text/plain": [
       "<Figure size 432x288 with 1 Axes>"
      ]
     },
     "metadata": {
      "needs_background": "light"
     },
     "output_type": "display_data"
    },
    {
     "name": "stdout",
     "output_type": "stream",
     "text": [
      "Epoch 1/100\n",
      "29/29 - 11s - loss: 0.7948 - accuracy: 0.5966 - auc_2: 0.6157 - precision_2: 0.5934 - recall_2: 0.5308 - f1_score: 0.6526 - val_loss: 16.1070 - val_accuracy: 0.4937 - val_auc_2: 0.5000 - val_precision_2: 0.4937 - val_recall_2: 1.0000 - val_f1_score: 0.6610 - 11s/epoch - 377ms/step\n",
      "Epoch 2/100\n",
      "29/29 - 7s - loss: 0.6642 - accuracy: 0.6832 - auc_2: 0.7208 - precision_2: 0.6766 - recall_2: 0.6628 - f1_score: 0.6526 - val_loss: 6.5431 - val_accuracy: 0.4937 - val_auc_2: 0.5000 - val_precision_2: 0.4937 - val_recall_2: 1.0000 - val_f1_score: 0.6610 - 7s/epoch - 242ms/step\n",
      "Epoch 3/100\n",
      "29/29 - 6s - loss: 0.6429 - accuracy: 0.6832 - auc_2: 0.7350 - precision_2: 0.6766 - recall_2: 0.6628 - f1_score: 0.6526 - val_loss: 0.9450 - val_accuracy: 0.5063 - val_auc_2: 0.6724 - val_precision_2: 0.5000 - val_recall_2: 0.9231 - val_f1_score: 0.6610 - 6s/epoch - 218ms/step\n",
      "Epoch 4/100\n",
      "29/29 - 6s - loss: 0.5934 - accuracy: 0.7173 - auc_2: 0.7757 - precision_2: 0.7178 - recall_2: 0.6862 - f1_score: 0.6526 - val_loss: 2.5761 - val_accuracy: 0.4937 - val_auc_2: 0.6353 - val_precision_2: 0.4937 - val_recall_2: 1.0000 - val_f1_score: 0.6610 - 6s/epoch - 212ms/step\n",
      "Epoch 5/100\n",
      "29/29 - 6s - loss: 0.6293 - accuracy: 0.6605 - auc_2: 0.7498 - precision_2: 0.6483 - recall_2: 0.6540 - f1_score: 0.6526 - val_loss: 1.5130 - val_accuracy: 0.4810 - val_auc_2: 0.6667 - val_precision_2: 0.4868 - val_recall_2: 0.9487 - val_f1_score: 0.6610 - 6s/epoch - 210ms/step\n",
      "Epoch 6/100\n",
      "29/29 - 6s - loss: 0.5302 - accuracy: 0.7330 - auc_2: 0.8099 - precision_2: 0.7257 - recall_2: 0.7214 - f1_score: 0.6526 - val_loss: 1.1415 - val_accuracy: 0.5063 - val_auc_2: 0.6061 - val_precision_2: 0.5000 - val_recall_2: 0.1026 - val_f1_score: 0.6610 - 6s/epoch - 213ms/step\n",
      "Epoch 7/100\n",
      "29/29 - 6s - loss: 0.5282 - accuracy: 0.7514 - auc_2: 0.8216 - precision_2: 0.7578 - recall_2: 0.7155 - f1_score: 0.6526 - val_loss: 0.9030 - val_accuracy: 0.6076 - val_auc_2: 0.6577 - val_precision_2: 0.7222 - val_recall_2: 0.3333 - val_f1_score: 0.6610 - 6s/epoch - 216ms/step\n",
      "Epoch 8/100\n",
      "29/29 - 6s - loss: 0.5243 - accuracy: 0.7287 - auc_2: 0.8201 - precision_2: 0.7301 - recall_2: 0.6979 - f1_score: 0.6526 - val_loss: 0.7368 - val_accuracy: 0.6709 - val_auc_2: 0.7106 - val_precision_2: 0.6383 - val_recall_2: 0.7692 - val_f1_score: 0.6610 - 6s/epoch - 214ms/step\n",
      "Epoch 9/100\n",
      "29/29 - 6s - loss: 0.4275 - accuracy: 0.7983 - auc_2: 0.8835 - precision_2: 0.8043 - recall_2: 0.7713 - f1_score: 0.6526 - val_loss: 0.7304 - val_accuracy: 0.6835 - val_auc_2: 0.7115 - val_precision_2: 0.7333 - val_recall_2: 0.5641 - val_f1_score: 0.6610 - 6s/epoch - 224ms/step\n",
      "Epoch 10/100\n",
      "29/29 - 6s - loss: 0.4462 - accuracy: 0.7926 - auc_2: 0.8722 - precision_2: 0.7893 - recall_2: 0.7801 - f1_score: 0.6526 - val_loss: 0.7841 - val_accuracy: 0.5949 - val_auc_2: 0.7077 - val_precision_2: 0.7059 - val_recall_2: 0.3077 - val_f1_score: 0.6610 - 6s/epoch - 222ms/step\n",
      "Epoch 11/100\n",
      "29/29 - 7s - loss: 0.4136 - accuracy: 0.8139 - auc_2: 0.8918 - precision_2: 0.8088 - recall_2: 0.8065 - f1_score: 0.6526 - val_loss: 1.3396 - val_accuracy: 0.5063 - val_auc_2: 0.6853 - val_precision_2: 0.5000 - val_recall_2: 0.0513 - val_f1_score: 0.6610 - 7s/epoch - 227ms/step\n",
      "Epoch 12/100\n",
      "29/29 - 6s - loss: 0.4437 - accuracy: 0.7884 - auc_2: 0.8724 - precision_2: 0.7945 - recall_2: 0.7595 - f1_score: 0.6526 - val_loss: 1.2344 - val_accuracy: 0.4937 - val_auc_2: 0.7321 - val_precision_2: 0.4545 - val_recall_2: 0.1282 - val_f1_score: 0.6610 - 6s/epoch - 220ms/step\n",
      "Epoch 13/100\n",
      "29/29 - 8s - loss: 0.4124 - accuracy: 0.8182 - auc_2: 0.8915 - precision_2: 0.8339 - recall_2: 0.7801 - f1_score: 0.6526 - val_loss: 0.8355 - val_accuracy: 0.5823 - val_auc_2: 0.7462 - val_precision_2: 0.6500 - val_recall_2: 0.3333 - val_f1_score: 0.6610 - 8s/epoch - 266ms/step\n",
      "Epoch 14/100\n",
      "29/29 - 8s - loss: 0.3443 - accuracy: 0.8438 - auc_2: 0.9292 - precision_2: 0.8598 - recall_2: 0.8094 - f1_score: 0.6526 - val_loss: 1.7804 - val_accuracy: 0.4937 - val_auc_2: 0.6490 - val_precision_2: 0.4932 - val_recall_2: 0.9231 - val_f1_score: 0.6610 - 8s/epoch - 270ms/step\n",
      "Epoch 15/100\n",
      "29/29 - 6s - loss: 0.3671 - accuracy: 0.8338 - auc_2: 0.9172 - precision_2: 0.8294 - recall_2: 0.8270 - f1_score: 0.6526 - val_loss: 0.9727 - val_accuracy: 0.5570 - val_auc_2: 0.6311 - val_precision_2: 0.5370 - val_recall_2: 0.7436 - val_f1_score: 0.6610 - 6s/epoch - 214ms/step\n",
      "Epoch 16/100\n",
      "29/29 - 7s - loss: 0.3188 - accuracy: 0.8651 - auc_2: 0.9412 - precision_2: 0.8661 - recall_2: 0.8534 - f1_score: 0.6526 - val_loss: 1.3149 - val_accuracy: 0.5190 - val_auc_2: 0.6878 - val_precision_2: 0.5075 - val_recall_2: 0.8718 - val_f1_score: 0.6610 - 7s/epoch - 238ms/step\n",
      "Epoch 17/100\n",
      "29/29 - 7s - loss: 0.2974 - accuracy: 0.8707 - auc_2: 0.9487 - precision_2: 0.8531 - recall_2: 0.8856 - f1_score: 0.6526 - val_loss: 1.0157 - val_accuracy: 0.6076 - val_auc_2: 0.6644 - val_precision_2: 0.5690 - val_recall_2: 0.8462 - val_f1_score: 0.6610 - 7s/epoch - 229ms/step\n",
      "Epoch 18/100\n",
      "29/29 - 6s - loss: 0.2788 - accuracy: 0.8991 - auc_2: 0.9555 - precision_2: 0.9018 - recall_2: 0.8886 - f1_score: 0.6526 - val_loss: 1.1414 - val_accuracy: 0.6456 - val_auc_2: 0.6971 - val_precision_2: 0.5965 - val_recall_2: 0.8718 - val_f1_score: 0.6610 - 6s/epoch - 217ms/step\n",
      "Epoch 19/100\n",
      "29/29 - 6s - loss: 0.3192 - accuracy: 0.8651 - auc_2: 0.9390 - precision_2: 0.8576 - recall_2: 0.8651 - f1_score: 0.6526 - val_loss: 1.1438 - val_accuracy: 0.5570 - val_auc_2: 0.7519 - val_precision_2: 0.6429 - val_recall_2: 0.2308 - val_f1_score: 0.6610 - 6s/epoch - 216ms/step\n",
      "Epoch 20/100\n",
      "29/29 - 6s - loss: 0.2928 - accuracy: 0.8778 - auc_2: 0.9483 - precision_2: 0.8997 - recall_2: 0.8416 - f1_score: 0.6526 - val_loss: 0.8866 - val_accuracy: 0.6962 - val_auc_2: 0.7240 - val_precision_2: 0.6744 - val_recall_2: 0.7436 - val_f1_score: 0.6610 - 6s/epoch - 218ms/step\n",
      "Epoch 21/100\n",
      "29/29 - 6s - loss: 0.2667 - accuracy: 0.8821 - auc_2: 0.9592 - precision_2: 0.8750 - recall_2: 0.8827 - f1_score: 0.6526 - val_loss: 0.9073 - val_accuracy: 0.6456 - val_auc_2: 0.7391 - val_precision_2: 0.6897 - val_recall_2: 0.5128 - val_f1_score: 0.6610 - 6s/epoch - 218ms/step\n",
      "Epoch 22/100\n",
      "29/29 - 6s - loss: 0.2430 - accuracy: 0.9034 - auc_2: 0.9680 - precision_2: 0.9099 - recall_2: 0.8886 - f1_score: 0.6526 - val_loss: 0.8185 - val_accuracy: 0.6203 - val_auc_2: 0.7112 - val_precision_2: 0.6216 - val_recall_2: 0.5897 - val_f1_score: 0.6610 - 6s/epoch - 219ms/step\n",
      "Epoch 23/100\n",
      "29/29 - 6s - loss: 0.2196 - accuracy: 0.9148 - auc_2: 0.9752 - precision_2: 0.9145 - recall_2: 0.9091 - f1_score: 0.6526 - val_loss: 0.9477 - val_accuracy: 0.6709 - val_auc_2: 0.7224 - val_precision_2: 0.6182 - val_recall_2: 0.8718 - val_f1_score: 0.6610 - 6s/epoch - 221ms/step\n",
      "Epoch 24/100\n",
      "29/29 - 6s - loss: 0.2169 - accuracy: 0.9134 - auc_2: 0.9752 - precision_2: 0.9023 - recall_2: 0.9208 - f1_score: 0.6526 - val_loss: 0.9596 - val_accuracy: 0.6582 - val_auc_2: 0.7314 - val_precision_2: 0.6429 - val_recall_2: 0.6923 - val_f1_score: 0.6610 - 6s/epoch - 218ms/step\n",
      "Epoch 25/100\n",
      "29/29 - 6s - loss: 0.1808 - accuracy: 0.9261 - auc_2: 0.9853 - precision_2: 0.9366 - recall_2: 0.9091 - f1_score: 0.6526 - val_loss: 1.1608 - val_accuracy: 0.7089 - val_auc_2: 0.7596 - val_precision_2: 0.7667 - val_recall_2: 0.5897 - val_f1_score: 0.6610 - 6s/epoch - 218ms/step\n",
      "Epoch 26/100\n",
      "29/29 - 6s - loss: 0.2091 - accuracy: 0.9062 - auc_2: 0.9756 - precision_2: 0.9154 - recall_2: 0.8886 - f1_score: 0.6526 - val_loss: 0.8774 - val_accuracy: 0.6582 - val_auc_2: 0.7487 - val_precision_2: 0.7308 - val_recall_2: 0.4872 - val_f1_score: 0.6610 - 6s/epoch - 222ms/step\n",
      "Epoch 27/100\n",
      "29/29 - 7s - loss: 0.1971 - accuracy: 0.9318 - auc_2: 0.9796 - precision_2: 0.9322 - recall_2: 0.9267 - f1_score: 0.6526 - val_loss: 1.0012 - val_accuracy: 0.6582 - val_auc_2: 0.7522 - val_precision_2: 0.7143 - val_recall_2: 0.5128 - val_f1_score: 0.6610 - 7s/epoch - 232ms/step\n",
      "Epoch 28/100\n",
      "29/29 - 6s - loss: 0.2052 - accuracy: 0.9205 - auc_2: 0.9768 - precision_2: 0.9305 - recall_2: 0.9032 - f1_score: 0.6526 - val_loss: 0.8201 - val_accuracy: 0.6709 - val_auc_2: 0.7176 - val_precision_2: 0.6444 - val_recall_2: 0.7436 - val_f1_score: 0.6610 - 6s/epoch - 222ms/step\n",
      "Epoch 29/100\n",
      "29/29 - 7s - loss: 0.1885 - accuracy: 0.9247 - auc_2: 0.9815 - precision_2: 0.9235 - recall_2: 0.9208 - f1_score: 0.6526 - val_loss: 1.5335 - val_accuracy: 0.6076 - val_auc_2: 0.6897 - val_precision_2: 0.5690 - val_recall_2: 0.8462 - val_f1_score: 0.6610 - 7s/epoch - 234ms/step\n",
      "Epoch 30/100\n",
      "29/29 - 7s - loss: 0.1745 - accuracy: 0.9347 - auc_2: 0.9839 - precision_2: 0.9300 - recall_2: 0.9355 - f1_score: 0.6526 - val_loss: 1.0319 - val_accuracy: 0.6962 - val_auc_2: 0.7324 - val_precision_2: 0.6829 - val_recall_2: 0.7179 - val_f1_score: 0.6610 - 7s/epoch - 250ms/step\n",
      "Epoch 31/100\n",
      "29/29 - 7s - loss: 0.1653 - accuracy: 0.9474 - auc_2: 0.9865 - precision_2: 0.9578 - recall_2: 0.9326 - f1_score: 0.6526 - val_loss: 1.1968 - val_accuracy: 0.6962 - val_auc_2: 0.7381 - val_precision_2: 0.7273 - val_recall_2: 0.6154 - val_f1_score: 0.6610 - 7s/epoch - 227ms/step\n",
      "Epoch 32/100\n",
      "29/29 - 7s - loss: 0.1605 - accuracy: 0.9446 - auc_2: 0.9864 - precision_2: 0.9467 - recall_2: 0.9384 - f1_score: 0.6526 - val_loss: 1.0207 - val_accuracy: 0.6456 - val_auc_2: 0.7163 - val_precision_2: 0.6122 - val_recall_2: 0.7692 - val_f1_score: 0.6610 - 7s/epoch - 251ms/step\n",
      "Epoch 33/100\n",
      "29/29 - 8s - loss: 0.1397 - accuracy: 0.9489 - auc_2: 0.9921 - precision_2: 0.9420 - recall_2: 0.9531 - f1_score: 0.6526 - val_loss: 1.0822 - val_accuracy: 0.6076 - val_auc_2: 0.6804 - val_precision_2: 0.6667 - val_recall_2: 0.4103 - val_f1_score: 0.6610 - 8s/epoch - 270ms/step\n",
      "Epoch 34/100\n",
      "29/29 - 7s - loss: 0.1578 - accuracy: 0.9460 - auc_2: 0.9859 - precision_2: 0.9443 - recall_2: 0.9443 - f1_score: 0.6526 - val_loss: 1.0623 - val_accuracy: 0.6456 - val_auc_2: 0.7240 - val_precision_2: 0.6078 - val_recall_2: 0.7949 - val_f1_score: 0.6610 - 7s/epoch - 229ms/step\n",
      "Epoch 35/100\n",
      "29/29 - 7s - loss: 0.1328 - accuracy: 0.9616 - auc_2: 0.9940 - precision_2: 0.9564 - recall_2: 0.9648 - f1_score: 0.6526 - val_loss: 2.1375 - val_accuracy: 0.6203 - val_auc_2: 0.6744 - val_precision_2: 0.9091 - val_recall_2: 0.2564 - val_f1_score: 0.6610 - 7s/epoch - 234ms/step\n",
      "Epoch 36/100\n",
      "29/29 - 7s - loss: 0.1942 - accuracy: 0.9290 - auc_2: 0.9763 - precision_2: 0.9318 - recall_2: 0.9208 - f1_score: 0.6526 - val_loss: 1.1666 - val_accuracy: 0.6582 - val_auc_2: 0.7282 - val_precision_2: 0.6304 - val_recall_2: 0.7436 - val_f1_score: 0.6610 - 7s/epoch - 249ms/step\n",
      "Epoch 37/100\n",
      "29/29 - 7s - loss: 0.1203 - accuracy: 0.9616 - auc_2: 0.9934 - precision_2: 0.9618 - recall_2: 0.9589 - f1_score: 0.6526 - val_loss: 2.1843 - val_accuracy: 0.5443 - val_auc_2: 0.6619 - val_precision_2: 0.5217 - val_recall_2: 0.9231 - val_f1_score: 0.6610 - 7s/epoch - 234ms/step\n",
      "Epoch 38/100\n",
      "29/29 - 7s - loss: 0.2149 - accuracy: 0.9176 - auc_2: 0.9732 - precision_2: 0.9054 - recall_2: 0.9267 - f1_score: 0.6526 - val_loss: 1.7931 - val_accuracy: 0.5696 - val_auc_2: 0.6635 - val_precision_2: 0.5397 - val_recall_2: 0.8718 - val_f1_score: 0.6610 - 7s/epoch - 236ms/step\n",
      "Epoch 39/100\n",
      "29/29 - 7s - loss: 0.2133 - accuracy: 0.9304 - auc_2: 0.9723 - precision_2: 0.9148 - recall_2: 0.9443 - f1_score: 0.6526 - val_loss: 1.7718 - val_accuracy: 0.5316 - val_auc_2: 0.6792 - val_precision_2: 0.6000 - val_recall_2: 0.1538 - val_f1_score: 0.6610 - 7s/epoch - 245ms/step\n",
      "Epoch 40/100\n",
      "29/29 - 7s - loss: 0.1616 - accuracy: 0.9375 - auc_2: 0.9862 - precision_2: 0.9407 - recall_2: 0.9296 - f1_score: 0.6526 - val_loss: 1.1772 - val_accuracy: 0.6709 - val_auc_2: 0.6894 - val_precision_2: 0.6757 - val_recall_2: 0.6410 - val_f1_score: 0.6610 - 7s/epoch - 236ms/step\n",
      "Epoch 41/100\n",
      "29/29 - 7s - loss: 0.1306 - accuracy: 0.9716 - auc_2: 0.9905 - precision_2: 0.9679 - recall_2: 0.9736 - f1_score: 0.6526 - val_loss: 1.2815 - val_accuracy: 0.6582 - val_auc_2: 0.6984 - val_precision_2: 0.7727 - val_recall_2: 0.4359 - val_f1_score: 0.6610 - 7s/epoch - 239ms/step\n",
      "Epoch 42/100\n",
      "29/29 - 6s - loss: 0.1469 - accuracy: 0.9432 - auc_2: 0.9880 - precision_2: 0.9466 - recall_2: 0.9355 - f1_score: 0.6526 - val_loss: 1.0655 - val_accuracy: 0.7342 - val_auc_2: 0.7260 - val_precision_2: 0.7045 - val_recall_2: 0.7949 - val_f1_score: 0.6610 - 6s/epoch - 220ms/step\n",
      "Epoch 43/100\n",
      "29/29 - 6s - loss: 0.1021 - accuracy: 0.9645 - auc_2: 0.9956 - precision_2: 0.9675 - recall_2: 0.9589 - f1_score: 0.6526 - val_loss: 1.4517 - val_accuracy: 0.5949 - val_auc_2: 0.7045 - val_precision_2: 0.5636 - val_recall_2: 0.7949 - val_f1_score: 0.6610 - 6s/epoch - 217ms/step\n",
      "Epoch 44/100\n",
      "29/29 - 6s - loss: 0.1372 - accuracy: 0.9588 - auc_2: 0.9898 - precision_2: 0.9483 - recall_2: 0.9677 - f1_score: 0.6526 - val_loss: 1.1822 - val_accuracy: 0.6835 - val_auc_2: 0.7157 - val_precision_2: 0.8182 - val_recall_2: 0.4615 - val_f1_score: 0.6610 - 6s/epoch - 217ms/step\n",
      "Epoch 45/100\n",
      "29/29 - 6s - loss: 0.1376 - accuracy: 0.9489 - auc_2: 0.9897 - precision_2: 0.9580 - recall_2: 0.9355 - f1_score: 0.6526 - val_loss: 1.2396 - val_accuracy: 0.6329 - val_auc_2: 0.7064 - val_precision_2: 0.6190 - val_recall_2: 0.6667 - val_f1_score: 0.6610 - 6s/epoch - 216ms/step\n",
      "Epoch 46/100\n",
      "29/29 - 7s - loss: 0.0920 - accuracy: 0.9787 - auc_2: 0.9971 - precision_2: 0.9794 - recall_2: 0.9765 - f1_score: 0.6526 - val_loss: 1.2717 - val_accuracy: 0.6456 - val_auc_2: 0.7237 - val_precision_2: 0.6897 - val_recall_2: 0.5128 - val_f1_score: 0.6610 - 7s/epoch - 236ms/step\n",
      "Epoch 47/100\n",
      "29/29 - 7s - loss: 0.1052 - accuracy: 0.9645 - auc_2: 0.9951 - precision_2: 0.9702 - recall_2: 0.9560 - f1_score: 0.6526 - val_loss: 1.3702 - val_accuracy: 0.6582 - val_auc_2: 0.7189 - val_precision_2: 0.7500 - val_recall_2: 0.4615 - val_f1_score: 0.6610 - 7s/epoch - 238ms/step\n",
      "Epoch 48/100\n",
      "29/29 - 7s - loss: 0.0941 - accuracy: 0.9673 - auc_2: 0.9957 - precision_2: 0.9760 - recall_2: 0.9560 - f1_score: 0.6526 - val_loss: 1.1644 - val_accuracy: 0.6962 - val_auc_2: 0.7372 - val_precision_2: 0.6829 - val_recall_2: 0.7179 - val_f1_score: 0.6610 - 7s/epoch - 231ms/step\n",
      "Epoch 49/100\n",
      "29/29 - 6s - loss: 0.0787 - accuracy: 0.9773 - auc_2: 0.9973 - precision_2: 0.9738 - recall_2: 0.9795 - f1_score: 0.6526 - val_loss: 1.0640 - val_accuracy: 0.6835 - val_auc_2: 0.7378 - val_precision_2: 0.6842 - val_recall_2: 0.6667 - val_f1_score: 0.6610 - 6s/epoch - 222ms/step\n",
      "Epoch 50/100\n",
      "29/29 - 6s - loss: 0.0674 - accuracy: 0.9815 - auc_2: 0.9990 - precision_2: 0.9795 - recall_2: 0.9824 - f1_score: 0.6526 - val_loss: 1.2631 - val_accuracy: 0.6709 - val_auc_2: 0.7375 - val_precision_2: 0.6444 - val_recall_2: 0.7436 - val_f1_score: 0.6610 - 6s/epoch - 222ms/step\n",
      "Epoch 51/100\n",
      "29/29 - 7s - loss: 0.0644 - accuracy: 0.9844 - auc_2: 0.9987 - precision_2: 0.9825 - recall_2: 0.9853 - f1_score: 0.6526 - val_loss: 1.7347 - val_accuracy: 0.5696 - val_auc_2: 0.7058 - val_precision_2: 0.5385 - val_recall_2: 0.8974 - val_f1_score: 0.6610 - 7s/epoch - 226ms/step\n",
      "Epoch 52/100\n",
      "29/29 - 6s - loss: 0.1445 - accuracy: 0.9432 - auc_2: 0.9878 - precision_2: 0.9312 - recall_2: 0.9531 - f1_score: 0.6526 - val_loss: 1.5541 - val_accuracy: 0.6835 - val_auc_2: 0.7163 - val_precision_2: 0.6944 - val_recall_2: 0.6410 - val_f1_score: 0.6610 - 6s/epoch - 224ms/step\n",
      "Epoch 53/100\n",
      "29/29 - 6s - loss: 0.1201 - accuracy: 0.9503 - auc_2: 0.9908 - precision_2: 0.9527 - recall_2: 0.9443 - f1_score: 0.6526 - val_loss: 1.5298 - val_accuracy: 0.6582 - val_auc_2: 0.7099 - val_precision_2: 0.6364 - val_recall_2: 0.7179 - val_f1_score: 0.6610 - 6s/epoch - 220ms/step\n",
      "Epoch 54/100\n",
      "29/29 - 7s - loss: 0.1216 - accuracy: 0.9574 - auc_2: 0.9911 - precision_2: 0.9614 - recall_2: 0.9501 - f1_score: 0.6526 - val_loss: 2.8612 - val_accuracy: 0.5696 - val_auc_2: 0.5929 - val_precision_2: 0.5362 - val_recall_2: 0.9487 - val_f1_score: 0.6610 - 7s/epoch - 229ms/step\n",
      "Epoch 55/100\n",
      "29/29 - 7s - loss: 0.1368 - accuracy: 0.9545 - auc_2: 0.9888 - precision_2: 0.9427 - recall_2: 0.9648 - f1_score: 0.6526 - val_loss: 1.5492 - val_accuracy: 0.6329 - val_auc_2: 0.6894 - val_precision_2: 0.6250 - val_recall_2: 0.6410 - val_f1_score: 0.6610 - 7s/epoch - 232ms/step\n",
      "Epoch 56/100\n",
      "29/29 - 7s - loss: 0.0798 - accuracy: 0.9759 - auc_2: 0.9975 - precision_2: 0.9737 - recall_2: 0.9765 - f1_score: 0.6526 - val_loss: 1.9702 - val_accuracy: 0.5696 - val_auc_2: 0.6468 - val_precision_2: 0.5455 - val_recall_2: 0.7692 - val_f1_score: 0.6610 - 7s/epoch - 227ms/step\n",
      "Epoch 57/100\n",
      "29/29 - 6s - loss: 0.0747 - accuracy: 0.9815 - auc_2: 0.9975 - precision_2: 0.9824 - recall_2: 0.9795 - f1_score: 0.6526 - val_loss: 1.8484 - val_accuracy: 0.6203 - val_auc_2: 0.7010 - val_precision_2: 0.6452 - val_recall_2: 0.5128 - val_f1_score: 0.6610 - 6s/epoch - 223ms/step\n",
      "Epoch 58/100\n",
      "29/29 - 7s - loss: 0.0964 - accuracy: 0.9716 - auc_2: 0.9945 - precision_2: 0.9820 - recall_2: 0.9589 - f1_score: 0.6526 - val_loss: 1.5394 - val_accuracy: 0.6329 - val_auc_2: 0.7010 - val_precision_2: 0.6471 - val_recall_2: 0.5641 - val_f1_score: 0.6610 - 7s/epoch - 232ms/step\n",
      "Epoch 59/100\n",
      "29/29 - 6s - loss: 0.0864 - accuracy: 0.9688 - auc_2: 0.9960 - precision_2: 0.9705 - recall_2: 0.9648 - f1_score: 0.6526 - val_loss: 1.4965 - val_accuracy: 0.6456 - val_auc_2: 0.7093 - val_precision_2: 0.6571 - val_recall_2: 0.5897 - val_f1_score: 0.6610 - 6s/epoch - 215ms/step\n"
     ]
    },
    {
     "data": {
      "image/png": "[encoded data removed]",
      "text/plain": [
       "<Figure size 432x288 with 1 Axes>"
      ]
     },
     "metadata": {
      "needs_background": "light"
     },
     "output_type": "display_data"
    },
    {
     "name": "stdout",
     "output_type": "stream",
     "text": [
      "Epoch 1/100\n",
      "29/29 - 9s - loss: 0.7938 - accuracy: 0.5816 - auc_3: 0.6017 - precision_3: 0.5769 - recall_3: 0.5620 - f1_score: 0.6597 - val_loss: 12.2359 - val_accuracy: 0.4231 - val_auc_3: 0.5000 - val_precision_3: 0.4231 - val_recall_3: 1.0000 - val_f1_score: 0.5946 - 9s/epoch - 309ms/step\n",
      "Epoch 2/100\n",
      "29/29 - 7s - loss: 0.6526 - accuracy: 0.6567 - auc_3: 0.7224 - precision_3: 0.6513 - recall_3: 0.6513 - f1_score: 0.6597 - val_loss: 7.3725 - val_accuracy: 0.4231 - val_auc_3: 0.5000 - val_precision_3: 0.4231 - val_recall_3: 1.0000 - val_f1_score: 0.5946 - 7s/epoch - 228ms/step\n",
      "Epoch 3/100\n",
      "29/29 - 7s - loss: 0.6237 - accuracy: 0.6709 - auc_3: 0.7380 - precision_3: 0.6629 - recall_3: 0.6744 - f1_score: 0.6597 - val_loss: 2.5266 - val_accuracy: 0.4231 - val_auc_3: 0.7155 - val_precision_3: 0.4231 - val_recall_3: 1.0000 - val_f1_score: 0.5946 - 7s/epoch - 244ms/step\n",
      "Epoch 4/100\n",
      "29/29 - 7s - loss: 0.6152 - accuracy: 0.6695 - auc_3: 0.7437 - precision_3: 0.6667 - recall_3: 0.6571 - f1_score: 0.6597 - val_loss: 3.5131 - val_accuracy: 0.4231 - val_auc_3: 0.6414 - val_precision_3: 0.4231 - val_recall_3: 1.0000 - val_f1_score: 0.5946 - 7s/epoch - 236ms/step\n",
      "Epoch 5/100\n",
      "29/29 - 6s - loss: 0.5836 - accuracy: 0.7163 - auc_3: 0.7809 - precision_3: 0.7130 - recall_3: 0.7089 - f1_score: 0.6597 - val_loss: 0.6791 - val_accuracy: 0.6282 - val_auc_3: 0.7859 - val_precision_3: 0.5400 - val_recall_3: 0.8182 - val_f1_score: 0.5946 - 6s/epoch - 219ms/step\n",
      "Epoch 6/100\n",
      "29/29 - 8s - loss: 0.5180 - accuracy: 0.7348 - auc_3: 0.8221 - precision_3: 0.7326 - recall_3: 0.7262 - f1_score: 0.6597 - val_loss: 0.6155 - val_accuracy: 0.6538 - val_auc_3: 0.7532 - val_precision_3: 0.5789 - val_recall_3: 0.6667 - val_f1_score: 0.5946 - 8s/epoch - 267ms/step\n",
      "Epoch 7/100\n",
      "29/29 - 7s - loss: 0.5285 - accuracy: 0.7362 - auc_3: 0.8178 - precision_3: 0.7492 - recall_3: 0.6974 - f1_score: 0.6597 - val_loss: 1.5075 - val_accuracy: 0.5000 - val_auc_3: 0.7418 - val_precision_3: 0.4583 - val_recall_3: 1.0000 - val_f1_score: 0.5946 - 7s/epoch - 230ms/step\n",
      "Epoch 8/100\n",
      "29/29 - 7s - loss: 0.4598 - accuracy: 0.7730 - auc_3: 0.8622 - precision_3: 0.7679 - recall_3: 0.7723 - f1_score: 0.6597 - val_loss: 0.9208 - val_accuracy: 0.5513 - val_auc_3: 0.7650 - val_precision_3: 0.4821 - val_recall_3: 0.8182 - val_f1_score: 0.5946 - 7s/epoch - 234ms/step\n",
      "Epoch 9/100\n",
      "29/29 - 7s - loss: 0.4726 - accuracy: 0.7716 - auc_3: 0.8573 - precision_3: 0.7688 - recall_3: 0.7666 - f1_score: 0.6597 - val_loss: 0.9349 - val_accuracy: 0.5385 - val_auc_3: 0.7768 - val_precision_3: 0.4754 - val_recall_3: 0.8788 - val_f1_score: 0.5946 - 7s/epoch - 230ms/step\n",
      "Epoch 10/100\n",
      "29/29 - 7s - loss: 0.4435 - accuracy: 0.7872 - auc_3: 0.8720 - precision_3: 0.8012 - recall_3: 0.7550 - f1_score: 0.6597 - val_loss: 1.1065 - val_accuracy: 0.5385 - val_auc_3: 0.7582 - val_precision_3: 0.4776 - val_recall_3: 0.9697 - val_f1_score: 0.5946 - 7s/epoch - 226ms/step\n",
      "Epoch 11/100\n",
      "29/29 - 7s - loss: 0.4278 - accuracy: 0.7915 - auc_3: 0.8818 - precision_3: 0.7907 - recall_3: 0.7839 - f1_score: 0.6597 - val_loss: 1.3780 - val_accuracy: 0.4744 - val_auc_3: 0.7559 - val_precision_3: 0.4429 - val_recall_3: 0.9394 - val_f1_score: 0.5946 - 7s/epoch - 227ms/step\n",
      "Epoch 12/100\n",
      "29/29 - 7s - loss: 0.4177 - accuracy: 0.7957 - auc_3: 0.8894 - precision_3: 0.7959 - recall_3: 0.7867 - f1_score: 0.6597 - val_loss: 0.6600 - val_accuracy: 0.6923 - val_auc_3: 0.7209 - val_precision_3: 0.6667 - val_recall_3: 0.5455 - val_f1_score: 0.5946 - 7s/epoch - 227ms/step\n",
      "Epoch 13/100\n",
      "29/29 - 7s - loss: 0.3647 - accuracy: 0.8184 - auc_3: 0.9178 - precision_3: 0.8369 - recall_3: 0.7839 - f1_score: 0.6597 - val_loss: 0.6801 - val_accuracy: 0.6026 - val_auc_3: 0.7785 - val_precision_3: 0.5208 - val_recall_3: 0.7576 - val_f1_score: 0.5946 - 7s/epoch - 234ms/step\n",
      "Epoch 14/100\n",
      "29/29 - 7s - loss: 0.3511 - accuracy: 0.8355 - auc_3: 0.9233 - precision_3: 0.8291 - recall_3: 0.8386 - f1_score: 0.6597 - val_loss: 0.5389 - val_accuracy: 0.7821 - val_auc_3: 0.8313 - val_precision_3: 0.7105 - val_recall_3: 0.8182 - val_f1_score: 0.5946 - 7s/epoch - 226ms/step\n",
      "Epoch 15/100\n",
      "29/29 - 7s - loss: 0.3074 - accuracy: 0.8709 - auc_3: 0.9445 - precision_3: 0.8787 - recall_3: 0.8559 - f1_score: 0.6597 - val_loss: 0.6635 - val_accuracy: 0.6538 - val_auc_3: 0.8152 - val_precision_3: 0.5652 - val_recall_3: 0.7879 - val_f1_score: 0.5946 - 7s/epoch - 239ms/step\n",
      "Epoch 16/100\n",
      "29/29 - 7s - loss: 0.3326 - accuracy: 0.8596 - auc_3: 0.9317 - precision_3: 0.8543 - recall_3: 0.8617 - f1_score: 0.6597 - val_loss: 0.5633 - val_accuracy: 0.7821 - val_auc_3: 0.8431 - val_precision_3: 0.8636 - val_recall_3: 0.5758 - val_f1_score: 0.5946 - 7s/epoch - 249ms/step\n",
      "Epoch 17/100\n",
      "29/29 - 7s - loss: 0.2698 - accuracy: 0.8908 - auc_3: 0.9600 - precision_3: 0.9066 - recall_3: 0.8674 - f1_score: 0.6597 - val_loss: 0.5813 - val_accuracy: 0.7436 - val_auc_3: 0.8189 - val_precision_3: 0.7407 - val_recall_3: 0.6061 - val_f1_score: 0.5946 - 7s/epoch - 252ms/step\n",
      "Epoch 18/100\n",
      "29/29 - 7s - loss: 0.2870 - accuracy: 0.8766 - auc_3: 0.9513 - precision_3: 0.8801 - recall_3: 0.8674 - f1_score: 0.6597 - val_loss: 0.6942 - val_accuracy: 0.6667 - val_auc_3: 0.8175 - val_precision_3: 0.5714 - val_recall_3: 0.8485 - val_f1_score: 0.5946 - 7s/epoch - 224ms/step\n",
      "Epoch 19/100\n",
      "29/29 - 7s - loss: 0.2424 - accuracy: 0.8993 - auc_3: 0.9676 - precision_3: 0.9035 - recall_3: 0.8905 - f1_score: 0.6597 - val_loss: 0.6736 - val_accuracy: 0.7692 - val_auc_3: 0.8040 - val_precision_3: 0.9412 - val_recall_3: 0.4848 - val_f1_score: 0.5946 - 7s/epoch - 233ms/step\n",
      "Epoch 20/100\n",
      "29/29 - 7s - loss: 0.2792 - accuracy: 0.8851 - auc_3: 0.9543 - precision_3: 0.9030 - recall_3: 0.8588 - f1_score: 0.6597 - val_loss: 2.1603 - val_accuracy: 0.5000 - val_auc_3: 0.6552 - val_precision_3: 0.4559 - val_recall_3: 0.9394 - val_f1_score: 0.5946 - 7s/epoch - 239ms/step\n",
      "Epoch 21/100\n",
      "29/29 - 7s - loss: 0.3325 - accuracy: 0.8624 - auc_3: 0.9336 - precision_3: 0.8551 - recall_3: 0.8674 - f1_score: 0.6597 - val_loss: 0.7269 - val_accuracy: 0.7564 - val_auc_3: 0.7667 - val_precision_3: 0.7333 - val_recall_3: 0.6667 - val_f1_score: 0.5946 - 7s/epoch - 238ms/step\n",
      "Epoch 22/100\n",
      "29/29 - 6s - loss: 0.2515 - accuracy: 0.8865 - auc_3: 0.9636 - precision_3: 0.8870 - recall_3: 0.8818 - f1_score: 0.6597 - val_loss: 1.4216 - val_accuracy: 0.5513 - val_auc_3: 0.7768 - val_precision_3: 0.4848 - val_recall_3: 0.9697 - val_f1_score: 0.5946 - 6s/epoch - 223ms/step\n",
      "Epoch 23/100\n",
      "29/29 - 7s - loss: 0.2939 - accuracy: 0.8837 - auc_3: 0.9472 - precision_3: 0.8732 - recall_3: 0.8934 - f1_score: 0.6597 - val_loss: 1.1360 - val_accuracy: 0.6667 - val_auc_3: 0.6774 - val_precision_3: 0.6842 - val_recall_3: 0.3939 - val_f1_score: 0.5946 - 7s/epoch - 232ms/step\n",
      "Epoch 24/100\n",
      "29/29 - 7s - loss: 0.2552 - accuracy: 0.8950 - auc_3: 0.9650 - precision_3: 0.9027 - recall_3: 0.8818 - f1_score: 0.6597 - val_loss: 0.8479 - val_accuracy: 0.6538 - val_auc_3: 0.7650 - val_precision_3: 0.5750 - val_recall_3: 0.6970 - val_f1_score: 0.5946 - 7s/epoch - 258ms/step\n",
      "Epoch 25/100\n",
      "29/29 - 7s - loss: 0.2552 - accuracy: 0.8879 - auc_3: 0.9621 - precision_3: 0.8964 - recall_3: 0.8732 - f1_score: 0.6597 - val_loss: 1.6315 - val_accuracy: 0.5000 - val_auc_3: 0.6310 - val_precision_3: 0.4516 - val_recall_3: 0.8485 - val_f1_score: 0.5946 - 7s/epoch - 233ms/step\n",
      "Epoch 26/100\n",
      "29/29 - 7s - loss: 0.2677 - accuracy: 0.8809 - auc_3: 0.9576 - precision_3: 0.8704 - recall_3: 0.8905 - f1_score: 0.6597 - val_loss: 0.8809 - val_accuracy: 0.6282 - val_auc_3: 0.8101 - val_precision_3: 0.5370 - val_recall_3: 0.8788 - val_f1_score: 0.5946 - 7s/epoch - 227ms/step\n",
      "Epoch 27/100\n",
      "29/29 - 7s - loss: 0.2335 - accuracy: 0.9021 - auc_3: 0.9688 - precision_3: 0.8994 - recall_3: 0.9020 - f1_score: 0.6597 - val_loss: 1.7230 - val_accuracy: 0.5000 - val_auc_3: 0.7088 - val_precision_3: 0.4559 - val_recall_3: 0.9394 - val_f1_score: 0.5946 - 7s/epoch - 243ms/step\n",
      "Epoch 28/100\n",
      "29/29 - 7s - loss: 0.2306 - accuracy: 0.9135 - auc_3: 0.9699 - precision_3: 0.9062 - recall_3: 0.9193 - f1_score: 0.6597 - val_loss: 0.7699 - val_accuracy: 0.6923 - val_auc_3: 0.7761 - val_precision_3: 0.6154 - val_recall_3: 0.7273 - val_f1_score: 0.5946 - 7s/epoch - 239ms/step\n",
      "Epoch 29/100\n",
      "29/29 - 7s - loss: 0.1737 - accuracy: 0.9319 - auc_3: 0.9870 - precision_3: 0.9410 - recall_3: 0.9193 - f1_score: 0.6597 - val_loss: 1.1886 - val_accuracy: 0.5769 - val_auc_3: 0.8306 - val_precision_3: 0.5000 - val_recall_3: 0.9091 - val_f1_score: 0.5946 - 7s/epoch - 229ms/step\n",
      "Epoch 30/100\n",
      "29/29 - 7s - loss: 0.1994 - accuracy: 0.9191 - auc_3: 0.9785 - precision_3: 0.9073 - recall_3: 0.9308 - f1_score: 0.6597 - val_loss: 0.9305 - val_accuracy: 0.6410 - val_auc_3: 0.7710 - val_precision_3: 0.5556 - val_recall_3: 0.7576 - val_f1_score: 0.5946 - 7s/epoch - 229ms/step\n",
      "Epoch 31/100\n",
      "29/29 - 6s - loss: 0.2052 - accuracy: 0.9149 - auc_3: 0.9756 - precision_3: 0.9065 - recall_3: 0.9222 - f1_score: 0.6597 - val_loss: 0.7934 - val_accuracy: 0.7051 - val_auc_3: 0.7747 - val_precision_3: 0.6667 - val_recall_3: 0.6061 - val_f1_score: 0.5946 - 6s/epoch - 221ms/step\n",
      "Epoch 32/100\n",
      "29/29 - 7s - loss: 0.1832 - accuracy: 0.9291 - auc_3: 0.9823 - precision_3: 0.9329 - recall_3: 0.9222 - f1_score: 0.6597 - val_loss: 0.6072 - val_accuracy: 0.7821 - val_auc_3: 0.8582 - val_precision_3: 0.7353 - val_recall_3: 0.7576 - val_f1_score: 0.5946 - 7s/epoch - 238ms/step\n",
      "Epoch 33/100\n",
      "29/29 - 8s - loss: 0.1606 - accuracy: 0.9433 - auc_3: 0.9873 - precision_3: 0.9449 - recall_3: 0.9395 - f1_score: 0.6597 - val_loss: 0.7956 - val_accuracy: 0.6795 - val_auc_3: 0.8165 - val_precision_3: 0.5909 - val_recall_3: 0.7879 - val_f1_score: 0.5946 - 8s/epoch - 280ms/step\n",
      "Epoch 34/100\n",
      "29/29 - 8s - loss: 0.1538 - accuracy: 0.9560 - auc_3: 0.9886 - precision_3: 0.9463 - recall_3: 0.9654 - f1_score: 0.6597 - val_loss: 0.6036 - val_accuracy: 0.7692 - val_auc_3: 0.8394 - val_precision_3: 0.7027 - val_recall_3: 0.7879 - val_f1_score: 0.5946 - 8s/epoch - 289ms/step\n",
      "Epoch 35/100\n",
      "29/29 - 7s - loss: 0.1694 - accuracy: 0.9319 - auc_3: 0.9841 - precision_3: 0.9333 - recall_3: 0.9280 - f1_score: 0.6597 - val_loss: 0.5885 - val_accuracy: 0.7179 - val_auc_3: 0.8542 - val_precision_3: 0.6341 - val_recall_3: 0.7879 - val_f1_score: 0.5946 - 7s/epoch - 236ms/step\n",
      "Epoch 36/100\n",
      "29/29 - 7s - loss: 0.1390 - accuracy: 0.9574 - auc_3: 0.9889 - precision_3: 0.9568 - recall_3: 0.9568 - f1_score: 0.6597 - val_loss: 0.8165 - val_accuracy: 0.7436 - val_auc_3: 0.8040 - val_precision_3: 0.8824 - val_recall_3: 0.4545 - val_f1_score: 0.5946 - 7s/epoch - 235ms/step\n",
      "Epoch 37/100\n",
      "29/29 - 7s - loss: 0.1459 - accuracy: 0.9489 - auc_3: 0.9895 - precision_3: 0.9642 - recall_3: 0.9308 - f1_score: 0.6597 - val_loss: 0.9232 - val_accuracy: 0.6410 - val_auc_3: 0.7613 - val_precision_3: 0.5581 - val_recall_3: 0.7273 - val_f1_score: 0.5946 - 7s/epoch - 249ms/step\n",
      "Epoch 38/100\n",
      "29/29 - 8s - loss: 0.1358 - accuracy: 0.9532 - auc_3: 0.9911 - precision_3: 0.9511 - recall_3: 0.9539 - f1_score: 0.6597 - val_loss: 0.7428 - val_accuracy: 0.7436 - val_auc_3: 0.8256 - val_precision_3: 0.7241 - val_recall_3: 0.6364 - val_f1_score: 0.5946 - 8s/epoch - 266ms/step\n",
      "Epoch 39/100\n",
      "29/29 - 8s - loss: 0.1274 - accuracy: 0.9546 - auc_3: 0.9929 - precision_3: 0.9462 - recall_3: 0.9625 - f1_score: 0.6597 - val_loss: 1.1157 - val_accuracy: 0.7308 - val_auc_3: 0.8111 - val_precision_3: 1.0000 - val_recall_3: 0.3636 - val_f1_score: 0.5946 - 8s/epoch - 283ms/step\n",
      "Epoch 40/100\n",
      "29/29 - 7s - loss: 0.1703 - accuracy: 0.9418 - auc_3: 0.9826 - precision_3: 0.9554 - recall_3: 0.9251 - f1_score: 0.6597 - val_loss: 0.9904 - val_accuracy: 0.6667 - val_auc_3: 0.8374 - val_precision_3: 0.5686 - val_recall_3: 0.8788 - val_f1_score: 0.5946 - 7s/epoch - 237ms/step\n",
      "Epoch 41/100\n",
      "29/29 - 7s - loss: 0.1272 - accuracy: 0.9518 - auc_3: 0.9921 - precision_3: 0.9459 - recall_3: 0.9568 - f1_score: 0.6597 - val_loss: 0.6749 - val_accuracy: 0.7821 - val_auc_3: 0.8582 - val_precision_3: 0.7353 - val_recall_3: 0.7576 - val_f1_score: 0.5946 - 7s/epoch - 233ms/step\n",
      "Epoch 42/100\n",
      "29/29 - 7s - loss: 0.1551 - accuracy: 0.9376 - auc_3: 0.9868 - precision_3: 0.9443 - recall_3: 0.9280 - f1_score: 0.6597 - val_loss: 1.1407 - val_accuracy: 0.6154 - val_auc_3: 0.8212 - val_precision_3: 0.5273 - val_recall_3: 0.8788 - val_f1_score: 0.5946 - 7s/epoch - 243ms/step\n",
      "Epoch 43/100\n",
      "29/29 - 7s - loss: 0.1139 - accuracy: 0.9603 - auc_3: 0.9954 - precision_3: 0.9544 - recall_3: 0.9654 - f1_score: 0.6597 - val_loss: 0.8674 - val_accuracy: 0.7308 - val_auc_3: 0.8229 - val_precision_3: 0.6500 - val_recall_3: 0.7879 - val_f1_score: 0.5946 - 7s/epoch - 237ms/step\n",
      "Epoch 44/100\n",
      "29/29 - 7s - loss: 0.1009 - accuracy: 0.9674 - auc_3: 0.9960 - precision_3: 0.9765 - recall_3: 0.9568 - f1_score: 0.6597 - val_loss: 1.0539 - val_accuracy: 0.6667 - val_auc_3: 0.8051 - val_precision_3: 0.5745 - val_recall_3: 0.8182 - val_f1_score: 0.5946 - 7s/epoch - 228ms/step\n",
      "Epoch 45/100\n",
      "29/29 - 7s - loss: 0.1048 - accuracy: 0.9631 - auc_3: 0.9951 - precision_3: 0.9652 - recall_3: 0.9597 - f1_score: 0.6597 - val_loss: 1.8447 - val_accuracy: 0.6410 - val_auc_3: 0.6960 - val_precision_3: 1.0000 - val_recall_3: 0.1515 - val_f1_score: 0.5946 - 7s/epoch - 232ms/step\n",
      "Epoch 46/100\n",
      "29/29 - 7s - loss: 0.1316 - accuracy: 0.9546 - auc_3: 0.9895 - precision_3: 0.9646 - recall_3: 0.9424 - f1_score: 0.6597 - val_loss: 1.1592 - val_accuracy: 0.7692 - val_auc_3: 0.8024 - val_precision_3: 0.8947 - val_recall_3: 0.5152 - val_f1_score: 0.5946 - 7s/epoch - 235ms/step\n",
      "Epoch 47/100\n",
      "29/29 - 7s - loss: 0.1670 - accuracy: 0.9376 - auc_3: 0.9833 - precision_3: 0.9496 - recall_3: 0.9222 - f1_score: 0.6597 - val_loss: 0.8064 - val_accuracy: 0.7308 - val_auc_3: 0.8145 - val_precision_3: 0.6579 - val_recall_3: 0.7576 - val_f1_score: 0.5946 - 7s/epoch - 236ms/step\n",
      "Epoch 48/100\n",
      "29/29 - 7s - loss: 0.1039 - accuracy: 0.9603 - auc_3: 0.9951 - precision_3: 0.9570 - recall_3: 0.9625 - f1_score: 0.6597 - val_loss: 0.7872 - val_accuracy: 0.8205 - val_auc_3: 0.8320 - val_precision_3: 0.8519 - val_recall_3: 0.6970 - val_f1_score: 0.5946 - 7s/epoch - 228ms/step\n",
      "Epoch 49/100\n",
      "29/29 - 7s - loss: 0.1091 - accuracy: 0.9603 - auc_3: 0.9938 - precision_3: 0.9705 - recall_3: 0.9481 - f1_score: 0.6597 - val_loss: 0.8189 - val_accuracy: 0.7821 - val_auc_3: 0.8226 - val_precision_3: 0.7353 - val_recall_3: 0.7576 - val_f1_score: 0.5946 - 7s/epoch - 247ms/step\n",
      "Epoch 50/100\n",
      "29/29 - 7s - loss: 0.0821 - accuracy: 0.9844 - auc_3: 0.9970 - precision_3: 0.9855 - recall_3: 0.9827 - f1_score: 0.6597 - val_loss: 1.8820 - val_accuracy: 0.5513 - val_auc_3: 0.7468 - val_precision_3: 0.4833 - val_recall_3: 0.8788 - val_f1_score: 0.5946 - 7s/epoch - 238ms/step\n",
      "Epoch 51/100\n",
      "29/29 - 6s - loss: 0.1438 - accuracy: 0.9546 - auc_3: 0.9879 - precision_3: 0.9412 - recall_3: 0.9683 - f1_score: 0.6597 - val_loss: 0.8943 - val_accuracy: 0.8205 - val_auc_3: 0.8337 - val_precision_3: 0.9524 - val_recall_3: 0.6061 - val_f1_score: 0.5946 - 6s/epoch - 215ms/step\n",
      "Epoch 52/100\n",
      "29/29 - 6s - loss: 0.1260 - accuracy: 0.9489 - auc_3: 0.9911 - precision_3: 0.9534 - recall_3: 0.9424 - f1_score: 0.6597 - val_loss: 0.8366 - val_accuracy: 0.7436 - val_auc_3: 0.8182 - val_precision_3: 0.6857 - val_recall_3: 0.7273 - val_f1_score: 0.5946 - 6s/epoch - 221ms/step\n",
      "Epoch 53/100\n",
      "29/29 - 7s - loss: 0.0784 - accuracy: 0.9773 - auc_3: 0.9980 - precision_3: 0.9853 - recall_3: 0.9683 - f1_score: 0.6597 - val_loss: 0.9380 - val_accuracy: 0.6538 - val_auc_3: 0.8343 - val_precision_3: 0.5625 - val_recall_3: 0.8182 - val_f1_score: 0.5946 - 7s/epoch - 232ms/step\n",
      "Epoch 54/100\n",
      "29/29 - 7s - loss: 0.0735 - accuracy: 0.9773 - auc_3: 0.9985 - precision_3: 0.9715 - recall_3: 0.9827 - f1_score: 0.6597 - val_loss: 0.8183 - val_accuracy: 0.7436 - val_auc_3: 0.8455 - val_precision_3: 0.6585 - val_recall_3: 0.8182 - val_f1_score: 0.5946 - 7s/epoch - 231ms/step\n",
      "Epoch 55/100\n",
      "29/29 - 7s - loss: 0.0868 - accuracy: 0.9730 - auc_3: 0.9965 - precision_3: 0.9824 - recall_3: 0.9625 - f1_score: 0.6597 - val_loss: 0.9755 - val_accuracy: 0.6923 - val_auc_3: 0.8057 - val_precision_3: 0.6000 - val_recall_3: 0.8182 - val_f1_score: 0.5946 - 7s/epoch - 224ms/step\n",
      "Epoch 56/100\n",
      "29/29 - 7s - loss: 0.0879 - accuracy: 0.9745 - auc_3: 0.9950 - precision_3: 0.9741 - recall_3: 0.9741 - f1_score: 0.6597 - val_loss: 2.1356 - val_accuracy: 0.5385 - val_auc_3: 0.7576 - val_precision_3: 0.4769 - val_recall_3: 0.9394 - val_f1_score: 0.5946 - 7s/epoch - 248ms/step\n",
      "Epoch 57/100\n",
      "29/29 - 7s - loss: 0.1201 - accuracy: 0.9560 - auc_3: 0.9909 - precision_3: 0.9463 - recall_3: 0.9654 - f1_score: 0.6597 - val_loss: 0.7079 - val_accuracy: 0.7436 - val_auc_3: 0.8215 - val_precision_3: 0.6757 - val_recall_3: 0.7576 - val_f1_score: 0.5946 - 7s/epoch - 252ms/step\n",
      "Epoch 58/100\n",
      "29/29 - 7s - loss: 0.0844 - accuracy: 0.9730 - auc_3: 0.9960 - precision_3: 0.9795 - recall_3: 0.9654 - f1_score: 0.6597 - val_loss: 0.7872 - val_accuracy: 0.7821 - val_auc_3: 0.8313 - val_precision_3: 0.8333 - val_recall_3: 0.6061 - val_f1_score: 0.5946 - 7s/epoch - 234ms/step\n",
      "Epoch 59/100\n",
      "29/29 - 7s - loss: 0.0837 - accuracy: 0.9702 - auc_3: 0.9966 - precision_3: 0.9738 - recall_3: 0.9654 - f1_score: 0.6597 - val_loss: 1.0063 - val_accuracy: 0.6795 - val_auc_3: 0.7778 - val_precision_3: 0.5952 - val_recall_3: 0.7576 - val_f1_score: 0.5946 - 7s/epoch - 234ms/step\n",
      "Epoch 60/100\n",
      "29/29 - 6s - loss: 0.1263 - accuracy: 0.9433 - auc_3: 0.9910 - precision_3: 0.9373 - recall_3: 0.9481 - f1_score: 0.6597 - val_loss: 0.6231 - val_accuracy: 0.7821 - val_auc_3: 0.8609 - val_precision_3: 0.7222 - val_recall_3: 0.7879 - val_f1_score: 0.5946 - 6s/epoch - 211ms/step\n",
      "Epoch 61/100\n",
      "29/29 - 6s - loss: 0.0671 - accuracy: 0.9844 - auc_3: 0.9980 - precision_3: 0.9884 - recall_3: 0.9798 - f1_score: 0.6597 - val_loss: 1.1710 - val_accuracy: 0.6282 - val_auc_3: 0.8370 - val_precision_3: 0.5370 - val_recall_3: 0.8788 - val_f1_score: 0.5946 - 6s/epoch - 212ms/step\n",
      "Epoch 62/100\n",
      "29/29 - 6s - loss: 0.1072 - accuracy: 0.9574 - auc_3: 0.9933 - precision_3: 0.9516 - recall_3: 0.9625 - f1_score: 0.6597 - val_loss: 0.8124 - val_accuracy: 0.6923 - val_auc_3: 0.8047 - val_precision_3: 0.6286 - val_recall_3: 0.6667 - val_f1_score: 0.5946 - 6s/epoch - 211ms/step\n",
      "Epoch 63/100\n",
      "29/29 - 6s - loss: 0.0792 - accuracy: 0.9688 - auc_3: 0.9967 - precision_3: 0.9656 - recall_3: 0.9712 - f1_score: 0.6597 - val_loss: 0.8657 - val_accuracy: 0.7436 - val_auc_3: 0.8000 - val_precision_3: 0.7097 - val_recall_3: 0.6667 - val_f1_score: 0.5946 - 6s/epoch - 211ms/step\n",
      "Epoch 64/100\n",
      "29/29 - 7s - loss: 0.0679 - accuracy: 0.9844 - auc_3: 0.9977 - precision_3: 0.9855 - recall_3: 0.9827 - f1_score: 0.6597 - val_loss: 0.8868 - val_accuracy: 0.7051 - val_auc_3: 0.8192 - val_precision_3: 0.6667 - val_recall_3: 0.6061 - val_f1_score: 0.5946 - 7s/epoch - 253ms/step\n"
     ]
    },
    {
     "data": {
      "image/png": "[encoded data removed]",
      "text/plain": [
       "<Figure size 432x288 with 1 Axes>"
      ]
     },
     "metadata": {
      "needs_background": "light"
     },
     "output_type": "display_data"
    },
    {
     "name": "stdout",
     "output_type": "stream",
     "text": [
      "Epoch 1/100\n",
      "29/29 - 10s - loss: 0.7830 - accuracy: 0.5816 - auc_4: 0.6087 - precision_4: 0.5665 - recall_4: 0.5312 - f1_score: 0.6468 - val_loss: 7.6183 - val_accuracy: 0.5513 - val_auc_4: 0.5000 - val_precision_4: 0.5513 - val_recall_4: 1.0000 - val_f1_score: 0.7107 - 10s/epoch - 352ms/step\n",
      "Epoch 2/100\n",
      "29/29 - 7s - loss: 0.7264 - accuracy: 0.6255 - auc_4: 0.6730 - precision_4: 0.6130 - recall_4: 0.5875 - f1_score: 0.6468 - val_loss: 5.0758 - val_accuracy: 0.5513 - val_auc_4: 0.5000 - val_precision_4: 0.5513 - val_recall_4: 1.0000 - val_f1_score: 0.7107 - 7s/epoch - 255ms/step\n",
      "Epoch 3/100\n",
      "29/29 - 7s - loss: 0.6613 - accuracy: 0.6511 - auc_4: 0.7218 - precision_4: 0.6350 - recall_4: 0.6350 - f1_score: 0.6468 - val_loss: 3.8238 - val_accuracy: 0.5513 - val_auc_4: 0.5056 - val_precision_4: 0.5513 - val_recall_4: 1.0000 - val_f1_score: 0.7107 - 7s/epoch - 255ms/step\n",
      "Epoch 4/100\n",
      "29/29 - 7s - loss: 0.6208 - accuracy: 0.6709 - auc_4: 0.7455 - precision_4: 0.6558 - recall_4: 0.6558 - f1_score: 0.6468 - val_loss: 1.6751 - val_accuracy: 0.5513 - val_auc_4: 0.6884 - val_precision_4: 0.5526 - val_recall_4: 0.9767 - val_f1_score: 0.7107 - 7s/epoch - 245ms/step\n",
      "Epoch 5/100\n",
      "29/29 - 7s - loss: 0.5448 - accuracy: 0.7376 - auc_4: 0.8023 - precision_4: 0.7331 - recall_4: 0.7092 - f1_score: 0.6468 - val_loss: 0.8227 - val_accuracy: 0.6538 - val_auc_4: 0.7346 - val_precision_4: 0.6212 - val_recall_4: 0.9535 - val_f1_score: 0.7107 - 7s/epoch - 230ms/step\n",
      "Epoch 6/100\n",
      "29/29 - 7s - loss: 0.4913 - accuracy: 0.7660 - auc_4: 0.8421 - precision_4: 0.7544 - recall_4: 0.7567 - f1_score: 0.6468 - val_loss: 0.7701 - val_accuracy: 0.6410 - val_auc_4: 0.7090 - val_precision_4: 0.6364 - val_recall_4: 0.8140 - val_f1_score: 0.7107 - 7s/epoch - 242ms/step\n",
      "Epoch 7/100\n",
      "29/29 - 7s - loss: 0.4711 - accuracy: 0.7816 - auc_4: 0.8584 - precision_4: 0.7699 - recall_4: 0.7745 - f1_score: 0.6468 - val_loss: 2.7859 - val_accuracy: 0.4487 - val_auc_4: 0.5183 - val_precision_4: 0.0000e+00 - val_recall_4: 0.0000e+00 - val_f1_score: 0.7107 - 7s/epoch - 233ms/step\n",
      "Epoch 8/100\n",
      "29/29 - 7s - loss: 0.5059 - accuracy: 0.7518 - auc_4: 0.8371 - precision_4: 0.7580 - recall_4: 0.7062 - f1_score: 0.6468 - val_loss: 1.4064 - val_accuracy: 0.5897 - val_auc_4: 0.6578 - val_precision_4: 0.5775 - val_recall_4: 0.9535 - val_f1_score: 0.7107 - 7s/epoch - 253ms/step\n",
      "Epoch 9/100\n",
      "29/29 - 7s - loss: 0.4867 - accuracy: 0.7674 - auc_4: 0.8481 - precision_4: 0.7537 - recall_4: 0.7626 - f1_score: 0.6468 - val_loss: 0.6230 - val_accuracy: 0.6795 - val_auc_4: 0.7558 - val_precision_4: 0.7045 - val_recall_4: 0.7209 - val_f1_score: 0.7107 - 7s/epoch - 246ms/step\n",
      "Epoch 10/100\n",
      "29/29 - 7s - loss: 0.4007 - accuracy: 0.8142 - auc_4: 0.9001 - precision_4: 0.8259 - recall_4: 0.7745 - f1_score: 0.6468 - val_loss: 1.1893 - val_accuracy: 0.5000 - val_auc_4: 0.6498 - val_precision_4: 0.7500 - val_recall_4: 0.1395 - val_f1_score: 0.7107 - 7s/epoch - 246ms/step\n",
      "Epoch 11/100\n",
      "29/29 - 6s - loss: 0.4502 - accuracy: 0.7929 - auc_4: 0.8698 - precision_4: 0.7957 - recall_4: 0.7626 - f1_score: 0.6468 - val_loss: 0.9509 - val_accuracy: 0.6026 - val_auc_4: 0.7455 - val_precision_4: 0.5833 - val_recall_4: 0.9767 - val_f1_score: 0.7107 - 6s/epoch - 220ms/step\n",
      "Epoch 12/100\n",
      "29/29 - 7s - loss: 0.4169 - accuracy: 0.8043 - auc_4: 0.8902 - precision_4: 0.7970 - recall_4: 0.7923 - f1_score: 0.6468 - val_loss: 0.7346 - val_accuracy: 0.6538 - val_auc_4: 0.7306 - val_precision_4: 0.7857 - val_recall_4: 0.5116 - val_f1_score: 0.7107 - 7s/epoch - 247ms/step\n",
      "Epoch 13/100\n",
      "29/29 - 7s - loss: 0.3628 - accuracy: 0.8397 - auc_4: 0.9192 - precision_4: 0.8415 - recall_4: 0.8190 - f1_score: 0.6468 - val_loss: 0.7733 - val_accuracy: 0.6282 - val_auc_4: 0.8040 - val_precision_4: 0.8889 - val_recall_4: 0.3721 - val_f1_score: 0.7107 - 7s/epoch - 227ms/step\n",
      "Epoch 14/100\n",
      "29/29 - 7s - loss: 0.3485 - accuracy: 0.8496 - auc_4: 0.9253 - precision_4: 0.8621 - recall_4: 0.8160 - f1_score: 0.6468 - val_loss: 0.9453 - val_accuracy: 0.6410 - val_auc_4: 0.7037 - val_precision_4: 0.6119 - val_recall_4: 0.9535 - val_f1_score: 0.7107 - 7s/epoch - 227ms/step\n",
      "Epoch 15/100\n",
      "29/29 - 7s - loss: 0.3540 - accuracy: 0.8397 - auc_4: 0.9220 - precision_4: 0.8353 - recall_4: 0.8279 - f1_score: 0.6468 - val_loss: 0.6345 - val_accuracy: 0.7179 - val_auc_4: 0.7900 - val_precision_4: 0.7143 - val_recall_4: 0.8140 - val_f1_score: 0.7107 - 7s/epoch - 228ms/step\n",
      "Epoch 16/100\n",
      "29/29 - 7s - loss: 0.2617 - accuracy: 0.9078 - auc_4: 0.9633 - precision_4: 0.9121 - recall_4: 0.8932 - f1_score: 0.6468 - val_loss: 0.9089 - val_accuracy: 0.6795 - val_auc_4: 0.7140 - val_precision_4: 0.6406 - val_recall_4: 0.9535 - val_f1_score: 0.7107 - 7s/epoch - 226ms/step\n",
      "Epoch 17/100\n",
      "29/29 - 7s - loss: 0.2858 - accuracy: 0.8936 - auc_4: 0.9527 - precision_4: 0.8876 - recall_4: 0.8902 - f1_score: 0.6468 - val_loss: 0.7536 - val_accuracy: 0.6026 - val_auc_4: 0.7326 - val_precision_4: 0.6304 - val_recall_4: 0.6744 - val_f1_score: 0.7107 - 7s/epoch - 230ms/step\n",
      "Epoch 18/100\n",
      "29/29 - 7s - loss: 0.2626 - accuracy: 0.8809 - auc_4: 0.9604 - precision_4: 0.8822 - recall_4: 0.8665 - f1_score: 0.6468 - val_loss: 0.7166 - val_accuracy: 0.6538 - val_auc_4: 0.7658 - val_precision_4: 0.6905 - val_recall_4: 0.6744 - val_f1_score: 0.7107 - 7s/epoch - 228ms/step\n",
      "Epoch 19/100\n",
      "29/29 - 7s - loss: 0.2356 - accuracy: 0.9050 - auc_4: 0.9695 - precision_4: 0.9116 - recall_4: 0.8872 - f1_score: 0.6468 - val_loss: 1.8629 - val_accuracy: 0.5769 - val_auc_4: 0.6721 - val_precision_4: 0.5658 - val_recall_4: 1.0000 - val_f1_score: 0.7107 - 7s/epoch - 227ms/step\n",
      "Epoch 20/100\n",
      "29/29 - 7s - loss: 0.2701 - accuracy: 0.8993 - auc_4: 0.9574 - precision_4: 0.8912 - recall_4: 0.8991 - f1_score: 0.6468 - val_loss: 0.7059 - val_accuracy: 0.6538 - val_auc_4: 0.7542 - val_precision_4: 0.6818 - val_recall_4: 0.6977 - val_f1_score: 0.7107 - 7s/epoch - 227ms/step\n",
      "Epoch 21/100\n",
      "29/29 - 7s - loss: 0.2533 - accuracy: 0.9050 - auc_4: 0.9625 - precision_4: 0.9091 - recall_4: 0.8902 - f1_score: 0.6468 - val_loss: 0.6064 - val_accuracy: 0.7564 - val_auc_4: 0.8133 - val_precision_4: 0.8333 - val_recall_4: 0.6977 - val_f1_score: 0.7107 - 7s/epoch - 228ms/step\n",
      "Epoch 22/100\n",
      "29/29 - 7s - loss: 0.2352 - accuracy: 0.9078 - auc_4: 0.9694 - precision_4: 0.9072 - recall_4: 0.8991 - f1_score: 0.6468 - val_loss: 0.7526 - val_accuracy: 0.6410 - val_auc_4: 0.7950 - val_precision_4: 0.6271 - val_recall_4: 0.8605 - val_f1_score: 0.7107 - 7s/epoch - 226ms/step\n",
      "Epoch 23/100\n",
      "29/29 - 7s - loss: 0.2231 - accuracy: 0.9078 - auc_4: 0.9720 - precision_4: 0.9000 - recall_4: 0.9080 - f1_score: 0.6468 - val_loss: 0.9323 - val_accuracy: 0.6282 - val_auc_4: 0.7551 - val_precision_4: 0.6167 - val_recall_4: 0.8605 - val_f1_score: 0.7107 - 7s/epoch - 226ms/step\n",
      "Epoch 24/100\n",
      "29/29 - 7s - loss: 0.2353 - accuracy: 0.9021 - auc_4: 0.9689 - precision_4: 0.8918 - recall_4: 0.9050 - f1_score: 0.6468 - val_loss: 0.6982 - val_accuracy: 0.6923 - val_auc_4: 0.7917 - val_precision_4: 0.7568 - val_recall_4: 0.6512 - val_f1_score: 0.7107 - 7s/epoch - 228ms/step\n",
      "Epoch 25/100\n",
      "29/29 - 7s - loss: 0.1993 - accuracy: 0.9248 - auc_4: 0.9774 - precision_4: 0.9303 - recall_4: 0.9110 - f1_score: 0.6468 - val_loss: 0.6695 - val_accuracy: 0.6538 - val_auc_4: 0.7827 - val_precision_4: 0.6905 - val_recall_4: 0.6744 - val_f1_score: 0.7107 - 7s/epoch - 225ms/step\n",
      "Epoch 26/100\n",
      "29/29 - 7s - loss: 0.1668 - accuracy: 0.9504 - auc_4: 0.9872 - precision_4: 0.9604 - recall_4: 0.9347 - f1_score: 0.6468 - val_loss: 0.8158 - val_accuracy: 0.6538 - val_auc_4: 0.7532 - val_precision_4: 0.6905 - val_recall_4: 0.6744 - val_f1_score: 0.7107 - 7s/epoch - 226ms/step\n",
      "Epoch 27/100\n",
      "29/29 - 7s - loss: 0.1576 - accuracy: 0.9461 - auc_4: 0.9882 - precision_4: 0.9489 - recall_4: 0.9377 - f1_score: 0.6468 - val_loss: 1.0827 - val_accuracy: 0.6282 - val_auc_4: 0.6850 - val_precision_4: 0.6346 - val_recall_4: 0.7674 - val_f1_score: 0.7107 - 7s/epoch - 227ms/step\n",
      "Epoch 28/100\n",
      "29/29 - 7s - loss: 0.1732 - accuracy: 0.9390 - auc_4: 0.9847 - precision_4: 0.9482 - recall_4: 0.9228 - f1_score: 0.6468 - val_loss: 1.7493 - val_accuracy: 0.5769 - val_auc_4: 0.6937 - val_precision_4: 0.8571 - val_recall_4: 0.2791 - val_f1_score: 0.7107 - 7s/epoch - 226ms/step\n",
      "Epoch 29/100\n",
      "29/29 - 7s - loss: 0.1992 - accuracy: 0.9220 - auc_4: 0.9763 - precision_4: 0.9325 - recall_4: 0.9021 - f1_score: 0.6468 - val_loss: 0.9322 - val_accuracy: 0.6667 - val_auc_4: 0.7774 - val_precision_4: 0.7931 - val_recall_4: 0.5349 - val_f1_score: 0.7107 - 7s/epoch - 226ms/step\n",
      "Epoch 30/100\n",
      "29/29 - 6s - loss: 0.1752 - accuracy: 0.9348 - auc_4: 0.9828 - precision_4: 0.9396 - recall_4: 0.9228 - f1_score: 0.6468 - val_loss: 0.7418 - val_accuracy: 0.6538 - val_auc_4: 0.7860 - val_precision_4: 0.7353 - val_recall_4: 0.5814 - val_f1_score: 0.7107 - 6s/epoch - 224ms/step\n",
      "Epoch 31/100\n",
      "29/29 - 7s - loss: 0.1623 - accuracy: 0.9348 - auc_4: 0.9879 - precision_4: 0.9343 - recall_4: 0.9288 - f1_score: 0.6468 - val_loss: 0.8755 - val_accuracy: 0.6795 - val_auc_4: 0.7741 - val_precision_4: 0.7250 - val_recall_4: 0.6744 - val_f1_score: 0.7107 - 7s/epoch - 227ms/step\n",
      "Epoch 32/100\n",
      "29/29 - 7s - loss: 0.1279 - accuracy: 0.9574 - auc_4: 0.9932 - precision_4: 0.9694 - recall_4: 0.9407 - f1_score: 0.6468 - val_loss: 0.8214 - val_accuracy: 0.6795 - val_auc_4: 0.7625 - val_precision_4: 0.6875 - val_recall_4: 0.7674 - val_f1_score: 0.7107 - 7s/epoch - 227ms/step\n",
      "Epoch 33/100\n",
      "29/29 - 7s - loss: 0.1439 - accuracy: 0.9475 - auc_4: 0.9885 - precision_4: 0.9518 - recall_4: 0.9377 - f1_score: 0.6468 - val_loss: 0.9594 - val_accuracy: 0.6923 - val_auc_4: 0.7585 - val_precision_4: 0.7714 - val_recall_4: 0.6279 - val_f1_score: 0.7107 - 7s/epoch - 227ms/step\n",
      "Epoch 34/100\n",
      "29/29 - 7s - loss: 0.1417 - accuracy: 0.9433 - auc_4: 0.9909 - precision_4: 0.9486 - recall_4: 0.9318 - f1_score: 0.6468 - val_loss: 2.0580 - val_accuracy: 0.4744 - val_auc_4: 0.6040 - val_precision_4: 0.6250 - val_recall_4: 0.1163 - val_f1_score: 0.7107 - 7s/epoch - 228ms/step\n",
      "Epoch 35/100\n",
      "29/29 - 7s - loss: 0.1710 - accuracy: 0.9319 - auc_4: 0.9829 - precision_4: 0.9446 - recall_4: 0.9110 - f1_score: 0.6468 - val_loss: 1.3221 - val_accuracy: 0.5641 - val_auc_4: 0.7103 - val_precision_4: 0.6957 - val_recall_4: 0.3721 - val_f1_score: 0.7107 - 7s/epoch - 225ms/step\n",
      "Epoch 36/100\n",
      "29/29 - 7s - loss: 0.1261 - accuracy: 0.9560 - auc_4: 0.9926 - precision_4: 0.9608 - recall_4: 0.9466 - f1_score: 0.6468 - val_loss: 0.9223 - val_accuracy: 0.6538 - val_auc_4: 0.7326 - val_precision_4: 0.6667 - val_recall_4: 0.7442 - val_f1_score: 0.7107 - 7s/epoch - 224ms/step\n",
      "Epoch 37/100\n",
      "29/29 - 7s - loss: 0.1228 - accuracy: 0.9518 - auc_4: 0.9935 - precision_4: 0.9522 - recall_4: 0.9466 - f1_score: 0.6468 - val_loss: 1.0344 - val_accuracy: 0.6410 - val_auc_4: 0.7166 - val_precision_4: 0.6596 - val_recall_4: 0.7209 - val_f1_score: 0.7107 - 7s/epoch - 225ms/step\n",
      "Epoch 38/100\n",
      "29/29 - 7s - loss: 0.1386 - accuracy: 0.9475 - auc_4: 0.9894 - precision_4: 0.9438 - recall_4: 0.9466 - f1_score: 0.6468 - val_loss: 2.4305 - val_accuracy: 0.4615 - val_auc_4: 0.6937 - val_precision_4: 0.6000 - val_recall_4: 0.0698 - val_f1_score: 0.7107 - 7s/epoch - 228ms/step\n",
      "Epoch 39/100\n",
      "29/29 - 7s - loss: 0.1774 - accuracy: 0.9404 - auc_4: 0.9796 - precision_4: 0.9456 - recall_4: 0.9288 - f1_score: 0.6468 - val_loss: 1.1811 - val_accuracy: 0.6410 - val_auc_4: 0.7349 - val_precision_4: 0.7273 - val_recall_4: 0.5581 - val_f1_score: 0.7107 - 7s/epoch - 227ms/step\n",
      "Epoch 40/100\n",
      "29/29 - 7s - loss: 0.1556 - accuracy: 0.9447 - auc_4: 0.9853 - precision_4: 0.9571 - recall_4: 0.9258 - f1_score: 0.6468 - val_loss: 0.8900 - val_accuracy: 0.6923 - val_auc_4: 0.7581 - val_precision_4: 0.7317 - val_recall_4: 0.6977 - val_f1_score: 0.7107 - 7s/epoch - 227ms/step\n",
      "Epoch 41/100\n",
      "29/29 - 7s - loss: 0.1105 - accuracy: 0.9674 - auc_4: 0.9945 - precision_4: 0.9673 - recall_4: 0.9644 - f1_score: 0.6468 - val_loss: 0.8164 - val_accuracy: 0.6410 - val_auc_4: 0.7684 - val_precision_4: 0.7273 - val_recall_4: 0.5581 - val_f1_score: 0.7107 - 7s/epoch - 226ms/step\n",
      "Epoch 42/100\n",
      "29/29 - 7s - loss: 0.1187 - accuracy: 0.9589 - auc_4: 0.9929 - precision_4: 0.9639 - recall_4: 0.9496 - f1_score: 0.6468 - val_loss: 0.9852 - val_accuracy: 0.6410 - val_auc_4: 0.7538 - val_precision_4: 0.7273 - val_recall_4: 0.5581 - val_f1_score: 0.7107 - 7s/epoch - 226ms/step\n",
      "Epoch 43/100\n",
      "29/29 - 7s - loss: 0.0988 - accuracy: 0.9702 - auc_4: 0.9958 - precision_4: 0.9702 - recall_4: 0.9674 - f1_score: 0.6468 - val_loss: 0.9152 - val_accuracy: 0.6795 - val_auc_4: 0.7738 - val_precision_4: 0.7143 - val_recall_4: 0.6977 - val_f1_score: 0.7107 - 7s/epoch - 226ms/step\n",
      "Epoch 44/100\n",
      "29/29 - 7s - loss: 0.0701 - accuracy: 0.9773 - auc_4: 0.9987 - precision_4: 0.9791 - recall_4: 0.9733 - f1_score: 0.6468 - val_loss: 1.5208 - val_accuracy: 0.6795 - val_auc_4: 0.6934 - val_precision_4: 0.6452 - val_recall_4: 0.9302 - val_f1_score: 0.7107 - 7s/epoch - 225ms/step\n",
      "Epoch 45/100\n",
      "29/29 - 7s - loss: 0.1134 - accuracy: 0.9560 - auc_4: 0.9941 - precision_4: 0.9448 - recall_4: 0.9644 - f1_score: 0.6468 - val_loss: 1.1165 - val_accuracy: 0.6538 - val_auc_4: 0.7249 - val_precision_4: 0.6600 - val_recall_4: 0.7674 - val_f1_score: 0.7107 - 7s/epoch - 225ms/step\n",
      "Epoch 46/100\n",
      "29/29 - 7s - loss: 0.0997 - accuracy: 0.9645 - auc_4: 0.9944 - precision_4: 0.9588 - recall_4: 0.9674 - f1_score: 0.6468 - val_loss: 1.2729 - val_accuracy: 0.6026 - val_auc_4: 0.7392 - val_precision_4: 0.7727 - val_recall_4: 0.3953 - val_f1_score: 0.7107 - 7s/epoch - 226ms/step\n",
      "Epoch 47/100\n",
      "29/29 - 7s - loss: 0.1169 - accuracy: 0.9589 - auc_4: 0.9927 - precision_4: 0.9695 - recall_4: 0.9436 - f1_score: 0.6468 - val_loss: 1.0842 - val_accuracy: 0.6282 - val_auc_4: 0.7568 - val_precision_4: 0.6296 - val_recall_4: 0.7907 - val_f1_score: 0.7107 - 7s/epoch - 227ms/step\n",
      "Epoch 48/100\n",
      "29/29 - 7s - loss: 0.1024 - accuracy: 0.9617 - auc_4: 0.9936 - precision_4: 0.9669 - recall_4: 0.9525 - f1_score: 0.6468 - val_loss: 1.0210 - val_accuracy: 0.6410 - val_auc_4: 0.7319 - val_precision_4: 0.6829 - val_recall_4: 0.6512 - val_f1_score: 0.7107 - 7s/epoch - 226ms/step\n",
      "Epoch 49/100\n",
      "29/29 - 7s - loss: 0.0945 - accuracy: 0.9688 - auc_4: 0.9950 - precision_4: 0.9646 - recall_4: 0.9703 - f1_score: 0.6468 - val_loss: 1.0246 - val_accuracy: 0.7179 - val_auc_4: 0.7651 - val_precision_4: 0.8182 - val_recall_4: 0.6279 - val_f1_score: 0.7107 - 7s/epoch - 227ms/step\n",
      "Epoch 50/100\n",
      "29/29 - 7s - loss: 0.0679 - accuracy: 0.9787 - auc_4: 0.9986 - precision_4: 0.9735 - recall_4: 0.9822 - f1_score: 0.6468 - val_loss: 1.1595 - val_accuracy: 0.6410 - val_auc_4: 0.7508 - val_precision_4: 0.6531 - val_recall_4: 0.7442 - val_f1_score: 0.7107 - 7s/epoch - 227ms/step\n",
      "Epoch 51/100\n",
      "29/29 - 7s - loss: 0.0725 - accuracy: 0.9759 - auc_4: 0.9982 - precision_4: 0.9762 - recall_4: 0.9733 - f1_score: 0.6468 - val_loss: 1.1385 - val_accuracy: 0.6410 - val_auc_4: 0.7346 - val_precision_4: 0.6667 - val_recall_4: 0.6977 - val_f1_score: 0.7107 - 7s/epoch - 227ms/step\n",
      "Epoch 52/100\n",
      "29/29 - 7s - loss: 0.0797 - accuracy: 0.9773 - auc_4: 0.9963 - precision_4: 0.9791 - recall_4: 0.9733 - f1_score: 0.6468 - val_loss: 1.5719 - val_accuracy: 0.6154 - val_auc_4: 0.6874 - val_precision_4: 0.6140 - val_recall_4: 0.8140 - val_f1_score: 0.7107 - 7s/epoch - 227ms/step\n",
      "Epoch 53/100\n",
      "29/29 - 7s - loss: 0.0974 - accuracy: 0.9645 - auc_4: 0.9941 - precision_4: 0.9588 - recall_4: 0.9674 - f1_score: 0.6468 - val_loss: 1.6479 - val_accuracy: 0.5256 - val_auc_4: 0.7216 - val_precision_4: 0.7143 - val_recall_4: 0.2326 - val_f1_score: 0.7107 - 7s/epoch - 228ms/step\n",
      "Epoch 54/100\n",
      "29/29 - 7s - loss: 0.0918 - accuracy: 0.9702 - auc_4: 0.9955 - precision_4: 0.9759 - recall_4: 0.9614 - f1_score: 0.6468 - val_loss: 1.2079 - val_accuracy: 0.6282 - val_auc_4: 0.7375 - val_precision_4: 0.6296 - val_recall_4: 0.7907 - val_f1_score: 0.7107 - 7s/epoch - 226ms/step\n",
      "Epoch 55/100\n",
      "29/29 - 7s - loss: 0.1241 - accuracy: 0.9603 - auc_4: 0.9900 - precision_4: 0.9504 - recall_4: 0.9674 - f1_score: 0.6468 - val_loss: 1.5372 - val_accuracy: 0.6795 - val_auc_4: 0.7355 - val_precision_4: 0.8462 - val_recall_4: 0.5116 - val_f1_score: 0.7107 - 7s/epoch - 226ms/step\n",
      "Epoch 56/100\n",
      "29/29 - 7s - loss: 0.0958 - accuracy: 0.9660 - auc_4: 0.9946 - precision_4: 0.9672 - recall_4: 0.9614 - f1_score: 0.6468 - val_loss: 1.8659 - val_accuracy: 0.6667 - val_auc_4: 0.6415 - val_precision_4: 0.6491 - val_recall_4: 0.8605 - val_f1_score: 0.7107 - 7s/epoch - 225ms/step\n",
      "Epoch 57/100\n",
      "29/29 - 7s - loss: 0.1575 - accuracy: 0.9433 - auc_4: 0.9845 - precision_4: 0.9407 - recall_4: 0.9407 - f1_score: 0.6468 - val_loss: 1.1000 - val_accuracy: 0.6026 - val_auc_4: 0.7053 - val_precision_4: 0.6250 - val_recall_4: 0.6977 - val_f1_score: 0.7107 - 7s/epoch - 225ms/step\n",
      "Epoch 58/100\n",
      "29/29 - 7s - loss: 0.1005 - accuracy: 0.9702 - auc_4: 0.9920 - precision_4: 0.9731 - recall_4: 0.9644 - f1_score: 0.6468 - val_loss: 1.2878 - val_accuracy: 0.6923 - val_auc_4: 0.7073 - val_precision_4: 0.6792 - val_recall_4: 0.8372 - val_f1_score: 0.7107 - 7s/epoch - 227ms/step\n",
      "Epoch 59/100\n",
      "29/29 - 7s - loss: 0.0839 - accuracy: 0.9745 - auc_4: 0.9967 - precision_4: 0.9705 - recall_4: 0.9763 - f1_score: 0.6468 - val_loss: 1.0514 - val_accuracy: 0.6923 - val_auc_4: 0.7505 - val_precision_4: 0.7317 - val_recall_4: 0.6977 - val_f1_score: 0.7107 - 7s/epoch - 226ms/step\n",
      "Epoch 60/100\n",
      "29/29 - 7s - loss: 0.0864 - accuracy: 0.9688 - auc_4: 0.9957 - precision_4: 0.9674 - recall_4: 0.9674 - f1_score: 0.6468 - val_loss: 1.6001 - val_accuracy: 0.5385 - val_auc_4: 0.7256 - val_precision_4: 0.6667 - val_recall_4: 0.3256 - val_f1_score: 0.7107 - 7s/epoch - 228ms/step\n",
      "Epoch 61/100\n",
      "29/29 - 7s - loss: 0.0759 - accuracy: 0.9716 - auc_4: 0.9982 - precision_4: 0.9789 - recall_4: 0.9614 - f1_score: 0.6468 - val_loss: 1.7197 - val_accuracy: 0.6923 - val_auc_4: 0.6887 - val_precision_4: 0.6508 - val_recall_4: 0.9535 - val_f1_score: 0.7107 - 7s/epoch - 227ms/step\n",
      "Epoch 62/100\n",
      "29/29 - 7s - loss: 0.0761 - accuracy: 0.9716 - auc_4: 0.9977 - precision_4: 0.9676 - recall_4: 0.9733 - f1_score: 0.6468 - val_loss: 1.4896 - val_accuracy: 0.7051 - val_auc_4: 0.7568 - val_precision_4: 0.8333 - val_recall_4: 0.5814 - val_f1_score: 0.7107 - 7s/epoch - 228ms/step\n",
      "Epoch 63/100\n",
      "29/29 - 7s - loss: 0.0900 - accuracy: 0.9688 - auc_4: 0.9954 - precision_4: 0.9730 - recall_4: 0.9614 - f1_score: 0.6468 - val_loss: 1.2123 - val_accuracy: 0.6923 - val_auc_4: 0.7505 - val_precision_4: 0.7436 - val_recall_4: 0.6744 - val_f1_score: 0.7107 - 7s/epoch - 228ms/step\n",
      "Epoch 64/100\n",
      "29/29 - 7s - loss: 0.0649 - accuracy: 0.9858 - auc_4: 0.9982 - precision_4: 0.9881 - recall_4: 0.9822 - f1_score: 0.6468 - val_loss: 1.2378 - val_accuracy: 0.6410 - val_auc_4: 0.7545 - val_precision_4: 0.6667 - val_recall_4: 0.6977 - val_f1_score: 0.7107 - 7s/epoch - 226ms/step\n",
      "Epoch 65/100\n",
      "29/29 - 7s - loss: 0.0513 - accuracy: 0.9844 - auc_4: 0.9988 - precision_4: 0.9766 - recall_4: 0.9911 - f1_score: 0.6468 - val_loss: 1.1997 - val_accuracy: 0.6538 - val_auc_4: 0.7445 - val_precision_4: 0.6905 - val_recall_4: 0.6744 - val_f1_score: 0.7107 - 7s/epoch - 227ms/step\n",
      "Epoch 66/100\n",
      "29/29 - 7s - loss: 0.0547 - accuracy: 0.9887 - auc_4: 0.9985 - precision_4: 0.9940 - recall_4: 0.9822 - f1_score: 0.6468 - val_loss: 1.2773 - val_accuracy: 0.6538 - val_auc_4: 0.7475 - val_precision_4: 0.6739 - val_recall_4: 0.7209 - val_f1_score: 0.7107 - 7s/epoch - 227ms/step\n",
      "Epoch 67/100\n",
      "29/29 - 7s - loss: 0.0555 - accuracy: 0.9844 - auc_4: 0.9990 - precision_4: 0.9766 - recall_4: 0.9911 - f1_score: 0.6468 - val_loss: 1.2086 - val_accuracy: 0.6795 - val_auc_4: 0.7585 - val_precision_4: 0.6875 - val_recall_4: 0.7674 - val_f1_score: 0.7107 - 7s/epoch - 226ms/step\n",
      "Epoch 68/100\n",
      "29/29 - 7s - loss: 0.0419 - accuracy: 0.9915 - auc_4: 0.9995 - precision_4: 0.9970 - recall_4: 0.9852 - f1_score: 0.6468 - val_loss: 1.7758 - val_accuracy: 0.7051 - val_auc_4: 0.7319 - val_precision_4: 0.6667 - val_recall_4: 0.9302 - val_f1_score: 0.7107 - 7s/epoch - 227ms/step\n",
      "Epoch 69/100\n",
      "29/29 - 7s - loss: 0.0718 - accuracy: 0.9830 - auc_4: 0.9965 - precision_4: 0.9794 - recall_4: 0.9852 - f1_score: 0.6468 - val_loss: 1.1491 - val_accuracy: 0.6538 - val_auc_4: 0.7468 - val_precision_4: 0.6739 - val_recall_4: 0.7209 - val_f1_score: 0.7107 - 7s/epoch - 227ms/step\n",
      "Epoch 70/100\n",
      "29/29 - 7s - loss: 0.0427 - accuracy: 0.9872 - auc_4: 0.9993 - precision_4: 0.9910 - recall_4: 0.9822 - f1_score: 0.6468 - val_loss: 1.1246 - val_accuracy: 0.6795 - val_auc_4: 0.7568 - val_precision_4: 0.7045 - val_recall_4: 0.7209 - val_f1_score: 0.7107 - 7s/epoch - 226ms/step\n",
      "Epoch 71/100\n",
      "29/29 - 7s - loss: 0.0795 - accuracy: 0.9674 - auc_4: 0.9967 - precision_4: 0.9645 - recall_4: 0.9674 - f1_score: 0.6468 - val_loss: 1.3575 - val_accuracy: 0.6538 - val_auc_4: 0.7492 - val_precision_4: 0.6739 - val_recall_4: 0.7209 - val_f1_score: 0.7107 - 7s/epoch - 226ms/step\n"
     ]
    },
    {
     "data": {
      "image/png": "[encoded data removed]",
      "text/plain": [
       "<Figure size 432x288 with 1 Axes>"
      ]
     },
     "metadata": {
      "needs_background": "light"
     },
     "output_type": "display_data"
    },
    {
     "name": "stdout",
     "output_type": "stream",
     "text": [
      "Epoch 1/100\n",
      "29/29 - 9s - loss: 0.7444 - accuracy: 0.6184 - auc_5: 0.6489 - precision_5: 0.5994 - recall_5: 0.6012 - f1_score: 0.6455 - val_loss: 2.7184 - val_accuracy: 0.5641 - val_auc_5: 0.6166 - val_precision_5: 0.5641 - val_recall_5: 1.0000 - val_f1_score: 0.7213 - 9s/epoch - 321ms/step\n",
      "Epoch 2/100\n",
      "29/29 - 7s - loss: 0.6799 - accuracy: 0.6411 - auc_5: 0.7025 - precision_5: 0.6326 - recall_5: 0.5893 - f1_score: 0.6455 - val_loss: 1.0082 - val_accuracy: 0.5513 - val_auc_5: 0.6063 - val_precision_5: 0.6216 - val_recall_5: 0.5227 - val_f1_score: 0.7213 - 7s/epoch - 232ms/step\n",
      "Epoch 3/100\n",
      "29/29 - 7s - loss: 0.6730 - accuracy: 0.6440 - auc_5: 0.7114 - precision_5: 0.6254 - recall_5: 0.6310 - f1_score: 0.6455 - val_loss: 1.8746 - val_accuracy: 0.4487 - val_auc_5: 0.5829 - val_precision_5: 0.6000 - val_recall_5: 0.0682 - val_f1_score: 0.7213 - 7s/epoch - 232ms/step\n",
      "Epoch 4/100\n",
      "29/29 - 7s - loss: 0.5557 - accuracy: 0.7333 - auc_5: 0.7955 - precision_5: 0.7327 - recall_5: 0.6935 - f1_score: 0.6455 - val_loss: 1.4944 - val_accuracy: 0.5641 - val_auc_5: 0.7209 - val_precision_5: 0.5641 - val_recall_5: 1.0000 - val_f1_score: 0.7213 - 7s/epoch - 230ms/step\n",
      "Epoch 5/100\n",
      "29/29 - 7s - loss: 0.5272 - accuracy: 0.7262 - auc_5: 0.8117 - precision_5: 0.7214 - recall_5: 0.6935 - f1_score: 0.6455 - val_loss: 0.7655 - val_accuracy: 0.6026 - val_auc_5: 0.6611 - val_precision_5: 0.6140 - val_recall_5: 0.7955 - val_f1_score: 0.7213 - 7s/epoch - 231ms/step\n",
      "Epoch 6/100\n",
      "29/29 - 7s - loss: 0.5070 - accuracy: 0.7532 - auc_5: 0.8315 - precision_5: 0.7470 - recall_5: 0.7292 - f1_score: 0.6455 - val_loss: 1.1260 - val_accuracy: 0.5897 - val_auc_5: 0.7022 - val_precision_5: 0.5789 - val_recall_5: 1.0000 - val_f1_score: 0.7213 - 7s/epoch - 230ms/step\n",
      "Epoch 7/100\n",
      "29/29 - 7s - loss: 0.5716 - accuracy: 0.7319 - auc_5: 0.7949 - precision_5: 0.7155 - recall_5: 0.7262 - f1_score: 0.6455 - val_loss: 1.0203 - val_accuracy: 0.6026 - val_auc_5: 0.6798 - val_precision_5: 0.5867 - val_recall_5: 1.0000 - val_f1_score: 0.7213 - 7s/epoch - 230ms/step\n",
      "Epoch 8/100\n",
      "29/29 - 7s - loss: 0.5180 - accuracy: 0.7376 - auc_5: 0.8262 - precision_5: 0.7139 - recall_5: 0.7500 - f1_score: 0.6455 - val_loss: 1.0865 - val_accuracy: 0.5385 - val_auc_5: 0.6541 - val_precision_5: 0.7222 - val_recall_5: 0.2955 - val_f1_score: 0.7213 - 7s/epoch - 230ms/step\n",
      "Epoch 9/100\n",
      "29/29 - 7s - loss: 0.4689 - accuracy: 0.7830 - auc_5: 0.8586 - precision_5: 0.7886 - recall_5: 0.7440 - f1_score: 0.6455 - val_loss: 1.0802 - val_accuracy: 0.5385 - val_auc_5: 0.6711 - val_precision_5: 0.8333 - val_recall_5: 0.2273 - val_f1_score: 0.7213 - 7s/epoch - 230ms/step\n",
      "Epoch 10/100\n",
      "29/29 - 7s - loss: 0.4095 - accuracy: 0.8057 - auc_5: 0.8919 - precision_5: 0.8100 - recall_5: 0.7738 - f1_score: 0.6455 - val_loss: 0.7024 - val_accuracy: 0.6282 - val_auc_5: 0.6905 - val_precision_5: 0.7586 - val_recall_5: 0.5000 - val_f1_score: 0.7213 - 7s/epoch - 230ms/step\n",
      "Epoch 11/100\n",
      "29/29 - 7s - loss: 0.3890 - accuracy: 0.8369 - auc_5: 0.9102 - precision_5: 0.8442 - recall_5: 0.8065 - f1_score: 0.6455 - val_loss: 0.8496 - val_accuracy: 0.6154 - val_auc_5: 0.6808 - val_precision_5: 0.7692 - val_recall_5: 0.4545 - val_f1_score: 0.7213 - 7s/epoch - 229ms/step\n",
      "Epoch 12/100\n",
      "29/29 - 7s - loss: 0.3813 - accuracy: 0.8227 - auc_5: 0.9066 - precision_5: 0.8149 - recall_5: 0.8125 - f1_score: 0.6455 - val_loss: 0.8125 - val_accuracy: 0.6538 - val_auc_5: 0.6862 - val_precision_5: 0.6491 - val_recall_5: 0.8409 - val_f1_score: 0.7213 - 7s/epoch - 230ms/step\n",
      "Epoch 13/100\n",
      "29/29 - 7s - loss: 0.3943 - accuracy: 0.8184 - auc_5: 0.9030 - precision_5: 0.8041 - recall_5: 0.8185 - f1_score: 0.6455 - val_loss: 0.8368 - val_accuracy: 0.6282 - val_auc_5: 0.6939 - val_precision_5: 0.7273 - val_recall_5: 0.5455 - val_f1_score: 0.7213 - 7s/epoch - 232ms/step\n",
      "Epoch 14/100\n",
      "29/29 - 7s - loss: 0.3450 - accuracy: 0.8511 - auc_5: 0.9299 - precision_5: 0.8407 - recall_5: 0.8482 - f1_score: 0.6455 - val_loss: 0.8688 - val_accuracy: 0.6410 - val_auc_5: 0.6942 - val_precision_5: 0.7353 - val_recall_5: 0.5682 - val_f1_score: 0.7213 - 7s/epoch - 230ms/step\n",
      "Epoch 15/100\n",
      "29/29 - 7s - loss: 0.3374 - accuracy: 0.8567 - auc_5: 0.9297 - precision_5: 0.8593 - recall_5: 0.8363 - f1_score: 0.6455 - val_loss: 0.8142 - val_accuracy: 0.5897 - val_auc_5: 0.6350 - val_precision_5: 0.6154 - val_recall_5: 0.7273 - val_f1_score: 0.7213 - 7s/epoch - 230ms/step\n",
      "Epoch 16/100\n",
      "29/29 - 7s - loss: 0.2857 - accuracy: 0.8695 - auc_5: 0.9544 - precision_5: 0.8653 - recall_5: 0.8601 - f1_score: 0.6455 - val_loss: 1.7521 - val_accuracy: 0.5128 - val_auc_5: 0.6969 - val_precision_5: 0.8000 - val_recall_5: 0.1818 - val_f1_score: 0.7213 - 7s/epoch - 230ms/step\n",
      "Epoch 17/100\n",
      "29/29 - 7s - loss: 0.3462 - accuracy: 0.8553 - auc_5: 0.9237 - precision_5: 0.8679 - recall_5: 0.8214 - f1_score: 0.6455 - val_loss: 1.0654 - val_accuracy: 0.6154 - val_auc_5: 0.6922 - val_precision_5: 0.8182 - val_recall_5: 0.4091 - val_f1_score: 0.7213 - 7s/epoch - 231ms/step\n",
      "Epoch 18/100\n",
      "29/29 - 7s - loss: 0.2820 - accuracy: 0.8823 - auc_5: 0.9546 - precision_5: 0.8845 - recall_5: 0.8661 - f1_score: 0.6455 - val_loss: 0.7843 - val_accuracy: 0.7308 - val_auc_5: 0.7303 - val_precision_5: 0.7556 - val_recall_5: 0.7727 - val_f1_score: 0.7213 - 7s/epoch - 228ms/step\n",
      "Epoch 19/100\n",
      "29/29 - 7s - loss: 0.2451 - accuracy: 0.9106 - auc_5: 0.9676 - precision_5: 0.9252 - recall_5: 0.8839 - f1_score: 0.6455 - val_loss: 0.8209 - val_accuracy: 0.6538 - val_auc_5: 0.7022 - val_precision_5: 0.6604 - val_recall_5: 0.7955 - val_f1_score: 0.7213 - 7s/epoch - 229ms/step\n",
      "Epoch 20/100\n",
      "29/29 - 7s - loss: 0.2349 - accuracy: 0.9021 - auc_5: 0.9706 - precision_5: 0.9033 - recall_5: 0.8899 - f1_score: 0.6455 - val_loss: 0.8365 - val_accuracy: 0.6410 - val_auc_5: 0.6932 - val_precision_5: 0.6481 - val_recall_5: 0.7955 - val_f1_score: 0.7213 - 7s/epoch - 230ms/step\n",
      "Epoch 21/100\n",
      "29/29 - 7s - loss: 0.2541 - accuracy: 0.8936 - auc_5: 0.9622 - precision_5: 0.8805 - recall_5: 0.8988 - f1_score: 0.6455 - val_loss: 0.8501 - val_accuracy: 0.6795 - val_auc_5: 0.7326 - val_precision_5: 0.8065 - val_recall_5: 0.5682 - val_f1_score: 0.7213 - 7s/epoch - 231ms/step\n",
      "Epoch 22/100\n",
      "29/29 - 7s - loss: 0.2089 - accuracy: 0.9191 - auc_5: 0.9775 - precision_5: 0.9164 - recall_5: 0.9137 - f1_score: 0.6455 - val_loss: 0.8696 - val_accuracy: 0.6667 - val_auc_5: 0.7326 - val_precision_5: 0.6607 - val_recall_5: 0.8409 - val_f1_score: 0.7213 - 7s/epoch - 229ms/step\n",
      "Epoch 23/100\n",
      "29/29 - 7s - loss: 0.2241 - accuracy: 0.9007 - auc_5: 0.9711 - precision_5: 0.8982 - recall_5: 0.8929 - f1_score: 0.6455 - val_loss: 1.0087 - val_accuracy: 0.6282 - val_auc_5: 0.6872 - val_precision_5: 0.6271 - val_recall_5: 0.8409 - val_f1_score: 0.7213 - 7s/epoch - 229ms/step\n",
      "Epoch 24/100\n",
      "29/29 - 7s - loss: 0.2108 - accuracy: 0.9234 - auc_5: 0.9754 - precision_5: 0.9222 - recall_5: 0.9167 - f1_score: 0.6455 - val_loss: 0.9542 - val_accuracy: 0.7051 - val_auc_5: 0.7540 - val_precision_5: 0.7333 - val_recall_5: 0.7500 - val_f1_score: 0.7213 - 7s/epoch - 230ms/step\n",
      "Epoch 25/100\n",
      "29/29 - 7s - loss: 0.2403 - accuracy: 0.9064 - auc_5: 0.9645 - precision_5: 0.9066 - recall_5: 0.8958 - f1_score: 0.6455 - val_loss: 0.9674 - val_accuracy: 0.6667 - val_auc_5: 0.7533 - val_precision_5: 0.6452 - val_recall_5: 0.9091 - val_f1_score: 0.7213 - 7s/epoch - 230ms/step\n",
      "Epoch 26/100\n",
      "29/29 - 7s - loss: 0.2069 - accuracy: 0.9191 - auc_5: 0.9763 - precision_5: 0.9189 - recall_5: 0.9107 - f1_score: 0.6455 - val_loss: 1.0197 - val_accuracy: 0.6538 - val_auc_5: 0.7293 - val_precision_5: 0.6491 - val_recall_5: 0.8409 - val_f1_score: 0.7213 - 7s/epoch - 229ms/step\n",
      "Epoch 27/100\n",
      "29/29 - 7s - loss: 0.2254 - accuracy: 0.8936 - auc_5: 0.9703 - precision_5: 0.8850 - recall_5: 0.8929 - f1_score: 0.6455 - val_loss: 1.0695 - val_accuracy: 0.6538 - val_auc_5: 0.7129 - val_precision_5: 0.6393 - val_recall_5: 0.8864 - val_f1_score: 0.7213 - 7s/epoch - 230ms/step\n",
      "Epoch 28/100\n",
      "29/29 - 7s - loss: 0.2126 - accuracy: 0.9163 - auc_5: 0.9740 - precision_5: 0.9086 - recall_5: 0.9167 - f1_score: 0.6455 - val_loss: 1.1359 - val_accuracy: 0.6026 - val_auc_5: 0.7015 - val_precision_5: 0.7241 - val_recall_5: 0.4773 - val_f1_score: 0.7213 - 7s/epoch - 229ms/step\n",
      "Epoch 29/100\n",
      "29/29 - 7s - loss: 0.1585 - accuracy: 0.9518 - auc_5: 0.9873 - precision_5: 0.9441 - recall_5: 0.9554 - f1_score: 0.6455 - val_loss: 0.9767 - val_accuracy: 0.6410 - val_auc_5: 0.7119 - val_precision_5: 0.7667 - val_recall_5: 0.5227 - val_f1_score: 0.7213 - 7s/epoch - 229ms/step\n",
      "Epoch 30/100\n",
      "29/29 - 7s - loss: 0.1938 - accuracy: 0.9191 - auc_5: 0.9783 - precision_5: 0.9215 - recall_5: 0.9077 - f1_score: 0.6455 - val_loss: 1.0246 - val_accuracy: 0.6282 - val_auc_5: 0.6939 - val_precision_5: 0.7143 - val_recall_5: 0.5682 - val_f1_score: 0.7213 - 7s/epoch - 228ms/step\n",
      "Epoch 31/100\n",
      "29/29 - 7s - loss: 0.1761 - accuracy: 0.9348 - auc_5: 0.9828 - precision_5: 0.9448 - recall_5: 0.9167 - f1_score: 0.6455 - val_loss: 1.0626 - val_accuracy: 0.6538 - val_auc_5: 0.6822 - val_precision_5: 0.6491 - val_recall_5: 0.8409 - val_f1_score: 0.7213 - 7s/epoch - 229ms/step\n",
      "Epoch 32/100\n",
      "29/29 - 7s - loss: 0.1764 - accuracy: 0.9319 - auc_5: 0.9832 - precision_5: 0.9162 - recall_5: 0.9435 - f1_score: 0.6455 - val_loss: 0.9796 - val_accuracy: 0.6410 - val_auc_5: 0.7269 - val_precision_5: 0.6905 - val_recall_5: 0.6591 - val_f1_score: 0.7213 - 7s/epoch - 229ms/step\n",
      "Epoch 33/100\n",
      "29/29 - 7s - loss: 0.1423 - accuracy: 0.9532 - auc_5: 0.9913 - precision_5: 0.9577 - recall_5: 0.9435 - f1_score: 0.6455 - val_loss: 1.8090 - val_accuracy: 0.6026 - val_auc_5: 0.7149 - val_precision_5: 0.8824 - val_recall_5: 0.3409 - val_f1_score: 0.7213 - 7s/epoch - 229ms/step\n",
      "Epoch 34/100\n",
      "29/29 - 7s - loss: 0.1939 - accuracy: 0.9248 - auc_5: 0.9775 - precision_5: 0.9301 - recall_5: 0.9107 - f1_score: 0.6455 - val_loss: 1.1985 - val_accuracy: 0.6410 - val_auc_5: 0.7096 - val_precision_5: 0.7500 - val_recall_5: 0.5455 - val_f1_score: 0.7213 - 7s/epoch - 230ms/step\n",
      "Epoch 35/100\n",
      "29/29 - 7s - loss: 0.1512 - accuracy: 0.9433 - auc_5: 0.9883 - precision_5: 0.9353 - recall_5: 0.9464 - f1_score: 0.6455 - val_loss: 1.0271 - val_accuracy: 0.6795 - val_auc_5: 0.7209 - val_precision_5: 0.8065 - val_recall_5: 0.5682 - val_f1_score: 0.7213 - 7s/epoch - 229ms/step\n",
      "Epoch 36/100\n",
      "29/29 - 7s - loss: 0.1265 - accuracy: 0.9560 - auc_5: 0.9923 - precision_5: 0.9499 - recall_5: 0.9583 - f1_score: 0.6455 - val_loss: 0.9786 - val_accuracy: 0.6410 - val_auc_5: 0.7213 - val_precision_5: 0.7222 - val_recall_5: 0.5909 - val_f1_score: 0.7213 - 7s/epoch - 229ms/step\n",
      "Epoch 37/100\n",
      "29/29 - 7s - loss: 0.1057 - accuracy: 0.9702 - auc_5: 0.9960 - precision_5: 0.9758 - recall_5: 0.9613 - f1_score: 0.6455 - val_loss: 1.4990 - val_accuracy: 0.6026 - val_auc_5: 0.7159 - val_precision_5: 0.5942 - val_recall_5: 0.9318 - val_f1_score: 0.7213 - 7s/epoch - 233ms/step\n",
      "Epoch 38/100\n",
      "29/29 - 7s - loss: 0.1467 - accuracy: 0.9447 - auc_5: 0.9881 - precision_5: 0.9433 - recall_5: 0.9405 - f1_score: 0.6455 - val_loss: 0.9387 - val_accuracy: 0.7051 - val_auc_5: 0.7694 - val_precision_5: 0.7059 - val_recall_5: 0.8182 - val_f1_score: 0.7213 - 7s/epoch - 230ms/step\n",
      "Epoch 39/100\n",
      "29/29 - 7s - loss: 0.1031 - accuracy: 0.9702 - auc_5: 0.9950 - precision_5: 0.9646 - recall_5: 0.9732 - f1_score: 0.6455 - val_loss: 2.5183 - val_accuracy: 0.4872 - val_auc_5: 0.6959 - val_precision_5: 0.8333 - val_recall_5: 0.1136 - val_f1_score: 0.7213 - 7s/epoch - 230ms/step\n",
      "Epoch 40/100\n",
      "29/29 - 7s - loss: 0.1682 - accuracy: 0.9518 - auc_5: 0.9818 - precision_5: 0.9689 - recall_5: 0.9286 - f1_score: 0.6455 - val_loss: 1.1879 - val_accuracy: 0.6026 - val_auc_5: 0.7002 - val_precision_5: 0.6226 - val_recall_5: 0.7500 - val_f1_score: 0.7213 - 7s/epoch - 231ms/step\n",
      "Epoch 41/100\n",
      "29/29 - 7s - loss: 0.1313 - accuracy: 0.9560 - auc_5: 0.9916 - precision_5: 0.9552 - recall_5: 0.9524 - f1_score: 0.6455 - val_loss: 1.2694 - val_accuracy: 0.6282 - val_auc_5: 0.6928 - val_precision_5: 0.6667 - val_recall_5: 0.6818 - val_f1_score: 0.7213 - 7s/epoch - 230ms/step\n",
      "Epoch 42/100\n",
      "29/29 - 7s - loss: 0.1180 - accuracy: 0.9617 - auc_5: 0.9927 - precision_5: 0.9612 - recall_5: 0.9583 - f1_score: 0.6455 - val_loss: 1.1943 - val_accuracy: 0.6282 - val_auc_5: 0.7239 - val_precision_5: 0.7273 - val_recall_5: 0.5455 - val_f1_score: 0.7213 - 7s/epoch - 230ms/step\n",
      "Epoch 43/100\n",
      "29/29 - 7s - loss: 0.1617 - accuracy: 0.9390 - auc_5: 0.9830 - precision_5: 0.9373 - recall_5: 0.9345 - f1_score: 0.6455 - val_loss: 1.0828 - val_accuracy: 0.6282 - val_auc_5: 0.6995 - val_precision_5: 0.6744 - val_recall_5: 0.6591 - val_f1_score: 0.7213 - 7s/epoch - 231ms/step\n",
      "Epoch 44/100\n",
      "29/29 - 7s - loss: 0.1273 - accuracy: 0.9589 - auc_5: 0.9918 - precision_5: 0.9582 - recall_5: 0.9554 - f1_score: 0.6455 - val_loss: 1.4010 - val_accuracy: 0.6282 - val_auc_5: 0.6895 - val_precision_5: 0.6271 - val_recall_5: 0.8409 - val_f1_score: 0.7213 - 7s/epoch - 231ms/step\n",
      "Epoch 45/100\n",
      "29/29 - 7s - loss: 0.1599 - accuracy: 0.9376 - auc_5: 0.9842 - precision_5: 0.9320 - recall_5: 0.9375 - f1_score: 0.6455 - val_loss: 1.9159 - val_accuracy: 0.6410 - val_auc_5: 0.6524 - val_precision_5: 0.6143 - val_recall_5: 0.9773 - val_f1_score: 0.7213 - 7s/epoch - 230ms/step\n",
      "Epoch 46/100\n",
      "29/29 - 7s - loss: 0.1547 - accuracy: 0.9475 - auc_5: 0.9842 - precision_5: 0.9308 - recall_5: 0.9613 - f1_score: 0.6455 - val_loss: 1.3129 - val_accuracy: 0.6154 - val_auc_5: 0.7159 - val_precision_5: 0.7917 - val_recall_5: 0.4318 - val_f1_score: 0.7213 - 7s/epoch - 230ms/step\n",
      "Epoch 47/100\n",
      "29/29 - 7s - loss: 0.0930 - accuracy: 0.9688 - auc_5: 0.9962 - precision_5: 0.9673 - recall_5: 0.9673 - f1_score: 0.6455 - val_loss: 1.2071 - val_accuracy: 0.6026 - val_auc_5: 0.7102 - val_precision_5: 0.7097 - val_recall_5: 0.5000 - val_f1_score: 0.7213 - 7s/epoch - 258ms/step\n",
      "Epoch 48/100\n",
      "29/29 - 9s - loss: 0.0783 - accuracy: 0.9830 - auc_5: 0.9975 - precision_5: 0.9793 - recall_5: 0.9851 - f1_score: 0.6455 - val_loss: 1.0813 - val_accuracy: 0.6410 - val_auc_5: 0.7216 - val_precision_5: 0.6818 - val_recall_5: 0.6818 - val_f1_score: 0.7213 - 9s/epoch - 298ms/step\n",
      "Epoch 49/100\n",
      "29/29 - 7s - loss: 0.1279 - accuracy: 0.9532 - auc_5: 0.9901 - precision_5: 0.9443 - recall_5: 0.9583 - f1_score: 0.6455 - val_loss: 1.2521 - val_accuracy: 0.6154 - val_auc_5: 0.7002 - val_precision_5: 0.7500 - val_recall_5: 0.4773 - val_f1_score: 0.7213 - 7s/epoch - 253ms/step\n",
      "Epoch 50/100\n",
      "29/29 - 8s - loss: 0.0826 - accuracy: 0.9773 - auc_5: 0.9967 - precision_5: 0.9706 - recall_5: 0.9821 - f1_score: 0.6455 - val_loss: 1.1497 - val_accuracy: 0.6282 - val_auc_5: 0.7169 - val_precision_5: 0.7027 - val_recall_5: 0.5909 - val_f1_score: 0.7213 - 8s/epoch - 265ms/step\n",
      "Epoch 51/100\n",
      "29/29 - 8s - loss: 0.1049 - accuracy: 0.9645 - auc_5: 0.9938 - precision_5: 0.9587 - recall_5: 0.9673 - f1_score: 0.6455 - val_loss: 1.3237 - val_accuracy: 0.6282 - val_auc_5: 0.7062 - val_precision_5: 0.7778 - val_recall_5: 0.4773 - val_f1_score: 0.7213 - 8s/epoch - 265ms/step\n",
      "Epoch 52/100\n",
      "29/29 - 8s - loss: 0.0763 - accuracy: 0.9816 - auc_5: 0.9981 - precision_5: 0.9708 - recall_5: 0.9911 - f1_score: 0.6455 - val_loss: 3.2451 - val_accuracy: 0.4872 - val_auc_5: 0.6360 - val_precision_5: 1.0000 - val_recall_5: 0.0909 - val_f1_score: 0.7213 - 8s/epoch - 270ms/step\n",
      "Epoch 53/100\n",
      "29/29 - 8s - loss: 0.1590 - accuracy: 0.9447 - auc_5: 0.9830 - precision_5: 0.9569 - recall_5: 0.9256 - f1_score: 0.6468 - val_loss: 1.3213 - val_accuracy: 0.6538 - val_auc_5: 0.7363 - val_precision_5: 0.7742 - val_recall_5: 0.5455 - val_f1_score: 0.7213 - 8s/epoch - 264ms/step\n",
      "Epoch 54/100\n",
      "29/29 - 7s - loss: 0.0748 - accuracy: 0.9787 - auc_5: 0.9981 - precision_5: 0.9820 - recall_5: 0.9732 - f1_score: 0.6455 - val_loss: 1.1343 - val_accuracy: 0.6154 - val_auc_5: 0.7326 - val_precision_5: 0.6522 - val_recall_5: 0.6818 - val_f1_score: 0.7213 - 7s/epoch - 251ms/step\n",
      "Epoch 55/100\n",
      "29/29 - 7s - loss: 0.1083 - accuracy: 0.9532 - auc_5: 0.9935 - precision_5: 0.9496 - recall_5: 0.9524 - f1_score: 0.6455 - val_loss: 1.2315 - val_accuracy: 0.6538 - val_auc_5: 0.7142 - val_precision_5: 0.7297 - val_recall_5: 0.6136 - val_f1_score: 0.7213 - 7s/epoch - 249ms/step\n",
      "Epoch 56/100\n",
      "29/29 - 8s - loss: 0.0634 - accuracy: 0.9844 - auc_5: 0.9986 - precision_5: 0.9851 - recall_5: 0.9821 - f1_score: 0.6455 - val_loss: 1.2903 - val_accuracy: 0.6538 - val_auc_5: 0.7203 - val_precision_5: 0.6667 - val_recall_5: 0.7727 - val_f1_score: 0.7213 - 8s/epoch - 292ms/step\n",
      "Epoch 57/100\n",
      "29/29 - 7s - loss: 0.1009 - accuracy: 0.9631 - auc_5: 0.9949 - precision_5: 0.9532 - recall_5: 0.9702 - f1_score: 0.6455 - val_loss: 1.5839 - val_accuracy: 0.6154 - val_auc_5: 0.7012 - val_precision_5: 0.7059 - val_recall_5: 0.5455 - val_f1_score: 0.7213 - 7s/epoch - 254ms/step\n",
      "Epoch 58/100\n",
      "29/29 - 7s - loss: 0.1228 - accuracy: 0.9560 - auc_5: 0.9911 - precision_5: 0.9607 - recall_5: 0.9464 - f1_score: 0.6455 - val_loss: 1.6279 - val_accuracy: 0.5769 - val_auc_5: 0.7002 - val_precision_5: 0.7391 - val_recall_5: 0.3864 - val_f1_score: 0.7213 - 7s/epoch - 237ms/step\n",
      "Epoch 59/100\n",
      "29/29 - 7s - loss: 0.0666 - accuracy: 0.9844 - auc_5: 0.9984 - precision_5: 0.9851 - recall_5: 0.9821 - f1_score: 0.6455 - val_loss: 1.4653 - val_accuracy: 0.6282 - val_auc_5: 0.7079 - val_precision_5: 0.7586 - val_recall_5: 0.5000 - val_f1_score: 0.7213 - 7s/epoch - 242ms/step\n",
      "Epoch 60/100\n",
      "29/29 - 8s - loss: 0.0739 - accuracy: 0.9787 - auc_5: 0.9970 - precision_5: 0.9791 - recall_5: 0.9762 - f1_score: 0.6455 - val_loss: 1.4005 - val_accuracy: 0.6282 - val_auc_5: 0.7309 - val_precision_5: 0.7778 - val_recall_5: 0.4773 - val_f1_score: 0.7213 - 8s/epoch - 259ms/step\n"
     ]
    },
    {
     "data": {
      "image/png": "[encoded data removed]",
      "text/plain": [
       "<Figure size 432x288 with 1 Axes>"
      ]
     },
     "metadata": {
      "needs_background": "light"
     },
     "output_type": "display_data"
    },
    {
     "name": "stdout",
     "output_type": "stream",
     "text": [
      "Epoch 1/100\n",
      "29/29 - 11s - loss: 0.7562 - accuracy: 0.6170 - auc_6: 0.6333 - precision_6: 0.6054 - recall_6: 0.5912 - f1_score: 0.6507 - val_loss: 3.9736 - val_accuracy: 0.4872 - val_auc_6: 0.4951 - val_precision_6: 0.0000e+00 - val_recall_6: 0.0000e+00 - val_f1_score: 0.6780 - 11s/epoch - 393ms/step\n",
      "Epoch 2/100\n",
      "29/29 - 7s - loss: 0.6756 - accuracy: 0.6582 - auc_6: 0.7034 - precision_6: 0.6523 - recall_6: 0.6235 - f1_score: 0.6507 - val_loss: 2.5624 - val_accuracy: 0.5128 - val_auc_6: 0.6336 - val_precision_6: 0.5128 - val_recall_6: 1.0000 - val_f1_score: 0.6780 - 7s/epoch - 247ms/step\n",
      "Epoch 3/100\n",
      "29/29 - 7s - loss: 0.6440 - accuracy: 0.6695 - auc_6: 0.7354 - precision_6: 0.6616 - recall_6: 0.6441 - f1_score: 0.6507 - val_loss: 3.7146 - val_accuracy: 0.5128 - val_auc_6: 0.5556 - val_precision_6: 0.5128 - val_recall_6: 1.0000 - val_f1_score: 0.6780 - 7s/epoch - 255ms/step\n",
      "Epoch 4/100\n",
      "29/29 - 7s - loss: 0.6291 - accuracy: 0.6652 - auc_6: 0.7406 - precision_6: 0.6520 - recall_6: 0.6559 - f1_score: 0.6507 - val_loss: 0.8644 - val_accuracy: 0.5256 - val_auc_6: 0.5951 - val_precision_6: 0.5319 - val_recall_6: 0.6250 - val_f1_score: 0.6780 - 7s/epoch - 244ms/step\n",
      "Epoch 5/100\n",
      "29/29 - 7s - loss: 0.5898 - accuracy: 0.7078 - auc_6: 0.7739 - precision_6: 0.7068 - recall_6: 0.6735 - f1_score: 0.6507 - val_loss: 0.9268 - val_accuracy: 0.6026 - val_auc_6: 0.6053 - val_precision_6: 0.5789 - val_recall_6: 0.8250 - val_f1_score: 0.6780 - 7s/epoch - 252ms/step\n",
      "Epoch 6/100\n",
      "29/29 - 7s - loss: 0.5084 - accuracy: 0.7589 - auc_6: 0.8288 - precision_6: 0.7607 - recall_6: 0.7294 - f1_score: 0.6507 - val_loss: 2.8284 - val_accuracy: 0.5128 - val_auc_6: 0.6375 - val_precision_6: 0.5128 - val_recall_6: 1.0000 - val_f1_score: 0.6780 - 7s/epoch - 252ms/step\n",
      "Epoch 7/100\n",
      "29/29 - 7s - loss: 0.5296 - accuracy: 0.7390 - auc_6: 0.8214 - precision_6: 0.7254 - recall_6: 0.7382 - f1_score: 0.6507 - val_loss: 1.1790 - val_accuracy: 0.5513 - val_auc_6: 0.6513 - val_precision_6: 0.5362 - val_recall_6: 0.9250 - val_f1_score: 0.6780 - 7s/epoch - 243ms/step\n",
      "Epoch 8/100\n",
      "29/29 - 8s - loss: 0.4710 - accuracy: 0.7574 - auc_6: 0.8546 - precision_6: 0.7478 - recall_6: 0.7500 - f1_score: 0.6507 - val_loss: 0.9559 - val_accuracy: 0.5128 - val_auc_6: 0.5464 - val_precision_6: 0.5185 - val_recall_6: 0.7000 - val_f1_score: 0.6780 - 8s/epoch - 264ms/step\n",
      "Epoch 9/100\n",
      "29/29 - 8s - loss: 0.4651 - accuracy: 0.7617 - auc_6: 0.8576 - precision_6: 0.7544 - recall_6: 0.7500 - f1_score: 0.6507 - val_loss: 1.2165 - val_accuracy: 0.5513 - val_auc_6: 0.5434 - val_precision_6: 0.7778 - val_recall_6: 0.1750 - val_f1_score: 0.6780 - 8s/epoch - 268ms/step\n",
      "Epoch 10/100\n",
      "29/29 - 7s - loss: 0.4685 - accuracy: 0.7688 - auc_6: 0.8549 - precision_6: 0.7792 - recall_6: 0.7265 - f1_score: 0.6507 - val_loss: 0.9755 - val_accuracy: 0.5513 - val_auc_6: 0.5799 - val_precision_6: 0.5439 - val_recall_6: 0.7750 - val_f1_score: 0.6780 - 7s/epoch - 247ms/step\n",
      "Epoch 11/100\n",
      "29/29 - 7s - loss: 0.4231 - accuracy: 0.8028 - auc_6: 0.8865 - precision_6: 0.8073 - recall_6: 0.7765 - f1_score: 0.6507 - val_loss: 0.8518 - val_accuracy: 0.5769 - val_auc_6: 0.6240 - val_precision_6: 0.6522 - val_recall_6: 0.3750 - val_f1_score: 0.6780 - 7s/epoch - 247ms/step\n",
      "Epoch 12/100\n",
      "29/29 - 7s - loss: 0.4302 - accuracy: 0.8000 - auc_6: 0.8810 - precision_6: 0.8024 - recall_6: 0.7765 - f1_score: 0.6507 - val_loss: 1.5162 - val_accuracy: 0.5000 - val_auc_6: 0.6454 - val_precision_6: 0.5068 - val_recall_6: 0.9250 - val_f1_score: 0.6780 - 7s/epoch - 244ms/step\n",
      "Epoch 13/100\n",
      "29/29 - 7s - loss: 0.4084 - accuracy: 0.8071 - auc_6: 0.8928 - precision_6: 0.7982 - recall_6: 0.8029 - f1_score: 0.6507 - val_loss: 0.9147 - val_accuracy: 0.6154 - val_auc_6: 0.6638 - val_precision_6: 0.7083 - val_recall_6: 0.4250 - val_f1_score: 0.6780 - 7s/epoch - 240ms/step\n",
      "Epoch 14/100\n",
      "29/29 - 7s - loss: 0.4031 - accuracy: 0.8213 - auc_6: 0.8989 - precision_6: 0.8282 - recall_6: 0.7941 - f1_score: 0.6507 - val_loss: 1.1080 - val_accuracy: 0.5769 - val_auc_6: 0.6161 - val_precision_6: 0.5745 - val_recall_6: 0.6750 - val_f1_score: 0.6780 - 7s/epoch - 251ms/step\n",
      "Epoch 15/100\n",
      "29/29 - 8s - loss: 0.3388 - accuracy: 0.8440 - auc_6: 0.9285 - precision_6: 0.8443 - recall_6: 0.8294 - f1_score: 0.6507 - val_loss: 1.7242 - val_accuracy: 0.5641 - val_auc_6: 0.5911 - val_precision_6: 0.5429 - val_recall_6: 0.9500 - val_f1_score: 0.6780 - 8s/epoch - 262ms/step\n",
      "Epoch 16/100\n",
      "29/29 - 7s - loss: 0.3382 - accuracy: 0.8525 - auc_6: 0.9295 - precision_6: 0.8371 - recall_6: 0.8618 - f1_score: 0.6507 - val_loss: 0.9022 - val_accuracy: 0.6538 - val_auc_6: 0.6885 - val_precision_6: 0.7407 - val_recall_6: 0.5000 - val_f1_score: 0.6780 - 7s/epoch - 245ms/step\n",
      "Epoch 17/100\n",
      "29/29 - 7s - loss: 0.3068 - accuracy: 0.8723 - auc_6: 0.9453 - precision_6: 0.8743 - recall_6: 0.8588 - f1_score: 0.6507 - val_loss: 2.3768 - val_accuracy: 0.5000 - val_auc_6: 0.5612 - val_precision_6: 0.5065 - val_recall_6: 0.9750 - val_f1_score: 0.6780 - 7s/epoch - 238ms/step\n",
      "Epoch 18/100\n",
      "29/29 - 8s - loss: 0.3720 - accuracy: 0.8539 - auc_6: 0.9168 - precision_6: 0.8376 - recall_6: 0.8647 - f1_score: 0.6507 - val_loss: 1.0546 - val_accuracy: 0.5641 - val_auc_6: 0.6526 - val_precision_6: 0.6500 - val_recall_6: 0.3250 - val_f1_score: 0.6780 - 8s/epoch - 262ms/step\n",
      "Epoch 19/100\n",
      "29/29 - 7s - loss: 0.3171 - accuracy: 0.8638 - auc_6: 0.9387 - precision_6: 0.8653 - recall_6: 0.8500 - f1_score: 0.6507 - val_loss: 2.0451 - val_accuracy: 0.5128 - val_auc_6: 0.6355 - val_precision_6: 0.5135 - val_recall_6: 0.9500 - val_f1_score: 0.6780 - 7s/epoch - 247ms/step\n",
      "Epoch 20/100\n",
      "29/29 - 7s - loss: 0.3332 - accuracy: 0.8482 - auc_6: 0.9321 - precision_6: 0.8245 - recall_6: 0.8706 - f1_score: 0.6507 - val_loss: 1.1400 - val_accuracy: 0.6026 - val_auc_6: 0.7102 - val_precision_6: 0.7647 - val_recall_6: 0.3250 - val_f1_score: 0.6780 - 7s/epoch - 243ms/step\n",
      "Epoch 21/100\n",
      "29/29 - 7s - loss: 0.2697 - accuracy: 0.8879 - auc_6: 0.9577 - precision_6: 0.8943 - recall_6: 0.8706 - f1_score: 0.6507 - val_loss: 1.3093 - val_accuracy: 0.6410 - val_auc_6: 0.6510 - val_precision_6: 0.6034 - val_recall_6: 0.8750 - val_f1_score: 0.6780 - 7s/epoch - 245ms/step\n",
      "Epoch 22/100\n",
      "29/29 - 8s - loss: 0.2571 - accuracy: 0.8908 - auc_6: 0.9632 - precision_6: 0.8902 - recall_6: 0.8824 - f1_score: 0.6507 - val_loss: 2.0554 - val_accuracy: 0.6026 - val_auc_6: 0.6141 - val_precision_6: 0.5652 - val_recall_6: 0.9750 - val_f1_score: 0.6780 - 8s/epoch - 267ms/step\n",
      "Epoch 23/100\n",
      "29/29 - 7s - loss: 0.2764 - accuracy: 0.8908 - auc_6: 0.9543 - precision_6: 0.8879 - recall_6: 0.8853 - f1_score: 0.6507 - val_loss: 1.1508 - val_accuracy: 0.6026 - val_auc_6: 0.6724 - val_precision_6: 0.6552 - val_recall_6: 0.4750 - val_f1_score: 0.6780 - 7s/epoch - 243ms/step\n",
      "Epoch 24/100\n",
      "29/29 - 8s - loss: 0.2523 - accuracy: 0.9021 - auc_6: 0.9641 - precision_6: 0.9069 - recall_6: 0.8882 - f1_score: 0.6507 - val_loss: 1.1516 - val_accuracy: 0.6923 - val_auc_6: 0.7030 - val_precision_6: 0.6600 - val_recall_6: 0.8250 - val_f1_score: 0.6780 - 8s/epoch - 271ms/step\n",
      "Epoch 25/100\n",
      "29/29 - 7s - loss: 0.2289 - accuracy: 0.9121 - auc_6: 0.9698 - precision_6: 0.9041 - recall_6: 0.9147 - f1_score: 0.6507 - val_loss: 1.1591 - val_accuracy: 0.6667 - val_auc_6: 0.7049 - val_precision_6: 0.7059 - val_recall_6: 0.6000 - val_f1_score: 0.6780 - 7s/epoch - 241ms/step\n",
      "Epoch 26/100\n",
      "29/29 - 7s - loss: 0.1932 - accuracy: 0.9149 - auc_6: 0.9823 - precision_6: 0.9217 - recall_6: 0.9000 - f1_score: 0.6507 - val_loss: 1.2823 - val_accuracy: 0.6282 - val_auc_6: 0.7013 - val_precision_6: 0.6038 - val_recall_6: 0.8000 - val_f1_score: 0.6780 - 7s/epoch - 253ms/step\n",
      "Epoch 27/100\n",
      "29/29 - 7s - loss: 0.1785 - accuracy: 0.9489 - auc_6: 0.9841 - precision_6: 0.9444 - recall_6: 0.9500 - f1_score: 0.6507 - val_loss: 1.5145 - val_accuracy: 0.6026 - val_auc_6: 0.6862 - val_precision_6: 0.5849 - val_recall_6: 0.7750 - val_f1_score: 0.6780 - 7s/epoch - 258ms/step\n",
      "Epoch 28/100\n",
      "29/29 - 8s - loss: 0.1957 - accuracy: 0.9206 - auc_6: 0.9807 - precision_6: 0.9128 - recall_6: 0.9235 - f1_score: 0.6507 - val_loss: 1.2126 - val_accuracy: 0.6667 - val_auc_6: 0.6977 - val_precision_6: 0.6842 - val_recall_6: 0.6500 - val_f1_score: 0.6780 - 8s/epoch - 269ms/step\n",
      "Epoch 29/100\n",
      "29/29 - 7s - loss: 0.1756 - accuracy: 0.9390 - auc_6: 0.9851 - precision_6: 0.9486 - recall_6: 0.9235 - f1_score: 0.6507 - val_loss: 1.8832 - val_accuracy: 0.5641 - val_auc_6: 0.6931 - val_precision_6: 0.5469 - val_recall_6: 0.8750 - val_f1_score: 0.6780 - 7s/epoch - 252ms/step\n",
      "Epoch 30/100\n",
      "29/29 - 7s - loss: 0.2271 - accuracy: 0.9149 - auc_6: 0.9697 - precision_6: 0.9094 - recall_6: 0.9147 - f1_score: 0.6507 - val_loss: 1.5843 - val_accuracy: 0.6026 - val_auc_6: 0.6539 - val_precision_6: 0.5789 - val_recall_6: 0.8250 - val_f1_score: 0.6780 - 7s/epoch - 242ms/step\n",
      "Epoch 31/100\n",
      "29/29 - 7s - loss: 0.1805 - accuracy: 0.9291 - auc_6: 0.9828 - precision_6: 0.9265 - recall_6: 0.9265 - f1_score: 0.6507 - val_loss: 1.2277 - val_accuracy: 0.6538 - val_auc_6: 0.6832 - val_precision_6: 0.6444 - val_recall_6: 0.7250 - val_f1_score: 0.6780 - 7s/epoch - 240ms/step\n",
      "Epoch 32/100\n",
      "29/29 - 7s - loss: 0.1752 - accuracy: 0.9319 - auc_6: 0.9839 - precision_6: 0.9294 - recall_6: 0.9294 - f1_score: 0.6507 - val_loss: 1.1400 - val_accuracy: 0.6795 - val_auc_6: 0.7237 - val_precision_6: 0.6923 - val_recall_6: 0.6750 - val_f1_score: 0.6780 - 7s/epoch - 246ms/step\n",
      "Epoch 33/100\n",
      "29/29 - 7s - loss: 0.1934 - accuracy: 0.9248 - auc_6: 0.9781 - precision_6: 0.9335 - recall_6: 0.9088 - f1_score: 0.6507 - val_loss: 1.5833 - val_accuracy: 0.6667 - val_auc_6: 0.7326 - val_precision_6: 0.6250 - val_recall_6: 0.8750 - val_f1_score: 0.6780 - 7s/epoch - 252ms/step\n",
      "Epoch 34/100\n",
      "29/29 - 7s - loss: 0.1527 - accuracy: 0.9390 - auc_6: 0.9883 - precision_6: 0.9329 - recall_6: 0.9412 - f1_score: 0.6507 - val_loss: 1.1649 - val_accuracy: 0.7051 - val_auc_6: 0.7477 - val_precision_6: 0.7576 - val_recall_6: 0.6250 - val_f1_score: 0.6780 - 7s/epoch - 235ms/step\n",
      "Epoch 35/100\n",
      "29/29 - 7s - loss: 0.1281 - accuracy: 0.9574 - auc_6: 0.9937 - precision_6: 0.9586 - recall_6: 0.9529 - f1_score: 0.6507 - val_loss: 1.3952 - val_accuracy: 0.6154 - val_auc_6: 0.7039 - val_precision_6: 0.5926 - val_recall_6: 0.8000 - val_f1_score: 0.6780 - 7s/epoch - 231ms/step\n",
      "Epoch 36/100\n",
      "29/29 - 7s - loss: 0.1417 - accuracy: 0.9475 - auc_6: 0.9912 - precision_6: 0.9496 - recall_6: 0.9412 - f1_score: 0.6507 - val_loss: 1.7319 - val_accuracy: 0.5897 - val_auc_6: 0.7211 - val_precision_6: 0.5667 - val_recall_6: 0.8500 - val_f1_score: 0.6780 - 7s/epoch - 229ms/step\n",
      "Epoch 37/100\n",
      "29/29 - 7s - loss: 0.1635 - accuracy: 0.9404 - auc_6: 0.9867 - precision_6: 0.9461 - recall_6: 0.9294 - f1_score: 0.6507 - val_loss: 1.2877 - val_accuracy: 0.7051 - val_auc_6: 0.7230 - val_precision_6: 0.7179 - val_recall_6: 0.7000 - val_f1_score: 0.6780 - 7s/epoch - 226ms/step\n",
      "Epoch 38/100\n",
      "29/29 - 7s - loss: 0.1235 - accuracy: 0.9560 - auc_6: 0.9934 - precision_6: 0.9585 - recall_6: 0.9500 - f1_score: 0.6507 - val_loss: 1.2977 - val_accuracy: 0.6923 - val_auc_6: 0.7283 - val_precision_6: 0.6739 - val_recall_6: 0.7750 - val_f1_score: 0.6780 - 7s/epoch - 227ms/step\n",
      "Epoch 39/100\n",
      "29/29 - 7s - loss: 0.1273 - accuracy: 0.9546 - auc_6: 0.9927 - precision_6: 0.9556 - recall_6: 0.9500 - f1_score: 0.6507 - val_loss: 1.3429 - val_accuracy: 0.6795 - val_auc_6: 0.7326 - val_precision_6: 0.6471 - val_recall_6: 0.8250 - val_f1_score: 0.6780 - 7s/epoch - 226ms/step\n",
      "Epoch 40/100\n",
      "29/29 - 7s - loss: 0.1013 - accuracy: 0.9759 - auc_6: 0.9963 - precision_6: 0.9681 - recall_6: 0.9824 - f1_score: 0.6507 - val_loss: 1.3164 - val_accuracy: 0.6795 - val_auc_6: 0.7352 - val_precision_6: 0.6471 - val_recall_6: 0.8250 - val_f1_score: 0.6780 - 7s/epoch - 226ms/step\n",
      "Epoch 41/100\n",
      "29/29 - 7s - loss: 0.0881 - accuracy: 0.9773 - auc_6: 0.9981 - precision_6: 0.9737 - recall_6: 0.9794 - f1_score: 0.6507 - val_loss: 1.3551 - val_accuracy: 0.7051 - val_auc_6: 0.7342 - val_precision_6: 0.7429 - val_recall_6: 0.6500 - val_f1_score: 0.6780 - 7s/epoch - 226ms/step\n",
      "Epoch 42/100\n",
      "29/29 - 7s - loss: 0.0955 - accuracy: 0.9745 - auc_6: 0.9961 - precision_6: 0.9792 - recall_6: 0.9676 - f1_score: 0.6507 - val_loss: 1.5115 - val_accuracy: 0.6923 - val_auc_6: 0.7375 - val_precision_6: 0.6667 - val_recall_6: 0.8000 - val_f1_score: 0.6780 - 7s/epoch - 228ms/step\n",
      "Epoch 43/100\n",
      "29/29 - 7s - loss: 0.1230 - accuracy: 0.9546 - auc_6: 0.9925 - precision_6: 0.9477 - recall_6: 0.9588 - f1_score: 0.6507 - val_loss: 1.9330 - val_accuracy: 0.6154 - val_auc_6: 0.6372 - val_precision_6: 0.6667 - val_recall_6: 0.5000 - val_f1_score: 0.6780 - 7s/epoch - 228ms/step\n",
      "Epoch 44/100\n",
      "29/29 - 7s - loss: 0.1786 - accuracy: 0.9333 - auc_6: 0.9810 - precision_6: 0.9399 - recall_6: 0.9206 - f1_score: 0.6507 - val_loss: 2.0309 - val_accuracy: 0.6538 - val_auc_6: 0.6836 - val_precision_6: 0.6102 - val_recall_6: 0.9000 - val_f1_score: 0.6780 - 7s/epoch - 227ms/step\n",
      "Epoch 45/100\n",
      "29/29 - 7s - loss: 0.1276 - accuracy: 0.9589 - auc_6: 0.9913 - precision_6: 0.9534 - recall_6: 0.9618 - f1_score: 0.6507 - val_loss: 2.2073 - val_accuracy: 0.6282 - val_auc_6: 0.6572 - val_precision_6: 0.5965 - val_recall_6: 0.8500 - val_f1_score: 0.6780 - 7s/epoch - 227ms/step\n",
      "Epoch 46/100\n",
      "29/29 - 7s - loss: 0.1235 - accuracy: 0.9560 - auc_6: 0.9919 - precision_6: 0.9504 - recall_6: 0.9588 - f1_score: 0.6507 - val_loss: 1.5973 - val_accuracy: 0.6154 - val_auc_6: 0.6760 - val_precision_6: 0.5962 - val_recall_6: 0.7750 - val_f1_score: 0.6780 - 7s/epoch - 229ms/step\n",
      "Epoch 47/100\n",
      "29/29 - 7s - loss: 0.1054 - accuracy: 0.9674 - auc_6: 0.9964 - precision_6: 0.9760 - recall_6: 0.9559 - f1_score: 0.6507 - val_loss: 1.4727 - val_accuracy: 0.6923 - val_auc_6: 0.7115 - val_precision_6: 0.6905 - val_recall_6: 0.7250 - val_f1_score: 0.6780 - 7s/epoch - 233ms/step\n",
      "Epoch 48/100\n",
      "29/29 - 7s - loss: 0.1161 - accuracy: 0.9574 - auc_6: 0.9939 - precision_6: 0.9506 - recall_6: 0.9618 - f1_score: 0.6507 - val_loss: 1.6058 - val_accuracy: 0.7051 - val_auc_6: 0.7240 - val_precision_6: 0.7073 - val_recall_6: 0.7250 - val_f1_score: 0.6780 - 7s/epoch - 231ms/step\n",
      "Epoch 49/100\n",
      "29/29 - 7s - loss: 0.0885 - accuracy: 0.9702 - auc_6: 0.9971 - precision_6: 0.9761 - recall_6: 0.9618 - f1_score: 0.6507 - val_loss: 2.4086 - val_accuracy: 0.6154 - val_auc_6: 0.6819 - val_precision_6: 0.5862 - val_recall_6: 0.8500 - val_f1_score: 0.6780 - 7s/epoch - 230ms/step\n",
      "Epoch 50/100\n",
      "29/29 - 7s - loss: 0.0981 - accuracy: 0.9660 - auc_6: 0.9946 - precision_6: 0.9620 - recall_6: 0.9676 - f1_score: 0.6507 - val_loss: 1.6326 - val_accuracy: 0.7179 - val_auc_6: 0.7270 - val_precision_6: 0.6875 - val_recall_6: 0.8250 - val_f1_score: 0.6780 - 7s/epoch - 229ms/step\n",
      "Epoch 51/100\n",
      "29/29 - 7s - loss: 0.0871 - accuracy: 0.9730 - auc_6: 0.9967 - precision_6: 0.9707 - recall_6: 0.9735 - f1_score: 0.6507 - val_loss: 1.4995 - val_accuracy: 0.7436 - val_auc_6: 0.7388 - val_precision_6: 0.7381 - val_recall_6: 0.7750 - val_f1_score: 0.6780 - 7s/epoch - 232ms/step\n",
      "Epoch 52/100\n",
      "29/29 - 7s - loss: 0.0898 - accuracy: 0.9716 - auc_6: 0.9966 - precision_6: 0.9706 - recall_6: 0.9706 - f1_score: 0.6507 - val_loss: 1.6322 - val_accuracy: 0.6923 - val_auc_6: 0.7382 - val_precision_6: 0.6739 - val_recall_6: 0.7750 - val_f1_score: 0.6780 - 7s/epoch - 231ms/step\n",
      "Epoch 53/100\n",
      "29/29 - 7s - loss: 0.0778 - accuracy: 0.9801 - auc_6: 0.9984 - precision_6: 0.9880 - recall_6: 0.9706 - f1_score: 0.6507 - val_loss: 1.6624 - val_accuracy: 0.6410 - val_auc_6: 0.7046 - val_precision_6: 0.6429 - val_recall_6: 0.6750 - val_f1_score: 0.6780 - 7s/epoch - 231ms/step\n",
      "Epoch 54/100\n",
      "29/29 - 7s - loss: 0.0797 - accuracy: 0.9745 - auc_6: 0.9971 - precision_6: 0.9735 - recall_6: 0.9735 - f1_score: 0.6507 - val_loss: 1.4783 - val_accuracy: 0.6923 - val_auc_6: 0.7464 - val_precision_6: 0.7105 - val_recall_6: 0.6750 - val_f1_score: 0.6780 - 7s/epoch - 231ms/step\n",
      "Epoch 55/100\n",
      "29/29 - 7s - loss: 0.0580 - accuracy: 0.9901 - auc_6: 0.9991 - precision_6: 0.9883 - recall_6: 0.9912 - f1_score: 0.6507 - val_loss: 1.6468 - val_accuracy: 0.6154 - val_auc_6: 0.6882 - val_precision_6: 0.6923 - val_recall_6: 0.4500 - val_f1_score: 0.6780 - 7s/epoch - 231ms/step\n",
      "Epoch 56/100\n",
      "29/29 - 7s - loss: 0.1160 - accuracy: 0.9603 - auc_6: 0.9920 - precision_6: 0.9588 - recall_6: 0.9588 - f1_score: 0.6507 - val_loss: 1.8928 - val_accuracy: 0.6154 - val_auc_6: 0.6993 - val_precision_6: 0.6923 - val_recall_6: 0.4500 - val_f1_score: 0.6780 - 7s/epoch - 231ms/step\n",
      "Epoch 57/100\n",
      "29/29 - 7s - loss: 0.1212 - accuracy: 0.9504 - auc_6: 0.9914 - precision_6: 0.9580 - recall_6: 0.9382 - f1_score: 0.6507 - val_loss: 2.2626 - val_accuracy: 0.6154 - val_auc_6: 0.6793 - val_precision_6: 0.5862 - val_recall_6: 0.8500 - val_f1_score: 0.6780 - 7s/epoch - 230ms/step\n",
      "Epoch 58/100\n",
      "29/29 - 7s - loss: 0.1087 - accuracy: 0.9532 - auc_6: 0.9938 - precision_6: 0.9449 - recall_6: 0.9588 - f1_score: 0.6507 - val_loss: 1.5120 - val_accuracy: 0.6538 - val_auc_6: 0.7237 - val_precision_6: 0.6970 - val_recall_6: 0.5750 - val_f1_score: 0.6780 - 7s/epoch - 232ms/step\n",
      "Epoch 59/100\n",
      "29/29 - 7s - loss: 0.0912 - accuracy: 0.9716 - auc_6: 0.9959 - precision_6: 0.9706 - recall_6: 0.9706 - f1_score: 0.6507 - val_loss: 1.5748 - val_accuracy: 0.6923 - val_auc_6: 0.7132 - val_precision_6: 0.6600 - val_recall_6: 0.8250 - val_f1_score: 0.6780 - 7s/epoch - 232ms/step\n",
      "Epoch 60/100\n",
      "29/29 - 7s - loss: 0.1028 - accuracy: 0.9617 - auc_6: 0.9940 - precision_6: 0.9617 - recall_6: 0.9588 - f1_score: 0.6507 - val_loss: 1.8023 - val_accuracy: 0.6667 - val_auc_6: 0.7270 - val_precision_6: 0.6296 - val_recall_6: 0.8500 - val_f1_score: 0.6780 - 7s/epoch - 232ms/step\n",
      "Epoch 61/100\n",
      "29/29 - 7s - loss: 0.0500 - accuracy: 0.9929 - auc_6: 0.9996 - precision_6: 0.9912 - recall_6: 0.9941 - f1_score: 0.6507 - val_loss: 1.4035 - val_accuracy: 0.7051 - val_auc_6: 0.7365 - val_precision_6: 0.7073 - val_recall_6: 0.7250 - val_f1_score: 0.6780 - 7s/epoch - 237ms/step\n"
     ]
    },
    {
     "data": {
      "image/png": "[encoded data removed]",
      "text/plain": [
       "<Figure size 432x288 with 1 Axes>"
      ]
     },
     "metadata": {
      "needs_background": "light"
     },
     "output_type": "display_data"
    },
    {
     "name": "stdout",
     "output_type": "stream",
     "text": [
      "Epoch 1/100\n",
      "29/29 - 9s - loss: 0.7571 - accuracy: 0.5943 - auc_7: 0.6278 - precision_7: 0.5911 - recall_7: 0.5394 - f1_score: 0.6546 - val_loss: 12.4018 - val_accuracy: 0.4744 - val_auc_7: 0.5000 - val_precision_7: 0.4744 - val_recall_7: 1.0000 - val_f1_score: 0.6435 - 9s/epoch - 319ms/step\n",
      "Epoch 2/100\n",
      "29/29 - 7s - loss: 0.7275 - accuracy: 0.6184 - auc_7: 0.6759 - precision_7: 0.6142 - recall_7: 0.5802 - f1_score: 0.6546 - val_loss: 4.3411 - val_accuracy: 0.4744 - val_auc_7: 0.5366 - val_precision_7: 0.4744 - val_recall_7: 1.0000 - val_f1_score: 0.6435 - 7s/epoch - 238ms/step\n",
      "Epoch 3/100\n",
      "29/29 - 7s - loss: 0.6564 - accuracy: 0.6766 - auc_7: 0.7213 - precision_7: 0.6657 - recall_7: 0.6735 - f1_score: 0.6546 - val_loss: 3.1492 - val_accuracy: 0.4744 - val_auc_7: 0.5376 - val_precision_7: 0.4744 - val_recall_7: 1.0000 - val_f1_score: 0.6435 - 7s/epoch - 235ms/step\n",
      "Epoch 4/100\n",
      "29/29 - 7s - loss: 0.5753 - accuracy: 0.7035 - auc_7: 0.7779 - precision_7: 0.7068 - recall_7: 0.6676 - f1_score: 0.6546 - val_loss: 1.5248 - val_accuracy: 0.5256 - val_auc_7: 0.6150 - val_precision_7: 0.5000 - val_recall_7: 0.9189 - val_f1_score: 0.6435 - 7s/epoch - 237ms/step\n",
      "Epoch 5/100\n",
      "29/29 - 7s - loss: 0.5073 - accuracy: 0.7504 - auc_7: 0.8286 - precision_7: 0.7585 - recall_7: 0.7143 - f1_score: 0.6546 - val_loss: 1.5186 - val_accuracy: 0.5256 - val_auc_7: 0.6681 - val_precision_7: 0.5000 - val_recall_7: 1.0000 - val_f1_score: 0.6435 - 7s/epoch - 235ms/step\n",
      "Epoch 6/100\n",
      "29/29 - 7s - loss: 0.5652 - accuracy: 0.7206 - auc_7: 0.7917 - precision_7: 0.7199 - recall_7: 0.6968 - f1_score: 0.6546 - val_loss: 1.4837 - val_accuracy: 0.5641 - val_auc_7: 0.6038 - val_precision_7: 0.8000 - val_recall_7: 0.1081 - val_f1_score: 0.6435 - 7s/epoch - 234ms/step\n",
      "Epoch 7/100\n",
      "29/29 - 7s - loss: 0.5122 - accuracy: 0.7418 - auc_7: 0.8294 - precision_7: 0.7417 - recall_7: 0.7201 - f1_score: 0.6546 - val_loss: 0.7466 - val_accuracy: 0.7051 - val_auc_7: 0.7228 - val_precision_7: 0.8889 - val_recall_7: 0.4324 - val_f1_score: 0.6435 - 7s/epoch - 233ms/step\n",
      "Epoch 8/100\n",
      "29/29 - 7s - loss: 0.4936 - accuracy: 0.7574 - auc_7: 0.8425 - precision_7: 0.7560 - recall_7: 0.7405 - f1_score: 0.6546 - val_loss: 0.6400 - val_accuracy: 0.6154 - val_auc_7: 0.7126 - val_precision_7: 0.5854 - val_recall_7: 0.6486 - val_f1_score: 0.6435 - 7s/epoch - 234ms/step\n",
      "Epoch 9/100\n",
      "29/29 - 7s - loss: 0.4550 - accuracy: 0.7759 - auc_7: 0.8641 - precision_7: 0.7713 - recall_7: 0.7668 - f1_score: 0.6546 - val_loss: 0.5628 - val_accuracy: 0.7051 - val_auc_7: 0.8102 - val_precision_7: 0.6400 - val_recall_7: 0.8649 - val_f1_score: 0.6435 - 7s/epoch - 234ms/step\n",
      "Epoch 10/100\n",
      "29/29 - 7s - loss: 0.4379 - accuracy: 0.7986 - auc_7: 0.8774 - precision_7: 0.8018 - recall_7: 0.7784 - f1_score: 0.6546 - val_loss: 0.8208 - val_accuracy: 0.6282 - val_auc_7: 0.8553 - val_precision_7: 0.5606 - val_recall_7: 1.0000 - val_f1_score: 0.6435 - 7s/epoch - 234ms/step\n",
      "Epoch 11/100\n",
      "29/29 - 7s - loss: 0.3619 - accuracy: 0.8411 - auc_7: 0.9207 - precision_7: 0.8427 - recall_7: 0.8280 - f1_score: 0.6546 - val_loss: 0.5431 - val_accuracy: 0.7179 - val_auc_7: 0.8434 - val_precision_7: 0.6471 - val_recall_7: 0.8919 - val_f1_score: 0.6435 - 7s/epoch - 234ms/step\n",
      "Epoch 12/100\n",
      "29/29 - 7s - loss: 0.4075 - accuracy: 0.8255 - auc_7: 0.8946 - precision_7: 0.8198 - recall_7: 0.8222 - f1_score: 0.6546 - val_loss: 0.5299 - val_accuracy: 0.7308 - val_auc_7: 0.8312 - val_precision_7: 0.7000 - val_recall_7: 0.7568 - val_f1_score: 0.6435 - 7s/epoch - 235ms/step\n",
      "Epoch 13/100\n",
      "29/29 - 7s - loss: 0.3750 - accuracy: 0.8326 - auc_7: 0.9117 - precision_7: 0.8462 - recall_7: 0.8017 - f1_score: 0.6546 - val_loss: 0.6989 - val_accuracy: 0.6923 - val_auc_7: 0.8237 - val_precision_7: 1.0000 - val_recall_7: 0.3514 - val_f1_score: 0.6435 - 7s/epoch - 233ms/step\n",
      "Epoch 14/100\n",
      "29/29 - 7s - loss: 0.3618 - accuracy: 0.8411 - auc_7: 0.9207 - precision_7: 0.8532 - recall_7: 0.8134 - f1_score: 0.6546 - val_loss: 0.5775 - val_accuracy: 0.7051 - val_auc_7: 0.8345 - val_precision_7: 0.6400 - val_recall_7: 0.8649 - val_f1_score: 0.6435 - 7s/epoch - 234ms/step\n",
      "Epoch 15/100\n",
      "29/29 - 7s - loss: 0.3671 - accuracy: 0.8383 - auc_7: 0.9168 - precision_7: 0.8319 - recall_7: 0.8367 - f1_score: 0.6546 - val_loss: 0.8084 - val_accuracy: 0.6282 - val_auc_7: 0.7966 - val_precision_7: 0.5690 - val_recall_7: 0.8919 - val_f1_score: 0.6435 - 7s/epoch - 233ms/step\n",
      "Epoch 16/100\n",
      "29/29 - 7s - loss: 0.3349 - accuracy: 0.8411 - auc_7: 0.9305 - precision_7: 0.8309 - recall_7: 0.8455 - f1_score: 0.6546 - val_loss: 1.0118 - val_accuracy: 0.5641 - val_auc_7: 0.8566 - val_precision_7: 0.5217 - val_recall_7: 0.9730 - val_f1_score: 0.6435 - 7s/epoch - 234ms/step\n",
      "Epoch 17/100\n",
      "29/29 - 7s - loss: 0.3445 - accuracy: 0.8468 - auc_7: 0.9252 - precision_7: 0.8426 - recall_7: 0.8426 - f1_score: 0.6546 - val_loss: 0.9533 - val_accuracy: 0.6923 - val_auc_7: 0.8075 - val_precision_7: 0.6140 - val_recall_7: 0.9459 - val_f1_score: 0.6435 - 7s/epoch - 236ms/step\n",
      "Epoch 18/100\n",
      "29/29 - 7s - loss: 0.3180 - accuracy: 0.8723 - auc_7: 0.9380 - precision_7: 0.8646 - recall_7: 0.8746 - f1_score: 0.6546 - val_loss: 0.3843 - val_accuracy: 0.8590 - val_auc_7: 0.9074 - val_precision_7: 0.8824 - val_recall_7: 0.8108 - val_f1_score: 0.6435 - 7s/epoch - 235ms/step\n",
      "Epoch 19/100\n",
      "29/29 - 7s - loss: 0.2790 - accuracy: 0.8851 - auc_7: 0.9546 - precision_7: 0.8876 - recall_7: 0.8746 - f1_score: 0.6546 - val_loss: 0.5518 - val_accuracy: 0.7179 - val_auc_7: 0.8326 - val_precision_7: 0.7586 - val_recall_7: 0.5946 - val_f1_score: 0.6435 - 7s/epoch - 235ms/step\n",
      "Epoch 20/100\n",
      "29/29 - 7s - loss: 0.2902 - accuracy: 0.8752 - auc_7: 0.9492 - precision_7: 0.8717 - recall_7: 0.8717 - f1_score: 0.6546 - val_loss: 0.4782 - val_accuracy: 0.7821 - val_auc_7: 0.8738 - val_precision_7: 0.8846 - val_recall_7: 0.6216 - val_f1_score: 0.6435 - 7s/epoch - 234ms/step\n",
      "Epoch 21/100\n",
      "29/29 - 7s - loss: 0.2620 - accuracy: 0.8823 - auc_7: 0.9595 - precision_7: 0.8757 - recall_7: 0.8834 - f1_score: 0.6546 - val_loss: 0.4904 - val_accuracy: 0.7692 - val_auc_7: 0.8827 - val_precision_7: 0.6939 - val_recall_7: 0.9189 - val_f1_score: 0.6435 - 7s/epoch - 235ms/step\n",
      "Epoch 22/100\n",
      "29/29 - 7s - loss: 0.2361 - accuracy: 0.9021 - auc_7: 0.9698 - precision_7: 0.9053 - recall_7: 0.8921 - f1_score: 0.6546 - val_loss: 0.4987 - val_accuracy: 0.7692 - val_auc_7: 0.8441 - val_precision_7: 0.7714 - val_recall_7: 0.7297 - val_f1_score: 0.6435 - 7s/epoch - 235ms/step\n",
      "Epoch 23/100\n",
      "29/29 - 7s - loss: 0.2510 - accuracy: 0.8922 - auc_7: 0.9643 - precision_7: 0.8892 - recall_7: 0.8892 - f1_score: 0.6546 - val_loss: 0.9227 - val_accuracy: 0.6667 - val_auc_7: 0.8484 - val_precision_7: 0.5873 - val_recall_7: 1.0000 - val_f1_score: 0.6435 - 7s/epoch - 234ms/step\n",
      "Epoch 24/100\n",
      "29/29 - 7s - loss: 0.2364 - accuracy: 0.9135 - auc_7: 0.9681 - precision_7: 0.9099 - recall_7: 0.9125 - f1_score: 0.6546 - val_loss: 0.8902 - val_accuracy: 0.6538 - val_auc_7: 0.8573 - val_precision_7: 0.5806 - val_recall_7: 0.9730 - val_f1_score: 0.6435 - 7s/epoch - 234ms/step\n",
      "Epoch 25/100\n",
      "29/29 - 7s - loss: 0.2530 - accuracy: 0.8851 - auc_7: 0.9614 - precision_7: 0.8786 - recall_7: 0.8863 - f1_score: 0.6546 - val_loss: 0.4711 - val_accuracy: 0.7821 - val_auc_7: 0.8573 - val_precision_7: 0.8125 - val_recall_7: 0.7027 - val_f1_score: 0.6435 - 7s/epoch - 233ms/step\n",
      "Epoch 26/100\n",
      "29/29 - 7s - loss: 0.1854 - accuracy: 0.9333 - auc_7: 0.9824 - precision_7: 0.9568 - recall_7: 0.9038 - f1_score: 0.6546 - val_loss: 0.8082 - val_accuracy: 0.6538 - val_auc_7: 0.8695 - val_precision_7: 0.5806 - val_recall_7: 0.9730 - val_f1_score: 0.6435 - 7s/epoch - 234ms/step\n",
      "Epoch 27/100\n",
      "29/29 - 7s - loss: 0.1856 - accuracy: 0.9390 - auc_7: 0.9804 - precision_7: 0.9360 - recall_7: 0.9388 - f1_score: 0.6546 - val_loss: 1.0402 - val_accuracy: 0.6282 - val_auc_7: 0.7920 - val_precision_7: 0.5667 - val_recall_7: 0.9189 - val_f1_score: 0.6435 - 7s/epoch - 233ms/step\n",
      "Epoch 28/100\n",
      "29/29 - 7s - loss: 0.2204 - accuracy: 0.9149 - auc_7: 0.9714 - precision_7: 0.9125 - recall_7: 0.9125 - f1_score: 0.6546 - val_loss: 0.7170 - val_accuracy: 0.6282 - val_auc_7: 0.7947 - val_precision_7: 0.5833 - val_recall_7: 0.7568 - val_f1_score: 0.6435 - 7s/epoch - 234ms/step\n",
      "Epoch 29/100\n",
      "29/29 - 7s - loss: 0.1793 - accuracy: 0.9262 - auc_7: 0.9830 - precision_7: 0.9145 - recall_7: 0.9359 - f1_score: 0.6546 - val_loss: 0.7549 - val_accuracy: 0.6538 - val_auc_7: 0.8019 - val_precision_7: 0.6000 - val_recall_7: 0.8108 - val_f1_score: 0.6435 - 7s/epoch - 232ms/step\n",
      "Epoch 30/100\n",
      "29/29 - 7s - loss: 0.1624 - accuracy: 0.9461 - auc_7: 0.9869 - precision_7: 0.9446 - recall_7: 0.9446 - f1_score: 0.6546 - val_loss: 0.7301 - val_accuracy: 0.7692 - val_auc_7: 0.8036 - val_precision_7: 0.8519 - val_recall_7: 0.6216 - val_f1_score: 0.6435 - 7s/epoch - 232ms/step\n",
      "Epoch 31/100\n",
      "29/29 - 7s - loss: 0.1799 - accuracy: 0.9305 - auc_7: 0.9818 - precision_7: 0.9428 - recall_7: 0.9125 - f1_score: 0.6546 - val_loss: 1.0002 - val_accuracy: 0.6667 - val_auc_7: 0.8174 - val_precision_7: 0.5965 - val_recall_7: 0.9189 - val_f1_score: 0.6435 - 7s/epoch - 231ms/step\n",
      "Epoch 32/100\n",
      "29/29 - 7s - loss: 0.1870 - accuracy: 0.9291 - auc_7: 0.9792 - precision_7: 0.9222 - recall_7: 0.9329 - f1_score: 0.6546 - val_loss: 0.6188 - val_accuracy: 0.7564 - val_auc_7: 0.8197 - val_precision_7: 0.7500 - val_recall_7: 0.7297 - val_f1_score: 0.6435 - 7s/epoch - 232ms/step\n",
      "Epoch 33/100\n",
      "29/29 - 7s - loss: 0.1554 - accuracy: 0.9489 - auc_7: 0.9878 - precision_7: 0.9501 - recall_7: 0.9446 - f1_score: 0.6546 - val_loss: 1.9702 - val_accuracy: 0.5256 - val_auc_7: 0.7376 - val_precision_7: 0.5000 - val_recall_7: 1.0000 - val_f1_score: 0.6435 - 7s/epoch - 231ms/step\n",
      "Epoch 34/100\n",
      "29/29 - 7s - loss: 0.1957 - accuracy: 0.9234 - auc_7: 0.9778 - precision_7: 0.9213 - recall_7: 0.9213 - f1_score: 0.6546 - val_loss: 0.6910 - val_accuracy: 0.6923 - val_auc_7: 0.7900 - val_precision_7: 0.6512 - val_recall_7: 0.7568 - val_f1_score: 0.6435 - 7s/epoch - 233ms/step\n",
      "Epoch 35/100\n",
      "29/29 - 7s - loss: 0.1873 - accuracy: 0.9248 - auc_7: 0.9804 - precision_7: 0.9240 - recall_7: 0.9213 - f1_score: 0.6546 - val_loss: 0.6257 - val_accuracy: 0.8077 - val_auc_7: 0.8286 - val_precision_7: 0.8667 - val_recall_7: 0.7027 - val_f1_score: 0.6435 - 7s/epoch - 231ms/step\n",
      "Epoch 36/100\n",
      "29/29 - 7s - loss: 0.1561 - accuracy: 0.9433 - auc_7: 0.9868 - precision_7: 0.9443 - recall_7: 0.9388 - f1_score: 0.6546 - val_loss: 0.4662 - val_accuracy: 0.7692 - val_auc_7: 0.8949 - val_precision_7: 0.7021 - val_recall_7: 0.8919 - val_f1_score: 0.6435 - 7s/epoch - 230ms/step\n",
      "Epoch 37/100\n",
      "29/29 - 7s - loss: 0.1211 - accuracy: 0.9631 - auc_7: 0.9944 - precision_7: 0.9703 - recall_7: 0.9534 - f1_score: 0.6546 - val_loss: 0.9031 - val_accuracy: 0.6795 - val_auc_7: 0.7657 - val_precision_7: 0.8750 - val_recall_7: 0.3784 - val_f1_score: 0.6435 - 7s/epoch - 230ms/step\n",
      "Epoch 38/100\n",
      "29/29 - 7s - loss: 0.1736 - accuracy: 0.9333 - auc_7: 0.9825 - precision_7: 0.9379 - recall_7: 0.9242 - f1_score: 0.6546 - val_loss: 0.7096 - val_accuracy: 0.7179 - val_auc_7: 0.8365 - val_precision_7: 0.6531 - val_recall_7: 0.8649 - val_f1_score: 0.6435 - 7s/epoch - 231ms/step\n",
      "Epoch 39/100\n",
      "29/29 - 7s - loss: 0.1721 - accuracy: 0.9277 - auc_7: 0.9825 - precision_7: 0.9244 - recall_7: 0.9271 - f1_score: 0.6546 - val_loss: 0.5595 - val_accuracy: 0.7179 - val_auc_7: 0.8494 - val_precision_7: 0.6744 - val_recall_7: 0.7838 - val_f1_score: 0.6435 - 7s/epoch - 229ms/step\n",
      "Epoch 40/100\n",
      "29/29 - 7s - loss: 0.1056 - accuracy: 0.9660 - auc_7: 0.9964 - precision_7: 0.9650 - recall_7: 0.9650 - f1_score: 0.6546 - val_loss: 0.8362 - val_accuracy: 0.7564 - val_auc_7: 0.8431 - val_precision_7: 0.9091 - val_recall_7: 0.5405 - val_f1_score: 0.6435 - 7s/epoch - 229ms/step\n",
      "Epoch 41/100\n",
      "29/29 - 7s - loss: 0.1190 - accuracy: 0.9589 - auc_7: 0.9937 - precision_7: 0.9645 - recall_7: 0.9504 - f1_score: 0.6546 - val_loss: 1.9774 - val_accuracy: 0.5641 - val_auc_7: 0.8138 - val_precision_7: 0.5211 - val_recall_7: 1.0000 - val_f1_score: 0.6435 - 7s/epoch - 227ms/step\n",
      "Epoch 42/100\n",
      "29/29 - 7s - loss: 0.2052 - accuracy: 0.9149 - auc_7: 0.9749 - precision_7: 0.9101 - recall_7: 0.9155 - f1_score: 0.6546 - val_loss: 0.5120 - val_accuracy: 0.7949 - val_auc_7: 0.8774 - val_precision_7: 0.8000 - val_recall_7: 0.7568 - val_f1_score: 0.6435 - 7s/epoch - 232ms/step\n",
      "Epoch 43/100\n",
      "29/29 - 7s - loss: 0.1303 - accuracy: 0.9532 - auc_7: 0.9914 - precision_7: 0.9506 - recall_7: 0.9534 - f1_score: 0.6546 - val_loss: 0.5077 - val_accuracy: 0.7949 - val_auc_7: 0.8721 - val_precision_7: 0.7838 - val_recall_7: 0.7838 - val_f1_score: 0.6435 - 7s/epoch - 229ms/step\n",
      "Epoch 44/100\n",
      "29/29 - 7s - loss: 0.1035 - accuracy: 0.9674 - auc_7: 0.9956 - precision_7: 0.9790 - recall_7: 0.9534 - f1_score: 0.6546 - val_loss: 1.2027 - val_accuracy: 0.6282 - val_auc_7: 0.8504 - val_precision_7: 0.5645 - val_recall_7: 0.9459 - val_f1_score: 0.6435 - 7s/epoch - 227ms/step\n",
      "Epoch 45/100\n",
      "29/29 - 7s - loss: 0.1244 - accuracy: 0.9560 - auc_7: 0.9918 - precision_7: 0.9457 - recall_7: 0.9650 - f1_score: 0.6546 - val_loss: 1.3412 - val_accuracy: 0.5897 - val_auc_7: 0.8003 - val_precision_7: 0.5385 - val_recall_7: 0.9459 - val_f1_score: 0.6435 - 7s/epoch - 227ms/step\n",
      "Epoch 46/100\n",
      "29/29 - 7s - loss: 0.0878 - accuracy: 0.9787 - auc_7: 0.9969 - precision_7: 0.9713 - recall_7: 0.9854 - f1_score: 0.6546 - val_loss: 0.7271 - val_accuracy: 0.7949 - val_auc_7: 0.8270 - val_precision_7: 0.8182 - val_recall_7: 0.7297 - val_f1_score: 0.6435 - 7s/epoch - 227ms/step\n",
      "Epoch 47/100\n",
      "29/29 - 7s - loss: 0.1001 - accuracy: 0.9617 - auc_7: 0.9946 - precision_7: 0.9731 - recall_7: 0.9475 - f1_score: 0.6546 - val_loss: 0.9450 - val_accuracy: 0.6923 - val_auc_7: 0.8566 - val_precision_7: 0.6182 - val_recall_7: 0.9189 - val_f1_score: 0.6435 - 7s/epoch - 227ms/step\n",
      "Epoch 48/100\n",
      "29/29 - 7s - loss: 0.0888 - accuracy: 0.9702 - auc_7: 0.9966 - precision_7: 0.9708 - recall_7: 0.9679 - f1_score: 0.6546 - val_loss: 1.1156 - val_accuracy: 0.6282 - val_auc_7: 0.8121 - val_precision_7: 0.5667 - val_recall_7: 0.9189 - val_f1_score: 0.6435 - 7s/epoch - 226ms/step\n",
      "Epoch 49/100\n",
      "29/29 - 7s - loss: 0.1017 - accuracy: 0.9645 - auc_7: 0.9939 - precision_7: 0.9543 - recall_7: 0.9738 - f1_score: 0.6546 - val_loss: 0.7734 - val_accuracy: 0.7179 - val_auc_7: 0.7956 - val_precision_7: 0.7586 - val_recall_7: 0.5946 - val_f1_score: 0.6435 - 7s/epoch - 226ms/step\n",
      "Epoch 50/100\n",
      "29/29 - 7s - loss: 0.1246 - accuracy: 0.9603 - auc_7: 0.9900 - precision_7: 0.9646 - recall_7: 0.9534 - f1_score: 0.6546 - val_loss: 1.6497 - val_accuracy: 0.5513 - val_auc_7: 0.6493 - val_precision_7: 0.5227 - val_recall_7: 0.6216 - val_f1_score: 0.6435 - 7s/epoch - 228ms/step\n",
      "Epoch 51/100\n",
      "29/29 - 7s - loss: 0.1742 - accuracy: 0.9348 - auc_7: 0.9817 - precision_7: 0.9304 - recall_7: 0.9359 - f1_score: 0.6546 - val_loss: 0.6539 - val_accuracy: 0.7179 - val_auc_7: 0.8359 - val_precision_7: 0.7143 - val_recall_7: 0.6757 - val_f1_score: 0.6435 - 7s/epoch - 229ms/step\n",
      "Epoch 52/100\n",
      "29/29 - 7s - loss: 0.1245 - accuracy: 0.9617 - auc_7: 0.9912 - precision_7: 0.9647 - recall_7: 0.9563 - f1_score: 0.6546 - val_loss: 0.6472 - val_accuracy: 0.7179 - val_auc_7: 0.8408 - val_precision_7: 0.6744 - val_recall_7: 0.7838 - val_f1_score: 0.6435 - 7s/epoch - 229ms/step\n",
      "Epoch 53/100\n",
      "29/29 - 7s - loss: 0.1021 - accuracy: 0.9660 - auc_7: 0.9945 - precision_7: 0.9623 - recall_7: 0.9679 - f1_score: 0.6546 - val_loss: 1.3246 - val_accuracy: 0.6538 - val_auc_7: 0.6859 - val_precision_7: 0.8571 - val_recall_7: 0.3243 - val_f1_score: 0.6435 - 7s/epoch - 235ms/step\n",
      "Epoch 54/100\n",
      "29/29 - 7s - loss: 0.1530 - accuracy: 0.9574 - auc_7: 0.9849 - precision_7: 0.9589 - recall_7: 0.9534 - f1_score: 0.6546 - val_loss: 0.8048 - val_accuracy: 0.7564 - val_auc_7: 0.8128 - val_precision_7: 0.7647 - val_recall_7: 0.7027 - val_f1_score: 0.6435 - 7s/epoch - 232ms/step\n",
      "Epoch 55/100\n",
      "29/29 - 7s - loss: 0.0924 - accuracy: 0.9645 - auc_7: 0.9958 - precision_7: 0.9676 - recall_7: 0.9592 - f1_score: 0.6546 - val_loss: 0.7590 - val_accuracy: 0.6667 - val_auc_7: 0.8013 - val_precision_7: 0.6279 - val_recall_7: 0.7297 - val_f1_score: 0.6435 - 7s/epoch - 234ms/step\n",
      "Epoch 56/100\n",
      "29/29 - 7s - loss: 0.0965 - accuracy: 0.9645 - auc_7: 0.9953 - precision_7: 0.9595 - recall_7: 0.9679 - f1_score: 0.6546 - val_loss: 0.9446 - val_accuracy: 0.6538 - val_auc_7: 0.7900 - val_precision_7: 0.6000 - val_recall_7: 0.8108 - val_f1_score: 0.6435 - 7s/epoch - 231ms/step\n",
      "Epoch 57/100\n",
      "29/29 - 7s - loss: 0.0717 - accuracy: 0.9801 - auc_7: 0.9981 - precision_7: 0.9853 - recall_7: 0.9738 - f1_score: 0.6546 - val_loss: 0.6553 - val_accuracy: 0.7436 - val_auc_7: 0.8181 - val_precision_7: 0.7576 - val_recall_7: 0.6757 - val_f1_score: 0.6435 - 7s/epoch - 232ms/step\n",
      "Epoch 58/100\n",
      "29/29 - 7s - loss: 0.0607 - accuracy: 0.9830 - auc_7: 0.9991 - precision_7: 0.9825 - recall_7: 0.9825 - f1_score: 0.6546 - val_loss: 0.7020 - val_accuracy: 0.7692 - val_auc_7: 0.8253 - val_precision_7: 0.8519 - val_recall_7: 0.6216 - val_f1_score: 0.6435 - 7s/epoch - 233ms/step\n",
      "Epoch 59/100\n",
      "29/29 - 7s - loss: 0.0604 - accuracy: 0.9830 - auc_7: 0.9988 - precision_7: 0.9853 - recall_7: 0.9796 - f1_score: 0.6546 - val_loss: 0.8761 - val_accuracy: 0.7821 - val_auc_7: 0.8161 - val_precision_7: 0.9545 - val_recall_7: 0.5676 - val_f1_score: 0.6435 - 7s/epoch - 231ms/step\n",
      "Epoch 60/100\n",
      "29/29 - 7s - loss: 0.0908 - accuracy: 0.9660 - auc_7: 0.9956 - precision_7: 0.9677 - recall_7: 0.9621 - f1_score: 0.6546 - val_loss: 1.1735 - val_accuracy: 0.7436 - val_auc_7: 0.8220 - val_precision_7: 1.0000 - val_recall_7: 0.4595 - val_f1_score: 0.6435 - 7s/epoch - 231ms/step\n",
      "Epoch 61/100\n",
      "29/29 - 7s - loss: 0.0856 - accuracy: 0.9745 - auc_7: 0.9945 - precision_7: 0.9710 - recall_7: 0.9767 - f1_score: 0.6546 - val_loss: 0.7908 - val_accuracy: 0.7821 - val_auc_7: 0.8319 - val_precision_7: 0.8846 - val_recall_7: 0.6216 - val_f1_score: 0.6435 - 7s/epoch - 231ms/step\n",
      "Epoch 62/100\n",
      "29/29 - 7s - loss: 0.0703 - accuracy: 0.9787 - auc_7: 0.9979 - precision_7: 0.9824 - recall_7: 0.9738 - f1_score: 0.6546 - val_loss: 0.7103 - val_accuracy: 0.7051 - val_auc_7: 0.8457 - val_precision_7: 0.6458 - val_recall_7: 0.8378 - val_f1_score: 0.6435 - 7s/epoch - 232ms/step\n",
      "Epoch 63/100\n",
      "29/29 - 7s - loss: 0.0846 - accuracy: 0.9716 - auc_7: 0.9960 - precision_7: 0.9708 - recall_7: 0.9708 - f1_score: 0.6546 - val_loss: 0.5948 - val_accuracy: 0.7692 - val_auc_7: 0.8566 - val_precision_7: 0.7879 - val_recall_7: 0.7027 - val_f1_score: 0.6435 - 7s/epoch - 233ms/step\n",
      "Epoch 64/100\n",
      "29/29 - 7s - loss: 0.0802 - accuracy: 0.9730 - auc_7: 0.9963 - precision_7: 0.9682 - recall_7: 0.9767 - f1_score: 0.6546 - val_loss: 1.3359 - val_accuracy: 0.7436 - val_auc_7: 0.8115 - val_precision_7: 1.0000 - val_recall_7: 0.4595 - val_f1_score: 0.6435 - 7s/epoch - 232ms/step\n",
      "Epoch 65/100\n",
      "29/29 - 7s - loss: 0.0906 - accuracy: 0.9674 - auc_7: 0.9940 - precision_7: 0.9790 - recall_7: 0.9534 - f1_score: 0.6546 - val_loss: 0.6973 - val_accuracy: 0.7308 - val_auc_7: 0.8082 - val_precision_7: 0.7500 - val_recall_7: 0.6486 - val_f1_score: 0.6435 - 7s/epoch - 233ms/step\n",
      "Epoch 66/100\n",
      "29/29 - 7s - loss: 0.0592 - accuracy: 0.9858 - auc_7: 0.9988 - precision_7: 0.9912 - recall_7: 0.9796 - f1_score: 0.6546 - val_loss: 0.6505 - val_accuracy: 0.7051 - val_auc_7: 0.8487 - val_precision_7: 0.6522 - val_recall_7: 0.8108 - val_f1_score: 0.6435 - 7s/epoch - 232ms/step\n",
      "Epoch 67/100\n",
      "29/29 - 7s - loss: 0.0613 - accuracy: 0.9801 - auc_7: 0.9983 - precision_7: 0.9768 - recall_7: 0.9825 - f1_score: 0.6546 - val_loss: 0.6022 - val_accuracy: 0.7436 - val_auc_7: 0.8490 - val_precision_7: 0.7297 - val_recall_7: 0.7297 - val_f1_score: 0.6435 - 7s/epoch - 232ms/step\n",
      "Epoch 68/100\n",
      "29/29 - 7s - loss: 0.0463 - accuracy: 0.9915 - auc_7: 0.9995 - precision_7: 0.9941 - recall_7: 0.9883 - f1_score: 0.6546 - val_loss: 0.6683 - val_accuracy: 0.7564 - val_auc_7: 0.8405 - val_precision_7: 0.7647 - val_recall_7: 0.7027 - val_f1_score: 0.6435 - 7s/epoch - 232ms/step\n"
     ]
    },
    {
     "data": {
      "image/png": "[encoded data removed]",
      "text/plain": [
       "<Figure size 432x288 with 1 Axes>"
      ]
     },
     "metadata": {
      "needs_background": "light"
     },
     "output_type": "display_data"
    },
    {
     "name": "stdout",
     "output_type": "stream",
     "text": [
      "Epoch 1/100\n",
      "29/29 - 10s - loss: 0.8174 - accuracy: 0.5688 - auc_8: 0.5937 - precision_8: 0.5673 - recall_8: 0.5641 - f1_score: 0.6648 - val_loss: 9.1227 - val_accuracy: 0.6282 - val_auc_8: 0.5000 - val_precision_8: 0.0000e+00 - val_recall_8: 0.0000e+00 - val_f1_score: 0.5000 - 10s/epoch - 330ms/step\n",
      "Epoch 2/100\n",
      "29/29 - 7s - loss: 0.6561 - accuracy: 0.6780 - auc_8: 0.7184 - precision_8: 0.6845 - recall_8: 0.6553 - f1_score: 0.6648 - val_loss: 6.7831 - val_accuracy: 0.3718 - val_auc_8: 0.5000 - val_precision_8: 0.3718 - val_recall_8: 1.0000 - val_f1_score: 0.5421 - 7s/epoch - 235ms/step\n",
      "Epoch 3/100\n",
      "29/29 - 7s - loss: 0.6069 - accuracy: 0.6823 - auc_8: 0.7575 - precision_8: 0.6809 - recall_8: 0.6809 - f1_score: 0.6648 - val_loss: 0.8247 - val_accuracy: 0.6795 - val_auc_8: 0.6647 - val_precision_8: 0.7500 - val_recall_8: 0.2069 - val_f1_score: 0.5421 - 7s/epoch - 235ms/step\n",
      "Epoch 4/100\n",
      "29/29 - 7s - loss: 0.6132 - accuracy: 0.6794 - auc_8: 0.7590 - precision_8: 0.6888 - recall_8: 0.6496 - f1_score: 0.6648 - val_loss: 1.5835 - val_accuracy: 0.6282 - val_auc_8: 0.6478 - val_precision_8: 0.0000e+00 - val_recall_8: 0.0000e+00 - val_f1_score: 0.5421 - 7s/epoch - 234ms/step\n",
      "Epoch 5/100\n",
      "29/29 - 7s - loss: 0.5497 - accuracy: 0.7376 - auc_8: 0.8037 - precision_8: 0.7530 - recall_8: 0.7037 - f1_score: 0.6648 - val_loss: 0.7034 - val_accuracy: 0.6795 - val_auc_8: 0.7009 - val_precision_8: 0.5909 - val_recall_8: 0.4483 - val_f1_score: 0.5421 - 7s/epoch - 235ms/step\n",
      "Epoch 6/100\n",
      "29/29 - 7s - loss: 0.5071 - accuracy: 0.7518 - auc_8: 0.8313 - precision_8: 0.7619 - recall_8: 0.7293 - f1_score: 0.6648 - val_loss: 0.6842 - val_accuracy: 0.6923 - val_auc_8: 0.6967 - val_precision_8: 0.5862 - val_recall_8: 0.5862 - val_f1_score: 0.5421 - 7s/epoch - 234ms/step\n",
      "Epoch 7/100\n",
      "29/29 - 7s - loss: 0.5154 - accuracy: 0.7461 - auc_8: 0.8285 - precision_8: 0.7457 - recall_8: 0.7436 - f1_score: 0.6648 - val_loss: 1.1875 - val_accuracy: 0.6282 - val_auc_8: 0.6393 - val_precision_8: 0.0000e+00 - val_recall_8: 0.0000e+00 - val_f1_score: 0.5421 - 7s/epoch - 235ms/step\n",
      "Epoch 8/100\n",
      "29/29 - 7s - loss: 0.4863 - accuracy: 0.7645 - auc_8: 0.8464 - precision_8: 0.7812 - recall_8: 0.7322 - f1_score: 0.6648 - val_loss: 4.0522 - val_accuracy: 0.3718 - val_auc_8: 0.6312 - val_precision_8: 0.3718 - val_recall_8: 1.0000 - val_f1_score: 0.5421 - 7s/epoch - 234ms/step\n",
      "Epoch 9/100\n",
      "29/29 - 7s - loss: 0.5061 - accuracy: 0.7858 - auc_8: 0.8508 - precision_8: 0.7732 - recall_8: 0.8063 - f1_score: 0.6648 - val_loss: 0.8444 - val_accuracy: 0.6282 - val_auc_8: 0.6284 - val_precision_8: 0.5000 - val_recall_8: 0.4483 - val_f1_score: 0.5421 - 7s/epoch - 234ms/step\n",
      "Epoch 10/100\n",
      "29/29 - 7s - loss: 0.4321 - accuracy: 0.7929 - auc_8: 0.8813 - precision_8: 0.7920 - recall_8: 0.7920 - f1_score: 0.6648 - val_loss: 1.1125 - val_accuracy: 0.5513 - val_auc_8: 0.6288 - val_precision_8: 0.4348 - val_recall_8: 0.6897 - val_f1_score: 0.5421 - 7s/epoch - 234ms/step\n",
      "Epoch 11/100\n",
      "29/29 - 7s - loss: 0.4047 - accuracy: 0.8113 - auc_8: 0.8970 - precision_8: 0.8206 - recall_8: 0.7949 - f1_score: 0.6648 - val_loss: 0.9535 - val_accuracy: 0.6282 - val_auc_8: 0.6531 - val_precision_8: 0.5000 - val_recall_8: 0.5862 - val_f1_score: 0.5421 - 7s/epoch - 233ms/step\n",
      "Epoch 12/100\n",
      "29/29 - 7s - loss: 0.3705 - accuracy: 0.8383 - auc_8: 0.9141 - precision_8: 0.8580 - recall_8: 0.8091 - f1_score: 0.6648 - val_loss: 0.8957 - val_accuracy: 0.6410 - val_auc_8: 0.6390 - val_precision_8: 0.5238 - val_recall_8: 0.3793 - val_f1_score: 0.5421 - 7s/epoch - 235ms/step\n",
      "Epoch 13/100\n",
      "29/29 - 7s - loss: 0.3640 - accuracy: 0.8326 - auc_8: 0.9188 - precision_8: 0.8338 - recall_8: 0.8291 - f1_score: 0.6648 - val_loss: 1.1731 - val_accuracy: 0.5128 - val_auc_8: 0.6742 - val_precision_8: 0.4211 - val_recall_8: 0.8276 - val_f1_score: 0.5421 - 7s/epoch - 232ms/step\n",
      "Epoch 14/100\n",
      "29/29 - 7s - loss: 0.3206 - accuracy: 0.8567 - auc_8: 0.9399 - precision_8: 0.8551 - recall_8: 0.8575 - f1_score: 0.6648 - val_loss: 1.2838 - val_accuracy: 0.4744 - val_auc_8: 0.6552 - val_precision_8: 0.4000 - val_recall_8: 0.8276 - val_f1_score: 0.5421 - 7s/epoch - 232ms/step\n",
      "Epoch 15/100\n",
      "29/29 - 7s - loss: 0.3353 - accuracy: 0.8596 - auc_8: 0.9317 - precision_8: 0.8580 - recall_8: 0.8604 - f1_score: 0.6648 - val_loss: 1.5213 - val_accuracy: 0.6154 - val_auc_8: 0.6175 - val_precision_8: 0.0000e+00 - val_recall_8: 0.0000e+00 - val_f1_score: 0.5421 - 7s/epoch - 234ms/step\n",
      "Epoch 16/100\n",
      "29/29 - 7s - loss: 0.3910 - accuracy: 0.8312 - auc_8: 0.9081 - precision_8: 0.8558 - recall_8: 0.7949 - f1_score: 0.6648 - val_loss: 1.0910 - val_accuracy: 0.6538 - val_auc_8: 0.6608 - val_precision_8: 0.6667 - val_recall_8: 0.1379 - val_f1_score: 0.5421 - 7s/epoch - 234ms/step\n",
      "Epoch 17/100\n",
      "29/29 - 7s - loss: 0.3207 - accuracy: 0.8610 - auc_8: 0.9380 - precision_8: 0.8822 - recall_8: 0.8319 - f1_score: 0.6648 - val_loss: 1.0620 - val_accuracy: 0.5513 - val_auc_8: 0.6510 - val_precision_8: 0.4318 - val_recall_8: 0.6552 - val_f1_score: 0.5421 - 7s/epoch - 234ms/step\n",
      "Epoch 18/100\n",
      "29/29 - 7s - loss: 0.2616 - accuracy: 0.8979 - auc_8: 0.9609 - precision_8: 0.8952 - recall_8: 0.9003 - f1_score: 0.6648 - val_loss: 1.1077 - val_accuracy: 0.6026 - val_auc_8: 0.6763 - val_precision_8: 0.4762 - val_recall_8: 0.6897 - val_f1_score: 0.5421 - 7s/epoch - 231ms/step\n",
      "Epoch 19/100\n",
      "29/29 - 7s - loss: 0.3162 - accuracy: 0.8567 - auc_8: 0.9382 - precision_8: 0.8743 - recall_8: 0.8319 - f1_score: 0.6648 - val_loss: 1.2575 - val_accuracy: 0.5256 - val_auc_8: 0.6196 - val_precision_8: 0.4200 - val_recall_8: 0.7241 - val_f1_score: 0.5421 - 7s/epoch - 233ms/step\n",
      "Epoch 20/100\n",
      "29/29 - 7s - loss: 0.2516 - accuracy: 0.9021 - auc_8: 0.9651 - precision_8: 0.9099 - recall_8: 0.8917 - f1_score: 0.6648 - val_loss: 1.7020 - val_accuracy: 0.5000 - val_auc_8: 0.6583 - val_precision_8: 0.4194 - val_recall_8: 0.8966 - val_f1_score: 0.5421 - 7s/epoch - 233ms/step\n",
      "Epoch 21/100\n",
      "29/29 - 7s - loss: 0.2503 - accuracy: 0.8879 - auc_8: 0.9641 - precision_8: 0.8778 - recall_8: 0.9003 - f1_score: 0.6648 - val_loss: 1.3437 - val_accuracy: 0.5385 - val_auc_8: 0.6316 - val_precision_8: 0.4340 - val_recall_8: 0.7931 - val_f1_score: 0.5421 - 7s/epoch - 231ms/step\n",
      "Epoch 22/100\n",
      "29/29 - 7s - loss: 0.2151 - accuracy: 0.9262 - auc_8: 0.9765 - precision_8: 0.9235 - recall_8: 0.9288 - f1_score: 0.6648 - val_loss: 1.4860 - val_accuracy: 0.5641 - val_auc_8: 0.7287 - val_precision_8: 0.4561 - val_recall_8: 0.8966 - val_f1_score: 0.5421 - 7s/epoch - 232ms/step\n",
      "Epoch 23/100\n",
      "29/29 - 7s - loss: 0.2624 - accuracy: 0.8922 - auc_8: 0.9595 - precision_8: 0.8895 - recall_8: 0.8946 - f1_score: 0.6648 - val_loss: 0.8665 - val_accuracy: 0.7179 - val_auc_8: 0.7182 - val_precision_8: 0.6207 - val_recall_8: 0.6207 - val_f1_score: 0.5421 - 7s/epoch - 229ms/step\n",
      "Epoch 24/100\n",
      "29/29 - 7s - loss: 0.2099 - accuracy: 0.9092 - auc_8: 0.9772 - precision_8: 0.9184 - recall_8: 0.8974 - f1_score: 0.6648 - val_loss: 2.3959 - val_accuracy: 0.4359 - val_auc_8: 0.6956 - val_precision_8: 0.3944 - val_recall_8: 0.9655 - val_f1_score: 0.5421 - 7s/epoch - 229ms/step\n",
      "Epoch 25/100\n",
      "29/29 - 7s - loss: 0.2270 - accuracy: 0.9149 - auc_8: 0.9696 - precision_8: 0.9030 - recall_8: 0.9288 - f1_score: 0.6648 - val_loss: 0.9635 - val_accuracy: 0.6795 - val_auc_8: 0.6977 - val_precision_8: 0.5909 - val_recall_8: 0.4483 - val_f1_score: 0.5421 - 7s/epoch - 231ms/step\n",
      "Epoch 26/100\n",
      "29/29 - 7s - loss: 0.1782 - accuracy: 0.9333 - auc_8: 0.9849 - precision_8: 0.9497 - recall_8: 0.9145 - f1_score: 0.6648 - val_loss: 1.2514 - val_accuracy: 0.5769 - val_auc_8: 0.6847 - val_precision_8: 0.4565 - val_recall_8: 0.7241 - val_f1_score: 0.5421 - 7s/epoch - 229ms/step\n",
      "Epoch 27/100\n",
      "29/29 - 7s - loss: 0.1549 - accuracy: 0.9546 - auc_8: 0.9897 - precision_8: 0.9623 - recall_8: 0.9459 - f1_score: 0.6648 - val_loss: 1.2943 - val_accuracy: 0.5641 - val_auc_8: 0.7238 - val_precision_8: 0.4545 - val_recall_8: 0.8621 - val_f1_score: 0.5421 - 7s/epoch - 231ms/step\n",
      "Epoch 28/100\n",
      "29/29 - 7s - loss: 0.1663 - accuracy: 0.9305 - auc_8: 0.9863 - precision_8: 0.9242 - recall_8: 0.9373 - f1_score: 0.6648 - val_loss: 1.1391 - val_accuracy: 0.5641 - val_auc_8: 0.5992 - val_precision_8: 0.2727 - val_recall_8: 0.1034 - val_f1_score: 0.5421 - 7s/epoch - 231ms/step\n",
      "Epoch 29/100\n",
      "29/29 - 7s - loss: 0.1737 - accuracy: 0.9348 - auc_8: 0.9841 - precision_8: 0.9395 - recall_8: 0.9288 - f1_score: 0.6648 - val_loss: 1.8670 - val_accuracy: 0.5128 - val_auc_8: 0.6731 - val_precision_8: 0.4286 - val_recall_8: 0.9310 - val_f1_score: 0.5421 - 7s/epoch - 237ms/step\n",
      "Epoch 30/100\n",
      "29/29 - 7s - loss: 0.1629 - accuracy: 0.9362 - auc_8: 0.9856 - precision_8: 0.9322 - recall_8: 0.9402 - f1_score: 0.6648 - val_loss: 1.7328 - val_accuracy: 0.4359 - val_auc_8: 0.6590 - val_precision_8: 0.3846 - val_recall_8: 0.8621 - val_f1_score: 0.5421 - 7s/epoch - 230ms/step\n",
      "Epoch 31/100\n",
      "29/29 - 7s - loss: 0.1471 - accuracy: 0.9560 - auc_8: 0.9901 - precision_8: 0.9545 - recall_8: 0.9573 - f1_score: 0.6648 - val_loss: 1.5918 - val_accuracy: 0.5641 - val_auc_8: 0.6580 - val_precision_8: 0.4490 - val_recall_8: 0.7586 - val_f1_score: 0.5421 - 7s/epoch - 230ms/step\n",
      "Epoch 32/100\n",
      "29/29 - 7s - loss: 0.1356 - accuracy: 0.9560 - auc_8: 0.9921 - precision_8: 0.9545 - recall_8: 0.9573 - f1_score: 0.6648 - val_loss: 1.1360 - val_accuracy: 0.6667 - val_auc_8: 0.6647 - val_precision_8: 0.5556 - val_recall_8: 0.5172 - val_f1_score: 0.5421 - 7s/epoch - 229ms/step\n",
      "Epoch 33/100\n",
      "29/29 - 7s - loss: 0.1394 - accuracy: 0.9489 - auc_8: 0.9903 - precision_8: 0.9513 - recall_8: 0.9459 - f1_score: 0.6648 - val_loss: 1.6897 - val_accuracy: 0.5128 - val_auc_8: 0.6365 - val_precision_8: 0.4211 - val_recall_8: 0.8276 - val_f1_score: 0.5421 - 7s/epoch - 230ms/step\n",
      "Epoch 34/100\n",
      "29/29 - 7s - loss: 0.1593 - accuracy: 0.9418 - auc_8: 0.9861 - precision_8: 0.9306 - recall_8: 0.9544 - f1_score: 0.6648 - val_loss: 1.0585 - val_accuracy: 0.6282 - val_auc_8: 0.6253 - val_precision_8: 0.5000 - val_recall_8: 0.4138 - val_f1_score: 0.5421 - 7s/epoch - 231ms/step\n",
      "Epoch 35/100\n",
      "29/29 - 7s - loss: 0.1347 - accuracy: 0.9376 - auc_8: 0.9913 - precision_8: 0.9582 - recall_8: 0.9145 - f1_score: 0.6648 - val_loss: 2.0908 - val_accuracy: 0.6410 - val_auc_8: 0.5869 - val_precision_8: 0.6000 - val_recall_8: 0.1034 - val_f1_score: 0.5421 - 7s/epoch - 231ms/step\n",
      "Epoch 36/100\n",
      "29/29 - 7s - loss: 0.1738 - accuracy: 0.9376 - auc_8: 0.9824 - precision_8: 0.9501 - recall_8: 0.9231 - f1_score: 0.6648 - val_loss: 1.3715 - val_accuracy: 0.5000 - val_auc_8: 0.6207 - val_precision_8: 0.4000 - val_recall_8: 0.6897 - val_f1_score: 0.5421 - 7s/epoch - 229ms/step\n",
      "Epoch 37/100\n",
      "29/29 - 7s - loss: 0.1426 - accuracy: 0.9518 - auc_8: 0.9890 - precision_8: 0.9542 - recall_8: 0.9487 - f1_score: 0.6648 - val_loss: 1.3981 - val_accuracy: 0.5385 - val_auc_8: 0.5939 - val_precision_8: 0.4255 - val_recall_8: 0.6897 - val_f1_score: 0.5421 - 7s/epoch - 230ms/step\n",
      "Epoch 38/100\n",
      "29/29 - 7s - loss: 0.1339 - accuracy: 0.9603 - auc_8: 0.9886 - precision_8: 0.9575 - recall_8: 0.9630 - f1_score: 0.6648 - val_loss: 1.4055 - val_accuracy: 0.5769 - val_auc_8: 0.6703 - val_precision_8: 0.4615 - val_recall_8: 0.8276 - val_f1_score: 0.5421 - 7s/epoch - 231ms/step\n",
      "Epoch 39/100\n",
      "29/29 - 7s - loss: 0.1363 - accuracy: 0.9560 - auc_8: 0.9907 - precision_8: 0.9494 - recall_8: 0.9630 - f1_score: 0.6648 - val_loss: 2.1341 - val_accuracy: 0.4872 - val_auc_8: 0.7083 - val_precision_8: 0.4154 - val_recall_8: 0.9310 - val_f1_score: 0.5421 - 7s/epoch - 233ms/step\n",
      "Epoch 40/100\n",
      "29/29 - 7s - loss: 0.1486 - accuracy: 0.9404 - auc_8: 0.9876 - precision_8: 0.9328 - recall_8: 0.9487 - f1_score: 0.6648 - val_loss: 1.2276 - val_accuracy: 0.6026 - val_auc_8: 0.6756 - val_precision_8: 0.4750 - val_recall_8: 0.6552 - val_f1_score: 0.5421 - 7s/epoch - 233ms/step\n",
      "Epoch 41/100\n",
      "29/29 - 7s - loss: 0.0962 - accuracy: 0.9773 - auc_8: 0.9967 - precision_8: 0.9799 - recall_8: 0.9744 - f1_score: 0.6648 - val_loss: 1.4457 - val_accuracy: 0.5256 - val_auc_8: 0.6112 - val_precision_8: 0.4167 - val_recall_8: 0.6897 - val_f1_score: 0.5421 - 7s/epoch - 232ms/step\n",
      "Epoch 42/100\n",
      "29/29 - 7s - loss: 0.0923 - accuracy: 0.9660 - auc_8: 0.9969 - precision_8: 0.9606 - recall_8: 0.9715 - f1_score: 0.6648 - val_loss: 1.1675 - val_accuracy: 0.6923 - val_auc_8: 0.6636 - val_precision_8: 0.5714 - val_recall_8: 0.6897 - val_f1_score: 0.5421 - 7s/epoch - 234ms/step\n",
      "Epoch 43/100\n",
      "29/29 - 7s - loss: 0.0780 - accuracy: 0.9773 - auc_8: 0.9981 - precision_8: 0.9772 - recall_8: 0.9772 - f1_score: 0.6648 - val_loss: 1.5955 - val_accuracy: 0.5128 - val_auc_8: 0.6080 - val_precision_8: 0.4151 - val_recall_8: 0.7586 - val_f1_score: 0.5421 - 7s/epoch - 233ms/step\n",
      "Epoch 44/100\n",
      "29/29 - 7s - loss: 0.0923 - accuracy: 0.9702 - auc_8: 0.9967 - precision_8: 0.9688 - recall_8: 0.9715 - f1_score: 0.6648 - val_loss: 1.3058 - val_accuracy: 0.6410 - val_auc_8: 0.6232 - val_precision_8: 0.5116 - val_recall_8: 0.7586 - val_f1_score: 0.5421 - 7s/epoch - 233ms/step\n",
      "Epoch 45/100\n",
      "29/29 - 7s - loss: 0.1322 - accuracy: 0.9518 - auc_8: 0.9901 - precision_8: 0.9542 - recall_8: 0.9487 - f1_score: 0.6648 - val_loss: 1.4088 - val_accuracy: 0.6667 - val_auc_8: 0.6594 - val_precision_8: 0.6000 - val_recall_8: 0.3103 - val_f1_score: 0.5421 - 7s/epoch - 233ms/step\n",
      "Epoch 46/100\n",
      "29/29 - 7s - loss: 0.1376 - accuracy: 0.9560 - auc_8: 0.9884 - precision_8: 0.9624 - recall_8: 0.9487 - f1_score: 0.6654 - val_loss: 1.4736 - val_accuracy: 0.5641 - val_auc_8: 0.6217 - val_precision_8: 0.4359 - val_recall_8: 0.5862 - val_f1_score: 0.5421 - 7s/epoch - 234ms/step\n",
      "Epoch 47/100\n",
      "29/29 - 7s - loss: 0.0974 - accuracy: 0.9660 - auc_8: 0.9956 - precision_8: 0.9739 - recall_8: 0.9573 - f1_score: 0.6648 - val_loss: 1.4851 - val_accuracy: 0.6026 - val_auc_8: 0.6520 - val_precision_8: 0.4762 - val_recall_8: 0.6897 - val_f1_score: 0.5421 - 7s/epoch - 233ms/step\n",
      "Epoch 48/100\n",
      "29/29 - 7s - loss: 0.0890 - accuracy: 0.9688 - auc_8: 0.9968 - precision_8: 0.9660 - recall_8: 0.9715 - f1_score: 0.6648 - val_loss: 1.2298 - val_accuracy: 0.6410 - val_auc_8: 0.6879 - val_precision_8: 0.5172 - val_recall_8: 0.5172 - val_f1_score: 0.5421 - 7s/epoch - 233ms/step\n",
      "Epoch 49/100\n",
      "29/29 - 7s - loss: 0.1081 - accuracy: 0.9574 - auc_8: 0.9935 - precision_8: 0.9599 - recall_8: 0.9544 - f1_score: 0.6654 - val_loss: 1.3750 - val_accuracy: 0.6410 - val_auc_8: 0.6847 - val_precision_8: 0.5135 - val_recall_8: 0.6552 - val_f1_score: 0.5421 - 7s/epoch - 233ms/step\n",
      "Epoch 50/100\n",
      "29/29 - 7s - loss: 0.1099 - accuracy: 0.9603 - auc_8: 0.9935 - precision_8: 0.9628 - recall_8: 0.9573 - f1_score: 0.6648 - val_loss: 1.1120 - val_accuracy: 0.6538 - val_auc_8: 0.7262 - val_precision_8: 0.5278 - val_recall_8: 0.6552 - val_f1_score: 0.5421 - 7s/epoch - 230ms/step\n",
      "Epoch 51/100\n",
      "29/29 - 7s - loss: 0.1056 - accuracy: 0.9674 - auc_8: 0.9945 - precision_8: 0.9740 - recall_8: 0.9601 - f1_score: 0.6648 - val_loss: 1.3937 - val_accuracy: 0.6154 - val_auc_8: 0.6897 - val_precision_8: 0.4878 - val_recall_8: 0.6897 - val_f1_score: 0.5421 - 7s/epoch - 230ms/step\n",
      "Epoch 52/100\n",
      "29/29 - 7s - loss: 0.0606 - accuracy: 0.9872 - auc_8: 0.9989 - precision_8: 0.9914 - recall_8: 0.9829 - f1_score: 0.6648 - val_loss: 1.1684 - val_accuracy: 0.6410 - val_auc_8: 0.7065 - val_precision_8: 0.5161 - val_recall_8: 0.5517 - val_f1_score: 0.5421 - 7s/epoch - 232ms/step\n",
      "Epoch 53/100\n",
      "29/29 - 7s - loss: 0.0646 - accuracy: 0.9816 - auc_8: 0.9982 - precision_8: 0.9801 - recall_8: 0.9829 - f1_score: 0.6648 - val_loss: 1.4498 - val_accuracy: 0.6026 - val_auc_8: 0.6443 - val_precision_8: 0.4722 - val_recall_8: 0.5862 - val_f1_score: 0.5421 - 7s/epoch - 234ms/step\n",
      "Epoch 54/100\n",
      "29/29 - 7s - loss: 0.0782 - accuracy: 0.9787 - auc_8: 0.9972 - precision_8: 0.9828 - recall_8: 0.9744 - f1_score: 0.6648 - val_loss: 1.3079 - val_accuracy: 0.6923 - val_auc_8: 0.6886 - val_precision_8: 0.6000 - val_recall_8: 0.5172 - val_f1_score: 0.5421 - 7s/epoch - 233ms/step\n",
      "Epoch 55/100\n",
      "29/29 - 7s - loss: 0.1043 - accuracy: 0.9660 - auc_8: 0.9931 - precision_8: 0.9739 - recall_8: 0.9573 - f1_score: 0.6648 - val_loss: 1.5709 - val_accuracy: 0.5769 - val_auc_8: 0.6682 - val_precision_8: 0.4565 - val_recall_8: 0.7241 - val_f1_score: 0.5421 - 7s/epoch - 234ms/step\n",
      "Epoch 56/100\n",
      "29/29 - 7s - loss: 0.1039 - accuracy: 0.9688 - auc_8: 0.9938 - precision_8: 0.9741 - recall_8: 0.9630 - f1_score: 0.6648 - val_loss: 2.0861 - val_accuracy: 0.4487 - val_auc_8: 0.6284 - val_precision_8: 0.3833 - val_recall_8: 0.7931 - val_f1_score: 0.5421 - 7s/epoch - 234ms/step\n"
     ]
    },
    {
     "data": {
      "image/png": "[encoded data removed]",
      "text/plain": [
       "<Figure size 432x288 with 1 Axes>"
      ]
     },
     "metadata": {
      "needs_background": "light"
     },
     "output_type": "display_data"
    },
    {
     "name": "stdout",
     "output_type": "stream",
     "text": [
      "Epoch 1/100\n",
      "29/29 - 9s - loss: 0.8060 - accuracy: 0.5745 - auc_9: 0.5992 - precision_9: 0.5667 - recall_9: 0.5436 - f1_score: 0.6559 - val_loss: 5.8733 - val_accuracy: 0.4615 - val_auc_9: 0.5000 - val_precision_9: 0.4615 - val_recall_9: 1.0000 - val_f1_score: 0.6316 - 9s/epoch - 318ms/step\n",
      "Epoch 2/100\n",
      "29/29 - 7s - loss: 0.6755 - accuracy: 0.6411 - auc_9: 0.6931 - precision_9: 0.6282 - recall_9: 0.6483 - f1_score: 0.6559 - val_loss: 0.9827 - val_accuracy: 0.5769 - val_auc_9: 0.5552 - val_precision_9: 0.5517 - val_recall_9: 0.4444 - val_f1_score: 0.6316 - 7s/epoch - 235ms/step\n",
      "Epoch 3/100\n",
      "29/29 - 7s - loss: 0.6512 - accuracy: 0.6667 - auc_9: 0.7248 - precision_9: 0.6708 - recall_9: 0.6221 - f1_score: 0.6559 - val_loss: 1.4795 - val_accuracy: 0.4359 - val_auc_9: 0.6237 - val_precision_9: 0.4459 - val_recall_9: 0.9167 - val_f1_score: 0.6316 - 7s/epoch - 235ms/step\n",
      "Epoch 4/100\n",
      "29/29 - 7s - loss: 0.6603 - accuracy: 0.6610 - auc_9: 0.7235 - precision_9: 0.6549 - recall_9: 0.6453 - f1_score: 0.6559 - val_loss: 1.5808 - val_accuracy: 0.4487 - val_auc_9: 0.6452 - val_precision_9: 0.4533 - val_recall_9: 0.9444 - val_f1_score: 0.6316 - 7s/epoch - 235ms/step\n",
      "Epoch 5/100\n",
      "29/29 - 7s - loss: 0.5487 - accuracy: 0.7149 - auc_9: 0.7966 - precision_9: 0.7109 - recall_9: 0.7006 - f1_score: 0.6559 - val_loss: 2.0634 - val_accuracy: 0.4615 - val_auc_9: 0.6882 - val_precision_9: 0.4615 - val_recall_9: 1.0000 - val_f1_score: 0.6316 - 7s/epoch - 235ms/step\n",
      "Epoch 6/100\n",
      "29/29 - 7s - loss: 0.5288 - accuracy: 0.7461 - auc_9: 0.8130 - precision_9: 0.7477 - recall_9: 0.7238 - f1_score: 0.6559 - val_loss: 2.0421 - val_accuracy: 0.4615 - val_auc_9: 0.7176 - val_precision_9: 0.4615 - val_recall_9: 1.0000 - val_f1_score: 0.6316 - 7s/epoch - 237ms/step\n",
      "Epoch 7/100\n",
      "29/29 - 7s - loss: 0.5632 - accuracy: 0.7106 - auc_9: 0.7984 - precision_9: 0.6955 - recall_9: 0.7238 - f1_score: 0.6559 - val_loss: 0.8614 - val_accuracy: 0.5513 - val_auc_9: 0.6882 - val_precision_9: 0.5082 - val_recall_9: 0.8611 - val_f1_score: 0.6316 - 7s/epoch - 235ms/step\n",
      "Epoch 8/100\n",
      "29/29 - 7s - loss: 0.5052 - accuracy: 0.7716 - auc_9: 0.8345 - precision_9: 0.7683 - recall_9: 0.7616 - f1_score: 0.6559 - val_loss: 0.7237 - val_accuracy: 0.6410 - val_auc_9: 0.6610 - val_precision_9: 0.6538 - val_recall_9: 0.4722 - val_f1_score: 0.6316 - 7s/epoch - 235ms/step\n",
      "Epoch 9/100\n",
      "29/29 - 7s - loss: 0.4649 - accuracy: 0.7872 - auc_9: 0.8620 - precision_9: 0.7887 - recall_9: 0.7703 - f1_score: 0.6559 - val_loss: 1.7734 - val_accuracy: 0.4615 - val_auc_9: 0.7725 - val_precision_9: 0.4615 - val_recall_9: 1.0000 - val_f1_score: 0.6316 - 7s/epoch - 231ms/step\n",
      "Epoch 10/100\n",
      "29/29 - 7s - loss: 0.4979 - accuracy: 0.7660 - auc_9: 0.8444 - precision_9: 0.7656 - recall_9: 0.7500 - f1_score: 0.6559 - val_loss: 0.9353 - val_accuracy: 0.5128 - val_auc_9: 0.7900 - val_precision_9: 0.4865 - val_recall_9: 1.0000 - val_f1_score: 0.6316 - 7s/epoch - 235ms/step\n",
      "Epoch 11/100\n",
      "29/29 - 7s - loss: 0.4305 - accuracy: 0.7957 - auc_9: 0.8811 - precision_9: 0.7976 - recall_9: 0.7791 - f1_score: 0.6559 - val_loss: 0.6029 - val_accuracy: 0.6923 - val_auc_9: 0.8112 - val_precision_9: 0.6250 - val_recall_9: 0.8333 - val_f1_score: 0.6316 - 7s/epoch - 236ms/step\n",
      "Epoch 12/100\n",
      "29/29 - 7s - loss: 0.4301 - accuracy: 0.8014 - auc_9: 0.8800 - precision_9: 0.8000 - recall_9: 0.7907 - f1_score: 0.6559 - val_loss: 0.5370 - val_accuracy: 0.7692 - val_auc_9: 0.8089 - val_precision_9: 0.7250 - val_recall_9: 0.8056 - val_f1_score: 0.6316 - 7s/epoch - 236ms/step\n",
      "Epoch 13/100\n",
      "29/29 - 7s - loss: 0.3677 - accuracy: 0.8312 - auc_9: 0.9178 - precision_9: 0.8242 - recall_9: 0.8314 - f1_score: 0.6559 - val_loss: 1.7432 - val_accuracy: 0.4744 - val_auc_9: 0.6908 - val_precision_9: 0.4675 - val_recall_9: 1.0000 - val_f1_score: 0.6316 - 7s/epoch - 236ms/step\n",
      "Epoch 14/100\n",
      "29/29 - 7s - loss: 0.4464 - accuracy: 0.7957 - auc_9: 0.8774 - precision_9: 0.7809 - recall_9: 0.8081 - f1_score: 0.6559 - val_loss: 1.1828 - val_accuracy: 0.5128 - val_auc_9: 0.7679 - val_precision_9: 0.4865 - val_recall_9: 1.0000 - val_f1_score: 0.6316 - 7s/epoch - 235ms/step\n",
      "Epoch 15/100\n",
      "29/29 - 7s - loss: 0.3709 - accuracy: 0.8383 - auc_9: 0.9145 - precision_9: 0.8324 - recall_9: 0.8372 - f1_score: 0.6559 - val_loss: 1.0718 - val_accuracy: 0.4872 - val_auc_9: 0.6888 - val_precision_9: 0.4697 - val_recall_9: 0.8611 - val_f1_score: 0.6316 - 7s/epoch - 235ms/step\n",
      "Epoch 16/100\n",
      "29/29 - 7s - loss: 0.3414 - accuracy: 0.8553 - auc_9: 0.9314 - precision_9: 0.8580 - recall_9: 0.8430 - f1_score: 0.6559 - val_loss: 1.0338 - val_accuracy: 0.5641 - val_auc_9: 0.7672 - val_precision_9: 0.5143 - val_recall_9: 1.0000 - val_f1_score: 0.6316 - 7s/epoch - 235ms/step\n",
      "Epoch 17/100\n",
      "29/29 - 7s - loss: 0.3589 - accuracy: 0.8355 - auc_9: 0.9183 - precision_9: 0.8434 - recall_9: 0.8140 - f1_score: 0.6559 - val_loss: 0.8626 - val_accuracy: 0.5769 - val_auc_9: 0.6729 - val_precision_9: 0.5283 - val_recall_9: 0.7778 - val_f1_score: 0.6316 - 7s/epoch - 238ms/step\n",
      "Epoch 18/100\n",
      "29/29 - 7s - loss: 0.3225 - accuracy: 0.8681 - auc_9: 0.9387 - precision_9: 0.8724 - recall_9: 0.8547 - f1_score: 0.6559 - val_loss: 0.6257 - val_accuracy: 0.7436 - val_auc_9: 0.7841 - val_precision_9: 0.7667 - val_recall_9: 0.6389 - val_f1_score: 0.6316 - 7s/epoch - 237ms/step\n",
      "Epoch 19/100\n",
      "29/29 - 7s - loss: 0.3140 - accuracy: 0.8610 - auc_9: 0.9400 - precision_9: 0.8661 - recall_9: 0.8459 - f1_score: 0.6559 - val_loss: 0.6596 - val_accuracy: 0.7051 - val_auc_9: 0.7884 - val_precision_9: 0.6512 - val_recall_9: 0.7778 - val_f1_score: 0.6316 - 7s/epoch - 234ms/step\n",
      "Epoch 20/100\n",
      "29/29 - 7s - loss: 0.2748 - accuracy: 0.8865 - auc_9: 0.9570 - precision_9: 0.8882 - recall_9: 0.8779 - f1_score: 0.6559 - val_loss: 0.7641 - val_accuracy: 0.6154 - val_auc_9: 0.7523 - val_precision_9: 0.5625 - val_recall_9: 0.7500 - val_f1_score: 0.6316 - 7s/epoch - 232ms/step\n",
      "Epoch 21/100\n",
      "29/29 - 7s - loss: 0.2941 - accuracy: 0.8794 - auc_9: 0.9489 - precision_9: 0.8776 - recall_9: 0.8750 - f1_score: 0.6559 - val_loss: 0.6136 - val_accuracy: 0.7051 - val_auc_9: 0.7854 - val_precision_9: 0.6667 - val_recall_9: 0.7222 - val_f1_score: 0.6316 - 7s/epoch - 231ms/step\n",
      "Epoch 22/100\n",
      "29/29 - 6s - loss: 0.2277 - accuracy: 0.8993 - auc_9: 0.9729 - precision_9: 0.9027 - recall_9: 0.8895 - f1_score: 0.6559 - val_loss: 0.6884 - val_accuracy: 0.7308 - val_auc_9: 0.7824 - val_precision_9: 0.7586 - val_recall_9: 0.6111 - val_f1_score: 0.6316 - 6s/epoch - 219ms/step\n",
      "Epoch 23/100\n",
      "29/29 - 6s - loss: 0.2667 - accuracy: 0.8908 - auc_9: 0.9591 - precision_9: 0.8825 - recall_9: 0.8953 - f1_score: 0.6559 - val_loss: 1.5464 - val_accuracy: 0.5128 - val_auc_9: 0.7427 - val_precision_9: 0.4857 - val_recall_9: 0.9444 - val_f1_score: 0.6316 - 6s/epoch - 219ms/step\n",
      "Epoch 24/100\n",
      "29/29 - 6s - loss: 0.2614 - accuracy: 0.8936 - auc_9: 0.9593 - precision_9: 0.8854 - recall_9: 0.8983 - f1_score: 0.6559 - val_loss: 0.6197 - val_accuracy: 0.7949 - val_auc_9: 0.7963 - val_precision_9: 0.8333 - val_recall_9: 0.6944 - val_f1_score: 0.6316 - 6s/epoch - 217ms/step\n",
      "Epoch 25/100\n",
      "29/29 - 6s - loss: 0.2377 - accuracy: 0.8950 - auc_9: 0.9684 - precision_9: 0.9018 - recall_9: 0.8808 - f1_score: 0.6559 - val_loss: 0.7698 - val_accuracy: 0.7692 - val_auc_9: 0.7864 - val_precision_9: 0.9091 - val_recall_9: 0.5556 - val_f1_score: 0.6316 - 6s/epoch - 218ms/step\n",
      "Epoch 26/100\n",
      "29/29 - 6s - loss: 0.2545 - accuracy: 0.8922 - auc_9: 0.9614 - precision_9: 0.8918 - recall_9: 0.8866 - f1_score: 0.6559 - val_loss: 0.7844 - val_accuracy: 0.7051 - val_auc_9: 0.8118 - val_precision_9: 0.6275 - val_recall_9: 0.8889 - val_f1_score: 0.6316 - 6s/epoch - 217ms/step\n",
      "Epoch 27/100\n",
      "29/29 - 6s - loss: 0.2227 - accuracy: 0.9206 - auc_9: 0.9709 - precision_9: 0.9211 - recall_9: 0.9157 - f1_score: 0.6559 - val_loss: 0.6367 - val_accuracy: 0.7179 - val_auc_9: 0.8052 - val_precision_9: 0.6842 - val_recall_9: 0.7222 - val_f1_score: 0.6316 - 6s/epoch - 219ms/step\n",
      "Epoch 28/100\n",
      "29/29 - 6s - loss: 0.1874 - accuracy: 0.9362 - auc_9: 0.9825 - precision_9: 0.9410 - recall_9: 0.9273 - f1_score: 0.6559 - val_loss: 2.0070 - val_accuracy: 0.4872 - val_auc_9: 0.6825 - val_precision_9: 0.4737 - val_recall_9: 1.0000 - val_f1_score: 0.6316 - 6s/epoch - 218ms/step\n",
      "Epoch 29/100\n",
      "29/29 - 6s - loss: 0.2454 - accuracy: 0.9064 - auc_9: 0.9638 - precision_9: 0.8971 - recall_9: 0.9128 - f1_score: 0.6559 - val_loss: 0.9655 - val_accuracy: 0.6538 - val_auc_9: 0.7361 - val_precision_9: 0.5882 - val_recall_9: 0.8333 - val_f1_score: 0.6316 - 6s/epoch - 219ms/step\n",
      "Epoch 30/100\n",
      "29/29 - 6s - loss: 0.1893 - accuracy: 0.9191 - auc_9: 0.9818 - precision_9: 0.9159 - recall_9: 0.9186 - f1_score: 0.6559 - val_loss: 0.8863 - val_accuracy: 0.7179 - val_auc_9: 0.7632 - val_precision_9: 0.6667 - val_recall_9: 0.7778 - val_f1_score: 0.6316 - 6s/epoch - 220ms/step\n",
      "Epoch 31/100\n",
      "29/29 - 6s - loss: 0.1845 - accuracy: 0.9305 - auc_9: 0.9807 - precision_9: 0.9326 - recall_9: 0.9244 - f1_score: 0.6559 - val_loss: 1.1068 - val_accuracy: 0.5513 - val_auc_9: 0.7285 - val_precision_9: 0.5085 - val_recall_9: 0.8333 - val_f1_score: 0.6316 - 6s/epoch - 221ms/step\n",
      "Epoch 32/100\n",
      "29/29 - 6s - loss: 0.2102 - accuracy: 0.9277 - auc_9: 0.9749 - precision_9: 0.9322 - recall_9: 0.9186 - f1_score: 0.6559 - val_loss: 0.7618 - val_accuracy: 0.7436 - val_auc_9: 0.7887 - val_precision_9: 0.7500 - val_recall_9: 0.6667 - val_f1_score: 0.6316 - 6s/epoch - 222ms/step\n",
      "Epoch 33/100\n",
      "29/29 - 6s - loss: 0.1420 - accuracy: 0.9546 - auc_9: 0.9920 - precision_9: 0.9535 - recall_9: 0.9535 - f1_score: 0.6559 - val_loss: 0.9978 - val_accuracy: 0.7564 - val_auc_9: 0.7778 - val_precision_9: 0.8696 - val_recall_9: 0.5556 - val_f1_score: 0.6316 - 6s/epoch - 222ms/step\n",
      "Epoch 34/100\n",
      "29/29 - 6s - loss: 0.1889 - accuracy: 0.9234 - auc_9: 0.9798 - precision_9: 0.9290 - recall_9: 0.9128 - f1_score: 0.6559 - val_loss: 2.1903 - val_accuracy: 0.5000 - val_auc_9: 0.6723 - val_precision_9: 0.4789 - val_recall_9: 0.9444 - val_f1_score: 0.6316 - 6s/epoch - 224ms/step\n",
      "Epoch 35/100\n",
      "29/29 - 7s - loss: 0.1981 - accuracy: 0.9277 - auc_9: 0.9772 - precision_9: 0.9347 - recall_9: 0.9157 - f1_score: 0.6559 - val_loss: 1.4688 - val_accuracy: 0.5256 - val_auc_9: 0.7054 - val_precision_9: 0.4923 - val_recall_9: 0.8889 - val_f1_score: 0.6316 - 7s/epoch - 225ms/step\n",
      "Epoch 36/100\n",
      "29/29 - 7s - loss: 0.1707 - accuracy: 0.9418 - auc_9: 0.9844 - precision_9: 0.9366 - recall_9: 0.9448 - f1_score: 0.6559 - val_loss: 0.9949 - val_accuracy: 0.6923 - val_auc_9: 0.7629 - val_precision_9: 0.8333 - val_recall_9: 0.4167 - val_f1_score: 0.6316 - 7s/epoch - 225ms/step\n",
      "Epoch 37/100\n",
      "29/29 - 6s - loss: 0.1669 - accuracy: 0.9447 - auc_9: 0.9837 - precision_9: 0.9499 - recall_9: 0.9360 - f1_score: 0.6559 - val_loss: 0.7266 - val_accuracy: 0.7308 - val_auc_9: 0.7841 - val_precision_9: 0.7143 - val_recall_9: 0.6944 - val_f1_score: 0.6316 - 6s/epoch - 224ms/step\n",
      "Epoch 38/100\n",
      "29/29 - 6s - loss: 0.1614 - accuracy: 0.9433 - auc_9: 0.9860 - precision_9: 0.9497 - recall_9: 0.9331 - f1_score: 0.6559 - val_loss: 2.5895 - val_accuracy: 0.5000 - val_auc_9: 0.6749 - val_precision_9: 0.4795 - val_recall_9: 0.9722 - val_f1_score: 0.6316 - 6s/epoch - 224ms/step\n",
      "Epoch 39/100\n",
      "29/29 - 7s - loss: 0.2022 - accuracy: 0.9206 - auc_9: 0.9757 - precision_9: 0.9091 - recall_9: 0.9302 - f1_score: 0.6559 - val_loss: 0.7439 - val_accuracy: 0.6923 - val_auc_9: 0.8042 - val_precision_9: 0.6364 - val_recall_9: 0.7778 - val_f1_score: 0.6316 - 7s/epoch - 224ms/step\n",
      "Epoch 40/100\n",
      "29/29 - 7s - loss: 0.1757 - accuracy: 0.9362 - auc_9: 0.9816 - precision_9: 0.9308 - recall_9: 0.9390 - f1_score: 0.6559 - val_loss: 1.2837 - val_accuracy: 0.6923 - val_auc_9: 0.8042 - val_precision_9: 0.9286 - val_recall_9: 0.3611 - val_f1_score: 0.6316 - 7s/epoch - 225ms/step\n",
      "Epoch 41/100\n",
      "29/29 - 7s - loss: 0.2140 - accuracy: 0.9177 - auc_9: 0.9710 - precision_9: 0.9281 - recall_9: 0.9012 - f1_score: 0.6559 - val_loss: 0.7531 - val_accuracy: 0.7821 - val_auc_9: 0.8085 - val_precision_9: 0.7879 - val_recall_9: 0.7222 - val_f1_score: 0.6316 - 7s/epoch - 225ms/step\n",
      "Epoch 42/100\n",
      "29/29 - 7s - loss: 0.1353 - accuracy: 0.9532 - auc_9: 0.9918 - precision_9: 0.9587 - recall_9: 0.9448 - f1_score: 0.6559 - val_loss: 0.9913 - val_accuracy: 0.7051 - val_auc_9: 0.7364 - val_precision_9: 0.6667 - val_recall_9: 0.7222 - val_f1_score: 0.6316 - 7s/epoch - 225ms/step\n",
      "Epoch 43/100\n",
      "29/29 - 7s - loss: 0.1395 - accuracy: 0.9560 - auc_9: 0.9882 - precision_9: 0.9589 - recall_9: 0.9506 - f1_score: 0.6559 - val_loss: 0.8298 - val_accuracy: 0.7179 - val_auc_9: 0.7781 - val_precision_9: 0.6750 - val_recall_9: 0.7500 - val_f1_score: 0.6316 - 7s/epoch - 225ms/step\n",
      "Epoch 44/100\n",
      "29/29 - 7s - loss: 0.1437 - accuracy: 0.9489 - auc_9: 0.9890 - precision_9: 0.9529 - recall_9: 0.9419 - f1_score: 0.6559 - val_loss: 0.8423 - val_accuracy: 0.7692 - val_auc_9: 0.8221 - val_precision_9: 0.8462 - val_recall_9: 0.6111 - val_f1_score: 0.6316 - 7s/epoch - 225ms/step\n",
      "Epoch 45/100\n",
      "29/29 - 7s - loss: 0.1454 - accuracy: 0.9433 - auc_9: 0.9873 - precision_9: 0.9393 - recall_9: 0.9448 - f1_score: 0.6559 - val_loss: 0.8384 - val_accuracy: 0.6538 - val_auc_9: 0.8016 - val_precision_9: 0.5882 - val_recall_9: 0.8333 - val_f1_score: 0.6316 - 7s/epoch - 226ms/step\n",
      "Epoch 46/100\n",
      "29/29 - 7s - loss: 0.1097 - accuracy: 0.9716 - auc_9: 0.9948 - precision_9: 0.9821 - recall_9: 0.9593 - f1_score: 0.6559 - val_loss: 0.8914 - val_accuracy: 0.6795 - val_auc_9: 0.7646 - val_precision_9: 0.6222 - val_recall_9: 0.7778 - val_f1_score: 0.6316 - 7s/epoch - 224ms/step\n",
      "Epoch 47/100\n",
      "29/29 - 7s - loss: 0.1122 - accuracy: 0.9631 - auc_9: 0.9948 - precision_9: 0.9676 - recall_9: 0.9564 - f1_score: 0.6559 - val_loss: 1.3770 - val_accuracy: 0.5128 - val_auc_9: 0.7440 - val_precision_9: 0.4848 - val_recall_9: 0.8889 - val_f1_score: 0.6316 - 7s/epoch - 225ms/step\n",
      "Epoch 48/100\n",
      "29/29 - 7s - loss: 0.1546 - accuracy: 0.9447 - auc_9: 0.9859 - precision_9: 0.9446 - recall_9: 0.9419 - f1_score: 0.6559 - val_loss: 0.7257 - val_accuracy: 0.7692 - val_auc_9: 0.7963 - val_precision_9: 0.8000 - val_recall_9: 0.6667 - val_f1_score: 0.6316 - 7s/epoch - 226ms/step\n",
      "Epoch 49/100\n",
      "29/29 - 7s - loss: 0.1100 - accuracy: 0.9674 - auc_9: 0.9942 - precision_9: 0.9707 - recall_9: 0.9622 - f1_score: 0.6559 - val_loss: 0.7342 - val_accuracy: 0.7308 - val_auc_9: 0.7913 - val_precision_9: 0.8000 - val_recall_9: 0.5556 - val_f1_score: 0.6316 - 7s/epoch - 225ms/step\n",
      "Epoch 50/100\n",
      "29/29 - 7s - loss: 0.1202 - accuracy: 0.9532 - auc_9: 0.9923 - precision_9: 0.9534 - recall_9: 0.9506 - f1_score: 0.6559 - val_loss: 0.9203 - val_accuracy: 0.6410 - val_auc_9: 0.7927 - val_precision_9: 0.5741 - val_recall_9: 0.8611 - val_f1_score: 0.6316 - 7s/epoch - 225ms/step\n",
      "Epoch 51/100\n",
      "29/29 - 7s - loss: 0.1086 - accuracy: 0.9660 - auc_9: 0.9938 - precision_9: 0.9624 - recall_9: 0.9680 - f1_score: 0.6559 - val_loss: 0.7841 - val_accuracy: 0.7436 - val_auc_9: 0.8145 - val_precision_9: 0.7667 - val_recall_9: 0.6389 - val_f1_score: 0.6316 - 7s/epoch - 226ms/step\n",
      "Epoch 52/100\n",
      "29/29 - 7s - loss: 0.0717 - accuracy: 0.9759 - auc_9: 0.9987 - precision_9: 0.9823 - recall_9: 0.9680 - f1_score: 0.6559 - val_loss: 0.7590 - val_accuracy: 0.7436 - val_auc_9: 0.8022 - val_precision_9: 0.7000 - val_recall_9: 0.7778 - val_f1_score: 0.6316 - 7s/epoch - 226ms/step\n",
      "Epoch 53/100\n",
      "29/29 - 7s - loss: 0.0892 - accuracy: 0.9801 - auc_9: 0.9967 - precision_9: 0.9769 - recall_9: 0.9826 - f1_score: 0.6559 - val_loss: 0.8622 - val_accuracy: 0.7308 - val_auc_9: 0.8171 - val_precision_9: 0.6596 - val_recall_9: 0.8611 - val_f1_score: 0.6316 - 7s/epoch - 226ms/step\n",
      "Epoch 54/100\n",
      "29/29 - 7s - loss: 0.1284 - accuracy: 0.9532 - auc_9: 0.9905 - precision_9: 0.9481 - recall_9: 0.9564 - f1_score: 0.6559 - val_loss: 0.6614 - val_accuracy: 0.7179 - val_auc_9: 0.8165 - val_precision_9: 0.6944 - val_recall_9: 0.6944 - val_f1_score: 0.6316 - 7s/epoch - 225ms/step\n",
      "Epoch 55/100\n",
      "29/29 - 7s - loss: 0.1018 - accuracy: 0.9716 - auc_9: 0.9951 - precision_9: 0.9709 - recall_9: 0.9709 - f1_score: 0.6559 - val_loss: 1.1905 - val_accuracy: 0.6923 - val_auc_9: 0.7867 - val_precision_9: 1.0000 - val_recall_9: 0.3333 - val_f1_score: 0.6316 - 7s/epoch - 226ms/step\n",
      "Epoch 56/100\n",
      "29/29 - 7s - loss: 0.1009 - accuracy: 0.9702 - auc_9: 0.9954 - precision_9: 0.9708 - recall_9: 0.9680 - f1_score: 0.6559 - val_loss: 0.6588 - val_accuracy: 0.7692 - val_auc_9: 0.8350 - val_precision_9: 0.7143 - val_recall_9: 0.8333 - val_f1_score: 0.6316 - 7s/epoch - 225ms/step\n",
      "Epoch 57/100\n",
      "29/29 - 7s - loss: 0.0959 - accuracy: 0.9716 - auc_9: 0.9961 - precision_9: 0.9682 - recall_9: 0.9738 - f1_score: 0.6559 - val_loss: 0.7892 - val_accuracy: 0.7692 - val_auc_9: 0.8118 - val_precision_9: 0.7250 - val_recall_9: 0.8056 - val_f1_score: 0.6316 - 7s/epoch - 225ms/step\n",
      "Epoch 58/100\n",
      "29/29 - 7s - loss: 0.0756 - accuracy: 0.9787 - auc_9: 0.9974 - precision_9: 0.9768 - recall_9: 0.9797 - f1_score: 0.6559 - val_loss: 1.2665 - val_accuracy: 0.6026 - val_auc_9: 0.7894 - val_precision_9: 0.5424 - val_recall_9: 0.8889 - val_f1_score: 0.6316 - 7s/epoch - 225ms/step\n",
      "Epoch 59/100\n",
      "29/29 - 6s - loss: 0.1145 - accuracy: 0.9660 - auc_9: 0.9919 - precision_9: 0.9651 - recall_9: 0.9651 - f1_score: 0.6559 - val_loss: 0.8877 - val_accuracy: 0.7564 - val_auc_9: 0.8142 - val_precision_9: 0.7931 - val_recall_9: 0.6389 - val_f1_score: 0.6316 - 6s/epoch - 224ms/step\n",
      "Epoch 60/100\n",
      "29/29 - 6s - loss: 0.0852 - accuracy: 0.9745 - auc_9: 0.9957 - precision_9: 0.9822 - recall_9: 0.9651 - f1_score: 0.6559 - val_loss: 0.8029 - val_accuracy: 0.7436 - val_auc_9: 0.7884 - val_precision_9: 0.7500 - val_recall_9: 0.6667 - val_f1_score: 0.6316 - 6s/epoch - 223ms/step\n",
      "Epoch 61/100\n",
      "29/29 - 6s - loss: 0.0830 - accuracy: 0.9787 - auc_9: 0.9970 - precision_9: 0.9796 - recall_9: 0.9767 - f1_score: 0.6559 - val_loss: 1.2510 - val_accuracy: 0.7436 - val_auc_9: 0.7586 - val_precision_9: 0.8077 - val_recall_9: 0.5833 - val_f1_score: 0.6316 - 6s/epoch - 223ms/step\n",
      "Epoch 62/100\n",
      "29/29 - 7s - loss: 0.0841 - accuracy: 0.9716 - auc_9: 0.9964 - precision_9: 0.9793 - recall_9: 0.9622 - f1_score: 0.6559 - val_loss: 1.9631 - val_accuracy: 0.5641 - val_auc_9: 0.6938 - val_precision_9: 0.5156 - val_recall_9: 0.9167 - val_f1_score: 0.6316 - 7s/epoch - 224ms/step\n"
     ]
    },
    {
     "data": {
      "image/png": "[encoded data removed]",
      "text/plain": [
       "<Figure size 432x288 with 1 Axes>"
      ]
     },
     "metadata": {
      "needs_background": "light"
     },
     "output_type": "display_data"
    }
   ],
   "source": [
    "acc = []\n",
    "acc_val = []\n",
    "auc = []\n",
    "auc_val = []\n",
    "precision = []\n",
    "precision_val = []\n",
    "recall = []\n",
    "recall_val = []\n",
    "f1 = []\n",
    "f1_val = []\n",
    "val_accuracy = 0.0\n",
    "for train_index, val_index in kf.split(X):\n",
    "    X_train, X_val = X[train_index], X[val_index]\n",
    "    y_train, y_val = y[train_index], y[val_index]\n",
    "    rcnn_binary_body_model = RCNN(n_features, None, n_length, n_outputs)\n",
    "    history = rcnn_binary_body_model.train(X_train, y_train, X_val, y_val, epochs=epochs, batch_size=25)\n",
    "    plt.plot(history.history['loss'])\n",
    "    plt.show()\n",
    "    acc.append(history.history['accuracy'][-1])\n",
    "    acc_val.append(history.history['val_accuracy'][-1])\n",
    "    f1.append(history.history['f1_score'][-1])\n",
    "    f1_val.append(history.history['val_f1_score'][-1])\n",
    "    save_model = False\n",
    "    for key in history.history.keys():\n",
    "        if 'auc' in key and not 'val' in key:\n",
    "            auc.append(history.history[key][-1])\n",
    "        elif 'auc' in key and 'val' in key:\n",
    "            auc_val.append(history.history[key][-1])\n",
    "            if history.history[key][-1] > val_accuracy:\n",
    "                val_accuracy = history.history[key][-1]\n",
    "                save_model = True\n",
    "        if 'precision' in key and not 'val' in key:\n",
    "            precision.append(history.history[key][-1])\n",
    "        elif 'precision' in key and 'val' in key:\n",
    "            precision_val.append(history.history[key][-1])\n",
    "        if 'recall' in key and not 'val' in key:\n",
    "            recall.append(history.history[key][-1])\n",
    "        elif 'recall' in key and 'val' in key:\n",
    "            recall_val.append(history.history[key][-1])\n",
    "    if save_model:\n",
    "        rcnn_binary_body_model.save(model_path / 'body_binary_rcnn.h5')"
   ]
  },
  {
   "cell_type": "markdown",
   "metadata": {},
   "source": [
    "#### Training performance"
   ]
  },
  {
   "cell_type": "code",
   "execution_count": 6,
   "metadata": {},
   "outputs": [
    {
     "data": {
      "text/plain": [
       "{'Accuracy': 0.9787137389183045,\n",
       " 'ROC/AUC': 0.9970575630664825,\n",
       " 'Precision': 0.9802907943725586,\n",
       " 'Recall': 0.975749135017395,\n",
       " 'F1-score': 0.6534584581851959}"
      ]
     },
     "execution_count": 6,
     "metadata": {},
     "output_type": "execute_result"
    }
   ],
   "source": [
    "body_rcnn_train_results = {'Accuracy': np.average(acc), 'ROC/AUC': np.average(auc), 'Precision': np.average(precision), 'Recall': np.average(recall), 'F1-score': np.average(f1)}\n",
    "body_rcnn_train_results"
   ]
  },
  {
   "cell_type": "markdown",
   "metadata": {},
   "source": [
    "#### Validation performance"
   ]
  },
  {
   "cell_type": "code",
   "execution_count": 7,
   "metadata": {},
   "outputs": [
    {
     "data": {
      "text/plain": [
       "{'Accuracy': 0.6385589063167572,\n",
       " 'ROC/AUC': 0.7303238213062286,\n",
       " 'Precision': 0.6369596898555756,\n",
       " 'Recall': 0.7135727137327195,\n",
       " 'F1-score': 0.6514892220497132}"
      ]
     },
     "execution_count": 7,
     "metadata": {},
     "output_type": "execute_result"
    }
   ],
   "source": [
    "body_rcnn_val_results = {'Accuracy': np.average(acc_val), 'ROC/AUC': np.average(auc_val), 'Precision': np.average(precision_val), 'Recall': np.average(recall_val), 'F1-score': np.average(f1_val)}\n",
    "body_rcnn_val_results"
   ]
  },
  {
   "cell_type": "markdown",
   "metadata": {},
   "source": [
    "#### Predictions and performance on test set"
   ]
  },
  {
   "cell_type": "code",
   "execution_count": 8,
   "metadata": {},
   "outputs": [
    {
     "name": "stdout",
     "output_type": "stream",
     "text": [
      "9/9 [==============================] - 1s 93ms/step - loss: 1.0738 - accuracy: 0.5620 - auc_7: 0.6098 - precision_7: 0.9078 - recall_7: 0.5447 - f1_score: 0.9234\n",
      "Accuracy: 56.20% \n",
      "ROC/AUC: 0.61 \n",
      "Precision: 0.91 \n",
      "Recall: 0.54 \n",
      "F1 score: 0.92\n"
     ]
    }
   ],
   "source": [
    "rcnn_binary_body_model = load_model(model_path / 'body_binary_rcnn.h5')\n",
    "y_pred = rcnn_binary_body_model.predict(X_test)\n",
    "_, acc, auc, precision, recall, f1 = rcnn_binary_body_model.evaluate(X_test, y_test)\n",
    "rcnn_auc.append(round(auc, 2))\n",
    "print('Accuracy: {:.2f}% \\nROC/AUC: {:.2f} \\nPrecision: {:.2f} \\nRecall: {:.2f} \\nF1 score: {:.2f}'.format(acc * 100, auc, precision, recall, f1))"
   ]
  },
  {
   "cell_type": "code",
   "execution_count": 9,
   "metadata": {},
   "outputs": [
    {
     "data": {
      "text/plain": [
       "<AxesSubplot:title={'center':'Normalized Confusion Matrix'}, xlabel='Predicted label', ylabel='True label'>"
      ]
     },
     "execution_count": 9,
     "metadata": {},
     "output_type": "execute_result"
    },
    {
     "data": {
      "image/png": "[encoded data removed]",
      "text/plain": [
       "<Figure size 576x432 with 2 Axes>"
      ]
     },
     "metadata": {
      "needs_background": "light"
     },
     "output_type": "display_data"
    }
   ],
   "source": [
    "y_pred = np.where(y_pred > 0.5, 1, 0)\n",
    "skplt.metrics.plot_confusion_matrix(y_test, y_pred, normalize=True, figsize=(8,6))"
   ]
  },
  {
   "cell_type": "code",
   "execution_count": null,
   "metadata": {},
   "outputs": [],
   "source": [
    "fpr, tpr, _ = roc_curve(y_test, y_pred)\n",
    "plt.plot(fpr, tpr, label='RCNN')\n",
    "plt.legend()\n",
    "plt.show()"
   ]
  },
  {
   "cell_type": "code",
   "execution_count": 10,
   "metadata": {},
   "outputs": [
    {
     "data": {
      "text/plain": [
       "<sklearn.metrics._plot.precision_recall_curve.PrecisionRecallDisplay at 0x140264e20>"
      ]
     },
     "execution_count": 10,
     "metadata": {},
     "output_type": "execute_result"
    },
    {
     "data": {
      "image/png": "[encoded data removed]",
      "text/plain": [
       "<Figure size 432x288 with 1 Axes>"
      ]
     },
     "metadata": {
      "needs_background": "light"
     },
     "output_type": "display_data"
    }
   ],
   "source": [
    "precision, recall, _ = precision_recall_curve(y_test, y_pred)\n",
    "disp = PrecisionRecallDisplay(precision=precision, recall=recall)\n",
    "disp.plot()"
   ]
  },
  {
   "cell_type": "markdown",
   "metadata": {},
   "source": [
    "## 2. Unimodal Face (Facial Expression + Head Pose)"
   ]
  },
  {
   "cell_type": "code",
   "execution_count": null,
   "metadata": {},
   "outputs": [],
   "source": [
    "X_train, X_test, y_train, y_test = load_dataset('AUs', binary=True)\n",
    "X = X_train.copy()\n",
    "y = y_train.copy()\n",
    "\n",
    "print(X_train.shape, y_train.shape)\n",
    "print(X_test.shape, y_test.shape)\n",
    "\n",
    "n_length, n_features, n_outputs = X_train.shape[2], X_train.shape[-1], y_train.shape[1]"
   ]
  },
  {
   "cell_type": "markdown",
   "metadata": {},
   "source": [
    "### 2.1 CNN + BiLSTM"
   ]
  },
  {
   "cell_type": "code",
   "execution_count": null,
   "metadata": {},
   "outputs": [],
   "source": [
    "acc = []\n",
    "acc_val = []\n",
    "auc = []\n",
    "auc_val = []\n",
    "precision = []\n",
    "precision_val = []\n",
    "recall = []\n",
    "recall_val = []\n",
    "f1 = []\n",
    "f1_val = []\n",
    "val_accuracy = 0.0\n",
    "for train_index, val_index in kf.split(X):\n",
    "    X_train, X_val = X[train_index], X[val_index]\n",
    "    y_train, y_val = y[train_index], y[val_index]\n",
    "    cnnlstm_binary_face_model = CNNLSTM(n_features, None, n_length, n_outputs)\n",
    "    history = cnnlstm_binary_face_model.train(X_train, y_train, X_val, y_val, epochs=epochs, batch_size=32)\n",
    "    plt.plot(history.history['loss'])\n",
    "    plt.show()\n",
    "    acc.append(history.history['accuracy'][-1])\n",
    "    acc_val.append(history.history['val_accuracy'][-1])\n",
    "    f1.append(history.history['f1_score'][-1])\n",
    "    f1_val.append(history.history['val_f1_score'][-1])\n",
    "    save_model = False\n",
    "    for key in history.history.keys():\n",
    "        if 'auc' in key and not 'val' in key:\n",
    "            auc.append(history.history[key][-1])\n",
    "        elif 'auc' in key and 'val' in key:\n",
    "            auc_val.append(history.history[key][-1])\n",
    "            if history.history[key][-1] > val_accuracy:\n",
    "                val_accuracy = history.history[key][-1]\n",
    "                save_model = True\n",
    "        if 'precision' in key and not 'val' in key:\n",
    "            precision.append(history.history[key][-1])\n",
    "        elif 'precision' in key and 'val' in key:\n",
    "            precision_val.append(history.history[key][-1])\n",
    "        if 'recall' in key and not 'val' in key:\n",
    "            recall.append(history.history[key][-1])\n",
    "        elif 'recall' in key and 'val' in key:\n",
    "            recall_val.append(history.history[key][-1])\n",
    "    if save_model:\n",
    "        cnnlstm_binary_face_model.save(model_path / 'face_binary_cnnlstm.h5')"
   ]
  },
  {
   "cell_type": "markdown",
   "metadata": {},
   "source": [
    "#### Training performance"
   ]
  },
  {
   "cell_type": "code",
   "execution_count": null,
   "metadata": {},
   "outputs": [],
   "source": [
    "face_cnnlstm_train_results = {'Accuracy': np.average(acc), 'ROC/AUC': np.average(auc), 'Precision': np.average(precision), 'Recall': np.average(recall), 'F1-score': np.average(f1)}\n",
    "face_cnnlstm_train_results"
   ]
  },
  {
   "cell_type": "markdown",
   "metadata": {},
   "source": [
    "#### Validation performance"
   ]
  },
  {
   "cell_type": "code",
   "execution_count": null,
   "metadata": {},
   "outputs": [],
   "source": [
    "face_cnnlstm_val_results = {'Accuracy': np.average(acc_val), 'ROC/AUC': np.average(auc_val), 'Precision': np.average(precision_val), 'Recall': np.average(recall_val), 'F1-score': np.average(f1_val)}\n",
    "face_cnnlstm_val_results"
   ]
  },
  {
   "cell_type": "markdown",
   "metadata": {},
   "source": [
    "#### Predictions and performance on test set"
   ]
  },
  {
   "cell_type": "code",
   "execution_count": null,
   "metadata": {},
   "outputs": [],
   "source": [
    "cnnlstm_binary_face_model = load_model(model_path / 'face_binary_cnnlstm.h5')\n",
    "y_pred = cnnlstm_binary_face_model.predict(X_test)\n",
    "_, acc, auc, precision, recall, f1 = cnnlstm_binary_face_model.evaluate(X_test, y_test)\n",
    "cnn_auc.append(round(auc, 2))\n",
    "print('Accuracy: {:.2f}% \\nROC/AUC: {:.2f} \\nPrecision: {:.2f} \\nRecall: {:.2f} \\nF1 score: {:.2f}'.format(acc * 100, auc, precision, recall, f1))"
   ]
  },
  {
   "cell_type": "code",
   "execution_count": null,
   "metadata": {},
   "outputs": [],
   "source": [
    "y_pred = np.where(y_pred > 0.5, 1, 0)\n",
    "skplt.metrics.plot_confusion_matrix(y_test, y_pred, normalize=True, figsize=(8,6))"
   ]
  },
  {
   "cell_type": "code",
   "execution_count": null,
   "metadata": {},
   "outputs": [],
   "source": [
    "fpr, tpr, _ = roc_curve(y_test, y_pred)\n",
    "plt.plot(fpr, tpr, label='CNN + Bidirectional LSTM')\n",
    "plt.legend()\n",
    "plt.show()"
   ]
  },
  {
   "cell_type": "code",
   "execution_count": null,
   "metadata": {},
   "outputs": [],
   "source": [
    "precision, recall, _ = precision_recall_curve(y_test, y_pred)\n",
    "disp = PrecisionRecallDisplay(precision=precision, recall=recall)\n",
    "disp.plot()"
   ]
  },
  {
   "cell_type": "markdown",
   "metadata": {},
   "source": [
    "### 2.2 RCNN"
   ]
  },
  {
   "cell_type": "code",
   "execution_count": null,
   "metadata": {},
   "outputs": [],
   "source": [
    "acc = []\n",
    "acc_val = []\n",
    "auc = []\n",
    "auc_val = []\n",
    "precision = []\n",
    "precision_val = []\n",
    "recall = []\n",
    "recall_val = []\n",
    "f1 = []\n",
    "f1_val = []\n",
    "val_accuracy = 0.0\n",
    "for train_index, val_index in kf.split(X):\n",
    "    X_train, X_val = X[train_index], X[val_index]\n",
    "    y_train, y_val = y[train_index], y[val_index]\n",
    "    rcnn_binary_face_model = RCNN(n_features, None, n_length, n_outputs)\n",
    "    history = rcnn_binary_face_model.train(X_train, y_train, X_val, y_val, epochs=epochs, batch_size=32)\n",
    "    plt.plot(history.history['loss'])\n",
    "    plt.show()\n",
    "    acc.append(history.history['accuracy'][-1])\n",
    "    acc_val.append(history.history['val_accuracy'][-1])\n",
    "    f1.append(history.history['f1_score'][-1])\n",
    "    f1_val.append(history.history['val_f1_score'][-1])\n",
    "    save_model = False\n",
    "    for key in history.history.keys():\n",
    "        if 'auc' in key and not 'val' in key:\n",
    "            auc.append(history.history[key][-1])\n",
    "        elif 'auc' in key and 'val' in key:\n",
    "            auc_val.append(history.history[key][-1])\n",
    "            if history.history[key][-1] > val_accuracy:\n",
    "                val_accuracy = history.history[key][-1]\n",
    "                save_model = True\n",
    "        if 'precision' in key and not 'val' in key:\n",
    "            precision.append(history.history[key][-1])\n",
    "        elif 'precision' in key and 'val' in key:\n",
    "            precision_val.append(history.history[key][-1])\n",
    "        if 'recall' in key and not 'val' in key:\n",
    "            recall.append(history.history[key][-1])\n",
    "        elif 'recall' in key and 'val' in key:\n",
    "            recall_val.append(history.history[key][-1])\n",
    "    if save_model:\n",
    "        rcnn_binary_face_model.save(model_path / 'face_binary_rcnn.h5')"
   ]
  },
  {
   "cell_type": "markdown",
   "metadata": {},
   "source": [
    "#### Training performance"
   ]
  },
  {
   "cell_type": "code",
   "execution_count": null,
   "metadata": {},
   "outputs": [],
   "source": [
    "face_rcnn_train_results = {'Accuracy': np.average(acc), 'ROC/AUC': np.average(auc), 'Precision': np.average(precision), 'Recall': np.average(recall), 'F1-score': np.average(f1)}\n",
    "face_rcnn_train_results"
   ]
  },
  {
   "cell_type": "markdown",
   "metadata": {},
   "source": [
    "#### Validation performance"
   ]
  },
  {
   "cell_type": "code",
   "execution_count": null,
   "metadata": {},
   "outputs": [],
   "source": [
    "face_rcnn_val_results = {'Accuracy': np.average(acc_val), 'ROC/AUC': np.average(auc_val), 'Precision': np.average(precision_val), 'Recall': np.average(recall_val), 'F1-score': np.average(f1_val)}\n",
    "face_rcnn_val_results"
   ]
  },
  {
   "cell_type": "markdown",
   "metadata": {},
   "source": [
    "#### Predictions and performance on test set"
   ]
  },
  {
   "cell_type": "code",
   "execution_count": null,
   "metadata": {},
   "outputs": [],
   "source": [
    "rcnn_binary_face_model = load_model(model_path / 'face_binary_rcnn.h5')\n",
    "y_pred = rcnn_binary_face_model.predict(X_test)\n",
    "_, acc, auc, precision, recall, f1 = rcnn_binary_face_model.evaluate(X_test, y_test)\n",
    "rnn_auc.append(round(auc, 2))\n",
    "print('Accuracy: {:.2f}% \\nROC/AUC: {:.2f} \\nPrecision: {:.2f} \\nRecall: {:.2f} \\nF1 score: {:.2f}'.format(acc * 100, auc, precision, recall, f1))"
   ]
  },
  {
   "cell_type": "code",
   "execution_count": null,
   "metadata": {},
   "outputs": [],
   "source": [
    "fpr, tpr, _ = roc_curve(y_test, y_pred)\n",
    "plt.plot(fpr, tpr, label='RCNN')\n",
    "plt.legend()\n",
    "plt.show()"
   ]
  },
  {
   "cell_type": "code",
   "execution_count": null,
   "metadata": {},
   "outputs": [],
   "source": [
    "y_pred = np.where(y_pred > 0.5, 1, 0)\n",
    "skplt.metrics.plot_confusion_matrix(y_test, y_pred, normalize=True, figsize=(8,6))"
   ]
  },
  {
   "cell_type": "code",
   "execution_count": null,
   "metadata": {},
   "outputs": [],
   "source": [
    "precision, recall, _ = precision_recall_curve(y_test, y_pred)\n",
    "disp = PrecisionRecallDisplay(precision=precision, recall=recall)\n",
    "disp.plot()"
   ]
  },
  {
   "cell_type": "markdown",
   "metadata": {},
   "source": [
    "## 3. Multimodal Early Fusion"
   ]
  },
  {
   "cell_type": "code",
   "execution_count": null,
   "metadata": {},
   "outputs": [],
   "source": [
    "X_train, X_test, y_train, y_test = load_fusioned_dataset(binary=True)\n",
    "X = X_train.copy()\n",
    "y = y_train.copy()\n",
    "\n",
    "print(X_train.shape, y_train.shape)\n",
    "print(X_test.shape, y_test.shape)\n",
    "\n",
    "n_length, n_features, n_outputs = X_train.shape[2], X_train.shape[-1], y_train.shape[1]"
   ]
  },
  {
   "cell_type": "markdown",
   "metadata": {},
   "source": [
    "### 3.1 CNN + BiLSTM"
   ]
  },
  {
   "cell_type": "code",
   "execution_count": null,
   "metadata": {},
   "outputs": [],
   "source": [
    "acc = []\n",
    "acc_val = []\n",
    "auc = []\n",
    "auc_val = []\n",
    "precision = []\n",
    "precision_val = []\n",
    "recall = []\n",
    "recall_val = []\n",
    "f1 = []\n",
    "f1_val = []\n",
    "val_accuracy = 0.0\n",
    "for train_index, val_index in kf.split(X):\n",
    "    X_train, X_val = X[train_index], X[val_index]\n",
    "    y_train, y_val = y[train_index], y[val_index]\n",
    "    cnnlstm_binary_earlyfusion_model = CNNLSTM(n_features, None, n_length, n_outputs)\n",
    "    history = cnnlstm_binary_earlyfusion_model.train(X_train, y_train, X_val, y_val, epochs=epochs, batch_size=32)\n",
    "    plt.plot(history.history['loss'])\n",
    "    plt.show()\n",
    "    acc.append(history.history['accuracy'][-1])\n",
    "    acc_val.append(history.history['val_accuracy'][-1])\n",
    "    f1.append(history.history['f1_score'][-1])\n",
    "    f1_val.append(history.history['val_f1_score'][-1])\n",
    "    save_model = False\n",
    "    for key in history.history.keys():\n",
    "        if 'auc' in key and not 'val' in key:\n",
    "            auc.append(history.history[key][-1])\n",
    "        elif 'auc' in key and 'val' in key:\n",
    "            auc_val.append(history.history[key][-1])\n",
    "            if history.history[key][-1] > val_accuracy:\n",
    "                val_accuracy = history.history[key][-1]\n",
    "                save_model = True\n",
    "        if 'precision' in key and not 'val' in key:\n",
    "            precision.append(history.history[key][-1])\n",
    "        elif 'precision' in key and 'val' in key:\n",
    "            precision_val.append(history.history[key][-1])\n",
    "        if 'recall' in key and not 'val' in key:\n",
    "            recall.append(history.history[key][-1])\n",
    "        elif 'recall' in key and 'val' in key:\n",
    "            recall_val.append(history.history[key][-1])\n",
    "    if save_model:\n",
    "        cnnlstm_binary_earlyfusion_model.save(model_path / 'early_binary_cnnlstm.h5')"
   ]
  },
  {
   "cell_type": "markdown",
   "metadata": {},
   "source": [
    "#### Training performance"
   ]
  },
  {
   "cell_type": "code",
   "execution_count": null,
   "metadata": {},
   "outputs": [],
   "source": [
    "early_cnnlstm_train_results = {'Accuracy': np.average(acc), 'ROC/AUC': np.average(auc), 'Precision': np.average(precision), 'Recall': np.average(recall), 'F1-score': np.average(f1)}\n",
    "early_cnnlstm_train_results"
   ]
  },
  {
   "cell_type": "markdown",
   "metadata": {},
   "source": [
    "#### Validation performance"
   ]
  },
  {
   "cell_type": "code",
   "execution_count": null,
   "metadata": {},
   "outputs": [],
   "source": [
    "early_cnnlstm_val_results = {'Accuracy': np.average(acc_val), 'ROC/AUC': np.average(auc_val), 'Precision': np.average(precision_val), 'Recall': np.average(recall_val), 'F1-score': np.average(f1_val)}\n",
    "early_cnnlstm_val_results"
   ]
  },
  {
   "cell_type": "markdown",
   "metadata": {},
   "source": [
    "#### Predictions and performance on test set"
   ]
  },
  {
   "cell_type": "code",
   "execution_count": null,
   "metadata": {},
   "outputs": [],
   "source": [
    "cnnlstm_binary_earlyfusion_model = load_model(model_path / 'early_binary_cnnlstm.h5')\n",
    "y_pred = cnnlstm_binary_earlyfusion_model.predict(X_test)\n",
    "_, acc, auc, precision, recall, f1 = cnnlstm_binary_earlyfusion_model.evaluate(X_test, y_test)\n",
    "cnn_auc.append(round(auc, 2))\n",
    "print('Accuracy: {:.2f}% \\nROC/AUC: {:.2f} \\nPrecision: {:.2f} \\nRecall: {:.2f} \\nF1 score: {:.2f}'.format(acc * 100, auc, precision, recall, f1))"
   ]
  },
  {
   "cell_type": "code",
   "execution_count": null,
   "metadata": {},
   "outputs": [],
   "source": [
    "y_pred = np.where(y_pred > 0.5, 1, 0)\n",
    "skplt.metrics.plot_confusion_matrix(y_test, y_pred, normalize=True, figsize=(8,6))"
   ]
  },
  {
   "cell_type": "code",
   "execution_count": null,
   "metadata": {},
   "outputs": [],
   "source": [
    "fpr, tpr, _ = roc_curve(y_test, y_pred)\n",
    "plt.plot(fpr, tpr, label='CNN + Bidirectional LSTM')\n",
    "plt.legend()\n",
    "plt.show()"
   ]
  },
  {
   "cell_type": "code",
   "execution_count": null,
   "metadata": {},
   "outputs": [],
   "source": [
    "precision, recall, _ = precision_recall_curve(y_test, y_pred)\n",
    "disp = PrecisionRecallDisplay(precision=precision, recall=recall)\n",
    "disp.plot()"
   ]
  },
  {
   "cell_type": "markdown",
   "metadata": {},
   "source": [
    "### 3.2 RCNN"
   ]
  },
  {
   "cell_type": "code",
   "execution_count": null,
   "metadata": {},
   "outputs": [],
   "source": [
    "acc = []\n",
    "acc_val = []\n",
    "auc = []\n",
    "auc_val = []\n",
    "precision = []\n",
    "precision_val = []\n",
    "recall = []\n",
    "recall_val = []\n",
    "f1 = []\n",
    "f1_val = []\n",
    "val_accuracy = 0.0\n",
    "for train_index, val_index in kf.split(X):\n",
    "    X_train, X_val = X[train_index], X[val_index]\n",
    "    y_train, y_val = y[train_index], y[val_index]\n",
    "    rcnn_binary_earlyfusion_model = RCNN(n_features, None, n_length, n_outputs)\n",
    "    history = rcnn_binary_earlyfusion_model.train(X_train, y_train, X_val, y_val, epochs=epochs, batch_size=32)\n",
    "    plt.plot(history.history['loss'])\n",
    "    plt.show()\n",
    "    acc.append(history.history['accuracy'][-1])\n",
    "    acc_val.append(history.history['val_accuracy'][-1])\n",
    "    f1.append(history.history['f1_score'][-1])\n",
    "    f1_val.append(history.history['val_f1_score'][-1])\n",
    "    save_model = False\n",
    "    for key in history.history.keys():\n",
    "        if 'auc' in key and not 'val' in key:\n",
    "            auc.append(history.history[key][-1])\n",
    "        elif 'auc' in key and 'val' in key:\n",
    "            auc_val.append(history.history[key][-1])\n",
    "            if history.history[key][-1] > val_accuracy:\n",
    "                val_accuracy = history.history[key][-1]\n",
    "                save_model = True\n",
    "        if 'precision' in key and not 'val' in key:\n",
    "            precision.append(history.history[key][-1])\n",
    "        elif 'precision' in key and 'val' in key:\n",
    "            precision_val.append(history.history[key][-1])\n",
    "        if 'recall' in key and not 'val' in key:\n",
    "            recall.append(history.history[key][-1])\n",
    "        elif 'recall' in key and 'val' in key:\n",
    "            recall_val.append(history.history[key][-1])\n",
    "    if save_model:\n",
    "        rcnn_binary_earlyfusion_model.save(model_path / 'early_binary_rcnn.h5')"
   ]
  },
  {
   "cell_type": "markdown",
   "metadata": {},
   "source": [
    "#### Training performance"
   ]
  },
  {
   "cell_type": "code",
   "execution_count": null,
   "metadata": {},
   "outputs": [],
   "source": [
    "early_rcnn_train_results = {'Accuracy': np.average(acc), 'ROC/AUC': np.average(auc), 'Precision': np.average(precision), 'Recall': np.average(recall), 'F1-score': np.average(f1)}\n",
    "early_rcnn_train_results"
   ]
  },
  {
   "cell_type": "markdown",
   "metadata": {},
   "source": [
    "#### Validation performance"
   ]
  },
  {
   "cell_type": "code",
   "execution_count": null,
   "metadata": {},
   "outputs": [],
   "source": [
    "early_rcnn_val_results = {'Accuracy': np.average(acc_val), 'ROC/AUC': np.average(auc_val), 'Precision': np.average(precision_val), 'Recall': np.average(recall_val), 'F1-score': np.average(f1_val)}\n",
    "early_rcnn_val_results"
   ]
  },
  {
   "cell_type": "markdown",
   "metadata": {},
   "source": [
    "#### Predictions and performance on test set"
   ]
  },
  {
   "cell_type": "code",
   "execution_count": null,
   "metadata": {},
   "outputs": [],
   "source": [
    "rcnn_binary_earlyfusion_model = load_model(model_path / 'early_binary_rcnn.h5')\n",
    "y_pred = rcnn_binary_earlyfusion_model.predict(X_test)\n",
    "_, acc, auc, precision, recall, f1 = rcnn_binary_earlyfusion_model.evaluate(X_test, y_test)\n",
    "rnn_auc.append(round(auc, 2))\n",
    "print('Accuracy: {:.2f}% \\nROC/AUC: {:.2f} \\nPrecision: {:.2f} \\nRecall: {:.2f} \\nF1 score: {:.2f}'.format(acc * 100, auc, precision, recall, f1))"
   ]
  },
  {
   "cell_type": "code",
   "execution_count": null,
   "metadata": {},
   "outputs": [],
   "source": [
    "y_pred = np.where(y_pred > 0.5, 1, 0)\n",
    "skplt.metrics.plot_confusion_matrix(y_test, y_pred, normalize=True, figsize=(8,6))"
   ]
  },
  {
   "cell_type": "code",
   "execution_count": null,
   "metadata": {},
   "outputs": [],
   "source": [
    "fpr, tpr, _ = roc_curve(y_test, y_pred)\n",
    "plt.plot(fpr, tpr, label='RCNN')\n",
    "plt.legend()\n",
    "plt.show()"
   ]
  },
  {
   "cell_type": "code",
   "execution_count": null,
   "metadata": {},
   "outputs": [],
   "source": [
    "precision, recall, _ = precision_recall_curve(y_test, y_pred)\n",
    "disp = PrecisionRecallDisplay(precision=precision, recall=recall)\n",
    "disp.plot()"
   ]
  },
  {
   "cell_type": "markdown",
   "metadata": {},
   "source": [
    "## 4. Multimodal Late Fusion"
   ]
  },
  {
   "cell_type": "code",
   "execution_count": null,
   "metadata": {},
   "outputs": [],
   "source": [
    "body_X_train, body_X_test, body_y_train, body_y_test = load_dataset('skeleton', binary=True, fusion=True)\n",
    "body_X = body_X_train.copy()\n",
    "body_y = body_y_train.copy()\n",
    "\n",
    "print(body_X_train.shape, body_y_train.shape)\n",
    "print(body_X_test.shape, body_y_test.shape)"
   ]
  },
  {
   "cell_type": "code",
   "execution_count": null,
   "metadata": {},
   "outputs": [],
   "source": [
    "face_X_train, face_X_test, face_y_train, face_y_test = load_dataset('AUs', binary=True)\n",
    "face_X = face_X_train.copy()\n",
    "face_y = face_y_train.copy()\n",
    "\n",
    "print(face_X_train.shape, face_y_train.shape)\n",
    "print(face_X_test.shape, face_y_test.shape)"
   ]
  },
  {
   "cell_type": "code",
   "execution_count": null,
   "metadata": {},
   "outputs": [],
   "source": [
    "n_length, body_features, face_features, n_outputs = face_X_train.shape[2], body_X_train.shape[-1], face_X_train.shape[-1], body_y_train.shape[1]"
   ]
  },
  {
   "cell_type": "markdown",
   "metadata": {},
   "source": [
    "### 4.1 CNN + BiLSTM (Concatenation)"
   ]
  },
  {
   "cell_type": "code",
   "execution_count": null,
   "metadata": {},
   "outputs": [],
   "source": [
    "acc = []\n",
    "acc_val = []\n",
    "auc = []\n",
    "auc_val = []\n",
    "precision = []\n",
    "precision_val = []\n",
    "recall = []\n",
    "recall_val = []\n",
    "f1 = []\n",
    "f1_val = []\n",
    "val_accuracy = 0.0\n",
    "for train_index, val_index in kf.split(body_X):\n",
    "    body_X_train, body_X_val = body_X[train_index], body_X[val_index]\n",
    "    face_X_train, face_X_val = face_X[train_index], face_X[val_index]\n",
    "    y_train, y_val = y[train_index], y[val_index]\n",
    "    cnnlstm_binary_latefusion_model = CNNLSTM(body_features, face_features, n_length, n_outputs, fusion=True)\n",
    "    history = cnnlstm_binary_latefusion_model.trainFusioned(body_X_train, face_X_train, y_train, body_X_val, face_X_val, y_val, epochs=epochs, batch_size=32)\n",
    "    plt.plot(history.history['loss'])\n",
    "    plt.show()\n",
    "    acc.append(history.history['accuracy'][-1])\n",
    "    acc_val.append(history.history['val_accuracy'][-1])\n",
    "    f1.append(history.history['f1_score'][-1])\n",
    "    f1_val.append(history.history['val_f1_score'][-1])\n",
    "    save_model = False\n",
    "    for key in history.history.keys():\n",
    "        if 'auc' in key and not 'val' in key:\n",
    "            auc.append(history.history[key][-1])\n",
    "        elif 'auc' in key and 'val' in key:\n",
    "            auc_val.append(history.history[key][-1])\n",
    "            if history.history[key][-1] > val_accuracy:\n",
    "                val_accuracy = history.history[key][-1]\n",
    "                save_model = True\n",
    "        if 'precision' in key and not 'val' in key:\n",
    "            precision.append(history.history[key][-1])\n",
    "        elif 'precision' in key and 'val' in key:\n",
    "            precision_val.append(history.history[key][-1])\n",
    "        if 'recall' in key and not 'val' in key:\n",
    "            recall.append(history.history[key][-1])\n",
    "        elif 'recall' in key and 'val' in key:\n",
    "            recall_val.append(history.history[key][-1])\n",
    "    if save_model:\n",
    "        cnnlstm_binary_latefusion_model.save(model_path / 'late_binary_cnnlstm.h5')"
   ]
  },
  {
   "cell_type": "markdown",
   "metadata": {},
   "source": [
    "#### Training performance"
   ]
  },
  {
   "cell_type": "code",
   "execution_count": null,
   "metadata": {},
   "outputs": [],
   "source": [
    "late_cnnlstm_train_results = {'Accuracy': np.average(acc), 'ROC/AUC': np.average(auc), 'Precision': np.average(precision), 'Recall': np.average(recall), 'F1-score': np.average(f1)}\n",
    "late_cnnlstm_train_results"
   ]
  },
  {
   "cell_type": "markdown",
   "metadata": {},
   "source": [
    "#### Validation performance"
   ]
  },
  {
   "cell_type": "code",
   "execution_count": null,
   "metadata": {},
   "outputs": [],
   "source": [
    "late_cnnlstm_val_results = {'Accuracy': np.average(acc_val), 'ROC/AUC': np.average(auc_val), 'Precision': np.average(precision_val), 'Recall': np.average(recall_val), 'F1-score': np.average(f1_val)}\n",
    "late_cnnlstm_val_results"
   ]
  },
  {
   "cell_type": "markdown",
   "metadata": {},
   "source": [
    "#### Performance and predictions on test set"
   ]
  },
  {
   "cell_type": "code",
   "execution_count": null,
   "metadata": {},
   "outputs": [],
   "source": [
    "cnnlstm_binary_latefusion_model = load_model(model_path / 'late_binary_cnnlstm.h5')\n",
    "y_pred = cnnlstm_binary_latefusion_model.predict([body_X_test, face_X_test])\n",
    "_, acc, auc, precision, recall, f1 = cnnlstm_binary_latefusion_model.evaluate([body_X_test, face_X_test], y_test)\n",
    "cnn_auc.append(round(auc, 2))\n",
    "print('Accuracy: {:.2f}% \\nROC/AUC: {:.2f} \\nPrecision: {:.2f} \\nRecall: {:.2f} \\nF1 score: {:.2f}'.format(acc * 100, auc, precision, recall, f1))"
   ]
  },
  {
   "cell_type": "code",
   "execution_count": null,
   "metadata": {},
   "outputs": [],
   "source": [
    "y_pred = np.where(y_pred > 0.5, 1, 0)\n",
    "skplt.metrics.plot_confusion_matrix(y_test, y_pred, normalize=True, figsize=(8,6))"
   ]
  },
  {
   "cell_type": "code",
   "execution_count": null,
   "metadata": {},
   "outputs": [],
   "source": [
    "fpr, tpr, _ = roc_curve(y_test, y_pred)\n",
    "plt.plot(fpr, tpr, label='CNN + Bidirectional LSTM')\n",
    "plt.legend()\n",
    "plt.show()"
   ]
  },
  {
   "cell_type": "code",
   "execution_count": null,
   "metadata": {},
   "outputs": [],
   "source": [
    "precision, recall, _ = precision_recall_curve(y_test, y_pred)\n",
    "disp = PrecisionRecallDisplay(precision=precision, recall=recall)\n",
    "disp.plot()"
   ]
  },
  {
   "cell_type": "markdown",
   "metadata": {},
   "source": [
    "### 4.2 RCNN (Concatenation)"
   ]
  },
  {
   "cell_type": "code",
   "execution_count": null,
   "metadata": {},
   "outputs": [],
   "source": [
    "acc = []\n",
    "acc_val = []\n",
    "auc = []\n",
    "auc_val = []\n",
    "precision = []\n",
    "precision_val = []\n",
    "recall = []\n",
    "recall_val = []\n",
    "f1 = []\n",
    "f1_val = []\n",
    "val_accuracy = 0.0\n",
    "for train_index, val_index in kf.split(body_X):\n",
    "    body_X_train, body_X_val = body_X[train_index], body_X[val_index]\n",
    "    face_X_train, face_X_val = face_X[train_index], face_X[val_index]\n",
    "    y_train, y_val = y[train_index], y[val_index]\n",
    "    rcnn_binary_latefusion_model = RCNN(body_features, face_features, n_length, n_outputs, fusion=True)\n",
    "    history = rcnn_binary_latefusion_model.trainFusioned(body_X_train, face_X_train, y_train, body_X_val, face_X_val, y_val, epochs=epochs, batch_size=32)\n",
    "    plt.plot(history.history['loss'])\n",
    "    plt.show()\n",
    "    acc.append(history.history['accuracy'][-1])\n",
    "    acc_val.append(history.history['val_accuracy'][-1])\n",
    "    f1.append(history.history['f1_score'][-1])\n",
    "    f1_val.append(history.history['val_f1_score'][-1])\n",
    "    save_model = False\n",
    "    for key in history.history.keys():\n",
    "        if 'auc' in key and not 'val' in key:\n",
    "            auc.append(history.history[key][-1])\n",
    "        elif 'auc' in key and 'val' in key:\n",
    "            auc_val.append(history.history[key][-1])\n",
    "            if history.history[key][-1] > val_accuracy:\n",
    "                val_accuracy = history.history[key][-1]\n",
    "                save_model = True\n",
    "        if 'precision' in key and not 'val' in key:\n",
    "            precision.append(history.history[key][-1])\n",
    "        elif 'precision' in key and 'val' in key:\n",
    "            precision_val.append(history.history[key][-1])\n",
    "        if 'recall' in key and not 'val' in key:\n",
    "            recall.append(history.history[key][-1])\n",
    "        elif 'recall' in key and 'val' in key:\n",
    "            recall_val.append(history.history[key][-1])\n",
    "    if save_model:\n",
    "        rcnn_binary_latefusion_model.save(model_path / 'late_binary_rcnn.h5')"
   ]
  },
  {
   "cell_type": "markdown",
   "metadata": {},
   "source": [
    "#### Training performance"
   ]
  },
  {
   "cell_type": "code",
   "execution_count": null,
   "metadata": {},
   "outputs": [],
   "source": [
    "late_rcnn_train_results = {'Accuracy': np.average(acc), 'ROC/AUC': np.average(auc), 'Precision': np.average(precision), 'Recall': np.average(recall), 'F1-score': np.average(f1)}\n",
    "late_rcnn_train_results"
   ]
  },
  {
   "cell_type": "markdown",
   "metadata": {},
   "source": [
    "#### Validation performance"
   ]
  },
  {
   "cell_type": "code",
   "execution_count": null,
   "metadata": {},
   "outputs": [],
   "source": [
    "late_rcnn_val_results = {'Accuracy': np.average(acc_val), 'ROC/AUC': np.average(auc_val), 'Precision': np.average(precision_val), 'Recall': np.average(recall_val), 'F1-score': np.average(f1_val)}\n",
    "late_rcnn_val_results"
   ]
  },
  {
   "cell_type": "markdown",
   "metadata": {},
   "source": [
    "#### Predictions and performance on test set"
   ]
  },
  {
   "cell_type": "code",
   "execution_count": null,
   "metadata": {},
   "outputs": [],
   "source": [
    "rcnn_binary_latefusion_model = load_model(model_path / 'late_binary_rcnn.h5')\n",
    "y_pred = rcnn_binary_latefusion_model.predict([body_X_test, face_X_test])\n",
    "_, acc, auc, precision, recall, f1 = rcnn_binary_latefusion_model.evaluate([body_X_test, face_X_test], y_test)\n",
    "rnn_auc.append(round(auc, 2))\n",
    "print('Accuracy: {:.2f}% \\nROC/AUC: {:.2f} \\nPrecision: {:.2f} \\nRecall: {:.2f} \\nF1 score: {:.2f}'.format(acc * 100, auc, precision, recall, f1))"
   ]
  },
  {
   "cell_type": "code",
   "execution_count": null,
   "metadata": {},
   "outputs": [],
   "source": [
    "y_pred = np.where(y_pred > 0.5, 1, 0)\n",
    "skplt.metrics.plot_confusion_matrix(y_test, y_pred, normalize=True, figsize=(8,6))"
   ]
  },
  {
   "cell_type": "code",
   "execution_count": null,
   "metadata": {},
   "outputs": [],
   "source": [
    "fpr, tpr, _ = roc_curve(y_test, y_pred)\n",
    "plt.plot(fpr, tpr, label='RCNN')\n",
    "plt.legend()\n",
    "plt.show()"
   ]
  },
  {
   "cell_type": "code",
   "execution_count": null,
   "metadata": {},
   "outputs": [],
   "source": [
    "precision, recall, _ = precision_recall_curve(y_test, y_pred)\n",
    "disp = PrecisionRecallDisplay(precision=precision, recall=recall)\n",
    "disp.plot()"
   ]
  },
  {
   "cell_type": "markdown",
   "metadata": {},
   "source": [
    "### 4.3 Ensemble"
   ]
  },
  {
   "cell_type": "code",
   "execution_count": null,
   "metadata": {},
   "outputs": [],
   "source": [
    "cnnlstm_body_member = KerasMember(name=\"CNN + Bidirectional LSTM Body Model\", keras_model=cnnlstm_binary_body_model, train_batches=(body_X_train, y_train), val_batches=(body_X_test, body_y_test))\n",
    "rcnn_body_member = KerasMember(name=\"RCNN Body Model\", keras_model=rcnn_binary_body_model, train_batches=(body_X_train, y_train), val_batches=(body_X_test, body_y_test))\n",
    "cnnlstm_face_member = KerasMember(name=\"CNN + Bidirectional LSTM Face Model\", keras_model=cnnlstm_binary_face_model, train_batches=(face_X_train, y_train), val_batches=(face_X_test, face_y_test))\n",
    "rcnn_face_member = KerasMember(name=\"RCNN Face Model\", keras_model=rcnn_binary_face_model, train_batches=(face_X_train, y_train), val_batches=(face_X_test, face_y_test))"
   ]
  },
  {
   "cell_type": "code",
   "execution_count": null,
   "metadata": {},
   "outputs": [],
   "source": [
    "dirichletEnsemble = DirichletEnsemble()\n",
    "dirichletEnsemble.add_member(cnnlstm_body_member)\n",
    "dirichletEnsemble.add_member(rcnn_body_member)\n",
    "dirichletEnsemble.add_member(cnnlstm_face_member)\n",
    "dirichletEnsemble.add_member(rcnn_face_member)\n",
    "dirichletEnsemble.fit()"
   ]
  },
  {
   "cell_type": "code",
   "execution_count": null,
   "metadata": {},
   "outputs": [],
   "source": [
    "e = dirichletEnsemble.describe()\n",
    "cnn_auc.append(round(e, 2))\n",
    "rnn_auc.append(0)"
   ]
  },
  {
   "cell_type": "markdown",
   "metadata": {},
   "source": [
    "## Results"
   ]
  },
  {
   "cell_type": "code",
   "execution_count": null,
   "metadata": {},
   "outputs": [],
   "source": [
    "labels = ['Unimodal (Body)', 'Unimodal (Face)', 'Early Fusion', 'Late Fusion', 'Ensemble']\n",
    "\n",
    "x = np.arange(len(labels)) \n",
    "width = 0.35 \n",
    "\n",
    "fig, ax = plt.subplots(figsize=(14, 10))\n",
    "rects1 = ax.bar(x - width/2, cnn_auc, width, label='CNN + BiLSTM')\n",
    "rects2 = ax.bar(x + width/2, rnn_auc, width, label='RCNN')\n",
    "\n",
    "ax.set_title('Baseline AUC (Binary Classification)')\n",
    "ax.set_xticks(x, labels)\n",
    "ax.legend()\n",
    "\n",
    "ax.bar_label(rects1, padding=3)\n",
    "ax.bar_label(rects2, padding=3)\n",
    "\n",
    "fig.tight_layout()\n",
    "\n",
    "plt.show()"
   ]
  }
 ],
 "metadata": {
  "interpreter": {
   "hash": "225abd0b4b41c85229fb7285a24282bb8b7c5c494a1c5011beaea88d2c1fa3cf"
  },
  "kernelspec": {
   "display_name": "Python 3.9.12 ('masters-thesis-dSEc-4wZ')",
   "language": "python",
   "name": "python3"
  },
  "language_info": {
   "codemirror_mode": {
    "name": "ipython",
    "version": 3
   },
   "file_extension": ".py",
   "mimetype": "text/x-python",
   "name": "python",
   "nbconvert_exporter": "python",
   "pygments_lexer": "ipython3",
   "version": "3.9.12"
  },
  "orig_nbformat": 4
 },
 "nbformat": 4,
 "nbformat_minor": 2
}
